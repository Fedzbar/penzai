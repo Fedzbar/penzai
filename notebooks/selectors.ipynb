{
 "cells": [
  {
   "cell_type": "markdown",
   "metadata": {
    "id": "DfejMHs4lr8V"
   },
   "source": [
    "*Copyright 2024 The Penzai Authors.*\n",
    "\n",
    "*Licensed under the Apache License, Version 2.0 (the \"License\"); you may not use this file except in compliance with the License.\n",
    "You may obtain a copy of the License at*\n",
    "\n",
    "> http://www.apache.org/licenses/LICENSE-2.0\n",
    "\n",
    "*Unless required by applicable law or agreed to in writing, software\n",
    "distributed under the License is distributed on an \"AS IS\" BASIS,\n",
    "WITHOUT WARRANTIES OR CONDITIONS OF ANY KIND, either express or  implied.\n",
    "See the License for the specific language governing permissions and\n",
    "limitations under the License.*\n",
    "\n",
    "---"
   ]
  },
  {
   "cell_type": "markdown",
   "metadata": {
    "id": "USGIPdLYDzSo"
   },
   "source": [
    "[![Open in Colab](https://colab.research.google.com/assets/colab-badge.svg)](https://colab.research.google.com/github/google-deepmind/penzai/blob/main/notebooks/selectors.ipynb) [![Open in Kaggle](https://kaggle.com/static/images/open-in-kaggle.svg)](https://kaggle.com/kernels/welcome?src=https://github.com/google-deepmind/penzai/blob/main/notebooks/selectors.ipynb)"
   ]
  },
  {
   "cell_type": "markdown",
   "metadata": {
    "id": "RbZ02bVnH7LL"
   },
   "source": [
    "# Selectors and Selections"
   ]
  },
  {
   "cell_type": "markdown",
   "metadata": {
    "id": "FG4w_VU1H_WN"
   },
   "source": [
    "Penzai is designed to make it easy to make targeted modifications to models and parameter trees. For this purpose, Penzai provides a powerful \"selection\" system to allow you to identify, visualize, and modify arbitrary JAX PyTrees. In short, `pz.select` enables `.at[...].set(...)`-style modification for arbitrary PyTree types.\n",
    "\n",
    "This notebook describes the basics of Penzai's selection object and shows how you can use it to make a variety of modifications.\n"
   ]
  },
  {
   "cell_type": "markdown",
   "metadata": {
    "id": "SHr2rnIL8DzM"
   },
   "source": [
    "## Setup"
   ]
  },
  {
   "cell_type": "markdown",
   "metadata": {
    "id": "VkW4lYKAu-oR"
   },
   "source": [
    "We'll start by setting up the environment."
   ]
  },
  {
   "cell_type": "markdown",
   "metadata": {
    "id": "ozG8ERNavDos"
   },
   "source": [
    "### Imports"
   ]
  },
  {
   "cell_type": "markdown",
   "metadata": {
    "id": "xmxgAcFQmZkB"
   },
   "source": [
    "To run this notebook, you need a Python environment with `penzai` and its dependencies installed.\n",
    "\n",
    "In Colab or Kaggle, you can install it using the following command:"
   ]
  },
  {
   "cell_type": "code",
   "execution_count": 1,
   "metadata": {
    "execution": {
     "iopub.execute_input": "2024-05-28T18:16:51.715905Z",
     "iopub.status.busy": "2024-05-28T18:16:51.715656Z",
     "iopub.status.idle": "2024-05-28T18:16:51.719438Z",
     "shell.execute_reply": "2024-05-28T18:16:51.718787Z"
    },
    "id": "XGZH58j8mPkj"
   },
   "outputs": [],
   "source": [
    "try:\n",
    "  import penzai\n",
    "except ImportError:\n",
    "  !pip install penzai[notebook]"
   ]
  },
  {
   "cell_type": "code",
   "execution_count": 2,
   "metadata": {
    "execution": {
     "iopub.execute_input": "2024-05-28T18:16:51.722760Z",
     "iopub.status.busy": "2024-05-28T18:16:51.722534Z",
     "iopub.status.idle": "2024-05-28T18:16:52.118011Z",
     "shell.execute_reply": "2024-05-28T18:16:52.117179Z"
    },
    "id": "iog3oMAMGCMG"
   },
   "outputs": [],
   "source": [
    "from __future__ import annotations\n",
    "import typing\n",
    "import traceback\n",
    "\n",
    "import jax\n",
    "import jax.numpy as jnp"
   ]
  },
  {
   "cell_type": "code",
   "execution_count": 3,
   "metadata": {
    "execution": {
     "iopub.execute_input": "2024-05-28T18:16:52.122299Z",
     "iopub.status.busy": "2024-05-28T18:16:52.121999Z",
     "iopub.status.idle": "2024-05-28T18:16:52.302415Z",
     "shell.execute_reply": "2024-05-28T18:16:52.301629Z"
    },
    "id": "5Mh2mAuiQ4aa"
   },
   "outputs": [],
   "source": [
    "import penzai\n",
    "from penzai import pz"
   ]
  },
  {
   "cell_type": "code",
   "execution_count": 4,
   "metadata": {
    "execution": {
     "iopub.execute_input": "2024-05-28T18:16:52.306670Z",
     "iopub.status.busy": "2024-05-28T18:16:52.306416Z",
     "iopub.status.idle": "2024-05-28T18:16:52.311184Z",
     "shell.execute_reply": "2024-05-28T18:16:52.310571Z"
    },
    "id": "QMSmQSSzOOnj"
   },
   "outputs": [],
   "source": [
    "from penzai.example_models import simple_mlp"
   ]
  },
  {
   "cell_type": "markdown",
   "metadata": {
    "id": "OGzhV5uWvkvB"
   },
   "source": [
    "### Setting up Penzai"
   ]
  },
  {
   "cell_type": "markdown",
   "metadata": {
    "id": "TjGkV8F8vmpi"
   },
   "source": [
    "For this tutorial, we'll enable Treescope (Penzai's pretty-printer) as the default IPython pretty-printer. This is recommended when using Penzai in an interactive environment."
   ]
  },
  {
   "cell_type": "code",
   "execution_count": 5,
   "metadata": {
    "execution": {
     "iopub.execute_input": "2024-05-28T18:16:52.315044Z",
     "iopub.status.busy": "2024-05-28T18:16:52.314809Z",
     "iopub.status.idle": "2024-05-28T18:16:57.908240Z",
     "shell.execute_reply": "2024-05-28T18:16:57.907280Z"
    },
    "id": "YodWk_jmva_7"
   },
   "outputs": [],
   "source": [
    "pz.ts.register_as_default()\n",
    "pz.ts.register_autovisualize_magic()\n",
    "pz.ts.register_context_manager_magic()"
   ]
  },
  {
   "cell_type": "markdown",
   "metadata": {
    "id": "3egey4t42OTo"
   },
   "source": [
    "## What are selectors?"
   ]
  },
  {
   "cell_type": "markdown",
   "metadata": {
    "id": "SmFOag2y2UjQ"
   },
   "source": [
    "If you're familiar with JAX, you probably know that JAX arrays are immutable. This maens that it's not possible to directly assign to elements of a JAX array:"
   ]
  },
  {
   "cell_type": "code",
   "execution_count": 6,
   "metadata": {
    "execution": {
     "iopub.execute_input": "2024-05-28T18:16:57.913431Z",
     "iopub.status.busy": "2024-05-28T18:16:57.913190Z",
     "iopub.status.idle": "2024-05-28T18:16:58.861946Z",
     "shell.execute_reply": "2024-05-28T18:16:58.860836Z"
    },
    "id": "V4fKIMM4807s"
   },
   "outputs": [
    {
     "data": {
      "text/html": [
       "<div id=\"output_3bbc5ed2e1434bf0adecaa671c832638\"><script> /* penzai.treescope rendering of a Python object (compressed) */ (()=>{ let observer; let lastStep = new Promise((resolve, reject) => { observer = new IntersectionObserver((entries) => { for (const entry of entries) { if (entry.isIntersecting) { resolve(); observer.disconnect(); return; } } }, {rootMargin: \"1000px\"}); }); window.treescope_decompress_enqueue = (encoded, destId) => { const previous = lastStep; const destElt = document.getElementById(destId); lastStep = (async () => { await previous; let blob = new Blob([ Uint8Array.from(atob(encoded), (m) => m.codePointAt(0)) ]); let reader = blob.stream().pipeThrough( new DecompressionStream(\"deflate\") ).pipeThrough( new TextDecoderStream(\"utf-8\") ).getReader(); let parts = []; while (true) { let step = await reader.read(); if (step.done) { break; } parts.push(step.value); } let newElt = document.createElement(\"div\"); newElt.innerHTML = parts.join(\"\"); destElt.parentNode.replaceChild(newElt, destElt); for (let oldScript of newElt.querySelectorAll(\"script\")) { let newScript = document.createElement(\"script\"); newScript.type = oldScript.type; newScript.textContent = oldScript.textContent; oldScript.parentNode.replaceChild(newScript, oldScript); } })(); requestAnimationFrame(() => { observer.observe(destElt); }); } })(); </script><div id=\"compress_html_17e3dfb8e67f43d7aa370886fb1d4e96\"><script>window.treescope_decompress_enqueue(\"eNrFV91v2zYQ/1euGpDKQawkdpO1km0g6DbsodhLB+xhGwRaOlmcaVIjqSRe4f99R0q2ZVtuM6zY7AeZx/v43bc8MXYtcBZZjWgyVWGqlbLwCSpluOVKxqBRMMsfMYFCSTss2IqLdQwrJZWpWEb0p5JbHPpDDJUmiuDGDr3qoV1XRJVKEnnOsuVCq1rmw0wJpeNGNIH2NBfEQPp4bssYCm6JTVqUNoEV0wsuhwILG8MoK50NicMS+aIkym10l8Bmct24MzGZ5pWdAS8gfOIyV097D2E6nQJBwIIU5APy9ZQDPm2SE3KUVihzLhcPmYuMIbZff/8i249M5sKplLUQPdwLtOlR9KcQboOeWjWA6YxAXl/CB6WWlAQNtkTwnFLlGMHlNQi00Mp2RH1qyHjY3L2aQq6yekUBjeYqX8PFBbxyN1EmmDEfKGmRCzjj0oTBIahgAC5UWxtOqGKaNH0vcOUztCHLttbSX9Kxx1ddy49KSefgk9LL1jMyaSwh+4VI7uqAbHnmiBVqcnzFZIaRVE/hYOfayQ0MG6EJjEcOcl8NHKcyEigXtqTSgJu+ivh8Thu/XQRQGNxDL2vpsH/RuCl5YZ1LXsL92ND3pRjCLafGP2s09kHyFXMcP2i2wrCJ62DQn5FjKFVtyiY3yUsCtwUxbULxT0L3cti9wFGSVI3fYYFaY/4zrioqezSnBVQJR9wVPonp9UcUmFmlH4SgQm9lu0OwlqmhSg0GiW+40PUXaQJVeIXOUXp2+kbjSj3iQdd0dJzrhHCL1ekvtPoLXXN4zc3gO4QbBs1gcyqdBJ26rmUayY22Ibu89Ctyc5iYGyP+1NLx2b5vjHWu98TEw2l6/Sc3bjRStDJ8T+2Xh6ThyjG4PJ3NlVWLhWjGSOqnvyVgfsoRBYW9Anwk7W0oXNn5c7TEtevIQAfb0UPMnZg3esNgpzNdEcBgi2MDtA+aRTDJ+SN4wenxXAPL5gQYn6fBTQBKklFCLzt8/fhDW3KzRR7QymkWad4WZOqDVCqRo/a16BfcN+xb921XqReJgVsmeEZ4o4LY2ZxMubl+Zglv4JAtbdARd84NGV1vl+0xI8xAsDmKOJ4j1TR2UGX+k/Taazbu8Nat3HYx3yR7W1z6PTwXym3uszZLag59ajlnemmQLSjU8lQ6lsqGR6SSmXDmdc564+Bl4qzEbEnLfQCXgz0GJ9ovtOU/QOjLP4bXv43u5tnr/xPeodBZkPf/AUiXR2e41sYlsFKcEOgeu9x8PbO+Fbyhoe83c67Gv47VvXtuDp5aibhJC66NTZVMXfn3tNbnWika3blu6k0V/Gv4TcaPITqvDt6hfUN33pgrJoHn02A3wN7Ox9nbu2w8vr9/9yYvMnaPb27H75CN8vHdWzYKWqF2rB72/bF5Ym6cmHBZ1bRLaf9MAw97rp6DXiWth3TZeDebXHthera6uvb7Bm8wuxA2+YM9Rw9aszUUQjE7HoW3N1dwSy96URTBxcImFAXSNDt+0NLY/ZV48QtIONhtnb8BoA7CIw==\", \"compress_html_17e3dfb8e67f43d7aa370886fb1d4e96\");</script><span style=\"color: #aaaaaa; font-family: monospace\">(Loading...)</span></div></div>"
      ],
      "text/plain": [
       "<IPython.core.display.HTML object>"
      ]
     },
     "metadata": {},
     "output_type": "display_data"
    },
    {
     "data": {
      "text/html": [
       "<div id=\"compress_html_ff5e38e21b124308895d03685c9a55e0\"><script>window.treescope_decompress_enqueue(\"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\", \"compress_html_ff5e38e21b124308895d03685c9a55e0\");</script></div>"
      ],
      "text/plain": [
       "<IPython.core.display.HTML object>"
      ]
     },
     "metadata": {},
     "output_type": "display_data"
    },
    {
     "data": {
      "text/html": [
       "<div id=\"output_dest_3bbc5ed2e1434bf0adecaa671c832638\"><script> (()=>{ const output = document.getElementById(\"output_3bbc5ed2e1434bf0adecaa671c832638\"); const dest = document.getElementById(\"output_dest_3bbc5ed2e1434bf0adecaa671c832638\"); dest.parentNode.replaceChild(output, dest); })(); </script></div>"
      ],
      "text/plain": [
       "# jax.Array float32(10, 10) ≈0.0 ±0.0 [≥0.0, ≤0.0] zero:100\n",
       "  Array([[0., 0., 0., 0., 0., 0., 0., 0., 0., 0.],\n",
       "         [0., 0., 0., 0., 0., 0., 0., 0., 0., 0.],\n",
       "         [0., 0., 0., 0., 0., 0., 0., 0., 0., 0.],\n",
       "         [0., 0., 0., 0., 0., 0., 0., 0., 0., 0.],\n",
       "         [0., 0., 0., 0., 0., 0., 0., 0., 0., 0.],\n",
       "         [0., 0., 0., 0., 0., 0., 0., 0., 0., 0.],\n",
       "         [0., 0., 0., 0., 0., 0., 0., 0., 0., 0.],\n",
       "         [0., 0., 0., 0., 0., 0., 0., 0., 0., 0.],\n",
       "         [0., 0., 0., 0., 0., 0., 0., 0., 0., 0.],\n",
       "         [0., 0., 0., 0., 0., 0., 0., 0., 0., 0.]], dtype=float32)\n"
      ]
     },
     "execution_count": 6,
     "metadata": {},
     "output_type": "execute_result"
    }
   ],
   "source": [
    "array = jnp.zeros((10, 10))\n",
    "array"
   ]
  },
  {
   "cell_type": "code",
   "execution_count": 7,
   "metadata": {
    "execution": {
     "iopub.execute_input": "2024-05-28T18:16:58.865868Z",
     "iopub.status.busy": "2024-05-28T18:16:58.865617Z",
     "iopub.status.idle": "2024-05-28T18:16:58.871445Z",
     "shell.execute_reply": "2024-05-28T18:16:58.870433Z"
    },
    "id": "HYD71Mqo89Bf"
   },
   "outputs": [
    {
     "name": "stderr",
     "output_type": "stream",
     "text": [
      "Traceback (most recent call last):\n",
      "  File \"<ipython-input-7-5c112bb0ee90>\", line 2, in <cell line: 1>\n",
      "    array[1, 2] = 42\n",
      "  File \"/usr/local/lib/python3.10/dist-packages/jax/_src/numpy/array_methods.py\", line 278, in _unimplemented_setitem\n",
      "    raise TypeError(msg.format(type(self)))\n",
      "TypeError: '<class 'jaxlib.xla_extension.ArrayImpl'>' object does not support item assignment. JAX arrays are immutable. Instead of ``x[idx] = y``, use ``x = x.at[idx].set(y)`` or another .at[] method: https://jax.readthedocs.io/en/latest/_autosummary/jax.numpy.ndarray.at.html\n"
     ]
    }
   ],
   "source": [
    "try:\n",
    "  array[1, 2] = 42\n",
    "except TypeError:\n",
    "  import traceback\n",
    "  traceback.print_exc()"
   ]
  },
  {
   "cell_type": "markdown",
   "metadata": {
    "id": "GyEJo0EV9Kld"
   },
   "source": [
    "Instead, to modify a JAX array you can use the special `.at` property, which returns a modified copy of the original array with changes at the location you specified:"
   ]
  },
  {
   "cell_type": "code",
   "execution_count": 8,
   "metadata": {
    "execution": {
     "iopub.execute_input": "2024-05-28T18:16:58.874868Z",
     "iopub.status.busy": "2024-05-28T18:16:58.874646Z",
     "iopub.status.idle": "2024-05-28T18:16:59.100606Z",
     "shell.execute_reply": "2024-05-28T18:16:59.099620Z"
    },
    "id": "o6Ydo5jt8_Oo"
   },
   "outputs": [
    {
     "data": {
      "text/html": [
       "<div id=\"output_de2091a88d8f4762a34131dd094bbcc4\"><script> /* penzai.treescope rendering of a Python object (compressed) */ (()=>{ let observer; let lastStep = new Promise((resolve, reject) => { observer = new IntersectionObserver((entries) => { for (const entry of entries) { if (entry.isIntersecting) { resolve(); observer.disconnect(); return; } } }, {rootMargin: \"1000px\"}); }); window.treescope_decompress_enqueue = (encoded, destId) => { const previous = lastStep; const destElt = document.getElementById(destId); lastStep = (async () => { await previous; let blob = new Blob([ Uint8Array.from(atob(encoded), (m) => m.codePointAt(0)) ]); let reader = blob.stream().pipeThrough( new DecompressionStream(\"deflate\") ).pipeThrough( new TextDecoderStream(\"utf-8\") ).getReader(); let parts = []; while (true) { let step = await reader.read(); if (step.done) { break; } parts.push(step.value); } let newElt = document.createElement(\"div\"); newElt.innerHTML = parts.join(\"\"); destElt.parentNode.replaceChild(newElt, destElt); for (let oldScript of newElt.querySelectorAll(\"script\")) { let newScript = document.createElement(\"script\"); newScript.type = oldScript.type; newScript.textContent = oldScript.textContent; oldScript.parentNode.replaceChild(newScript, oldScript); } })(); requestAnimationFrame(() => { observer.observe(destElt); }); } })(); </script><div id=\"compress_html_166a0fcb717f4334baffedda51ba9e7d\"><script>window.treescope_decompress_enqueue(\"eNrFV91v2zYQ/1euGpDKQawkTtIEkm0g6FbsodhLB+xhGwRaOlmcaVIjqSRe4f99R0q2ZVtuM6zY7AeZx/v43bc8NnYlcBpZjWgyVWGqlbLwGSpluOVKxqBRMMufMIFCSTss2JKLVQxLJZWpWEb055JbHPpDDJUmiuDGDr3qoV1VRJVKEnnGssVcq1rmw0wJpeNGNIH2NBPEQPp4bssYCm6JTVqUNoEl03MuhwILG8MoK50NicMS+bwkynV0l8B6fNm4MzaZ5pWdAi8gfOYyV887D2EymQBBwIIU5APy9ZgDPq+TI3KUVihzLuePmYuMIbZff/8q249M5sKplLUQPdxztOlB9CcQboKeWjWAyZRAXp7DR6UWlAQNtkTwnFLlGMH5JQi00Mp2RH1qyHjY3L2ZQK6yekkBjWYqX8HZGbxxN1EmmDEfKWmRCzjj0oTBPqhgAC5UGxtOqGKaNP0gcOkztCbLttbSX9Kxx1ddy09KSefgs9KL1jMyaSwh+4VI7mqPbHnmiBVqcnzJZIaRVM/hYOva0Q0MG6Ex3Iwc5L4aOExlJFDObUmlAVd9FfHlnDZ+uwigMLiDXtbSYf+qcVPywjqXvIT7sabvazGEG06Nf9Zo7KPkS+Y4Pmi2xLCJ62DQn5FDKFVtyiY3yWsCtwExaULxT0L3eti9wFGSVI3fY4FaY/4zLisqezTHBVQJR9wWPonp1ScUmFmlH4WgQm9lu0OwlqmhSg0GiW+40PUXaQJVeIXOUXp2+kbjUj3hXtd0dJzqhHCD1ekvtPoLXXN4zc3g24cbBs1gcyqdBJ26rmUayY22Ibu89Ctyc5iYGyP+1NLxxb5vjHWud8TEw2l6/Sc3bjRStDJ8T+2Xh6ThwjG4PJ3MlVXzuWjGSOqnvyVgfsoRBYW9AHwi7W0oXNn5c7TAlevIQAeb0UPMnZg3esNgqzNdEsBgg2MNtA+aRTDO+RN4wcnhXAPLZgQYXybBVQBKklFCLzt8/fhDW3KzQR7QymkWad4WZOqDVCqRo/a16Bfcd+zefdtV6kVi4JYJnhHeqCB2NiNTbq6fWMJr2GdLG3TEnXNDRlebZXvICFMQbIYijmdINY0dVJn/JL32mo07vHYrt13MV8nOFpd+D8+Ecpv7pM2SmkMfW86ZXhhkcwq1PJaOpbLhAalkJpx6ndPeOHiZOCsxW9ByH8D5YIfBifYLbfj3EPryj+Htb6O7Wfb2/4S3L3QS5Lv/AKTLozNca+MSWClOCHSPXW6+nVnfCt7Q0PebOVXj38bqzj03B4+tRNykBdfGpkqmrvx7WutLrRSN7lw39aYK/jX8JuOHEJ1Xe+/QvqE7b8wVk8DzSbAdYOw+y24f7t49PIyub29obN0W70Y3N1jcPzB8yO+DVqgdq/t9f2iemBsnxlxWNe1S2j+TwMOeqZegV0nrIV023k3Hl16Ynq2urv2+wRtMz4RN/mAv0aPWbAWFUMzejMLrqwu4phe9KIrgbG4TigJpmh4+aGls/0q8+gUkHGy3zt9wusH+\", \"compress_html_166a0fcb717f4334baffedda51ba9e7d\");</script><span style=\"color: #aaaaaa; font-family: monospace\">(Loading...)</span></div></div>"
      ],
      "text/plain": [
       "<IPython.core.display.HTML object>"
      ]
     },
     "metadata": {},
     "output_type": "display_data"
    },
    {
     "data": {
      "text/html": [
       "<div id=\"compress_html_3deb9a79a70c4d098799cc31c233fb72\"><script>window.treescope_decompress_enqueue(\"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\", \"compress_html_3deb9a79a70c4d098799cc31c233fb72\");</script></div>"
      ],
      "text/plain": [
       "<IPython.core.display.HTML object>"
      ]
     },
     "metadata": {},
     "output_type": "display_data"
    },
    {
     "data": {
      "text/html": [
       "<div id=\"output_dest_de2091a88d8f4762a34131dd094bbcc4\"><script> (()=>{ const output = document.getElementById(\"output_de2091a88d8f4762a34131dd094bbcc4\"); const dest = document.getElementById(\"output_dest_de2091a88d8f4762a34131dd094bbcc4\"); dest.parentNode.replaceChild(output, dest); })(); </script></div>"
      ],
      "text/plain": [
       "# jax.Array float32(10, 10) ≈0.42 ±4.2 [≥0.0, ≤4.2e+01] zero:99 nonzero:1\n",
       "  Array([[ 0.,  0.,  0.,  0.,  0.,  0.,  0.,  0.,  0.,  0.],\n",
       "         [ 0.,  0., 42.,  0.,  0.,  0.,  0.,  0.,  0.,  0.],\n",
       "         [ 0.,  0.,  0.,  0.,  0.,  0.,  0.,  0.,  0.,  0.],\n",
       "         [ 0.,  0.,  0.,  0.,  0.,  0.,  0.,  0.,  0.,  0.],\n",
       "         [ 0.,  0.,  0.,  0.,  0.,  0.,  0.,  0.,  0.,  0.],\n",
       "         [ 0.,  0.,  0.,  0.,  0.,  0.,  0.,  0.,  0.,  0.],\n",
       "         [ 0.,  0.,  0.,  0.,  0.,  0.,  0.,  0.,  0.,  0.],\n",
       "         [ 0.,  0.,  0.,  0.,  0.,  0.,  0.,  0.,  0.,  0.],\n",
       "         [ 0.,  0.,  0.,  0.,  0.,  0.,  0.,  0.,  0.,  0.],\n",
       "         [ 0.,  0.,  0.,  0.,  0.,  0.,  0.,  0.,  0.,  0.]], dtype=float32)\n"
      ]
     },
     "execution_count": 8,
     "metadata": {},
     "output_type": "execute_result"
    }
   ],
   "source": [
    "modified_array = array.at[1, 2].set(42)\n",
    "modified_array"
   ]
  },
  {
   "cell_type": "markdown",
   "metadata": {
    "id": "AfD7GKrc-KFP"
   },
   "source": [
    "JAX also introduces the concept of [PyTrees](https://jax.readthedocs.io/en/latest/pytrees.html): nested containers of data that JAX knows how to traverse. Most JAX transformations are designed to work with functions that take PyTrees as input and return PyTrees as output.\n",
    "\n",
    "Although JAX does treat dictionaries and lists as PyTrees, JAX usually assumes that those trees will not be mutated, and expects the user to write code in a functional style, avoiding mutating its arguments directly.\n",
    "\n",
    "**`pz.select` enables `.at[...].set(...)`-style modification for arbitrary PyTrees**, making it possible to perform complex path-based and type-driven modifications to the objects you're already using:"
   ]
  },
  {
   "cell_type": "code",
   "execution_count": 9,
   "metadata": {
    "execution": {
     "iopub.execute_input": "2024-05-28T18:16:59.104756Z",
     "iopub.status.busy": "2024-05-28T18:16:59.104503Z",
     "iopub.status.idle": "2024-05-28T18:16:59.184985Z",
     "shell.execute_reply": "2024-05-28T18:16:59.183938Z"
    },
    "id": "qMN5Bzdq-A7q"
   },
   "outputs": [],
   "source": [
    "my_nested_object = {\n",
    "    \"a\": 1,\n",
    "    \"b\": jnp.arange(10),\n",
    "    \"c\": [\n",
    "        {\"value\": jnp.arange(12)},\n",
    "        {\"value\": jnp.zeros([7])},\n",
    "        {\"value\": 3},\n",
    "    ]\n",
    "}"
   ]
  },
  {
   "cell_type": "code",
   "execution_count": 10,
   "metadata": {
    "execution": {
     "iopub.execute_input": "2024-05-28T18:16:59.189656Z",
     "iopub.status.busy": "2024-05-28T18:16:59.189383Z",
     "iopub.status.idle": "2024-05-28T18:16:59.266574Z",
     "shell.execute_reply": "2024-05-28T18:16:59.265651Z"
    },
    "id": "yPqRBFmD9N4V"
   },
   "outputs": [
    {
     "data": {
      "text/html": [
       "<div id=\"output_9b8cd709acb44395914a2abc1464ba6f\"><script> /* penzai.treescope rendering of a Python object (compressed) */ (()=>{ let observer; let lastStep = new Promise((resolve, reject) => { observer = new IntersectionObserver((entries) => { for (const entry of entries) { if (entry.isIntersecting) { resolve(); observer.disconnect(); return; } } }, {rootMargin: \"1000px\"}); }); window.treescope_decompress_enqueue = (encoded, destId) => { const previous = lastStep; const destElt = document.getElementById(destId); lastStep = (async () => { await previous; let blob = new Blob([ Uint8Array.from(atob(encoded), (m) => m.codePointAt(0)) ]); let reader = blob.stream().pipeThrough( new DecompressionStream(\"deflate\") ).pipeThrough( new TextDecoderStream(\"utf-8\") ).getReader(); let parts = []; while (true) { let step = await reader.read(); if (step.done) { break; } parts.push(step.value); } let newElt = document.createElement(\"div\"); newElt.innerHTML = parts.join(\"\"); destElt.parentNode.replaceChild(newElt, destElt); for (let oldScript of newElt.querySelectorAll(\"script\")) { let newScript = document.createElement(\"script\"); newScript.type = oldScript.type; newScript.textContent = oldScript.textContent; oldScript.parentNode.replaceChild(newScript, oldScript); } })(); requestAnimationFrame(() => { observer.observe(destElt); }); } })(); </script><div id=\"compress_html_28dd54723eb745fe8c194620788a233e\"><script>window.treescope_decompress_enqueue(\"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\", \"compress_html_28dd54723eb745fe8c194620788a233e\");</script><span style=\"color: #aaaaaa; font-family: monospace\">(Loading...)</span></div></div>"
      ],
      "text/plain": [
       "<IPython.core.display.HTML object>"
      ]
     },
     "metadata": {},
     "output_type": "display_data"
    },
    {
     "data": {
      "text/html": [
       "<div id=\"compress_html_8dabfaf00b3a43479e354e09d19a52fd\"><script>window.treescope_decompress_enqueue(\"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\", \"compress_html_8dabfaf00b3a43479e354e09d19a52fd\");</script></div>"
      ],
      "text/plain": [
       "<IPython.core.display.HTML object>"
      ]
     },
     "metadata": {},
     "output_type": "display_data"
    },
    {
     "data": {
      "text/html": [
       "<div id=\"output_dest_9b8cd709acb44395914a2abc1464ba6f\"><script> (()=>{ const output = document.getElementById(\"output_9b8cd709acb44395914a2abc1464ba6f\"); const dest = document.getElementById(\"output_dest_9b8cd709acb44395914a2abc1464ba6f\"); dest.parentNode.replaceChild(output, dest); })(); </script></div>"
      ],
      "text/plain": [
       "{'a': 1,\n",
       " 'b': <jax.Array([0, 1, 2, 3, 4, 5, 6, 7, 8, 9], dtype=int32)>,\n",
       " 'c': [{'value': <jax.Array([100, 101, 102, 103, 104, 105, 106, 107, 108, 109, 110, 111], dtype=int32)>},\n",
       "  {'value': <jax.Array([100., 100., 100., 100., 100., 100., 100.], dtype=float32)>},\n",
       "  {'value': 103}]}"
      ]
     },
     "execution_count": 10,
     "metadata": {},
     "output_type": "execute_result"
    }
   ],
   "source": [
    "(\n",
    "    pz.select(my_nested_object)\n",
    "      .at(lambda root: root[\"c\"])\n",
    "      .at_instances_of(jax.typing.ArrayLike)\n",
    "      .apply(lambda value: value + 100)\n",
    ")"
   ]
  },
  {
   "cell_type": "markdown",
   "metadata": {
    "id": "4vKkkNk5-cmj"
   },
   "source": [
    "Selectors are first-class objects, defined in `penzai.core.selectors` but aliased to `pz.select` and `pz.Selection`. Internally, they are ordinary PyTrees:\n"
   ]
  },
  {
   "cell_type": "code",
   "execution_count": 11,
   "metadata": {
    "execution": {
     "iopub.execute_input": "2024-05-28T18:16:59.270207Z",
     "iopub.status.busy": "2024-05-28T18:16:59.269972Z",
     "iopub.status.idle": "2024-05-28T18:16:59.292872Z",
     "shell.execute_reply": "2024-05-28T18:16:59.291762Z"
    },
    "id": "Y58Ll7sO_qjo"
   },
   "outputs": [
    {
     "data": {
      "text/html": [
       "<script> /* penzai.treescope rendering of a Python object (compressed) */ (()=>{ let observer; let lastStep = new Promise((resolve, reject) => { observer = new IntersectionObserver((entries) => { for (const entry of entries) { if (entry.isIntersecting) { resolve(); observer.disconnect(); return; } } }, {rootMargin: \"1000px\"}); }); window.treescope_decompress_enqueue = (encoded, destId) => { const previous = lastStep; const destElt = document.getElementById(destId); lastStep = (async () => { await previous; let blob = new Blob([ Uint8Array.from(atob(encoded), (m) => m.codePointAt(0)) ]); let reader = blob.stream().pipeThrough( new DecompressionStream(\"deflate\") ).pipeThrough( new TextDecoderStream(\"utf-8\") ).getReader(); let parts = []; while (true) { let step = await reader.read(); if (step.done) { break; } parts.push(step.value); } let newElt = document.createElement(\"div\"); newElt.innerHTML = parts.join(\"\"); destElt.parentNode.replaceChild(newElt, destElt); for (let oldScript of newElt.querySelectorAll(\"script\")) { let newScript = document.createElement(\"script\"); newScript.type = oldScript.type; newScript.textContent = oldScript.textContent; oldScript.parentNode.replaceChild(newScript, oldScript); } })(); requestAnimationFrame(() => { observer.observe(destElt); }); } })(); </script><div id=\"compress_html_c3df1f718d814396800d1a4a3a757b45\"><script>window.treescope_decompress_enqueue(\"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\", \"compress_html_c3df1f718d814396800d1a4a3a757b45\");</script><span style=\"color: #aaaaaa; font-family: monospace\">(Loading...)</span></div>"
      ],
      "text/plain": [
       "TreescopeRenderingFigure(child=PreventWordWrap(child=Siblings(children=(FoldableTreeNodeImpl(contents=Siblings(children=(IndentedChildren(children=[Siblings(children=(PyTreeNodeFieldName(child=Text(text='selected_by_path')), Text(text='='), WithDynamicSharedPip(child=FoldableTreeNodeImpl(contents=Siblings(children=(StringCopyButton(copy_string='(lambda root: root.selected_by_path)', annotation='Copy path: '), IndentedChildren(children=[Siblings(children=(FoldableTreeNodeImpl(contents=Siblings(children=(IndentedChildren(children=[Siblings(children=(FoldableTreeNodeImpl(contents=Siblings(children=(IndentedChildren(children=[Siblings(children=(Text(text='key'), Text(text='='), HyperlinkTarget(child=StringLiteralColor(child=Text(text=\"'c'\")), keypath=None), FoldCondition(collapsed=EmptyPart(), expanded=Text(text=','))))]), Text(text=')'))), label=HyperlinkTarget(child=Siblings(children=(RoundtripCondition(roundtrip=QualifiedTypeNameSpanGroup(child=Text(text='jax.tree_util.')), not_roundtrip=EmptyPart()), Text(text='DictKey'), Text(text='('))), keypath=None), expand_state=<ExpandState.COLLAPSED: 'collapsed'>), Text(text=','), FoldCondition(collapsed=Text(text=' '), expanded=EmptyPart()))), Siblings(children=(FoldableTreeNodeImpl(contents=Siblings(children=(IndentedChildren(children=[Siblings(children=(Text(text='idx'), Text(text='='), HyperlinkTarget(child=NumberColor(child=Text(text='0')), keypath=None), FoldCondition(collapsed=EmptyPart(), expanded=Text(text=','))))]), Text(text=')'))), label=HyperlinkTarget(child=Siblings(children=(RoundtripCondition(roundtrip=QualifiedTypeNameSpanGroup(child=Text(text='jax.tree_util.')), not_roundtrip=EmptyPart()), Text(text='SequenceKey'), Text(text='('))), keypath=None), expand_state=<ExpandState.COLLAPSED: 'collapsed'>), Text(text=','), FoldCondition(collapsed=Text(text=' '), expanded=EmptyPart()))), Siblings(children=(FoldableTreeNodeImpl(contents=Siblings(children=(IndentedChildren(children=[Siblings(children=(Text(text='key'), Text(text='='), HyperlinkTarget(child=StringLiteralColor(child=Text(text=\"'value'\")), keypath=None), FoldCondition(collapsed=EmptyPart(), expanded=Text(text=','))))]), Text(text=')'))), label=HyperlinkTarget(child=Siblings(children=(RoundtripCondition(roundtrip=QualifiedTypeNameSpanGroup(child=Text(text='jax.tree_util.')), not_roundtrip=EmptyPart()), Text(text='DictKey'), Text(text='('))), keypath=None), expand_state=<ExpandState.COLLAPSED: 'collapsed'>), FoldCondition(collapsed=EmptyPart(), expanded=Text(text=','))))]), Text(text=')'))), label=HyperlinkTarget(child=Text(text='('), keypath=None), expand_state=<ExpandState.COLLAPSED: 'collapsed'>), Text(text=':'), FoldCondition(collapsed=Text(text=' '), expanded=EmptyPart()), IndentedChildren(children=[Siblings(children=(RoundtripCondition(roundtrip=WithBlockColor(child=FoldableTreeNodeImpl(contents=Siblings(children=(ColoredBorderIndentedChildren(children=[Siblings(children=(Text(text='original_repr'), Text(text='='), HyperlinkTarget(child=StringLiteralColor(child=Text(text=\"'Array([ 0,  1,  2,  3,  4,  5,  6,  7,  8,  9, 10, 11], dtype=int32)'\")), keypath=(GetAttrKey(name='original_repr'),)), Text(text=','), FoldCondition(collapsed=Text(text=' '), expanded=EmptyPart()), FoldCondition(collapsed=EmptyPart(), expanded=Siblings(children=(StringCopyButton(copy_string='(lambda root: root.original_repr)', annotation='Copy path: '),))))), Siblings(children=(Text(text='original_id'), Text(text='='), HyperlinkTarget(child=NumberColor(child=Text(text='97072186721616')), keypath=(GetAttrKey(name='original_id'),)), Text(text=','), FoldCondition(collapsed=Text(text=' '), expanded=EmptyPart()), FoldCondition(collapsed=EmptyPart(), expanded=Siblings(children=(StringCopyButton(copy_string='(lambda root: root.original_id)', annotation='Copy path: '),))))), Siblings(children=(Text(text='original_type'), Text(text='='), HyperlinkTarget(child=FoldableTreeNodeImpl(contents=FoldCondition(collapsed=EmptyPart(), expanded=IndentedChildren(children=[Siblings(children=(HyperlinkTarget(child=AbbreviationColor(child=Text(text=\"<class 'jax.Array'>\")), keypath=(GetAttrKey(name='original_type'),)), FoldCondition(collapsed=EmptyPart(), expanded=Siblings(children=(StringCopyButton(copy_string='(lambda root: root.original_type)', annotation='Copy path: '),)))))])), label=CommentColorWhenExpanded(child=Siblings(children=(FoldCondition(collapsed=EmptyPart(), expanded=Text(text='# ')), QualifiedTypeNameSpanGroup(child=Text(text='jax.')), Text(text='Array')))), expand_state=<ExpandState.COLLAPSED: 'collapsed'>), keypath=(GetAttrKey(name='original_type'),)), FoldCondition(collapsed=EmptyPart(), expanded=Text(text=',')), FoldCondition(collapsed=EmptyPart(), expanded=Siblings(children=(StringCopyButton(copy_string='(lambda root: root.original_type)', annotation='Copy path: '),)))))]), ColoredBottomLineSpanGroup(child=Text(text=')')))), label=HyperlinkTarget(child=ColoredTopLineSpanGroup(child=Siblings(children=(RoundtripCondition(roundtrip=QualifiedTypeNameSpanGroup(child=Text(text='penzai.treescope.copypaste_fallback.')), not_roundtrip=EmptyPart()), Text(text='NotRoundtrippable'), Text(text='(')))), keypath=()), expand_state=<ExpandState.WEAKLY_COLLAPSED: 'weakly_collapsed'>), color='#db845a'), not_roundtrip=AbbreviationColor(child=Text(text='<jax.Array([ 0,  1,  2,  3,  4,  5,  6,  7,  8,  9, 10, 11], dtype=int32)>'))), Text(text=','), FoldCondition(collapsed=Text(text=' '), expanded=EmptyPart()), FoldCondition(collapsed=EmptyPart(), expanded=Siblings(children=(StringCopyButton(copy_string=\"(lambda root: root.selected_by_path[(DictKey(key='c'), SequenceKey(idx=0), DictKey(key='value'))])\", annotation='Copy path: '),))))), Siblings(children=(FoldCondition(collapsed=EmptyPart(), expanded=VerticalSpace(height='0.5em')),))]))), Siblings(children=(FoldableTreeNodeImpl(contents=Siblings(children=(IndentedChildren(children=[Siblings(children=(FoldableTreeNodeImpl(contents=Siblings(children=(IndentedChildren(children=[Siblings(children=(Text(text='key'), Text(text='='), HyperlinkTarget(child=StringLiteralColor(child=Text(text=\"'c'\")), keypath=None), FoldCondition(collapsed=EmptyPart(), expanded=Text(text=','))))]), Text(text=')'))), label=HyperlinkTarget(child=Siblings(children=(RoundtripCondition(roundtrip=QualifiedTypeNameSpanGroup(child=Text(text='jax.tree_util.')), not_roundtrip=EmptyPart()), Text(text='DictKey'), Text(text='('))), keypath=None), expand_state=<ExpandState.COLLAPSED: 'collapsed'>), Text(text=','), FoldCondition(collapsed=Text(text=' '), expanded=EmptyPart()))), Siblings(children=(FoldableTreeNodeImpl(contents=Siblings(children=(IndentedChildren(children=[Siblings(children=(Text(text='idx'), Text(text='='), HyperlinkTarget(child=NumberColor(child=Text(text='1')), keypath=None), FoldCondition(collapsed=EmptyPart(), expanded=Text(text=','))))]), Text(text=')'))), label=HyperlinkTarget(child=Siblings(children=(RoundtripCondition(roundtrip=QualifiedTypeNameSpanGroup(child=Text(text='jax.tree_util.')), not_roundtrip=EmptyPart()), Text(text='SequenceKey'), Text(text='('))), keypath=None), expand_state=<ExpandState.COLLAPSED: 'collapsed'>), Text(text=','), FoldCondition(collapsed=Text(text=' '), expanded=EmptyPart()))), Siblings(children=(FoldableTreeNodeImpl(contents=Siblings(children=(IndentedChildren(children=[Siblings(children=(Text(text='key'), Text(text='='), HyperlinkTarget(child=StringLiteralColor(child=Text(text=\"'value'\")), keypath=None), FoldCondition(collapsed=EmptyPart(), expanded=Text(text=','))))]), Text(text=')'))), label=HyperlinkTarget(child=Siblings(children=(RoundtripCondition(roundtrip=QualifiedTypeNameSpanGroup(child=Text(text='jax.tree_util.')), not_roundtrip=EmptyPart()), Text(text='DictKey'), Text(text='('))), keypath=None), expand_state=<ExpandState.COLLAPSED: 'collapsed'>), FoldCondition(collapsed=EmptyPart(), expanded=Text(text=','))))]), Text(text=')'))), label=HyperlinkTarget(child=Text(text='('), keypath=None), expand_state=<ExpandState.COLLAPSED: 'collapsed'>), Text(text=':'), FoldCondition(collapsed=Text(text=' '), expanded=EmptyPart()), IndentedChildren(children=[Siblings(children=(RoundtripCondition(roundtrip=WithBlockColor(child=FoldableTreeNodeImpl(contents=Siblings(children=(ColoredBorderIndentedChildren(children=[Siblings(children=(Text(text='original_repr'), Text(text='='), HyperlinkTarget(child=StringLiteralColor(child=Text(text=\"'Array([0., 0., 0., 0., 0., 0., 0.], dtype=float32)'\")), keypath=(GetAttrKey(name='original_repr'),)), Text(text=','), FoldCondition(collapsed=Text(text=' '), expanded=EmptyPart()), FoldCondition(collapsed=EmptyPart(), expanded=Siblings(children=(StringCopyButton(copy_string='(lambda root: root.original_repr)', annotation='Copy path: '),))))), Siblings(children=(Text(text='original_id'), Text(text='='), HyperlinkTarget(child=NumberColor(child=Text(text='97072194017360')), keypath=(GetAttrKey(name='original_id'),)), Text(text=','), FoldCondition(collapsed=Text(text=' '), expanded=EmptyPart()), FoldCondition(collapsed=EmptyPart(), expanded=Siblings(children=(StringCopyButton(copy_string='(lambda root: root.original_id)', annotation='Copy path: '),))))), Siblings(children=(Text(text='original_type'), Text(text='='), HyperlinkTarget(child=FoldableTreeNodeImpl(contents=FoldCondition(collapsed=EmptyPart(), expanded=IndentedChildren(children=[Siblings(children=(HyperlinkTarget(child=AbbreviationColor(child=Text(text=\"<class 'jax.Array'>\")), keypath=(GetAttrKey(name='original_type'),)), FoldCondition(collapsed=EmptyPart(), expanded=Siblings(children=(StringCopyButton(copy_string='(lambda root: root.original_type)', annotation='Copy path: '),)))))])), label=CommentColorWhenExpanded(child=Siblings(children=(FoldCondition(collapsed=EmptyPart(), expanded=Text(text='# ')), QualifiedTypeNameSpanGroup(child=Text(text='jax.')), Text(text='Array')))), expand_state=<ExpandState.COLLAPSED: 'collapsed'>), keypath=(GetAttrKey(name='original_type'),)), FoldCondition(collapsed=EmptyPart(), expanded=Text(text=',')), FoldCondition(collapsed=EmptyPart(), expanded=Siblings(children=(StringCopyButton(copy_string='(lambda root: root.original_type)', annotation='Copy path: '),)))))]), ColoredBottomLineSpanGroup(child=Text(text=')')))), label=HyperlinkTarget(child=ColoredTopLineSpanGroup(child=Siblings(children=(RoundtripCondition(roundtrip=QualifiedTypeNameSpanGroup(child=Text(text='penzai.treescope.copypaste_fallback.')), not_roundtrip=EmptyPart()), Text(text='NotRoundtrippable'), Text(text='(')))), keypath=()), expand_state=<ExpandState.WEAKLY_COLLAPSED: 'weakly_collapsed'>), color='#db845a'), not_roundtrip=AbbreviationColor(child=Text(text='<jax.Array([0., 0., 0., 0., 0., 0., 0.], dtype=float32)>'))), Text(text=','), FoldCondition(collapsed=Text(text=' '), expanded=EmptyPart()), FoldCondition(collapsed=EmptyPart(), expanded=Siblings(children=(StringCopyButton(copy_string=\"(lambda root: root.selected_by_path[(DictKey(key='c'), SequenceKey(idx=1), DictKey(key='value'))])\", annotation='Copy path: '),))))), Siblings(children=(FoldCondition(collapsed=EmptyPart(), expanded=VerticalSpace(height='0.5em')),))]))), Siblings(children=(FoldableTreeNodeImpl(contents=Siblings(children=(IndentedChildren(children=[Siblings(children=(FoldableTreeNodeImpl(contents=Siblings(children=(IndentedChildren(children=[Siblings(children=(Text(text='key'), Text(text='='), HyperlinkTarget(child=StringLiteralColor(child=Text(text=\"'c'\")), keypath=None), FoldCondition(collapsed=EmptyPart(), expanded=Text(text=','))))]), Text(text=')'))), label=HyperlinkTarget(child=Siblings(children=(RoundtripCondition(roundtrip=QualifiedTypeNameSpanGroup(child=Text(text='jax.tree_util.')), not_roundtrip=EmptyPart()), Text(text='DictKey'), Text(text='('))), keypath=None), expand_state=<ExpandState.COLLAPSED: 'collapsed'>), Text(text=','), FoldCondition(collapsed=Text(text=' '), expanded=EmptyPart()))), Siblings(children=(FoldableTreeNodeImpl(contents=Siblings(children=(IndentedChildren(children=[Siblings(children=(Text(text='idx'), Text(text='='), HyperlinkTarget(child=NumberColor(child=Text(text='2')), keypath=None), FoldCondition(collapsed=EmptyPart(), expanded=Text(text=','))))]), Text(text=')'))), label=HyperlinkTarget(child=Siblings(children=(RoundtripCondition(roundtrip=QualifiedTypeNameSpanGroup(child=Text(text='jax.tree_util.')), not_roundtrip=EmptyPart()), Text(text='SequenceKey'), Text(text='('))), keypath=None), expand_state=<ExpandState.COLLAPSED: 'collapsed'>), Text(text=','), FoldCondition(collapsed=Text(text=' '), expanded=EmptyPart()))), Siblings(children=(FoldableTreeNodeImpl(contents=Siblings(children=(IndentedChildren(children=[Siblings(children=(Text(text='key'), Text(text='='), HyperlinkTarget(child=StringLiteralColor(child=Text(text=\"'value'\")), keypath=None), FoldCondition(collapsed=EmptyPart(), expanded=Text(text=','))))]), Text(text=')'))), label=HyperlinkTarget(child=Siblings(children=(RoundtripCondition(roundtrip=QualifiedTypeNameSpanGroup(child=Text(text='jax.tree_util.')), not_roundtrip=EmptyPart()), Text(text='DictKey'), Text(text='('))), keypath=None), expand_state=<ExpandState.COLLAPSED: 'collapsed'>), FoldCondition(collapsed=EmptyPart(), expanded=Text(text=','))))]), Text(text=')'))), label=HyperlinkTarget(child=Text(text='('), keypath=None), expand_state=<ExpandState.COLLAPSED: 'collapsed'>), Text(text=':'), FoldCondition(collapsed=Text(text=' '), expanded=EmptyPart()), IndentedChildren(children=[Siblings(children=(HyperlinkTarget(child=NumberColor(child=Text(text='3')), keypath=(GetAttrKey(name='selected_by_path'), DictKey(key=(DictKey(key='c'), SequenceKey(idx=2), DictKey(key='value'))))), FoldCondition(collapsed=EmptyPart(), expanded=Text(text=',')), FoldCondition(collapsed=EmptyPart(), expanded=Siblings(children=(StringCopyButton(copy_string=\"(lambda root: root.selected_by_path[(DictKey(key='c'), SequenceKey(idx=2), DictKey(key='value'))])\", annotation='Copy path: '),))))), Siblings(children=(FoldCondition(collapsed=EmptyPart(), expanded=VerticalSpace(height='0.5em')),))])))]), Text(text='})'))), label=HyperlinkTarget(child=Siblings(children=(RoundtripCondition(roundtrip=QualifiedTypeNameSpanGroup(child=Text(text='collections.')), not_roundtrip=EmptyPart()), Text(text='OrderedDict'), Text(text='({'))), keypath=(GetAttrKey(name='selected_by_path'),)), expand_state=<ExpandState.EXPANDED: 'expanded'>), node_id=132328953576896, seen_more_than_once=set()), Text(text=','), FoldCondition(collapsed=Text(text=' '), expanded=EmptyPart()), FoldCondition(collapsed=EmptyPart(), expanded=Siblings(children=(DynamicSharedCheck(if_shared=SharedWarningLabel(child=Text(text=' # Repeated python obj at 0x785a3c457dc0')), node_id=132328953576896, seen_more_than_once=set()), StringCopyButton(copy_string='(lambda root: root.selected_by_path)', annotation='Copy path: ')))))), Siblings(children=(PyTreeNodeFieldName(child=Text(text='remainder')), Text(text='='), WithDynamicSharedPip(child=FoldableTreeNodeImpl(contents=Siblings(children=(StringCopyButton(copy_string='(lambda root: root.remainder)', annotation='Copy path: '), IndentedChildren(children=[Siblings(children=(HyperlinkTarget(child=StringLiteralColor(child=Text(text=\"'a'\")), keypath=None), Text(text=': '), HyperlinkTarget(child=NumberColor(child=Text(text='1')), keypath=(GetAttrKey(name='remainder'), DictKey(key='a'))), Text(text=','), FoldCondition(collapsed=Text(text=' '), expanded=EmptyPart()), FoldCondition(collapsed=EmptyPart(), expanded=Siblings(children=(StringCopyButton(copy_string=\"(lambda root: root.remainder['a'])\", annotation='Copy path: '),))))), Siblings(children=(HyperlinkTarget(child=StringLiteralColor(child=Text(text=\"'b'\")), keypath=None), Text(text=': '), RoundtripCondition(roundtrip=WithBlockColor(child=FoldableTreeNodeImpl(contents=Siblings(children=(ColoredBorderIndentedChildren(children=[Siblings(children=(Text(text='original_repr'), Text(text='='), HyperlinkTarget(child=StringLiteralColor(child=Text(text=\"'Array([0, 1, 2, 3, 4, 5, 6, 7, 8, 9], dtype=int32)'\")), keypath=(GetAttrKey(name='original_repr'),)), Text(text=','), FoldCondition(collapsed=Text(text=' '), expanded=EmptyPart()), FoldCondition(collapsed=EmptyPart(), expanded=Siblings(children=(StringCopyButton(copy_string='(lambda root: root.original_repr)', annotation='Copy path: '),))))), Siblings(children=(Text(text='original_id'), Text(text='='), HyperlinkTarget(child=NumberColor(child=Text(text='97072192685728')), keypath=(GetAttrKey(name='original_id'),)), Text(text=','), FoldCondition(collapsed=Text(text=' '), expanded=EmptyPart()), FoldCondition(collapsed=EmptyPart(), expanded=Siblings(children=(StringCopyButton(copy_string='(lambda root: root.original_id)', annotation='Copy path: '),))))), Siblings(children=(Text(text='original_type'), Text(text='='), HyperlinkTarget(child=FoldableTreeNodeImpl(contents=FoldCondition(collapsed=EmptyPart(), expanded=IndentedChildren(children=[Siblings(children=(HyperlinkTarget(child=AbbreviationColor(child=Text(text=\"<class 'jax.Array'>\")), keypath=(GetAttrKey(name='original_type'),)), FoldCondition(collapsed=EmptyPart(), expanded=Siblings(children=(StringCopyButton(copy_string='(lambda root: root.original_type)', annotation='Copy path: '),)))))])), label=CommentColorWhenExpanded(child=Siblings(children=(FoldCondition(collapsed=EmptyPart(), expanded=Text(text='# ')), QualifiedTypeNameSpanGroup(child=Text(text='jax.')), Text(text='Array')))), expand_state=<ExpandState.COLLAPSED: 'collapsed'>), keypath=(GetAttrKey(name='original_type'),)), FoldCondition(collapsed=EmptyPart(), expanded=Text(text=',')), FoldCondition(collapsed=EmptyPart(), expanded=Siblings(children=(StringCopyButton(copy_string='(lambda root: root.original_type)', annotation='Copy path: '),)))))]), ColoredBottomLineSpanGroup(child=Text(text=')')))), label=HyperlinkTarget(child=ColoredTopLineSpanGroup(child=Siblings(children=(RoundtripCondition(roundtrip=QualifiedTypeNameSpanGroup(child=Text(text='penzai.treescope.copypaste_fallback.')), not_roundtrip=EmptyPart()), Text(text='NotRoundtrippable'), Text(text='(')))), keypath=()), expand_state=<ExpandState.WEAKLY_COLLAPSED: 'weakly_collapsed'>), color='#db845a'), not_roundtrip=AbbreviationColor(child=Text(text='<jax.Array([0, 1, 2, 3, 4, 5, 6, 7, 8, 9], dtype=int32)>'))), Text(text=','), FoldCondition(collapsed=Text(text=' '), expanded=EmptyPart()), FoldCondition(collapsed=EmptyPart(), expanded=Siblings(children=(StringCopyButton(copy_string=\"(lambda root: root.remainder['b'])\", annotation='Copy path: '),))))), Siblings(children=(HyperlinkTarget(child=StringLiteralColor(child=Text(text=\"'c'\")), keypath=None), Text(text=': '), WithDynamicSharedPip(child=FoldableTreeNodeImpl(contents=Siblings(children=(StringCopyButton(copy_string=\"(lambda root: root.remainder['c'])\", annotation='Copy path: '), IndentedChildren(children=[Siblings(children=(WithDynamicSharedPip(child=FoldableTreeNodeImpl(contents=Siblings(children=(StringCopyButton(copy_string=\"(lambda root: root.remainder['c'][0])\", annotation='Copy path: '), IndentedChildren(children=[Siblings(children=(HyperlinkTarget(child=StringLiteralColor(child=Text(text=\"'value'\")), keypath=None), Text(text=': '), FoldableTreeNodeImpl(contents=Siblings(children=(StringCopyButton(copy_string=\"(lambda root: root.remainder['c'][0]['value'])\", annotation='Copy path: '), IndentedChildren(children=[Siblings(children=(Text(text='path'), Text(text='='), FoldableTreeNodeImpl(contents=Siblings(children=(StringCopyButton(copy_string=\"(lambda root: root.remainder['c'][0]['value'].path)\", annotation='Copy path: '), IndentedChildren(children=[Siblings(children=(FoldableTreeNodeImpl(contents=Siblings(children=(StringCopyButton(copy_string=\"(lambda root: root.remainder['c'][0]['value'].path[0])\", annotation='Copy path: '), IndentedChildren(children=[Siblings(children=(Text(text='key'), Text(text='='), HyperlinkTarget(child=StringLiteralColor(child=Text(text=\"'c'\")), keypath=(GetAttrKey(name='remainder'), DictKey(key='c'), SequenceKey(idx=0), DictKey(key='value'), GetAttrKey(name='path'), SequenceKey(idx=0), GetAttrKey(name='key'))), FoldCondition(collapsed=EmptyPart(), expanded=Text(text=',')), FoldCondition(collapsed=EmptyPart(), expanded=Siblings(children=(StringCopyButton(copy_string=\"(lambda root: root.remainder['c'][0]['value'].path[0].key)\", annotation='Copy path: '),)))))]), Text(text=')'))), label=HyperlinkTarget(child=Siblings(children=(RoundtripCondition(roundtrip=QualifiedTypeNameSpanGroup(child=Text(text='jax.tree_util.')), not_roundtrip=EmptyPart()), Text(text='DictKey'), Text(text='('))), keypath=(GetAttrKey(name='remainder'), DictKey(key='c'), SequenceKey(idx=0), DictKey(key='value'), GetAttrKey(name='path'), SequenceKey(idx=0))), expand_state=<ExpandState.COLLAPSED: 'collapsed'>), Text(text=','), FoldCondition(collapsed=Text(text=' '), expanded=EmptyPart()), FoldCondition(collapsed=EmptyPart(), expanded=Siblings(children=(StringCopyButton(copy_string=\"(lambda root: root.remainder['c'][0]['value'].path[0])\", annotation='Copy path: '),))))), Siblings(children=(FoldableTreeNodeImpl(contents=Siblings(children=(StringCopyButton(copy_string=\"(lambda root: root.remainder['c'][0]['value'].path[1])\", annotation='Copy path: '), IndentedChildren(children=[Siblings(children=(Text(text='idx'), Text(text='='), HyperlinkTarget(child=NumberColor(child=Text(text='0')), keypath=(GetAttrKey(name='remainder'), DictKey(key='c'), SequenceKey(idx=0), DictKey(key='value'), GetAttrKey(name='path'), SequenceKey(idx=1), GetAttrKey(name='idx'))), FoldCondition(collapsed=EmptyPart(), expanded=Text(text=',')), FoldCondition(collapsed=EmptyPart(), expanded=Siblings(children=(StringCopyButton(copy_string=\"(lambda root: root.remainder['c'][0]['value'].path[1].idx)\", annotation='Copy path: '),)))))]), Text(text=')'))), label=HyperlinkTarget(child=Siblings(children=(RoundtripCondition(roundtrip=QualifiedTypeNameSpanGroup(child=Text(text='jax.tree_util.')), not_roundtrip=EmptyPart()), Text(text='SequenceKey'), Text(text='('))), keypath=(GetAttrKey(name='remainder'), DictKey(key='c'), SequenceKey(idx=0), DictKey(key='value'), GetAttrKey(name='path'), SequenceKey(idx=1))), expand_state=<ExpandState.COLLAPSED: 'collapsed'>), Text(text=','), FoldCondition(collapsed=Text(text=' '), expanded=EmptyPart()), FoldCondition(collapsed=EmptyPart(), expanded=Siblings(children=(StringCopyButton(copy_string=\"(lambda root: root.remainder['c'][0]['value'].path[1])\", annotation='Copy path: '),))))), Siblings(children=(FoldableTreeNodeImpl(contents=Siblings(children=(StringCopyButton(copy_string=\"(lambda root: root.remainder['c'][0]['value'].path[2])\", annotation='Copy path: '), IndentedChildren(children=[Siblings(children=(Text(text='key'), Text(text='='), HyperlinkTarget(child=StringLiteralColor(child=Text(text=\"'value'\")), keypath=(GetAttrKey(name='remainder'), DictKey(key='c'), SequenceKey(idx=0), DictKey(key='value'), GetAttrKey(name='path'), SequenceKey(idx=2), GetAttrKey(name='key'))), FoldCondition(collapsed=EmptyPart(), expanded=Text(text=',')), FoldCondition(collapsed=EmptyPart(), expanded=Siblings(children=(StringCopyButton(copy_string=\"(lambda root: root.remainder['c'][0]['value'].path[2].key)\", annotation='Copy path: '),)))))]), Text(text=')'))), label=HyperlinkTarget(child=Siblings(children=(RoundtripCondition(roundtrip=QualifiedTypeNameSpanGroup(child=Text(text='jax.tree_util.')), not_roundtrip=EmptyPart()), Text(text='DictKey'), Text(text='('))), keypath=(GetAttrKey(name='remainder'), DictKey(key='c'), SequenceKey(idx=0), DictKey(key='value'), GetAttrKey(name='path'), SequenceKey(idx=2))), expand_state=<ExpandState.COLLAPSED: 'collapsed'>), FoldCondition(collapsed=EmptyPart(), expanded=Text(text=',')), FoldCondition(collapsed=EmptyPart(), expanded=Siblings(children=(StringCopyButton(copy_string=\"(lambda root: root.remainder['c'][0]['value'].path[2])\", annotation='Copy path: '),)))))]), Text(text=')'))), label=HyperlinkTarget(child=Text(text='('), keypath=(GetAttrKey(name='remainder'), DictKey(key='c'), SequenceKey(idx=0), DictKey(key='value'), GetAttrKey(name='path'))), expand_state=<ExpandState.COLLAPSED: 'collapsed'>), FoldCondition(collapsed=EmptyPart(), expanded=Text(text=',')), FoldCondition(collapsed=EmptyPart(), expanded=Siblings(children=(StringCopyButton(copy_string=\"(lambda root: root.remainder['c'][0]['value'].path)\", annotation='Copy path: '),)))))]), Text(text=')'))), label=HyperlinkTarget(child=Siblings(children=(RoundtripCondition(roundtrip=QualifiedTypeNameSpanGroup(child=Text(text='penzai.core.selectors.')), not_roundtrip=EmptyPart()), Text(text='SelectionHole'), Text(text='('))), keypath=(GetAttrKey(name='remainder'), DictKey(key='c'), SequenceKey(idx=0), DictKey(key='value'))), expand_state=<ExpandState.EXPANDED: 'expanded'>), FoldCondition(collapsed=EmptyPart(), expanded=Text(text=',')), FoldCondition(collapsed=EmptyPart(), expanded=Siblings(children=(StringCopyButton(copy_string=\"(lambda root: root.remainder['c'][0]['value'])\", annotation='Copy path: '),)))))]), Text(text='}'))), label=HyperlinkTarget(child=Text(text='{'), keypath=(GetAttrKey(name='remainder'), DictKey(key='c'), SequenceKey(idx=0))), expand_state=<ExpandState.COLLAPSED: 'collapsed'>), node_id=132328949986240, seen_more_than_once=set()), Text(text=','), FoldCondition(collapsed=Text(text=' '), expanded=EmptyPart()), FoldCondition(collapsed=EmptyPart(), expanded=Siblings(children=(DynamicSharedCheck(if_shared=SharedWarningLabel(child=Text(text=' # Repeated python obj at 0x785a3c0eb3c0')), node_id=132328949986240, seen_more_than_once=set()), StringCopyButton(copy_string=\"(lambda root: root.remainder['c'][0])\", annotation='Copy path: ')))))), Siblings(children=(WithDynamicSharedPip(child=FoldableTreeNodeImpl(contents=Siblings(children=(StringCopyButton(copy_string=\"(lambda root: root.remainder['c'][1])\", annotation='Copy path: '), IndentedChildren(children=[Siblings(children=(HyperlinkTarget(child=StringLiteralColor(child=Text(text=\"'value'\")), keypath=None), Text(text=': '), FoldableTreeNodeImpl(contents=Siblings(children=(StringCopyButton(copy_string=\"(lambda root: root.remainder['c'][1]['value'])\", annotation='Copy path: '), IndentedChildren(children=[Siblings(children=(Text(text='path'), Text(text='='), FoldableTreeNodeImpl(contents=Siblings(children=(StringCopyButton(copy_string=\"(lambda root: root.remainder['c'][1]['value'].path)\", annotation='Copy path: '), IndentedChildren(children=[Siblings(children=(FoldableTreeNodeImpl(contents=Siblings(children=(StringCopyButton(copy_string=\"(lambda root: root.remainder['c'][1]['value'].path[0])\", annotation='Copy path: '), IndentedChildren(children=[Siblings(children=(Text(text='key'), Text(text='='), HyperlinkTarget(child=StringLiteralColor(child=Text(text=\"'c'\")), keypath=(GetAttrKey(name='remainder'), DictKey(key='c'), SequenceKey(idx=1), DictKey(key='value'), GetAttrKey(name='path'), SequenceKey(idx=0), GetAttrKey(name='key'))), FoldCondition(collapsed=EmptyPart(), expanded=Text(text=',')), FoldCondition(collapsed=EmptyPart(), expanded=Siblings(children=(StringCopyButton(copy_string=\"(lambda root: root.remainder['c'][1]['value'].path[0].key)\", annotation='Copy path: '),)))))]), Text(text=')'))), label=HyperlinkTarget(child=Siblings(children=(RoundtripCondition(roundtrip=QualifiedTypeNameSpanGroup(child=Text(text='jax.tree_util.')), not_roundtrip=EmptyPart()), Text(text='DictKey'), Text(text='('))), keypath=(GetAttrKey(name='remainder'), DictKey(key='c'), SequenceKey(idx=1), DictKey(key='value'), GetAttrKey(name='path'), SequenceKey(idx=0))), expand_state=<ExpandState.COLLAPSED: 'collapsed'>), Text(text=','), FoldCondition(collapsed=Text(text=' '), expanded=EmptyPart()), FoldCondition(collapsed=EmptyPart(), expanded=Siblings(children=(StringCopyButton(copy_string=\"(lambda root: root.remainder['c'][1]['value'].path[0])\", annotation='Copy path: '),))))), Siblings(children=(FoldableTreeNodeImpl(contents=Siblings(children=(StringCopyButton(copy_string=\"(lambda root: root.remainder['c'][1]['value'].path[1])\", annotation='Copy path: '), IndentedChildren(children=[Siblings(children=(Text(text='idx'), Text(text='='), HyperlinkTarget(child=NumberColor(child=Text(text='1')), keypath=(GetAttrKey(name='remainder'), DictKey(key='c'), SequenceKey(idx=1), DictKey(key='value'), GetAttrKey(name='path'), SequenceKey(idx=1), GetAttrKey(name='idx'))), FoldCondition(collapsed=EmptyPart(), expanded=Text(text=',')), FoldCondition(collapsed=EmptyPart(), expanded=Siblings(children=(StringCopyButton(copy_string=\"(lambda root: root.remainder['c'][1]['value'].path[1].idx)\", annotation='Copy path: '),)))))]), Text(text=')'))), label=HyperlinkTarget(child=Siblings(children=(RoundtripCondition(roundtrip=QualifiedTypeNameSpanGroup(child=Text(text='jax.tree_util.')), not_roundtrip=EmptyPart()), Text(text='SequenceKey'), Text(text='('))), keypath=(GetAttrKey(name='remainder'), DictKey(key='c'), SequenceKey(idx=1), DictKey(key='value'), GetAttrKey(name='path'), SequenceKey(idx=1))), expand_state=<ExpandState.COLLAPSED: 'collapsed'>), Text(text=','), FoldCondition(collapsed=Text(text=' '), expanded=EmptyPart()), FoldCondition(collapsed=EmptyPart(), expanded=Siblings(children=(StringCopyButton(copy_string=\"(lambda root: root.remainder['c'][1]['value'].path[1])\", annotation='Copy path: '),))))), Siblings(children=(FoldableTreeNodeImpl(contents=Siblings(children=(StringCopyButton(copy_string=\"(lambda root: root.remainder['c'][1]['value'].path[2])\", annotation='Copy path: '), IndentedChildren(children=[Siblings(children=(Text(text='key'), Text(text='='), HyperlinkTarget(child=StringLiteralColor(child=Text(text=\"'value'\")), keypath=(GetAttrKey(name='remainder'), DictKey(key='c'), SequenceKey(idx=1), DictKey(key='value'), GetAttrKey(name='path'), SequenceKey(idx=2), GetAttrKey(name='key'))), FoldCondition(collapsed=EmptyPart(), expanded=Text(text=',')), FoldCondition(collapsed=EmptyPart(), expanded=Siblings(children=(StringCopyButton(copy_string=\"(lambda root: root.remainder['c'][1]['value'].path[2].key)\", annotation='Copy path: '),)))))]), Text(text=')'))), label=HyperlinkTarget(child=Siblings(children=(RoundtripCondition(roundtrip=QualifiedTypeNameSpanGroup(child=Text(text='jax.tree_util.')), not_roundtrip=EmptyPart()), Text(text='DictKey'), Text(text='('))), keypath=(GetAttrKey(name='remainder'), DictKey(key='c'), SequenceKey(idx=1), DictKey(key='value'), GetAttrKey(name='path'), SequenceKey(idx=2))), expand_state=<ExpandState.COLLAPSED: 'collapsed'>), FoldCondition(collapsed=EmptyPart(), expanded=Text(text=',')), FoldCondition(collapsed=EmptyPart(), expanded=Siblings(children=(StringCopyButton(copy_string=\"(lambda root: root.remainder['c'][1]['value'].path[2])\", annotation='Copy path: '),)))))]), Text(text=')'))), label=HyperlinkTarget(child=Text(text='('), keypath=(GetAttrKey(name='remainder'), DictKey(key='c'), SequenceKey(idx=1), DictKey(key='value'), GetAttrKey(name='path'))), expand_state=<ExpandState.COLLAPSED: 'collapsed'>), FoldCondition(collapsed=EmptyPart(), expanded=Text(text=',')), FoldCondition(collapsed=EmptyPart(), expanded=Siblings(children=(StringCopyButton(copy_string=\"(lambda root: root.remainder['c'][1]['value'].path)\", annotation='Copy path: '),)))))]), Text(text=')'))), label=HyperlinkTarget(child=Siblings(children=(RoundtripCondition(roundtrip=QualifiedTypeNameSpanGroup(child=Text(text='penzai.core.selectors.')), not_roundtrip=EmptyPart()), Text(text='SelectionHole'), Text(text='('))), keypath=(GetAttrKey(name='remainder'), DictKey(key='c'), SequenceKey(idx=1), DictKey(key='value'))), expand_state=<ExpandState.EXPANDED: 'expanded'>), FoldCondition(collapsed=EmptyPart(), expanded=Text(text=',')), FoldCondition(collapsed=EmptyPart(), expanded=Siblings(children=(StringCopyButton(copy_string=\"(lambda root: root.remainder['c'][1]['value'])\", annotation='Copy path: '),)))))]), Text(text='}'))), label=HyperlinkTarget(child=Text(text='{'), keypath=(GetAttrKey(name='remainder'), DictKey(key='c'), SequenceKey(idx=1))), expand_state=<ExpandState.COLLAPSED: 'collapsed'>), node_id=132328953167616, seen_more_than_once=set()), Text(text=','), FoldCondition(collapsed=Text(text=' '), expanded=EmptyPart()), FoldCondition(collapsed=EmptyPart(), expanded=Siblings(children=(DynamicSharedCheck(if_shared=SharedWarningLabel(child=Text(text=' # Repeated python obj at 0x785a3c3f3f00')), node_id=132328953167616, seen_more_than_once=set()), StringCopyButton(copy_string=\"(lambda root: root.remainder['c'][1])\", annotation='Copy path: ')))))), Siblings(children=(WithDynamicSharedPip(child=FoldableTreeNodeImpl(contents=Siblings(children=(StringCopyButton(copy_string=\"(lambda root: root.remainder['c'][2])\", annotation='Copy path: '), IndentedChildren(children=[Siblings(children=(HyperlinkTarget(child=StringLiteralColor(child=Text(text=\"'value'\")), keypath=None), Text(text=': '), FoldableTreeNodeImpl(contents=Siblings(children=(StringCopyButton(copy_string=\"(lambda root: root.remainder['c'][2]['value'])\", annotation='Copy path: '), IndentedChildren(children=[Siblings(children=(Text(text='path'), Text(text='='), FoldableTreeNodeImpl(contents=Siblings(children=(StringCopyButton(copy_string=\"(lambda root: root.remainder['c'][2]['value'].path)\", annotation='Copy path: '), IndentedChildren(children=[Siblings(children=(FoldableTreeNodeImpl(contents=Siblings(children=(StringCopyButton(copy_string=\"(lambda root: root.remainder['c'][2]['value'].path[0])\", annotation='Copy path: '), IndentedChildren(children=[Siblings(children=(Text(text='key'), Text(text='='), HyperlinkTarget(child=StringLiteralColor(child=Text(text=\"'c'\")), keypath=(GetAttrKey(name='remainder'), DictKey(key='c'), SequenceKey(idx=2), DictKey(key='value'), GetAttrKey(name='path'), SequenceKey(idx=0), GetAttrKey(name='key'))), FoldCondition(collapsed=EmptyPart(), expanded=Text(text=',')), FoldCondition(collapsed=EmptyPart(), expanded=Siblings(children=(StringCopyButton(copy_string=\"(lambda root: root.remainder['c'][2]['value'].path[0].key)\", annotation='Copy path: '),)))))]), Text(text=')'))), label=HyperlinkTarget(child=Siblings(children=(RoundtripCondition(roundtrip=QualifiedTypeNameSpanGroup(child=Text(text='jax.tree_util.')), not_roundtrip=EmptyPart()), Text(text='DictKey'), Text(text='('))), keypath=(GetAttrKey(name='remainder'), DictKey(key='c'), SequenceKey(idx=2), DictKey(key='value'), GetAttrKey(name='path'), SequenceKey(idx=0))), expand_state=<ExpandState.COLLAPSED: 'collapsed'>), Text(text=','), FoldCondition(collapsed=Text(text=' '), expanded=EmptyPart()), FoldCondition(collapsed=EmptyPart(), expanded=Siblings(children=(StringCopyButton(copy_string=\"(lambda root: root.remainder['c'][2]['value'].path[0])\", annotation='Copy path: '),))))), Siblings(children=(FoldableTreeNodeImpl(contents=Siblings(children=(StringCopyButton(copy_string=\"(lambda root: root.remainder['c'][2]['value'].path[1])\", annotation='Copy path: '), IndentedChildren(children=[Siblings(children=(Text(text='idx'), Text(text='='), HyperlinkTarget(child=NumberColor(child=Text(text='2')), keypath=(GetAttrKey(name='remainder'), DictKey(key='c'), SequenceKey(idx=2), DictKey(key='value'), GetAttrKey(name='path'), SequenceKey(idx=1), GetAttrKey(name='idx'))), FoldCondition(collapsed=EmptyPart(), expanded=Text(text=',')), FoldCondition(collapsed=EmptyPart(), expanded=Siblings(children=(StringCopyButton(copy_string=\"(lambda root: root.remainder['c'][2]['value'].path[1].idx)\", annotation='Copy path: '),)))))]), Text(text=')'))), label=HyperlinkTarget(child=Siblings(children=(RoundtripCondition(roundtrip=QualifiedTypeNameSpanGroup(child=Text(text='jax.tree_util.')), not_roundtrip=EmptyPart()), Text(text='SequenceKey'), Text(text='('))), keypath=(GetAttrKey(name='remainder'), DictKey(key='c'), SequenceKey(idx=2), DictKey(key='value'), GetAttrKey(name='path'), SequenceKey(idx=1))), expand_state=<ExpandState.COLLAPSED: 'collapsed'>), Text(text=','), FoldCondition(collapsed=Text(text=' '), expanded=EmptyPart()), FoldCondition(collapsed=EmptyPart(), expanded=Siblings(children=(StringCopyButton(copy_string=\"(lambda root: root.remainder['c'][2]['value'].path[1])\", annotation='Copy path: '),))))), Siblings(children=(FoldableTreeNodeImpl(contents=Siblings(children=(StringCopyButton(copy_string=\"(lambda root: root.remainder['c'][2]['value'].path[2])\", annotation='Copy path: '), IndentedChildren(children=[Siblings(children=(Text(text='key'), Text(text='='), HyperlinkTarget(child=StringLiteralColor(child=Text(text=\"'value'\")), keypath=(GetAttrKey(name='remainder'), DictKey(key='c'), SequenceKey(idx=2), DictKey(key='value'), GetAttrKey(name='path'), SequenceKey(idx=2), GetAttrKey(name='key'))), FoldCondition(collapsed=EmptyPart(), expanded=Text(text=',')), FoldCondition(collapsed=EmptyPart(), expanded=Siblings(children=(StringCopyButton(copy_string=\"(lambda root: root.remainder['c'][2]['value'].path[2].key)\", annotation='Copy path: '),)))))]), Text(text=')'))), label=HyperlinkTarget(child=Siblings(children=(RoundtripCondition(roundtrip=QualifiedTypeNameSpanGroup(child=Text(text='jax.tree_util.')), not_roundtrip=EmptyPart()), Text(text='DictKey'), Text(text='('))), keypath=(GetAttrKey(name='remainder'), DictKey(key='c'), SequenceKey(idx=2), DictKey(key='value'), GetAttrKey(name='path'), SequenceKey(idx=2))), expand_state=<ExpandState.COLLAPSED: 'collapsed'>), FoldCondition(collapsed=EmptyPart(), expanded=Text(text=',')), FoldCondition(collapsed=EmptyPart(), expanded=Siblings(children=(StringCopyButton(copy_string=\"(lambda root: root.remainder['c'][2]['value'].path[2])\", annotation='Copy path: '),)))))]), Text(text=')'))), label=HyperlinkTarget(child=Text(text='('), keypath=(GetAttrKey(name='remainder'), DictKey(key='c'), SequenceKey(idx=2), DictKey(key='value'), GetAttrKey(name='path'))), expand_state=<ExpandState.COLLAPSED: 'collapsed'>), FoldCondition(collapsed=EmptyPart(), expanded=Text(text=',')), FoldCondition(collapsed=EmptyPart(), expanded=Siblings(children=(StringCopyButton(copy_string=\"(lambda root: root.remainder['c'][2]['value'].path)\", annotation='Copy path: '),)))))]), Text(text=')'))), label=HyperlinkTarget(child=Siblings(children=(RoundtripCondition(roundtrip=QualifiedTypeNameSpanGroup(child=Text(text='penzai.core.selectors.')), not_roundtrip=EmptyPart()), Text(text='SelectionHole'), Text(text='('))), keypath=(GetAttrKey(name='remainder'), DictKey(key='c'), SequenceKey(idx=2), DictKey(key='value'))), expand_state=<ExpandState.EXPANDED: 'expanded'>), FoldCondition(collapsed=EmptyPart(), expanded=Text(text=',')), FoldCondition(collapsed=EmptyPart(), expanded=Siblings(children=(StringCopyButton(copy_string=\"(lambda root: root.remainder['c'][2]['value'])\", annotation='Copy path: '),)))))]), Text(text='}'))), label=HyperlinkTarget(child=Text(text='{'), keypath=(GetAttrKey(name='remainder'), DictKey(key='c'), SequenceKey(idx=2))), expand_state=<ExpandState.COLLAPSED: 'collapsed'>), node_id=132328953477312, seen_more_than_once=set()), FoldCondition(collapsed=EmptyPart(), expanded=Text(text=',')), FoldCondition(collapsed=EmptyPart(), expanded=Siblings(children=(DynamicSharedCheck(if_shared=SharedWarningLabel(child=Text(text=' # Repeated python obj at 0x785a3c43f8c0')), node_id=132328953477312, seen_more_than_once=set()), StringCopyButton(copy_string=\"(lambda root: root.remainder['c'][2])\", annotation='Copy path: '))))))]), Text(text=']'))), label=HyperlinkTarget(child=Text(text='['), keypath=(GetAttrKey(name='remainder'), DictKey(key='c'))), expand_state=<ExpandState.EXPANDED: 'expanded'>), node_id=132328953289600, seen_more_than_once=set()), FoldCondition(collapsed=EmptyPart(), expanded=Text(text=',')), FoldCondition(collapsed=EmptyPart(), expanded=Siblings(children=(DynamicSharedCheck(if_shared=SharedWarningLabel(child=Text(text=' # Repeated python obj at 0x785a3c411b80')), node_id=132328953289600, seen_more_than_once=set()), StringCopyButton(copy_string=\"(lambda root: root.remainder['c'])\", annotation='Copy path: '))))))]), Text(text='}'))), label=HyperlinkTarget(child=Text(text='{'), keypath=(GetAttrKey(name='remainder'),)), expand_state=<ExpandState.COLLAPSED: 'collapsed'>), node_id=132328949884160, seen_more_than_once=set()), FoldCondition(collapsed=EmptyPart(), expanded=Text(text=',')), FoldCondition(collapsed=EmptyPart(), expanded=Siblings(children=(DynamicSharedCheck(if_shared=SharedWarningLabel(child=Text(text=' # Repeated python obj at 0x785a3c0d2500')), node_id=132328949884160, seen_more_than_once=set()), StringCopyButton(copy_string='(lambda root: root.remainder)', annotation='Copy path: '))))))]), Text(text=')'))), label=HyperlinkTarget(child=Siblings(children=(RoundtripCondition(roundtrip=QualifiedTypeNameSpanGroup(child=Text(text='penzai.core.selectors.')), not_roundtrip=EmptyPart()), Text(text='Selection'), Text(text='('))), keypath=()), expand_state=<ExpandState.EXPANDED: 'expanded'>),))))"
      ]
     },
     "metadata": {},
     "output_type": "display_data"
    }
   ],
   "source": [
    "my_selection = (\n",
    "    pz.select(my_nested_object)\n",
    "      .at(lambda root: root[\"c\"])\n",
    "      .at_instances_of(jax.typing.ArrayLike)\n",
    ")\n",
    "\n",
    "pz.show(my_selection)"
   ]
  },
  {
   "cell_type": "markdown",
   "metadata": {
    "id": "FJ3OuNUD_lO4"
   },
   "source": [
    "By default, though, selections are rendered in a way that emphasizes what you've selected, so you can tell at a glance that you're making the changes you expect to:"
   ]
  },
  {
   "cell_type": "code",
   "execution_count": 12,
   "metadata": {
    "execution": {
     "iopub.execute_input": "2024-05-28T18:16:59.296309Z",
     "iopub.status.busy": "2024-05-28T18:16:59.296090Z",
     "iopub.status.idle": "2024-05-28T18:16:59.320415Z",
     "shell.execute_reply": "2024-05-28T18:16:59.319627Z"
    },
    "id": "EUD6zd_L-iNr"
   },
   "outputs": [
    {
     "data": {
      "text/html": [
       "<div id=\"output_c4e182ed56404e1894275efc46486682\"><script> /* penzai.treescope rendering of a Python object (compressed) */ (()=>{ let observer; let lastStep = new Promise((resolve, reject) => { observer = new IntersectionObserver((entries) => { for (const entry of entries) { if (entry.isIntersecting) { resolve(); observer.disconnect(); return; } } }, {rootMargin: \"1000px\"}); }); window.treescope_decompress_enqueue = (encoded, destId) => { const previous = lastStep; const destElt = document.getElementById(destId); lastStep = (async () => { await previous; let blob = new Blob([ Uint8Array.from(atob(encoded), (m) => m.codePointAt(0)) ]); let reader = blob.stream().pipeThrough( new DecompressionStream(\"deflate\") ).pipeThrough( new TextDecoderStream(\"utf-8\") ).getReader(); let parts = []; while (true) { let step = await reader.read(); if (step.done) { break; } parts.push(step.value); } let newElt = document.createElement(\"div\"); newElt.innerHTML = parts.join(\"\"); destElt.parentNode.replaceChild(newElt, destElt); for (let oldScript of newElt.querySelectorAll(\"script\")) { let newScript = document.createElement(\"script\"); newScript.type = oldScript.type; newScript.textContent = oldScript.textContent; oldScript.parentNode.replaceChild(newScript, oldScript); } })(); requestAnimationFrame(() => { observer.observe(destElt); }); } })(); </script><div id=\"compress_html_ee3bde48e1d34a48b7dd902d1750110b\"><script>window.treescope_decompress_enqueue(\"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\", \"compress_html_ee3bde48e1d34a48b7dd902d1750110b\");</script><span style=\"color: #aaaaaa; font-family: monospace\">(Loading...)</span></div></div>"
      ],
      "text/plain": [
       "<IPython.core.display.HTML object>"
      ]
     },
     "metadata": {},
     "output_type": "display_data"
    },
    {
     "data": {
      "text/html": [
       "<div id=\"compress_html_25896c47521a44e4b5785982eef4321c\"><script>window.treescope_decompress_enqueue(\"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\", \"compress_html_25896c47521a44e4b5785982eef4321c\");</script></div>"
      ],
      "text/plain": [
       "<IPython.core.display.HTML object>"
      ]
     },
     "metadata": {},
     "output_type": "display_data"
    },
    {
     "data": {
      "text/html": [
       "<div id=\"output_dest_c4e182ed56404e1894275efc46486682\"><script> (()=>{ const output = document.getElementById(\"output_c4e182ed56404e1894275efc46486682\"); const dest = document.getElementById(\"output_dest_c4e182ed56404e1894275efc46486682\"); dest.parentNode.replaceChild(output, dest); })(); </script></div>"
      ],
      "text/plain": [
       "Selection(\n",
       "  selected_by_path=OrderedDict({\n",
       "    (DictKey(key='c'), SequenceKey(idx=0), DictKey(key='value')):\n",
       "      <jax.Array([ 0,  1,  2,  3,  4,  5,  6,  7,  8,  9, 10, 11], dtype=int32)>,\n",
       "    (DictKey(key='c'), SequenceKey(idx=1), DictKey(key='value')):\n",
       "      <jax.Array([0., 0., 0., 0., 0., 0., 0.], dtype=float32)>,\n",
       "    (DictKey(key='c'), SequenceKey(idx=2), DictKey(key='value')):\n",
       "      3,\n",
       "  }),\n",
       "  remainder={'a': 1, 'b': <jax.Array([0, 1, 2, 3, 4, 5, 6, 7, 8, 9], dtype=int32)>, 'c': [{'value': SelectionHole(path=(DictKey(key='c'), SequenceKey(idx=0), DictKey(key='value')))}, {'value': SelectionHole(path=(DictKey(key='c'), SequenceKey(idx=1), DictKey(key='value')))}, {'value': SelectionHole(path=(DictKey(key='c'), SequenceKey(idx=2), DictKey(key='value')))}]},\n",
       ")"
      ]
     },
     "execution_count": 12,
     "metadata": {},
     "output_type": "execute_result"
    }
   ],
   "source": [
    "my_selection"
   ]
  },
  {
   "cell_type": "markdown",
   "metadata": {
    "id": "Alps_lEFBFq3"
   },
   "source": [
    "(This fancy rendering mode is triggered when you display a single selection after enabling `pz.ts.register_as_default()`, or when you call `.show_selection()` on a selection object.)"
   ]
  },
  {
   "cell_type": "markdown",
   "metadata": {
    "id": "7UpYotjP-ZIC"
   },
   "source": [
    "## Building selections"
   ]
  },
  {
   "cell_type": "markdown",
   "metadata": {
    "id": "WEBkR8V7EiRr"
   },
   "source": [
    "The penzai selector API is designed around *method chaining*. You generally start by creating a trivial selection containing only a single object, the root object, using `pz.select`:"
   ]
  },
  {
   "cell_type": "code",
   "execution_count": 13,
   "metadata": {
    "execution": {
     "iopub.execute_input": "2024-05-28T18:16:59.324364Z",
     "iopub.status.busy": "2024-05-28T18:16:59.324131Z",
     "iopub.status.idle": "2024-05-28T18:16:59.340313Z",
     "shell.execute_reply": "2024-05-28T18:16:59.339568Z"
    },
    "id": "k3mVVp0-9rL2"
   },
   "outputs": [
    {
     "data": {
      "text/html": [
       "<div id=\"output_fe4d532e6b01478ab860e532e9cb8958\"><script> /* penzai.treescope rendering of a Python object (compressed) */ (()=>{ let observer; let lastStep = new Promise((resolve, reject) => { observer = new IntersectionObserver((entries) => { for (const entry of entries) { if (entry.isIntersecting) { resolve(); observer.disconnect(); return; } } }, {rootMargin: \"1000px\"}); }); window.treescope_decompress_enqueue = (encoded, destId) => { const previous = lastStep; const destElt = document.getElementById(destId); lastStep = (async () => { await previous; let blob = new Blob([ Uint8Array.from(atob(encoded), (m) => m.codePointAt(0)) ]); let reader = blob.stream().pipeThrough( new DecompressionStream(\"deflate\") ).pipeThrough( new TextDecoderStream(\"utf-8\") ).getReader(); let parts = []; while (true) { let step = await reader.read(); if (step.done) { break; } parts.push(step.value); } let newElt = document.createElement(\"div\"); newElt.innerHTML = parts.join(\"\"); destElt.parentNode.replaceChild(newElt, destElt); for (let oldScript of newElt.querySelectorAll(\"script\")) { let newScript = document.createElement(\"script\"); newScript.type = oldScript.type; newScript.textContent = oldScript.textContent; oldScript.parentNode.replaceChild(newScript, oldScript); } })(); requestAnimationFrame(() => { observer.observe(destElt); }); } })(); </script><div id=\"compress_html_c1495a6c78f3441aa818ac10fc6bd2e5\"><script>window.treescope_decompress_enqueue(\"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\", \"compress_html_c1495a6c78f3441aa818ac10fc6bd2e5\");</script><span style=\"color: #aaaaaa; font-family: monospace\">(Loading...)</span></div></div>"
      ],
      "text/plain": [
       "<IPython.core.display.HTML object>"
      ]
     },
     "metadata": {},
     "output_type": "display_data"
    },
    {
     "data": {
      "text/html": [
       "<div id=\"compress_html_2990a553aefc469aadf5734f0637faf2\"><script>window.treescope_decompress_enqueue(\"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\", \"compress_html_2990a553aefc469aadf5734f0637faf2\");</script></div>"
      ],
      "text/plain": [
       "<IPython.core.display.HTML object>"
      ]
     },
     "metadata": {},
     "output_type": "display_data"
    },
    {
     "data": {
      "text/html": [
       "<div id=\"output_dest_fe4d532e6b01478ab860e532e9cb8958\"><script> (()=>{ const output = document.getElementById(\"output_fe4d532e6b01478ab860e532e9cb8958\"); const dest = document.getElementById(\"output_dest_fe4d532e6b01478ab860e532e9cb8958\"); dest.parentNode.replaceChild(output, dest); })(); </script></div>"
      ],
      "text/plain": [
       "Selection(\n",
       "  selected_by_path=OrderedDict({\n",
       "    (): {\n",
       "      'a': 1,\n",
       "      'b': <jax.Array([0, 1, 2, 3, 4, 5, 6, 7, 8, 9], dtype=int32)>,\n",
       "      'c': [\n",
       "        {\n",
       "          'value': <jax.Array([ 0,  1,  2,  3,  4,  5,  6,  7,  8,  9, 10, 11], dtype=int32)>,\n",
       "        },\n",
       "        {\n",
       "          'value': <jax.Array([0., 0., 0., 0., 0., 0., 0.], dtype=float32)>,\n",
       "        },\n",
       "        {'value': 3},\n",
       "      ],\n",
       "    },\n",
       "  }),\n",
       "  remainder=SelectionHole(path=()),\n",
       ")"
      ]
     },
     "execution_count": 13,
     "metadata": {},
     "output_type": "execute_result"
    }
   ],
   "source": [
    "pz.select(my_nested_object)"
   ]
  },
  {
   "cell_type": "markdown",
   "metadata": {
    "id": "NcmUj1AF3xS1"
   },
   "source": [
    "You can also use the `.select()` attribute if you know your root object is a subclass of `pz.Struct`:"
   ]
  },
  {
   "cell_type": "code",
   "execution_count": 14,
   "metadata": {
    "execution": {
     "iopub.execute_input": "2024-05-28T18:16:59.343772Z",
     "iopub.status.busy": "2024-05-28T18:16:59.343554Z",
     "iopub.status.idle": "2024-05-28T18:16:59.352968Z",
     "shell.execute_reply": "2024-05-28T18:16:59.352142Z"
    },
    "id": "jqw3QPx9EzjR"
   },
   "outputs": [
    {
     "data": {
      "text/html": [
       "<div id=\"output_a7312ff5f978409c8296f0dc58fb8bfd\"><script> /* penzai.treescope rendering of a Python object (compressed) */ (()=>{ let observer; let lastStep = new Promise((resolve, reject) => { observer = new IntersectionObserver((entries) => { for (const entry of entries) { if (entry.isIntersecting) { resolve(); observer.disconnect(); return; } } }, {rootMargin: \"1000px\"}); }); window.treescope_decompress_enqueue = (encoded, destId) => { const previous = lastStep; const destElt = document.getElementById(destId); lastStep = (async () => { await previous; let blob = new Blob([ Uint8Array.from(atob(encoded), (m) => m.codePointAt(0)) ]); let reader = blob.stream().pipeThrough( new DecompressionStream(\"deflate\") ).pipeThrough( new TextDecoderStream(\"utf-8\") ).getReader(); let parts = []; while (true) { let step = await reader.read(); if (step.done) { break; } parts.push(step.value); } let newElt = document.createElement(\"div\"); newElt.innerHTML = parts.join(\"\"); destElt.parentNode.replaceChild(newElt, destElt); for (let oldScript of newElt.querySelectorAll(\"script\")) { let newScript = document.createElement(\"script\"); newScript.type = oldScript.type; newScript.textContent = oldScript.textContent; oldScript.parentNode.replaceChild(newScript, oldScript); } })(); requestAnimationFrame(() => { observer.observe(destElt); }); } })(); </script><div id=\"compress_html_6a0886ae981144289e8c5c0734e3bbdf\"><script>window.treescope_decompress_enqueue(\"eNrFGQtT2sr6r2zTmQpHQUDBCsW5AXnZolVstd57h1mSTbIl2Y3JBsQz/vf77QYEQqT2nPYenBHYfO/3t3wIxcwlJ3kREBIa3CfDgHOB/kQ+D6mgnFVRQFws6ITUkMWZyFnYo+6sijzOeOhjA86nDhUkp75UkR/AiUtDkVOkc2LmwynjDI5H2BjbAY+YmTO4y4NqjFpD828jFwCAHjWFU0UWFQDGBGGihjwc2JTlXGKJKioZjuTBSM4h1HbgpJgv19DTh/1YnQ+hEVBfnCBqocyUMpNPlxqier2OQARiAQEzC7puQqA/n2obx/mhT5hJma0b0jIhgP37vz8E62JmupIki1w3BdomYpiwfh1lFkYfCp5F9RMQcv8P9InzMTghQMIhSEEybpI8+mMfuUSgOe4KqnINMM/Ez97UkcmNyAOD5kfcnKF379Ab+SRvuDgMP4HT8tLgmLIwo60LpWWRNNWCh0TycQCUWi7xlIeegLOIAqYewtcUXYOIDThnUsEpD8ZzzYBlKECyGziSj9aOBTXkoU8CUNzDzCB5xqeZ7LNqG09QLkb6gA5KUuS0GEi6Mu8SZgsHQgMV0iJiu09jvaUFiBuSpehOxKTsP2QeOtQSUiWFIT88wd9rZcgsIANyH5FQ6Ix6WEK0A+yRTGzXbDbdI0lR/Ch0Yt/UXmO4hRD12BQ/Y7rXi50qOGGAFZFTYpEgIOY18XwIexJuBpDvysPnwAe0YDYgLjEED3TXhUCf464WwYgNQ4hULVtTCZeR+QWUELcUQakovK/kTUA8PiFrWbNC46VMyCxklfStgD8SmRyKclz41sXNaHFhkyQlBnxbVc0ICKgxT8hVWPiUl3UYgGMm6tv8nDyIZsxs5fHysKbEiXP9XJabgIC1DNKE9DMzQGFPAkg/vegrwW3bjcvIUFV/AYKpKgcnxBV7iEyA+twUMuzU9/yYzGRGaoG2KD0AvGLzmG5Ge6Y59EBAbSHHE4J+EDeCDyadIIVYT9Y1JPAIBCYPda2gIc6AKUjPVuDS5c8Ih4YLyTVoOXEjVZ1saHBP+kAFoepsb7F6SaESILjKuMhUHYieIJsCPwdnkTciwQrBwvH7YrkiASzumngEAspu8ELrBrZrYMNYJ4A2aQj+nC1adBIQnSAXj4hbrY4IZAJZkcBQr1oqv7hP54qyUc/beaG25EWZ6t4jl8t+/yJPZZRNziYOxiHBNjiIbWIreyaOHBxmThTNk1Q7xD4wHGKMYSTIoj+ySxkkajrSAn5NQpU0VbTzn1J5ZOz8k+KtI70oZOX/IKT0o2QcBaF0oM8pSBCk8KXhr2OrUkExyqksDV+K8V/DdamerJ6bXPI0HFo0CMWQs6EM/5TU2pZK+VJZZlOqq9DfFj/2eFJEqdXa5K0S+ikvCyYY1hwasgv8omhZqUXzwrDG2sCukYHJH+a7ov+ginxCDmhRv02UEQ9MCKRYFJMLYCrFQG9JQf5Jo/AIQm3EH4bgzCF8UT7+86Wi52NTTkVQF8GxxJMcHnIhfVRnc25wpNSURKdUOL+X6q+x3R5KNcRvc8y8u3j4YbksPsHYhF0Gc+QQ1lGLPgCeWl7BEkTa5r00zVM+VHMV5NtwJNs6DmYAGFsJlkzwbshdaiJjhlkiAmQcrj5cpbUoPivdKgZSIkznG+sIFI7xYLaCsU3lW/ibEwq8nsbvdyYOaCiCyBBDfyYnqiEWInh2h5yZIIQFdqlRW442hVKpbEnUqUMYTEqui/0QEu6H08pPi7yFQ5xYiocCIg8+7C4vwvwKOdJYzBWNAZbTc5op1ifb/PpYjLZQSKrK1gb1dMDXMHuRzlzkf81vlAyyiIjF7dJOH0I0oNhFg5kHqRKii7iOmGixrDS5P9uprQUSkxcBbiLRDgtQncPAqKIocDMmFrgqn+9PuWWVaiMcksrhnlk47vRtvaGrV+9S17n61Liawv9uW9db+rZXw9N1e8w/mr1Wozn9puvX35pner/XaOpt+6HX/eSIsNGnxD5on96WPvUq3yYDP6Kf++Xr4tlt7+prf3LTfxSfZ+12c/fGHl/TxmnBoaeX0VnL7HwvdEf71qRn+vcfK879DaWXUZ91nK71RehfKo3z4FBv99i4VTG+RBHbvSrfG+F4OrHa7v79g93i7+3R2bTzvtjV95l+Vf4UBGfFq137sXBlFvQzq2ifHzWnne8lu8Bn0dXRkdcqVqbd2+ML2/bJ9Xh2SHqjx7IxCi46Auv2Ze98eorDWXgZ9Xq3N632VP986fe+mV/293fto+uj2wNRsD5+vtcnZaD5ST8/0vtT3bMfrwa70d2AtG4fSlbFeDw/vOrOylFD//jY+O63/QPavWy2CnfR58PBEbMan1rddt/T6e77SavksKJztDv6Or39Pu0Gk9POlyb7brVatti9MO5c96h83DybNt47x4f9fmdw0LnTba9X/t64PBbXHdI9bjUavc7BqX14tf/NmI30Dvj068d9/bKDddJvunr3sXVh3wm70vhsX1z0Thtjelkm7cZts9E2aMF3Au4ziA3/rnVafCyOB1bTEs7sI+uauB12rcK512mdVxqmfv/1q49FOLjzTBPT45L1eHz4hX6/r/heULng35oDGnS8yVnnYHAzOGi3Skbj0rre7brc7xy2w2kZ2/eV9/SODM5d/4Y1uj1i9gMS3dx3ml7xph2MB4OHcqlycxNOdZAoi9QlmMjsqLDeyf6KmgTZPRtFQnCWWm6Wj9N2Cw1pCSiYd0Oob6nA/yHFQ1Or/dUiAMk+GlPAVMXAg4LkqIkHMwHoFHLcXLaXxcS2sY2sjQjHakRY0zJeY1K0SN9Kl5j5KYZOCz0ODPuMjy2xttAv1ultPBM46yxXTY8mOMjkcrLa5TADx6qrtezqsWQi7xwDzBZLhyKLiiEiYLEcTN4wvP2cKs8SgGMoMd+sS6JYojfU83kgMNugPQr4WLVjf7bcGX9s3RW0FXs+D+bJXwU27qccdSep8GPVUB1BdWMGysQc1i+qQZNrLgMPwOYSyLOQCCWUNKmUA08xFYjhCbWx4EEeKPsjjgMzPw2oINewJGaWtMATc1rL+y2Y5TPair3VVR4R19Qj4Jjnu8MNvMVdZAL1aQ+VCoWCKg0GFjDBZtSCl853xajaUrj128IMuPctamPqQjAIjiTwG5WTMI8zGMHdGYwMoSDYlDGxu2q7+S3d8opOhtLijm7tikw78R/n43UGwAFsHXhjCdS2PU88dGY+CaCmjIcClk0iEo/X76WS6zEAx/X0A2V+JJC8VQXhZQWF9UdLJTIvtvAwLrQnH/YVMrzPaa3yT1ulEiJuLIebW00C44UV4BVQCZC1oXUDfW0f0k7eovgam5jVhRfX336S+e9zzdIlWyNFRXNuTGbQ6Z26lmab5+E38TCxnmoJU/RnA7UzPYd7Wmj8rbDf3Mm0E4vzOb/6TykOwwTX0vI3vrPWTg63ODoRQnuvgFl9trNsAzuIs6asdvWdLaVdXdtnd9BzP6prGRd7IxOrHxiq8U+boFFWQ6pt1LWV5gUzyQvQcghJtluAVqVOmgk+zyU/SY/+tbfsK2C2vm0pptk8FsO588LUgvozNfHX51lC3M1IeN7WtZN3rqgVURiNlMf3kAMrnyvXPuhHeARN8J0taq8IqbdoK5WkjVOycVsp/FuZ+o+XuZPfV4VSeC0if++vJ8S22H8GNenk5YHwpR+XlXQxzv8A/LSFuA==\", \"compress_html_6a0886ae981144289e8c5c0734e3bbdf\");</script><span style=\"color: #aaaaaa; font-family: monospace\">(Loading...)</span></div></div>"
      ],
      "text/plain": [
       "<IPython.core.display.HTML object>"
      ]
     },
     "metadata": {},
     "output_type": "display_data"
    },
    {
     "data": {
      "text/html": [
       "<div id=\"output_dest_a7312ff5f978409c8296f0dc58fb8bfd\"><script> (()=>{ const output = document.getElementById(\"output_a7312ff5f978409c8296f0dc58fb8bfd\"); const dest = document.getElementById(\"output_dest_a7312ff5f978409c8296f0dc58fb8bfd\"); dest.parentNode.replaceChild(output, dest); })(); </script></div>"
      ],
      "text/plain": [
       "Selection(\n",
       "  selected_by_path=OrderedDict({(): MyStruct(foo=4)}),\n",
       "  remainder=SelectionHole(path=()),\n",
       ")"
      ]
     },
     "execution_count": 14,
     "metadata": {},
     "output_type": "execute_result"
    }
   ],
   "source": [
    "@pz.pytree_dataclass\n",
    "class MyStruct(pz.Struct):\n",
    "  foo: typing.Any\n",
    "\n",
    "MyStruct(4).select()"
   ]
  },
  {
   "cell_type": "markdown",
   "metadata": {
    "id": "tTKPVIUrFbeT"
   },
   "source": [
    "You then call methods on the selection to *refine* it to a subset of the currently selected values. These methods all operate relative to the currently selected object, so if you chain them, each method's output is restricted to the values selected by the previous method."
   ]
  },
  {
   "cell_type": "markdown",
   "metadata": {
    "id": "cFdUT5KaFju9"
   },
   "source": [
    "### Selecting with a function\n",
    "If you want to select a specific part of a tree, you can use `selection.at(...)`. The `.at` method takes as input a *function* that extracts the part you want to select, and returns a new selection that selects the extracted part:"
   ]
  },
  {
   "cell_type": "code",
   "execution_count": 15,
   "metadata": {
    "execution": {
     "iopub.execute_input": "2024-05-28T18:16:59.356504Z",
     "iopub.status.busy": "2024-05-28T18:16:59.356273Z",
     "iopub.status.idle": "2024-05-28T18:16:59.373757Z",
     "shell.execute_reply": "2024-05-28T18:16:59.372987Z"
    },
    "id": "8ZgPZeKeGDzQ"
   },
   "outputs": [
    {
     "data": {
      "text/html": [
       "<div id=\"output_37912d40e4784b1388ae2b571905ed90\"><script> /* penzai.treescope rendering of a Python object (compressed) */ (()=>{ let observer; let lastStep = new Promise((resolve, reject) => { observer = new IntersectionObserver((entries) => { for (const entry of entries) { if (entry.isIntersecting) { resolve(); observer.disconnect(); return; } } }, {rootMargin: \"1000px\"}); }); window.treescope_decompress_enqueue = (encoded, destId) => { const previous = lastStep; const destElt = document.getElementById(destId); lastStep = (async () => { await previous; let blob = new Blob([ Uint8Array.from(atob(encoded), (m) => m.codePointAt(0)) ]); let reader = blob.stream().pipeThrough( new DecompressionStream(\"deflate\") ).pipeThrough( new TextDecoderStream(\"utf-8\") ).getReader(); let parts = []; while (true) { let step = await reader.read(); if (step.done) { break; } parts.push(step.value); } let newElt = document.createElement(\"div\"); newElt.innerHTML = parts.join(\"\"); destElt.parentNode.replaceChild(newElt, destElt); for (let oldScript of newElt.querySelectorAll(\"script\")) { let newScript = document.createElement(\"script\"); newScript.type = oldScript.type; newScript.textContent = oldScript.textContent; oldScript.parentNode.replaceChild(newScript, oldScript); } })(); requestAnimationFrame(() => { observer.observe(destElt); }); } })(); </script><div id=\"compress_html_551d110eb1cd46e2b0d7fd33fd00146c\"><script>window.treescope_decompress_enqueue(\"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\", \"compress_html_551d110eb1cd46e2b0d7fd33fd00146c\");</script><span style=\"color: #aaaaaa; font-family: monospace\">(Loading...)</span></div></div>"
      ],
      "text/plain": [
       "<IPython.core.display.HTML object>"
      ]
     },
     "metadata": {},
     "output_type": "display_data"
    },
    {
     "data": {
      "text/html": [
       "<div id=\"compress_html_f586dc628ebf4e129cb54eb2a5d6b7f0\"><script>window.treescope_decompress_enqueue(\"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\", \"compress_html_f586dc628ebf4e129cb54eb2a5d6b7f0\");</script></div>"
      ],
      "text/plain": [
       "<IPython.core.display.HTML object>"
      ]
     },
     "metadata": {},
     "output_type": "display_data"
    },
    {
     "data": {
      "text/html": [
       "<div id=\"output_dest_37912d40e4784b1388ae2b571905ed90\"><script> (()=>{ const output = document.getElementById(\"output_37912d40e4784b1388ae2b571905ed90\"); const dest = document.getElementById(\"output_dest_37912d40e4784b1388ae2b571905ed90\"); dest.parentNode.replaceChild(output, dest); })(); </script></div>"
      ],
      "text/plain": [
       "Selection(\n",
       "  selected_by_path=OrderedDict({\n",
       "    (DictKey(key='c'),):\n",
       "      [\n",
       "        {\n",
       "          'value': <jax.Array([ 0,  1,  2,  3,  4,  5,  6,  7,  8,  9, 10, 11], dtype=int32)>,\n",
       "        },\n",
       "        {'value': <jax.Array([0., 0., 0., 0., 0., 0., 0.], dtype=float32)>},\n",
       "        {'value': 3},\n",
       "      ],\n",
       "  }),\n",
       "  remainder={\n",
       "    'a': 1,\n",
       "    'b': <jax.Array([0, 1, 2, 3, 4, 5, 6, 7, 8, 9], dtype=int32)>,\n",
       "    'c': SelectionHole(path=(DictKey(key='c'),)),\n",
       "  },\n",
       ")"
      ]
     },
     "execution_count": 15,
     "metadata": {},
     "output_type": "execute_result"
    }
   ],
   "source": [
    "pz.select(my_nested_object).at(lambda root: root[\"c\"])"
   ]
  },
  {
   "cell_type": "code",
   "execution_count": 16,
   "metadata": {
    "execution": {
     "iopub.execute_input": "2024-05-28T18:16:59.376815Z",
     "iopub.status.busy": "2024-05-28T18:16:59.376591Z",
     "iopub.status.idle": "2024-05-28T18:16:59.395367Z",
     "shell.execute_reply": "2024-05-28T18:16:59.394519Z"
    },
    "id": "dAO2KhdyGFZ5"
   },
   "outputs": [
    {
     "data": {
      "text/html": [
       "<div id=\"output_4ae0018b583c4b08870624335b6d6ab6\"><script> /* penzai.treescope rendering of a Python object (compressed) */ (()=>{ let observer; let lastStep = new Promise((resolve, reject) => { observer = new IntersectionObserver((entries) => { for (const entry of entries) { if (entry.isIntersecting) { resolve(); observer.disconnect(); return; } } }, {rootMargin: \"1000px\"}); }); window.treescope_decompress_enqueue = (encoded, destId) => { const previous = lastStep; const destElt = document.getElementById(destId); lastStep = (async () => { await previous; let blob = new Blob([ Uint8Array.from(atob(encoded), (m) => m.codePointAt(0)) ]); let reader = blob.stream().pipeThrough( new DecompressionStream(\"deflate\") ).pipeThrough( new TextDecoderStream(\"utf-8\") ).getReader(); let parts = []; while (true) { let step = await reader.read(); if (step.done) { break; } parts.push(step.value); } let newElt = document.createElement(\"div\"); newElt.innerHTML = parts.join(\"\"); destElt.parentNode.replaceChild(newElt, destElt); for (let oldScript of newElt.querySelectorAll(\"script\")) { let newScript = document.createElement(\"script\"); newScript.type = oldScript.type; newScript.textContent = oldScript.textContent; oldScript.parentNode.replaceChild(newScript, oldScript); } })(); requestAnimationFrame(() => { observer.observe(destElt); }); } })(); </script><div id=\"compress_html_4d66ba6d3557458e97ab626fa2a3f07b\"><script>window.treescope_decompress_enqueue(\"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\", \"compress_html_4d66ba6d3557458e97ab626fa2a3f07b\");</script><span style=\"color: #aaaaaa; font-family: monospace\">(Loading...)</span></div></div>"
      ],
      "text/plain": [
       "<IPython.core.display.HTML object>"
      ]
     },
     "metadata": {},
     "output_type": "display_data"
    },
    {
     "data": {
      "text/html": [
       "<div id=\"compress_html_fbac5fd68f6544d1ac26df62d6831f9b\"><script>window.treescope_decompress_enqueue(\"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\", \"compress_html_fbac5fd68f6544d1ac26df62d6831f9b\");</script></div>"
      ],
      "text/plain": [
       "<IPython.core.display.HTML object>"
      ]
     },
     "metadata": {},
     "output_type": "display_data"
    },
    {
     "data": {
      "text/html": [
       "<div id=\"output_dest_4ae0018b583c4b08870624335b6d6ab6\"><script> (()=>{ const output = document.getElementById(\"output_4ae0018b583c4b08870624335b6d6ab6\"); const dest = document.getElementById(\"output_dest_4ae0018b583c4b08870624335b6d6ab6\"); dest.parentNode.replaceChild(output, dest); })(); </script></div>"
      ],
      "text/plain": [
       "Selection(\n",
       "  selected_by_path=OrderedDict({\n",
       "    (DictKey(key='c'), SequenceKey(idx=1), DictKey(key='value')):\n",
       "      <jax.Array([0., 0., 0., 0., 0., 0., 0.], dtype=float32)>,\n",
       "  }),\n",
       "  remainder={\n",
       "    'a': 1,\n",
       "    'b': <jax.Array([0, 1, 2, 3, 4, 5, 6, 7, 8, 9], dtype=int32)>,\n",
       "    'c': [\n",
       "      {\n",
       "        'value': <jax.Array([ 0,  1,  2,  3,  4,  5,  6,  7,  8,  9, 10, 11], dtype=int32)>,\n",
       "      },\n",
       "      {'value': SelectionHole(path=(DictKey(key='c'), SequenceKey(idx=1), DictKey(key='value')))},\n",
       "      {'value': 3},\n",
       "    ],\n",
       "  },\n",
       ")"
      ]
     },
     "execution_count": 16,
     "metadata": {},
     "output_type": "execute_result"
    }
   ],
   "source": [
    "pz.select(my_nested_object).at(lambda root: root[\"c\"][1][\"value\"])"
   ]
  },
  {
   "cell_type": "code",
   "execution_count": 17,
   "metadata": {
    "execution": {
     "iopub.execute_input": "2024-05-28T18:16:59.398415Z",
     "iopub.status.busy": "2024-05-28T18:16:59.398183Z",
     "iopub.status.idle": "2024-05-28T18:16:59.416182Z",
     "shell.execute_reply": "2024-05-28T18:16:59.415329Z"
    },
    "id": "go9pWFfoGHHz"
   },
   "outputs": [
    {
     "data": {
      "text/html": [
       "<div id=\"output_231d0943102741769a23fdd63b115f8f\"><script> /* penzai.treescope rendering of a Python object (compressed) */ (()=>{ let observer; let lastStep = new Promise((resolve, reject) => { observer = new IntersectionObserver((entries) => { for (const entry of entries) { if (entry.isIntersecting) { resolve(); observer.disconnect(); return; } } }, {rootMargin: \"1000px\"}); }); window.treescope_decompress_enqueue = (encoded, destId) => { const previous = lastStep; const destElt = document.getElementById(destId); lastStep = (async () => { await previous; let blob = new Blob([ Uint8Array.from(atob(encoded), (m) => m.codePointAt(0)) ]); let reader = blob.stream().pipeThrough( new DecompressionStream(\"deflate\") ).pipeThrough( new TextDecoderStream(\"utf-8\") ).getReader(); let parts = []; while (true) { let step = await reader.read(); if (step.done) { break; } parts.push(step.value); } let newElt = document.createElement(\"div\"); newElt.innerHTML = parts.join(\"\"); destElt.parentNode.replaceChild(newElt, destElt); for (let oldScript of newElt.querySelectorAll(\"script\")) { let newScript = document.createElement(\"script\"); newScript.type = oldScript.type; newScript.textContent = oldScript.textContent; oldScript.parentNode.replaceChild(newScript, oldScript); } })(); requestAnimationFrame(() => { observer.observe(destElt); }); } })(); </script><div id=\"compress_html_fc1085ee36074aa9879363cdf4add243\"><script>window.treescope_decompress_enqueue(\"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\", \"compress_html_fc1085ee36074aa9879363cdf4add243\");</script><span style=\"color: #aaaaaa; font-family: monospace\">(Loading...)</span></div></div>"
      ],
      "text/plain": [
       "<IPython.core.display.HTML object>"
      ]
     },
     "metadata": {},
     "output_type": "display_data"
    },
    {
     "data": {
      "text/html": [
       "<div id=\"compress_html_fa72b390441345ddad9dd059f19538b1\"><script>window.treescope_decompress_enqueue(\"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\", \"compress_html_fa72b390441345ddad9dd059f19538b1\");</script></div>"
      ],
      "text/plain": [
       "<IPython.core.display.HTML object>"
      ]
     },
     "metadata": {},
     "output_type": "display_data"
    },
    {
     "data": {
      "text/html": [
       "<div id=\"output_dest_231d0943102741769a23fdd63b115f8f\"><script> (()=>{ const output = document.getElementById(\"output_231d0943102741769a23fdd63b115f8f\"); const dest = document.getElementById(\"output_dest_231d0943102741769a23fdd63b115f8f\"); dest.parentNode.replaceChild(output, dest); })(); </script></div>"
      ],
      "text/plain": [
       "Selection(\n",
       "  selected_by_path=OrderedDict({\n",
       "    (DictKey(key='b'),):\n",
       "      <jax.Array([0, 1, 2, 3, 4, 5, 6, 7, 8, 9], dtype=int32)>,\n",
       "  }),\n",
       "  remainder={\n",
       "    'a': 1,\n",
       "    'b': SelectionHole(path=(DictKey(key='b'),)),\n",
       "    'c': [\n",
       "      {\n",
       "        'value': <jax.Array([ 0,  1,  2,  3,  4,  5,  6,  7,  8,  9, 10, 11], dtype=int32)>,\n",
       "      },\n",
       "      {'value': <jax.Array([0., 0., 0., 0., 0., 0., 0.], dtype=float32)>},\n",
       "      {'value': 3},\n",
       "    ],\n",
       "  },\n",
       ")"
      ]
     },
     "execution_count": 17,
     "metadata": {},
     "output_type": "execute_result"
    }
   ],
   "source": [
    "pz.select(my_nested_object).at(lambda root: root[\"b\"])"
   ]
  },
  {
   "cell_type": "markdown",
   "metadata": {
    "id": "jBtV4TmU3_Az"
   },
   "source": [
    "Later `at` calls in a chain are relative to the currently selected part:"
   ]
  },
  {
   "cell_type": "code",
   "execution_count": 18,
   "metadata": {
    "execution": {
     "iopub.execute_input": "2024-05-28T18:16:59.420130Z",
     "iopub.status.busy": "2024-05-28T18:16:59.419913Z",
     "iopub.status.idle": "2024-05-28T18:16:59.441710Z",
     "shell.execute_reply": "2024-05-28T18:16:59.440842Z"
    },
    "id": "Z8xrYRKXMVbX"
   },
   "outputs": [
    {
     "data": {
      "text/html": [
       "<div id=\"output_c590403af5904964bd7851207ed03e1f\"><script> /* penzai.treescope rendering of a Python object (compressed) */ (()=>{ let observer; let lastStep = new Promise((resolve, reject) => { observer = new IntersectionObserver((entries) => { for (const entry of entries) { if (entry.isIntersecting) { resolve(); observer.disconnect(); return; } } }, {rootMargin: \"1000px\"}); }); window.treescope_decompress_enqueue = (encoded, destId) => { const previous = lastStep; const destElt = document.getElementById(destId); lastStep = (async () => { await previous; let blob = new Blob([ Uint8Array.from(atob(encoded), (m) => m.codePointAt(0)) ]); let reader = blob.stream().pipeThrough( new DecompressionStream(\"deflate\") ).pipeThrough( new TextDecoderStream(\"utf-8\") ).getReader(); let parts = []; while (true) { let step = await reader.read(); if (step.done) { break; } parts.push(step.value); } let newElt = document.createElement(\"div\"); newElt.innerHTML = parts.join(\"\"); destElt.parentNode.replaceChild(newElt, destElt); for (let oldScript of newElt.querySelectorAll(\"script\")) { let newScript = document.createElement(\"script\"); newScript.type = oldScript.type; newScript.textContent = oldScript.textContent; oldScript.parentNode.replaceChild(newScript, oldScript); } })(); requestAnimationFrame(() => { observer.observe(destElt); }); } })(); </script><div id=\"compress_html_e0629f0be1e74fedbf8bfe22c7bac53e\"><script>window.treescope_decompress_enqueue(\"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\", \"compress_html_e0629f0be1e74fedbf8bfe22c7bac53e\");</script><span style=\"color: #aaaaaa; font-family: monospace\">(Loading...)</span></div></div>"
      ],
      "text/plain": [
       "<IPython.core.display.HTML object>"
      ]
     },
     "metadata": {},
     "output_type": "display_data"
    },
    {
     "data": {
      "text/html": [
       "<div id=\"compress_html_4b4625faac6a4b649fcd10beec61820a\"><script>window.treescope_decompress_enqueue(\"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\", \"compress_html_4b4625faac6a4b649fcd10beec61820a\");</script></div>"
      ],
      "text/plain": [
       "<IPython.core.display.HTML object>"
      ]
     },
     "metadata": {},
     "output_type": "display_data"
    },
    {
     "data": {
      "text/html": [
       "<div id=\"output_dest_c590403af5904964bd7851207ed03e1f\"><script> (()=>{ const output = document.getElementById(\"output_c590403af5904964bd7851207ed03e1f\"); const dest = document.getElementById(\"output_dest_c590403af5904964bd7851207ed03e1f\"); dest.parentNode.replaceChild(output, dest); })(); </script></div>"
      ],
      "text/plain": [
       "Selection(\n",
       "  selected_by_path=OrderedDict({\n",
       "    (DictKey(key='c'), SequenceKey(idx=0), DictKey(key='value')):\n",
       "      <jax.Array([ 0,  1,  2,  3,  4,  5,  6,  7,  8,  9, 10, 11], dtype=int32)>,\n",
       "    (DictKey(key='c'), SequenceKey(idx=1), DictKey(key='value')):\n",
       "      <jax.Array([0., 0., 0., 0., 0., 0., 0.], dtype=float32)>,\n",
       "  }),\n",
       "  remainder={\n",
       "    'a': 1,\n",
       "    'b': <jax.Array([0, 1, 2, 3, 4, 5, 6, 7, 8, 9], dtype=int32)>,\n",
       "    'c': [{'value': SelectionHole(path=(DictKey(key='c'), SequenceKey(idx=0), DictKey(key='value')))}, {'value': SelectionHole(path=(DictKey(key='c'), SequenceKey(idx=1), DictKey(key='value')))}, {'value': 3}],\n",
       "  },\n",
       ")"
      ]
     },
     "execution_count": 18,
     "metadata": {},
     "output_type": "execute_result"
    }
   ],
   "source": [
    "(\n",
    "    pz.select(my_nested_object)\n",
    "    .at(lambda root: (root[\"c\"][0], root[\"c\"][1]))\n",
    "    .at(lambda subtree: subtree[\"value\"])\n",
    ")"
   ]
  },
  {
   "cell_type": "markdown",
   "metadata": {
    "id": "Dy30CsovGJz5"
   },
   "source": [
    "There are a few restrictions on the function that is used to select a subtree. In particular:\n",
    "- your function can't depend on the actual value passed in, only on its PyTree structure,\n",
    "- your function should return a single node or tuple of nodes from the PyTree.\n",
    "\n",
    "Internally, `Selection.at` is implemented using [`equinox.tree_at`](https://docs.kidger.site/equinox/api/manipulation/#equinox.tree_at), which takes care of most of the heavy lifting."
   ]
  },
  {
   "cell_type": "markdown",
   "metadata": {
    "id": "KAmBjvkVHSMg"
   },
   "source": [
    "### Selecting by type\n",
    "\n",
    "If you want to select all subtrees with a particular type, you can use `Selection.at_instances_of`:"
   ]
  },
  {
   "cell_type": "code",
   "execution_count": 19,
   "metadata": {
    "execution": {
     "iopub.execute_input": "2024-05-28T18:16:59.445622Z",
     "iopub.status.busy": "2024-05-28T18:16:59.445398Z",
     "iopub.status.idle": "2024-05-28T18:16:59.465080Z",
     "shell.execute_reply": "2024-05-28T18:16:59.464287Z"
    },
    "id": "y438yc3_HgEg"
   },
   "outputs": [
    {
     "data": {
      "text/html": [
       "<div id=\"output_abab4eec93d145f792ff55f1d2b217dd\"><script> /* penzai.treescope rendering of a Python object (compressed) */ (()=>{ let observer; let lastStep = new Promise((resolve, reject) => { observer = new IntersectionObserver((entries) => { for (const entry of entries) { if (entry.isIntersecting) { resolve(); observer.disconnect(); return; } } }, {rootMargin: \"1000px\"}); }); window.treescope_decompress_enqueue = (encoded, destId) => { const previous = lastStep; const destElt = document.getElementById(destId); lastStep = (async () => { await previous; let blob = new Blob([ Uint8Array.from(atob(encoded), (m) => m.codePointAt(0)) ]); let reader = blob.stream().pipeThrough( new DecompressionStream(\"deflate\") ).pipeThrough( new TextDecoderStream(\"utf-8\") ).getReader(); let parts = []; while (true) { let step = await reader.read(); if (step.done) { break; } parts.push(step.value); } let newElt = document.createElement(\"div\"); newElt.innerHTML = parts.join(\"\"); destElt.parentNode.replaceChild(newElt, destElt); for (let oldScript of newElt.querySelectorAll(\"script\")) { let newScript = document.createElement(\"script\"); newScript.type = oldScript.type; newScript.textContent = oldScript.textContent; oldScript.parentNode.replaceChild(newScript, oldScript); } })(); requestAnimationFrame(() => { observer.observe(destElt); }); } })(); </script><div id=\"compress_html_4666be3871f74fb09189457c1bdfe6b4\"><script>window.treescope_decompress_enqueue(\"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\", \"compress_html_4666be3871f74fb09189457c1bdfe6b4\");</script><span style=\"color: #aaaaaa; font-family: monospace\">(Loading...)</span></div></div>"
      ],
      "text/plain": [
       "<IPython.core.display.HTML object>"
      ]
     },
     "metadata": {},
     "output_type": "display_data"
    },
    {
     "data": {
      "text/html": [
       "<div id=\"compress_html_958a3a5badf74e1b9a22b5ff79bc7652\"><script>window.treescope_decompress_enqueue(\"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\", \"compress_html_958a3a5badf74e1b9a22b5ff79bc7652\");</script></div>"
      ],
      "text/plain": [
       "<IPython.core.display.HTML object>"
      ]
     },
     "metadata": {},
     "output_type": "display_data"
    },
    {
     "data": {
      "text/html": [
       "<div id=\"output_dest_abab4eec93d145f792ff55f1d2b217dd\"><script> (()=>{ const output = document.getElementById(\"output_abab4eec93d145f792ff55f1d2b217dd\"); const dest = document.getElementById(\"output_dest_abab4eec93d145f792ff55f1d2b217dd\"); dest.parentNode.replaceChild(output, dest); })(); </script></div>"
      ],
      "text/plain": [
       "Selection(\n",
       "  selected_by_path=OrderedDict({\n",
       "    (DictKey(key='a'),):\n",
       "      1,\n",
       "    (DictKey(key='c'), SequenceKey(idx=2), DictKey(key='value')):\n",
       "      3,\n",
       "  }),\n",
       "  remainder={\n",
       "    'a': SelectionHole(path=(DictKey(key='a'),)),\n",
       "    'b': <jax.Array([0, 1, 2, 3, 4, 5, 6, 7, 8, 9], dtype=int32)>,\n",
       "    'c': [{'value': <jax.Array([ 0,  1,  2,  3,  4,  5,  6,  7,  8,  9, 10, 11], dtype=int32)>}, {'value': <jax.Array([0., 0., 0., 0., 0., 0., 0.], dtype=float32)>}, {'value': SelectionHole(path=(DictKey(key='c'), SequenceKey(idx=2), DictKey(key='value')))}],\n",
       "  },\n",
       ")"
      ]
     },
     "execution_count": 19,
     "metadata": {},
     "output_type": "execute_result"
    }
   ],
   "source": [
    "pz.select(my_nested_object).at_instances_of(int)"
   ]
  },
  {
   "cell_type": "markdown",
   "metadata": {
    "id": "wIjWns9HHiXj"
   },
   "source": [
    "This selects any subtree for which `isinstance(subtree, requested_type)` evaluates to True.\n",
    "\n",
    "Note that selections cannot be nested, so this only selects the *outermost* value with the given type:"
   ]
  },
  {
   "cell_type": "code",
   "execution_count": 20,
   "metadata": {
    "execution": {
     "iopub.execute_input": "2024-05-28T18:16:59.468405Z",
     "iopub.status.busy": "2024-05-28T18:16:59.468166Z",
     "iopub.status.idle": "2024-05-28T18:16:59.484490Z",
     "shell.execute_reply": "2024-05-28T18:16:59.483731Z"
    },
    "id": "sopg1pzrH2ZX"
   },
   "outputs": [
    {
     "data": {
      "text/html": [
       "<div id=\"output_48fdde5a9ecd4a7db749535e011d540d\"><script> /* penzai.treescope rendering of a Python object (compressed) */ (()=>{ let observer; let lastStep = new Promise((resolve, reject) => { observer = new IntersectionObserver((entries) => { for (const entry of entries) { if (entry.isIntersecting) { resolve(); observer.disconnect(); return; } } }, {rootMargin: \"1000px\"}); }); window.treescope_decompress_enqueue = (encoded, destId) => { const previous = lastStep; const destElt = document.getElementById(destId); lastStep = (async () => { await previous; let blob = new Blob([ Uint8Array.from(atob(encoded), (m) => m.codePointAt(0)) ]); let reader = blob.stream().pipeThrough( new DecompressionStream(\"deflate\") ).pipeThrough( new TextDecoderStream(\"utf-8\") ).getReader(); let parts = []; while (true) { let step = await reader.read(); if (step.done) { break; } parts.push(step.value); } let newElt = document.createElement(\"div\"); newElt.innerHTML = parts.join(\"\"); destElt.parentNode.replaceChild(newElt, destElt); for (let oldScript of newElt.querySelectorAll(\"script\")) { let newScript = document.createElement(\"script\"); newScript.type = oldScript.type; newScript.textContent = oldScript.textContent; oldScript.parentNode.replaceChild(newScript, oldScript); } })(); requestAnimationFrame(() => { observer.observe(destElt); }); } })(); </script><div id=\"compress_html_5bff4e5ad27441ce9b22a0ee4db6e048\"><script>window.treescope_decompress_enqueue(\"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\", \"compress_html_5bff4e5ad27441ce9b22a0ee4db6e048\");</script><span style=\"color: #aaaaaa; font-family: monospace\">(Loading...)</span></div></div>"
      ],
      "text/plain": [
       "<IPython.core.display.HTML object>"
      ]
     },
     "metadata": {},
     "output_type": "display_data"
    },
    {
     "data": {
      "text/html": [
       "<div id=\"compress_html_04f60841325641c1baf845f903d55626\"><script>window.treescope_decompress_enqueue(\"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\", \"compress_html_04f60841325641c1baf845f903d55626\");</script></div>"
      ],
      "text/plain": [
       "<IPython.core.display.HTML object>"
      ]
     },
     "metadata": {},
     "output_type": "display_data"
    },
    {
     "data": {
      "text/html": [
       "<div id=\"output_dest_48fdde5a9ecd4a7db749535e011d540d\"><script> (()=>{ const output = document.getElementById(\"output_48fdde5a9ecd4a7db749535e011d540d\"); const dest = document.getElementById(\"output_dest_48fdde5a9ecd4a7db749535e011d540d\"); dest.parentNode.replaceChild(output, dest); })(); </script></div>"
      ],
      "text/plain": [
       "Selection(\n",
       "  selected_by_path=OrderedDict({\n",
       "    (): {\n",
       "      'a': 1,\n",
       "      'b': <jax.Array([0, 1, 2, 3, 4, 5, 6, 7, 8, 9], dtype=int32)>,\n",
       "      'c': [\n",
       "        {\n",
       "          'value': <jax.Array([ 0,  1,  2,  3,  4,  5,  6,  7,  8,  9, 10, 11], dtype=int32)>,\n",
       "        },\n",
       "        {\n",
       "          'value': <jax.Array([0., 0., 0., 0., 0., 0., 0.], dtype=float32)>,\n",
       "        },\n",
       "        {'value': 3},\n",
       "      ],\n",
       "    },\n",
       "  }),\n",
       "  remainder=SelectionHole(path=()),\n",
       ")"
      ]
     },
     "execution_count": 20,
     "metadata": {},
     "output_type": "execute_result"
    }
   ],
   "source": [
    "pz.select(my_nested_object).at_instances_of(dict)"
   ]
  },
  {
   "cell_type": "markdown",
   "metadata": {
    "id": "R-Qm4rBaHkNW"
   },
   "source": [
    "### Selecting by condition\n",
    "More generally, you can select all subtrees for which a function evaluates to true:"
   ]
  },
  {
   "cell_type": "code",
   "execution_count": 21,
   "metadata": {
    "execution": {
     "iopub.execute_input": "2024-05-28T18:16:59.487800Z",
     "iopub.status.busy": "2024-05-28T18:16:59.487586Z",
     "iopub.status.idle": "2024-05-28T18:16:59.507772Z",
     "shell.execute_reply": "2024-05-28T18:16:59.506992Z"
    },
    "id": "yK6nvVfWH-Jh"
   },
   "outputs": [
    {
     "data": {
      "text/html": [
       "<div id=\"output_9bc83698873947da96048420843c4e33\"><script> /* penzai.treescope rendering of a Python object (compressed) */ (()=>{ let observer; let lastStep = new Promise((resolve, reject) => { observer = new IntersectionObserver((entries) => { for (const entry of entries) { if (entry.isIntersecting) { resolve(); observer.disconnect(); return; } } }, {rootMargin: \"1000px\"}); }); window.treescope_decompress_enqueue = (encoded, destId) => { const previous = lastStep; const destElt = document.getElementById(destId); lastStep = (async () => { await previous; let blob = new Blob([ Uint8Array.from(atob(encoded), (m) => m.codePointAt(0)) ]); let reader = blob.stream().pipeThrough( new DecompressionStream(\"deflate\") ).pipeThrough( new TextDecoderStream(\"utf-8\") ).getReader(); let parts = []; while (true) { let step = await reader.read(); if (step.done) { break; } parts.push(step.value); } let newElt = document.createElement(\"div\"); newElt.innerHTML = parts.join(\"\"); destElt.parentNode.replaceChild(newElt, destElt); for (let oldScript of newElt.querySelectorAll(\"script\")) { let newScript = document.createElement(\"script\"); newScript.type = oldScript.type; newScript.textContent = oldScript.textContent; oldScript.parentNode.replaceChild(newScript, oldScript); } })(); requestAnimationFrame(() => { observer.observe(destElt); }); } })(); </script><div id=\"compress_html_a6124921540b4fffba0cea7911b6d762\"><script>window.treescope_decompress_enqueue(\"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\", \"compress_html_a6124921540b4fffba0cea7911b6d762\");</script><span style=\"color: #aaaaaa; font-family: monospace\">(Loading...)</span></div></div>"
      ],
      "text/plain": [
       "<IPython.core.display.HTML object>"
      ]
     },
     "metadata": {},
     "output_type": "display_data"
    },
    {
     "data": {
      "text/html": [
       "<div id=\"compress_html_85a434a1cc074623a132118c13b6cdbd\"><script>window.treescope_decompress_enqueue(\"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\", \"compress_html_85a434a1cc074623a132118c13b6cdbd\");</script></div>"
      ],
      "text/plain": [
       "<IPython.core.display.HTML object>"
      ]
     },
     "metadata": {},
     "output_type": "display_data"
    },
    {
     "data": {
      "text/html": [
       "<div id=\"output_dest_9bc83698873947da96048420843c4e33\"><script> (()=>{ const output = document.getElementById(\"output_9bc83698873947da96048420843c4e33\"); const dest = document.getElementById(\"output_dest_9bc83698873947da96048420843c4e33\"); dest.parentNode.replaceChild(output, dest); })(); </script></div>"
      ],
      "text/plain": [
       "Selection(\n",
       "  selected_by_path=OrderedDict({\n",
       "    (DictKey(key='b'),):\n",
       "      <jax.Array([0, 1, 2, 3, 4, 5, 6, 7, 8, 9], dtype=int32)>,\n",
       "    (DictKey(key='c'), SequenceKey(idx=1), DictKey(key='value')):\n",
       "      <jax.Array([0., 0., 0., 0., 0., 0., 0.], dtype=float32)>,\n",
       "  }),\n",
       "  remainder={\n",
       "    'a': 1,\n",
       "    'b': SelectionHole(path=(DictKey(key='b'),)),\n",
       "    'c': [{'value': <jax.Array([ 0,  1,  2,  3,  4,  5,  6,  7,  8,  9, 10, 11], dtype=int32)>}, {'value': SelectionHole(path=(DictKey(key='c'), SequenceKey(idx=1), DictKey(key='value')))}, {'value': 3}],\n",
       "  },\n",
       ")"
      ]
     },
     "execution_count": 21,
     "metadata": {},
     "output_type": "execute_result"
    }
   ],
   "source": [
    "(\n",
    "    pz.select(my_nested_object)\n",
    "    .at_subtrees_where(\n",
    "        lambda subtree: isinstance(subtree, jax.Array) and subtree.size <= 10)\n",
    ")"
   ]
  },
  {
   "cell_type": "markdown",
   "metadata": {
    "id": "Hz97YScaHmyC"
   },
   "source": [
    "In fact, `at_instances_of` is a thin wrapper around `at_subtrees_where`. There's another convenience method for finding values equal to a sentinel value:"
   ]
  },
  {
   "cell_type": "code",
   "execution_count": 22,
   "metadata": {
    "execution": {
     "iopub.execute_input": "2024-05-28T18:16:59.511406Z",
     "iopub.status.busy": "2024-05-28T18:16:59.511133Z",
     "iopub.status.idle": "2024-05-28T18:16:59.528268Z",
     "shell.execute_reply": "2024-05-28T18:16:59.527437Z"
    },
    "id": "LKwjwL8CJjur"
   },
   "outputs": [
    {
     "data": {
      "text/html": [
       "<div id=\"output_0a1020e8fe4047fb97cf14e2278bc9bb\"><script> /* penzai.treescope rendering of a Python object (compressed) */ (()=>{ let observer; let lastStep = new Promise((resolve, reject) => { observer = new IntersectionObserver((entries) => { for (const entry of entries) { if (entry.isIntersecting) { resolve(); observer.disconnect(); return; } } }, {rootMargin: \"1000px\"}); }); window.treescope_decompress_enqueue = (encoded, destId) => { const previous = lastStep; const destElt = document.getElementById(destId); lastStep = (async () => { await previous; let blob = new Blob([ Uint8Array.from(atob(encoded), (m) => m.codePointAt(0)) ]); let reader = blob.stream().pipeThrough( new DecompressionStream(\"deflate\") ).pipeThrough( new TextDecoderStream(\"utf-8\") ).getReader(); let parts = []; while (true) { let step = await reader.read(); if (step.done) { break; } parts.push(step.value); } let newElt = document.createElement(\"div\"); newElt.innerHTML = parts.join(\"\"); destElt.parentNode.replaceChild(newElt, destElt); for (let oldScript of newElt.querySelectorAll(\"script\")) { let newScript = document.createElement(\"script\"); newScript.type = oldScript.type; newScript.textContent = oldScript.textContent; oldScript.parentNode.replaceChild(newScript, oldScript); } })(); requestAnimationFrame(() => { observer.observe(destElt); }); } })(); </script><div id=\"compress_html_32f23ee93bd64dd787feb36a1868d53e\"><script>window.treescope_decompress_enqueue(\"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\", \"compress_html_32f23ee93bd64dd787feb36a1868d53e\");</script><span style=\"color: #aaaaaa; font-family: monospace\">(Loading...)</span></div></div>"
      ],
      "text/plain": [
       "<IPython.core.display.HTML object>"
      ]
     },
     "metadata": {},
     "output_type": "display_data"
    },
    {
     "data": {
      "text/html": [
       "<div id=\"compress_html_0e4cba0684fd4e14b78b41700eb16ff9\"><script>window.treescope_decompress_enqueue(\"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\", \"compress_html_0e4cba0684fd4e14b78b41700eb16ff9\");</script></div>"
      ],
      "text/plain": [
       "<IPython.core.display.HTML object>"
      ]
     },
     "metadata": {},
     "output_type": "display_data"
    },
    {
     "data": {
      "text/html": [
       "<div id=\"output_dest_0a1020e8fe4047fb97cf14e2278bc9bb\"><script> (()=>{ const output = document.getElementById(\"output_0a1020e8fe4047fb97cf14e2278bc9bb\"); const dest = document.getElementById(\"output_dest_0a1020e8fe4047fb97cf14e2278bc9bb\"); dest.parentNode.replaceChild(output, dest); })(); </script></div>"
      ],
      "text/plain": [
       "Selection(\n",
       "  selected_by_path=OrderedDict({(DictKey(key='a'),): 1}),\n",
       "  remainder={\n",
       "    'a': SelectionHole(path=(DictKey(key='a'),)),\n",
       "    'b': <jax.Array([0, 1, 2, 3, 4, 5, 6, 7, 8, 9], dtype=int32)>,\n",
       "    'c': [\n",
       "      {\n",
       "        'value': <jax.Array([ 0,  1,  2,  3,  4,  5,  6,  7,  8,  9, 10, 11], dtype=int32)>,\n",
       "      },\n",
       "      {\n",
       "        'value': <jax.Array([0., 0., 0., 0., 0., 0., 0.], dtype=float32)>,\n",
       "      },\n",
       "      {'value': 3},\n",
       "    ],\n",
       "  },\n",
       ")"
      ]
     },
     "execution_count": 22,
     "metadata": {},
     "output_type": "execute_result"
    }
   ],
   "source": [
    "(\n",
    "    pz.select(my_nested_object)\n",
    "    .at_equal_to(1)\n",
    ")"
   ]
  },
  {
   "cell_type": "code",
   "execution_count": 23,
   "metadata": {
    "execution": {
     "iopub.execute_input": "2024-05-28T18:16:59.531279Z",
     "iopub.status.busy": "2024-05-28T18:16:59.531021Z",
     "iopub.status.idle": "2024-05-28T18:16:59.541329Z",
     "shell.execute_reply": "2024-05-28T18:16:59.540501Z"
    },
    "id": "lNlmgOXZIW8O"
   },
   "outputs": [
    {
     "data": {
      "text/html": [
       "<div id=\"output_01a232e4d726463696bcde41d8a65503\"><script> /* penzai.treescope rendering of a Python object (compressed) */ (()=>{ let observer; let lastStep = new Promise((resolve, reject) => { observer = new IntersectionObserver((entries) => { for (const entry of entries) { if (entry.isIntersecting) { resolve(); observer.disconnect(); return; } } }, {rootMargin: \"1000px\"}); }); window.treescope_decompress_enqueue = (encoded, destId) => { const previous = lastStep; const destElt = document.getElementById(destId); lastStep = (async () => { await previous; let blob = new Blob([ Uint8Array.from(atob(encoded), (m) => m.codePointAt(0)) ]); let reader = blob.stream().pipeThrough( new DecompressionStream(\"deflate\") ).pipeThrough( new TextDecoderStream(\"utf-8\") ).getReader(); let parts = []; while (true) { let step = await reader.read(); if (step.done) { break; } parts.push(step.value); } let newElt = document.createElement(\"div\"); newElt.innerHTML = parts.join(\"\"); destElt.parentNode.replaceChild(newElt, destElt); for (let oldScript of newElt.querySelectorAll(\"script\")) { let newScript = document.createElement(\"script\"); newScript.type = oldScript.type; newScript.textContent = oldScript.textContent; oldScript.parentNode.replaceChild(newScript, oldScript); } })(); requestAnimationFrame(() => { observer.observe(destElt); }); } })(); </script><div id=\"compress_html_4a44425eb02e45698ffd50f3970206b4\"><script>window.treescope_decompress_enqueue(\"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\", \"compress_html_4a44425eb02e45698ffd50f3970206b4\");</script><span style=\"color: #aaaaaa; font-family: monospace\">(Loading...)</span></div></div>"
      ],
      "text/plain": [
       "<IPython.core.display.HTML object>"
      ]
     },
     "metadata": {},
     "output_type": "display_data"
    },
    {
     "data": {
      "text/html": [
       "<div id=\"output_dest_01a232e4d726463696bcde41d8a65503\"><script> (()=>{ const output = document.getElementById(\"output_01a232e4d726463696bcde41d8a65503\"); const dest = document.getElementById(\"output_dest_01a232e4d726463696bcde41d8a65503\"); dest.parentNode.replaceChild(output, dest); })(); </script></div>"
      ],
      "text/plain": [
       "Selection(\n",
       "  selected_by_path=OrderedDict({(DictKey(key='bar'),): [1, 2, 3]}),\n",
       "  remainder={\n",
       "    'bar': SelectionHole(path=(DictKey(key='bar'),)),\n",
       "    'foo': 'foo',\n",
       "  },\n",
       ")"
      ]
     },
     "execution_count": 23,
     "metadata": {},
     "output_type": "execute_result"
    }
   ],
   "source": [
    "(\n",
    "    pz.select({\"foo\": \"foo\", \"bar\": [1, 2, 3]}).at_equal_to([1, 2, 3])\n",
    ")"
   ]
  },
  {
   "cell_type": "markdown",
   "metadata": {
    "id": "1GZV7CkULrZ_"
   },
   "source": [
    "### Selecting by JAX keypath"
   ]
  },
  {
   "cell_type": "markdown",
   "metadata": {
    "id": "nJSlyPdGLvNE"
   },
   "source": [
    "PyTree nodes in JAX are associated with key paths identifying their location in the tree:"
   ]
  },
  {
   "cell_type": "code",
   "execution_count": 24,
   "metadata": {
    "execution": {
     "iopub.execute_input": "2024-05-28T18:16:59.546456Z",
     "iopub.status.busy": "2024-05-28T18:16:59.546217Z",
     "iopub.status.idle": "2024-05-28T18:16:59.558155Z",
     "shell.execute_reply": "2024-05-28T18:16:59.557274Z"
    },
    "id": "9nX57pMUL72X"
   },
   "outputs": [
    {
     "data": {
      "text/html": [
       "<div id=\"output_116a42d4b9454da081a766879f6b8338\"><script> /* penzai.treescope rendering of a Python object (compressed) */ (()=>{ let observer; let lastStep = new Promise((resolve, reject) => { observer = new IntersectionObserver((entries) => { for (const entry of entries) { if (entry.isIntersecting) { resolve(); observer.disconnect(); return; } } }, {rootMargin: \"1000px\"}); }); window.treescope_decompress_enqueue = (encoded, destId) => { const previous = lastStep; const destElt = document.getElementById(destId); lastStep = (async () => { await previous; let blob = new Blob([ Uint8Array.from(atob(encoded), (m) => m.codePointAt(0)) ]); let reader = blob.stream().pipeThrough( new DecompressionStream(\"deflate\") ).pipeThrough( new TextDecoderStream(\"utf-8\") ).getReader(); let parts = []; while (true) { let step = await reader.read(); if (step.done) { break; } parts.push(step.value); } let newElt = document.createElement(\"div\"); newElt.innerHTML = parts.join(\"\"); destElt.parentNode.replaceChild(newElt, destElt); for (let oldScript of newElt.querySelectorAll(\"script\")) { let newScript = document.createElement(\"script\"); newScript.type = oldScript.type; newScript.textContent = oldScript.textContent; oldScript.parentNode.replaceChild(newScript, oldScript); } })(); requestAnimationFrame(() => { observer.observe(destElt); }); } })(); </script><div id=\"compress_html_fb61e7cc5be94123ae39cf360b9221ff\"><script>window.treescope_decompress_enqueue(\"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\", \"compress_html_fb61e7cc5be94123ae39cf360b9221ff\");</script><span style=\"color: #aaaaaa; font-family: monospace\">(Loading...)</span></div></div>"
      ],
      "text/plain": [
       "<IPython.core.display.HTML object>"
      ]
     },
     "metadata": {},
     "output_type": "display_data"
    },
    {
     "data": {
      "text/html": [
       "<div id=\"output_dest_116a42d4b9454da081a766879f6b8338\"><script> (()=>{ const output = document.getElementById(\"output_116a42d4b9454da081a766879f6b8338\"); const dest = document.getElementById(\"output_dest_116a42d4b9454da081a766879f6b8338\"); dest.parentNode.replaceChild(output, dest); })(); </script></div>"
      ],
      "text/plain": [
       "{'a': (DictKey(key='a'),),\n",
       " 'b': (DictKey(key='b'),),\n",
       " 'c': [{'value': (DictKey(key='c'), SequenceKey(idx=0), DictKey(key='value'))},\n",
       "  {'value': (DictKey(key='c'), SequenceKey(idx=1), DictKey(key='value'))},\n",
       "  {'value': (DictKey(key='c'), SequenceKey(idx=2), DictKey(key='value'))}]}"
      ]
     },
     "execution_count": 24,
     "metadata": {},
     "output_type": "execute_result"
    }
   ],
   "source": [
    "jax.tree_util.tree_map_with_path(lambda key, node: key, my_nested_object)"
   ]
  },
  {
   "cell_type": "markdown",
   "metadata": {
    "id": "BzUbLkQ5MFTG"
   },
   "source": [
    "You can directly select nodes based on their JAX keypath:"
   ]
  },
  {
   "cell_type": "code",
   "execution_count": 25,
   "metadata": {
    "execution": {
     "iopub.execute_input": "2024-05-28T18:16:59.562545Z",
     "iopub.status.busy": "2024-05-28T18:16:59.562276Z",
     "iopub.status.idle": "2024-05-28T18:16:59.584105Z",
     "shell.execute_reply": "2024-05-28T18:16:59.583339Z"
    },
    "id": "YQZQ9MVwMw0h"
   },
   "outputs": [
    {
     "data": {
      "text/html": [
       "<div id=\"output_77e24d5285d44050842b57b97b3ec48a\"><script> /* penzai.treescope rendering of a Python object (compressed) */ (()=>{ let observer; let lastStep = new Promise((resolve, reject) => { observer = new IntersectionObserver((entries) => { for (const entry of entries) { if (entry.isIntersecting) { resolve(); observer.disconnect(); return; } } }, {rootMargin: \"1000px\"}); }); window.treescope_decompress_enqueue = (encoded, destId) => { const previous = lastStep; const destElt = document.getElementById(destId); lastStep = (async () => { await previous; let blob = new Blob([ Uint8Array.from(atob(encoded), (m) => m.codePointAt(0)) ]); let reader = blob.stream().pipeThrough( new DecompressionStream(\"deflate\") ).pipeThrough( new TextDecoderStream(\"utf-8\") ).getReader(); let parts = []; while (true) { let step = await reader.read(); if (step.done) { break; } parts.push(step.value); } let newElt = document.createElement(\"div\"); newElt.innerHTML = parts.join(\"\"); destElt.parentNode.replaceChild(newElt, destElt); for (let oldScript of newElt.querySelectorAll(\"script\")) { let newScript = document.createElement(\"script\"); newScript.type = oldScript.type; newScript.textContent = oldScript.textContent; oldScript.parentNode.replaceChild(newScript, oldScript); } })(); requestAnimationFrame(() => { observer.observe(destElt); }); } })(); </script><div id=\"compress_html_04f5f29df1c740c493119f7a7f2d2d97\"><script>window.treescope_decompress_enqueue(\"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\", \"compress_html_04f5f29df1c740c493119f7a7f2d2d97\");</script><span style=\"color: #aaaaaa; font-family: monospace\">(Loading...)</span></div></div>"
      ],
      "text/plain": [
       "<IPython.core.display.HTML object>"
      ]
     },
     "metadata": {},
     "output_type": "display_data"
    },
    {
     "data": {
      "text/html": [
       "<div id=\"compress_html_d9e549dab24548788043727aecb91df2\"><script>window.treescope_decompress_enqueue(\"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\", \"compress_html_d9e549dab24548788043727aecb91df2\");</script></div>"
      ],
      "text/plain": [
       "<IPython.core.display.HTML object>"
      ]
     },
     "metadata": {},
     "output_type": "display_data"
    },
    {
     "data": {
      "text/html": [
       "<div id=\"output_dest_77e24d5285d44050842b57b97b3ec48a\"><script> (()=>{ const output = document.getElementById(\"output_77e24d5285d44050842b57b97b3ec48a\"); const dest = document.getElementById(\"output_dest_77e24d5285d44050842b57b97b3ec48a\"); dest.parentNode.replaceChild(output, dest); })(); </script></div>"
      ],
      "text/plain": [
       "Selection(\n",
       "  selected_by_path=OrderedDict({\n",
       "    (DictKey(key='c'), SequenceKey(idx=0)):\n",
       "      {\n",
       "        'value': <jax.Array([ 0,  1,  2,  3,  4,  5,  6,  7,  8,  9, 10, 11], dtype=int32)>,\n",
       "      },\n",
       "    (DictKey(key='c'), SequenceKey(idx=2), DictKey(key='value')):\n",
       "      3,\n",
       "  }),\n",
       "  remainder={\n",
       "    'a': 1,\n",
       "    'b': <jax.Array([0, 1, 2, 3, 4, 5, 6, 7, 8, 9], dtype=int32)>,\n",
       "    'c': [SelectionHole(path=(DictKey(key='c'), SequenceKey(idx=0))), {'value': <jax.Array([0., 0., 0., 0., 0., 0., 0.], dtype=float32)>}, {'value': SelectionHole(path=(DictKey(key='c'), SequenceKey(idx=2), DictKey(key='value')))}],\n",
       "  },\n",
       ")"
      ]
     },
     "execution_count": 25,
     "metadata": {},
     "output_type": "execute_result"
    }
   ],
   "source": [
    "pz.select(my_nested_object).at_keypaths([\n",
    "    (jax.tree_util.DictKey(key='c'), jax.tree_util.SequenceKey(idx=2), jax.tree_util.DictKey(key='value')),\n",
    "    (jax.tree_util.DictKey(key='c'), jax.tree_util.SequenceKey(idx=0)),\n",
    "])"
   ]
  },
  {
   "cell_type": "markdown",
   "metadata": {
    "id": "vyDFHhwNNI2y"
   },
   "source": [
    "(You might have noticed that the fancy rendering for Selection objects is actually written in terms of `at_keypaths`, and exposes the keypaths for the currently selected nodes if you expand the last line!)"
   ]
  },
  {
   "cell_type": "markdown",
   "metadata": {
    "id": "j8rujhAbOOKR"
   },
   "source": [
    "### Selecting based on PyTree structure\n",
    "\n",
    "You can also build selections based on PyTree children or PyTree leaves:"
   ]
  },
  {
   "cell_type": "code",
   "execution_count": 26,
   "metadata": {
    "execution": {
     "iopub.execute_input": "2024-05-28T18:16:59.587771Z",
     "iopub.status.busy": "2024-05-28T18:16:59.587530Z",
     "iopub.status.idle": "2024-05-28T18:16:59.607099Z",
     "shell.execute_reply": "2024-05-28T18:16:59.606235Z"
    },
    "id": "ZBZnh09wOdJz"
   },
   "outputs": [
    {
     "data": {
      "text/html": [
       "<div id=\"output_4b8ff500dd3544a5a949fb2e9eec0b37\"><script> /* penzai.treescope rendering of a Python object (compressed) */ (()=>{ let observer; let lastStep = new Promise((resolve, reject) => { observer = new IntersectionObserver((entries) => { for (const entry of entries) { if (entry.isIntersecting) { resolve(); observer.disconnect(); return; } } }, {rootMargin: \"1000px\"}); }); window.treescope_decompress_enqueue = (encoded, destId) => { const previous = lastStep; const destElt = document.getElementById(destId); lastStep = (async () => { await previous; let blob = new Blob([ Uint8Array.from(atob(encoded), (m) => m.codePointAt(0)) ]); let reader = blob.stream().pipeThrough( new DecompressionStream(\"deflate\") ).pipeThrough( new TextDecoderStream(\"utf-8\") ).getReader(); let parts = []; while (true) { let step = await reader.read(); if (step.done) { break; } parts.push(step.value); } let newElt = document.createElement(\"div\"); newElt.innerHTML = parts.join(\"\"); destElt.parentNode.replaceChild(newElt, destElt); for (let oldScript of newElt.querySelectorAll(\"script\")) { let newScript = document.createElement(\"script\"); newScript.type = oldScript.type; newScript.textContent = oldScript.textContent; oldScript.parentNode.replaceChild(newScript, oldScript); } })(); requestAnimationFrame(() => { observer.observe(destElt); }); } })(); </script><div id=\"compress_html_e5faeb81cec24f118a5c12e09b60e2b7\"><script>window.treescope_decompress_enqueue(\"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\", \"compress_html_e5faeb81cec24f118a5c12e09b60e2b7\");</script><span style=\"color: #aaaaaa; font-family: monospace\">(Loading...)</span></div></div>"
      ],
      "text/plain": [
       "<IPython.core.display.HTML object>"
      ]
     },
     "metadata": {},
     "output_type": "display_data"
    },
    {
     "data": {
      "text/html": [
       "<div id=\"compress_html_b16d658278d04d30a5290ae77ae75003\"><script>window.treescope_decompress_enqueue(\"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\", \"compress_html_b16d658278d04d30a5290ae77ae75003\");</script></div>"
      ],
      "text/plain": [
       "<IPython.core.display.HTML object>"
      ]
     },
     "metadata": {},
     "output_type": "display_data"
    },
    {
     "data": {
      "text/html": [
       "<div id=\"output_dest_4b8ff500dd3544a5a949fb2e9eec0b37\"><script> (()=>{ const output = document.getElementById(\"output_4b8ff500dd3544a5a949fb2e9eec0b37\"); const dest = document.getElementById(\"output_dest_4b8ff500dd3544a5a949fb2e9eec0b37\"); dest.parentNode.replaceChild(output, dest); })(); </script></div>"
      ],
      "text/plain": [
       "Selection(\n",
       "  selected_by_path=OrderedDict({\n",
       "    (DictKey(key='a'),):\n",
       "      1,\n",
       "    (DictKey(key='b'),):\n",
       "      <jax.Array([0, 1, 2, 3, 4, 5, 6, 7, 8, 9], dtype=int32)>,\n",
       "    (DictKey(key='c'),):\n",
       "      [{'value': <jax.Array([ 0,  1,  2,  3,  4,  5,  6,  7,  8,  9, 10, 11], dtype=int32)>}, {'value': <jax.Array([0., 0., 0., 0., 0., 0., 0.], dtype=float32)>}, {'value': 3}],\n",
       "  }),\n",
       "  remainder={'a': SelectionHole(path=(DictKey(key='a'),)), 'b': SelectionHole(path=(DictKey(key='b'),)), 'c': SelectionHole(path=(DictKey(key='c'),))},\n",
       ")"
      ]
     },
     "execution_count": 26,
     "metadata": {},
     "output_type": "execute_result"
    }
   ],
   "source": [
    "pz.select(my_nested_object).at_children()"
   ]
  },
  {
   "cell_type": "code",
   "execution_count": 27,
   "metadata": {
    "execution": {
     "iopub.execute_input": "2024-05-28T18:16:59.610096Z",
     "iopub.status.busy": "2024-05-28T18:16:59.609883Z",
     "iopub.status.idle": "2024-05-28T18:16:59.634891Z",
     "shell.execute_reply": "2024-05-28T18:16:59.634035Z"
    },
    "id": "cGcp4EK2OfW1"
   },
   "outputs": [
    {
     "data": {
      "text/html": [
       "<div id=\"output_ef78f62cd38f4b0fae6a5dc2dbb641c3\"><script> /* penzai.treescope rendering of a Python object (compressed) */ (()=>{ let observer; let lastStep = new Promise((resolve, reject) => { observer = new IntersectionObserver((entries) => { for (const entry of entries) { if (entry.isIntersecting) { resolve(); observer.disconnect(); return; } } }, {rootMargin: \"1000px\"}); }); window.treescope_decompress_enqueue = (encoded, destId) => { const previous = lastStep; const destElt = document.getElementById(destId); lastStep = (async () => { await previous; let blob = new Blob([ Uint8Array.from(atob(encoded), (m) => m.codePointAt(0)) ]); let reader = blob.stream().pipeThrough( new DecompressionStream(\"deflate\") ).pipeThrough( new TextDecoderStream(\"utf-8\") ).getReader(); let parts = []; while (true) { let step = await reader.read(); if (step.done) { break; } parts.push(step.value); } let newElt = document.createElement(\"div\"); newElt.innerHTML = parts.join(\"\"); destElt.parentNode.replaceChild(newElt, destElt); for (let oldScript of newElt.querySelectorAll(\"script\")) { let newScript = document.createElement(\"script\"); newScript.type = oldScript.type; newScript.textContent = oldScript.textContent; oldScript.parentNode.replaceChild(newScript, oldScript); } })(); requestAnimationFrame(() => { observer.observe(destElt); }); } })(); </script><div id=\"compress_html_e8f5bbfb84114f8180d4dfe4e1bbc06c\"><script>window.treescope_decompress_enqueue(\"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\", \"compress_html_e8f5bbfb84114f8180d4dfe4e1bbc06c\");</script><span style=\"color: #aaaaaa; font-family: monospace\">(Loading...)</span></div></div>"
      ],
      "text/plain": [
       "<IPython.core.display.HTML object>"
      ]
     },
     "metadata": {},
     "output_type": "display_data"
    },
    {
     "data": {
      "text/html": [
       "<div id=\"compress_html_fcac181453414082ae14cad0ad187353\"><script>window.treescope_decompress_enqueue(\"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\", \"compress_html_fcac181453414082ae14cad0ad187353\");</script></div>"
      ],
      "text/plain": [
       "<IPython.core.display.HTML object>"
      ]
     },
     "metadata": {},
     "output_type": "display_data"
    },
    {
     "data": {
      "text/html": [
       "<div id=\"output_dest_ef78f62cd38f4b0fae6a5dc2dbb641c3\"><script> (()=>{ const output = document.getElementById(\"output_ef78f62cd38f4b0fae6a5dc2dbb641c3\"); const dest = document.getElementById(\"output_dest_ef78f62cd38f4b0fae6a5dc2dbb641c3\"); dest.parentNode.replaceChild(output, dest); })(); </script></div>"
      ],
      "text/plain": [
       "Selection(\n",
       "  selected_by_path=OrderedDict({(DictKey(key='a'),): 1, (DictKey(key='b'),): <jax.Array([0, 1, 2, 3, 4, 5, 6, 7, 8, 9], dtype=int32)>, (DictKey(key='c'), SequenceKey(idx=0), DictKey(key='value')): <jax.Array([ 0,  1,  2,  3,  4,  5,  6,  7,  8,  9, 10, 11], dtype=int32)>, (DictKey(key='c'), SequenceKey(idx=1), DictKey(key='value')): <jax.Array([0., 0., 0., 0., 0., 0., 0.], dtype=float32)>, (DictKey(key='c'), SequenceKey(idx=2), DictKey(key='value')): 3}),\n",
       "  remainder={\n",
       "    'a': SelectionHole(path=(DictKey(key='a'),)),\n",
       "    'b': SelectionHole(path=(DictKey(key='b'),)),\n",
       "    'c': [\n",
       "      {\n",
       "        'value': SelectionHole(\n",
       "          path=(DictKey(key='c'), SequenceKey(idx=0), DictKey(key='value')),\n",
       "        ),\n",
       "      },\n",
       "      {\n",
       "        'value': SelectionHole(path=(DictKey(key='c'), SequenceKey(idx=1), DictKey(key='value'))),\n",
       "      },\n",
       "      {\n",
       "        'value': SelectionHole(path=(DictKey(key='c'), SequenceKey(idx=2), DictKey(key='value'))),\n",
       "      },\n",
       "    ],\n",
       "  },\n",
       ")"
      ]
     },
     "execution_count": 27,
     "metadata": {},
     "output_type": "execute_result"
    }
   ],
   "source": [
    "pz.select(my_nested_object).at_pytree_leaves()"
   ]
  },
  {
   "cell_type": "markdown",
   "metadata": {
    "id": "L88O37NHOyrP"
   },
   "source": [
    "Note that some PyTree nodes, like `None` or the empty tuple `()`, don't have any children and are ignored by `jax.tree_util.tree_map`, so they won't be selected by `.at_pytree_leaves`:"
   ]
  },
  {
   "cell_type": "code",
   "execution_count": 28,
   "metadata": {
    "execution": {
     "iopub.execute_input": "2024-05-28T18:16:59.638527Z",
     "iopub.status.busy": "2024-05-28T18:16:59.638301Z",
     "iopub.status.idle": "2024-05-28T18:16:59.651470Z",
     "shell.execute_reply": "2024-05-28T18:16:59.650730Z"
    },
    "id": "-wD3VJajO6TR"
   },
   "outputs": [
    {
     "data": {
      "text/html": [
       "<div id=\"output_e79bda4aaecb4b43a18a24a025df371f\"><script> /* penzai.treescope rendering of a Python object (compressed) */ (()=>{ let observer; let lastStep = new Promise((resolve, reject) => { observer = new IntersectionObserver((entries) => { for (const entry of entries) { if (entry.isIntersecting) { resolve(); observer.disconnect(); return; } } }, {rootMargin: \"1000px\"}); }); window.treescope_decompress_enqueue = (encoded, destId) => { const previous = lastStep; const destElt = document.getElementById(destId); lastStep = (async () => { await previous; let blob = new Blob([ Uint8Array.from(atob(encoded), (m) => m.codePointAt(0)) ]); let reader = blob.stream().pipeThrough( new DecompressionStream(\"deflate\") ).pipeThrough( new TextDecoderStream(\"utf-8\") ).getReader(); let parts = []; while (true) { let step = await reader.read(); if (step.done) { break; } parts.push(step.value); } let newElt = document.createElement(\"div\"); newElt.innerHTML = parts.join(\"\"); destElt.parentNode.replaceChild(newElt, destElt); for (let oldScript of newElt.querySelectorAll(\"script\")) { let newScript = document.createElement(\"script\"); newScript.type = oldScript.type; newScript.textContent = oldScript.textContent; oldScript.parentNode.replaceChild(newScript, oldScript); } })(); requestAnimationFrame(() => { observer.observe(destElt); }); } })(); </script><div id=\"compress_html_a9c88f52417b47dfa2e302c32c0e6d47\"><script>window.treescope_decompress_enqueue(\"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\", \"compress_html_a9c88f52417b47dfa2e302c32c0e6d47\");</script><span style=\"color: #aaaaaa; font-family: monospace\">(Loading...)</span></div></div>"
      ],
      "text/plain": [
       "<IPython.core.display.HTML object>"
      ]
     },
     "metadata": {},
     "output_type": "display_data"
    },
    {
     "data": {
      "text/html": [
       "<div id=\"output_dest_e79bda4aaecb4b43a18a24a025df371f\"><script> (()=>{ const output = document.getElementById(\"output_e79bda4aaecb4b43a18a24a025df371f\"); const dest = document.getElementById(\"output_dest_e79bda4aaecb4b43a18a24a025df371f\"); dest.parentNode.replaceChild(output, dest); })(); </script></div>"
      ],
      "text/plain": [
       "Selection(\n",
       "  selected_by_path=OrderedDict({(SequenceKey(idx=0),): 1, (SequenceKey(idx=1),): 2, (SequenceKey(idx=3),): 3, (SequenceKey(idx=5),): 4}),\n",
       "  remainder=[\n",
       "    SelectionHole(path=(SequenceKey(idx=0),)),\n",
       "    SelectionHole(path=(SequenceKey(idx=1),)),\n",
       "    (),\n",
       "    SelectionHole(path=(SequenceKey(idx=3),)),\n",
       "    None,\n",
       "    SelectionHole(path=(SequenceKey(idx=5),)),\n",
       "  ],\n",
       ")"
      ]
     },
     "execution_count": 28,
     "metadata": {},
     "output_type": "execute_result"
    }
   ],
   "source": [
    "pz.select([1, 2, (), 3, None, 4]).at_pytree_leaves()"
   ]
  },
  {
   "cell_type": "markdown",
   "metadata": {
    "id": "_afpL4O8O_VZ"
   },
   "source": [
    "If you want to select these too, you can use `.at_childless`:"
   ]
  },
  {
   "cell_type": "code",
   "execution_count": 29,
   "metadata": {
    "execution": {
     "iopub.execute_input": "2024-05-28T18:16:59.654812Z",
     "iopub.status.busy": "2024-05-28T18:16:59.654598Z",
     "iopub.status.idle": "2024-05-28T18:16:59.669411Z",
     "shell.execute_reply": "2024-05-28T18:16:59.668686Z"
    },
    "id": "byvIxqOZPDD6"
   },
   "outputs": [
    {
     "data": {
      "text/html": [
       "<div id=\"output_e93f6050da6d43d4a0846769808aa6f5\"><script> /* penzai.treescope rendering of a Python object (compressed) */ (()=>{ let observer; let lastStep = new Promise((resolve, reject) => { observer = new IntersectionObserver((entries) => { for (const entry of entries) { if (entry.isIntersecting) { resolve(); observer.disconnect(); return; } } }, {rootMargin: \"1000px\"}); }); window.treescope_decompress_enqueue = (encoded, destId) => { const previous = lastStep; const destElt = document.getElementById(destId); lastStep = (async () => { await previous; let blob = new Blob([ Uint8Array.from(atob(encoded), (m) => m.codePointAt(0)) ]); let reader = blob.stream().pipeThrough( new DecompressionStream(\"deflate\") ).pipeThrough( new TextDecoderStream(\"utf-8\") ).getReader(); let parts = []; while (true) { let step = await reader.read(); if (step.done) { break; } parts.push(step.value); } let newElt = document.createElement(\"div\"); newElt.innerHTML = parts.join(\"\"); destElt.parentNode.replaceChild(newElt, destElt); for (let oldScript of newElt.querySelectorAll(\"script\")) { let newScript = document.createElement(\"script\"); newScript.type = oldScript.type; newScript.textContent = oldScript.textContent; oldScript.parentNode.replaceChild(newScript, oldScript); } })(); requestAnimationFrame(() => { observer.observe(destElt); }); } })(); </script><div id=\"compress_html_7653786b4e464ae98450d7788f43c6b9\"><script>window.treescope_decompress_enqueue(\"eNrtXI1T2soW/1e26UyFqyDfVqzMC8iXrVrFVuu9d5gl2SQrySYmC4gd//d3dsM3kWovvvumxc4U2Zw9n/s75+yB9kPAhzYpJblPSKC5Hmn7rsvRd+S5AeXUZUXkExtz2icHyHAZTxjYofawiByXuYGHNVgfWJSThHxTRJ4PKzYNeEKyTvChB6vMZbDcwVrX9N0e0xOaa7t+Mdx6gEbvOjYQAD+qc6uIDMqBjHHC+AFysG9SlrCJwYsoo1lCBiMJi1DTgpV0Mn+AHj/shuZ8CDSferyEqIFiA8p0dzC1EB0eHiJQgRjAQI+DrcsU6PvjwdJysu0RplNmqprwTABkf/79Q7IGZrotWLKebUdQm4S3F7x/iGJjp7e5G0eHJVBy9w/0yXW7EAQfcYsgSclcnSTRH7vIJhyN9s5slaEB4bHw2ZtDpLtazwGHJjuuPkTv3qE34klSs3EQfIKgJYXDMWVBTJlXSokj4aqxDLHJwz5wqtrEkRF6BMm85zP5EN5G2Or3WMt1mTBw4PrdkWUgMuCg2RUsiUdzy5xqYtEjPhjuYKaRJHMHsfjEtKUnKBFu+oCyGaFy1BlYDGXSJszkFhwNlIo6EatjGtotPEDsgExVt3pM6P5D4YFFDS5MkjvEL4/w57k6xMaUPrnrkYCrjDpYUNR87JBY6Nd4PDoii6p4vcAKY3PwHMeNlTgMXfES1z1f7UjFCYNdPXJEDOL7RL8kjgfHngTLB8izxeLk4MM2f9giNtG466u2DQd9tHc2CfZYO4CTqsQPJOBiAl/ACbmGZCgMhdcZ3PjEcftkDjUzPJ5CQmysq+Bv+O4DEeCQnMPEN69uTAkTm2ApdsC7WdM0n4AZI0DO0sJvSZGHgTgUIt+N1sk9r4TCZh5PFw+kOiHWT0W68Ql4SyMVgJ8eAw47gkDE6clYcdc07TCNtGX256CYzHKwQmy+g0gfuI9cIY6dfJ/skqFApOIr49QDxDM+D/nGlAnPtgMKKmM9HhHUg7AQfNBpH8mNh4t5DXHcAYXJ/aGSUpDLQChoz2boovWPcYsGY80VKDlhIZWVrK25joiBPISysr3F8kcotUCCi8zlsaIFp8ePR9CPyEEtgKU+wzEFP4YxpWA9p0P8WYL99+l8QRAYrq3jDpgg6sUTxR0UmyNrh1YDtU4DiPhwXMQXCVEJ2bhD7GKxQwArZEYDTf4cRMoLK3kiLUr5qOCnDqayKJP1vWO7oiN4UqZ027JkHfvdgGATQsiWd0uPLyxZOIiVJM9SpB/CKGkW0brQNMTRH/GpDmJr9KYx/ZyGElZFtPVXJt/Rtv5N9eY3Palk4X+gpIijENzzAxFAz6WggR8hlwbrEyuhIAUlJI6Dp874eqROzRP5dVlKkgZtg/oBb7usLY5/BLRWQSmZyQs0RYYK/WP1w4gvqiismuvNJaAfkyKlgmP1tibqxJpOy0wuGiWGOdEatrUY3A2gA0x797IMLOgBRezVVOlAeoaDFKqiuxyECjXQW5ISf4RT3B4ctY5734ZgtuGNjPH3p5Keh3XRN0FehMASR0i4TwT0Qa6NpMGSNFMwHVBuvS7X9fhuB0U64tUCM6ouDr6fXicfobHCNoNOsw0XVoPewz55vQVPEOGb98I1j8lAdl6At3ZHFH7sD4Ew9BJcQyG6gWtTHWlDzBZOgDiHsw9neY2Tz0y1ComkCoPRnbYDBof7oPuCxk7iLXhlQEHUo+S9JnDAQgvaS709wD6DY7jonreGgbV0NoLQgzby+/hEJ/zRKEAkoFFeGC0lUkmZGafzh6IcH2A/YfpYp6JdTmfzOjF3kOtjZhKUgjNQ0CxobuF9ELa/4RIKE8uyKku5cW0em8tyY2MekwOLMOgjbRt7AdF/3Km9WPgKCWFSkTIkEbn34Gb3JM069IgSMTI0JJjeLaJcMd/3J+cvDWgFh0VT2dw1JprwOcKe5DNS+T+jeZtGxslpPHvbOgF4+hTbqDV0IE0E6CzMoToaX+UqrjfcGiUUeTURbH0H2wtJJpeCyhT4WhH1fDumY46L4vnuwDWMzEEHB6SQ29FT+/UTUy2r8qd5rqqu/K18MYC/GzVVraqrfsqOqppd96PerJYrg2+qevmtcqyeNMsVtWbeNxufLB6UTygxs7Wj68ynZuFbv+X16OeT/GX6+Lp58fWkf3XywD8Pa7XK9pXZvaTlo5RFj857x1W9fptqdHaNflP37j4WrLsrSs97J6xuNYwvXP1SKJ/6ObXWZN1qQfvS67Hti/ydFnQHfaNm797dm1X3vdk5HtTfpxvqLlMv8p98/zh9sW0+pC70lHpspM3TvcqgfpsxU+6wd7G351TThUHjev/MND1y2R3mSLPzkNc6/lmdY9U8b54OjnAwDM57zeb1VbU2UD+fe81v+pfd3W1z73LvOstTxsfPd2o/Dzw/qad76slAdcyHi9Z276ZFqtf3GaOgPZzmLhrDfK+sfnwo33o1L0sb55Vq6qb3OdfaY0b5U7VRO3FUuv2+X81YLG3tbXe+Dq5vBw2/f1T/UmG3RrVq8u0z7ca29/L7leNB+b21nzs5qbey9RvVdJr52/L5Pr+sk8Z+tVxu1rNHZu5i95s27Kh1iOnXj7vqeR2r5KRiq42H6pl5w81C+bN5dtY8KnfpeZ7UyteVck2jKc/yXY/B2fBuqkfph3S3ZVQMbg0/soaOa0HDSJ069eppoayrd1+/epgHrRtH1zHdzxgP+7kv9Pau4Dl+4cz9VmlRv+70j+vZ1lUrW6tmtPK5cbndsF2vnqsFgzw27wrv6Q1pndreFSs3mkQ/8Unv6q5ecdJXNb/bat3nM4Wrq2CggkZxJEeEPLYlj/VWfB05CdA97PQ4d1lkupk+jrpXKUhZoIJeH8pMNPFfJJ3TlYOfTQIA9k6Xwk6ZDBxISJbs9jDjsJ0CxvXJCH7SrS7dxObao33ZHs1ZGV7hIqyIvpFPdyYHGLoMmwrHTvZjg88NM8ajhFUyF/bMi5x1PepjP5ZIiGyXwAwCKweP8dllIURMZEX1H124JFuUDhABjyWgHkPj+jJTJhpAYCjR38xrIkWiN9TxXJ9jtsS747tdWY694fS+/GPvzmyb8efkUrL4mcnS9M6SE1u5PzQNHSLIbkxDsVDC/BgfLLl0xcEDspEGYi0gXColXCr0wANMOWK4T03MXT8JnL2Oi309OfApJ5dwQY5NeUEkRrym0z/o+mLKjL/loJPwS+oQCMxksrq0bzypXdj6uIMyqVRKpgYNc+jzYvJyGy13xqnKVLn5WWoMwvsW1TC14TBwFwniNxKT0NAxuH7YQ2gZAk6wLs7E9qzvRjPM6QBTHKXxBHNugKiUvIfR1SIG5EA2T7x0AVZWPV94OD90W+xvgThMmB8o83ociaEyaCdSJNztlEgmo2wKD8NMWvqwKzfPy7WAkw8ium0OrS/hivRNokuGUDesQ0Up/Tm2dXekwtpsXpL977kkyraoq/OCikvDgOVb7MKOJ658z6BaIJlr1Je2z91/ldJbFH6wQfTiJJpzLy8U/qNT82fqbyUKSeHkXCmlo7X48cvOsg8mlyalhKLMWeGorWny3kIuq4gcdbi1IiHLjyLiW2hSRQ6VmI2djo7lhyZF+TcYH1eQzPWHykzFgUYimlg0DoslEohlehL+hN9Heq920QZ4G+ClVwMv80sDL/0S4KU3wNsAb33AywDwYvFfE1eZl+Aqs8HVBlfrw1V2dUHL/tIFLfsS4GU3wNsAb33Ay0UDb/T1KKV06jLyS4Mv9xLw5Tbg24BvfeDLr656uZ8F3ioX7Px/wC7/Etjl1we78OXv5zjhh55dmBvHk5i3R8ENImfHL4HyP0Fu9BB4Qd2VyfmdzQ8KKOh1ZKB3kEVNyxafcBMd4Y7bJ+9MfvAMJ75FK7ks+jgiv6xC8K8xiy/FXm32/no2bmyLQtDk6ycLDxe+HKeUbvG9/Eiw3ePUTs7DoCX+AQfTyEcyXKv3qH5/+BKL5otR6idKzNxLfNIVPrH8rGbxpd3TBgEbBKwJAekNAjYI+K0RkNkgYIOA3xoB2Q0CNgj4rRGQ2yBgg4DfGgH5V0bAzzN86Wh4cYA5IdVp/+kvMD/1X0XI70WEe/4Lyflw/w==\", \"compress_html_7653786b4e464ae98450d7788f43c6b9\");</script><span style=\"color: #aaaaaa; font-family: monospace\">(Loading...)</span></div></div>"
      ],
      "text/plain": [
       "<IPython.core.display.HTML object>"
      ]
     },
     "metadata": {},
     "output_type": "display_data"
    },
    {
     "data": {
      "text/html": [
       "<div id=\"output_dest_e93f6050da6d43d4a0846769808aa6f5\"><script> (()=>{ const output = document.getElementById(\"output_e93f6050da6d43d4a0846769808aa6f5\"); const dest = document.getElementById(\"output_dest_e93f6050da6d43d4a0846769808aa6f5\"); dest.parentNode.replaceChild(output, dest); })(); </script></div>"
      ],
      "text/plain": [
       "Selection(\n",
       "  selected_by_path=OrderedDict({(SequenceKey(idx=0),): 1, (SequenceKey(idx=1),): 2, (SequenceKey(idx=2),): (), (SequenceKey(idx=3),): 3, (SequenceKey(idx=4),): None, (SequenceKey(idx=5),): 4}),\n",
       "  remainder=[\n",
       "    SelectionHole(path=(SequenceKey(idx=0),)),\n",
       "    SelectionHole(path=(SequenceKey(idx=1),)),\n",
       "    SelectionHole(path=(SequenceKey(idx=2),)),\n",
       "    SelectionHole(path=(SequenceKey(idx=3),)),\n",
       "    SelectionHole(path=(SequenceKey(idx=4),)),\n",
       "    SelectionHole(path=(SequenceKey(idx=5),)),\n",
       "  ],\n",
       ")"
      ]
     },
     "execution_count": 29,
     "metadata": {},
     "output_type": "execute_result"
    }
   ],
   "source": [
    "pz.select([1, 2, (), 3, None, 4]).at_childless()"
   ]
  },
  {
   "cell_type": "markdown",
   "metadata": {
    "id": "3y9uooSkPKoU"
   },
   "source": [
    "### Filtering selections\n",
    "Given an existing set of selected nodes, you can choose to filter down to only a subset that match a criterion:"
   ]
  },
  {
   "cell_type": "code",
   "execution_count": 30,
   "metadata": {
    "execution": {
     "iopub.execute_input": "2024-05-28T18:16:59.673007Z",
     "iopub.status.busy": "2024-05-28T18:16:59.672794Z",
     "iopub.status.idle": "2024-05-28T18:16:59.695029Z",
     "shell.execute_reply": "2024-05-28T18:16:59.694110Z"
    },
    "id": "Uk1-HVvKPOq6"
   },
   "outputs": [
    {
     "data": {
      "text/html": [
       "<div id=\"output_98c186f6590e47b9a0bcc92b13ab9757\"><script> /* penzai.treescope rendering of a Python object (compressed) */ (()=>{ let observer; let lastStep = new Promise((resolve, reject) => { observer = new IntersectionObserver((entries) => { for (const entry of entries) { if (entry.isIntersecting) { resolve(); observer.disconnect(); return; } } }, {rootMargin: \"1000px\"}); }); window.treescope_decompress_enqueue = (encoded, destId) => { const previous = lastStep; const destElt = document.getElementById(destId); lastStep = (async () => { await previous; let blob = new Blob([ Uint8Array.from(atob(encoded), (m) => m.codePointAt(0)) ]); let reader = blob.stream().pipeThrough( new DecompressionStream(\"deflate\") ).pipeThrough( new TextDecoderStream(\"utf-8\") ).getReader(); let parts = []; while (true) { let step = await reader.read(); if (step.done) { break; } parts.push(step.value); } let newElt = document.createElement(\"div\"); newElt.innerHTML = parts.join(\"\"); destElt.parentNode.replaceChild(newElt, destElt); for (let oldScript of newElt.querySelectorAll(\"script\")) { let newScript = document.createElement(\"script\"); newScript.type = oldScript.type; newScript.textContent = oldScript.textContent; oldScript.parentNode.replaceChild(newScript, oldScript); } })(); requestAnimationFrame(() => { observer.observe(destElt); }); } })(); </script><div id=\"compress_html_edbca26920a848d6bccd2e8f9447181a\"><script>window.treescope_decompress_enqueue(\"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\", \"compress_html_edbca26920a848d6bccd2e8f9447181a\");</script><span style=\"color: #aaaaaa; font-family: monospace\">(Loading...)</span></div></div>"
      ],
      "text/plain": [
       "<IPython.core.display.HTML object>"
      ]
     },
     "metadata": {},
     "output_type": "display_data"
    },
    {
     "data": {
      "text/html": [
       "<div id=\"output_dest_98c186f6590e47b9a0bcc92b13ab9757\"><script> (()=>{ const output = document.getElementById(\"output_98c186f6590e47b9a0bcc92b13ab9757\"); const dest = document.getElementById(\"output_dest_98c186f6590e47b9a0bcc92b13ab9757\"); dest.parentNode.replaceChild(output, dest); })(); </script></div>"
      ],
      "text/plain": [
       "Selection(\n",
       "  selected_by_path=OrderedDict({(SequenceKey(idx=0),): 0, (SequenceKey(idx=2),): 2, (SequenceKey(idx=4),): 4, (SequenceKey(idx=6),): 6, (SequenceKey(idx=8),): 8, (SequenceKey(idx=10),): 10, (SequenceKey(idx=12),): 12, (SequenceKey(idx=14),): 14, (SequenceKey(idx=16),): 16, (SequenceKey(idx=18),): 18}),\n",
       "  remainder=[SelectionHole(path=(SequenceKey(idx=0),)), 1, SelectionHole(path=(SequenceKey(idx=2),)), 3, SelectionHole(path=(SequenceKey(idx=4),)), 5, SelectionHole(path=(SequenceKey(idx=6),)), 7, SelectionHole(path=(SequenceKey(idx=8),)), 9, SelectionHole(path=(SequenceKey(idx=10),)), 11, SelectionHole(path=(SequenceKey(idx=12),)), 13, SelectionHole(path=(SequenceKey(idx=14),)), 15, SelectionHole(path=(SequenceKey(idx=16),)), 17, SelectionHole(path=(SequenceKey(idx=18),)), 19],\n",
       ")"
      ]
     },
     "execution_count": 30,
     "metadata": {},
     "output_type": "execute_result"
    }
   ],
   "source": [
    "pz.select(list(range(20))).at_instances_of(int).where(lambda x: x % 2 == 0)"
   ]
  },
  {
   "cell_type": "markdown",
   "metadata": {
    "id": "2Ae_LP3BdpGG"
   },
   "source": [
    "You can also choose to keep only the `n`th node that you've selected (e.g. the third integer in the collection), zero-indexed:"
   ]
  },
  {
   "cell_type": "code",
   "execution_count": 31,
   "metadata": {
    "execution": {
     "iopub.execute_input": "2024-05-28T18:16:59.698452Z",
     "iopub.status.busy": "2024-05-28T18:16:59.698217Z",
     "iopub.status.idle": "2024-05-28T18:16:59.708229Z",
     "shell.execute_reply": "2024-05-28T18:16:59.707576Z"
    },
    "id": "zkisw9V-eNaa"
   },
   "outputs": [
    {
     "data": {
      "text/html": [
       "<div id=\"output_b5f9813519314f4f824fc7dceaca3834\"><script> /* penzai.treescope rendering of a Python object (compressed) */ (()=>{ let observer; let lastStep = new Promise((resolve, reject) => { observer = new IntersectionObserver((entries) => { for (const entry of entries) { if (entry.isIntersecting) { resolve(); observer.disconnect(); return; } } }, {rootMargin: \"1000px\"}); }); window.treescope_decompress_enqueue = (encoded, destId) => { const previous = lastStep; const destElt = document.getElementById(destId); lastStep = (async () => { await previous; let blob = new Blob([ Uint8Array.from(atob(encoded), (m) => m.codePointAt(0)) ]); let reader = blob.stream().pipeThrough( new DecompressionStream(\"deflate\") ).pipeThrough( new TextDecoderStream(\"utf-8\") ).getReader(); let parts = []; while (true) { let step = await reader.read(); if (step.done) { break; } parts.push(step.value); } let newElt = document.createElement(\"div\"); newElt.innerHTML = parts.join(\"\"); destElt.parentNode.replaceChild(newElt, destElt); for (let oldScript of newElt.querySelectorAll(\"script\")) { let newScript = document.createElement(\"script\"); newScript.type = oldScript.type; newScript.textContent = oldScript.textContent; oldScript.parentNode.replaceChild(newScript, oldScript); } })(); requestAnimationFrame(() => { observer.observe(destElt); }); } })(); </script><div id=\"compress_html_1dbd540356d84d5fb5fca544751fb87d\"><script>window.treescope_decompress_enqueue(\"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\", \"compress_html_1dbd540356d84d5fb5fca544751fb87d\");</script><span style=\"color: #aaaaaa; font-family: monospace\">(Loading...)</span></div></div>"
      ],
      "text/plain": [
       "<IPython.core.display.HTML object>"
      ]
     },
     "metadata": {},
     "output_type": "display_data"
    },
    {
     "data": {
      "text/html": [
       "<div id=\"output_dest_b5f9813519314f4f824fc7dceaca3834\"><script> (()=>{ const output = document.getElementById(\"output_b5f9813519314f4f824fc7dceaca3834\"); const dest = document.getElementById(\"output_dest_b5f9813519314f4f824fc7dceaca3834\"); dest.parentNode.replaceChild(output, dest); })(); </script></div>"
      ],
      "text/plain": [
       "Selection(\n",
       "  selected_by_path=OrderedDict({(SequenceKey(idx=4),): 3}),\n",
       "  remainder=[\n",
       "    1,\n",
       "    'a',\n",
       "    2,\n",
       "    'b',\n",
       "    SelectionHole(path=(SequenceKey(idx=4),)),\n",
       "    'c',\n",
       "    4,\n",
       "    'd',\n",
       "  ],\n",
       ")"
      ]
     },
     "execution_count": 31,
     "metadata": {},
     "output_type": "execute_result"
    }
   ],
   "source": [
    "pz.select([1, \"a\", 2, \"b\", 3, \"c\", 4, \"d\"]).at_instances_of(int).pick_nth_selected(2)"
   ]
  },
  {
   "cell_type": "markdown",
   "metadata": {
    "id": "VK7GeXc6ka0s"
   },
   "source": [
    "### Inverting selections\n",
    "Selections can be inverted, which produces a new Selection which selects every PyTree node that did NOT contain any of the selected nodes:"
   ]
  },
  {
   "cell_type": "code",
   "execution_count": 32,
   "metadata": {
    "execution": {
     "iopub.execute_input": "2024-05-28T18:16:59.711933Z",
     "iopub.status.busy": "2024-05-28T18:16:59.711705Z",
     "iopub.status.idle": "2024-05-28T18:16:59.726295Z",
     "shell.execute_reply": "2024-05-28T18:16:59.725409Z"
    },
    "id": "CF1rqre8klTc"
   },
   "outputs": [
    {
     "name": "stdout",
     "output_type": "stream",
     "text": [
      "Original:\n"
     ]
    },
    {
     "data": {
      "text/html": [
       "<script> /* penzai.treescope rendering of a Python object (compressed) */ (()=>{ let observer; let lastStep = new Promise((resolve, reject) => { observer = new IntersectionObserver((entries) => { for (const entry of entries) { if (entry.isIntersecting) { resolve(); observer.disconnect(); return; } } }, {rootMargin: \"1000px\"}); }); window.treescope_decompress_enqueue = (encoded, destId) => { const previous = lastStep; const destElt = document.getElementById(destId); lastStep = (async () => { await previous; let blob = new Blob([ Uint8Array.from(atob(encoded), (m) => m.codePointAt(0)) ]); let reader = blob.stream().pipeThrough( new DecompressionStream(\"deflate\") ).pipeThrough( new TextDecoderStream(\"utf-8\") ).getReader(); let parts = []; while (true) { let step = await reader.read(); if (step.done) { break; } parts.push(step.value); } let newElt = document.createElement(\"div\"); newElt.innerHTML = parts.join(\"\"); destElt.parentNode.replaceChild(newElt, destElt); for (let oldScript of newElt.querySelectorAll(\"script\")) { let newScript = document.createElement(\"script\"); newScript.type = oldScript.type; newScript.textContent = oldScript.textContent; oldScript.parentNode.replaceChild(newScript, oldScript); } })(); requestAnimationFrame(() => { observer.observe(destElt); }); } })(); </script><div id=\"compress_html_dff24081036a487ba2bdf8564cf7ed57\"><script>window.treescope_decompress_enqueue(\"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\", \"compress_html_dff24081036a487ba2bdf8564cf7ed57\");</script><span style=\"color: #aaaaaa; font-family: monospace\">(Loading...)</span></div>"
      ],
      "text/plain": [
       "<IPython.core.display.HTML object>"
      ]
     },
     "metadata": {},
     "output_type": "display_data"
    },
    {
     "name": "stdout",
     "output_type": "stream",
     "text": [
      "Inverted:\n"
     ]
    },
    {
     "data": {
      "text/html": [
       "<script> /* penzai.treescope rendering of a Python object (compressed) */ (()=>{ let observer; let lastStep = new Promise((resolve, reject) => { observer = new IntersectionObserver((entries) => { for (const entry of entries) { if (entry.isIntersecting) { resolve(); observer.disconnect(); return; } } }, {rootMargin: \"1000px\"}); }); window.treescope_decompress_enqueue = (encoded, destId) => { const previous = lastStep; const destElt = document.getElementById(destId); lastStep = (async () => { await previous; let blob = new Blob([ Uint8Array.from(atob(encoded), (m) => m.codePointAt(0)) ]); let reader = blob.stream().pipeThrough( new DecompressionStream(\"deflate\") ).pipeThrough( new TextDecoderStream(\"utf-8\") ).getReader(); let parts = []; while (true) { let step = await reader.read(); if (step.done) { break; } parts.push(step.value); } let newElt = document.createElement(\"div\"); newElt.innerHTML = parts.join(\"\"); destElt.parentNode.replaceChild(newElt, destElt); for (let oldScript of newElt.querySelectorAll(\"script\")) { let newScript = document.createElement(\"script\"); newScript.type = oldScript.type; newScript.textContent = oldScript.textContent; oldScript.parentNode.replaceChild(newScript, oldScript); } })(); requestAnimationFrame(() => { observer.observe(destElt); }); } })(); </script><div id=\"compress_html_e6ffbf9afc304488b1dbd4eaae6b7d90\"><script>window.treescope_decompress_enqueue(\"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\", \"compress_html_e6ffbf9afc304488b1dbd4eaae6b7d90\");</script><span style=\"color: #aaaaaa; font-family: monospace\">(Loading...)</span></div>"
      ],
      "text/plain": [
       "<IPython.core.display.HTML object>"
      ]
     },
     "metadata": {},
     "output_type": "display_data"
    }
   ],
   "source": [
    "selection = pz.select([1, \"a\", 2, \"b\", 3, \"c\", 4, \"d\"]).at_instances_of(int).pick_nth_selected(2)\n",
    "\n",
    "print(\"Original:\")\n",
    "selection.show_selection()\n",
    "print(\"Inverted:\")\n",
    "selection.invert().show_selection()"
   ]
  },
  {
   "cell_type": "code",
   "execution_count": 33,
   "metadata": {
    "execution": {
     "iopub.execute_input": "2024-05-28T18:16:59.729318Z",
     "iopub.status.busy": "2024-05-28T18:16:59.729103Z",
     "iopub.status.idle": "2024-05-28T18:16:59.753903Z",
     "shell.execute_reply": "2024-05-28T18:16:59.753165Z"
    },
    "id": "HaLCG89dknQg"
   },
   "outputs": [
    {
     "name": "stdout",
     "output_type": "stream",
     "text": [
      "Original:\n"
     ]
    },
    {
     "data": {
      "text/html": [
       "<script> /* penzai.treescope rendering of a Python object (compressed) */ (()=>{ let observer; let lastStep = new Promise((resolve, reject) => { observer = new IntersectionObserver((entries) => { for (const entry of entries) { if (entry.isIntersecting) { resolve(); observer.disconnect(); return; } } }, {rootMargin: \"1000px\"}); }); window.treescope_decompress_enqueue = (encoded, destId) => { const previous = lastStep; const destElt = document.getElementById(destId); lastStep = (async () => { await previous; let blob = new Blob([ Uint8Array.from(atob(encoded), (m) => m.codePointAt(0)) ]); let reader = blob.stream().pipeThrough( new DecompressionStream(\"deflate\") ).pipeThrough( new TextDecoderStream(\"utf-8\") ).getReader(); let parts = []; while (true) { let step = await reader.read(); if (step.done) { break; } parts.push(step.value); } let newElt = document.createElement(\"div\"); newElt.innerHTML = parts.join(\"\"); destElt.parentNode.replaceChild(newElt, destElt); for (let oldScript of newElt.querySelectorAll(\"script\")) { let newScript = document.createElement(\"script\"); newScript.type = oldScript.type; newScript.textContent = oldScript.textContent; oldScript.parentNode.replaceChild(newScript, oldScript); } })(); requestAnimationFrame(() => { observer.observe(destElt); }); } })(); </script><div id=\"compress_html_e8c94ae94921404ea17ebcdc51804e84\"><script>window.treescope_decompress_enqueue(\"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\", \"compress_html_e8c94ae94921404ea17ebcdc51804e84\");</script><span style=\"color: #aaaaaa; font-family: monospace\">(Loading...)</span></div>"
      ],
      "text/plain": [
       "<IPython.core.display.HTML object>"
      ]
     },
     "metadata": {},
     "output_type": "display_data"
    },
    {
     "data": {
      "text/html": [
       "<div id=\"compress_html_c0322938f8294cff870692ba5ccadb85\"><script>window.treescope_decompress_enqueue(\"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\", \"compress_html_c0322938f8294cff870692ba5ccadb85\");</script></div>"
      ],
      "text/plain": [
       "<IPython.core.display.HTML object>"
      ]
     },
     "metadata": {},
     "output_type": "display_data"
    },
    {
     "name": "stdout",
     "output_type": "stream",
     "text": [
      "Inverted:\n"
     ]
    },
    {
     "data": {
      "text/html": [
       "<script> /* penzai.treescope rendering of a Python object (compressed) */ (()=>{ let observer; let lastStep = new Promise((resolve, reject) => { observer = new IntersectionObserver((entries) => { for (const entry of entries) { if (entry.isIntersecting) { resolve(); observer.disconnect(); return; } } }, {rootMargin: \"1000px\"}); }); window.treescope_decompress_enqueue = (encoded, destId) => { const previous = lastStep; const destElt = document.getElementById(destId); lastStep = (async () => { await previous; let blob = new Blob([ Uint8Array.from(atob(encoded), (m) => m.codePointAt(0)) ]); let reader = blob.stream().pipeThrough( new DecompressionStream(\"deflate\") ).pipeThrough( new TextDecoderStream(\"utf-8\") ).getReader(); let parts = []; while (true) { let step = await reader.read(); if (step.done) { break; } parts.push(step.value); } let newElt = document.createElement(\"div\"); newElt.innerHTML = parts.join(\"\"); destElt.parentNode.replaceChild(newElt, destElt); for (let oldScript of newElt.querySelectorAll(\"script\")) { let newScript = document.createElement(\"script\"); newScript.type = oldScript.type; newScript.textContent = oldScript.textContent; oldScript.parentNode.replaceChild(newScript, oldScript); } })(); requestAnimationFrame(() => { observer.observe(destElt); }); } })(); </script><div id=\"compress_html_0a18ae1c83144af8a1a23a73341e6d28\"><script>window.treescope_decompress_enqueue(\"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\", \"compress_html_0a18ae1c83144af8a1a23a73341e6d28\");</script><span style=\"color: #aaaaaa; font-family: monospace\">(Loading...)</span></div>"
      ],
      "text/plain": [
       "<IPython.core.display.HTML object>"
      ]
     },
     "metadata": {},
     "output_type": "display_data"
    },
    {
     "data": {
      "text/html": [
       "<div id=\"compress_html_e95943cfe0d54a0382b34c9d817bdd52\"><script>window.treescope_decompress_enqueue(\"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\", \"compress_html_e95943cfe0d54a0382b34c9d817bdd52\");</script></div>"
      ],
      "text/plain": [
       "<IPython.core.display.HTML object>"
      ]
     },
     "metadata": {},
     "output_type": "display_data"
    }
   ],
   "source": [
    "selection = pz.select(my_nested_object).at_keypaths([\n",
    "    (jax.tree_util.DictKey(key='c'), jax.tree_util.SequenceKey(idx=2), jax.tree_util.DictKey(key='value')),\n",
    "    (jax.tree_util.DictKey(key='c'), jax.tree_util.SequenceKey(idx=0)),\n",
    "])\n",
    "\n",
    "print(\"Original:\")\n",
    "selection.show_selection()\n",
    "print(\"Inverted:\")\n",
    "selection.invert().show_selection()"
   ]
  },
  {
   "cell_type": "markdown",
   "metadata": {
    "id": "-6RVyMq6NY6r"
   },
   "source": [
    "### Building more complex selections\n",
    "For highly dynamic selections, you can drop down to lower-level manipulation.\n",
    "\n",
    "Selections provide a `.refine` method, which runs a function on each of the currently selected values, takes the `Selection` returned by that function, and then takes the disjoint union of them. This can be useful for dynamic input-dependent branching:"
   ]
  },
  {
   "cell_type": "code",
   "execution_count": 34,
   "metadata": {
    "execution": {
     "iopub.execute_input": "2024-05-28T18:16:59.757108Z",
     "iopub.status.busy": "2024-05-28T18:16:59.756891Z",
     "iopub.status.idle": "2024-05-28T18:16:59.762405Z",
     "shell.execute_reply": "2024-05-28T18:16:59.761624Z"
    },
    "id": "pMKL39k7Rdty"
   },
   "outputs": [],
   "source": [
    "# Select field \"a\" of Foo and field \"b\" of Bar\n",
    "\n",
    "@pz.pytree_dataclass\n",
    "class Foo(pz.Struct):\n",
    "  a: typing.Any\n",
    "  b: typing.Any\n",
    "\n",
    "@pz.pytree_dataclass\n",
    "class Bar(pz.Struct):\n",
    "  a: typing.Any\n",
    "  b: typing.Any\n",
    "\n",
    "def refine_fn(value):\n",
    "  if isinstance(value, Foo):\n",
    "    return value.select().at(lambda x: x.a)\n",
    "  else:\n",
    "    return value.select().at(lambda x: x.b)"
   ]
  },
  {
   "cell_type": "code",
   "execution_count": 35,
   "metadata": {
    "execution": {
     "iopub.execute_input": "2024-05-28T18:16:59.765899Z",
     "iopub.status.busy": "2024-05-28T18:16:59.765687Z",
     "iopub.status.idle": "2024-05-28T18:16:59.785809Z",
     "shell.execute_reply": "2024-05-28T18:16:59.784949Z"
    },
    "id": "Hvj4K7tVeag7"
   },
   "outputs": [
    {
     "data": {
      "text/html": [
       "<div id=\"output_1df84724e2a94a1fab724e8aa4e11d1a\"><script> /* penzai.treescope rendering of a Python object (compressed) */ (()=>{ let observer; let lastStep = new Promise((resolve, reject) => { observer = new IntersectionObserver((entries) => { for (const entry of entries) { if (entry.isIntersecting) { resolve(); observer.disconnect(); return; } } }, {rootMargin: \"1000px\"}); }); window.treescope_decompress_enqueue = (encoded, destId) => { const previous = lastStep; const destElt = document.getElementById(destId); lastStep = (async () => { await previous; let blob = new Blob([ Uint8Array.from(atob(encoded), (m) => m.codePointAt(0)) ]); let reader = blob.stream().pipeThrough( new DecompressionStream(\"deflate\") ).pipeThrough( new TextDecoderStream(\"utf-8\") ).getReader(); let parts = []; while (true) { let step = await reader.read(); if (step.done) { break; } parts.push(step.value); } let newElt = document.createElement(\"div\"); newElt.innerHTML = parts.join(\"\"); destElt.parentNode.replaceChild(newElt, destElt); for (let oldScript of newElt.querySelectorAll(\"script\")) { let newScript = document.createElement(\"script\"); newScript.type = oldScript.type; newScript.textContent = oldScript.textContent; oldScript.parentNode.replaceChild(newScript, oldScript); } })(); requestAnimationFrame(() => { observer.observe(destElt); }); } })(); </script><div id=\"compress_html_13d6b145a7974e3e9f0db2a7de1ad0e4\"><script>window.treescope_decompress_enqueue(\"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\", \"compress_html_13d6b145a7974e3e9f0db2a7de1ad0e4\");</script><span style=\"color: #aaaaaa; font-family: monospace\">(Loading...)</span></div></div>"
      ],
      "text/plain": [
       "<IPython.core.display.HTML object>"
      ]
     },
     "metadata": {},
     "output_type": "display_data"
    },
    {
     "data": {
      "text/html": [
       "<div id=\"output_dest_1df84724e2a94a1fab724e8aa4e11d1a\"><script> (()=>{ const output = document.getElementById(\"output_1df84724e2a94a1fab724e8aa4e11d1a\"); const dest = document.getElementById(\"output_dest_1df84724e2a94a1fab724e8aa4e11d1a\"); dest.parentNode.replaceChild(output, dest); })(); </script></div>"
      ],
      "text/plain": [
       "Selection(\n",
       "  selected_by_path=OrderedDict({(SequenceKey(idx=0), GetAttrKey(name='a')): 1, (SequenceKey(idx=1), GetAttrKey(name='b')): 4, (SequenceKey(idx=2), GetAttrKey(name='a')): 5, (SequenceKey(idx=3), GetAttrKey(name='b')): 8}),\n",
       "  remainder=[\n",
       "    Foo(\n",
       "      a=SelectionHole(path=(SequenceKey(idx=0), GetAttrKey(name='a'))),\n",
       "      b=2,\n",
       "    ),\n",
       "    Bar(\n",
       "      a=3,\n",
       "      b=SelectionHole(path=(SequenceKey(idx=1), GetAttrKey(name='b'))),\n",
       "    ),\n",
       "    Foo(\n",
       "      a=SelectionHole(path=(SequenceKey(idx=2), GetAttrKey(name='a'))),\n",
       "      b=6,\n",
       "    ),\n",
       "    Bar(a=7, b=SelectionHole(path=(SequenceKey(idx=3), GetAttrKey(name='b')))),\n",
       "    None,\n",
       "  ],\n",
       ")"
      ]
     },
     "execution_count": 35,
     "metadata": {},
     "output_type": "execute_result"
    }
   ],
   "source": [
    "pz.select([\n",
    "    Foo(1, 2),\n",
    "    Bar(3, 4),\n",
    "    Foo(5, 6),\n",
    "    Bar(7, 8),\n",
    "    None,\n",
    "]).at_instances_of((Foo, Bar)).refine(refine_fn)"
   ]
  },
  {
   "cell_type": "markdown",
   "metadata": {
    "id": "dUGwFROiBdhV"
   },
   "source": [
    "## Inspecting selections and retrieving values\n",
    "\n",
    "Once you have a selection, there are various ways to inspect them and their contents."
   ]
  },
  {
   "cell_type": "markdown",
   "metadata": {
    "id": "UV1JQsx7nF6f"
   },
   "source": [
    "### Looking at selections\n",
    "You can view a pretty-printed version of the selection using `.show_selection()` (the same pretty-printing we've been using throughout this notebook):"
   ]
  },
  {
   "cell_type": "code",
   "execution_count": 36,
   "metadata": {
    "execution": {
     "iopub.execute_input": "2024-05-28T18:16:59.789230Z",
     "iopub.status.busy": "2024-05-28T18:16:59.789009Z",
     "iopub.status.idle": "2024-05-28T18:16:59.801499Z",
     "shell.execute_reply": "2024-05-28T18:16:59.800707Z"
    },
    "id": "-W2_LNVonip5"
   },
   "outputs": [
    {
     "data": {
      "text/html": [
       "<script> /* penzai.treescope rendering of a Python object (compressed) */ (()=>{ let observer; let lastStep = new Promise((resolve, reject) => { observer = new IntersectionObserver((entries) => { for (const entry of entries) { if (entry.isIntersecting) { resolve(); observer.disconnect(); return; } } }, {rootMargin: \"1000px\"}); }); window.treescope_decompress_enqueue = (encoded, destId) => { const previous = lastStep; const destElt = document.getElementById(destId); lastStep = (async () => { await previous; let blob = new Blob([ Uint8Array.from(atob(encoded), (m) => m.codePointAt(0)) ]); let reader = blob.stream().pipeThrough( new DecompressionStream(\"deflate\") ).pipeThrough( new TextDecoderStream(\"utf-8\") ).getReader(); let parts = []; while (true) { let step = await reader.read(); if (step.done) { break; } parts.push(step.value); } let newElt = document.createElement(\"div\"); newElt.innerHTML = parts.join(\"\"); destElt.parentNode.replaceChild(newElt, destElt); for (let oldScript of newElt.querySelectorAll(\"script\")) { let newScript = document.createElement(\"script\"); newScript.type = oldScript.type; newScript.textContent = oldScript.textContent; oldScript.parentNode.replaceChild(newScript, oldScript); } })(); requestAnimationFrame(() => { observer.observe(destElt); }); } })(); </script><div id=\"compress_html_3e4ce92447484f3fa7cab29bbf24b04b\"><script>window.treescope_decompress_enqueue(\"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\", \"compress_html_3e4ce92447484f3fa7cab29bbf24b04b\");</script><span style=\"color: #aaaaaa; font-family: monospace\">(Loading...)</span></div>"
      ],
      "text/plain": [
       "<IPython.core.display.HTML object>"
      ]
     },
     "metadata": {},
     "output_type": "display_data"
    },
    {
     "data": {
      "text/html": [
       "<div id=\"compress_html_2c236e72a2bb4e92b31c675baabd1a9c\"><script>window.treescope_decompress_enqueue(\"eNrtWltvm0gU/itHVNvgFhPjC8Z2bGk33ZX60ofVSvtQRWhgxobNmKEwzqVV//ueGTA2seM4aZqqu0QKGObcb/OBOKPxFeTylrOpQeM85eR2DIlImAExnRpzkfmUzVmWMeo7rjfv0kEn9DqkH7jeyKWDYD7qd12PuG7gGbOzPCUJHpW8mR0IKcWSxwkbJ0Ka9lxwSgLO/ERQNo5Ibs44CRif1Vd8KRYLXvCMw4iFl4y2WvCmBV8gJZTGyaItRTqGju0M2HICSkM7YvEikmNwbH3vqx0KjsaTIMjYFXLqyzG8cr0u6XQ2BKFYLlki/euIJT67Qfspo89m71or0X+VVgymMnpDEHASXk4gwOMiE6uEtsuFK5KZ7XbARXhZ3Gohlcgoy4oYOOkN5ILH9BBlkYiHiL+CHd2mLEPLLv2MLYVkfiSuWAZ3jd41U1zyMDK9/i8qKf0BOJ1RIfGa5H4eZoJzZJfCnsdZLn0Zh5dHSx31bUfJ7YzA6bn2cK9gHf2D6lo7CmVGkjyWsUjGO8rByYGRnLXjpC1W0oK5SGT7WhfZnTWV1SiMfKz9kPmczeVWoapLVamDMKrTZVrShjAryreizCVRheSHUcxpxpLK+CKnMIM6ybOVbDUFdHVMYEmyBTpaOBISHprdMII2WtoPoyIXD9j63Uwry7swrShsbdXe8q6NDu0HxppH8AZMB93ZZinl5kjFWq1WFYMNa/t43rXedRNqzkrk+m67vP2C0dyMER3BdkZovMpLBx22RO/ud0xb+m1GPFjiX2qTrsivGmFHTLrDxF9tlPhd9qVNkg9sTWenxQapd0sIOcnzqaH3Hz2AZBan5Va63plrDuB2QgOvPyCTfalB3ROjLrrmBcS5X0xFkehBiMSFt2dxkq4kSNwDpob2LxA3xl4hZSiQ9VQz1fVtdhGJRc6kAZRI0r5ktymR0dS4Y15tKpeJgfpANY6JVbn4aUV4QpbMTzM2j2+MWcqSzyS2ZcZYHoqUYZmlaEmO29uccK4mv40p0cilOH0Q8s+19FQ5bdbXz07LiG3rvVvNUK9m4wD1DqnA3SBOCMdtOM2mjwquXePdF2o/R7+ShTF7/eqmO5z8mmXk1vzYscCxoGtBz4K+BQMLXAuGFngWjC4soLos4kT2uq2Crx4SazdBqIyTNGfUmMGaeIdojbjqhp6oFAUr7KXkBERyznEDn55sMhghD5aiovJDtWjKKM5bJ0Us1O2pYXKyDCiBTAjsPXWsh6ZlbLqrYhvDyYN8JxMoOUiCs4AUAOLkHNlB5QB/V0j49MDpCeWAkPyJxRDTvaWQrJaB0jAadoZdZ4RIfjDsej9zamP6lMQi1w9Mq+6tJyZW8R6a988/3g88NxkHy+DV3lrZmdf/kJv1PNaz6dDQPaQ9xnuJ3JrIB9eN2fMlYPvRE8cslxO9AMXgVP5px4rL1ws5OVBCP7CVlGdPaSbN91ztdGyr3YmT1cTyqLDVwNfmhQ3ceVA1Zq3HZQLNvBeh7bZH1RKPwyG7nbM+0fhqdvaIV1tu33NHfdwDg4HbD9yuN/Dm3XDgjALa9XqdwebV1neB7M7kZUd4g9B/QoQO2BqqN1RzqO5Q7aH6QzWI6hDVIjDC9lEt5DSY/f+B2T0XD67jNpi9wewNZm8we4PZG8z+0pj925DJ86H4Xg9/kcAdDdmo73qDYOAMh705GVLaH5JO2KD4BsX/8PfstgX7/6u+mHNBGsz+X37P3u84w57baTB7g9kbzN5g9gazN5j9xd+zPwKHPIDQ8xB1y5lptmA6gy+hSHKcf7qd39McpvDROP4bUguM49/KbxM/CP4vJoVlKvFo1DXOJXG9BVfRXL+68hWVCVSEKzV+1eLvnKmfv92+p2bl3cfOhfoYqpA8z8hCkaD0ijHMGJHsXXn5R0lhVjxKzznH5xlkWvPbJEUwTc/VvDR1nYaK4gNuGabMVvrzK3zwAZMzCTEydiZ4OtvE3OYsWcgI7759qz5PUnTF4raWe32KL1CB4snFKgvZO3wCm94bCv0IZsBbuMNfXNoI5TiW99+xjMxKXPFdZilFu4kMm1X18ekVM/VHZtr9bSFVwNRySxFhNRYVuK7EndSy5NOKrdi7slb+YkuUJ1lutirefwFMktJa\", \"compress_html_2c236e72a2bb4e92b31c675baabd1a9c\");</script></div>"
      ],
      "text/plain": [
       "<IPython.core.display.HTML object>"
      ]
     },
     "metadata": {},
     "output_type": "display_data"
    }
   ],
   "source": [
    "pz.select(my_nested_object).at_children().show_selection()"
   ]
  },
  {
   "cell_type": "markdown",
   "metadata": {
    "id": "chGlzxpEnQGr"
   },
   "source": [
    "You can also view the selected values without the selection annotations using `.show_value()`. This is similar to just rendering the root object with treescope, but it automatically expands so that the nodes you selected are visible, and collapses all other nodes."
   ]
  },
  {
   "cell_type": "code",
   "execution_count": 37,
   "metadata": {
    "execution": {
     "iopub.execute_input": "2024-05-28T18:16:59.804865Z",
     "iopub.status.busy": "2024-05-28T18:16:59.804645Z",
     "iopub.status.idle": "2024-05-28T18:16:59.857236Z",
     "shell.execute_reply": "2024-05-28T18:16:59.856310Z"
    },
    "id": "Ei6MgFeAoQ0Z"
   },
   "outputs": [
    {
     "data": {
      "text/html": [
       "<script> /* penzai.treescope rendering of a Python object (compressed) */ (()=>{ let observer; let lastStep = new Promise((resolve, reject) => { observer = new IntersectionObserver((entries) => { for (const entry of entries) { if (entry.isIntersecting) { resolve(); observer.disconnect(); return; } } }, {rootMargin: \"1000px\"}); }); window.treescope_decompress_enqueue = (encoded, destId) => { const previous = lastStep; const destElt = document.getElementById(destId); lastStep = (async () => { await previous; let blob = new Blob([ Uint8Array.from(atob(encoded), (m) => m.codePointAt(0)) ]); let reader = blob.stream().pipeThrough( new DecompressionStream(\"deflate\") ).pipeThrough( new TextDecoderStream(\"utf-8\") ).getReader(); let parts = []; while (true) { let step = await reader.read(); if (step.done) { break; } parts.push(step.value); } let newElt = document.createElement(\"div\"); newElt.innerHTML = parts.join(\"\"); destElt.parentNode.replaceChild(newElt, destElt); for (let oldScript of newElt.querySelectorAll(\"script\")) { let newScript = document.createElement(\"script\"); newScript.type = oldScript.type; newScript.textContent = oldScript.textContent; oldScript.parentNode.replaceChild(newScript, oldScript); } })(); requestAnimationFrame(() => { observer.observe(destElt); }); } })(); </script><div id=\"compress_html_14287ba3243e4260a9054c2c6926b333\"><script>window.treescope_decompress_enqueue(\"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\", \"compress_html_14287ba3243e4260a9054c2c6926b333\");</script><span style=\"color: #aaaaaa; font-family: monospace\">(Loading...)</span></div>"
      ],
      "text/plain": [
       "<IPython.core.display.HTML object>"
      ]
     },
     "metadata": {},
     "output_type": "display_data"
    }
   ],
   "source": [
    "stuff = (\n",
    "    [[[\"haystack\"] * 5] * 5] * 5\n",
    "    + [[[\"haystack\"] * 5] * 5 + [[\"haystack\", \"needle\", \"haystack\", \"haystack\", \"haystack\"]]]\n",
    "    + [[[\"haystack\"] * 5] * 5] * 5\n",
    ")\n",
    "\n",
    "pz.select(stuff).at_equal_to(\"needle\").show_value()"
   ]
  },
  {
   "cell_type": "markdown",
   "metadata": {
    "id": "nPZUOuqilcoc"
   },
   "source": [
    "### Counting selected objects\n",
    "Selections have `count` and `is_empty` methods for inspecting their size:"
   ]
  },
  {
   "cell_type": "code",
   "execution_count": 38,
   "metadata": {
    "execution": {
     "iopub.execute_input": "2024-05-28T18:16:59.860776Z",
     "iopub.status.busy": "2024-05-28T18:16:59.860552Z",
     "iopub.status.idle": "2024-05-28T18:16:59.866676Z",
     "shell.execute_reply": "2024-05-28T18:16:59.865730Z"
    },
    "id": "TGu1D-n_lumY"
   },
   "outputs": [
    {
     "data": {
      "text/html": [
       "<div id=\"output_da9b65bae98140fcbdd9679400f5c131\"><script> /* penzai.treescope rendering of a Python object (compressed) */ (()=>{ let observer; let lastStep = new Promise((resolve, reject) => { observer = new IntersectionObserver((entries) => { for (const entry of entries) { if (entry.isIntersecting) { resolve(); observer.disconnect(); return; } } }, {rootMargin: \"1000px\"}); }); window.treescope_decompress_enqueue = (encoded, destId) => { const previous = lastStep; const destElt = document.getElementById(destId); lastStep = (async () => { await previous; let blob = new Blob([ Uint8Array.from(atob(encoded), (m) => m.codePointAt(0)) ]); let reader = blob.stream().pipeThrough( new DecompressionStream(\"deflate\") ).pipeThrough( new TextDecoderStream(\"utf-8\") ).getReader(); let parts = []; while (true) { let step = await reader.read(); if (step.done) { break; } parts.push(step.value); } let newElt = document.createElement(\"div\"); newElt.innerHTML = parts.join(\"\"); destElt.parentNode.replaceChild(newElt, destElt); for (let oldScript of newElt.querySelectorAll(\"script\")) { let newScript = document.createElement(\"script\"); newScript.type = oldScript.type; newScript.textContent = oldScript.textContent; oldScript.parentNode.replaceChild(newScript, oldScript); } })(); requestAnimationFrame(() => { observer.observe(destElt); }); } })(); </script><div id=\"compress_html_205c485ca5f046eea4de6996e64f5a4f\"><script>window.treescope_decompress_enqueue(\"eNqVVUuP2zYQ/isTFQjkINJuEqRobMvAIknRw6KXBOihKARaGlmEKVIlR+s4gf97h6TllXedZAsfZM7zm/fS0V7hKieL6CrTY2mNIfgGvXGSpNFzsKgEyTtcQGM0ZY3opNrPoTPauF5UTN+1kjALjzn0lilKOsqC6Yz2PVO10Uxei2q7sWbQdVYZZew8qi7g+ForFmB7sqZ2Do0kFtOEmhbQCbuROlPY0BxeV633oTFrUW5aprzK3y7gsLyK4SxdZWVPK5ANpDupa7O7jxCKogCGgA0bqGcc62MJ+HZYPCLnZY+6lnpzU/nMOBb7+5+fiv0hdK28ST0odUF6g1Q+yH4B6Zj0kswMihWDvHoBt8ZsuQgWqEUIktrUmMOLK1BIcNSdqIbSsPM08p4VUJtq6Dih+drUe3j+HJ55Tl4p4dwtFy33CRdSuzQ5B5XMwKdq9OGVemHZ0keFXajQgT3TYHVg8vNCrHbQn4zRPsCdsdtjZOzSESP7i0medUYmWXlij5YD74SuMNdml85OoT3iQBaVlvDmtYd8qQceljJXqDfUcmvA9aWO+HFNY9w+A6gc3kNvB+2x/9S5a2VDPqSg4f8c+PdUDOkoafHfAR3daNkJL/G7FR2mMa+z2eWKPITSD66NtVk8JXEjiCKm4v+k7umwLwJHzVoDfsAGrcX6M3Y9tz26xw3UK088NT6r2f0nVFiRsTdKcaMfdadLcNCl405NZoswcKmfL7YEpgkGfaD8ncyNxc7c4dnUTGx8bxLSEau331jzFf1wBMtx8Z3DTZO42LxJr8GvaWiVRQ7jOJBTWf6X+z3MwtFJeB3p+IXeR2cT9j1xEeDEWf/TrxuLnK0K3/P41SlbeOkFfJ2+Wysym42Ka6QM258YWNhyTEFFLwHv2PoxFb7twjvf4t5PZGKTcfWw8CTn0W6anGyWHQNMRhwH4HsQD8GylncQFIuHew1IrBkwfimS6wSMZqeMXk/kLuNPqZVuRJ7wyYmHNFyyUg/dGm3owXDYfrl+99urt7+enahe6BFSy9WwfM+2JfGZQwZVCxIZQ+kFtUWSnItPfSSrazbJzNXpw7GeLuCT5yadnZL1H79O5Zs=\", \"compress_html_205c485ca5f046eea4de6996e64f5a4f\");</script><span style=\"color: #aaaaaa; font-family: monospace\">(Loading...)</span></div></div>"
      ],
      "text/plain": [
       "<IPython.core.display.HTML object>"
      ]
     },
     "metadata": {},
     "output_type": "display_data"
    },
    {
     "data": {
      "text/html": [
       "<div id=\"output_dest_da9b65bae98140fcbdd9679400f5c131\"><script> (()=>{ const output = document.getElementById(\"output_da9b65bae98140fcbdd9679400f5c131\"); const dest = document.getElementById(\"output_dest_da9b65bae98140fcbdd9679400f5c131\"); dest.parentNode.replaceChild(output, dest); })(); </script></div>"
      ],
      "text/plain": [
       "0"
      ]
     },
     "execution_count": 38,
     "metadata": {},
     "output_type": "execute_result"
    }
   ],
   "source": [
    "pz.select([1, 2]).at_instances_of(str).count()"
   ]
  },
  {
   "cell_type": "code",
   "execution_count": 39,
   "metadata": {
    "execution": {
     "iopub.execute_input": "2024-05-28T18:16:59.869862Z",
     "iopub.status.busy": "2024-05-28T18:16:59.869649Z",
     "iopub.status.idle": "2024-05-28T18:16:59.875948Z",
     "shell.execute_reply": "2024-05-28T18:16:59.875231Z"
    },
    "id": "omvIWqsflyWj"
   },
   "outputs": [
    {
     "data": {
      "text/html": [
       "<div id=\"output_f91c38da852e48afb389ede0d3555555\"><script> /* penzai.treescope rendering of a Python object (compressed) */ (()=>{ let observer; let lastStep = new Promise((resolve, reject) => { observer = new IntersectionObserver((entries) => { for (const entry of entries) { if (entry.isIntersecting) { resolve(); observer.disconnect(); return; } } }, {rootMargin: \"1000px\"}); }); window.treescope_decompress_enqueue = (encoded, destId) => { const previous = lastStep; const destElt = document.getElementById(destId); lastStep = (async () => { await previous; let blob = new Blob([ Uint8Array.from(atob(encoded), (m) => m.codePointAt(0)) ]); let reader = blob.stream().pipeThrough( new DecompressionStream(\"deflate\") ).pipeThrough( new TextDecoderStream(\"utf-8\") ).getReader(); let parts = []; while (true) { let step = await reader.read(); if (step.done) { break; } parts.push(step.value); } let newElt = document.createElement(\"div\"); newElt.innerHTML = parts.join(\"\"); destElt.parentNode.replaceChild(newElt, destElt); for (let oldScript of newElt.querySelectorAll(\"script\")) { let newScript = document.createElement(\"script\"); newScript.type = oldScript.type; newScript.textContent = oldScript.textContent; oldScript.parentNode.replaceChild(newScript, oldScript); } })(); requestAnimationFrame(() => { observer.observe(destElt); }); } })(); </script><div id=\"compress_html_9d958ec23cc140e197b522784273c665\"><script>window.treescope_decompress_enqueue(\"eNqVVd2P0zgQ/1eGIKEUkezCCQRtU2nF3eke0L2AxANCkZtMGquOnbMnW3qo//uN7aab7hbYUx9Sz+dvvpeO9gpXOVlEV5keS2sMwXfojZMkjZ6DRSVI3uICGqMpa0Qn1X4OndHG9aJi+q6VhFl4zKG3TFHSURZMZ7TvmaqNZvJaVNuNNYOus8ooY+dRdQHH11qxANuTNbVzaCSxmCbUtIBO2I3UmcKG5vCqar0PjVmLctMy5WX+egGH5VUMZ+kqK3tagWwg3Uldm91dhFAUBTAEbNhAPeNYH0rA98PiATkve9S11JubymfGsdiXr78U+0voWnmTelDqgvQGqbyX/QLSMeklmRkUKwZ59Rw+GLPlIligFiFIalNjDs+vQCHBUXeiGkrDztPIe1JAbaqh44Tma1Pv4dkzeOI5eaWEcx+4aLlPuJDapck5qGQGPlWjD6/UC8uW/lDYhQod2DMNVgcmPy/Eagf90RjtA9wZuz1Gxi4dMbLPTPKsMzLJyhN7tBx4J3SFuTa7dHYK7QEHsqi0hN9eeciXeuB+KXOFekMttwZcX+qIn9c0xu0zgMrhHfR20B77L527VjbkQwoa/s+Bf4/FkI6SFv8Z0NGNlp3wEn9a0WEa8zqbXa7IfSj94NpYm8VjEjeCKGIq/k/qHg/7InDUrDXg79igtVh/wq7ntkf3sIF65Ymnxmc1u/+ICisy9kYpbvSj7nQJDrp03KnJbBEGLvXzxZbANMGgD5S/k7mx2JlbPJuaiY0fTUI6YvX2G2v+RT8cwXJcfOdw0yQuNm/Sa/BrGlplkcM4DuRUlv/lfg+zcHQSXkc6fqP30dmEfUdcBDhx1v/268YiZ6vC9zx+dcoWXngBX6cf1orMZqPiGinD9icGFrYcU1DRC8Bbtn5MhW+78M63uPcTmdhkXD0sPMl5tJsmJ5tlxwCTEccB+B7EQ7Cs5S0ExeL+XgMSawaM34rkOgGj2Smj1xO5y/hTaqUbkSd8cuIhDZes1EO3Rht6MBy2p9fv3r58/ebsRPVCj5Baroble7Ytic8cMqhakMgYSi+oLZLkXHzqI1l9sgOyVeavTh8O93QEHz066eyUr/8AjS/nCw==\", \"compress_html_9d958ec23cc140e197b522784273c665\");</script><span style=\"color: #aaaaaa; font-family: monospace\">(Loading...)</span></div></div>"
      ],
      "text/plain": [
       "<IPython.core.display.HTML object>"
      ]
     },
     "metadata": {},
     "output_type": "display_data"
    },
    {
     "data": {
      "text/html": [
       "<div id=\"output_dest_f91c38da852e48afb389ede0d3555555\"><script> (()=>{ const output = document.getElementById(\"output_f91c38da852e48afb389ede0d3555555\"); const dest = document.getElementById(\"output_dest_f91c38da852e48afb389ede0d3555555\"); dest.parentNode.replaceChild(output, dest); })(); </script></div>"
      ],
      "text/plain": [
       "True"
      ]
     },
     "execution_count": 39,
     "metadata": {},
     "output_type": "execute_result"
    }
   ],
   "source": [
    "pz.select([1, 2]).at_instances_of(str).is_empty()"
   ]
  },
  {
   "cell_type": "code",
   "execution_count": 40,
   "metadata": {
    "execution": {
     "iopub.execute_input": "2024-05-28T18:16:59.878899Z",
     "iopub.status.busy": "2024-05-28T18:16:59.878645Z",
     "iopub.status.idle": "2024-05-28T18:16:59.884631Z",
     "shell.execute_reply": "2024-05-28T18:16:59.883913Z"
    },
    "id": "f7aWTHZql0DV"
   },
   "outputs": [
    {
     "data": {
      "text/html": [
       "<div id=\"output_ba8d077a2e2a47a987911545a5479364\"><script> /* penzai.treescope rendering of a Python object (compressed) */ (()=>{ let observer; let lastStep = new Promise((resolve, reject) => { observer = new IntersectionObserver((entries) => { for (const entry of entries) { if (entry.isIntersecting) { resolve(); observer.disconnect(); return; } } }, {rootMargin: \"1000px\"}); }); window.treescope_decompress_enqueue = (encoded, destId) => { const previous = lastStep; const destElt = document.getElementById(destId); lastStep = (async () => { await previous; let blob = new Blob([ Uint8Array.from(atob(encoded), (m) => m.codePointAt(0)) ]); let reader = blob.stream().pipeThrough( new DecompressionStream(\"deflate\") ).pipeThrough( new TextDecoderStream(\"utf-8\") ).getReader(); let parts = []; while (true) { let step = await reader.read(); if (step.done) { break; } parts.push(step.value); } let newElt = document.createElement(\"div\"); newElt.innerHTML = parts.join(\"\"); destElt.parentNode.replaceChild(newElt, destElt); for (let oldScript of newElt.querySelectorAll(\"script\")) { let newScript = document.createElement(\"script\"); newScript.type = oldScript.type; newScript.textContent = oldScript.textContent; oldScript.parentNode.replaceChild(newScript, oldScript); } })(); requestAnimationFrame(() => { observer.observe(destElt); }); } })(); </script><div id=\"compress_html_970d58a8d9cf45b490130742052e2c9b\"><script>window.treescope_decompress_enqueue(\"eNqVVUuP2zYQ/isTFQjkINJutkjR2paBRdqihyCXFMghKARaGlmEKVIhR+s4gf97hqTllXedZgMfZM7zm/fS0V7hKieL6CrTY2mNIfgKvXGSpNFzsKgEyTtcQGM0ZY3opNrPoTPauF5UTN+1kjALjzn0lilKOsqC6Yz2PVO10Uxei2q7sWbQdVYZZew8qi7g+ForFmB7sqZ2Do0kFtOEmhbQCbuROlPY0Bxuqtb70Ji1KDctU17lrxdwWF7FcJausrKnFcgG0p3UtdndRwhFUQBDwIYN1DOO9bEEfD0sHpHzskddS725rXxmHIt9/O+HYv8IXStvUg9KXZDeIJUPsl9AOia9JDODYsUgr17AW2O2XAQL1CIESW1qzOHFFSgkOOpOVENp2Hkaec8KqE01dJzQfG3qPTx/Ds88J6+UcO4tFy33CRdSuzQ5B5XMwKdq9OGVemHZ0l8Ku1ChA3umwerA5OeFWO2g3xujfYA7Y7fHyNilI0b2gUmedUYmWXlij5YD74SuMNdml85OoT3iQBaVlvDrjYd8qQceljJXqDfUcmvA9aWO+P+axrh9BlA5vIfeDtpj/6Fz18qGfEhBw/858O+pGNJR0uKnAR3datkJL/G3FR2mMa+z2eWKPITSD66NtVk8JXEjiCKm4mdS93TYF4GjZq0B/8QGrcX6X+x6bnt0jxuoV554anxWs/v3qLAiY2+V4kY/6k6X4KBLx52azBZh4FI/X2wJTBMM+kD5O5kbi525w7Opmdj43iSkI1Zvv7HmC/rhCJbj4juHmyZxsXmTXoNf09AqixzGcSCnsvwv93uYhaOT8DrS8TO9ic4m7HviIsCJs/7OrxuLnK0K3/D41SlbeOkFfJ2+Wysym42Ka6QM258YWNhyTEFFLwHv2PoxFb7twjvf4t5PZGKTcfWw8CTn0W6anGyWHQNMRhwH4HsQD8GylncQFIuHew1IrBkwfi6S6wSMZqeMXk/kLuNPqZVuRJ7wyYmHNFyyUg/dGm3owXDYfrn+4/dXr387O1G90COklqth+Z5tS+IzhwyqFiQyhtILaoskORef+khWN2ySmavTh2M9XcAnz006OyXrG7/w5Z0=\", \"compress_html_970d58a8d9cf45b490130742052e2c9b\");</script><span style=\"color: #aaaaaa; font-family: monospace\">(Loading...)</span></div></div>"
      ],
      "text/plain": [
       "<IPython.core.display.HTML object>"
      ]
     },
     "metadata": {},
     "output_type": "display_data"
    },
    {
     "data": {
      "text/html": [
       "<div id=\"output_dest_ba8d077a2e2a47a987911545a5479364\"><script> (()=>{ const output = document.getElementById(\"output_ba8d077a2e2a47a987911545a5479364\"); const dest = document.getElementById(\"output_dest_ba8d077a2e2a47a987911545a5479364\"); dest.parentNode.replaceChild(output, dest); })(); </script></div>"
      ],
      "text/plain": [
       "2"
      ]
     },
     "execution_count": 40,
     "metadata": {},
     "output_type": "execute_result"
    }
   ],
   "source": [
    "pz.select([1, 2]).at_instances_of(int).count()"
   ]
  },
  {
   "cell_type": "code",
   "execution_count": 41,
   "metadata": {
    "execution": {
     "iopub.execute_input": "2024-05-28T18:16:59.888301Z",
     "iopub.status.busy": "2024-05-28T18:16:59.888089Z",
     "iopub.status.idle": "2024-05-28T18:16:59.893918Z",
     "shell.execute_reply": "2024-05-28T18:16:59.893218Z"
    },
    "id": "u9uMT3qll1UI"
   },
   "outputs": [
    {
     "data": {
      "text/html": [
       "<div id=\"output_9487a8358fdc474d9cbc97bfb835c942\"><script> /* penzai.treescope rendering of a Python object (compressed) */ (()=>{ let observer; let lastStep = new Promise((resolve, reject) => { observer = new IntersectionObserver((entries) => { for (const entry of entries) { if (entry.isIntersecting) { resolve(); observer.disconnect(); return; } } }, {rootMargin: \"1000px\"}); }); window.treescope_decompress_enqueue = (encoded, destId) => { const previous = lastStep; const destElt = document.getElementById(destId); lastStep = (async () => { await previous; let blob = new Blob([ Uint8Array.from(atob(encoded), (m) => m.codePointAt(0)) ]); let reader = blob.stream().pipeThrough( new DecompressionStream(\"deflate\") ).pipeThrough( new TextDecoderStream(\"utf-8\") ).getReader(); let parts = []; while (true) { let step = await reader.read(); if (step.done) { break; } parts.push(step.value); } let newElt = document.createElement(\"div\"); newElt.innerHTML = parts.join(\"\"); destElt.parentNode.replaceChild(newElt, destElt); for (let oldScript of newElt.querySelectorAll(\"script\")) { let newScript = document.createElement(\"script\"); newScript.type = oldScript.type; newScript.textContent = oldScript.textContent; oldScript.parentNode.replaceChild(newScript, oldScript); } })(); requestAnimationFrame(() => { observer.observe(destElt); }); } })(); </script><div id=\"compress_html_36276a38a28240298794a9f547949bff\"><script>window.treescope_decompress_enqueue(\"eNqVVUuP2zYQ/isTFQjkINJuUiRobcvAIm3Qw6KXBMghKARaGlmEKVIlR+s4gf97hqTllXedZgsf5BnO45v30tFe4Soni+gq02NpjSH4Br1xkqTRc7CoBMk7XEBjNGWN6KTaz6Ez2rheVMzftZIwC8QcesscJR1lwXRG+5652mhmr0W13Vgz6DqrjDJ2HlUXcKTWigXYnqypnUMjicU0oaYFdMJupM4UNjSH11XrfWjMWpSbljmv8jcLOCyvYjhLV1nZ0wpkA+lO6trs7iOEoiiAIWDDBuoZx/pYAr4dFo/YedmjrqXe3FQ+M47FPv/zU7G/hK6VN6kHpS5Ib5DKB9kvIB2TXpKZQbFikFcv4NaYLRfBArUIQVKbGnN4cQUKCY66E9VQGnaexrdnBdSmGjpOaL429R6eP4dn/iWvlHDulouW+4QLqV2anINKZuBTNfrwSr2wbOlPhV2o0IE902B1eGTyQqx20B+M0T7AnbHbY2Ts0hEj+8Qs/3TGJll5Zo+WA++ErjDXZpfOTqE9eoEsKi3h19ce8qUeeFjKXKHeUMutAdeXOuK/axrj9hlA5fAeejtoj/2nzl0rG/IhBQ3/58C/p2JIR0mL/w7o6EbLTniJ91Z0mMa8zmaXK/IQSj+4NtZm8ZTEjSCKmIr/k7qnw74IHDVrDfgHNmgt1h+x67nt0T1uoF555qnxWc3uP6DCioy9UYob/ag7XYKDLh13ajJbhIFL/XyxJTBNMOgD5e9kbix25g7PpmZi40eTkI5Yvf3Gmq/ohyNYjovvHG6axMXmTXoNpqahVRY5jONATmX5X+73MAtHJ4E68vELvYvOJs/3zEWAE2f9b79uLHK2KnzH41enbOGlF/B1+mGtyGw2Kq6RMmx/YmBhyzEHFb0EvGPrx1T4tgt0vsW9n8jEJuPqYeFJzqPdNDnZLDsGmIw4DsD3IB6CZS3vICgWD/cakFgzYPxSJNcJGM1OGb2eyF3Gn1Ir3Yg84ZMTD2m4ZKUeujXa0IPhsP1y/ftvr968PTtRvdAjpJarYfmebUviM4cMqhYkMobSC2qLJDkXn/pIVu8FLx02ywKr04fjPV3BJ89OOjsl7Dttz+dW\", \"compress_html_36276a38a28240298794a9f547949bff\");</script><span style=\"color: #aaaaaa; font-family: monospace\">(Loading...)</span></div></div>"
      ],
      "text/plain": [
       "<IPython.core.display.HTML object>"
      ]
     },
     "metadata": {},
     "output_type": "display_data"
    },
    {
     "data": {
      "text/html": [
       "<div id=\"output_dest_9487a8358fdc474d9cbc97bfb835c942\"><script> (()=>{ const output = document.getElementById(\"output_9487a8358fdc474d9cbc97bfb835c942\"); const dest = document.getElementById(\"output_dest_9487a8358fdc474d9cbc97bfb835c942\"); dest.parentNode.replaceChild(output, dest); })(); </script></div>"
      ],
      "text/plain": [
       "False"
      ]
     },
     "execution_count": 41,
     "metadata": {},
     "output_type": "execute_result"
    }
   ],
   "source": [
    "pz.select([1, 2]).at_instances_of(int).is_empty()"
   ]
  },
  {
   "cell_type": "markdown",
   "metadata": {
    "id": "TG5VaFeZl2qd"
   },
   "source": [
    "If you already know how many objects should be selected, you can also add an assertion in the middle of a chain:"
   ]
  },
  {
   "cell_type": "code",
   "execution_count": 42,
   "metadata": {
    "execution": {
     "iopub.execute_input": "2024-05-28T18:16:59.897197Z",
     "iopub.status.busy": "2024-05-28T18:16:59.896986Z",
     "iopub.status.idle": "2024-05-28T18:16:59.903637Z",
     "shell.execute_reply": "2024-05-28T18:16:59.902756Z"
    },
    "id": "bNBzV-pQl53a"
   },
   "outputs": [
    {
     "data": {
      "text/html": [
       "<div id=\"output_b4c3ca3a7d394ec4ac92679318bb3a30\"><script> /* penzai.treescope rendering of a Python object (compressed) */ (()=>{ let observer; let lastStep = new Promise((resolve, reject) => { observer = new IntersectionObserver((entries) => { for (const entry of entries) { if (entry.isIntersecting) { resolve(); observer.disconnect(); return; } } }, {rootMargin: \"1000px\"}); }); window.treescope_decompress_enqueue = (encoded, destId) => { const previous = lastStep; const destElt = document.getElementById(destId); lastStep = (async () => { await previous; let blob = new Blob([ Uint8Array.from(atob(encoded), (m) => m.codePointAt(0)) ]); let reader = blob.stream().pipeThrough( new DecompressionStream(\"deflate\") ).pipeThrough( new TextDecoderStream(\"utf-8\") ).getReader(); let parts = []; while (true) { let step = await reader.read(); if (step.done) { break; } parts.push(step.value); } let newElt = document.createElement(\"div\"); newElt.innerHTML = parts.join(\"\"); destElt.parentNode.replaceChild(newElt, destElt); for (let oldScript of newElt.querySelectorAll(\"script\")) { let newScript = document.createElement(\"script\"); newScript.type = oldScript.type; newScript.textContent = oldScript.textContent; oldScript.parentNode.replaceChild(newScript, oldScript); } })(); requestAnimationFrame(() => { observer.observe(destElt); }); } })(); </script><div id=\"compress_html_884bacfdf99b4f199a6afa712bf33361\"><script>window.treescope_decompress_enqueue(\"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\", \"compress_html_884bacfdf99b4f199a6afa712bf33361\");</script><span style=\"color: #aaaaaa; font-family: monospace\">(Loading...)</span></div></div>"
      ],
      "text/plain": [
       "<IPython.core.display.HTML object>"
      ]
     },
     "metadata": {},
     "output_type": "display_data"
    },
    {
     "data": {
      "text/html": [
       "<div id=\"output_dest_b4c3ca3a7d394ec4ac92679318bb3a30\"><script> (()=>{ const output = document.getElementById(\"output_b4c3ca3a7d394ec4ac92679318bb3a30\"); const dest = document.getElementById(\"output_dest_b4c3ca3a7d394ec4ac92679318bb3a30\"); dest.parentNode.replaceChild(output, dest); })(); </script></div>"
      ],
      "text/plain": [
       "[2, 3]"
      ]
     },
     "execution_count": 42,
     "metadata": {},
     "output_type": "execute_result"
    }
   ],
   "source": [
    "pz.select([1, 2]).at_instances_of(int).assert_count_is(2).apply(lambda x: x + 1)"
   ]
  },
  {
   "cell_type": "markdown",
   "metadata": {
    "id": "fd6gwn3JlaSr"
   },
   "source": [
    "### Retrieving values\n",
    "\n",
    "You can extract all of the selected values using `.get_sequence()`:"
   ]
  },
  {
   "cell_type": "code",
   "execution_count": 43,
   "metadata": {
    "execution": {
     "iopub.execute_input": "2024-05-28T18:16:59.907165Z",
     "iopub.status.busy": "2024-05-28T18:16:59.906954Z",
     "iopub.status.idle": "2024-05-28T18:16:59.918055Z",
     "shell.execute_reply": "2024-05-28T18:16:59.917369Z"
    },
    "id": "SkCQmesoBf3o"
   },
   "outputs": [
    {
     "data": {
      "text/html": [
       "<div id=\"output_d1a3cc5019194065903abed290600973\"><script> /* penzai.treescope rendering of a Python object (compressed) */ (()=>{ let observer; let lastStep = new Promise((resolve, reject) => { observer = new IntersectionObserver((entries) => { for (const entry of entries) { if (entry.isIntersecting) { resolve(); observer.disconnect(); return; } } }, {rootMargin: \"1000px\"}); }); window.treescope_decompress_enqueue = (encoded, destId) => { const previous = lastStep; const destElt = document.getElementById(destId); lastStep = (async () => { await previous; let blob = new Blob([ Uint8Array.from(atob(encoded), (m) => m.codePointAt(0)) ]); let reader = blob.stream().pipeThrough( new DecompressionStream(\"deflate\") ).pipeThrough( new TextDecoderStream(\"utf-8\") ).getReader(); let parts = []; while (true) { let step = await reader.read(); if (step.done) { break; } parts.push(step.value); } let newElt = document.createElement(\"div\"); newElt.innerHTML = parts.join(\"\"); destElt.parentNode.replaceChild(newElt, destElt); for (let oldScript of newElt.querySelectorAll(\"script\")) { let newScript = document.createElement(\"script\"); newScript.type = oldScript.type; newScript.textContent = oldScript.textContent; oldScript.parentNode.replaceChild(newScript, oldScript); } })(); requestAnimationFrame(() => { observer.observe(destElt); }); } })(); </script><div id=\"compress_html_130f9f7e7eca40b18875a05e46d4be17\"><script>window.treescope_decompress_enqueue(\"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\", \"compress_html_130f9f7e7eca40b18875a05e46d4be17\");</script><span style=\"color: #aaaaaa; font-family: monospace\">(Loading...)</span></div></div>"
      ],
      "text/plain": [
       "<IPython.core.display.HTML object>"
      ]
     },
     "metadata": {},
     "output_type": "display_data"
    },
    {
     "data": {
      "text/html": [
       "<div id=\"compress_html_f4d5a50dbc1343d8b3228e692d1affdc\"><script>window.treescope_decompress_enqueue(\"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\", \"compress_html_f4d5a50dbc1343d8b3228e692d1affdc\");</script></div>"
      ],
      "text/plain": [
       "<IPython.core.display.HTML object>"
      ]
     },
     "metadata": {},
     "output_type": "display_data"
    },
    {
     "data": {
      "text/html": [
       "<div id=\"output_dest_d1a3cc5019194065903abed290600973\"><script> (()=>{ const output = document.getElementById(\"output_d1a3cc5019194065903abed290600973\"); const dest = document.getElementById(\"output_dest_d1a3cc5019194065903abed290600973\"); dest.parentNode.replaceChild(output, dest); })(); </script></div>"
      ],
      "text/plain": [
       "(<jax.Array([0, 1, 2, 3, 4, 5, 6, 7, 8, 9], dtype=int32)>,\n",
       " <jax.Array([0., 0., 0., 0., 0., 0., 0.], dtype=float32)>)"
      ]
     },
     "execution_count": 43,
     "metadata": {},
     "output_type": "execute_result"
    }
   ],
   "source": [
    "selection = (\n",
    "    pz.select(my_nested_object)\n",
    "    .at_subtrees_where(\n",
    "        lambda subtree: isinstance(subtree, jax.Array) and subtree.size <= 10)\n",
    ")\n",
    "\n",
    "selection.get_sequence()"
   ]
  },
  {
   "cell_type": "markdown",
   "metadata": {
    "id": "Dp_fK7Mkd38c"
   },
   "source": [
    "Or get them in a dictionary form with `get_by_path()` (equivalent to just accessing the `.selected_by_path` attribute):"
   ]
  },
  {
   "cell_type": "code",
   "execution_count": 44,
   "metadata": {
    "execution": {
     "iopub.execute_input": "2024-05-28T18:16:59.921784Z",
     "iopub.status.busy": "2024-05-28T18:16:59.921571Z",
     "iopub.status.idle": "2024-05-28T18:16:59.933099Z",
     "shell.execute_reply": "2024-05-28T18:16:59.932406Z"
    },
    "id": "vx86PfFId_OQ"
   },
   "outputs": [
    {
     "data": {
      "text/html": [
       "<div id=\"output_37e9cc29441d4a489b15022ff9ab9d79\"><script> /* penzai.treescope rendering of a Python object (compressed) */ (()=>{ let observer; let lastStep = new Promise((resolve, reject) => { observer = new IntersectionObserver((entries) => { for (const entry of entries) { if (entry.isIntersecting) { resolve(); observer.disconnect(); return; } } }, {rootMargin: \"1000px\"}); }); window.treescope_decompress_enqueue = (encoded, destId) => { const previous = lastStep; const destElt = document.getElementById(destId); lastStep = (async () => { await previous; let blob = new Blob([ Uint8Array.from(atob(encoded), (m) => m.codePointAt(0)) ]); let reader = blob.stream().pipeThrough( new DecompressionStream(\"deflate\") ).pipeThrough( new TextDecoderStream(\"utf-8\") ).getReader(); let parts = []; while (true) { let step = await reader.read(); if (step.done) { break; } parts.push(step.value); } let newElt = document.createElement(\"div\"); newElt.innerHTML = parts.join(\"\"); destElt.parentNode.replaceChild(newElt, destElt); for (let oldScript of newElt.querySelectorAll(\"script\")) { let newScript = document.createElement(\"script\"); newScript.type = oldScript.type; newScript.textContent = oldScript.textContent; oldScript.parentNode.replaceChild(newScript, oldScript); } })(); requestAnimationFrame(() => { observer.observe(destElt); }); } })(); </script><div id=\"compress_html_066d9223b2494852820bec1e00d22fc3\"><script>window.treescope_decompress_enqueue(\"eNrtGolS20j2VzpKVbADNj7wjV0rG18kQMAkEGamXC2pdWC5JaSWjZni3/d1S74FIRlmsjsVqMJ26913P3Pos5lNGmnmEeKrjkuGnuMw9CdyHd9ilkOryCM2ZtaE1JDuUJbS8diyZ1U0dqjju1iF86lpMZISH6rI9eDEtnyWEqRTbObCKXUoHCtYHRmeE1AtpTq241VD1BqKPik2AAA9S2NmFekWAzDKCGU1NMaeYdGUTXRWRTnV5DwoSZnEMkw4yaYLNfR4uB+qc+irnuWyBrJ0lJhaVHOmSw1RvV5HIALRgYCWBF23IdCfj7Wt4/TQJVSzqCGr3DI+gP32xzfBephqNidJA9uOgTYIG25Yv44Sc6MPmZNE9QYIuf8efXScETjBQ8wkSEBSRyNp9H4f2YShCHcFVbgGmCfCZ2/qSHPUYAwGTSuONkPv3qE3/ElatbHvfwSnpbnBsUX9hLQulJRE3FRzHhzJxR5QattkLDz0CJxZ4FHxED7G6OoFdOA4lCs4dbxRpBmw9BlIdgVH/NHaMbNUfugSDxQfY6qSNHWmieRCta0nKBUiHaJ8joscFwObrkzbhBrMhNBAmbiIeN6nod7cAsT2yVJ0M6Bc9m8y901LZ1wlgcHfPMLvS2VIzCE9chcQn8nUGmMO0fHwmCRCuyaT8R7ZFMUNfDP0Te0lhpsLUQ9N8T2me7nYsYITClgBOSI68TyiXZKxC2FP/O0Acm1+uAh8QPNmA2ITlTmebNsQ6BHuahEM6NCHSJWSNZFwCZ5fQAk5uiDIFYXXlbzxyNiZkLWsWaHxVCYk5rJy+rrnPBCeHIJyWPjWxU1IYWHjJDkGfFpVTfUIqBEl5CosvEvzOgzAIRPxKTon96wVMlt5vDysCXHCXD/l5cYjYC2VtCD9tARQ2OMA3E9P+oo5hmGHZWQoqj8DwUSVgxNisz1EJkA9MgUPO/E5PSIznpGSJ81LDwCv2Dykm5AWNIdjEFCay/GIoB+EjeBQsyZIINY36xpiWAGByX1dykjIocAUpKcrcPHyJ5hp+XPJJWg5YSMVnWxIg7FCPBGDorG9zVTK2UIRZIoAfCBBjRUAnM8WsryHpbUopIfCzKZja2uUcIn/Rs1YMK0ii2HbUjmyDuBYAWF5Z3iijT+idbBhqB9Aa5YPTGfzdr0JiBrIxgqxq1WFQFaQFalU8VOL5Rf27FSWN+2otWdqS14WFZ1csR3e+5/kaUJ6educNeyNfIINcBbdxq5ShyU2jkzsJxqCZiPWDgKnqppEHcF4kETvk0sZOGo80hx+TUKRQFW083uuoKg7P1O8daQnhSz+A0JyP3LGgedzB7qOBRJ4MXwt//XYilQQjFIiY/2nYvx1uC7V45V0m0va8oe65fls6NAhD/+Y1HouldK5As+mWFehvyx+6PFNEblWa1O4SOjHNC+eYFhtqPKO8ErRslKLosKwxlrFtpqAWwDMeln3XhT8DTmgXf1toiiOBzU5EkVzGDDlYqC3JMN/uVHuAmxTmGOGcB3SrXsgEtZr6wHKdSZdJmMO5ZuYF/op9ih0g+E8UudFVdexms3HALrQPiFAsMbnqpQXXYG4OyIrRUepTFrEyfLeVRXXJuylDA9rFh8TsvmCRow95HiYGgRlQLqiakJTh89+2PbDIxSaeVuUrUh5NcOv+XyuzGN6ahI6BCPZ2PXB9N/sW9/N/BkOYbcSPAQQuXdhon0S5jXkiGMRKRoCLGeqOFOszzvp9WEJPUNhU1W6Nr7FA76E2ZN0IpH/E+0ZVDJPm/nOYecE5lvPwjYazMaKA4P9WcA4bw3NR9iW48521qcjyq+HdnQ2jRYGBxnIU99Tqyjw7ISGGa7y5/tTR9dzNQX7pHiwp2Uq3RNDbsrip38uy45417yYwt9eR5bb8nM/zbEsGyPng9ZvN1vTr7J8+bV1LJ/0my25Y9z3ex9N5jdPLGLkO0fXuY/94tfJwA2sTyeFy+zxdf/iy8nk6uSBfZp1Oq3dK2N0aTWPMqZ1dB4ct7Xubaan7OuTvubefSiad1eWdR6c0K7Z0z8z+XOxeeodyJ0+HbWL6ucgoLsXhTvVH00nesfev7s32k7ZUI6n3XK2J+9T+aLw0fOOsxe7xkPmQsvIx3rWOC21pt3bnJFxZsFFqTRuZ4vT3nXlzDBccjmaHZC+8lBQFe+sy7BsnPdPp0fYn/nnQb9/fdXuTOVP527/q/Z5f3/XKF2WrvMso3/4dCdPCkDzo3xakk+m8th4uBjsBjcD0r6+z+lF9eH04KI3KwRN+cND89btuHmrd95qZ26CTweDEtWbH9u9zslYtnbLk3bOpFmztKt8mV7fTnve5Kj7uUVv9XbbYLtn6o1tlwqV1vG0WTYrBycn3UG+eyMb437htnleYZdd0qu0m81+N39kHFzsf1VnitwFn375sC+fd7FMTlq23Htonxk3zCg2PxlnZ/2j5sg6L5BO87rV7KhWxjU9x6UQG+5N+yj7kB0N9JbOzNkH2tNwx+/pmdNxt31abGry3ZcvLmb+4Gasadiq5PSHysFn6/au6I694pnztTWwvO54ctzND64G+U47pzbP9cvdnu243YOOPy1g465Ytm7I4NR2r2iz1yfaiUeCq7tua5y96nijweC+kCteXflTGSRKIrEaYYkdEdY7ydeoSZDdMyVgzKGx5Wb5OG7KlJC0AQWTD7SZeODfSfZAk2o/WgQg2ZWRBZiiGIyhIJnQsqoIUwboFuS4tlg9Lnr31ly61rgronGvaRkOtDFaxN9PlpjpKfaHKlzcwLALfKyzteve/GL1HM8NnHWWq6ZHE+wlUile7VKYgmPFwiW5esyZ8E0U7/7R+CnIoqyPCFgsBf3YCdj3qbKQABxjEe3NuiSCJXpjjV3HY5hu0VY8ZyTasTtb3h6+bd0VtBV7Lka0zV3x1tbCFJsqgR+qhuoIqhtVUSLksL6+BE0uHR54ABZJwM98woRQ3KRcDjzFFkMUTywDM8dLA2VXcbCnpaeexcglXBcSS1rgiYjWcusBU19CWrG3WPAQdmmNCThmsVHawptvqDZQH/dQLpPJiNKgYgZzXkKM+vF8V4wqLYVb3yElwL1vUQdbNgQDcxAHfiNyEgY6CoOxPYORwWcEazwmdldtF+1ulosbHkrzzc36YmBz6pQah2EZO7SoGzDEV1x1SRQuxbmXYolENQ4ehvWtcbgvkNf5mkDJAxajIYOBlDBJSJwakRlUc7MuSevg6xPVxsONi4HU4FMmibavoDaANqKXM37LINqRpbLEn4tHkY6rNLduPtJzz6V/yqgvNGYj8S/W7S8Exi2+F9VoGDDL3ggNHhMfyOxVLQfhXP8ebVYXmVLj3dv7XKmmhC/rwm7bYH6jkRp7G6DhSzJ63Ys/rm5TXNzVpAaKY/tjYWRpdWmxji3nyrhAlIqi6sWDQrFSzhSVTKmQy5cyhJCKIv28YhXn/rg1MrjJZjUeWLLnYV6FWT6XyGb2YKxLp9E7g9Vi/bH3/Qbf8PPqs51lk95BDm3xXlTfeabxilV7cgctpoW6lLDxWNGw+FKgKv7+lpgnBQ/kHWUnuZf8Iykh0eXr0sqsUUXv7gKH1V5KI4SGcXJzcIJZVDQt3gXgfaRlI9aE3w5K6XkD8m8wIl2iL70z6QKfRsOVeqbGaxIAvRL7X23hV1t4tbagvnZbeFE5+v8L+b8pLAb8G3aqktcODUu7/4HQCL8blRrZX+Hwq0qsVokJtgPyupXixzF/zoyZ1Qq5crmol/PZzEGpTDCuFMqKrpYripLPkdxPCNEfnS1128F8uix9a7h8kY/+l0ZLFcZCtFpTeR3MwtkalIjmneRfnUG/l9m/aVgNXx5fkswLFEH0qZXeU/80lkguFk7/BVDvPX0=\", \"compress_html_066d9223b2494852820bec1e00d22fc3\");</script><span style=\"color: #aaaaaa; font-family: monospace\">(Loading...)</span></div></div>"
      ],
      "text/plain": [
       "<IPython.core.display.HTML object>"
      ]
     },
     "metadata": {},
     "output_type": "display_data"
    },
    {
     "data": {
      "text/html": [
       "<div id=\"compress_html_d31b4781f4da427baf0accf334a8b612\"><script>window.treescope_decompress_enqueue(\"eNrtWW1v2zYQ/isHFWukVlZkxy+yHRvY0g3ol34YBuxDEQiUSFtaaFKV6Ly06H/fkZJlK3YcJ0vbbXCAWJZ47/fw7mid0/QaCnXH2cSiaZFxcjcCIQWzIKUTaybzkLIZy3NGw6ATkB6LhlE863d7/WHg9yN/0OucDXzG2DCypudFRgR+anlTL5JKyQVPBRsJqWxvJjklEWehkJSNElLYU04ixqfNlVDJ+ZyXPKM4YfEVo44Dbxz4AhmhNBXzlpLZCHyv3WOLMWgNrYSl80SNoO2ZZ1+9WHI0nkRRzq6R09yO4FU/6BDfXxPEcrFgQoU3CRMhu0X7KaMvZu9KKzF/tVYMpjZ6TRBxEl+NIcLPeS6XgraqhWuS261WxGV8VT5ykErmlOVlDNrZLRSSp3QfZZmIx4i/gpfcZSxHy67CnC2kYmEir1kO943eNlNe8Tixg+5POindHrT9YSnxhhRhEeeSc2RX0puleaFClcZXB0sddr22lusPoX3W9wY7BZvo71XnbClUORFFqlIpRlvKoV0AIwVrpaIll8qFmRSqdWNAdm9NZzWJkxCxH7OQs5naAKq+1UjtxUmTLjeS1oR5Cd+aslBEAymMk5TTnIna+DKnMIUmyYtBtq4CBh1jWJB8jo6WjsSEx3YnTqCFlnbjpMzFI7Z+M9MqeJemlcA2Vu2Ed6N0GD8w1jyBN2C30Z1NlkpugVTMcZw6BmvW1uG8K72rTWg4a5Grp63q8XeM5rqMmAi2ckLTZVE52GYL9O5hx4yl/8yIRyH+pVHpyvzqEnZApdtP/NVDid+kL62TvKc1nZ+WDdJ0S4g5KYqJZfqPKUAqT7Oqla46c8MBbCc0Cro9Mt6VGtQ9tpqiG15AWoRlVZTCFEIkLr09T0W2VKCwB0ws418kb62dQqpQIOupYWrqW3cRhSBnygJKFGldsbuMqGRi3TOvUZWrxECzoFqHxKpa/LQkXJAFC7OczdJba5ox8ZmknsoZK2KZMYRZhpYU2N5mhHNd+T1MiZlcyssHqX5fSc+003Zz/fy0itim3vtohiaarT3UW6QSu0EqCMc2nOWTJwXXa/DuCnVYoF9ibk1fv7rtDMY/5zm5sz/6LrRd6Lhw5kLXhZ4LfRcGLgQuDC9doAYWqVBnHafka4bE3U4QKuMkKxi1prAi3iJaTVxNQ090iqIl7iVxAlJccGzgk5N1BhPkQShqqjDWi7ZK0sI5KWOhH08sm5NFRAnkUuLe05/N0DjWenfVbCM4eZTvZAwVBxFYC0g5QJxcIDvoHOD3ehI+3XN5BhxwJH8mGFK6EwpiuYi0huHAH3Taw04/6A06wX85tSl9TmKR6wem1eytZyZW8+6r9y9f3vecm6y9MHi1Eytb9fovcruqx6Y27Su6+7Sn+EyojYq8d92avlwCNo+eWGa5GpsFKAun9s84Vt6+nqvxHgj9wK2kPXvOZjJ8L7WdDt1q9+LkHmN5UNgaw9f6Bxu4d1C1ps7TMoFmPjihbW+Peks8bQ7Z3jmrC02vp+dP+GmrTXudIOjPgrO23x0EjJBhL4hmcTCMorMO66x/2jqO7MeR/d8ysnsu7P6vN8qMS3Ic2f/PI3vXbw/O+v5xZD+O7MeR/TiyH0f248j+3Uf2J8whj4zsRYy61dS2HZhM4UssRYH1z2zn97SACXy0Dn8d7YJ1+IB/OS6V6VyinhssNfJmYwJFC8L6LtRUNlAZL3VF1Yu/cqa//nL3ntq1wR/9S/2qpJQ8y8lck6D0mjHOGVHsXXX7W0Vh1zxazwXHMwsyrfg9kuF8TC90CbQN9GJN8QG7gK3ypXk5g4cbsDlTkCKjP8bL+TqMHmdirhJ8+vatfnmh6crFTS0P+pReogLNU8hlHrN3eMqaPBgKc8yy4C3c4y9vPZzOOCL2z1Qldi2ufGtbSTFuIsN6Vb+avma2eQVl3N8UUgdMLzuaCAFWgmoFrq3UMvFpyZbsXYWVP9gC5SlW2E7N+zfHZK0i\", \"compress_html_d31b4781f4da427baf0accf334a8b612\");</script></div>"
      ],
      "text/plain": [
       "<IPython.core.display.HTML object>"
      ]
     },
     "metadata": {},
     "output_type": "display_data"
    },
    {
     "data": {
      "text/html": [
       "<div id=\"output_dest_37e9cc29441d4a489b15022ff9ab9d79\"><script> (()=>{ const output = document.getElementById(\"output_37e9cc29441d4a489b15022ff9ab9d79\"); const dest = document.getElementById(\"output_dest_37e9cc29441d4a489b15022ff9ab9d79\"); dest.parentNode.replaceChild(output, dest); })(); </script></div>"
      ],
      "text/plain": [
       "OrderedDict([((DictKey(key='b'),),\n",
       "              <jax.Array([0, 1, 2, 3, 4, 5, 6, 7, 8, 9], dtype=int32)>),\n",
       "             ((DictKey(key='c'), SequenceKey(idx=1), DictKey(key='value')),\n",
       "              <jax.Array([0., 0., 0., 0., 0., 0., 0.], dtype=float32)>)])"
      ]
     },
     "execution_count": 44,
     "metadata": {},
     "output_type": "execute_result"
    }
   ],
   "source": [
    "selection.get_by_path()"
   ]
  },
  {
   "cell_type": "markdown",
   "metadata": {
    "id": "fFsp4DQ5pmMu"
   },
   "source": [
    "If you know there's exactly one value, you can just call `.get()`"
   ]
  },
  {
   "cell_type": "code",
   "execution_count": 45,
   "metadata": {
    "execution": {
     "iopub.execute_input": "2024-05-28T18:16:59.936423Z",
     "iopub.status.busy": "2024-05-28T18:16:59.936197Z",
     "iopub.status.idle": "2024-05-28T18:16:59.945253Z",
     "shell.execute_reply": "2024-05-28T18:16:59.944583Z"
    },
    "id": "hYFSKPPinEdk"
   },
   "outputs": [
    {
     "data": {
      "text/html": [
       "<div id=\"output_c0948623bdf54222aafb8a65744f50dc\"><script> /* penzai.treescope rendering of a Python object (compressed) */ (()=>{ let observer; let lastStep = new Promise((resolve, reject) => { observer = new IntersectionObserver((entries) => { for (const entry of entries) { if (entry.isIntersecting) { resolve(); observer.disconnect(); return; } } }, {rootMargin: \"1000px\"}); }); window.treescope_decompress_enqueue = (encoded, destId) => { const previous = lastStep; const destElt = document.getElementById(destId); lastStep = (async () => { await previous; let blob = new Blob([ Uint8Array.from(atob(encoded), (m) => m.codePointAt(0)) ]); let reader = blob.stream().pipeThrough( new DecompressionStream(\"deflate\") ).pipeThrough( new TextDecoderStream(\"utf-8\") ).getReader(); let parts = []; while (true) { let step = await reader.read(); if (step.done) { break; } parts.push(step.value); } let newElt = document.createElement(\"div\"); newElt.innerHTML = parts.join(\"\"); destElt.parentNode.replaceChild(newElt, destElt); for (let oldScript of newElt.querySelectorAll(\"script\")) { let newScript = document.createElement(\"script\"); newScript.type = oldScript.type; newScript.textContent = oldScript.textContent; oldScript.parentNode.replaceChild(newScript, oldScript); } })(); requestAnimationFrame(() => { observer.observe(destElt); }); } })(); </script><div id=\"compress_html_b7d79ec020d3437dbfe6a81f92146cf8\"><script>window.treescope_decompress_enqueue(\"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\", \"compress_html_b7d79ec020d3437dbfe6a81f92146cf8\");</script><span style=\"color: #aaaaaa; font-family: monospace\">(Loading...)</span></div></div>"
      ],
      "text/plain": [
       "<IPython.core.display.HTML object>"
      ]
     },
     "metadata": {},
     "output_type": "display_data"
    },
    {
     "data": {
      "text/html": [
       "<div id=\"compress_html_b00d54508ec14edc950134213e9d8919\"><script>window.treescope_decompress_enqueue(\"eNrtWFtv2zYU/iuEijVSGyuW6/gaG9iSDehLH4YBeygCgRJpizNNqhTtJC3633dIypJlu46bpi0GzAAlSzzf4bnzUFeErVGhHzideIQVOccPIySkoB5iZOLNpIoJnVGlKImHs86s3+l22p1evztM6bA3SGg6pAQPCKHDvje9KnIs4Gr4TcNEai2XnAk6ElL74UxyghNOYyEJHWW48KccJ5RPmzOxlvM5d5hRmtF0QUkQoFcB+oRyTAgT85aW+Qi1w+iSLsfIrNDKKJtneoSi0L77HKaSg/A4SRRdA9I+jtCL3qCD2+2aIJXLJRU6vsuoiOk9yE8oeTZ5N6ti+6tXFatlQtUWQXs4iC57FQFY22hVEyQcp4sxSuA6V3IlSKucWGPlt1oJl+nCvQqASipClTNSlN+jQnJGjlE6Tz1G/BmF2UNOFUi2iBVdSk3jTK5Bj12h98WUC55m/qD7i/Fa9xJF7aHjeIeLuEiV5BzgWoYzpgoda5YuTuY67IaR4dseouhNL+wfZGzdc3S5YG9BrbAomGZSjPYWR1GBKC5oi4mWXOlzNJNCt+5sFO7MGa9maRZDcqQ05nSmtyLZPJpQvkyzJp2ynGpC5eK7ovywwlzgJY1zRWfsHiitBAX7SA3VwGVBobGJxzjNGCeKikpF53k0RU2SZ4v8qpjYGBqjJVZzMIdTN8U89TtphlogaTfNnMcekfW7iVYmgRPNhb+V6mASNCqQ1QM8wjP0CvkRqLMNKfkWQEWDIKhsUENbp2M3625S1SIrlpu3rfL1D7RmXWysBVsKE7YqSgUjugTtvqyYlfTbhHg0xD816qHzryl0J9TD48SfQ+D4Xba32snHdji7ZdmSpBXLtwPbbODWtFpRWqQyh3IipQ4r4ngJkqAjHJgwa7pCaohA2kcJT1nsi3xKka8uXPNgOwmUclwUE68pZtlmbLqWhldgJyXJoHuJx4fiDWw39pqsG66BOeexKybylUYadruJZ32UyHvvIKZ0J0AvLKjJvt4vNSQq1R4iWOPWgj7kWGcTb0eaxv5TBhdqbh3eKaYpJ3e2CG+aU/ERs9pRkCo5SFLARj7DnJs9LgQP2CbO3d5J/eeGe26U9pvzVxelxbbX3c1I1MxI7wj1HqmEfY8JzKHhyNXkq4wbNrCHTB0XoJeYe9OXL+47/fGvSuEH/z1qnyMUwejAeAOjC+MSRg9GH8YAxvAcehgY0e05IjZQmNBvOoHj1DTS+b7LYHmO84ISb4o2xHtEm3a0KfqZcVqyggohzpAU1xyal8lZ7dMMMBCchipOzaSvM1YEZ8465vXE8zleJgQjk6gje20aK/Dq9KpgI3T2KO5sjEoEFpDr2DVPZ9cAR8Yr8L86JlwcuT0hQOC88sTwYORgcLgm3ZsO++1+Jxr04NKLev9l1zLyFMcC6ie61ebWEx1rsD+24B85VHpHw+DFwVjZq+D/4PtNhbbV6lgZPrY6g3dCb9Xoo/Pe9PkcsH0uh8LL9dhOIFc4jX5WMff4cq7HR0LoJ6aS0ewpyWRxz5VOp6bajp3O/7flSWZrtGP11yy0c0j3psHXeaLRBD+aHlVKfGtnsp9Lmxtha5AiBWn01PcDNJmiT6kUBVREm+BvSYEm6L13+qfA27HDG4cB9A7qibzbajyBadw8L/iIyHRlyqaZ/J1T8/e3h7fEr2R43741R0bHeabw3JAA9wqYKoo1vSkf/ygp/Apj1rnmcNIA0AYf4hzaYnJt6pxv4ys1FO+g1PtarewhdSYV8jnViAGwPYbbVW2ZkFMx13DoZq9fm0OcoXOT26t8USd2CwsYTCFXKqU3bL2t0Q7MfpD10Gu0g3ePIbRgHMLyb6Yzv2LnvnGVXKyaAKhnzYe8NfXtUdyd27aYVAYz04EhgphxcbKJlz3XUvFhRVf0poyVv+gS+Gla+EGF/RcXnOWA\", \"compress_html_b00d54508ec14edc950134213e9d8919\");</script></div>"
      ],
      "text/plain": [
       "<IPython.core.display.HTML object>"
      ]
     },
     "metadata": {},
     "output_type": "display_data"
    },
    {
     "data": {
      "text/html": [
       "<div id=\"output_dest_c0948623bdf54222aafb8a65744f50dc\"><script> (()=>{ const output = document.getElementById(\"output_c0948623bdf54222aafb8a65744f50dc\"); const dest = document.getElementById(\"output_dest_c0948623bdf54222aafb8a65744f50dc\"); dest.parentNode.replaceChild(output, dest); })(); </script></div>"
      ],
      "text/plain": [
       "{'value': <jax.Array([ 0,  1,  2,  3,  4,  5,  6,  7,  8,  9, 10, 11], dtype=int32)>}"
      ]
     },
     "execution_count": 45,
     "metadata": {},
     "output_type": "execute_result"
    }
   ],
   "source": [
    "pz.select(my_nested_object).at(lambda root: root[\"c\"][0]).get()"
   ]
  },
  {
   "cell_type": "markdown",
   "metadata": {
    "id": "MkI4lVkKxvSX"
   },
   "source": [
    "You can also get the selected objects in a dictionary form by accessing the `selected_by_path` attribute, which is how selections store their selected nodes internally:"
   ]
  },
  {
   "cell_type": "code",
   "execution_count": 46,
   "metadata": {
    "execution": {
     "iopub.execute_input": "2024-05-28T18:16:59.948645Z",
     "iopub.status.busy": "2024-05-28T18:16:59.948402Z",
     "iopub.status.idle": "2024-05-28T18:16:59.961077Z",
     "shell.execute_reply": "2024-05-28T18:16:59.960056Z"
    },
    "id": "UNJ6Zq-7x1px"
   },
   "outputs": [
    {
     "data": {
      "text/html": [
       "<div id=\"output_a751451420b442d1bb38ab994e6995da\"><script> /* penzai.treescope rendering of a Python object (compressed) */ (()=>{ let observer; let lastStep = new Promise((resolve, reject) => { observer = new IntersectionObserver((entries) => { for (const entry of entries) { if (entry.isIntersecting) { resolve(); observer.disconnect(); return; } } }, {rootMargin: \"1000px\"}); }); window.treescope_decompress_enqueue = (encoded, destId) => { const previous = lastStep; const destElt = document.getElementById(destId); lastStep = (async () => { await previous; let blob = new Blob([ Uint8Array.from(atob(encoded), (m) => m.codePointAt(0)) ]); let reader = blob.stream().pipeThrough( new DecompressionStream(\"deflate\") ).pipeThrough( new TextDecoderStream(\"utf-8\") ).getReader(); let parts = []; while (true) { let step = await reader.read(); if (step.done) { break; } parts.push(step.value); } let newElt = document.createElement(\"div\"); newElt.innerHTML = parts.join(\"\"); destElt.parentNode.replaceChild(newElt, destElt); for (let oldScript of newElt.querySelectorAll(\"script\")) { let newScript = document.createElement(\"script\"); newScript.type = oldScript.type; newScript.textContent = oldScript.textContent; oldScript.parentNode.replaceChild(newScript, oldScript); } })(); requestAnimationFrame(() => { observer.observe(destElt); }); } })(); </script><div id=\"compress_html_8533fe7694044d629dd4d62e8b5610e8\"><script>window.treescope_decompress_enqueue(\"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\", \"compress_html_8533fe7694044d629dd4d62e8b5610e8\");</script><span style=\"color: #aaaaaa; font-family: monospace\">(Loading...)</span></div></div>"
      ],
      "text/plain": [
       "<IPython.core.display.HTML object>"
      ]
     },
     "metadata": {},
     "output_type": "display_data"
    },
    {
     "data": {
      "text/html": [
       "<div id=\"compress_html_f41cb27380d644fdb79bd3b7765f4a38\"><script>window.treescope_decompress_enqueue(\"eNrtWW1v2zYQ/isHFWukVlYtx47fYgNbugH90g/DgH0oAoESaUsLTWoUnZcV/e87UrJsxY7jZGm7DQ4QyxLv/R7eHa1zml1Doe84mzg0K3JO7kYgpGAOZHTizKSKKJsxpRiNOnG3F/f6fXZG+11GaNwednrDpDeYkXDGEupMz4ucCPw08qZBLLWWC54JNhJSu8FMckpiziIhKRulpHCnnMSMT5srkZbzOS95RknKkitGPQ/eePAZckJpJuYtLfMRtIOwxxZjMBpaKcvmqR5BGNhnX4JEcjSexLFi18hpb0fw6mzQIe32miCRiwUTOrpJmYjYLdpPGX0xe1daif2rtWIwjdFrgpiT5GoMMX7OlVwK2qoWrolyW62Yy+SqfOQhlVSUqTIGYX4LheQZ3UdZJuIx4i8QpHc5U2jZVaTYQmoWpfKaKbhv9LaZ8oonqTvo/mCS0u1B2B6WEm9IERWJkpwju5bBLFOFjnSWXB0sddgNQiO3PYTw9Czo7xRso79XnbelUCsiikxnUoy2lENYACMFa2WiJZfah5kUunVjQXZvzWQ1TdIIsZ+wiLOZ3gCquTVI7SVpk05ZSWtCVcK3piw0MUCKkjTjVDFRG1/mFKbQJHkxyNZVwKJjDAui5uho6UhCeOJ2khRaaGk3SctcPGLrVzOtgndpWglsa9VOeDdKh/UDY81TeANuiO5sslRyC6RinufVMViztg7nXeldbULLWYtcPW1Vj79hNNdlxEawpQjNlkXlYMgW6N3DjllL/5kRj0L8c6PSlfk1JeyASref+EuAEr9KX1oneU9rOn9XNkjbLSHhpCgmju0/tgBpleVVK1115oYD2E5oPOj2yHhXalD32GmKbngBWRGVVVEKWwiRuPT2PBP5UoPGHjBxrH+xvHV2CqlCgazvLFNT37qLaAQ50w5Qoknrit3lRKcT5555japcJQaaBdU5JFbV4p9LwgVZsChXbJbdOtOcib9IFmjFWJHInCHMcrSkwPY2I5ybyh9gSuzkUl4+Sv3rSnpunHab6+fvqoht6r2PZmii2dlDvUUqsRtkgnBsw7maPCm4QYN3V6ijAv0Sc2f6+tVtpz/+USly535q+xD60PHh1IeuDz0fznzo+zDwYXjpA7WwyIQ+7XglXzMk/naCUBknecFwLoQV8RbRauJqGnpiUhQvcS+JE5DigmMDn5ysM5giD0LRUEWJWXR1mhXeSRkL83jiuJwsYkpASYl7z3w2Q+M5691Vs43g5FG+kzFUHERgLSDlAHFygexgcoDf60n43Z7LM+CAI/kzwZDRnVAQy0VsNAz77X4nHHbOBr1+Z/BfTm1Gn5NY5PqOabV765mJNbz76v3Ll/c95yZnLwxe7cTKVr3+g9yu6rGtTfuK7j7tGT4TeqMi7113pi+XgM2jJ5ZZrsd2AcrCafyzjpW3r+d6vAdC33ErGc+es5ks30ttp0O32r04+cdYHhS2xvC1/sEG7h1Unan3tEygmQ9OaNvbo94ST5tDtnfO6kKz6+n5E37aIuyUkM5Z97TdYd2YkUHcI6fDfjjohskgnIXrn7aOI/txZP+3jOyBD7v/640y45IcR/b/88jebYf907P2cWQ/juzHkf04sh9H9uPI/s1H9ifMIY+M7EWCuvXUdT2YTOFzIkWB9c9u5w+0gAl8cg5/He2Dc/iAfzkulZlcop4bLDXyZmMCRQui+i4yVC5QmSxNRTWLP3Nmvv5094G6tcGf2pfmVUkpeabI3JCg9JoxUYxo9r66/aWicGseo+eC45kFmVb8AclxPqYXpgS6FnqJofiIXcDVamlfzuDhBlzONGTI2B7j5XwdxoAzMdcpPn371ry8MHTl4qaWB33KLlGB4SnkUiXsPZ6yJg+Gwh6zHHgL9/jL2wCnM46I/T3TqVuLK9/aVlKsm8iwXjWvpq+Za19BWfc3hdQBM8ueIUKAlaBagWsrtUz8uWRL9r7Cym9sgfI0K1yv5v0bQnCutA==\", \"compress_html_f41cb27380d644fdb79bd3b7765f4a38\");</script></div>"
      ],
      "text/plain": [
       "<IPython.core.display.HTML object>"
      ]
     },
     "metadata": {},
     "output_type": "display_data"
    },
    {
     "data": {
      "text/html": [
       "<div id=\"output_dest_a751451420b442d1bb38ab994e6995da\"><script> (()=>{ const output = document.getElementById(\"output_a751451420b442d1bb38ab994e6995da\"); const dest = document.getElementById(\"output_dest_a751451420b442d1bb38ab994e6995da\"); dest.parentNode.replaceChild(output, dest); })(); </script></div>"
      ],
      "text/plain": [
       "OrderedDict([((DictKey(key='b'),),\n",
       "              <jax.Array([0, 1, 2, 3, 4, 5, 6, 7, 8, 9], dtype=int32)>),\n",
       "             ((DictKey(key='c'), SequenceKey(idx=1), DictKey(key='value')),\n",
       "              <jax.Array([0., 0., 0., 0., 0., 0., 0.], dtype=float32)>)])"
      ]
     },
     "execution_count": 46,
     "metadata": {},
     "output_type": "execute_result"
    }
   ],
   "source": [
    "(\n",
    "    pz.select(my_nested_object)\n",
    "    .at_subtrees_where(\n",
    "        lambda subtree: isinstance(subtree, jax.Array) and subtree.size <= 10\n",
    "    )\n",
    ").selected_by_path"
   ]
  },
  {
   "cell_type": "markdown",
   "metadata": {
    "id": "ebPObknTmCAo"
   },
   "source": [
    "### Partitioning PyTrees\n",
    "\n",
    "You can use `.partition()` to split a selected object into two parts, one containing only the selected subtrees, and one containing everything else:"
   ]
  },
  {
   "cell_type": "code",
   "execution_count": 47,
   "metadata": {
    "execution": {
     "iopub.execute_input": "2024-05-28T18:16:59.964551Z",
     "iopub.status.busy": "2024-05-28T18:16:59.964323Z",
     "iopub.status.idle": "2024-05-28T18:16:59.968303Z",
     "shell.execute_reply": "2024-05-28T18:16:59.967544Z"
    },
    "id": "H-CcdaMyqq3M"
   },
   "outputs": [],
   "source": [
    "selected, rest = (\n",
    "    pz.select(my_nested_object)\n",
    "    .at_subtrees_where(\n",
    "        lambda subtree: isinstance(subtree, jax.Array) and subtree.size <= 10)\n",
    ").partition()"
   ]
  },
  {
   "cell_type": "code",
   "execution_count": 48,
   "metadata": {
    "execution": {
     "iopub.execute_input": "2024-05-28T18:16:59.971699Z",
     "iopub.status.busy": "2024-05-28T18:16:59.971480Z",
     "iopub.status.idle": "2024-05-28T18:16:59.984548Z",
     "shell.execute_reply": "2024-05-28T18:16:59.983744Z"
    },
    "id": "DaUwe2Iyq6ko"
   },
   "outputs": [
    {
     "data": {
      "text/html": [
       "<div id=\"output_1938d841a5e3423cb86083e189d064a3\"><script> /* penzai.treescope rendering of a Python object (compressed) */ (()=>{ let observer; let lastStep = new Promise((resolve, reject) => { observer = new IntersectionObserver((entries) => { for (const entry of entries) { if (entry.isIntersecting) { resolve(); observer.disconnect(); return; } } }, {rootMargin: \"1000px\"}); }); window.treescope_decompress_enqueue = (encoded, destId) => { const previous = lastStep; const destElt = document.getElementById(destId); lastStep = (async () => { await previous; let blob = new Blob([ Uint8Array.from(atob(encoded), (m) => m.codePointAt(0)) ]); let reader = blob.stream().pipeThrough( new DecompressionStream(\"deflate\") ).pipeThrough( new TextDecoderStream(\"utf-8\") ).getReader(); let parts = []; while (true) { let step = await reader.read(); if (step.done) { break; } parts.push(step.value); } let newElt = document.createElement(\"div\"); newElt.innerHTML = parts.join(\"\"); destElt.parentNode.replaceChild(newElt, destElt); for (let oldScript of newElt.querySelectorAll(\"script\")) { let newScript = document.createElement(\"script\"); newScript.type = oldScript.type; newScript.textContent = oldScript.textContent; oldScript.parentNode.replaceChild(newScript, oldScript); } })(); requestAnimationFrame(() => { observer.observe(destElt); }); } })(); </script><div id=\"compress_html_423ee8844dbc460395b67f4bc680aa6a\"><script>window.treescope_decompress_enqueue(\"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\", \"compress_html_423ee8844dbc460395b67f4bc680aa6a\");</script><span style=\"color: #aaaaaa; font-family: monospace\">(Loading...)</span></div></div>"
      ],
      "text/plain": [
       "<IPython.core.display.HTML object>"
      ]
     },
     "metadata": {},
     "output_type": "display_data"
    },
    {
     "data": {
      "text/html": [
       "<div id=\"compress_html_a01ee5440f7c4a3799d9c05fa7f95087\"><script>window.treescope_decompress_enqueue(\"eNrtWVtv2zYU/iuECjRSKyuW71cBW9IBfenDMGAPRSBQIm1xoUWVohNnRf/7DqmLrdhxLktbbHCAWBZ5vnM/R4fWjLAblKs7TucWYXnG8d0EpSKlFmJkbi2EDAldUCkpCcd+r9MfLXCnOya97iAad9r+YkD63Yj4uEf7VjDLM5zCp+YXeJFQSqw4S+kkFcr2FoITHHEapoLQSYJzO+A4ojxo7oRKLJe8wEzihMbXlDgOeuegryjDhLB02VIim6C25/fpaoq0hFZC2TJRE+R7Zu2bFwsOyuMokvQGkOZ2gt4MRh3cbm8JYrFa0VSFtwlNQ7oB/Qklr6ZvJRWbv63UdL2KqNwhaI9Hfn+gCXKFNYcwThgnkqYFAhYiIQlgAtQkeTVd6/BHXMTXU7TCcsnSFqcLcGuMeWx34gS1wO29OHFAVfSYrt9NtYJ9qVouOCOFVugGS7vVMlQtowvo2cgZY0fb6/MEvUO2D+bsQkq+OVBRx3FqH2yhradjK7lFGeh0BWTNslptlcs/0JulpmCU8WBLYsLWeWmgT1dg3cOGGU3/nRKPpviuilV8/WxzMLolZeXO48TfPOD4XRrSNshHetLsvOiMpk2imOM8n1um8UixTomSLCt7aNWSGwZAmyDRqNfH00OhATFTq8m6YQXsFcbNWJqtFVJ3GQgw5kRiYx3ElJYD9NyAmuwT4CDB0OtQQU5TZSGCFW5d07sMq2Ru3dOmCrJ2DSrjgJI4CYEopqFOResprik3v6wxT/GKhpmkC7axgoymf2PmKUlpHouMQlZloEmuaLjAnEeQcx5EwDyhissnoX6vuGfaaLu5PzsvPbYr937yombyWkeo90iFZNALMA8lzeT8Wc71GthDrg5zsCtdWsHbN5vOcPqLlPjO/tx2ke+ijou6Luq5qO+igYuGLhq5aHzlImLSgqWq23EKXNMl7n6AQBjHWU6JFaCKeI+oerI2FT3TIYrWUDrpGRLpBWfx9fxsG8EEMJCKmiqM9aatEpY7Z4Uv9PLcsjleRQQjKQSUmv5susaxtsVUwybo7FHc2RSVCJxC6WPFRAq4C4AjHQP4Xk8850cuL0gHGL1emAyMHEyFYt6wgvGwPez4485g1B92Rv/l0DLyksAC6ieG1dTWCwOrsT+2vR+Zj62jafDmYK7s9eu/8Kbqx6Y3HWu6x6QzWEvVTkc+um8FrxeA3SMGtFmupmYDFY1T22cMK27fLtX0SAr9xFLSlr2kmAzutcrpqaV2z0/uyZdPcltj+NoezHfmL6lnVStwnhcJUPPBCW2/POqSeN4csl851YWwm2D2jJ8whgPaH/W6cTQeD3vEpzC996ORH3fH0biPx4PtTxinCf00of+kCd1z0eH/ui4WXODThP5/ntB7bX/YHbRPE/ppQj9N6KcJ/TShnyb0Hz6hP2MOeWRCz2OQrQLbdtA8QF9jkebQ/0w5fyQ5mqPP1tPfMrrIevo8fzUthOlYgpxbaDXidmcCBQ3C+i7UVDYiIl7rjqo3P3Cqv/5695HYtcKf21f6RUjBeSHxUpMA9xoYS4oVvSxvfysp7Bqj5VxwOKIAqMJ7OIP5mFzoFmib1Is1xSd4CthKrs2rFzjLIJtThRgA21O4zLZu9DhNlyqB1ffv9asJTVds7kp50CZ2BQI0JhdrGdNLOFTNH3SFOVVZ6D26hy9uPZjOOGTsn0wlds3OWzCZV1yMmQDY7kq6EjfUNi+YjPm7TGqH6W1HE0GCFUlVJddeaGn6ZU3X9LLMlT/oCvgpmttOjf0H6Kro2w==\", \"compress_html_a01ee5440f7c4a3799d9c05fa7f95087\");</script></div>"
      ],
      "text/plain": [
       "<IPython.core.display.HTML object>"
      ]
     },
     "metadata": {},
     "output_type": "display_data"
    },
    {
     "data": {
      "text/html": [
       "<div id=\"output_dest_1938d841a5e3423cb86083e189d064a3\"><script> (()=>{ const output = document.getElementById(\"output_1938d841a5e3423cb86083e189d064a3\"); const dest = document.getElementById(\"output_dest_1938d841a5e3423cb86083e189d064a3\"); dest.parentNode.replaceChild(output, dest); })(); </script></div>"
      ],
      "text/plain": [
       "{'a': NotInThisPartition(),\n",
       " 'b': <jax.Array([0, 1, 2, 3, 4, 5, 6, 7, 8, 9], dtype=int32)>,\n",
       " 'c': [NotInThisPartition(),\n",
       "  {'value': <jax.Array([0., 0., 0., 0., 0., 0., 0.], dtype=float32)>},\n",
       "  NotInThisPartition()]}"
      ]
     },
     "execution_count": 48,
     "metadata": {},
     "output_type": "execute_result"
    }
   ],
   "source": [
    "selected"
   ]
  },
  {
   "cell_type": "code",
   "execution_count": 49,
   "metadata": {
    "execution": {
     "iopub.execute_input": "2024-05-28T18:16:59.987482Z",
     "iopub.status.busy": "2024-05-28T18:16:59.987246Z",
     "iopub.status.idle": "2024-05-28T18:16:59.998746Z",
     "shell.execute_reply": "2024-05-28T18:16:59.997986Z"
    },
    "id": "n-y-RvcSq7V-"
   },
   "outputs": [
    {
     "data": {
      "text/html": [
       "<div id=\"output_26ef2cfb0bda462291e3bf2c39e7696d\"><script> /* penzai.treescope rendering of a Python object (compressed) */ (()=>{ let observer; let lastStep = new Promise((resolve, reject) => { observer = new IntersectionObserver((entries) => { for (const entry of entries) { if (entry.isIntersecting) { resolve(); observer.disconnect(); return; } } }, {rootMargin: \"1000px\"}); }); window.treescope_decompress_enqueue = (encoded, destId) => { const previous = lastStep; const destElt = document.getElementById(destId); lastStep = (async () => { await previous; let blob = new Blob([ Uint8Array.from(atob(encoded), (m) => m.codePointAt(0)) ]); let reader = blob.stream().pipeThrough( new DecompressionStream(\"deflate\") ).pipeThrough( new TextDecoderStream(\"utf-8\") ).getReader(); let parts = []; while (true) { let step = await reader.read(); if (step.done) { break; } parts.push(step.value); } let newElt = document.createElement(\"div\"); newElt.innerHTML = parts.join(\"\"); destElt.parentNode.replaceChild(newElt, destElt); for (let oldScript of newElt.querySelectorAll(\"script\")) { let newScript = document.createElement(\"script\"); newScript.type = oldScript.type; newScript.textContent = oldScript.textContent; oldScript.parentNode.replaceChild(newScript, oldScript); } })(); requestAnimationFrame(() => { observer.observe(destElt); }); } })(); </script><div id=\"compress_html_60dcd59414694b30bf50543db3933e58\"><script>window.treescope_decompress_enqueue(\"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\", \"compress_html_60dcd59414694b30bf50543db3933e58\");</script><span style=\"color: #aaaaaa; font-family: monospace\">(Loading...)</span></div></div>"
      ],
      "text/plain": [
       "<IPython.core.display.HTML object>"
      ]
     },
     "metadata": {},
     "output_type": "display_data"
    },
    {
     "data": {
      "text/html": [
       "<div id=\"compress_html_21b75ed388334fe99522d047cda47c72\"><script>window.treescope_decompress_enqueue(\"eNrtWG1v2zYQ/iuECjRSEyuWGyeOHRvYkg3ol34YBuxDEAiUeLK40KRK0U6yov99R+rFVpw4aZq2GDADlCzxnrvnXngmfcb4ipTmTsDUY7wsBL0bE6kkeISzqZcpHTPIQGtg8bA/yk7heBSlw8HRaHQ8GkQ0G5ycDJOsfwrZkTc7Kwsq8Wr1zcJEGaMWgksYS2X8MFOC0URALBWDcU5LfyZoAmLWnYmNms9FhRmnOaTXwIKAvAvIZ1JQxric94wqxqQfRkNYTIi10MuBz3MzJlHo3n0JUyWQPE0SDStEuscxeYOsab+/FkjVYgHSxDc5yBhukT8D9mp8G6vUfazV0lArEKc5F0yDrGjgi0RpBprMSFfk1ai02U2ESq8nZEH1nMuegAyjllKR+oM0Jz2M6lGaB0iVPMX1u1Gr1NfUSiU4q1iRFdV+r+ekeo4L8uyUhPOjHw5FTt4RP0J3NiG13hKlIAiCNgZraO/52MZuVeW2GhHZqmze9urXPzCaNVN0ykWwpynjy7J2MIIFeve4Y47pt5F4ssQ3KTb5jYrbB7NbSzbh3C38JUSN36XfrJO8o+WcHVaNz3VBkgpallPP9RWtlpIZzYu6RTYdt+MAtgmWjI6GdPJQatDMxOuq7niBc5VzZ1wWS0PMXYEGnDuJuvUexNSeI/TQgbrqc9Sg0dHr2GBNg/EIo4b2ruGuoCafevfYNEm2oSF1Hkie5jEKpRDbUvSeE5p68tOSCkkXEBcaMn7rzQqQ/1AeGg1QpqoArKoCmZQG4owKkWDNhZgB9wNU3T4q80ejvbBO+935s8M6Ypt27xcv6Ravt0N6S1Rpjr2AilhDoadfFdywg30o1HGJfsm5N3v75nZwMvlFa3rnX5L+ASERjgGO9ziOcAxxHOM4wTHCcXpAIpSLoqsDwlyhcGneD4JKUzdIB9spQ/OCFiUwb0Ya4S2h5qe0S33PJi1Z4mKSe0TJc8HT6+neOqc5YrA4rVSc2knf5LwM9qro2NdTzxd0kTBKtFK4+Oy1G6zAWy+vFjYme0/i9iakRlCJzYAariTizhFObFbwe7vFOdxxe0GB4F7rheXB2YPFIZeLxFo4PemfDKLRMV6Oo+P/cmo5e0liEfUT0+rW1gsTa7E/tuHv2BB7O8vgzYO1stXB/6a3TYd23WpXG95lneM7aTZ69M55b/Z6Cdg8U2DjFWbiJkjVOK1/zrHq8e3cTHaU0E9cStazlywmh3ut5fTcpXYvTgf/x/JZYetsx9Yn8Y0dmba7V28WfF0mkOaje7bt5dEuiW/dmWyvpebG+ApZpMjGzHw/INMZ+ZwqWWJHdAv8AyvJlFx6z/8b42pS4W3CEHqD/UTdbGw8UWncPsVWyidMpUvbNu3kbwLs11/vPjC/5XDZv7Knq0pzpunciqD2FphqoAYu6sffawm/xVg750JhCqctPqQFbovZue1zvquv1Ep8xFbvG71057lMaeILMIQjsD/B29k6MqEAOTd4PuX7+/a8Y+WqyU0rj/rEr9CAxZRqqVO44KtNj+7B3J9JHtkn9/DVY4hbMIFl+Rc3ud+qCzOuy0aLcxMB61kNC7UC351anfubStqA2enACmHNVHXS1MtWakF+WsISLupa+RMWqM9A6Qct9l9rM7m4\", \"compress_html_21b75ed388334fe99522d047cda47c72\");</script></div>"
      ],
      "text/plain": [
       "<IPython.core.display.HTML object>"
      ]
     },
     "metadata": {},
     "output_type": "display_data"
    },
    {
     "data": {
      "text/html": [
       "<div id=\"output_dest_26ef2cfb0bda462291e3bf2c39e7696d\"><script> (()=>{ const output = document.getElementById(\"output_26ef2cfb0bda462291e3bf2c39e7696d\"); const dest = document.getElementById(\"output_dest_26ef2cfb0bda462291e3bf2c39e7696d\"); dest.parentNode.replaceChild(output, dest); })(); </script></div>"
      ],
      "text/plain": [
       "{'a': 1,\n",
       " 'b': NotInThisPartition(),\n",
       " 'c': [{'value': <jax.Array([ 0,  1,  2,  3,  4,  5,  6,  7,  8,  9, 10, 11], dtype=int32)>},\n",
       "  {'value': NotInThisPartition()},\n",
       "  {'value': 3}]}"
      ]
     },
     "execution_count": 49,
     "metadata": {},
     "output_type": "execute_result"
    }
   ],
   "source": [
    "rest"
   ]
  },
  {
   "cell_type": "markdown",
   "metadata": {
    "id": "lIj7wg-oqv1t"
   },
   "source": [
    "You can then process the two parts independently, and then recombine them into a single object using `pz.combine`:"
   ]
  },
  {
   "cell_type": "code",
   "execution_count": 50,
   "metadata": {
    "execution": {
     "iopub.execute_input": "2024-05-28T18:17:00.002079Z",
     "iopub.status.busy": "2024-05-28T18:17:00.001861Z",
     "iopub.status.idle": "2024-05-28T18:17:00.049889Z",
     "shell.execute_reply": "2024-05-28T18:17:00.049093Z"
    },
    "id": "8SoBMXJmrBgY"
   },
   "outputs": [
    {
     "data": {
      "text/html": [
       "<div id=\"output_346b18f828ed4aa89037521e4881c3c1\"><script> /* penzai.treescope rendering of a Python object (compressed) */ (()=>{ let observer; let lastStep = new Promise((resolve, reject) => { observer = new IntersectionObserver((entries) => { for (const entry of entries) { if (entry.isIntersecting) { resolve(); observer.disconnect(); return; } } }, {rootMargin: \"1000px\"}); }); window.treescope_decompress_enqueue = (encoded, destId) => { const previous = lastStep; const destElt = document.getElementById(destId); lastStep = (async () => { await previous; let blob = new Blob([ Uint8Array.from(atob(encoded), (m) => m.codePointAt(0)) ]); let reader = blob.stream().pipeThrough( new DecompressionStream(\"deflate\") ).pipeThrough( new TextDecoderStream(\"utf-8\") ).getReader(); let parts = []; while (true) { let step = await reader.read(); if (step.done) { break; } parts.push(step.value); } let newElt = document.createElement(\"div\"); newElt.innerHTML = parts.join(\"\"); destElt.parentNode.replaceChild(newElt, destElt); for (let oldScript of newElt.querySelectorAll(\"script\")) { let newScript = document.createElement(\"script\"); newScript.type = oldScript.type; newScript.textContent = oldScript.textContent; oldScript.parentNode.replaceChild(newScript, oldScript); } })(); requestAnimationFrame(() => { observer.observe(destElt); }); } })(); </script><div id=\"compress_html_310fa9c8f00c4042b1efbba47a29966f\"><script>window.treescope_decompress_enqueue(\"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\", \"compress_html_310fa9c8f00c4042b1efbba47a29966f\");</script><span style=\"color: #aaaaaa; font-family: monospace\">(Loading...)</span></div></div>"
      ],
      "text/plain": [
       "<IPython.core.display.HTML object>"
      ]
     },
     "metadata": {},
     "output_type": "display_data"
    },
    {
     "data": {
      "text/html": [
       "<div id=\"compress_html_82fbef87601d4272971bfdaa3c09d3d1\"><script>window.treescope_decompress_enqueue(\"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\", \"compress_html_82fbef87601d4272971bfdaa3c09d3d1\");</script></div>"
      ],
      "text/plain": [
       "<IPython.core.display.HTML object>"
      ]
     },
     "metadata": {},
     "output_type": "display_data"
    },
    {
     "data": {
      "text/html": [
       "<div id=\"output_dest_346b18f828ed4aa89037521e4881c3c1\"><script> (()=>{ const output = document.getElementById(\"output_346b18f828ed4aa89037521e4881c3c1\"); const dest = document.getElementById(\"output_dest_346b18f828ed4aa89037521e4881c3c1\"); dest.parentNode.replaceChild(output, dest); })(); </script></div>"
      ],
      "text/plain": [
       "{'a': 1,\n",
       " 'b': <jax.Array([100, 101, 102, 103, 104, 105, 106, 107, 108, 109], dtype=int32)>,\n",
       " 'c': [{'value': <jax.Array([ 0,  1,  2,  3,  4,  5,  6,  7,  8,  9, 10, 11], dtype=int32)>},\n",
       "  {'value': <jax.Array([100., 100., 100., 100., 100., 100., 100.], dtype=float32)>},\n",
       "  {'value': 3}]}"
      ]
     },
     "execution_count": 50,
     "metadata": {},
     "output_type": "execute_result"
    }
   ],
   "source": [
    "pz.combine(\n",
    "    jax.tree_util.tree_map(lambda x: x + 100, selected),\n",
    "    rest,\n",
    ")"
   ]
  },
  {
   "cell_type": "markdown",
   "metadata": {
    "id": "69K7pItirIuA"
   },
   "source": [
    "Partitioning and combining are inspired by `equinox.partition` and `equinox.combine`. If you're already familiar with those, the main differences are:\n",
    "- You generally don't need to use `partition` and `combine` when running JAX transformations like `jax.jit`. By convention, Penzai models store all of their static metadata in `dataclasses.field(metadata={\"pytree_node\": False})` fields which are not part of the PyTree traversal, which means partitioning isn't as strictly necessary as it is in equinox workflows. Instead, partitioning is primarily useful if you want to apply different logic to two sets of leaves, e.g. taking a gradient only with respect to a specific subset of parameters, or defining different shardings for different array subsets.\n",
    "- Penzai uses a specific sentinel `NotInThisPartition()` to identify removed nodes, rather than `None`.\n",
    "- Penzai partitions are built to support manipulation at the subtree level, rather than at the leaf level. It's OK to build and combine partitions even when neither partition is a strict PyTree prefix of the other, as long as the overlapping parts don't conflict.\n",
    "- Penzai partitions are always created with selectors, rather than being built by a standalone function.\n"
   ]
  },
  {
   "cell_type": "markdown",
   "metadata": {
    "id": "bfYZoC-ANf1Z"
   },
   "source": [
    "## Modifying selected values\n",
    "\n",
    "An important feature of selections is that they allow you to perform detailed modifications to (copies of) large trees. Selections expose a number of methods for this purpose."
   ]
  },
  {
   "cell_type": "markdown",
   "metadata": {
    "id": "Y7lQebLlwpRJ"
   },
   "source": [
    "### Replacing selected values\n",
    "The simplest modification you can make is to replace each selected subtree with another subtree or value:"
   ]
  },
  {
   "cell_type": "code",
   "execution_count": 51,
   "metadata": {
    "execution": {
     "iopub.execute_input": "2024-05-28T18:17:00.053854Z",
     "iopub.status.busy": "2024-05-28T18:17:00.053626Z",
     "iopub.status.idle": "2024-05-28T18:17:00.062032Z",
     "shell.execute_reply": "2024-05-28T18:17:00.061214Z"
    },
    "id": "Ew7gWKgMNg0h"
   },
   "outputs": [
    {
     "data": {
      "text/html": [
       "<div id=\"output_4f9b128b0e054b91b14106ca43ff8855\"><script> /* penzai.treescope rendering of a Python object (compressed) */ (()=>{ let observer; let lastStep = new Promise((resolve, reject) => { observer = new IntersectionObserver((entries) => { for (const entry of entries) { if (entry.isIntersecting) { resolve(); observer.disconnect(); return; } } }, {rootMargin: \"1000px\"}); }); window.treescope_decompress_enqueue = (encoded, destId) => { const previous = lastStep; const destElt = document.getElementById(destId); lastStep = (async () => { await previous; let blob = new Blob([ Uint8Array.from(atob(encoded), (m) => m.codePointAt(0)) ]); let reader = blob.stream().pipeThrough( new DecompressionStream(\"deflate\") ).pipeThrough( new TextDecoderStream(\"utf-8\") ).getReader(); let parts = []; while (true) { let step = await reader.read(); if (step.done) { break; } parts.push(step.value); } let newElt = document.createElement(\"div\"); newElt.innerHTML = parts.join(\"\"); destElt.parentNode.replaceChild(newElt, destElt); for (let oldScript of newElt.querySelectorAll(\"script\")) { let newScript = document.createElement(\"script\"); newScript.type = oldScript.type; newScript.textContent = oldScript.textContent; oldScript.parentNode.replaceChild(newScript, oldScript); } })(); requestAnimationFrame(() => { observer.observe(destElt); }); } })(); </script><div id=\"compress_html_c8893c38af5c49efb4a310c748109a46\"><script>window.treescope_decompress_enqueue(\"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\", \"compress_html_c8893c38af5c49efb4a310c748109a46\");</script><span style=\"color: #aaaaaa; font-family: monospace\">(Loading...)</span></div></div>"
      ],
      "text/plain": [
       "<IPython.core.display.HTML object>"
      ]
     },
     "metadata": {},
     "output_type": "display_data"
    },
    {
     "data": {
      "text/html": [
       "<div id=\"output_dest_4f9b128b0e054b91b14106ca43ff8855\"><script> (()=>{ const output = document.getElementById(\"output_4f9b128b0e054b91b14106ca43ff8855\"); const dest = document.getElementById(\"output_dest_4f9b128b0e054b91b14106ca43ff8855\"); dest.parentNode.replaceChild(output, dest); })(); </script></div>"
      ],
      "text/plain": [
       "{'a': 1,\n",
       " 'b': 'hello world!',\n",
       " 'c': [{'value': 'hello world!'}, {'value': 'hello world!'}, {'value': 3}]}"
      ]
     },
     "execution_count": 51,
     "metadata": {},
     "output_type": "execute_result"
    }
   ],
   "source": [
    "pz.select(my_nested_object).at_instances_of(jax.Array).set(\"hello world!\")"
   ]
  },
  {
   "cell_type": "markdown",
   "metadata": {
    "id": "HduHi3ifw8qn"
   },
   "source": [
    "You can optionally provide different values for each selected node:"
   ]
  },
  {
   "cell_type": "code",
   "execution_count": 52,
   "metadata": {
    "execution": {
     "iopub.execute_input": "2024-05-28T18:17:00.065594Z",
     "iopub.status.busy": "2024-05-28T18:17:00.065339Z",
     "iopub.status.idle": "2024-05-28T18:17:00.074115Z",
     "shell.execute_reply": "2024-05-28T18:17:00.073347Z"
    },
    "id": "rDlkeqI3w1-C"
   },
   "outputs": [
    {
     "data": {
      "text/html": [
       "<div id=\"output_1e34b26e873f4873b927b35236885592\"><script> /* penzai.treescope rendering of a Python object (compressed) */ (()=>{ let observer; let lastStep = new Promise((resolve, reject) => { observer = new IntersectionObserver((entries) => { for (const entry of entries) { if (entry.isIntersecting) { resolve(); observer.disconnect(); return; } } }, {rootMargin: \"1000px\"}); }); window.treescope_decompress_enqueue = (encoded, destId) => { const previous = lastStep; const destElt = document.getElementById(destId); lastStep = (async () => { await previous; let blob = new Blob([ Uint8Array.from(atob(encoded), (m) => m.codePointAt(0)) ]); let reader = blob.stream().pipeThrough( new DecompressionStream(\"deflate\") ).pipeThrough( new TextDecoderStream(\"utf-8\") ).getReader(); let parts = []; while (true) { let step = await reader.read(); if (step.done) { break; } parts.push(step.value); } let newElt = document.createElement(\"div\"); newElt.innerHTML = parts.join(\"\"); destElt.parentNode.replaceChild(newElt, destElt); for (let oldScript of newElt.querySelectorAll(\"script\")) { let newScript = document.createElement(\"script\"); newScript.type = oldScript.type; newScript.textContent = oldScript.textContent; oldScript.parentNode.replaceChild(newScript, oldScript); } })(); requestAnimationFrame(() => { observer.observe(destElt); }); } })(); </script><div id=\"compress_html_86cfe2520bb341b3873b12217051cca3\"><script>window.treescope_decompress_enqueue(\"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\", \"compress_html_86cfe2520bb341b3873b12217051cca3\");</script><span style=\"color: #aaaaaa; font-family: monospace\">(Loading...)</span></div></div>"
      ],
      "text/plain": [
       "<IPython.core.display.HTML object>"
      ]
     },
     "metadata": {},
     "output_type": "display_data"
    },
    {
     "data": {
      "text/html": [
       "<div id=\"output_dest_1e34b26e873f4873b927b35236885592\"><script> (()=>{ const output = document.getElementById(\"output_1e34b26e873f4873b927b35236885592\"); const dest = document.getElementById(\"output_dest_1e34b26e873f4873b927b35236885592\"); dest.parentNode.replaceChild(output, dest); })(); </script></div>"
      ],
      "text/plain": [
       "{'a': 1,\n",
       " 'b': 'replacement 0',\n",
       " 'c': [{'value': 'replacement 1'}, {'value': 'replacement 2'}, {'value': 3}]}"
      ]
     },
     "execution_count": 52,
     "metadata": {},
     "output_type": "execute_result"
    }
   ],
   "source": [
    "pz.select(my_nested_object).at_instances_of(jax.Array).set_sequence([f\"replacement {i}\" for i in range(3)])"
   ]
  },
  {
   "cell_type": "markdown",
   "metadata": {
    "id": "81cktrxfxGcm"
   },
   "source": [
    "Or provide a mapping based on the selected keypaths:"
   ]
  },
  {
   "cell_type": "code",
   "execution_count": 53,
   "metadata": {
    "execution": {
     "iopub.execute_input": "2024-05-28T18:17:00.077702Z",
     "iopub.status.busy": "2024-05-28T18:17:00.077482Z",
     "iopub.status.idle": "2024-05-28T18:17:00.087167Z",
     "shell.execute_reply": "2024-05-28T18:17:00.086411Z"
    },
    "id": "3u5yEQ1RxCsF"
   },
   "outputs": [
    {
     "data": {
      "text/html": [
       "<div id=\"output_21eecd292a87425e9bb4121bda93919b\"><script> /* penzai.treescope rendering of a Python object (compressed) */ (()=>{ let observer; let lastStep = new Promise((resolve, reject) => { observer = new IntersectionObserver((entries) => { for (const entry of entries) { if (entry.isIntersecting) { resolve(); observer.disconnect(); return; } } }, {rootMargin: \"1000px\"}); }); window.treescope_decompress_enqueue = (encoded, destId) => { const previous = lastStep; const destElt = document.getElementById(destId); lastStep = (async () => { await previous; let blob = new Blob([ Uint8Array.from(atob(encoded), (m) => m.codePointAt(0)) ]); let reader = blob.stream().pipeThrough( new DecompressionStream(\"deflate\") ).pipeThrough( new TextDecoderStream(\"utf-8\") ).getReader(); let parts = []; while (true) { let step = await reader.read(); if (step.done) { break; } parts.push(step.value); } let newElt = document.createElement(\"div\"); newElt.innerHTML = parts.join(\"\"); destElt.parentNode.replaceChild(newElt, destElt); for (let oldScript of newElt.querySelectorAll(\"script\")) { let newScript = document.createElement(\"script\"); newScript.type = oldScript.type; newScript.textContent = oldScript.textContent; oldScript.parentNode.replaceChild(newScript, oldScript); } })(); requestAnimationFrame(() => { observer.observe(destElt); }); } })(); </script><div id=\"compress_html_eb54635b0ef74b34af548e5a94361c52\"><script>window.treescope_decompress_enqueue(\"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\", \"compress_html_eb54635b0ef74b34af548e5a94361c52\");</script><span style=\"color: #aaaaaa; font-family: monospace\">(Loading...)</span></div></div>"
      ],
      "text/plain": [
       "<IPython.core.display.HTML object>"
      ]
     },
     "metadata": {},
     "output_type": "display_data"
    },
    {
     "data": {
      "text/html": [
       "<div id=\"output_dest_21eecd292a87425e9bb4121bda93919b\"><script> (()=>{ const output = document.getElementById(\"output_21eecd292a87425e9bb4121bda93919b\"); const dest = document.getElementById(\"output_dest_21eecd292a87425e9bb4121bda93919b\"); dest.parentNode.replaceChild(output, dest); })(); </script></div>"
      ],
      "text/plain": [
       "{'a': 1, 'b': 'A', 'c': [{'value': 'B'}, {'value': 'C'}, {'value': 3}]}"
      ]
     },
     "execution_count": 53,
     "metadata": {},
     "output_type": "execute_result"
    }
   ],
   "source": [
    "pz.select(my_nested_object).at_instances_of(jax.Array).set_by_path({\n",
    "    (jax.tree_util.DictKey(key='b'),): \"A\",\n",
    "    (jax.tree_util.DictKey(key='c'), jax.tree_util.SequenceKey(idx=0), jax.tree_util.DictKey(key='value')): \"B\",\n",
    "    (jax.tree_util.DictKey(key='c'), jax.tree_util.SequenceKey(idx=1), jax.tree_util.DictKey(key='value')): \"C\",\n",
    "})"
   ]
  },
  {
   "cell_type": "markdown",
   "metadata": {
    "id": "wIWQ8ChOeMQe"
   },
   "source": [
    "`set_by_path` accepts the same input as is produced by `get_by_path`, which can be convenient for modifying some values and then putting them back, or for taking gradients with respect to only a subset of values:"
   ]
  },
  {
   "cell_type": "code",
   "execution_count": 54,
   "metadata": {
    "execution": {
     "iopub.execute_input": "2024-05-28T18:17:00.090419Z",
     "iopub.status.busy": "2024-05-28T18:17:00.090186Z",
     "iopub.status.idle": "2024-05-28T18:17:00.099269Z",
     "shell.execute_reply": "2024-05-28T18:17:00.098484Z"
    },
    "id": "A4FdZZuHeWYO"
   },
   "outputs": [
    {
     "data": {
      "text/html": [
       "<div id=\"output_53ccae90904c48e8a6b4e35d699e8e68\"><script> /* penzai.treescope rendering of a Python object (compressed) */ (()=>{ let observer; let lastStep = new Promise((resolve, reject) => { observer = new IntersectionObserver((entries) => { for (const entry of entries) { if (entry.isIntersecting) { resolve(); observer.disconnect(); return; } } }, {rootMargin: \"1000px\"}); }); window.treescope_decompress_enqueue = (encoded, destId) => { const previous = lastStep; const destElt = document.getElementById(destId); lastStep = (async () => { await previous; let blob = new Blob([ Uint8Array.from(atob(encoded), (m) => m.codePointAt(0)) ]); let reader = blob.stream().pipeThrough( new DecompressionStream(\"deflate\") ).pipeThrough( new TextDecoderStream(\"utf-8\") ).getReader(); let parts = []; while (true) { let step = await reader.read(); if (step.done) { break; } parts.push(step.value); } let newElt = document.createElement(\"div\"); newElt.innerHTML = parts.join(\"\"); destElt.parentNode.replaceChild(newElt, destElt); for (let oldScript of newElt.querySelectorAll(\"script\")) { let newScript = document.createElement(\"script\"); newScript.type = oldScript.type; newScript.textContent = oldScript.textContent; oldScript.parentNode.replaceChild(newScript, oldScript); } })(); requestAnimationFrame(() => { observer.observe(destElt); }); } })(); </script><div id=\"compress_html_c0a8b395ab3b49518b2ded4f71a73b5c\"><script>window.treescope_decompress_enqueue(\"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\", \"compress_html_c0a8b395ab3b49518b2ded4f71a73b5c\");</script><span style=\"color: #aaaaaa; font-family: monospace\">(Loading...)</span></div></div>"
      ],
      "text/plain": [
       "<IPython.core.display.HTML object>"
      ]
     },
     "metadata": {},
     "output_type": "display_data"
    },
    {
     "data": {
      "text/html": [
       "<div id=\"output_dest_53ccae90904c48e8a6b4e35d699e8e68\"><script> (()=>{ const output = document.getElementById(\"output_53ccae90904c48e8a6b4e35d699e8e68\"); const dest = document.getElementById(\"output_dest_53ccae90904c48e8a6b4e35d699e8e68\"); dest.parentNode.replaceChild(output, dest); })(); </script></div>"
      ],
      "text/plain": [
       "{'a': 1,\n",
       " 'b': 'A JAX array: [0 1 2 3 4 5 6 7 8 9]',\n",
       " 'c': [{'value': 'A JAX array: [ 0  1  2  3  4  5  6  7  8  9 10 11]'},\n",
       "  {'value': 'A JAX array: [0. 0. 0. 0. 0. 0. 0.]'},\n",
       "  {'value': 3}]}"
      ]
     },
     "execution_count": 54,
     "metadata": {},
     "output_type": "execute_result"
    }
   ],
   "source": [
    "selection = pz.select(my_nested_object).at_instances_of(jax.Array)\n",
    "selection.set_by_path(\n",
    "    {key: f\"A JAX array: {value}\" for key, value in selection.get_by_path().items()}\n",
    ")"
   ]
  },
  {
   "cell_type": "code",
   "execution_count": 55,
   "metadata": {
    "execution": {
     "iopub.execute_input": "2024-05-28T18:17:00.102441Z",
     "iopub.status.busy": "2024-05-28T18:17:00.102161Z",
     "iopub.status.idle": "2024-05-28T18:17:00.611731Z",
     "shell.execute_reply": "2024-05-28T18:17:00.610625Z"
    },
    "id": "YEpc6lCxel42"
   },
   "outputs": [
    {
     "data": {
      "text/html": [
       "<div id=\"output_44f3accfa1f14a12ad9c9425c2799549\"><script> /* penzai.treescope rendering of a Python object (compressed) */ (()=>{ let observer; let lastStep = new Promise((resolve, reject) => { observer = new IntersectionObserver((entries) => { for (const entry of entries) { if (entry.isIntersecting) { resolve(); observer.disconnect(); return; } } }, {rootMargin: \"1000px\"}); }); window.treescope_decompress_enqueue = (encoded, destId) => { const previous = lastStep; const destElt = document.getElementById(destId); lastStep = (async () => { await previous; let blob = new Blob([ Uint8Array.from(atob(encoded), (m) => m.codePointAt(0)) ]); let reader = blob.stream().pipeThrough( new DecompressionStream(\"deflate\") ).pipeThrough( new TextDecoderStream(\"utf-8\") ).getReader(); let parts = []; while (true) { let step = await reader.read(); if (step.done) { break; } parts.push(step.value); } let newElt = document.createElement(\"div\"); newElt.innerHTML = parts.join(\"\"); destElt.parentNode.replaceChild(newElt, destElt); for (let oldScript of newElt.querySelectorAll(\"script\")) { let newScript = document.createElement(\"script\"); newScript.type = oldScript.type; newScript.textContent = oldScript.textContent; oldScript.parentNode.replaceChild(newScript, oldScript); } })(); requestAnimationFrame(() => { observer.observe(destElt); }); } })(); </script><div id=\"compress_html_a268787e740c4dbca88ff9afeb94aa16\"><script>window.treescope_decompress_enqueue(\"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\", \"compress_html_a268787e740c4dbca88ff9afeb94aa16\");</script><span style=\"color: #aaaaaa; font-family: monospace\">(Loading...)</span></div></div>"
      ],
      "text/plain": [
       "<IPython.core.display.HTML object>"
      ]
     },
     "metadata": {},
     "output_type": "display_data"
    },
    {
     "data": {
      "text/html": [
       "<div id=\"compress_html_f1515b479d654b64bb61bf2116cbe01c\"><script>window.treescope_decompress_enqueue(\"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\", \"compress_html_f1515b479d654b64bb61bf2116cbe01c\");</script></div>"
      ],
      "text/plain": [
       "<IPython.core.display.HTML object>"
      ]
     },
     "metadata": {},
     "output_type": "display_data"
    },
    {
     "data": {
      "text/html": [
       "<div id=\"output_dest_44f3accfa1f14a12ad9c9425c2799549\"><script> (()=>{ const output = document.getElementById(\"output_44f3accfa1f14a12ad9c9425c2799549\"); const dest = document.getElementById(\"output_dest_44f3accfa1f14a12ad9c9425c2799549\"); dest.parentNode.replaceChild(output, dest); })(); </script></div>"
      ],
      "text/plain": [
       "OrderedDict([((DictKey(key='b'),),\n",
       "              <jax.Array([ 0.,  2.,  4.,  6.,  8., 10., 12., 14., 16., 18.], dtype=float32)>),\n",
       "             ((DictKey(key='c'), SequenceKey(idx=0), DictKey(key='value')),\n",
       "              <jax.Array([1., 1., 1., 1., 1., 1., 1., 1., 1., 1., 1., 1.], dtype=float32)>),\n",
       "             ((DictKey(key='c'), SequenceKey(idx=1), DictKey(key='value')),\n",
       "              <jax.Array([0., 0., 0., 0., 0., 0., 0.], dtype=float32)>)])"
      ]
     },
     "execution_count": 55,
     "metadata": {},
     "output_type": "execute_result"
    }
   ],
   "source": [
    "def my_loss(obj):\n",
    "  return obj[\"a\"] + jnp.sum(obj[\"b\"]**2) + jnp.sum(obj[\"c\"][0][\"value\"])\n",
    "\n",
    "my_float_object = jax.tree_util.tree_map(lambda leaf: jnp.array(leaf, dtype=jnp.float32), my_nested_object)\n",
    "\n",
    "# Take gradients w.r.t. non-scalars only, ignoring my_float_object[\"a\"] and my_float_object[\"c\"][2][\"value\"]\n",
    "gradient_selection = pz.select(my_float_object).at_instances_of(jax.Array).where(lambda arr: arr.size > 1)\n",
    "\n",
    "jax.grad(\n",
    "    # Swap in the version of the values that JAX is taking gradients for:\n",
    "    lambda vectors_by_path: my_loss(gradient_selection.set_by_path(vectors_by_path))\n",
    ")(gradient_selection.get_by_path())"
   ]
  },
  {
   "cell_type": "markdown",
   "metadata": {
    "id": "bkZAwu42ftwC"
   },
   "source": [
    "You can also use `select_and_set_by_path` to infer the selection from the input paths instead:"
   ]
  },
  {
   "cell_type": "code",
   "execution_count": 56,
   "metadata": {
    "execution": {
     "iopub.execute_input": "2024-05-28T18:17:00.615748Z",
     "iopub.status.busy": "2024-05-28T18:17:00.615486Z",
     "iopub.status.idle": "2024-05-28T18:17:00.748416Z",
     "shell.execute_reply": "2024-05-28T18:17:00.747489Z"
    },
    "id": "73vXA1ZvfxFK"
   },
   "outputs": [
    {
     "data": {
      "text/html": [
       "<div id=\"output_27f872ec60e142e4ad2200a382ffbda6\"><script> /* penzai.treescope rendering of a Python object (compressed) */ (()=>{ let observer; let lastStep = new Promise((resolve, reject) => { observer = new IntersectionObserver((entries) => { for (const entry of entries) { if (entry.isIntersecting) { resolve(); observer.disconnect(); return; } } }, {rootMargin: \"1000px\"}); }); window.treescope_decompress_enqueue = (encoded, destId) => { const previous = lastStep; const destElt = document.getElementById(destId); lastStep = (async () => { await previous; let blob = new Blob([ Uint8Array.from(atob(encoded), (m) => m.codePointAt(0)) ]); let reader = blob.stream().pipeThrough( new DecompressionStream(\"deflate\") ).pipeThrough( new TextDecoderStream(\"utf-8\") ).getReader(); let parts = []; while (true) { let step = await reader.read(); if (step.done) { break; } parts.push(step.value); } let newElt = document.createElement(\"div\"); newElt.innerHTML = parts.join(\"\"); destElt.parentNode.replaceChild(newElt, destElt); for (let oldScript of newElt.querySelectorAll(\"script\")) { let newScript = document.createElement(\"script\"); newScript.type = oldScript.type; newScript.textContent = oldScript.textContent; oldScript.parentNode.replaceChild(newScript, oldScript); } })(); requestAnimationFrame(() => { observer.observe(destElt); }); } })(); </script><div id=\"compress_html_3b8772c6ffb94a16afac2ccb91c49433\"><script>window.treescope_decompress_enqueue(\"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\", \"compress_html_3b8772c6ffb94a16afac2ccb91c49433\");</script><span style=\"color: #aaaaaa; font-family: monospace\">(Loading...)</span></div></div>"
      ],
      "text/plain": [
       "<IPython.core.display.HTML object>"
      ]
     },
     "metadata": {},
     "output_type": "display_data"
    },
    {
     "data": {
      "text/html": [
       "<div id=\"compress_html_0af0111d1b7b4ce48f38a848b08794ed\"><script>window.treescope_decompress_enqueue(\"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\", \"compress_html_0af0111d1b7b4ce48f38a848b08794ed\");</script></div>"
      ],
      "text/plain": [
       "<IPython.core.display.HTML object>"
      ]
     },
     "metadata": {},
     "output_type": "display_data"
    },
    {
     "data": {
      "text/html": [
       "<div id=\"output_dest_27f872ec60e142e4ad2200a382ffbda6\"><script> (()=>{ const output = document.getElementById(\"output_27f872ec60e142e4ad2200a382ffbda6\"); const dest = document.getElementById(\"output_dest_27f872ec60e142e4ad2200a382ffbda6\"); dest.parentNode.replaceChild(output, dest); })(); </script></div>"
      ],
      "text/plain": [
       "OrderedDict([((DictKey(key='b'),),\n",
       "              <jax.Array([ 0.,  2.,  4.,  6.,  8., 10., 12., 14., 16., 18.], dtype=float32)>),\n",
       "             ((DictKey(key='c'), SequenceKey(idx=0), DictKey(key='value')),\n",
       "              <jax.Array([1., 1., 1., 1., 1., 1., 1., 1., 1., 1., 1., 1.], dtype=float32)>),\n",
       "             ((DictKey(key='c'), SequenceKey(idx=1), DictKey(key='value')),\n",
       "              <jax.Array([0., 0., 0., 0., 0., 0., 0.], dtype=float32)>)])"
      ]
     },
     "execution_count": 56,
     "metadata": {},
     "output_type": "execute_result"
    }
   ],
   "source": [
    "def my_loss(obj):\n",
    "  return obj[\"a\"] + jnp.sum(obj[\"b\"]**2) + jnp.sum(obj[\"c\"][0][\"value\"])\n",
    "\n",
    "my_float_object = jax.tree_util.tree_map(lambda leaf: jnp.array(leaf, dtype=jnp.float32), my_nested_object)\n",
    "\n",
    "# Take gradients w.r.t. non-scalars only, ignoring my_float_object[\"a\"] and my_float_object[\"c\"][2][\"value\"]\n",
    "# No need to store the gradient selection itself, since it can be inferred from vectors_by_path.\n",
    "vectors_by_path = pz.select(my_float_object).at_instances_of(jax.Array).where(lambda arr: arr.size > 1).get_by_path()\n",
    "\n",
    "jax.grad(\n",
    "    lambda vectors_by_path: my_loss(pz.select(my_float_object).select_and_set_by_path(vectors_by_path))\n",
    ")(vectors_by_path)"
   ]
  },
  {
   "cell_type": "markdown",
   "metadata": {
    "id": "p91fKstrxqoe"
   },
   "source": [
    "### Applying functions to selected values\n",
    "\n",
    "You can use `.apply` to apply a function to every selected object, similar to `jax.tree_util.tree_map` except that it applies to the selected subtrees rather than to the leaves:"
   ]
  },
  {
   "cell_type": "code",
   "execution_count": 57,
   "metadata": {
    "execution": {
     "iopub.execute_input": "2024-05-28T18:17:00.752247Z",
     "iopub.status.busy": "2024-05-28T18:17:00.751971Z",
     "iopub.status.idle": "2024-05-28T18:17:00.853363Z",
     "shell.execute_reply": "2024-05-28T18:17:00.852388Z"
    },
    "id": "PrRQyM58xbOE"
   },
   "outputs": [
    {
     "data": {
      "text/html": [
       "<div id=\"output_79c18593027348dab6772152816c36d5\"><script> /* penzai.treescope rendering of a Python object (compressed) */ (()=>{ let observer; let lastStep = new Promise((resolve, reject) => { observer = new IntersectionObserver((entries) => { for (const entry of entries) { if (entry.isIntersecting) { resolve(); observer.disconnect(); return; } } }, {rootMargin: \"1000px\"}); }); window.treescope_decompress_enqueue = (encoded, destId) => { const previous = lastStep; const destElt = document.getElementById(destId); lastStep = (async () => { await previous; let blob = new Blob([ Uint8Array.from(atob(encoded), (m) => m.codePointAt(0)) ]); let reader = blob.stream().pipeThrough( new DecompressionStream(\"deflate\") ).pipeThrough( new TextDecoderStream(\"utf-8\") ).getReader(); let parts = []; while (true) { let step = await reader.read(); if (step.done) { break; } parts.push(step.value); } let newElt = document.createElement(\"div\"); newElt.innerHTML = parts.join(\"\"); destElt.parentNode.replaceChild(newElt, destElt); for (let oldScript of newElt.querySelectorAll(\"script\")) { let newScript = document.createElement(\"script\"); newScript.type = oldScript.type; newScript.textContent = oldScript.textContent; oldScript.parentNode.replaceChild(newScript, oldScript); } })(); requestAnimationFrame(() => { observer.observe(destElt); }); } })(); </script><div id=\"compress_html_a99cf86184f24de3b8a18a2e0f85f068\"><script>window.treescope_decompress_enqueue(\"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\", \"compress_html_a99cf86184f24de3b8a18a2e0f85f068\");</script><span style=\"color: #aaaaaa; font-family: monospace\">(Loading...)</span></div></div>"
      ],
      "text/plain": [
       "<IPython.core.display.HTML object>"
      ]
     },
     "metadata": {},
     "output_type": "display_data"
    },
    {
     "data": {
      "text/html": [
       "<div id=\"compress_html_a6bb4812cc13443a8bb1b2a5d1e8700d\"><script>window.treescope_decompress_enqueue(\"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\", \"compress_html_a6bb4812cc13443a8bb1b2a5d1e8700d\");</script></div>"
      ],
      "text/plain": [
       "<IPython.core.display.HTML object>"
      ]
     },
     "metadata": {},
     "output_type": "display_data"
    },
    {
     "data": {
      "text/html": [
       "<div id=\"output_dest_79c18593027348dab6772152816c36d5\"><script> (()=>{ const output = document.getElementById(\"output_79c18593027348dab6772152816c36d5\"); const dest = document.getElementById(\"output_dest_79c18593027348dab6772152816c36d5\"); dest.parentNode.replaceChild(output, dest); })(); </script></div>"
      ],
      "text/plain": [
       "{'a': 1,\n",
       " 'b': <jax.Array([100, 101, 104, 109, 116, 125, 136, 149, 164, 181], dtype=int32)>,\n",
       " 'c': [{'value': <jax.Array([100, 101, 104, 109, 116, 125, 136, 149, 164, 181, 200, 221], dtype=int32)>},\n",
       "  {'value': <jax.Array([100., 100., 100., 100., 100., 100., 100.], dtype=float32)>},\n",
       "  {'value': 3}]}"
      ]
     },
     "execution_count": 57,
     "metadata": {},
     "output_type": "execute_result"
    }
   ],
   "source": [
    "pz.select(my_nested_object).at_instances_of(jax.Array).apply(lambda x: x**2 + 100)"
   ]
  },
  {
   "cell_type": "markdown",
   "metadata": {
    "id": "CNBv2zCFysUP"
   },
   "source": [
    "You can also do `apply(fn, with_keypath=True)` to get access to the key paths as well:"
   ]
  },
  {
   "cell_type": "code",
   "execution_count": 58,
   "metadata": {
    "execution": {
     "iopub.execute_input": "2024-05-28T18:17:00.857685Z",
     "iopub.status.busy": "2024-05-28T18:17:00.857437Z",
     "iopub.status.idle": "2024-05-28T18:17:00.867142Z",
     "shell.execute_reply": "2024-05-28T18:17:00.866305Z"
    },
    "id": "8sT0FJ2yypAd"
   },
   "outputs": [
    {
     "data": {
      "text/html": [
       "<div id=\"output_85ae41f5d45c477582aa4acc0352eeb9\"><script> /* penzai.treescope rendering of a Python object (compressed) */ (()=>{ let observer; let lastStep = new Promise((resolve, reject) => { observer = new IntersectionObserver((entries) => { for (const entry of entries) { if (entry.isIntersecting) { resolve(); observer.disconnect(); return; } } }, {rootMargin: \"1000px\"}); }); window.treescope_decompress_enqueue = (encoded, destId) => { const previous = lastStep; const destElt = document.getElementById(destId); lastStep = (async () => { await previous; let blob = new Blob([ Uint8Array.from(atob(encoded), (m) => m.codePointAt(0)) ]); let reader = blob.stream().pipeThrough( new DecompressionStream(\"deflate\") ).pipeThrough( new TextDecoderStream(\"utf-8\") ).getReader(); let parts = []; while (true) { let step = await reader.read(); if (step.done) { break; } parts.push(step.value); } let newElt = document.createElement(\"div\"); newElt.innerHTML = parts.join(\"\"); destElt.parentNode.replaceChild(newElt, destElt); for (let oldScript of newElt.querySelectorAll(\"script\")) { let newScript = document.createElement(\"script\"); newScript.type = oldScript.type; newScript.textContent = oldScript.textContent; oldScript.parentNode.replaceChild(newScript, oldScript); } })(); requestAnimationFrame(() => { observer.observe(destElt); }); } })(); </script><div id=\"compress_html_e9a1beb10a2740cabe729e65de91c8ed\"><script>window.treescope_decompress_enqueue(\"eNrtWotT2koX/1e26UyFqyBBQUVxvoC8rI8qtlp7O8wm2SRbwm5MNiDe8X//zm5AntrW2tt25mpHzOa89jx+5+zavUgMfbKfFSEhkcUD0gk5F+gfFPCICspZCYXEx4L2yS5yOBMZB/eoPyyhHmc8CrAF6wOPCpJRDyUUhLDi00hklOiMGAawyjiDZRNbXTfkMbMzFvd5WEpYd9HoyfSBAORRW3gl5FABZEwQJnZRD4cuZRmfOKKE8pYndTCS8Qh1PVjRs4VddL+3nmxnL7JCGoh9RB2UGlBm88Fkh6hcLiMwgTggwE7DXhcp0D/3uwvL2U5AmE2Za1jSMxGQffr8VbImZrYvRbLY95dQu0R05rxfRqmx0zuCp1F5H4xc/wsdcd6FIIRIeAQpSsZtkkV/rSOfCDTinWJVoQHlqeTdqzKyuRX3wKFZk9tD9OYNeiXfZC0fR9ERBC0rHY4pi1LarFFaGklXjXVIpgCHIKnmk56K0D1oFnHI1Et4XLLXMGZtzpnc4ICH3dHOQGUkwLJLWJKvZpYFteRiQELYeA8zi2QZH6TSD1tbeIMyCdMe2shLk5flwHwosz5hrvAgNVBuWUY8HdNk39IDxI/IxHQvZtL2ryqPPOoIuSXFIX+5h+9vtSE1pgzJTUwiYTDaw5KiHuIeSSV+TaeXR2TelCCOvCQ2u9/iuLER5cQV3+O6bzd7qeGEAVdMDohDwpDYF6QXQNqTaDGBAl8uPiQ+sIXDNvGJJXho+D4k+oh3GgRj1okgU7X0riq4lKwvkIS4owTKjcLnVN2EpMf7ZKZqpmQ8Vgmpsa1SvhPyOyKLQ0lOgG/W3JSWAJsUKTngaXprVkhgG6OCnKaF37ISh4E4UaKeRuvkVlQTZVOvJ4u7ypyk1k8k3IQEvGWRKpSfnQIJa5JAxunRWAnuun4CIx2F/gIMUygHK8QXa4j0QfrIFTLt1HO2S4ayIrVQG0MPEE/5PJGb0h5kdnpgoDa24x5BP0gawZ5N+0gxludxDQlsgsHktqzlNMQZKAXr2RTdcvtTwqPR2HINWk7SSFUn67C4Z5JQ5aBqbK9zO9t6oQg2jQgiEMHcKQK8oRd02cOyDvdtbII+Ce6PdOJ7NEvWSUwEaptGEJ7huOPOE6J95GOT+KWSSSCxyZQFlvraXaovabsZXfbdUXfO7U50Uaaaselz2b4f1elBhYSLmm0cdiOCXfA3W+QuMS5Sc0sejlL7Sub+Uj8onpLlEasLHT6N/kpPbJCsy5nG9DMWqhoooZW/8wXTWvmV5s0yPWpk8V8wUsZRKo7DSAYw4BQsCJfopdHLqVWloBRlVNFFj+X4y2idbE+C4aKWLI06Dg0j0eGsI9N/SWk9VUrZfEFW09JQoR82P4n4vIlyVzODtCro+6zEP3Cs3bEkqL9Qtkxh0QgYZlRb2LdSMMjDuKYHtwqz5+yAjvPTTDF5aEMiJabYXIBSaQZ6TXLyWzol8qDn2Z0BDhlAdWecg2O4dBxs6RtLCAPobRB6bMuhJxOOzifS0aP9j5YyuazKgMmhqKTONDjMuCG2qezh+kbBJu4a4iFmLkE5lMsWLQ86LjxHSU9OllDiwEVTFnLgxVw6E83xZu6zA4+wDjjJx0EETv1qR/pu5U9oSPqQ0qGIyG0A4+ajNC9hxzIVo43+b3RetiQUzJydV45hTgsp9lF72DM5DKinsZBm2Wg8ilV5MFwZHbnVaCHFwjHHH60NRgffzRwkaxRaJRSHfsrGApfk+/UBd5z8rokjUtxcs3M7jWPXqBjqq3VmGFz9VjkfwM9m3TBqxlNflZ5huF3+1m7VKtXBR8O4+Fg9NI5blapRd29bzSNPRJVjStyN+sFV/qhV/NhvBzF9d1y40A+vWucfjvuXx3fi3bBer65eut0LWjnIefTgLD6s2Y0vuaa57vRbdnDztujdXFJ6Fh+zhtd03gvjfbFyEm4a9Rbr1orW+zhmq+eFGyvqDvpO3V+/uXVrfNs1DweNbb1prDPjvHAUhof6+ap7lzu3c8aho7snW9VB40vezfFhfL611avpxUHzaufUdQNy0R1ukpZ5V7DM8LQhsOGetU4GBzgaRmdxq3V1WasPjHdnQeuj/X59fdXduti62hA55+27G6NfAJlHxsmWcTwweu7deXs1vm6T2tVt3iladyeb581hIa4Yb+8qX4J6sEGbZ9Va7jp+t9neYk7lqNasH/cMurrdr+U9pntbq+aHwdWXQTPsHzTeV9kXp1Zzxeqpde37W4Wd6uGgsu3tbB4fN9objWvD7bUKXypnO+KiQZo7tUql1dg4cDfP1z9aQ9NoQEw/vF03zhrYIMdV32je1U7da+EWK+/c09PWQaVLzwqkXrmqVuoWzQVeyAMGuRFc1w70O73bdqqO8IZvWdPG9ajp5E56jdpJsWIbNx8+BFhE7euebWO6k3fudjbf0y83xaAXFk/5x2qbho1e/7Cx0b5sb9Rreaty5lysNn0eNDbr0aCA3ZviNr0m7RM/uGSVZovYxyGJL28a1Z5+WQ+77fZtIV+8vIwGBliURuqIL1IrKq1X0i9RvjDaD81YCM6WgtTk9bJRS0PaHBW0f0Dk5cR/E33T1nafCwJQ7GaXAqcCgx4cQzxA9xLCTAA7hRq3H67QHhrYwnCWcNM7QJJcdof05neZTHVLdrF8SJ9wZgc46lg+lY594MeOmDkAjU8XT+mc45lVOe161MdhKpORaJfBDAKrLg7S08tSibxRkY1yNIMpsUiPEAGPZaB18Vh831YeLIDAUGK/mrVEqUSvaC/gocBsQbYZ8q7qXMFwMkJ/3btTbFP+fJhT5u88F07fnrpxUfzJ1uDkDejGLJRKNMxew8FOLrhMPCAbWSDXIiKUUdKl0g48wFQghvvUxYKHcCqngclxaGcHIRXkAmbm1EQWRGIka3J6hwEppU35W11UEHFBewQC83AzssA3vmmZY71fQ/lcLqegwcICRqKUmneX651yqjYxbvYuJAXhfY3qmPqQDIIjSfxK1STMPizGvj+EaSISBNsyJ1anfTe6g5hcQMhUGt9AzJ6O5wc0bX8vgbE9yoJYIHlVU9YUcJn8VlsqZIRx8DLBt/29dcU8q9cDSSGo6HYEzG5EaMriTJcMAc29sqbt/wMGAwOwj0yYZl+YzrWn3mtf0T37evpWRNt/8/o2v7WLk48Hk9RHCX3Xlj6t4JXPS3UlVzTavj4rf22GdHbU1PbRmHiBaDwHzupamdTxCuKsKtO1vPJEbapbpfQKegCUspbycc+0sbr/KqmfalNpDanCL2tT8FNCb25iLnYf40neQkeZx05oRypvpdfg99Eu9md9M/fxM2NvvkjszUdi/6BLuQMYyqkDaom3ZJiSDzMmpNfSa4DyfkzKn3JIR3m0gTZRARXRFtpGO58TGX9iEpnPSCLzT0oi6xuSaAZGfx30flqxZK5+egJ/f1YaWM9IA+vH0+DFOsvv2k2Vlz7lPj/dVX9iVEH3cwIr2X6X2D6j6BVUv0j3SHzxaUVJ/JFOYo07CWrLv3Uyi8j31L4t52BtkX5qC+lJ80E5BO0H+g80IOhA0IKgB0ETgi6EdpAOvUlf2oyeajNrv0krmnP1M9N2wv+iLSr5uP+jevsvLf9ndvjfG8j1Xwjk+vMiqf8H5FPh+6lArn8HkOeyaOHfH43c+g8it/4fcv8m9f7bIfePIHb+FyJ2/nkRzP+H2FPhexqxxxd4G38maOZ/EDTz/w5o/jnu/EUFt+zj85/lvF9x/fPcnHvgsGn/8b95Pfa/g1Pph7/I/B+PMBti\", \"compress_html_e9a1beb10a2740cabe729e65de91c8ed\");</script><span style=\"color: #aaaaaa; font-family: monospace\">(Loading...)</span></div></div>"
      ],
      "text/plain": [
       "<IPython.core.display.HTML object>"
      ]
     },
     "metadata": {},
     "output_type": "display_data"
    },
    {
     "data": {
      "text/html": [
       "<div id=\"output_dest_85ae41f5d45c477582aa4acc0352eeb9\"><script> (()=>{ const output = document.getElementById(\"output_85ae41f5d45c477582aa4acc0352eeb9\"); const dest = document.getElementById(\"output_dest_85ae41f5d45c477582aa4acc0352eeb9\"); dest.parentNode.replaceChild(output, dest); })(); </script></div>"
      ],
      "text/plain": [
       "{'a': 1,\n",
       " 'b': \"key=(DictKey(key='b'),), value=[0 1 2 3 4 5 6 7 8 9]\",\n",
       " 'c': [{'value': \"key=(DictKey(key='c'), SequenceKey(idx=0), DictKey(key='value')), value=[ 0  1  2  3  4  5  6  7  8  9 10 11]\"},\n",
       "  {'value': \"key=(DictKey(key='c'), SequenceKey(idx=1), DictKey(key='value')), value=[0. 0. 0. 0. 0. 0. 0.]\"},\n",
       "  {'value': 3}]}"
      ]
     },
     "execution_count": 58,
     "metadata": {},
     "output_type": "execute_result"
    }
   ],
   "source": [
    "(\n",
    "    pz.select(my_nested_object)\n",
    "    .at_instances_of(jax.Array)\n",
    "    .apply(lambda key, value: f\"key={key}, value={value}\", with_keypath=True)\n",
    ")"
   ]
  },
  {
   "cell_type": "markdown",
   "metadata": {
    "id": "-RZGXU2ey_B7"
   },
   "source": [
    "By default, applying a function also removes the selection. If you want to do further processing, you can pass `keep_selected=True` to replace the values but keep them selected:"
   ]
  },
  {
   "cell_type": "code",
   "execution_count": 59,
   "metadata": {
    "execution": {
     "iopub.execute_input": "2024-05-28T18:17:00.870391Z",
     "iopub.status.busy": "2024-05-28T18:17:00.870152Z",
     "iopub.status.idle": "2024-05-28T18:17:00.887858Z",
     "shell.execute_reply": "2024-05-28T18:17:00.887050Z"
    },
    "id": "CtTI_jwXy9il"
   },
   "outputs": [
    {
     "data": {
      "text/html": [
       "<div id=\"output_8d362cfc1e6c44b98ae2421305b10a31\"><script> /* penzai.treescope rendering of a Python object (compressed) */ (()=>{ let observer; let lastStep = new Promise((resolve, reject) => { observer = new IntersectionObserver((entries) => { for (const entry of entries) { if (entry.isIntersecting) { resolve(); observer.disconnect(); return; } } }, {rootMargin: \"1000px\"}); }); window.treescope_decompress_enqueue = (encoded, destId) => { const previous = lastStep; const destElt = document.getElementById(destId); lastStep = (async () => { await previous; let blob = new Blob([ Uint8Array.from(atob(encoded), (m) => m.codePointAt(0)) ]); let reader = blob.stream().pipeThrough( new DecompressionStream(\"deflate\") ).pipeThrough( new TextDecoderStream(\"utf-8\") ).getReader(); let parts = []; while (true) { let step = await reader.read(); if (step.done) { break; } parts.push(step.value); } let newElt = document.createElement(\"div\"); newElt.innerHTML = parts.join(\"\"); destElt.parentNode.replaceChild(newElt, destElt); for (let oldScript of newElt.querySelectorAll(\"script\")) { let newScript = document.createElement(\"script\"); newScript.type = oldScript.type; newScript.textContent = oldScript.textContent; oldScript.parentNode.replaceChild(newScript, oldScript); } })(); requestAnimationFrame(() => { observer.observe(destElt); }); } })(); </script><div id=\"compress_html_7a887713bceb4a099838b81ebd136da0\"><script>window.treescope_decompress_enqueue(\"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\", \"compress_html_7a887713bceb4a099838b81ebd136da0\");</script><span style=\"color: #aaaaaa; font-family: monospace\">(Loading...)</span></div></div>"
      ],
      "text/plain": [
       "<IPython.core.display.HTML object>"
      ]
     },
     "metadata": {},
     "output_type": "display_data"
    },
    {
     "data": {
      "text/html": [
       "<div id=\"output_dest_8d362cfc1e6c44b98ae2421305b10a31\"><script> (()=>{ const output = document.getElementById(\"output_8d362cfc1e6c44b98ae2421305b10a31\"); const dest = document.getElementById(\"output_dest_8d362cfc1e6c44b98ae2421305b10a31\"); dest.parentNode.replaceChild(output, dest); })(); </script></div>"
      ],
      "text/plain": [
       "Selection(\n",
       "  selected_by_path=OrderedDict({\n",
       "    (DictKey(key='b'),):\n",
       "      \"key=(DictKey(key='b'),), value=[0 1 2 3 4 5 6 7 8 9]\",\n",
       "    (DictKey(key='c'), SequenceKey(idx=0), DictKey(key='value')):\n",
       "      \"key=(DictKey(key='c'), SequenceKey(idx=0), DictKey(key='value')), value=[ 0  1  2  3  4  5  6  7  8  9 10 11]\",\n",
       "    (DictKey(key='c'), SequenceKey(idx=1), DictKey(key='value')):\n",
       "      \"key=(DictKey(key='c'), SequenceKey(idx=1), DictKey(key='value')), value=[0. 0. 0. 0. 0. 0. 0.]\",\n",
       "  }),\n",
       "  remainder={'a': 1, 'b': SelectionHole(path=(DictKey(key='b'),)), 'c': [{'value': SelectionHole(path=(DictKey(key='c'), SequenceKey(idx=0), DictKey(key='value')))}, {'value': SelectionHole(path=(DictKey(key='c'), SequenceKey(idx=1), DictKey(key='value')))}, {'value': 3}]},\n",
       ")"
      ]
     },
     "execution_count": 59,
     "metadata": {},
     "output_type": "execute_result"
    }
   ],
   "source": [
    "(\n",
    "    pz.select(my_nested_object)\n",
    "    .at_instances_of(jax.Array)\n",
    "    .apply(lambda key, value: f\"key={key}, value={value}\", with_keypath=True, keep_selected=True)\n",
    ")"
   ]
  },
  {
   "cell_type": "markdown",
   "metadata": {
    "id": "YJujHVUOzmtm"
   },
   "source": [
    "Sometimes, it's also useful to pass the index of the selected node relative to the *selection* (e.g. \"this is the third selected node\") instead of the absolute keypath. For this, theres `.apply_with_selected_index`:"
   ]
  },
  {
   "cell_type": "code",
   "execution_count": 60,
   "metadata": {
    "execution": {
     "iopub.execute_input": "2024-05-28T18:17:00.891178Z",
     "iopub.status.busy": "2024-05-28T18:17:00.890957Z",
     "iopub.status.idle": "2024-05-28T18:17:00.908269Z",
     "shell.execute_reply": "2024-05-28T18:17:00.907512Z"
    },
    "id": "xLrWVjiazLVS"
   },
   "outputs": [
    {
     "data": {
      "text/html": [
       "<div id=\"output_f72bce766fbf4bb69daf6e9eaa6b2ce7\"><script> /* penzai.treescope rendering of a Python object (compressed) */ (()=>{ let observer; let lastStep = new Promise((resolve, reject) => { observer = new IntersectionObserver((entries) => { for (const entry of entries) { if (entry.isIntersecting) { resolve(); observer.disconnect(); return; } } }, {rootMargin: \"1000px\"}); }); window.treescope_decompress_enqueue = (encoded, destId) => { const previous = lastStep; const destElt = document.getElementById(destId); lastStep = (async () => { await previous; let blob = new Blob([ Uint8Array.from(atob(encoded), (m) => m.codePointAt(0)) ]); let reader = blob.stream().pipeThrough( new DecompressionStream(\"deflate\") ).pipeThrough( new TextDecoderStream(\"utf-8\") ).getReader(); let parts = []; while (true) { let step = await reader.read(); if (step.done) { break; } parts.push(step.value); } let newElt = document.createElement(\"div\"); newElt.innerHTML = parts.join(\"\"); destElt.parentNode.replaceChild(newElt, destElt); for (let oldScript of newElt.querySelectorAll(\"script\")) { let newScript = document.createElement(\"script\"); newScript.type = oldScript.type; newScript.textContent = oldScript.textContent; oldScript.parentNode.replaceChild(newScript, oldScript); } })(); requestAnimationFrame(() => { observer.observe(destElt); }); } })(); </script><div id=\"compress_html_a644acd399e240ba8b990b41828a495a\"><script>window.treescope_decompress_enqueue(\"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\", \"compress_html_a644acd399e240ba8b990b41828a495a\");</script><span style=\"color: #aaaaaa; font-family: monospace\">(Loading...)</span></div></div>"
      ],
      "text/plain": [
       "<IPython.core.display.HTML object>"
      ]
     },
     "metadata": {},
     "output_type": "display_data"
    },
    {
     "data": {
      "text/html": [
       "<div id=\"output_dest_f72bce766fbf4bb69daf6e9eaa6b2ce7\"><script> (()=>{ const output = document.getElementById(\"output_f72bce766fbf4bb69daf6e9eaa6b2ce7\"); const dest = document.getElementById(\"output_dest_f72bce766fbf4bb69daf6e9eaa6b2ce7\"); dest.parentNode.replaceChild(output, dest); })(); </script></div>"
      ],
      "text/plain": [
       "Selection(\n",
       "  selected_by_path=OrderedDict({\n",
       "    (DictKey(key='b'),):\n",
       "      'index=0, value=[0 1 2 3 4 5 6 7 8 9]',\n",
       "    (DictKey(key='c'), SequenceKey(idx=0), DictKey(key='value')):\n",
       "      'index=1, value=[ 0  1  2  3  4  5  6  7  8  9 10 11]',\n",
       "    (DictKey(key='c'), SequenceKey(idx=1), DictKey(key='value')):\n",
       "      'index=2, value=[0. 0. 0. 0. 0. 0. 0.]',\n",
       "  }),\n",
       "  remainder={'a': 1, 'b': SelectionHole(path=(DictKey(key='b'),)), 'c': [{'value': SelectionHole(path=(DictKey(key='c'), SequenceKey(idx=0), DictKey(key='value')))}, {'value': SelectionHole(path=(DictKey(key='c'), SequenceKey(idx=1), DictKey(key='value')))}, {'value': 3}]},\n",
       ")"
      ]
     },
     "execution_count": 60,
     "metadata": {},
     "output_type": "execute_result"
    }
   ],
   "source": [
    "(\n",
    "    pz.select(my_nested_object)\n",
    "    .at_instances_of(jax.Array)\n",
    "    .apply_with_selected_index(lambda index, value: f\"index={index}, value={value}\", keep_selected=True)\n",
    ")"
   ]
  },
  {
   "cell_type": "markdown",
   "metadata": {
    "id": "zpbos5v2z9BI"
   },
   "source": [
    "### Manipulating selected elements of lists and tuples"
   ]
  },
  {
   "cell_type": "markdown",
   "metadata": {
    "id": "iqvDVZkn0GSq"
   },
   "source": [
    "When the selected nodes are elements of a list or tuple, there are a few other options for selector manipulation. For instance, you can insert values before or after the selected nodes:"
   ]
  },
  {
   "cell_type": "code",
   "execution_count": 61,
   "metadata": {
    "execution": {
     "iopub.execute_input": "2024-05-28T18:17:00.911761Z",
     "iopub.status.busy": "2024-05-28T18:17:00.911526Z",
     "iopub.status.idle": "2024-05-28T18:17:00.922236Z",
     "shell.execute_reply": "2024-05-28T18:17:00.921416Z"
    },
    "id": "Ptualckcz45d"
   },
   "outputs": [
    {
     "data": {
      "text/html": [
       "<div id=\"output_58a204a96a404e1abbbc6ecfe124fc91\"><script> /* penzai.treescope rendering of a Python object (compressed) */ (()=>{ let observer; let lastStep = new Promise((resolve, reject) => { observer = new IntersectionObserver((entries) => { for (const entry of entries) { if (entry.isIntersecting) { resolve(); observer.disconnect(); return; } } }, {rootMargin: \"1000px\"}); }); window.treescope_decompress_enqueue = (encoded, destId) => { const previous = lastStep; const destElt = document.getElementById(destId); lastStep = (async () => { await previous; let blob = new Blob([ Uint8Array.from(atob(encoded), (m) => m.codePointAt(0)) ]); let reader = blob.stream().pipeThrough( new DecompressionStream(\"deflate\") ).pipeThrough( new TextDecoderStream(\"utf-8\") ).getReader(); let parts = []; while (true) { let step = await reader.read(); if (step.done) { break; } parts.push(step.value); } let newElt = document.createElement(\"div\"); newElt.innerHTML = parts.join(\"\"); destElt.parentNode.replaceChild(newElt, destElt); for (let oldScript of newElt.querySelectorAll(\"script\")) { let newScript = document.createElement(\"script\"); newScript.type = oldScript.type; newScript.textContent = oldScript.textContent; oldScript.parentNode.replaceChild(newScript, oldScript); } })(); requestAnimationFrame(() => { observer.observe(destElt); }); } })(); </script><div id=\"compress_html_2988aa690b8a473aa1326f12b90dad51\"><script>window.treescope_decompress_enqueue(\"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\", \"compress_html_2988aa690b8a473aa1326f12b90dad51\");</script><span style=\"color: #aaaaaa; font-family: monospace\">(Loading...)</span></div></div>"
      ],
      "text/plain": [
       "<IPython.core.display.HTML object>"
      ]
     },
     "metadata": {},
     "output_type": "display_data"
    },
    {
     "data": {
      "text/html": [
       "<div id=\"output_dest_58a204a96a404e1abbbc6ecfe124fc91\"><script> (()=>{ const output = document.getElementById(\"output_58a204a96a404e1abbbc6ecfe124fc91\"); const dest = document.getElementById(\"output_dest_58a204a96a404e1abbbc6ecfe124fc91\"); dest.parentNode.replaceChild(output, dest); })(); </script></div>"
      ],
      "text/plain": [
       "{'a': ['before a multiple of 4',\n",
       "  0,\n",
       "  1,\n",
       "  2,\n",
       "  3,\n",
       "  'before a multiple of 4',\n",
       "  4,\n",
       "  5,\n",
       "  6,\n",
       "  7,\n",
       "  'before a multiple of 4',\n",
       "  8,\n",
       "  9],\n",
       " 'b': [10,\n",
       "  11,\n",
       "  'before a multiple of 4',\n",
       "  12,\n",
       "  13,\n",
       "  14,\n",
       "  15,\n",
       "  'before a multiple of 4',\n",
       "  16,\n",
       "  17,\n",
       "  18,\n",
       "  19]}"
      ]
     },
     "execution_count": 61,
     "metadata": {},
     "output_type": "execute_result"
    }
   ],
   "source": [
    "(\n",
    "    pz.select({\"a\": list(range(10)), \"b\": list(range(10, 20))})\n",
    "      .at_instances_of(int)\n",
    "      .where(lambda x: x % 4 == 0)\n",
    "      .insert_before(\"before a multiple of 4\")\n",
    ")"
   ]
  },
  {
   "cell_type": "code",
   "execution_count": 62,
   "metadata": {
    "execution": {
     "iopub.execute_input": "2024-05-28T18:17:00.925506Z",
     "iopub.status.busy": "2024-05-28T18:17:00.925271Z",
     "iopub.status.idle": "2024-05-28T18:17:00.936620Z",
     "shell.execute_reply": "2024-05-28T18:17:00.935833Z"
    },
    "id": "tIf27Qx40hP3"
   },
   "outputs": [
    {
     "data": {
      "text/html": [
       "<div id=\"output_7bb08544f87545339dd84c8c78950842\"><script> /* penzai.treescope rendering of a Python object (compressed) */ (()=>{ let observer; let lastStep = new Promise((resolve, reject) => { observer = new IntersectionObserver((entries) => { for (const entry of entries) { if (entry.isIntersecting) { resolve(); observer.disconnect(); return; } } }, {rootMargin: \"1000px\"}); }); window.treescope_decompress_enqueue = (encoded, destId) => { const previous = lastStep; const destElt = document.getElementById(destId); lastStep = (async () => { await previous; let blob = new Blob([ Uint8Array.from(atob(encoded), (m) => m.codePointAt(0)) ]); let reader = blob.stream().pipeThrough( new DecompressionStream(\"deflate\") ).pipeThrough( new TextDecoderStream(\"utf-8\") ).getReader(); let parts = []; while (true) { let step = await reader.read(); if (step.done) { break; } parts.push(step.value); } let newElt = document.createElement(\"div\"); newElt.innerHTML = parts.join(\"\"); destElt.parentNode.replaceChild(newElt, destElt); for (let oldScript of newElt.querySelectorAll(\"script\")) { let newScript = document.createElement(\"script\"); newScript.type = oldScript.type; newScript.textContent = oldScript.textContent; oldScript.parentNode.replaceChild(newScript, oldScript); } })(); requestAnimationFrame(() => { observer.observe(destElt); }); } })(); </script><div id=\"compress_html_b1f5d8b15b85424dbf41f9b6d5c6771f\"><script>window.treescope_decompress_enqueue(\"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\", \"compress_html_b1f5d8b15b85424dbf41f9b6d5c6771f\");</script><span style=\"color: #aaaaaa; font-family: monospace\">(Loading...)</span></div></div>"
      ],
      "text/plain": [
       "<IPython.core.display.HTML object>"
      ]
     },
     "metadata": {},
     "output_type": "display_data"
    },
    {
     "data": {
      "text/html": [
       "<div id=\"output_dest_7bb08544f87545339dd84c8c78950842\"><script> (()=>{ const output = document.getElementById(\"output_7bb08544f87545339dd84c8c78950842\"); const dest = document.getElementById(\"output_dest_7bb08544f87545339dd84c8c78950842\"); dest.parentNode.replaceChild(output, dest); })(); </script></div>"
      ],
      "text/plain": [
       "{'a': [0,\n",
       "  'after a multiple of 4',\n",
       "  1,\n",
       "  2,\n",
       "  3,\n",
       "  4,\n",
       "  'after a multiple of 4',\n",
       "  5,\n",
       "  6,\n",
       "  7,\n",
       "  8,\n",
       "  'after a multiple of 4',\n",
       "  9],\n",
       " 'b': [10,\n",
       "  11,\n",
       "  12,\n",
       "  'after a multiple of 4',\n",
       "  13,\n",
       "  14,\n",
       "  15,\n",
       "  16,\n",
       "  'after a multiple of 4',\n",
       "  17,\n",
       "  18,\n",
       "  19]}"
      ]
     },
     "execution_count": 62,
     "metadata": {},
     "output_type": "execute_result"
    }
   ],
   "source": [
    "(\n",
    "    pz.select({\"a\": list(range(10)), \"b\": list(range(10, 20))})\n",
    "      .at_instances_of(int)\n",
    "      .where(lambda x: x % 4 == 0)\n",
    "      .insert_after(\"after a multiple of 4\")\n",
    ")"
   ]
  },
  {
   "cell_type": "markdown",
   "metadata": {
    "id": "BFg6JxQq0tMW"
   },
   "source": [
    "You can also just remove the selected nodes:"
   ]
  },
  {
   "cell_type": "code",
   "execution_count": 63,
   "metadata": {
    "execution": {
     "iopub.execute_input": "2024-05-28T18:17:00.939865Z",
     "iopub.status.busy": "2024-05-28T18:17:00.939652Z",
     "iopub.status.idle": "2024-05-28T18:17:00.949721Z",
     "shell.execute_reply": "2024-05-28T18:17:00.948915Z"
    },
    "id": "PzLdrjdq0raZ"
   },
   "outputs": [
    {
     "data": {
      "text/html": [
       "<div id=\"output_facd73f4802244df90b1eba7e7ea4fa0\"><script> /* penzai.treescope rendering of a Python object (compressed) */ (()=>{ let observer; let lastStep = new Promise((resolve, reject) => { observer = new IntersectionObserver((entries) => { for (const entry of entries) { if (entry.isIntersecting) { resolve(); observer.disconnect(); return; } } }, {rootMargin: \"1000px\"}); }); window.treescope_decompress_enqueue = (encoded, destId) => { const previous = lastStep; const destElt = document.getElementById(destId); lastStep = (async () => { await previous; let blob = new Blob([ Uint8Array.from(atob(encoded), (m) => m.codePointAt(0)) ]); let reader = blob.stream().pipeThrough( new DecompressionStream(\"deflate\") ).pipeThrough( new TextDecoderStream(\"utf-8\") ).getReader(); let parts = []; while (true) { let step = await reader.read(); if (step.done) { break; } parts.push(step.value); } let newElt = document.createElement(\"div\"); newElt.innerHTML = parts.join(\"\"); destElt.parentNode.replaceChild(newElt, destElt); for (let oldScript of newElt.querySelectorAll(\"script\")) { let newScript = document.createElement(\"script\"); newScript.type = oldScript.type; newScript.textContent = oldScript.textContent; oldScript.parentNode.replaceChild(newScript, oldScript); } })(); requestAnimationFrame(() => { observer.observe(destElt); }); } })(); </script><div id=\"compress_html_38db0590820f48dcaedc56ab1e33fd5e\"><script>window.treescope_decompress_enqueue(\"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\", \"compress_html_38db0590820f48dcaedc56ab1e33fd5e\");</script><span style=\"color: #aaaaaa; font-family: monospace\">(Loading...)</span></div></div>"
      ],
      "text/plain": [
       "<IPython.core.display.HTML object>"
      ]
     },
     "metadata": {},
     "output_type": "display_data"
    },
    {
     "data": {
      "text/html": [
       "<div id=\"output_dest_facd73f4802244df90b1eba7e7ea4fa0\"><script> (()=>{ const output = document.getElementById(\"output_facd73f4802244df90b1eba7e7ea4fa0\"); const dest = document.getElementById(\"output_dest_facd73f4802244df90b1eba7e7ea4fa0\"); dest.parentNode.replaceChild(output, dest); })(); </script></div>"
      ],
      "text/plain": [
       "{'a': [1, 2, 3, 5, 6, 7, 9], 'b': [10, 11, 13, 14, 15, 17, 18, 19]}"
      ]
     },
     "execution_count": 63,
     "metadata": {},
     "output_type": "execute_result"
    }
   ],
   "source": [
    "(\n",
    "    pz.select({\"a\": list(range(10)), \"b\": list(range(10, 20))})\n",
    "      .at_instances_of(int)\n",
    "      .where(lambda x: x % 4 == 0)\n",
    "      .remove_from_parent()\n",
    ")"
   ]
  },
  {
   "cell_type": "markdown",
   "metadata": {
    "id": "ELI6wOnC0yMI"
   },
   "source": [
    "If you want more control, or if you want to use the selected value to determine what to insert, you can use the method `.apply_and_inline`. This works like `.apply`, except that your function should return a *sequence* of values, and those values will be spliced into the original list or tuple in the same position as the original selected nodes."
   ]
  },
  {
   "cell_type": "code",
   "execution_count": 64,
   "metadata": {
    "execution": {
     "iopub.execute_input": "2024-05-28T18:17:00.953080Z",
     "iopub.status.busy": "2024-05-28T18:17:00.952867Z",
     "iopub.status.idle": "2024-05-28T18:17:00.963975Z",
     "shell.execute_reply": "2024-05-28T18:17:00.963198Z"
    },
    "id": "l7M2_YQF0vzy"
   },
   "outputs": [
    {
     "data": {
      "text/html": [
       "<div id=\"output_245725bc304c4394b43b3ad709c04a87\"><script> /* penzai.treescope rendering of a Python object (compressed) */ (()=>{ let observer; let lastStep = new Promise((resolve, reject) => { observer = new IntersectionObserver((entries) => { for (const entry of entries) { if (entry.isIntersecting) { resolve(); observer.disconnect(); return; } } }, {rootMargin: \"1000px\"}); }); window.treescope_decompress_enqueue = (encoded, destId) => { const previous = lastStep; const destElt = document.getElementById(destId); lastStep = (async () => { await previous; let blob = new Blob([ Uint8Array.from(atob(encoded), (m) => m.codePointAt(0)) ]); let reader = blob.stream().pipeThrough( new DecompressionStream(\"deflate\") ).pipeThrough( new TextDecoderStream(\"utf-8\") ).getReader(); let parts = []; while (true) { let step = await reader.read(); if (step.done) { break; } parts.push(step.value); } let newElt = document.createElement(\"div\"); newElt.innerHTML = parts.join(\"\"); destElt.parentNode.replaceChild(newElt, destElt); for (let oldScript of newElt.querySelectorAll(\"script\")) { let newScript = document.createElement(\"script\"); newScript.type = oldScript.type; newScript.textContent = oldScript.textContent; oldScript.parentNode.replaceChild(newScript, oldScript); } })(); requestAnimationFrame(() => { observer.observe(destElt); }); } })(); </script><div id=\"compress_html_cfb09a0694dd48e398489de3649e2a88\"><script>window.treescope_decompress_enqueue(\"eNrlXItX2koT/1e26TkVrgUJT8HH+QLyslWr2Grt7eFsks1DQhKTDYj3+L9/sxveAtrUewtHPEdgM7MzO7/ZmdnZ2n2fDixymKQeIb7iuKTtOQ5F/yDX8U1qOnYJecTC1OyRPaQ5Nk1ouGtagxLqOrbju1iB8b5hUpLgX0rI9WDEMn2a4FMn6MCFUduxYVjGSkf3nMBWE4pjOV4pZN1Dw2+yBQQwn6lSo4Q0kwKZTYlN91AXe7ppJyyi0RJKKwaTYZOEQUzdgBExmdtDj/s74XL2fcUzXXqITA3F+qatOv3JCtHBwQECFYgGE6hxWOtTCvTP496T4WTbJbZq2rqkMMv4QPbj57NkDWyrFpvSDixrAbVOaHvO+gcoNjJ6mzpxdHAISu78hT47TgdA8BA1COKUtqOSJPprB1mEoiHvFCuHBoTHwmfvDpDqKEEXDJqUHXWAPnxA79iTpGJh3/8MoCWZwbFp+zFhVikhjpipRjIYk4s9mKlqkS5H6BEk08Cz+UP4umCtXmC3HMdmC+w7Xme4MhDpU9DsCobYo5lhaips0CUeLLyLbYUkbacfi4+X9uQJSoRM+yiTZiov8oF5KJMWsXVqgGug1CKPWI1puG5mAWL5ZKK6EdhM92eF+4apUbYkzsE+PMLPS3WIjSg9chcQn0q22cWMoubhLomFdo3HFyMyr4ob+EaIzd5LDDdS4iA0xa+Y7uVqL1Sc2MAVkCOiEc8j6iXpuuD2xH/qQK7FBseOD2zeoEUsolDHkywLHH3IOx0EA7vtg6cK8T2+4WJsf8FMyNH4hGyh8D61bzzSdXpkZtdMzbFsJ8RGurL5Nc95IGxz8JnDwDerbkwIAxubknHAt+mlKR6BZQw35DQtfEqyOAzEoRD+bThO7mklFDb1eDK4x9UJ9/opCzceAWsppALbT43BDB8ZAcNpKVbU0XUrDCNtHv0pKMajHIwQi35EpAezD03B3I5/T3bIgO1IwRNGoQeIp2wezhsTxnO2u6CgMNLjEUE+CBPBvmr2EGc8mI9riGIZFCb3B0JKQI4NQkF7e4pusf4xapj+SHMBUk6YSHkma9tBVyYe90Ge2N6nirtiLg86DQl8mMLWpwhwRsyJLIclNcdSsQzyWHBfkokf0SxZO1QRqFXTB3gGo4w7T4gOkYVlYpVKMgHHJlMaKPy1t1BemHYTIsu7w+yc2pvIMm2ejGXLYel7qUwDdoj3VLKKvY5PsA72tp9yl2yHxuaGDOzHDvmchwvtwHlKikGUDmT4OPorPtGBsS5mGtHPaMj3QAlt/Z3OycrWn1Rvlmmpkvn/QEmGIxMceD4D0HVM0MBbINf0X08s3wpcUIJvOn+Zj7+O1MnyWDB8KiVp+m3N9Hzaduw2c/8FW2vVVkqmc2w3LYQK/bb6IeLzKrJVzRTSfEM/Jln8A8OqbYUF9VfylqlYNAwMM6IVbCkxKOShXBPdex6z5/SAjPOvqSI7ngqOFKqiOhSEMjXQe5JiP8wovgE5T233sWdDqG6PfHAULjUNK2JmAaELuQ2gxyorehLe8HzCDD1c/3AokUpyD5gcikr8TIO9hO5h1WQ5XMzkVKJ/RI6HbZ2gFEol84oBGRe++2FODodQaMCnqjzxgVcz6Qyao8U8JvsGsdtgJAu7Phj12Yz0y8JXSAjzEJfBici9C+XmUprX0GORiOFC/zc8LyssFMycnbdOoE7zTGyh1qArO1CgngWUqaWiUSlWcdzB1vDIzUsLNi0cc6zhWH948M2mwFl9TymhwLNiKqa4xJ7v9B1NS+/J2Cf57Ec1Vayf6FJZ4q/muSQ5/FP5og+/GzVJqkqrXuWuJOkd55ParJYr/e+SdPm9ciydNMsVqabfNxufDeqXT0yiZ2pH1+nPzfz3XssNzC8nuUvx+Lp58e2kd3XyQL8MarXK9pXeuTTLRynDPDoPjqtq/TbVkHe0XlN17z7ljbsr0zwPTuy60dC+UulrvnzqZaVa0+5U88rXILC3L3J3it/p97SatXN3r1edXV0+7td3xYa0Y0sXuc+edyxebOsPqQs1JR1ron5aqPTrt2k95QyCi0KhWxXz/cZ18UzXXXLZGWRJU37IKbJ3VqdY0s+bp/0j7A/886DZvL6q1vrSl3O3+V39urOzrRcuC9cZmtI+fbmTejmY87N0WpBO+lJXf7hobQc3LVK9vk9reeXhNHvRGOSCsvTpoXzr1tyM2TivVFM3wZdsq2Br5c/VRu2kK5nbu71q2rBFo7Atf+tf3/YbXu+o/rVi32rVqk63z5QbyyrkipXjfnnXKGZPTuqtTP1G0rvN3G35vEgv66RRrJbLzXrmSM9e7HxXBrJUB0y/fdqRzutYIicVS2o8VM/0G6rny1/0s7PmUbljnudIrXxdKdcUM+UanuPa4BvuTfVIfBA7La2iUWPwyW6ouOY3tNRpt149zZdV6e7bNxdTv3XTVVVsFtPaQzH71by9y7tdL3/mfK+0TK/e7R3XM62rVqZWTSvlc+1yu2E5bj1b8/s5rN/ld80b0jq13Cu73GgS9cQjwdVdvdIVr2pep9W6z6XzV1d+XwKN4ogf8Wlsi7v1Vvw1ti+U9gM5oNSxFwapyeNFpZaAhDkqSP8QkRcT/03ErCrsRQ0CsNnljgmcPBh04RhiQHQvIWxTYDdhj6vjFto4gT0pzkJu8wEiSSpZJN35VYZV3YJVLC7SJ5zJPvbbimUyw475sUZnDkCj08UqmXM8syKnTY962IslEizaJbANwPLGQXx6mAlhHRWWKIc1GJ8WiT4iYLEEpC4noL+2lLEGAIxJ1HezmnCR6J3ZdR2PYvvJ3LLndHjmcgeTEvp5606xTdlzXKfM9zyfnL4N3nHh/OHS4OQN0c1WUCyUMNuGg5VcOszxgGyoARvzCeVKMZMyPXAfmxTZuGfqmDoenMpNV3awpyb7nknJJdTMsclcgMRwrsnpHQqkmDBlb96oIPTS7BIAZtwZecI36rTMsT5+ROlUKsVDg4IplEQxXu8uljtlVGGi3GwvJAbwvkc1bFrgDNRBjPgd35NQ+9gBtqwBVBM+JVhlPrE9bbthD2LSgGCuNOpAzJ6O5ws04XA/DGP7pu0GFLFWzYHAA5fs3AsLJxnGOHgYxrfD/R3OPCvXgJk8ENFpU6jdCBW4xokOGUA0Nw4E4fAfUBgYgH2owjT7k+pcWPVceEb27OPprohw+OH9fbqwh8O3sUr8rYSWm/J3LBfNYj+28NZP4fDHCrNtTbbyFnLsCvPYg60V25M3luJbaBxTDoSYhbuyinkLrMR/c8FxAfG9fyBMRaAS+nAXOHRvGU/4FJLKfPiEjMRdl60MPg8BOpw1/7/oEItM+yP18wWOEuaqRd7ycYZ39uAgHKJFi5qp6oX/CkpYaBQ0GdtvAvpSeCPBJ74EPnab1cNWQBCEdJTabBzFaDiK641j+iU48jpps9FLR0Mvvd7oZRajF15SCIfipqKViYZWZr3Ryq5GK72paGWjoZVdb7Ryq9HKbCpauWho5dYbrfxbKSfz0eDLrzd8hV8vJ7ObjWMhGo6F9cZx942Uk7vR0Ntdb/SKq1NeblPRKkZDq7jmR/DUarjyG3vSjtgyEde9ZyKuBqywsYBF7Y2seXNETL+VqlKM2B8R17xBImZ+vbDc3XAoIzZPxDXvnojZN1JbihH7KeKaN1TEZzoqxRXi56D4uE5wRWyoiK/dUQnffm6av/+Ju87X8vMXFAf/5VX37/0jgR9b8p+68pYjuIG8UVfe8vIr7/FtTWoTM5Yc7YpbXu8rbnn5FfcYLnFT4RKjwSWuN1xv4qwmR7vKltf7KltefpW96qAmpjcbyEw0IDPrDeRbOKbJ0W695fW+9Zafv/UWM5sKVy4aXLn1hiv/DFzZTYUrHw2u/HrDVXgGrtymwlWIBldhveHafSsl5W40+HbXG75ihJIyv9lAFqMBWVzzk3jqjdSUYsROirjurZTneimFjUUsajNlzbspy66+x4jtbixiEfsn4po3UMTn/hhgA+/X5Ij32fK/cZ89e7+2Ieb7E9cqi94eX2KSEYdq9pb/1fOy/x8uFh//Te7/Af+v+aI=\", \"compress_html_cfb09a0694dd48e398489de3649e2a88\");</script><span style=\"color: #aaaaaa; font-family: monospace\">(Loading...)</span></div></div>"
      ],
      "text/plain": [
       "<IPython.core.display.HTML object>"
      ]
     },
     "metadata": {},
     "output_type": "display_data"
    },
    {
     "data": {
      "text/html": [
       "<div id=\"output_dest_245725bc304c4394b43b3ad709c04a87\"><script> (()=>{ const output = document.getElementById(\"output_245725bc304c4394b43b3ad709c04a87\"); const dest = document.getElementById(\"output_dest_245725bc304c4394b43b3ad709c04a87\"); dest.parentNode.replaceChild(output, dest); })(); </script></div>"
      ],
      "text/plain": [
       "{'a': ['before',\n",
       "  'the value was 0',\n",
       "  'after',\n",
       "  1,\n",
       "  2,\n",
       "  3,\n",
       "  'before',\n",
       "  'the value was 4',\n",
       "  'after',\n",
       "  5,\n",
       "  6,\n",
       "  7,\n",
       "  'before',\n",
       "  'the value was 8',\n",
       "  'after',\n",
       "  9],\n",
       " 'b': [10,\n",
       "  11,\n",
       "  'before',\n",
       "  'the value was 12',\n",
       "  'after',\n",
       "  13,\n",
       "  14,\n",
       "  15,\n",
       "  'before',\n",
       "  'the value was 16',\n",
       "  'after',\n",
       "  17,\n",
       "  18,\n",
       "  19]}"
      ]
     },
     "execution_count": 64,
     "metadata": {},
     "output_type": "execute_result"
    }
   ],
   "source": [
    "(\n",
    "    pz.select({\"a\": list(range(10)), \"b\": list(range(10, 20))})\n",
    "      .at_instances_of(int)\n",
    "      .where(lambda x: x % 4 == 0)\n",
    "      .apply_and_inline(lambda x: [\"before\", f\"the value was {x}\", \"after\"])\n",
    ")"
   ]
  },
  {
   "cell_type": "markdown",
   "metadata": {
    "id": "DaIykx2UVgaM"
   },
   "source": [
    "## Taking advantage of key paths"
   ]
  },
  {
   "cell_type": "markdown",
   "metadata": {
    "id": "hoF1YE4VVF6M"
   },
   "source": [
    "Many of the selector functions allow you to use the PyTree path to each selected in addition to its value:"
   ]
  },
  {
   "cell_type": "code",
   "execution_count": 65,
   "metadata": {
    "execution": {
     "iopub.execute_input": "2024-05-28T18:17:00.967430Z",
     "iopub.status.busy": "2024-05-28T18:17:00.967203Z",
     "iopub.status.idle": "2024-05-28T18:17:00.988580Z",
     "shell.execute_reply": "2024-05-28T18:17:00.987828Z"
    },
    "id": "YCK_xieQVi8r"
   },
   "outputs": [
    {
     "data": {
      "text/html": [
       "<div id=\"output_56823272ba1040f4a4c9bb8e567925d4\"><script> /* penzai.treescope rendering of a Python object (compressed) */ (()=>{ let observer; let lastStep = new Promise((resolve, reject) => { observer = new IntersectionObserver((entries) => { for (const entry of entries) { if (entry.isIntersecting) { resolve(); observer.disconnect(); return; } } }, {rootMargin: \"1000px\"}); }); window.treescope_decompress_enqueue = (encoded, destId) => { const previous = lastStep; const destElt = document.getElementById(destId); lastStep = (async () => { await previous; let blob = new Blob([ Uint8Array.from(atob(encoded), (m) => m.codePointAt(0)) ]); let reader = blob.stream().pipeThrough( new DecompressionStream(\"deflate\") ).pipeThrough( new TextDecoderStream(\"utf-8\") ).getReader(); let parts = []; while (true) { let step = await reader.read(); if (step.done) { break; } parts.push(step.value); } let newElt = document.createElement(\"div\"); newElt.innerHTML = parts.join(\"\"); destElt.parentNode.replaceChild(newElt, destElt); for (let oldScript of newElt.querySelectorAll(\"script\")) { let newScript = document.createElement(\"script\"); newScript.type = oldScript.type; newScript.textContent = oldScript.textContent; oldScript.parentNode.replaceChild(newScript, oldScript); } })(); requestAnimationFrame(() => { observer.observe(destElt); }); } })(); </script><div id=\"compress_html_a99d0a695a8d47df90ee9c522b76d0e9\"><script>window.treescope_decompress_enqueue(\"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\", \"compress_html_a99d0a695a8d47df90ee9c522b76d0e9\");</script><span style=\"color: #aaaaaa; font-family: monospace\">(Loading...)</span></div></div>"
      ],
      "text/plain": [
       "<IPython.core.display.HTML object>"
      ]
     },
     "metadata": {},
     "output_type": "display_data"
    },
    {
     "data": {
      "text/html": [
       "<div id=\"compress_html_009fae993aef4cb2b7b83514658fff89\"><script>window.treescope_decompress_enqueue(\"eNrtWltvo0YU/itHrLrBuzYBB2Njx5babCvtyz5UlfqwitDADIZmzLAwzqWr/e89M9jYxI5z2WyitkQKGObcb/OBOKXpJZTyhrOpQdMy5+RmDJnImAEpnRqxKALKYlYUjAYjO3ZpfOKH0dBz/aHvU9tlsT30BpE79BxmzE7LnGR4VPJmViikFAueZmycCWlaseCUhJwFmaBsnJDSnHESMj5rrgRSzOe84hlHCYsuGO104F0HvkJOKE2zeU+KfAy25QzYYgJKQy9h6TyRY3Asfe+bFQmOxpMwLNglcurLMbzxRn1i2xuCSCwWLJPBVcKygF2j/ZTRZ7N3rZXov1orBlMZvSEIOYkuJhDicV6IZUZ7q4VLUpi9XshFdFHd6iCVKCgrqhg4+TWUgqf0EGWViPuIv4GV3OSsQMsugoIthGRBIi5ZAbeN3jVTXPAoMUfuTyop7gAc268kXpEyKKNCcI7sUlhxWpQykGl08WCpvms5Sq7tg3PiWcO9gnX0D6rr7CiUBcnKVKYiG+8oB6cERkrWS7OeWMouxCKTvStdZLfWVFaTKAmw9iMWcBbLrUJVl6pSB1HSpCu0pA1hUZVvTVlKogopiJKU04JltfFVTmEGTZJnK9l6CujqmMCCFHN0tHIkIjwy+1ECPbTUjZIqF/fY+sNMW5V3ZVpV2NqqveXdGB3aD4w1T+AdmA66s82yklsiFet0OnUMNqy9h/Ou9a6bUHPWItd3e6vbLxjNzRjREewVhKbLcuWgwxbo3d2OaUu/z4h7S/xrY9JV+VUj7AGT7jDxNwsl/pB9aZPkA1vT6XG1QerdEiJOynJq6P1HDyBZpPlqK13vzA0HcDuh4cgdkMm+1KCaidEU3fAC1yrnTtMsX0qQOPKnhnYnFNfGXp6V58h6rJma4jebhsSaZtIASiTpXbCbnMhkatyypjGEV3mA5vw0HhKa1eKXJeEZWbAgL1icXhuznGV/k9SSBWNlJHKGVZWjJSXuZjHhXA16CzOggUp1+iTk72vpuXLabK6fHq8itq33dvFCs3iNA9Q7pAKHf5oRjrtuXkwfFVyrwbsv1EGJfmVzY/b2zXV/OPm5KMiN+dnugtOFfhdOuuB2YdAFrwvDLoy64J93geqySDN50u9UfM2QdHcThMo4yUtGjRmsiXeI1gCraeiRSlG4xNbJjkBkZxz36+nRJoMJ8mApKqogUoumTNKyc1TFQt2eGiYni5ASKITAVlPHZmg6xqaZarYxHN3LdzSBFQfJsPVJhReOzpAdVA7wdw18jw+cnlAOiMCfWAwp3VsK2XIRKg3+0B72Hb/vjQbD/ujfnNqUPiWxyPWKadW99cTEKt6XHe8HHpOMg2XwZm+t7Mzrv8j1eh7r2XRo6B7SnuK9TG5N5IPrxuz5ErD9pIljlsuJXoBqcCr/tGPV5du5nBwooVdsJeXZU5pJ8z1XOz201W7FqdvG8kFha4CvzfsZuPVcasw6j8sEmnknQtttj7olHodDdjtnfaLp5ez0MW+y+q5DSd8enTDqhq7jj5jvjjyfhMM4Hrjx5k1Wi9BbhP46CB2wNVRvqOZQ3aHaQ/WHahDVIapFwMf2US3ktJj9/4HZRx4ePMdrMXuL2VvM3mL2FrO3mP2lMfv3IZPnQ/G259uRh/ui743cE98eDeL+0OmHZOhEHmODFsW3KP7V37NbXdj/X/dFzAVpMft/+T27azvDE89uMXuL2VvM3mL2FrO3mP3F37M/Aofcg9DLCHXLmWl2YDqDr5HISpx/up0/0hKm8Nl4+CejXTAe/lZ+m/he8H8+qSxTiUejrnAuiastuIrmBvVVoKhMoCJaqvGrFn/lTP385eYjNWvvPtvn6tunSnJckLkiQek1Y1QwItmH1eVvKwqz5lF6zjg+zyDTmt8iOYJpeqbmpanrNFIUn3DLMGWx1F9b4YMPmJxJSJHRnuDpdBNzi7NsLhO8+/69+hpJ0VWL21ru9Ck9RwWKpxTLImIf8Alsemco9COYAe/hFn91aSGU41jef6YyMWtx1WeYKynaTWTYrKpvTS+Zqb8p0+5vC6kDppY7igirsarAdSXupJZlX5ZsyT6sauUPtkB5kpVmp+b9B+BPy1E=\", \"compress_html_009fae993aef4cb2b7b83514658fff89\");</script></div>"
      ],
      "text/plain": [
       "<IPython.core.display.HTML object>"
      ]
     },
     "metadata": {},
     "output_type": "display_data"
    },
    {
     "data": {
      "text/html": [
       "<div id=\"output_dest_56823272ba1040f4a4c9bb8e567925d4\"><script> (()=>{ const output = document.getElementById(\"output_56823272ba1040f4a4c9bb8e567925d4\"); const dest = document.getElementById(\"output_dest_56823272ba1040f4a4c9bb8e567925d4\"); dest.parentNode.replaceChild(output, dest); })(); </script></div>"
      ],
      "text/plain": [
       "Selection(\n",
       "  selected_by_path=OrderedDict({\n",
       "    (DictKey(key='c'), SequenceKey(idx=0)):\n",
       "      {\n",
       "        'value': <jax.Array([ 0,  1,  2,  3,  4,  5,  6,  7,  8,  9, 10, 11], dtype=int32)>,\n",
       "      },\n",
       "    (DictKey(key='c'), SequenceKey(idx=2), DictKey(key='value')):\n",
       "      3,\n",
       "  }),\n",
       "  remainder={\n",
       "    'a': 1,\n",
       "    'b': <jax.Array([0, 1, 2, 3, 4, 5, 6, 7, 8, 9], dtype=int32)>,\n",
       "    'c': [SelectionHole(path=(DictKey(key='c'), SequenceKey(idx=0))), {'value': <jax.Array([0., 0., 0., 0., 0., 0., 0.], dtype=float32)>}, {'value': SelectionHole(path=(DictKey(key='c'), SequenceKey(idx=2), DictKey(key='value')))}],\n",
       "  },\n",
       ")"
      ]
     },
     "execution_count": 65,
     "metadata": {},
     "output_type": "execute_result"
    }
   ],
   "source": [
    "# Selecting by keypath directly\n",
    "pz.select(my_nested_object).at_keypaths([\n",
    "    (jax.tree_util.DictKey(key='c'), jax.tree_util.SequenceKey(idx=2), jax.tree_util.DictKey(key='value')),\n",
    "    (jax.tree_util.DictKey(key='c'), jax.tree_util.SequenceKey(idx=0)),\n",
    "])"
   ]
  },
  {
   "cell_type": "code",
   "execution_count": 66,
   "metadata": {
    "execution": {
     "iopub.execute_input": "2024-05-28T18:17:00.991517Z",
     "iopub.status.busy": "2024-05-28T18:17:00.991260Z",
     "iopub.status.idle": "2024-05-28T18:17:01.012192Z",
     "shell.execute_reply": "2024-05-28T18:17:01.011384Z"
    },
    "id": "FEf1mpRX1T17"
   },
   "outputs": [
    {
     "data": {
      "text/html": [
       "<div id=\"output_0eac116a13ff4999bee1e9f2700ddab3\"><script> /* penzai.treescope rendering of a Python object (compressed) */ (()=>{ let observer; let lastStep = new Promise((resolve, reject) => { observer = new IntersectionObserver((entries) => { for (const entry of entries) { if (entry.isIntersecting) { resolve(); observer.disconnect(); return; } } }, {rootMargin: \"1000px\"}); }); window.treescope_decompress_enqueue = (encoded, destId) => { const previous = lastStep; const destElt = document.getElementById(destId); lastStep = (async () => { await previous; let blob = new Blob([ Uint8Array.from(atob(encoded), (m) => m.codePointAt(0)) ]); let reader = blob.stream().pipeThrough( new DecompressionStream(\"deflate\") ).pipeThrough( new TextDecoderStream(\"utf-8\") ).getReader(); let parts = []; while (true) { let step = await reader.read(); if (step.done) { break; } parts.push(step.value); } let newElt = document.createElement(\"div\"); newElt.innerHTML = parts.join(\"\"); destElt.parentNode.replaceChild(newElt, destElt); for (let oldScript of newElt.querySelectorAll(\"script\")) { let newScript = document.createElement(\"script\"); newScript.type = oldScript.type; newScript.textContent = oldScript.textContent; oldScript.parentNode.replaceChild(newScript, oldScript); } })(); requestAnimationFrame(() => { observer.observe(destElt); }); } })(); </script><div id=\"compress_html_1d37405bac354acf8620ff70ac34b164\"><script>window.treescope_decompress_enqueue(\"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\", \"compress_html_1d37405bac354acf8620ff70ac34b164\");</script><span style=\"color: #aaaaaa; font-family: monospace\">(Loading...)</span></div></div>"
      ],
      "text/plain": [
       "<IPython.core.display.HTML object>"
      ]
     },
     "metadata": {},
     "output_type": "display_data"
    },
    {
     "data": {
      "text/html": [
       "<div id=\"compress_html_60b1bd9841184ee6ab7e0d56184a5b9f\"><script>window.treescope_decompress_enqueue(\"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\", \"compress_html_60b1bd9841184ee6ab7e0d56184a5b9f\");</script></div>"
      ],
      "text/plain": [
       "<IPython.core.display.HTML object>"
      ]
     },
     "metadata": {},
     "output_type": "display_data"
    },
    {
     "data": {
      "text/html": [
       "<div id=\"output_dest_0eac116a13ff4999bee1e9f2700ddab3\"><script> (()=>{ const output = document.getElementById(\"output_0eac116a13ff4999bee1e9f2700ddab3\"); const dest = document.getElementById(\"output_dest_0eac116a13ff4999bee1e9f2700ddab3\"); dest.parentNode.replaceChild(output, dest); })(); </script></div>"
      ],
      "text/plain": [
       "Selection(\n",
       "  selected_by_path=OrderedDict({\n",
       "    (DictKey(key='c'), SequenceKey(idx=0), DictKey(key='value')):\n",
       "      <jax.Array([ 0,  1,  2,  3,  4,  5,  6,  7,  8,  9, 10, 11], dtype=int32)>,\n",
       "    (DictKey(key='c'), SequenceKey(idx=1), DictKey(key='value')):\n",
       "      <jax.Array([0., 0., 0., 0., 0., 0., 0.], dtype=float32)>,\n",
       "  }),\n",
       "  remainder={\n",
       "    'a': 1,\n",
       "    'b': <jax.Array([0, 1, 2, 3, 4, 5, 6, 7, 8, 9], dtype=int32)>,\n",
       "    'c': [{'value': SelectionHole(path=(DictKey(key='c'), SequenceKey(idx=0), DictKey(key='value')))}, {'value': SelectionHole(path=(DictKey(key='c'), SequenceKey(idx=1), DictKey(key='value')))}, {'value': 3}],\n",
       "  },\n",
       ")"
      ]
     },
     "execution_count": 66,
     "metadata": {},
     "output_type": "execute_result"
    }
   ],
   "source": [
    "# Selecting by keypath and value\n",
    "(\n",
    "    pz.select(my_nested_object)\n",
    "    .at_subtrees_where(\n",
    "        lambda path, subtree: len(path) == 3 and isinstance(subtree, jax.Array),\n",
    "        with_keypath=True)\n",
    ")"
   ]
  },
  {
   "cell_type": "code",
   "execution_count": 67,
   "metadata": {
    "execution": {
     "iopub.execute_input": "2024-05-28T18:17:01.015108Z",
     "iopub.status.busy": "2024-05-28T18:17:01.014895Z",
     "iopub.status.idle": "2024-05-28T18:17:01.023372Z",
     "shell.execute_reply": "2024-05-28T18:17:01.022616Z"
    },
    "id": "W-jfNUWTVaw3"
   },
   "outputs": [
    {
     "data": {
      "text/html": [
       "<div id=\"output_e3eb1831d3d545f98b17181bb4811dd8\"><script> /* penzai.treescope rendering of a Python object (compressed) */ (()=>{ let observer; let lastStep = new Promise((resolve, reject) => { observer = new IntersectionObserver((entries) => { for (const entry of entries) { if (entry.isIntersecting) { resolve(); observer.disconnect(); return; } } }, {rootMargin: \"1000px\"}); }); window.treescope_decompress_enqueue = (encoded, destId) => { const previous = lastStep; const destElt = document.getElementById(destId); lastStep = (async () => { await previous; let blob = new Blob([ Uint8Array.from(atob(encoded), (m) => m.codePointAt(0)) ]); let reader = blob.stream().pipeThrough( new DecompressionStream(\"deflate\") ).pipeThrough( new TextDecoderStream(\"utf-8\") ).getReader(); let parts = []; while (true) { let step = await reader.read(); if (step.done) { break; } parts.push(step.value); } let newElt = document.createElement(\"div\"); newElt.innerHTML = parts.join(\"\"); destElt.parentNode.replaceChild(newElt, destElt); for (let oldScript of newElt.querySelectorAll(\"script\")) { let newScript = document.createElement(\"script\"); newScript.type = oldScript.type; newScript.textContent = oldScript.textContent; oldScript.parentNode.replaceChild(newScript, oldScript); } })(); requestAnimationFrame(() => { observer.observe(destElt); }); } })(); </script><div id=\"compress_html_1fba7c7aeb7b4028b8f72dacb3126d9a\"><script>window.treescope_decompress_enqueue(\"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\", \"compress_html_1fba7c7aeb7b4028b8f72dacb3126d9a\");</script><span style=\"color: #aaaaaa; font-family: monospace\">(Loading...)</span></div></div>"
      ],
      "text/plain": [
       "<IPython.core.display.HTML object>"
      ]
     },
     "metadata": {},
     "output_type": "display_data"
    },
    {
     "data": {
      "text/html": [
       "<div id=\"output_dest_e3eb1831d3d545f98b17181bb4811dd8\"><script> (()=>{ const output = document.getElementById(\"output_e3eb1831d3d545f98b17181bb4811dd8\"); const dest = document.getElementById(\"output_dest_e3eb1831d3d545f98b17181bb4811dd8\"); dest.parentNode.replaceChild(output, dest); })(); </script></div>"
      ],
      "text/plain": [
       "{'a': 1,\n",
       " 'b': \"(DictKey(key='b'),)\",\n",
       " 'c': [{'value': \"(DictKey(key='c'), SequenceKey(idx=0), DictKey(key='value'))\"},\n",
       "  {'value': \"(DictKey(key='c'), SequenceKey(idx=1), DictKey(key='value'))\"},\n",
       "  {'value': 3}]}"
      ]
     },
     "execution_count": 67,
     "metadata": {},
     "output_type": "execute_result"
    }
   ],
   "source": [
    "# Setting values by keypath\n",
    "pz.select(my_nested_object).at_instances_of(jax.Array).set_by_path(lambda path: str(path))"
   ]
  },
  {
   "cell_type": "code",
   "execution_count": 68,
   "metadata": {
    "execution": {
     "iopub.execute_input": "2024-05-28T18:17:01.026220Z",
     "iopub.status.busy": "2024-05-28T18:17:01.026006Z",
     "iopub.status.idle": "2024-05-28T18:17:01.035034Z",
     "shell.execute_reply": "2024-05-28T18:17:01.034232Z"
    },
    "id": "vedT4F3FV1Hq"
   },
   "outputs": [
    {
     "data": {
      "text/html": [
       "<div id=\"output_0413d15173964211b2b002cdf99c1b4a\"><script> /* penzai.treescope rendering of a Python object (compressed) */ (()=>{ let observer; let lastStep = new Promise((resolve, reject) => { observer = new IntersectionObserver((entries) => { for (const entry of entries) { if (entry.isIntersecting) { resolve(); observer.disconnect(); return; } } }, {rootMargin: \"1000px\"}); }); window.treescope_decompress_enqueue = (encoded, destId) => { const previous = lastStep; const destElt = document.getElementById(destId); lastStep = (async () => { await previous; let blob = new Blob([ Uint8Array.from(atob(encoded), (m) => m.codePointAt(0)) ]); let reader = blob.stream().pipeThrough( new DecompressionStream(\"deflate\") ).pipeThrough( new TextDecoderStream(\"utf-8\") ).getReader(); let parts = []; while (true) { let step = await reader.read(); if (step.done) { break; } parts.push(step.value); } let newElt = document.createElement(\"div\"); newElt.innerHTML = parts.join(\"\"); destElt.parentNode.replaceChild(newElt, destElt); for (let oldScript of newElt.querySelectorAll(\"script\")) { let newScript = document.createElement(\"script\"); newScript.type = oldScript.type; newScript.textContent = oldScript.textContent; oldScript.parentNode.replaceChild(newScript, oldScript); } })(); requestAnimationFrame(() => { observer.observe(destElt); }); } })(); </script><div id=\"compress_html_c90fdc53b89d4fff9045b541d8a5cecb\"><script>window.treescope_decompress_enqueue(\"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\", \"compress_html_c90fdc53b89d4fff9045b541d8a5cecb\");</script><span style=\"color: #aaaaaa; font-family: monospace\">(Loading...)</span></div></div>"
      ],
      "text/plain": [
       "<IPython.core.display.HTML object>"
      ]
     },
     "metadata": {},
     "output_type": "display_data"
    },
    {
     "data": {
      "text/html": [
       "<div id=\"output_dest_0413d15173964211b2b002cdf99c1b4a\"><script> (()=>{ const output = document.getElementById(\"output_0413d15173964211b2b002cdf99c1b4a\"); const dest = document.getElementById(\"output_dest_0413d15173964211b2b002cdf99c1b4a\"); dest.parentNode.replaceChild(output, dest); })(); </script></div>"
      ],
      "text/plain": [
       "{'a': 1,\n",
       " 'b': \"((DictKey(key='b'),), Array([0, 1, 2, 3, 4, 5, 6, 7, 8, 9], dtype=int32))\",\n",
       " 'c': [{'value': \"((DictKey(key='c'), SequenceKey(idx=0), DictKey(key='value')), Array([ 0,  1,  2,  3,  4,  5,  6,  7,  8,  9, 10, 11], dtype=int32))\"},\n",
       "  {'value': \"((DictKey(key='c'), SequenceKey(idx=1), DictKey(key='value')), Array([0., 0., 0., 0., 0., 0., 0.], dtype=float32))\"},\n",
       "  {'value': 3}]}"
      ]
     },
     "execution_count": 68,
     "metadata": {},
     "output_type": "execute_result"
    }
   ],
   "source": [
    "# Setting values by keypath and original value\n",
    "pz.select(my_nested_object).at_instances_of(jax.Array).apply(\n",
    "    lambda path, value: str((path, value)), with_keypath=True\n",
    ")"
   ]
  },
  {
   "cell_type": "markdown",
   "metadata": {
    "id": "orWpcwiJt6q0"
   },
   "source": [
    "You can use `jax.tree_util.keystr` or `pz.pretty_keystr` to turn keypaths into readable strings (sometimes useful for referring to parts of a tree by name):"
   ]
  },
  {
   "cell_type": "code",
   "execution_count": 69,
   "metadata": {
    "execution": {
     "iopub.execute_input": "2024-05-28T18:17:01.038183Z",
     "iopub.status.busy": "2024-05-28T18:17:01.037972Z",
     "iopub.status.idle": "2024-05-28T18:17:04.276880Z",
     "shell.execute_reply": "2024-05-28T18:17:04.275877Z"
    },
    "id": "YF3IntIvNjw7"
   },
   "outputs": [
    {
     "data": {
      "text/html": [
       "<div id=\"output_62e4fd41752f49c9b39add4e61b84989\"><script> /* penzai.treescope rendering of a Python object (compressed) */ (()=>{ let observer; let lastStep = new Promise((resolve, reject) => { observer = new IntersectionObserver((entries) => { for (const entry of entries) { if (entry.isIntersecting) { resolve(); observer.disconnect(); return; } } }, {rootMargin: \"1000px\"}); }); window.treescope_decompress_enqueue = (encoded, destId) => { const previous = lastStep; const destElt = document.getElementById(destId); lastStep = (async () => { await previous; let blob = new Blob([ Uint8Array.from(atob(encoded), (m) => m.codePointAt(0)) ]); let reader = blob.stream().pipeThrough( new DecompressionStream(\"deflate\") ).pipeThrough( new TextDecoderStream(\"utf-8\") ).getReader(); let parts = []; while (true) { let step = await reader.read(); if (step.done) { break; } parts.push(step.value); } let newElt = document.createElement(\"div\"); newElt.innerHTML = parts.join(\"\"); destElt.parentNode.replaceChild(newElt, destElt); for (let oldScript of newElt.querySelectorAll(\"script\")) { let newScript = document.createElement(\"script\"); newScript.type = oldScript.type; newScript.textContent = oldScript.textContent; oldScript.parentNode.replaceChild(newScript, oldScript); } })(); requestAnimationFrame(() => { observer.observe(destElt); }); } })(); </script><div id=\"compress_html_c5c44e89a717457783fd062f7061e916\"><script>window.treescope_decompress_enqueue(\"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\", \"compress_html_c5c44e89a717457783fd062f7061e916\");</script><span style=\"color: #aaaaaa; font-family: monospace\">(Loading...)</span></div></div>"
      ],
      "text/plain": [
       "<IPython.core.display.HTML object>"
      ]
     },
     "metadata": {},
     "output_type": "display_data"
    },
    {
     "data": {
      "text/html": [
       "<div id=\"compress_html_239cfa04fe7d45788d7c214fa603d57d\"><script>window.treescope_decompress_enqueue(\"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\", \"compress_html_239cfa04fe7d45788d7c214fa603d57d\");</script></div>"
      ],
      "text/plain": [
       "<IPython.core.display.HTML object>"
      ]
     },
     "metadata": {},
     "output_type": "display_data"
    },
    {
     "data": {
      "text/html": [
       "<div id=\"output_dest_62e4fd41752f49c9b39add4e61b84989\"><script> (()=>{ const output = document.getElementById(\"output_62e4fd41752f49c9b39add4e61b84989\"); const dest = document.getElementById(\"output_dest_62e4fd41752f49c9b39add4e61b84989\"); dest.parentNode.replaceChild(output, dest); })(); </script></div>"
      ],
      "text/plain": [
       "MLP( # Sequential\n",
       "  sublayers=[\n",
       "    Affine( # Sequential\n",
       "      sublayers=[\n",
       "        Linear(weights=Parameter(value=<NamedArray float32(| features:32, features_out:64) ≈-0.0026 ±0.15 [≥-0.25, ≤0.25] nonzero:2_048 (wrapping jax.Array)>, name='Affine_0.Linear.weights'), in_axis_names=('features',), out_axis_names=('features_out',)),\n",
       "        RenameAxes(old=('features_out',), new=('features',)),\n",
       "        AddBias(bias=Parameter(value=<NamedArray float32(| features:64) ≈0.0 ±0.0 [≥0.0, ≤0.0] zero:64 (wrapping jax.Array)>, name='Affine_0.AddBias.bias'), new_axis_names=()),\n",
       "      ],\n",
       "    ),\n",
       "    Elementwise(fn=jax.nn.relu),\n",
       "    Affine( # Sequential\n",
       "      sublayers=[Linear(weights=Parameter(value=<NamedArray float32(| features:64, features_out:64) ≈-0.0014 ±0.13 [≥-0.22, ≤0.22] nonzero:4_096 (wrapping jax.Array)>, name='Affine_1.Linear.weights'), in_axis_names=('features',), out_axis_names=('features_out',)), RenameAxes(old=('features_out',), new=('features',)), AddBias(bias=Parameter(value=<NamedArray float32(| features:64) ≈0.0 ±0.0 [≥0.0, ≤0.0] zero:64 (wrapping jax.Array)>, name='Affine_1.AddBias.bias'), new_axis_names=())],\n",
       "    ),\n",
       "    Elementwise(fn=jax.nn.relu),\n",
       "    Affine( # Sequential\n",
       "      sublayers=[Linear(weights=Parameter(value=<NamedArray float32(| features:64, features_out:16) ≈-0.004 ±0.16 [≥-0.27, ≤0.27] nonzero:1_024 (wrapping jax.Array)>, name='Affine_2.Linear.weights'), in_axis_names=('features',), out_axis_names=('features_out',)), RenameAxes(old=('features_out',), new=('features',)), AddBias(bias=Parameter(value=<NamedArray float32(| features:16) ≈0.0 ±0.0 [≥0.0, ≤0.0] zero:16 (wrapping jax.Array)>, name='Affine_2.AddBias.bias'), new_axis_names=())],\n",
       "    ),\n",
       "  ],\n",
       ")"
      ]
     },
     "execution_count": 69,
     "metadata": {},
     "output_type": "execute_result"
    }
   ],
   "source": [
    "mlp = pz.nn.initialize_parameters(\n",
    "    simple_mlp.MLP.from_config(feature_sizes=[32, 64, 64, 16]),\n",
    "    jax.random.PRNGKey(0),\n",
    ")\n",
    "mlp"
   ]
  },
  {
   "cell_type": "code",
   "execution_count": 70,
   "metadata": {
    "execution": {
     "iopub.execute_input": "2024-05-28T18:17:04.280324Z",
     "iopub.status.busy": "2024-05-28T18:17:04.280071Z",
     "iopub.status.idle": "2024-05-28T18:17:04.302765Z",
     "shell.execute_reply": "2024-05-28T18:17:04.301724Z"
    },
    "id": "nFT8THeWW2in"
   },
   "outputs": [
    {
     "data": {
      "text/html": [
       "<div id=\"output_d975269a2e9e45ceb12cbdaf9062bc70\"><script> /* penzai.treescope rendering of a Python object (compressed) */ (()=>{ let observer; let lastStep = new Promise((resolve, reject) => { observer = new IntersectionObserver((entries) => { for (const entry of entries) { if (entry.isIntersecting) { resolve(); observer.disconnect(); return; } } }, {rootMargin: \"1000px\"}); }); window.treescope_decompress_enqueue = (encoded, destId) => { const previous = lastStep; const destElt = document.getElementById(destId); lastStep = (async () => { await previous; let blob = new Blob([ Uint8Array.from(atob(encoded), (m) => m.codePointAt(0)) ]); let reader = blob.stream().pipeThrough( new DecompressionStream(\"deflate\") ).pipeThrough( new TextDecoderStream(\"utf-8\") ).getReader(); let parts = []; while (true) { let step = await reader.read(); if (step.done) { break; } parts.push(step.value); } let newElt = document.createElement(\"div\"); newElt.innerHTML = parts.join(\"\"); destElt.parentNode.replaceChild(newElt, destElt); for (let oldScript of newElt.querySelectorAll(\"script\")) { let newScript = document.createElement(\"script\"); newScript.type = oldScript.type; newScript.textContent = oldScript.textContent; oldScript.parentNode.replaceChild(newScript, oldScript); } })(); requestAnimationFrame(() => { observer.observe(destElt); }); } })(); </script><div id=\"compress_html_09a68656e4ad4c1b8c9493696a92e1f2\"><script>window.treescope_decompress_enqueue(\"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\", \"compress_html_09a68656e4ad4c1b8c9493696a92e1f2\");</script><span style=\"color: #aaaaaa; font-family: monospace\">(Loading...)</span></div></div>"
      ],
      "text/plain": [
       "<IPython.core.display.HTML object>"
      ]
     },
     "metadata": {},
     "output_type": "display_data"
    },
    {
     "data": {
      "text/html": [
       "<div id=\"output_dest_d975269a2e9e45ceb12cbdaf9062bc70\"><script> (()=>{ const output = document.getElementById(\"output_d975269a2e9e45ceb12cbdaf9062bc70\"); const dest = document.getElementById(\"output_dest_d975269a2e9e45ceb12cbdaf9062bc70\"); dest.parentNode.replaceChild(output, dest); })(); </script></div>"
      ],
      "text/plain": [
       "[(GetAttrKey(name='sublayers'),\n",
       "  SequenceKey(idx=0),\n",
       "  GetAttrKey(name='sublayers'),\n",
       "  SequenceKey(idx=0),\n",
       "  GetAttrKey(name='weights'),\n",
       "  GetAttrKey(name='value'),\n",
       "  GetAttrKey(name='data_array')),\n",
       " (GetAttrKey(name='sublayers'),\n",
       "  SequenceKey(idx=0),\n",
       "  GetAttrKey(name='sublayers'),\n",
       "  SequenceKey(idx=2),\n",
       "  GetAttrKey(name='bias'),\n",
       "  GetAttrKey(name='value'),\n",
       "  GetAttrKey(name='data_array')),\n",
       " (GetAttrKey(name='sublayers'),\n",
       "  SequenceKey(idx=2),\n",
       "  GetAttrKey(name='sublayers'),\n",
       "  SequenceKey(idx=0),\n",
       "  GetAttrKey(name='weights'),\n",
       "  GetAttrKey(name='value'),\n",
       "  GetAttrKey(name='data_array')),\n",
       " (GetAttrKey(name='sublayers'),\n",
       "  SequenceKey(idx=2),\n",
       "  GetAttrKey(name='sublayers'),\n",
       "  SequenceKey(idx=2),\n",
       "  GetAttrKey(name='bias'),\n",
       "  GetAttrKey(name='value'),\n",
       "  GetAttrKey(name='data_array')),\n",
       " (GetAttrKey(name='sublayers'),\n",
       "  SequenceKey(idx=4),\n",
       "  GetAttrKey(name='sublayers'),\n",
       "  SequenceKey(idx=0),\n",
       "  GetAttrKey(name='weights'),\n",
       "  GetAttrKey(name='value'),\n",
       "  GetAttrKey(name='data_array')),\n",
       " (GetAttrKey(name='sublayers'),\n",
       "  SequenceKey(idx=4),\n",
       "  GetAttrKey(name='sublayers'),\n",
       "  SequenceKey(idx=2),\n",
       "  GetAttrKey(name='bias'),\n",
       "  GetAttrKey(name='value'),\n",
       "  GetAttrKey(name='data_array'))]"
      ]
     },
     "execution_count": 70,
     "metadata": {},
     "output_type": "execute_result"
    }
   ],
   "source": [
    "[\n",
    "  key for key in\n",
    "  pz.select(mlp).at_instances_of(jax.Array).selected_by_path.keys()\n",
    "]"
   ]
  },
  {
   "cell_type": "code",
   "execution_count": 71,
   "metadata": {
    "execution": {
     "iopub.execute_input": "2024-05-28T18:17:04.306094Z",
     "iopub.status.busy": "2024-05-28T18:17:04.305861Z",
     "iopub.status.idle": "2024-05-28T18:17:04.314435Z",
     "shell.execute_reply": "2024-05-28T18:17:04.313553Z"
    },
    "id": "qzrhXuqcuYjA"
   },
   "outputs": [
    {
     "data": {
      "text/html": [
       "<div id=\"output_db3e34b645d2463b8a6e7486234ff20d\"><script> /* penzai.treescope rendering of a Python object (compressed) */ (()=>{ let observer; let lastStep = new Promise((resolve, reject) => { observer = new IntersectionObserver((entries) => { for (const entry of entries) { if (entry.isIntersecting) { resolve(); observer.disconnect(); return; } } }, {rootMargin: \"1000px\"}); }); window.treescope_decompress_enqueue = (encoded, destId) => { const previous = lastStep; const destElt = document.getElementById(destId); lastStep = (async () => { await previous; let blob = new Blob([ Uint8Array.from(atob(encoded), (m) => m.codePointAt(0)) ]); let reader = blob.stream().pipeThrough( new DecompressionStream(\"deflate\") ).pipeThrough( new TextDecoderStream(\"utf-8\") ).getReader(); let parts = []; while (true) { let step = await reader.read(); if (step.done) { break; } parts.push(step.value); } let newElt = document.createElement(\"div\"); newElt.innerHTML = parts.join(\"\"); destElt.parentNode.replaceChild(newElt, destElt); for (let oldScript of newElt.querySelectorAll(\"script\")) { let newScript = document.createElement(\"script\"); newScript.type = oldScript.type; newScript.textContent = oldScript.textContent; oldScript.parentNode.replaceChild(newScript, oldScript); } })(); requestAnimationFrame(() => { observer.observe(destElt); }); } })(); </script><div id=\"compress_html_c7f06a151a6e47fd960fc3c731860ba4\"><script>window.treescope_decompress_enqueue(\"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\", \"compress_html_c7f06a151a6e47fd960fc3c731860ba4\");</script><span style=\"color: #aaaaaa; font-family: monospace\">(Loading...)</span></div></div>"
      ],
      "text/plain": [
       "<IPython.core.display.HTML object>"
      ]
     },
     "metadata": {},
     "output_type": "display_data"
    },
    {
     "data": {
      "text/html": [
       "<div id=\"output_dest_db3e34b645d2463b8a6e7486234ff20d\"><script> (()=>{ const output = document.getElementById(\"output_db3e34b645d2463b8a6e7486234ff20d\"); const dest = document.getElementById(\"output_dest_db3e34b645d2463b8a6e7486234ff20d\"); dest.parentNode.replaceChild(output, dest); })(); </script></div>"
      ],
      "text/plain": [
       "['.sublayers[0].sublayers[0].weights.value.data_array',\n",
       " '.sublayers[0].sublayers[2].bias.value.data_array',\n",
       " '.sublayers[2].sublayers[0].weights.value.data_array',\n",
       " '.sublayers[2].sublayers[2].bias.value.data_array',\n",
       " '.sublayers[4].sublayers[0].weights.value.data_array',\n",
       " '.sublayers[4].sublayers[2].bias.value.data_array']"
      ]
     },
     "execution_count": 71,
     "metadata": {},
     "output_type": "execute_result"
    }
   ],
   "source": [
    "[\n",
    "  jax.tree_util.keystr(key) for key in\n",
    "  pz.select(mlp).at_instances_of(jax.Array).selected_by_path.keys()\n",
    "]"
   ]
  },
  {
   "cell_type": "code",
   "execution_count": 72,
   "metadata": {
    "execution": {
     "iopub.execute_input": "2024-05-28T18:17:04.317553Z",
     "iopub.status.busy": "2024-05-28T18:17:04.317293Z",
     "iopub.status.idle": "2024-05-28T18:17:04.325859Z",
     "shell.execute_reply": "2024-05-28T18:17:04.325162Z"
    },
    "id": "Ots2ZBckNwJo"
   },
   "outputs": [
    {
     "data": {
      "text/html": [
       "<div id=\"output_aaec2287fbe54078825413884be597dd\"><script> /* penzai.treescope rendering of a Python object (compressed) */ (()=>{ let observer; let lastStep = new Promise((resolve, reject) => { observer = new IntersectionObserver((entries) => { for (const entry of entries) { if (entry.isIntersecting) { resolve(); observer.disconnect(); return; } } }, {rootMargin: \"1000px\"}); }); window.treescope_decompress_enqueue = (encoded, destId) => { const previous = lastStep; const destElt = document.getElementById(destId); lastStep = (async () => { await previous; let blob = new Blob([ Uint8Array.from(atob(encoded), (m) => m.codePointAt(0)) ]); let reader = blob.stream().pipeThrough( new DecompressionStream(\"deflate\") ).pipeThrough( new TextDecoderStream(\"utf-8\") ).getReader(); let parts = []; while (true) { let step = await reader.read(); if (step.done) { break; } parts.push(step.value); } let newElt = document.createElement(\"div\"); newElt.innerHTML = parts.join(\"\"); destElt.parentNode.replaceChild(newElt, destElt); for (let oldScript of newElt.querySelectorAll(\"script\")) { let newScript = document.createElement(\"script\"); newScript.type = oldScript.type; newScript.textContent = oldScript.textContent; oldScript.parentNode.replaceChild(newScript, oldScript); } })(); requestAnimationFrame(() => { observer.observe(destElt); }); } })(); </script><div id=\"compress_html_a65bceab5e1f40ad985ec39386b3ec9d\"><script>window.treescope_decompress_enqueue(\"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\", \"compress_html_a65bceab5e1f40ad985ec39386b3ec9d\");</script><span style=\"color: #aaaaaa; font-family: monospace\">(Loading...)</span></div></div>"
      ],
      "text/plain": [
       "<IPython.core.display.HTML object>"
      ]
     },
     "metadata": {},
     "output_type": "display_data"
    },
    {
     "data": {
      "text/html": [
       "<div id=\"output_dest_aaec2287fbe54078825413884be597dd\"><script> (()=>{ const output = document.getElementById(\"output_aaec2287fbe54078825413884be597dd\"); const dest = document.getElementById(\"output_dest_aaec2287fbe54078825413884be597dd\"); dest.parentNode.replaceChild(output, dest); })(); </script></div>"
      ],
      "text/plain": [
       "['MLP.sublayers[0]/Affine.sublayers[0]/Linear.weights/Parameter.value/NamedArray.data_array',\n",
       " 'MLP.sublayers[0]/Affine.sublayers[2]/AddBias.bias/Parameter.value/NamedArray.data_array',\n",
       " 'MLP.sublayers[2]/Affine.sublayers[0]/Linear.weights/Parameter.value/NamedArray.data_array',\n",
       " 'MLP.sublayers[2]/Affine.sublayers[2]/AddBias.bias/Parameter.value/NamedArray.data_array',\n",
       " 'MLP.sublayers[4]/Affine.sublayers[0]/Linear.weights/Parameter.value/NamedArray.data_array',\n",
       " 'MLP.sublayers[4]/Affine.sublayers[2]/AddBias.bias/Parameter.value/NamedArray.data_array']"
      ]
     },
     "execution_count": 72,
     "metadata": {},
     "output_type": "execute_result"
    }
   ],
   "source": [
    "[\n",
    "  pz.pretty_keystr(key, mlp) for key in\n",
    "  pz.select(mlp).at_instances_of(jax.Array).selected_by_path.keys()\n",
    "]"
   ]
  },
  {
   "cell_type": "code",
   "execution_count": null,
   "metadata": {
    "id": "2FQPmfO2Nyof"
   },
   "outputs": [],
   "source": []
  }
 ],
 "metadata": {
  "colab": {
   "name": "Selectors and selections",
   "toc_visible": true
  },
  "kernelspec": {
   "display_name": "Python 3",
   "name": "python3"
  },
  "language_info": {
   "codemirror_mode": {
    "name": "ipython",
    "version": 3
   },
   "file_extension": ".py",
   "mimetype": "text/x-python",
   "name": "python",
   "nbconvert_exporter": "python",
   "pygments_lexer": "ipython3",
   "version": "3.10.12"
  }
 },
 "nbformat": 4,
 "nbformat_minor": 0
}
