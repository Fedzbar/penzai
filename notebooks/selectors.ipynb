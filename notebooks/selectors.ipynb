{
 "cells": [
  {
   "cell_type": "markdown",
   "metadata": {
    "id": "DfejMHs4lr8V"
   },
   "source": [
    "*Copyright 2024 The Penzai Authors.*\n",
    "\n",
    "*Licensed under the Apache License, Version 2.0 (the \"License\"); you may not use this file except in compliance with the License.\n",
    "You may obtain a copy of the License at*\n",
    "\n",
    "> http://www.apache.org/licenses/LICENSE-2.0\n",
    "\n",
    "*Unless required by applicable law or agreed to in writing, software\n",
    "distributed under the License is distributed on an \"AS IS\" BASIS,\n",
    "WITHOUT WARRANTIES OR CONDITIONS OF ANY KIND, either express or  implied.\n",
    "See the License for the specific language governing permissions and\n",
    "limitations under the License.*\n",
    "\n",
    "---"
   ]
  },
  {
   "cell_type": "markdown",
   "metadata": {
    "id": "USGIPdLYDzSo"
   },
   "source": [
    "[![Open in Colab](https://colab.research.google.com/assets/colab-badge.svg)](https://colab.research.google.com/github/google-deepmind/penzai/blob/main/notebooks/selectors.ipynb) [![Open in Kaggle](https://kaggle.com/static/images/open-in-kaggle.svg)](https://kaggle.com/kernels/welcome?src=https://github.com/google-deepmind/penzai/blob/main/notebooks/selectors.ipynb)"
   ]
  },
  {
   "cell_type": "markdown",
   "metadata": {
    "id": "RbZ02bVnH7LL"
   },
   "source": [
    "# Selectors and Selections"
   ]
  },
  {
   "cell_type": "markdown",
   "metadata": {
    "id": "FG4w_VU1H_WN"
   },
   "source": [
    "Penzai is designed to make it easy to make targeted modifications to models and parameter trees. For this purpose, Penzai provides a powerful \"selection\" system to allow you to identify, visualize, and modify arbitrary JAX PyTrees. In short, `pz.select` enables `.at[...].set(...)`-style modification for arbitrary PyTree types.\n",
    "\n",
    "This notebook describes the basics of Penzai's selection object and shows how you can use it to make a variety of modifications.\n"
   ]
  },
  {
   "cell_type": "markdown",
   "metadata": {
    "id": "SHr2rnIL8DzM"
   },
   "source": [
    "## Setup"
   ]
  },
  {
   "cell_type": "markdown",
   "metadata": {
    "id": "VkW4lYKAu-oR"
   },
   "source": [
    "We'll start by setting up the environment."
   ]
  },
  {
   "cell_type": "markdown",
   "metadata": {
    "id": "ozG8ERNavDos"
   },
   "source": [
    "### Imports"
   ]
  },
  {
   "cell_type": "markdown",
   "metadata": {
    "id": "xmxgAcFQmZkB"
   },
   "source": [
    "To run this notebook, you need a Python environment with `penzai` and its dependencies installed.\n",
    "\n",
    "In Colab or Kaggle, you can install it using the following command:"
   ]
  },
  {
   "cell_type": "code",
   "execution_count": 1,
   "metadata": {
    "execution": {
     "iopub.execute_input": "2024-06-27T23:19:10.839363Z",
     "iopub.status.busy": "2024-06-27T23:19:10.839117Z",
     "iopub.status.idle": "2024-06-27T23:19:10.841814Z",
     "shell.execute_reply": "2024-06-27T23:19:10.841452Z"
    },
    "id": "XGZH58j8mPkj"
   },
   "outputs": [],
   "source": [
    "try:\n",
    "  import penzai\n",
    "except ImportError:\n",
    "  !pip install penzai[notebook]"
   ]
  },
  {
   "cell_type": "code",
   "execution_count": 2,
   "metadata": {
    "execution": {
     "iopub.execute_input": "2024-06-27T23:19:10.845066Z",
     "iopub.status.busy": "2024-06-27T23:19:10.844817Z",
     "iopub.status.idle": "2024-06-27T23:19:11.262623Z",
     "shell.execute_reply": "2024-06-27T23:19:11.262395Z"
    },
    "id": "iog3oMAMGCMG"
   },
   "outputs": [],
   "source": [
    "from __future__ import annotations\n",
    "import typing\n",
    "import traceback\n",
    "\n",
    "import jax\n",
    "import jax.numpy as jnp"
   ]
  },
  {
   "cell_type": "code",
   "execution_count": 3,
   "metadata": {
    "execution": {
     "iopub.execute_input": "2024-06-27T23:19:11.266529Z",
     "iopub.status.busy": "2024-06-27T23:19:11.266278Z",
     "iopub.status.idle": "2024-06-27T23:19:11.443359Z",
     "shell.execute_reply": "2024-06-27T23:19:11.443512Z"
    },
    "id": "5Mh2mAuiQ4aa"
   },
   "outputs": [],
   "source": [
    "import penzai\n",
    "from penzai import pz"
   ]
  },
  {
   "cell_type": "code",
   "execution_count": 4,
   "metadata": {
    "execution": {
     "iopub.execute_input": "2024-06-27T23:19:11.447137Z",
     "iopub.status.busy": "2024-06-27T23:19:11.446905Z",
     "iopub.status.idle": "2024-06-27T23:19:11.450319Z",
     "shell.execute_reply": "2024-06-27T23:19:11.450147Z"
    },
    "id": "QMSmQSSzOOnj"
   },
   "outputs": [],
   "source": [
    "from penzai.example_models import simple_mlp"
   ]
  },
  {
   "cell_type": "markdown",
   "metadata": {
    "id": "OGzhV5uWvkvB"
   },
   "source": [
    "### Setting up Penzai"
   ]
  },
  {
   "cell_type": "markdown",
   "metadata": {
    "id": "TjGkV8F8vmpi"
   },
   "source": [
    "For this tutorial, we'll enable Treescope (Penzai's pretty-printer) as the default IPython pretty-printer. This is recommended when using Penzai in an interactive environment."
   ]
  },
  {
   "cell_type": "code",
   "execution_count": 5,
   "metadata": {
    "execution": {
     "iopub.execute_input": "2024-06-27T23:19:11.455386Z",
     "iopub.status.busy": "2024-06-27T23:19:11.455154Z",
     "iopub.status.idle": "2024-06-27T23:19:25.352597Z",
     "shell.execute_reply": "2024-06-27T23:19:25.352774Z"
    },
    "id": "YodWk_jmva_7"
   },
   "outputs": [],
   "source": [
    "pz.ts.register_as_default()\n",
    "pz.ts.register_autovisualize_magic()\n",
    "pz.ts.register_context_manager_magic()"
   ]
  },
  {
   "cell_type": "markdown",
   "metadata": {
    "id": "3egey4t42OTo"
   },
   "source": [
    "## What are selectors?"
   ]
  },
  {
   "cell_type": "markdown",
   "metadata": {
    "id": "SmFOag2y2UjQ"
   },
   "source": [
    "If you're familiar with JAX, you probably know that JAX arrays are immutable. This maens that it's not possible to directly assign to elements of a JAX array:"
   ]
  },
  {
   "cell_type": "code",
   "execution_count": 6,
   "metadata": {
    "execution": {
     "iopub.execute_input": "2024-06-27T23:19:25.363074Z",
     "iopub.status.busy": "2024-06-27T23:19:25.362667Z",
     "iopub.status.idle": "2024-06-27T23:19:26.291937Z",
     "shell.execute_reply": "2024-06-27T23:19:26.291705Z"
    },
    "id": "V4fKIMM4807s"
   },
   "outputs": [
    {
     "data": {
      "text/html": [
       "<div id=\"output_76af04d6211843b295c43f29be93a284\"><script> /* penzai.treescope rendering of a Python object (compressed) */ (()=>{ let observer; let lastStep = new Promise((resolve, reject) => { observer = new IntersectionObserver((entries) => { for (const entry of entries) { if (entry.isIntersecting) { resolve(); observer.disconnect(); return; } } }, {rootMargin: \"1000px\"}); }); window.treescope_decompress_enqueue = (encoded, destId) => { const previous = lastStep; const destElt = document.getElementById(destId); lastStep = (async () => { await previous; let blob = new Blob([ Uint8Array.from(atob(encoded), (m) => m.codePointAt(0)) ]); let reader = blob.stream().pipeThrough( new DecompressionStream(\"deflate\") ).pipeThrough( new TextDecoderStream(\"utf-8\") ).getReader(); let parts = []; while (true) { let step = await reader.read(); if (step.done) { break; } parts.push(step.value); } let newElt = document.createElement(\"div\"); newElt.innerHTML = parts.join(\"\"); destElt.parentNode.replaceChild(newElt, destElt); for (let oldScript of newElt.querySelectorAll(\"script\")) { let newScript = document.createElement(\"script\"); newScript.type = oldScript.type; newScript.textContent = oldScript.textContent; oldScript.parentNode.replaceChild(newScript, oldScript); } })(); requestAnimationFrame(() => { observer.observe(destElt); }); } })(); </script><div id=\"compress_html_3899566734b94830913ebf5f007e17b3\"><script>window.treescope_decompress_enqueue(\"eNrFV1lv4zYQ/iuzKpCVg1ixnc1RyTYQbFv0YdGXLdCHthBoaWSxpkmVpJK4C//3Din5lndTdNHaDzKHc3xzy2NjVwKnkdWIJlMVplopC5+gUoZbrmQMGgWz/AkTKJS0/YItuVjFsFRSmYplRH8uucW+P8RQaaIIbmzfq+7bVUVUqSSRZyxbzLWqZd7PlFA6bkQTaE8zQQykj+e2jKHgltikRWkTWDI957IvsLAxjLLS2ZDYL5HPS6IMo9sE1uPrxp2xyTSv7BR4AeEzl7l63nkIk8kECAIWpCDvka+nHPBpnZyQo7RCmXM5f8xcZAyx/fr7F9l+ZDIXTqWshejgnqNNj6I/gXAT9NSqHkymBPL6Ej4otaAkaLAlgueUKscILq9BoIVWdk/Up4aMh83dmwnkKquXFNBopvIVXFzAG3cTZYIZ84GSFrmAMy5NGByCCnrgQrWx4YQqpknT9wKXPkNrsmxrLf0lHTt81bX8qJR0Dj4rvWg9I5PGErJfiOSuDsiWZ45YoSbHl0xmGEn1HPa2rp3cQL8RGsPNyEHuqoHjVEYC5dyWVBow6KqIz+e08dtFAIXBHfSylg77F42bkhfWueQl3I81fV+LIdxwavyzRmMfJV8yx/GDZksMm7j2et0ZOYZS1aZscpO8JnAbEJMmFP8kdK+H3QkcJUnV+B0WqDXmP+OyorJHc1pAlXDEbeGTmF59RIGZVfpRCCr0VnZ/CNYyNVSpQS/xDRe6/iJNoAqv0DlKz72+0bhUT3jQNXs6znVCuMHq9Bda/YWuObzmZvAdwg2DZrA5lU6CTvuuZRrJjbYh93npV+TmMDE3RvyppeOLfd8Y27veERMPp+n1n9y40UjRyvA9tV8ekoYrx+DydDZXVs3nohkjqZ/+loD5KUcUFPYK8Im0t6FwZefP0QJXriMDHWxGDzHvxbzRGwZbnemSAAYbHGugfdAsgnHOn8ALTo7nGlg2I8D4MgkGAShJRgm93OPrxh/akpsN8oBWTrNI87YgUx+kUokcta9Fv+C+Yffu265SLxIDt0zwjPBGBbGzGZlyc/3MEl7DIVvaoCPunBsyutos22NGmIJgMxRxPEOqadxDlflP0mmv2bj9oVu57WIeJDtbXPo9PBPKbe6zNktqDn1qOWd6YZDNKdTyVDqWyoZHpJKZcOp1Tjvj4GXirMRsQcu9B5e9HQYn2i204T9A6Ms/hre/jW5n2dv/E96h0FmQd/8BSJdHZ7jWxiWwUpwQ6A673Hw9s74VvKG+7zdzrsa/jtWde24OnlqJuEkLro1NlUxd+Xe01udaKRrdum7qTBX8a/hNxo8hOq8O3qF9Q++9MVdMAs8nwXaAjRhj+fA+e7gdDt9hjowNsofB3T27y2/ePeTfBq1QO1YP+/7YPDE3Toy5rGrapbR/JoGHPVMvQaeS1kO6bLybjq+9MD1bXfv2uwZvML0QNvmDvUSPWrMVFEIxezMKh4MrGNKLXhRFcDG3CUWBNE2PH7Q0tn8lXv0CEva2W+dvAVrCcQ==\", \"compress_html_3899566734b94830913ebf5f007e17b3\");</script><span style=\"color: #aaaaaa; font-family: monospace\">(Loading...)</span></div></div>"
      ],
      "text/plain": [
       "<IPython.core.display.HTML object>"
      ]
     },
     "metadata": {},
     "output_type": "display_data"
    },
    {
     "data": {
      "text/html": [
       "<div id=\"compress_html_bb59c4c17b874d34a238266e3dd48182\"><script>window.treescope_decompress_enqueue(\"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\", \"compress_html_bb59c4c17b874d34a238266e3dd48182\");</script></div>"
      ],
      "text/plain": [
       "<IPython.core.display.HTML object>"
      ]
     },
     "metadata": {},
     "output_type": "display_data"
    },
    {
     "data": {
      "text/html": [
       "<div id=\"output_dest_76af04d6211843b295c43f29be93a284\"><script> (()=>{ const output = document.getElementById(\"output_76af04d6211843b295c43f29be93a284\"); const dest = document.getElementById(\"output_dest_76af04d6211843b295c43f29be93a284\"); dest.parentNode.replaceChild(output, dest); })(); </script></div>"
      ],
      "text/plain": [
       "# jax.Array float32(10, 10) ≈0.0 ±0.0 [≥0.0, ≤0.0] zero:100\n",
       "  Array([[0., 0., 0., 0., 0., 0., 0., 0., 0., 0.],\n",
       "         [0., 0., 0., 0., 0., 0., 0., 0., 0., 0.],\n",
       "         [0., 0., 0., 0., 0., 0., 0., 0., 0., 0.],\n",
       "         [0., 0., 0., 0., 0., 0., 0., 0., 0., 0.],\n",
       "         [0., 0., 0., 0., 0., 0., 0., 0., 0., 0.],\n",
       "         [0., 0., 0., 0., 0., 0., 0., 0., 0., 0.],\n",
       "         [0., 0., 0., 0., 0., 0., 0., 0., 0., 0.],\n",
       "         [0., 0., 0., 0., 0., 0., 0., 0., 0., 0.],\n",
       "         [0., 0., 0., 0., 0., 0., 0., 0., 0., 0.],\n",
       "         [0., 0., 0., 0., 0., 0., 0., 0., 0., 0.]], dtype=float32)\n"
      ]
     },
     "execution_count": 6,
     "metadata": {},
     "output_type": "execute_result"
    }
   ],
   "source": [
    "array = jnp.zeros((10, 10))\n",
    "array"
   ]
  },
  {
   "cell_type": "code",
   "execution_count": 7,
   "metadata": {
    "execution": {
     "iopub.execute_input": "2024-06-27T23:19:26.296437Z",
     "iopub.status.busy": "2024-06-27T23:19:26.296189Z",
     "iopub.status.idle": "2024-06-27T23:19:26.299144Z",
     "shell.execute_reply": "2024-06-27T23:19:26.299262Z"
    },
    "id": "HYD71Mqo89Bf"
   },
   "outputs": [
    {
     "name": "stderr",
     "output_type": "stream",
     "text": [
      "Traceback (most recent call last):\n",
      "  File \"<ipython-input-7-5c112bb0ee90>\", line 2, in <cell line: 1>\n",
      "    array[1, 2] = 42\n",
      "  File \"/usr/local/lib/python3.10/dist-packages/jax/_src/numpy/array_methods.py\", line 278, in _unimplemented_setitem\n",
      "    raise TypeError(msg.format(type(self)))\n",
      "TypeError: '<class 'jaxlib.xla_extension.ArrayImpl'>' object does not support item assignment. JAX arrays are immutable. Instead of ``x[idx] = y``, use ``x = x.at[idx].set(y)`` or another .at[] method: https://jax.readthedocs.io/en/latest/_autosummary/jax.numpy.ndarray.at.html\n"
     ]
    }
   ],
   "source": [
    "try:\n",
    "  array[1, 2] = 42\n",
    "except TypeError:\n",
    "  import traceback\n",
    "  traceback.print_exc()"
   ]
  },
  {
   "cell_type": "markdown",
   "metadata": {
    "id": "GyEJo0EV9Kld"
   },
   "source": [
    "Instead, to modify a JAX array you can use the special `.at` property, which returns a modified copy of the original array with changes at the location you specified:"
   ]
  },
  {
   "cell_type": "code",
   "execution_count": 8,
   "metadata": {
    "execution": {
     "iopub.execute_input": "2024-06-27T23:19:26.307869Z",
     "iopub.status.busy": "2024-06-27T23:19:26.307609Z",
     "iopub.status.idle": "2024-06-27T23:19:26.527557Z",
     "shell.execute_reply": "2024-06-27T23:19:26.527287Z"
    },
    "id": "o6Ydo5jt8_Oo"
   },
   "outputs": [
    {
     "data": {
      "text/html": [
       "<div id=\"output_515c4851a1ff4ecb98ae849b9616b4d0\"><script> /* penzai.treescope rendering of a Python object (compressed) */ (()=>{ let observer; let lastStep = new Promise((resolve, reject) => { observer = new IntersectionObserver((entries) => { for (const entry of entries) { if (entry.isIntersecting) { resolve(); observer.disconnect(); return; } } }, {rootMargin: \"1000px\"}); }); window.treescope_decompress_enqueue = (encoded, destId) => { const previous = lastStep; const destElt = document.getElementById(destId); lastStep = (async () => { await previous; let blob = new Blob([ Uint8Array.from(atob(encoded), (m) => m.codePointAt(0)) ]); let reader = blob.stream().pipeThrough( new DecompressionStream(\"deflate\") ).pipeThrough( new TextDecoderStream(\"utf-8\") ).getReader(); let parts = []; while (true) { let step = await reader.read(); if (step.done) { break; } parts.push(step.value); } let newElt = document.createElement(\"div\"); newElt.innerHTML = parts.join(\"\"); destElt.parentNode.replaceChild(newElt, destElt); for (let oldScript of newElt.querySelectorAll(\"script\")) { let newScript = document.createElement(\"script\"); newScript.type = oldScript.type; newScript.textContent = oldScript.textContent; oldScript.parentNode.replaceChild(newScript, oldScript); } })(); requestAnimationFrame(() => { observer.observe(destElt); }); } })(); </script><div id=\"compress_html_cfda5932c17a426fac74793935d4fc4f\"><script>window.treescope_decompress_enqueue(\"eNrFV1tv2zYU/iunGpDKQaw49rK0km0g6DrsodhLB+xhGwRKOrK40KRGUkm8wv99h5R8l9sMKzb7QebhuXznLk+NXQmcR1YjmlzVmGqlLHyCWhluuZIxaBTM8kdMoFTSDku25GIVw1JJZWqWE/2p4haH/hBDrYkiuLFDr3poVzVRpZJEzlj+sNCqkcUwV0LpuBVNoDtlghhIHy9sFUPJLbFJi9ImsGR6weVQYGljGOeVsyFxWCFfVES5iW4TWE+vW3emJte8tnPgJYRPXBbqaechzGYzIAhYkoJiQL6ecsCndXJCjtIaZcHl4j53kTHE9uvvX2T7kclCOJWyEaKHe4E2PYr+DMJN0FOrBjCbE8jrS/ig1AMlQYOtEDynVAVGcHkNAi10snuiPjVkPGzvXs2gUHmzpIBGmSpWcHEBr9xNlAtmzAdKWuQCzrg0YXAIKhiAC9XGhhOqmSZN7wUufYbWZNk2WvpLOvb4qhv5USnpHHxS+qHzjEwaS8h+IZK7OiBbnjtijZocXzKZYyTVUzjYunZyA8NWaAqTsYPcVwPHqYwEyoWtqDRg1FcRn89p67eLAAqDO+hVIx32Lxo3FS+tc8lLuB9r+r4UQ7jh1Phng8beS75kjuMHzZYYtnEdDPozcgylbkzV5iZ5SeA2IGZtKP5J6F4Ouxc4SpJq8HssUWssfsZlTWWP5rSAauGI28InMb36iAJzq/S9EFTonez+EGxkaqhSg0HiGy50/UWaQJVeoXOUnnt9o3GpHvGga/Z0nOuEcIPV6S+1+gtdc3jN7eA7hBsG7WBzKp0EnfZdyzWSG11D7vPSr8jNYWJujfhTR8dn+641tne9IyYeTtvrP7lxo5GileM7ar8iJA1XjsHl6WyurFosRDtGUj/9LQHzU44oKOwV4CNp70Lhys6fowdcuY4MdLAZPcS8F/NWbxhsdaZLAhhscKyB9kG7CKYFfwQvODuea2BZRoDxeRaMAlCSjBJ6ucfXjz+0FTcb5AGtnHaRFl1Bpj5IlRIFal+LfsF9w+7ct1ulXiQGbpngOeGNSmJnGZlyc/3MEl7DIVvaoiPughsyutos22NGmINgGYo4zpBqGvdQ5f6T9NprN+7wxq3cbjGPkp0tLv0ezoRym/uszYqaQ59aLph+MMgWFGp5Kh1LZcMjUsVMOPc6571x8DJxXmH+QMt9AJeDHQYn2i+04T9A6Ms/hte/jW+z/PX/Ce9Q6CzI7/4DkC6PznCjjUtgrTgh0D12ufl6Zn0reEND32/mXI1/Has799wcPLUScZOWXBubKpm68u9prc+1UjS+dd3Umyr41/DbjB9DdF4dvEP7ht57Y66ZBF7Mgu0AG73B/C57M5mMs8m32eju7Qjfjt8wzMc4ySeMBZ1QN1YP+/7YPDG3Tky5rBvapbR/ZoGHnannoFdJ5yFdtt7Np9demJ6drn37fYM3mF8Im/zBnqN7rdkKSqGYnYzDm9EV3NCLXhRFcLGwCUWBNM2PH7Q0tn8lXvwCEg62W+dvv2/CQg==\", \"compress_html_cfda5932c17a426fac74793935d4fc4f\");</script><span style=\"color: #aaaaaa; font-family: monospace\">(Loading...)</span></div></div>"
      ],
      "text/plain": [
       "<IPython.core.display.HTML object>"
      ]
     },
     "metadata": {},
     "output_type": "display_data"
    },
    {
     "data": {
      "text/html": [
       "<div id=\"compress_html_b2102360598e40f3a0636545a3f33994\"><script>window.treescope_decompress_enqueue(\"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\", \"compress_html_b2102360598e40f3a0636545a3f33994\");</script></div>"
      ],
      "text/plain": [
       "<IPython.core.display.HTML object>"
      ]
     },
     "metadata": {},
     "output_type": "display_data"
    },
    {
     "data": {
      "text/html": [
       "<div id=\"output_dest_515c4851a1ff4ecb98ae849b9616b4d0\"><script> (()=>{ const output = document.getElementById(\"output_515c4851a1ff4ecb98ae849b9616b4d0\"); const dest = document.getElementById(\"output_dest_515c4851a1ff4ecb98ae849b9616b4d0\"); dest.parentNode.replaceChild(output, dest); })(); </script></div>"
      ],
      "text/plain": [
       "# jax.Array float32(10, 10) ≈0.42 ±4.2 [≥0.0, ≤4.2e+01] zero:99 nonzero:1\n",
       "  Array([[ 0.,  0.,  0.,  0.,  0.,  0.,  0.,  0.,  0.,  0.],\n",
       "         [ 0.,  0., 42.,  0.,  0.,  0.,  0.,  0.,  0.,  0.],\n",
       "         [ 0.,  0.,  0.,  0.,  0.,  0.,  0.,  0.,  0.,  0.],\n",
       "         [ 0.,  0.,  0.,  0.,  0.,  0.,  0.,  0.,  0.,  0.],\n",
       "         [ 0.,  0.,  0.,  0.,  0.,  0.,  0.,  0.,  0.,  0.],\n",
       "         [ 0.,  0.,  0.,  0.,  0.,  0.,  0.,  0.,  0.,  0.],\n",
       "         [ 0.,  0.,  0.,  0.,  0.,  0.,  0.,  0.,  0.,  0.],\n",
       "         [ 0.,  0.,  0.,  0.,  0.,  0.,  0.,  0.,  0.,  0.],\n",
       "         [ 0.,  0.,  0.,  0.,  0.,  0.,  0.,  0.,  0.,  0.],\n",
       "         [ 0.,  0.,  0.,  0.,  0.,  0.,  0.,  0.,  0.,  0.]], dtype=float32)\n"
      ]
     },
     "execution_count": 8,
     "metadata": {},
     "output_type": "execute_result"
    }
   ],
   "source": [
    "modified_array = array.at[1, 2].set(42)\n",
    "modified_array"
   ]
  },
  {
   "cell_type": "markdown",
   "metadata": {
    "id": "AfD7GKrc-KFP"
   },
   "source": [
    "JAX also introduces the concept of [PyTrees](https://jax.readthedocs.io/en/latest/pytrees.html): nested containers of data that JAX knows how to traverse. Most JAX transformations are designed to work with functions that take PyTrees as input and return PyTrees as output.\n",
    "\n",
    "Although JAX does treat dictionaries and lists as PyTrees, JAX usually assumes that those trees will not be mutated, and expects the user to write code in a functional style, avoiding mutating its arguments directly.\n",
    "\n",
    "**`pz.select` enables `.at[...].set(...)`-style modification for arbitrary PyTrees**, making it possible to perform complex path-based and type-driven modifications to the objects you're already using:"
   ]
  },
  {
   "cell_type": "code",
   "execution_count": 9,
   "metadata": {
    "execution": {
     "iopub.execute_input": "2024-06-27T23:19:26.537040Z",
     "iopub.status.busy": "2024-06-27T23:19:26.536803Z",
     "iopub.status.idle": "2024-06-27T23:19:26.611077Z",
     "shell.execute_reply": "2024-06-27T23:19:26.610875Z"
    },
    "id": "qMN5Bzdq-A7q"
   },
   "outputs": [],
   "source": [
    "my_nested_object = {\n",
    "    \"a\": 1,\n",
    "    \"b\": jnp.arange(10),\n",
    "    \"c\": [\n",
    "        {\"value\": jnp.arange(12)},\n",
    "        {\"value\": jnp.zeros([7])},\n",
    "        {\"value\": 3},\n",
    "    ]\n",
    "}"
   ]
  },
  {
   "cell_type": "code",
   "execution_count": 10,
   "metadata": {
    "execution": {
     "iopub.execute_input": "2024-06-27T23:19:26.622543Z",
     "iopub.status.busy": "2024-06-27T23:19:26.622224Z",
     "iopub.status.idle": "2024-06-27T23:19:26.689902Z",
     "shell.execute_reply": "2024-06-27T23:19:26.689713Z"
    },
    "id": "yPqRBFmD9N4V"
   },
   "outputs": [
    {
     "data": {
      "text/html": [
       "<div id=\"output_fea68fe8a37544529944bd95f30dc8ea\"><script> /* penzai.treescope rendering of a Python object (compressed) */ (()=>{ let observer; let lastStep = new Promise((resolve, reject) => { observer = new IntersectionObserver((entries) => { for (const entry of entries) { if (entry.isIntersecting) { resolve(); observer.disconnect(); return; } } }, {rootMargin: \"1000px\"}); }); window.treescope_decompress_enqueue = (encoded, destId) => { const previous = lastStep; const destElt = document.getElementById(destId); lastStep = (async () => { await previous; let blob = new Blob([ Uint8Array.from(atob(encoded), (m) => m.codePointAt(0)) ]); let reader = blob.stream().pipeThrough( new DecompressionStream(\"deflate\") ).pipeThrough( new TextDecoderStream(\"utf-8\") ).getReader(); let parts = []; while (true) { let step = await reader.read(); if (step.done) { break; } parts.push(step.value); } let newElt = document.createElement(\"div\"); newElt.innerHTML = parts.join(\"\"); destElt.parentNode.replaceChild(newElt, destElt); for (let oldScript of newElt.querySelectorAll(\"script\")) { let newScript = document.createElement(\"script\"); newScript.type = oldScript.type; newScript.textContent = oldScript.textContent; oldScript.parentNode.replaceChild(newScript, oldScript); } })(); requestAnimationFrame(() => { observer.observe(destElt); }); } })(); </script><div id=\"compress_html_f0fa63afba0c422d80fb99ca35d67dd0\"><script>window.treescope_decompress_enqueue(\"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\", \"compress_html_f0fa63afba0c422d80fb99ca35d67dd0\");</script><span style=\"color: #aaaaaa; font-family: monospace\">(Loading...)</span></div></div>"
      ],
      "text/plain": [
       "<IPython.core.display.HTML object>"
      ]
     },
     "metadata": {},
     "output_type": "display_data"
    },
    {
     "data": {
      "text/html": [
       "<div id=\"compress_html_f59fbd49b6724c2c999e7d43ea549275\"><script>window.treescope_decompress_enqueue(\"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\", \"compress_html_f59fbd49b6724c2c999e7d43ea549275\");</script></div>"
      ],
      "text/plain": [
       "<IPython.core.display.HTML object>"
      ]
     },
     "metadata": {},
     "output_type": "display_data"
    },
    {
     "data": {
      "text/html": [
       "<div id=\"output_dest_fea68fe8a37544529944bd95f30dc8ea\"><script> (()=>{ const output = document.getElementById(\"output_fea68fe8a37544529944bd95f30dc8ea\"); const dest = document.getElementById(\"output_dest_fea68fe8a37544529944bd95f30dc8ea\"); dest.parentNode.replaceChild(output, dest); })(); </script></div>"
      ],
      "text/plain": [
       "{'a': 1,\n",
       " 'b': <jax.Array([0, 1, 2, 3, 4, 5, 6, 7, 8, 9], dtype=int32)>,\n",
       " 'c': [{'value': <jax.Array([100, 101, 102, 103, 104, 105, 106, 107, 108, 109, 110, 111], dtype=int32)>},\n",
       "  {'value': <jax.Array([100., 100., 100., 100., 100., 100., 100.], dtype=float32)>},\n",
       "  {'value': 103}]}"
      ]
     },
     "execution_count": 10,
     "metadata": {},
     "output_type": "execute_result"
    }
   ],
   "source": [
    "(\n",
    "    pz.select(my_nested_object)\n",
    "      .at(lambda root: root[\"c\"])\n",
    "      .at_instances_of(jax.typing.ArrayLike)\n",
    "      .apply(lambda value: value + 100)\n",
    ")"
   ]
  },
  {
   "cell_type": "markdown",
   "metadata": {
    "id": "4vKkkNk5-cmj"
   },
   "source": [
    "Selectors are first-class objects, defined in `penzai.core.selectors` but aliased to `pz.select` and `pz.Selection`. Internally, they are ordinary PyTrees:\n"
   ]
  },
  {
   "cell_type": "code",
   "execution_count": 11,
   "metadata": {
    "execution": {
     "iopub.execute_input": "2024-06-27T23:19:26.696145Z",
     "iopub.status.busy": "2024-06-27T23:19:26.695916Z",
     "iopub.status.idle": "2024-06-27T23:19:26.713906Z",
     "shell.execute_reply": "2024-06-27T23:19:26.713733Z"
    },
    "id": "Y58Ll7sO_qjo"
   },
   "outputs": [
    {
     "data": {
      "text/html": [
       "<script> /* penzai.treescope rendering of a Python object (compressed) */ (()=>{ let observer; let lastStep = new Promise((resolve, reject) => { observer = new IntersectionObserver((entries) => { for (const entry of entries) { if (entry.isIntersecting) { resolve(); observer.disconnect(); return; } } }, {rootMargin: \"1000px\"}); }); window.treescope_decompress_enqueue = (encoded, destId) => { const previous = lastStep; const destElt = document.getElementById(destId); lastStep = (async () => { await previous; let blob = new Blob([ Uint8Array.from(atob(encoded), (m) => m.codePointAt(0)) ]); let reader = blob.stream().pipeThrough( new DecompressionStream(\"deflate\") ).pipeThrough( new TextDecoderStream(\"utf-8\") ).getReader(); let parts = []; while (true) { let step = await reader.read(); if (step.done) { break; } parts.push(step.value); } let newElt = document.createElement(\"div\"); newElt.innerHTML = parts.join(\"\"); destElt.parentNode.replaceChild(newElt, destElt); for (let oldScript of newElt.querySelectorAll(\"script\")) { let newScript = document.createElement(\"script\"); newScript.type = oldScript.type; newScript.textContent = oldScript.textContent; oldScript.parentNode.replaceChild(newScript, oldScript); } })(); requestAnimationFrame(() => { observer.observe(destElt); }); } })(); </script><div id=\"compress_html_af1c078a7d684c60a150b27a30536c1b\"><script>window.treescope_decompress_enqueue(\"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\", \"compress_html_af1c078a7d684c60a150b27a30536c1b\");</script><span style=\"color: #aaaaaa; font-family: monospace\">(Loading...)</span></div>"
      ],
      "text/plain": [
       "TreescopeRenderingFigure(child=PreventWordWrap(child=Siblings(children=(FoldableTreeNodeImpl(contents=Siblings(children=(IndentedChildren(children=[Siblings(children=(PyTreeNodeFieldName(child=Text(text='selected_by_path')), Text(text='='), WithDynamicSharedPip(child=FoldableTreeNodeImpl(contents=Siblings(children=(StringCopyButton(copy_string='(lambda root: root.selected_by_path)', annotation='Copy path: '), IndentedChildren(children=[Siblings(children=(FoldableTreeNodeImpl(contents=Siblings(children=(IndentedChildren(children=[Siblings(children=(FoldableTreeNodeImpl(contents=Siblings(children=(IndentedChildren(children=[Siblings(children=(Text(text='key'), Text(text='='), HyperlinkTarget(child=StringLiteralColor(child=Text(text=\"'c'\")), keypath=None), FoldCondition(collapsed=EmptyPart(), expanded=Text(text=','))))]), Text(text=')'))), label=HyperlinkTarget(child=Siblings(children=(RoundtripCondition(roundtrip=QualifiedTypeNameSpanGroup(child=Text(text='jax.tree_util.')), not_roundtrip=EmptyPart()), Text(text='DictKey'), Text(text='('))), keypath=None), expand_state=<ExpandState.COLLAPSED: 'collapsed'>), Text(text=','), FoldCondition(collapsed=Text(text=' '), expanded=EmptyPart()))), Siblings(children=(FoldableTreeNodeImpl(contents=Siblings(children=(IndentedChildren(children=[Siblings(children=(Text(text='idx'), Text(text='='), HyperlinkTarget(child=NumberColor(child=Text(text='0')), keypath=None), FoldCondition(collapsed=EmptyPart(), expanded=Text(text=','))))]), Text(text=')'))), label=HyperlinkTarget(child=Siblings(children=(RoundtripCondition(roundtrip=QualifiedTypeNameSpanGroup(child=Text(text='jax.tree_util.')), not_roundtrip=EmptyPart()), Text(text='SequenceKey'), Text(text='('))), keypath=None), expand_state=<ExpandState.COLLAPSED: 'collapsed'>), Text(text=','), FoldCondition(collapsed=Text(text=' '), expanded=EmptyPart()))), Siblings(children=(FoldableTreeNodeImpl(contents=Siblings(children=(IndentedChildren(children=[Siblings(children=(Text(text='key'), Text(text='='), HyperlinkTarget(child=StringLiteralColor(child=Text(text=\"'value'\")), keypath=None), FoldCondition(collapsed=EmptyPart(), expanded=Text(text=','))))]), Text(text=')'))), label=HyperlinkTarget(child=Siblings(children=(RoundtripCondition(roundtrip=QualifiedTypeNameSpanGroup(child=Text(text='jax.tree_util.')), not_roundtrip=EmptyPart()), Text(text='DictKey'), Text(text='('))), keypath=None), expand_state=<ExpandState.COLLAPSED: 'collapsed'>), FoldCondition(collapsed=EmptyPart(), expanded=Text(text=','))))]), Text(text=')'))), label=HyperlinkTarget(child=Text(text='('), keypath=None), expand_state=<ExpandState.COLLAPSED: 'collapsed'>), Text(text=':'), FoldCondition(collapsed=Text(text=' '), expanded=EmptyPart()), IndentedChildren(children=[Siblings(children=(RoundtripCondition(roundtrip=WithBlockColor(child=FoldableTreeNodeImpl(contents=Siblings(children=(ColoredBorderIndentedChildren(children=[Siblings(children=(Text(text='original_repr'), Text(text='='), HyperlinkTarget(child=StringLiteralColor(child=Text(text=\"'Array([ 0,  1,  2,  3,  4,  5,  6,  7,  8,  9, 10, 11], dtype=int32)'\")), keypath=(GetAttrKey(name='original_repr'),)), Text(text=','), FoldCondition(collapsed=Text(text=' '), expanded=EmptyPart()), FoldCondition(collapsed=EmptyPart(), expanded=Siblings(children=(StringCopyButton(copy_string='(lambda root: root.original_repr)', annotation='Copy path: '),))))), Siblings(children=(Text(text='original_id'), Text(text='='), HyperlinkTarget(child=NumberColor(child=Text(text='100242560940400')), keypath=(GetAttrKey(name='original_id'),)), Text(text=','), FoldCondition(collapsed=Text(text=' '), expanded=EmptyPart()), FoldCondition(collapsed=EmptyPart(), expanded=Siblings(children=(StringCopyButton(copy_string='(lambda root: root.original_id)', annotation='Copy path: '),))))), Siblings(children=(Text(text='original_type'), Text(text='='), HyperlinkTarget(child=FoldableTreeNodeImpl(contents=FoldCondition(collapsed=EmptyPart(), expanded=IndentedChildren(children=[Siblings(children=(HyperlinkTarget(child=AbbreviationColor(child=Text(text=\"<class 'jax.Array'>\")), keypath=(GetAttrKey(name='original_type'),)), FoldCondition(collapsed=EmptyPart(), expanded=Siblings(children=(StringCopyButton(copy_string='(lambda root: root.original_type)', annotation='Copy path: '),)))))])), label=CommentColorWhenExpanded(child=Siblings(children=(FoldCondition(collapsed=EmptyPart(), expanded=Text(text='# ')), QualifiedTypeNameSpanGroup(child=Text(text='jax.')), Text(text='Array')))), expand_state=<ExpandState.COLLAPSED: 'collapsed'>), keypath=(GetAttrKey(name='original_type'),)), FoldCondition(collapsed=EmptyPart(), expanded=Text(text=',')), FoldCondition(collapsed=EmptyPart(), expanded=Siblings(children=(StringCopyButton(copy_string='(lambda root: root.original_type)', annotation='Copy path: '),)))))]), ColoredBottomLineSpanGroup(child=Text(text=')')))), label=HyperlinkTarget(child=ColoredTopLineSpanGroup(child=Siblings(children=(RoundtripCondition(roundtrip=QualifiedTypeNameSpanGroup(child=Text(text='penzai.treescope.copypaste_fallback.')), not_roundtrip=EmptyPart()), Text(text='NotRoundtrippable'), Text(text='(')))), keypath=()), expand_state=<ExpandState.WEAKLY_COLLAPSED: 'weakly_collapsed'>), color='#db845a'), not_roundtrip=AbbreviationColor(child=Text(text='<jax.Array([ 0,  1,  2,  3,  4,  5,  6,  7,  8,  9, 10, 11], dtype=int32)>'))), Text(text=','), FoldCondition(collapsed=Text(text=' '), expanded=EmptyPart()), FoldCondition(collapsed=EmptyPart(), expanded=Siblings(children=(StringCopyButton(copy_string=\"(lambda root: root.selected_by_path[(DictKey(key='c'), SequenceKey(idx=0), DictKey(key='value'))])\", annotation='Copy path: '),))))), Siblings(children=(FoldCondition(collapsed=EmptyPart(), expanded=VerticalSpace(height='0.5em')),))]))), Siblings(children=(FoldableTreeNodeImpl(contents=Siblings(children=(IndentedChildren(children=[Siblings(children=(FoldableTreeNodeImpl(contents=Siblings(children=(IndentedChildren(children=[Siblings(children=(Text(text='key'), Text(text='='), HyperlinkTarget(child=StringLiteralColor(child=Text(text=\"'c'\")), keypath=None), FoldCondition(collapsed=EmptyPart(), expanded=Text(text=','))))]), Text(text=')'))), label=HyperlinkTarget(child=Siblings(children=(RoundtripCondition(roundtrip=QualifiedTypeNameSpanGroup(child=Text(text='jax.tree_util.')), not_roundtrip=EmptyPart()), Text(text='DictKey'), Text(text='('))), keypath=None), expand_state=<ExpandState.COLLAPSED: 'collapsed'>), Text(text=','), FoldCondition(collapsed=Text(text=' '), expanded=EmptyPart()))), Siblings(children=(FoldableTreeNodeImpl(contents=Siblings(children=(IndentedChildren(children=[Siblings(children=(Text(text='idx'), Text(text='='), HyperlinkTarget(child=NumberColor(child=Text(text='1')), keypath=None), FoldCondition(collapsed=EmptyPart(), expanded=Text(text=','))))]), Text(text=')'))), label=HyperlinkTarget(child=Siblings(children=(RoundtripCondition(roundtrip=QualifiedTypeNameSpanGroup(child=Text(text='jax.tree_util.')), not_roundtrip=EmptyPart()), Text(text='SequenceKey'), Text(text='('))), keypath=None), expand_state=<ExpandState.COLLAPSED: 'collapsed'>), Text(text=','), FoldCondition(collapsed=Text(text=' '), expanded=EmptyPart()))), Siblings(children=(FoldableTreeNodeImpl(contents=Siblings(children=(IndentedChildren(children=[Siblings(children=(Text(text='key'), Text(text='='), HyperlinkTarget(child=StringLiteralColor(child=Text(text=\"'value'\")), keypath=None), FoldCondition(collapsed=EmptyPart(), expanded=Text(text=','))))]), Text(text=')'))), label=HyperlinkTarget(child=Siblings(children=(RoundtripCondition(roundtrip=QualifiedTypeNameSpanGroup(child=Text(text='jax.tree_util.')), not_roundtrip=EmptyPart()), Text(text='DictKey'), Text(text='('))), keypath=None), expand_state=<ExpandState.COLLAPSED: 'collapsed'>), FoldCondition(collapsed=EmptyPart(), expanded=Text(text=','))))]), Text(text=')'))), label=HyperlinkTarget(child=Text(text='('), keypath=None), expand_state=<ExpandState.COLLAPSED: 'collapsed'>), Text(text=':'), FoldCondition(collapsed=Text(text=' '), expanded=EmptyPart()), IndentedChildren(children=[Siblings(children=(RoundtripCondition(roundtrip=WithBlockColor(child=FoldableTreeNodeImpl(contents=Siblings(children=(ColoredBorderIndentedChildren(children=[Siblings(children=(Text(text='original_repr'), Text(text='='), HyperlinkTarget(child=StringLiteralColor(child=Text(text=\"'Array([0., 0., 0., 0., 0., 0., 0.], dtype=float32)'\")), keypath=(GetAttrKey(name='original_repr'),)), Text(text=','), FoldCondition(collapsed=Text(text=' '), expanded=EmptyPart()), FoldCondition(collapsed=EmptyPart(), expanded=Siblings(children=(StringCopyButton(copy_string='(lambda root: root.original_repr)', annotation='Copy path: '),))))), Siblings(children=(Text(text='original_id'), Text(text='='), HyperlinkTarget(child=NumberColor(child=Text(text='100242559603168')), keypath=(GetAttrKey(name='original_id'),)), Text(text=','), FoldCondition(collapsed=Text(text=' '), expanded=EmptyPart()), FoldCondition(collapsed=EmptyPart(), expanded=Siblings(children=(StringCopyButton(copy_string='(lambda root: root.original_id)', annotation='Copy path: '),))))), Siblings(children=(Text(text='original_type'), Text(text='='), HyperlinkTarget(child=FoldableTreeNodeImpl(contents=FoldCondition(collapsed=EmptyPart(), expanded=IndentedChildren(children=[Siblings(children=(HyperlinkTarget(child=AbbreviationColor(child=Text(text=\"<class 'jax.Array'>\")), keypath=(GetAttrKey(name='original_type'),)), FoldCondition(collapsed=EmptyPart(), expanded=Siblings(children=(StringCopyButton(copy_string='(lambda root: root.original_type)', annotation='Copy path: '),)))))])), label=CommentColorWhenExpanded(child=Siblings(children=(FoldCondition(collapsed=EmptyPart(), expanded=Text(text='# ')), QualifiedTypeNameSpanGroup(child=Text(text='jax.')), Text(text='Array')))), expand_state=<ExpandState.COLLAPSED: 'collapsed'>), keypath=(GetAttrKey(name='original_type'),)), FoldCondition(collapsed=EmptyPart(), expanded=Text(text=',')), FoldCondition(collapsed=EmptyPart(), expanded=Siblings(children=(StringCopyButton(copy_string='(lambda root: root.original_type)', annotation='Copy path: '),)))))]), ColoredBottomLineSpanGroup(child=Text(text=')')))), label=HyperlinkTarget(child=ColoredTopLineSpanGroup(child=Siblings(children=(RoundtripCondition(roundtrip=QualifiedTypeNameSpanGroup(child=Text(text='penzai.treescope.copypaste_fallback.')), not_roundtrip=EmptyPart()), Text(text='NotRoundtrippable'), Text(text='(')))), keypath=()), expand_state=<ExpandState.WEAKLY_COLLAPSED: 'weakly_collapsed'>), color='#db845a'), not_roundtrip=AbbreviationColor(child=Text(text='<jax.Array([0., 0., 0., 0., 0., 0., 0.], dtype=float32)>'))), Text(text=','), FoldCondition(collapsed=Text(text=' '), expanded=EmptyPart()), FoldCondition(collapsed=EmptyPart(), expanded=Siblings(children=(StringCopyButton(copy_string=\"(lambda root: root.selected_by_path[(DictKey(key='c'), SequenceKey(idx=1), DictKey(key='value'))])\", annotation='Copy path: '),))))), Siblings(children=(FoldCondition(collapsed=EmptyPart(), expanded=VerticalSpace(height='0.5em')),))]))), Siblings(children=(FoldableTreeNodeImpl(contents=Siblings(children=(IndentedChildren(children=[Siblings(children=(FoldableTreeNodeImpl(contents=Siblings(children=(IndentedChildren(children=[Siblings(children=(Text(text='key'), Text(text='='), HyperlinkTarget(child=StringLiteralColor(child=Text(text=\"'c'\")), keypath=None), FoldCondition(collapsed=EmptyPart(), expanded=Text(text=','))))]), Text(text=')'))), label=HyperlinkTarget(child=Siblings(children=(RoundtripCondition(roundtrip=QualifiedTypeNameSpanGroup(child=Text(text='jax.tree_util.')), not_roundtrip=EmptyPart()), Text(text='DictKey'), Text(text='('))), keypath=None), expand_state=<ExpandState.COLLAPSED: 'collapsed'>), Text(text=','), FoldCondition(collapsed=Text(text=' '), expanded=EmptyPart()))), Siblings(children=(FoldableTreeNodeImpl(contents=Siblings(children=(IndentedChildren(children=[Siblings(children=(Text(text='idx'), Text(text='='), HyperlinkTarget(child=NumberColor(child=Text(text='2')), keypath=None), FoldCondition(collapsed=EmptyPart(), expanded=Text(text=','))))]), Text(text=')'))), label=HyperlinkTarget(child=Siblings(children=(RoundtripCondition(roundtrip=QualifiedTypeNameSpanGroup(child=Text(text='jax.tree_util.')), not_roundtrip=EmptyPart()), Text(text='SequenceKey'), Text(text='('))), keypath=None), expand_state=<ExpandState.COLLAPSED: 'collapsed'>), Text(text=','), FoldCondition(collapsed=Text(text=' '), expanded=EmptyPart()))), Siblings(children=(FoldableTreeNodeImpl(contents=Siblings(children=(IndentedChildren(children=[Siblings(children=(Text(text='key'), Text(text='='), HyperlinkTarget(child=StringLiteralColor(child=Text(text=\"'value'\")), keypath=None), FoldCondition(collapsed=EmptyPart(), expanded=Text(text=','))))]), Text(text=')'))), label=HyperlinkTarget(child=Siblings(children=(RoundtripCondition(roundtrip=QualifiedTypeNameSpanGroup(child=Text(text='jax.tree_util.')), not_roundtrip=EmptyPart()), Text(text='DictKey'), Text(text='('))), keypath=None), expand_state=<ExpandState.COLLAPSED: 'collapsed'>), FoldCondition(collapsed=EmptyPart(), expanded=Text(text=','))))]), Text(text=')'))), label=HyperlinkTarget(child=Text(text='('), keypath=None), expand_state=<ExpandState.COLLAPSED: 'collapsed'>), Text(text=':'), FoldCondition(collapsed=Text(text=' '), expanded=EmptyPart()), IndentedChildren(children=[Siblings(children=(HyperlinkTarget(child=NumberColor(child=Text(text='3')), keypath=(GetAttrKey(name='selected_by_path'), DictKey(key=(DictKey(key='c'), SequenceKey(idx=2), DictKey(key='value'))))), FoldCondition(collapsed=EmptyPart(), expanded=Text(text=',')), FoldCondition(collapsed=EmptyPart(), expanded=Siblings(children=(StringCopyButton(copy_string=\"(lambda root: root.selected_by_path[(DictKey(key='c'), SequenceKey(idx=2), DictKey(key='value'))])\", annotation='Copy path: '),))))), Siblings(children=(FoldCondition(collapsed=EmptyPart(), expanded=VerticalSpace(height='0.5em')),))])))]), Text(text='})'))), label=HyperlinkTarget(child=Siblings(children=(RoundtripCondition(roundtrip=QualifiedTypeNameSpanGroup(child=Text(text='collections.')), not_roundtrip=EmptyPart()), Text(text='OrderedDict'), Text(text='({'))), keypath=(GetAttrKey(name='selected_by_path'),)), expand_state=<ExpandState.EXPANDED: 'expanded'>), node_id=135065114265536, seen_more_than_once=set()), Text(text=','), FoldCondition(collapsed=Text(text=' '), expanded=EmptyPart()), FoldCondition(collapsed=EmptyPart(), expanded=Siblings(children=(DynamicSharedCheck(if_shared=SharedWarningLabel(child=Text(text=' # Repeated python obj at 0x7ad74c2847c0')), node_id=135065114265536, seen_more_than_once=set()), StringCopyButton(copy_string='(lambda root: root.selected_by_path)', annotation='Copy path: ')))))), Siblings(children=(PyTreeNodeFieldName(child=Text(text='remainder')), Text(text='='), WithDynamicSharedPip(child=FoldableTreeNodeImpl(contents=Siblings(children=(StringCopyButton(copy_string='(lambda root: root.remainder)', annotation='Copy path: '), IndentedChildren(children=[Siblings(children=(HyperlinkTarget(child=StringLiteralColor(child=Text(text=\"'a'\")), keypath=None), Text(text=': '), HyperlinkTarget(child=NumberColor(child=Text(text='1')), keypath=(GetAttrKey(name='remainder'), DictKey(key='a'))), Text(text=','), FoldCondition(collapsed=Text(text=' '), expanded=EmptyPart()), FoldCondition(collapsed=EmptyPart(), expanded=Siblings(children=(StringCopyButton(copy_string=\"(lambda root: root.remainder['a'])\", annotation='Copy path: '),))))), Siblings(children=(HyperlinkTarget(child=StringLiteralColor(child=Text(text=\"'b'\")), keypath=None), Text(text=': '), RoundtripCondition(roundtrip=WithBlockColor(child=FoldableTreeNodeImpl(contents=Siblings(children=(ColoredBorderIndentedChildren(children=[Siblings(children=(Text(text='original_repr'), Text(text='='), HyperlinkTarget(child=StringLiteralColor(child=Text(text=\"'Array([0, 1, 2, 3, 4, 5, 6, 7, 8, 9], dtype=int32)'\")), keypath=(GetAttrKey(name='original_repr'),)), Text(text=','), FoldCondition(collapsed=Text(text=' '), expanded=EmptyPart()), FoldCondition(collapsed=EmptyPart(), expanded=Siblings(children=(StringCopyButton(copy_string='(lambda root: root.original_repr)', annotation='Copy path: '),))))), Siblings(children=(Text(text='original_id'), Text(text='='), HyperlinkTarget(child=NumberColor(child=Text(text='100242559623888')), keypath=(GetAttrKey(name='original_id'),)), Text(text=','), FoldCondition(collapsed=Text(text=' '), expanded=EmptyPart()), FoldCondition(collapsed=EmptyPart(), expanded=Siblings(children=(StringCopyButton(copy_string='(lambda root: root.original_id)', annotation='Copy path: '),))))), Siblings(children=(Text(text='original_type'), Text(text='='), HyperlinkTarget(child=FoldableTreeNodeImpl(contents=FoldCondition(collapsed=EmptyPart(), expanded=IndentedChildren(children=[Siblings(children=(HyperlinkTarget(child=AbbreviationColor(child=Text(text=\"<class 'jax.Array'>\")), keypath=(GetAttrKey(name='original_type'),)), FoldCondition(collapsed=EmptyPart(), expanded=Siblings(children=(StringCopyButton(copy_string='(lambda root: root.original_type)', annotation='Copy path: '),)))))])), label=CommentColorWhenExpanded(child=Siblings(children=(FoldCondition(collapsed=EmptyPart(), expanded=Text(text='# ')), QualifiedTypeNameSpanGroup(child=Text(text='jax.')), Text(text='Array')))), expand_state=<ExpandState.COLLAPSED: 'collapsed'>), keypath=(GetAttrKey(name='original_type'),)), FoldCondition(collapsed=EmptyPart(), expanded=Text(text=',')), FoldCondition(collapsed=EmptyPart(), expanded=Siblings(children=(StringCopyButton(copy_string='(lambda root: root.original_type)', annotation='Copy path: '),)))))]), ColoredBottomLineSpanGroup(child=Text(text=')')))), label=HyperlinkTarget(child=ColoredTopLineSpanGroup(child=Siblings(children=(RoundtripCondition(roundtrip=QualifiedTypeNameSpanGroup(child=Text(text='penzai.treescope.copypaste_fallback.')), not_roundtrip=EmptyPart()), Text(text='NotRoundtrippable'), Text(text='(')))), keypath=()), expand_state=<ExpandState.WEAKLY_COLLAPSED: 'weakly_collapsed'>), color='#db845a'), not_roundtrip=AbbreviationColor(child=Text(text='<jax.Array([0, 1, 2, 3, 4, 5, 6, 7, 8, 9], dtype=int32)>'))), Text(text=','), FoldCondition(collapsed=Text(text=' '), expanded=EmptyPart()), FoldCondition(collapsed=EmptyPart(), expanded=Siblings(children=(StringCopyButton(copy_string=\"(lambda root: root.remainder['b'])\", annotation='Copy path: '),))))), Siblings(children=(HyperlinkTarget(child=StringLiteralColor(child=Text(text=\"'c'\")), keypath=None), Text(text=': '), WithDynamicSharedPip(child=FoldableTreeNodeImpl(contents=Siblings(children=(StringCopyButton(copy_string=\"(lambda root: root.remainder['c'])\", annotation='Copy path: '), IndentedChildren(children=[Siblings(children=(WithDynamicSharedPip(child=FoldableTreeNodeImpl(contents=Siblings(children=(StringCopyButton(copy_string=\"(lambda root: root.remainder['c'][0])\", annotation='Copy path: '), IndentedChildren(children=[Siblings(children=(HyperlinkTarget(child=StringLiteralColor(child=Text(text=\"'value'\")), keypath=None), Text(text=': '), FoldableTreeNodeImpl(contents=Siblings(children=(StringCopyButton(copy_string=\"(lambda root: root.remainder['c'][0]['value'])\", annotation='Copy path: '), IndentedChildren(children=[Siblings(children=(Text(text='path'), Text(text='='), FoldableTreeNodeImpl(contents=Siblings(children=(StringCopyButton(copy_string=\"(lambda root: root.remainder['c'][0]['value'].path)\", annotation='Copy path: '), IndentedChildren(children=[Siblings(children=(FoldableTreeNodeImpl(contents=Siblings(children=(StringCopyButton(copy_string=\"(lambda root: root.remainder['c'][0]['value'].path[0])\", annotation='Copy path: '), IndentedChildren(children=[Siblings(children=(Text(text='key'), Text(text='='), HyperlinkTarget(child=StringLiteralColor(child=Text(text=\"'c'\")), keypath=(GetAttrKey(name='remainder'), DictKey(key='c'), SequenceKey(idx=0), DictKey(key='value'), GetAttrKey(name='path'), SequenceKey(idx=0), GetAttrKey(name='key'))), FoldCondition(collapsed=EmptyPart(), expanded=Text(text=',')), FoldCondition(collapsed=EmptyPart(), expanded=Siblings(children=(StringCopyButton(copy_string=\"(lambda root: root.remainder['c'][0]['value'].path[0].key)\", annotation='Copy path: '),)))))]), Text(text=')'))), label=HyperlinkTarget(child=Siblings(children=(RoundtripCondition(roundtrip=QualifiedTypeNameSpanGroup(child=Text(text='jax.tree_util.')), not_roundtrip=EmptyPart()), Text(text='DictKey'), Text(text='('))), keypath=(GetAttrKey(name='remainder'), DictKey(key='c'), SequenceKey(idx=0), DictKey(key='value'), GetAttrKey(name='path'), SequenceKey(idx=0))), expand_state=<ExpandState.COLLAPSED: 'collapsed'>), Text(text=','), FoldCondition(collapsed=Text(text=' '), expanded=EmptyPart()), FoldCondition(collapsed=EmptyPart(), expanded=Siblings(children=(StringCopyButton(copy_string=\"(lambda root: root.remainder['c'][0]['value'].path[0])\", annotation='Copy path: '),))))), Siblings(children=(FoldableTreeNodeImpl(contents=Siblings(children=(StringCopyButton(copy_string=\"(lambda root: root.remainder['c'][0]['value'].path[1])\", annotation='Copy path: '), IndentedChildren(children=[Siblings(children=(Text(text='idx'), Text(text='='), HyperlinkTarget(child=NumberColor(child=Text(text='0')), keypath=(GetAttrKey(name='remainder'), DictKey(key='c'), SequenceKey(idx=0), DictKey(key='value'), GetAttrKey(name='path'), SequenceKey(idx=1), GetAttrKey(name='idx'))), FoldCondition(collapsed=EmptyPart(), expanded=Text(text=',')), FoldCondition(collapsed=EmptyPart(), expanded=Siblings(children=(StringCopyButton(copy_string=\"(lambda root: root.remainder['c'][0]['value'].path[1].idx)\", annotation='Copy path: '),)))))]), Text(text=')'))), label=HyperlinkTarget(child=Siblings(children=(RoundtripCondition(roundtrip=QualifiedTypeNameSpanGroup(child=Text(text='jax.tree_util.')), not_roundtrip=EmptyPart()), Text(text='SequenceKey'), Text(text='('))), keypath=(GetAttrKey(name='remainder'), DictKey(key='c'), SequenceKey(idx=0), DictKey(key='value'), GetAttrKey(name='path'), SequenceKey(idx=1))), expand_state=<ExpandState.COLLAPSED: 'collapsed'>), Text(text=','), FoldCondition(collapsed=Text(text=' '), expanded=EmptyPart()), FoldCondition(collapsed=EmptyPart(), expanded=Siblings(children=(StringCopyButton(copy_string=\"(lambda root: root.remainder['c'][0]['value'].path[1])\", annotation='Copy path: '),))))), Siblings(children=(FoldableTreeNodeImpl(contents=Siblings(children=(StringCopyButton(copy_string=\"(lambda root: root.remainder['c'][0]['value'].path[2])\", annotation='Copy path: '), IndentedChildren(children=[Siblings(children=(Text(text='key'), Text(text='='), HyperlinkTarget(child=StringLiteralColor(child=Text(text=\"'value'\")), keypath=(GetAttrKey(name='remainder'), DictKey(key='c'), SequenceKey(idx=0), DictKey(key='value'), GetAttrKey(name='path'), SequenceKey(idx=2), GetAttrKey(name='key'))), FoldCondition(collapsed=EmptyPart(), expanded=Text(text=',')), FoldCondition(collapsed=EmptyPart(), expanded=Siblings(children=(StringCopyButton(copy_string=\"(lambda root: root.remainder['c'][0]['value'].path[2].key)\", annotation='Copy path: '),)))))]), Text(text=')'))), label=HyperlinkTarget(child=Siblings(children=(RoundtripCondition(roundtrip=QualifiedTypeNameSpanGroup(child=Text(text='jax.tree_util.')), not_roundtrip=EmptyPart()), Text(text='DictKey'), Text(text='('))), keypath=(GetAttrKey(name='remainder'), DictKey(key='c'), SequenceKey(idx=0), DictKey(key='value'), GetAttrKey(name='path'), SequenceKey(idx=2))), expand_state=<ExpandState.COLLAPSED: 'collapsed'>), FoldCondition(collapsed=EmptyPart(), expanded=Text(text=',')), FoldCondition(collapsed=EmptyPart(), expanded=Siblings(children=(StringCopyButton(copy_string=\"(lambda root: root.remainder['c'][0]['value'].path[2])\", annotation='Copy path: '),)))))]), Text(text=')'))), label=HyperlinkTarget(child=Text(text='('), keypath=(GetAttrKey(name='remainder'), DictKey(key='c'), SequenceKey(idx=0), DictKey(key='value'), GetAttrKey(name='path'))), expand_state=<ExpandState.COLLAPSED: 'collapsed'>), FoldCondition(collapsed=EmptyPart(), expanded=Text(text=',')), FoldCondition(collapsed=EmptyPart(), expanded=Siblings(children=(StringCopyButton(copy_string=\"(lambda root: root.remainder['c'][0]['value'].path)\", annotation='Copy path: '),)))))]), Text(text=')'))), label=HyperlinkTarget(child=Siblings(children=(RoundtripCondition(roundtrip=QualifiedTypeNameSpanGroup(child=Text(text='penzai.core.selectors.')), not_roundtrip=EmptyPart()), Text(text='SelectionHole'), Text(text='('))), keypath=(GetAttrKey(name='remainder'), DictKey(key='c'), SequenceKey(idx=0), DictKey(key='value'))), expand_state=<ExpandState.EXPANDED: 'expanded'>), FoldCondition(collapsed=EmptyPart(), expanded=Text(text=',')), FoldCondition(collapsed=EmptyPart(), expanded=Siblings(children=(StringCopyButton(copy_string=\"(lambda root: root.remainder['c'][0]['value'])\", annotation='Copy path: '),)))))]), Text(text='}'))), label=HyperlinkTarget(child=Text(text='{'), keypath=(GetAttrKey(name='remainder'), DictKey(key='c'), SequenceKey(idx=0))), expand_state=<ExpandState.COLLAPSED: 'collapsed'>), node_id=135065114661248, seen_more_than_once=set()), Text(text=','), FoldCondition(collapsed=Text(text=' '), expanded=EmptyPart()), FoldCondition(collapsed=EmptyPart(), expanded=Siblings(children=(DynamicSharedCheck(if_shared=SharedWarningLabel(child=Text(text=' # Repeated python obj at 0x7ad74c2e5180')), node_id=135065114661248, seen_more_than_once=set()), StringCopyButton(copy_string=\"(lambda root: root.remainder['c'][0])\", annotation='Copy path: ')))))), Siblings(children=(WithDynamicSharedPip(child=FoldableTreeNodeImpl(contents=Siblings(children=(StringCopyButton(copy_string=\"(lambda root: root.remainder['c'][1])\", annotation='Copy path: '), IndentedChildren(children=[Siblings(children=(HyperlinkTarget(child=StringLiteralColor(child=Text(text=\"'value'\")), keypath=None), Text(text=': '), FoldableTreeNodeImpl(contents=Siblings(children=(StringCopyButton(copy_string=\"(lambda root: root.remainder['c'][1]['value'])\", annotation='Copy path: '), IndentedChildren(children=[Siblings(children=(Text(text='path'), Text(text='='), FoldableTreeNodeImpl(contents=Siblings(children=(StringCopyButton(copy_string=\"(lambda root: root.remainder['c'][1]['value'].path)\", annotation='Copy path: '), IndentedChildren(children=[Siblings(children=(FoldableTreeNodeImpl(contents=Siblings(children=(StringCopyButton(copy_string=\"(lambda root: root.remainder['c'][1]['value'].path[0])\", annotation='Copy path: '), IndentedChildren(children=[Siblings(children=(Text(text='key'), Text(text='='), HyperlinkTarget(child=StringLiteralColor(child=Text(text=\"'c'\")), keypath=(GetAttrKey(name='remainder'), DictKey(key='c'), SequenceKey(idx=1), DictKey(key='value'), GetAttrKey(name='path'), SequenceKey(idx=0), GetAttrKey(name='key'))), FoldCondition(collapsed=EmptyPart(), expanded=Text(text=',')), FoldCondition(collapsed=EmptyPart(), expanded=Siblings(children=(StringCopyButton(copy_string=\"(lambda root: root.remainder['c'][1]['value'].path[0].key)\", annotation='Copy path: '),)))))]), Text(text=')'))), label=HyperlinkTarget(child=Siblings(children=(RoundtripCondition(roundtrip=QualifiedTypeNameSpanGroup(child=Text(text='jax.tree_util.')), not_roundtrip=EmptyPart()), Text(text='DictKey'), Text(text='('))), keypath=(GetAttrKey(name='remainder'), DictKey(key='c'), SequenceKey(idx=1), DictKey(key='value'), GetAttrKey(name='path'), SequenceKey(idx=0))), expand_state=<ExpandState.COLLAPSED: 'collapsed'>), Text(text=','), FoldCondition(collapsed=Text(text=' '), expanded=EmptyPart()), FoldCondition(collapsed=EmptyPart(), expanded=Siblings(children=(StringCopyButton(copy_string=\"(lambda root: root.remainder['c'][1]['value'].path[0])\", annotation='Copy path: '),))))), Siblings(children=(FoldableTreeNodeImpl(contents=Siblings(children=(StringCopyButton(copy_string=\"(lambda root: root.remainder['c'][1]['value'].path[1])\", annotation='Copy path: '), IndentedChildren(children=[Siblings(children=(Text(text='idx'), Text(text='='), HyperlinkTarget(child=NumberColor(child=Text(text='1')), keypath=(GetAttrKey(name='remainder'), DictKey(key='c'), SequenceKey(idx=1), DictKey(key='value'), GetAttrKey(name='path'), SequenceKey(idx=1), GetAttrKey(name='idx'))), FoldCondition(collapsed=EmptyPart(), expanded=Text(text=',')), FoldCondition(collapsed=EmptyPart(), expanded=Siblings(children=(StringCopyButton(copy_string=\"(lambda root: root.remainder['c'][1]['value'].path[1].idx)\", annotation='Copy path: '),)))))]), Text(text=')'))), label=HyperlinkTarget(child=Siblings(children=(RoundtripCondition(roundtrip=QualifiedTypeNameSpanGroup(child=Text(text='jax.tree_util.')), not_roundtrip=EmptyPart()), Text(text='SequenceKey'), Text(text='('))), keypath=(GetAttrKey(name='remainder'), DictKey(key='c'), SequenceKey(idx=1), DictKey(key='value'), GetAttrKey(name='path'), SequenceKey(idx=1))), expand_state=<ExpandState.COLLAPSED: 'collapsed'>), Text(text=','), FoldCondition(collapsed=Text(text=' '), expanded=EmptyPart()), FoldCondition(collapsed=EmptyPart(), expanded=Siblings(children=(StringCopyButton(copy_string=\"(lambda root: root.remainder['c'][1]['value'].path[1])\", annotation='Copy path: '),))))), Siblings(children=(FoldableTreeNodeImpl(contents=Siblings(children=(StringCopyButton(copy_string=\"(lambda root: root.remainder['c'][1]['value'].path[2])\", annotation='Copy path: '), IndentedChildren(children=[Siblings(children=(Text(text='key'), Text(text='='), HyperlinkTarget(child=StringLiteralColor(child=Text(text=\"'value'\")), keypath=(GetAttrKey(name='remainder'), DictKey(key='c'), SequenceKey(idx=1), DictKey(key='value'), GetAttrKey(name='path'), SequenceKey(idx=2), GetAttrKey(name='key'))), FoldCondition(collapsed=EmptyPart(), expanded=Text(text=',')), FoldCondition(collapsed=EmptyPart(), expanded=Siblings(children=(StringCopyButton(copy_string=\"(lambda root: root.remainder['c'][1]['value'].path[2].key)\", annotation='Copy path: '),)))))]), Text(text=')'))), label=HyperlinkTarget(child=Siblings(children=(RoundtripCondition(roundtrip=QualifiedTypeNameSpanGroup(child=Text(text='jax.tree_util.')), not_roundtrip=EmptyPart()), Text(text='DictKey'), Text(text='('))), keypath=(GetAttrKey(name='remainder'), DictKey(key='c'), SequenceKey(idx=1), DictKey(key='value'), GetAttrKey(name='path'), SequenceKey(idx=2))), expand_state=<ExpandState.COLLAPSED: 'collapsed'>), FoldCondition(collapsed=EmptyPart(), expanded=Text(text=',')), FoldCondition(collapsed=EmptyPart(), expanded=Siblings(children=(StringCopyButton(copy_string=\"(lambda root: root.remainder['c'][1]['value'].path[2])\", annotation='Copy path: '),)))))]), Text(text=')'))), label=HyperlinkTarget(child=Text(text='('), keypath=(GetAttrKey(name='remainder'), DictKey(key='c'), SequenceKey(idx=1), DictKey(key='value'), GetAttrKey(name='path'))), expand_state=<ExpandState.COLLAPSED: 'collapsed'>), FoldCondition(collapsed=EmptyPart(), expanded=Text(text=',')), FoldCondition(collapsed=EmptyPart(), expanded=Siblings(children=(StringCopyButton(copy_string=\"(lambda root: root.remainder['c'][1]['value'].path)\", annotation='Copy path: '),)))))]), Text(text=')'))), label=HyperlinkTarget(child=Siblings(children=(RoundtripCondition(roundtrip=QualifiedTypeNameSpanGroup(child=Text(text='penzai.core.selectors.')), not_roundtrip=EmptyPart()), Text(text='SelectionHole'), Text(text='('))), keypath=(GetAttrKey(name='remainder'), DictKey(key='c'), SequenceKey(idx=1), DictKey(key='value'))), expand_state=<ExpandState.EXPANDED: 'expanded'>), FoldCondition(collapsed=EmptyPart(), expanded=Text(text=',')), FoldCondition(collapsed=EmptyPart(), expanded=Siblings(children=(StringCopyButton(copy_string=\"(lambda root: root.remainder['c'][1]['value'])\", annotation='Copy path: '),)))))]), Text(text='}'))), label=HyperlinkTarget(child=Text(text='{'), keypath=(GetAttrKey(name='remainder'), DictKey(key='c'), SequenceKey(idx=1))), expand_state=<ExpandState.COLLAPSED: 'collapsed'>), node_id=135065114298112, seen_more_than_once=set()), Text(text=','), FoldCondition(collapsed=Text(text=' '), expanded=EmptyPart()), FoldCondition(collapsed=EmptyPart(), expanded=Siblings(children=(DynamicSharedCheck(if_shared=SharedWarningLabel(child=Text(text=' # Repeated python obj at 0x7ad74c28c700')), node_id=135065114298112, seen_more_than_once=set()), StringCopyButton(copy_string=\"(lambda root: root.remainder['c'][1])\", annotation='Copy path: ')))))), Siblings(children=(WithDynamicSharedPip(child=FoldableTreeNodeImpl(contents=Siblings(children=(StringCopyButton(copy_string=\"(lambda root: root.remainder['c'][2])\", annotation='Copy path: '), IndentedChildren(children=[Siblings(children=(HyperlinkTarget(child=StringLiteralColor(child=Text(text=\"'value'\")), keypath=None), Text(text=': '), FoldableTreeNodeImpl(contents=Siblings(children=(StringCopyButton(copy_string=\"(lambda root: root.remainder['c'][2]['value'])\", annotation='Copy path: '), IndentedChildren(children=[Siblings(children=(Text(text='path'), Text(text='='), FoldableTreeNodeImpl(contents=Siblings(children=(StringCopyButton(copy_string=\"(lambda root: root.remainder['c'][2]['value'].path)\", annotation='Copy path: '), IndentedChildren(children=[Siblings(children=(FoldableTreeNodeImpl(contents=Siblings(children=(StringCopyButton(copy_string=\"(lambda root: root.remainder['c'][2]['value'].path[0])\", annotation='Copy path: '), IndentedChildren(children=[Siblings(children=(Text(text='key'), Text(text='='), HyperlinkTarget(child=StringLiteralColor(child=Text(text=\"'c'\")), keypath=(GetAttrKey(name='remainder'), DictKey(key='c'), SequenceKey(idx=2), DictKey(key='value'), GetAttrKey(name='path'), SequenceKey(idx=0), GetAttrKey(name='key'))), FoldCondition(collapsed=EmptyPart(), expanded=Text(text=',')), FoldCondition(collapsed=EmptyPart(), expanded=Siblings(children=(StringCopyButton(copy_string=\"(lambda root: root.remainder['c'][2]['value'].path[0].key)\", annotation='Copy path: '),)))))]), Text(text=')'))), label=HyperlinkTarget(child=Siblings(children=(RoundtripCondition(roundtrip=QualifiedTypeNameSpanGroup(child=Text(text='jax.tree_util.')), not_roundtrip=EmptyPart()), Text(text='DictKey'), Text(text='('))), keypath=(GetAttrKey(name='remainder'), DictKey(key='c'), SequenceKey(idx=2), DictKey(key='value'), GetAttrKey(name='path'), SequenceKey(idx=0))), expand_state=<ExpandState.COLLAPSED: 'collapsed'>), Text(text=','), FoldCondition(collapsed=Text(text=' '), expanded=EmptyPart()), FoldCondition(collapsed=EmptyPart(), expanded=Siblings(children=(StringCopyButton(copy_string=\"(lambda root: root.remainder['c'][2]['value'].path[0])\", annotation='Copy path: '),))))), Siblings(children=(FoldableTreeNodeImpl(contents=Siblings(children=(StringCopyButton(copy_string=\"(lambda root: root.remainder['c'][2]['value'].path[1])\", annotation='Copy path: '), IndentedChildren(children=[Siblings(children=(Text(text='idx'), Text(text='='), HyperlinkTarget(child=NumberColor(child=Text(text='2')), keypath=(GetAttrKey(name='remainder'), DictKey(key='c'), SequenceKey(idx=2), DictKey(key='value'), GetAttrKey(name='path'), SequenceKey(idx=1), GetAttrKey(name='idx'))), FoldCondition(collapsed=EmptyPart(), expanded=Text(text=',')), FoldCondition(collapsed=EmptyPart(), expanded=Siblings(children=(StringCopyButton(copy_string=\"(lambda root: root.remainder['c'][2]['value'].path[1].idx)\", annotation='Copy path: '),)))))]), Text(text=')'))), label=HyperlinkTarget(child=Siblings(children=(RoundtripCondition(roundtrip=QualifiedTypeNameSpanGroup(child=Text(text='jax.tree_util.')), not_roundtrip=EmptyPart()), Text(text='SequenceKey'), Text(text='('))), keypath=(GetAttrKey(name='remainder'), DictKey(key='c'), SequenceKey(idx=2), DictKey(key='value'), GetAttrKey(name='path'), SequenceKey(idx=1))), expand_state=<ExpandState.COLLAPSED: 'collapsed'>), Text(text=','), FoldCondition(collapsed=Text(text=' '), expanded=EmptyPart()), FoldCondition(collapsed=EmptyPart(), expanded=Siblings(children=(StringCopyButton(copy_string=\"(lambda root: root.remainder['c'][2]['value'].path[1])\", annotation='Copy path: '),))))), Siblings(children=(FoldableTreeNodeImpl(contents=Siblings(children=(StringCopyButton(copy_string=\"(lambda root: root.remainder['c'][2]['value'].path[2])\", annotation='Copy path: '), IndentedChildren(children=[Siblings(children=(Text(text='key'), Text(text='='), HyperlinkTarget(child=StringLiteralColor(child=Text(text=\"'value'\")), keypath=(GetAttrKey(name='remainder'), DictKey(key='c'), SequenceKey(idx=2), DictKey(key='value'), GetAttrKey(name='path'), SequenceKey(idx=2), GetAttrKey(name='key'))), FoldCondition(collapsed=EmptyPart(), expanded=Text(text=',')), FoldCondition(collapsed=EmptyPart(), expanded=Siblings(children=(StringCopyButton(copy_string=\"(lambda root: root.remainder['c'][2]['value'].path[2].key)\", annotation='Copy path: '),)))))]), Text(text=')'))), label=HyperlinkTarget(child=Siblings(children=(RoundtripCondition(roundtrip=QualifiedTypeNameSpanGroup(child=Text(text='jax.tree_util.')), not_roundtrip=EmptyPart()), Text(text='DictKey'), Text(text='('))), keypath=(GetAttrKey(name='remainder'), DictKey(key='c'), SequenceKey(idx=2), DictKey(key='value'), GetAttrKey(name='path'), SequenceKey(idx=2))), expand_state=<ExpandState.COLLAPSED: 'collapsed'>), FoldCondition(collapsed=EmptyPart(), expanded=Text(text=',')), FoldCondition(collapsed=EmptyPart(), expanded=Siblings(children=(StringCopyButton(copy_string=\"(lambda root: root.remainder['c'][2]['value'].path[2])\", annotation='Copy path: '),)))))]), Text(text=')'))), label=HyperlinkTarget(child=Text(text='('), keypath=(GetAttrKey(name='remainder'), DictKey(key='c'), SequenceKey(idx=2), DictKey(key='value'), GetAttrKey(name='path'))), expand_state=<ExpandState.COLLAPSED: 'collapsed'>), FoldCondition(collapsed=EmptyPart(), expanded=Text(text=',')), FoldCondition(collapsed=EmptyPart(), expanded=Siblings(children=(StringCopyButton(copy_string=\"(lambda root: root.remainder['c'][2]['value'].path)\", annotation='Copy path: '),)))))]), Text(text=')'))), label=HyperlinkTarget(child=Siblings(children=(RoundtripCondition(roundtrip=QualifiedTypeNameSpanGroup(child=Text(text='penzai.core.selectors.')), not_roundtrip=EmptyPart()), Text(text='SelectionHole'), Text(text='('))), keypath=(GetAttrKey(name='remainder'), DictKey(key='c'), SequenceKey(idx=2), DictKey(key='value'))), expand_state=<ExpandState.EXPANDED: 'expanded'>), FoldCondition(collapsed=EmptyPart(), expanded=Text(text=',')), FoldCondition(collapsed=EmptyPart(), expanded=Siblings(children=(StringCopyButton(copy_string=\"(lambda root: root.remainder['c'][2]['value'])\", annotation='Copy path: '),)))))]), Text(text='}'))), label=HyperlinkTarget(child=Text(text='{'), keypath=(GetAttrKey(name='remainder'), DictKey(key='c'), SequenceKey(idx=2))), expand_state=<ExpandState.COLLAPSED: 'collapsed'>), node_id=135065113750784, seen_more_than_once=set()), FoldCondition(collapsed=EmptyPart(), expanded=Text(text=',')), FoldCondition(collapsed=EmptyPart(), expanded=Siblings(children=(DynamicSharedCheck(if_shared=SharedWarningLabel(child=Text(text=' # Repeated python obj at 0x7ad74c206d00')), node_id=135065113750784, seen_more_than_once=set()), StringCopyButton(copy_string=\"(lambda root: root.remainder['c'][2])\", annotation='Copy path: '))))))]), Text(text=']'))), label=HyperlinkTarget(child=Text(text='['), keypath=(GetAttrKey(name='remainder'), DictKey(key='c'))), expand_state=<ExpandState.EXPANDED: 'expanded'>), node_id=135065650482816, seen_more_than_once=set()), FoldCondition(collapsed=EmptyPart(), expanded=Text(text=',')), FoldCondition(collapsed=EmptyPart(), expanded=Siblings(children=(DynamicSharedCheck(if_shared=SharedWarningLabel(child=Text(text=' # Repeated python obj at 0x7ad76c1e4e80')), node_id=135065650482816, seen_more_than_once=set()), StringCopyButton(copy_string=\"(lambda root: root.remainder['c'])\", annotation='Copy path: '))))))]), Text(text='}'))), label=HyperlinkTarget(child=Text(text='{'), keypath=(GetAttrKey(name='remainder'),)), expand_state=<ExpandState.COLLAPSED: 'collapsed'>), node_id=135065114027840, seen_more_than_once=set()), FoldCondition(collapsed=EmptyPart(), expanded=Text(text=',')), FoldCondition(collapsed=EmptyPart(), expanded=Siblings(children=(DynamicSharedCheck(if_shared=SharedWarningLabel(child=Text(text=' # Repeated python obj at 0x7ad74c24a740')), node_id=135065114027840, seen_more_than_once=set()), StringCopyButton(copy_string='(lambda root: root.remainder)', annotation='Copy path: '))))))]), Text(text=')'))), label=HyperlinkTarget(child=Siblings(children=(RoundtripCondition(roundtrip=QualifiedTypeNameSpanGroup(child=Text(text='penzai.core.selectors.')), not_roundtrip=EmptyPart()), Text(text='Selection'), Text(text='('))), keypath=()), expand_state=<ExpandState.EXPANDED: 'expanded'>),))))"
      ]
     },
     "metadata": {},
     "output_type": "display_data"
    }
   ],
   "source": [
    "my_selection = (\n",
    "    pz.select(my_nested_object)\n",
    "      .at(lambda root: root[\"c\"])\n",
    "      .at_instances_of(jax.typing.ArrayLike)\n",
    ")\n",
    "\n",
    "pz.show(my_selection)"
   ]
  },
  {
   "cell_type": "markdown",
   "metadata": {
    "id": "FJ3OuNUD_lO4"
   },
   "source": [
    "By default, though, selections are rendered in a way that emphasizes what you've selected, so you can tell at a glance that you're making the changes you expect to:"
   ]
  },
  {
   "cell_type": "code",
   "execution_count": 12,
   "metadata": {
    "execution": {
     "iopub.execute_input": "2024-06-27T23:19:26.722760Z",
     "iopub.status.busy": "2024-06-27T23:19:26.722468Z",
     "iopub.status.idle": "2024-06-27T23:19:26.739430Z",
     "shell.execute_reply": "2024-06-27T23:19:26.739172Z"
    },
    "id": "EUD6zd_L-iNr"
   },
   "outputs": [
    {
     "data": {
      "text/html": [
       "<div id=\"output_8ce2f3c53ae4484e8126af25ef4cdade\"><script> /* penzai.treescope rendering of a Python object (compressed) */ (()=>{ let observer; let lastStep = new Promise((resolve, reject) => { observer = new IntersectionObserver((entries) => { for (const entry of entries) { if (entry.isIntersecting) { resolve(); observer.disconnect(); return; } } }, {rootMargin: \"1000px\"}); }); window.treescope_decompress_enqueue = (encoded, destId) => { const previous = lastStep; const destElt = document.getElementById(destId); lastStep = (async () => { await previous; let blob = new Blob([ Uint8Array.from(atob(encoded), (m) => m.codePointAt(0)) ]); let reader = blob.stream().pipeThrough( new DecompressionStream(\"deflate\") ).pipeThrough( new TextDecoderStream(\"utf-8\") ).getReader(); let parts = []; while (true) { let step = await reader.read(); if (step.done) { break; } parts.push(step.value); } let newElt = document.createElement(\"div\"); newElt.innerHTML = parts.join(\"\"); destElt.parentNode.replaceChild(newElt, destElt); for (let oldScript of newElt.querySelectorAll(\"script\")) { let newScript = document.createElement(\"script\"); newScript.type = oldScript.type; newScript.textContent = oldScript.textContent; oldScript.parentNode.replaceChild(newScript, oldScript); } })(); requestAnimationFrame(() => { observer.observe(destElt); }); } })(); </script><div id=\"compress_html_9cfd2df43c404454a2e65b059d867b89\"><script>window.treescope_decompress_enqueue(\"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\", \"compress_html_9cfd2df43c404454a2e65b059d867b89\");</script><span style=\"color: #aaaaaa; font-family: monospace\">(Loading...)</span></div></div>"
      ],
      "text/plain": [
       "<IPython.core.display.HTML object>"
      ]
     },
     "metadata": {},
     "output_type": "display_data"
    },
    {
     "data": {
      "text/html": [
       "<div id=\"compress_html_d34220b89b724cae80f449ba53f554a6\"><script>window.treescope_decompress_enqueue(\"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\", \"compress_html_d34220b89b724cae80f449ba53f554a6\");</script></div>"
      ],
      "text/plain": [
       "<IPython.core.display.HTML object>"
      ]
     },
     "metadata": {},
     "output_type": "display_data"
    },
    {
     "data": {
      "text/html": [
       "<div id=\"output_dest_8ce2f3c53ae4484e8126af25ef4cdade\"><script> (()=>{ const output = document.getElementById(\"output_8ce2f3c53ae4484e8126af25ef4cdade\"); const dest = document.getElementById(\"output_dest_8ce2f3c53ae4484e8126af25ef4cdade\"); dest.parentNode.replaceChild(output, dest); })(); </script></div>"
      ],
      "text/plain": [
       "Selection(\n",
       "  selected_by_path=OrderedDict({\n",
       "    (DictKey(key='c'), SequenceKey(idx=0), DictKey(key='value')):\n",
       "      <jax.Array([ 0,  1,  2,  3,  4,  5,  6,  7,  8,  9, 10, 11], dtype=int32)>,\n",
       "    (DictKey(key='c'), SequenceKey(idx=1), DictKey(key='value')):\n",
       "      <jax.Array([0., 0., 0., 0., 0., 0., 0.], dtype=float32)>,\n",
       "    (DictKey(key='c'), SequenceKey(idx=2), DictKey(key='value')):\n",
       "      3,\n",
       "  }),\n",
       "  remainder={'a': 1, 'b': <jax.Array([0, 1, 2, 3, 4, 5, 6, 7, 8, 9], dtype=int32)>, 'c': [{'value': SelectionHole(path=(DictKey(key='c'), SequenceKey(idx=0), DictKey(key='value')))}, {'value': SelectionHole(path=(DictKey(key='c'), SequenceKey(idx=1), DictKey(key='value')))}, {'value': SelectionHole(path=(DictKey(key='c'), SequenceKey(idx=2), DictKey(key='value')))}]},\n",
       ")"
      ]
     },
     "execution_count": 12,
     "metadata": {},
     "output_type": "execute_result"
    }
   ],
   "source": [
    "my_selection"
   ]
  },
  {
   "cell_type": "markdown",
   "metadata": {
    "id": "Alps_lEFBFq3"
   },
   "source": [
    "(This fancy rendering mode is triggered when you display a single selection after enabling `pz.ts.register_as_default()`, or when you call `.show_selection()` on a selection object.)"
   ]
  },
  {
   "cell_type": "markdown",
   "metadata": {
    "id": "7UpYotjP-ZIC"
   },
   "source": [
    "## Building selections"
   ]
  },
  {
   "cell_type": "markdown",
   "metadata": {
    "id": "WEBkR8V7EiRr"
   },
   "source": [
    "The penzai selector API is designed around *method chaining*. You generally start by creating a trivial selection containing only a single object, the root object, using `pz.select`:"
   ]
  },
  {
   "cell_type": "code",
   "execution_count": 13,
   "metadata": {
    "execution": {
     "iopub.execute_input": "2024-06-27T23:19:26.746608Z",
     "iopub.status.busy": "2024-06-27T23:19:26.746336Z",
     "iopub.status.idle": "2024-06-27T23:19:26.758166Z",
     "shell.execute_reply": "2024-06-27T23:19:26.757991Z"
    },
    "id": "k3mVVp0-9rL2"
   },
   "outputs": [
    {
     "data": {
      "text/html": [
       "<div id=\"output_697a415cd8644303aed703c81e13d3b0\"><script> /* penzai.treescope rendering of a Python object (compressed) */ (()=>{ let observer; let lastStep = new Promise((resolve, reject) => { observer = new IntersectionObserver((entries) => { for (const entry of entries) { if (entry.isIntersecting) { resolve(); observer.disconnect(); return; } } }, {rootMargin: \"1000px\"}); }); window.treescope_decompress_enqueue = (encoded, destId) => { const previous = lastStep; const destElt = document.getElementById(destId); lastStep = (async () => { await previous; let blob = new Blob([ Uint8Array.from(atob(encoded), (m) => m.codePointAt(0)) ]); let reader = blob.stream().pipeThrough( new DecompressionStream(\"deflate\") ).pipeThrough( new TextDecoderStream(\"utf-8\") ).getReader(); let parts = []; while (true) { let step = await reader.read(); if (step.done) { break; } parts.push(step.value); } let newElt = document.createElement(\"div\"); newElt.innerHTML = parts.join(\"\"); destElt.parentNode.replaceChild(newElt, destElt); for (let oldScript of newElt.querySelectorAll(\"script\")) { let newScript = document.createElement(\"script\"); newScript.type = oldScript.type; newScript.textContent = oldScript.textContent; oldScript.parentNode.replaceChild(newScript, oldScript); } })(); requestAnimationFrame(() => { observer.observe(destElt); }); } })(); </script><div id=\"compress_html_22616c01368f4c1cb3222070ef5b5c2d\"><script>window.treescope_decompress_enqueue(\"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\", \"compress_html_22616c01368f4c1cb3222070ef5b5c2d\");</script><span style=\"color: #aaaaaa; font-family: monospace\">(Loading...)</span></div></div>"
      ],
      "text/plain": [
       "<IPython.core.display.HTML object>"
      ]
     },
     "metadata": {},
     "output_type": "display_data"
    },
    {
     "data": {
      "text/html": [
       "<div id=\"compress_html_8f8522358d0741b4ab3af15e4680c5ca\"><script>window.treescope_decompress_enqueue(\"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\", \"compress_html_8f8522358d0741b4ab3af15e4680c5ca\");</script></div>"
      ],
      "text/plain": [
       "<IPython.core.display.HTML object>"
      ]
     },
     "metadata": {},
     "output_type": "display_data"
    },
    {
     "data": {
      "text/html": [
       "<div id=\"output_dest_697a415cd8644303aed703c81e13d3b0\"><script> (()=>{ const output = document.getElementById(\"output_697a415cd8644303aed703c81e13d3b0\"); const dest = document.getElementById(\"output_dest_697a415cd8644303aed703c81e13d3b0\"); dest.parentNode.replaceChild(output, dest); })(); </script></div>"
      ],
      "text/plain": [
       "Selection(\n",
       "  selected_by_path=OrderedDict({\n",
       "    (): {\n",
       "      'a': 1,\n",
       "      'b': <jax.Array([0, 1, 2, 3, 4, 5, 6, 7, 8, 9], dtype=int32)>,\n",
       "      'c': [\n",
       "        {\n",
       "          'value': <jax.Array([ 0,  1,  2,  3,  4,  5,  6,  7,  8,  9, 10, 11], dtype=int32)>,\n",
       "        },\n",
       "        {\n",
       "          'value': <jax.Array([0., 0., 0., 0., 0., 0., 0.], dtype=float32)>,\n",
       "        },\n",
       "        {'value': 3},\n",
       "      ],\n",
       "    },\n",
       "  }),\n",
       "  remainder=SelectionHole(path=()),\n",
       ")"
      ]
     },
     "execution_count": 13,
     "metadata": {},
     "output_type": "execute_result"
    }
   ],
   "source": [
    "pz.select(my_nested_object)"
   ]
  },
  {
   "cell_type": "markdown",
   "metadata": {
    "id": "NcmUj1AF3xS1"
   },
   "source": [
    "You can also use the `.select()` attribute if you know your root object is a subclass of `pz.Struct`:"
   ]
  },
  {
   "cell_type": "code",
   "execution_count": 14,
   "metadata": {
    "execution": {
     "iopub.execute_input": "2024-06-27T23:19:26.763776Z",
     "iopub.status.busy": "2024-06-27T23:19:26.763484Z",
     "iopub.status.idle": "2024-06-27T23:19:26.768856Z",
     "shell.execute_reply": "2024-06-27T23:19:26.768686Z"
    },
    "id": "jqw3QPx9EzjR"
   },
   "outputs": [
    {
     "data": {
      "text/html": [
       "<div id=\"output_e03c4d7d982b4dc394e1b67e7fdfc3be\"><script> /* penzai.treescope rendering of a Python object (compressed) */ (()=>{ let observer; let lastStep = new Promise((resolve, reject) => { observer = new IntersectionObserver((entries) => { for (const entry of entries) { if (entry.isIntersecting) { resolve(); observer.disconnect(); return; } } }, {rootMargin: \"1000px\"}); }); window.treescope_decompress_enqueue = (encoded, destId) => { const previous = lastStep; const destElt = document.getElementById(destId); lastStep = (async () => { await previous; let blob = new Blob([ Uint8Array.from(atob(encoded), (m) => m.codePointAt(0)) ]); let reader = blob.stream().pipeThrough( new DecompressionStream(\"deflate\") ).pipeThrough( new TextDecoderStream(\"utf-8\") ).getReader(); let parts = []; while (true) { let step = await reader.read(); if (step.done) { break; } parts.push(step.value); } let newElt = document.createElement(\"div\"); newElt.innerHTML = parts.join(\"\"); destElt.parentNode.replaceChild(newElt, destElt); for (let oldScript of newElt.querySelectorAll(\"script\")) { let newScript = document.createElement(\"script\"); newScript.type = oldScript.type; newScript.textContent = oldScript.textContent; oldScript.parentNode.replaceChild(newScript, oldScript); } })(); requestAnimationFrame(() => { observer.observe(destElt); }); } })(); </script><div id=\"compress_html_727e3bd1aff54a578c264b23cd1d2842\"><script>window.treescope_decompress_enqueue(\"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\", \"compress_html_727e3bd1aff54a578c264b23cd1d2842\");</script><span style=\"color: #aaaaaa; font-family: monospace\">(Loading...)</span></div></div>"
      ],
      "text/plain": [
       "<IPython.core.display.HTML object>"
      ]
     },
     "metadata": {},
     "output_type": "display_data"
    },
    {
     "data": {
      "text/html": [
       "<div id=\"output_dest_e03c4d7d982b4dc394e1b67e7fdfc3be\"><script> (()=>{ const output = document.getElementById(\"output_e03c4d7d982b4dc394e1b67e7fdfc3be\"); const dest = document.getElementById(\"output_dest_e03c4d7d982b4dc394e1b67e7fdfc3be\"); dest.parentNode.replaceChild(output, dest); })(); </script></div>"
      ],
      "text/plain": [
       "Selection(\n",
       "  selected_by_path=OrderedDict({(): MyStruct(foo=4)}),\n",
       "  remainder=SelectionHole(path=()),\n",
       ")"
      ]
     },
     "execution_count": 14,
     "metadata": {},
     "output_type": "execute_result"
    }
   ],
   "source": [
    "@pz.pytree_dataclass\n",
    "class MyStruct(pz.Struct):\n",
    "  foo: typing.Any\n",
    "\n",
    "MyStruct(4).select()"
   ]
  },
  {
   "cell_type": "markdown",
   "metadata": {
    "id": "tTKPVIUrFbeT"
   },
   "source": [
    "You then call methods on the selection to *refine* it to a subset of the currently selected values. These methods all operate relative to the currently selected object, so if you chain them, each method's output is restricted to the values selected by the previous method."
   ]
  },
  {
   "cell_type": "markdown",
   "metadata": {
    "id": "cFdUT5KaFju9"
   },
   "source": [
    "### Selecting with a function\n",
    "If you want to select a specific part of a tree, you can use `selection.at(...)`. The `.at` method takes as input a *function* that extracts the part you want to select, and returns a new selection that selects the extracted part:"
   ]
  },
  {
   "cell_type": "code",
   "execution_count": 15,
   "metadata": {
    "execution": {
     "iopub.execute_input": "2024-06-27T23:19:26.776163Z",
     "iopub.status.busy": "2024-06-27T23:19:26.775732Z",
     "iopub.status.idle": "2024-06-27T23:19:26.787199Z",
     "shell.execute_reply": "2024-06-27T23:19:26.787013Z"
    },
    "id": "8ZgPZeKeGDzQ"
   },
   "outputs": [
    {
     "data": {
      "text/html": [
       "<div id=\"output_a20ac8a2ad2643d2bdd5cf643ae48675\"><script> /* penzai.treescope rendering of a Python object (compressed) */ (()=>{ let observer; let lastStep = new Promise((resolve, reject) => { observer = new IntersectionObserver((entries) => { for (const entry of entries) { if (entry.isIntersecting) { resolve(); observer.disconnect(); return; } } }, {rootMargin: \"1000px\"}); }); window.treescope_decompress_enqueue = (encoded, destId) => { const previous = lastStep; const destElt = document.getElementById(destId); lastStep = (async () => { await previous; let blob = new Blob([ Uint8Array.from(atob(encoded), (m) => m.codePointAt(0)) ]); let reader = blob.stream().pipeThrough( new DecompressionStream(\"deflate\") ).pipeThrough( new TextDecoderStream(\"utf-8\") ).getReader(); let parts = []; while (true) { let step = await reader.read(); if (step.done) { break; } parts.push(step.value); } let newElt = document.createElement(\"div\"); newElt.innerHTML = parts.join(\"\"); destElt.parentNode.replaceChild(newElt, destElt); for (let oldScript of newElt.querySelectorAll(\"script\")) { let newScript = document.createElement(\"script\"); newScript.type = oldScript.type; newScript.textContent = oldScript.textContent; oldScript.parentNode.replaceChild(newScript, oldScript); } })(); requestAnimationFrame(() => { observer.observe(destElt); }); } })(); </script><div id=\"compress_html_1cff130acbb2436eb3631e0ebab01c33\"><script>window.treescope_decompress_enqueue(\"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\", \"compress_html_1cff130acbb2436eb3631e0ebab01c33\");</script><span style=\"color: #aaaaaa; font-family: monospace\">(Loading...)</span></div></div>"
      ],
      "text/plain": [
       "<IPython.core.display.HTML object>"
      ]
     },
     "metadata": {},
     "output_type": "display_data"
    },
    {
     "data": {
      "text/html": [
       "<div id=\"compress_html_6e0ed6ab9ab84d04ae10b950b0bbe7ff\"><script>window.treescope_decompress_enqueue(\"eNrtWltv2zYU/isHKtbIra1ItnyPDWzpBvSlD8OAPRSBQJOUpYUWVYnOZUX/+w4pW7Zix3HSNME2BYhtied+4ydCZyy+glzdCj6xWJyngtyOIJEJtyBmEyuUWcB4yLOMs2DIZwPu9TrDbs/3e53+sE/bHR526SBks5ASa3qWpyTBTy1v6sykUnIh4oSPEqlsJ5SCkZngQSIZH0Ukt6eCzLiYVlcCJedzUfCMaMTpJWeNBrxrwFdICWNxMm8pmY7AdbwuX4xBa2hFPJ5HagSeY+59c6gUaDyZzTJ+hZzmcgRveoM2cd0NAZWLBU9UcB3xJOA3aD/j7NnsXWsl5q/UisHURm8IZoLQyzHM8HOeyWXCWquFK5LZrdZMSHpZ3GoglcwYz4oYeOkN5FLE7BBlkYiHiL+BE92mPEPLLoOML6TiQSSveAZ3jd41U14KGtkD/yedFL8LnjssJF6TPMhpJoVAdiWdMM5yFaiYXh4tdeg7npbrDsHr9Jz+XsEm+gfVNXYUqowkeaximYx2lIOXAyc5b8VJSy5VE0KZqNa1KbI7azqrEY0CrH3KA8FDtVWo+lJXapdGVbrMSNoQZkX5lpS5IrqQAhrFgmU8KY0vcgpTqJI8W8mWU8BUxxgWJJujo4UjlAhqt2kELbTUp1GRiwds/WGmrcq7MK0obGPV3vKujA7jB8ZaRPAObA/d2WZZyc2RijcajTIGG9bW8bxrvesmNJylyPXd1ur2C0ZzM0ZMBFsZYfEyXzno8QV6d79jxtLvM+LBEv9amXRFfvUIO2LSHSb+5qDEH7IvbZJ8YGs6Oy02SLNbAhUkzyeW2X/MAFJZnK620vXOXHEAtxM2G/hdMt6XGlQztqqiK17gWuHcWZykSwUKR/7EMu7M5I21l2flObKeGqaq+M2mobCmubKAEUVal/w2JSqaWHesqQzhVR6gOj+tY0KzWvyyJCIhCx6kGQ/jG2ua8uRvEjsq4zynMuVYVSlakuNuFhIh9KB3MAMGqBRfn6T6fS091U7b1fWz01XEtvXeLV6oFq91gHqHVOLwjxMicNdNs8mjgutUePeFOsjRr2RuTd++uWn3xz9nGbm1P7tN8JrQbkKnCX4Tuk3oNaHfhEEThhdNYKYs4kR12o2CrxqS5m6CUJkgac6ZNYU18Q7RGmBVDT3RKZotsXWSE5DJucD9enKyyWCEPFiKmiqgetFWUZw3TopY6NsTyxZkMWMEMimx1fRnNTQNa9NMJdsITh7kOxnDioMk2PqkwAsn58gOOgf4uwS+pwe+nlAOiMCfWAwx21sKyXIx0xo812377W532Gt3BoPBvzm3MXtKZpHrFfNqmuuJmdW8LzvfDzwnWQfL4M3eWtkZ2H+Rm/VANsPp0NQ9pD3Ge4naGskH163p8yVg+1ET56xQY7MAxeTU/hnHisu3czU+UEKv2Eras6c0k+F7rnY6ttXuxKlZx/KosFXQ1+aABu48mFrTxuMygWbeC9F226NsiccBkd3OWX+x+Gp69oijrC5z++6wM+i3/aHvDnpDwnvdjh+SMHQ7bco2R1k1RK8h+utAdMDW0L2hm0N3h24P3R+6QXSH6BaBIbaPbiGvBu3/E9Dec3Fi+a5bg/YatNegvQbtNWivQftLg/bvgybPB+P9Qd/16IBT4lE/bA8HZNilXd5uc5+yHqlhfA3jX/+k3WnC/v+yL0IhSQ3a/+Mn7W7H69Un7TVor0F7Ddpr0F6D9pc/aX8EEHkAoucUdaupbTdgMoWvVCY5zj/Tzh9ZDhP4bB3/1mgTrOPP5beJH0T/F+PCMp14NOoa55K83sKraG5QXgWaygYm6VKPX734q+D65y+3H5ldevfZvdCvPxWSw4zMNQlKLxlpxoniH1aXv60o7JJH6zkX+ECDTGt+h6SIptm5npe2qVOqKT7hlmGrbGleuMInH7AFVxAjozvGr7NNzB3Bk7mK8O779/qFJE1XLG5ruden+AIVaJ5cLjPKP+Aj2OTeUJhnMAvewx3+4tJBLCewvP+MVWSX4oo3MVdSjJvIsFnVr5tecdu8Vmbc3xZSBkwvNzQRVmNRgetK3EktT74s+ZJ/WNXKH3yB8hTP7UbJ+w9H6M6J\", \"compress_html_6e0ed6ab9ab84d04ae10b950b0bbe7ff\");</script></div>"
      ],
      "text/plain": [
       "<IPython.core.display.HTML object>"
      ]
     },
     "metadata": {},
     "output_type": "display_data"
    },
    {
     "data": {
      "text/html": [
       "<div id=\"output_dest_a20ac8a2ad2643d2bdd5cf643ae48675\"><script> (()=>{ const output = document.getElementById(\"output_a20ac8a2ad2643d2bdd5cf643ae48675\"); const dest = document.getElementById(\"output_dest_a20ac8a2ad2643d2bdd5cf643ae48675\"); dest.parentNode.replaceChild(output, dest); })(); </script></div>"
      ],
      "text/plain": [
       "Selection(\n",
       "  selected_by_path=OrderedDict({\n",
       "    (DictKey(key='c'),):\n",
       "      [\n",
       "        {\n",
       "          'value': <jax.Array([ 0,  1,  2,  3,  4,  5,  6,  7,  8,  9, 10, 11], dtype=int32)>,\n",
       "        },\n",
       "        {'value': <jax.Array([0., 0., 0., 0., 0., 0., 0.], dtype=float32)>},\n",
       "        {'value': 3},\n",
       "      ],\n",
       "  }),\n",
       "  remainder={\n",
       "    'a': 1,\n",
       "    'b': <jax.Array([0, 1, 2, 3, 4, 5, 6, 7, 8, 9], dtype=int32)>,\n",
       "    'c': SelectionHole(path=(DictKey(key='c'),)),\n",
       "  },\n",
       ")"
      ]
     },
     "execution_count": 15,
     "metadata": {},
     "output_type": "execute_result"
    }
   ],
   "source": [
    "pz.select(my_nested_object).at(lambda root: root[\"c\"])"
   ]
  },
  {
   "cell_type": "code",
   "execution_count": 16,
   "metadata": {
    "execution": {
     "iopub.execute_input": "2024-06-27T23:19:26.795307Z",
     "iopub.status.busy": "2024-06-27T23:19:26.794785Z",
     "iopub.status.idle": "2024-06-27T23:19:26.807002Z",
     "shell.execute_reply": "2024-06-27T23:19:26.806811Z"
    },
    "id": "dAO2KhdyGFZ5"
   },
   "outputs": [
    {
     "data": {
      "text/html": [
       "<div id=\"output_f3529556c9a942ef8fd1ddbe2fa3c931\"><script> /* penzai.treescope rendering of a Python object (compressed) */ (()=>{ let observer; let lastStep = new Promise((resolve, reject) => { observer = new IntersectionObserver((entries) => { for (const entry of entries) { if (entry.isIntersecting) { resolve(); observer.disconnect(); return; } } }, {rootMargin: \"1000px\"}); }); window.treescope_decompress_enqueue = (encoded, destId) => { const previous = lastStep; const destElt = document.getElementById(destId); lastStep = (async () => { await previous; let blob = new Blob([ Uint8Array.from(atob(encoded), (m) => m.codePointAt(0)) ]); let reader = blob.stream().pipeThrough( new DecompressionStream(\"deflate\") ).pipeThrough( new TextDecoderStream(\"utf-8\") ).getReader(); let parts = []; while (true) { let step = await reader.read(); if (step.done) { break; } parts.push(step.value); } let newElt = document.createElement(\"div\"); newElt.innerHTML = parts.join(\"\"); destElt.parentNode.replaceChild(newElt, destElt); for (let oldScript of newElt.querySelectorAll(\"script\")) { let newScript = document.createElement(\"script\"); newScript.type = oldScript.type; newScript.textContent = oldScript.textContent; oldScript.parentNode.replaceChild(newScript, oldScript); } })(); requestAnimationFrame(() => { observer.observe(destElt); }); } })(); </script><div id=\"compress_html_e5a82b214bf74f398cfe3656096bdd31\"><script>window.treescope_decompress_enqueue(\"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\", \"compress_html_e5a82b214bf74f398cfe3656096bdd31\");</script><span style=\"color: #aaaaaa; font-family: monospace\">(Loading...)</span></div></div>"
      ],
      "text/plain": [
       "<IPython.core.display.HTML object>"
      ]
     },
     "metadata": {},
     "output_type": "display_data"
    },
    {
     "data": {
      "text/html": [
       "<div id=\"compress_html_fea0db98a4894118b331e33a1f71c3f0\"><script>window.treescope_decompress_enqueue(\"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\", \"compress_html_fea0db98a4894118b331e33a1f71c3f0\");</script></div>"
      ],
      "text/plain": [
       "<IPython.core.display.HTML object>"
      ]
     },
     "metadata": {},
     "output_type": "display_data"
    },
    {
     "data": {
      "text/html": [
       "<div id=\"output_dest_f3529556c9a942ef8fd1ddbe2fa3c931\"><script> (()=>{ const output = document.getElementById(\"output_f3529556c9a942ef8fd1ddbe2fa3c931\"); const dest = document.getElementById(\"output_dest_f3529556c9a942ef8fd1ddbe2fa3c931\"); dest.parentNode.replaceChild(output, dest); })(); </script></div>"
      ],
      "text/plain": [
       "Selection(\n",
       "  selected_by_path=OrderedDict({\n",
       "    (DictKey(key='c'), SequenceKey(idx=1), DictKey(key='value')):\n",
       "      <jax.Array([0., 0., 0., 0., 0., 0., 0.], dtype=float32)>,\n",
       "  }),\n",
       "  remainder={\n",
       "    'a': 1,\n",
       "    'b': <jax.Array([0, 1, 2, 3, 4, 5, 6, 7, 8, 9], dtype=int32)>,\n",
       "    'c': [\n",
       "      {\n",
       "        'value': <jax.Array([ 0,  1,  2,  3,  4,  5,  6,  7,  8,  9, 10, 11], dtype=int32)>,\n",
       "      },\n",
       "      {'value': SelectionHole(path=(DictKey(key='c'), SequenceKey(idx=1), DictKey(key='value')))},\n",
       "      {'value': 3},\n",
       "    ],\n",
       "  },\n",
       ")"
      ]
     },
     "execution_count": 16,
     "metadata": {},
     "output_type": "execute_result"
    }
   ],
   "source": [
    "pz.select(my_nested_object).at(lambda root: root[\"c\"][1][\"value\"])"
   ]
  },
  {
   "cell_type": "code",
   "execution_count": 17,
   "metadata": {
    "execution": {
     "iopub.execute_input": "2024-06-27T23:19:26.813862Z",
     "iopub.status.busy": "2024-06-27T23:19:26.813607Z",
     "iopub.status.idle": "2024-06-27T23:19:26.825353Z",
     "shell.execute_reply": "2024-06-27T23:19:26.825165Z"
    },
    "id": "go9pWFfoGHHz"
   },
   "outputs": [
    {
     "data": {
      "text/html": [
       "<div id=\"output_dbf31dfb8d1f48b8854bde4ee96f0f2c\"><script> /* penzai.treescope rendering of a Python object (compressed) */ (()=>{ let observer; let lastStep = new Promise((resolve, reject) => { observer = new IntersectionObserver((entries) => { for (const entry of entries) { if (entry.isIntersecting) { resolve(); observer.disconnect(); return; } } }, {rootMargin: \"1000px\"}); }); window.treescope_decompress_enqueue = (encoded, destId) => { const previous = lastStep; const destElt = document.getElementById(destId); lastStep = (async () => { await previous; let blob = new Blob([ Uint8Array.from(atob(encoded), (m) => m.codePointAt(0)) ]); let reader = blob.stream().pipeThrough( new DecompressionStream(\"deflate\") ).pipeThrough( new TextDecoderStream(\"utf-8\") ).getReader(); let parts = []; while (true) { let step = await reader.read(); if (step.done) { break; } parts.push(step.value); } let newElt = document.createElement(\"div\"); newElt.innerHTML = parts.join(\"\"); destElt.parentNode.replaceChild(newElt, destElt); for (let oldScript of newElt.querySelectorAll(\"script\")) { let newScript = document.createElement(\"script\"); newScript.type = oldScript.type; newScript.textContent = oldScript.textContent; oldScript.parentNode.replaceChild(newScript, oldScript); } })(); requestAnimationFrame(() => { observer.observe(destElt); }); } })(); </script><div id=\"compress_html_9bef6f497a7e47b8841f3e42507e8eb8\"><script>window.treescope_decompress_enqueue(\"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\", \"compress_html_9bef6f497a7e47b8841f3e42507e8eb8\");</script><span style=\"color: #aaaaaa; font-family: monospace\">(Loading...)</span></div></div>"
      ],
      "text/plain": [
       "<IPython.core.display.HTML object>"
      ]
     },
     "metadata": {},
     "output_type": "display_data"
    },
    {
     "data": {
      "text/html": [
       "<div id=\"compress_html_d8a1fe2a2f7f4ec6a295f7cca4d484dd\"><script>window.treescope_decompress_enqueue(\"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\", \"compress_html_d8a1fe2a2f7f4ec6a295f7cca4d484dd\");</script></div>"
      ],
      "text/plain": [
       "<IPython.core.display.HTML object>"
      ]
     },
     "metadata": {},
     "output_type": "display_data"
    },
    {
     "data": {
      "text/html": [
       "<div id=\"output_dest_dbf31dfb8d1f48b8854bde4ee96f0f2c\"><script> (()=>{ const output = document.getElementById(\"output_dbf31dfb8d1f48b8854bde4ee96f0f2c\"); const dest = document.getElementById(\"output_dest_dbf31dfb8d1f48b8854bde4ee96f0f2c\"); dest.parentNode.replaceChild(output, dest); })(); </script></div>"
      ],
      "text/plain": [
       "Selection(\n",
       "  selected_by_path=OrderedDict({\n",
       "    (DictKey(key='b'),):\n",
       "      <jax.Array([0, 1, 2, 3, 4, 5, 6, 7, 8, 9], dtype=int32)>,\n",
       "  }),\n",
       "  remainder={\n",
       "    'a': 1,\n",
       "    'b': SelectionHole(path=(DictKey(key='b'),)),\n",
       "    'c': [\n",
       "      {\n",
       "        'value': <jax.Array([ 0,  1,  2,  3,  4,  5,  6,  7,  8,  9, 10, 11], dtype=int32)>,\n",
       "      },\n",
       "      {'value': <jax.Array([0., 0., 0., 0., 0., 0., 0.], dtype=float32)>},\n",
       "      {'value': 3},\n",
       "    ],\n",
       "  },\n",
       ")"
      ]
     },
     "execution_count": 17,
     "metadata": {},
     "output_type": "execute_result"
    }
   ],
   "source": [
    "pz.select(my_nested_object).at(lambda root: root[\"b\"])"
   ]
  },
  {
   "cell_type": "markdown",
   "metadata": {
    "id": "jBtV4TmU3_Az"
   },
   "source": [
    "Later `at` calls in a chain are relative to the currently selected part:"
   ]
  },
  {
   "cell_type": "code",
   "execution_count": 18,
   "metadata": {
    "execution": {
     "iopub.execute_input": "2024-06-27T23:19:26.833849Z",
     "iopub.status.busy": "2024-06-27T23:19:26.833609Z",
     "iopub.status.idle": "2024-06-27T23:19:26.847541Z",
     "shell.execute_reply": "2024-06-27T23:19:26.847699Z"
    },
    "id": "Z8xrYRKXMVbX"
   },
   "outputs": [
    {
     "data": {
      "text/html": [
       "<div id=\"output_39c464f64baf4866993d30b2b9fe8579\"><script> /* penzai.treescope rendering of a Python object (compressed) */ (()=>{ let observer; let lastStep = new Promise((resolve, reject) => { observer = new IntersectionObserver((entries) => { for (const entry of entries) { if (entry.isIntersecting) { resolve(); observer.disconnect(); return; } } }, {rootMargin: \"1000px\"}); }); window.treescope_decompress_enqueue = (encoded, destId) => { const previous = lastStep; const destElt = document.getElementById(destId); lastStep = (async () => { await previous; let blob = new Blob([ Uint8Array.from(atob(encoded), (m) => m.codePointAt(0)) ]); let reader = blob.stream().pipeThrough( new DecompressionStream(\"deflate\") ).pipeThrough( new TextDecoderStream(\"utf-8\") ).getReader(); let parts = []; while (true) { let step = await reader.read(); if (step.done) { break; } parts.push(step.value); } let newElt = document.createElement(\"div\"); newElt.innerHTML = parts.join(\"\"); destElt.parentNode.replaceChild(newElt, destElt); for (let oldScript of newElt.querySelectorAll(\"script\")) { let newScript = document.createElement(\"script\"); newScript.type = oldScript.type; newScript.textContent = oldScript.textContent; oldScript.parentNode.replaceChild(newScript, oldScript); } })(); requestAnimationFrame(() => { observer.observe(destElt); }); } })(); </script><div id=\"compress_html_f79b8a37615c4ddb8eb3ebbbc2647eb0\"><script>window.treescope_decompress_enqueue(\"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\", \"compress_html_f79b8a37615c4ddb8eb3ebbbc2647eb0\");</script><span style=\"color: #aaaaaa; font-family: monospace\">(Loading...)</span></div></div>"
      ],
      "text/plain": [
       "<IPython.core.display.HTML object>"
      ]
     },
     "metadata": {},
     "output_type": "display_data"
    },
    {
     "data": {
      "text/html": [
       "<div id=\"compress_html_2e164fbf5e34449b81af787b597368d1\"><script>window.treescope_decompress_enqueue(\"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\", \"compress_html_2e164fbf5e34449b81af787b597368d1\");</script></div>"
      ],
      "text/plain": [
       "<IPython.core.display.HTML object>"
      ]
     },
     "metadata": {},
     "output_type": "display_data"
    },
    {
     "data": {
      "text/html": [
       "<div id=\"output_dest_39c464f64baf4866993d30b2b9fe8579\"><script> (()=>{ const output = document.getElementById(\"output_39c464f64baf4866993d30b2b9fe8579\"); const dest = document.getElementById(\"output_dest_39c464f64baf4866993d30b2b9fe8579\"); dest.parentNode.replaceChild(output, dest); })(); </script></div>"
      ],
      "text/plain": [
       "Selection(\n",
       "  selected_by_path=OrderedDict({\n",
       "    (DictKey(key='c'), SequenceKey(idx=0), DictKey(key='value')):\n",
       "      <jax.Array([ 0,  1,  2,  3,  4,  5,  6,  7,  8,  9, 10, 11], dtype=int32)>,\n",
       "    (DictKey(key='c'), SequenceKey(idx=1), DictKey(key='value')):\n",
       "      <jax.Array([0., 0., 0., 0., 0., 0., 0.], dtype=float32)>,\n",
       "  }),\n",
       "  remainder={\n",
       "    'a': 1,\n",
       "    'b': <jax.Array([0, 1, 2, 3, 4, 5, 6, 7, 8, 9], dtype=int32)>,\n",
       "    'c': [{'value': SelectionHole(path=(DictKey(key='c'), SequenceKey(idx=0), DictKey(key='value')))}, {'value': SelectionHole(path=(DictKey(key='c'), SequenceKey(idx=1), DictKey(key='value')))}, {'value': 3}],\n",
       "  },\n",
       ")"
      ]
     },
     "execution_count": 18,
     "metadata": {},
     "output_type": "execute_result"
    }
   ],
   "source": [
    "(\n",
    "    pz.select(my_nested_object)\n",
    "    .at(lambda root: (root[\"c\"][0], root[\"c\"][1]))\n",
    "    .at(lambda subtree: subtree[\"value\"])\n",
    ")"
   ]
  },
  {
   "cell_type": "markdown",
   "metadata": {
    "id": "Dy30CsovGJz5"
   },
   "source": [
    "There are a few restrictions on the function that is used to select a subtree. In particular:\n",
    "- your function can't depend on the actual value passed in, only on its PyTree structure,\n",
    "- your function should return a single node or tuple of nodes from the PyTree.\n",
    "\n",
    "Internally, `Selection.at` is implemented using [`equinox.tree_at`](https://docs.kidger.site/equinox/api/manipulation/#equinox.tree_at), which takes care of most of the heavy lifting."
   ]
  },
  {
   "cell_type": "markdown",
   "metadata": {
    "id": "KAmBjvkVHSMg"
   },
   "source": [
    "### Selecting by type\n",
    "\n",
    "If you want to select all subtrees with a particular type, you can use `Selection.at_instances_of`:"
   ]
  },
  {
   "cell_type": "code",
   "execution_count": 19,
   "metadata": {
    "execution": {
     "iopub.execute_input": "2024-06-27T23:19:26.855773Z",
     "iopub.status.busy": "2024-06-27T23:19:26.855525Z",
     "iopub.status.idle": "2024-06-27T23:19:26.868997Z",
     "shell.execute_reply": "2024-06-27T23:19:26.868748Z"
    },
    "id": "y438yc3_HgEg"
   },
   "outputs": [
    {
     "data": {
      "text/html": [
       "<div id=\"output_f79da8fd5e424210bcb081a73f12fba2\"><script> /* penzai.treescope rendering of a Python object (compressed) */ (()=>{ let observer; let lastStep = new Promise((resolve, reject) => { observer = new IntersectionObserver((entries) => { for (const entry of entries) { if (entry.isIntersecting) { resolve(); observer.disconnect(); return; } } }, {rootMargin: \"1000px\"}); }); window.treescope_decompress_enqueue = (encoded, destId) => { const previous = lastStep; const destElt = document.getElementById(destId); lastStep = (async () => { await previous; let blob = new Blob([ Uint8Array.from(atob(encoded), (m) => m.codePointAt(0)) ]); let reader = blob.stream().pipeThrough( new DecompressionStream(\"deflate\") ).pipeThrough( new TextDecoderStream(\"utf-8\") ).getReader(); let parts = []; while (true) { let step = await reader.read(); if (step.done) { break; } parts.push(step.value); } let newElt = document.createElement(\"div\"); newElt.innerHTML = parts.join(\"\"); destElt.parentNode.replaceChild(newElt, destElt); for (let oldScript of newElt.querySelectorAll(\"script\")) { let newScript = document.createElement(\"script\"); newScript.type = oldScript.type; newScript.textContent = oldScript.textContent; oldScript.parentNode.replaceChild(newScript, oldScript); } })(); requestAnimationFrame(() => { observer.observe(destElt); }); } })(); </script><div id=\"compress_html_a4d7321e266e46e6a7f9c3f352b2c824\"><script>window.treescope_decompress_enqueue(\"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\", \"compress_html_a4d7321e266e46e6a7f9c3f352b2c824\");</script><span style=\"color: #aaaaaa; font-family: monospace\">(Loading...)</span></div></div>"
      ],
      "text/plain": [
       "<IPython.core.display.HTML object>"
      ]
     },
     "metadata": {},
     "output_type": "display_data"
    },
    {
     "data": {
      "text/html": [
       "<div id=\"compress_html_9297ca06181148f9bfac40f849d07e0f\"><script>window.treescope_decompress_enqueue(\"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\", \"compress_html_9297ca06181148f9bfac40f849d07e0f\");</script></div>"
      ],
      "text/plain": [
       "<IPython.core.display.HTML object>"
      ]
     },
     "metadata": {},
     "output_type": "display_data"
    },
    {
     "data": {
      "text/html": [
       "<div id=\"output_dest_f79da8fd5e424210bcb081a73f12fba2\"><script> (()=>{ const output = document.getElementById(\"output_f79da8fd5e424210bcb081a73f12fba2\"); const dest = document.getElementById(\"output_dest_f79da8fd5e424210bcb081a73f12fba2\"); dest.parentNode.replaceChild(output, dest); })(); </script></div>"
      ],
      "text/plain": [
       "Selection(\n",
       "  selected_by_path=OrderedDict({\n",
       "    (DictKey(key='a'),):\n",
       "      1,\n",
       "    (DictKey(key='c'), SequenceKey(idx=2), DictKey(key='value')):\n",
       "      3,\n",
       "  }),\n",
       "  remainder={\n",
       "    'a': SelectionHole(path=(DictKey(key='a'),)),\n",
       "    'b': <jax.Array([0, 1, 2, 3, 4, 5, 6, 7, 8, 9], dtype=int32)>,\n",
       "    'c': [{'value': <jax.Array([ 0,  1,  2,  3,  4,  5,  6,  7,  8,  9, 10, 11], dtype=int32)>}, {'value': <jax.Array([0., 0., 0., 0., 0., 0., 0.], dtype=float32)>}, {'value': SelectionHole(path=(DictKey(key='c'), SequenceKey(idx=2), DictKey(key='value')))}],\n",
       "  },\n",
       ")"
      ]
     },
     "execution_count": 19,
     "metadata": {},
     "output_type": "execute_result"
    }
   ],
   "source": [
    "pz.select(my_nested_object).at_instances_of(int)"
   ]
  },
  {
   "cell_type": "markdown",
   "metadata": {
    "id": "wIjWns9HHiXj"
   },
   "source": [
    "This selects any subtree for which `isinstance(subtree, requested_type)` evaluates to True.\n",
    "\n",
    "Note that selections cannot be nested, so this only selects the *outermost* value with the given type:"
   ]
  },
  {
   "cell_type": "code",
   "execution_count": 20,
   "metadata": {
    "execution": {
     "iopub.execute_input": "2024-06-27T23:19:26.875326Z",
     "iopub.status.busy": "2024-06-27T23:19:26.875096Z",
     "iopub.status.idle": "2024-06-27T23:19:26.886027Z",
     "shell.execute_reply": "2024-06-27T23:19:26.885852Z"
    },
    "id": "sopg1pzrH2ZX"
   },
   "outputs": [
    {
     "data": {
      "text/html": [
       "<div id=\"output_3101829038c14d40998a749de2e3bb62\"><script> /* penzai.treescope rendering of a Python object (compressed) */ (()=>{ let observer; let lastStep = new Promise((resolve, reject) => { observer = new IntersectionObserver((entries) => { for (const entry of entries) { if (entry.isIntersecting) { resolve(); observer.disconnect(); return; } } }, {rootMargin: \"1000px\"}); }); window.treescope_decompress_enqueue = (encoded, destId) => { const previous = lastStep; const destElt = document.getElementById(destId); lastStep = (async () => { await previous; let blob = new Blob([ Uint8Array.from(atob(encoded), (m) => m.codePointAt(0)) ]); let reader = blob.stream().pipeThrough( new DecompressionStream(\"deflate\") ).pipeThrough( new TextDecoderStream(\"utf-8\") ).getReader(); let parts = []; while (true) { let step = await reader.read(); if (step.done) { break; } parts.push(step.value); } let newElt = document.createElement(\"div\"); newElt.innerHTML = parts.join(\"\"); destElt.parentNode.replaceChild(newElt, destElt); for (let oldScript of newElt.querySelectorAll(\"script\")) { let newScript = document.createElement(\"script\"); newScript.type = oldScript.type; newScript.textContent = oldScript.textContent; oldScript.parentNode.replaceChild(newScript, oldScript); } })(); requestAnimationFrame(() => { observer.observe(destElt); }); } })(); </script><div id=\"compress_html_509de778401a4da395bb7d966eb947eb\"><script>window.treescope_decompress_enqueue(\"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\", \"compress_html_509de778401a4da395bb7d966eb947eb\");</script><span style=\"color: #aaaaaa; font-family: monospace\">(Loading...)</span></div></div>"
      ],
      "text/plain": [
       "<IPython.core.display.HTML object>"
      ]
     },
     "metadata": {},
     "output_type": "display_data"
    },
    {
     "data": {
      "text/html": [
       "<div id=\"compress_html_45c15b2716e0401f84ca5f48274f8e37\"><script>window.treescope_decompress_enqueue(\"eNrtWltv2zYU/isHKtbIra3ItnyPDWzpBvSlD8OAPRSBQImUpYUWNYnOpUX/+w4pWbZsx3bSNME2BYgdiefGc+NHhhc0uoFM3nM2NWiUJZzcjyEWMTMgolMjEKlLWcDSlFE38IgzCka+0+8NnWFARp3OMPBGbNgbDLqU9o3ZRZaQGD+VvJnlCSnFgkcxG8dCmlYgOCUeZ24sKBuHJDNnnHiMz6ojrhTzOc95xn7I/GtGGw1414CvkBBKo3jekiIZg221e2wxAaWhFbJoHsoxtC397pvlC47GE89L2Q1y6scxvOkPO8S21wS+WCxYLN3bkMUuu0P7KaPPZu9KK9E/pVZ0pjJ6TeBx4l9PwMPPeSqWMW0VAzckNVstjwv/On/VQCqRUpbmPmgnd5AJHtFDlHkgjhF/Ayu8T1iKll27KVsIydxQ3LAUto3eNVNccz80h85PKihOD9r2KJd4SzI381PBObJLYQVRmklXRv71yVJHjtVWcu0RtLt9a7BXsPb+QXWNHYUyJXEWyUjE4x3l0M6AkYy1orgllrIJgYhl61Yn2daYimrohy7mvs9czgK5kajqUWVqzw+rdKmWtCZM8/QtKf9eEh6TBXOTlAXRHVJqC7LoC1NUwzzJM0lUurl+GHGasricYh55mEGV5NkSu+wVOocmsCDpHN2RT9cn3Dc7fggttNTxwzxiR2z9YaYVRZCblqe/tmpvEVQajJ4HRoSH8A7MNk5nk6WQmyEVazQapQ/WrK3TeVd6V6WqOUuRq7et4vULenPdbLQHWymh0TIrJthmC5zdwxPTln6fEUdT/GulH+bxVY3uhH54mPibhRJ/yOq1DvKhBUyvSLolyTRKNhNbrc/atTJlLPNFgu1ECGmVxO4CLYEDEqJY6cwbqSJCa48SnqLsQTmFyRfnOTbQQAF8TrJsalTNLFDECpRUooIrKfWGTo9M9uUb+m5iVEVXQoNjecQuojhZSpC42k0NHSNP3Bl7eYpwIuu5ZqqKX6+XEguVSQMokaR1ze4TIsOpsWVNZf0pkguqS4dximuKwa0lwpglLP5ConWgsFQStCTDhTwgnKs1zsIIaIyWf30S8veV9ERN2qyOX5wXHtvUu12RUK1I4wD1DqnAdS+KCUfAkaTTRznXqvDuc7Wb4bziuTF7++auM5j8nKbk3vxsN6HdhE4Tuk1wmtBrQr8JgyYMmzC6agLVaRHFsttp5HxVlzR3A4TKOEkyRo0ZrIh3iFbYsmromQqRt8R+EJ+BiC85QpXp2TqCIfJgKioq11eDpgyjrHGW+0K9nhomJwuPElBlOdafVdc0jHUxlWxjODvKdzaBgoPEWNkkh0pnl8gOKgb4d4n5zw98PSEdcPPxxGSI6N5UiJcLT2lo23bH6fR6o36nOxwO/82xjehTIotcrxhXXVxPjKzifdn+fmCLaBxMgzd7c2WnYf9F7lYNWTenQ133kPYI38VyoyUfHDdmzxeAzV029lkuJ3oA8s6p5qcnlj++ncvJgRR6xVJSM3tKMWm+5yqnU0tty0/N2pcnua2CvtZnU7C1JzdmjcdFooJ5j5ZHWRKPAyK7lbP6otHN7OIRp3i9Tt8n9oj5Q+I4Tr/reQ5tD+xRf+gQ2ukH61O8GqLXEP11IDpgaajaUMWhqkOVh6oPVSCqQlSJwAjLR5VQuwbt/xPQ3rdHju3Ydg3aa9Beg/YatNegvQbtLw3avw+aPB+MJwPWceggIKzL1D/jvWBEek4w7PRGfr/v9WsYX8P4Vz9pt5qw/7esi4ALUoP2//hJu91t9+uT9hq016C9Bu01aK9B+8uftD8CiByB6JmPuuXMNBswncFXX8QZ9j9dzh9pBlP4bJx+YbYJxunn8pvER9H/1SS3TAUejbrFviRuN/AqmutWL/SYQIW/VO1XDf7Kmfrzl/uP1Cxn99m+Une6cslBSuaKBKWXjH7KiGQfisffCgqz5FF6LjluaJBpxW+RBNE0vVT90tR56iuKT7hkmDJd6ltkuPMBkzMJETLaE/y6WPvc4iyeyxDfvn+vblkpunxwU8uDc4quUIHiycQy9dkH3IJNH3SF3oMZ8B62+PNHC7Ecx/T+M5KhWYrLL6EWUvQ0kWE9qm7a3jBT35XLL1ZtCCkdpoYbigizMc/AVSbuhJbFfy/Zkn0ocuUPtkB5kmVmo+T9By8mLc0=\", \"compress_html_45c15b2716e0401f84ca5f48274f8e37\");</script></div>"
      ],
      "text/plain": [
       "<IPython.core.display.HTML object>"
      ]
     },
     "metadata": {},
     "output_type": "display_data"
    },
    {
     "data": {
      "text/html": [
       "<div id=\"output_dest_3101829038c14d40998a749de2e3bb62\"><script> (()=>{ const output = document.getElementById(\"output_3101829038c14d40998a749de2e3bb62\"); const dest = document.getElementById(\"output_dest_3101829038c14d40998a749de2e3bb62\"); dest.parentNode.replaceChild(output, dest); })(); </script></div>"
      ],
      "text/plain": [
       "Selection(\n",
       "  selected_by_path=OrderedDict({\n",
       "    (): {\n",
       "      'a': 1,\n",
       "      'b': <jax.Array([0, 1, 2, 3, 4, 5, 6, 7, 8, 9], dtype=int32)>,\n",
       "      'c': [\n",
       "        {\n",
       "          'value': <jax.Array([ 0,  1,  2,  3,  4,  5,  6,  7,  8,  9, 10, 11], dtype=int32)>,\n",
       "        },\n",
       "        {\n",
       "          'value': <jax.Array([0., 0., 0., 0., 0., 0., 0.], dtype=float32)>,\n",
       "        },\n",
       "        {'value': 3},\n",
       "      ],\n",
       "    },\n",
       "  }),\n",
       "  remainder=SelectionHole(path=()),\n",
       ")"
      ]
     },
     "execution_count": 20,
     "metadata": {},
     "output_type": "execute_result"
    }
   ],
   "source": [
    "pz.select(my_nested_object).at_instances_of(dict)"
   ]
  },
  {
   "cell_type": "markdown",
   "metadata": {
    "id": "R-Qm4rBaHkNW"
   },
   "source": [
    "### Selecting by condition\n",
    "More generally, you can select all subtrees for which a function evaluates to true:"
   ]
  },
  {
   "cell_type": "code",
   "execution_count": 21,
   "metadata": {
    "execution": {
     "iopub.execute_input": "2024-06-27T23:19:26.893663Z",
     "iopub.status.busy": "2024-06-27T23:19:26.893330Z",
     "iopub.status.idle": "2024-06-27T23:19:26.906606Z",
     "shell.execute_reply": "2024-06-27T23:19:26.906409Z"
    },
    "id": "yK6nvVfWH-Jh"
   },
   "outputs": [
    {
     "data": {
      "text/html": [
       "<div id=\"output_2af78be3a8064e6baa287d6b3f112bbe\"><script> /* penzai.treescope rendering of a Python object (compressed) */ (()=>{ let observer; let lastStep = new Promise((resolve, reject) => { observer = new IntersectionObserver((entries) => { for (const entry of entries) { if (entry.isIntersecting) { resolve(); observer.disconnect(); return; } } }, {rootMargin: \"1000px\"}); }); window.treescope_decompress_enqueue = (encoded, destId) => { const previous = lastStep; const destElt = document.getElementById(destId); lastStep = (async () => { await previous; let blob = new Blob([ Uint8Array.from(atob(encoded), (m) => m.codePointAt(0)) ]); let reader = blob.stream().pipeThrough( new DecompressionStream(\"deflate\") ).pipeThrough( new TextDecoderStream(\"utf-8\") ).getReader(); let parts = []; while (true) { let step = await reader.read(); if (step.done) { break; } parts.push(step.value); } let newElt = document.createElement(\"div\"); newElt.innerHTML = parts.join(\"\"); destElt.parentNode.replaceChild(newElt, destElt); for (let oldScript of newElt.querySelectorAll(\"script\")) { let newScript = document.createElement(\"script\"); newScript.type = oldScript.type; newScript.textContent = oldScript.textContent; oldScript.parentNode.replaceChild(newScript, oldScript); } })(); requestAnimationFrame(() => { observer.observe(destElt); }); } })(); </script><div id=\"compress_html_397db4c337c04d4b8f7c7d23ba3292ee\"><script>window.treescope_decompress_enqueue(\"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\", \"compress_html_397db4c337c04d4b8f7c7d23ba3292ee\");</script><span style=\"color: #aaaaaa; font-family: monospace\">(Loading...)</span></div></div>"
      ],
      "text/plain": [
       "<IPython.core.display.HTML object>"
      ]
     },
     "metadata": {},
     "output_type": "display_data"
    },
    {
     "data": {
      "text/html": [
       "<div id=\"compress_html_e18c7a6b9fe2436190e9111504806dac\"><script>window.treescope_decompress_enqueue(\"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\", \"compress_html_e18c7a6b9fe2436190e9111504806dac\");</script></div>"
      ],
      "text/plain": [
       "<IPython.core.display.HTML object>"
      ]
     },
     "metadata": {},
     "output_type": "display_data"
    },
    {
     "data": {
      "text/html": [
       "<div id=\"output_dest_2af78be3a8064e6baa287d6b3f112bbe\"><script> (()=>{ const output = document.getElementById(\"output_2af78be3a8064e6baa287d6b3f112bbe\"); const dest = document.getElementById(\"output_dest_2af78be3a8064e6baa287d6b3f112bbe\"); dest.parentNode.replaceChild(output, dest); })(); </script></div>"
      ],
      "text/plain": [
       "Selection(\n",
       "  selected_by_path=OrderedDict({\n",
       "    (DictKey(key='b'),):\n",
       "      <jax.Array([0, 1, 2, 3, 4, 5, 6, 7, 8, 9], dtype=int32)>,\n",
       "    (DictKey(key='c'), SequenceKey(idx=1), DictKey(key='value')):\n",
       "      <jax.Array([0., 0., 0., 0., 0., 0., 0.], dtype=float32)>,\n",
       "  }),\n",
       "  remainder={\n",
       "    'a': 1,\n",
       "    'b': SelectionHole(path=(DictKey(key='b'),)),\n",
       "    'c': [{'value': <jax.Array([ 0,  1,  2,  3,  4,  5,  6,  7,  8,  9, 10, 11], dtype=int32)>}, {'value': SelectionHole(path=(DictKey(key='c'), SequenceKey(idx=1), DictKey(key='value')))}, {'value': 3}],\n",
       "  },\n",
       ")"
      ]
     },
     "execution_count": 21,
     "metadata": {},
     "output_type": "execute_result"
    }
   ],
   "source": [
    "(\n",
    "    pz.select(my_nested_object)\n",
    "    .at_subtrees_where(\n",
    "        lambda subtree: isinstance(subtree, jax.Array) and subtree.size <= 10)\n",
    ")"
   ]
  },
  {
   "cell_type": "markdown",
   "metadata": {
    "id": "Hz97YScaHmyC"
   },
   "source": [
    "In fact, `at_instances_of` is a thin wrapper around `at_subtrees_where`. There's another convenience method for finding values equal to a sentinel value:"
   ]
  },
  {
   "cell_type": "code",
   "execution_count": 22,
   "metadata": {
    "execution": {
     "iopub.execute_input": "2024-06-27T23:19:26.913017Z",
     "iopub.status.busy": "2024-06-27T23:19:26.912783Z",
     "iopub.status.idle": "2024-06-27T23:19:26.924133Z",
     "shell.execute_reply": "2024-06-27T23:19:26.923706Z"
    },
    "id": "LKwjwL8CJjur"
   },
   "outputs": [
    {
     "data": {
      "text/html": [
       "<div id=\"output_b49601edf40d44529eef7494ca973e6a\"><script> /* penzai.treescope rendering of a Python object (compressed) */ (()=>{ let observer; let lastStep = new Promise((resolve, reject) => { observer = new IntersectionObserver((entries) => { for (const entry of entries) { if (entry.isIntersecting) { resolve(); observer.disconnect(); return; } } }, {rootMargin: \"1000px\"}); }); window.treescope_decompress_enqueue = (encoded, destId) => { const previous = lastStep; const destElt = document.getElementById(destId); lastStep = (async () => { await previous; let blob = new Blob([ Uint8Array.from(atob(encoded), (m) => m.codePointAt(0)) ]); let reader = blob.stream().pipeThrough( new DecompressionStream(\"deflate\") ).pipeThrough( new TextDecoderStream(\"utf-8\") ).getReader(); let parts = []; while (true) { let step = await reader.read(); if (step.done) { break; } parts.push(step.value); } let newElt = document.createElement(\"div\"); newElt.innerHTML = parts.join(\"\"); destElt.parentNode.replaceChild(newElt, destElt); for (let oldScript of newElt.querySelectorAll(\"script\")) { let newScript = document.createElement(\"script\"); newScript.type = oldScript.type; newScript.textContent = oldScript.textContent; oldScript.parentNode.replaceChild(newScript, oldScript); } })(); requestAnimationFrame(() => { observer.observe(destElt); }); } })(); </script><div id=\"compress_html_90a1a20675964d008c51ba0cdbe76c3c\"><script>window.treescope_decompress_enqueue(\"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\", \"compress_html_90a1a20675964d008c51ba0cdbe76c3c\");</script><span style=\"color: #aaaaaa; font-family: monospace\">(Loading...)</span></div></div>"
      ],
      "text/plain": [
       "<IPython.core.display.HTML object>"
      ]
     },
     "metadata": {},
     "output_type": "display_data"
    },
    {
     "data": {
      "text/html": [
       "<div id=\"compress_html_38a57f2053874cdbb918ae246d606cf8\"><script>window.treescope_decompress_enqueue(\"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\", \"compress_html_38a57f2053874cdbb918ae246d606cf8\");</script></div>"
      ],
      "text/plain": [
       "<IPython.core.display.HTML object>"
      ]
     },
     "metadata": {},
     "output_type": "display_data"
    },
    {
     "data": {
      "text/html": [
       "<div id=\"output_dest_b49601edf40d44529eef7494ca973e6a\"><script> (()=>{ const output = document.getElementById(\"output_b49601edf40d44529eef7494ca973e6a\"); const dest = document.getElementById(\"output_dest_b49601edf40d44529eef7494ca973e6a\"); dest.parentNode.replaceChild(output, dest); })(); </script></div>"
      ],
      "text/plain": [
       "Selection(\n",
       "  selected_by_path=OrderedDict({(DictKey(key='a'),): 1}),\n",
       "  remainder={\n",
       "    'a': SelectionHole(path=(DictKey(key='a'),)),\n",
       "    'b': <jax.Array([0, 1, 2, 3, 4, 5, 6, 7, 8, 9], dtype=int32)>,\n",
       "    'c': [\n",
       "      {\n",
       "        'value': <jax.Array([ 0,  1,  2,  3,  4,  5,  6,  7,  8,  9, 10, 11], dtype=int32)>,\n",
       "      },\n",
       "      {\n",
       "        'value': <jax.Array([0., 0., 0., 0., 0., 0., 0.], dtype=float32)>,\n",
       "      },\n",
       "      {'value': 3},\n",
       "    ],\n",
       "  },\n",
       ")"
      ]
     },
     "execution_count": 22,
     "metadata": {},
     "output_type": "execute_result"
    }
   ],
   "source": [
    "(\n",
    "    pz.select(my_nested_object)\n",
    "    .at_equal_to(1)\n",
    ")"
   ]
  },
  {
   "cell_type": "code",
   "execution_count": 23,
   "metadata": {
    "execution": {
     "iopub.execute_input": "2024-06-27T23:19:26.930053Z",
     "iopub.status.busy": "2024-06-27T23:19:26.929821Z",
     "iopub.status.idle": "2024-06-27T23:19:26.935281Z",
     "shell.execute_reply": "2024-06-27T23:19:26.935097Z"
    },
    "id": "lNlmgOXZIW8O"
   },
   "outputs": [
    {
     "data": {
      "text/html": [
       "<div id=\"output_3bb10ba6562e4b9d94a25e8ae85c10b3\"><script> /* penzai.treescope rendering of a Python object (compressed) */ (()=>{ let observer; let lastStep = new Promise((resolve, reject) => { observer = new IntersectionObserver((entries) => { for (const entry of entries) { if (entry.isIntersecting) { resolve(); observer.disconnect(); return; } } }, {rootMargin: \"1000px\"}); }); window.treescope_decompress_enqueue = (encoded, destId) => { const previous = lastStep; const destElt = document.getElementById(destId); lastStep = (async () => { await previous; let blob = new Blob([ Uint8Array.from(atob(encoded), (m) => m.codePointAt(0)) ]); let reader = blob.stream().pipeThrough( new DecompressionStream(\"deflate\") ).pipeThrough( new TextDecoderStream(\"utf-8\") ).getReader(); let parts = []; while (true) { let step = await reader.read(); if (step.done) { break; } parts.push(step.value); } let newElt = document.createElement(\"div\"); newElt.innerHTML = parts.join(\"\"); destElt.parentNode.replaceChild(newElt, destElt); for (let oldScript of newElt.querySelectorAll(\"script\")) { let newScript = document.createElement(\"script\"); newScript.type = oldScript.type; newScript.textContent = oldScript.textContent; oldScript.parentNode.replaceChild(newScript, oldScript); } })(); requestAnimationFrame(() => { observer.observe(destElt); }); } })(); </script><div id=\"compress_html_34a7ceb8323a45d088b74238bcde3b29\"><script>window.treescope_decompress_enqueue(\"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\", \"compress_html_34a7ceb8323a45d088b74238bcde3b29\");</script><span style=\"color: #aaaaaa; font-family: monospace\">(Loading...)</span></div></div>"
      ],
      "text/plain": [
       "<IPython.core.display.HTML object>"
      ]
     },
     "metadata": {},
     "output_type": "display_data"
    },
    {
     "data": {
      "text/html": [
       "<div id=\"output_dest_3bb10ba6562e4b9d94a25e8ae85c10b3\"><script> (()=>{ const output = document.getElementById(\"output_3bb10ba6562e4b9d94a25e8ae85c10b3\"); const dest = document.getElementById(\"output_dest_3bb10ba6562e4b9d94a25e8ae85c10b3\"); dest.parentNode.replaceChild(output, dest); })(); </script></div>"
      ],
      "text/plain": [
       "Selection(\n",
       "  selected_by_path=OrderedDict({(DictKey(key='bar'),): [1, 2, 3]}),\n",
       "  remainder={\n",
       "    'bar': SelectionHole(path=(DictKey(key='bar'),)),\n",
       "    'foo': 'foo',\n",
       "  },\n",
       ")"
      ]
     },
     "execution_count": 23,
     "metadata": {},
     "output_type": "execute_result"
    }
   ],
   "source": [
    "(\n",
    "    pz.select({\"foo\": \"foo\", \"bar\": [1, 2, 3]}).at_equal_to([1, 2, 3])\n",
    ")"
   ]
  },
  {
   "cell_type": "markdown",
   "metadata": {
    "id": "1GZV7CkULrZ_"
   },
   "source": [
    "### Selecting by JAX keypath"
   ]
  },
  {
   "cell_type": "markdown",
   "metadata": {
    "id": "nJSlyPdGLvNE"
   },
   "source": [
    "PyTree nodes in JAX are associated with key paths identifying their location in the tree:"
   ]
  },
  {
   "cell_type": "code",
   "execution_count": 24,
   "metadata": {
    "execution": {
     "iopub.execute_input": "2024-06-27T23:19:26.944726Z",
     "iopub.status.busy": "2024-06-27T23:19:26.944461Z",
     "iopub.status.idle": "2024-06-27T23:19:26.948913Z",
     "shell.execute_reply": "2024-06-27T23:19:26.948740Z"
    },
    "id": "9nX57pMUL72X"
   },
   "outputs": [
    {
     "data": {
      "text/html": [
       "<div id=\"output_c5ce04fbb21e48b69cf4abc9b470e2d8\"><script> /* penzai.treescope rendering of a Python object (compressed) */ (()=>{ let observer; let lastStep = new Promise((resolve, reject) => { observer = new IntersectionObserver((entries) => { for (const entry of entries) { if (entry.isIntersecting) { resolve(); observer.disconnect(); return; } } }, {rootMargin: \"1000px\"}); }); window.treescope_decompress_enqueue = (encoded, destId) => { const previous = lastStep; const destElt = document.getElementById(destId); lastStep = (async () => { await previous; let blob = new Blob([ Uint8Array.from(atob(encoded), (m) => m.codePointAt(0)) ]); let reader = blob.stream().pipeThrough( new DecompressionStream(\"deflate\") ).pipeThrough( new TextDecoderStream(\"utf-8\") ).getReader(); let parts = []; while (true) { let step = await reader.read(); if (step.done) { break; } parts.push(step.value); } let newElt = document.createElement(\"div\"); newElt.innerHTML = parts.join(\"\"); destElt.parentNode.replaceChild(newElt, destElt); for (let oldScript of newElt.querySelectorAll(\"script\")) { let newScript = document.createElement(\"script\"); newScript.type = oldScript.type; newScript.textContent = oldScript.textContent; oldScript.parentNode.replaceChild(newScript, oldScript); } })(); requestAnimationFrame(() => { observer.observe(destElt); }); } })(); </script><div id=\"compress_html_87f796a60c7d496fa593d4f8a29a9f1e\"><script>window.treescope_decompress_enqueue(\"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\", \"compress_html_87f796a60c7d496fa593d4f8a29a9f1e\");</script><span style=\"color: #aaaaaa; font-family: monospace\">(Loading...)</span></div></div>"
      ],
      "text/plain": [
       "<IPython.core.display.HTML object>"
      ]
     },
     "metadata": {},
     "output_type": "display_data"
    },
    {
     "data": {
      "text/html": [
       "<div id=\"output_dest_c5ce04fbb21e48b69cf4abc9b470e2d8\"><script> (()=>{ const output = document.getElementById(\"output_c5ce04fbb21e48b69cf4abc9b470e2d8\"); const dest = document.getElementById(\"output_dest_c5ce04fbb21e48b69cf4abc9b470e2d8\"); dest.parentNode.replaceChild(output, dest); })(); </script></div>"
      ],
      "text/plain": [
       "{'a': (DictKey(key='a'),),\n",
       " 'b': (DictKey(key='b'),),\n",
       " 'c': [{'value': (DictKey(key='c'), SequenceKey(idx=0), DictKey(key='value'))},\n",
       "  {'value': (DictKey(key='c'), SequenceKey(idx=1), DictKey(key='value'))},\n",
       "  {'value': (DictKey(key='c'), SequenceKey(idx=2), DictKey(key='value'))}]}"
      ]
     },
     "execution_count": 24,
     "metadata": {},
     "output_type": "execute_result"
    }
   ],
   "source": [
    "jax.tree_util.tree_map_with_path(lambda key, node: key, my_nested_object)"
   ]
  },
  {
   "cell_type": "markdown",
   "metadata": {
    "id": "BzUbLkQ5MFTG"
   },
   "source": [
    "You can directly select nodes based on their JAX keypath:"
   ]
  },
  {
   "cell_type": "code",
   "execution_count": 25,
   "metadata": {
    "execution": {
     "iopub.execute_input": "2024-06-27T23:19:26.957356Z",
     "iopub.status.busy": "2024-06-27T23:19:26.957121Z",
     "iopub.status.idle": "2024-06-27T23:19:26.971512Z",
     "shell.execute_reply": "2024-06-27T23:19:26.971225Z"
    },
    "id": "YQZQ9MVwMw0h"
   },
   "outputs": [
    {
     "data": {
      "text/html": [
       "<div id=\"output_df7463056d43461da74d7018c813bfac\"><script> /* penzai.treescope rendering of a Python object (compressed) */ (()=>{ let observer; let lastStep = new Promise((resolve, reject) => { observer = new IntersectionObserver((entries) => { for (const entry of entries) { if (entry.isIntersecting) { resolve(); observer.disconnect(); return; } } }, {rootMargin: \"1000px\"}); }); window.treescope_decompress_enqueue = (encoded, destId) => { const previous = lastStep; const destElt = document.getElementById(destId); lastStep = (async () => { await previous; let blob = new Blob([ Uint8Array.from(atob(encoded), (m) => m.codePointAt(0)) ]); let reader = blob.stream().pipeThrough( new DecompressionStream(\"deflate\") ).pipeThrough( new TextDecoderStream(\"utf-8\") ).getReader(); let parts = []; while (true) { let step = await reader.read(); if (step.done) { break; } parts.push(step.value); } let newElt = document.createElement(\"div\"); newElt.innerHTML = parts.join(\"\"); destElt.parentNode.replaceChild(newElt, destElt); for (let oldScript of newElt.querySelectorAll(\"script\")) { let newScript = document.createElement(\"script\"); newScript.type = oldScript.type; newScript.textContent = oldScript.textContent; oldScript.parentNode.replaceChild(newScript, oldScript); } })(); requestAnimationFrame(() => { observer.observe(destElt); }); } })(); </script><div id=\"compress_html_e668f7401a184b45883f955f796da6df\"><script>window.treescope_decompress_enqueue(\"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\", \"compress_html_e668f7401a184b45883f955f796da6df\");</script><span style=\"color: #aaaaaa; font-family: monospace\">(Loading...)</span></div></div>"
      ],
      "text/plain": [
       "<IPython.core.display.HTML object>"
      ]
     },
     "metadata": {},
     "output_type": "display_data"
    },
    {
     "data": {
      "text/html": [
       "<div id=\"compress_html_c3f6350c261f4e0a9ca72a9fd4c45898\"><script>window.treescope_decompress_enqueue(\"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\", \"compress_html_c3f6350c261f4e0a9ca72a9fd4c45898\");</script></div>"
      ],
      "text/plain": [
       "<IPython.core.display.HTML object>"
      ]
     },
     "metadata": {},
     "output_type": "display_data"
    },
    {
     "data": {
      "text/html": [
       "<div id=\"output_dest_df7463056d43461da74d7018c813bfac\"><script> (()=>{ const output = document.getElementById(\"output_df7463056d43461da74d7018c813bfac\"); const dest = document.getElementById(\"output_dest_df7463056d43461da74d7018c813bfac\"); dest.parentNode.replaceChild(output, dest); })(); </script></div>"
      ],
      "text/plain": [
       "Selection(\n",
       "  selected_by_path=OrderedDict({\n",
       "    (DictKey(key='c'), SequenceKey(idx=0)):\n",
       "      {\n",
       "        'value': <jax.Array([ 0,  1,  2,  3,  4,  5,  6,  7,  8,  9, 10, 11], dtype=int32)>,\n",
       "      },\n",
       "    (DictKey(key='c'), SequenceKey(idx=2), DictKey(key='value')):\n",
       "      3,\n",
       "  }),\n",
       "  remainder={\n",
       "    'a': 1,\n",
       "    'b': <jax.Array([0, 1, 2, 3, 4, 5, 6, 7, 8, 9], dtype=int32)>,\n",
       "    'c': [SelectionHole(path=(DictKey(key='c'), SequenceKey(idx=0))), {'value': <jax.Array([0., 0., 0., 0., 0., 0., 0.], dtype=float32)>}, {'value': SelectionHole(path=(DictKey(key='c'), SequenceKey(idx=2), DictKey(key='value')))}],\n",
       "  },\n",
       ")"
      ]
     },
     "execution_count": 25,
     "metadata": {},
     "output_type": "execute_result"
    }
   ],
   "source": [
    "pz.select(my_nested_object).at_keypaths([\n",
    "    (jax.tree_util.DictKey(key='c'), jax.tree_util.SequenceKey(idx=2), jax.tree_util.DictKey(key='value')),\n",
    "    (jax.tree_util.DictKey(key='c'), jax.tree_util.SequenceKey(idx=0)),\n",
    "])"
   ]
  },
  {
   "cell_type": "markdown",
   "metadata": {
    "id": "vyDFHhwNNI2y"
   },
   "source": [
    "(You might have noticed that the fancy rendering for Selection objects is actually written in terms of `at_keypaths`, and exposes the keypaths for the currently selected nodes if you expand the last line!)"
   ]
  },
  {
   "cell_type": "markdown",
   "metadata": {
    "id": "j8rujhAbOOKR"
   },
   "source": [
    "### Selecting based on PyTree structure\n",
    "\n",
    "You can also build selections based on PyTree children or PyTree leaves:"
   ]
  },
  {
   "cell_type": "code",
   "execution_count": 26,
   "metadata": {
    "execution": {
     "iopub.execute_input": "2024-06-27T23:19:26.979264Z",
     "iopub.status.busy": "2024-06-27T23:19:26.978839Z",
     "iopub.status.idle": "2024-06-27T23:19:26.992096Z",
     "shell.execute_reply": "2024-06-27T23:19:26.992214Z"
    },
    "id": "ZBZnh09wOdJz"
   },
   "outputs": [
    {
     "data": {
      "text/html": [
       "<div id=\"output_2210c056145541478f84a3e74a75aa31\"><script> /* penzai.treescope rendering of a Python object (compressed) */ (()=>{ let observer; let lastStep = new Promise((resolve, reject) => { observer = new IntersectionObserver((entries) => { for (const entry of entries) { if (entry.isIntersecting) { resolve(); observer.disconnect(); return; } } }, {rootMargin: \"1000px\"}); }); window.treescope_decompress_enqueue = (encoded, destId) => { const previous = lastStep; const destElt = document.getElementById(destId); lastStep = (async () => { await previous; let blob = new Blob([ Uint8Array.from(atob(encoded), (m) => m.codePointAt(0)) ]); let reader = blob.stream().pipeThrough( new DecompressionStream(\"deflate\") ).pipeThrough( new TextDecoderStream(\"utf-8\") ).getReader(); let parts = []; while (true) { let step = await reader.read(); if (step.done) { break; } parts.push(step.value); } let newElt = document.createElement(\"div\"); newElt.innerHTML = parts.join(\"\"); destElt.parentNode.replaceChild(newElt, destElt); for (let oldScript of newElt.querySelectorAll(\"script\")) { let newScript = document.createElement(\"script\"); newScript.type = oldScript.type; newScript.textContent = oldScript.textContent; oldScript.parentNode.replaceChild(newScript, oldScript); } })(); requestAnimationFrame(() => { observer.observe(destElt); }); } })(); </script><div id=\"compress_html_49af8e97f6ba4534beed319b79cb93a6\"><script>window.treescope_decompress_enqueue(\"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\", \"compress_html_49af8e97f6ba4534beed319b79cb93a6\");</script><span style=\"color: #aaaaaa; font-family: monospace\">(Loading...)</span></div></div>"
      ],
      "text/plain": [
       "<IPython.core.display.HTML object>"
      ]
     },
     "metadata": {},
     "output_type": "display_data"
    },
    {
     "data": {
      "text/html": [
       "<div id=\"compress_html_4e844594ab114aa9b6b8cc2d98dd40fc\"><script>window.treescope_decompress_enqueue(\"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\", \"compress_html_4e844594ab114aa9b6b8cc2d98dd40fc\");</script></div>"
      ],
      "text/plain": [
       "<IPython.core.display.HTML object>"
      ]
     },
     "metadata": {},
     "output_type": "display_data"
    },
    {
     "data": {
      "text/html": [
       "<div id=\"output_dest_2210c056145541478f84a3e74a75aa31\"><script> (()=>{ const output = document.getElementById(\"output_2210c056145541478f84a3e74a75aa31\"); const dest = document.getElementById(\"output_dest_2210c056145541478f84a3e74a75aa31\"); dest.parentNode.replaceChild(output, dest); })(); </script></div>"
      ],
      "text/plain": [
       "Selection(\n",
       "  selected_by_path=OrderedDict({\n",
       "    (DictKey(key='a'),):\n",
       "      1,\n",
       "    (DictKey(key='b'),):\n",
       "      <jax.Array([0, 1, 2, 3, 4, 5, 6, 7, 8, 9], dtype=int32)>,\n",
       "    (DictKey(key='c'),):\n",
       "      [{'value': <jax.Array([ 0,  1,  2,  3,  4,  5,  6,  7,  8,  9, 10, 11], dtype=int32)>}, {'value': <jax.Array([0., 0., 0., 0., 0., 0., 0.], dtype=float32)>}, {'value': 3}],\n",
       "  }),\n",
       "  remainder={'a': SelectionHole(path=(DictKey(key='a'),)), 'b': SelectionHole(path=(DictKey(key='b'),)), 'c': SelectionHole(path=(DictKey(key='c'),))},\n",
       ")"
      ]
     },
     "execution_count": 26,
     "metadata": {},
     "output_type": "execute_result"
    }
   ],
   "source": [
    "pz.select(my_nested_object).at_children()"
   ]
  },
  {
   "cell_type": "code",
   "execution_count": 27,
   "metadata": {
    "execution": {
     "iopub.execute_input": "2024-06-27T23:19:27.001604Z",
     "iopub.status.busy": "2024-06-27T23:19:27.001317Z",
     "iopub.status.idle": "2024-06-27T23:19:27.020040Z",
     "shell.execute_reply": "2024-06-27T23:19:27.019861Z"
    },
    "id": "cGcp4EK2OfW1"
   },
   "outputs": [
    {
     "data": {
      "text/html": [
       "<div id=\"output_00db3a21b69f40489cca223b8ea25233\"><script> /* penzai.treescope rendering of a Python object (compressed) */ (()=>{ let observer; let lastStep = new Promise((resolve, reject) => { observer = new IntersectionObserver((entries) => { for (const entry of entries) { if (entry.isIntersecting) { resolve(); observer.disconnect(); return; } } }, {rootMargin: \"1000px\"}); }); window.treescope_decompress_enqueue = (encoded, destId) => { const previous = lastStep; const destElt = document.getElementById(destId); lastStep = (async () => { await previous; let blob = new Blob([ Uint8Array.from(atob(encoded), (m) => m.codePointAt(0)) ]); let reader = blob.stream().pipeThrough( new DecompressionStream(\"deflate\") ).pipeThrough( new TextDecoderStream(\"utf-8\") ).getReader(); let parts = []; while (true) { let step = await reader.read(); if (step.done) { break; } parts.push(step.value); } let newElt = document.createElement(\"div\"); newElt.innerHTML = parts.join(\"\"); destElt.parentNode.replaceChild(newElt, destElt); for (let oldScript of newElt.querySelectorAll(\"script\")) { let newScript = document.createElement(\"script\"); newScript.type = oldScript.type; newScript.textContent = oldScript.textContent; oldScript.parentNode.replaceChild(newScript, oldScript); } })(); requestAnimationFrame(() => { observer.observe(destElt); }); } })(); </script><div id=\"compress_html_1c39d3d8af5745b99cff521026cb7acb\"><script>window.treescope_decompress_enqueue(\"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\", \"compress_html_1c39d3d8af5745b99cff521026cb7acb\");</script><span style=\"color: #aaaaaa; font-family: monospace\">(Loading...)</span></div></div>"
      ],
      "text/plain": [
       "<IPython.core.display.HTML object>"
      ]
     },
     "metadata": {},
     "output_type": "display_data"
    },
    {
     "data": {
      "text/html": [
       "<div id=\"compress_html_bf27c3bea4164db28ba25246b8a79f90\"><script>window.treescope_decompress_enqueue(\"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\", \"compress_html_bf27c3bea4164db28ba25246b8a79f90\");</script></div>"
      ],
      "text/plain": [
       "<IPython.core.display.HTML object>"
      ]
     },
     "metadata": {},
     "output_type": "display_data"
    },
    {
     "data": {
      "text/html": [
       "<div id=\"output_dest_00db3a21b69f40489cca223b8ea25233\"><script> (()=>{ const output = document.getElementById(\"output_00db3a21b69f40489cca223b8ea25233\"); const dest = document.getElementById(\"output_dest_00db3a21b69f40489cca223b8ea25233\"); dest.parentNode.replaceChild(output, dest); })(); </script></div>"
      ],
      "text/plain": [
       "Selection(\n",
       "  selected_by_path=OrderedDict({(DictKey(key='a'),): 1, (DictKey(key='b'),): <jax.Array([0, 1, 2, 3, 4, 5, 6, 7, 8, 9], dtype=int32)>, (DictKey(key='c'), SequenceKey(idx=0), DictKey(key='value')): <jax.Array([ 0,  1,  2,  3,  4,  5,  6,  7,  8,  9, 10, 11], dtype=int32)>, (DictKey(key='c'), SequenceKey(idx=1), DictKey(key='value')): <jax.Array([0., 0., 0., 0., 0., 0., 0.], dtype=float32)>, (DictKey(key='c'), SequenceKey(idx=2), DictKey(key='value')): 3}),\n",
       "  remainder={\n",
       "    'a': SelectionHole(path=(DictKey(key='a'),)),\n",
       "    'b': SelectionHole(path=(DictKey(key='b'),)),\n",
       "    'c': [\n",
       "      {\n",
       "        'value': SelectionHole(\n",
       "          path=(DictKey(key='c'), SequenceKey(idx=0), DictKey(key='value')),\n",
       "        ),\n",
       "      },\n",
       "      {\n",
       "        'value': SelectionHole(path=(DictKey(key='c'), SequenceKey(idx=1), DictKey(key='value'))),\n",
       "      },\n",
       "      {\n",
       "        'value': SelectionHole(path=(DictKey(key='c'), SequenceKey(idx=2), DictKey(key='value'))),\n",
       "      },\n",
       "    ],\n",
       "  },\n",
       ")"
      ]
     },
     "execution_count": 27,
     "metadata": {},
     "output_type": "execute_result"
    }
   ],
   "source": [
    "pz.select(my_nested_object).at_pytree_leaves()"
   ]
  },
  {
   "cell_type": "markdown",
   "metadata": {
    "id": "L88O37NHOyrP"
   },
   "source": [
    "Note that some PyTree nodes, like `None` or the empty tuple `()`, don't have any children and are ignored by `jax.tree_util.tree_map`, so they won't be selected by `.at_pytree_leaves`:"
   ]
  },
  {
   "cell_type": "code",
   "execution_count": 28,
   "metadata": {
    "execution": {
     "iopub.execute_input": "2024-06-27T23:19:27.026996Z",
     "iopub.status.busy": "2024-06-27T23:19:27.026764Z",
     "iopub.status.idle": "2024-06-27T23:19:27.034709Z",
     "shell.execute_reply": "2024-06-27T23:19:27.034417Z"
    },
    "id": "-wD3VJajO6TR"
   },
   "outputs": [
    {
     "data": {
      "text/html": [
       "<div id=\"output_1620dc137be94cd8a96033be9b71d2ec\"><script> /* penzai.treescope rendering of a Python object (compressed) */ (()=>{ let observer; let lastStep = new Promise((resolve, reject) => { observer = new IntersectionObserver((entries) => { for (const entry of entries) { if (entry.isIntersecting) { resolve(); observer.disconnect(); return; } } }, {rootMargin: \"1000px\"}); }); window.treescope_decompress_enqueue = (encoded, destId) => { const previous = lastStep; const destElt = document.getElementById(destId); lastStep = (async () => { await previous; let blob = new Blob([ Uint8Array.from(atob(encoded), (m) => m.codePointAt(0)) ]); let reader = blob.stream().pipeThrough( new DecompressionStream(\"deflate\") ).pipeThrough( new TextDecoderStream(\"utf-8\") ).getReader(); let parts = []; while (true) { let step = await reader.read(); if (step.done) { break; } parts.push(step.value); } let newElt = document.createElement(\"div\"); newElt.innerHTML = parts.join(\"\"); destElt.parentNode.replaceChild(newElt, destElt); for (let oldScript of newElt.querySelectorAll(\"script\")) { let newScript = document.createElement(\"script\"); newScript.type = oldScript.type; newScript.textContent = oldScript.textContent; oldScript.parentNode.replaceChild(newScript, oldScript); } })(); requestAnimationFrame(() => { observer.observe(destElt); }); } })(); </script><div id=\"compress_html_8fb4358d979642d296ed9cd41a566a87\"><script>window.treescope_decompress_enqueue(\"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\", \"compress_html_8fb4358d979642d296ed9cd41a566a87\");</script><span style=\"color: #aaaaaa; font-family: monospace\">(Loading...)</span></div></div>"
      ],
      "text/plain": [
       "<IPython.core.display.HTML object>"
      ]
     },
     "metadata": {},
     "output_type": "display_data"
    },
    {
     "data": {
      "text/html": [
       "<div id=\"output_dest_1620dc137be94cd8a96033be9b71d2ec\"><script> (()=>{ const output = document.getElementById(\"output_1620dc137be94cd8a96033be9b71d2ec\"); const dest = document.getElementById(\"output_dest_1620dc137be94cd8a96033be9b71d2ec\"); dest.parentNode.replaceChild(output, dest); })(); </script></div>"
      ],
      "text/plain": [
       "Selection(\n",
       "  selected_by_path=OrderedDict({(SequenceKey(idx=0),): 1, (SequenceKey(idx=1),): 2, (SequenceKey(idx=3),): 3, (SequenceKey(idx=5),): 4}),\n",
       "  remainder=[\n",
       "    SelectionHole(path=(SequenceKey(idx=0),)),\n",
       "    SelectionHole(path=(SequenceKey(idx=1),)),\n",
       "    (),\n",
       "    SelectionHole(path=(SequenceKey(idx=3),)),\n",
       "    None,\n",
       "    SelectionHole(path=(SequenceKey(idx=5),)),\n",
       "  ],\n",
       ")"
      ]
     },
     "execution_count": 28,
     "metadata": {},
     "output_type": "execute_result"
    }
   ],
   "source": [
    "pz.select([1, 2, (), 3, None, 4]).at_pytree_leaves()"
   ]
  },
  {
   "cell_type": "markdown",
   "metadata": {
    "id": "_afpL4O8O_VZ"
   },
   "source": [
    "If you want to select these too, you can use `.at_childless`:"
   ]
  },
  {
   "cell_type": "code",
   "execution_count": 29,
   "metadata": {
    "execution": {
     "iopub.execute_input": "2024-06-27T23:19:27.042704Z",
     "iopub.status.busy": "2024-06-27T23:19:27.042382Z",
     "iopub.status.idle": "2024-06-27T23:19:27.051921Z",
     "shell.execute_reply": "2024-06-27T23:19:27.051749Z"
    },
    "id": "byvIxqOZPDD6"
   },
   "outputs": [
    {
     "data": {
      "text/html": [
       "<div id=\"output_e203a9871fa54f019908a0c502002e81\"><script> /* penzai.treescope rendering of a Python object (compressed) */ (()=>{ let observer; let lastStep = new Promise((resolve, reject) => { observer = new IntersectionObserver((entries) => { for (const entry of entries) { if (entry.isIntersecting) { resolve(); observer.disconnect(); return; } } }, {rootMargin: \"1000px\"}); }); window.treescope_decompress_enqueue = (encoded, destId) => { const previous = lastStep; const destElt = document.getElementById(destId); lastStep = (async () => { await previous; let blob = new Blob([ Uint8Array.from(atob(encoded), (m) => m.codePointAt(0)) ]); let reader = blob.stream().pipeThrough( new DecompressionStream(\"deflate\") ).pipeThrough( new TextDecoderStream(\"utf-8\") ).getReader(); let parts = []; while (true) { let step = await reader.read(); if (step.done) { break; } parts.push(step.value); } let newElt = document.createElement(\"div\"); newElt.innerHTML = parts.join(\"\"); destElt.parentNode.replaceChild(newElt, destElt); for (let oldScript of newElt.querySelectorAll(\"script\")) { let newScript = document.createElement(\"script\"); newScript.type = oldScript.type; newScript.textContent = oldScript.textContent; oldScript.parentNode.replaceChild(newScript, oldScript); } })(); requestAnimationFrame(() => { observer.observe(destElt); }); } })(); </script><div id=\"compress_html_4aeff688c45c4ad2bc49dc07cbf184d7\"><script>window.treescope_decompress_enqueue(\"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\", \"compress_html_4aeff688c45c4ad2bc49dc07cbf184d7\");</script><span style=\"color: #aaaaaa; font-family: monospace\">(Loading...)</span></div></div>"
      ],
      "text/plain": [
       "<IPython.core.display.HTML object>"
      ]
     },
     "metadata": {},
     "output_type": "display_data"
    },
    {
     "data": {
      "text/html": [
       "<div id=\"output_dest_e203a9871fa54f019908a0c502002e81\"><script> (()=>{ const output = document.getElementById(\"output_e203a9871fa54f019908a0c502002e81\"); const dest = document.getElementById(\"output_dest_e203a9871fa54f019908a0c502002e81\"); dest.parentNode.replaceChild(output, dest); })(); </script></div>"
      ],
      "text/plain": [
       "Selection(\n",
       "  selected_by_path=OrderedDict({(SequenceKey(idx=0),): 1, (SequenceKey(idx=1),): 2, (SequenceKey(idx=2),): (), (SequenceKey(idx=3),): 3, (SequenceKey(idx=4),): None, (SequenceKey(idx=5),): 4}),\n",
       "  remainder=[\n",
       "    SelectionHole(path=(SequenceKey(idx=0),)),\n",
       "    SelectionHole(path=(SequenceKey(idx=1),)),\n",
       "    SelectionHole(path=(SequenceKey(idx=2),)),\n",
       "    SelectionHole(path=(SequenceKey(idx=3),)),\n",
       "    SelectionHole(path=(SequenceKey(idx=4),)),\n",
       "    SelectionHole(path=(SequenceKey(idx=5),)),\n",
       "  ],\n",
       ")"
      ]
     },
     "execution_count": 29,
     "metadata": {},
     "output_type": "execute_result"
    }
   ],
   "source": [
    "pz.select([1, 2, (), 3, None, 4]).at_childless()"
   ]
  },
  {
   "cell_type": "markdown",
   "metadata": {
    "id": "3y9uooSkPKoU"
   },
   "source": [
    "### Filtering selections\n",
    "Given an existing set of selected nodes, you can choose to filter down to only a subset that match a criterion:"
   ]
  },
  {
   "cell_type": "code",
   "execution_count": 30,
   "metadata": {
    "execution": {
     "iopub.execute_input": "2024-06-27T23:19:27.062934Z",
     "iopub.status.busy": "2024-06-27T23:19:27.062693Z",
     "iopub.status.idle": "2024-06-27T23:19:27.076110Z",
     "shell.execute_reply": "2024-06-27T23:19:27.075916Z"
    },
    "id": "Uk1-HVvKPOq6"
   },
   "outputs": [
    {
     "data": {
      "text/html": [
       "<div id=\"output_475dbf6ad475492f97bed9c0e2a29f88\"><script> /* penzai.treescope rendering of a Python object (compressed) */ (()=>{ let observer; let lastStep = new Promise((resolve, reject) => { observer = new IntersectionObserver((entries) => { for (const entry of entries) { if (entry.isIntersecting) { resolve(); observer.disconnect(); return; } } }, {rootMargin: \"1000px\"}); }); window.treescope_decompress_enqueue = (encoded, destId) => { const previous = lastStep; const destElt = document.getElementById(destId); lastStep = (async () => { await previous; let blob = new Blob([ Uint8Array.from(atob(encoded), (m) => m.codePointAt(0)) ]); let reader = blob.stream().pipeThrough( new DecompressionStream(\"deflate\") ).pipeThrough( new TextDecoderStream(\"utf-8\") ).getReader(); let parts = []; while (true) { let step = await reader.read(); if (step.done) { break; } parts.push(step.value); } let newElt = document.createElement(\"div\"); newElt.innerHTML = parts.join(\"\"); destElt.parentNode.replaceChild(newElt, destElt); for (let oldScript of newElt.querySelectorAll(\"script\")) { let newScript = document.createElement(\"script\"); newScript.type = oldScript.type; newScript.textContent = oldScript.textContent; oldScript.parentNode.replaceChild(newScript, oldScript); } })(); requestAnimationFrame(() => { observer.observe(destElt); }); } })(); </script><div id=\"compress_html_4a7474f4fe444326857b507826f30a0a\"><script>window.treescope_decompress_enqueue(\"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\", \"compress_html_4a7474f4fe444326857b507826f30a0a\");</script><span style=\"color: #aaaaaa; font-family: monospace\">(Loading...)</span></div></div>"
      ],
      "text/plain": [
       "<IPython.core.display.HTML object>"
      ]
     },
     "metadata": {},
     "output_type": "display_data"
    },
    {
     "data": {
      "text/html": [
       "<div id=\"output_dest_475dbf6ad475492f97bed9c0e2a29f88\"><script> (()=>{ const output = document.getElementById(\"output_475dbf6ad475492f97bed9c0e2a29f88\"); const dest = document.getElementById(\"output_dest_475dbf6ad475492f97bed9c0e2a29f88\"); dest.parentNode.replaceChild(output, dest); })(); </script></div>"
      ],
      "text/plain": [
       "Selection(\n",
       "  selected_by_path=OrderedDict({(SequenceKey(idx=0),): 0, (SequenceKey(idx=2),): 2, (SequenceKey(idx=4),): 4, (SequenceKey(idx=6),): 6, (SequenceKey(idx=8),): 8, (SequenceKey(idx=10),): 10, (SequenceKey(idx=12),): 12, (SequenceKey(idx=14),): 14, (SequenceKey(idx=16),): 16, (SequenceKey(idx=18),): 18}),\n",
       "  remainder=[SelectionHole(path=(SequenceKey(idx=0),)), 1, SelectionHole(path=(SequenceKey(idx=2),)), 3, SelectionHole(path=(SequenceKey(idx=4),)), 5, SelectionHole(path=(SequenceKey(idx=6),)), 7, SelectionHole(path=(SequenceKey(idx=8),)), 9, SelectionHole(path=(SequenceKey(idx=10),)), 11, SelectionHole(path=(SequenceKey(idx=12),)), 13, SelectionHole(path=(SequenceKey(idx=14),)), 15, SelectionHole(path=(SequenceKey(idx=16),)), 17, SelectionHole(path=(SequenceKey(idx=18),)), 19],\n",
       ")"
      ]
     },
     "execution_count": 30,
     "metadata": {},
     "output_type": "execute_result"
    }
   ],
   "source": [
    "pz.select(list(range(20))).at_instances_of(int).where(lambda x: x % 2 == 0)"
   ]
  },
  {
   "cell_type": "markdown",
   "metadata": {
    "id": "2Ae_LP3BdpGG"
   },
   "source": [
    "You can also choose to keep only the `n`th node that you've selected (e.g. the third integer in the collection), zero-indexed:"
   ]
  },
  {
   "cell_type": "code",
   "execution_count": 31,
   "metadata": {
    "execution": {
     "iopub.execute_input": "2024-06-27T23:19:27.082420Z",
     "iopub.status.busy": "2024-06-27T23:19:27.081869Z",
     "iopub.status.idle": "2024-06-27T23:19:27.088622Z",
     "shell.execute_reply": "2024-06-27T23:19:27.088426Z"
    },
    "id": "zkisw9V-eNaa"
   },
   "outputs": [
    {
     "data": {
      "text/html": [
       "<div id=\"output_a2a39f85e611425fbef19fa785cc9d7f\"><script> /* penzai.treescope rendering of a Python object (compressed) */ (()=>{ let observer; let lastStep = new Promise((resolve, reject) => { observer = new IntersectionObserver((entries) => { for (const entry of entries) { if (entry.isIntersecting) { resolve(); observer.disconnect(); return; } } }, {rootMargin: \"1000px\"}); }); window.treescope_decompress_enqueue = (encoded, destId) => { const previous = lastStep; const destElt = document.getElementById(destId); lastStep = (async () => { await previous; let blob = new Blob([ Uint8Array.from(atob(encoded), (m) => m.codePointAt(0)) ]); let reader = blob.stream().pipeThrough( new DecompressionStream(\"deflate\") ).pipeThrough( new TextDecoderStream(\"utf-8\") ).getReader(); let parts = []; while (true) { let step = await reader.read(); if (step.done) { break; } parts.push(step.value); } let newElt = document.createElement(\"div\"); newElt.innerHTML = parts.join(\"\"); destElt.parentNode.replaceChild(newElt, destElt); for (let oldScript of newElt.querySelectorAll(\"script\")) { let newScript = document.createElement(\"script\"); newScript.type = oldScript.type; newScript.textContent = oldScript.textContent; oldScript.parentNode.replaceChild(newScript, oldScript); } })(); requestAnimationFrame(() => { observer.observe(destElt); }); } })(); </script><div id=\"compress_html_e4434a02e99d4dfdbc17ad5317dd3c30\"><script>window.treescope_decompress_enqueue(\"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\", \"compress_html_e4434a02e99d4dfdbc17ad5317dd3c30\");</script><span style=\"color: #aaaaaa; font-family: monospace\">(Loading...)</span></div></div>"
      ],
      "text/plain": [
       "<IPython.core.display.HTML object>"
      ]
     },
     "metadata": {},
     "output_type": "display_data"
    },
    {
     "data": {
      "text/html": [
       "<div id=\"output_dest_a2a39f85e611425fbef19fa785cc9d7f\"><script> (()=>{ const output = document.getElementById(\"output_a2a39f85e611425fbef19fa785cc9d7f\"); const dest = document.getElementById(\"output_dest_a2a39f85e611425fbef19fa785cc9d7f\"); dest.parentNode.replaceChild(output, dest); })(); </script></div>"
      ],
      "text/plain": [
       "Selection(\n",
       "  selected_by_path=OrderedDict({(SequenceKey(idx=4),): 3}),\n",
       "  remainder=[\n",
       "    1,\n",
       "    'a',\n",
       "    2,\n",
       "    'b',\n",
       "    SelectionHole(path=(SequenceKey(idx=4),)),\n",
       "    'c',\n",
       "    4,\n",
       "    'd',\n",
       "  ],\n",
       ")"
      ]
     },
     "execution_count": 31,
     "metadata": {},
     "output_type": "execute_result"
    }
   ],
   "source": [
    "pz.select([1, \"a\", 2, \"b\", 3, \"c\", 4, \"d\"]).at_instances_of(int).pick_nth_selected(2)"
   ]
  },
  {
   "cell_type": "markdown",
   "metadata": {
    "id": "VK7GeXc6ka0s"
   },
   "source": [
    "### Inverting selections\n",
    "Selections can be inverted, which produces a new Selection which selects every PyTree node that did NOT contain any of the selected nodes:"
   ]
  },
  {
   "cell_type": "code",
   "execution_count": 32,
   "metadata": {
    "execution": {
     "iopub.execute_input": "2024-06-27T23:19:27.094647Z",
     "iopub.status.busy": "2024-06-27T23:19:27.094370Z",
     "iopub.status.idle": "2024-06-27T23:19:27.105055Z",
     "shell.execute_reply": "2024-06-27T23:19:27.104885Z"
    },
    "id": "CF1rqre8klTc"
   },
   "outputs": [
    {
     "name": "stdout",
     "output_type": "stream",
     "text": [
      "Original:\n"
     ]
    },
    {
     "data": {
      "text/html": [
       "<script> /* penzai.treescope rendering of a Python object (compressed) */ (()=>{ let observer; let lastStep = new Promise((resolve, reject) => { observer = new IntersectionObserver((entries) => { for (const entry of entries) { if (entry.isIntersecting) { resolve(); observer.disconnect(); return; } } }, {rootMargin: \"1000px\"}); }); window.treescope_decompress_enqueue = (encoded, destId) => { const previous = lastStep; const destElt = document.getElementById(destId); lastStep = (async () => { await previous; let blob = new Blob([ Uint8Array.from(atob(encoded), (m) => m.codePointAt(0)) ]); let reader = blob.stream().pipeThrough( new DecompressionStream(\"deflate\") ).pipeThrough( new TextDecoderStream(\"utf-8\") ).getReader(); let parts = []; while (true) { let step = await reader.read(); if (step.done) { break; } parts.push(step.value); } let newElt = document.createElement(\"div\"); newElt.innerHTML = parts.join(\"\"); destElt.parentNode.replaceChild(newElt, destElt); for (let oldScript of newElt.querySelectorAll(\"script\")) { let newScript = document.createElement(\"script\"); newScript.type = oldScript.type; newScript.textContent = oldScript.textContent; oldScript.parentNode.replaceChild(newScript, oldScript); } })(); requestAnimationFrame(() => { observer.observe(destElt); }); } })(); </script><div id=\"compress_html_4c86a73b70f348f69218aac8e73e353a\"><script>window.treescope_decompress_enqueue(\"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\", \"compress_html_4c86a73b70f348f69218aac8e73e353a\");</script><span style=\"color: #aaaaaa; font-family: monospace\">(Loading...)</span></div>"
      ],
      "text/plain": [
       "<IPython.core.display.HTML object>"
      ]
     },
     "metadata": {},
     "output_type": "display_data"
    },
    {
     "name": "stdout",
     "output_type": "stream",
     "text": [
      "Inverted:\n"
     ]
    },
    {
     "data": {
      "text/html": [
       "<script> /* penzai.treescope rendering of a Python object (compressed) */ (()=>{ let observer; let lastStep = new Promise((resolve, reject) => { observer = new IntersectionObserver((entries) => { for (const entry of entries) { if (entry.isIntersecting) { resolve(); observer.disconnect(); return; } } }, {rootMargin: \"1000px\"}); }); window.treescope_decompress_enqueue = (encoded, destId) => { const previous = lastStep; const destElt = document.getElementById(destId); lastStep = (async () => { await previous; let blob = new Blob([ Uint8Array.from(atob(encoded), (m) => m.codePointAt(0)) ]); let reader = blob.stream().pipeThrough( new DecompressionStream(\"deflate\") ).pipeThrough( new TextDecoderStream(\"utf-8\") ).getReader(); let parts = []; while (true) { let step = await reader.read(); if (step.done) { break; } parts.push(step.value); } let newElt = document.createElement(\"div\"); newElt.innerHTML = parts.join(\"\"); destElt.parentNode.replaceChild(newElt, destElt); for (let oldScript of newElt.querySelectorAll(\"script\")) { let newScript = document.createElement(\"script\"); newScript.type = oldScript.type; newScript.textContent = oldScript.textContent; oldScript.parentNode.replaceChild(newScript, oldScript); } })(); requestAnimationFrame(() => { observer.observe(destElt); }); } })(); </script><div id=\"compress_html_848dbc882e964a7d92da58c5166faa81\"><script>window.treescope_decompress_enqueue(\"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\", \"compress_html_848dbc882e964a7d92da58c5166faa81\");</script><span style=\"color: #aaaaaa; font-family: monospace\">(Loading...)</span></div>"
      ],
      "text/plain": [
       "<IPython.core.display.HTML object>"
      ]
     },
     "metadata": {},
     "output_type": "display_data"
    }
   ],
   "source": [
    "selection = pz.select([1, \"a\", 2, \"b\", 3, \"c\", 4, \"d\"]).at_instances_of(int).pick_nth_selected(2)\n",
    "\n",
    "print(\"Original:\")\n",
    "selection.show_selection()\n",
    "print(\"Inverted:\")\n",
    "selection.invert().show_selection()"
   ]
  },
  {
   "cell_type": "code",
   "execution_count": 33,
   "metadata": {
    "execution": {
     "iopub.execute_input": "2024-06-27T23:19:27.113753Z",
     "iopub.status.busy": "2024-06-27T23:19:27.113442Z",
     "iopub.status.idle": "2024-06-27T23:19:27.130994Z",
     "shell.execute_reply": "2024-06-27T23:19:27.130821Z"
    },
    "id": "HaLCG89dknQg"
   },
   "outputs": [
    {
     "name": "stdout",
     "output_type": "stream",
     "text": [
      "Original:\n"
     ]
    },
    {
     "data": {
      "text/html": [
       "<script> /* penzai.treescope rendering of a Python object (compressed) */ (()=>{ let observer; let lastStep = new Promise((resolve, reject) => { observer = new IntersectionObserver((entries) => { for (const entry of entries) { if (entry.isIntersecting) { resolve(); observer.disconnect(); return; } } }, {rootMargin: \"1000px\"}); }); window.treescope_decompress_enqueue = (encoded, destId) => { const previous = lastStep; const destElt = document.getElementById(destId); lastStep = (async () => { await previous; let blob = new Blob([ Uint8Array.from(atob(encoded), (m) => m.codePointAt(0)) ]); let reader = blob.stream().pipeThrough( new DecompressionStream(\"deflate\") ).pipeThrough( new TextDecoderStream(\"utf-8\") ).getReader(); let parts = []; while (true) { let step = await reader.read(); if (step.done) { break; } parts.push(step.value); } let newElt = document.createElement(\"div\"); newElt.innerHTML = parts.join(\"\"); destElt.parentNode.replaceChild(newElt, destElt); for (let oldScript of newElt.querySelectorAll(\"script\")) { let newScript = document.createElement(\"script\"); newScript.type = oldScript.type; newScript.textContent = oldScript.textContent; oldScript.parentNode.replaceChild(newScript, oldScript); } })(); requestAnimationFrame(() => { observer.observe(destElt); }); } })(); </script><div id=\"compress_html_6660aa5b519247c48d724e8d8a890e53\"><script>window.treescope_decompress_enqueue(\"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\", \"compress_html_6660aa5b519247c48d724e8d8a890e53\");</script><span style=\"color: #aaaaaa; font-family: monospace\">(Loading...)</span></div>"
      ],
      "text/plain": [
       "<IPython.core.display.HTML object>"
      ]
     },
     "metadata": {},
     "output_type": "display_data"
    },
    {
     "data": {
      "text/html": [
       "<div id=\"compress_html_94a9a5448e7b42c38936fd94f1a6d302\"><script>window.treescope_decompress_enqueue(\"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\", \"compress_html_94a9a5448e7b42c38936fd94f1a6d302\");</script></div>"
      ],
      "text/plain": [
       "<IPython.core.display.HTML object>"
      ]
     },
     "metadata": {},
     "output_type": "display_data"
    },
    {
     "name": "stdout",
     "output_type": "stream",
     "text": [
      "Inverted:\n"
     ]
    },
    {
     "data": {
      "text/html": [
       "<script> /* penzai.treescope rendering of a Python object (compressed) */ (()=>{ let observer; let lastStep = new Promise((resolve, reject) => { observer = new IntersectionObserver((entries) => { for (const entry of entries) { if (entry.isIntersecting) { resolve(); observer.disconnect(); return; } } }, {rootMargin: \"1000px\"}); }); window.treescope_decompress_enqueue = (encoded, destId) => { const previous = lastStep; const destElt = document.getElementById(destId); lastStep = (async () => { await previous; let blob = new Blob([ Uint8Array.from(atob(encoded), (m) => m.codePointAt(0)) ]); let reader = blob.stream().pipeThrough( new DecompressionStream(\"deflate\") ).pipeThrough( new TextDecoderStream(\"utf-8\") ).getReader(); let parts = []; while (true) { let step = await reader.read(); if (step.done) { break; } parts.push(step.value); } let newElt = document.createElement(\"div\"); newElt.innerHTML = parts.join(\"\"); destElt.parentNode.replaceChild(newElt, destElt); for (let oldScript of newElt.querySelectorAll(\"script\")) { let newScript = document.createElement(\"script\"); newScript.type = oldScript.type; newScript.textContent = oldScript.textContent; oldScript.parentNode.replaceChild(newScript, oldScript); } })(); requestAnimationFrame(() => { observer.observe(destElt); }); } })(); </script><div id=\"compress_html_734f2b895b2647459032f9d586bd276c\"><script>window.treescope_decompress_enqueue(\"eNrtHAtT2sz2r2zpTIVPQd4IFucG5GWrVrHV2vsNs0k2yUpIYrKA2PG/37MbXoGIj2qt3upMIZtz9rxfm9SPHhuZZCfBXEI8xXZIx7Vthn4ix/Yoo7ZVQi4xMaMDso0022JxDfeoOSqhnm3ZnoMVWB8alJG4uCghx4UVk3osLraOs5EDq5ZtwbKMla7u2n1LjSu2abslH3Ubja9kEwBgP6oyo4Q0ygDMYsRi26iHXZ1acZNorITSisFpWCRuEKobsJJK5LbRzcdNX5yPnuJSh+0gqqHokFqqPZxJiMrlMgIWiAYbqDGQdRkC/bzZXlpOdBxiqdTSJYVrxgOwH//eCdbElmryLa2+aYZA64R1FrRfRtGJ0jvMjqHyDjC5+Q/6bNtdMIKLmEGQgLRslSTQP5vIJAyNcedQhWmAeNS/966MVFvp90ChCdlWR+jDB/SO30koJva8z2C0BFc4ppYXjQSZisQQV9WEBkdysAs71UzSExa6Acqs71riJlyGyOr2rbZtW1zAoe12x5IBSY8BZ6ewxG8FlhlV+KJDXBC8hy2FJCx7GI1NRVu6g+I+0keUSXOWw3xg0ZQJk1g6M8A1UDLMI1bb1Jeba4CYHpmxbvQtzvudxD2DaoyLJDD4lxv4vS8P0QmkSy77xGOSRXuYQ9Rd3CNRX6+xWLhFFllx+p7h22b7PoqbMFH2VfEQ1d2f7VDGiQVYfbJLNOK6RD0hPQfcnnjLDuSYfHHq+IDmjtrEJAqzXck0wdHHuPNJsG91PPDUSGxbBFyUxxfshGxNbMgFhc+5uHFJzx6QQNTM7XFbJEQnvPL9Nde+Jjw4xM5+4guyG434iY1vyTHgal40xSUgxjgg52HhW4LnYQD2iYir8Tq5YlWf2Nzt2eK2YMeP9QOeblwC2lJIFcJPjcIOGxyA2+lWWzFb100/jXRE9mfAmMhysEJMtoHIAHYfq4K7nbhOdMmIR2TEjUxSDwDP6dzfNxqZ7tnpAYORCR83COqBXwg+qnSABGJ5Ma8hhmVgmFyVI8kIsi0gCtxbc3Dh/EeZQb0J5xEoOX4hFZWso9g9bgPhhKKyvcfihzO1AIJLls2iJQO8x42FwI/BrX5PJu7chsniViqXnwF4wJSlz1PMpHIpXhUT6jhIOsJwhm2qgZ1wgf+Oy7sQo4QowyZVOLIG4FgG8XmtuaUxAKECYB1fYwCtUg+IjiYNwCIg2kEmlolZKskE4ozMcaWIn+1Qen4XEE/xNmDcLCS3Z7SoJXoD2bR5N3ErTaHyZcoqdrsewTqY31rGFtZaWDKwF90Re+6E6sG3sGIQpQsNRwz9E5vxwFHDkSbwAQ5FSJbQ2n/TOVlZe0n2gki3Mpn/DUxyO3LCfdfjBnRsChy4IXSp93RkRSgIQnGRA7zbfPxpqM7E47l5mUqCeh2Nuh7r2FaHu39IaK0KpUQ6x6Mp1FTol9n3Lb7IIpcq0NeLgL5J8HQMilU7Cq8xT+Qtc7lonBgCpBVsKlGYK6B7TDlXooQs8AEF8NlYkW0XcvKYFdVmQJSzgd6TJP/lSrH74GqyfdUBY3bgQtj4521Jz8Eq77kgL4JhSY9TuIp79FqsjanBkhCTbzqkzHjeXZ9GdxsoVBHPZphxdenhq9koegNNGTYt6FI7MOxq9Arw/NpJrwnXzRZXzU3CE10bxFtH5k0DdkcA6GsJRliwrmebVEXKCFsLHsD9cP7m/F6T5DNXrXwgwcJwPA/LILCPB50bNIUi3rxnDiiwehi95wwckNDAvLUZYtcCN1xUz3tNw0oqEwLoQAv6c+LRcXd8jMAT0DgvjJfiyYTIjLOzi5I4esBuXHexSnmrncrkVKJvINvFlk5QEnwgrxjQGMO157fO/hLyE8syK0u58ck0FshyE2FuEkODWNCDmiZ2PEg2d3ZqDya+goKfVAQNAUSuHJgKb4V5Cj7CSIwF9QFmc0mYKoIzQyI4cKAVOyyKagVGoHDA+xC7dZ8xy/8Zn9UpZJKcJud2a/sQni7FJmqPepAmPHTo51AVTcbAqu2M1oLzgMWPWMyFJJNNQmXyXKWE+q4ZVTHDJX5/c2hrWnpbxh7JZzfUZLGxr0sVSfy0jiTJFt8qx0P4t1mXpJq06qfSkyS9a39SW7VKdfhdkk6+V/ek/ValKtX1q1bzs8G8yj4leqa+e5b+3Mp/H7SdPv2ynztJ7Z21jr/tD073r9mXUb1eXT/Vuye0sps06O5Rf6+mNi6STXlTG7RU5/JT3rg8pfSov281jKb2lUlf85UDNyvVW1a3lle+9vvW+nHuUvG6w4FWNzcvr/SavaXLe8PGVqopbVrSce6z6+6ljtf16+SxmpT2tJR+UKgOGxdpPWmP+seFQq+Wyg+bZ8VDXXfISXeUJS35OqfI7mGDYUk/ah0Md7E38o76rdbZaa0+lL4cOa3v6tfNzXW9cFI4y7Ck9unLpTTIwZ6fpYOCtD+Uevr1cXu9f94mtbOrtJZXrg+yx81Rrl+RPl1XLpy6k6HNo2oted7/km0XLK3yudas7/ckur41qKUNK2UU1uVvw7OLYdMd7Da+Vq0LrVbT2fqhcm6ahVyxujesbBnF7P5+o51pnEt6r5W7qBwV2UmDNIu1SqXVyOzq2ePN78pIlhpg02+fNqWjBpbIftWUmte1Q/2c6fnKF/3wsLVb6dKjHKlXzqqVukKTjuHajgW+4ZzXdlPXqW5bq2rMGH2ymique00tedBr1A7yFVW6/PbNwcxrn/dUFdNiWrsuZr/Si8u803Pzh/b3apu6jd5gr5Fpn7Yz9VpaqRxpJ+tN03Ya2bo3zGH9Mr9Fz0n7wHROrUqzRdR9l/RPLxvVXuq07nbb7atcOn966g0l4CiGxPEii64Jt16LPUVOgugeyX3GbCs03cxuh81VERRZgIJeH8pMOPB/SSqrRrYfmwQg2OUuBUyRDHqQkAzR7WGLATqFGFenx/fTbnVpEgu0R0XRHgWk9Ee4ECnCJ/IZZmKIocswKVfsFB9rLHDAMTlKWEVzASdIcl71aIDdaDzOs10cW2BYcWgZm1/mRPhpLq/+44FLbItSHiKgsTjUY2hcHybKlAMwDCXquyAngiR6R3uO7TJsLe0tu3ZXlGNnNJuX79buHNqcPqdDyeLzlqWTP0Oc9gp8XzRURpDdLAVFfQrBRwAgyYnNHQ/AxhzwNY8wwRRXKecDDzFlyMIDqmNmuwnY2ZFt7KqJoUsZOYEBOTrbCywx3mt2cghdXzQyp29xSErYCe0RMMz0VHYJb3LKu4B6s4HSyWRSpAYFM+jzomK4Dac7p9TIjLngOWwUzPse1TE1wRmYjTjwOxGT0NBZMH6YI2gZPEawyn1ifV534/PP2eEnd6XJ6Wfg8DGy41yPR4sogANYEHhpAI6sur9wM3jottjfArCfMD9Sy+kzxA+kgTueImG2i4RuMs6mcNPPpDsfNwVykK4BO7lAotth0PoSFhG6iXfJCOqGUY5Edn5OZN0cs/BkMi/RDlO+f1Ib2fnw/ipd2Mb+x5Ql8VFCD9k2oKSnVWyYhsIG8AWOlo4UlmfhBYxbBsd7QC2ABNr9JfTAFB3ZeY/8RytELQUNEBYN9yB+l+/9WMNr/4Y6hX++H9lJhfNx98fGshamw1dkB4UJtEJVa7MisIZsq8pzXXltRWIXj0Nia2hajcqRqIl7sorFg5uS+FeIH4sgUTXKkbnaVUIfLvs2274Nx78L7chi4YVeRiQ9rl/4PpZitcKeM5zlv+H8BsKZquXI9KlZMlvIkWQhnySkkJULRVnL5zLQVctFklfSRe231b3Vdgx7ygdeabLtC3yVkFwX85aBZdLRVHIDZpBEAn3Q2fZj882rSjvyI9KO/JrSjnKPtPOMeeVhNVDhNfDHiibsudxAeYQbKL/uBq+gpf4FU/5I/ru6pX5GawLtxxiUo/0pNn1EsA+w2SerAj5QvopQrTKqmsznUvlsrqjKMi6qxeJWluSymZySfq7u48mqVfrOarWiumz8IRXI97ofa8J2a4/12hn+k1Ym/+PmVZX0F43+5ynsv/PE5O8k8CDif2blTb1g5U09LvZS/1eVt5jT0slcIUvyWVJMbSULGVzIaUpazmTTOfLnVl7NtDGvvYW3UnpTv1h6U7+n9L61uftFE8Uji/SfmerTL5jq04+zYPptp/oHmm+aP1Ye/2deZ3pN/2J6Tf+m9Ppq1PlCARf28e/rUt5LHPA91ufurlQLj+tjCcw649TihT6y/13PlsJr2QK7K3sU3nFmkNeXhdk3kEF1w+QvFhIVYdkekPmmc4US36OVuyzqOKQjXjVZvo1XIHaiz/bKw4u3S29atmU/nb71u3Bz4f8kRHb4NMeDotNn1EwEw2CXKuwTGT2p5iAtlZ/lZZh7FZ7AR2w6JN2yfK/Z6dUNDn8j4e1Egvw3Ev5Gwt9IuO3Vhl+JhDfq8s/kFm3+5zkshTy1a1D16hGucdtrko92hxfB3HzYceXiEDgFVeng9nfvb/sLKdHY9M3w/wHRcjrg\", \"compress_html_734f2b895b2647459032f9d586bd276c\");</script><span style=\"color: #aaaaaa; font-family: monospace\">(Loading...)</span></div>"
      ],
      "text/plain": [
       "<IPython.core.display.HTML object>"
      ]
     },
     "metadata": {},
     "output_type": "display_data"
    },
    {
     "data": {
      "text/html": [
       "<div id=\"compress_html_235f3687ea6546dfa181c3fadf4b2303\"><script>window.treescope_decompress_enqueue(\"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\", \"compress_html_235f3687ea6546dfa181c3fadf4b2303\");</script></div>"
      ],
      "text/plain": [
       "<IPython.core.display.HTML object>"
      ]
     },
     "metadata": {},
     "output_type": "display_data"
    }
   ],
   "source": [
    "selection = pz.select(my_nested_object).at_keypaths([\n",
    "    (jax.tree_util.DictKey(key='c'), jax.tree_util.SequenceKey(idx=2), jax.tree_util.DictKey(key='value')),\n",
    "    (jax.tree_util.DictKey(key='c'), jax.tree_util.SequenceKey(idx=0)),\n",
    "])\n",
    "\n",
    "print(\"Original:\")\n",
    "selection.show_selection()\n",
    "print(\"Inverted:\")\n",
    "selection.invert().show_selection()"
   ]
  },
  {
   "cell_type": "markdown",
   "metadata": {
    "id": "-6RVyMq6NY6r"
   },
   "source": [
    "### Building more complex selections\n",
    "For highly dynamic selections, you can drop down to lower-level manipulation.\n",
    "\n",
    "Selections provide a `.refine` method, which runs a function on each of the currently selected values, takes the `Selection` returned by that function, and then takes the disjoint union of them. This can be useful for dynamic input-dependent branching:"
   ]
  },
  {
   "cell_type": "code",
   "execution_count": 34,
   "metadata": {
    "execution": {
     "iopub.execute_input": "2024-06-27T23:19:27.136696Z",
     "iopub.status.busy": "2024-06-27T23:19:27.136424Z",
     "iopub.status.idle": "2024-06-27T23:19:27.138533Z",
     "shell.execute_reply": "2024-06-27T23:19:27.138321Z"
    },
    "id": "pMKL39k7Rdty"
   },
   "outputs": [],
   "source": [
    "# Select field \"a\" of Foo and field \"b\" of Bar\n",
    "\n",
    "@pz.pytree_dataclass\n",
    "class Foo(pz.Struct):\n",
    "  a: typing.Any\n",
    "  b: typing.Any\n",
    "\n",
    "@pz.pytree_dataclass\n",
    "class Bar(pz.Struct):\n",
    "  a: typing.Any\n",
    "  b: typing.Any\n",
    "\n",
    "def refine_fn(value):\n",
    "  if isinstance(value, Foo):\n",
    "    return value.select().at(lambda x: x.a)\n",
    "  else:\n",
    "    return value.select().at(lambda x: x.b)"
   ]
  },
  {
   "cell_type": "code",
   "execution_count": 35,
   "metadata": {
    "execution": {
     "iopub.execute_input": "2024-06-27T23:19:27.149784Z",
     "iopub.status.busy": "2024-06-27T23:19:27.149421Z",
     "iopub.status.idle": "2024-06-27T23:19:27.160456Z",
     "shell.execute_reply": "2024-06-27T23:19:27.160254Z"
    },
    "id": "Hvj4K7tVeag7"
   },
   "outputs": [
    {
     "data": {
      "text/html": [
       "<div id=\"output_fc0a39f5fb67477aaf7fa7189b5e978e\"><script> /* penzai.treescope rendering of a Python object (compressed) */ (()=>{ let observer; let lastStep = new Promise((resolve, reject) => { observer = new IntersectionObserver((entries) => { for (const entry of entries) { if (entry.isIntersecting) { resolve(); observer.disconnect(); return; } } }, {rootMargin: \"1000px\"}); }); window.treescope_decompress_enqueue = (encoded, destId) => { const previous = lastStep; const destElt = document.getElementById(destId); lastStep = (async () => { await previous; let blob = new Blob([ Uint8Array.from(atob(encoded), (m) => m.codePointAt(0)) ]); let reader = blob.stream().pipeThrough( new DecompressionStream(\"deflate\") ).pipeThrough( new TextDecoderStream(\"utf-8\") ).getReader(); let parts = []; while (true) { let step = await reader.read(); if (step.done) { break; } parts.push(step.value); } let newElt = document.createElement(\"div\"); newElt.innerHTML = parts.join(\"\"); destElt.parentNode.replaceChild(newElt, destElt); for (let oldScript of newElt.querySelectorAll(\"script\")) { let newScript = document.createElement(\"script\"); newScript.type = oldScript.type; newScript.textContent = oldScript.textContent; oldScript.parentNode.replaceChild(newScript, oldScript); } })(); requestAnimationFrame(() => { observer.observe(destElt); }); } })(); </script><div id=\"compress_html_da7f75e8607f49acbb3e3f0e6f1d04e3\"><script>window.treescope_decompress_enqueue(\"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\", \"compress_html_da7f75e8607f49acbb3e3f0e6f1d04e3\");</script><span style=\"color: #aaaaaa; font-family: monospace\">(Loading...)</span></div></div>"
      ],
      "text/plain": [
       "<IPython.core.display.HTML object>"
      ]
     },
     "metadata": {},
     "output_type": "display_data"
    },
    {
     "data": {
      "text/html": [
       "<div id=\"output_dest_fc0a39f5fb67477aaf7fa7189b5e978e\"><script> (()=>{ const output = document.getElementById(\"output_fc0a39f5fb67477aaf7fa7189b5e978e\"); const dest = document.getElementById(\"output_dest_fc0a39f5fb67477aaf7fa7189b5e978e\"); dest.parentNode.replaceChild(output, dest); })(); </script></div>"
      ],
      "text/plain": [
       "Selection(\n",
       "  selected_by_path=OrderedDict({(SequenceKey(idx=0), GetAttrKey(name='a')): 1, (SequenceKey(idx=1), GetAttrKey(name='b')): 4, (SequenceKey(idx=2), GetAttrKey(name='a')): 5, (SequenceKey(idx=3), GetAttrKey(name='b')): 8}),\n",
       "  remainder=[\n",
       "    Foo(\n",
       "      a=SelectionHole(path=(SequenceKey(idx=0), GetAttrKey(name='a'))),\n",
       "      b=2,\n",
       "    ),\n",
       "    Bar(\n",
       "      a=3,\n",
       "      b=SelectionHole(path=(SequenceKey(idx=1), GetAttrKey(name='b'))),\n",
       "    ),\n",
       "    Foo(\n",
       "      a=SelectionHole(path=(SequenceKey(idx=2), GetAttrKey(name='a'))),\n",
       "      b=6,\n",
       "    ),\n",
       "    Bar(a=7, b=SelectionHole(path=(SequenceKey(idx=3), GetAttrKey(name='b')))),\n",
       "    None,\n",
       "  ],\n",
       ")"
      ]
     },
     "execution_count": 35,
     "metadata": {},
     "output_type": "execute_result"
    }
   ],
   "source": [
    "pz.select([\n",
    "    Foo(1, 2),\n",
    "    Bar(3, 4),\n",
    "    Foo(5, 6),\n",
    "    Bar(7, 8),\n",
    "    None,\n",
    "]).at_instances_of((Foo, Bar)).refine(refine_fn)"
   ]
  },
  {
   "cell_type": "markdown",
   "metadata": {
    "id": "dUGwFROiBdhV"
   },
   "source": [
    "## Inspecting selections and retrieving values\n",
    "\n",
    "Once you have a selection, there are various ways to inspect them and their contents."
   ]
  },
  {
   "cell_type": "markdown",
   "metadata": {
    "id": "UV1JQsx7nF6f"
   },
   "source": [
    "### Looking at selections\n",
    "You can view a pretty-printed version of the selection using `.show_selection()` (the same pretty-printing we've been using throughout this notebook):"
   ]
  },
  {
   "cell_type": "code",
   "execution_count": 36,
   "metadata": {
    "execution": {
     "iopub.execute_input": "2024-06-27T23:19:27.168019Z",
     "iopub.status.busy": "2024-06-27T23:19:27.167788Z",
     "iopub.status.idle": "2024-06-27T23:19:27.175216Z",
     "shell.execute_reply": "2024-06-27T23:19:27.175044Z"
    },
    "id": "-W2_LNVonip5"
   },
   "outputs": [
    {
     "data": {
      "text/html": [
       "<script> /* penzai.treescope rendering of a Python object (compressed) */ (()=>{ let observer; let lastStep = new Promise((resolve, reject) => { observer = new IntersectionObserver((entries) => { for (const entry of entries) { if (entry.isIntersecting) { resolve(); observer.disconnect(); return; } } }, {rootMargin: \"1000px\"}); }); window.treescope_decompress_enqueue = (encoded, destId) => { const previous = lastStep; const destElt = document.getElementById(destId); lastStep = (async () => { await previous; let blob = new Blob([ Uint8Array.from(atob(encoded), (m) => m.codePointAt(0)) ]); let reader = blob.stream().pipeThrough( new DecompressionStream(\"deflate\") ).pipeThrough( new TextDecoderStream(\"utf-8\") ).getReader(); let parts = []; while (true) { let step = await reader.read(); if (step.done) { break; } parts.push(step.value); } let newElt = document.createElement(\"div\"); newElt.innerHTML = parts.join(\"\"); destElt.parentNode.replaceChild(newElt, destElt); for (let oldScript of newElt.querySelectorAll(\"script\")) { let newScript = document.createElement(\"script\"); newScript.type = oldScript.type; newScript.textContent = oldScript.textContent; oldScript.parentNode.replaceChild(newScript, oldScript); } })(); requestAnimationFrame(() => { observer.observe(destElt); }); } })(); </script><div id=\"compress_html_c9ae49f4b9e84631adc817fbefaa2abb\"><script>window.treescope_decompress_enqueue(\"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\", \"compress_html_c9ae49f4b9e84631adc817fbefaa2abb\");</script><span style=\"color: #aaaaaa; font-family: monospace\">(Loading...)</span></div>"
      ],
      "text/plain": [
       "<IPython.core.display.HTML object>"
      ]
     },
     "metadata": {},
     "output_type": "display_data"
    },
    {
     "data": {
      "text/html": [
       "<div id=\"compress_html_bc5369c36edc4558bc624af54a17e00c\"><script>window.treescope_decompress_enqueue(\"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\", \"compress_html_bc5369c36edc4558bc624af54a17e00c\");</script></div>"
      ],
      "text/plain": [
       "<IPython.core.display.HTML object>"
      ]
     },
     "metadata": {},
     "output_type": "display_data"
    }
   ],
   "source": [
    "pz.select(my_nested_object).at_children().show_selection()"
   ]
  },
  {
   "cell_type": "markdown",
   "metadata": {
    "id": "chGlzxpEnQGr"
   },
   "source": [
    "You can also view the selected values without the selection annotations using `.show_value()`. This is similar to just rendering the root object with treescope, but it automatically expands so that the nodes you selected are visible, and collapses all other nodes."
   ]
  },
  {
   "cell_type": "code",
   "execution_count": 37,
   "metadata": {
    "execution": {
     "iopub.execute_input": "2024-06-27T23:19:27.193520Z",
     "iopub.status.busy": "2024-06-27T23:19:27.183024Z",
     "iopub.status.idle": "2024-06-27T23:19:27.232968Z",
     "shell.execute_reply": "2024-06-27T23:19:27.232721Z"
    },
    "id": "Ei6MgFeAoQ0Z"
   },
   "outputs": [
    {
     "data": {
      "text/html": [
       "<script> /* penzai.treescope rendering of a Python object (compressed) */ (()=>{ let observer; let lastStep = new Promise((resolve, reject) => { observer = new IntersectionObserver((entries) => { for (const entry of entries) { if (entry.isIntersecting) { resolve(); observer.disconnect(); return; } } }, {rootMargin: \"1000px\"}); }); window.treescope_decompress_enqueue = (encoded, destId) => { const previous = lastStep; const destElt = document.getElementById(destId); lastStep = (async () => { await previous; let blob = new Blob([ Uint8Array.from(atob(encoded), (m) => m.codePointAt(0)) ]); let reader = blob.stream().pipeThrough( new DecompressionStream(\"deflate\") ).pipeThrough( new TextDecoderStream(\"utf-8\") ).getReader(); let parts = []; while (true) { let step = await reader.read(); if (step.done) { break; } parts.push(step.value); } let newElt = document.createElement(\"div\"); newElt.innerHTML = parts.join(\"\"); destElt.parentNode.replaceChild(newElt, destElt); for (let oldScript of newElt.querySelectorAll(\"script\")) { let newScript = document.createElement(\"script\"); newScript.type = oldScript.type; newScript.textContent = oldScript.textContent; oldScript.parentNode.replaceChild(newScript, oldScript); } })(); requestAnimationFrame(() => { observer.observe(destElt); }); } })(); </script><div id=\"compress_html_01e63057f57e4352abf0e67b4d011e80\"><script>window.treescope_decompress_enqueue(\"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\", \"compress_html_01e63057f57e4352abf0e67b4d011e80\");</script><span style=\"color: #aaaaaa; font-family: monospace\">(Loading...)</span></div>"
      ],
      "text/plain": [
       "<IPython.core.display.HTML object>"
      ]
     },
     "metadata": {},
     "output_type": "display_data"
    }
   ],
   "source": [
    "stuff = (\n",
    "    [[[\"haystack\"] * 5] * 5] * 5\n",
    "    + [[[\"haystack\"] * 5] * 5 + [[\"haystack\", \"needle\", \"haystack\", \"haystack\", \"haystack\"]]]\n",
    "    + [[[\"haystack\"] * 5] * 5] * 5\n",
    ")\n",
    "\n",
    "pz.select(stuff).at_equal_to(\"needle\").show_value()"
   ]
  },
  {
   "cell_type": "markdown",
   "metadata": {
    "id": "nPZUOuqilcoc"
   },
   "source": [
    "### Counting selected objects\n",
    "Selections have `count` and `is_empty` methods for inspecting their size:"
   ]
  },
  {
   "cell_type": "code",
   "execution_count": 38,
   "metadata": {
    "execution": {
     "iopub.execute_input": "2024-06-27T23:19:27.237636Z",
     "iopub.status.busy": "2024-06-27T23:19:27.237292Z",
     "iopub.status.idle": "2024-06-27T23:19:27.241526Z",
     "shell.execute_reply": "2024-06-27T23:19:27.241245Z"
    },
    "id": "TGu1D-n_lumY"
   },
   "outputs": [
    {
     "data": {
      "text/html": [
       "<div id=\"output_5ac04a375ea84fbd97dc11ab50327779\"><script> /* penzai.treescope rendering of a Python object (compressed) */ (()=>{ let observer; let lastStep = new Promise((resolve, reject) => { observer = new IntersectionObserver((entries) => { for (const entry of entries) { if (entry.isIntersecting) { resolve(); observer.disconnect(); return; } } }, {rootMargin: \"1000px\"}); }); window.treescope_decompress_enqueue = (encoded, destId) => { const previous = lastStep; const destElt = document.getElementById(destId); lastStep = (async () => { await previous; let blob = new Blob([ Uint8Array.from(atob(encoded), (m) => m.codePointAt(0)) ]); let reader = blob.stream().pipeThrough( new DecompressionStream(\"deflate\") ).pipeThrough( new TextDecoderStream(\"utf-8\") ).getReader(); let parts = []; while (true) { let step = await reader.read(); if (step.done) { break; } parts.push(step.value); } let newElt = document.createElement(\"div\"); newElt.innerHTML = parts.join(\"\"); destElt.parentNode.replaceChild(newElt, destElt); for (let oldScript of newElt.querySelectorAll(\"script\")) { let newScript = document.createElement(\"script\"); newScript.type = oldScript.type; newScript.textContent = oldScript.textContent; oldScript.parentNode.replaceChild(newScript, oldScript); } })(); requestAnimationFrame(() => { observer.observe(destElt); }); } })(); </script><div id=\"compress_html_17ae1c1091ae44f8838985fbdd5ffcc9\"><script>window.treescope_decompress_enqueue(\"eNqVVUuP2zYQ/isTFQjkINJuEqRobMvAIknRw6KXBOihKARaGlmEKVIlR+s4gf97h6TllXedZAsfZM7zm/fS0V7hKieL6CrTY2mNIfgGvXGSpNFzsKgEyTtcQGM0ZY3opNrPoTPauF5UTN+1kjALjzn0lilKOsqC6Yz2PVO10Uxei2q7sWbQdVYZZew8qi7g+ForFmB7sqZ2Do0kFtOEmhbQCbuROlPY0BxeV633oTFrUW5aprzK3y7gsLyK4SxdZWVPK5ANpDupa7O7jxCKogCGgA0bqGcc62MJ+HZYPCLnZY+6lnpzU/nMOBb7+5+fiv0hdK28ST0odUF6g1Q+yH4B6Zj0kswMihWDvHoBt8ZsuQgWqEUIktrUmMOLK1BIcNSdqIbSsPM08p4VUJtq6Dih+drUe3j+HJ55Tl4p4dwtFy33CRdSuzQ5B5XMwKdq9OGVemHZ0keFXajQgT3TYHVg8vNCrHbQn4zRPsCdsdtjZOzSESP7i0medUYmWXlij5YD74SuMNdml85OoT3iQBaVlvDmtYd8qQceljJXqDfUcmvA9aWO+HFNY9w+A6gc3kNvB+2x/9S5a2VDPqSg4f8c+PdUDOkoafHfAR3daNkJL/G7FR2mMa+z2eWKPITSD66NtVk8JXEjiCKm4v+k7umwLwJHzVoDfsAGrcX6M3Y9tz26xw3UK088NT6r2f0nVFiRsTdKcaMfdadLcNCl405NZoswcKmfL7YEpgkGfaD8ncyNxc7c4dnUTGx8bxLSEau331jzFf1wBMtx8Z3DTZO42LxJr8GvaWiVRQ7jOJBTWf6X+z3MwtFJeB3p+IXeR2cT9j1xEeDEWf/TrxuLnK0K3/P41SlbeOkFfJ2+Wysym42Ka6QM258YWNhyTEFFLwHv2PoxFb7twjvf4t5PZGKTcfWw8CTn0W6anGyWHQNMRhwH4HsQD8GylncQFIuHew1IrBkwfimS6wSMZqeMXk/kLuNPqZVuRJ7wyYmHNFyyUg/dGm3owXDYfrl+99urt7+enahe6BFSy9WwfM+2JfGZQwZVCxIZQ+kFtUWSnItPfSSrazbJzNXpw7GeLuCT5yadnZL1H79O5Zs=\", \"compress_html_17ae1c1091ae44f8838985fbdd5ffcc9\");</script><span style=\"color: #aaaaaa; font-family: monospace\">(Loading...)</span></div></div>"
      ],
      "text/plain": [
       "<IPython.core.display.HTML object>"
      ]
     },
     "metadata": {},
     "output_type": "display_data"
    },
    {
     "data": {
      "text/html": [
       "<div id=\"output_dest_5ac04a375ea84fbd97dc11ab50327779\"><script> (()=>{ const output = document.getElementById(\"output_5ac04a375ea84fbd97dc11ab50327779\"); const dest = document.getElementById(\"output_dest_5ac04a375ea84fbd97dc11ab50327779\"); dest.parentNode.replaceChild(output, dest); })(); </script></div>"
      ],
      "text/plain": [
       "0"
      ]
     },
     "execution_count": 38,
     "metadata": {},
     "output_type": "execute_result"
    }
   ],
   "source": [
    "pz.select([1, 2]).at_instances_of(str).count()"
   ]
  },
  {
   "cell_type": "code",
   "execution_count": 39,
   "metadata": {
    "execution": {
     "iopub.execute_input": "2024-06-27T23:19:27.245574Z",
     "iopub.status.busy": "2024-06-27T23:19:27.245307Z",
     "iopub.status.idle": "2024-06-27T23:19:27.250084Z",
     "shell.execute_reply": "2024-06-27T23:19:27.249906Z"
    },
    "id": "omvIWqsflyWj"
   },
   "outputs": [
    {
     "data": {
      "text/html": [
       "<div id=\"output_43a7b6ea35184853a24d1f20d4e88d89\"><script> /* penzai.treescope rendering of a Python object (compressed) */ (()=>{ let observer; let lastStep = new Promise((resolve, reject) => { observer = new IntersectionObserver((entries) => { for (const entry of entries) { if (entry.isIntersecting) { resolve(); observer.disconnect(); return; } } }, {rootMargin: \"1000px\"}); }); window.treescope_decompress_enqueue = (encoded, destId) => { const previous = lastStep; const destElt = document.getElementById(destId); lastStep = (async () => { await previous; let blob = new Blob([ Uint8Array.from(atob(encoded), (m) => m.codePointAt(0)) ]); let reader = blob.stream().pipeThrough( new DecompressionStream(\"deflate\") ).pipeThrough( new TextDecoderStream(\"utf-8\") ).getReader(); let parts = []; while (true) { let step = await reader.read(); if (step.done) { break; } parts.push(step.value); } let newElt = document.createElement(\"div\"); newElt.innerHTML = parts.join(\"\"); destElt.parentNode.replaceChild(newElt, destElt); for (let oldScript of newElt.querySelectorAll(\"script\")) { let newScript = document.createElement(\"script\"); newScript.type = oldScript.type; newScript.textContent = oldScript.textContent; oldScript.parentNode.replaceChild(newScript, oldScript); } })(); requestAnimationFrame(() => { observer.observe(destElt); }); } })(); </script><div id=\"compress_html_f4d92ad9052f41a18469d3ee46f5939d\"><script>window.treescope_decompress_enqueue(\"eNqVVd2P0zgQ/1eGIKEUkezCCQRtU2nF3eke0L2AxANCkZtMGquOnbMnW3qo//uN7aab7hbYUx9Sz+dvvpeO9gpXOVlEV5keS2sMwXfojZMkjZ6DRSVI3uICGqMpa0Qn1X4OndHG9aJi+q6VhFl4zKG3TFHSURZMZ7TvmaqNZvJaVNuNNYOus8ooY+dRdQHH11qxANuTNbVzaCSxmCbUtIBO2I3UmcKG5vCqar0PjVmLctMy5WX+egGH5VUMZ+kqK3tagWwg3Uldm91dhFAUBTAEbNhAPeNYH0rA98PiATkve9S11JubymfGsdiXr78U+0voWnmTelDqgvQGqbyX/QLSMeklmRkUKwZ59Rw+GLPlIligFiFIalNjDs+vQCHBUXeiGkrDztPIe1JAbaqh44Tma1Pv4dkzeOI5eaWEcx+4aLlPuJDapck5qGQGPlWjD6/UC8uW/lDYhQod2DMNVgcmPy/Eagf90RjtA9wZuz1Gxi4dMbLPTPKsMzLJyhN7tBx4J3SFuTa7dHYK7QEHsqi0hN9eeciXeuB+KXOFekMttwZcX+qIn9c0xu0zgMrhHfR20B77L527VjbkQwoa/s+Bf4/FkI6SFv8Z0NGNlp3wEn9a0WEa8zqbXa7IfSj94NpYm8VjEjeCKGIq/k/qHg/7InDUrDXg79igtVh/wq7ntkf3sIF65Ymnxmc1u/+ICisy9kYpbvSj7nQJDrp03KnJbBEGLvXzxZbANMGgD5S/k7mx2JlbPJuaiY0fTUI6YvX2G2v+RT8cwXJcfOdw0yQuNm/Sa/BrGlplkcM4DuRUlv/lfg+zcHQSXkc6fqP30dmEfUdcBDhx1v/268YiZ6vC9zx+dcoWXngBX6cf1orMZqPiGinD9icGFrYcU1DRC8Bbtn5MhW+78M63uPcTmdhkXD0sPMl5tJsmJ5tlxwCTEccB+B7EQ7Cs5S0ExeL+XgMSawaM34rkOgGj2Smj1xO5y/hTaqUbkSd8cuIhDZes1EO3Rht6MBy2p9fv3r58/ebsRPVCj5Baroble7Ytic8cMqhakMgYSi+oLZLkXHzqI1l9sgOyVeavTh8O93QEHz066eyUr/8AjS/nCw==\", \"compress_html_f4d92ad9052f41a18469d3ee46f5939d\");</script><span style=\"color: #aaaaaa; font-family: monospace\">(Loading...)</span></div></div>"
      ],
      "text/plain": [
       "<IPython.core.display.HTML object>"
      ]
     },
     "metadata": {},
     "output_type": "display_data"
    },
    {
     "data": {
      "text/html": [
       "<div id=\"output_dest_43a7b6ea35184853a24d1f20d4e88d89\"><script> (()=>{ const output = document.getElementById(\"output_43a7b6ea35184853a24d1f20d4e88d89\"); const dest = document.getElementById(\"output_dest_43a7b6ea35184853a24d1f20d4e88d89\"); dest.parentNode.replaceChild(output, dest); })(); </script></div>"
      ],
      "text/plain": [
       "True"
      ]
     },
     "execution_count": 39,
     "metadata": {},
     "output_type": "execute_result"
    }
   ],
   "source": [
    "pz.select([1, 2]).at_instances_of(str).is_empty()"
   ]
  },
  {
   "cell_type": "code",
   "execution_count": 40,
   "metadata": {
    "execution": {
     "iopub.execute_input": "2024-06-27T23:19:27.254590Z",
     "iopub.status.busy": "2024-06-27T23:19:27.254309Z",
     "iopub.status.idle": "2024-06-27T23:19:27.257937Z",
     "shell.execute_reply": "2024-06-27T23:19:27.257746Z"
    },
    "id": "f7aWTHZql0DV"
   },
   "outputs": [
    {
     "data": {
      "text/html": [
       "<div id=\"output_212d77ae5d484c5ca68260a26c05405e\"><script> /* penzai.treescope rendering of a Python object (compressed) */ (()=>{ let observer; let lastStep = new Promise((resolve, reject) => { observer = new IntersectionObserver((entries) => { for (const entry of entries) { if (entry.isIntersecting) { resolve(); observer.disconnect(); return; } } }, {rootMargin: \"1000px\"}); }); window.treescope_decompress_enqueue = (encoded, destId) => { const previous = lastStep; const destElt = document.getElementById(destId); lastStep = (async () => { await previous; let blob = new Blob([ Uint8Array.from(atob(encoded), (m) => m.codePointAt(0)) ]); let reader = blob.stream().pipeThrough( new DecompressionStream(\"deflate\") ).pipeThrough( new TextDecoderStream(\"utf-8\") ).getReader(); let parts = []; while (true) { let step = await reader.read(); if (step.done) { break; } parts.push(step.value); } let newElt = document.createElement(\"div\"); newElt.innerHTML = parts.join(\"\"); destElt.parentNode.replaceChild(newElt, destElt); for (let oldScript of newElt.querySelectorAll(\"script\")) { let newScript = document.createElement(\"script\"); newScript.type = oldScript.type; newScript.textContent = oldScript.textContent; oldScript.parentNode.replaceChild(newScript, oldScript); } })(); requestAnimationFrame(() => { observer.observe(destElt); }); } })(); </script><div id=\"compress_html_ead0361d9e5e4373919248befdc68428\"><script>window.treescope_decompress_enqueue(\"eNqVVUuP2zYQ/isTFQjkINJutkjR2paBRdqihyCXFMghKARaGlmEKVIhR+s4gf97hqTllXedZgMfZM7zm/fS0V7hKieL6CrTY2mNIfgKvXGSpNFzsKgEyTtcQGM0ZY3opNrPoTPauF5UTN+1kjALjzn0lilKOsqC6Yz2PVO10Uxei2q7sWbQdVYZZew8qi7g+ForFmB7sqZ2Do0kFtOEmhbQCbuROlPY0Bxuqtb70Ji1KDctU17lrxdwWF7FcJausrKnFcgG0p3UtdndRwhFUQBDwIYN1DOO9bEEfD0sHpHzskddS725rXxmHIt9/O+HYv8IXStvUg9KXZDeIJUPsl9AOia9JDODYsUgr17AW2O2XAQL1CIESW1qzOHFFSgkOOpOVENp2Hkaec8KqE01dJzQfG3qPTx/Ds88J6+UcO4tFy33CRdSuzQ5B5XMwKdq9OGVemHZ0l8Ku1ChA3umwerA5OeFWO2g3xujfYA7Y7fHyNilI0b2gUmedUYmWXlij5YD74SuMNdml85OoT3iQBaVlvDrjYd8qQceljJXqDfUcmvA9aWO+P+axrh9BlA5vIfeDtpj/6Fz18qGfEhBw/858O+pGNJR0uKnAR3datkJL/G3FR2mMa+z2eWKPITSD66NtVk8JXEjiCKm4mdS93TYF4GjZq0B/8QGrcX6X+x6bnt0jxuoV554anxWs/v3qLAiY2+V4kY/6k6X4KBLx52azBZh4FI/X2wJTBMM+kD5O5kbi525w7Opmdj43iSkI1Zvv7HmC/rhCJbj4juHmyZxsXmTXoNf09AqixzGcSCnsvwv93uYhaOT8DrS8TO9ic4m7HviIsCJs/7OrxuLnK0K3/D41SlbeOkFfJ2+Wysym42Ka6QM258YWNhyTEFFLwHv2PoxFb7twjvf4t5PZGKTcfWw8CTn0W6anGyWHQNMRhwH4HsQD8GylncQFIuHew1IrBkwfi6S6wSMZqeMXk/kLuNPqZVuRJ7wyYmHNFyyUg/dGm3owXDYfrn+4/dXr387O1G90COklqth+Z5tS+IzhwyqFiQyhtILaoskORef+khWN2ySmavTh2M9XcAnz006OyXrG7/w5Z0=\", \"compress_html_ead0361d9e5e4373919248befdc68428\");</script><span style=\"color: #aaaaaa; font-family: monospace\">(Loading...)</span></div></div>"
      ],
      "text/plain": [
       "<IPython.core.display.HTML object>"
      ]
     },
     "metadata": {},
     "output_type": "display_data"
    },
    {
     "data": {
      "text/html": [
       "<div id=\"output_dest_212d77ae5d484c5ca68260a26c05405e\"><script> (()=>{ const output = document.getElementById(\"output_212d77ae5d484c5ca68260a26c05405e\"); const dest = document.getElementById(\"output_dest_212d77ae5d484c5ca68260a26c05405e\"); dest.parentNode.replaceChild(output, dest); })(); </script></div>"
      ],
      "text/plain": [
       "2"
      ]
     },
     "execution_count": 40,
     "metadata": {},
     "output_type": "execute_result"
    }
   ],
   "source": [
    "pz.select([1, 2]).at_instances_of(int).count()"
   ]
  },
  {
   "cell_type": "code",
   "execution_count": 41,
   "metadata": {
    "execution": {
     "iopub.execute_input": "2024-06-27T23:19:27.261759Z",
     "iopub.status.busy": "2024-06-27T23:19:27.261518Z",
     "iopub.status.idle": "2024-06-27T23:19:27.265749Z",
     "shell.execute_reply": "2024-06-27T23:19:27.265570Z"
    },
    "id": "u9uMT3qll1UI"
   },
   "outputs": [
    {
     "data": {
      "text/html": [
       "<div id=\"output_acb7466ac6e5468c8278932bd18746db\"><script> /* penzai.treescope rendering of a Python object (compressed) */ (()=>{ let observer; let lastStep = new Promise((resolve, reject) => { observer = new IntersectionObserver((entries) => { for (const entry of entries) { if (entry.isIntersecting) { resolve(); observer.disconnect(); return; } } }, {rootMargin: \"1000px\"}); }); window.treescope_decompress_enqueue = (encoded, destId) => { const previous = lastStep; const destElt = document.getElementById(destId); lastStep = (async () => { await previous; let blob = new Blob([ Uint8Array.from(atob(encoded), (m) => m.codePointAt(0)) ]); let reader = blob.stream().pipeThrough( new DecompressionStream(\"deflate\") ).pipeThrough( new TextDecoderStream(\"utf-8\") ).getReader(); let parts = []; while (true) { let step = await reader.read(); if (step.done) { break; } parts.push(step.value); } let newElt = document.createElement(\"div\"); newElt.innerHTML = parts.join(\"\"); destElt.parentNode.replaceChild(newElt, destElt); for (let oldScript of newElt.querySelectorAll(\"script\")) { let newScript = document.createElement(\"script\"); newScript.type = oldScript.type; newScript.textContent = oldScript.textContent; oldScript.parentNode.replaceChild(newScript, oldScript); } })(); requestAnimationFrame(() => { observer.observe(destElt); }); } })(); </script><div id=\"compress_html_6263e921c83540d1a9dff1f1560d22c5\"><script>window.treescope_decompress_enqueue(\"eNqVVUuP2zYQ/isTFQjkINJuUiRobcvAIm3Qw6KXBMghKARaGlmEKVIlR+s4gf97hqTllXedZgsf5BnO45v30tFe4Soni+gq02NpjSH4Br1xkqTRc7CoBMk7XEBjNGWN6KTaz6Ez2rheVMzftZIwC8QcesscJR1lwXRG+5652mhmr0W13Vgz6DqrjDJ2HlUXcKTWigXYnqypnUMjicU0oaYFdMJupM4UNjSH11XrfWjMWpSbljmv8jcLOCyvYjhLV1nZ0wpkA+lO6trs7iOEoiiAIWDDBuoZx/pYAr4dFo/YedmjrqXe3FQ+M47FPv/zU7G/hK6VN6kHpS5Ib5DKB9kvIB2TXpKZQbFikFcv4NaYLRfBArUIQVKbGnN4cQUKCY66E9VQGnaexrdnBdSmGjpOaL429R6eP4dn/iWvlHDulouW+4QLqV2anINKZuBTNfrwSr2wbOlPhV2o0IE902B1eGTyQqx20B+M0T7AnbHbY2Ts0hEj+8Qs/3TGJll5Zo+WA++ErjDXZpfOTqE9eoEsKi3h19ce8qUeeFjKXKHeUMutAdeXOuK/axrj9hlA5fAeejtoj/2nzl0rG/IhBQ3/58C/p2JIR0mL/w7o6EbLTniJ91Z0mMa8zmaXK/IQSj+4NtZm8ZTEjSCKmIr/k7qnw74IHDVrDfgHNmgt1h+x67nt0T1uoF555qnxWc3uP6DCioy9UYob/ag7XYKDLh13ajJbhIFL/XyxJTBNMOgD5e9kbix25g7PpmZi40eTkI5Yvf3Gmq/ohyNYjovvHG6axMXmTXoNpqahVRY5jONATmX5X+73MAtHJ4E68vELvYvOJs/3zEWAE2f9b79uLHK2KnzH41enbOGlF/B1+mGtyGw2Kq6RMmx/YmBhyzEHFb0EvGPrx1T4tgt0vsW9n8jEJuPqYeFJzqPdNDnZLDsGmIw4DsD3IB6CZS3vICgWD/cakFgzYPxSJNcJGM1OGb2eyF3Gn1Ir3Yg84ZMTD2m4ZKUeujXa0IPhsP1y/ftvr968PTtRvdAjpJarYfmebUviM4cMqhYkMobSC2qLJDkXn/pIVu8FLx02ywKr04fjPV3BJ89OOjsl7Dttz+dW\", \"compress_html_6263e921c83540d1a9dff1f1560d22c5\");</script><span style=\"color: #aaaaaa; font-family: monospace\">(Loading...)</span></div></div>"
      ],
      "text/plain": [
       "<IPython.core.display.HTML object>"
      ]
     },
     "metadata": {},
     "output_type": "display_data"
    },
    {
     "data": {
      "text/html": [
       "<div id=\"output_dest_acb7466ac6e5468c8278932bd18746db\"><script> (()=>{ const output = document.getElementById(\"output_acb7466ac6e5468c8278932bd18746db\"); const dest = document.getElementById(\"output_dest_acb7466ac6e5468c8278932bd18746db\"); dest.parentNode.replaceChild(output, dest); })(); </script></div>"
      ],
      "text/plain": [
       "False"
      ]
     },
     "execution_count": 41,
     "metadata": {},
     "output_type": "execute_result"
    }
   ],
   "source": [
    "pz.select([1, 2]).at_instances_of(int).is_empty()"
   ]
  },
  {
   "cell_type": "markdown",
   "metadata": {
    "id": "TG5VaFeZl2qd"
   },
   "source": [
    "If you already know how many objects should be selected, you can also add an assertion in the middle of a chain:"
   ]
  },
  {
   "cell_type": "code",
   "execution_count": 42,
   "metadata": {
    "execution": {
     "iopub.execute_input": "2024-06-27T23:19:27.270355Z",
     "iopub.status.busy": "2024-06-27T23:19:27.270124Z",
     "iopub.status.idle": "2024-06-27T23:19:27.274858Z",
     "shell.execute_reply": "2024-06-27T23:19:27.274679Z"
    },
    "id": "bNBzV-pQl53a"
   },
   "outputs": [
    {
     "data": {
      "text/html": [
       "<div id=\"output_658bc2ec142942d994ce160aa53d7f86\"><script> /* penzai.treescope rendering of a Python object (compressed) */ (()=>{ let observer; let lastStep = new Promise((resolve, reject) => { observer = new IntersectionObserver((entries) => { for (const entry of entries) { if (entry.isIntersecting) { resolve(); observer.disconnect(); return; } } }, {rootMargin: \"1000px\"}); }); window.treescope_decompress_enqueue = (encoded, destId) => { const previous = lastStep; const destElt = document.getElementById(destId); lastStep = (async () => { await previous; let blob = new Blob([ Uint8Array.from(atob(encoded), (m) => m.codePointAt(0)) ]); let reader = blob.stream().pipeThrough( new DecompressionStream(\"deflate\") ).pipeThrough( new TextDecoderStream(\"utf-8\") ).getReader(); let parts = []; while (true) { let step = await reader.read(); if (step.done) { break; } parts.push(step.value); } let newElt = document.createElement(\"div\"); newElt.innerHTML = parts.join(\"\"); destElt.parentNode.replaceChild(newElt, destElt); for (let oldScript of newElt.querySelectorAll(\"script\")) { let newScript = document.createElement(\"script\"); newScript.type = oldScript.type; newScript.textContent = oldScript.textContent; oldScript.parentNode.replaceChild(newScript, oldScript); } })(); requestAnimationFrame(() => { observer.observe(destElt); }); } })(); </script><div id=\"compress_html_75997d301c3642e7a59edf64517bc5ce\"><script>window.treescope_decompress_enqueue(\"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\", \"compress_html_75997d301c3642e7a59edf64517bc5ce\");</script><span style=\"color: #aaaaaa; font-family: monospace\">(Loading...)</span></div></div>"
      ],
      "text/plain": [
       "<IPython.core.display.HTML object>"
      ]
     },
     "metadata": {},
     "output_type": "display_data"
    },
    {
     "data": {
      "text/html": [
       "<div id=\"output_dest_658bc2ec142942d994ce160aa53d7f86\"><script> (()=>{ const output = document.getElementById(\"output_658bc2ec142942d994ce160aa53d7f86\"); const dest = document.getElementById(\"output_dest_658bc2ec142942d994ce160aa53d7f86\"); dest.parentNode.replaceChild(output, dest); })(); </script></div>"
      ],
      "text/plain": [
       "[2, 3]"
      ]
     },
     "execution_count": 42,
     "metadata": {},
     "output_type": "execute_result"
    }
   ],
   "source": [
    "pz.select([1, 2]).at_instances_of(int).assert_count_is(2).apply(lambda x: x + 1)"
   ]
  },
  {
   "cell_type": "markdown",
   "metadata": {
    "id": "fd6gwn3JlaSr"
   },
   "source": [
    "### Retrieving values\n",
    "\n",
    "You can extract all of the selected values using `.get_sequence()`:"
   ]
  },
  {
   "cell_type": "code",
   "execution_count": 43,
   "metadata": {
    "execution": {
     "iopub.execute_input": "2024-06-27T23:19:27.279342Z",
     "iopub.status.busy": "2024-06-27T23:19:27.279100Z",
     "iopub.status.idle": "2024-06-27T23:19:27.391021Z",
     "shell.execute_reply": "2024-06-27T23:19:27.390827Z"
    },
    "id": "SkCQmesoBf3o"
   },
   "outputs": [
    {
     "data": {
      "text/html": [
       "<div id=\"output_630d157480464c3faae10ce8ad14aa8c\"><script> /* penzai.treescope rendering of a Python object (compressed) */ (()=>{ let observer; let lastStep = new Promise((resolve, reject) => { observer = new IntersectionObserver((entries) => { for (const entry of entries) { if (entry.isIntersecting) { resolve(); observer.disconnect(); return; } } }, {rootMargin: \"1000px\"}); }); window.treescope_decompress_enqueue = (encoded, destId) => { const previous = lastStep; const destElt = document.getElementById(destId); lastStep = (async () => { await previous; let blob = new Blob([ Uint8Array.from(atob(encoded), (m) => m.codePointAt(0)) ]); let reader = blob.stream().pipeThrough( new DecompressionStream(\"deflate\") ).pipeThrough( new TextDecoderStream(\"utf-8\") ).getReader(); let parts = []; while (true) { let step = await reader.read(); if (step.done) { break; } parts.push(step.value); } let newElt = document.createElement(\"div\"); newElt.innerHTML = parts.join(\"\"); destElt.parentNode.replaceChild(newElt, destElt); for (let oldScript of newElt.querySelectorAll(\"script\")) { let newScript = document.createElement(\"script\"); newScript.type = oldScript.type; newScript.textContent = oldScript.textContent; oldScript.parentNode.replaceChild(newScript, oldScript); } })(); requestAnimationFrame(() => { observer.observe(destElt); }); } })(); </script><div id=\"compress_html_a1d5e8d349f942df94218030358a56eb\"><script>window.treescope_decompress_enqueue(\"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\", \"compress_html_a1d5e8d349f942df94218030358a56eb\");</script><span style=\"color: #aaaaaa; font-family: monospace\">(Loading...)</span></div></div>"
      ],
      "text/plain": [
       "<IPython.core.display.HTML object>"
      ]
     },
     "metadata": {},
     "output_type": "display_data"
    },
    {
     "data": {
      "text/html": [
       "<div id=\"compress_html_41529a9402d9419cbe85bd4422bcbf0b\"><script>window.treescope_decompress_enqueue(\"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\", \"compress_html_41529a9402d9419cbe85bd4422bcbf0b\");</script></div>"
      ],
      "text/plain": [
       "<IPython.core.display.HTML object>"
      ]
     },
     "metadata": {},
     "output_type": "display_data"
    },
    {
     "data": {
      "text/html": [
       "<div id=\"output_dest_630d157480464c3faae10ce8ad14aa8c\"><script> (()=>{ const output = document.getElementById(\"output_630d157480464c3faae10ce8ad14aa8c\"); const dest = document.getElementById(\"output_dest_630d157480464c3faae10ce8ad14aa8c\"); dest.parentNode.replaceChild(output, dest); })(); </script></div>"
      ],
      "text/plain": [
       "(<jax.Array([0, 1, 2, 3, 4, 5, 6, 7, 8, 9], dtype=int32)>,\n",
       " <jax.Array([0., 0., 0., 0., 0., 0., 0.], dtype=float32)>)"
      ]
     },
     "execution_count": 43,
     "metadata": {},
     "output_type": "execute_result"
    }
   ],
   "source": [
    "selection = (\n",
    "    pz.select(my_nested_object)\n",
    "    .at_subtrees_where(\n",
    "        lambda subtree: isinstance(subtree, jax.Array) and subtree.size <= 10)\n",
    ")\n",
    "\n",
    "selection.get_sequence()"
   ]
  },
  {
   "cell_type": "markdown",
   "metadata": {
    "id": "Dp_fK7Mkd38c"
   },
   "source": [
    "Or get them in a dictionary form with `get_by_path()` (equivalent to just accessing the `.selected_by_path` attribute):"
   ]
  },
  {
   "cell_type": "code",
   "execution_count": 44,
   "metadata": {
    "execution": {
     "iopub.execute_input": "2024-06-27T23:19:27.396814Z",
     "iopub.status.busy": "2024-06-27T23:19:27.396576Z",
     "iopub.status.idle": "2024-06-27T23:19:27.405150Z",
     "shell.execute_reply": "2024-06-27T23:19:27.404976Z"
    },
    "id": "vx86PfFId_OQ"
   },
   "outputs": [
    {
     "data": {
      "text/html": [
       "<div id=\"output_6713d9cdbf574896b4499f7f2bd59da5\"><script> /* penzai.treescope rendering of a Python object (compressed) */ (()=>{ let observer; let lastStep = new Promise((resolve, reject) => { observer = new IntersectionObserver((entries) => { for (const entry of entries) { if (entry.isIntersecting) { resolve(); observer.disconnect(); return; } } }, {rootMargin: \"1000px\"}); }); window.treescope_decompress_enqueue = (encoded, destId) => { const previous = lastStep; const destElt = document.getElementById(destId); lastStep = (async () => { await previous; let blob = new Blob([ Uint8Array.from(atob(encoded), (m) => m.codePointAt(0)) ]); let reader = blob.stream().pipeThrough( new DecompressionStream(\"deflate\") ).pipeThrough( new TextDecoderStream(\"utf-8\") ).getReader(); let parts = []; while (true) { let step = await reader.read(); if (step.done) { break; } parts.push(step.value); } let newElt = document.createElement(\"div\"); newElt.innerHTML = parts.join(\"\"); destElt.parentNode.replaceChild(newElt, destElt); for (let oldScript of newElt.querySelectorAll(\"script\")) { let newScript = document.createElement(\"script\"); newScript.type = oldScript.type; newScript.textContent = oldScript.textContent; oldScript.parentNode.replaceChild(newScript, oldScript); } })(); requestAnimationFrame(() => { observer.observe(destElt); }); } })(); </script><div id=\"compress_html_4bcc8e911df24136b86c8167ab973ab7\"><script>window.treescope_decompress_enqueue(\"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\", \"compress_html_4bcc8e911df24136b86c8167ab973ab7\");</script><span style=\"color: #aaaaaa; font-family: monospace\">(Loading...)</span></div></div>"
      ],
      "text/plain": [
       "<IPython.core.display.HTML object>"
      ]
     },
     "metadata": {},
     "output_type": "display_data"
    },
    {
     "data": {
      "text/html": [
       "<div id=\"compress_html_44a630a2ddeb4e909124ce0242b15ab7\"><script>window.treescope_decompress_enqueue(\"eNrtWetv2zYQ/1cOKtZIraxKfiR+xAa2dAP6pR+GAftQBAIlUpYWmtQkOo8V/d93pGTZih3HydJ2GxwgliXe+368O1rnNLuGUt1xNrVoVuac3I1BSMEsyOjUSmQRUpawomA0HA38ZEj7yWgQB/3+IBr6o6jn+6zn94bdiDFrdl7mROCnljfzIqmUXPBMsLGQyvYSySmJOAuFpGycktKecRIxPmuvhErO57ziGccpi68YdRx448BnyAmlmZh3lMzH4HvBgC0moDV0UpbNUzWGwDPPvnix5Gg8iaKCXSOnuR3Dq9Nhl/j+miCWiwUTKrxJmQjZLdpPGX0xe1daiflrtGIwtdFrgoiT+GoCEX7OC7kUtFMvXJPC7nQiLuOr6pGDVLKgrKhiEOS3UEqe0X2UVSIeI/4CXnqXswItuwoLtpCKham8ZgXcN3rbTHnF49Qe9n/QSekPIPBHlcQbUoZlXEjOkV1JL8mKUoUqi68Oljrqe4GW648g6J16ZzsFm+jvVedsKVQFEWWmMinGW8ohKIGRknUy0ZFL5UIihercGJDdW9NZTeM0ROzHLOQsURtA1bcaqYM4bdMVRtKasKjg21CWimgghXGacVow0Rhf5RRm0CZ5Mcg2VcCgYwILUszR0cqRmPDY7sYpdNDSfpxWuXjE1q9mWg3vyrQK2MaqnfBulQ7jB8aap/AG7ADd2WSp5ZZIxRzHaWKwZu0czrvSu9qEhrMRuXraqR9/w2iuy4iJYKcgNFuWtYMBW6B3DztmLP1nRjwK8c+tSlflV5ewAyrdfuIvHkr8Kn1pneQ9ren8XdUgTbeEmJOynFqm/5gCpIosr1vpqjO3HMB2QqNhf0Amu1KDuidWW3TLC8jKsKqKUphCiMSVt+eZyJcKFPaAqWX8i+SttVNIHQpkfWeY2vrWXUQhyJmygBJFOlfsLicqnVr3zGtV5Tox0C6o1iGxqhf/XBIuyIKFecGS7Naa5Uz8RTJPFYyVscwZwixHS0psbwnhXFd+D1NiJpfq8lGqX1fSc+203V4/f1dHbFPvfTRDG83WHuotUondIBOEYxvOi+mTguu1eHeFOizRLzG3Zq9f3XbPJj8WBbmzP/kuBC50Xei50Hdh4MKpC2cuDF0YXbpADSwyoXpdp+Jrh8TdThAq4yQvGbVmsCLeIlpNXG1DT3SKoiXuJXECUlxwbODTk3UGU+RBKGqqMNaLtkqz0jmpYqEfTy2bk0VECRRS4t7Tn+3QONZ6dzVsYzh5lO9kAjUHEVgLSDVAnFwgO+gc4PdmEn635/IMOOBI/kwwZHQnFMRyEWkNge93+93BYHTa7Q2Hw/9ybjP6nMwi13fMq9lcz8ys5t1X8F++vu85OFl7YfBqJ1a2CvYf5HZVkE1x2ld192nP8JlQGyV577o1e7kEbJ49sc5yNTELUFVO7Z9xrLp9PVeTPRD6jltJe/aczWT4Xmo7HbrV7sXJPcbyoLC1pq/1LzZw76RqzZynZQLNfHBE294ezZZ42iCyvXNWF5pdz86f8NsW7SVBchZ1u+w06vf7yYiOYtLrngWDCIvOMF7/tnWc2Y8z+79lZvdc2P3fbJSES3Kc2f/nM7vfC06PM/txZj/O7MeZ/TizH2f2bz+zP2EQeWRmL2PUrWa27cB0Bp9jKUqsf2Y7f6AlTOGTdfgLaReswyf8y0mlTOcS9dxgqZE3GyMoWhA2d6GmsoHKeKkrql78mTP99ae7D9RuDP7kX+qXJZXkpCBzTYLSG8a4YESx9/XtLzWF3fBoPRccDy3ItOL3SI4DMr3QJdA20Is1xUfsArYqlub1DJ5uwOZMQYaM/gQv5+swepyJuUrx6du3+vWFpqsWN7U86FN2iQo0TymXRcze4zFr+mAozDnLgrdwj7+69XA844jY3zOV2o246r1tLcW4iQzrVf1y+prZ5iWUcX9TSBMwvexoIgRYBaoVuLZSy8SfS7Zk72us/MYWKE+x0nYa3r8Ba7WuVA==\", \"compress_html_44a630a2ddeb4e909124ce0242b15ab7\");</script></div>"
      ],
      "text/plain": [
       "<IPython.core.display.HTML object>"
      ]
     },
     "metadata": {},
     "output_type": "display_data"
    },
    {
     "data": {
      "text/html": [
       "<div id=\"output_dest_6713d9cdbf574896b4499f7f2bd59da5\"><script> (()=>{ const output = document.getElementById(\"output_6713d9cdbf574896b4499f7f2bd59da5\"); const dest = document.getElementById(\"output_dest_6713d9cdbf574896b4499f7f2bd59da5\"); dest.parentNode.replaceChild(output, dest); })(); </script></div>"
      ],
      "text/plain": [
       "OrderedDict([((DictKey(key='b'),),\n",
       "              <jax.Array([0, 1, 2, 3, 4, 5, 6, 7, 8, 9], dtype=int32)>),\n",
       "             ((DictKey(key='c'), SequenceKey(idx=1), DictKey(key='value')),\n",
       "              <jax.Array([0., 0., 0., 0., 0., 0., 0.], dtype=float32)>)])"
      ]
     },
     "execution_count": 44,
     "metadata": {},
     "output_type": "execute_result"
    }
   ],
   "source": [
    "selection.get_by_path()"
   ]
  },
  {
   "cell_type": "markdown",
   "metadata": {
    "id": "fFsp4DQ5pmMu"
   },
   "source": [
    "If you know there's exactly one value, you can just call `.get()`"
   ]
  },
  {
   "cell_type": "code",
   "execution_count": 45,
   "metadata": {
    "execution": {
     "iopub.execute_input": "2024-06-27T23:19:27.409830Z",
     "iopub.status.busy": "2024-06-27T23:19:27.409593Z",
     "iopub.status.idle": "2024-06-27T23:19:27.416917Z",
     "shell.execute_reply": "2024-06-27T23:19:27.416731Z"
    },
    "id": "hYFSKPPinEdk"
   },
   "outputs": [
    {
     "data": {
      "text/html": [
       "<div id=\"output_b5bf39a6958b4432a105b4c354e735f3\"><script> /* penzai.treescope rendering of a Python object (compressed) */ (()=>{ let observer; let lastStep = new Promise((resolve, reject) => { observer = new IntersectionObserver((entries) => { for (const entry of entries) { if (entry.isIntersecting) { resolve(); observer.disconnect(); return; } } }, {rootMargin: \"1000px\"}); }); window.treescope_decompress_enqueue = (encoded, destId) => { const previous = lastStep; const destElt = document.getElementById(destId); lastStep = (async () => { await previous; let blob = new Blob([ Uint8Array.from(atob(encoded), (m) => m.codePointAt(0)) ]); let reader = blob.stream().pipeThrough( new DecompressionStream(\"deflate\") ).pipeThrough( new TextDecoderStream(\"utf-8\") ).getReader(); let parts = []; while (true) { let step = await reader.read(); if (step.done) { break; } parts.push(step.value); } let newElt = document.createElement(\"div\"); newElt.innerHTML = parts.join(\"\"); destElt.parentNode.replaceChild(newElt, destElt); for (let oldScript of newElt.querySelectorAll(\"script\")) { let newScript = document.createElement(\"script\"); newScript.type = oldScript.type; newScript.textContent = oldScript.textContent; oldScript.parentNode.replaceChild(newScript, oldScript); } })(); requestAnimationFrame(() => { observer.observe(destElt); }); } })(); </script><div id=\"compress_html_07055308f3724284bddd91128ae5662b\"><script>window.treescope_decompress_enqueue(\"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\", \"compress_html_07055308f3724284bddd91128ae5662b\");</script><span style=\"color: #aaaaaa; font-family: monospace\">(Loading...)</span></div></div>"
      ],
      "text/plain": [
       "<IPython.core.display.HTML object>"
      ]
     },
     "metadata": {},
     "output_type": "display_data"
    },
    {
     "data": {
      "text/html": [
       "<div id=\"compress_html_9e17f52d399c414d8a7cb2dc1653f544\"><script>window.treescope_decompress_enqueue(\"eNrtWFtv2zYU/iuEitVSGyvyNb7EBrZ0A/rSh2HAHopAoETa4kyTKkU7SYv+9x2SsmzZruOmaYsBM0DJEs93eO481DVha1ToB04nHmFFzvHDCAkpqIcYmXgzqWJCZ1QpSuLOVQd3e7OkfzWLuumwjTudXh8PZq1ev0fTwcCbXhc5FnA1/KZhIrWWS84EHQmp/XAmOcEJp7GQhI4yXPhTjhPKp/WZWMv5nDvMKM1ouqAkCNCrAH1COSaEiXlTy3yEorDVo8sxMis0M8rmmR6hVmjffQ5TyUF4nCSKrgFpH0foRX/QxlG0JUjlckmFju8yKmJ6D/ITSp5N3s2q2P62q4rVMqFqhyAaDsCMFQFY22i1JUg4ThdjlMB1ruRKkGY5scbKbzYTLtOFexUAlVSEKmekVn6PCskZOUXpPPUY8WcUZg85VSDZIlZ0KTWNM7kGPfaFPhRTLnia+YPuL8Zr3R5qRUPH8Q4XcZEqyTnAtQxnTBU61ixdnM112A1bhm80RK1OP7w6yti65+RywcGCWmFRMM2kGB0sjloForigTSaacqUv0EwK3byzUbg3Z7yapVkMyZHSmNOZ3olk82hCuZdmdTplOW0JlYvvivLDCnOBlzTOFZ2xe6C0EhTsIzVUA5cFhcYmHuM0Y5woKioVnefRFNVJni3yq2JiY2iMlljNwRxO3RTz1G+nGWqCpN00cx57RNbvJlqZBE40F/5WqqNJUKtAVg/wCM/QK+S3QJ1dSMm3ACoaBEFlgy20eT52s+4mVS2yYrl52yxf/0BrbouNtWBTYcJWRalgiy5Buy8rZiX9NiEeDfFPtXro/GsK3Rn18DTx5xA4fpftbevkUzuc3bJsSdKK5buBbTZwa1qtKC1SmUM5kVKHFXG8BEnQCQ5MmDVdITVEIO2jhOcs9kU+pcjXl655sJ0ESjkuiolXF7NsMzZdS80rsJOSZNDt4fGxeAPbjb0665prYM557JqJfKWRht1u4lkfJfLeO4op3QnQSwuqs9/ulxoSlWoPEaxxc0EfcqyzibcnTW3/KYML1bcO7xzTlJN7W4Q3zan4iNnWUZAqOUhSwEY+w5ybPS4ED9gmzt3eSf3nhntulPbr89eXpcV2193PSFTPSO8E9QGphH2PCcyh4cjV5KuMG9awx0wdF6CXmHvTly/u21fjX5XCD/57FF0g1ILRhtGB0YXRg9GHcQVjAGN4AT0MjNbtBSI2UJjQnXbgONWNdHHoMlie47ygxJuiDfEB0aYdrYveME5LVlAhRANJccOheZk0tj7NAAPBaaji1Ez6OmNF0HDWMa8nns/xMiEYmUQd2WvdWIG3Ta8KNkKNR3GNMSoRWECuY9c8NW4AjoxX4H91TLg8cXtCgMB55YnhwcjR4HBNujdtRVG72+71o2E36kbRf9m3jDzFs4D6iX61yfVEzxrsj634J06V3skweHE0Vg5K+D/4flOibbk6VYdPrc7gndA7RfrkvDd9PgfsHsyh8nI9thPIVU6jn1XMPb6c6/GJEPqJqWQ0e0oyWdxzpdO5qbZnp4v/bXmW2Wr92PZzFto7pXvT4Os8UeuCH02PKiW+tTU5zKXNjbA1SJGCNHrq+wGaTNGnVIoCKqJN8LekQBP03jv/W+Dt2OGNwwB6B/VE3u10nsA0rh8YfERkujJl00z+zqn5+9vDW+JXMryPbs2Z0XGeKTw3JMC9AqaKYk3flI9/lBR+hTHr3HA4agBogw9xDn0xuTF1zrfxlRqKd1Dqfa1W9pQ6kwr5nGrEABiN4Xa9tUzIqZhrOHWz16/NKc7QucndVb6oE7uFBQymkCuV0jdsvavRHsx+kfXQa7SHd48h9GAcwvJvpjO/Yuc+cpVcrJoA2M6aL3lr6tuzuDu47TCpDGamA0MEMePiZBMvB66l4sOKruibMlb+okvgp2nhBxX2X9ed5Ew=\", \"compress_html_9e17f52d399c414d8a7cb2dc1653f544\");</script></div>"
      ],
      "text/plain": [
       "<IPython.core.display.HTML object>"
      ]
     },
     "metadata": {},
     "output_type": "display_data"
    },
    {
     "data": {
      "text/html": [
       "<div id=\"output_dest_b5bf39a6958b4432a105b4c354e735f3\"><script> (()=>{ const output = document.getElementById(\"output_b5bf39a6958b4432a105b4c354e735f3\"); const dest = document.getElementById(\"output_dest_b5bf39a6958b4432a105b4c354e735f3\"); dest.parentNode.replaceChild(output, dest); })(); </script></div>"
      ],
      "text/plain": [
       "{'value': <jax.Array([ 0,  1,  2,  3,  4,  5,  6,  7,  8,  9, 10, 11], dtype=int32)>}"
      ]
     },
     "execution_count": 45,
     "metadata": {},
     "output_type": "execute_result"
    }
   ],
   "source": [
    "pz.select(my_nested_object).at(lambda root: root[\"c\"][0]).get()"
   ]
  },
  {
   "cell_type": "markdown",
   "metadata": {
    "id": "MkI4lVkKxvSX"
   },
   "source": [
    "You can also get the selected objects in a dictionary form by accessing the `selected_by_path` attribute, which is how selections store their selected nodes internally:"
   ]
  },
  {
   "cell_type": "code",
   "execution_count": 46,
   "metadata": {
    "execution": {
     "iopub.execute_input": "2024-06-27T23:19:27.422958Z",
     "iopub.status.busy": "2024-06-27T23:19:27.422725Z",
     "iopub.status.idle": "2024-06-27T23:19:27.430097Z",
     "shell.execute_reply": "2024-06-27T23:19:27.430214Z"
    },
    "id": "UNJ6Zq-7x1px"
   },
   "outputs": [
    {
     "data": {
      "text/html": [
       "<div id=\"output_2c592b215c0241b0b507724bdbffd66d\"><script> /* penzai.treescope rendering of a Python object (compressed) */ (()=>{ let observer; let lastStep = new Promise((resolve, reject) => { observer = new IntersectionObserver((entries) => { for (const entry of entries) { if (entry.isIntersecting) { resolve(); observer.disconnect(); return; } } }, {rootMargin: \"1000px\"}); }); window.treescope_decompress_enqueue = (encoded, destId) => { const previous = lastStep; const destElt = document.getElementById(destId); lastStep = (async () => { await previous; let blob = new Blob([ Uint8Array.from(atob(encoded), (m) => m.codePointAt(0)) ]); let reader = blob.stream().pipeThrough( new DecompressionStream(\"deflate\") ).pipeThrough( new TextDecoderStream(\"utf-8\") ).getReader(); let parts = []; while (true) { let step = await reader.read(); if (step.done) { break; } parts.push(step.value); } let newElt = document.createElement(\"div\"); newElt.innerHTML = parts.join(\"\"); destElt.parentNode.replaceChild(newElt, destElt); for (let oldScript of newElt.querySelectorAll(\"script\")) { let newScript = document.createElement(\"script\"); newScript.type = oldScript.type; newScript.textContent = oldScript.textContent; oldScript.parentNode.replaceChild(newScript, oldScript); } })(); requestAnimationFrame(() => { observer.observe(destElt); }); } })(); </script><div id=\"compress_html_ded593c5dc7a4e6d9ee9e72bdff37537\"><script>window.treescope_decompress_enqueue(\"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\", \"compress_html_ded593c5dc7a4e6d9ee9e72bdff37537\");</script><span style=\"color: #aaaaaa; font-family: monospace\">(Loading...)</span></div></div>"
      ],
      "text/plain": [
       "<IPython.core.display.HTML object>"
      ]
     },
     "metadata": {},
     "output_type": "display_data"
    },
    {
     "data": {
      "text/html": [
       "<div id=\"compress_html_d522a3333db24b7faf029a5588794c43\"><script>window.treescope_decompress_enqueue(\"eNrtWetv2zYQ/1cOKtZIraxYfsSv2MCWbkC/9MMwYB+KQKBEytJCk6pE59Gi//uOlCxbseM4WdpugwPEssR73493R+ucptdQqDvOphZNi4yTuzEIKZgFKZ1ascwDymKW54wGvXYY+4MexcugN2r7JO6OfNbrDYaEDCJ2Zs3Oi4wI/NTyZl4olZILngo2FlLZXiw5JSFngZCUjRNS2DNOQsZnzZVAyfmclzzjKGHRFaOOA28c+AIZoTQV85aS2Rjant9niwloDa2EpfNEjcH3zLOvXiQ5Gk/CMGfXyGlux/DqbNgh7faaIJKLBRMquEmYCNgt2k8ZfTF7V1qJ+au1YjC10WuCkJPoagIhfs5zuRS0VS1ck9xutUIuo6vykYNUMqcsL2PgZ7dQSJ7SfZRlIh4j/gpecpexHC27CnK2kIoFibxmOdw3ettMecWjxB72ftJJ6fXBb49KiTekCIool5wju5JenOaFClQaXR0sddTzfC23PQK/e+YNdgo20d+rztlSqHIiilSlUoy3lINfACMFa6WiJZfKhVgK1boxILu3prOaREmA2I9YwFmsNoCqbzVS+1HSpMuNpDVhXsK3piwU0UAKoiTlNGeiNr7MKcygSfJikK2rgEHHBBYkn6OjpSMR4ZHdiRJooaW9KClz8Yit38y0Ct6laSWwjVU74d0oHcYPjDVP4A3YPrqzyVLJLZCKOY5Tx2DN2jqcd6V3tQkNZy1y9bRVPf6O0VyXERPBVk5ouiwqB322QO8edsxY+s+MeBTiXxqVrsyvLmEHVLr9xF89lPhN+tI6yXta0/lp2SBNt4SIk6KYWqb/mAKk8jSrWumqMzccwHZCw2GvTya7UoO6J1ZTdMMLSIugrIpSmEKIxKW356nIlgoU9oCpZfwL5a21U0gVCmQ9NUxNfesuohDkTFlAiSKtK3aXEZVMrXvmNapylRhoFlTrkFhVi5+WhAuyYEGWszi9tWYZE59J6qmcsSKSGUOYZWhJge0tJpzryu9hSszkUl4+SPX7Snqmnbab6+enVcQ29d5HMzTRbO2h3iKV2A1SQTi24SyfPim4XoN3V6iDAv0Sc2v2+tVtZzD5Oc/Jnf2x7YLvQseFrgs9F/ounLkwcGHowujSBWpgkQrV7TglXzMk7naCUBknWcGoNYMV8RbRauJqGnqiUxQucS+JE5DigmMDn56sM5ggD0JRUwWRXrRVkhbOSRkL/Xhq2ZwsQkoglxL3nv5shsax1rurZhvDyaN8JxOoOIjAWkDKAeLkAtlB5wC/15Pw6Z7LM+CAI/kzwZDSnVAQy0WoNfjtdqfX6fdHZ53ucDj8L+c2pc/JLHL9wLyazfXMzGrefQX/5ev7noOTtRcGr3ZiZatg/0VuVwXZFKd9VXef9hSfCbVRkveuW7OXS8Dm2RPrLFcTswBl5dT+GcfK29dzNdkDoR+4lbRnz9lMhu+lttOhW+1enNxjLA8KW2P6Wv9iA/dOqtbMeVom0MwHR7Tt7VFviacNIts7Z3Wh6fXs/Cm/bdEu6XbJMB7FcY/1zsKwP8SO2PP7g2jUHcbr37aOM/txZv+3zOyeC7v/640Sc0mOM/v/fGZvd/2z48x+nNmPM/txZj/O7MeZ/fvP7E8YRB6Z2YsIdauZbTswncGXSIoC65/Zzu9pAVP4aB3+QtoF6/AJ/3JSKtO5RD03WGrkzcYIihYE9V2gqWygMlrqiqoXf+VMf/3l7j21a4M/ti/1y5JScpyTuSZB6TVjlDOi2Lvq9reKwq55tJ4LjocWZFrxeyTDAZle6BJoG+hFmuIDdgFb5UvzegZPN2BzpiBFxvYEL+frMHqciblK8Onbt/r1haYrFze1POhTeokKNE8hl3nE3uExa/pgKMw5y4K3cI+/vPVwPOOI2D9Tldi1uPK9bSXFuIkM61X9cvqa2eYllHF/U0gdML3saCIEWAmqFbi2UsvEpyVbsncVVv5gC5SnWGE7Ne/fML+trg==\", \"compress_html_d522a3333db24b7faf029a5588794c43\");</script></div>"
      ],
      "text/plain": [
       "<IPython.core.display.HTML object>"
      ]
     },
     "metadata": {},
     "output_type": "display_data"
    },
    {
     "data": {
      "text/html": [
       "<div id=\"output_dest_2c592b215c0241b0b507724bdbffd66d\"><script> (()=>{ const output = document.getElementById(\"output_2c592b215c0241b0b507724bdbffd66d\"); const dest = document.getElementById(\"output_dest_2c592b215c0241b0b507724bdbffd66d\"); dest.parentNode.replaceChild(output, dest); })(); </script></div>"
      ],
      "text/plain": [
       "OrderedDict([((DictKey(key='b'),),\n",
       "              <jax.Array([0, 1, 2, 3, 4, 5, 6, 7, 8, 9], dtype=int32)>),\n",
       "             ((DictKey(key='c'), SequenceKey(idx=1), DictKey(key='value')),\n",
       "              <jax.Array([0., 0., 0., 0., 0., 0., 0.], dtype=float32)>)])"
      ]
     },
     "execution_count": 46,
     "metadata": {},
     "output_type": "execute_result"
    }
   ],
   "source": [
    "(\n",
    "    pz.select(my_nested_object)\n",
    "    .at_subtrees_where(\n",
    "        lambda subtree: isinstance(subtree, jax.Array) and subtree.size <= 10\n",
    "    )\n",
    ").selected_by_path"
   ]
  },
  {
   "cell_type": "markdown",
   "metadata": {
    "id": "ebPObknTmCAo"
   },
   "source": [
    "### Partitioning PyTrees\n",
    "\n",
    "You can use `.partition()` to split a selected object into two parts, one containing only the selected subtrees, and one containing everything else:"
   ]
  },
  {
   "cell_type": "code",
   "execution_count": 47,
   "metadata": {
    "execution": {
     "iopub.execute_input": "2024-06-27T23:19:27.434267Z",
     "iopub.status.busy": "2024-06-27T23:19:27.434034Z",
     "iopub.status.idle": "2024-06-27T23:19:27.436265Z",
     "shell.execute_reply": "2024-06-27T23:19:27.436095Z"
    },
    "id": "H-CcdaMyqq3M"
   },
   "outputs": [],
   "source": [
    "selected, rest = (\n",
    "    pz.select(my_nested_object)\n",
    "    .at_subtrees_where(\n",
    "        lambda subtree: isinstance(subtree, jax.Array) and subtree.size <= 10)\n",
    ").partition()"
   ]
  },
  {
   "cell_type": "code",
   "execution_count": 48,
   "metadata": {
    "execution": {
     "iopub.execute_input": "2024-06-27T23:19:27.441778Z",
     "iopub.status.busy": "2024-06-27T23:19:27.441473Z",
     "iopub.status.idle": "2024-06-27T23:19:27.450249Z",
     "shell.execute_reply": "2024-06-27T23:19:27.450368Z"
    },
    "id": "DaUwe2Iyq6ko"
   },
   "outputs": [
    {
     "data": {
      "text/html": [
       "<div id=\"output_74ed2b3efe484f169d9e2e337b799d57\"><script> /* penzai.treescope rendering of a Python object (compressed) */ (()=>{ let observer; let lastStep = new Promise((resolve, reject) => { observer = new IntersectionObserver((entries) => { for (const entry of entries) { if (entry.isIntersecting) { resolve(); observer.disconnect(); return; } } }, {rootMargin: \"1000px\"}); }); window.treescope_decompress_enqueue = (encoded, destId) => { const previous = lastStep; const destElt = document.getElementById(destId); lastStep = (async () => { await previous; let blob = new Blob([ Uint8Array.from(atob(encoded), (m) => m.codePointAt(0)) ]); let reader = blob.stream().pipeThrough( new DecompressionStream(\"deflate\") ).pipeThrough( new TextDecoderStream(\"utf-8\") ).getReader(); let parts = []; while (true) { let step = await reader.read(); if (step.done) { break; } parts.push(step.value); } let newElt = document.createElement(\"div\"); newElt.innerHTML = parts.join(\"\"); destElt.parentNode.replaceChild(newElt, destElt); for (let oldScript of newElt.querySelectorAll(\"script\")) { let newScript = document.createElement(\"script\"); newScript.type = oldScript.type; newScript.textContent = oldScript.textContent; oldScript.parentNode.replaceChild(newScript, oldScript); } })(); requestAnimationFrame(() => { observer.observe(destElt); }); } })(); </script><div id=\"compress_html_8a182fb8afcf478abede42e47c3c2c23\"><script>window.treescope_decompress_enqueue(\"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\", \"compress_html_8a182fb8afcf478abede42e47c3c2c23\");</script><span style=\"color: #aaaaaa; font-family: monospace\">(Loading...)</span></div></div>"
      ],
      "text/plain": [
       "<IPython.core.display.HTML object>"
      ]
     },
     "metadata": {},
     "output_type": "display_data"
    },
    {
     "data": {
      "text/html": [
       "<div id=\"compress_html_7d06085f4ffe4fb49701dbbffd512f81\"><script>window.treescope_decompress_enqueue(\"eNrtWVtv2zYU/iuECjRSKyuyfI0vAra0A/rSh2HAHopAoETa4kKTKkWnyYr+9x3qZit2nMvSBBscIJZFnu/cz9GhNSPsCuX6htO5RViecXwzQUIKaiFG5tZCqojQBVWKkihY9AeLQS/GQc+Hb3GcjIhP416vHwzIMDizwlmeYQGfhl/oxVJrueJM0ImQ2vYWkhMccxoJSegkxbkdchxTHrZ3Ii2XS15iJklKk0tKHAe9c9B3lGFCmFh2tMwmyPe6A7qaIiOhk1K2TPUEdb1i7YeXSA7K4zhW9AqQxe0EvRmOA+z7G4JErlZU6OhbSkVEr0F/Qsmz6VtLxcXfRqpYr2Kqtgj8s3F3MDQEucaGQ5SkjBNFRYmAhVgqApgQtUmeTdcm/DGXyeUUrbBaMtHhdAFuTTBP7CBJUQfc3k9SB1RF9+n601Qr2Veq5ZIzUmqFrrCyO52CqlPoAnq2cqaww/cGPEXvkN0Fc7YhFd8cqKjjOI0PNtDOw7G13LIMTLoCsmFZr3aq5Rf0ZqUpGFV4sKMwYeu8MrBLV2Dd3YYVmv47Je5N8W0V6/h2s+u90a0oa3ceJv7hAcef0pA2QT7Qk2anZWcs2iRKOM7zuVU0HiXXgmjFsqqH1i25ZQC0CRKP+wM83RcaEDO12qxbVsBeadyMiWytkb7JQEBhTiyvrb2YynKAnhagNvsUOCgw9DLSkNNUW4hgjTuX9CbDOp1bt7Spg2xcg6o4oDRJIyBKaGRS0XqIa6rNr2vMBV7RKFN0wa6tMKPib8w8rSjNE5lRyKoMNMk1jRaY8xhyzoMIFE+o8vJZ6t9r7pkx2m7vz04rj23LvZ28qJ281gHqHVKpGPQCzCNFMzV/lHO9Fnafq6Mc7BJLK3z75joYTX9RCt/YX3wXdV0UuKjnor6LBi4aumjkorGLzi5cRIq0YEL3AqfEtV3i7gYIhHGc5ZRYIaqJd4jqJ2tb0RMTongNpSNOkBTnnCWX85NNBFPAQCoaqigxm7ZOWe6clL4wy3PL5ngVE4yUlFBq5rPtGsfaFFMDm6CTe3EnU1QhsIDSx5pJAbhzgCMTA/jeTDynBy5PSAcYvZ6YDIzsTYVy3rDCru8HMK0NzoZBbzwe/5djy8hTIguoV4xrUVxPjKzBvmx/PzAgWwfT4M3eXNlp2H/h67ohF83pUNc9JJ3BmtBbLfngvhU+XwC2zxjQZ7meFhuo7JzGvsKw8vbtUk8PpNArlpKx7CnFVOCeq5weWmq3/OQeffkgt7Wmr83JfGsAU2ZYtULncZEANe8c0XbLoymJxw0iu5VTXwi7CmeP+A3Dx90hGfsLOuzj/ojQsxEZBWfdIR2NcTDsjTa/YRxH9OOI/kojuuei/f9NXSy4xMcR/X8+ovu97vA4oh9H9OOIfhzRjyP6cUR/+RH9EYPIPSN6noBsHdq2g+Yh+p5IkUP/K8r5E8nRHH2xHv6e0UXWwwf6i2kpzMQS5HyDViO/bY2goEHU3EWGykZEJmvTUc3mR07N119vPhG7UfiLf2FehZScFwovDQlwb4CJoljTD9XtbxWF3WCMnHMOZxQA1XgPZzAgk3PTAu0i9RJD8RmeArZW6+LlCxxmkM2pRgyA/hQus40bPU7FUqew+v69eTlh6MrNbSl32sQuQIDB5HKtEvoBTlXzO11RHKss9B7dwpe3HoxnHDL2T6ZTu2HnLZjKay6FmQDY7Cq6klfULl4xFeZvM2kcZrYdQwQJViZVnVw7oaXi65qu6YcqV/6gK+CnaW47DfYfZfLpCQ==\", \"compress_html_7d06085f4ffe4fb49701dbbffd512f81\");</script></div>"
      ],
      "text/plain": [
       "<IPython.core.display.HTML object>"
      ]
     },
     "metadata": {},
     "output_type": "display_data"
    },
    {
     "data": {
      "text/html": [
       "<div id=\"output_dest_74ed2b3efe484f169d9e2e337b799d57\"><script> (()=>{ const output = document.getElementById(\"output_74ed2b3efe484f169d9e2e337b799d57\"); const dest = document.getElementById(\"output_dest_74ed2b3efe484f169d9e2e337b799d57\"); dest.parentNode.replaceChild(output, dest); })(); </script></div>"
      ],
      "text/plain": [
       "{'a': NotInThisPartition(),\n",
       " 'b': <jax.Array([0, 1, 2, 3, 4, 5, 6, 7, 8, 9], dtype=int32)>,\n",
       " 'c': [NotInThisPartition(),\n",
       "  {'value': <jax.Array([0., 0., 0., 0., 0., 0., 0.], dtype=float32)>},\n",
       "  NotInThisPartition()]}"
      ]
     },
     "execution_count": 48,
     "metadata": {},
     "output_type": "execute_result"
    }
   ],
   "source": [
    "selected"
   ]
  },
  {
   "cell_type": "code",
   "execution_count": 49,
   "metadata": {
    "execution": {
     "iopub.execute_input": "2024-06-27T23:19:27.455919Z",
     "iopub.status.busy": "2024-06-27T23:19:27.455452Z",
     "iopub.status.idle": "2024-06-27T23:19:27.463369Z",
     "shell.execute_reply": "2024-06-27T23:19:27.463055Z"
    },
    "id": "n-y-RvcSq7V-"
   },
   "outputs": [
    {
     "data": {
      "text/html": [
       "<div id=\"output_025f79bfd77143c78de0403ae8d8fa30\"><script> /* penzai.treescope rendering of a Python object (compressed) */ (()=>{ let observer; let lastStep = new Promise((resolve, reject) => { observer = new IntersectionObserver((entries) => { for (const entry of entries) { if (entry.isIntersecting) { resolve(); observer.disconnect(); return; } } }, {rootMargin: \"1000px\"}); }); window.treescope_decompress_enqueue = (encoded, destId) => { const previous = lastStep; const destElt = document.getElementById(destId); lastStep = (async () => { await previous; let blob = new Blob([ Uint8Array.from(atob(encoded), (m) => m.codePointAt(0)) ]); let reader = blob.stream().pipeThrough( new DecompressionStream(\"deflate\") ).pipeThrough( new TextDecoderStream(\"utf-8\") ).getReader(); let parts = []; while (true) { let step = await reader.read(); if (step.done) { break; } parts.push(step.value); } let newElt = document.createElement(\"div\"); newElt.innerHTML = parts.join(\"\"); destElt.parentNode.replaceChild(newElt, destElt); for (let oldScript of newElt.querySelectorAll(\"script\")) { let newScript = document.createElement(\"script\"); newScript.type = oldScript.type; newScript.textContent = oldScript.textContent; oldScript.parentNode.replaceChild(newScript, oldScript); } })(); requestAnimationFrame(() => { observer.observe(destElt); }); } })(); </script><div id=\"compress_html_597096a58d494cffb86cebbc755d2e67\"><script>window.treescope_decompress_enqueue(\"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\", \"compress_html_597096a58d494cffb86cebbc755d2e67\");</script><span style=\"color: #aaaaaa; font-family: monospace\">(Loading...)</span></div></div>"
      ],
      "text/plain": [
       "<IPython.core.display.HTML object>"
      ]
     },
     "metadata": {},
     "output_type": "display_data"
    },
    {
     "data": {
      "text/html": [
       "<div id=\"compress_html_3a44e96dc9b5441686394951d95d1a2b\"><script>window.treescope_decompress_enqueue(\"eNrtWFtP4zgU/itWkIZkoCEp5dbSSruwK83LPKxW2geEIic+bby4dsZxC+xo/vseO5c2FArDMDNaaZFMGvt85/r51O4540tSmnsBY4/xshD0fkikkuARzsbeVOmEwRS0BpZE9Kg/PTyNzw7ZYAA0Sqcshn52eHIap4PBceRNzsuCSvxv9U3CVBmj5oJLGEpl/HCqBKOpgEQqBsOclv5E0BTEpLuSGDWbiQozzHLIboAFAXkfkM+koIxxOesZVQxJFMZHMB8Ra6GXA5/lZkji0M19CTMl0HmaphqWiHSvQ7JzfNqnUbQSyNR8DtIktznIBO7QfwbszfxtrFL3Z62WhlqBJMu5YBpk5QZOpEoz0GRCuiJv5kpb3VSo7GZE5lTPuOwJmGLWMioyv5/lpIdZHWR5gK6S53z9bq5V6mvXSiU4q7wiS6r9Xs9J9Zwv6GeHEi6OKDwSOXlP/BjDWYfUekuUgiAI2hysoL2XYxu7FcstGxHZqmxme/X0D8xm7SkG5TLY05TxRVkHGMMco3s6MOfptznxLMXXXWzqGxd3j1a3lmzSuV34S4gav0u/WRV5S8s5P6gan+uCJBO0LMee6ytaLSQzmhd1i2w6bicAbBMsPR0c0dFjpUEzI6+ruhMFrlXBnXNZLAwx9wUacOGk6s57FFNHjtADB+qqz1GDxkBvEoOcBuMRRg3t3cB9QU0+9h540xTZpobUdSB5licolEFiqei9JDX14qcFFZLOISk0TPmdNylA/kN5aDRAmakCkFUFelIaSKZUiBQ5F2IF3BdQ9fiozB+N9sIG7XfXzw/qjK3bfUhe0iWvt0V6Q1Rpjr2AikRDocdfldywg30s1UmJccmZN3m3c9c/Gf2iNb33r0i0T0iMo4/jEMcAxxGOYxwnOE5xnO2TGOXi+HqfMEcULs1hP6g0dZO0v1kyNC9oUQLzJqQR3hBqvkq7ru/aoqUL3Exylyh5IXh2M95d1TRHDJLTSiWZXfRNzstgt8qOnR57vqDzlFGilcLNZ/93kxV4q+3VwoZk91nc7ojUCCqxGVDDlUTcBcKJrQp+bo84B1seryAInrVeSQ/OHiWHXMxTayGOov6gf3QcnQ2iQRT9l2vL2Wsqi6ifWFe3uV5ZWYv9sR1/y4nY20qDnUe5stHC/6Z3TYt27WpbH95mneOcNGtNeuu6N3m7AqxfKrDzCjNyC6TqnDY+F1j1+m5mRlso9BO3ko3sNZvJ4d5qO710qz3I0/7/uXxR2jrnsdVVfO1Ipu3x1ZsEX1cJdPPJQ9vm9mi3xLceTTb3UvNgfIleZOiNmfh+QMYT8jlTssSO6Db4B1aSMbnyXv47xvWowtuCIfQW+4m6XTt5otKkfUuslE+Yyha2bdrF3wTYj7/ef2B+68NVdG2vV5XmqaYzK4LaW2CmgRq4rF9/ryX8FmPtXAiFJRy3+JAWeC5mF7bP+Y5fmZX4iK3eN3rhLnRTpYkvwBCOwGiEj/NVZkIBcmbwgsr39uyFx8pVi+tWnoyJX6MBiynVQmdwyZfrET2AuV+TPLJHHuCr1xDPYAJp+Rc3ud+qC6dcl40WFyYCVqsa5moJvru2uvDXlbQJs8uBFULOVDxp+LJRWpCfFrCAy5orf8Ic9Rko/aDF/gtFVbo8\", \"compress_html_3a44e96dc9b5441686394951d95d1a2b\");</script></div>"
      ],
      "text/plain": [
       "<IPython.core.display.HTML object>"
      ]
     },
     "metadata": {},
     "output_type": "display_data"
    },
    {
     "data": {
      "text/html": [
       "<div id=\"output_dest_025f79bfd77143c78de0403ae8d8fa30\"><script> (()=>{ const output = document.getElementById(\"output_025f79bfd77143c78de0403ae8d8fa30\"); const dest = document.getElementById(\"output_dest_025f79bfd77143c78de0403ae8d8fa30\"); dest.parentNode.replaceChild(output, dest); })(); </script></div>"
      ],
      "text/plain": [
       "{'a': 1,\n",
       " 'b': NotInThisPartition(),\n",
       " 'c': [{'value': <jax.Array([ 0,  1,  2,  3,  4,  5,  6,  7,  8,  9, 10, 11], dtype=int32)>},\n",
       "  {'value': NotInThisPartition()},\n",
       "  {'value': 3}]}"
      ]
     },
     "execution_count": 49,
     "metadata": {},
     "output_type": "execute_result"
    }
   ],
   "source": [
    "rest"
   ]
  },
  {
   "cell_type": "markdown",
   "metadata": {
    "id": "lIj7wg-oqv1t"
   },
   "source": [
    "You can then process the two parts independently, and then recombine them into a single object using `pz.combine`:"
   ]
  },
  {
   "cell_type": "code",
   "execution_count": 50,
   "metadata": {
    "execution": {
     "iopub.execute_input": "2024-06-27T23:19:27.472619Z",
     "iopub.status.busy": "2024-06-27T23:19:27.472306Z",
     "iopub.status.idle": "2024-06-27T23:19:27.510631Z",
     "shell.execute_reply": "2024-06-27T23:19:27.510420Z"
    },
    "id": "8SoBMXJmrBgY"
   },
   "outputs": [
    {
     "data": {
      "text/html": [
       "<div id=\"output_c7ace7e7295e41a4b7745f5508592c33\"><script> /* penzai.treescope rendering of a Python object (compressed) */ (()=>{ let observer; let lastStep = new Promise((resolve, reject) => { observer = new IntersectionObserver((entries) => { for (const entry of entries) { if (entry.isIntersecting) { resolve(); observer.disconnect(); return; } } }, {rootMargin: \"1000px\"}); }); window.treescope_decompress_enqueue = (encoded, destId) => { const previous = lastStep; const destElt = document.getElementById(destId); lastStep = (async () => { await previous; let blob = new Blob([ Uint8Array.from(atob(encoded), (m) => m.codePointAt(0)) ]); let reader = blob.stream().pipeThrough( new DecompressionStream(\"deflate\") ).pipeThrough( new TextDecoderStream(\"utf-8\") ).getReader(); let parts = []; while (true) { let step = await reader.read(); if (step.done) { break; } parts.push(step.value); } let newElt = document.createElement(\"div\"); newElt.innerHTML = parts.join(\"\"); destElt.parentNode.replaceChild(newElt, destElt); for (let oldScript of newElt.querySelectorAll(\"script\")) { let newScript = document.createElement(\"script\"); newScript.type = oldScript.type; newScript.textContent = oldScript.textContent; oldScript.parentNode.replaceChild(newScript, oldScript); } })(); requestAnimationFrame(() => { observer.observe(destElt); }); } })(); </script><div id=\"compress_html_b6ddfac7b165452fa142e48a9d15525a\"><script>window.treescope_decompress_enqueue(\"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\", \"compress_html_b6ddfac7b165452fa142e48a9d15525a\");</script><span style=\"color: #aaaaaa; font-family: monospace\">(Loading...)</span></div></div>"
      ],
      "text/plain": [
       "<IPython.core.display.HTML object>"
      ]
     },
     "metadata": {},
     "output_type": "display_data"
    },
    {
     "data": {
      "text/html": [
       "<div id=\"compress_html_c5bb0db78479493eb18d145b41f29035\"><script>window.treescope_decompress_enqueue(\"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\", \"compress_html_c5bb0db78479493eb18d145b41f29035\");</script></div>"
      ],
      "text/plain": [
       "<IPython.core.display.HTML object>"
      ]
     },
     "metadata": {},
     "output_type": "display_data"
    },
    {
     "data": {
      "text/html": [
       "<div id=\"output_dest_c7ace7e7295e41a4b7745f5508592c33\"><script> (()=>{ const output = document.getElementById(\"output_c7ace7e7295e41a4b7745f5508592c33\"); const dest = document.getElementById(\"output_dest_c7ace7e7295e41a4b7745f5508592c33\"); dest.parentNode.replaceChild(output, dest); })(); </script></div>"
      ],
      "text/plain": [
       "{'a': 1,\n",
       " 'b': <jax.Array([100, 101, 102, 103, 104, 105, 106, 107, 108, 109], dtype=int32)>,\n",
       " 'c': [{'value': <jax.Array([ 0,  1,  2,  3,  4,  5,  6,  7,  8,  9, 10, 11], dtype=int32)>},\n",
       "  {'value': <jax.Array([100., 100., 100., 100., 100., 100., 100.], dtype=float32)>},\n",
       "  {'value': 3}]}"
      ]
     },
     "execution_count": 50,
     "metadata": {},
     "output_type": "execute_result"
    }
   ],
   "source": [
    "pz.combine(\n",
    "    jax.tree_util.tree_map(lambda x: x + 100, selected),\n",
    "    rest,\n",
    ")"
   ]
  },
  {
   "cell_type": "markdown",
   "metadata": {
    "id": "69K7pItirIuA"
   },
   "source": [
    "Partitioning and combining are inspired by `equinox.partition` and `equinox.combine`. If you're already familiar with those, the main differences are:\n",
    "- You generally don't need to use `partition` and `combine` when running JAX transformations like `jax.jit`. By convention, Penzai models store all of their static metadata in `dataclasses.field(metadata={\"pytree_node\": False})` fields which are not part of the PyTree traversal, which means partitioning isn't as strictly necessary as it is in equinox workflows. Instead, partitioning is primarily useful if you want to apply different logic to two sets of leaves, e.g. taking a gradient only with respect to a specific subset of parameters, or defining different shardings for different array subsets.\n",
    "- Penzai uses a specific sentinel `NotInThisPartition()` to identify removed nodes, rather than `None`.\n",
    "- Penzai partitions are built to support manipulation at the subtree level, rather than at the leaf level. It's OK to build and combine partitions even when neither partition is a strict PyTree prefix of the other, as long as the overlapping parts don't conflict.\n",
    "- Penzai partitions are always created with selectors, rather than being built by a standalone function.\n"
   ]
  },
  {
   "cell_type": "markdown",
   "metadata": {
    "id": "bfYZoC-ANf1Z"
   },
   "source": [
    "## Modifying selected values\n",
    "\n",
    "An important feature of selections is that they allow you to perform detailed modifications to (copies of) large trees. Selections expose a number of methods for this purpose."
   ]
  },
  {
   "cell_type": "markdown",
   "metadata": {
    "id": "Y7lQebLlwpRJ"
   },
   "source": [
    "### Replacing selected values\n",
    "The simplest modification you can make is to replace each selected subtree with another subtree or value:"
   ]
  },
  {
   "cell_type": "code",
   "execution_count": 51,
   "metadata": {
    "execution": {
     "iopub.execute_input": "2024-06-27T23:19:27.517612Z",
     "iopub.status.busy": "2024-06-27T23:19:27.517332Z",
     "iopub.status.idle": "2024-06-27T23:19:27.521273Z",
     "shell.execute_reply": "2024-06-27T23:19:27.521393Z"
    },
    "id": "Ew7gWKgMNg0h"
   },
   "outputs": [
    {
     "data": {
      "text/html": [
       "<div id=\"output_96e29006dd664c17942fa3912ff48ca4\"><script> /* penzai.treescope rendering of a Python object (compressed) */ (()=>{ let observer; let lastStep = new Promise((resolve, reject) => { observer = new IntersectionObserver((entries) => { for (const entry of entries) { if (entry.isIntersecting) { resolve(); observer.disconnect(); return; } } }, {rootMargin: \"1000px\"}); }); window.treescope_decompress_enqueue = (encoded, destId) => { const previous = lastStep; const destElt = document.getElementById(destId); lastStep = (async () => { await previous; let blob = new Blob([ Uint8Array.from(atob(encoded), (m) => m.codePointAt(0)) ]); let reader = blob.stream().pipeThrough( new DecompressionStream(\"deflate\") ).pipeThrough( new TextDecoderStream(\"utf-8\") ).getReader(); let parts = []; while (true) { let step = await reader.read(); if (step.done) { break; } parts.push(step.value); } let newElt = document.createElement(\"div\"); newElt.innerHTML = parts.join(\"\"); destElt.parentNode.replaceChild(newElt, destElt); for (let oldScript of newElt.querySelectorAll(\"script\")) { let newScript = document.createElement(\"script\"); newScript.type = oldScript.type; newScript.textContent = oldScript.textContent; oldScript.parentNode.replaceChild(newScript, oldScript); } })(); requestAnimationFrame(() => { observer.observe(destElt); }); } })(); </script><div id=\"compress_html_bed8c152a567498da44e9a64e75b1653\"><script>window.treescope_decompress_enqueue(\"eNrtWglTGssW/iudSVWEKAgoGEGsNyCbcYliojE3RfXM9CwydI89PSDe8r+/0z0gqyYx5pq8d7UqMD1n67N853SbnVAMfbKbFpyQ0GQB6XDGBPobBSz0hMdoEXHiY+H1SQnZjIqUjXuePyyiHqMsDLAJ6wPXEySlHooo4LDie6FIKdEpMQxglTIKywY2uw5nEbVSJvMZL8asJTR6MnwgAHmeJdwisj0BZFQQKkqoh7nj0ZRPbFFEOdOVOihJucRzXFjJpvMldLezHm9nJzS5F4hd5NkoMfCoxQaTHaJyuYzABGKDACsJe12kQH/flRaW052AUMujjm5Kz4RA9uXrN8mamFq+FEkj319C7RDRmfN+GSXGTu8IlkTlXTBy/S06YKwLQeBIuAQpSsoskkZv15FPBBrxTrGq0IDyRPzuVRlZzIx64NC0wawhevMGvZJv0qaPw/AAgpaWDsceDRParFFaEklXjXVIpgBzkFTzSU9F6A40i4hT9RIel+yVR7TNGJUbHDDeHe0MVIYCLDuHJflqZll4plwMCIeN9zA1SZqyQSJ5v7WFNygVM+2gjZw0eVkOzIcy7RPqCBdSA2WWZcTjMY33LT1A/JBMTHcjKm3/pvLQ9Wwht6Q45Jc7+P1eGxJjSk6uIxIKnXo9LCnqHPdIIvZrMrk8IvOmBFHoxrEpfY/jxkaUY1f8iOu+3+ylhhMKXBHZIzbhnFhnpBdA2pNwMYECXy7eJz6w8WGb+MQUjOu+D4k+4p0GwYh2QshULVlSBZeQ9QWSELOVQLlR+JyqG056rE9mqmZKxkOVkBjbKuXbnN0SWRxKcgx8s+YmtBjYpEjJAU/TWzM5gW2MCnKaFr6lJQ4DcaxEPY3WyY2oxsqmXk8WS8qcuNaPJNxwAt4ySRXKz0qAhDVJIOP0YKwEcxw/hpGOQn8BhimUgxXiizVE+iB95AqZduo53SVDWZEa18bQA8RTPo/lJrR7mZ0eGKiN7bhD0A/iRrBjeX2kGMvzuIYENsBgclPWMhpiFJSC9XSKbrn9CeF64dhyDVpO3EhVJ+vQqGcQrnJQNbbXme132XwBbBoRhCCCOlMEeCObz8oelraZb2ED9Elwf6AT36FZsk5sIlBbXgjhGY477jwh2kU+NohfLBoEEptMWWCqn9JSfXHbTWVl3x1150xposujqhkbPpPt+0GdLlQIX9RsYd4NCXbA33SRu0iZSMwtuThM7CqZu0v9oHiKpkvMLnT4JHqbnNggWZczjelnLFQ1UEQrf+XyhrnykubNMj1oZOEfMFLGUSqOeCgDGDAPLOBL9Hrh86lVpaAUpVTRhQ/l+PNonWxPguGilrQXdmyPh6LDaEem/5LSeqyU0rm8rKaloUI/bX4c8XkT5a5mBmlV0HdpiX/gWKtjSlB/pmyZwqIRMMyoNrFvJmCQh3EtG9wozJ6zAzrOLzPFYNyCRIpNsZgApdIM9Jpk5K90SuhCz7M6A8wpQHVnnINjuLRtbGY3lhAG0Nsg9NiSQ0+Kj84n0tGj/Y+WUpm0yoDJoaiozjSYpxyOLU/28OxG3iLOGmIcU4egDMqkC6YLHReew7gnx0soduCiKQs58GwunYnmeDN36YFLaAec5OMgBKd+syP9sPJHNMR9SOlQROQmgHHzQZrnsGOZitFG/zM6L5sSCmbOziuHMKdxD/uoPewZDAbU40hIsyw0HsWqLBiujI7carSQYuGY44/WBqOD72YGkjXkZhFF3E9YWOCifL8+YLadKxk4JIXNNSuz3Th09Iquflonus7Ut8rpAP5t1nW9pj/2U+nputNl761WrVIdfNb1s8/Vff2wVanqdeem1TxwRVg59IizUd+7yB20Cp/77SDyPhzmz7L7F63TT4f988Nb8WFYr1dXz53umVfZy7je3km0X7MaV5mmsW73W1Zw/b7gXp973kl0SBtu0/4o9I+FyhHf1Ost2q0VzI9RRFdP89dm2B307bq/fn3j1Ng7x9gfNN5lm/o61U/zB5zvZ09XndvMqZXR9+2sc7RVHTSuck6GDaPTra1eLVsYNC+2jx0nIGfd4SZpGbd50+DHDYF156R1NNjD4TA8iVqti/NafaB/OAlan62P6+urztbZ1sWGyNjvP1zr/TzIPNCPtvTDgd5zbk/bq9Flm9QubnJ2wbw92jxtDvNRRX9/W7kK6sGG1zyp1jKX0YfN9ha1Kwe1Zv2wp3ur7/q1nEuz7taq8WlwcTVo8v5e42OVXtm1miNWj81L39/Kb1f3B5V37vbm4WGjvdG41J1eK39VOdkWZw3S3K5VKq3Gxp6zebr+2RwaegNi+un9un7SwDo5rPp687Z27FwKp1D54Bwft/YqXe8kT+qVi2qlbnqZwOUsoJAbwWVtL3ub7bbtqi3c4XvatHA9bNqZo16jdlSoWPr1p08BFmH7smdZ2NvO2bfbmx+9q+tC0OOFY/a52vZ4o9ffb2y0z9sb9VrOrJzYZ6tNnwWNzXo4yGPnuvDOuyTtIz84p5Vmi1iHnETn141qL3te5912+yafK5yfhwMdLEoidcQXiRWV1ivJ5yhfGO2HRiQEo0tBavJ62ailIW2OCto/IPJy4r9IdtPSSk8FASh2o+sBpwKDHhxDXED3IsJUALsHNW7dX6HdN7CF4Szm9m4BSTLpbdKb32U81S3ZxfIhfcKZHuCwY/qedOw9P7bFzAFofLp4TOccz6zKadejPuaJVEqiXQpTCKy6OEhOL0sl8kZFNsrRDKbEomyICHgsBa2LReLHtnJvAQTGI9arWUuUSvTK6wWMC0wXZBucdVXnCoaTEfrb3p1im/Ln/Zwyf+e5cPp21Y2L4o+3BidvQDdqokSsYfYaDnZyxmTiAdnIArkWEqGMki6VduAB9gSiuO85WDAOp3IvMBjmVnrAPUHOYGZOTGRBJEayJqd3GJAS2pS/1UUFEWdej0Bg7m9GFvjGNy1zrHdrKJfJZBQ0mFjASJRQ8+5yvVNO1SbGzd6FJCC8r1Edez4kg2BIEr9SNQmzD42w7w9hmggFwZbMidVp343uICYXEDKVxjcQs6fj+QFN292JYWzHo0EkkLyqKWsKuAx2oy0VMsI4eBnj2+7OumKe1euCJA4quh0BsxsRmrI41SVDQHO3rGm7f4PBwADsIxOm2Remc+2x99o3dM++nr4V0XbfvL7JbZVw/HFvkvoooh/a0pcVvPJ1qa74ikbbzc7KX5shnR01tV00Jl4gGs+Bs7pWJnW8ghitynQtrzxSm+pWKbmC7gGlrCV83DMsrO6/iupftamkhlThl7Up+CmiN9cRE6WHeOK30FHmsRPakcpb6TX4PtrF7qxv5j5+ZeyNZ4m98UDsZ3W5xPcZGjDuW6+Wqf0zUsJ4QkoYf1JKmN+REjOg+HJA+mXFlJn35RE0/VVpYD4hDcyfT4Nn6xO/rjf+RCi/ZL4+3ht/YTRB91MCKtl+l5g+odj72I/Is/SA2BdfVpTEZ+kHjyH92m/SDeZ2/cQMmvA/a5eIP+7+qPb6opX4xCb7e2Jp9gWxNPu0CGb/xdKp8P0/Ymn2J7E0+y+W/iaV+D+FpbkXxNLc0yKY+xdLp8L3OJaO76g2/kzQzP0kaOb+GdD8c9z5QgW37OPrn+W8l7gTeWrO3XNYXv/hP+s89B9gE8n7Pzr8F/N/ysE=\", \"compress_html_bed8c152a567498da44e9a64e75b1653\");</script><span style=\"color: #aaaaaa; font-family: monospace\">(Loading...)</span></div></div>"
      ],
      "text/plain": [
       "<IPython.core.display.HTML object>"
      ]
     },
     "metadata": {},
     "output_type": "display_data"
    },
    {
     "data": {
      "text/html": [
       "<div id=\"output_dest_96e29006dd664c17942fa3912ff48ca4\"><script> (()=>{ const output = document.getElementById(\"output_96e29006dd664c17942fa3912ff48ca4\"); const dest = document.getElementById(\"output_dest_96e29006dd664c17942fa3912ff48ca4\"); dest.parentNode.replaceChild(output, dest); })(); </script></div>"
      ],
      "text/plain": [
       "{'a': 1,\n",
       " 'b': 'hello world!',\n",
       " 'c': [{'value': 'hello world!'}, {'value': 'hello world!'}, {'value': 3}]}"
      ]
     },
     "execution_count": 51,
     "metadata": {},
     "output_type": "execute_result"
    }
   ],
   "source": [
    "pz.select(my_nested_object).at_instances_of(jax.Array).set(\"hello world!\")"
   ]
  },
  {
   "cell_type": "markdown",
   "metadata": {
    "id": "HduHi3ifw8qn"
   },
   "source": [
    "You can optionally provide different values for each selected node:"
   ]
  },
  {
   "cell_type": "code",
   "execution_count": 52,
   "metadata": {
    "execution": {
     "iopub.execute_input": "2024-06-27T23:19:27.527205Z",
     "iopub.status.busy": "2024-06-27T23:19:27.526967Z",
     "iopub.status.idle": "2024-06-27T23:19:27.531959Z",
     "shell.execute_reply": "2024-06-27T23:19:27.531785Z"
    },
    "id": "rDlkeqI3w1-C"
   },
   "outputs": [
    {
     "data": {
      "text/html": [
       "<div id=\"output_aa7ba2621e91469da0c34d39ff85bb75\"><script> /* penzai.treescope rendering of a Python object (compressed) */ (()=>{ let observer; let lastStep = new Promise((resolve, reject) => { observer = new IntersectionObserver((entries) => { for (const entry of entries) { if (entry.isIntersecting) { resolve(); observer.disconnect(); return; } } }, {rootMargin: \"1000px\"}); }); window.treescope_decompress_enqueue = (encoded, destId) => { const previous = lastStep; const destElt = document.getElementById(destId); lastStep = (async () => { await previous; let blob = new Blob([ Uint8Array.from(atob(encoded), (m) => m.codePointAt(0)) ]); let reader = blob.stream().pipeThrough( new DecompressionStream(\"deflate\") ).pipeThrough( new TextDecoderStream(\"utf-8\") ).getReader(); let parts = []; while (true) { let step = await reader.read(); if (step.done) { break; } parts.push(step.value); } let newElt = document.createElement(\"div\"); newElt.innerHTML = parts.join(\"\"); destElt.parentNode.replaceChild(newElt, destElt); for (let oldScript of newElt.querySelectorAll(\"script\")) { let newScript = document.createElement(\"script\"); newScript.type = oldScript.type; newScript.textContent = oldScript.textContent; oldScript.parentNode.replaceChild(newScript, oldScript); } })(); requestAnimationFrame(() => { observer.observe(destElt); }); } })(); </script><div id=\"compress_html_610b124a794e489cb7746d7a1020f871\"><script>window.treescope_decompress_enqueue(\"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\", \"compress_html_610b124a794e489cb7746d7a1020f871\");</script><span style=\"color: #aaaaaa; font-family: monospace\">(Loading...)</span></div></div>"
      ],
      "text/plain": [
       "<IPython.core.display.HTML object>"
      ]
     },
     "metadata": {},
     "output_type": "display_data"
    },
    {
     "data": {
      "text/html": [
       "<div id=\"output_dest_aa7ba2621e91469da0c34d39ff85bb75\"><script> (()=>{ const output = document.getElementById(\"output_aa7ba2621e91469da0c34d39ff85bb75\"); const dest = document.getElementById(\"output_dest_aa7ba2621e91469da0c34d39ff85bb75\"); dest.parentNode.replaceChild(output, dest); })(); </script></div>"
      ],
      "text/plain": [
       "{'a': 1,\n",
       " 'b': 'replacement 0',\n",
       " 'c': [{'value': 'replacement 1'}, {'value': 'replacement 2'}, {'value': 3}]}"
      ]
     },
     "execution_count": 52,
     "metadata": {},
     "output_type": "execute_result"
    }
   ],
   "source": [
    "pz.select(my_nested_object).at_instances_of(jax.Array).set_sequence([f\"replacement {i}\" for i in range(3)])"
   ]
  },
  {
   "cell_type": "markdown",
   "metadata": {
    "id": "81cktrxfxGcm"
   },
   "source": [
    "Or provide a mapping based on the selected keypaths:"
   ]
  },
  {
   "cell_type": "code",
   "execution_count": 53,
   "metadata": {
    "execution": {
     "iopub.execute_input": "2024-06-27T23:19:27.539000Z",
     "iopub.status.busy": "2024-06-27T23:19:27.538758Z",
     "iopub.status.idle": "2024-06-27T23:19:27.542127Z",
     "shell.execute_reply": "2024-06-27T23:19:27.542246Z"
    },
    "id": "3u5yEQ1RxCsF"
   },
   "outputs": [
    {
     "data": {
      "text/html": [
       "<div id=\"output_d678336770d34c518ce045bced84dd54\"><script> /* penzai.treescope rendering of a Python object (compressed) */ (()=>{ let observer; let lastStep = new Promise((resolve, reject) => { observer = new IntersectionObserver((entries) => { for (const entry of entries) { if (entry.isIntersecting) { resolve(); observer.disconnect(); return; } } }, {rootMargin: \"1000px\"}); }); window.treescope_decompress_enqueue = (encoded, destId) => { const previous = lastStep; const destElt = document.getElementById(destId); lastStep = (async () => { await previous; let blob = new Blob([ Uint8Array.from(atob(encoded), (m) => m.codePointAt(0)) ]); let reader = blob.stream().pipeThrough( new DecompressionStream(\"deflate\") ).pipeThrough( new TextDecoderStream(\"utf-8\") ).getReader(); let parts = []; while (true) { let step = await reader.read(); if (step.done) { break; } parts.push(step.value); } let newElt = document.createElement(\"div\"); newElt.innerHTML = parts.join(\"\"); destElt.parentNode.replaceChild(newElt, destElt); for (let oldScript of newElt.querySelectorAll(\"script\")) { let newScript = document.createElement(\"script\"); newScript.type = oldScript.type; newScript.textContent = oldScript.textContent; oldScript.parentNode.replaceChild(newScript, oldScript); } })(); requestAnimationFrame(() => { observer.observe(destElt); }); } })(); </script><div id=\"compress_html_14298cfd55d84af1b35734d2942e1ec5\"><script>window.treescope_decompress_enqueue(\"eNrtWotTGjsX/1fS7UyBqyCgYAV1vgV5WdEqtlr7dZjsbvYhS7JmsyDe8X//TrIgT21r7W37zdWZwmbPK+fxOyexu6EY+WQ/IzghockC0uWMCfQ3CljoCY/REuLEx8IbkDKyGRVpG/c9f1RCfUZZGGAT1oeuJ0haPZRQwGHF90KRVqLTYhTAKmUUlg1s9hzOImqlTeYzXopZy2j8ZPhAAPI8S7glZHsCyKggVJRRH3PHo2mf2KKE8qYrdVCSdonnuLCSyxTK6H53I97ObmhyLxD7yLNRcuhRiw2nO0R7e3sITCA2CLBSsNdlCvT3fXlpOdMNCLU86uim9EwIZJ+/fJWsianlS5E08v0V1A4R3QXv76HkxOldwVJobx+M3PgLHTHWgyBwJFyCFCVlFsmgvzaQTwQa886wqtCA8mT87tUespgZ9cGhGYNZI/TmDXol32RMH4fhEQQtIx2OPRomtXmjtBSSrprokEwB5iCp5pO+itA9aBYRp+olPK7YK49ohzEqNzhkvDfeGagMBVh2AUvy1dyy8Ey5GBAOG+9japIMZcNk6mFrS29QOmbaRZt5afKqHFgMZcYn1BEupAbKrsqIp2Ma71t6gPghmZruRlTa/lXloevZQm5Jccgv9/D7rTYkJ5Sc3EQkFDr1+lhS1Dnuk2Ts11RqdUQWTQmi0I1jU/4Wx02M2Itd8T2u+3azVxpOKHBF5IDYhHNinZN+AGlPwuUECny5+JD4wMZHHeITUzCu+z4k+ph3FgQj2g0hU7VUWRVcUtYXSELMVgLlRuFzpm446bMBmauaGRmPVUJyYquUb3N2R2RxKMkx8M2bm9RiYJMiJQc8zW7N5AS2MS7IWVr4lpE4DMSxEvU0Xie3ohorm3k9XSwrc+JaP5Zwwwl4yyRVKD8rCRLWJYGM06OxEsxx/BhGugr9BRimUA5WiC/WERmA9LErZNqp50yPjGRFalybQA8Qz/g8lpvUHmR2+2CgNrHjHkE/iBvBruUNkGLcW8Q1JLABBpPbPS2rIUZBKVhPZ+hW258UrhdOLNeg5cSNVHWyLo36BuEqB1Vje53deZsrFMGmMUEIIqgzQ4A3c4Wc7GEZm/kWNkCfBPdHOvE9mifrxiYCteWFEJ7RpOMuEqJ95GOD+KWSQSCxyYwFpvopr9QXt910TvbdcXfOlqe6PKqaseEz2b4f1elChfBlzRbmvZBgB/xNl7lLlInkwpKLw+S+krm/0g+Kp2S6xOxBh0+hv1JTGyTraqYJ/ZyFqgZKKPHffMEwE7/SvHmmR40s/gNGyjhKxREPZQAD5oEFfIVeL3w5taoUlKK0KrrwsRx/Ga3T7UkwXNaS8cKu7fFQdBntyvRfUVpPlVImX5DVtDJU6IfNjyO+aKLc1dwgrQr6PiPxDxxrdU0J6i+ULTNYNAaGOdUm9s0kDPIwruWCW4XZC3ZAx/lpphiMW5BIsSkWE6BUmoFek6z8lU4JXeh5VneIOQWo7k5ycAKXto3N3OYKwgB6G4QeW3LoSfPx+UQ6erz/8VI6m1EZMD0UldSZBvO0w7HlyR6e2yxYxFlHjGPqEJRF2UzRdKHjwnMY9+R4CcUOXDZlKQdezKVz0Zxs5j4zdAntgpN8HITg1K92pO9W/oSGuA8pHYqI3AYwbj5K8xJ2rFIx3uh/xudlU0LB3Nk50YY5jXvYR51R32AwoJ5EQpplockoVmXBKDE+cqvRQoqFY44/XhuOD75bWUjWkJslFHE/aWGBS/L9xpDZdr5s4JAUt9at7E6j7egVXf20TnWdqW+VsyH826zrek1/6qfS13Wnx95ZrVqlOvyk6+efqod6u1Wp6nXnttU8ckVYaXvE2awfXOaPWsVPg04Qee/bhfPc4WXr7GN7cNG+E+9H9Xp17cLpnXuVg6zrHZxGhzWrcZ1tGhv2oGUFN++K7s2F551Gbdpwm/YHoX8oVo75ll5v0V6taH6IIrp2Vrgxw95wYNf9jZtbp8beOsbhsPE219Q3qH5WOOL8MHe25txlz6ysfmjnnOPt6rBxnXeybBSdbW/3a7nisHm5c+I4ATnvjbZIy7grmAY/aQisO6et4+EBDkfhadRqXV7U6kP9/WnQ+mR92NhYc7bPty83RdZ+9/5GHxRA5pF+vK23h3rfuTvrrEVXHVK7vM3bRfPueOusOSpEFf3dXeU6qAebXvO0WsteRe+3OtvUrhzVmvV2X/fW3g5qeZfm3O014+Pw8nrY5IODxocqvbZrNUesnZhXvr9d2KkeDitv3Z2tdrvR2Wxc6U6/VbiunO6I8wZp7tQqlVZj88DZOtv4ZI4MvQEx/fhuQz9tYJ20q77evKudOFfCKVbeOycnrYNKzzstkHrlslqpm142cDkLKORGcFU7yN3leh27agt39I42LVwPm3b2uN+oHRcrln7z8WOARdi56lsW9nby9t3O1gfv+qYY9HnxhH2qdjze6A8OG5udi85mvZY3K6f2+VrTZ0Fjqx4OC9i5Kb71rkjn2A8uaKXZIlabk+jiplHt5y7qvNfp3BbyxYuLcKiDRSmkjvgimVBpnUi9RPnCaD8yIiEYXQlS09erRi0NaQtU0P4BkVcT/5fktiyt/FwQgGI3eh5wKjDowzHEBXQvIUwFsHtQ49bDFdpDA1sazmJu7w6QJJvZIf3FXcZT3YpdrB7Sp5yZIQ67pu9Jxz7wY1vMHYAmp4undC7wzKucdT0aYJ5MpyXapTGFwKqLg9TsslQib1RkoxzPYEosyoWIgMfS0LpYJL5vKw8WQGA8Yr2at0SpRK+8fsC4wHRJtsFZT3WuYDQdob/u3Rm2GX8+zCmLd55Lp29X3bgo/nhrcPIGdKMmSsYa5q/hYCfnTCYekI0tkGshEcoo6VJpBx5iTyCKB56DBeNwKvcCg2FuZYbcE+QcZubkVBZEYixrenqHASmpzfhbXVQQce71CQTm4WZkiW9y07LAer+O8tlsVkGDiQWMREk1767WO+NUbWrc/F1IEsL7GtWx50MyCIYk8StVkzD70Aj7/gimiVAQbMmcWJv13fgOYnoBIVNpcgMxfzpeHNC0/d0YxnY9GkQCyauaPU0Bl8FutZVCxhgHL2N829/dUMzzel2QxEFFrytgdiNCUxane2QEaO7uadr+32AwMAD72IRZ9qXpXHvqvfYV3fOvZ29FtP03r2/z22UcfzyYpD5K6Lu29DmBE19W6oqvaLT93Lz89TnS+VFT20cT4iWiyRw4rysxreMEYrQq03Uv8URtqlulVAI9AMqelvRx37Cwuv8qqX/VplIaUoW/p83ATwm9uYmYKD/GE7+FjrKIndCOVN5Kr8H38S72532z8PEzY2+8SOyNR2I/r0tfpevPyAPjGXlg/El5YH5DHswh4Y+g5/NQ83PClGn2+Qno/FnhN58RfvPHw/9iTeHnNcIfCOXn7JenG+FPjCbofk5AJdvvEtNnFPkA+xF5EcCPffE5oSR+E/hXVul9CtbXfxPoX9jqM9Nmyv+iLSH+uP+jeukvLb9ndtTfE0BzvxBAc8+LYO5fAJ0J3/cAaPVPBtDcDwJo7l8A/U3K7/8KQPO/EEDzz4tg/l8AnQnf0wA6uXra/DNBM/+DoJn/Z0Dzz3HnLyq4VR9f/izn/Yrbj+fm3AOH5Q0e/2vNY/+vNZl6+FvC/wCNRrsp\", \"compress_html_14298cfd55d84af1b35734d2942e1ec5\");</script><span style=\"color: #aaaaaa; font-family: monospace\">(Loading...)</span></div></div>"
      ],
      "text/plain": [
       "<IPython.core.display.HTML object>"
      ]
     },
     "metadata": {},
     "output_type": "display_data"
    },
    {
     "data": {
      "text/html": [
       "<div id=\"output_dest_d678336770d34c518ce045bced84dd54\"><script> (()=>{ const output = document.getElementById(\"output_d678336770d34c518ce045bced84dd54\"); const dest = document.getElementById(\"output_dest_d678336770d34c518ce045bced84dd54\"); dest.parentNode.replaceChild(output, dest); })(); </script></div>"
      ],
      "text/plain": [
       "{'a': 1, 'b': 'A', 'c': [{'value': 'B'}, {'value': 'C'}, {'value': 3}]}"
      ]
     },
     "execution_count": 53,
     "metadata": {},
     "output_type": "execute_result"
    }
   ],
   "source": [
    "pz.select(my_nested_object).at_instances_of(jax.Array).set_by_path({\n",
    "    (jax.tree_util.DictKey(key='b'),): \"A\",\n",
    "    (jax.tree_util.DictKey(key='c'), jax.tree_util.SequenceKey(idx=0), jax.tree_util.DictKey(key='value')): \"B\",\n",
    "    (jax.tree_util.DictKey(key='c'), jax.tree_util.SequenceKey(idx=1), jax.tree_util.DictKey(key='value')): \"C\",\n",
    "})"
   ]
  },
  {
   "cell_type": "markdown",
   "metadata": {
    "id": "wIWQ8ChOeMQe"
   },
   "source": [
    "`set_by_path` accepts the same input as is produced by `get_by_path`, which can be convenient for modifying some values and then putting them back, or for taking gradients with respect to only a subset of values:"
   ]
  },
  {
   "cell_type": "code",
   "execution_count": 54,
   "metadata": {
    "execution": {
     "iopub.execute_input": "2024-06-27T23:19:27.548750Z",
     "iopub.status.busy": "2024-06-27T23:19:27.548504Z",
     "iopub.status.idle": "2024-06-27T23:19:27.552941Z",
     "shell.execute_reply": "2024-06-27T23:19:27.552762Z"
    },
    "id": "A4FdZZuHeWYO"
   },
   "outputs": [
    {
     "data": {
      "text/html": [
       "<div id=\"output_ecfaffb74bda4030a0ab068daa6680f9\"><script> /* penzai.treescope rendering of a Python object (compressed) */ (()=>{ let observer; let lastStep = new Promise((resolve, reject) => { observer = new IntersectionObserver((entries) => { for (const entry of entries) { if (entry.isIntersecting) { resolve(); observer.disconnect(); return; } } }, {rootMargin: \"1000px\"}); }); window.treescope_decompress_enqueue = (encoded, destId) => { const previous = lastStep; const destElt = document.getElementById(destId); lastStep = (async () => { await previous; let blob = new Blob([ Uint8Array.from(atob(encoded), (m) => m.codePointAt(0)) ]); let reader = blob.stream().pipeThrough( new DecompressionStream(\"deflate\") ).pipeThrough( new TextDecoderStream(\"utf-8\") ).getReader(); let parts = []; while (true) { let step = await reader.read(); if (step.done) { break; } parts.push(step.value); } let newElt = document.createElement(\"div\"); newElt.innerHTML = parts.join(\"\"); destElt.parentNode.replaceChild(newElt, destElt); for (let oldScript of newElt.querySelectorAll(\"script\")) { let newScript = document.createElement(\"script\"); newScript.type = oldScript.type; newScript.textContent = oldScript.textContent; oldScript.parentNode.replaceChild(newScript, oldScript); } })(); requestAnimationFrame(() => { observer.observe(destElt); }); } })(); </script><div id=\"compress_html_6b46e8195e124598a07d95fbe8b58f41\"><script>window.treescope_decompress_enqueue(\"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\", \"compress_html_6b46e8195e124598a07d95fbe8b58f41\");</script><span style=\"color: #aaaaaa; font-family: monospace\">(Loading...)</span></div></div>"
      ],
      "text/plain": [
       "<IPython.core.display.HTML object>"
      ]
     },
     "metadata": {},
     "output_type": "display_data"
    },
    {
     "data": {
      "text/html": [
       "<div id=\"output_dest_ecfaffb74bda4030a0ab068daa6680f9\"><script> (()=>{ const output = document.getElementById(\"output_ecfaffb74bda4030a0ab068daa6680f9\"); const dest = document.getElementById(\"output_dest_ecfaffb74bda4030a0ab068daa6680f9\"); dest.parentNode.replaceChild(output, dest); })(); </script></div>"
      ],
      "text/plain": [
       "{'a': 1,\n",
       " 'b': 'A JAX array: [0 1 2 3 4 5 6 7 8 9]',\n",
       " 'c': [{'value': 'A JAX array: [ 0  1  2  3  4  5  6  7  8  9 10 11]'},\n",
       "  {'value': 'A JAX array: [0. 0. 0. 0. 0. 0. 0.]'},\n",
       "  {'value': 3}]}"
      ]
     },
     "execution_count": 54,
     "metadata": {},
     "output_type": "execute_result"
    }
   ],
   "source": [
    "selection = pz.select(my_nested_object).at_instances_of(jax.Array)\n",
    "selection.set_by_path(\n",
    "    {key: f\"A JAX array: {value}\" for key, value in selection.get_by_path().items()}\n",
    ")"
   ]
  },
  {
   "cell_type": "code",
   "execution_count": 55,
   "metadata": {
    "execution": {
     "iopub.execute_input": "2024-06-27T23:19:27.557406Z",
     "iopub.status.busy": "2024-06-27T23:19:27.557103Z",
     "iopub.status.idle": "2024-06-27T23:19:28.028926Z",
     "shell.execute_reply": "2024-06-27T23:19:28.028717Z"
    },
    "id": "YEpc6lCxel42"
   },
   "outputs": [
    {
     "data": {
      "text/html": [
       "<div id=\"output_bd4b2eb79c44415f8daeafb40c320a17\"><script> /* penzai.treescope rendering of a Python object (compressed) */ (()=>{ let observer; let lastStep = new Promise((resolve, reject) => { observer = new IntersectionObserver((entries) => { for (const entry of entries) { if (entry.isIntersecting) { resolve(); observer.disconnect(); return; } } }, {rootMargin: \"1000px\"}); }); window.treescope_decompress_enqueue = (encoded, destId) => { const previous = lastStep; const destElt = document.getElementById(destId); lastStep = (async () => { await previous; let blob = new Blob([ Uint8Array.from(atob(encoded), (m) => m.codePointAt(0)) ]); let reader = blob.stream().pipeThrough( new DecompressionStream(\"deflate\") ).pipeThrough( new TextDecoderStream(\"utf-8\") ).getReader(); let parts = []; while (true) { let step = await reader.read(); if (step.done) { break; } parts.push(step.value); } let newElt = document.createElement(\"div\"); newElt.innerHTML = parts.join(\"\"); destElt.parentNode.replaceChild(newElt, destElt); for (let oldScript of newElt.querySelectorAll(\"script\")) { let newScript = document.createElement(\"script\"); newScript.type = oldScript.type; newScript.textContent = oldScript.textContent; oldScript.parentNode.replaceChild(newScript, oldScript); } })(); requestAnimationFrame(() => { observer.observe(destElt); }); } })(); </script><div id=\"compress_html_130ec06c4d874199936e7f8858ffd77f\"><script>window.treescope_decompress_enqueue(\"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\", \"compress_html_130ec06c4d874199936e7f8858ffd77f\");</script><span style=\"color: #aaaaaa; font-family: monospace\">(Loading...)</span></div></div>"
      ],
      "text/plain": [
       "<IPython.core.display.HTML object>"
      ]
     },
     "metadata": {},
     "output_type": "display_data"
    },
    {
     "data": {
      "text/html": [
       "<div id=\"compress_html_3654c8c45bce4b8883c9df8cada5ff46\"><script>window.treescope_decompress_enqueue(\"eNrtWltv2zYU/iuEijVSGyuS4rtjA1uyAX3pwzBgD0UgUCRlaaFFlaJzWdH/vkNKlq3YcZw0vQxVgEgWz4XnxsOPgs5oeo0KdcfZ1KJpkXN8N0aZyJiFUjq1YiFDymImJaMhHUQ0wDHzAz/unuIg8vr+sBf3+xgPuiPGrNlZkeMMrlrfzI2EUmLB04yNM6FsNxac4oizMBOUjRNc2DOOI8ZnTUqoxHzOS5kxSRi5YtRx0BsHfUI5pjTN5h0l8jHyXL/HFhOkZ+gkLJ0naox814x9dongYDyOIsmuQdI8jtGr/jDAnrdmIGKxYJkKbxKWhewW7KeMvpi9q1mx+atnhWBqo9cMEcfkaoIiuM6lWGa0UxGusbQ7nYgLclUOOcAlJGWyjIGf36JC8JTu4ywT8RjzZ+QmdzmTYNlVKNlCKBYm4ppJdN/obTPFFSeJPez+opPS7SHfG5Uab3ARFkQKzkFcCTdOZaFClZKrg7WOuq6v9Xoj5J/23cFOxSb6e6dztiZUEmdFqlKRjbcmR36BGC5YJ806YqmOUSwy1bkxRXaPprOakCSE2ics5CxWG4WqH3Wl9kjS5JNG05pRluVbcxYK60IKSZJyKllWG1/mFM1Qk+XFSrbuAqY6JmiB5RwcLR0hmBM7IAnqgKVdkpS5eMTWr2ZaVd6laWVhG6t2lnejdRg/INY8QW+Q7YM7myKV3gK4mOM4dQzWop3DZVfzrhahkaxVrkY71fA3jOa6jZgIdiSm6bKoHPTZArx72DFj6ZcZ8WiJf2p0ujK/uoUd0On2M392QeNX2ZfWSd6zNZ2dlBuk2S0R4bgoppbZf0wDUjLNq610tTM3HIDthEbDbg9PdqUG5p5YTdUNL1BahGVXFJlphMBcenuWZvlSIQV7wNQy/kXi1tqppAoFiJ4YoeZ8611EQZEzZSGKFe5csbscq2Rq3TOv0ZWrxKBmQ7UOiVVF/LjEPMMLFuaSxemtNctZ9i9OXSUZK4jIGZRZDpYUsL3FmHPd+V1IiUEu5e29UH+utOfaabtJPzupIrY57/1qRs1qtvZwb7EK2A3SDHPYhnM5fVJw3YbsrlCHBfiVza3Z61e3wWDyq5T4zv4AJXuMUKAvXX3p68sQLr4m+Jrga4KvCf7QvTxG1JRKzAVWp4FTamsG6ng7bWACx3nBqDVDK+YtphUOa5p/pBMXLWGFZUdIZOcctvXp0TqvCchAgWqukGiirZK0cI7KCOnhqWVzvIgoRlIIWJH62gyYY63XXC02RkePyh1NUCWBM+gQuIQVR+cgjnRm4HeNj0/23J5RJADUn1kiKd1ZINlyEekZfM8LukFv4Pf6wWjQ/z/nNqXPySxIfce8muX1zMxq2X3bwMt3/T3HKWtvGbzaWStbbfwffLtq06Zl7evF+2ZPYSxTG416L92avVwCNk+k0H25mhgCKjun9s84Vj6+nqvJnhL6jktJe/acxWTkXmo5HbrU7sXpuI3lQWFrYLL1exx07/xqzZynZQLMfBC4bS+Pekm8BDzZXk+rG02vZ2dPeA/mB1EQDbyYsGG/S2J/yLA3wt3TeMhgDJP1e7AW37f4/gfB975eFwf/t+j+50H3XjcYjE5bdN+i+xbdt+i+Rfctuv/m6P5LwcnLYXs8jCIyYFFw6vndPumOWPeUDGHU6wXRcNBvsX2L7X84bK+PwLv/Wxz/M72l73mjUdDi+BbHtzi+xfEtjm9x/LfG8U8BIo9g9oLA3Gpm2w6aztAnIrIC+p9Zzu9ogabog3X4h6nHyDr87f0m86PHgctJaZlOPBh1A31J3GzgVTA3rJ9CzWUjKshSt19N/J0z/fO3u3fUrr374F3qL6xKzbHEc80C2mtBIhlW7KJ6/KPisGsZPc85hxMOCK3kXZwDmqbnul/apk6J5ngPW4at5NJ80wVHIWRzplAKgt4EbmfrmLucZXOVwOjbt/qbJ81XEjdnedCn9BIm0DKFWErCLuBMNn0wFOZQZqG36J58+egCluNQ3n+nKrFrdeXHnpUW4yYIrKn6i9ZrZpsv14z7m0rqgGmyo5mgGssKXFXiVmpZ9nHJluyiqpW/2AL0KVbYTi37H26a78M=\", \"compress_html_3654c8c45bce4b8883c9df8cada5ff46\");</script></div>"
      ],
      "text/plain": [
       "<IPython.core.display.HTML object>"
      ]
     },
     "metadata": {},
     "output_type": "display_data"
    },
    {
     "data": {
      "text/html": [
       "<div id=\"output_dest_bd4b2eb79c44415f8daeafb40c320a17\"><script> (()=>{ const output = document.getElementById(\"output_bd4b2eb79c44415f8daeafb40c320a17\"); const dest = document.getElementById(\"output_dest_bd4b2eb79c44415f8daeafb40c320a17\"); dest.parentNode.replaceChild(output, dest); })(); </script></div>"
      ],
      "text/plain": [
       "OrderedDict([((DictKey(key='b'),),\n",
       "              <jax.Array([ 0.,  2.,  4.,  6.,  8., 10., 12., 14., 16., 18.], dtype=float32)>),\n",
       "             ((DictKey(key='c'), SequenceKey(idx=0), DictKey(key='value')),\n",
       "              <jax.Array([1., 1., 1., 1., 1., 1., 1., 1., 1., 1., 1., 1.], dtype=float32)>),\n",
       "             ((DictKey(key='c'), SequenceKey(idx=1), DictKey(key='value')),\n",
       "              <jax.Array([0., 0., 0., 0., 0., 0., 0.], dtype=float32)>)])"
      ]
     },
     "execution_count": 55,
     "metadata": {},
     "output_type": "execute_result"
    }
   ],
   "source": [
    "def my_loss(obj):\n",
    "  return obj[\"a\"] + jnp.sum(obj[\"b\"]**2) + jnp.sum(obj[\"c\"][0][\"value\"])\n",
    "\n",
    "my_float_object = jax.tree_util.tree_map(lambda leaf: jnp.array(leaf, dtype=jnp.float32), my_nested_object)\n",
    "\n",
    "# Take gradients w.r.t. non-scalars only, ignoring my_float_object[\"a\"] and my_float_object[\"c\"][2][\"value\"]\n",
    "gradient_selection = pz.select(my_float_object).at_instances_of(jax.Array).where(lambda arr: arr.size > 1)\n",
    "\n",
    "jax.grad(\n",
    "    # Swap in the version of the values that JAX is taking gradients for:\n",
    "    lambda vectors_by_path: my_loss(gradient_selection.set_by_path(vectors_by_path))\n",
    ")(gradient_selection.get_by_path())"
   ]
  },
  {
   "cell_type": "markdown",
   "metadata": {
    "id": "bkZAwu42ftwC"
   },
   "source": [
    "You can also use `select_and_set_by_path` to infer the selection from the input paths instead:"
   ]
  },
  {
   "cell_type": "code",
   "execution_count": 56,
   "metadata": {
    "execution": {
     "iopub.execute_input": "2024-06-27T23:19:28.033977Z",
     "iopub.status.busy": "2024-06-27T23:19:28.033558Z",
     "iopub.status.idle": "2024-06-27T23:19:28.056221Z",
     "shell.execute_reply": "2024-06-27T23:19:28.056048Z"
    },
    "id": "73vXA1ZvfxFK"
   },
   "outputs": [
    {
     "data": {
      "text/html": [
       "<div id=\"output_abc1d9f69afe41eea82a80ab23647db4\"><script> /* penzai.treescope rendering of a Python object (compressed) */ (()=>{ let observer; let lastStep = new Promise((resolve, reject) => { observer = new IntersectionObserver((entries) => { for (const entry of entries) { if (entry.isIntersecting) { resolve(); observer.disconnect(); return; } } }, {rootMargin: \"1000px\"}); }); window.treescope_decompress_enqueue = (encoded, destId) => { const previous = lastStep; const destElt = document.getElementById(destId); lastStep = (async () => { await previous; let blob = new Blob([ Uint8Array.from(atob(encoded), (m) => m.codePointAt(0)) ]); let reader = blob.stream().pipeThrough( new DecompressionStream(\"deflate\") ).pipeThrough( new TextDecoderStream(\"utf-8\") ).getReader(); let parts = []; while (true) { let step = await reader.read(); if (step.done) { break; } parts.push(step.value); } let newElt = document.createElement(\"div\"); newElt.innerHTML = parts.join(\"\"); destElt.parentNode.replaceChild(newElt, destElt); for (let oldScript of newElt.querySelectorAll(\"script\")) { let newScript = document.createElement(\"script\"); newScript.type = oldScript.type; newScript.textContent = oldScript.textContent; oldScript.parentNode.replaceChild(newScript, oldScript); } })(); requestAnimationFrame(() => { observer.observe(destElt); }); } })(); </script><div id=\"compress_html_1dd781bb29d44de0a02a4d51546fd227\"><script>window.treescope_decompress_enqueue(\"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\", \"compress_html_1dd781bb29d44de0a02a4d51546fd227\");</script><span style=\"color: #aaaaaa; font-family: monospace\">(Loading...)</span></div></div>"
      ],
      "text/plain": [
       "<IPython.core.display.HTML object>"
      ]
     },
     "metadata": {},
     "output_type": "display_data"
    },
    {
     "data": {
      "text/html": [
       "<div id=\"compress_html_a11660bc500b49ff80e7c7a975fa97f1\"><script>window.treescope_decompress_enqueue(\"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\", \"compress_html_a11660bc500b49ff80e7c7a975fa97f1\");</script></div>"
      ],
      "text/plain": [
       "<IPython.core.display.HTML object>"
      ]
     },
     "metadata": {},
     "output_type": "display_data"
    },
    {
     "data": {
      "text/html": [
       "<div id=\"output_dest_abc1d9f69afe41eea82a80ab23647db4\"><script> (()=>{ const output = document.getElementById(\"output_abc1d9f69afe41eea82a80ab23647db4\"); const dest = document.getElementById(\"output_dest_abc1d9f69afe41eea82a80ab23647db4\"); dest.parentNode.replaceChild(output, dest); })(); </script></div>"
      ],
      "text/plain": [
       "OrderedDict([((DictKey(key='b'),),\n",
       "              <jax.Array([ 0.,  2.,  4.,  6.,  8., 10., 12., 14., 16., 18.], dtype=float32)>),\n",
       "             ((DictKey(key='c'), SequenceKey(idx=0), DictKey(key='value')),\n",
       "              <jax.Array([1., 1., 1., 1., 1., 1., 1., 1., 1., 1., 1., 1.], dtype=float32)>),\n",
       "             ((DictKey(key='c'), SequenceKey(idx=1), DictKey(key='value')),\n",
       "              <jax.Array([0., 0., 0., 0., 0., 0., 0.], dtype=float32)>)])"
      ]
     },
     "execution_count": 56,
     "metadata": {},
     "output_type": "execute_result"
    }
   ],
   "source": [
    "def my_loss(obj):\n",
    "  return obj[\"a\"] + jnp.sum(obj[\"b\"]**2) + jnp.sum(obj[\"c\"][0][\"value\"])\n",
    "\n",
    "my_float_object = jax.tree_util.tree_map(lambda leaf: jnp.array(leaf, dtype=jnp.float32), my_nested_object)\n",
    "\n",
    "# Take gradients w.r.t. non-scalars only, ignoring my_float_object[\"a\"] and my_float_object[\"c\"][2][\"value\"]\n",
    "# No need to store the gradient selection itself, since it can be inferred from vectors_by_path.\n",
    "vectors_by_path = pz.select(my_float_object).at_instances_of(jax.Array).where(lambda arr: arr.size > 1).get_by_path()\n",
    "\n",
    "jax.grad(\n",
    "    lambda vectors_by_path: my_loss(pz.select(my_float_object).select_and_set_by_path(vectors_by_path))\n",
    ")(vectors_by_path)"
   ]
  },
  {
   "cell_type": "markdown",
   "metadata": {
    "id": "p91fKstrxqoe"
   },
   "source": [
    "### Applying functions to selected values\n",
    "\n",
    "You can use `.apply` to apply a function to every selected object, similar to `jax.tree_util.tree_map` except that it applies to the selected subtrees rather than to the leaves:"
   ]
  },
  {
   "cell_type": "code",
   "execution_count": 57,
   "metadata": {
    "execution": {
     "iopub.execute_input": "2024-06-27T23:19:28.064518Z",
     "iopub.status.busy": "2024-06-27T23:19:28.064251Z",
     "iopub.status.idle": "2024-06-27T23:19:28.147837Z",
     "shell.execute_reply": "2024-06-27T23:19:28.147954Z"
    },
    "id": "PrRQyM58xbOE"
   },
   "outputs": [
    {
     "data": {
      "text/html": [
       "<div id=\"output_efded52c8aa241febb0ef5c01aa5aa39\"><script> /* penzai.treescope rendering of a Python object (compressed) */ (()=>{ let observer; let lastStep = new Promise((resolve, reject) => { observer = new IntersectionObserver((entries) => { for (const entry of entries) { if (entry.isIntersecting) { resolve(); observer.disconnect(); return; } } }, {rootMargin: \"1000px\"}); }); window.treescope_decompress_enqueue = (encoded, destId) => { const previous = lastStep; const destElt = document.getElementById(destId); lastStep = (async () => { await previous; let blob = new Blob([ Uint8Array.from(atob(encoded), (m) => m.codePointAt(0)) ]); let reader = blob.stream().pipeThrough( new DecompressionStream(\"deflate\") ).pipeThrough( new TextDecoderStream(\"utf-8\") ).getReader(); let parts = []; while (true) { let step = await reader.read(); if (step.done) { break; } parts.push(step.value); } let newElt = document.createElement(\"div\"); newElt.innerHTML = parts.join(\"\"); destElt.parentNode.replaceChild(newElt, destElt); for (let oldScript of newElt.querySelectorAll(\"script\")) { let newScript = document.createElement(\"script\"); newScript.type = oldScript.type; newScript.textContent = oldScript.textContent; oldScript.parentNode.replaceChild(newScript, oldScript); } })(); requestAnimationFrame(() => { observer.observe(destElt); }); } })(); </script><div id=\"compress_html_9070d3495e904270929fd1066aaff567\"><script>window.treescope_decompress_enqueue(\"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\", \"compress_html_9070d3495e904270929fd1066aaff567\");</script><span style=\"color: #aaaaaa; font-family: monospace\">(Loading...)</span></div></div>"
      ],
      "text/plain": [
       "<IPython.core.display.HTML object>"
      ]
     },
     "metadata": {},
     "output_type": "display_data"
    },
    {
     "data": {
      "text/html": [
       "<div id=\"compress_html_fd9c77eacc884e5f9e0b4608729b08bd\"><script>window.treescope_decompress_enqueue(\"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\", \"compress_html_fd9c77eacc884e5f9e0b4608729b08bd\");</script></div>"
      ],
      "text/plain": [
       "<IPython.core.display.HTML object>"
      ]
     },
     "metadata": {},
     "output_type": "display_data"
    },
    {
     "data": {
      "text/html": [
       "<div id=\"output_dest_efded52c8aa241febb0ef5c01aa5aa39\"><script> (()=>{ const output = document.getElementById(\"output_efded52c8aa241febb0ef5c01aa5aa39\"); const dest = document.getElementById(\"output_dest_efded52c8aa241febb0ef5c01aa5aa39\"); dest.parentNode.replaceChild(output, dest); })(); </script></div>"
      ],
      "text/plain": [
       "{'a': 1,\n",
       " 'b': <jax.Array([100, 101, 104, 109, 116, 125, 136, 149, 164, 181], dtype=int32)>,\n",
       " 'c': [{'value': <jax.Array([100, 101, 104, 109, 116, 125, 136, 149, 164, 181, 200, 221], dtype=int32)>},\n",
       "  {'value': <jax.Array([100., 100., 100., 100., 100., 100., 100.], dtype=float32)>},\n",
       "  {'value': 3}]}"
      ]
     },
     "execution_count": 57,
     "metadata": {},
     "output_type": "execute_result"
    }
   ],
   "source": [
    "pz.select(my_nested_object).at_instances_of(jax.Array).apply(lambda x: x**2 + 100)"
   ]
  },
  {
   "cell_type": "markdown",
   "metadata": {
    "id": "CNBv2zCFysUP"
   },
   "source": [
    "You can also do `apply(fn, with_keypath=True)` to get access to the key paths as well:"
   ]
  },
  {
   "cell_type": "code",
   "execution_count": 58,
   "metadata": {
    "execution": {
     "iopub.execute_input": "2024-06-27T23:19:28.154044Z",
     "iopub.status.busy": "2024-06-27T23:19:28.153811Z",
     "iopub.status.idle": "2024-06-27T23:19:28.158174Z",
     "shell.execute_reply": "2024-06-27T23:19:28.158001Z"
    },
    "id": "8sT0FJ2yypAd"
   },
   "outputs": [
    {
     "data": {
      "text/html": [
       "<div id=\"output_19fefa95553945cc8e03e0e5022d8d44\"><script> /* penzai.treescope rendering of a Python object (compressed) */ (()=>{ let observer; let lastStep = new Promise((resolve, reject) => { observer = new IntersectionObserver((entries) => { for (const entry of entries) { if (entry.isIntersecting) { resolve(); observer.disconnect(); return; } } }, {rootMargin: \"1000px\"}); }); window.treescope_decompress_enqueue = (encoded, destId) => { const previous = lastStep; const destElt = document.getElementById(destId); lastStep = (async () => { await previous; let blob = new Blob([ Uint8Array.from(atob(encoded), (m) => m.codePointAt(0)) ]); let reader = blob.stream().pipeThrough( new DecompressionStream(\"deflate\") ).pipeThrough( new TextDecoderStream(\"utf-8\") ).getReader(); let parts = []; while (true) { let step = await reader.read(); if (step.done) { break; } parts.push(step.value); } let newElt = document.createElement(\"div\"); newElt.innerHTML = parts.join(\"\"); destElt.parentNode.replaceChild(newElt, destElt); for (let oldScript of newElt.querySelectorAll(\"script\")) { let newScript = document.createElement(\"script\"); newScript.type = oldScript.type; newScript.textContent = oldScript.textContent; oldScript.parentNode.replaceChild(newScript, oldScript); } })(); requestAnimationFrame(() => { observer.observe(destElt); }); } })(); </script><div id=\"compress_html_d83aca07259f434e8c6a247db59b4cad\"><script>window.treescope_decompress_enqueue(\"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\", \"compress_html_d83aca07259f434e8c6a247db59b4cad\");</script><span style=\"color: #aaaaaa; font-family: monospace\">(Loading...)</span></div></div>"
      ],
      "text/plain": [
       "<IPython.core.display.HTML object>"
      ]
     },
     "metadata": {},
     "output_type": "display_data"
    },
    {
     "data": {
      "text/html": [
       "<div id=\"output_dest_19fefa95553945cc8e03e0e5022d8d44\"><script> (()=>{ const output = document.getElementById(\"output_19fefa95553945cc8e03e0e5022d8d44\"); const dest = document.getElementById(\"output_dest_19fefa95553945cc8e03e0e5022d8d44\"); dest.parentNode.replaceChild(output, dest); })(); </script></div>"
      ],
      "text/plain": [
       "{'a': 1,\n",
       " 'b': \"key=(DictKey(key='b'),), value=[0 1 2 3 4 5 6 7 8 9]\",\n",
       " 'c': [{'value': \"key=(DictKey(key='c'), SequenceKey(idx=0), DictKey(key='value')), value=[ 0  1  2  3  4  5  6  7  8  9 10 11]\"},\n",
       "  {'value': \"key=(DictKey(key='c'), SequenceKey(idx=1), DictKey(key='value')), value=[0. 0. 0. 0. 0. 0. 0.]\"},\n",
       "  {'value': 3}]}"
      ]
     },
     "execution_count": 58,
     "metadata": {},
     "output_type": "execute_result"
    }
   ],
   "source": [
    "(\n",
    "    pz.select(my_nested_object)\n",
    "    .at_instances_of(jax.Array)\n",
    "    .apply(lambda key, value: f\"key={key}, value={value}\", with_keypath=True)\n",
    ")"
   ]
  },
  {
   "cell_type": "markdown",
   "metadata": {
    "id": "-RZGXU2ey_B7"
   },
   "source": [
    "By default, applying a function also removes the selection. If you want to do further processing, you can pass `keep_selected=True` to replace the values but keep them selected:"
   ]
  },
  {
   "cell_type": "code",
   "execution_count": 59,
   "metadata": {
    "execution": {
     "iopub.execute_input": "2024-06-27T23:19:28.167028Z",
     "iopub.status.busy": "2024-06-27T23:19:28.166795Z",
     "iopub.status.idle": "2024-06-27T23:19:28.176053Z",
     "shell.execute_reply": "2024-06-27T23:19:28.175879Z"
    },
    "id": "CtTI_jwXy9il"
   },
   "outputs": [
    {
     "data": {
      "text/html": [
       "<div id=\"output_d26da8762d4243f4b706dd15f726c463\"><script> /* penzai.treescope rendering of a Python object (compressed) */ (()=>{ let observer; let lastStep = new Promise((resolve, reject) => { observer = new IntersectionObserver((entries) => { for (const entry of entries) { if (entry.isIntersecting) { resolve(); observer.disconnect(); return; } } }, {rootMargin: \"1000px\"}); }); window.treescope_decompress_enqueue = (encoded, destId) => { const previous = lastStep; const destElt = document.getElementById(destId); lastStep = (async () => { await previous; let blob = new Blob([ Uint8Array.from(atob(encoded), (m) => m.codePointAt(0)) ]); let reader = blob.stream().pipeThrough( new DecompressionStream(\"deflate\") ).pipeThrough( new TextDecoderStream(\"utf-8\") ).getReader(); let parts = []; while (true) { let step = await reader.read(); if (step.done) { break; } parts.push(step.value); } let newElt = document.createElement(\"div\"); newElt.innerHTML = parts.join(\"\"); destElt.parentNode.replaceChild(newElt, destElt); for (let oldScript of newElt.querySelectorAll(\"script\")) { let newScript = document.createElement(\"script\"); newScript.type = oldScript.type; newScript.textContent = oldScript.textContent; oldScript.parentNode.replaceChild(newScript, oldScript); } })(); requestAnimationFrame(() => { observer.observe(destElt); }); } })(); </script><div id=\"compress_html_f9da12d0466d4864954e71a5164b4977\"><script>window.treescope_decompress_enqueue(\"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\", \"compress_html_f9da12d0466d4864954e71a5164b4977\");</script><span style=\"color: #aaaaaa; font-family: monospace\">(Loading...)</span></div></div>"
      ],
      "text/plain": [
       "<IPython.core.display.HTML object>"
      ]
     },
     "metadata": {},
     "output_type": "display_data"
    },
    {
     "data": {
      "text/html": [
       "<div id=\"output_dest_d26da8762d4243f4b706dd15f726c463\"><script> (()=>{ const output = document.getElementById(\"output_d26da8762d4243f4b706dd15f726c463\"); const dest = document.getElementById(\"output_dest_d26da8762d4243f4b706dd15f726c463\"); dest.parentNode.replaceChild(output, dest); })(); </script></div>"
      ],
      "text/plain": [
       "Selection(\n",
       "  selected_by_path=OrderedDict({\n",
       "    (DictKey(key='b'),):\n",
       "      \"key=(DictKey(key='b'),), value=[0 1 2 3 4 5 6 7 8 9]\",\n",
       "    (DictKey(key='c'), SequenceKey(idx=0), DictKey(key='value')):\n",
       "      \"key=(DictKey(key='c'), SequenceKey(idx=0), DictKey(key='value')), value=[ 0  1  2  3  4  5  6  7  8  9 10 11]\",\n",
       "    (DictKey(key='c'), SequenceKey(idx=1), DictKey(key='value')):\n",
       "      \"key=(DictKey(key='c'), SequenceKey(idx=1), DictKey(key='value')), value=[0. 0. 0. 0. 0. 0. 0.]\",\n",
       "  }),\n",
       "  remainder={'a': 1, 'b': SelectionHole(path=(DictKey(key='b'),)), 'c': [{'value': SelectionHole(path=(DictKey(key='c'), SequenceKey(idx=0), DictKey(key='value')))}, {'value': SelectionHole(path=(DictKey(key='c'), SequenceKey(idx=1), DictKey(key='value')))}, {'value': 3}]},\n",
       ")"
      ]
     },
     "execution_count": 59,
     "metadata": {},
     "output_type": "execute_result"
    }
   ],
   "source": [
    "(\n",
    "    pz.select(my_nested_object)\n",
    "    .at_instances_of(jax.Array)\n",
    "    .apply(lambda key, value: f\"key={key}, value={value}\", with_keypath=True, keep_selected=True)\n",
    ")"
   ]
  },
  {
   "cell_type": "markdown",
   "metadata": {
    "id": "YJujHVUOzmtm"
   },
   "source": [
    "Sometimes, it's also useful to pass the index of the selected node relative to the *selection* (e.g. \"this is the third selected node\") instead of the absolute keypath. For this, theres `.apply_with_selected_index`:"
   ]
  },
  {
   "cell_type": "code",
   "execution_count": 60,
   "metadata": {
    "execution": {
     "iopub.execute_input": "2024-06-27T23:19:28.184995Z",
     "iopub.status.busy": "2024-06-27T23:19:28.184762Z",
     "iopub.status.idle": "2024-06-27T23:19:28.194088Z",
     "shell.execute_reply": "2024-06-27T23:19:28.193843Z"
    },
    "id": "xLrWVjiazLVS"
   },
   "outputs": [
    {
     "data": {
      "text/html": [
       "<div id=\"output_01bd9078b87d4a7aa604fb569c03f02a\"><script> /* penzai.treescope rendering of a Python object (compressed) */ (()=>{ let observer; let lastStep = new Promise((resolve, reject) => { observer = new IntersectionObserver((entries) => { for (const entry of entries) { if (entry.isIntersecting) { resolve(); observer.disconnect(); return; } } }, {rootMargin: \"1000px\"}); }); window.treescope_decompress_enqueue = (encoded, destId) => { const previous = lastStep; const destElt = document.getElementById(destId); lastStep = (async () => { await previous; let blob = new Blob([ Uint8Array.from(atob(encoded), (m) => m.codePointAt(0)) ]); let reader = blob.stream().pipeThrough( new DecompressionStream(\"deflate\") ).pipeThrough( new TextDecoderStream(\"utf-8\") ).getReader(); let parts = []; while (true) { let step = await reader.read(); if (step.done) { break; } parts.push(step.value); } let newElt = document.createElement(\"div\"); newElt.innerHTML = parts.join(\"\"); destElt.parentNode.replaceChild(newElt, destElt); for (let oldScript of newElt.querySelectorAll(\"script\")) { let newScript = document.createElement(\"script\"); newScript.type = oldScript.type; newScript.textContent = oldScript.textContent; oldScript.parentNode.replaceChild(newScript, oldScript); } })(); requestAnimationFrame(() => { observer.observe(destElt); }); } })(); </script><div id=\"compress_html_f3a3388d193947a892e799c82df540ae\"><script>window.treescope_decompress_enqueue(\"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\", \"compress_html_f3a3388d193947a892e799c82df540ae\");</script><span style=\"color: #aaaaaa; font-family: monospace\">(Loading...)</span></div></div>"
      ],
      "text/plain": [
       "<IPython.core.display.HTML object>"
      ]
     },
     "metadata": {},
     "output_type": "display_data"
    },
    {
     "data": {
      "text/html": [
       "<div id=\"output_dest_01bd9078b87d4a7aa604fb569c03f02a\"><script> (()=>{ const output = document.getElementById(\"output_01bd9078b87d4a7aa604fb569c03f02a\"); const dest = document.getElementById(\"output_dest_01bd9078b87d4a7aa604fb569c03f02a\"); dest.parentNode.replaceChild(output, dest); })(); </script></div>"
      ],
      "text/plain": [
       "Selection(\n",
       "  selected_by_path=OrderedDict({\n",
       "    (DictKey(key='b'),):\n",
       "      'index=0, value=[0 1 2 3 4 5 6 7 8 9]',\n",
       "    (DictKey(key='c'), SequenceKey(idx=0), DictKey(key='value')):\n",
       "      'index=1, value=[ 0  1  2  3  4  5  6  7  8  9 10 11]',\n",
       "    (DictKey(key='c'), SequenceKey(idx=1), DictKey(key='value')):\n",
       "      'index=2, value=[0. 0. 0. 0. 0. 0. 0.]',\n",
       "  }),\n",
       "  remainder={'a': 1, 'b': SelectionHole(path=(DictKey(key='b'),)), 'c': [{'value': SelectionHole(path=(DictKey(key='c'), SequenceKey(idx=0), DictKey(key='value')))}, {'value': SelectionHole(path=(DictKey(key='c'), SequenceKey(idx=1), DictKey(key='value')))}, {'value': 3}]},\n",
       ")"
      ]
     },
     "execution_count": 60,
     "metadata": {},
     "output_type": "execute_result"
    }
   ],
   "source": [
    "(\n",
    "    pz.select(my_nested_object)\n",
    "    .at_instances_of(jax.Array)\n",
    "    .apply_with_selected_index(lambda index, value: f\"index={index}, value={value}\", keep_selected=True)\n",
    ")"
   ]
  },
  {
   "cell_type": "markdown",
   "metadata": {
    "id": "zpbos5v2z9BI"
   },
   "source": [
    "### Manipulating selected elements of lists and tuples"
   ]
  },
  {
   "cell_type": "markdown",
   "metadata": {
    "id": "iqvDVZkn0GSq"
   },
   "source": [
    "When the selected nodes are elements of a list or tuple, there are a few other options for selector manipulation. For instance, you can insert values before or after the selected nodes:"
   ]
  },
  {
   "cell_type": "code",
   "execution_count": 61,
   "metadata": {
    "execution": {
     "iopub.execute_input": "2024-06-27T23:19:28.201606Z",
     "iopub.status.busy": "2024-06-27T23:19:28.201333Z",
     "iopub.status.idle": "2024-06-27T23:19:28.205811Z",
     "shell.execute_reply": "2024-06-27T23:19:28.205637Z"
    },
    "id": "Ptualckcz45d"
   },
   "outputs": [
    {
     "data": {
      "text/html": [
       "<div id=\"output_240645125aa54f8e8ae1081b598162df\"><script> /* penzai.treescope rendering of a Python object (compressed) */ (()=>{ let observer; let lastStep = new Promise((resolve, reject) => { observer = new IntersectionObserver((entries) => { for (const entry of entries) { if (entry.isIntersecting) { resolve(); observer.disconnect(); return; } } }, {rootMargin: \"1000px\"}); }); window.treescope_decompress_enqueue = (encoded, destId) => { const previous = lastStep; const destElt = document.getElementById(destId); lastStep = (async () => { await previous; let blob = new Blob([ Uint8Array.from(atob(encoded), (m) => m.codePointAt(0)) ]); let reader = blob.stream().pipeThrough( new DecompressionStream(\"deflate\") ).pipeThrough( new TextDecoderStream(\"utf-8\") ).getReader(); let parts = []; while (true) { let step = await reader.read(); if (step.done) { break; } parts.push(step.value); } let newElt = document.createElement(\"div\"); newElt.innerHTML = parts.join(\"\"); destElt.parentNode.replaceChild(newElt, destElt); for (let oldScript of newElt.querySelectorAll(\"script\")) { let newScript = document.createElement(\"script\"); newScript.type = oldScript.type; newScript.textContent = oldScript.textContent; oldScript.parentNode.replaceChild(newScript, oldScript); } })(); requestAnimationFrame(() => { observer.observe(destElt); }); } })(); </script><div id=\"compress_html_6eff0f0b291e4b25b8a1883f4f77086e\"><script>window.treescope_decompress_enqueue(\"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\", \"compress_html_6eff0f0b291e4b25b8a1883f4f77086e\");</script><span style=\"color: #aaaaaa; font-family: monospace\">(Loading...)</span></div></div>"
      ],
      "text/plain": [
       "<IPython.core.display.HTML object>"
      ]
     },
     "metadata": {},
     "output_type": "display_data"
    },
    {
     "data": {
      "text/html": [
       "<div id=\"output_dest_240645125aa54f8e8ae1081b598162df\"><script> (()=>{ const output = document.getElementById(\"output_240645125aa54f8e8ae1081b598162df\"); const dest = document.getElementById(\"output_dest_240645125aa54f8e8ae1081b598162df\"); dest.parentNode.replaceChild(output, dest); })(); </script></div>"
      ],
      "text/plain": [
       "{'a': ['before a multiple of 4',\n",
       "  0,\n",
       "  1,\n",
       "  2,\n",
       "  3,\n",
       "  'before a multiple of 4',\n",
       "  4,\n",
       "  5,\n",
       "  6,\n",
       "  7,\n",
       "  'before a multiple of 4',\n",
       "  8,\n",
       "  9],\n",
       " 'b': [10,\n",
       "  11,\n",
       "  'before a multiple of 4',\n",
       "  12,\n",
       "  13,\n",
       "  14,\n",
       "  15,\n",
       "  'before a multiple of 4',\n",
       "  16,\n",
       "  17,\n",
       "  18,\n",
       "  19]}"
      ]
     },
     "execution_count": 61,
     "metadata": {},
     "output_type": "execute_result"
    }
   ],
   "source": [
    "(\n",
    "    pz.select({\"a\": list(range(10)), \"b\": list(range(10, 20))})\n",
    "      .at_instances_of(int)\n",
    "      .where(lambda x: x % 4 == 0)\n",
    "      .insert_before(\"before a multiple of 4\")\n",
    ")"
   ]
  },
  {
   "cell_type": "code",
   "execution_count": 62,
   "metadata": {
    "execution": {
     "iopub.execute_input": "2024-06-27T23:19:28.212946Z",
     "iopub.status.busy": "2024-06-27T23:19:28.212694Z",
     "iopub.status.idle": "2024-06-27T23:19:28.217221Z",
     "shell.execute_reply": "2024-06-27T23:19:28.217049Z"
    },
    "id": "tIf27Qx40hP3"
   },
   "outputs": [
    {
     "data": {
      "text/html": [
       "<div id=\"output_8a32b4be1bdb4859b215d3641b1d6725\"><script> /* penzai.treescope rendering of a Python object (compressed) */ (()=>{ let observer; let lastStep = new Promise((resolve, reject) => { observer = new IntersectionObserver((entries) => { for (const entry of entries) { if (entry.isIntersecting) { resolve(); observer.disconnect(); return; } } }, {rootMargin: \"1000px\"}); }); window.treescope_decompress_enqueue = (encoded, destId) => { const previous = lastStep; const destElt = document.getElementById(destId); lastStep = (async () => { await previous; let blob = new Blob([ Uint8Array.from(atob(encoded), (m) => m.codePointAt(0)) ]); let reader = blob.stream().pipeThrough( new DecompressionStream(\"deflate\") ).pipeThrough( new TextDecoderStream(\"utf-8\") ).getReader(); let parts = []; while (true) { let step = await reader.read(); if (step.done) { break; } parts.push(step.value); } let newElt = document.createElement(\"div\"); newElt.innerHTML = parts.join(\"\"); destElt.parentNode.replaceChild(newElt, destElt); for (let oldScript of newElt.querySelectorAll(\"script\")) { let newScript = document.createElement(\"script\"); newScript.type = oldScript.type; newScript.textContent = oldScript.textContent; oldScript.parentNode.replaceChild(newScript, oldScript); } })(); requestAnimationFrame(() => { observer.observe(destElt); }); } })(); </script><div id=\"compress_html_f4a3e50ee8de48aa8d7612e5ee2a8222\"><script>window.treescope_decompress_enqueue(\"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\", \"compress_html_f4a3e50ee8de48aa8d7612e5ee2a8222\");</script><span style=\"color: #aaaaaa; font-family: monospace\">(Loading...)</span></div></div>"
      ],
      "text/plain": [
       "<IPython.core.display.HTML object>"
      ]
     },
     "metadata": {},
     "output_type": "display_data"
    },
    {
     "data": {
      "text/html": [
       "<div id=\"output_dest_8a32b4be1bdb4859b215d3641b1d6725\"><script> (()=>{ const output = document.getElementById(\"output_8a32b4be1bdb4859b215d3641b1d6725\"); const dest = document.getElementById(\"output_dest_8a32b4be1bdb4859b215d3641b1d6725\"); dest.parentNode.replaceChild(output, dest); })(); </script></div>"
      ],
      "text/plain": [
       "{'a': [0,\n",
       "  'after a multiple of 4',\n",
       "  1,\n",
       "  2,\n",
       "  3,\n",
       "  4,\n",
       "  'after a multiple of 4',\n",
       "  5,\n",
       "  6,\n",
       "  7,\n",
       "  8,\n",
       "  'after a multiple of 4',\n",
       "  9],\n",
       " 'b': [10,\n",
       "  11,\n",
       "  12,\n",
       "  'after a multiple of 4',\n",
       "  13,\n",
       "  14,\n",
       "  15,\n",
       "  16,\n",
       "  'after a multiple of 4',\n",
       "  17,\n",
       "  18,\n",
       "  19]}"
      ]
     },
     "execution_count": 62,
     "metadata": {},
     "output_type": "execute_result"
    }
   ],
   "source": [
    "(\n",
    "    pz.select({\"a\": list(range(10)), \"b\": list(range(10, 20))})\n",
    "      .at_instances_of(int)\n",
    "      .where(lambda x: x % 4 == 0)\n",
    "      .insert_after(\"after a multiple of 4\")\n",
    ")"
   ]
  },
  {
   "cell_type": "markdown",
   "metadata": {
    "id": "BFg6JxQq0tMW"
   },
   "source": [
    "You can also just remove the selected nodes:"
   ]
  },
  {
   "cell_type": "code",
   "execution_count": 63,
   "metadata": {
    "execution": {
     "iopub.execute_input": "2024-06-27T23:19:28.223619Z",
     "iopub.status.busy": "2024-06-27T23:19:28.223278Z",
     "iopub.status.idle": "2024-06-27T23:19:28.227431Z",
     "shell.execute_reply": "2024-06-27T23:19:28.227162Z"
    },
    "id": "PzLdrjdq0raZ"
   },
   "outputs": [
    {
     "data": {
      "text/html": [
       "<div id=\"output_b18c823c0af64a58a65dbe3641a5f070\"><script> /* penzai.treescope rendering of a Python object (compressed) */ (()=>{ let observer; let lastStep = new Promise((resolve, reject) => { observer = new IntersectionObserver((entries) => { for (const entry of entries) { if (entry.isIntersecting) { resolve(); observer.disconnect(); return; } } }, {rootMargin: \"1000px\"}); }); window.treescope_decompress_enqueue = (encoded, destId) => { const previous = lastStep; const destElt = document.getElementById(destId); lastStep = (async () => { await previous; let blob = new Blob([ Uint8Array.from(atob(encoded), (m) => m.codePointAt(0)) ]); let reader = blob.stream().pipeThrough( new DecompressionStream(\"deflate\") ).pipeThrough( new TextDecoderStream(\"utf-8\") ).getReader(); let parts = []; while (true) { let step = await reader.read(); if (step.done) { break; } parts.push(step.value); } let newElt = document.createElement(\"div\"); newElt.innerHTML = parts.join(\"\"); destElt.parentNode.replaceChild(newElt, destElt); for (let oldScript of newElt.querySelectorAll(\"script\")) { let newScript = document.createElement(\"script\"); newScript.type = oldScript.type; newScript.textContent = oldScript.textContent; oldScript.parentNode.replaceChild(newScript, oldScript); } })(); requestAnimationFrame(() => { observer.observe(destElt); }); } })(); </script><div id=\"compress_html_c93a1795b1ad47cdace1e910f1dc74c0\"><script>window.treescope_decompress_enqueue(\"eNrVW4lT2zgX/1dUd6YkCwlxLiAc8zkhF+UohBZKt5ORbfkgjmRsOSHs8L9/T3JCDkLoZtktgZkmlt/TO35P79DQvZAPPHKQ5gEhocF80g4Y4+gv5LPQ5S6jJRQQD3O3R3aRxShPWbjreoMS6jLKQh8bsN53XE5S8qGE/ABWPDfkKbl1ig98WKWMwrKOjY4dsIiaKYN5LCjFrLto+KR7QAD7uSZ3SshyOZBRTijfRV0c2C5NecTiJZQ1HCGDkpRDXNuBFTVd2EWPe5uxOXuhEbg+P0CuhRJ9l5qsP7YQ7e/vI1CBWLCBmQRbn1Ogvx53ny2n2z6hpkttzRCeCYHsx89XyRqYmp7YkkaeN4faJrw94/19lBg5vc1ZEu0fgJKbf6BjxjoAQoC4Q5CkpMwkafTHJvIIR0PeCVYJDQhPxO8+7COTGVEXHJrWmTlAnz6hD+JN2vBwGB4DaGnhcOzSMKFMK6UkkXDVSIZg8nEAO1U90pUIPYJkHgVUvoTHObYGEW0xRoWBfRZ0hpaByJCDZlewJF5NLXPXEIs+CcDwLqYGSVPWTySfTHv2BqVipj2UywqV58XALJRpj1CbOxAaKDMvIhZjGtstPEC8kIxVdyIqdH9VeOi4FhcmSQ7x5RF+f1WHxIgyIHcRCblG3S4WFLUAd0ki9msyOR+RWVX8KHRibHZ/xXEjJfZjV/wd1/262nMVJxS4InJILBIExLwkXR/CnoTPA8j3xOJT4ANbMGgRjxicBZrnQaAPeSeTYETbIUSqktyVBy4hzhfshJglNxSGwufEuQlIl/XI1KmZ2OOlk5AY6Sr2twL2QMThkDvHiW9a3YQSJzaxpeCAp0nTjICAGcMDOUkL39IiDwNxLEQ+DdfJPa/EwiZejxd3pTrxWT8V6SYg4C2DVOD4mQnYYUMQCJxexIoz2/biNNKW2Z+DYjLLwQrx+AYiPdh96AoRdvI53SEDcSKVQBmlHiCe8Hm8b0J52rPdBQWVkR6PCOpBXAj2TLeHJOP+bF5DHOugMLnfVzIKYhSEgvZ0gm6+/gnuuOFIcwVKTlxIZSVr06irk0DGoCxsHzM722qhCDoNCULYgtoTBDinFlRRw9IW80ysgzyR3F+oxI9omqwdqwjUphsCPINRxZ0lRAfIwzrxSiWdQGCTCQ0M+bM7V15cdlOqqLvD6pzZHctyqSzGusdE+X5RpgMnJHgu2cRBJyTYBn/T59wlynhiZsnBYeJA7nkw1w+Sp2Q4xOhAhU+iP5JjHQTrfKYR/ZSG8gyU0Nqf2YJurP1O9aaZXlSy+B8oKXAUgqMgFAD6zAUNgjly3fDtxMqjIAWl5KELX4rxt5E6Nk8kw+dS0m7Yttwg5G1G2yL85xytRUcpnS2I0zQXKvSP1Y8Rn1VRWDXVSMsD/ZgW+Q8ca7YNkdTfKFomctEwMUyJNrBnJKCRh3ZN9e9lzp7RAyrOv6aKzgITAilWxWQchAo10EeSEb/CKaEDNc9s93FAIVW3RzE4SpeWhQ01N4fQh9oG0GNTND2pYDifCEcP7R8upTJpGQHjoagkZxocpOwAm66o4WquYBJ7A7EAU5ugDMqki4YDFReew7gmx0soduBzVZ7FwJu5dArNkTGP6b5DaBuc5GE/BKe+WpH+tvAFEuI6JGVIInLvQ7v5Is1b6DFPxNDQ/w3nZUOkgqnZee0E+rTAxR5qDbo6gwb1LOJCLRONWrEK8wdrw5FbthZiWxhzvOFafzj45jMQrGFglFAUeAkTc1wS7zf7zLKyuzoOSTG/YWZ26ie2VtbkT/Nc05j8Vr7ow7+NmqZVtUU/5a6m2R322WxWy5X+d027/F450k6a5YpWs++bjWOHh+UTl9i52uF19rhZ/N5r+ZH75aRwqR5dNy++nfSuTh74l0GtVlm/sjuXbvkw47iH59FR1azfZhr6ptVrmv7d56Jzd+W659EJrTsN6yvXvhbLp0FeqzVpp1o0vkYRXb8o3Blhp9+zat7m3b1dZdu2ftSvb6sNbZNqF4XjIDhSL9bth8yFmdGOLNU+3ar067dZO8MG0cXWVreqFvuN650z2/bJZWeQJ039oWDowVmdY80+b572D3E4CM+jZvP6qlrra1/O/eZ38+vm5rq9dbl1neMZ6/OXO61XgD2PtdMt7aSvde2Hi9Z6dNMi1ev7rFU0Hk7zF41BISprnx/Kt37Nz7mN80o1cxN9ybe2qFU+rjZqJ13NXd/uVbMOVZ2tdf1b//q23wh6h/WvFXprVas2Xz8zbjxvq7BTOeqXt52d/MlJvZWr32h2t1m4LZ/v8Ms6aexUy+VmPXdo5y82vxsDXasDpt8+b2rndayRk4qnNR6qZ/YNt4vlL/bZWfOw3HHPC6RWvq6Ua4ab8Z2A+RRiw7+pHqoPaqdlVSzuDD7TholrYcPKnHbr1dNi2dTuvn3zMQ9bN13TxO5O1nrYyX91b++KfjconrHvlZYb1Lu9o3quddXK1apZo3xuXa43PObX87WwX8D2XXHbvSGtU8+/ouVGk5gnAYmu7uqVrnpVCzqt1n0hW7y6CvsaaJREcsTniTUZ1mvJtzi+0NoP9IhzRucmqfHrea2WgpQZKij/kJHnE/9J1Lyp7C6bBOCw6x0XOGUy6MIY4kB2LyFMObC7cMbNpyu0pwL2rDmLud0HyCSZ9A7pzloZd3VzrJjfpI85030ctg3PFY594scWnxqARtPFIpkzPNMiJ12PejhIpFIi26UwBWDlxUFyclkIETcqolAOezC5LVJDRMBjKShdLOJ/z5QnDQAYl5gfpjWRItEHt+uzgGP6bG89YB1ZufzBuIV+3bsTbBP+fOpTZu88n03fjrxxkfyxaTB5Q3ajBkrEEqav4cCSSyYCD8iGGoi1kHCplHCp0AP3scsRxT3XxpwFMJW7vs5wYKb7gcvJJfTMifFegMRwr/H0Dg1SQpnwt7yoIPzS7RIA5ulm5Bnf6KZlhvVxA2UzmYxMDQbm0BIlZL87X+6EU5WxctN3IQmA9yOqYdeDYOAMCeIP8kxC70Mj7HkD6CZCTrApYmJ90nfDO4jxBYQIpdENxPR0PNugKQd7cRrbc6kfcSSuavYVmbh0dq/M3WSY4+BlnN8O9jYl87RcB3YKQESnzaF3I1yRGqc6ZADZ3NlXlIO/QGFgAPahCpPsz7pzZdF75RXZ068nb0WUg08f77Nbuzj+eFJJfpTQy678J55bzmM/1vDaT+XgxwK3rY2P8hpitCIidn9twfGUF0vJNfSUU/aVhIe7uonlFVhJ/isFJxUkz/6+MpGBSujTXcT47ks88VsoKrPpEyqSDF1hGXwfAnQw7f5/MSDmufZH5ufcQInv15QDdVq7jSnS6TlBOUDzbJhq4pX/CjmwaxnwBNs/xO9X0VwKLXUxWtlVRUtdDi31faOVXYxWblXRyi6HVvZ9o5VbjFZhVdHKLYdW7n2jlV+MVnFV0covh1b+faNVWIzW1qqiVVgOrcL7Rqu4GK2dBdJncNh4R1gVl8Oq+MZYxR8/Vy3Uf8co9FZB/vokrK/CJKz/rklYXwJ+faUmYf0XJuHMKhYpfblRWH/fo7D++iisqqsKl7ocXOr7huuVWVjNrSpc2eXgyr5vuF4ZhtX8qsKVWw6u3PuG65VpWC2sKlz55eDKv2+4XhmH1a1VhauwHFyF9w3XK/Owur2qcBWXg6v4vuHaegWuFby/iM1aCqytf/X+YkWc9zvG13kfj7/ikhGH6fZe/qOTl/57TiL59CcR/wfju8s+\", \"compress_html_c93a1795b1ad47cdace1e910f1dc74c0\");</script><span style=\"color: #aaaaaa; font-family: monospace\">(Loading...)</span></div></div>"
      ],
      "text/plain": [
       "<IPython.core.display.HTML object>"
      ]
     },
     "metadata": {},
     "output_type": "display_data"
    },
    {
     "data": {
      "text/html": [
       "<div id=\"output_dest_b18c823c0af64a58a65dbe3641a5f070\"><script> (()=>{ const output = document.getElementById(\"output_b18c823c0af64a58a65dbe3641a5f070\"); const dest = document.getElementById(\"output_dest_b18c823c0af64a58a65dbe3641a5f070\"); dest.parentNode.replaceChild(output, dest); })(); </script></div>"
      ],
      "text/plain": [
       "{'a': [1, 2, 3, 5, 6, 7, 9], 'b': [10, 11, 13, 14, 15, 17, 18, 19]}"
      ]
     },
     "execution_count": 63,
     "metadata": {},
     "output_type": "execute_result"
    }
   ],
   "source": [
    "(\n",
    "    pz.select({\"a\": list(range(10)), \"b\": list(range(10, 20))})\n",
    "      .at_instances_of(int)\n",
    "      .where(lambda x: x % 4 == 0)\n",
    "      .remove_from_parent()\n",
    ")"
   ]
  },
  {
   "cell_type": "markdown",
   "metadata": {
    "id": "ELI6wOnC0yMI"
   },
   "source": [
    "If you want more control, or if you want to use the selected value to determine what to insert, you can use the method `.apply_and_inline`. This works like `.apply`, except that your function should return a *sequence* of values, and those values will be spliced into the original list or tuple in the same position as the original selected nodes."
   ]
  },
  {
   "cell_type": "code",
   "execution_count": 64,
   "metadata": {
    "execution": {
     "iopub.execute_input": "2024-06-27T23:19:28.235198Z",
     "iopub.status.busy": "2024-06-27T23:19:28.234962Z",
     "iopub.status.idle": "2024-06-27T23:19:28.239129Z",
     "shell.execute_reply": "2024-06-27T23:19:28.238961Z"
    },
    "id": "l7M2_YQF0vzy"
   },
   "outputs": [
    {
     "data": {
      "text/html": [
       "<div id=\"output_75494d8578a64200bb81908f5ea76c84\"><script> /* penzai.treescope rendering of a Python object (compressed) */ (()=>{ let observer; let lastStep = new Promise((resolve, reject) => { observer = new IntersectionObserver((entries) => { for (const entry of entries) { if (entry.isIntersecting) { resolve(); observer.disconnect(); return; } } }, {rootMargin: \"1000px\"}); }); window.treescope_decompress_enqueue = (encoded, destId) => { const previous = lastStep; const destElt = document.getElementById(destId); lastStep = (async () => { await previous; let blob = new Blob([ Uint8Array.from(atob(encoded), (m) => m.codePointAt(0)) ]); let reader = blob.stream().pipeThrough( new DecompressionStream(\"deflate\") ).pipeThrough( new TextDecoderStream(\"utf-8\") ).getReader(); let parts = []; while (true) { let step = await reader.read(); if (step.done) { break; } parts.push(step.value); } let newElt = document.createElement(\"div\"); newElt.innerHTML = parts.join(\"\"); destElt.parentNode.replaceChild(newElt, destElt); for (let oldScript of newElt.querySelectorAll(\"script\")) { let newScript = document.createElement(\"script\"); newScript.type = oldScript.type; newScript.textContent = oldScript.textContent; oldScript.parentNode.replaceChild(newScript, oldScript); } })(); requestAnimationFrame(() => { observer.observe(destElt); }); } })(); </script><div id=\"compress_html_a78b14de2f1546a78167fccb2bb1dbdf\"><script>window.treescope_decompress_enqueue(\"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\", \"compress_html_a78b14de2f1546a78167fccb2bb1dbdf\");</script><span style=\"color: #aaaaaa; font-family: monospace\">(Loading...)</span></div></div>"
      ],
      "text/plain": [
       "<IPython.core.display.HTML object>"
      ]
     },
     "metadata": {},
     "output_type": "display_data"
    },
    {
     "data": {
      "text/html": [
       "<div id=\"output_dest_75494d8578a64200bb81908f5ea76c84\"><script> (()=>{ const output = document.getElementById(\"output_75494d8578a64200bb81908f5ea76c84\"); const dest = document.getElementById(\"output_dest_75494d8578a64200bb81908f5ea76c84\"); dest.parentNode.replaceChild(output, dest); })(); </script></div>"
      ],
      "text/plain": [
       "{'a': ['before',\n",
       "  'the value was 0',\n",
       "  'after',\n",
       "  1,\n",
       "  2,\n",
       "  3,\n",
       "  'before',\n",
       "  'the value was 4',\n",
       "  'after',\n",
       "  5,\n",
       "  6,\n",
       "  7,\n",
       "  'before',\n",
       "  'the value was 8',\n",
       "  'after',\n",
       "  9],\n",
       " 'b': [10,\n",
       "  11,\n",
       "  'before',\n",
       "  'the value was 12',\n",
       "  'after',\n",
       "  13,\n",
       "  14,\n",
       "  15,\n",
       "  'before',\n",
       "  'the value was 16',\n",
       "  'after',\n",
       "  17,\n",
       "  18,\n",
       "  19]}"
      ]
     },
     "execution_count": 64,
     "metadata": {},
     "output_type": "execute_result"
    }
   ],
   "source": [
    "(\n",
    "    pz.select({\"a\": list(range(10)), \"b\": list(range(10, 20))})\n",
    "      .at_instances_of(int)\n",
    "      .where(lambda x: x % 4 == 0)\n",
    "      .apply_and_inline(lambda x: [\"before\", f\"the value was {x}\", \"after\"])\n",
    ")"
   ]
  },
  {
   "cell_type": "markdown",
   "metadata": {
    "id": "DaIykx2UVgaM"
   },
   "source": [
    "## Taking advantage of key paths"
   ]
  },
  {
   "cell_type": "markdown",
   "metadata": {
    "id": "hoF1YE4VVF6M"
   },
   "source": [
    "Many of the selector functions allow you to use the PyTree path to each selected in addition to its value:"
   ]
  },
  {
   "cell_type": "code",
   "execution_count": 65,
   "metadata": {
    "execution": {
     "iopub.execute_input": "2024-06-27T23:19:28.247560Z",
     "iopub.status.busy": "2024-06-27T23:19:28.247225Z",
     "iopub.status.idle": "2024-06-27T23:19:28.260470Z",
     "shell.execute_reply": "2024-06-27T23:19:28.260288Z"
    },
    "id": "YCK_xieQVi8r"
   },
   "outputs": [
    {
     "data": {
      "text/html": [
       "<div id=\"output_82432be2bb504e339a1b6bd4ae7554c1\"><script> /* penzai.treescope rendering of a Python object (compressed) */ (()=>{ let observer; let lastStep = new Promise((resolve, reject) => { observer = new IntersectionObserver((entries) => { for (const entry of entries) { if (entry.isIntersecting) { resolve(); observer.disconnect(); return; } } }, {rootMargin: \"1000px\"}); }); window.treescope_decompress_enqueue = (encoded, destId) => { const previous = lastStep; const destElt = document.getElementById(destId); lastStep = (async () => { await previous; let blob = new Blob([ Uint8Array.from(atob(encoded), (m) => m.codePointAt(0)) ]); let reader = blob.stream().pipeThrough( new DecompressionStream(\"deflate\") ).pipeThrough( new TextDecoderStream(\"utf-8\") ).getReader(); let parts = []; while (true) { let step = await reader.read(); if (step.done) { break; } parts.push(step.value); } let newElt = document.createElement(\"div\"); newElt.innerHTML = parts.join(\"\"); destElt.parentNode.replaceChild(newElt, destElt); for (let oldScript of newElt.querySelectorAll(\"script\")) { let newScript = document.createElement(\"script\"); newScript.type = oldScript.type; newScript.textContent = oldScript.textContent; oldScript.parentNode.replaceChild(newScript, oldScript); } })(); requestAnimationFrame(() => { observer.observe(destElt); }); } })(); </script><div id=\"compress_html_64c02c0c7a724d33bdb08957be399277\"><script>window.treescope_decompress_enqueue(\"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\", \"compress_html_64c02c0c7a724d33bdb08957be399277\");</script><span style=\"color: #aaaaaa; font-family: monospace\">(Loading...)</span></div></div>"
      ],
      "text/plain": [
       "<IPython.core.display.HTML object>"
      ]
     },
     "metadata": {},
     "output_type": "display_data"
    },
    {
     "data": {
      "text/html": [
       "<div id=\"compress_html_56023f42a45941c8b3123f002df6aef9\"><script>window.treescope_decompress_enqueue(\"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\", \"compress_html_56023f42a45941c8b3123f002df6aef9\");</script></div>"
      ],
      "text/plain": [
       "<IPython.core.display.HTML object>"
      ]
     },
     "metadata": {},
     "output_type": "display_data"
    },
    {
     "data": {
      "text/html": [
       "<div id=\"output_dest_82432be2bb504e339a1b6bd4ae7554c1\"><script> (()=>{ const output = document.getElementById(\"output_82432be2bb504e339a1b6bd4ae7554c1\"); const dest = document.getElementById(\"output_dest_82432be2bb504e339a1b6bd4ae7554c1\"); dest.parentNode.replaceChild(output, dest); })(); </script></div>"
      ],
      "text/plain": [
       "Selection(\n",
       "  selected_by_path=OrderedDict({\n",
       "    (DictKey(key='c'), SequenceKey(idx=0)):\n",
       "      {\n",
       "        'value': <jax.Array([ 0,  1,  2,  3,  4,  5,  6,  7,  8,  9, 10, 11], dtype=int32)>,\n",
       "      },\n",
       "    (DictKey(key='c'), SequenceKey(idx=2), DictKey(key='value')):\n",
       "      3,\n",
       "  }),\n",
       "  remainder={\n",
       "    'a': 1,\n",
       "    'b': <jax.Array([0, 1, 2, 3, 4, 5, 6, 7, 8, 9], dtype=int32)>,\n",
       "    'c': [SelectionHole(path=(DictKey(key='c'), SequenceKey(idx=0))), {'value': <jax.Array([0., 0., 0., 0., 0., 0., 0.], dtype=float32)>}, {'value': SelectionHole(path=(DictKey(key='c'), SequenceKey(idx=2), DictKey(key='value')))}],\n",
       "  },\n",
       ")"
      ]
     },
     "execution_count": 65,
     "metadata": {},
     "output_type": "execute_result"
    }
   ],
   "source": [
    "# Selecting by keypath directly\n",
    "pz.select(my_nested_object).at_keypaths([\n",
    "    (jax.tree_util.DictKey(key='c'), jax.tree_util.SequenceKey(idx=2), jax.tree_util.DictKey(key='value')),\n",
    "    (jax.tree_util.DictKey(key='c'), jax.tree_util.SequenceKey(idx=0)),\n",
    "])"
   ]
  },
  {
   "cell_type": "code",
   "execution_count": 66,
   "metadata": {
    "execution": {
     "iopub.execute_input": "2024-06-27T23:19:28.268363Z",
     "iopub.status.busy": "2024-06-27T23:19:28.268129Z",
     "iopub.status.idle": "2024-06-27T23:19:28.281194Z",
     "shell.execute_reply": "2024-06-27T23:19:28.281311Z"
    },
    "id": "FEf1mpRX1T17"
   },
   "outputs": [
    {
     "data": {
      "text/html": [
       "<div id=\"output_ae1918de54a8450ba6cf7e0a15127721\"><script> /* penzai.treescope rendering of a Python object (compressed) */ (()=>{ let observer; let lastStep = new Promise((resolve, reject) => { observer = new IntersectionObserver((entries) => { for (const entry of entries) { if (entry.isIntersecting) { resolve(); observer.disconnect(); return; } } }, {rootMargin: \"1000px\"}); }); window.treescope_decompress_enqueue = (encoded, destId) => { const previous = lastStep; const destElt = document.getElementById(destId); lastStep = (async () => { await previous; let blob = new Blob([ Uint8Array.from(atob(encoded), (m) => m.codePointAt(0)) ]); let reader = blob.stream().pipeThrough( new DecompressionStream(\"deflate\") ).pipeThrough( new TextDecoderStream(\"utf-8\") ).getReader(); let parts = []; while (true) { let step = await reader.read(); if (step.done) { break; } parts.push(step.value); } let newElt = document.createElement(\"div\"); newElt.innerHTML = parts.join(\"\"); destElt.parentNode.replaceChild(newElt, destElt); for (let oldScript of newElt.querySelectorAll(\"script\")) { let newScript = document.createElement(\"script\"); newScript.type = oldScript.type; newScript.textContent = oldScript.textContent; oldScript.parentNode.replaceChild(newScript, oldScript); } })(); requestAnimationFrame(() => { observer.observe(destElt); }); } })(); </script><div id=\"compress_html_90ee661d29c34eccb24459cdbb305f2d\"><script>window.treescope_decompress_enqueue(\"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\", \"compress_html_90ee661d29c34eccb24459cdbb305f2d\");</script><span style=\"color: #aaaaaa; font-family: monospace\">(Loading...)</span></div></div>"
      ],
      "text/plain": [
       "<IPython.core.display.HTML object>"
      ]
     },
     "metadata": {},
     "output_type": "display_data"
    },
    {
     "data": {
      "text/html": [
       "<div id=\"compress_html_615bcc7444d94af2bc4636759b9ea43d\"><script>window.treescope_decompress_enqueue(\"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\", \"compress_html_615bcc7444d94af2bc4636759b9ea43d\");</script></div>"
      ],
      "text/plain": [
       "<IPython.core.display.HTML object>"
      ]
     },
     "metadata": {},
     "output_type": "display_data"
    },
    {
     "data": {
      "text/html": [
       "<div id=\"output_dest_ae1918de54a8450ba6cf7e0a15127721\"><script> (()=>{ const output = document.getElementById(\"output_ae1918de54a8450ba6cf7e0a15127721\"); const dest = document.getElementById(\"output_dest_ae1918de54a8450ba6cf7e0a15127721\"); dest.parentNode.replaceChild(output, dest); })(); </script></div>"
      ],
      "text/plain": [
       "Selection(\n",
       "  selected_by_path=OrderedDict({\n",
       "    (DictKey(key='c'), SequenceKey(idx=0), DictKey(key='value')):\n",
       "      <jax.Array([ 0,  1,  2,  3,  4,  5,  6,  7,  8,  9, 10, 11], dtype=int32)>,\n",
       "    (DictKey(key='c'), SequenceKey(idx=1), DictKey(key='value')):\n",
       "      <jax.Array([0., 0., 0., 0., 0., 0., 0.], dtype=float32)>,\n",
       "  }),\n",
       "  remainder={\n",
       "    'a': 1,\n",
       "    'b': <jax.Array([0, 1, 2, 3, 4, 5, 6, 7, 8, 9], dtype=int32)>,\n",
       "    'c': [{'value': SelectionHole(path=(DictKey(key='c'), SequenceKey(idx=0), DictKey(key='value')))}, {'value': SelectionHole(path=(DictKey(key='c'), SequenceKey(idx=1), DictKey(key='value')))}, {'value': 3}],\n",
       "  },\n",
       ")"
      ]
     },
     "execution_count": 66,
     "metadata": {},
     "output_type": "execute_result"
    }
   ],
   "source": [
    "# Selecting by keypath and value\n",
    "(\n",
    "    pz.select(my_nested_object)\n",
    "    .at_subtrees_where(\n",
    "        lambda path, subtree: len(path) == 3 and isinstance(subtree, jax.Array),\n",
    "        with_keypath=True)\n",
    ")"
   ]
  },
  {
   "cell_type": "code",
   "execution_count": 67,
   "metadata": {
    "execution": {
     "iopub.execute_input": "2024-06-27T23:19:28.286870Z",
     "iopub.status.busy": "2024-06-27T23:19:28.283196Z",
     "iopub.status.idle": "2024-06-27T23:19:28.290541Z",
     "shell.execute_reply": "2024-06-27T23:19:28.290321Z"
    },
    "id": "W-jfNUWTVaw3"
   },
   "outputs": [
    {
     "data": {
      "text/html": [
       "<div id=\"output_c60afad9f5274b62a8d85f274fc163ae\"><script> /* penzai.treescope rendering of a Python object (compressed) */ (()=>{ let observer; let lastStep = new Promise((resolve, reject) => { observer = new IntersectionObserver((entries) => { for (const entry of entries) { if (entry.isIntersecting) { resolve(); observer.disconnect(); return; } } }, {rootMargin: \"1000px\"}); }); window.treescope_decompress_enqueue = (encoded, destId) => { const previous = lastStep; const destElt = document.getElementById(destId); lastStep = (async () => { await previous; let blob = new Blob([ Uint8Array.from(atob(encoded), (m) => m.codePointAt(0)) ]); let reader = blob.stream().pipeThrough( new DecompressionStream(\"deflate\") ).pipeThrough( new TextDecoderStream(\"utf-8\") ).getReader(); let parts = []; while (true) { let step = await reader.read(); if (step.done) { break; } parts.push(step.value); } let newElt = document.createElement(\"div\"); newElt.innerHTML = parts.join(\"\"); destElt.parentNode.replaceChild(newElt, destElt); for (let oldScript of newElt.querySelectorAll(\"script\")) { let newScript = document.createElement(\"script\"); newScript.type = oldScript.type; newScript.textContent = oldScript.textContent; oldScript.parentNode.replaceChild(newScript, oldScript); } })(); requestAnimationFrame(() => { observer.observe(destElt); }); } })(); </script><div id=\"compress_html_b97556b0cf83427782bd124627706566\"><script>window.treescope_decompress_enqueue(\"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\", \"compress_html_b97556b0cf83427782bd124627706566\");</script><span style=\"color: #aaaaaa; font-family: monospace\">(Loading...)</span></div></div>"
      ],
      "text/plain": [
       "<IPython.core.display.HTML object>"
      ]
     },
     "metadata": {},
     "output_type": "display_data"
    },
    {
     "data": {
      "text/html": [
       "<div id=\"output_dest_c60afad9f5274b62a8d85f274fc163ae\"><script> (()=>{ const output = document.getElementById(\"output_c60afad9f5274b62a8d85f274fc163ae\"); const dest = document.getElementById(\"output_dest_c60afad9f5274b62a8d85f274fc163ae\"); dest.parentNode.replaceChild(output, dest); })(); </script></div>"
      ],
      "text/plain": [
       "{'a': 1,\n",
       " 'b': \"(DictKey(key='b'),)\",\n",
       " 'c': [{'value': \"(DictKey(key='c'), SequenceKey(idx=0), DictKey(key='value'))\"},\n",
       "  {'value': \"(DictKey(key='c'), SequenceKey(idx=1), DictKey(key='value'))\"},\n",
       "  {'value': 3}]}"
      ]
     },
     "execution_count": 67,
     "metadata": {},
     "output_type": "execute_result"
    }
   ],
   "source": [
    "# Setting values by keypath\n",
    "pz.select(my_nested_object).at_instances_of(jax.Array).set_by_path(lambda path: str(path))"
   ]
  },
  {
   "cell_type": "code",
   "execution_count": 68,
   "metadata": {
    "execution": {
     "iopub.execute_input": "2024-06-27T23:19:28.296426Z",
     "iopub.status.busy": "2024-06-27T23:19:28.296181Z",
     "iopub.status.idle": "2024-06-27T23:19:28.300229Z",
     "shell.execute_reply": "2024-06-27T23:19:28.300056Z"
    },
    "id": "vedT4F3FV1Hq"
   },
   "outputs": [
    {
     "data": {
      "text/html": [
       "<div id=\"output_fe21b8dd491a43e18b29d72200a675d0\"><script> /* penzai.treescope rendering of a Python object (compressed) */ (()=>{ let observer; let lastStep = new Promise((resolve, reject) => { observer = new IntersectionObserver((entries) => { for (const entry of entries) { if (entry.isIntersecting) { resolve(); observer.disconnect(); return; } } }, {rootMargin: \"1000px\"}); }); window.treescope_decompress_enqueue = (encoded, destId) => { const previous = lastStep; const destElt = document.getElementById(destId); lastStep = (async () => { await previous; let blob = new Blob([ Uint8Array.from(atob(encoded), (m) => m.codePointAt(0)) ]); let reader = blob.stream().pipeThrough( new DecompressionStream(\"deflate\") ).pipeThrough( new TextDecoderStream(\"utf-8\") ).getReader(); let parts = []; while (true) { let step = await reader.read(); if (step.done) { break; } parts.push(step.value); } let newElt = document.createElement(\"div\"); newElt.innerHTML = parts.join(\"\"); destElt.parentNode.replaceChild(newElt, destElt); for (let oldScript of newElt.querySelectorAll(\"script\")) { let newScript = document.createElement(\"script\"); newScript.type = oldScript.type; newScript.textContent = oldScript.textContent; oldScript.parentNode.replaceChild(newScript, oldScript); } })(); requestAnimationFrame(() => { observer.observe(destElt); }); } })(); </script><div id=\"compress_html_d0db76ebf3b946a69493639ac44f4fb7\"><script>window.treescope_decompress_enqueue(\"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\", \"compress_html_d0db76ebf3b946a69493639ac44f4fb7\");</script><span style=\"color: #aaaaaa; font-family: monospace\">(Loading...)</span></div></div>"
      ],
      "text/plain": [
       "<IPython.core.display.HTML object>"
      ]
     },
     "metadata": {},
     "output_type": "display_data"
    },
    {
     "data": {
      "text/html": [
       "<div id=\"output_dest_fe21b8dd491a43e18b29d72200a675d0\"><script> (()=>{ const output = document.getElementById(\"output_fe21b8dd491a43e18b29d72200a675d0\"); const dest = document.getElementById(\"output_dest_fe21b8dd491a43e18b29d72200a675d0\"); dest.parentNode.replaceChild(output, dest); })(); </script></div>"
      ],
      "text/plain": [
       "{'a': 1,\n",
       " 'b': \"((DictKey(key='b'),), Array([0, 1, 2, 3, 4, 5, 6, 7, 8, 9], dtype=int32))\",\n",
       " 'c': [{'value': \"((DictKey(key='c'), SequenceKey(idx=0), DictKey(key='value')), Array([ 0,  1,  2,  3,  4,  5,  6,  7,  8,  9, 10, 11], dtype=int32))\"},\n",
       "  {'value': \"((DictKey(key='c'), SequenceKey(idx=1), DictKey(key='value')), Array([0., 0., 0., 0., 0., 0., 0.], dtype=float32))\"},\n",
       "  {'value': 3}]}"
      ]
     },
     "execution_count": 68,
     "metadata": {},
     "output_type": "execute_result"
    }
   ],
   "source": [
    "# Setting values by keypath and original value\n",
    "pz.select(my_nested_object).at_instances_of(jax.Array).apply(\n",
    "    lambda path, value: str((path, value)), with_keypath=True\n",
    ")"
   ]
  },
  {
   "cell_type": "markdown",
   "metadata": {
    "id": "orWpcwiJt6q0"
   },
   "source": [
    "You can use `jax.tree_util.keystr` or `pz.pretty_keystr` to turn keypaths into readable strings (sometimes useful for referring to parts of a tree by name):"
   ]
  },
  {
   "cell_type": "code",
   "execution_count": 69,
   "metadata": {
    "execution": {
     "iopub.execute_input": "2024-06-27T23:19:28.304213Z",
     "iopub.status.busy": "2024-06-27T23:19:28.303930Z",
     "iopub.status.idle": "2024-06-27T23:19:31.438620Z",
     "shell.execute_reply": "2024-06-27T23:19:31.438371Z"
    },
    "id": "YF3IntIvNjw7"
   },
   "outputs": [
    {
     "data": {
      "text/html": [
       "<div id=\"output_d3aaefc3bb5349ef9f37e13afe060f62\"><script> /* penzai.treescope rendering of a Python object (compressed) */ (()=>{ let observer; let lastStep = new Promise((resolve, reject) => { observer = new IntersectionObserver((entries) => { for (const entry of entries) { if (entry.isIntersecting) { resolve(); observer.disconnect(); return; } } }, {rootMargin: \"1000px\"}); }); window.treescope_decompress_enqueue = (encoded, destId) => { const previous = lastStep; const destElt = document.getElementById(destId); lastStep = (async () => { await previous; let blob = new Blob([ Uint8Array.from(atob(encoded), (m) => m.codePointAt(0)) ]); let reader = blob.stream().pipeThrough( new DecompressionStream(\"deflate\") ).pipeThrough( new TextDecoderStream(\"utf-8\") ).getReader(); let parts = []; while (true) { let step = await reader.read(); if (step.done) { break; } parts.push(step.value); } let newElt = document.createElement(\"div\"); newElt.innerHTML = parts.join(\"\"); destElt.parentNode.replaceChild(newElt, destElt); for (let oldScript of newElt.querySelectorAll(\"script\")) { let newScript = document.createElement(\"script\"); newScript.type = oldScript.type; newScript.textContent = oldScript.textContent; oldScript.parentNode.replaceChild(newScript, oldScript); } })(); requestAnimationFrame(() => { observer.observe(destElt); }); } })(); </script><div id=\"compress_html_115e42c21107478ba50342ac127e7daa\"><script>window.treescope_decompress_enqueue(\"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\", \"compress_html_115e42c21107478ba50342ac127e7daa\");</script><span style=\"color: #aaaaaa; font-family: monospace\">(Loading...)</span></div></div>"
      ],
      "text/plain": [
       "<IPython.core.display.HTML object>"
      ]
     },
     "metadata": {},
     "output_type": "display_data"
    },
    {
     "data": {
      "text/html": [
       "<div id=\"compress_html_f059e11d2714450f9924685eac953ee9\"><script>window.treescope_decompress_enqueue(\"eNrtXd1u28oRvu9TLBQgkRBZ2f8f/wFt0gLnJhdFgV4YhrAkl5ZqWtShqMQ+p73veY/2AfoKfZTzJJ0lKYmUY8v2cSI3WAORRHJmd2d2Zrj89GlznEw/oUV5k7mTXjJdzDN7c4hm+cz10DQ56aV5MU5c6orCJeOUChMLq5wimGsVRbFNrEy4MowSonDv9Hgxt7P6FcWZXSxOep8nbjYu8uUsKYvpvBFZ9XhwEGV5fHkQ51leHKJXSaS5sEer01FeJK44WMQ2c4eIHPW6Tad5ltgoc+NZnji4ltnIZafH09l8WaLyZg4dxBMXX0b5de+LOuMyv7jIvOq7Sqnb/ARaKLLp7HJc2uLClT2U2NIeXLqbuS0nJ72t0VQ2gJdAw6Eyn1fvk3gyBqHYjTOXlr2HuKa5+OPSZjN75cbzwqXT697p3M1+stNRWTi3iPO5G8ELjGRRunFqsyyy8eXo+F09AfXbx7z886r1uTe6371+/K7xWLvfRQkNgRnxZJolhYPzjV31ZPTukb4lmhfTi+nMZuPCzYuTRzl31NH9kqvHC7BrdtE7ff3qmqqj11l59Dd7Pfp9UdgblGa5LRntMzpEkg/Qr7/88wCPMKYS/fc/eEQEOvv1l3/DKSqGcPFf/sO5j/ufXJEf0jHE9+uL8qhuuuu14e05hPFkdr5wSe8UrYRvCblrOJN4mfa1N34Wo2VZ5rM3KJ+9z6bx5cmbzSRPQAei1UuNY3+xX06mi8Gb2l3+9Emvn9mrKLGoyPPysHrtem/Q2+TbWu0Qvdmp9+YINRp2NstLW07zGei9B3Xkpwk+r3P+3T1vT4gYKD5PjJdp8sVomS2vIt8DgSDgVCgtGFVS/z/P7TR5ysyC1h7ntSrLT5xZr/ttbwF16MT51ZWbleN7pno7DF59MVZu1XRfsBrBqm7dV5jv630K52Zlq2rfe713+nwTUHvIRlHhPkEphiJcXUB15VwX5KZGQ0m9J4T2mEresqckU6X3XOn00FTb8tMw+PJBbuss0KIc7L/aWqPBSCawSBs8biZgmHeu4nbm1mIZwZLbFYszfN49+Oz8aBajTzZbupFXG1ufSvuogKv8/i3FsXUj9WXiAUG7LqLPuq67f2S3K9Q3KsmVff2zMz92LrXWAkz0BxQbQygaIgSGUq04M3qIRqNRfZljgyXXw9+h5g9OEkJByNQNEMUFpkadr0XOoCUiGVeYqlqEYq2UpHUfHAusJdv0gbHWMAbR6QPEDNFYVDoES5CQutWHb5YRrSmu+8DQPjdKDxtlKoghrT6MIkII0u2DgbXQdj1Igo3kRmz68Lodm7ThBHzXOIaAuJLV+MA+SoUWTX9eVmHBCTVdv2FwpVH1gCkWkhONun6DUFNKEVQPmlLDmLep8gG0yQ3a9IGFUFSqLZsUpUTy2m8YG62VVl2/gfclwcqshoE18wde3nBwCKXtuVFGGKa6dihtmER1zIDXpTJGn58PUVIVhCaJBk+4GSXTT6fHj4AMiIRYxASW25ZxkRLLGRVxqkjMGE9icTdksE7KMWTXvTX29hLkI6yxkm7B+DtKnS2XhVsc+tqxOhjny/LwiYUE9T8Xdj6HZ1C0LlCDxyxxxjDsu4x6EjYQw/1t5C+A067dYhsOWHul/+Aq1qnx8ASEXn1Njz5v7JlUYmGSNIIc45gZSAkOeQFxyFjMJQtwVYCrXhhcJfmwShzImyppcJUz8N5kDD5HVbZIHtCp7xqdMgbWK0oGdCqgUwGdCuhUQKcCOvWC0Cl6PoqmNkBTX4SmHr6Ge9lIFB4N0W/8t8Ikvpem9oGgKOm0xPC8SmjMnZU2lVQpa3lKnIid3geC0jze747wAJE82mXPGz3OCozTOLJKGk5opJk0EXbGCI1j+BgwkICBvDwMpPPVDuE1fsjW+CFd4Yd0gx/yMTYygCLfNSjiv6LCGAdQJIAiARQJoEgARQIosl9QhAbKzqNwkaeu614+ZYcYyQRnvGGqKK2VqGkhWEmiKDUtyobGIGHQhrJRMTskg0ZqygYhXAqu6BadBk5jZlBDC5Gaas9o8S0KbTRf04J8C1xxTxXq9iG15kTXdBrMsBGguEU98WQjRWomEBFGESJVfSCFYty0KDSYChiyQl16C8GwSKMNlUhSyakmd1B2KgaNZBxz1TSowFWrA8IEqxyy9hsR2GjwcdsmQrX03+83dBowWxi6TdnBSihBmiEJChY2dCrp2TOq7TeBwXzcpexQDK0K0cyNFgwOzDadSsKck5qyQ6RRMJRmTJwQTzzY2EE0BAC4pUvZ4dRQ1dCCqB8xTN9eKDva6dgwgyWzmEfURcr/wCcSicOp1jbdD+B0D8HkEYUk4FHP7dFnjj0pHNUYC0JTjjU1Lo00VIgkoZYTlwa4KsBVgbIT0KkXiE5porhhnAd0KqBTAZ0K6FRApwI69YLQqUDZCZSdQNn5NggKVZRHTkcUW8tVRCLjopjD6lClVkdcBcpOoOzcR9mJBXEuYRiCxmAVOZFgK1SSJFomJgkYSMBAXiBlh8gNftjAh3INH6oVfKg28CEZw3NzwES+a0xEYK65CT9jCphIwEQCJhIwkYCJ7BkT4YGx8zjGztOWdS+csFPtzYIpww0phGLDRLUZjqdyGCyMYW1SiDYUEyq6xBMthJKqJnkQZiTGQnZJIZQoBWLNdjISlkMr4glVmEhJWKsPGAMV2HQJO5pjXnGHKv9LBk2ILVKQkEpIXnN6YMUlMeGyIcMoTSq2z7oPo7VRhnfJLURU1jW74lCOtbmPsGOw90/DISLYaM9kafb0EZzJ9t40RDMmTNdvFMwmRjTEJWMEYW2CUGUTNQLrZlsdbxOXou6DMPhT3ulrMg30oDXqkpCI0MxQ0+zLI4Q3amsfH8qhJWp4MzeSCKYaZhWBlSsRomWH1ILhrbkh4CcK3m4IW1hD2Ju9EHaEiomhDkLWEq78RifKRcI5YiD6ogi/CMLO0+pIAKOe2aHPG3kRi5SzaRqzFHLUptYxAgsPSaJIKZ3qAFUFqGpvUNWzfCcC9bz66xb1gFh9t4gVVRzu5WFb6IBYBcQqIFYBsQqI1ddArG6nxzolvtKK5W7M5bGLfi545CyEj0wpt0Jp5xThRJnIOCtVso/HzeZhaNdX9ST8AOTxLnvAI+MiBnvL035/gE5O0c9xPlvAbba6a/yQLNAJOus9/D8RGqLew7cPbgvv3O+1LbxzW5228M5dVNrCO38/1RHe9YOXtvBOXlF3zDtoJG3hnRBSW3jnU39beGe1OD+qw8UXfYiUz7AmyT+3Hmohhsbro7GX6qMkj5c+uP3FP2bOf/zDzQ9Jfx1yZ/h8MDhCdctpYS+8CLS+VowLyAP3oTn8UyPRX+v4ft5nUABBaaU/gsLhZsl7v1bqV/eo2Et8hOVivyyWzvcIlRL1M1eiKSjiI3g73iTCKHOzi3ICZ9++HaCfkZerL7Z7udOm6Tl04HUW+bKI3Qco2Sd3uqKq2T30Fm3p14cjeI7L4Nb212k56a+bG6XTYrFqpTITFDZXC3eVf3LeR/+ob9HtRtYO85cHXghKRF0WVuXh1tS62Y9Lt3Qfmlj5i7uC9kq36A/Wuv8DXwjBIA==\", \"compress_html_f059e11d2714450f9924685eac953ee9\");</script></div>"
      ],
      "text/plain": [
       "<IPython.core.display.HTML object>"
      ]
     },
     "metadata": {},
     "output_type": "display_data"
    },
    {
     "data": {
      "text/html": [
       "<div id=\"output_dest_d3aaefc3bb5349ef9f37e13afe060f62\"><script> (()=>{ const output = document.getElementById(\"output_d3aaefc3bb5349ef9f37e13afe060f62\"); const dest = document.getElementById(\"output_dest_d3aaefc3bb5349ef9f37e13afe060f62\"); dest.parentNode.replaceChild(output, dest); })(); </script></div>"
      ],
      "text/plain": [
       "MLP( # Sequential\n",
       "  sublayers=[\n",
       "    Affine( # Sequential\n",
       "      sublayers=[\n",
       "        Linear(weights=Parameter(value=<NamedArray float32(| features:32, features_out:64) ≈-0.0026 ±0.15 [≥-0.25, ≤0.25] nonzero:2_048 (wrapping jax.Array)>, name='Affine_0.Linear.weights'), in_axis_names=('features',), out_axis_names=('features_out',)),\n",
       "        RenameAxes(old=('features_out',), new=('features',)),\n",
       "        AddBias(bias=Parameter(value=<NamedArray float32(| features:64) ≈0.0 ±0.0 [≥0.0, ≤0.0] zero:64 (wrapping jax.Array)>, name='Affine_0.AddBias.bias'), new_axis_names=()),\n",
       "      ],\n",
       "    ),\n",
       "    Elementwise(fn=jax.nn.relu),\n",
       "    Affine( # Sequential\n",
       "      sublayers=[Linear(weights=Parameter(value=<NamedArray float32(| features:64, features_out:64) ≈-0.0014 ±0.13 [≥-0.22, ≤0.22] nonzero:4_096 (wrapping jax.Array)>, name='Affine_1.Linear.weights'), in_axis_names=('features',), out_axis_names=('features_out',)), RenameAxes(old=('features_out',), new=('features',)), AddBias(bias=Parameter(value=<NamedArray float32(| features:64) ≈0.0 ±0.0 [≥0.0, ≤0.0] zero:64 (wrapping jax.Array)>, name='Affine_1.AddBias.bias'), new_axis_names=())],\n",
       "    ),\n",
       "    Elementwise(fn=jax.nn.relu),\n",
       "    Affine( # Sequential\n",
       "      sublayers=[Linear(weights=Parameter(value=<NamedArray float32(| features:64, features_out:16) ≈-0.004 ±0.16 [≥-0.27, ≤0.27] nonzero:1_024 (wrapping jax.Array)>, name='Affine_2.Linear.weights'), in_axis_names=('features',), out_axis_names=('features_out',)), RenameAxes(old=('features_out',), new=('features',)), AddBias(bias=Parameter(value=<NamedArray float32(| features:16) ≈0.0 ±0.0 [≥0.0, ≤0.0] zero:16 (wrapping jax.Array)>, name='Affine_2.AddBias.bias'), new_axis_names=())],\n",
       "    ),\n",
       "  ],\n",
       ")"
      ]
     },
     "execution_count": 69,
     "metadata": {},
     "output_type": "execute_result"
    }
   ],
   "source": [
    "mlp = pz.nn.initialize_parameters(\n",
    "    simple_mlp.MLP.from_config(feature_sizes=[32, 64, 64, 16]),\n",
    "    jax.random.PRNGKey(0),\n",
    ")\n",
    "mlp"
   ]
  },
  {
   "cell_type": "code",
   "execution_count": 70,
   "metadata": {
    "execution": {
     "iopub.execute_input": "2024-06-27T23:19:31.456155Z",
     "iopub.status.busy": "2024-06-27T23:19:31.455920Z",
     "iopub.status.idle": "2024-06-27T23:19:31.461717Z",
     "shell.execute_reply": "2024-06-27T23:19:31.461539Z"
    },
    "id": "nFT8THeWW2in"
   },
   "outputs": [
    {
     "data": {
      "text/html": [
       "<div id=\"output_fc7632916a9f4dc6b303d84f690be704\"><script> /* penzai.treescope rendering of a Python object (compressed) */ (()=>{ let observer; let lastStep = new Promise((resolve, reject) => { observer = new IntersectionObserver((entries) => { for (const entry of entries) { if (entry.isIntersecting) { resolve(); observer.disconnect(); return; } } }, {rootMargin: \"1000px\"}); }); window.treescope_decompress_enqueue = (encoded, destId) => { const previous = lastStep; const destElt = document.getElementById(destId); lastStep = (async () => { await previous; let blob = new Blob([ Uint8Array.from(atob(encoded), (m) => m.codePointAt(0)) ]); let reader = blob.stream().pipeThrough( new DecompressionStream(\"deflate\") ).pipeThrough( new TextDecoderStream(\"utf-8\") ).getReader(); let parts = []; while (true) { let step = await reader.read(); if (step.done) { break; } parts.push(step.value); } let newElt = document.createElement(\"div\"); newElt.innerHTML = parts.join(\"\"); destElt.parentNode.replaceChild(newElt, destElt); for (let oldScript of newElt.querySelectorAll(\"script\")) { let newScript = document.createElement(\"script\"); newScript.type = oldScript.type; newScript.textContent = oldScript.textContent; oldScript.parentNode.replaceChild(newScript, oldScript); } })(); requestAnimationFrame(() => { observer.observe(destElt); }); } })(); </script><div id=\"compress_html_402bddaddb4c49b494739b77d15864c6\"><script>window.treescope_decompress_enqueue(\"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\", \"compress_html_402bddaddb4c49b494739b77d15864c6\");</script><span style=\"color: #aaaaaa; font-family: monospace\">(Loading...)</span></div></div>"
      ],
      "text/plain": [
       "<IPython.core.display.HTML object>"
      ]
     },
     "metadata": {},
     "output_type": "display_data"
    },
    {
     "data": {
      "text/html": [
       "<div id=\"output_dest_fc7632916a9f4dc6b303d84f690be704\"><script> (()=>{ const output = document.getElementById(\"output_fc7632916a9f4dc6b303d84f690be704\"); const dest = document.getElementById(\"output_dest_fc7632916a9f4dc6b303d84f690be704\"); dest.parentNode.replaceChild(output, dest); })(); </script></div>"
      ],
      "text/plain": [
       "[(GetAttrKey(name='sublayers'),\n",
       "  SequenceKey(idx=0),\n",
       "  GetAttrKey(name='sublayers'),\n",
       "  SequenceKey(idx=0),\n",
       "  GetAttrKey(name='weights'),\n",
       "  GetAttrKey(name='value'),\n",
       "  GetAttrKey(name='data_array')),\n",
       " (GetAttrKey(name='sublayers'),\n",
       "  SequenceKey(idx=0),\n",
       "  GetAttrKey(name='sublayers'),\n",
       "  SequenceKey(idx=2),\n",
       "  GetAttrKey(name='bias'),\n",
       "  GetAttrKey(name='value'),\n",
       "  GetAttrKey(name='data_array')),\n",
       " (GetAttrKey(name='sublayers'),\n",
       "  SequenceKey(idx=2),\n",
       "  GetAttrKey(name='sublayers'),\n",
       "  SequenceKey(idx=0),\n",
       "  GetAttrKey(name='weights'),\n",
       "  GetAttrKey(name='value'),\n",
       "  GetAttrKey(name='data_array')),\n",
       " (GetAttrKey(name='sublayers'),\n",
       "  SequenceKey(idx=2),\n",
       "  GetAttrKey(name='sublayers'),\n",
       "  SequenceKey(idx=2),\n",
       "  GetAttrKey(name='bias'),\n",
       "  GetAttrKey(name='value'),\n",
       "  GetAttrKey(name='data_array')),\n",
       " (GetAttrKey(name='sublayers'),\n",
       "  SequenceKey(idx=4),\n",
       "  GetAttrKey(name='sublayers'),\n",
       "  SequenceKey(idx=0),\n",
       "  GetAttrKey(name='weights'),\n",
       "  GetAttrKey(name='value'),\n",
       "  GetAttrKey(name='data_array')),\n",
       " (GetAttrKey(name='sublayers'),\n",
       "  SequenceKey(idx=4),\n",
       "  GetAttrKey(name='sublayers'),\n",
       "  SequenceKey(idx=2),\n",
       "  GetAttrKey(name='bias'),\n",
       "  GetAttrKey(name='value'),\n",
       "  GetAttrKey(name='data_array'))]"
      ]
     },
     "execution_count": 70,
     "metadata": {},
     "output_type": "execute_result"
    }
   ],
   "source": [
    "[\n",
    "  key for key in\n",
    "  pz.select(mlp).at_instances_of(jax.Array).selected_by_path.keys()\n",
    "]"
   ]
  },
  {
   "cell_type": "code",
   "execution_count": 71,
   "metadata": {
    "execution": {
     "iopub.execute_input": "2024-06-27T23:19:31.466915Z",
     "iopub.status.busy": "2024-06-27T23:19:31.466683Z",
     "iopub.status.idle": "2024-06-27T23:19:31.470752Z",
     "shell.execute_reply": "2024-06-27T23:19:31.470870Z"
    },
    "id": "qzrhXuqcuYjA"
   },
   "outputs": [
    {
     "data": {
      "text/html": [
       "<div id=\"output_c494e8d8ad61472b8e35560b11dfbfc0\"><script> /* penzai.treescope rendering of a Python object (compressed) */ (()=>{ let observer; let lastStep = new Promise((resolve, reject) => { observer = new IntersectionObserver((entries) => { for (const entry of entries) { if (entry.isIntersecting) { resolve(); observer.disconnect(); return; } } }, {rootMargin: \"1000px\"}); }); window.treescope_decompress_enqueue = (encoded, destId) => { const previous = lastStep; const destElt = document.getElementById(destId); lastStep = (async () => { await previous; let blob = new Blob([ Uint8Array.from(atob(encoded), (m) => m.codePointAt(0)) ]); let reader = blob.stream().pipeThrough( new DecompressionStream(\"deflate\") ).pipeThrough( new TextDecoderStream(\"utf-8\") ).getReader(); let parts = []; while (true) { let step = await reader.read(); if (step.done) { break; } parts.push(step.value); } let newElt = document.createElement(\"div\"); newElt.innerHTML = parts.join(\"\"); destElt.parentNode.replaceChild(newElt, destElt); for (let oldScript of newElt.querySelectorAll(\"script\")) { let newScript = document.createElement(\"script\"); newScript.type = oldScript.type; newScript.textContent = oldScript.textContent; oldScript.parentNode.replaceChild(newScript, oldScript); } })(); requestAnimationFrame(() => { observer.observe(destElt); }); } })(); </script><div id=\"compress_html_048133608a0e47cfb302ffdb44e901d1\"><script>window.treescope_decompress_enqueue(\"eNrdWQtT2zoW/iuqO3NJLiTkTQmPWSfkRQkUQgvl3k5GsWVbxJGMLCeEO/z3PZIT8oSWLbvbKcyQWD6PT+ctsR/KsU8O01IQElo8IF3BuUT/oICHVFLOykgQH0s6JHvI4UymHDyg/riMBpzxMMAWrI88KklKP5RRIGDFp6FMadEpOQ5glXEGyz1s9V3BI2anLO5zUY5Z99DkqecDAcijtvTKyKESyJgkTO6hARYuZSmfOLKMcpandDCS8gh1PVjJpot76HF/O97OfmgJGshDRB2UGFFm89Fsh+jg4AABBOKAADsJe12lQP887q0sp7sBYTZlrmkpy4RA9te375I1MbN9JZJFvr+G2iWyu2T9A5SYGr0reRIdHALI7T/RCed9cIJA0iNIUzJukzT6cxv5RKIJ7xyrdg0oT8Tv3h0gm1vRAAya7nF7jP74A71Tb9KWj8PwBJyWVgbHlIUJYxGUkUTKVFMdiinAAiTVfDLQHnoEzTISTL+ExzV7FRHrcM7UBkdc9Cc7A5WhBGRXsKReLSxLaqnFgAjY+AAzi6QZHyWST1tbeYNSMdM+yucU5HUxsOzKtE+YKz0IDZRZFxEv+zTet7IA8UMyg+5FTGH/rvLQo45UW9Ic6ssj/P4ohsSUUpC7iITSZHSAFUVd4AFJxHZNJtd7ZBlKEIVe7Ju9HzHcFMRBbIrXmO7HYa8FThhwReSIOEQIYl+SQQBhT8LVAAp8tfgU+MAmxh3iE0tyYfo+BPqEd74IRqwbQqQayT2dcAmVXyAJcUcLVBuFz7m8EWTAh2Qha+ZkPJcJiSlWJd8R/IGo5NCS48K3CDdhxIVNiVQc8DS/NUsQ2MYkIedp4Vta1WEgjpXop8k6uZfVWNnc69ninoYT5/qpKjeCgLUsUoX0sxMgYUsRKD896yvJXdePy0hXV38JwHSVgxXiyy1EhiB9YgoVdvo53SdjlZGGMKalB4jnbB7LTRhPMrsDAGhMcTwi6AdxI9i36RBpxoPluoYk7gFgcn9gZAzEGSgF9GyObj3+hPRoOEVuQMuJG6nuZN0QKJirY1A3tvc4ny1mVYtKO9y3cQ/Eqdr9TKN9RItk3RgBUNs0BOuPpw11mRAdIh/3iF8u9wjELZlDYOmfvbX64q6ayqq2Omm+mb2ZLsp0r+35XHXnZ3V6kABiVbONRT8k2AVzslXuMuMysbTk4TBxqGUerrWD5ilbHrH60MCT6M/kDINiXc80pV9AqEO8jDb+zhV71sb/E94i07MgS/8DkMqPSnEkQuXAgFNAINbopeHbqdWpoBWldE6Fz8X422idbU/VulUtaRp2HSpC2eWsq8J/TWq9lErpXFFl01pXoZ+GH3t8GaLa1cKcrBP6Ma3KGxjW7lqqZr9RtMzVoklhWFBtYd9KwJwO01g2uNcleQkHNJT/GpQeFzYEUgzF5hKUKhjoPcmoX2WU0IOWZndHWDAo1d1pDE7LpeNgK5tfQxhA6wLXY1vNNCkxOX4oQ0/2P1lKZdI6AmZnnrI+smCRcgW2qWrR2XzRJu4W4gIzl6AMyqRLlgcNFZ7DuOXGSyg24CqUlRh4M5MueHO6mcf0yCOsC0bycRCCUb/bkV6t/AUNcR/SOjQRuQ9gmnyW5i1wrFMx2ei/JsdhS5WChaPxRhvGMEGxjzrjQY/D/HkWSQXLRtNJq8qD8cbkRK0nByUWTjH+ZG00OdcWMhCsobDKKBJ+wsYSl9X77RF3nNxeD4ekVNiyM7uNtmtWTP3TOjdNrr9VLkbwt1k3zZr50k9lYJpun3+0W7VKdfTVNC+/Vo/NdqtSNevufat54smw0qbEzdePrnMnrdLXYSeI6Kd28TJ7fN26+NIeXrUf5KdxvV7dvHL7l7RylPHo0Xl0XLMbt5lmb9sZtuzg7mPJu7ui9Dxqs4bXdD5L83OpcioKZr3F+rWS9TmK2OZF8c4K+6OhU/e37+7dGv/g9o5HjQ/ZprnNzIviiRDH2YtN9yFzYWfMYyfrnu5UR43bnJvh4+hiZ2dQy5ZGzevdM9cNyGV/XCCt3kPR6omzhsSme946HR3hcByeR63W9VWtPjI/nQetr/bn7e1Nd+dy5zovM87HT3fmsAgyT8zTHbM9Mgfuw0VnM7rpkNr1fc4pWQ+nhYvmuBhVzI8PldugHuRp87xay9xEnwqdHeZUTmrNentg0s0Pw1rOY1lvZ7P3ZXR9O2qK4VHjc5XdOrWaKzfPrBvf3ynuVo9HlQ/ebqHdbnTyjRvTHbSKt5XzXXnZIM3dWqXSauSP3MLF9ldr3DMb4NMvH7fN8wY2Sbvqm82H2pl7I91S5ZN7dtY6qvTpeZHUK9fVSt2imcATPGAQG8FN7Sj7kO13nKojvfFH1rRxPWw6mdNBo3Zaqtjm3ZcvAZZh52Zg25ju5pyH3cJnentXCgaidMa/VjtUNAbD40a+c9XJ12s5q3LuXG42fR40CvVwVMTuXekDvSGdUz+4YpVmi9htQaKru0Z1kL2qi36nc1/Mla6uwpEJiJJIn+BlYkOH9UbyLdIXJvdxL5KSs7VFavZ63ahlIGOJCto/VOT1xH+TbME29v7TIgDJ3utT4NTFYACnDA+qexlhJoGdQo7bTzdkTw1sZTiLuekDVJJMepcMlncZT3VrdrF+SJ9xpkc47Fo+VYZ94seOjGfEpdPFSzqXeBZVzpseDbFIpFKq2qUwA8fqe4Hk/LJSoi5MVKOczGBaLMqGiIDFUtC6eCRft5UnBOAYSux3i0i0SvSODgIuJGYrsnuC93XnCsazEfr71p1jm7Pn05yyfKW5crj29IWK5o+3BgdrqG7MQolYw+ItG+zkkqvAA7IJArUWEqlBKZMqHHiEqUQMD6mLJRdw6KZBj2Nhp0eCSnIJM3NiJgs8MZE1O5zDgJQw5uyt7yGIvKQDAo55uvhY4ZtepCyxPm6hXCaT0aXBwhJGooSed9frnTOqMQO3eNWRAPe+R3VMfQgGyZEifqdzEmYfFmHfH8M0EUqCbRUTm/O2m1wxzO4XVChNLxgWT8fLA5pxuB+XsX3KgkgidRNzYOjC1eP3xlohkxoHL+P6dri/rZkX9XogSYCKflfC7EakoRGn+mQM1dw7MIzDvwAwMAD7BMI8+8p0brz03nid7r8y35Y45i9KjMM/3t/ndvbSYdSDMk1ECPSLD/FAFKaH2I+IDtkuFgKPY8anfemPrQVFi/OkcYimxCtE02FvEenGLFk3EGdVFZMHGy8koL4ZSm6gp6pxYCR8POjZWN9hlfVf2FPSQDq3D4y5CgONYz2xahTLJRGIdTgqG8P3Ce7DRWssfbydS7M/49Lct3QPWtvv48/sa/yZ/RX9mXulP3O/e4rmXuPS3K/o0vzPuPS3S9H8a/yZ/xX9WXilPwu/e4oWXuPSwq/o0uLPuPQ1KfqSp7Z+DW8WX+PN4tt5M/749iNGmHLYdPj8mey5f04nkk8nhn8D+rt60g==\", \"compress_html_048133608a0e47cfb302ffdb44e901d1\");</script><span style=\"color: #aaaaaa; font-family: monospace\">(Loading...)</span></div></div>"
      ],
      "text/plain": [
       "<IPython.core.display.HTML object>"
      ]
     },
     "metadata": {},
     "output_type": "display_data"
    },
    {
     "data": {
      "text/html": [
       "<div id=\"output_dest_c494e8d8ad61472b8e35560b11dfbfc0\"><script> (()=>{ const output = document.getElementById(\"output_c494e8d8ad61472b8e35560b11dfbfc0\"); const dest = document.getElementById(\"output_dest_c494e8d8ad61472b8e35560b11dfbfc0\"); dest.parentNode.replaceChild(output, dest); })(); </script></div>"
      ],
      "text/plain": [
       "['.sublayers[0].sublayers[0].weights.value.data_array',\n",
       " '.sublayers[0].sublayers[2].bias.value.data_array',\n",
       " '.sublayers[2].sublayers[0].weights.value.data_array',\n",
       " '.sublayers[2].sublayers[2].bias.value.data_array',\n",
       " '.sublayers[4].sublayers[0].weights.value.data_array',\n",
       " '.sublayers[4].sublayers[2].bias.value.data_array']"
      ]
     },
     "execution_count": 71,
     "metadata": {},
     "output_type": "execute_result"
    }
   ],
   "source": [
    "[\n",
    "  jax.tree_util.keystr(key) for key in\n",
    "  pz.select(mlp).at_instances_of(jax.Array).selected_by_path.keys()\n",
    "]"
   ]
  },
  {
   "cell_type": "code",
   "execution_count": 72,
   "metadata": {
    "execution": {
     "iopub.execute_input": "2024-06-27T23:19:31.476343Z",
     "iopub.status.busy": "2024-06-27T23:19:31.476111Z",
     "iopub.status.idle": "2024-06-27T23:19:31.480003Z",
     "shell.execute_reply": "2024-06-27T23:19:31.480120Z"
    },
    "id": "Ots2ZBckNwJo"
   },
   "outputs": [
    {
     "data": {
      "text/html": [
       "<div id=\"output_fe98264d892f423796986795f39d4727\"><script> /* penzai.treescope rendering of a Python object (compressed) */ (()=>{ let observer; let lastStep = new Promise((resolve, reject) => { observer = new IntersectionObserver((entries) => { for (const entry of entries) { if (entry.isIntersecting) { resolve(); observer.disconnect(); return; } } }, {rootMargin: \"1000px\"}); }); window.treescope_decompress_enqueue = (encoded, destId) => { const previous = lastStep; const destElt = document.getElementById(destId); lastStep = (async () => { await previous; let blob = new Blob([ Uint8Array.from(atob(encoded), (m) => m.codePointAt(0)) ]); let reader = blob.stream().pipeThrough( new DecompressionStream(\"deflate\") ).pipeThrough( new TextDecoderStream(\"utf-8\") ).getReader(); let parts = []; while (true) { let step = await reader.read(); if (step.done) { break; } parts.push(step.value); } let newElt = document.createElement(\"div\"); newElt.innerHTML = parts.join(\"\"); destElt.parentNode.replaceChild(newElt, destElt); for (let oldScript of newElt.querySelectorAll(\"script\")) { let newScript = document.createElement(\"script\"); newScript.type = oldScript.type; newScript.textContent = oldScript.textContent; oldScript.parentNode.replaceChild(newScript, oldScript); } })(); requestAnimationFrame(() => { observer.observe(destElt); }); } })(); </script><div id=\"compress_html_a9ae86f91498466981b4c32f6db090b2\"><script>window.treescope_decompress_enqueue(\"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\", \"compress_html_a9ae86f91498466981b4c32f6db090b2\");</script><span style=\"color: #aaaaaa; font-family: monospace\">(Loading...)</span></div></div>"
      ],
      "text/plain": [
       "<IPython.core.display.HTML object>"
      ]
     },
     "metadata": {},
     "output_type": "display_data"
    },
    {
     "data": {
      "text/html": [
       "<div id=\"output_dest_fe98264d892f423796986795f39d4727\"><script> (()=>{ const output = document.getElementById(\"output_fe98264d892f423796986795f39d4727\"); const dest = document.getElementById(\"output_dest_fe98264d892f423796986795f39d4727\"); dest.parentNode.replaceChild(output, dest); })(); </script></div>"
      ],
      "text/plain": [
       "['MLP.sublayers[0]/Affine.sublayers[0]/Linear.weights/Parameter.value/NamedArray.data_array',\n",
       " 'MLP.sublayers[0]/Affine.sublayers[2]/AddBias.bias/Parameter.value/NamedArray.data_array',\n",
       " 'MLP.sublayers[2]/Affine.sublayers[0]/Linear.weights/Parameter.value/NamedArray.data_array',\n",
       " 'MLP.sublayers[2]/Affine.sublayers[2]/AddBias.bias/Parameter.value/NamedArray.data_array',\n",
       " 'MLP.sublayers[4]/Affine.sublayers[0]/Linear.weights/Parameter.value/NamedArray.data_array',\n",
       " 'MLP.sublayers[4]/Affine.sublayers[2]/AddBias.bias/Parameter.value/NamedArray.data_array']"
      ]
     },
     "execution_count": 72,
     "metadata": {},
     "output_type": "execute_result"
    }
   ],
   "source": [
    "[\n",
    "  pz.pretty_keystr(key, mlp) for key in\n",
    "  pz.select(mlp).at_instances_of(jax.Array).selected_by_path.keys()\n",
    "]"
   ]
  },
  {
   "cell_type": "code",
   "execution_count": null,
   "metadata": {
    "id": "2FQPmfO2Nyof"
   },
   "outputs": [],
   "source": []
  }
 ],
 "metadata": {
  "colab": {
   "name": "Selectors and selections",
   "toc_visible": true
  },
  "kernelspec": {
   "display_name": "Python 3",
   "name": "python3"
  },
  "language_info": {
   "codemirror_mode": {
    "name": "ipython",
    "version": 3
   },
   "file_extension": ".py",
   "mimetype": "text/x-python",
   "name": "python",
   "nbconvert_exporter": "python",
   "pygments_lexer": "ipython3",
   "version": "3.10.12"
  }
 },
 "nbformat": 4,
 "nbformat_minor": 0
}
