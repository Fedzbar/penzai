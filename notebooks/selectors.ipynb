{
 "cells": [
  {
   "cell_type": "markdown",
   "metadata": {
    "id": "DfejMHs4lr8V"
   },
   "source": [
    "*Copyright 2024 The Penzai Authors.*\n",
    "\n",
    "*Licensed under the Apache License, Version 2.0 (the \"License\"); you may not use this file except in compliance with the License.\n",
    "You may obtain a copy of the License at*\n",
    "\n",
    "> http://www.apache.org/licenses/LICENSE-2.0\n",
    "\n",
    "*Unless required by applicable law or agreed to in writing, software\n",
    "distributed under the License is distributed on an \"AS IS\" BASIS,\n",
    "WITHOUT WARRANTIES OR CONDITIONS OF ANY KIND, either express or  implied.\n",
    "See the License for the specific language governing permissions and\n",
    "limitations under the License.*\n",
    "\n",
    "---"
   ]
  },
  {
   "cell_type": "markdown",
   "metadata": {
    "id": "USGIPdLYDzSo"
   },
   "source": [
    "[![Open in Colab](https://colab.research.google.com/assets/colab-badge.svg)](https://colab.research.google.com/github/google-deepmind/penzai/blob/main/notebooks/selectors.ipynb) [![Open in Kaggle](https://kaggle.com/static/images/open-in-kaggle.svg)](https://kaggle.com/kernels/welcome?src=https://github.com/google-deepmind/penzai/blob/main/notebooks/selectors.ipynb)"
   ]
  },
  {
   "cell_type": "markdown",
   "metadata": {
    "id": "RbZ02bVnH7LL"
   },
   "source": [
    "# Selectors and Selections"
   ]
  },
  {
   "cell_type": "markdown",
   "metadata": {
    "id": "FG4w_VU1H_WN"
   },
   "source": [
    "Penzai is designed to make it easy to make targeted modifications to models and parameter trees. For this purpose, Penzai provides a powerful \"selection\" system to allow you to identify, visualize, and modify arbitrary JAX PyTrees. In short, `pz.select` enables `.at[...].set(...)`-style modification for arbitrary PyTree types.\n",
    "\n",
    "This notebook describes the basics of Penzai's selection object and shows how you can use it to make a variety of modifications.\n"
   ]
  },
  {
   "cell_type": "markdown",
   "metadata": {
    "id": "SHr2rnIL8DzM"
   },
   "source": [
    "## Setup"
   ]
  },
  {
   "cell_type": "markdown",
   "metadata": {
    "id": "VkW4lYKAu-oR"
   },
   "source": [
    "We'll start by setting up the environment."
   ]
  },
  {
   "cell_type": "markdown",
   "metadata": {
    "id": "ozG8ERNavDos"
   },
   "source": [
    "### Imports"
   ]
  },
  {
   "cell_type": "markdown",
   "metadata": {
    "id": "xmxgAcFQmZkB"
   },
   "source": [
    "To run this notebook, you need a Python environment with `penzai` and its dependencies installed.\n",
    "\n",
    "In Colab or Kaggle, you can install it using the following command:"
   ]
  },
  {
   "cell_type": "code",
   "execution_count": 1,
   "metadata": {
    "execution": {
     "iopub.execute_input": "2024-07-16T16:57:23.954015Z",
     "iopub.status.busy": "2024-07-16T16:57:23.953737Z",
     "iopub.status.idle": "2024-07-16T16:57:23.955844Z",
     "shell.execute_reply": "2024-07-16T16:57:23.955632Z"
    },
    "id": "XGZH58j8mPkj"
   },
   "outputs": [],
   "source": [
    "try:\n",
    "  import penzai\n",
    "except ImportError:\n",
    "  !pip install penzai[notebook]"
   ]
  },
  {
   "cell_type": "code",
   "execution_count": 2,
   "metadata": {
    "execution": {
     "iopub.execute_input": "2024-07-16T16:57:23.958994Z",
     "iopub.status.busy": "2024-07-16T16:57:23.958659Z",
     "iopub.status.idle": "2024-07-16T16:57:24.337979Z",
     "shell.execute_reply": "2024-07-16T16:57:24.337584Z"
    },
    "id": "iog3oMAMGCMG"
   },
   "outputs": [],
   "source": [
    "from __future__ import annotations\n",
    "import typing\n",
    "import traceback\n",
    "\n",
    "import jax\n",
    "import jax.numpy as jnp"
   ]
  },
  {
   "cell_type": "code",
   "execution_count": 3,
   "metadata": {
    "execution": {
     "iopub.execute_input": "2024-07-16T16:57:24.341690Z",
     "iopub.status.busy": "2024-07-16T16:57:24.341431Z",
     "iopub.status.idle": "2024-07-16T16:57:24.517177Z",
     "shell.execute_reply": "2024-07-16T16:57:24.516707Z"
    },
    "id": "5Mh2mAuiQ4aa"
   },
   "outputs": [],
   "source": [
    "import penzai\n",
    "from penzai import pz"
   ]
  },
  {
   "cell_type": "code",
   "execution_count": 4,
   "metadata": {
    "execution": {
     "iopub.execute_input": "2024-07-16T16:57:24.521172Z",
     "iopub.status.busy": "2024-07-16T16:57:24.520919Z",
     "iopub.status.idle": "2024-07-16T16:57:24.524595Z",
     "shell.execute_reply": "2024-07-16T16:57:24.524398Z"
    },
    "id": "QMSmQSSzOOnj"
   },
   "outputs": [],
   "source": [
    "from penzai.example_models import simple_mlp"
   ]
  },
  {
   "cell_type": "markdown",
   "metadata": {
    "id": "OGzhV5uWvkvB"
   },
   "source": [
    "### Setting up Penzai"
   ]
  },
  {
   "cell_type": "markdown",
   "metadata": {
    "id": "TjGkV8F8vmpi"
   },
   "source": [
    "For this tutorial, we'll enable Treescope (Penzai's pretty-printer) as the default IPython pretty-printer. This is recommended when using Penzai in an interactive environment."
   ]
  },
  {
   "cell_type": "code",
   "execution_count": 5,
   "metadata": {
    "execution": {
     "iopub.execute_input": "2024-07-16T16:57:24.529349Z",
     "iopub.status.busy": "2024-07-16T16:57:24.529109Z",
     "iopub.status.idle": "2024-07-16T16:57:39.176189Z",
     "shell.execute_reply": "2024-07-16T16:57:39.175829Z"
    },
    "id": "YodWk_jmva_7"
   },
   "outputs": [],
   "source": [
    "pz.ts.register_as_default()\n",
    "pz.ts.register_autovisualize_magic()\n",
    "pz.ts.register_context_manager_magic()"
   ]
  },
  {
   "cell_type": "markdown",
   "metadata": {
    "id": "3egey4t42OTo"
   },
   "source": [
    "## What are selectors?"
   ]
  },
  {
   "cell_type": "markdown",
   "metadata": {
    "id": "SmFOag2y2UjQ"
   },
   "source": [
    "If you're familiar with JAX, you probably know that JAX arrays are immutable. This maens that it's not possible to directly assign to elements of a JAX array:"
   ]
  },
  {
   "cell_type": "code",
   "execution_count": 6,
   "metadata": {
    "execution": {
     "iopub.execute_input": "2024-07-16T16:57:39.184642Z",
     "iopub.status.busy": "2024-07-16T16:57:39.179869Z",
     "iopub.status.idle": "2024-07-16T16:57:40.090711Z",
     "shell.execute_reply": "2024-07-16T16:57:40.090455Z"
    },
    "id": "V4fKIMM4807s"
   },
   "outputs": [
    {
     "data": {
      "text/html": [
       "<script> (()=>{ if (customElements.get('treescope-container') === undefined) { class TreescopeContainer extends HTMLElement { constructor() { super(); this.attachShadow({mode: \"open\"}); this.defns = {}; this.state = {}; } } customElements.define(\"treescope-container\", TreescopeContainer); } if (customElements.get('treescope-run-here') === undefined) { class RunHere extends HTMLElement { constructor() { super() } connectedCallback() { const run = child => { const fn = new Function(child.textContent); child.textContent = \"\"; fn.call(this); this.remove(); }; const child = this.querySelector(\"script\"); if (child) { run(child); } else { new MutationObserver(()=>{ run(this.querySelector(\"script\")); }).observe(this, {childList: true}); } } } customElements.define(\"treescope-run-here\", RunHere); } })(); </script> <treescope-container class=\"treescope_out_c68552b8c2c2441fa6ded474a20b0307\" ></treescope-container> <treescope-run-here><script type=\"application/octet-stream\"> const root = ( Array.from(document.getElementsByClassName( \"treescope_out_c68552b8c2c2441fa6ded474a20b0307\")) .filter((elt) => !elt.dataset.setup) )[0]; root.dataset.setup = 1; const msg = document.createElement(\"span\"); msg.style = \"color: #aaaaaa; font-family: monospace; transition: opacity 0.2s; opacity: 0.0;\"; msg.textContent = \"(Loading...)\"; root.state.loadingMsg = msg; root.shadowRoot.appendChild(msg); root.state.chain = new Promise((resolve, reject) => { const observer = new IntersectionObserver((entries) => { for (const entry of entries) { if (entry.isIntersecting) { resolve(); observer.disconnect(); return; } } }, {rootMargin: \"1000px\"}); window.setTimeout(() => { if (root.loadingMsg) { root.loadingMsg.style.opacity = \"1.0\"; } observer.observe(root); }, 0); }); root.state.deferring = false; const _insertNode = (node) => { for (let oldScript of node.querySelectorAll(\"script\")) { let newScript = document.createElement(\"script\"); newScript.type = oldScript.type; newScript.textContent = oldScript.textContent; oldScript.parentNode.replaceChild(newScript, oldScript); } if (root.state.loadingMsg) { root.state.loadingMsg.remove(); root.state.loadingMsg = null; } root.shadowRoot.appendChild(node); }; root.defns.insertContent = ((contentNode, compressed) => { if (compressed) { root.state.deferring = true; } if (root.state.deferring) { root.state.chain = (async () => { await root.state.chain; if (compressed) { const encoded = contentNode.textContent; const blob = new Blob([ Uint8Array.from(atob(encoded), (m) => m.codePointAt(0)) ]); const reader = blob.stream().pipeThrough( new DecompressionStream(\"deflate\") ).pipeThrough( new TextDecoderStream(\"utf-8\") ).getReader(); const parts = []; while (true) { const step = await reader.read(); if (step.done) { break; } parts.push(step.value); } const tpl = document.createElement('template'); tpl.innerHTML = parts.join(\"\"); _insertNode(tpl.content); } else { _insertNode(contentNode.content); } })(); } else { _insertNode(contentNode.content); } }); </script></treescope-run-here><div style=\"display:none\"> <script type=\"application/octet-stream\" >eNrFVs9vq0YQ/ldWVHqB6kFsJ/FrsY2US9VD1UN76KGtrAUG2Hq9S3eHJH5V/vfOLtiObRxV6lNrDobZmfm++QlLizsJWYIGwBa6hbXRGtlfrNVWoNAqZQYkR/EEC1ZphXHFt0LuUrbVStuWFyR/bgRC7B9S1hqSSGEx9q5j3LUkVVqROOfFpja6U2VcaKlN2psu2PCUS1Igf6LEJmWVQFJTCAoXrOVlKVQdS6gwZbOicSAK4gZE3ZBkmjw4Nwq5IM4Hs+EmfhJW5EIKJOa8Q33QjYVCI5QVRWzFZ+hPB7qvy9s+PctDemLTKcI0JLOFES0yF9/qhretFAV3GbvVBYKL3gDf3mRhGK0ySijhWWQlVMqyFcNG2KQG/Imy/aMuIYySRltM/DmFBsjWLSgX8mPhvDqjX38fO/meq1ICHatOykWPkBDNn7VWJA2ftdlE7C0H/QuJ3NGJGEXhhC2YSpstVwUkSj+Hka8vAYQXJyzujZbsbhaRH1Gx8Ix1IkHV2LDVik2cyrvUDWBnFOWdgbRwJNZ0yjE7d20bUaHj5xXczStdVxBC6ipV6ufEwJ8dWHxUYuvL9Z3hWwj7nETOx+ICqO1s06dxMRLjHmLVh/FOlP+cg2PRFxJ1Xct+Ktd+cqhbW+fLSUDiRwZP1OBDJR07/5xsYOeSHpjAERqUk0Jya3+g4Rz8hsHB53pLbRjswV8jyie1v+/xbHk7NgCleGLe4So4XR8BQ55TpPCyCiYB04rIUNiK9N5r+/FYQ2ezjzKgsesXFlmAMVCuW9oZ0GhZgvEd4xfJV/yTu4aV5U1SJpDTjFJsSUXqPCcoRRyuLLtXdqq27tmRdiksge72S+1ckWVM8hxkmuZA8wJvWBX+txjF6xdbPHWbbViAk8URSyi/7nKp3Ya8itnoJzCXyCU3Gwu8pjKpS+tUaQzPRA23YeZ9ZqN58DZp0UCxgTKK2NfRkYMzHTfa658w9Bs6ZTe/zR7y4ub/pHdqdJXk/D8g6erogDtjXQFbTe8pMCO4wn45WD8KHij282av9fiXQT2Gh/CClyiJsOtKGItrrdau/UdG671RSmYPbppGS8X+Nf2+4ucUXVRbbmr6suhp+IE+fknQV5JiolwFhwVG6+vb6WRWzqeQ35d5xaf338wnd/n9pynM59VdMBgNq/Z07s/hSbkPYilU2w1fJ4GnneuXYNTJECEd9tHRuvfG9D/4eos/tniD7IPExR/8JXk0hu9YJTXHu1k4nXxkU3rvJ0nCPtToXijkKTv/oxdJ9jdhhbf/</script> <treescope-run-here><script type=\"application/octet-stream\"> const root = ( Array.from(document.getElementsByClassName( \"treescope_out_c68552b8c2c2441fa6ded474a20b0307\")) .filter((elt) => !elt.dataset['step0']) )[0]; root.dataset['step0'] = 1; root.defns.insertContent( this.parentNode.querySelector('script[type=\"application/octet-stream\"]'), true ); this.parentNode.remove(); </script></treescope-run-here> </div>"
      ],
      "text/plain": [
       "<IPython.core.display.HTML object>"
      ]
     },
     "metadata": {},
     "output_type": "display_data"
    },
    {
     "data": {
      "text/html": [
       "<div style=\"display:none\"> <script type=\"application/octet-stream\" >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</script> <treescope-run-here><script type=\"application/octet-stream\"> const root = ( Array.from(document.getElementsByClassName( \"treescope_out_c68552b8c2c2441fa6ded474a20b0307\")) .filter((elt) => !elt.dataset['step1']) )[0]; root.dataset['step1'] = 1; root.defns.insertContent( this.parentNode.querySelector('script[type=\"application/octet-stream\"]'), true ); this.parentNode.remove(); </script></treescope-run-here> </div>"
      ],
      "text/plain": [
       "<IPython.core.display.HTML object>"
      ]
     },
     "metadata": {},
     "output_type": "display_data"
    },
    {
     "data": {
      "text/html": [
       "<treescope-run-here><script type=\"application/octet-stream\"> const root = ( Array.from(document.getElementsByClassName( \"treescope_out_c68552b8c2c2441fa6ded474a20b0307\")) .filter((elt) => !elt.dataset.stolen) )[0]; root.dataset.stolen = 1; this.parentNode.replaceChild(root, this); </script></treescope-run-here>"
      ],
      "text/plain": [
       "# jax.Array float32(10, 10) ≈0.0 ±0.0 [≥0.0, ≤0.0] zero:100\n",
       "  Array([[0., 0., 0., 0., 0., 0., 0., 0., 0., 0.],\n",
       "         [0., 0., 0., 0., 0., 0., 0., 0., 0., 0.],\n",
       "         [0., 0., 0., 0., 0., 0., 0., 0., 0., 0.],\n",
       "         [0., 0., 0., 0., 0., 0., 0., 0., 0., 0.],\n",
       "         [0., 0., 0., 0., 0., 0., 0., 0., 0., 0.],\n",
       "         [0., 0., 0., 0., 0., 0., 0., 0., 0., 0.],\n",
       "         [0., 0., 0., 0., 0., 0., 0., 0., 0., 0.],\n",
       "         [0., 0., 0., 0., 0., 0., 0., 0., 0., 0.],\n",
       "         [0., 0., 0., 0., 0., 0., 0., 0., 0., 0.],\n",
       "         [0., 0., 0., 0., 0., 0., 0., 0., 0., 0.]], dtype=float32)\n"
      ]
     },
     "execution_count": 6,
     "metadata": {},
     "output_type": "execute_result"
    }
   ],
   "source": [
    "array = jnp.zeros((10, 10))\n",
    "array"
   ]
  },
  {
   "cell_type": "code",
   "execution_count": 7,
   "metadata": {
    "execution": {
     "iopub.execute_input": "2024-07-16T16:57:40.094267Z",
     "iopub.status.busy": "2024-07-16T16:57:40.094025Z",
     "iopub.status.idle": "2024-07-16T16:57:40.097182Z",
     "shell.execute_reply": "2024-07-16T16:57:40.097324Z"
    },
    "id": "HYD71Mqo89Bf"
   },
   "outputs": [
    {
     "name": "stderr",
     "output_type": "stream",
     "text": [
      "Traceback (most recent call last):\n",
      "  File \"<ipython-input-7-5c112bb0ee90>\", line 2, in <cell line: 1>\n",
      "    array[1, 2] = 42\n",
      "  File \"/usr/local/lib/python3.10/dist-packages/jax/_src/numpy/array_methods.py\", line 278, in _unimplemented_setitem\n",
      "    raise TypeError(msg.format(type(self)))\n",
      "TypeError: '<class 'jaxlib.xla_extension.ArrayImpl'>' object does not support item assignment. JAX arrays are immutable. Instead of ``x[idx] = y``, use ``x = x.at[idx].set(y)`` or another .at[] method: https://jax.readthedocs.io/en/latest/_autosummary/jax.numpy.ndarray.at.html\n"
     ]
    }
   ],
   "source": [
    "try:\n",
    "  array[1, 2] = 42\n",
    "except TypeError:\n",
    "  import traceback\n",
    "  traceback.print_exc()"
   ]
  },
  {
   "cell_type": "markdown",
   "metadata": {
    "id": "GyEJo0EV9Kld"
   },
   "source": [
    "Instead, to modify a JAX array you can use the special `.at` property, which returns a modified copy of the original array with changes at the location you specified:"
   ]
  },
  {
   "cell_type": "code",
   "execution_count": 8,
   "metadata": {
    "execution": {
     "iopub.execute_input": "2024-07-16T16:57:40.106210Z",
     "iopub.status.busy": "2024-07-16T16:57:40.105881Z",
     "iopub.status.idle": "2024-07-16T16:57:40.333931Z",
     "shell.execute_reply": "2024-07-16T16:57:40.333694Z"
    },
    "id": "o6Ydo5jt8_Oo"
   },
   "outputs": [
    {
     "data": {
      "text/html": [
       "<script> (()=>{ if (customElements.get('treescope-container') === undefined) { class TreescopeContainer extends HTMLElement { constructor() { super(); this.attachShadow({mode: \"open\"}); this.defns = {}; this.state = {}; } } customElements.define(\"treescope-container\", TreescopeContainer); } if (customElements.get('treescope-run-here') === undefined) { class RunHere extends HTMLElement { constructor() { super() } connectedCallback() { const run = child => { const fn = new Function(child.textContent); child.textContent = \"\"; fn.call(this); this.remove(); }; const child = this.querySelector(\"script\"); if (child) { run(child); } else { new MutationObserver(()=>{ run(this.querySelector(\"script\")); }).observe(this, {childList: true}); } } } customElements.define(\"treescope-run-here\", RunHere); } })(); </script> <treescope-container class=\"treescope_out_dc6e104fb8af4c0fad32efddadc35f7e\" ></treescope-container> <treescope-run-here><script type=\"application/octet-stream\"> const root = ( Array.from(document.getElementsByClassName( \"treescope_out_dc6e104fb8af4c0fad32efddadc35f7e\")) .filter((elt) => !elt.dataset.setup) )[0]; root.dataset.setup = 1; const msg = document.createElement(\"span\"); msg.style = \"color: #aaaaaa; font-family: monospace; transition: opacity 0.2s; opacity: 0.0;\"; msg.textContent = \"(Loading...)\"; root.state.loadingMsg = msg; root.shadowRoot.appendChild(msg); root.state.chain = new Promise((resolve, reject) => { const observer = new IntersectionObserver((entries) => { for (const entry of entries) { if (entry.isIntersecting) { resolve(); observer.disconnect(); return; } } }, {rootMargin: \"1000px\"}); window.setTimeout(() => { if (root.loadingMsg) { root.loadingMsg.style.opacity = \"1.0\"; } observer.observe(root); }, 0); }); root.state.deferring = false; const _insertNode = (node) => { for (let oldScript of node.querySelectorAll(\"script\")) { let newScript = document.createElement(\"script\"); newScript.type = oldScript.type; newScript.textContent = oldScript.textContent; oldScript.parentNode.replaceChild(newScript, oldScript); } if (root.state.loadingMsg) { root.state.loadingMsg.remove(); root.state.loadingMsg = null; } root.shadowRoot.appendChild(node); }; root.defns.insertContent = ((contentNode, compressed) => { if (compressed) { root.state.deferring = true; } if (root.state.deferring) { root.state.chain = (async () => { await root.state.chain; if (compressed) { const encoded = contentNode.textContent; const blob = new Blob([ Uint8Array.from(atob(encoded), (m) => m.codePointAt(0)) ]); const reader = blob.stream().pipeThrough( new DecompressionStream(\"deflate\") ).pipeThrough( new TextDecoderStream(\"utf-8\") ).getReader(); const parts = []; while (true) { const step = await reader.read(); if (step.done) { break; } parts.push(step.value); } const tpl = document.createElement('template'); tpl.innerHTML = parts.join(\"\"); _insertNode(tpl.content); } else { _insertNode(contentNode.content); } })(); } else { _insertNode(contentNode.content); } }); </script></treescope-run-here><div style=\"display:none\"> <script type=\"application/octet-stream\" >eNrFVkuPo0YQ/istIu3AamH8WM8o2EaaS5RDlENyyCGJrAYK6LjdTbrLnvFG899T3WB7bONRpKwSczBUV9X31RMWFvcSsgQNgC10CyujNbK/WKutQKFVygxIjmIHc1ZphXHFN0LuU7bRStuWFyR/bgRC7B9S1hqSSGEx9q5j3LckVVqROOfFujZ6q8q40FKbtDOds/4pl6RA/kSJTcoqgaSmEBTOWcvLUqg6llBhyiZF40AUxA2IuiHJOJk5Nwq5IM5Hs/4m3gkrciEFEnO+RX3UjYVCI5QVRWzFF+hOe7qvi/suPYtjemKzVYRpSGYLI1pkLr7lHW9bKQruMnavCwQXvQG+ucvCMFpmlFDCs8hKqJRlS4aNsEkN+BNl+0ddQhgljbaY+HMKDZCtWlAu5KfCeXVGv/4+dPI9V6UEOlZbKecdQkI0f9ZakTR81mYdsbcc9C8kckdnYhSFE7ZgKm02XBWQKP0cRr6+BBBenbC4M1qw6SQiP6Ji4QXrRIKqsWHLJRs5lXepG8CtUZR3BtLCiVizVY7ZpWvbiAodP6/gbl7puoEQUlepUj8nBv7cgsUnJTa+XN8ZvoGwy0nkfMyvgNqtbbo0zgdiPEAsuzDeifKfc3AsukKirmvZTeXKTw51a+t8OQlI/MRgRw3eV9Kx88/JGvYu6YEJHKFeOSkkt/YHGs7ebxgcfa421IbBAfw1onxS+/sezxb3QwNQih3zDpfB+foIGPKcIoWXZTAKmFZEhsJWpPde2w/HGjqbQ5QBjV23sMgCjIFy1dLOgEbLEozvGL9IvuGP7upXljdJmUBOM0qxJRWp85ygFHG4sexe2bnaqmNH2qWwBLo/LLVLRZYxyXOQaZoDzQu8YVX433wQr1ts8dhttn4BjuYnLKH8usuldhvyJmajd2CukUtu1hZ4TWVS19ap0hheiBpuw8z7zAbz4G3SooFiDWUUsY/RiYMzHTY66J8x9Bs6ZXe/TWZ5cfd/0js3ukny4T8g6erogLfGugK2mt5TYAZwhf16sH4UPFDs583e6vGvg3oKD+EFr1ESYVeVMBZXWq1c+w+M1nujlExmbpoGS8X+Nf2u4pcUXVQbbmr6suho+IE+fUnQV5JiolwGxwX2CGU+nfHJbDqCz+OH6ttyUo6noyJ/mD6Opo886I36VXs+95fwpNwFsRCq3fZfJ4GnneuXYNBJHyEddtHRuvfG9N/7eos/tHiD7IPE+R/8JXkyhu9ZJTXH6SQcjz6xMb33kyRhH2p0LxTylF3+0Ysk+xv/V7eb</script> <treescope-run-here><script type=\"application/octet-stream\"> const root = ( Array.from(document.getElementsByClassName( \"treescope_out_dc6e104fb8af4c0fad32efddadc35f7e\")) .filter((elt) => !elt.dataset['step0']) )[0]; root.dataset['step0'] = 1; root.defns.insertContent( this.parentNode.querySelector('script[type=\"application/octet-stream\"]'), true ); this.parentNode.remove(); </script></treescope-run-here> </div>"
      ],
      "text/plain": [
       "<IPython.core.display.HTML object>"
      ]
     },
     "metadata": {},
     "output_type": "display_data"
    },
    {
     "data": {
      "text/html": [
       "<div style=\"display:none\"> <script type=\"application/octet-stream\" >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</script> <treescope-run-here><script type=\"application/octet-stream\"> const root = ( Array.from(document.getElementsByClassName( \"treescope_out_dc6e104fb8af4c0fad32efddadc35f7e\")) .filter((elt) => !elt.dataset['step1']) )[0]; root.dataset['step1'] = 1; root.defns.insertContent( this.parentNode.querySelector('script[type=\"application/octet-stream\"]'), true ); this.parentNode.remove(); </script></treescope-run-here> </div>"
      ],
      "text/plain": [
       "<IPython.core.display.HTML object>"
      ]
     },
     "metadata": {},
     "output_type": "display_data"
    },
    {
     "data": {
      "text/html": [
       "<treescope-run-here><script type=\"application/octet-stream\"> const root = ( Array.from(document.getElementsByClassName( \"treescope_out_dc6e104fb8af4c0fad32efddadc35f7e\")) .filter((elt) => !elt.dataset.stolen) )[0]; root.dataset.stolen = 1; this.parentNode.replaceChild(root, this); </script></treescope-run-here>"
      ],
      "text/plain": [
       "# jax.Array float32(10, 10) ≈0.42 ±4.2 [≥0.0, ≤4.2e+01] zero:99 nonzero:1\n",
       "  Array([[ 0.,  0.,  0.,  0.,  0.,  0.,  0.,  0.,  0.,  0.],\n",
       "         [ 0.,  0., 42.,  0.,  0.,  0.,  0.,  0.,  0.,  0.],\n",
       "         [ 0.,  0.,  0.,  0.,  0.,  0.,  0.,  0.,  0.,  0.],\n",
       "         [ 0.,  0.,  0.,  0.,  0.,  0.,  0.,  0.,  0.,  0.],\n",
       "         [ 0.,  0.,  0.,  0.,  0.,  0.,  0.,  0.,  0.,  0.],\n",
       "         [ 0.,  0.,  0.,  0.,  0.,  0.,  0.,  0.,  0.,  0.],\n",
       "         [ 0.,  0.,  0.,  0.,  0.,  0.,  0.,  0.,  0.,  0.],\n",
       "         [ 0.,  0.,  0.,  0.,  0.,  0.,  0.,  0.,  0.,  0.],\n",
       "         [ 0.,  0.,  0.,  0.,  0.,  0.,  0.,  0.,  0.,  0.],\n",
       "         [ 0.,  0.,  0.,  0.,  0.,  0.,  0.,  0.,  0.,  0.]], dtype=float32)\n"
      ]
     },
     "execution_count": 8,
     "metadata": {},
     "output_type": "execute_result"
    }
   ],
   "source": [
    "modified_array = array.at[1, 2].set(42)\n",
    "modified_array"
   ]
  },
  {
   "cell_type": "markdown",
   "metadata": {
    "id": "AfD7GKrc-KFP"
   },
   "source": [
    "JAX also introduces the concept of [PyTrees](https://jax.readthedocs.io/en/latest/pytrees.html): nested containers of data that JAX knows how to traverse. Most JAX transformations are designed to work with functions that take PyTrees as input and return PyTrees as output.\n",
    "\n",
    "Although JAX does treat dictionaries and lists as PyTrees, JAX usually assumes that those trees will not be mutated, and expects the user to write code in a functional style, avoiding mutating its arguments directly.\n",
    "\n",
    "**`pz.select` enables `.at[...].set(...)`-style modification for arbitrary PyTrees**, making it possible to perform complex path-based and type-driven modifications to the objects you're already using:"
   ]
  },
  {
   "cell_type": "code",
   "execution_count": 9,
   "metadata": {
    "execution": {
     "iopub.execute_input": "2024-07-16T16:57:40.343411Z",
     "iopub.status.busy": "2024-07-16T16:57:40.343154Z",
     "iopub.status.idle": "2024-07-16T16:57:40.416496Z",
     "shell.execute_reply": "2024-07-16T16:57:40.416178Z"
    },
    "id": "qMN5Bzdq-A7q"
   },
   "outputs": [],
   "source": [
    "my_nested_object = {\n",
    "    \"a\": 1,\n",
    "    \"b\": jnp.arange(10),\n",
    "    \"c\": [\n",
    "        {\"value\": jnp.arange(12)},\n",
    "        {\"value\": jnp.zeros([7])},\n",
    "        {\"value\": 3},\n",
    "    ]\n",
    "}"
   ]
  },
  {
   "cell_type": "code",
   "execution_count": 10,
   "metadata": {
    "execution": {
     "iopub.execute_input": "2024-07-16T16:57:40.426144Z",
     "iopub.status.busy": "2024-07-16T16:57:40.425872Z",
     "iopub.status.idle": "2024-07-16T16:57:40.491825Z",
     "shell.execute_reply": "2024-07-16T16:57:40.491578Z"
    },
    "id": "yPqRBFmD9N4V"
   },
   "outputs": [
    {
     "data": {
      "text/html": [
       "<script> (()=>{ if (customElements.get('treescope-container') === undefined) { class TreescopeContainer extends HTMLElement { constructor() { super(); this.attachShadow({mode: \"open\"}); this.defns = {}; this.state = {}; } } customElements.define(\"treescope-container\", TreescopeContainer); } if (customElements.get('treescope-run-here') === undefined) { class RunHere extends HTMLElement { constructor() { super() } connectedCallback() { const run = child => { const fn = new Function(child.textContent); child.textContent = \"\"; fn.call(this); this.remove(); }; const child = this.querySelector(\"script\"); if (child) { run(child); } else { new MutationObserver(()=>{ run(this.querySelector(\"script\")); }).observe(this, {childList: true}); } } } customElements.define(\"treescope-run-here\", RunHere); } })(); </script> <treescope-container class=\"treescope_out_be1cfec9d0a9453bbaccb901da2580e4\" ></treescope-container> <treescope-run-here><script type=\"application/octet-stream\"> const root = ( Array.from(document.getElementsByClassName( \"treescope_out_be1cfec9d0a9453bbaccb901da2580e4\")) .filter((elt) => !elt.dataset.setup) )[0]; root.dataset.setup = 1; const msg = document.createElement(\"span\"); msg.style = \"color: #aaaaaa; font-family: monospace; transition: opacity 0.2s; opacity: 0.0;\"; msg.textContent = \"(Loading...)\"; root.state.loadingMsg = msg; root.shadowRoot.appendChild(msg); root.state.chain = new Promise((resolve, reject) => { const observer = new IntersectionObserver((entries) => { for (const entry of entries) { if (entry.isIntersecting) { resolve(); observer.disconnect(); return; } } }, {rootMargin: \"1000px\"}); window.setTimeout(() => { if (root.loadingMsg) { root.loadingMsg.style.opacity = \"1.0\"; } observer.observe(root); }, 0); }); root.state.deferring = false; const _insertNode = (node) => { for (let oldScript of node.querySelectorAll(\"script\")) { let newScript = document.createElement(\"script\"); newScript.type = oldScript.type; newScript.textContent = oldScript.textContent; oldScript.parentNode.replaceChild(newScript, oldScript); } if (root.state.loadingMsg) { root.state.loadingMsg.remove(); root.state.loadingMsg = null; } root.shadowRoot.appendChild(node); }; root.defns.insertContent = ((contentNode, compressed) => { if (compressed) { root.state.deferring = true; } if (root.state.deferring) { root.state.chain = (async () => { await root.state.chain; if (compressed) { const encoded = contentNode.textContent; const blob = new Blob([ Uint8Array.from(atob(encoded), (m) => m.codePointAt(0)) ]); const reader = blob.stream().pipeThrough( new DecompressionStream(\"deflate\") ).pipeThrough( new TextDecoderStream(\"utf-8\") ).getReader(); const parts = []; while (true) { const step = await reader.read(); if (step.done) { break; } parts.push(step.value); } const tpl = document.createElement('template'); tpl.innerHTML = parts.join(\"\"); _insertNode(tpl.content); } else { _insertNode(contentNode.content); } })(); } else { _insertNode(contentNode.content); } }); </script></treescope-run-here><div style=\"display:none\"> <script type=\"application/octet-stream\" >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</script> <treescope-run-here><script type=\"application/octet-stream\"> const root = ( Array.from(document.getElementsByClassName( \"treescope_out_be1cfec9d0a9453bbaccb901da2580e4\")) .filter((elt) => !elt.dataset['step0']) )[0]; root.dataset['step0'] = 1; root.defns.insertContent( this.parentNode.querySelector('script[type=\"application/octet-stream\"]'), true ); this.parentNode.remove(); </script></treescope-run-here> </div>"
      ],
      "text/plain": [
       "<IPython.core.display.HTML object>"
      ]
     },
     "metadata": {},
     "output_type": "display_data"
    },
    {
     "data": {
      "text/html": [
       "<div style=\"display:none\"> <script type=\"application/octet-stream\" >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</script> <treescope-run-here><script type=\"application/octet-stream\"> const root = ( Array.from(document.getElementsByClassName( \"treescope_out_be1cfec9d0a9453bbaccb901da2580e4\")) .filter((elt) => !elt.dataset['step1']) )[0]; root.dataset['step1'] = 1; root.defns.insertContent( this.parentNode.querySelector('script[type=\"application/octet-stream\"]'), true ); this.parentNode.remove(); </script></treescope-run-here> </div>"
      ],
      "text/plain": [
       "<IPython.core.display.HTML object>"
      ]
     },
     "metadata": {},
     "output_type": "display_data"
    },
    {
     "data": {
      "text/html": [
       "<treescope-run-here><script type=\"application/octet-stream\"> const root = ( Array.from(document.getElementsByClassName( \"treescope_out_be1cfec9d0a9453bbaccb901da2580e4\")) .filter((elt) => !elt.dataset.stolen) )[0]; root.dataset.stolen = 1; this.parentNode.replaceChild(root, this); </script></treescope-run-here>"
      ],
      "text/plain": [
       "{'a': 1,\n",
       " 'b': <jax.Array([0, 1, 2, 3, 4, 5, 6, 7, 8, 9], dtype=int32)>,\n",
       " 'c': [{'value': <jax.Array([100, 101, 102, 103, 104, 105, 106, 107, 108, 109, 110, 111], dtype=int32)>},\n",
       "  {'value': <jax.Array([100., 100., 100., 100., 100., 100., 100.], dtype=float32)>},\n",
       "  {'value': 103}]}"
      ]
     },
     "execution_count": 10,
     "metadata": {},
     "output_type": "execute_result"
    }
   ],
   "source": [
    "(\n",
    "    pz.select(my_nested_object)\n",
    "      .at(lambda root: root[\"c\"])\n",
    "      .at_instances_of(jax.typing.ArrayLike)\n",
    "      .apply(lambda value: value + 100)\n",
    ")"
   ]
  },
  {
   "cell_type": "markdown",
   "metadata": {
    "id": "4vKkkNk5-cmj"
   },
   "source": [
    "Selectors are first-class objects, defined in `penzai.core.selectors` but aliased to `pz.select` and `pz.Selection`. Internally, they are ordinary PyTrees:\n"
   ]
  },
  {
   "cell_type": "code",
   "execution_count": 11,
   "metadata": {
    "execution": {
     "iopub.execute_input": "2024-07-16T16:57:40.497780Z",
     "iopub.status.busy": "2024-07-16T16:57:40.497544Z",
     "iopub.status.idle": "2024-07-16T16:57:40.516721Z",
     "shell.execute_reply": "2024-07-16T16:57:40.516921Z"
    },
    "id": "Y58Ll7sO_qjo"
   },
   "outputs": [
    {
     "data": {
      "text/html": [
       "<script> (()=>{ if (customElements.get('treescope-container') === undefined) { class TreescopeContainer extends HTMLElement { constructor() { super(); this.attachShadow({mode: \"open\"}); this.defns = {}; this.state = {}; } } customElements.define(\"treescope-container\", TreescopeContainer); } if (customElements.get('treescope-run-here') === undefined) { class RunHere extends HTMLElement { constructor() { super() } connectedCallback() { const run = child => { const fn = new Function(child.textContent); child.textContent = \"\"; fn.call(this); this.remove(); }; const child = this.querySelector(\"script\"); if (child) { run(child); } else { new MutationObserver(()=>{ run(this.querySelector(\"script\")); }).observe(this, {childList: true}); } } } customElements.define(\"treescope-run-here\", RunHere); } })(); </script> <treescope-container class=\"treescope_out_3ed55186b9a9401fab6c3e445052eb6d\" ></treescope-container> <treescope-run-here><script type=\"application/octet-stream\"> const root = ( Array.from(document.getElementsByClassName( \"treescope_out_3ed55186b9a9401fab6c3e445052eb6d\")) .filter((elt) => !elt.dataset.setup) )[0]; root.dataset.setup = 1; const msg = document.createElement(\"span\"); msg.style = \"color: #aaaaaa; font-family: monospace; transition: opacity 0.2s; opacity: 0.0;\"; msg.textContent = \"(Loading...)\"; root.state.loadingMsg = msg; root.shadowRoot.appendChild(msg); root.state.chain = new Promise((resolve, reject) => { const observer = new IntersectionObserver((entries) => { for (const entry of entries) { if (entry.isIntersecting) { resolve(); observer.disconnect(); return; } } }, {rootMargin: \"1000px\"}); window.setTimeout(() => { if (root.loadingMsg) { root.loadingMsg.style.opacity = \"1.0\"; } observer.observe(root); }, 0); }); root.state.deferring = false; const _insertNode = (node) => { for (let oldScript of node.querySelectorAll(\"script\")) { let newScript = document.createElement(\"script\"); newScript.type = oldScript.type; newScript.textContent = oldScript.textContent; oldScript.parentNode.replaceChild(newScript, oldScript); } if (root.state.loadingMsg) { root.state.loadingMsg.remove(); root.state.loadingMsg = null; } root.shadowRoot.appendChild(node); }; root.defns.insertContent = ((contentNode, compressed) => { if (compressed) { root.state.deferring = true; } if (root.state.deferring) { root.state.chain = (async () => { await root.state.chain; if (compressed) { const encoded = contentNode.textContent; const blob = new Blob([ Uint8Array.from(atob(encoded), (m) => m.codePointAt(0)) ]); const reader = blob.stream().pipeThrough( new DecompressionStream(\"deflate\") ).pipeThrough( new TextDecoderStream(\"utf-8\") ).getReader(); const parts = []; while (true) { const step = await reader.read(); if (step.done) { break; } parts.push(step.value); } const tpl = document.createElement('template'); tpl.innerHTML = parts.join(\"\"); _insertNode(tpl.content); } else { _insertNode(contentNode.content); } })(); } else { _insertNode(contentNode.content); } }); </script></treescope-run-here><div style=\"display:none\"> <script type=\"application/octet-stream\" >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</script> <treescope-run-here><script type=\"application/octet-stream\"> const root = ( Array.from(document.getElementsByClassName( \"treescope_out_3ed55186b9a9401fab6c3e445052eb6d\")) .filter((elt) => !elt.dataset['step0']) )[0]; root.dataset['step0'] = 1; root.defns.insertContent( this.parentNode.querySelector('script[type=\"application/octet-stream\"]'), true ); this.parentNode.remove(); </script></treescope-run-here> </div>"
      ],
      "text/plain": [
       "TreescopeRenderingFigure(child=PreventWordWrap(child=Siblings(children=(FoldableTreeNodeImpl(contents=Siblings(children=(IndentedChildren(children=[Siblings(children=(PyTreeNodeFieldName(child=Text(text='selected_by_path')), Text(text='='), WithDynamicSharedPip(child=FoldableTreeNodeImpl(contents=Siblings(children=(StringCopyButton(copy_string='(lambda root: root.selected_by_path)', annotation='Copy path: '), IndentedChildren(children=[Siblings(children=(FoldableTreeNodeImpl(contents=Siblings(children=(IndentedChildren(children=[Siblings(children=(FoldableTreeNodeImpl(contents=Siblings(children=(IndentedChildren(children=[Siblings(children=(Text(text='key'), Text(text='='), HyperlinkTarget(child=StringLiteralColor(child=Text(text=\"'c'\")), keypath=None), FoldCondition(collapsed=EmptyPart(), expanded=Text(text=','))))]), Text(text=')'))), label=HyperlinkTarget(child=Siblings(children=(RoundtripCondition(roundtrip=QualifiedTypeNameSpanGroup(child=Text(text='jax.tree_util.')), not_roundtrip=EmptyPart()), Text(text='DictKey'), Text(text='('))), keypath=None), expand_state=<ExpandState.COLLAPSED: 'collapsed'>), Text(text=','), FoldCondition(collapsed=Text(text=' '), expanded=EmptyPart()))), Siblings(children=(FoldableTreeNodeImpl(contents=Siblings(children=(IndentedChildren(children=[Siblings(children=(Text(text='idx'), Text(text='='), HyperlinkTarget(child=NumberColor(child=Text(text='0')), keypath=None), FoldCondition(collapsed=EmptyPart(), expanded=Text(text=','))))]), Text(text=')'))), label=HyperlinkTarget(child=Siblings(children=(RoundtripCondition(roundtrip=QualifiedTypeNameSpanGroup(child=Text(text='jax.tree_util.')), not_roundtrip=EmptyPart()), Text(text='SequenceKey'), Text(text='('))), keypath=None), expand_state=<ExpandState.COLLAPSED: 'collapsed'>), Text(text=','), FoldCondition(collapsed=Text(text=' '), expanded=EmptyPart()))), Siblings(children=(FoldableTreeNodeImpl(contents=Siblings(children=(IndentedChildren(children=[Siblings(children=(Text(text='key'), Text(text='='), HyperlinkTarget(child=StringLiteralColor(child=Text(text=\"'value'\")), keypath=None), FoldCondition(collapsed=EmptyPart(), expanded=Text(text=','))))]), Text(text=')'))), label=HyperlinkTarget(child=Siblings(children=(RoundtripCondition(roundtrip=QualifiedTypeNameSpanGroup(child=Text(text='jax.tree_util.')), not_roundtrip=EmptyPart()), Text(text='DictKey'), Text(text='('))), keypath=None), expand_state=<ExpandState.COLLAPSED: 'collapsed'>), FoldCondition(collapsed=EmptyPart(), expanded=Text(text=','))))]), Text(text=')'))), label=HyperlinkTarget(child=Text(text='('), keypath=None), expand_state=<ExpandState.COLLAPSED: 'collapsed'>), Text(text=':'), FoldCondition(collapsed=Text(text=' '), expanded=EmptyPart()), IndentedChildren(children=[Siblings(children=(RoundtripCondition(roundtrip=WithBlockColor(child=FoldableTreeNodeImpl(contents=Siblings(children=(ColoredBorderIndentedChildren(children=[Siblings(children=(Text(text='original_repr'), Text(text='='), HyperlinkTarget(child=StringLiteralColor(child=Text(text=\"'Array([ 0,  1,  2,  3,  4,  5,  6,  7,  8,  9, 10, 11], dtype=int32)'\")), keypath=(GetAttrKey(name='original_repr'),)), Text(text=','), FoldCondition(collapsed=Text(text=' '), expanded=EmptyPart()), FoldCondition(collapsed=EmptyPart(), expanded=Siblings(children=(StringCopyButton(copy_string='(lambda root: root.original_repr)', annotation='Copy path: '),))))), Siblings(children=(Text(text='original_id'), Text(text='='), HyperlinkTarget(child=NumberColor(child=Text(text='100242967894832')), keypath=(GetAttrKey(name='original_id'),)), Text(text=','), FoldCondition(collapsed=Text(text=' '), expanded=EmptyPart()), FoldCondition(collapsed=EmptyPart(), expanded=Siblings(children=(StringCopyButton(copy_string='(lambda root: root.original_id)', annotation='Copy path: '),))))), Siblings(children=(Text(text='original_type'), Text(text='='), HyperlinkTarget(child=FoldableTreeNodeImpl(contents=FoldCondition(collapsed=EmptyPart(), expanded=IndentedChildren(children=[Siblings(children=(HyperlinkTarget(child=AbbreviationColor(child=Text(text=\"<class 'jax.Array'>\")), keypath=(GetAttrKey(name='original_type'),)), FoldCondition(collapsed=EmptyPart(), expanded=Siblings(children=(StringCopyButton(copy_string='(lambda root: root.original_type)', annotation='Copy path: '),)))))])), label=CommentColorWhenExpanded(child=Siblings(children=(FoldCondition(collapsed=EmptyPart(), expanded=Text(text='# ')), QualifiedTypeNameSpanGroup(child=Text(text='jax.')), Text(text='Array')))), expand_state=<ExpandState.COLLAPSED: 'collapsed'>), keypath=(GetAttrKey(name='original_type'),)), FoldCondition(collapsed=EmptyPart(), expanded=Text(text=',')), FoldCondition(collapsed=EmptyPart(), expanded=Siblings(children=(StringCopyButton(copy_string='(lambda root: root.original_type)', annotation='Copy path: '),)))))]), ColoredBottomLineSpanGroup(child=Text(text=')')))), label=HyperlinkTarget(child=ColoredTopLineSpanGroup(child=Siblings(children=(RoundtripCondition(roundtrip=QualifiedTypeNameSpanGroup(child=Text(text='penzai.treescope.copypaste_fallback.')), not_roundtrip=EmptyPart()), Text(text='NotRoundtrippable'), Text(text='(')))), keypath=()), expand_state=<ExpandState.WEAKLY_COLLAPSED: 'weakly_collapsed'>), color='#db845a'), not_roundtrip=AbbreviationColor(child=Text(text='<jax.Array([ 0,  1,  2,  3,  4,  5,  6,  7,  8,  9, 10, 11], dtype=int32)>'))), Text(text=','), FoldCondition(collapsed=Text(text=' '), expanded=EmptyPart()), FoldCondition(collapsed=EmptyPart(), expanded=Siblings(children=(StringCopyButton(copy_string=\"(lambda root: root.selected_by_path[(DictKey(key='c'), SequenceKey(idx=0), DictKey(key='value'))])\", annotation='Copy path: '),))))), Siblings(children=(FoldCondition(collapsed=EmptyPart(), expanded=VerticalSpace(height='0.5em')),))]))), Siblings(children=(FoldableTreeNodeImpl(contents=Siblings(children=(IndentedChildren(children=[Siblings(children=(FoldableTreeNodeImpl(contents=Siblings(children=(IndentedChildren(children=[Siblings(children=(Text(text='key'), Text(text='='), HyperlinkTarget(child=StringLiteralColor(child=Text(text=\"'c'\")), keypath=None), FoldCondition(collapsed=EmptyPart(), expanded=Text(text=','))))]), Text(text=')'))), label=HyperlinkTarget(child=Siblings(children=(RoundtripCondition(roundtrip=QualifiedTypeNameSpanGroup(child=Text(text='jax.tree_util.')), not_roundtrip=EmptyPart()), Text(text='DictKey'), Text(text='('))), keypath=None), expand_state=<ExpandState.COLLAPSED: 'collapsed'>), Text(text=','), FoldCondition(collapsed=Text(text=' '), expanded=EmptyPart()))), Siblings(children=(FoldableTreeNodeImpl(contents=Siblings(children=(IndentedChildren(children=[Siblings(children=(Text(text='idx'), Text(text='='), HyperlinkTarget(child=NumberColor(child=Text(text='1')), keypath=None), FoldCondition(collapsed=EmptyPart(), expanded=Text(text=','))))]), Text(text=')'))), label=HyperlinkTarget(child=Siblings(children=(RoundtripCondition(roundtrip=QualifiedTypeNameSpanGroup(child=Text(text='jax.tree_util.')), not_roundtrip=EmptyPart()), Text(text='SequenceKey'), Text(text='('))), keypath=None), expand_state=<ExpandState.COLLAPSED: 'collapsed'>), Text(text=','), FoldCondition(collapsed=Text(text=' '), expanded=EmptyPart()))), Siblings(children=(FoldableTreeNodeImpl(contents=Siblings(children=(IndentedChildren(children=[Siblings(children=(Text(text='key'), Text(text='='), HyperlinkTarget(child=StringLiteralColor(child=Text(text=\"'value'\")), keypath=None), FoldCondition(collapsed=EmptyPart(), expanded=Text(text=','))))]), Text(text=')'))), label=HyperlinkTarget(child=Siblings(children=(RoundtripCondition(roundtrip=QualifiedTypeNameSpanGroup(child=Text(text='jax.tree_util.')), not_roundtrip=EmptyPart()), Text(text='DictKey'), Text(text='('))), keypath=None), expand_state=<ExpandState.COLLAPSED: 'collapsed'>), FoldCondition(collapsed=EmptyPart(), expanded=Text(text=','))))]), Text(text=')'))), label=HyperlinkTarget(child=Text(text='('), keypath=None), expand_state=<ExpandState.COLLAPSED: 'collapsed'>), Text(text=':'), FoldCondition(collapsed=Text(text=' '), expanded=EmptyPart()), IndentedChildren(children=[Siblings(children=(RoundtripCondition(roundtrip=WithBlockColor(child=FoldableTreeNodeImpl(contents=Siblings(children=(ColoredBorderIndentedChildren(children=[Siblings(children=(Text(text='original_repr'), Text(text='='), HyperlinkTarget(child=StringLiteralColor(child=Text(text=\"'Array([0., 0., 0., 0., 0., 0., 0.], dtype=float32)'\")), keypath=(GetAttrKey(name='original_repr'),)), Text(text=','), FoldCondition(collapsed=Text(text=' '), expanded=EmptyPart()), FoldCondition(collapsed=EmptyPart(), expanded=Siblings(children=(StringCopyButton(copy_string='(lambda root: root.original_repr)', annotation='Copy path: '),))))), Siblings(children=(Text(text='original_id'), Text(text='='), HyperlinkTarget(child=NumberColor(child=Text(text='100242965839472')), keypath=(GetAttrKey(name='original_id'),)), Text(text=','), FoldCondition(collapsed=Text(text=' '), expanded=EmptyPart()), FoldCondition(collapsed=EmptyPart(), expanded=Siblings(children=(StringCopyButton(copy_string='(lambda root: root.original_id)', annotation='Copy path: '),))))), Siblings(children=(Text(text='original_type'), Text(text='='), HyperlinkTarget(child=FoldableTreeNodeImpl(contents=FoldCondition(collapsed=EmptyPart(), expanded=IndentedChildren(children=[Siblings(children=(HyperlinkTarget(child=AbbreviationColor(child=Text(text=\"<class 'jax.Array'>\")), keypath=(GetAttrKey(name='original_type'),)), FoldCondition(collapsed=EmptyPart(), expanded=Siblings(children=(StringCopyButton(copy_string='(lambda root: root.original_type)', annotation='Copy path: '),)))))])), label=CommentColorWhenExpanded(child=Siblings(children=(FoldCondition(collapsed=EmptyPart(), expanded=Text(text='# ')), QualifiedTypeNameSpanGroup(child=Text(text='jax.')), Text(text='Array')))), expand_state=<ExpandState.COLLAPSED: 'collapsed'>), keypath=(GetAttrKey(name='original_type'),)), FoldCondition(collapsed=EmptyPart(), expanded=Text(text=',')), FoldCondition(collapsed=EmptyPart(), expanded=Siblings(children=(StringCopyButton(copy_string='(lambda root: root.original_type)', annotation='Copy path: '),)))))]), ColoredBottomLineSpanGroup(child=Text(text=')')))), label=HyperlinkTarget(child=ColoredTopLineSpanGroup(child=Siblings(children=(RoundtripCondition(roundtrip=QualifiedTypeNameSpanGroup(child=Text(text='penzai.treescope.copypaste_fallback.')), not_roundtrip=EmptyPart()), Text(text='NotRoundtrippable'), Text(text='(')))), keypath=()), expand_state=<ExpandState.WEAKLY_COLLAPSED: 'weakly_collapsed'>), color='#db845a'), not_roundtrip=AbbreviationColor(child=Text(text='<jax.Array([0., 0., 0., 0., 0., 0., 0.], dtype=float32)>'))), Text(text=','), FoldCondition(collapsed=Text(text=' '), expanded=EmptyPart()), FoldCondition(collapsed=EmptyPart(), expanded=Siblings(children=(StringCopyButton(copy_string=\"(lambda root: root.selected_by_path[(DictKey(key='c'), SequenceKey(idx=1), DictKey(key='value'))])\", annotation='Copy path: '),))))), Siblings(children=(FoldCondition(collapsed=EmptyPart(), expanded=VerticalSpace(height='0.5em')),))]))), Siblings(children=(FoldableTreeNodeImpl(contents=Siblings(children=(IndentedChildren(children=[Siblings(children=(FoldableTreeNodeImpl(contents=Siblings(children=(IndentedChildren(children=[Siblings(children=(Text(text='key'), Text(text='='), HyperlinkTarget(child=StringLiteralColor(child=Text(text=\"'c'\")), keypath=None), FoldCondition(collapsed=EmptyPart(), expanded=Text(text=','))))]), Text(text=')'))), label=HyperlinkTarget(child=Siblings(children=(RoundtripCondition(roundtrip=QualifiedTypeNameSpanGroup(child=Text(text='jax.tree_util.')), not_roundtrip=EmptyPart()), Text(text='DictKey'), Text(text='('))), keypath=None), expand_state=<ExpandState.COLLAPSED: 'collapsed'>), Text(text=','), FoldCondition(collapsed=Text(text=' '), expanded=EmptyPart()))), Siblings(children=(FoldableTreeNodeImpl(contents=Siblings(children=(IndentedChildren(children=[Siblings(children=(Text(text='idx'), Text(text='='), HyperlinkTarget(child=NumberColor(child=Text(text='2')), keypath=None), FoldCondition(collapsed=EmptyPart(), expanded=Text(text=','))))]), Text(text=')'))), label=HyperlinkTarget(child=Siblings(children=(RoundtripCondition(roundtrip=QualifiedTypeNameSpanGroup(child=Text(text='jax.tree_util.')), not_roundtrip=EmptyPart()), Text(text='SequenceKey'), Text(text='('))), keypath=None), expand_state=<ExpandState.COLLAPSED: 'collapsed'>), Text(text=','), FoldCondition(collapsed=Text(text=' '), expanded=EmptyPart()))), Siblings(children=(FoldableTreeNodeImpl(contents=Siblings(children=(IndentedChildren(children=[Siblings(children=(Text(text='key'), Text(text='='), HyperlinkTarget(child=StringLiteralColor(child=Text(text=\"'value'\")), keypath=None), FoldCondition(collapsed=EmptyPart(), expanded=Text(text=','))))]), Text(text=')'))), label=HyperlinkTarget(child=Siblings(children=(RoundtripCondition(roundtrip=QualifiedTypeNameSpanGroup(child=Text(text='jax.tree_util.')), not_roundtrip=EmptyPart()), Text(text='DictKey'), Text(text='('))), keypath=None), expand_state=<ExpandState.COLLAPSED: 'collapsed'>), FoldCondition(collapsed=EmptyPart(), expanded=Text(text=','))))]), Text(text=')'))), label=HyperlinkTarget(child=Text(text='('), keypath=None), expand_state=<ExpandState.COLLAPSED: 'collapsed'>), Text(text=':'), FoldCondition(collapsed=Text(text=' '), expanded=EmptyPart()), IndentedChildren(children=[Siblings(children=(HyperlinkTarget(child=NumberColor(child=Text(text='3')), keypath=(GetAttrKey(name='selected_by_path'), DictKey(key=(DictKey(key='c'), SequenceKey(idx=2), DictKey(key='value'))))), FoldCondition(collapsed=EmptyPart(), expanded=Text(text=',')), FoldCondition(collapsed=EmptyPart(), expanded=Siblings(children=(StringCopyButton(copy_string=\"(lambda root: root.selected_by_path[(DictKey(key='c'), SequenceKey(idx=2), DictKey(key='value'))])\", annotation='Copy path: '),))))), Siblings(children=(FoldCondition(collapsed=EmptyPart(), expanded=VerticalSpace(height='0.5em')),))])))]), Text(text='})'))), label=HyperlinkTarget(child=Siblings(children=(RoundtripCondition(roundtrip=QualifiedTypeNameSpanGroup(child=Text(text='collections.')), not_roundtrip=EmptyPart()), Text(text='OrderedDict'), Text(text='({'))), keypath=(GetAttrKey(name='selected_by_path'),)), expand_state=<ExpandState.EXPANDED: 'expanded'>), node_id=137745444277312, seen_more_than_once=set()), Text(text=','), FoldCondition(collapsed=Text(text=' '), expanded=EmptyPart()), FoldCondition(collapsed=EmptyPart(), expanded=Siblings(children=(DynamicSharedCheck(if_shared=SharedWarningLabel(child=Text(text=' # Repeated python obj at 0x7d475c468c40')), node_id=137745444277312, seen_more_than_once=set()), StringCopyButton(copy_string='(lambda root: root.selected_by_path)', annotation='Copy path: ')))))), Siblings(children=(PyTreeNodeFieldName(child=Text(text='remainder')), Text(text='='), WithDynamicSharedPip(child=FoldableTreeNodeImpl(contents=Siblings(children=(StringCopyButton(copy_string='(lambda root: root.remainder)', annotation='Copy path: '), IndentedChildren(children=[Siblings(children=(HyperlinkTarget(child=StringLiteralColor(child=Text(text=\"'a'\")), keypath=None), Text(text=': '), HyperlinkTarget(child=NumberColor(child=Text(text='1')), keypath=(GetAttrKey(name='remainder'), DictKey(key='a'))), Text(text=','), FoldCondition(collapsed=Text(text=' '), expanded=EmptyPart()), FoldCondition(collapsed=EmptyPart(), expanded=Siblings(children=(StringCopyButton(copy_string=\"(lambda root: root.remainder['a'])\", annotation='Copy path: '),))))), Siblings(children=(HyperlinkTarget(child=StringLiteralColor(child=Text(text=\"'b'\")), keypath=None), Text(text=': '), RoundtripCondition(roundtrip=WithBlockColor(child=FoldableTreeNodeImpl(contents=Siblings(children=(ColoredBorderIndentedChildren(children=[Siblings(children=(Text(text='original_repr'), Text(text='='), HyperlinkTarget(child=StringLiteralColor(child=Text(text=\"'Array([0, 1, 2, 3, 4, 5, 6, 7, 8, 9], dtype=int32)'\")), keypath=(GetAttrKey(name='original_repr'),)), Text(text=','), FoldCondition(collapsed=Text(text=' '), expanded=EmptyPart()), FoldCondition(collapsed=EmptyPart(), expanded=Siblings(children=(StringCopyButton(copy_string='(lambda root: root.original_repr)', annotation='Copy path: '),))))), Siblings(children=(Text(text='original_id'), Text(text='='), HyperlinkTarget(child=NumberColor(child=Text(text='100242967836624')), keypath=(GetAttrKey(name='original_id'),)), Text(text=','), FoldCondition(collapsed=Text(text=' '), expanded=EmptyPart()), FoldCondition(collapsed=EmptyPart(), expanded=Siblings(children=(StringCopyButton(copy_string='(lambda root: root.original_id)', annotation='Copy path: '),))))), Siblings(children=(Text(text='original_type'), Text(text='='), HyperlinkTarget(child=FoldableTreeNodeImpl(contents=FoldCondition(collapsed=EmptyPart(), expanded=IndentedChildren(children=[Siblings(children=(HyperlinkTarget(child=AbbreviationColor(child=Text(text=\"<class 'jax.Array'>\")), keypath=(GetAttrKey(name='original_type'),)), FoldCondition(collapsed=EmptyPart(), expanded=Siblings(children=(StringCopyButton(copy_string='(lambda root: root.original_type)', annotation='Copy path: '),)))))])), label=CommentColorWhenExpanded(child=Siblings(children=(FoldCondition(collapsed=EmptyPart(), expanded=Text(text='# ')), QualifiedTypeNameSpanGroup(child=Text(text='jax.')), Text(text='Array')))), expand_state=<ExpandState.COLLAPSED: 'collapsed'>), keypath=(GetAttrKey(name='original_type'),)), FoldCondition(collapsed=EmptyPart(), expanded=Text(text=',')), FoldCondition(collapsed=EmptyPart(), expanded=Siblings(children=(StringCopyButton(copy_string='(lambda root: root.original_type)', annotation='Copy path: '),)))))]), ColoredBottomLineSpanGroup(child=Text(text=')')))), label=HyperlinkTarget(child=ColoredTopLineSpanGroup(child=Siblings(children=(RoundtripCondition(roundtrip=QualifiedTypeNameSpanGroup(child=Text(text='penzai.treescope.copypaste_fallback.')), not_roundtrip=EmptyPart()), Text(text='NotRoundtrippable'), Text(text='(')))), keypath=()), expand_state=<ExpandState.WEAKLY_COLLAPSED: 'weakly_collapsed'>), color='#db845a'), not_roundtrip=AbbreviationColor(child=Text(text='<jax.Array([0, 1, 2, 3, 4, 5, 6, 7, 8, 9], dtype=int32)>'))), Text(text=','), FoldCondition(collapsed=Text(text=' '), expanded=EmptyPart()), FoldCondition(collapsed=EmptyPart(), expanded=Siblings(children=(StringCopyButton(copy_string=\"(lambda root: root.remainder['b'])\", annotation='Copy path: '),))))), Siblings(children=(HyperlinkTarget(child=StringLiteralColor(child=Text(text=\"'c'\")), keypath=None), Text(text=': '), WithDynamicSharedPip(child=FoldableTreeNodeImpl(contents=Siblings(children=(StringCopyButton(copy_string=\"(lambda root: root.remainder['c'])\", annotation='Copy path: '), IndentedChildren(children=[Siblings(children=(WithDynamicSharedPip(child=FoldableTreeNodeImpl(contents=Siblings(children=(StringCopyButton(copy_string=\"(lambda root: root.remainder['c'][0])\", annotation='Copy path: '), IndentedChildren(children=[Siblings(children=(HyperlinkTarget(child=StringLiteralColor(child=Text(text=\"'value'\")), keypath=None), Text(text=': '), FoldableTreeNodeImpl(contents=Siblings(children=(StringCopyButton(copy_string=\"(lambda root: root.remainder['c'][0]['value'])\", annotation='Copy path: '), IndentedChildren(children=[Siblings(children=(Text(text='path'), Text(text='='), FoldableTreeNodeImpl(contents=Siblings(children=(StringCopyButton(copy_string=\"(lambda root: root.remainder['c'][0]['value'].path)\", annotation='Copy path: '), IndentedChildren(children=[Siblings(children=(FoldableTreeNodeImpl(contents=Siblings(children=(StringCopyButton(copy_string=\"(lambda root: root.remainder['c'][0]['value'].path[0])\", annotation='Copy path: '), IndentedChildren(children=[Siblings(children=(Text(text='key'), Text(text='='), HyperlinkTarget(child=StringLiteralColor(child=Text(text=\"'c'\")), keypath=(GetAttrKey(name='remainder'), DictKey(key='c'), SequenceKey(idx=0), DictKey(key='value'), GetAttrKey(name='path'), SequenceKey(idx=0), GetAttrKey(name='key'))), FoldCondition(collapsed=EmptyPart(), expanded=Text(text=',')), FoldCondition(collapsed=EmptyPart(), expanded=Siblings(children=(StringCopyButton(copy_string=\"(lambda root: root.remainder['c'][0]['value'].path[0].key)\", annotation='Copy path: '),)))))]), Text(text=')'))), label=HyperlinkTarget(child=Siblings(children=(RoundtripCondition(roundtrip=QualifiedTypeNameSpanGroup(child=Text(text='jax.tree_util.')), not_roundtrip=EmptyPart()), Text(text='DictKey'), Text(text='('))), keypath=(GetAttrKey(name='remainder'), DictKey(key='c'), SequenceKey(idx=0), DictKey(key='value'), GetAttrKey(name='path'), SequenceKey(idx=0))), expand_state=<ExpandState.COLLAPSED: 'collapsed'>), Text(text=','), FoldCondition(collapsed=Text(text=' '), expanded=EmptyPart()), FoldCondition(collapsed=EmptyPart(), expanded=Siblings(children=(StringCopyButton(copy_string=\"(lambda root: root.remainder['c'][0]['value'].path[0])\", annotation='Copy path: '),))))), Siblings(children=(FoldableTreeNodeImpl(contents=Siblings(children=(StringCopyButton(copy_string=\"(lambda root: root.remainder['c'][0]['value'].path[1])\", annotation='Copy path: '), IndentedChildren(children=[Siblings(children=(Text(text='idx'), Text(text='='), HyperlinkTarget(child=NumberColor(child=Text(text='0')), keypath=(GetAttrKey(name='remainder'), DictKey(key='c'), SequenceKey(idx=0), DictKey(key='value'), GetAttrKey(name='path'), SequenceKey(idx=1), GetAttrKey(name='idx'))), FoldCondition(collapsed=EmptyPart(), expanded=Text(text=',')), FoldCondition(collapsed=EmptyPart(), expanded=Siblings(children=(StringCopyButton(copy_string=\"(lambda root: root.remainder['c'][0]['value'].path[1].idx)\", annotation='Copy path: '),)))))]), Text(text=')'))), label=HyperlinkTarget(child=Siblings(children=(RoundtripCondition(roundtrip=QualifiedTypeNameSpanGroup(child=Text(text='jax.tree_util.')), not_roundtrip=EmptyPart()), Text(text='SequenceKey'), Text(text='('))), keypath=(GetAttrKey(name='remainder'), DictKey(key='c'), SequenceKey(idx=0), DictKey(key='value'), GetAttrKey(name='path'), SequenceKey(idx=1))), expand_state=<ExpandState.COLLAPSED: 'collapsed'>), Text(text=','), FoldCondition(collapsed=Text(text=' '), expanded=EmptyPart()), FoldCondition(collapsed=EmptyPart(), expanded=Siblings(children=(StringCopyButton(copy_string=\"(lambda root: root.remainder['c'][0]['value'].path[1])\", annotation='Copy path: '),))))), Siblings(children=(FoldableTreeNodeImpl(contents=Siblings(children=(StringCopyButton(copy_string=\"(lambda root: root.remainder['c'][0]['value'].path[2])\", annotation='Copy path: '), IndentedChildren(children=[Siblings(children=(Text(text='key'), Text(text='='), HyperlinkTarget(child=StringLiteralColor(child=Text(text=\"'value'\")), keypath=(GetAttrKey(name='remainder'), DictKey(key='c'), SequenceKey(idx=0), DictKey(key='value'), GetAttrKey(name='path'), SequenceKey(idx=2), GetAttrKey(name='key'))), FoldCondition(collapsed=EmptyPart(), expanded=Text(text=',')), FoldCondition(collapsed=EmptyPart(), expanded=Siblings(children=(StringCopyButton(copy_string=\"(lambda root: root.remainder['c'][0]['value'].path[2].key)\", annotation='Copy path: '),)))))]), Text(text=')'))), label=HyperlinkTarget(child=Siblings(children=(RoundtripCondition(roundtrip=QualifiedTypeNameSpanGroup(child=Text(text='jax.tree_util.')), not_roundtrip=EmptyPart()), Text(text='DictKey'), Text(text='('))), keypath=(GetAttrKey(name='remainder'), DictKey(key='c'), SequenceKey(idx=0), DictKey(key='value'), GetAttrKey(name='path'), SequenceKey(idx=2))), expand_state=<ExpandState.COLLAPSED: 'collapsed'>), FoldCondition(collapsed=EmptyPart(), expanded=Text(text=',')), FoldCondition(collapsed=EmptyPart(), expanded=Siblings(children=(StringCopyButton(copy_string=\"(lambda root: root.remainder['c'][0]['value'].path[2])\", annotation='Copy path: '),)))))]), Text(text=')'))), label=HyperlinkTarget(child=Text(text='('), keypath=(GetAttrKey(name='remainder'), DictKey(key='c'), SequenceKey(idx=0), DictKey(key='value'), GetAttrKey(name='path'))), expand_state=<ExpandState.COLLAPSED: 'collapsed'>), FoldCondition(collapsed=EmptyPart(), expanded=Text(text=',')), FoldCondition(collapsed=EmptyPart(), expanded=Siblings(children=(StringCopyButton(copy_string=\"(lambda root: root.remainder['c'][0]['value'].path)\", annotation='Copy path: '),)))))]), Text(text=')'))), label=HyperlinkTarget(child=Siblings(children=(RoundtripCondition(roundtrip=QualifiedTypeNameSpanGroup(child=Text(text='penzai.core.selectors.')), not_roundtrip=EmptyPart()), Text(text='SelectionHole'), Text(text='('))), keypath=(GetAttrKey(name='remainder'), DictKey(key='c'), SequenceKey(idx=0), DictKey(key='value'))), expand_state=<ExpandState.EXPANDED: 'expanded'>), FoldCondition(collapsed=EmptyPart(), expanded=Text(text=',')), FoldCondition(collapsed=EmptyPart(), expanded=Siblings(children=(StringCopyButton(copy_string=\"(lambda root: root.remainder['c'][0]['value'])\", annotation='Copy path: '),)))))]), Text(text='}'))), label=HyperlinkTarget(child=Text(text='{'), keypath=(GetAttrKey(name='remainder'), DictKey(key='c'), SequenceKey(idx=0))), expand_state=<ExpandState.COLLAPSED: 'collapsed'>), node_id=137745445814080, seen_more_than_once=set()), Text(text=','), FoldCondition(collapsed=Text(text=' '), expanded=EmptyPart()), FoldCondition(collapsed=EmptyPart(), expanded=Siblings(children=(DynamicSharedCheck(if_shared=SharedWarningLabel(child=Text(text=' # Repeated python obj at 0x7d475c5dff40')), node_id=137745445814080, seen_more_than_once=set()), StringCopyButton(copy_string=\"(lambda root: root.remainder['c'][0])\", annotation='Copy path: ')))))), Siblings(children=(WithDynamicSharedPip(child=FoldableTreeNodeImpl(contents=Siblings(children=(StringCopyButton(copy_string=\"(lambda root: root.remainder['c'][1])\", annotation='Copy path: '), IndentedChildren(children=[Siblings(children=(HyperlinkTarget(child=StringLiteralColor(child=Text(text=\"'value'\")), keypath=None), Text(text=': '), FoldableTreeNodeImpl(contents=Siblings(children=(StringCopyButton(copy_string=\"(lambda root: root.remainder['c'][1]['value'])\", annotation='Copy path: '), IndentedChildren(children=[Siblings(children=(Text(text='path'), Text(text='='), FoldableTreeNodeImpl(contents=Siblings(children=(StringCopyButton(copy_string=\"(lambda root: root.remainder['c'][1]['value'].path)\", annotation='Copy path: '), IndentedChildren(children=[Siblings(children=(FoldableTreeNodeImpl(contents=Siblings(children=(StringCopyButton(copy_string=\"(lambda root: root.remainder['c'][1]['value'].path[0])\", annotation='Copy path: '), IndentedChildren(children=[Siblings(children=(Text(text='key'), Text(text='='), HyperlinkTarget(child=StringLiteralColor(child=Text(text=\"'c'\")), keypath=(GetAttrKey(name='remainder'), DictKey(key='c'), SequenceKey(idx=1), DictKey(key='value'), GetAttrKey(name='path'), SequenceKey(idx=0), GetAttrKey(name='key'))), FoldCondition(collapsed=EmptyPart(), expanded=Text(text=',')), FoldCondition(collapsed=EmptyPart(), expanded=Siblings(children=(StringCopyButton(copy_string=\"(lambda root: root.remainder['c'][1]['value'].path[0].key)\", annotation='Copy path: '),)))))]), Text(text=')'))), label=HyperlinkTarget(child=Siblings(children=(RoundtripCondition(roundtrip=QualifiedTypeNameSpanGroup(child=Text(text='jax.tree_util.')), not_roundtrip=EmptyPart()), Text(text='DictKey'), Text(text='('))), keypath=(GetAttrKey(name='remainder'), DictKey(key='c'), SequenceKey(idx=1), DictKey(key='value'), GetAttrKey(name='path'), SequenceKey(idx=0))), expand_state=<ExpandState.COLLAPSED: 'collapsed'>), Text(text=','), FoldCondition(collapsed=Text(text=' '), expanded=EmptyPart()), FoldCondition(collapsed=EmptyPart(), expanded=Siblings(children=(StringCopyButton(copy_string=\"(lambda root: root.remainder['c'][1]['value'].path[0])\", annotation='Copy path: '),))))), Siblings(children=(FoldableTreeNodeImpl(contents=Siblings(children=(StringCopyButton(copy_string=\"(lambda root: root.remainder['c'][1]['value'].path[1])\", annotation='Copy path: '), IndentedChildren(children=[Siblings(children=(Text(text='idx'), Text(text='='), HyperlinkTarget(child=NumberColor(child=Text(text='1')), keypath=(GetAttrKey(name='remainder'), DictKey(key='c'), SequenceKey(idx=1), DictKey(key='value'), GetAttrKey(name='path'), SequenceKey(idx=1), GetAttrKey(name='idx'))), FoldCondition(collapsed=EmptyPart(), expanded=Text(text=',')), FoldCondition(collapsed=EmptyPart(), expanded=Siblings(children=(StringCopyButton(copy_string=\"(lambda root: root.remainder['c'][1]['value'].path[1].idx)\", annotation='Copy path: '),)))))]), Text(text=')'))), label=HyperlinkTarget(child=Siblings(children=(RoundtripCondition(roundtrip=QualifiedTypeNameSpanGroup(child=Text(text='jax.tree_util.')), not_roundtrip=EmptyPart()), Text(text='SequenceKey'), Text(text='('))), keypath=(GetAttrKey(name='remainder'), DictKey(key='c'), SequenceKey(idx=1), DictKey(key='value'), GetAttrKey(name='path'), SequenceKey(idx=1))), expand_state=<ExpandState.COLLAPSED: 'collapsed'>), Text(text=','), FoldCondition(collapsed=Text(text=' '), expanded=EmptyPart()), FoldCondition(collapsed=EmptyPart(), expanded=Siblings(children=(StringCopyButton(copy_string=\"(lambda root: root.remainder['c'][1]['value'].path[1])\", annotation='Copy path: '),))))), Siblings(children=(FoldableTreeNodeImpl(contents=Siblings(children=(StringCopyButton(copy_string=\"(lambda root: root.remainder['c'][1]['value'].path[2])\", annotation='Copy path: '), IndentedChildren(children=[Siblings(children=(Text(text='key'), Text(text='='), HyperlinkTarget(child=StringLiteralColor(child=Text(text=\"'value'\")), keypath=(GetAttrKey(name='remainder'), DictKey(key='c'), SequenceKey(idx=1), DictKey(key='value'), GetAttrKey(name='path'), SequenceKey(idx=2), GetAttrKey(name='key'))), FoldCondition(collapsed=EmptyPart(), expanded=Text(text=',')), FoldCondition(collapsed=EmptyPart(), expanded=Siblings(children=(StringCopyButton(copy_string=\"(lambda root: root.remainder['c'][1]['value'].path[2].key)\", annotation='Copy path: '),)))))]), Text(text=')'))), label=HyperlinkTarget(child=Siblings(children=(RoundtripCondition(roundtrip=QualifiedTypeNameSpanGroup(child=Text(text='jax.tree_util.')), not_roundtrip=EmptyPart()), Text(text='DictKey'), Text(text='('))), keypath=(GetAttrKey(name='remainder'), DictKey(key='c'), SequenceKey(idx=1), DictKey(key='value'), GetAttrKey(name='path'), SequenceKey(idx=2))), expand_state=<ExpandState.COLLAPSED: 'collapsed'>), FoldCondition(collapsed=EmptyPart(), expanded=Text(text=',')), FoldCondition(collapsed=EmptyPart(), expanded=Siblings(children=(StringCopyButton(copy_string=\"(lambda root: root.remainder['c'][1]['value'].path[2])\", annotation='Copy path: '),)))))]), Text(text=')'))), label=HyperlinkTarget(child=Text(text='('), keypath=(GetAttrKey(name='remainder'), DictKey(key='c'), SequenceKey(idx=1), DictKey(key='value'), GetAttrKey(name='path'))), expand_state=<ExpandState.COLLAPSED: 'collapsed'>), FoldCondition(collapsed=EmptyPart(), expanded=Text(text=',')), FoldCondition(collapsed=EmptyPart(), expanded=Siblings(children=(StringCopyButton(copy_string=\"(lambda root: root.remainder['c'][1]['value'].path)\", annotation='Copy path: '),)))))]), Text(text=')'))), label=HyperlinkTarget(child=Siblings(children=(RoundtripCondition(roundtrip=QualifiedTypeNameSpanGroup(child=Text(text='penzai.core.selectors.')), not_roundtrip=EmptyPart()), Text(text='SelectionHole'), Text(text='('))), keypath=(GetAttrKey(name='remainder'), DictKey(key='c'), SequenceKey(idx=1), DictKey(key='value'))), expand_state=<ExpandState.EXPANDED: 'expanded'>), FoldCondition(collapsed=EmptyPart(), expanded=Text(text=',')), FoldCondition(collapsed=EmptyPart(), expanded=Siblings(children=(StringCopyButton(copy_string=\"(lambda root: root.remainder['c'][1]['value'])\", annotation='Copy path: '),)))))]), Text(text='}'))), label=HyperlinkTarget(child=Text(text='{'), keypath=(GetAttrKey(name='remainder'), DictKey(key='c'), SequenceKey(idx=1))), expand_state=<ExpandState.COLLAPSED: 'collapsed'>), node_id=137745444802944, seen_more_than_once=set()), Text(text=','), FoldCondition(collapsed=Text(text=' '), expanded=EmptyPart()), FoldCondition(collapsed=EmptyPart(), expanded=Siblings(children=(DynamicSharedCheck(if_shared=SharedWarningLabel(child=Text(text=' # Repeated python obj at 0x7d475c4e9180')), node_id=137745444802944, seen_more_than_once=set()), StringCopyButton(copy_string=\"(lambda root: root.remainder['c'][1])\", annotation='Copy path: ')))))), Siblings(children=(WithDynamicSharedPip(child=FoldableTreeNodeImpl(contents=Siblings(children=(StringCopyButton(copy_string=\"(lambda root: root.remainder['c'][2])\", annotation='Copy path: '), IndentedChildren(children=[Siblings(children=(HyperlinkTarget(child=StringLiteralColor(child=Text(text=\"'value'\")), keypath=None), Text(text=': '), FoldableTreeNodeImpl(contents=Siblings(children=(StringCopyButton(copy_string=\"(lambda root: root.remainder['c'][2]['value'])\", annotation='Copy path: '), IndentedChildren(children=[Siblings(children=(Text(text='path'), Text(text='='), FoldableTreeNodeImpl(contents=Siblings(children=(StringCopyButton(copy_string=\"(lambda root: root.remainder['c'][2]['value'].path)\", annotation='Copy path: '), IndentedChildren(children=[Siblings(children=(FoldableTreeNodeImpl(contents=Siblings(children=(StringCopyButton(copy_string=\"(lambda root: root.remainder['c'][2]['value'].path[0])\", annotation='Copy path: '), IndentedChildren(children=[Siblings(children=(Text(text='key'), Text(text='='), HyperlinkTarget(child=StringLiteralColor(child=Text(text=\"'c'\")), keypath=(GetAttrKey(name='remainder'), DictKey(key='c'), SequenceKey(idx=2), DictKey(key='value'), GetAttrKey(name='path'), SequenceKey(idx=0), GetAttrKey(name='key'))), FoldCondition(collapsed=EmptyPart(), expanded=Text(text=',')), FoldCondition(collapsed=EmptyPart(), expanded=Siblings(children=(StringCopyButton(copy_string=\"(lambda root: root.remainder['c'][2]['value'].path[0].key)\", annotation='Copy path: '),)))))]), Text(text=')'))), label=HyperlinkTarget(child=Siblings(children=(RoundtripCondition(roundtrip=QualifiedTypeNameSpanGroup(child=Text(text='jax.tree_util.')), not_roundtrip=EmptyPart()), Text(text='DictKey'), Text(text='('))), keypath=(GetAttrKey(name='remainder'), DictKey(key='c'), SequenceKey(idx=2), DictKey(key='value'), GetAttrKey(name='path'), SequenceKey(idx=0))), expand_state=<ExpandState.COLLAPSED: 'collapsed'>), Text(text=','), FoldCondition(collapsed=Text(text=' '), expanded=EmptyPart()), FoldCondition(collapsed=EmptyPart(), expanded=Siblings(children=(StringCopyButton(copy_string=\"(lambda root: root.remainder['c'][2]['value'].path[0])\", annotation='Copy path: '),))))), Siblings(children=(FoldableTreeNodeImpl(contents=Siblings(children=(StringCopyButton(copy_string=\"(lambda root: root.remainder['c'][2]['value'].path[1])\", annotation='Copy path: '), IndentedChildren(children=[Siblings(children=(Text(text='idx'), Text(text='='), HyperlinkTarget(child=NumberColor(child=Text(text='2')), keypath=(GetAttrKey(name='remainder'), DictKey(key='c'), SequenceKey(idx=2), DictKey(key='value'), GetAttrKey(name='path'), SequenceKey(idx=1), GetAttrKey(name='idx'))), FoldCondition(collapsed=EmptyPart(), expanded=Text(text=',')), FoldCondition(collapsed=EmptyPart(), expanded=Siblings(children=(StringCopyButton(copy_string=\"(lambda root: root.remainder['c'][2]['value'].path[1].idx)\", annotation='Copy path: '),)))))]), Text(text=')'))), label=HyperlinkTarget(child=Siblings(children=(RoundtripCondition(roundtrip=QualifiedTypeNameSpanGroup(child=Text(text='jax.tree_util.')), not_roundtrip=EmptyPart()), Text(text='SequenceKey'), Text(text='('))), keypath=(GetAttrKey(name='remainder'), DictKey(key='c'), SequenceKey(idx=2), DictKey(key='value'), GetAttrKey(name='path'), SequenceKey(idx=1))), expand_state=<ExpandState.COLLAPSED: 'collapsed'>), Text(text=','), FoldCondition(collapsed=Text(text=' '), expanded=EmptyPart()), FoldCondition(collapsed=EmptyPart(), expanded=Siblings(children=(StringCopyButton(copy_string=\"(lambda root: root.remainder['c'][2]['value'].path[1])\", annotation='Copy path: '),))))), Siblings(children=(FoldableTreeNodeImpl(contents=Siblings(children=(StringCopyButton(copy_string=\"(lambda root: root.remainder['c'][2]['value'].path[2])\", annotation='Copy path: '), IndentedChildren(children=[Siblings(children=(Text(text='key'), Text(text='='), HyperlinkTarget(child=StringLiteralColor(child=Text(text=\"'value'\")), keypath=(GetAttrKey(name='remainder'), DictKey(key='c'), SequenceKey(idx=2), DictKey(key='value'), GetAttrKey(name='path'), SequenceKey(idx=2), GetAttrKey(name='key'))), FoldCondition(collapsed=EmptyPart(), expanded=Text(text=',')), FoldCondition(collapsed=EmptyPart(), expanded=Siblings(children=(StringCopyButton(copy_string=\"(lambda root: root.remainder['c'][2]['value'].path[2].key)\", annotation='Copy path: '),)))))]), Text(text=')'))), label=HyperlinkTarget(child=Siblings(children=(RoundtripCondition(roundtrip=QualifiedTypeNameSpanGroup(child=Text(text='jax.tree_util.')), not_roundtrip=EmptyPart()), Text(text='DictKey'), Text(text='('))), keypath=(GetAttrKey(name='remainder'), DictKey(key='c'), SequenceKey(idx=2), DictKey(key='value'), GetAttrKey(name='path'), SequenceKey(idx=2))), expand_state=<ExpandState.COLLAPSED: 'collapsed'>), FoldCondition(collapsed=EmptyPart(), expanded=Text(text=',')), FoldCondition(collapsed=EmptyPart(), expanded=Siblings(children=(StringCopyButton(copy_string=\"(lambda root: root.remainder['c'][2]['value'].path[2])\", annotation='Copy path: '),)))))]), Text(text=')'))), label=HyperlinkTarget(child=Text(text='('), keypath=(GetAttrKey(name='remainder'), DictKey(key='c'), SequenceKey(idx=2), DictKey(key='value'), GetAttrKey(name='path'))), expand_state=<ExpandState.COLLAPSED: 'collapsed'>), FoldCondition(collapsed=EmptyPart(), expanded=Text(text=',')), FoldCondition(collapsed=EmptyPart(), expanded=Siblings(children=(StringCopyButton(copy_string=\"(lambda root: root.remainder['c'][2]['value'].path)\", annotation='Copy path: '),)))))]), Text(text=')'))), label=HyperlinkTarget(child=Siblings(children=(RoundtripCondition(roundtrip=QualifiedTypeNameSpanGroup(child=Text(text='penzai.core.selectors.')), not_roundtrip=EmptyPart()), Text(text='SelectionHole'), Text(text='('))), keypath=(GetAttrKey(name='remainder'), DictKey(key='c'), SequenceKey(idx=2), DictKey(key='value'))), expand_state=<ExpandState.EXPANDED: 'expanded'>), FoldCondition(collapsed=EmptyPart(), expanded=Text(text=',')), FoldCondition(collapsed=EmptyPart(), expanded=Siblings(children=(StringCopyButton(copy_string=\"(lambda root: root.remainder['c'][2]['value'])\", annotation='Copy path: '),)))))]), Text(text='}'))), label=HyperlinkTarget(child=Text(text='{'), keypath=(GetAttrKey(name='remainder'), DictKey(key='c'), SequenceKey(idx=2))), expand_state=<ExpandState.COLLAPSED: 'collapsed'>), node_id=137745444801856, seen_more_than_once=set()), FoldCondition(collapsed=EmptyPart(), expanded=Text(text=',')), FoldCondition(collapsed=EmptyPart(), expanded=Siblings(children=(DynamicSharedCheck(if_shared=SharedWarningLabel(child=Text(text=' # Repeated python obj at 0x7d475c4e8d40')), node_id=137745444801856, seen_more_than_once=set()), StringCopyButton(copy_string=\"(lambda root: root.remainder['c'][2])\", annotation='Copy path: '))))))]), Text(text=']'))), label=HyperlinkTarget(child=Text(text='['), keypath=(GetAttrKey(name='remainder'), DictKey(key='c'))), expand_state=<ExpandState.EXPANDED: 'expanded'>), node_id=137745444334912, seen_more_than_once=set()), FoldCondition(collapsed=EmptyPart(), expanded=Text(text=',')), FoldCondition(collapsed=EmptyPart(), expanded=Siblings(children=(DynamicSharedCheck(if_shared=SharedWarningLabel(child=Text(text=' # Repeated python obj at 0x7d475c476d40')), node_id=137745444334912, seen_more_than_once=set()), StringCopyButton(copy_string=\"(lambda root: root.remainder['c'])\", annotation='Copy path: '))))))]), Text(text='}'))), label=HyperlinkTarget(child=Text(text='{'), keypath=(GetAttrKey(name='remainder'),)), expand_state=<ExpandState.COLLAPSED: 'collapsed'>), node_id=137745444801920, seen_more_than_once=set()), FoldCondition(collapsed=EmptyPart(), expanded=Text(text=',')), FoldCondition(collapsed=EmptyPart(), expanded=Siblings(children=(DynamicSharedCheck(if_shared=SharedWarningLabel(child=Text(text=' # Repeated python obj at 0x7d475c4e8d80')), node_id=137745444801920, seen_more_than_once=set()), StringCopyButton(copy_string='(lambda root: root.remainder)', annotation='Copy path: '))))))]), Text(text=')'))), label=HyperlinkTarget(child=Siblings(children=(RoundtripCondition(roundtrip=QualifiedTypeNameSpanGroup(child=Text(text='penzai.core.selectors.')), not_roundtrip=EmptyPart()), Text(text='Selection'), Text(text='('))), keypath=()), expand_state=<ExpandState.EXPANDED: 'expanded'>),))))"
      ]
     },
     "metadata": {},
     "output_type": "display_data"
    }
   ],
   "source": [
    "my_selection = (\n",
    "    pz.select(my_nested_object)\n",
    "      .at(lambda root: root[\"c\"])\n",
    "      .at_instances_of(jax.typing.ArrayLike)\n",
    ")\n",
    "\n",
    "pz.show(my_selection)"
   ]
  },
  {
   "cell_type": "markdown",
   "metadata": {
    "id": "FJ3OuNUD_lO4"
   },
   "source": [
    "By default, though, selections are rendered in a way that emphasizes what you've selected, so you can tell at a glance that you're making the changes you expect to:"
   ]
  },
  {
   "cell_type": "code",
   "execution_count": 12,
   "metadata": {
    "execution": {
     "iopub.execute_input": "2024-07-16T16:57:40.526683Z",
     "iopub.status.busy": "2024-07-16T16:57:40.526426Z",
     "iopub.status.idle": "2024-07-16T16:57:40.544580Z",
     "shell.execute_reply": "2024-07-16T16:57:40.544370Z"
    },
    "id": "EUD6zd_L-iNr"
   },
   "outputs": [
    {
     "data": {
      "text/html": [
       "<script> (()=>{ if (customElements.get('treescope-container') === undefined) { class TreescopeContainer extends HTMLElement { constructor() { super(); this.attachShadow({mode: \"open\"}); this.defns = {}; this.state = {}; } } customElements.define(\"treescope-container\", TreescopeContainer); } if (customElements.get('treescope-run-here') === undefined) { class RunHere extends HTMLElement { constructor() { super() } connectedCallback() { const run = child => { const fn = new Function(child.textContent); child.textContent = \"\"; fn.call(this); this.remove(); }; const child = this.querySelector(\"script\"); if (child) { run(child); } else { new MutationObserver(()=>{ run(this.querySelector(\"script\")); }).observe(this, {childList: true}); } } } customElements.define(\"treescope-run-here\", RunHere); } })(); </script> <treescope-container class=\"treescope_out_cb74a4f5fe1443038882cf15f89f64b5\" ></treescope-container> <treescope-run-here><script type=\"application/octet-stream\"> const root = ( Array.from(document.getElementsByClassName( \"treescope_out_cb74a4f5fe1443038882cf15f89f64b5\")) .filter((elt) => !elt.dataset.setup) )[0]; root.dataset.setup = 1; const msg = document.createElement(\"span\"); msg.style = \"color: #aaaaaa; font-family: monospace; transition: opacity 0.2s; opacity: 0.0;\"; msg.textContent = \"(Loading...)\"; root.state.loadingMsg = msg; root.shadowRoot.appendChild(msg); root.state.chain = new Promise((resolve, reject) => { const observer = new IntersectionObserver((entries) => { for (const entry of entries) { if (entry.isIntersecting) { resolve(); observer.disconnect(); return; } } }, {rootMargin: \"1000px\"}); window.setTimeout(() => { if (root.loadingMsg) { root.loadingMsg.style.opacity = \"1.0\"; } observer.observe(root); }, 0); }); root.state.deferring = false; const _insertNode = (node) => { for (let oldScript of node.querySelectorAll(\"script\")) { let newScript = document.createElement(\"script\"); newScript.type = oldScript.type; newScript.textContent = oldScript.textContent; oldScript.parentNode.replaceChild(newScript, oldScript); } if (root.state.loadingMsg) { root.state.loadingMsg.remove(); root.state.loadingMsg = null; } root.shadowRoot.appendChild(node); }; root.defns.insertContent = ((contentNode, compressed) => { if (compressed) { root.state.deferring = true; } if (root.state.deferring) { root.state.chain = (async () => { await root.state.chain; if (compressed) { const encoded = contentNode.textContent; const blob = new Blob([ Uint8Array.from(atob(encoded), (m) => m.codePointAt(0)) ]); const reader = blob.stream().pipeThrough( new DecompressionStream(\"deflate\") ).pipeThrough( new TextDecoderStream(\"utf-8\") ).getReader(); const parts = []; while (true) { const step = await reader.read(); if (step.done) { break; } parts.push(step.value); } const tpl = document.createElement('template'); tpl.innerHTML = parts.join(\"\"); _insertNode(tpl.content); } else { _insertNode(contentNode.content); } })(); } else { _insertNode(contentNode.content); } }); </script></treescope-run-here><div style=\"display:none\"> <script type=\"application/octet-stream\" >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</script> <treescope-run-here><script type=\"application/octet-stream\"> const root = ( Array.from(document.getElementsByClassName( \"treescope_out_cb74a4f5fe1443038882cf15f89f64b5\")) .filter((elt) => !elt.dataset['step0']) )[0]; root.dataset['step0'] = 1; root.defns.insertContent( this.parentNode.querySelector('script[type=\"application/octet-stream\"]'), true ); this.parentNode.remove(); </script></treescope-run-here> </div>"
      ],
      "text/plain": [
       "<IPython.core.display.HTML object>"
      ]
     },
     "metadata": {},
     "output_type": "display_data"
    },
    {
     "data": {
      "text/html": [
       "<div style=\"display:none\"> <script type=\"application/octet-stream\" >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</script> <treescope-run-here><script type=\"application/octet-stream\"> const root = ( Array.from(document.getElementsByClassName( \"treescope_out_cb74a4f5fe1443038882cf15f89f64b5\")) .filter((elt) => !elt.dataset['step1']) )[0]; root.dataset['step1'] = 1; root.defns.insertContent( this.parentNode.querySelector('script[type=\"application/octet-stream\"]'), true ); this.parentNode.remove(); </script></treescope-run-here> </div>"
      ],
      "text/plain": [
       "<IPython.core.display.HTML object>"
      ]
     },
     "metadata": {},
     "output_type": "display_data"
    },
    {
     "data": {
      "text/html": [
       "<treescope-run-here><script type=\"application/octet-stream\"> const root = ( Array.from(document.getElementsByClassName( \"treescope_out_cb74a4f5fe1443038882cf15f89f64b5\")) .filter((elt) => !elt.dataset.stolen) )[0]; root.dataset.stolen = 1; this.parentNode.replaceChild(root, this); </script></treescope-run-here>"
      ],
      "text/plain": [
       "Selection(\n",
       "  selected_by_path=OrderedDict({\n",
       "    (DictKey(key='c'), SequenceKey(idx=0), DictKey(key='value')):\n",
       "      <jax.Array([ 0,  1,  2,  3,  4,  5,  6,  7,  8,  9, 10, 11], dtype=int32)>,\n",
       "    (DictKey(key='c'), SequenceKey(idx=1), DictKey(key='value')):\n",
       "      <jax.Array([0., 0., 0., 0., 0., 0., 0.], dtype=float32)>,\n",
       "    (DictKey(key='c'), SequenceKey(idx=2), DictKey(key='value')):\n",
       "      3,\n",
       "  }),\n",
       "  remainder={'a': 1, 'b': <jax.Array([0, 1, 2, 3, 4, 5, 6, 7, 8, 9], dtype=int32)>, 'c': [{'value': SelectionHole(path=(DictKey(key='c'), SequenceKey(idx=0), DictKey(key='value')))}, {'value': SelectionHole(path=(DictKey(key='c'), SequenceKey(idx=1), DictKey(key='value')))}, {'value': SelectionHole(path=(DictKey(key='c'), SequenceKey(idx=2), DictKey(key='value')))}]},\n",
       ")"
      ]
     },
     "execution_count": 12,
     "metadata": {},
     "output_type": "execute_result"
    }
   ],
   "source": [
    "my_selection"
   ]
  },
  {
   "cell_type": "markdown",
   "metadata": {
    "id": "Alps_lEFBFq3"
   },
   "source": [
    "(This fancy rendering mode is triggered when you display a single selection after enabling `pz.ts.register_as_default()`, or when you call `.show_selection()` on a selection object.)"
   ]
  },
  {
   "cell_type": "markdown",
   "metadata": {
    "id": "7UpYotjP-ZIC"
   },
   "source": [
    "## Building selections"
   ]
  },
  {
   "cell_type": "markdown",
   "metadata": {
    "id": "WEBkR8V7EiRr"
   },
   "source": [
    "The penzai selector API is designed around *method chaining*. You generally start by creating a trivial selection containing only a single object, the root object, using `pz.select`:"
   ]
  },
  {
   "cell_type": "code",
   "execution_count": 13,
   "metadata": {
    "execution": {
     "iopub.execute_input": "2024-07-16T16:57:40.552311Z",
     "iopub.status.busy": "2024-07-16T16:57:40.552043Z",
     "iopub.status.idle": "2024-07-16T16:57:40.564869Z",
     "shell.execute_reply": "2024-07-16T16:57:40.564596Z"
    },
    "id": "k3mVVp0-9rL2"
   },
   "outputs": [
    {
     "data": {
      "text/html": [
       "<script> (()=>{ if (customElements.get('treescope-container') === undefined) { class TreescopeContainer extends HTMLElement { constructor() { super(); this.attachShadow({mode: \"open\"}); this.defns = {}; this.state = {}; } } customElements.define(\"treescope-container\", TreescopeContainer); } if (customElements.get('treescope-run-here') === undefined) { class RunHere extends HTMLElement { constructor() { super() } connectedCallback() { const run = child => { const fn = new Function(child.textContent); child.textContent = \"\"; fn.call(this); this.remove(); }; const child = this.querySelector(\"script\"); if (child) { run(child); } else { new MutationObserver(()=>{ run(this.querySelector(\"script\")); }).observe(this, {childList: true}); } } } customElements.define(\"treescope-run-here\", RunHere); } })(); </script> <treescope-container class=\"treescope_out_822f8bbda1594d82a9023df6583f5c82\" ></treescope-container> <treescope-run-here><script type=\"application/octet-stream\"> const root = ( Array.from(document.getElementsByClassName( \"treescope_out_822f8bbda1594d82a9023df6583f5c82\")) .filter((elt) => !elt.dataset.setup) )[0]; root.dataset.setup = 1; const msg = document.createElement(\"span\"); msg.style = \"color: #aaaaaa; font-family: monospace; transition: opacity 0.2s; opacity: 0.0;\"; msg.textContent = \"(Loading...)\"; root.state.loadingMsg = msg; root.shadowRoot.appendChild(msg); root.state.chain = new Promise((resolve, reject) => { const observer = new IntersectionObserver((entries) => { for (const entry of entries) { if (entry.isIntersecting) { resolve(); observer.disconnect(); return; } } }, {rootMargin: \"1000px\"}); window.setTimeout(() => { if (root.loadingMsg) { root.loadingMsg.style.opacity = \"1.0\"; } observer.observe(root); }, 0); }); root.state.deferring = false; const _insertNode = (node) => { for (let oldScript of node.querySelectorAll(\"script\")) { let newScript = document.createElement(\"script\"); newScript.type = oldScript.type; newScript.textContent = oldScript.textContent; oldScript.parentNode.replaceChild(newScript, oldScript); } if (root.state.loadingMsg) { root.state.loadingMsg.remove(); root.state.loadingMsg = null; } root.shadowRoot.appendChild(node); }; root.defns.insertContent = ((contentNode, compressed) => { if (compressed) { root.state.deferring = true; } if (root.state.deferring) { root.state.chain = (async () => { await root.state.chain; if (compressed) { const encoded = contentNode.textContent; const blob = new Blob([ Uint8Array.from(atob(encoded), (m) => m.codePointAt(0)) ]); const reader = blob.stream().pipeThrough( new DecompressionStream(\"deflate\") ).pipeThrough( new TextDecoderStream(\"utf-8\") ).getReader(); const parts = []; while (true) { const step = await reader.read(); if (step.done) { break; } parts.push(step.value); } const tpl = document.createElement('template'); tpl.innerHTML = parts.join(\"\"); _insertNode(tpl.content); } else { _insertNode(contentNode.content); } })(); } else { _insertNode(contentNode.content); } }); </script></treescope-run-here><div style=\"display:none\"> <script type=\"application/octet-stream\" >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</script> <treescope-run-here><script type=\"application/octet-stream\"> const root = ( Array.from(document.getElementsByClassName( \"treescope_out_822f8bbda1594d82a9023df6583f5c82\")) .filter((elt) => !elt.dataset['step0']) )[0]; root.dataset['step0'] = 1; root.defns.insertContent( this.parentNode.querySelector('script[type=\"application/octet-stream\"]'), true ); this.parentNode.remove(); </script></treescope-run-here> </div>"
      ],
      "text/plain": [
       "<IPython.core.display.HTML object>"
      ]
     },
     "metadata": {},
     "output_type": "display_data"
    },
    {
     "data": {
      "text/html": [
       "<div style=\"display:none\"> <script type=\"application/octet-stream\" >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</script> <treescope-run-here><script type=\"application/octet-stream\"> const root = ( Array.from(document.getElementsByClassName( \"treescope_out_822f8bbda1594d82a9023df6583f5c82\")) .filter((elt) => !elt.dataset['step1']) )[0]; root.dataset['step1'] = 1; root.defns.insertContent( this.parentNode.querySelector('script[type=\"application/octet-stream\"]'), true ); this.parentNode.remove(); </script></treescope-run-here> </div>"
      ],
      "text/plain": [
       "<IPython.core.display.HTML object>"
      ]
     },
     "metadata": {},
     "output_type": "display_data"
    },
    {
     "data": {
      "text/html": [
       "<treescope-run-here><script type=\"application/octet-stream\"> const root = ( Array.from(document.getElementsByClassName( \"treescope_out_822f8bbda1594d82a9023df6583f5c82\")) .filter((elt) => !elt.dataset.stolen) )[0]; root.dataset.stolen = 1; this.parentNode.replaceChild(root, this); </script></treescope-run-here>"
      ],
      "text/plain": [
       "Selection(\n",
       "  selected_by_path=OrderedDict({\n",
       "    (): {\n",
       "      'a': 1,\n",
       "      'b': <jax.Array([0, 1, 2, 3, 4, 5, 6, 7, 8, 9], dtype=int32)>,\n",
       "      'c': [\n",
       "        {\n",
       "          'value': <jax.Array([ 0,  1,  2,  3,  4,  5,  6,  7,  8,  9, 10, 11], dtype=int32)>,\n",
       "        },\n",
       "        {\n",
       "          'value': <jax.Array([0., 0., 0., 0., 0., 0., 0.], dtype=float32)>,\n",
       "        },\n",
       "        {'value': 3},\n",
       "      ],\n",
       "    },\n",
       "  }),\n",
       "  remainder=SelectionHole(path=()),\n",
       ")"
      ]
     },
     "execution_count": 13,
     "metadata": {},
     "output_type": "execute_result"
    }
   ],
   "source": [
    "pz.select(my_nested_object)"
   ]
  },
  {
   "cell_type": "markdown",
   "metadata": {
    "id": "NcmUj1AF3xS1"
   },
   "source": [
    "You can also use the `.select()` attribute if you know your root object is a subclass of `pz.Struct`:"
   ]
  },
  {
   "cell_type": "code",
   "execution_count": 14,
   "metadata": {
    "execution": {
     "iopub.execute_input": "2024-07-16T16:57:40.570914Z",
     "iopub.status.busy": "2024-07-16T16:57:40.570614Z",
     "iopub.status.idle": "2024-07-16T16:57:40.576481Z",
     "shell.execute_reply": "2024-07-16T16:57:40.576292Z"
    },
    "id": "jqw3QPx9EzjR"
   },
   "outputs": [
    {
     "data": {
      "text/html": [
       "<script> (()=>{ if (customElements.get('treescope-container') === undefined) { class TreescopeContainer extends HTMLElement { constructor() { super(); this.attachShadow({mode: \"open\"}); this.defns = {}; this.state = {}; } } customElements.define(\"treescope-container\", TreescopeContainer); } if (customElements.get('treescope-run-here') === undefined) { class RunHere extends HTMLElement { constructor() { super() } connectedCallback() { const run = child => { const fn = new Function(child.textContent); child.textContent = \"\"; fn.call(this); this.remove(); }; const child = this.querySelector(\"script\"); if (child) { run(child); } else { new MutationObserver(()=>{ run(this.querySelector(\"script\")); }).observe(this, {childList: true}); } } } customElements.define(\"treescope-run-here\", RunHere); } })(); </script> <treescope-container class=\"treescope_out_dfb01d3db325441089ff4b429e7fae23\" ></treescope-container> <treescope-run-here><script type=\"application/octet-stream\"> const root = ( Array.from(document.getElementsByClassName( \"treescope_out_dfb01d3db325441089ff4b429e7fae23\")) .filter((elt) => !elt.dataset.setup) )[0]; root.dataset.setup = 1; const msg = document.createElement(\"span\"); msg.style = \"color: #aaaaaa; font-family: monospace; transition: opacity 0.2s; opacity: 0.0;\"; msg.textContent = \"(Loading...)\"; root.state.loadingMsg = msg; root.shadowRoot.appendChild(msg); root.state.chain = new Promise((resolve, reject) => { const observer = new IntersectionObserver((entries) => { for (const entry of entries) { if (entry.isIntersecting) { resolve(); observer.disconnect(); return; } } }, {rootMargin: \"1000px\"}); window.setTimeout(() => { if (root.loadingMsg) { root.loadingMsg.style.opacity = \"1.0\"; } observer.observe(root); }, 0); }); root.state.deferring = false; const _insertNode = (node) => { for (let oldScript of node.querySelectorAll(\"script\")) { let newScript = document.createElement(\"script\"); newScript.type = oldScript.type; newScript.textContent = oldScript.textContent; oldScript.parentNode.replaceChild(newScript, oldScript); } if (root.state.loadingMsg) { root.state.loadingMsg.remove(); root.state.loadingMsg = null; } root.shadowRoot.appendChild(node); }; root.defns.insertContent = ((contentNode, compressed) => { if (compressed) { root.state.deferring = true; } if (root.state.deferring) { root.state.chain = (async () => { await root.state.chain; if (compressed) { const encoded = contentNode.textContent; const blob = new Blob([ Uint8Array.from(atob(encoded), (m) => m.codePointAt(0)) ]); const reader = blob.stream().pipeThrough( new DecompressionStream(\"deflate\") ).pipeThrough( new TextDecoderStream(\"utf-8\") ).getReader(); const parts = []; while (true) { const step = await reader.read(); if (step.done) { break; } parts.push(step.value); } const tpl = document.createElement('template'); tpl.innerHTML = parts.join(\"\"); _insertNode(tpl.content); } else { _insertNode(contentNode.content); } })(); } else { _insertNode(contentNode.content); } }); </script></treescope-run-here><div style=\"display:none\"> <script type=\"application/octet-stream\" >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</script> <treescope-run-here><script type=\"application/octet-stream\"> const root = ( Array.from(document.getElementsByClassName( \"treescope_out_dfb01d3db325441089ff4b429e7fae23\")) .filter((elt) => !elt.dataset['step0']) )[0]; root.dataset['step0'] = 1; root.defns.insertContent( this.parentNode.querySelector('script[type=\"application/octet-stream\"]'), true ); this.parentNode.remove(); </script></treescope-run-here> </div>"
      ],
      "text/plain": [
       "<IPython.core.display.HTML object>"
      ]
     },
     "metadata": {},
     "output_type": "display_data"
    },
    {
     "data": {
      "text/html": [
       "<treescope-run-here><script type=\"application/octet-stream\"> const root = ( Array.from(document.getElementsByClassName( \"treescope_out_dfb01d3db325441089ff4b429e7fae23\")) .filter((elt) => !elt.dataset.stolen) )[0]; root.dataset.stolen = 1; this.parentNode.replaceChild(root, this); </script></treescope-run-here>"
      ],
      "text/plain": [
       "Selection(\n",
       "  selected_by_path=OrderedDict({(): MyStruct(foo=4)}),\n",
       "  remainder=SelectionHole(path=()),\n",
       ")"
      ]
     },
     "execution_count": 14,
     "metadata": {},
     "output_type": "execute_result"
    }
   ],
   "source": [
    "@pz.pytree_dataclass\n",
    "class MyStruct(pz.Struct):\n",
    "  foo: typing.Any\n",
    "\n",
    "MyStruct(4).select()"
   ]
  },
  {
   "cell_type": "markdown",
   "metadata": {
    "id": "tTKPVIUrFbeT"
   },
   "source": [
    "You then call methods on the selection to *refine* it to a subset of the currently selected values. These methods all operate relative to the currently selected object, so if you chain them, each method's output is restricted to the values selected by the previous method."
   ]
  },
  {
   "cell_type": "markdown",
   "metadata": {
    "id": "cFdUT5KaFju9"
   },
   "source": [
    "### Selecting with a function\n",
    "If you want to select a specific part of a tree, you can use `selection.at(...)`. The `.at` method takes as input a *function* that extracts the part you want to select, and returns a new selection that selects the extracted part:"
   ]
  },
  {
   "cell_type": "code",
   "execution_count": 15,
   "metadata": {
    "execution": {
     "iopub.execute_input": "2024-07-16T16:57:40.584230Z",
     "iopub.status.busy": "2024-07-16T16:57:40.583730Z",
     "iopub.status.idle": "2024-07-16T16:57:40.596839Z",
     "shell.execute_reply": "2024-07-16T16:57:40.596618Z"
    },
    "id": "8ZgPZeKeGDzQ"
   },
   "outputs": [
    {
     "data": {
      "text/html": [
       "<script> (()=>{ if (customElements.get('treescope-container') === undefined) { class TreescopeContainer extends HTMLElement { constructor() { super(); this.attachShadow({mode: \"open\"}); this.defns = {}; this.state = {}; } } customElements.define(\"treescope-container\", TreescopeContainer); } if (customElements.get('treescope-run-here') === undefined) { class RunHere extends HTMLElement { constructor() { super() } connectedCallback() { const run = child => { const fn = new Function(child.textContent); child.textContent = \"\"; fn.call(this); this.remove(); }; const child = this.querySelector(\"script\"); if (child) { run(child); } else { new MutationObserver(()=>{ run(this.querySelector(\"script\")); }).observe(this, {childList: true}); } } } customElements.define(\"treescope-run-here\", RunHere); } })(); </script> <treescope-container class=\"treescope_out_c800f9a0692f4f5db70c597683cc7583\" ></treescope-container> <treescope-run-here><script type=\"application/octet-stream\"> const root = ( Array.from(document.getElementsByClassName( \"treescope_out_c800f9a0692f4f5db70c597683cc7583\")) .filter((elt) => !elt.dataset.setup) )[0]; root.dataset.setup = 1; const msg = document.createElement(\"span\"); msg.style = \"color: #aaaaaa; font-family: monospace; transition: opacity 0.2s; opacity: 0.0;\"; msg.textContent = \"(Loading...)\"; root.state.loadingMsg = msg; root.shadowRoot.appendChild(msg); root.state.chain = new Promise((resolve, reject) => { const observer = new IntersectionObserver((entries) => { for (const entry of entries) { if (entry.isIntersecting) { resolve(); observer.disconnect(); return; } } }, {rootMargin: \"1000px\"}); window.setTimeout(() => { if (root.loadingMsg) { root.loadingMsg.style.opacity = \"1.0\"; } observer.observe(root); }, 0); }); root.state.deferring = false; const _insertNode = (node) => { for (let oldScript of node.querySelectorAll(\"script\")) { let newScript = document.createElement(\"script\"); newScript.type = oldScript.type; newScript.textContent = oldScript.textContent; oldScript.parentNode.replaceChild(newScript, oldScript); } if (root.state.loadingMsg) { root.state.loadingMsg.remove(); root.state.loadingMsg = null; } root.shadowRoot.appendChild(node); }; root.defns.insertContent = ((contentNode, compressed) => { if (compressed) { root.state.deferring = true; } if (root.state.deferring) { root.state.chain = (async () => { await root.state.chain; if (compressed) { const encoded = contentNode.textContent; const blob = new Blob([ Uint8Array.from(atob(encoded), (m) => m.codePointAt(0)) ]); const reader = blob.stream().pipeThrough( new DecompressionStream(\"deflate\") ).pipeThrough( new TextDecoderStream(\"utf-8\") ).getReader(); const parts = []; while (true) { const step = await reader.read(); if (step.done) { break; } parts.push(step.value); } const tpl = document.createElement('template'); tpl.innerHTML = parts.join(\"\"); _insertNode(tpl.content); } else { _insertNode(contentNode.content); } })(); } else { _insertNode(contentNode.content); } }); </script></treescope-run-here><div style=\"display:none\"> <script type=\"application/octet-stream\" >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</script> <treescope-run-here><script type=\"application/octet-stream\"> const root = ( Array.from(document.getElementsByClassName( \"treescope_out_c800f9a0692f4f5db70c597683cc7583\")) .filter((elt) => !elt.dataset['step0']) )[0]; root.dataset['step0'] = 1; root.defns.insertContent( this.parentNode.querySelector('script[type=\"application/octet-stream\"]'), true ); this.parentNode.remove(); </script></treescope-run-here> </div>"
      ],
      "text/plain": [
       "<IPython.core.display.HTML object>"
      ]
     },
     "metadata": {},
     "output_type": "display_data"
    },
    {
     "data": {
      "text/html": [
       "<div style=\"display:none\"> <script type=\"application/octet-stream\" >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</script> <treescope-run-here><script type=\"application/octet-stream\"> const root = ( Array.from(document.getElementsByClassName( \"treescope_out_c800f9a0692f4f5db70c597683cc7583\")) .filter((elt) => !elt.dataset['step1']) )[0]; root.dataset['step1'] = 1; root.defns.insertContent( this.parentNode.querySelector('script[type=\"application/octet-stream\"]'), true ); this.parentNode.remove(); </script></treescope-run-here> </div>"
      ],
      "text/plain": [
       "<IPython.core.display.HTML object>"
      ]
     },
     "metadata": {},
     "output_type": "display_data"
    },
    {
     "data": {
      "text/html": [
       "<treescope-run-here><script type=\"application/octet-stream\"> const root = ( Array.from(document.getElementsByClassName( \"treescope_out_c800f9a0692f4f5db70c597683cc7583\")) .filter((elt) => !elt.dataset.stolen) )[0]; root.dataset.stolen = 1; this.parentNode.replaceChild(root, this); </script></treescope-run-here>"
      ],
      "text/plain": [
       "Selection(\n",
       "  selected_by_path=OrderedDict({\n",
       "    (DictKey(key='c'),):\n",
       "      [\n",
       "        {\n",
       "          'value': <jax.Array([ 0,  1,  2,  3,  4,  5,  6,  7,  8,  9, 10, 11], dtype=int32)>,\n",
       "        },\n",
       "        {'value': <jax.Array([0., 0., 0., 0., 0., 0., 0.], dtype=float32)>},\n",
       "        {'value': 3},\n",
       "      ],\n",
       "  }),\n",
       "  remainder={\n",
       "    'a': 1,\n",
       "    'b': <jax.Array([0, 1, 2, 3, 4, 5, 6, 7, 8, 9], dtype=int32)>,\n",
       "    'c': SelectionHole(path=(DictKey(key='c'),)),\n",
       "  },\n",
       ")"
      ]
     },
     "execution_count": 15,
     "metadata": {},
     "output_type": "execute_result"
    }
   ],
   "source": [
    "pz.select(my_nested_object).at(lambda root: root[\"c\"])"
   ]
  },
  {
   "cell_type": "code",
   "execution_count": 16,
   "metadata": {
    "execution": {
     "iopub.execute_input": "2024-07-16T16:57:40.605252Z",
     "iopub.status.busy": "2024-07-16T16:57:40.604673Z",
     "iopub.status.idle": "2024-07-16T16:57:40.618137Z",
     "shell.execute_reply": "2024-07-16T16:57:40.617920Z"
    },
    "id": "dAO2KhdyGFZ5"
   },
   "outputs": [
    {
     "data": {
      "text/html": [
       "<script> (()=>{ if (customElements.get('treescope-container') === undefined) { class TreescopeContainer extends HTMLElement { constructor() { super(); this.attachShadow({mode: \"open\"}); this.defns = {}; this.state = {}; } } customElements.define(\"treescope-container\", TreescopeContainer); } if (customElements.get('treescope-run-here') === undefined) { class RunHere extends HTMLElement { constructor() { super() } connectedCallback() { const run = child => { const fn = new Function(child.textContent); child.textContent = \"\"; fn.call(this); this.remove(); }; const child = this.querySelector(\"script\"); if (child) { run(child); } else { new MutationObserver(()=>{ run(this.querySelector(\"script\")); }).observe(this, {childList: true}); } } } customElements.define(\"treescope-run-here\", RunHere); } })(); </script> <treescope-container class=\"treescope_out_decf144694f040b384c24addce85bc46\" ></treescope-container> <treescope-run-here><script type=\"application/octet-stream\"> const root = ( Array.from(document.getElementsByClassName( \"treescope_out_decf144694f040b384c24addce85bc46\")) .filter((elt) => !elt.dataset.setup) )[0]; root.dataset.setup = 1; const msg = document.createElement(\"span\"); msg.style = \"color: #aaaaaa; font-family: monospace; transition: opacity 0.2s; opacity: 0.0;\"; msg.textContent = \"(Loading...)\"; root.state.loadingMsg = msg; root.shadowRoot.appendChild(msg); root.state.chain = new Promise((resolve, reject) => { const observer = new IntersectionObserver((entries) => { for (const entry of entries) { if (entry.isIntersecting) { resolve(); observer.disconnect(); return; } } }, {rootMargin: \"1000px\"}); window.setTimeout(() => { if (root.loadingMsg) { root.loadingMsg.style.opacity = \"1.0\"; } observer.observe(root); }, 0); }); root.state.deferring = false; const _insertNode = (node) => { for (let oldScript of node.querySelectorAll(\"script\")) { let newScript = document.createElement(\"script\"); newScript.type = oldScript.type; newScript.textContent = oldScript.textContent; oldScript.parentNode.replaceChild(newScript, oldScript); } if (root.state.loadingMsg) { root.state.loadingMsg.remove(); root.state.loadingMsg = null; } root.shadowRoot.appendChild(node); }; root.defns.insertContent = ((contentNode, compressed) => { if (compressed) { root.state.deferring = true; } if (root.state.deferring) { root.state.chain = (async () => { await root.state.chain; if (compressed) { const encoded = contentNode.textContent; const blob = new Blob([ Uint8Array.from(atob(encoded), (m) => m.codePointAt(0)) ]); const reader = blob.stream().pipeThrough( new DecompressionStream(\"deflate\") ).pipeThrough( new TextDecoderStream(\"utf-8\") ).getReader(); const parts = []; while (true) { const step = await reader.read(); if (step.done) { break; } parts.push(step.value); } const tpl = document.createElement('template'); tpl.innerHTML = parts.join(\"\"); _insertNode(tpl.content); } else { _insertNode(contentNode.content); } })(); } else { _insertNode(contentNode.content); } }); </script></treescope-run-here><div style=\"display:none\"> <script type=\"application/octet-stream\" >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</script> <treescope-run-here><script type=\"application/octet-stream\"> const root = ( Array.from(document.getElementsByClassName( \"treescope_out_decf144694f040b384c24addce85bc46\")) .filter((elt) => !elt.dataset['step0']) )[0]; root.dataset['step0'] = 1; root.defns.insertContent( this.parentNode.querySelector('script[type=\"application/octet-stream\"]'), true ); this.parentNode.remove(); </script></treescope-run-here> </div>"
      ],
      "text/plain": [
       "<IPython.core.display.HTML object>"
      ]
     },
     "metadata": {},
     "output_type": "display_data"
    },
    {
     "data": {
      "text/html": [
       "<div style=\"display:none\"> <script type=\"application/octet-stream\" >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</script> <treescope-run-here><script type=\"application/octet-stream\"> const root = ( Array.from(document.getElementsByClassName( \"treescope_out_decf144694f040b384c24addce85bc46\")) .filter((elt) => !elt.dataset['step1']) )[0]; root.dataset['step1'] = 1; root.defns.insertContent( this.parentNode.querySelector('script[type=\"application/octet-stream\"]'), true ); this.parentNode.remove(); </script></treescope-run-here> </div>"
      ],
      "text/plain": [
       "<IPython.core.display.HTML object>"
      ]
     },
     "metadata": {},
     "output_type": "display_data"
    },
    {
     "data": {
      "text/html": [
       "<treescope-run-here><script type=\"application/octet-stream\"> const root = ( Array.from(document.getElementsByClassName( \"treescope_out_decf144694f040b384c24addce85bc46\")) .filter((elt) => !elt.dataset.stolen) )[0]; root.dataset.stolen = 1; this.parentNode.replaceChild(root, this); </script></treescope-run-here>"
      ],
      "text/plain": [
       "Selection(\n",
       "  selected_by_path=OrderedDict({\n",
       "    (DictKey(key='c'), SequenceKey(idx=1), DictKey(key='value')):\n",
       "      <jax.Array([0., 0., 0., 0., 0., 0., 0.], dtype=float32)>,\n",
       "  }),\n",
       "  remainder={\n",
       "    'a': 1,\n",
       "    'b': <jax.Array([0, 1, 2, 3, 4, 5, 6, 7, 8, 9], dtype=int32)>,\n",
       "    'c': [\n",
       "      {\n",
       "        'value': <jax.Array([ 0,  1,  2,  3,  4,  5,  6,  7,  8,  9, 10, 11], dtype=int32)>,\n",
       "      },\n",
       "      {'value': SelectionHole(path=(DictKey(key='c'), SequenceKey(idx=1), DictKey(key='value')))},\n",
       "      {'value': 3},\n",
       "    ],\n",
       "  },\n",
       ")"
      ]
     },
     "execution_count": 16,
     "metadata": {},
     "output_type": "execute_result"
    }
   ],
   "source": [
    "pz.select(my_nested_object).at(lambda root: root[\"c\"][1][\"value\"])"
   ]
  },
  {
   "cell_type": "code",
   "execution_count": 17,
   "metadata": {
    "execution": {
     "iopub.execute_input": "2024-07-16T16:57:40.625567Z",
     "iopub.status.busy": "2024-07-16T16:57:40.625259Z",
     "iopub.status.idle": "2024-07-16T16:57:40.638283Z",
     "shell.execute_reply": "2024-07-16T16:57:40.638055Z"
    },
    "id": "go9pWFfoGHHz"
   },
   "outputs": [
    {
     "data": {
      "text/html": [
       "<script> (()=>{ if (customElements.get('treescope-container') === undefined) { class TreescopeContainer extends HTMLElement { constructor() { super(); this.attachShadow({mode: \"open\"}); this.defns = {}; this.state = {}; } } customElements.define(\"treescope-container\", TreescopeContainer); } if (customElements.get('treescope-run-here') === undefined) { class RunHere extends HTMLElement { constructor() { super() } connectedCallback() { const run = child => { const fn = new Function(child.textContent); child.textContent = \"\"; fn.call(this); this.remove(); }; const child = this.querySelector(\"script\"); if (child) { run(child); } else { new MutationObserver(()=>{ run(this.querySelector(\"script\")); }).observe(this, {childList: true}); } } } customElements.define(\"treescope-run-here\", RunHere); } })(); </script> <treescope-container class=\"treescope_out_566e52e4d18642eaac1dc9512bf2fd03\" ></treescope-container> <treescope-run-here><script type=\"application/octet-stream\"> const root = ( Array.from(document.getElementsByClassName( \"treescope_out_566e52e4d18642eaac1dc9512bf2fd03\")) .filter((elt) => !elt.dataset.setup) )[0]; root.dataset.setup = 1; const msg = document.createElement(\"span\"); msg.style = \"color: #aaaaaa; font-family: monospace; transition: opacity 0.2s; opacity: 0.0;\"; msg.textContent = \"(Loading...)\"; root.state.loadingMsg = msg; root.shadowRoot.appendChild(msg); root.state.chain = new Promise((resolve, reject) => { const observer = new IntersectionObserver((entries) => { for (const entry of entries) { if (entry.isIntersecting) { resolve(); observer.disconnect(); return; } } }, {rootMargin: \"1000px\"}); window.setTimeout(() => { if (root.loadingMsg) { root.loadingMsg.style.opacity = \"1.0\"; } observer.observe(root); }, 0); }); root.state.deferring = false; const _insertNode = (node) => { for (let oldScript of node.querySelectorAll(\"script\")) { let newScript = document.createElement(\"script\"); newScript.type = oldScript.type; newScript.textContent = oldScript.textContent; oldScript.parentNode.replaceChild(newScript, oldScript); } if (root.state.loadingMsg) { root.state.loadingMsg.remove(); root.state.loadingMsg = null; } root.shadowRoot.appendChild(node); }; root.defns.insertContent = ((contentNode, compressed) => { if (compressed) { root.state.deferring = true; } if (root.state.deferring) { root.state.chain = (async () => { await root.state.chain; if (compressed) { const encoded = contentNode.textContent; const blob = new Blob([ Uint8Array.from(atob(encoded), (m) => m.codePointAt(0)) ]); const reader = blob.stream().pipeThrough( new DecompressionStream(\"deflate\") ).pipeThrough( new TextDecoderStream(\"utf-8\") ).getReader(); const parts = []; while (true) { const step = await reader.read(); if (step.done) { break; } parts.push(step.value); } const tpl = document.createElement('template'); tpl.innerHTML = parts.join(\"\"); _insertNode(tpl.content); } else { _insertNode(contentNode.content); } })(); } else { _insertNode(contentNode.content); } }); </script></treescope-run-here><div style=\"display:none\"> <script type=\"application/octet-stream\" >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</script> <treescope-run-here><script type=\"application/octet-stream\"> const root = ( Array.from(document.getElementsByClassName( \"treescope_out_566e52e4d18642eaac1dc9512bf2fd03\")) .filter((elt) => !elt.dataset['step0']) )[0]; root.dataset['step0'] = 1; root.defns.insertContent( this.parentNode.querySelector('script[type=\"application/octet-stream\"]'), true ); this.parentNode.remove(); </script></treescope-run-here> </div>"
      ],
      "text/plain": [
       "<IPython.core.display.HTML object>"
      ]
     },
     "metadata": {},
     "output_type": "display_data"
    },
    {
     "data": {
      "text/html": [
       "<div style=\"display:none\"> <script type=\"application/octet-stream\" >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</script> <treescope-run-here><script type=\"application/octet-stream\"> const root = ( Array.from(document.getElementsByClassName( \"treescope_out_566e52e4d18642eaac1dc9512bf2fd03\")) .filter((elt) => !elt.dataset['step1']) )[0]; root.dataset['step1'] = 1; root.defns.insertContent( this.parentNode.querySelector('script[type=\"application/octet-stream\"]'), true ); this.parentNode.remove(); </script></treescope-run-here> </div>"
      ],
      "text/plain": [
       "<IPython.core.display.HTML object>"
      ]
     },
     "metadata": {},
     "output_type": "display_data"
    },
    {
     "data": {
      "text/html": [
       "<treescope-run-here><script type=\"application/octet-stream\"> const root = ( Array.from(document.getElementsByClassName( \"treescope_out_566e52e4d18642eaac1dc9512bf2fd03\")) .filter((elt) => !elt.dataset.stolen) )[0]; root.dataset.stolen = 1; this.parentNode.replaceChild(root, this); </script></treescope-run-here>"
      ],
      "text/plain": [
       "Selection(\n",
       "  selected_by_path=OrderedDict({\n",
       "    (DictKey(key='b'),):\n",
       "      <jax.Array([0, 1, 2, 3, 4, 5, 6, 7, 8, 9], dtype=int32)>,\n",
       "  }),\n",
       "  remainder={\n",
       "    'a': 1,\n",
       "    'b': SelectionHole(path=(DictKey(key='b'),)),\n",
       "    'c': [\n",
       "      {\n",
       "        'value': <jax.Array([ 0,  1,  2,  3,  4,  5,  6,  7,  8,  9, 10, 11], dtype=int32)>,\n",
       "      },\n",
       "      {'value': <jax.Array([0., 0., 0., 0., 0., 0., 0.], dtype=float32)>},\n",
       "      {'value': 3},\n",
       "    ],\n",
       "  },\n",
       ")"
      ]
     },
     "execution_count": 17,
     "metadata": {},
     "output_type": "execute_result"
    }
   ],
   "source": [
    "pz.select(my_nested_object).at(lambda root: root[\"b\"])"
   ]
  },
  {
   "cell_type": "markdown",
   "metadata": {
    "id": "jBtV4TmU3_Az"
   },
   "source": [
    "Later `at` calls in a chain are relative to the currently selected part:"
   ]
  },
  {
   "cell_type": "code",
   "execution_count": 18,
   "metadata": {
    "execution": {
     "iopub.execute_input": "2024-07-16T16:57:40.647281Z",
     "iopub.status.busy": "2024-07-16T16:57:40.646805Z",
     "iopub.status.idle": "2024-07-16T16:57:40.662900Z",
     "shell.execute_reply": "2024-07-16T16:57:40.662640Z"
    },
    "id": "Z8xrYRKXMVbX"
   },
   "outputs": [
    {
     "data": {
      "text/html": [
       "<script> (()=>{ if (customElements.get('treescope-container') === undefined) { class TreescopeContainer extends HTMLElement { constructor() { super(); this.attachShadow({mode: \"open\"}); this.defns = {}; this.state = {}; } } customElements.define(\"treescope-container\", TreescopeContainer); } if (customElements.get('treescope-run-here') === undefined) { class RunHere extends HTMLElement { constructor() { super() } connectedCallback() { const run = child => { const fn = new Function(child.textContent); child.textContent = \"\"; fn.call(this); this.remove(); }; const child = this.querySelector(\"script\"); if (child) { run(child); } else { new MutationObserver(()=>{ run(this.querySelector(\"script\")); }).observe(this, {childList: true}); } } } customElements.define(\"treescope-run-here\", RunHere); } })(); </script> <treescope-container class=\"treescope_out_b90346a9d35447dca747e5dd30117f58\" ></treescope-container> <treescope-run-here><script type=\"application/octet-stream\"> const root = ( Array.from(document.getElementsByClassName( \"treescope_out_b90346a9d35447dca747e5dd30117f58\")) .filter((elt) => !elt.dataset.setup) )[0]; root.dataset.setup = 1; const msg = document.createElement(\"span\"); msg.style = \"color: #aaaaaa; font-family: monospace; transition: opacity 0.2s; opacity: 0.0;\"; msg.textContent = \"(Loading...)\"; root.state.loadingMsg = msg; root.shadowRoot.appendChild(msg); root.state.chain = new Promise((resolve, reject) => { const observer = new IntersectionObserver((entries) => { for (const entry of entries) { if (entry.isIntersecting) { resolve(); observer.disconnect(); return; } } }, {rootMargin: \"1000px\"}); window.setTimeout(() => { if (root.loadingMsg) { root.loadingMsg.style.opacity = \"1.0\"; } observer.observe(root); }, 0); }); root.state.deferring = false; const _insertNode = (node) => { for (let oldScript of node.querySelectorAll(\"script\")) { let newScript = document.createElement(\"script\"); newScript.type = oldScript.type; newScript.textContent = oldScript.textContent; oldScript.parentNode.replaceChild(newScript, oldScript); } if (root.state.loadingMsg) { root.state.loadingMsg.remove(); root.state.loadingMsg = null; } root.shadowRoot.appendChild(node); }; root.defns.insertContent = ((contentNode, compressed) => { if (compressed) { root.state.deferring = true; } if (root.state.deferring) { root.state.chain = (async () => { await root.state.chain; if (compressed) { const encoded = contentNode.textContent; const blob = new Blob([ Uint8Array.from(atob(encoded), (m) => m.codePointAt(0)) ]); const reader = blob.stream().pipeThrough( new DecompressionStream(\"deflate\") ).pipeThrough( new TextDecoderStream(\"utf-8\") ).getReader(); const parts = []; while (true) { const step = await reader.read(); if (step.done) { break; } parts.push(step.value); } const tpl = document.createElement('template'); tpl.innerHTML = parts.join(\"\"); _insertNode(tpl.content); } else { _insertNode(contentNode.content); } })(); } else { _insertNode(contentNode.content); } }); </script></treescope-run-here><div style=\"display:none\"> <script type=\"application/octet-stream\" >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</script> <treescope-run-here><script type=\"application/octet-stream\"> const root = ( Array.from(document.getElementsByClassName( \"treescope_out_b90346a9d35447dca747e5dd30117f58\")) .filter((elt) => !elt.dataset['step0']) )[0]; root.dataset['step0'] = 1; root.defns.insertContent( this.parentNode.querySelector('script[type=\"application/octet-stream\"]'), true ); this.parentNode.remove(); </script></treescope-run-here> </div>"
      ],
      "text/plain": [
       "<IPython.core.display.HTML object>"
      ]
     },
     "metadata": {},
     "output_type": "display_data"
    },
    {
     "data": {
      "text/html": [
       "<div style=\"display:none\"> <script type=\"application/octet-stream\" >eNrtGtty2kb0V3bkaQwJyAiLu2GmddqZvOQhfehDJqNZdg9I9bKrrhbHTsb/3rMrARZgfImTJo08Y0Dac78f0BlPLklmrgWMPZ5kqaDXQyKVBI8kfOzNlI44zEBr4FG/02kFA9btcGiHwGa01QtmEEC/253OurztTc6ylEp8tfQm/lQZoxYikTCUytT8mRKcTgVEUnEYxjSrTQSdgpiUTyKj5nOR4wxZDOwCeL1OXtbJZ5JSzhM5bxqVDknLDzqwGBHLoRlDMo/NkAS+u/epmUgOV3g9IqnKEpMoOSQaBDXJJYzIjc+UQOXodKrhEim7yyE56vbbtNXaADC1WIA00ccYZARXqB8H/mz6rLhS97fmisa2Sm0ApoKyixGZ4utcq6XkzeLgkupaszkVil3kt+oIpTQHndsoSK9IpkTCD0HmjroP+Ib48XUKGiW7iDQslIEoVpegybbQu2KqC8HiWj/8xTot7JCgNcgpfqRZlDGthEB0o/xZojMTmYRdPJjqIPQDS7c1IMFp1+/tJeysf5BdfYeh0VSuImebOQkyAjQDDLOmWpoGmSlpmh9dEG6dWa/GLI4wNxhEAmbmViDbSxvJHRaX4bSjtAHUeXivITNDbSBFLE4E1yBdrEhDExTWfsCYdXbYhlsrmfueTLZAni2019XERdGILKieo0FyhRkVrNZmMWmiRiGL6w+R9auJVqRBLlqeAE6qvWlQKkFOD/SJiMlLUgtQndsoBd0MoaBer69tsEFtPhx3xXeVrA5zTXJ1t1nc/obW3JQbZ8GmpjxZZoWCASxQu7sVc5J+mRD3hvjnUkXM/WtL3QMq4mHgGx8pfpX+tnHyF7S4s5O8EbuuTJigWTb2XB9zhczoJC1a9moCKCmIbYlP+2GHjva5zrL1yqRLWuJZrvxZItOlIQZbx9hz6k7VlbcXp7AMop44pDL5TfMxGPNgPMKpoc0LuE6picfeljSlYl74iZTrsPcQ0xSH/yypkHQBUaphllx5kxTkJ5r4RgNkTKWAUZeiJBl2xRkVwjYMHz3gBqL87a0y71bUU6t0rXx+dlJY7DbfnTpfDm7vAPQOqMImkkgqsHunevwo4/ol3H2mjjLUS869yYujq3Zv9KvW9Lr2vtUgQYO0G+S0QcIG6TRIt0F6DdJvkMGHBuEuLBJpTtv1HK9sksaug5CZoGkG3JuQFfAO0GpQKwt6bF00XWJqyWOi5LnAvj8+NnGS+ajyO6XMW4zCWt2PVWZ8nHtl5sdIB8PTYkbMItQsfP04t4+9PfZqgi6mnBKNFIbutWyuurdJsDXakBzfi3c8IgUGlVguaJ7ix+eITqxf8PN66D458PaEEMHp/4kBkvC94SGXi6nlELRa7bA96Pb6p91uO/y/+TvhT/E2Yv2HvnZJ+ERvW9xv2wcO7GXewdA42hs/O4X9b3q1KtyuiB2qzoe42+6Mc/imdB889ybP54Dbqy3WY2FG7oDkFdbq5xTLL1/MzehACH1n6WW1fUqCObznSrGHpt+W7RqVfR9l3zunuc0XS2RrYfYm9cd5B8W8c+TbTaN16jxusNnNsNUbTy4nZ4/5Co52ekEvpC0IwjA8ZRRmYa/d67EeDdodzjZfwX2Vkb91cOQnSRblX6go6RxV7QDVDoCpQjBXbLLYbLHpYvPFJozNGJsyNmfIAPPJ5lRQbQU/91YwCPun7WorqLaCaiuotoJqK6js+yNtBV826jzfnhDSLk7x0BuwDoRd3hn0WyHMetDvADbadqfaE6o94fv7rcBvkP3/60SZCUWrreCn2wo6/dNB2Ku2gmorqLaCaiuotoLKvj/WbwWPGGzu2QHWI2RTL2UzBm0f72Eoz6pa0hSnV+bMeaKYAdPEWQvowpswJTOEciXiDc/ImLz3Hv5sb4N4D/8V4jbwvavIh1EuGVfMxgnKtRu2I1JIj+oXQAW4/88S9PWfIIAZpWveZsiO7LG3Rp1pOrddIEdd2o8+Q8sYeF1c/lFA7LI7F7hmIeKKho9WBsnPbTGurYB8ZqGcvEYv3bNtuJORmgBDEkRujfDtbOMAX4Ccmxjvvnpln/2ycPnhbU54+bsA+/G36zfIbIX9PvmADCxOppaawWtcDu80ypFdDj3yimyh55c+zo8C0+KvxMS1NbX82diCt9MUETan9gHgS+eZm7WZSoRKtqvboHZhioG8J4b/BYi6XRo=</script> <treescope-run-here><script type=\"application/octet-stream\"> const root = ( Array.from(document.getElementsByClassName( \"treescope_out_b90346a9d35447dca747e5dd30117f58\")) .filter((elt) => !elt.dataset['step1']) )[0]; root.dataset['step1'] = 1; root.defns.insertContent( this.parentNode.querySelector('script[type=\"application/octet-stream\"]'), true ); this.parentNode.remove(); </script></treescope-run-here> </div>"
      ],
      "text/plain": [
       "<IPython.core.display.HTML object>"
      ]
     },
     "metadata": {},
     "output_type": "display_data"
    },
    {
     "data": {
      "text/html": [
       "<treescope-run-here><script type=\"application/octet-stream\"> const root = ( Array.from(document.getElementsByClassName( \"treescope_out_b90346a9d35447dca747e5dd30117f58\")) .filter((elt) => !elt.dataset.stolen) )[0]; root.dataset.stolen = 1; this.parentNode.replaceChild(root, this); </script></treescope-run-here>"
      ],
      "text/plain": [
       "Selection(\n",
       "  selected_by_path=OrderedDict({\n",
       "    (DictKey(key='c'), SequenceKey(idx=0), DictKey(key='value')):\n",
       "      <jax.Array([ 0,  1,  2,  3,  4,  5,  6,  7,  8,  9, 10, 11], dtype=int32)>,\n",
       "    (DictKey(key='c'), SequenceKey(idx=1), DictKey(key='value')):\n",
       "      <jax.Array([0., 0., 0., 0., 0., 0., 0.], dtype=float32)>,\n",
       "  }),\n",
       "  remainder={\n",
       "    'a': 1,\n",
       "    'b': <jax.Array([0, 1, 2, 3, 4, 5, 6, 7, 8, 9], dtype=int32)>,\n",
       "    'c': [{'value': SelectionHole(path=(DictKey(key='c'), SequenceKey(idx=0), DictKey(key='value')))}, {'value': SelectionHole(path=(DictKey(key='c'), SequenceKey(idx=1), DictKey(key='value')))}, {'value': 3}],\n",
       "  },\n",
       ")"
      ]
     },
     "execution_count": 18,
     "metadata": {},
     "output_type": "execute_result"
    }
   ],
   "source": [
    "(\n",
    "    pz.select(my_nested_object)\n",
    "    .at(lambda root: (root[\"c\"][0], root[\"c\"][1]))\n",
    "    .at(lambda subtree: subtree[\"value\"])\n",
    ")"
   ]
  },
  {
   "cell_type": "markdown",
   "metadata": {
    "id": "Dy30CsovGJz5"
   },
   "source": [
    "There are a few restrictions on the function that is used to select a subtree. In particular:\n",
    "- your function can't depend on the actual value passed in, only on its PyTree structure,\n",
    "- your function should return a single node or tuple of nodes from the PyTree.\n",
    "\n",
    "Internally, `Selection.at` is implemented using [`equinox.tree_at`](https://docs.kidger.site/equinox/api/manipulation/#equinox.tree_at), which takes care of most of the heavy lifting."
   ]
  },
  {
   "cell_type": "markdown",
   "metadata": {
    "id": "KAmBjvkVHSMg"
   },
   "source": [
    "### Selecting by type\n",
    "\n",
    "If you want to select all subtrees with a particular type, you can use `Selection.at_instances_of`:"
   ]
  },
  {
   "cell_type": "code",
   "execution_count": 19,
   "metadata": {
    "execution": {
     "iopub.execute_input": "2024-07-16T16:57:40.671559Z",
     "iopub.status.busy": "2024-07-16T16:57:40.671271Z",
     "iopub.status.idle": "2024-07-16T16:57:40.685278Z",
     "shell.execute_reply": "2024-07-16T16:57:40.684984Z"
    },
    "id": "y438yc3_HgEg"
   },
   "outputs": [
    {
     "data": {
      "text/html": [
       "<script> (()=>{ if (customElements.get('treescope-container') === undefined) { class TreescopeContainer extends HTMLElement { constructor() { super(); this.attachShadow({mode: \"open\"}); this.defns = {}; this.state = {}; } } customElements.define(\"treescope-container\", TreescopeContainer); } if (customElements.get('treescope-run-here') === undefined) { class RunHere extends HTMLElement { constructor() { super() } connectedCallback() { const run = child => { const fn = new Function(child.textContent); child.textContent = \"\"; fn.call(this); this.remove(); }; const child = this.querySelector(\"script\"); if (child) { run(child); } else { new MutationObserver(()=>{ run(this.querySelector(\"script\")); }).observe(this, {childList: true}); } } } customElements.define(\"treescope-run-here\", RunHere); } })(); </script> <treescope-container class=\"treescope_out_9e9d90471b3b44638c61481abd57fffd\" ></treescope-container> <treescope-run-here><script type=\"application/octet-stream\"> const root = ( Array.from(document.getElementsByClassName( \"treescope_out_9e9d90471b3b44638c61481abd57fffd\")) .filter((elt) => !elt.dataset.setup) )[0]; root.dataset.setup = 1; const msg = document.createElement(\"span\"); msg.style = \"color: #aaaaaa; font-family: monospace; transition: opacity 0.2s; opacity: 0.0;\"; msg.textContent = \"(Loading...)\"; root.state.loadingMsg = msg; root.shadowRoot.appendChild(msg); root.state.chain = new Promise((resolve, reject) => { const observer = new IntersectionObserver((entries) => { for (const entry of entries) { if (entry.isIntersecting) { resolve(); observer.disconnect(); return; } } }, {rootMargin: \"1000px\"}); window.setTimeout(() => { if (root.loadingMsg) { root.loadingMsg.style.opacity = \"1.0\"; } observer.observe(root); }, 0); }); root.state.deferring = false; const _insertNode = (node) => { for (let oldScript of node.querySelectorAll(\"script\")) { let newScript = document.createElement(\"script\"); newScript.type = oldScript.type; newScript.textContent = oldScript.textContent; oldScript.parentNode.replaceChild(newScript, oldScript); } if (root.state.loadingMsg) { root.state.loadingMsg.remove(); root.state.loadingMsg = null; } root.shadowRoot.appendChild(node); }; root.defns.insertContent = ((contentNode, compressed) => { if (compressed) { root.state.deferring = true; } if (root.state.deferring) { root.state.chain = (async () => { await root.state.chain; if (compressed) { const encoded = contentNode.textContent; const blob = new Blob([ Uint8Array.from(atob(encoded), (m) => m.codePointAt(0)) ]); const reader = blob.stream().pipeThrough( new DecompressionStream(\"deflate\") ).pipeThrough( new TextDecoderStream(\"utf-8\") ).getReader(); const parts = []; while (true) { const step = await reader.read(); if (step.done) { break; } parts.push(step.value); } const tpl = document.createElement('template'); tpl.innerHTML = parts.join(\"\"); _insertNode(tpl.content); } else { _insertNode(contentNode.content); } })(); } else { _insertNode(contentNode.content); } }); </script></treescope-run-here><div style=\"display:none\"> <script type=\"application/octet-stream\" >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</script> <treescope-run-here><script type=\"application/octet-stream\"> const root = ( Array.from(document.getElementsByClassName( \"treescope_out_9e9d90471b3b44638c61481abd57fffd\")) .filter((elt) => !elt.dataset['step0']) )[0]; root.dataset['step0'] = 1; root.defns.insertContent( this.parentNode.querySelector('script[type=\"application/octet-stream\"]'), true ); this.parentNode.remove(); </script></treescope-run-here> </div>"
      ],
      "text/plain": [
       "<IPython.core.display.HTML object>"
      ]
     },
     "metadata": {},
     "output_type": "display_data"
    },
    {
     "data": {
      "text/html": [
       "<div style=\"display:none\"> <script type=\"application/octet-stream\" >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</script> <treescope-run-here><script type=\"application/octet-stream\"> const root = ( Array.from(document.getElementsByClassName( \"treescope_out_9e9d90471b3b44638c61481abd57fffd\")) .filter((elt) => !elt.dataset['step1']) )[0]; root.dataset['step1'] = 1; root.defns.insertContent( this.parentNode.querySelector('script[type=\"application/octet-stream\"]'), true ); this.parentNode.remove(); </script></treescope-run-here> </div>"
      ],
      "text/plain": [
       "<IPython.core.display.HTML object>"
      ]
     },
     "metadata": {},
     "output_type": "display_data"
    },
    {
     "data": {
      "text/html": [
       "<treescope-run-here><script type=\"application/octet-stream\"> const root = ( Array.from(document.getElementsByClassName( \"treescope_out_9e9d90471b3b44638c61481abd57fffd\")) .filter((elt) => !elt.dataset.stolen) )[0]; root.dataset.stolen = 1; this.parentNode.replaceChild(root, this); </script></treescope-run-here>"
      ],
      "text/plain": [
       "Selection(\n",
       "  selected_by_path=OrderedDict({\n",
       "    (DictKey(key='a'),):\n",
       "      1,\n",
       "    (DictKey(key='c'), SequenceKey(idx=2), DictKey(key='value')):\n",
       "      3,\n",
       "  }),\n",
       "  remainder={\n",
       "    'a': SelectionHole(path=(DictKey(key='a'),)),\n",
       "    'b': <jax.Array([0, 1, 2, 3, 4, 5, 6, 7, 8, 9], dtype=int32)>,\n",
       "    'c': [{'value': <jax.Array([ 0,  1,  2,  3,  4,  5,  6,  7,  8,  9, 10, 11], dtype=int32)>}, {'value': <jax.Array([0., 0., 0., 0., 0., 0., 0.], dtype=float32)>}, {'value': SelectionHole(path=(DictKey(key='c'), SequenceKey(idx=2), DictKey(key='value')))}],\n",
       "  },\n",
       ")"
      ]
     },
     "execution_count": 19,
     "metadata": {},
     "output_type": "execute_result"
    }
   ],
   "source": [
    "pz.select(my_nested_object).at_instances_of(int)"
   ]
  },
  {
   "cell_type": "markdown",
   "metadata": {
    "id": "wIjWns9HHiXj"
   },
   "source": [
    "This selects any subtree for which `isinstance(subtree, requested_type)` evaluates to True.\n",
    "\n",
    "Note that selections cannot be nested, so this only selects the *outermost* value with the given type:"
   ]
  },
  {
   "cell_type": "code",
   "execution_count": 20,
   "metadata": {
    "execution": {
     "iopub.execute_input": "2024-07-16T16:57:40.692106Z",
     "iopub.status.busy": "2024-07-16T16:57:40.691775Z",
     "iopub.status.idle": "2024-07-16T16:57:40.703987Z",
     "shell.execute_reply": "2024-07-16T16:57:40.703729Z"
    },
    "id": "sopg1pzrH2ZX"
   },
   "outputs": [
    {
     "data": {
      "text/html": [
       "<script> (()=>{ if (customElements.get('treescope-container') === undefined) { class TreescopeContainer extends HTMLElement { constructor() { super(); this.attachShadow({mode: \"open\"}); this.defns = {}; this.state = {}; } } customElements.define(\"treescope-container\", TreescopeContainer); } if (customElements.get('treescope-run-here') === undefined) { class RunHere extends HTMLElement { constructor() { super() } connectedCallback() { const run = child => { const fn = new Function(child.textContent); child.textContent = \"\"; fn.call(this); this.remove(); }; const child = this.querySelector(\"script\"); if (child) { run(child); } else { new MutationObserver(()=>{ run(this.querySelector(\"script\")); }).observe(this, {childList: true}); } } } customElements.define(\"treescope-run-here\", RunHere); } })(); </script> <treescope-container class=\"treescope_out_e3d961496ad74caebaab1b4ab62500b7\" ></treescope-container> <treescope-run-here><script type=\"application/octet-stream\"> const root = ( Array.from(document.getElementsByClassName( \"treescope_out_e3d961496ad74caebaab1b4ab62500b7\")) .filter((elt) => !elt.dataset.setup) )[0]; root.dataset.setup = 1; const msg = document.createElement(\"span\"); msg.style = \"color: #aaaaaa; font-family: monospace; transition: opacity 0.2s; opacity: 0.0;\"; msg.textContent = \"(Loading...)\"; root.state.loadingMsg = msg; root.shadowRoot.appendChild(msg); root.state.chain = new Promise((resolve, reject) => { const observer = new IntersectionObserver((entries) => { for (const entry of entries) { if (entry.isIntersecting) { resolve(); observer.disconnect(); return; } } }, {rootMargin: \"1000px\"}); window.setTimeout(() => { if (root.loadingMsg) { root.loadingMsg.style.opacity = \"1.0\"; } observer.observe(root); }, 0); }); root.state.deferring = false; const _insertNode = (node) => { for (let oldScript of node.querySelectorAll(\"script\")) { let newScript = document.createElement(\"script\"); newScript.type = oldScript.type; newScript.textContent = oldScript.textContent; oldScript.parentNode.replaceChild(newScript, oldScript); } if (root.state.loadingMsg) { root.state.loadingMsg.remove(); root.state.loadingMsg = null; } root.shadowRoot.appendChild(node); }; root.defns.insertContent = ((contentNode, compressed) => { if (compressed) { root.state.deferring = true; } if (root.state.deferring) { root.state.chain = (async () => { await root.state.chain; if (compressed) { const encoded = contentNode.textContent; const blob = new Blob([ Uint8Array.from(atob(encoded), (m) => m.codePointAt(0)) ]); const reader = blob.stream().pipeThrough( new DecompressionStream(\"deflate\") ).pipeThrough( new TextDecoderStream(\"utf-8\") ).getReader(); const parts = []; while (true) { const step = await reader.read(); if (step.done) { break; } parts.push(step.value); } const tpl = document.createElement('template'); tpl.innerHTML = parts.join(\"\"); _insertNode(tpl.content); } else { _insertNode(contentNode.content); } })(); } else { _insertNode(contentNode.content); } }); </script></treescope-run-here><div style=\"display:none\"> <script type=\"application/octet-stream\" >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</script> <treescope-run-here><script type=\"application/octet-stream\"> const root = ( Array.from(document.getElementsByClassName( \"treescope_out_e3d961496ad74caebaab1b4ab62500b7\")) .filter((elt) => !elt.dataset['step0']) )[0]; root.dataset['step0'] = 1; root.defns.insertContent( this.parentNode.querySelector('script[type=\"application/octet-stream\"]'), true ); this.parentNode.remove(); </script></treescope-run-here> </div>"
      ],
      "text/plain": [
       "<IPython.core.display.HTML object>"
      ]
     },
     "metadata": {},
     "output_type": "display_data"
    },
    {
     "data": {
      "text/html": [
       "<div style=\"display:none\"> <script type=\"application/octet-stream\" >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</script> <treescope-run-here><script type=\"application/octet-stream\"> const root = ( Array.from(document.getElementsByClassName( \"treescope_out_e3d961496ad74caebaab1b4ab62500b7\")) .filter((elt) => !elt.dataset['step1']) )[0]; root.dataset['step1'] = 1; root.defns.insertContent( this.parentNode.querySelector('script[type=\"application/octet-stream\"]'), true ); this.parentNode.remove(); </script></treescope-run-here> </div>"
      ],
      "text/plain": [
       "<IPython.core.display.HTML object>"
      ]
     },
     "metadata": {},
     "output_type": "display_data"
    },
    {
     "data": {
      "text/html": [
       "<treescope-run-here><script type=\"application/octet-stream\"> const root = ( Array.from(document.getElementsByClassName( \"treescope_out_e3d961496ad74caebaab1b4ab62500b7\")) .filter((elt) => !elt.dataset.stolen) )[0]; root.dataset.stolen = 1; this.parentNode.replaceChild(root, this); </script></treescope-run-here>"
      ],
      "text/plain": [
       "Selection(\n",
       "  selected_by_path=OrderedDict({\n",
       "    (): {\n",
       "      'a': 1,\n",
       "      'b': <jax.Array([0, 1, 2, 3, 4, 5, 6, 7, 8, 9], dtype=int32)>,\n",
       "      'c': [\n",
       "        {\n",
       "          'value': <jax.Array([ 0,  1,  2,  3,  4,  5,  6,  7,  8,  9, 10, 11], dtype=int32)>,\n",
       "        },\n",
       "        {\n",
       "          'value': <jax.Array([0., 0., 0., 0., 0., 0., 0.], dtype=float32)>,\n",
       "        },\n",
       "        {'value': 3},\n",
       "      ],\n",
       "    },\n",
       "  }),\n",
       "  remainder=SelectionHole(path=()),\n",
       ")"
      ]
     },
     "execution_count": 20,
     "metadata": {},
     "output_type": "execute_result"
    }
   ],
   "source": [
    "pz.select(my_nested_object).at_instances_of(dict)"
   ]
  },
  {
   "cell_type": "markdown",
   "metadata": {
    "id": "R-Qm4rBaHkNW"
   },
   "source": [
    "### Selecting by condition\n",
    "More generally, you can select all subtrees for which a function evaluates to true:"
   ]
  },
  {
   "cell_type": "code",
   "execution_count": 21,
   "metadata": {
    "execution": {
     "iopub.execute_input": "2024-07-16T16:57:40.712590Z",
     "iopub.status.busy": "2024-07-16T16:57:40.712342Z",
     "iopub.status.idle": "2024-07-16T16:57:40.728626Z",
     "shell.execute_reply": "2024-07-16T16:57:40.728335Z"
    },
    "id": "yK6nvVfWH-Jh"
   },
   "outputs": [
    {
     "data": {
      "text/html": [
       "<script> (()=>{ if (customElements.get('treescope-container') === undefined) { class TreescopeContainer extends HTMLElement { constructor() { super(); this.attachShadow({mode: \"open\"}); this.defns = {}; this.state = {}; } } customElements.define(\"treescope-container\", TreescopeContainer); } if (customElements.get('treescope-run-here') === undefined) { class RunHere extends HTMLElement { constructor() { super() } connectedCallback() { const run = child => { const fn = new Function(child.textContent); child.textContent = \"\"; fn.call(this); this.remove(); }; const child = this.querySelector(\"script\"); if (child) { run(child); } else { new MutationObserver(()=>{ run(this.querySelector(\"script\")); }).observe(this, {childList: true}); } } } customElements.define(\"treescope-run-here\", RunHere); } })(); </script> <treescope-container class=\"treescope_out_3e4a98fa2b9c4167832837b2de92b137\" ></treescope-container> <treescope-run-here><script type=\"application/octet-stream\"> const root = ( Array.from(document.getElementsByClassName( \"treescope_out_3e4a98fa2b9c4167832837b2de92b137\")) .filter((elt) => !elt.dataset.setup) )[0]; root.dataset.setup = 1; const msg = document.createElement(\"span\"); msg.style = \"color: #aaaaaa; font-family: monospace; transition: opacity 0.2s; opacity: 0.0;\"; msg.textContent = \"(Loading...)\"; root.state.loadingMsg = msg; root.shadowRoot.appendChild(msg); root.state.chain = new Promise((resolve, reject) => { const observer = new IntersectionObserver((entries) => { for (const entry of entries) { if (entry.isIntersecting) { resolve(); observer.disconnect(); return; } } }, {rootMargin: \"1000px\"}); window.setTimeout(() => { if (root.loadingMsg) { root.loadingMsg.style.opacity = \"1.0\"; } observer.observe(root); }, 0); }); root.state.deferring = false; const _insertNode = (node) => { for (let oldScript of node.querySelectorAll(\"script\")) { let newScript = document.createElement(\"script\"); newScript.type = oldScript.type; newScript.textContent = oldScript.textContent; oldScript.parentNode.replaceChild(newScript, oldScript); } if (root.state.loadingMsg) { root.state.loadingMsg.remove(); root.state.loadingMsg = null; } root.shadowRoot.appendChild(node); }; root.defns.insertContent = ((contentNode, compressed) => { if (compressed) { root.state.deferring = true; } if (root.state.deferring) { root.state.chain = (async () => { await root.state.chain; if (compressed) { const encoded = contentNode.textContent; const blob = new Blob([ Uint8Array.from(atob(encoded), (m) => m.codePointAt(0)) ]); const reader = blob.stream().pipeThrough( new DecompressionStream(\"deflate\") ).pipeThrough( new TextDecoderStream(\"utf-8\") ).getReader(); const parts = []; while (true) { const step = await reader.read(); if (step.done) { break; } parts.push(step.value); } const tpl = document.createElement('template'); tpl.innerHTML = parts.join(\"\"); _insertNode(tpl.content); } else { _insertNode(contentNode.content); } })(); } else { _insertNode(contentNode.content); } }); </script></treescope-run-here><div style=\"display:none\"> <script type=\"application/octet-stream\" >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</script> <treescope-run-here><script type=\"application/octet-stream\"> const root = ( Array.from(document.getElementsByClassName( \"treescope_out_3e4a98fa2b9c4167832837b2de92b137\")) .filter((elt) => !elt.dataset['step0']) )[0]; root.dataset['step0'] = 1; root.defns.insertContent( this.parentNode.querySelector('script[type=\"application/octet-stream\"]'), true ); this.parentNode.remove(); </script></treescope-run-here> </div>"
      ],
      "text/plain": [
       "<IPython.core.display.HTML object>"
      ]
     },
     "metadata": {},
     "output_type": "display_data"
    },
    {
     "data": {
      "text/html": [
       "<div style=\"display:none\"> <script type=\"application/octet-stream\" >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</script> <treescope-run-here><script type=\"application/octet-stream\"> const root = ( Array.from(document.getElementsByClassName( \"treescope_out_3e4a98fa2b9c4167832837b2de92b137\")) .filter((elt) => !elt.dataset['step1']) )[0]; root.dataset['step1'] = 1; root.defns.insertContent( this.parentNode.querySelector('script[type=\"application/octet-stream\"]'), true ); this.parentNode.remove(); </script></treescope-run-here> </div>"
      ],
      "text/plain": [
       "<IPython.core.display.HTML object>"
      ]
     },
     "metadata": {},
     "output_type": "display_data"
    },
    {
     "data": {
      "text/html": [
       "<treescope-run-here><script type=\"application/octet-stream\"> const root = ( Array.from(document.getElementsByClassName( \"treescope_out_3e4a98fa2b9c4167832837b2de92b137\")) .filter((elt) => !elt.dataset.stolen) )[0]; root.dataset.stolen = 1; this.parentNode.replaceChild(root, this); </script></treescope-run-here>"
      ],
      "text/plain": [
       "Selection(\n",
       "  selected_by_path=OrderedDict({\n",
       "    (DictKey(key='b'),):\n",
       "      <jax.Array([0, 1, 2, 3, 4, 5, 6, 7, 8, 9], dtype=int32)>,\n",
       "    (DictKey(key='c'), SequenceKey(idx=1), DictKey(key='value')):\n",
       "      <jax.Array([0., 0., 0., 0., 0., 0., 0.], dtype=float32)>,\n",
       "  }),\n",
       "  remainder={\n",
       "    'a': 1,\n",
       "    'b': SelectionHole(path=(DictKey(key='b'),)),\n",
       "    'c': [{'value': <jax.Array([ 0,  1,  2,  3,  4,  5,  6,  7,  8,  9, 10, 11], dtype=int32)>}, {'value': SelectionHole(path=(DictKey(key='c'), SequenceKey(idx=1), DictKey(key='value')))}, {'value': 3}],\n",
       "  },\n",
       ")"
      ]
     },
     "execution_count": 21,
     "metadata": {},
     "output_type": "execute_result"
    }
   ],
   "source": [
    "(\n",
    "    pz.select(my_nested_object)\n",
    "    .at_subtrees_where(\n",
    "        lambda subtree: isinstance(subtree, jax.Array) and subtree.size <= 10)\n",
    ")"
   ]
  },
  {
   "cell_type": "markdown",
   "metadata": {
    "id": "Hz97YScaHmyC"
   },
   "source": [
    "In fact, `at_instances_of` is a thin wrapper around `at_subtrees_where`. There's another convenience method for finding values equal to a sentinel value:"
   ]
  },
  {
   "cell_type": "code",
   "execution_count": 22,
   "metadata": {
    "execution": {
     "iopub.execute_input": "2024-07-16T16:57:40.736653Z",
     "iopub.status.busy": "2024-07-16T16:57:40.736399Z",
     "iopub.status.idle": "2024-07-16T16:57:40.750503Z",
     "shell.execute_reply": "2024-07-16T16:57:40.750188Z"
    },
    "id": "LKwjwL8CJjur"
   },
   "outputs": [
    {
     "data": {
      "text/html": [
       "<script> (()=>{ if (customElements.get('treescope-container') === undefined) { class TreescopeContainer extends HTMLElement { constructor() { super(); this.attachShadow({mode: \"open\"}); this.defns = {}; this.state = {}; } } customElements.define(\"treescope-container\", TreescopeContainer); } if (customElements.get('treescope-run-here') === undefined) { class RunHere extends HTMLElement { constructor() { super() } connectedCallback() { const run = child => { const fn = new Function(child.textContent); child.textContent = \"\"; fn.call(this); this.remove(); }; const child = this.querySelector(\"script\"); if (child) { run(child); } else { new MutationObserver(()=>{ run(this.querySelector(\"script\")); }).observe(this, {childList: true}); } } } customElements.define(\"treescope-run-here\", RunHere); } })(); </script> <treescope-container class=\"treescope_out_f9d5d4cad3bc4cf6aced4212836f9b7c\" ></treescope-container> <treescope-run-here><script type=\"application/octet-stream\"> const root = ( Array.from(document.getElementsByClassName( \"treescope_out_f9d5d4cad3bc4cf6aced4212836f9b7c\")) .filter((elt) => !elt.dataset.setup) )[0]; root.dataset.setup = 1; const msg = document.createElement(\"span\"); msg.style = \"color: #aaaaaa; font-family: monospace; transition: opacity 0.2s; opacity: 0.0;\"; msg.textContent = \"(Loading...)\"; root.state.loadingMsg = msg; root.shadowRoot.appendChild(msg); root.state.chain = new Promise((resolve, reject) => { const observer = new IntersectionObserver((entries) => { for (const entry of entries) { if (entry.isIntersecting) { resolve(); observer.disconnect(); return; } } }, {rootMargin: \"1000px\"}); window.setTimeout(() => { if (root.loadingMsg) { root.loadingMsg.style.opacity = \"1.0\"; } observer.observe(root); }, 0); }); root.state.deferring = false; const _insertNode = (node) => { for (let oldScript of node.querySelectorAll(\"script\")) { let newScript = document.createElement(\"script\"); newScript.type = oldScript.type; newScript.textContent = oldScript.textContent; oldScript.parentNode.replaceChild(newScript, oldScript); } if (root.state.loadingMsg) { root.state.loadingMsg.remove(); root.state.loadingMsg = null; } root.shadowRoot.appendChild(node); }; root.defns.insertContent = ((contentNode, compressed) => { if (compressed) { root.state.deferring = true; } if (root.state.deferring) { root.state.chain = (async () => { await root.state.chain; if (compressed) { const encoded = contentNode.textContent; const blob = new Blob([ Uint8Array.from(atob(encoded), (m) => m.codePointAt(0)) ]); const reader = blob.stream().pipeThrough( new DecompressionStream(\"deflate\") ).pipeThrough( new TextDecoderStream(\"utf-8\") ).getReader(); const parts = []; while (true) { const step = await reader.read(); if (step.done) { break; } parts.push(step.value); } const tpl = document.createElement('template'); tpl.innerHTML = parts.join(\"\"); _insertNode(tpl.content); } else { _insertNode(contentNode.content); } })(); } else { _insertNode(contentNode.content); } }); </script></treescope-run-here><div style=\"display:none\"> <script type=\"application/octet-stream\" >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</script> <treescope-run-here><script type=\"application/octet-stream\"> const root = ( Array.from(document.getElementsByClassName( \"treescope_out_f9d5d4cad3bc4cf6aced4212836f9b7c\")) .filter((elt) => !elt.dataset['step0']) )[0]; root.dataset['step0'] = 1; root.defns.insertContent( this.parentNode.querySelector('script[type=\"application/octet-stream\"]'), true ); this.parentNode.remove(); </script></treescope-run-here> </div>"
      ],
      "text/plain": [
       "<IPython.core.display.HTML object>"
      ]
     },
     "metadata": {},
     "output_type": "display_data"
    },
    {
     "data": {
      "text/html": [
       "<div style=\"display:none\"> <script type=\"application/octet-stream\" >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</script> <treescope-run-here><script type=\"application/octet-stream\"> const root = ( Array.from(document.getElementsByClassName( \"treescope_out_f9d5d4cad3bc4cf6aced4212836f9b7c\")) .filter((elt) => !elt.dataset['step1']) )[0]; root.dataset['step1'] = 1; root.defns.insertContent( this.parentNode.querySelector('script[type=\"application/octet-stream\"]'), true ); this.parentNode.remove(); </script></treescope-run-here> </div>"
      ],
      "text/plain": [
       "<IPython.core.display.HTML object>"
      ]
     },
     "metadata": {},
     "output_type": "display_data"
    },
    {
     "data": {
      "text/html": [
       "<treescope-run-here><script type=\"application/octet-stream\"> const root = ( Array.from(document.getElementsByClassName( \"treescope_out_f9d5d4cad3bc4cf6aced4212836f9b7c\")) .filter((elt) => !elt.dataset.stolen) )[0]; root.dataset.stolen = 1; this.parentNode.replaceChild(root, this); </script></treescope-run-here>"
      ],
      "text/plain": [
       "Selection(\n",
       "  selected_by_path=OrderedDict({(DictKey(key='a'),): 1}),\n",
       "  remainder={\n",
       "    'a': SelectionHole(path=(DictKey(key='a'),)),\n",
       "    'b': <jax.Array([0, 1, 2, 3, 4, 5, 6, 7, 8, 9], dtype=int32)>,\n",
       "    'c': [\n",
       "      {\n",
       "        'value': <jax.Array([ 0,  1,  2,  3,  4,  5,  6,  7,  8,  9, 10, 11], dtype=int32)>,\n",
       "      },\n",
       "      {\n",
       "        'value': <jax.Array([0., 0., 0., 0., 0., 0., 0.], dtype=float32)>,\n",
       "      },\n",
       "      {'value': 3},\n",
       "    ],\n",
       "  },\n",
       ")"
      ]
     },
     "execution_count": 22,
     "metadata": {},
     "output_type": "execute_result"
    }
   ],
   "source": [
    "(\n",
    "    pz.select(my_nested_object)\n",
    "    .at_equal_to(1)\n",
    ")"
   ]
  },
  {
   "cell_type": "code",
   "execution_count": 23,
   "metadata": {
    "execution": {
     "iopub.execute_input": "2024-07-16T16:57:40.756924Z",
     "iopub.status.busy": "2024-07-16T16:57:40.756637Z",
     "iopub.status.idle": "2024-07-16T16:57:40.763710Z",
     "shell.execute_reply": "2024-07-16T16:57:40.763879Z"
    },
    "id": "lNlmgOXZIW8O"
   },
   "outputs": [
    {
     "data": {
      "text/html": [
       "<script> (()=>{ if (customElements.get('treescope-container') === undefined) { class TreescopeContainer extends HTMLElement { constructor() { super(); this.attachShadow({mode: \"open\"}); this.defns = {}; this.state = {}; } } customElements.define(\"treescope-container\", TreescopeContainer); } if (customElements.get('treescope-run-here') === undefined) { class RunHere extends HTMLElement { constructor() { super() } connectedCallback() { const run = child => { const fn = new Function(child.textContent); child.textContent = \"\"; fn.call(this); this.remove(); }; const child = this.querySelector(\"script\"); if (child) { run(child); } else { new MutationObserver(()=>{ run(this.querySelector(\"script\")); }).observe(this, {childList: true}); } } } customElements.define(\"treescope-run-here\", RunHere); } })(); </script> <treescope-container class=\"treescope_out_ce43452736414f128e9be709b67c4531\" ></treescope-container> <treescope-run-here><script type=\"application/octet-stream\"> const root = ( Array.from(document.getElementsByClassName( \"treescope_out_ce43452736414f128e9be709b67c4531\")) .filter((elt) => !elt.dataset.setup) )[0]; root.dataset.setup = 1; const msg = document.createElement(\"span\"); msg.style = \"color: #aaaaaa; font-family: monospace; transition: opacity 0.2s; opacity: 0.0;\"; msg.textContent = \"(Loading...)\"; root.state.loadingMsg = msg; root.shadowRoot.appendChild(msg); root.state.chain = new Promise((resolve, reject) => { const observer = new IntersectionObserver((entries) => { for (const entry of entries) { if (entry.isIntersecting) { resolve(); observer.disconnect(); return; } } }, {rootMargin: \"1000px\"}); window.setTimeout(() => { if (root.loadingMsg) { root.loadingMsg.style.opacity = \"1.0\"; } observer.observe(root); }, 0); }); root.state.deferring = false; const _insertNode = (node) => { for (let oldScript of node.querySelectorAll(\"script\")) { let newScript = document.createElement(\"script\"); newScript.type = oldScript.type; newScript.textContent = oldScript.textContent; oldScript.parentNode.replaceChild(newScript, oldScript); } if (root.state.loadingMsg) { root.state.loadingMsg.remove(); root.state.loadingMsg = null; } root.shadowRoot.appendChild(node); }; root.defns.insertContent = ((contentNode, compressed) => { if (compressed) { root.state.deferring = true; } if (root.state.deferring) { root.state.chain = (async () => { await root.state.chain; if (compressed) { const encoded = contentNode.textContent; const blob = new Blob([ Uint8Array.from(atob(encoded), (m) => m.codePointAt(0)) ]); const reader = blob.stream().pipeThrough( new DecompressionStream(\"deflate\") ).pipeThrough( new TextDecoderStream(\"utf-8\") ).getReader(); const parts = []; while (true) { const step = await reader.read(); if (step.done) { break; } parts.push(step.value); } const tpl = document.createElement('template'); tpl.innerHTML = parts.join(\"\"); _insertNode(tpl.content); } else { _insertNode(contentNode.content); } })(); } else { _insertNode(contentNode.content); } }); </script></treescope-run-here><div style=\"display:none\"> <script type=\"application/octet-stream\" >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</script> <treescope-run-here><script type=\"application/octet-stream\"> const root = ( Array.from(document.getElementsByClassName( \"treescope_out_ce43452736414f128e9be709b67c4531\")) .filter((elt) => !elt.dataset['step0']) )[0]; root.dataset['step0'] = 1; root.defns.insertContent( this.parentNode.querySelector('script[type=\"application/octet-stream\"]'), true ); this.parentNode.remove(); </script></treescope-run-here> </div>"
      ],
      "text/plain": [
       "<IPython.core.display.HTML object>"
      ]
     },
     "metadata": {},
     "output_type": "display_data"
    },
    {
     "data": {
      "text/html": [
       "<treescope-run-here><script type=\"application/octet-stream\"> const root = ( Array.from(document.getElementsByClassName( \"treescope_out_ce43452736414f128e9be709b67c4531\")) .filter((elt) => !elt.dataset.stolen) )[0]; root.dataset.stolen = 1; this.parentNode.replaceChild(root, this); </script></treescope-run-here>"
      ],
      "text/plain": [
       "Selection(\n",
       "  selected_by_path=OrderedDict({(DictKey(key='bar'),): [1, 2, 3]}),\n",
       "  remainder={\n",
       "    'bar': SelectionHole(path=(DictKey(key='bar'),)),\n",
       "    'foo': 'foo',\n",
       "  },\n",
       ")"
      ]
     },
     "execution_count": 23,
     "metadata": {},
     "output_type": "execute_result"
    }
   ],
   "source": [
    "(\n",
    "    pz.select({\"foo\": \"foo\", \"bar\": [1, 2, 3]}).at_equal_to([1, 2, 3])\n",
    ")"
   ]
  },
  {
   "cell_type": "markdown",
   "metadata": {
    "id": "1GZV7CkULrZ_"
   },
   "source": [
    "### Selecting by JAX keypath"
   ]
  },
  {
   "cell_type": "markdown",
   "metadata": {
    "id": "nJSlyPdGLvNE"
   },
   "source": [
    "PyTree nodes in JAX are associated with key paths identifying their location in the tree:"
   ]
  },
  {
   "cell_type": "code",
   "execution_count": 24,
   "metadata": {
    "execution": {
     "iopub.execute_input": "2024-07-16T16:57:40.774068Z",
     "iopub.status.busy": "2024-07-16T16:57:40.773805Z",
     "iopub.status.idle": "2024-07-16T16:57:40.779015Z",
     "shell.execute_reply": "2024-07-16T16:57:40.778745Z"
    },
    "id": "9nX57pMUL72X"
   },
   "outputs": [
    {
     "data": {
      "text/html": [
       "<script> (()=>{ if (customElements.get('treescope-container') === undefined) { class TreescopeContainer extends HTMLElement { constructor() { super(); this.attachShadow({mode: \"open\"}); this.defns = {}; this.state = {}; } } customElements.define(\"treescope-container\", TreescopeContainer); } if (customElements.get('treescope-run-here') === undefined) { class RunHere extends HTMLElement { constructor() { super() } connectedCallback() { const run = child => { const fn = new Function(child.textContent); child.textContent = \"\"; fn.call(this); this.remove(); }; const child = this.querySelector(\"script\"); if (child) { run(child); } else { new MutationObserver(()=>{ run(this.querySelector(\"script\")); }).observe(this, {childList: true}); } } } customElements.define(\"treescope-run-here\", RunHere); } })(); </script> <treescope-container class=\"treescope_out_bf3a29e0cdb24908bbd2f0c228ea98d4\" ></treescope-container> <treescope-run-here><script type=\"application/octet-stream\"> const root = ( Array.from(document.getElementsByClassName( \"treescope_out_bf3a29e0cdb24908bbd2f0c228ea98d4\")) .filter((elt) => !elt.dataset.setup) )[0]; root.dataset.setup = 1; const msg = document.createElement(\"span\"); msg.style = \"color: #aaaaaa; font-family: monospace; transition: opacity 0.2s; opacity: 0.0;\"; msg.textContent = \"(Loading...)\"; root.state.loadingMsg = msg; root.shadowRoot.appendChild(msg); root.state.chain = new Promise((resolve, reject) => { const observer = new IntersectionObserver((entries) => { for (const entry of entries) { if (entry.isIntersecting) { resolve(); observer.disconnect(); return; } } }, {rootMargin: \"1000px\"}); window.setTimeout(() => { if (root.loadingMsg) { root.loadingMsg.style.opacity = \"1.0\"; } observer.observe(root); }, 0); }); root.state.deferring = false; const _insertNode = (node) => { for (let oldScript of node.querySelectorAll(\"script\")) { let newScript = document.createElement(\"script\"); newScript.type = oldScript.type; newScript.textContent = oldScript.textContent; oldScript.parentNode.replaceChild(newScript, oldScript); } if (root.state.loadingMsg) { root.state.loadingMsg.remove(); root.state.loadingMsg = null; } root.shadowRoot.appendChild(node); }; root.defns.insertContent = ((contentNode, compressed) => { if (compressed) { root.state.deferring = true; } if (root.state.deferring) { root.state.chain = (async () => { await root.state.chain; if (compressed) { const encoded = contentNode.textContent; const blob = new Blob([ Uint8Array.from(atob(encoded), (m) => m.codePointAt(0)) ]); const reader = blob.stream().pipeThrough( new DecompressionStream(\"deflate\") ).pipeThrough( new TextDecoderStream(\"utf-8\") ).getReader(); const parts = []; while (true) { const step = await reader.read(); if (step.done) { break; } parts.push(step.value); } const tpl = document.createElement('template'); tpl.innerHTML = parts.join(\"\"); _insertNode(tpl.content); } else { _insertNode(contentNode.content); } })(); } else { _insertNode(contentNode.content); } }); </script></treescope-run-here><div style=\"display:none\"> <script type=\"application/octet-stream\" >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</script> <treescope-run-here><script type=\"application/octet-stream\"> const root = ( Array.from(document.getElementsByClassName( \"treescope_out_bf3a29e0cdb24908bbd2f0c228ea98d4\")) .filter((elt) => !elt.dataset['step0']) )[0]; root.dataset['step0'] = 1; root.defns.insertContent( this.parentNode.querySelector('script[type=\"application/octet-stream\"]'), true ); this.parentNode.remove(); </script></treescope-run-here> </div>"
      ],
      "text/plain": [
       "<IPython.core.display.HTML object>"
      ]
     },
     "metadata": {},
     "output_type": "display_data"
    },
    {
     "data": {
      "text/html": [
       "<treescope-run-here><script type=\"application/octet-stream\"> const root = ( Array.from(document.getElementsByClassName( \"treescope_out_bf3a29e0cdb24908bbd2f0c228ea98d4\")) .filter((elt) => !elt.dataset.stolen) )[0]; root.dataset.stolen = 1; this.parentNode.replaceChild(root, this); </script></treescope-run-here>"
      ],
      "text/plain": [
       "{'a': (DictKey(key='a'),),\n",
       " 'b': (DictKey(key='b'),),\n",
       " 'c': [{'value': (DictKey(key='c'), SequenceKey(idx=0), DictKey(key='value'))},\n",
       "  {'value': (DictKey(key='c'), SequenceKey(idx=1), DictKey(key='value'))},\n",
       "  {'value': (DictKey(key='c'), SequenceKey(idx=2), DictKey(key='value'))}]}"
      ]
     },
     "execution_count": 24,
     "metadata": {},
     "output_type": "execute_result"
    }
   ],
   "source": [
    "jax.tree_util.tree_map_with_path(lambda key, node: key, my_nested_object)"
   ]
  },
  {
   "cell_type": "markdown",
   "metadata": {
    "id": "BzUbLkQ5MFTG"
   },
   "source": [
    "You can directly select nodes based on their JAX keypath:"
   ]
  },
  {
   "cell_type": "code",
   "execution_count": 25,
   "metadata": {
    "execution": {
     "iopub.execute_input": "2024-07-16T16:57:40.788116Z",
     "iopub.status.busy": "2024-07-16T16:57:40.787872Z",
     "iopub.status.idle": "2024-07-16T16:57:40.803470Z",
     "shell.execute_reply": "2024-07-16T16:57:40.803260Z"
    },
    "id": "YQZQ9MVwMw0h"
   },
   "outputs": [
    {
     "data": {
      "text/html": [
       "<script> (()=>{ if (customElements.get('treescope-container') === undefined) { class TreescopeContainer extends HTMLElement { constructor() { super(); this.attachShadow({mode: \"open\"}); this.defns = {}; this.state = {}; } } customElements.define(\"treescope-container\", TreescopeContainer); } if (customElements.get('treescope-run-here') === undefined) { class RunHere extends HTMLElement { constructor() { super() } connectedCallback() { const run = child => { const fn = new Function(child.textContent); child.textContent = \"\"; fn.call(this); this.remove(); }; const child = this.querySelector(\"script\"); if (child) { run(child); } else { new MutationObserver(()=>{ run(this.querySelector(\"script\")); }).observe(this, {childList: true}); } } } customElements.define(\"treescope-run-here\", RunHere); } })(); </script> <treescope-container class=\"treescope_out_dc3c7a7bb2d64d2b88345edd5a723cb4\" ></treescope-container> <treescope-run-here><script type=\"application/octet-stream\"> const root = ( Array.from(document.getElementsByClassName( \"treescope_out_dc3c7a7bb2d64d2b88345edd5a723cb4\")) .filter((elt) => !elt.dataset.setup) )[0]; root.dataset.setup = 1; const msg = document.createElement(\"span\"); msg.style = \"color: #aaaaaa; font-family: monospace; transition: opacity 0.2s; opacity: 0.0;\"; msg.textContent = \"(Loading...)\"; root.state.loadingMsg = msg; root.shadowRoot.appendChild(msg); root.state.chain = new Promise((resolve, reject) => { const observer = new IntersectionObserver((entries) => { for (const entry of entries) { if (entry.isIntersecting) { resolve(); observer.disconnect(); return; } } }, {rootMargin: \"1000px\"}); window.setTimeout(() => { if (root.loadingMsg) { root.loadingMsg.style.opacity = \"1.0\"; } observer.observe(root); }, 0); }); root.state.deferring = false; const _insertNode = (node) => { for (let oldScript of node.querySelectorAll(\"script\")) { let newScript = document.createElement(\"script\"); newScript.type = oldScript.type; newScript.textContent = oldScript.textContent; oldScript.parentNode.replaceChild(newScript, oldScript); } if (root.state.loadingMsg) { root.state.loadingMsg.remove(); root.state.loadingMsg = null; } root.shadowRoot.appendChild(node); }; root.defns.insertContent = ((contentNode, compressed) => { if (compressed) { root.state.deferring = true; } if (root.state.deferring) { root.state.chain = (async () => { await root.state.chain; if (compressed) { const encoded = contentNode.textContent; const blob = new Blob([ Uint8Array.from(atob(encoded), (m) => m.codePointAt(0)) ]); const reader = blob.stream().pipeThrough( new DecompressionStream(\"deflate\") ).pipeThrough( new TextDecoderStream(\"utf-8\") ).getReader(); const parts = []; while (true) { const step = await reader.read(); if (step.done) { break; } parts.push(step.value); } const tpl = document.createElement('template'); tpl.innerHTML = parts.join(\"\"); _insertNode(tpl.content); } else { _insertNode(contentNode.content); } })(); } else { _insertNode(contentNode.content); } }); </script></treescope-run-here><div style=\"display:none\"> <script type=\"application/octet-stream\" >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</script> <treescope-run-here><script type=\"application/octet-stream\"> const root = ( Array.from(document.getElementsByClassName( \"treescope_out_dc3c7a7bb2d64d2b88345edd5a723cb4\")) .filter((elt) => !elt.dataset['step0']) )[0]; root.dataset['step0'] = 1; root.defns.insertContent( this.parentNode.querySelector('script[type=\"application/octet-stream\"]'), true ); this.parentNode.remove(); </script></treescope-run-here> </div>"
      ],
      "text/plain": [
       "<IPython.core.display.HTML object>"
      ]
     },
     "metadata": {},
     "output_type": "display_data"
    },
    {
     "data": {
      "text/html": [
       "<div style=\"display:none\"> <script type=\"application/octet-stream\" >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</script> <treescope-run-here><script type=\"application/octet-stream\"> const root = ( Array.from(document.getElementsByClassName( \"treescope_out_dc3c7a7bb2d64d2b88345edd5a723cb4\")) .filter((elt) => !elt.dataset['step1']) )[0]; root.dataset['step1'] = 1; root.defns.insertContent( this.parentNode.querySelector('script[type=\"application/octet-stream\"]'), true ); this.parentNode.remove(); </script></treescope-run-here> </div>"
      ],
      "text/plain": [
       "<IPython.core.display.HTML object>"
      ]
     },
     "metadata": {},
     "output_type": "display_data"
    },
    {
     "data": {
      "text/html": [
       "<treescope-run-here><script type=\"application/octet-stream\"> const root = ( Array.from(document.getElementsByClassName( \"treescope_out_dc3c7a7bb2d64d2b88345edd5a723cb4\")) .filter((elt) => !elt.dataset.stolen) )[0]; root.dataset.stolen = 1; this.parentNode.replaceChild(root, this); </script></treescope-run-here>"
      ],
      "text/plain": [
       "Selection(\n",
       "  selected_by_path=OrderedDict({\n",
       "    (DictKey(key='c'), SequenceKey(idx=0)):\n",
       "      {\n",
       "        'value': <jax.Array([ 0,  1,  2,  3,  4,  5,  6,  7,  8,  9, 10, 11], dtype=int32)>,\n",
       "      },\n",
       "    (DictKey(key='c'), SequenceKey(idx=2), DictKey(key='value')):\n",
       "      3,\n",
       "  }),\n",
       "  remainder={\n",
       "    'a': 1,\n",
       "    'b': <jax.Array([0, 1, 2, 3, 4, 5, 6, 7, 8, 9], dtype=int32)>,\n",
       "    'c': [SelectionHole(path=(DictKey(key='c'), SequenceKey(idx=0))), {'value': <jax.Array([0., 0., 0., 0., 0., 0., 0.], dtype=float32)>}, {'value': SelectionHole(path=(DictKey(key='c'), SequenceKey(idx=2), DictKey(key='value')))}],\n",
       "  },\n",
       ")"
      ]
     },
     "execution_count": 25,
     "metadata": {},
     "output_type": "execute_result"
    }
   ],
   "source": [
    "pz.select(my_nested_object).at_keypaths([\n",
    "    (jax.tree_util.DictKey(key='c'), jax.tree_util.SequenceKey(idx=2), jax.tree_util.DictKey(key='value')),\n",
    "    (jax.tree_util.DictKey(key='c'), jax.tree_util.SequenceKey(idx=0)),\n",
    "])"
   ]
  },
  {
   "cell_type": "markdown",
   "metadata": {
    "id": "vyDFHhwNNI2y"
   },
   "source": [
    "(You might have noticed that the fancy rendering for Selection objects is actually written in terms of `at_keypaths`, and exposes the keypaths for the currently selected nodes if you expand the last line!)"
   ]
  },
  {
   "cell_type": "markdown",
   "metadata": {
    "id": "j8rujhAbOOKR"
   },
   "source": [
    "### Selecting based on PyTree structure\n",
    "\n",
    "You can also build selections based on PyTree children or PyTree leaves:"
   ]
  },
  {
   "cell_type": "code",
   "execution_count": 26,
   "metadata": {
    "execution": {
     "iopub.execute_input": "2024-07-16T16:57:40.812052Z",
     "iopub.status.busy": "2024-07-16T16:57:40.811762Z",
     "iopub.status.idle": "2024-07-16T16:57:40.826287Z",
     "shell.execute_reply": "2024-07-16T16:57:40.826073Z"
    },
    "id": "ZBZnh09wOdJz"
   },
   "outputs": [
    {
     "data": {
      "text/html": [
       "<script> (()=>{ if (customElements.get('treescope-container') === undefined) { class TreescopeContainer extends HTMLElement { constructor() { super(); this.attachShadow({mode: \"open\"}); this.defns = {}; this.state = {}; } } customElements.define(\"treescope-container\", TreescopeContainer); } if (customElements.get('treescope-run-here') === undefined) { class RunHere extends HTMLElement { constructor() { super() } connectedCallback() { const run = child => { const fn = new Function(child.textContent); child.textContent = \"\"; fn.call(this); this.remove(); }; const child = this.querySelector(\"script\"); if (child) { run(child); } else { new MutationObserver(()=>{ run(this.querySelector(\"script\")); }).observe(this, {childList: true}); } } } customElements.define(\"treescope-run-here\", RunHere); } })(); </script> <treescope-container class=\"treescope_out_12dba52fef6d431cb96c713a4ac89ff7\" ></treescope-container> <treescope-run-here><script type=\"application/octet-stream\"> const root = ( Array.from(document.getElementsByClassName( \"treescope_out_12dba52fef6d431cb96c713a4ac89ff7\")) .filter((elt) => !elt.dataset.setup) )[0]; root.dataset.setup = 1; const msg = document.createElement(\"span\"); msg.style = \"color: #aaaaaa; font-family: monospace; transition: opacity 0.2s; opacity: 0.0;\"; msg.textContent = \"(Loading...)\"; root.state.loadingMsg = msg; root.shadowRoot.appendChild(msg); root.state.chain = new Promise((resolve, reject) => { const observer = new IntersectionObserver((entries) => { for (const entry of entries) { if (entry.isIntersecting) { resolve(); observer.disconnect(); return; } } }, {rootMargin: \"1000px\"}); window.setTimeout(() => { if (root.loadingMsg) { root.loadingMsg.style.opacity = \"1.0\"; } observer.observe(root); }, 0); }); root.state.deferring = false; const _insertNode = (node) => { for (let oldScript of node.querySelectorAll(\"script\")) { let newScript = document.createElement(\"script\"); newScript.type = oldScript.type; newScript.textContent = oldScript.textContent; oldScript.parentNode.replaceChild(newScript, oldScript); } if (root.state.loadingMsg) { root.state.loadingMsg.remove(); root.state.loadingMsg = null; } root.shadowRoot.appendChild(node); }; root.defns.insertContent = ((contentNode, compressed) => { if (compressed) { root.state.deferring = true; } if (root.state.deferring) { root.state.chain = (async () => { await root.state.chain; if (compressed) { const encoded = contentNode.textContent; const blob = new Blob([ Uint8Array.from(atob(encoded), (m) => m.codePointAt(0)) ]); const reader = blob.stream().pipeThrough( new DecompressionStream(\"deflate\") ).pipeThrough( new TextDecoderStream(\"utf-8\") ).getReader(); const parts = []; while (true) { const step = await reader.read(); if (step.done) { break; } parts.push(step.value); } const tpl = document.createElement('template'); tpl.innerHTML = parts.join(\"\"); _insertNode(tpl.content); } else { _insertNode(contentNode.content); } })(); } else { _insertNode(contentNode.content); } }); </script></treescope-run-here><div style=\"display:none\"> <script type=\"application/octet-stream\" >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</script> <treescope-run-here><script type=\"application/octet-stream\"> const root = ( Array.from(document.getElementsByClassName( \"treescope_out_12dba52fef6d431cb96c713a4ac89ff7\")) .filter((elt) => !elt.dataset['step0']) )[0]; root.dataset['step0'] = 1; root.defns.insertContent( this.parentNode.querySelector('script[type=\"application/octet-stream\"]'), true ); this.parentNode.remove(); </script></treescope-run-here> </div>"
      ],
      "text/plain": [
       "<IPython.core.display.HTML object>"
      ]
     },
     "metadata": {},
     "output_type": "display_data"
    },
    {
     "data": {
      "text/html": [
       "<div style=\"display:none\"> <script type=\"application/octet-stream\" >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</script> <treescope-run-here><script type=\"application/octet-stream\"> const root = ( Array.from(document.getElementsByClassName( \"treescope_out_12dba52fef6d431cb96c713a4ac89ff7\")) .filter((elt) => !elt.dataset['step1']) )[0]; root.dataset['step1'] = 1; root.defns.insertContent( this.parentNode.querySelector('script[type=\"application/octet-stream\"]'), true ); this.parentNode.remove(); </script></treescope-run-here> </div>"
      ],
      "text/plain": [
       "<IPython.core.display.HTML object>"
      ]
     },
     "metadata": {},
     "output_type": "display_data"
    },
    {
     "data": {
      "text/html": [
       "<treescope-run-here><script type=\"application/octet-stream\"> const root = ( Array.from(document.getElementsByClassName( \"treescope_out_12dba52fef6d431cb96c713a4ac89ff7\")) .filter((elt) => !elt.dataset.stolen) )[0]; root.dataset.stolen = 1; this.parentNode.replaceChild(root, this); </script></treescope-run-here>"
      ],
      "text/plain": [
       "Selection(\n",
       "  selected_by_path=OrderedDict({\n",
       "    (DictKey(key='a'),):\n",
       "      1,\n",
       "    (DictKey(key='b'),):\n",
       "      <jax.Array([0, 1, 2, 3, 4, 5, 6, 7, 8, 9], dtype=int32)>,\n",
       "    (DictKey(key='c'),):\n",
       "      [{'value': <jax.Array([ 0,  1,  2,  3,  4,  5,  6,  7,  8,  9, 10, 11], dtype=int32)>}, {'value': <jax.Array([0., 0., 0., 0., 0., 0., 0.], dtype=float32)>}, {'value': 3}],\n",
       "  }),\n",
       "  remainder={'a': SelectionHole(path=(DictKey(key='a'),)), 'b': SelectionHole(path=(DictKey(key='b'),)), 'c': SelectionHole(path=(DictKey(key='c'),))},\n",
       ")"
      ]
     },
     "execution_count": 26,
     "metadata": {},
     "output_type": "execute_result"
    }
   ],
   "source": [
    "pz.select(my_nested_object).at_children()"
   ]
  },
  {
   "cell_type": "code",
   "execution_count": 27,
   "metadata": {
    "execution": {
     "iopub.execute_input": "2024-07-16T16:57:40.836269Z",
     "iopub.status.busy": "2024-07-16T16:57:40.836026Z",
     "iopub.status.idle": "2024-07-16T16:57:40.854818Z",
     "shell.execute_reply": "2024-07-16T16:57:40.854597Z"
    },
    "id": "cGcp4EK2OfW1"
   },
   "outputs": [
    {
     "data": {
      "text/html": [
       "<script> (()=>{ if (customElements.get('treescope-container') === undefined) { class TreescopeContainer extends HTMLElement { constructor() { super(); this.attachShadow({mode: \"open\"}); this.defns = {}; this.state = {}; } } customElements.define(\"treescope-container\", TreescopeContainer); } if (customElements.get('treescope-run-here') === undefined) { class RunHere extends HTMLElement { constructor() { super() } connectedCallback() { const run = child => { const fn = new Function(child.textContent); child.textContent = \"\"; fn.call(this); this.remove(); }; const child = this.querySelector(\"script\"); if (child) { run(child); } else { new MutationObserver(()=>{ run(this.querySelector(\"script\")); }).observe(this, {childList: true}); } } } customElements.define(\"treescope-run-here\", RunHere); } })(); </script> <treescope-container class=\"treescope_out_e7238486f7a84b0db25e7fc0feb5131a\" ></treescope-container> <treescope-run-here><script type=\"application/octet-stream\"> const root = ( Array.from(document.getElementsByClassName( \"treescope_out_e7238486f7a84b0db25e7fc0feb5131a\")) .filter((elt) => !elt.dataset.setup) )[0]; root.dataset.setup = 1; const msg = document.createElement(\"span\"); msg.style = \"color: #aaaaaa; font-family: monospace; transition: opacity 0.2s; opacity: 0.0;\"; msg.textContent = \"(Loading...)\"; root.state.loadingMsg = msg; root.shadowRoot.appendChild(msg); root.state.chain = new Promise((resolve, reject) => { const observer = new IntersectionObserver((entries) => { for (const entry of entries) { if (entry.isIntersecting) { resolve(); observer.disconnect(); return; } } }, {rootMargin: \"1000px\"}); window.setTimeout(() => { if (root.loadingMsg) { root.loadingMsg.style.opacity = \"1.0\"; } observer.observe(root); }, 0); }); root.state.deferring = false; const _insertNode = (node) => { for (let oldScript of node.querySelectorAll(\"script\")) { let newScript = document.createElement(\"script\"); newScript.type = oldScript.type; newScript.textContent = oldScript.textContent; oldScript.parentNode.replaceChild(newScript, oldScript); } if (root.state.loadingMsg) { root.state.loadingMsg.remove(); root.state.loadingMsg = null; } root.shadowRoot.appendChild(node); }; root.defns.insertContent = ((contentNode, compressed) => { if (compressed) { root.state.deferring = true; } if (root.state.deferring) { root.state.chain = (async () => { await root.state.chain; if (compressed) { const encoded = contentNode.textContent; const blob = new Blob([ Uint8Array.from(atob(encoded), (m) => m.codePointAt(0)) ]); const reader = blob.stream().pipeThrough( new DecompressionStream(\"deflate\") ).pipeThrough( new TextDecoderStream(\"utf-8\") ).getReader(); const parts = []; while (true) { const step = await reader.read(); if (step.done) { break; } parts.push(step.value); } const tpl = document.createElement('template'); tpl.innerHTML = parts.join(\"\"); _insertNode(tpl.content); } else { _insertNode(contentNode.content); } })(); } else { _insertNode(contentNode.content); } }); </script></treescope-run-here><div style=\"display:none\"> <script type=\"application/octet-stream\" >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</script> <treescope-run-here><script type=\"application/octet-stream\"> const root = ( Array.from(document.getElementsByClassName( \"treescope_out_e7238486f7a84b0db25e7fc0feb5131a\")) .filter((elt) => !elt.dataset['step0']) )[0]; root.dataset['step0'] = 1; root.defns.insertContent( this.parentNode.querySelector('script[type=\"application/octet-stream\"]'), true ); this.parentNode.remove(); </script></treescope-run-here> </div>"
      ],
      "text/plain": [
       "<IPython.core.display.HTML object>"
      ]
     },
     "metadata": {},
     "output_type": "display_data"
    },
    {
     "data": {
      "text/html": [
       "<div style=\"display:none\"> <script type=\"application/octet-stream\" >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</script> <treescope-run-here><script type=\"application/octet-stream\"> const root = ( Array.from(document.getElementsByClassName( \"treescope_out_e7238486f7a84b0db25e7fc0feb5131a\")) .filter((elt) => !elt.dataset['step1']) )[0]; root.dataset['step1'] = 1; root.defns.insertContent( this.parentNode.querySelector('script[type=\"application/octet-stream\"]'), true ); this.parentNode.remove(); </script></treescope-run-here> </div>"
      ],
      "text/plain": [
       "<IPython.core.display.HTML object>"
      ]
     },
     "metadata": {},
     "output_type": "display_data"
    },
    {
     "data": {
      "text/html": [
       "<treescope-run-here><script type=\"application/octet-stream\"> const root = ( Array.from(document.getElementsByClassName( \"treescope_out_e7238486f7a84b0db25e7fc0feb5131a\")) .filter((elt) => !elt.dataset.stolen) )[0]; root.dataset.stolen = 1; this.parentNode.replaceChild(root, this); </script></treescope-run-here>"
      ],
      "text/plain": [
       "Selection(\n",
       "  selected_by_path=OrderedDict({(DictKey(key='a'),): 1, (DictKey(key='b'),): <jax.Array([0, 1, 2, 3, 4, 5, 6, 7, 8, 9], dtype=int32)>, (DictKey(key='c'), SequenceKey(idx=0), DictKey(key='value')): <jax.Array([ 0,  1,  2,  3,  4,  5,  6,  7,  8,  9, 10, 11], dtype=int32)>, (DictKey(key='c'), SequenceKey(idx=1), DictKey(key='value')): <jax.Array([0., 0., 0., 0., 0., 0., 0.], dtype=float32)>, (DictKey(key='c'), SequenceKey(idx=2), DictKey(key='value')): 3}),\n",
       "  remainder={\n",
       "    'a': SelectionHole(path=(DictKey(key='a'),)),\n",
       "    'b': SelectionHole(path=(DictKey(key='b'),)),\n",
       "    'c': [\n",
       "      {\n",
       "        'value': SelectionHole(\n",
       "          path=(DictKey(key='c'), SequenceKey(idx=0), DictKey(key='value')),\n",
       "        ),\n",
       "      },\n",
       "      {\n",
       "        'value': SelectionHole(path=(DictKey(key='c'), SequenceKey(idx=1), DictKey(key='value'))),\n",
       "      },\n",
       "      {\n",
       "        'value': SelectionHole(path=(DictKey(key='c'), SequenceKey(idx=2), DictKey(key='value'))),\n",
       "      },\n",
       "    ],\n",
       "  },\n",
       ")"
      ]
     },
     "execution_count": 27,
     "metadata": {},
     "output_type": "execute_result"
    }
   ],
   "source": [
    "pz.select(my_nested_object).at_pytree_leaves()"
   ]
  },
  {
   "cell_type": "markdown",
   "metadata": {
    "id": "L88O37NHOyrP"
   },
   "source": [
    "Note that some PyTree nodes, like `None` or the empty tuple `()`, don't have any children and are ignored by `jax.tree_util.tree_map`, so they won't be selected by `.at_pytree_leaves`:"
   ]
  },
  {
   "cell_type": "code",
   "execution_count": 28,
   "metadata": {
    "execution": {
     "iopub.execute_input": "2024-07-16T16:57:40.862641Z",
     "iopub.status.busy": "2024-07-16T16:57:40.862222Z",
     "iopub.status.idle": "2024-07-16T16:57:40.870725Z",
     "shell.execute_reply": "2024-07-16T16:57:40.870512Z"
    },
    "id": "-wD3VJajO6TR"
   },
   "outputs": [
    {
     "data": {
      "text/html": [
       "<script> (()=>{ if (customElements.get('treescope-container') === undefined) { class TreescopeContainer extends HTMLElement { constructor() { super(); this.attachShadow({mode: \"open\"}); this.defns = {}; this.state = {}; } } customElements.define(\"treescope-container\", TreescopeContainer); } if (customElements.get('treescope-run-here') === undefined) { class RunHere extends HTMLElement { constructor() { super() } connectedCallback() { const run = child => { const fn = new Function(child.textContent); child.textContent = \"\"; fn.call(this); this.remove(); }; const child = this.querySelector(\"script\"); if (child) { run(child); } else { new MutationObserver(()=>{ run(this.querySelector(\"script\")); }).observe(this, {childList: true}); } } } customElements.define(\"treescope-run-here\", RunHere); } })(); </script> <treescope-container class=\"treescope_out_47425b4655534d38b38afc8a9a683918\" ></treescope-container> <treescope-run-here><script type=\"application/octet-stream\"> const root = ( Array.from(document.getElementsByClassName( \"treescope_out_47425b4655534d38b38afc8a9a683918\")) .filter((elt) => !elt.dataset.setup) )[0]; root.dataset.setup = 1; const msg = document.createElement(\"span\"); msg.style = \"color: #aaaaaa; font-family: monospace; transition: opacity 0.2s; opacity: 0.0;\"; msg.textContent = \"(Loading...)\"; root.state.loadingMsg = msg; root.shadowRoot.appendChild(msg); root.state.chain = new Promise((resolve, reject) => { const observer = new IntersectionObserver((entries) => { for (const entry of entries) { if (entry.isIntersecting) { resolve(); observer.disconnect(); return; } } }, {rootMargin: \"1000px\"}); window.setTimeout(() => { if (root.loadingMsg) { root.loadingMsg.style.opacity = \"1.0\"; } observer.observe(root); }, 0); }); root.state.deferring = false; const _insertNode = (node) => { for (let oldScript of node.querySelectorAll(\"script\")) { let newScript = document.createElement(\"script\"); newScript.type = oldScript.type; newScript.textContent = oldScript.textContent; oldScript.parentNode.replaceChild(newScript, oldScript); } if (root.state.loadingMsg) { root.state.loadingMsg.remove(); root.state.loadingMsg = null; } root.shadowRoot.appendChild(node); }; root.defns.insertContent = ((contentNode, compressed) => { if (compressed) { root.state.deferring = true; } if (root.state.deferring) { root.state.chain = (async () => { await root.state.chain; if (compressed) { const encoded = contentNode.textContent; const blob = new Blob([ Uint8Array.from(atob(encoded), (m) => m.codePointAt(0)) ]); const reader = blob.stream().pipeThrough( new DecompressionStream(\"deflate\") ).pipeThrough( new TextDecoderStream(\"utf-8\") ).getReader(); const parts = []; while (true) { const step = await reader.read(); if (step.done) { break; } parts.push(step.value); } const tpl = document.createElement('template'); tpl.innerHTML = parts.join(\"\"); _insertNode(tpl.content); } else { _insertNode(contentNode.content); } })(); } else { _insertNode(contentNode.content); } }); </script></treescope-run-here><div style=\"display:none\"> <script type=\"application/octet-stream\" >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</script> <treescope-run-here><script type=\"application/octet-stream\"> const root = ( Array.from(document.getElementsByClassName( \"treescope_out_47425b4655534d38b38afc8a9a683918\")) .filter((elt) => !elt.dataset['step0']) )[0]; root.dataset['step0'] = 1; root.defns.insertContent( this.parentNode.querySelector('script[type=\"application/octet-stream\"]'), true ); this.parentNode.remove(); </script></treescope-run-here> </div>"
      ],
      "text/plain": [
       "<IPython.core.display.HTML object>"
      ]
     },
     "metadata": {},
     "output_type": "display_data"
    },
    {
     "data": {
      "text/html": [
       "<treescope-run-here><script type=\"application/octet-stream\"> const root = ( Array.from(document.getElementsByClassName( \"treescope_out_47425b4655534d38b38afc8a9a683918\")) .filter((elt) => !elt.dataset.stolen) )[0]; root.dataset.stolen = 1; this.parentNode.replaceChild(root, this); </script></treescope-run-here>"
      ],
      "text/plain": [
       "Selection(\n",
       "  selected_by_path=OrderedDict({(SequenceKey(idx=0),): 1, (SequenceKey(idx=1),): 2, (SequenceKey(idx=3),): 3, (SequenceKey(idx=5),): 4}),\n",
       "  remainder=[\n",
       "    SelectionHole(path=(SequenceKey(idx=0),)),\n",
       "    SelectionHole(path=(SequenceKey(idx=1),)),\n",
       "    (),\n",
       "    SelectionHole(path=(SequenceKey(idx=3),)),\n",
       "    None,\n",
       "    SelectionHole(path=(SequenceKey(idx=5),)),\n",
       "  ],\n",
       ")"
      ]
     },
     "execution_count": 28,
     "metadata": {},
     "output_type": "execute_result"
    }
   ],
   "source": [
    "pz.select([1, 2, (), 3, None, 4]).at_pytree_leaves()"
   ]
  },
  {
   "cell_type": "markdown",
   "metadata": {
    "id": "_afpL4O8O_VZ"
   },
   "source": [
    "If you want to select these too, you can use `.at_childless`:"
   ]
  },
  {
   "cell_type": "code",
   "execution_count": 29,
   "metadata": {
    "execution": {
     "iopub.execute_input": "2024-07-16T16:57:40.879271Z",
     "iopub.status.busy": "2024-07-16T16:57:40.879007Z",
     "iopub.status.idle": "2024-07-16T16:57:40.888276Z",
     "shell.execute_reply": "2024-07-16T16:57:40.888100Z"
    },
    "id": "byvIxqOZPDD6"
   },
   "outputs": [
    {
     "data": {
      "text/html": [
       "<script> (()=>{ if (customElements.get('treescope-container') === undefined) { class TreescopeContainer extends HTMLElement { constructor() { super(); this.attachShadow({mode: \"open\"}); this.defns = {}; this.state = {}; } } customElements.define(\"treescope-container\", TreescopeContainer); } if (customElements.get('treescope-run-here') === undefined) { class RunHere extends HTMLElement { constructor() { super() } connectedCallback() { const run = child => { const fn = new Function(child.textContent); child.textContent = \"\"; fn.call(this); this.remove(); }; const child = this.querySelector(\"script\"); if (child) { run(child); } else { new MutationObserver(()=>{ run(this.querySelector(\"script\")); }).observe(this, {childList: true}); } } } customElements.define(\"treescope-run-here\", RunHere); } })(); </script> <treescope-container class=\"treescope_out_dfc63303ec054e54a90eb0407d6c4585\" ></treescope-container> <treescope-run-here><script type=\"application/octet-stream\"> const root = ( Array.from(document.getElementsByClassName( \"treescope_out_dfc63303ec054e54a90eb0407d6c4585\")) .filter((elt) => !elt.dataset.setup) )[0]; root.dataset.setup = 1; const msg = document.createElement(\"span\"); msg.style = \"color: #aaaaaa; font-family: monospace; transition: opacity 0.2s; opacity: 0.0;\"; msg.textContent = \"(Loading...)\"; root.state.loadingMsg = msg; root.shadowRoot.appendChild(msg); root.state.chain = new Promise((resolve, reject) => { const observer = new IntersectionObserver((entries) => { for (const entry of entries) { if (entry.isIntersecting) { resolve(); observer.disconnect(); return; } } }, {rootMargin: \"1000px\"}); window.setTimeout(() => { if (root.loadingMsg) { root.loadingMsg.style.opacity = \"1.0\"; } observer.observe(root); }, 0); }); root.state.deferring = false; const _insertNode = (node) => { for (let oldScript of node.querySelectorAll(\"script\")) { let newScript = document.createElement(\"script\"); newScript.type = oldScript.type; newScript.textContent = oldScript.textContent; oldScript.parentNode.replaceChild(newScript, oldScript); } if (root.state.loadingMsg) { root.state.loadingMsg.remove(); root.state.loadingMsg = null; } root.shadowRoot.appendChild(node); }; root.defns.insertContent = ((contentNode, compressed) => { if (compressed) { root.state.deferring = true; } if (root.state.deferring) { root.state.chain = (async () => { await root.state.chain; if (compressed) { const encoded = contentNode.textContent; const blob = new Blob([ Uint8Array.from(atob(encoded), (m) => m.codePointAt(0)) ]); const reader = blob.stream().pipeThrough( new DecompressionStream(\"deflate\") ).pipeThrough( new TextDecoderStream(\"utf-8\") ).getReader(); const parts = []; while (true) { const step = await reader.read(); if (step.done) { break; } parts.push(step.value); } const tpl = document.createElement('template'); tpl.innerHTML = parts.join(\"\"); _insertNode(tpl.content); } else { _insertNode(contentNode.content); } })(); } else { _insertNode(contentNode.content); } }); </script></treescope-run-here><div style=\"display:none\"> <script type=\"application/octet-stream\" >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</script> <treescope-run-here><script type=\"application/octet-stream\"> const root = ( Array.from(document.getElementsByClassName( \"treescope_out_dfc63303ec054e54a90eb0407d6c4585\")) .filter((elt) => !elt.dataset['step0']) )[0]; root.dataset['step0'] = 1; root.defns.insertContent( this.parentNode.querySelector('script[type=\"application/octet-stream\"]'), true ); this.parentNode.remove(); </script></treescope-run-here> </div>"
      ],
      "text/plain": [
       "<IPython.core.display.HTML object>"
      ]
     },
     "metadata": {},
     "output_type": "display_data"
    },
    {
     "data": {
      "text/html": [
       "<treescope-run-here><script type=\"application/octet-stream\"> const root = ( Array.from(document.getElementsByClassName( \"treescope_out_dfc63303ec054e54a90eb0407d6c4585\")) .filter((elt) => !elt.dataset.stolen) )[0]; root.dataset.stolen = 1; this.parentNode.replaceChild(root, this); </script></treescope-run-here>"
      ],
      "text/plain": [
       "Selection(\n",
       "  selected_by_path=OrderedDict({(SequenceKey(idx=0),): 1, (SequenceKey(idx=1),): 2, (SequenceKey(idx=2),): (), (SequenceKey(idx=3),): 3, (SequenceKey(idx=4),): None, (SequenceKey(idx=5),): 4}),\n",
       "  remainder=[\n",
       "    SelectionHole(path=(SequenceKey(idx=0),)),\n",
       "    SelectionHole(path=(SequenceKey(idx=1),)),\n",
       "    SelectionHole(path=(SequenceKey(idx=2),)),\n",
       "    SelectionHole(path=(SequenceKey(idx=3),)),\n",
       "    SelectionHole(path=(SequenceKey(idx=4),)),\n",
       "    SelectionHole(path=(SequenceKey(idx=5),)),\n",
       "  ],\n",
       ")"
      ]
     },
     "execution_count": 29,
     "metadata": {},
     "output_type": "execute_result"
    }
   ],
   "source": [
    "pz.select([1, 2, (), 3, None, 4]).at_childless()"
   ]
  },
  {
   "cell_type": "markdown",
   "metadata": {
    "id": "3y9uooSkPKoU"
   },
   "source": [
    "### Filtering selections\n",
    "Given an existing set of selected nodes, you can choose to filter down to only a subset that match a criterion:"
   ]
  },
  {
   "cell_type": "code",
   "execution_count": 30,
   "metadata": {
    "execution": {
     "iopub.execute_input": "2024-07-16T16:57:40.899444Z",
     "iopub.status.busy": "2024-07-16T16:57:40.899134Z",
     "iopub.status.idle": "2024-07-16T16:57:40.912272Z",
     "shell.execute_reply": "2024-07-16T16:57:40.912048Z"
    },
    "id": "Uk1-HVvKPOq6"
   },
   "outputs": [
    {
     "data": {
      "text/html": [
       "<script> (()=>{ if (customElements.get('treescope-container') === undefined) { class TreescopeContainer extends HTMLElement { constructor() { super(); this.attachShadow({mode: \"open\"}); this.defns = {}; this.state = {}; } } customElements.define(\"treescope-container\", TreescopeContainer); } if (customElements.get('treescope-run-here') === undefined) { class RunHere extends HTMLElement { constructor() { super() } connectedCallback() { const run = child => { const fn = new Function(child.textContent); child.textContent = \"\"; fn.call(this); this.remove(); }; const child = this.querySelector(\"script\"); if (child) { run(child); } else { new MutationObserver(()=>{ run(this.querySelector(\"script\")); }).observe(this, {childList: true}); } } } customElements.define(\"treescope-run-here\", RunHere); } })(); </script> <treescope-container class=\"treescope_out_7ac8b8495846470885e78ba10be575d4\" ></treescope-container> <treescope-run-here><script type=\"application/octet-stream\"> const root = ( Array.from(document.getElementsByClassName( \"treescope_out_7ac8b8495846470885e78ba10be575d4\")) .filter((elt) => !elt.dataset.setup) )[0]; root.dataset.setup = 1; const msg = document.createElement(\"span\"); msg.style = \"color: #aaaaaa; font-family: monospace; transition: opacity 0.2s; opacity: 0.0;\"; msg.textContent = \"(Loading...)\"; root.state.loadingMsg = msg; root.shadowRoot.appendChild(msg); root.state.chain = new Promise((resolve, reject) => { const observer = new IntersectionObserver((entries) => { for (const entry of entries) { if (entry.isIntersecting) { resolve(); observer.disconnect(); return; } } }, {rootMargin: \"1000px\"}); window.setTimeout(() => { if (root.loadingMsg) { root.loadingMsg.style.opacity = \"1.0\"; } observer.observe(root); }, 0); }); root.state.deferring = false; const _insertNode = (node) => { for (let oldScript of node.querySelectorAll(\"script\")) { let newScript = document.createElement(\"script\"); newScript.type = oldScript.type; newScript.textContent = oldScript.textContent; oldScript.parentNode.replaceChild(newScript, oldScript); } if (root.state.loadingMsg) { root.state.loadingMsg.remove(); root.state.loadingMsg = null; } root.shadowRoot.appendChild(node); }; root.defns.insertContent = ((contentNode, compressed) => { if (compressed) { root.state.deferring = true; } if (root.state.deferring) { root.state.chain = (async () => { await root.state.chain; if (compressed) { const encoded = contentNode.textContent; const blob = new Blob([ Uint8Array.from(atob(encoded), (m) => m.codePointAt(0)) ]); const reader = blob.stream().pipeThrough( new DecompressionStream(\"deflate\") ).pipeThrough( new TextDecoderStream(\"utf-8\") ).getReader(); const parts = []; while (true) { const step = await reader.read(); if (step.done) { break; } parts.push(step.value); } const tpl = document.createElement('template'); tpl.innerHTML = parts.join(\"\"); _insertNode(tpl.content); } else { _insertNode(contentNode.content); } })(); } else { _insertNode(contentNode.content); } }); </script></treescope-run-here><div style=\"display:none\"> <script type=\"application/octet-stream\" >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</script> <treescope-run-here><script type=\"application/octet-stream\"> const root = ( Array.from(document.getElementsByClassName( \"treescope_out_7ac8b8495846470885e78ba10be575d4\")) .filter((elt) => !elt.dataset['step0']) )[0]; root.dataset['step0'] = 1; root.defns.insertContent( this.parentNode.querySelector('script[type=\"application/octet-stream\"]'), true ); this.parentNode.remove(); </script></treescope-run-here> </div>"
      ],
      "text/plain": [
       "<IPython.core.display.HTML object>"
      ]
     },
     "metadata": {},
     "output_type": "display_data"
    },
    {
     "data": {
      "text/html": [
       "<treescope-run-here><script type=\"application/octet-stream\"> const root = ( Array.from(document.getElementsByClassName( \"treescope_out_7ac8b8495846470885e78ba10be575d4\")) .filter((elt) => !elt.dataset.stolen) )[0]; root.dataset.stolen = 1; this.parentNode.replaceChild(root, this); </script></treescope-run-here>"
      ],
      "text/plain": [
       "Selection(\n",
       "  selected_by_path=OrderedDict({(SequenceKey(idx=0),): 0, (SequenceKey(idx=2),): 2, (SequenceKey(idx=4),): 4, (SequenceKey(idx=6),): 6, (SequenceKey(idx=8),): 8, (SequenceKey(idx=10),): 10, (SequenceKey(idx=12),): 12, (SequenceKey(idx=14),): 14, (SequenceKey(idx=16),): 16, (SequenceKey(idx=18),): 18}),\n",
       "  remainder=[SelectionHole(path=(SequenceKey(idx=0),)), 1, SelectionHole(path=(SequenceKey(idx=2),)), 3, SelectionHole(path=(SequenceKey(idx=4),)), 5, SelectionHole(path=(SequenceKey(idx=6),)), 7, SelectionHole(path=(SequenceKey(idx=8),)), 9, SelectionHole(path=(SequenceKey(idx=10),)), 11, SelectionHole(path=(SequenceKey(idx=12),)), 13, SelectionHole(path=(SequenceKey(idx=14),)), 15, SelectionHole(path=(SequenceKey(idx=16),)), 17, SelectionHole(path=(SequenceKey(idx=18),)), 19],\n",
       ")"
      ]
     },
     "execution_count": 30,
     "metadata": {},
     "output_type": "execute_result"
    }
   ],
   "source": [
    "pz.select(list(range(20))).at_instances_of(int).where(lambda x: x % 2 == 0)"
   ]
  },
  {
   "cell_type": "markdown",
   "metadata": {
    "id": "2Ae_LP3BdpGG"
   },
   "source": [
    "You can also choose to keep only the `n`th node that you've selected (e.g. the third integer in the collection), zero-indexed:"
   ]
  },
  {
   "cell_type": "code",
   "execution_count": 31,
   "metadata": {
    "execution": {
     "iopub.execute_input": "2024-07-16T16:57:40.918270Z",
     "iopub.status.busy": "2024-07-16T16:57:40.918016Z",
     "iopub.status.idle": "2024-07-16T16:57:40.924275Z",
     "shell.execute_reply": "2024-07-16T16:57:40.924081Z"
    },
    "id": "zkisw9V-eNaa"
   },
   "outputs": [
    {
     "data": {
      "text/html": [
       "<script> (()=>{ if (customElements.get('treescope-container') === undefined) { class TreescopeContainer extends HTMLElement { constructor() { super(); this.attachShadow({mode: \"open\"}); this.defns = {}; this.state = {}; } } customElements.define(\"treescope-container\", TreescopeContainer); } if (customElements.get('treescope-run-here') === undefined) { class RunHere extends HTMLElement { constructor() { super() } connectedCallback() { const run = child => { const fn = new Function(child.textContent); child.textContent = \"\"; fn.call(this); this.remove(); }; const child = this.querySelector(\"script\"); if (child) { run(child); } else { new MutationObserver(()=>{ run(this.querySelector(\"script\")); }).observe(this, {childList: true}); } } } customElements.define(\"treescope-run-here\", RunHere); } })(); </script> <treescope-container class=\"treescope_out_62d1b55b43234642b21ec82c1a7a7348\" ></treescope-container> <treescope-run-here><script type=\"application/octet-stream\"> const root = ( Array.from(document.getElementsByClassName( \"treescope_out_62d1b55b43234642b21ec82c1a7a7348\")) .filter((elt) => !elt.dataset.setup) )[0]; root.dataset.setup = 1; const msg = document.createElement(\"span\"); msg.style = \"color: #aaaaaa; font-family: monospace; transition: opacity 0.2s; opacity: 0.0;\"; msg.textContent = \"(Loading...)\"; root.state.loadingMsg = msg; root.shadowRoot.appendChild(msg); root.state.chain = new Promise((resolve, reject) => { const observer = new IntersectionObserver((entries) => { for (const entry of entries) { if (entry.isIntersecting) { resolve(); observer.disconnect(); return; } } }, {rootMargin: \"1000px\"}); window.setTimeout(() => { if (root.loadingMsg) { root.loadingMsg.style.opacity = \"1.0\"; } observer.observe(root); }, 0); }); root.state.deferring = false; const _insertNode = (node) => { for (let oldScript of node.querySelectorAll(\"script\")) { let newScript = document.createElement(\"script\"); newScript.type = oldScript.type; newScript.textContent = oldScript.textContent; oldScript.parentNode.replaceChild(newScript, oldScript); } if (root.state.loadingMsg) { root.state.loadingMsg.remove(); root.state.loadingMsg = null; } root.shadowRoot.appendChild(node); }; root.defns.insertContent = ((contentNode, compressed) => { if (compressed) { root.state.deferring = true; } if (root.state.deferring) { root.state.chain = (async () => { await root.state.chain; if (compressed) { const encoded = contentNode.textContent; const blob = new Blob([ Uint8Array.from(atob(encoded), (m) => m.codePointAt(0)) ]); const reader = blob.stream().pipeThrough( new DecompressionStream(\"deflate\") ).pipeThrough( new TextDecoderStream(\"utf-8\") ).getReader(); const parts = []; while (true) { const step = await reader.read(); if (step.done) { break; } parts.push(step.value); } const tpl = document.createElement('template'); tpl.innerHTML = parts.join(\"\"); _insertNode(tpl.content); } else { _insertNode(contentNode.content); } })(); } else { _insertNode(contentNode.content); } }); </script></treescope-run-here><div style=\"display:none\"> <script type=\"application/octet-stream\" >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</script> <treescope-run-here><script type=\"application/octet-stream\"> const root = ( Array.from(document.getElementsByClassName( \"treescope_out_62d1b55b43234642b21ec82c1a7a7348\")) .filter((elt) => !elt.dataset['step0']) )[0]; root.dataset['step0'] = 1; root.defns.insertContent( this.parentNode.querySelector('script[type=\"application/octet-stream\"]'), true ); this.parentNode.remove(); </script></treescope-run-here> </div>"
      ],
      "text/plain": [
       "<IPython.core.display.HTML object>"
      ]
     },
     "metadata": {},
     "output_type": "display_data"
    },
    {
     "data": {
      "text/html": [
       "<treescope-run-here><script type=\"application/octet-stream\"> const root = ( Array.from(document.getElementsByClassName( \"treescope_out_62d1b55b43234642b21ec82c1a7a7348\")) .filter((elt) => !elt.dataset.stolen) )[0]; root.dataset.stolen = 1; this.parentNode.replaceChild(root, this); </script></treescope-run-here>"
      ],
      "text/plain": [
       "Selection(\n",
       "  selected_by_path=OrderedDict({(SequenceKey(idx=4),): 3}),\n",
       "  remainder=[\n",
       "    1,\n",
       "    'a',\n",
       "    2,\n",
       "    'b',\n",
       "    SelectionHole(path=(SequenceKey(idx=4),)),\n",
       "    'c',\n",
       "    4,\n",
       "    'd',\n",
       "  ],\n",
       ")"
      ]
     },
     "execution_count": 31,
     "metadata": {},
     "output_type": "execute_result"
    }
   ],
   "source": [
    "pz.select([1, \"a\", 2, \"b\", 3, \"c\", 4, \"d\"]).at_instances_of(int).pick_nth_selected(2)"
   ]
  },
  {
   "cell_type": "markdown",
   "metadata": {
    "id": "VK7GeXc6ka0s"
   },
   "source": [
    "### Inverting selections\n",
    "Selections can be inverted, which produces a new Selection which selects every PyTree node that did NOT contain any of the selected nodes:"
   ]
  },
  {
   "cell_type": "code",
   "execution_count": 32,
   "metadata": {
    "execution": {
     "iopub.execute_input": "2024-07-16T16:57:40.930923Z",
     "iopub.status.busy": "2024-07-16T16:57:40.930624Z",
     "iopub.status.idle": "2024-07-16T16:57:40.941051Z",
     "shell.execute_reply": "2024-07-16T16:57:40.941168Z"
    },
    "id": "CF1rqre8klTc"
   },
   "outputs": [
    {
     "name": "stdout",
     "output_type": "stream",
     "text": [
      "Original:\n"
     ]
    },
    {
     "data": {
      "text/html": [
       "<script> (()=>{ if (customElements.get('treescope-container') === undefined) { class TreescopeContainer extends HTMLElement { constructor() { super(); this.attachShadow({mode: \"open\"}); this.defns = {}; this.state = {}; } } customElements.define(\"treescope-container\", TreescopeContainer); } if (customElements.get('treescope-run-here') === undefined) { class RunHere extends HTMLElement { constructor() { super() } connectedCallback() { const run = child => { const fn = new Function(child.textContent); child.textContent = \"\"; fn.call(this); this.remove(); }; const child = this.querySelector(\"script\"); if (child) { run(child); } else { new MutationObserver(()=>{ run(this.querySelector(\"script\")); }).observe(this, {childList: true}); } } } customElements.define(\"treescope-run-here\", RunHere); } })(); </script> <treescope-container class=\"treescope_out_212ed42639ff4bec9d2d0839edcd0986\" ></treescope-container> <treescope-run-here><script type=\"application/octet-stream\"> const root = ( Array.from(document.getElementsByClassName( \"treescope_out_212ed42639ff4bec9d2d0839edcd0986\")) .filter((elt) => !elt.dataset.setup) )[0]; root.dataset.setup = 1; const msg = document.createElement(\"span\"); msg.style = \"color: #aaaaaa; font-family: monospace; transition: opacity 0.2s; opacity: 0.0;\"; msg.textContent = \"(Loading...)\"; root.state.loadingMsg = msg; root.shadowRoot.appendChild(msg); root.state.chain = new Promise((resolve, reject) => { const observer = new IntersectionObserver((entries) => { for (const entry of entries) { if (entry.isIntersecting) { resolve(); observer.disconnect(); return; } } }, {rootMargin: \"1000px\"}); window.setTimeout(() => { if (root.loadingMsg) { root.loadingMsg.style.opacity = \"1.0\"; } observer.observe(root); }, 0); }); root.state.deferring = false; const _insertNode = (node) => { for (let oldScript of node.querySelectorAll(\"script\")) { let newScript = document.createElement(\"script\"); newScript.type = oldScript.type; newScript.textContent = oldScript.textContent; oldScript.parentNode.replaceChild(newScript, oldScript); } if (root.state.loadingMsg) { root.state.loadingMsg.remove(); root.state.loadingMsg = null; } root.shadowRoot.appendChild(node); }; root.defns.insertContent = ((contentNode, compressed) => { if (compressed) { root.state.deferring = true; } if (root.state.deferring) { root.state.chain = (async () => { await root.state.chain; if (compressed) { const encoded = contentNode.textContent; const blob = new Blob([ Uint8Array.from(atob(encoded), (m) => m.codePointAt(0)) ]); const reader = blob.stream().pipeThrough( new DecompressionStream(\"deflate\") ).pipeThrough( new TextDecoderStream(\"utf-8\") ).getReader(); const parts = []; while (true) { const step = await reader.read(); if (step.done) { break; } parts.push(step.value); } const tpl = document.createElement('template'); tpl.innerHTML = parts.join(\"\"); _insertNode(tpl.content); } else { _insertNode(contentNode.content); } })(); } else { _insertNode(contentNode.content); } }); </script></treescope-run-here><div style=\"display:none\"> <script type=\"application/octet-stream\" >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</script> <treescope-run-here><script type=\"application/octet-stream\"> const root = ( Array.from(document.getElementsByClassName( \"treescope_out_212ed42639ff4bec9d2d0839edcd0986\")) .filter((elt) => !elt.dataset['step0']) )[0]; root.dataset['step0'] = 1; root.defns.insertContent( this.parentNode.querySelector('script[type=\"application/octet-stream\"]'), true ); this.parentNode.remove(); </script></treescope-run-here> </div>"
      ],
      "text/plain": [
       "<IPython.core.display.HTML object>"
      ]
     },
     "metadata": {},
     "output_type": "display_data"
    },
    {
     "name": "stdout",
     "output_type": "stream",
     "text": [
      "Inverted:\n"
     ]
    },
    {
     "data": {
      "text/html": [
       "<script> (()=>{ if (customElements.get('treescope-container') === undefined) { class TreescopeContainer extends HTMLElement { constructor() { super(); this.attachShadow({mode: \"open\"}); this.defns = {}; this.state = {}; } } customElements.define(\"treescope-container\", TreescopeContainer); } if (customElements.get('treescope-run-here') === undefined) { class RunHere extends HTMLElement { constructor() { super() } connectedCallback() { const run = child => { const fn = new Function(child.textContent); child.textContent = \"\"; fn.call(this); this.remove(); }; const child = this.querySelector(\"script\"); if (child) { run(child); } else { new MutationObserver(()=>{ run(this.querySelector(\"script\")); }).observe(this, {childList: true}); } } } customElements.define(\"treescope-run-here\", RunHere); } })(); </script> <treescope-container class=\"treescope_out_f3626645a9a547778346a6cd9ad68e1e\" ></treescope-container> <treescope-run-here><script type=\"application/octet-stream\"> const root = ( Array.from(document.getElementsByClassName( \"treescope_out_f3626645a9a547778346a6cd9ad68e1e\")) .filter((elt) => !elt.dataset.setup) )[0]; root.dataset.setup = 1; const msg = document.createElement(\"span\"); msg.style = \"color: #aaaaaa; font-family: monospace; transition: opacity 0.2s; opacity: 0.0;\"; msg.textContent = \"(Loading...)\"; root.state.loadingMsg = msg; root.shadowRoot.appendChild(msg); root.state.chain = new Promise((resolve, reject) => { const observer = new IntersectionObserver((entries) => { for (const entry of entries) { if (entry.isIntersecting) { resolve(); observer.disconnect(); return; } } }, {rootMargin: \"1000px\"}); window.setTimeout(() => { if (root.loadingMsg) { root.loadingMsg.style.opacity = \"1.0\"; } observer.observe(root); }, 0); }); root.state.deferring = false; const _insertNode = (node) => { for (let oldScript of node.querySelectorAll(\"script\")) { let newScript = document.createElement(\"script\"); newScript.type = oldScript.type; newScript.textContent = oldScript.textContent; oldScript.parentNode.replaceChild(newScript, oldScript); } if (root.state.loadingMsg) { root.state.loadingMsg.remove(); root.state.loadingMsg = null; } root.shadowRoot.appendChild(node); }; root.defns.insertContent = ((contentNode, compressed) => { if (compressed) { root.state.deferring = true; } if (root.state.deferring) { root.state.chain = (async () => { await root.state.chain; if (compressed) { const encoded = contentNode.textContent; const blob = new Blob([ Uint8Array.from(atob(encoded), (m) => m.codePointAt(0)) ]); const reader = blob.stream().pipeThrough( new DecompressionStream(\"deflate\") ).pipeThrough( new TextDecoderStream(\"utf-8\") ).getReader(); const parts = []; while (true) { const step = await reader.read(); if (step.done) { break; } parts.push(step.value); } const tpl = document.createElement('template'); tpl.innerHTML = parts.join(\"\"); _insertNode(tpl.content); } else { _insertNode(contentNode.content); } })(); } else { _insertNode(contentNode.content); } }); </script></treescope-run-here><div style=\"display:none\"> <script type=\"application/octet-stream\" >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</script> <treescope-run-here><script type=\"application/octet-stream\"> const root = ( Array.from(document.getElementsByClassName( \"treescope_out_f3626645a9a547778346a6cd9ad68e1e\")) .filter((elt) => !elt.dataset['step0']) )[0]; root.dataset['step0'] = 1; root.defns.insertContent( this.parentNode.querySelector('script[type=\"application/octet-stream\"]'), true ); this.parentNode.remove(); </script></treescope-run-here> </div>"
      ],
      "text/plain": [
       "<IPython.core.display.HTML object>"
      ]
     },
     "metadata": {},
     "output_type": "display_data"
    }
   ],
   "source": [
    "selection = pz.select([1, \"a\", 2, \"b\", 3, \"c\", 4, \"d\"]).at_instances_of(int).pick_nth_selected(2)\n",
    "\n",
    "print(\"Original:\")\n",
    "selection.show_selection()\n",
    "print(\"Inverted:\")\n",
    "selection.invert().show_selection()"
   ]
  },
  {
   "cell_type": "code",
   "execution_count": 33,
   "metadata": {
    "execution": {
     "iopub.execute_input": "2024-07-16T16:57:40.950335Z",
     "iopub.status.busy": "2024-07-16T16:57:40.950048Z",
     "iopub.status.idle": "2024-07-16T16:57:40.969013Z",
     "shell.execute_reply": "2024-07-16T16:57:40.968798Z"
    },
    "id": "HaLCG89dknQg"
   },
   "outputs": [
    {
     "name": "stdout",
     "output_type": "stream",
     "text": [
      "Original:\n"
     ]
    },
    {
     "data": {
      "text/html": [
       "<script> (()=>{ if (customElements.get('treescope-container') === undefined) { class TreescopeContainer extends HTMLElement { constructor() { super(); this.attachShadow({mode: \"open\"}); this.defns = {}; this.state = {}; } } customElements.define(\"treescope-container\", TreescopeContainer); } if (customElements.get('treescope-run-here') === undefined) { class RunHere extends HTMLElement { constructor() { super() } connectedCallback() { const run = child => { const fn = new Function(child.textContent); child.textContent = \"\"; fn.call(this); this.remove(); }; const child = this.querySelector(\"script\"); if (child) { run(child); } else { new MutationObserver(()=>{ run(this.querySelector(\"script\")); }).observe(this, {childList: true}); } } } customElements.define(\"treescope-run-here\", RunHere); } })(); </script> <treescope-container class=\"treescope_out_a6e36a5f499c4e97ba01ab4aae6e1427\" ></treescope-container> <treescope-run-here><script type=\"application/octet-stream\"> const root = ( Array.from(document.getElementsByClassName( \"treescope_out_a6e36a5f499c4e97ba01ab4aae6e1427\")) .filter((elt) => !elt.dataset.setup) )[0]; root.dataset.setup = 1; const msg = document.createElement(\"span\"); msg.style = \"color: #aaaaaa; font-family: monospace; transition: opacity 0.2s; opacity: 0.0;\"; msg.textContent = \"(Loading...)\"; root.state.loadingMsg = msg; root.shadowRoot.appendChild(msg); root.state.chain = new Promise((resolve, reject) => { const observer = new IntersectionObserver((entries) => { for (const entry of entries) { if (entry.isIntersecting) { resolve(); observer.disconnect(); return; } } }, {rootMargin: \"1000px\"}); window.setTimeout(() => { if (root.loadingMsg) { root.loadingMsg.style.opacity = \"1.0\"; } observer.observe(root); }, 0); }); root.state.deferring = false; const _insertNode = (node) => { for (let oldScript of node.querySelectorAll(\"script\")) { let newScript = document.createElement(\"script\"); newScript.type = oldScript.type; newScript.textContent = oldScript.textContent; oldScript.parentNode.replaceChild(newScript, oldScript); } if (root.state.loadingMsg) { root.state.loadingMsg.remove(); root.state.loadingMsg = null; } root.shadowRoot.appendChild(node); }; root.defns.insertContent = ((contentNode, compressed) => { if (compressed) { root.state.deferring = true; } if (root.state.deferring) { root.state.chain = (async () => { await root.state.chain; if (compressed) { const encoded = contentNode.textContent; const blob = new Blob([ Uint8Array.from(atob(encoded), (m) => m.codePointAt(0)) ]); const reader = blob.stream().pipeThrough( new DecompressionStream(\"deflate\") ).pipeThrough( new TextDecoderStream(\"utf-8\") ).getReader(); const parts = []; while (true) { const step = await reader.read(); if (step.done) { break; } parts.push(step.value); } const tpl = document.createElement('template'); tpl.innerHTML = parts.join(\"\"); _insertNode(tpl.content); } else { _insertNode(contentNode.content); } })(); } else { _insertNode(contentNode.content); } }); </script></treescope-run-here><div style=\"display:none\"> <script type=\"application/octet-stream\" >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</script> <treescope-run-here><script type=\"application/octet-stream\"> const root = ( Array.from(document.getElementsByClassName( \"treescope_out_a6e36a5f499c4e97ba01ab4aae6e1427\")) .filter((elt) => !elt.dataset['step0']) )[0]; root.dataset['step0'] = 1; root.defns.insertContent( this.parentNode.querySelector('script[type=\"application/octet-stream\"]'), true ); this.parentNode.remove(); </script></treescope-run-here> </div>"
      ],
      "text/plain": [
       "<IPython.core.display.HTML object>"
      ]
     },
     "metadata": {},
     "output_type": "display_data"
    },
    {
     "data": {
      "text/html": [
       "<div style=\"display:none\"> <script type=\"application/octet-stream\" >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</script> <treescope-run-here><script type=\"application/octet-stream\"> const root = ( Array.from(document.getElementsByClassName( \"treescope_out_a6e36a5f499c4e97ba01ab4aae6e1427\")) .filter((elt) => !elt.dataset['step1']) )[0]; root.dataset['step1'] = 1; root.defns.insertContent( this.parentNode.querySelector('script[type=\"application/octet-stream\"]'), true ); this.parentNode.remove(); </script></treescope-run-here> </div>"
      ],
      "text/plain": [
       "<IPython.core.display.HTML object>"
      ]
     },
     "metadata": {},
     "output_type": "display_data"
    },
    {
     "name": "stdout",
     "output_type": "stream",
     "text": [
      "Inverted:\n"
     ]
    },
    {
     "data": {
      "text/html": [
       "<script> (()=>{ if (customElements.get('treescope-container') === undefined) { class TreescopeContainer extends HTMLElement { constructor() { super(); this.attachShadow({mode: \"open\"}); this.defns = {}; this.state = {}; } } customElements.define(\"treescope-container\", TreescopeContainer); } if (customElements.get('treescope-run-here') === undefined) { class RunHere extends HTMLElement { constructor() { super() } connectedCallback() { const run = child => { const fn = new Function(child.textContent); child.textContent = \"\"; fn.call(this); this.remove(); }; const child = this.querySelector(\"script\"); if (child) { run(child); } else { new MutationObserver(()=>{ run(this.querySelector(\"script\")); }).observe(this, {childList: true}); } } } customElements.define(\"treescope-run-here\", RunHere); } })(); </script> <treescope-container class=\"treescope_out_8c86c20d007c47ac956a3a82263458de\" ></treescope-container> <treescope-run-here><script type=\"application/octet-stream\"> const root = ( Array.from(document.getElementsByClassName( \"treescope_out_8c86c20d007c47ac956a3a82263458de\")) .filter((elt) => !elt.dataset.setup) )[0]; root.dataset.setup = 1; const msg = document.createElement(\"span\"); msg.style = \"color: #aaaaaa; font-family: monospace; transition: opacity 0.2s; opacity: 0.0;\"; msg.textContent = \"(Loading...)\"; root.state.loadingMsg = msg; root.shadowRoot.appendChild(msg); root.state.chain = new Promise((resolve, reject) => { const observer = new IntersectionObserver((entries) => { for (const entry of entries) { if (entry.isIntersecting) { resolve(); observer.disconnect(); return; } } }, {rootMargin: \"1000px\"}); window.setTimeout(() => { if (root.loadingMsg) { root.loadingMsg.style.opacity = \"1.0\"; } observer.observe(root); }, 0); }); root.state.deferring = false; const _insertNode = (node) => { for (let oldScript of node.querySelectorAll(\"script\")) { let newScript = document.createElement(\"script\"); newScript.type = oldScript.type; newScript.textContent = oldScript.textContent; oldScript.parentNode.replaceChild(newScript, oldScript); } if (root.state.loadingMsg) { root.state.loadingMsg.remove(); root.state.loadingMsg = null; } root.shadowRoot.appendChild(node); }; root.defns.insertContent = ((contentNode, compressed) => { if (compressed) { root.state.deferring = true; } if (root.state.deferring) { root.state.chain = (async () => { await root.state.chain; if (compressed) { const encoded = contentNode.textContent; const blob = new Blob([ Uint8Array.from(atob(encoded), (m) => m.codePointAt(0)) ]); const reader = blob.stream().pipeThrough( new DecompressionStream(\"deflate\") ).pipeThrough( new TextDecoderStream(\"utf-8\") ).getReader(); const parts = []; while (true) { const step = await reader.read(); if (step.done) { break; } parts.push(step.value); } const tpl = document.createElement('template'); tpl.innerHTML = parts.join(\"\"); _insertNode(tpl.content); } else { _insertNode(contentNode.content); } })(); } else { _insertNode(contentNode.content); } }); </script></treescope-run-here><div style=\"display:none\"> <script type=\"application/octet-stream\" >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</script> <treescope-run-here><script type=\"application/octet-stream\"> const root = ( Array.from(document.getElementsByClassName( \"treescope_out_8c86c20d007c47ac956a3a82263458de\")) .filter((elt) => !elt.dataset['step0']) )[0]; root.dataset['step0'] = 1; root.defns.insertContent( this.parentNode.querySelector('script[type=\"application/octet-stream\"]'), true ); this.parentNode.remove(); </script></treescope-run-here> </div>"
      ],
      "text/plain": [
       "<IPython.core.display.HTML object>"
      ]
     },
     "metadata": {},
     "output_type": "display_data"
    },
    {
     "data": {
      "text/html": [
       "<div style=\"display:none\"> <script type=\"application/octet-stream\" >eNrtGtty2jj0VzTObAMtdjCYe2BmN92d6Usfug/70Ol4ZEnG3gjJK4s0aSf/vkeygRgIIWnabrfOTABb534/4HOaXqFc33A2dWiaZxzfjJGQgjkopVMnliqkLGZKMRr28KjTw8TvtvssGPox7gU4wO24F4+6w7g3cmbneYYFvBp6My+SWssFTwUbC6kbXiw5xRFnoZCUjROcN2YcR4zPqiehlvM5L3DGJGHkktFmE71sos8ow5SmYu5qmY1R2/N7bDFBhoObsHSe6DHyPXvvk5sKyq7heoIymac6lWKMFONYp1dsgm49Ijkoh6NIsSugbC/H6KQ/7OB2ewNA5GLBhA4/JkyE7Br0o4w+mz4rrtj+rbmCsY1SG4CIY3I5QRG8zpVcCuqWB1dYNVw34pJcFreaACUVZaqwkZ9do1zylB6CLBz1EPAt8pKbjCmQ7DJUbCE1CxN5xRTaFnpXTHnJSdIYBr8YpwU95LdHBcWPOA9zoiTngK6lF6cq16FOyeXRVEeB5xu67RHyu31vsJewtf5Bds0dhlphsYqcbebIzxHDOYMwc+VSt1AshXY/2iDcOjNeTUgSQm4QFnIW6zuBbC5NJPdIUoVTltIGUBXhvYbMNTaBFJIk5VQxYWNFaJyCsOYDxKy1wzbcWsnC92i2BfJsob2uJjaKJmiB1RwMUihMMCeNDkmQCxoFJGkeI+tXE61Mg0K0IgGsVHvToFKCrB7gE56gl6jhgzp3UUq6OUCxZrO5tsEG1T0ed8V3lawWc01yddctb39Da27KjbWgqzBNl3mpoM8WoN39illJv0yIB0P8c6UiFv41pe6IingY+NYDil+lv22c/AUt7vysaMS2KyPCcZ5PHdvHbCHTKs3Klr2aACoKQlui0TDo4ck+14FsE6dKuqIlSvOwqK5S2IIKwIU1zlORLTXS0EumjtU/ktfOXiKlqQD1zCJV+W26kYYkYNpBFGvsXrKbDOtk6myJV6nupeNQtTA7x9iqPPxnibnACxZmisXptTPLmPiEU08rxnIiMwZhmIEkObTJGHNuOogHLrETUvH2Vup3K+qZUbpRPT8/Ky12l+9O4a9Gu3MAegdUQldJBebQzjM1fZRxvQruPlOHOegl5s7sxcl1ZzD5VSl803jfbiG/hTot1G2hoIV6LdRvoUELDVto9KGFqA2LVOhup1ngVU3S2nUQMOM4yxl1ZmgFvAO0mtyqgp4aF0VLyDVxiqS44DAITE91kuYeqPxOSv0WorDR9BKZaw8GYZF7CdCB8DSYITEIDQPfPC3sY25PnQbHi4hipIDC2L5WzdV0Nhm3Rhuj0wfxTieoxMAC6gcucv70AtCR8Qt8Xk/hZwfenhAisA48MUBSujc8xHIRGQ5+u90JOqP+YNjt9zvB/83fKX2KtwHrO/raJuETvW1wDzWG5+8DBxY152BonOyNn53C/je+XhVuW8QOVedD3E27hsF8U7oPnjuz53PA3V0X6jHXE3uAigpr9LOKFZcv5npyIIT+Y+lltH1Kglm850qxY9Nvy3at2r6Psu+909zmmya0tUE7s+bjvANi3jvy7abROnUeN9jsZtjqjaZXs/NHfCcXd9u03RmwICBBEJE4YrTNWGfYjoJg5A/p5ju5r7ID+JNvW+rrkf8HHPkRpIbJDZMcJjtMepj8MAliMsSkCBpB+pgU8usl4OdeAkbBsNupl4B6CaiXgHoJqJeA2r4/0hLwZaPO860F/Q4sAlE/ID2/Hwz80ahLAko7MabDCHeGg3otqNeC7/5LgNdC+//XeRFziesl4KdbAnrD7igY1EtAvQTUS0C9BNRLQG3fH+uXgEcMNg+M/OsR0lVL4SZMmad5CMizqpY4g+mVWHOeSaKZdmHWYnjhzIgUOUDZEvGG5miK3jvHP8rbQs7xvzHcBX5w8/gwKSSjkpg4Abl2w3aCSulB/RKoBPf+WTJ18yfjjGipGs5myA7NsbNGjRWemy5QoC7NR4+AZTR7XV7+UULssrvgsFUB4oqGB1Zmgl6YYtxYAXnEQFl5tVraR9lgBUMNzjRKAbk9gbfzjQM8zsRcJ3D31SvzqJeBKw7vcoLL3zkzH3+7eQPMVtjv0w/AwODkcqkIew274L1GOTG7oINeoS304tKD+ZFDWvyV6qSxplY8ClvytpoCwubUPO97ZT1zuzZThVDFdk0T1DZMIZD3xPC/twRXsw==</script> <treescope-run-here><script type=\"application/octet-stream\"> const root = ( Array.from(document.getElementsByClassName( \"treescope_out_8c86c20d007c47ac956a3a82263458de\")) .filter((elt) => !elt.dataset['step1']) )[0]; root.dataset['step1'] = 1; root.defns.insertContent( this.parentNode.querySelector('script[type=\"application/octet-stream\"]'), true ); this.parentNode.remove(); </script></treescope-run-here> </div>"
      ],
      "text/plain": [
       "<IPython.core.display.HTML object>"
      ]
     },
     "metadata": {},
     "output_type": "display_data"
    }
   ],
   "source": [
    "selection = pz.select(my_nested_object).at_keypaths([\n",
    "    (jax.tree_util.DictKey(key='c'), jax.tree_util.SequenceKey(idx=2), jax.tree_util.DictKey(key='value')),\n",
    "    (jax.tree_util.DictKey(key='c'), jax.tree_util.SequenceKey(idx=0)),\n",
    "])\n",
    "\n",
    "print(\"Original:\")\n",
    "selection.show_selection()\n",
    "print(\"Inverted:\")\n",
    "selection.invert().show_selection()"
   ]
  },
  {
   "cell_type": "markdown",
   "metadata": {
    "id": "-6RVyMq6NY6r"
   },
   "source": [
    "### Building more complex selections\n",
    "For highly dynamic selections, you can drop down to lower-level manipulation.\n",
    "\n",
    "Selections provide a `.refine` method, which runs a function on each of the currently selected values, takes the `Selection` returned by that function, and then takes the disjoint union of them. This can be useful for dynamic input-dependent branching:"
   ]
  },
  {
   "cell_type": "code",
   "execution_count": 34,
   "metadata": {
    "execution": {
     "iopub.execute_input": "2024-07-16T16:57:40.974789Z",
     "iopub.status.busy": "2024-07-16T16:57:40.974537Z",
     "iopub.status.idle": "2024-07-16T16:57:40.976731Z",
     "shell.execute_reply": "2024-07-16T16:57:40.976531Z"
    },
    "id": "pMKL39k7Rdty"
   },
   "outputs": [],
   "source": [
    "# Select field \"a\" of Foo and field \"b\" of Bar\n",
    "\n",
    "@pz.pytree_dataclass\n",
    "class Foo(pz.Struct):\n",
    "  a: typing.Any\n",
    "  b: typing.Any\n",
    "\n",
    "@pz.pytree_dataclass\n",
    "class Bar(pz.Struct):\n",
    "  a: typing.Any\n",
    "  b: typing.Any\n",
    "\n",
    "def refine_fn(value):\n",
    "  if isinstance(value, Foo):\n",
    "    return value.select().at(lambda x: x.a)\n",
    "  else:\n",
    "    return value.select().at(lambda x: x.b)"
   ]
  },
  {
   "cell_type": "code",
   "execution_count": 35,
   "metadata": {
    "execution": {
     "iopub.execute_input": "2024-07-16T16:57:40.988162Z",
     "iopub.status.busy": "2024-07-16T16:57:40.987914Z",
     "iopub.status.idle": "2024-07-16T16:57:40.998828Z",
     "shell.execute_reply": "2024-07-16T16:57:40.998604Z"
    },
    "id": "Hvj4K7tVeag7"
   },
   "outputs": [
    {
     "data": {
      "text/html": [
       "<script> (()=>{ if (customElements.get('treescope-container') === undefined) { class TreescopeContainer extends HTMLElement { constructor() { super(); this.attachShadow({mode: \"open\"}); this.defns = {}; this.state = {}; } } customElements.define(\"treescope-container\", TreescopeContainer); } if (customElements.get('treescope-run-here') === undefined) { class RunHere extends HTMLElement { constructor() { super() } connectedCallback() { const run = child => { const fn = new Function(child.textContent); child.textContent = \"\"; fn.call(this); this.remove(); }; const child = this.querySelector(\"script\"); if (child) { run(child); } else { new MutationObserver(()=>{ run(this.querySelector(\"script\")); }).observe(this, {childList: true}); } } } customElements.define(\"treescope-run-here\", RunHere); } })(); </script> <treescope-container class=\"treescope_out_3a06942b94c046159c4abaaaadb5f7ea\" ></treescope-container> <treescope-run-here><script type=\"application/octet-stream\"> const root = ( Array.from(document.getElementsByClassName( \"treescope_out_3a06942b94c046159c4abaaaadb5f7ea\")) .filter((elt) => !elt.dataset.setup) )[0]; root.dataset.setup = 1; const msg = document.createElement(\"span\"); msg.style = \"color: #aaaaaa; font-family: monospace; transition: opacity 0.2s; opacity: 0.0;\"; msg.textContent = \"(Loading...)\"; root.state.loadingMsg = msg; root.shadowRoot.appendChild(msg); root.state.chain = new Promise((resolve, reject) => { const observer = new IntersectionObserver((entries) => { for (const entry of entries) { if (entry.isIntersecting) { resolve(); observer.disconnect(); return; } } }, {rootMargin: \"1000px\"}); window.setTimeout(() => { if (root.loadingMsg) { root.loadingMsg.style.opacity = \"1.0\"; } observer.observe(root); }, 0); }); root.state.deferring = false; const _insertNode = (node) => { for (let oldScript of node.querySelectorAll(\"script\")) { let newScript = document.createElement(\"script\"); newScript.type = oldScript.type; newScript.textContent = oldScript.textContent; oldScript.parentNode.replaceChild(newScript, oldScript); } if (root.state.loadingMsg) { root.state.loadingMsg.remove(); root.state.loadingMsg = null; } root.shadowRoot.appendChild(node); }; root.defns.insertContent = ((contentNode, compressed) => { if (compressed) { root.state.deferring = true; } if (root.state.deferring) { root.state.chain = (async () => { await root.state.chain; if (compressed) { const encoded = contentNode.textContent; const blob = new Blob([ Uint8Array.from(atob(encoded), (m) => m.codePointAt(0)) ]); const reader = blob.stream().pipeThrough( new DecompressionStream(\"deflate\") ).pipeThrough( new TextDecoderStream(\"utf-8\") ).getReader(); const parts = []; while (true) { const step = await reader.read(); if (step.done) { break; } parts.push(step.value); } const tpl = document.createElement('template'); tpl.innerHTML = parts.join(\"\"); _insertNode(tpl.content); } else { _insertNode(contentNode.content); } })(); } else { _insertNode(contentNode.content); } }); </script></treescope-run-here><div style=\"display:none\"> <script type=\"application/octet-stream\" >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</script> <treescope-run-here><script type=\"application/octet-stream\"> const root = ( Array.from(document.getElementsByClassName( \"treescope_out_3a06942b94c046159c4abaaaadb5f7ea\")) .filter((elt) => !elt.dataset['step0']) )[0]; root.dataset['step0'] = 1; root.defns.insertContent( this.parentNode.querySelector('script[type=\"application/octet-stream\"]'), true ); this.parentNode.remove(); </script></treescope-run-here> </div>"
      ],
      "text/plain": [
       "<IPython.core.display.HTML object>"
      ]
     },
     "metadata": {},
     "output_type": "display_data"
    },
    {
     "data": {
      "text/html": [
       "<treescope-run-here><script type=\"application/octet-stream\"> const root = ( Array.from(document.getElementsByClassName( \"treescope_out_3a06942b94c046159c4abaaaadb5f7ea\")) .filter((elt) => !elt.dataset.stolen) )[0]; root.dataset.stolen = 1; this.parentNode.replaceChild(root, this); </script></treescope-run-here>"
      ],
      "text/plain": [
       "Selection(\n",
       "  selected_by_path=OrderedDict({(SequenceKey(idx=0), GetAttrKey(name='a')): 1, (SequenceKey(idx=1), GetAttrKey(name='b')): 4, (SequenceKey(idx=2), GetAttrKey(name='a')): 5, (SequenceKey(idx=3), GetAttrKey(name='b')): 8}),\n",
       "  remainder=[\n",
       "    Foo(\n",
       "      a=SelectionHole(path=(SequenceKey(idx=0), GetAttrKey(name='a'))),\n",
       "      b=2,\n",
       "    ),\n",
       "    Bar(\n",
       "      a=3,\n",
       "      b=SelectionHole(path=(SequenceKey(idx=1), GetAttrKey(name='b'))),\n",
       "    ),\n",
       "    Foo(\n",
       "      a=SelectionHole(path=(SequenceKey(idx=2), GetAttrKey(name='a'))),\n",
       "      b=6,\n",
       "    ),\n",
       "    Bar(a=7, b=SelectionHole(path=(SequenceKey(idx=3), GetAttrKey(name='b')))),\n",
       "    None,\n",
       "  ],\n",
       ")"
      ]
     },
     "execution_count": 35,
     "metadata": {},
     "output_type": "execute_result"
    }
   ],
   "source": [
    "pz.select([\n",
    "    Foo(1, 2),\n",
    "    Bar(3, 4),\n",
    "    Foo(5, 6),\n",
    "    Bar(7, 8),\n",
    "    None,\n",
    "]).at_instances_of((Foo, Bar)).refine(refine_fn)"
   ]
  },
  {
   "cell_type": "markdown",
   "metadata": {
    "id": "dUGwFROiBdhV"
   },
   "source": [
    "## Inspecting selections and retrieving values\n",
    "\n",
    "Once you have a selection, there are various ways to inspect them and their contents."
   ]
  },
  {
   "cell_type": "markdown",
   "metadata": {
    "id": "UV1JQsx7nF6f"
   },
   "source": [
    "### Looking at selections\n",
    "You can view a pretty-printed version of the selection using `.show_selection()` (the same pretty-printing we've been using throughout this notebook):"
   ]
  },
  {
   "cell_type": "code",
   "execution_count": 36,
   "metadata": {
    "execution": {
     "iopub.execute_input": "2024-07-16T16:57:41.006777Z",
     "iopub.status.busy": "2024-07-16T16:57:41.006317Z",
     "iopub.status.idle": "2024-07-16T16:57:41.013933Z",
     "shell.execute_reply": "2024-07-16T16:57:41.013618Z"
    },
    "id": "-W2_LNVonip5"
   },
   "outputs": [
    {
     "data": {
      "text/html": [
       "<script> (()=>{ if (customElements.get('treescope-container') === undefined) { class TreescopeContainer extends HTMLElement { constructor() { super(); this.attachShadow({mode: \"open\"}); this.defns = {}; this.state = {}; } } customElements.define(\"treescope-container\", TreescopeContainer); } if (customElements.get('treescope-run-here') === undefined) { class RunHere extends HTMLElement { constructor() { super() } connectedCallback() { const run = child => { const fn = new Function(child.textContent); child.textContent = \"\"; fn.call(this); this.remove(); }; const child = this.querySelector(\"script\"); if (child) { run(child); } else { new MutationObserver(()=>{ run(this.querySelector(\"script\")); }).observe(this, {childList: true}); } } } customElements.define(\"treescope-run-here\", RunHere); } })(); </script> <treescope-container class=\"treescope_out_315ea8e35f8b47b98bd255d8eef2776c\" ></treescope-container> <treescope-run-here><script type=\"application/octet-stream\"> const root = ( Array.from(document.getElementsByClassName( \"treescope_out_315ea8e35f8b47b98bd255d8eef2776c\")) .filter((elt) => !elt.dataset.setup) )[0]; root.dataset.setup = 1; const msg = document.createElement(\"span\"); msg.style = \"color: #aaaaaa; font-family: monospace; transition: opacity 0.2s; opacity: 0.0;\"; msg.textContent = \"(Loading...)\"; root.state.loadingMsg = msg; root.shadowRoot.appendChild(msg); root.state.chain = new Promise((resolve, reject) => { const observer = new IntersectionObserver((entries) => { for (const entry of entries) { if (entry.isIntersecting) { resolve(); observer.disconnect(); return; } } }, {rootMargin: \"1000px\"}); window.setTimeout(() => { if (root.loadingMsg) { root.loadingMsg.style.opacity = \"1.0\"; } observer.observe(root); }, 0); }); root.state.deferring = false; const _insertNode = (node) => { for (let oldScript of node.querySelectorAll(\"script\")) { let newScript = document.createElement(\"script\"); newScript.type = oldScript.type; newScript.textContent = oldScript.textContent; oldScript.parentNode.replaceChild(newScript, oldScript); } if (root.state.loadingMsg) { root.state.loadingMsg.remove(); root.state.loadingMsg = null; } root.shadowRoot.appendChild(node); }; root.defns.insertContent = ((contentNode, compressed) => { if (compressed) { root.state.deferring = true; } if (root.state.deferring) { root.state.chain = (async () => { await root.state.chain; if (compressed) { const encoded = contentNode.textContent; const blob = new Blob([ Uint8Array.from(atob(encoded), (m) => m.codePointAt(0)) ]); const reader = blob.stream().pipeThrough( new DecompressionStream(\"deflate\") ).pipeThrough( new TextDecoderStream(\"utf-8\") ).getReader(); const parts = []; while (true) { const step = await reader.read(); if (step.done) { break; } parts.push(step.value); } const tpl = document.createElement('template'); tpl.innerHTML = parts.join(\"\"); _insertNode(tpl.content); } else { _insertNode(contentNode.content); } })(); } else { _insertNode(contentNode.content); } }); </script></treescope-run-here><div style=\"display:none\"> <script type=\"application/octet-stream\" >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</script> <treescope-run-here><script type=\"application/octet-stream\"> const root = ( Array.from(document.getElementsByClassName( \"treescope_out_315ea8e35f8b47b98bd255d8eef2776c\")) .filter((elt) => !elt.dataset['step0']) )[0]; root.dataset['step0'] = 1; root.defns.insertContent( this.parentNode.querySelector('script[type=\"application/octet-stream\"]'), true ); this.parentNode.remove(); </script></treescope-run-here> </div>"
      ],
      "text/plain": [
       "<IPython.core.display.HTML object>"
      ]
     },
     "metadata": {},
     "output_type": "display_data"
    },
    {
     "data": {
      "text/html": [
       "<div style=\"display:none\"> <script type=\"application/octet-stream\" >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</script> <treescope-run-here><script type=\"application/octet-stream\"> const root = ( Array.from(document.getElementsByClassName( \"treescope_out_315ea8e35f8b47b98bd255d8eef2776c\")) .filter((elt) => !elt.dataset['step1']) )[0]; root.dataset['step1'] = 1; root.defns.insertContent( this.parentNode.querySelector('script[type=\"application/octet-stream\"]'), true ); this.parentNode.remove(); </script></treescope-run-here> </div>"
      ],
      "text/plain": [
       "<IPython.core.display.HTML object>"
      ]
     },
     "metadata": {},
     "output_type": "display_data"
    }
   ],
   "source": [
    "pz.select(my_nested_object).at_children().show_selection()"
   ]
  },
  {
   "cell_type": "markdown",
   "metadata": {
    "id": "chGlzxpEnQGr"
   },
   "source": [
    "You can also view the selected values without the selection annotations using `.show_value()`. This is similar to just rendering the root object with treescope, but it automatically expands so that the nodes you selected are visible, and collapses all other nodes."
   ]
  },
  {
   "cell_type": "code",
   "execution_count": 37,
   "metadata": {
    "execution": {
     "iopub.execute_input": "2024-07-16T16:57:41.037055Z",
     "iopub.status.busy": "2024-07-16T16:57:41.026620Z",
     "iopub.status.idle": "2024-07-16T16:57:41.153764Z",
     "shell.execute_reply": "2024-07-16T16:57:41.153558Z"
    },
    "id": "Ei6MgFeAoQ0Z"
   },
   "outputs": [
    {
     "data": {
      "text/html": [
       "<script> (()=>{ if (customElements.get('treescope-container') === undefined) { class TreescopeContainer extends HTMLElement { constructor() { super(); this.attachShadow({mode: \"open\"}); this.defns = {}; this.state = {}; } } customElements.define(\"treescope-container\", TreescopeContainer); } if (customElements.get('treescope-run-here') === undefined) { class RunHere extends HTMLElement { constructor() { super() } connectedCallback() { const run = child => { const fn = new Function(child.textContent); child.textContent = \"\"; fn.call(this); this.remove(); }; const child = this.querySelector(\"script\"); if (child) { run(child); } else { new MutationObserver(()=>{ run(this.querySelector(\"script\")); }).observe(this, {childList: true}); } } } customElements.define(\"treescope-run-here\", RunHere); } })(); </script> <treescope-container class=\"treescope_out_c668e5f64901420cbad076f861f03c51\" ></treescope-container> <treescope-run-here><script type=\"application/octet-stream\"> const root = ( Array.from(document.getElementsByClassName( \"treescope_out_c668e5f64901420cbad076f861f03c51\")) .filter((elt) => !elt.dataset.setup) )[0]; root.dataset.setup = 1; const msg = document.createElement(\"span\"); msg.style = \"color: #aaaaaa; font-family: monospace; transition: opacity 0.2s; opacity: 0.0;\"; msg.textContent = \"(Loading...)\"; root.state.loadingMsg = msg; root.shadowRoot.appendChild(msg); root.state.chain = new Promise((resolve, reject) => { const observer = new IntersectionObserver((entries) => { for (const entry of entries) { if (entry.isIntersecting) { resolve(); observer.disconnect(); return; } } }, {rootMargin: \"1000px\"}); window.setTimeout(() => { if (root.loadingMsg) { root.loadingMsg.style.opacity = \"1.0\"; } observer.observe(root); }, 0); }); root.state.deferring = false; const _insertNode = (node) => { for (let oldScript of node.querySelectorAll(\"script\")) { let newScript = document.createElement(\"script\"); newScript.type = oldScript.type; newScript.textContent = oldScript.textContent; oldScript.parentNode.replaceChild(newScript, oldScript); } if (root.state.loadingMsg) { root.state.loadingMsg.remove(); root.state.loadingMsg = null; } root.shadowRoot.appendChild(node); }; root.defns.insertContent = ((contentNode, compressed) => { if (compressed) { root.state.deferring = true; } if (root.state.deferring) { root.state.chain = (async () => { await root.state.chain; if (compressed) { const encoded = contentNode.textContent; const blob = new Blob([ Uint8Array.from(atob(encoded), (m) => m.codePointAt(0)) ]); const reader = blob.stream().pipeThrough( new DecompressionStream(\"deflate\") ).pipeThrough( new TextDecoderStream(\"utf-8\") ).getReader(); const parts = []; while (true) { const step = await reader.read(); if (step.done) { break; } parts.push(step.value); } const tpl = document.createElement('template'); tpl.innerHTML = parts.join(\"\"); _insertNode(tpl.content); } else { _insertNode(contentNode.content); } })(); } else { _insertNode(contentNode.content); } }); </script></treescope-run-here><div style=\"display:none\"> <script type=\"application/octet-stream\" >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</script> <treescope-run-here><script type=\"application/octet-stream\"> const root = ( Array.from(document.getElementsByClassName( \"treescope_out_c668e5f64901420cbad076f861f03c51\")) .filter((elt) => !elt.dataset['step0']) )[0]; root.dataset['step0'] = 1; root.defns.insertContent( this.parentNode.querySelector('script[type=\"application/octet-stream\"]'), true ); this.parentNode.remove(); </script></treescope-run-here> </div>"
      ],
      "text/plain": [
       "<IPython.core.display.HTML object>"
      ]
     },
     "metadata": {},
     "output_type": "display_data"
    }
   ],
   "source": [
    "stuff = (\n",
    "    [[[\"haystack\"] * 5] * 5] * 5\n",
    "    + [[[\"haystack\"] * 5] * 5 + [[\"haystack\", \"needle\", \"haystack\", \"haystack\", \"haystack\"]]]\n",
    "    + [[[\"haystack\"] * 5] * 5] * 5\n",
    ")\n",
    "\n",
    "pz.select(stuff).at_equal_to(\"needle\").show_value()"
   ]
  },
  {
   "cell_type": "markdown",
   "metadata": {
    "id": "nPZUOuqilcoc"
   },
   "source": [
    "### Counting selected objects\n",
    "Selections have `count` and `is_empty` methods for inspecting their size:"
   ]
  },
  {
   "cell_type": "code",
   "execution_count": 38,
   "metadata": {
    "execution": {
     "iopub.execute_input": "2024-07-16T16:57:41.158466Z",
     "iopub.status.busy": "2024-07-16T16:57:41.158235Z",
     "iopub.status.idle": "2024-07-16T16:57:41.162052Z",
     "shell.execute_reply": "2024-07-16T16:57:41.161870Z"
    },
    "id": "TGu1D-n_lumY"
   },
   "outputs": [
    {
     "data": {
      "text/html": [
       "<script> (()=>{ if (customElements.get('treescope-container') === undefined) { class TreescopeContainer extends HTMLElement { constructor() { super(); this.attachShadow({mode: \"open\"}); this.defns = {}; this.state = {}; } } customElements.define(\"treescope-container\", TreescopeContainer); } if (customElements.get('treescope-run-here') === undefined) { class RunHere extends HTMLElement { constructor() { super() } connectedCallback() { const run = child => { const fn = new Function(child.textContent); child.textContent = \"\"; fn.call(this); this.remove(); }; const child = this.querySelector(\"script\"); if (child) { run(child); } else { new MutationObserver(()=>{ run(this.querySelector(\"script\")); }).observe(this, {childList: true}); } } } customElements.define(\"treescope-run-here\", RunHere); } })(); </script> <treescope-container class=\"treescope_out_5bd0fbe80d7945518273953105d5410b\" ></treescope-container> <treescope-run-here><script type=\"application/octet-stream\"> const root = ( Array.from(document.getElementsByClassName( \"treescope_out_5bd0fbe80d7945518273953105d5410b\")) .filter((elt) => !elt.dataset.setup) )[0]; root.dataset.setup = 1; const msg = document.createElement(\"span\"); msg.style = \"color: #aaaaaa; font-family: monospace; transition: opacity 0.2s; opacity: 0.0;\"; msg.textContent = \"(Loading...)\"; root.state.loadingMsg = msg; root.shadowRoot.appendChild(msg); root.state.chain = new Promise((resolve, reject) => { const observer = new IntersectionObserver((entries) => { for (const entry of entries) { if (entry.isIntersecting) { resolve(); observer.disconnect(); return; } } }, {rootMargin: \"1000px\"}); window.setTimeout(() => { if (root.loadingMsg) { root.loadingMsg.style.opacity = \"1.0\"; } observer.observe(root); }, 0); }); root.state.deferring = false; const _insertNode = (node) => { for (let oldScript of node.querySelectorAll(\"script\")) { let newScript = document.createElement(\"script\"); newScript.type = oldScript.type; newScript.textContent = oldScript.textContent; oldScript.parentNode.replaceChild(newScript, oldScript); } if (root.state.loadingMsg) { root.state.loadingMsg.remove(); root.state.loadingMsg = null; } root.shadowRoot.appendChild(node); }; root.defns.insertContent = ((contentNode, compressed) => { if (compressed) { root.state.deferring = true; } if (root.state.deferring) { root.state.chain = (async () => { await root.state.chain; if (compressed) { const encoded = contentNode.textContent; const blob = new Blob([ Uint8Array.from(atob(encoded), (m) => m.codePointAt(0)) ]); const reader = blob.stream().pipeThrough( new DecompressionStream(\"deflate\") ).pipeThrough( new TextDecoderStream(\"utf-8\") ).getReader(); const parts = []; while (true) { const step = await reader.read(); if (step.done) { break; } parts.push(step.value); } const tpl = document.createElement('template'); tpl.innerHTML = parts.join(\"\"); _insertNode(tpl.content); } else { _insertNode(contentNode.content); } })(); } else { _insertNode(contentNode.content); } }); </script></treescope-run-here><div style=\"display:none\"> <script type=\"application/octet-stream\" >eNqNVE1v2zAM/SuCdqgNzG7aocOWxAZ6GXYYdtgOOxRDoNi0LUSmNIlOlg3976PsJOtHVgw5xCKpx/cokstAewNlTh4gVNbByltL4rdwNmjSFufCg1Gkt7AQjUXKGtVrs5+L3qINTlVs33WaIBsPc+E8W4wOlI3QGe0dW9Eim9eq2rTeDlhnlTXWz6erC3E4rQ0HMJ6uqZuLRhOHIQHSQjhV1xrbzEBDc3FddTEJQtaBbju2XOU3EQZJaeZ8unb4yLY66LU2mpi5GsieYjON5DUGXWVB/4LJe6B7v7ycyrM8lSfzA3JOz7ZQee1IRH3FhXLO6ErFil3aiiCq96D6izJJ0qLkgnK+QKKGBoMoBHU65C3QF672Z1tDkuadDZSPfpYGJFYOMEq+rSJqvHT3/Zzno8LaALtxMGYxZciZ5ldrka3JzvpNKh5ysN/YFF2PzKSraHTgG+t7hRXkaHdJOr4vJ0ieeUQ2XVqKN9cp4+hGJE9Y5wawpU4UhZjFkBepe6DBI9ddgAnwl1g3YGT2FDp0uqHIbwyIH/f8+0eGhLsKa7vLPfwYINAt6n58rg9e9ZBMNUkjxuJZIjeEbirj4ozGY4pikvGCyv/nEFlMD0m2bc00latxcrhbXcSKFjD0WsCWG/zwkpHdeM43sI9Fl15GQofgvDIqhE88nAfcRJ4wVz23oTwmv0+5ntz+Y4+Xy8tzA1DrrRgBC/l4fUhBas1K4WchZ1JYZDIsGznupbY/rzWJd44qJY/dtLDGjbHCoV+DHztlXCCvZu/fXd28fTi6vJbwSLPjWfW8NjYrUp5pSFErUhnTc4q6QsrH4Q9zyHLGkOwsT3+sv/wD8y3bWQ==</script> <treescope-run-here><script type=\"application/octet-stream\"> const root = ( Array.from(document.getElementsByClassName( \"treescope_out_5bd0fbe80d7945518273953105d5410b\")) .filter((elt) => !elt.dataset['step0']) )[0]; root.dataset['step0'] = 1; root.defns.insertContent( this.parentNode.querySelector('script[type=\"application/octet-stream\"]'), true ); this.parentNode.remove(); </script></treescope-run-here> </div>"
      ],
      "text/plain": [
       "<IPython.core.display.HTML object>"
      ]
     },
     "metadata": {},
     "output_type": "display_data"
    },
    {
     "data": {
      "text/html": [
       "<treescope-run-here><script type=\"application/octet-stream\"> const root = ( Array.from(document.getElementsByClassName( \"treescope_out_5bd0fbe80d7945518273953105d5410b\")) .filter((elt) => !elt.dataset.stolen) )[0]; root.dataset.stolen = 1; this.parentNode.replaceChild(root, this); </script></treescope-run-here>"
      ],
      "text/plain": [
       "0"
      ]
     },
     "execution_count": 38,
     "metadata": {},
     "output_type": "execute_result"
    }
   ],
   "source": [
    "pz.select([1, 2]).at_instances_of(str).count()"
   ]
  },
  {
   "cell_type": "code",
   "execution_count": 39,
   "metadata": {
    "execution": {
     "iopub.execute_input": "2024-07-16T16:57:41.166412Z",
     "iopub.status.busy": "2024-07-16T16:57:41.166168Z",
     "iopub.status.idle": "2024-07-16T16:57:41.170098Z",
     "shell.execute_reply": "2024-07-16T16:57:41.169897Z"
    },
    "id": "omvIWqsflyWj"
   },
   "outputs": [
    {
     "data": {
      "text/html": [
       "<script> (()=>{ if (customElements.get('treescope-container') === undefined) { class TreescopeContainer extends HTMLElement { constructor() { super(); this.attachShadow({mode: \"open\"}); this.defns = {}; this.state = {}; } } customElements.define(\"treescope-container\", TreescopeContainer); } if (customElements.get('treescope-run-here') === undefined) { class RunHere extends HTMLElement { constructor() { super() } connectedCallback() { const run = child => { const fn = new Function(child.textContent); child.textContent = \"\"; fn.call(this); this.remove(); }; const child = this.querySelector(\"script\"); if (child) { run(child); } else { new MutationObserver(()=>{ run(this.querySelector(\"script\")); }).observe(this, {childList: true}); } } } customElements.define(\"treescope-run-here\", RunHere); } })(); </script> <treescope-container class=\"treescope_out_7928a8822be34d3fb5f99afa18e2d879\" ></treescope-container> <treescope-run-here><script type=\"application/octet-stream\"> const root = ( Array.from(document.getElementsByClassName( \"treescope_out_7928a8822be34d3fb5f99afa18e2d879\")) .filter((elt) => !elt.dataset.setup) )[0]; root.dataset.setup = 1; const msg = document.createElement(\"span\"); msg.style = \"color: #aaaaaa; font-family: monospace; transition: opacity 0.2s; opacity: 0.0;\"; msg.textContent = \"(Loading...)\"; root.state.loadingMsg = msg; root.shadowRoot.appendChild(msg); root.state.chain = new Promise((resolve, reject) => { const observer = new IntersectionObserver((entries) => { for (const entry of entries) { if (entry.isIntersecting) { resolve(); observer.disconnect(); return; } } }, {rootMargin: \"1000px\"}); window.setTimeout(() => { if (root.loadingMsg) { root.loadingMsg.style.opacity = \"1.0\"; } observer.observe(root); }, 0); }); root.state.deferring = false; const _insertNode = (node) => { for (let oldScript of node.querySelectorAll(\"script\")) { let newScript = document.createElement(\"script\"); newScript.type = oldScript.type; newScript.textContent = oldScript.textContent; oldScript.parentNode.replaceChild(newScript, oldScript); } if (root.state.loadingMsg) { root.state.loadingMsg.remove(); root.state.loadingMsg = null; } root.shadowRoot.appendChild(node); }; root.defns.insertContent = ((contentNode, compressed) => { if (compressed) { root.state.deferring = true; } if (root.state.deferring) { root.state.chain = (async () => { await root.state.chain; if (compressed) { const encoded = contentNode.textContent; const blob = new Blob([ Uint8Array.from(atob(encoded), (m) => m.codePointAt(0)) ]); const reader = blob.stream().pipeThrough( new DecompressionStream(\"deflate\") ).pipeThrough( new TextDecoderStream(\"utf-8\") ).getReader(); const parts = []; while (true) { const step = await reader.read(); if (step.done) { break; } parts.push(step.value); } const tpl = document.createElement('template'); tpl.innerHTML = parts.join(\"\"); _insertNode(tpl.content); } else { _insertNode(contentNode.content); } })(); } else { _insertNode(contentNode.content); } }); </script></treescope-run-here><div style=\"display:none\"> <script type=\"application/octet-stream\" >eNqNVE2P0zAQ/StWOGwi4ewHWgRtE2kviAPiAEgcEKrcZJJYdcbGnrQUtP+dcdKW7W5ZoR4az4zfvDeemUWgnYEyJw8QKutg6a0l8Vs4GzRpizPhwSjSG5iLxiLJRvXa7Gait2iDUxXbt50mkONhJpxni9GB5AgtaefYihbZvFLVuvV2wFpW1lg/m67Oxf60MhzAeLqmbiYaTRyGBEhz4VRda2ylgYZm4qbqYhIE2YFuO7Zc57cRBklp5ny8tv+QGx30ShtNzFwNZI+xUiN5jUFXMuhfMHn3dO8Xl1N5FsfySD8g5/RsC5XXjkTUV1wo54yuVKzYpa0IonoPqr8o0zQrSi4o5wskamgwiEJQp0PeAn3ian+0NaRZ3tlA+ehnaUBi6QCj5LsqosZL376f87xXWBtgNw7GzKcMOdP8bC2yNd1av87EQw72K5ui68RMuopGB76xvldYQY52m2bj+3KC9IlHyOnSQry6yRhHNyJ9xDo3gC11oijEVQx5lroHGjxy3QWYAH+JdQNGZo+hQ6cbivzGgPhxz79/ZEi5q7C229zDjwEC3aHux+d651UP6VSTLGLMnyRyQ+imMs7PaDykKCYZz6j8fw6RxfSQZNvWTFO5HCeHu9VFrGgBQy8FbLjB9y8Z2Y3nfA27WPTEJ5HQPjivjArhAw/nHjdNjpjLntswOSS/z7ie3P5jj5eLy3MDUOuNGAGL5HR9JILUipXCzyK5SoRFJsOykeOea/vzWtN456Ay4bGbFta4MZY49CvwY6eMC+TF1ds317evH44uryU80Ox4Vj2vjfWSlGcaiagVKcn0nKKuSJLT8Ic5kvKLH4BR2V8e/7gE5R+RdNzJ</script> <treescope-run-here><script type=\"application/octet-stream\"> const root = ( Array.from(document.getElementsByClassName( \"treescope_out_7928a8822be34d3fb5f99afa18e2d879\")) .filter((elt) => !elt.dataset['step0']) )[0]; root.dataset['step0'] = 1; root.defns.insertContent( this.parentNode.querySelector('script[type=\"application/octet-stream\"]'), true ); this.parentNode.remove(); </script></treescope-run-here> </div>"
      ],
      "text/plain": [
       "<IPython.core.display.HTML object>"
      ]
     },
     "metadata": {},
     "output_type": "display_data"
    },
    {
     "data": {
      "text/html": [
       "<treescope-run-here><script type=\"application/octet-stream\"> const root = ( Array.from(document.getElementsByClassName( \"treescope_out_7928a8822be34d3fb5f99afa18e2d879\")) .filter((elt) => !elt.dataset.stolen) )[0]; root.dataset.stolen = 1; this.parentNode.replaceChild(root, this); </script></treescope-run-here>"
      ],
      "text/plain": [
       "True"
      ]
     },
     "execution_count": 39,
     "metadata": {},
     "output_type": "execute_result"
    }
   ],
   "source": [
    "pz.select([1, 2]).at_instances_of(str).is_empty()"
   ]
  },
  {
   "cell_type": "code",
   "execution_count": 40,
   "metadata": {
    "execution": {
     "iopub.execute_input": "2024-07-16T16:57:41.174933Z",
     "iopub.status.busy": "2024-07-16T16:57:41.174633Z",
     "iopub.status.idle": "2024-07-16T16:57:41.178513Z",
     "shell.execute_reply": "2024-07-16T16:57:41.178338Z"
    },
    "id": "f7aWTHZql0DV"
   },
   "outputs": [
    {
     "data": {
      "text/html": [
       "<script> (()=>{ if (customElements.get('treescope-container') === undefined) { class TreescopeContainer extends HTMLElement { constructor() { super(); this.attachShadow({mode: \"open\"}); this.defns = {}; this.state = {}; } } customElements.define(\"treescope-container\", TreescopeContainer); } if (customElements.get('treescope-run-here') === undefined) { class RunHere extends HTMLElement { constructor() { super() } connectedCallback() { const run = child => { const fn = new Function(child.textContent); child.textContent = \"\"; fn.call(this); this.remove(); }; const child = this.querySelector(\"script\"); if (child) { run(child); } else { new MutationObserver(()=>{ run(this.querySelector(\"script\")); }).observe(this, {childList: true}); } } } customElements.define(\"treescope-run-here\", RunHere); } })(); </script> <treescope-container class=\"treescope_out_44e5f754eb1448408115cd68f19a0be3\" ></treescope-container> <treescope-run-here><script type=\"application/octet-stream\"> const root = ( Array.from(document.getElementsByClassName( \"treescope_out_44e5f754eb1448408115cd68f19a0be3\")) .filter((elt) => !elt.dataset.setup) )[0]; root.dataset.setup = 1; const msg = document.createElement(\"span\"); msg.style = \"color: #aaaaaa; font-family: monospace; transition: opacity 0.2s; opacity: 0.0;\"; msg.textContent = \"(Loading...)\"; root.state.loadingMsg = msg; root.shadowRoot.appendChild(msg); root.state.chain = new Promise((resolve, reject) => { const observer = new IntersectionObserver((entries) => { for (const entry of entries) { if (entry.isIntersecting) { resolve(); observer.disconnect(); return; } } }, {rootMargin: \"1000px\"}); window.setTimeout(() => { if (root.loadingMsg) { root.loadingMsg.style.opacity = \"1.0\"; } observer.observe(root); }, 0); }); root.state.deferring = false; const _insertNode = (node) => { for (let oldScript of node.querySelectorAll(\"script\")) { let newScript = document.createElement(\"script\"); newScript.type = oldScript.type; newScript.textContent = oldScript.textContent; oldScript.parentNode.replaceChild(newScript, oldScript); } if (root.state.loadingMsg) { root.state.loadingMsg.remove(); root.state.loadingMsg = null; } root.shadowRoot.appendChild(node); }; root.defns.insertContent = ((contentNode, compressed) => { if (compressed) { root.state.deferring = true; } if (root.state.deferring) { root.state.chain = (async () => { await root.state.chain; if (compressed) { const encoded = contentNode.textContent; const blob = new Blob([ Uint8Array.from(atob(encoded), (m) => m.codePointAt(0)) ]); const reader = blob.stream().pipeThrough( new DecompressionStream(\"deflate\") ).pipeThrough( new TextDecoderStream(\"utf-8\") ).getReader(); const parts = []; while (true) { const step = await reader.read(); if (step.done) { break; } parts.push(step.value); } const tpl = document.createElement('template'); tpl.innerHTML = parts.join(\"\"); _insertNode(tpl.content); } else { _insertNode(contentNode.content); } })(); } else { _insertNode(contentNode.content); } }); </script></treescope-run-here><div style=\"display:none\"> <script type=\"application/octet-stream\" >eNqNVE2P00AM/SujcNhUItkPBIK2ibQXxAFxgAMHhKpp4iRWJ55hxmkpaP87nqQt+1FWqIdmbM/zex7by8B7A2XOHiBU1sHKW8vqt3I2IKOlufJgNOMWFqqxxFmjezT7ueot2eB0JfZdhwzZeJgr58ViMHA2Qme8d2IlS2Je62rTejtQnVXWWD+fri7U4bQ2EiB4WHM3Vw2yhBED8UI5XddIbWag4bm6qbqYhCDrANtOLNf56whDrFE4n64dPrItBlyjQRbmemB7is2Q2CMFrLKAv2DyHujeLS+n8ixP5cn8QJLTiy1UHh2rqK+40M4ZrHSs2KWtGKJ6D7q/KNN0VpRSUMkXWNXQUFCF4g5D3gJ/lmp/sjWks7yzgfPRL9KA1coBRcm3VUSNl759P+f5oKk2IG4ajFlMGXKh+cVaEmu6s34zU/c52K9iiq4HZsYqGh34xvpeUwU52V06G99XEqRPPCqbLi3Vq5uZ4GCj0kescwPUcqeKQl3FkGepe+DBk9RdgQnwl1g3UGT2GDp02HDkNwbEjzv5/SNDKl1Ftd3lHn4MEPiWsB+f673XPaRTTWYRY/EkkRtCN5VxcUbjMUUxyXhG5f9ziCymh2TbtmaaytU4OdKtLmJFCxh+qWArDX54ychuPOcb2MeiJz6JhA7BeWV0CB9lOA+4aXLCXPXShskx+d1M6intP/Z4ubw8NwA1btUIWCQP10eiWK9FKfwskqtEWRIyIpsk7rm2P681jXeOKhMZu2lhjRtjRUO/Bj92yrhAXly9e3v9+s390ZW1REeancyql7WxWbH2QiNRtWadCT2nuSuS5GH4/RxJeSOQ4ixPf6K//APzV9tb</script> <treescope-run-here><script type=\"application/octet-stream\"> const root = ( Array.from(document.getElementsByClassName( \"treescope_out_44e5f754eb1448408115cd68f19a0be3\")) .filter((elt) => !elt.dataset['step0']) )[0]; root.dataset['step0'] = 1; root.defns.insertContent( this.parentNode.querySelector('script[type=\"application/octet-stream\"]'), true ); this.parentNode.remove(); </script></treescope-run-here> </div>"
      ],
      "text/plain": [
       "<IPython.core.display.HTML object>"
      ]
     },
     "metadata": {},
     "output_type": "display_data"
    },
    {
     "data": {
      "text/html": [
       "<treescope-run-here><script type=\"application/octet-stream\"> const root = ( Array.from(document.getElementsByClassName( \"treescope_out_44e5f754eb1448408115cd68f19a0be3\")) .filter((elt) => !elt.dataset.stolen) )[0]; root.dataset.stolen = 1; this.parentNode.replaceChild(root, this); </script></treescope-run-here>"
      ],
      "text/plain": [
       "2"
      ]
     },
     "execution_count": 40,
     "metadata": {},
     "output_type": "execute_result"
    }
   ],
   "source": [
    "pz.select([1, 2]).at_instances_of(int).count()"
   ]
  },
  {
   "cell_type": "code",
   "execution_count": 41,
   "metadata": {
    "execution": {
     "iopub.execute_input": "2024-07-16T16:57:41.182360Z",
     "iopub.status.busy": "2024-07-16T16:57:41.181906Z",
     "iopub.status.idle": "2024-07-16T16:57:41.186149Z",
     "shell.execute_reply": "2024-07-16T16:57:41.185958Z"
    },
    "id": "u9uMT3qll1UI"
   },
   "outputs": [
    {
     "data": {
      "text/html": [
       "<script> (()=>{ if (customElements.get('treescope-container') === undefined) { class TreescopeContainer extends HTMLElement { constructor() { super(); this.attachShadow({mode: \"open\"}); this.defns = {}; this.state = {}; } } customElements.define(\"treescope-container\", TreescopeContainer); } if (customElements.get('treescope-run-here') === undefined) { class RunHere extends HTMLElement { constructor() { super() } connectedCallback() { const run = child => { const fn = new Function(child.textContent); child.textContent = \"\"; fn.call(this); this.remove(); }; const child = this.querySelector(\"script\"); if (child) { run(child); } else { new MutationObserver(()=>{ run(this.querySelector(\"script\")); }).observe(this, {childList: true}); } } } customElements.define(\"treescope-run-here\", RunHere); } })(); </script> <treescope-container class=\"treescope_out_4e17181b2cfe41cab96f0a1dac7f10a5\" ></treescope-container> <treescope-run-here><script type=\"application/octet-stream\"> const root = ( Array.from(document.getElementsByClassName( \"treescope_out_4e17181b2cfe41cab96f0a1dac7f10a5\")) .filter((elt) => !elt.dataset.setup) )[0]; root.dataset.setup = 1; const msg = document.createElement(\"span\"); msg.style = \"color: #aaaaaa; font-family: monospace; transition: opacity 0.2s; opacity: 0.0;\"; msg.textContent = \"(Loading...)\"; root.state.loadingMsg = msg; root.shadowRoot.appendChild(msg); root.state.chain = new Promise((resolve, reject) => { const observer = new IntersectionObserver((entries) => { for (const entry of entries) { if (entry.isIntersecting) { resolve(); observer.disconnect(); return; } } }, {rootMargin: \"1000px\"}); window.setTimeout(() => { if (root.loadingMsg) { root.loadingMsg.style.opacity = \"1.0\"; } observer.observe(root); }, 0); }); root.state.deferring = false; const _insertNode = (node) => { for (let oldScript of node.querySelectorAll(\"script\")) { let newScript = document.createElement(\"script\"); newScript.type = oldScript.type; newScript.textContent = oldScript.textContent; oldScript.parentNode.replaceChild(newScript, oldScript); } if (root.state.loadingMsg) { root.state.loadingMsg.remove(); root.state.loadingMsg = null; } root.shadowRoot.appendChild(node); }; root.defns.insertContent = ((contentNode, compressed) => { if (compressed) { root.state.deferring = true; } if (root.state.deferring) { root.state.chain = (async () => { await root.state.chain; if (compressed) { const encoded = contentNode.textContent; const blob = new Blob([ Uint8Array.from(atob(encoded), (m) => m.codePointAt(0)) ]); const reader = blob.stream().pipeThrough( new DecompressionStream(\"deflate\") ).pipeThrough( new TextDecoderStream(\"utf-8\") ).getReader(); const parts = []; while (true) { const step = await reader.read(); if (step.done) { break; } parts.push(step.value); } const tpl = document.createElement('template'); tpl.innerHTML = parts.join(\"\"); _insertNode(tpl.content); } else { _insertNode(contentNode.content); } })(); } else { _insertNode(contentNode.content); } }); </script></treescope-run-here><div style=\"display:none\"> <script type=\"application/octet-stream\" >eNqNVE1v2zAM/SuCd6gNzO7H0GFLYgO9FDsMO2yHHYYhUGzaFiJTmkQny4b+91FykqVtVgw5xCKpx8cnkgtPOw1VQQ7A18bC0hlD4rewxitSBmfCgZakNjAXrUHKWzkovZuJwaDxVtZs3/aKII+HmbCOLVp5yiN0TjvLVjTI5pWs150zIzZ5bbRxs+nqXOxPK80BjKca6meiVcRhSIA0F1Y2jcIu19DSTNzUfUiCkPegup4t18VtgEGSijkfr+0/8o3yaqW0ImYuRzLH2FwhOYVe1blXv2Dy7uk+LC4neRZHeXI3Iud0bPO1U5ZEqK+8kNZqVcug2KWpCUL1DuRwUaVpVlYsKOfzJBpo0YtSUK980QF9ZrU/mQbSrOiNpyL6uTQgsbSAoeS7OqCGS9++n/N8kNhoYDeOWs+nDAXT/GIMsjXdGrfOxCkH85VNwfXITKoORguuNW6QWEOBZptm8X05QfrMI/Lp0kK8uckYR7UifcK60IAd9aIsxVUIeZG6Axodsu4CtIe/xPoRA7On0L5XLQV+MSB8PPDvHxlS7ipszLZw8GMET3eohvhc904OkE6aZAFj/iyRHX0/yTg/U+MhRTmV8UKV/88hsJgekkzX6Wkql3FyuFttwAoW0PRawIYbfP+SgV08F2vYBdETlwRC++Ci1tL7jzyce9w0OWIuB27D5JD8IWM9uf1jj1eLy3MD0KiNiIBl8nh9JILkiiuFn2VylQiDTIbLRo57qe3P15qGO4cqEx67aWHFjbHEcViBi50SF8irq/fvrm/fno4uryU80Ox5Vh2vjfWSpGMaiWgkyZzpWUl9mSSPw09zJNW95KZkWA6ojn+sQfUHbWLdFA==</script> <treescope-run-here><script type=\"application/octet-stream\"> const root = ( Array.from(document.getElementsByClassName( \"treescope_out_4e17181b2cfe41cab96f0a1dac7f10a5\")) .filter((elt) => !elt.dataset['step0']) )[0]; root.dataset['step0'] = 1; root.defns.insertContent( this.parentNode.querySelector('script[type=\"application/octet-stream\"]'), true ); this.parentNode.remove(); </script></treescope-run-here> </div>"
      ],
      "text/plain": [
       "<IPython.core.display.HTML object>"
      ]
     },
     "metadata": {},
     "output_type": "display_data"
    },
    {
     "data": {
      "text/html": [
       "<treescope-run-here><script type=\"application/octet-stream\"> const root = ( Array.from(document.getElementsByClassName( \"treescope_out_4e17181b2cfe41cab96f0a1dac7f10a5\")) .filter((elt) => !elt.dataset.stolen) )[0]; root.dataset.stolen = 1; this.parentNode.replaceChild(root, this); </script></treescope-run-here>"
      ],
      "text/plain": [
       "False"
      ]
     },
     "execution_count": 41,
     "metadata": {},
     "output_type": "execute_result"
    }
   ],
   "source": [
    "pz.select([1, 2]).at_instances_of(int).is_empty()"
   ]
  },
  {
   "cell_type": "markdown",
   "metadata": {
    "id": "TG5VaFeZl2qd"
   },
   "source": [
    "If you already know how many objects should be selected, you can also add an assertion in the middle of a chain:"
   ]
  },
  {
   "cell_type": "code",
   "execution_count": 42,
   "metadata": {
    "execution": {
     "iopub.execute_input": "2024-07-16T16:57:41.190725Z",
     "iopub.status.busy": "2024-07-16T16:57:41.190447Z",
     "iopub.status.idle": "2024-07-16T16:57:41.195094Z",
     "shell.execute_reply": "2024-07-16T16:57:41.194915Z"
    },
    "id": "bNBzV-pQl53a"
   },
   "outputs": [
    {
     "data": {
      "text/html": [
       "<script> (()=>{ if (customElements.get('treescope-container') === undefined) { class TreescopeContainer extends HTMLElement { constructor() { super(); this.attachShadow({mode: \"open\"}); this.defns = {}; this.state = {}; } } customElements.define(\"treescope-container\", TreescopeContainer); } if (customElements.get('treescope-run-here') === undefined) { class RunHere extends HTMLElement { constructor() { super() } connectedCallback() { const run = child => { const fn = new Function(child.textContent); child.textContent = \"\"; fn.call(this); this.remove(); }; const child = this.querySelector(\"script\"); if (child) { run(child); } else { new MutationObserver(()=>{ run(this.querySelector(\"script\")); }).observe(this, {childList: true}); } } } customElements.define(\"treescope-run-here\", RunHere); } })(); </script> <treescope-container class=\"treescope_out_4fddbb573eaf461b8d2f97fdff5054ec\" ></treescope-container> <treescope-run-here><script type=\"application/octet-stream\"> const root = ( Array.from(document.getElementsByClassName( \"treescope_out_4fddbb573eaf461b8d2f97fdff5054ec\")) .filter((elt) => !elt.dataset.setup) )[0]; root.dataset.setup = 1; const msg = document.createElement(\"span\"); msg.style = \"color: #aaaaaa; font-family: monospace; transition: opacity 0.2s; opacity: 0.0;\"; msg.textContent = \"(Loading...)\"; root.state.loadingMsg = msg; root.shadowRoot.appendChild(msg); root.state.chain = new Promise((resolve, reject) => { const observer = new IntersectionObserver((entries) => { for (const entry of entries) { if (entry.isIntersecting) { resolve(); observer.disconnect(); return; } } }, {rootMargin: \"1000px\"}); window.setTimeout(() => { if (root.loadingMsg) { root.loadingMsg.style.opacity = \"1.0\"; } observer.observe(root); }, 0); }); root.state.deferring = false; const _insertNode = (node) => { for (let oldScript of node.querySelectorAll(\"script\")) { let newScript = document.createElement(\"script\"); newScript.type = oldScript.type; newScript.textContent = oldScript.textContent; oldScript.parentNode.replaceChild(newScript, oldScript); } if (root.state.loadingMsg) { root.state.loadingMsg.remove(); root.state.loadingMsg = null; } root.shadowRoot.appendChild(node); }; root.defns.insertContent = ((contentNode, compressed) => { if (compressed) { root.state.deferring = true; } if (root.state.deferring) { root.state.chain = (async () => { await root.state.chain; if (compressed) { const encoded = contentNode.textContent; const blob = new Blob([ Uint8Array.from(atob(encoded), (m) => m.codePointAt(0)) ]); const reader = blob.stream().pipeThrough( new DecompressionStream(\"deflate\") ).pipeThrough( new TextDecoderStream(\"utf-8\") ).getReader(); const parts = []; while (true) { const step = await reader.read(); if (step.done) { break; } parts.push(step.value); } const tpl = document.createElement('template'); tpl.innerHTML = parts.join(\"\"); _insertNode(tpl.content); } else { _insertNode(contentNode.content); } })(); } else { _insertNode(contentNode.content); } }); </script></treescope-run-here><div style=\"display:none\"> <script type=\"application/octet-stream\" >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</script> <treescope-run-here><script type=\"application/octet-stream\"> const root = ( Array.from(document.getElementsByClassName( \"treescope_out_4fddbb573eaf461b8d2f97fdff5054ec\")) .filter((elt) => !elt.dataset['step0']) )[0]; root.dataset['step0'] = 1; root.defns.insertContent( this.parentNode.querySelector('script[type=\"application/octet-stream\"]'), true ); this.parentNode.remove(); </script></treescope-run-here> </div>"
      ],
      "text/plain": [
       "<IPython.core.display.HTML object>"
      ]
     },
     "metadata": {},
     "output_type": "display_data"
    },
    {
     "data": {
      "text/html": [
       "<treescope-run-here><script type=\"application/octet-stream\"> const root = ( Array.from(document.getElementsByClassName( \"treescope_out_4fddbb573eaf461b8d2f97fdff5054ec\")) .filter((elt) => !elt.dataset.stolen) )[0]; root.dataset.stolen = 1; this.parentNode.replaceChild(root, this); </script></treescope-run-here>"
      ],
      "text/plain": [
       "[2, 3]"
      ]
     },
     "execution_count": 42,
     "metadata": {},
     "output_type": "execute_result"
    }
   ],
   "source": [
    "pz.select([1, 2]).at_instances_of(int).assert_count_is(2).apply(lambda x: x + 1)"
   ]
  },
  {
   "cell_type": "markdown",
   "metadata": {
    "id": "fd6gwn3JlaSr"
   },
   "source": [
    "### Retrieving values\n",
    "\n",
    "You can extract all of the selected values using `.get_sequence()`:"
   ]
  },
  {
   "cell_type": "code",
   "execution_count": 43,
   "metadata": {
    "execution": {
     "iopub.execute_input": "2024-07-16T16:57:41.200130Z",
     "iopub.status.busy": "2024-07-16T16:57:41.199755Z",
     "iopub.status.idle": "2024-07-16T16:57:41.208528Z",
     "shell.execute_reply": "2024-07-16T16:57:41.208274Z"
    },
    "id": "SkCQmesoBf3o"
   },
   "outputs": [
    {
     "data": {
      "text/html": [
       "<script> (()=>{ if (customElements.get('treescope-container') === undefined) { class TreescopeContainer extends HTMLElement { constructor() { super(); this.attachShadow({mode: \"open\"}); this.defns = {}; this.state = {}; } } customElements.define(\"treescope-container\", TreescopeContainer); } if (customElements.get('treescope-run-here') === undefined) { class RunHere extends HTMLElement { constructor() { super() } connectedCallback() { const run = child => { const fn = new Function(child.textContent); child.textContent = \"\"; fn.call(this); this.remove(); }; const child = this.querySelector(\"script\"); if (child) { run(child); } else { new MutationObserver(()=>{ run(this.querySelector(\"script\")); }).observe(this, {childList: true}); } } } customElements.define(\"treescope-run-here\", RunHere); } })(); </script> <treescope-container class=\"treescope_out_d0ea5c8fef0e44a888d003d7ae81e8e6\" ></treescope-container> <treescope-run-here><script type=\"application/octet-stream\"> const root = ( Array.from(document.getElementsByClassName( \"treescope_out_d0ea5c8fef0e44a888d003d7ae81e8e6\")) .filter((elt) => !elt.dataset.setup) )[0]; root.dataset.setup = 1; const msg = document.createElement(\"span\"); msg.style = \"color: #aaaaaa; font-family: monospace; transition: opacity 0.2s; opacity: 0.0;\"; msg.textContent = \"(Loading...)\"; root.state.loadingMsg = msg; root.shadowRoot.appendChild(msg); root.state.chain = new Promise((resolve, reject) => { const observer = new IntersectionObserver((entries) => { for (const entry of entries) { if (entry.isIntersecting) { resolve(); observer.disconnect(); return; } } }, {rootMargin: \"1000px\"}); window.setTimeout(() => { if (root.loadingMsg) { root.loadingMsg.style.opacity = \"1.0\"; } observer.observe(root); }, 0); }); root.state.deferring = false; const _insertNode = (node) => { for (let oldScript of node.querySelectorAll(\"script\")) { let newScript = document.createElement(\"script\"); newScript.type = oldScript.type; newScript.textContent = oldScript.textContent; oldScript.parentNode.replaceChild(newScript, oldScript); } if (root.state.loadingMsg) { root.state.loadingMsg.remove(); root.state.loadingMsg = null; } root.shadowRoot.appendChild(node); }; root.defns.insertContent = ((contentNode, compressed) => { if (compressed) { root.state.deferring = true; } if (root.state.deferring) { root.state.chain = (async () => { await root.state.chain; if (compressed) { const encoded = contentNode.textContent; const blob = new Blob([ Uint8Array.from(atob(encoded), (m) => m.codePointAt(0)) ]); const reader = blob.stream().pipeThrough( new DecompressionStream(\"deflate\") ).pipeThrough( new TextDecoderStream(\"utf-8\") ).getReader(); const parts = []; while (true) { const step = await reader.read(); if (step.done) { break; } parts.push(step.value); } const tpl = document.createElement('template'); tpl.innerHTML = parts.join(\"\"); _insertNode(tpl.content); } else { _insertNode(contentNode.content); } })(); } else { _insertNode(contentNode.content); } }); </script></treescope-run-here><div style=\"display:none\"> <script type=\"application/octet-stream\" >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</script> <treescope-run-here><script type=\"application/octet-stream\"> const root = ( Array.from(document.getElementsByClassName( \"treescope_out_d0ea5c8fef0e44a888d003d7ae81e8e6\")) .filter((elt) => !elt.dataset['step0']) )[0]; root.dataset['step0'] = 1; root.defns.insertContent( this.parentNode.querySelector('script[type=\"application/octet-stream\"]'), true ); this.parentNode.remove(); </script></treescope-run-here> </div>"
      ],
      "text/plain": [
       "<IPython.core.display.HTML object>"
      ]
     },
     "metadata": {},
     "output_type": "display_data"
    },
    {
     "data": {
      "text/html": [
       "<div style=\"display:none\"> <script type=\"application/octet-stream\" >eNrtGm1z2jb4r+jcWwMtdjCY98Ddlm53/dIP3Yd96PV8QhJYi5BcWaRJe/nveyQbjIEQkqZbt5G7ALae9/fHcEH5NcrMrWBjj/IsFfh2iKSSzEOcjr2Z0jFlM6Y1ozFp0yljg363PZtFEe1NcTToNUmrFzUHNGwSb3KRpVjCq6U3CabKGLUQXLKhVKYWzJSgeCpYLBVlwwRntYnAUyYm1ZPYqPlc5DhDkjByxWi9jl7V0VeUYkq5nPtGpUPUDMIOW4yQ5eAnjM8TM0Rh4O598bmk7AauRyhVGTdcySHSTGDDr9kI3QVECVAOT6eaXQNldzlEL7r9Fm42SwCiFgsmTfw5YTJmN6AfZfTZ9Flxxe6v5CqXiynTGwDNQT/sdEuAzGiwwyaFdtgJO2sAcJc1SwkwFZhcjdAUXudaLSX1i4NrrGu+PxWKXOW36gClNGU6t3KY3qBMCU4PQeaufgj4DgXJbco0SHYVa7ZQhsWJugZFt4XeFVNdCZLU+tFP1u1RB4XNQU7xM87ijGglBKAbFcy4zkxsOLk6muogCkJLtzlAYbsb9PYSdv47yK6+w9BoLFext80chRliOGMQqL5amgaaKWn8zy6Mt86sVxOSxJBdhMWCzcxGKthLmwsdklThtKNUAuo8QdaQn5ZYSLxgcarZjN8ApJMg41+YherbNLoLMoNtwMYk4YJqJl1ESYM5qGQ/QG44a23DrU2RRwiabIE8Wwqtq5aLtRFaYD0Hs+VmIViQWoskyAeNIpLUj5H1u4lWJEsuWp4mTqq9yVIpdU4P8JxI0CtUC0GdTZSCbgZQrF6vr21QovrH4674rlLaYa5Jru76xe2/0ZplUXIW9DWmfJkVCoZsAdrdr5iT9NuEeDDEv1bqZu5fWxCPqJuHge8CoPhd+mjp5G9ppa43utIGXSndDHw7STjTG81YRlQKZUkpE6yB4wVIig5Q4NLKlBdkCwTaPAh4DLN76RQiX5znU4wbaRAROMvGXlXMYt5ZjU8Vr0FHptN+1MGjffEIBh95VdIV1yGexXljUdL1EgDOXXzBZbo0yEAbHXvOqVN14+0lUvgfUM8dUpVf2YgNZDYzHqLYYP+K3abYJGNvS7xKYyuiEVV7kneMrYrDrd7jTVImv2Beeg5yKwVJMpgQZlgI2zwDcIkbL/O3d8q8X1FPrdK16vnFeWGxTb473ayawt4B6B1QBQ2VSyxgkkn1+FHGDSq4+0xdDHje5OWLm1Zv9LPW+Lb2odlAYQO1GqjdQFEDdRqo20C9Buo30OBjA1EXFlyadque41VN0th1EDATOM0Y9SZoBbwDtBp7q4KeWRdNl1BA5BlS8lLADDQ+MwnPAlD5PWTeO4jCWj1IVGYC2CJkFiRAB8LTYsbEItQsfP0st4+9PfZqAi+mFCObu0P3WjVX3Sszbo02RGcP4p2NUIGBJaQ/zgvZ2SWgI+sX+LxeYc4PvD0hRGCXemKAcLo3PPIFwZuEzWYrag26vX67221F/zV/c/oUbwPWP+hrl4RP9LbFPdQYnr8PHNhyvYOh8WJv/OwU9j/xzapwuyJ2qDof4m5nENg2ytJ98NybPJ8DNh8UQD0WZuQOUF5hrX5Osfzy5dyMDoTQD5ZeVtunJJjDe64UOzb9tmzXONn3Ufa9d5orH9OhrYcH3qT+OO9UhuoH02idOo8bbHYzbPVG+fXk4hEPNBkOCWtHg86sE0X9XjRot6NWa9CMZrMOCzErH2iedoDTDvCj7ABBA+3/XyfKTCh82gH+dztAp98eRL3WaQc47QCnHeC0A5x2gJN9/1U7wCMGmwd2gPUI6eul9BOm7XN8AvKsqiVOYXolzpznihhmfJi1GF54E6JkBlCuRLylGRqjD97xv4BoIO/47eLjKGdGFbGuB1a7kThChUCgUQFUgAeflkzf/s4EI0bpmrf1rYe3Rp1pPLeFPUdd2o8BAWUNe1Nc/lZA7LK7FLA5AeKKRgCGY5Je2vpaWwEFxEI5eY1eui/bYM1CNcEM4oDcHMHbRWnTQDA5Nwncff3afhll4fLDTU5w+atg9uMvt2+B2Qr7A/8IDCxOppaasDew791rlBd23/PQa7SFnl8GMBIKiPQ/uElqa2r5V/oFb6cpIJSn9ncL184zd2szVQhVbFe3ceoiD2JzT1j+Bb7Ah0c=</script> <treescope-run-here><script type=\"application/octet-stream\"> const root = ( Array.from(document.getElementsByClassName( \"treescope_out_d0ea5c8fef0e44a888d003d7ae81e8e6\")) .filter((elt) => !elt.dataset['step1']) )[0]; root.dataset['step1'] = 1; root.defns.insertContent( this.parentNode.querySelector('script[type=\"application/octet-stream\"]'), true ); this.parentNode.remove(); </script></treescope-run-here> </div>"
      ],
      "text/plain": [
       "<IPython.core.display.HTML object>"
      ]
     },
     "metadata": {},
     "output_type": "display_data"
    },
    {
     "data": {
      "text/html": [
       "<treescope-run-here><script type=\"application/octet-stream\"> const root = ( Array.from(document.getElementsByClassName( \"treescope_out_d0ea5c8fef0e44a888d003d7ae81e8e6\")) .filter((elt) => !elt.dataset.stolen) )[0]; root.dataset.stolen = 1; this.parentNode.replaceChild(root, this); </script></treescope-run-here>"
      ],
      "text/plain": [
       "(<jax.Array([0, 1, 2, 3, 4, 5, 6, 7, 8, 9], dtype=int32)>,\n",
       " <jax.Array([0., 0., 0., 0., 0., 0., 0.], dtype=float32)>)"
      ]
     },
     "execution_count": 43,
     "metadata": {},
     "output_type": "execute_result"
    }
   ],
   "source": [
    "selection = (\n",
    "    pz.select(my_nested_object)\n",
    "    .at_subtrees_where(\n",
    "        lambda subtree: isinstance(subtree, jax.Array) and subtree.size <= 10)\n",
    ")\n",
    "\n",
    "selection.get_sequence()"
   ]
  },
  {
   "cell_type": "markdown",
   "metadata": {
    "id": "Dp_fK7Mkd38c"
   },
   "source": [
    "Or get them in a dictionary form with `get_by_path()` (equivalent to just accessing the `.selected_by_path` attribute):"
   ]
  },
  {
   "cell_type": "code",
   "execution_count": 44,
   "metadata": {
    "execution": {
     "iopub.execute_input": "2024-07-16T16:57:41.213819Z",
     "iopub.status.busy": "2024-07-16T16:57:41.213551Z",
     "iopub.status.idle": "2024-07-16T16:57:41.222431Z",
     "shell.execute_reply": "2024-07-16T16:57:41.222253Z"
    },
    "id": "vx86PfFId_OQ"
   },
   "outputs": [
    {
     "data": {
      "text/html": [
       "<script> (()=>{ if (customElements.get('treescope-container') === undefined) { class TreescopeContainer extends HTMLElement { constructor() { super(); this.attachShadow({mode: \"open\"}); this.defns = {}; this.state = {}; } } customElements.define(\"treescope-container\", TreescopeContainer); } if (customElements.get('treescope-run-here') === undefined) { class RunHere extends HTMLElement { constructor() { super() } connectedCallback() { const run = child => { const fn = new Function(child.textContent); child.textContent = \"\"; fn.call(this); this.remove(); }; const child = this.querySelector(\"script\"); if (child) { run(child); } else { new MutationObserver(()=>{ run(this.querySelector(\"script\")); }).observe(this, {childList: true}); } } } customElements.define(\"treescope-run-here\", RunHere); } })(); </script> <treescope-container class=\"treescope_out_c71605cd36ce4500bfcecc5769a44e9d\" ></treescope-container> <treescope-run-here><script type=\"application/octet-stream\"> const root = ( Array.from(document.getElementsByClassName( \"treescope_out_c71605cd36ce4500bfcecc5769a44e9d\")) .filter((elt) => !elt.dataset.setup) )[0]; root.dataset.setup = 1; const msg = document.createElement(\"span\"); msg.style = \"color: #aaaaaa; font-family: monospace; transition: opacity 0.2s; opacity: 0.0;\"; msg.textContent = \"(Loading...)\"; root.state.loadingMsg = msg; root.shadowRoot.appendChild(msg); root.state.chain = new Promise((resolve, reject) => { const observer = new IntersectionObserver((entries) => { for (const entry of entries) { if (entry.isIntersecting) { resolve(); observer.disconnect(); return; } } }, {rootMargin: \"1000px\"}); window.setTimeout(() => { if (root.loadingMsg) { root.loadingMsg.style.opacity = \"1.0\"; } observer.observe(root); }, 0); }); root.state.deferring = false; const _insertNode = (node) => { for (let oldScript of node.querySelectorAll(\"script\")) { let newScript = document.createElement(\"script\"); newScript.type = oldScript.type; newScript.textContent = oldScript.textContent; oldScript.parentNode.replaceChild(newScript, oldScript); } if (root.state.loadingMsg) { root.state.loadingMsg.remove(); root.state.loadingMsg = null; } root.shadowRoot.appendChild(node); }; root.defns.insertContent = ((contentNode, compressed) => { if (compressed) { root.state.deferring = true; } if (root.state.deferring) { root.state.chain = (async () => { await root.state.chain; if (compressed) { const encoded = contentNode.textContent; const blob = new Blob([ Uint8Array.from(atob(encoded), (m) => m.codePointAt(0)) ]); const reader = blob.stream().pipeThrough( new DecompressionStream(\"deflate\") ).pipeThrough( new TextDecoderStream(\"utf-8\") ).getReader(); const parts = []; while (true) { const step = await reader.read(); if (step.done) { break; } parts.push(step.value); } const tpl = document.createElement('template'); tpl.innerHTML = parts.join(\"\"); _insertNode(tpl.content); } else { _insertNode(contentNode.content); } })(); } else { _insertNode(contentNode.content); } }); </script></treescope-run-here><div style=\"display:none\"> <script type=\"application/octet-stream\" >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</script> <treescope-run-here><script type=\"application/octet-stream\"> const root = ( Array.from(document.getElementsByClassName( \"treescope_out_c71605cd36ce4500bfcecc5769a44e9d\")) .filter((elt) => !elt.dataset['step0']) )[0]; root.dataset['step0'] = 1; root.defns.insertContent( this.parentNode.querySelector('script[type=\"application/octet-stream\"]'), true ); this.parentNode.remove(); </script></treescope-run-here> </div>"
      ],
      "text/plain": [
       "<IPython.core.display.HTML object>"
      ]
     },
     "metadata": {},
     "output_type": "display_data"
    },
    {
     "data": {
      "text/html": [
       "<div style=\"display:none\"> <script type=\"application/octet-stream\" >eNrtGdtu2zb0VwgFa6zWUnyVb7GBLd2AvvShe9hDUQgUSVtcaFKl6Fxa5N93SMl2ZDuOk6ZbtzlALEs89/uxzim/Qrm5FWzsUZ5nAt8OkVSSeYjTsTdVOqZsyrRmNO5F0aDVjqatQZd0ut0+jqJpo5dEUbfdHJCo6U3O8wxL+LT0JmGijFFzwSUbSmVq4VQJihPBYqkoG6Y4r00ETpiYVE9io2YzUeAMScrIJaO+j1776CvKMKVczgKjsiFqhM0um4+Q5RCkjM9SM0TN0D37EnBJ2Q3cj1Cmcm64kkOkmcCGX7ERuguJEqAcThLNroCyux2ik6jfwo3GGoCo+ZxJE1+nTMbsBvSjjL6YPkuu2P2tuIKxrVJrgERgcjlCCXzOtFpIGpQHV1jXgiARilwWj3yAUpoyXdiomd2gXAlO90EWjnoM+A6F6W3GNEh2GWs2V4bFqbpiGm0KvS2muhQkrfU7P1mndbqo2RgUFK9xHudEKyEA3ahwynVuYsPJ5cFUB52waek2BqjZjsLeTsLO+nvZ+VsMjcZyGTmbzFEzRwznDMIsUAtTR1MlTXDtgnDjzHo1JWkMuUFYLNjU3Atke2sjuUvSKpx2lNaAugjvFWRusA2kmKRcUM2kixVpMAdh7ReIWWeHTbiVkoXv0WQD5MVCe1VNXBSN0BzrGRikUJhgQWotkqIANOqQ1D9E1u8mWpkGhWhFAjipdqZBpQQ5PcAnIkWvUa0J6txHKenmAMV831/ZYI0aHI675LtMVoe5Irl8GpSP/0ZrrsuNs2CgMeWLvFSwyeag3cOKOUm/TYhHQ/xrpSIW/rWl7oCKuB/4LgSK36W/rZ38DS3u/KxoxK4rIyJwno8918dcITOaZ2XLXk4AFQWhLdGk3+ni0S7XgWwjr0q6oiXieVxUVyVdQQXgwhrnXGYLgwz0krHn9E/UjbeTSGkqQD1zSFV+625kIAmY8RDFBgeX7DbDJh17G+JVqnvpOFQtzN4htioPPy+wkHjO4kyzKb/xJhmTXzAPjWYsJypjEIYZSJJDm5xiIWwHCcElbkIqLu+V+bCknlmla9Xz87PSYvf5bhX+arR7e6C3QBV0FS6xgHae6fGTjBtWcHeZOs5BLznzJq9Oblq90c9a49vax0YdNeuoVUftOurUUbeOojrq1VG/jgaf6oi6sODStFt+gVc1SX3bQcBM4Cxn1JugJfAW0HJyqwp6al2ULCDX5ClS8kLAIDA+NSnPQ1D5g1LmPURhzQ9TlZsQBmGZhynQgfC0mDGxCDUL758W9rGPx15N4HlCMdJAYeg+q+byvXXGrdCG6PRRvNMRKjGwhPqBi5w/vQB0ZP0C31dT+NmeyzNCBNaBZwYIpzvDQy7mieXQbDRandYg6vXbUdTq/Nf8zelzvA1Y/6CvXRI+09sWd19jePk+sGdR8/aGxsnO+Nkq7H/im2XhdkVsX3Xex922axjM16V777k3eTkH3N91oR4LM3IHqKiwVj+nWHH7amZGe0LoB0svq+1zEszhvVSKHZp+G7arH+37JPs+OM2tf2lCGxu0N/Gf5h0Q88GRbzuNVqnztMFmO8OWF8qvJudP+E2OtbuYTNusgbtRh1KGp7jd6DXbbNrs9lmUrH+TO+4Axx3gR9kBwjra/b9KlKlQ+LgD/O92gG6/Pej0Wscd4LgDHHeA4w5w3AGO9v1X7QBPGGwe2QFWI2SgFzJImba/4xOQZ1ktcQbTK3HmPFPEMBPArMXw3JsQJXOAciXiHc3RGH30Dn+JX0fe4dvFp1HBjCpiXQ+stiNxhEqBQKMSqAQPPy+Yvv2dCUaM0jVvPTfH9thboU41ntnCXqAu7NeQgLKGvS1vfyshttldCNicAHFJIwTDMUkvbH2tLYFCYqGcvEYv3HspWLNQTTCDOCA3RnA5X9s0FEzOTApP37yx720sXHF4nxPc/iqY/frL7TtgtsT+yD8BA4uTq4Um7C3sew8a5cTuex56gzbQi9sQRkIBkf4HN2ltRa14r13ydpoCwvrUvry/cp65W5mpQqhiO9/GqYs8iM0dYfkXlf4TJw==</script> <treescope-run-here><script type=\"application/octet-stream\"> const root = ( Array.from(document.getElementsByClassName( \"treescope_out_c71605cd36ce4500bfcecc5769a44e9d\")) .filter((elt) => !elt.dataset['step1']) )[0]; root.dataset['step1'] = 1; root.defns.insertContent( this.parentNode.querySelector('script[type=\"application/octet-stream\"]'), true ); this.parentNode.remove(); </script></treescope-run-here> </div>"
      ],
      "text/plain": [
       "<IPython.core.display.HTML object>"
      ]
     },
     "metadata": {},
     "output_type": "display_data"
    },
    {
     "data": {
      "text/html": [
       "<treescope-run-here><script type=\"application/octet-stream\"> const root = ( Array.from(document.getElementsByClassName( \"treescope_out_c71605cd36ce4500bfcecc5769a44e9d\")) .filter((elt) => !elt.dataset.stolen) )[0]; root.dataset.stolen = 1; this.parentNode.replaceChild(root, this); </script></treescope-run-here>"
      ],
      "text/plain": [
       "OrderedDict([((DictKey(key='b'),),\n",
       "              <jax.Array([0, 1, 2, 3, 4, 5, 6, 7, 8, 9], dtype=int32)>),\n",
       "             ((DictKey(key='c'), SequenceKey(idx=1), DictKey(key='value')),\n",
       "              <jax.Array([0., 0., 0., 0., 0., 0., 0.], dtype=float32)>)])"
      ]
     },
     "execution_count": 44,
     "metadata": {},
     "output_type": "execute_result"
    }
   ],
   "source": [
    "selection.get_by_path()"
   ]
  },
  {
   "cell_type": "markdown",
   "metadata": {
    "id": "fFsp4DQ5pmMu"
   },
   "source": [
    "If you know there's exactly one value, you can just call `.get()`"
   ]
  },
  {
   "cell_type": "code",
   "execution_count": 45,
   "metadata": {
    "execution": {
     "iopub.execute_input": "2024-07-16T16:57:41.226385Z",
     "iopub.status.busy": "2024-07-16T16:57:41.226154Z",
     "iopub.status.idle": "2024-07-16T16:57:41.233350Z",
     "shell.execute_reply": "2024-07-16T16:57:41.233176Z"
    },
    "id": "hYFSKPPinEdk"
   },
   "outputs": [
    {
     "data": {
      "text/html": [
       "<script> (()=>{ if (customElements.get('treescope-container') === undefined) { class TreescopeContainer extends HTMLElement { constructor() { super(); this.attachShadow({mode: \"open\"}); this.defns = {}; this.state = {}; } } customElements.define(\"treescope-container\", TreescopeContainer); } if (customElements.get('treescope-run-here') === undefined) { class RunHere extends HTMLElement { constructor() { super() } connectedCallback() { const run = child => { const fn = new Function(child.textContent); child.textContent = \"\"; fn.call(this); this.remove(); }; const child = this.querySelector(\"script\"); if (child) { run(child); } else { new MutationObserver(()=>{ run(this.querySelector(\"script\")); }).observe(this, {childList: true}); } } } customElements.define(\"treescope-run-here\", RunHere); } })(); </script> <treescope-container class=\"treescope_out_50c743c52e094ba59ec9afd075bb4953\" ></treescope-container> <treescope-run-here><script type=\"application/octet-stream\"> const root = ( Array.from(document.getElementsByClassName( \"treescope_out_50c743c52e094ba59ec9afd075bb4953\")) .filter((elt) => !elt.dataset.setup) )[0]; root.dataset.setup = 1; const msg = document.createElement(\"span\"); msg.style = \"color: #aaaaaa; font-family: monospace; transition: opacity 0.2s; opacity: 0.0;\"; msg.textContent = \"(Loading...)\"; root.state.loadingMsg = msg; root.shadowRoot.appendChild(msg); root.state.chain = new Promise((resolve, reject) => { const observer = new IntersectionObserver((entries) => { for (const entry of entries) { if (entry.isIntersecting) { resolve(); observer.disconnect(); return; } } }, {rootMargin: \"1000px\"}); window.setTimeout(() => { if (root.loadingMsg) { root.loadingMsg.style.opacity = \"1.0\"; } observer.observe(root); }, 0); }); root.state.deferring = false; const _insertNode = (node) => { for (let oldScript of node.querySelectorAll(\"script\")) { let newScript = document.createElement(\"script\"); newScript.type = oldScript.type; newScript.textContent = oldScript.textContent; oldScript.parentNode.replaceChild(newScript, oldScript); } if (root.state.loadingMsg) { root.state.loadingMsg.remove(); root.state.loadingMsg = null; } root.shadowRoot.appendChild(node); }; root.defns.insertContent = ((contentNode, compressed) => { if (compressed) { root.state.deferring = true; } if (root.state.deferring) { root.state.chain = (async () => { await root.state.chain; if (compressed) { const encoded = contentNode.textContent; const blob = new Blob([ Uint8Array.from(atob(encoded), (m) => m.codePointAt(0)) ]); const reader = blob.stream().pipeThrough( new DecompressionStream(\"deflate\") ).pipeThrough( new TextDecoderStream(\"utf-8\") ).getReader(); const parts = []; while (true) { const step = await reader.read(); if (step.done) { break; } parts.push(step.value); } const tpl = document.createElement('template'); tpl.innerHTML = parts.join(\"\"); _insertNode(tpl.content); } else { _insertNode(contentNode.content); } })(); } else { _insertNode(contentNode.content); } }); </script></treescope-run-here><div style=\"display:none\"> <script type=\"application/octet-stream\" >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</script> <treescope-run-here><script type=\"application/octet-stream\"> const root = ( Array.from(document.getElementsByClassName( \"treescope_out_50c743c52e094ba59ec9afd075bb4953\")) .filter((elt) => !elt.dataset['step0']) )[0]; root.dataset['step0'] = 1; root.defns.insertContent( this.parentNode.querySelector('script[type=\"application/octet-stream\"]'), true ); this.parentNode.remove(); </script></treescope-run-here> </div>"
      ],
      "text/plain": [
       "<IPython.core.display.HTML object>"
      ]
     },
     "metadata": {},
     "output_type": "display_data"
    },
    {
     "data": {
      "text/html": [
       "<div style=\"display:none\"> <script type=\"application/octet-stream\" >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</script> <treescope-run-here><script type=\"application/octet-stream\"> const root = ( Array.from(document.getElementsByClassName( \"treescope_out_50c743c52e094ba59ec9afd075bb4953\")) .filter((elt) => !elt.dataset['step1']) )[0]; root.dataset['step1'] = 1; root.defns.insertContent( this.parentNode.querySelector('script[type=\"application/octet-stream\"]'), true ); this.parentNode.remove(); </script></treescope-run-here> </div>"
      ],
      "text/plain": [
       "<IPython.core.display.HTML object>"
      ]
     },
     "metadata": {},
     "output_type": "display_data"
    },
    {
     "data": {
      "text/html": [
       "<treescope-run-here><script type=\"application/octet-stream\"> const root = ( Array.from(document.getElementsByClassName( \"treescope_out_50c743c52e094ba59ec9afd075bb4953\")) .filter((elt) => !elt.dataset.stolen) )[0]; root.dataset.stolen = 1; this.parentNode.replaceChild(root, this); </script></treescope-run-here>"
      ],
      "text/plain": [
       "{'value': <jax.Array([ 0,  1,  2,  3,  4,  5,  6,  7,  8,  9, 10, 11], dtype=int32)>}"
      ]
     },
     "execution_count": 45,
     "metadata": {},
     "output_type": "execute_result"
    }
   ],
   "source": [
    "pz.select(my_nested_object).at(lambda root: root[\"c\"][0]).get()"
   ]
  },
  {
   "cell_type": "markdown",
   "metadata": {
    "id": "MkI4lVkKxvSX"
   },
   "source": [
    "You can also get the selected objects in a dictionary form by accessing the `selected_by_path` attribute, which is how selections store their selected nodes internally:"
   ]
  },
  {
   "cell_type": "code",
   "execution_count": 46,
   "metadata": {
    "execution": {
     "iopub.execute_input": "2024-07-16T16:57:41.238914Z",
     "iopub.status.busy": "2024-07-16T16:57:41.238638Z",
     "iopub.status.idle": "2024-07-16T16:57:41.246885Z",
     "shell.execute_reply": "2024-07-16T16:57:41.246646Z"
    },
    "id": "UNJ6Zq-7x1px"
   },
   "outputs": [
    {
     "data": {
      "text/html": [
       "<script> (()=>{ if (customElements.get('treescope-container') === undefined) { class TreescopeContainer extends HTMLElement { constructor() { super(); this.attachShadow({mode: \"open\"}); this.defns = {}; this.state = {}; } } customElements.define(\"treescope-container\", TreescopeContainer); } if (customElements.get('treescope-run-here') === undefined) { class RunHere extends HTMLElement { constructor() { super() } connectedCallback() { const run = child => { const fn = new Function(child.textContent); child.textContent = \"\"; fn.call(this); this.remove(); }; const child = this.querySelector(\"script\"); if (child) { run(child); } else { new MutationObserver(()=>{ run(this.querySelector(\"script\")); }).observe(this, {childList: true}); } } } customElements.define(\"treescope-run-here\", RunHere); } })(); </script> <treescope-container class=\"treescope_out_3cd15decca964f5fb2ee6df724a046c2\" ></treescope-container> <treescope-run-here><script type=\"application/octet-stream\"> const root = ( Array.from(document.getElementsByClassName( \"treescope_out_3cd15decca964f5fb2ee6df724a046c2\")) .filter((elt) => !elt.dataset.setup) )[0]; root.dataset.setup = 1; const msg = document.createElement(\"span\"); msg.style = \"color: #aaaaaa; font-family: monospace; transition: opacity 0.2s; opacity: 0.0;\"; msg.textContent = \"(Loading...)\"; root.state.loadingMsg = msg; root.shadowRoot.appendChild(msg); root.state.chain = new Promise((resolve, reject) => { const observer = new IntersectionObserver((entries) => { for (const entry of entries) { if (entry.isIntersecting) { resolve(); observer.disconnect(); return; } } }, {rootMargin: \"1000px\"}); window.setTimeout(() => { if (root.loadingMsg) { root.loadingMsg.style.opacity = \"1.0\"; } observer.observe(root); }, 0); }); root.state.deferring = false; const _insertNode = (node) => { for (let oldScript of node.querySelectorAll(\"script\")) { let newScript = document.createElement(\"script\"); newScript.type = oldScript.type; newScript.textContent = oldScript.textContent; oldScript.parentNode.replaceChild(newScript, oldScript); } if (root.state.loadingMsg) { root.state.loadingMsg.remove(); root.state.loadingMsg = null; } root.shadowRoot.appendChild(node); }; root.defns.insertContent = ((contentNode, compressed) => { if (compressed) { root.state.deferring = true; } if (root.state.deferring) { root.state.chain = (async () => { await root.state.chain; if (compressed) { const encoded = contentNode.textContent; const blob = new Blob([ Uint8Array.from(atob(encoded), (m) => m.codePointAt(0)) ]); const reader = blob.stream().pipeThrough( new DecompressionStream(\"deflate\") ).pipeThrough( new TextDecoderStream(\"utf-8\") ).getReader(); const parts = []; while (true) { const step = await reader.read(); if (step.done) { break; } parts.push(step.value); } const tpl = document.createElement('template'); tpl.innerHTML = parts.join(\"\"); _insertNode(tpl.content); } else { _insertNode(contentNode.content); } })(); } else { _insertNode(contentNode.content); } }); </script></treescope-run-here><div style=\"display:none\"> <script type=\"application/octet-stream\" >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</script> <treescope-run-here><script type=\"application/octet-stream\"> const root = ( Array.from(document.getElementsByClassName( \"treescope_out_3cd15decca964f5fb2ee6df724a046c2\")) .filter((elt) => !elt.dataset['step0']) )[0]; root.dataset['step0'] = 1; root.defns.insertContent( this.parentNode.querySelector('script[type=\"application/octet-stream\"]'), true ); this.parentNode.remove(); </script></treescope-run-here> </div>"
      ],
      "text/plain": [
       "<IPython.core.display.HTML object>"
      ]
     },
     "metadata": {},
     "output_type": "display_data"
    },
    {
     "data": {
      "text/html": [
       "<div style=\"display:none\"> <script type=\"application/octet-stream\" >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</script> <treescope-run-here><script type=\"application/octet-stream\"> const root = ( Array.from(document.getElementsByClassName( \"treescope_out_3cd15decca964f5fb2ee6df724a046c2\")) .filter((elt) => !elt.dataset['step1']) )[0]; root.dataset['step1'] = 1; root.defns.insertContent( this.parentNode.querySelector('script[type=\"application/octet-stream\"]'), true ); this.parentNode.remove(); </script></treescope-run-here> </div>"
      ],
      "text/plain": [
       "<IPython.core.display.HTML object>"
      ]
     },
     "metadata": {},
     "output_type": "display_data"
    },
    {
     "data": {
      "text/html": [
       "<treescope-run-here><script type=\"application/octet-stream\"> const root = ( Array.from(document.getElementsByClassName( \"treescope_out_3cd15decca964f5fb2ee6df724a046c2\")) .filter((elt) => !elt.dataset.stolen) )[0]; root.dataset.stolen = 1; this.parentNode.replaceChild(root, this); </script></treescope-run-here>"
      ],
      "text/plain": [
       "OrderedDict([((DictKey(key='b'),),\n",
       "              <jax.Array([0, 1, 2, 3, 4, 5, 6, 7, 8, 9], dtype=int32)>),\n",
       "             ((DictKey(key='c'), SequenceKey(idx=1), DictKey(key='value')),\n",
       "              <jax.Array([0., 0., 0., 0., 0., 0., 0.], dtype=float32)>)])"
      ]
     },
     "execution_count": 46,
     "metadata": {},
     "output_type": "execute_result"
    }
   ],
   "source": [
    "(\n",
    "    pz.select(my_nested_object)\n",
    "    .at_subtrees_where(\n",
    "        lambda subtree: isinstance(subtree, jax.Array) and subtree.size <= 10\n",
    "    )\n",
    ").selected_by_path"
   ]
  },
  {
   "cell_type": "markdown",
   "metadata": {
    "id": "ebPObknTmCAo"
   },
   "source": [
    "### Partitioning PyTrees\n",
    "\n",
    "You can use `.partition()` to split a selected object into two parts, one containing only the selected subtrees, and one containing everything else:"
   ]
  },
  {
   "cell_type": "code",
   "execution_count": 47,
   "metadata": {
    "execution": {
     "iopub.execute_input": "2024-07-16T16:57:41.250858Z",
     "iopub.status.busy": "2024-07-16T16:57:41.250593Z",
     "iopub.status.idle": "2024-07-16T16:57:41.252851Z",
     "shell.execute_reply": "2024-07-16T16:57:41.252648Z"
    },
    "id": "H-CcdaMyqq3M"
   },
   "outputs": [],
   "source": [
    "selected, rest = (\n",
    "    pz.select(my_nested_object)\n",
    "    .at_subtrees_where(\n",
    "        lambda subtree: isinstance(subtree, jax.Array) and subtree.size <= 10)\n",
    ").partition()"
   ]
  },
  {
   "cell_type": "code",
   "execution_count": 48,
   "metadata": {
    "execution": {
     "iopub.execute_input": "2024-07-16T16:57:41.258053Z",
     "iopub.status.busy": "2024-07-16T16:57:41.257792Z",
     "iopub.status.idle": "2024-07-16T16:57:41.267155Z",
     "shell.execute_reply": "2024-07-16T16:57:41.266973Z"
    },
    "id": "DaUwe2Iyq6ko"
   },
   "outputs": [
    {
     "data": {
      "text/html": [
       "<script> (()=>{ if (customElements.get('treescope-container') === undefined) { class TreescopeContainer extends HTMLElement { constructor() { super(); this.attachShadow({mode: \"open\"}); this.defns = {}; this.state = {}; } } customElements.define(\"treescope-container\", TreescopeContainer); } if (customElements.get('treescope-run-here') === undefined) { class RunHere extends HTMLElement { constructor() { super() } connectedCallback() { const run = child => { const fn = new Function(child.textContent); child.textContent = \"\"; fn.call(this); this.remove(); }; const child = this.querySelector(\"script\"); if (child) { run(child); } else { new MutationObserver(()=>{ run(this.querySelector(\"script\")); }).observe(this, {childList: true}); } } } customElements.define(\"treescope-run-here\", RunHere); } })(); </script> <treescope-container class=\"treescope_out_36d2c19b12a444c7b0ebe23f9281b49f\" ></treescope-container> <treescope-run-here><script type=\"application/octet-stream\"> const root = ( Array.from(document.getElementsByClassName( \"treescope_out_36d2c19b12a444c7b0ebe23f9281b49f\")) .filter((elt) => !elt.dataset.setup) )[0]; root.dataset.setup = 1; const msg = document.createElement(\"span\"); msg.style = \"color: #aaaaaa; font-family: monospace; transition: opacity 0.2s; opacity: 0.0;\"; msg.textContent = \"(Loading...)\"; root.state.loadingMsg = msg; root.shadowRoot.appendChild(msg); root.state.chain = new Promise((resolve, reject) => { const observer = new IntersectionObserver((entries) => { for (const entry of entries) { if (entry.isIntersecting) { resolve(); observer.disconnect(); return; } } }, {rootMargin: \"1000px\"}); window.setTimeout(() => { if (root.loadingMsg) { root.loadingMsg.style.opacity = \"1.0\"; } observer.observe(root); }, 0); }); root.state.deferring = false; const _insertNode = (node) => { for (let oldScript of node.querySelectorAll(\"script\")) { let newScript = document.createElement(\"script\"); newScript.type = oldScript.type; newScript.textContent = oldScript.textContent; oldScript.parentNode.replaceChild(newScript, oldScript); } if (root.state.loadingMsg) { root.state.loadingMsg.remove(); root.state.loadingMsg = null; } root.shadowRoot.appendChild(node); }; root.defns.insertContent = ((contentNode, compressed) => { if (compressed) { root.state.deferring = true; } if (root.state.deferring) { root.state.chain = (async () => { await root.state.chain; if (compressed) { const encoded = contentNode.textContent; const blob = new Blob([ Uint8Array.from(atob(encoded), (m) => m.codePointAt(0)) ]); const reader = blob.stream().pipeThrough( new DecompressionStream(\"deflate\") ).pipeThrough( new TextDecoderStream(\"utf-8\") ).getReader(); const parts = []; while (true) { const step = await reader.read(); if (step.done) { break; } parts.push(step.value); } const tpl = document.createElement('template'); tpl.innerHTML = parts.join(\"\"); _insertNode(tpl.content); } else { _insertNode(contentNode.content); } })(); } else { _insertNode(contentNode.content); } }); </script></treescope-run-here><div style=\"display:none\"> <script type=\"application/octet-stream\" >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</script> <treescope-run-here><script type=\"application/octet-stream\"> const root = ( Array.from(document.getElementsByClassName( \"treescope_out_36d2c19b12a444c7b0ebe23f9281b49f\")) .filter((elt) => !elt.dataset['step0']) )[0]; root.dataset['step0'] = 1; root.defns.insertContent( this.parentNode.querySelector('script[type=\"application/octet-stream\"]'), true ); this.parentNode.remove(); </script></treescope-run-here> </div>"
      ],
      "text/plain": [
       "<IPython.core.display.HTML object>"
      ]
     },
     "metadata": {},
     "output_type": "display_data"
    },
    {
     "data": {
      "text/html": [
       "<div style=\"display:none\"> <script type=\"application/octet-stream\" >eNrtWVlv2zYc/yqEAtRyKynyIZ+xgS3dgL70oXvYQ1EIlEhZXGhSpejM7tDvvj912FbsuEmatjscIJZE/u9LP0lXhN2iXG84nVmE5RnHmwkSUlALMTKzEqlCQhOqFCVhz4+Gg1GSDP3A7yedHu4Hnd64AyvjeOwT35pf5RkW8Gvkzb1Iai2XnAk6EVLbXiI5wRGnoZCETlKc23OOI8rnzZ1Qy8WClzyTOKXxDSXtNnrZRn+hDBPCxMLVMpsg3+sEdDlFRoObUrZI9QR1vGLtk8sEoWu4nqJM5kwzKSZIUY41u6VT9NmLJQfncBQpeguSi8sJuhiMutj3dwSxXC6p0OGfKRUhXYN/hJJn86fWiou/nVaxWkZU7RH441EnGBiCXGMjIYxTxomioiASGjPwz5yAsUCGDuhKybAQSUVA9vwOybP5tC2jiMv4ZoqWWC2YcDlNID0x5rHdjVPkQvr6cdp+iK3fzLRSfGVaLjkjpVXoFivbdQsqt7AF7GzUXuGH7wU8RS+R3QF39lkquTlQ0Xa7vY3BjtV9OG+tt2wnU/bAuRVZr7rV8neMZmUpOFVE0FWYsFVeOdihS/DufscKS7/OiC+W+L6JdX472fpodivKOpyniT97IPGbDLZdkr9itl1dlhO4GMco5jjPZ1YxwJRcCaIVy6pZXY/+hoMwbkg06gd4eix1Rq3VFN3wEvZK56+YyFYa6U0GCgp3I7m2jvJUkQHWy4KpKT4FCQoCcRNqqHmqLUSwxu4N3WRYpzPrjjV1EZjQoSpPKI3TEIhiGppStR4Smmrz4wpzgZc0zBRN2NqaZ1R8wszTitI8lhmFqsvAklzTMMGcR1CTHmSguBOWh7dSv6ulZ8Zpu7l/dVlFbF/vwZxvFrd1gvqAVCoGswLzUNFMzR4VXK/BeyzUYQ5+iYU1f3Gx7g6nPymFN/Z730EdB3Ud1HNQ30GBgwYOGjpo5KDxBweRoiyY0L1uu+RrhsQ5TBAo4zjLKbHmqCY+IKrv0E1DWyZF0QpaS7SQFNecxTezlk5Z7oHL76TUb6EK7baXylx7AHhE7qUgB8rTcIaxYbANfbtVxscszyyb42VEMFIgYVL8NsPVtnYNtmWboNYX+VpTVHFgAeMCly3eugZ2ZPIC51u0dXni8IQSAdj3xAJh5Gh5lFjGmnd8v9vvjgfDUW8w6Pb/a/lm5CnZBq4fmOuiCZ+YbcP7fe8DJwC5dbI0Lo7Wz8Fg/wOv68FdDLFT0/mUdnN3Bhy+G90n96358yVg/5kG5jHX02IDlRPW+Fc4Vl6+WOjpiRL6h7WX8fYpDVbwPVeLPbT97sTOOcf3UfG9F83t3ijsATplwLE1bz8uO2DmvZDvsI22rfM4YHPYYfWBsNv51SPevRAyiodBkARkhPu9gR8lSTDsdPuUEuIHNNi9ezlD/jPk/0GQ33PQ8f9tXyRc4jPk/99B/mDUG/eH3TPkP0P+M+Q/Q/4z5D/H918F+R8BbL4A+bcQ0lUr4aZUmbf0MdhTT0ucAXqNi3BeylhT7QLWonhpzWMpcqAqRsQbkqMZem89/Nusg6yHP0x8mJbKiIxN6kHVYSVOUWUQeFQRVeTexxVVm98op7GWyrZ2uDk029aWNVF4YQZ7yboyp14Mzmr6urr8taI4VHfN4UEJGGsZHgSOCnJt5qtdE3mxoSrs1WpVfHWCpypkc6oRA2Z/CoerXUw9TsVCp7D66pX5KmPoys19TXD5C6fm9OfNG1BWc79nH0CB4cnlSsX0NTze3RuUC/N4Z6FX6A57eekBJORQ6b8zndpbaV7CVF7rLjwFht2uokt5W2Tm8zZMDUGN2LVNnRaVB7V5pCz/BpbdT1A=</script> <treescope-run-here><script type=\"application/octet-stream\"> const root = ( Array.from(document.getElementsByClassName( \"treescope_out_36d2c19b12a444c7b0ebe23f9281b49f\")) .filter((elt) => !elt.dataset['step1']) )[0]; root.dataset['step1'] = 1; root.defns.insertContent( this.parentNode.querySelector('script[type=\"application/octet-stream\"]'), true ); this.parentNode.remove(); </script></treescope-run-here> </div>"
      ],
      "text/plain": [
       "<IPython.core.display.HTML object>"
      ]
     },
     "metadata": {},
     "output_type": "display_data"
    },
    {
     "data": {
      "text/html": [
       "<treescope-run-here><script type=\"application/octet-stream\"> const root = ( Array.from(document.getElementsByClassName( \"treescope_out_36d2c19b12a444c7b0ebe23f9281b49f\")) .filter((elt) => !elt.dataset.stolen) )[0]; root.dataset.stolen = 1; this.parentNode.replaceChild(root, this); </script></treescope-run-here>"
      ],
      "text/plain": [
       "{'a': NotInThisPartition(),\n",
       " 'b': <jax.Array([0, 1, 2, 3, 4, 5, 6, 7, 8, 9], dtype=int32)>,\n",
       " 'c': [NotInThisPartition(),\n",
       "  {'value': <jax.Array([0., 0., 0., 0., 0., 0., 0.], dtype=float32)>},\n",
       "  NotInThisPartition()]}"
      ]
     },
     "execution_count": 48,
     "metadata": {},
     "output_type": "execute_result"
    }
   ],
   "source": [
    "selected"
   ]
  },
  {
   "cell_type": "code",
   "execution_count": 49,
   "metadata": {
    "execution": {
     "iopub.execute_input": "2024-07-16T16:57:41.273291Z",
     "iopub.status.busy": "2024-07-16T16:57:41.273056Z",
     "iopub.status.idle": "2024-07-16T16:57:41.280578Z",
     "shell.execute_reply": "2024-07-16T16:57:41.280343Z"
    },
    "id": "n-y-RvcSq7V-"
   },
   "outputs": [
    {
     "data": {
      "text/html": [
       "<script> (()=>{ if (customElements.get('treescope-container') === undefined) { class TreescopeContainer extends HTMLElement { constructor() { super(); this.attachShadow({mode: \"open\"}); this.defns = {}; this.state = {}; } } customElements.define(\"treescope-container\", TreescopeContainer); } if (customElements.get('treescope-run-here') === undefined) { class RunHere extends HTMLElement { constructor() { super() } connectedCallback() { const run = child => { const fn = new Function(child.textContent); child.textContent = \"\"; fn.call(this); this.remove(); }; const child = this.querySelector(\"script\"); if (child) { run(child); } else { new MutationObserver(()=>{ run(this.querySelector(\"script\")); }).observe(this, {childList: true}); } } } customElements.define(\"treescope-run-here\", RunHere); } })(); </script> <treescope-container class=\"treescope_out_b6e66717e3f74600b4511f11bb82dfec\" ></treescope-container> <treescope-run-here><script type=\"application/octet-stream\"> const root = ( Array.from(document.getElementsByClassName( \"treescope_out_b6e66717e3f74600b4511f11bb82dfec\")) .filter((elt) => !elt.dataset.setup) )[0]; root.dataset.setup = 1; const msg = document.createElement(\"span\"); msg.style = \"color: #aaaaaa; font-family: monospace; transition: opacity 0.2s; opacity: 0.0;\"; msg.textContent = \"(Loading...)\"; root.state.loadingMsg = msg; root.shadowRoot.appendChild(msg); root.state.chain = new Promise((resolve, reject) => { const observer = new IntersectionObserver((entries) => { for (const entry of entries) { if (entry.isIntersecting) { resolve(); observer.disconnect(); return; } } }, {rootMargin: \"1000px\"}); window.setTimeout(() => { if (root.loadingMsg) { root.loadingMsg.style.opacity = \"1.0\"; } observer.observe(root); }, 0); }); root.state.deferring = false; const _insertNode = (node) => { for (let oldScript of node.querySelectorAll(\"script\")) { let newScript = document.createElement(\"script\"); newScript.type = oldScript.type; newScript.textContent = oldScript.textContent; oldScript.parentNode.replaceChild(newScript, oldScript); } if (root.state.loadingMsg) { root.state.loadingMsg.remove(); root.state.loadingMsg = null; } root.shadowRoot.appendChild(node); }; root.defns.insertContent = ((contentNode, compressed) => { if (compressed) { root.state.deferring = true; } if (root.state.deferring) { root.state.chain = (async () => { await root.state.chain; if (compressed) { const encoded = contentNode.textContent; const blob = new Blob([ Uint8Array.from(atob(encoded), (m) => m.codePointAt(0)) ]); const reader = blob.stream().pipeThrough( new DecompressionStream(\"deflate\") ).pipeThrough( new TextDecoderStream(\"utf-8\") ).getReader(); const parts = []; while (true) { const step = await reader.read(); if (step.done) { break; } parts.push(step.value); } const tpl = document.createElement('template'); tpl.innerHTML = parts.join(\"\"); _insertNode(tpl.content); } else { _insertNode(contentNode.content); } })(); } else { _insertNode(contentNode.content); } }); </script></treescope-run-here><div style=\"display:none\"> <script type=\"application/octet-stream\" >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</script> <treescope-run-here><script type=\"application/octet-stream\"> const root = ( Array.from(document.getElementsByClassName( \"treescope_out_b6e66717e3f74600b4511f11bb82dfec\")) .filter((elt) => !elt.dataset['step0']) )[0]; root.dataset['step0'] = 1; root.defns.insertContent( this.parentNode.querySelector('script[type=\"application/octet-stream\"]'), true ); this.parentNode.remove(); </script></treescope-run-here> </div>"
      ],
      "text/plain": [
       "<IPython.core.display.HTML object>"
      ]
     },
     "metadata": {},
     "output_type": "display_data"
    },
    {
     "data": {
      "text/html": [
       "<div style=\"display:none\"> <script type=\"application/octet-stream\" >eNrtWFtv2zYU/iuEAtRSEymWYyfxFdjSDehLH7qHPQSBQJG0xYUmVYr27A757zukJDuKHTe3dsMwA7QuPN+5n6MjjShfosKsBRt7lBe5wOsBkkoyD3E69qZKJ5RNmdaMJrh3FuOzi/4Ud1k3Jr3+OUm7lMa9fv+CXJ6n3mRU5FjCv+U3iVJljJoLLtlAKuNHUyUoTgVLpKJskOHCnwicMjFp7iRGzWaixAxIxsgto0GA3gfoL5RjSrmchUblA9SO4h6bD5GVEGaMzzIzQHHk7n0NuaRsBddDlKuCG67kAGkmsOFLNkR3EVECjMNpqtkSOLvLATo6v+zgdntLQNR8zqRJ/syYTNgK7KOMvpk9tVTsflZqYbAlSEjGBdVMOiJpMAf17QnoAmRoh65UF26kSlOm0eQByZupvMmSVChyO0RzrGdchoJNwfsEC+J3SIZCiE6XZMFTdP1uqpXsK9UKJTgttUJLrP0wdFSh0wX0bKSWs6Md9USG3iM/BnPuQyq+BVCxIAg2PthCw6dja7lltdisBuSGZX03rG7/QG9WmoJRzoOhxpQvisrAmM3BuscNc5q+Tolvpvh9Fev4xvlqb3Qrytqdh4nvIuD4XfrWNsivaF2j07LBum6LiMBFMfZcf9JqIanRPK9acd3ZGwZCu6HpZbeHh/tCZ8V6TdYNK2GvNH7EZb4wyKxzEODMTdXK24upPAPQUwdqss+AgwZH3CYGcp4ZD1FscHjL1jk22dh7oE2dBNZ1qIoTykiWABFhiU1V7ymuqTa/LLCQeM6SXLMpX3mTnMmvmEdGM1YQlTPIuhw0KQxLpliIFHIyggi4B115+KTM55p7bo32m/uj08pj9+Xu9PlmcnsHqHdIlebQK7BINMv1+FnOjRrYfa5OCrBLzrzJu6NV52L4k9Z47V+j9glCMawOrDNYXVg9WOewLmBdwuqfoBjo4vjmBFGXKFyas05Qcmo66WQ3ZCBe4Lxg1JugmniHqH4kN1Vv2aClCyg22UJKXglObsctk/EiAid8Vsp8grz0gyhThYlgwpFFlAEfSFiLTIgF+JY+aJUes7fHni/wPKUYaeAwcP9NBwbetuQ2sAFqfRPXGqIKgSU0EFwWfesK4MhGCs4349XpgcMLkgbmvBemDKd7E0Yu5qmVELfbnW6nf35x2e9ennX+a/Hm9CXRBtQ/GGtXhC+MtsX+2CfDgQncO5gaR3vzZ6fV/4FXdSt3be1Qvz4k3T6vYTLfNvOD+97k7QJw/yUGOrQwQ7eByg5r7XOGlZfvZmZ4IIX+ZeVlrX1JgTncW5XYU8vvge9O/vfvs/z76Hy3/YRwb8TTdlz2JsHzogNqPjoE7pbRpnReO+rs1lx9oHw5GW3GzFAvJLwJaDvWE9Cw7p84hwmXOAefKmKYCWEeY3juTYiSBVC5pvGRFmiMrr2nf6u5GZZ4qoiNL6B3022IKhmgZEVUkUdfFkyvf2OCEaO0723H5cRuexvoVOOZ7d4ldGFPIwL6G/ahuvy1otgVdyUUxH284RGBL5ikV7aJ+jVRRCyV09fohXvznCqNfMEM4gBuD+Ew2ropEkzODLxJ8+Nj+2Zm6crN+5Lg8hfB7OnP648grEZf8xsQYDGFWmjCPvDl4045sl/PPHSMHsDLywjmPgHp/Ds3mb/hFk25LmrZzlIAbHc1m6uli8zdxk0NRg3fBTb1XDJBuu3JtL8BR3YEuA==</script> <treescope-run-here><script type=\"application/octet-stream\"> const root = ( Array.from(document.getElementsByClassName( \"treescope_out_b6e66717e3f74600b4511f11bb82dfec\")) .filter((elt) => !elt.dataset['step1']) )[0]; root.dataset['step1'] = 1; root.defns.insertContent( this.parentNode.querySelector('script[type=\"application/octet-stream\"]'), true ); this.parentNode.remove(); </script></treescope-run-here> </div>"
      ],
      "text/plain": [
       "<IPython.core.display.HTML object>"
      ]
     },
     "metadata": {},
     "output_type": "display_data"
    },
    {
     "data": {
      "text/html": [
       "<treescope-run-here><script type=\"application/octet-stream\"> const root = ( Array.from(document.getElementsByClassName( \"treescope_out_b6e66717e3f74600b4511f11bb82dfec\")) .filter((elt) => !elt.dataset.stolen) )[0]; root.dataset.stolen = 1; this.parentNode.replaceChild(root, this); </script></treescope-run-here>"
      ],
      "text/plain": [
       "{'a': 1,\n",
       " 'b': NotInThisPartition(),\n",
       " 'c': [{'value': <jax.Array([ 0,  1,  2,  3,  4,  5,  6,  7,  8,  9, 10, 11], dtype=int32)>},\n",
       "  {'value': NotInThisPartition()},\n",
       "  {'value': 3}]}"
      ]
     },
     "execution_count": 49,
     "metadata": {},
     "output_type": "execute_result"
    }
   ],
   "source": [
    "rest"
   ]
  },
  {
   "cell_type": "markdown",
   "metadata": {
    "id": "lIj7wg-oqv1t"
   },
   "source": [
    "You can then process the two parts independently, and then recombine them into a single object using `pz.combine`:"
   ]
  },
  {
   "cell_type": "code",
   "execution_count": 50,
   "metadata": {
    "execution": {
     "iopub.execute_input": "2024-07-16T16:57:41.289508Z",
     "iopub.status.busy": "2024-07-16T16:57:41.289213Z",
     "iopub.status.idle": "2024-07-16T16:57:41.327926Z",
     "shell.execute_reply": "2024-07-16T16:57:41.327718Z"
    },
    "id": "8SoBMXJmrBgY"
   },
   "outputs": [
    {
     "data": {
      "text/html": [
       "<script> (()=>{ if (customElements.get('treescope-container') === undefined) { class TreescopeContainer extends HTMLElement { constructor() { super(); this.attachShadow({mode: \"open\"}); this.defns = {}; this.state = {}; } } customElements.define(\"treescope-container\", TreescopeContainer); } if (customElements.get('treescope-run-here') === undefined) { class RunHere extends HTMLElement { constructor() { super() } connectedCallback() { const run = child => { const fn = new Function(child.textContent); child.textContent = \"\"; fn.call(this); this.remove(); }; const child = this.querySelector(\"script\"); if (child) { run(child); } else { new MutationObserver(()=>{ run(this.querySelector(\"script\")); }).observe(this, {childList: true}); } } } customElements.define(\"treescope-run-here\", RunHere); } })(); </script> <treescope-container class=\"treescope_out_2103d717693c44e8ace39fec8391394d\" ></treescope-container> <treescope-run-here><script type=\"application/octet-stream\"> const root = ( Array.from(document.getElementsByClassName( \"treescope_out_2103d717693c44e8ace39fec8391394d\")) .filter((elt) => !elt.dataset.setup) )[0]; root.dataset.setup = 1; const msg = document.createElement(\"span\"); msg.style = \"color: #aaaaaa; font-family: monospace; transition: opacity 0.2s; opacity: 0.0;\"; msg.textContent = \"(Loading...)\"; root.state.loadingMsg = msg; root.shadowRoot.appendChild(msg); root.state.chain = new Promise((resolve, reject) => { const observer = new IntersectionObserver((entries) => { for (const entry of entries) { if (entry.isIntersecting) { resolve(); observer.disconnect(); return; } } }, {rootMargin: \"1000px\"}); window.setTimeout(() => { if (root.loadingMsg) { root.loadingMsg.style.opacity = \"1.0\"; } observer.observe(root); }, 0); }); root.state.deferring = false; const _insertNode = (node) => { for (let oldScript of node.querySelectorAll(\"script\")) { let newScript = document.createElement(\"script\"); newScript.type = oldScript.type; newScript.textContent = oldScript.textContent; oldScript.parentNode.replaceChild(newScript, oldScript); } if (root.state.loadingMsg) { root.state.loadingMsg.remove(); root.state.loadingMsg = null; } root.shadowRoot.appendChild(node); }; root.defns.insertContent = ((contentNode, compressed) => { if (compressed) { root.state.deferring = true; } if (root.state.deferring) { root.state.chain = (async () => { await root.state.chain; if (compressed) { const encoded = contentNode.textContent; const blob = new Blob([ Uint8Array.from(atob(encoded), (m) => m.codePointAt(0)) ]); const reader = blob.stream().pipeThrough( new DecompressionStream(\"deflate\") ).pipeThrough( new TextDecoderStream(\"utf-8\") ).getReader(); const parts = []; while (true) { const step = await reader.read(); if (step.done) { break; } parts.push(step.value); } const tpl = document.createElement('template'); tpl.innerHTML = parts.join(\"\"); _insertNode(tpl.content); } else { _insertNode(contentNode.content); } })(); } else { _insertNode(contentNode.content); } }); </script></treescope-run-here><div style=\"display:none\"> <script type=\"application/octet-stream\" >eNrtWAtT27oS/iuqO3OSXIjJ+0VhrhPyogUKoYXS08mVbdkWcWRjywnhDP/9ruQkJBDSltLnvWQGJ/Ku9qHdb3f1KuQTl+yqPCAkNDyf9APP4+gf5Hsh5dRjNRQQF3M6ItvI8hhPW3hI3UkNDT3mhT42YH3sUE7S8kcN+QGsuDTkabl1mk98WGUeg2UdGwM78CJmpg3P9YJazLqNpr90FwhgP2pyp4YsyoGMccL4NvKxaVJmp11i8RrKGY4QwkjaIdR2YCWrFsU2jGMKOs/Zpl/SIxpSnbqUg+Y44t6cNk0ZDygLqZEO6Q2J307VvX21Fbvn1dw96SBiIDOAtdAIqM+RsG8ngX3fpQYWHtvyDE6E9QHBw8RuMpna2QWHgryQI5NYLEQ7iDs0VG3CT8Dbh55JkinV8UKuyvdgGuGo7xMmTNYMsatg+vhp1ZsOZqZL4DWLXHc7lqCCmj3PY7CaHHvBIIUWdfDOYEm8Wlrm1BCLPgksLxhiZhCVeeNkSp4vCEg+eIPSMdMrlM+lYB9qoeQ9rVWXMJs7aGcHZQTJWtUDwqOAgd8RcUNyp5gTMaHZ/a1Dh1pc6CcJxJdb+DwiIQlRxUxvrAbkKiIh1xgdyuNqBXhIkrFPUmKP7QeC/Ch0Yjdur7BxJmInNmONlV+ug9AiPkju2bYbZ2VfZg5Eqy/2EivE5ZuIjCDApycptJO/1QGZCKcrgSIUmhKrhovD8A0k53TfpDLfsz+EMFRmwm9T4E8Ifxnju6+2ViWASUdIbrijLMOHgjjWwVJyvaNkFOQxUAbMZkC3LuxX25oUPDMrFUi7GLAkYvRZNNRJICNFAsjLTLWSLZZA/ylBKJLbXiDA+WwxWxQEIJMEATH7PqAOcTzXXNoJl8VnCnpSaA1RjiHLBbMF5FgHZRlY8Qhc3qJlsn5sH1CbNAShkxks3idEu8jFOnFrNZ1AxpEFrQz5t71SXgyN6azAximEZrbvZFEmAVN3PYGxj8p0vBEJHko2cTAICbbhoNlD7hrzePLekoPD5K7cc3elHyRPzXCIMSBmKoX+lbrTQbCuZprRL2koMb6GEn/nirqR+JnqLTM9qmTpBygpzlEIjoJQHKDvQaUjwQq5NHw+sTIVpKC0zNjwsRh/Hql35nFyzR9KUWnYt2gQ8r7H+iL8V6TWulRSc0WRTSuPCn2z+vGJ31dRWDXEgQ29SayGTOjbb5QGeOhP9IhzaApWAdDd61VBqyDlHhU4Ehq+1cR/k2zBVO71i4kDDFFBsYt6k6HuuSE6iriw10SNmBOe/gQSIz0m+gB6vxh5h1ANHMBw6MwYB3aKQ2LOO8aXJCM+2w/DPOaWLV1GrZLhfSvj/FhhxWq4u+NUxzjsG1AHwLFzfmzxpeoxw+l1Mu/xLItcdD0a4SCZTpuY4zRmcLCyaUgtLgshohMKMJtFs9wWZUNEwGPQ5qa9iH+dKXMN4GAoMV8sayJFohd06HsBx+zB3nrgDQjri5U7MPq8dxfYFvw5O+ZbVfQVoJjZN6ArNQPCpqou9/2w5zLhM6HrQupMC+lSqhrYNZIwnEBnnPWvZTOlhhwL/rm+300T3QughZlqYnocbBdaLDovdLDoeMY4YJBS/Rlkz7xsWdjI5lcQ+tBz/jOfwYLpyCVwaWr+dCmdUSVg3g16NTmm4SBtB9ikcCDJbL5oEnsTeRCrNkEZSM+S4WzGseuDWEACuYSm/nugygPIfDaXLh3mzJhbdezIiHRd7AP4fL6B+3p0flxC3LZJGZKIXEOWmo/SPIceq0Q840QshhT0QgsCPFGtwBvC4GNEQzG0CMwO1RF2YTpKplJq6MFYJJFcjDfiqcblRIw2X1hQlARKodR8mAwdAhM0jGpkjBq9Xk9Y0xNrYn6UL2E6kxNBb8KM5H/+PS1ihigOTyxoiyMEExO0O10bTy8vChnIzjAwaigK3KRA15p4vzX2LCu3rQN+lwqbZqbaPrC1uib/usea5slv9ZMx/O+0NK2prfurDzXNHnivzW6z3hh/0LTTD4197aBbb2gt+7rbeePwsH5AiZ1v7Z3n3nRLH0Y9P6JvD4qn2f3z7sn7g9HZwQ1/O2m1Ghtn9uCU1vcyDt07jvabZvsy09G3rFHX9K9el5yrM0qPowPWdjrWO669K9UPg4LW6rJBs2S8iyK2cVK8MsLBeGS13K2ra7vpVWx9f9yuZDvaFtNOim+CYD97smHfZE7MjLZvZe3DcmPcvszZGW8SnZTLw2a2NO6cV49s2yeng0mBdPWboqEHR22ONfu4ezjew+EkPI663fOzZmusvT32ux/Md1tbG3b5tHye5xnr9dsrbVSEPd9oh2XtYKwN7ZuT3kZ00SPN8+ucVTJuDgsnnUkxqmuvb+qXfsvP085xo5m5iN4WemVm1d80O62DoUY3KqNmzmFZp7yhvx+fX447wWiv/a7BLq1m0+YbR8aF65aL1cb+uF5xqoWDg3Yv377Q7GG3eFk/rvLTNulUm/V6t53fswsnWx+Mia614Uzfv97SjttYIwcNV+vcNI/sC26X6m/to6PuXn1Aj4ukVT9v1FsGzfhO4PkMYsO/aO5lb7KDntWwuDN5zTomboUdK3M4bDcPS3VTu3r/3sc87F0MTRPTas66qRbe0curkj8MSkfeh0aPBu3haL+d75318q1mzqgfW6cbHdfz24VWOC5i+6pUoRekd+j6Z6ze6RLzICDR2VW7McyetYJBr3ddzJXOzsKxBhqlkLw94smEDOuEQPf/wL959mPT86Fm3aWkvPNSVXUNxWacs59gr/V3C468hJFtRdzxwN4QHsxAybjxWL4igxQ89UT6Atm0MRFrIcCD2EJ0WqI9wWNMOWJ4RG3MvUCFnX3dw4GpjgPKySkMJcm7vcDY6V539zBQUpPKQhsmbmBAyikdEujXkrMrugd8ARlCT/WA9XYT5TKZjKycAL5QRJNyoFgtd6HXUu6UE6PUDMHEpZWCXqIWpi4AG/eQIH4hkQ2qJYuwC2hMwWcEm6JV3Fj03fQ26TP3SKLtnF0kLd9J3K/zyu6ruJi9osyPppVGkeVL966VlZtMKx28jKscKCGZl+U6sFMAIgZ9Di0A4Yo0Iz0gE8gRZ0dRdv8BK4AB2KcqLLI/aEqVde+Vz8hefr14kaXs/vXyOlfexvFjrpJ81NBXmfQxgROfVsqKb9WU3ezy/ptLpMsdi7KLZsQPiGbtxLKsxF3Pn0Aea4gY3kl8ZRLLy8FUAs0Hkh0l6eKhbmJ55VmT/6WhKQXJCryjLIwvNfTXVeTx7cd44rcwkd6fvaD6ywAXnoTvU8t2l/117/E940FfFw/U3FHml52kUKliM1e1CMkXCgWjmsnjbLVarpiVilEoYWVNPj5v+q3Ko1V3smCjy7cv8bUqW0YAG57PJbOZTWhXVRX9ZfPtlQ7/fcNVf0K46r9TuBpfAF/fMfK+DiUNgZIf16D/jwwN4wmhYXx7aDxbrft+9f0bjvdj5tP6+v6DTxj0ecohC7Zf5ZyfAApy7P/iOoYzFStfyeG8XqkWMC7iSjmnlytGhVQrRVzOf6869mz1K/e5+rWuMm3+wtUrjsSPCXmeiadG8h3/s1a1+HH727cIPxUlntgo/JrYn/3FsD/7tFPN/g9hfwXmlJyuk1I1kyuUCyZgf7VaMHJGyTSwXqr+uthvuR4W6F/+k8E/+43gn/0/+P/CMPFHgX/uFwP/3NNONfdng/9XHukcPdZebub/HMDNfSPg5n4M4P7eLv5Jibnq8en3d+jPuMR6amzOOUw62v0vBUQw0w==</script> <treescope-run-here><script type=\"application/octet-stream\"> const root = ( Array.from(document.getElementsByClassName( \"treescope_out_2103d717693c44e8ace39fec8391394d\")) .filter((elt) => !elt.dataset['step0']) )[0]; root.dataset['step0'] = 1; root.defns.insertContent( this.parentNode.querySelector('script[type=\"application/octet-stream\"]'), true ); this.parentNode.remove(); </script></treescope-run-here> </div>"
      ],
      "text/plain": [
       "<IPython.core.display.HTML object>"
      ]
     },
     "metadata": {},
     "output_type": "display_data"
    },
    {
     "data": {
      "text/html": [
       "<div style=\"display:none\"> <script type=\"application/octet-stream\" >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</script> <treescope-run-here><script type=\"application/octet-stream\"> const root = ( Array.from(document.getElementsByClassName( \"treescope_out_2103d717693c44e8ace39fec8391394d\")) .filter((elt) => !elt.dataset['step1']) )[0]; root.dataset['step1'] = 1; root.defns.insertContent( this.parentNode.querySelector('script[type=\"application/octet-stream\"]'), true ); this.parentNode.remove(); </script></treescope-run-here> </div>"
      ],
      "text/plain": [
       "<IPython.core.display.HTML object>"
      ]
     },
     "metadata": {},
     "output_type": "display_data"
    },
    {
     "data": {
      "text/html": [
       "<treescope-run-here><script type=\"application/octet-stream\"> const root = ( Array.from(document.getElementsByClassName( \"treescope_out_2103d717693c44e8ace39fec8391394d\")) .filter((elt) => !elt.dataset.stolen) )[0]; root.dataset.stolen = 1; this.parentNode.replaceChild(root, this); </script></treescope-run-here>"
      ],
      "text/plain": [
       "{'a': 1,\n",
       " 'b': <jax.Array([100, 101, 102, 103, 104, 105, 106, 107, 108, 109], dtype=int32)>,\n",
       " 'c': [{'value': <jax.Array([ 0,  1,  2,  3,  4,  5,  6,  7,  8,  9, 10, 11], dtype=int32)>},\n",
       "  {'value': <jax.Array([100., 100., 100., 100., 100., 100., 100.], dtype=float32)>},\n",
       "  {'value': 3}]}"
      ]
     },
     "execution_count": 50,
     "metadata": {},
     "output_type": "execute_result"
    }
   ],
   "source": [
    "pz.combine(\n",
    "    jax.tree_util.tree_map(lambda x: x + 100, selected),\n",
    "    rest,\n",
    ")"
   ]
  },
  {
   "cell_type": "markdown",
   "metadata": {
    "id": "69K7pItirIuA"
   },
   "source": [
    "Partitioning and combining are inspired by `equinox.partition` and `equinox.combine`. If you're already familiar with those, the main differences are:\n",
    "- You generally don't need to use `partition` and `combine` when running JAX transformations like `jax.jit`. By convention, Penzai models store all of their static metadata in `dataclasses.field(metadata={\"pytree_node\": False})` fields which are not part of the PyTree traversal, which means partitioning isn't as strictly necessary as it is in equinox workflows. Instead, partitioning is primarily useful if you want to apply different logic to two sets of leaves, e.g. taking a gradient only with respect to a specific subset of parameters, or defining different shardings for different array subsets.\n",
    "- Penzai uses a specific sentinel `NotInThisPartition()` to identify removed nodes, rather than `None`.\n",
    "- Penzai partitions are built to support manipulation at the subtree level, rather than at the leaf level. It's OK to build and combine partitions even when neither partition is a strict PyTree prefix of the other, as long as the overlapping parts don't conflict.\n",
    "- Penzai partitions are always created with selectors, rather than being built by a standalone function.\n"
   ]
  },
  {
   "cell_type": "markdown",
   "metadata": {
    "id": "bfYZoC-ANf1Z"
   },
   "source": [
    "## Modifying selected values\n",
    "\n",
    "An important feature of selections is that they allow you to perform detailed modifications to (copies of) large trees. Selections expose a number of methods for this purpose."
   ]
  },
  {
   "cell_type": "markdown",
   "metadata": {
    "id": "Y7lQebLlwpRJ"
   },
   "source": [
    "### Replacing selected values\n",
    "The simplest modification you can make is to replace each selected subtree with another subtree or value:"
   ]
  },
  {
   "cell_type": "code",
   "execution_count": 51,
   "metadata": {
    "execution": {
     "iopub.execute_input": "2024-07-16T16:57:41.334046Z",
     "iopub.status.busy": "2024-07-16T16:57:41.333594Z",
     "iopub.status.idle": "2024-07-16T16:57:41.338231Z",
     "shell.execute_reply": "2024-07-16T16:57:41.338058Z"
    },
    "id": "Ew7gWKgMNg0h"
   },
   "outputs": [
    {
     "data": {
      "text/html": [
       "<script> (()=>{ if (customElements.get('treescope-container') === undefined) { class TreescopeContainer extends HTMLElement { constructor() { super(); this.attachShadow({mode: \"open\"}); this.defns = {}; this.state = {}; } } customElements.define(\"treescope-container\", TreescopeContainer); } if (customElements.get('treescope-run-here') === undefined) { class RunHere extends HTMLElement { constructor() { super() } connectedCallback() { const run = child => { const fn = new Function(child.textContent); child.textContent = \"\"; fn.call(this); this.remove(); }; const child = this.querySelector(\"script\"); if (child) { run(child); } else { new MutationObserver(()=>{ run(this.querySelector(\"script\")); }).observe(this, {childList: true}); } } } customElements.define(\"treescope-run-here\", RunHere); } })(); </script> <treescope-container class=\"treescope_out_542c2d3f384744b39433bb3d3cd2fcb3\" ></treescope-container> <treescope-run-here><script type=\"application/octet-stream\"> const root = ( Array.from(document.getElementsByClassName( \"treescope_out_542c2d3f384744b39433bb3d3cd2fcb3\")) .filter((elt) => !elt.dataset.setup) )[0]; root.dataset.setup = 1; const msg = document.createElement(\"span\"); msg.style = \"color: #aaaaaa; font-family: monospace; transition: opacity 0.2s; opacity: 0.0;\"; msg.textContent = \"(Loading...)\"; root.state.loadingMsg = msg; root.shadowRoot.appendChild(msg); root.state.chain = new Promise((resolve, reject) => { const observer = new IntersectionObserver((entries) => { for (const entry of entries) { if (entry.isIntersecting) { resolve(); observer.disconnect(); return; } } }, {rootMargin: \"1000px\"}); window.setTimeout(() => { if (root.loadingMsg) { root.loadingMsg.style.opacity = \"1.0\"; } observer.observe(root); }, 0); }); root.state.deferring = false; const _insertNode = (node) => { for (let oldScript of node.querySelectorAll(\"script\")) { let newScript = document.createElement(\"script\"); newScript.type = oldScript.type; newScript.textContent = oldScript.textContent; oldScript.parentNode.replaceChild(newScript, oldScript); } if (root.state.loadingMsg) { root.state.loadingMsg.remove(); root.state.loadingMsg = null; } root.shadowRoot.appendChild(node); }; root.defns.insertContent = ((contentNode, compressed) => { if (compressed) { root.state.deferring = true; } if (root.state.deferring) { root.state.chain = (async () => { await root.state.chain; if (compressed) { const encoded = contentNode.textContent; const blob = new Blob([ Uint8Array.from(atob(encoded), (m) => m.codePointAt(0)) ]); const reader = blob.stream().pipeThrough( new DecompressionStream(\"deflate\") ).pipeThrough( new TextDecoderStream(\"utf-8\") ).getReader(); const parts = []; while (true) { const step = await reader.read(); if (step.done) { break; } parts.push(step.value); } const tpl = document.createElement('template'); tpl.innerHTML = parts.join(\"\"); _insertNode(tpl.content); } else { _insertNode(contentNode.content); } })(); } else { _insertNode(contentNode.content); } }); </script></treescope-run-here><div style=\"display:none\"> <script type=\"application/octet-stream\" >eNrtWI1X2soS/1e26TkXeAoCClasnBeQL1u0iq3W3h7fJtkkK2E3bjYg3uP//mY3IKBob623H/cUzzGwmdn52JnfzOzrSI4DUs1JQUhk85CcC84l+guFPKKSclZBggRY0iHZRi5nMuviAQ3GFTTgjEchtmF95FNJsvpHBYUCVgIayazeOivHIawyzmDZwnbfEzxmTtbmAReVhHUbTX5ZARDAftSRfgW5VAIZk4TJbRRix6HMywbElRVUtH0lhJGsT6jnw0ohV1LbMIkp6HzLNvmSHdKIWjSgEjTHseS3tFnKpKAsonY2otckeTtR9+b1WuKe17fuyYqYgUwBa5EtaCiRsm8nhcMwoDZWHlvjtiTKekHwIFVNpzM7VXAoyIskcojLIrSDpE+jnEfkEXh7nzskncn5PJI5/R5MIxKdh4Qpk01b7aqYPn1e9qaNmRMQeM3iINhOJORAzR7nDFbTIy76GTSvAz+BJfVqYVlSWy2GRLhcDDCzSY7xUTqjzxcEpO+9QdmE6TVaL2ZgH+qi9B2tcwFhnvTRzg7KK5JHVRdExoKB3xEJIjJTzI+Z0uzu1pFPXan00wTqyw38PSAhDVHFHD7KCXIZk0iajA70cTUFHpB04pOM2mP7nqAwjvzEjdtLbJyK2EnMeMTKv6+D0iI5SMk9L0iy8lxnDkRrqPZSKySQq4gMIcAnJ6m0079zfTJWTjeEoRSaEOfsAEfRW0jOyb5p43bP8wGEoTEVfpMBf0L46xivvl5blgAOHSK94Y6xCB8GktgCS8nVjpE3EGegDJjNgO6xsF9ua1rxTK00IO0SwNKIcc7igUWEjhQNIC/zW68KpTLoPyGIVHJ7cwR4vVAqlBSBywMHWyCPgSIPIN4NWiQ7T1QEaodGYYDHU2S7S4iqKMAWCSoVi0DSkDkNbP3ZXiovQbdsQcHbBAXz2zNZlGnMswKuYPJBmT4fEnFfsoNFPyLYg7Ni97krjMv0nSUfR+mq3rO61A+ap2L7xO4TJ5NB/8nMdFCsy5mm9AsaapiuoNSfxZJlp36keotMDypZ/g5KqnNUgmMRqQMMORQrIpbIpdHzidWpoAVlddJFD8X480idmSfJlbwvJUejc5eKSJ5zdq7Cf0lqPZZKuWJJZdPSo0LfrH5y4ndVVFYNsPCgvUjU0Al9843SANLCsRVLCXV9GQDNXi8LWgMZd6jAkdCzLSf+kxQ2HONOy5fqYogKigPUGw8sHkToIJbKXgfVE054hmNIjOyIWH1o3zR7NABA9wGGobliEtgpjohz2/S9JHn1t30/zBNu3ZXlc1tkcNfKJD+WWLEc7macuRGOzm1o2MCxt/zYlQulZIrTj8m8w7Moct71aIhFOpt1sMRZzOBgdd3PzC8rIaqZEZhNo1lviwoRIuAx6FSzPJZfZ8qtBnAwlDgvFjXRItELOgi5kJjd29sSvE/YuVqZgdGXvTvHNufP6THf5FRrAIo55zY0lo4gbKLqYusOey4SPhO6zqXOpJAupKqNAzsN8wU0t4XwSvdDuUhixX+r7z+micWFA7ibaOJwCbYrLeadF/lYgCojLBik1PkUsqdedl1sF9aXEIbQNv51O0aJydSkcGli/mQpm89pwJzNahU9aWGR9QR2KBxIurBecoi3ijjEqkdQHtKzbPurSeyGIBaQQC+hif/uqXIPMp/NpQuHOTXmJjfydUQGAQ4BfL7cwH09Oj8sIWnbtAxNRK4gS50HaZ5Dj2UinnGoVXMGemEKgcc5V/ABzC52PFBzh8LsKDfEAQw46UwmF3GYbDSSqwlFPXNJOVHTyd8sKEYKZVDmdh6MfAJDMExbZITqvV5PWdNTa2oE1C9hwAKTbdIbMzv9v/9OipitisMTC1pSipQk5UcYgoPJ2mhy/7CRh+yMhF1BsQjSCl0r6v3aiLtucdsC/C5vrDr5rVbXM2um/nQOTZPrb7WjEfxvN02zYT72qQ1M0+vzN06nUauPPprm8cf6ntnt1Opm07vqtN/6Mqp1KfHWm7unxbed8sdhL4zpu27puLB32jn60B2edK/lu3GzWV858frHtLab9+nuYbzXcFoX+ba15g47Tnj5puxfnlB6GHdZy2+776X5vlzbFxtms8P6jbL9Po7ZylHp0o76o6HbDNYur7wGf+VZe6PWq0LbXGPmUemtEHuFoxXvOn/k5M09t+Dtb9ZHrYuil+fj+Ghzc9AolEft060DzwvJcX+8QTrWdcm2xEFLYtM77OyPdnE0jg7jTuf0pNEcme8Ow85H5/3a2oq3ebx5ui7z7pt3l+awBHu+Nfc3ze7IHHjXR72V+KxHGqdXRbdsX+9vHLXHpbhmvrmuXYTNcJ22D+uN/Fn8bqO3ydza20a72R2YdOXVsFH0WcHfXLE+jE4vRm0x3G29r7MLt9Hw5MqBfRYEm6Wt+t6o9srf2uh2W7311pnpDTqli9rhljxukfZWo1brtNZ3vY2jtY/22DJbcKYf3qyZhy1skm49MNvXjQPvTHrl2jvv4KCzW+vTwxJp1k7rtaZN86EveMggNsKzxm7hutDvuXVX+uM3rO3gZtR28/uDVmO/XHPMyw8fQiyj3tnAcTDdKrrXWxvv6cVlORyI8gH/WO9R0RoM91rrvZPeerNRtGuH7vFKO+Bha6MZjUrYuyy/omektx+EJ6zW7hCnK0h8ctmqDwonTdHv9a5KxfLJSTQyQaMM0hdAMp3SYZ1S6P4/+Heb/djhIdSsWUrqa6tcLvcIxWqSs59hr8evB3x9j6LbiqTjgb0hPJiN0knjsXjLBSl4zFX6AtmkMVFrEcCD2kJ1Wqo9wSNMJWJ4SD0sucjBzqHFsXByI0ElOYahJD3bC4yd7DW7SoGSmjbm2jB1iQJSjumAQL+Wnt6y3eMTZAA91T3Wm1VUzOfzunIC+EIRTeuBYrncuV7LmCmnRqkpgql7JwO9RE1MAwA2yZEifqGRDaoli3EAaEzBZwQ7qlVcmffd5ELoC1dBqu2c3gUt3kncrfNG9XVSzF5TFsaTSmPo8mXxK2PpJpNKBy+TKgdKaOZFuT7sJEBE/1xCC0Ckoc3I9skYcsTfMYzqX2AFMAD7RIV59ntNqfHYe+MLshdfz99FGdU/Xl4VN7dx8rhVST8q6KtM+pTCqc9LZSUXY0a1sLj/6gLpYsdiVNGU+B7RtJ1YlJWa9fwpxFldxfBO6iuTWN/vZVLodiDZMdIBHlgO1reWFf1fG5oxkK7AO8bc+FJBf1zGXG4/xJO8hYn07uwF1V8HuPIkfJ9YVl30153HPxkP1rPEg/VAPCzK8kkQcDTiInBeLBP764aJ9YQwsX6lMLH/RpgsgOePA9xPKVtF46dHUPd7hob9hNCwvz00nq3G/HN19RuO91P+8+N19TufMOjzlENWbD/LOT8BFPS4/Sz1I/HFp5Te8VlqyWNVYvUnriR3PPHEqJrxP2uFSR43v3y5/qEZ+8Si/XPicOEnw+HC00618BuH5470Nw7f88QTo+o3Dv+8GfuvwuHiT4bDxaedavE3Ds8d6eM4PL1rW//3AG7xGwG3+H0A99d28Q9KzGWPz7++Q3/E3c5TY/OWw6HD6v8BKp6gxA==</script> <treescope-run-here><script type=\"application/octet-stream\"> const root = ( Array.from(document.getElementsByClassName( \"treescope_out_542c2d3f384744b39433bb3d3cd2fcb3\")) .filter((elt) => !elt.dataset['step0']) )[0]; root.dataset['step0'] = 1; root.defns.insertContent( this.parentNode.querySelector('script[type=\"application/octet-stream\"]'), true ); this.parentNode.remove(); </script></treescope-run-here> </div>"
      ],
      "text/plain": [
       "<IPython.core.display.HTML object>"
      ]
     },
     "metadata": {},
     "output_type": "display_data"
    },
    {
     "data": {
      "text/html": [
       "<treescope-run-here><script type=\"application/octet-stream\"> const root = ( Array.from(document.getElementsByClassName( \"treescope_out_542c2d3f384744b39433bb3d3cd2fcb3\")) .filter((elt) => !elt.dataset.stolen) )[0]; root.dataset.stolen = 1; this.parentNode.replaceChild(root, this); </script></treescope-run-here>"
      ],
      "text/plain": [
       "{'a': 1,\n",
       " 'b': 'hello world!',\n",
       " 'c': [{'value': 'hello world!'}, {'value': 'hello world!'}, {'value': 3}]}"
      ]
     },
     "execution_count": 51,
     "metadata": {},
     "output_type": "execute_result"
    }
   ],
   "source": [
    "pz.select(my_nested_object).at_instances_of(jax.Array).set(\"hello world!\")"
   ]
  },
  {
   "cell_type": "markdown",
   "metadata": {
    "id": "HduHi3ifw8qn"
   },
   "source": [
    "You can optionally provide different values for each selected node:"
   ]
  },
  {
   "cell_type": "code",
   "execution_count": 52,
   "metadata": {
    "execution": {
     "iopub.execute_input": "2024-07-16T16:57:41.344447Z",
     "iopub.status.busy": "2024-07-16T16:57:41.344032Z",
     "iopub.status.idle": "2024-07-16T16:57:41.348494Z",
     "shell.execute_reply": "2024-07-16T16:57:41.348307Z"
    },
    "id": "rDlkeqI3w1-C"
   },
   "outputs": [
    {
     "data": {
      "text/html": [
       "<script> (()=>{ if (customElements.get('treescope-container') === undefined) { class TreescopeContainer extends HTMLElement { constructor() { super(); this.attachShadow({mode: \"open\"}); this.defns = {}; this.state = {}; } } customElements.define(\"treescope-container\", TreescopeContainer); } if (customElements.get('treescope-run-here') === undefined) { class RunHere extends HTMLElement { constructor() { super() } connectedCallback() { const run = child => { const fn = new Function(child.textContent); child.textContent = \"\"; fn.call(this); this.remove(); }; const child = this.querySelector(\"script\"); if (child) { run(child); } else { new MutationObserver(()=>{ run(this.querySelector(\"script\")); }).observe(this, {childList: true}); } } } customElements.define(\"treescope-run-here\", RunHere); } })(); </script> <treescope-container class=\"treescope_out_72cac0b216d74252a938a78daa3d36a5\" ></treescope-container> <treescope-run-here><script type=\"application/octet-stream\"> const root = ( Array.from(document.getElementsByClassName( \"treescope_out_72cac0b216d74252a938a78daa3d36a5\")) .filter((elt) => !elt.dataset.setup) )[0]; root.dataset.setup = 1; const msg = document.createElement(\"span\"); msg.style = \"color: #aaaaaa; font-family: monospace; transition: opacity 0.2s; opacity: 0.0;\"; msg.textContent = \"(Loading...)\"; root.state.loadingMsg = msg; root.shadowRoot.appendChild(msg); root.state.chain = new Promise((resolve, reject) => { const observer = new IntersectionObserver((entries) => { for (const entry of entries) { if (entry.isIntersecting) { resolve(); observer.disconnect(); return; } } }, {rootMargin: \"1000px\"}); window.setTimeout(() => { if (root.loadingMsg) { root.loadingMsg.style.opacity = \"1.0\"; } observer.observe(root); }, 0); }); root.state.deferring = false; const _insertNode = (node) => { for (let oldScript of node.querySelectorAll(\"script\")) { let newScript = document.createElement(\"script\"); newScript.type = oldScript.type; newScript.textContent = oldScript.textContent; oldScript.parentNode.replaceChild(newScript, oldScript); } if (root.state.loadingMsg) { root.state.loadingMsg.remove(); root.state.loadingMsg = null; } root.shadowRoot.appendChild(node); }; root.defns.insertContent = ((contentNode, compressed) => { if (compressed) { root.state.deferring = true; } if (root.state.deferring) { root.state.chain = (async () => { await root.state.chain; if (compressed) { const encoded = contentNode.textContent; const blob = new Blob([ Uint8Array.from(atob(encoded), (m) => m.codePointAt(0)) ]); const reader = blob.stream().pipeThrough( new DecompressionStream(\"deflate\") ).pipeThrough( new TextDecoderStream(\"utf-8\") ).getReader(); const parts = []; while (true) { const step = await reader.read(); if (step.done) { break; } parts.push(step.value); } const tpl = document.createElement('template'); tpl.innerHTML = parts.join(\"\"); _insertNode(tpl.content); } else { _insertNode(contentNode.content); } })(); } else { _insertNode(contentNode.content); } }); </script></treescope-run-here><div style=\"display:none\"> <script type=\"application/octet-stream\" >eNrtWItT2zgT/1dUd+aSHCQkgYQSSuZzQl60gUJoofQ6OdmWbRFbNrKcEG7437+VnCcEeqVcHzcXZnAi72of2v3trl5HYuyRak5wQiIzCEmfB4FAf6EwiKigAasgTjws6JDsIjtgImtjn3rjCvIDFkQhNmF95FJBsupHBYUcVjwaiazaOivGIayygMGygc2Bw4OYWVkz8AJeSVh30eSX4QEB7Ect4VaQTQWQMUGY2EUhtizKnKxHbFFBRdOVQhjJuoQ6LqwUciW5DROYgs4ztsmX7JBG1KAeFaA5jkUwo81SJjhlETWzEb0hyduJurevNxL3vJ65J8tjBjI5rEUmp6FA0r69FA5Dj5pYemwjMAWR1nOC/VQ1nc7sVcGhIC8SyCI2i9AeEi6Ncg4RJ+Dtw8Ai6UzODSKRU+/BNCJQPyRMmqybclfJ9OnzqjdtzCyPwGsWe95uIiEHavaCgMFqehTwQQYt6hCcwZJ8tbQsqCkXQ8LtgPuYmSTHglE6o84XBKTvvUHZhOk12ixmYB9qo/QdrXMeYY5w0d4eykuSR1XnRMScgd8R8SIyV8yNmdTs7taRS20h9VME8sst/D0gIQ1RxaxglOPkKiaR0Bn11XE1OfZJOvFJRu6xe09QGEdu4sbdFTZORewlZjxi5d/XQWqRHKQIHMdLsrKvMgeiNZR7yRXiiXVEhhDgk5OU2qnfuQEZS6drXJMKTYhzpoej6C0k52TftDbbs+9DGGpT4bcZ8CeEv4rx6uuNVQlg0SFSG+5py/ChIYENsJRc72l5DQUMlAGzGdA9FvarbU1LnqmVGqRdAlgKMfos9g3CVaQoAHmZ33lVKJVB/wlBJJPbWSDAm4VSoSQJ7MCzsAHyGCjyAOLdomWyfqIiUFs0Cj08niLbXUJURR42iFepGASShixoYKrP7kp5CbplCxLeJiiY353LokxhnuEFEiYflOkGQ8LvS7YwH0QEO3BW7D53hQUifWfJxVG6qvasrvSD4qmYLjEHxMpk0O+ZuQ6SdTXTlH5JQwXTFZT6o1gyzNSPVG+Z6UEly99BSXmOUnDMI3mAYQDFivAVcmn0fGJVKihBWZV00UMx/jxS5+YJci3uS8nRqG9THol+wPoy/Fek1mOplCuWZDatPCr0zeonJ35XRWmVj7kD7UWihkro22+UBpAWjo1YCKjrqwBo/npV0GpIu0MFjoSebTXxH6SwZWl3Wr5UF0NUUOyh3tg3Ai9CR7GQ9lqonnDCMxxDYmRHxBhA+6bYIx8A3QUYhuaKCWCnOCLWrOl7SfLyb/d+mCfcqivL53aIf9fKJD9WWLEa7uacuRGO+iY0bODYGT+2xVIpmeL0YzLv8CyLXHQ9GmKezmYtLHAWMzhYVfczi8tSiGxmOGbTaFbbokKECHgMOtVsEIuvM2WmARwMJdaLZU2USPSC+mHABWb39jZ4MCCsL1fmYPRl7y6wLfhzesy3OdkagGJW34TG0uKETVRdbt1hz2XCZ0LXhdSZFNKlVDWxZ6ZhvoDmthBeq34oFwks+Wf6/mOaGAG3AHcTTaxAgO1Si0XnRS7moMoIcwYp1Z9C9tTLto3NwuYKwhDaxr9mYxSfTE0SlybmT5ay+ZwCzPmsVlGTFuZZh2OLwoGkC5slizjrKIBYdQjKQ3qWTXc9id0QxAISqCU08d89Ve5B5rO5dOkwp8bc5kauikjPwyGAz5cbuK9H54clJG2bkqGIyDVkqfUgzXPosUrEMw61cs5AL3TO8Thn88CH2cWMfTl3SMyOckPswYCTzmRyUQCTjUJyOaHIZy4pJ3I6+ZsFRUuhDMrM5sHIJTAEw7RFRqje6/WkNT25JkdA9RIGLDDZJL0xM9N//m9SxExZHJ5Y0JJSJCVJP8IQ7E3WRpP7h608ZGfEzQqKuZeW6FqR7zdGgW0Xdw3A7/LWupXfaXUdvaarT+dY1wP1rXYygv/tpq439Mc+NV/XnUHwxuo0avXRR10//Vg/0LudWl1vOted9ltXRLUuJc5mc/+8+LZT/jjshTF91y2dFg7OOycfusOz7o14N24262tnzuCU1vbzLt0/jg8aVusy3zY27GHHCq/elN2rM0qP4y5ruW37vdDfl2uHfEtvdtigUTbfxzFbOyldmdFgNLSb3sbVtdMIXjnGwaj1qtDWN5h+UnrL+UHhZM25yZ9Yef3ALjiH2/VR67Lo5INxfLK97TcK5VH7fOfIcUJyOhhvkY5xUzINftQSWHeOO4ejfRyNo+O40zk/azRH+rvjsPPRer+xseZsn26fb4q8/ebdlT4swZ5v9cNtvTvSfefmpLcWX/RI4/y6aJfNm8Otk/a4FNf0Nze1y7AZbtL2cb2Rv4jfbfW2mV1722g3u75O114NG0WXFdztNePD6Pxy1ObD/db7Oru0Gw1HrB2ZF563XdqpH4xqr9ydrW631dtsXeiO3yld1o53xGmLtHcatVqntbnvbJ1sfDTHht6CM/3wZkM/bmGddOue3r5pHDkXwinX3jlHR5392oAel0izdl6vNU2aD10ehAxiI7xo7BduCoOeXbeFO37D2hZuRm07f+i3GoflmqVfffgQYhH1LnzLwnSnaN/sbL2nl1fl0Oflo+BjvUd5yx8etDZ7Z73NZqNo1o7t07W2F4StrWY0KmHnqvyKXpDeoReesVq7Q6wuJ/HZVavuF86afNDrXZeK5bOzaKSDRhmkLoBEOqXCOiXR/U/4N8t+bAUh1Kx5Sqprq1wu9wjFepKzn2Gvx68HXHWPotqKpOOBvSE8mInSSeOxfMsFKXgayPQFskljItcigAe5hey0ZHuCR5gKxPCQOlgEPAc7h0aAuZUbcSrIKQwl6fleYOxkr/lVCpTUtLbQhslLFJBySn0C/Vp6est2j48TH3qqe6y366iYz+dV5QTwhSKaVgPFarkLvZY2V06OUlMEk/dOGnqJmph6AGwiQJL4hUI2qJYsxh6gMQWfEWzJVnFt0XeTC6EvXAXJtnN6F7R8J3G3zmvV10kxe01ZGE8qjabKlxFcays3mVQ6eJlUOVBCMS/LdWEnDiIGfQEtABGaMiM7IGPIEXdP06p/gRXAAOwTFRbZ7zWl2mPvtS/IXn69eBelVX97eV3c3sXJY6aSelTQV5n0KYVTn1fKSi7GtGphef/1JdLljkWroinxPaJpO7EsKzXv+VMoYHUZw3upr0xidb+XSaHZQLKnpT3sGxZWt5YV9V8ZmtGQqsB72sL4UkG/XcWB2H2IJ3kLE+nd2Quqvwpw6Un4PrGsuuyvO49/Mh6MZ4kH44F4WJY1aY981aevkvvrxonxhDgxfqU4Mf9GnCyh549D3E8pU4bjp0dg93uGhvmE0DC/PTSercj8c4X1G473U/7z44X1O58w6POUQ5ZsP8s5PwEU1Lz9LAUk8cWnlNrxq4tJYZUOj5WJ9Z+4lNxxxRPDas7/rCUmedz+8vX6h6bsE6v2zwnEhZ8MiAtPO9XCf0C8cKRPBeLivw2IC98IxIX/gPgnTtl/FRAXfzIgLj7tVIv/AfHCkT4OxNPrts1/D+AWvxFwi98HcH9tF/+gxFz1+PzrO/RH3O48NTZnHBYdVv8P8iah8A==</script> <treescope-run-here><script type=\"application/octet-stream\"> const root = ( Array.from(document.getElementsByClassName( \"treescope_out_72cac0b216d74252a938a78daa3d36a5\")) .filter((elt) => !elt.dataset['step0']) )[0]; root.dataset['step0'] = 1; root.defns.insertContent( this.parentNode.querySelector('script[type=\"application/octet-stream\"]'), true ); this.parentNode.remove(); </script></treescope-run-here> </div>"
      ],
      "text/plain": [
       "<IPython.core.display.HTML object>"
      ]
     },
     "metadata": {},
     "output_type": "display_data"
    },
    {
     "data": {
      "text/html": [
       "<treescope-run-here><script type=\"application/octet-stream\"> const root = ( Array.from(document.getElementsByClassName( \"treescope_out_72cac0b216d74252a938a78daa3d36a5\")) .filter((elt) => !elt.dataset.stolen) )[0]; root.dataset.stolen = 1; this.parentNode.replaceChild(root, this); </script></treescope-run-here>"
      ],
      "text/plain": [
       "{'a': 1,\n",
       " 'b': 'replacement 0',\n",
       " 'c': [{'value': 'replacement 1'}, {'value': 'replacement 2'}, {'value': 3}]}"
      ]
     },
     "execution_count": 52,
     "metadata": {},
     "output_type": "execute_result"
    }
   ],
   "source": [
    "pz.select(my_nested_object).at_instances_of(jax.Array).set_sequence([f\"replacement {i}\" for i in range(3)])"
   ]
  },
  {
   "cell_type": "markdown",
   "metadata": {
    "id": "81cktrxfxGcm"
   },
   "source": [
    "Or provide a mapping based on the selected keypaths:"
   ]
  },
  {
   "cell_type": "code",
   "execution_count": 53,
   "metadata": {
    "execution": {
     "iopub.execute_input": "2024-07-16T16:57:41.355582Z",
     "iopub.status.busy": "2024-07-16T16:57:41.355343Z",
     "iopub.status.idle": "2024-07-16T16:57:41.359205Z",
     "shell.execute_reply": "2024-07-16T16:57:41.358933Z"
    },
    "id": "3u5yEQ1RxCsF"
   },
   "outputs": [
    {
     "data": {
      "text/html": [
       "<script> (()=>{ if (customElements.get('treescope-container') === undefined) { class TreescopeContainer extends HTMLElement { constructor() { super(); this.attachShadow({mode: \"open\"}); this.defns = {}; this.state = {}; } } customElements.define(\"treescope-container\", TreescopeContainer); } if (customElements.get('treescope-run-here') === undefined) { class RunHere extends HTMLElement { constructor() { super() } connectedCallback() { const run = child => { const fn = new Function(child.textContent); child.textContent = \"\"; fn.call(this); this.remove(); }; const child = this.querySelector(\"script\"); if (child) { run(child); } else { new MutationObserver(()=>{ run(this.querySelector(\"script\")); }).observe(this, {childList: true}); } } } customElements.define(\"treescope-run-here\", RunHere); } })(); </script> <treescope-container class=\"treescope_out_d9fc0da944b54de596f62e24193ab66e\" ></treescope-container> <treescope-run-here><script type=\"application/octet-stream\"> const root = ( Array.from(document.getElementsByClassName( \"treescope_out_d9fc0da944b54de596f62e24193ab66e\")) .filter((elt) => !elt.dataset.setup) )[0]; root.dataset.setup = 1; const msg = document.createElement(\"span\"); msg.style = \"color: #aaaaaa; font-family: monospace; transition: opacity 0.2s; opacity: 0.0;\"; msg.textContent = \"(Loading...)\"; root.state.loadingMsg = msg; root.shadowRoot.appendChild(msg); root.state.chain = new Promise((resolve, reject) => { const observer = new IntersectionObserver((entries) => { for (const entry of entries) { if (entry.isIntersecting) { resolve(); observer.disconnect(); return; } } }, {rootMargin: \"1000px\"}); window.setTimeout(() => { if (root.loadingMsg) { root.loadingMsg.style.opacity = \"1.0\"; } observer.observe(root); }, 0); }); root.state.deferring = false; const _insertNode = (node) => { for (let oldScript of node.querySelectorAll(\"script\")) { let newScript = document.createElement(\"script\"); newScript.type = oldScript.type; newScript.textContent = oldScript.textContent; oldScript.parentNode.replaceChild(newScript, oldScript); } if (root.state.loadingMsg) { root.state.loadingMsg.remove(); root.state.loadingMsg = null; } root.shadowRoot.appendChild(node); }; root.defns.insertContent = ((contentNode, compressed) => { if (compressed) { root.state.deferring = true; } if (root.state.deferring) { root.state.chain = (async () => { await root.state.chain; if (compressed) { const encoded = contentNode.textContent; const blob = new Blob([ Uint8Array.from(atob(encoded), (m) => m.codePointAt(0)) ]); const reader = blob.stream().pipeThrough( new DecompressionStream(\"deflate\") ).pipeThrough( new TextDecoderStream(\"utf-8\") ).getReader(); const parts = []; while (true) { const step = await reader.read(); if (step.done) { break; } parts.push(step.value); } const tpl = document.createElement('template'); tpl.innerHTML = parts.join(\"\"); _insertNode(tpl.content); } else { _insertNode(contentNode.content); } })(); } else { _insertNode(contentNode.content); } }); </script></treescope-run-here><div style=\"display:none\"> <script type=\"application/octet-stream\" >eNrtWAtT27oS/iuqO3OSXEhIAgklQOY6IS/aQCG0UHo6XNmWbRFbNrKcEM7w3+9KzhMCbYHTx5kTZnAi72of2v12VzuRGHmkmhOckMgMQnLBg0Cgv1AYRFTQgFUQJx4WdEC2kR0wkbWxT71RBfkBC6IQm7A+dKkgWfWjgkIOKx6NRFZtnRWjEFZZwGDZwGbf4UHMrKwZeAGvJKzbaPzL8IAA9qOWcCvIpgLImCBMbKMQWxZlTtYjtqigoulKIYxkXUIdF1YKuZLchglMQecp2/hLdkAjalCPCtAcxyKY0mYpE5yyiJrZiN6Q5O1Y3dudtcQ9O1P3ZHnMQCaHtcjkNBRI2rebwmHoURNLj60FpiDSek6wn6qm05ndKjgU5EUCWcRmEdpFwqVRziHiGLx9EFgkncm5QSRy6j2YRgS6CAmTJuum3FUyff6y7E0bM8sj8JrFnredSMiBmr0gYLCaHga8n0HzOgSnsCRfLSwLasrFkHA74D5mJsmxYJjOqPMFAel7b1A2YdpB68UM7ENtlL6jdc4jzBEu2t1FeUnyqOqciJgz8DsiXkRmirkxk5rd3TpyqS2kfopAfrmFvwckpCGqmBUMc5xcxSQSOqO+Oq4mxz5JJz7JyD227wkK48hN3Li9xMaJiN3EjEes/HYdpBbJQYrAcbwkKy9U5kC0hnIvuUI8sYrIAAJ8fJJSO/U71ycj6XSNa1KhMXHO9HAUvYPkHO+b1qZ7XvgQhtpE+G0G/Anhr2K8urO2LAEsOkBqw11tET40JLABlpLrXS2voYCBMmA2A7rHwn65rWnJM7FSg7RLAEshxgWLfYNwFSkKQF7nt94USmXQf0wQyeR25gjweqFUKEkCO/AsbIA8Boo8gHi3aJHsIlERqC0ahR4eTZDtLiGqIg8bxKtUDAJJQ+Y0MNVne6m8BN2yBQlvYxTMb89kUaYwz/ACCZMPynSDAeH3JVuY9yOCHTgrdp+7wgKRvrPk4ihdVXtWl/pB8VRMl5h9YmUy6D+ZmQ6SdTnThH5BQwXTFZT6s1gyzNTPVG+R6UElyz9ASXmOUnDMI3mAYQDFivAlcmn0cmJVKihBWZV00UMx/jJSZ+YJci3uS8nR6MKmPBIXAbuQ4b8ktR5LpVyxJLNp6VGhZ6ufnPhdFaVVPuYOtBeJGiqhb58pDSAtHBmxEFDXlwHQ7PWyoNWQdocKHAk923LiP0lhw9LutHypLoaooNhDvZFvBF6EDmMh7bVQPeGEZziCxMgOidGH9k2xRz4AugswDM0VE8BOcUSsadP3muTl3/b9ME+4VVeWz20R/66VSX4ssWI53M04c0McXZjQsIFjp/zYFgulZILTj8m8w7Moct71aIB5Opu1sMBZzOBgVd3PzC9LIbKZ4ZhNolltiwoRIuAx6FSzQSy+z5SpBnAwlFivFjVRItEr6ocBF5jd29vgQZ+wC7kyA6Ove3eObc6fk2O+zcnWABSzLkxoLC1O2FjVxdYd9lwkfCF0nUudcSFdSFUTe2Ya5gtobgvhteqHcpHAkn+q79+miRFwC3A30cQKBNgutZh3XuRiDqoMMWeQUhcTyJ542baxWVhfQhhC2/jXdIzi46lJ4tLY/PFSNp9TgDmb1Spq0sI863BsUTiQdGG9ZBFnFQUQqw5BeUjPsumuJrEbglhAArWExv67p8o9yHwxly4c5sSY29zQVRHpeTgE8Pl6A/f96PywhKRtUzIUEbmGLLUepHkJPZaJeMGhVs4Z6JXOOR7lbB74MLuYsS/nDonZUW6APRhw0plMLgpgslFILicU+cwl5UROJ99YULQUyqDMdB6MXAJDMExbZIjqvV5PWtOTa3IEVC9hwAKTTdIbMTP9v/+Oi5gpi8MTC1pSiqQk6UcYgr3x2nB8/7CRh+yMuFlBMffSEl0r8v3aMLDt4rYB+F3eWLXyW62uo9d09ekc6XqgvtWOh/C/3dT1hv7Yp+brutMP3lqdRq0+/KTrJ5/q+3q3U6vrTee6037niqjWpcRZb+6dFd91yp8GvTCm77ulk8L+Wef4Y3dw2r0R70fNZn3l1Omf0Npe3qV7R/F+w2pd5tvGmj3oWOHV27J7dUrpUdxlLbdtfxD6h3LtgG/ozQ7rN8rmhzhmK8elKzPqDwd201u7unYawRvH2B+23hTa+hrTj0vvON8vHK84N/ljK6/v2wXnYLM+bF0WnXwwio83N/1GoTxsn20dOk5ITvqjDdIxbkqmwQ9bAuvOUedguIejUXQUdzpnp43mUH9/FHY+WR/W1laczZPNs3WRt9++v9IHJdjznX6wqXeHuu/cHPdW4vMeaZxdF+2yeXOwcdweleKa/vamdhk2w3XaPqo38ufx+43eJrNr7xrtZtfX6cqbQaPosoK7uWJ8HJ5dDtt8sNf6UGeXdqPhiJVD89zzNktb9f1h7Y27tdHttnrrrXPd8Tuly9rRljhpkfZWo1brtNb3nI3jtU/myNBbcKYf367pRy2sk27d09s3jUPnXDjl2nvn8LCzV+vToxJp1s7qtaZJ86HLg5BBbITnjb3CTaHfs+u2cEdvWdvCzaht5w/8VuOgXLP0q48fQyyi3rlvWZhuFe2brY0P9PKqHPq8fBh8qvcob/mD/dZ677S33mwUzdqRfbLS9oKwtdGMhiXsXJXf0HPSO/DCU1Zrd4jV5SQ+vWrV/cJpk/d7vetSsXx6Gg110CiD1AWQSKdUWKckuv8P/k2zH1tBCDVrlpLq2iqXyz1CsZrk7BfY6/HrAVfdo6i2Iul4YG8ID2aidNJ4LN5yQQqeBDJ9gWzcmMi1COBBbiE7Ldme4CGmAjE8oA4WAc/BzqERYG7lhpwKcgJDSXq2Fxg73mt2lQIlNa3NtWHyEgWknFCfQL+Wntyy3ePjxIee6h7r7Soq5vN5VTkBfKGIptVAsVzuXK+lzZSTo9QEweS9k4ZeoyamHgCbCJAkfqWQDaoli7EHaEzBZwRbslVcmffd+ELoK1dBsu2c3AUt3kncrfNadScpZjuUhfG40miqfBnBtbZ0k3Glg5dJlQMlFPOiXBd24iCifyGgBSBCU2Zk+2QEOeLualr1L7ACGIB9rMI8+72mVHvsvfYV2Yuv5++itOofr6+Lm9s4eUxVUo8K+i6TPqdw6stSWcnFmFYtLO6/ukC62LFoVTQhvkc0aScWZaVmPX8KBawuY3g39Z1JrO73Mik0HUh2tbSHfcPC6tayov4rQzMaUhV4V5sbXyroj6s4ENsP8SRvYSK9O3tB9VcBLj0J38eWVRf9defxd8aD8SLxYDwQD4uy9GWyft/YMJ4QG8bvFBvmN8TGAmI+B2Wfhq6fU6YMvc+PQOyPDAnzCSFhPj8kXqyg/H1F9BnH+zn/5fEi+oNPGPR5yiFLtl/lnJ8ABmq2fpFikfjic0rt+E2Fo7ZM7mMlYfUXLht3zH9iKM34X7ScJI/b3742/9Q0fWKF/jXBt/CLgW/haada+Bd85470e8C3/k8D38IzwbfwL/j+wmn6jwLf4i8GvsWnnWrxX/CdO9LHwXdyhbb+zwHc4jMBt/hjAPf3dvFPSsxljy+/v0N/xi3OU2NzymHRQfX/jiKRLA==</script> <treescope-run-here><script type=\"application/octet-stream\"> const root = ( Array.from(document.getElementsByClassName( \"treescope_out_d9fc0da944b54de596f62e24193ab66e\")) .filter((elt) => !elt.dataset['step0']) )[0]; root.dataset['step0'] = 1; root.defns.insertContent( this.parentNode.querySelector('script[type=\"application/octet-stream\"]'), true ); this.parentNode.remove(); </script></treescope-run-here> </div>"
      ],
      "text/plain": [
       "<IPython.core.display.HTML object>"
      ]
     },
     "metadata": {},
     "output_type": "display_data"
    },
    {
     "data": {
      "text/html": [
       "<treescope-run-here><script type=\"application/octet-stream\"> const root = ( Array.from(document.getElementsByClassName( \"treescope_out_d9fc0da944b54de596f62e24193ab66e\")) .filter((elt) => !elt.dataset.stolen) )[0]; root.dataset.stolen = 1; this.parentNode.replaceChild(root, this); </script></treescope-run-here>"
      ],
      "text/plain": [
       "{'a': 1, 'b': 'A', 'c': [{'value': 'B'}, {'value': 'C'}, {'value': 3}]}"
      ]
     },
     "execution_count": 53,
     "metadata": {},
     "output_type": "execute_result"
    }
   ],
   "source": [
    "pz.select(my_nested_object).at_instances_of(jax.Array).set_by_path({\n",
    "    (jax.tree_util.DictKey(key='b'),): \"A\",\n",
    "    (jax.tree_util.DictKey(key='c'), jax.tree_util.SequenceKey(idx=0), jax.tree_util.DictKey(key='value')): \"B\",\n",
    "    (jax.tree_util.DictKey(key='c'), jax.tree_util.SequenceKey(idx=1), jax.tree_util.DictKey(key='value')): \"C\",\n",
    "})"
   ]
  },
  {
   "cell_type": "markdown",
   "metadata": {
    "id": "wIWQ8ChOeMQe"
   },
   "source": [
    "`set_by_path` accepts the same input as is produced by `get_by_path`, which can be convenient for modifying some values and then putting them back, or for taking gradients with respect to only a subset of values:"
   ]
  },
  {
   "cell_type": "code",
   "execution_count": 54,
   "metadata": {
    "execution": {
     "iopub.execute_input": "2024-07-16T16:57:41.365928Z",
     "iopub.status.busy": "2024-07-16T16:57:41.365584Z",
     "iopub.status.idle": "2024-07-16T16:57:41.370027Z",
     "shell.execute_reply": "2024-07-16T16:57:41.369824Z"
    },
    "id": "A4FdZZuHeWYO"
   },
   "outputs": [
    {
     "data": {
      "text/html": [
       "<script> (()=>{ if (customElements.get('treescope-container') === undefined) { class TreescopeContainer extends HTMLElement { constructor() { super(); this.attachShadow({mode: \"open\"}); this.defns = {}; this.state = {}; } } customElements.define(\"treescope-container\", TreescopeContainer); } if (customElements.get('treescope-run-here') === undefined) { class RunHere extends HTMLElement { constructor() { super() } connectedCallback() { const run = child => { const fn = new Function(child.textContent); child.textContent = \"\"; fn.call(this); this.remove(); }; const child = this.querySelector(\"script\"); if (child) { run(child); } else { new MutationObserver(()=>{ run(this.querySelector(\"script\")); }).observe(this, {childList: true}); } } } customElements.define(\"treescope-run-here\", RunHere); } })(); </script> <treescope-container class=\"treescope_out_19ca05d057be47faa035e93e36d68dbb\" ></treescope-container> <treescope-run-here><script type=\"application/octet-stream\"> const root = ( Array.from(document.getElementsByClassName( \"treescope_out_19ca05d057be47faa035e93e36d68dbb\")) .filter((elt) => !elt.dataset.setup) )[0]; root.dataset.setup = 1; const msg = document.createElement(\"span\"); msg.style = \"color: #aaaaaa; font-family: monospace; transition: opacity 0.2s; opacity: 0.0;\"; msg.textContent = \"(Loading...)\"; root.state.loadingMsg = msg; root.shadowRoot.appendChild(msg); root.state.chain = new Promise((resolve, reject) => { const observer = new IntersectionObserver((entries) => { for (const entry of entries) { if (entry.isIntersecting) { resolve(); observer.disconnect(); return; } } }, {rootMargin: \"1000px\"}); window.setTimeout(() => { if (root.loadingMsg) { root.loadingMsg.style.opacity = \"1.0\"; } observer.observe(root); }, 0); }); root.state.deferring = false; const _insertNode = (node) => { for (let oldScript of node.querySelectorAll(\"script\")) { let newScript = document.createElement(\"script\"); newScript.type = oldScript.type; newScript.textContent = oldScript.textContent; oldScript.parentNode.replaceChild(newScript, oldScript); } if (root.state.loadingMsg) { root.state.loadingMsg.remove(); root.state.loadingMsg = null; } root.shadowRoot.appendChild(node); }; root.defns.insertContent = ((contentNode, compressed) => { if (compressed) { root.state.deferring = true; } if (root.state.deferring) { root.state.chain = (async () => { await root.state.chain; if (compressed) { const encoded = contentNode.textContent; const blob = new Blob([ Uint8Array.from(atob(encoded), (m) => m.codePointAt(0)) ]); const reader = blob.stream().pipeThrough( new DecompressionStream(\"deflate\") ).pipeThrough( new TextDecoderStream(\"utf-8\") ).getReader(); const parts = []; while (true) { const step = await reader.read(); if (step.done) { break; } parts.push(step.value); } const tpl = document.createElement('template'); tpl.innerHTML = parts.join(\"\"); _insertNode(tpl.content); } else { _insertNode(contentNode.content); } })(); } else { _insertNode(contentNode.content); } }); </script></treescope-run-here><div style=\"display:none\"> <script type=\"application/octet-stream\" >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</script> <treescope-run-here><script type=\"application/octet-stream\"> const root = ( Array.from(document.getElementsByClassName( \"treescope_out_19ca05d057be47faa035e93e36d68dbb\")) .filter((elt) => !elt.dataset['step0']) )[0]; root.dataset['step0'] = 1; root.defns.insertContent( this.parentNode.querySelector('script[type=\"application/octet-stream\"]'), true ); this.parentNode.remove(); </script></treescope-run-here> </div>"
      ],
      "text/plain": [
       "<IPython.core.display.HTML object>"
      ]
     },
     "metadata": {},
     "output_type": "display_data"
    },
    {
     "data": {
      "text/html": [
       "<treescope-run-here><script type=\"application/octet-stream\"> const root = ( Array.from(document.getElementsByClassName( \"treescope_out_19ca05d057be47faa035e93e36d68dbb\")) .filter((elt) => !elt.dataset.stolen) )[0]; root.dataset.stolen = 1; this.parentNode.replaceChild(root, this); </script></treescope-run-here>"
      ],
      "text/plain": [
       "{'a': 1,\n",
       " 'b': 'A JAX array: [0 1 2 3 4 5 6 7 8 9]',\n",
       " 'c': [{'value': 'A JAX array: [ 0  1  2  3  4  5  6  7  8  9 10 11]'},\n",
       "  {'value': 'A JAX array: [0. 0. 0. 0. 0. 0. 0.]'},\n",
       "  {'value': 3}]}"
      ]
     },
     "execution_count": 54,
     "metadata": {},
     "output_type": "execute_result"
    }
   ],
   "source": [
    "selection = pz.select(my_nested_object).at_instances_of(jax.Array)\n",
    "selection.set_by_path(\n",
    "    {key: f\"A JAX array: {value}\" for key, value in selection.get_by_path().items()}\n",
    ")"
   ]
  },
  {
   "cell_type": "code",
   "execution_count": 55,
   "metadata": {
    "execution": {
     "iopub.execute_input": "2024-07-16T16:57:41.374235Z",
     "iopub.status.busy": "2024-07-16T16:57:41.373954Z",
     "iopub.status.idle": "2024-07-16T16:57:41.844501Z",
     "shell.execute_reply": "2024-07-16T16:57:41.844301Z"
    },
    "id": "YEpc6lCxel42"
   },
   "outputs": [
    {
     "data": {
      "text/html": [
       "<script> (()=>{ if (customElements.get('treescope-container') === undefined) { class TreescopeContainer extends HTMLElement { constructor() { super(); this.attachShadow({mode: \"open\"}); this.defns = {}; this.state = {}; } } customElements.define(\"treescope-container\", TreescopeContainer); } if (customElements.get('treescope-run-here') === undefined) { class RunHere extends HTMLElement { constructor() { super() } connectedCallback() { const run = child => { const fn = new Function(child.textContent); child.textContent = \"\"; fn.call(this); this.remove(); }; const child = this.querySelector(\"script\"); if (child) { run(child); } else { new MutationObserver(()=>{ run(this.querySelector(\"script\")); }).observe(this, {childList: true}); } } } customElements.define(\"treescope-run-here\", RunHere); } })(); </script> <treescope-container class=\"treescope_out_a14a2553439b4470b1a346ef149c874e\" ></treescope-container> <treescope-run-here><script type=\"application/octet-stream\"> const root = ( Array.from(document.getElementsByClassName( \"treescope_out_a14a2553439b4470b1a346ef149c874e\")) .filter((elt) => !elt.dataset.setup) )[0]; root.dataset.setup = 1; const msg = document.createElement(\"span\"); msg.style = \"color: #aaaaaa; font-family: monospace; transition: opacity 0.2s; opacity: 0.0;\"; msg.textContent = \"(Loading...)\"; root.state.loadingMsg = msg; root.shadowRoot.appendChild(msg); root.state.chain = new Promise((resolve, reject) => { const observer = new IntersectionObserver((entries) => { for (const entry of entries) { if (entry.isIntersecting) { resolve(); observer.disconnect(); return; } } }, {rootMargin: \"1000px\"}); window.setTimeout(() => { if (root.loadingMsg) { root.loadingMsg.style.opacity = \"1.0\"; } observer.observe(root); }, 0); }); root.state.deferring = false; const _insertNode = (node) => { for (let oldScript of node.querySelectorAll(\"script\")) { let newScript = document.createElement(\"script\"); newScript.type = oldScript.type; newScript.textContent = oldScript.textContent; oldScript.parentNode.replaceChild(newScript, oldScript); } if (root.state.loadingMsg) { root.state.loadingMsg.remove(); root.state.loadingMsg = null; } root.shadowRoot.appendChild(node); }; root.defns.insertContent = ((contentNode, compressed) => { if (compressed) { root.state.deferring = true; } if (root.state.deferring) { root.state.chain = (async () => { await root.state.chain; if (compressed) { const encoded = contentNode.textContent; const blob = new Blob([ Uint8Array.from(atob(encoded), (m) => m.codePointAt(0)) ]); const reader = blob.stream().pipeThrough( new DecompressionStream(\"deflate\") ).pipeThrough( new TextDecoderStream(\"utf-8\") ).getReader(); const parts = []; while (true) { const step = await reader.read(); if (step.done) { break; } parts.push(step.value); } const tpl = document.createElement('template'); tpl.innerHTML = parts.join(\"\"); _insertNode(tpl.content); } else { _insertNode(contentNode.content); } })(); } else { _insertNode(contentNode.content); } }); </script></treescope-run-here><div style=\"display:none\"> <script type=\"application/octet-stream\" >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</script> <treescope-run-here><script type=\"application/octet-stream\"> const root = ( Array.from(document.getElementsByClassName( \"treescope_out_a14a2553439b4470b1a346ef149c874e\")) .filter((elt) => !elt.dataset['step0']) )[0]; root.dataset['step0'] = 1; root.defns.insertContent( this.parentNode.querySelector('script[type=\"application/octet-stream\"]'), true ); this.parentNode.remove(); </script></treescope-run-here> </div>"
      ],
      "text/plain": [
       "<IPython.core.display.HTML object>"
      ]
     },
     "metadata": {},
     "output_type": "display_data"
    },
    {
     "data": {
      "text/html": [
       "<div style=\"display:none\"> <script type=\"application/octet-stream\" >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</script> <treescope-run-here><script type=\"application/octet-stream\"> const root = ( Array.from(document.getElementsByClassName( \"treescope_out_a14a2553439b4470b1a346ef149c874e\")) .filter((elt) => !elt.dataset['step1']) )[0]; root.dataset['step1'] = 1; root.defns.insertContent( this.parentNode.querySelector('script[type=\"application/octet-stream\"]'), true ); this.parentNode.remove(); </script></treescope-run-here> </div>"
      ],
      "text/plain": [
       "<IPython.core.display.HTML object>"
      ]
     },
     "metadata": {},
     "output_type": "display_data"
    },
    {
     "data": {
      "text/html": [
       "<treescope-run-here><script type=\"application/octet-stream\"> const root = ( Array.from(document.getElementsByClassName( \"treescope_out_a14a2553439b4470b1a346ef149c874e\")) .filter((elt) => !elt.dataset.stolen) )[0]; root.dataset.stolen = 1; this.parentNode.replaceChild(root, this); </script></treescope-run-here>"
      ],
      "text/plain": [
       "OrderedDict([((DictKey(key='b'),),\n",
       "              <jax.Array([ 0.,  2.,  4.,  6.,  8., 10., 12., 14., 16., 18.], dtype=float32)>),\n",
       "             ((DictKey(key='c'), SequenceKey(idx=0), DictKey(key='value')),\n",
       "              <jax.Array([1., 1., 1., 1., 1., 1., 1., 1., 1., 1., 1., 1.], dtype=float32)>),\n",
       "             ((DictKey(key='c'), SequenceKey(idx=1), DictKey(key='value')),\n",
       "              <jax.Array([0., 0., 0., 0., 0., 0., 0.], dtype=float32)>)])"
      ]
     },
     "execution_count": 55,
     "metadata": {},
     "output_type": "execute_result"
    }
   ],
   "source": [
    "def my_loss(obj):\n",
    "  return obj[\"a\"] + jnp.sum(obj[\"b\"]**2) + jnp.sum(obj[\"c\"][0][\"value\"])\n",
    "\n",
    "my_float_object = jax.tree_util.tree_map(lambda leaf: jnp.array(leaf, dtype=jnp.float32), my_nested_object)\n",
    "\n",
    "# Take gradients w.r.t. non-scalars only, ignoring my_float_object[\"a\"] and my_float_object[\"c\"][2][\"value\"]\n",
    "gradient_selection = pz.select(my_float_object).at_instances_of(jax.Array).where(lambda arr: arr.size > 1)\n",
    "\n",
    "jax.grad(\n",
    "    # Swap in the version of the values that JAX is taking gradients for:\n",
    "    lambda vectors_by_path: my_loss(gradient_selection.set_by_path(vectors_by_path))\n",
    ")(gradient_selection.get_by_path())"
   ]
  },
  {
   "cell_type": "markdown",
   "metadata": {
    "id": "bkZAwu42ftwC"
   },
   "source": [
    "You can also use `select_and_set_by_path` to infer the selection from the input paths instead:"
   ]
  },
  {
   "cell_type": "code",
   "execution_count": 56,
   "metadata": {
    "execution": {
     "iopub.execute_input": "2024-07-16T16:57:41.850012Z",
     "iopub.status.busy": "2024-07-16T16:57:41.849714Z",
     "iopub.status.idle": "2024-07-16T16:57:41.874109Z",
     "shell.execute_reply": "2024-07-16T16:57:41.873922Z"
    },
    "id": "73vXA1ZvfxFK"
   },
   "outputs": [
    {
     "data": {
      "text/html": [
       "<script> (()=>{ if (customElements.get('treescope-container') === undefined) { class TreescopeContainer extends HTMLElement { constructor() { super(); this.attachShadow({mode: \"open\"}); this.defns = {}; this.state = {}; } } customElements.define(\"treescope-container\", TreescopeContainer); } if (customElements.get('treescope-run-here') === undefined) { class RunHere extends HTMLElement { constructor() { super() } connectedCallback() { const run = child => { const fn = new Function(child.textContent); child.textContent = \"\"; fn.call(this); this.remove(); }; const child = this.querySelector(\"script\"); if (child) { run(child); } else { new MutationObserver(()=>{ run(this.querySelector(\"script\")); }).observe(this, {childList: true}); } } } customElements.define(\"treescope-run-here\", RunHere); } })(); </script> <treescope-container class=\"treescope_out_e9ffbd7b8c0341a9918134251e05c4a2\" ></treescope-container> <treescope-run-here><script type=\"application/octet-stream\"> const root = ( Array.from(document.getElementsByClassName( \"treescope_out_e9ffbd7b8c0341a9918134251e05c4a2\")) .filter((elt) => !elt.dataset.setup) )[0]; root.dataset.setup = 1; const msg = document.createElement(\"span\"); msg.style = \"color: #aaaaaa; font-family: monospace; transition: opacity 0.2s; opacity: 0.0;\"; msg.textContent = \"(Loading...)\"; root.state.loadingMsg = msg; root.shadowRoot.appendChild(msg); root.state.chain = new Promise((resolve, reject) => { const observer = new IntersectionObserver((entries) => { for (const entry of entries) { if (entry.isIntersecting) { resolve(); observer.disconnect(); return; } } }, {rootMargin: \"1000px\"}); window.setTimeout(() => { if (root.loadingMsg) { root.loadingMsg.style.opacity = \"1.0\"; } observer.observe(root); }, 0); }); root.state.deferring = false; const _insertNode = (node) => { for (let oldScript of node.querySelectorAll(\"script\")) { let newScript = document.createElement(\"script\"); newScript.type = oldScript.type; newScript.textContent = oldScript.textContent; oldScript.parentNode.replaceChild(newScript, oldScript); } if (root.state.loadingMsg) { root.state.loadingMsg.remove(); root.state.loadingMsg = null; } root.shadowRoot.appendChild(node); }; root.defns.insertContent = ((contentNode, compressed) => { if (compressed) { root.state.deferring = true; } if (root.state.deferring) { root.state.chain = (async () => { await root.state.chain; if (compressed) { const encoded = contentNode.textContent; const blob = new Blob([ Uint8Array.from(atob(encoded), (m) => m.codePointAt(0)) ]); const reader = blob.stream().pipeThrough( new DecompressionStream(\"deflate\") ).pipeThrough( new TextDecoderStream(\"utf-8\") ).getReader(); const parts = []; while (true) { const step = await reader.read(); if (step.done) { break; } parts.push(step.value); } const tpl = document.createElement('template'); tpl.innerHTML = parts.join(\"\"); _insertNode(tpl.content); } else { _insertNode(contentNode.content); } })(); } else { _insertNode(contentNode.content); } }); </script></treescope-run-here><div style=\"display:none\"> <script type=\"application/octet-stream\" >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</script> <treescope-run-here><script type=\"application/octet-stream\"> const root = ( Array.from(document.getElementsByClassName( \"treescope_out_e9ffbd7b8c0341a9918134251e05c4a2\")) .filter((elt) => !elt.dataset['step0']) )[0]; root.dataset['step0'] = 1; root.defns.insertContent( this.parentNode.querySelector('script[type=\"application/octet-stream\"]'), true ); this.parentNode.remove(); </script></treescope-run-here> </div>"
      ],
      "text/plain": [
       "<IPython.core.display.HTML object>"
      ]
     },
     "metadata": {},
     "output_type": "display_data"
    },
    {
     "data": {
      "text/html": [
       "<div style=\"display:none\"> <script type=\"application/octet-stream\" >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</script> <treescope-run-here><script type=\"application/octet-stream\"> const root = ( Array.from(document.getElementsByClassName( \"treescope_out_e9ffbd7b8c0341a9918134251e05c4a2\")) .filter((elt) => !elt.dataset['step1']) )[0]; root.dataset['step1'] = 1; root.defns.insertContent( this.parentNode.querySelector('script[type=\"application/octet-stream\"]'), true ); this.parentNode.remove(); </script></treescope-run-here> </div>"
      ],
      "text/plain": [
       "<IPython.core.display.HTML object>"
      ]
     },
     "metadata": {},
     "output_type": "display_data"
    },
    {
     "data": {
      "text/html": [
       "<treescope-run-here><script type=\"application/octet-stream\"> const root = ( Array.from(document.getElementsByClassName( \"treescope_out_e9ffbd7b8c0341a9918134251e05c4a2\")) .filter((elt) => !elt.dataset.stolen) )[0]; root.dataset.stolen = 1; this.parentNode.replaceChild(root, this); </script></treescope-run-here>"
      ],
      "text/plain": [
       "OrderedDict([((DictKey(key='b'),),\n",
       "              <jax.Array([ 0.,  2.,  4.,  6.,  8., 10., 12., 14., 16., 18.], dtype=float32)>),\n",
       "             ((DictKey(key='c'), SequenceKey(idx=0), DictKey(key='value')),\n",
       "              <jax.Array([1., 1., 1., 1., 1., 1., 1., 1., 1., 1., 1., 1.], dtype=float32)>),\n",
       "             ((DictKey(key='c'), SequenceKey(idx=1), DictKey(key='value')),\n",
       "              <jax.Array([0., 0., 0., 0., 0., 0., 0.], dtype=float32)>)])"
      ]
     },
     "execution_count": 56,
     "metadata": {},
     "output_type": "execute_result"
    }
   ],
   "source": [
    "def my_loss(obj):\n",
    "  return obj[\"a\"] + jnp.sum(obj[\"b\"]**2) + jnp.sum(obj[\"c\"][0][\"value\"])\n",
    "\n",
    "my_float_object = jax.tree_util.tree_map(lambda leaf: jnp.array(leaf, dtype=jnp.float32), my_nested_object)\n",
    "\n",
    "# Take gradients w.r.t. non-scalars only, ignoring my_float_object[\"a\"] and my_float_object[\"c\"][2][\"value\"]\n",
    "# No need to store the gradient selection itself, since it can be inferred from vectors_by_path.\n",
    "vectors_by_path = pz.select(my_float_object).at_instances_of(jax.Array).where(lambda arr: arr.size > 1).get_by_path()\n",
    "\n",
    "jax.grad(\n",
    "    lambda vectors_by_path: my_loss(pz.select(my_float_object).select_and_set_by_path(vectors_by_path))\n",
    ")(vectors_by_path)"
   ]
  },
  {
   "cell_type": "markdown",
   "metadata": {
    "id": "p91fKstrxqoe"
   },
   "source": [
    "### Applying functions to selected values\n",
    "\n",
    "You can use `.apply` to apply a function to every selected object, similar to `jax.tree_util.tree_map` except that it applies to the selected subtrees rather than to the leaves:"
   ]
  },
  {
   "cell_type": "code",
   "execution_count": 57,
   "metadata": {
    "execution": {
     "iopub.execute_input": "2024-07-16T16:57:41.882272Z",
     "iopub.status.busy": "2024-07-16T16:57:41.882038Z",
     "iopub.status.idle": "2024-07-16T16:57:41.968353Z",
     "shell.execute_reply": "2024-07-16T16:57:41.968168Z"
    },
    "id": "PrRQyM58xbOE"
   },
   "outputs": [
    {
     "data": {
      "text/html": [
       "<script> (()=>{ if (customElements.get('treescope-container') === undefined) { class TreescopeContainer extends HTMLElement { constructor() { super(); this.attachShadow({mode: \"open\"}); this.defns = {}; this.state = {}; } } customElements.define(\"treescope-container\", TreescopeContainer); } if (customElements.get('treescope-run-here') === undefined) { class RunHere extends HTMLElement { constructor() { super() } connectedCallback() { const run = child => { const fn = new Function(child.textContent); child.textContent = \"\"; fn.call(this); this.remove(); }; const child = this.querySelector(\"script\"); if (child) { run(child); } else { new MutationObserver(()=>{ run(this.querySelector(\"script\")); }).observe(this, {childList: true}); } } } customElements.define(\"treescope-run-here\", RunHere); } })(); </script> <treescope-container class=\"treescope_out_9268db199350482f93df2389a39ad3cf\" ></treescope-container> <treescope-run-here><script type=\"application/octet-stream\"> const root = ( Array.from(document.getElementsByClassName( \"treescope_out_9268db199350482f93df2389a39ad3cf\")) .filter((elt) => !elt.dataset.setup) )[0]; root.dataset.setup = 1; const msg = document.createElement(\"span\"); msg.style = \"color: #aaaaaa; font-family: monospace; transition: opacity 0.2s; opacity: 0.0;\"; msg.textContent = \"(Loading...)\"; root.state.loadingMsg = msg; root.shadowRoot.appendChild(msg); root.state.chain = new Promise((resolve, reject) => { const observer = new IntersectionObserver((entries) => { for (const entry of entries) { if (entry.isIntersecting) { resolve(); observer.disconnect(); return; } } }, {rootMargin: \"1000px\"}); window.setTimeout(() => { if (root.loadingMsg) { root.loadingMsg.style.opacity = \"1.0\"; } observer.observe(root); }, 0); }); root.state.deferring = false; const _insertNode = (node) => { for (let oldScript of node.querySelectorAll(\"script\")) { let newScript = document.createElement(\"script\"); newScript.type = oldScript.type; newScript.textContent = oldScript.textContent; oldScript.parentNode.replaceChild(newScript, oldScript); } if (root.state.loadingMsg) { root.state.loadingMsg.remove(); root.state.loadingMsg = null; } root.shadowRoot.appendChild(node); }; root.defns.insertContent = ((contentNode, compressed) => { if (compressed) { root.state.deferring = true; } if (root.state.deferring) { root.state.chain = (async () => { await root.state.chain; if (compressed) { const encoded = contentNode.textContent; const blob = new Blob([ Uint8Array.from(atob(encoded), (m) => m.codePointAt(0)) ]); const reader = blob.stream().pipeThrough( new DecompressionStream(\"deflate\") ).pipeThrough( new TextDecoderStream(\"utf-8\") ).getReader(); const parts = []; while (true) { const step = await reader.read(); if (step.done) { break; } parts.push(step.value); } const tpl = document.createElement('template'); tpl.innerHTML = parts.join(\"\"); _insertNode(tpl.content); } else { _insertNode(contentNode.content); } })(); } else { _insertNode(contentNode.content); } }); </script></treescope-run-here><div style=\"display:none\"> <script type=\"application/octet-stream\" >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</script> <treescope-run-here><script type=\"application/octet-stream\"> const root = ( Array.from(document.getElementsByClassName( \"treescope_out_9268db199350482f93df2389a39ad3cf\")) .filter((elt) => !elt.dataset['step0']) )[0]; root.dataset['step0'] = 1; root.defns.insertContent( this.parentNode.querySelector('script[type=\"application/octet-stream\"]'), true ); this.parentNode.remove(); </script></treescope-run-here> </div>"
      ],
      "text/plain": [
       "<IPython.core.display.HTML object>"
      ]
     },
     "metadata": {},
     "output_type": "display_data"
    },
    {
     "data": {
      "text/html": [
       "<div style=\"display:none\"> <script type=\"application/octet-stream\" >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</script> <treescope-run-here><script type=\"application/octet-stream\"> const root = ( Array.from(document.getElementsByClassName( \"treescope_out_9268db199350482f93df2389a39ad3cf\")) .filter((elt) => !elt.dataset['step1']) )[0]; root.dataset['step1'] = 1; root.defns.insertContent( this.parentNode.querySelector('script[type=\"application/octet-stream\"]'), true ); this.parentNode.remove(); </script></treescope-run-here> </div>"
      ],
      "text/plain": [
       "<IPython.core.display.HTML object>"
      ]
     },
     "metadata": {},
     "output_type": "display_data"
    },
    {
     "data": {
      "text/html": [
       "<treescope-run-here><script type=\"application/octet-stream\"> const root = ( Array.from(document.getElementsByClassName( \"treescope_out_9268db199350482f93df2389a39ad3cf\")) .filter((elt) => !elt.dataset.stolen) )[0]; root.dataset.stolen = 1; this.parentNode.replaceChild(root, this); </script></treescope-run-here>"
      ],
      "text/plain": [
       "{'a': 1,\n",
       " 'b': <jax.Array([100, 101, 104, 109, 116, 125, 136, 149, 164, 181], dtype=int32)>,\n",
       " 'c': [{'value': <jax.Array([100, 101, 104, 109, 116, 125, 136, 149, 164, 181, 200, 221], dtype=int32)>},\n",
       "  {'value': <jax.Array([100., 100., 100., 100., 100., 100., 100.], dtype=float32)>},\n",
       "  {'value': 3}]}"
      ]
     },
     "execution_count": 57,
     "metadata": {},
     "output_type": "execute_result"
    }
   ],
   "source": [
    "pz.select(my_nested_object).at_instances_of(jax.Array).apply(lambda x: x**2 + 100)"
   ]
  },
  {
   "cell_type": "markdown",
   "metadata": {
    "id": "CNBv2zCFysUP"
   },
   "source": [
    "You can also do `apply(fn, with_keypath=True)` to get access to the key paths as well:"
   ]
  },
  {
   "cell_type": "code",
   "execution_count": 58,
   "metadata": {
    "execution": {
     "iopub.execute_input": "2024-07-16T16:57:41.975268Z",
     "iopub.status.busy": "2024-07-16T16:57:41.975036Z",
     "iopub.status.idle": "2024-07-16T16:57:41.979850Z",
     "shell.execute_reply": "2024-07-16T16:57:41.979618Z"
    },
    "id": "8sT0FJ2yypAd"
   },
   "outputs": [
    {
     "data": {
      "text/html": [
       "<script> (()=>{ if (customElements.get('treescope-container') === undefined) { class TreescopeContainer extends HTMLElement { constructor() { super(); this.attachShadow({mode: \"open\"}); this.defns = {}; this.state = {}; } } customElements.define(\"treescope-container\", TreescopeContainer); } if (customElements.get('treescope-run-here') === undefined) { class RunHere extends HTMLElement { constructor() { super() } connectedCallback() { const run = child => { const fn = new Function(child.textContent); child.textContent = \"\"; fn.call(this); this.remove(); }; const child = this.querySelector(\"script\"); if (child) { run(child); } else { new MutationObserver(()=>{ run(this.querySelector(\"script\")); }).observe(this, {childList: true}); } } } customElements.define(\"treescope-run-here\", RunHere); } })(); </script> <treescope-container class=\"treescope_out_9151947f274a439aa673a2485c45e4c1\" ></treescope-container> <treescope-run-here><script type=\"application/octet-stream\"> const root = ( Array.from(document.getElementsByClassName( \"treescope_out_9151947f274a439aa673a2485c45e4c1\")) .filter((elt) => !elt.dataset.setup) )[0]; root.dataset.setup = 1; const msg = document.createElement(\"span\"); msg.style = \"color: #aaaaaa; font-family: monospace; transition: opacity 0.2s; opacity: 0.0;\"; msg.textContent = \"(Loading...)\"; root.state.loadingMsg = msg; root.shadowRoot.appendChild(msg); root.state.chain = new Promise((resolve, reject) => { const observer = new IntersectionObserver((entries) => { for (const entry of entries) { if (entry.isIntersecting) { resolve(); observer.disconnect(); return; } } }, {rootMargin: \"1000px\"}); window.setTimeout(() => { if (root.loadingMsg) { root.loadingMsg.style.opacity = \"1.0\"; } observer.observe(root); }, 0); }); root.state.deferring = false; const _insertNode = (node) => { for (let oldScript of node.querySelectorAll(\"script\")) { let newScript = document.createElement(\"script\"); newScript.type = oldScript.type; newScript.textContent = oldScript.textContent; oldScript.parentNode.replaceChild(newScript, oldScript); } if (root.state.loadingMsg) { root.state.loadingMsg.remove(); root.state.loadingMsg = null; } root.shadowRoot.appendChild(node); }; root.defns.insertContent = ((contentNode, compressed) => { if (compressed) { root.state.deferring = true; } if (root.state.deferring) { root.state.chain = (async () => { await root.state.chain; if (compressed) { const encoded = contentNode.textContent; const blob = new Blob([ Uint8Array.from(atob(encoded), (m) => m.codePointAt(0)) ]); const reader = blob.stream().pipeThrough( new DecompressionStream(\"deflate\") ).pipeThrough( new TextDecoderStream(\"utf-8\") ).getReader(); const parts = []; while (true) { const step = await reader.read(); if (step.done) { break; } parts.push(step.value); } const tpl = document.createElement('template'); tpl.innerHTML = parts.join(\"\"); _insertNode(tpl.content); } else { _insertNode(contentNode.content); } })(); } else { _insertNode(contentNode.content); } }); </script></treescope-run-here><div style=\"display:none\"> <script type=\"application/octet-stream\" >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</script> <treescope-run-here><script type=\"application/octet-stream\"> const root = ( Array.from(document.getElementsByClassName( \"treescope_out_9151947f274a439aa673a2485c45e4c1\")) .filter((elt) => !elt.dataset['step0']) )[0]; root.dataset['step0'] = 1; root.defns.insertContent( this.parentNode.querySelector('script[type=\"application/octet-stream\"]'), true ); this.parentNode.remove(); </script></treescope-run-here> </div>"
      ],
      "text/plain": [
       "<IPython.core.display.HTML object>"
      ]
     },
     "metadata": {},
     "output_type": "display_data"
    },
    {
     "data": {
      "text/html": [
       "<treescope-run-here><script type=\"application/octet-stream\"> const root = ( Array.from(document.getElementsByClassName( \"treescope_out_9151947f274a439aa673a2485c45e4c1\")) .filter((elt) => !elt.dataset.stolen) )[0]; root.dataset.stolen = 1; this.parentNode.replaceChild(root, this); </script></treescope-run-here>"
      ],
      "text/plain": [
       "{'a': 1,\n",
       " 'b': \"key=(DictKey(key='b'),), value=[0 1 2 3 4 5 6 7 8 9]\",\n",
       " 'c': [{'value': \"key=(DictKey(key='c'), SequenceKey(idx=0), DictKey(key='value')), value=[ 0  1  2  3  4  5  6  7  8  9 10 11]\"},\n",
       "  {'value': \"key=(DictKey(key='c'), SequenceKey(idx=1), DictKey(key='value')), value=[0. 0. 0. 0. 0. 0. 0.]\"},\n",
       "  {'value': 3}]}"
      ]
     },
     "execution_count": 58,
     "metadata": {},
     "output_type": "execute_result"
    }
   ],
   "source": [
    "(\n",
    "    pz.select(my_nested_object)\n",
    "    .at_instances_of(jax.Array)\n",
    "    .apply(lambda key, value: f\"key={key}, value={value}\", with_keypath=True)\n",
    ")"
   ]
  },
  {
   "cell_type": "markdown",
   "metadata": {
    "id": "-RZGXU2ey_B7"
   },
   "source": [
    "By default, applying a function also removes the selection. If you want to do further processing, you can pass `keep_selected=True` to replace the values but keep them selected:"
   ]
  },
  {
   "cell_type": "code",
   "execution_count": 59,
   "metadata": {
    "execution": {
     "iopub.execute_input": "2024-07-16T16:57:41.989798Z",
     "iopub.status.busy": "2024-07-16T16:57:41.989489Z",
     "iopub.status.idle": "2024-07-16T16:57:41.999655Z",
     "shell.execute_reply": "2024-07-16T16:57:41.999347Z"
    },
    "id": "CtTI_jwXy9il"
   },
   "outputs": [
    {
     "data": {
      "text/html": [
       "<script> (()=>{ if (customElements.get('treescope-container') === undefined) { class TreescopeContainer extends HTMLElement { constructor() { super(); this.attachShadow({mode: \"open\"}); this.defns = {}; this.state = {}; } } customElements.define(\"treescope-container\", TreescopeContainer); } if (customElements.get('treescope-run-here') === undefined) { class RunHere extends HTMLElement { constructor() { super() } connectedCallback() { const run = child => { const fn = new Function(child.textContent); child.textContent = \"\"; fn.call(this); this.remove(); }; const child = this.querySelector(\"script\"); if (child) { run(child); } else { new MutationObserver(()=>{ run(this.querySelector(\"script\")); }).observe(this, {childList: true}); } } } customElements.define(\"treescope-run-here\", RunHere); } })(); </script> <treescope-container class=\"treescope_out_151199bc68f945f4aa797df1139588a6\" ></treescope-container> <treescope-run-here><script type=\"application/octet-stream\"> const root = ( Array.from(document.getElementsByClassName( \"treescope_out_151199bc68f945f4aa797df1139588a6\")) .filter((elt) => !elt.dataset.setup) )[0]; root.dataset.setup = 1; const msg = document.createElement(\"span\"); msg.style = \"color: #aaaaaa; font-family: monospace; transition: opacity 0.2s; opacity: 0.0;\"; msg.textContent = \"(Loading...)\"; root.state.loadingMsg = msg; root.shadowRoot.appendChild(msg); root.state.chain = new Promise((resolve, reject) => { const observer = new IntersectionObserver((entries) => { for (const entry of entries) { if (entry.isIntersecting) { resolve(); observer.disconnect(); return; } } }, {rootMargin: \"1000px\"}); window.setTimeout(() => { if (root.loadingMsg) { root.loadingMsg.style.opacity = \"1.0\"; } observer.observe(root); }, 0); }); root.state.deferring = false; const _insertNode = (node) => { for (let oldScript of node.querySelectorAll(\"script\")) { let newScript = document.createElement(\"script\"); newScript.type = oldScript.type; newScript.textContent = oldScript.textContent; oldScript.parentNode.replaceChild(newScript, oldScript); } if (root.state.loadingMsg) { root.state.loadingMsg.remove(); root.state.loadingMsg = null; } root.shadowRoot.appendChild(node); }; root.defns.insertContent = ((contentNode, compressed) => { if (compressed) { root.state.deferring = true; } if (root.state.deferring) { root.state.chain = (async () => { await root.state.chain; if (compressed) { const encoded = contentNode.textContent; const blob = new Blob([ Uint8Array.from(atob(encoded), (m) => m.codePointAt(0)) ]); const reader = blob.stream().pipeThrough( new DecompressionStream(\"deflate\") ).pipeThrough( new TextDecoderStream(\"utf-8\") ).getReader(); const parts = []; while (true) { const step = await reader.read(); if (step.done) { break; } parts.push(step.value); } const tpl = document.createElement('template'); tpl.innerHTML = parts.join(\"\"); _insertNode(tpl.content); } else { _insertNode(contentNode.content); } })(); } else { _insertNode(contentNode.content); } }); </script></treescope-run-here><div style=\"display:none\"> <script type=\"application/octet-stream\" >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</script> <treescope-run-here><script type=\"application/octet-stream\"> const root = ( Array.from(document.getElementsByClassName( \"treescope_out_151199bc68f945f4aa797df1139588a6\")) .filter((elt) => !elt.dataset['step0']) )[0]; root.dataset['step0'] = 1; root.defns.insertContent( this.parentNode.querySelector('script[type=\"application/octet-stream\"]'), true ); this.parentNode.remove(); </script></treescope-run-here> </div>"
      ],
      "text/plain": [
       "<IPython.core.display.HTML object>"
      ]
     },
     "metadata": {},
     "output_type": "display_data"
    },
    {
     "data": {
      "text/html": [
       "<treescope-run-here><script type=\"application/octet-stream\"> const root = ( Array.from(document.getElementsByClassName( \"treescope_out_151199bc68f945f4aa797df1139588a6\")) .filter((elt) => !elt.dataset.stolen) )[0]; root.dataset.stolen = 1; this.parentNode.replaceChild(root, this); </script></treescope-run-here>"
      ],
      "text/plain": [
       "Selection(\n",
       "  selected_by_path=OrderedDict({\n",
       "    (DictKey(key='b'),):\n",
       "      \"key=(DictKey(key='b'),), value=[0 1 2 3 4 5 6 7 8 9]\",\n",
       "    (DictKey(key='c'), SequenceKey(idx=0), DictKey(key='value')):\n",
       "      \"key=(DictKey(key='c'), SequenceKey(idx=0), DictKey(key='value')), value=[ 0  1  2  3  4  5  6  7  8  9 10 11]\",\n",
       "    (DictKey(key='c'), SequenceKey(idx=1), DictKey(key='value')):\n",
       "      \"key=(DictKey(key='c'), SequenceKey(idx=1), DictKey(key='value')), value=[0. 0. 0. 0. 0. 0. 0.]\",\n",
       "  }),\n",
       "  remainder={'a': 1, 'b': SelectionHole(path=(DictKey(key='b'),)), 'c': [{'value': SelectionHole(path=(DictKey(key='c'), SequenceKey(idx=0), DictKey(key='value')))}, {'value': SelectionHole(path=(DictKey(key='c'), SequenceKey(idx=1), DictKey(key='value')))}, {'value': 3}]},\n",
       ")"
      ]
     },
     "execution_count": 59,
     "metadata": {},
     "output_type": "execute_result"
    }
   ],
   "source": [
    "(\n",
    "    pz.select(my_nested_object)\n",
    "    .at_instances_of(jax.Array)\n",
    "    .apply(lambda key, value: f\"key={key}, value={value}\", with_keypath=True, keep_selected=True)\n",
    ")"
   ]
  },
  {
   "cell_type": "markdown",
   "metadata": {
    "id": "YJujHVUOzmtm"
   },
   "source": [
    "Sometimes, it's also useful to pass the index of the selected node relative to the *selection* (e.g. \"this is the third selected node\") instead of the absolute keypath. For this, theres `.apply_with_selected_index`:"
   ]
  },
  {
   "cell_type": "code",
   "execution_count": 60,
   "metadata": {
    "execution": {
     "iopub.execute_input": "2024-07-16T16:57:42.008842Z",
     "iopub.status.busy": "2024-07-16T16:57:42.008561Z",
     "iopub.status.idle": "2024-07-16T16:57:42.018113Z",
     "shell.execute_reply": "2024-07-16T16:57:42.017913Z"
    },
    "id": "xLrWVjiazLVS"
   },
   "outputs": [
    {
     "data": {
      "text/html": [
       "<script> (()=>{ if (customElements.get('treescope-container') === undefined) { class TreescopeContainer extends HTMLElement { constructor() { super(); this.attachShadow({mode: \"open\"}); this.defns = {}; this.state = {}; } } customElements.define(\"treescope-container\", TreescopeContainer); } if (customElements.get('treescope-run-here') === undefined) { class RunHere extends HTMLElement { constructor() { super() } connectedCallback() { const run = child => { const fn = new Function(child.textContent); child.textContent = \"\"; fn.call(this); this.remove(); }; const child = this.querySelector(\"script\"); if (child) { run(child); } else { new MutationObserver(()=>{ run(this.querySelector(\"script\")); }).observe(this, {childList: true}); } } } customElements.define(\"treescope-run-here\", RunHere); } })(); </script> <treescope-container class=\"treescope_out_a0dc108979244569abece9a74795a287\" ></treescope-container> <treescope-run-here><script type=\"application/octet-stream\"> const root = ( Array.from(document.getElementsByClassName( \"treescope_out_a0dc108979244569abece9a74795a287\")) .filter((elt) => !elt.dataset.setup) )[0]; root.dataset.setup = 1; const msg = document.createElement(\"span\"); msg.style = \"color: #aaaaaa; font-family: monospace; transition: opacity 0.2s; opacity: 0.0;\"; msg.textContent = \"(Loading...)\"; root.state.loadingMsg = msg; root.shadowRoot.appendChild(msg); root.state.chain = new Promise((resolve, reject) => { const observer = new IntersectionObserver((entries) => { for (const entry of entries) { if (entry.isIntersecting) { resolve(); observer.disconnect(); return; } } }, {rootMargin: \"1000px\"}); window.setTimeout(() => { if (root.loadingMsg) { root.loadingMsg.style.opacity = \"1.0\"; } observer.observe(root); }, 0); }); root.state.deferring = false; const _insertNode = (node) => { for (let oldScript of node.querySelectorAll(\"script\")) { let newScript = document.createElement(\"script\"); newScript.type = oldScript.type; newScript.textContent = oldScript.textContent; oldScript.parentNode.replaceChild(newScript, oldScript); } if (root.state.loadingMsg) { root.state.loadingMsg.remove(); root.state.loadingMsg = null; } root.shadowRoot.appendChild(node); }; root.defns.insertContent = ((contentNode, compressed) => { if (compressed) { root.state.deferring = true; } if (root.state.deferring) { root.state.chain = (async () => { await root.state.chain; if (compressed) { const encoded = contentNode.textContent; const blob = new Blob([ Uint8Array.from(atob(encoded), (m) => m.codePointAt(0)) ]); const reader = blob.stream().pipeThrough( new DecompressionStream(\"deflate\") ).pipeThrough( new TextDecoderStream(\"utf-8\") ).getReader(); const parts = []; while (true) { const step = await reader.read(); if (step.done) { break; } parts.push(step.value); } const tpl = document.createElement('template'); tpl.innerHTML = parts.join(\"\"); _insertNode(tpl.content); } else { _insertNode(contentNode.content); } })(); } else { _insertNode(contentNode.content); } }); </script></treescope-run-here><div style=\"display:none\"> <script type=\"application/octet-stream\" >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</script> <treescope-run-here><script type=\"application/octet-stream\"> const root = ( Array.from(document.getElementsByClassName( \"treescope_out_a0dc108979244569abece9a74795a287\")) .filter((elt) => !elt.dataset['step0']) )[0]; root.dataset['step0'] = 1; root.defns.insertContent( this.parentNode.querySelector('script[type=\"application/octet-stream\"]'), true ); this.parentNode.remove(); </script></treescope-run-here> </div>"
      ],
      "text/plain": [
       "<IPython.core.display.HTML object>"
      ]
     },
     "metadata": {},
     "output_type": "display_data"
    },
    {
     "data": {
      "text/html": [
       "<treescope-run-here><script type=\"application/octet-stream\"> const root = ( Array.from(document.getElementsByClassName( \"treescope_out_a0dc108979244569abece9a74795a287\")) .filter((elt) => !elt.dataset.stolen) )[0]; root.dataset.stolen = 1; this.parentNode.replaceChild(root, this); </script></treescope-run-here>"
      ],
      "text/plain": [
       "Selection(\n",
       "  selected_by_path=OrderedDict({\n",
       "    (DictKey(key='b'),):\n",
       "      'index=0, value=[0 1 2 3 4 5 6 7 8 9]',\n",
       "    (DictKey(key='c'), SequenceKey(idx=0), DictKey(key='value')):\n",
       "      'index=1, value=[ 0  1  2  3  4  5  6  7  8  9 10 11]',\n",
       "    (DictKey(key='c'), SequenceKey(idx=1), DictKey(key='value')):\n",
       "      'index=2, value=[0. 0. 0. 0. 0. 0. 0.]',\n",
       "  }),\n",
       "  remainder={'a': 1, 'b': SelectionHole(path=(DictKey(key='b'),)), 'c': [{'value': SelectionHole(path=(DictKey(key='c'), SequenceKey(idx=0), DictKey(key='value')))}, {'value': SelectionHole(path=(DictKey(key='c'), SequenceKey(idx=1), DictKey(key='value')))}, {'value': 3}]},\n",
       ")"
      ]
     },
     "execution_count": 60,
     "metadata": {},
     "output_type": "execute_result"
    }
   ],
   "source": [
    "(\n",
    "    pz.select(my_nested_object)\n",
    "    .at_instances_of(jax.Array)\n",
    "    .apply_with_selected_index(lambda index, value: f\"index={index}, value={value}\", keep_selected=True)\n",
    ")"
   ]
  },
  {
   "cell_type": "markdown",
   "metadata": {
    "id": "zpbos5v2z9BI"
   },
   "source": [
    "### Manipulating selected elements of lists and tuples"
   ]
  },
  {
   "cell_type": "markdown",
   "metadata": {
    "id": "iqvDVZkn0GSq"
   },
   "source": [
    "When the selected nodes are elements of a list or tuple, there are a few other options for selector manipulation. For instance, you can insert values before or after the selected nodes:"
   ]
  },
  {
   "cell_type": "code",
   "execution_count": 61,
   "metadata": {
    "execution": {
     "iopub.execute_input": "2024-07-16T16:57:42.026119Z",
     "iopub.status.busy": "2024-07-16T16:57:42.025670Z",
     "iopub.status.idle": "2024-07-16T16:57:42.030432Z",
     "shell.execute_reply": "2024-07-16T16:57:42.030570Z"
    },
    "id": "Ptualckcz45d"
   },
   "outputs": [
    {
     "data": {
      "text/html": [
       "<script> (()=>{ if (customElements.get('treescope-container') === undefined) { class TreescopeContainer extends HTMLElement { constructor() { super(); this.attachShadow({mode: \"open\"}); this.defns = {}; this.state = {}; } } customElements.define(\"treescope-container\", TreescopeContainer); } if (customElements.get('treescope-run-here') === undefined) { class RunHere extends HTMLElement { constructor() { super() } connectedCallback() { const run = child => { const fn = new Function(child.textContent); child.textContent = \"\"; fn.call(this); this.remove(); }; const child = this.querySelector(\"script\"); if (child) { run(child); } else { new MutationObserver(()=>{ run(this.querySelector(\"script\")); }).observe(this, {childList: true}); } } } customElements.define(\"treescope-run-here\", RunHere); } })(); </script> <treescope-container class=\"treescope_out_0aa27cd408a947b5a5e740c3875abad9\" ></treescope-container> <treescope-run-here><script type=\"application/octet-stream\"> const root = ( Array.from(document.getElementsByClassName( \"treescope_out_0aa27cd408a947b5a5e740c3875abad9\")) .filter((elt) => !elt.dataset.setup) )[0]; root.dataset.setup = 1; const msg = document.createElement(\"span\"); msg.style = \"color: #aaaaaa; font-family: monospace; transition: opacity 0.2s; opacity: 0.0;\"; msg.textContent = \"(Loading...)\"; root.state.loadingMsg = msg; root.shadowRoot.appendChild(msg); root.state.chain = new Promise((resolve, reject) => { const observer = new IntersectionObserver((entries) => { for (const entry of entries) { if (entry.isIntersecting) { resolve(); observer.disconnect(); return; } } }, {rootMargin: \"1000px\"}); window.setTimeout(() => { if (root.loadingMsg) { root.loadingMsg.style.opacity = \"1.0\"; } observer.observe(root); }, 0); }); root.state.deferring = false; const _insertNode = (node) => { for (let oldScript of node.querySelectorAll(\"script\")) { let newScript = document.createElement(\"script\"); newScript.type = oldScript.type; newScript.textContent = oldScript.textContent; oldScript.parentNode.replaceChild(newScript, oldScript); } if (root.state.loadingMsg) { root.state.loadingMsg.remove(); root.state.loadingMsg = null; } root.shadowRoot.appendChild(node); }; root.defns.insertContent = ((contentNode, compressed) => { if (compressed) { root.state.deferring = true; } if (root.state.deferring) { root.state.chain = (async () => { await root.state.chain; if (compressed) { const encoded = contentNode.textContent; const blob = new Blob([ Uint8Array.from(atob(encoded), (m) => m.codePointAt(0)) ]); const reader = blob.stream().pipeThrough( new DecompressionStream(\"deflate\") ).pipeThrough( new TextDecoderStream(\"utf-8\") ).getReader(); const parts = []; while (true) { const step = await reader.read(); if (step.done) { break; } parts.push(step.value); } const tpl = document.createElement('template'); tpl.innerHTML = parts.join(\"\"); _insertNode(tpl.content); } else { _insertNode(contentNode.content); } })(); } else { _insertNode(contentNode.content); } }); </script></treescope-run-here><div style=\"display:none\"> <script type=\"application/octet-stream\" >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</script> <treescope-run-here><script type=\"application/octet-stream\"> const root = ( Array.from(document.getElementsByClassName( \"treescope_out_0aa27cd408a947b5a5e740c3875abad9\")) .filter((elt) => !elt.dataset['step0']) )[0]; root.dataset['step0'] = 1; root.defns.insertContent( this.parentNode.querySelector('script[type=\"application/octet-stream\"]'), true ); this.parentNode.remove(); </script></treescope-run-here> </div>"
      ],
      "text/plain": [
       "<IPython.core.display.HTML object>"
      ]
     },
     "metadata": {},
     "output_type": "display_data"
    },
    {
     "data": {
      "text/html": [
       "<treescope-run-here><script type=\"application/octet-stream\"> const root = ( Array.from(document.getElementsByClassName( \"treescope_out_0aa27cd408a947b5a5e740c3875abad9\")) .filter((elt) => !elt.dataset.stolen) )[0]; root.dataset.stolen = 1; this.parentNode.replaceChild(root, this); </script></treescope-run-here>"
      ],
      "text/plain": [
       "{'a': ['before a multiple of 4',\n",
       "  0,\n",
       "  1,\n",
       "  2,\n",
       "  3,\n",
       "  'before a multiple of 4',\n",
       "  4,\n",
       "  5,\n",
       "  6,\n",
       "  7,\n",
       "  'before a multiple of 4',\n",
       "  8,\n",
       "  9],\n",
       " 'b': [10,\n",
       "  11,\n",
       "  'before a multiple of 4',\n",
       "  12,\n",
       "  13,\n",
       "  14,\n",
       "  15,\n",
       "  'before a multiple of 4',\n",
       "  16,\n",
       "  17,\n",
       "  18,\n",
       "  19]}"
      ]
     },
     "execution_count": 61,
     "metadata": {},
     "output_type": "execute_result"
    }
   ],
   "source": [
    "(\n",
    "    pz.select({\"a\": list(range(10)), \"b\": list(range(10, 20))})\n",
    "      .at_instances_of(int)\n",
    "      .where(lambda x: x % 4 == 0)\n",
    "      .insert_before(\"before a multiple of 4\")\n",
    ")"
   ]
  },
  {
   "cell_type": "code",
   "execution_count": 62,
   "metadata": {
    "execution": {
     "iopub.execute_input": "2024-07-16T16:57:42.037911Z",
     "iopub.status.busy": "2024-07-16T16:57:42.037633Z",
     "iopub.status.idle": "2024-07-16T16:57:42.042490Z",
     "shell.execute_reply": "2024-07-16T16:57:42.042299Z"
    },
    "id": "tIf27Qx40hP3"
   },
   "outputs": [
    {
     "data": {
      "text/html": [
       "<script> (()=>{ if (customElements.get('treescope-container') === undefined) { class TreescopeContainer extends HTMLElement { constructor() { super(); this.attachShadow({mode: \"open\"}); this.defns = {}; this.state = {}; } } customElements.define(\"treescope-container\", TreescopeContainer); } if (customElements.get('treescope-run-here') === undefined) { class RunHere extends HTMLElement { constructor() { super() } connectedCallback() { const run = child => { const fn = new Function(child.textContent); child.textContent = \"\"; fn.call(this); this.remove(); }; const child = this.querySelector(\"script\"); if (child) { run(child); } else { new MutationObserver(()=>{ run(this.querySelector(\"script\")); }).observe(this, {childList: true}); } } } customElements.define(\"treescope-run-here\", RunHere); } })(); </script> <treescope-container class=\"treescope_out_6bca6ae5a50a4d069eed9ea74b9908fc\" ></treescope-container> <treescope-run-here><script type=\"application/octet-stream\"> const root = ( Array.from(document.getElementsByClassName( \"treescope_out_6bca6ae5a50a4d069eed9ea74b9908fc\")) .filter((elt) => !elt.dataset.setup) )[0]; root.dataset.setup = 1; const msg = document.createElement(\"span\"); msg.style = \"color: #aaaaaa; font-family: monospace; transition: opacity 0.2s; opacity: 0.0;\"; msg.textContent = \"(Loading...)\"; root.state.loadingMsg = msg; root.shadowRoot.appendChild(msg); root.state.chain = new Promise((resolve, reject) => { const observer = new IntersectionObserver((entries) => { for (const entry of entries) { if (entry.isIntersecting) { resolve(); observer.disconnect(); return; } } }, {rootMargin: \"1000px\"}); window.setTimeout(() => { if (root.loadingMsg) { root.loadingMsg.style.opacity = \"1.0\"; } observer.observe(root); }, 0); }); root.state.deferring = false; const _insertNode = (node) => { for (let oldScript of node.querySelectorAll(\"script\")) { let newScript = document.createElement(\"script\"); newScript.type = oldScript.type; newScript.textContent = oldScript.textContent; oldScript.parentNode.replaceChild(newScript, oldScript); } if (root.state.loadingMsg) { root.state.loadingMsg.remove(); root.state.loadingMsg = null; } root.shadowRoot.appendChild(node); }; root.defns.insertContent = ((contentNode, compressed) => { if (compressed) { root.state.deferring = true; } if (root.state.deferring) { root.state.chain = (async () => { await root.state.chain; if (compressed) { const encoded = contentNode.textContent; const blob = new Blob([ Uint8Array.from(atob(encoded), (m) => m.codePointAt(0)) ]); const reader = blob.stream().pipeThrough( new DecompressionStream(\"deflate\") ).pipeThrough( new TextDecoderStream(\"utf-8\") ).getReader(); const parts = []; while (true) { const step = await reader.read(); if (step.done) { break; } parts.push(step.value); } const tpl = document.createElement('template'); tpl.innerHTML = parts.join(\"\"); _insertNode(tpl.content); } else { _insertNode(contentNode.content); } })(); } else { _insertNode(contentNode.content); } }); </script></treescope-run-here><div style=\"display:none\"> <script type=\"application/octet-stream\" >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</script> <treescope-run-here><script type=\"application/octet-stream\"> const root = ( Array.from(document.getElementsByClassName( \"treescope_out_6bca6ae5a50a4d069eed9ea74b9908fc\")) .filter((elt) => !elt.dataset['step0']) )[0]; root.dataset['step0'] = 1; root.defns.insertContent( this.parentNode.querySelector('script[type=\"application/octet-stream\"]'), true ); this.parentNode.remove(); </script></treescope-run-here> </div>"
      ],
      "text/plain": [
       "<IPython.core.display.HTML object>"
      ]
     },
     "metadata": {},
     "output_type": "display_data"
    },
    {
     "data": {
      "text/html": [
       "<treescope-run-here><script type=\"application/octet-stream\"> const root = ( Array.from(document.getElementsByClassName( \"treescope_out_6bca6ae5a50a4d069eed9ea74b9908fc\")) .filter((elt) => !elt.dataset.stolen) )[0]; root.dataset.stolen = 1; this.parentNode.replaceChild(root, this); </script></treescope-run-here>"
      ],
      "text/plain": [
       "{'a': [0,\n",
       "  'after a multiple of 4',\n",
       "  1,\n",
       "  2,\n",
       "  3,\n",
       "  4,\n",
       "  'after a multiple of 4',\n",
       "  5,\n",
       "  6,\n",
       "  7,\n",
       "  8,\n",
       "  'after a multiple of 4',\n",
       "  9],\n",
       " 'b': [10,\n",
       "  11,\n",
       "  12,\n",
       "  'after a multiple of 4',\n",
       "  13,\n",
       "  14,\n",
       "  15,\n",
       "  16,\n",
       "  'after a multiple of 4',\n",
       "  17,\n",
       "  18,\n",
       "  19]}"
      ]
     },
     "execution_count": 62,
     "metadata": {},
     "output_type": "execute_result"
    }
   ],
   "source": [
    "(\n",
    "    pz.select({\"a\": list(range(10)), \"b\": list(range(10, 20))})\n",
    "      .at_instances_of(int)\n",
    "      .where(lambda x: x % 4 == 0)\n",
    "      .insert_after(\"after a multiple of 4\")\n",
    ")"
   ]
  },
  {
   "cell_type": "markdown",
   "metadata": {
    "id": "BFg6JxQq0tMW"
   },
   "source": [
    "You can also just remove the selected nodes:"
   ]
  },
  {
   "cell_type": "code",
   "execution_count": 63,
   "metadata": {
    "execution": {
     "iopub.execute_input": "2024-07-16T16:57:42.049275Z",
     "iopub.status.busy": "2024-07-16T16:57:42.049025Z",
     "iopub.status.idle": "2024-07-16T16:57:42.053919Z",
     "shell.execute_reply": "2024-07-16T16:57:42.053717Z"
    },
    "id": "PzLdrjdq0raZ"
   },
   "outputs": [
    {
     "data": {
      "text/html": [
       "<script> (()=>{ if (customElements.get('treescope-container') === undefined) { class TreescopeContainer extends HTMLElement { constructor() { super(); this.attachShadow({mode: \"open\"}); this.defns = {}; this.state = {}; } } customElements.define(\"treescope-container\", TreescopeContainer); } if (customElements.get('treescope-run-here') === undefined) { class RunHere extends HTMLElement { constructor() { super() } connectedCallback() { const run = child => { const fn = new Function(child.textContent); child.textContent = \"\"; fn.call(this); this.remove(); }; const child = this.querySelector(\"script\"); if (child) { run(child); } else { new MutationObserver(()=>{ run(this.querySelector(\"script\")); }).observe(this, {childList: true}); } } } customElements.define(\"treescope-run-here\", RunHere); } })(); </script> <treescope-container class=\"treescope_out_db34f4fb923e4b83aaf8a56313cadc7a\" ></treescope-container> <treescope-run-here><script type=\"application/octet-stream\"> const root = ( Array.from(document.getElementsByClassName( \"treescope_out_db34f4fb923e4b83aaf8a56313cadc7a\")) .filter((elt) => !elt.dataset.setup) )[0]; root.dataset.setup = 1; const msg = document.createElement(\"span\"); msg.style = \"color: #aaaaaa; font-family: monospace; transition: opacity 0.2s; opacity: 0.0;\"; msg.textContent = \"(Loading...)\"; root.state.loadingMsg = msg; root.shadowRoot.appendChild(msg); root.state.chain = new Promise((resolve, reject) => { const observer = new IntersectionObserver((entries) => { for (const entry of entries) { if (entry.isIntersecting) { resolve(); observer.disconnect(); return; } } }, {rootMargin: \"1000px\"}); window.setTimeout(() => { if (root.loadingMsg) { root.loadingMsg.style.opacity = \"1.0\"; } observer.observe(root); }, 0); }); root.state.deferring = false; const _insertNode = (node) => { for (let oldScript of node.querySelectorAll(\"script\")) { let newScript = document.createElement(\"script\"); newScript.type = oldScript.type; newScript.textContent = oldScript.textContent; oldScript.parentNode.replaceChild(newScript, oldScript); } if (root.state.loadingMsg) { root.state.loadingMsg.remove(); root.state.loadingMsg = null; } root.shadowRoot.appendChild(node); }; root.defns.insertContent = ((contentNode, compressed) => { if (compressed) { root.state.deferring = true; } if (root.state.deferring) { root.state.chain = (async () => { await root.state.chain; if (compressed) { const encoded = contentNode.textContent; const blob = new Blob([ Uint8Array.from(atob(encoded), (m) => m.codePointAt(0)) ]); const reader = blob.stream().pipeThrough( new DecompressionStream(\"deflate\") ).pipeThrough( new TextDecoderStream(\"utf-8\") ).getReader(); const parts = []; while (true) { const step = await reader.read(); if (step.done) { break; } parts.push(step.value); } const tpl = document.createElement('template'); tpl.innerHTML = parts.join(\"\"); _insertNode(tpl.content); } else { _insertNode(contentNode.content); } })(); } else { _insertNode(contentNode.content); } }); </script></treescope-run-here><div style=\"display:none\"> <script type=\"application/octet-stream\" >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</script> <treescope-run-here><script type=\"application/octet-stream\"> const root = ( Array.from(document.getElementsByClassName( \"treescope_out_db34f4fb923e4b83aaf8a56313cadc7a\")) .filter((elt) => !elt.dataset['step0']) )[0]; root.dataset['step0'] = 1; root.defns.insertContent( this.parentNode.querySelector('script[type=\"application/octet-stream\"]'), true ); this.parentNode.remove(); </script></treescope-run-here> </div>"
      ],
      "text/plain": [
       "<IPython.core.display.HTML object>"
      ]
     },
     "metadata": {},
     "output_type": "display_data"
    },
    {
     "data": {
      "text/html": [
       "<treescope-run-here><script type=\"application/octet-stream\"> const root = ( Array.from(document.getElementsByClassName( \"treescope_out_db34f4fb923e4b83aaf8a56313cadc7a\")) .filter((elt) => !elt.dataset.stolen) )[0]; root.dataset.stolen = 1; this.parentNode.replaceChild(root, this); </script></treescope-run-here>"
      ],
      "text/plain": [
       "{'a': [1, 2, 3, 5, 6, 7, 9], 'b': [10, 11, 13, 14, 15, 17, 18, 19]}"
      ]
     },
     "execution_count": 63,
     "metadata": {},
     "output_type": "execute_result"
    }
   ],
   "source": [
    "(\n",
    "    pz.select({\"a\": list(range(10)), \"b\": list(range(10, 20))})\n",
    "      .at_instances_of(int)\n",
    "      .where(lambda x: x % 4 == 0)\n",
    "      .remove_from_parent()\n",
    ")"
   ]
  },
  {
   "cell_type": "markdown",
   "metadata": {
    "id": "ELI6wOnC0yMI"
   },
   "source": [
    "If you want more control, or if you want to use the selected value to determine what to insert, you can use the method `.apply_and_inline`. This works like `.apply`, except that your function should return a *sequence* of values, and those values will be spliced into the original list or tuple in the same position as the original selected nodes."
   ]
  },
  {
   "cell_type": "code",
   "execution_count": 64,
   "metadata": {
    "execution": {
     "iopub.execute_input": "2024-07-16T16:57:42.062618Z",
     "iopub.status.busy": "2024-07-16T16:57:42.062139Z",
     "iopub.status.idle": "2024-07-16T16:57:42.066992Z",
     "shell.execute_reply": "2024-07-16T16:57:42.066778Z"
    },
    "id": "l7M2_YQF0vzy"
   },
   "outputs": [
    {
     "data": {
      "text/html": [
       "<script> (()=>{ if (customElements.get('treescope-container') === undefined) { class TreescopeContainer extends HTMLElement { constructor() { super(); this.attachShadow({mode: \"open\"}); this.defns = {}; this.state = {}; } } customElements.define(\"treescope-container\", TreescopeContainer); } if (customElements.get('treescope-run-here') === undefined) { class RunHere extends HTMLElement { constructor() { super() } connectedCallback() { const run = child => { const fn = new Function(child.textContent); child.textContent = \"\"; fn.call(this); this.remove(); }; const child = this.querySelector(\"script\"); if (child) { run(child); } else { new MutationObserver(()=>{ run(this.querySelector(\"script\")); }).observe(this, {childList: true}); } } } customElements.define(\"treescope-run-here\", RunHere); } })(); </script> <treescope-container class=\"treescope_out_524a1917074c4829ae278c5b739bfd97\" ></treescope-container> <treescope-run-here><script type=\"application/octet-stream\"> const root = ( Array.from(document.getElementsByClassName( \"treescope_out_524a1917074c4829ae278c5b739bfd97\")) .filter((elt) => !elt.dataset.setup) )[0]; root.dataset.setup = 1; const msg = document.createElement(\"span\"); msg.style = \"color: #aaaaaa; font-family: monospace; transition: opacity 0.2s; opacity: 0.0;\"; msg.textContent = \"(Loading...)\"; root.state.loadingMsg = msg; root.shadowRoot.appendChild(msg); root.state.chain = new Promise((resolve, reject) => { const observer = new IntersectionObserver((entries) => { for (const entry of entries) { if (entry.isIntersecting) { resolve(); observer.disconnect(); return; } } }, {rootMargin: \"1000px\"}); window.setTimeout(() => { if (root.loadingMsg) { root.loadingMsg.style.opacity = \"1.0\"; } observer.observe(root); }, 0); }); root.state.deferring = false; const _insertNode = (node) => { for (let oldScript of node.querySelectorAll(\"script\")) { let newScript = document.createElement(\"script\"); newScript.type = oldScript.type; newScript.textContent = oldScript.textContent; oldScript.parentNode.replaceChild(newScript, oldScript); } if (root.state.loadingMsg) { root.state.loadingMsg.remove(); root.state.loadingMsg = null; } root.shadowRoot.appendChild(node); }; root.defns.insertContent = ((contentNode, compressed) => { if (compressed) { root.state.deferring = true; } if (root.state.deferring) { root.state.chain = (async () => { await root.state.chain; if (compressed) { const encoded = contentNode.textContent; const blob = new Blob([ Uint8Array.from(atob(encoded), (m) => m.codePointAt(0)) ]); const reader = blob.stream().pipeThrough( new DecompressionStream(\"deflate\") ).pipeThrough( new TextDecoderStream(\"utf-8\") ).getReader(); const parts = []; while (true) { const step = await reader.read(); if (step.done) { break; } parts.push(step.value); } const tpl = document.createElement('template'); tpl.innerHTML = parts.join(\"\"); _insertNode(tpl.content); } else { _insertNode(contentNode.content); } })(); } else { _insertNode(contentNode.content); } }); </script></treescope-run-here><div style=\"display:none\"> <script type=\"application/octet-stream\" >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</script> <treescope-run-here><script type=\"application/octet-stream\"> const root = ( Array.from(document.getElementsByClassName( \"treescope_out_524a1917074c4829ae278c5b739bfd97\")) .filter((elt) => !elt.dataset['step0']) )[0]; root.dataset['step0'] = 1; root.defns.insertContent( this.parentNode.querySelector('script[type=\"application/octet-stream\"]'), true ); this.parentNode.remove(); </script></treescope-run-here> </div>"
      ],
      "text/plain": [
       "<IPython.core.display.HTML object>"
      ]
     },
     "metadata": {},
     "output_type": "display_data"
    },
    {
     "data": {
      "text/html": [
       "<treescope-run-here><script type=\"application/octet-stream\"> const root = ( Array.from(document.getElementsByClassName( \"treescope_out_524a1917074c4829ae278c5b739bfd97\")) .filter((elt) => !elt.dataset.stolen) )[0]; root.dataset.stolen = 1; this.parentNode.replaceChild(root, this); </script></treescope-run-here>"
      ],
      "text/plain": [
       "{'a': ['before',\n",
       "  'the value was 0',\n",
       "  'after',\n",
       "  1,\n",
       "  2,\n",
       "  3,\n",
       "  'before',\n",
       "  'the value was 4',\n",
       "  'after',\n",
       "  5,\n",
       "  6,\n",
       "  7,\n",
       "  'before',\n",
       "  'the value was 8',\n",
       "  'after',\n",
       "  9],\n",
       " 'b': [10,\n",
       "  11,\n",
       "  'before',\n",
       "  'the value was 12',\n",
       "  'after',\n",
       "  13,\n",
       "  14,\n",
       "  15,\n",
       "  'before',\n",
       "  'the value was 16',\n",
       "  'after',\n",
       "  17,\n",
       "  18,\n",
       "  19]}"
      ]
     },
     "execution_count": 64,
     "metadata": {},
     "output_type": "execute_result"
    }
   ],
   "source": [
    "(\n",
    "    pz.select({\"a\": list(range(10)), \"b\": list(range(10, 20))})\n",
    "      .at_instances_of(int)\n",
    "      .where(lambda x: x % 4 == 0)\n",
    "      .apply_and_inline(lambda x: [\"before\", f\"the value was {x}\", \"after\"])\n",
    ")"
   ]
  },
  {
   "cell_type": "markdown",
   "metadata": {
    "id": "DaIykx2UVgaM"
   },
   "source": [
    "## Taking advantage of key paths"
   ]
  },
  {
   "cell_type": "markdown",
   "metadata": {
    "id": "hoF1YE4VVF6M"
   },
   "source": [
    "Many of the selector functions allow you to use the PyTree path to each selected in addition to its value:"
   ]
  },
  {
   "cell_type": "code",
   "execution_count": 65,
   "metadata": {
    "execution": {
     "iopub.execute_input": "2024-07-16T16:57:42.075445Z",
     "iopub.status.busy": "2024-07-16T16:57:42.075211Z",
     "iopub.status.idle": "2024-07-16T16:57:42.089530Z",
     "shell.execute_reply": "2024-07-16T16:57:42.089287Z"
    },
    "id": "YCK_xieQVi8r"
   },
   "outputs": [
    {
     "data": {
      "text/html": [
       "<script> (()=>{ if (customElements.get('treescope-container') === undefined) { class TreescopeContainer extends HTMLElement { constructor() { super(); this.attachShadow({mode: \"open\"}); this.defns = {}; this.state = {}; } } customElements.define(\"treescope-container\", TreescopeContainer); } if (customElements.get('treescope-run-here') === undefined) { class RunHere extends HTMLElement { constructor() { super() } connectedCallback() { const run = child => { const fn = new Function(child.textContent); child.textContent = \"\"; fn.call(this); this.remove(); }; const child = this.querySelector(\"script\"); if (child) { run(child); } else { new MutationObserver(()=>{ run(this.querySelector(\"script\")); }).observe(this, {childList: true}); } } } customElements.define(\"treescope-run-here\", RunHere); } })(); </script> <treescope-container class=\"treescope_out_b916047113e245bbb321c7721787b0e3\" ></treescope-container> <treescope-run-here><script type=\"application/octet-stream\"> const root = ( Array.from(document.getElementsByClassName( \"treescope_out_b916047113e245bbb321c7721787b0e3\")) .filter((elt) => !elt.dataset.setup) )[0]; root.dataset.setup = 1; const msg = document.createElement(\"span\"); msg.style = \"color: #aaaaaa; font-family: monospace; transition: opacity 0.2s; opacity: 0.0;\"; msg.textContent = \"(Loading...)\"; root.state.loadingMsg = msg; root.shadowRoot.appendChild(msg); root.state.chain = new Promise((resolve, reject) => { const observer = new IntersectionObserver((entries) => { for (const entry of entries) { if (entry.isIntersecting) { resolve(); observer.disconnect(); return; } } }, {rootMargin: \"1000px\"}); window.setTimeout(() => { if (root.loadingMsg) { root.loadingMsg.style.opacity = \"1.0\"; } observer.observe(root); }, 0); }); root.state.deferring = false; const _insertNode = (node) => { for (let oldScript of node.querySelectorAll(\"script\")) { let newScript = document.createElement(\"script\"); newScript.type = oldScript.type; newScript.textContent = oldScript.textContent; oldScript.parentNode.replaceChild(newScript, oldScript); } if (root.state.loadingMsg) { root.state.loadingMsg.remove(); root.state.loadingMsg = null; } root.shadowRoot.appendChild(node); }; root.defns.insertContent = ((contentNode, compressed) => { if (compressed) { root.state.deferring = true; } if (root.state.deferring) { root.state.chain = (async () => { await root.state.chain; if (compressed) { const encoded = contentNode.textContent; const blob = new Blob([ Uint8Array.from(atob(encoded), (m) => m.codePointAt(0)) ]); const reader = blob.stream().pipeThrough( new DecompressionStream(\"deflate\") ).pipeThrough( new TextDecoderStream(\"utf-8\") ).getReader(); const parts = []; while (true) { const step = await reader.read(); if (step.done) { break; } parts.push(step.value); } const tpl = document.createElement('template'); tpl.innerHTML = parts.join(\"\"); _insertNode(tpl.content); } else { _insertNode(contentNode.content); } })(); } else { _insertNode(contentNode.content); } }); </script></treescope-run-here><div style=\"display:none\"> <script type=\"application/octet-stream\" >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</script> <treescope-run-here><script type=\"application/octet-stream\"> const root = ( Array.from(document.getElementsByClassName( \"treescope_out_b916047113e245bbb321c7721787b0e3\")) .filter((elt) => !elt.dataset['step0']) )[0]; root.dataset['step0'] = 1; root.defns.insertContent( this.parentNode.querySelector('script[type=\"application/octet-stream\"]'), true ); this.parentNode.remove(); </script></treescope-run-here> </div>"
      ],
      "text/plain": [
       "<IPython.core.display.HTML object>"
      ]
     },
     "metadata": {},
     "output_type": "display_data"
    },
    {
     "data": {
      "text/html": [
       "<div style=\"display:none\"> <script type=\"application/octet-stream\" >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</script> <treescope-run-here><script type=\"application/octet-stream\"> const root = ( Array.from(document.getElementsByClassName( \"treescope_out_b916047113e245bbb321c7721787b0e3\")) .filter((elt) => !elt.dataset['step1']) )[0]; root.dataset['step1'] = 1; root.defns.insertContent( this.parentNode.querySelector('script[type=\"application/octet-stream\"]'), true ); this.parentNode.remove(); </script></treescope-run-here> </div>"
      ],
      "text/plain": [
       "<IPython.core.display.HTML object>"
      ]
     },
     "metadata": {},
     "output_type": "display_data"
    },
    {
     "data": {
      "text/html": [
       "<treescope-run-here><script type=\"application/octet-stream\"> const root = ( Array.from(document.getElementsByClassName( \"treescope_out_b916047113e245bbb321c7721787b0e3\")) .filter((elt) => !elt.dataset.stolen) )[0]; root.dataset.stolen = 1; this.parentNode.replaceChild(root, this); </script></treescope-run-here>"
      ],
      "text/plain": [
       "Selection(\n",
       "  selected_by_path=OrderedDict({\n",
       "    (DictKey(key='c'), SequenceKey(idx=0)):\n",
       "      {\n",
       "        'value': <jax.Array([ 0,  1,  2,  3,  4,  5,  6,  7,  8,  9, 10, 11], dtype=int32)>,\n",
       "      },\n",
       "    (DictKey(key='c'), SequenceKey(idx=2), DictKey(key='value')):\n",
       "      3,\n",
       "  }),\n",
       "  remainder={\n",
       "    'a': 1,\n",
       "    'b': <jax.Array([0, 1, 2, 3, 4, 5, 6, 7, 8, 9], dtype=int32)>,\n",
       "    'c': [SelectionHole(path=(DictKey(key='c'), SequenceKey(idx=0))), {'value': <jax.Array([0., 0., 0., 0., 0., 0., 0.], dtype=float32)>}, {'value': SelectionHole(path=(DictKey(key='c'), SequenceKey(idx=2), DictKey(key='value')))}],\n",
       "  },\n",
       ")"
      ]
     },
     "execution_count": 65,
     "metadata": {},
     "output_type": "execute_result"
    }
   ],
   "source": [
    "# Selecting by keypath directly\n",
    "pz.select(my_nested_object).at_keypaths([\n",
    "    (jax.tree_util.DictKey(key='c'), jax.tree_util.SequenceKey(idx=2), jax.tree_util.DictKey(key='value')),\n",
    "    (jax.tree_util.DictKey(key='c'), jax.tree_util.SequenceKey(idx=0)),\n",
    "])"
   ]
  },
  {
   "cell_type": "code",
   "execution_count": 66,
   "metadata": {
    "execution": {
     "iopub.execute_input": "2024-07-16T16:57:42.097798Z",
     "iopub.status.busy": "2024-07-16T16:57:42.097545Z",
     "iopub.status.idle": "2024-07-16T16:57:42.112065Z",
     "shell.execute_reply": "2024-07-16T16:57:42.111885Z"
    },
    "id": "FEf1mpRX1T17"
   },
   "outputs": [
    {
     "data": {
      "text/html": [
       "<script> (()=>{ if (customElements.get('treescope-container') === undefined) { class TreescopeContainer extends HTMLElement { constructor() { super(); this.attachShadow({mode: \"open\"}); this.defns = {}; this.state = {}; } } customElements.define(\"treescope-container\", TreescopeContainer); } if (customElements.get('treescope-run-here') === undefined) { class RunHere extends HTMLElement { constructor() { super() } connectedCallback() { const run = child => { const fn = new Function(child.textContent); child.textContent = \"\"; fn.call(this); this.remove(); }; const child = this.querySelector(\"script\"); if (child) { run(child); } else { new MutationObserver(()=>{ run(this.querySelector(\"script\")); }).observe(this, {childList: true}); } } } customElements.define(\"treescope-run-here\", RunHere); } })(); </script> <treescope-container class=\"treescope_out_c1bf712c848d4fbb80d92e8529fc1550\" ></treescope-container> <treescope-run-here><script type=\"application/octet-stream\"> const root = ( Array.from(document.getElementsByClassName( \"treescope_out_c1bf712c848d4fbb80d92e8529fc1550\")) .filter((elt) => !elt.dataset.setup) )[0]; root.dataset.setup = 1; const msg = document.createElement(\"span\"); msg.style = \"color: #aaaaaa; font-family: monospace; transition: opacity 0.2s; opacity: 0.0;\"; msg.textContent = \"(Loading...)\"; root.state.loadingMsg = msg; root.shadowRoot.appendChild(msg); root.state.chain = new Promise((resolve, reject) => { const observer = new IntersectionObserver((entries) => { for (const entry of entries) { if (entry.isIntersecting) { resolve(); observer.disconnect(); return; } } }, {rootMargin: \"1000px\"}); window.setTimeout(() => { if (root.loadingMsg) { root.loadingMsg.style.opacity = \"1.0\"; } observer.observe(root); }, 0); }); root.state.deferring = false; const _insertNode = (node) => { for (let oldScript of node.querySelectorAll(\"script\")) { let newScript = document.createElement(\"script\"); newScript.type = oldScript.type; newScript.textContent = oldScript.textContent; oldScript.parentNode.replaceChild(newScript, oldScript); } if (root.state.loadingMsg) { root.state.loadingMsg.remove(); root.state.loadingMsg = null; } root.shadowRoot.appendChild(node); }; root.defns.insertContent = ((contentNode, compressed) => { if (compressed) { root.state.deferring = true; } if (root.state.deferring) { root.state.chain = (async () => { await root.state.chain; if (compressed) { const encoded = contentNode.textContent; const blob = new Blob([ Uint8Array.from(atob(encoded), (m) => m.codePointAt(0)) ]); const reader = blob.stream().pipeThrough( new DecompressionStream(\"deflate\") ).pipeThrough( new TextDecoderStream(\"utf-8\") ).getReader(); const parts = []; while (true) { const step = await reader.read(); if (step.done) { break; } parts.push(step.value); } const tpl = document.createElement('template'); tpl.innerHTML = parts.join(\"\"); _insertNode(tpl.content); } else { _insertNode(contentNode.content); } })(); } else { _insertNode(contentNode.content); } }); </script></treescope-run-here><div style=\"display:none\"> <script type=\"application/octet-stream\" >eNrtG4lS27r2V1R35iZ5EJOFLISSeQ5kowUKoYW2t5Mn27It4tjGVhLCHf79HcnZY1LWlvYCMzhIR2fT2Q3vAja0SVlmPiGB5nqk7bsuQ/8gzw0oo65TQj6xMaN9so0M12FJA3epPSyhruu4gYc1WB9YlJGk+KWEPB9WbBqwpECdZEMPVh3XgWUVax3Td3uOntRc2/VL4dFtNPpNtQEA8FGdWSVkUAZgDiMO20Ye1nXqmEmbGKyEMprFiTgkaRFqWrCSlnMcjcMwBZ4nx0Yfkn0aUJXalAHnuMfcCWySOsynTkC1ZECvSbg7Yvfm3UaonncT9ST9ngM0fVgLNJ96DHH5dmLY82yqYa6xDVdjhEvvE9yNlePxxE4ZFAr0AoZ0YjgB2kHMooFsEnYC2j50dRJPyJYbMFnsg2iEobZHHC6yonGs/NC371E7DezoNoFtp2fb2yEFGdhsua4Dq/GB63cSaJYH9wyW+NbcMqMaX/SIb7h+FzsakR13EE+I+wUC8aUdlAwPvUPZTALwUAPFF7iWbeKYzEI7OyjFQVay7hPW8x3QOyJ2QKaMWT2Hc7aIOrCowTh/AoB/uIHvWyjEwaoc3R3IPrnskYApDu2K66r5uEvioU4SHMf2EiGvF1ihGrcjZByT2AnFWCHl3XngXIQXyVzTtEOvbAvPAWv1OC6+Qmy2jkgfDHx0k5w78bvcIUOudMmXOEMjYFmzcRB8AOcc4Y1LE5ztLpihNCZ+kwB9gvkLGy+/24hyAJ32kUC4I82HDwkxrIKk5GpHSknIdYAZENsBuFVmHy1rnJ8ZSymB24UBS0SMtuZ2u7AuTEVEkLdYfHEpFkBwyXFZvGS5feInIuBH4E6vqxJ/BmFqq5jO5acAAQ8X5izFbDqXznEAkIL4PtHbHsQxYrm2PocJF/j3KIwKMUqIMgxxgx82AByrIL4DerklAINQc2DtUGMArdMAiA7HgXYREJWRjVVil0oqAR8mM1xp4ms7kl4YbJNpHm1HQTm1PaVFHRGCVdvlUftWmkLly5R17HcCgk0wHWf5tLithSULB/GywFmO1EN4w5pFtA7REwn0n8SUB340+tAYfo5DkTVKKPZ3JqdqsV/J3vyhW5nM/wQm+T1ywj0/4BfouZA7iR9BlwZPR1a4giCUFDEguM3Gn4bqVDxGrtgyFZkGbYP6AWu7Tpubf4RrrXIlOZPj3hR5VejR7Ic3vsgil6qLfROqnZAN4dA3j6QG8dAbqj3GoMyICkDT7SijlZC0AAWKhBIyGvhvkt7UpYUKNHaAwSootlFr2FVdO0BHPcbl1dFueBKe3hAcIzkgageqyTDydiG/WBDDodZzGBynOCD6pAZ9S1L8e3vZzMPTokhMyVukuyhl6B8RUkSHu+lJeYCDtgZ5ABQ7OY8NNpc9xnF6Fc2FM/MkZ1WP+tiPJ5M6ZjiJHbhYUYYkZpc5EV5b+dgZW7NAi9IBIqAxKJyTbo/dT5QJB3AxlOhv5jkRJNEb2vVcn2FnCbfqux3itPnKNBj9WLszx2b0Ob7mG5lXKsCY3tagztV94oxYne8kAOc84BNF1xnXGSXSOVfVsK3Fod2BWjvtXYnyTA4Y5ucn/D4bJ6rrQwkz4kR3GcjOuZhVHpgA8VX3qg3W3nZD/5vFNF8jjLo47kCZHPcgOMldSqyNqMGSkJIjHVBmPS/Wp9HdOopUxLNdzKgY6+KraYd8I1/2sO1AJ9GGHtygV3BuLmQVRciSA2IT0Ze0VV5jY597RaglaKzhdgPXpjrShthZsABuhrObs7jGuXrGH0MgwcJg1KVDlNbDcx72IXqL9BQ8sz9xj4mg95yOAxJamHcCA+w7YIaL6nlrGFhLZyMAPeju/plMO/zRcIPn61FYGC0lU7IoJKYjlZIYiGA/afpYp2AS8XQ2pxNzHbkQw02CUmADec1aD2M6KIRnSLGERnFliZWlUuLJNDYX5MbC3MgDS0Rq28YeJOUfNzb3r1pupxAGFUFDAJEryF76rTBPwUcUiZGgIcC05Y9SxXzbLc/38mgFhkVRnbnpQjTgXYjdiucJB2p8xoHeKL6Ph7Lhu9247mo93uLLPNQEch/bPRLEEwk5cLskLgIQn47wpxzWjnwycsfqUYqhBEpMZlGBRQjjAysyQLutVotL0+JrfPwkNmWfiPa/NXS0+P/+O6pYNTKOxvevXmfnBQ4fwNkLUXUzBak48LUS6vl2nJdSJb6/MXANI7OtQrGW31zXU1v1A1OpKOKreaworvhUORnAz0ZNUarKqq9KV1HMjvteb1Yru4MvinL6ZXdfOWhWdpWaedVsfLBYUDmgxMzW9s4zH5r5L/2W16MfD3Kn6f3z5snng/7ZwTX7OKzVdtfOzM4preylLLp33Nuv6vWLVEPdMPpN3bt8n7cuzyg97h04dathfGLKp3zl0N9Uak2nU81rn3o9Z+0kd6kFnUHfqNkbl1dm1S2a6v6gXkw3lA1HOcl98P399MmaeZ060VPKvpE2Dwu7g/pFxky5w95JodCtpvODxvnWkWl65LQz3CRN9Tqnqf5RnWHFPG4eDvZwMAyOe83m+Vm1NlA+HnvNL/qnjY01s3BaOM+ylPH+46XSzwHOD8phQTkYKF3z+qS11vvaItXzq4yR164PN08aw1yvory/rlx4NS9LG8e71dTX3sfNVsExKh+qjdpBV6FrxX41Yzlpq7Cmfh6cXwwafn+v/mnXuTCqVZOtHWlfbbuQ29rdH1SK1tbmwUG9la1/VcxuM3dROd5ip3XS2KpWKs16ds/cPNn4og1VpQ53+vn9hnJcxwo52LWVxnX1yPzKzHzlo3l01NyrdOhxjtQq57uVmkZTnuW7ngO24X2t7qWv052WsWswa/jeaei4FjSM1GG3Xj3MV3Tl8vNnD7Og9bWr65huZYzrrc1P9OIy73X9/JH7ZbdF/Xq3v1/Pts5a2Vo1o1WOjdO1hu169c1aMMhh8zJfpF9J69D2zpxKo0n0A5/0zi7ru930Wc3vtFpXuUz+7CwYKMBRAonhM4vHhFnHeMr6H/yYeD/WXQ8K1KlLipG5LMsrINZDn/0OuFaPJi0xwxU9RNjeAG4wD0dD8bDLmJ+wgwueutx9AWzUhfC1AMIDR8HbKl514QGmDDm4T03MXF8GzJ7qYl+XBz5l5JRcsfgUFwg7wjUd40KdEJdmei4+wAUqp7RLoAaNjyf8S+d80oUGaunozTrKpFIpUQ5A8IXKIC6mB9F0Zxoracocn5uMIxifeUvoLaphakNgYy7iwG9EZIMSwIGCFaIxBZ0RrPO+cG1Wd6Nh9A/G0LzHHM+h50a+Utm7HlWoccABYPPAS32ftGp/YXN+1LlYJgFwWAu8o47XG+U0SWR/aBGkSCSjQgE2wyIBxBWH5+lagMkHEp02gwqKMEkoLNkhQ/BGa0eSyv+MZd0YsfBkMi/RjlJ+OB+Xyn+9vcoUtnH4mLAkHiV0L5G+xXDseyStcFgvldPz+NfnQOcLPqmMomxhrhqbpxWbjhJiyHV2ubfsxO4ZLsRbjEQMTeYcO1Lcxl1Vx+LdTEn8FIImJCRy/Y40MxUpob8uey7bvu1MuLuNlkY6UGcIV+KahM8jycrz+lp4PKc9qKvsgeo70uQdSiGdM7LYMLbSxdxmfksr5tVcUSckm88Qo5jPrPLHx7jf1O2i/CfqFQ/IZrPtC3wli6IUwhnLZuLp1DpU+bKM/jLZdqSif18zVR9gpurvZKbaHcLWk1nc4wL+t5jGo+O3FVH/Z5qG9gDT0B5vGn98Xhda+pb6vjq//+SbBn4ectn82Eu57wcEBzFgeEhdU/5Z8SMqc0XNpxc4Wpq4L4+KF07cMle9A5R058QmLQyZpfJb1BJLRC/9ODWsIj5XcGyl9c1iStO3oLvchC6oWCBqBhfymXyxuKUVij8tUDxZBZL5UQVyj8eKy1p/wZVKGG2+xYTPxh4arabnn7SCCR83v305+EszwQOLwped59MvLM+nH3a76dc8/5rnX1qe13NayshndCOlZzdxGnI71vNb2XTKMNKF/GbhN8rzhu1inukLr4k+DDePS/Tp10T/glPBi0v0j0nwmReW4DMPu9XMvzPB33Klk+ix8mVF9s8JuJlHBtzMzwm4v7eKf5FjRj2+//4K/RXD6Yfa5o8z38L77oSMWXsUloLId94/q1eJzo0L7K6sg3ilm0FBTxXv/NeRRU3L5n/vRHSEVbdPZovdFUp8i1ZiWdRxRCW+qmf5M941lOPP9jcDv7z8+qNlW7bTyV9fLmwu/G24VOZdJHeKdo9RW553gz2qsfdk+KSag7C08yyvZe+UjOYeifs1Yr9dx/FcZtHi/7bsaOSpTYPqVw8wjXE9nXo1h9cocae27uGm8WpUr2n1Na2+xtF/UVpNv5rDa5R4sWn1ESfv+Q5sccQyAdVpv/x/AyykSg==</script> <treescope-run-here><script type=\"application/octet-stream\"> const root = ( Array.from(document.getElementsByClassName( \"treescope_out_c1bf712c848d4fbb80d92e8529fc1550\")) .filter((elt) => !elt.dataset['step0']) )[0]; root.dataset['step0'] = 1; root.defns.insertContent( this.parentNode.querySelector('script[type=\"application/octet-stream\"]'), true ); this.parentNode.remove(); </script></treescope-run-here> </div>"
      ],
      "text/plain": [
       "<IPython.core.display.HTML object>"
      ]
     },
     "metadata": {},
     "output_type": "display_data"
    },
    {
     "data": {
      "text/html": [
       "<div style=\"display:none\"> <script type=\"application/octet-stream\" >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</script> <treescope-run-here><script type=\"application/octet-stream\"> const root = ( Array.from(document.getElementsByClassName( \"treescope_out_c1bf712c848d4fbb80d92e8529fc1550\")) .filter((elt) => !elt.dataset['step1']) )[0]; root.dataset['step1'] = 1; root.defns.insertContent( this.parentNode.querySelector('script[type=\"application/octet-stream\"]'), true ); this.parentNode.remove(); </script></treescope-run-here> </div>"
      ],
      "text/plain": [
       "<IPython.core.display.HTML object>"
      ]
     },
     "metadata": {},
     "output_type": "display_data"
    },
    {
     "data": {
      "text/html": [
       "<treescope-run-here><script type=\"application/octet-stream\"> const root = ( Array.from(document.getElementsByClassName( \"treescope_out_c1bf712c848d4fbb80d92e8529fc1550\")) .filter((elt) => !elt.dataset.stolen) )[0]; root.dataset.stolen = 1; this.parentNode.replaceChild(root, this); </script></treescope-run-here>"
      ],
      "text/plain": [
       "Selection(\n",
       "  selected_by_path=OrderedDict({\n",
       "    (DictKey(key='c'), SequenceKey(idx=0), DictKey(key='value')):\n",
       "      <jax.Array([ 0,  1,  2,  3,  4,  5,  6,  7,  8,  9, 10, 11], dtype=int32)>,\n",
       "    (DictKey(key='c'), SequenceKey(idx=1), DictKey(key='value')):\n",
       "      <jax.Array([0., 0., 0., 0., 0., 0., 0.], dtype=float32)>,\n",
       "  }),\n",
       "  remainder={\n",
       "    'a': 1,\n",
       "    'b': <jax.Array([0, 1, 2, 3, 4, 5, 6, 7, 8, 9], dtype=int32)>,\n",
       "    'c': [{'value': SelectionHole(path=(DictKey(key='c'), SequenceKey(idx=0), DictKey(key='value')))}, {'value': SelectionHole(path=(DictKey(key='c'), SequenceKey(idx=1), DictKey(key='value')))}, {'value': 3}],\n",
       "  },\n",
       ")"
      ]
     },
     "execution_count": 66,
     "metadata": {},
     "output_type": "execute_result"
    }
   ],
   "source": [
    "# Selecting by keypath and value\n",
    "(\n",
    "    pz.select(my_nested_object)\n",
    "    .at_subtrees_where(\n",
    "        lambda path, subtree: len(path) == 3 and isinstance(subtree, jax.Array),\n",
    "        with_keypath=True)\n",
    ")"
   ]
  },
  {
   "cell_type": "code",
   "execution_count": 67,
   "metadata": {
    "execution": {
     "iopub.execute_input": "2024-07-16T16:57:42.117359Z",
     "iopub.status.busy": "2024-07-16T16:57:42.117127Z",
     "iopub.status.idle": "2024-07-16T16:57:42.121355Z",
     "shell.execute_reply": "2024-07-16T16:57:42.121471Z"
    },
    "id": "W-jfNUWTVaw3"
   },
   "outputs": [
    {
     "data": {
      "text/html": [
       "<script> (()=>{ if (customElements.get('treescope-container') === undefined) { class TreescopeContainer extends HTMLElement { constructor() { super(); this.attachShadow({mode: \"open\"}); this.defns = {}; this.state = {}; } } customElements.define(\"treescope-container\", TreescopeContainer); } if (customElements.get('treescope-run-here') === undefined) { class RunHere extends HTMLElement { constructor() { super() } connectedCallback() { const run = child => { const fn = new Function(child.textContent); child.textContent = \"\"; fn.call(this); this.remove(); }; const child = this.querySelector(\"script\"); if (child) { run(child); } else { new MutationObserver(()=>{ run(this.querySelector(\"script\")); }).observe(this, {childList: true}); } } } customElements.define(\"treescope-run-here\", RunHere); } })(); </script> <treescope-container class=\"treescope_out_91947140057b450fa42085976f32cccb\" ></treescope-container> <treescope-run-here><script type=\"application/octet-stream\"> const root = ( Array.from(document.getElementsByClassName( \"treescope_out_91947140057b450fa42085976f32cccb\")) .filter((elt) => !elt.dataset.setup) )[0]; root.dataset.setup = 1; const msg = document.createElement(\"span\"); msg.style = \"color: #aaaaaa; font-family: monospace; transition: opacity 0.2s; opacity: 0.0;\"; msg.textContent = \"(Loading...)\"; root.state.loadingMsg = msg; root.shadowRoot.appendChild(msg); root.state.chain = new Promise((resolve, reject) => { const observer = new IntersectionObserver((entries) => { for (const entry of entries) { if (entry.isIntersecting) { resolve(); observer.disconnect(); return; } } }, {rootMargin: \"1000px\"}); window.setTimeout(() => { if (root.loadingMsg) { root.loadingMsg.style.opacity = \"1.0\"; } observer.observe(root); }, 0); }); root.state.deferring = false; const _insertNode = (node) => { for (let oldScript of node.querySelectorAll(\"script\")) { let newScript = document.createElement(\"script\"); newScript.type = oldScript.type; newScript.textContent = oldScript.textContent; oldScript.parentNode.replaceChild(newScript, oldScript); } if (root.state.loadingMsg) { root.state.loadingMsg.remove(); root.state.loadingMsg = null; } root.shadowRoot.appendChild(node); }; root.defns.insertContent = ((contentNode, compressed) => { if (compressed) { root.state.deferring = true; } if (root.state.deferring) { root.state.chain = (async () => { await root.state.chain; if (compressed) { const encoded = contentNode.textContent; const blob = new Blob([ Uint8Array.from(atob(encoded), (m) => m.codePointAt(0)) ]); const reader = blob.stream().pipeThrough( new DecompressionStream(\"deflate\") ).pipeThrough( new TextDecoderStream(\"utf-8\") ).getReader(); const parts = []; while (true) { const step = await reader.read(); if (step.done) { break; } parts.push(step.value); } const tpl = document.createElement('template'); tpl.innerHTML = parts.join(\"\"); _insertNode(tpl.content); } else { _insertNode(contentNode.content); } })(); } else { _insertNode(contentNode.content); } }); </script></treescope-run-here><div style=\"display:none\"> <script type=\"application/octet-stream\" >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</script> <treescope-run-here><script type=\"application/octet-stream\"> const root = ( Array.from(document.getElementsByClassName( \"treescope_out_91947140057b450fa42085976f32cccb\")) .filter((elt) => !elt.dataset['step0']) )[0]; root.dataset['step0'] = 1; root.defns.insertContent( this.parentNode.querySelector('script[type=\"application/octet-stream\"]'), true ); this.parentNode.remove(); </script></treescope-run-here> </div>"
      ],
      "text/plain": [
       "<IPython.core.display.HTML object>"
      ]
     },
     "metadata": {},
     "output_type": "display_data"
    },
    {
     "data": {
      "text/html": [
       "<treescope-run-here><script type=\"application/octet-stream\"> const root = ( Array.from(document.getElementsByClassName( \"treescope_out_91947140057b450fa42085976f32cccb\")) .filter((elt) => !elt.dataset.stolen) )[0]; root.dataset.stolen = 1; this.parentNode.replaceChild(root, this); </script></treescope-run-here>"
      ],
      "text/plain": [
       "{'a': 1,\n",
       " 'b': \"(DictKey(key='b'),)\",\n",
       " 'c': [{'value': \"(DictKey(key='c'), SequenceKey(idx=0), DictKey(key='value'))\"},\n",
       "  {'value': \"(DictKey(key='c'), SequenceKey(idx=1), DictKey(key='value'))\"},\n",
       "  {'value': 3}]}"
      ]
     },
     "execution_count": 67,
     "metadata": {},
     "output_type": "execute_result"
    }
   ],
   "source": [
    "# Setting values by keypath\n",
    "pz.select(my_nested_object).at_instances_of(jax.Array).set_by_path(lambda path: str(path))"
   ]
  },
  {
   "cell_type": "code",
   "execution_count": 68,
   "metadata": {
    "execution": {
     "iopub.execute_input": "2024-07-16T16:57:42.127711Z",
     "iopub.status.busy": "2024-07-16T16:57:42.127458Z",
     "iopub.status.idle": "2024-07-16T16:57:42.132100Z",
     "shell.execute_reply": "2024-07-16T16:57:42.131890Z"
    },
    "id": "vedT4F3FV1Hq"
   },
   "outputs": [
    {
     "data": {
      "text/html": [
       "<script> (()=>{ if (customElements.get('treescope-container') === undefined) { class TreescopeContainer extends HTMLElement { constructor() { super(); this.attachShadow({mode: \"open\"}); this.defns = {}; this.state = {}; } } customElements.define(\"treescope-container\", TreescopeContainer); } if (customElements.get('treescope-run-here') === undefined) { class RunHere extends HTMLElement { constructor() { super() } connectedCallback() { const run = child => { const fn = new Function(child.textContent); child.textContent = \"\"; fn.call(this); this.remove(); }; const child = this.querySelector(\"script\"); if (child) { run(child); } else { new MutationObserver(()=>{ run(this.querySelector(\"script\")); }).observe(this, {childList: true}); } } } customElements.define(\"treescope-run-here\", RunHere); } })(); </script> <treescope-container class=\"treescope_out_4ce80863daf84e2bae359f498e523ea8\" ></treescope-container> <treescope-run-here><script type=\"application/octet-stream\"> const root = ( Array.from(document.getElementsByClassName( \"treescope_out_4ce80863daf84e2bae359f498e523ea8\")) .filter((elt) => !elt.dataset.setup) )[0]; root.dataset.setup = 1; const msg = document.createElement(\"span\"); msg.style = \"color: #aaaaaa; font-family: monospace; transition: opacity 0.2s; opacity: 0.0;\"; msg.textContent = \"(Loading...)\"; root.state.loadingMsg = msg; root.shadowRoot.appendChild(msg); root.state.chain = new Promise((resolve, reject) => { const observer = new IntersectionObserver((entries) => { for (const entry of entries) { if (entry.isIntersecting) { resolve(); observer.disconnect(); return; } } }, {rootMargin: \"1000px\"}); window.setTimeout(() => { if (root.loadingMsg) { root.loadingMsg.style.opacity = \"1.0\"; } observer.observe(root); }, 0); }); root.state.deferring = false; const _insertNode = (node) => { for (let oldScript of node.querySelectorAll(\"script\")) { let newScript = document.createElement(\"script\"); newScript.type = oldScript.type; newScript.textContent = oldScript.textContent; oldScript.parentNode.replaceChild(newScript, oldScript); } if (root.state.loadingMsg) { root.state.loadingMsg.remove(); root.state.loadingMsg = null; } root.shadowRoot.appendChild(node); }; root.defns.insertContent = ((contentNode, compressed) => { if (compressed) { root.state.deferring = true; } if (root.state.deferring) { root.state.chain = (async () => { await root.state.chain; if (compressed) { const encoded = contentNode.textContent; const blob = new Blob([ Uint8Array.from(atob(encoded), (m) => m.codePointAt(0)) ]); const reader = blob.stream().pipeThrough( new DecompressionStream(\"deflate\") ).pipeThrough( new TextDecoderStream(\"utf-8\") ).getReader(); const parts = []; while (true) { const step = await reader.read(); if (step.done) { break; } parts.push(step.value); } const tpl = document.createElement('template'); tpl.innerHTML = parts.join(\"\"); _insertNode(tpl.content); } else { _insertNode(contentNode.content); } })(); } else { _insertNode(contentNode.content); } }); </script></treescope-run-here><div style=\"display:none\"> <script type=\"application/octet-stream\" >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</script> <treescope-run-here><script type=\"application/octet-stream\"> const root = ( Array.from(document.getElementsByClassName( \"treescope_out_4ce80863daf84e2bae359f498e523ea8\")) .filter((elt) => !elt.dataset['step0']) )[0]; root.dataset['step0'] = 1; root.defns.insertContent( this.parentNode.querySelector('script[type=\"application/octet-stream\"]'), true ); this.parentNode.remove(); </script></treescope-run-here> </div>"
      ],
      "text/plain": [
       "<IPython.core.display.HTML object>"
      ]
     },
     "metadata": {},
     "output_type": "display_data"
    },
    {
     "data": {
      "text/html": [
       "<treescope-run-here><script type=\"application/octet-stream\"> const root = ( Array.from(document.getElementsByClassName( \"treescope_out_4ce80863daf84e2bae359f498e523ea8\")) .filter((elt) => !elt.dataset.stolen) )[0]; root.dataset.stolen = 1; this.parentNode.replaceChild(root, this); </script></treescope-run-here>"
      ],
      "text/plain": [
       "{'a': 1,\n",
       " 'b': \"((DictKey(key='b'),), Array([0, 1, 2, 3, 4, 5, 6, 7, 8, 9], dtype=int32))\",\n",
       " 'c': [{'value': \"((DictKey(key='c'), SequenceKey(idx=0), DictKey(key='value')), Array([ 0,  1,  2,  3,  4,  5,  6,  7,  8,  9, 10, 11], dtype=int32))\"},\n",
       "  {'value': \"((DictKey(key='c'), SequenceKey(idx=1), DictKey(key='value')), Array([0., 0., 0., 0., 0., 0., 0.], dtype=float32))\"},\n",
       "  {'value': 3}]}"
      ]
     },
     "execution_count": 68,
     "metadata": {},
     "output_type": "execute_result"
    }
   ],
   "source": [
    "# Setting values by keypath and original value\n",
    "pz.select(my_nested_object).at_instances_of(jax.Array).apply(\n",
    "    lambda path, value: str((path, value)), with_keypath=True\n",
    ")"
   ]
  },
  {
   "cell_type": "markdown",
   "metadata": {
    "id": "orWpcwiJt6q0"
   },
   "source": [
    "You can use `jax.tree_util.keystr` or `pz.pretty_keystr` to turn keypaths into readable strings (sometimes useful for referring to parts of a tree by name):"
   ]
  },
  {
   "cell_type": "code",
   "execution_count": 69,
   "metadata": {
    "execution": {
     "iopub.execute_input": "2024-07-16T16:57:42.143692Z",
     "iopub.status.busy": "2024-07-16T16:57:42.143450Z",
     "iopub.status.idle": "2024-07-16T16:57:45.334591Z",
     "shell.execute_reply": "2024-07-16T16:57:45.334390Z"
    },
    "id": "YF3IntIvNjw7"
   },
   "outputs": [
    {
     "data": {
      "text/html": [
       "<script> (()=>{ if (customElements.get('treescope-container') === undefined) { class TreescopeContainer extends HTMLElement { constructor() { super(); this.attachShadow({mode: \"open\"}); this.defns = {}; this.state = {}; } } customElements.define(\"treescope-container\", TreescopeContainer); } if (customElements.get('treescope-run-here') === undefined) { class RunHere extends HTMLElement { constructor() { super() } connectedCallback() { const run = child => { const fn = new Function(child.textContent); child.textContent = \"\"; fn.call(this); this.remove(); }; const child = this.querySelector(\"script\"); if (child) { run(child); } else { new MutationObserver(()=>{ run(this.querySelector(\"script\")); }).observe(this, {childList: true}); } } } customElements.define(\"treescope-run-here\", RunHere); } })(); </script> <treescope-container class=\"treescope_out_d7e70c27bb87493c920f0927d9f41630\" ></treescope-container> <treescope-run-here><script type=\"application/octet-stream\"> const root = ( Array.from(document.getElementsByClassName( \"treescope_out_d7e70c27bb87493c920f0927d9f41630\")) .filter((elt) => !elt.dataset.setup) )[0]; root.dataset.setup = 1; const msg = document.createElement(\"span\"); msg.style = \"color: #aaaaaa; font-family: monospace; transition: opacity 0.2s; opacity: 0.0;\"; msg.textContent = \"(Loading...)\"; root.state.loadingMsg = msg; root.shadowRoot.appendChild(msg); root.state.chain = new Promise((resolve, reject) => { const observer = new IntersectionObserver((entries) => { for (const entry of entries) { if (entry.isIntersecting) { resolve(); observer.disconnect(); return; } } }, {rootMargin: \"1000px\"}); window.setTimeout(() => { if (root.loadingMsg) { root.loadingMsg.style.opacity = \"1.0\"; } observer.observe(root); }, 0); }); root.state.deferring = false; const _insertNode = (node) => { for (let oldScript of node.querySelectorAll(\"script\")) { let newScript = document.createElement(\"script\"); newScript.type = oldScript.type; newScript.textContent = oldScript.textContent; oldScript.parentNode.replaceChild(newScript, oldScript); } if (root.state.loadingMsg) { root.state.loadingMsg.remove(); root.state.loadingMsg = null; } root.shadowRoot.appendChild(node); }; root.defns.insertContent = ((contentNode, compressed) => { if (compressed) { root.state.deferring = true; } if (root.state.deferring) { root.state.chain = (async () => { await root.state.chain; if (compressed) { const encoded = contentNode.textContent; const blob = new Blob([ Uint8Array.from(atob(encoded), (m) => m.codePointAt(0)) ]); const reader = blob.stream().pipeThrough( new DecompressionStream(\"deflate\") ).pipeThrough( new TextDecoderStream(\"utf-8\") ).getReader(); const parts = []; while (true) { const step = await reader.read(); if (step.done) { break; } parts.push(step.value); } const tpl = document.createElement('template'); tpl.innerHTML = parts.join(\"\"); _insertNode(tpl.content); } else { _insertNode(contentNode.content); } })(); } else { _insertNode(contentNode.content); } }); </script></treescope-run-here><div style=\"display:none\"> <script type=\"application/octet-stream\" >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</script> <treescope-run-here><script type=\"application/octet-stream\"> const root = ( Array.from(document.getElementsByClassName( \"treescope_out_d7e70c27bb87493c920f0927d9f41630\")) .filter((elt) => !elt.dataset['step0']) )[0]; root.dataset['step0'] = 1; root.defns.insertContent( this.parentNode.querySelector('script[type=\"application/octet-stream\"]'), true ); this.parentNode.remove(); </script></treescope-run-here> </div>"
      ],
      "text/plain": [
       "<IPython.core.display.HTML object>"
      ]
     },
     "metadata": {},
     "output_type": "display_data"
    },
    {
     "data": {
      "text/html": [
       "<div style=\"display:none\"> <script type=\"application/octet-stream\" >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</script> <treescope-run-here><script type=\"application/octet-stream\"> const root = ( Array.from(document.getElementsByClassName( \"treescope_out_d7e70c27bb87493c920f0927d9f41630\")) .filter((elt) => !elt.dataset['step1']) )[0]; root.dataset['step1'] = 1; root.defns.insertContent( this.parentNode.querySelector('script[type=\"application/octet-stream\"]'), true ); this.parentNode.remove(); </script></treescope-run-here> </div>"
      ],
      "text/plain": [
       "<IPython.core.display.HTML object>"
      ]
     },
     "metadata": {},
     "output_type": "display_data"
    },
    {
     "data": {
      "text/html": [
       "<treescope-run-here><script type=\"application/octet-stream\"> const root = ( Array.from(document.getElementsByClassName( \"treescope_out_d7e70c27bb87493c920f0927d9f41630\")) .filter((elt) => !elt.dataset.stolen) )[0]; root.dataset.stolen = 1; this.parentNode.replaceChild(root, this); </script></treescope-run-here>"
      ],
      "text/plain": [
       "MLP( # Sequential\n",
       "  sublayers=[\n",
       "    Affine( # Sequential\n",
       "      sublayers=[\n",
       "        Linear(weights=Parameter(value=<NamedArray float32(| features:32, features_out:64) ≈-0.0026 ±0.15 [≥-0.25, ≤0.25] nonzero:2_048 (wrapping jax.Array)>, name='Affine_0.Linear.weights'), in_axis_names=('features',), out_axis_names=('features_out',)),\n",
       "        RenameAxes(old=('features_out',), new=('features',)),\n",
       "        AddBias(bias=Parameter(value=<NamedArray float32(| features:64) ≈0.0 ±0.0 [≥0.0, ≤0.0] zero:64 (wrapping jax.Array)>, name='Affine_0.AddBias.bias'), new_axis_names=()),\n",
       "      ],\n",
       "    ),\n",
       "    Elementwise(fn=jax.nn.relu),\n",
       "    Affine( # Sequential\n",
       "      sublayers=[Linear(weights=Parameter(value=<NamedArray float32(| features:64, features_out:64) ≈-0.0014 ±0.13 [≥-0.22, ≤0.22] nonzero:4_096 (wrapping jax.Array)>, name='Affine_1.Linear.weights'), in_axis_names=('features',), out_axis_names=('features_out',)), RenameAxes(old=('features_out',), new=('features',)), AddBias(bias=Parameter(value=<NamedArray float32(| features:64) ≈0.0 ±0.0 [≥0.0, ≤0.0] zero:64 (wrapping jax.Array)>, name='Affine_1.AddBias.bias'), new_axis_names=())],\n",
       "    ),\n",
       "    Elementwise(fn=jax.nn.relu),\n",
       "    Affine( # Sequential\n",
       "      sublayers=[Linear(weights=Parameter(value=<NamedArray float32(| features:64, features_out:16) ≈-0.004 ±0.16 [≥-0.27, ≤0.27] nonzero:1_024 (wrapping jax.Array)>, name='Affine_2.Linear.weights'), in_axis_names=('features',), out_axis_names=('features_out',)), RenameAxes(old=('features_out',), new=('features',)), AddBias(bias=Parameter(value=<NamedArray float32(| features:16) ≈0.0 ±0.0 [≥0.0, ≤0.0] zero:16 (wrapping jax.Array)>, name='Affine_2.AddBias.bias'), new_axis_names=())],\n",
       "    ),\n",
       "  ],\n",
       ")"
      ]
     },
     "execution_count": 69,
     "metadata": {},
     "output_type": "execute_result"
    }
   ],
   "source": [
    "mlp = pz.nn.initialize_parameters(\n",
    "    simple_mlp.MLP.from_config(feature_sizes=[32, 64, 64, 16]),\n",
    "    jax.random.PRNGKey(0),\n",
    ")\n",
    "mlp"
   ]
  },
  {
   "cell_type": "code",
   "execution_count": 70,
   "metadata": {
    "execution": {
     "iopub.execute_input": "2024-07-16T16:57:45.353283Z",
     "iopub.status.busy": "2024-07-16T16:57:45.353040Z",
     "iopub.status.idle": "2024-07-16T16:57:45.359138Z",
     "shell.execute_reply": "2024-07-16T16:57:45.358943Z"
    },
    "id": "nFT8THeWW2in"
   },
   "outputs": [
    {
     "data": {
      "text/html": [
       "<script> (()=>{ if (customElements.get('treescope-container') === undefined) { class TreescopeContainer extends HTMLElement { constructor() { super(); this.attachShadow({mode: \"open\"}); this.defns = {}; this.state = {}; } } customElements.define(\"treescope-container\", TreescopeContainer); } if (customElements.get('treescope-run-here') === undefined) { class RunHere extends HTMLElement { constructor() { super() } connectedCallback() { const run = child => { const fn = new Function(child.textContent); child.textContent = \"\"; fn.call(this); this.remove(); }; const child = this.querySelector(\"script\"); if (child) { run(child); } else { new MutationObserver(()=>{ run(this.querySelector(\"script\")); }).observe(this, {childList: true}); } } } customElements.define(\"treescope-run-here\", RunHere); } })(); </script> <treescope-container class=\"treescope_out_f08eea8881654641aa014e54da9d602a\" ></treescope-container> <treescope-run-here><script type=\"application/octet-stream\"> const root = ( Array.from(document.getElementsByClassName( \"treescope_out_f08eea8881654641aa014e54da9d602a\")) .filter((elt) => !elt.dataset.setup) )[0]; root.dataset.setup = 1; const msg = document.createElement(\"span\"); msg.style = \"color: #aaaaaa; font-family: monospace; transition: opacity 0.2s; opacity: 0.0;\"; msg.textContent = \"(Loading...)\"; root.state.loadingMsg = msg; root.shadowRoot.appendChild(msg); root.state.chain = new Promise((resolve, reject) => { const observer = new IntersectionObserver((entries) => { for (const entry of entries) { if (entry.isIntersecting) { resolve(); observer.disconnect(); return; } } }, {rootMargin: \"1000px\"}); window.setTimeout(() => { if (root.loadingMsg) { root.loadingMsg.style.opacity = \"1.0\"; } observer.observe(root); }, 0); }); root.state.deferring = false; const _insertNode = (node) => { for (let oldScript of node.querySelectorAll(\"script\")) { let newScript = document.createElement(\"script\"); newScript.type = oldScript.type; newScript.textContent = oldScript.textContent; oldScript.parentNode.replaceChild(newScript, oldScript); } if (root.state.loadingMsg) { root.state.loadingMsg.remove(); root.state.loadingMsg = null; } root.shadowRoot.appendChild(node); }; root.defns.insertContent = ((contentNode, compressed) => { if (compressed) { root.state.deferring = true; } if (root.state.deferring) { root.state.chain = (async () => { await root.state.chain; if (compressed) { const encoded = contentNode.textContent; const blob = new Blob([ Uint8Array.from(atob(encoded), (m) => m.codePointAt(0)) ]); const reader = blob.stream().pipeThrough( new DecompressionStream(\"deflate\") ).pipeThrough( new TextDecoderStream(\"utf-8\") ).getReader(); const parts = []; while (true) { const step = await reader.read(); if (step.done) { break; } parts.push(step.value); } const tpl = document.createElement('template'); tpl.innerHTML = parts.join(\"\"); _insertNode(tpl.content); } else { _insertNode(contentNode.content); } })(); } else { _insertNode(contentNode.content); } }); </script></treescope-run-here><div style=\"display:none\"> <script type=\"application/octet-stream\" >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</script> <treescope-run-here><script type=\"application/octet-stream\"> const root = ( Array.from(document.getElementsByClassName( \"treescope_out_f08eea8881654641aa014e54da9d602a\")) .filter((elt) => !elt.dataset['step0']) )[0]; root.dataset['step0'] = 1; root.defns.insertContent( this.parentNode.querySelector('script[type=\"application/octet-stream\"]'), true ); this.parentNode.remove(); </script></treescope-run-here> </div>"
      ],
      "text/plain": [
       "<IPython.core.display.HTML object>"
      ]
     },
     "metadata": {},
     "output_type": "display_data"
    },
    {
     "data": {
      "text/html": [
       "<treescope-run-here><script type=\"application/octet-stream\"> const root = ( Array.from(document.getElementsByClassName( \"treescope_out_f08eea8881654641aa014e54da9d602a\")) .filter((elt) => !elt.dataset.stolen) )[0]; root.dataset.stolen = 1; this.parentNode.replaceChild(root, this); </script></treescope-run-here>"
      ],
      "text/plain": [
       "[(GetAttrKey(name='sublayers'),\n",
       "  SequenceKey(idx=0),\n",
       "  GetAttrKey(name='sublayers'),\n",
       "  SequenceKey(idx=0),\n",
       "  GetAttrKey(name='weights'),\n",
       "  GetAttrKey(name='value'),\n",
       "  GetAttrKey(name='data_array')),\n",
       " (GetAttrKey(name='sublayers'),\n",
       "  SequenceKey(idx=0),\n",
       "  GetAttrKey(name='sublayers'),\n",
       "  SequenceKey(idx=2),\n",
       "  GetAttrKey(name='bias'),\n",
       "  GetAttrKey(name='value'),\n",
       "  GetAttrKey(name='data_array')),\n",
       " (GetAttrKey(name='sublayers'),\n",
       "  SequenceKey(idx=2),\n",
       "  GetAttrKey(name='sublayers'),\n",
       "  SequenceKey(idx=0),\n",
       "  GetAttrKey(name='weights'),\n",
       "  GetAttrKey(name='value'),\n",
       "  GetAttrKey(name='data_array')),\n",
       " (GetAttrKey(name='sublayers'),\n",
       "  SequenceKey(idx=2),\n",
       "  GetAttrKey(name='sublayers'),\n",
       "  SequenceKey(idx=2),\n",
       "  GetAttrKey(name='bias'),\n",
       "  GetAttrKey(name='value'),\n",
       "  GetAttrKey(name='data_array')),\n",
       " (GetAttrKey(name='sublayers'),\n",
       "  SequenceKey(idx=4),\n",
       "  GetAttrKey(name='sublayers'),\n",
       "  SequenceKey(idx=0),\n",
       "  GetAttrKey(name='weights'),\n",
       "  GetAttrKey(name='value'),\n",
       "  GetAttrKey(name='data_array')),\n",
       " (GetAttrKey(name='sublayers'),\n",
       "  SequenceKey(idx=4),\n",
       "  GetAttrKey(name='sublayers'),\n",
       "  SequenceKey(idx=2),\n",
       "  GetAttrKey(name='bias'),\n",
       "  GetAttrKey(name='value'),\n",
       "  GetAttrKey(name='data_array'))]"
      ]
     },
     "execution_count": 70,
     "metadata": {},
     "output_type": "execute_result"
    }
   ],
   "source": [
    "[\n",
    "  key for key in\n",
    "  pz.select(mlp).at_instances_of(jax.Array).selected_by_path.keys()\n",
    "]"
   ]
  },
  {
   "cell_type": "code",
   "execution_count": 71,
   "metadata": {
    "execution": {
     "iopub.execute_input": "2024-07-16T16:57:45.364901Z",
     "iopub.status.busy": "2024-07-16T16:57:45.364628Z",
     "iopub.status.idle": "2024-07-16T16:57:45.368652Z",
     "shell.execute_reply": "2024-07-16T16:57:45.368464Z"
    },
    "id": "qzrhXuqcuYjA"
   },
   "outputs": [
    {
     "data": {
      "text/html": [
       "<script> (()=>{ if (customElements.get('treescope-container') === undefined) { class TreescopeContainer extends HTMLElement { constructor() { super(); this.attachShadow({mode: \"open\"}); this.defns = {}; this.state = {}; } } customElements.define(\"treescope-container\", TreescopeContainer); } if (customElements.get('treescope-run-here') === undefined) { class RunHere extends HTMLElement { constructor() { super() } connectedCallback() { const run = child => { const fn = new Function(child.textContent); child.textContent = \"\"; fn.call(this); this.remove(); }; const child = this.querySelector(\"script\"); if (child) { run(child); } else { new MutationObserver(()=>{ run(this.querySelector(\"script\")); }).observe(this, {childList: true}); } } } customElements.define(\"treescope-run-here\", RunHere); } })(); </script> <treescope-container class=\"treescope_out_0f185d5d29bf488dad3dc09c24e94144\" ></treescope-container> <treescope-run-here><script type=\"application/octet-stream\"> const root = ( Array.from(document.getElementsByClassName( \"treescope_out_0f185d5d29bf488dad3dc09c24e94144\")) .filter((elt) => !elt.dataset.setup) )[0]; root.dataset.setup = 1; const msg = document.createElement(\"span\"); msg.style = \"color: #aaaaaa; font-family: monospace; transition: opacity 0.2s; opacity: 0.0;\"; msg.textContent = \"(Loading...)\"; root.state.loadingMsg = msg; root.shadowRoot.appendChild(msg); root.state.chain = new Promise((resolve, reject) => { const observer = new IntersectionObserver((entries) => { for (const entry of entries) { if (entry.isIntersecting) { resolve(); observer.disconnect(); return; } } }, {rootMargin: \"1000px\"}); window.setTimeout(() => { if (root.loadingMsg) { root.loadingMsg.style.opacity = \"1.0\"; } observer.observe(root); }, 0); }); root.state.deferring = false; const _insertNode = (node) => { for (let oldScript of node.querySelectorAll(\"script\")) { let newScript = document.createElement(\"script\"); newScript.type = oldScript.type; newScript.textContent = oldScript.textContent; oldScript.parentNode.replaceChild(newScript, oldScript); } if (root.state.loadingMsg) { root.state.loadingMsg.remove(); root.state.loadingMsg = null; } root.shadowRoot.appendChild(node); }; root.defns.insertContent = ((contentNode, compressed) => { if (compressed) { root.state.deferring = true; } if (root.state.deferring) { root.state.chain = (async () => { await root.state.chain; if (compressed) { const encoded = contentNode.textContent; const blob = new Blob([ Uint8Array.from(atob(encoded), (m) => m.codePointAt(0)) ]); const reader = blob.stream().pipeThrough( new DecompressionStream(\"deflate\") ).pipeThrough( new TextDecoderStream(\"utf-8\") ).getReader(); const parts = []; while (true) { const step = await reader.read(); if (step.done) { break; } parts.push(step.value); } const tpl = document.createElement('template'); tpl.innerHTML = parts.join(\"\"); _insertNode(tpl.content); } else { _insertNode(contentNode.content); } })(); } else { _insertNode(contentNode.content); } }); </script></treescope-run-here><div style=\"display:none\"> <script type=\"application/octet-stream\" >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</script> <treescope-run-here><script type=\"application/octet-stream\"> const root = ( Array.from(document.getElementsByClassName( \"treescope_out_0f185d5d29bf488dad3dc09c24e94144\")) .filter((elt) => !elt.dataset['step0']) )[0]; root.dataset['step0'] = 1; root.defns.insertContent( this.parentNode.querySelector('script[type=\"application/octet-stream\"]'), true ); this.parentNode.remove(); </script></treescope-run-here> </div>"
      ],
      "text/plain": [
       "<IPython.core.display.HTML object>"
      ]
     },
     "metadata": {},
     "output_type": "display_data"
    },
    {
     "data": {
      "text/html": [
       "<treescope-run-here><script type=\"application/octet-stream\"> const root = ( Array.from(document.getElementsByClassName( \"treescope_out_0f185d5d29bf488dad3dc09c24e94144\")) .filter((elt) => !elt.dataset.stolen) )[0]; root.dataset.stolen = 1; this.parentNode.replaceChild(root, this); </script></treescope-run-here>"
      ],
      "text/plain": [
       "['.sublayers[0].sublayers[0].weights.value.data_array',\n",
       " '.sublayers[0].sublayers[2].bias.value.data_array',\n",
       " '.sublayers[2].sublayers[0].weights.value.data_array',\n",
       " '.sublayers[2].sublayers[2].bias.value.data_array',\n",
       " '.sublayers[4].sublayers[0].weights.value.data_array',\n",
       " '.sublayers[4].sublayers[2].bias.value.data_array']"
      ]
     },
     "execution_count": 71,
     "metadata": {},
     "output_type": "execute_result"
    }
   ],
   "source": [
    "[\n",
    "  jax.tree_util.keystr(key) for key in\n",
    "  pz.select(mlp).at_instances_of(jax.Array).selected_by_path.keys()\n",
    "]"
   ]
  },
  {
   "cell_type": "code",
   "execution_count": 72,
   "metadata": {
    "execution": {
     "iopub.execute_input": "2024-07-16T16:57:45.374780Z",
     "iopub.status.busy": "2024-07-16T16:57:45.374531Z",
     "iopub.status.idle": "2024-07-16T16:57:45.378302Z",
     "shell.execute_reply": "2024-07-16T16:57:45.378059Z"
    },
    "id": "Ots2ZBckNwJo"
   },
   "outputs": [
    {
     "data": {
      "text/html": [
       "<script> (()=>{ if (customElements.get('treescope-container') === undefined) { class TreescopeContainer extends HTMLElement { constructor() { super(); this.attachShadow({mode: \"open\"}); this.defns = {}; this.state = {}; } } customElements.define(\"treescope-container\", TreescopeContainer); } if (customElements.get('treescope-run-here') === undefined) { class RunHere extends HTMLElement { constructor() { super() } connectedCallback() { const run = child => { const fn = new Function(child.textContent); child.textContent = \"\"; fn.call(this); this.remove(); }; const child = this.querySelector(\"script\"); if (child) { run(child); } else { new MutationObserver(()=>{ run(this.querySelector(\"script\")); }).observe(this, {childList: true}); } } } customElements.define(\"treescope-run-here\", RunHere); } })(); </script> <treescope-container class=\"treescope_out_3d7a721dd5494570bd70009f5994e24d\" ></treescope-container> <treescope-run-here><script type=\"application/octet-stream\"> const root = ( Array.from(document.getElementsByClassName( \"treescope_out_3d7a721dd5494570bd70009f5994e24d\")) .filter((elt) => !elt.dataset.setup) )[0]; root.dataset.setup = 1; const msg = document.createElement(\"span\"); msg.style = \"color: #aaaaaa; font-family: monospace; transition: opacity 0.2s; opacity: 0.0;\"; msg.textContent = \"(Loading...)\"; root.state.loadingMsg = msg; root.shadowRoot.appendChild(msg); root.state.chain = new Promise((resolve, reject) => { const observer = new IntersectionObserver((entries) => { for (const entry of entries) { if (entry.isIntersecting) { resolve(); observer.disconnect(); return; } } }, {rootMargin: \"1000px\"}); window.setTimeout(() => { if (root.loadingMsg) { root.loadingMsg.style.opacity = \"1.0\"; } observer.observe(root); }, 0); }); root.state.deferring = false; const _insertNode = (node) => { for (let oldScript of node.querySelectorAll(\"script\")) { let newScript = document.createElement(\"script\"); newScript.type = oldScript.type; newScript.textContent = oldScript.textContent; oldScript.parentNode.replaceChild(newScript, oldScript); } if (root.state.loadingMsg) { root.state.loadingMsg.remove(); root.state.loadingMsg = null; } root.shadowRoot.appendChild(node); }; root.defns.insertContent = ((contentNode, compressed) => { if (compressed) { root.state.deferring = true; } if (root.state.deferring) { root.state.chain = (async () => { await root.state.chain; if (compressed) { const encoded = contentNode.textContent; const blob = new Blob([ Uint8Array.from(atob(encoded), (m) => m.codePointAt(0)) ]); const reader = blob.stream().pipeThrough( new DecompressionStream(\"deflate\") ).pipeThrough( new TextDecoderStream(\"utf-8\") ).getReader(); const parts = []; while (true) { const step = await reader.read(); if (step.done) { break; } parts.push(step.value); } const tpl = document.createElement('template'); tpl.innerHTML = parts.join(\"\"); _insertNode(tpl.content); } else { _insertNode(contentNode.content); } })(); } else { _insertNode(contentNode.content); } }); </script></treescope-run-here><div style=\"display:none\"> <script type=\"application/octet-stream\" >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</script> <treescope-run-here><script type=\"application/octet-stream\"> const root = ( Array.from(document.getElementsByClassName( \"treescope_out_3d7a721dd5494570bd70009f5994e24d\")) .filter((elt) => !elt.dataset['step0']) )[0]; root.dataset['step0'] = 1; root.defns.insertContent( this.parentNode.querySelector('script[type=\"application/octet-stream\"]'), true ); this.parentNode.remove(); </script></treescope-run-here> </div>"
      ],
      "text/plain": [
       "<IPython.core.display.HTML object>"
      ]
     },
     "metadata": {},
     "output_type": "display_data"
    },
    {
     "data": {
      "text/html": [
       "<treescope-run-here><script type=\"application/octet-stream\"> const root = ( Array.from(document.getElementsByClassName( \"treescope_out_3d7a721dd5494570bd70009f5994e24d\")) .filter((elt) => !elt.dataset.stolen) )[0]; root.dataset.stolen = 1; this.parentNode.replaceChild(root, this); </script></treescope-run-here>"
      ],
      "text/plain": [
       "['MLP.sublayers[0]/Affine.sublayers[0]/Linear.weights/Parameter.value/NamedArray.data_array',\n",
       " 'MLP.sublayers[0]/Affine.sublayers[2]/AddBias.bias/Parameter.value/NamedArray.data_array',\n",
       " 'MLP.sublayers[2]/Affine.sublayers[0]/Linear.weights/Parameter.value/NamedArray.data_array',\n",
       " 'MLP.sublayers[2]/Affine.sublayers[2]/AddBias.bias/Parameter.value/NamedArray.data_array',\n",
       " 'MLP.sublayers[4]/Affine.sublayers[0]/Linear.weights/Parameter.value/NamedArray.data_array',\n",
       " 'MLP.sublayers[4]/Affine.sublayers[2]/AddBias.bias/Parameter.value/NamedArray.data_array']"
      ]
     },
     "execution_count": 72,
     "metadata": {},
     "output_type": "execute_result"
    }
   ],
   "source": [
    "[\n",
    "  pz.pretty_keystr(key, mlp) for key in\n",
    "  pz.select(mlp).at_instances_of(jax.Array).selected_by_path.keys()\n",
    "]"
   ]
  },
  {
   "cell_type": "code",
   "execution_count": null,
   "metadata": {
    "id": "2FQPmfO2Nyof"
   },
   "outputs": [],
   "source": []
  }
 ],
 "metadata": {
  "colab": {
   "name": "Selectors and selections",
   "toc_visible": true
  },
  "kernelspec": {
   "display_name": "Python 3",
   "name": "python3"
  },
  "language_info": {
   "codemirror_mode": {
    "name": "ipython",
    "version": 3
   },
   "file_extension": ".py",
   "mimetype": "text/x-python",
   "name": "python",
   "nbconvert_exporter": "python",
   "pygments_lexer": "ipython3",
   "version": "3.10.12"
  }
 },
 "nbformat": 4,
 "nbformat_minor": 0
}
