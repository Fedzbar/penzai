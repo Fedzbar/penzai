{
 "cells": [
  {
   "cell_type": "markdown",
   "metadata": {
    "id": "DfejMHs4lr8V"
   },
   "source": [
    "*Copyright 2024 The Penzai Authors.*\n",
    "\n",
    "*Licensed under the Apache License, Version 2.0 (the \"License\"); you may not use this file except in compliance with the License.\n",
    "You may obtain a copy of the License at*\n",
    "\n",
    "> http://www.apache.org/licenses/LICENSE-2.0\n",
    "\n",
    "*Unless required by applicable law or agreed to in writing, software\n",
    "distributed under the License is distributed on an \"AS IS\" BASIS,\n",
    "WITHOUT WARRANTIES OR CONDITIONS OF ANY KIND, either express or  implied.\n",
    "See the License for the specific language governing permissions and\n",
    "limitations under the License.*\n",
    "\n",
    "---"
   ]
  },
  {
   "cell_type": "markdown",
   "metadata": {
    "id": "USGIPdLYDzSo"
   },
   "source": [
    "[![Open in Colab](https://colab.research.google.com/assets/colab-badge.svg)](https://colab.research.google.com/github/google-deepmind/penzai/blob/main/notebooks/selectors.ipynb) [![Open in Kaggle](https://kaggle.com/static/images/open-in-kaggle.svg)](https://kaggle.com/kernels/welcome?src=https://github.com/google-deepmind/penzai/blob/main/notebooks/selectors.ipynb)"
   ]
  },
  {
   "cell_type": "markdown",
   "metadata": {
    "id": "RbZ02bVnH7LL"
   },
   "source": [
    "# Selectors and Selections"
   ]
  },
  {
   "cell_type": "markdown",
   "metadata": {
    "id": "FG4w_VU1H_WN"
   },
   "source": [
    "Penzai is designed to make it easy to make targeted modifications to models and parameter trees. For this purpose, Penzai provides a powerful \"selection\" system to allow you to identify, visualize, and modify arbitrary JAX PyTrees. In short, `pz.select` enables `.at[...].set(...)`-style modification for arbitrary PyTree types.\n",
    "\n",
    "This notebook describes the basics of Penzai's selection object and shows how you can use it to make a variety of modifications.\n"
   ]
  },
  {
   "cell_type": "markdown",
   "metadata": {
    "id": "SHr2rnIL8DzM"
   },
   "source": [
    "## Setup"
   ]
  },
  {
   "cell_type": "markdown",
   "metadata": {
    "id": "VkW4lYKAu-oR"
   },
   "source": [
    "We'll start by setting up the environment."
   ]
  },
  {
   "cell_type": "markdown",
   "metadata": {
    "id": "ozG8ERNavDos"
   },
   "source": [
    "### Imports"
   ]
  },
  {
   "cell_type": "markdown",
   "metadata": {
    "id": "xmxgAcFQmZkB"
   },
   "source": [
    "To run this notebook, you need a Python environment with `penzai` and its dependencies installed.\n",
    "\n",
    "In Colab or Kaggle, you can install it using the following command:"
   ]
  },
  {
   "cell_type": "code",
   "execution_count": 1,
   "metadata": {
    "execution": {
     "iopub.execute_input": "2024-05-03T20:32:23.927736Z",
     "iopub.status.busy": "2024-05-03T20:32:23.927496Z",
     "iopub.status.idle": "2024-05-03T20:32:23.931037Z",
     "shell.execute_reply": "2024-05-03T20:32:23.930492Z"
    },
    "id": "XGZH58j8mPkj"
   },
   "outputs": [],
   "source": [
    "try:\n",
    "  import penzai\n",
    "except ImportError:\n",
    "  !pip install penzai[notebook]"
   ]
  },
  {
   "cell_type": "code",
   "execution_count": 2,
   "metadata": {
    "execution": {
     "iopub.execute_input": "2024-05-03T20:32:23.933941Z",
     "iopub.status.busy": "2024-05-03T20:32:23.933709Z",
     "iopub.status.idle": "2024-05-03T20:32:25.572800Z",
     "shell.execute_reply": "2024-05-03T20:32:25.571983Z"
    },
    "id": "iog3oMAMGCMG"
   },
   "outputs": [],
   "source": [
    "from __future__ import annotations\n",
    "import typing\n",
    "import traceback\n",
    "\n",
    "import jax\n",
    "import jax.numpy as jnp"
   ]
  },
  {
   "cell_type": "code",
   "execution_count": 3,
   "metadata": {
    "execution": {
     "iopub.execute_input": "2024-05-03T20:32:25.576790Z",
     "iopub.status.busy": "2024-05-03T20:32:25.576486Z",
     "iopub.status.idle": "2024-05-03T20:32:25.748620Z",
     "shell.execute_reply": "2024-05-03T20:32:25.747997Z"
    },
    "id": "5Mh2mAuiQ4aa"
   },
   "outputs": [],
   "source": [
    "import penzai\n",
    "from penzai import pz"
   ]
  },
  {
   "cell_type": "code",
   "execution_count": 4,
   "metadata": {
    "execution": {
     "iopub.execute_input": "2024-05-03T20:32:25.752397Z",
     "iopub.status.busy": "2024-05-03T20:32:25.752172Z",
     "iopub.status.idle": "2024-05-03T20:32:25.756518Z",
     "shell.execute_reply": "2024-05-03T20:32:25.755995Z"
    },
    "id": "QMSmQSSzOOnj"
   },
   "outputs": [],
   "source": [
    "from penzai.example_models import simple_mlp"
   ]
  },
  {
   "cell_type": "markdown",
   "metadata": {
    "id": "OGzhV5uWvkvB"
   },
   "source": [
    "### Setting up Penzai"
   ]
  },
  {
   "cell_type": "markdown",
   "metadata": {
    "id": "TjGkV8F8vmpi"
   },
   "source": [
    "For this tutorial, we'll enable Treescope (Penzai's pretty-printer) as the default IPython pretty-printer. This is recommended when using Penzai in an interactive environment."
   ]
  },
  {
   "cell_type": "code",
   "execution_count": 5,
   "metadata": {
    "execution": {
     "iopub.execute_input": "2024-05-03T20:32:25.760090Z",
     "iopub.status.busy": "2024-05-03T20:32:25.759859Z",
     "iopub.status.idle": "2024-05-03T20:32:32.576049Z",
     "shell.execute_reply": "2024-05-03T20:32:32.575237Z"
    },
    "id": "YodWk_jmva_7"
   },
   "outputs": [],
   "source": [
    "pz.ts.register_as_default()\n",
    "pz.ts.register_autovisualize_magic()\n",
    "pz.ts.register_context_manager_magic()"
   ]
  },
  {
   "cell_type": "markdown",
   "metadata": {
    "id": "3egey4t42OTo"
   },
   "source": [
    "## What are selectors?"
   ]
  },
  {
   "cell_type": "markdown",
   "metadata": {
    "id": "SmFOag2y2UjQ"
   },
   "source": [
    "If you're familiar with JAX, you probably know that JAX arrays are immutable. This maens that it's not possible to directly assign to elements of a JAX array:"
   ]
  },
  {
   "cell_type": "code",
   "execution_count": 6,
   "metadata": {
    "execution": {
     "iopub.execute_input": "2024-05-03T20:32:32.580453Z",
     "iopub.status.busy": "2024-05-03T20:32:32.580223Z",
     "iopub.status.idle": "2024-05-03T20:32:33.973006Z",
     "shell.execute_reply": "2024-05-03T20:32:33.972139Z"
    },
    "id": "V4fKIMM4807s"
   },
   "outputs": [
    {
     "data": {
      "text/html": [
       "<div id=\"output_61d5d00ba7c3410eb815ef1bbe2747e1\"><script> /* penzai.treescope rendering of a Python object (compressed) */ (()=>{ let observer; let lastStep = new Promise((resolve, reject) => { observer = new IntersectionObserver((entries) => { for (const entry of entries) { if (entry.isIntersecting) { resolve(); observer.disconnect(); return; } } }, {rootMargin: \"1000px\"}); }); window.treescope_decompress_enqueue = (encoded, destId) => { const previous = lastStep; const destElt = document.getElementById(destId); lastStep = (async () => { await previous; let blob = new Blob([ Uint8Array.from(atob(encoded), (m) => m.codePointAt(0)) ]); let reader = blob.stream().pipeThrough( new DecompressionStream(\"deflate\") ).pipeThrough( new TextDecoderStream(\"utf-8\") ).getReader(); let parts = []; while (true) { let step = await reader.read(); if (step.done) { break; } parts.push(step.value); } let newElt = document.createElement(\"div\"); newElt.innerHTML = parts.join(\"\"); destElt.parentNode.replaceChild(newElt, destElt); for (let oldScript of newElt.querySelectorAll(\"script\")) { let newScript = document.createElement(\"script\"); newScript.type = oldScript.type; newScript.textContent = oldScript.textContent; oldScript.parentNode.replaceChild(newScript, oldScript); } })(); requestAnimationFrame(() => { observer.observe(destElt); }); } })(); </script><div id=\"compress_html_8432e6a7f23a4f1ebd04aeb05f5295a0\"><script>window.treescope_decompress_enqueue(\"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\", \"compress_html_8432e6a7f23a4f1ebd04aeb05f5295a0\");</script><span style=\"color: #aaaaaa; font-family: monospace\">(Loading...)</span></div></div>"
      ],
      "text/plain": [
       "<IPython.core.display.HTML object>"
      ]
     },
     "metadata": {},
     "output_type": "display_data"
    },
    {
     "data": {
      "text/html": [
       "<div id=\"compress_html_79823cde3f704b8b8b0970be1f0e2266\"><script>window.treescope_decompress_enqueue(\"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\", \"compress_html_79823cde3f704b8b8b0970be1f0e2266\");</script></div>"
      ],
      "text/plain": [
       "<IPython.core.display.HTML object>"
      ]
     },
     "metadata": {},
     "output_type": "display_data"
    },
    {
     "data": {
      "text/html": [
       "<div id=\"output_dest_61d5d00ba7c3410eb815ef1bbe2747e1\"><script> (()=>{ const output = document.getElementById(\"output_61d5d00ba7c3410eb815ef1bbe2747e1\"); const dest = document.getElementById(\"output_dest_61d5d00ba7c3410eb815ef1bbe2747e1\"); dest.parentNode.replaceChild(output, dest); })(); </script></div>"
      ],
      "text/plain": [
       "# jax.Array float32(10, 10) ≈0.0 ±0.0 [≥0.0, ≤0.0] zero:100\n",
       "  Array([[0., 0., 0., 0., 0., 0., 0., 0., 0., 0.],\n",
       "         [0., 0., 0., 0., 0., 0., 0., 0., 0., 0.],\n",
       "         [0., 0., 0., 0., 0., 0., 0., 0., 0., 0.],\n",
       "         [0., 0., 0., 0., 0., 0., 0., 0., 0., 0.],\n",
       "         [0., 0., 0., 0., 0., 0., 0., 0., 0., 0.],\n",
       "         [0., 0., 0., 0., 0., 0., 0., 0., 0., 0.],\n",
       "         [0., 0., 0., 0., 0., 0., 0., 0., 0., 0.],\n",
       "         [0., 0., 0., 0., 0., 0., 0., 0., 0., 0.],\n",
       "         [0., 0., 0., 0., 0., 0., 0., 0., 0., 0.],\n",
       "         [0., 0., 0., 0., 0., 0., 0., 0., 0., 0.]], dtype=float32)\n"
      ]
     },
     "execution_count": 6,
     "metadata": {},
     "output_type": "execute_result"
    }
   ],
   "source": [
    "array = jnp.zeros((10, 10))\n",
    "array"
   ]
  },
  {
   "cell_type": "code",
   "execution_count": 7,
   "metadata": {
    "execution": {
     "iopub.execute_input": "2024-05-03T20:32:33.976555Z",
     "iopub.status.busy": "2024-05-03T20:32:33.976322Z",
     "iopub.status.idle": "2024-05-03T20:32:33.980423Z",
     "shell.execute_reply": "2024-05-03T20:32:33.979768Z"
    },
    "id": "HYD71Mqo89Bf"
   },
   "outputs": [
    {
     "name": "stderr",
     "output_type": "stream",
     "text": [
      "Traceback (most recent call last):\n",
      "  File \"<ipython-input-7-5c112bb0ee90>\", line 2, in <cell line: 1>\n",
      "    array[1, 2] = 42\n",
      "  File \"/usr/local/lib/python3.10/dist-packages/jax/_src/numpy/array_methods.py\", line 278, in _unimplemented_setitem\n",
      "    raise TypeError(msg.format(type(self)))\n",
      "TypeError: '<class 'jaxlib.xla_extension.ArrayImpl'>' object does not support item assignment. JAX arrays are immutable. Instead of ``x[idx] = y``, use ``x = x.at[idx].set(y)`` or another .at[] method: https://jax.readthedocs.io/en/latest/_autosummary/jax.numpy.ndarray.at.html\n"
     ]
    }
   ],
   "source": [
    "try:\n",
    "  array[1, 2] = 42\n",
    "except TypeError:\n",
    "  import traceback\n",
    "  traceback.print_exc()"
   ]
  },
  {
   "cell_type": "markdown",
   "metadata": {
    "id": "GyEJo0EV9Kld"
   },
   "source": [
    "Instead, to modify a JAX array you can use the special `.at` property, which returns a modified copy of the original array with changes at the location you specified:"
   ]
  },
  {
   "cell_type": "code",
   "execution_count": 8,
   "metadata": {
    "execution": {
     "iopub.execute_input": "2024-05-03T20:32:33.984104Z",
     "iopub.status.busy": "2024-05-03T20:32:33.983892Z",
     "iopub.status.idle": "2024-05-03T20:32:34.196122Z",
     "shell.execute_reply": "2024-05-03T20:32:34.195281Z"
    },
    "id": "o6Ydo5jt8_Oo"
   },
   "outputs": [
    {
     "data": {
      "text/html": [
       "<div id=\"output_de7d59e60a0845ed9abc066b58fad947\"><script> /* penzai.treescope rendering of a Python object (compressed) */ (()=>{ let observer; let lastStep = new Promise((resolve, reject) => { observer = new IntersectionObserver((entries) => { for (const entry of entries) { if (entry.isIntersecting) { resolve(); observer.disconnect(); return; } } }, {rootMargin: \"1000px\"}); }); window.treescope_decompress_enqueue = (encoded, destId) => { const previous = lastStep; const destElt = document.getElementById(destId); lastStep = (async () => { await previous; let blob = new Blob([ Uint8Array.from(atob(encoded), (m) => m.codePointAt(0)) ]); let reader = blob.stream().pipeThrough( new DecompressionStream(\"deflate\") ).pipeThrough( new TextDecoderStream(\"utf-8\") ).getReader(); let parts = []; while (true) { let step = await reader.read(); if (step.done) { break; } parts.push(step.value); } let newElt = document.createElement(\"div\"); newElt.innerHTML = parts.join(\"\"); destElt.parentNode.replaceChild(newElt, destElt); for (let oldScript of newElt.querySelectorAll(\"script\")) { let newScript = document.createElement(\"script\"); newScript.type = oldScript.type; newScript.textContent = oldScript.textContent; oldScript.parentNode.replaceChild(newScript, oldScript); } })(); requestAnimationFrame(() => { observer.observe(destElt); }); } })(); </script><div id=\"compress_html_03a5ada960c746758be6292a8e68dc38\"><script>window.treescope_decompress_enqueue(\"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\", \"compress_html_03a5ada960c746758be6292a8e68dc38\");</script><span style=\"color: #aaaaaa; font-family: monospace\">(Loading...)</span></div></div>"
      ],
      "text/plain": [
       "<IPython.core.display.HTML object>"
      ]
     },
     "metadata": {},
     "output_type": "display_data"
    },
    {
     "data": {
      "text/html": [
       "<div id=\"compress_html_b00a53f5be564e449f2ccd48fc99fa5f\"><script>window.treescope_decompress_enqueue(\"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\", \"compress_html_b00a53f5be564e449f2ccd48fc99fa5f\");</script></div>"
      ],
      "text/plain": [
       "<IPython.core.display.HTML object>"
      ]
     },
     "metadata": {},
     "output_type": "display_data"
    },
    {
     "data": {
      "text/html": [
       "<div id=\"output_dest_de7d59e60a0845ed9abc066b58fad947\"><script> (()=>{ const output = document.getElementById(\"output_de7d59e60a0845ed9abc066b58fad947\"); const dest = document.getElementById(\"output_dest_de7d59e60a0845ed9abc066b58fad947\"); dest.parentNode.replaceChild(output, dest); })(); </script></div>"
      ],
      "text/plain": [
       "# jax.Array float32(10, 10) ≈0.42 ±4.2 [≥0.0, ≤4.2e+01] zero:99 nonzero:1\n",
       "  Array([[ 0.,  0.,  0.,  0.,  0.,  0.,  0.,  0.,  0.,  0.],\n",
       "         [ 0.,  0., 42.,  0.,  0.,  0.,  0.,  0.,  0.,  0.],\n",
       "         [ 0.,  0.,  0.,  0.,  0.,  0.,  0.,  0.,  0.,  0.],\n",
       "         [ 0.,  0.,  0.,  0.,  0.,  0.,  0.,  0.,  0.,  0.],\n",
       "         [ 0.,  0.,  0.,  0.,  0.,  0.,  0.,  0.,  0.,  0.],\n",
       "         [ 0.,  0.,  0.,  0.,  0.,  0.,  0.,  0.,  0.,  0.],\n",
       "         [ 0.,  0.,  0.,  0.,  0.,  0.,  0.,  0.,  0.,  0.],\n",
       "         [ 0.,  0.,  0.,  0.,  0.,  0.,  0.,  0.,  0.,  0.],\n",
       "         [ 0.,  0.,  0.,  0.,  0.,  0.,  0.,  0.,  0.,  0.],\n",
       "         [ 0.,  0.,  0.,  0.,  0.,  0.,  0.,  0.,  0.,  0.]], dtype=float32)\n"
      ]
     },
     "execution_count": 8,
     "metadata": {},
     "output_type": "execute_result"
    }
   ],
   "source": [
    "modified_array = array.at[1, 2].set(42)\n",
    "modified_array"
   ]
  },
  {
   "cell_type": "markdown",
   "metadata": {
    "id": "AfD7GKrc-KFP"
   },
   "source": [
    "JAX also introduces the concept of [PyTrees](https://jax.readthedocs.io/en/latest/pytrees.html): nested containers of data that JAX knows how to traverse. Most JAX transformations are designed to work with functions that take PyTrees as input and return PyTrees as output.\n",
    "\n",
    "Although JAX does treat dictionaries and lists as PyTrees, JAX usually assumes that those trees will not be mutated, and expects the user to write code in a functional style, avoiding mutating its arguments directly.\n",
    "\n",
    "**`pz.select` enables `.at[...].set(...)`-style modification for arbitrary PyTrees**, making it possible to perform complex path-based and type-driven modifications to the objects you're already using:"
   ]
  },
  {
   "cell_type": "code",
   "execution_count": 9,
   "metadata": {
    "execution": {
     "iopub.execute_input": "2024-05-03T20:32:34.199467Z",
     "iopub.status.busy": "2024-05-03T20:32:34.199246Z",
     "iopub.status.idle": "2024-05-03T20:32:34.276012Z",
     "shell.execute_reply": "2024-05-03T20:32:34.275100Z"
    },
    "id": "qMN5Bzdq-A7q"
   },
   "outputs": [],
   "source": [
    "my_nested_object = {\n",
    "    \"a\": 1,\n",
    "    \"b\": jnp.arange(10),\n",
    "    \"c\": [\n",
    "        {\"value\": jnp.arange(12)},\n",
    "        {\"value\": jnp.zeros([7])},\n",
    "        {\"value\": 3},\n",
    "    ]\n",
    "}"
   ]
  },
  {
   "cell_type": "code",
   "execution_count": 10,
   "metadata": {
    "execution": {
     "iopub.execute_input": "2024-05-03T20:32:34.279359Z",
     "iopub.status.busy": "2024-05-03T20:32:34.279137Z",
     "iopub.status.idle": "2024-05-03T20:32:34.353440Z",
     "shell.execute_reply": "2024-05-03T20:32:34.352560Z"
    },
    "id": "yPqRBFmD9N4V"
   },
   "outputs": [
    {
     "data": {
      "text/html": [
       "<div id=\"output_4d4b66583e7a4723a315e4b10d0bc368\"><script> /* penzai.treescope rendering of a Python object (compressed) */ (()=>{ let observer; let lastStep = new Promise((resolve, reject) => { observer = new IntersectionObserver((entries) => { for (const entry of entries) { if (entry.isIntersecting) { resolve(); observer.disconnect(); return; } } }, {rootMargin: \"1000px\"}); }); window.treescope_decompress_enqueue = (encoded, destId) => { const previous = lastStep; const destElt = document.getElementById(destId); lastStep = (async () => { await previous; let blob = new Blob([ Uint8Array.from(atob(encoded), (m) => m.codePointAt(0)) ]); let reader = blob.stream().pipeThrough( new DecompressionStream(\"deflate\") ).pipeThrough( new TextDecoderStream(\"utf-8\") ).getReader(); let parts = []; while (true) { let step = await reader.read(); if (step.done) { break; } parts.push(step.value); } let newElt = document.createElement(\"div\"); newElt.innerHTML = parts.join(\"\"); destElt.parentNode.replaceChild(newElt, destElt); for (let oldScript of newElt.querySelectorAll(\"script\")) { let newScript = document.createElement(\"script\"); newScript.type = oldScript.type; newScript.textContent = oldScript.textContent; oldScript.parentNode.replaceChild(newScript, oldScript); } })(); requestAnimationFrame(() => { observer.observe(destElt); }); } })(); </script><div id=\"compress_html_2dd80991cafa497ea9559bebf36eba83\"><script>window.treescope_decompress_enqueue(\"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\", \"compress_html_2dd80991cafa497ea9559bebf36eba83\");</script><span style=\"color: #aaaaaa; font-family: monospace\">(Loading...)</span></div></div>"
      ],
      "text/plain": [
       "<IPython.core.display.HTML object>"
      ]
     },
     "metadata": {},
     "output_type": "display_data"
    },
    {
     "data": {
      "text/html": [
       "<div id=\"compress_html_e4667120e62744aaa4ec9f3787c3fedf\"><script>window.treescope_decompress_enqueue(\"eNrtWm1v2zYQ/iuEijVya6uSJctvsYEt3YB+6YdhwD4UgUCRtKWFFlWJzkuL/vcdKVm2bMd2vDTFNvUDHYl3x+PdQx4flZc0vkW5fOBsYtA4Tzl+GKFEJMxAMZ0YM5EFlM1YljEadInvE9vDLh30vYHdH/p0SFyv7w8HxO/5rjG9zFOcQKvsTa1QSCkWPE7YKBHStGaCUxxyFiSCslGEc3PKccj4tN4TSDGf80JnRCJGbhhttdCbFvqKUkxpnMw7UqQjZFtOjy3GSI3QiVg8j+QIOZZ+980igoPzOAwzdgua+nGEXvmDLrbttQARiwVLZHAXsSRg9+A/ZfTZ/F2NivW/alQIpnJ6LRByTG7GKIR2nollQjtlxy3OzE4n5ILcFK9aICUyyrIiBk56j3LBY3pIskjEMeFvyIoeUpaBZzdBxhZCsiAStyxD207vuiluOInMgfeTSorXQ449LCze4TzISSY4B3UprFmc5TKQMbk52erQsxxl1x4ix/Wt/l7DOvoHh2vtDCgznOSxjEUy2hkcOTliOGedOOmIpWyjmUhk506DbKtPZTUiUQDYJyzgbCY3gKoeFVJ7JKrLZdrSWjAr4FtJfl5inuAFC9KMzeJ7kNQe5PEXpqQGBchziRXcAhLFnGYsqaZYZB5NUV3k2YBd7RUaQ2O0wNkcwlFMl2BOzC6JUAc89UhUZOyIr9/NtXIRFK4V8Nde7V0EtQ1GzwMywiP0BpkOTGdTpbSbgxRrtVpVDNaqndN1V+OulqrWrEyu3nbK1y8YzfVmoyPYyTCNl3k5QYctYHaPT0x7+s+cOArxr7X9sMiv2uhO2A8PC3+zwOJ3qV7rJB8qYLoi6S1JZnG6CWxVn3VoZcZYTkQK24kQ0qqEgwV4gg5YiBM1ZrGRKiHw9qjgKYM9aqd0+fJdcTbQBwVEOM7ziVF3szxFrA4ltaxAJaXhwOvh8T68QezGRt10LTXQV2TsMk7SpUQSqt3E0DkKxb2xV6dMJ6i+00p18+t6KWGhMmkgiiXu3LCHFMtoYmx5U6s/JbhQvXQYp4Sm7NwqEcY0ZckXHK8TBUslBU9yKOQzzLmqcRZkQJ/Rip+PQv6+sp6qSZv1/st3ZcQ2xr1QVsMlQDi5QCK54lBdJxfrQSM4QkH0lFRAVKcpozhvXRSxUa8nhsnxIqQYKSSNdNsy1hmvBEfoYo/kxRiVMjgBwOGigl9cgQJScYe/q6NofTab0dveV1B9XzEOSO+ICqjecYI5HJvSbPIkiFg13X2ACXLITjI3pq9f3Xf745+zDD+Yn+w2ctqo20ZuG3lt1Gsjv436bTRoo+F1G1EN7jiRbrdV6NVD0d6FGQzGcZozakzRvoDVTsjGC0CiHprTAbKldz5cTgTP43AACnUmGGK6FwrJchGqEYZ9zx66/V6v6w8c/9+c2piek1jQ+oFp1WvrzMQq3ZctUgd4rnEQBq/2YmWn6vyF71dVRe9NB0rHIaAZMbxL5MaOfLDfmD5fAjY/FcA2y+VYd6Bi41Tz0xMrHl/P5fgAhH7gUlIzO2cxab3nWk6nLrWtOLWbWJ4UttoRcv2BDW19WDCmradlonZwP7o8qiXxtHPI7spZ/dD4dnr5hE+RvdDvOf2+7fR913Mce+gNSN+bdR1/6A9C7K0/RTY8o+EZDc84n2c4tlrhtqOarmpc1Xiq6anGV01fNQPVDKFxlIbjNCzkf8JCvK7tABNpWEjDQhoW0rCQhoU0LOSlWcjznVKej6O4xPO6g4FPset6oesOHeKE1HWpw5jfIw1HaThKw1Gei6NYalkfa6u1PuMCN5zkP85Jut7AbjhJw0kaTtJwkoaTNJzkB3CSM08lRzhITsATOTXNFppM0Vcikhx2Q724P9AcTdAn4/Q7221knP6/KpvCR+nN9bjwTMEAnLqDXUrcbRzIwd2gfqfMRFSQpdqMVeevnKk/f3n4QM1qdp/sa3WtsLA8y/BciYD1SpFkDEv2vnz8rZQwKx01zhUHxgZKK30Lp0AX6JXaPU2NWqIkPkIBMWW21BcZgdohkzOJYlC0x/BzuY65xVkylxG8fftWXfRTckXn5iiPzim+hgGUTi6WGWHvgWNOHg2FJpkGeou29ItHCw52HMD+ZywjszJX3IMurehpgsK6V132vmWmvq5Z3O3bMFIFTHW3lBCgsUDgCok7qWXJ5yVbsvclVv5gC7AnWW62Kt2/AWN8ADc=\", \"compress_html_e4667120e62744aaa4ec9f3787c3fedf\");</script></div>"
      ],
      "text/plain": [
       "<IPython.core.display.HTML object>"
      ]
     },
     "metadata": {},
     "output_type": "display_data"
    },
    {
     "data": {
      "text/html": [
       "<div id=\"output_dest_4d4b66583e7a4723a315e4b10d0bc368\"><script> (()=>{ const output = document.getElementById(\"output_4d4b66583e7a4723a315e4b10d0bc368\"); const dest = document.getElementById(\"output_dest_4d4b66583e7a4723a315e4b10d0bc368\"); dest.parentNode.replaceChild(output, dest); })(); </script></div>"
      ],
      "text/plain": [
       "{'a': 1,\n",
       " 'b': <jax.Array([0, 1, 2, 3, 4, 5, 6, 7, 8, 9], dtype=int32)>,\n",
       " 'c': [{'value': <jax.Array([100, 101, 102, 103, 104, 105, 106, 107, 108, 109, 110, 111], dtype=int32)>},\n",
       "  {'value': <jax.Array([100., 100., 100., 100., 100., 100., 100.], dtype=float32)>},\n",
       "  {'value': 103}]}"
      ]
     },
     "execution_count": 10,
     "metadata": {},
     "output_type": "execute_result"
    }
   ],
   "source": [
    "(\n",
    "    pz.select(my_nested_object)\n",
    "      .at(lambda root: root[\"c\"])\n",
    "      .at_instances_of(jax.typing.ArrayLike)\n",
    "      .apply(lambda value: value + 100)\n",
    ")"
   ]
  },
  {
   "cell_type": "markdown",
   "metadata": {
    "id": "4vKkkNk5-cmj"
   },
   "source": [
    "Selectors are first-class objects, defined in `penzai.core.selectors` but aliased to `pz.select` and `pz.Selection`. Internally, they are ordinary PyTrees:\n"
   ]
  },
  {
   "cell_type": "code",
   "execution_count": 11,
   "metadata": {
    "execution": {
     "iopub.execute_input": "2024-05-03T20:32:34.357039Z",
     "iopub.status.busy": "2024-05-03T20:32:34.356815Z",
     "iopub.status.idle": "2024-05-03T20:32:34.379712Z",
     "shell.execute_reply": "2024-05-03T20:32:34.379069Z"
    },
    "id": "Y58Ll7sO_qjo"
   },
   "outputs": [
    {
     "data": {
      "text/html": [
       "<script> /* penzai.treescope rendering of a Python object (compressed) */ (()=>{ let observer; let lastStep = new Promise((resolve, reject) => { observer = new IntersectionObserver((entries) => { for (const entry of entries) { if (entry.isIntersecting) { resolve(); observer.disconnect(); return; } } }, {rootMargin: \"1000px\"}); }); window.treescope_decompress_enqueue = (encoded, destId) => { const previous = lastStep; const destElt = document.getElementById(destId); lastStep = (async () => { await previous; let blob = new Blob([ Uint8Array.from(atob(encoded), (m) => m.codePointAt(0)) ]); let reader = blob.stream().pipeThrough( new DecompressionStream(\"deflate\") ).pipeThrough( new TextDecoderStream(\"utf-8\") ).getReader(); let parts = []; while (true) { let step = await reader.read(); if (step.done) { break; } parts.push(step.value); } let newElt = document.createElement(\"div\"); newElt.innerHTML = parts.join(\"\"); destElt.parentNode.replaceChild(newElt, destElt); for (let oldScript of newElt.querySelectorAll(\"script\")) { let newScript = document.createElement(\"script\"); newScript.type = oldScript.type; newScript.textContent = oldScript.textContent; oldScript.parentNode.replaceChild(newScript, oldScript); } })(); requestAnimationFrame(() => { observer.observe(destElt); }); } })(); </script><div id=\"compress_html_d153bed630ee4b0fb96fa00ab407ef6b\"><script>window.treescope_decompress_enqueue(\"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\", \"compress_html_d153bed630ee4b0fb96fa00ab407ef6b\");</script><span style=\"color: #aaaaaa; font-family: monospace\">(Loading...)</span></div>"
      ],
      "text/plain": [
       "TreescopeRenderingFigure(child=PreventWordWrap(child=Siblings(children=(FoldableTreeNodeImpl(contents=Siblings(children=(StringCopyButton(copy_string='(lambda root: root)', annotation='Copy path: '), IndentedChildren(children=[Siblings(children=(PyTreeNodeFieldName(child=Text(text='selected_by_path')), Text(text='='), WithDynamicSharedPip(child=FoldableTreeNodeImpl(contents=Siblings(children=(StringCopyButton(copy_string='(lambda root: root.selected_by_path)', annotation='Copy path: '), IndentedChildren(children=[Siblings(children=(FoldableTreeNodeImpl(contents=Siblings(children=(IndentedChildren(children=[Siblings(children=(FoldableTreeNodeImpl(contents=Siblings(children=(IndentedChildren(children=[Siblings(children=(Text(text='key'), Text(text='='), HyperlinkTarget(child=StringLiteralColor(child=Text(text=\"'c'\")), keypath=None), FoldCondition(collapsed=EmptyPart(), expanded=Text(text=','))))]), Text(text=')'))), label=HyperlinkTarget(child=Siblings(children=(RoundtripCondition(roundtrip=QualifiedTypeNameSpanGroup(child=Text(text='jax.tree_util.')), not_roundtrip=EmptyPart()), Text(text='DictKey'), Text(text='('))), keypath=None), expand_state=<ExpandState.COLLAPSED: 'collapsed'>), Text(text=','), FoldCondition(collapsed=Text(text=' '), expanded=EmptyPart()))), Siblings(children=(FoldableTreeNodeImpl(contents=Siblings(children=(IndentedChildren(children=[Siblings(children=(Text(text='idx'), Text(text='='), HyperlinkTarget(child=NumberColor(child=Text(text='0')), keypath=None), FoldCondition(collapsed=EmptyPart(), expanded=Text(text=','))))]), Text(text=')'))), label=HyperlinkTarget(child=Siblings(children=(RoundtripCondition(roundtrip=QualifiedTypeNameSpanGroup(child=Text(text='jax.tree_util.')), not_roundtrip=EmptyPart()), Text(text='SequenceKey'), Text(text='('))), keypath=None), expand_state=<ExpandState.COLLAPSED: 'collapsed'>), Text(text=','), FoldCondition(collapsed=Text(text=' '), expanded=EmptyPart()))), Siblings(children=(FoldableTreeNodeImpl(contents=Siblings(children=(IndentedChildren(children=[Siblings(children=(Text(text='key'), Text(text='='), HyperlinkTarget(child=StringLiteralColor(child=Text(text=\"'value'\")), keypath=None), FoldCondition(collapsed=EmptyPart(), expanded=Text(text=','))))]), Text(text=')'))), label=HyperlinkTarget(child=Siblings(children=(RoundtripCondition(roundtrip=QualifiedTypeNameSpanGroup(child=Text(text='jax.tree_util.')), not_roundtrip=EmptyPart()), Text(text='DictKey'), Text(text='('))), keypath=None), expand_state=<ExpandState.COLLAPSED: 'collapsed'>), FoldCondition(collapsed=EmptyPart(), expanded=Text(text=','))))]), Text(text=')'))), label=HyperlinkTarget(child=Text(text='('), keypath=None), expand_state=<ExpandState.COLLAPSED: 'collapsed'>), Text(text=':'), FoldCondition(collapsed=Text(text=' '), expanded=EmptyPart()), IndentedChildren(children=[Siblings(children=(RoundtripCondition(roundtrip=WithBlockColor(child=FoldableTreeNodeImpl(contents=Siblings(children=(StringCopyButton(copy_string='(lambda root: root)', annotation='Copy path: '), ColoredBorderIndentedChildren(children=[Siblings(children=(Text(text='original_repr'), Text(text='='), HyperlinkTarget(child=StringLiteralColor(child=Text(text=\"'Array([ 0,  1,  2,  3,  4,  5,  6,  7,  8,  9, 10, 11], dtype=int32)'\")), keypath=(GetAttrKey(name='original_repr'),)), Text(text=','), FoldCondition(collapsed=Text(text=' '), expanded=EmptyPart()), FoldCondition(collapsed=EmptyPart(), expanded=Siblings(children=(StringCopyButton(copy_string='(lambda root: root.original_repr)', annotation='Copy path: '),))))), Siblings(children=(Text(text='original_id'), Text(text='='), HyperlinkTarget(child=NumberColor(child=Text(text='97409376729728')), keypath=(GetAttrKey(name='original_id'),)), Text(text=','), FoldCondition(collapsed=Text(text=' '), expanded=EmptyPart()), FoldCondition(collapsed=EmptyPart(), expanded=Siblings(children=(StringCopyButton(copy_string='(lambda root: root.original_id)', annotation='Copy path: '),))))), Siblings(children=(Text(text='original_type'), Text(text='='), HyperlinkTarget(child=FoldableTreeNodeImpl(contents=FoldCondition(collapsed=EmptyPart(), expanded=IndentedChildren(children=[Siblings(children=(HyperlinkTarget(child=AbbreviationColor(child=Text(text=\"<class 'jax.Array'>\")), keypath=(GetAttrKey(name='original_type'),)), FoldCondition(collapsed=EmptyPart(), expanded=Siblings(children=(StringCopyButton(copy_string='(lambda root: root.original_type)', annotation='Copy path: '),)))))])), label=CommentColorWhenExpanded(child=Siblings(children=(FoldCondition(collapsed=EmptyPart(), expanded=Text(text='# ')), QualifiedTypeNameSpanGroup(child=Text(text='jax.')), Text(text='Array')))), expand_state=<ExpandState.COLLAPSED: 'collapsed'>), keypath=(GetAttrKey(name='original_type'),)), FoldCondition(collapsed=EmptyPart(), expanded=Text(text=',')), FoldCondition(collapsed=EmptyPart(), expanded=Siblings(children=(StringCopyButton(copy_string='(lambda root: root.original_type)', annotation='Copy path: '),)))))]), ColoredBottomLineSpanGroup(child=Text(text=')')))), label=HyperlinkTarget(child=ColoredTopLineSpanGroup(child=Siblings(children=(RoundtripCondition(roundtrip=QualifiedTypeNameSpanGroup(child=Text(text='penzai.treescope.copypaste_fallback.')), not_roundtrip=EmptyPart()), Text(text='NotRoundtrippable'), Text(text='(')))), keypath=()), expand_state=<ExpandState.WEAKLY_COLLAPSED: 'weakly_collapsed'>), color='#db845a'), not_roundtrip=AbbreviationColor(child=Text(text='<jax.Array([ 0,  1,  2,  3,  4,  5,  6,  7,  8,  9, 10, 11], dtype=int32)>'))), Text(text=','), FoldCondition(collapsed=Text(text=' '), expanded=EmptyPart()), FoldCondition(collapsed=EmptyPart(), expanded=Siblings(children=(StringCopyButton(copy_string=\"(lambda root: root.selected_by_path[(DictKey(key='c'), SequenceKey(idx=0), DictKey(key='value'))])\", annotation='Copy path: '),))))), Siblings(children=(FoldCondition(collapsed=EmptyPart(), expanded=VerticalSpace(height='0.5em')),))]))), Siblings(children=(FoldableTreeNodeImpl(contents=Siblings(children=(IndentedChildren(children=[Siblings(children=(FoldableTreeNodeImpl(contents=Siblings(children=(IndentedChildren(children=[Siblings(children=(Text(text='key'), Text(text='='), HyperlinkTarget(child=StringLiteralColor(child=Text(text=\"'c'\")), keypath=None), FoldCondition(collapsed=EmptyPart(), expanded=Text(text=','))))]), Text(text=')'))), label=HyperlinkTarget(child=Siblings(children=(RoundtripCondition(roundtrip=QualifiedTypeNameSpanGroup(child=Text(text='jax.tree_util.')), not_roundtrip=EmptyPart()), Text(text='DictKey'), Text(text='('))), keypath=None), expand_state=<ExpandState.COLLAPSED: 'collapsed'>), Text(text=','), FoldCondition(collapsed=Text(text=' '), expanded=EmptyPart()))), Siblings(children=(FoldableTreeNodeImpl(contents=Siblings(children=(IndentedChildren(children=[Siblings(children=(Text(text='idx'), Text(text='='), HyperlinkTarget(child=NumberColor(child=Text(text='1')), keypath=None), FoldCondition(collapsed=EmptyPart(), expanded=Text(text=','))))]), Text(text=')'))), label=HyperlinkTarget(child=Siblings(children=(RoundtripCondition(roundtrip=QualifiedTypeNameSpanGroup(child=Text(text='jax.tree_util.')), not_roundtrip=EmptyPart()), Text(text='SequenceKey'), Text(text='('))), keypath=None), expand_state=<ExpandState.COLLAPSED: 'collapsed'>), Text(text=','), FoldCondition(collapsed=Text(text=' '), expanded=EmptyPart()))), Siblings(children=(FoldableTreeNodeImpl(contents=Siblings(children=(IndentedChildren(children=[Siblings(children=(Text(text='key'), Text(text='='), HyperlinkTarget(child=StringLiteralColor(child=Text(text=\"'value'\")), keypath=None), FoldCondition(collapsed=EmptyPart(), expanded=Text(text=','))))]), Text(text=')'))), label=HyperlinkTarget(child=Siblings(children=(RoundtripCondition(roundtrip=QualifiedTypeNameSpanGroup(child=Text(text='jax.tree_util.')), not_roundtrip=EmptyPart()), Text(text='DictKey'), Text(text='('))), keypath=None), expand_state=<ExpandState.COLLAPSED: 'collapsed'>), FoldCondition(collapsed=EmptyPart(), expanded=Text(text=','))))]), Text(text=')'))), label=HyperlinkTarget(child=Text(text='('), keypath=None), expand_state=<ExpandState.COLLAPSED: 'collapsed'>), Text(text=':'), FoldCondition(collapsed=Text(text=' '), expanded=EmptyPart()), IndentedChildren(children=[Siblings(children=(RoundtripCondition(roundtrip=WithBlockColor(child=FoldableTreeNodeImpl(contents=Siblings(children=(StringCopyButton(copy_string='(lambda root: root)', annotation='Copy path: '), ColoredBorderIndentedChildren(children=[Siblings(children=(Text(text='original_repr'), Text(text='='), HyperlinkTarget(child=StringLiteralColor(child=Text(text=\"'Array([0., 0., 0., 0., 0., 0., 0.], dtype=float32)'\")), keypath=(GetAttrKey(name='original_repr'),)), Text(text=','), FoldCondition(collapsed=Text(text=' '), expanded=EmptyPart()), FoldCondition(collapsed=EmptyPart(), expanded=Siblings(children=(StringCopyButton(copy_string='(lambda root: root.original_repr)', annotation='Copy path: '),))))), Siblings(children=(Text(text='original_id'), Text(text='='), HyperlinkTarget(child=NumberColor(child=Text(text='97409375544896')), keypath=(GetAttrKey(name='original_id'),)), Text(text=','), FoldCondition(collapsed=Text(text=' '), expanded=EmptyPart()), FoldCondition(collapsed=EmptyPart(), expanded=Siblings(children=(StringCopyButton(copy_string='(lambda root: root.original_id)', annotation='Copy path: '),))))), Siblings(children=(Text(text='original_type'), Text(text='='), HyperlinkTarget(child=FoldableTreeNodeImpl(contents=FoldCondition(collapsed=EmptyPart(), expanded=IndentedChildren(children=[Siblings(children=(HyperlinkTarget(child=AbbreviationColor(child=Text(text=\"<class 'jax.Array'>\")), keypath=(GetAttrKey(name='original_type'),)), FoldCondition(collapsed=EmptyPart(), expanded=Siblings(children=(StringCopyButton(copy_string='(lambda root: root.original_type)', annotation='Copy path: '),)))))])), label=CommentColorWhenExpanded(child=Siblings(children=(FoldCondition(collapsed=EmptyPart(), expanded=Text(text='# ')), QualifiedTypeNameSpanGroup(child=Text(text='jax.')), Text(text='Array')))), expand_state=<ExpandState.COLLAPSED: 'collapsed'>), keypath=(GetAttrKey(name='original_type'),)), FoldCondition(collapsed=EmptyPart(), expanded=Text(text=',')), FoldCondition(collapsed=EmptyPart(), expanded=Siblings(children=(StringCopyButton(copy_string='(lambda root: root.original_type)', annotation='Copy path: '),)))))]), ColoredBottomLineSpanGroup(child=Text(text=')')))), label=HyperlinkTarget(child=ColoredTopLineSpanGroup(child=Siblings(children=(RoundtripCondition(roundtrip=QualifiedTypeNameSpanGroup(child=Text(text='penzai.treescope.copypaste_fallback.')), not_roundtrip=EmptyPart()), Text(text='NotRoundtrippable'), Text(text='(')))), keypath=()), expand_state=<ExpandState.WEAKLY_COLLAPSED: 'weakly_collapsed'>), color='#db845a'), not_roundtrip=AbbreviationColor(child=Text(text='<jax.Array([0., 0., 0., 0., 0., 0., 0.], dtype=float32)>'))), Text(text=','), FoldCondition(collapsed=Text(text=' '), expanded=EmptyPart()), FoldCondition(collapsed=EmptyPart(), expanded=Siblings(children=(StringCopyButton(copy_string=\"(lambda root: root.selected_by_path[(DictKey(key='c'), SequenceKey(idx=1), DictKey(key='value'))])\", annotation='Copy path: '),))))), Siblings(children=(FoldCondition(collapsed=EmptyPart(), expanded=VerticalSpace(height='0.5em')),))]))), Siblings(children=(FoldableTreeNodeImpl(contents=Siblings(children=(IndentedChildren(children=[Siblings(children=(FoldableTreeNodeImpl(contents=Siblings(children=(IndentedChildren(children=[Siblings(children=(Text(text='key'), Text(text='='), HyperlinkTarget(child=StringLiteralColor(child=Text(text=\"'c'\")), keypath=None), FoldCondition(collapsed=EmptyPart(), expanded=Text(text=','))))]), Text(text=')'))), label=HyperlinkTarget(child=Siblings(children=(RoundtripCondition(roundtrip=QualifiedTypeNameSpanGroup(child=Text(text='jax.tree_util.')), not_roundtrip=EmptyPart()), Text(text='DictKey'), Text(text='('))), keypath=None), expand_state=<ExpandState.COLLAPSED: 'collapsed'>), Text(text=','), FoldCondition(collapsed=Text(text=' '), expanded=EmptyPart()))), Siblings(children=(FoldableTreeNodeImpl(contents=Siblings(children=(IndentedChildren(children=[Siblings(children=(Text(text='idx'), Text(text='='), HyperlinkTarget(child=NumberColor(child=Text(text='2')), keypath=None), FoldCondition(collapsed=EmptyPart(), expanded=Text(text=','))))]), Text(text=')'))), label=HyperlinkTarget(child=Siblings(children=(RoundtripCondition(roundtrip=QualifiedTypeNameSpanGroup(child=Text(text='jax.tree_util.')), not_roundtrip=EmptyPart()), Text(text='SequenceKey'), Text(text='('))), keypath=None), expand_state=<ExpandState.COLLAPSED: 'collapsed'>), Text(text=','), FoldCondition(collapsed=Text(text=' '), expanded=EmptyPart()))), Siblings(children=(FoldableTreeNodeImpl(contents=Siblings(children=(IndentedChildren(children=[Siblings(children=(Text(text='key'), Text(text='='), HyperlinkTarget(child=StringLiteralColor(child=Text(text=\"'value'\")), keypath=None), FoldCondition(collapsed=EmptyPart(), expanded=Text(text=','))))]), Text(text=')'))), label=HyperlinkTarget(child=Siblings(children=(RoundtripCondition(roundtrip=QualifiedTypeNameSpanGroup(child=Text(text='jax.tree_util.')), not_roundtrip=EmptyPart()), Text(text='DictKey'), Text(text='('))), keypath=None), expand_state=<ExpandState.COLLAPSED: 'collapsed'>), FoldCondition(collapsed=EmptyPart(), expanded=Text(text=','))))]), Text(text=')'))), label=HyperlinkTarget(child=Text(text='('), keypath=None), expand_state=<ExpandState.COLLAPSED: 'collapsed'>), Text(text=':'), FoldCondition(collapsed=Text(text=' '), expanded=EmptyPart()), IndentedChildren(children=[Siblings(children=(HyperlinkTarget(child=NumberColor(child=Text(text='3')), keypath=(GetAttrKey(name='selected_by_path'), DictKey(key=(DictKey(key='c'), SequenceKey(idx=2), DictKey(key='value'))))), FoldCondition(collapsed=EmptyPart(), expanded=Text(text=',')), FoldCondition(collapsed=EmptyPart(), expanded=Siblings(children=(StringCopyButton(copy_string=\"(lambda root: root.selected_by_path[(DictKey(key='c'), SequenceKey(idx=2), DictKey(key='value'))])\", annotation='Copy path: '),))))), Siblings(children=(FoldCondition(collapsed=EmptyPart(), expanded=VerticalSpace(height='0.5em')),))])))]), Text(text='})'))), label=HyperlinkTarget(child=Siblings(children=(RoundtripCondition(roundtrip=QualifiedTypeNameSpanGroup(child=Text(text='collections.')), not_roundtrip=EmptyPart()), Text(text='OrderedDict'), Text(text='({'))), keypath=(GetAttrKey(name='selected_by_path'),)), expand_state=<ExpandState.EXPANDED: 'expanded'>), node_id=133127686962624, seen_more_than_once=set()), Text(text=','), FoldCondition(collapsed=Text(text=' '), expanded=EmptyPart()), FoldCondition(collapsed=EmptyPart(), expanded=Siblings(children=(DynamicSharedCheck(if_shared=SharedWarningLabel(child=Text(text=' # Repeated python obj at 0x7914347dbdc0')), node_id=133127686962624, seen_more_than_once=set()), StringCopyButton(copy_string='(lambda root: root.selected_by_path)', annotation='Copy path: ')))))), Siblings(children=(PyTreeNodeFieldName(child=Text(text='remainder')), Text(text='='), WithDynamicSharedPip(child=FoldableTreeNodeImpl(contents=Siblings(children=(StringCopyButton(copy_string='(lambda root: root.remainder)', annotation='Copy path: '), IndentedChildren(children=[Siblings(children=(HyperlinkTarget(child=StringLiteralColor(child=Text(text=\"'a'\")), keypath=None), Text(text=': '), HyperlinkTarget(child=NumberColor(child=Text(text='1')), keypath=(GetAttrKey(name='remainder'), DictKey(key='a'))), Text(text=','), FoldCondition(collapsed=Text(text=' '), expanded=EmptyPart()), FoldCondition(collapsed=EmptyPart(), expanded=Siblings(children=(StringCopyButton(copy_string=\"(lambda root: root.remainder['a'])\", annotation='Copy path: '),))))), Siblings(children=(HyperlinkTarget(child=StringLiteralColor(child=Text(text=\"'b'\")), keypath=None), Text(text=': '), RoundtripCondition(roundtrip=WithBlockColor(child=FoldableTreeNodeImpl(contents=Siblings(children=(StringCopyButton(copy_string='(lambda root: root)', annotation='Copy path: '), ColoredBorderIndentedChildren(children=[Siblings(children=(Text(text='original_repr'), Text(text='='), HyperlinkTarget(child=StringLiteralColor(child=Text(text=\"'Array([0, 1, 2, 3, 4, 5, 6, 7, 8, 9], dtype=int32)'\")), keypath=(GetAttrKey(name='original_repr'),)), Text(text=','), FoldCondition(collapsed=Text(text=' '), expanded=EmptyPart()), FoldCondition(collapsed=EmptyPart(), expanded=Siblings(children=(StringCopyButton(copy_string='(lambda root: root.original_repr)', annotation='Copy path: '),))))), Siblings(children=(Text(text='original_id'), Text(text='='), HyperlinkTarget(child=NumberColor(child=Text(text='97409375526816')), keypath=(GetAttrKey(name='original_id'),)), Text(text=','), FoldCondition(collapsed=Text(text=' '), expanded=EmptyPart()), FoldCondition(collapsed=EmptyPart(), expanded=Siblings(children=(StringCopyButton(copy_string='(lambda root: root.original_id)', annotation='Copy path: '),))))), Siblings(children=(Text(text='original_type'), Text(text='='), HyperlinkTarget(child=FoldableTreeNodeImpl(contents=FoldCondition(collapsed=EmptyPart(), expanded=IndentedChildren(children=[Siblings(children=(HyperlinkTarget(child=AbbreviationColor(child=Text(text=\"<class 'jax.Array'>\")), keypath=(GetAttrKey(name='original_type'),)), FoldCondition(collapsed=EmptyPart(), expanded=Siblings(children=(StringCopyButton(copy_string='(lambda root: root.original_type)', annotation='Copy path: '),)))))])), label=CommentColorWhenExpanded(child=Siblings(children=(FoldCondition(collapsed=EmptyPart(), expanded=Text(text='# ')), QualifiedTypeNameSpanGroup(child=Text(text='jax.')), Text(text='Array')))), expand_state=<ExpandState.COLLAPSED: 'collapsed'>), keypath=(GetAttrKey(name='original_type'),)), FoldCondition(collapsed=EmptyPart(), expanded=Text(text=',')), FoldCondition(collapsed=EmptyPart(), expanded=Siblings(children=(StringCopyButton(copy_string='(lambda root: root.original_type)', annotation='Copy path: '),)))))]), ColoredBottomLineSpanGroup(child=Text(text=')')))), label=HyperlinkTarget(child=ColoredTopLineSpanGroup(child=Siblings(children=(RoundtripCondition(roundtrip=QualifiedTypeNameSpanGroup(child=Text(text='penzai.treescope.copypaste_fallback.')), not_roundtrip=EmptyPart()), Text(text='NotRoundtrippable'), Text(text='(')))), keypath=()), expand_state=<ExpandState.WEAKLY_COLLAPSED: 'weakly_collapsed'>), color='#db845a'), not_roundtrip=AbbreviationColor(child=Text(text='<jax.Array([0, 1, 2, 3, 4, 5, 6, 7, 8, 9], dtype=int32)>'))), Text(text=','), FoldCondition(collapsed=Text(text=' '), expanded=EmptyPart()), FoldCondition(collapsed=EmptyPart(), expanded=Siblings(children=(StringCopyButton(copy_string=\"(lambda root: root.remainder['b'])\", annotation='Copy path: '),))))), Siblings(children=(HyperlinkTarget(child=StringLiteralColor(child=Text(text=\"'c'\")), keypath=None), Text(text=': '), WithDynamicSharedPip(child=FoldableTreeNodeImpl(contents=Siblings(children=(StringCopyButton(copy_string=\"(lambda root: root.remainder['c'])\", annotation='Copy path: '), IndentedChildren(children=[Siblings(children=(WithDynamicSharedPip(child=FoldableTreeNodeImpl(contents=Siblings(children=(StringCopyButton(copy_string=\"(lambda root: root.remainder['c'][0])\", annotation='Copy path: '), IndentedChildren(children=[Siblings(children=(HyperlinkTarget(child=StringLiteralColor(child=Text(text=\"'value'\")), keypath=None), Text(text=': '), FoldableTreeNodeImpl(contents=Siblings(children=(StringCopyButton(copy_string=\"(lambda root: root.remainder['c'][0]['value'])\", annotation='Copy path: '), IndentedChildren(children=[Siblings(children=(Text(text='path'), Text(text='='), FoldableTreeNodeImpl(contents=Siblings(children=(StringCopyButton(copy_string=\"(lambda root: root.remainder['c'][0]['value'].path)\", annotation='Copy path: '), IndentedChildren(children=[Siblings(children=(FoldableTreeNodeImpl(contents=Siblings(children=(StringCopyButton(copy_string=\"(lambda root: root.remainder['c'][0]['value'].path[0])\", annotation='Copy path: '), IndentedChildren(children=[Siblings(children=(Text(text='key'), Text(text='='), HyperlinkTarget(child=StringLiteralColor(child=Text(text=\"'c'\")), keypath=(GetAttrKey(name='remainder'), DictKey(key='c'), SequenceKey(idx=0), DictKey(key='value'), GetAttrKey(name='path'), SequenceKey(idx=0), GetAttrKey(name='key'))), FoldCondition(collapsed=EmptyPart(), expanded=Text(text=',')), FoldCondition(collapsed=EmptyPart(), expanded=Siblings(children=(StringCopyButton(copy_string=\"(lambda root: root.remainder['c'][0]['value'].path[0].key)\", annotation='Copy path: '),)))))]), Text(text=')'))), label=HyperlinkTarget(child=Siblings(children=(RoundtripCondition(roundtrip=QualifiedTypeNameSpanGroup(child=Text(text='jax.tree_util.')), not_roundtrip=EmptyPart()), Text(text='DictKey'), Text(text='('))), keypath=(GetAttrKey(name='remainder'), DictKey(key='c'), SequenceKey(idx=0), DictKey(key='value'), GetAttrKey(name='path'), SequenceKey(idx=0))), expand_state=<ExpandState.COLLAPSED: 'collapsed'>), Text(text=','), FoldCondition(collapsed=Text(text=' '), expanded=EmptyPart()), FoldCondition(collapsed=EmptyPart(), expanded=Siblings(children=(StringCopyButton(copy_string=\"(lambda root: root.remainder['c'][0]['value'].path[0])\", annotation='Copy path: '),))))), Siblings(children=(FoldableTreeNodeImpl(contents=Siblings(children=(StringCopyButton(copy_string=\"(lambda root: root.remainder['c'][0]['value'].path[1])\", annotation='Copy path: '), IndentedChildren(children=[Siblings(children=(Text(text='idx'), Text(text='='), HyperlinkTarget(child=NumberColor(child=Text(text='0')), keypath=(GetAttrKey(name='remainder'), DictKey(key='c'), SequenceKey(idx=0), DictKey(key='value'), GetAttrKey(name='path'), SequenceKey(idx=1), GetAttrKey(name='idx'))), FoldCondition(collapsed=EmptyPart(), expanded=Text(text=',')), FoldCondition(collapsed=EmptyPart(), expanded=Siblings(children=(StringCopyButton(copy_string=\"(lambda root: root.remainder['c'][0]['value'].path[1].idx)\", annotation='Copy path: '),)))))]), Text(text=')'))), label=HyperlinkTarget(child=Siblings(children=(RoundtripCondition(roundtrip=QualifiedTypeNameSpanGroup(child=Text(text='jax.tree_util.')), not_roundtrip=EmptyPart()), Text(text='SequenceKey'), Text(text='('))), keypath=(GetAttrKey(name='remainder'), DictKey(key='c'), SequenceKey(idx=0), DictKey(key='value'), GetAttrKey(name='path'), SequenceKey(idx=1))), expand_state=<ExpandState.COLLAPSED: 'collapsed'>), Text(text=','), FoldCondition(collapsed=Text(text=' '), expanded=EmptyPart()), FoldCondition(collapsed=EmptyPart(), expanded=Siblings(children=(StringCopyButton(copy_string=\"(lambda root: root.remainder['c'][0]['value'].path[1])\", annotation='Copy path: '),))))), Siblings(children=(FoldableTreeNodeImpl(contents=Siblings(children=(StringCopyButton(copy_string=\"(lambda root: root.remainder['c'][0]['value'].path[2])\", annotation='Copy path: '), IndentedChildren(children=[Siblings(children=(Text(text='key'), Text(text='='), HyperlinkTarget(child=StringLiteralColor(child=Text(text=\"'value'\")), keypath=(GetAttrKey(name='remainder'), DictKey(key='c'), SequenceKey(idx=0), DictKey(key='value'), GetAttrKey(name='path'), SequenceKey(idx=2), GetAttrKey(name='key'))), FoldCondition(collapsed=EmptyPart(), expanded=Text(text=',')), FoldCondition(collapsed=EmptyPart(), expanded=Siblings(children=(StringCopyButton(copy_string=\"(lambda root: root.remainder['c'][0]['value'].path[2].key)\", annotation='Copy path: '),)))))]), Text(text=')'))), label=HyperlinkTarget(child=Siblings(children=(RoundtripCondition(roundtrip=QualifiedTypeNameSpanGroup(child=Text(text='jax.tree_util.')), not_roundtrip=EmptyPart()), Text(text='DictKey'), Text(text='('))), keypath=(GetAttrKey(name='remainder'), DictKey(key='c'), SequenceKey(idx=0), DictKey(key='value'), GetAttrKey(name='path'), SequenceKey(idx=2))), expand_state=<ExpandState.COLLAPSED: 'collapsed'>), FoldCondition(collapsed=EmptyPart(), expanded=Text(text=',')), FoldCondition(collapsed=EmptyPart(), expanded=Siblings(children=(StringCopyButton(copy_string=\"(lambda root: root.remainder['c'][0]['value'].path[2])\", annotation='Copy path: '),)))))]), Text(text=')'))), label=HyperlinkTarget(child=Text(text='('), keypath=(GetAttrKey(name='remainder'), DictKey(key='c'), SequenceKey(idx=0), DictKey(key='value'), GetAttrKey(name='path'))), expand_state=<ExpandState.COLLAPSED: 'collapsed'>), FoldCondition(collapsed=EmptyPart(), expanded=Text(text=',')), FoldCondition(collapsed=EmptyPart(), expanded=Siblings(children=(StringCopyButton(copy_string=\"(lambda root: root.remainder['c'][0]['value'].path)\", annotation='Copy path: '),)))))]), Text(text=')'))), label=HyperlinkTarget(child=Siblings(children=(RoundtripCondition(roundtrip=QualifiedTypeNameSpanGroup(child=Text(text='penzai.core.selectors.')), not_roundtrip=EmptyPart()), Text(text='SelectionHole'), Text(text='('))), keypath=(GetAttrKey(name='remainder'), DictKey(key='c'), SequenceKey(idx=0), DictKey(key='value'))), expand_state=<ExpandState.EXPANDED: 'expanded'>), FoldCondition(collapsed=EmptyPart(), expanded=Text(text=',')), FoldCondition(collapsed=EmptyPart(), expanded=Siblings(children=(StringCopyButton(copy_string=\"(lambda root: root.remainder['c'][0]['value'])\", annotation='Copy path: '),)))))]), Text(text='}'))), label=HyperlinkTarget(child=Text(text='{'), keypath=(GetAttrKey(name='remainder'), DictKey(key='c'), SequenceKey(idx=0))), expand_state=<ExpandState.COLLAPSED: 'collapsed'>), node_id=133127686932160, seen_more_than_once=set()), Text(text=','), FoldCondition(collapsed=Text(text=' '), expanded=EmptyPart()), FoldCondition(collapsed=EmptyPart(), expanded=Siblings(children=(DynamicSharedCheck(if_shared=SharedWarningLabel(child=Text(text=' # Repeated python obj at 0x7914347d46c0')), node_id=133127686932160, seen_more_than_once=set()), StringCopyButton(copy_string=\"(lambda root: root.remainder['c'][0])\", annotation='Copy path: ')))))), Siblings(children=(WithDynamicSharedPip(child=FoldableTreeNodeImpl(contents=Siblings(children=(StringCopyButton(copy_string=\"(lambda root: root.remainder['c'][1])\", annotation='Copy path: '), IndentedChildren(children=[Siblings(children=(HyperlinkTarget(child=StringLiteralColor(child=Text(text=\"'value'\")), keypath=None), Text(text=': '), FoldableTreeNodeImpl(contents=Siblings(children=(StringCopyButton(copy_string=\"(lambda root: root.remainder['c'][1]['value'])\", annotation='Copy path: '), IndentedChildren(children=[Siblings(children=(Text(text='path'), Text(text='='), FoldableTreeNodeImpl(contents=Siblings(children=(StringCopyButton(copy_string=\"(lambda root: root.remainder['c'][1]['value'].path)\", annotation='Copy path: '), IndentedChildren(children=[Siblings(children=(FoldableTreeNodeImpl(contents=Siblings(children=(StringCopyButton(copy_string=\"(lambda root: root.remainder['c'][1]['value'].path[0])\", annotation='Copy path: '), IndentedChildren(children=[Siblings(children=(Text(text='key'), Text(text='='), HyperlinkTarget(child=StringLiteralColor(child=Text(text=\"'c'\")), keypath=(GetAttrKey(name='remainder'), DictKey(key='c'), SequenceKey(idx=1), DictKey(key='value'), GetAttrKey(name='path'), SequenceKey(idx=0), GetAttrKey(name='key'))), FoldCondition(collapsed=EmptyPart(), expanded=Text(text=',')), FoldCondition(collapsed=EmptyPart(), expanded=Siblings(children=(StringCopyButton(copy_string=\"(lambda root: root.remainder['c'][1]['value'].path[0].key)\", annotation='Copy path: '),)))))]), Text(text=')'))), label=HyperlinkTarget(child=Siblings(children=(RoundtripCondition(roundtrip=QualifiedTypeNameSpanGroup(child=Text(text='jax.tree_util.')), not_roundtrip=EmptyPart()), Text(text='DictKey'), Text(text='('))), keypath=(GetAttrKey(name='remainder'), DictKey(key='c'), SequenceKey(idx=1), DictKey(key='value'), GetAttrKey(name='path'), SequenceKey(idx=0))), expand_state=<ExpandState.COLLAPSED: 'collapsed'>), Text(text=','), FoldCondition(collapsed=Text(text=' '), expanded=EmptyPart()), FoldCondition(collapsed=EmptyPart(), expanded=Siblings(children=(StringCopyButton(copy_string=\"(lambda root: root.remainder['c'][1]['value'].path[0])\", annotation='Copy path: '),))))), Siblings(children=(FoldableTreeNodeImpl(contents=Siblings(children=(StringCopyButton(copy_string=\"(lambda root: root.remainder['c'][1]['value'].path[1])\", annotation='Copy path: '), IndentedChildren(children=[Siblings(children=(Text(text='idx'), Text(text='='), HyperlinkTarget(child=NumberColor(child=Text(text='1')), keypath=(GetAttrKey(name='remainder'), DictKey(key='c'), SequenceKey(idx=1), DictKey(key='value'), GetAttrKey(name='path'), SequenceKey(idx=1), GetAttrKey(name='idx'))), FoldCondition(collapsed=EmptyPart(), expanded=Text(text=',')), FoldCondition(collapsed=EmptyPart(), expanded=Siblings(children=(StringCopyButton(copy_string=\"(lambda root: root.remainder['c'][1]['value'].path[1].idx)\", annotation='Copy path: '),)))))]), Text(text=')'))), label=HyperlinkTarget(child=Siblings(children=(RoundtripCondition(roundtrip=QualifiedTypeNameSpanGroup(child=Text(text='jax.tree_util.')), not_roundtrip=EmptyPart()), Text(text='SequenceKey'), Text(text='('))), keypath=(GetAttrKey(name='remainder'), DictKey(key='c'), SequenceKey(idx=1), DictKey(key='value'), GetAttrKey(name='path'), SequenceKey(idx=1))), expand_state=<ExpandState.COLLAPSED: 'collapsed'>), Text(text=','), FoldCondition(collapsed=Text(text=' '), expanded=EmptyPart()), FoldCondition(collapsed=EmptyPart(), expanded=Siblings(children=(StringCopyButton(copy_string=\"(lambda root: root.remainder['c'][1]['value'].path[1])\", annotation='Copy path: '),))))), Siblings(children=(FoldableTreeNodeImpl(contents=Siblings(children=(StringCopyButton(copy_string=\"(lambda root: root.remainder['c'][1]['value'].path[2])\", annotation='Copy path: '), IndentedChildren(children=[Siblings(children=(Text(text='key'), Text(text='='), HyperlinkTarget(child=StringLiteralColor(child=Text(text=\"'value'\")), keypath=(GetAttrKey(name='remainder'), DictKey(key='c'), SequenceKey(idx=1), DictKey(key='value'), GetAttrKey(name='path'), SequenceKey(idx=2), GetAttrKey(name='key'))), FoldCondition(collapsed=EmptyPart(), expanded=Text(text=',')), FoldCondition(collapsed=EmptyPart(), expanded=Siblings(children=(StringCopyButton(copy_string=\"(lambda root: root.remainder['c'][1]['value'].path[2].key)\", annotation='Copy path: '),)))))]), Text(text=')'))), label=HyperlinkTarget(child=Siblings(children=(RoundtripCondition(roundtrip=QualifiedTypeNameSpanGroup(child=Text(text='jax.tree_util.')), not_roundtrip=EmptyPart()), Text(text='DictKey'), Text(text='('))), keypath=(GetAttrKey(name='remainder'), DictKey(key='c'), SequenceKey(idx=1), DictKey(key='value'), GetAttrKey(name='path'), SequenceKey(idx=2))), expand_state=<ExpandState.COLLAPSED: 'collapsed'>), FoldCondition(collapsed=EmptyPart(), expanded=Text(text=',')), FoldCondition(collapsed=EmptyPart(), expanded=Siblings(children=(StringCopyButton(copy_string=\"(lambda root: root.remainder['c'][1]['value'].path[2])\", annotation='Copy path: '),)))))]), Text(text=')'))), label=HyperlinkTarget(child=Text(text='('), keypath=(GetAttrKey(name='remainder'), DictKey(key='c'), SequenceKey(idx=1), DictKey(key='value'), GetAttrKey(name='path'))), expand_state=<ExpandState.COLLAPSED: 'collapsed'>), FoldCondition(collapsed=EmptyPart(), expanded=Text(text=',')), FoldCondition(collapsed=EmptyPart(), expanded=Siblings(children=(StringCopyButton(copy_string=\"(lambda root: root.remainder['c'][1]['value'].path)\", annotation='Copy path: '),)))))]), Text(text=')'))), label=HyperlinkTarget(child=Siblings(children=(RoundtripCondition(roundtrip=QualifiedTypeNameSpanGroup(child=Text(text='penzai.core.selectors.')), not_roundtrip=EmptyPart()), Text(text='SelectionHole'), Text(text='('))), keypath=(GetAttrKey(name='remainder'), DictKey(key='c'), SequenceKey(idx=1), DictKey(key='value'))), expand_state=<ExpandState.EXPANDED: 'expanded'>), FoldCondition(collapsed=EmptyPart(), expanded=Text(text=',')), FoldCondition(collapsed=EmptyPart(), expanded=Siblings(children=(StringCopyButton(copy_string=\"(lambda root: root.remainder['c'][1]['value'])\", annotation='Copy path: '),)))))]), Text(text='}'))), label=HyperlinkTarget(child=Text(text='{'), keypath=(GetAttrKey(name='remainder'), DictKey(key='c'), SequenceKey(idx=1))), expand_state=<ExpandState.COLLAPSED: 'collapsed'>), node_id=133162864403456, seen_more_than_once=set()), Text(text=','), FoldCondition(collapsed=Text(text=' '), expanded=EmptyPart()), FoldCondition(collapsed=EmptyPart(), expanded=Siblings(children=(DynamicSharedCheck(if_shared=SharedWarningLabel(child=Text(text=' # Repeated python obj at 0x791c653ae400')), node_id=133162864403456, seen_more_than_once=set()), StringCopyButton(copy_string=\"(lambda root: root.remainder['c'][1])\", annotation='Copy path: ')))))), Siblings(children=(WithDynamicSharedPip(child=FoldableTreeNodeImpl(contents=Siblings(children=(StringCopyButton(copy_string=\"(lambda root: root.remainder['c'][2])\", annotation='Copy path: '), IndentedChildren(children=[Siblings(children=(HyperlinkTarget(child=StringLiteralColor(child=Text(text=\"'value'\")), keypath=None), Text(text=': '), FoldableTreeNodeImpl(contents=Siblings(children=(StringCopyButton(copy_string=\"(lambda root: root.remainder['c'][2]['value'])\", annotation='Copy path: '), IndentedChildren(children=[Siblings(children=(Text(text='path'), Text(text='='), FoldableTreeNodeImpl(contents=Siblings(children=(StringCopyButton(copy_string=\"(lambda root: root.remainder['c'][2]['value'].path)\", annotation='Copy path: '), IndentedChildren(children=[Siblings(children=(FoldableTreeNodeImpl(contents=Siblings(children=(StringCopyButton(copy_string=\"(lambda root: root.remainder['c'][2]['value'].path[0])\", annotation='Copy path: '), IndentedChildren(children=[Siblings(children=(Text(text='key'), Text(text='='), HyperlinkTarget(child=StringLiteralColor(child=Text(text=\"'c'\")), keypath=(GetAttrKey(name='remainder'), DictKey(key='c'), SequenceKey(idx=2), DictKey(key='value'), GetAttrKey(name='path'), SequenceKey(idx=0), GetAttrKey(name='key'))), FoldCondition(collapsed=EmptyPart(), expanded=Text(text=',')), FoldCondition(collapsed=EmptyPart(), expanded=Siblings(children=(StringCopyButton(copy_string=\"(lambda root: root.remainder['c'][2]['value'].path[0].key)\", annotation='Copy path: '),)))))]), Text(text=')'))), label=HyperlinkTarget(child=Siblings(children=(RoundtripCondition(roundtrip=QualifiedTypeNameSpanGroup(child=Text(text='jax.tree_util.')), not_roundtrip=EmptyPart()), Text(text='DictKey'), Text(text='('))), keypath=(GetAttrKey(name='remainder'), DictKey(key='c'), SequenceKey(idx=2), DictKey(key='value'), GetAttrKey(name='path'), SequenceKey(idx=0))), expand_state=<ExpandState.COLLAPSED: 'collapsed'>), Text(text=','), FoldCondition(collapsed=Text(text=' '), expanded=EmptyPart()), FoldCondition(collapsed=EmptyPart(), expanded=Siblings(children=(StringCopyButton(copy_string=\"(lambda root: root.remainder['c'][2]['value'].path[0])\", annotation='Copy path: '),))))), Siblings(children=(FoldableTreeNodeImpl(contents=Siblings(children=(StringCopyButton(copy_string=\"(lambda root: root.remainder['c'][2]['value'].path[1])\", annotation='Copy path: '), IndentedChildren(children=[Siblings(children=(Text(text='idx'), Text(text='='), HyperlinkTarget(child=NumberColor(child=Text(text='2')), keypath=(GetAttrKey(name='remainder'), DictKey(key='c'), SequenceKey(idx=2), DictKey(key='value'), GetAttrKey(name='path'), SequenceKey(idx=1), GetAttrKey(name='idx'))), FoldCondition(collapsed=EmptyPart(), expanded=Text(text=',')), FoldCondition(collapsed=EmptyPart(), expanded=Siblings(children=(StringCopyButton(copy_string=\"(lambda root: root.remainder['c'][2]['value'].path[1].idx)\", annotation='Copy path: '),)))))]), Text(text=')'))), label=HyperlinkTarget(child=Siblings(children=(RoundtripCondition(roundtrip=QualifiedTypeNameSpanGroup(child=Text(text='jax.tree_util.')), not_roundtrip=EmptyPart()), Text(text='SequenceKey'), Text(text='('))), keypath=(GetAttrKey(name='remainder'), DictKey(key='c'), SequenceKey(idx=2), DictKey(key='value'), GetAttrKey(name='path'), SequenceKey(idx=1))), expand_state=<ExpandState.COLLAPSED: 'collapsed'>), Text(text=','), FoldCondition(collapsed=Text(text=' '), expanded=EmptyPart()), FoldCondition(collapsed=EmptyPart(), expanded=Siblings(children=(StringCopyButton(copy_string=\"(lambda root: root.remainder['c'][2]['value'].path[1])\", annotation='Copy path: '),))))), Siblings(children=(FoldableTreeNodeImpl(contents=Siblings(children=(StringCopyButton(copy_string=\"(lambda root: root.remainder['c'][2]['value'].path[2])\", annotation='Copy path: '), IndentedChildren(children=[Siblings(children=(Text(text='key'), Text(text='='), HyperlinkTarget(child=StringLiteralColor(child=Text(text=\"'value'\")), keypath=(GetAttrKey(name='remainder'), DictKey(key='c'), SequenceKey(idx=2), DictKey(key='value'), GetAttrKey(name='path'), SequenceKey(idx=2), GetAttrKey(name='key'))), FoldCondition(collapsed=EmptyPart(), expanded=Text(text=',')), FoldCondition(collapsed=EmptyPart(), expanded=Siblings(children=(StringCopyButton(copy_string=\"(lambda root: root.remainder['c'][2]['value'].path[2].key)\", annotation='Copy path: '),)))))]), Text(text=')'))), label=HyperlinkTarget(child=Siblings(children=(RoundtripCondition(roundtrip=QualifiedTypeNameSpanGroup(child=Text(text='jax.tree_util.')), not_roundtrip=EmptyPart()), Text(text='DictKey'), Text(text='('))), keypath=(GetAttrKey(name='remainder'), DictKey(key='c'), SequenceKey(idx=2), DictKey(key='value'), GetAttrKey(name='path'), SequenceKey(idx=2))), expand_state=<ExpandState.COLLAPSED: 'collapsed'>), FoldCondition(collapsed=EmptyPart(), expanded=Text(text=',')), FoldCondition(collapsed=EmptyPart(), expanded=Siblings(children=(StringCopyButton(copy_string=\"(lambda root: root.remainder['c'][2]['value'].path[2])\", annotation='Copy path: '),)))))]), Text(text=')'))), label=HyperlinkTarget(child=Text(text='('), keypath=(GetAttrKey(name='remainder'), DictKey(key='c'), SequenceKey(idx=2), DictKey(key='value'), GetAttrKey(name='path'))), expand_state=<ExpandState.COLLAPSED: 'collapsed'>), FoldCondition(collapsed=EmptyPart(), expanded=Text(text=',')), FoldCondition(collapsed=EmptyPart(), expanded=Siblings(children=(StringCopyButton(copy_string=\"(lambda root: root.remainder['c'][2]['value'].path)\", annotation='Copy path: '),)))))]), Text(text=')'))), label=HyperlinkTarget(child=Siblings(children=(RoundtripCondition(roundtrip=QualifiedTypeNameSpanGroup(child=Text(text='penzai.core.selectors.')), not_roundtrip=EmptyPart()), Text(text='SelectionHole'), Text(text='('))), keypath=(GetAttrKey(name='remainder'), DictKey(key='c'), SequenceKey(idx=2), DictKey(key='value'))), expand_state=<ExpandState.EXPANDED: 'expanded'>), FoldCondition(collapsed=EmptyPart(), expanded=Text(text=',')), FoldCondition(collapsed=EmptyPart(), expanded=Siblings(children=(StringCopyButton(copy_string=\"(lambda root: root.remainder['c'][2]['value'])\", annotation='Copy path: '),)))))]), Text(text='}'))), label=HyperlinkTarget(child=Text(text='{'), keypath=(GetAttrKey(name='remainder'), DictKey(key='c'), SequenceKey(idx=2))), expand_state=<ExpandState.COLLAPSED: 'collapsed'>), node_id=133162864404032, seen_more_than_once=set()), FoldCondition(collapsed=EmptyPart(), expanded=Text(text=',')), FoldCondition(collapsed=EmptyPart(), expanded=Siblings(children=(DynamicSharedCheck(if_shared=SharedWarningLabel(child=Text(text=' # Repeated python obj at 0x791c653ae640')), node_id=133162864404032, seen_more_than_once=set()), StringCopyButton(copy_string=\"(lambda root: root.remainder['c'][2])\", annotation='Copy path: '))))))]), Text(text=']'))), label=HyperlinkTarget(child=Text(text='['), keypath=(GetAttrKey(name='remainder'), DictKey(key='c'))), expand_state=<ExpandState.EXPANDED: 'expanded'>), node_id=133127686809152, seen_more_than_once=set()), FoldCondition(collapsed=EmptyPart(), expanded=Text(text=',')), FoldCondition(collapsed=EmptyPart(), expanded=Siblings(children=(DynamicSharedCheck(if_shared=SharedWarningLabel(child=Text(text=' # Repeated python obj at 0x7914347b6640')), node_id=133127686809152, seen_more_than_once=set()), StringCopyButton(copy_string=\"(lambda root: root.remainder['c'])\", annotation='Copy path: '))))))]), Text(text='}'))), label=HyperlinkTarget(child=Text(text='{'), keypath=(GetAttrKey(name='remainder'),)), expand_state=<ExpandState.COLLAPSED: 'collapsed'>), node_id=133162864405504, seen_more_than_once=set()), FoldCondition(collapsed=EmptyPart(), expanded=Text(text=',')), FoldCondition(collapsed=EmptyPart(), expanded=Siblings(children=(DynamicSharedCheck(if_shared=SharedWarningLabel(child=Text(text=' # Repeated python obj at 0x791c653aec00')), node_id=133162864405504, seen_more_than_once=set()), StringCopyButton(copy_string='(lambda root: root.remainder)', annotation='Copy path: '))))))]), Text(text=')'))), label=HyperlinkTarget(child=Siblings(children=(RoundtripCondition(roundtrip=QualifiedTypeNameSpanGroup(child=Text(text='penzai.core.selectors.')), not_roundtrip=EmptyPart()), Text(text='Selection'), Text(text='('))), keypath=()), expand_state=<ExpandState.EXPANDED: 'expanded'>),))))"
      ]
     },
     "metadata": {},
     "output_type": "display_data"
    }
   ],
   "source": [
    "my_selection = (\n",
    "    pz.select(my_nested_object)\n",
    "      .at(lambda root: root[\"c\"])\n",
    "      .at_instances_of(jax.typing.ArrayLike)\n",
    ")\n",
    "\n",
    "pz.show(my_selection)"
   ]
  },
  {
   "cell_type": "markdown",
   "metadata": {
    "id": "FJ3OuNUD_lO4"
   },
   "source": [
    "By default, though, selections are rendered in a way that emphasizes what you've selected, so you can tell at a glance that you're making the changes you expect to:"
   ]
  },
  {
   "cell_type": "code",
   "execution_count": 12,
   "metadata": {
    "execution": {
     "iopub.execute_input": "2024-05-03T20:32:34.383127Z",
     "iopub.status.busy": "2024-05-03T20:32:34.382916Z",
     "iopub.status.idle": "2024-05-03T20:32:34.405917Z",
     "shell.execute_reply": "2024-05-03T20:32:34.405180Z"
    },
    "id": "EUD6zd_L-iNr"
   },
   "outputs": [
    {
     "data": {
      "text/html": [
       "<div id=\"output_fbe190462e3e4714b9090aed02f34a6e\"><script> /* penzai.treescope rendering of a Python object (compressed) */ (()=>{ let observer; let lastStep = new Promise((resolve, reject) => { observer = new IntersectionObserver((entries) => { for (const entry of entries) { if (entry.isIntersecting) { resolve(); observer.disconnect(); return; } } }, {rootMargin: \"1000px\"}); }); window.treescope_decompress_enqueue = (encoded, destId) => { const previous = lastStep; const destElt = document.getElementById(destId); lastStep = (async () => { await previous; let blob = new Blob([ Uint8Array.from(atob(encoded), (m) => m.codePointAt(0)) ]); let reader = blob.stream().pipeThrough( new DecompressionStream(\"deflate\") ).pipeThrough( new TextDecoderStream(\"utf-8\") ).getReader(); let parts = []; while (true) { let step = await reader.read(); if (step.done) { break; } parts.push(step.value); } let newElt = document.createElement(\"div\"); newElt.innerHTML = parts.join(\"\"); destElt.parentNode.replaceChild(newElt, destElt); for (let oldScript of newElt.querySelectorAll(\"script\")) { let newScript = document.createElement(\"script\"); newScript.type = oldScript.type; newScript.textContent = oldScript.textContent; oldScript.parentNode.replaceChild(newScript, oldScript); } })(); requestAnimationFrame(() => { observer.observe(destElt); }); } })(); </script><div id=\"compress_html_fa187d3d2e264888bd10ca9f3fdcd94d\"><script>window.treescope_decompress_enqueue(\"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\", \"compress_html_fa187d3d2e264888bd10ca9f3fdcd94d\");</script><span style=\"color: #aaaaaa; font-family: monospace\">(Loading...)</span></div></div>"
      ],
      "text/plain": [
       "<IPython.core.display.HTML object>"
      ]
     },
     "metadata": {},
     "output_type": "display_data"
    },
    {
     "data": {
      "text/html": [
       "<div id=\"compress_html_42629c2e5a094477b54031db103631dc\"><script>window.treescope_decompress_enqueue(\"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\", \"compress_html_42629c2e5a094477b54031db103631dc\");</script></div>"
      ],
      "text/plain": [
       "<IPython.core.display.HTML object>"
      ]
     },
     "metadata": {},
     "output_type": "display_data"
    },
    {
     "data": {
      "text/html": [
       "<div id=\"output_dest_fbe190462e3e4714b9090aed02f34a6e\"><script> (()=>{ const output = document.getElementById(\"output_fbe190462e3e4714b9090aed02f34a6e\"); const dest = document.getElementById(\"output_dest_fbe190462e3e4714b9090aed02f34a6e\"); dest.parentNode.replaceChild(output, dest); })(); </script></div>"
      ],
      "text/plain": [
       "Selection(\n",
       "  selected_by_path=OrderedDict({\n",
       "    (DictKey(key='c'), SequenceKey(idx=0), DictKey(key='value')):\n",
       "      <jax.Array([ 0,  1,  2,  3,  4,  5,  6,  7,  8,  9, 10, 11], dtype=int32)>,\n",
       "    (DictKey(key='c'), SequenceKey(idx=1), DictKey(key='value')):\n",
       "      <jax.Array([0., 0., 0., 0., 0., 0., 0.], dtype=float32)>,\n",
       "    (DictKey(key='c'), SequenceKey(idx=2), DictKey(key='value')):\n",
       "      3,\n",
       "  }),\n",
       "  remainder={'a': 1, 'b': <jax.Array([0, 1, 2, 3, 4, 5, 6, 7, 8, 9], dtype=int32)>, 'c': [{'value': SelectionHole(path=(DictKey(key='c'), SequenceKey(idx=0), DictKey(key='value')))}, {'value': SelectionHole(path=(DictKey(key='c'), SequenceKey(idx=1), DictKey(key='value')))}, {'value': SelectionHole(path=(DictKey(key='c'), SequenceKey(idx=2), DictKey(key='value')))}]},\n",
       ")"
      ]
     },
     "execution_count": 12,
     "metadata": {},
     "output_type": "execute_result"
    }
   ],
   "source": [
    "my_selection"
   ]
  },
  {
   "cell_type": "markdown",
   "metadata": {
    "id": "Alps_lEFBFq3"
   },
   "source": [
    "(This fancy rendering mode is triggered when you display a single selection after enabling `pz.ts.register_as_default()`, or when you call `.show_selection()` on a selection object.)"
   ]
  },
  {
   "cell_type": "markdown",
   "metadata": {
    "id": "7UpYotjP-ZIC"
   },
   "source": [
    "## Building selections"
   ]
  },
  {
   "cell_type": "markdown",
   "metadata": {
    "id": "WEBkR8V7EiRr"
   },
   "source": [
    "The penzai selector API is designed around *method chaining*. You generally start by creating a trivial selection containing only a single object, the root object, using `pz.select`:"
   ]
  },
  {
   "cell_type": "code",
   "execution_count": 13,
   "metadata": {
    "execution": {
     "iopub.execute_input": "2024-05-03T20:32:34.409687Z",
     "iopub.status.busy": "2024-05-03T20:32:34.409461Z",
     "iopub.status.idle": "2024-05-03T20:32:34.424408Z",
     "shell.execute_reply": "2024-05-03T20:32:34.423672Z"
    },
    "id": "k3mVVp0-9rL2"
   },
   "outputs": [
    {
     "data": {
      "text/html": [
       "<div id=\"output_1c1b3f626ff04620a6ff3f0bc35c8747\"><script> /* penzai.treescope rendering of a Python object (compressed) */ (()=>{ let observer; let lastStep = new Promise((resolve, reject) => { observer = new IntersectionObserver((entries) => { for (const entry of entries) { if (entry.isIntersecting) { resolve(); observer.disconnect(); return; } } }, {rootMargin: \"1000px\"}); }); window.treescope_decompress_enqueue = (encoded, destId) => { const previous = lastStep; const destElt = document.getElementById(destId); lastStep = (async () => { await previous; let blob = new Blob([ Uint8Array.from(atob(encoded), (m) => m.codePointAt(0)) ]); let reader = blob.stream().pipeThrough( new DecompressionStream(\"deflate\") ).pipeThrough( new TextDecoderStream(\"utf-8\") ).getReader(); let parts = []; while (true) { let step = await reader.read(); if (step.done) { break; } parts.push(step.value); } let newElt = document.createElement(\"div\"); newElt.innerHTML = parts.join(\"\"); destElt.parentNode.replaceChild(newElt, destElt); for (let oldScript of newElt.querySelectorAll(\"script\")) { let newScript = document.createElement(\"script\"); newScript.type = oldScript.type; newScript.textContent = oldScript.textContent; oldScript.parentNode.replaceChild(newScript, oldScript); } })(); requestAnimationFrame(() => { observer.observe(destElt); }); } })(); </script><div id=\"compress_html_e6cffe8874c049f191ed378cf88770bc\"><script>window.treescope_decompress_enqueue(\"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\", \"compress_html_e6cffe8874c049f191ed378cf88770bc\");</script><span style=\"color: #aaaaaa; font-family: monospace\">(Loading...)</span></div></div>"
      ],
      "text/plain": [
       "<IPython.core.display.HTML object>"
      ]
     },
     "metadata": {},
     "output_type": "display_data"
    },
    {
     "data": {
      "text/html": [
       "<div id=\"compress_html_7f15cc3a02cd453bbd8e58e2cd9f546a\"><script>window.treescope_decompress_enqueue(\"eNrtWl+P2kYQ/yojR82ZBBwMBmw4kNpLK+UlD1WlPkQna+1dsHuL17WX+5Mo372za2MwcBx3uVzU1icdYO/M7OzMb2Z27D2n8TXk8o6zqUHjPOXkbgyJSJgBMZ0ac5H5lM1ZljHq9zzbdgN36Hpe3xl6DvE8m4b2qD8Yjojr9o3ZeZ6SBD+VvJkVCCnFkscJGydCmtZccEoCzvxEUDaOSG7OOAkYn9VHfCkWC17wjMOIhVeMtlrwpgVfICWUxsmiI0U6hq5lD9hyAmqGTsTiRSTHYFv63lcrFByVJ0GQsWvk1JdjeDV0e6Tb3RCEYrlkifRvIpb47Bb1p4w+m77rWYn+q2ZFYyqlNwQBJ+HVBAL8XGRildBOOXBNMrPTCbgIr4pbLaQSGWVZYQM7vYVc8Jgeoywc8RDxV7Ciu5RlqNmVn7GlkMyPxDXLYFfpfTXFFQ8j03V+Uk5xBmB3vULiDcn9PMwE58guhTWPs1z6Mg6vTpbqOZat5HY9sPtDa3RQsLb+0elaexPKjCR5LGORjPcmBzsHRnLWiZOOWMk2zEUiOzcaZDtjyqtRGPmI/ZD5nM3lFlDVpULqIIzqdJmWtCHMCvhWlH+vCE/IkvlpxubxLVJqDfL4M1NUbgHyXBIFNz+MYk4zllRLLDwPM6iTPBuwq1yhMTSBJckWaI5iuSHhodkLI+igpk4YFR57QNfvploZBIVqBfy1VgeDoJZg9DrQIzyCN2DauJxtllJujlSs1WpVNtiwdk7nXc+7DlXNWYlc3+2Ut1/Qmptkoy3YyQiNV3m5QJstcXX3L0xr+m1KPAjxL7V8WPhXJboT8uFx4q8WSvwu1Wvj5GMFTFcknZJkFqfbwFb1WZtWZozloUgxnQghrYrYX6ImcERCnKg5i0SqiFDbBwlPmexeOaXK5++KvYHeKEDISZ5Pjbqa5S5ivSmpeQUrKQ1cZ0Amh/CGtpsYddE11+BY4bHzOElXEiRWu6mhfRSIW+MgT+lOZH2nmeriN/VSYqAyaQAlknSu2F1KZDQ1drSp1Z8SXFAvHcYppikHd0qEMUtZ8pnEG0dhqKSoSY6FfE44VzXOQg/oPVrx9VHI39fSU7Vosz5+/q602Na8Z0pqsEIIJ2cgkguO1XV6tpk0wi0UWk9R+aEaNGUU562zwjbq9tQwOVkGlIBC0lh/toyNxyvCMZwdoDybQElDEgQcKSr42QUygLI7/q62ovXVbFtvN69APa8YR6j3SAVW7zghHLdNaTZ9FESsGu8hwPg5eidZGLPXr257o8nPWUbuzE/dNtht6LWh3wanDYM2DNswaoPbBu+yDVSDO05kv9cq+OqmaO/DDCfjJM0ZNWZwyGC1HbLxApCom+Z0gOzwPR0uJ4LnfjhgC/VEMMT0IBSS1TJQM3gjp+v1R4NBb+jaw3+za2P6FMci1w90q46tJzpW8b5skTrS5xpHYfDqIFb2qs5f5HZdVXRuOlI6jgHNiPFeIrcy8tFxY/Z8Dth+VIBplsuJHoAicar16YUVl68XcnIEQj8wlNTKnhJMmu+5wunUUNuxU7ux5Ulmq20hNw/YYOfBgjFrPc4TtY37g+FRhcTj9iH7kbP+ovH17PwRjyJZYPcH3sjrB3bozLueR50uXo+Gfaff67q9zaPIps9o+oymz3h6nwEY4CrCVYirGFdBrqJchbmKcxXo4GESUInAbjqP/0nnMRz1vFHPbTqPpvNoOo+m82g6j6bzeOnO49t2Js/Xi8xJ0A1YHwujYztdh7qk7w2Gc6/Huu6IerTpRZpepOlFnuWdh9WGw/9VdM+5IE3n8d9+5+E4rte882g6j6bzaDqPpvNoOo+Xf+fxiH3IA31GHuLccmaaLZjO4Esokhzznw7nDzSHKXwyTj9/3Qbj9Dck28QPtjCXk0Iz5XhU6gbzkrjZ2nSjun79fJgJVIQrlX7V4K+cqZ+/3H2gZrW6T91LdUSwkDzPyEKRoPSKMcwYkex9eflbSWFWPGqeC45dGTKt+S2SYktAL1S+NDVOQ0XxEUuGKbOVPpSI7RuYnEmIkbE7wa/zjc0tzpKFjPDu27fq0J6iKwa3Z7l3TfElTqB4crHKQvYe+8jpvabQjaQBb2GHv7i0cCvHEd5/xjIyK3HFmeZSil4mMmxG1cHta2bqo5fFOb0tIZXB1HBLESEaCwSukbjnWpb8vWIr9r7Eyh9sifIky81WxfsPROD1FQ==\", \"compress_html_7f15cc3a02cd453bbd8e58e2cd9f546a\");</script></div>"
      ],
      "text/plain": [
       "<IPython.core.display.HTML object>"
      ]
     },
     "metadata": {},
     "output_type": "display_data"
    },
    {
     "data": {
      "text/html": [
       "<div id=\"output_dest_1c1b3f626ff04620a6ff3f0bc35c8747\"><script> (()=>{ const output = document.getElementById(\"output_1c1b3f626ff04620a6ff3f0bc35c8747\"); const dest = document.getElementById(\"output_dest_1c1b3f626ff04620a6ff3f0bc35c8747\"); dest.parentNode.replaceChild(output, dest); })(); </script></div>"
      ],
      "text/plain": [
       "Selection(\n",
       "  selected_by_path=OrderedDict({\n",
       "    (): {\n",
       "      'a': 1,\n",
       "      'b': <jax.Array([0, 1, 2, 3, 4, 5, 6, 7, 8, 9], dtype=int32)>,\n",
       "      'c': [\n",
       "        {\n",
       "          'value': <jax.Array([ 0,  1,  2,  3,  4,  5,  6,  7,  8,  9, 10, 11], dtype=int32)>,\n",
       "        },\n",
       "        {\n",
       "          'value': <jax.Array([0., 0., 0., 0., 0., 0., 0.], dtype=float32)>,\n",
       "        },\n",
       "        {'value': 3},\n",
       "      ],\n",
       "    },\n",
       "  }),\n",
       "  remainder=SelectionHole(path=()),\n",
       ")"
      ]
     },
     "execution_count": 13,
     "metadata": {},
     "output_type": "execute_result"
    }
   ],
   "source": [
    "pz.select(my_nested_object)"
   ]
  },
  {
   "cell_type": "markdown",
   "metadata": {
    "id": "NcmUj1AF3xS1"
   },
   "source": [
    "You can also use the `.select()` attribute if you know your root object is a subclass of `pz.Struct`:"
   ]
  },
  {
   "cell_type": "code",
   "execution_count": 14,
   "metadata": {
    "execution": {
     "iopub.execute_input": "2024-05-03T20:32:34.427750Z",
     "iopub.status.busy": "2024-05-03T20:32:34.427528Z",
     "iopub.status.idle": "2024-05-03T20:32:34.435754Z",
     "shell.execute_reply": "2024-05-03T20:32:34.434990Z"
    },
    "id": "jqw3QPx9EzjR"
   },
   "outputs": [
    {
     "data": {
      "text/html": [
       "<div id=\"output_a1839558aee8417ca38840ea3dc5f239\"><script> /* penzai.treescope rendering of a Python object (compressed) */ (()=>{ let observer; let lastStep = new Promise((resolve, reject) => { observer = new IntersectionObserver((entries) => { for (const entry of entries) { if (entry.isIntersecting) { resolve(); observer.disconnect(); return; } } }, {rootMargin: \"1000px\"}); }); window.treescope_decompress_enqueue = (encoded, destId) => { const previous = lastStep; const destElt = document.getElementById(destId); lastStep = (async () => { await previous; let blob = new Blob([ Uint8Array.from(atob(encoded), (m) => m.codePointAt(0)) ]); let reader = blob.stream().pipeThrough( new DecompressionStream(\"deflate\") ).pipeThrough( new TextDecoderStream(\"utf-8\") ).getReader(); let parts = []; while (true) { let step = await reader.read(); if (step.done) { break; } parts.push(step.value); } let newElt = document.createElement(\"div\"); newElt.innerHTML = parts.join(\"\"); destElt.parentNode.replaceChild(newElt, destElt); for (let oldScript of newElt.querySelectorAll(\"script\")) { let newScript = document.createElement(\"script\"); newScript.type = oldScript.type; newScript.textContent = oldScript.textContent; oldScript.parentNode.replaceChild(newScript, oldScript); } })(); requestAnimationFrame(() => { observer.observe(destElt); }); } })(); </script><div id=\"compress_html_0591e512c0814b7fb70552811bf9a17b\"><script>window.treescope_decompress_enqueue(\"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\", \"compress_html_0591e512c0814b7fb70552811bf9a17b\");</script><span style=\"color: #aaaaaa; font-family: monospace\">(Loading...)</span></div></div>"
      ],
      "text/plain": [
       "<IPython.core.display.HTML object>"
      ]
     },
     "metadata": {},
     "output_type": "display_data"
    },
    {
     "data": {
      "text/html": [
       "<div id=\"output_dest_a1839558aee8417ca38840ea3dc5f239\"><script> (()=>{ const output = document.getElementById(\"output_a1839558aee8417ca38840ea3dc5f239\"); const dest = document.getElementById(\"output_dest_a1839558aee8417ca38840ea3dc5f239\"); dest.parentNode.replaceChild(output, dest); })(); </script></div>"
      ],
      "text/plain": [
       "Selection(\n",
       "  selected_by_path=OrderedDict({(): MyStruct(foo=4)}),\n",
       "  remainder=SelectionHole(path=()),\n",
       ")"
      ]
     },
     "execution_count": 14,
     "metadata": {},
     "output_type": "execute_result"
    }
   ],
   "source": [
    "@pz.pytree_dataclass\n",
    "class MyStruct(pz.Struct):\n",
    "  foo: typing.Any\n",
    "\n",
    "MyStruct(4).select()"
   ]
  },
  {
   "cell_type": "markdown",
   "metadata": {
    "id": "tTKPVIUrFbeT"
   },
   "source": [
    "You then call methods on the selection to *refine* it to a subset of the currently selected values. These methods all operate relative to the currently selected object, so if you chain them, each method's output is restricted to the values selected by the previous method."
   ]
  },
  {
   "cell_type": "markdown",
   "metadata": {
    "id": "cFdUT5KaFju9"
   },
   "source": [
    "### Selecting with a function\n",
    "If you want to select a specific part of a tree, you can use `selection.at(...)`. The `.at` method takes as input a *function* that extracts the part you want to select, and returns a new selection that selects the extracted part:"
   ]
  },
  {
   "cell_type": "code",
   "execution_count": 15,
   "metadata": {
    "execution": {
     "iopub.execute_input": "2024-05-03T20:32:34.439243Z",
     "iopub.status.busy": "2024-05-03T20:32:34.439038Z",
     "iopub.status.idle": "2024-05-03T20:32:34.455576Z",
     "shell.execute_reply": "2024-05-03T20:32:34.454844Z"
    },
    "id": "8ZgPZeKeGDzQ"
   },
   "outputs": [
    {
     "data": {
      "text/html": [
       "<div id=\"output_e76f099d7f5943619c2bc9e99b274021\"><script> /* penzai.treescope rendering of a Python object (compressed) */ (()=>{ let observer; let lastStep = new Promise((resolve, reject) => { observer = new IntersectionObserver((entries) => { for (const entry of entries) { if (entry.isIntersecting) { resolve(); observer.disconnect(); return; } } }, {rootMargin: \"1000px\"}); }); window.treescope_decompress_enqueue = (encoded, destId) => { const previous = lastStep; const destElt = document.getElementById(destId); lastStep = (async () => { await previous; let blob = new Blob([ Uint8Array.from(atob(encoded), (m) => m.codePointAt(0)) ]); let reader = blob.stream().pipeThrough( new DecompressionStream(\"deflate\") ).pipeThrough( new TextDecoderStream(\"utf-8\") ).getReader(); let parts = []; while (true) { let step = await reader.read(); if (step.done) { break; } parts.push(step.value); } let newElt = document.createElement(\"div\"); newElt.innerHTML = parts.join(\"\"); destElt.parentNode.replaceChild(newElt, destElt); for (let oldScript of newElt.querySelectorAll(\"script\")) { let newScript = document.createElement(\"script\"); newScript.type = oldScript.type; newScript.textContent = oldScript.textContent; oldScript.parentNode.replaceChild(newScript, oldScript); } })(); requestAnimationFrame(() => { observer.observe(destElt); }); } })(); </script><div id=\"compress_html_0010b70b7acc4ea28788d25aa42955d8\"><script>window.treescope_decompress_enqueue(\"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\", \"compress_html_0010b70b7acc4ea28788d25aa42955d8\");</script><span style=\"color: #aaaaaa; font-family: monospace\">(Loading...)</span></div></div>"
      ],
      "text/plain": [
       "<IPython.core.display.HTML object>"
      ]
     },
     "metadata": {},
     "output_type": "display_data"
    },
    {
     "data": {
      "text/html": [
       "<div id=\"compress_html_b69816a07b504502b06629b30fb35b7a\"><script>window.treescope_decompress_enqueue(\"eNrtWm2Pm0YQ/isjouYgsYmx8Qv22VJ7aaV8yYeqUj9EJ7Swi6G3Zgms76VR/ntnFxsb2+fzXS4XtSVS7IOdmZ2XZ2Z2DOc0uYZC3nE2NWhSZJzcjSEVKTMgoVMjErlPWcTynFHfc92eG/V6ztBj7pANPdpxwpE78Fzq9voOMWbnRUZS/FTyZnYgpBQLnqRsnApp2pHglASc+amgbByTwpxxEjA+q6/4UsznvOQZhzELrxi1LHhjwRfICKVJOm9LkY2hYzt9tpiA2qEds2QeyzE4tr731Q4FR+VJEOTsGjn15RheDUZd0ulsCEKxWLBU+jcxS312i/pTRp9N3/WuRP+rdkVnKqU3BAEn4dUEAvyc52KZ0vZq4ZrkZrsdcBFelbcspBI5ZXnpAye7hULwhB6jLAPxEPFXsOO7jOWo2ZWfs4WQzI/FNcthV+l9NcUVD2Nz5P6kguL2wel4pcQbUvhFmAvOkV0KO0ryQvoyCa9Oluq5tqPkdjxwegN7eFCw9v7R7ay9DWVO0iKRiUjHe5uDUwAjBWsnaVssZQsikcr2jQbZzpqKahzGPmI/ZD5nkdwCqrpUSO2HcZ0u15I2hHkJ34qykEQByQ/jhNOcpZXyZUxhBnWSZ4NsVQU0OiawIPkcDS0NCQkPzW4YQxs1dcO4jMUDun431VbwLlUrga21OgjvWunQdqCveQxvwHTQnG2WldwCqZhlWZUPNqzt03nX+66TUHNWItd326vbL+jNTRnRHmznhCbLYmWgwxZo3f2GaU2/TYkHIf6lVunK+KoSdkKlO0781UaJ36UvbYJ8pDWdvysbpO6WEHJSFFND9x9dgGSeZKtWuu7MNQOwndBg5PbJ5FBocJuJURddswLXSuPOkzRbSpBY8qeGNicQt8ZBnpXlyPpOM9XFb5qGREwzaQAlkrSv2F1GZDw1drSpFeFVHKBeP41TXLNa/LwkPCUL5mc5i5JbY5ax9G+S2DJnrAhFxhBVGWpSYDeLCOeq0NsYAX1QKb8+Cvn7WnqmjDbr6+fvVh7b2vdMSQ2WGO30DER6wbHFTM82m8Z4jkDvKSo/VIumjJPCOit9o25PDZOTRUAJ5EIgOtSnZWwiXhGO4ewA5dkEVjQkRUSSso2dXSADKL/j39V5rG7Ntvd2UxDqKWgcod4jFdjCkpRwPDtk+fRRELFrvIcA4xcYnXRuzF6/uu0OJz/nObkzP3Va4LSg24JeC9wW9FswaMGwBaMWeJctoBrcSSp7Xavkq7uitQ8z3IyTrGDUmMEhh9WOicYLQKLumtMBssP3dLicCJ774YBzxBPBkNCDUEiXi0Dt4A3djtcb9vvdwcgZ/JtDm9CnBBa5fmBYdW49MbCK92Wb1JFhzzgKg1cHsbLXdf4it+uuomvTkdZxDGhGgvdSuVWRj64bs+cLwPa8jGWWy4legLJwKvu0YeXl67mcHIHQD0wlZdlTkknzPVc6nZpqO35qNb48yW21I+TmVybYma6NmfW4SKCa954z99OjSonHnUP2M2f9RZPr2fkjfo/rR0HEej3iEOq4To+Q3tBzwo5DnXDAgmF/83tcM2c0c0YzZzx9zgBMcJXhKsVVjqskV1mu0lzluUp08LAIqELgNJPH/2TyGAy73rA7aiaPZvJoJo9m8mgmj2byeOnJ49tOJs83i/SiLhlFQS8aecQddgYkGrIRcwOHeaTDItrMIs0s0swiz/LMw27B4f9VdkdckGby+G8/83Ddkdc882gmj2byaCaPZvJoJo+Xf+bxiHPIA3NGEeLecmaaFkxn8CUUaYH1T6fzB1rAFD4Zp7+E3ALj9Cck28QPjjCXk1IzFXhU6gbrkrjZOnSjun515SsqE6gIl6r8qsVfOVN//nL3gZqVdZ86l+ptulJylJO5IkHpFWOYMyLZ+9XlbysKs+JR+1xwnMqQac1vkwxHAnqh6qWpcRoqio/YMkyZL/X7ezi+gcmZhAQZOxP8Ot/43OYsncsY7759q95vU3Tl4vYu99qUXOIGiqcQyzxk73GOnN7rCj1IGvAWdvjLSxuPchzh/WciY7MSV77Yu5KizUSGzap6e/mamfotRW3+tpDKYWrZUkSIxhKBayTuhZaln5dsyd6vsPIHW6A8yQrTqnj/Aedsm/g=\", \"compress_html_b69816a07b504502b06629b30fb35b7a\");</script></div>"
      ],
      "text/plain": [
       "<IPython.core.display.HTML object>"
      ]
     },
     "metadata": {},
     "output_type": "display_data"
    },
    {
     "data": {
      "text/html": [
       "<div id=\"output_dest_e76f099d7f5943619c2bc9e99b274021\"><script> (()=>{ const output = document.getElementById(\"output_e76f099d7f5943619c2bc9e99b274021\"); const dest = document.getElementById(\"output_dest_e76f099d7f5943619c2bc9e99b274021\"); dest.parentNode.replaceChild(output, dest); })(); </script></div>"
      ],
      "text/plain": [
       "Selection(\n",
       "  selected_by_path=OrderedDict({\n",
       "    (DictKey(key='c'),):\n",
       "      [\n",
       "        {\n",
       "          'value': <jax.Array([ 0,  1,  2,  3,  4,  5,  6,  7,  8,  9, 10, 11], dtype=int32)>,\n",
       "        },\n",
       "        {'value': <jax.Array([0., 0., 0., 0., 0., 0., 0.], dtype=float32)>},\n",
       "        {'value': 3},\n",
       "      ],\n",
       "  }),\n",
       "  remainder={\n",
       "    'a': 1,\n",
       "    'b': <jax.Array([0, 1, 2, 3, 4, 5, 6, 7, 8, 9], dtype=int32)>,\n",
       "    'c': SelectionHole(path=(DictKey(key='c'),)),\n",
       "  },\n",
       ")"
      ]
     },
     "execution_count": 15,
     "metadata": {},
     "output_type": "execute_result"
    }
   ],
   "source": [
    "pz.select(my_nested_object).at(lambda root: root[\"c\"])"
   ]
  },
  {
   "cell_type": "code",
   "execution_count": 16,
   "metadata": {
    "execution": {
     "iopub.execute_input": "2024-05-03T20:32:34.458826Z",
     "iopub.status.busy": "2024-05-03T20:32:34.458599Z",
     "iopub.status.idle": "2024-05-03T20:32:34.476503Z",
     "shell.execute_reply": "2024-05-03T20:32:34.475797Z"
    },
    "id": "dAO2KhdyGFZ5"
   },
   "outputs": [
    {
     "data": {
      "text/html": [
       "<div id=\"output_946b80d94c674038b6a3e072166d1329\"><script> /* penzai.treescope rendering of a Python object (compressed) */ (()=>{ let observer; let lastStep = new Promise((resolve, reject) => { observer = new IntersectionObserver((entries) => { for (const entry of entries) { if (entry.isIntersecting) { resolve(); observer.disconnect(); return; } } }, {rootMargin: \"1000px\"}); }); window.treescope_decompress_enqueue = (encoded, destId) => { const previous = lastStep; const destElt = document.getElementById(destId); lastStep = (async () => { await previous; let blob = new Blob([ Uint8Array.from(atob(encoded), (m) => m.codePointAt(0)) ]); let reader = blob.stream().pipeThrough( new DecompressionStream(\"deflate\") ).pipeThrough( new TextDecoderStream(\"utf-8\") ).getReader(); let parts = []; while (true) { let step = await reader.read(); if (step.done) { break; } parts.push(step.value); } let newElt = document.createElement(\"div\"); newElt.innerHTML = parts.join(\"\"); destElt.parentNode.replaceChild(newElt, destElt); for (let oldScript of newElt.querySelectorAll(\"script\")) { let newScript = document.createElement(\"script\"); newScript.type = oldScript.type; newScript.textContent = oldScript.textContent; oldScript.parentNode.replaceChild(newScript, oldScript); } })(); requestAnimationFrame(() => { observer.observe(destElt); }); } })(); </script><div id=\"compress_html_151956abb24b4855802b502a8c0a2e71\"><script>window.treescope_decompress_enqueue(\"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\", \"compress_html_151956abb24b4855802b502a8c0a2e71\");</script><span style=\"color: #aaaaaa; font-family: monospace\">(Loading...)</span></div></div>"
      ],
      "text/plain": [
       "<IPython.core.display.HTML object>"
      ]
     },
     "metadata": {},
     "output_type": "display_data"
    },
    {
     "data": {
      "text/html": [
       "<div id=\"compress_html_41f5d742f57c47ee888eed149e7ba290\"><script>window.treescope_decompress_enqueue(\"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\", \"compress_html_41f5d742f57c47ee888eed149e7ba290\");</script></div>"
      ],
      "text/plain": [
       "<IPython.core.display.HTML object>"
      ]
     },
     "metadata": {},
     "output_type": "display_data"
    },
    {
     "data": {
      "text/html": [
       "<div id=\"output_dest_946b80d94c674038b6a3e072166d1329\"><script> (()=>{ const output = document.getElementById(\"output_946b80d94c674038b6a3e072166d1329\"); const dest = document.getElementById(\"output_dest_946b80d94c674038b6a3e072166d1329\"); dest.parentNode.replaceChild(output, dest); })(); </script></div>"
      ],
      "text/plain": [
       "Selection(\n",
       "  selected_by_path=OrderedDict({\n",
       "    (DictKey(key='c'), SequenceKey(idx=1), DictKey(key='value')):\n",
       "      <jax.Array([0., 0., 0., 0., 0., 0., 0.], dtype=float32)>,\n",
       "  }),\n",
       "  remainder={\n",
       "    'a': 1,\n",
       "    'b': <jax.Array([0, 1, 2, 3, 4, 5, 6, 7, 8, 9], dtype=int32)>,\n",
       "    'c': [\n",
       "      {\n",
       "        'value': <jax.Array([ 0,  1,  2,  3,  4,  5,  6,  7,  8,  9, 10, 11], dtype=int32)>,\n",
       "      },\n",
       "      {'value': SelectionHole(path=(DictKey(key='c'), SequenceKey(idx=1), DictKey(key='value')))},\n",
       "      {'value': 3},\n",
       "    ],\n",
       "  },\n",
       ")"
      ]
     },
     "execution_count": 16,
     "metadata": {},
     "output_type": "execute_result"
    }
   ],
   "source": [
    "pz.select(my_nested_object).at(lambda root: root[\"c\"][1][\"value\"])"
   ]
  },
  {
   "cell_type": "code",
   "execution_count": 17,
   "metadata": {
    "execution": {
     "iopub.execute_input": "2024-05-03T20:32:34.479591Z",
     "iopub.status.busy": "2024-05-03T20:32:34.479380Z",
     "iopub.status.idle": "2024-05-03T20:32:34.496076Z",
     "shell.execute_reply": "2024-05-03T20:32:34.495313Z"
    },
    "id": "go9pWFfoGHHz"
   },
   "outputs": [
    {
     "data": {
      "text/html": [
       "<div id=\"output_bb13a5422f154df0a99ff523908b7fbe\"><script> /* penzai.treescope rendering of a Python object (compressed) */ (()=>{ let observer; let lastStep = new Promise((resolve, reject) => { observer = new IntersectionObserver((entries) => { for (const entry of entries) { if (entry.isIntersecting) { resolve(); observer.disconnect(); return; } } }, {rootMargin: \"1000px\"}); }); window.treescope_decompress_enqueue = (encoded, destId) => { const previous = lastStep; const destElt = document.getElementById(destId); lastStep = (async () => { await previous; let blob = new Blob([ Uint8Array.from(atob(encoded), (m) => m.codePointAt(0)) ]); let reader = blob.stream().pipeThrough( new DecompressionStream(\"deflate\") ).pipeThrough( new TextDecoderStream(\"utf-8\") ).getReader(); let parts = []; while (true) { let step = await reader.read(); if (step.done) { break; } parts.push(step.value); } let newElt = document.createElement(\"div\"); newElt.innerHTML = parts.join(\"\"); destElt.parentNode.replaceChild(newElt, destElt); for (let oldScript of newElt.querySelectorAll(\"script\")) { let newScript = document.createElement(\"script\"); newScript.type = oldScript.type; newScript.textContent = oldScript.textContent; oldScript.parentNode.replaceChild(newScript, oldScript); } })(); requestAnimationFrame(() => { observer.observe(destElt); }); } })(); </script><div id=\"compress_html_7c71fe30a2824a7a9a0b7bfe2cdba7ed\"><script>window.treescope_decompress_enqueue(\"eNrtW4tT2swW/1e26UyFT0HeKBTnBuRlq1ax1dqvw2ySTbISkpgsIHb83+/ZDa9ARGvtw96rM0U2Z/e8f+fsgb712dgie0nmEeKrjku6nuMw9A25jk8ZdewS8oiFGR2SMtIdmyV03KfWuIT6ju34LlZhfWRSRhLiTQm5HqxY1GcJcXSCjV1YtR0blhWs9gzPGdhaQnUsxysFW8to8k6xgADOoxozS0inDMhsRmxWRn3sGdROWERnJZRRTc7DJgmTUMOElXQyX0Z3b7cDdd76qkddtoeojmIjamvOaK4hqlQqCEQgOhygxUHXVQr07a68spzsusTWqG3IKreMD2Rfvj5I1sK2ZvEj7YFlRVAbhHWXrF9BsanRu8yJo8oeCLn9D3rvOD1wgoeYSZCgtB2NJNE/28giDE32LmwVrgHmseDZqwrSHHXQB4MmFUcbozdv0Cv+JKla2Pffg9OS3OCY2n5MCgslxRE31ZQH3+RiD06qW6QvPHQHnNnAs8VDeBuhqzewO45jcwVHjtebaAYsfQaSncMSfxRaZlTliy7xQPE+tlWStJ1RLD5TbeUJSgSb3qJshoscFQPLrkxaxDaYCaGBUlERsd6ngd7cAsTyyVx0c2Bz2R9k7ptUZ1wlsYP/cQe/j5UhNqX0yPWA+Ey2aR9zioaH+yQW2DUej/bIsijuwDcD35QfY7ipEJXAFN9juseLHSk4sWHXgOwTnXge0c5I34WwJ/5qALkWX5wFPmzzxh1iEZU5nmxZEOiTvYsgOLC7PkSqFC+LhIvx/IKTkKOLA7mi8LqQNx7pO0MSypqFM+7LhNhUVn6+7jm3hCeHODkAvrC4MSkANn4k3wHvFlVTPQJqTBJykRb+SnIcBuKAiXg3WSc3rBYwW3g8XywLcYJcP+Jw4xGwlkpqkH5aDE7Y4gTcT/f6ijmGYQUw0hXoz0AwgXKwQiy2hcgQTp+YgoedeJ/skTHPSMmTptADxAs2D86NSbMzu30QUJrKcYegHgSF4K1Gh0hsrCzjGmJYAYHJTUVKScixgSlIby/QRcsfYyb1p5JLUHKCQioqWVd1+twHIghFZXuNxQ8XaokEl2yHxUomRI8Xj6CfkNuDvkK8hQNTuzvpfGFO4INQtrHIMZvOp3lVTGqTJOkKx5mOpYVOwkX+OynvQo0SogxbVOWbdSDHCqjPa809jQEoFSLrBhYDao36wHQ8bQCWCdEesrBCrFJJIZBnZEEqVfyUI/kFXUAizduASbOQKs95UVv0Borl8G7iXp7C5KucNez1fIINcL+9ult4a2nJxH5sT5y5F2mHwMOqSdQeNBxx9E98LgPfGr1pSh+SUKRkCW38m8kr6sbvFC+86V4hC79ASO5Hznjg+dyBrkNBAi+CL/Wfj61IBcEoITDAvy/Gn4frXD2OzatcktTv6tTzWdexuzz8I1JrXSolM3meTZGuQj8sfuDxZRG5VqG+XiT0XZLDMRhW66q8xjxTtCxg0QQYQqxVbKkxuFdA95h2b0QJWZIDCuBPE0VxPMDkiSiaw4ApFwO9Jin+y43iDCDUFOemC87swhvh42/3gZ6LNd5zAS6CY0mfc7hJ+PRWrE24wZJQkx86osz8uac+j+22UKQhfppjJtWlj2/mV9E7aMqwZUOX2oXLrk5vYF9QO+kt4bbZ4aa5S/qia4N86yq8acDeGAgDK8EVFrzrOxbVkDrG9lIE8DhcfLh41hR8FqpVQCREGE3uwwooHOyDzg2aQpFv/k9OKPB6FL+fmTigoYl5azPCng1huGye17qO1XQ2gtCFFvTbNKIT3mSMwAFogguTpUQqKZBxPrsoidED9hKGhzXKW+10Nq8RYws5HrYNglIQAwXVhMYY3vtB6xwsoQBYVkVZwcZns1gI5abK3CVHJrGhB7Us7PoANg92at/NfA2HAFQED0FEbly4Fd5L8xxyRLGYKBoQzO8lUaYI3xmS4QsHWnPCsqp26AoUTfgYZveeMxH5P5NZnUqm4DSd220cQnp6FFuoM+4DTPjoOMBQDU2vgTXHHW+E7wM2H7FYSyCTS0Fl8j21hAaeFdMwwyX+fHvk6HqmrGCfFHJbWmq3eWjIVVn8tE9k2RF/VU9H8G+rIct1ed1PtS/LRs95p7Xr1drosyyffa4dyIftak1uGDft1nuT+dVDSoxsY/8i875d+DzsuAP64TB/lj64aJ9+OhyeH96yD+NGo7Z5bvTOaHU/ZdL9k8FBXWtepVrKtj5sa+71u4J5fU7pyeDQbpot/SOTPxaqR15ObrTtXr2gfhwM7M3T/LXq90ZDvWFtX98YdWfHUA5GzZ10S9625dP8e887SJ9uGrepUy0lH+hp46hYGzWvMkbKGQ9Oi8V+PV0YtS52jw3DJWe9cY60ldu8qnjHTYZl46R9NNrH/tg/GbTbF+f1xkj+cOK2P2sft7c3jeJZ8SLLUvq7D9fyMA9nvpePivLhSO4bt6edzcFlh9QvbjJ6Qb09yp22xvlBVX53W71yG26Wtk5q9dTl4EOuU7T16vt6q3HYl+nmzrCeMe20WdxUPo0urkYtb7jf/Fizr/R63WCbx+qlZRXzu7WDUXXH3M0dHjY72ealbPTb+avqyS47a5LWbr1abTez+0budPuzOlbkJvj007tt+aSJZXJYs+TWbf3YuGRGofrBOD5u71d79CRPGtWLWrWh0pRreo5rQ2y4l/X99G2619FrOjPH7+yWhht+S08d9Zv1o0JVk68/fXIx8zuXfU3DdDej3+7mPtKr64Lb9wrHzudah3rN/vCgme2cd7KNekatnuhnmy3LcZu5hj/KY+O6sEMvSefIcs/taqtNtEOPDM6vm7V++rzh9Tqdm3ymcH7uj2SQKI7EeJHFNkRYb8SfA5Mgu8fKgDHHjoSb+eOoe5WEpCUq6PWhzEQT/0vSOU0qPxUEINmVHoWdAgz6AEim6PawzWA7hRzXZuP7Wbe6chMLtUe7oj0KaRlc4SK0iL6Rz3cmRxi6DItyw872Y52FBhzTUcI6nkt7wiwXTY+G2IslEhztEtgGx4qhZXxxmTPh01xe/ScXLnEsSvuIgMUSUI+hcf0+VWYSgGMo0V6FJREs0Svadx2PYXvlbMVzeqIcu+P5fflh6y5sW7Dn7FKy/HnLyuTPFNNesT9QDVUQoJutoljAIfwRAGhy5vDAA7KJBHzNJ0wIxU3K5cAjTBmy8ZAamDleEk52FQd7WnLkUUbO4IIcm58FnpicNZ8cQtcXkxbsLYakhJ3RPgHHzKayK/umU96lrXdbKJNKpQQ0qJhBnxcTl9tovgtGlebCheewMXDva9TA1IJgYA7ixK9ETkJDZ8P1wxpDy+AzgjUeE5uLtpvMP+fDTx5K0+lnaPgo7bm3k6tFDMiBLEy8cgGW1j1fehgeui33t0AcAOZbarsDhvhAGqTjEAl3OynykAmawsMASffebovNYb4mnOQBi16XQetLmCRsk+iRMdQNsyJJe9+mum5PRFjYvjGP/g3k2DXu5MrGmogWc+D4BpqlYUWKWbivaFhMrEvi37iERKZUpIV8BRiOoOSYu4wuQCk8yxWAvyeG3pup8cyeW7FgVAgF82Zp783rm0yxjIOXsEQl9F2O+bKBN75G8gqG39JeOnz+Vog0fN+Q9lCUXUKXAekXeF4odY/731wPHFa+b0/w9MnR8NjY+HHfK0/x/RqseF5oiMhxKWqEtCTRylBsdZqztOOe0ccjqKRHx6i0NAeS9l6j4MNBopUe9vw65lSrSLMPina1fAan9Ww+rRRzuFDEWkEjeGdnt5jLZlJ6/pdB/Xo/Rn2wBVFpsfIVvknKnod5lWTZTCyd2oK2O5lEbwxWXpspD7+8DNhRngA7ykuCHfURsPNsuPK0VuPLhsor2pdf3m8Ixt/tfvXH3f8CuscfcOWX1Nff0T1OeT/FoXzbn+LTJyT5EFsDsi7RQ2VrBxd2dgp5gvOZTK6ANZzLk5yOdS2dKRAllftZXcezVanMg1VqTVXZ+kMqTxB1XzaE7zaeGrXz/c9akYKXuxdVyn9r9j+xoP+Z+J3+jfidfpoH0/9D+J0lu3ohqykFHcNFA64gipbLF7PpXTWj5gtp/c/Fb91yMEfw4t8C4OkfBPD0/wH8D0n/vwrAM78RwDNP82Dm7wbw73TfDBXWDnqzLxM0Mz8ImplfA5ovx5y/KeGiXr6+LOP9juHPU2PuL/n87cF6u/TZazyJWXcCkH7k56+/6lOT6Iq8JO7aTot3w2nkDxThqS1kUsO0+LfEiIaw4gzJYkO8JhReo7WnLNs4oltf9+nJy55I7sXW6f1/3f5Y3Vbjc/bVzaWHS18sl/b4DZMnQ3fAqJUMh/8+Vdk7Mn5WywEcVX7K58GPKpuhl/jsivc9yz+KyTNSjQ7v/17Tff/7NBaffevmv197WHw=\", \"compress_html_7c71fe30a2824a7a9a0b7bfe2cdba7ed\");</script><span style=\"color: #aaaaaa; font-family: monospace\">(Loading...)</span></div></div>"
      ],
      "text/plain": [
       "<IPython.core.display.HTML object>"
      ]
     },
     "metadata": {},
     "output_type": "display_data"
    },
    {
     "data": {
      "text/html": [
       "<div id=\"compress_html_1630921f52c043a7806188c0f0ee3e04\"><script>window.treescope_decompress_enqueue(\"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\", \"compress_html_1630921f52c043a7806188c0f0ee3e04\");</script></div>"
      ],
      "text/plain": [
       "<IPython.core.display.HTML object>"
      ]
     },
     "metadata": {},
     "output_type": "display_data"
    },
    {
     "data": {
      "text/html": [
       "<div id=\"output_dest_bb13a5422f154df0a99ff523908b7fbe\"><script> (()=>{ const output = document.getElementById(\"output_bb13a5422f154df0a99ff523908b7fbe\"); const dest = document.getElementById(\"output_dest_bb13a5422f154df0a99ff523908b7fbe\"); dest.parentNode.replaceChild(output, dest); })(); </script></div>"
      ],
      "text/plain": [
       "Selection(\n",
       "  selected_by_path=OrderedDict({\n",
       "    (DictKey(key='b'),):\n",
       "      <jax.Array([0, 1, 2, 3, 4, 5, 6, 7, 8, 9], dtype=int32)>,\n",
       "  }),\n",
       "  remainder={\n",
       "    'a': 1,\n",
       "    'b': SelectionHole(path=(DictKey(key='b'),)),\n",
       "    'c': [\n",
       "      {\n",
       "        'value': <jax.Array([ 0,  1,  2,  3,  4,  5,  6,  7,  8,  9, 10, 11], dtype=int32)>,\n",
       "      },\n",
       "      {'value': <jax.Array([0., 0., 0., 0., 0., 0., 0.], dtype=float32)>},\n",
       "      {'value': 3},\n",
       "    ],\n",
       "  },\n",
       ")"
      ]
     },
     "execution_count": 17,
     "metadata": {},
     "output_type": "execute_result"
    }
   ],
   "source": [
    "pz.select(my_nested_object).at(lambda root: root[\"b\"])"
   ]
  },
  {
   "cell_type": "markdown",
   "metadata": {
    "id": "jBtV4TmU3_Az"
   },
   "source": [
    "Later `at` calls in a chain are relative to the currently selected part:"
   ]
  },
  {
   "cell_type": "code",
   "execution_count": 18,
   "metadata": {
    "execution": {
     "iopub.execute_input": "2024-05-03T20:32:34.499507Z",
     "iopub.status.busy": "2024-05-03T20:32:34.499294Z",
     "iopub.status.idle": "2024-05-03T20:32:34.520388Z",
     "shell.execute_reply": "2024-05-03T20:32:34.519751Z"
    },
    "id": "Z8xrYRKXMVbX"
   },
   "outputs": [
    {
     "data": {
      "text/html": [
       "<div id=\"output_573631d421fb4e568c83c1574c3c16e6\"><script> /* penzai.treescope rendering of a Python object (compressed) */ (()=>{ let observer; let lastStep = new Promise((resolve, reject) => { observer = new IntersectionObserver((entries) => { for (const entry of entries) { if (entry.isIntersecting) { resolve(); observer.disconnect(); return; } } }, {rootMargin: \"1000px\"}); }); window.treescope_decompress_enqueue = (encoded, destId) => { const previous = lastStep; const destElt = document.getElementById(destId); lastStep = (async () => { await previous; let blob = new Blob([ Uint8Array.from(atob(encoded), (m) => m.codePointAt(0)) ]); let reader = blob.stream().pipeThrough( new DecompressionStream(\"deflate\") ).pipeThrough( new TextDecoderStream(\"utf-8\") ).getReader(); let parts = []; while (true) { let step = await reader.read(); if (step.done) { break; } parts.push(step.value); } let newElt = document.createElement(\"div\"); newElt.innerHTML = parts.join(\"\"); destElt.parentNode.replaceChild(newElt, destElt); for (let oldScript of newElt.querySelectorAll(\"script\")) { let newScript = document.createElement(\"script\"); newScript.type = oldScript.type; newScript.textContent = oldScript.textContent; oldScript.parentNode.replaceChild(newScript, oldScript); } })(); requestAnimationFrame(() => { observer.observe(destElt); }); } })(); </script><div id=\"compress_html_81c8bfc635424df8b32b2df5767bffcc\"><script>window.treescope_decompress_enqueue(\"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\", \"compress_html_81c8bfc635424df8b32b2df5767bffcc\");</script><span style=\"color: #aaaaaa; font-family: monospace\">(Loading...)</span></div></div>"
      ],
      "text/plain": [
       "<IPython.core.display.HTML object>"
      ]
     },
     "metadata": {},
     "output_type": "display_data"
    },
    {
     "data": {
      "text/html": [
       "<div id=\"compress_html_617c5e84bd2b455fa3ca6b3aad7cc60f\"><script>window.treescope_decompress_enqueue(\"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\", \"compress_html_617c5e84bd2b455fa3ca6b3aad7cc60f\");</script></div>"
      ],
      "text/plain": [
       "<IPython.core.display.HTML object>"
      ]
     },
     "metadata": {},
     "output_type": "display_data"
    },
    {
     "data": {
      "text/html": [
       "<div id=\"output_dest_573631d421fb4e568c83c1574c3c16e6\"><script> (()=>{ const output = document.getElementById(\"output_573631d421fb4e568c83c1574c3c16e6\"); const dest = document.getElementById(\"output_dest_573631d421fb4e568c83c1574c3c16e6\"); dest.parentNode.replaceChild(output, dest); })(); </script></div>"
      ],
      "text/plain": [
       "Selection(\n",
       "  selected_by_path=OrderedDict({\n",
       "    (DictKey(key='c'), SequenceKey(idx=0), DictKey(key='value')):\n",
       "      <jax.Array([ 0,  1,  2,  3,  4,  5,  6,  7,  8,  9, 10, 11], dtype=int32)>,\n",
       "    (DictKey(key='c'), SequenceKey(idx=1), DictKey(key='value')):\n",
       "      <jax.Array([0., 0., 0., 0., 0., 0., 0.], dtype=float32)>,\n",
       "  }),\n",
       "  remainder={\n",
       "    'a': 1,\n",
       "    'b': <jax.Array([0, 1, 2, 3, 4, 5, 6, 7, 8, 9], dtype=int32)>,\n",
       "    'c': [{'value': SelectionHole(path=(DictKey(key='c'), SequenceKey(idx=0), DictKey(key='value')))}, {'value': SelectionHole(path=(DictKey(key='c'), SequenceKey(idx=1), DictKey(key='value')))}, {'value': 3}],\n",
       "  },\n",
       ")"
      ]
     },
     "execution_count": 18,
     "metadata": {},
     "output_type": "execute_result"
    }
   ],
   "source": [
    "(\n",
    "    pz.select(my_nested_object)\n",
    "    .at(lambda root: (root[\"c\"][0], root[\"c\"][1]))\n",
    "    .at(lambda subtree: subtree[\"value\"])\n",
    ")"
   ]
  },
  {
   "cell_type": "markdown",
   "metadata": {
    "id": "Dy30CsovGJz5"
   },
   "source": [
    "There are a few restrictions on the function that is used to select a subtree. In particular:\n",
    "- your function can't depend on the actual value passed in, only on its PyTree structure,\n",
    "- your function should return a single node or tuple of nodes from the PyTree.\n",
    "\n",
    "Internally, `Selection.at` is implemented using [`equinox.tree_at`](https://docs.kidger.site/equinox/api/manipulation/#equinox.tree_at), which takes care of most of the heavy lifting."
   ]
  },
  {
   "cell_type": "markdown",
   "metadata": {
    "id": "KAmBjvkVHSMg"
   },
   "source": [
    "### Selecting by type\n",
    "\n",
    "If you want to select all subtrees with a particular type, you can use `Selection.at_instances_of`:"
   ]
  },
  {
   "cell_type": "code",
   "execution_count": 19,
   "metadata": {
    "execution": {
     "iopub.execute_input": "2024-05-03T20:32:34.523841Z",
     "iopub.status.busy": "2024-05-03T20:32:34.523623Z",
     "iopub.status.idle": "2024-05-03T20:32:34.542493Z",
     "shell.execute_reply": "2024-05-03T20:32:34.541758Z"
    },
    "id": "y438yc3_HgEg"
   },
   "outputs": [
    {
     "data": {
      "text/html": [
       "<div id=\"output_42097cefbe0e4c90b67f9dbcb04f8717\"><script> /* penzai.treescope rendering of a Python object (compressed) */ (()=>{ let observer; let lastStep = new Promise((resolve, reject) => { observer = new IntersectionObserver((entries) => { for (const entry of entries) { if (entry.isIntersecting) { resolve(); observer.disconnect(); return; } } }, {rootMargin: \"1000px\"}); }); window.treescope_decompress_enqueue = (encoded, destId) => { const previous = lastStep; const destElt = document.getElementById(destId); lastStep = (async () => { await previous; let blob = new Blob([ Uint8Array.from(atob(encoded), (m) => m.codePointAt(0)) ]); let reader = blob.stream().pipeThrough( new DecompressionStream(\"deflate\") ).pipeThrough( new TextDecoderStream(\"utf-8\") ).getReader(); let parts = []; while (true) { let step = await reader.read(); if (step.done) { break; } parts.push(step.value); } let newElt = document.createElement(\"div\"); newElt.innerHTML = parts.join(\"\"); destElt.parentNode.replaceChild(newElt, destElt); for (let oldScript of newElt.querySelectorAll(\"script\")) { let newScript = document.createElement(\"script\"); newScript.type = oldScript.type; newScript.textContent = oldScript.textContent; oldScript.parentNode.replaceChild(newScript, oldScript); } })(); requestAnimationFrame(() => { observer.observe(destElt); }); } })(); </script><div id=\"compress_html_d860760e1c364f34bc9e115acd620fd3\"><script>window.treescope_decompress_enqueue(\"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\", \"compress_html_d860760e1c364f34bc9e115acd620fd3\");</script><span style=\"color: #aaaaaa; font-family: monospace\">(Loading...)</span></div></div>"
      ],
      "text/plain": [
       "<IPython.core.display.HTML object>"
      ]
     },
     "metadata": {},
     "output_type": "display_data"
    },
    {
     "data": {
      "text/html": [
       "<div id=\"compress_html_961898648458446c9a0a68346736a425\"><script>window.treescope_decompress_enqueue(\"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\", \"compress_html_961898648458446c9a0a68346736a425\");</script></div>"
      ],
      "text/plain": [
       "<IPython.core.display.HTML object>"
      ]
     },
     "metadata": {},
     "output_type": "display_data"
    },
    {
     "data": {
      "text/html": [
       "<div id=\"output_dest_42097cefbe0e4c90b67f9dbcb04f8717\"><script> (()=>{ const output = document.getElementById(\"output_42097cefbe0e4c90b67f9dbcb04f8717\"); const dest = document.getElementById(\"output_dest_42097cefbe0e4c90b67f9dbcb04f8717\"); dest.parentNode.replaceChild(output, dest); })(); </script></div>"
      ],
      "text/plain": [
       "Selection(\n",
       "  selected_by_path=OrderedDict({\n",
       "    (DictKey(key='a'),):\n",
       "      1,\n",
       "    (DictKey(key='c'), SequenceKey(idx=2), DictKey(key='value')):\n",
       "      3,\n",
       "  }),\n",
       "  remainder={\n",
       "    'a': SelectionHole(path=(DictKey(key='a'),)),\n",
       "    'b': <jax.Array([0, 1, 2, 3, 4, 5, 6, 7, 8, 9], dtype=int32)>,\n",
       "    'c': [{'value': <jax.Array([ 0,  1,  2,  3,  4,  5,  6,  7,  8,  9, 10, 11], dtype=int32)>}, {'value': <jax.Array([0., 0., 0., 0., 0., 0., 0.], dtype=float32)>}, {'value': SelectionHole(path=(DictKey(key='c'), SequenceKey(idx=2), DictKey(key='value')))}],\n",
       "  },\n",
       ")"
      ]
     },
     "execution_count": 19,
     "metadata": {},
     "output_type": "execute_result"
    }
   ],
   "source": [
    "pz.select(my_nested_object).at_instances_of(int)"
   ]
  },
  {
   "cell_type": "markdown",
   "metadata": {
    "id": "wIjWns9HHiXj"
   },
   "source": [
    "This selects any subtree for which `isinstance(subtree, requested_type)` evaluates to True.\n",
    "\n",
    "Note that selections cannot be nested, so this only selects the *outermost* value with the given type:"
   ]
  },
  {
   "cell_type": "code",
   "execution_count": 20,
   "metadata": {
    "execution": {
     "iopub.execute_input": "2024-05-03T20:32:34.545669Z",
     "iopub.status.busy": "2024-05-03T20:32:34.545447Z",
     "iopub.status.idle": "2024-05-03T20:32:34.560337Z",
     "shell.execute_reply": "2024-05-03T20:32:34.559687Z"
    },
    "id": "sopg1pzrH2ZX"
   },
   "outputs": [
    {
     "data": {
      "text/html": [
       "<div id=\"output_8e4e694db3f0498f85dc3cdc257eb841\"><script> /* penzai.treescope rendering of a Python object (compressed) */ (()=>{ let observer; let lastStep = new Promise((resolve, reject) => { observer = new IntersectionObserver((entries) => { for (const entry of entries) { if (entry.isIntersecting) { resolve(); observer.disconnect(); return; } } }, {rootMargin: \"1000px\"}); }); window.treescope_decompress_enqueue = (encoded, destId) => { const previous = lastStep; const destElt = document.getElementById(destId); lastStep = (async () => { await previous; let blob = new Blob([ Uint8Array.from(atob(encoded), (m) => m.codePointAt(0)) ]); let reader = blob.stream().pipeThrough( new DecompressionStream(\"deflate\") ).pipeThrough( new TextDecoderStream(\"utf-8\") ).getReader(); let parts = []; while (true) { let step = await reader.read(); if (step.done) { break; } parts.push(step.value); } let newElt = document.createElement(\"div\"); newElt.innerHTML = parts.join(\"\"); destElt.parentNode.replaceChild(newElt, destElt); for (let oldScript of newElt.querySelectorAll(\"script\")) { let newScript = document.createElement(\"script\"); newScript.type = oldScript.type; newScript.textContent = oldScript.textContent; oldScript.parentNode.replaceChild(newScript, oldScript); } })(); requestAnimationFrame(() => { observer.observe(destElt); }); } })(); </script><div id=\"compress_html_68724f2e5b6748e5803d59db52a43e9f\"><script>window.treescope_decompress_enqueue(\"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\", \"compress_html_68724f2e5b6748e5803d59db52a43e9f\");</script><span style=\"color: #aaaaaa; font-family: monospace\">(Loading...)</span></div></div>"
      ],
      "text/plain": [
       "<IPython.core.display.HTML object>"
      ]
     },
     "metadata": {},
     "output_type": "display_data"
    },
    {
     "data": {
      "text/html": [
       "<div id=\"compress_html_ed5fc46932814581b5f14318fcafc83c\"><script>window.treescope_decompress_enqueue(\"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\", \"compress_html_ed5fc46932814581b5f14318fcafc83c\");</script></div>"
      ],
      "text/plain": [
       "<IPython.core.display.HTML object>"
      ]
     },
     "metadata": {},
     "output_type": "display_data"
    },
    {
     "data": {
      "text/html": [
       "<div id=\"output_dest_8e4e694db3f0498f85dc3cdc257eb841\"><script> (()=>{ const output = document.getElementById(\"output_8e4e694db3f0498f85dc3cdc257eb841\"); const dest = document.getElementById(\"output_dest_8e4e694db3f0498f85dc3cdc257eb841\"); dest.parentNode.replaceChild(output, dest); })(); </script></div>"
      ],
      "text/plain": [
       "Selection(\n",
       "  selected_by_path=OrderedDict({\n",
       "    (): {\n",
       "      'a': 1,\n",
       "      'b': <jax.Array([0, 1, 2, 3, 4, 5, 6, 7, 8, 9], dtype=int32)>,\n",
       "      'c': [\n",
       "        {\n",
       "          'value': <jax.Array([ 0,  1,  2,  3,  4,  5,  6,  7,  8,  9, 10, 11], dtype=int32)>,\n",
       "        },\n",
       "        {\n",
       "          'value': <jax.Array([0., 0., 0., 0., 0., 0., 0.], dtype=float32)>,\n",
       "        },\n",
       "        {'value': 3},\n",
       "      ],\n",
       "    },\n",
       "  }),\n",
       "  remainder=SelectionHole(path=()),\n",
       ")"
      ]
     },
     "execution_count": 20,
     "metadata": {},
     "output_type": "execute_result"
    }
   ],
   "source": [
    "pz.select(my_nested_object).at_instances_of(dict)"
   ]
  },
  {
   "cell_type": "markdown",
   "metadata": {
    "id": "R-Qm4rBaHkNW"
   },
   "source": [
    "### Selecting by condition\n",
    "More generally, you can select all subtrees for which a function evaluates to true:"
   ]
  },
  {
   "cell_type": "code",
   "execution_count": 21,
   "metadata": {
    "execution": {
     "iopub.execute_input": "2024-05-03T20:32:34.563681Z",
     "iopub.status.busy": "2024-05-03T20:32:34.563462Z",
     "iopub.status.idle": "2024-05-03T20:32:34.581983Z",
     "shell.execute_reply": "2024-05-03T20:32:34.581365Z"
    },
    "id": "yK6nvVfWH-Jh"
   },
   "outputs": [
    {
     "data": {
      "text/html": [
       "<div id=\"output_5df639e5f339496b923c1cf0945e9092\"><script> /* penzai.treescope rendering of a Python object (compressed) */ (()=>{ let observer; let lastStep = new Promise((resolve, reject) => { observer = new IntersectionObserver((entries) => { for (const entry of entries) { if (entry.isIntersecting) { resolve(); observer.disconnect(); return; } } }, {rootMargin: \"1000px\"}); }); window.treescope_decompress_enqueue = (encoded, destId) => { const previous = lastStep; const destElt = document.getElementById(destId); lastStep = (async () => { await previous; let blob = new Blob([ Uint8Array.from(atob(encoded), (m) => m.codePointAt(0)) ]); let reader = blob.stream().pipeThrough( new DecompressionStream(\"deflate\") ).pipeThrough( new TextDecoderStream(\"utf-8\") ).getReader(); let parts = []; while (true) { let step = await reader.read(); if (step.done) { break; } parts.push(step.value); } let newElt = document.createElement(\"div\"); newElt.innerHTML = parts.join(\"\"); destElt.parentNode.replaceChild(newElt, destElt); for (let oldScript of newElt.querySelectorAll(\"script\")) { let newScript = document.createElement(\"script\"); newScript.type = oldScript.type; newScript.textContent = oldScript.textContent; oldScript.parentNode.replaceChild(newScript, oldScript); } })(); requestAnimationFrame(() => { observer.observe(destElt); }); } })(); </script><div id=\"compress_html_4621663ab24941398df9fe6f55788a75\"><script>window.treescope_decompress_enqueue(\"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\", \"compress_html_4621663ab24941398df9fe6f55788a75\");</script><span style=\"color: #aaaaaa; font-family: monospace\">(Loading...)</span></div></div>"
      ],
      "text/plain": [
       "<IPython.core.display.HTML object>"
      ]
     },
     "metadata": {},
     "output_type": "display_data"
    },
    {
     "data": {
      "text/html": [
       "<div id=\"compress_html_5b052829701547e7ad8df02a9d262528\"><script>window.treescope_decompress_enqueue(\"eNrtWutv2zYQ/1cOKtbIra1Kfj9iA1u6Af3SD8OAfSgCgSJpSwstahKdx4r+7ztSsmzZjuOkaYqtKlA7Eu+O9/jdHc/SOYuuIVN3gk8tFmWJIHdjiGXMLYjY1JrL1Gd8ztOUM39EOG/3WI8R3u4SHgzn7e5g5HXavNv3PJdas/MsITF+ankzJ5BKyaWIYj6OpbKduRSMBIL7sWR8HJLMngkScDGrrvhKLhYi5xnTkNMrzhoNeNOAz5AQxqJ40VIyGYPreD2+nIDeoRXyaBGqMXiOuffFoVKg8iQIUn6NnOZyDK/6wzZx3Q0Blcslj5V/E/LY57eoP+Ps2fRd70rMv3JXdKZWekMQCEKvJhDg5yKVq5i1ioVrktqtViAkvcpvNZBKpoynuQ+85BYyKSJ2jDIPxEPEX8AJ7xKeomZXfsqXUnE/lNc8hV2l99WUV4KG9rD7kw5KtweeO8ol3pDMz2gqhUB2JZ15lGbKVxG9OlnqqOt4Wq47Aq/TdwYHBRvvH92usbehSkmcRSqS8Xhvc/Ay4CTjrShuyZVqwlzGqnVjQLazpqMa0tBH7FPuCz5XW0DVlxqpPRpW6VIjaUOY5vAtKTNFNJB8GkaCpTwulc9jCjOokjwbZMsqYNAxgSVJF2hobgglgtptGkILNe3SMI/FA7p+M9UKeOeq5cA2Wh2Ed6V0GDvQ1yKEN2B7aM42SyE3QyreaDRKH2xYW6fzrvddJ6HhLEWu77aK2y/ozU0ZMR5spYRFq6ww0ONLtO5+w4ymX6fEgxD/XKl0eXx1CTuh0h0n/uKgxG/SlzZBPtKazt/lDdJ0S6CCZNnUMv3HFCCVRknRSteduWIAthMWDLs9MjkUGtx7YlVFV6yAKPPzqihjUwiROLf2PIqTlQKFPWBqGfsCeWsdFFK4AlnfGabqfpsuohDkXFnAiCKtK36XEBVOrR31KlW5CAxUC6p1iq+Kxb9XRMRkyf0k5fPo1polPP6HRI5KOc+oTDjCLEFNMmxvcyKErvwOhsScXPKvj1L9vpaeaKPt6vr5u8JjW/ueaanBCsMfn4GMLwT2nOnZZtMQDxboPU3lU71oqzDKGme5b/TtqWULsgwYgVRKhIv+bFgbCJSEYzg7QHk2gYKGxAhRkve1swtkAO13/Ls8oFWt2fbebk5CNSetI9R7pBJ7WhQTgYeJJJ0+CiJOhfcQYPwMoxMvrNnrV7ftweTnNCV39ie3CV4T2k3oNKHbhF4T+k0YNGHYhNFlE5gBdxSrTruR81Vd0dyHGW4mSJJxZs3gkMMq50brBSBRdc3pANnhezpcTgTP/XDAweKJYIjYQSjEq2WgdxgNuu6oM+j12v2h1/8vhzZiTwkscn3HsJrcemJgNe+xrvX8TerI9GcdhcGrg1jZ6zp/kdt1VzG16UjrOAY0K8J7sdqqyEfXrdnzBWB7gMYyK9TELEBeOLV9xrD88vVCTY5A6DumkrbsKclk+J4rnU5NtR0/NWtfnuS2yhFy87MT7Izb1qzxuEigmveeM/fTo0yJx51D9jNn/cWi69n5I36g46RPiOeOCKGDbtsbDEd9MqT9wdzjbrfX7mx+oPsmg4c3edkSXs8Z9ZzxneYMwATXGa5TXOe4TnKd5TrNdZ7rRIcRFgFdCLx68vhBJo/+oD0atIf15FFPHvXkUU8e9eRRTx4vPXl83cnk+WYRNyDuiHX6Azpi3eHICwI2mHf7tOO63rwTeN94FqkfgtTDyQ/7EMRpwuH/ZbrPhST1KPL/fgjSxbJbPwSpR5F6FKlHkXoUqUeRl38I8ohzyAODR0ZxbzWz7QZMZ/CZyjjD+mfS+QPLYAqfrNNfU26Cdfojk23iB2eay0mumQ48KnWDdUnebB26UV2/vPI1lQ1M0pUuv3rxV8H1n7/cfWB2ad0n91K/b5dLnqdkoUlQeslIU04Uf19c/lZQ2CWP3udC4JiGTGt+hyQ4ErALXS9tg1OqKT5iy7BVujJv+OE8B7bgCiJkdCf4db7xuSN4vFAh3n37Vr8Bp+nyxe1d7rUpusQNNE8mVynl73GwnN7rCjNZWvAWdvjzSwePcgLh/WekQrsUl7/6W0gxZiLDZlW/33zNbfMeozF/W0jpML3c0ESIxhyBayTuhZbHf6/4ir8vsPIHX6I8xTO7UfL+CxVAqOw=\", \"compress_html_5b052829701547e7ad8df02a9d262528\");</script></div>"
      ],
      "text/plain": [
       "<IPython.core.display.HTML object>"
      ]
     },
     "metadata": {},
     "output_type": "display_data"
    },
    {
     "data": {
      "text/html": [
       "<div id=\"output_dest_5df639e5f339496b923c1cf0945e9092\"><script> (()=>{ const output = document.getElementById(\"output_5df639e5f339496b923c1cf0945e9092\"); const dest = document.getElementById(\"output_dest_5df639e5f339496b923c1cf0945e9092\"); dest.parentNode.replaceChild(output, dest); })(); </script></div>"
      ],
      "text/plain": [
       "Selection(\n",
       "  selected_by_path=OrderedDict({\n",
       "    (DictKey(key='b'),):\n",
       "      <jax.Array([0, 1, 2, 3, 4, 5, 6, 7, 8, 9], dtype=int32)>,\n",
       "    (DictKey(key='c'), SequenceKey(idx=1), DictKey(key='value')):\n",
       "      <jax.Array([0., 0., 0., 0., 0., 0., 0.], dtype=float32)>,\n",
       "  }),\n",
       "  remainder={\n",
       "    'a': 1,\n",
       "    'b': SelectionHole(path=(DictKey(key='b'),)),\n",
       "    'c': [{'value': <jax.Array([ 0,  1,  2,  3,  4,  5,  6,  7,  8,  9, 10, 11], dtype=int32)>}, {'value': SelectionHole(path=(DictKey(key='c'), SequenceKey(idx=1), DictKey(key='value')))}, {'value': 3}],\n",
       "  },\n",
       ")"
      ]
     },
     "execution_count": 21,
     "metadata": {},
     "output_type": "execute_result"
    }
   ],
   "source": [
    "(\n",
    "    pz.select(my_nested_object)\n",
    "    .at_subtrees_where(\n",
    "        lambda subtree: isinstance(subtree, jax.Array) and subtree.size <= 10)\n",
    ")"
   ]
  },
  {
   "cell_type": "markdown",
   "metadata": {
    "id": "Hz97YScaHmyC"
   },
   "source": [
    "In fact, `at_instances_of` is a thin wrapper around `at_subtrees_where`. There's another convenience method for finding values equal to a sentinel value:"
   ]
  },
  {
   "cell_type": "code",
   "execution_count": 22,
   "metadata": {
    "execution": {
     "iopub.execute_input": "2024-05-03T20:32:34.585499Z",
     "iopub.status.busy": "2024-05-03T20:32:34.585279Z",
     "iopub.status.idle": "2024-05-03T20:32:34.600853Z",
     "shell.execute_reply": "2024-05-03T20:32:34.600271Z"
    },
    "id": "LKwjwL8CJjur"
   },
   "outputs": [
    {
     "data": {
      "text/html": [
       "<div id=\"output_4a99bd9ea5804cde947c6ff76434f787\"><script> /* penzai.treescope rendering of a Python object (compressed) */ (()=>{ let observer; let lastStep = new Promise((resolve, reject) => { observer = new IntersectionObserver((entries) => { for (const entry of entries) { if (entry.isIntersecting) { resolve(); observer.disconnect(); return; } } }, {rootMargin: \"1000px\"}); }); window.treescope_decompress_enqueue = (encoded, destId) => { const previous = lastStep; const destElt = document.getElementById(destId); lastStep = (async () => { await previous; let blob = new Blob([ Uint8Array.from(atob(encoded), (m) => m.codePointAt(0)) ]); let reader = blob.stream().pipeThrough( new DecompressionStream(\"deflate\") ).pipeThrough( new TextDecoderStream(\"utf-8\") ).getReader(); let parts = []; while (true) { let step = await reader.read(); if (step.done) { break; } parts.push(step.value); } let newElt = document.createElement(\"div\"); newElt.innerHTML = parts.join(\"\"); destElt.parentNode.replaceChild(newElt, destElt); for (let oldScript of newElt.querySelectorAll(\"script\")) { let newScript = document.createElement(\"script\"); newScript.type = oldScript.type; newScript.textContent = oldScript.textContent; oldScript.parentNode.replaceChild(newScript, oldScript); } })(); requestAnimationFrame(() => { observer.observe(destElt); }); } })(); </script><div id=\"compress_html_babe51767cfb43a398da665797292766\"><script>window.treescope_decompress_enqueue(\"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\", \"compress_html_babe51767cfb43a398da665797292766\");</script><span style=\"color: #aaaaaa; font-family: monospace\">(Loading...)</span></div></div>"
      ],
      "text/plain": [
       "<IPython.core.display.HTML object>"
      ]
     },
     "metadata": {},
     "output_type": "display_data"
    },
    {
     "data": {
      "text/html": [
       "<div id=\"compress_html_81c00c4da8f14b969125cb06a95d1566\"><script>window.treescope_decompress_enqueue(\"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\", \"compress_html_81c00c4da8f14b969125cb06a95d1566\");</script></div>"
      ],
      "text/plain": [
       "<IPython.core.display.HTML object>"
      ]
     },
     "metadata": {},
     "output_type": "display_data"
    },
    {
     "data": {
      "text/html": [
       "<div id=\"output_dest_4a99bd9ea5804cde947c6ff76434f787\"><script> (()=>{ const output = document.getElementById(\"output_4a99bd9ea5804cde947c6ff76434f787\"); const dest = document.getElementById(\"output_dest_4a99bd9ea5804cde947c6ff76434f787\"); dest.parentNode.replaceChild(output, dest); })(); </script></div>"
      ],
      "text/plain": [
       "Selection(\n",
       "  selected_by_path=OrderedDict({(DictKey(key='a'),): 1}),\n",
       "  remainder={\n",
       "    'a': SelectionHole(path=(DictKey(key='a'),)),\n",
       "    'b': <jax.Array([0, 1, 2, 3, 4, 5, 6, 7, 8, 9], dtype=int32)>,\n",
       "    'c': [\n",
       "      {\n",
       "        'value': <jax.Array([ 0,  1,  2,  3,  4,  5,  6,  7,  8,  9, 10, 11], dtype=int32)>,\n",
       "      },\n",
       "      {\n",
       "        'value': <jax.Array([0., 0., 0., 0., 0., 0., 0.], dtype=float32)>,\n",
       "      },\n",
       "      {'value': 3},\n",
       "    ],\n",
       "  },\n",
       ")"
      ]
     },
     "execution_count": 22,
     "metadata": {},
     "output_type": "execute_result"
    }
   ],
   "source": [
    "(\n",
    "    pz.select(my_nested_object)\n",
    "    .at_equal_to(1)\n",
    ")"
   ]
  },
  {
   "cell_type": "code",
   "execution_count": 23,
   "metadata": {
    "execution": {
     "iopub.execute_input": "2024-05-03T20:32:34.603973Z",
     "iopub.status.busy": "2024-05-03T20:32:34.603770Z",
     "iopub.status.idle": "2024-05-03T20:32:34.612845Z",
     "shell.execute_reply": "2024-05-03T20:32:34.612258Z"
    },
    "id": "lNlmgOXZIW8O"
   },
   "outputs": [
    {
     "data": {
      "text/html": [
       "<div id=\"output_8bbff2db2a484ae78f4d010cb9d1481f\"><script> /* penzai.treescope rendering of a Python object (compressed) */ (()=>{ let observer; let lastStep = new Promise((resolve, reject) => { observer = new IntersectionObserver((entries) => { for (const entry of entries) { if (entry.isIntersecting) { resolve(); observer.disconnect(); return; } } }, {rootMargin: \"1000px\"}); }); window.treescope_decompress_enqueue = (encoded, destId) => { const previous = lastStep; const destElt = document.getElementById(destId); lastStep = (async () => { await previous; let blob = new Blob([ Uint8Array.from(atob(encoded), (m) => m.codePointAt(0)) ]); let reader = blob.stream().pipeThrough( new DecompressionStream(\"deflate\") ).pipeThrough( new TextDecoderStream(\"utf-8\") ).getReader(); let parts = []; while (true) { let step = await reader.read(); if (step.done) { break; } parts.push(step.value); } let newElt = document.createElement(\"div\"); newElt.innerHTML = parts.join(\"\"); destElt.parentNode.replaceChild(newElt, destElt); for (let oldScript of newElt.querySelectorAll(\"script\")) { let newScript = document.createElement(\"script\"); newScript.type = oldScript.type; newScript.textContent = oldScript.textContent; oldScript.parentNode.replaceChild(newScript, oldScript); } })(); requestAnimationFrame(() => { observer.observe(destElt); }); } })(); </script><div id=\"compress_html_577ef95f585a4314bb747ed9411d3a01\"><script>window.treescope_decompress_enqueue(\"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\", \"compress_html_577ef95f585a4314bb747ed9411d3a01\");</script><span style=\"color: #aaaaaa; font-family: monospace\">(Loading...)</span></div></div>"
      ],
      "text/plain": [
       "<IPython.core.display.HTML object>"
      ]
     },
     "metadata": {},
     "output_type": "display_data"
    },
    {
     "data": {
      "text/html": [
       "<div id=\"output_dest_8bbff2db2a484ae78f4d010cb9d1481f\"><script> (()=>{ const output = document.getElementById(\"output_8bbff2db2a484ae78f4d010cb9d1481f\"); const dest = document.getElementById(\"output_dest_8bbff2db2a484ae78f4d010cb9d1481f\"); dest.parentNode.replaceChild(output, dest); })(); </script></div>"
      ],
      "text/plain": [
       "Selection(\n",
       "  selected_by_path=OrderedDict({(DictKey(key='bar'),): [1, 2, 3]}),\n",
       "  remainder={\n",
       "    'bar': SelectionHole(path=(DictKey(key='bar'),)),\n",
       "    'foo': 'foo',\n",
       "  },\n",
       ")"
      ]
     },
     "execution_count": 23,
     "metadata": {},
     "output_type": "execute_result"
    }
   ],
   "source": [
    "(\n",
    "    pz.select({\"foo\": \"foo\", \"bar\": [1, 2, 3]}).at_equal_to([1, 2, 3])\n",
    ")"
   ]
  },
  {
   "cell_type": "markdown",
   "metadata": {
    "id": "1GZV7CkULrZ_"
   },
   "source": [
    "### Selecting by JAX keypath"
   ]
  },
  {
   "cell_type": "markdown",
   "metadata": {
    "id": "nJSlyPdGLvNE"
   },
   "source": [
    "PyTree nodes in JAX are associated with key paths identifying their location in the tree:"
   ]
  },
  {
   "cell_type": "code",
   "execution_count": 24,
   "metadata": {
    "execution": {
     "iopub.execute_input": "2024-05-03T20:32:34.616053Z",
     "iopub.status.busy": "2024-05-03T20:32:34.615850Z",
     "iopub.status.idle": "2024-05-03T20:32:34.627269Z",
     "shell.execute_reply": "2024-05-03T20:32:34.626594Z"
    },
    "id": "9nX57pMUL72X"
   },
   "outputs": [
    {
     "data": {
      "text/html": [
       "<div id=\"output_36786fc0cb34422886d86c53f6fa84b0\"><script> /* penzai.treescope rendering of a Python object (compressed) */ (()=>{ let observer; let lastStep = new Promise((resolve, reject) => { observer = new IntersectionObserver((entries) => { for (const entry of entries) { if (entry.isIntersecting) { resolve(); observer.disconnect(); return; } } }, {rootMargin: \"1000px\"}); }); window.treescope_decompress_enqueue = (encoded, destId) => { const previous = lastStep; const destElt = document.getElementById(destId); lastStep = (async () => { await previous; let blob = new Blob([ Uint8Array.from(atob(encoded), (m) => m.codePointAt(0)) ]); let reader = blob.stream().pipeThrough( new DecompressionStream(\"deflate\") ).pipeThrough( new TextDecoderStream(\"utf-8\") ).getReader(); let parts = []; while (true) { let step = await reader.read(); if (step.done) { break; } parts.push(step.value); } let newElt = document.createElement(\"div\"); newElt.innerHTML = parts.join(\"\"); destElt.parentNode.replaceChild(newElt, destElt); for (let oldScript of newElt.querySelectorAll(\"script\")) { let newScript = document.createElement(\"script\"); newScript.type = oldScript.type; newScript.textContent = oldScript.textContent; oldScript.parentNode.replaceChild(newScript, oldScript); } })(); requestAnimationFrame(() => { observer.observe(destElt); }); } })(); </script><div id=\"compress_html_5ebefe8d0a7d477599019999bdf195f6\"><script>window.treescope_decompress_enqueue(\"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\", \"compress_html_5ebefe8d0a7d477599019999bdf195f6\");</script><span style=\"color: #aaaaaa; font-family: monospace\">(Loading...)</span></div></div>"
      ],
      "text/plain": [
       "<IPython.core.display.HTML object>"
      ]
     },
     "metadata": {},
     "output_type": "display_data"
    },
    {
     "data": {
      "text/html": [
       "<div id=\"output_dest_36786fc0cb34422886d86c53f6fa84b0\"><script> (()=>{ const output = document.getElementById(\"output_36786fc0cb34422886d86c53f6fa84b0\"); const dest = document.getElementById(\"output_dest_36786fc0cb34422886d86c53f6fa84b0\"); dest.parentNode.replaceChild(output, dest); })(); </script></div>"
      ],
      "text/plain": [
       "{'a': (DictKey(key='a'),),\n",
       " 'b': (DictKey(key='b'),),\n",
       " 'c': [{'value': (DictKey(key='c'), SequenceKey(idx=0), DictKey(key='value'))},\n",
       "  {'value': (DictKey(key='c'), SequenceKey(idx=1), DictKey(key='value'))},\n",
       "  {'value': (DictKey(key='c'), SequenceKey(idx=2), DictKey(key='value'))}]}"
      ]
     },
     "execution_count": 24,
     "metadata": {},
     "output_type": "execute_result"
    }
   ],
   "source": [
    "jax.tree_util.tree_map_with_path(lambda key, node: key, my_nested_object)"
   ]
  },
  {
   "cell_type": "markdown",
   "metadata": {
    "id": "BzUbLkQ5MFTG"
   },
   "source": [
    "You can directly select nodes based on their JAX keypath:"
   ]
  },
  {
   "cell_type": "code",
   "execution_count": 25,
   "metadata": {
    "execution": {
     "iopub.execute_input": "2024-05-03T20:32:34.630561Z",
     "iopub.status.busy": "2024-05-03T20:32:34.630349Z",
     "iopub.status.idle": "2024-05-03T20:32:34.650228Z",
     "shell.execute_reply": "2024-05-03T20:32:34.649594Z"
    },
    "id": "YQZQ9MVwMw0h"
   },
   "outputs": [
    {
     "data": {
      "text/html": [
       "<div id=\"output_3e34ecfb05344a819a39b8d28268b640\"><script> /* penzai.treescope rendering of a Python object (compressed) */ (()=>{ let observer; let lastStep = new Promise((resolve, reject) => { observer = new IntersectionObserver((entries) => { for (const entry of entries) { if (entry.isIntersecting) { resolve(); observer.disconnect(); return; } } }, {rootMargin: \"1000px\"}); }); window.treescope_decompress_enqueue = (encoded, destId) => { const previous = lastStep; const destElt = document.getElementById(destId); lastStep = (async () => { await previous; let blob = new Blob([ Uint8Array.from(atob(encoded), (m) => m.codePointAt(0)) ]); let reader = blob.stream().pipeThrough( new DecompressionStream(\"deflate\") ).pipeThrough( new TextDecoderStream(\"utf-8\") ).getReader(); let parts = []; while (true) { let step = await reader.read(); if (step.done) { break; } parts.push(step.value); } let newElt = document.createElement(\"div\"); newElt.innerHTML = parts.join(\"\"); destElt.parentNode.replaceChild(newElt, destElt); for (let oldScript of newElt.querySelectorAll(\"script\")) { let newScript = document.createElement(\"script\"); newScript.type = oldScript.type; newScript.textContent = oldScript.textContent; oldScript.parentNode.replaceChild(newScript, oldScript); } })(); requestAnimationFrame(() => { observer.observe(destElt); }); } })(); </script><div id=\"compress_html_ebcc0c4375fe4b4ea984787b16fd44d1\"><script>window.treescope_decompress_enqueue(\"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\", \"compress_html_ebcc0c4375fe4b4ea984787b16fd44d1\");</script><span style=\"color: #aaaaaa; font-family: monospace\">(Loading...)</span></div></div>"
      ],
      "text/plain": [
       "<IPython.core.display.HTML object>"
      ]
     },
     "metadata": {},
     "output_type": "display_data"
    },
    {
     "data": {
      "text/html": [
       "<div id=\"compress_html_5859a4a1aa2049ffa1c3b51fc053ae1e\"><script>window.treescope_decompress_enqueue(\"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\", \"compress_html_5859a4a1aa2049ffa1c3b51fc053ae1e\");</script></div>"
      ],
      "text/plain": [
       "<IPython.core.display.HTML object>"
      ]
     },
     "metadata": {},
     "output_type": "display_data"
    },
    {
     "data": {
      "text/html": [
       "<div id=\"output_dest_3e34ecfb05344a819a39b8d28268b640\"><script> (()=>{ const output = document.getElementById(\"output_3e34ecfb05344a819a39b8d28268b640\"); const dest = document.getElementById(\"output_dest_3e34ecfb05344a819a39b8d28268b640\"); dest.parentNode.replaceChild(output, dest); })(); </script></div>"
      ],
      "text/plain": [
       "Selection(\n",
       "  selected_by_path=OrderedDict({\n",
       "    (DictKey(key='c'), SequenceKey(idx=0)):\n",
       "      {\n",
       "        'value': <jax.Array([ 0,  1,  2,  3,  4,  5,  6,  7,  8,  9, 10, 11], dtype=int32)>,\n",
       "      },\n",
       "    (DictKey(key='c'), SequenceKey(idx=2), DictKey(key='value')):\n",
       "      3,\n",
       "  }),\n",
       "  remainder={\n",
       "    'a': 1,\n",
       "    'b': <jax.Array([0, 1, 2, 3, 4, 5, 6, 7, 8, 9], dtype=int32)>,\n",
       "    'c': [SelectionHole(path=(DictKey(key='c'), SequenceKey(idx=0))), {'value': <jax.Array([0., 0., 0., 0., 0., 0., 0.], dtype=float32)>}, {'value': SelectionHole(path=(DictKey(key='c'), SequenceKey(idx=2), DictKey(key='value')))}],\n",
       "  },\n",
       ")"
      ]
     },
     "execution_count": 25,
     "metadata": {},
     "output_type": "execute_result"
    }
   ],
   "source": [
    "pz.select(my_nested_object).at_keypaths([\n",
    "    (jax.tree_util.DictKey(key='c'), jax.tree_util.SequenceKey(idx=2), jax.tree_util.DictKey(key='value')),\n",
    "    (jax.tree_util.DictKey(key='c'), jax.tree_util.SequenceKey(idx=0)),\n",
    "])"
   ]
  },
  {
   "cell_type": "markdown",
   "metadata": {
    "id": "vyDFHhwNNI2y"
   },
   "source": [
    "(You might have noticed that the fancy rendering for Selection objects is actually written in terms of `at_keypaths`, and exposes the keypaths for the currently selected nodes if you expand the last line!)"
   ]
  },
  {
   "cell_type": "markdown",
   "metadata": {
    "id": "j8rujhAbOOKR"
   },
   "source": [
    "### Selecting based on PyTree structure\n",
    "\n",
    "You can also build selections based on PyTree children or PyTree leaves:"
   ]
  },
  {
   "cell_type": "code",
   "execution_count": 26,
   "metadata": {
    "execution": {
     "iopub.execute_input": "2024-05-03T20:32:34.653900Z",
     "iopub.status.busy": "2024-05-03T20:32:34.653695Z",
     "iopub.status.idle": "2024-05-03T20:32:34.672161Z",
     "shell.execute_reply": "2024-05-03T20:32:34.671393Z"
    },
    "id": "ZBZnh09wOdJz"
   },
   "outputs": [
    {
     "data": {
      "text/html": [
       "<div id=\"output_99fb4884cbfb4da0b2f78952b28ba73b\"><script> /* penzai.treescope rendering of a Python object (compressed) */ (()=>{ let observer; let lastStep = new Promise((resolve, reject) => { observer = new IntersectionObserver((entries) => { for (const entry of entries) { if (entry.isIntersecting) { resolve(); observer.disconnect(); return; } } }, {rootMargin: \"1000px\"}); }); window.treescope_decompress_enqueue = (encoded, destId) => { const previous = lastStep; const destElt = document.getElementById(destId); lastStep = (async () => { await previous; let blob = new Blob([ Uint8Array.from(atob(encoded), (m) => m.codePointAt(0)) ]); let reader = blob.stream().pipeThrough( new DecompressionStream(\"deflate\") ).pipeThrough( new TextDecoderStream(\"utf-8\") ).getReader(); let parts = []; while (true) { let step = await reader.read(); if (step.done) { break; } parts.push(step.value); } let newElt = document.createElement(\"div\"); newElt.innerHTML = parts.join(\"\"); destElt.parentNode.replaceChild(newElt, destElt); for (let oldScript of newElt.querySelectorAll(\"script\")) { let newScript = document.createElement(\"script\"); newScript.type = oldScript.type; newScript.textContent = oldScript.textContent; oldScript.parentNode.replaceChild(newScript, oldScript); } })(); requestAnimationFrame(() => { observer.observe(destElt); }); } })(); </script><div id=\"compress_html_9e02b1e12db8483a893b4271ea56b0fd\"><script>window.treescope_decompress_enqueue(\"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\", \"compress_html_9e02b1e12db8483a893b4271ea56b0fd\");</script><span style=\"color: #aaaaaa; font-family: monospace\">(Loading...)</span></div></div>"
      ],
      "text/plain": [
       "<IPython.core.display.HTML object>"
      ]
     },
     "metadata": {},
     "output_type": "display_data"
    },
    {
     "data": {
      "text/html": [
       "<div id=\"compress_html_868c2a95cd754d10837c9e8c9b759838\"><script>window.treescope_decompress_enqueue(\"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\", \"compress_html_868c2a95cd754d10837c9e8c9b759838\");</script></div>"
      ],
      "text/plain": [
       "<IPython.core.display.HTML object>"
      ]
     },
     "metadata": {},
     "output_type": "display_data"
    },
    {
     "data": {
      "text/html": [
       "<div id=\"output_dest_99fb4884cbfb4da0b2f78952b28ba73b\"><script> (()=>{ const output = document.getElementById(\"output_99fb4884cbfb4da0b2f78952b28ba73b\"); const dest = document.getElementById(\"output_dest_99fb4884cbfb4da0b2f78952b28ba73b\"); dest.parentNode.replaceChild(output, dest); })(); </script></div>"
      ],
      "text/plain": [
       "Selection(\n",
       "  selected_by_path=OrderedDict({\n",
       "    (DictKey(key='a'),):\n",
       "      1,\n",
       "    (DictKey(key='b'),):\n",
       "      <jax.Array([0, 1, 2, 3, 4, 5, 6, 7, 8, 9], dtype=int32)>,\n",
       "    (DictKey(key='c'),):\n",
       "      [{'value': <jax.Array([ 0,  1,  2,  3,  4,  5,  6,  7,  8,  9, 10, 11], dtype=int32)>}, {'value': <jax.Array([0., 0., 0., 0., 0., 0., 0.], dtype=float32)>}, {'value': 3}],\n",
       "  }),\n",
       "  remainder={'a': SelectionHole(path=(DictKey(key='a'),)), 'b': SelectionHole(path=(DictKey(key='b'),)), 'c': SelectionHole(path=(DictKey(key='c'),))},\n",
       ")"
      ]
     },
     "execution_count": 26,
     "metadata": {},
     "output_type": "execute_result"
    }
   ],
   "source": [
    "pz.select(my_nested_object).at_children()"
   ]
  },
  {
   "cell_type": "code",
   "execution_count": 27,
   "metadata": {
    "execution": {
     "iopub.execute_input": "2024-05-03T20:32:34.675143Z",
     "iopub.status.busy": "2024-05-03T20:32:34.674936Z",
     "iopub.status.idle": "2024-05-03T20:32:34.699639Z",
     "shell.execute_reply": "2024-05-03T20:32:34.699051Z"
    },
    "id": "cGcp4EK2OfW1"
   },
   "outputs": [
    {
     "data": {
      "text/html": [
       "<div id=\"output_6a29344a30714e2d9a70730eb07975d6\"><script> /* penzai.treescope rendering of a Python object (compressed) */ (()=>{ let observer; let lastStep = new Promise((resolve, reject) => { observer = new IntersectionObserver((entries) => { for (const entry of entries) { if (entry.isIntersecting) { resolve(); observer.disconnect(); return; } } }, {rootMargin: \"1000px\"}); }); window.treescope_decompress_enqueue = (encoded, destId) => { const previous = lastStep; const destElt = document.getElementById(destId); lastStep = (async () => { await previous; let blob = new Blob([ Uint8Array.from(atob(encoded), (m) => m.codePointAt(0)) ]); let reader = blob.stream().pipeThrough( new DecompressionStream(\"deflate\") ).pipeThrough( new TextDecoderStream(\"utf-8\") ).getReader(); let parts = []; while (true) { let step = await reader.read(); if (step.done) { break; } parts.push(step.value); } let newElt = document.createElement(\"div\"); newElt.innerHTML = parts.join(\"\"); destElt.parentNode.replaceChild(newElt, destElt); for (let oldScript of newElt.querySelectorAll(\"script\")) { let newScript = document.createElement(\"script\"); newScript.type = oldScript.type; newScript.textContent = oldScript.textContent; oldScript.parentNode.replaceChild(newScript, oldScript); } })(); requestAnimationFrame(() => { observer.observe(destElt); }); } })(); </script><div id=\"compress_html_ca727777f26c40af9353d00fd8c6d2f0\"><script>window.treescope_decompress_enqueue(\"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\", \"compress_html_ca727777f26c40af9353d00fd8c6d2f0\");</script><span style=\"color: #aaaaaa; font-family: monospace\">(Loading...)</span></div></div>"
      ],
      "text/plain": [
       "<IPython.core.display.HTML object>"
      ]
     },
     "metadata": {},
     "output_type": "display_data"
    },
    {
     "data": {
      "text/html": [
       "<div id=\"compress_html_2398eed4e1ae49ef9fed3258b998d6ab\"><script>window.treescope_decompress_enqueue(\"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\", \"compress_html_2398eed4e1ae49ef9fed3258b998d6ab\");</script></div>"
      ],
      "text/plain": [
       "<IPython.core.display.HTML object>"
      ]
     },
     "metadata": {},
     "output_type": "display_data"
    },
    {
     "data": {
      "text/html": [
       "<div id=\"output_dest_6a29344a30714e2d9a70730eb07975d6\"><script> (()=>{ const output = document.getElementById(\"output_6a29344a30714e2d9a70730eb07975d6\"); const dest = document.getElementById(\"output_dest_6a29344a30714e2d9a70730eb07975d6\"); dest.parentNode.replaceChild(output, dest); })(); </script></div>"
      ],
      "text/plain": [
       "Selection(\n",
       "  selected_by_path=OrderedDict({(DictKey(key='a'),): 1, (DictKey(key='b'),): <jax.Array([0, 1, 2, 3, 4, 5, 6, 7, 8, 9], dtype=int32)>, (DictKey(key='c'), SequenceKey(idx=0), DictKey(key='value')): <jax.Array([ 0,  1,  2,  3,  4,  5,  6,  7,  8,  9, 10, 11], dtype=int32)>, (DictKey(key='c'), SequenceKey(idx=1), DictKey(key='value')): <jax.Array([0., 0., 0., 0., 0., 0., 0.], dtype=float32)>, (DictKey(key='c'), SequenceKey(idx=2), DictKey(key='value')): 3}),\n",
       "  remainder={\n",
       "    'a': SelectionHole(path=(DictKey(key='a'),)),\n",
       "    'b': SelectionHole(path=(DictKey(key='b'),)),\n",
       "    'c': [\n",
       "      {\n",
       "        'value': SelectionHole(\n",
       "          path=(DictKey(key='c'), SequenceKey(idx=0), DictKey(key='value')),\n",
       "        ),\n",
       "      },\n",
       "      {\n",
       "        'value': SelectionHole(path=(DictKey(key='c'), SequenceKey(idx=1), DictKey(key='value'))),\n",
       "      },\n",
       "      {\n",
       "        'value': SelectionHole(path=(DictKey(key='c'), SequenceKey(idx=2), DictKey(key='value'))),\n",
       "      },\n",
       "    ],\n",
       "  },\n",
       ")"
      ]
     },
     "execution_count": 27,
     "metadata": {},
     "output_type": "execute_result"
    }
   ],
   "source": [
    "pz.select(my_nested_object).at_pytree_leaves()"
   ]
  },
  {
   "cell_type": "markdown",
   "metadata": {
    "id": "L88O37NHOyrP"
   },
   "source": [
    "Note that some PyTree nodes, like `None` or the empty tuple `()`, don't have any children and are ignored by `jax.tree_util.tree_map`, so they won't be selected by `.at_pytree_leaves`:"
   ]
  },
  {
   "cell_type": "code",
   "execution_count": 28,
   "metadata": {
    "execution": {
     "iopub.execute_input": "2024-05-03T20:32:34.703069Z",
     "iopub.status.busy": "2024-05-03T20:32:34.702863Z",
     "iopub.status.idle": "2024-05-03T20:32:34.715771Z",
     "shell.execute_reply": "2024-05-03T20:32:34.715033Z"
    },
    "id": "-wD3VJajO6TR"
   },
   "outputs": [
    {
     "data": {
      "text/html": [
       "<div id=\"output_0fade8833a1c4c418ceae737123321f6\"><script> /* penzai.treescope rendering of a Python object (compressed) */ (()=>{ let observer; let lastStep = new Promise((resolve, reject) => { observer = new IntersectionObserver((entries) => { for (const entry of entries) { if (entry.isIntersecting) { resolve(); observer.disconnect(); return; } } }, {rootMargin: \"1000px\"}); }); window.treescope_decompress_enqueue = (encoded, destId) => { const previous = lastStep; const destElt = document.getElementById(destId); lastStep = (async () => { await previous; let blob = new Blob([ Uint8Array.from(atob(encoded), (m) => m.codePointAt(0)) ]); let reader = blob.stream().pipeThrough( new DecompressionStream(\"deflate\") ).pipeThrough( new TextDecoderStream(\"utf-8\") ).getReader(); let parts = []; while (true) { let step = await reader.read(); if (step.done) { break; } parts.push(step.value); } let newElt = document.createElement(\"div\"); newElt.innerHTML = parts.join(\"\"); destElt.parentNode.replaceChild(newElt, destElt); for (let oldScript of newElt.querySelectorAll(\"script\")) { let newScript = document.createElement(\"script\"); newScript.type = oldScript.type; newScript.textContent = oldScript.textContent; oldScript.parentNode.replaceChild(newScript, oldScript); } })(); requestAnimationFrame(() => { observer.observe(destElt); }); } })(); </script><div id=\"compress_html_6e123ca3f2b541a087d4a375b917f880\"><script>window.treescope_decompress_enqueue(\"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\", \"compress_html_6e123ca3f2b541a087d4a375b917f880\");</script><span style=\"color: #aaaaaa; font-family: monospace\">(Loading...)</span></div></div>"
      ],
      "text/plain": [
       "<IPython.core.display.HTML object>"
      ]
     },
     "metadata": {},
     "output_type": "display_data"
    },
    {
     "data": {
      "text/html": [
       "<div id=\"output_dest_0fade8833a1c4c418ceae737123321f6\"><script> (()=>{ const output = document.getElementById(\"output_0fade8833a1c4c418ceae737123321f6\"); const dest = document.getElementById(\"output_dest_0fade8833a1c4c418ceae737123321f6\"); dest.parentNode.replaceChild(output, dest); })(); </script></div>"
      ],
      "text/plain": [
       "Selection(\n",
       "  selected_by_path=OrderedDict({(SequenceKey(idx=0),): 1, (SequenceKey(idx=1),): 2, (SequenceKey(idx=3),): 3, (SequenceKey(idx=5),): 4}),\n",
       "  remainder=[\n",
       "    SelectionHole(path=(SequenceKey(idx=0),)),\n",
       "    SelectionHole(path=(SequenceKey(idx=1),)),\n",
       "    (),\n",
       "    SelectionHole(path=(SequenceKey(idx=3),)),\n",
       "    None,\n",
       "    SelectionHole(path=(SequenceKey(idx=5),)),\n",
       "  ],\n",
       ")"
      ]
     },
     "execution_count": 28,
     "metadata": {},
     "output_type": "execute_result"
    }
   ],
   "source": [
    "pz.select([1, 2, (), 3, None, 4]).at_pytree_leaves()"
   ]
  },
  {
   "cell_type": "markdown",
   "metadata": {
    "id": "_afpL4O8O_VZ"
   },
   "source": [
    "If you want to select these too, you can use `.at_childless`:"
   ]
  },
  {
   "cell_type": "code",
   "execution_count": 29,
   "metadata": {
    "execution": {
     "iopub.execute_input": "2024-05-03T20:32:34.719020Z",
     "iopub.status.busy": "2024-05-03T20:32:34.718816Z",
     "iopub.status.idle": "2024-05-03T20:32:34.734348Z",
     "shell.execute_reply": "2024-05-03T20:32:34.733800Z"
    },
    "id": "byvIxqOZPDD6"
   },
   "outputs": [
    {
     "data": {
      "text/html": [
       "<div id=\"output_9d58dd4014304d5da1c6f0adc74a7a40\"><script> /* penzai.treescope rendering of a Python object (compressed) */ (()=>{ let observer; let lastStep = new Promise((resolve, reject) => { observer = new IntersectionObserver((entries) => { for (const entry of entries) { if (entry.isIntersecting) { resolve(); observer.disconnect(); return; } } }, {rootMargin: \"1000px\"}); }); window.treescope_decompress_enqueue = (encoded, destId) => { const previous = lastStep; const destElt = document.getElementById(destId); lastStep = (async () => { await previous; let blob = new Blob([ Uint8Array.from(atob(encoded), (m) => m.codePointAt(0)) ]); let reader = blob.stream().pipeThrough( new DecompressionStream(\"deflate\") ).pipeThrough( new TextDecoderStream(\"utf-8\") ).getReader(); let parts = []; while (true) { let step = await reader.read(); if (step.done) { break; } parts.push(step.value); } let newElt = document.createElement(\"div\"); newElt.innerHTML = parts.join(\"\"); destElt.parentNode.replaceChild(newElt, destElt); for (let oldScript of newElt.querySelectorAll(\"script\")) { let newScript = document.createElement(\"script\"); newScript.type = oldScript.type; newScript.textContent = oldScript.textContent; oldScript.parentNode.replaceChild(newScript, oldScript); } })(); requestAnimationFrame(() => { observer.observe(destElt); }); } })(); </script><div id=\"compress_html_3e47259dbf3f40ca88d2b1f7c3b2da94\"><script>window.treescope_decompress_enqueue(\"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\", \"compress_html_3e47259dbf3f40ca88d2b1f7c3b2da94\");</script><span style=\"color: #aaaaaa; font-family: monospace\">(Loading...)</span></div></div>"
      ],
      "text/plain": [
       "<IPython.core.display.HTML object>"
      ]
     },
     "metadata": {},
     "output_type": "display_data"
    },
    {
     "data": {
      "text/html": [
       "<div id=\"output_dest_9d58dd4014304d5da1c6f0adc74a7a40\"><script> (()=>{ const output = document.getElementById(\"output_9d58dd4014304d5da1c6f0adc74a7a40\"); const dest = document.getElementById(\"output_dest_9d58dd4014304d5da1c6f0adc74a7a40\"); dest.parentNode.replaceChild(output, dest); })(); </script></div>"
      ],
      "text/plain": [
       "Selection(\n",
       "  selected_by_path=OrderedDict({(SequenceKey(idx=0),): 1, (SequenceKey(idx=1),): 2, (SequenceKey(idx=2),): (), (SequenceKey(idx=3),): 3, (SequenceKey(idx=4),): None, (SequenceKey(idx=5),): 4}),\n",
       "  remainder=[\n",
       "    SelectionHole(path=(SequenceKey(idx=0),)),\n",
       "    SelectionHole(path=(SequenceKey(idx=1),)),\n",
       "    SelectionHole(path=(SequenceKey(idx=2),)),\n",
       "    SelectionHole(path=(SequenceKey(idx=3),)),\n",
       "    SelectionHole(path=(SequenceKey(idx=4),)),\n",
       "    SelectionHole(path=(SequenceKey(idx=5),)),\n",
       "  ],\n",
       ")"
      ]
     },
     "execution_count": 29,
     "metadata": {},
     "output_type": "execute_result"
    }
   ],
   "source": [
    "pz.select([1, 2, (), 3, None, 4]).at_childless()"
   ]
  },
  {
   "cell_type": "markdown",
   "metadata": {
    "id": "3y9uooSkPKoU"
   },
   "source": [
    "### Filtering selections\n",
    "Given an existing set of selected nodes, you can choose to filter down to only a subset that match a criterion:"
   ]
  },
  {
   "cell_type": "code",
   "execution_count": 30,
   "metadata": {
    "execution": {
     "iopub.execute_input": "2024-05-03T20:32:34.737492Z",
     "iopub.status.busy": "2024-05-03T20:32:34.737278Z",
     "iopub.status.idle": "2024-05-03T20:32:34.760063Z",
     "shell.execute_reply": "2024-05-03T20:32:34.759452Z"
    },
    "id": "Uk1-HVvKPOq6"
   },
   "outputs": [
    {
     "data": {
      "text/html": [
       "<div id=\"output_51408002b0924ac99f2f9b5d75b420ee\"><script> /* penzai.treescope rendering of a Python object (compressed) */ (()=>{ let observer; let lastStep = new Promise((resolve, reject) => { observer = new IntersectionObserver((entries) => { for (const entry of entries) { if (entry.isIntersecting) { resolve(); observer.disconnect(); return; } } }, {rootMargin: \"1000px\"}); }); window.treescope_decompress_enqueue = (encoded, destId) => { const previous = lastStep; const destElt = document.getElementById(destId); lastStep = (async () => { await previous; let blob = new Blob([ Uint8Array.from(atob(encoded), (m) => m.codePointAt(0)) ]); let reader = blob.stream().pipeThrough( new DecompressionStream(\"deflate\") ).pipeThrough( new TextDecoderStream(\"utf-8\") ).getReader(); let parts = []; while (true) { let step = await reader.read(); if (step.done) { break; } parts.push(step.value); } let newElt = document.createElement(\"div\"); newElt.innerHTML = parts.join(\"\"); destElt.parentNode.replaceChild(newElt, destElt); for (let oldScript of newElt.querySelectorAll(\"script\")) { let newScript = document.createElement(\"script\"); newScript.type = oldScript.type; newScript.textContent = oldScript.textContent; oldScript.parentNode.replaceChild(newScript, oldScript); } })(); requestAnimationFrame(() => { observer.observe(destElt); }); } })(); </script><div id=\"compress_html_d6e250e6236d4fea9c7f6a82e47cf919\"><script>window.treescope_decompress_enqueue(\"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\", \"compress_html_d6e250e6236d4fea9c7f6a82e47cf919\");</script><span style=\"color: #aaaaaa; font-family: monospace\">(Loading...)</span></div></div>"
      ],
      "text/plain": [
       "<IPython.core.display.HTML object>"
      ]
     },
     "metadata": {},
     "output_type": "display_data"
    },
    {
     "data": {
      "text/html": [
       "<div id=\"output_dest_51408002b0924ac99f2f9b5d75b420ee\"><script> (()=>{ const output = document.getElementById(\"output_51408002b0924ac99f2f9b5d75b420ee\"); const dest = document.getElementById(\"output_dest_51408002b0924ac99f2f9b5d75b420ee\"); dest.parentNode.replaceChild(output, dest); })(); </script></div>"
      ],
      "text/plain": [
       "Selection(\n",
       "  selected_by_path=OrderedDict({(SequenceKey(idx=0),): 0, (SequenceKey(idx=2),): 2, (SequenceKey(idx=4),): 4, (SequenceKey(idx=6),): 6, (SequenceKey(idx=8),): 8, (SequenceKey(idx=10),): 10, (SequenceKey(idx=12),): 12, (SequenceKey(idx=14),): 14, (SequenceKey(idx=16),): 16, (SequenceKey(idx=18),): 18}),\n",
       "  remainder=[SelectionHole(path=(SequenceKey(idx=0),)), 1, SelectionHole(path=(SequenceKey(idx=2),)), 3, SelectionHole(path=(SequenceKey(idx=4),)), 5, SelectionHole(path=(SequenceKey(idx=6),)), 7, SelectionHole(path=(SequenceKey(idx=8),)), 9, SelectionHole(path=(SequenceKey(idx=10),)), 11, SelectionHole(path=(SequenceKey(idx=12),)), 13, SelectionHole(path=(SequenceKey(idx=14),)), 15, SelectionHole(path=(SequenceKey(idx=16),)), 17, SelectionHole(path=(SequenceKey(idx=18),)), 19],\n",
       ")"
      ]
     },
     "execution_count": 30,
     "metadata": {},
     "output_type": "execute_result"
    }
   ],
   "source": [
    "pz.select(list(range(20))).at_instances_of(int).where(lambda x: x % 2 == 0)"
   ]
  },
  {
   "cell_type": "markdown",
   "metadata": {
    "id": "2Ae_LP3BdpGG"
   },
   "source": [
    "You can also choose to keep only the `n`th node that you've selected (e.g. the third integer in the collection), zero-indexed:"
   ]
  },
  {
   "cell_type": "code",
   "execution_count": 31,
   "metadata": {
    "execution": {
     "iopub.execute_input": "2024-05-03T20:32:34.763333Z",
     "iopub.status.busy": "2024-05-03T20:32:34.763126Z",
     "iopub.status.idle": "2024-05-03T20:32:34.772738Z",
     "shell.execute_reply": "2024-05-03T20:32:34.772004Z"
    },
    "id": "zkisw9V-eNaa"
   },
   "outputs": [
    {
     "data": {
      "text/html": [
       "<div id=\"output_4649fb52c5c64e698288a6b30ef49470\"><script> /* penzai.treescope rendering of a Python object (compressed) */ (()=>{ let observer; let lastStep = new Promise((resolve, reject) => { observer = new IntersectionObserver((entries) => { for (const entry of entries) { if (entry.isIntersecting) { resolve(); observer.disconnect(); return; } } }, {rootMargin: \"1000px\"}); }); window.treescope_decompress_enqueue = (encoded, destId) => { const previous = lastStep; const destElt = document.getElementById(destId); lastStep = (async () => { await previous; let blob = new Blob([ Uint8Array.from(atob(encoded), (m) => m.codePointAt(0)) ]); let reader = blob.stream().pipeThrough( new DecompressionStream(\"deflate\") ).pipeThrough( new TextDecoderStream(\"utf-8\") ).getReader(); let parts = []; while (true) { let step = await reader.read(); if (step.done) { break; } parts.push(step.value); } let newElt = document.createElement(\"div\"); newElt.innerHTML = parts.join(\"\"); destElt.parentNode.replaceChild(newElt, destElt); for (let oldScript of newElt.querySelectorAll(\"script\")) { let newScript = document.createElement(\"script\"); newScript.type = oldScript.type; newScript.textContent = oldScript.textContent; oldScript.parentNode.replaceChild(newScript, oldScript); } })(); requestAnimationFrame(() => { observer.observe(destElt); }); } })(); </script><div id=\"compress_html_030a1a6245d847dd8dbf49b5c841683a\"><script>window.treescope_decompress_enqueue(\"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\", \"compress_html_030a1a6245d847dd8dbf49b5c841683a\");</script><span style=\"color: #aaaaaa; font-family: monospace\">(Loading...)</span></div></div>"
      ],
      "text/plain": [
       "<IPython.core.display.HTML object>"
      ]
     },
     "metadata": {},
     "output_type": "display_data"
    },
    {
     "data": {
      "text/html": [
       "<div id=\"output_dest_4649fb52c5c64e698288a6b30ef49470\"><script> (()=>{ const output = document.getElementById(\"output_4649fb52c5c64e698288a6b30ef49470\"); const dest = document.getElementById(\"output_dest_4649fb52c5c64e698288a6b30ef49470\"); dest.parentNode.replaceChild(output, dest); })(); </script></div>"
      ],
      "text/plain": [
       "Selection(\n",
       "  selected_by_path=OrderedDict({(SequenceKey(idx=4),): 3}),\n",
       "  remainder=[\n",
       "    1,\n",
       "    'a',\n",
       "    2,\n",
       "    'b',\n",
       "    SelectionHole(path=(SequenceKey(idx=4),)),\n",
       "    'c',\n",
       "    4,\n",
       "    'd',\n",
       "  ],\n",
       ")"
      ]
     },
     "execution_count": 31,
     "metadata": {},
     "output_type": "execute_result"
    }
   ],
   "source": [
    "pz.select([1, \"a\", 2, \"b\", 3, \"c\", 4, \"d\"]).at_instances_of(int).pick_nth_selected(2)"
   ]
  },
  {
   "cell_type": "markdown",
   "metadata": {
    "id": "VK7GeXc6ka0s"
   },
   "source": [
    "### Inverting selections\n",
    "Selections can be inverted, which produces a new Selection which selects every PyTree node that did NOT contain any of the selected nodes:"
   ]
  },
  {
   "cell_type": "code",
   "execution_count": 32,
   "metadata": {
    "execution": {
     "iopub.execute_input": "2024-05-03T20:32:34.775831Z",
     "iopub.status.busy": "2024-05-03T20:32:34.775607Z",
     "iopub.status.idle": "2024-05-03T20:32:34.789604Z",
     "shell.execute_reply": "2024-05-03T20:32:34.789038Z"
    },
    "id": "CF1rqre8klTc"
   },
   "outputs": [
    {
     "name": "stdout",
     "output_type": "stream",
     "text": [
      "Original:\n"
     ]
    },
    {
     "data": {
      "text/html": [
       "<script> /* penzai.treescope rendering of a Python object (compressed) */ (()=>{ let observer; let lastStep = new Promise((resolve, reject) => { observer = new IntersectionObserver((entries) => { for (const entry of entries) { if (entry.isIntersecting) { resolve(); observer.disconnect(); return; } } }, {rootMargin: \"1000px\"}); }); window.treescope_decompress_enqueue = (encoded, destId) => { const previous = lastStep; const destElt = document.getElementById(destId); lastStep = (async () => { await previous; let blob = new Blob([ Uint8Array.from(atob(encoded), (m) => m.codePointAt(0)) ]); let reader = blob.stream().pipeThrough( new DecompressionStream(\"deflate\") ).pipeThrough( new TextDecoderStream(\"utf-8\") ).getReader(); let parts = []; while (true) { let step = await reader.read(); if (step.done) { break; } parts.push(step.value); } let newElt = document.createElement(\"div\"); newElt.innerHTML = parts.join(\"\"); destElt.parentNode.replaceChild(newElt, destElt); for (let oldScript of newElt.querySelectorAll(\"script\")) { let newScript = document.createElement(\"script\"); newScript.type = oldScript.type; newScript.textContent = oldScript.textContent; oldScript.parentNode.replaceChild(newScript, oldScript); } })(); requestAnimationFrame(() => { observer.observe(destElt); }); } })(); </script><div id=\"compress_html_745ec8c5dcd24d338a307b7f952baff1\"><script>window.treescope_decompress_enqueue(\"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\", \"compress_html_745ec8c5dcd24d338a307b7f952baff1\");</script><span style=\"color: #aaaaaa; font-family: monospace\">(Loading...)</span></div>"
      ],
      "text/plain": [
       "<IPython.core.display.HTML object>"
      ]
     },
     "metadata": {},
     "output_type": "display_data"
    },
    {
     "name": "stdout",
     "output_type": "stream",
     "text": [
      "Inverted:\n"
     ]
    },
    {
     "data": {
      "text/html": [
       "<script> /* penzai.treescope rendering of a Python object (compressed) */ (()=>{ let observer; let lastStep = new Promise((resolve, reject) => { observer = new IntersectionObserver((entries) => { for (const entry of entries) { if (entry.isIntersecting) { resolve(); observer.disconnect(); return; } } }, {rootMargin: \"1000px\"}); }); window.treescope_decompress_enqueue = (encoded, destId) => { const previous = lastStep; const destElt = document.getElementById(destId); lastStep = (async () => { await previous; let blob = new Blob([ Uint8Array.from(atob(encoded), (m) => m.codePointAt(0)) ]); let reader = blob.stream().pipeThrough( new DecompressionStream(\"deflate\") ).pipeThrough( new TextDecoderStream(\"utf-8\") ).getReader(); let parts = []; while (true) { let step = await reader.read(); if (step.done) { break; } parts.push(step.value); } let newElt = document.createElement(\"div\"); newElt.innerHTML = parts.join(\"\"); destElt.parentNode.replaceChild(newElt, destElt); for (let oldScript of newElt.querySelectorAll(\"script\")) { let newScript = document.createElement(\"script\"); newScript.type = oldScript.type; newScript.textContent = oldScript.textContent; oldScript.parentNode.replaceChild(newScript, oldScript); } })(); requestAnimationFrame(() => { observer.observe(destElt); }); } })(); </script><div id=\"compress_html_6ebc4854f52c4827a6affc68416896bc\"><script>window.treescope_decompress_enqueue(\"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\", \"compress_html_6ebc4854f52c4827a6affc68416896bc\");</script><span style=\"color: #aaaaaa; font-family: monospace\">(Loading...)</span></div>"
      ],
      "text/plain": [
       "<IPython.core.display.HTML object>"
      ]
     },
     "metadata": {},
     "output_type": "display_data"
    }
   ],
   "source": [
    "selection = pz.select([1, \"a\", 2, \"b\", 3, \"c\", 4, \"d\"]).at_instances_of(int).pick_nth_selected(2)\n",
    "\n",
    "print(\"Original:\")\n",
    "selection.show_selection()\n",
    "print(\"Inverted:\")\n",
    "selection.invert().show_selection()"
   ]
  },
  {
   "cell_type": "code",
   "execution_count": 33,
   "metadata": {
    "execution": {
     "iopub.execute_input": "2024-05-03T20:32:34.792706Z",
     "iopub.status.busy": "2024-05-03T20:32:34.792485Z",
     "iopub.status.idle": "2024-05-03T20:32:34.816840Z",
     "shell.execute_reply": "2024-05-03T20:32:34.816067Z"
    },
    "id": "HaLCG89dknQg"
   },
   "outputs": [
    {
     "name": "stdout",
     "output_type": "stream",
     "text": [
      "Original:\n"
     ]
    },
    {
     "data": {
      "text/html": [
       "<script> /* penzai.treescope rendering of a Python object (compressed) */ (()=>{ let observer; let lastStep = new Promise((resolve, reject) => { observer = new IntersectionObserver((entries) => { for (const entry of entries) { if (entry.isIntersecting) { resolve(); observer.disconnect(); return; } } }, {rootMargin: \"1000px\"}); }); window.treescope_decompress_enqueue = (encoded, destId) => { const previous = lastStep; const destElt = document.getElementById(destId); lastStep = (async () => { await previous; let blob = new Blob([ Uint8Array.from(atob(encoded), (m) => m.codePointAt(0)) ]); let reader = blob.stream().pipeThrough( new DecompressionStream(\"deflate\") ).pipeThrough( new TextDecoderStream(\"utf-8\") ).getReader(); let parts = []; while (true) { let step = await reader.read(); if (step.done) { break; } parts.push(step.value); } let newElt = document.createElement(\"div\"); newElt.innerHTML = parts.join(\"\"); destElt.parentNode.replaceChild(newElt, destElt); for (let oldScript of newElt.querySelectorAll(\"script\")) { let newScript = document.createElement(\"script\"); newScript.type = oldScript.type; newScript.textContent = oldScript.textContent; oldScript.parentNode.replaceChild(newScript, oldScript); } })(); requestAnimationFrame(() => { observer.observe(destElt); }); } })(); </script><div id=\"compress_html_0546781372e940efb398e8db370af72a\"><script>window.treescope_decompress_enqueue(\"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\", \"compress_html_0546781372e940efb398e8db370af72a\");</script><span style=\"color: #aaaaaa; font-family: monospace\">(Loading...)</span></div>"
      ],
      "text/plain": [
       "<IPython.core.display.HTML object>"
      ]
     },
     "metadata": {},
     "output_type": "display_data"
    },
    {
     "data": {
      "text/html": [
       "<div id=\"compress_html_e03f5bfef75c420bb89d3b1970c436db\"><script>window.treescope_decompress_enqueue(\"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\", \"compress_html_e03f5bfef75c420bb89d3b1970c436db\");</script></div>"
      ],
      "text/plain": [
       "<IPython.core.display.HTML object>"
      ]
     },
     "metadata": {},
     "output_type": "display_data"
    },
    {
     "name": "stdout",
     "output_type": "stream",
     "text": [
      "Inverted:\n"
     ]
    },
    {
     "data": {
      "text/html": [
       "<script> /* penzai.treescope rendering of a Python object (compressed) */ (()=>{ let observer; let lastStep = new Promise((resolve, reject) => { observer = new IntersectionObserver((entries) => { for (const entry of entries) { if (entry.isIntersecting) { resolve(); observer.disconnect(); return; } } }, {rootMargin: \"1000px\"}); }); window.treescope_decompress_enqueue = (encoded, destId) => { const previous = lastStep; const destElt = document.getElementById(destId); lastStep = (async () => { await previous; let blob = new Blob([ Uint8Array.from(atob(encoded), (m) => m.codePointAt(0)) ]); let reader = blob.stream().pipeThrough( new DecompressionStream(\"deflate\") ).pipeThrough( new TextDecoderStream(\"utf-8\") ).getReader(); let parts = []; while (true) { let step = await reader.read(); if (step.done) { break; } parts.push(step.value); } let newElt = document.createElement(\"div\"); newElt.innerHTML = parts.join(\"\"); destElt.parentNode.replaceChild(newElt, destElt); for (let oldScript of newElt.querySelectorAll(\"script\")) { let newScript = document.createElement(\"script\"); newScript.type = oldScript.type; newScript.textContent = oldScript.textContent; oldScript.parentNode.replaceChild(newScript, oldScript); } })(); requestAnimationFrame(() => { observer.observe(destElt); }); } })(); </script><div id=\"compress_html_68e58ee839994512830e1941a0f3cefc\"><script>window.treescope_decompress_enqueue(\"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\", \"compress_html_68e58ee839994512830e1941a0f3cefc\");</script><span style=\"color: #aaaaaa; font-family: monospace\">(Loading...)</span></div>"
      ],
      "text/plain": [
       "<IPython.core.display.HTML object>"
      ]
     },
     "metadata": {},
     "output_type": "display_data"
    },
    {
     "data": {
      "text/html": [
       "<div id=\"compress_html_938502a7563747c78bf788f3e4cc2056\"><script>window.treescope_decompress_enqueue(\"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\", \"compress_html_938502a7563747c78bf788f3e4cc2056\");</script></div>"
      ],
      "text/plain": [
       "<IPython.core.display.HTML object>"
      ]
     },
     "metadata": {},
     "output_type": "display_data"
    }
   ],
   "source": [
    "selection = pz.select(my_nested_object).at_keypaths([\n",
    "    (jax.tree_util.DictKey(key='c'), jax.tree_util.SequenceKey(idx=2), jax.tree_util.DictKey(key='value')),\n",
    "    (jax.tree_util.DictKey(key='c'), jax.tree_util.SequenceKey(idx=0)),\n",
    "])\n",
    "\n",
    "print(\"Original:\")\n",
    "selection.show_selection()\n",
    "print(\"Inverted:\")\n",
    "selection.invert().show_selection()"
   ]
  },
  {
   "cell_type": "markdown",
   "metadata": {
    "id": "-6RVyMq6NY6r"
   },
   "source": [
    "### Building more complex selections\n",
    "For highly dynamic selections, you can drop down to lower-level manipulation.\n",
    "\n",
    "Selections provide a `.refine` method, which runs a function on each of the currently selected values, takes the `Selection` returned by that function, and then takes the disjoint union of them. This can be useful for dynamic input-dependent branching:"
   ]
  },
  {
   "cell_type": "code",
   "execution_count": 34,
   "metadata": {
    "execution": {
     "iopub.execute_input": "2024-05-03T20:32:34.820333Z",
     "iopub.status.busy": "2024-05-03T20:32:34.820080Z",
     "iopub.status.idle": "2024-05-03T20:32:34.825346Z",
     "shell.execute_reply": "2024-05-03T20:32:34.824651Z"
    },
    "id": "pMKL39k7Rdty"
   },
   "outputs": [],
   "source": [
    "# Select field \"a\" of Foo and field \"b\" of Bar\n",
    "\n",
    "@pz.pytree_dataclass\n",
    "class Foo(pz.Struct):\n",
    "  a: typing.Any\n",
    "  b: typing.Any\n",
    "\n",
    "@pz.pytree_dataclass\n",
    "class Bar(pz.Struct):\n",
    "  a: typing.Any\n",
    "  b: typing.Any\n",
    "\n",
    "def refine_fn(value):\n",
    "  if isinstance(value, Foo):\n",
    "    return value.select().at(lambda x: x.a)\n",
    "  else:\n",
    "    return value.select().at(lambda x: x.b)"
   ]
  },
  {
   "cell_type": "code",
   "execution_count": 35,
   "metadata": {
    "execution": {
     "iopub.execute_input": "2024-05-03T20:32:34.828372Z",
     "iopub.status.busy": "2024-05-03T20:32:34.828163Z",
     "iopub.status.idle": "2024-05-03T20:32:34.848346Z",
     "shell.execute_reply": "2024-05-03T20:32:34.847684Z"
    },
    "id": "Hvj4K7tVeag7"
   },
   "outputs": [
    {
     "data": {
      "text/html": [
       "<div id=\"output_94984023ef2e4a0796fafd919e7ff6af\"><script> /* penzai.treescope rendering of a Python object (compressed) */ (()=>{ let observer; let lastStep = new Promise((resolve, reject) => { observer = new IntersectionObserver((entries) => { for (const entry of entries) { if (entry.isIntersecting) { resolve(); observer.disconnect(); return; } } }, {rootMargin: \"1000px\"}); }); window.treescope_decompress_enqueue = (encoded, destId) => { const previous = lastStep; const destElt = document.getElementById(destId); lastStep = (async () => { await previous; let blob = new Blob([ Uint8Array.from(atob(encoded), (m) => m.codePointAt(0)) ]); let reader = blob.stream().pipeThrough( new DecompressionStream(\"deflate\") ).pipeThrough( new TextDecoderStream(\"utf-8\") ).getReader(); let parts = []; while (true) { let step = await reader.read(); if (step.done) { break; } parts.push(step.value); } let newElt = document.createElement(\"div\"); newElt.innerHTML = parts.join(\"\"); destElt.parentNode.replaceChild(newElt, destElt); for (let oldScript of newElt.querySelectorAll(\"script\")) { let newScript = document.createElement(\"script\"); newScript.type = oldScript.type; newScript.textContent = oldScript.textContent; oldScript.parentNode.replaceChild(newScript, oldScript); } })(); requestAnimationFrame(() => { observer.observe(destElt); }); } })(); </script><div id=\"compress_html_64cdd4229dfa476493c27f9da32f3505\"><script>window.treescope_decompress_enqueue(\"eNrtXItT2koX/1e26UyFqyBvFarzBeRlq1ax1fbeDrNJNg8Jm5gsIHb837+zGxAIEcVab+0FZ6pszu55n/PbI/W9z4Y22UsyjxBfdVzS9hyHoR/IdXyLWQ4tIo/YmFl9UkK6Q1lCx13LHhZR16GO72IV1gemxUhCvCki14MV2/JZQhydYEMXVqlDYVnBasfwnB7VEqpjO14x2FpCo3eKDQRwnqUxs4h0iwEZZYSyEupiz7BowiY6K6KManIelCRMYhkmrKST+RK6fb8ZqPPeVz3LZXvI0lFsYFHNGUw0RLu7uwhEIDocoMVB13kK9OO2NLecbLuEahY1ZJVbxgeyv78/SNbAVLP5kbRn2xHUBmHtkPV3UWxs9DZz4mh3D4Tc/At9dJwOOMFDzCRIUFJHI0n01yayCUOjvVNbhWuAeSx49mYXaY7a64JBk4qjDdG7d+gNf5JUbez7H8FpSW5wbFE/Js0KJcURN9WYB9/kYg9OqtqkKzx0C5xZz6PiIbyN0NXr0ZbjUK7gwPE6I82Apc9AsnNY4o9mlpml8kWXeKB4F1OVJKkziMXvVJt7ghLBpvcom+EiR8VA2JVJm1CDmRAaKBUVEYt9GujNLUBsn0xEN3uUy/4gc9+0dMZVEjv4D7fw9VgZYmNKj1z1iM9kanUxp6h5uEtigV3j8WiPhEVxe74Z+Kb0GMONhdgNTLGM6R4vdqTghMKuHtknOvE8op2RrgthT/z5AHJtvngX+LDNG7aITVTmeLJtQ6CP9k4XwR5t+xCpUrwkEi7G8wtOQo4uDuSKwvepvPFI1+mTmayZOuO+TIiNZeXn655zQ3hyiJODwjcrbkwKChs/ku+Ad9OqqR4BNUYJOU0LPyV5HQbigIl4N1on16wSMJt6PFksCXGCXD/i5cYjYC2VVCD9tBicsMEJuJ/u9RVzDMMOykhbVH8GgokqByvEZhuI9OH0kSl42In3yQ4Z8oyUPGlceoB4yubBuTHp7sx2FwSUxnLcIugHQSN4r1l9JDbuhusaYlgBgcn1rpSSkEOBKUhPp+ii5Y8x0/LHkkvQcoJGKjpZW3W63AciCEVne4vFiwsVIsFF6rBY0YTo8eIR9CNyEAvSUps6MQUvXZ9Q0F5XId40wc52Ol+YEPggNjWmZcqm82neN5O6Y2tYAR15Q7mn+4PkM2TtwCxArVk+hMRw3OXDhGgP2VghdrGoEEgmMiWBKl6lSH5Bq0+kea8fIYJUacLLogIAKLbDIcO9PIVd5zlr2Ov4BBvgYzq/W7gktGRiP7YnztyLtEPgRtUkagdQRRz9FZ/IwLdGbxrTz0go8q6I1v7J5BV17d8Ub3bTvUIWXkBI7kfOuOf53IGuY4EEXgRfy38+tiIVBKOESHT/vhh/Hq4T9XgBnueStPy2bnk+azu0zcM/IrUWpVIyk+fZFOkq9NPiBx4Pi8i1mgHvIqFvk7zmgmG1tsobyTNFy1QtGhWGGdYqttUYXB4AIqbda9EnQnJAl/tloihQvyGQAlE0hwFTLgZ6S1L8ixvF6UGoKc51G5zZhjfCxz/uK3ou1jiwgroIjiVdzuE64Vs3Ym3EDZaEmvzQgcXMX3vq89huA0Ua4pc5ZtRduvh6ct+8BeSFbQpQtA03Wt26hn3i/guWINw229w0t0lfQDPIt7bCkQH2hkAYWAnuqeBd37EtDalDTEMRwONw+uH0WePiM9WtAiIhwmB06VVA4WAfwDNAfiLf/F+cUOD1KH6/MnFAQxPwp9YeYI9CGIbN81bXsZrORhC6gDN/jCM64Y1mBbwAjerCaCmRSorKOBlQFMV8AXsJw8OaxfF0OpvXiLGBHA9Tg6AUxEBBNQH9wns/wMfBEgoKy7woc7Xx2Sw2U+XGyoA1mNdTWdsdcizbxox5d1HM0SpkPsO2pZamMGUmkxeYcmASChjVtrHrE+1hkLe03As4BPVI8BBE5NqFW+O9NM8hRxSLkaIBweTeEmWK2TtFcvZCghacEFaVzlyRogkfw+zec0Yi/280y1PJOCLGc721Q8hsz8I2ag27UGF8dByUXw2Nr4kVxx2ulWYCifIRjB2qT7kUNDXfU4uo59kxDTNc5M83B46uZ0oK9kkht6GlduqHhlyWxat5IsuO+Kl8OoB/GzVZrsqLXuWuLBsd54PWrJYrg6+yfPa1ciAfNssVuWZcNxsfTeaXDy1iZGv7F5mPzcLXfsvtWZ8O82fpg4vm6ZfD/vnhDfs0rNUq6+dG58wq76dMa/+kd1DV6pephrKp95uae/WhYF6dW9ZJ75DWzYb+mcmfC+UjLyfXmrRTLaifez26fpq/Uv3OoK/X7M2ra6PqbBvKwaC+nW7Im1Q+zX/0vIP06bpxkzrVUvKBnjaOtiqD+mXGSDnD3unWVreaLgwaFzvHhuGSs84wR5rKTV5VvOM6w7Jx0jwa7GN/6J/0ms2L82ptIH86cZtftc+bm+vG1tnWRZal9A+fruR+Hs78KB9tyYcDuWvcnLbWe99apHpxndEL6s1R7rQxzPfK8oeb8qVbc7NW46RSTX3rfcq1tqhe/lht1A67srW+3a9mTJo2t9aVL4OLy0HD6+/XP1fopV6tGmz9WP1m21v5ncrBoLxt7uQOD+utbP2bbHSb+cvyyQ47q5PGTrVcbtaz+0budPOrOlTkOvj0y4dN+aSOZXJYseXGTfXY+MaMQvmTcXzc3C93rJM8qZUvKuWaaqVc03NcCrHhfqvup2/SnZZe0Zk5/EAbGq75DT111K1XjwplTb768sXFzG9962oatnYy+s1O7rN1eVVwu17h2PlaaVlevds/qGdb561srZpRyyf62XrDdtx6ruYP8ti4Kmxb30jryHbPabnRJNqhR3rnV/VKN31e8zqt1nU+Uzg/9wcySBRHYvzIYmsirNfiz1GTILuHSo8xh0aWm8njqCuZhKQQFVwToENFE/9D0jlNKj21CECyKx0Ldopi0IWCZAqgiCmD7RbkuDZpL2OgO3eJm0FWOwJZzWgZ3P4itIi+zE92JgcYAAr0ODDs3X6ss5lByXgKsYhnaM8sy2nToz72YokEr3YJTMGxYqgZn17mTPi0lwOH0V1NHIvSPiJgsQS0csC8y6lyJwE4xiLam1lJBEv0xuq6jscwnTtb8ZyOaMfucHLVfti6U9um7Hl3nwn/PmZuMmiKabDYH6iGdhFUN6qiWMBh9lcEoMmZwwMPyEYS8DWfMCEUNymXAw+wxRDFfcvAzPGScLKrONjTkgPPYuQM7taxyVngidFZk8kiAMaYNGVvMUQl7MzqEnDM3dR2bt94ChzaeruBMqlUSpQGFTOAiDFxL47mO2VUaSLc7Jw2Bu59i2rYsiEYmIM48RuRk4AFKdxc7CFABp8RrPGYWJ+23Wg+OhmO8lAaT0dnhpPSnnszupXEgBzIZonn7s7Souehh7PzujA0BuKgYL63qNtjiA+sQTpeIuFaKEUeMqqm8DCopHvvN8XmWb4mnOQBi06bAWomTBK2SXTIEPqGuStJe3+Pdd0ciTC1fW0S/WvIoRXu5N21BREt5sTxNXSXhrtSzMZdRcNiol0U/8YlJDJlV5rKVyjDEZS85oarC1AKz3IF4OeRoffu1PiPeO7v1PeQpLPAO/QwdMGXQvaqOU7sxQMBVHh8LHDi3yAc5m+Z0h4ecdld7MAFcfW8YRThQClqxhSSaG5qNj/uCRsjejbyCKqo0B1fS+e2zwyKpL23KPgVIdGKIS9HOPsRzB+RaUksRXWO4LdQ0l46Wo6Hv23MW+FuSCDtoSiFFpjql2VpEi+Vp0D+9Ex9bN4+Ii+Vx+VlhLuVhe7OLBAy5J6N38aFynIuVJ7NhcG3+OuK+JfqS0+M9t8WlKSfE5SU4Ur38qAkvYzz068dlMw78IFel32FHSy9XAdLv7YOtkKWrxRZph+CGrmnIstXAErSy4GS9H8clLxcX/rTQEnm9U9KMss4P7OalKz62b/SzzIPocf8Hz0pySyHMzOvfVKSeQi+FF4dKMksB0oy/3FQ8nJ96U8DJdnXPynJLuP87J82Kck+1Ou2XmEHyy7XwbKrSckKWb4Issw+BDW2/+BJSXY5UJL9j4OSl+tLTyxgD0Z77ntkrI/+X6S0d+RQ8uqiOLeMW3LfnzmCv/8WRniRzz49GJyhz73Fk5i1R8HnR3727aX6aDSWDom7sAS9s1kph/yeIjy1gUzLMG3+CX2iIaw4ffLOYKVHhMJbtPCUsI0juv2ifvpnfCJtb9Gd43fVcaXbT907L/G1+Ehzu8csOzmbBi3+xy2oSj6Q4bNaz9Kul4L1s8Aw9YRG+TPY5/eZUPzL4VAnTIa72XNHA+f/hHAI/iAENIi315mtEg6+PVdorIJqVT//1PqZXtXPVf0M109lVT9X9XNVPx9TPzOr+rmqnyv8uaqfq/r5pPqZXdXPVf38bfHnT+z8yaH9Halm9e//owP3/enYWPzuv8T/H66MctY=\", \"compress_html_64cdd4229dfa476493c27f9da32f3505\");</script><span style=\"color: #aaaaaa; font-family: monospace\">(Loading...)</span></div></div>"
      ],
      "text/plain": [
       "<IPython.core.display.HTML object>"
      ]
     },
     "metadata": {},
     "output_type": "display_data"
    },
    {
     "data": {
      "text/html": [
       "<div id=\"output_dest_94984023ef2e4a0796fafd919e7ff6af\"><script> (()=>{ const output = document.getElementById(\"output_94984023ef2e4a0796fafd919e7ff6af\"); const dest = document.getElementById(\"output_dest_94984023ef2e4a0796fafd919e7ff6af\"); dest.parentNode.replaceChild(output, dest); })(); </script></div>"
      ],
      "text/plain": [
       "Selection(\n",
       "  selected_by_path=OrderedDict({(SequenceKey(idx=0), GetAttrKey(name='a')): 1, (SequenceKey(idx=1), GetAttrKey(name='b')): 4, (SequenceKey(idx=2), GetAttrKey(name='a')): 5, (SequenceKey(idx=3), GetAttrKey(name='b')): 8}),\n",
       "  remainder=[\n",
       "    Foo(\n",
       "      a=SelectionHole(path=(SequenceKey(idx=0), GetAttrKey(name='a'))),\n",
       "      b=2,\n",
       "    ),\n",
       "    Bar(\n",
       "      a=3,\n",
       "      b=SelectionHole(path=(SequenceKey(idx=1), GetAttrKey(name='b'))),\n",
       "    ),\n",
       "    Foo(\n",
       "      a=SelectionHole(path=(SequenceKey(idx=2), GetAttrKey(name='a'))),\n",
       "      b=6,\n",
       "    ),\n",
       "    Bar(a=7, b=SelectionHole(path=(SequenceKey(idx=3), GetAttrKey(name='b')))),\n",
       "    None,\n",
       "  ],\n",
       ")"
      ]
     },
     "execution_count": 35,
     "metadata": {},
     "output_type": "execute_result"
    }
   ],
   "source": [
    "pz.select([\n",
    "    Foo(1, 2),\n",
    "    Bar(3, 4),\n",
    "    Foo(5, 6),\n",
    "    Bar(7, 8),\n",
    "    None,\n",
    "]).at_instances_of((Foo, Bar)).refine(refine_fn)"
   ]
  },
  {
   "cell_type": "markdown",
   "metadata": {
    "id": "dUGwFROiBdhV"
   },
   "source": [
    "## Inspecting selections and retrieving values\n",
    "\n",
    "Once you have a selection, there are various ways to inspect them and their contents."
   ]
  },
  {
   "cell_type": "markdown",
   "metadata": {
    "id": "UV1JQsx7nF6f"
   },
   "source": [
    "### Looking at selections\n",
    "You can view a pretty-printed version of the selection using `.show_selection()` (the same pretty-printing we've been using throughout this notebook):"
   ]
  },
  {
   "cell_type": "code",
   "execution_count": 36,
   "metadata": {
    "execution": {
     "iopub.execute_input": "2024-05-03T20:32:34.851591Z",
     "iopub.status.busy": "2024-05-03T20:32:34.851378Z",
     "iopub.status.idle": "2024-05-03T20:32:34.863434Z",
     "shell.execute_reply": "2024-05-03T20:32:34.862685Z"
    },
    "id": "-W2_LNVonip5"
   },
   "outputs": [
    {
     "data": {
      "text/html": [
       "<script> /* penzai.treescope rendering of a Python object (compressed) */ (()=>{ let observer; let lastStep = new Promise((resolve, reject) => { observer = new IntersectionObserver((entries) => { for (const entry of entries) { if (entry.isIntersecting) { resolve(); observer.disconnect(); return; } } }, {rootMargin: \"1000px\"}); }); window.treescope_decompress_enqueue = (encoded, destId) => { const previous = lastStep; const destElt = document.getElementById(destId); lastStep = (async () => { await previous; let blob = new Blob([ Uint8Array.from(atob(encoded), (m) => m.codePointAt(0)) ]); let reader = blob.stream().pipeThrough( new DecompressionStream(\"deflate\") ).pipeThrough( new TextDecoderStream(\"utf-8\") ).getReader(); let parts = []; while (true) { let step = await reader.read(); if (step.done) { break; } parts.push(step.value); } let newElt = document.createElement(\"div\"); newElt.innerHTML = parts.join(\"\"); destElt.parentNode.replaceChild(newElt, destElt); for (let oldScript of newElt.querySelectorAll(\"script\")) { let newScript = document.createElement(\"script\"); newScript.type = oldScript.type; newScript.textContent = oldScript.textContent; oldScript.parentNode.replaceChild(newScript, oldScript); } })(); requestAnimationFrame(() => { observer.observe(destElt); }); } })(); </script><div id=\"compress_html_c5e671c6441a45a7a002748cdb7954b7\"><script>window.treescope_decompress_enqueue(\"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\", \"compress_html_c5e671c6441a45a7a002748cdb7954b7\");</script><span style=\"color: #aaaaaa; font-family: monospace\">(Loading...)</span></div>"
      ],
      "text/plain": [
       "<IPython.core.display.HTML object>"
      ]
     },
     "metadata": {},
     "output_type": "display_data"
    },
    {
     "data": {
      "text/html": [
       "<div id=\"compress_html_88aa93e8c7194ff997bc1b76eb59cb1b\"><script>window.treescope_decompress_enqueue(\"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\", \"compress_html_88aa93e8c7194ff997bc1b76eb59cb1b\");</script></div>"
      ],
      "text/plain": [
       "<IPython.core.display.HTML object>"
      ]
     },
     "metadata": {},
     "output_type": "display_data"
    }
   ],
   "source": [
    "pz.select(my_nested_object).at_children().show_selection()"
   ]
  },
  {
   "cell_type": "markdown",
   "metadata": {
    "id": "chGlzxpEnQGr"
   },
   "source": [
    "You can also view the selected values without the selection annotations using `.show_value()`. This is similar to just rendering the root object with treescope, but it automatically expands so that the nodes you selected are visible, and collapses all other nodes."
   ]
  },
  {
   "cell_type": "code",
   "execution_count": 37,
   "metadata": {
    "execution": {
     "iopub.execute_input": "2024-05-03T20:32:34.866822Z",
     "iopub.status.busy": "2024-05-03T20:32:34.866604Z",
     "iopub.status.idle": "2024-05-03T20:32:34.923197Z",
     "shell.execute_reply": "2024-05-03T20:32:34.922447Z"
    },
    "id": "Ei6MgFeAoQ0Z"
   },
   "outputs": [
    {
     "data": {
      "text/html": [
       "<script> /* penzai.treescope rendering of a Python object (compressed) */ (()=>{ let observer; let lastStep = new Promise((resolve, reject) => { observer = new IntersectionObserver((entries) => { for (const entry of entries) { if (entry.isIntersecting) { resolve(); observer.disconnect(); return; } } }, {rootMargin: \"1000px\"}); }); window.treescope_decompress_enqueue = (encoded, destId) => { const previous = lastStep; const destElt = document.getElementById(destId); lastStep = (async () => { await previous; let blob = new Blob([ Uint8Array.from(atob(encoded), (m) => m.codePointAt(0)) ]); let reader = blob.stream().pipeThrough( new DecompressionStream(\"deflate\") ).pipeThrough( new TextDecoderStream(\"utf-8\") ).getReader(); let parts = []; while (true) { let step = await reader.read(); if (step.done) { break; } parts.push(step.value); } let newElt = document.createElement(\"div\"); newElt.innerHTML = parts.join(\"\"); destElt.parentNode.replaceChild(newElt, destElt); for (let oldScript of newElt.querySelectorAll(\"script\")) { let newScript = document.createElement(\"script\"); newScript.type = oldScript.type; newScript.textContent = oldScript.textContent; oldScript.parentNode.replaceChild(newScript, oldScript); } })(); requestAnimationFrame(() => { observer.observe(destElt); }); } })(); </script><div id=\"compress_html_1e0e5fdb33114bc18bf625755b8ce1df\"><script>window.treescope_decompress_enqueue(\"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\", \"compress_html_1e0e5fdb33114bc18bf625755b8ce1df\");</script><span style=\"color: #aaaaaa; font-family: monospace\">(Loading...)</span></div>"
      ],
      "text/plain": [
       "<IPython.core.display.HTML object>"
      ]
     },
     "metadata": {},
     "output_type": "display_data"
    }
   ],
   "source": [
    "stuff = (\n",
    "    [[[\"haystack\"] * 5] * 5] * 5\n",
    "    + [[[\"haystack\"] * 5] * 5 + [[\"haystack\", \"needle\", \"haystack\", \"haystack\", \"haystack\"]]]\n",
    "    + [[[\"haystack\"] * 5] * 5] * 5\n",
    ")\n",
    "\n",
    "pz.select(stuff).at_equal_to(\"needle\").show_value()"
   ]
  },
  {
   "cell_type": "markdown",
   "metadata": {
    "id": "nPZUOuqilcoc"
   },
   "source": [
    "### Counting selected objects\n",
    "Selections have `count` and `is_empty` methods for inspecting their size:"
   ]
  },
  {
   "cell_type": "code",
   "execution_count": 38,
   "metadata": {
    "execution": {
     "iopub.execute_input": "2024-05-03T20:32:34.926452Z",
     "iopub.status.busy": "2024-05-03T20:32:34.926249Z",
     "iopub.status.idle": "2024-05-03T20:32:34.931228Z",
     "shell.execute_reply": "2024-05-03T20:32:34.930616Z"
    },
    "id": "TGu1D-n_lumY"
   },
   "outputs": [
    {
     "data": {
      "text/html": [
       "<div id=\"output_819ee8cd6a17472fa3cce058d70b0b27\"><script> /* penzai.treescope rendering of a Python object (compressed) */ (()=>{ let observer; let lastStep = new Promise((resolve, reject) => { observer = new IntersectionObserver((entries) => { for (const entry of entries) { if (entry.isIntersecting) { resolve(); observer.disconnect(); return; } } }, {rootMargin: \"1000px\"}); }); window.treescope_decompress_enqueue = (encoded, destId) => { const previous = lastStep; const destElt = document.getElementById(destId); lastStep = (async () => { await previous; let blob = new Blob([ Uint8Array.from(atob(encoded), (m) => m.codePointAt(0)) ]); let reader = blob.stream().pipeThrough( new DecompressionStream(\"deflate\") ).pipeThrough( new TextDecoderStream(\"utf-8\") ).getReader(); let parts = []; while (true) { let step = await reader.read(); if (step.done) { break; } parts.push(step.value); } let newElt = document.createElement(\"div\"); newElt.innerHTML = parts.join(\"\"); destElt.parentNode.replaceChild(newElt, destElt); for (let oldScript of newElt.querySelectorAll(\"script\")) { let newScript = document.createElement(\"script\"); newScript.type = oldScript.type; newScript.textContent = oldScript.textContent; oldScript.parentNode.replaceChild(newScript, oldScript); } })(); requestAnimationFrame(() => { observer.observe(destElt); }); } })(); </script><div id=\"compress_html_88c6f585504d4e2d828f44a436b4c01d\"><script>window.treescope_decompress_enqueue(\"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\", \"compress_html_88c6f585504d4e2d828f44a436b4c01d\");</script><span style=\"color: #aaaaaa; font-family: monospace\">(Loading...)</span></div></div>"
      ],
      "text/plain": [
       "<IPython.core.display.HTML object>"
      ]
     },
     "metadata": {},
     "output_type": "display_data"
    },
    {
     "data": {
      "text/html": [
       "<div id=\"output_dest_819ee8cd6a17472fa3cce058d70b0b27\"><script> (()=>{ const output = document.getElementById(\"output_819ee8cd6a17472fa3cce058d70b0b27\"); const dest = document.getElementById(\"output_dest_819ee8cd6a17472fa3cce058d70b0b27\"); dest.parentNode.replaceChild(output, dest); })(); </script></div>"
      ],
      "text/plain": [
       "0"
      ]
     },
     "execution_count": 38,
     "metadata": {},
     "output_type": "execute_result"
    }
   ],
   "source": [
    "pz.select([1, 2]).at_instances_of(str).count()"
   ]
  },
  {
   "cell_type": "code",
   "execution_count": 39,
   "metadata": {
    "execution": {
     "iopub.execute_input": "2024-05-03T20:32:34.934612Z",
     "iopub.status.busy": "2024-05-03T20:32:34.934350Z",
     "iopub.status.idle": "2024-05-03T20:32:34.939865Z",
     "shell.execute_reply": "2024-05-03T20:32:34.939303Z"
    },
    "id": "omvIWqsflyWj"
   },
   "outputs": [
    {
     "data": {
      "text/html": [
       "<div id=\"output_8a420114295a4c50836e775286a47007\"><script> /* penzai.treescope rendering of a Python object (compressed) */ (()=>{ let observer; let lastStep = new Promise((resolve, reject) => { observer = new IntersectionObserver((entries) => { for (const entry of entries) { if (entry.isIntersecting) { resolve(); observer.disconnect(); return; } } }, {rootMargin: \"1000px\"}); }); window.treescope_decompress_enqueue = (encoded, destId) => { const previous = lastStep; const destElt = document.getElementById(destId); lastStep = (async () => { await previous; let blob = new Blob([ Uint8Array.from(atob(encoded), (m) => m.codePointAt(0)) ]); let reader = blob.stream().pipeThrough( new DecompressionStream(\"deflate\") ).pipeThrough( new TextDecoderStream(\"utf-8\") ).getReader(); let parts = []; while (true) { let step = await reader.read(); if (step.done) { break; } parts.push(step.value); } let newElt = document.createElement(\"div\"); newElt.innerHTML = parts.join(\"\"); destElt.parentNode.replaceChild(newElt, destElt); for (let oldScript of newElt.querySelectorAll(\"script\")) { let newScript = document.createElement(\"script\"); newScript.type = oldScript.type; newScript.textContent = oldScript.textContent; oldScript.parentNode.replaceChild(newScript, oldScript); } })(); requestAnimationFrame(() => { observer.observe(destElt); }); } })(); </script><div id=\"compress_html_71ba9738bdb5465e9eab5ae0eab28f95\"><script>window.treescope_decompress_enqueue(\"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\", \"compress_html_71ba9738bdb5465e9eab5ae0eab28f95\");</script><span style=\"color: #aaaaaa; font-family: monospace\">(Loading...)</span></div></div>"
      ],
      "text/plain": [
       "<IPython.core.display.HTML object>"
      ]
     },
     "metadata": {},
     "output_type": "display_data"
    },
    {
     "data": {
      "text/html": [
       "<div id=\"output_dest_8a420114295a4c50836e775286a47007\"><script> (()=>{ const output = document.getElementById(\"output_8a420114295a4c50836e775286a47007\"); const dest = document.getElementById(\"output_dest_8a420114295a4c50836e775286a47007\"); dest.parentNode.replaceChild(output, dest); })(); </script></div>"
      ],
      "text/plain": [
       "True"
      ]
     },
     "execution_count": 39,
     "metadata": {},
     "output_type": "execute_result"
    }
   ],
   "source": [
    "pz.select([1, 2]).at_instances_of(str).is_empty()"
   ]
  },
  {
   "cell_type": "code",
   "execution_count": 40,
   "metadata": {
    "execution": {
     "iopub.execute_input": "2024-05-03T20:32:34.942982Z",
     "iopub.status.busy": "2024-05-03T20:32:34.942780Z",
     "iopub.status.idle": "2024-05-03T20:32:34.948075Z",
     "shell.execute_reply": "2024-05-03T20:32:34.947516Z"
    },
    "id": "f7aWTHZql0DV"
   },
   "outputs": [
    {
     "data": {
      "text/html": [
       "<div id=\"output_0dad8e4a508b435a8a3787e128dd0511\"><script> /* penzai.treescope rendering of a Python object (compressed) */ (()=>{ let observer; let lastStep = new Promise((resolve, reject) => { observer = new IntersectionObserver((entries) => { for (const entry of entries) { if (entry.isIntersecting) { resolve(); observer.disconnect(); return; } } }, {rootMargin: \"1000px\"}); }); window.treescope_decompress_enqueue = (encoded, destId) => { const previous = lastStep; const destElt = document.getElementById(destId); lastStep = (async () => { await previous; let blob = new Blob([ Uint8Array.from(atob(encoded), (m) => m.codePointAt(0)) ]); let reader = blob.stream().pipeThrough( new DecompressionStream(\"deflate\") ).pipeThrough( new TextDecoderStream(\"utf-8\") ).getReader(); let parts = []; while (true) { let step = await reader.read(); if (step.done) { break; } parts.push(step.value); } let newElt = document.createElement(\"div\"); newElt.innerHTML = parts.join(\"\"); destElt.parentNode.replaceChild(newElt, destElt); for (let oldScript of newElt.querySelectorAll(\"script\")) { let newScript = document.createElement(\"script\"); newScript.type = oldScript.type; newScript.textContent = oldScript.textContent; oldScript.parentNode.replaceChild(newScript, oldScript); } })(); requestAnimationFrame(() => { observer.observe(destElt); }); } })(); </script><div id=\"compress_html_e559bde86edb482c81de3fdd9433cc6d\"><script>window.treescope_decompress_enqueue(\"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\", \"compress_html_e559bde86edb482c81de3fdd9433cc6d\");</script><span style=\"color: #aaaaaa; font-family: monospace\">(Loading...)</span></div></div>"
      ],
      "text/plain": [
       "<IPython.core.display.HTML object>"
      ]
     },
     "metadata": {},
     "output_type": "display_data"
    },
    {
     "data": {
      "text/html": [
       "<div id=\"output_dest_0dad8e4a508b435a8a3787e128dd0511\"><script> (()=>{ const output = document.getElementById(\"output_0dad8e4a508b435a8a3787e128dd0511\"); const dest = document.getElementById(\"output_dest_0dad8e4a508b435a8a3787e128dd0511\"); dest.parentNode.replaceChild(output, dest); })(); </script></div>"
      ],
      "text/plain": [
       "2"
      ]
     },
     "execution_count": 40,
     "metadata": {},
     "output_type": "execute_result"
    }
   ],
   "source": [
    "pz.select([1, 2]).at_instances_of(int).count()"
   ]
  },
  {
   "cell_type": "code",
   "execution_count": 41,
   "metadata": {
    "execution": {
     "iopub.execute_input": "2024-05-03T20:32:34.951404Z",
     "iopub.status.busy": "2024-05-03T20:32:34.951141Z",
     "iopub.status.idle": "2024-05-03T20:32:34.956583Z",
     "shell.execute_reply": "2024-05-03T20:32:34.955842Z"
    },
    "id": "u9uMT3qll1UI"
   },
   "outputs": [
    {
     "data": {
      "text/html": [
       "<div id=\"output_7013359e543e48409c0891a2c29b82f7\"><script> /* penzai.treescope rendering of a Python object (compressed) */ (()=>{ let observer; let lastStep = new Promise((resolve, reject) => { observer = new IntersectionObserver((entries) => { for (const entry of entries) { if (entry.isIntersecting) { resolve(); observer.disconnect(); return; } } }, {rootMargin: \"1000px\"}); }); window.treescope_decompress_enqueue = (encoded, destId) => { const previous = lastStep; const destElt = document.getElementById(destId); lastStep = (async () => { await previous; let blob = new Blob([ Uint8Array.from(atob(encoded), (m) => m.codePointAt(0)) ]); let reader = blob.stream().pipeThrough( new DecompressionStream(\"deflate\") ).pipeThrough( new TextDecoderStream(\"utf-8\") ).getReader(); let parts = []; while (true) { let step = await reader.read(); if (step.done) { break; } parts.push(step.value); } let newElt = document.createElement(\"div\"); newElt.innerHTML = parts.join(\"\"); destElt.parentNode.replaceChild(newElt, destElt); for (let oldScript of newElt.querySelectorAll(\"script\")) { let newScript = document.createElement(\"script\"); newScript.type = oldScript.type; newScript.textContent = oldScript.textContent; oldScript.parentNode.replaceChild(newScript, oldScript); } })(); requestAnimationFrame(() => { observer.observe(destElt); }); } })(); </script><div id=\"compress_html_39da976fc77241559e94d848cec16752\"><script>window.treescope_decompress_enqueue(\"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\", \"compress_html_39da976fc77241559e94d848cec16752\");</script><span style=\"color: #aaaaaa; font-family: monospace\">(Loading...)</span></div></div>"
      ],
      "text/plain": [
       "<IPython.core.display.HTML object>"
      ]
     },
     "metadata": {},
     "output_type": "display_data"
    },
    {
     "data": {
      "text/html": [
       "<div id=\"output_dest_7013359e543e48409c0891a2c29b82f7\"><script> (()=>{ const output = document.getElementById(\"output_7013359e543e48409c0891a2c29b82f7\"); const dest = document.getElementById(\"output_dest_7013359e543e48409c0891a2c29b82f7\"); dest.parentNode.replaceChild(output, dest); })(); </script></div>"
      ],
      "text/plain": [
       "False"
      ]
     },
     "execution_count": 41,
     "metadata": {},
     "output_type": "execute_result"
    }
   ],
   "source": [
    "pz.select([1, 2]).at_instances_of(int).is_empty()"
   ]
  },
  {
   "cell_type": "markdown",
   "metadata": {
    "id": "TG5VaFeZl2qd"
   },
   "source": [
    "If you already know how many objects should be selected, you can also add an assertion in the middle of a chain:"
   ]
  },
  {
   "cell_type": "code",
   "execution_count": 42,
   "metadata": {
    "execution": {
     "iopub.execute_input": "2024-05-03T20:32:34.959954Z",
     "iopub.status.busy": "2024-05-03T20:32:34.959726Z",
     "iopub.status.idle": "2024-05-03T20:32:34.966340Z",
     "shell.execute_reply": "2024-05-03T20:32:34.965599Z"
    },
    "id": "bNBzV-pQl53a"
   },
   "outputs": [
    {
     "data": {
      "text/html": [
       "<div id=\"output_ce22c12612894c39a1251ca505fd1349\"><script> /* penzai.treescope rendering of a Python object (compressed) */ (()=>{ let observer; let lastStep = new Promise((resolve, reject) => { observer = new IntersectionObserver((entries) => { for (const entry of entries) { if (entry.isIntersecting) { resolve(); observer.disconnect(); return; } } }, {rootMargin: \"1000px\"}); }); window.treescope_decompress_enqueue = (encoded, destId) => { const previous = lastStep; const destElt = document.getElementById(destId); lastStep = (async () => { await previous; let blob = new Blob([ Uint8Array.from(atob(encoded), (m) => m.codePointAt(0)) ]); let reader = blob.stream().pipeThrough( new DecompressionStream(\"deflate\") ).pipeThrough( new TextDecoderStream(\"utf-8\") ).getReader(); let parts = []; while (true) { let step = await reader.read(); if (step.done) { break; } parts.push(step.value); } let newElt = document.createElement(\"div\"); newElt.innerHTML = parts.join(\"\"); destElt.parentNode.replaceChild(newElt, destElt); for (let oldScript of newElt.querySelectorAll(\"script\")) { let newScript = document.createElement(\"script\"); newScript.type = oldScript.type; newScript.textContent = oldScript.textContent; oldScript.parentNode.replaceChild(newScript, oldScript); } })(); requestAnimationFrame(() => { observer.observe(destElt); }); } })(); </script><div id=\"compress_html_e21a86123c284b8d9427b0c7884a1a77\"><script>window.treescope_decompress_enqueue(\"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\", \"compress_html_e21a86123c284b8d9427b0c7884a1a77\");</script><span style=\"color: #aaaaaa; font-family: monospace\">(Loading...)</span></div></div>"
      ],
      "text/plain": [
       "<IPython.core.display.HTML object>"
      ]
     },
     "metadata": {},
     "output_type": "display_data"
    },
    {
     "data": {
      "text/html": [
       "<div id=\"output_dest_ce22c12612894c39a1251ca505fd1349\"><script> (()=>{ const output = document.getElementById(\"output_ce22c12612894c39a1251ca505fd1349\"); const dest = document.getElementById(\"output_dest_ce22c12612894c39a1251ca505fd1349\"); dest.parentNode.replaceChild(output, dest); })(); </script></div>"
      ],
      "text/plain": [
       "[2, 3]"
      ]
     },
     "execution_count": 42,
     "metadata": {},
     "output_type": "execute_result"
    }
   ],
   "source": [
    "pz.select([1, 2]).at_instances_of(int).assert_count_is(2).apply(lambda x: x + 1)"
   ]
  },
  {
   "cell_type": "markdown",
   "metadata": {
    "id": "fd6gwn3JlaSr"
   },
   "source": [
    "### Retrieving values\n",
    "\n",
    "You can extract all of the selected values using `.get_sequence()`:"
   ]
  },
  {
   "cell_type": "code",
   "execution_count": 43,
   "metadata": {
    "execution": {
     "iopub.execute_input": "2024-05-03T20:32:34.969251Z",
     "iopub.status.busy": "2024-05-03T20:32:34.969031Z",
     "iopub.status.idle": "2024-05-03T20:32:34.980743Z",
     "shell.execute_reply": "2024-05-03T20:32:34.979876Z"
    },
    "id": "SkCQmesoBf3o"
   },
   "outputs": [
    {
     "data": {
      "text/html": [
       "<div id=\"output_5a30074756584f04b4130616019ac4a7\"><script> /* penzai.treescope rendering of a Python object (compressed) */ (()=>{ let observer; let lastStep = new Promise((resolve, reject) => { observer = new IntersectionObserver((entries) => { for (const entry of entries) { if (entry.isIntersecting) { resolve(); observer.disconnect(); return; } } }, {rootMargin: \"1000px\"}); }); window.treescope_decompress_enqueue = (encoded, destId) => { const previous = lastStep; const destElt = document.getElementById(destId); lastStep = (async () => { await previous; let blob = new Blob([ Uint8Array.from(atob(encoded), (m) => m.codePointAt(0)) ]); let reader = blob.stream().pipeThrough( new DecompressionStream(\"deflate\") ).pipeThrough( new TextDecoderStream(\"utf-8\") ).getReader(); let parts = []; while (true) { let step = await reader.read(); if (step.done) { break; } parts.push(step.value); } let newElt = document.createElement(\"div\"); newElt.innerHTML = parts.join(\"\"); destElt.parentNode.replaceChild(newElt, destElt); for (let oldScript of newElt.querySelectorAll(\"script\")) { let newScript = document.createElement(\"script\"); newScript.type = oldScript.type; newScript.textContent = oldScript.textContent; oldScript.parentNode.replaceChild(newScript, oldScript); } })(); requestAnimationFrame(() => { observer.observe(destElt); }); } })(); </script><div id=\"compress_html_868ddb047120438baa5699e4987e4b89\"><script>window.treescope_decompress_enqueue(\"eNrVWQtT20gS/isTbVWQQ2zkN9gxdbLxi2AImATC7pZrJI2kwZJGSCMbs8V/v56RjR8Ykuzlcnt2FbJG/fi6p7unW3yI+cwjhzkeERKbLCSjiDGO/kIhiymnLKihiHiY0wmpI5sFPGtjn3qzGvJZwOIQm7A+dSknWXlTQ2EEKx6NeVaKzvJZCKsBC2DZwObYiVgSWFmTeSyqpax1NL8zPCAAedTibg3ZlANZwEnA68jHkUODrEdsXkMF0xU6ApJ1CXVcWMnnynX0+GEvNedDbEY05IeI2kid0sBi06WFqNFoIIBAbBBgZcDW5xTor8f6s+XcKCSBRQNHN4VnYiD7/c9vkvVwYHlCZJB43hZqh/DRhvcbSF04fcRZBjUOAeTeO3TC2Bg2IULcJUhSBswiOfRuD3mEoznvCqvcGlCups/eNJDFzMQHh+YMZs3Q27fojXiSMz0cxyewaTnhcEyDWFXWQSkZJFy10CGYQhyBpLZHfLlDj6CZJ1EgH8LtFlujJBgyFggDpywazy0DlTEHZFewJB6tLXNqisWQRGC4jwOT5AI2VTNPpj17grIp0wdULAjI22JgcytzHgkc7kJoIG1bRLy+p6ndwgPEi8kSupsEAvs3lccutbkwSXKIH4/w/V4M6oIyIncJibkeUB8Lik6EfaKmfs1ktu/IJpQwid10b+rf47gFiEbqih9x3ffD3gqcBMCVkCNikygi1iXxQwh7Ej8PoNATi0+BD2zRbEg8YnIW6Z4HgT7nXS2CSTCKIVKVTF0mnCryCyQhZkuBwlC4ruRNRHw2IWtZsyLjpUxQF1iFfDtiD0Qkh5ScFr51uKqSFjYhUnDA3appZkTAjHlCrtLCr5yow0CcKpF383Vyz1upspXHy8W6hJPm+qkoNxEBb5mkBelnqSDhvSAQ+/TiXnHmOF5aRkay+nMAJqscrBCPv0dkAtLnrhBhJ+9zYzITGalEyqL0APGKz1O5qvIkc+QDQGWB4xHBeZAeBB8sOkGSsbFZ1xDHBgAm9w1FUxALQCmgD1botuNXuUvjBXIFjpz0ILXmATmSTnKZZ5FIxqI84H7DVfGdH6WSpYYoxx41AW/OBnJsgCpR1184hB/ROtkoRQfUFo1B6Wxx2G4SokPkYYN4tZpBIKbJCipTfupb9aUnbjYvjtz5wazVl7poIM9hw2Pi5H5RpwvJET3XbOFoHBPsgKuD59y1gHF1Y8nFsXooZR5u9YPkqZkuMcdwuGfQu8wSg2DdzrSgX0Mow7+Gdv4olA1z538Jb53pRZCVXwBS7KNQnESx2MCQUUAQbdFL45+nVqaCVJSV+Ra/FOM/R+vSPFEHn2vJ0Xhk0yjmIxaMRPhvSa3XUilXKIts2rpV6D+Gn+74JkRh1VoPLRP6MSdKHzjWGpminv+kaFmpRfPCsKbaxJ6pQg8PnVo+vJflegMHHDb/NSgGi6Amz6FYjINSAQP9RjTxFU6ZuiQYQYnycBjD02+W1h8G9oqGtKBKHZKI3IfQMr1I8zNwbFMxN/Rf85nPFDG9Nv/tDKDXiCj20HDmGwyarLOEC1gWWrQTLRbOdtbPukC06t58bTof3koaeD2OzBpKIk+1MMc18Xxvymy7UDdwTCql95Z20B04elOXn/65rjP5q3kxhb+9jq639dc+TV/XnTH7aPXbzdb0q65ffm0d64N+s6V3nPt+78TlcXNAiVPsHF0XTvqVr5NhmNBPg/Jl/vi6f/FlMLkaPPBPs06ntXvljC9p80hz6dF5cty2urdaz9izJ30rvPtYce+uKD1PBkHX7dmfuf650jyNSnqnH4zbFfNzkgS7F+U7Mx5PJ3bH27u7d9ps3zGOp939fE/fC/SL8kkUHecvdp0H7cLS9GM775xWW9PubcHR2Cy5qFb9dr4y7V0fnDlOSC7HsxLpGw9l04jOuhzrznn/dHqE41l8nvT711ftzlT/dB72v1qf9/Z2nepl9brINfvjpzt9UgaZJ/ppVR9Mdd95uBjuJjdD0r6+L9gV8+G0dNGblZOm/vGheRt2wiLtnbfa2k3yqTSsBnbzpN3rDHyd7u5P2gU3yLvVXePL9Pp22osmR93PreDWbrcdvntm3nhetXzQOp42992D0mDQHRa7N7rj98u3zfMDftklvYN2s9nvFo+c0sXeV3Nm6F3Y0y8f9/TzLtbJoOXpvYf2mXPDnUrzk3N21j9qjul5mXSa161mx6Ra6EYsDCA2wpv2Uf4hPx7aLZu7s49Bz8KduGdrp363fVppWvrdly8h5vHwxrcsTA8K9sNB6TO9vauEflQ5Y19bQxp1/clxtzi8GhY77YLZPLcvd3seC7ulTjwtY+eusk9vyPDUC6+CZq9PrEFEkqu7bsvPX3Wi8XB4Xy5Urq7iqQ6IMkiOqVzdkWG9k/kZ6Qvt6cxIOIeZeluRWj7e1jMoSNmggnMshlKwlfgPki9ZSv3vFgFIdmNMgVMWAx9aaRdmwhrCAQd2CjluPb0GeqrEz7qMlJs+QCXRcgfE37QybU+2WLG921xy5qY4HpnQhoNjn/ixzdea90Wb/JrODZ51lauuRxMcqdmsqHZZHMDGyuE3s7oslIi3AhEOFs2EFIvyMSLgsSycqCzhP2bKEwLYGEqsN+tIpEr0hvohizgOnsk2IjaWJ1c4W/aC3/buCtuKP58O3M33ds8mSFe+NZD8qWkwPUJ1C0ykphrWXyWBJZdMBB6QzRGItZhwCUq4VODAU0w5CvCEOhima5gsaWgwHFm5aUQ5uYTmT13Kgp2Yy1pOoNiyVGXF33LYJvyS+gQ25mm6f8a3eFuwwfr4HhU0TZOlwcQcOiRVNm7b9a44VVmCW5/nVdje31AHUw+CgTMkiN/InISWLEiw582gm4g5wZaIid1V383n6OUQLUJpMUWvj3mb3SbMw2kZ+0CDMOFIvG5oKLJwGexe2SpkXuOAdU8yretzQUIEoscjDq0kgbldxitM61DF3YaiHKoAFBiAfa56hX1nGYs7MOO3hMsbO6/El5zuMzvoKSkaiuph37CwfA9Rk38zCpJx21BWsgeK4hZKUQE3cx0opZ+FAfBbSREfPpmRXlad8KxJVl57vnhIrYby9FpCq5aNMi7axf39YolUq7hoFs2SVq0SbOertqb8+m3esl/KttcoyuFbj9dv8X1OjyIs4pYXC2peew8HYS6H3jq8vuG79PJ+TfJ6560com2OXmuLlV8QSr9rf35/NAnivx9Q3xte28Ongk2toFX3K5Vyaf+ggkt5yzjQDg7wvgE1xPw/Ch/bY1gEUPVb8fNaZLz/Z0RP/keiJ//zoie9ZP4RTvgl1Xhxsejk5W7lpf9NqJmns/TfFRJXLw==\", \"compress_html_868ddb047120438baa5699e4987e4b89\");</script><span style=\"color: #aaaaaa; font-family: monospace\">(Loading...)</span></div></div>"
      ],
      "text/plain": [
       "<IPython.core.display.HTML object>"
      ]
     },
     "metadata": {},
     "output_type": "display_data"
    },
    {
     "data": {
      "text/html": [
       "<div id=\"compress_html_7e4857e3896c4a2b8862456b413535d3\"><script>window.treescope_decompress_enqueue(\"eNrtWm1v2zYQ/iuEijVSa6tS/G7HBrZ0A/qlH4YB+1AEAiXSFhea1CQ6Ly3633ckZcmyHcfJ0hYbXKB2JN4b756740m+IOwGFeqe06lDWJFxfD9GQgrqIEamzlzmEaFzmueURMGgF/dwZ94ZDjtdOhjgTtJJusFgQPE8HMwDZ3ZRZFjAp5Y382OplFxyJuhYSOX6c8kJjjmNhCR0nOLCnXEcUz5rrkRKLhbc8oyTlCbXlHgeeuOhLyjDhDCxaCuZjVHghz26nCCtoZ1StkjVGIW+uffVTyQH43Ec5/QGOM3lGL3qD89xENQEiVwuqVDRbUpFRO/AfkLJi9m71orNv1qrWC1jmm8QBKNh2OvXBIXKYZ+bEjphL+xVBBAOve2aIOY4uZ6gGD4XuVwJ0i4XbnDuttsxl8m1veUBlcwJza0Xw+wOFZIzcojShvIx4q/IT+8zmoNl11FOl1LRKJU3sNFto3fNlNc8Sd1h9ycd1m4PhcHISrzFRVQkueQc2JX05ywvVKRYcn201FHXD7XcYITCTt8f7BVs4ndQnbejUOVYFEwxKcY7ylFYIIoL2maiLVeqheZSqPatgenWmo5qmqQRZE9CI07nagPq+lJjvZekTbrcSKoJc5sAFeXfK8wFXtIoy+mc3QGlsaBgn6mmGto0KRTWgI2SlHGSU1Ft0UYezVCT5MVSo6o2BkMTtMT5Atxht5tgnrjnSYraYGk3SW3EHrH1m5lWJoE1zcLfWLU3CRolyuwDIsJT9Aa5IWxnk6WUWwAV9Tyv8kHN2j6ed613naqGsxK5vtsub39Hb9bFxniwnWPCVkW5wZAuYXcPb8xY+u+MeBTiXxr10MZXF7oj6uFh4q8+SPwm/a8O8qEWaHqaKUnQTbJNYOsOb1yrckqLRGZQTqRUfkUcLcESdEACE1qnLaSaCKx9lPAYZQ/KKU2+eGdPF+aogRKOi2LqNM0szyHrY00jKtBJSTzs9vBkH97AoROnKboRGsSKyDYEKUwPAGIbwgsmspVCCtrf1DFBi+Wds1dIGV9gfWeYmvrqBqogc6lyEMEKt6/pfYZVOnW2zGs0pBJtqNlLnGN8VS5u9QxnllHxGbM6cpA7GVhSQGefY8510/MhJObYZ78+SvX7WnqmN+021y/elR7b0HumpcYrwLQ4Q1Jccmi307NaaQqnMvCepooSveiqlBXemfWNvj11XI6XMcFIQ2tsPj2nhkBFOEZneyjPJqikwQIQiG1LP7sEBqT9Dn9Xp9vmbja9t11oULPQOAeod0gltHMmMIdzVJZPnwQRv8G7DzDl8dKZvX51dz6Y/Jzn+N79FLRQ2ELnLdRpoW4L9Vqo30KDFhq20OiqhYgBNxOqc+5ZvqYrWrswA2UcZwUlzgztc1jj0O18B0g0XXM8QLb4ng+XI8HzMBxgKnsmGBjZCwU7ijiz0aAbjDqDXu+8Pwz7/+XQMvKcwALXDwyrya1nBlbzHupaL9+kDozOzkEYvNqLlZ2u8xe+W3cVU5sOtI5DQHMY3BNqoyIfXHdmLxeAzacPUGa5mpgFZAun3p/ZmL18vVCTAxD6gamkd/acZDJ8L5VOx6balp9aJ18e5bbGEbJ+Zoe2njQ4M+9pkWic5B9NjyolnnYO2c2c9RdhN7OLpzzd7OMkOA8Gw36/1x2O+rgbkngUjEZ4GFNMkvrp5mnwOA0ep8HjJQcPv4X2/6/Sfc4lPg0e/+/Bo6vL7mnwOA0ep8HjNHicBo/T4PHdB48nnEMeGTyKBHSrmet6aDpDXxIpCqh/Jp0/kAJN0Sfn+N9VtJBz/JhyNbHKdCxBzy2UGnm7cY4GC6LmixgXEZmsdEXVi79yqv/85f4DcSuDPwVX+l2clTzP8UKTgPSKMckpVvR9eflbSeFWPFrPJYfJC5jW/D7O4JRPLnUJdA30Ek3xEbqAq/KVefsHIxpyOVWIAWMwga+L2o0+p2KhUrj79q1+O6bp7OKmlgf3xK5AgeYp5CpP6HuYFacPusIMiw56i7b47aUPpzMOiP2TqdStxNkfD5RSzDaBoV7Vv5C4oa55x2lfiG0IqRymlz1NBACzoFqDaye0VPy9oiv6vsTKH3QJ8hQtXK/i/QdgzKnY\", \"compress_html_7e4857e3896c4a2b8862456b413535d3\");</script></div>"
      ],
      "text/plain": [
       "<IPython.core.display.HTML object>"
      ]
     },
     "metadata": {},
     "output_type": "display_data"
    },
    {
     "data": {
      "text/html": [
       "<div id=\"output_dest_5a30074756584f04b4130616019ac4a7\"><script> (()=>{ const output = document.getElementById(\"output_5a30074756584f04b4130616019ac4a7\"); const dest = document.getElementById(\"output_dest_5a30074756584f04b4130616019ac4a7\"); dest.parentNode.replaceChild(output, dest); })(); </script></div>"
      ],
      "text/plain": [
       "(<jax.Array([0, 1, 2, 3, 4, 5, 6, 7, 8, 9], dtype=int32)>,\n",
       " <jax.Array([0., 0., 0., 0., 0., 0., 0.], dtype=float32)>)"
      ]
     },
     "execution_count": 43,
     "metadata": {},
     "output_type": "execute_result"
    }
   ],
   "source": [
    "selection = (\n",
    "    pz.select(my_nested_object)\n",
    "    .at_subtrees_where(\n",
    "        lambda subtree: isinstance(subtree, jax.Array) and subtree.size <= 10)\n",
    ")\n",
    "\n",
    "selection.get_sequence()"
   ]
  },
  {
   "cell_type": "markdown",
   "metadata": {
    "id": "Dp_fK7Mkd38c"
   },
   "source": [
    "Or get them in a dictionary form with `get_by_path()` (equivalent to just accessing the `.selected_by_path` attribute):"
   ]
  },
  {
   "cell_type": "code",
   "execution_count": 44,
   "metadata": {
    "execution": {
     "iopub.execute_input": "2024-05-03T20:32:34.983821Z",
     "iopub.status.busy": "2024-05-03T20:32:34.983572Z",
     "iopub.status.idle": "2024-05-03T20:32:34.995649Z",
     "shell.execute_reply": "2024-05-03T20:32:34.994907Z"
    },
    "id": "vx86PfFId_OQ"
   },
   "outputs": [
    {
     "data": {
      "text/html": [
       "<div id=\"output_2be81dce7a674f0bada5999cac51231a\"><script> /* penzai.treescope rendering of a Python object (compressed) */ (()=>{ let observer; let lastStep = new Promise((resolve, reject) => { observer = new IntersectionObserver((entries) => { for (const entry of entries) { if (entry.isIntersecting) { resolve(); observer.disconnect(); return; } } }, {rootMargin: \"1000px\"}); }); window.treescope_decompress_enqueue = (encoded, destId) => { const previous = lastStep; const destElt = document.getElementById(destId); lastStep = (async () => { await previous; let blob = new Blob([ Uint8Array.from(atob(encoded), (m) => m.codePointAt(0)) ]); let reader = blob.stream().pipeThrough( new DecompressionStream(\"deflate\") ).pipeThrough( new TextDecoderStream(\"utf-8\") ).getReader(); let parts = []; while (true) { let step = await reader.read(); if (step.done) { break; } parts.push(step.value); } let newElt = document.createElement(\"div\"); newElt.innerHTML = parts.join(\"\"); destElt.parentNode.replaceChild(newElt, destElt); for (let oldScript of newElt.querySelectorAll(\"script\")) { let newScript = document.createElement(\"script\"); newScript.type = oldScript.type; newScript.textContent = oldScript.textContent; oldScript.parentNode.replaceChild(newScript, oldScript); } })(); requestAnimationFrame(() => { observer.observe(destElt); }); } })(); </script><div id=\"compress_html_ca16d8d2712d4172909e35c90b152345\"><script>window.treescope_decompress_enqueue(\"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\", \"compress_html_ca16d8d2712d4172909e35c90b152345\");</script><span style=\"color: #aaaaaa; font-family: monospace\">(Loading...)</span></div></div>"
      ],
      "text/plain": [
       "<IPython.core.display.HTML object>"
      ]
     },
     "metadata": {},
     "output_type": "display_data"
    },
    {
     "data": {
      "text/html": [
       "<div id=\"compress_html_091a068526c2422c86dc8c550ea0bafe\"><script>window.treescope_decompress_enqueue(\"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\", \"compress_html_091a068526c2422c86dc8c550ea0bafe\");</script></div>"
      ],
      "text/plain": [
       "<IPython.core.display.HTML object>"
      ]
     },
     "metadata": {},
     "output_type": "display_data"
    },
    {
     "data": {
      "text/html": [
       "<div id=\"output_dest_2be81dce7a674f0bada5999cac51231a\"><script> (()=>{ const output = document.getElementById(\"output_2be81dce7a674f0bada5999cac51231a\"); const dest = document.getElementById(\"output_dest_2be81dce7a674f0bada5999cac51231a\"); dest.parentNode.replaceChild(output, dest); })(); </script></div>"
      ],
      "text/plain": [
       "OrderedDict([((DictKey(key='b'),),\n",
       "              <jax.Array([0, 1, 2, 3, 4, 5, 6, 7, 8, 9], dtype=int32)>),\n",
       "             ((DictKey(key='c'), SequenceKey(idx=1), DictKey(key='value')),\n",
       "              <jax.Array([0., 0., 0., 0., 0., 0., 0.], dtype=float32)>)])"
      ]
     },
     "execution_count": 44,
     "metadata": {},
     "output_type": "execute_result"
    }
   ],
   "source": [
    "selection.get_by_path()"
   ]
  },
  {
   "cell_type": "markdown",
   "metadata": {
    "id": "fFsp4DQ5pmMu"
   },
   "source": [
    "If you know there's exactly one value, you can just call `.get()`"
   ]
  },
  {
   "cell_type": "code",
   "execution_count": 45,
   "metadata": {
    "execution": {
     "iopub.execute_input": "2024-05-03T20:32:34.999023Z",
     "iopub.status.busy": "2024-05-03T20:32:34.998804Z",
     "iopub.status.idle": "2024-05-03T20:32:35.008179Z",
     "shell.execute_reply": "2024-05-03T20:32:35.007454Z"
    },
    "id": "hYFSKPPinEdk"
   },
   "outputs": [
    {
     "data": {
      "text/html": [
       "<div id=\"output_a01793e507f141ef98fb88769efa9757\"><script> /* penzai.treescope rendering of a Python object (compressed) */ (()=>{ let observer; let lastStep = new Promise((resolve, reject) => { observer = new IntersectionObserver((entries) => { for (const entry of entries) { if (entry.isIntersecting) { resolve(); observer.disconnect(); return; } } }, {rootMargin: \"1000px\"}); }); window.treescope_decompress_enqueue = (encoded, destId) => { const previous = lastStep; const destElt = document.getElementById(destId); lastStep = (async () => { await previous; let blob = new Blob([ Uint8Array.from(atob(encoded), (m) => m.codePointAt(0)) ]); let reader = blob.stream().pipeThrough( new DecompressionStream(\"deflate\") ).pipeThrough( new TextDecoderStream(\"utf-8\") ).getReader(); let parts = []; while (true) { let step = await reader.read(); if (step.done) { break; } parts.push(step.value); } let newElt = document.createElement(\"div\"); newElt.innerHTML = parts.join(\"\"); destElt.parentNode.replaceChild(newElt, destElt); for (let oldScript of newElt.querySelectorAll(\"script\")) { let newScript = document.createElement(\"script\"); newScript.type = oldScript.type; newScript.textContent = oldScript.textContent; oldScript.parentNode.replaceChild(newScript, oldScript); } })(); requestAnimationFrame(() => { observer.observe(destElt); }); } })(); </script><div id=\"compress_html_4bad334585754ef2a97664aed4c4c2e2\"><script>window.treescope_decompress_enqueue(\"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\", \"compress_html_4bad334585754ef2a97664aed4c4c2e2\");</script><span style=\"color: #aaaaaa; font-family: monospace\">(Loading...)</span></div></div>"
      ],
      "text/plain": [
       "<IPython.core.display.HTML object>"
      ]
     },
     "metadata": {},
     "output_type": "display_data"
    },
    {
     "data": {
      "text/html": [
       "<div id=\"compress_html_9ae0ea4e04de440bac9215664c03dc2c\"><script>window.treescope_decompress_enqueue(\"eNrtWG2P2jgQ/itWqusm7ZISYJe3Belueyf1Sz+cTroP1SoytiE+jJ06ht1t1f9+YzsEAixLt9tWJx2SgcQz43l5Zsb2FeUrVJh7wUYB5UUu8P0ASSVZgDgdBVOlU8qmTGtGU9qddnCXtmgnaXZ6pN1vtTpJkrQ7zTZud0k/GF8VOZbwbeWN44kyRi0El2wglQnjqRIUTwRLpaJskOEiHAs8YWJcn0mNms2E5xmQjJE5o1GEXkXoM8oxpVzOGkblA9SMkwu2GCK7QiNjfJaZAUpi9+5LTJQA5fFkotkKON3jAL247LVws7khIGqxYNKktxmTKbsD/Smjz6bvelXsPptV5XIxYXqLoNnvJReXFQF421q1IZgITOZDNIHvmVZLSRvlxArrsNGYCEXm/lUEVEpTpr2TkvwOFUpweozSR+ox4i8ozu5zpkGzearZQhmWZmoFduwqva+mmguShb3OLzZqnQuUNPte4i0u0oJoJQSwGxVPuS5MajiZnyy134kTK7fZR0n7Mu4eFOzCc3S5aG9Bo7EsuOFKDvYWR0mBGC5Yg8uGWppzNFXSNG4dCnfmbFQzkqWQHISlgk3NFpLto4XyBcnqdNpJ2hBqj++K8uMSC4kXLM01m/I7oHQaFPwTs1Q9nwWFwRaPKcm4oJrJykQfeTRGdZJnQ35VTByGhmiB9Qzc4c0lWJCwRTLUAE07JPMRe0TX76ZamQReNQ9/p9XBJKhVIGcHRERk6BUKEzBnm6WUWwAVi6Ko8sGGtXE673rddao6zkrk+m2jfP0DvbkpNs6DDY0pXxalgQlbgHUPG+Y0/TYlHoX451o99PG1he6Eenic+EsMEr9Le9sE+ViHcy3LlSSjeb4NbNvAnWuNZqwgKodyopSJK+J0AZqgIxK4tGv6QmqJQNtHCU9Z7EE5pcpXb/zmwe0kEBG4KEZBXc1ym7HetdSiAp2UTnqdCzw8hDfw3TCoi66FBuZ8xK64zJcGGeh2o8DFaKLugoM8ZTiB9Y1jqovf9EsDicpMgCg2uDFn9zk22SjY0abWf0pwoXrrCE5xTTm50yKCcc7kJ8w3gYJUyUGTAhr5FAthe1wMEXCbOP/zXpk/19Jza3RYn796U3psa90zK3WyBAjLM6TktYDuOjrbLJrBHgu8Z6lSYidDk/EiOvO+sa9HQSjwYkIxskgauO8o2ES8IhygswOUZ0NU0mAJgMO+g59dAwOyfof/1V61bs2293brCqrXleAI9R6pgu7NJRawbcr16KsgEtd4DwEmLSA6chaMX764a3WHv2qN78MPqHmOUAKjBaMNowPjAsYljC6MHoz+OezEYCQ354g6uHNp2q3IS6o753wfeLC8wHnBaDBGh1xY21QHPwAkdWedDpkdvqcD6EQ4PQwQOHU9ER6cHgSHP2oE43630+y3u5fdVr/b6v2XQ8vpUwILXD8xrC63nhhYy/tj29aRo3FwFAYvDmJlrw/9g+/WfcZVqyPN5BjQAg7vpNmq0Ufng/HzBWD7dgEKrzBDN4F84bT2OcP848uZGR6B0E9MJWvZU5LJ8T1XOp2aajt+Ov/flye5rbap3NzJoZ2rhmAcfV0kalv5R9OjSolv3Zns59L6h/IVaEFAGzMOwwiNxugzUbKAiugS/B0t0Ah9CE6/0LwZen4bMGC9hXqibre2zyA0rZ96QkQVWdqyaSd/F8z+/e3+HQ0rHT40b+zB10ueajyzJCC9YiSaYcPelo9/lBRhxWPXuRZwXgKmNX+Mc9jc02tb50KHL2Ip3kOpD41euqP2VGkUCmYQB8bmEH6uNp6JBZMzk8Hb16/tUdTS+cntVR60id/AApanUEtN2Fu+2rZoh81dKwfoNdrh948xbMEEwPJvbrKwEudv6kopzkxg2Mza68gVC92Fgj99bgmpHGanI0sEmPE4WeNlL7RMflyyJXtbYuUvtgB5hhVhVPH+C+G1J+I=\", \"compress_html_9ae0ea4e04de440bac9215664c03dc2c\");</script></div>"
      ],
      "text/plain": [
       "<IPython.core.display.HTML object>"
      ]
     },
     "metadata": {},
     "output_type": "display_data"
    },
    {
     "data": {
      "text/html": [
       "<div id=\"output_dest_a01793e507f141ef98fb88769efa9757\"><script> (()=>{ const output = document.getElementById(\"output_a01793e507f141ef98fb88769efa9757\"); const dest = document.getElementById(\"output_dest_a01793e507f141ef98fb88769efa9757\"); dest.parentNode.replaceChild(output, dest); })(); </script></div>"
      ],
      "text/plain": [
       "{'value': <jax.Array([ 0,  1,  2,  3,  4,  5,  6,  7,  8,  9, 10, 11], dtype=int32)>}"
      ]
     },
     "execution_count": 45,
     "metadata": {},
     "output_type": "execute_result"
    }
   ],
   "source": [
    "pz.select(my_nested_object).at(lambda root: root[\"c\"][0]).get()"
   ]
  },
  {
   "cell_type": "markdown",
   "metadata": {
    "id": "MkI4lVkKxvSX"
   },
   "source": [
    "You can also get the selected objects in a dictionary form by accessing the `selected_by_path` attribute, which is how selections store their selected nodes internally:"
   ]
  },
  {
   "cell_type": "code",
   "execution_count": 46,
   "metadata": {
    "execution": {
     "iopub.execute_input": "2024-05-03T20:32:35.011745Z",
     "iopub.status.busy": "2024-05-03T20:32:35.011511Z",
     "iopub.status.idle": "2024-05-03T20:32:35.023976Z",
     "shell.execute_reply": "2024-05-03T20:32:35.023259Z"
    },
    "id": "UNJ6Zq-7x1px"
   },
   "outputs": [
    {
     "data": {
      "text/html": [
       "<div id=\"output_c574e5c8d2c94738a7155f5829fd54aa\"><script> /* penzai.treescope rendering of a Python object (compressed) */ (()=>{ let observer; let lastStep = new Promise((resolve, reject) => { observer = new IntersectionObserver((entries) => { for (const entry of entries) { if (entry.isIntersecting) { resolve(); observer.disconnect(); return; } } }, {rootMargin: \"1000px\"}); }); window.treescope_decompress_enqueue = (encoded, destId) => { const previous = lastStep; const destElt = document.getElementById(destId); lastStep = (async () => { await previous; let blob = new Blob([ Uint8Array.from(atob(encoded), (m) => m.codePointAt(0)) ]); let reader = blob.stream().pipeThrough( new DecompressionStream(\"deflate\") ).pipeThrough( new TextDecoderStream(\"utf-8\") ).getReader(); let parts = []; while (true) { let step = await reader.read(); if (step.done) { break; } parts.push(step.value); } let newElt = document.createElement(\"div\"); newElt.innerHTML = parts.join(\"\"); destElt.parentNode.replaceChild(newElt, destElt); for (let oldScript of newElt.querySelectorAll(\"script\")) { let newScript = document.createElement(\"script\"); newScript.type = oldScript.type; newScript.textContent = oldScript.textContent; oldScript.parentNode.replaceChild(newScript, oldScript); } })(); requestAnimationFrame(() => { observer.observe(destElt); }); } })(); </script><div id=\"compress_html_64e1e010489241f0a34a7d7c74dda037\"><script>window.treescope_decompress_enqueue(\"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\", \"compress_html_64e1e010489241f0a34a7d7c74dda037\");</script><span style=\"color: #aaaaaa; font-family: monospace\">(Loading...)</span></div></div>"
      ],
      "text/plain": [
       "<IPython.core.display.HTML object>"
      ]
     },
     "metadata": {},
     "output_type": "display_data"
    },
    {
     "data": {
      "text/html": [
       "<div id=\"compress_html_25cfc48674fa4d9a8d167dc3cad54078\"><script>window.treescope_decompress_enqueue(\"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\", \"compress_html_25cfc48674fa4d9a8d167dc3cad54078\");</script></div>"
      ],
      "text/plain": [
       "<IPython.core.display.HTML object>"
      ]
     },
     "metadata": {},
     "output_type": "display_data"
    },
    {
     "data": {
      "text/html": [
       "<div id=\"output_dest_c574e5c8d2c94738a7155f5829fd54aa\"><script> (()=>{ const output = document.getElementById(\"output_c574e5c8d2c94738a7155f5829fd54aa\"); const dest = document.getElementById(\"output_dest_c574e5c8d2c94738a7155f5829fd54aa\"); dest.parentNode.replaceChild(output, dest); })(); </script></div>"
      ],
      "text/plain": [
       "OrderedDict([((DictKey(key='b'),),\n",
       "              <jax.Array([0, 1, 2, 3, 4, 5, 6, 7, 8, 9], dtype=int32)>),\n",
       "             ((DictKey(key='c'), SequenceKey(idx=1), DictKey(key='value')),\n",
       "              <jax.Array([0., 0., 0., 0., 0., 0., 0.], dtype=float32)>)])"
      ]
     },
     "execution_count": 46,
     "metadata": {},
     "output_type": "execute_result"
    }
   ],
   "source": [
    "(\n",
    "    pz.select(my_nested_object)\n",
    "    .at_subtrees_where(\n",
    "        lambda subtree: isinstance(subtree, jax.Array) and subtree.size <= 10\n",
    "    )\n",
    ").selected_by_path"
   ]
  },
  {
   "cell_type": "markdown",
   "metadata": {
    "id": "ebPObknTmCAo"
   },
   "source": [
    "### Partitioning PyTrees\n",
    "\n",
    "You can use `.partition()` to split a selected object into two parts, one containing only the selected subtrees, and one containing everything else:"
   ]
  },
  {
   "cell_type": "code",
   "execution_count": 47,
   "metadata": {
    "execution": {
     "iopub.execute_input": "2024-05-03T20:32:35.027467Z",
     "iopub.status.busy": "2024-05-03T20:32:35.027248Z",
     "iopub.status.idle": "2024-05-03T20:32:35.031088Z",
     "shell.execute_reply": "2024-05-03T20:32:35.030327Z"
    },
    "id": "H-CcdaMyqq3M"
   },
   "outputs": [],
   "source": [
    "selected, rest = (\n",
    "    pz.select(my_nested_object)\n",
    "    .at_subtrees_where(\n",
    "        lambda subtree: isinstance(subtree, jax.Array) and subtree.size <= 10)\n",
    ").partition()"
   ]
  },
  {
   "cell_type": "code",
   "execution_count": 48,
   "metadata": {
    "execution": {
     "iopub.execute_input": "2024-05-03T20:32:35.034000Z",
     "iopub.status.busy": "2024-05-03T20:32:35.033771Z",
     "iopub.status.idle": "2024-05-03T20:32:35.046168Z",
     "shell.execute_reply": "2024-05-03T20:32:35.045378Z"
    },
    "id": "DaUwe2Iyq6ko"
   },
   "outputs": [
    {
     "data": {
      "text/html": [
       "<div id=\"output_ca818d903abe4400be7595cdb418db8b\"><script> /* penzai.treescope rendering of a Python object (compressed) */ (()=>{ let observer; let lastStep = new Promise((resolve, reject) => { observer = new IntersectionObserver((entries) => { for (const entry of entries) { if (entry.isIntersecting) { resolve(); observer.disconnect(); return; } } }, {rootMargin: \"1000px\"}); }); window.treescope_decompress_enqueue = (encoded, destId) => { const previous = lastStep; const destElt = document.getElementById(destId); lastStep = (async () => { await previous; let blob = new Blob([ Uint8Array.from(atob(encoded), (m) => m.codePointAt(0)) ]); let reader = blob.stream().pipeThrough( new DecompressionStream(\"deflate\") ).pipeThrough( new TextDecoderStream(\"utf-8\") ).getReader(); let parts = []; while (true) { let step = await reader.read(); if (step.done) { break; } parts.push(step.value); } let newElt = document.createElement(\"div\"); newElt.innerHTML = parts.join(\"\"); destElt.parentNode.replaceChild(newElt, destElt); for (let oldScript of newElt.querySelectorAll(\"script\")) { let newScript = document.createElement(\"script\"); newScript.type = oldScript.type; newScript.textContent = oldScript.textContent; oldScript.parentNode.replaceChild(newScript, oldScript); } })(); requestAnimationFrame(() => { observer.observe(destElt); }); } })(); </script><div id=\"compress_html_e77bc2faeb7f4eb6b0fd197ed2e12076\"><script>window.treescope_decompress_enqueue(\"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\", \"compress_html_e77bc2faeb7f4eb6b0fd197ed2e12076\");</script><span style=\"color: #aaaaaa; font-family: monospace\">(Loading...)</span></div></div>"
      ],
      "text/plain": [
       "<IPython.core.display.HTML object>"
      ]
     },
     "metadata": {},
     "output_type": "display_data"
    },
    {
     "data": {
      "text/html": [
       "<div id=\"compress_html_ad9ee85df9994e7e80f48f403f48fc6a\"><script>window.treescope_decompress_enqueue(\"eNrtWVtv2zYU/iuECjRSK6uWfL8J2NIN6EsfhgF7KAKBImmLCy2qFJ3Liv73HepmK3FcJ01TbHCAWJZ47uc7hzzWnPIrlOtbwRYW5Xkm8O0UpTJlFuJ0YS2liihbMqUYjfweIyM8wIQR2g+CYdxbYp8MR0O2nAxHfmCF8zzDKXwaeaEXS63lWvCUTVOpbW8pBcWxYFEqKZsmOLdDgWMmwvZKpOVqJUqeKUkYuWTUcdAbB31BGaaUp6uOltkUdT1/wNYzZDR0EsZXiZ4i3yueffWIFGA8jmPFroCzuJ2iV8NxgLvdLQGR6zVLdXSdsDRiN2A/ZfTZ7K214uJvqzXdrGOmdgi6k7E/GBqCXGMjISIJF1SxtOSAB7FUFHhC1CZ5Nlub9MdCkssZWmO14mlHsCWElWBB7IAkqANh75PEAVPRt2z9YaaV4ivTcik4La1CV1jZnU5B1SlsATtbmCn86HoDkaA3yPbBnV2WSm4OVMxxnCYGW9bO8by13rIMDFyBsxFZP+1Uj18wmpWl4FQRwY7ClG/yykGfrcG7hx0rLP0+I74J8V0T6/z62c3e7FaUdTgPE3/1QOIPaUjbJB/oSfN3ZWcs2iQiAuf5wioaj5KblGrFs6qH1i255QC0CRqP+wM825caUDOz2qJbXsBa6dycp9lGI32bgYLCnVjeWHt5Ks+B9V3B1BafgAQFjl5GGjDNtIUo1rhzyW4zrJOFdceaOskmNKjKA0pIEgERYZGBonVMaKrFzxssUrxmUabYkt9YYcbSfzD3tGIsJzJjgKoMLMk1i5ZYiBgw50EGih2qvHyU+o9aemacttvr83dVxHb0nhmp8QaynZ4hmZ4LTi4XZ1ulCWwgED1DFRGzaOuE585ZGRvzeGHZAq9jipGSEtBhPh1rm/GGcIrO9lCezVBFg1NAJNZcpkB5DgzIxB2+Nxtx25vd6N0tQdQuQesA9T1SqTh0NCwixTK1eBREvBbvPsBEOWQnXVnh61c3wWj2i1L41v7UdZHvosBFPRf1XTRw0dBFIxeNXTS5cBEtwM1T3Quckq8dCvc+zECZwFnOqBWifQFrnQ+sF4BEOzTHA+QO39PhciR4HoYDHCCfCAZO90KhPDVZ4WTU7056o8EgGI794X85tZw+JbHA9RPTWtTWExNreF92kzpwyrcOwuDVXqzc23X+xjf1rlL0pgNbxyGgWRyepXqnIx9ct8LnS8DuoARtVuhZsYDKxmn8Kxwrb1+v9OwAhH5iKRnPnlJMBd9zldOxpXYnTu4plkeFrXWE3P68sHOKVObEbYXO4zIBZj54zrxfHk1JPO4ccr9y6gvlV+H8ET/EYB/3yZgNcBD0+xQHE0pp4PcIGQ38XneEtz/EnOaM05xxmjO+Y87wXLT/v6nupZD4NGf8v+eMfn88Oc0ZpznjNGec5ozTnHGaM15+znjEOeQbc0ZOQLcObdtBixB9ITLNof8V5fyB5miBPlnHv/F1kXX8VHIxK5WZXIKea2g18nrnHA0WRM1dZKhsRCXZmI5qFn8TzHz99fYDtRuDP3UvzEupUvJS4ZUhAekNI1EMa/a+uv29orAbHqPnXMCgBUw1v4czOOXTc9MC7QJ6xFB8hF3A1mpTvAaDiQzZgmnEgbE7g8t8G0ZPsHSlE3j69q15TWToysVdLQ/6xC9AgeHJ5UYR9h5Gw8WDoShmQwu9RXf4y1sPTmcCEvgX14ndiPOWXOW1lMJNYNiuKraWV8wuXvYV7u8KaQJmlh1DBAArQVWD615qWfp5wzbsfYWVP9ka5GmW207D+y/W9nOB\", \"compress_html_ad9ee85df9994e7e80f48f403f48fc6a\");</script></div>"
      ],
      "text/plain": [
       "<IPython.core.display.HTML object>"
      ]
     },
     "metadata": {},
     "output_type": "display_data"
    },
    {
     "data": {
      "text/html": [
       "<div id=\"output_dest_ca818d903abe4400be7595cdb418db8b\"><script> (()=>{ const output = document.getElementById(\"output_ca818d903abe4400be7595cdb418db8b\"); const dest = document.getElementById(\"output_dest_ca818d903abe4400be7595cdb418db8b\"); dest.parentNode.replaceChild(output, dest); })(); </script></div>"
      ],
      "text/plain": [
       "{'a': NotInThisPartition(),\n",
       " 'b': <jax.Array([0, 1, 2, 3, 4, 5, 6, 7, 8, 9], dtype=int32)>,\n",
       " 'c': [NotInThisPartition(),\n",
       "  {'value': <jax.Array([0., 0., 0., 0., 0., 0., 0.], dtype=float32)>},\n",
       "  NotInThisPartition()]}"
      ]
     },
     "execution_count": 48,
     "metadata": {},
     "output_type": "execute_result"
    }
   ],
   "source": [
    "selected"
   ]
  },
  {
   "cell_type": "code",
   "execution_count": 49,
   "metadata": {
    "execution": {
     "iopub.execute_input": "2024-05-03T20:32:35.049245Z",
     "iopub.status.busy": "2024-05-03T20:32:35.049025Z",
     "iopub.status.idle": "2024-05-03T20:32:35.060227Z",
     "shell.execute_reply": "2024-05-03T20:32:35.059379Z"
    },
    "id": "n-y-RvcSq7V-"
   },
   "outputs": [
    {
     "data": {
      "text/html": [
       "<div id=\"output_42408ed5cdf747bf96f27b1a5fdce040\"><script> /* penzai.treescope rendering of a Python object (compressed) */ (()=>{ let observer; let lastStep = new Promise((resolve, reject) => { observer = new IntersectionObserver((entries) => { for (const entry of entries) { if (entry.isIntersecting) { resolve(); observer.disconnect(); return; } } }, {rootMargin: \"1000px\"}); }); window.treescope_decompress_enqueue = (encoded, destId) => { const previous = lastStep; const destElt = document.getElementById(destId); lastStep = (async () => { await previous; let blob = new Blob([ Uint8Array.from(atob(encoded), (m) => m.codePointAt(0)) ]); let reader = blob.stream().pipeThrough( new DecompressionStream(\"deflate\") ).pipeThrough( new TextDecoderStream(\"utf-8\") ).getReader(); let parts = []; while (true) { let step = await reader.read(); if (step.done) { break; } parts.push(step.value); } let newElt = document.createElement(\"div\"); newElt.innerHTML = parts.join(\"\"); destElt.parentNode.replaceChild(newElt, destElt); for (let oldScript of newElt.querySelectorAll(\"script\")) { let newScript = document.createElement(\"script\"); newScript.type = oldScript.type; newScript.textContent = oldScript.textContent; oldScript.parentNode.replaceChild(newScript, oldScript); } })(); requestAnimationFrame(() => { observer.observe(destElt); }); } })(); </script><div id=\"compress_html_c10d2e55806c44aba1573d36cf44aaa7\"><script>window.treescope_decompress_enqueue(\"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\", \"compress_html_c10d2e55806c44aba1573d36cf44aaa7\");</script><span style=\"color: #aaaaaa; font-family: monospace\">(Loading...)</span></div></div>"
      ],
      "text/plain": [
       "<IPython.core.display.HTML object>"
      ]
     },
     "metadata": {},
     "output_type": "display_data"
    },
    {
     "data": {
      "text/html": [
       "<div id=\"compress_html_d4857f484bcc402e888fdce421e36ef9\"><script>window.treescope_decompress_enqueue(\"eNrtWFtv2zYU/iuEAtRSEyu+JY5vArZkA/rSh2HAHoJAoETa4kKTKkU79or+9x1SF1u247ppmmLADNCyxPOd68dDymPClijTa04nDmFZyvF6iIQU1EGMTJypVCGhU6oUJeGgG+EOmfYH06jVa7W6uH3d7/VuelFncEW6ZOAE4yzFAr6NvsCPpNZyzpmgQyG1608lJzjiNBSS0GGCMzfgOKI8qM+EWs5mPMcM44TGj5R4Hnrvoc8oxYQwMWtqmQ5Ry29f0fkIGQvNhLJZooeo7dtnX/xYcnAeR5GiS0Da2yE6u77p4FZrIxDL+ZwKHT4lVIR0Bf4TSl7N39Iqth9jNdPYCIRxwjhRVORuwINIKkIVClBd5NVcqaobcRk/jtAcqxkTTU6nkLUY89jtxAlqQlZ7ceKBq+hrvv4w13L1hWuZ5IzkXqElVm6zaaWa1hfws0YJG0fLv+IJeo/cNoSzDSn0ZiBFPc+rcrCBNk/HlnZzlhs2ArJSWT5tFo/fMJuFpxCUzWBTYcIWWRFgm84huucDs55+nxNfpfi2i2V92+nqYHULyTKdx4W/+KDxh/SbTZGPtJzxZd74bBdEMcdZNnFsX1FyIYhWLC1aZNlxawFAmyDRTe8Kjw6VBsyMnLrqWhQwlwc3ZiJdaKTXKRiw4URy5RzEFJED9NKC6uoT0KAg0MdQA6epdhDBGjcf6TrFOpk4O96URTapQUUdUBInIQjFNDRUdE5JTTH5aYG5wHMapopO2coJUir+wczXitIslikFVqXgSaZpOMWcR8A5HypgN6D88lHqP0rtqQnarc+PL4uMbdltGK3RAqotGkiKW87ix0ljYzSB/QGyZ6TC2Ey6OmGZ18hzYx5PHJfjeUQwUlICO8y352wqXgkOUeOAZGOEChksgJFYMylA8hYAyOQdflf7bD2a7eztLkFUX4LOEek9UakYdDTMQ0VTNfkmivg17CHChBlUR8yc4N3ZqtMf/aIUXrv3qHWBUBtGB0YXRg/GFYxrGH0YNzAGF6gNcu32wwUilu5M6G7HyzXVk3OxTzwwz3GaUeIE6FAKawcC5w1IUk/W6ZTZwb2cQCfS6XmCwInxhfRg5CA5xGIeGQuDfq816Pav+51Bv3PzXy4tIy8pLKB+Ylnt2nphYQ32bbetI8d65ygNzg5yZW8f+huvyn3Gdqsjm8kxojkMngm91aOPzjvB6xVg+80IGi/XIzuB8sZp4rOB5bfvZnp0hEI/cSmZyF6ymCzutZbTqUttJ08X/+fypLTVDpWb/xO2zpXKnMGdwPu2SoCbz54895dHtSS+92Syv5bKC2FL8CIGb3Tguh6aBOhzLEUGHdEu8A8kQxN075z+Z8zDKMebggH0CfqJfNo6PoPSsLoLjZSLiIwXpm2ayd84NT9/XX8gbuXDfevBvCPmmqcKz4wIaK+AsaJY07vi9vdCwq0wxs4tl1DCSYX3cQqHe3Jr+pxr+RUbiY/Q6l2tFvatdCoVcjnViAGwNYLLeJMZn1Mx0/CWzc7PzVubkcsnt608GxN7AAMGk8mFiukdW25HtAOzf4k56Bzt4PNbH45gHGj5F9OJW6nzp0xlpRYbJgA2s4rO5ZK69t3bhr+tpEqYmfaMEHAm50nJl73SUvFpQRf0ruDKn3QO+jTNXK/C/gtItv57\", \"compress_html_d4857f484bcc402e888fdce421e36ef9\");</script></div>"
      ],
      "text/plain": [
       "<IPython.core.display.HTML object>"
      ]
     },
     "metadata": {},
     "output_type": "display_data"
    },
    {
     "data": {
      "text/html": [
       "<div id=\"output_dest_42408ed5cdf747bf96f27b1a5fdce040\"><script> (()=>{ const output = document.getElementById(\"output_42408ed5cdf747bf96f27b1a5fdce040\"); const dest = document.getElementById(\"output_dest_42408ed5cdf747bf96f27b1a5fdce040\"); dest.parentNode.replaceChild(output, dest); })(); </script></div>"
      ],
      "text/plain": [
       "{'a': 1,\n",
       " 'b': NotInThisPartition(),\n",
       " 'c': [{'value': <jax.Array([ 0,  1,  2,  3,  4,  5,  6,  7,  8,  9, 10, 11], dtype=int32)>},\n",
       "  {'value': NotInThisPartition()},\n",
       "  {'value': 3}]}"
      ]
     },
     "execution_count": 49,
     "metadata": {},
     "output_type": "execute_result"
    }
   ],
   "source": [
    "rest"
   ]
  },
  {
   "cell_type": "markdown",
   "metadata": {
    "id": "lIj7wg-oqv1t"
   },
   "source": [
    "You can then process the two parts independently, and then recombine them into a single object using `pz.combine`:"
   ]
  },
  {
   "cell_type": "code",
   "execution_count": 50,
   "metadata": {
    "execution": {
     "iopub.execute_input": "2024-05-03T20:32:35.063533Z",
     "iopub.status.busy": "2024-05-03T20:32:35.063309Z",
     "iopub.status.idle": "2024-05-03T20:32:35.107328Z",
     "shell.execute_reply": "2024-05-03T20:32:35.106580Z"
    },
    "id": "8SoBMXJmrBgY"
   },
   "outputs": [
    {
     "data": {
      "text/html": [
       "<div id=\"output_074b8d1c11e84becb7cf1e04f20d1f2a\"><script> /* penzai.treescope rendering of a Python object (compressed) */ (()=>{ let observer; let lastStep = new Promise((resolve, reject) => { observer = new IntersectionObserver((entries) => { for (const entry of entries) { if (entry.isIntersecting) { resolve(); observer.disconnect(); return; } } }, {rootMargin: \"1000px\"}); }); window.treescope_decompress_enqueue = (encoded, destId) => { const previous = lastStep; const destElt = document.getElementById(destId); lastStep = (async () => { await previous; let blob = new Blob([ Uint8Array.from(atob(encoded), (m) => m.codePointAt(0)) ]); let reader = blob.stream().pipeThrough( new DecompressionStream(\"deflate\") ).pipeThrough( new TextDecoderStream(\"utf-8\") ).getReader(); let parts = []; while (true) { let step = await reader.read(); if (step.done) { break; } parts.push(step.value); } let newElt = document.createElement(\"div\"); newElt.innerHTML = parts.join(\"\"); destElt.parentNode.replaceChild(newElt, destElt); for (let oldScript of newElt.querySelectorAll(\"script\")) { let newScript = document.createElement(\"script\"); newScript.type = oldScript.type; newScript.textContent = oldScript.textContent; oldScript.parentNode.replaceChild(newScript, oldScript); } })(); requestAnimationFrame(() => { observer.observe(destElt); }); } })(); </script><div id=\"compress_html_8fadbbb84b1f491fa95cbaf50c168073\"><script>window.treescope_decompress_enqueue(\"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\", \"compress_html_8fadbbb84b1f491fa95cbaf50c168073\");</script><span style=\"color: #aaaaaa; font-family: monospace\">(Loading...)</span></div></div>"
      ],
      "text/plain": [
       "<IPython.core.display.HTML object>"
      ]
     },
     "metadata": {},
     "output_type": "display_data"
    },
    {
     "data": {
      "text/html": [
       "<div id=\"compress_html_cca0f84ffd7144f89ca468400491f480\"><script>window.treescope_decompress_enqueue(\"eNrtWl+PmzgQ/yoW1XVJu6GQkBCSTaS7bU/qSx9OJ91DtULGNoFbB1Nw9k+rfvcbG0JCkk3S7Xaru2OldQKeGY9nfjPjIVzQ5AYV8p6zqUGTIuP4foxSkTIDJXRqRCIPKItYnjMaeDYhQ9fp94cD4o7CIfYYG0RuZGNv2O95jjG7KDKcwqjkzaxQSCkWPEnZOBXStCLBKQ45C1JB2TjGhTnjOGR81pwJpJjPeckzJjEj14x2OuhVB31BGaY0SeddKbIxsi1nwBYTpFboxiyZx3KMHEvf+2oRwUF5HIY5uwFOfTlGL4ajHrbtNQERiwVLZXAbszRgd6A/ZfTJ9F2tivVfvSoYUym9Jgg5JtcTFMI4z8Uypd1q4gbnZrcbckGuy1sdoBI5ZXlpAye7Q4XgCT1EWTriGPFXZMX3GctBs+sgZwshWRCLG5ajbaV31RTXnMTmyP1FOcUdIMf2S4m3uAgKkgvOgV0KK0ryQgYyIdcnS/Vdy1FybR85/aHl7RWsrX9wuc7OgjLHaZHIRKTjncWRUyCGC9ZN0q5YynMUiVR2bzXItuaUV2MSB4B9wgLOIrkBVHWpkDogcZMu15LWhHkJ35ry0xLzFC9YkOUsSu6AUmtQJJ+ZohqVIC8kVnALSJxwmrO03mLpeTRDTZInA3adKzSGJmiB8zmYo9wuwZyYPRKjLmjqkrj02BFdf5hqVRCUqpXw11rtDYJGgtH7AI/wGL1CpgPb2WSp5BZAxTqdTm2DNWv3dN7VuqtQ1Zy1yNXdbnX7Ga25Tjbagt0c02RZVBt02AJ29/DGtKbfp8RRiH9p5MPSvyrRnZAPDxN/tUDiD6leaycfKmC6IumUJPMk2wS2qs/atDJnrCAig3QihLRq4mABmqADEpJUrVkmUkUE2h4lPGWxB+VUKl+8Kc8G+qCACMdFMTWaalaniNWhpOEVqKQ0HLkDPNmHN7DdxGiKbrgG5kqPXSRptpRIQrWbGtpHobgz9vJU7gTWN5qpKX5dLyUEKpMGolji7jW7z7CMp8aWNo36U4ELNUuHcYppqsmtEmHMMpZ+xsnaURAqGWhSQCGPMOeqxlngAX1GKz8+CPnHSnqmNm025y/eVBbbWPdMSQ2XAOH0DIn0kkN1nZ6tF43hCAXWU1QBUZOmjJOic1baRt2eGibHi5BipJA01mPHWHu8Jhyjsz2UZxNU0eAUAIfLCn52CQxI2R2+10fR5m42rbedV1AzrxgHqHdIBVTvJMUcjk1ZPv0miFgN3n2ACQrwTjo3Zi9f3PW8ya95ju/Nj45tn8Mxy1FDTw19NbhqGKhhqAZPDSM1+FfniGrAJ6ns9zqlrKZ5znehBwpwnBWMGjO0z4iNU7PxDDBpmut00GzxPR5CJwLqYYhAW/VIgCR0LzzS5SJUK/iea/t9b+T5ruP3/s2uTehjHAtcP9GtOrYe6VjF+7yF60DvaxyEwYu9WNmpRH/ju1Wl0fnqQDk5BDQjgXup3MjSB+eN2dM5YPPxAaReLid6ApWJU+1Pb6y8fDmXkwMQ+omhpHb2mGDSfE8VTqeG2padzltbnmS2xrFy/dANbT1sMGadb/NE4zB/NDzqkPj+s8luNK0+aHIzu/iGR5Yj2+2HtG+7vkvcQc8f+WTkuiTEvTAauHjjkWXbj7T9SNuPPL4fQRDyCCIeQcAjiHcE4Y4g2hEEO4JYRxDqyFfhDv9O2438T7qRodfzvd6o7UbabqTtRtpupO1G2m7kubuR7zuZPF0v4jPcc/3Ic+nQc1k48mlk9wbEw8Qd4TAatr1I24u0vcgT/TZiqXg+NtaxHnGB2z7kv9yH+APXsb32V5G2D2n7kLYPafuQtg/5Gb+KPPJUcqQHKQhoImem2UHTGfpCRFpANtTB/Z4WaIo+Gqe/w32OjNN/PdkkPtreXE1KzRQMQKlbyFLiduNADuoGzXfMTEQFWapkrCbfcaa+/nb/npr17j7aV+o1w1JylOO5IgHpNSPJGZbsbXX5e0Vh1jxqnUsOHRswrfgtnEG7QC9V9jQ1aomi+AAFxJT5Ur/YCK0dMjmTKAFGewIfF2ubW5ylcxnD3dev1Yt/iq6c3FzlwT0lV7CA4inEMifsLfSY0wdNoZtMA71GW/zlpQUHOw5g/yuRsVmLK9+LrqTobQLDela9/H3DTP36Zvmu34aQ2mBquqOIAI0lAldI3HEtSz8t2ZK9rbDyJ1uAPMkKs1Pz/gNOEAYs\", \"compress_html_cca0f84ffd7144f89ca468400491f480\");</script></div>"
      ],
      "text/plain": [
       "<IPython.core.display.HTML object>"
      ]
     },
     "metadata": {},
     "output_type": "display_data"
    },
    {
     "data": {
      "text/html": [
       "<div id=\"output_dest_074b8d1c11e84becb7cf1e04f20d1f2a\"><script> (()=>{ const output = document.getElementById(\"output_074b8d1c11e84becb7cf1e04f20d1f2a\"); const dest = document.getElementById(\"output_dest_074b8d1c11e84becb7cf1e04f20d1f2a\"); dest.parentNode.replaceChild(output, dest); })(); </script></div>"
      ],
      "text/plain": [
       "{'a': 1,\n",
       " 'b': <jax.Array([100, 101, 102, 103, 104, 105, 106, 107, 108, 109], dtype=int32)>,\n",
       " 'c': [{'value': <jax.Array([ 0,  1,  2,  3,  4,  5,  6,  7,  8,  9, 10, 11], dtype=int32)>},\n",
       "  {'value': <jax.Array([100., 100., 100., 100., 100., 100., 100.], dtype=float32)>},\n",
       "  {'value': 3}]}"
      ]
     },
     "execution_count": 50,
     "metadata": {},
     "output_type": "execute_result"
    }
   ],
   "source": [
    "pz.combine(\n",
    "    jax.tree_util.tree_map(lambda x: x + 100, selected),\n",
    "    rest,\n",
    ")"
   ]
  },
  {
   "cell_type": "markdown",
   "metadata": {
    "id": "69K7pItirIuA"
   },
   "source": [
    "Partitioning and combining are inspired by `equinox.partition` and `equinox.combine`. If you're already familiar with those, the main differences are:\n",
    "- You generally don't need to use `partition` and `combine` when running JAX transformations like `jax.jit`. By convention, Penzai models store all of their static metadata in `dataclasses.field(metadata={\"pytree_node\": False})` fields which are not part of the PyTree traversal, which means partitioning isn't as strictly necessary as it is in equinox workflows. Instead, partitioning is primarily useful if you want to apply different logic to two sets of leaves, e.g. taking a gradient only with respect to a specific subset of parameters, or defining different shardings for different array subsets.\n",
    "- Penzai uses a specific sentinel `NotInThisPartition()` to identify removed nodes, rather than `None`.\n",
    "- Penzai partitions are built to support manipulation at the subtree level, rather than at the leaf level. It's OK to build and combine partitions even when neither partition is a strict PyTree prefix of the other, as long as the overlapping parts don't conflict.\n",
    "- Penzai partitions are always created with selectors, rather than being built by a standalone function.\n"
   ]
  },
  {
   "cell_type": "markdown",
   "metadata": {
    "id": "bfYZoC-ANf1Z"
   },
   "source": [
    "## Modifying selected values\n",
    "\n",
    "An important feature of selections is that they allow you to perform detailed modifications to (copies of) large trees. Selections expose a number of methods for this purpose."
   ]
  },
  {
   "cell_type": "markdown",
   "metadata": {
    "id": "Y7lQebLlwpRJ"
   },
   "source": [
    "### Replacing selected values\n",
    "The simplest modification you can make is to replace each selected subtree with another subtree or value:"
   ]
  },
  {
   "cell_type": "code",
   "execution_count": 51,
   "metadata": {
    "execution": {
     "iopub.execute_input": "2024-05-03T20:32:35.111396Z",
     "iopub.status.busy": "2024-05-03T20:32:35.111132Z",
     "iopub.status.idle": "2024-05-03T20:32:35.119132Z",
     "shell.execute_reply": "2024-05-03T20:32:35.118379Z"
    },
    "id": "Ew7gWKgMNg0h"
   },
   "outputs": [
    {
     "data": {
      "text/html": [
       "<div id=\"output_4728fbb4438d4b329d8213e7c980ec5e\"><script> /* penzai.treescope rendering of a Python object (compressed) */ (()=>{ let observer; let lastStep = new Promise((resolve, reject) => { observer = new IntersectionObserver((entries) => { for (const entry of entries) { if (entry.isIntersecting) { resolve(); observer.disconnect(); return; } } }, {rootMargin: \"1000px\"}); }); window.treescope_decompress_enqueue = (encoded, destId) => { const previous = lastStep; const destElt = document.getElementById(destId); lastStep = (async () => { await previous; let blob = new Blob([ Uint8Array.from(atob(encoded), (m) => m.codePointAt(0)) ]); let reader = blob.stream().pipeThrough( new DecompressionStream(\"deflate\") ).pipeThrough( new TextDecoderStream(\"utf-8\") ).getReader(); let parts = []; while (true) { let step = await reader.read(); if (step.done) { break; } parts.push(step.value); } let newElt = document.createElement(\"div\"); newElt.innerHTML = parts.join(\"\"); destElt.parentNode.replaceChild(newElt, destElt); for (let oldScript of newElt.querySelectorAll(\"script\")) { let newScript = document.createElement(\"script\"); newScript.type = oldScript.type; newScript.textContent = oldScript.textContent; oldScript.parentNode.replaceChild(newScript, oldScript); } })(); requestAnimationFrame(() => { observer.observe(destElt); }); } })(); </script><div id=\"compress_html_b085d791a1224dda960e1b8eb1778724\"><script>window.treescope_decompress_enqueue(\"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\", \"compress_html_b085d791a1224dda960e1b8eb1778724\");</script><span style=\"color: #aaaaaa; font-family: monospace\">(Loading...)</span></div></div>"
      ],
      "text/plain": [
       "<IPython.core.display.HTML object>"
      ]
     },
     "metadata": {},
     "output_type": "display_data"
    },
    {
     "data": {
      "text/html": [
       "<div id=\"output_dest_4728fbb4438d4b329d8213e7c980ec5e\"><script> (()=>{ const output = document.getElementById(\"output_4728fbb4438d4b329d8213e7c980ec5e\"); const dest = document.getElementById(\"output_dest_4728fbb4438d4b329d8213e7c980ec5e\"); dest.parentNode.replaceChild(output, dest); })(); </script></div>"
      ],
      "text/plain": [
       "{'a': 1,\n",
       " 'b': 'hello world!',\n",
       " 'c': [{'value': 'hello world!'}, {'value': 'hello world!'}, {'value': 3}]}"
      ]
     },
     "execution_count": 51,
     "metadata": {},
     "output_type": "execute_result"
    }
   ],
   "source": [
    "pz.select(my_nested_object).at_instances_of(jax.Array).set(\"hello world!\")"
   ]
  },
  {
   "cell_type": "markdown",
   "metadata": {
    "id": "HduHi3ifw8qn"
   },
   "source": [
    "You can optionally provide different values for each selected node:"
   ]
  },
  {
   "cell_type": "code",
   "execution_count": 52,
   "metadata": {
    "execution": {
     "iopub.execute_input": "2024-05-03T20:32:35.122664Z",
     "iopub.status.busy": "2024-05-03T20:32:35.122408Z",
     "iopub.status.idle": "2024-05-03T20:32:35.130461Z",
     "shell.execute_reply": "2024-05-03T20:32:35.129689Z"
    },
    "id": "rDlkeqI3w1-C"
   },
   "outputs": [
    {
     "data": {
      "text/html": [
       "<div id=\"output_7a2481c076fe4c84854a27779af5b4e8\"><script> /* penzai.treescope rendering of a Python object (compressed) */ (()=>{ let observer; let lastStep = new Promise((resolve, reject) => { observer = new IntersectionObserver((entries) => { for (const entry of entries) { if (entry.isIntersecting) { resolve(); observer.disconnect(); return; } } }, {rootMargin: \"1000px\"}); }); window.treescope_decompress_enqueue = (encoded, destId) => { const previous = lastStep; const destElt = document.getElementById(destId); lastStep = (async () => { await previous; let blob = new Blob([ Uint8Array.from(atob(encoded), (m) => m.codePointAt(0)) ]); let reader = blob.stream().pipeThrough( new DecompressionStream(\"deflate\") ).pipeThrough( new TextDecoderStream(\"utf-8\") ).getReader(); let parts = []; while (true) { let step = await reader.read(); if (step.done) { break; } parts.push(step.value); } let newElt = document.createElement(\"div\"); newElt.innerHTML = parts.join(\"\"); destElt.parentNode.replaceChild(newElt, destElt); for (let oldScript of newElt.querySelectorAll(\"script\")) { let newScript = document.createElement(\"script\"); newScript.type = oldScript.type; newScript.textContent = oldScript.textContent; oldScript.parentNode.replaceChild(newScript, oldScript); } })(); requestAnimationFrame(() => { observer.observe(destElt); }); } })(); </script><div id=\"compress_html_984878d6ac2449109ea9c703e1643414\"><script>window.treescope_decompress_enqueue(\"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\", \"compress_html_984878d6ac2449109ea9c703e1643414\");</script><span style=\"color: #aaaaaa; font-family: monospace\">(Loading...)</span></div></div>"
      ],
      "text/plain": [
       "<IPython.core.display.HTML object>"
      ]
     },
     "metadata": {},
     "output_type": "display_data"
    },
    {
     "data": {
      "text/html": [
       "<div id=\"output_dest_7a2481c076fe4c84854a27779af5b4e8\"><script> (()=>{ const output = document.getElementById(\"output_7a2481c076fe4c84854a27779af5b4e8\"); const dest = document.getElementById(\"output_dest_7a2481c076fe4c84854a27779af5b4e8\"); dest.parentNode.replaceChild(output, dest); })(); </script></div>"
      ],
      "text/plain": [
       "{'a': 1,\n",
       " 'b': 'replacement 0',\n",
       " 'c': [{'value': 'replacement 1'}, {'value': 'replacement 2'}, {'value': 3}]}"
      ]
     },
     "execution_count": 52,
     "metadata": {},
     "output_type": "execute_result"
    }
   ],
   "source": [
    "pz.select(my_nested_object).at_instances_of(jax.Array).set_sequence([f\"replacement {i}\" for i in range(3)])"
   ]
  },
  {
   "cell_type": "markdown",
   "metadata": {
    "id": "81cktrxfxGcm"
   },
   "source": [
    "Or provide a mapping based on the selected keypaths:"
   ]
  },
  {
   "cell_type": "code",
   "execution_count": 53,
   "metadata": {
    "execution": {
     "iopub.execute_input": "2024-05-03T20:32:35.133938Z",
     "iopub.status.busy": "2024-05-03T20:32:35.133715Z",
     "iopub.status.idle": "2024-05-03T20:32:35.142759Z",
     "shell.execute_reply": "2024-05-03T20:32:35.142027Z"
    },
    "id": "3u5yEQ1RxCsF"
   },
   "outputs": [
    {
     "data": {
      "text/html": [
       "<div id=\"output_6487d83c54f34b9fb468cb1db6740b07\"><script> /* penzai.treescope rendering of a Python object (compressed) */ (()=>{ let observer; let lastStep = new Promise((resolve, reject) => { observer = new IntersectionObserver((entries) => { for (const entry of entries) { if (entry.isIntersecting) { resolve(); observer.disconnect(); return; } } }, {rootMargin: \"1000px\"}); }); window.treescope_decompress_enqueue = (encoded, destId) => { const previous = lastStep; const destElt = document.getElementById(destId); lastStep = (async () => { await previous; let blob = new Blob([ Uint8Array.from(atob(encoded), (m) => m.codePointAt(0)) ]); let reader = blob.stream().pipeThrough( new DecompressionStream(\"deflate\") ).pipeThrough( new TextDecoderStream(\"utf-8\") ).getReader(); let parts = []; while (true) { let step = await reader.read(); if (step.done) { break; } parts.push(step.value); } let newElt = document.createElement(\"div\"); newElt.innerHTML = parts.join(\"\"); destElt.parentNode.replaceChild(newElt, destElt); for (let oldScript of newElt.querySelectorAll(\"script\")) { let newScript = document.createElement(\"script\"); newScript.type = oldScript.type; newScript.textContent = oldScript.textContent; oldScript.parentNode.replaceChild(newScript, oldScript); } })(); requestAnimationFrame(() => { observer.observe(destElt); }); } })(); </script><div id=\"compress_html_a06934068b034400a5279c86e43d90bd\"><script>window.treescope_decompress_enqueue(\"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\", \"compress_html_a06934068b034400a5279c86e43d90bd\");</script><span style=\"color: #aaaaaa; font-family: monospace\">(Loading...)</span></div></div>"
      ],
      "text/plain": [
       "<IPython.core.display.HTML object>"
      ]
     },
     "metadata": {},
     "output_type": "display_data"
    },
    {
     "data": {
      "text/html": [
       "<div id=\"output_dest_6487d83c54f34b9fb468cb1db6740b07\"><script> (()=>{ const output = document.getElementById(\"output_6487d83c54f34b9fb468cb1db6740b07\"); const dest = document.getElementById(\"output_dest_6487d83c54f34b9fb468cb1db6740b07\"); dest.parentNode.replaceChild(output, dest); })(); </script></div>"
      ],
      "text/plain": [
       "{'a': 1, 'b': 'A', 'c': [{'value': 'B'}, {'value': 'C'}, {'value': 3}]}"
      ]
     },
     "execution_count": 53,
     "metadata": {},
     "output_type": "execute_result"
    }
   ],
   "source": [
    "pz.select(my_nested_object).at_instances_of(jax.Array).set_by_path({\n",
    "    (jax.tree_util.DictKey(key='b'),): \"A\",\n",
    "    (jax.tree_util.DictKey(key='c'), jax.tree_util.SequenceKey(idx=0), jax.tree_util.DictKey(key='value')): \"B\",\n",
    "    (jax.tree_util.DictKey(key='c'), jax.tree_util.SequenceKey(idx=1), jax.tree_util.DictKey(key='value')): \"C\",\n",
    "})"
   ]
  },
  {
   "cell_type": "markdown",
   "metadata": {
    "id": "wIWQ8ChOeMQe"
   },
   "source": [
    "`set_by_path` accepts the same input as is produced by `get_by_path`, which can be convenient for modifying some values and then putting them back, or for taking gradients with respect to only a subset of values:"
   ]
  },
  {
   "cell_type": "code",
   "execution_count": 54,
   "metadata": {
    "execution": {
     "iopub.execute_input": "2024-05-03T20:32:35.146163Z",
     "iopub.status.busy": "2024-05-03T20:32:35.145943Z",
     "iopub.status.idle": "2024-05-03T20:32:35.154792Z",
     "shell.execute_reply": "2024-05-03T20:32:35.153990Z"
    },
    "id": "A4FdZZuHeWYO"
   },
   "outputs": [
    {
     "data": {
      "text/html": [
       "<div id=\"output_f192d2bdc341493fadeafceea668469c\"><script> /* penzai.treescope rendering of a Python object (compressed) */ (()=>{ let observer; let lastStep = new Promise((resolve, reject) => { observer = new IntersectionObserver((entries) => { for (const entry of entries) { if (entry.isIntersecting) { resolve(); observer.disconnect(); return; } } }, {rootMargin: \"1000px\"}); }); window.treescope_decompress_enqueue = (encoded, destId) => { const previous = lastStep; const destElt = document.getElementById(destId); lastStep = (async () => { await previous; let blob = new Blob([ Uint8Array.from(atob(encoded), (m) => m.codePointAt(0)) ]); let reader = blob.stream().pipeThrough( new DecompressionStream(\"deflate\") ).pipeThrough( new TextDecoderStream(\"utf-8\") ).getReader(); let parts = []; while (true) { let step = await reader.read(); if (step.done) { break; } parts.push(step.value); } let newElt = document.createElement(\"div\"); newElt.innerHTML = parts.join(\"\"); destElt.parentNode.replaceChild(newElt, destElt); for (let oldScript of newElt.querySelectorAll(\"script\")) { let newScript = document.createElement(\"script\"); newScript.type = oldScript.type; newScript.textContent = oldScript.textContent; oldScript.parentNode.replaceChild(newScript, oldScript); } })(); requestAnimationFrame(() => { observer.observe(destElt); }); } })(); </script><div id=\"compress_html_e662cbd323ef4854bfc9d1918a442ab0\"><script>window.treescope_decompress_enqueue(\"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\", \"compress_html_e662cbd323ef4854bfc9d1918a442ab0\");</script><span style=\"color: #aaaaaa; font-family: monospace\">(Loading...)</span></div></div>"
      ],
      "text/plain": [
       "<IPython.core.display.HTML object>"
      ]
     },
     "metadata": {},
     "output_type": "display_data"
    },
    {
     "data": {
      "text/html": [
       "<div id=\"output_dest_f192d2bdc341493fadeafceea668469c\"><script> (()=>{ const output = document.getElementById(\"output_f192d2bdc341493fadeafceea668469c\"); const dest = document.getElementById(\"output_dest_f192d2bdc341493fadeafceea668469c\"); dest.parentNode.replaceChild(output, dest); })(); </script></div>"
      ],
      "text/plain": [
       "{'a': 1,\n",
       " 'b': 'A JAX array: [0 1 2 3 4 5 6 7 8 9]',\n",
       " 'c': [{'value': 'A JAX array: [ 0  1  2  3  4  5  6  7  8  9 10 11]'},\n",
       "  {'value': 'A JAX array: [0. 0. 0. 0. 0. 0. 0.]'},\n",
       "  {'value': 3}]}"
      ]
     },
     "execution_count": 54,
     "metadata": {},
     "output_type": "execute_result"
    }
   ],
   "source": [
    "selection = pz.select(my_nested_object).at_instances_of(jax.Array)\n",
    "selection.set_by_path(\n",
    "    {key: f\"A JAX array: {value}\" for key, value in selection.get_by_path().items()}\n",
    ")"
   ]
  },
  {
   "cell_type": "code",
   "execution_count": 55,
   "metadata": {
    "execution": {
     "iopub.execute_input": "2024-05-03T20:32:35.158039Z",
     "iopub.status.busy": "2024-05-03T20:32:35.157819Z",
     "iopub.status.idle": "2024-05-03T20:32:35.624866Z",
     "shell.execute_reply": "2024-05-03T20:32:35.623969Z"
    },
    "id": "YEpc6lCxel42"
   },
   "outputs": [
    {
     "data": {
      "text/html": [
       "<div id=\"output_c74bb935ea2a42ac84dc1ccac2c4ee61\"><script> /* penzai.treescope rendering of a Python object (compressed) */ (()=>{ let observer; let lastStep = new Promise((resolve, reject) => { observer = new IntersectionObserver((entries) => { for (const entry of entries) { if (entry.isIntersecting) { resolve(); observer.disconnect(); return; } } }, {rootMargin: \"1000px\"}); }); window.treescope_decompress_enqueue = (encoded, destId) => { const previous = lastStep; const destElt = document.getElementById(destId); lastStep = (async () => { await previous; let blob = new Blob([ Uint8Array.from(atob(encoded), (m) => m.codePointAt(0)) ]); let reader = blob.stream().pipeThrough( new DecompressionStream(\"deflate\") ).pipeThrough( new TextDecoderStream(\"utf-8\") ).getReader(); let parts = []; while (true) { let step = await reader.read(); if (step.done) { break; } parts.push(step.value); } let newElt = document.createElement(\"div\"); newElt.innerHTML = parts.join(\"\"); destElt.parentNode.replaceChild(newElt, destElt); for (let oldScript of newElt.querySelectorAll(\"script\")) { let newScript = document.createElement(\"script\"); newScript.type = oldScript.type; newScript.textContent = oldScript.textContent; oldScript.parentNode.replaceChild(newScript, oldScript); } })(); requestAnimationFrame(() => { observer.observe(destElt); }); } })(); </script><div id=\"compress_html_705ad9c51c4340a3a287aa2e8d4bac94\"><script>window.treescope_decompress_enqueue(\"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\", \"compress_html_705ad9c51c4340a3a287aa2e8d4bac94\");</script><span style=\"color: #aaaaaa; font-family: monospace\">(Loading...)</span></div></div>"
      ],
      "text/plain": [
       "<IPython.core.display.HTML object>"
      ]
     },
     "metadata": {},
     "output_type": "display_data"
    },
    {
     "data": {
      "text/html": [
       "<div id=\"compress_html_426fae49c9df4bf68e70a9148e412b9d\"><script>window.treescope_decompress_enqueue(\"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\", \"compress_html_426fae49c9df4bf68e70a9148e412b9d\");</script></div>"
      ],
      "text/plain": [
       "<IPython.core.display.HTML object>"
      ]
     },
     "metadata": {},
     "output_type": "display_data"
    },
    {
     "data": {
      "text/html": [
       "<div id=\"output_dest_c74bb935ea2a42ac84dc1ccac2c4ee61\"><script> (()=>{ const output = document.getElementById(\"output_c74bb935ea2a42ac84dc1ccac2c4ee61\"); const dest = document.getElementById(\"output_dest_c74bb935ea2a42ac84dc1ccac2c4ee61\"); dest.parentNode.replaceChild(output, dest); })(); </script></div>"
      ],
      "text/plain": [
       "OrderedDict([((DictKey(key='b'),),\n",
       "              <jax.Array([ 0.,  2.,  4.,  6.,  8., 10., 12., 14., 16., 18.], dtype=float32)>),\n",
       "             ((DictKey(key='c'), SequenceKey(idx=0), DictKey(key='value')),\n",
       "              <jax.Array([1., 1., 1., 1., 1., 1., 1., 1., 1., 1., 1., 1.], dtype=float32)>),\n",
       "             ((DictKey(key='c'), SequenceKey(idx=1), DictKey(key='value')),\n",
       "              <jax.Array([0., 0., 0., 0., 0., 0., 0.], dtype=float32)>)])"
      ]
     },
     "execution_count": 55,
     "metadata": {},
     "output_type": "execute_result"
    }
   ],
   "source": [
    "def my_loss(obj):\n",
    "  return obj[\"a\"] + jnp.sum(obj[\"b\"]**2) + jnp.sum(obj[\"c\"][0][\"value\"])\n",
    "\n",
    "my_float_object = jax.tree_util.tree_map(lambda leaf: jnp.array(leaf, dtype=jnp.float32), my_nested_object)\n",
    "\n",
    "# Take gradients w.r.t. non-scalars only, ignoring my_float_object[\"a\"] and my_float_object[\"c\"][2][\"value\"]\n",
    "gradient_selection = pz.select(my_float_object).at_instances_of(jax.Array).where(lambda arr: arr.size > 1)\n",
    "\n",
    "jax.grad(\n",
    "    # Swap in the version of the values that JAX is taking gradients for:\n",
    "    lambda vectors_by_path: my_loss(gradient_selection.set_by_path(vectors_by_path))\n",
    ")(gradient_selection.get_by_path())"
   ]
  },
  {
   "cell_type": "markdown",
   "metadata": {
    "id": "bkZAwu42ftwC"
   },
   "source": [
    "You can also use `select_and_set_by_path` to infer the selection from the input paths instead:"
   ]
  },
  {
   "cell_type": "code",
   "execution_count": 56,
   "metadata": {
    "execution": {
     "iopub.execute_input": "2024-05-03T20:32:35.628390Z",
     "iopub.status.busy": "2024-05-03T20:32:35.628167Z",
     "iopub.status.idle": "2024-05-03T20:32:35.726753Z",
     "shell.execute_reply": "2024-05-03T20:32:35.725946Z"
    },
    "id": "73vXA1ZvfxFK"
   },
   "outputs": [
    {
     "data": {
      "text/html": [
       "<div id=\"output_af180af5d7354730a74cef92fe698652\"><script> /* penzai.treescope rendering of a Python object (compressed) */ (()=>{ let observer; let lastStep = new Promise((resolve, reject) => { observer = new IntersectionObserver((entries) => { for (const entry of entries) { if (entry.isIntersecting) { resolve(); observer.disconnect(); return; } } }, {rootMargin: \"1000px\"}); }); window.treescope_decompress_enqueue = (encoded, destId) => { const previous = lastStep; const destElt = document.getElementById(destId); lastStep = (async () => { await previous; let blob = new Blob([ Uint8Array.from(atob(encoded), (m) => m.codePointAt(0)) ]); let reader = blob.stream().pipeThrough( new DecompressionStream(\"deflate\") ).pipeThrough( new TextDecoderStream(\"utf-8\") ).getReader(); let parts = []; while (true) { let step = await reader.read(); if (step.done) { break; } parts.push(step.value); } let newElt = document.createElement(\"div\"); newElt.innerHTML = parts.join(\"\"); destElt.parentNode.replaceChild(newElt, destElt); for (let oldScript of newElt.querySelectorAll(\"script\")) { let newScript = document.createElement(\"script\"); newScript.type = oldScript.type; newScript.textContent = oldScript.textContent; oldScript.parentNode.replaceChild(newScript, oldScript); } })(); requestAnimationFrame(() => { observer.observe(destElt); }); } })(); </script><div id=\"compress_html_0293172e866e4be0abfc37d3497674d0\"><script>window.treescope_decompress_enqueue(\"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\", \"compress_html_0293172e866e4be0abfc37d3497674d0\");</script><span style=\"color: #aaaaaa; font-family: monospace\">(Loading...)</span></div></div>"
      ],
      "text/plain": [
       "<IPython.core.display.HTML object>"
      ]
     },
     "metadata": {},
     "output_type": "display_data"
    },
    {
     "data": {
      "text/html": [
       "<div id=\"compress_html_c2f4bfc4b8264edc9fe1b6390438b95b\"><script>window.treescope_decompress_enqueue(\"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\", \"compress_html_c2f4bfc4b8264edc9fe1b6390438b95b\");</script></div>"
      ],
      "text/plain": [
       "<IPython.core.display.HTML object>"
      ]
     },
     "metadata": {},
     "output_type": "display_data"
    },
    {
     "data": {
      "text/html": [
       "<div id=\"output_dest_af180af5d7354730a74cef92fe698652\"><script> (()=>{ const output = document.getElementById(\"output_af180af5d7354730a74cef92fe698652\"); const dest = document.getElementById(\"output_dest_af180af5d7354730a74cef92fe698652\"); dest.parentNode.replaceChild(output, dest); })(); </script></div>"
      ],
      "text/plain": [
       "OrderedDict([((DictKey(key='b'),),\n",
       "              <jax.Array([ 0.,  2.,  4.,  6.,  8., 10., 12., 14., 16., 18.], dtype=float32)>),\n",
       "             ((DictKey(key='c'), SequenceKey(idx=0), DictKey(key='value')),\n",
       "              <jax.Array([1., 1., 1., 1., 1., 1., 1., 1., 1., 1., 1., 1.], dtype=float32)>),\n",
       "             ((DictKey(key='c'), SequenceKey(idx=1), DictKey(key='value')),\n",
       "              <jax.Array([0., 0., 0., 0., 0., 0., 0.], dtype=float32)>)])"
      ]
     },
     "execution_count": 56,
     "metadata": {},
     "output_type": "execute_result"
    }
   ],
   "source": [
    "def my_loss(obj):\n",
    "  return obj[\"a\"] + jnp.sum(obj[\"b\"]**2) + jnp.sum(obj[\"c\"][0][\"value\"])\n",
    "\n",
    "my_float_object = jax.tree_util.tree_map(lambda leaf: jnp.array(leaf, dtype=jnp.float32), my_nested_object)\n",
    "\n",
    "# Take gradients w.r.t. non-scalars only, ignoring my_float_object[\"a\"] and my_float_object[\"c\"][2][\"value\"]\n",
    "# No need to store the gradient selection itself, since it can be inferred from vectors_by_path.\n",
    "vectors_by_path = pz.select(my_float_object).at_instances_of(jax.Array).where(lambda arr: arr.size > 1).get_by_path()\n",
    "\n",
    "jax.grad(\n",
    "    lambda vectors_by_path: my_loss(pz.select(my_float_object).select_and_set_by_path(vectors_by_path))\n",
    ")(vectors_by_path)"
   ]
  },
  {
   "cell_type": "markdown",
   "metadata": {
    "id": "p91fKstrxqoe"
   },
   "source": [
    "### Applying functions to selected values\n",
    "\n",
    "You can use `.apply` to apply a function to every selected object, similar to `jax.tree_util.tree_map` except that it applies to the selected subtrees rather than to the leaves:"
   ]
  },
  {
   "cell_type": "code",
   "execution_count": 57,
   "metadata": {
    "execution": {
     "iopub.execute_input": "2024-05-03T20:32:35.730480Z",
     "iopub.status.busy": "2024-05-03T20:32:35.730203Z",
     "iopub.status.idle": "2024-05-03T20:32:35.822370Z",
     "shell.execute_reply": "2024-05-03T20:32:35.821518Z"
    },
    "id": "PrRQyM58xbOE"
   },
   "outputs": [
    {
     "data": {
      "text/html": [
       "<div id=\"output_ce1d3beeb0d04b6494986db2c8a734de\"><script> /* penzai.treescope rendering of a Python object (compressed) */ (()=>{ let observer; let lastStep = new Promise((resolve, reject) => { observer = new IntersectionObserver((entries) => { for (const entry of entries) { if (entry.isIntersecting) { resolve(); observer.disconnect(); return; } } }, {rootMargin: \"1000px\"}); }); window.treescope_decompress_enqueue = (encoded, destId) => { const previous = lastStep; const destElt = document.getElementById(destId); lastStep = (async () => { await previous; let blob = new Blob([ Uint8Array.from(atob(encoded), (m) => m.codePointAt(0)) ]); let reader = blob.stream().pipeThrough( new DecompressionStream(\"deflate\") ).pipeThrough( new TextDecoderStream(\"utf-8\") ).getReader(); let parts = []; while (true) { let step = await reader.read(); if (step.done) { break; } parts.push(step.value); } let newElt = document.createElement(\"div\"); newElt.innerHTML = parts.join(\"\"); destElt.parentNode.replaceChild(newElt, destElt); for (let oldScript of newElt.querySelectorAll(\"script\")) { let newScript = document.createElement(\"script\"); newScript.type = oldScript.type; newScript.textContent = oldScript.textContent; oldScript.parentNode.replaceChild(newScript, oldScript); } })(); requestAnimationFrame(() => { observer.observe(destElt); }); } })(); </script><div id=\"compress_html_1995642449ef42f2b68b9c7123dc9693\"><script>window.treescope_decompress_enqueue(\"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\", \"compress_html_1995642449ef42f2b68b9c7123dc9693\");</script><span style=\"color: #aaaaaa; font-family: monospace\">(Loading...)</span></div></div>"
      ],
      "text/plain": [
       "<IPython.core.display.HTML object>"
      ]
     },
     "metadata": {},
     "output_type": "display_data"
    },
    {
     "data": {
      "text/html": [
       "<div id=\"compress_html_95a2686c464d4ff0bb4f7c0688ea9b1b\"><script>window.treescope_decompress_enqueue(\"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\", \"compress_html_95a2686c464d4ff0bb4f7c0688ea9b1b\");</script></div>"
      ],
      "text/plain": [
       "<IPython.core.display.HTML object>"
      ]
     },
     "metadata": {},
     "output_type": "display_data"
    },
    {
     "data": {
      "text/html": [
       "<div id=\"output_dest_ce1d3beeb0d04b6494986db2c8a734de\"><script> (()=>{ const output = document.getElementById(\"output_ce1d3beeb0d04b6494986db2c8a734de\"); const dest = document.getElementById(\"output_dest_ce1d3beeb0d04b6494986db2c8a734de\"); dest.parentNode.replaceChild(output, dest); })(); </script></div>"
      ],
      "text/plain": [
       "{'a': 1,\n",
       " 'b': <jax.Array([100, 101, 104, 109, 116, 125, 136, 149, 164, 181], dtype=int32)>,\n",
       " 'c': [{'value': <jax.Array([100, 101, 104, 109, 116, 125, 136, 149, 164, 181, 200, 221], dtype=int32)>},\n",
       "  {'value': <jax.Array([100., 100., 100., 100., 100., 100., 100.], dtype=float32)>},\n",
       "  {'value': 3}]}"
      ]
     },
     "execution_count": 57,
     "metadata": {},
     "output_type": "execute_result"
    }
   ],
   "source": [
    "pz.select(my_nested_object).at_instances_of(jax.Array).apply(lambda x: x**2 + 100)"
   ]
  },
  {
   "cell_type": "markdown",
   "metadata": {
    "id": "CNBv2zCFysUP"
   },
   "source": [
    "You can also do `apply(fn, with_keypath=True)` to get access to the key paths as well:"
   ]
  },
  {
   "cell_type": "code",
   "execution_count": 58,
   "metadata": {
    "execution": {
     "iopub.execute_input": "2024-05-03T20:32:35.826045Z",
     "iopub.status.busy": "2024-05-03T20:32:35.825821Z",
     "iopub.status.idle": "2024-05-03T20:32:35.834384Z",
     "shell.execute_reply": "2024-05-03T20:32:35.833702Z"
    },
    "id": "8sT0FJ2yypAd"
   },
   "outputs": [
    {
     "data": {
      "text/html": [
       "<div id=\"output_b5d53931b54f4c7da2ddd2b7a503ff69\"><script> /* penzai.treescope rendering of a Python object (compressed) */ (()=>{ let observer; let lastStep = new Promise((resolve, reject) => { observer = new IntersectionObserver((entries) => { for (const entry of entries) { if (entry.isIntersecting) { resolve(); observer.disconnect(); return; } } }, {rootMargin: \"1000px\"}); }); window.treescope_decompress_enqueue = (encoded, destId) => { const previous = lastStep; const destElt = document.getElementById(destId); lastStep = (async () => { await previous; let blob = new Blob([ Uint8Array.from(atob(encoded), (m) => m.codePointAt(0)) ]); let reader = blob.stream().pipeThrough( new DecompressionStream(\"deflate\") ).pipeThrough( new TextDecoderStream(\"utf-8\") ).getReader(); let parts = []; while (true) { let step = await reader.read(); if (step.done) { break; } parts.push(step.value); } let newElt = document.createElement(\"div\"); newElt.innerHTML = parts.join(\"\"); destElt.parentNode.replaceChild(newElt, destElt); for (let oldScript of newElt.querySelectorAll(\"script\")) { let newScript = document.createElement(\"script\"); newScript.type = oldScript.type; newScript.textContent = oldScript.textContent; oldScript.parentNode.replaceChild(newScript, oldScript); } })(); requestAnimationFrame(() => { observer.observe(destElt); }); } })(); </script><div id=\"compress_html_782e0de8b993459dbe38e96106e4c8c4\"><script>window.treescope_decompress_enqueue(\"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\", \"compress_html_782e0de8b993459dbe38e96106e4c8c4\");</script><span style=\"color: #aaaaaa; font-family: monospace\">(Loading...)</span></div></div>"
      ],
      "text/plain": [
       "<IPython.core.display.HTML object>"
      ]
     },
     "metadata": {},
     "output_type": "display_data"
    },
    {
     "data": {
      "text/html": [
       "<div id=\"output_dest_b5d53931b54f4c7da2ddd2b7a503ff69\"><script> (()=>{ const output = document.getElementById(\"output_b5d53931b54f4c7da2ddd2b7a503ff69\"); const dest = document.getElementById(\"output_dest_b5d53931b54f4c7da2ddd2b7a503ff69\"); dest.parentNode.replaceChild(output, dest); })(); </script></div>"
      ],
      "text/plain": [
       "{'a': 1,\n",
       " 'b': \"key=(DictKey(key='b'),), value=[0 1 2 3 4 5 6 7 8 9]\",\n",
       " 'c': [{'value': \"key=(DictKey(key='c'), SequenceKey(idx=0), DictKey(key='value')), value=[ 0  1  2  3  4  5  6  7  8  9 10 11]\"},\n",
       "  {'value': \"key=(DictKey(key='c'), SequenceKey(idx=1), DictKey(key='value')), value=[0. 0. 0. 0. 0. 0. 0.]\"},\n",
       "  {'value': 3}]}"
      ]
     },
     "execution_count": 58,
     "metadata": {},
     "output_type": "execute_result"
    }
   ],
   "source": [
    "(\n",
    "    pz.select(my_nested_object)\n",
    "    .at_instances_of(jax.Array)\n",
    "    .apply(lambda key, value: f\"key={key}, value={value}\", with_keypath=True)\n",
    ")"
   ]
  },
  {
   "cell_type": "markdown",
   "metadata": {
    "id": "-RZGXU2ey_B7"
   },
   "source": [
    "By default, applying a function also removes the selection. If you want to do further processing, you can pass `keep_selected=True` to replace the values but keep them selected:"
   ]
  },
  {
   "cell_type": "code",
   "execution_count": 59,
   "metadata": {
    "execution": {
     "iopub.execute_input": "2024-05-03T20:32:35.838050Z",
     "iopub.status.busy": "2024-05-03T20:32:35.837839Z",
     "iopub.status.idle": "2024-05-03T20:32:35.856044Z",
     "shell.execute_reply": "2024-05-03T20:32:35.855311Z"
    },
    "id": "CtTI_jwXy9il"
   },
   "outputs": [
    {
     "data": {
      "text/html": [
       "<div id=\"output_589102941aeb4bf5979d3ab7fb3ef749\"><script> /* penzai.treescope rendering of a Python object (compressed) */ (()=>{ let observer; let lastStep = new Promise((resolve, reject) => { observer = new IntersectionObserver((entries) => { for (const entry of entries) { if (entry.isIntersecting) { resolve(); observer.disconnect(); return; } } }, {rootMargin: \"1000px\"}); }); window.treescope_decompress_enqueue = (encoded, destId) => { const previous = lastStep; const destElt = document.getElementById(destId); lastStep = (async () => { await previous; let blob = new Blob([ Uint8Array.from(atob(encoded), (m) => m.codePointAt(0)) ]); let reader = blob.stream().pipeThrough( new DecompressionStream(\"deflate\") ).pipeThrough( new TextDecoderStream(\"utf-8\") ).getReader(); let parts = []; while (true) { let step = await reader.read(); if (step.done) { break; } parts.push(step.value); } let newElt = document.createElement(\"div\"); newElt.innerHTML = parts.join(\"\"); destElt.parentNode.replaceChild(newElt, destElt); for (let oldScript of newElt.querySelectorAll(\"script\")) { let newScript = document.createElement(\"script\"); newScript.type = oldScript.type; newScript.textContent = oldScript.textContent; oldScript.parentNode.replaceChild(newScript, oldScript); } })(); requestAnimationFrame(() => { observer.observe(destElt); }); } })(); </script><div id=\"compress_html_6071a4bdfc2d4805a01b51d6468f60cf\"><script>window.treescope_decompress_enqueue(\"eNrtHAtT2kr3r2zTmQpXQYKCioX5AvKyVavYau3tMJtk85CQxGQDYsf//p3d8AoE6rOtvdpOkc05e95Pse99OrBIKU09QnzFcUnbcxyKfiDX8U1qOnYBecTC1OyRXaQ5Nk1puGtagwLqOrbju1iB875hUpLibwrI9eDEMn2a4len6MCFU9ux4VjGSkf3nMBWU4pjOV4hRN1Fw3eyBQBwn6lSo4A0kwKYTYlNd1EXe7pppyyi0QLKKgajYZOUQUzdgBMxndtFt+/XQ3He+4pnurSETA0l+qatOv2JhKhYLCJggWhwgZoEWech0I/b3bnjdNsltmrauqQwzfgA9u37T8Ea2FYtdqUdWFYMtE5oe0b7RZQYKb1NnSQqloDJ9X/QR8fpgBE8RA2COKTtqCSN/llHFqFoiDuFyk0DxBPhszdFpDpK0AWFpmVHHaB379Ab9iStWNj3P4LR0kzh2LT9hBBlSkgipqoRDYbkYg9uqlqkyy10C5Rp4Nn8IbyNkdUL7Jbj2EzAvuN1hpIBSZ8CZ2dwxB5FjqmpsEOXeCB4F9sKSdtOP5Ecizb3BKVCpPdoI8tYjvOBWVOmLWLr1ADXQJk4j1hu01BupgFi+WTCuhHYjPefEvcNU6NMJI7BvrmFP3flITGC9MhVQHwq2WYXM4iah7skEeo1mYy3yCwrbuAboW1276K4ERPFUBX3Ud3d2Y5lnNiAFZA9ohHPI+op6brg9sSfdyDXYodjxwc0b9AiFlGo40mWBY4+xJ1OgoHd9sFTheQuD7gEiy+4CTkav5AJCq9TceORrtMjkaiZumNRJCRGvLL7Nc+5ISw4+M1h4ouymxDCxMauZBjwblo0xSMgxjAgp2HhuzTLwwAcEuHvhufkmlZCYlOPJ4e7nJ0w1g9ZuvEIaEshFQg/NQE3rDEAZqeFtqKOrlthGmnz7E+BMZ7l4IRYdA2RHtw+VAVzO/4+3SEDFpGCJ4xSDwBP6Ty8NyGM72x3gUFhxMctgnoQFoL3qtlDHLE4m9cQxTIwTK6LQkZAjg1EgXt7Ci6e/wQ1TH/EuQAlJyykvJK1FafLbMCdkFe2t5h/MaZmQHDBdmiiYID3eMkY+CG4HXRl4k1dmNnZFnP5CYAPTNn6NMUNMSeyqpjWHEvFMkjAysWC2g58RcDaodAArZo+GHwwquGzgKiELCwTq1CQCYQKmeJA4V+7sfTCQp4SWSUf1vvM7oSWafPyLlsOawgW0uRam6esYq/jE6yDBe15bK7wmSMD+4kSv7MUq4fQSIpBlA70DEn0T3LCA0ONRxrBRzjkUVVAK/9mc7Ky8jvZiyItZDL/C5hkdmSEA89nBnQdEzjwYuia/tOR5aHACaV4GPuLfPxpqE7EY+l1nkra9Nua6fm07dht5v4xobUslNLZHIumWFOhR7MfWnyWRSZVpDXnAX2bZhkVFKu2FVYmnshbpnLRMDFESCvYUhIwGkADKLrXvArM8AE17NlYkR1PBUcKWVEdCkQZG+gtybA/TClOAK4mO9dtMGYb3nAb/1iU9FyssrYJ8iIYlnQZheuUb97wsyE1OOJiskv7JjWe99an0d0ailXEsxlmWF26+HoyTd5CX4UtGxrNNsyrmnkNeHy6BU0QppttpprbtM8bL4i3tszqPvYGABhqCaZQsK7vWKaKlAG2ZzyA+eH0w+m7RslnqlqFQJyF/nCklUHgEA+aL+jreLz5zxxQYPU4es8ZOCChAd2l2u5jzwY3nFXPW03DirgRA+hCF/lj5NEpb7gJYAlomBeGR6lMmmfGyfqhwLcH2EvpHlZN1i2LGzmV6GvI8bCtE5QBH8grBvS28N4Pu9/wCIWJZZ6Vudz4ZBqLZLmRMLfpvkFsaCMtC7s+JJufdmr3Jr6EQphUOA0ORK5dGOwWwjwFH3EkhoKGAJPRIk4V0bY/HZ0Z0JIbZkW1I1NMPOBdiC28Z8jy/4brNoWMktNo9bZyAOHpmdhCrUEX0oSPjsIcqqLRJFdx3MHKMKHwyYRd63WxNZNkNjNQmXxPKaDAsxIqprjAnq/3HU3L7srYJ/nNNTWzUz/QpbLEv5rHkuTw78onffi3UZOkqrTsq9yVJL3jfFCb1XKl/1WSTr9W9qWDZrki1fTrZuOjQf3ygUn0jdreefZjM/+113ID89NB7lTcP2+efDnonR3c0E+DWq2yeqZ3Ts3yXsYw946D/apav8w05HWt11Tdqw954+rMNI+DA7tuNLTPVPqcLx96m1KtaXeqeeVzENirJ7krxe/0e1rNWr+61qvOti7v9+vbYkNat6WT3EfP2xdPVvWbzImakfY1UT/cqvTrl1k94wyCk62tblXM9xvnO0e67pLTzmCTNOWbnCJ7R3WKJf24edjfw/7APw6azfOzaq0vfTp2m1/Vz+vrq/rW6db5Bs1oHz5dSb0c3PlROtySDvpSV785aa0GFy1SPb/Oannl5nDzpDHIBWXpw0350q25G2bjuFLNXASfNltbtlb+WG3UDrqSubrdq2YNWzS2VuUv/fPLfsPr7dU/V+xLrVrV6eqRcmFZW7mdyn6/vG3sbB4c1Fsb9QtJ7zZzl+XjHXpaJ42darncrG/s6Zsn61+VgSzVwaZfPqxLx3UskYOKJTVuqkf6BdXz5U/60VFzr9wxj3OkVj6vlGuKmXENz3Ft8A33oron3oidllbRqDH4YDdUXPMbWuawW68e5suqdPXli4up37roqio2d7Lazc7mZ/PyKu92vfyR87XSMr16t7df32idtTZq1axSPtZOVxuW49Y3a34/h/Wr/LZ5QVqHlntmlxtNoh54JDi7qle64lnN67Ra17ls/uzM70vAURLxDSFNrHC3Xkk+RU6C6B7IAaWOHZtuJo/j5ioBCTNQ0OtDmYkH/peIm6qw+9AkAMEud0zA5MmgCwnJ4N0etimgmxDj6ngDP+5W5yaxSHu0w9ujiJThCBcjRfxEPsFM9zF0GZbJFDvGxxqNbDtGq4RlNGdwoiSnVY962EukUizbpbANhuV7x+T0MSPCFrKs+g8HLn4tEn1EQGMpqMfQuN5PlDEHYBiTqG+inHCS6I3ZdR2PYnvubtlzOrwcu4PJvPxz7U6hTelzPJTM/shkbnln8IUtxw9FQ0UE2c1WUCKkEN3igySnDnM8ABtywM58QjlTTKWMD9zHJkU27pk6po6Xhptd2cGemu57JiWnMCAnJneBJYZ3TZZ/0PUlhCl98z0noadml4BhxovVObzRonYG9XYNZTOZDE8NCqbQ5yX4cBtPd0qpwoS56Co1AeZ9i2rYtMAZqIMY8Bsek9DQ2TB+WANoGXxKsMp8YnVad8MV5mR/yVxptMCM7A+FknszHC0SAA5gUeC5AVhY9nzmYXTpNtvfAnCYMN+bthtQxHbKwB1LkTDbCbGXDLMpPAwzaen9OkeO0jXgJg9IdNoUWl9CBa6bVIcMoG4YRUEo/RjJuj5kYQp9ZeL9K8ixK8zIxZUlHs1XuckVNA7DopCwcFdWMV86F/i/SQHxSCkKU/EKaTgGkuXc2ewCkNyyTAD4fqjo0liMJ7bcnAbjXChcGQuld2+vs1u7OHyJclRA9zLMtxW88j2WVri/Fkpi9P61CGh03hBKKE4vkWFA+AWW50ItMP+7q8Chu4twwqcP9oa7+sbjbS8/xPZLcsXTpoaYGBfiVkgzHM0txea3OTMYC1Yfd4AS7uyjwsweSCi9ReHP94ha+Lnl70D850EqLwjSsVNwvwWEYmLPVOgHMkiwNxFfSa4l16B9sQJS/JZBIsqiDbSJciiPttA22vke3rHUo5e8vIy8ID8gL8gvKS8od8gLzxj49/NqhXn1t1/eGHDC93YD5fFu8Ne3eVxL3zLff0e7N6L9EMMytD/Ftg8Iep7UXxuC/1JDEDrttxVu+sc0B8qoOQARrgJiK4Q9N9XrYgbO5uGnfC056SdQBkFHAS0F9BTQVEBXAW0F9BXQWKAdJEK7IT6yv1hmnLU/pLuYMcoDM9EE/0m7jvDl9kW1a781oz+wafuza7P4G2uz+DBLiq+1+bU2v7TaLD5vbRbvUZszaTT39z9SjMVHFmPxtRj/ISn8jyvGjynC2d9YhLMPs2D2v1mEF5hveW4f/eRk42Umzewjk2b21yTNl6PO3xRwcS/fX5byfseS9qE+95f8QPun9XbmwwzJNKbtYYL0Yz/Q8Ksmm/iKPMPu0k7rnUV3N5AfyNxSa8gwdcNiH7skKsKy0yPv9EnPvMQV3qKlt8zqOGb+Wjbh/B0/OSgllsn/h8r4KltcBI0/Ez3zcOY3NoTSJb7mn1NrB9S00tEwGE2zT6k5Nhk/ywct7lQ+Iy/J8ai34PhOE+CLG39eI+HviQTlqSPhL3X5Z3KL6RXgU7oGWyfe3zVGM27m1R1es8SdVi0Pd41Xp3otq69l9TWP/ofKqvjqDq9Z4o8tq4/AfOSycQyqmr3FvwG36L8aSyTHv5/1fzjsy6c=\", \"compress_html_6071a4bdfc2d4805a01b51d6468f60cf\");</script><span style=\"color: #aaaaaa; font-family: monospace\">(Loading...)</span></div></div>"
      ],
      "text/plain": [
       "<IPython.core.display.HTML object>"
      ]
     },
     "metadata": {},
     "output_type": "display_data"
    },
    {
     "data": {
      "text/html": [
       "<div id=\"output_dest_589102941aeb4bf5979d3ab7fb3ef749\"><script> (()=>{ const output = document.getElementById(\"output_589102941aeb4bf5979d3ab7fb3ef749\"); const dest = document.getElementById(\"output_dest_589102941aeb4bf5979d3ab7fb3ef749\"); dest.parentNode.replaceChild(output, dest); })(); </script></div>"
      ],
      "text/plain": [
       "Selection(\n",
       "  selected_by_path=OrderedDict({\n",
       "    (DictKey(key='b'),):\n",
       "      \"key=(DictKey(key='b'),), value=[0 1 2 3 4 5 6 7 8 9]\",\n",
       "    (DictKey(key='c'), SequenceKey(idx=0), DictKey(key='value')):\n",
       "      \"key=(DictKey(key='c'), SequenceKey(idx=0), DictKey(key='value')), value=[ 0  1  2  3  4  5  6  7  8  9 10 11]\",\n",
       "    (DictKey(key='c'), SequenceKey(idx=1), DictKey(key='value')):\n",
       "      \"key=(DictKey(key='c'), SequenceKey(idx=1), DictKey(key='value')), value=[0. 0. 0. 0. 0. 0. 0.]\",\n",
       "  }),\n",
       "  remainder={'a': 1, 'b': SelectionHole(path=(DictKey(key='b'),)), 'c': [{'value': SelectionHole(path=(DictKey(key='c'), SequenceKey(idx=0), DictKey(key='value')))}, {'value': SelectionHole(path=(DictKey(key='c'), SequenceKey(idx=1), DictKey(key='value')))}, {'value': 3}]},\n",
       ")"
      ]
     },
     "execution_count": 59,
     "metadata": {},
     "output_type": "execute_result"
    }
   ],
   "source": [
    "(\n",
    "    pz.select(my_nested_object)\n",
    "    .at_instances_of(jax.Array)\n",
    "    .apply(lambda key, value: f\"key={key}, value={value}\", with_keypath=True, keep_selected=True)\n",
    ")"
   ]
  },
  {
   "cell_type": "markdown",
   "metadata": {
    "id": "YJujHVUOzmtm"
   },
   "source": [
    "Sometimes, it's also useful to pass the index of the selected node relative to the *selection* (e.g. \"this is the third selected node\") instead of the absolute keypath. For this, theres `.apply_with_selected_index`:"
   ]
  },
  {
   "cell_type": "code",
   "execution_count": 60,
   "metadata": {
    "execution": {
     "iopub.execute_input": "2024-05-03T20:32:35.859403Z",
     "iopub.status.busy": "2024-05-03T20:32:35.859201Z",
     "iopub.status.idle": "2024-05-03T20:32:35.877011Z",
     "shell.execute_reply": "2024-05-03T20:32:35.876299Z"
    },
    "id": "xLrWVjiazLVS"
   },
   "outputs": [
    {
     "data": {
      "text/html": [
       "<div id=\"output_434ab38a4d9345be9489d14d80ac0567\"><script> /* penzai.treescope rendering of a Python object (compressed) */ (()=>{ let observer; let lastStep = new Promise((resolve, reject) => { observer = new IntersectionObserver((entries) => { for (const entry of entries) { if (entry.isIntersecting) { resolve(); observer.disconnect(); return; } } }, {rootMargin: \"1000px\"}); }); window.treescope_decompress_enqueue = (encoded, destId) => { const previous = lastStep; const destElt = document.getElementById(destId); lastStep = (async () => { await previous; let blob = new Blob([ Uint8Array.from(atob(encoded), (m) => m.codePointAt(0)) ]); let reader = blob.stream().pipeThrough( new DecompressionStream(\"deflate\") ).pipeThrough( new TextDecoderStream(\"utf-8\") ).getReader(); let parts = []; while (true) { let step = await reader.read(); if (step.done) { break; } parts.push(step.value); } let newElt = document.createElement(\"div\"); newElt.innerHTML = parts.join(\"\"); destElt.parentNode.replaceChild(newElt, destElt); for (let oldScript of newElt.querySelectorAll(\"script\")) { let newScript = document.createElement(\"script\"); newScript.type = oldScript.type; newScript.textContent = oldScript.textContent; oldScript.parentNode.replaceChild(newScript, oldScript); } })(); requestAnimationFrame(() => { observer.observe(destElt); }); } })(); </script><div id=\"compress_html_928e37acbfdd4ea49f4a8d863aef1761\"><script>window.treescope_decompress_enqueue(\"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\", \"compress_html_928e37acbfdd4ea49f4a8d863aef1761\");</script><span style=\"color: #aaaaaa; font-family: monospace\">(Loading...)</span></div></div>"
      ],
      "text/plain": [
       "<IPython.core.display.HTML object>"
      ]
     },
     "metadata": {},
     "output_type": "display_data"
    },
    {
     "data": {
      "text/html": [
       "<div id=\"output_dest_434ab38a4d9345be9489d14d80ac0567\"><script> (()=>{ const output = document.getElementById(\"output_434ab38a4d9345be9489d14d80ac0567\"); const dest = document.getElementById(\"output_dest_434ab38a4d9345be9489d14d80ac0567\"); dest.parentNode.replaceChild(output, dest); })(); </script></div>"
      ],
      "text/plain": [
       "Selection(\n",
       "  selected_by_path=OrderedDict({\n",
       "    (DictKey(key='b'),):\n",
       "      'index=0, value=[0 1 2 3 4 5 6 7 8 9]',\n",
       "    (DictKey(key='c'), SequenceKey(idx=0), DictKey(key='value')):\n",
       "      'index=1, value=[ 0  1  2  3  4  5  6  7  8  9 10 11]',\n",
       "    (DictKey(key='c'), SequenceKey(idx=1), DictKey(key='value')):\n",
       "      'index=2, value=[0. 0. 0. 0. 0. 0. 0.]',\n",
       "  }),\n",
       "  remainder={'a': 1, 'b': SelectionHole(path=(DictKey(key='b'),)), 'c': [{'value': SelectionHole(path=(DictKey(key='c'), SequenceKey(idx=0), DictKey(key='value')))}, {'value': SelectionHole(path=(DictKey(key='c'), SequenceKey(idx=1), DictKey(key='value')))}, {'value': 3}]},\n",
       ")"
      ]
     },
     "execution_count": 60,
     "metadata": {},
     "output_type": "execute_result"
    }
   ],
   "source": [
    "(\n",
    "    pz.select(my_nested_object)\n",
    "    .at_instances_of(jax.Array)\n",
    "    .apply_with_selected_index(lambda index, value: f\"index={index}, value={value}\", keep_selected=True)\n",
    ")"
   ]
  },
  {
   "cell_type": "markdown",
   "metadata": {
    "id": "zpbos5v2z9BI"
   },
   "source": [
    "### Manipulating selected elements of lists and tuples"
   ]
  },
  {
   "cell_type": "markdown",
   "metadata": {
    "id": "iqvDVZkn0GSq"
   },
   "source": [
    "When the selected nodes are elements of a list or tuple, there are a few other options for selector manipulation. For instance, you can insert values before or after the selected nodes:"
   ]
  },
  {
   "cell_type": "code",
   "execution_count": 61,
   "metadata": {
    "execution": {
     "iopub.execute_input": "2024-05-03T20:32:35.880614Z",
     "iopub.status.busy": "2024-05-03T20:32:35.880345Z",
     "iopub.status.idle": "2024-05-03T20:32:35.890141Z",
     "shell.execute_reply": "2024-05-03T20:32:35.889570Z"
    },
    "id": "Ptualckcz45d"
   },
   "outputs": [
    {
     "data": {
      "text/html": [
       "<div id=\"output_7cf70a1403df4808a1d22709b51ff22e\"><script> /* penzai.treescope rendering of a Python object (compressed) */ (()=>{ let observer; let lastStep = new Promise((resolve, reject) => { observer = new IntersectionObserver((entries) => { for (const entry of entries) { if (entry.isIntersecting) { resolve(); observer.disconnect(); return; } } }, {rootMargin: \"1000px\"}); }); window.treescope_decompress_enqueue = (encoded, destId) => { const previous = lastStep; const destElt = document.getElementById(destId); lastStep = (async () => { await previous; let blob = new Blob([ Uint8Array.from(atob(encoded), (m) => m.codePointAt(0)) ]); let reader = blob.stream().pipeThrough( new DecompressionStream(\"deflate\") ).pipeThrough( new TextDecoderStream(\"utf-8\") ).getReader(); let parts = []; while (true) { let step = await reader.read(); if (step.done) { break; } parts.push(step.value); } let newElt = document.createElement(\"div\"); newElt.innerHTML = parts.join(\"\"); destElt.parentNode.replaceChild(newElt, destElt); for (let oldScript of newElt.querySelectorAll(\"script\")) { let newScript = document.createElement(\"script\"); newScript.type = oldScript.type; newScript.textContent = oldScript.textContent; oldScript.parentNode.replaceChild(newScript, oldScript); } })(); requestAnimationFrame(() => { observer.observe(destElt); }); } })(); </script><div id=\"compress_html_d5fe83f50b0e4d799c9333863cffbf35\"><script>window.treescope_decompress_enqueue(\"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\", \"compress_html_d5fe83f50b0e4d799c9333863cffbf35\");</script><span style=\"color: #aaaaaa; font-family: monospace\">(Loading...)</span></div></div>"
      ],
      "text/plain": [
       "<IPython.core.display.HTML object>"
      ]
     },
     "metadata": {},
     "output_type": "display_data"
    },
    {
     "data": {
      "text/html": [
       "<div id=\"output_dest_7cf70a1403df4808a1d22709b51ff22e\"><script> (()=>{ const output = document.getElementById(\"output_7cf70a1403df4808a1d22709b51ff22e\"); const dest = document.getElementById(\"output_dest_7cf70a1403df4808a1d22709b51ff22e\"); dest.parentNode.replaceChild(output, dest); })(); </script></div>"
      ],
      "text/plain": [
       "{'a': ['before a multiple of 4',\n",
       "  0,\n",
       "  1,\n",
       "  2,\n",
       "  3,\n",
       "  'before a multiple of 4',\n",
       "  4,\n",
       "  5,\n",
       "  6,\n",
       "  7,\n",
       "  'before a multiple of 4',\n",
       "  8,\n",
       "  9],\n",
       " 'b': [10,\n",
       "  11,\n",
       "  'before a multiple of 4',\n",
       "  12,\n",
       "  13,\n",
       "  14,\n",
       "  15,\n",
       "  'before a multiple of 4',\n",
       "  16,\n",
       "  17,\n",
       "  18,\n",
       "  19]}"
      ]
     },
     "execution_count": 61,
     "metadata": {},
     "output_type": "execute_result"
    }
   ],
   "source": [
    "(\n",
    "    pz.select({\"a\": list(range(10)), \"b\": list(range(10, 20))})\n",
    "      .at_instances_of(int)\n",
    "      .where(lambda x: x % 4 == 0)\n",
    "      .insert_before(\"before a multiple of 4\")\n",
    ")"
   ]
  },
  {
   "cell_type": "code",
   "execution_count": 62,
   "metadata": {
    "execution": {
     "iopub.execute_input": "2024-05-03T20:32:35.893289Z",
     "iopub.status.busy": "2024-05-03T20:32:35.893063Z",
     "iopub.status.idle": "2024-05-03T20:32:35.902772Z",
     "shell.execute_reply": "2024-05-03T20:32:35.902076Z"
    },
    "id": "tIf27Qx40hP3"
   },
   "outputs": [
    {
     "data": {
      "text/html": [
       "<div id=\"output_28db7fab89fe4a4290ffe64a4ef74390\"><script> /* penzai.treescope rendering of a Python object (compressed) */ (()=>{ let observer; let lastStep = new Promise((resolve, reject) => { observer = new IntersectionObserver((entries) => { for (const entry of entries) { if (entry.isIntersecting) { resolve(); observer.disconnect(); return; } } }, {rootMargin: \"1000px\"}); }); window.treescope_decompress_enqueue = (encoded, destId) => { const previous = lastStep; const destElt = document.getElementById(destId); lastStep = (async () => { await previous; let blob = new Blob([ Uint8Array.from(atob(encoded), (m) => m.codePointAt(0)) ]); let reader = blob.stream().pipeThrough( new DecompressionStream(\"deflate\") ).pipeThrough( new TextDecoderStream(\"utf-8\") ).getReader(); let parts = []; while (true) { let step = await reader.read(); if (step.done) { break; } parts.push(step.value); } let newElt = document.createElement(\"div\"); newElt.innerHTML = parts.join(\"\"); destElt.parentNode.replaceChild(newElt, destElt); for (let oldScript of newElt.querySelectorAll(\"script\")) { let newScript = document.createElement(\"script\"); newScript.type = oldScript.type; newScript.textContent = oldScript.textContent; oldScript.parentNode.replaceChild(newScript, oldScript); } })(); requestAnimationFrame(() => { observer.observe(destElt); }); } })(); </script><div id=\"compress_html_59cdec7380bc4cc6815b7eb0d80f9c24\"><script>window.treescope_decompress_enqueue(\"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\", \"compress_html_59cdec7380bc4cc6815b7eb0d80f9c24\");</script><span style=\"color: #aaaaaa; font-family: monospace\">(Loading...)</span></div></div>"
      ],
      "text/plain": [
       "<IPython.core.display.HTML object>"
      ]
     },
     "metadata": {},
     "output_type": "display_data"
    },
    {
     "data": {
      "text/html": [
       "<div id=\"output_dest_28db7fab89fe4a4290ffe64a4ef74390\"><script> (()=>{ const output = document.getElementById(\"output_28db7fab89fe4a4290ffe64a4ef74390\"); const dest = document.getElementById(\"output_dest_28db7fab89fe4a4290ffe64a4ef74390\"); dest.parentNode.replaceChild(output, dest); })(); </script></div>"
      ],
      "text/plain": [
       "{'a': [0,\n",
       "  'after a multiple of 4',\n",
       "  1,\n",
       "  2,\n",
       "  3,\n",
       "  4,\n",
       "  'after a multiple of 4',\n",
       "  5,\n",
       "  6,\n",
       "  7,\n",
       "  8,\n",
       "  'after a multiple of 4',\n",
       "  9],\n",
       " 'b': [10,\n",
       "  11,\n",
       "  12,\n",
       "  'after a multiple of 4',\n",
       "  13,\n",
       "  14,\n",
       "  15,\n",
       "  16,\n",
       "  'after a multiple of 4',\n",
       "  17,\n",
       "  18,\n",
       "  19]}"
      ]
     },
     "execution_count": 62,
     "metadata": {},
     "output_type": "execute_result"
    }
   ],
   "source": [
    "(\n",
    "    pz.select({\"a\": list(range(10)), \"b\": list(range(10, 20))})\n",
    "      .at_instances_of(int)\n",
    "      .where(lambda x: x % 4 == 0)\n",
    "      .insert_after(\"after a multiple of 4\")\n",
    ")"
   ]
  },
  {
   "cell_type": "markdown",
   "metadata": {
    "id": "BFg6JxQq0tMW"
   },
   "source": [
    "You can also just remove the selected nodes:"
   ]
  },
  {
   "cell_type": "code",
   "execution_count": 63,
   "metadata": {
    "execution": {
     "iopub.execute_input": "2024-05-03T20:32:35.906146Z",
     "iopub.status.busy": "2024-05-03T20:32:35.905944Z",
     "iopub.status.idle": "2024-05-03T20:32:35.914468Z",
     "shell.execute_reply": "2024-05-03T20:32:35.913895Z"
    },
    "id": "PzLdrjdq0raZ"
   },
   "outputs": [
    {
     "data": {
      "text/html": [
       "<div id=\"output_734e47ba386a4c7482c5398ff40da7d9\"><script> /* penzai.treescope rendering of a Python object (compressed) */ (()=>{ let observer; let lastStep = new Promise((resolve, reject) => { observer = new IntersectionObserver((entries) => { for (const entry of entries) { if (entry.isIntersecting) { resolve(); observer.disconnect(); return; } } }, {rootMargin: \"1000px\"}); }); window.treescope_decompress_enqueue = (encoded, destId) => { const previous = lastStep; const destElt = document.getElementById(destId); lastStep = (async () => { await previous; let blob = new Blob([ Uint8Array.from(atob(encoded), (m) => m.codePointAt(0)) ]); let reader = blob.stream().pipeThrough( new DecompressionStream(\"deflate\") ).pipeThrough( new TextDecoderStream(\"utf-8\") ).getReader(); let parts = []; while (true) { let step = await reader.read(); if (step.done) { break; } parts.push(step.value); } let newElt = document.createElement(\"div\"); newElt.innerHTML = parts.join(\"\"); destElt.parentNode.replaceChild(newElt, destElt); for (let oldScript of newElt.querySelectorAll(\"script\")) { let newScript = document.createElement(\"script\"); newScript.type = oldScript.type; newScript.textContent = oldScript.textContent; oldScript.parentNode.replaceChild(newScript, oldScript); } })(); requestAnimationFrame(() => { observer.observe(destElt); }); } })(); </script><div id=\"compress_html_097a877aa2334d5da98cf8d8c5c441aa\"><script>window.treescope_decompress_enqueue(\"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\", \"compress_html_097a877aa2334d5da98cf8d8c5c441aa\");</script><span style=\"color: #aaaaaa; font-family: monospace\">(Loading...)</span></div></div>"
      ],
      "text/plain": [
       "<IPython.core.display.HTML object>"
      ]
     },
     "metadata": {},
     "output_type": "display_data"
    },
    {
     "data": {
      "text/html": [
       "<div id=\"output_dest_734e47ba386a4c7482c5398ff40da7d9\"><script> (()=>{ const output = document.getElementById(\"output_734e47ba386a4c7482c5398ff40da7d9\"); const dest = document.getElementById(\"output_dest_734e47ba386a4c7482c5398ff40da7d9\"); dest.parentNode.replaceChild(output, dest); })(); </script></div>"
      ],
      "text/plain": [
       "{'a': [1, 2, 3, 5, 6, 7, 9], 'b': [10, 11, 13, 14, 15, 17, 18, 19]}"
      ]
     },
     "execution_count": 63,
     "metadata": {},
     "output_type": "execute_result"
    }
   ],
   "source": [
    "(\n",
    "    pz.select({\"a\": list(range(10)), \"b\": list(range(10, 20))})\n",
    "      .at_instances_of(int)\n",
    "      .where(lambda x: x % 4 == 0)\n",
    "      .remove_from_parent()\n",
    ")"
   ]
  },
  {
   "cell_type": "markdown",
   "metadata": {
    "id": "ELI6wOnC0yMI"
   },
   "source": [
    "If you want more control, or if you want to use the selected value to determine what to insert, you can use the method `.apply_and_inline`. This works like `.apply`, except that your function should return a *sequence* of values, and those values will be spliced into the original list or tuple in the same position as the original selected nodes."
   ]
  },
  {
   "cell_type": "code",
   "execution_count": 64,
   "metadata": {
    "execution": {
     "iopub.execute_input": "2024-05-03T20:32:35.917829Z",
     "iopub.status.busy": "2024-05-03T20:32:35.917590Z",
     "iopub.status.idle": "2024-05-03T20:32:35.927841Z",
     "shell.execute_reply": "2024-05-03T20:32:35.927308Z"
    },
    "id": "l7M2_YQF0vzy"
   },
   "outputs": [
    {
     "data": {
      "text/html": [
       "<div id=\"output_f144ad67d48a4a4197ea5f6f6b9dafe8\"><script> /* penzai.treescope rendering of a Python object (compressed) */ (()=>{ let observer; let lastStep = new Promise((resolve, reject) => { observer = new IntersectionObserver((entries) => { for (const entry of entries) { if (entry.isIntersecting) { resolve(); observer.disconnect(); return; } } }, {rootMargin: \"1000px\"}); }); window.treescope_decompress_enqueue = (encoded, destId) => { const previous = lastStep; const destElt = document.getElementById(destId); lastStep = (async () => { await previous; let blob = new Blob([ Uint8Array.from(atob(encoded), (m) => m.codePointAt(0)) ]); let reader = blob.stream().pipeThrough( new DecompressionStream(\"deflate\") ).pipeThrough( new TextDecoderStream(\"utf-8\") ).getReader(); let parts = []; while (true) { let step = await reader.read(); if (step.done) { break; } parts.push(step.value); } let newElt = document.createElement(\"div\"); newElt.innerHTML = parts.join(\"\"); destElt.parentNode.replaceChild(newElt, destElt); for (let oldScript of newElt.querySelectorAll(\"script\")) { let newScript = document.createElement(\"script\"); newScript.type = oldScript.type; newScript.textContent = oldScript.textContent; oldScript.parentNode.replaceChild(newScript, oldScript); } })(); requestAnimationFrame(() => { observer.observe(destElt); }); } })(); </script><div id=\"compress_html_3c7b24ad36e74cf492025f5a92d81088\"><script>window.treescope_decompress_enqueue(\"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\", \"compress_html_3c7b24ad36e74cf492025f5a92d81088\");</script><span style=\"color: #aaaaaa; font-family: monospace\">(Loading...)</span></div></div>"
      ],
      "text/plain": [
       "<IPython.core.display.HTML object>"
      ]
     },
     "metadata": {},
     "output_type": "display_data"
    },
    {
     "data": {
      "text/html": [
       "<div id=\"output_dest_f144ad67d48a4a4197ea5f6f6b9dafe8\"><script> (()=>{ const output = document.getElementById(\"output_f144ad67d48a4a4197ea5f6f6b9dafe8\"); const dest = document.getElementById(\"output_dest_f144ad67d48a4a4197ea5f6f6b9dafe8\"); dest.parentNode.replaceChild(output, dest); })(); </script></div>"
      ],
      "text/plain": [
       "{'a': ['before',\n",
       "  'the value was 0',\n",
       "  'after',\n",
       "  1,\n",
       "  2,\n",
       "  3,\n",
       "  'before',\n",
       "  'the value was 4',\n",
       "  'after',\n",
       "  5,\n",
       "  6,\n",
       "  7,\n",
       "  'before',\n",
       "  'the value was 8',\n",
       "  'after',\n",
       "  9],\n",
       " 'b': [10,\n",
       "  11,\n",
       "  'before',\n",
       "  'the value was 12',\n",
       "  'after',\n",
       "  13,\n",
       "  14,\n",
       "  15,\n",
       "  'before',\n",
       "  'the value was 16',\n",
       "  'after',\n",
       "  17,\n",
       "  18,\n",
       "  19]}"
      ]
     },
     "execution_count": 64,
     "metadata": {},
     "output_type": "execute_result"
    }
   ],
   "source": [
    "(\n",
    "    pz.select({\"a\": list(range(10)), \"b\": list(range(10, 20))})\n",
    "      .at_instances_of(int)\n",
    "      .where(lambda x: x % 4 == 0)\n",
    "      .apply_and_inline(lambda x: [\"before\", f\"the value was {x}\", \"after\"])\n",
    ")"
   ]
  },
  {
   "cell_type": "markdown",
   "metadata": {
    "id": "DaIykx2UVgaM"
   },
   "source": [
    "## Taking advantage of key paths"
   ]
  },
  {
   "cell_type": "markdown",
   "metadata": {
    "id": "hoF1YE4VVF6M"
   },
   "source": [
    "Many of the selector functions allow you to use the PyTree path to each selected in addition to its value:"
   ]
  },
  {
   "cell_type": "code",
   "execution_count": 65,
   "metadata": {
    "execution": {
     "iopub.execute_input": "2024-05-03T20:32:35.931790Z",
     "iopub.status.busy": "2024-05-03T20:32:35.931564Z",
     "iopub.status.idle": "2024-05-03T20:32:35.952321Z",
     "shell.execute_reply": "2024-05-03T20:32:35.951684Z"
    },
    "id": "YCK_xieQVi8r"
   },
   "outputs": [
    {
     "data": {
      "text/html": [
       "<div id=\"output_dbf2392c531f4dcb9cc7be6c67fd3f15\"><script> /* penzai.treescope rendering of a Python object (compressed) */ (()=>{ let observer; let lastStep = new Promise((resolve, reject) => { observer = new IntersectionObserver((entries) => { for (const entry of entries) { if (entry.isIntersecting) { resolve(); observer.disconnect(); return; } } }, {rootMargin: \"1000px\"}); }); window.treescope_decompress_enqueue = (encoded, destId) => { const previous = lastStep; const destElt = document.getElementById(destId); lastStep = (async () => { await previous; let blob = new Blob([ Uint8Array.from(atob(encoded), (m) => m.codePointAt(0)) ]); let reader = blob.stream().pipeThrough( new DecompressionStream(\"deflate\") ).pipeThrough( new TextDecoderStream(\"utf-8\") ).getReader(); let parts = []; while (true) { let step = await reader.read(); if (step.done) { break; } parts.push(step.value); } let newElt = document.createElement(\"div\"); newElt.innerHTML = parts.join(\"\"); destElt.parentNode.replaceChild(newElt, destElt); for (let oldScript of newElt.querySelectorAll(\"script\")) { let newScript = document.createElement(\"script\"); newScript.type = oldScript.type; newScript.textContent = oldScript.textContent; oldScript.parentNode.replaceChild(newScript, oldScript); } })(); requestAnimationFrame(() => { observer.observe(destElt); }); } })(); </script><div id=\"compress_html_1a8d0d3415a5471888cb9a6342f51559\"><script>window.treescope_decompress_enqueue(\"eNrtXAtT2kwX/ivbdKbCqyB3BKvzBeRmq1ax1dq3w2ySTbISkpgsIHb879/ZDQiBSK3X2rc6U2Rzds/92XMO2vc+G1lkO8k8QnzVcUnHcxyGfiDX8Smjjl1GHrEwowOyiXTHZgkd96g1KqOeYzu+i1VYH5qUkYR4U0auBysW9VlCHJ1gIxdWbceGZQWrXcNz+raWUB3L8crB1k00fqdYQADnUY2ZZaRTBmQ2IzbbRD3sGdROWERnZZRRTc7DJgmTUMOElXQyv4mu368H6rz3VY+6bBtRHcWG1Nac4VRDtLW1hUAEosMBWhx0XaRAP643F5aTHZfYGrUNWeWW8YHs2/efkjWxrVn8SLtvWRHUBmGdOetvodjE6B3mxNHWNgi5/g/66DhdcIKHmEmQoLQdjSTRP+vIIgyN985sFa4B5rHg2ZstpDlqvwcGTSqONkLv3qE3/ElStbDvfwSnJbnBMbX9mBQWSoojbqoJD77JxR6cVLNIT3joGjizvmeLh/A2Qlevb7cdx+YKDh2vO9YMWPoMJDuBJf4otMyoyhdd4oHiPWyrJGk7w1j8RrWFJygRbHqPshkuclQMzLsyaRHbYCaEBkpFRcRynwZ6cwsQyydT0c2+zWX/KXPfpDrjKokd/Idr+L6rDLEJpUcu+sRnsk17mFPUPdwjscCu8Xi0R+ZFcfu+Gfhm8y6GmwixFZjiV0x3d7EjBSc27OqTHaITzyPaMem5EPbEXwwg1+KLN4EP27xRm1hEZY4nWxYE+njvLAj27Y4PkSrFN0XCxXh+wUnI0cWBXFF4nckbj/ScAQllzcwZt2VCbCIrP1/3nCvCk0OcHABfWNyYFAAbP5LvgHezqqkeATXGCTlLCz8lOQ4DccBEvBuvk0tWDZjNPJ4ubgpxglzf53DjEbCWSqqQfloMTljjBNxPt/qKOYZhBTDSEejPQDCBcrBCLLaGyABOH5uCh514n+ySEc9IyZMm0APEMzYPzo1JN2d2eiCgNJHjGsF9EFwE7zU6QGLj1jyuIYYVEJhcbkkpCTk2MAXp7Rm6aPljzKT+RHIJrpzgIhU3WUd1etwHIgjFzfYWiy8u1BwJLtsOi5VNiB4vHkE/Jrf7PYV4MwemShvpfGFK4INQtjHLMZvOp/mtmNTGSdIRjjMdSwudhIv8e3y9CzXKiDJsUZVv1oEcK6A+v2tuKQxAqRBZJ7AYUGvUB6ajSQEwT4i2kYUVYpXLCoE8IzNSqeJrM5JfUAUk0rwMGBcLqc0pL2qL2kCxHF5N3MpTmHyRs4a9rk+wAe63F3cLb80tmdiPbYsztyPtEHhYNYnahYIjjv6JT2XgW6M3TehDEoqULKOVfzN5RV15SfHCm24VsvAMQnI/csZ9z+cOdB0KEngRfKn/eGxFKghGCYEB/m0x/jhcp+pxbF7kkqR+R6eezzqO3eHhH5Fay1IpmcnzbIp0FXqw+IHH50XkWoXqepHQ10kOx2BYraPyO+aRomUGi8bAEGKtYkuNQV8B1WPavRRXyJwccAE+mSiK4wEmj0XRHAZMuRjoLUnxb24Upw+hpjiXHXBmB94IH/+4DfRcrPGaC3ARHEt6nMNlwqdXYm3MDZaEmvzQIWXm0576OLZbQ5GGeDLHjG+XHr6ctqLXUJRhy4YqtQPNrk4vYV9wd9Irwm2zwU1znfRF1Qb51lF40YC9ERAGVoIWFrzrOxbVkDrC9lwE8DicfTh71gR8Zm6rgEiIMBz3wwooHOyDyg2KQpFv/hMnFHg9it9TJg5oaGJe2gyxZ0MYzpvnra5jNZ2NIHShBP0xieiENx4jcAAa48J4KZFKCmSczi7KYvSAvYThYY3yUjudzWvEWEOOh22DoBTEQEE1oTCG935QOgdLKACWRVEWsPHRLBZCuYky18mhSWyoQS0Luz6AzU8rtV9mvoRDACqChyAily50hbfSPIYcUSzGigYE074kyhThniEZbjjQkhPmVbVDLVA04V2Y3XrOWOT/jWd1KpmA02Rut7IH6elRbKH2qAcw4aODAEM1NGkDq447Wgn3AzYfsVhzIJNLwc3ke2oZ9T0rpmGGy/z5+tDR9cymgn1SyK1pqVJjz5ArsvhqHcqyI36qHA3h32Zdlmvysq9KT5aNrvNBa9Uq1eFXWT7+Wt2V91qVqlw3LlvNjybzK3uUGNn6zmnmY6vwddB2+/TTXv44vXvaOvqyNzjZu2KfRvV6dfXE6B7Tyk7KpDuH/d2a1jhPNZV1fdDS3IsPBfPihNLD/p7dMJv6ZyZ/LlT2vZxcb9ndWkH93O/bq0f5C9XvDgd63Vq/uDRqzoah7A4bG+mmvG7LR/mPnrebPlo1rlJHWkre1dPGfrE6bJxnjJQz6h8Vi71aujBsnpYODMMlx91RjrSUq7yqeAcNhmXjsLU/3MH+yD/st1qnJ7X6UP506La+ap/X11eN4nHxNMtS+odPF/IgD2d+lPeL8t5Q7hlXR+3V/lmb1E4vM3pBvdrPHTVH+X5F/nBVOXfrbpY2D6u11Fn/U65dtPXKx1qzvteT6erGoJYx7bRZXFW+DE/Ph01vsNP4XLXP9VrNYKsH6pllFfOl6u6wsmGWcnt7jXa2cSYbvVb+vHJYYscN0izVKpVWI7tj5I7Wv6ojRW6AT798WJcPG1gme1VLbl7VDowzZhQqn4yDg9ZOpUsP86ReOa1W6ipNuabnuDbEhntW20lfpbttvaozc/TBbmq47jf11H6vUdsvVDT54ssXFzO/fdbTNExLGf2qlPtMzy8Kbs8rHDhfq23qNXqD3Ua2fdLO1msZtXKoH682Lcdt5Or+MI+Ni8IGPSPtfcs9sSvNFtH2PNI/uWhUe+mTutdtty/zmcLJiT+UQaI4EuNFFlsRYb0SfwxMguweKX3GHDsSbqaPo/oqCUlzVFDrwzUTTfwvSec0afO+IADJrnQp7BRg0ANAMkW1h20G2ynkuHYzvr+pVhc6sVB5VBLlUUjLoIWL0CK6I5/uTA4xVBkW5Ya92Y91FhpwTEYJy3jO7QmznDU9GmAvlkhwtEtgGxwrhpbx2WXOhE9z+e0/brjEsSjtIwIWS8B9DIXrr6lyIwE4hhLtTVgSwRK9oT3X8Ri2F85WPKcrrmN3NO2Xf27dmW0z9rxpSuY/b1mY/Jli2iv2B6qhLQToZqsoFnAIfwQAmhw7PPCAbCwBX/MJE0Jxk3I58BBThmw8oAZmjpeEk13FwZ6WHHqUkWNokGPTs8AT47Omk0Oo+mLSjL3FkJSwY9oj4JibqezCvsmUd27r9RrKpFIpAQ0qZlDnxURzG813xqjSVLjwHDYG7n2L6phaEAzMQZz4jchJKOhsaD+sEZQMPiNY4zGxOmu78fxzOvzkoTSZfoaGj9K2ezVuLWJADmRh4oUGWFr2fO5heOg2X98CcQCY76nt9hniA2mQjkMk9HZS5CFjNIWHAZJuv18Xm8N8TTjJAxbdDoPSlzBJ2CbRJSO4N8wtSdr+MdF1fSzCzPaVafSvIMeucidvrSyJaDEHjq+gmzTckmIW7ikaFhPrsvg3LiGRKVvSTL4CDEdQcsydRxegFJ7lCsDPY0Nv36jxyJ5bsGBUCAXzZmn73dvLTHETBy9hicrolxzzbQWvfI/kFQy/pe10+Py1EGm435C2UZRdQs2A9AyeF0rd4v53F32Hbd62J3h672i4a2w83PfKMt9TbUu6+fxBK2hadqOgpXSSz2VSRVzAOK+lS6qul1JaOrcMQR4CGFOgiMh4KerjEdDNYpvn+DIpex7mWMuymVg6tQbFWzKJ3hlsM9LQryMklXuEpPKaQlK9Axw9WnQ97Dr6tqJy1Pv27HeSYPzLYaA+PAye6556zgIkCleiBtVzIi6M3hdnxnM7bhmw3oFKujPsSHPTZmn7LQp+BYFo5Z8n8x2YP51rHpCE31LfX6I2nPC+Tyryba8kG6NgeoCtPrlz9VBSSH5D3dBzaimfg8ZHyebz6dKGntEyRZJWCr999ZD5WfWwLEHXfpPaIYi6byvCdyv3jdrp/ketKYKX6zvQvMay7UVx4p7F2++J9OkXRPr0/TyY/g8hPU5lMykN0F1R9VypmMWKnk7jvK6WNorFjVLp90V63XIwx/rinwL16QdCffp5oP71APiLpf9vB+CP0Dd/y7wgkGfu58nMnw3k9+jN/7biL9iK3zXPbmB86YQ++8ul9yu7DzMPvA8zz9T6vBpzvhCGRr18f13Ge4nZ7X1j7g/5iPWnyDX38Xo8iVlnDKV+5Efsz3VPRhdZc+IuLaJ5o5NBfl8RnlpDJjVMi/8iINEQVpwBme11loTCW7T0lHkbR9zmy+7LP+NXFrZjy/T/TXX8q1tUBt38lu7cw7m/IZC2+RCBJ0Wnz6iVDKfBDlXZBzJ6VMsBLG09yeesd7o+Qy/xX+viX90M8qnCos3/dNpWyWOHBtUu7xEakx4g9Vjh8DeQ/mLnX+z8i53/IezM/A2Hvyhxp3nrS1yrD9j5wD76hlSjg9v/3OC2/xQmFr/5Zfj/A+DwjEs=\", \"compress_html_1a8d0d3415a5471888cb9a6342f51559\");</script><span style=\"color: #aaaaaa; font-family: monospace\">(Loading...)</span></div></div>"
      ],
      "text/plain": [
       "<IPython.core.display.HTML object>"
      ]
     },
     "metadata": {},
     "output_type": "display_data"
    },
    {
     "data": {
      "text/html": [
       "<div id=\"compress_html_2ed4dabcba6d4113897cb415421cd38f\"><script>window.treescope_decompress_enqueue(\"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\", \"compress_html_2ed4dabcba6d4113897cb415421cd38f\");</script></div>"
      ],
      "text/plain": [
       "<IPython.core.display.HTML object>"
      ]
     },
     "metadata": {},
     "output_type": "display_data"
    },
    {
     "data": {
      "text/html": [
       "<div id=\"output_dest_dbf2392c531f4dcb9cc7be6c67fd3f15\"><script> (()=>{ const output = document.getElementById(\"output_dbf2392c531f4dcb9cc7be6c67fd3f15\"); const dest = document.getElementById(\"output_dest_dbf2392c531f4dcb9cc7be6c67fd3f15\"); dest.parentNode.replaceChild(output, dest); })(); </script></div>"
      ],
      "text/plain": [
       "Selection(\n",
       "  selected_by_path=OrderedDict({\n",
       "    (DictKey(key='c'), SequenceKey(idx=0)):\n",
       "      {\n",
       "        'value': <jax.Array([ 0,  1,  2,  3,  4,  5,  6,  7,  8,  9, 10, 11], dtype=int32)>,\n",
       "      },\n",
       "    (DictKey(key='c'), SequenceKey(idx=2), DictKey(key='value')):\n",
       "      3,\n",
       "  }),\n",
       "  remainder={\n",
       "    'a': 1,\n",
       "    'b': <jax.Array([0, 1, 2, 3, 4, 5, 6, 7, 8, 9], dtype=int32)>,\n",
       "    'c': [SelectionHole(path=(DictKey(key='c'), SequenceKey(idx=0))), {'value': <jax.Array([0., 0., 0., 0., 0., 0., 0.], dtype=float32)>}, {'value': SelectionHole(path=(DictKey(key='c'), SequenceKey(idx=2), DictKey(key='value')))}],\n",
       "  },\n",
       ")"
      ]
     },
     "execution_count": 65,
     "metadata": {},
     "output_type": "execute_result"
    }
   ],
   "source": [
    "# Selecting by keypath directly\n",
    "pz.select(my_nested_object).at_keypaths([\n",
    "    (jax.tree_util.DictKey(key='c'), jax.tree_util.SequenceKey(idx=2), jax.tree_util.DictKey(key='value')),\n",
    "    (jax.tree_util.DictKey(key='c'), jax.tree_util.SequenceKey(idx=0)),\n",
    "])"
   ]
  },
  {
   "cell_type": "code",
   "execution_count": 66,
   "metadata": {
    "execution": {
     "iopub.execute_input": "2024-05-03T20:32:35.955459Z",
     "iopub.status.busy": "2024-05-03T20:32:35.955257Z",
     "iopub.status.idle": "2024-05-03T20:32:35.976512Z",
     "shell.execute_reply": "2024-05-03T20:32:35.975793Z"
    },
    "id": "FEf1mpRX1T17"
   },
   "outputs": [
    {
     "data": {
      "text/html": [
       "<div id=\"output_794cb1ba37dd4dfa8ebdf6f9332edfa8\"><script> /* penzai.treescope rendering of a Python object (compressed) */ (()=>{ let observer; let lastStep = new Promise((resolve, reject) => { observer = new IntersectionObserver((entries) => { for (const entry of entries) { if (entry.isIntersecting) { resolve(); observer.disconnect(); return; } } }, {rootMargin: \"1000px\"}); }); window.treescope_decompress_enqueue = (encoded, destId) => { const previous = lastStep; const destElt = document.getElementById(destId); lastStep = (async () => { await previous; let blob = new Blob([ Uint8Array.from(atob(encoded), (m) => m.codePointAt(0)) ]); let reader = blob.stream().pipeThrough( new DecompressionStream(\"deflate\") ).pipeThrough( new TextDecoderStream(\"utf-8\") ).getReader(); let parts = []; while (true) { let step = await reader.read(); if (step.done) { break; } parts.push(step.value); } let newElt = document.createElement(\"div\"); newElt.innerHTML = parts.join(\"\"); destElt.parentNode.replaceChild(newElt, destElt); for (let oldScript of newElt.querySelectorAll(\"script\")) { let newScript = document.createElement(\"script\"); newScript.type = oldScript.type; newScript.textContent = oldScript.textContent; oldScript.parentNode.replaceChild(newScript, oldScript); } })(); requestAnimationFrame(() => { observer.observe(destElt); }); } })(); </script><div id=\"compress_html_bb11118638f74656b56b85b04ed2ab1c\"><script>window.treescope_decompress_enqueue(\"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\", \"compress_html_bb11118638f74656b56b85b04ed2ab1c\");</script><span style=\"color: #aaaaaa; font-family: monospace\">(Loading...)</span></div></div>"
      ],
      "text/plain": [
       "<IPython.core.display.HTML object>"
      ]
     },
     "metadata": {},
     "output_type": "display_data"
    },
    {
     "data": {
      "text/html": [
       "<div id=\"compress_html_0c8cc861e1d541cf9ec27550b8442707\"><script>window.treescope_decompress_enqueue(\"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\", \"compress_html_0c8cc861e1d541cf9ec27550b8442707\");</script></div>"
      ],
      "text/plain": [
       "<IPython.core.display.HTML object>"
      ]
     },
     "metadata": {},
     "output_type": "display_data"
    },
    {
     "data": {
      "text/html": [
       "<div id=\"output_dest_794cb1ba37dd4dfa8ebdf6f9332edfa8\"><script> (()=>{ const output = document.getElementById(\"output_794cb1ba37dd4dfa8ebdf6f9332edfa8\"); const dest = document.getElementById(\"output_dest_794cb1ba37dd4dfa8ebdf6f9332edfa8\"); dest.parentNode.replaceChild(output, dest); })(); </script></div>"
      ],
      "text/plain": [
       "Selection(\n",
       "  selected_by_path=OrderedDict({\n",
       "    (DictKey(key='c'), SequenceKey(idx=0), DictKey(key='value')):\n",
       "      <jax.Array([ 0,  1,  2,  3,  4,  5,  6,  7,  8,  9, 10, 11], dtype=int32)>,\n",
       "    (DictKey(key='c'), SequenceKey(idx=1), DictKey(key='value')):\n",
       "      <jax.Array([0., 0., 0., 0., 0., 0., 0.], dtype=float32)>,\n",
       "  }),\n",
       "  remainder={\n",
       "    'a': 1,\n",
       "    'b': <jax.Array([0, 1, 2, 3, 4, 5, 6, 7, 8, 9], dtype=int32)>,\n",
       "    'c': [{'value': SelectionHole(path=(DictKey(key='c'), SequenceKey(idx=0), DictKey(key='value')))}, {'value': SelectionHole(path=(DictKey(key='c'), SequenceKey(idx=1), DictKey(key='value')))}, {'value': 3}],\n",
       "  },\n",
       ")"
      ]
     },
     "execution_count": 66,
     "metadata": {},
     "output_type": "execute_result"
    }
   ],
   "source": [
    "# Selecting by keypath and value\n",
    "(\n",
    "    pz.select(my_nested_object)\n",
    "    .at_subtrees_where(\n",
    "        lambda path, subtree: len(path) == 3 and isinstance(subtree, jax.Array),\n",
    "        with_keypath=True)\n",
    ")"
   ]
  },
  {
   "cell_type": "code",
   "execution_count": 67,
   "metadata": {
    "execution": {
     "iopub.execute_input": "2024-05-03T20:32:35.980322Z",
     "iopub.status.busy": "2024-05-03T20:32:35.980053Z",
     "iopub.status.idle": "2024-05-03T20:32:35.987680Z",
     "shell.execute_reply": "2024-05-03T20:32:35.986933Z"
    },
    "id": "W-jfNUWTVaw3"
   },
   "outputs": [
    {
     "data": {
      "text/html": [
       "<div id=\"output_e29dbf4885f04192ab3068c37e7b682f\"><script> /* penzai.treescope rendering of a Python object (compressed) */ (()=>{ let observer; let lastStep = new Promise((resolve, reject) => { observer = new IntersectionObserver((entries) => { for (const entry of entries) { if (entry.isIntersecting) { resolve(); observer.disconnect(); return; } } }, {rootMargin: \"1000px\"}); }); window.treescope_decompress_enqueue = (encoded, destId) => { const previous = lastStep; const destElt = document.getElementById(destId); lastStep = (async () => { await previous; let blob = new Blob([ Uint8Array.from(atob(encoded), (m) => m.codePointAt(0)) ]); let reader = blob.stream().pipeThrough( new DecompressionStream(\"deflate\") ).pipeThrough( new TextDecoderStream(\"utf-8\") ).getReader(); let parts = []; while (true) { let step = await reader.read(); if (step.done) { break; } parts.push(step.value); } let newElt = document.createElement(\"div\"); newElt.innerHTML = parts.join(\"\"); destElt.parentNode.replaceChild(newElt, destElt); for (let oldScript of newElt.querySelectorAll(\"script\")) { let newScript = document.createElement(\"script\"); newScript.type = oldScript.type; newScript.textContent = oldScript.textContent; oldScript.parentNode.replaceChild(newScript, oldScript); } })(); requestAnimationFrame(() => { observer.observe(destElt); }); } })(); </script><div id=\"compress_html_b3699d1568074bd884adb9a1fae32ac9\"><script>window.treescope_decompress_enqueue(\"eNrtWgtT2kob/ivbdKZCFQQUrCjOF5CbFq1iq7Wnw2ySTbISdmOyAfGM//17dwNy1bbWU9szR2cENu/l2fe+i7uhGHpkLy0CQkKT+6QTcC7Q38jnIRWUsyIKiIcF7ZMdZHMmUjbuUW9YRD3OeOhjE9YHLhUkpT4UkR/AikdDkVKiU2LowyrjDJYNbHadgEfMSpnc40ExZt1Bo0+GBwQgj1rCLSKbCiBjgjCxg3o4cChLecQWRZQzXamDkZRLqOPCSjad30F3u+vxdnZDM6C+2EPURokBZRYfTHaISqUSAgjEBgFWEva6SIH+vttZWE53fMIsyhzdlJYJgezL12+SNTCzPCmSRZ63hNohojNn/RJKjI3eETyJSnsAcv0tes95F5wQIOESpCgZt0gavV1HHhFoxDvFqlwDyhPxs1clZHEz6oFB0wa3hujNG/RKPkmbHg7D9+C0tDQ4pixMaLOgtCSSphrrkEw+DkBS1SM95aE70CyigKmH8HHJXoOItTlncoMDHnRHOwOVoQBk57AkH80sC2rKRZ8EsPEeZiZJMz5IJO+3tvAEpWKmXbSRk5CXxcC8K9MeYY5wITRQZllEPO7TeN/SAsQLyQS6GzGJ/ZvKQ5faQm5Jccg3d/D7vRgSY8qAXEckFDqjPSwpagHukURs12RyuUfmofhR6Ma+2fkew41BlGJT/Ijpvh/2UuCEAVdE9olNgoBYZ6TnQ9iTcDGAfE8u3gc+sAXDNvGIKXigex4E+oh3ughGrBNCpGrJHZVwCZlfIAlxWwmUG4XXqbwJSI/3yUzWTMl4KBMSY6xSvh3wWyKTQ0mOC98s3IQWFzYpUnLAp+mtmQGBbYwScpoW3qVlHQbiWIn6NFonN6ISK5t6PFncUXDiXD+S5SYgYC2TVCD9rARIWJME0k8P+kpwx/HiMtJR1V8AMFXlYIV4Yg2RPkgfmUKGnfqc7pKhzEgt0MalB4inbB7LTWj3Mjs9AKiNcdwh6AdxI9i1aB8pxtJ8XUMCGwCY3JS0jIY4A6WAnk3RLcefEC4Nx8g1aDlxI1WdrMOinkECFYOqsb3ObL/L5guAaUQQggjmTBHgjWw+K3tY2uaehQ3QJ4v7A534Ds2SdWKIQG3RENwzHHfceUK0hzxsEK9YNAgENplCYKqfnaX64rabysq+O+rOmZ2JLspUMzY8Ltv3gzpdyJBgUbOFg25IsAP2ZovcRcZFYm7JxWFiT8ncW2oHxVM0XWJ2ocMn0dvkBINkXc40pp9BqHKgiFb+yuUNc+Ul4c0yPQiy8AtASj9KxVEQSgf6nAKCYIleGj6fWpUKSlFKJV34UIw/j9bJ9mQxXNSSpmHHpkEoOpx1ZPgvSa3HUimdy8tsWuoq9NPwY4/PQ5S7mhmkVULfpWX9A8NaHVMW9WeKlqlaNCoMM6pN7JkJGORhXMv6N6pmz+GAjvOPQTF4YEEgxVAsLkCphIFek4z8lUYJXeh5VmeAAwalujOOwXG5tG1sZjeWEPrQ28D12JJDTyoYnU+koUf7Hy2lMmkVAZNDUVGdaXCQcgJsUdnDsxt5izhriAeYOQRlUCZdMF3ouPA5jHtyvIRiAy5CWYiBZzPpjDfHm7lLD1zCOmAkD/shGPWbHemHlT+iIe5DSociIjc+jJsP0jwHjmUqRhv93+i8bMpSMHN2XmnBnBZQ7KH2sGdwGFCPIyFhWWg8ilW4P1wZHbnVaCHFwjHHG60NRgffzQwEaxiYRRQFXsLCAhfl8/UBt+3cjoFDUthcszLb9Zajl3X10zzRda7elU8H8LdR0/Wq/thPuafrTpcfWs1quTL4rOtnnysHeqtZrug156bZeO+KsNyixNmo7V/k3jcLn/ttP6IfWvmz7MFF8/RTq3/euhUfhrVaZfXc6Z7R8n7Gpfsn0UHVql9lGsa63W9a/vVhwb0+p/QkarG627A/Cv1joXwUbOq1JutWC+bHKGKrp/lrM+wO+nbNW7++car8nWMcDOrvsg19nemn+fdBcJA9XXVuM6dWRj+ws87RVmVQv8o5GT6MTre2etVsYdC42D52HJ+cdYebpGnc5k0jOK4LrDsnzaPBPg6H4UnUbF6cV2sD/cOJ3/xsfVxfX3W2zrYuNkTGPvxwrffzIPO9frSltwZ6z7k9ba9Gl21SvbjJ2QXz9mjztDHMR2X98LZ85df8Ddo4qVQzl9GHzfYWs8vvq41aq6fT1Xf9as5lWXdr1fg0uLgaNIL+fv1jhV3Z1aojVo/NS8/bym9XDgbld+72ZqtVb2/UL3Wn18xflU+2xVmdNLar5XKzvrHvbJ6ufzaHhl4Hn346XNdP6lgnrYqnN26rx86lcArlD87xcXO/3KUneVIrX1TKNZNmfDfgPoPY8C+r+9nbbLdtV2zhDg9Zw8K1sGFnjnr16lGhbOnXnz75WITty55lYbqds2+3Nz/Sq+uC3wsKx/xzpU2Deq9/UN9on7c3atWcWT6xz1YbHvfrm7VwkMfOdeEdvSTtI88/Z+VGk1itgETn1/VKL3teC7rt9k0+Vzg/Dwc6IEoidcQXiRUV1ivJ50hfGO2HRiQEZ0uL1OTxslFLQ9ocFbR/qMjLif8i2U1L23lqEYBkN7oUOFUx6MExxIXqXkSYCWCnkOPW/RXafQNbGM5ibnoLlSST3ia9+V3GU92SXSwf0iec6QEOO6ZHpWHv+bEtZg5A49PFYzrneGZVTpse9XGQSKVktUthBo5VFwfJ6WWpRN6oyEY5msGUWJQNEQGLpaB18Uj82FbuEYBjKLFezSJRKtEr2vN5IDBbkG0EvKs6lz+cjNDftu4U25Q97+eU+TvPhdO3q25cFH+8NTh5Q3VjJkrEGmav4WAnZ1wGHpCNEMi1kAgFSppU4sADTAViuE8dLHgAp3LqGxwHVnoQUEHOYGZOTGSBJ0ayJqd3GJAS2pS91UUFEWe0R8Ax9zcjC3zjm5Y51rs1lMtkMqo0mFjASJRQ8+5yvVNG1SbgZu9CEuDe16iGqQfBIDiSxK9UTsLswyLseUOYJkJBsCVjYnXadqM7iMkFhAyl8Q3E7Ol4fkDT9nbjMrZLmR8JJK9qSpoqXAa/0ZYKGdU4eBjXt73ddcU8q9cFSQGo6HYEzG5EaApxqkuGUM3dkqbt/Q2AgQHYRxCm2FcmMbmCOKtI05dWHokzdUOSXEH3yVHSEh7uGRZWdzlF9TepIRW/JW0qi6A4LqGUlXA+54FS2VtuAN5rMeK9+23EL9NGWDhjaI89175hwdnH03c72t6b1ze5rR0cv8wiKqIfcsyXFbzydamu+KJJ28vOyl+bIZ0dmLU9tMwuM9Os9gs8rzb1gPvfXEdc7DzEEz99cjR8b2z8vO+NZ/G98YDv73XFxtqnpjgkwwRwlmbUJ9dGFvsTY8R4QowYf1KMmN8RIzO1/uX6w5cVU4bil1/eJJTiHw4D8+fD4Nkax+/a8pWVvmS+vkTrH+t+imMl2+/i2yckfR97EXmW5hDb4suKkvjURmGOGwVqyy9jmUnkc2rdlDKwtkg/BT+5tLc81jXWfpPOMme5J0bhhP9ZO078cvdHteoXzeYnNuzfuy5nX7AuZ5/myex/dXnKff9YXc7+u+ty9ifrcva/uvybZPNvV5d/ph7nXrAe557mwdx/9XjKfY/X4/Fl2safWTRzP1k0c7+maP455nyhhFv28vXPMt5L3NU8Neb+Jd9xjF8s2n/4u8CH/ms6kbz/pur/PdyJyw==\", \"compress_html_b3699d1568074bd884adb9a1fae32ac9\");</script><span style=\"color: #aaaaaa; font-family: monospace\">(Loading...)</span></div></div>"
      ],
      "text/plain": [
       "<IPython.core.display.HTML object>"
      ]
     },
     "metadata": {},
     "output_type": "display_data"
    },
    {
     "data": {
      "text/html": [
       "<div id=\"output_dest_e29dbf4885f04192ab3068c37e7b682f\"><script> (()=>{ const output = document.getElementById(\"output_e29dbf4885f04192ab3068c37e7b682f\"); const dest = document.getElementById(\"output_dest_e29dbf4885f04192ab3068c37e7b682f\"); dest.parentNode.replaceChild(output, dest); })(); </script></div>"
      ],
      "text/plain": [
       "{'a': 1,\n",
       " 'b': \"(DictKey(key='b'),)\",\n",
       " 'c': [{'value': \"(DictKey(key='c'), SequenceKey(idx=0), DictKey(key='value'))\"},\n",
       "  {'value': \"(DictKey(key='c'), SequenceKey(idx=1), DictKey(key='value'))\"},\n",
       "  {'value': 3}]}"
      ]
     },
     "execution_count": 67,
     "metadata": {},
     "output_type": "execute_result"
    }
   ],
   "source": [
    "# Setting values by keypath\n",
    "pz.select(my_nested_object).at_instances_of(jax.Array).set_by_path(lambda path: str(path))"
   ]
  },
  {
   "cell_type": "code",
   "execution_count": 68,
   "metadata": {
    "execution": {
     "iopub.execute_input": "2024-05-03T20:32:35.991264Z",
     "iopub.status.busy": "2024-05-03T20:32:35.991017Z",
     "iopub.status.idle": "2024-05-03T20:32:35.999477Z",
     "shell.execute_reply": "2024-05-03T20:32:35.998889Z"
    },
    "id": "vedT4F3FV1Hq"
   },
   "outputs": [
    {
     "data": {
      "text/html": [
       "<div id=\"output_ed819367cd9a4d78bb34e984b871157a\"><script> /* penzai.treescope rendering of a Python object (compressed) */ (()=>{ let observer; let lastStep = new Promise((resolve, reject) => { observer = new IntersectionObserver((entries) => { for (const entry of entries) { if (entry.isIntersecting) { resolve(); observer.disconnect(); return; } } }, {rootMargin: \"1000px\"}); }); window.treescope_decompress_enqueue = (encoded, destId) => { const previous = lastStep; const destElt = document.getElementById(destId); lastStep = (async () => { await previous; let blob = new Blob([ Uint8Array.from(atob(encoded), (m) => m.codePointAt(0)) ]); let reader = blob.stream().pipeThrough( new DecompressionStream(\"deflate\") ).pipeThrough( new TextDecoderStream(\"utf-8\") ).getReader(); let parts = []; while (true) { let step = await reader.read(); if (step.done) { break; } parts.push(step.value); } let newElt = document.createElement(\"div\"); newElt.innerHTML = parts.join(\"\"); destElt.parentNode.replaceChild(newElt, destElt); for (let oldScript of newElt.querySelectorAll(\"script\")) { let newScript = document.createElement(\"script\"); newScript.type = oldScript.type; newScript.textContent = oldScript.textContent; oldScript.parentNode.replaceChild(newScript, oldScript); } })(); requestAnimationFrame(() => { observer.observe(destElt); }); } })(); </script><div id=\"compress_html_1a452ded319d4f7796b3e113c8edfb5c\"><script>window.treescope_decompress_enqueue(\"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\", \"compress_html_1a452ded319d4f7796b3e113c8edfb5c\");</script><span style=\"color: #aaaaaa; font-family: monospace\">(Loading...)</span></div></div>"
      ],
      "text/plain": [
       "<IPython.core.display.HTML object>"
      ]
     },
     "metadata": {},
     "output_type": "display_data"
    },
    {
     "data": {
      "text/html": [
       "<div id=\"output_dest_ed819367cd9a4d78bb34e984b871157a\"><script> (()=>{ const output = document.getElementById(\"output_ed819367cd9a4d78bb34e984b871157a\"); const dest = document.getElementById(\"output_dest_ed819367cd9a4d78bb34e984b871157a\"); dest.parentNode.replaceChild(output, dest); })(); </script></div>"
      ],
      "text/plain": [
       "{'a': 1,\n",
       " 'b': \"((DictKey(key='b'),), Array([0, 1, 2, 3, 4, 5, 6, 7, 8, 9], dtype=int32))\",\n",
       " 'c': [{'value': \"((DictKey(key='c'), SequenceKey(idx=0), DictKey(key='value')), Array([ 0,  1,  2,  3,  4,  5,  6,  7,  8,  9, 10, 11], dtype=int32))\"},\n",
       "  {'value': \"((DictKey(key='c'), SequenceKey(idx=1), DictKey(key='value')), Array([0., 0., 0., 0., 0., 0., 0.], dtype=float32))\"},\n",
       "  {'value': 3}]}"
      ]
     },
     "execution_count": 68,
     "metadata": {},
     "output_type": "execute_result"
    }
   ],
   "source": [
    "# Setting values by keypath and original value\n",
    "pz.select(my_nested_object).at_instances_of(jax.Array).apply(\n",
    "    lambda path, value: str((path, value)), with_keypath=True\n",
    ")"
   ]
  },
  {
   "cell_type": "markdown",
   "metadata": {
    "id": "orWpcwiJt6q0"
   },
   "source": [
    "You can use `jax.tree_util.keystr` or `pz.pretty_keystr` to turn keypaths into readable strings (sometimes useful for referring to parts of a tree by name):"
   ]
  },
  {
   "cell_type": "code",
   "execution_count": 69,
   "metadata": {
    "execution": {
     "iopub.execute_input": "2024-05-03T20:32:36.003038Z",
     "iopub.status.busy": "2024-05-03T20:32:36.002835Z",
     "iopub.status.idle": "2024-05-03T20:32:39.131208Z",
     "shell.execute_reply": "2024-05-03T20:32:39.130431Z"
    },
    "id": "YF3IntIvNjw7"
   },
   "outputs": [
    {
     "data": {
      "text/html": [
       "<div id=\"output_6c930f13053d4b468b9b9fd8993ff871\"><script> /* penzai.treescope rendering of a Python object (compressed) */ (()=>{ let observer; let lastStep = new Promise((resolve, reject) => { observer = new IntersectionObserver((entries) => { for (const entry of entries) { if (entry.isIntersecting) { resolve(); observer.disconnect(); return; } } }, {rootMargin: \"1000px\"}); }); window.treescope_decompress_enqueue = (encoded, destId) => { const previous = lastStep; const destElt = document.getElementById(destId); lastStep = (async () => { await previous; let blob = new Blob([ Uint8Array.from(atob(encoded), (m) => m.codePointAt(0)) ]); let reader = blob.stream().pipeThrough( new DecompressionStream(\"deflate\") ).pipeThrough( new TextDecoderStream(\"utf-8\") ).getReader(); let parts = []; while (true) { let step = await reader.read(); if (step.done) { break; } parts.push(step.value); } let newElt = document.createElement(\"div\"); newElt.innerHTML = parts.join(\"\"); destElt.parentNode.replaceChild(newElt, destElt); for (let oldScript of newElt.querySelectorAll(\"script\")) { let newScript = document.createElement(\"script\"); newScript.type = oldScript.type; newScript.textContent = oldScript.textContent; oldScript.parentNode.replaceChild(newScript, oldScript); } })(); requestAnimationFrame(() => { observer.observe(destElt); }); } })(); </script><div id=\"compress_html_f98ff40d7cc34a3ba6e37dca2b2b44d7\"><script>window.treescope_decompress_enqueue(\"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\", \"compress_html_f98ff40d7cc34a3ba6e37dca2b2b44d7\");</script><span style=\"color: #aaaaaa; font-family: monospace\">(Loading...)</span></div></div>"
      ],
      "text/plain": [
       "<IPython.core.display.HTML object>"
      ]
     },
     "metadata": {},
     "output_type": "display_data"
    },
    {
     "data": {
      "text/html": [
       "<div id=\"compress_html_bd34158cc32a4820bf6694319658015d\"><script>window.treescope_decompress_enqueue(\"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\", \"compress_html_bd34158cc32a4820bf6694319658015d\");</script></div>"
      ],
      "text/plain": [
       "<IPython.core.display.HTML object>"
      ]
     },
     "metadata": {},
     "output_type": "display_data"
    },
    {
     "data": {
      "text/html": [
       "<div id=\"output_dest_6c930f13053d4b468b9b9fd8993ff871\"><script> (()=>{ const output = document.getElementById(\"output_6c930f13053d4b468b9b9fd8993ff871\"); const dest = document.getElementById(\"output_dest_6c930f13053d4b468b9b9fd8993ff871\"); dest.parentNode.replaceChild(output, dest); })(); </script></div>"
      ],
      "text/plain": [
       "MLP( # Sequential\n",
       "  sublayers=[\n",
       "    Affine( # Sequential\n",
       "      sublayers=[\n",
       "        Linear(weights=Parameter(value=<NamedArray float32(| features:32, features_out:64) ≈-0.0026 ±0.15 [≥-0.25, ≤0.25] nonzero:2_048 (wrapping jax.Array)>, name='Affine_0.Linear.weights'), in_axis_names=('features',), out_axis_names=('features_out',)),\n",
       "        RenameAxes(old=('features_out',), new=('features',)),\n",
       "        AddBias(bias=Parameter(value=<NamedArray float32(| features:64) ≈0.0 ±0.0 [≥0.0, ≤0.0] zero:64 (wrapping jax.Array)>, name='Affine_0.AddBias.bias'), new_axis_names=()),\n",
       "      ],\n",
       "    ),\n",
       "    Elementwise(fn=jax.nn.relu),\n",
       "    Affine( # Sequential\n",
       "      sublayers=[Linear(weights=Parameter(value=<NamedArray float32(| features:64, features_out:64) ≈-0.0014 ±0.13 [≥-0.22, ≤0.22] nonzero:4_096 (wrapping jax.Array)>, name='Affine_1.Linear.weights'), in_axis_names=('features',), out_axis_names=('features_out',)), RenameAxes(old=('features_out',), new=('features',)), AddBias(bias=Parameter(value=<NamedArray float32(| features:64) ≈0.0 ±0.0 [≥0.0, ≤0.0] zero:64 (wrapping jax.Array)>, name='Affine_1.AddBias.bias'), new_axis_names=())],\n",
       "    ),\n",
       "    Elementwise(fn=jax.nn.relu),\n",
       "    Affine( # Sequential\n",
       "      sublayers=[Linear(weights=Parameter(value=<NamedArray float32(| features:64, features_out:16) ≈-0.004 ±0.16 [≥-0.27, ≤0.27] nonzero:1_024 (wrapping jax.Array)>, name='Affine_2.Linear.weights'), in_axis_names=('features',), out_axis_names=('features_out',)), RenameAxes(old=('features_out',), new=('features',)), AddBias(bias=Parameter(value=<NamedArray float32(| features:16) ≈0.0 ±0.0 [≥0.0, ≤0.0] zero:16 (wrapping jax.Array)>, name='Affine_2.AddBias.bias'), new_axis_names=())],\n",
       "    ),\n",
       "  ],\n",
       ")"
      ]
     },
     "execution_count": 69,
     "metadata": {},
     "output_type": "execute_result"
    }
   ],
   "source": [
    "mlp = pz.nn.initialize_parameters(\n",
    "    simple_mlp.MLP.from_config(feature_sizes=[32, 64, 64, 16]),\n",
    "    jax.random.PRNGKey(0),\n",
    ")\n",
    "mlp"
   ]
  },
  {
   "cell_type": "code",
   "execution_count": 70,
   "metadata": {
    "execution": {
     "iopub.execute_input": "2024-05-03T20:32:39.134968Z",
     "iopub.status.busy": "2024-05-03T20:32:39.134731Z",
     "iopub.status.idle": "2024-05-03T20:32:39.157465Z",
     "shell.execute_reply": "2024-05-03T20:32:39.156685Z"
    },
    "id": "nFT8THeWW2in"
   },
   "outputs": [
    {
     "data": {
      "text/html": [
       "<div id=\"output_d30e15ceefb64736aaff874c91ab52a6\"><script> /* penzai.treescope rendering of a Python object (compressed) */ (()=>{ let observer; let lastStep = new Promise((resolve, reject) => { observer = new IntersectionObserver((entries) => { for (const entry of entries) { if (entry.isIntersecting) { resolve(); observer.disconnect(); return; } } }, {rootMargin: \"1000px\"}); }); window.treescope_decompress_enqueue = (encoded, destId) => { const previous = lastStep; const destElt = document.getElementById(destId); lastStep = (async () => { await previous; let blob = new Blob([ Uint8Array.from(atob(encoded), (m) => m.codePointAt(0)) ]); let reader = blob.stream().pipeThrough( new DecompressionStream(\"deflate\") ).pipeThrough( new TextDecoderStream(\"utf-8\") ).getReader(); let parts = []; while (true) { let step = await reader.read(); if (step.done) { break; } parts.push(step.value); } let newElt = document.createElement(\"div\"); newElt.innerHTML = parts.join(\"\"); destElt.parentNode.replaceChild(newElt, destElt); for (let oldScript of newElt.querySelectorAll(\"script\")) { let newScript = document.createElement(\"script\"); newScript.type = oldScript.type; newScript.textContent = oldScript.textContent; oldScript.parentNode.replaceChild(newScript, oldScript); } })(); requestAnimationFrame(() => { observer.observe(destElt); }); } })(); </script><div id=\"compress_html_4e816eb001f9406da6bf4dec8726c25d\"><script>window.treescope_decompress_enqueue(\"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\", \"compress_html_4e816eb001f9406da6bf4dec8726c25d\");</script><span style=\"color: #aaaaaa; font-family: monospace\">(Loading...)</span></div></div>"
      ],
      "text/plain": [
       "<IPython.core.display.HTML object>"
      ]
     },
     "metadata": {},
     "output_type": "display_data"
    },
    {
     "data": {
      "text/html": [
       "<div id=\"output_dest_d30e15ceefb64736aaff874c91ab52a6\"><script> (()=>{ const output = document.getElementById(\"output_d30e15ceefb64736aaff874c91ab52a6\"); const dest = document.getElementById(\"output_dest_d30e15ceefb64736aaff874c91ab52a6\"); dest.parentNode.replaceChild(output, dest); })(); </script></div>"
      ],
      "text/plain": [
       "[(GetAttrKey(name='sublayers'),\n",
       "  SequenceKey(idx=0),\n",
       "  GetAttrKey(name='sublayers'),\n",
       "  SequenceKey(idx=0),\n",
       "  GetAttrKey(name='weights'),\n",
       "  GetAttrKey(name='value'),\n",
       "  GetAttrKey(name='data_array')),\n",
       " (GetAttrKey(name='sublayers'),\n",
       "  SequenceKey(idx=0),\n",
       "  GetAttrKey(name='sublayers'),\n",
       "  SequenceKey(idx=2),\n",
       "  GetAttrKey(name='bias'),\n",
       "  GetAttrKey(name='value'),\n",
       "  GetAttrKey(name='data_array')),\n",
       " (GetAttrKey(name='sublayers'),\n",
       "  SequenceKey(idx=2),\n",
       "  GetAttrKey(name='sublayers'),\n",
       "  SequenceKey(idx=0),\n",
       "  GetAttrKey(name='weights'),\n",
       "  GetAttrKey(name='value'),\n",
       "  GetAttrKey(name='data_array')),\n",
       " (GetAttrKey(name='sublayers'),\n",
       "  SequenceKey(idx=2),\n",
       "  GetAttrKey(name='sublayers'),\n",
       "  SequenceKey(idx=2),\n",
       "  GetAttrKey(name='bias'),\n",
       "  GetAttrKey(name='value'),\n",
       "  GetAttrKey(name='data_array')),\n",
       " (GetAttrKey(name='sublayers'),\n",
       "  SequenceKey(idx=4),\n",
       "  GetAttrKey(name='sublayers'),\n",
       "  SequenceKey(idx=0),\n",
       "  GetAttrKey(name='weights'),\n",
       "  GetAttrKey(name='value'),\n",
       "  GetAttrKey(name='data_array')),\n",
       " (GetAttrKey(name='sublayers'),\n",
       "  SequenceKey(idx=4),\n",
       "  GetAttrKey(name='sublayers'),\n",
       "  SequenceKey(idx=2),\n",
       "  GetAttrKey(name='bias'),\n",
       "  GetAttrKey(name='value'),\n",
       "  GetAttrKey(name='data_array'))]"
      ]
     },
     "execution_count": 70,
     "metadata": {},
     "output_type": "execute_result"
    }
   ],
   "source": [
    "[\n",
    "  key for key in\n",
    "  pz.select(mlp).at_instances_of(jax.Array).selected_by_path.keys()\n",
    "]"
   ]
  },
  {
   "cell_type": "code",
   "execution_count": 71,
   "metadata": {
    "execution": {
     "iopub.execute_input": "2024-05-03T20:32:39.160682Z",
     "iopub.status.busy": "2024-05-03T20:32:39.160405Z",
     "iopub.status.idle": "2024-05-03T20:32:39.167208Z",
     "shell.execute_reply": "2024-05-03T20:32:39.166646Z"
    },
    "id": "qzrhXuqcuYjA"
   },
   "outputs": [
    {
     "data": {
      "text/html": [
       "<div id=\"output_50295d1f6b52438a8a74bed47e645303\"><script> /* penzai.treescope rendering of a Python object (compressed) */ (()=>{ let observer; let lastStep = new Promise((resolve, reject) => { observer = new IntersectionObserver((entries) => { for (const entry of entries) { if (entry.isIntersecting) { resolve(); observer.disconnect(); return; } } }, {rootMargin: \"1000px\"}); }); window.treescope_decompress_enqueue = (encoded, destId) => { const previous = lastStep; const destElt = document.getElementById(destId); lastStep = (async () => { await previous; let blob = new Blob([ Uint8Array.from(atob(encoded), (m) => m.codePointAt(0)) ]); let reader = blob.stream().pipeThrough( new DecompressionStream(\"deflate\") ).pipeThrough( new TextDecoderStream(\"utf-8\") ).getReader(); let parts = []; while (true) { let step = await reader.read(); if (step.done) { break; } parts.push(step.value); } let newElt = document.createElement(\"div\"); newElt.innerHTML = parts.join(\"\"); destElt.parentNode.replaceChild(newElt, destElt); for (let oldScript of newElt.querySelectorAll(\"script\")) { let newScript = document.createElement(\"script\"); newScript.type = oldScript.type; newScript.textContent = oldScript.textContent; oldScript.parentNode.replaceChild(newScript, oldScript); } })(); requestAnimationFrame(() => { observer.observe(destElt); }); } })(); </script><div id=\"compress_html_4209ae21243e40f99bfc2d75a2996e31\"><script>window.treescope_decompress_enqueue(\"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\", \"compress_html_4209ae21243e40f99bfc2d75a2996e31\");</script><span style=\"color: #aaaaaa; font-family: monospace\">(Loading...)</span></div></div>"
      ],
      "text/plain": [
       "<IPython.core.display.HTML object>"
      ]
     },
     "metadata": {},
     "output_type": "display_data"
    },
    {
     "data": {
      "text/html": [
       "<div id=\"output_dest_50295d1f6b52438a8a74bed47e645303\"><script> (()=>{ const output = document.getElementById(\"output_50295d1f6b52438a8a74bed47e645303\"); const dest = document.getElementById(\"output_dest_50295d1f6b52438a8a74bed47e645303\"); dest.parentNode.replaceChild(output, dest); })(); </script></div>"
      ],
      "text/plain": [
       "['.sublayers[0].sublayers[0].weights.value.data_array',\n",
       " '.sublayers[0].sublayers[2].bias.value.data_array',\n",
       " '.sublayers[2].sublayers[0].weights.value.data_array',\n",
       " '.sublayers[2].sublayers[2].bias.value.data_array',\n",
       " '.sublayers[4].sublayers[0].weights.value.data_array',\n",
       " '.sublayers[4].sublayers[2].bias.value.data_array']"
      ]
     },
     "execution_count": 71,
     "metadata": {},
     "output_type": "execute_result"
    }
   ],
   "source": [
    "[\n",
    "  jax.tree_util.keystr(key) for key in\n",
    "  pz.select(mlp).at_instances_of(jax.Array).selected_by_path.keys()\n",
    "]"
   ]
  },
  {
   "cell_type": "code",
   "execution_count": 72,
   "metadata": {
    "execution": {
     "iopub.execute_input": "2024-05-03T20:32:39.170216Z",
     "iopub.status.busy": "2024-05-03T20:32:39.170013Z",
     "iopub.status.idle": "2024-05-03T20:32:39.177547Z",
     "shell.execute_reply": "2024-05-03T20:32:39.176827Z"
    },
    "id": "Ots2ZBckNwJo"
   },
   "outputs": [
    {
     "data": {
      "text/html": [
       "<div id=\"output_9cb883f7d438471fb5d8ba2439c179b1\"><script> /* penzai.treescope rendering of a Python object (compressed) */ (()=>{ let observer; let lastStep = new Promise((resolve, reject) => { observer = new IntersectionObserver((entries) => { for (const entry of entries) { if (entry.isIntersecting) { resolve(); observer.disconnect(); return; } } }, {rootMargin: \"1000px\"}); }); window.treescope_decompress_enqueue = (encoded, destId) => { const previous = lastStep; const destElt = document.getElementById(destId); lastStep = (async () => { await previous; let blob = new Blob([ Uint8Array.from(atob(encoded), (m) => m.codePointAt(0)) ]); let reader = blob.stream().pipeThrough( new DecompressionStream(\"deflate\") ).pipeThrough( new TextDecoderStream(\"utf-8\") ).getReader(); let parts = []; while (true) { let step = await reader.read(); if (step.done) { break; } parts.push(step.value); } let newElt = document.createElement(\"div\"); newElt.innerHTML = parts.join(\"\"); destElt.parentNode.replaceChild(newElt, destElt); for (let oldScript of newElt.querySelectorAll(\"script\")) { let newScript = document.createElement(\"script\"); newScript.type = oldScript.type; newScript.textContent = oldScript.textContent; oldScript.parentNode.replaceChild(newScript, oldScript); } })(); requestAnimationFrame(() => { observer.observe(destElt); }); } })(); </script><div id=\"compress_html_362e97074c534d6aa9714bdba371495d\"><script>window.treescope_decompress_enqueue(\"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\", \"compress_html_362e97074c534d6aa9714bdba371495d\");</script><span style=\"color: #aaaaaa; font-family: monospace\">(Loading...)</span></div></div>"
      ],
      "text/plain": [
       "<IPython.core.display.HTML object>"
      ]
     },
     "metadata": {},
     "output_type": "display_data"
    },
    {
     "data": {
      "text/html": [
       "<div id=\"output_dest_9cb883f7d438471fb5d8ba2439c179b1\"><script> (()=>{ const output = document.getElementById(\"output_9cb883f7d438471fb5d8ba2439c179b1\"); const dest = document.getElementById(\"output_dest_9cb883f7d438471fb5d8ba2439c179b1\"); dest.parentNode.replaceChild(output, dest); })(); </script></div>"
      ],
      "text/plain": [
       "['MLP.sublayers[0]/Affine.sublayers[0]/Linear.weights/Parameter.value/NamedArray.data_array',\n",
       " 'MLP.sublayers[0]/Affine.sublayers[2]/AddBias.bias/Parameter.value/NamedArray.data_array',\n",
       " 'MLP.sublayers[2]/Affine.sublayers[0]/Linear.weights/Parameter.value/NamedArray.data_array',\n",
       " 'MLP.sublayers[2]/Affine.sublayers[2]/AddBias.bias/Parameter.value/NamedArray.data_array',\n",
       " 'MLP.sublayers[4]/Affine.sublayers[0]/Linear.weights/Parameter.value/NamedArray.data_array',\n",
       " 'MLP.sublayers[4]/Affine.sublayers[2]/AddBias.bias/Parameter.value/NamedArray.data_array']"
      ]
     },
     "execution_count": 72,
     "metadata": {},
     "output_type": "execute_result"
    }
   ],
   "source": [
    "[\n",
    "  pz.pretty_keystr(key, mlp) for key in\n",
    "  pz.select(mlp).at_instances_of(jax.Array).selected_by_path.keys()\n",
    "]"
   ]
  },
  {
   "cell_type": "code",
   "execution_count": null,
   "metadata": {
    "id": "2FQPmfO2Nyof"
   },
   "outputs": [],
   "source": []
  }
 ],
 "metadata": {
  "colab": {
   "name": "Selectors and selections",
   "toc_visible": true
  },
  "kernelspec": {
   "display_name": "Python 3",
   "name": "python3"
  },
  "language_info": {
   "codemirror_mode": {
    "name": "ipython",
    "version": 3
   },
   "file_extension": ".py",
   "mimetype": "text/x-python",
   "name": "python",
   "nbconvert_exporter": "python",
   "pygments_lexer": "ipython3",
   "version": "3.10.12"
  }
 },
 "nbformat": 4,
 "nbformat_minor": 0
}
