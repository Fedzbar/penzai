{
 "cells": [
  {
   "cell_type": "markdown",
   "metadata": {
    "id": "DfejMHs4lr8V"
   },
   "source": [
    "*Copyright 2024 The Penzai Authors.*\n",
    "\n",
    "*Licensed under the Apache License, Version 2.0 (the \"License\"); you may not use this file except in compliance with the License.\n",
    "You may obtain a copy of the License at*\n",
    "\n",
    "> http://www.apache.org/licenses/LICENSE-2.0\n",
    "\n",
    "*Unless required by applicable law or agreed to in writing, software\n",
    "distributed under the License is distributed on an \"AS IS\" BASIS,\n",
    "WITHOUT WARRANTIES OR CONDITIONS OF ANY KIND, either express or  implied.\n",
    "See the License for the specific language governing permissions and\n",
    "limitations under the License.*\n",
    "\n",
    "---"
   ]
  },
  {
   "cell_type": "markdown",
   "metadata": {
    "id": "USGIPdLYDzSo"
   },
   "source": [
    "[![Open in Colab](https://colab.research.google.com/assets/colab-badge.svg)](https://colab.research.google.com/github/google-deepmind/penzai/blob/main/notebooks/selectors.ipynb) [![Open in Kaggle](https://kaggle.com/static/images/open-in-kaggle.svg)](https://kaggle.com/kernels/welcome?src=https://github.com/google-deepmind/penzai/blob/main/notebooks/selectors.ipynb)"
   ]
  },
  {
   "cell_type": "markdown",
   "metadata": {
    "id": "RbZ02bVnH7LL"
   },
   "source": [
    "# Selectors and Selections"
   ]
  },
  {
   "cell_type": "markdown",
   "metadata": {
    "id": "FG4w_VU1H_WN"
   },
   "source": [
    "Penzai is designed to make it easy to make targeted modifications to models and parameter trees. For this purpose, Penzai provides a powerful \"selection\" system to allow you to identify, visualize, and modify arbitrary JAX PyTrees. In short, `pz.select` enables `.at[...].set(...)`-style modification for arbitrary PyTree types.\n",
    "\n",
    "This notebook describes the basics of Penzai's selection object and shows how you can use it to make a variety of modifications.\n"
   ]
  },
  {
   "cell_type": "markdown",
   "metadata": {
    "id": "SHr2rnIL8DzM"
   },
   "source": [
    "## Setup"
   ]
  },
  {
   "cell_type": "markdown",
   "metadata": {
    "id": "VkW4lYKAu-oR"
   },
   "source": [
    "We'll start by setting up the environment."
   ]
  },
  {
   "cell_type": "markdown",
   "metadata": {
    "id": "ozG8ERNavDos"
   },
   "source": [
    "### Imports"
   ]
  },
  {
   "cell_type": "markdown",
   "metadata": {
    "id": "xmxgAcFQmZkB"
   },
   "source": [
    "To run this notebook, you need a Python environment with `penzai` and its dependencies installed.\n",
    "\n",
    "In Colab or Kaggle, you can install it using the following command:"
   ]
  },
  {
   "cell_type": "code",
   "execution_count": 1,
   "metadata": {
    "execution": {
     "iopub.execute_input": "2024-07-26T21:03:03.096901Z",
     "iopub.status.busy": "2024-07-26T21:03:03.096669Z",
     "iopub.status.idle": "2024-07-26T21:03:03.099251Z",
     "shell.execute_reply": "2024-07-26T21:03:03.099052Z"
    },
    "id": "XGZH58j8mPkj"
   },
   "outputs": [],
   "source": [
    "try:\n",
    "  import penzai\n",
    "except ImportError:\n",
    "  !pip install penzai[notebook]"
   ]
  },
  {
   "cell_type": "code",
   "execution_count": 2,
   "metadata": {
    "execution": {
     "iopub.execute_input": "2024-07-26T21:03:03.102319Z",
     "iopub.status.busy": "2024-07-26T21:03:03.102074Z",
     "iopub.status.idle": "2024-07-26T21:03:03.483661Z",
     "shell.execute_reply": "2024-07-26T21:03:03.483863Z"
    },
    "id": "iog3oMAMGCMG"
   },
   "outputs": [],
   "source": [
    "from __future__ import annotations\n",
    "import typing\n",
    "import traceback\n",
    "\n",
    "import jax\n",
    "import jax.numpy as jnp"
   ]
  },
  {
   "cell_type": "code",
   "execution_count": 3,
   "metadata": {
    "execution": {
     "iopub.execute_input": "2024-07-26T21:03:03.487449Z",
     "iopub.status.busy": "2024-07-26T21:03:03.487191Z",
     "iopub.status.idle": "2024-07-26T21:03:03.574406Z",
     "shell.execute_reply": "2024-07-26T21:03:03.574146Z"
    },
    "id": "5Mh2mAuiQ4aa"
   },
   "outputs": [],
   "source": [
    "import treescope\n",
    "import penzai\n",
    "from penzai import pz"
   ]
  },
  {
   "cell_type": "code",
   "execution_count": 4,
   "metadata": {
    "execution": {
     "iopub.execute_input": "2024-07-26T21:03:03.577738Z",
     "iopub.status.busy": "2024-07-26T21:03:03.577480Z",
     "iopub.status.idle": "2024-07-26T21:03:03.581110Z",
     "shell.execute_reply": "2024-07-26T21:03:03.580931Z"
    },
    "id": "QMSmQSSzOOnj"
   },
   "outputs": [],
   "source": [
    "from penzai.models import simple_mlp"
   ]
  },
  {
   "cell_type": "markdown",
   "metadata": {
    "id": "OGzhV5uWvkvB"
   },
   "source": [
    "### Setting up Penzai"
   ]
  },
  {
   "cell_type": "markdown",
   "metadata": {
    "id": "TjGkV8F8vmpi"
   },
   "source": [
    "For this tutorial, we'll enable [Treescope](https://treescope.readthedocs.io/en/stable/) (Penzai's companion pretty-printer) as the default IPython pretty-printer. This is recommended when using Penzai in an interactive environment."
   ]
  },
  {
   "cell_type": "code",
   "execution_count": 5,
   "metadata": {
    "execution": {
     "iopub.execute_input": "2024-07-26T21:03:03.585065Z",
     "iopub.status.busy": "2024-07-26T21:03:03.584776Z",
     "iopub.status.idle": "2024-07-26T21:03:03.586974Z",
     "shell.execute_reply": "2024-07-26T21:03:03.586783Z"
    },
    "id": "YodWk_jmva_7"
   },
   "outputs": [],
   "source": [
    "treescope.basic_interactive_setup(autovisualize_arrays=False)"
   ]
  },
  {
   "cell_type": "markdown",
   "metadata": {
    "id": "3egey4t42OTo"
   },
   "source": [
    "## What are selectors?"
   ]
  },
  {
   "cell_type": "markdown",
   "metadata": {
    "id": "SmFOag2y2UjQ"
   },
   "source": [
    "If you're familiar with JAX, you probably know that JAX arrays are immutable. This maens that it's not possible to directly assign to elements of a JAX array:"
   ]
  },
  {
   "cell_type": "code",
   "execution_count": 6,
   "metadata": {
    "execution": {
     "iopub.execute_input": "2024-07-26T21:03:03.591432Z",
     "iopub.status.busy": "2024-07-26T21:03:03.591182Z",
     "iopub.status.idle": "2024-07-26T21:03:10.055291Z",
     "shell.execute_reply": "2024-07-26T21:03:10.055474Z"
    },
    "id": "V4fKIMM4807s"
   },
   "outputs": [
    {
     "data": {
      "text/html": [
       "<script> (()=>{ if (customElements.get('treescope-container') === undefined) { class TreescopeContainer extends HTMLElement { constructor() { super(); this.attachShadow({mode: \"open\"}); this.defns = {}; this.state = {}; } } customElements.define(\"treescope-container\", TreescopeContainer); } if (customElements.get('treescope-run-here') === undefined) { class RunHere extends HTMLElement { constructor() { super() } connectedCallback() { const run = child => { const fn = new Function(child.textContent); child.textContent = \"\"; fn.call(this); this.remove(); }; const child = this.querySelector(\"script\"); if (child) { run(child); } else { new MutationObserver(()=>{ run(this.querySelector(\"script\")); }).observe(this, {childList: true}); } } } customElements.define(\"treescope-run-here\", RunHere); } })(); </script> <treescope-container class=\"treescope_out_8f5b6c07afbd4b4eaa37725989b81c79\" ></treescope-container> <treescope-run-here><script type=\"application/octet-stream\"> const root = ( Array.from(document.getElementsByClassName( \"treescope_out_8f5b6c07afbd4b4eaa37725989b81c79\")) .filter((elt) => !elt.dataset.setup) )[0]; root.dataset.setup = 1; const msg = document.createElement(\"span\"); msg.style = \"color: #aaaaaa; font-family: monospace; transition: opacity 0.2s; opacity: 0.0;\"; msg.textContent = \"(Loading...)\"; root.state.loadingMsg = msg; root.shadowRoot.appendChild(msg); root.state.chain = new Promise((resolve, reject) => { const observer = new IntersectionObserver((entries) => { for (const entry of entries) { if (entry.isIntersecting) { resolve(); observer.disconnect(); return; } } }, {rootMargin: \"1000px\"}); window.setTimeout(() => { if (root.loadingMsg) { root.loadingMsg.style.opacity = \"1.0\"; } observer.observe(root); }, 0); }); root.state.deferring = false; const _insertNode = (node) => { for (let oldScript of node.querySelectorAll(\"script\")) { let newScript = document.createElement(\"script\"); newScript.type = oldScript.type; newScript.textContent = oldScript.textContent; oldScript.parentNode.replaceChild(newScript, oldScript); } if (root.state.loadingMsg) { root.state.loadingMsg.remove(); root.state.loadingMsg = null; } root.shadowRoot.appendChild(node); }; root.defns.insertContent = ((contentNode, compressed) => { if (compressed) { root.state.deferring = true; } if (root.state.deferring) { root.state.chain = (async () => { await root.state.chain; if (compressed) { const encoded = contentNode.textContent; const blob = new Blob([ Uint8Array.from(atob(encoded), (m) => m.codePointAt(0)) ]); const reader = blob.stream().pipeThrough( new DecompressionStream(\"deflate\") ).pipeThrough( new TextDecoderStream(\"utf-8\") ).getReader(); const parts = []; while (true) { const step = await reader.read(); if (step.done) { break; } parts.push(step.value); } const tpl = document.createElement('template'); tpl.innerHTML = parts.join(\"\"); _insertNode(tpl.content); } else { _insertNode(contentNode.content); } })(); } else { _insertNode(contentNode.content); } }); </script></treescope-run-here><div style=\"display:none\"> <script type=\"application/octet-stream\" >eNqNVE1v2zAM/SuEd6gN1G4+WjRN4gC9DDsMO2yHHYYhkC061qpInkQnzYb+91G2m/UjKwYfbFPk43sUyaWng8ZVRg7Rl7bBtbOW4Dc01itS1szBoRakdriAyhpKK7FV+jCHrTXWN6Jk+75WhGn3M4fGsUUrT2kHndKhYauxhs2FKO82zrZGpqXV1s370AUMf4VmB8ZTkuo5VIrYzRAaWkAjpFRmk2qsaA6Tsg5JDKY1qk3NlnF2FWAMCcWcj2HDR7pTXhVKK2LmoiV79E2VIaeMV2Xq1S/sTwe6D8uLvjzLY3lS1xrO6djmS6cagqAvPxNNo1UpQsUubEkY1DsU27NVHCf5igvK+TyBxMp4yIFq5bMN0meu9icrMU6y2nrKunOWhgTrBk2QfFsG1BD07fupkw/CSI18bFqtF32GjGl+sdawNd5bd5fAUw72K5vC0TMzqTIYG3SVdVthSsyM3cdJd7+cIH51AmkftITpJGEcVUH8gnWm0WyohjyHUXB5k7pDap3hugNqj3+J1a0JzF5C+1pVFPh1DuHjgZ9/ZIi5q4y0+8zhzxY93Rq17a7rvRNbjPuaJAFj8SpR0/q6L+PihMbHFHkv4w2V/88hsOgvkuxmo/upXHeTw93aBKxgQU3ngDtu8OEmA7vuP7vDQyh65KJAaHDOSi28/8jDOeDG0RFzveU2jB6TPyRcT27/rsdXy4tTAyDVDjrAPHq+PiIgUbBSvM+jUQTWMBmWbdjvrbY/rTUOMY8qIx67fmFxBDqHct3wzsDaaomu65hukbwT1+EZVlYXMgdFgmf06VjzyjKgZB4d0SZFIeVkNruZiemlnBbF1fR6PB3NUE4mN5ejUTQEDbpPsYhWP8R9duucOEClraDpJB6PzmE8SjgxB6+OL67g6g/tme8s</script> <treescope-run-here><script type=\"application/octet-stream\"> const root = ( Array.from(document.getElementsByClassName( \"treescope_out_8f5b6c07afbd4b4eaa37725989b81c79\")) .filter((elt) => !elt.dataset['step0']) )[0]; root.dataset['step0'] = 1; root.defns.insertContent( this.parentNode.querySelector('script[type=\"application/octet-stream\"]'), true ); this.parentNode.remove(); </script></treescope-run-here> </div>"
      ],
      "text/plain": [
       "<IPython.core.display.HTML object>"
      ]
     },
     "metadata": {},
     "output_type": "display_data"
    },
    {
     "data": {
      "text/html": [
       "<div style=\"display:none\"> <script type=\"application/octet-stream\" >eNrtV92O4zQUvucprIzEpkybSTs7SzftVILdRdobLuCCi2EUOfZpY8aNg+12p6C9Z98DHoBX4FH2STh20p+0aRdEASGRqkldn8/f5+Pjc5wxF0ti7ErCbcCFKSVdJaRQBQRE8NtgqnTKYQpaA08HWcb5YDh8PqTXT/l1lt1cf9q/jofAB4PnT+M4mIxNSQu8u/EmEVMS4TTLNCzJj8Q3E3LxbDigcTwib2sDpuZzKGz6JocihUccgQNPCmXDaKokp5mEtFAckpyacCJpBnLS7Emtms0keEzCcmAPwDsd8klnh5X6y7E2oGhRKiOsUEVCNEhqxRLQirQyoHXDSYeGZEK8wiTJAJ0HOwqYv0atfBKmNiG9PstH5I3gNk8IemjDJQopCuhlUrGHE5y5WoI+ZOZUPxigMw1QHKLP5OmNBgdtB63tGwoLi2ufkCffDm4y9uTflNcEHRX57B8Q6dbRES+0cQtYKoEKdAuvMOej9VvBE/VgifM1x2L8PKzb6Vl4tIcskTDpVGhjU1WkLvxbttaprRQNbtxual0q8pflVyu+L9HNak71TBS9Sobf0G8jgSkNHctTlgvJNRR1VFGB0uvw8lKbhmdLgptEUmeQhkZGJQsHLCc90i8fO16HsdThN3r/NiWZ0hwDrlLClcW5OxXkAmL3cc7zdQFTmaSlwd4PpuA/LewEQ5V4PUejPB2xOYeONop6ouOrqrL6MkuYpMa4Er1bCvYjEmtypWAsinJhiV2VWOk9Z6Yeg9ZBannYWUmbjK88uMm7W92Dtq7Wur5n2fR8MPlY2hHOsjpF7Nttx7ggtdF39DH6TGu6IlOpqL0ehP24S/pxh7x/91McxeS3X9397v27X/DZxX9/xuc9+QG0SvpxfFrMbCtm71H79ITERt/B/j/ZH0z8lMK7uzjqkg9/77sfker6H/DfAtx3Cfc7so7ezpFwaz7wyD4ZWzzNGaZK6OlF0ctBu7TAtCjXe5yWpRSMuvJ4pZgF2zOIofNgggXHoBXWALCvuSG35C7444f8+1GF54pppSyibS5MhGN9hc0vMX+EWENqDhRZG9Xm0fcL0KuvQQKzSodBtJlH6rqDDXSq6cyljwq6cD8jhvotvKybX9QWh3QvJOZLBK7HiNAXUPAXbnOFa6OIOSuv1+oFdHAUPFWQUIIlAsFYewQZb90USShmFsu5uLx0lczZVZ27TNh8JcH9/Hz1GsnW6Dtx3xl5jFELzeAlvnYddcqFe+0KyCXZg1fNSANWBQbfCJuHm9Ein/Zrbj9TBGx7NczxUBn66r7xwO5ADd91XN7zwYTh1hJpvwPoArG3</script> <treescope-run-here><script type=\"application/octet-stream\"> const root = ( Array.from(document.getElementsByClassName( \"treescope_out_8f5b6c07afbd4b4eaa37725989b81c79\")) .filter((elt) => !elt.dataset['step1']) )[0]; root.dataset['step1'] = 1; root.defns.insertContent( this.parentNode.querySelector('script[type=\"application/octet-stream\"]'), true ); this.parentNode.remove(); </script></treescope-run-here> </div>"
      ],
      "text/plain": [
       "<IPython.core.display.HTML object>"
      ]
     },
     "metadata": {},
     "output_type": "display_data"
    },
    {
     "data": {
      "text/html": [
       "<treescope-run-here><script type=\"application/octet-stream\"> const root = ( Array.from(document.getElementsByClassName( \"treescope_out_8f5b6c07afbd4b4eaa37725989b81c79\")) .filter((elt) => !elt.dataset.stolen) )[0]; root.dataset.stolen = 1; this.parentNode.replaceChild(root, this); </script></treescope-run-here>"
      ],
      "text/plain": [
       "# jax.Array float32(10, 10) ≈0.0 ±0.0 [≥0.0, ≤0.0] zero:100\n",
       "  Array([[0., 0., 0., 0., 0., 0., 0., 0., 0., 0.],\n",
       "         [0., 0., 0., 0., 0., 0., 0., 0., 0., 0.],\n",
       "         [0., 0., 0., 0., 0., 0., 0., 0., 0., 0.],\n",
       "         [0., 0., 0., 0., 0., 0., 0., 0., 0., 0.],\n",
       "         [0., 0., 0., 0., 0., 0., 0., 0., 0., 0.],\n",
       "         [0., 0., 0., 0., 0., 0., 0., 0., 0., 0.],\n",
       "         [0., 0., 0., 0., 0., 0., 0., 0., 0., 0.],\n",
       "         [0., 0., 0., 0., 0., 0., 0., 0., 0., 0.],\n",
       "         [0., 0., 0., 0., 0., 0., 0., 0., 0., 0.],\n",
       "         [0., 0., 0., 0., 0., 0., 0., 0., 0., 0.]], dtype=float32)"
      ]
     },
     "execution_count": 6,
     "metadata": {},
     "output_type": "execute_result"
    }
   ],
   "source": [
    "array = jnp.zeros((10, 10))\n",
    "array"
   ]
  },
  {
   "cell_type": "code",
   "execution_count": 7,
   "metadata": {
    "execution": {
     "iopub.execute_input": "2024-07-26T21:03:10.059447Z",
     "iopub.status.busy": "2024-07-26T21:03:10.059192Z",
     "iopub.status.idle": "2024-07-26T21:03:10.062349Z",
     "shell.execute_reply": "2024-07-26T21:03:10.062488Z"
    },
    "id": "HYD71Mqo89Bf"
   },
   "outputs": [
    {
     "name": "stderr",
     "output_type": "stream",
     "text": [
      "Traceback (most recent call last):\n",
      "  File \"<ipython-input-7-5c112bb0ee90>\", line 2, in <cell line: 1>\n",
      "    array[1, 2] = 42\n",
      "  File \"/usr/local/lib/python3.10/dist-packages/jax/_src/numpy/array_methods.py\", line 278, in _unimplemented_setitem\n",
      "    raise TypeError(msg.format(type(self)))\n",
      "TypeError: '<class 'jaxlib.xla_extension.ArrayImpl'>' object does not support item assignment. JAX arrays are immutable. Instead of ``x[idx] = y``, use ``x = x.at[idx].set(y)`` or another .at[] method: https://jax.readthedocs.io/en/latest/_autosummary/jax.numpy.ndarray.at.html\n"
     ]
    }
   ],
   "source": [
    "try:\n",
    "  array[1, 2] = 42\n",
    "except TypeError:\n",
    "  import traceback\n",
    "  traceback.print_exc()"
   ]
  },
  {
   "cell_type": "markdown",
   "metadata": {
    "id": "GyEJo0EV9Kld"
   },
   "source": [
    "Instead, to modify a JAX array you can use the special `.at` property, which returns a modified copy of the original array with changes at the location you specified:"
   ]
  },
  {
   "cell_type": "code",
   "execution_count": 8,
   "metadata": {
    "execution": {
     "iopub.execute_input": "2024-07-26T21:03:10.070345Z",
     "iopub.status.busy": "2024-07-26T21:03:10.070095Z",
     "iopub.status.idle": "2024-07-26T21:03:10.271050Z",
     "shell.execute_reply": "2024-07-26T21:03:10.270776Z"
    },
    "id": "o6Ydo5jt8_Oo"
   },
   "outputs": [
    {
     "data": {
      "text/html": [
       "<script> (()=>{ if (customElements.get('treescope-container') === undefined) { class TreescopeContainer extends HTMLElement { constructor() { super(); this.attachShadow({mode: \"open\"}); this.defns = {}; this.state = {}; } } customElements.define(\"treescope-container\", TreescopeContainer); } if (customElements.get('treescope-run-here') === undefined) { class RunHere extends HTMLElement { constructor() { super() } connectedCallback() { const run = child => { const fn = new Function(child.textContent); child.textContent = \"\"; fn.call(this); this.remove(); }; const child = this.querySelector(\"script\"); if (child) { run(child); } else { new MutationObserver(()=>{ run(this.querySelector(\"script\")); }).observe(this, {childList: true}); } } } customElements.define(\"treescope-run-here\", RunHere); } })(); </script> <treescope-container class=\"treescope_out_08671c496bf24dd7b252bb024074d847\" ></treescope-container> <treescope-run-here><script type=\"application/octet-stream\"> const root = ( Array.from(document.getElementsByClassName( \"treescope_out_08671c496bf24dd7b252bb024074d847\")) .filter((elt) => !elt.dataset.setup) )[0]; root.dataset.setup = 1; const msg = document.createElement(\"span\"); msg.style = \"color: #aaaaaa; font-family: monospace; transition: opacity 0.2s; opacity: 0.0;\"; msg.textContent = \"(Loading...)\"; root.state.loadingMsg = msg; root.shadowRoot.appendChild(msg); root.state.chain = new Promise((resolve, reject) => { const observer = new IntersectionObserver((entries) => { for (const entry of entries) { if (entry.isIntersecting) { resolve(); observer.disconnect(); return; } } }, {rootMargin: \"1000px\"}); window.setTimeout(() => { if (root.loadingMsg) { root.loadingMsg.style.opacity = \"1.0\"; } observer.observe(root); }, 0); }); root.state.deferring = false; const _insertNode = (node) => { for (let oldScript of node.querySelectorAll(\"script\")) { let newScript = document.createElement(\"script\"); newScript.type = oldScript.type; newScript.textContent = oldScript.textContent; oldScript.parentNode.replaceChild(newScript, oldScript); } if (root.state.loadingMsg) { root.state.loadingMsg.remove(); root.state.loadingMsg = null; } root.shadowRoot.appendChild(node); }; root.defns.insertContent = ((contentNode, compressed) => { if (compressed) { root.state.deferring = true; } if (root.state.deferring) { root.state.chain = (async () => { await root.state.chain; if (compressed) { const encoded = contentNode.textContent; const blob = new Blob([ Uint8Array.from(atob(encoded), (m) => m.codePointAt(0)) ]); const reader = blob.stream().pipeThrough( new DecompressionStream(\"deflate\") ).pipeThrough( new TextDecoderStream(\"utf-8\") ).getReader(); const parts = []; while (true) { const step = await reader.read(); if (step.done) { break; } parts.push(step.value); } const tpl = document.createElement('template'); tpl.innerHTML = parts.join(\"\"); _insertNode(tpl.content); } else { _insertNode(contentNode.content); } })(); } else { _insertNode(contentNode.content); } }); </script></treescope-run-here><div style=\"display:none\"> <script type=\"application/octet-stream\" >eNqNVE1v2zAM/SuEd6gN1G6atmjz4QC9DDsMO2yHHYYhUCza1ipLnkQnzYb+91G2m/UjKwYfbFPk43sUyaWnvcZVRg7RF7bFtbOW4De01itS1szBoRaktriA0hpKS9EovZ9DY431rSjYvqsVYdr/zKF1bNHKU9pDp7Rv2WqsYfNGFHeVs52RaWG1dfMhdAHj30azA+MpSfUcSkXsZggNLaAVUipTpRpLmsO0qEMSg2mNqqrZcp5dBRhDQjHnQ9j4kW6VVxulFTFz0ZE9+KbKkFPGqyL16hcOpyPdh+XZUJ7loTyp6wzndGzzhVMtQdCXn4i21aoQoWJntiAM6h2K5mQVx0m+4oJyPk8gsTQecqBa+axC+szV/mQlxklWW09Zf87SkGDdogmSb4uAGoK+fT928kEYqZGPTaf1YsiQMc0v1hq2xjvr7hJ4ysF+ZVM4emYmVQRji660rhGmwMzYXZz098sJ4lcnkA5BS7iYJoyjSohfsM40mopqyHOYBJc3qTukzhmuO6D2+JdY3ZnA7CW0r1VJgV/vED4e+PlHhpi7yki7yxz+7NDTrVFNf13vnWgwHmqSBIzFq0Rt5+uhjIsjGh9T5IOMN1T+P4fAYrhIslWlh6lc95PD3doGrGBBTaeAW27w8SYDu/4/u8N9KHrkokBodM4KLbz/yMM54sbRAXPdcBtGj8kfEq4nt3/f46vl2bEBkGoLPWAePV8fEZDYsFK8z6NJBNYwGZZt2O+ttj+uNQ4xjyojHrthYXEEOody3fLOwNpqia7vmH6RvBPX4RlXVh8yB0WCZ/TpWPPKMqBkHh3QNheb2bS8nMjL6fTyqsTZTSEnciZms+l1WW5uojFo1H2MRbT6Ie6zW+fEHkptBV1M4/PJKZxPEk7MwavDiyu4+gMj2+/W</script> <treescope-run-here><script type=\"application/octet-stream\"> const root = ( Array.from(document.getElementsByClassName( \"treescope_out_08671c496bf24dd7b252bb024074d847\")) .filter((elt) => !elt.dataset['step0']) )[0]; root.dataset['step0'] = 1; root.defns.insertContent( this.parentNode.querySelector('script[type=\"application/octet-stream\"]'), true ); this.parentNode.remove(); </script></treescope-run-here> </div>"
      ],
      "text/plain": [
       "<IPython.core.display.HTML object>"
      ]
     },
     "metadata": {},
     "output_type": "display_data"
    },
    {
     "data": {
      "text/html": [
       "<div style=\"display:none\"> <script type=\"application/octet-stream\" >eNrtV81u4zYQvvcpCAXoyk2syFpnG8uOgXZ3C+ylh/bQQxoIFDmy2DCiStLZuMXem/doH6Cv0EfJk3RIKY5lK263m/4cKgOWiJmP38fRcIaacXFNjF1JOAu4MLWkq5RUqoKACH4WFEpnHArQGniWP88nSTGO+ThJxicFTE4Zj/mETibJp0WRnwbzmalphf9uvnnElEQ4zXMN1+RH4ocpOXhxmtA4npJ3rQNTV1dQ2extCVUGNzgDB55WyoZRoSSnuYSsUhzSkppwLmkOct61ZFYtFhI8JmUlsEvggwH5ZLDBSv3lWDtQ9KiVEVaoKiUaJLXiGtCL9DKgdydIu45kTrzCNM0BgwcbCpi/pr18EgqbkuGIlVPyVnBbpgQjtOYSlRQVDHOp2OUezlJdg95l5lRfGqALDVDtop8o0msNDtoPuvfvKKwsvvuUPPs2OcnZs39TXhf0qMgX/4BI9x4d8VIb9wJrJVCB7uEV5ulo/VbwREO4xvWax3L8aVgflmfhxu6yRMJkhdDGZqrKXPr3bK19WylKTtxu6n1V5IPlN298W6Jb1RXVC1ENGxl+Q7+LBJY0DCzPWCkk11C1WUUFSm/Ty0vtOj5ZEVwXkraCdDQyKlmYsJIMyai+GXgdxlKHX+v925TkSnNMuEYJVxbX7lSQA4jdzwXP9wUsZZLWBq1/WILfW9gehqbweo5Oe3rE5yl09FG0C50dN53Vt1nCJDXGtejNVrCdkdiTGwUzUdVLS+yqxk7vOXN1E/RO0spDYyNtPjv24C7vZncP+ky9fX3Lsxv5YP6xtFNcZXOK2PZ7mOOAtE7f0ZvoM63pihRSUfs8CUfxERnFA3J3+1McjRPy26/jKCHnd7e/xBGa7m5/xjEcxqML8gNolU4mLrr+cbRf2uJB2tatjfAewR3bTjXYaw/mfoHh+TmJoyPyHn8XRx+R5tqAjpO/DP0A1v+h/xHoxRHhvga0+2XwSEp3b/iRMJ9ZPD8apmoY6mU1LEG7QsS0qO+rCq1rKRh1DflYMQt2aBBDr4I5tjiDXth1wL7hhpyR8+DPf1ZcTBs8V0wrZRFtS2EinOsrHH6JFSvErtVyoMjWqXWPvl+CXn0NEphVOgyi9ToyZw7W0ELThStYDXTpHiOG+i28aodftB67dC8lVmgE3s8RYSyg4i/dBg7vnSLmvLxeq5cwwFnwHENCCZYIBGO3E2T2EKZIQrWweIAQh4eudzq/xrjJhMPXEtzj56s3SHaPPhcXg6nHGLXUDF7hh96jQTlwH3oBOSRb8GYYacA+xOAbYctwPVvkG03L7VeKgAerhis8xob+PLGOwOZEndgNXG31yYTp1pNpvwNk8sRL</script> <treescope-run-here><script type=\"application/octet-stream\"> const root = ( Array.from(document.getElementsByClassName( \"treescope_out_08671c496bf24dd7b252bb024074d847\")) .filter((elt) => !elt.dataset['step1']) )[0]; root.dataset['step1'] = 1; root.defns.insertContent( this.parentNode.querySelector('script[type=\"application/octet-stream\"]'), true ); this.parentNode.remove(); </script></treescope-run-here> </div>"
      ],
      "text/plain": [
       "<IPython.core.display.HTML object>"
      ]
     },
     "metadata": {},
     "output_type": "display_data"
    },
    {
     "data": {
      "text/html": [
       "<treescope-run-here><script type=\"application/octet-stream\"> const root = ( Array.from(document.getElementsByClassName( \"treescope_out_08671c496bf24dd7b252bb024074d847\")) .filter((elt) => !elt.dataset.stolen) )[0]; root.dataset.stolen = 1; this.parentNode.replaceChild(root, this); </script></treescope-run-here>"
      ],
      "text/plain": [
       "# jax.Array float32(10, 10) ≈0.42 ±4.2 [≥0.0, ≤4.2e+01] zero:99 nonzero:1\n",
       "  Array([[ 0.,  0.,  0.,  0.,  0.,  0.,  0.,  0.,  0.,  0.],\n",
       "         [ 0.,  0., 42.,  0.,  0.,  0.,  0.,  0.,  0.,  0.],\n",
       "         [ 0.,  0.,  0.,  0.,  0.,  0.,  0.,  0.,  0.,  0.],\n",
       "         [ 0.,  0.,  0.,  0.,  0.,  0.,  0.,  0.,  0.,  0.],\n",
       "         [ 0.,  0.,  0.,  0.,  0.,  0.,  0.,  0.,  0.,  0.],\n",
       "         [ 0.,  0.,  0.,  0.,  0.,  0.,  0.,  0.,  0.,  0.],\n",
       "         [ 0.,  0.,  0.,  0.,  0.,  0.,  0.,  0.,  0.,  0.],\n",
       "         [ 0.,  0.,  0.,  0.,  0.,  0.,  0.,  0.,  0.,  0.],\n",
       "         [ 0.,  0.,  0.,  0.,  0.,  0.,  0.,  0.,  0.,  0.],\n",
       "         [ 0.,  0.,  0.,  0.,  0.,  0.,  0.,  0.,  0.,  0.]], dtype=float32)"
      ]
     },
     "execution_count": 8,
     "metadata": {},
     "output_type": "execute_result"
    }
   ],
   "source": [
    "modified_array = array.at[1, 2].set(42)\n",
    "modified_array"
   ]
  },
  {
   "cell_type": "markdown",
   "metadata": {
    "id": "AfD7GKrc-KFP"
   },
   "source": [
    "JAX also introduces the concept of [PyTrees](https://jax.readthedocs.io/en/latest/pytrees.html): nested containers of data that JAX knows how to traverse. Most JAX transformations are designed to work with functions that take PyTrees as input and return PyTrees as output.\n",
    "\n",
    "Although JAX does treat dictionaries and lists as PyTrees, JAX usually assumes that those trees will not be mutated, and expects the user to write code in a functional style, avoiding mutating its arguments directly.\n",
    "\n",
    "**`pz.select` enables `.at[...].set(...)`-style modification for arbitrary PyTrees**, making it possible to perform complex path-based and type-driven modifications to the objects you're already using:"
   ]
  },
  {
   "cell_type": "code",
   "execution_count": 9,
   "metadata": {
    "execution": {
     "iopub.execute_input": "2024-07-26T21:03:10.279896Z",
     "iopub.status.busy": "2024-07-26T21:03:10.279646Z",
     "iopub.status.idle": "2024-07-26T21:03:10.349177Z",
     "shell.execute_reply": "2024-07-26T21:03:10.348892Z"
    },
    "id": "qMN5Bzdq-A7q"
   },
   "outputs": [],
   "source": [
    "my_nested_object = {\n",
    "    \"a\": 1,\n",
    "    \"b\": jnp.arange(10),\n",
    "    \"c\": [\n",
    "        {\"value\": jnp.arange(12)},\n",
    "        {\"value\": jnp.zeros([7])},\n",
    "        {\"value\": 3},\n",
    "    ]\n",
    "}"
   ]
  },
  {
   "cell_type": "code",
   "execution_count": 10,
   "metadata": {
    "execution": {
     "iopub.execute_input": "2024-07-26T21:03:10.358182Z",
     "iopub.status.busy": "2024-07-26T21:03:10.357940Z",
     "iopub.status.idle": "2024-07-26T21:03:10.416744Z",
     "shell.execute_reply": "2024-07-26T21:03:10.416551Z"
    },
    "id": "yPqRBFmD9N4V"
   },
   "outputs": [
    {
     "data": {
      "text/html": [
       "<script> (()=>{ if (customElements.get('treescope-container') === undefined) { class TreescopeContainer extends HTMLElement { constructor() { super(); this.attachShadow({mode: \"open\"}); this.defns = {}; this.state = {}; } } customElements.define(\"treescope-container\", TreescopeContainer); } if (customElements.get('treescope-run-here') === undefined) { class RunHere extends HTMLElement { constructor() { super() } connectedCallback() { const run = child => { const fn = new Function(child.textContent); child.textContent = \"\"; fn.call(this); this.remove(); }; const child = this.querySelector(\"script\"); if (child) { run(child); } else { new MutationObserver(()=>{ run(this.querySelector(\"script\")); }).observe(this, {childList: true}); } } } customElements.define(\"treescope-run-here\", RunHere); } })(); </script> <treescope-container class=\"treescope_out_1752bd289e9e44e980783d94e82001d2\" ></treescope-container> <treescope-run-here><script type=\"application/octet-stream\"> const root = ( Array.from(document.getElementsByClassName( \"treescope_out_1752bd289e9e44e980783d94e82001d2\")) .filter((elt) => !elt.dataset.setup) )[0]; root.dataset.setup = 1; const msg = document.createElement(\"span\"); msg.style = \"color: #aaaaaa; font-family: monospace; transition: opacity 0.2s; opacity: 0.0;\"; msg.textContent = \"(Loading...)\"; root.state.loadingMsg = msg; root.shadowRoot.appendChild(msg); root.state.chain = new Promise((resolve, reject) => { const observer = new IntersectionObserver((entries) => { for (const entry of entries) { if (entry.isIntersecting) { resolve(); observer.disconnect(); return; } } }, {rootMargin: \"1000px\"}); window.setTimeout(() => { if (root.loadingMsg) { root.loadingMsg.style.opacity = \"1.0\"; } observer.observe(root); }, 0); }); root.state.deferring = false; const _insertNode = (node) => { for (let oldScript of node.querySelectorAll(\"script\")) { let newScript = document.createElement(\"script\"); newScript.type = oldScript.type; newScript.textContent = oldScript.textContent; oldScript.parentNode.replaceChild(newScript, oldScript); } if (root.state.loadingMsg) { root.state.loadingMsg.remove(); root.state.loadingMsg = null; } root.shadowRoot.appendChild(node); }; root.defns.insertContent = ((contentNode, compressed) => { if (compressed) { root.state.deferring = true; } if (root.state.deferring) { root.state.chain = (async () => { await root.state.chain; if (compressed) { const encoded = contentNode.textContent; const blob = new Blob([ Uint8Array.from(atob(encoded), (m) => m.codePointAt(0)) ]); const reader = blob.stream().pipeThrough( new DecompressionStream(\"deflate\") ).pipeThrough( new TextDecoderStream(\"utf-8\") ).getReader(); const parts = []; while (true) { const step = await reader.read(); if (step.done) { break; } parts.push(step.value); } const tpl = document.createElement('template'); tpl.innerHTML = parts.join(\"\"); _insertNode(tpl.content); } else { _insertNode(contentNode.content); } })(); } else { _insertNode(contentNode.content); } }); </script></treescope-run-here><div style=\"display:none\"> <script type=\"application/octet-stream\" >eNrtWItX2kgX/1em9JwFVokJb1A5X0BetmoVW63dHneSTJKRMImTCYh7/N+/OwkgKLUv293uWTnHwOTO3Pfv3js7oZh6pKEITkho+gG55L4v0F8o8EMqqM/qiBMPCzom28j2mcjZeES9aR2NfOaHATZhfeJSQXLxjzoKOKx4NBS5+OicmAawynwGywY2hw73I2blTN/zeT3Zuo1mvwwPCOA8agm3jmwqgIwJwsQ2CrBlUebkPGKLOsqbrmTCSM4l1HFhRVNK8hgmMAWZF9tmX3JjGlKDelSA5DgS/oI2R5nglIXUzIX0liRvZ+Le7Wwl5tlZmCfHIwY8OayFJqeBQFK/3TQOAo+aWFpsyzcFkdpzgkfpRiaT3W2AQYFfKJBFbBaiXSRcGioOESdg7UPfIpms4vqhUOL3oBoR6DIgTKqsm/JUuenDx3VvephZHoHXLPK87YSDAmIOfJ/Bambi82EWLcvgn8GSfLWyLKgpFwPCbZ+PMDOJwvxJJhv7FxhkHr1BuWTTDirks3AOtVHmgdSKR5gjXLS7i1RJ8qTonIiIM7A7Il5I7gVzIyYle3h06FJbSPliAvnlDj6f4JCBqGKWP1E4uY5IKHRGR7G7OhyPSCaxSVaesf2IURCFbmLG7TU6zlnsJmo8oeWXyyClSBwpfMfxkqy8jDMHojWQZ8kV4olNRMYQ4DNPSuni38qQTKXRUzwlBZoRK6aHw/A1JOfs3ExqceblCMIwNWd+lwV7QvjHMd7Y2VqXABYdo/jA3dQqfKSQwAZoSm52U2oK+QyEAbUZ0D0V9ut1zcg9cy1TkHYJYMWIccmikUF4HCkxgLxUa1WtVAb5ZwShTG5niQAXtJJWkgTAk3BOrMsAUIe4vmetnIQr8jMDvZhpHVGBIcvlZhvIsQHCMtDiE3B5h1bJLhP9gNqiITCdzmHxISFqIA8bxKvXDQIZR5akMuO/7bX8EmjMaRIbZxCqbt/zoiwGTMPzJcZ+kqfrjwl/zNnCfBgS7ICj2ePddeaLzIMlF4eZRnxmY60d4j110yXmkFjZLPo9ey+D3Lp+05x+RcIY4+so/Ue+ZJjpv1O81U2fFLL8E4SUfpSMIx5KBwY+VDrC1/Cl4fOxjVMhZpSLMzb8VIw/D9d79QS5EY+5KDS8tCkPxaXPLmX4r0mtp1JJyZdkNq11Ffpu8ROPPxRRajXC3IHeJBEjTui77+QGeBhMjUgIaArWAdD963VBm0KpB1RgSGj41hP/QbSilXrQL6YPMEQFxR4aTEeG74XoKBJSXwu1kp3wDKaQGLkJMYbQ+yXIO4Jq4AKGQ2fGBGynOCTWomN8SVT52X4c5snuuKVTlRoZPdQyyY81WqyHu/udygSHlybUATDsYj+2xUr1mOP0Uzwf7FlluWx6NMY8k8tZWOAcZuDYuGnILi9LJrIT4pjNozk+FmkhImAxaHNzfiS+TpWFBOAYSqwXq5LELNELOgp8LjB7dLbB/SFhl3LlHow+b92lbUv2nLv5TpF9BQhmXZrQlVqcsJmoq30/nLlK+EzoupQ6s0K6kqom9swMDCfQGWvBTdxMKaHAcv9C3h8mieFzaGFmkli+AN2lFMvGC10sO54J5gxS6nIO2XMr2zY2tcIawgB6zr8WMxifjVwSl2bqz5ZyqhID5v2gV4/HNMxzDscWBYdktELJIs4m8iFWHYJUSM+y6W4msRsAW0CCeAnN7PdIlEeQ+WwmXXHmXJk7ZeLGEel5OADw+XwD9/Xo/GkOSdsW84iJyA1kqfVJmueQYx2LZ5yI5ZCCXuic46lic38Eg48ZjeTQIjE7VMbYg+kok80qoQ9jUYzkcryRTyUpJ3K0+cKCkkqjLMouhsnQJTBBw6hGJqg1GAykNgO5JufH+CVMZ/FEMJgyM/Pn/2ZFzJTF4RsL2vIIweQE7c3WJrPLi6IK2Rlys44i7mUkutbl+62Jb9v5bQPwu1zctNRa98DRm3r81z/WdT/+1jyZwP9eR9fb+lN/zZGuO0P/ldVvN1uT97p++r61rx/0my2949z0e69dETYPKHEKnb3z/Ot++f14EET0zUHpVNs/75+8OxifHdyKN9NOp7Vx5gxPaXNPdenecbTftrpXas/Yssd9K7h+VXavzyg9jg5Y1+3Zb4X+ttw85EW902fDdtl8G0Vs46R0bYbDydjueFvXN07brzrG/qRb1Xr6FtNPSq8539dONpxb9cRS9X1bcw4rrUn3Ku+o/jQ6qVRGba086Z3XjhwnIKfDaZH0jduSafCjrsC6c9w/nOzhcBoeR/3++Vm7M9HfHAf999bbra0Np3JaOS8I1X715lofl+DM1/phRT+Y6CPn9mSwEV0MSPv8Jm+XzdvD4klvWoqa+qvb5lXQCQq0d9xqqxfRm+Kgwuzm63avczDS6UZ13M67THMrG8a7yfnVpMfHe923LXZlt9uO2DgyLzyvUqq19ifNqlsrHhx0B4Xuhe6M+qWr5nFNnHZJr9ZuNvvdwp5TPNl6b04NvQs+ffdqSz/uYp0ctDy9d9s+ci6EU26+cY6O+nvNIT0ukU7zvNXsmFQNXO4HDGIjuGjvabfacGC3bOFOX7GehTthz1YPR932Yblp6dfv3gVYhIOLkWVhWsvbt7XiW3p1XQ5GvHzkv28NKO+OxvvdwuBsUOi082bz2D7d6Hl+0C12wkkJO9flKr0gg0MvOGPNXp9YB5xEZ9fd1kg76/DhYHBTypfPzsKJDhJlUXx7JDLpOKzTEt3/hH+L7MeWH0DNuk/J+M5LUZQnKDaTnP0IZz19t+DGlzBxW5F0PHA2hAczUSZpPFavyCAFT32ZvkA2a0zkWgjwII+QnZZsT/AEU4EYHlMHC58rcHJg+JhbyoRTQU5hKMncnwXKzs66v4eBkppJLbVh8gYGuJzSEYF+LTO/onu0j5MR9FSPtt5toryqqnHlBPCFIpqJB4r1fJd6rdS9cHKUmiOYvLRKoZeog6kHwCZ8JIlfxMgG1ZJF2AM0pmAzgi3ZKm4s2252m/SZeyTZds4vklbvJB7W+VRjJylmO5QF0azSpOLyZfg3qbWHzCodvEyqHAgRb278tbM1O2xZgEftZeqp9w9eLt85pRq/vbzJV7Zx8gAbAGGjjtZsSG6xUg1tRrS5QrPaGqQaaEb1mGhet1elSt8312nks5YMlt30V2ZLfAuXTaNF57+b+pDG6Y8pFNe13dTSUFBHv11HvtiOCZKvMNQ9HF+ggMYxAhjkwveZzI25cmsf3+UIY60jqLWbWtwElk1SswtmlZQrlaJmGIaWN0vVfBWrtl22y6UHXNbdIKYaV/hGiZsbSAtRyGc0dTO7qsev4l/jc/41/kn+NZ9KtBVIeFYY+bAORn6cT8zP+cT8bp88Gxz+ODB/GsR/qPU/qJ93AND8U3ywLlPiAevzaFgkqlauGrWqodlFgkm1XLFrxFJxuYpNs2B9GxrmH6LhUzi3+Y/BwsSrH9Kx7dJfFAIL4mfFyORx94uVkp+WON9YUP6dUKV9gcW1fwNU1eyaSSrVYrViqsVapVCzNa2cz2tWxS5rBWJ8JVTZno8lWFV+XazSvgartP+w6u/InP+wasni+S+weP4Xxar1075a+OVQJf81qJL/KajyKxnvJ0T4usfHX81UP3rC/dZ4Wuyw6Ljxf6wIFTU=</script> <treescope-run-here><script type=\"application/octet-stream\"> const root = ( Array.from(document.getElementsByClassName( \"treescope_out_1752bd289e9e44e980783d94e82001d2\")) .filter((elt) => !elt.dataset['step0']) )[0]; root.dataset['step0'] = 1; root.defns.insertContent( this.parentNode.querySelector('script[type=\"application/octet-stream\"]'), true ); this.parentNode.remove(); </script></treescope-run-here> </div>"
      ],
      "text/plain": [
       "<IPython.core.display.HTML object>"
      ]
     },
     "metadata": {},
     "output_type": "display_data"
    },
    {
     "data": {
      "text/html": [
       "<div style=\"display:none\"> <script type=\"application/octet-stream\" >eNq1VNtunDAQ/ZURlaJdhRAMLJfsRWqTVspLH9qHPkRRZOzxriuCqfFGXVX5947ZS5Leklbqy4HBc2bmDAdmUt9B7zYNzgOp+67hmzNoTYsBaDkPlLE3EhVai/ImF1ipVJSYF0XG6rpmiZiUScljpXKVT4LFrO94S+jrLSJhGqLzurZ4B99gCM/gVV4mPI6ncD873SYOLBAN7/t58JgULI4aN/3Mv0avreWb0VUcAgshCSENIQthEkIeQhFCGUJ1HYJ0mw7nunVpMj5auik1GObZX0jrYvYXgjOMWV7WVVkzlSHHMi9UhTLmecmFSOWD4JcKYLGXEDMPiYfUQ+Zh4iH3UHgoPVQEzDMY+w/yKlUJLMqsLEScVUVaKcbyJGGyUDlLsf4neZGf+zk8iFGN4X+U4yxiL0yHJ3bdnqzQersIqzsHQ4GAd12jBXfatKdGOHQnPXH4bbAQpu0pi9slukvZwxyugpd7OYTg5T54nPzsVq+n28mkEdYYR3O5le4jmvIDhe+NxNF4CrvpSf4uaZcefVmj3XzEBoUzdhREhw3d+OPgQFWWL2+x3VHX/jYStBmHF7vw3S7j53bnDTmGiPsaEW0ZW3m+0o0c7ZMi4bOGeZ1d45iqkL1g1KADTWT6xDXMHl5A1GC7dCt6enw8pv+Bz9sePu5E4dsG/e2bzSU127Ov9DU18JzerK3AC/L5b5fyyvs8gGP4gb4NI4v0XQj8pN1qdKgWKW37fe9BKREeTi3emrvhzdwf1vSk0JPdjb2bB5uSkX/h4e+vHcsC</script> <treescope-run-here><script type=\"application/octet-stream\"> const root = ( Array.from(document.getElementsByClassName( \"treescope_out_1752bd289e9e44e980783d94e82001d2\")) .filter((elt) => !elt.dataset['step1']) )[0]; root.dataset['step1'] = 1; root.defns.insertContent( this.parentNode.querySelector('script[type=\"application/octet-stream\"]'), true ); this.parentNode.remove(); </script></treescope-run-here> </div>"
      ],
      "text/plain": [
       "<IPython.core.display.HTML object>"
      ]
     },
     "metadata": {},
     "output_type": "display_data"
    },
    {
     "data": {
      "text/html": [
       "<treescope-run-here><script type=\"application/octet-stream\"> const root = ( Array.from(document.getElementsByClassName( \"treescope_out_1752bd289e9e44e980783d94e82001d2\")) .filter((elt) => !elt.dataset.stolen) )[0]; root.dataset.stolen = 1; this.parentNode.replaceChild(root, this); </script></treescope-run-here>"
      ],
      "text/plain": [
       "{'a': 1,\n",
       " 'b': <jax.Array([0, 1, 2, 3, 4, 5, 6, 7, 8, 9], dtype=int32)>,\n",
       " 'c': [{'value': <jax.Array([100, 101, 102, 103, 104, 105, 106, 107, 108, 109, 110, 111], dtype=int32)>},\n",
       "  {'value': <jax.Array([100., 100., 100., 100., 100., 100., 100.], dtype=float32)>},\n",
       "  {'value': 103}]}"
      ]
     },
     "execution_count": 10,
     "metadata": {},
     "output_type": "execute_result"
    }
   ],
   "source": [
    "(\n",
    "    pz.select(my_nested_object)\n",
    "      .at(lambda root: root[\"c\"])\n",
    "      .at_instances_of(jax.typing.ArrayLike)\n",
    "      .apply(lambda value: value + 100)\n",
    ")"
   ]
  },
  {
   "cell_type": "markdown",
   "metadata": {
    "id": "4vKkkNk5-cmj"
   },
   "source": [
    "Selectors are first-class objects, defined in `penzai.core.selectors` but aliased to `pz.select` and `pz.Selection`. Internally, they are ordinary PyTrees:\n"
   ]
  },
  {
   "cell_type": "code",
   "execution_count": 11,
   "metadata": {
    "execution": {
     "iopub.execute_input": "2024-07-26T21:03:10.421168Z",
     "iopub.status.busy": "2024-07-26T21:03:10.420930Z",
     "iopub.status.idle": "2024-07-26T21:03:10.435755Z",
     "shell.execute_reply": "2024-07-26T21:03:10.435547Z"
    },
    "id": "Y58Ll7sO_qjo"
   },
   "outputs": [
    {
     "data": {
      "text/html": [
       "<script> (()=>{ if (customElements.get('treescope-container') === undefined) { class TreescopeContainer extends HTMLElement { constructor() { super(); this.attachShadow({mode: \"open\"}); this.defns = {}; this.state = {}; } } customElements.define(\"treescope-container\", TreescopeContainer); } if (customElements.get('treescope-run-here') === undefined) { class RunHere extends HTMLElement { constructor() { super() } connectedCallback() { const run = child => { const fn = new Function(child.textContent); child.textContent = \"\"; fn.call(this); this.remove(); }; const child = this.querySelector(\"script\"); if (child) { run(child); } else { new MutationObserver(()=>{ run(this.querySelector(\"script\")); }).observe(this, {childList: true}); } } } customElements.define(\"treescope-run-here\", RunHere); } })(); </script> <treescope-container class=\"treescope_out_6f63f6731281470c89dc748409830758\" ></treescope-container> <treescope-run-here><script type=\"application/octet-stream\"> const root = ( Array.from(document.getElementsByClassName( \"treescope_out_6f63f6731281470c89dc748409830758\")) .filter((elt) => !elt.dataset.setup) )[0]; root.dataset.setup = 1; const msg = document.createElement(\"span\"); msg.style = \"color: #aaaaaa; font-family: monospace; transition: opacity 0.2s; opacity: 0.0;\"; msg.textContent = \"(Loading...)\"; root.state.loadingMsg = msg; root.shadowRoot.appendChild(msg); root.state.chain = new Promise((resolve, reject) => { const observer = new IntersectionObserver((entries) => { for (const entry of entries) { if (entry.isIntersecting) { resolve(); observer.disconnect(); return; } } }, {rootMargin: \"1000px\"}); window.setTimeout(() => { if (root.loadingMsg) { root.loadingMsg.style.opacity = \"1.0\"; } observer.observe(root); }, 0); }); root.state.deferring = false; const _insertNode = (node) => { for (let oldScript of node.querySelectorAll(\"script\")) { let newScript = document.createElement(\"script\"); newScript.type = oldScript.type; newScript.textContent = oldScript.textContent; oldScript.parentNode.replaceChild(newScript, oldScript); } if (root.state.loadingMsg) { root.state.loadingMsg.remove(); root.state.loadingMsg = null; } root.shadowRoot.appendChild(node); }; root.defns.insertContent = ((contentNode, compressed) => { if (compressed) { root.state.deferring = true; } if (root.state.deferring) { root.state.chain = (async () => { await root.state.chain; if (compressed) { const encoded = contentNode.textContent; const blob = new Blob([ Uint8Array.from(atob(encoded), (m) => m.codePointAt(0)) ]); const reader = blob.stream().pipeThrough( new DecompressionStream(\"deflate\") ).pipeThrough( new TextDecoderStream(\"utf-8\") ).getReader(); const parts = []; while (true) { const step = await reader.read(); if (step.done) { break; } parts.push(step.value); } const tpl = document.createElement('template'); tpl.innerHTML = parts.join(\"\"); _insertNode(tpl.content); } else { _insertNode(contentNode.content); } })(); } else { _insertNode(contentNode.content); } }); </script></treescope-run-here><div style=\"display:none\"> <script type=\"application/octet-stream\" >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</script> <treescope-run-here><script type=\"application/octet-stream\"> const root = ( Array.from(document.getElementsByClassName( \"treescope_out_6f63f6731281470c89dc748409830758\")) .filter((elt) => !elt.dataset['step0']) )[0]; root.dataset['step0'] = 1; root.defns.insertContent( this.parentNode.querySelector('script[type=\"application/octet-stream\"]'), true ); this.parentNode.remove(); </script></treescope-run-here> </div>"
      ],
      "text/plain": [
       "Selection(\n",
       "  selected_by_path=OrderedDict({\n",
       "    (DictKey(key='c'), SequenceKey(idx=0), DictKey(key='value')):\n",
       "      <jax.Array([ 0,  1,  2,  3,  4,  5,  6,  7,  8,  9, 10, 11], dtype=int32)>,\n",
       "    (DictKey(key='c'), SequenceKey(idx=1), DictKey(key='value')):\n",
       "      <jax.Array([0., 0., 0., 0., 0., 0., 0.], dtype=float32)>,\n",
       "    (DictKey(key='c'), SequenceKey(idx=2), DictKey(key='value')):\n",
       "      3,\n",
       "  }),\n",
       "  remainder={'a': 1, 'b': <jax.Array([0, 1, 2, 3, 4, 5, 6, 7, 8, 9], dtype=int32)>, 'c': [{'value': SelectionHole(path=(DictKey(key='c'), SequenceKey(idx=0), DictKey(key='value')))}, {'value': SelectionHole(path=(DictKey(key='c'), SequenceKey(idx=1), DictKey(key='value')))}, {'value': SelectionHole(path=(DictKey(key='c'), SequenceKey(idx=2), DictKey(key='value')))}]},\n",
       ")"
      ]
     },
     "metadata": {},
     "output_type": "display_data"
    }
   ],
   "source": [
    "my_selection = (\n",
    "    pz.select(my_nested_object)\n",
    "      .at(lambda root: root[\"c\"])\n",
    "      .at_instances_of(jax.typing.ArrayLike)\n",
    ")\n",
    "\n",
    "pz.show(my_selection)"
   ]
  },
  {
   "cell_type": "markdown",
   "metadata": {
    "id": "FJ3OuNUD_lO4"
   },
   "source": [
    "By default, though, selections are rendered in a way that emphasizes what you've selected, so you can tell at a glance that you're making the changes you expect to:"
   ]
  },
  {
   "cell_type": "code",
   "execution_count": 12,
   "metadata": {
    "execution": {
     "iopub.execute_input": "2024-07-26T21:03:10.445087Z",
     "iopub.status.busy": "2024-07-26T21:03:10.444854Z",
     "iopub.status.idle": "2024-07-26T21:03:10.457152Z",
     "shell.execute_reply": "2024-07-26T21:03:10.457270Z"
    },
    "id": "EUD6zd_L-iNr"
   },
   "outputs": [
    {
     "data": {
      "text/html": [
       "<script> (()=>{ if (customElements.get('treescope-container') === undefined) { class TreescopeContainer extends HTMLElement { constructor() { super(); this.attachShadow({mode: \"open\"}); this.defns = {}; this.state = {}; } } customElements.define(\"treescope-container\", TreescopeContainer); } if (customElements.get('treescope-run-here') === undefined) { class RunHere extends HTMLElement { constructor() { super() } connectedCallback() { const run = child => { const fn = new Function(child.textContent); child.textContent = \"\"; fn.call(this); this.remove(); }; const child = this.querySelector(\"script\"); if (child) { run(child); } else { new MutationObserver(()=>{ run(this.querySelector(\"script\")); }).observe(this, {childList: true}); } } } customElements.define(\"treescope-run-here\", RunHere); } })(); </script> <treescope-container class=\"treescope_out_3a65c84f676a46e78ebb0251b66afbea\" ></treescope-container> <treescope-run-here><script type=\"application/octet-stream\"> const root = ( Array.from(document.getElementsByClassName( \"treescope_out_3a65c84f676a46e78ebb0251b66afbea\")) .filter((elt) => !elt.dataset.setup) )[0]; root.dataset.setup = 1; const msg = document.createElement(\"span\"); msg.style = \"color: #aaaaaa; font-family: monospace; transition: opacity 0.2s; opacity: 0.0;\"; msg.textContent = \"(Loading...)\"; root.state.loadingMsg = msg; root.shadowRoot.appendChild(msg); root.state.chain = new Promise((resolve, reject) => { const observer = new IntersectionObserver((entries) => { for (const entry of entries) { if (entry.isIntersecting) { resolve(); observer.disconnect(); return; } } }, {rootMargin: \"1000px\"}); window.setTimeout(() => { if (root.loadingMsg) { root.loadingMsg.style.opacity = \"1.0\"; } observer.observe(root); }, 0); }); root.state.deferring = false; const _insertNode = (node) => { for (let oldScript of node.querySelectorAll(\"script\")) { let newScript = document.createElement(\"script\"); newScript.type = oldScript.type; newScript.textContent = oldScript.textContent; oldScript.parentNode.replaceChild(newScript, oldScript); } if (root.state.loadingMsg) { root.state.loadingMsg.remove(); root.state.loadingMsg = null; } root.shadowRoot.appendChild(node); }; root.defns.insertContent = ((contentNode, compressed) => { if (compressed) { root.state.deferring = true; } if (root.state.deferring) { root.state.chain = (async () => { await root.state.chain; if (compressed) { const encoded = contentNode.textContent; const blob = new Blob([ Uint8Array.from(atob(encoded), (m) => m.codePointAt(0)) ]); const reader = blob.stream().pipeThrough( new DecompressionStream(\"deflate\") ).pipeThrough( new TextDecoderStream(\"utf-8\") ).getReader(); const parts = []; while (true) { const step = await reader.read(); if (step.done) { break; } parts.push(step.value); } const tpl = document.createElement('template'); tpl.innerHTML = parts.join(\"\"); _insertNode(tpl.content); } else { _insertNode(contentNode.content); } })(); } else { _insertNode(contentNode.content); } }); </script></treescope-run-here><div style=\"display:none\"> <script type=\"application/octet-stream\" >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</script> <treescope-run-here><script type=\"application/octet-stream\"> const root = ( Array.from(document.getElementsByClassName( \"treescope_out_3a65c84f676a46e78ebb0251b66afbea\")) .filter((elt) => !elt.dataset['step0']) )[0]; root.dataset['step0'] = 1; root.defns.insertContent( this.parentNode.querySelector('script[type=\"application/octet-stream\"]'), true ); this.parentNode.remove(); </script></treescope-run-here> </div>"
      ],
      "text/plain": [
       "<IPython.core.display.HTML object>"
      ]
     },
     "metadata": {},
     "output_type": "display_data"
    },
    {
     "data": {
      "text/html": [
       "<div style=\"display:none\"> <script type=\"application/octet-stream\" >eNq1k01v2zAMhv8KoQJFgriu7TiJ3XwAW7sBveywHXYIgkCW6ESDanmyEiwo+t9HOR9tt25rDzvEsSy+JB/q1USqLTRup3HKpGpqzXdXUJkKGSg5ZaWxS4klWotymZaiL3iOWVHEaRkVRYRpXEoZx/mAHgmbTZqaV/T0+WahMJrkvCgsbuEe2uUVnA2zhEfRGB4ml/vAVgVC86aZsqciNjvXbvyN/wjfWct3nXkUQBxAEkA/gDSAQQDDAEYBZAHkiwCk29U4VZXrJ93zlRtTgbaf4x+xziZvAO5nchBLEadpkaTpKM9FkY2It98fDQZFKh+BXwsAROARPIOH8BQew3N4EE8COVF60vg/IBWZzOissiQuR2me5RnHqEwxKwe8GCZl/nakKAzg5d+p/VIb/lcAZxEbYWq8sJvqYo3Wm0JYVTtoEzBe11oJ7pSpLo1w6C4a0vA7NhOmaiiK2xW6W9nAFObs9Y4NgL3+tJ8G/3OOi/G+M2mENcZRX26tmpC6/EzLT0ZipzuGQ/eEfwg6hIffN2h3X1CjcMZ2WHia0NJvs5O0tHx1h9VBuvGvoaDJOLw5LD8eIn4vd63JIyQ85ghpyljJ67XSsnMMCoWPavt1doNdykKGgo5GB4rEdJEVTB4PINRYrdyavvZ6Xbr1Pm6/+bQSLT9o9K/vd7dU7KieqwUV8JrGbKzAG3L2H4dy5p3NoAe/yPfL0CLdBIFflVt3TtnCUtnmWLslJcHjrsU7s21P5uE0pmeJns2u693c2pSM/IKHfwIUM8Uj</script> <treescope-run-here><script type=\"application/octet-stream\"> const root = ( Array.from(document.getElementsByClassName( \"treescope_out_3a65c84f676a46e78ebb0251b66afbea\")) .filter((elt) => !elt.dataset['step1']) )[0]; root.dataset['step1'] = 1; root.defns.insertContent( this.parentNode.querySelector('script[type=\"application/octet-stream\"]'), true ); this.parentNode.remove(); </script></treescope-run-here> </div>"
      ],
      "text/plain": [
       "<IPython.core.display.HTML object>"
      ]
     },
     "metadata": {},
     "output_type": "display_data"
    },
    {
     "data": {
      "text/html": [
       "<treescope-run-here><script type=\"application/octet-stream\"> const root = ( Array.from(document.getElementsByClassName( \"treescope_out_3a65c84f676a46e78ebb0251b66afbea\")) .filter((elt) => !elt.dataset.stolen) )[0]; root.dataset.stolen = 1; this.parentNode.replaceChild(root, this); </script></treescope-run-here>"
      ],
      "text/plain": [
       "Selection(\n",
       "  selected_by_path=OrderedDict({\n",
       "    (DictKey(key='c'), SequenceKey(idx=0), DictKey(key='value')):\n",
       "      <jax.Array([ 0,  1,  2,  3,  4,  5,  6,  7,  8,  9, 10, 11], dtype=int32)>,\n",
       "    (DictKey(key='c'), SequenceKey(idx=1), DictKey(key='value')):\n",
       "      <jax.Array([0., 0., 0., 0., 0., 0., 0.], dtype=float32)>,\n",
       "    (DictKey(key='c'), SequenceKey(idx=2), DictKey(key='value')):\n",
       "      3,\n",
       "  }),\n",
       "  remainder={'a': 1, 'b': <jax.Array([0, 1, 2, 3, 4, 5, 6, 7, 8, 9], dtype=int32)>, 'c': [{'value': SelectionHole(path=(DictKey(key='c'), SequenceKey(idx=0), DictKey(key='value')))}, {'value': SelectionHole(path=(DictKey(key='c'), SequenceKey(idx=1), DictKey(key='value')))}, {'value': SelectionHole(path=(DictKey(key='c'), SequenceKey(idx=2), DictKey(key='value')))}]},\n",
       ")"
      ]
     },
     "execution_count": 12,
     "metadata": {},
     "output_type": "execute_result"
    }
   ],
   "source": [
    "my_selection"
   ]
  },
  {
   "cell_type": "markdown",
   "metadata": {
    "id": "Alps_lEFBFq3"
   },
   "source": [
    "(This fancy rendering mode is triggered when you display a single selection after enabling `treescope.register_as_default()`, or when you call `.show_selection()` on a selection object.)"
   ]
  },
  {
   "cell_type": "markdown",
   "metadata": {
    "id": "7UpYotjP-ZIC"
   },
   "source": [
    "## Building selections"
   ]
  },
  {
   "cell_type": "markdown",
   "metadata": {
    "id": "WEBkR8V7EiRr"
   },
   "source": [
    "The penzai selector API is designed around *method chaining*. You generally start by creating a trivial selection containing only a single object, the root object, using `pz.select`:"
   ]
  },
  {
   "cell_type": "code",
   "execution_count": 13,
   "metadata": {
    "execution": {
     "iopub.execute_input": "2024-07-26T21:03:10.463784Z",
     "iopub.status.busy": "2024-07-26T21:03:10.463540Z",
     "iopub.status.idle": "2024-07-26T21:03:10.471449Z",
     "shell.execute_reply": "2024-07-26T21:03:10.471255Z"
    },
    "id": "k3mVVp0-9rL2"
   },
   "outputs": [
    {
     "data": {
      "text/html": [
       "<script> (()=>{ if (customElements.get('treescope-container') === undefined) { class TreescopeContainer extends HTMLElement { constructor() { super(); this.attachShadow({mode: \"open\"}); this.defns = {}; this.state = {}; } } customElements.define(\"treescope-container\", TreescopeContainer); } if (customElements.get('treescope-run-here') === undefined) { class RunHere extends HTMLElement { constructor() { super() } connectedCallback() { const run = child => { const fn = new Function(child.textContent); child.textContent = \"\"; fn.call(this); this.remove(); }; const child = this.querySelector(\"script\"); if (child) { run(child); } else { new MutationObserver(()=>{ run(this.querySelector(\"script\")); }).observe(this, {childList: true}); } } } customElements.define(\"treescope-run-here\", RunHere); } })(); </script> <treescope-container class=\"treescope_out_a045949159464a2da762181552f0f791\" ></treescope-container> <treescope-run-here><script type=\"application/octet-stream\"> const root = ( Array.from(document.getElementsByClassName( \"treescope_out_a045949159464a2da762181552f0f791\")) .filter((elt) => !elt.dataset.setup) )[0]; root.dataset.setup = 1; const msg = document.createElement(\"span\"); msg.style = \"color: #aaaaaa; font-family: monospace; transition: opacity 0.2s; opacity: 0.0;\"; msg.textContent = \"(Loading...)\"; root.state.loadingMsg = msg; root.shadowRoot.appendChild(msg); root.state.chain = new Promise((resolve, reject) => { const observer = new IntersectionObserver((entries) => { for (const entry of entries) { if (entry.isIntersecting) { resolve(); observer.disconnect(); return; } } }, {rootMargin: \"1000px\"}); window.setTimeout(() => { if (root.loadingMsg) { root.loadingMsg.style.opacity = \"1.0\"; } observer.observe(root); }, 0); }); root.state.deferring = false; const _insertNode = (node) => { for (let oldScript of node.querySelectorAll(\"script\")) { let newScript = document.createElement(\"script\"); newScript.type = oldScript.type; newScript.textContent = oldScript.textContent; oldScript.parentNode.replaceChild(newScript, oldScript); } if (root.state.loadingMsg) { root.state.loadingMsg.remove(); root.state.loadingMsg = null; } root.shadowRoot.appendChild(node); }; root.defns.insertContent = ((contentNode, compressed) => { if (compressed) { root.state.deferring = true; } if (root.state.deferring) { root.state.chain = (async () => { await root.state.chain; if (compressed) { const encoded = contentNode.textContent; const blob = new Blob([ Uint8Array.from(atob(encoded), (m) => m.codePointAt(0)) ]); const reader = blob.stream().pipeThrough( new DecompressionStream(\"deflate\") ).pipeThrough( new TextDecoderStream(\"utf-8\") ).getReader(); const parts = []; while (true) { const step = await reader.read(); if (step.done) { break; } parts.push(step.value); } const tpl = document.createElement('template'); tpl.innerHTML = parts.join(\"\"); _insertNode(tpl.content); } else { _insertNode(contentNode.content); } })(); } else { _insertNode(contentNode.content); } }); </script></treescope-run-here><div style=\"display:none\"> <script type=\"application/octet-stream\" >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</script> <treescope-run-here><script type=\"application/octet-stream\"> const root = ( Array.from(document.getElementsByClassName( \"treescope_out_a045949159464a2da762181552f0f791\")) .filter((elt) => !elt.dataset['step0']) )[0]; root.dataset['step0'] = 1; root.defns.insertContent( this.parentNode.querySelector('script[type=\"application/octet-stream\"]'), true ); this.parentNode.remove(); </script></treescope-run-here> </div>"
      ],
      "text/plain": [
       "<IPython.core.display.HTML object>"
      ]
     },
     "metadata": {},
     "output_type": "display_data"
    },
    {
     "data": {
      "text/html": [
       "<div style=\"display:none\"> <script type=\"application/octet-stream\" >eNq1k01v2zAMhv8KoQJFgrquY8ux3XwAW7sBveywHXYoikKW6USDanmyUiwo+t9HOR9Nt25rDzvEsSy+JB/q1bRS99C5tcYZq1TXarE+h8Y0yEBVM1Ybe1thjdZidZsXIs54VsiSI5elKOI0SgueZ8VYCi5SNp92rWjo6fPNQ2k0yUVZWryHB+iX53A0zmMRRRN4nJ5tAnsVSC26bsYORWx+rN3km/gRvrNWrAfXUQCjAOIAkgB4AGkA4wCyAPIAipsAKrducaYal8TD44WbUIG+n90fsc6nbwCuZR1nCUeM8hEvy6LIZTIaySzioiqzRDwBvxYAiMAjeAYP4Sk8hufwIJ4ECqL0pKP/gFQmY5mUeTzCJOV5ykVSRqkcC5GKLOaCvx0pCgN4+bdvv9ZG/BXAWcROmhZP7ao5XaL1ppBWtQ76BEy0rVZSOGWaMyMdutOONOKOzaVpOooSdoHuqupgBtfs9Y4NgL3+tA+D/znHm8mms8pIa4yjvtxSdSF1+ZmWn0yFg+EEtt0T/jZoGx5+X6Fdf0GN0hk7YOF+Qrd+m+2ltRWLO2y20pV/DSVNxuHldvlxG/F7uQtNHiHhLkdIU8amulgqXQ12QaH0UX2/zq5wSFnIUDDQ6ECRmC6ygunTAYQam4Vb0teTkyHdeh+32TysRMsPGv3r+/UVFdupr9UNFfCazqysxEty9h+HcuSdzeAEfpFvlqFFugkSvyq3HOyzhbWy3a52T0qCp12Ld+a+P5nH/ZieJXo2u6F3c29TMvILHv4JeCjD3w==</script> <treescope-run-here><script type=\"application/octet-stream\"> const root = ( Array.from(document.getElementsByClassName( \"treescope_out_a045949159464a2da762181552f0f791\")) .filter((elt) => !elt.dataset['step1']) )[0]; root.dataset['step1'] = 1; root.defns.insertContent( this.parentNode.querySelector('script[type=\"application/octet-stream\"]'), true ); this.parentNode.remove(); </script></treescope-run-here> </div>"
      ],
      "text/plain": [
       "<IPython.core.display.HTML object>"
      ]
     },
     "metadata": {},
     "output_type": "display_data"
    },
    {
     "data": {
      "text/html": [
       "<treescope-run-here><script type=\"application/octet-stream\"> const root = ( Array.from(document.getElementsByClassName( \"treescope_out_a045949159464a2da762181552f0f791\")) .filter((elt) => !elt.dataset.stolen) )[0]; root.dataset.stolen = 1; this.parentNode.replaceChild(root, this); </script></treescope-run-here>"
      ],
      "text/plain": [
       "Selection(\n",
       "  selected_by_path=OrderedDict({\n",
       "    (): {\n",
       "      'a': 1,\n",
       "      'b': <jax.Array([0, 1, 2, 3, 4, 5, 6, 7, 8, 9], dtype=int32)>,\n",
       "      'c': [\n",
       "        {\n",
       "          'value': <jax.Array([ 0,  1,  2,  3,  4,  5,  6,  7,  8,  9, 10, 11], dtype=int32)>,\n",
       "        },\n",
       "        {\n",
       "          'value': <jax.Array([0., 0., 0., 0., 0., 0., 0.], dtype=float32)>,\n",
       "        },\n",
       "        {'value': 3},\n",
       "      ],\n",
       "    },\n",
       "  }),\n",
       "  remainder=SelectionHole(path=()),\n",
       ")"
      ]
     },
     "execution_count": 13,
     "metadata": {},
     "output_type": "execute_result"
    }
   ],
   "source": [
    "pz.select(my_nested_object)"
   ]
  },
  {
   "cell_type": "markdown",
   "metadata": {
    "id": "NcmUj1AF3xS1"
   },
   "source": [
    "You can also use the `.select()` attribute if you know your root object is a subclass of `pz.Struct`:"
   ]
  },
  {
   "cell_type": "code",
   "execution_count": 14,
   "metadata": {
    "execution": {
     "iopub.execute_input": "2024-07-26T21:03:10.477867Z",
     "iopub.status.busy": "2024-07-26T21:03:10.477584Z",
     "iopub.status.idle": "2024-07-26T21:03:10.482628Z",
     "shell.execute_reply": "2024-07-26T21:03:10.482751Z"
    },
    "id": "jqw3QPx9EzjR"
   },
   "outputs": [
    {
     "data": {
      "text/html": [
       "<script> (()=>{ if (customElements.get('treescope-container') === undefined) { class TreescopeContainer extends HTMLElement { constructor() { super(); this.attachShadow({mode: \"open\"}); this.defns = {}; this.state = {}; } } customElements.define(\"treescope-container\", TreescopeContainer); } if (customElements.get('treescope-run-here') === undefined) { class RunHere extends HTMLElement { constructor() { super() } connectedCallback() { const run = child => { const fn = new Function(child.textContent); child.textContent = \"\"; fn.call(this); this.remove(); }; const child = this.querySelector(\"script\"); if (child) { run(child); } else { new MutationObserver(()=>{ run(this.querySelector(\"script\")); }).observe(this, {childList: true}); } } } customElements.define(\"treescope-run-here\", RunHere); } })(); </script> <treescope-container class=\"treescope_out_90755ad057944201b94512ee257356ad\" ></treescope-container> <treescope-run-here><script type=\"application/octet-stream\"> const root = ( Array.from(document.getElementsByClassName( \"treescope_out_90755ad057944201b94512ee257356ad\")) .filter((elt) => !elt.dataset.setup) )[0]; root.dataset.setup = 1; const msg = document.createElement(\"span\"); msg.style = \"color: #aaaaaa; font-family: monospace; transition: opacity 0.2s; opacity: 0.0;\"; msg.textContent = \"(Loading...)\"; root.state.loadingMsg = msg; root.shadowRoot.appendChild(msg); root.state.chain = new Promise((resolve, reject) => { const observer = new IntersectionObserver((entries) => { for (const entry of entries) { if (entry.isIntersecting) { resolve(); observer.disconnect(); return; } } }, {rootMargin: \"1000px\"}); window.setTimeout(() => { if (root.loadingMsg) { root.loadingMsg.style.opacity = \"1.0\"; } observer.observe(root); }, 0); }); root.state.deferring = false; const _insertNode = (node) => { for (let oldScript of node.querySelectorAll(\"script\")) { let newScript = document.createElement(\"script\"); newScript.type = oldScript.type; newScript.textContent = oldScript.textContent; oldScript.parentNode.replaceChild(newScript, oldScript); } if (root.state.loadingMsg) { root.state.loadingMsg.remove(); root.state.loadingMsg = null; } root.shadowRoot.appendChild(node); }; root.defns.insertContent = ((contentNode, compressed) => { if (compressed) { root.state.deferring = true; } if (root.state.deferring) { root.state.chain = (async () => { await root.state.chain; if (compressed) { const encoded = contentNode.textContent; const blob = new Blob([ Uint8Array.from(atob(encoded), (m) => m.codePointAt(0)) ]); const reader = blob.stream().pipeThrough( new DecompressionStream(\"deflate\") ).pipeThrough( new TextDecoderStream(\"utf-8\") ).getReader(); const parts = []; while (true) { const step = await reader.read(); if (step.done) { break; } parts.push(step.value); } const tpl = document.createElement('template'); tpl.innerHTML = parts.join(\"\"); _insertNode(tpl.content); } else { _insertNode(contentNode.content); } })(); } else { _insertNode(contentNode.content); } }); </script></treescope-run-here><div style=\"display:none\"> <script type=\"application/octet-stream\" >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</script> <treescope-run-here><script type=\"application/octet-stream\"> const root = ( Array.from(document.getElementsByClassName( \"treescope_out_90755ad057944201b94512ee257356ad\")) .filter((elt) => !elt.dataset['step0']) )[0]; root.dataset['step0'] = 1; root.defns.insertContent( this.parentNode.querySelector('script[type=\"application/octet-stream\"]'), true ); this.parentNode.remove(); </script></treescope-run-here> </div>"
      ],
      "text/plain": [
       "<IPython.core.display.HTML object>"
      ]
     },
     "metadata": {},
     "output_type": "display_data"
    },
    {
     "data": {
      "text/html": [
       "<treescope-run-here><script type=\"application/octet-stream\"> const root = ( Array.from(document.getElementsByClassName( \"treescope_out_90755ad057944201b94512ee257356ad\")) .filter((elt) => !elt.dataset.stolen) )[0]; root.dataset.stolen = 1; this.parentNode.replaceChild(root, this); </script></treescope-run-here>"
      ],
      "text/plain": [
       "Selection(\n",
       "  selected_by_path=OrderedDict({(): MyStruct(foo=4)}),\n",
       "  remainder=SelectionHole(path=()),\n",
       ")"
      ]
     },
     "execution_count": 14,
     "metadata": {},
     "output_type": "execute_result"
    }
   ],
   "source": [
    "@pz.pytree_dataclass\n",
    "class MyStruct(pz.Struct):\n",
    "  foo: typing.Any\n",
    "\n",
    "MyStruct(4).select()"
   ]
  },
  {
   "cell_type": "markdown",
   "metadata": {
    "id": "tTKPVIUrFbeT"
   },
   "source": [
    "You then call methods on the selection to *refine* it to a subset of the currently selected values. These methods all operate relative to the currently selected object, so if you chain them, each method's output is restricted to the values selected by the previous method."
   ]
  },
  {
   "cell_type": "markdown",
   "metadata": {
    "id": "cFdUT5KaFju9"
   },
   "source": [
    "### Selecting with a function\n",
    "If you want to select a specific part of a tree, you can use `selection.at(...)`. The `.at` method takes as input a *function* that extracts the part you want to select, and returns a new selection that selects the extracted part:"
   ]
  },
  {
   "cell_type": "code",
   "execution_count": 15,
   "metadata": {
    "execution": {
     "iopub.execute_input": "2024-07-26T21:03:10.489888Z",
     "iopub.status.busy": "2024-07-26T21:03:10.489481Z",
     "iopub.status.idle": "2024-07-26T21:03:10.498028Z",
     "shell.execute_reply": "2024-07-26T21:03:10.497850Z"
    },
    "id": "8ZgPZeKeGDzQ"
   },
   "outputs": [
    {
     "data": {
      "text/html": [
       "<script> (()=>{ if (customElements.get('treescope-container') === undefined) { class TreescopeContainer extends HTMLElement { constructor() { super(); this.attachShadow({mode: \"open\"}); this.defns = {}; this.state = {}; } } customElements.define(\"treescope-container\", TreescopeContainer); } if (customElements.get('treescope-run-here') === undefined) { class RunHere extends HTMLElement { constructor() { super() } connectedCallback() { const run = child => { const fn = new Function(child.textContent); child.textContent = \"\"; fn.call(this); this.remove(); }; const child = this.querySelector(\"script\"); if (child) { run(child); } else { new MutationObserver(()=>{ run(this.querySelector(\"script\")); }).observe(this, {childList: true}); } } } customElements.define(\"treescope-run-here\", RunHere); } })(); </script> <treescope-container class=\"treescope_out_a4b83b37bd3f4a088f0dd5ce21654a48\" ></treescope-container> <treescope-run-here><script type=\"application/octet-stream\"> const root = ( Array.from(document.getElementsByClassName( \"treescope_out_a4b83b37bd3f4a088f0dd5ce21654a48\")) .filter((elt) => !elt.dataset.setup) )[0]; root.dataset.setup = 1; const msg = document.createElement(\"span\"); msg.style = \"color: #aaaaaa; font-family: monospace; transition: opacity 0.2s; opacity: 0.0;\"; msg.textContent = \"(Loading...)\"; root.state.loadingMsg = msg; root.shadowRoot.appendChild(msg); root.state.chain = new Promise((resolve, reject) => { const observer = new IntersectionObserver((entries) => { for (const entry of entries) { if (entry.isIntersecting) { resolve(); observer.disconnect(); return; } } }, {rootMargin: \"1000px\"}); window.setTimeout(() => { if (root.loadingMsg) { root.loadingMsg.style.opacity = \"1.0\"; } observer.observe(root); }, 0); }); root.state.deferring = false; const _insertNode = (node) => { for (let oldScript of node.querySelectorAll(\"script\")) { let newScript = document.createElement(\"script\"); newScript.type = oldScript.type; newScript.textContent = oldScript.textContent; oldScript.parentNode.replaceChild(newScript, oldScript); } if (root.state.loadingMsg) { root.state.loadingMsg.remove(); root.state.loadingMsg = null; } root.shadowRoot.appendChild(node); }; root.defns.insertContent = ((contentNode, compressed) => { if (compressed) { root.state.deferring = true; } if (root.state.deferring) { root.state.chain = (async () => { await root.state.chain; if (compressed) { const encoded = contentNode.textContent; const blob = new Blob([ Uint8Array.from(atob(encoded), (m) => m.codePointAt(0)) ]); const reader = blob.stream().pipeThrough( new DecompressionStream(\"deflate\") ).pipeThrough( new TextDecoderStream(\"utf-8\") ).getReader(); const parts = []; while (true) { const step = await reader.read(); if (step.done) { break; } parts.push(step.value); } const tpl = document.createElement('template'); tpl.innerHTML = parts.join(\"\"); _insertNode(tpl.content); } else { _insertNode(contentNode.content); } })(); } else { _insertNode(contentNode.content); } }); </script></treescope-run-here><div style=\"display:none\"> <script type=\"application/octet-stream\" >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</script> <treescope-run-here><script type=\"application/octet-stream\"> const root = ( Array.from(document.getElementsByClassName( \"treescope_out_a4b83b37bd3f4a088f0dd5ce21654a48\")) .filter((elt) => !elt.dataset['step0']) )[0]; root.dataset['step0'] = 1; root.defns.insertContent( this.parentNode.querySelector('script[type=\"application/octet-stream\"]'), true ); this.parentNode.remove(); </script></treescope-run-here> </div>"
      ],
      "text/plain": [
       "<IPython.core.display.HTML object>"
      ]
     },
     "metadata": {},
     "output_type": "display_data"
    },
    {
     "data": {
      "text/html": [
       "<div style=\"display:none\"> <script type=\"application/octet-stream\" >eNq1k0tP20AQx7/KyEgoEcYYP2PykFpoJS49tIceUBTtY5xstXjd9QY1Qnz3zjoPoKUtHHqI4/XOf2Z+s/+dSHUHndtonAZSda1mmwtoTIMBKDkNamMXEmu0FuVCpkUieJmzvE6zKon5qCowrzmvK/rAi2A26VrW0NPnm0XCaJIzzi3ewT30yws4KkYJi+MxPEzOtoG9CoRmXTcNnoqC2bF242/sR/TOWrYZ3MQhnIeQhJCGkIWQh1CEUIYwCqGahyDdpsWpalyaDI+XbkwF+n72f8Q6m7wBOE1HLK+yUuRFmQnEKuFpGZe8KFMsYiYfgV8LAETgETyDh/AUHsNzeBBPAhVRetLz/4BUxnHChUw4L+IsLxKeJBKzPGbnCc+yono7UhyF8PLv0H6tDfsrgLOInTAtntp1c7pC600hrGod9AkC1rZaCeaUac6McOhOO9Kw22AmTNNRFLNLdNeygyncBK93bAjB60/7afA/5zgfbzuTRlhjHPXlVqqLqMvPtPxkJA6GY9h1T/i7oF149H2NdvMFNQpn7CCIDhNa+O3gIK0tW95is5Ou/WskaDIOr3bLj7uI38tdavIICfc5IpoyNvJypbQc7IMi4aP6fp1d45CykKFgoNGBIjFdZAWTxwOINDZLt6KvJydDuvU+brv5tBItP2j0r+8311Rsr75RcyrgNZ1ZW4FX5Ow/DuXIOzuAE/hFvl1GFukmCPyq3GpwyBbVynb72j0pCR53Ld6au/5kHg5jepbo2eyG3s29TcnIL3j4Jxiaw4M=</script> <treescope-run-here><script type=\"application/octet-stream\"> const root = ( Array.from(document.getElementsByClassName( \"treescope_out_a4b83b37bd3f4a088f0dd5ce21654a48\")) .filter((elt) => !elt.dataset['step1']) )[0]; root.dataset['step1'] = 1; root.defns.insertContent( this.parentNode.querySelector('script[type=\"application/octet-stream\"]'), true ); this.parentNode.remove(); </script></treescope-run-here> </div>"
      ],
      "text/plain": [
       "<IPython.core.display.HTML object>"
      ]
     },
     "metadata": {},
     "output_type": "display_data"
    },
    {
     "data": {
      "text/html": [
       "<treescope-run-here><script type=\"application/octet-stream\"> const root = ( Array.from(document.getElementsByClassName( \"treescope_out_a4b83b37bd3f4a088f0dd5ce21654a48\")) .filter((elt) => !elt.dataset.stolen) )[0]; root.dataset.stolen = 1; this.parentNode.replaceChild(root, this); </script></treescope-run-here>"
      ],
      "text/plain": [
       "Selection(\n",
       "  selected_by_path=OrderedDict({\n",
       "    (DictKey(key='c'),):\n",
       "      [\n",
       "        {\n",
       "          'value': <jax.Array([ 0,  1,  2,  3,  4,  5,  6,  7,  8,  9, 10, 11], dtype=int32)>,\n",
       "        },\n",
       "        {'value': <jax.Array([0., 0., 0., 0., 0., 0., 0.], dtype=float32)>},\n",
       "        {'value': 3},\n",
       "      ],\n",
       "  }),\n",
       "  remainder={\n",
       "    'a': 1,\n",
       "    'b': <jax.Array([0, 1, 2, 3, 4, 5, 6, 7, 8, 9], dtype=int32)>,\n",
       "    'c': SelectionHole(path=(DictKey(key='c'),)),\n",
       "  },\n",
       ")"
      ]
     },
     "execution_count": 15,
     "metadata": {},
     "output_type": "execute_result"
    }
   ],
   "source": [
    "pz.select(my_nested_object).at(lambda root: root[\"c\"])"
   ]
  },
  {
   "cell_type": "code",
   "execution_count": 16,
   "metadata": {
    "execution": {
     "iopub.execute_input": "2024-07-26T21:03:10.505339Z",
     "iopub.status.busy": "2024-07-26T21:03:10.504847Z",
     "iopub.status.idle": "2024-07-26T21:03:10.513610Z",
     "shell.execute_reply": "2024-07-26T21:03:10.513416Z"
    },
    "id": "dAO2KhdyGFZ5"
   },
   "outputs": [
    {
     "data": {
      "text/html": [
       "<script> (()=>{ if (customElements.get('treescope-container') === undefined) { class TreescopeContainer extends HTMLElement { constructor() { super(); this.attachShadow({mode: \"open\"}); this.defns = {}; this.state = {}; } } customElements.define(\"treescope-container\", TreescopeContainer); } if (customElements.get('treescope-run-here') === undefined) { class RunHere extends HTMLElement { constructor() { super() } connectedCallback() { const run = child => { const fn = new Function(child.textContent); child.textContent = \"\"; fn.call(this); this.remove(); }; const child = this.querySelector(\"script\"); if (child) { run(child); } else { new MutationObserver(()=>{ run(this.querySelector(\"script\")); }).observe(this, {childList: true}); } } } customElements.define(\"treescope-run-here\", RunHere); } })(); </script> <treescope-container class=\"treescope_out_ae9a713248a941929ea10703f6214cbe\" ></treescope-container> <treescope-run-here><script type=\"application/octet-stream\"> const root = ( Array.from(document.getElementsByClassName( \"treescope_out_ae9a713248a941929ea10703f6214cbe\")) .filter((elt) => !elt.dataset.setup) )[0]; root.dataset.setup = 1; const msg = document.createElement(\"span\"); msg.style = \"color: #aaaaaa; font-family: monospace; transition: opacity 0.2s; opacity: 0.0;\"; msg.textContent = \"(Loading...)\"; root.state.loadingMsg = msg; root.shadowRoot.appendChild(msg); root.state.chain = new Promise((resolve, reject) => { const observer = new IntersectionObserver((entries) => { for (const entry of entries) { if (entry.isIntersecting) { resolve(); observer.disconnect(); return; } } }, {rootMargin: \"1000px\"}); window.setTimeout(() => { if (root.loadingMsg) { root.loadingMsg.style.opacity = \"1.0\"; } observer.observe(root); }, 0); }); root.state.deferring = false; const _insertNode = (node) => { for (let oldScript of node.querySelectorAll(\"script\")) { let newScript = document.createElement(\"script\"); newScript.type = oldScript.type; newScript.textContent = oldScript.textContent; oldScript.parentNode.replaceChild(newScript, oldScript); } if (root.state.loadingMsg) { root.state.loadingMsg.remove(); root.state.loadingMsg = null; } root.shadowRoot.appendChild(node); }; root.defns.insertContent = ((contentNode, compressed) => { if (compressed) { root.state.deferring = true; } if (root.state.deferring) { root.state.chain = (async () => { await root.state.chain; if (compressed) { const encoded = contentNode.textContent; const blob = new Blob([ Uint8Array.from(atob(encoded), (m) => m.codePointAt(0)) ]); const reader = blob.stream().pipeThrough( new DecompressionStream(\"deflate\") ).pipeThrough( new TextDecoderStream(\"utf-8\") ).getReader(); const parts = []; while (true) { const step = await reader.read(); if (step.done) { break; } parts.push(step.value); } const tpl = document.createElement('template'); tpl.innerHTML = parts.join(\"\"); _insertNode(tpl.content); } else { _insertNode(contentNode.content); } })(); } else { _insertNode(contentNode.content); } }); </script></treescope-run-here><div style=\"display:none\"> <script type=\"application/octet-stream\" >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</script> <treescope-run-here><script type=\"application/octet-stream\"> const root = ( Array.from(document.getElementsByClassName( \"treescope_out_ae9a713248a941929ea10703f6214cbe\")) .filter((elt) => !elt.dataset['step0']) )[0]; root.dataset['step0'] = 1; root.defns.insertContent( this.parentNode.querySelector('script[type=\"application/octet-stream\"]'), true ); this.parentNode.remove(); </script></treescope-run-here> </div>"
      ],
      "text/plain": [
       "<IPython.core.display.HTML object>"
      ]
     },
     "metadata": {},
     "output_type": "display_data"
    },
    {
     "data": {
      "text/html": [
       "<div style=\"display:none\"> <script type=\"application/octet-stream\" >eNq1k99v2jAQx/+VkytVoKZpEpIA5Ye0tZvUlz1sD3tACDn2BTy5ceaYaqjq/75z+FG6dRt9mAQkxve9u8/567FUD9C4jcYJk6qpNd9cQ2UqZKDkhJXGLiSWaC3KRZnwqBBJlqaFTMsoL/I8jhLZywtRpv2sYNNxU/OKfn2+aSiMJjkvCosP8Ajt8hrO8gHliUbwNL7aBrYqEJo3zYQdi9j0XLvRN/4jfGct33RmUQBxAEkAvQDSALIA8gD6AQwCGM4DkG5T40RVrpd0z5duRAXafvYPYp2O3wCcxEkxjESvxweDFPvDAX0iXmKcJ3FMo3gGPhUAiMAjeAYP4Sk8hufwIJ4EhkTpSeP/gIRZP88Jqig5pij6Q5GIIovyKMvSAuP47UhRGMDr30P7pTb8rwDOIjbC1Hhp19XlCq03hbCqdtAmYLyutRLcKVNdGeHQXTak4fdsKkzVUBS3S3R3soEJzNjpjg2AnX7ax8H/nON8tO1MGmGNcdSXW6kmpC4/0/KTkdjpjmDXPeHvgnbh4fc12s0X1CicsR0WHia08NvsIC0tX95jtZOu/WsoaDIOb3fLj7uI38vdaPIICfc5QpoyVvJmpbTs7INC4aPafp1dY5eykKGgo9GBIjFdZAXj5wMINVZLt6J/Ly66dOt93HbzuBItP2j0r+83d1Rsr56pORXwmsasrcBbcvYfh3Lmnc3gAn6Rb5ehRboJAr8qt+ocsoWlss2+dktKguddi/fmoT2Zp8OYXiR6Mbuud3NrUzLyKx7+CTVXxBc=</script> <treescope-run-here><script type=\"application/octet-stream\"> const root = ( Array.from(document.getElementsByClassName( \"treescope_out_ae9a713248a941929ea10703f6214cbe\")) .filter((elt) => !elt.dataset['step1']) )[0]; root.dataset['step1'] = 1; root.defns.insertContent( this.parentNode.querySelector('script[type=\"application/octet-stream\"]'), true ); this.parentNode.remove(); </script></treescope-run-here> </div>"
      ],
      "text/plain": [
       "<IPython.core.display.HTML object>"
      ]
     },
     "metadata": {},
     "output_type": "display_data"
    },
    {
     "data": {
      "text/html": [
       "<treescope-run-here><script type=\"application/octet-stream\"> const root = ( Array.from(document.getElementsByClassName( \"treescope_out_ae9a713248a941929ea10703f6214cbe\")) .filter((elt) => !elt.dataset.stolen) )[0]; root.dataset.stolen = 1; this.parentNode.replaceChild(root, this); </script></treescope-run-here>"
      ],
      "text/plain": [
       "Selection(\n",
       "  selected_by_path=OrderedDict({\n",
       "    (DictKey(key='c'), SequenceKey(idx=1), DictKey(key='value')):\n",
       "      <jax.Array([0., 0., 0., 0., 0., 0., 0.], dtype=float32)>,\n",
       "  }),\n",
       "  remainder={\n",
       "    'a': 1,\n",
       "    'b': <jax.Array([0, 1, 2, 3, 4, 5, 6, 7, 8, 9], dtype=int32)>,\n",
       "    'c': [\n",
       "      {\n",
       "        'value': <jax.Array([ 0,  1,  2,  3,  4,  5,  6,  7,  8,  9, 10, 11], dtype=int32)>,\n",
       "      },\n",
       "      {'value': SelectionHole(path=(DictKey(key='c'), SequenceKey(idx=1), DictKey(key='value')))},\n",
       "      {'value': 3},\n",
       "    ],\n",
       "  },\n",
       ")"
      ]
     },
     "execution_count": 16,
     "metadata": {},
     "output_type": "execute_result"
    }
   ],
   "source": [
    "pz.select(my_nested_object).at(lambda root: root[\"c\"][1][\"value\"])"
   ]
  },
  {
   "cell_type": "code",
   "execution_count": 17,
   "metadata": {
    "execution": {
     "iopub.execute_input": "2024-07-26T21:03:10.520129Z",
     "iopub.status.busy": "2024-07-26T21:03:10.519894Z",
     "iopub.status.idle": "2024-07-26T21:03:10.528375Z",
     "shell.execute_reply": "2024-07-26T21:03:10.528187Z"
    },
    "id": "go9pWFfoGHHz"
   },
   "outputs": [
    {
     "data": {
      "text/html": [
       "<script> (()=>{ if (customElements.get('treescope-container') === undefined) { class TreescopeContainer extends HTMLElement { constructor() { super(); this.attachShadow({mode: \"open\"}); this.defns = {}; this.state = {}; } } customElements.define(\"treescope-container\", TreescopeContainer); } if (customElements.get('treescope-run-here') === undefined) { class RunHere extends HTMLElement { constructor() { super() } connectedCallback() { const run = child => { const fn = new Function(child.textContent); child.textContent = \"\"; fn.call(this); this.remove(); }; const child = this.querySelector(\"script\"); if (child) { run(child); } else { new MutationObserver(()=>{ run(this.querySelector(\"script\")); }).observe(this, {childList: true}); } } } customElements.define(\"treescope-run-here\", RunHere); } })(); </script> <treescope-container class=\"treescope_out_58a149e267614c7c9d83fb8f1d1c8dd5\" ></treescope-container> <treescope-run-here><script type=\"application/octet-stream\"> const root = ( Array.from(document.getElementsByClassName( \"treescope_out_58a149e267614c7c9d83fb8f1d1c8dd5\")) .filter((elt) => !elt.dataset.setup) )[0]; root.dataset.setup = 1; const msg = document.createElement(\"span\"); msg.style = \"color: #aaaaaa; font-family: monospace; transition: opacity 0.2s; opacity: 0.0;\"; msg.textContent = \"(Loading...)\"; root.state.loadingMsg = msg; root.shadowRoot.appendChild(msg); root.state.chain = new Promise((resolve, reject) => { const observer = new IntersectionObserver((entries) => { for (const entry of entries) { if (entry.isIntersecting) { resolve(); observer.disconnect(); return; } } }, {rootMargin: \"1000px\"}); window.setTimeout(() => { if (root.loadingMsg) { root.loadingMsg.style.opacity = \"1.0\"; } observer.observe(root); }, 0); }); root.state.deferring = false; const _insertNode = (node) => { for (let oldScript of node.querySelectorAll(\"script\")) { let newScript = document.createElement(\"script\"); newScript.type = oldScript.type; newScript.textContent = oldScript.textContent; oldScript.parentNode.replaceChild(newScript, oldScript); } if (root.state.loadingMsg) { root.state.loadingMsg.remove(); root.state.loadingMsg = null; } root.shadowRoot.appendChild(node); }; root.defns.insertContent = ((contentNode, compressed) => { if (compressed) { root.state.deferring = true; } if (root.state.deferring) { root.state.chain = (async () => { await root.state.chain; if (compressed) { const encoded = contentNode.textContent; const blob = new Blob([ Uint8Array.from(atob(encoded), (m) => m.codePointAt(0)) ]); const reader = blob.stream().pipeThrough( new DecompressionStream(\"deflate\") ).pipeThrough( new TextDecoderStream(\"utf-8\") ).getReader(); const parts = []; while (true) { const step = await reader.read(); if (step.done) { break; } parts.push(step.value); } const tpl = document.createElement('template'); tpl.innerHTML = parts.join(\"\"); _insertNode(tpl.content); } else { _insertNode(contentNode.content); } })(); } else { _insertNode(contentNode.content); } }); </script></treescope-run-here><div style=\"display:none\"> <script type=\"application/octet-stream\" >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</script> <treescope-run-here><script type=\"application/octet-stream\"> const root = ( Array.from(document.getElementsByClassName( \"treescope_out_58a149e267614c7c9d83fb8f1d1c8dd5\")) .filter((elt) => !elt.dataset['step0']) )[0]; root.dataset['step0'] = 1; root.defns.insertContent( this.parentNode.querySelector('script[type=\"application/octet-stream\"]'), true ); this.parentNode.remove(); </script></treescope-run-here> </div>"
      ],
      "text/plain": [
       "<IPython.core.display.HTML object>"
      ]
     },
     "metadata": {},
     "output_type": "display_data"
    },
    {
     "data": {
      "text/html": [
       "<div style=\"display:none\"> <script type=\"application/octet-stream\" >eNq1k01v2zAMhv8KoQFFgrqu5dix03wAW7sBveywHXYoikKW6ESDanmyUiwY+t9HOR9tt25rDzs4sSy+JB/q1UzpO+j8xuCcKd21RmzOoLENMtBqzmrrbhTW6Byqm6JSNVZ5OeI8yZIxL8syEfRxwkuZFXzCFrOuFQ39hnyLWFpDclFVDu/gB/TLM3gzLlORJFO4n51uA3sVSCO6bs4ei9jiyPjpV/E9fuuc2Ayukgh4BGkEowiyCPIIxhEUEZQRTK4jUH7T4lw3fpQOj5Z+SgX6fvZ/xLqYvQI4z5PxBIWoMsyzosqrtKhrLopMSDGRafEA/FIAIIKAEBgCRKAIGIEjgAQSmBBlIOX/AYlzVPTwBNMi49m4rPMkLQs+ykrBq6J+PVISR/D8c2i/Nlb8FcA7xE7aFk/cujlZoQumkE63HvoETLSt0VJ4bZtTKz36k4404pYtpG06ihJuif5SdTCHK/Zyx0bAXn7aj4P/Ocfr6bYzZaWz1lNffqW7mLr8RMuPVuFgOIVd94S/C9qFx9/W6Daf0aD01g1YfJjQTdhmB2ntxPIWm510HV5jSZPxeLFbfthF/F7u3JBHSLjPEdOUsVHnK23UYB8UyxDV9+vdGoeUhQwFA4MeNInpImuYPRxAbLBZ+hV9PT4e0q0PcdvNx5Vo+d5geH23uaRie/WVvqYCQdPZtZN4Qc7+41DeBGczOIZf5Ntl7JBugsQv2q8Gh2xxrV23r92TkuBh1+GtvetP5v4wpieJnsxuGNzc25SM/IyHfwIJk8K5</script> <treescope-run-here><script type=\"application/octet-stream\"> const root = ( Array.from(document.getElementsByClassName( \"treescope_out_58a149e267614c7c9d83fb8f1d1c8dd5\")) .filter((elt) => !elt.dataset['step1']) )[0]; root.dataset['step1'] = 1; root.defns.insertContent( this.parentNode.querySelector('script[type=\"application/octet-stream\"]'), true ); this.parentNode.remove(); </script></treescope-run-here> </div>"
      ],
      "text/plain": [
       "<IPython.core.display.HTML object>"
      ]
     },
     "metadata": {},
     "output_type": "display_data"
    },
    {
     "data": {
      "text/html": [
       "<treescope-run-here><script type=\"application/octet-stream\"> const root = ( Array.from(document.getElementsByClassName( \"treescope_out_58a149e267614c7c9d83fb8f1d1c8dd5\")) .filter((elt) => !elt.dataset.stolen) )[0]; root.dataset.stolen = 1; this.parentNode.replaceChild(root, this); </script></treescope-run-here>"
      ],
      "text/plain": [
       "Selection(\n",
       "  selected_by_path=OrderedDict({\n",
       "    (DictKey(key='b'),):\n",
       "      <jax.Array([0, 1, 2, 3, 4, 5, 6, 7, 8, 9], dtype=int32)>,\n",
       "  }),\n",
       "  remainder={\n",
       "    'a': 1,\n",
       "    'b': SelectionHole(path=(DictKey(key='b'),)),\n",
       "    'c': [\n",
       "      {\n",
       "        'value': <jax.Array([ 0,  1,  2,  3,  4,  5,  6,  7,  8,  9, 10, 11], dtype=int32)>,\n",
       "      },\n",
       "      {'value': <jax.Array([0., 0., 0., 0., 0., 0., 0.], dtype=float32)>},\n",
       "      {'value': 3},\n",
       "    ],\n",
       "  },\n",
       ")"
      ]
     },
     "execution_count": 17,
     "metadata": {},
     "output_type": "execute_result"
    }
   ],
   "source": [
    "pz.select(my_nested_object).at(lambda root: root[\"b\"])"
   ]
  },
  {
   "cell_type": "markdown",
   "metadata": {
    "id": "Oq9Cy6ZGGedV"
   },
   "source": [
    "You can pass `multiple=True` to select multiple nodes:"
   ]
  },
  {
   "cell_type": "code",
   "execution_count": 18,
   "metadata": {
    "execution": {
     "iopub.execute_input": "2024-07-26T21:03:10.536300Z",
     "iopub.status.busy": "2024-07-26T21:03:10.535813Z",
     "iopub.status.idle": "2024-07-26T21:03:10.545296Z",
     "shell.execute_reply": "2024-07-26T21:03:10.545095Z"
    },
    "id": "SzWsocp4Gh7o"
   },
   "outputs": [
    {
     "data": {
      "text/html": [
       "<script> (()=>{ if (customElements.get('treescope-container') === undefined) { class TreescopeContainer extends HTMLElement { constructor() { super(); this.attachShadow({mode: \"open\"}); this.defns = {}; this.state = {}; } } customElements.define(\"treescope-container\", TreescopeContainer); } if (customElements.get('treescope-run-here') === undefined) { class RunHere extends HTMLElement { constructor() { super() } connectedCallback() { const run = child => { const fn = new Function(child.textContent); child.textContent = \"\"; fn.call(this); this.remove(); }; const child = this.querySelector(\"script\"); if (child) { run(child); } else { new MutationObserver(()=>{ run(this.querySelector(\"script\")); }).observe(this, {childList: true}); } } } customElements.define(\"treescope-run-here\", RunHere); } })(); </script> <treescope-container class=\"treescope_out_8d58da55ea844964bd61c03b19470bcd\" ></treescope-container> <treescope-run-here><script type=\"application/octet-stream\"> const root = ( Array.from(document.getElementsByClassName( \"treescope_out_8d58da55ea844964bd61c03b19470bcd\")) .filter((elt) => !elt.dataset.setup) )[0]; root.dataset.setup = 1; const msg = document.createElement(\"span\"); msg.style = \"color: #aaaaaa; font-family: monospace; transition: opacity 0.2s; opacity: 0.0;\"; msg.textContent = \"(Loading...)\"; root.state.loadingMsg = msg; root.shadowRoot.appendChild(msg); root.state.chain = new Promise((resolve, reject) => { const observer = new IntersectionObserver((entries) => { for (const entry of entries) { if (entry.isIntersecting) { resolve(); observer.disconnect(); return; } } }, {rootMargin: \"1000px\"}); window.setTimeout(() => { if (root.loadingMsg) { root.loadingMsg.style.opacity = \"1.0\"; } observer.observe(root); }, 0); }); root.state.deferring = false; const _insertNode = (node) => { for (let oldScript of node.querySelectorAll(\"script\")) { let newScript = document.createElement(\"script\"); newScript.type = oldScript.type; newScript.textContent = oldScript.textContent; oldScript.parentNode.replaceChild(newScript, oldScript); } if (root.state.loadingMsg) { root.state.loadingMsg.remove(); root.state.loadingMsg = null; } root.shadowRoot.appendChild(node); }; root.defns.insertContent = ((contentNode, compressed) => { if (compressed) { root.state.deferring = true; } if (root.state.deferring) { root.state.chain = (async () => { await root.state.chain; if (compressed) { const encoded = contentNode.textContent; const blob = new Blob([ Uint8Array.from(atob(encoded), (m) => m.codePointAt(0)) ]); const reader = blob.stream().pipeThrough( new DecompressionStream(\"deflate\") ).pipeThrough( new TextDecoderStream(\"utf-8\") ).getReader(); const parts = []; while (true) { const step = await reader.read(); if (step.done) { break; } parts.push(step.value); } const tpl = document.createElement('template'); tpl.innerHTML = parts.join(\"\"); _insertNode(tpl.content); } else { _insertNode(contentNode.content); } })(); } else { _insertNode(contentNode.content); } }); </script></treescope-run-here><div style=\"display:none\"> <script type=\"application/octet-stream\" >eNrtWgtT27oS/itqOtMkF2LyDgmFuU7IixYohBZKTydXtmVbxLGNLSeEM/z3u5JNXpgALfSUMw0zJMirfWn30+6G9z6bWGRHYh4hvuq4pO85DkN/I9fxKaOOXUMesTCjI7KFdMdmGR0PqTWpoaFjO76LVVgfm5SRjPijhlwPVizqs4xgnWETF1Ztx4ZlBasDw3MCW8uojuV4tXDrFor+UiwgAH5UY2YN6ZQBmc2IzbaQizWN2kbGIjqrobxqciE2yZiEGias5KQSZ2MzTEHn6bboQ2ZEfapQizLQHAfMmdJmqM08avtUzfj0moRPI3Vv3m+E7nk/dU/GC2yQ6cGar3rUZYjbt53ErmtRFXOPbTgqI9x6j+BhcieVSm/vgENBns+QRnTbR9uImdSXDMKOwdsHjkZSacl0fCaJ52AaYajvEpubLKucK9/07Xvckw62NYvAYzuwrK1QggRq9hzHhtXU2PEGaTSvg3MKS/zRwjKjKl90iac73hDbKpFsZ5xKi/MFAak7T1Am3PQeFfJp4EN1lFrSWrKIbTATbW+jLCdZqbpHWODZ4HdELJ/MFDMDm2u2zNo3qc64foKAf7iBn3skpCCqbM0ZSx65DIjPZJsOxXG1PDwkqdAnac5j644gN/DN0I1bMTbeitgOzVhh5eN14FqEB8kcw7DCrOyLzIFodTkvvkIsto7ICAI8OkmunfhbGpAJd3rCS3CFImJJtbDvf4TkjPimElOe/SGEYeJW+E0a/AnhL2J85/1GXAJodIQEw+3EInwkEMMKWEquthPZBHJsUAbMtoFuVdjH25rie26tTEDahYAlEKOvOsMhrItQEQjyFosXt2KJBNdsh6VqpjMiXjqGPiK3g6FCvDmG2epmrlSeEfgcLox5iYVcKVfiBGAF8Tyi9V3AMWI6lrbACVf4TwSjwowaogwDbvDNOpBjBcy3wS/3ADAYtUDWDz0G1Br1QejkFmiXCdEOsrBCrFpNIZDDZE4rVby2YuWFYJvJcbSNQDm7NZNFbQHBiuVw1L5XpnD5Xcka9gY+wQaEjn13tzitpSUT+6kdwXMn1g/hCasmUQdES6fRf9IzHfjW+E239AsailujhpJ/5UuKmvwn1VvcdK+S5V+gJD9HLjjwfH6ArgN3J/Fi5FL/+cSKVBCCMgID/Pti/Hmkzsxj5IrdlSJRv69Tz2d9x+7z8I9JrVWpJOVLPJtijwr9tPrhiS+ryK0aYs+AaidUQyT0zU9KAzx0J0rAGJQZcQA0exwXtAmUWKICR0IJGU/8F8kVtcRSBZrcxxAVFFuoNxkqjuWjw4BxezXUCHfCuzuBxMiMiTKAajJE3iHcLyZgONR6NoPtFPtEm9agb0mW/2zdDfNwtygSs1KVDJetDPMjxop4uJvtlMbY76twD4Bjp/uxzhZuj1ucXiVzac+iyHnXoxH2UpmMhhnOYBsOVpQh6fllLoTXVh62b6NZsEU5HxHwGBTOGSdgTzNlqgEcDCXam0VNhEj0hg5dx2PYvsNb8ZwBsft8ZQZGD3t3btucP2+P+UbilQoopvVVqHM1j9iRqoudBPBcJHwmdJ1LnegiXUhVFVtqCtodqLVz7pUozySfYb5/qu+LaaI4HpQwkSaaw8B2rsW88yAEiKc4V32I9r4T5t88p8UaIerieALlSzyDYCdPKbEWSYMlYSVnOqbMfFmuz+O7dRTriBc7mKgYG+KrWYd8I10G2LKhk+hDD67TK9i3AFmbArIkn7jYA+QUV4P/wrHMozVG3ksGLVhoYl6Fj7FnQwj0b8uI28zXdazmCjGELnRWf08nDV40WOB3ZZSS0VImK4lLfDbOqIlhBPYyhoc1CseRyhVKGjHWkQP4aRCUBf+XVXM9xFNwCL+dxBKKcvqOKneu8Wfz2ALA3BpzI41NgZKWhV24EB9uKp5eMdwvIUxoIUMQkSu4ObR7aZ5DjzgRkaEhwazdjnPFYssrLfbRaAWHZVPthc4+nvAxwu7l84zDLD5fQG9kz8MTSfecYUpz1IC31xJHGl8aYSsgfiqdlnxnSFICf/hkgr9LYd3GpxKPrNwSSZRG6ekcyDcJYXxYRMao0ev1uDU9vsZHP+Kh5BHRevcmtpr633+jalElt0j49Mpxvle3+fDLitbG0dyxmIVr0PfUGgo8K8XLmBp/vjF2dD2/pUChVC6ua9lqe9+Q67J4dY9k2RGf6sdj+N1pyXJTXvWqD2XZGDgftG6z3hh/leWTr409eb9bb8gt46rb+Wgyv75PiVFo7Z7lP3bLX0c9N6Cf9ksnub2z7vGX/dHp/jX7NGm1GmunxuCE1nezJt09CvaaWvsi21E29FFXcy8/lM3LU0qPgn27bXb0z0z+XK4feEW51bUHzbL6OQjstePSpeoPxiO9ZW1cXhlNZ9NQ9sbtzVxH3rDl49JHz9vLHa8Z19ljLSvv6TnjoNIYty/yRtaZBMeVyrCZK487Z9VDw3DJyWBSJF3luqQq3mGbYdk46h6Md7E/8Y+CbvfstNkay5+O3O5X7fPGxppROamcFVhW//DpUh6VgOdH+aAi74/loXF93FsLznukeXaV18vq9UHxuDMpBXX5w3X9wm25Bdo5ajSz58GnYq9i6/WPzU5rfyjTtc1RM2/aObOypnwZn12MO95ot/25YV/ozabB1g7Vc8uqlKqNvXF906wW9/fbvUL7XDaG3dJF/ajKTtqkU23W6912YdcoHm98VSeK3IYz/fJhQz5qY5nsNyy5c908NM6ZUa5/Mg4Pu7v1AT0qkVb9rFFvqTTrmp7j2hAb7nlzN3edG/T0hs7MyQe7o+GW39GzB8N286Bc1+TLL19czPze+VDTMK3m9etq8TO9uCy7Q6986Hxt9KjXHo722oXeaa/QaubV+pF+staxHLddbPnjEjYuy5v0nPQOLPfUrne6RNv3SHB62W4Mc6ctb9DrXZXy5dNTfyyDRmkkBr8slRRhneRX1v/g1zT7sea4UBzOUlKMqyVJWkGxHubsd+C1eixoivmpqN/D1gJ4Q3jYKkqFFf7idBtS8MTh6QtkUQfA13yAB86CtzS8D8BjTBmy8YgamDmeBJxdxcGeJo09ysgJdP+pGS8wNuI1G6FCnZBKzPU7fHgKUk7okED9l7qdrt/Z55EhNC93tt6so3w2mxXlAIAvVAYp0bnHy51rahIz5fjM4hbB+Lw5gd6iFqYWABtzECd+I5ANSgAbikVAYwo+I1jjPdnavO+iQfADI2De393OgBfGrYkd9xoqP4uoLAU8gGyR+E7PlVj1fOnh4phxuUwC4rAWeE9tN4jutIS4/aE8T8QyiQoFeBgWCWCu2Lzz9/uNiNmzaT8/Rk7svHt7la9s4fAt8lQNxWwIB9OJnVxEtL5As1hZJXZQnNMXyp5FrZKzfjmJHLvBw3I7+cS8FKP6dBJNm/ntxLckTn5PIHGDbifm+vwaencZOGxLEIQft9CdiQRc1SIaAe2g3UlGOu/cGhf79lMHoaw6iIWQedYwi42yuI5yyYTlbnbq6bDrraE8dOu+Y1ENqRNsL3X0fKww93CJ9z192yOoEo8Iu0jPufFNqOBCcQWlmQZqvUU9gSREqz185KsUotp2YvoljVotFCubFQ3n9EJxs6IohTzG2TImxXIpu6lsLlkR9+VOYucCX0miHAYgZYV8KpddT6+Mzri315LKykOprPxOqaz+SeV/cSq/eCkwPdBvcSf6ckmmPpRk6k8n2SsoxFYXYC/q/W/Zhw8AaH6XM4iDPjGGiYW/xRuwnK8WtEolD7+KSkXZVPSsVt7Uq0qpSoqlwo/dgPk7N+AKBFn/bS638FS/JYXvko8KgSnxs1564dvNK6sNflni/GCF8O+EqtwjPJ77N0AVwJJaUjRc0PNqcbNQVHK5fD5fUarlXFUvaMoToUq3HMzBqvJ6sSr3FKzK/cGqfyJz/mDVnMfzj/B4/pViVeykrvDqMCX/FEzJ/xJMeU3O+wXxHff2/QkDp9fizZdugX805B726tLXIGkJs/6ATLg6fuxXIc82ipqNoFbos/KKfmexrTzyA0V817OOTGqYFp/fEA1hxRmRdwbbeoSX3qKVXJadGDMwWxF3v/3IIvX83xn90foxob74PzdLyiz9c1zYDfAI7QeMWtJiTO5SlX0gk+fxCWT/9hO/eHoUTi+8pac1+D3LjyrNf8NK9U9c/qNxqb5sXP44w0eXOcsX8pRUo6Od/wMzUMid</script> <treescope-run-here><script type=\"application/octet-stream\"> const root = ( Array.from(document.getElementsByClassName( \"treescope_out_8d58da55ea844964bd61c03b19470bcd\")) .filter((elt) => !elt.dataset['step0']) )[0]; root.dataset['step0'] = 1; root.defns.insertContent( this.parentNode.querySelector('script[type=\"application/octet-stream\"]'), true ); this.parentNode.remove(); </script></treescope-run-here> </div>"
      ],
      "text/plain": [
       "<IPython.core.display.HTML object>"
      ]
     },
     "metadata": {},
     "output_type": "display_data"
    },
    {
     "data": {
      "text/html": [
       "<div style=\"display:none\"> <script type=\"application/octet-stream\" >eNq1k0tP20AQx7/KaJFQIoxxbMcP8pBaaCUuPbSHHhBC+xgnWxmvu96gRojv3lnnQWhpC4ce4ni985+Z3+x/p0rfQ+fWNc6Y0l1b8/U5NKZBBlrNWGXsrcIKrUV1K8skzYtc8VGVpEUuRBJzHmUc02wcFaJg82nX8oaePt88lKYmORfC4j08QL88h6OsiHkUTeBxerYJ7FUga951M3YoYvPj2k2+8R/hO2v5enAdBTAKIA4gCSANYBxAFkAeQBFAeROAcusWZ7pxSTw8XrgJFej72f0R63z6FuAsLhOV5zE9UpGLQlSRyoqqFOMS03HyBPxaACACj+AZPISn8Biew4N4EiiJ0pOO/gMStS/HQvGkimVaJKkYjeI4zkWZjcoqUeLtSFEYwMu/fftVbfhfAZxF7KRp8dSumtMlWm8KaXXroE/AeNvWWnKnTXNmpEN32pGG37G5NE1HUdwu0F2pDmZwzV7v2ADY60/7MPifc7yZbDpTRlpjHPXllroLqcvPtPxkFA6GE9h2T/jboG14+H2Fdv0Fa5TO2AEL9xO69dtsL60sX9xhs5Wu/GsoaTIOL7fLj9uI38td1OQREu5yhDRlbNTFUtdqsAsKpY/q+3V2hUPKQoaCQY0ONInpImuYPh1AWGOzcEv6enIypFvv4zabh5Vo+aFG//p+fUXFduprfUMFvKYzKyvxkpz9x6EceWczOIFf5JtlaJFugsSv2i0H+2xhpW23q92TkuBp1+Kdue9P5nE/pmeJns1u6N3c25SM/IKHfwIMF8QV</script> <treescope-run-here><script type=\"application/octet-stream\"> const root = ( Array.from(document.getElementsByClassName( \"treescope_out_8d58da55ea844964bd61c03b19470bcd\")) .filter((elt) => !elt.dataset['step1']) )[0]; root.dataset['step1'] = 1; root.defns.insertContent( this.parentNode.querySelector('script[type=\"application/octet-stream\"]'), true ); this.parentNode.remove(); </script></treescope-run-here> </div>"
      ],
      "text/plain": [
       "<IPython.core.display.HTML object>"
      ]
     },
     "metadata": {},
     "output_type": "display_data"
    },
    {
     "data": {
      "text/html": [
       "<treescope-run-here><script type=\"application/octet-stream\"> const root = ( Array.from(document.getElementsByClassName( \"treescope_out_8d58da55ea844964bd61c03b19470bcd\")) .filter((elt) => !elt.dataset.stolen) )[0]; root.dataset.stolen = 1; this.parentNode.replaceChild(root, this); </script></treescope-run-here>"
      ],
      "text/plain": [
       "Selection(\n",
       "  selected_by_path=OrderedDict({\n",
       "    (DictKey(key='b'),):\n",
       "      <jax.Array([0, 1, 2, 3, 4, 5, 6, 7, 8, 9], dtype=int32)>,\n",
       "    (DictKey(key='c'),):\n",
       "      [{'value': <jax.Array([ 0,  1,  2,  3,  4,  5,  6,  7,  8,  9, 10, 11], dtype=int32)>}, {'value': <jax.Array([0., 0., 0., 0., 0., 0., 0.], dtype=float32)>}, {'value': 3}],\n",
       "  }),\n",
       "  remainder={\n",
       "    'a': 1,\n",
       "    'b': SelectionHole(path=(DictKey(key='b'),)),\n",
       "    'c': SelectionHole(path=(DictKey(key='c'),)),\n",
       "  },\n",
       ")"
      ]
     },
     "execution_count": 18,
     "metadata": {},
     "output_type": "execute_result"
    }
   ],
   "source": [
    "pz.select(my_nested_object).at(\n",
    "    lambda root: (root[\"b\"], root[\"c\"]), multiple=True\n",
    ")"
   ]
  },
  {
   "cell_type": "markdown",
   "metadata": {
    "id": "jBtV4TmU3_Az"
   },
   "source": [
    "Later `at` calls in a chain are relative to the currently selected part:"
   ]
  },
  {
   "cell_type": "code",
   "execution_count": 19,
   "metadata": {
    "execution": {
     "iopub.execute_input": "2024-07-26T21:03:10.553895Z",
     "iopub.status.busy": "2024-07-26T21:03:10.553654Z",
     "iopub.status.idle": "2024-07-26T21:03:10.563873Z",
     "shell.execute_reply": "2024-07-26T21:03:10.563629Z"
    },
    "id": "Z8xrYRKXMVbX"
   },
   "outputs": [
    {
     "data": {
      "text/html": [
       "<script> (()=>{ if (customElements.get('treescope-container') === undefined) { class TreescopeContainer extends HTMLElement { constructor() { super(); this.attachShadow({mode: \"open\"}); this.defns = {}; this.state = {}; } } customElements.define(\"treescope-container\", TreescopeContainer); } if (customElements.get('treescope-run-here') === undefined) { class RunHere extends HTMLElement { constructor() { super() } connectedCallback() { const run = child => { const fn = new Function(child.textContent); child.textContent = \"\"; fn.call(this); this.remove(); }; const child = this.querySelector(\"script\"); if (child) { run(child); } else { new MutationObserver(()=>{ run(this.querySelector(\"script\")); }).observe(this, {childList: true}); } } } customElements.define(\"treescope-run-here\", RunHere); } })(); </script> <treescope-container class=\"treescope_out_c7ef93d98dc34fac87b37d3ab374f603\" ></treescope-container> <treescope-run-here><script type=\"application/octet-stream\"> const root = ( Array.from(document.getElementsByClassName( \"treescope_out_c7ef93d98dc34fac87b37d3ab374f603\")) .filter((elt) => !elt.dataset.setup) )[0]; root.dataset.setup = 1; const msg = document.createElement(\"span\"); msg.style = \"color: #aaaaaa; font-family: monospace; transition: opacity 0.2s; opacity: 0.0;\"; msg.textContent = \"(Loading...)\"; root.state.loadingMsg = msg; root.shadowRoot.appendChild(msg); root.state.chain = new Promise((resolve, reject) => { const observer = new IntersectionObserver((entries) => { for (const entry of entries) { if (entry.isIntersecting) { resolve(); observer.disconnect(); return; } } }, {rootMargin: \"1000px\"}); window.setTimeout(() => { if (root.loadingMsg) { root.loadingMsg.style.opacity = \"1.0\"; } observer.observe(root); }, 0); }); root.state.deferring = false; const _insertNode = (node) => { for (let oldScript of node.querySelectorAll(\"script\")) { let newScript = document.createElement(\"script\"); newScript.type = oldScript.type; newScript.textContent = oldScript.textContent; oldScript.parentNode.replaceChild(newScript, oldScript); } if (root.state.loadingMsg) { root.state.loadingMsg.remove(); root.state.loadingMsg = null; } root.shadowRoot.appendChild(node); }; root.defns.insertContent = ((contentNode, compressed) => { if (compressed) { root.state.deferring = true; } if (root.state.deferring) { root.state.chain = (async () => { await root.state.chain; if (compressed) { const encoded = contentNode.textContent; const blob = new Blob([ Uint8Array.from(atob(encoded), (m) => m.codePointAt(0)) ]); const reader = blob.stream().pipeThrough( new DecompressionStream(\"deflate\") ).pipeThrough( new TextDecoderStream(\"utf-8\") ).getReader(); const parts = []; while (true) { const step = await reader.read(); if (step.done) { break; } parts.push(step.value); } const tpl = document.createElement('template'); tpl.innerHTML = parts.join(\"\"); _insertNode(tpl.content); } else { _insertNode(contentNode.content); } })(); } else { _insertNode(contentNode.content); } }); </script></treescope-run-here><div style=\"display:none\"> <script type=\"application/octet-stream\" >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</script> <treescope-run-here><script type=\"application/octet-stream\"> const root = ( Array.from(document.getElementsByClassName( \"treescope_out_c7ef93d98dc34fac87b37d3ab374f603\")) .filter((elt) => !elt.dataset['step0']) )[0]; root.dataset['step0'] = 1; root.defns.insertContent( this.parentNode.querySelector('script[type=\"application/octet-stream\"]'), true ); this.parentNode.remove(); </script></treescope-run-here> </div>"
      ],
      "text/plain": [
       "<IPython.core.display.HTML object>"
      ]
     },
     "metadata": {},
     "output_type": "display_data"
    },
    {
     "data": {
      "text/html": [
       "<div style=\"display:none\"> <script type=\"application/octet-stream\" >eNq1k01v2zAMhv8KoQJFgrquHbtO3HwAW7sBveywHXYIgkKWqESDanmyUiwo+t9HOR9tt25rDzvEsSy+JB/q1UTqO2j9xuCUSd02hm8uoLY1MtByypR1NxIVOofypiyVKJJkoBI1zEWW8EQVEodpVmRCZTxjs0nb8JqeId8sFtaQnFeVwzu4h255AUfFaMCTZAwPk7NtYKcCYXjbTtlTEZsdGz/+xn/E75zjm948iSCNYBBBFkEewXkERQTDCEYRlIsIpN80ONW1zwb946UfU4Gun/0fsc4mbwAWSvKB4IorHOa5zMukUNlQpqXIzxOs0kfg1wIAEQSEwBAgAkXACBwBJJBASZSBNP0PSFUph0mRVjk/r/KKp5UYjQRPxQizSmZF+XakJI7g5d+hfWUs/yuAd4itsA2eunV9ukIXTCGcbjx0CRhvGqMF99rWZ1Z49KctafgtmwlbtxTF3RL9tWxhCnP2esdGwF5/2k+D/znHxXjbmbTCWeupL7/SbUxdfqblJyux1x/DrnvC3wXtwuPva3SbL2hQeOt6LD5M6CZss4NUOb68xXonXYfXWNBkPF7tlh93Eb+XuzTkERLuc8Q0Zazl5Uob2dsHxSJEdf16t8Y+ZSFDQc+gB01iusgaJo8HEBusl35FX09O+nTrQ9x282klWn4wGF7fb66p2F491wsqEDStXTuBV+TsPw7lKDibwQn8It8uY4d0EwR+1X7VO2SLlXbtvnZHSoLHXYe39q47mYfDmJ4leja7fnBzZ1My8gse/gmNwsch</script> <treescope-run-here><script type=\"application/octet-stream\"> const root = ( Array.from(document.getElementsByClassName( \"treescope_out_c7ef93d98dc34fac87b37d3ab374f603\")) .filter((elt) => !elt.dataset['step1']) )[0]; root.dataset['step1'] = 1; root.defns.insertContent( this.parentNode.querySelector('script[type=\"application/octet-stream\"]'), true ); this.parentNode.remove(); </script></treescope-run-here> </div>"
      ],
      "text/plain": [
       "<IPython.core.display.HTML object>"
      ]
     },
     "metadata": {},
     "output_type": "display_data"
    },
    {
     "data": {
      "text/html": [
       "<treescope-run-here><script type=\"application/octet-stream\"> const root = ( Array.from(document.getElementsByClassName( \"treescope_out_c7ef93d98dc34fac87b37d3ab374f603\")) .filter((elt) => !elt.dataset.stolen) )[0]; root.dataset.stolen = 1; this.parentNode.replaceChild(root, this); </script></treescope-run-here>"
      ],
      "text/plain": [
       "Selection(\n",
       "  selected_by_path=OrderedDict({\n",
       "    (DictKey(key='c'), SequenceKey(idx=0), DictKey(key='value')):\n",
       "      <jax.Array([ 0,  1,  2,  3,  4,  5,  6,  7,  8,  9, 10, 11], dtype=int32)>,\n",
       "    (DictKey(key='c'), SequenceKey(idx=1), DictKey(key='value')):\n",
       "      <jax.Array([0., 0., 0., 0., 0., 0., 0.], dtype=float32)>,\n",
       "  }),\n",
       "  remainder={\n",
       "    'a': 1,\n",
       "    'b': <jax.Array([0, 1, 2, 3, 4, 5, 6, 7, 8, 9], dtype=int32)>,\n",
       "    'c': [{'value': SelectionHole(path=(DictKey(key='c'), SequenceKey(idx=0), DictKey(key='value')))}, {'value': SelectionHole(path=(DictKey(key='c'), SequenceKey(idx=1), DictKey(key='value')))}, {'value': 3}],\n",
       "  },\n",
       ")"
      ]
     },
     "execution_count": 19,
     "metadata": {},
     "output_type": "execute_result"
    }
   ],
   "source": [
    "(\n",
    "    pz.select(my_nested_object)\n",
    "    .at(lambda root: (root[\"c\"][0], root[\"c\"][1]), multiple=True)\n",
    "    .at(lambda subtree: subtree[\"value\"])\n",
    ")"
   ]
  },
  {
   "cell_type": "markdown",
   "metadata": {
    "id": "Dy30CsovGJz5"
   },
   "source": [
    "Note: Your function will be called with an input whose PyTree structure matches the selected object, but it won't be the exact same object. For that reason, the function should generally depend only on the input's PyTree structure, not its exact contents."
   ]
  },
  {
   "cell_type": "markdown",
   "metadata": {
    "id": "KAmBjvkVHSMg"
   },
   "source": [
    "### Selecting by type\n",
    "\n",
    "If you want to select all subtrees with a particular type, you can use `Selection.at_instances_of`:"
   ]
  },
  {
   "cell_type": "code",
   "execution_count": 20,
   "metadata": {
    "execution": {
     "iopub.execute_input": "2024-07-26T21:03:10.571504Z",
     "iopub.status.busy": "2024-07-26T21:03:10.571215Z",
     "iopub.status.idle": "2024-07-26T21:03:10.580946Z",
     "shell.execute_reply": "2024-07-26T21:03:10.580769Z"
    },
    "id": "y438yc3_HgEg"
   },
   "outputs": [
    {
     "data": {
      "text/html": [
       "<script> (()=>{ if (customElements.get('treescope-container') === undefined) { class TreescopeContainer extends HTMLElement { constructor() { super(); this.attachShadow({mode: \"open\"}); this.defns = {}; this.state = {}; } } customElements.define(\"treescope-container\", TreescopeContainer); } if (customElements.get('treescope-run-here') === undefined) { class RunHere extends HTMLElement { constructor() { super() } connectedCallback() { const run = child => { const fn = new Function(child.textContent); child.textContent = \"\"; fn.call(this); this.remove(); }; const child = this.querySelector(\"script\"); if (child) { run(child); } else { new MutationObserver(()=>{ run(this.querySelector(\"script\")); }).observe(this, {childList: true}); } } } customElements.define(\"treescope-run-here\", RunHere); } })(); </script> <treescope-container class=\"treescope_out_b9166e882f054c8394f172906ee3a6b1\" ></treescope-container> <treescope-run-here><script type=\"application/octet-stream\"> const root = ( Array.from(document.getElementsByClassName( \"treescope_out_b9166e882f054c8394f172906ee3a6b1\")) .filter((elt) => !elt.dataset.setup) )[0]; root.dataset.setup = 1; const msg = document.createElement(\"span\"); msg.style = \"color: #aaaaaa; font-family: monospace; transition: opacity 0.2s; opacity: 0.0;\"; msg.textContent = \"(Loading...)\"; root.state.loadingMsg = msg; root.shadowRoot.appendChild(msg); root.state.chain = new Promise((resolve, reject) => { const observer = new IntersectionObserver((entries) => { for (const entry of entries) { if (entry.isIntersecting) { resolve(); observer.disconnect(); return; } } }, {rootMargin: \"1000px\"}); window.setTimeout(() => { if (root.loadingMsg) { root.loadingMsg.style.opacity = \"1.0\"; } observer.observe(root); }, 0); }); root.state.deferring = false; const _insertNode = (node) => { for (let oldScript of node.querySelectorAll(\"script\")) { let newScript = document.createElement(\"script\"); newScript.type = oldScript.type; newScript.textContent = oldScript.textContent; oldScript.parentNode.replaceChild(newScript, oldScript); } if (root.state.loadingMsg) { root.state.loadingMsg.remove(); root.state.loadingMsg = null; } root.shadowRoot.appendChild(node); }; root.defns.insertContent = ((contentNode, compressed) => { if (compressed) { root.state.deferring = true; } if (root.state.deferring) { root.state.chain = (async () => { await root.state.chain; if (compressed) { const encoded = contentNode.textContent; const blob = new Blob([ Uint8Array.from(atob(encoded), (m) => m.codePointAt(0)) ]); const reader = blob.stream().pipeThrough( new DecompressionStream(\"deflate\") ).pipeThrough( new TextDecoderStream(\"utf-8\") ).getReader(); const parts = []; while (true) { const step = await reader.read(); if (step.done) { break; } parts.push(step.value); } const tpl = document.createElement('template'); tpl.innerHTML = parts.join(\"\"); _insertNode(tpl.content); } else { _insertNode(contentNode.content); } })(); } else { _insertNode(contentNode.content); } }); </script></treescope-run-here><div style=\"display:none\"> <script type=\"application/octet-stream\" >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</script> <treescope-run-here><script type=\"application/octet-stream\"> const root = ( Array.from(document.getElementsByClassName( \"treescope_out_b9166e882f054c8394f172906ee3a6b1\")) .filter((elt) => !elt.dataset['step0']) )[0]; root.dataset['step0'] = 1; root.defns.insertContent( this.parentNode.querySelector('script[type=\"application/octet-stream\"]'), true ); this.parentNode.remove(); </script></treescope-run-here> </div>"
      ],
      "text/plain": [
       "<IPython.core.display.HTML object>"
      ]
     },
     "metadata": {},
     "output_type": "display_data"
    },
    {
     "data": {
      "text/html": [
       "<div style=\"display:none\"> <script type=\"application/octet-stream\" >eNq1k01v2zAMhv8KoQJFgjqu7Tix3XwAW7sBveywHXYoikKW6ESDYnmyEiwo+t9HOR9tt25rDzvEsSy+JB/q1VSqDbRuq3HGpGobzbcXUJsaGSg5Y5WxdxIrtBblXRJnVVSmqeBFmsY845jnkudFHI3zOI1zNp+2Da/p6fPNQ2E0yXlZWtzAPXTLCzgZ5wmPogk8TM93gZ0KhOZtO2NPRWx+qt3kG/8RvrOWb3s3UQBxAEkAwwDSAEYBjAPIAsgDKG4DkG7b4EzVbpj0TxduQgW6fg5/xDqfvgGYj8tUJHJUJVmR5hkvMlEm2WhUZmMRF1n0CPxaACACj+AZPISn8Biew4N4EiiI0pPG/wEpGkZxIqI4K6I4TXNejlPJkxGvShElMsnfjhSFAbz8O7ZfacP/CuAsYitMgwO7rgdLtN4UwqrGQZeA8abRSnCnTH1uhEM3aEnDV2wuTN1SFLcLdNeyhRncsNc7NgD2+tN+GvzPOd5Odp1JI6wxjvpyS9WG1OVnWn4yEnv9Cey7J/x90D48/L5Gu/2CGoUztsfC44Tu/DY7SivLFyus99K1fw0FTcbh1X75cR/xe7lLTR4h4SFHSFPGWl4ulZa9Q1AofFTXr7Nr7FMWMhT0NDpQJKaLrGD6eAChxnrhlvT17KxPt97H7TafVqLlB43+9f32mood1Dfqlgp4TWvWVuAVOfuPQznxzmZwBr/Id8vQIt0EgV+VW/aO2cJK2fZQuyMlweOuxZXZdCfzcBzTs0TPZtf3bu5sSkZ+wcM/ARB6wec=</script> <treescope-run-here><script type=\"application/octet-stream\"> const root = ( Array.from(document.getElementsByClassName( \"treescope_out_b9166e882f054c8394f172906ee3a6b1\")) .filter((elt) => !elt.dataset['step1']) )[0]; root.dataset['step1'] = 1; root.defns.insertContent( this.parentNode.querySelector('script[type=\"application/octet-stream\"]'), true ); this.parentNode.remove(); </script></treescope-run-here> </div>"
      ],
      "text/plain": [
       "<IPython.core.display.HTML object>"
      ]
     },
     "metadata": {},
     "output_type": "display_data"
    },
    {
     "data": {
      "text/html": [
       "<treescope-run-here><script type=\"application/octet-stream\"> const root = ( Array.from(document.getElementsByClassName( \"treescope_out_b9166e882f054c8394f172906ee3a6b1\")) .filter((elt) => !elt.dataset.stolen) )[0]; root.dataset.stolen = 1; this.parentNode.replaceChild(root, this); </script></treescope-run-here>"
      ],
      "text/plain": [
       "Selection(\n",
       "  selected_by_path=OrderedDict({\n",
       "    (DictKey(key='a'),):\n",
       "      1,\n",
       "    (DictKey(key='c'), SequenceKey(idx=2), DictKey(key='value')):\n",
       "      3,\n",
       "  }),\n",
       "  remainder={\n",
       "    'a': SelectionHole(path=(DictKey(key='a'),)),\n",
       "    'b': <jax.Array([0, 1, 2, 3, 4, 5, 6, 7, 8, 9], dtype=int32)>,\n",
       "    'c': [{'value': <jax.Array([ 0,  1,  2,  3,  4,  5,  6,  7,  8,  9, 10, 11], dtype=int32)>}, {'value': <jax.Array([0., 0., 0., 0., 0., 0., 0.], dtype=float32)>}, {'value': SelectionHole(path=(DictKey(key='c'), SequenceKey(idx=2), DictKey(key='value')))}],\n",
       "  },\n",
       ")"
      ]
     },
     "execution_count": 20,
     "metadata": {},
     "output_type": "execute_result"
    }
   ],
   "source": [
    "pz.select(my_nested_object).at_instances_of(int)"
   ]
  },
  {
   "cell_type": "markdown",
   "metadata": {
    "id": "wIjWns9HHiXj"
   },
   "source": [
    "This selects any subtree for which `isinstance(subtree, requested_type)` evaluates to True.\n",
    "\n",
    "Note that selections cannot be nested, so this only selects the *outermost* value with the given type:"
   ]
  },
  {
   "cell_type": "code",
   "execution_count": 21,
   "metadata": {
    "execution": {
     "iopub.execute_input": "2024-07-26T21:03:10.587836Z",
     "iopub.status.busy": "2024-07-26T21:03:10.587587Z",
     "iopub.status.idle": "2024-07-26T21:03:10.595068Z",
     "shell.execute_reply": "2024-07-26T21:03:10.594873Z"
    },
    "id": "sopg1pzrH2ZX"
   },
   "outputs": [
    {
     "data": {
      "text/html": [
       "<script> (()=>{ if (customElements.get('treescope-container') === undefined) { class TreescopeContainer extends HTMLElement { constructor() { super(); this.attachShadow({mode: \"open\"}); this.defns = {}; this.state = {}; } } customElements.define(\"treescope-container\", TreescopeContainer); } if (customElements.get('treescope-run-here') === undefined) { class RunHere extends HTMLElement { constructor() { super() } connectedCallback() { const run = child => { const fn = new Function(child.textContent); child.textContent = \"\"; fn.call(this); this.remove(); }; const child = this.querySelector(\"script\"); if (child) { run(child); } else { new MutationObserver(()=>{ run(this.querySelector(\"script\")); }).observe(this, {childList: true}); } } } customElements.define(\"treescope-run-here\", RunHere); } })(); </script> <treescope-container class=\"treescope_out_46b73b5e2c6b4dd1b8d327847bd6c21d\" ></treescope-container> <treescope-run-here><script type=\"application/octet-stream\"> const root = ( Array.from(document.getElementsByClassName( \"treescope_out_46b73b5e2c6b4dd1b8d327847bd6c21d\")) .filter((elt) => !elt.dataset.setup) )[0]; root.dataset.setup = 1; const msg = document.createElement(\"span\"); msg.style = \"color: #aaaaaa; font-family: monospace; transition: opacity 0.2s; opacity: 0.0;\"; msg.textContent = \"(Loading...)\"; root.state.loadingMsg = msg; root.shadowRoot.appendChild(msg); root.state.chain = new Promise((resolve, reject) => { const observer = new IntersectionObserver((entries) => { for (const entry of entries) { if (entry.isIntersecting) { resolve(); observer.disconnect(); return; } } }, {rootMargin: \"1000px\"}); window.setTimeout(() => { if (root.loadingMsg) { root.loadingMsg.style.opacity = \"1.0\"; } observer.observe(root); }, 0); }); root.state.deferring = false; const _insertNode = (node) => { for (let oldScript of node.querySelectorAll(\"script\")) { let newScript = document.createElement(\"script\"); newScript.type = oldScript.type; newScript.textContent = oldScript.textContent; oldScript.parentNode.replaceChild(newScript, oldScript); } if (root.state.loadingMsg) { root.state.loadingMsg.remove(); root.state.loadingMsg = null; } root.shadowRoot.appendChild(node); }; root.defns.insertContent = ((contentNode, compressed) => { if (compressed) { root.state.deferring = true; } if (root.state.deferring) { root.state.chain = (async () => { await root.state.chain; if (compressed) { const encoded = contentNode.textContent; const blob = new Blob([ Uint8Array.from(atob(encoded), (m) => m.codePointAt(0)) ]); const reader = blob.stream().pipeThrough( new DecompressionStream(\"deflate\") ).pipeThrough( new TextDecoderStream(\"utf-8\") ).getReader(); const parts = []; while (true) { const step = await reader.read(); if (step.done) { break; } parts.push(step.value); } const tpl = document.createElement('template'); tpl.innerHTML = parts.join(\"\"); _insertNode(tpl.content); } else { _insertNode(contentNode.content); } })(); } else { _insertNode(contentNode.content); } }); </script></treescope-run-here><div style=\"display:none\"> <script type=\"application/octet-stream\" >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</script> <treescope-run-here><script type=\"application/octet-stream\"> const root = ( Array.from(document.getElementsByClassName( \"treescope_out_46b73b5e2c6b4dd1b8d327847bd6c21d\")) .filter((elt) => !elt.dataset['step0']) )[0]; root.dataset['step0'] = 1; root.defns.insertContent( this.parentNode.querySelector('script[type=\"application/octet-stream\"]'), true ); this.parentNode.remove(); </script></treescope-run-here> </div>"
      ],
      "text/plain": [
       "<IPython.core.display.HTML object>"
      ]
     },
     "metadata": {},
     "output_type": "display_data"
    },
    {
     "data": {
      "text/html": [
       "<div style=\"display:none\"> <script type=\"application/octet-stream\" >eNq1k8tu2zAQRX9lwACBjSiKrKcVP4A2aYFsumgXXQSBQZMjmwUjqhQd1Ajy7x3Kjzht2jqLLiyL4tyZOcPLsVQP0Lq1xgmTqm00X19CbWpkoOSEVcbOJFZoLcrZkCd5maRJlnGRRpXgZVwk+WCYZFxWfF6x6bhteE1Pn28aCqNJzudziw/wCN3yEk7yYcyjaARP44tNYKcCoXnbTtihiE1PtRt94z/Cd9byde82CmAQQBxAEkAaQBZAHkARwDCA8i4A6dYNTlTtkrh/unAjKtD1s/sj1un4DcAoMEKZDLnMyzTOqlLEhcQ4S4uoyuUwfQY+FgCIwCN4Bg/hKTyG5/AgngRKovSkg/+ANB/kRZkV5ZzQ0jKP6CwqWcg4JtYk59nbkaIwgNd/+/YrbfhfAZxFbIVp8Nyu6vMlWm8KYVXjoEvAeNNoJbhTpr4wwqE7b0nD79lUmLqlKG4X6G5kCxO4Zcc7NgB2/GkfBv9zjnejTWfSCGuMo77cUrUhdfmZlp+MxF5/BNvuCX8btA0Pv6/Qrr+gRuGM7bFwP6GZ32Z7aWX54h7rrXTlX0NBk3F4vV1+3Eb8Xu5Kk0dIuMsR0pSxlldLpWVvFxQKH9X16+wK+5SFDAU9jQ4UiekiKxg/H0CosV64JX09O+vTrfdxm83DSrT8oNG/vl/fULGd+lbdUQGvac3KCrwmZ/9xKCfe2QzO4Bf5ZhlapJsg8Ktyy94+W1gp2+5qd6QkeN61eG8eupN52o/pRaIXs+t7N3c2JSO/4uGf2mjFPQ==</script> <treescope-run-here><script type=\"application/octet-stream\"> const root = ( Array.from(document.getElementsByClassName( \"treescope_out_46b73b5e2c6b4dd1b8d327847bd6c21d\")) .filter((elt) => !elt.dataset['step1']) )[0]; root.dataset['step1'] = 1; root.defns.insertContent( this.parentNode.querySelector('script[type=\"application/octet-stream\"]'), true ); this.parentNode.remove(); </script></treescope-run-here> </div>"
      ],
      "text/plain": [
       "<IPython.core.display.HTML object>"
      ]
     },
     "metadata": {},
     "output_type": "display_data"
    },
    {
     "data": {
      "text/html": [
       "<treescope-run-here><script type=\"application/octet-stream\"> const root = ( Array.from(document.getElementsByClassName( \"treescope_out_46b73b5e2c6b4dd1b8d327847bd6c21d\")) .filter((elt) => !elt.dataset.stolen) )[0]; root.dataset.stolen = 1; this.parentNode.replaceChild(root, this); </script></treescope-run-here>"
      ],
      "text/plain": [
       "Selection(\n",
       "  selected_by_path=OrderedDict({\n",
       "    (): {\n",
       "      'a': 1,\n",
       "      'b': <jax.Array([0, 1, 2, 3, 4, 5, 6, 7, 8, 9], dtype=int32)>,\n",
       "      'c': [\n",
       "        {\n",
       "          'value': <jax.Array([ 0,  1,  2,  3,  4,  5,  6,  7,  8,  9, 10, 11], dtype=int32)>,\n",
       "        },\n",
       "        {\n",
       "          'value': <jax.Array([0., 0., 0., 0., 0., 0., 0.], dtype=float32)>,\n",
       "        },\n",
       "        {'value': 3},\n",
       "      ],\n",
       "    },\n",
       "  }),\n",
       "  remainder=SelectionHole(path=()),\n",
       ")"
      ]
     },
     "execution_count": 21,
     "metadata": {},
     "output_type": "execute_result"
    }
   ],
   "source": [
    "pz.select(my_nested_object).at_instances_of(dict)"
   ]
  },
  {
   "cell_type": "markdown",
   "metadata": {
    "id": "R-Qm4rBaHkNW"
   },
   "source": [
    "### Selecting by condition\n",
    "More generally, you can select all subtrees for which a function evaluates to true:"
   ]
  },
  {
   "cell_type": "code",
   "execution_count": 22,
   "metadata": {
    "execution": {
     "iopub.execute_input": "2024-07-26T21:03:10.602886Z",
     "iopub.status.busy": "2024-07-26T21:03:10.602391Z",
     "iopub.status.idle": "2024-07-26T21:03:10.612243Z",
     "shell.execute_reply": "2024-07-26T21:03:10.612063Z"
    },
    "id": "yK6nvVfWH-Jh"
   },
   "outputs": [
    {
     "data": {
      "text/html": [
       "<script> (()=>{ if (customElements.get('treescope-container') === undefined) { class TreescopeContainer extends HTMLElement { constructor() { super(); this.attachShadow({mode: \"open\"}); this.defns = {}; this.state = {}; } } customElements.define(\"treescope-container\", TreescopeContainer); } if (customElements.get('treescope-run-here') === undefined) { class RunHere extends HTMLElement { constructor() { super() } connectedCallback() { const run = child => { const fn = new Function(child.textContent); child.textContent = \"\"; fn.call(this); this.remove(); }; const child = this.querySelector(\"script\"); if (child) { run(child); } else { new MutationObserver(()=>{ run(this.querySelector(\"script\")); }).observe(this, {childList: true}); } } } customElements.define(\"treescope-run-here\", RunHere); } })(); </script> <treescope-container class=\"treescope_out_28ec88fb308a45a3ac3ba6f1ba71ed95\" ></treescope-container> <treescope-run-here><script type=\"application/octet-stream\"> const root = ( Array.from(document.getElementsByClassName( \"treescope_out_28ec88fb308a45a3ac3ba6f1ba71ed95\")) .filter((elt) => !elt.dataset.setup) )[0]; root.dataset.setup = 1; const msg = document.createElement(\"span\"); msg.style = \"color: #aaaaaa; font-family: monospace; transition: opacity 0.2s; opacity: 0.0;\"; msg.textContent = \"(Loading...)\"; root.state.loadingMsg = msg; root.shadowRoot.appendChild(msg); root.state.chain = new Promise((resolve, reject) => { const observer = new IntersectionObserver((entries) => { for (const entry of entries) { if (entry.isIntersecting) { resolve(); observer.disconnect(); return; } } }, {rootMargin: \"1000px\"}); window.setTimeout(() => { if (root.loadingMsg) { root.loadingMsg.style.opacity = \"1.0\"; } observer.observe(root); }, 0); }); root.state.deferring = false; const _insertNode = (node) => { for (let oldScript of node.querySelectorAll(\"script\")) { let newScript = document.createElement(\"script\"); newScript.type = oldScript.type; newScript.textContent = oldScript.textContent; oldScript.parentNode.replaceChild(newScript, oldScript); } if (root.state.loadingMsg) { root.state.loadingMsg.remove(); root.state.loadingMsg = null; } root.shadowRoot.appendChild(node); }; root.defns.insertContent = ((contentNode, compressed) => { if (compressed) { root.state.deferring = true; } if (root.state.deferring) { root.state.chain = (async () => { await root.state.chain; if (compressed) { const encoded = contentNode.textContent; const blob = new Blob([ Uint8Array.from(atob(encoded), (m) => m.codePointAt(0)) ]); const reader = blob.stream().pipeThrough( new DecompressionStream(\"deflate\") ).pipeThrough( new TextDecoderStream(\"utf-8\") ).getReader(); const parts = []; while (true) { const step = await reader.read(); if (step.done) { break; } parts.push(step.value); } const tpl = document.createElement('template'); tpl.innerHTML = parts.join(\"\"); _insertNode(tpl.content); } else { _insertNode(contentNode.content); } })(); } else { _insertNode(contentNode.content); } }); </script></treescope-run-here><div style=\"display:none\"> <script type=\"application/octet-stream\" >eNrtGwtT2sr6r2zpTIGrRB7ytDo3IC9btYqt1p4znE2ySVZCEpMNiGf87/fbJDwCEbXVtt4pzjS4++332u8d+95lE4PsCcwhxJUtm/Qdy2LoX2RbLmXUMmvIIQZmdER2kGqZLKPiITUmNTS0TMu1sQzrY50ykvF/qSHbgRWDuizjo86wiQ2rpmXCsoTlgeZYnqlkZMuwnFpwdAeFv0kGAAA+qjC9hlTKAMxkxGQ7yMaKQk0tYxCV1VBe1jkRk2R0QjUdVnJCkaMxGabA8+xY+CUzoi6VqEEZcI49Zs1gM9RkDjVdKmdcekuC3ZDdu/dbgXrez9STcTwTaDqw5soOtRni8u0msW0bVMZcY1uWzAiX3iF4mNxLpdK7e6BQoOcypBDVdNEuYjp1BY2wU9D2kaWQVFrQLZcJ/j6IRhjq28TkIosyx8oPffs7bqeDTcUgsG16hrETUBCAzZ5lmbCaGlvOII0WebDOYYlvRZYZlfmiTRzVcobYlIlgWuNU2r9fIJBa2UGZ4NB7VMinAQ9VUWqJa8EgpsZ0tLuLshxkLesOYZ5jgt4RMVwyZ0z3TM7ZMmpXpyrj/PkA/Msd/NxDIQVWZSrWWHDItUdcJpp06F9Xy8FDkgp0kuY4dlYI2Z6rB2rciZFxSmI3EGONlI/ngXMRXCSzNM0IvLLvew5Yq81x8RVisE1ERmDg4U1y7vzfhQGZcKUnnARnKAQWZAO77kdwzhBvKjHD2R+CGSamxO/SoE8wf9/G995vxTmAQkfIR7ibiIaPBGJYAknJzW4im0CWCcyA2CbArTP7eFlT/MxUygS4XRCw/IjRl63hENZ9U/EjyFvsf7gUSyC4ZlosVdOtEXHSMfAhuOkNJeIsIMxWK7liaQ7g8nChLVIs5Iq5IgcAKYjjEKVvQxwjumUoEUy4zH/CMOqLUUOUYYgb/LAK4FgC8U3Qyz0BGISKgPUDjQG0Ql0gOpkG2mVAtIcMLBGjVpMI+DBZ4Er2Pzux9IJgm8nxaBsG5ezOnBY1/RAsGRaP2vfS9FW+SlnBzsAlWAPTMVdP+7e1tKRjN7Xn49yL1UNww7JO5AFR0mn0n/ScB340/tAUPsKhnzVqKPlXvijJyV/JXvTQvUyWfgKT/B45Yc9x+QXaFuRO4sTQpe7zkfVdwSeU8WOAe5+NPw/VuXiM3LBVKgJ1+yp1XNa3zD43/xjXWudKQr7IvSn2qtAPsx/c+DKLXKohdjSodgI2fIe++0FqEA/tieQxBmVGXACab8cZbQIllqBAkVBCxgP/RXLbSmKpAk0eYrAKig3Umwwly3DRsce4vApqBCfhaU/AMTJjIg2gmgwi7xDyiw4xHGo9k8Fxil2izGrQtyTLf3ZWzTw47ReJWaFKhstSBv4RI0V8uJufFMbY7cuQB0Cxs/NYZZHsMY3T62gunYmSXFQ9GmEnlckomOEMNuFi/TIkvbjMifDaysHm1Jp9tCjnIgIag8I5Y3nsaaLMOICLoUR5E+XEJ4ne0KFtOQybK7glxxoQs89X5sHoYe0uHFvQ5/Sa7wReqQBjSl+GOldxiBmyGu0kAGcU8Jmi64LrhIk04qoyNuQUtDtQa+fsG788E1yG+fkZvy/GiWQ5UMKEnCgWA9k5F4vKAxMgjmTd9MHa+1bgf4uYojVC2MVxB8oXuQfBSe5S/lpIDZZ8KTnSMWX6y2J9Ht1tolhFvNjFhMXYEN/MO+Q74drDhgmdRB96cJXewLlIyKr4IUtwiY0diJx+anBf2Ja5tcbQe0mjBQl1zKvwMXZMMIH+tIyYer6qYjlXiAG0obP6dzZpcMLBAs+VoUuGS5ms4Cfx+Tij5g8jsJPRHKxQuI5UrlBUiLaJLIifGkFZ0H9J1jeDeAoK4dnJX0KhT6+wspLGn01jkQAzFeZOGOt+lDQMbENCfLipeHrFcD+FwKF9Gj4QuYHModwL8xx8xJEIBQ0A5u12nCqiLa8Q7aPRGgzLopqRzj4e8DHE7sXzjMMsPl9Ab0THwRNBdaxhSrFkj7fXAo80rjDChkfcVDotuNaQpPz4wycT/CkEdRufSjyyckskURqlZ3MgVyeE8WERGaNGr9fj0vT4Gh/9+JuCQ/zWuzcx5dQ//w2rRZlMI+HTK8fFXt3kwy8jXBuHc8ftLKRB15FryHOMFC9janx/a2ypan5HgkKptL2pZKvtQ02si/6neyKKlv+tfjqGfzstUWyK6z71oShqA+uD0m3WG+Ovonj2tXEgHnbrDbGl3XQ7H3Xm1g8p0Qqt/Yv8x27p66hne/TTYfEsd3DRPf1yODo/vGWfJq1WY+NcG5zR+n5Wp/sn3kFTaV9lO9KWOuoq9vWHkn59TumJd2i29Y76mYmfS/UjZ1tsdc1BsyR/9jxz47R4LbuD8UhtGVvXN1rTqmjSwbhdyXXELVM8LX50nIPc6YZ2mz1VsuKBmtOOyo1x+yqvZa2Jd1ouD5u50rhzUT3WNJucDSbbpCvdFmXJOW4zLGon3aPxPnYn7onX7V6cN1tj8dOJ3f2qfN7a2tDKZ+WLAsuqHz5di6Mi4PwoHpXFw7E41G5PexveZY80L27yakm+Pdo+7UyKXl38cFu/slt2gXZOGs3spfdpu1c21frHZqd1OBTpRmXUzOtmTi9vSF/GF1fjjjPab39umFdqs6mxjWP50jDKxWrjYFyv6NXtw8N2r9C+FLVht3hVP6myszbpVJv1erdd2Ne2T7e+yhNJbMOdfvmwJZ60sUgOG4bYuW0ea5dMK9U/acfH3f36gJ4USat+0ai3ZJq1dceyTbAN+7K5n7vNDXpqQ2X65IPZUXDL7ajZo2G7eVSqK+L1ly82Zm7vcqgomFbz6m11+zO9ui7ZQ6d0bH1t9KjTHo4O2oXeea/Qaubl+ol6ttExLLu93XLHRaxdlyr0kvSODPvcrHe6RDl0iHd+3W4Mc+ctZ9Dr3RTzpfNzdywCR2nkD35ZKumbdZKnrH/gn5n3Y8WyoTicu6Q/rhYEYQ3EZuCzfwOu9WNB3Z+f+vV70FoAbjAPU0apoMKPTrfBBc8s7r4AFnYAfM2F8MBR8JaG9wF4jClDJh5RDTPLEQCzLVnYUYSxQxk5g+4/NccFwoa45iNUqBNSiYV+hw9PgcoZHRKo/1LT6frKOYcMoXlZOXq3ifLZbNYvByD4QmWQ8jv3eLoLTU1izhyfWUwjGJ83J9Bb1MLUgMDGLMSB3/iRDUoAE4pFiMYUdEawwnuyjUXdhYPgB0bAvL+bzoAj49bEnn0LlZ9BZJYCHAAWBV7puRLr9pc2o2PG5TIJgINa4D01bS/MaQk/+0N5nohFEhYKsBkUCSCuf3jv3/dbIbJn435xjJzYe/f2Jl/ewcEj1FQNxRwIBtOJvVwItBmBiVZWiT0Up/RI2RPlKjnvl5PIMhvcLHeTT/RLf1SfTqJZM7+b+JbEyb8TyM+gu4mFPr+G3l17FtvxAYKvO2hlIgGp2rdGiHbQ7iRDnvemwsU+fugipHUXETGZZzWzWCuL6yiXRFjuZmeaDrreGspDt+5aBlWQPMHmUkfPxwoLm0u47+nbHgGVeITZhXwujG8CBiPFFZRmCrD1FvX8SEKU2sNXvo4hquwmZi9pSpVivkBKBUzk0raCyxUlr5AKhsViqSSR0pIUcS93EntX+Ebwy2EIpKyQT+Wym+m11hn3eC2uLD3kytLv5Mryr3Hlb3G+/HJ3Ij90J/IP38kryNvr8/WLav9b9uELAJjf5Q7iPMXv2mO9JRowq2qBKAWC5W15GyJkpUpKUjWLSbmQq1S2C98XMPMrAXNNnNv8bWJhcKvfkr7uko8ygRnws8bI4HH3ylLJT3Oc70wov7rFeFnN5x6h+dwrDVl/avX/w1q9WK2UKtVcLluuQOrJlSSsqgSXKvmKWsWkUn5i6lENC/PkU/6OYv31pKfcU9JT7k96+hVB8rdLT78yLeUfofH8605L0Vle4dXFlPxTYkr+p8SU16S8n2DfcY+/X5uqXnqk8b329HDYXnoLkhYw6w/IhLPjxr4JebZCdV6gruFnbf59Z7CdPHI9yX/Vs4l0qOwMXt0RBWHJGpF3Gtt5hJbeorVYlpUYU06vsbtX8+oo9fyvjn5C2n+dXK8az+wvYZaYWfobuaAr4Jba9xg1hKht7lOZfSCT59EJRIHdJ75/elS8jjzSs0L7nuVH1d+/YTn6xy5/qV3Kz2aXr9UAX+gqe/y/ApoyebbrpMrN7iP+fODPFb5ib1xtM7//On/JyccOQZar6RmoQkd7/wM6QCFV</script> <treescope-run-here><script type=\"application/octet-stream\"> const root = ( Array.from(document.getElementsByClassName( \"treescope_out_28ec88fb308a45a3ac3ba6f1ba71ed95\")) .filter((elt) => !elt.dataset['step0']) )[0]; root.dataset['step0'] = 1; root.defns.insertContent( this.parentNode.querySelector('script[type=\"application/octet-stream\"]'), true ); this.parentNode.remove(); </script></treescope-run-here> </div>"
      ],
      "text/plain": [
       "<IPython.core.display.HTML object>"
      ]
     },
     "metadata": {},
     "output_type": "display_data"
    },
    {
     "data": {
      "text/html": [
       "<div style=\"display:none\"> <script type=\"application/octet-stream\" >eNq1k01v2zAMhv8KoQJFgjpuEieO3HwAW7sBveywHXYoikCR6ESDanmyEswo+t9HOR9Nt25LDzvEsSy+JB/q1UTpDVS+NjhlSlelEfUVFLZABlpNWW7dXGGOzqGap3zYTzBNBMp0oMSIq75CLujjME0XmLLZpCpFQc+QbxZLa0guFguHG3iEZnkFZynvi253DE+Ty21gowJpRFVN2bGIzc6NH38TP+J3zom6ddeNoBdBP4IkgkEEwwjSCEYR8Aiy+wiUr0uc6sIn/fb50o+pQNPP/o9YZ5O3AGd5gipBIQdyQIQ8w3SRdQWOkh7ng+QZ+FQAIIKAEBgCRKAIGIEjgAQSyIgykPb+A9Iw4ynPer3uiBNSL12IPEdBR8LzTCAfvR2pG0fw+u/Qfm6s+CuAd4iVtCV23LrorNAFU0inSw9NAibK0mgpvLbFpZUefacijXhgM2mLiqKEW6K/VRVM4Y6d7tgI2OmnfRz8zznej7edKSudtZ768itdxdTlZ1p+sgpb7THsuif8XdAuPP6+Rld/QYPSW9di8WFC87DNDtLcieUDFjvpOrzGkibj8Wa3/LiL+L3ctSGPkHCfI6YpY6GuV9qo1j4oliGq6de7NbYpCxkKWgY9aBLTRdYweT6A2GCx9Cv6enHRplsf4rabx5Vo+cFgeH1f31KxvfpO31OBoKns2km8IWf/cShnwdkMLuAX+XYZO6SbIPGr9qvWIVuca1ftazekJHjedfhgN83JPB3G9CLRi9m1g5sbm5KRX/HwT7/rxMk=</script> <treescope-run-here><script type=\"application/octet-stream\"> const root = ( Array.from(document.getElementsByClassName( \"treescope_out_28ec88fb308a45a3ac3ba6f1ba71ed95\")) .filter((elt) => !elt.dataset['step1']) )[0]; root.dataset['step1'] = 1; root.defns.insertContent( this.parentNode.querySelector('script[type=\"application/octet-stream\"]'), true ); this.parentNode.remove(); </script></treescope-run-here> </div>"
      ],
      "text/plain": [
       "<IPython.core.display.HTML object>"
      ]
     },
     "metadata": {},
     "output_type": "display_data"
    },
    {
     "data": {
      "text/html": [
       "<treescope-run-here><script type=\"application/octet-stream\"> const root = ( Array.from(document.getElementsByClassName( \"treescope_out_28ec88fb308a45a3ac3ba6f1ba71ed95\")) .filter((elt) => !elt.dataset.stolen) )[0]; root.dataset.stolen = 1; this.parentNode.replaceChild(root, this); </script></treescope-run-here>"
      ],
      "text/plain": [
       "Selection(\n",
       "  selected_by_path=OrderedDict({\n",
       "    (DictKey(key='b'),):\n",
       "      <jax.Array([0, 1, 2, 3, 4, 5, 6, 7, 8, 9], dtype=int32)>,\n",
       "    (DictKey(key='c'), SequenceKey(idx=1), DictKey(key='value')):\n",
       "      <jax.Array([0., 0., 0., 0., 0., 0., 0.], dtype=float32)>,\n",
       "  }),\n",
       "  remainder={\n",
       "    'a': 1,\n",
       "    'b': SelectionHole(path=(DictKey(key='b'),)),\n",
       "    'c': [{'value': <jax.Array([ 0,  1,  2,  3,  4,  5,  6,  7,  8,  9, 10, 11], dtype=int32)>}, {'value': SelectionHole(path=(DictKey(key='c'), SequenceKey(idx=1), DictKey(key='value')))}, {'value': 3}],\n",
       "  },\n",
       ")"
      ]
     },
     "execution_count": 22,
     "metadata": {},
     "output_type": "execute_result"
    }
   ],
   "source": [
    "(\n",
    "    pz.select(my_nested_object)\n",
    "    .at_subtrees_where(\n",
    "        lambda subtree: isinstance(subtree, jax.Array) and subtree.size <= 10)\n",
    ")"
   ]
  },
  {
   "cell_type": "markdown",
   "metadata": {
    "id": "Hz97YScaHmyC"
   },
   "source": [
    "In fact, `at_instances_of` is a thin wrapper around `at_subtrees_where`. There's another convenience method for finding values equal to a sentinel value:"
   ]
  },
  {
   "cell_type": "code",
   "execution_count": 23,
   "metadata": {
    "execution": {
     "iopub.execute_input": "2024-07-26T21:03:10.619009Z",
     "iopub.status.busy": "2024-07-26T21:03:10.618614Z",
     "iopub.status.idle": "2024-07-26T21:03:10.626923Z",
     "shell.execute_reply": "2024-07-26T21:03:10.626744Z"
    },
    "id": "LKwjwL8CJjur"
   },
   "outputs": [
    {
     "data": {
      "text/html": [
       "<script> (()=>{ if (customElements.get('treescope-container') === undefined) { class TreescopeContainer extends HTMLElement { constructor() { super(); this.attachShadow({mode: \"open\"}); this.defns = {}; this.state = {}; } } customElements.define(\"treescope-container\", TreescopeContainer); } if (customElements.get('treescope-run-here') === undefined) { class RunHere extends HTMLElement { constructor() { super() } connectedCallback() { const run = child => { const fn = new Function(child.textContent); child.textContent = \"\"; fn.call(this); this.remove(); }; const child = this.querySelector(\"script\"); if (child) { run(child); } else { new MutationObserver(()=>{ run(this.querySelector(\"script\")); }).observe(this, {childList: true}); } } } customElements.define(\"treescope-run-here\", RunHere); } })(); </script> <treescope-container class=\"treescope_out_d27711320a574e93a02fd484ef67c9b1\" ></treescope-container> <treescope-run-here><script type=\"application/octet-stream\"> const root = ( Array.from(document.getElementsByClassName( \"treescope_out_d27711320a574e93a02fd484ef67c9b1\")) .filter((elt) => !elt.dataset.setup) )[0]; root.dataset.setup = 1; const msg = document.createElement(\"span\"); msg.style = \"color: #aaaaaa; font-family: monospace; transition: opacity 0.2s; opacity: 0.0;\"; msg.textContent = \"(Loading...)\"; root.state.loadingMsg = msg; root.shadowRoot.appendChild(msg); root.state.chain = new Promise((resolve, reject) => { const observer = new IntersectionObserver((entries) => { for (const entry of entries) { if (entry.isIntersecting) { resolve(); observer.disconnect(); return; } } }, {rootMargin: \"1000px\"}); window.setTimeout(() => { if (root.loadingMsg) { root.loadingMsg.style.opacity = \"1.0\"; } observer.observe(root); }, 0); }); root.state.deferring = false; const _insertNode = (node) => { for (let oldScript of node.querySelectorAll(\"script\")) { let newScript = document.createElement(\"script\"); newScript.type = oldScript.type; newScript.textContent = oldScript.textContent; oldScript.parentNode.replaceChild(newScript, oldScript); } if (root.state.loadingMsg) { root.state.loadingMsg.remove(); root.state.loadingMsg = null; } root.shadowRoot.appendChild(node); }; root.defns.insertContent = ((contentNode, compressed) => { if (compressed) { root.state.deferring = true; } if (root.state.deferring) { root.state.chain = (async () => { await root.state.chain; if (compressed) { const encoded = contentNode.textContent; const blob = new Blob([ Uint8Array.from(atob(encoded), (m) => m.codePointAt(0)) ]); const reader = blob.stream().pipeThrough( new DecompressionStream(\"deflate\") ).pipeThrough( new TextDecoderStream(\"utf-8\") ).getReader(); const parts = []; while (true) { const step = await reader.read(); if (step.done) { break; } parts.push(step.value); } const tpl = document.createElement('template'); tpl.innerHTML = parts.join(\"\"); _insertNode(tpl.content); } else { _insertNode(contentNode.content); } })(); } else { _insertNode(contentNode.content); } }); </script></treescope-run-here><div style=\"display:none\"> <script type=\"application/octet-stream\" >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</script> <treescope-run-here><script type=\"application/octet-stream\"> const root = ( Array.from(document.getElementsByClassName( \"treescope_out_d27711320a574e93a02fd484ef67c9b1\")) .filter((elt) => !elt.dataset['step0']) )[0]; root.dataset['step0'] = 1; root.defns.insertContent( this.parentNode.querySelector('script[type=\"application/octet-stream\"]'), true ); this.parentNode.remove(); </script></treescope-run-here> </div>"
      ],
      "text/plain": [
       "<IPython.core.display.HTML object>"
      ]
     },
     "metadata": {},
     "output_type": "display_data"
    },
    {
     "data": {
      "text/html": [
       "<div style=\"display:none\"> <script type=\"application/octet-stream\" >eNq1k01v2zAMhv8KoQJFgrqu49iO3XwAW7sBveywHXYoikCW6ESDanmyUiwo+t9HOR9Nt25LDzvEsSy+JB/q1USqB2jdWuOUSdU2mq8voTY1MlByyipj5xIrtBblPB1mHNMkSkYxT0Yc85JnI16lPOU85kXMZpO24TU9fb5ZKIwmOS9Liw/wCN3yEk6yPOZRNIanycUmsFOB0Lxtp+xQxGan2o2/8R/hO2v5uncbBTAIIA5gGEASQBpAFsAogDyA4i4A6dYNTlXthnH/dOHGVKDrZ/dHrLPJG4BHZSKH6Qgxl2UyKERZZVVcYFrEohjEJT4DHwsAROARPIOH8BQew3N4EE8CBVF60sF/QCqzIiqzJBVVlCZDWRS5zKMC83wg47Iqk7cjRWEAr//27Vfa8L8COIvYCtPguV3V50u03hTCqsZBl4DxptFKcKdMfWGEQ3fekobfs5kwdUtR3C7Q3cgWpnDLjndsAOz40z4M/ucc78abzqQR1hhHfbmlakPq8jMtPxmJvf4Ytt0T/jZoGx5+X6Fdf0GNwhnbY+F+QnO/zfbSyvLFPdZb6cq/hoIm4/B6u/y4jfi93JUmj5BwlyOkKWMtr5ZKy94uKBQ+quvX2RX2KQsZCnoaHSgS00VWMHk+gFBjvXBL+np21qdb7+M2m4eVaPlBo399v76hYjv1rbqjAl7TmpUVeE3O/uNQTryzGZzBL/LNMrRIN0HgV+WWvX22sFK23dXuSEnwvGvx3jx0J/O0H9OLRC9m1/du7mxKRn7Fwz8BVkjFmw==</script> <treescope-run-here><script type=\"application/octet-stream\"> const root = ( Array.from(document.getElementsByClassName( \"treescope_out_d27711320a574e93a02fd484ef67c9b1\")) .filter((elt) => !elt.dataset['step1']) )[0]; root.dataset['step1'] = 1; root.defns.insertContent( this.parentNode.querySelector('script[type=\"application/octet-stream\"]'), true ); this.parentNode.remove(); </script></treescope-run-here> </div>"
      ],
      "text/plain": [
       "<IPython.core.display.HTML object>"
      ]
     },
     "metadata": {},
     "output_type": "display_data"
    },
    {
     "data": {
      "text/html": [
       "<treescope-run-here><script type=\"application/octet-stream\"> const root = ( Array.from(document.getElementsByClassName( \"treescope_out_d27711320a574e93a02fd484ef67c9b1\")) .filter((elt) => !elt.dataset.stolen) )[0]; root.dataset.stolen = 1; this.parentNode.replaceChild(root, this); </script></treescope-run-here>"
      ],
      "text/plain": [
       "Selection(\n",
       "  selected_by_path=OrderedDict({(DictKey(key='a'),): 1}),\n",
       "  remainder={\n",
       "    'a': SelectionHole(path=(DictKey(key='a'),)),\n",
       "    'b': <jax.Array([0, 1, 2, 3, 4, 5, 6, 7, 8, 9], dtype=int32)>,\n",
       "    'c': [\n",
       "      {\n",
       "        'value': <jax.Array([ 0,  1,  2,  3,  4,  5,  6,  7,  8,  9, 10, 11], dtype=int32)>,\n",
       "      },\n",
       "      {\n",
       "        'value': <jax.Array([0., 0., 0., 0., 0., 0., 0.], dtype=float32)>,\n",
       "      },\n",
       "      {'value': 3},\n",
       "    ],\n",
       "  },\n",
       ")"
      ]
     },
     "execution_count": 23,
     "metadata": {},
     "output_type": "execute_result"
    }
   ],
   "source": [
    "(\n",
    "    pz.select(my_nested_object)\n",
    "    .at_equal_to(1)\n",
    ")"
   ]
  },
  {
   "cell_type": "code",
   "execution_count": 24,
   "metadata": {
    "execution": {
     "iopub.execute_input": "2024-07-26T21:03:10.632182Z",
     "iopub.status.busy": "2024-07-26T21:03:10.631944Z",
     "iopub.status.idle": "2024-07-26T21:03:10.637890Z",
     "shell.execute_reply": "2024-07-26T21:03:10.637713Z"
    },
    "id": "lNlmgOXZIW8O"
   },
   "outputs": [
    {
     "data": {
      "text/html": [
       "<script> (()=>{ if (customElements.get('treescope-container') === undefined) { class TreescopeContainer extends HTMLElement { constructor() { super(); this.attachShadow({mode: \"open\"}); this.defns = {}; this.state = {}; } } customElements.define(\"treescope-container\", TreescopeContainer); } if (customElements.get('treescope-run-here') === undefined) { class RunHere extends HTMLElement { constructor() { super() } connectedCallback() { const run = child => { const fn = new Function(child.textContent); child.textContent = \"\"; fn.call(this); this.remove(); }; const child = this.querySelector(\"script\"); if (child) { run(child); } else { new MutationObserver(()=>{ run(this.querySelector(\"script\")); }).observe(this, {childList: true}); } } } customElements.define(\"treescope-run-here\", RunHere); } })(); </script> <treescope-container class=\"treescope_out_e58b273675994e5594b49370fada37fd\" ></treescope-container> <treescope-run-here><script type=\"application/octet-stream\"> const root = ( Array.from(document.getElementsByClassName( \"treescope_out_e58b273675994e5594b49370fada37fd\")) .filter((elt) => !elt.dataset.setup) )[0]; root.dataset.setup = 1; const msg = document.createElement(\"span\"); msg.style = \"color: #aaaaaa; font-family: monospace; transition: opacity 0.2s; opacity: 0.0;\"; msg.textContent = \"(Loading...)\"; root.state.loadingMsg = msg; root.shadowRoot.appendChild(msg); root.state.chain = new Promise((resolve, reject) => { const observer = new IntersectionObserver((entries) => { for (const entry of entries) { if (entry.isIntersecting) { resolve(); observer.disconnect(); return; } } }, {rootMargin: \"1000px\"}); window.setTimeout(() => { if (root.loadingMsg) { root.loadingMsg.style.opacity = \"1.0\"; } observer.observe(root); }, 0); }); root.state.deferring = false; const _insertNode = (node) => { for (let oldScript of node.querySelectorAll(\"script\")) { let newScript = document.createElement(\"script\"); newScript.type = oldScript.type; newScript.textContent = oldScript.textContent; oldScript.parentNode.replaceChild(newScript, oldScript); } if (root.state.loadingMsg) { root.state.loadingMsg.remove(); root.state.loadingMsg = null; } root.shadowRoot.appendChild(node); }; root.defns.insertContent = ((contentNode, compressed) => { if (compressed) { root.state.deferring = true; } if (root.state.deferring) { root.state.chain = (async () => { await root.state.chain; if (compressed) { const encoded = contentNode.textContent; const blob = new Blob([ Uint8Array.from(atob(encoded), (m) => m.codePointAt(0)) ]); const reader = blob.stream().pipeThrough( new DecompressionStream(\"deflate\") ).pipeThrough( new TextDecoderStream(\"utf-8\") ).getReader(); const parts = []; while (true) { const step = await reader.read(); if (step.done) { break; } parts.push(step.value); } const tpl = document.createElement('template'); tpl.innerHTML = parts.join(\"\"); _insertNode(tpl.content); } else { _insertNode(contentNode.content); } })(); } else { _insertNode(contentNode.content); } }); </script></treescope-run-here><div style=\"display:none\"> <script type=\"application/octet-stream\" >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</script> <treescope-run-here><script type=\"application/octet-stream\"> const root = ( Array.from(document.getElementsByClassName( \"treescope_out_e58b273675994e5594b49370fada37fd\")) .filter((elt) => !elt.dataset['step0']) )[0]; root.dataset['step0'] = 1; root.defns.insertContent( this.parentNode.querySelector('script[type=\"application/octet-stream\"]'), true ); this.parentNode.remove(); </script></treescope-run-here> </div>"
      ],
      "text/plain": [
       "<IPython.core.display.HTML object>"
      ]
     },
     "metadata": {},
     "output_type": "display_data"
    },
    {
     "data": {
      "text/html": [
       "<treescope-run-here><script type=\"application/octet-stream\"> const root = ( Array.from(document.getElementsByClassName( \"treescope_out_e58b273675994e5594b49370fada37fd\")) .filter((elt) => !elt.dataset.stolen) )[0]; root.dataset.stolen = 1; this.parentNode.replaceChild(root, this); </script></treescope-run-here>"
      ],
      "text/plain": [
       "Selection(\n",
       "  selected_by_path=OrderedDict({(DictKey(key='bar'),): [1, 2, 3]}),\n",
       "  remainder={\n",
       "    'bar': SelectionHole(path=(DictKey(key='bar'),)),\n",
       "    'foo': 'foo',\n",
       "  },\n",
       ")"
      ]
     },
     "execution_count": 24,
     "metadata": {},
     "output_type": "execute_result"
    }
   ],
   "source": [
    "(\n",
    "    pz.select({\"foo\": \"foo\", \"bar\": [1, 2, 3]}).at_equal_to([1, 2, 3])\n",
    ")"
   ]
  },
  {
   "cell_type": "markdown",
   "metadata": {
    "id": "1GZV7CkULrZ_"
   },
   "source": [
    "### Selecting by JAX keypath"
   ]
  },
  {
   "cell_type": "markdown",
   "metadata": {
    "id": "nJSlyPdGLvNE"
   },
   "source": [
    "PyTree nodes in JAX are associated with key paths identifying their location in the tree:"
   ]
  },
  {
   "cell_type": "code",
   "execution_count": 25,
   "metadata": {
    "execution": {
     "iopub.execute_input": "2024-07-26T21:03:10.646774Z",
     "iopub.status.busy": "2024-07-26T21:03:10.646440Z",
     "iopub.status.idle": "2024-07-26T21:03:10.651231Z",
     "shell.execute_reply": "2024-07-26T21:03:10.651053Z"
    },
    "id": "9nX57pMUL72X"
   },
   "outputs": [
    {
     "data": {
      "text/html": [
       "<script> (()=>{ if (customElements.get('treescope-container') === undefined) { class TreescopeContainer extends HTMLElement { constructor() { super(); this.attachShadow({mode: \"open\"}); this.defns = {}; this.state = {}; } } customElements.define(\"treescope-container\", TreescopeContainer); } if (customElements.get('treescope-run-here') === undefined) { class RunHere extends HTMLElement { constructor() { super() } connectedCallback() { const run = child => { const fn = new Function(child.textContent); child.textContent = \"\"; fn.call(this); this.remove(); }; const child = this.querySelector(\"script\"); if (child) { run(child); } else { new MutationObserver(()=>{ run(this.querySelector(\"script\")); }).observe(this, {childList: true}); } } } customElements.define(\"treescope-run-here\", RunHere); } })(); </script> <treescope-container class=\"treescope_out_579deb2b10c64398b107459134946665\" ></treescope-container> <treescope-run-here><script type=\"application/octet-stream\"> const root = ( Array.from(document.getElementsByClassName( \"treescope_out_579deb2b10c64398b107459134946665\")) .filter((elt) => !elt.dataset.setup) )[0]; root.dataset.setup = 1; const msg = document.createElement(\"span\"); msg.style = \"color: #aaaaaa; font-family: monospace; transition: opacity 0.2s; opacity: 0.0;\"; msg.textContent = \"(Loading...)\"; root.state.loadingMsg = msg; root.shadowRoot.appendChild(msg); root.state.chain = new Promise((resolve, reject) => { const observer = new IntersectionObserver((entries) => { for (const entry of entries) { if (entry.isIntersecting) { resolve(); observer.disconnect(); return; } } }, {rootMargin: \"1000px\"}); window.setTimeout(() => { if (root.loadingMsg) { root.loadingMsg.style.opacity = \"1.0\"; } observer.observe(root); }, 0); }); root.state.deferring = false; const _insertNode = (node) => { for (let oldScript of node.querySelectorAll(\"script\")) { let newScript = document.createElement(\"script\"); newScript.type = oldScript.type; newScript.textContent = oldScript.textContent; oldScript.parentNode.replaceChild(newScript, oldScript); } if (root.state.loadingMsg) { root.state.loadingMsg.remove(); root.state.loadingMsg = null; } root.shadowRoot.appendChild(node); }; root.defns.insertContent = ((contentNode, compressed) => { if (compressed) { root.state.deferring = true; } if (root.state.deferring) { root.state.chain = (async () => { await root.state.chain; if (compressed) { const encoded = contentNode.textContent; const blob = new Blob([ Uint8Array.from(atob(encoded), (m) => m.codePointAt(0)) ]); const reader = blob.stream().pipeThrough( new DecompressionStream(\"deflate\") ).pipeThrough( new TextDecoderStream(\"utf-8\") ).getReader(); const parts = []; while (true) { const step = await reader.read(); if (step.done) { break; } parts.push(step.value); } const tpl = document.createElement('template'); tpl.innerHTML = parts.join(\"\"); _insertNode(tpl.content); } else { _insertNode(contentNode.content); } })(); } else { _insertNode(contentNode.content); } }); </script></treescope-run-here><div style=\"display:none\"> <script type=\"application/octet-stream\" >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</script> <treescope-run-here><script type=\"application/octet-stream\"> const root = ( Array.from(document.getElementsByClassName( \"treescope_out_579deb2b10c64398b107459134946665\")) .filter((elt) => !elt.dataset['step0']) )[0]; root.dataset['step0'] = 1; root.defns.insertContent( this.parentNode.querySelector('script[type=\"application/octet-stream\"]'), true ); this.parentNode.remove(); </script></treescope-run-here> </div>"
      ],
      "text/plain": [
       "<IPython.core.display.HTML object>"
      ]
     },
     "metadata": {},
     "output_type": "display_data"
    },
    {
     "data": {
      "text/html": [
       "<treescope-run-here><script type=\"application/octet-stream\"> const root = ( Array.from(document.getElementsByClassName( \"treescope_out_579deb2b10c64398b107459134946665\")) .filter((elt) => !elt.dataset.stolen) )[0]; root.dataset.stolen = 1; this.parentNode.replaceChild(root, this); </script></treescope-run-here>"
      ],
      "text/plain": [
       "{'a': (DictKey(key='a'),),\n",
       " 'b': (DictKey(key='b'),),\n",
       " 'c': [{'value': (DictKey(key='c'), SequenceKey(idx=0), DictKey(key='value'))},\n",
       "  {'value': (DictKey(key='c'), SequenceKey(idx=1), DictKey(key='value'))},\n",
       "  {'value': (DictKey(key='c'), SequenceKey(idx=2), DictKey(key='value'))}]}"
      ]
     },
     "execution_count": 25,
     "metadata": {},
     "output_type": "execute_result"
    }
   ],
   "source": [
    "jax.tree_util.tree_map_with_path(lambda key, node: key, my_nested_object)"
   ]
  },
  {
   "cell_type": "markdown",
   "metadata": {
    "id": "BzUbLkQ5MFTG"
   },
   "source": [
    "You can directly select nodes based on their JAX keypath:"
   ]
  },
  {
   "cell_type": "code",
   "execution_count": 26,
   "metadata": {
    "execution": {
     "iopub.execute_input": "2024-07-26T21:03:10.660045Z",
     "iopub.status.busy": "2024-07-26T21:03:10.659802Z",
     "iopub.status.idle": "2024-07-26T21:03:10.669166Z",
     "shell.execute_reply": "2024-07-26T21:03:10.668970Z"
    },
    "id": "YQZQ9MVwMw0h"
   },
   "outputs": [
    {
     "data": {
      "text/html": [
       "<script> (()=>{ if (customElements.get('treescope-container') === undefined) { class TreescopeContainer extends HTMLElement { constructor() { super(); this.attachShadow({mode: \"open\"}); this.defns = {}; this.state = {}; } } customElements.define(\"treescope-container\", TreescopeContainer); } if (customElements.get('treescope-run-here') === undefined) { class RunHere extends HTMLElement { constructor() { super() } connectedCallback() { const run = child => { const fn = new Function(child.textContent); child.textContent = \"\"; fn.call(this); this.remove(); }; const child = this.querySelector(\"script\"); if (child) { run(child); } else { new MutationObserver(()=>{ run(this.querySelector(\"script\")); }).observe(this, {childList: true}); } } } customElements.define(\"treescope-run-here\", RunHere); } })(); </script> <treescope-container class=\"treescope_out_ed2a2618ad82486298992914b1d4c530\" ></treescope-container> <treescope-run-here><script type=\"application/octet-stream\"> const root = ( Array.from(document.getElementsByClassName( \"treescope_out_ed2a2618ad82486298992914b1d4c530\")) .filter((elt) => !elt.dataset.setup) )[0]; root.dataset.setup = 1; const msg = document.createElement(\"span\"); msg.style = \"color: #aaaaaa; font-family: monospace; transition: opacity 0.2s; opacity: 0.0;\"; msg.textContent = \"(Loading...)\"; root.state.loadingMsg = msg; root.shadowRoot.appendChild(msg); root.state.chain = new Promise((resolve, reject) => { const observer = new IntersectionObserver((entries) => { for (const entry of entries) { if (entry.isIntersecting) { resolve(); observer.disconnect(); return; } } }, {rootMargin: \"1000px\"}); window.setTimeout(() => { if (root.loadingMsg) { root.loadingMsg.style.opacity = \"1.0\"; } observer.observe(root); }, 0); }); root.state.deferring = false; const _insertNode = (node) => { for (let oldScript of node.querySelectorAll(\"script\")) { let newScript = document.createElement(\"script\"); newScript.type = oldScript.type; newScript.textContent = oldScript.textContent; oldScript.parentNode.replaceChild(newScript, oldScript); } if (root.state.loadingMsg) { root.state.loadingMsg.remove(); root.state.loadingMsg = null; } root.shadowRoot.appendChild(node); }; root.defns.insertContent = ((contentNode, compressed) => { if (compressed) { root.state.deferring = true; } if (root.state.deferring) { root.state.chain = (async () => { await root.state.chain; if (compressed) { const encoded = contentNode.textContent; const blob = new Blob([ Uint8Array.from(atob(encoded), (m) => m.codePointAt(0)) ]); const reader = blob.stream().pipeThrough( new DecompressionStream(\"deflate\") ).pipeThrough( new TextDecoderStream(\"utf-8\") ).getReader(); const parts = []; while (true) { const step = await reader.read(); if (step.done) { break; } parts.push(step.value); } const tpl = document.createElement('template'); tpl.innerHTML = parts.join(\"\"); _insertNode(tpl.content); } else { _insertNode(contentNode.content); } })(); } else { _insertNode(contentNode.content); } }); </script></treescope-run-here><div style=\"display:none\"> <script type=\"application/octet-stream\" >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</script> <treescope-run-here><script type=\"application/octet-stream\"> const root = ( Array.from(document.getElementsByClassName( \"treescope_out_ed2a2618ad82486298992914b1d4c530\")) .filter((elt) => !elt.dataset['step0']) )[0]; root.dataset['step0'] = 1; root.defns.insertContent( this.parentNode.querySelector('script[type=\"application/octet-stream\"]'), true ); this.parentNode.remove(); </script></treescope-run-here> </div>"
      ],
      "text/plain": [
       "<IPython.core.display.HTML object>"
      ]
     },
     "metadata": {},
     "output_type": "display_data"
    },
    {
     "data": {
      "text/html": [
       "<div style=\"display:none\"> <script type=\"application/octet-stream\" >eNq1k9tu2zAMhl+FUIEiQV3XSXxsDsDWbkBvdrFd7KIoAlmiEw2q5clKsaDou49yjt26rRswIImtiD/Jj/o1keoBWrfWOGVStY3m60uoTY0MlJyyyti5xAqtRTnHcpineZSUIuNxWgxzPpJZLuM4l1USJZzNJm3Da/r1+WahMJrkvCwtPsAjdMtLOEnzIY+iMTxNLjaBnQqE5m07ZcciNjvVbvyFfwvfWMvXvdsogEEAwwBGAcQBJAGkAWQB5AEUdwFIt25wqmo3GvZPF25MBbp+dg9inU3+AnjAeZTkRV5lKOOSp2U2yKoqRY5pUoxKeQB+LQAQgUfwDB7CU3gMz+FBPAkUROlJB/8BqUzKYSnjilfFIOYRfUo+GkksMCmSKvsHpCgM4OXvvv1KG/5bAGcRW2EaPLer+nyJ1ptCWNU46BIw3jRaCe6UqS+McOjOW9LwezYTpm4pitsFuhvZwhRu2esdGwB7/WkfB/9xjnfjTWfSCGuMo77cUrUhdfmRlh+MxF5/DNvuCX8btA0Pv67Qrj+hRuGM7bFwP6G532Z7aWX54h7rrXTlX0NBk3F4vV2+30b8XO5Kk0dIuMsR0pSxlldLpWVvFxQKH9X16+wK+5SFDAU9jQ4UiekiK5gcDiDUWC/ckv49O+vTrfdxm83jSrR8p9G/vl3fULGd+lbdUQGvac3KCrwmZ/9yKCfe2QzO4Af5ZhlapJsg8LNyy94+W1gp2+5qd6QkOOxavDcP3ck87cf0LNGz2fW9mzubkpFf8PB37XfHDw==</script> <treescope-run-here><script type=\"application/octet-stream\"> const root = ( Array.from(document.getElementsByClassName( \"treescope_out_ed2a2618ad82486298992914b1d4c530\")) .filter((elt) => !elt.dataset['step1']) )[0]; root.dataset['step1'] = 1; root.defns.insertContent( this.parentNode.querySelector('script[type=\"application/octet-stream\"]'), true ); this.parentNode.remove(); </script></treescope-run-here> </div>"
      ],
      "text/plain": [
       "<IPython.core.display.HTML object>"
      ]
     },
     "metadata": {},
     "output_type": "display_data"
    },
    {
     "data": {
      "text/html": [
       "<treescope-run-here><script type=\"application/octet-stream\"> const root = ( Array.from(document.getElementsByClassName( \"treescope_out_ed2a2618ad82486298992914b1d4c530\")) .filter((elt) => !elt.dataset.stolen) )[0]; root.dataset.stolen = 1; this.parentNode.replaceChild(root, this); </script></treescope-run-here>"
      ],
      "text/plain": [
       "Selection(\n",
       "  selected_by_path=OrderedDict({\n",
       "    (DictKey(key='c'), SequenceKey(idx=0)):\n",
       "      {\n",
       "        'value': <jax.Array([ 0,  1,  2,  3,  4,  5,  6,  7,  8,  9, 10, 11], dtype=int32)>,\n",
       "      },\n",
       "    (DictKey(key='c'), SequenceKey(idx=2), DictKey(key='value')):\n",
       "      3,\n",
       "  }),\n",
       "  remainder={\n",
       "    'a': 1,\n",
       "    'b': <jax.Array([0, 1, 2, 3, 4, 5, 6, 7, 8, 9], dtype=int32)>,\n",
       "    'c': [SelectionHole(path=(DictKey(key='c'), SequenceKey(idx=0))), {'value': <jax.Array([0., 0., 0., 0., 0., 0., 0.], dtype=float32)>}, {'value': SelectionHole(path=(DictKey(key='c'), SequenceKey(idx=2), DictKey(key='value')))}],\n",
       "  },\n",
       ")"
      ]
     },
     "execution_count": 26,
     "metadata": {},
     "output_type": "execute_result"
    }
   ],
   "source": [
    "pz.select(my_nested_object).at_keypaths([\n",
    "    (jax.tree_util.DictKey(key='c'), jax.tree_util.SequenceKey(idx=2), jax.tree_util.DictKey(key='value')),\n",
    "    (jax.tree_util.DictKey(key='c'), jax.tree_util.SequenceKey(idx=0)),\n",
    "])"
   ]
  },
  {
   "cell_type": "markdown",
   "metadata": {
    "id": "vyDFHhwNNI2y"
   },
   "source": [
    "(You might have noticed that the fancy rendering for Selection objects is actually written in terms of `at_keypaths`, and exposes the keypaths for the currently selected nodes if you expand the last line!)"
   ]
  },
  {
   "cell_type": "markdown",
   "metadata": {
    "id": "j8rujhAbOOKR"
   },
   "source": [
    "### Selecting based on PyTree structure\n",
    "\n",
    "You can also build selections based on PyTree children or PyTree leaves:"
   ]
  },
  {
   "cell_type": "code",
   "execution_count": 27,
   "metadata": {
    "execution": {
     "iopub.execute_input": "2024-07-26T21:03:10.677426Z",
     "iopub.status.busy": "2024-07-26T21:03:10.677173Z",
     "iopub.status.idle": "2024-07-26T21:03:10.686644Z",
     "shell.execute_reply": "2024-07-26T21:03:10.686433Z"
    },
    "id": "ZBZnh09wOdJz"
   },
   "outputs": [
    {
     "data": {
      "text/html": [
       "<script> (()=>{ if (customElements.get('treescope-container') === undefined) { class TreescopeContainer extends HTMLElement { constructor() { super(); this.attachShadow({mode: \"open\"}); this.defns = {}; this.state = {}; } } customElements.define(\"treescope-container\", TreescopeContainer); } if (customElements.get('treescope-run-here') === undefined) { class RunHere extends HTMLElement { constructor() { super() } connectedCallback() { const run = child => { const fn = new Function(child.textContent); child.textContent = \"\"; fn.call(this); this.remove(); }; const child = this.querySelector(\"script\"); if (child) { run(child); } else { new MutationObserver(()=>{ run(this.querySelector(\"script\")); }).observe(this, {childList: true}); } } } customElements.define(\"treescope-run-here\", RunHere); } })(); </script> <treescope-container class=\"treescope_out_aab49ac1df1448728499851f51efad8b\" ></treescope-container> <treescope-run-here><script type=\"application/octet-stream\"> const root = ( Array.from(document.getElementsByClassName( \"treescope_out_aab49ac1df1448728499851f51efad8b\")) .filter((elt) => !elt.dataset.setup) )[0]; root.dataset.setup = 1; const msg = document.createElement(\"span\"); msg.style = \"color: #aaaaaa; font-family: monospace; transition: opacity 0.2s; opacity: 0.0;\"; msg.textContent = \"(Loading...)\"; root.state.loadingMsg = msg; root.shadowRoot.appendChild(msg); root.state.chain = new Promise((resolve, reject) => { const observer = new IntersectionObserver((entries) => { for (const entry of entries) { if (entry.isIntersecting) { resolve(); observer.disconnect(); return; } } }, {rootMargin: \"1000px\"}); window.setTimeout(() => { if (root.loadingMsg) { root.loadingMsg.style.opacity = \"1.0\"; } observer.observe(root); }, 0); }); root.state.deferring = false; const _insertNode = (node) => { for (let oldScript of node.querySelectorAll(\"script\")) { let newScript = document.createElement(\"script\"); newScript.type = oldScript.type; newScript.textContent = oldScript.textContent; oldScript.parentNode.replaceChild(newScript, oldScript); } if (root.state.loadingMsg) { root.state.loadingMsg.remove(); root.state.loadingMsg = null; } root.shadowRoot.appendChild(node); }; root.defns.insertContent = ((contentNode, compressed) => { if (compressed) { root.state.deferring = true; } if (root.state.deferring) { root.state.chain = (async () => { await root.state.chain; if (compressed) { const encoded = contentNode.textContent; const blob = new Blob([ Uint8Array.from(atob(encoded), (m) => m.codePointAt(0)) ]); const reader = blob.stream().pipeThrough( new DecompressionStream(\"deflate\") ).pipeThrough( new TextDecoderStream(\"utf-8\") ).getReader(); const parts = []; while (true) { const step = await reader.read(); if (step.done) { break; } parts.push(step.value); } const tpl = document.createElement('template'); tpl.innerHTML = parts.join(\"\"); _insertNode(tpl.content); } else { _insertNode(contentNode.content); } })(); } else { _insertNode(contentNode.content); } }); </script></treescope-run-here><div style=\"display:none\"> <script type=\"application/octet-stream\" >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</script> <treescope-run-here><script type=\"application/octet-stream\"> const root = ( Array.from(document.getElementsByClassName( \"treescope_out_aab49ac1df1448728499851f51efad8b\")) .filter((elt) => !elt.dataset['step0']) )[0]; root.dataset['step0'] = 1; root.defns.insertContent( this.parentNode.querySelector('script[type=\"application/octet-stream\"]'), true ); this.parentNode.remove(); </script></treescope-run-here> </div>"
      ],
      "text/plain": [
       "<IPython.core.display.HTML object>"
      ]
     },
     "metadata": {},
     "output_type": "display_data"
    },
    {
     "data": {
      "text/html": [
       "<div style=\"display:none\"> <script type=\"application/octet-stream\" >eNq1k01P3DAQhv/KyEhoV4QQkmzWYT+kFlqJSw/toQeEkGOPd12FOHW8qCvEf+84+wG0tIVDD5uN43ln5hm/nipzB51f1zhjynRtLdZn0NgGGRg1Y9q6G4UanUN1w7VOSyxFnqVVznVS6jyXusxEpcqRKEdsPu1a0dAz5JvH0tYkF1Xl8A7uoV+ewUHBU5EkE3iYnmwCexXIWnTdjD0Vsflh7SffxI/4nXNiPbhKIjiNII0giyCPYBRBEcE4Ah5BeR2B8usWZ6bxWTo8XPgJFej72f0R63z6BuAqVXkhuKzKosrzRPIRz3gxzscy1adjjo/ArwUAIggIgSFABIqAETgCSCCBkigD6el/QCp4llR6nOWpxjzjOVdZJQuZVOOUY6aLtyMlcQQv//bt69qKvwJ4h9hJ2+KxWzXHS3TBFNKZ1kOfgIm2rY0U3tjmxEqP/rgjjbhlc2mbjqKEW6C/VB3M4Iq93rERsNef9tPgf87xerLpTFnprPXUl1+aLqYuP9Pyk1U4GE5g2z3hb4O24fH3Fbr1F6xReusGLN5P6CZss71UO7G4xWYrXYXXWNJkPF5slx+3Eb+XO6/JIyTc5Yhpytio86Wp1WAXFMsQ1ffr3QqHlIUMBYMaPRgS00U2MH08gLjGZuGX9PXoaEi3PsRtNp9WouWHGsPr+/UlFdupr8w1FQiazq6cxAty9h+HchCczeAIfpFvlrFDugkSvxq/HOyzxdq4ble7JyXB467DW3vXn8zDfkzPEj2b3TC4ubcpGfkFD/8Efi7EVQ==</script> <treescope-run-here><script type=\"application/octet-stream\"> const root = ( Array.from(document.getElementsByClassName( \"treescope_out_aab49ac1df1448728499851f51efad8b\")) .filter((elt) => !elt.dataset['step1']) )[0]; root.dataset['step1'] = 1; root.defns.insertContent( this.parentNode.querySelector('script[type=\"application/octet-stream\"]'), true ); this.parentNode.remove(); </script></treescope-run-here> </div>"
      ],
      "text/plain": [
       "<IPython.core.display.HTML object>"
      ]
     },
     "metadata": {},
     "output_type": "display_data"
    },
    {
     "data": {
      "text/html": [
       "<treescope-run-here><script type=\"application/octet-stream\"> const root = ( Array.from(document.getElementsByClassName( \"treescope_out_aab49ac1df1448728499851f51efad8b\")) .filter((elt) => !elt.dataset.stolen) )[0]; root.dataset.stolen = 1; this.parentNode.replaceChild(root, this); </script></treescope-run-here>"
      ],
      "text/plain": [
       "Selection(\n",
       "  selected_by_path=OrderedDict({\n",
       "    (DictKey(key='a'),):\n",
       "      1,\n",
       "    (DictKey(key='b'),):\n",
       "      <jax.Array([0, 1, 2, 3, 4, 5, 6, 7, 8, 9], dtype=int32)>,\n",
       "    (DictKey(key='c'),):\n",
       "      [{'value': <jax.Array([ 0,  1,  2,  3,  4,  5,  6,  7,  8,  9, 10, 11], dtype=int32)>}, {'value': <jax.Array([0., 0., 0., 0., 0., 0., 0.], dtype=float32)>}, {'value': 3}],\n",
       "  }),\n",
       "  remainder={'a': SelectionHole(path=(DictKey(key='a'),)), 'b': SelectionHole(path=(DictKey(key='b'),)), 'c': SelectionHole(path=(DictKey(key='c'),))},\n",
       ")"
      ]
     },
     "execution_count": 27,
     "metadata": {},
     "output_type": "execute_result"
    }
   ],
   "source": [
    "pz.select(my_nested_object).at_children()"
   ]
  },
  {
   "cell_type": "code",
   "execution_count": 28,
   "metadata": {
    "execution": {
     "iopub.execute_input": "2024-07-26T21:03:10.696047Z",
     "iopub.status.busy": "2024-07-26T21:03:10.695808Z",
     "iopub.status.idle": "2024-07-26T21:03:10.708725Z",
     "shell.execute_reply": "2024-07-26T21:03:10.708524Z"
    },
    "id": "cGcp4EK2OfW1"
   },
   "outputs": [
    {
     "data": {
      "text/html": [
       "<script> (()=>{ if (customElements.get('treescope-container') === undefined) { class TreescopeContainer extends HTMLElement { constructor() { super(); this.attachShadow({mode: \"open\"}); this.defns = {}; this.state = {}; } } customElements.define(\"treescope-container\", TreescopeContainer); } if (customElements.get('treescope-run-here') === undefined) { class RunHere extends HTMLElement { constructor() { super() } connectedCallback() { const run = child => { const fn = new Function(child.textContent); child.textContent = \"\"; fn.call(this); this.remove(); }; const child = this.querySelector(\"script\"); if (child) { run(child); } else { new MutationObserver(()=>{ run(this.querySelector(\"script\")); }).observe(this, {childList: true}); } } } customElements.define(\"treescope-run-here\", RunHere); } })(); </script> <treescope-container class=\"treescope_out_4fa34ec8dcf44145ae88345900fdd743\" ></treescope-container> <treescope-run-here><script type=\"application/octet-stream\"> const root = ( Array.from(document.getElementsByClassName( \"treescope_out_4fa34ec8dcf44145ae88345900fdd743\")) .filter((elt) => !elt.dataset.setup) )[0]; root.dataset.setup = 1; const msg = document.createElement(\"span\"); msg.style = \"color: #aaaaaa; font-family: monospace; transition: opacity 0.2s; opacity: 0.0;\"; msg.textContent = \"(Loading...)\"; root.state.loadingMsg = msg; root.shadowRoot.appendChild(msg); root.state.chain = new Promise((resolve, reject) => { const observer = new IntersectionObserver((entries) => { for (const entry of entries) { if (entry.isIntersecting) { resolve(); observer.disconnect(); return; } } }, {rootMargin: \"1000px\"}); window.setTimeout(() => { if (root.loadingMsg) { root.loadingMsg.style.opacity = \"1.0\"; } observer.observe(root); }, 0); }); root.state.deferring = false; const _insertNode = (node) => { for (let oldScript of node.querySelectorAll(\"script\")) { let newScript = document.createElement(\"script\"); newScript.type = oldScript.type; newScript.textContent = oldScript.textContent; oldScript.parentNode.replaceChild(newScript, oldScript); } if (root.state.loadingMsg) { root.state.loadingMsg.remove(); root.state.loadingMsg = null; } root.shadowRoot.appendChild(node); }; root.defns.insertContent = ((contentNode, compressed) => { if (compressed) { root.state.deferring = true; } if (root.state.deferring) { root.state.chain = (async () => { await root.state.chain; if (compressed) { const encoded = contentNode.textContent; const blob = new Blob([ Uint8Array.from(atob(encoded), (m) => m.codePointAt(0)) ]); const reader = blob.stream().pipeThrough( new DecompressionStream(\"deflate\") ).pipeThrough( new TextDecoderStream(\"utf-8\") ).getReader(); const parts = []; while (true) { const step = await reader.read(); if (step.done) { break; } parts.push(step.value); } const tpl = document.createElement('template'); tpl.innerHTML = parts.join(\"\"); _insertNode(tpl.content); } else { _insertNode(contentNode.content); } })(); } else { _insertNode(contentNode.content); } }); </script></treescope-run-here><div style=\"display:none\"> <script type=\"application/octet-stream\" >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</script> <treescope-run-here><script type=\"application/octet-stream\"> const root = ( Array.from(document.getElementsByClassName( \"treescope_out_4fa34ec8dcf44145ae88345900fdd743\")) .filter((elt) => !elt.dataset['step0']) )[0]; root.dataset['step0'] = 1; root.defns.insertContent( this.parentNode.querySelector('script[type=\"application/octet-stream\"]'), true ); this.parentNode.remove(); </script></treescope-run-here> </div>"
      ],
      "text/plain": [
       "<IPython.core.display.HTML object>"
      ]
     },
     "metadata": {},
     "output_type": "display_data"
    },
    {
     "data": {
      "text/html": [
       "<div style=\"display:none\"> <script type=\"application/octet-stream\" >eNq1k8tu2zAQRX9lwACBjSiKbMl6xA+gTVogmy7aRRdBYFDU0GbBiCpFBzWC/HuH8iNOm7bOogvLojh3Zs7wclKpB2jdWuOUVaptNF9fQm1qZKCqKZPGziuUaC1W81FS5lLKQSpFkgyzuCxEmUY4FLKgjZiz2aRteE1Pn28WCqNJzsvS4gM8Qre8hJM0H/IoGsPT5GIT2KlAaN62U3YoYrNT7cbf+I/wnbV83buNAhgEMAwgDiAJYBRAGkAWQB5AcRdA5dYNTlXt4mH/dOHGVKDrZ/dHrLPJW4DTJMrzKC7jASY8SvMyk3ERySxLUikTfAY+FgCIwCN4Bg/hKTyG5/AgngQKovSkg/+ANIgzkaSl4DnniczLcjQqMsFlkfERjgr5dqQoDOD13759qQ3/K4CziK0wDZ7bVX2+ROtNIaxqHHQJGG8arQR3ytQXRjh05y1p+D2bCVO3FMXtAt1N1cIUbtnxjg2AHX/ah8H/nOPdeNNZZYQ1xlFfbqnakLr8TMtPpsJefwzb7gl/G7QND7+v0K6/oEbhjO2xcD+hud9me6m0fHGP9Va68q+hoMk4vN4uP24jfi93pckjJNzlCGnKWFdXS6Wr3i4oFD6q69fZFfYpCxkKehodKBLTRVYweT6AUGO9cEv6enbWp1vv4zabh5Vo+UGjf32/vqFiO/WtuqMCXtOalRV4Tc7+41BOvLMZnMEv8s0ytEg3QeBX5Za9fbZQKtvuanekJHjetXhvHrqTedqP6UWiF7Prezd3NiUjv+Lhn6ORxhc=</script> <treescope-run-here><script type=\"application/octet-stream\"> const root = ( Array.from(document.getElementsByClassName( \"treescope_out_4fa34ec8dcf44145ae88345900fdd743\")) .filter((elt) => !elt.dataset['step1']) )[0]; root.dataset['step1'] = 1; root.defns.insertContent( this.parentNode.querySelector('script[type=\"application/octet-stream\"]'), true ); this.parentNode.remove(); </script></treescope-run-here> </div>"
      ],
      "text/plain": [
       "<IPython.core.display.HTML object>"
      ]
     },
     "metadata": {},
     "output_type": "display_data"
    },
    {
     "data": {
      "text/html": [
       "<treescope-run-here><script type=\"application/octet-stream\"> const root = ( Array.from(document.getElementsByClassName( \"treescope_out_4fa34ec8dcf44145ae88345900fdd743\")) .filter((elt) => !elt.dataset.stolen) )[0]; root.dataset.stolen = 1; this.parentNode.replaceChild(root, this); </script></treescope-run-here>"
      ],
      "text/plain": [
       "Selection(\n",
       "  selected_by_path=OrderedDict({(DictKey(key='a'),): 1, (DictKey(key='b'),): <jax.Array([0, 1, 2, 3, 4, 5, 6, 7, 8, 9], dtype=int32)>, (DictKey(key='c'), SequenceKey(idx=0), DictKey(key='value')): <jax.Array([ 0,  1,  2,  3,  4,  5,  6,  7,  8,  9, 10, 11], dtype=int32)>, (DictKey(key='c'), SequenceKey(idx=1), DictKey(key='value')): <jax.Array([0., 0., 0., 0., 0., 0., 0.], dtype=float32)>, (DictKey(key='c'), SequenceKey(idx=2), DictKey(key='value')): 3}),\n",
       "  remainder={\n",
       "    'a': SelectionHole(path=(DictKey(key='a'),)),\n",
       "    'b': SelectionHole(path=(DictKey(key='b'),)),\n",
       "    'c': [\n",
       "      {\n",
       "        'value': SelectionHole(\n",
       "          path=(DictKey(key='c'), SequenceKey(idx=0), DictKey(key='value')),\n",
       "        ),\n",
       "      },\n",
       "      {\n",
       "        'value': SelectionHole(path=(DictKey(key='c'), SequenceKey(idx=1), DictKey(key='value'))),\n",
       "      },\n",
       "      {\n",
       "        'value': SelectionHole(path=(DictKey(key='c'), SequenceKey(idx=2), DictKey(key='value'))),\n",
       "      },\n",
       "    ],\n",
       "  },\n",
       ")"
      ]
     },
     "execution_count": 28,
     "metadata": {},
     "output_type": "execute_result"
    }
   ],
   "source": [
    "pz.select(my_nested_object).at_pytree_leaves()"
   ]
  },
  {
   "cell_type": "markdown",
   "metadata": {
    "id": "L88O37NHOyrP"
   },
   "source": [
    "Note that some PyTree nodes, like `None` or the empty tuple `()`, don't have any children and are ignored by `jax.tree_util.tree_map`, so they won't be selected by `.at_pytree_leaves`:"
   ]
  },
  {
   "cell_type": "code",
   "execution_count": 29,
   "metadata": {
    "execution": {
     "iopub.execute_input": "2024-07-26T21:03:10.715761Z",
     "iopub.status.busy": "2024-07-26T21:03:10.715130Z",
     "iopub.status.idle": "2024-07-26T21:03:10.722629Z",
     "shell.execute_reply": "2024-07-26T21:03:10.722428Z"
    },
    "id": "-wD3VJajO6TR"
   },
   "outputs": [
    {
     "data": {
      "text/html": [
       "<script> (()=>{ if (customElements.get('treescope-container') === undefined) { class TreescopeContainer extends HTMLElement { constructor() { super(); this.attachShadow({mode: \"open\"}); this.defns = {}; this.state = {}; } } customElements.define(\"treescope-container\", TreescopeContainer); } if (customElements.get('treescope-run-here') === undefined) { class RunHere extends HTMLElement { constructor() { super() } connectedCallback() { const run = child => { const fn = new Function(child.textContent); child.textContent = \"\"; fn.call(this); this.remove(); }; const child = this.querySelector(\"script\"); if (child) { run(child); } else { new MutationObserver(()=>{ run(this.querySelector(\"script\")); }).observe(this, {childList: true}); } } } customElements.define(\"treescope-run-here\", RunHere); } })(); </script> <treescope-container class=\"treescope_out_f2547891f5d7412da0ff1b9a1d0ca6b8\" ></treescope-container> <treescope-run-here><script type=\"application/octet-stream\"> const root = ( Array.from(document.getElementsByClassName( \"treescope_out_f2547891f5d7412da0ff1b9a1d0ca6b8\")) .filter((elt) => !elt.dataset.setup) )[0]; root.dataset.setup = 1; const msg = document.createElement(\"span\"); msg.style = \"color: #aaaaaa; font-family: monospace; transition: opacity 0.2s; opacity: 0.0;\"; msg.textContent = \"(Loading...)\"; root.state.loadingMsg = msg; root.shadowRoot.appendChild(msg); root.state.chain = new Promise((resolve, reject) => { const observer = new IntersectionObserver((entries) => { for (const entry of entries) { if (entry.isIntersecting) { resolve(); observer.disconnect(); return; } } }, {rootMargin: \"1000px\"}); window.setTimeout(() => { if (root.loadingMsg) { root.loadingMsg.style.opacity = \"1.0\"; } observer.observe(root); }, 0); }); root.state.deferring = false; const _insertNode = (node) => { for (let oldScript of node.querySelectorAll(\"script\")) { let newScript = document.createElement(\"script\"); newScript.type = oldScript.type; newScript.textContent = oldScript.textContent; oldScript.parentNode.replaceChild(newScript, oldScript); } if (root.state.loadingMsg) { root.state.loadingMsg.remove(); root.state.loadingMsg = null; } root.shadowRoot.appendChild(node); }; root.defns.insertContent = ((contentNode, compressed) => { if (compressed) { root.state.deferring = true; } if (root.state.deferring) { root.state.chain = (async () => { await root.state.chain; if (compressed) { const encoded = contentNode.textContent; const blob = new Blob([ Uint8Array.from(atob(encoded), (m) => m.codePointAt(0)) ]); const reader = blob.stream().pipeThrough( new DecompressionStream(\"deflate\") ).pipeThrough( new TextDecoderStream(\"utf-8\") ).getReader(); const parts = []; while (true) { const step = await reader.read(); if (step.done) { break; } parts.push(step.value); } const tpl = document.createElement('template'); tpl.innerHTML = parts.join(\"\"); _insertNode(tpl.content); } else { _insertNode(contentNode.content); } })(); } else { _insertNode(contentNode.content); } }); </script></treescope-run-here><div style=\"display:none\"> <script type=\"application/octet-stream\" >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</script> <treescope-run-here><script type=\"application/octet-stream\"> const root = ( Array.from(document.getElementsByClassName( \"treescope_out_f2547891f5d7412da0ff1b9a1d0ca6b8\")) .filter((elt) => !elt.dataset['step0']) )[0]; root.dataset['step0'] = 1; root.defns.insertContent( this.parentNode.querySelector('script[type=\"application/octet-stream\"]'), true ); this.parentNode.remove(); </script></treescope-run-here> </div>"
      ],
      "text/plain": [
       "<IPython.core.display.HTML object>"
      ]
     },
     "metadata": {},
     "output_type": "display_data"
    },
    {
     "data": {
      "text/html": [
       "<treescope-run-here><script type=\"application/octet-stream\"> const root = ( Array.from(document.getElementsByClassName( \"treescope_out_f2547891f5d7412da0ff1b9a1d0ca6b8\")) .filter((elt) => !elt.dataset.stolen) )[0]; root.dataset.stolen = 1; this.parentNode.replaceChild(root, this); </script></treescope-run-here>"
      ],
      "text/plain": [
       "Selection(\n",
       "  selected_by_path=OrderedDict({(SequenceKey(idx=0),): 1, (SequenceKey(idx=1),): 2, (SequenceKey(idx=3),): 3, (SequenceKey(idx=5),): 4}),\n",
       "  remainder=[\n",
       "    SelectionHole(path=(SequenceKey(idx=0),)),\n",
       "    SelectionHole(path=(SequenceKey(idx=1),)),\n",
       "    (),\n",
       "    SelectionHole(path=(SequenceKey(idx=3),)),\n",
       "    None,\n",
       "    SelectionHole(path=(SequenceKey(idx=5),)),\n",
       "  ],\n",
       ")"
      ]
     },
     "execution_count": 29,
     "metadata": {},
     "output_type": "execute_result"
    }
   ],
   "source": [
    "pz.select([1, 2, (), 3, None, 4]).at_pytree_leaves()"
   ]
  },
  {
   "cell_type": "markdown",
   "metadata": {
    "id": "_afpL4O8O_VZ"
   },
   "source": [
    "If you want to select these too, you can use `.at_childless`:"
   ]
  },
  {
   "cell_type": "code",
   "execution_count": 30,
   "metadata": {
    "execution": {
     "iopub.execute_input": "2024-07-26T21:03:10.730909Z",
     "iopub.status.busy": "2024-07-26T21:03:10.730669Z",
     "iopub.status.idle": "2024-07-26T21:03:10.738757Z",
     "shell.execute_reply": "2024-07-26T21:03:10.738576Z"
    },
    "id": "byvIxqOZPDD6"
   },
   "outputs": [
    {
     "data": {
      "text/html": [
       "<script> (()=>{ if (customElements.get('treescope-container') === undefined) { class TreescopeContainer extends HTMLElement { constructor() { super(); this.attachShadow({mode: \"open\"}); this.defns = {}; this.state = {}; } } customElements.define(\"treescope-container\", TreescopeContainer); } if (customElements.get('treescope-run-here') === undefined) { class RunHere extends HTMLElement { constructor() { super() } connectedCallback() { const run = child => { const fn = new Function(child.textContent); child.textContent = \"\"; fn.call(this); this.remove(); }; const child = this.querySelector(\"script\"); if (child) { run(child); } else { new MutationObserver(()=>{ run(this.querySelector(\"script\")); }).observe(this, {childList: true}); } } } customElements.define(\"treescope-run-here\", RunHere); } })(); </script> <treescope-container class=\"treescope_out_7adc39f7cb044e259d483840677b3ffc\" ></treescope-container> <treescope-run-here><script type=\"application/octet-stream\"> const root = ( Array.from(document.getElementsByClassName( \"treescope_out_7adc39f7cb044e259d483840677b3ffc\")) .filter((elt) => !elt.dataset.setup) )[0]; root.dataset.setup = 1; const msg = document.createElement(\"span\"); msg.style = \"color: #aaaaaa; font-family: monospace; transition: opacity 0.2s; opacity: 0.0;\"; msg.textContent = \"(Loading...)\"; root.state.loadingMsg = msg; root.shadowRoot.appendChild(msg); root.state.chain = new Promise((resolve, reject) => { const observer = new IntersectionObserver((entries) => { for (const entry of entries) { if (entry.isIntersecting) { resolve(); observer.disconnect(); return; } } }, {rootMargin: \"1000px\"}); window.setTimeout(() => { if (root.loadingMsg) { root.loadingMsg.style.opacity = \"1.0\"; } observer.observe(root); }, 0); }); root.state.deferring = false; const _insertNode = (node) => { for (let oldScript of node.querySelectorAll(\"script\")) { let newScript = document.createElement(\"script\"); newScript.type = oldScript.type; newScript.textContent = oldScript.textContent; oldScript.parentNode.replaceChild(newScript, oldScript); } if (root.state.loadingMsg) { root.state.loadingMsg.remove(); root.state.loadingMsg = null; } root.shadowRoot.appendChild(node); }; root.defns.insertContent = ((contentNode, compressed) => { if (compressed) { root.state.deferring = true; } if (root.state.deferring) { root.state.chain = (async () => { await root.state.chain; if (compressed) { const encoded = contentNode.textContent; const blob = new Blob([ Uint8Array.from(atob(encoded), (m) => m.codePointAt(0)) ]); const reader = blob.stream().pipeThrough( new DecompressionStream(\"deflate\") ).pipeThrough( new TextDecoderStream(\"utf-8\") ).getReader(); const parts = []; while (true) { const step = await reader.read(); if (step.done) { break; } parts.push(step.value); } const tpl = document.createElement('template'); tpl.innerHTML = parts.join(\"\"); _insertNode(tpl.content); } else { _insertNode(contentNode.content); } })(); } else { _insertNode(contentNode.content); } }); </script></treescope-run-here><div style=\"display:none\"> <script type=\"application/octet-stream\" >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</script> <treescope-run-here><script type=\"application/octet-stream\"> const root = ( Array.from(document.getElementsByClassName( \"treescope_out_7adc39f7cb044e259d483840677b3ffc\")) .filter((elt) => !elt.dataset['step0']) )[0]; root.dataset['step0'] = 1; root.defns.insertContent( this.parentNode.querySelector('script[type=\"application/octet-stream\"]'), true ); this.parentNode.remove(); </script></treescope-run-here> </div>"
      ],
      "text/plain": [
       "<IPython.core.display.HTML object>"
      ]
     },
     "metadata": {},
     "output_type": "display_data"
    },
    {
     "data": {
      "text/html": [
       "<treescope-run-here><script type=\"application/octet-stream\"> const root = ( Array.from(document.getElementsByClassName( \"treescope_out_7adc39f7cb044e259d483840677b3ffc\")) .filter((elt) => !elt.dataset.stolen) )[0]; root.dataset.stolen = 1; this.parentNode.replaceChild(root, this); </script></treescope-run-here>"
      ],
      "text/plain": [
       "Selection(\n",
       "  selected_by_path=OrderedDict({(SequenceKey(idx=0),): 1, (SequenceKey(idx=1),): 2, (SequenceKey(idx=2),): (), (SequenceKey(idx=3),): 3, (SequenceKey(idx=4),): None, (SequenceKey(idx=5),): 4}),\n",
       "  remainder=[\n",
       "    SelectionHole(path=(SequenceKey(idx=0),)),\n",
       "    SelectionHole(path=(SequenceKey(idx=1),)),\n",
       "    SelectionHole(path=(SequenceKey(idx=2),)),\n",
       "    SelectionHole(path=(SequenceKey(idx=3),)),\n",
       "    SelectionHole(path=(SequenceKey(idx=4),)),\n",
       "    SelectionHole(path=(SequenceKey(idx=5),)),\n",
       "  ],\n",
       ")"
      ]
     },
     "execution_count": 30,
     "metadata": {},
     "output_type": "execute_result"
    }
   ],
   "source": [
    "pz.select([1, 2, (), 3, None, 4]).at_childless()"
   ]
  },
  {
   "cell_type": "markdown",
   "metadata": {
    "id": "3y9uooSkPKoU"
   },
   "source": [
    "### Filtering selections\n",
    "Given an existing set of selected nodes, you can choose to filter down to only a subset that match a criterion:"
   ]
  },
  {
   "cell_type": "code",
   "execution_count": 31,
   "metadata": {
    "execution": {
     "iopub.execute_input": "2024-07-26T21:03:10.748957Z",
     "iopub.status.busy": "2024-07-26T21:03:10.748720Z",
     "iopub.status.idle": "2024-07-26T21:03:10.760627Z",
     "shell.execute_reply": "2024-07-26T21:03:10.760420Z"
    },
    "id": "Uk1-HVvKPOq6"
   },
   "outputs": [
    {
     "data": {
      "text/html": [
       "<script> (()=>{ if (customElements.get('treescope-container') === undefined) { class TreescopeContainer extends HTMLElement { constructor() { super(); this.attachShadow({mode: \"open\"}); this.defns = {}; this.state = {}; } } customElements.define(\"treescope-container\", TreescopeContainer); } if (customElements.get('treescope-run-here') === undefined) { class RunHere extends HTMLElement { constructor() { super() } connectedCallback() { const run = child => { const fn = new Function(child.textContent); child.textContent = \"\"; fn.call(this); this.remove(); }; const child = this.querySelector(\"script\"); if (child) { run(child); } else { new MutationObserver(()=>{ run(this.querySelector(\"script\")); }).observe(this, {childList: true}); } } } customElements.define(\"treescope-run-here\", RunHere); } })(); </script> <treescope-container class=\"treescope_out_f40b6369adea43ae83327ba2faf6096c\" ></treescope-container> <treescope-run-here><script type=\"application/octet-stream\"> const root = ( Array.from(document.getElementsByClassName( \"treescope_out_f40b6369adea43ae83327ba2faf6096c\")) .filter((elt) => !elt.dataset.setup) )[0]; root.dataset.setup = 1; const msg = document.createElement(\"span\"); msg.style = \"color: #aaaaaa; font-family: monospace; transition: opacity 0.2s; opacity: 0.0;\"; msg.textContent = \"(Loading...)\"; root.state.loadingMsg = msg; root.shadowRoot.appendChild(msg); root.state.chain = new Promise((resolve, reject) => { const observer = new IntersectionObserver((entries) => { for (const entry of entries) { if (entry.isIntersecting) { resolve(); observer.disconnect(); return; } } }, {rootMargin: \"1000px\"}); window.setTimeout(() => { if (root.loadingMsg) { root.loadingMsg.style.opacity = \"1.0\"; } observer.observe(root); }, 0); }); root.state.deferring = false; const _insertNode = (node) => { for (let oldScript of node.querySelectorAll(\"script\")) { let newScript = document.createElement(\"script\"); newScript.type = oldScript.type; newScript.textContent = oldScript.textContent; oldScript.parentNode.replaceChild(newScript, oldScript); } if (root.state.loadingMsg) { root.state.loadingMsg.remove(); root.state.loadingMsg = null; } root.shadowRoot.appendChild(node); }; root.defns.insertContent = ((contentNode, compressed) => { if (compressed) { root.state.deferring = true; } if (root.state.deferring) { root.state.chain = (async () => { await root.state.chain; if (compressed) { const encoded = contentNode.textContent; const blob = new Blob([ Uint8Array.from(atob(encoded), (m) => m.codePointAt(0)) ]); const reader = blob.stream().pipeThrough( new DecompressionStream(\"deflate\") ).pipeThrough( new TextDecoderStream(\"utf-8\") ).getReader(); const parts = []; while (true) { const step = await reader.read(); if (step.done) { break; } parts.push(step.value); } const tpl = document.createElement('template'); tpl.innerHTML = parts.join(\"\"); _insertNode(tpl.content); } else { _insertNode(contentNode.content); } })(); } else { _insertNode(contentNode.content); } }); </script></treescope-run-here><div style=\"display:none\"> <script type=\"application/octet-stream\" >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</script> <treescope-run-here><script type=\"application/octet-stream\"> const root = ( Array.from(document.getElementsByClassName( \"treescope_out_f40b6369adea43ae83327ba2faf6096c\")) .filter((elt) => !elt.dataset['step0']) )[0]; root.dataset['step0'] = 1; root.defns.insertContent( this.parentNode.querySelector('script[type=\"application/octet-stream\"]'), true ); this.parentNode.remove(); </script></treescope-run-here> </div>"
      ],
      "text/plain": [
       "<IPython.core.display.HTML object>"
      ]
     },
     "metadata": {},
     "output_type": "display_data"
    },
    {
     "data": {
      "text/html": [
       "<treescope-run-here><script type=\"application/octet-stream\"> const root = ( Array.from(document.getElementsByClassName( \"treescope_out_f40b6369adea43ae83327ba2faf6096c\")) .filter((elt) => !elt.dataset.stolen) )[0]; root.dataset.stolen = 1; this.parentNode.replaceChild(root, this); </script></treescope-run-here>"
      ],
      "text/plain": [
       "Selection(\n",
       "  selected_by_path=OrderedDict({(SequenceKey(idx=0),): 0, (SequenceKey(idx=2),): 2, (SequenceKey(idx=4),): 4, (SequenceKey(idx=6),): 6, (SequenceKey(idx=8),): 8, (SequenceKey(idx=10),): 10, (SequenceKey(idx=12),): 12, (SequenceKey(idx=14),): 14, (SequenceKey(idx=16),): 16, (SequenceKey(idx=18),): 18}),\n",
       "  remainder=[SelectionHole(path=(SequenceKey(idx=0),)), 1, SelectionHole(path=(SequenceKey(idx=2),)), 3, SelectionHole(path=(SequenceKey(idx=4),)), 5, SelectionHole(path=(SequenceKey(idx=6),)), 7, SelectionHole(path=(SequenceKey(idx=8),)), 9, SelectionHole(path=(SequenceKey(idx=10),)), 11, SelectionHole(path=(SequenceKey(idx=12),)), 13, SelectionHole(path=(SequenceKey(idx=14),)), 15, SelectionHole(path=(SequenceKey(idx=16),)), 17, SelectionHole(path=(SequenceKey(idx=18),)), 19],\n",
       ")"
      ]
     },
     "execution_count": 31,
     "metadata": {},
     "output_type": "execute_result"
    }
   ],
   "source": [
    "pz.select(list(range(20))).at_instances_of(int).where(lambda x: x % 2 == 0)"
   ]
  },
  {
   "cell_type": "markdown",
   "metadata": {
    "id": "2Ae_LP3BdpGG"
   },
   "source": [
    "You can also choose to keep only the `n`th node that you've selected (e.g. the third integer in the collection), zero-indexed:"
   ]
  },
  {
   "cell_type": "code",
   "execution_count": 32,
   "metadata": {
    "execution": {
     "iopub.execute_input": "2024-07-26T21:03:10.766641Z",
     "iopub.status.busy": "2024-07-26T21:03:10.766371Z",
     "iopub.status.idle": "2024-07-26T21:03:10.772192Z",
     "shell.execute_reply": "2024-07-26T21:03:10.772014Z"
    },
    "id": "zkisw9V-eNaa"
   },
   "outputs": [
    {
     "data": {
      "text/html": [
       "<script> (()=>{ if (customElements.get('treescope-container') === undefined) { class TreescopeContainer extends HTMLElement { constructor() { super(); this.attachShadow({mode: \"open\"}); this.defns = {}; this.state = {}; } } customElements.define(\"treescope-container\", TreescopeContainer); } if (customElements.get('treescope-run-here') === undefined) { class RunHere extends HTMLElement { constructor() { super() } connectedCallback() { const run = child => { const fn = new Function(child.textContent); child.textContent = \"\"; fn.call(this); this.remove(); }; const child = this.querySelector(\"script\"); if (child) { run(child); } else { new MutationObserver(()=>{ run(this.querySelector(\"script\")); }).observe(this, {childList: true}); } } } customElements.define(\"treescope-run-here\", RunHere); } })(); </script> <treescope-container class=\"treescope_out_cc55a2e309d54cee96ca69481de5d803\" ></treescope-container> <treescope-run-here><script type=\"application/octet-stream\"> const root = ( Array.from(document.getElementsByClassName( \"treescope_out_cc55a2e309d54cee96ca69481de5d803\")) .filter((elt) => !elt.dataset.setup) )[0]; root.dataset.setup = 1; const msg = document.createElement(\"span\"); msg.style = \"color: #aaaaaa; font-family: monospace; transition: opacity 0.2s; opacity: 0.0;\"; msg.textContent = \"(Loading...)\"; root.state.loadingMsg = msg; root.shadowRoot.appendChild(msg); root.state.chain = new Promise((resolve, reject) => { const observer = new IntersectionObserver((entries) => { for (const entry of entries) { if (entry.isIntersecting) { resolve(); observer.disconnect(); return; } } }, {rootMargin: \"1000px\"}); window.setTimeout(() => { if (root.loadingMsg) { root.loadingMsg.style.opacity = \"1.0\"; } observer.observe(root); }, 0); }); root.state.deferring = false; const _insertNode = (node) => { for (let oldScript of node.querySelectorAll(\"script\")) { let newScript = document.createElement(\"script\"); newScript.type = oldScript.type; newScript.textContent = oldScript.textContent; oldScript.parentNode.replaceChild(newScript, oldScript); } if (root.state.loadingMsg) { root.state.loadingMsg.remove(); root.state.loadingMsg = null; } root.shadowRoot.appendChild(node); }; root.defns.insertContent = ((contentNode, compressed) => { if (compressed) { root.state.deferring = true; } if (root.state.deferring) { root.state.chain = (async () => { await root.state.chain; if (compressed) { const encoded = contentNode.textContent; const blob = new Blob([ Uint8Array.from(atob(encoded), (m) => m.codePointAt(0)) ]); const reader = blob.stream().pipeThrough( new DecompressionStream(\"deflate\") ).pipeThrough( new TextDecoderStream(\"utf-8\") ).getReader(); const parts = []; while (true) { const step = await reader.read(); if (step.done) { break; } parts.push(step.value); } const tpl = document.createElement('template'); tpl.innerHTML = parts.join(\"\"); _insertNode(tpl.content); } else { _insertNode(contentNode.content); } })(); } else { _insertNode(contentNode.content); } }); </script></treescope-run-here><div style=\"display:none\"> <script type=\"application/octet-stream\" >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</script> <treescope-run-here><script type=\"application/octet-stream\"> const root = ( Array.from(document.getElementsByClassName( \"treescope_out_cc55a2e309d54cee96ca69481de5d803\")) .filter((elt) => !elt.dataset['step0']) )[0]; root.dataset['step0'] = 1; root.defns.insertContent( this.parentNode.querySelector('script[type=\"application/octet-stream\"]'), true ); this.parentNode.remove(); </script></treescope-run-here> </div>"
      ],
      "text/plain": [
       "<IPython.core.display.HTML object>"
      ]
     },
     "metadata": {},
     "output_type": "display_data"
    },
    {
     "data": {
      "text/html": [
       "<treescope-run-here><script type=\"application/octet-stream\"> const root = ( Array.from(document.getElementsByClassName( \"treescope_out_cc55a2e309d54cee96ca69481de5d803\")) .filter((elt) => !elt.dataset.stolen) )[0]; root.dataset.stolen = 1; this.parentNode.replaceChild(root, this); </script></treescope-run-here>"
      ],
      "text/plain": [
       "Selection(\n",
       "  selected_by_path=OrderedDict({(SequenceKey(idx=4),): 3}),\n",
       "  remainder=[\n",
       "    1,\n",
       "    'a',\n",
       "    2,\n",
       "    'b',\n",
       "    SelectionHole(path=(SequenceKey(idx=4),)),\n",
       "    'c',\n",
       "    4,\n",
       "    'd',\n",
       "  ],\n",
       ")"
      ]
     },
     "execution_count": 32,
     "metadata": {},
     "output_type": "execute_result"
    }
   ],
   "source": [
    "pz.select([1, \"a\", 2, \"b\", 3, \"c\", 4, \"d\"]).at_instances_of(int).pick_nth_selected(2)"
   ]
  },
  {
   "cell_type": "markdown",
   "metadata": {
    "id": "VK7GeXc6ka0s"
   },
   "source": [
    "### Inverting selections\n",
    "Selections can be inverted, which produces a new Selection which selects every PyTree node that did NOT contain any of the selected nodes:"
   ]
  },
  {
   "cell_type": "code",
   "execution_count": 33,
   "metadata": {
    "execution": {
     "iopub.execute_input": "2024-07-26T21:03:10.778718Z",
     "iopub.status.busy": "2024-07-26T21:03:10.778442Z",
     "iopub.status.idle": "2024-07-26T21:03:10.787842Z",
     "shell.execute_reply": "2024-07-26T21:03:10.787664Z"
    },
    "id": "CF1rqre8klTc"
   },
   "outputs": [
    {
     "name": "stdout",
     "output_type": "stream",
     "text": [
      "Original:\n"
     ]
    },
    {
     "data": {
      "text/html": [
       "<script> (()=>{ if (customElements.get('treescope-container') === undefined) { class TreescopeContainer extends HTMLElement { constructor() { super(); this.attachShadow({mode: \"open\"}); this.defns = {}; this.state = {}; } } customElements.define(\"treescope-container\", TreescopeContainer); } if (customElements.get('treescope-run-here') === undefined) { class RunHere extends HTMLElement { constructor() { super() } connectedCallback() { const run = child => { const fn = new Function(child.textContent); child.textContent = \"\"; fn.call(this); this.remove(); }; const child = this.querySelector(\"script\"); if (child) { run(child); } else { new MutationObserver(()=>{ run(this.querySelector(\"script\")); }).observe(this, {childList: true}); } } } customElements.define(\"treescope-run-here\", RunHere); } })(); </script> <treescope-container class=\"treescope_out_648ace54c0bd42d192a281409d1fcd66\" ></treescope-container> <treescope-run-here><script type=\"application/octet-stream\"> const root = ( Array.from(document.getElementsByClassName( \"treescope_out_648ace54c0bd42d192a281409d1fcd66\")) .filter((elt) => !elt.dataset.setup) )[0]; root.dataset.setup = 1; const msg = document.createElement(\"span\"); msg.style = \"color: #aaaaaa; font-family: monospace; transition: opacity 0.2s; opacity: 0.0;\"; msg.textContent = \"(Loading...)\"; root.state.loadingMsg = msg; root.shadowRoot.appendChild(msg); root.state.chain = new Promise((resolve, reject) => { const observer = new IntersectionObserver((entries) => { for (const entry of entries) { if (entry.isIntersecting) { resolve(); observer.disconnect(); return; } } }, {rootMargin: \"1000px\"}); window.setTimeout(() => { if (root.loadingMsg) { root.loadingMsg.style.opacity = \"1.0\"; } observer.observe(root); }, 0); }); root.state.deferring = false; const _insertNode = (node) => { for (let oldScript of node.querySelectorAll(\"script\")) { let newScript = document.createElement(\"script\"); newScript.type = oldScript.type; newScript.textContent = oldScript.textContent; oldScript.parentNode.replaceChild(newScript, oldScript); } if (root.state.loadingMsg) { root.state.loadingMsg.remove(); root.state.loadingMsg = null; } root.shadowRoot.appendChild(node); }; root.defns.insertContent = ((contentNode, compressed) => { if (compressed) { root.state.deferring = true; } if (root.state.deferring) { root.state.chain = (async () => { await root.state.chain; if (compressed) { const encoded = contentNode.textContent; const blob = new Blob([ Uint8Array.from(atob(encoded), (m) => m.codePointAt(0)) ]); const reader = blob.stream().pipeThrough( new DecompressionStream(\"deflate\") ).pipeThrough( new TextDecoderStream(\"utf-8\") ).getReader(); const parts = []; while (true) { const step = await reader.read(); if (step.done) { break; } parts.push(step.value); } const tpl = document.createElement('template'); tpl.innerHTML = parts.join(\"\"); _insertNode(tpl.content); } else { _insertNode(contentNode.content); } })(); } else { _insertNode(contentNode.content); } }); </script></treescope-run-here><div style=\"display:none\"> <script type=\"application/octet-stream\" >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</script> <treescope-run-here><script type=\"application/octet-stream\"> const root = ( Array.from(document.getElementsByClassName( \"treescope_out_648ace54c0bd42d192a281409d1fcd66\")) .filter((elt) => !elt.dataset['step0']) )[0]; root.dataset['step0'] = 1; root.defns.insertContent( this.parentNode.querySelector('script[type=\"application/octet-stream\"]'), true ); this.parentNode.remove(); </script></treescope-run-here> </div>"
      ],
      "text/plain": [
       "<IPython.core.display.HTML object>"
      ]
     },
     "metadata": {},
     "output_type": "display_data"
    },
    {
     "name": "stdout",
     "output_type": "stream",
     "text": [
      "Inverted:\n"
     ]
    },
    {
     "data": {
      "text/html": [
       "<script> (()=>{ if (customElements.get('treescope-container') === undefined) { class TreescopeContainer extends HTMLElement { constructor() { super(); this.attachShadow({mode: \"open\"}); this.defns = {}; this.state = {}; } } customElements.define(\"treescope-container\", TreescopeContainer); } if (customElements.get('treescope-run-here') === undefined) { class RunHere extends HTMLElement { constructor() { super() } connectedCallback() { const run = child => { const fn = new Function(child.textContent); child.textContent = \"\"; fn.call(this); this.remove(); }; const child = this.querySelector(\"script\"); if (child) { run(child); } else { new MutationObserver(()=>{ run(this.querySelector(\"script\")); }).observe(this, {childList: true}); } } } customElements.define(\"treescope-run-here\", RunHere); } })(); </script> <treescope-container class=\"treescope_out_11c4c404f37e4210b025a598230c8177\" ></treescope-container> <treescope-run-here><script type=\"application/octet-stream\"> const root = ( Array.from(document.getElementsByClassName( \"treescope_out_11c4c404f37e4210b025a598230c8177\")) .filter((elt) => !elt.dataset.setup) )[0]; root.dataset.setup = 1; const msg = document.createElement(\"span\"); msg.style = \"color: #aaaaaa; font-family: monospace; transition: opacity 0.2s; opacity: 0.0;\"; msg.textContent = \"(Loading...)\"; root.state.loadingMsg = msg; root.shadowRoot.appendChild(msg); root.state.chain = new Promise((resolve, reject) => { const observer = new IntersectionObserver((entries) => { for (const entry of entries) { if (entry.isIntersecting) { resolve(); observer.disconnect(); return; } } }, {rootMargin: \"1000px\"}); window.setTimeout(() => { if (root.loadingMsg) { root.loadingMsg.style.opacity = \"1.0\"; } observer.observe(root); }, 0); }); root.state.deferring = false; const _insertNode = (node) => { for (let oldScript of node.querySelectorAll(\"script\")) { let newScript = document.createElement(\"script\"); newScript.type = oldScript.type; newScript.textContent = oldScript.textContent; oldScript.parentNode.replaceChild(newScript, oldScript); } if (root.state.loadingMsg) { root.state.loadingMsg.remove(); root.state.loadingMsg = null; } root.shadowRoot.appendChild(node); }; root.defns.insertContent = ((contentNode, compressed) => { if (compressed) { root.state.deferring = true; } if (root.state.deferring) { root.state.chain = (async () => { await root.state.chain; if (compressed) { const encoded = contentNode.textContent; const blob = new Blob([ Uint8Array.from(atob(encoded), (m) => m.codePointAt(0)) ]); const reader = blob.stream().pipeThrough( new DecompressionStream(\"deflate\") ).pipeThrough( new TextDecoderStream(\"utf-8\") ).getReader(); const parts = []; while (true) { const step = await reader.read(); if (step.done) { break; } parts.push(step.value); } const tpl = document.createElement('template'); tpl.innerHTML = parts.join(\"\"); _insertNode(tpl.content); } else { _insertNode(contentNode.content); } })(); } else { _insertNode(contentNode.content); } }); </script></treescope-run-here><div style=\"display:none\"> <script type=\"application/octet-stream\" >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</script> <treescope-run-here><script type=\"application/octet-stream\"> const root = ( Array.from(document.getElementsByClassName( \"treescope_out_11c4c404f37e4210b025a598230c8177\")) .filter((elt) => !elt.dataset['step0']) )[0]; root.dataset['step0'] = 1; root.defns.insertContent( this.parentNode.querySelector('script[type=\"application/octet-stream\"]'), true ); this.parentNode.remove(); </script></treescope-run-here> </div>"
      ],
      "text/plain": [
       "<IPython.core.display.HTML object>"
      ]
     },
     "metadata": {},
     "output_type": "display_data"
    }
   ],
   "source": [
    "selection = pz.select([1, \"a\", 2, \"b\", 3, \"c\", 4, \"d\"]).at_instances_of(int).pick_nth_selected(2)\n",
    "\n",
    "print(\"Original:\")\n",
    "selection.show_selection()\n",
    "print(\"Inverted:\")\n",
    "selection.invert().show_selection()"
   ]
  },
  {
   "cell_type": "code",
   "execution_count": 34,
   "metadata": {
    "execution": {
     "iopub.execute_input": "2024-07-26T21:03:10.796007Z",
     "iopub.status.busy": "2024-07-26T21:03:10.795760Z",
     "iopub.status.idle": "2024-07-26T21:03:10.808889Z",
     "shell.execute_reply": "2024-07-26T21:03:10.808712Z"
    },
    "id": "HaLCG89dknQg"
   },
   "outputs": [
    {
     "name": "stdout",
     "output_type": "stream",
     "text": [
      "Original:\n"
     ]
    },
    {
     "data": {
      "text/html": [
       "<script> (()=>{ if (customElements.get('treescope-container') === undefined) { class TreescopeContainer extends HTMLElement { constructor() { super(); this.attachShadow({mode: \"open\"}); this.defns = {}; this.state = {}; } } customElements.define(\"treescope-container\", TreescopeContainer); } if (customElements.get('treescope-run-here') === undefined) { class RunHere extends HTMLElement { constructor() { super() } connectedCallback() { const run = child => { const fn = new Function(child.textContent); child.textContent = \"\"; fn.call(this); this.remove(); }; const child = this.querySelector(\"script\"); if (child) { run(child); } else { new MutationObserver(()=>{ run(this.querySelector(\"script\")); }).observe(this, {childList: true}); } } } customElements.define(\"treescope-run-here\", RunHere); } })(); </script> <treescope-container class=\"treescope_out_0058772ecba84de995ab437a3547193b\" ></treescope-container> <treescope-run-here><script type=\"application/octet-stream\"> const root = ( Array.from(document.getElementsByClassName( \"treescope_out_0058772ecba84de995ab437a3547193b\")) .filter((elt) => !elt.dataset.setup) )[0]; root.dataset.setup = 1; const msg = document.createElement(\"span\"); msg.style = \"color: #aaaaaa; font-family: monospace; transition: opacity 0.2s; opacity: 0.0;\"; msg.textContent = \"(Loading...)\"; root.state.loadingMsg = msg; root.shadowRoot.appendChild(msg); root.state.chain = new Promise((resolve, reject) => { const observer = new IntersectionObserver((entries) => { for (const entry of entries) { if (entry.isIntersecting) { resolve(); observer.disconnect(); return; } } }, {rootMargin: \"1000px\"}); window.setTimeout(() => { if (root.loadingMsg) { root.loadingMsg.style.opacity = \"1.0\"; } observer.observe(root); }, 0); }); root.state.deferring = false; const _insertNode = (node) => { for (let oldScript of node.querySelectorAll(\"script\")) { let newScript = document.createElement(\"script\"); newScript.type = oldScript.type; newScript.textContent = oldScript.textContent; oldScript.parentNode.replaceChild(newScript, oldScript); } if (root.state.loadingMsg) { root.state.loadingMsg.remove(); root.state.loadingMsg = null; } root.shadowRoot.appendChild(node); }; root.defns.insertContent = ((contentNode, compressed) => { if (compressed) { root.state.deferring = true; } if (root.state.deferring) { root.state.chain = (async () => { await root.state.chain; if (compressed) { const encoded = contentNode.textContent; const blob = new Blob([ Uint8Array.from(atob(encoded), (m) => m.codePointAt(0)) ]); const reader = blob.stream().pipeThrough( new DecompressionStream(\"deflate\") ).pipeThrough( new TextDecoderStream(\"utf-8\") ).getReader(); const parts = []; while (true) { const step = await reader.read(); if (step.done) { break; } parts.push(step.value); } const tpl = document.createElement('template'); tpl.innerHTML = parts.join(\"\"); _insertNode(tpl.content); } else { _insertNode(contentNode.content); } })(); } else { _insertNode(contentNode.content); } }); </script></treescope-run-here><div style=\"display:none\"> <script type=\"application/octet-stream\" >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</script> <treescope-run-here><script type=\"application/octet-stream\"> const root = ( Array.from(document.getElementsByClassName( \"treescope_out_0058772ecba84de995ab437a3547193b\")) .filter((elt) => !elt.dataset['step0']) )[0]; root.dataset['step0'] = 1; root.defns.insertContent( this.parentNode.querySelector('script[type=\"application/octet-stream\"]'), true ); this.parentNode.remove(); </script></treescope-run-here> </div>"
      ],
      "text/plain": [
       "<IPython.core.display.HTML object>"
      ]
     },
     "metadata": {},
     "output_type": "display_data"
    },
    {
     "data": {
      "text/html": [
       "<div style=\"display:none\"> <script type=\"application/octet-stream\" >eNq1k8tu2zAQRX9lwACBjciKrJfl+AG0SQtk00W76CIIDIoc2SwYUaXooEaQf+9QfiRp09ZZdGFZFOfOzBleTqW6h9ZtNM6YVG2j+eYCalMjAyVnrDJ2IbFCa1Eu8iRKRVqN0ziO0jwbFTLPxmnJszzjSZoLNp+2Da/p6fPNQ2E0yXlZWryHB+iWF3CSFzGPogk8Ts+3gZ0KhOZtO2PPRWx+qt3kG/8RvrOWb3o3UQDDAOIAkgDSALIA8gBGARQBjG8DkG7T4EzVLon7p0s3oQJdP/s/Yp1P3wDMZR5HZZokQy7SDCM+JuJCJpjyMsnz4gn4WAAgAo/gGTyEp/AYnsODeBIYE6UnHf4PJJR5McryqqzilAtRjjBKpSyG1VBEoojejhSFAbz+O7RfacP/CuAsYitMgwO7rgcrtN4UwqrGQZeA8abRSnCnTH1uhEM3aEnD79hcmLqlKG6X6K5lCzO4Ycc7NgB2/Gm/CP7XHG8n286kEdYYR325lWpD6vIzLT8Zib3+BHbdE/4uaBcefl+j3XxBjcIZ22PhYUILv80O0sry5R3WO+nav4aCJuPwarf8uIv4vdylJo+QcJ8jpCljLS9XSsvePigUPqrr19k19ikLGQp6Gh0oEtNFVjB9OoBQY710K/p6dtanW+/jtpvPK9Hyg0b/+n5zTcX26ht1SwW8pjVrK/CKnP3HoZx4ZzM4g1/k22VokW6CwK/KrXqHbGGlbLuv3ZGS4GnX4p25707m8TCmF4lezK7v3dzZlIz8iod/AvRFxDs=</script> <treescope-run-here><script type=\"application/octet-stream\"> const root = ( Array.from(document.getElementsByClassName( \"treescope_out_0058772ecba84de995ab437a3547193b\")) .filter((elt) => !elt.dataset['step1']) )[0]; root.dataset['step1'] = 1; root.defns.insertContent( this.parentNode.querySelector('script[type=\"application/octet-stream\"]'), true ); this.parentNode.remove(); </script></treescope-run-here> </div>"
      ],
      "text/plain": [
       "<IPython.core.display.HTML object>"
      ]
     },
     "metadata": {},
     "output_type": "display_data"
    },
    {
     "name": "stdout",
     "output_type": "stream",
     "text": [
      "Inverted:\n"
     ]
    },
    {
     "data": {
      "text/html": [
       "<script> (()=>{ if (customElements.get('treescope-container') === undefined) { class TreescopeContainer extends HTMLElement { constructor() { super(); this.attachShadow({mode: \"open\"}); this.defns = {}; this.state = {}; } } customElements.define(\"treescope-container\", TreescopeContainer); } if (customElements.get('treescope-run-here') === undefined) { class RunHere extends HTMLElement { constructor() { super() } connectedCallback() { const run = child => { const fn = new Function(child.textContent); child.textContent = \"\"; fn.call(this); this.remove(); }; const child = this.querySelector(\"script\"); if (child) { run(child); } else { new MutationObserver(()=>{ run(this.querySelector(\"script\")); }).observe(this, {childList: true}); } } } customElements.define(\"treescope-run-here\", RunHere); } })(); </script> <treescope-container class=\"treescope_out_f580c45bb34b45b0a590842f5131e8b5\" ></treescope-container> <treescope-run-here><script type=\"application/octet-stream\"> const root = ( Array.from(document.getElementsByClassName( \"treescope_out_f580c45bb34b45b0a590842f5131e8b5\")) .filter((elt) => !elt.dataset.setup) )[0]; root.dataset.setup = 1; const msg = document.createElement(\"span\"); msg.style = \"color: #aaaaaa; font-family: monospace; transition: opacity 0.2s; opacity: 0.0;\"; msg.textContent = \"(Loading...)\"; root.state.loadingMsg = msg; root.shadowRoot.appendChild(msg); root.state.chain = new Promise((resolve, reject) => { const observer = new IntersectionObserver((entries) => { for (const entry of entries) { if (entry.isIntersecting) { resolve(); observer.disconnect(); return; } } }, {rootMargin: \"1000px\"}); window.setTimeout(() => { if (root.loadingMsg) { root.loadingMsg.style.opacity = \"1.0\"; } observer.observe(root); }, 0); }); root.state.deferring = false; const _insertNode = (node) => { for (let oldScript of node.querySelectorAll(\"script\")) { let newScript = document.createElement(\"script\"); newScript.type = oldScript.type; newScript.textContent = oldScript.textContent; oldScript.parentNode.replaceChild(newScript, oldScript); } if (root.state.loadingMsg) { root.state.loadingMsg.remove(); root.state.loadingMsg = null; } root.shadowRoot.appendChild(node); }; root.defns.insertContent = ((contentNode, compressed) => { if (compressed) { root.state.deferring = true; } if (root.state.deferring) { root.state.chain = (async () => { await root.state.chain; if (compressed) { const encoded = contentNode.textContent; const blob = new Blob([ Uint8Array.from(atob(encoded), (m) => m.codePointAt(0)) ]); const reader = blob.stream().pipeThrough( new DecompressionStream(\"deflate\") ).pipeThrough( new TextDecoderStream(\"utf-8\") ).getReader(); const parts = []; while (true) { const step = await reader.read(); if (step.done) { break; } parts.push(step.value); } const tpl = document.createElement('template'); tpl.innerHTML = parts.join(\"\"); _insertNode(tpl.content); } else { _insertNode(contentNode.content); } })(); } else { _insertNode(contentNode.content); } }); </script></treescope-run-here><div style=\"display:none\"> <script type=\"application/octet-stream\" >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</script> <treescope-run-here><script type=\"application/octet-stream\"> const root = ( Array.from(document.getElementsByClassName( \"treescope_out_f580c45bb34b45b0a590842f5131e8b5\")) .filter((elt) => !elt.dataset['step0']) )[0]; root.dataset['step0'] = 1; root.defns.insertContent( this.parentNode.querySelector('script[type=\"application/octet-stream\"]'), true ); this.parentNode.remove(); </script></treescope-run-here> </div>"
      ],
      "text/plain": [
       "<IPython.core.display.HTML object>"
      ]
     },
     "metadata": {},
     "output_type": "display_data"
    },
    {
     "data": {
      "text/html": [
       "<div style=\"display:none\"> <script type=\"application/octet-stream\" >eNq1k01P3DAQhv/KKEhoV4SwSRyHsB9SC63EpYf20ANCyLFnd12ZOHW8qCvEf+84+wG0tIVDD5uN43ln5hm/nih9B51fG5xGSnetEeszaGyDEWg1jebW3Sico3OobjLFFRY8L6QcMcnzSiEvWFEyxUTBMItmk64VDT1DvlkirSG5qGuHd3AP/fIMDvhpJkajMTxMTjaBvQqkEV03jZ6Kotmh8eNv4kfyzjmxHlyNYkhjyGLIY2AxFDHwGMoYTmOormNQft3iVDc+z4aHCz+mAn0/uz9inU3eAFxWeVlxVlRpxlmdKSFzzHjGKizwlHP2CPxaACCCgBAYAkSgCBiBI4AEEqiIMpCm/wEpVTWvyrogppwhK+tRmhYsLeuKZ8hT9XakURLDy799+3NjxV8BvEPspG3x2K2a4yW6YArpdOuhTxCJtjVaCq9tc2KlR3/ckUbcRjNpm46ihFugv1QdTOEqer1jY4hef9pPg/85x+vxpjNlpbPWU19+qbuEuvxMy09W4WA4hm33hL8N2oYn31fo1l/QoPTWDaJkP6GbsB3tpXMnFrfYbKWr8JpImozHi+3y4zbi93LnhjxCwl2OhKaMjTpfaqMGu6BEhqi+X+9WOKQsZCgYGPSgSUwXWcPk8QASg83CL+nr0dGQbn2I22w+rUTLDwbD6/v1JRXbqa/0NRUIms6unMQLcvYfh3IQnB3BEfwi3ywTh3QTJH7VfjnYZ0vm2nW72j0pCR53Hd7au/5kHvZjepbo2eyGwc29TcnIL3j4J1mIwSk=</script> <treescope-run-here><script type=\"application/octet-stream\"> const root = ( Array.from(document.getElementsByClassName( \"treescope_out_f580c45bb34b45b0a590842f5131e8b5\")) .filter((elt) => !elt.dataset['step1']) )[0]; root.dataset['step1'] = 1; root.defns.insertContent( this.parentNode.querySelector('script[type=\"application/octet-stream\"]'), true ); this.parentNode.remove(); </script></treescope-run-here> </div>"
      ],
      "text/plain": [
       "<IPython.core.display.HTML object>"
      ]
     },
     "metadata": {},
     "output_type": "display_data"
    }
   ],
   "source": [
    "selection = pz.select(my_nested_object).at_keypaths([\n",
    "    (jax.tree_util.DictKey(key='c'), jax.tree_util.SequenceKey(idx=2), jax.tree_util.DictKey(key='value')),\n",
    "    (jax.tree_util.DictKey(key='c'), jax.tree_util.SequenceKey(idx=0)),\n",
    "])\n",
    "\n",
    "print(\"Original:\")\n",
    "selection.show_selection()\n",
    "print(\"Inverted:\")\n",
    "selection.invert().show_selection()"
   ]
  },
  {
   "cell_type": "markdown",
   "metadata": {
    "id": "-6RVyMq6NY6r"
   },
   "source": [
    "### Building more complex selections\n",
    "For highly dynamic selections, you can drop down to lower-level manipulation.\n",
    "\n",
    "Selections provide a `.refine` method, which runs a function on each of the currently selected values, takes the `Selection` returned by that function, and then takes the disjoint union of them. This can be useful for dynamic input-dependent branching:"
   ]
  },
  {
   "cell_type": "code",
   "execution_count": 35,
   "metadata": {
    "execution": {
     "iopub.execute_input": "2024-07-26T21:03:10.814412Z",
     "iopub.status.busy": "2024-07-26T21:03:10.814126Z",
     "iopub.status.idle": "2024-07-26T21:03:10.816240Z",
     "shell.execute_reply": "2024-07-26T21:03:10.816065Z"
    },
    "id": "pMKL39k7Rdty"
   },
   "outputs": [],
   "source": [
    "# Select field \"a\" of Foo and field \"b\" of Bar\n",
    "\n",
    "@pz.pytree_dataclass\n",
    "class Foo(pz.Struct):\n",
    "  a: typing.Any\n",
    "  b: typing.Any\n",
    "\n",
    "@pz.pytree_dataclass\n",
    "class Bar(pz.Struct):\n",
    "  a: typing.Any\n",
    "  b: typing.Any\n",
    "\n",
    "def refine_fn(value):\n",
    "  if isinstance(value, Foo):\n",
    "    return value.select().at(lambda x: x.a)\n",
    "  else:\n",
    "    return value.select().at(lambda x: x.b)"
   ]
  },
  {
   "cell_type": "code",
   "execution_count": 36,
   "metadata": {
    "execution": {
     "iopub.execute_input": "2024-07-26T21:03:10.826005Z",
     "iopub.status.busy": "2024-07-26T21:03:10.825751Z",
     "iopub.status.idle": "2024-07-26T21:03:10.834890Z",
     "shell.execute_reply": "2024-07-26T21:03:10.834603Z"
    },
    "id": "Hvj4K7tVeag7"
   },
   "outputs": [
    {
     "data": {
      "text/html": [
       "<script> (()=>{ if (customElements.get('treescope-container') === undefined) { class TreescopeContainer extends HTMLElement { constructor() { super(); this.attachShadow({mode: \"open\"}); this.defns = {}; this.state = {}; } } customElements.define(\"treescope-container\", TreescopeContainer); } if (customElements.get('treescope-run-here') === undefined) { class RunHere extends HTMLElement { constructor() { super() } connectedCallback() { const run = child => { const fn = new Function(child.textContent); child.textContent = \"\"; fn.call(this); this.remove(); }; const child = this.querySelector(\"script\"); if (child) { run(child); } else { new MutationObserver(()=>{ run(this.querySelector(\"script\")); }).observe(this, {childList: true}); } } } customElements.define(\"treescope-run-here\", RunHere); } })(); </script> <treescope-container class=\"treescope_out_f0dafce7cc934922ae8ad80d1864fb2f\" ></treescope-container> <treescope-run-here><script type=\"application/octet-stream\"> const root = ( Array.from(document.getElementsByClassName( \"treescope_out_f0dafce7cc934922ae8ad80d1864fb2f\")) .filter((elt) => !elt.dataset.setup) )[0]; root.dataset.setup = 1; const msg = document.createElement(\"span\"); msg.style = \"color: #aaaaaa; font-family: monospace; transition: opacity 0.2s; opacity: 0.0;\"; msg.textContent = \"(Loading...)\"; root.state.loadingMsg = msg; root.shadowRoot.appendChild(msg); root.state.chain = new Promise((resolve, reject) => { const observer = new IntersectionObserver((entries) => { for (const entry of entries) { if (entry.isIntersecting) { resolve(); observer.disconnect(); return; } } }, {rootMargin: \"1000px\"}); window.setTimeout(() => { if (root.loadingMsg) { root.loadingMsg.style.opacity = \"1.0\"; } observer.observe(root); }, 0); }); root.state.deferring = false; const _insertNode = (node) => { for (let oldScript of node.querySelectorAll(\"script\")) { let newScript = document.createElement(\"script\"); newScript.type = oldScript.type; newScript.textContent = oldScript.textContent; oldScript.parentNode.replaceChild(newScript, oldScript); } if (root.state.loadingMsg) { root.state.loadingMsg.remove(); root.state.loadingMsg = null; } root.shadowRoot.appendChild(node); }; root.defns.insertContent = ((contentNode, compressed) => { if (compressed) { root.state.deferring = true; } if (root.state.deferring) { root.state.chain = (async () => { await root.state.chain; if (compressed) { const encoded = contentNode.textContent; const blob = new Blob([ Uint8Array.from(atob(encoded), (m) => m.codePointAt(0)) ]); const reader = blob.stream().pipeThrough( new DecompressionStream(\"deflate\") ).pipeThrough( new TextDecoderStream(\"utf-8\") ).getReader(); const parts = []; while (true) { const step = await reader.read(); if (step.done) { break; } parts.push(step.value); } const tpl = document.createElement('template'); tpl.innerHTML = parts.join(\"\"); _insertNode(tpl.content); } else { _insertNode(contentNode.content); } })(); } else { _insertNode(contentNode.content); } }); </script></treescope-run-here><div style=\"display:none\"> <script type=\"application/octet-stream\" >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</script> <treescope-run-here><script type=\"application/octet-stream\"> const root = ( Array.from(document.getElementsByClassName( \"treescope_out_f0dafce7cc934922ae8ad80d1864fb2f\")) .filter((elt) => !elt.dataset['step0']) )[0]; root.dataset['step0'] = 1; root.defns.insertContent( this.parentNode.querySelector('script[type=\"application/octet-stream\"]'), true ); this.parentNode.remove(); </script></treescope-run-here> </div>"
      ],
      "text/plain": [
       "<IPython.core.display.HTML object>"
      ]
     },
     "metadata": {},
     "output_type": "display_data"
    },
    {
     "data": {
      "text/html": [
       "<treescope-run-here><script type=\"application/octet-stream\"> const root = ( Array.from(document.getElementsByClassName( \"treescope_out_f0dafce7cc934922ae8ad80d1864fb2f\")) .filter((elt) => !elt.dataset.stolen) )[0]; root.dataset.stolen = 1; this.parentNode.replaceChild(root, this); </script></treescope-run-here>"
      ],
      "text/plain": [
       "Selection(\n",
       "  selected_by_path=OrderedDict({(SequenceKey(idx=0), GetAttrKey(name='a')): 1, (SequenceKey(idx=1), GetAttrKey(name='b')): 4, (SequenceKey(idx=2), GetAttrKey(name='a')): 5, (SequenceKey(idx=3), GetAttrKey(name='b')): 8}),\n",
       "  remainder=[\n",
       "    Foo(\n",
       "      a=SelectionHole(path=(SequenceKey(idx=0), GetAttrKey(name='a'))),\n",
       "      b=2,\n",
       "    ),\n",
       "    Bar(\n",
       "      a=3,\n",
       "      b=SelectionHole(path=(SequenceKey(idx=1), GetAttrKey(name='b'))),\n",
       "    ),\n",
       "    Foo(\n",
       "      a=SelectionHole(path=(SequenceKey(idx=2), GetAttrKey(name='a'))),\n",
       "      b=6,\n",
       "    ),\n",
       "    Bar(a=7, b=SelectionHole(path=(SequenceKey(idx=3), GetAttrKey(name='b')))),\n",
       "    None,\n",
       "  ],\n",
       ")"
      ]
     },
     "execution_count": 36,
     "metadata": {},
     "output_type": "execute_result"
    }
   ],
   "source": [
    "pz.select([\n",
    "    Foo(1, 2),\n",
    "    Bar(3, 4),\n",
    "    Foo(5, 6),\n",
    "    Bar(7, 8),\n",
    "    None,\n",
    "]).at_instances_of((Foo, Bar)).refine(refine_fn)"
   ]
  },
  {
   "cell_type": "markdown",
   "metadata": {
    "id": "dUGwFROiBdhV"
   },
   "source": [
    "## Inspecting selections and retrieving values\n",
    "\n",
    "Once you have a selection, there are various ways to inspect them and their contents."
   ]
  },
  {
   "cell_type": "markdown",
   "metadata": {
    "id": "UV1JQsx7nF6f"
   },
   "source": [
    "### Looking at selections\n",
    "You can view a pretty-printed version of the selection using `.show_selection()` (the same pretty-printing we've been using throughout this notebook):"
   ]
  },
  {
   "cell_type": "code",
   "execution_count": 37,
   "metadata": {
    "execution": {
     "iopub.execute_input": "2024-07-26T21:03:10.842093Z",
     "iopub.status.busy": "2024-07-26T21:03:10.841859Z",
     "iopub.status.idle": "2024-07-26T21:03:10.846615Z",
     "shell.execute_reply": "2024-07-26T21:03:10.846413Z"
    },
    "id": "-W2_LNVonip5"
   },
   "outputs": [
    {
     "data": {
      "text/html": [
       "<script> (()=>{ if (customElements.get('treescope-container') === undefined) { class TreescopeContainer extends HTMLElement { constructor() { super(); this.attachShadow({mode: \"open\"}); this.defns = {}; this.state = {}; } } customElements.define(\"treescope-container\", TreescopeContainer); } if (customElements.get('treescope-run-here') === undefined) { class RunHere extends HTMLElement { constructor() { super() } connectedCallback() { const run = child => { const fn = new Function(child.textContent); child.textContent = \"\"; fn.call(this); this.remove(); }; const child = this.querySelector(\"script\"); if (child) { run(child); } else { new MutationObserver(()=>{ run(this.querySelector(\"script\")); }).observe(this, {childList: true}); } } } customElements.define(\"treescope-run-here\", RunHere); } })(); </script> <treescope-container class=\"treescope_out_fef7038eb58b4b3b870b5b35c3de8c7b\" ></treescope-container> <treescope-run-here><script type=\"application/octet-stream\"> const root = ( Array.from(document.getElementsByClassName( \"treescope_out_fef7038eb58b4b3b870b5b35c3de8c7b\")) .filter((elt) => !elt.dataset.setup) )[0]; root.dataset.setup = 1; const msg = document.createElement(\"span\"); msg.style = \"color: #aaaaaa; font-family: monospace; transition: opacity 0.2s; opacity: 0.0;\"; msg.textContent = \"(Loading...)\"; root.state.loadingMsg = msg; root.shadowRoot.appendChild(msg); root.state.chain = new Promise((resolve, reject) => { const observer = new IntersectionObserver((entries) => { for (const entry of entries) { if (entry.isIntersecting) { resolve(); observer.disconnect(); return; } } }, {rootMargin: \"1000px\"}); window.setTimeout(() => { if (root.loadingMsg) { root.loadingMsg.style.opacity = \"1.0\"; } observer.observe(root); }, 0); }); root.state.deferring = false; const _insertNode = (node) => { for (let oldScript of node.querySelectorAll(\"script\")) { let newScript = document.createElement(\"script\"); newScript.type = oldScript.type; newScript.textContent = oldScript.textContent; oldScript.parentNode.replaceChild(newScript, oldScript); } if (root.state.loadingMsg) { root.state.loadingMsg.remove(); root.state.loadingMsg = null; } root.shadowRoot.appendChild(node); }; root.defns.insertContent = ((contentNode, compressed) => { if (compressed) { root.state.deferring = true; } if (root.state.deferring) { root.state.chain = (async () => { await root.state.chain; if (compressed) { const encoded = contentNode.textContent; const blob = new Blob([ Uint8Array.from(atob(encoded), (m) => m.codePointAt(0)) ]); const reader = blob.stream().pipeThrough( new DecompressionStream(\"deflate\") ).pipeThrough( new TextDecoderStream(\"utf-8\") ).getReader(); const parts = []; while (true) { const step = await reader.read(); if (step.done) { break; } parts.push(step.value); } const tpl = document.createElement('template'); tpl.innerHTML = parts.join(\"\"); _insertNode(tpl.content); } else { _insertNode(contentNode.content); } })(); } else { _insertNode(contentNode.content); } }); </script></treescope-run-here><div style=\"display:none\"> <script type=\"application/octet-stream\" >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</script> <treescope-run-here><script type=\"application/octet-stream\"> const root = ( Array.from(document.getElementsByClassName( \"treescope_out_fef7038eb58b4b3b870b5b35c3de8c7b\")) .filter((elt) => !elt.dataset['step0']) )[0]; root.dataset['step0'] = 1; root.defns.insertContent( this.parentNode.querySelector('script[type=\"application/octet-stream\"]'), true ); this.parentNode.remove(); </script></treescope-run-here> </div>"
      ],
      "text/plain": [
       "<IPython.core.display.HTML object>"
      ]
     },
     "metadata": {},
     "output_type": "display_data"
    },
    {
     "data": {
      "text/html": [
       "<div style=\"display:none\"> <script type=\"application/octet-stream\" >eNq1k01v2zAMhv8KoQKFgzqunTiO03wAW7sBveywHXYoikKW6ESDYnmyEiwo+t9HOZ/duq097BDHsviSfKhXE6nW0LiNximTqqk131xBZSpkoOSUlcY+SCzRWpQPo34/ToRIMEGejnie97MiGcRSpMiTNMvZbNLUvKKnzzeLhNEk50VhcQ2P0C6v4CzLezyOx/A0udwGtioQmjfNlJ2K2Oxcu/E3/iN6Zy3fBHdxCEkIvRD6IaQhDELIQhiGkIcwug9Buk2NU1W5fq9zPndjKtD2s/8j1tnkDcBpxlM5HMS8V+RpOSqKMudZHheIGcphOjgCvxYAiMAjeAYP4Sk8hufwIJ4ERkTpSZP/gDQUGUcu8p4YlmkWj3KZDYayKHpJXpRxWbwdKY5CePl3aL/Uhv8VwFnERpgau3ZVdRdovSmEVbWDNgHjda2V4E6Z6tIIh67bkIYv2UyYqqEobufobmUDU7hjr3dsCOz1p30a/M853o+3nUkjrDGO+nIL1UTU5WdafjISg84Ydt0T/i5oFx59X6HdfEGNwhkbsOgwoQe/zQ7S0vL5EquddOVfI0GTcXizW37cRfxe7lqTR0i4zxHRlLGS1wulZbAPioSPavt1doUdykKGgkCjA0ViusgKJscDiDRWc7egrxcXHbr1Pm67eVqJlh80+tf3m1sqtlffqXsq4DWNWVmBN+TsPw7lzDubwQX8It8uI4t0EwR+VW4RHLJFpbLNvnZLSoLjrsWlWbcn83QY07NEz2bX8W5ubUpGfsHDPwEot8Yz</script> <treescope-run-here><script type=\"application/octet-stream\"> const root = ( Array.from(document.getElementsByClassName( \"treescope_out_fef7038eb58b4b3b870b5b35c3de8c7b\")) .filter((elt) => !elt.dataset['step1']) )[0]; root.dataset['step1'] = 1; root.defns.insertContent( this.parentNode.querySelector('script[type=\"application/octet-stream\"]'), true ); this.parentNode.remove(); </script></treescope-run-here> </div>"
      ],
      "text/plain": [
       "<IPython.core.display.HTML object>"
      ]
     },
     "metadata": {},
     "output_type": "display_data"
    }
   ],
   "source": [
    "pz.select(my_nested_object).at_children().show_selection()"
   ]
  },
  {
   "cell_type": "markdown",
   "metadata": {
    "id": "chGlzxpEnQGr"
   },
   "source": [
    "You can also view the selected values without the selection annotations using `.show_value()`. This is similar to just rendering the root object with treescope, but it automatically expands so that the nodes you selected are visible, and collapses all other nodes."
   ]
  },
  {
   "cell_type": "code",
   "execution_count": 38,
   "metadata": {
    "execution": {
     "iopub.execute_input": "2024-07-26T21:03:10.874865Z",
     "iopub.status.busy": "2024-07-26T21:03:10.854309Z",
     "iopub.status.idle": "2024-07-26T21:03:10.898133Z",
     "shell.execute_reply": "2024-07-26T21:03:10.897949Z"
    },
    "id": "Ei6MgFeAoQ0Z"
   },
   "outputs": [
    {
     "data": {
      "text/html": [
       "<script> (()=>{ if (customElements.get('treescope-container') === undefined) { class TreescopeContainer extends HTMLElement { constructor() { super(); this.attachShadow({mode: \"open\"}); this.defns = {}; this.state = {}; } } customElements.define(\"treescope-container\", TreescopeContainer); } if (customElements.get('treescope-run-here') === undefined) { class RunHere extends HTMLElement { constructor() { super() } connectedCallback() { const run = child => { const fn = new Function(child.textContent); child.textContent = \"\"; fn.call(this); this.remove(); }; const child = this.querySelector(\"script\"); if (child) { run(child); } else { new MutationObserver(()=>{ run(this.querySelector(\"script\")); }).observe(this, {childList: true}); } } } customElements.define(\"treescope-run-here\", RunHere); } })(); </script> <treescope-container class=\"treescope_out_fdf93978592045d3b02d2e6d7443c103\" ></treescope-container> <treescope-run-here><script type=\"application/octet-stream\"> const root = ( Array.from(document.getElementsByClassName( \"treescope_out_fdf93978592045d3b02d2e6d7443c103\")) .filter((elt) => !elt.dataset.setup) )[0]; root.dataset.setup = 1; const msg = document.createElement(\"span\"); msg.style = \"color: #aaaaaa; font-family: monospace; transition: opacity 0.2s; opacity: 0.0;\"; msg.textContent = \"(Loading...)\"; root.state.loadingMsg = msg; root.shadowRoot.appendChild(msg); root.state.chain = new Promise((resolve, reject) => { const observer = new IntersectionObserver((entries) => { for (const entry of entries) { if (entry.isIntersecting) { resolve(); observer.disconnect(); return; } } }, {rootMargin: \"1000px\"}); window.setTimeout(() => { if (root.loadingMsg) { root.loadingMsg.style.opacity = \"1.0\"; } observer.observe(root); }, 0); }); root.state.deferring = false; const _insertNode = (node) => { for (let oldScript of node.querySelectorAll(\"script\")) { let newScript = document.createElement(\"script\"); newScript.type = oldScript.type; newScript.textContent = oldScript.textContent; oldScript.parentNode.replaceChild(newScript, oldScript); } if (root.state.loadingMsg) { root.state.loadingMsg.remove(); root.state.loadingMsg = null; } root.shadowRoot.appendChild(node); }; root.defns.insertContent = ((contentNode, compressed) => { if (compressed) { root.state.deferring = true; } if (root.state.deferring) { root.state.chain = (async () => { await root.state.chain; if (compressed) { const encoded = contentNode.textContent; const blob = new Blob([ Uint8Array.from(atob(encoded), (m) => m.codePointAt(0)) ]); const reader = blob.stream().pipeThrough( new DecompressionStream(\"deflate\") ).pipeThrough( new TextDecoderStream(\"utf-8\") ).getReader(); const parts = []; while (true) { const step = await reader.read(); if (step.done) { break; } parts.push(step.value); } const tpl = document.createElement('template'); tpl.innerHTML = parts.join(\"\"); _insertNode(tpl.content); } else { _insertNode(contentNode.content); } })(); } else { _insertNode(contentNode.content); } }); </script></treescope-run-here><div style=\"display:none\"> <script type=\"application/octet-stream\" >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</script> <treescope-run-here><script type=\"application/octet-stream\"> const root = ( Array.from(document.getElementsByClassName( \"treescope_out_fdf93978592045d3b02d2e6d7443c103\")) .filter((elt) => !elt.dataset['step0']) )[0]; root.dataset['step0'] = 1; root.defns.insertContent( this.parentNode.querySelector('script[type=\"application/octet-stream\"]'), true ); this.parentNode.remove(); </script></treescope-run-here> </div>"
      ],
      "text/plain": [
       "<IPython.core.display.HTML object>"
      ]
     },
     "metadata": {},
     "output_type": "display_data"
    }
   ],
   "source": [
    "stuff = (\n",
    "    [[[\"haystack\"] * 5] * 5] * 5\n",
    "    + [[[\"haystack\"] * 5] * 5 + [[\"haystack\", \"needle\", \"haystack\", \"haystack\", \"haystack\"]]]\n",
    "    + [[[\"haystack\"] * 5] * 5] * 5\n",
    ")\n",
    "\n",
    "pz.select(stuff).at_equal_to(\"needle\").show_value()"
   ]
  },
  {
   "cell_type": "markdown",
   "metadata": {
    "id": "nPZUOuqilcoc"
   },
   "source": [
    "### Counting selected objects\n",
    "Selections have `count` and `is_empty` methods for inspecting their size:"
   ]
  },
  {
   "cell_type": "code",
   "execution_count": 39,
   "metadata": {
    "execution": {
     "iopub.execute_input": "2024-07-26T21:03:10.902556Z",
     "iopub.status.busy": "2024-07-26T21:03:10.902268Z",
     "iopub.status.idle": "2024-07-26T21:03:10.906013Z",
     "shell.execute_reply": "2024-07-26T21:03:10.905775Z"
    },
    "id": "TGu1D-n_lumY"
   },
   "outputs": [
    {
     "data": {
      "text/html": [
       "<script> (()=>{ if (customElements.get('treescope-container') === undefined) { class TreescopeContainer extends HTMLElement { constructor() { super(); this.attachShadow({mode: \"open\"}); this.defns = {}; this.state = {}; } } customElements.define(\"treescope-container\", TreescopeContainer); } if (customElements.get('treescope-run-here') === undefined) { class RunHere extends HTMLElement { constructor() { super() } connectedCallback() { const run = child => { const fn = new Function(child.textContent); child.textContent = \"\"; fn.call(this); this.remove(); }; const child = this.querySelector(\"script\"); if (child) { run(child); } else { new MutationObserver(()=>{ run(this.querySelector(\"script\")); }).observe(this, {childList: true}); } } } customElements.define(\"treescope-run-here\", RunHere); } })(); </script> <treescope-container class=\"treescope_out_70cd5baa389d40d9b0d07e9a08e2cf1a\" ></treescope-container> <treescope-run-here><script type=\"application/octet-stream\"> const root = ( Array.from(document.getElementsByClassName( \"treescope_out_70cd5baa389d40d9b0d07e9a08e2cf1a\")) .filter((elt) => !elt.dataset.setup) )[0]; root.dataset.setup = 1; const msg = document.createElement(\"span\"); msg.style = \"color: #aaaaaa; font-family: monospace; transition: opacity 0.2s; opacity: 0.0;\"; msg.textContent = \"(Loading...)\"; root.state.loadingMsg = msg; root.shadowRoot.appendChild(msg); root.state.chain = new Promise((resolve, reject) => { const observer = new IntersectionObserver((entries) => { for (const entry of entries) { if (entry.isIntersecting) { resolve(); observer.disconnect(); return; } } }, {rootMargin: \"1000px\"}); window.setTimeout(() => { if (root.loadingMsg) { root.loadingMsg.style.opacity = \"1.0\"; } observer.observe(root); }, 0); }); root.state.deferring = false; const _insertNode = (node) => { for (let oldScript of node.querySelectorAll(\"script\")) { let newScript = document.createElement(\"script\"); newScript.type = oldScript.type; newScript.textContent = oldScript.textContent; oldScript.parentNode.replaceChild(newScript, oldScript); } if (root.state.loadingMsg) { root.state.loadingMsg.remove(); root.state.loadingMsg = null; } root.shadowRoot.appendChild(node); }; root.defns.insertContent = ((contentNode, compressed) => { if (compressed) { root.state.deferring = true; } if (root.state.deferring) { root.state.chain = (async () => { await root.state.chain; if (compressed) { const encoded = contentNode.textContent; const blob = new Blob([ Uint8Array.from(atob(encoded), (m) => m.codePointAt(0)) ]); const reader = blob.stream().pipeThrough( new DecompressionStream(\"deflate\") ).pipeThrough( new TextDecoderStream(\"utf-8\") ).getReader(); const parts = []; while (true) { const step = await reader.read(); if (step.done) { break; } parts.push(step.value); } const tpl = document.createElement('template'); tpl.innerHTML = parts.join(\"\"); _insertNode(tpl.content); } else { _insertNode(contentNode.content); } })(); } else { _insertNode(contentNode.content); } }); </script></treescope-run-here><div style=\"display:none\"> <script type=\"application/octet-stream\" >eNqNVE2P0zAQ/StWOGwikWx3EQjaptJeEAfEAQ4cEKpcZ5KM1hkHe9JS0P53xklb9qOsUC7xm6/3xjNeBt5bWBXsAYJxPay9c6x+q94FZHQ0Vx6sZtzCQtWOOK91h3Y/V50jF3ptBN+1yJCPh7nqvSAWA+dj6pz3vaDkSOCNNreNdwNVuXHW+fkUulCH08aKg+TDitu5qpHFjRiIF6rXVYXU5BZqnqtr08YiBHkL2LSCXBWvYxpijcL5FHb4ybcYcIMWWZjrgd3JN0dijxTQ5AF/wWQ90L1bXk7tWZ7ak/uBpKYXLBiPPauor7zQfW/R6NixS2cYonoPurtYpWlWrqShUi+wqqCmoErFLYaiAf4s3f7kKkizonWBi9Eu0oDVugeKkm9MzBqDvn0/Z/mgqbIgZhqsXUwVCqH5xTkSNN05f5up+xzcV4Gi6QHMaCLYg6+d7zQZKMjt0my8XymQPrGofApaqlfXmeTBWqWPWBcWqOFWlaWaRZdnqXvgwZP0XYEN8JdYO1Bk9jh1aLHmyG90iD938v2jQipTRZXbFR5+DBD4hrAbr+u91x2kU0+ymGPxpFA/hHZq4+KMxmOJcpLxjMr/5xBZTBfJrmnstJXrcXNkWvuYKyJg+aWCrQz44SYju/Fc3MI+Nj3xSSR0cC6M1SF8lOU85E2TU851J2OYHIvfZdJPGf9xxlfLy3MLUOFWjQnL5OHzkSjWG1EKP8tklihHQkZkk/g9N/bntaYx5qgykbWbHqzxxVjT0G3Aj5MyPiAvZu/eXr1+c3915VmiI837QclqJj5iFHWiZPUHhrnIAQ==</script> <treescope-run-here><script type=\"application/octet-stream\"> const root = ( Array.from(document.getElementsByClassName( \"treescope_out_70cd5baa389d40d9b0d07e9a08e2cf1a\")) .filter((elt) => !elt.dataset['step0']) )[0]; root.dataset['step0'] = 1; root.defns.insertContent( this.parentNode.querySelector('script[type=\"application/octet-stream\"]'), true ); this.parentNode.remove(); </script></treescope-run-here> </div>"
      ],
      "text/plain": [
       "<IPython.core.display.HTML object>"
      ]
     },
     "metadata": {},
     "output_type": "display_data"
    },
    {
     "data": {
      "text/html": [
       "<treescope-run-here><script type=\"application/octet-stream\"> const root = ( Array.from(document.getElementsByClassName( \"treescope_out_70cd5baa389d40d9b0d07e9a08e2cf1a\")) .filter((elt) => !elt.dataset.stolen) )[0]; root.dataset.stolen = 1; this.parentNode.replaceChild(root, this); </script></treescope-run-here>"
      ],
      "text/plain": [
       "0"
      ]
     },
     "execution_count": 39,
     "metadata": {},
     "output_type": "execute_result"
    }
   ],
   "source": [
    "pz.select([1, 2]).at_instances_of(str).count()"
   ]
  },
  {
   "cell_type": "code",
   "execution_count": 40,
   "metadata": {
    "execution": {
     "iopub.execute_input": "2024-07-26T21:03:10.910083Z",
     "iopub.status.busy": "2024-07-26T21:03:10.909851Z",
     "iopub.status.idle": "2024-07-26T21:03:10.912895Z",
     "shell.execute_reply": "2024-07-26T21:03:10.912646Z"
    },
    "id": "omvIWqsflyWj"
   },
   "outputs": [
    {
     "data": {
      "text/html": [
       "<script> (()=>{ if (customElements.get('treescope-container') === undefined) { class TreescopeContainer extends HTMLElement { constructor() { super(); this.attachShadow({mode: \"open\"}); this.defns = {}; this.state = {}; } } customElements.define(\"treescope-container\", TreescopeContainer); } if (customElements.get('treescope-run-here') === undefined) { class RunHere extends HTMLElement { constructor() { super() } connectedCallback() { const run = child => { const fn = new Function(child.textContent); child.textContent = \"\"; fn.call(this); this.remove(); }; const child = this.querySelector(\"script\"); if (child) { run(child); } else { new MutationObserver(()=>{ run(this.querySelector(\"script\")); }).observe(this, {childList: true}); } } } customElements.define(\"treescope-run-here\", RunHere); } })(); </script> <treescope-container class=\"treescope_out_4e66ea59d5fa48a2a1b0d9bef2bceac3\" ></treescope-container> <treescope-run-here><script type=\"application/octet-stream\"> const root = ( Array.from(document.getElementsByClassName( \"treescope_out_4e66ea59d5fa48a2a1b0d9bef2bceac3\")) .filter((elt) => !elt.dataset.setup) )[0]; root.dataset.setup = 1; const msg = document.createElement(\"span\"); msg.style = \"color: #aaaaaa; font-family: monospace; transition: opacity 0.2s; opacity: 0.0;\"; msg.textContent = \"(Loading...)\"; root.state.loadingMsg = msg; root.shadowRoot.appendChild(msg); root.state.chain = new Promise((resolve, reject) => { const observer = new IntersectionObserver((entries) => { for (const entry of entries) { if (entry.isIntersecting) { resolve(); observer.disconnect(); return; } } }, {rootMargin: \"1000px\"}); window.setTimeout(() => { if (root.loadingMsg) { root.loadingMsg.style.opacity = \"1.0\"; } observer.observe(root); }, 0); }); root.state.deferring = false; const _insertNode = (node) => { for (let oldScript of node.querySelectorAll(\"script\")) { let newScript = document.createElement(\"script\"); newScript.type = oldScript.type; newScript.textContent = oldScript.textContent; oldScript.parentNode.replaceChild(newScript, oldScript); } if (root.state.loadingMsg) { root.state.loadingMsg.remove(); root.state.loadingMsg = null; } root.shadowRoot.appendChild(node); }; root.defns.insertContent = ((contentNode, compressed) => { if (compressed) { root.state.deferring = true; } if (root.state.deferring) { root.state.chain = (async () => { await root.state.chain; if (compressed) { const encoded = contentNode.textContent; const blob = new Blob([ Uint8Array.from(atob(encoded), (m) => m.codePointAt(0)) ]); const reader = blob.stream().pipeThrough( new DecompressionStream(\"deflate\") ).pipeThrough( new TextDecoderStream(\"utf-8\") ).getReader(); const parts = []; while (true) { const step = await reader.read(); if (step.done) { break; } parts.push(step.value); } const tpl = document.createElement('template'); tpl.innerHTML = parts.join(\"\"); _insertNode(tpl.content); } else { _insertNode(contentNode.content); } })(); } else { _insertNode(contentNode.content); } }); </script></treescope-run-here><div style=\"display:none\"> <script type=\"application/octet-stream\" >eNqNVE2P0zAQ/StWOGwikeyyiEvbVNoL4oA4ABIHhCrXmSSjdcbBnrQUtP+dcdJ2t7ulor3E8/HmvfGMF4F3FpYFe4BgXA8r7xyrP6p3ARkdzZQHqxk3MFe1I85r3aHdzVTnyIVeG7FvW2TIx8NM9V4sFgPnI3TOu16s5EjMa23uG+8GqnLjrPOzKXWu9qe1lQDBw4rbmaqRJYwYiOeq11WF1OQWap6pW9PGIgR5C9i0YnlTvIswxBqF8zFt/5FvMOAaLbIw1wO7Y2yOxB4poMkD/obJu6f7sLie2rM4tif3A0lNL7ZgPPasor7ySve9RaNjx66dYYjqPejuapmmWbmUhkq9wKqCmoIqFbcYigb4s3T7k6sgzYrWBS5Gv0gDVqseKEq+MxE1Jn3/cc7zQVNlQdw0WDufKhRC84tzJNZ06/x9pp5ycN/EFF0nZkYTjT342vlOk4GC3DbNxvuVAukLj8qnpIV6e5sJDtYqfca6sEANt6os1U0MuUjdAw+epO8KbIBHYu1Akdlz6NBizZHfGBA/HuT/jwqpTBVVblt4+DlA4DvCbryu9153kE49ySLG/EWhfgjt1Mb5GY2HEuUk44LK/+cQWUwXya5p7LSVq3FzZFr7iBUtYPm1go0M+P4mI7vxXNzDLjY98UkktA8ujNUhfJTl3OOmyRFz1ckYJofiD5n0U8Z/nPHl4vrcAlS4USNgmZw+H4livRal8KtMbhLlSMiIbJK4S2N/Xmsacw4qE1m76cEaX4yVAMu9VOOojC/Iqxv51fXT3ZV3iQ48T7KS5Vc/gMRJgEgUOcu/m+DKuA==</script> <treescope-run-here><script type=\"application/octet-stream\"> const root = ( Array.from(document.getElementsByClassName( \"treescope_out_4e66ea59d5fa48a2a1b0d9bef2bceac3\")) .filter((elt) => !elt.dataset['step0']) )[0]; root.dataset['step0'] = 1; root.defns.insertContent( this.parentNode.querySelector('script[type=\"application/octet-stream\"]'), true ); this.parentNode.remove(); </script></treescope-run-here> </div>"
      ],
      "text/plain": [
       "<IPython.core.display.HTML object>"
      ]
     },
     "metadata": {},
     "output_type": "display_data"
    },
    {
     "data": {
      "text/html": [
       "<treescope-run-here><script type=\"application/octet-stream\"> const root = ( Array.from(document.getElementsByClassName( \"treescope_out_4e66ea59d5fa48a2a1b0d9bef2bceac3\")) .filter((elt) => !elt.dataset.stolen) )[0]; root.dataset.stolen = 1; this.parentNode.replaceChild(root, this); </script></treescope-run-here>"
      ],
      "text/plain": [
       "True"
      ]
     },
     "execution_count": 40,
     "metadata": {},
     "output_type": "execute_result"
    }
   ],
   "source": [
    "pz.select([1, 2]).at_instances_of(str).is_empty()"
   ]
  },
  {
   "cell_type": "code",
   "execution_count": 41,
   "metadata": {
    "execution": {
     "iopub.execute_input": "2024-07-26T21:03:10.917057Z",
     "iopub.status.busy": "2024-07-26T21:03:10.916823Z",
     "iopub.status.idle": "2024-07-26T21:03:10.920322Z",
     "shell.execute_reply": "2024-07-26T21:03:10.920446Z"
    },
    "id": "f7aWTHZql0DV"
   },
   "outputs": [
    {
     "data": {
      "text/html": [
       "<script> (()=>{ if (customElements.get('treescope-container') === undefined) { class TreescopeContainer extends HTMLElement { constructor() { super(); this.attachShadow({mode: \"open\"}); this.defns = {}; this.state = {}; } } customElements.define(\"treescope-container\", TreescopeContainer); } if (customElements.get('treescope-run-here') === undefined) { class RunHere extends HTMLElement { constructor() { super() } connectedCallback() { const run = child => { const fn = new Function(child.textContent); child.textContent = \"\"; fn.call(this); this.remove(); }; const child = this.querySelector(\"script\"); if (child) { run(child); } else { new MutationObserver(()=>{ run(this.querySelector(\"script\")); }).observe(this, {childList: true}); } } } customElements.define(\"treescope-run-here\", RunHere); } })(); </script> <treescope-container class=\"treescope_out_6791e162beb248f4bf1751b14fdeba33\" ></treescope-container> <treescope-run-here><script type=\"application/octet-stream\"> const root = ( Array.from(document.getElementsByClassName( \"treescope_out_6791e162beb248f4bf1751b14fdeba33\")) .filter((elt) => !elt.dataset.setup) )[0]; root.dataset.setup = 1; const msg = document.createElement(\"span\"); msg.style = \"color: #aaaaaa; font-family: monospace; transition: opacity 0.2s; opacity: 0.0;\"; msg.textContent = \"(Loading...)\"; root.state.loadingMsg = msg; root.shadowRoot.appendChild(msg); root.state.chain = new Promise((resolve, reject) => { const observer = new IntersectionObserver((entries) => { for (const entry of entries) { if (entry.isIntersecting) { resolve(); observer.disconnect(); return; } } }, {rootMargin: \"1000px\"}); window.setTimeout(() => { if (root.loadingMsg) { root.loadingMsg.style.opacity = \"1.0\"; } observer.observe(root); }, 0); }); root.state.deferring = false; const _insertNode = (node) => { for (let oldScript of node.querySelectorAll(\"script\")) { let newScript = document.createElement(\"script\"); newScript.type = oldScript.type; newScript.textContent = oldScript.textContent; oldScript.parentNode.replaceChild(newScript, oldScript); } if (root.state.loadingMsg) { root.state.loadingMsg.remove(); root.state.loadingMsg = null; } root.shadowRoot.appendChild(node); }; root.defns.insertContent = ((contentNode, compressed) => { if (compressed) { root.state.deferring = true; } if (root.state.deferring) { root.state.chain = (async () => { await root.state.chain; if (compressed) { const encoded = contentNode.textContent; const blob = new Blob([ Uint8Array.from(atob(encoded), (m) => m.codePointAt(0)) ]); const reader = blob.stream().pipeThrough( new DecompressionStream(\"deflate\") ).pipeThrough( new TextDecoderStream(\"utf-8\") ).getReader(); const parts = []; while (true) { const step = await reader.read(); if (step.done) { break; } parts.push(step.value); } const tpl = document.createElement('template'); tpl.innerHTML = parts.join(\"\"); _insertNode(tpl.content); } else { _insertNode(contentNode.content); } })(); } else { _insertNode(contentNode.content); } }); </script></treescope-run-here><div style=\"display:none\"> <script type=\"application/octet-stream\" >eNqNVEuP0zAQ/itWOGwikewDLYK2qbQXxAFxgAOHFarcZJKM1hkbe9JS0P53xklb9lFWKJf4m9f3jWe8CLwzsCzYA4TKOlh5a1n9Vs4GZLQ0Ux6MZtzAXDWWOG90j2Y3U70lG5yuBN92yJCPh5lyXhCDgfMxdc47JyhZEnitq7vW24HqvLLG+tkUOlf709qIg+TDmruZapDFjRiI58rpukZqcwMNz9RV1cUiBHkH2HaCXBbXMQ2xRuF8DNv/5BsMuEaDLMz1wPbomyOxRwpY5QF/wWTd071fnE/tWRzbk/uBpKYXLFQeHauorzzTzhmsdOzYua0YonoPuj9bpmlWLqWhUi+wqqGhoErFHYaiBf4i3f5sa0izorOBi9Eu0oDVygFFyTdVzBqDbr+fsnzUVBsQMw3GzKcKhdD8ai0Jmm6tv8vUQw72m0DR9AhmrCLowDfW95oqKMhu02y8XymQPrOofApaqDdXmeTBRqVPWBcGqOVOlaW6iC4vUvfAgyfpuwIT4C+xbqDI7Gnq0GHDkd/oEH/u5ftHhVSmimq7LTz8GCDwDWE/XtcHr3tIp55kMcf8WSE3hG5q4/yExkOJcpLxgsr/5xBZTBfJtm3NtJWrcXNkWl3MFREw/FrBRgZ8f5OR3Xgu7mAXm574JBLaOxeV0SF8kuXc502TY85VL2OYHIrfZ9JPGf9xxpeL81MLUONGjQnL5PHzkSjWa1EKP8vkIlGWhIzIJvF7aexPa01jzEFlIms3PVjji7GioV+DHydlfEBeXbx/d3n99uHqyrNEB5oPg5LllfiIUdSJkuUfhtXIAw==</script> <treescope-run-here><script type=\"application/octet-stream\"> const root = ( Array.from(document.getElementsByClassName( \"treescope_out_6791e162beb248f4bf1751b14fdeba33\")) .filter((elt) => !elt.dataset['step0']) )[0]; root.dataset['step0'] = 1; root.defns.insertContent( this.parentNode.querySelector('script[type=\"application/octet-stream\"]'), true ); this.parentNode.remove(); </script></treescope-run-here> </div>"
      ],
      "text/plain": [
       "<IPython.core.display.HTML object>"
      ]
     },
     "metadata": {},
     "output_type": "display_data"
    },
    {
     "data": {
      "text/html": [
       "<treescope-run-here><script type=\"application/octet-stream\"> const root = ( Array.from(document.getElementsByClassName( \"treescope_out_6791e162beb248f4bf1751b14fdeba33\")) .filter((elt) => !elt.dataset.stolen) )[0]; root.dataset.stolen = 1; this.parentNode.replaceChild(root, this); </script></treescope-run-here>"
      ],
      "text/plain": [
       "2"
      ]
     },
     "execution_count": 41,
     "metadata": {},
     "output_type": "execute_result"
    }
   ],
   "source": [
    "pz.select([1, 2]).at_instances_of(int).count()"
   ]
  },
  {
   "cell_type": "code",
   "execution_count": 42,
   "metadata": {
    "execution": {
     "iopub.execute_input": "2024-07-26T21:03:10.924308Z",
     "iopub.status.busy": "2024-07-26T21:03:10.924068Z",
     "iopub.status.idle": "2024-07-26T21:03:10.927622Z",
     "shell.execute_reply": "2024-07-26T21:03:10.927755Z"
    },
    "id": "u9uMT3qll1UI"
   },
   "outputs": [
    {
     "data": {
      "text/html": [
       "<script> (()=>{ if (customElements.get('treescope-container') === undefined) { class TreescopeContainer extends HTMLElement { constructor() { super(); this.attachShadow({mode: \"open\"}); this.defns = {}; this.state = {}; } } customElements.define(\"treescope-container\", TreescopeContainer); } if (customElements.get('treescope-run-here') === undefined) { class RunHere extends HTMLElement { constructor() { super() } connectedCallback() { const run = child => { const fn = new Function(child.textContent); child.textContent = \"\"; fn.call(this); this.remove(); }; const child = this.querySelector(\"script\"); if (child) { run(child); } else { new MutationObserver(()=>{ run(this.querySelector(\"script\")); }).observe(this, {childList: true}); } } } customElements.define(\"treescope-run-here\", RunHere); } })(); </script> <treescope-container class=\"treescope_out_8796aa61b0874839887c17a76e59c98a\" ></treescope-container> <treescope-run-here><script type=\"application/octet-stream\"> const root = ( Array.from(document.getElementsByClassName( \"treescope_out_8796aa61b0874839887c17a76e59c98a\")) .filter((elt) => !elt.dataset.setup) )[0]; root.dataset.setup = 1; const msg = document.createElement(\"span\"); msg.style = \"color: #aaaaaa; font-family: monospace; transition: opacity 0.2s; opacity: 0.0;\"; msg.textContent = \"(Loading...)\"; root.state.loadingMsg = msg; root.shadowRoot.appendChild(msg); root.state.chain = new Promise((resolve, reject) => { const observer = new IntersectionObserver((entries) => { for (const entry of entries) { if (entry.isIntersecting) { resolve(); observer.disconnect(); return; } } }, {rootMargin: \"1000px\"}); window.setTimeout(() => { if (root.loadingMsg) { root.loadingMsg.style.opacity = \"1.0\"; } observer.observe(root); }, 0); }); root.state.deferring = false; const _insertNode = (node) => { for (let oldScript of node.querySelectorAll(\"script\")) { let newScript = document.createElement(\"script\"); newScript.type = oldScript.type; newScript.textContent = oldScript.textContent; oldScript.parentNode.replaceChild(newScript, oldScript); } if (root.state.loadingMsg) { root.state.loadingMsg.remove(); root.state.loadingMsg = null; } root.shadowRoot.appendChild(node); }; root.defns.insertContent = ((contentNode, compressed) => { if (compressed) { root.state.deferring = true; } if (root.state.deferring) { root.state.chain = (async () => { await root.state.chain; if (compressed) { const encoded = contentNode.textContent; const blob = new Blob([ Uint8Array.from(atob(encoded), (m) => m.codePointAt(0)) ]); const reader = blob.stream().pipeThrough( new DecompressionStream(\"deflate\") ).pipeThrough( new TextDecoderStream(\"utf-8\") ).getReader(); const parts = []; while (true) { const step = await reader.read(); if (step.done) { break; } parts.push(step.value); } const tpl = document.createElement('template'); tpl.innerHTML = parts.join(\"\"); _insertNode(tpl.content); } else { _insertNode(contentNode.content); } })(); } else { _insertNode(contentNode.content); } }); </script></treescope-run-here><div style=\"display:none\"> <script type=\"application/octet-stream\" >eNqNVE2P0zAQ/StWOGwikeyyiEvbVNrLigPiAAcOCFVuMklGdcbGnrQUtP+dcdJ2v0pFe4nn48174xkvAu8NLAv2AKGyDlbeWlZ/lLMBGS3NlAejGbcwV40lzhvdo9nPVG/JBqcrse86ZMjHw0w5LxaDgfMROue9EytZEvNaV5vW24HqvLLG+tmUOleH09pIgOBhzd1MNcgSRgzEc+V0XSO1uYGGZ+q26mIRgrwDbDuxvCs+RBhijcL5lHb4yLcYcI0GWZjrge0pNkdijxSwygP+hsl7oPuwuJ7aszi1J/cDSU0vtlB5dKyivvJKO2ew0rFj17ZiiOo96P5qmaZZuZSGSr3AqoaGgioVdxiKFviLdPuzrSHNis4GLka/SANWKwcUJd9VETUmff9xzvNRU21A3DQYM58qFELzq7Uk1nRn/SZTTznYb2KKrmdmxioaHfjG+l5TBQXZXZqN9ysF0lcelU9JC/X+NhMcbFT6gnVhgFruVFmqmxhykboHHjxJ3xWYAI/EuoEis5fQocOGI78xIH48yP8fFVKZKqrtrvDwc4DAd4T9eF33XveQTj3JIsb8VSE3hG5q4/yMxmOJcpJxQeX/c4gspotk27Zm2srVuDkyrS5iRQsYfqtgKwN+uMnIbjwXG9jHpic+iYQOwUVldAifZDkPuGlywlz1MobJsfhDJv2U8R9nfLm4PrcANW7VCFgmz5+PRLFei1L4VSY3ibIkZEQ2SdylsT+vNY05R5WJrN30YI0vxkqA5V7qcVTGF+TNjfya5unuyrtER57PspLlvZY5k0CJEI2iZ/kXZgvLAw==</script> <treescope-run-here><script type=\"application/octet-stream\"> const root = ( Array.from(document.getElementsByClassName( \"treescope_out_8796aa61b0874839887c17a76e59c98a\")) .filter((elt) => !elt.dataset['step0']) )[0]; root.dataset['step0'] = 1; root.defns.insertContent( this.parentNode.querySelector('script[type=\"application/octet-stream\"]'), true ); this.parentNode.remove(); </script></treescope-run-here> </div>"
      ],
      "text/plain": [
       "<IPython.core.display.HTML object>"
      ]
     },
     "metadata": {},
     "output_type": "display_data"
    },
    {
     "data": {
      "text/html": [
       "<treescope-run-here><script type=\"application/octet-stream\"> const root = ( Array.from(document.getElementsByClassName( \"treescope_out_8796aa61b0874839887c17a76e59c98a\")) .filter((elt) => !elt.dataset.stolen) )[0]; root.dataset.stolen = 1; this.parentNode.replaceChild(root, this); </script></treescope-run-here>"
      ],
      "text/plain": [
       "False"
      ]
     },
     "execution_count": 42,
     "metadata": {},
     "output_type": "execute_result"
    }
   ],
   "source": [
    "pz.select([1, 2]).at_instances_of(int).is_empty()"
   ]
  },
  {
   "cell_type": "markdown",
   "metadata": {
    "id": "TG5VaFeZl2qd"
   },
   "source": [
    "If you already know how many objects should be selected, you can also add an assertion in the middle of a chain:"
   ]
  },
  {
   "cell_type": "code",
   "execution_count": 43,
   "metadata": {
    "execution": {
     "iopub.execute_input": "2024-07-26T21:03:10.932556Z",
     "iopub.status.busy": "2024-07-26T21:03:10.932280Z",
     "iopub.status.idle": "2024-07-26T21:03:10.936486Z",
     "shell.execute_reply": "2024-07-26T21:03:10.936611Z"
    },
    "id": "bNBzV-pQl53a"
   },
   "outputs": [
    {
     "data": {
      "text/html": [
       "<script> (()=>{ if (customElements.get('treescope-container') === undefined) { class TreescopeContainer extends HTMLElement { constructor() { super(); this.attachShadow({mode: \"open\"}); this.defns = {}; this.state = {}; } } customElements.define(\"treescope-container\", TreescopeContainer); } if (customElements.get('treescope-run-here') === undefined) { class RunHere extends HTMLElement { constructor() { super() } connectedCallback() { const run = child => { const fn = new Function(child.textContent); child.textContent = \"\"; fn.call(this); this.remove(); }; const child = this.querySelector(\"script\"); if (child) { run(child); } else { new MutationObserver(()=>{ run(this.querySelector(\"script\")); }).observe(this, {childList: true}); } } } customElements.define(\"treescope-run-here\", RunHere); } })(); </script> <treescope-container class=\"treescope_out_13641bf0ffb84d32ada6548e7bccecee\" ></treescope-container> <treescope-run-here><script type=\"application/octet-stream\"> const root = ( Array.from(document.getElementsByClassName( \"treescope_out_13641bf0ffb84d32ada6548e7bccecee\")) .filter((elt) => !elt.dataset.setup) )[0]; root.dataset.setup = 1; const msg = document.createElement(\"span\"); msg.style = \"color: #aaaaaa; font-family: monospace; transition: opacity 0.2s; opacity: 0.0;\"; msg.textContent = \"(Loading...)\"; root.state.loadingMsg = msg; root.shadowRoot.appendChild(msg); root.state.chain = new Promise((resolve, reject) => { const observer = new IntersectionObserver((entries) => { for (const entry of entries) { if (entry.isIntersecting) { resolve(); observer.disconnect(); return; } } }, {rootMargin: \"1000px\"}); window.setTimeout(() => { if (root.loadingMsg) { root.loadingMsg.style.opacity = \"1.0\"; } observer.observe(root); }, 0); }); root.state.deferring = false; const _insertNode = (node) => { for (let oldScript of node.querySelectorAll(\"script\")) { let newScript = document.createElement(\"script\"); newScript.type = oldScript.type; newScript.textContent = oldScript.textContent; oldScript.parentNode.replaceChild(newScript, oldScript); } if (root.state.loadingMsg) { root.state.loadingMsg.remove(); root.state.loadingMsg = null; } root.shadowRoot.appendChild(node); }; root.defns.insertContent = ((contentNode, compressed) => { if (compressed) { root.state.deferring = true; } if (root.state.deferring) { root.state.chain = (async () => { await root.state.chain; if (compressed) { const encoded = contentNode.textContent; const blob = new Blob([ Uint8Array.from(atob(encoded), (m) => m.codePointAt(0)) ]); const reader = blob.stream().pipeThrough( new DecompressionStream(\"deflate\") ).pipeThrough( new TextDecoderStream(\"utf-8\") ).getReader(); const parts = []; while (true) { const step = await reader.read(); if (step.done) { break; } parts.push(step.value); } const tpl = document.createElement('template'); tpl.innerHTML = parts.join(\"\"); _insertNode(tpl.content); } else { _insertNode(contentNode.content); } })(); } else { _insertNode(contentNode.content); } }); </script></treescope-run-here><div style=\"display:none\"> <script type=\"application/octet-stream\" >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</script> <treescope-run-here><script type=\"application/octet-stream\"> const root = ( Array.from(document.getElementsByClassName( \"treescope_out_13641bf0ffb84d32ada6548e7bccecee\")) .filter((elt) => !elt.dataset['step0']) )[0]; root.dataset['step0'] = 1; root.defns.insertContent( this.parentNode.querySelector('script[type=\"application/octet-stream\"]'), true ); this.parentNode.remove(); </script></treescope-run-here> </div>"
      ],
      "text/plain": [
       "<IPython.core.display.HTML object>"
      ]
     },
     "metadata": {},
     "output_type": "display_data"
    },
    {
     "data": {
      "text/html": [
       "<treescope-run-here><script type=\"application/octet-stream\"> const root = ( Array.from(document.getElementsByClassName( \"treescope_out_13641bf0ffb84d32ada6548e7bccecee\")) .filter((elt) => !elt.dataset.stolen) )[0]; root.dataset.stolen = 1; this.parentNode.replaceChild(root, this); </script></treescope-run-here>"
      ],
      "text/plain": [
       "[2, 3]"
      ]
     },
     "execution_count": 43,
     "metadata": {},
     "output_type": "execute_result"
    }
   ],
   "source": [
    "pz.select([1, 2]).at_instances_of(int).assert_count_is(2).apply(lambda x: x + 1)"
   ]
  },
  {
   "cell_type": "markdown",
   "metadata": {
    "id": "fd6gwn3JlaSr"
   },
   "source": [
    "### Retrieving values\n",
    "\n",
    "You can extract all of the selected values using `.get_sequence()`:"
   ]
  },
  {
   "cell_type": "code",
   "execution_count": 44,
   "metadata": {
    "execution": {
     "iopub.execute_input": "2024-07-26T21:03:10.941263Z",
     "iopub.status.busy": "2024-07-26T21:03:10.940985Z",
     "iopub.status.idle": "2024-07-26T21:03:10.946780Z",
     "shell.execute_reply": "2024-07-26T21:03:10.946898Z"
    },
    "id": "SkCQmesoBf3o"
   },
   "outputs": [
    {
     "data": {
      "text/html": [
       "<script> (()=>{ if (customElements.get('treescope-container') === undefined) { class TreescopeContainer extends HTMLElement { constructor() { super(); this.attachShadow({mode: \"open\"}); this.defns = {}; this.state = {}; } } customElements.define(\"treescope-container\", TreescopeContainer); } if (customElements.get('treescope-run-here') === undefined) { class RunHere extends HTMLElement { constructor() { super() } connectedCallback() { const run = child => { const fn = new Function(child.textContent); child.textContent = \"\"; fn.call(this); this.remove(); }; const child = this.querySelector(\"script\"); if (child) { run(child); } else { new MutationObserver(()=>{ run(this.querySelector(\"script\")); }).observe(this, {childList: true}); } } } customElements.define(\"treescope-run-here\", RunHere); } })(); </script> <treescope-container class=\"treescope_out_7601a322ba8945c7a104cc9b3c0facc5\" ></treescope-container> <treescope-run-here><script type=\"application/octet-stream\"> const root = ( Array.from(document.getElementsByClassName( \"treescope_out_7601a322ba8945c7a104cc9b3c0facc5\")) .filter((elt) => !elt.dataset.setup) )[0]; root.dataset.setup = 1; const msg = document.createElement(\"span\"); msg.style = \"color: #aaaaaa; font-family: monospace; transition: opacity 0.2s; opacity: 0.0;\"; msg.textContent = \"(Loading...)\"; root.state.loadingMsg = msg; root.shadowRoot.appendChild(msg); root.state.chain = new Promise((resolve, reject) => { const observer = new IntersectionObserver((entries) => { for (const entry of entries) { if (entry.isIntersecting) { resolve(); observer.disconnect(); return; } } }, {rootMargin: \"1000px\"}); window.setTimeout(() => { if (root.loadingMsg) { root.loadingMsg.style.opacity = \"1.0\"; } observer.observe(root); }, 0); }); root.state.deferring = false; const _insertNode = (node) => { for (let oldScript of node.querySelectorAll(\"script\")) { let newScript = document.createElement(\"script\"); newScript.type = oldScript.type; newScript.textContent = oldScript.textContent; oldScript.parentNode.replaceChild(newScript, oldScript); } if (root.state.loadingMsg) { root.state.loadingMsg.remove(); root.state.loadingMsg = null; } root.shadowRoot.appendChild(node); }; root.defns.insertContent = ((contentNode, compressed) => { if (compressed) { root.state.deferring = true; } if (root.state.deferring) { root.state.chain = (async () => { await root.state.chain; if (compressed) { const encoded = contentNode.textContent; const blob = new Blob([ Uint8Array.from(atob(encoded), (m) => m.codePointAt(0)) ]); const reader = blob.stream().pipeThrough( new DecompressionStream(\"deflate\") ).pipeThrough( new TextDecoderStream(\"utf-8\") ).getReader(); const parts = []; while (true) { const step = await reader.read(); if (step.done) { break; } parts.push(step.value); } const tpl = document.createElement('template'); tpl.innerHTML = parts.join(\"\"); _insertNode(tpl.content); } else { _insertNode(contentNode.content); } })(); } else { _insertNode(contentNode.content); } }); </script></treescope-run-here><div style=\"display:none\"> <script type=\"application/octet-stream\" >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</script> <treescope-run-here><script type=\"application/octet-stream\"> const root = ( Array.from(document.getElementsByClassName( \"treescope_out_7601a322ba8945c7a104cc9b3c0facc5\")) .filter((elt) => !elt.dataset['step0']) )[0]; root.dataset['step0'] = 1; root.defns.insertContent( this.parentNode.querySelector('script[type=\"application/octet-stream\"]'), true ); this.parentNode.remove(); </script></treescope-run-here> </div>"
      ],
      "text/plain": [
       "<IPython.core.display.HTML object>"
      ]
     },
     "metadata": {},
     "output_type": "display_data"
    },
    {
     "data": {
      "text/html": [
       "<div style=\"display:none\"> <script type=\"application/octet-stream\" >eNqVUk2P2jAQ/Ssjr7QKImQDhHwsH1K720p76aE99IAQcpwJuDJx6hjUqNr/3kkIsNtuK3pI4onfm+c3frNMHqCytcI5y2RVKl7fQ6ELZCCzOcu1WWeYozGYrXkuuM/jaBIHGAQiSfzxcOhPRmEUpmE4SdhiVpW8oHfTb+EJrYjO09TgAX5CW97DTRiPuO9P4Xl2dwS2LBCKV9WcvSSxxa2y02/8h/fOGF47S9+FoQsjF8YuBC5MXAhdiFyIXUhWLmS2LnEuCzse9W43dkoC7XlOH/K6mP2H4SROUy4ixAjTIEljHudRKIIwEFmIsY8Xw1cb8Fx4+zkfP1ea/9OANYiV0CUOzL4YbNE0ExRGlhbaBoyXpZKCW6mLOy0s2kFFHL5jC6GLilDcbNA+ZRXMYcmuv14X2PWjWU2PYpkWRmtLUnYrK4+EP1P5SWfo9KbQHYgcdaAO7n3fo6m/oEJhtXGYdza9brbZmZobvtlh0VH3zdITZNbiY1d+7BB/yj0ounYinnp4NDgssoetVJlzAnmiQbXntWaPPepCGQFHoQVJZAqyhNllpp7CYmO39Lff71HqG9xx86USlR8UNsv39ROJndhLuSKBhlPpvRH4SGH961BumrAy6MNv9GPpGaRwC/wq7dY5d/NyaaqTduuUCJddgzt9aG/m+TymV41eza7XBLRNHmXzjVj+AiD7eaw=</script> <treescope-run-here><script type=\"application/octet-stream\"> const root = ( Array.from(document.getElementsByClassName( \"treescope_out_7601a322ba8945c7a104cc9b3c0facc5\")) .filter((elt) => !elt.dataset['step1']) )[0]; root.dataset['step1'] = 1; root.defns.insertContent( this.parentNode.querySelector('script[type=\"application/octet-stream\"]'), true ); this.parentNode.remove(); </script></treescope-run-here> </div>"
      ],
      "text/plain": [
       "<IPython.core.display.HTML object>"
      ]
     },
     "metadata": {},
     "output_type": "display_data"
    },
    {
     "data": {
      "text/html": [
       "<treescope-run-here><script type=\"application/octet-stream\"> const root = ( Array.from(document.getElementsByClassName( \"treescope_out_7601a322ba8945c7a104cc9b3c0facc5\")) .filter((elt) => !elt.dataset.stolen) )[0]; root.dataset.stolen = 1; this.parentNode.replaceChild(root, this); </script></treescope-run-here>"
      ],
      "text/plain": [
       "(<jax.Array([0, 1, 2, 3, 4, 5, 6, 7, 8, 9], dtype=int32)>,\n",
       " <jax.Array([0., 0., 0., 0., 0., 0., 0.], dtype=float32)>)"
      ]
     },
     "execution_count": 44,
     "metadata": {},
     "output_type": "execute_result"
    }
   ],
   "source": [
    "selection = (\n",
    "    pz.select(my_nested_object)\n",
    "    .at_subtrees_where(\n",
    "        lambda subtree: isinstance(subtree, jax.Array) and subtree.size <= 10)\n",
    ")\n",
    "\n",
    "selection.get_sequence()"
   ]
  },
  {
   "cell_type": "markdown",
   "metadata": {
    "id": "Dp_fK7Mkd38c"
   },
   "source": [
    "Or get them in a dictionary form with `get_by_path()` (equivalent to just accessing the `.selected_by_path` attribute):"
   ]
  },
  {
   "cell_type": "code",
   "execution_count": 45,
   "metadata": {
    "execution": {
     "iopub.execute_input": "2024-07-26T21:03:10.951944Z",
     "iopub.status.busy": "2024-07-26T21:03:10.951706Z",
     "iopub.status.idle": "2024-07-26T21:03:10.958070Z",
     "shell.execute_reply": "2024-07-26T21:03:10.957893Z"
    },
    "id": "vx86PfFId_OQ"
   },
   "outputs": [
    {
     "data": {
      "text/html": [
       "<script> (()=>{ if (customElements.get('treescope-container') === undefined) { class TreescopeContainer extends HTMLElement { constructor() { super(); this.attachShadow({mode: \"open\"}); this.defns = {}; this.state = {}; } } customElements.define(\"treescope-container\", TreescopeContainer); } if (customElements.get('treescope-run-here') === undefined) { class RunHere extends HTMLElement { constructor() { super() } connectedCallback() { const run = child => { const fn = new Function(child.textContent); child.textContent = \"\"; fn.call(this); this.remove(); }; const child = this.querySelector(\"script\"); if (child) { run(child); } else { new MutationObserver(()=>{ run(this.querySelector(\"script\")); }).observe(this, {childList: true}); } } } customElements.define(\"treescope-run-here\", RunHere); } })(); </script> <treescope-container class=\"treescope_out_98dc5ef84fe54f10a33adc7ffcd7801f\" ></treescope-container> <treescope-run-here><script type=\"application/octet-stream\"> const root = ( Array.from(document.getElementsByClassName( \"treescope_out_98dc5ef84fe54f10a33adc7ffcd7801f\")) .filter((elt) => !elt.dataset.setup) )[0]; root.dataset.setup = 1; const msg = document.createElement(\"span\"); msg.style = \"color: #aaaaaa; font-family: monospace; transition: opacity 0.2s; opacity: 0.0;\"; msg.textContent = \"(Loading...)\"; root.state.loadingMsg = msg; root.shadowRoot.appendChild(msg); root.state.chain = new Promise((resolve, reject) => { const observer = new IntersectionObserver((entries) => { for (const entry of entries) { if (entry.isIntersecting) { resolve(); observer.disconnect(); return; } } }, {rootMargin: \"1000px\"}); window.setTimeout(() => { if (root.loadingMsg) { root.loadingMsg.style.opacity = \"1.0\"; } observer.observe(root); }, 0); }); root.state.deferring = false; const _insertNode = (node) => { for (let oldScript of node.querySelectorAll(\"script\")) { let newScript = document.createElement(\"script\"); newScript.type = oldScript.type; newScript.textContent = oldScript.textContent; oldScript.parentNode.replaceChild(newScript, oldScript); } if (root.state.loadingMsg) { root.state.loadingMsg.remove(); root.state.loadingMsg = null; } root.shadowRoot.appendChild(node); }; root.defns.insertContent = ((contentNode, compressed) => { if (compressed) { root.state.deferring = true; } if (root.state.deferring) { root.state.chain = (async () => { await root.state.chain; if (compressed) { const encoded = contentNode.textContent; const blob = new Blob([ Uint8Array.from(atob(encoded), (m) => m.codePointAt(0)) ]); const reader = blob.stream().pipeThrough( new DecompressionStream(\"deflate\") ).pipeThrough( new TextDecoderStream(\"utf-8\") ).getReader(); const parts = []; while (true) { const step = await reader.read(); if (step.done) { break; } parts.push(step.value); } const tpl = document.createElement('template'); tpl.innerHTML = parts.join(\"\"); _insertNode(tpl.content); } else { _insertNode(contentNode.content); } })(); } else { _insertNode(contentNode.content); } }); </script></treescope-run-here><div style=\"display:none\"> <script type=\"application/octet-stream\" >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</script> <treescope-run-here><script type=\"application/octet-stream\"> const root = ( Array.from(document.getElementsByClassName( \"treescope_out_98dc5ef84fe54f10a33adc7ffcd7801f\")) .filter((elt) => !elt.dataset['step0']) )[0]; root.dataset['step0'] = 1; root.defns.insertContent( this.parentNode.querySelector('script[type=\"application/octet-stream\"]'), true ); this.parentNode.remove(); </script></treescope-run-here> </div>"
      ],
      "text/plain": [
       "<IPython.core.display.HTML object>"
      ]
     },
     "metadata": {},
     "output_type": "display_data"
    },
    {
     "data": {
      "text/html": [
       "<div style=\"display:none\"> <script type=\"application/octet-stream\" >eNqVUl1vmzAU/StXrlQR1aGEsADNh7S1m9SXPWwPe4iiyDGXxJODmXGioar/fRdCknbrpuwB8MXn3ONzfSaZ2kPlao1Tlqmq1KK+g8IUyEBlU5Ybu8wwR2sxW4phgDKOgyRK8gjTVKRiMMzDJIqjoYhiyWaTqhQFvZt+M18aTXSxWlncwxO05R1cjZJQBMEYnie3B2DLAqlFVU3ZSxKbXWs3/i5++u+tFbU3DzgMOIQchhwiDu84jDjEHBIO6YJD5uoSp6pww7B3vXZjEmjPc/yQ19nkPwzHyWowCHEUYBZGIzlIMViFKcokz6VMkuBs+GIDPoe3n9Pxc23EPw04i1hJU2Lf7or+Bm0zQWlV6aBtwERZaiWFU6a4NdKh61fEEVs2k6aoCCXsGt1jVsEU5uzy6+XALh/NYnwQy4y0xjiSchtV+ST8hcrPJkOvN4buQOSoA3Vw/8cObf0VNUpnrMf8k+lls81O1NyK9RaLjrprlr4ksw4fuvJTh/hT7l7TtRPx2MOnwWGR3W+UzrwjyJcNqj2vszvsURfKCHgaHSgiU5AVTM4z9TUWa7ehvzc3PUp9gztsvlSi8qPGZvmhfiSxI3uuFiTQcCqzsxIfKKx/HcpVE1YGN/Ab/VD6FincEr8pt/FO3fxc2eqo3TolwnnX4tbs25t5Po3pVaNXs+s1AW2TR9l8I5a/ACJLeS4=</script> <treescope-run-here><script type=\"application/octet-stream\"> const root = ( Array.from(document.getElementsByClassName( \"treescope_out_98dc5ef84fe54f10a33adc7ffcd7801f\")) .filter((elt) => !elt.dataset['step1']) )[0]; root.dataset['step1'] = 1; root.defns.insertContent( this.parentNode.querySelector('script[type=\"application/octet-stream\"]'), true ); this.parentNode.remove(); </script></treescope-run-here> </div>"
      ],
      "text/plain": [
       "<IPython.core.display.HTML object>"
      ]
     },
     "metadata": {},
     "output_type": "display_data"
    },
    {
     "data": {
      "text/html": [
       "<treescope-run-here><script type=\"application/octet-stream\"> const root = ( Array.from(document.getElementsByClassName( \"treescope_out_98dc5ef84fe54f10a33adc7ffcd7801f\")) .filter((elt) => !elt.dataset.stolen) )[0]; root.dataset.stolen = 1; this.parentNode.replaceChild(root, this); </script></treescope-run-here>"
      ],
      "text/plain": [
       "OrderedDict([((DictKey(key='b'),),\n",
       "              <jax.Array([0, 1, 2, 3, 4, 5, 6, 7, 8, 9], dtype=int32)>),\n",
       "             ((DictKey(key='c'), SequenceKey(idx=1), DictKey(key='value')),\n",
       "              <jax.Array([0., 0., 0., 0., 0., 0., 0.], dtype=float32)>)])"
      ]
     },
     "execution_count": 45,
     "metadata": {},
     "output_type": "execute_result"
    }
   ],
   "source": [
    "selection.get_by_path()"
   ]
  },
  {
   "cell_type": "markdown",
   "metadata": {
    "id": "fFsp4DQ5pmMu"
   },
   "source": [
    "If you know there's exactly one value, you can just call `.get()`"
   ]
  },
  {
   "cell_type": "code",
   "execution_count": 46,
   "metadata": {
    "execution": {
     "iopub.execute_input": "2024-07-26T21:03:10.962563Z",
     "iopub.status.busy": "2024-07-26T21:03:10.962287Z",
     "iopub.status.idle": "2024-07-26T21:03:10.967996Z",
     "shell.execute_reply": "2024-07-26T21:03:10.967819Z"
    },
    "id": "hYFSKPPinEdk"
   },
   "outputs": [
    {
     "data": {
      "text/html": [
       "<script> (()=>{ if (customElements.get('treescope-container') === undefined) { class TreescopeContainer extends HTMLElement { constructor() { super(); this.attachShadow({mode: \"open\"}); this.defns = {}; this.state = {}; } } customElements.define(\"treescope-container\", TreescopeContainer); } if (customElements.get('treescope-run-here') === undefined) { class RunHere extends HTMLElement { constructor() { super() } connectedCallback() { const run = child => { const fn = new Function(child.textContent); child.textContent = \"\"; fn.call(this); this.remove(); }; const child = this.querySelector(\"script\"); if (child) { run(child); } else { new MutationObserver(()=>{ run(this.querySelector(\"script\")); }).observe(this, {childList: true}); } } } customElements.define(\"treescope-run-here\", RunHere); } })(); </script> <treescope-container class=\"treescope_out_d05f69fe50444c9cba09f348cce54a21\" ></treescope-container> <treescope-run-here><script type=\"application/octet-stream\"> const root = ( Array.from(document.getElementsByClassName( \"treescope_out_d05f69fe50444c9cba09f348cce54a21\")) .filter((elt) => !elt.dataset.setup) )[0]; root.dataset.setup = 1; const msg = document.createElement(\"span\"); msg.style = \"color: #aaaaaa; font-family: monospace; transition: opacity 0.2s; opacity: 0.0;\"; msg.textContent = \"(Loading...)\"; root.state.loadingMsg = msg; root.shadowRoot.appendChild(msg); root.state.chain = new Promise((resolve, reject) => { const observer = new IntersectionObserver((entries) => { for (const entry of entries) { if (entry.isIntersecting) { resolve(); observer.disconnect(); return; } } }, {rootMargin: \"1000px\"}); window.setTimeout(() => { if (root.loadingMsg) { root.loadingMsg.style.opacity = \"1.0\"; } observer.observe(root); }, 0); }); root.state.deferring = false; const _insertNode = (node) => { for (let oldScript of node.querySelectorAll(\"script\")) { let newScript = document.createElement(\"script\"); newScript.type = oldScript.type; newScript.textContent = oldScript.textContent; oldScript.parentNode.replaceChild(newScript, oldScript); } if (root.state.loadingMsg) { root.state.loadingMsg.remove(); root.state.loadingMsg = null; } root.shadowRoot.appendChild(node); }; root.defns.insertContent = ((contentNode, compressed) => { if (compressed) { root.state.deferring = true; } if (root.state.deferring) { root.state.chain = (async () => { await root.state.chain; if (compressed) { const encoded = contentNode.textContent; const blob = new Blob([ Uint8Array.from(atob(encoded), (m) => m.codePointAt(0)) ]); const reader = blob.stream().pipeThrough( new DecompressionStream(\"deflate\") ).pipeThrough( new TextDecoderStream(\"utf-8\") ).getReader(); const parts = []; while (true) { const step = await reader.read(); if (step.done) { break; } parts.push(step.value); } const tpl = document.createElement('template'); tpl.innerHTML = parts.join(\"\"); _insertNode(tpl.content); } else { _insertNode(contentNode.content); } })(); } else { _insertNode(contentNode.content); } }); </script></treescope-run-here><div style=\"display:none\"> <script type=\"application/octet-stream\" >eNrFGAtT4kj6r/QwVQucEl6CikpdQF7OoKM4o+PuFtdJOklL6I6dDohb/vf7ugMIiO7s7dwdVJHQ/b37e/ZxJGcBqRtSEBLZPCRDwblEf6CQR1RSzmpIkABLOiFHyOVM5lw8psGshsac8SjENqxPfSpJTv+poVDASkAjmdOkc3IWwirjDJYtbI88wWPm5GwecFFLUI/Q/J8VAADQo470a8ilEsCYJEweoRA7DmVeLiCurKGS7SsmjOR8Qj0fVopGRZFhElOQeYk2f8lNaEQtGlAJkuNY8iVsjjIpKIuonYvoE0l25+I+H+cT8xwvzZMTMQOeAtYiW9BQIqXfSRqHYUBtrCyW57YkSntB8Dhdz2SyJ3UwKPCLJHKIyyJ0gqRPI8Mj8gqsfc4dkskaPo+kofdBNSLRMCRMqWzaiqpC+vX3bTtdzJyAwDaLg+Ao4WCAmAPOGaxmplyMsmhVBn4DS2prbVlSWy2GRLhcjDGzicH4NJPV5wsMMq92UC5BOkblUhboUBdlNqQ2AsI86aOTE1RQIO+KLoiMBQO7IxJE5EUwP2ZKsk3SkU9dqeTTAOrlGb5vcMiAVzGHTw1BHmISSZPRsT6utsBjkklsklU0jl4xCuPIT8x4tEXHBYuTRI13tPxxGZQUyUFK7nlBEpVDHTngraGipVZIIHcRmYCDz09SSaf/GyMyU0ZPiZQSaA5s2AGOos8QnHO6mdSS5nAMbphaMH/Ogj3B/bWP14/z2wLAoROkCZ6k1tNHCklsgabk8SRVSCHOQBhQmwHce26/XdeMwllomYKwSxKWzhjDSMWupz1FJ5CPuFysFCETPCuSRAjiDENIKsTngUPEKuC++s5zmqZZQ1RiCGKF7AI4tkAWBkK+kQ2f0TrYMBEfoB0aAdPZIuttAqI6CrBFglrNIhBQZEUqW3+OtvJLMl+uqFLfPEMWjl54UabzoRVwlULf5OnzCRGvOTtYjCKCPThH9hq7xrjMbCz5OMrUNc36VjtonJrtE3tEnGwW/SP7IoNC3Y60gF+TUKfwGkr/VqpYdvr/Kd460ptCVv8HQqpzVIxjEakDDDkUMiK28KXRz2OrQ0EzyumAjN7y8Z/D9UU9SR7lay4GjYYuFZEccjZU7r8ltN4LJaNUUdG09ajQ3xY/OfFNEZVWYyw8aD0SMXRAP/9NbpAPw5kVSwk1f1sCetne5rQplNqAAkNCP7cd+DdS3HNSG+1guo/BKygO0GA2tngQoYtYKn0d1Eww4RnOIDByU2KNoLVLMu8Ykr0PORwaLyYBneKIOMuG8CMpqO/RazdPsHXHVjAOyXhTyyQ+tmixPd29YBpTHA1tqANg2CU+duVa9Vjk6fd4buCss1w1PZpgkcnlHCxxDjM4WN0TZFeXFRPV6AjMFt6syaJihAhYDLrYHI/lX1NlKQEcDCXOh3VJNEv0gY5DLiRmr2hbgo8IG6qVl2T059ZdQVux5+KYnw3VNoBgztCGptMRhM1FXW/rgeY64E/KriuhMy+ka6Fq48DOwOwBjW8xfNS9khFJrPCX8v7XJLG4gBZmLonDJeiupFg1XuRj1fFMsWAQUsNFyl5Y2XWxXSxvAQyhpfxjOWKJ+USl8tJc/flSrmDohPkyx9X0FIZFzhPYoXAgmWK54hBvF3HwVY+gAoRn1fZ3E98NgS1kAr2E5vZ7JcqrlPnTTLp2mAtlno2prz0yCHAIyefPG7i/np3f5pC0bZqHBiKPEKXOmzA/Q45tLH7iwKtmEPTBFALPDFfwMcw1djxWM4nK2ZExwQEMP5ls1og4TD06k6vpRT2NpJyoyeUHC0oqjbIou5wVI5/AgAyTGJmi5mAwUNoM1JoaD/UmDF96IhjMmJ351z/nRcxWxeE/LGirIwRTA3IwX5vO7yb2ChCdkbBrKBZBRmXXmtrPT7nrlo4syN/VvV2ncNjpe2bD1J/epWly/da4msJvt22aLfO9T2Nsmt6If3J6rUZz+t00r783z8x+r9E0295jr/vZl1GjT4lXbp/elj73qt8ngzCmX/qV6+LZbe/qW39y03+SX2btdnPnxhtd08Zpwaenl/FZy+ncF7pW3p30nPDhU9V/uKH0Mu6zjt91v0rza7VxLvbMdo+NWlX7axyznavKgx2NphO3HeQfHr0WP/Css2nnoNg188y8qnwW4qx4teM9Fa6cgnnmFr3z/ea0c1/yCnwWX+3vj1vF6rR7e3jheSG5Hs32SM96qtiWuOhIbHqXvfPpKY5m0WXc693etNpT88tl2PvufM3nd7z96/3bsiy4n748mJMK0Pxsnu+b/ak59p6uBjvx3YC0bh9LbtV+Ot+76s4qccP89NS4D9thmXYvm63CXfxlb7DP3MbnVrfdH5t052DSKvms6O/vWN+mt/fTrpicdr422b3banly58K+C4L9ymHzbNo48A/3+v3OoNy5M71xr3LfuDyU1x3SPWw1Gr1O+dTbu8p/t2eW2YEz/fYpb152sEn6zcDsPrUuvDvpVRtfvIuL3mljRC8rpN24bTbaNi2EvuAhA98I71qnxafiaOA2XenPPrGug9tR1y2cjzut82rDMR++fQuxjAZ3Y8fB9LDkPh3ufaX3D9VwLKoX/HtzQEVnPDnrlAc3g3K7VbIbl+71TjfgYWevHU0r2HuoHtA7MjgPwhvW6PaI0xckvnnoNMfFm7YYDQaPlVL15iaamiBRFunLIZlJa7dOq+z+L/hZRj92eAg16yUk9ZWWYRjvQOwmMfs70Hr/6sDXdyy6rUg6HqAN7sFslEkaj/UbMAjBa67CF8DmjYlaiyA9KBKq01LtCZ5iKhHDE+phyYUBlEOLY+EYU0EluYahJPNCC5Sd03q5ZoGSmkmttGHqggW4XNMxgX4ts7iBe4UnyBh6qleoz7uoVCgUdOWE5AtFNKMHiu18V3qt1ItwapRaZDB1J5VCH1Eb0wASm+RIAX/QmQ2qJYtxANmYgs0IdlSruLNqu/ll0Z9cE6m2c3FPtH4nsVnnU/XjpJgdUxbG80qT0uXL4o+prUTmlQ5Q8xqp/sdxfk5klfGrtjL13v7G5updU6r+y8fH0v6RrmLJK+gPwPUaSpCoc5JaXj5VSMEqFA5syz482Cu5tnXoulbRdsqOVSSElDc4bbu0StXv8aOh6ymchCyXMsXSbnbOdPFYJbJW5FP13R+AWd1Lv3TracRZU3nfSfovhp++tcum0XKUOEn9mtY2S/+eQrpYnqRWJo0a+uUh5vJoCZT8hWlxcy6CyqydD5KbD+9z2esb9tj2eP4RQywwHDqp/xs9B8nw</script> <treescope-run-here><script type=\"application/octet-stream\"> const root = ( Array.from(document.getElementsByClassName( \"treescope_out_d05f69fe50444c9cba09f348cce54a21\")) .filter((elt) => !elt.dataset['step0']) )[0]; root.dataset['step0'] = 1; root.defns.insertContent( this.parentNode.querySelector('script[type=\"application/octet-stream\"]'), true ); this.parentNode.remove(); </script></treescope-run-here> </div>"
      ],
      "text/plain": [
       "<IPython.core.display.HTML object>"
      ]
     },
     "metadata": {},
     "output_type": "display_data"
    },
    {
     "data": {
      "text/html": [
       "<div style=\"display:none\"> <script type=\"application/octet-stream\" >eNqNUk1v2zAM/SuEChQOkqh20nZJ7QTY2g3oZYftsEMQBLJExxoUy5OUYEbR/z7acdJ2H8AOTxat90iKepnSB/ChMbhgSvvaiOYOKlshA60WrLBuo7BA51BtbjDO43gmczmfXU8Kmc+LIk+kmqo8QcQpW2a+FhWtbb4ll9aQXOS5wwM8QRfewcXtbCLiOIXn7OpI7FQgjfB+wV6L2PLShPS7+MnfOyeaaAXxCCAhTAhTwjXhhnBLeEeYEeYjSIiXJOsRqNDUuNBVmE4Gl9uQUsmuw9OHbr/MgkP00tY4dvtqXKJrW5JO1wE6ORN1bbQUQdvqysqAYexJI3ZsKW3liSXcFsOj8rCAFfv/ea3To15Z6awNpA6l9pxyfaHws1UYDVLoa1CTPamn8x97dM1XNCiDdRHj53ts2mN2lhZObHdY9dJ9u+WS+g/40Iefesaf5e4NeYGEpxycZoGVui+1UdGJxGXL6voNbo8DykLGgchgAE1iemwN2cuYuMFqG0r6OxwOyBkt73j4uhKFHw222w/NIxU7qVd6TQVajbd7J/GBHPzPoVy0DmYwhN/kx5A7JMdL/KZDGZ2z8UI7f6rd3ZQEL6cOd/bQvczzeUxvEr2Z3aD1XGcmsttfnPYLCAI1Iw==</script> <treescope-run-here><script type=\"application/octet-stream\"> const root = ( Array.from(document.getElementsByClassName( \"treescope_out_d05f69fe50444c9cba09f348cce54a21\")) .filter((elt) => !elt.dataset['step1']) )[0]; root.dataset['step1'] = 1; root.defns.insertContent( this.parentNode.querySelector('script[type=\"application/octet-stream\"]'), true ); this.parentNode.remove(); </script></treescope-run-here> </div>"
      ],
      "text/plain": [
       "<IPython.core.display.HTML object>"
      ]
     },
     "metadata": {},
     "output_type": "display_data"
    },
    {
     "data": {
      "text/html": [
       "<treescope-run-here><script type=\"application/octet-stream\"> const root = ( Array.from(document.getElementsByClassName( \"treescope_out_d05f69fe50444c9cba09f348cce54a21\")) .filter((elt) => !elt.dataset.stolen) )[0]; root.dataset.stolen = 1; this.parentNode.replaceChild(root, this); </script></treescope-run-here>"
      ],
      "text/plain": [
       "{'value': <jax.Array([ 0,  1,  2,  3,  4,  5,  6,  7,  8,  9, 10, 11], dtype=int32)>}"
      ]
     },
     "execution_count": 46,
     "metadata": {},
     "output_type": "execute_result"
    }
   ],
   "source": [
    "pz.select(my_nested_object).at(lambda root: root[\"c\"][0]).get()"
   ]
  },
  {
   "cell_type": "markdown",
   "metadata": {
    "id": "MkI4lVkKxvSX"
   },
   "source": [
    "You can also get the selected objects in a dictionary form by accessing the `selected_by_path` attribute, which is how selections store their selected nodes internally:"
   ]
  },
  {
   "cell_type": "code",
   "execution_count": 47,
   "metadata": {
    "execution": {
     "iopub.execute_input": "2024-07-26T21:03:10.973511Z",
     "iopub.status.busy": "2024-07-26T21:03:10.973226Z",
     "iopub.status.idle": "2024-07-26T21:03:10.979632Z",
     "shell.execute_reply": "2024-07-26T21:03:10.979408Z"
    },
    "id": "UNJ6Zq-7x1px"
   },
   "outputs": [
    {
     "data": {
      "text/html": [
       "<script> (()=>{ if (customElements.get('treescope-container') === undefined) { class TreescopeContainer extends HTMLElement { constructor() { super(); this.attachShadow({mode: \"open\"}); this.defns = {}; this.state = {}; } } customElements.define(\"treescope-container\", TreescopeContainer); } if (customElements.get('treescope-run-here') === undefined) { class RunHere extends HTMLElement { constructor() { super() } connectedCallback() { const run = child => { const fn = new Function(child.textContent); child.textContent = \"\"; fn.call(this); this.remove(); }; const child = this.querySelector(\"script\"); if (child) { run(child); } else { new MutationObserver(()=>{ run(this.querySelector(\"script\")); }).observe(this, {childList: true}); } } } customElements.define(\"treescope-run-here\", RunHere); } })(); </script> <treescope-container class=\"treescope_out_9adddfe565364035bfee68c5dd7b00dc\" ></treescope-container> <treescope-run-here><script type=\"application/octet-stream\"> const root = ( Array.from(document.getElementsByClassName( \"treescope_out_9adddfe565364035bfee68c5dd7b00dc\")) .filter((elt) => !elt.dataset.setup) )[0]; root.dataset.setup = 1; const msg = document.createElement(\"span\"); msg.style = \"color: #aaaaaa; font-family: monospace; transition: opacity 0.2s; opacity: 0.0;\"; msg.textContent = \"(Loading...)\"; root.state.loadingMsg = msg; root.shadowRoot.appendChild(msg); root.state.chain = new Promise((resolve, reject) => { const observer = new IntersectionObserver((entries) => { for (const entry of entries) { if (entry.isIntersecting) { resolve(); observer.disconnect(); return; } } }, {rootMargin: \"1000px\"}); window.setTimeout(() => { if (root.loadingMsg) { root.loadingMsg.style.opacity = \"1.0\"; } observer.observe(root); }, 0); }); root.state.deferring = false; const _insertNode = (node) => { for (let oldScript of node.querySelectorAll(\"script\")) { let newScript = document.createElement(\"script\"); newScript.type = oldScript.type; newScript.textContent = oldScript.textContent; oldScript.parentNode.replaceChild(newScript, oldScript); } if (root.state.loadingMsg) { root.state.loadingMsg.remove(); root.state.loadingMsg = null; } root.shadowRoot.appendChild(node); }; root.defns.insertContent = ((contentNode, compressed) => { if (compressed) { root.state.deferring = true; } if (root.state.deferring) { root.state.chain = (async () => { await root.state.chain; if (compressed) { const encoded = contentNode.textContent; const blob = new Blob([ Uint8Array.from(atob(encoded), (m) => m.codePointAt(0)) ]); const reader = blob.stream().pipeThrough( new DecompressionStream(\"deflate\") ).pipeThrough( new TextDecoderStream(\"utf-8\") ).getReader(); const parts = []; while (true) { const step = await reader.read(); if (step.done) { break; } parts.push(step.value); } const tpl = document.createElement('template'); tpl.innerHTML = parts.join(\"\"); _insertNode(tpl.content); } else { _insertNode(contentNode.content); } })(); } else { _insertNode(contentNode.content); } }); </script></treescope-run-here><div style=\"display:none\"> <script type=\"application/octet-stream\" >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</script> <treescope-run-here><script type=\"application/octet-stream\"> const root = ( Array.from(document.getElementsByClassName( \"treescope_out_9adddfe565364035bfee68c5dd7b00dc\")) .filter((elt) => !elt.dataset['step0']) )[0]; root.dataset['step0'] = 1; root.defns.insertContent( this.parentNode.querySelector('script[type=\"application/octet-stream\"]'), true ); this.parentNode.remove(); </script></treescope-run-here> </div>"
      ],
      "text/plain": [
       "<IPython.core.display.HTML object>"
      ]
     },
     "metadata": {},
     "output_type": "display_data"
    },
    {
     "data": {
      "text/html": [
       "<div style=\"display:none\"> <script type=\"application/octet-stream\" >eNqVUstu2zAQ/JUFAwQyLCuyJT8UP4A2aYFcemgPPRiGQZErmwUtqhRtVCjy713Jsp20aeEeJHHFmR3OcmZSHaB0lcY5k6osNK/uITc5MlByzjJj1xIztBblOg3jKJU4GvMkjpNokoRjmYy4EFmMo4SnbDErC57Tu+63CITRROdpavEAP6Ep7+FmNBnwMJzC8+zuCGxYIDQvyzl7SWKLW+2m3/iP4J21vPKWoQ99HwY+RD7EPgx9GPkw9mHiQ7LyQbqqwLnKXTTo3G7clASa85w+5HUx+w/Dk2GWTNIY4ygmi1GWjCPkfUl+42HSD8cXw1cbCHx4+zkfP9OG/9OAs4ilMAX27D7vbdHWExRWFQ6aBowXhVaCO2XyOyMcul5JHL5jC2HyklDcbtA9yRLmsGTXX68P7PrRrKZHMWmENcaRlNuqMiDhz1R+MhK9zhTaA5GjFtTCg+97tNUX1CicsR4LzqbX9TY7UzPLNzvMW+q+XgaCzDp8bMuPLeJPuQdN107EU4+ABoe5fNgqLb0TKBA1qjmvs3vsUBfKCHgaHSgiU5AVzC4zDTTmG7elv91uh1Jf446bL5Wo/KCxXr6vnkjsxF6qFQnUnNLsrcBHCutfh3JTh5VBF36jH8vAIoVb4Ffltt65W5ApW560G6dEuOxa3JlDczPP5zG9avRqdp06oE3yKJtvxPIXMBl5tg==</script> <treescope-run-here><script type=\"application/octet-stream\"> const root = ( Array.from(document.getElementsByClassName( \"treescope_out_9adddfe565364035bfee68c5dd7b00dc\")) .filter((elt) => !elt.dataset['step1']) )[0]; root.dataset['step1'] = 1; root.defns.insertContent( this.parentNode.querySelector('script[type=\"application/octet-stream\"]'), true ); this.parentNode.remove(); </script></treescope-run-here> </div>"
      ],
      "text/plain": [
       "<IPython.core.display.HTML object>"
      ]
     },
     "metadata": {},
     "output_type": "display_data"
    },
    {
     "data": {
      "text/html": [
       "<treescope-run-here><script type=\"application/octet-stream\"> const root = ( Array.from(document.getElementsByClassName( \"treescope_out_9adddfe565364035bfee68c5dd7b00dc\")) .filter((elt) => !elt.dataset.stolen) )[0]; root.dataset.stolen = 1; this.parentNode.replaceChild(root, this); </script></treescope-run-here>"
      ],
      "text/plain": [
       "OrderedDict([((DictKey(key='b'),),\n",
       "              <jax.Array([0, 1, 2, 3, 4, 5, 6, 7, 8, 9], dtype=int32)>),\n",
       "             ((DictKey(key='c'), SequenceKey(idx=1), DictKey(key='value')),\n",
       "              <jax.Array([0., 0., 0., 0., 0., 0., 0.], dtype=float32)>)])"
      ]
     },
     "execution_count": 47,
     "metadata": {},
     "output_type": "execute_result"
    }
   ],
   "source": [
    "(\n",
    "    pz.select(my_nested_object)\n",
    "    .at_subtrees_where(\n",
    "        lambda subtree: isinstance(subtree, jax.Array) and subtree.size <= 10\n",
    "    )\n",
    ").selected_by_path"
   ]
  },
  {
   "cell_type": "markdown",
   "metadata": {
    "id": "ebPObknTmCAo"
   },
   "source": [
    "### Partitioning PyTrees\n",
    "\n",
    "You can use `.partition()` to split a selected object into two parts, one containing only the selected subtrees, and one containing everything else:"
   ]
  },
  {
   "cell_type": "code",
   "execution_count": 48,
   "metadata": {
    "execution": {
     "iopub.execute_input": "2024-07-26T21:03:10.983765Z",
     "iopub.status.busy": "2024-07-26T21:03:10.983514Z",
     "iopub.status.idle": "2024-07-26T21:03:10.985392Z",
     "shell.execute_reply": "2024-07-26T21:03:10.985175Z"
    },
    "id": "H-CcdaMyqq3M"
   },
   "outputs": [],
   "source": [
    "selected, rest = (\n",
    "    pz.select(my_nested_object)\n",
    "    .at_subtrees_where(\n",
    "        lambda subtree: isinstance(subtree, jax.Array) and subtree.size <= 10)\n",
    ").partition()"
   ]
  },
  {
   "cell_type": "code",
   "execution_count": 49,
   "metadata": {
    "execution": {
     "iopub.execute_input": "2024-07-26T21:03:10.990162Z",
     "iopub.status.busy": "2024-07-26T21:03:10.989925Z",
     "iopub.status.idle": "2024-07-26T21:03:10.996030Z",
     "shell.execute_reply": "2024-07-26T21:03:10.995787Z"
    },
    "id": "DaUwe2Iyq6ko"
   },
   "outputs": [
    {
     "data": {
      "text/html": [
       "<script> (()=>{ if (customElements.get('treescope-container') === undefined) { class TreescopeContainer extends HTMLElement { constructor() { super(); this.attachShadow({mode: \"open\"}); this.defns = {}; this.state = {}; } } customElements.define(\"treescope-container\", TreescopeContainer); } if (customElements.get('treescope-run-here') === undefined) { class RunHere extends HTMLElement { constructor() { super() } connectedCallback() { const run = child => { const fn = new Function(child.textContent); child.textContent = \"\"; fn.call(this); this.remove(); }; const child = this.querySelector(\"script\"); if (child) { run(child); } else { new MutationObserver(()=>{ run(this.querySelector(\"script\")); }).observe(this, {childList: true}); } } } customElements.define(\"treescope-run-here\", RunHere); } })(); </script> <treescope-container class=\"treescope_out_ab7a1834e093478cb4ba15df33e26135\" ></treescope-container> <treescope-run-here><script type=\"application/octet-stream\"> const root = ( Array.from(document.getElementsByClassName( \"treescope_out_ab7a1834e093478cb4ba15df33e26135\")) .filter((elt) => !elt.dataset.setup) )[0]; root.dataset.setup = 1; const msg = document.createElement(\"span\"); msg.style = \"color: #aaaaaa; font-family: monospace; transition: opacity 0.2s; opacity: 0.0;\"; msg.textContent = \"(Loading...)\"; root.state.loadingMsg = msg; root.shadowRoot.appendChild(msg); root.state.chain = new Promise((resolve, reject) => { const observer = new IntersectionObserver((entries) => { for (const entry of entries) { if (entry.isIntersecting) { resolve(); observer.disconnect(); return; } } }, {rootMargin: \"1000px\"}); window.setTimeout(() => { if (root.loadingMsg) { root.loadingMsg.style.opacity = \"1.0\"; } observer.observe(root); }, 0); }); root.state.deferring = false; const _insertNode = (node) => { for (let oldScript of node.querySelectorAll(\"script\")) { let newScript = document.createElement(\"script\"); newScript.type = oldScript.type; newScript.textContent = oldScript.textContent; oldScript.parentNode.replaceChild(newScript, oldScript); } if (root.state.loadingMsg) { root.state.loadingMsg.remove(); root.state.loadingMsg = null; } root.shadowRoot.appendChild(node); }; root.defns.insertContent = ((contentNode, compressed) => { if (compressed) { root.state.deferring = true; } if (root.state.deferring) { root.state.chain = (async () => { await root.state.chain; if (compressed) { const encoded = contentNode.textContent; const blob = new Blob([ Uint8Array.from(atob(encoded), (m) => m.codePointAt(0)) ]); const reader = blob.stream().pipeThrough( new DecompressionStream(\"deflate\") ).pipeThrough( new TextDecoderStream(\"utf-8\") ).getReader(); const parts = []; while (true) { const step = await reader.read(); if (step.done) { break; } parts.push(step.value); } const tpl = document.createElement('template'); tpl.innerHTML = parts.join(\"\"); _insertNode(tpl.content); } else { _insertNode(contentNode.content); } })(); } else { _insertNode(contentNode.content); } }); </script></treescope-run-here><div style=\"display:none\"> <script type=\"application/octet-stream\" >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</script> <treescope-run-here><script type=\"application/octet-stream\"> const root = ( Array.from(document.getElementsByClassName( \"treescope_out_ab7a1834e093478cb4ba15df33e26135\")) .filter((elt) => !elt.dataset['step0']) )[0]; root.dataset['step0'] = 1; root.defns.insertContent( this.parentNode.querySelector('script[type=\"application/octet-stream\"]'), true ); this.parentNode.remove(); </script></treescope-run-here> </div>"
      ],
      "text/plain": [
       "<IPython.core.display.HTML object>"
      ]
     },
     "metadata": {},
     "output_type": "display_data"
    },
    {
     "data": {
      "text/html": [
       "<div style=\"display:none\"> <script type=\"application/octet-stream\" >eNqVUstu2zAQ/JUFAwQyLCt6OVbiB9AmLZBLD+2hB8MwKHJls6BFlaKNGkX+vStZtpM2LdyDJK44s8NZzkSqHdRur3HKpKorzff3UJoSGSg5ZYWxS4kFWotyyXMhMh5GRRTHKSLyqAjjcDgshnzEE5RsNqkrXtK76TcLhNFE53lucQc/oS3v4eo2i3kYjuF5cnMAtiwQmtf1lL0ksdm1duNv/Efwzlq+9+ahD5EPsQ+JD6kPQx9ufRj5kPlwt/BBun2FU1W6JO5dr9yYBNrzHD/kdTb5D8NxlmVhHnKe8Ls0EjyTeZYmo1GeJMM0jeKz4YsNBD68/ZyOX2jD/2nAWcRamAoHdlsO1mibCQqrKgdtA8arSivBnTLljREO3aAmDt+wmTBlTShuV+ieZA1TmLPLr9cHdvloFuODmDTCGuNIyq1VHZDwZyo/GYlebwzdgchRB+rgwfct2v0X1CicsR4LTqaXzTY7UQvLVxssO+q2WQaCzDp87MqPHeJPuQdN107EY4+ABoelfFgrLb0jKBANqj2vs1vsURfKCHgaHSgiU5AVTM4zDTSWK7emv/1+j1Lf4A6bL5Wo/KCxWb7fP5HYkT1XCxJoOLXZWoGPFNa/DuWqCSuDPvxGP5SBRQq3wK/Krb1Tt6BQtj5qt06JcN61uDG79maeT2N61ejV7HpNQNvkUTbfiOUvFsJ5fA==</script> <treescope-run-here><script type=\"application/octet-stream\"> const root = ( Array.from(document.getElementsByClassName( \"treescope_out_ab7a1834e093478cb4ba15df33e26135\")) .filter((elt) => !elt.dataset['step1']) )[0]; root.dataset['step1'] = 1; root.defns.insertContent( this.parentNode.querySelector('script[type=\"application/octet-stream\"]'), true ); this.parentNode.remove(); </script></treescope-run-here> </div>"
      ],
      "text/plain": [
       "<IPython.core.display.HTML object>"
      ]
     },
     "metadata": {},
     "output_type": "display_data"
    },
    {
     "data": {
      "text/html": [
       "<treescope-run-here><script type=\"application/octet-stream\"> const root = ( Array.from(document.getElementsByClassName( \"treescope_out_ab7a1834e093478cb4ba15df33e26135\")) .filter((elt) => !elt.dataset.stolen) )[0]; root.dataset.stolen = 1; this.parentNode.replaceChild(root, this); </script></treescope-run-here>"
      ],
      "text/plain": [
       "{'a': NotInThisPartition(),\n",
       " 'b': <jax.Array([0, 1, 2, 3, 4, 5, 6, 7, 8, 9], dtype=int32)>,\n",
       " 'c': [NotInThisPartition(),\n",
       "  {'value': <jax.Array([0., 0., 0., 0., 0., 0., 0.], dtype=float32)>},\n",
       "  NotInThisPartition()]}"
      ]
     },
     "execution_count": 49,
     "metadata": {},
     "output_type": "execute_result"
    }
   ],
   "source": [
    "selected"
   ]
  },
  {
   "cell_type": "code",
   "execution_count": 50,
   "metadata": {
    "execution": {
     "iopub.execute_input": "2024-07-26T21:03:11.001203Z",
     "iopub.status.busy": "2024-07-26T21:03:11.000965Z",
     "iopub.status.idle": "2024-07-26T21:03:11.007305Z",
     "shell.execute_reply": "2024-07-26T21:03:11.007129Z"
    },
    "id": "n-y-RvcSq7V-"
   },
   "outputs": [
    {
     "data": {
      "text/html": [
       "<script> (()=>{ if (customElements.get('treescope-container') === undefined) { class TreescopeContainer extends HTMLElement { constructor() { super(); this.attachShadow({mode: \"open\"}); this.defns = {}; this.state = {}; } } customElements.define(\"treescope-container\", TreescopeContainer); } if (customElements.get('treescope-run-here') === undefined) { class RunHere extends HTMLElement { constructor() { super() } connectedCallback() { const run = child => { const fn = new Function(child.textContent); child.textContent = \"\"; fn.call(this); this.remove(); }; const child = this.querySelector(\"script\"); if (child) { run(child); } else { new MutationObserver(()=>{ run(this.querySelector(\"script\")); }).observe(this, {childList: true}); } } } customElements.define(\"treescope-run-here\", RunHere); } })(); </script> <treescope-container class=\"treescope_out_4f492a086cc04b51a5ff6b86103fa305\" ></treescope-container> <treescope-run-here><script type=\"application/octet-stream\"> const root = ( Array.from(document.getElementsByClassName( \"treescope_out_4f492a086cc04b51a5ff6b86103fa305\")) .filter((elt) => !elt.dataset.setup) )[0]; root.dataset.setup = 1; const msg = document.createElement(\"span\"); msg.style = \"color: #aaaaaa; font-family: monospace; transition: opacity 0.2s; opacity: 0.0;\"; msg.textContent = \"(Loading...)\"; root.state.loadingMsg = msg; root.shadowRoot.appendChild(msg); root.state.chain = new Promise((resolve, reject) => { const observer = new IntersectionObserver((entries) => { for (const entry of entries) { if (entry.isIntersecting) { resolve(); observer.disconnect(); return; } } }, {rootMargin: \"1000px\"}); window.setTimeout(() => { if (root.loadingMsg) { root.loadingMsg.style.opacity = \"1.0\"; } observer.observe(root); }, 0); }); root.state.deferring = false; const _insertNode = (node) => { for (let oldScript of node.querySelectorAll(\"script\")) { let newScript = document.createElement(\"script\"); newScript.type = oldScript.type; newScript.textContent = oldScript.textContent; oldScript.parentNode.replaceChild(newScript, oldScript); } if (root.state.loadingMsg) { root.state.loadingMsg.remove(); root.state.loadingMsg = null; } root.shadowRoot.appendChild(node); }; root.defns.insertContent = ((contentNode, compressed) => { if (compressed) { root.state.deferring = true; } if (root.state.deferring) { root.state.chain = (async () => { await root.state.chain; if (compressed) { const encoded = contentNode.textContent; const blob = new Blob([ Uint8Array.from(atob(encoded), (m) => m.codePointAt(0)) ]); const reader = blob.stream().pipeThrough( new DecompressionStream(\"deflate\") ).pipeThrough( new TextDecoderStream(\"utf-8\") ).getReader(); const parts = []; while (true) { const step = await reader.read(); if (step.done) { break; } parts.push(step.value); } const tpl = document.createElement('template'); tpl.innerHTML = parts.join(\"\"); _insertNode(tpl.content); } else { _insertNode(contentNode.content); } })(); } else { _insertNode(contentNode.content); } }); </script></treescope-run-here><div style=\"display:none\"> <script type=\"application/octet-stream\" >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</script> <treescope-run-here><script type=\"application/octet-stream\"> const root = ( Array.from(document.getElementsByClassName( \"treescope_out_4f492a086cc04b51a5ff6b86103fa305\")) .filter((elt) => !elt.dataset['step0']) )[0]; root.dataset['step0'] = 1; root.defns.insertContent( this.parentNode.querySelector('script[type=\"application/octet-stream\"]'), true ); this.parentNode.remove(); </script></treescope-run-here> </div>"
      ],
      "text/plain": [
       "<IPython.core.display.HTML object>"
      ]
     },
     "metadata": {},
     "output_type": "display_data"
    },
    {
     "data": {
      "text/html": [
       "<div style=\"display:none\"> <script type=\"application/octet-stream\" >eNqNUt9v2jAQ/ldOrlQFAS5JCoUGkLZ2k/qyh+1hDwghx76AJxNntkGLpv7vu4RA2/2Q9vA5vvj77s7nb670EXyoDS6Y0r4yor6H0pbIQKsFK6zbKCzQOVSbNMVZmkzvRjlOb2VS5DhL8tE4F5NxnBdxypZzX4mS1ibfkktrSC7y3OERfkIb3sPVZJqI0SiD5/nNidiqQBrh/YK9FrHltQnZN/GDv3NO1NEKRgOAmJAQUsItYUyYEO4IU8JsADHx4ng9ABXqChe6DGnSu96GjEq2HZ4/dPvlPDhEL22FQ3cohzt0TUvS6SpAK2eiqoyWImhb3lgZMAw9acSeLaUtPbGE22J4Uh4WsGL/P691dtIrK521gdRhpz2nXJ8p/GQVRr0MuhrUZEfq6Pz7AV39BQ3KYF3E+OUem+aYXaSFE9s9lp300Gy5pP4DPnbhx47xZ7kHQ14g4TkHp1lgqR522qjoTOKyYbX9BnfAHmUh40BkMIAmMT22hvnLmLjBcht29Lff75EzGt7p8HUlCj8YbLbv6ycqdlav9JoKNBpvD07iIzn4n0O5ahzMoA+/yU8hd0iOl/hVh110ycYL7fy5dntTErycOtzbY/syz5cxvUn0Zna9xnOtmchuf3HaLw2CMuU=</script> <treescope-run-here><script type=\"application/octet-stream\"> const root = ( Array.from(document.getElementsByClassName( \"treescope_out_4f492a086cc04b51a5ff6b86103fa305\")) .filter((elt) => !elt.dataset['step1']) )[0]; root.dataset['step1'] = 1; root.defns.insertContent( this.parentNode.querySelector('script[type=\"application/octet-stream\"]'), true ); this.parentNode.remove(); </script></treescope-run-here> </div>"
      ],
      "text/plain": [
       "<IPython.core.display.HTML object>"
      ]
     },
     "metadata": {},
     "output_type": "display_data"
    },
    {
     "data": {
      "text/html": [
       "<treescope-run-here><script type=\"application/octet-stream\"> const root = ( Array.from(document.getElementsByClassName( \"treescope_out_4f492a086cc04b51a5ff6b86103fa305\")) .filter((elt) => !elt.dataset.stolen) )[0]; root.dataset.stolen = 1; this.parentNode.replaceChild(root, this); </script></treescope-run-here>"
      ],
      "text/plain": [
       "{'a': 1,\n",
       " 'b': NotInThisPartition(),\n",
       " 'c': [{'value': <jax.Array([ 0,  1,  2,  3,  4,  5,  6,  7,  8,  9, 10, 11], dtype=int32)>},\n",
       "  {'value': NotInThisPartition()},\n",
       "  {'value': 3}]}"
      ]
     },
     "execution_count": 50,
     "metadata": {},
     "output_type": "execute_result"
    }
   ],
   "source": [
    "rest"
   ]
  },
  {
   "cell_type": "markdown",
   "metadata": {
    "id": "lIj7wg-oqv1t"
   },
   "source": [
    "You can then process the two parts independently, and then recombine them into a single object using `pz.combine`:"
   ]
  },
  {
   "cell_type": "code",
   "execution_count": 51,
   "metadata": {
    "execution": {
     "iopub.execute_input": "2024-07-26T21:03:11.016536Z",
     "iopub.status.busy": "2024-07-26T21:03:11.016249Z",
     "iopub.status.idle": "2024-07-26T21:03:11.049272Z",
     "shell.execute_reply": "2024-07-26T21:03:11.049092Z"
    },
    "id": "8SoBMXJmrBgY"
   },
   "outputs": [
    {
     "data": {
      "text/html": [
       "<script> (()=>{ if (customElements.get('treescope-container') === undefined) { class TreescopeContainer extends HTMLElement { constructor() { super(); this.attachShadow({mode: \"open\"}); this.defns = {}; this.state = {}; } } customElements.define(\"treescope-container\", TreescopeContainer); } if (customElements.get('treescope-run-here') === undefined) { class RunHere extends HTMLElement { constructor() { super() } connectedCallback() { const run = child => { const fn = new Function(child.textContent); child.textContent = \"\"; fn.call(this); this.remove(); }; const child = this.querySelector(\"script\"); if (child) { run(child); } else { new MutationObserver(()=>{ run(this.querySelector(\"script\")); }).observe(this, {childList: true}); } } } customElements.define(\"treescope-run-here\", RunHere); } })(); </script> <treescope-container class=\"treescope_out_6d6380893b0e4ce198ef6645a18f06c1\" ></treescope-container> <treescope-run-here><script type=\"application/octet-stream\"> const root = ( Array.from(document.getElementsByClassName( \"treescope_out_6d6380893b0e4ce198ef6645a18f06c1\")) .filter((elt) => !elt.dataset.setup) )[0]; root.dataset.setup = 1; const msg = document.createElement(\"span\"); msg.style = \"color: #aaaaaa; font-family: monospace; transition: opacity 0.2s; opacity: 0.0;\"; msg.textContent = \"(Loading...)\"; root.state.loadingMsg = msg; root.shadowRoot.appendChild(msg); root.state.chain = new Promise((resolve, reject) => { const observer = new IntersectionObserver((entries) => { for (const entry of entries) { if (entry.isIntersecting) { resolve(); observer.disconnect(); return; } } }, {rootMargin: \"1000px\"}); window.setTimeout(() => { if (root.loadingMsg) { root.loadingMsg.style.opacity = \"1.0\"; } observer.observe(root); }, 0); }); root.state.deferring = false; const _insertNode = (node) => { for (let oldScript of node.querySelectorAll(\"script\")) { let newScript = document.createElement(\"script\"); newScript.type = oldScript.type; newScript.textContent = oldScript.textContent; oldScript.parentNode.replaceChild(newScript, oldScript); } if (root.state.loadingMsg) { root.state.loadingMsg.remove(); root.state.loadingMsg = null; } root.shadowRoot.appendChild(node); }; root.defns.insertContent = ((contentNode, compressed) => { if (compressed) { root.state.deferring = true; } if (root.state.deferring) { root.state.chain = (async () => { await root.state.chain; if (compressed) { const encoded = contentNode.textContent; const blob = new Blob([ Uint8Array.from(atob(encoded), (m) => m.codePointAt(0)) ]); const reader = blob.stream().pipeThrough( new DecompressionStream(\"deflate\") ).pipeThrough( new TextDecoderStream(\"utf-8\") ).getReader(); const parts = []; while (true) { const step = await reader.read(); if (step.done) { break; } parts.push(step.value); } const tpl = document.createElement('template'); tpl.innerHTML = parts.join(\"\"); _insertNode(tpl.content); } else { _insertNode(contentNode.content); } })(); } else { _insertNode(contentNode.content); } }); </script></treescope-run-here><div style=\"display:none\"> <script type=\"application/octet-stream\" >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</script> <treescope-run-here><script type=\"application/octet-stream\"> const root = ( Array.from(document.getElementsByClassName( \"treescope_out_6d6380893b0e4ce198ef6645a18f06c1\")) .filter((elt) => !elt.dataset['step0']) )[0]; root.dataset['step0'] = 1; root.defns.insertContent( this.parentNode.querySelector('script[type=\"application/octet-stream\"]'), true ); this.parentNode.remove(); </script></treescope-run-here> </div>"
      ],
      "text/plain": [
       "<IPython.core.display.HTML object>"
      ]
     },
     "metadata": {},
     "output_type": "display_data"
    },
    {
     "data": {
      "text/html": [
       "<div style=\"display:none\"> <script type=\"application/octet-stream\" >eNq1VMlu2zAQ/ZUBAwQ2YiuStTpegDZpgVx6aA89BIZBkyObBS2qFG3UCPLvHcpLkm5JDj34WWPOm5k3fPJYqi00bqdxwqRqas13V1CZChkoOWGlsXOJJVqLcr7IizDKorJMM5mIPC+yVBSLSPAsLnicJGw6bmpeEfp600AYTXS+WFjcwj204RWcZcWAh+EIHsaX+8SWBULzppmwpyQ2Pddu9I3/CN5Zy3eduygMexCFkYeBh9hD4iH1kHnIPRQehrMeSLercaIqFw+650s3oqbtjMcv0j8dv2EJIg2LArMsiZM8KQeyWIQZbYEXcsjDgUwfl/BaUUCagCQBKQISBKQHSA6QGiAxQFpg6PXQJ/oPkvIyT7MkFVGRxUkp0mEylHE+jLNSxgvB5dsl0T0FfuCX8CSm1Ib/U46ziI0wNfbtpuqv0HrbCKtqB20BxutaK8GdMtWlEQ5dvyEOX7OpMFVDWdwu0d3KBiZwx17v6R6w19/90+QXtzob7SeTRlhjHM3lVqoJaMrPFH4yEjvdERymJ/mHpEN68H2DdvcFNQpnbIcFpw3N/TE7UUvLl2usDtSNfwwEbcbhzSH8eMj4vd21JscQ8VgjoC1jJa9XSsvOMSkQPqud19kNdqkK2Qs6Gh0oItOrrmD8eAGBxmrpVvTrxUWX/hd83v7waScKP2j0j+93t9TsyL5TM2rgOY3ZWIE35PO/LuXM+5zBBfxC34eBRXovBH5VbtU5VQtKZZtj71YpER5PLa7Ntr2Zh9OanhV6truud3NrUzLyHzz8E74DyfQ=</script> <treescope-run-here><script type=\"application/octet-stream\"> const root = ( Array.from(document.getElementsByClassName( \"treescope_out_6d6380893b0e4ce198ef6645a18f06c1\")) .filter((elt) => !elt.dataset['step1']) )[0]; root.dataset['step1'] = 1; root.defns.insertContent( this.parentNode.querySelector('script[type=\"application/octet-stream\"]'), true ); this.parentNode.remove(); </script></treescope-run-here> </div>"
      ],
      "text/plain": [
       "<IPython.core.display.HTML object>"
      ]
     },
     "metadata": {},
     "output_type": "display_data"
    },
    {
     "data": {
      "text/html": [
       "<treescope-run-here><script type=\"application/octet-stream\"> const root = ( Array.from(document.getElementsByClassName( \"treescope_out_6d6380893b0e4ce198ef6645a18f06c1\")) .filter((elt) => !elt.dataset.stolen) )[0]; root.dataset.stolen = 1; this.parentNode.replaceChild(root, this); </script></treescope-run-here>"
      ],
      "text/plain": [
       "{'a': 1,\n",
       " 'b': <jax.Array([100, 101, 102, 103, 104, 105, 106, 107, 108, 109], dtype=int32)>,\n",
       " 'c': [{'value': <jax.Array([ 0,  1,  2,  3,  4,  5,  6,  7,  8,  9, 10, 11], dtype=int32)>},\n",
       "  {'value': <jax.Array([100., 100., 100., 100., 100., 100., 100.], dtype=float32)>},\n",
       "  {'value': 3}]}"
      ]
     },
     "execution_count": 51,
     "metadata": {},
     "output_type": "execute_result"
    }
   ],
   "source": [
    "pz.combine(\n",
    "    jax.tree_util.tree_map(lambda x: x + 100, selected),\n",
    "    rest,\n",
    ")"
   ]
  },
  {
   "cell_type": "markdown",
   "metadata": {
    "id": "69K7pItirIuA"
   },
   "source": [
    "Partitioning and combining are inspired by `equinox.partition` and `equinox.combine`. If you're already familiar with those, the main differences are:\n",
    "- You generally don't need to use `partition` and `combine` when running JAX transformations like `jax.jit`. By convention, Penzai models store all of their static metadata in `dataclasses.field(metadata={\"pytree_node\": False})` fields which are not part of the PyTree traversal, which means partitioning isn't as strictly necessary as it is in equinox workflows. Instead, partitioning is primarily useful if you want to apply different logic to two sets of leaves, e.g. taking a gradient only with respect to a specific subset of parameters, or defining different shardings for different array subsets.\n",
    "- Penzai uses a specific sentinel `NotInThisPartition()` to identify removed nodes, rather than `None`.\n",
    "- Penzai partitions are built to support manipulation at the subtree level, rather than at the leaf level. It's OK to build and combine partitions even when neither partition is a strict PyTree prefix of the other, as long as the overlapping parts don't conflict.\n",
    "- Penzai partitions are always created with selectors, rather than being built by a standalone function.\n"
   ]
  },
  {
   "cell_type": "markdown",
   "metadata": {
    "id": "bfYZoC-ANf1Z"
   },
   "source": [
    "## Modifying selected values\n",
    "\n",
    "An important feature of selections is that they allow you to perform detailed modifications to (copies of) large trees. Selections expose a number of methods for this purpose."
   ]
  },
  {
   "cell_type": "markdown",
   "metadata": {
    "id": "Y7lQebLlwpRJ"
   },
   "source": [
    "### Replacing selected values\n",
    "The simplest modification you can make is to replace each selected subtree with another subtree or value:"
   ]
  },
  {
   "cell_type": "code",
   "execution_count": 52,
   "metadata": {
    "execution": {
     "iopub.execute_input": "2024-07-26T21:03:11.055310Z",
     "iopub.status.busy": "2024-07-26T21:03:11.054889Z",
     "iopub.status.idle": "2024-07-26T21:03:11.059444Z",
     "shell.execute_reply": "2024-07-26T21:03:11.059251Z"
    },
    "id": "Ew7gWKgMNg0h"
   },
   "outputs": [
    {
     "data": {
      "text/html": [
       "<script> (()=>{ if (customElements.get('treescope-container') === undefined) { class TreescopeContainer extends HTMLElement { constructor() { super(); this.attachShadow({mode: \"open\"}); this.defns = {}; this.state = {}; } } customElements.define(\"treescope-container\", TreescopeContainer); } if (customElements.get('treescope-run-here') === undefined) { class RunHere extends HTMLElement { constructor() { super() } connectedCallback() { const run = child => { const fn = new Function(child.textContent); child.textContent = \"\"; fn.call(this); this.remove(); }; const child = this.querySelector(\"script\"); if (child) { run(child); } else { new MutationObserver(()=>{ run(this.querySelector(\"script\")); }).observe(this, {childList: true}); } } } customElements.define(\"treescope-run-here\", RunHere); } })(); </script> <treescope-container class=\"treescope_out_4c1b1be799384e5382dbb17d338e685c\" ></treescope-container> <treescope-run-here><script type=\"application/octet-stream\"> const root = ( Array.from(document.getElementsByClassName( \"treescope_out_4c1b1be799384e5382dbb17d338e685c\")) .filter((elt) => !elt.dataset.setup) )[0]; root.dataset.setup = 1; const msg = document.createElement(\"span\"); msg.style = \"color: #aaaaaa; font-family: monospace; transition: opacity 0.2s; opacity: 0.0;\"; msg.textContent = \"(Loading...)\"; root.state.loadingMsg = msg; root.shadowRoot.appendChild(msg); root.state.chain = new Promise((resolve, reject) => { const observer = new IntersectionObserver((entries) => { for (const entry of entries) { if (entry.isIntersecting) { resolve(); observer.disconnect(); return; } } }, {rootMargin: \"1000px\"}); window.setTimeout(() => { if (root.loadingMsg) { root.loadingMsg.style.opacity = \"1.0\"; } observer.observe(root); }, 0); }); root.state.deferring = false; const _insertNode = (node) => { for (let oldScript of node.querySelectorAll(\"script\")) { let newScript = document.createElement(\"script\"); newScript.type = oldScript.type; newScript.textContent = oldScript.textContent; oldScript.parentNode.replaceChild(newScript, oldScript); } if (root.state.loadingMsg) { root.state.loadingMsg.remove(); root.state.loadingMsg = null; } root.shadowRoot.appendChild(node); }; root.defns.insertContent = ((contentNode, compressed) => { if (compressed) { root.state.deferring = true; } if (root.state.deferring) { root.state.chain = (async () => { await root.state.chain; if (compressed) { const encoded = contentNode.textContent; const blob = new Blob([ Uint8Array.from(atob(encoded), (m) => m.codePointAt(0)) ]); const reader = blob.stream().pipeThrough( new DecompressionStream(\"deflate\") ).pipeThrough( new TextDecoderStream(\"utf-8\") ).getReader(); const parts = []; while (true) { const step = await reader.read(); if (step.done) { break; } parts.push(step.value); } const tpl = document.createElement('template'); tpl.innerHTML = parts.join(\"\"); _insertNode(tpl.content); } else { _insertNode(contentNode.content); } })(); } else { _insertNode(contentNode.content); } }); </script></treescope-run-here><div style=\"display:none\"> <script type=\"application/octet-stream\" >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</script> <treescope-run-here><script type=\"application/octet-stream\"> const root = ( Array.from(document.getElementsByClassName( \"treescope_out_4c1b1be799384e5382dbb17d338e685c\")) .filter((elt) => !elt.dataset['step0']) )[0]; root.dataset['step0'] = 1; root.defns.insertContent( this.parentNode.querySelector('script[type=\"application/octet-stream\"]'), true ); this.parentNode.remove(); </script></treescope-run-here> </div>"
      ],
      "text/plain": [
       "<IPython.core.display.HTML object>"
      ]
     },
     "metadata": {},
     "output_type": "display_data"
    },
    {
     "data": {
      "text/html": [
       "<treescope-run-here><script type=\"application/octet-stream\"> const root = ( Array.from(document.getElementsByClassName( \"treescope_out_4c1b1be799384e5382dbb17d338e685c\")) .filter((elt) => !elt.dataset.stolen) )[0]; root.dataset.stolen = 1; this.parentNode.replaceChild(root, this); </script></treescope-run-here>"
      ],
      "text/plain": [
       "{'a': 1,\n",
       " 'b': 'hello world!',\n",
       " 'c': [{'value': 'hello world!'}, {'value': 'hello world!'}, {'value': 3}]}"
      ]
     },
     "execution_count": 52,
     "metadata": {},
     "output_type": "execute_result"
    }
   ],
   "source": [
    "pz.select(my_nested_object).at_instances_of(jax.Array).set(\"hello world!\")"
   ]
  },
  {
   "cell_type": "markdown",
   "metadata": {
    "id": "HduHi3ifw8qn"
   },
   "source": [
    "You can optionally provide different values for each selected node:"
   ]
  },
  {
   "cell_type": "code",
   "execution_count": 53,
   "metadata": {
    "execution": {
     "iopub.execute_input": "2024-07-26T21:03:11.065858Z",
     "iopub.status.busy": "2024-07-26T21:03:11.065568Z",
     "iopub.status.idle": "2024-07-26T21:03:11.069075Z",
     "shell.execute_reply": "2024-07-26T21:03:11.069194Z"
    },
    "id": "rDlkeqI3w1-C"
   },
   "outputs": [
    {
     "data": {
      "text/html": [
       "<script> (()=>{ if (customElements.get('treescope-container') === undefined) { class TreescopeContainer extends HTMLElement { constructor() { super(); this.attachShadow({mode: \"open\"}); this.defns = {}; this.state = {}; } } customElements.define(\"treescope-container\", TreescopeContainer); } if (customElements.get('treescope-run-here') === undefined) { class RunHere extends HTMLElement { constructor() { super() } connectedCallback() { const run = child => { const fn = new Function(child.textContent); child.textContent = \"\"; fn.call(this); this.remove(); }; const child = this.querySelector(\"script\"); if (child) { run(child); } else { new MutationObserver(()=>{ run(this.querySelector(\"script\")); }).observe(this, {childList: true}); } } } customElements.define(\"treescope-run-here\", RunHere); } })(); </script> <treescope-container class=\"treescope_out_393853d8777d490fa7cff5f0f3ba238e\" ></treescope-container> <treescope-run-here><script type=\"application/octet-stream\"> const root = ( Array.from(document.getElementsByClassName( \"treescope_out_393853d8777d490fa7cff5f0f3ba238e\")) .filter((elt) => !elt.dataset.setup) )[0]; root.dataset.setup = 1; const msg = document.createElement(\"span\"); msg.style = \"color: #aaaaaa; font-family: monospace; transition: opacity 0.2s; opacity: 0.0;\"; msg.textContent = \"(Loading...)\"; root.state.loadingMsg = msg; root.shadowRoot.appendChild(msg); root.state.chain = new Promise((resolve, reject) => { const observer = new IntersectionObserver((entries) => { for (const entry of entries) { if (entry.isIntersecting) { resolve(); observer.disconnect(); return; } } }, {rootMargin: \"1000px\"}); window.setTimeout(() => { if (root.loadingMsg) { root.loadingMsg.style.opacity = \"1.0\"; } observer.observe(root); }, 0); }); root.state.deferring = false; const _insertNode = (node) => { for (let oldScript of node.querySelectorAll(\"script\")) { let newScript = document.createElement(\"script\"); newScript.type = oldScript.type; newScript.textContent = oldScript.textContent; oldScript.parentNode.replaceChild(newScript, oldScript); } if (root.state.loadingMsg) { root.state.loadingMsg.remove(); root.state.loadingMsg = null; } root.shadowRoot.appendChild(node); }; root.defns.insertContent = ((contentNode, compressed) => { if (compressed) { root.state.deferring = true; } if (root.state.deferring) { root.state.chain = (async () => { await root.state.chain; if (compressed) { const encoded = contentNode.textContent; const blob = new Blob([ Uint8Array.from(atob(encoded), (m) => m.codePointAt(0)) ]); const reader = blob.stream().pipeThrough( new DecompressionStream(\"deflate\") ).pipeThrough( new TextDecoderStream(\"utf-8\") ).getReader(); const parts = []; while (true) { const step = await reader.read(); if (step.done) { break; } parts.push(step.value); } const tpl = document.createElement('template'); tpl.innerHTML = parts.join(\"\"); _insertNode(tpl.content); } else { _insertNode(contentNode.content); } })(); } else { _insertNode(contentNode.content); } }); </script></treescope-run-here><div style=\"display:none\"> <script type=\"application/octet-stream\" >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</script> <treescope-run-here><script type=\"application/octet-stream\"> const root = ( Array.from(document.getElementsByClassName( \"treescope_out_393853d8777d490fa7cff5f0f3ba238e\")) .filter((elt) => !elt.dataset['step0']) )[0]; root.dataset['step0'] = 1; root.defns.insertContent( this.parentNode.querySelector('script[type=\"application/octet-stream\"]'), true ); this.parentNode.remove(); </script></treescope-run-here> </div>"
      ],
      "text/plain": [
       "<IPython.core.display.HTML object>"
      ]
     },
     "metadata": {},
     "output_type": "display_data"
    },
    {
     "data": {
      "text/html": [
       "<treescope-run-here><script type=\"application/octet-stream\"> const root = ( Array.from(document.getElementsByClassName( \"treescope_out_393853d8777d490fa7cff5f0f3ba238e\")) .filter((elt) => !elt.dataset.stolen) )[0]; root.dataset.stolen = 1; this.parentNode.replaceChild(root, this); </script></treescope-run-here>"
      ],
      "text/plain": [
       "{'a': 1,\n",
       " 'b': 'replacement 0',\n",
       " 'c': [{'value': 'replacement 1'}, {'value': 'replacement 2'}, {'value': 3}]}"
      ]
     },
     "execution_count": 53,
     "metadata": {},
     "output_type": "execute_result"
    }
   ],
   "source": [
    "pz.select(my_nested_object).at_instances_of(jax.Array).set_sequence([f\"replacement {i}\" for i in range(3)])"
   ]
  },
  {
   "cell_type": "markdown",
   "metadata": {
    "id": "81cktrxfxGcm"
   },
   "source": [
    "Or provide a mapping based on the selected keypaths:"
   ]
  },
  {
   "cell_type": "code",
   "execution_count": 54,
   "metadata": {
    "execution": {
     "iopub.execute_input": "2024-07-26T21:03:11.075561Z",
     "iopub.status.busy": "2024-07-26T21:03:11.075241Z",
     "iopub.status.idle": "2024-07-26T21:03:11.079695Z",
     "shell.execute_reply": "2024-07-26T21:03:11.079814Z"
    },
    "id": "3u5yEQ1RxCsF"
   },
   "outputs": [
    {
     "data": {
      "text/html": [
       "<script> (()=>{ if (customElements.get('treescope-container') === undefined) { class TreescopeContainer extends HTMLElement { constructor() { super(); this.attachShadow({mode: \"open\"}); this.defns = {}; this.state = {}; } } customElements.define(\"treescope-container\", TreescopeContainer); } if (customElements.get('treescope-run-here') === undefined) { class RunHere extends HTMLElement { constructor() { super() } connectedCallback() { const run = child => { const fn = new Function(child.textContent); child.textContent = \"\"; fn.call(this); this.remove(); }; const child = this.querySelector(\"script\"); if (child) { run(child); } else { new MutationObserver(()=>{ run(this.querySelector(\"script\")); }).observe(this, {childList: true}); } } } customElements.define(\"treescope-run-here\", RunHere); } })(); </script> <treescope-container class=\"treescope_out_95862604c1c64bbf9b4283cae41f9312\" ></treescope-container> <treescope-run-here><script type=\"application/octet-stream\"> const root = ( Array.from(document.getElementsByClassName( \"treescope_out_95862604c1c64bbf9b4283cae41f9312\")) .filter((elt) => !elt.dataset.setup) )[0]; root.dataset.setup = 1; const msg = document.createElement(\"span\"); msg.style = \"color: #aaaaaa; font-family: monospace; transition: opacity 0.2s; opacity: 0.0;\"; msg.textContent = \"(Loading...)\"; root.state.loadingMsg = msg; root.shadowRoot.appendChild(msg); root.state.chain = new Promise((resolve, reject) => { const observer = new IntersectionObserver((entries) => { for (const entry of entries) { if (entry.isIntersecting) { resolve(); observer.disconnect(); return; } } }, {rootMargin: \"1000px\"}); window.setTimeout(() => { if (root.loadingMsg) { root.loadingMsg.style.opacity = \"1.0\"; } observer.observe(root); }, 0); }); root.state.deferring = false; const _insertNode = (node) => { for (let oldScript of node.querySelectorAll(\"script\")) { let newScript = document.createElement(\"script\"); newScript.type = oldScript.type; newScript.textContent = oldScript.textContent; oldScript.parentNode.replaceChild(newScript, oldScript); } if (root.state.loadingMsg) { root.state.loadingMsg.remove(); root.state.loadingMsg = null; } root.shadowRoot.appendChild(node); }; root.defns.insertContent = ((contentNode, compressed) => { if (compressed) { root.state.deferring = true; } if (root.state.deferring) { root.state.chain = (async () => { await root.state.chain; if (compressed) { const encoded = contentNode.textContent; const blob = new Blob([ Uint8Array.from(atob(encoded), (m) => m.codePointAt(0)) ]); const reader = blob.stream().pipeThrough( new DecompressionStream(\"deflate\") ).pipeThrough( new TextDecoderStream(\"utf-8\") ).getReader(); const parts = []; while (true) { const step = await reader.read(); if (step.done) { break; } parts.push(step.value); } const tpl = document.createElement('template'); tpl.innerHTML = parts.join(\"\"); _insertNode(tpl.content); } else { _insertNode(contentNode.content); } })(); } else { _insertNode(contentNode.content); } }); </script></treescope-run-here><div style=\"display:none\"> <script type=\"application/octet-stream\" >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</script> <treescope-run-here><script type=\"application/octet-stream\"> const root = ( Array.from(document.getElementsByClassName( \"treescope_out_95862604c1c64bbf9b4283cae41f9312\")) .filter((elt) => !elt.dataset['step0']) )[0]; root.dataset['step0'] = 1; root.defns.insertContent( this.parentNode.querySelector('script[type=\"application/octet-stream\"]'), true ); this.parentNode.remove(); </script></treescope-run-here> </div>"
      ],
      "text/plain": [
       "<IPython.core.display.HTML object>"
      ]
     },
     "metadata": {},
     "output_type": "display_data"
    },
    {
     "data": {
      "text/html": [
       "<treescope-run-here><script type=\"application/octet-stream\"> const root = ( Array.from(document.getElementsByClassName( \"treescope_out_95862604c1c64bbf9b4283cae41f9312\")) .filter((elt) => !elt.dataset.stolen) )[0]; root.dataset.stolen = 1; this.parentNode.replaceChild(root, this); </script></treescope-run-here>"
      ],
      "text/plain": [
       "{'a': 1, 'b': 'A', 'c': [{'value': 'B'}, {'value': 'C'}, {'value': 3}]}"
      ]
     },
     "execution_count": 54,
     "metadata": {},
     "output_type": "execute_result"
    }
   ],
   "source": [
    "pz.select(my_nested_object).at_instances_of(jax.Array).set_by_path({\n",
    "    (jax.tree_util.DictKey(key='b'),): \"A\",\n",
    "    (jax.tree_util.DictKey(key='c'), jax.tree_util.SequenceKey(idx=0), jax.tree_util.DictKey(key='value')): \"B\",\n",
    "    (jax.tree_util.DictKey(key='c'), jax.tree_util.SequenceKey(idx=1), jax.tree_util.DictKey(key='value')): \"C\",\n",
    "})"
   ]
  },
  {
   "cell_type": "markdown",
   "metadata": {
    "id": "wIWQ8ChOeMQe"
   },
   "source": [
    "`set_by_path` accepts the same input as is produced by `get_by_path`, which can be convenient for modifying some values and then putting them back, or for taking gradients with respect to only a subset of values:"
   ]
  },
  {
   "cell_type": "code",
   "execution_count": 55,
   "metadata": {
    "execution": {
     "iopub.execute_input": "2024-07-26T21:03:11.086796Z",
     "iopub.status.busy": "2024-07-26T21:03:11.086551Z",
     "iopub.status.idle": "2024-07-26T21:03:11.090307Z",
     "shell.execute_reply": "2024-07-26T21:03:11.090449Z"
    },
    "id": "A4FdZZuHeWYO"
   },
   "outputs": [
    {
     "data": {
      "text/html": [
       "<script> (()=>{ if (customElements.get('treescope-container') === undefined) { class TreescopeContainer extends HTMLElement { constructor() { super(); this.attachShadow({mode: \"open\"}); this.defns = {}; this.state = {}; } } customElements.define(\"treescope-container\", TreescopeContainer); } if (customElements.get('treescope-run-here') === undefined) { class RunHere extends HTMLElement { constructor() { super() } connectedCallback() { const run = child => { const fn = new Function(child.textContent); child.textContent = \"\"; fn.call(this); this.remove(); }; const child = this.querySelector(\"script\"); if (child) { run(child); } else { new MutationObserver(()=>{ run(this.querySelector(\"script\")); }).observe(this, {childList: true}); } } } customElements.define(\"treescope-run-here\", RunHere); } })(); </script> <treescope-container class=\"treescope_out_b8dbb06a9e024f40bd7724ec5e454bc7\" ></treescope-container> <treescope-run-here><script type=\"application/octet-stream\"> const root = ( Array.from(document.getElementsByClassName( \"treescope_out_b8dbb06a9e024f40bd7724ec5e454bc7\")) .filter((elt) => !elt.dataset.setup) )[0]; root.dataset.setup = 1; const msg = document.createElement(\"span\"); msg.style = \"color: #aaaaaa; font-family: monospace; transition: opacity 0.2s; opacity: 0.0;\"; msg.textContent = \"(Loading...)\"; root.state.loadingMsg = msg; root.shadowRoot.appendChild(msg); root.state.chain = new Promise((resolve, reject) => { const observer = new IntersectionObserver((entries) => { for (const entry of entries) { if (entry.isIntersecting) { resolve(); observer.disconnect(); return; } } }, {rootMargin: \"1000px\"}); window.setTimeout(() => { if (root.loadingMsg) { root.loadingMsg.style.opacity = \"1.0\"; } observer.observe(root); }, 0); }); root.state.deferring = false; const _insertNode = (node) => { for (let oldScript of node.querySelectorAll(\"script\")) { let newScript = document.createElement(\"script\"); newScript.type = oldScript.type; newScript.textContent = oldScript.textContent; oldScript.parentNode.replaceChild(newScript, oldScript); } if (root.state.loadingMsg) { root.state.loadingMsg.remove(); root.state.loadingMsg = null; } root.shadowRoot.appendChild(node); }; root.defns.insertContent = ((contentNode, compressed) => { if (compressed) { root.state.deferring = true; } if (root.state.deferring) { root.state.chain = (async () => { await root.state.chain; if (compressed) { const encoded = contentNode.textContent; const blob = new Blob([ Uint8Array.from(atob(encoded), (m) => m.codePointAt(0)) ]); const reader = blob.stream().pipeThrough( new DecompressionStream(\"deflate\") ).pipeThrough( new TextDecoderStream(\"utf-8\") ).getReader(); const parts = []; while (true) { const step = await reader.read(); if (step.done) { break; } parts.push(step.value); } const tpl = document.createElement('template'); tpl.innerHTML = parts.join(\"\"); _insertNode(tpl.content); } else { _insertNode(contentNode.content); } })(); } else { _insertNode(contentNode.content); } }); </script></treescope-run-here><div style=\"display:none\"> <script type=\"application/octet-stream\" >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</script> <treescope-run-here><script type=\"application/octet-stream\"> const root = ( Array.from(document.getElementsByClassName( \"treescope_out_b8dbb06a9e024f40bd7724ec5e454bc7\")) .filter((elt) => !elt.dataset['step0']) )[0]; root.dataset['step0'] = 1; root.defns.insertContent( this.parentNode.querySelector('script[type=\"application/octet-stream\"]'), true ); this.parentNode.remove(); </script></treescope-run-here> </div>"
      ],
      "text/plain": [
       "<IPython.core.display.HTML object>"
      ]
     },
     "metadata": {},
     "output_type": "display_data"
    },
    {
     "data": {
      "text/html": [
       "<treescope-run-here><script type=\"application/octet-stream\"> const root = ( Array.from(document.getElementsByClassName( \"treescope_out_b8dbb06a9e024f40bd7724ec5e454bc7\")) .filter((elt) => !elt.dataset.stolen) )[0]; root.dataset.stolen = 1; this.parentNode.replaceChild(root, this); </script></treescope-run-here>"
      ],
      "text/plain": [
       "{'a': 1,\n",
       " 'b': 'A JAX array: [0 1 2 3 4 5 6 7 8 9]',\n",
       " 'c': [{'value': 'A JAX array: [ 0  1  2  3  4  5  6  7  8  9 10 11]'},\n",
       "  {'value': 'A JAX array: [0. 0. 0. 0. 0. 0. 0.]'},\n",
       "  {'value': 3}]}"
      ]
     },
     "execution_count": 55,
     "metadata": {},
     "output_type": "execute_result"
    }
   ],
   "source": [
    "selection = pz.select(my_nested_object).at_instances_of(jax.Array)\n",
    "selection.set_by_path(\n",
    "    {key: f\"A JAX array: {value}\" for key, value in selection.get_by_path().items()}\n",
    ")"
   ]
  },
  {
   "cell_type": "code",
   "execution_count": 56,
   "metadata": {
    "execution": {
     "iopub.execute_input": "2024-07-26T21:03:11.094762Z",
     "iopub.status.busy": "2024-07-26T21:03:11.094427Z",
     "iopub.status.idle": "2024-07-26T21:03:11.545854Z",
     "shell.execute_reply": "2024-07-26T21:03:11.545562Z"
    },
    "id": "YEpc6lCxel42"
   },
   "outputs": [
    {
     "data": {
      "text/html": [
       "<script> (()=>{ if (customElements.get('treescope-container') === undefined) { class TreescopeContainer extends HTMLElement { constructor() { super(); this.attachShadow({mode: \"open\"}); this.defns = {}; this.state = {}; } } customElements.define(\"treescope-container\", TreescopeContainer); } if (customElements.get('treescope-run-here') === undefined) { class RunHere extends HTMLElement { constructor() { super() } connectedCallback() { const run = child => { const fn = new Function(child.textContent); child.textContent = \"\"; fn.call(this); this.remove(); }; const child = this.querySelector(\"script\"); if (child) { run(child); } else { new MutationObserver(()=>{ run(this.querySelector(\"script\")); }).observe(this, {childList: true}); } } } customElements.define(\"treescope-run-here\", RunHere); } })(); </script> <treescope-container class=\"treescope_out_ec99ba1eb8e94383995144d8d4257dfa\" ></treescope-container> <treescope-run-here><script type=\"application/octet-stream\"> const root = ( Array.from(document.getElementsByClassName( \"treescope_out_ec99ba1eb8e94383995144d8d4257dfa\")) .filter((elt) => !elt.dataset.setup) )[0]; root.dataset.setup = 1; const msg = document.createElement(\"span\"); msg.style = \"color: #aaaaaa; font-family: monospace; transition: opacity 0.2s; opacity: 0.0;\"; msg.textContent = \"(Loading...)\"; root.state.loadingMsg = msg; root.shadowRoot.appendChild(msg); root.state.chain = new Promise((resolve, reject) => { const observer = new IntersectionObserver((entries) => { for (const entry of entries) { if (entry.isIntersecting) { resolve(); observer.disconnect(); return; } } }, {rootMargin: \"1000px\"}); window.setTimeout(() => { if (root.loadingMsg) { root.loadingMsg.style.opacity = \"1.0\"; } observer.observe(root); }, 0); }); root.state.deferring = false; const _insertNode = (node) => { for (let oldScript of node.querySelectorAll(\"script\")) { let newScript = document.createElement(\"script\"); newScript.type = oldScript.type; newScript.textContent = oldScript.textContent; oldScript.parentNode.replaceChild(newScript, oldScript); } if (root.state.loadingMsg) { root.state.loadingMsg.remove(); root.state.loadingMsg = null; } root.shadowRoot.appendChild(node); }; root.defns.insertContent = ((contentNode, compressed) => { if (compressed) { root.state.deferring = true; } if (root.state.deferring) { root.state.chain = (async () => { await root.state.chain; if (compressed) { const encoded = contentNode.textContent; const blob = new Blob([ Uint8Array.from(atob(encoded), (m) => m.codePointAt(0)) ]); const reader = blob.stream().pipeThrough( new DecompressionStream(\"deflate\") ).pipeThrough( new TextDecoderStream(\"utf-8\") ).getReader(); const parts = []; while (true) { const step = await reader.read(); if (step.done) { break; } parts.push(step.value); } const tpl = document.createElement('template'); tpl.innerHTML = parts.join(\"\"); _insertNode(tpl.content); } else { _insertNode(contentNode.content); } })(); } else { _insertNode(contentNode.content); } }); </script></treescope-run-here><div style=\"display:none\"> <script type=\"application/octet-stream\" >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</script> <treescope-run-here><script type=\"application/octet-stream\"> const root = ( Array.from(document.getElementsByClassName( \"treescope_out_ec99ba1eb8e94383995144d8d4257dfa\")) .filter((elt) => !elt.dataset['step0']) )[0]; root.dataset['step0'] = 1; root.defns.insertContent( this.parentNode.querySelector('script[type=\"application/octet-stream\"]'), true ); this.parentNode.remove(); </script></treescope-run-here> </div>"
      ],
      "text/plain": [
       "<IPython.core.display.HTML object>"
      ]
     },
     "metadata": {},
     "output_type": "display_data"
    },
    {
     "data": {
      "text/html": [
       "<div style=\"display:none\"> <script type=\"application/octet-stream\" >eNq1VMlu2zAQ/RWCAQIbcRhRUhwqXoA2aYFcemgPPQSGQZMjmwUtqhRt1Cjy7x3KS5w2RZ1DDxppNPNmeXzSUJs1acLGwohq09RWbm5J5SqgxOgRLZ2faijBe9BTPZOp0KmWsuB5XyjRz1OtC+A3oigyPqPjYVPLCm2sN2bKWYTL2czDmvwkrXtLzvoilUkyIE/Dq21iiyLKyqYZ0WMQHZ/bMPgmf7B33stN55EkrEdIGk0eTT8agYbHAI8BHgM8Brhgkx7RYVPDqLROhiztns/DANu2U+5vyMB4+AYa+kIIztMbrUWR8zSVSsySLMv1tSzKXJbPNJy6Fo/Tnnz9l6WSG1mI5LrIdFbmoq9EkopCFbM0ySSXZfL2peKJvH6dvkDwAI1yNVz6VXW5AB/ForypA2kLUFnX1igZjKuunAoQLhvEyCUdK1c1mCX9HMKDbsiIPNLTldwj9PTzPk7+J4+TwXYy7ZR3LuBcYWEahlN+RveT09DpDshuelx/l7RLZ99X4DdfwIIKzncoOzA0jWF6gJZezpdQ7aCr+MgUMhPgfud+3GX82e7OokYQuK/BkGWo9N3CWN3ZJzEVs9p5g19BF6ugoEjHQiAGwfiBGzJ8PgBmoZqHBb69uOji3yDmbYPHndD9YCE+vt88YLM9+tFMsEHENG7lFdyjsv9KyllUNiUX5Df41mUe8EtQ8NWERedQjZXGN/ve7aYIeI56WLp1ezJPB5peFHrBXTequZUpCvkVDf8CLivIRw==</script> <treescope-run-here><script type=\"application/octet-stream\"> const root = ( Array.from(document.getElementsByClassName( \"treescope_out_ec99ba1eb8e94383995144d8d4257dfa\")) .filter((elt) => !elt.dataset['step1']) )[0]; root.dataset['step1'] = 1; root.defns.insertContent( this.parentNode.querySelector('script[type=\"application/octet-stream\"]'), true ); this.parentNode.remove(); </script></treescope-run-here> </div>"
      ],
      "text/plain": [
       "<IPython.core.display.HTML object>"
      ]
     },
     "metadata": {},
     "output_type": "display_data"
    },
    {
     "data": {
      "text/html": [
       "<treescope-run-here><script type=\"application/octet-stream\"> const root = ( Array.from(document.getElementsByClassName( \"treescope_out_ec99ba1eb8e94383995144d8d4257dfa\")) .filter((elt) => !elt.dataset.stolen) )[0]; root.dataset.stolen = 1; this.parentNode.replaceChild(root, this); </script></treescope-run-here>"
      ],
      "text/plain": [
       "OrderedDict([((DictKey(key='b'),),\n",
       "              <jax.Array([ 0.,  2.,  4.,  6.,  8., 10., 12., 14., 16., 18.], dtype=float32)>),\n",
       "             ((DictKey(key='c'), SequenceKey(idx=0), DictKey(key='value')),\n",
       "              <jax.Array([1., 1., 1., 1., 1., 1., 1., 1., 1., 1., 1., 1.], dtype=float32)>),\n",
       "             ((DictKey(key='c'), SequenceKey(idx=1), DictKey(key='value')),\n",
       "              <jax.Array([0., 0., 0., 0., 0., 0., 0.], dtype=float32)>)])"
      ]
     },
     "execution_count": 56,
     "metadata": {},
     "output_type": "execute_result"
    }
   ],
   "source": [
    "def my_loss(obj):\n",
    "  return obj[\"a\"] + jnp.sum(obj[\"b\"]**2) + jnp.sum(obj[\"c\"][0][\"value\"])\n",
    "\n",
    "my_float_object = jax.tree_util.tree_map(lambda leaf: jnp.array(leaf, dtype=jnp.float32), my_nested_object)\n",
    "\n",
    "# Take gradients w.r.t. non-scalars only, ignoring my_float_object[\"a\"] and my_float_object[\"c\"][2][\"value\"]\n",
    "gradient_selection = pz.select(my_float_object).at_instances_of(jax.Array).where(lambda arr: arr.size > 1)\n",
    "\n",
    "jax.grad(\n",
    "    # Swap in the version of the values that JAX is taking gradients for:\n",
    "    lambda vectors_by_path: my_loss(gradient_selection.set_by_path(vectors_by_path))\n",
    ")(gradient_selection.get_by_path())"
   ]
  },
  {
   "cell_type": "markdown",
   "metadata": {
    "id": "bkZAwu42ftwC"
   },
   "source": [
    "You can also use `select_and_set_by_path` to infer the selection from the input paths instead:"
   ]
  },
  {
   "cell_type": "code",
   "execution_count": 57,
   "metadata": {
    "execution": {
     "iopub.execute_input": "2024-07-26T21:03:11.550974Z",
     "iopub.status.busy": "2024-07-26T21:03:11.550728Z",
     "iopub.status.idle": "2024-07-26T21:03:11.570940Z",
     "shell.execute_reply": "2024-07-26T21:03:11.570738Z"
    },
    "id": "73vXA1ZvfxFK"
   },
   "outputs": [
    {
     "data": {
      "text/html": [
       "<script> (()=>{ if (customElements.get('treescope-container') === undefined) { class TreescopeContainer extends HTMLElement { constructor() { super(); this.attachShadow({mode: \"open\"}); this.defns = {}; this.state = {}; } } customElements.define(\"treescope-container\", TreescopeContainer); } if (customElements.get('treescope-run-here') === undefined) { class RunHere extends HTMLElement { constructor() { super() } connectedCallback() { const run = child => { const fn = new Function(child.textContent); child.textContent = \"\"; fn.call(this); this.remove(); }; const child = this.querySelector(\"script\"); if (child) { run(child); } else { new MutationObserver(()=>{ run(this.querySelector(\"script\")); }).observe(this, {childList: true}); } } } customElements.define(\"treescope-run-here\", RunHere); } })(); </script> <treescope-container class=\"treescope_out_5e84a9d0ddf54429a30e1d292a560d49\" ></treescope-container> <treescope-run-here><script type=\"application/octet-stream\"> const root = ( Array.from(document.getElementsByClassName( \"treescope_out_5e84a9d0ddf54429a30e1d292a560d49\")) .filter((elt) => !elt.dataset.setup) )[0]; root.dataset.setup = 1; const msg = document.createElement(\"span\"); msg.style = \"color: #aaaaaa; font-family: monospace; transition: opacity 0.2s; opacity: 0.0;\"; msg.textContent = \"(Loading...)\"; root.state.loadingMsg = msg; root.shadowRoot.appendChild(msg); root.state.chain = new Promise((resolve, reject) => { const observer = new IntersectionObserver((entries) => { for (const entry of entries) { if (entry.isIntersecting) { resolve(); observer.disconnect(); return; } } }, {rootMargin: \"1000px\"}); window.setTimeout(() => { if (root.loadingMsg) { root.loadingMsg.style.opacity = \"1.0\"; } observer.observe(root); }, 0); }); root.state.deferring = false; const _insertNode = (node) => { for (let oldScript of node.querySelectorAll(\"script\")) { let newScript = document.createElement(\"script\"); newScript.type = oldScript.type; newScript.textContent = oldScript.textContent; oldScript.parentNode.replaceChild(newScript, oldScript); } if (root.state.loadingMsg) { root.state.loadingMsg.remove(); root.state.loadingMsg = null; } root.shadowRoot.appendChild(node); }; root.defns.insertContent = ((contentNode, compressed) => { if (compressed) { root.state.deferring = true; } if (root.state.deferring) { root.state.chain = (async () => { await root.state.chain; if (compressed) { const encoded = contentNode.textContent; const blob = new Blob([ Uint8Array.from(atob(encoded), (m) => m.codePointAt(0)) ]); const reader = blob.stream().pipeThrough( new DecompressionStream(\"deflate\") ).pipeThrough( new TextDecoderStream(\"utf-8\") ).getReader(); const parts = []; while (true) { const step = await reader.read(); if (step.done) { break; } parts.push(step.value); } const tpl = document.createElement('template'); tpl.innerHTML = parts.join(\"\"); _insertNode(tpl.content); } else { _insertNode(contentNode.content); } })(); } else { _insertNode(contentNode.content); } }); </script></treescope-run-here><div style=\"display:none\"> <script type=\"application/octet-stream\" >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</script> <treescope-run-here><script type=\"application/octet-stream\"> const root = ( Array.from(document.getElementsByClassName( \"treescope_out_5e84a9d0ddf54429a30e1d292a560d49\")) .filter((elt) => !elt.dataset['step0']) )[0]; root.dataset['step0'] = 1; root.defns.insertContent( this.parentNode.querySelector('script[type=\"application/octet-stream\"]'), true ); this.parentNode.remove(); </script></treescope-run-here> </div>"
      ],
      "text/plain": [
       "<IPython.core.display.HTML object>"
      ]
     },
     "metadata": {},
     "output_type": "display_data"
    },
    {
     "data": {
      "text/html": [
       "<div style=\"display:none\"> <script type=\"application/octet-stream\" >eNq1VMlu2zAQ/RWCAQIZSRhtluV4AdqkBXLpoT30YBgGRQ5tFoyoUnRQo8i/dyhvSZuizqEHjTmeebM8Pmks9SNp/cbAhErdNoZvbkhta6BEywlV1i0kKHAO5CLlPOa8FDLmw7wqB8NqqCBPoOBK8VyVdDpuG16jDfWmTFiDcF5VDh7JT9K5N+SsKFMexyPyNL7eJnYoIgxv2wl9DqLTc+NH3/gP9s45volmJGaXhKTB5MEUwZRokhBIQiAJgSQEkpLNL4n0mwYmyljus7R3vvQjbNtNuf9BBqbjN9BQqAKqYTEYxGWSDwtRlVmFB9lPoSyzQXyk4dS1kjDtyc9/WUpmA6mGSgz6fZ4nWZ+nSopSFlksVN4X2duXCjfy+nP6At4BtMI2cOXW9dUKXBCLcLrxpCtAedMYLbjXtr62woO/ahHDH+hU2LrFLO6W4O9lSyZkRk9X8iWhp9/38+R/8jgfbSeTVjhrPc7lV7plOOVndD9ZCVFvRHbT4/q7pF06+74Gt/kCBoS3LqLswNAihOkBqhxfPkC9g67DkQlkxsPdzv24y/iz3a1BjSBwX4Mhy1DL25U2MtonMRGyunm9W0MPq6CgSGTAE41gfME1GR8vgBmol36F/15c9PBrEPK2weed0P1gIBzfb+6x2R4903NsEDCtXTsBd6jsv5JyFpRNyQX5Db51mQN8EwR81X4VHaoxpV27791tioBj1MGDfexu5ulA04tCL7jrBTV3MkUhv6LhX2Vhy2E=</script> <treescope-run-here><script type=\"application/octet-stream\"> const root = ( Array.from(document.getElementsByClassName( \"treescope_out_5e84a9d0ddf54429a30e1d292a560d49\")) .filter((elt) => !elt.dataset['step1']) )[0]; root.dataset['step1'] = 1; root.defns.insertContent( this.parentNode.querySelector('script[type=\"application/octet-stream\"]'), true ); this.parentNode.remove(); </script></treescope-run-here> </div>"
      ],
      "text/plain": [
       "<IPython.core.display.HTML object>"
      ]
     },
     "metadata": {},
     "output_type": "display_data"
    },
    {
     "data": {
      "text/html": [
       "<treescope-run-here><script type=\"application/octet-stream\"> const root = ( Array.from(document.getElementsByClassName( \"treescope_out_5e84a9d0ddf54429a30e1d292a560d49\")) .filter((elt) => !elt.dataset.stolen) )[0]; root.dataset.stolen = 1; this.parentNode.replaceChild(root, this); </script></treescope-run-here>"
      ],
      "text/plain": [
       "OrderedDict([((DictKey(key='b'),),\n",
       "              <jax.Array([ 0.,  2.,  4.,  6.,  8., 10., 12., 14., 16., 18.], dtype=float32)>),\n",
       "             ((DictKey(key='c'), SequenceKey(idx=0), DictKey(key='value')),\n",
       "              <jax.Array([1., 1., 1., 1., 1., 1., 1., 1., 1., 1., 1., 1.], dtype=float32)>),\n",
       "             ((DictKey(key='c'), SequenceKey(idx=1), DictKey(key='value')),\n",
       "              <jax.Array([0., 0., 0., 0., 0., 0., 0.], dtype=float32)>)])"
      ]
     },
     "execution_count": 57,
     "metadata": {},
     "output_type": "execute_result"
    }
   ],
   "source": [
    "def my_loss(obj):\n",
    "  return obj[\"a\"] + jnp.sum(obj[\"b\"]**2) + jnp.sum(obj[\"c\"][0][\"value\"])\n",
    "\n",
    "my_float_object = jax.tree_util.tree_map(lambda leaf: jnp.array(leaf, dtype=jnp.float32), my_nested_object)\n",
    "\n",
    "# Take gradients w.r.t. non-scalars only, ignoring my_float_object[\"a\"] and my_float_object[\"c\"][2][\"value\"]\n",
    "# No need to store the gradient selection itself, since it can be inferred from vectors_by_path.\n",
    "vectors_by_path = pz.select(my_float_object).at_instances_of(jax.Array).where(lambda arr: arr.size > 1).get_by_path()\n",
    "\n",
    "jax.grad(\n",
    "    lambda vectors_by_path: my_loss(pz.select(my_float_object).select_and_set_by_path(vectors_by_path))\n",
    ")(vectors_by_path)"
   ]
  },
  {
   "cell_type": "markdown",
   "metadata": {
    "id": "p91fKstrxqoe"
   },
   "source": [
    "### Applying functions to selected values\n",
    "\n",
    "You can use `.apply` to apply a function to every selected object, similar to `jax.tree_util.tree_map` except that it applies to the selected subtrees rather than to the leaves:"
   ]
  },
  {
   "cell_type": "code",
   "execution_count": 58,
   "metadata": {
    "execution": {
     "iopub.execute_input": "2024-07-26T21:03:11.579957Z",
     "iopub.status.busy": "2024-07-26T21:03:11.579716Z",
     "iopub.status.idle": "2024-07-26T21:03:11.660937Z",
     "shell.execute_reply": "2024-07-26T21:03:11.660726Z"
    },
    "id": "PrRQyM58xbOE"
   },
   "outputs": [
    {
     "data": {
      "text/html": [
       "<script> (()=>{ if (customElements.get('treescope-container') === undefined) { class TreescopeContainer extends HTMLElement { constructor() { super(); this.attachShadow({mode: \"open\"}); this.defns = {}; this.state = {}; } } customElements.define(\"treescope-container\", TreescopeContainer); } if (customElements.get('treescope-run-here') === undefined) { class RunHere extends HTMLElement { constructor() { super() } connectedCallback() { const run = child => { const fn = new Function(child.textContent); child.textContent = \"\"; fn.call(this); this.remove(); }; const child = this.querySelector(\"script\"); if (child) { run(child); } else { new MutationObserver(()=>{ run(this.querySelector(\"script\")); }).observe(this, {childList: true}); } } } customElements.define(\"treescope-run-here\", RunHere); } })(); </script> <treescope-container class=\"treescope_out_a978bfdcb3354582884776411bf52d55\" ></treescope-container> <treescope-run-here><script type=\"application/octet-stream\"> const root = ( Array.from(document.getElementsByClassName( \"treescope_out_a978bfdcb3354582884776411bf52d55\")) .filter((elt) => !elt.dataset.setup) )[0]; root.dataset.setup = 1; const msg = document.createElement(\"span\"); msg.style = \"color: #aaaaaa; font-family: monospace; transition: opacity 0.2s; opacity: 0.0;\"; msg.textContent = \"(Loading...)\"; root.state.loadingMsg = msg; root.shadowRoot.appendChild(msg); root.state.chain = new Promise((resolve, reject) => { const observer = new IntersectionObserver((entries) => { for (const entry of entries) { if (entry.isIntersecting) { resolve(); observer.disconnect(); return; } } }, {rootMargin: \"1000px\"}); window.setTimeout(() => { if (root.loadingMsg) { root.loadingMsg.style.opacity = \"1.0\"; } observer.observe(root); }, 0); }); root.state.deferring = false; const _insertNode = (node) => { for (let oldScript of node.querySelectorAll(\"script\")) { let newScript = document.createElement(\"script\"); newScript.type = oldScript.type; newScript.textContent = oldScript.textContent; oldScript.parentNode.replaceChild(newScript, oldScript); } if (root.state.loadingMsg) { root.state.loadingMsg.remove(); root.state.loadingMsg = null; } root.shadowRoot.appendChild(node); }; root.defns.insertContent = ((contentNode, compressed) => { if (compressed) { root.state.deferring = true; } if (root.state.deferring) { root.state.chain = (async () => { await root.state.chain; if (compressed) { const encoded = contentNode.textContent; const blob = new Blob([ Uint8Array.from(atob(encoded), (m) => m.codePointAt(0)) ]); const reader = blob.stream().pipeThrough( new DecompressionStream(\"deflate\") ).pipeThrough( new TextDecoderStream(\"utf-8\") ).getReader(); const parts = []; while (true) { const step = await reader.read(); if (step.done) { break; } parts.push(step.value); } const tpl = document.createElement('template'); tpl.innerHTML = parts.join(\"\"); _insertNode(tpl.content); } else { _insertNode(contentNode.content); } })(); } else { _insertNode(contentNode.content); } }); </script></treescope-run-here><div style=\"display:none\"> <script type=\"application/octet-stream\" >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</script> <treescope-run-here><script type=\"application/octet-stream\"> const root = ( Array.from(document.getElementsByClassName( \"treescope_out_a978bfdcb3354582884776411bf52d55\")) .filter((elt) => !elt.dataset['step0']) )[0]; root.dataset['step0'] = 1; root.defns.insertContent( this.parentNode.querySelector('script[type=\"application/octet-stream\"]'), true ); this.parentNode.remove(); </script></treescope-run-here> </div>"
      ],
      "text/plain": [
       "<IPython.core.display.HTML object>"
      ]
     },
     "metadata": {},
     "output_type": "display_data"
    },
    {
     "data": {
      "text/html": [
       "<div style=\"display:none\"> <script type=\"application/octet-stream\" >eNq1VMtu2zAQ/BWCAQIbcRRRL0vxA2iTFsilh/bQQxAEFLmyWdCiStFGjSL/3qUsO05fSQvksuaKO7s7o5GnUm1I67YaZlSqttF8e0lqUwMlSs5oZey9hAqsBXnPkiphRZ5AlsVJPC7yOEvHmYzCOGE8jhM6n7YNrzH6fvNAGI1wXpYWNuQ76dJLcpLlEQ/DCXmYXuwKOxQRmrftjB6D6PxUu8kX/i14Yy3fDm5ZGI4IC5kPiQ8FBpZhiFIMsT8l/lnmb3N2NyLSbRuYqdrF0fB04SY4tNtx/4P859N/ECEpRFmWqEGRMRShLJJxyiIehzKHHOSRCK9FakQij4ii16AH2LtgEUtFCUkVx2Ua83Q8TqIUcpaF8F/0As/quXggU2nD/0rHWYBWmAbO7bo+X4L1FhJWNY50DShvGq0Ed8rUF0Y4cOctYviKzoWpW6zidgHuRrZkRm7py/09IvTlPjguflbVu8luM2mENcbhXm6p2gC3/IjpByNhMJyQfnuk3xf15cHXNdjtJ9AgnLEDGhwUuvfX9ACtLF+soO6ha38MBCrj4LpP3/cVv4670ugYBO57BKgy1PJqqbQc7IsC4au6fZ1dwxC7oL3IQIMjCsH42SsyfXwBgYZ64Zb49OxsiP8Rvm53eTwJ03ca/PHt9gaH7dG36g4HeExr1lbANfr8j6KceJ9TckZ+gu/SwAJ+FwI+K7ccHLoFlbLtfnbHFAGPtxZWZtO9mYeDTE8aPdFu6N3c2RSN/BsP/wB4UcnI</script> <treescope-run-here><script type=\"application/octet-stream\"> const root = ( Array.from(document.getElementsByClassName( \"treescope_out_a978bfdcb3354582884776411bf52d55\")) .filter((elt) => !elt.dataset['step1']) )[0]; root.dataset['step1'] = 1; root.defns.insertContent( this.parentNode.querySelector('script[type=\"application/octet-stream\"]'), true ); this.parentNode.remove(); </script></treescope-run-here> </div>"
      ],
      "text/plain": [
       "<IPython.core.display.HTML object>"
      ]
     },
     "metadata": {},
     "output_type": "display_data"
    },
    {
     "data": {
      "text/html": [
       "<treescope-run-here><script type=\"application/octet-stream\"> const root = ( Array.from(document.getElementsByClassName( \"treescope_out_a978bfdcb3354582884776411bf52d55\")) .filter((elt) => !elt.dataset.stolen) )[0]; root.dataset.stolen = 1; this.parentNode.replaceChild(root, this); </script></treescope-run-here>"
      ],
      "text/plain": [
       "{'a': 1,\n",
       " 'b': <jax.Array([100, 101, 104, 109, 116, 125, 136, 149, 164, 181], dtype=int32)>,\n",
       " 'c': [{'value': <jax.Array([100, 101, 104, 109, 116, 125, 136, 149, 164, 181, 200, 221], dtype=int32)>},\n",
       "  {'value': <jax.Array([100., 100., 100., 100., 100., 100., 100.], dtype=float32)>},\n",
       "  {'value': 3}]}"
      ]
     },
     "execution_count": 58,
     "metadata": {},
     "output_type": "execute_result"
    }
   ],
   "source": [
    "pz.select(my_nested_object).at_instances_of(jax.Array).apply(lambda x: x**2 + 100)"
   ]
  },
  {
   "cell_type": "markdown",
   "metadata": {
    "id": "CNBv2zCFysUP"
   },
   "source": [
    "You can also do `apply(fn, with_keypath=True)` to get access to the key paths as well:"
   ]
  },
  {
   "cell_type": "code",
   "execution_count": 59,
   "metadata": {
    "execution": {
     "iopub.execute_input": "2024-07-26T21:03:11.667704Z",
     "iopub.status.busy": "2024-07-26T21:03:11.667292Z",
     "iopub.status.idle": "2024-07-26T21:03:11.671613Z",
     "shell.execute_reply": "2024-07-26T21:03:11.671734Z"
    },
    "id": "8sT0FJ2yypAd"
   },
   "outputs": [
    {
     "data": {
      "text/html": [
       "<script> (()=>{ if (customElements.get('treescope-container') === undefined) { class TreescopeContainer extends HTMLElement { constructor() { super(); this.attachShadow({mode: \"open\"}); this.defns = {}; this.state = {}; } } customElements.define(\"treescope-container\", TreescopeContainer); } if (customElements.get('treescope-run-here') === undefined) { class RunHere extends HTMLElement { constructor() { super() } connectedCallback() { const run = child => { const fn = new Function(child.textContent); child.textContent = \"\"; fn.call(this); this.remove(); }; const child = this.querySelector(\"script\"); if (child) { run(child); } else { new MutationObserver(()=>{ run(this.querySelector(\"script\")); }).observe(this, {childList: true}); } } } customElements.define(\"treescope-run-here\", RunHere); } })(); </script> <treescope-container class=\"treescope_out_39c3ab1c42c141b8acf1ee8160f6864a\" ></treescope-container> <treescope-run-here><script type=\"application/octet-stream\"> const root = ( Array.from(document.getElementsByClassName( \"treescope_out_39c3ab1c42c141b8acf1ee8160f6864a\")) .filter((elt) => !elt.dataset.setup) )[0]; root.dataset.setup = 1; const msg = document.createElement(\"span\"); msg.style = \"color: #aaaaaa; font-family: monospace; transition: opacity 0.2s; opacity: 0.0;\"; msg.textContent = \"(Loading...)\"; root.state.loadingMsg = msg; root.shadowRoot.appendChild(msg); root.state.chain = new Promise((resolve, reject) => { const observer = new IntersectionObserver((entries) => { for (const entry of entries) { if (entry.isIntersecting) { resolve(); observer.disconnect(); return; } } }, {rootMargin: \"1000px\"}); window.setTimeout(() => { if (root.loadingMsg) { root.loadingMsg.style.opacity = \"1.0\"; } observer.observe(root); }, 0); }); root.state.deferring = false; const _insertNode = (node) => { for (let oldScript of node.querySelectorAll(\"script\")) { let newScript = document.createElement(\"script\"); newScript.type = oldScript.type; newScript.textContent = oldScript.textContent; oldScript.parentNode.replaceChild(newScript, oldScript); } if (root.state.loadingMsg) { root.state.loadingMsg.remove(); root.state.loadingMsg = null; } root.shadowRoot.appendChild(node); }; root.defns.insertContent = ((contentNode, compressed) => { if (compressed) { root.state.deferring = true; } if (root.state.deferring) { root.state.chain = (async () => { await root.state.chain; if (compressed) { const encoded = contentNode.textContent; const blob = new Blob([ Uint8Array.from(atob(encoded), (m) => m.codePointAt(0)) ]); const reader = blob.stream().pipeThrough( new DecompressionStream(\"deflate\") ).pipeThrough( new TextDecoderStream(\"utf-8\") ).getReader(); const parts = []; while (true) { const step = await reader.read(); if (step.done) { break; } parts.push(step.value); } const tpl = document.createElement('template'); tpl.innerHTML = parts.join(\"\"); _insertNode(tpl.content); } else { _insertNode(contentNode.content); } })(); } else { _insertNode(contentNode.content); } }); </script></treescope-run-here><div style=\"display:none\"> <script type=\"application/octet-stream\" >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</script> <treescope-run-here><script type=\"application/octet-stream\"> const root = ( Array.from(document.getElementsByClassName( \"treescope_out_39c3ab1c42c141b8acf1ee8160f6864a\")) .filter((elt) => !elt.dataset['step0']) )[0]; root.dataset['step0'] = 1; root.defns.insertContent( this.parentNode.querySelector('script[type=\"application/octet-stream\"]'), true ); this.parentNode.remove(); </script></treescope-run-here> </div>"
      ],
      "text/plain": [
       "<IPython.core.display.HTML object>"
      ]
     },
     "metadata": {},
     "output_type": "display_data"
    },
    {
     "data": {
      "text/html": [
       "<treescope-run-here><script type=\"application/octet-stream\"> const root = ( Array.from(document.getElementsByClassName( \"treescope_out_39c3ab1c42c141b8acf1ee8160f6864a\")) .filter((elt) => !elt.dataset.stolen) )[0]; root.dataset.stolen = 1; this.parentNode.replaceChild(root, this); </script></treescope-run-here>"
      ],
      "text/plain": [
       "{'a': 1,\n",
       " 'b': \"key=(DictKey(key='b'),), value=[0 1 2 3 4 5 6 7 8 9]\",\n",
       " 'c': [{'value': \"key=(DictKey(key='c'), SequenceKey(idx=0), DictKey(key='value')), value=[ 0  1  2  3  4  5  6  7  8  9 10 11]\"},\n",
       "  {'value': \"key=(DictKey(key='c'), SequenceKey(idx=1), DictKey(key='value')), value=[0. 0. 0. 0. 0. 0. 0.]\"},\n",
       "  {'value': 3}]}"
      ]
     },
     "execution_count": 59,
     "metadata": {},
     "output_type": "execute_result"
    }
   ],
   "source": [
    "(\n",
    "    pz.select(my_nested_object)\n",
    "    .at_instances_of(jax.Array)\n",
    "    .apply(lambda key, value: f\"key={key}, value={value}\", with_keypath=True)\n",
    ")"
   ]
  },
  {
   "cell_type": "markdown",
   "metadata": {
    "id": "-RZGXU2ey_B7"
   },
   "source": [
    "By default, applying a function also removes the selection. If you want to do further processing, you can pass `keep_selected=True` to replace the values but keep them selected:"
   ]
  },
  {
   "cell_type": "code",
   "execution_count": 60,
   "metadata": {
    "execution": {
     "iopub.execute_input": "2024-07-26T21:03:11.680379Z",
     "iopub.status.busy": "2024-07-26T21:03:11.680125Z",
     "iopub.status.idle": "2024-07-26T21:03:11.689119Z",
     "shell.execute_reply": "2024-07-26T21:03:11.688942Z"
    },
    "id": "CtTI_jwXy9il"
   },
   "outputs": [
    {
     "data": {
      "text/html": [
       "<script> (()=>{ if (customElements.get('treescope-container') === undefined) { class TreescopeContainer extends HTMLElement { constructor() { super(); this.attachShadow({mode: \"open\"}); this.defns = {}; this.state = {}; } } customElements.define(\"treescope-container\", TreescopeContainer); } if (customElements.get('treescope-run-here') === undefined) { class RunHere extends HTMLElement { constructor() { super() } connectedCallback() { const run = child => { const fn = new Function(child.textContent); child.textContent = \"\"; fn.call(this); this.remove(); }; const child = this.querySelector(\"script\"); if (child) { run(child); } else { new MutationObserver(()=>{ run(this.querySelector(\"script\")); }).observe(this, {childList: true}); } } } customElements.define(\"treescope-run-here\", RunHere); } })(); </script> <treescope-container class=\"treescope_out_0b930c4d31964411a4c2d64ea80b0188\" ></treescope-container> <treescope-run-here><script type=\"application/octet-stream\"> const root = ( Array.from(document.getElementsByClassName( \"treescope_out_0b930c4d31964411a4c2d64ea80b0188\")) .filter((elt) => !elt.dataset.setup) )[0]; root.dataset.setup = 1; const msg = document.createElement(\"span\"); msg.style = \"color: #aaaaaa; font-family: monospace; transition: opacity 0.2s; opacity: 0.0;\"; msg.textContent = \"(Loading...)\"; root.state.loadingMsg = msg; root.shadowRoot.appendChild(msg); root.state.chain = new Promise((resolve, reject) => { const observer = new IntersectionObserver((entries) => { for (const entry of entries) { if (entry.isIntersecting) { resolve(); observer.disconnect(); return; } } }, {rootMargin: \"1000px\"}); window.setTimeout(() => { if (root.loadingMsg) { root.loadingMsg.style.opacity = \"1.0\"; } observer.observe(root); }, 0); }); root.state.deferring = false; const _insertNode = (node) => { for (let oldScript of node.querySelectorAll(\"script\")) { let newScript = document.createElement(\"script\"); newScript.type = oldScript.type; newScript.textContent = oldScript.textContent; oldScript.parentNode.replaceChild(newScript, oldScript); } if (root.state.loadingMsg) { root.state.loadingMsg.remove(); root.state.loadingMsg = null; } root.shadowRoot.appendChild(node); }; root.defns.insertContent = ((contentNode, compressed) => { if (compressed) { root.state.deferring = true; } if (root.state.deferring) { root.state.chain = (async () => { await root.state.chain; if (compressed) { const encoded = contentNode.textContent; const blob = new Blob([ Uint8Array.from(atob(encoded), (m) => m.codePointAt(0)) ]); const reader = blob.stream().pipeThrough( new DecompressionStream(\"deflate\") ).pipeThrough( new TextDecoderStream(\"utf-8\") ).getReader(); const parts = []; while (true) { const step = await reader.read(); if (step.done) { break; } parts.push(step.value); } const tpl = document.createElement('template'); tpl.innerHTML = parts.join(\"\"); _insertNode(tpl.content); } else { _insertNode(contentNode.content); } })(); } else { _insertNode(contentNode.content); } }); </script></treescope-run-here><div style=\"display:none\"> <script type=\"application/octet-stream\" >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</script> <treescope-run-here><script type=\"application/octet-stream\"> const root = ( Array.from(document.getElementsByClassName( \"treescope_out_0b930c4d31964411a4c2d64ea80b0188\")) .filter((elt) => !elt.dataset['step0']) )[0]; root.dataset['step0'] = 1; root.defns.insertContent( this.parentNode.querySelector('script[type=\"application/octet-stream\"]'), true ); this.parentNode.remove(); </script></treescope-run-here> </div>"
      ],
      "text/plain": [
       "<IPython.core.display.HTML object>"
      ]
     },
     "metadata": {},
     "output_type": "display_data"
    },
    {
     "data": {
      "text/html": [
       "<treescope-run-here><script type=\"application/octet-stream\"> const root = ( Array.from(document.getElementsByClassName( \"treescope_out_0b930c4d31964411a4c2d64ea80b0188\")) .filter((elt) => !elt.dataset.stolen) )[0]; root.dataset.stolen = 1; this.parentNode.replaceChild(root, this); </script></treescope-run-here>"
      ],
      "text/plain": [
       "Selection(\n",
       "  selected_by_path=OrderedDict({\n",
       "    (DictKey(key='b'),):\n",
       "      \"key=(DictKey(key='b'),), value=[0 1 2 3 4 5 6 7 8 9]\",\n",
       "    (DictKey(key='c'), SequenceKey(idx=0), DictKey(key='value')):\n",
       "      \"key=(DictKey(key='c'), SequenceKey(idx=0), DictKey(key='value')), value=[ 0  1  2  3  4  5  6  7  8  9 10 11]\",\n",
       "    (DictKey(key='c'), SequenceKey(idx=1), DictKey(key='value')):\n",
       "      \"key=(DictKey(key='c'), SequenceKey(idx=1), DictKey(key='value')), value=[0. 0. 0. 0. 0. 0. 0.]\",\n",
       "  }),\n",
       "  remainder={'a': 1, 'b': SelectionHole(path=(DictKey(key='b'),)), 'c': [{'value': SelectionHole(path=(DictKey(key='c'), SequenceKey(idx=0), DictKey(key='value')))}, {'value': SelectionHole(path=(DictKey(key='c'), SequenceKey(idx=1), DictKey(key='value')))}, {'value': 3}]},\n",
       ")"
      ]
     },
     "execution_count": 60,
     "metadata": {},
     "output_type": "execute_result"
    }
   ],
   "source": [
    "(\n",
    "    pz.select(my_nested_object)\n",
    "    .at_instances_of(jax.Array)\n",
    "    .apply(lambda key, value: f\"key={key}, value={value}\", with_keypath=True, keep_selected=True)\n",
    ")"
   ]
  },
  {
   "cell_type": "markdown",
   "metadata": {
    "id": "YJujHVUOzmtm"
   },
   "source": [
    "Sometimes, it's also useful to pass the index of the selected node relative to the *selection* (e.g. \"this is the third selected node\") instead of the absolute keypath. For this, theres `.apply_with_selected_index`:"
   ]
  },
  {
   "cell_type": "code",
   "execution_count": 61,
   "metadata": {
    "execution": {
     "iopub.execute_input": "2024-07-26T21:03:11.697826Z",
     "iopub.status.busy": "2024-07-26T21:03:11.697531Z",
     "iopub.status.idle": "2024-07-26T21:03:11.705986Z",
     "shell.execute_reply": "2024-07-26T21:03:11.705812Z"
    },
    "id": "xLrWVjiazLVS"
   },
   "outputs": [
    {
     "data": {
      "text/html": [
       "<script> (()=>{ if (customElements.get('treescope-container') === undefined) { class TreescopeContainer extends HTMLElement { constructor() { super(); this.attachShadow({mode: \"open\"}); this.defns = {}; this.state = {}; } } customElements.define(\"treescope-container\", TreescopeContainer); } if (customElements.get('treescope-run-here') === undefined) { class RunHere extends HTMLElement { constructor() { super() } connectedCallback() { const run = child => { const fn = new Function(child.textContent); child.textContent = \"\"; fn.call(this); this.remove(); }; const child = this.querySelector(\"script\"); if (child) { run(child); } else { new MutationObserver(()=>{ run(this.querySelector(\"script\")); }).observe(this, {childList: true}); } } } customElements.define(\"treescope-run-here\", RunHere); } })(); </script> <treescope-container class=\"treescope_out_f17ab31e7af0414e8f9587f896336c0d\" ></treescope-container> <treescope-run-here><script type=\"application/octet-stream\"> const root = ( Array.from(document.getElementsByClassName( \"treescope_out_f17ab31e7af0414e8f9587f896336c0d\")) .filter((elt) => !elt.dataset.setup) )[0]; root.dataset.setup = 1; const msg = document.createElement(\"span\"); msg.style = \"color: #aaaaaa; font-family: monospace; transition: opacity 0.2s; opacity: 0.0;\"; msg.textContent = \"(Loading...)\"; root.state.loadingMsg = msg; root.shadowRoot.appendChild(msg); root.state.chain = new Promise((resolve, reject) => { const observer = new IntersectionObserver((entries) => { for (const entry of entries) { if (entry.isIntersecting) { resolve(); observer.disconnect(); return; } } }, {rootMargin: \"1000px\"}); window.setTimeout(() => { if (root.loadingMsg) { root.loadingMsg.style.opacity = \"1.0\"; } observer.observe(root); }, 0); }); root.state.deferring = false; const _insertNode = (node) => { for (let oldScript of node.querySelectorAll(\"script\")) { let newScript = document.createElement(\"script\"); newScript.type = oldScript.type; newScript.textContent = oldScript.textContent; oldScript.parentNode.replaceChild(newScript, oldScript); } if (root.state.loadingMsg) { root.state.loadingMsg.remove(); root.state.loadingMsg = null; } root.shadowRoot.appendChild(node); }; root.defns.insertContent = ((contentNode, compressed) => { if (compressed) { root.state.deferring = true; } if (root.state.deferring) { root.state.chain = (async () => { await root.state.chain; if (compressed) { const encoded = contentNode.textContent; const blob = new Blob([ Uint8Array.from(atob(encoded), (m) => m.codePointAt(0)) ]); const reader = blob.stream().pipeThrough( new DecompressionStream(\"deflate\") ).pipeThrough( new TextDecoderStream(\"utf-8\") ).getReader(); const parts = []; while (true) { const step = await reader.read(); if (step.done) { break; } parts.push(step.value); } const tpl = document.createElement('template'); tpl.innerHTML = parts.join(\"\"); _insertNode(tpl.content); } else { _insertNode(contentNode.content); } })(); } else { _insertNode(contentNode.content); } }); </script></treescope-run-here><div style=\"display:none\"> <script type=\"application/octet-stream\" >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</script> <treescope-run-here><script type=\"application/octet-stream\"> const root = ( Array.from(document.getElementsByClassName( \"treescope_out_f17ab31e7af0414e8f9587f896336c0d\")) .filter((elt) => !elt.dataset['step0']) )[0]; root.dataset['step0'] = 1; root.defns.insertContent( this.parentNode.querySelector('script[type=\"application/octet-stream\"]'), true ); this.parentNode.remove(); </script></treescope-run-here> </div>"
      ],
      "text/plain": [
       "<IPython.core.display.HTML object>"
      ]
     },
     "metadata": {},
     "output_type": "display_data"
    },
    {
     "data": {
      "text/html": [
       "<treescope-run-here><script type=\"application/octet-stream\"> const root = ( Array.from(document.getElementsByClassName( \"treescope_out_f17ab31e7af0414e8f9587f896336c0d\")) .filter((elt) => !elt.dataset.stolen) )[0]; root.dataset.stolen = 1; this.parentNode.replaceChild(root, this); </script></treescope-run-here>"
      ],
      "text/plain": [
       "Selection(\n",
       "  selected_by_path=OrderedDict({\n",
       "    (DictKey(key='b'),):\n",
       "      'index=0, value=[0 1 2 3 4 5 6 7 8 9]',\n",
       "    (DictKey(key='c'), SequenceKey(idx=0), DictKey(key='value')):\n",
       "      'index=1, value=[ 0  1  2  3  4  5  6  7  8  9 10 11]',\n",
       "    (DictKey(key='c'), SequenceKey(idx=1), DictKey(key='value')):\n",
       "      'index=2, value=[0. 0. 0. 0. 0. 0. 0.]',\n",
       "  }),\n",
       "  remainder={'a': 1, 'b': SelectionHole(path=(DictKey(key='b'),)), 'c': [{'value': SelectionHole(path=(DictKey(key='c'), SequenceKey(idx=0), DictKey(key='value')))}, {'value': SelectionHole(path=(DictKey(key='c'), SequenceKey(idx=1), DictKey(key='value')))}, {'value': 3}]},\n",
       ")"
      ]
     },
     "execution_count": 61,
     "metadata": {},
     "output_type": "execute_result"
    }
   ],
   "source": [
    "(\n",
    "    pz.select(my_nested_object)\n",
    "    .at_instances_of(jax.Array)\n",
    "    .apply_with_selected_index(lambda index, value: f\"index={index}, value={value}\", keep_selected=True)\n",
    ")"
   ]
  },
  {
   "cell_type": "markdown",
   "metadata": {
    "id": "zpbos5v2z9BI"
   },
   "source": [
    "### Manipulating selected elements of lists and tuples"
   ]
  },
  {
   "cell_type": "markdown",
   "metadata": {
    "id": "iqvDVZkn0GSq"
   },
   "source": [
    "When the selected nodes are elements of a list or tuple, there are a few other options for selector manipulation. For instance, you can insert values before or after the selected nodes:"
   ]
  },
  {
   "cell_type": "code",
   "execution_count": 62,
   "metadata": {
    "execution": {
     "iopub.execute_input": "2024-07-26T21:03:11.713372Z",
     "iopub.status.busy": "2024-07-26T21:03:11.713095Z",
     "iopub.status.idle": "2024-07-26T21:03:11.717766Z",
     "shell.execute_reply": "2024-07-26T21:03:11.717581Z"
    },
    "id": "Ptualckcz45d"
   },
   "outputs": [
    {
     "data": {
      "text/html": [
       "<script> (()=>{ if (customElements.get('treescope-container') === undefined) { class TreescopeContainer extends HTMLElement { constructor() { super(); this.attachShadow({mode: \"open\"}); this.defns = {}; this.state = {}; } } customElements.define(\"treescope-container\", TreescopeContainer); } if (customElements.get('treescope-run-here') === undefined) { class RunHere extends HTMLElement { constructor() { super() } connectedCallback() { const run = child => { const fn = new Function(child.textContent); child.textContent = \"\"; fn.call(this); this.remove(); }; const child = this.querySelector(\"script\"); if (child) { run(child); } else { new MutationObserver(()=>{ run(this.querySelector(\"script\")); }).observe(this, {childList: true}); } } } customElements.define(\"treescope-run-here\", RunHere); } })(); </script> <treescope-container class=\"treescope_out_cc791bc5530848a8846b37789e32c072\" ></treescope-container> <treescope-run-here><script type=\"application/octet-stream\"> const root = ( Array.from(document.getElementsByClassName( \"treescope_out_cc791bc5530848a8846b37789e32c072\")) .filter((elt) => !elt.dataset.setup) )[0]; root.dataset.setup = 1; const msg = document.createElement(\"span\"); msg.style = \"color: #aaaaaa; font-family: monospace; transition: opacity 0.2s; opacity: 0.0;\"; msg.textContent = \"(Loading...)\"; root.state.loadingMsg = msg; root.shadowRoot.appendChild(msg); root.state.chain = new Promise((resolve, reject) => { const observer = new IntersectionObserver((entries) => { for (const entry of entries) { if (entry.isIntersecting) { resolve(); observer.disconnect(); return; } } }, {rootMargin: \"1000px\"}); window.setTimeout(() => { if (root.loadingMsg) { root.loadingMsg.style.opacity = \"1.0\"; } observer.observe(root); }, 0); }); root.state.deferring = false; const _insertNode = (node) => { for (let oldScript of node.querySelectorAll(\"script\")) { let newScript = document.createElement(\"script\"); newScript.type = oldScript.type; newScript.textContent = oldScript.textContent; oldScript.parentNode.replaceChild(newScript, oldScript); } if (root.state.loadingMsg) { root.state.loadingMsg.remove(); root.state.loadingMsg = null; } root.shadowRoot.appendChild(node); }; root.defns.insertContent = ((contentNode, compressed) => { if (compressed) { root.state.deferring = true; } if (root.state.deferring) { root.state.chain = (async () => { await root.state.chain; if (compressed) { const encoded = contentNode.textContent; const blob = new Blob([ Uint8Array.from(atob(encoded), (m) => m.codePointAt(0)) ]); const reader = blob.stream().pipeThrough( new DecompressionStream(\"deflate\") ).pipeThrough( new TextDecoderStream(\"utf-8\") ).getReader(); const parts = []; while (true) { const step = await reader.read(); if (step.done) { break; } parts.push(step.value); } const tpl = document.createElement('template'); tpl.innerHTML = parts.join(\"\"); _insertNode(tpl.content); } else { _insertNode(contentNode.content); } })(); } else { _insertNode(contentNode.content); } }); </script></treescope-run-here><div style=\"display:none\"> <script type=\"application/octet-stream\" >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</script> <treescope-run-here><script type=\"application/octet-stream\"> const root = ( Array.from(document.getElementsByClassName( \"treescope_out_cc791bc5530848a8846b37789e32c072\")) .filter((elt) => !elt.dataset['step0']) )[0]; root.dataset['step0'] = 1; root.defns.insertContent( this.parentNode.querySelector('script[type=\"application/octet-stream\"]'), true ); this.parentNode.remove(); </script></treescope-run-here> </div>"
      ],
      "text/plain": [
       "<IPython.core.display.HTML object>"
      ]
     },
     "metadata": {},
     "output_type": "display_data"
    },
    {
     "data": {
      "text/html": [
       "<treescope-run-here><script type=\"application/octet-stream\"> const root = ( Array.from(document.getElementsByClassName( \"treescope_out_cc791bc5530848a8846b37789e32c072\")) .filter((elt) => !elt.dataset.stolen) )[0]; root.dataset.stolen = 1; this.parentNode.replaceChild(root, this); </script></treescope-run-here>"
      ],
      "text/plain": [
       "{'a': ['before a multiple of 4',\n",
       "  0,\n",
       "  1,\n",
       "  2,\n",
       "  3,\n",
       "  'before a multiple of 4',\n",
       "  4,\n",
       "  5,\n",
       "  6,\n",
       "  7,\n",
       "  'before a multiple of 4',\n",
       "  8,\n",
       "  9],\n",
       " 'b': [10,\n",
       "  11,\n",
       "  'before a multiple of 4',\n",
       "  12,\n",
       "  13,\n",
       "  14,\n",
       "  15,\n",
       "  'before a multiple of 4',\n",
       "  16,\n",
       "  17,\n",
       "  18,\n",
       "  19]}"
      ]
     },
     "execution_count": 62,
     "metadata": {},
     "output_type": "execute_result"
    }
   ],
   "source": [
    "(\n",
    "    pz.select({\"a\": list(range(10)), \"b\": list(range(10, 20))})\n",
    "      .at_instances_of(int)\n",
    "      .where(lambda x: x % 4 == 0)\n",
    "      .insert_before(\"before a multiple of 4\")\n",
    ")"
   ]
  },
  {
   "cell_type": "code",
   "execution_count": 63,
   "metadata": {
    "execution": {
     "iopub.execute_input": "2024-07-26T21:03:11.724647Z",
     "iopub.status.busy": "2024-07-26T21:03:11.724307Z",
     "iopub.status.idle": "2024-07-26T21:03:11.728893Z",
     "shell.execute_reply": "2024-07-26T21:03:11.728714Z"
    },
    "id": "tIf27Qx40hP3"
   },
   "outputs": [
    {
     "data": {
      "text/html": [
       "<script> (()=>{ if (customElements.get('treescope-container') === undefined) { class TreescopeContainer extends HTMLElement { constructor() { super(); this.attachShadow({mode: \"open\"}); this.defns = {}; this.state = {}; } } customElements.define(\"treescope-container\", TreescopeContainer); } if (customElements.get('treescope-run-here') === undefined) { class RunHere extends HTMLElement { constructor() { super() } connectedCallback() { const run = child => { const fn = new Function(child.textContent); child.textContent = \"\"; fn.call(this); this.remove(); }; const child = this.querySelector(\"script\"); if (child) { run(child); } else { new MutationObserver(()=>{ run(this.querySelector(\"script\")); }).observe(this, {childList: true}); } } } customElements.define(\"treescope-run-here\", RunHere); } })(); </script> <treescope-container class=\"treescope_out_3608e169becb4141949704e91830bf38\" ></treescope-container> <treescope-run-here><script type=\"application/octet-stream\"> const root = ( Array.from(document.getElementsByClassName( \"treescope_out_3608e169becb4141949704e91830bf38\")) .filter((elt) => !elt.dataset.setup) )[0]; root.dataset.setup = 1; const msg = document.createElement(\"span\"); msg.style = \"color: #aaaaaa; font-family: monospace; transition: opacity 0.2s; opacity: 0.0;\"; msg.textContent = \"(Loading...)\"; root.state.loadingMsg = msg; root.shadowRoot.appendChild(msg); root.state.chain = new Promise((resolve, reject) => { const observer = new IntersectionObserver((entries) => { for (const entry of entries) { if (entry.isIntersecting) { resolve(); observer.disconnect(); return; } } }, {rootMargin: \"1000px\"}); window.setTimeout(() => { if (root.loadingMsg) { root.loadingMsg.style.opacity = \"1.0\"; } observer.observe(root); }, 0); }); root.state.deferring = false; const _insertNode = (node) => { for (let oldScript of node.querySelectorAll(\"script\")) { let newScript = document.createElement(\"script\"); newScript.type = oldScript.type; newScript.textContent = oldScript.textContent; oldScript.parentNode.replaceChild(newScript, oldScript); } if (root.state.loadingMsg) { root.state.loadingMsg.remove(); root.state.loadingMsg = null; } root.shadowRoot.appendChild(node); }; root.defns.insertContent = ((contentNode, compressed) => { if (compressed) { root.state.deferring = true; } if (root.state.deferring) { root.state.chain = (async () => { await root.state.chain; if (compressed) { const encoded = contentNode.textContent; const blob = new Blob([ Uint8Array.from(atob(encoded), (m) => m.codePointAt(0)) ]); const reader = blob.stream().pipeThrough( new DecompressionStream(\"deflate\") ).pipeThrough( new TextDecoderStream(\"utf-8\") ).getReader(); const parts = []; while (true) { const step = await reader.read(); if (step.done) { break; } parts.push(step.value); } const tpl = document.createElement('template'); tpl.innerHTML = parts.join(\"\"); _insertNode(tpl.content); } else { _insertNode(contentNode.content); } })(); } else { _insertNode(contentNode.content); } }); </script></treescope-run-here><div style=\"display:none\"> <script type=\"application/octet-stream\" >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</script> <treescope-run-here><script type=\"application/octet-stream\"> const root = ( Array.from(document.getElementsByClassName( \"treescope_out_3608e169becb4141949704e91830bf38\")) .filter((elt) => !elt.dataset['step0']) )[0]; root.dataset['step0'] = 1; root.defns.insertContent( this.parentNode.querySelector('script[type=\"application/octet-stream\"]'), true ); this.parentNode.remove(); </script></treescope-run-here> </div>"
      ],
      "text/plain": [
       "<IPython.core.display.HTML object>"
      ]
     },
     "metadata": {},
     "output_type": "display_data"
    },
    {
     "data": {
      "text/html": [
       "<treescope-run-here><script type=\"application/octet-stream\"> const root = ( Array.from(document.getElementsByClassName( \"treescope_out_3608e169becb4141949704e91830bf38\")) .filter((elt) => !elt.dataset.stolen) )[0]; root.dataset.stolen = 1; this.parentNode.replaceChild(root, this); </script></treescope-run-here>"
      ],
      "text/plain": [
       "{'a': [0,\n",
       "  'after a multiple of 4',\n",
       "  1,\n",
       "  2,\n",
       "  3,\n",
       "  4,\n",
       "  'after a multiple of 4',\n",
       "  5,\n",
       "  6,\n",
       "  7,\n",
       "  8,\n",
       "  'after a multiple of 4',\n",
       "  9],\n",
       " 'b': [10,\n",
       "  11,\n",
       "  12,\n",
       "  'after a multiple of 4',\n",
       "  13,\n",
       "  14,\n",
       "  15,\n",
       "  16,\n",
       "  'after a multiple of 4',\n",
       "  17,\n",
       "  18,\n",
       "  19]}"
      ]
     },
     "execution_count": 63,
     "metadata": {},
     "output_type": "execute_result"
    }
   ],
   "source": [
    "(\n",
    "    pz.select({\"a\": list(range(10)), \"b\": list(range(10, 20))})\n",
    "      .at_instances_of(int)\n",
    "      .where(lambda x: x % 4 == 0)\n",
    "      .insert_after(\"after a multiple of 4\")\n",
    ")"
   ]
  },
  {
   "cell_type": "markdown",
   "metadata": {
    "id": "BFg6JxQq0tMW"
   },
   "source": [
    "You can also just remove the selected nodes:"
   ]
  },
  {
   "cell_type": "code",
   "execution_count": 64,
   "metadata": {
    "execution": {
     "iopub.execute_input": "2024-07-26T21:03:11.735183Z",
     "iopub.status.busy": "2024-07-26T21:03:11.734945Z",
     "iopub.status.idle": "2024-07-26T21:03:11.739625Z",
     "shell.execute_reply": "2024-07-26T21:03:11.739751Z"
    },
    "id": "PzLdrjdq0raZ"
   },
   "outputs": [
    {
     "data": {
      "text/html": [
       "<script> (()=>{ if (customElements.get('treescope-container') === undefined) { class TreescopeContainer extends HTMLElement { constructor() { super(); this.attachShadow({mode: \"open\"}); this.defns = {}; this.state = {}; } } customElements.define(\"treescope-container\", TreescopeContainer); } if (customElements.get('treescope-run-here') === undefined) { class RunHere extends HTMLElement { constructor() { super() } connectedCallback() { const run = child => { const fn = new Function(child.textContent); child.textContent = \"\"; fn.call(this); this.remove(); }; const child = this.querySelector(\"script\"); if (child) { run(child); } else { new MutationObserver(()=>{ run(this.querySelector(\"script\")); }).observe(this, {childList: true}); } } } customElements.define(\"treescope-run-here\", RunHere); } })(); </script> <treescope-container class=\"treescope_out_02fa3bc7c1c6491c8fc7948874b12133\" ></treescope-container> <treescope-run-here><script type=\"application/octet-stream\"> const root = ( Array.from(document.getElementsByClassName( \"treescope_out_02fa3bc7c1c6491c8fc7948874b12133\")) .filter((elt) => !elt.dataset.setup) )[0]; root.dataset.setup = 1; const msg = document.createElement(\"span\"); msg.style = \"color: #aaaaaa; font-family: monospace; transition: opacity 0.2s; opacity: 0.0;\"; msg.textContent = \"(Loading...)\"; root.state.loadingMsg = msg; root.shadowRoot.appendChild(msg); root.state.chain = new Promise((resolve, reject) => { const observer = new IntersectionObserver((entries) => { for (const entry of entries) { if (entry.isIntersecting) { resolve(); observer.disconnect(); return; } } }, {rootMargin: \"1000px\"}); window.setTimeout(() => { if (root.loadingMsg) { root.loadingMsg.style.opacity = \"1.0\"; } observer.observe(root); }, 0); }); root.state.deferring = false; const _insertNode = (node) => { for (let oldScript of node.querySelectorAll(\"script\")) { let newScript = document.createElement(\"script\"); newScript.type = oldScript.type; newScript.textContent = oldScript.textContent; oldScript.parentNode.replaceChild(newScript, oldScript); } if (root.state.loadingMsg) { root.state.loadingMsg.remove(); root.state.loadingMsg = null; } root.shadowRoot.appendChild(node); }; root.defns.insertContent = ((contentNode, compressed) => { if (compressed) { root.state.deferring = true; } if (root.state.deferring) { root.state.chain = (async () => { await root.state.chain; if (compressed) { const encoded = contentNode.textContent; const blob = new Blob([ Uint8Array.from(atob(encoded), (m) => m.codePointAt(0)) ]); const reader = blob.stream().pipeThrough( new DecompressionStream(\"deflate\") ).pipeThrough( new TextDecoderStream(\"utf-8\") ).getReader(); const parts = []; while (true) { const step = await reader.read(); if (step.done) { break; } parts.push(step.value); } const tpl = document.createElement('template'); tpl.innerHTML = parts.join(\"\"); _insertNode(tpl.content); } else { _insertNode(contentNode.content); } })(); } else { _insertNode(contentNode.content); } }); </script></treescope-run-here><div style=\"display:none\"> <script type=\"application/octet-stream\" >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</script> <treescope-run-here><script type=\"application/octet-stream\"> const root = ( Array.from(document.getElementsByClassName( \"treescope_out_02fa3bc7c1c6491c8fc7948874b12133\")) .filter((elt) => !elt.dataset['step0']) )[0]; root.dataset['step0'] = 1; root.defns.insertContent( this.parentNode.querySelector('script[type=\"application/octet-stream\"]'), true ); this.parentNode.remove(); </script></treescope-run-here> </div>"
      ],
      "text/plain": [
       "<IPython.core.display.HTML object>"
      ]
     },
     "metadata": {},
     "output_type": "display_data"
    },
    {
     "data": {
      "text/html": [
       "<treescope-run-here><script type=\"application/octet-stream\"> const root = ( Array.from(document.getElementsByClassName( \"treescope_out_02fa3bc7c1c6491c8fc7948874b12133\")) .filter((elt) => !elt.dataset.stolen) )[0]; root.dataset.stolen = 1; this.parentNode.replaceChild(root, this); </script></treescope-run-here>"
      ],
      "text/plain": [
       "{'a': [1, 2, 3, 5, 6, 7, 9], 'b': [10, 11, 13, 14, 15, 17, 18, 19]}"
      ]
     },
     "execution_count": 64,
     "metadata": {},
     "output_type": "execute_result"
    }
   ],
   "source": [
    "(\n",
    "    pz.select({\"a\": list(range(10)), \"b\": list(range(10, 20))})\n",
    "      .at_instances_of(int)\n",
    "      .where(lambda x: x % 4 == 0)\n",
    "      .remove_from_parent()\n",
    ")"
   ]
  },
  {
   "cell_type": "markdown",
   "metadata": {
    "id": "ELI6wOnC0yMI"
   },
   "source": [
    "If you want more control, or if you want to use the selected value to determine what to insert, you can use the method `.apply_and_inline`. This works like `.apply`, except that your function should return a *sequence* of values, and those values will be spliced into the original list or tuple in the same position as the original selected nodes."
   ]
  },
  {
   "cell_type": "code",
   "execution_count": 65,
   "metadata": {
    "execution": {
     "iopub.execute_input": "2024-07-26T21:03:11.747998Z",
     "iopub.status.busy": "2024-07-26T21:03:11.747756Z",
     "iopub.status.idle": "2024-07-26T21:03:11.751938Z",
     "shell.execute_reply": "2024-07-26T21:03:11.751743Z"
    },
    "id": "l7M2_YQF0vzy"
   },
   "outputs": [
    {
     "data": {
      "text/html": [
       "<script> (()=>{ if (customElements.get('treescope-container') === undefined) { class TreescopeContainer extends HTMLElement { constructor() { super(); this.attachShadow({mode: \"open\"}); this.defns = {}; this.state = {}; } } customElements.define(\"treescope-container\", TreescopeContainer); } if (customElements.get('treescope-run-here') === undefined) { class RunHere extends HTMLElement { constructor() { super() } connectedCallback() { const run = child => { const fn = new Function(child.textContent); child.textContent = \"\"; fn.call(this); this.remove(); }; const child = this.querySelector(\"script\"); if (child) { run(child); } else { new MutationObserver(()=>{ run(this.querySelector(\"script\")); }).observe(this, {childList: true}); } } } customElements.define(\"treescope-run-here\", RunHere); } })(); </script> <treescope-container class=\"treescope_out_331925ebef934775ad1577219a5a872c\" ></treescope-container> <treescope-run-here><script type=\"application/octet-stream\"> const root = ( Array.from(document.getElementsByClassName( \"treescope_out_331925ebef934775ad1577219a5a872c\")) .filter((elt) => !elt.dataset.setup) )[0]; root.dataset.setup = 1; const msg = document.createElement(\"span\"); msg.style = \"color: #aaaaaa; font-family: monospace; transition: opacity 0.2s; opacity: 0.0;\"; msg.textContent = \"(Loading...)\"; root.state.loadingMsg = msg; root.shadowRoot.appendChild(msg); root.state.chain = new Promise((resolve, reject) => { const observer = new IntersectionObserver((entries) => { for (const entry of entries) { if (entry.isIntersecting) { resolve(); observer.disconnect(); return; } } }, {rootMargin: \"1000px\"}); window.setTimeout(() => { if (root.loadingMsg) { root.loadingMsg.style.opacity = \"1.0\"; } observer.observe(root); }, 0); }); root.state.deferring = false; const _insertNode = (node) => { for (let oldScript of node.querySelectorAll(\"script\")) { let newScript = document.createElement(\"script\"); newScript.type = oldScript.type; newScript.textContent = oldScript.textContent; oldScript.parentNode.replaceChild(newScript, oldScript); } if (root.state.loadingMsg) { root.state.loadingMsg.remove(); root.state.loadingMsg = null; } root.shadowRoot.appendChild(node); }; root.defns.insertContent = ((contentNode, compressed) => { if (compressed) { root.state.deferring = true; } if (root.state.deferring) { root.state.chain = (async () => { await root.state.chain; if (compressed) { const encoded = contentNode.textContent; const blob = new Blob([ Uint8Array.from(atob(encoded), (m) => m.codePointAt(0)) ]); const reader = blob.stream().pipeThrough( new DecompressionStream(\"deflate\") ).pipeThrough( new TextDecoderStream(\"utf-8\") ).getReader(); const parts = []; while (true) { const step = await reader.read(); if (step.done) { break; } parts.push(step.value); } const tpl = document.createElement('template'); tpl.innerHTML = parts.join(\"\"); _insertNode(tpl.content); } else { _insertNode(contentNode.content); } })(); } else { _insertNode(contentNode.content); } }); </script></treescope-run-here><div style=\"display:none\"> <script type=\"application/octet-stream\" >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</script> <treescope-run-here><script type=\"application/octet-stream\"> const root = ( Array.from(document.getElementsByClassName( \"treescope_out_331925ebef934775ad1577219a5a872c\")) .filter((elt) => !elt.dataset['step0']) )[0]; root.dataset['step0'] = 1; root.defns.insertContent( this.parentNode.querySelector('script[type=\"application/octet-stream\"]'), true ); this.parentNode.remove(); </script></treescope-run-here> </div>"
      ],
      "text/plain": [
       "<IPython.core.display.HTML object>"
      ]
     },
     "metadata": {},
     "output_type": "display_data"
    },
    {
     "data": {
      "text/html": [
       "<treescope-run-here><script type=\"application/octet-stream\"> const root = ( Array.from(document.getElementsByClassName( \"treescope_out_331925ebef934775ad1577219a5a872c\")) .filter((elt) => !elt.dataset.stolen) )[0]; root.dataset.stolen = 1; this.parentNode.replaceChild(root, this); </script></treescope-run-here>"
      ],
      "text/plain": [
       "{'a': ['before',\n",
       "  'the value was 0',\n",
       "  'after',\n",
       "  1,\n",
       "  2,\n",
       "  3,\n",
       "  'before',\n",
       "  'the value was 4',\n",
       "  'after',\n",
       "  5,\n",
       "  6,\n",
       "  7,\n",
       "  'before',\n",
       "  'the value was 8',\n",
       "  'after',\n",
       "  9],\n",
       " 'b': [10,\n",
       "  11,\n",
       "  'before',\n",
       "  'the value was 12',\n",
       "  'after',\n",
       "  13,\n",
       "  14,\n",
       "  15,\n",
       "  'before',\n",
       "  'the value was 16',\n",
       "  'after',\n",
       "  17,\n",
       "  18,\n",
       "  19]}"
      ]
     },
     "execution_count": 65,
     "metadata": {},
     "output_type": "execute_result"
    }
   ],
   "source": [
    "(\n",
    "    pz.select({\"a\": list(range(10)), \"b\": list(range(10, 20))})\n",
    "      .at_instances_of(int)\n",
    "      .where(lambda x: x % 4 == 0)\n",
    "      .apply_and_inline(lambda x: [\"before\", f\"the value was {x}\", \"after\"])\n",
    ")"
   ]
  },
  {
   "cell_type": "markdown",
   "metadata": {
    "id": "DaIykx2UVgaM"
   },
   "source": [
    "## Taking advantage of key paths"
   ]
  },
  {
   "cell_type": "markdown",
   "metadata": {
    "id": "hoF1YE4VVF6M"
   },
   "source": [
    "Many of the selector functions allow you to use the PyTree path to each selected in addition to its value:"
   ]
  },
  {
   "cell_type": "code",
   "execution_count": 66,
   "metadata": {
    "execution": {
     "iopub.execute_input": "2024-07-26T21:03:11.760290Z",
     "iopub.status.busy": "2024-07-26T21:03:11.760048Z",
     "iopub.status.idle": "2024-07-26T21:03:11.769934Z",
     "shell.execute_reply": "2024-07-26T21:03:11.769755Z"
    },
    "id": "YCK_xieQVi8r"
   },
   "outputs": [
    {
     "data": {
      "text/html": [
       "<script> (()=>{ if (customElements.get('treescope-container') === undefined) { class TreescopeContainer extends HTMLElement { constructor() { super(); this.attachShadow({mode: \"open\"}); this.defns = {}; this.state = {}; } } customElements.define(\"treescope-container\", TreescopeContainer); } if (customElements.get('treescope-run-here') === undefined) { class RunHere extends HTMLElement { constructor() { super() } connectedCallback() { const run = child => { const fn = new Function(child.textContent); child.textContent = \"\"; fn.call(this); this.remove(); }; const child = this.querySelector(\"script\"); if (child) { run(child); } else { new MutationObserver(()=>{ run(this.querySelector(\"script\")); }).observe(this, {childList: true}); } } } customElements.define(\"treescope-run-here\", RunHere); } })(); </script> <treescope-container class=\"treescope_out_b6ec21e71de642fc870ceb5386ad87b3\" ></treescope-container> <treescope-run-here><script type=\"application/octet-stream\"> const root = ( Array.from(document.getElementsByClassName( \"treescope_out_b6ec21e71de642fc870ceb5386ad87b3\")) .filter((elt) => !elt.dataset.setup) )[0]; root.dataset.setup = 1; const msg = document.createElement(\"span\"); msg.style = \"color: #aaaaaa; font-family: monospace; transition: opacity 0.2s; opacity: 0.0;\"; msg.textContent = \"(Loading...)\"; root.state.loadingMsg = msg; root.shadowRoot.appendChild(msg); root.state.chain = new Promise((resolve, reject) => { const observer = new IntersectionObserver((entries) => { for (const entry of entries) { if (entry.isIntersecting) { resolve(); observer.disconnect(); return; } } }, {rootMargin: \"1000px\"}); window.setTimeout(() => { if (root.loadingMsg) { root.loadingMsg.style.opacity = \"1.0\"; } observer.observe(root); }, 0); }); root.state.deferring = false; const _insertNode = (node) => { for (let oldScript of node.querySelectorAll(\"script\")) { let newScript = document.createElement(\"script\"); newScript.type = oldScript.type; newScript.textContent = oldScript.textContent; oldScript.parentNode.replaceChild(newScript, oldScript); } if (root.state.loadingMsg) { root.state.loadingMsg.remove(); root.state.loadingMsg = null; } root.shadowRoot.appendChild(node); }; root.defns.insertContent = ((contentNode, compressed) => { if (compressed) { root.state.deferring = true; } if (root.state.deferring) { root.state.chain = (async () => { await root.state.chain; if (compressed) { const encoded = contentNode.textContent; const blob = new Blob([ Uint8Array.from(atob(encoded), (m) => m.codePointAt(0)) ]); const reader = blob.stream().pipeThrough( new DecompressionStream(\"deflate\") ).pipeThrough( new TextDecoderStream(\"utf-8\") ).getReader(); const parts = []; while (true) { const step = await reader.read(); if (step.done) { break; } parts.push(step.value); } const tpl = document.createElement('template'); tpl.innerHTML = parts.join(\"\"); _insertNode(tpl.content); } else { _insertNode(contentNode.content); } })(); } else { _insertNode(contentNode.content); } }); </script></treescope-run-here><div style=\"display:none\"> <script type=\"application/octet-stream\" >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</script> <treescope-run-here><script type=\"application/octet-stream\"> const root = ( Array.from(document.getElementsByClassName( \"treescope_out_b6ec21e71de642fc870ceb5386ad87b3\")) .filter((elt) => !elt.dataset['step0']) )[0]; root.dataset['step0'] = 1; root.defns.insertContent( this.parentNode.querySelector('script[type=\"application/octet-stream\"]'), true ); this.parentNode.remove(); </script></treescope-run-here> </div>"
      ],
      "text/plain": [
       "<IPython.core.display.HTML object>"
      ]
     },
     "metadata": {},
     "output_type": "display_data"
    },
    {
     "data": {
      "text/html": [
       "<div style=\"display:none\"> <script type=\"application/octet-stream\" >eNq1k01v2zAMhv8KoQJFgjquU9uJ3XwAW7sBveywHXYIgkCW6ESDanmyEiwo+t9HOR9Nt25rDzvEsSy+JB/q1ViqDTRuq3HCpGpqzbfXUJkKGSg5YaWxC4klWotyEWVFkcUSRToYJnJY8ChKZV5IXhYyilCy6bipeUVPn28aCqNJzovC4gYeoF1ew9kguyLlCB7Hl7vAVgVC86aZsFMRm55rN/rGf4TvrOXbziwKoB/AVQBxAEkAaQCDAIYBZAHk8wCk29Y4UZWLr7rnSzeiAm0/hz9inY7fAJzlaZTxtMAcs0QmgzxOZJxJnvSzYVxg+gT8WgAgAo/gGTyEp/AYnsODeBLIidKT9v8DEp1hUqZxP+5jkeQoMlHGWVnGoih4Nizl25GiMICXf8f2S234XwGcRWyEqbFn11VvhdabQlhVO2gTMF7XWgnulKkujXDoeg1p+D2bClM1FMXtEt2dbGACM/Z6xwbAXn/ap8H/nON8tOtMGmGNcdSXW6kmpC4/0/KTkdjpjmDfPeHvg/bh4fc12u0X1CicsR0WHie08NvsKC0tX95jtZeu/WsoaDIOb/fLj/uI38vdaPIICQ85QpoyVvJmpbTsHIJC4aPafp1dY5eykKGgo9GBIjFdZAXjpwMINVZLt6KvFxdduvU+brd5WomWHzT61/fbOyp2UM/UnAp4TWPWVuAtOfuPQznzzmZwAb/Id8vQIt0EgV+VW3WO2cJS2eZQuyUlwdOuxXuzaU/m8TimZ4meza7r3dzalIz8god/AiDOx3E=</script> <treescope-run-here><script type=\"application/octet-stream\"> const root = ( Array.from(document.getElementsByClassName( \"treescope_out_b6ec21e71de642fc870ceb5386ad87b3\")) .filter((elt) => !elt.dataset['step1']) )[0]; root.dataset['step1'] = 1; root.defns.insertContent( this.parentNode.querySelector('script[type=\"application/octet-stream\"]'), true ); this.parentNode.remove(); </script></treescope-run-here> </div>"
      ],
      "text/plain": [
       "<IPython.core.display.HTML object>"
      ]
     },
     "metadata": {},
     "output_type": "display_data"
    },
    {
     "data": {
      "text/html": [
       "<treescope-run-here><script type=\"application/octet-stream\"> const root = ( Array.from(document.getElementsByClassName( \"treescope_out_b6ec21e71de642fc870ceb5386ad87b3\")) .filter((elt) => !elt.dataset.stolen) )[0]; root.dataset.stolen = 1; this.parentNode.replaceChild(root, this); </script></treescope-run-here>"
      ],
      "text/plain": [
       "Selection(\n",
       "  selected_by_path=OrderedDict({\n",
       "    (DictKey(key='c'), SequenceKey(idx=0)):\n",
       "      {\n",
       "        'value': <jax.Array([ 0,  1,  2,  3,  4,  5,  6,  7,  8,  9, 10, 11], dtype=int32)>,\n",
       "      },\n",
       "    (DictKey(key='c'), SequenceKey(idx=2), DictKey(key='value')):\n",
       "      3,\n",
       "  }),\n",
       "  remainder={\n",
       "    'a': 1,\n",
       "    'b': <jax.Array([0, 1, 2, 3, 4, 5, 6, 7, 8, 9], dtype=int32)>,\n",
       "    'c': [SelectionHole(path=(DictKey(key='c'), SequenceKey(idx=0))), {'value': <jax.Array([0., 0., 0., 0., 0., 0., 0.], dtype=float32)>}, {'value': SelectionHole(path=(DictKey(key='c'), SequenceKey(idx=2), DictKey(key='value')))}],\n",
       "  },\n",
       ")"
      ]
     },
     "execution_count": 66,
     "metadata": {},
     "output_type": "execute_result"
    }
   ],
   "source": [
    "# Selecting by keypath directly\n",
    "pz.select(my_nested_object).at_keypaths([\n",
    "    (jax.tree_util.DictKey(key='c'), jax.tree_util.SequenceKey(idx=2), jax.tree_util.DictKey(key='value')),\n",
    "    (jax.tree_util.DictKey(key='c'), jax.tree_util.SequenceKey(idx=0)),\n",
    "])"
   ]
  },
  {
   "cell_type": "code",
   "execution_count": 67,
   "metadata": {
    "execution": {
     "iopub.execute_input": "2024-07-26T21:03:11.778057Z",
     "iopub.status.busy": "2024-07-26T21:03:11.777655Z",
     "iopub.status.idle": "2024-07-26T21:03:11.787838Z",
     "shell.execute_reply": "2024-07-26T21:03:11.787658Z"
    },
    "id": "FEf1mpRX1T17"
   },
   "outputs": [
    {
     "data": {
      "text/html": [
       "<script> (()=>{ if (customElements.get('treescope-container') === undefined) { class TreescopeContainer extends HTMLElement { constructor() { super(); this.attachShadow({mode: \"open\"}); this.defns = {}; this.state = {}; } } customElements.define(\"treescope-container\", TreescopeContainer); } if (customElements.get('treescope-run-here') === undefined) { class RunHere extends HTMLElement { constructor() { super() } connectedCallback() { const run = child => { const fn = new Function(child.textContent); child.textContent = \"\"; fn.call(this); this.remove(); }; const child = this.querySelector(\"script\"); if (child) { run(child); } else { new MutationObserver(()=>{ run(this.querySelector(\"script\")); }).observe(this, {childList: true}); } } } customElements.define(\"treescope-run-here\", RunHere); } })(); </script> <treescope-container class=\"treescope_out_78a55ddc9c444d72a94ec09f829d596e\" ></treescope-container> <treescope-run-here><script type=\"application/octet-stream\"> const root = ( Array.from(document.getElementsByClassName( \"treescope_out_78a55ddc9c444d72a94ec09f829d596e\")) .filter((elt) => !elt.dataset.setup) )[0]; root.dataset.setup = 1; const msg = document.createElement(\"span\"); msg.style = \"color: #aaaaaa; font-family: monospace; transition: opacity 0.2s; opacity: 0.0;\"; msg.textContent = \"(Loading...)\"; root.state.loadingMsg = msg; root.shadowRoot.appendChild(msg); root.state.chain = new Promise((resolve, reject) => { const observer = new IntersectionObserver((entries) => { for (const entry of entries) { if (entry.isIntersecting) { resolve(); observer.disconnect(); return; } } }, {rootMargin: \"1000px\"}); window.setTimeout(() => { if (root.loadingMsg) { root.loadingMsg.style.opacity = \"1.0\"; } observer.observe(root); }, 0); }); root.state.deferring = false; const _insertNode = (node) => { for (let oldScript of node.querySelectorAll(\"script\")) { let newScript = document.createElement(\"script\"); newScript.type = oldScript.type; newScript.textContent = oldScript.textContent; oldScript.parentNode.replaceChild(newScript, oldScript); } if (root.state.loadingMsg) { root.state.loadingMsg.remove(); root.state.loadingMsg = null; } root.shadowRoot.appendChild(node); }; root.defns.insertContent = ((contentNode, compressed) => { if (compressed) { root.state.deferring = true; } if (root.state.deferring) { root.state.chain = (async () => { await root.state.chain; if (compressed) { const encoded = contentNode.textContent; const blob = new Blob([ Uint8Array.from(atob(encoded), (m) => m.codePointAt(0)) ]); const reader = blob.stream().pipeThrough( new DecompressionStream(\"deflate\") ).pipeThrough( new TextDecoderStream(\"utf-8\") ).getReader(); const parts = []; while (true) { const step = await reader.read(); if (step.done) { break; } parts.push(step.value); } const tpl = document.createElement('template'); tpl.innerHTML = parts.join(\"\"); _insertNode(tpl.content); } else { _insertNode(contentNode.content); } })(); } else { _insertNode(contentNode.content); } }); </script></treescope-run-here><div style=\"display:none\"> <script type=\"application/octet-stream\" >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</script> <treescope-run-here><script type=\"application/octet-stream\"> const root = ( Array.from(document.getElementsByClassName( \"treescope_out_78a55ddc9c444d72a94ec09f829d596e\")) .filter((elt) => !elt.dataset['step0']) )[0]; root.dataset['step0'] = 1; root.defns.insertContent( this.parentNode.querySelector('script[type=\"application/octet-stream\"]'), true ); this.parentNode.remove(); </script></treescope-run-here> </div>"
      ],
      "text/plain": [
       "<IPython.core.display.HTML object>"
      ]
     },
     "metadata": {},
     "output_type": "display_data"
    },
    {
     "data": {
      "text/html": [
       "<div style=\"display:none\"> <script type=\"application/octet-stream\" >eNq1k01v2zAMhv8KoQJFgrqu4sR23HwAW7sBveywHXYoikCR6ESDanmyUiwo+t9HOR9Nt25LDzskkSK+JB/q1VjpB2j82uCEKd3URqwvobIVMtBqwkrrZgpLdA7VLO1nWZrkPSzS4YArWaiiP1Q55/M5nwvZY9NxU4uKvkO+aSytIbmYzx0+wCO020s4yYaJ4HwET+OLTWCrAmlE00zYoYhNT40ffRM/4nfOiXXnlkfQiyCJoB/BIII0giyCPIJhBMVdBMqva5zoyveT7unCj6hA28/uh1in4zcAqx7mqp9JOczlIMuyoiySMuF5glmWp5w/Ax8LAEQQEAJDgAgUASNwBJBAAgVRBtLef0DCbJDxtCjUvIcDIWmRoJQFT3mRD/q5ejsSjyN4/bNvvzRW/BXAO8RG2hrP3ao6X6ILppBO1x7aBEzUtdFSeG2rCys9+vOGNOKeTaWtGooSboH+RjUwgVt2vGMjYMff9mHwP+d4N9p0pqx01nrqyy91E1OXn2n7ySrsdEew7Z7wt0Hb8Pj7Ct36CxqU3roOi/cTmoVjtpeWTizusdpKV2EZS5qMx+vt9uM24vdyV4Y8QsJdjpimjJW6WmqjOrugWIaotl/vVtilLGQo6Bj0oElMD1nD+PkCYoPVwi/p37OzLr36ELc5PKxE2w8Gw/L9+oaK7dS3+o4KBE1jV07iNTn7j0M5Cc5mcAa/yDfb2CG9BIlftV929tniUrtmV7slJcHzqcN7+9DezNN+TC8SvZhdN7i5tSkZ+RUP/wRm3sKv</script> <treescope-run-here><script type=\"application/octet-stream\"> const root = ( Array.from(document.getElementsByClassName( \"treescope_out_78a55ddc9c444d72a94ec09f829d596e\")) .filter((elt) => !elt.dataset['step1']) )[0]; root.dataset['step1'] = 1; root.defns.insertContent( this.parentNode.querySelector('script[type=\"application/octet-stream\"]'), true ); this.parentNode.remove(); </script></treescope-run-here> </div>"
      ],
      "text/plain": [
       "<IPython.core.display.HTML object>"
      ]
     },
     "metadata": {},
     "output_type": "display_data"
    },
    {
     "data": {
      "text/html": [
       "<treescope-run-here><script type=\"application/octet-stream\"> const root = ( Array.from(document.getElementsByClassName( \"treescope_out_78a55ddc9c444d72a94ec09f829d596e\")) .filter((elt) => !elt.dataset.stolen) )[0]; root.dataset.stolen = 1; this.parentNode.replaceChild(root, this); </script></treescope-run-here>"
      ],
      "text/plain": [
       "Selection(\n",
       "  selected_by_path=OrderedDict({\n",
       "    (DictKey(key='c'), SequenceKey(idx=0), DictKey(key='value')):\n",
       "      <jax.Array([ 0,  1,  2,  3,  4,  5,  6,  7,  8,  9, 10, 11], dtype=int32)>,\n",
       "    (DictKey(key='c'), SequenceKey(idx=1), DictKey(key='value')):\n",
       "      <jax.Array([0., 0., 0., 0., 0., 0., 0.], dtype=float32)>,\n",
       "  }),\n",
       "  remainder={\n",
       "    'a': 1,\n",
       "    'b': <jax.Array([0, 1, 2, 3, 4, 5, 6, 7, 8, 9], dtype=int32)>,\n",
       "    'c': [{'value': SelectionHole(path=(DictKey(key='c'), SequenceKey(idx=0), DictKey(key='value')))}, {'value': SelectionHole(path=(DictKey(key='c'), SequenceKey(idx=1), DictKey(key='value')))}, {'value': 3}],\n",
       "  },\n",
       ")"
      ]
     },
     "execution_count": 67,
     "metadata": {},
     "output_type": "execute_result"
    }
   ],
   "source": [
    "# Selecting by keypath and value\n",
    "(\n",
    "    pz.select(my_nested_object)\n",
    "    .at_subtrees_where(\n",
    "        lambda path, subtree: len(path) == 3 and isinstance(subtree, jax.Array),\n",
    "        with_keypath=True)\n",
    ")"
   ]
  },
  {
   "cell_type": "code",
   "execution_count": 68,
   "metadata": {
    "execution": {
     "iopub.execute_input": "2024-07-26T21:03:11.792983Z",
     "iopub.status.busy": "2024-07-26T21:03:11.792743Z",
     "iopub.status.idle": "2024-07-26T21:03:11.797350Z",
     "shell.execute_reply": "2024-07-26T21:03:11.797159Z"
    },
    "id": "W-jfNUWTVaw3"
   },
   "outputs": [
    {
     "data": {
      "text/html": [
       "<script> (()=>{ if (customElements.get('treescope-container') === undefined) { class TreescopeContainer extends HTMLElement { constructor() { super(); this.attachShadow({mode: \"open\"}); this.defns = {}; this.state = {}; } } customElements.define(\"treescope-container\", TreescopeContainer); } if (customElements.get('treescope-run-here') === undefined) { class RunHere extends HTMLElement { constructor() { super() } connectedCallback() { const run = child => { const fn = new Function(child.textContent); child.textContent = \"\"; fn.call(this); this.remove(); }; const child = this.querySelector(\"script\"); if (child) { run(child); } else { new MutationObserver(()=>{ run(this.querySelector(\"script\")); }).observe(this, {childList: true}); } } } customElements.define(\"treescope-run-here\", RunHere); } })(); </script> <treescope-container class=\"treescope_out_8d0479f123324a858906dbec197f61c7\" ></treescope-container> <treescope-run-here><script type=\"application/octet-stream\"> const root = ( Array.from(document.getElementsByClassName( \"treescope_out_8d0479f123324a858906dbec197f61c7\")) .filter((elt) => !elt.dataset.setup) )[0]; root.dataset.setup = 1; const msg = document.createElement(\"span\"); msg.style = \"color: #aaaaaa; font-family: monospace; transition: opacity 0.2s; opacity: 0.0;\"; msg.textContent = \"(Loading...)\"; root.state.loadingMsg = msg; root.shadowRoot.appendChild(msg); root.state.chain = new Promise((resolve, reject) => { const observer = new IntersectionObserver((entries) => { for (const entry of entries) { if (entry.isIntersecting) { resolve(); observer.disconnect(); return; } } }, {rootMargin: \"1000px\"}); window.setTimeout(() => { if (root.loadingMsg) { root.loadingMsg.style.opacity = \"1.0\"; } observer.observe(root); }, 0); }); root.state.deferring = false; const _insertNode = (node) => { for (let oldScript of node.querySelectorAll(\"script\")) { let newScript = document.createElement(\"script\"); newScript.type = oldScript.type; newScript.textContent = oldScript.textContent; oldScript.parentNode.replaceChild(newScript, oldScript); } if (root.state.loadingMsg) { root.state.loadingMsg.remove(); root.state.loadingMsg = null; } root.shadowRoot.appendChild(node); }; root.defns.insertContent = ((contentNode, compressed) => { if (compressed) { root.state.deferring = true; } if (root.state.deferring) { root.state.chain = (async () => { await root.state.chain; if (compressed) { const encoded = contentNode.textContent; const blob = new Blob([ Uint8Array.from(atob(encoded), (m) => m.codePointAt(0)) ]); const reader = blob.stream().pipeThrough( new DecompressionStream(\"deflate\") ).pipeThrough( new TextDecoderStream(\"utf-8\") ).getReader(); const parts = []; while (true) { const step = await reader.read(); if (step.done) { break; } parts.push(step.value); } const tpl = document.createElement('template'); tpl.innerHTML = parts.join(\"\"); _insertNode(tpl.content); } else { _insertNode(contentNode.content); } })(); } else { _insertNode(contentNode.content); } }); </script></treescope-run-here><div style=\"display:none\"> <script type=\"application/octet-stream\" >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</script> <treescope-run-here><script type=\"application/octet-stream\"> const root = ( Array.from(document.getElementsByClassName( \"treescope_out_8d0479f123324a858906dbec197f61c7\")) .filter((elt) => !elt.dataset['step0']) )[0]; root.dataset['step0'] = 1; root.defns.insertContent( this.parentNode.querySelector('script[type=\"application/octet-stream\"]'), true ); this.parentNode.remove(); </script></treescope-run-here> </div>"
      ],
      "text/plain": [
       "<IPython.core.display.HTML object>"
      ]
     },
     "metadata": {},
     "output_type": "display_data"
    },
    {
     "data": {
      "text/html": [
       "<treescope-run-here><script type=\"application/octet-stream\"> const root = ( Array.from(document.getElementsByClassName( \"treescope_out_8d0479f123324a858906dbec197f61c7\")) .filter((elt) => !elt.dataset.stolen) )[0]; root.dataset.stolen = 1; this.parentNode.replaceChild(root, this); </script></treescope-run-here>"
      ],
      "text/plain": [
       "{'a': 1,\n",
       " 'b': \"(DictKey(key='b'),)\",\n",
       " 'c': [{'value': \"(DictKey(key='c'), SequenceKey(idx=0), DictKey(key='value'))\"},\n",
       "  {'value': \"(DictKey(key='c'), SequenceKey(idx=1), DictKey(key='value'))\"},\n",
       "  {'value': 3}]}"
      ]
     },
     "execution_count": 68,
     "metadata": {},
     "output_type": "execute_result"
    }
   ],
   "source": [
    "# Setting values by keypath\n",
    "pz.select(my_nested_object).at_instances_of(jax.Array).set_by_path(lambda path: str(path))"
   ]
  },
  {
   "cell_type": "code",
   "execution_count": 69,
   "metadata": {
    "execution": {
     "iopub.execute_input": "2024-07-26T21:03:11.803235Z",
     "iopub.status.busy": "2024-07-26T21:03:11.802839Z",
     "iopub.status.idle": "2024-07-26T21:03:11.807607Z",
     "shell.execute_reply": "2024-07-26T21:03:11.807386Z"
    },
    "id": "vedT4F3FV1Hq"
   },
   "outputs": [
    {
     "data": {
      "text/html": [
       "<script> (()=>{ if (customElements.get('treescope-container') === undefined) { class TreescopeContainer extends HTMLElement { constructor() { super(); this.attachShadow({mode: \"open\"}); this.defns = {}; this.state = {}; } } customElements.define(\"treescope-container\", TreescopeContainer); } if (customElements.get('treescope-run-here') === undefined) { class RunHere extends HTMLElement { constructor() { super() } connectedCallback() { const run = child => { const fn = new Function(child.textContent); child.textContent = \"\"; fn.call(this); this.remove(); }; const child = this.querySelector(\"script\"); if (child) { run(child); } else { new MutationObserver(()=>{ run(this.querySelector(\"script\")); }).observe(this, {childList: true}); } } } customElements.define(\"treescope-run-here\", RunHere); } })(); </script> <treescope-container class=\"treescope_out_ab4fe4fab8e3410580a7771309123389\" ></treescope-container> <treescope-run-here><script type=\"application/octet-stream\"> const root = ( Array.from(document.getElementsByClassName( \"treescope_out_ab4fe4fab8e3410580a7771309123389\")) .filter((elt) => !elt.dataset.setup) )[0]; root.dataset.setup = 1; const msg = document.createElement(\"span\"); msg.style = \"color: #aaaaaa; font-family: monospace; transition: opacity 0.2s; opacity: 0.0;\"; msg.textContent = \"(Loading...)\"; root.state.loadingMsg = msg; root.shadowRoot.appendChild(msg); root.state.chain = new Promise((resolve, reject) => { const observer = new IntersectionObserver((entries) => { for (const entry of entries) { if (entry.isIntersecting) { resolve(); observer.disconnect(); return; } } }, {rootMargin: \"1000px\"}); window.setTimeout(() => { if (root.loadingMsg) { root.loadingMsg.style.opacity = \"1.0\"; } observer.observe(root); }, 0); }); root.state.deferring = false; const _insertNode = (node) => { for (let oldScript of node.querySelectorAll(\"script\")) { let newScript = document.createElement(\"script\"); newScript.type = oldScript.type; newScript.textContent = oldScript.textContent; oldScript.parentNode.replaceChild(newScript, oldScript); } if (root.state.loadingMsg) { root.state.loadingMsg.remove(); root.state.loadingMsg = null; } root.shadowRoot.appendChild(node); }; root.defns.insertContent = ((contentNode, compressed) => { if (compressed) { root.state.deferring = true; } if (root.state.deferring) { root.state.chain = (async () => { await root.state.chain; if (compressed) { const encoded = contentNode.textContent; const blob = new Blob([ Uint8Array.from(atob(encoded), (m) => m.codePointAt(0)) ]); const reader = blob.stream().pipeThrough( new DecompressionStream(\"deflate\") ).pipeThrough( new TextDecoderStream(\"utf-8\") ).getReader(); const parts = []; while (true) { const step = await reader.read(); if (step.done) { break; } parts.push(step.value); } const tpl = document.createElement('template'); tpl.innerHTML = parts.join(\"\"); _insertNode(tpl.content); } else { _insertNode(contentNode.content); } })(); } else { _insertNode(contentNode.content); } }); </script></treescope-run-here><div style=\"display:none\"> <script type=\"application/octet-stream\" >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</script> <treescope-run-here><script type=\"application/octet-stream\"> const root = ( Array.from(document.getElementsByClassName( \"treescope_out_ab4fe4fab8e3410580a7771309123389\")) .filter((elt) => !elt.dataset['step0']) )[0]; root.dataset['step0'] = 1; root.defns.insertContent( this.parentNode.querySelector('script[type=\"application/octet-stream\"]'), true ); this.parentNode.remove(); </script></treescope-run-here> </div>"
      ],
      "text/plain": [
       "<IPython.core.display.HTML object>"
      ]
     },
     "metadata": {},
     "output_type": "display_data"
    },
    {
     "data": {
      "text/html": [
       "<treescope-run-here><script type=\"application/octet-stream\"> const root = ( Array.from(document.getElementsByClassName( \"treescope_out_ab4fe4fab8e3410580a7771309123389\")) .filter((elt) => !elt.dataset.stolen) )[0]; root.dataset.stolen = 1; this.parentNode.replaceChild(root, this); </script></treescope-run-here>"
      ],
      "text/plain": [
       "{'a': 1,\n",
       " 'b': \"((DictKey(key='b'),), Array([0, 1, 2, 3, 4, 5, 6, 7, 8, 9], dtype=int32))\",\n",
       " 'c': [{'value': \"((DictKey(key='c'), SequenceKey(idx=0), DictKey(key='value')), Array([ 0,  1,  2,  3,  4,  5,  6,  7,  8,  9, 10, 11], dtype=int32))\"},\n",
       "  {'value': \"((DictKey(key='c'), SequenceKey(idx=1), DictKey(key='value')), Array([0., 0., 0., 0., 0., 0., 0.], dtype=float32))\"},\n",
       "  {'value': 3}]}"
      ]
     },
     "execution_count": 69,
     "metadata": {},
     "output_type": "execute_result"
    }
   ],
   "source": [
    "# Setting values by keypath and original value\n",
    "pz.select(my_nested_object).at_instances_of(jax.Array).apply(\n",
    "    lambda path, value: str((path, value)), with_keypath=True\n",
    ")"
   ]
  },
  {
   "cell_type": "markdown",
   "metadata": {
    "id": "orWpcwiJt6q0"
   },
   "source": [
    "You can use `jax.tree_util.keystr` or `pz.pretty_keystr` to turn keypaths into readable strings (sometimes useful for referring to parts of a tree by name):"
   ]
  },
  {
   "cell_type": "code",
   "execution_count": 70,
   "metadata": {
    "execution": {
     "iopub.execute_input": "2024-07-26T21:03:11.811411Z",
     "iopub.status.busy": "2024-07-26T21:03:11.811141Z",
     "iopub.status.idle": "2024-07-26T21:03:14.722717Z",
     "shell.execute_reply": "2024-07-26T21:03:14.722855Z"
    },
    "id": "YF3IntIvNjw7"
   },
   "outputs": [
    {
     "data": {
      "text/html": [
       "<script> (()=>{ if (customElements.get('treescope-container') === undefined) { class TreescopeContainer extends HTMLElement { constructor() { super(); this.attachShadow({mode: \"open\"}); this.defns = {}; this.state = {}; } } customElements.define(\"treescope-container\", TreescopeContainer); } if (customElements.get('treescope-run-here') === undefined) { class RunHere extends HTMLElement { constructor() { super() } connectedCallback() { const run = child => { const fn = new Function(child.textContent); child.textContent = \"\"; fn.call(this); this.remove(); }; const child = this.querySelector(\"script\"); if (child) { run(child); } else { new MutationObserver(()=>{ run(this.querySelector(\"script\")); }).observe(this, {childList: true}); } } } customElements.define(\"treescope-run-here\", RunHere); } })(); </script> <treescope-container class=\"treescope_out_24a1426c11f646ecbe47411c2b517c28\" ></treescope-container> <treescope-run-here><script type=\"application/octet-stream\"> const root = ( Array.from(document.getElementsByClassName( \"treescope_out_24a1426c11f646ecbe47411c2b517c28\")) .filter((elt) => !elt.dataset.setup) )[0]; root.dataset.setup = 1; const msg = document.createElement(\"span\"); msg.style = \"color: #aaaaaa; font-family: monospace; transition: opacity 0.2s; opacity: 0.0;\"; msg.textContent = \"(Loading...)\"; root.state.loadingMsg = msg; root.shadowRoot.appendChild(msg); root.state.chain = new Promise((resolve, reject) => { const observer = new IntersectionObserver((entries) => { for (const entry of entries) { if (entry.isIntersecting) { resolve(); observer.disconnect(); return; } } }, {rootMargin: \"1000px\"}); window.setTimeout(() => { if (root.loadingMsg) { root.loadingMsg.style.opacity = \"1.0\"; } observer.observe(root); }, 0); }); root.state.deferring = false; const _insertNode = (node) => { for (let oldScript of node.querySelectorAll(\"script\")) { let newScript = document.createElement(\"script\"); newScript.type = oldScript.type; newScript.textContent = oldScript.textContent; oldScript.parentNode.replaceChild(newScript, oldScript); } if (root.state.loadingMsg) { root.state.loadingMsg.remove(); root.state.loadingMsg = null; } root.shadowRoot.appendChild(node); }; root.defns.insertContent = ((contentNode, compressed) => { if (compressed) { root.state.deferring = true; } if (root.state.deferring) { root.state.chain = (async () => { await root.state.chain; if (compressed) { const encoded = contentNode.textContent; const blob = new Blob([ Uint8Array.from(atob(encoded), (m) => m.codePointAt(0)) ]); const reader = blob.stream().pipeThrough( new DecompressionStream(\"deflate\") ).pipeThrough( new TextDecoderStream(\"utf-8\") ).getReader(); const parts = []; while (true) { const step = await reader.read(); if (step.done) { break; } parts.push(step.value); } const tpl = document.createElement('template'); tpl.innerHTML = parts.join(\"\"); _insertNode(tpl.content); } else { _insertNode(contentNode.content); } })(); } else { _insertNode(contentNode.content); } }); </script></treescope-run-here><div style=\"display:none\"> <script type=\"application/octet-stream\" >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</script> <treescope-run-here><script type=\"application/octet-stream\"> const root = ( Array.from(document.getElementsByClassName( \"treescope_out_24a1426c11f646ecbe47411c2b517c28\")) .filter((elt) => !elt.dataset['step0']) )[0]; root.dataset['step0'] = 1; root.defns.insertContent( this.parentNode.querySelector('script[type=\"application/octet-stream\"]'), true ); this.parentNode.remove(); </script></treescope-run-here> </div>"
      ],
      "text/plain": [
       "<IPython.core.display.HTML object>"
      ]
     },
     "metadata": {},
     "output_type": "display_data"
    },
    {
     "data": {
      "text/html": [
       "<div style=\"display:none\"> <script type=\"application/octet-stream\" >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</script> <treescope-run-here><script type=\"application/octet-stream\"> const root = ( Array.from(document.getElementsByClassName( \"treescope_out_24a1426c11f646ecbe47411c2b517c28\")) .filter((elt) => !elt.dataset['step1']) )[0]; root.dataset['step1'] = 1; root.defns.insertContent( this.parentNode.querySelector('script[type=\"application/octet-stream\"]'), true ); this.parentNode.remove(); </script></treescope-run-here> </div>"
      ],
      "text/plain": [
       "<IPython.core.display.HTML object>"
      ]
     },
     "metadata": {},
     "output_type": "display_data"
    },
    {
     "data": {
      "text/html": [
       "<treescope-run-here><script type=\"application/octet-stream\"> const root = ( Array.from(document.getElementsByClassName( \"treescope_out_24a1426c11f646ecbe47411c2b517c28\")) .filter((elt) => !elt.dataset.stolen) )[0]; root.dataset.stolen = 1; this.parentNode.replaceChild(root, this); </script></treescope-run-here>"
      ],
      "text/plain": [
       "MLP( # Sequential\n",
       "  sublayers=[\n",
       "    Affine( # Sequential\n",
       "      sublayers=[\n",
       "        Linear(weights=Parameter(label='mlp/Affine_0/Linear.weights', value=<NamedArray float32(| features:8, features_out:32) ≈-0.0039 ±0.22 [≥-0.38, ≤0.38] nonzero:256 (wrapping jax.Array)>, metadata={}), in_axis_names=('features',), out_axis_names=('features_out',)),\n",
       "        RenameAxes(old=('features_out',), new=('features',)),\n",
       "        AddBias(bias=Parameter(label='mlp/Affine_0/AddBias.bias', value=<NamedArray float32(| features:32) ≈0.0 ±0.0 [≥0.0, ≤0.0] zero:32 (wrapping jax.Array)>, metadata={}), new_axis_names=()),\n",
       "      ],\n",
       "    ),\n",
       "    Elementwise(fn=jax.nn.relu),\n",
       "    Affine( # Sequential\n",
       "      sublayers=[Linear(weights=Parameter(label='mlp/Affine_1/Linear.weights', value=<NamedArray float32(| features:32, features_out:32) ≈0.00044 ±0.18 [≥-0.31, ≤0.31] nonzero:1_024 (wrapping jax.Array)>, metadata={}), in_axis_names=('features',), out_axis_names=('features_out',)), RenameAxes(old=('features_out',), new=('features',)), AddBias(bias=Parameter(label='mlp/Affine_1/AddBias.bias', value=<NamedArray float32(| features:32) ≈0.0 ±0.0 [≥0.0, ≤0.0] zero:32 (wrapping jax.Array)>, metadata={}), new_axis_names=())],\n",
       "    ),\n",
       "    Elementwise(fn=jax.nn.relu),\n",
       "    Affine( # Sequential\n",
       "      sublayers=[Linear(weights=Parameter(label='mlp/Affine_2/Linear.weights', value=<NamedArray float32(| features:32, features_out:8) ≈-0.006 ±0.22 [≥-0.38, ≤0.38] nonzero:256 (wrapping jax.Array)>, metadata={}), in_axis_names=('features',), out_axis_names=('features_out',)), RenameAxes(old=('features_out',), new=('features',)), AddBias(bias=Parameter(label='mlp/Affine_2/AddBias.bias', value=<NamedArray float32(| features:8) ≈0.0 ±0.0 [≥0.0, ≤0.0] zero:8 (wrapping jax.Array)>, metadata={}), new_axis_names=())],\n",
       "    ),\n",
       "  ],\n",
       ")"
      ]
     },
     "execution_count": 70,
     "metadata": {},
     "output_type": "execute_result"
    }
   ],
   "source": [
    "mlp = simple_mlp.MLP.from_config(\n",
    "    name=\"mlp\",\n",
    "    init_base_rng=jax.random.key(0),\n",
    "    feature_sizes=[8, 32, 32, 8]\n",
    ")\n",
    "mlp"
   ]
  },
  {
   "cell_type": "code",
   "execution_count": 71,
   "metadata": {
    "execution": {
     "iopub.execute_input": "2024-07-26T21:03:14.738622Z",
     "iopub.status.busy": "2024-07-26T21:03:14.731574Z",
     "iopub.status.idle": "2024-07-26T21:03:14.743930Z",
     "shell.execute_reply": "2024-07-26T21:03:14.743698Z"
    },
    "id": "nFT8THeWW2in"
   },
   "outputs": [
    {
     "data": {
      "text/html": [
       "<script> (()=>{ if (customElements.get('treescope-container') === undefined) { class TreescopeContainer extends HTMLElement { constructor() { super(); this.attachShadow({mode: \"open\"}); this.defns = {}; this.state = {}; } } customElements.define(\"treescope-container\", TreescopeContainer); } if (customElements.get('treescope-run-here') === undefined) { class RunHere extends HTMLElement { constructor() { super() } connectedCallback() { const run = child => { const fn = new Function(child.textContent); child.textContent = \"\"; fn.call(this); this.remove(); }; const child = this.querySelector(\"script\"); if (child) { run(child); } else { new MutationObserver(()=>{ run(this.querySelector(\"script\")); }).observe(this, {childList: true}); } } } customElements.define(\"treescope-run-here\", RunHere); } })(); </script> <treescope-container class=\"treescope_out_af35248e437d4c26b8754f9a539d2fbb\" ></treescope-container> <treescope-run-here><script type=\"application/octet-stream\"> const root = ( Array.from(document.getElementsByClassName( \"treescope_out_af35248e437d4c26b8754f9a539d2fbb\")) .filter((elt) => !elt.dataset.setup) )[0]; root.dataset.setup = 1; const msg = document.createElement(\"span\"); msg.style = \"color: #aaaaaa; font-family: monospace; transition: opacity 0.2s; opacity: 0.0;\"; msg.textContent = \"(Loading...)\"; root.state.loadingMsg = msg; root.shadowRoot.appendChild(msg); root.state.chain = new Promise((resolve, reject) => { const observer = new IntersectionObserver((entries) => { for (const entry of entries) { if (entry.isIntersecting) { resolve(); observer.disconnect(); return; } } }, {rootMargin: \"1000px\"}); window.setTimeout(() => { if (root.loadingMsg) { root.loadingMsg.style.opacity = \"1.0\"; } observer.observe(root); }, 0); }); root.state.deferring = false; const _insertNode = (node) => { for (let oldScript of node.querySelectorAll(\"script\")) { let newScript = document.createElement(\"script\"); newScript.type = oldScript.type; newScript.textContent = oldScript.textContent; oldScript.parentNode.replaceChild(newScript, oldScript); } if (root.state.loadingMsg) { root.state.loadingMsg.remove(); root.state.loadingMsg = null; } root.shadowRoot.appendChild(node); }; root.defns.insertContent = ((contentNode, compressed) => { if (compressed) { root.state.deferring = true; } if (root.state.deferring) { root.state.chain = (async () => { await root.state.chain; if (compressed) { const encoded = contentNode.textContent; const blob = new Blob([ Uint8Array.from(atob(encoded), (m) => m.codePointAt(0)) ]); const reader = blob.stream().pipeThrough( new DecompressionStream(\"deflate\") ).pipeThrough( new TextDecoderStream(\"utf-8\") ).getReader(); const parts = []; while (true) { const step = await reader.read(); if (step.done) { break; } parts.push(step.value); } const tpl = document.createElement('template'); tpl.innerHTML = parts.join(\"\"); _insertNode(tpl.content); } else { _insertNode(contentNode.content); } })(); } else { _insertNode(contentNode.content); } }); </script></treescope-run-here><div style=\"display:none\"> <script type=\"application/octet-stream\" >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</script> <treescope-run-here><script type=\"application/octet-stream\"> const root = ( Array.from(document.getElementsByClassName( \"treescope_out_af35248e437d4c26b8754f9a539d2fbb\")) .filter((elt) => !elt.dataset['step0']) )[0]; root.dataset['step0'] = 1; root.defns.insertContent( this.parentNode.querySelector('script[type=\"application/octet-stream\"]'), true ); this.parentNode.remove(); </script></treescope-run-here> </div>"
      ],
      "text/plain": [
       "<IPython.core.display.HTML object>"
      ]
     },
     "metadata": {},
     "output_type": "display_data"
    },
    {
     "data": {
      "text/html": [
       "<treescope-run-here><script type=\"application/octet-stream\"> const root = ( Array.from(document.getElementsByClassName( \"treescope_out_af35248e437d4c26b8754f9a539d2fbb\")) .filter((elt) => !elt.dataset.stolen) )[0]; root.dataset.stolen = 1; this.parentNode.replaceChild(root, this); </script></treescope-run-here>"
      ],
      "text/plain": [
       "[(GetAttrKey(name='sublayers'),\n",
       "  SequenceKey(idx=0),\n",
       "  GetAttrKey(name='sublayers'),\n",
       "  SequenceKey(idx=0),\n",
       "  GetAttrKey(name='weights')),\n",
       " (GetAttrKey(name='sublayers'),\n",
       "  SequenceKey(idx=0),\n",
       "  GetAttrKey(name='sublayers'),\n",
       "  SequenceKey(idx=2),\n",
       "  GetAttrKey(name='bias')),\n",
       " (GetAttrKey(name='sublayers'),\n",
       "  SequenceKey(idx=2),\n",
       "  GetAttrKey(name='sublayers'),\n",
       "  SequenceKey(idx=0),\n",
       "  GetAttrKey(name='weights')),\n",
       " (GetAttrKey(name='sublayers'),\n",
       "  SequenceKey(idx=2),\n",
       "  GetAttrKey(name='sublayers'),\n",
       "  SequenceKey(idx=2),\n",
       "  GetAttrKey(name='bias')),\n",
       " (GetAttrKey(name='sublayers'),\n",
       "  SequenceKey(idx=4),\n",
       "  GetAttrKey(name='sublayers'),\n",
       "  SequenceKey(idx=0),\n",
       "  GetAttrKey(name='weights')),\n",
       " (GetAttrKey(name='sublayers'),\n",
       "  SequenceKey(idx=4),\n",
       "  GetAttrKey(name='sublayers'),\n",
       "  SequenceKey(idx=2),\n",
       "  GetAttrKey(name='bias'))]"
      ]
     },
     "execution_count": 71,
     "metadata": {},
     "output_type": "execute_result"
    }
   ],
   "source": [
    "[\n",
    "  key for key in\n",
    "  pz.select(mlp).at_instances_of(pz.Parameter).selected_by_path.keys()\n",
    "]"
   ]
  },
  {
   "cell_type": "code",
   "execution_count": 72,
   "metadata": {
    "execution": {
     "iopub.execute_input": "2024-07-26T21:03:14.749602Z",
     "iopub.status.busy": "2024-07-26T21:03:14.749303Z",
     "iopub.status.idle": "2024-07-26T21:03:14.753080Z",
     "shell.execute_reply": "2024-07-26T21:03:14.753288Z"
    },
    "id": "qzrhXuqcuYjA"
   },
   "outputs": [
    {
     "data": {
      "text/html": [
       "<script> (()=>{ if (customElements.get('treescope-container') === undefined) { class TreescopeContainer extends HTMLElement { constructor() { super(); this.attachShadow({mode: \"open\"}); this.defns = {}; this.state = {}; } } customElements.define(\"treescope-container\", TreescopeContainer); } if (customElements.get('treescope-run-here') === undefined) { class RunHere extends HTMLElement { constructor() { super() } connectedCallback() { const run = child => { const fn = new Function(child.textContent); child.textContent = \"\"; fn.call(this); this.remove(); }; const child = this.querySelector(\"script\"); if (child) { run(child); } else { new MutationObserver(()=>{ run(this.querySelector(\"script\")); }).observe(this, {childList: true}); } } } customElements.define(\"treescope-run-here\", RunHere); } })(); </script> <treescope-container class=\"treescope_out_4a5331eab17944129be3f6221f9f61f5\" ></treescope-container> <treescope-run-here><script type=\"application/octet-stream\"> const root = ( Array.from(document.getElementsByClassName( \"treescope_out_4a5331eab17944129be3f6221f9f61f5\")) .filter((elt) => !elt.dataset.setup) )[0]; root.dataset.setup = 1; const msg = document.createElement(\"span\"); msg.style = \"color: #aaaaaa; font-family: monospace; transition: opacity 0.2s; opacity: 0.0;\"; msg.textContent = \"(Loading...)\"; root.state.loadingMsg = msg; root.shadowRoot.appendChild(msg); root.state.chain = new Promise((resolve, reject) => { const observer = new IntersectionObserver((entries) => { for (const entry of entries) { if (entry.isIntersecting) { resolve(); observer.disconnect(); return; } } }, {rootMargin: \"1000px\"}); window.setTimeout(() => { if (root.loadingMsg) { root.loadingMsg.style.opacity = \"1.0\"; } observer.observe(root); }, 0); }); root.state.deferring = false; const _insertNode = (node) => { for (let oldScript of node.querySelectorAll(\"script\")) { let newScript = document.createElement(\"script\"); newScript.type = oldScript.type; newScript.textContent = oldScript.textContent; oldScript.parentNode.replaceChild(newScript, oldScript); } if (root.state.loadingMsg) { root.state.loadingMsg.remove(); root.state.loadingMsg = null; } root.shadowRoot.appendChild(node); }; root.defns.insertContent = ((contentNode, compressed) => { if (compressed) { root.state.deferring = true; } if (root.state.deferring) { root.state.chain = (async () => { await root.state.chain; if (compressed) { const encoded = contentNode.textContent; const blob = new Blob([ Uint8Array.from(atob(encoded), (m) => m.codePointAt(0)) ]); const reader = blob.stream().pipeThrough( new DecompressionStream(\"deflate\") ).pipeThrough( new TextDecoderStream(\"utf-8\") ).getReader(); const parts = []; while (true) { const step = await reader.read(); if (step.done) { break; } parts.push(step.value); } const tpl = document.createElement('template'); tpl.innerHTML = parts.join(\"\"); _insertNode(tpl.content); } else { _insertNode(contentNode.content); } })(); } else { _insertNode(contentNode.content); } }); </script></treescope-run-here><div style=\"display:none\"> <script type=\"application/octet-stream\" >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</script> <treescope-run-here><script type=\"application/octet-stream\"> const root = ( Array.from(document.getElementsByClassName( \"treescope_out_4a5331eab17944129be3f6221f9f61f5\")) .filter((elt) => !elt.dataset['step0']) )[0]; root.dataset['step0'] = 1; root.defns.insertContent( this.parentNode.querySelector('script[type=\"application/octet-stream\"]'), true ); this.parentNode.remove(); </script></treescope-run-here> </div>"
      ],
      "text/plain": [
       "<IPython.core.display.HTML object>"
      ]
     },
     "metadata": {},
     "output_type": "display_data"
    },
    {
     "data": {
      "text/html": [
       "<treescope-run-here><script type=\"application/octet-stream\"> const root = ( Array.from(document.getElementsByClassName( \"treescope_out_4a5331eab17944129be3f6221f9f61f5\")) .filter((elt) => !elt.dataset.stolen) )[0]; root.dataset.stolen = 1; this.parentNode.replaceChild(root, this); </script></treescope-run-here>"
      ],
      "text/plain": [
       "['.sublayers[0].sublayers[0].weights',\n",
       " '.sublayers[0].sublayers[2].bias',\n",
       " '.sublayers[2].sublayers[0].weights',\n",
       " '.sublayers[2].sublayers[2].bias',\n",
       " '.sublayers[4].sublayers[0].weights',\n",
       " '.sublayers[4].sublayers[2].bias']"
      ]
     },
     "execution_count": 72,
     "metadata": {},
     "output_type": "execute_result"
    }
   ],
   "source": [
    "[\n",
    "  jax.tree_util.keystr(key) for key in\n",
    "  pz.select(mlp).at_instances_of(pz.Parameter).selected_by_path.keys()\n",
    "]"
   ]
  },
  {
   "cell_type": "code",
   "execution_count": 73,
   "metadata": {
    "execution": {
     "iopub.execute_input": "2024-07-26T21:03:14.758781Z",
     "iopub.status.busy": "2024-07-26T21:03:14.758485Z",
     "iopub.status.idle": "2024-07-26T21:03:14.762392Z",
     "shell.execute_reply": "2024-07-26T21:03:14.762544Z"
    },
    "id": "Ots2ZBckNwJo"
   },
   "outputs": [
    {
     "data": {
      "text/html": [
       "<script> (()=>{ if (customElements.get('treescope-container') === undefined) { class TreescopeContainer extends HTMLElement { constructor() { super(); this.attachShadow({mode: \"open\"}); this.defns = {}; this.state = {}; } } customElements.define(\"treescope-container\", TreescopeContainer); } if (customElements.get('treescope-run-here') === undefined) { class RunHere extends HTMLElement { constructor() { super() } connectedCallback() { const run = child => { const fn = new Function(child.textContent); child.textContent = \"\"; fn.call(this); this.remove(); }; const child = this.querySelector(\"script\"); if (child) { run(child); } else { new MutationObserver(()=>{ run(this.querySelector(\"script\")); }).observe(this, {childList: true}); } } } customElements.define(\"treescope-run-here\", RunHere); } })(); </script> <treescope-container class=\"treescope_out_1512177ff21644d09e787d756ab6592b\" ></treescope-container> <treescope-run-here><script type=\"application/octet-stream\"> const root = ( Array.from(document.getElementsByClassName( \"treescope_out_1512177ff21644d09e787d756ab6592b\")) .filter((elt) => !elt.dataset.setup) )[0]; root.dataset.setup = 1; const msg = document.createElement(\"span\"); msg.style = \"color: #aaaaaa; font-family: monospace; transition: opacity 0.2s; opacity: 0.0;\"; msg.textContent = \"(Loading...)\"; root.state.loadingMsg = msg; root.shadowRoot.appendChild(msg); root.state.chain = new Promise((resolve, reject) => { const observer = new IntersectionObserver((entries) => { for (const entry of entries) { if (entry.isIntersecting) { resolve(); observer.disconnect(); return; } } }, {rootMargin: \"1000px\"}); window.setTimeout(() => { if (root.loadingMsg) { root.loadingMsg.style.opacity = \"1.0\"; } observer.observe(root); }, 0); }); root.state.deferring = false; const _insertNode = (node) => { for (let oldScript of node.querySelectorAll(\"script\")) { let newScript = document.createElement(\"script\"); newScript.type = oldScript.type; newScript.textContent = oldScript.textContent; oldScript.parentNode.replaceChild(newScript, oldScript); } if (root.state.loadingMsg) { root.state.loadingMsg.remove(); root.state.loadingMsg = null; } root.shadowRoot.appendChild(node); }; root.defns.insertContent = ((contentNode, compressed) => { if (compressed) { root.state.deferring = true; } if (root.state.deferring) { root.state.chain = (async () => { await root.state.chain; if (compressed) { const encoded = contentNode.textContent; const blob = new Blob([ Uint8Array.from(atob(encoded), (m) => m.codePointAt(0)) ]); const reader = blob.stream().pipeThrough( new DecompressionStream(\"deflate\") ).pipeThrough( new TextDecoderStream(\"utf-8\") ).getReader(); const parts = []; while (true) { const step = await reader.read(); if (step.done) { break; } parts.push(step.value); } const tpl = document.createElement('template'); tpl.innerHTML = parts.join(\"\"); _insertNode(tpl.content); } else { _insertNode(contentNode.content); } })(); } else { _insertNode(contentNode.content); } }); </script></treescope-run-here><div style=\"display:none\"> <script type=\"application/octet-stream\" >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</script> <treescope-run-here><script type=\"application/octet-stream\"> const root = ( Array.from(document.getElementsByClassName( \"treescope_out_1512177ff21644d09e787d756ab6592b\")) .filter((elt) => !elt.dataset['step0']) )[0]; root.dataset['step0'] = 1; root.defns.insertContent( this.parentNode.querySelector('script[type=\"application/octet-stream\"]'), true ); this.parentNode.remove(); </script></treescope-run-here> </div>"
      ],
      "text/plain": [
       "<IPython.core.display.HTML object>"
      ]
     },
     "metadata": {},
     "output_type": "display_data"
    },
    {
     "data": {
      "text/html": [
       "<treescope-run-here><script type=\"application/octet-stream\"> const root = ( Array.from(document.getElementsByClassName( \"treescope_out_1512177ff21644d09e787d756ab6592b\")) .filter((elt) => !elt.dataset.stolen) )[0]; root.dataset.stolen = 1; this.parentNode.replaceChild(root, this); </script></treescope-run-here>"
      ],
      "text/plain": [
       "['MLP.sublayers[0]/Affine.sublayers[0]/Linear.weights',\n",
       " 'MLP.sublayers[0]/Affine.sublayers[2]/AddBias.bias',\n",
       " 'MLP.sublayers[2]/Affine.sublayers[0]/Linear.weights',\n",
       " 'MLP.sublayers[2]/Affine.sublayers[2]/AddBias.bias',\n",
       " 'MLP.sublayers[4]/Affine.sublayers[0]/Linear.weights',\n",
       " 'MLP.sublayers[4]/Affine.sublayers[2]/AddBias.bias']"
      ]
     },
     "execution_count": 73,
     "metadata": {},
     "output_type": "execute_result"
    }
   ],
   "source": [
    "[\n",
    "  pz.pretty_keystr(key, mlp) for key in\n",
    "  pz.select(mlp).at_instances_of(pz.Parameter).selected_by_path.keys()\n",
    "]"
   ]
  },
  {
   "cell_type": "code",
   "execution_count": null,
   "metadata": {
    "id": "2FQPmfO2Nyof"
   },
   "outputs": [],
   "source": []
  }
 ],
 "metadata": {
  "colab": {
   "name": "Selectors and selections",
   "toc_visible": true
  },
  "kernelspec": {
   "display_name": "Python 3",
   "name": "python3"
  },
  "language_info": {
   "codemirror_mode": {
    "name": "ipython",
    "version": 3
   },
   "file_extension": ".py",
   "mimetype": "text/x-python",
   "name": "python",
   "nbconvert_exporter": "python",
   "pygments_lexer": "ipython3",
   "version": "3.10.12"
  }
 },
 "nbformat": 4,
 "nbformat_minor": 0
}
