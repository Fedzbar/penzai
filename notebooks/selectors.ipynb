{
 "cells": [
  {
   "cell_type": "markdown",
   "metadata": {
    "id": "DfejMHs4lr8V"
   },
   "source": [
    "*Copyright 2024 The Penzai Authors.*\n",
    "\n",
    "*Licensed under the Apache License, Version 2.0 (the \"License\"); you may not use this file except in compliance with the License.\n",
    "You may obtain a copy of the License at*\n",
    "\n",
    "> http://www.apache.org/licenses/LICENSE-2.0\n",
    "\n",
    "*Unless required by applicable law or agreed to in writing, software\n",
    "distributed under the License is distributed on an \"AS IS\" BASIS,\n",
    "WITHOUT WARRANTIES OR CONDITIONS OF ANY KIND, either express or  implied.\n",
    "See the License for the specific language governing permissions and\n",
    "limitations under the License.*\n",
    "\n",
    "---"
   ]
  },
  {
   "cell_type": "markdown",
   "metadata": {
    "id": "USGIPdLYDzSo"
   },
   "source": [
    "[![Open in Colab](https://colab.research.google.com/assets/colab-badge.svg)](https://colab.research.google.com/github/google-deepmind/penzai/blob/main/notebooks/selectors.ipynb) [![Open in Kaggle](https://kaggle.com/static/images/open-in-kaggle.svg)](https://kaggle.com/kernels/welcome?src=https://github.com/google-deepmind/penzai/blob/main/notebooks/selectors.ipynb)"
   ]
  },
  {
   "cell_type": "markdown",
   "metadata": {
    "id": "RbZ02bVnH7LL"
   },
   "source": [
    "# Selectors and Selections"
   ]
  },
  {
   "cell_type": "markdown",
   "metadata": {
    "id": "FG4w_VU1H_WN"
   },
   "source": [
    "Penzai is designed to make it easy to make targeted modifications to models and parameter trees. For this purpose, Penzai provides a powerful \"selection\" system to allow you to identify, visualize, and modify arbitrary JAX PyTrees. In short, `pz.select` enables `.at[...].set(...)`-style modification for arbitrary PyTree types.\n",
    "\n",
    "This notebook describes the basics of Penzai's selection object and shows how you can use it to make a variety of modifications.\n"
   ]
  },
  {
   "cell_type": "markdown",
   "metadata": {
    "id": "SHr2rnIL8DzM"
   },
   "source": [
    "## Setup"
   ]
  },
  {
   "cell_type": "markdown",
   "metadata": {
    "id": "VkW4lYKAu-oR"
   },
   "source": [
    "We'll start by setting up the environment."
   ]
  },
  {
   "cell_type": "markdown",
   "metadata": {
    "id": "ozG8ERNavDos"
   },
   "source": [
    "### Imports"
   ]
  },
  {
   "cell_type": "markdown",
   "metadata": {
    "id": "xmxgAcFQmZkB"
   },
   "source": [
    "To run this notebook, you need a Python environment with `penzai` and its dependencies installed.\n",
    "\n",
    "In Colab or Kaggle, you can install it using the following command:"
   ]
  },
  {
   "cell_type": "code",
   "execution_count": 1,
   "metadata": {
    "execution": {
     "iopub.execute_input": "2024-07-07T03:15:17.026984Z",
     "iopub.status.busy": "2024-07-07T03:15:17.026748Z",
     "iopub.status.idle": "2024-07-07T03:15:17.029355Z",
     "shell.execute_reply": "2024-07-07T03:15:17.029135Z"
    },
    "id": "XGZH58j8mPkj"
   },
   "outputs": [],
   "source": [
    "try:\n",
    "  import penzai\n",
    "except ImportError:\n",
    "  !pip install penzai[notebook]"
   ]
  },
  {
   "cell_type": "code",
   "execution_count": 2,
   "metadata": {
    "execution": {
     "iopub.execute_input": "2024-07-07T03:15:17.032764Z",
     "iopub.status.busy": "2024-07-07T03:15:17.032491Z",
     "iopub.status.idle": "2024-07-07T03:15:17.413803Z",
     "shell.execute_reply": "2024-07-07T03:15:17.413952Z"
    },
    "id": "iog3oMAMGCMG"
   },
   "outputs": [],
   "source": [
    "from __future__ import annotations\n",
    "import typing\n",
    "import traceback\n",
    "\n",
    "import jax\n",
    "import jax.numpy as jnp"
   ]
  },
  {
   "cell_type": "code",
   "execution_count": 3,
   "metadata": {
    "execution": {
     "iopub.execute_input": "2024-07-07T03:15:17.418008Z",
     "iopub.status.busy": "2024-07-07T03:15:17.417766Z",
     "iopub.status.idle": "2024-07-07T03:15:17.593715Z",
     "shell.execute_reply": "2024-07-07T03:15:17.593856Z"
    },
    "id": "5Mh2mAuiQ4aa"
   },
   "outputs": [],
   "source": [
    "import penzai\n",
    "from penzai import pz"
   ]
  },
  {
   "cell_type": "code",
   "execution_count": 4,
   "metadata": {
    "execution": {
     "iopub.execute_input": "2024-07-07T03:15:17.597869Z",
     "iopub.status.busy": "2024-07-07T03:15:17.597602Z",
     "iopub.status.idle": "2024-07-07T03:15:17.601631Z",
     "shell.execute_reply": "2024-07-07T03:15:17.601423Z"
    },
    "id": "QMSmQSSzOOnj"
   },
   "outputs": [],
   "source": [
    "from penzai.example_models import simple_mlp"
   ]
  },
  {
   "cell_type": "markdown",
   "metadata": {
    "id": "OGzhV5uWvkvB"
   },
   "source": [
    "### Setting up Penzai"
   ]
  },
  {
   "cell_type": "markdown",
   "metadata": {
    "id": "TjGkV8F8vmpi"
   },
   "source": [
    "For this tutorial, we'll enable Treescope (Penzai's pretty-printer) as the default IPython pretty-printer. This is recommended when using Penzai in an interactive environment."
   ]
  },
  {
   "cell_type": "code",
   "execution_count": 5,
   "metadata": {
    "execution": {
     "iopub.execute_input": "2024-07-07T03:15:17.607016Z",
     "iopub.status.busy": "2024-07-07T03:15:17.606753Z",
     "iopub.status.idle": "2024-07-07T03:15:24.454498Z",
     "shell.execute_reply": "2024-07-07T03:15:24.454672Z"
    },
    "id": "YodWk_jmva_7"
   },
   "outputs": [],
   "source": [
    "pz.ts.register_as_default()\n",
    "pz.ts.register_autovisualize_magic()\n",
    "pz.ts.register_context_manager_magic()"
   ]
  },
  {
   "cell_type": "markdown",
   "metadata": {
    "id": "3egey4t42OTo"
   },
   "source": [
    "## What are selectors?"
   ]
  },
  {
   "cell_type": "markdown",
   "metadata": {
    "id": "SmFOag2y2UjQ"
   },
   "source": [
    "If you're familiar with JAX, you probably know that JAX arrays are immutable. This maens that it's not possible to directly assign to elements of a JAX array:"
   ]
  },
  {
   "cell_type": "code",
   "execution_count": 6,
   "metadata": {
    "execution": {
     "iopub.execute_input": "2024-07-07T03:15:24.458787Z",
     "iopub.status.busy": "2024-07-07T03:15:24.458544Z",
     "iopub.status.idle": "2024-07-07T03:15:25.413476Z",
     "shell.execute_reply": "2024-07-07T03:15:25.413100Z"
    },
    "id": "V4fKIMM4807s"
   },
   "outputs": [
    {
     "data": {
      "text/html": [
       "<script> (()=>{ if (customElements.get('treescope-container') === undefined) { class TreescopeContainer extends HTMLElement { constructor() { super(); this.attachShadow({mode: \"open\"}); this.defns = {}; this.state = {}; } } customElements.define(\"treescope-container\", TreescopeContainer); } if (customElements.get('treescope-run-here') === undefined) { class RunHere extends HTMLElement { constructor() { super() } connectedCallback() { const src = this.querySelector(\"script\").textContent; const fn = new Function(src); fn.call(this); this.remove(); } } customElements.define(\"treescope-run-here\", RunHere); } })(); </script> <treescope-container class=\"treescope_out_dbce3bf299ba4667804a8b180a4426da\" ></treescope-container> <treescope-run-here><script type=\"application/octet-stream\"> const root = ( Array.from(document.getElementsByClassName( \"treescope_out_dbce3bf299ba4667804a8b180a4426da\")) .filter((elt) => !elt.dataset.setup) )[0]; root.dataset.setup = 1; const msg = document.createElement(\"span\"); msg.style = \"color: #aaaaaa; font-family: monospace; transition: opacity 0.2s; opacity: 0.0;\"; msg.textContent = \"(Loading...)\"; root.state.loadingMsg = msg; root.shadowRoot.appendChild(msg); root.state.chain = new Promise((resolve, reject) => { const observer = new IntersectionObserver((entries) => { for (const entry of entries) { if (entry.isIntersecting) { resolve(); observer.disconnect(); return; } } }, {rootMargin: \"1000px\"}); window.setTimeout(() => { if (root.loadingMsg) { root.loadingMsg.style.opacity = \"1.0\"; } observer.observe(root); }, 0); }); root.state.deferring = false; const _insertNode = (node) => { for (let oldScript of node.querySelectorAll(\"script\")) { let newScript = document.createElement(\"script\"); newScript.type = oldScript.type; newScript.textContent = oldScript.textContent; oldScript.parentNode.replaceChild(newScript, oldScript); } if (root.state.loadingMsg) { root.state.loadingMsg.remove(); root.state.loadingMsg = null; } root.shadowRoot.appendChild(node); }; root.defns.insertContent = ((contentNode, compressed) => { if (compressed) { root.state.deferring = true; } if (root.state.deferring) { root.state.chain = (async () => { await root.state.chain; if (compressed) { const encoded = contentNode.textContent; const blob = new Blob([ Uint8Array.from(atob(encoded), (m) => m.codePointAt(0)) ]); const reader = blob.stream().pipeThrough( new DecompressionStream(\"deflate\") ).pipeThrough( new TextDecoderStream(\"utf-8\") ).getReader(); const parts = []; while (true) { const step = await reader.read(); if (step.done) { break; } parts.push(step.value); } const tpl = document.createElement('template'); tpl.innerHTML = parts.join(\"\"); _insertNode(tpl.content); } else { _insertNode(contentNode.content); } })(); } else { _insertNode(contentNode.content); } }); </script></treescope-run-here><div style=\"display:none\"> <script type=\"application/octet-stream\" >eNrFVk2Po0YQ/SstIu1AtDC2Z2d3B9tIc4lyiHJIDjkkkdVAAR23u0l34RlvNP891Q22xzYeRcoqMQdDdVW9V5+wsLiTkCVoAGyhW1gZrZH9xVptBQqtUmZAchRbmLNKK4wrvhFyl7KNVtq2vCD5UyMQYv+QstaQRAqLsXcd464lqdKKxDkv1rXRnSrjQktt0t50zoanXJIC+RMlNimrBJKaQlA4Zy0vS6HqWEKFKZsVjQNREDcg6oYk0+TeuVHIBXE+mA038VZYkQspkJjzDvVBNxYKjVBWFLEVX6A/Hei+LG779CwO6YlNpwjTkMwWRrTIXHzLG962UhTcZexWFwguegN8c5OFYbTMKKGEZ5GVUCnLlgwbYZMa8CfK9o+6hDBKGm0x8ecUGiBbtaBcyI+F8+qMfv197OR7rkoJdKw6Kec9QkI0f9ZakTR80mYdsdcc9C8kckcnYhSFE7ZgKm02XBWQKP0URr6+BBBenLC4N1qwu1lEfkTFwjPWiQRVY8OWSzZxKm9SN4CdUZR3BtLCkVjTKcfs3LVtRIWOn1dwNy90XUEIqatUqZ8SA392YPFRiY0v13eGbyDscxI5H/MLoLazTZ/G+UiMe4hlH8YbUf5zDo5FX0jUdS37qVz5yaFubZ0vJwGJ7xlsqcGHSjp2/jlZw84lPTCBIzQoJ4Xk1v5Awzn4DYODz9WG2jDYg79ElE9qf9/j2eJ2bABKsWXe4TI4XR8BQ55TpPC8DCYB04rIUNiK9N5q+/FYQ2ezjzKgsesXFlmAMVCuWtoZ0GhZgvEd4xfJN/yTu4aV5U1SJpDTjFJsSUXqPCcoRRyuLLsXdqq26tmRdiksge72S+1ckWVM8hxkmuZA8wKvWBX+Nx/F6xdbPHWbbViAk/kRSyi/7nKp3Ya8itnoLZhL5JKbtQVeU5nUpXWqNIZnoobbMPM+s9E8eJu0aKBYQxlF7NvoyMGZjhvt9U8Y+g2dspvfZvd5cfN/0js1ukry439A0tXRAXfGugK2mt5TYEZwhf16sH4UPFDs581e6/Gvg3oMD+EZL1ESYVeVMBZXWq1c+4+M1lujlMzu3TSNlor9a/p9xc8puqg23NT0ZdHT8AN9/JKgryTFRLkMDgvsIS+qkk+md0Ux+wD5w0P+Ycbvqurh4+TTPf/8ORiMhlV7Ovfn8KTcB7EQqu2Gr5PA0871czDqZIiQDvvoaN17Y/offL3GH1u8QfZO4vwP/pw8GsN3rJKa490snE7esym995MkYe9qdC8U8pSd/9GLJPsboTa4Pw==</script> <treescope-run-here><script type=\"application/octet-stream\"> const root = ( Array.from(document.getElementsByClassName( \"treescope_out_dbce3bf299ba4667804a8b180a4426da\")) .filter((elt) => !elt.dataset['step0']) )[0]; root.dataset['step0'] = 1; root.defns.insertContent( this.parentNode.querySelector('script[type=\"application/octet-stream\"]'), true ); this.parentNode.remove(); </script></treescope-run-here> </div>"
      ],
      "text/plain": [
       "<IPython.core.display.HTML object>"
      ]
     },
     "metadata": {},
     "output_type": "display_data"
    },
    {
     "data": {
      "text/html": [
       "<div style=\"display:none\"> <script type=\"application/octet-stream\" >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</script> <treescope-run-here><script type=\"application/octet-stream\"> const root = ( Array.from(document.getElementsByClassName( \"treescope_out_dbce3bf299ba4667804a8b180a4426da\")) .filter((elt) => !elt.dataset['step1']) )[0]; root.dataset['step1'] = 1; root.defns.insertContent( this.parentNode.querySelector('script[type=\"application/octet-stream\"]'), true ); this.parentNode.remove(); </script></treescope-run-here> </div>"
      ],
      "text/plain": [
       "<IPython.core.display.HTML object>"
      ]
     },
     "metadata": {},
     "output_type": "display_data"
    },
    {
     "data": {
      "text/html": [
       "<treescope-run-here><script type=\"application/octet-stream\"> const root = ( Array.from(document.getElementsByClassName( \"treescope_out_dbce3bf299ba4667804a8b180a4426da\")) .filter((elt) => !elt.dataset.stolen) )[0]; root.dataset.stolen = 1; this.parentNode.replaceChild(root, this); </script></treescope-run-here>"
      ],
      "text/plain": [
       "# jax.Array float32(10, 10) ≈0.0 ±0.0 [≥0.0, ≤0.0] zero:100\n",
       "  Array([[0., 0., 0., 0., 0., 0., 0., 0., 0., 0.],\n",
       "         [0., 0., 0., 0., 0., 0., 0., 0., 0., 0.],\n",
       "         [0., 0., 0., 0., 0., 0., 0., 0., 0., 0.],\n",
       "         [0., 0., 0., 0., 0., 0., 0., 0., 0., 0.],\n",
       "         [0., 0., 0., 0., 0., 0., 0., 0., 0., 0.],\n",
       "         [0., 0., 0., 0., 0., 0., 0., 0., 0., 0.],\n",
       "         [0., 0., 0., 0., 0., 0., 0., 0., 0., 0.],\n",
       "         [0., 0., 0., 0., 0., 0., 0., 0., 0., 0.],\n",
       "         [0., 0., 0., 0., 0., 0., 0., 0., 0., 0.],\n",
       "         [0., 0., 0., 0., 0., 0., 0., 0., 0., 0.]], dtype=float32)\n"
      ]
     },
     "execution_count": 6,
     "metadata": {},
     "output_type": "execute_result"
    }
   ],
   "source": [
    "array = jnp.zeros((10, 10))\n",
    "array"
   ]
  },
  {
   "cell_type": "code",
   "execution_count": 7,
   "metadata": {
    "execution": {
     "iopub.execute_input": "2024-07-07T03:15:25.417491Z",
     "iopub.status.busy": "2024-07-07T03:15:25.417228Z",
     "iopub.status.idle": "2024-07-07T03:15:25.420792Z",
     "shell.execute_reply": "2024-07-07T03:15:25.420916Z"
    },
    "id": "HYD71Mqo89Bf"
   },
   "outputs": [
    {
     "name": "stderr",
     "output_type": "stream",
     "text": [
      "Traceback (most recent call last):\n",
      "  File \"<ipython-input-7-5c112bb0ee90>\", line 2, in <cell line: 1>\n",
      "    array[1, 2] = 42\n",
      "  File \"/usr/local/lib/python3.10/dist-packages/jax/_src/numpy/array_methods.py\", line 278, in _unimplemented_setitem\n",
      "    raise TypeError(msg.format(type(self)))\n",
      "TypeError: '<class 'jaxlib.xla_extension.ArrayImpl'>' object does not support item assignment. JAX arrays are immutable. Instead of ``x[idx] = y``, use ``x = x.at[idx].set(y)`` or another .at[] method: https://jax.readthedocs.io/en/latest/_autosummary/jax.numpy.ndarray.at.html\n"
     ]
    }
   ],
   "source": [
    "try:\n",
    "  array[1, 2] = 42\n",
    "except TypeError:\n",
    "  import traceback\n",
    "  traceback.print_exc()"
   ]
  },
  {
   "cell_type": "markdown",
   "metadata": {
    "id": "GyEJo0EV9Kld"
   },
   "source": [
    "Instead, to modify a JAX array you can use the special `.at` property, which returns a modified copy of the original array with changes at the location you specified:"
   ]
  },
  {
   "cell_type": "code",
   "execution_count": 8,
   "metadata": {
    "execution": {
     "iopub.execute_input": "2024-07-07T03:15:25.429976Z",
     "iopub.status.busy": "2024-07-07T03:15:25.429731Z",
     "iopub.status.idle": "2024-07-07T03:15:25.662506Z",
     "shell.execute_reply": "2024-07-07T03:15:25.662251Z"
    },
    "id": "o6Ydo5jt8_Oo"
   },
   "outputs": [
    {
     "data": {
      "text/html": [
       "<script> (()=>{ if (customElements.get('treescope-container') === undefined) { class TreescopeContainer extends HTMLElement { constructor() { super(); this.attachShadow({mode: \"open\"}); this.defns = {}; this.state = {}; } } customElements.define(\"treescope-container\", TreescopeContainer); } if (customElements.get('treescope-run-here') === undefined) { class RunHere extends HTMLElement { constructor() { super() } connectedCallback() { const src = this.querySelector(\"script\").textContent; const fn = new Function(src); fn.call(this); this.remove(); } } customElements.define(\"treescope-run-here\", RunHere); } })(); </script> <treescope-container class=\"treescope_out_e764cab34c5c47a4a55616499a6aa896\" ></treescope-container> <treescope-run-here><script type=\"application/octet-stream\"> const root = ( Array.from(document.getElementsByClassName( \"treescope_out_e764cab34c5c47a4a55616499a6aa896\")) .filter((elt) => !elt.dataset.setup) )[0]; root.dataset.setup = 1; const msg = document.createElement(\"span\"); msg.style = \"color: #aaaaaa; font-family: monospace; transition: opacity 0.2s; opacity: 0.0;\"; msg.textContent = \"(Loading...)\"; root.state.loadingMsg = msg; root.shadowRoot.appendChild(msg); root.state.chain = new Promise((resolve, reject) => { const observer = new IntersectionObserver((entries) => { for (const entry of entries) { if (entry.isIntersecting) { resolve(); observer.disconnect(); return; } } }, {rootMargin: \"1000px\"}); window.setTimeout(() => { if (root.loadingMsg) { root.loadingMsg.style.opacity = \"1.0\"; } observer.observe(root); }, 0); }); root.state.deferring = false; const _insertNode = (node) => { for (let oldScript of node.querySelectorAll(\"script\")) { let newScript = document.createElement(\"script\"); newScript.type = oldScript.type; newScript.textContent = oldScript.textContent; oldScript.parentNode.replaceChild(newScript, oldScript); } if (root.state.loadingMsg) { root.state.loadingMsg.remove(); root.state.loadingMsg = null; } root.shadowRoot.appendChild(node); }; root.defns.insertContent = ((contentNode, compressed) => { if (compressed) { root.state.deferring = true; } if (root.state.deferring) { root.state.chain = (async () => { await root.state.chain; if (compressed) { const encoded = contentNode.textContent; const blob = new Blob([ Uint8Array.from(atob(encoded), (m) => m.codePointAt(0)) ]); const reader = blob.stream().pipeThrough( new DecompressionStream(\"deflate\") ).pipeThrough( new TextDecoderStream(\"utf-8\") ).getReader(); const parts = []; while (true) { const step = await reader.read(); if (step.done) { break; } parts.push(step.value); } const tpl = document.createElement('template'); tpl.innerHTML = parts.join(\"\"); _insertNode(tpl.content); } else { _insertNode(contentNode.content); } })(); } else { _insertNode(contentNode.content); } }); </script></treescope-run-here><div style=\"display:none\"> <script type=\"application/octet-stream\" >eNrFVs9vq0YQ/ldWVHqB6kFsJ87rwzZSLlUPVQ/toYe2shYYYOv1Lt0dkrhV/vfOLtiObRxV6lNrDobZmfm++QlLizsJWYIGwBa6hbXRGtlfrNVWoNAqZQYkR/EEC1ZphXHFt0LuUrbVStuWFyR/bgRC7B9S1hqSSGEx9q5j3LUkVVqROOfFpja6U2VcaKlN2psu2PCUS1Igf6LEJmWVQFJTCAoXrOVlKVQdS6gwZbOicSAK4gZE3ZBkmsydG4VcEOeD2XATPwkrciEFEnPeoT7oxkKhEcqKIrbiT+hPB7qvy9s+PctDemLTKcI0JLOFES0yF9/qhretFAV3GbvVBYKL3gDf3mRhGK0ySijhWWQlVMqyFcNG2KQG/JGy/YMuIYySRltM/DmFBsjWLSgX8mPhvDqjX34bO/mOq1ICHatOykWPkBDNn7RWJA2ftdlE7C0H/TOJ3NGJGEXhhC2YSpstVwUkSj+Hka8vAYQXJyzujZbsbhaRH1Gx8Ix1IkHV2LDVik2cyrvUDWBnFOWdgbRwJNZ0yjE7d20bUaHj5xXczStdVxBC6ipV6ufEwB8dWHxUYuvL9a3hWwj7nETOx+ICqO1s06dxMRLjHmLVh/FOlP+cg2PRFxJ1Xct+Ktd+cqhbW+fLSUDiRwZP1OBDJR07/5xsYOeSHpjAERqUk0Jya7+n4Rz8hsHB53pLbRjswV8jyie1v+/xbHk7NgCleGLe4So4XR8BQ55TpPCyCiYB04rIUNiK9N5r+/FYQ2ezjzKgsesXFlmAMVCuW9oZ0GhZgvEd4xfJV/yTu4aV5U1SJpDTjFJsSUXqPCcoRRyuLLtXdqq27tmRdiksge72S+1ckWVM8hxkmuZA8wJvWBX+txjF6xdbPHWbbViAk8URSyi/7nKp3Ya8itnoJzCXyCU3Gwu8pjKpS+tUaQzPRA23YeZ9ZqN58DZp0UCxgTKK2NfRkYMzHTfa658w9Bs6ZTe/zuZ5cfN/0js1ukry4T8g6erogDtjXQFbTe8pMCO4wn45WD8KHij282av9fiXQT2Gh/CClyiJsOtKGItrrdau/UdG671RSmZzN02jpWL/mn5f8XOKLqotNzV9WfQ0/EAfvyToK0kxUa6CwwL7Ji/K+9ndbDabTO8f+MPnT9W8KO6nk/x+9vA5nweD0bBqT+f+HJ6U+yCWQrXd8HUSeNq5fglGnQwR0mEfHa17b0z/g6+3+GOLN8g+SFz8zl+SR2P4jlVSc7ybhdPJRzal936SJOxDje6FQp6y8z96kWR/A6PEtz8=</script> <treescope-run-here><script type=\"application/octet-stream\"> const root = ( Array.from(document.getElementsByClassName( \"treescope_out_e764cab34c5c47a4a55616499a6aa896\")) .filter((elt) => !elt.dataset['step0']) )[0]; root.dataset['step0'] = 1; root.defns.insertContent( this.parentNode.querySelector('script[type=\"application/octet-stream\"]'), true ); this.parentNode.remove(); </script></treescope-run-here> </div>"
      ],
      "text/plain": [
       "<IPython.core.display.HTML object>"
      ]
     },
     "metadata": {},
     "output_type": "display_data"
    },
    {
     "data": {
      "text/html": [
       "<div style=\"display:none\"> <script type=\"application/octet-stream\" >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</script> <treescope-run-here><script type=\"application/octet-stream\"> const root = ( Array.from(document.getElementsByClassName( \"treescope_out_e764cab34c5c47a4a55616499a6aa896\")) .filter((elt) => !elt.dataset['step1']) )[0]; root.dataset['step1'] = 1; root.defns.insertContent( this.parentNode.querySelector('script[type=\"application/octet-stream\"]'), true ); this.parentNode.remove(); </script></treescope-run-here> </div>"
      ],
      "text/plain": [
       "<IPython.core.display.HTML object>"
      ]
     },
     "metadata": {},
     "output_type": "display_data"
    },
    {
     "data": {
      "text/html": [
       "<treescope-run-here><script type=\"application/octet-stream\"> const root = ( Array.from(document.getElementsByClassName( \"treescope_out_e764cab34c5c47a4a55616499a6aa896\")) .filter((elt) => !elt.dataset.stolen) )[0]; root.dataset.stolen = 1; this.parentNode.replaceChild(root, this); </script></treescope-run-here>"
      ],
      "text/plain": [
       "# jax.Array float32(10, 10) ≈0.42 ±4.2 [≥0.0, ≤4.2e+01] zero:99 nonzero:1\n",
       "  Array([[ 0.,  0.,  0.,  0.,  0.,  0.,  0.,  0.,  0.,  0.],\n",
       "         [ 0.,  0., 42.,  0.,  0.,  0.,  0.,  0.,  0.,  0.],\n",
       "         [ 0.,  0.,  0.,  0.,  0.,  0.,  0.,  0.,  0.,  0.],\n",
       "         [ 0.,  0.,  0.,  0.,  0.,  0.,  0.,  0.,  0.,  0.],\n",
       "         [ 0.,  0.,  0.,  0.,  0.,  0.,  0.,  0.,  0.,  0.],\n",
       "         [ 0.,  0.,  0.,  0.,  0.,  0.,  0.,  0.,  0.,  0.],\n",
       "         [ 0.,  0.,  0.,  0.,  0.,  0.,  0.,  0.,  0.,  0.],\n",
       "         [ 0.,  0.,  0.,  0.,  0.,  0.,  0.,  0.,  0.,  0.],\n",
       "         [ 0.,  0.,  0.,  0.,  0.,  0.,  0.,  0.,  0.,  0.],\n",
       "         [ 0.,  0.,  0.,  0.,  0.,  0.,  0.,  0.,  0.,  0.]], dtype=float32)\n"
      ]
     },
     "execution_count": 8,
     "metadata": {},
     "output_type": "execute_result"
    }
   ],
   "source": [
    "modified_array = array.at[1, 2].set(42)\n",
    "modified_array"
   ]
  },
  {
   "cell_type": "markdown",
   "metadata": {
    "id": "AfD7GKrc-KFP"
   },
   "source": [
    "JAX also introduces the concept of [PyTrees](https://jax.readthedocs.io/en/latest/pytrees.html): nested containers of data that JAX knows how to traverse. Most JAX transformations are designed to work with functions that take PyTrees as input and return PyTrees as output.\n",
    "\n",
    "Although JAX does treat dictionaries and lists as PyTrees, JAX usually assumes that those trees will not be mutated, and expects the user to write code in a functional style, avoiding mutating its arguments directly.\n",
    "\n",
    "**`pz.select` enables `.at[...].set(...)`-style modification for arbitrary PyTrees**, making it possible to perform complex path-based and type-driven modifications to the objects you're already using:"
   ]
  },
  {
   "cell_type": "code",
   "execution_count": 9,
   "metadata": {
    "execution": {
     "iopub.execute_input": "2024-07-07T03:15:25.672364Z",
     "iopub.status.busy": "2024-07-07T03:15:25.672029Z",
     "iopub.status.idle": "2024-07-07T03:15:25.754687Z",
     "shell.execute_reply": "2024-07-07T03:15:25.754381Z"
    },
    "id": "qMN5Bzdq-A7q"
   },
   "outputs": [],
   "source": [
    "my_nested_object = {\n",
    "    \"a\": 1,\n",
    "    \"b\": jnp.arange(10),\n",
    "    \"c\": [\n",
    "        {\"value\": jnp.arange(12)},\n",
    "        {\"value\": jnp.zeros([7])},\n",
    "        {\"value\": 3},\n",
    "    ]\n",
    "}"
   ]
  },
  {
   "cell_type": "code",
   "execution_count": 10,
   "metadata": {
    "execution": {
     "iopub.execute_input": "2024-07-07T03:15:25.765100Z",
     "iopub.status.busy": "2024-07-07T03:15:25.764848Z",
     "iopub.status.idle": "2024-07-07T03:15:25.838808Z",
     "shell.execute_reply": "2024-07-07T03:15:25.838980Z"
    },
    "id": "yPqRBFmD9N4V"
   },
   "outputs": [
    {
     "data": {
      "text/html": [
       "<script> (()=>{ if (customElements.get('treescope-container') === undefined) { class TreescopeContainer extends HTMLElement { constructor() { super(); this.attachShadow({mode: \"open\"}); this.defns = {}; this.state = {}; } } customElements.define(\"treescope-container\", TreescopeContainer); } if (customElements.get('treescope-run-here') === undefined) { class RunHere extends HTMLElement { constructor() { super() } connectedCallback() { const src = this.querySelector(\"script\").textContent; const fn = new Function(src); fn.call(this); this.remove(); } } customElements.define(\"treescope-run-here\", RunHere); } })(); </script> <treescope-container class=\"treescope_out_3427b1421a9e4315955e52df058e33dc\" ></treescope-container> <treescope-run-here><script type=\"application/octet-stream\"> const root = ( Array.from(document.getElementsByClassName( \"treescope_out_3427b1421a9e4315955e52df058e33dc\")) .filter((elt) => !elt.dataset.setup) )[0]; root.dataset.setup = 1; const msg = document.createElement(\"span\"); msg.style = \"color: #aaaaaa; font-family: monospace; transition: opacity 0.2s; opacity: 0.0;\"; msg.textContent = \"(Loading...)\"; root.state.loadingMsg = msg; root.shadowRoot.appendChild(msg); root.state.chain = new Promise((resolve, reject) => { const observer = new IntersectionObserver((entries) => { for (const entry of entries) { if (entry.isIntersecting) { resolve(); observer.disconnect(); return; } } }, {rootMargin: \"1000px\"}); window.setTimeout(() => { if (root.loadingMsg) { root.loadingMsg.style.opacity = \"1.0\"; } observer.observe(root); }, 0); }); root.state.deferring = false; const _insertNode = (node) => { for (let oldScript of node.querySelectorAll(\"script\")) { let newScript = document.createElement(\"script\"); newScript.type = oldScript.type; newScript.textContent = oldScript.textContent; oldScript.parentNode.replaceChild(newScript, oldScript); } if (root.state.loadingMsg) { root.state.loadingMsg.remove(); root.state.loadingMsg = null; } root.shadowRoot.appendChild(node); }; root.defns.insertContent = ((contentNode, compressed) => { if (compressed) { root.state.deferring = true; } if (root.state.deferring) { root.state.chain = (async () => { await root.state.chain; if (compressed) { const encoded = contentNode.textContent; const blob = new Blob([ Uint8Array.from(atob(encoded), (m) => m.codePointAt(0)) ]); const reader = blob.stream().pipeThrough( new DecompressionStream(\"deflate\") ).pipeThrough( new TextDecoderStream(\"utf-8\") ).getReader(); const parts = []; while (true) { const step = await reader.read(); if (step.done) { break; } parts.push(step.value); } const tpl = document.createElement('template'); tpl.innerHTML = parts.join(\"\"); _insertNode(tpl.content); } else { _insertNode(contentNode.content); } })(); } else { _insertNode(contentNode.content); } }); </script></treescope-run-here><div style=\"display:none\"> <script type=\"application/octet-stream\" >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</script> <treescope-run-here><script type=\"application/octet-stream\"> const root = ( Array.from(document.getElementsByClassName( \"treescope_out_3427b1421a9e4315955e52df058e33dc\")) .filter((elt) => !elt.dataset['step0']) )[0]; root.dataset['step0'] = 1; root.defns.insertContent( this.parentNode.querySelector('script[type=\"application/octet-stream\"]'), true ); this.parentNode.remove(); </script></treescope-run-here> </div>"
      ],
      "text/plain": [
       "<IPython.core.display.HTML object>"
      ]
     },
     "metadata": {},
     "output_type": "display_data"
    },
    {
     "data": {
      "text/html": [
       "<div style=\"display:none\"> <script type=\"application/octet-stream\" >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</script> <treescope-run-here><script type=\"application/octet-stream\"> const root = ( Array.from(document.getElementsByClassName( \"treescope_out_3427b1421a9e4315955e52df058e33dc\")) .filter((elt) => !elt.dataset['step1']) )[0]; root.dataset['step1'] = 1; root.defns.insertContent( this.parentNode.querySelector('script[type=\"application/octet-stream\"]'), true ); this.parentNode.remove(); </script></treescope-run-here> </div>"
      ],
      "text/plain": [
       "<IPython.core.display.HTML object>"
      ]
     },
     "metadata": {},
     "output_type": "display_data"
    },
    {
     "data": {
      "text/html": [
       "<treescope-run-here><script type=\"application/octet-stream\"> const root = ( Array.from(document.getElementsByClassName( \"treescope_out_3427b1421a9e4315955e52df058e33dc\")) .filter((elt) => !elt.dataset.stolen) )[0]; root.dataset.stolen = 1; this.parentNode.replaceChild(root, this); </script></treescope-run-here>"
      ],
      "text/plain": [
       "{'a': 1,\n",
       " 'b': <jax.Array([0, 1, 2, 3, 4, 5, 6, 7, 8, 9], dtype=int32)>,\n",
       " 'c': [{'value': <jax.Array([100, 101, 102, 103, 104, 105, 106, 107, 108, 109, 110, 111], dtype=int32)>},\n",
       "  {'value': <jax.Array([100., 100., 100., 100., 100., 100., 100.], dtype=float32)>},\n",
       "  {'value': 103}]}"
      ]
     },
     "execution_count": 10,
     "metadata": {},
     "output_type": "execute_result"
    }
   ],
   "source": [
    "(\n",
    "    pz.select(my_nested_object)\n",
    "      .at(lambda root: root[\"c\"])\n",
    "      .at_instances_of(jax.typing.ArrayLike)\n",
    "      .apply(lambda value: value + 100)\n",
    ")"
   ]
  },
  {
   "cell_type": "markdown",
   "metadata": {
    "id": "4vKkkNk5-cmj"
   },
   "source": [
    "Selectors are first-class objects, defined in `penzai.core.selectors` but aliased to `pz.select` and `pz.Selection`. Internally, they are ordinary PyTrees:\n"
   ]
  },
  {
   "cell_type": "code",
   "execution_count": 11,
   "metadata": {
    "execution": {
     "iopub.execute_input": "2024-07-07T03:15:25.845954Z",
     "iopub.status.busy": "2024-07-07T03:15:25.845681Z",
     "iopub.status.idle": "2024-07-07T03:15:25.867586Z",
     "shell.execute_reply": "2024-07-07T03:15:25.867751Z"
    },
    "id": "Y58Ll7sO_qjo"
   },
   "outputs": [
    {
     "data": {
      "text/html": [
       "<script> (()=>{ if (customElements.get('treescope-container') === undefined) { class TreescopeContainer extends HTMLElement { constructor() { super(); this.attachShadow({mode: \"open\"}); this.defns = {}; this.state = {}; } } customElements.define(\"treescope-container\", TreescopeContainer); } if (customElements.get('treescope-run-here') === undefined) { class RunHere extends HTMLElement { constructor() { super() } connectedCallback() { const src = this.querySelector(\"script\").textContent; const fn = new Function(src); fn.call(this); this.remove(); } } customElements.define(\"treescope-run-here\", RunHere); } })(); </script> <treescope-container class=\"treescope_out_e546db649f2c47b48029995f3f9ac73f\" ></treescope-container> <treescope-run-here><script type=\"application/octet-stream\"> const root = ( Array.from(document.getElementsByClassName( \"treescope_out_e546db649f2c47b48029995f3f9ac73f\")) .filter((elt) => !elt.dataset.setup) )[0]; root.dataset.setup = 1; const msg = document.createElement(\"span\"); msg.style = \"color: #aaaaaa; font-family: monospace; transition: opacity 0.2s; opacity: 0.0;\"; msg.textContent = \"(Loading...)\"; root.state.loadingMsg = msg; root.shadowRoot.appendChild(msg); root.state.chain = new Promise((resolve, reject) => { const observer = new IntersectionObserver((entries) => { for (const entry of entries) { if (entry.isIntersecting) { resolve(); observer.disconnect(); return; } } }, {rootMargin: \"1000px\"}); window.setTimeout(() => { if (root.loadingMsg) { root.loadingMsg.style.opacity = \"1.0\"; } observer.observe(root); }, 0); }); root.state.deferring = false; const _insertNode = (node) => { for (let oldScript of node.querySelectorAll(\"script\")) { let newScript = document.createElement(\"script\"); newScript.type = oldScript.type; newScript.textContent = oldScript.textContent; oldScript.parentNode.replaceChild(newScript, oldScript); } if (root.state.loadingMsg) { root.state.loadingMsg.remove(); root.state.loadingMsg = null; } root.shadowRoot.appendChild(node); }; root.defns.insertContent = ((contentNode, compressed) => { if (compressed) { root.state.deferring = true; } if (root.state.deferring) { root.state.chain = (async () => { await root.state.chain; if (compressed) { const encoded = contentNode.textContent; const blob = new Blob([ Uint8Array.from(atob(encoded), (m) => m.codePointAt(0)) ]); const reader = blob.stream().pipeThrough( new DecompressionStream(\"deflate\") ).pipeThrough( new TextDecoderStream(\"utf-8\") ).getReader(); const parts = []; while (true) { const step = await reader.read(); if (step.done) { break; } parts.push(step.value); } const tpl = document.createElement('template'); tpl.innerHTML = parts.join(\"\"); _insertNode(tpl.content); } else { _insertNode(contentNode.content); } })(); } else { _insertNode(contentNode.content); } }); </script></treescope-run-here><div style=\"display:none\"> <script type=\"application/octet-stream\" >eNrtHQtX4jz2r+Rjzn7CCrWtgIKjZ8H3zKijOOM81sOGNpQOpa1tEPE7/ve9ScujgAhaBaF6EElvkpv7frT60aVtg+wI1CHEVSyblB3LougfZFuuTnXLzCOHGJjqt2QLVS2Tpqq4oRvtPGpYpuXaWIHxVk2nJMU/5JHtwIihuzTFl07Rtg2jpmXCcAUrdc2xmqaaUizDcvLe1C3kf6oYAADr6Sqt5VFVpwBmUmLSLWRjVdVNLWWQKs0jWamxTUySqhFdq8GIJGTYMibFOuDcneb/krrVXb2iGzoFzHGTWl3YlG5SRzddXUm5+j3xrvroPnxc88jzsUuelNM0YU8HxlzF0W2K2Pm2V7BtG7qCGcXWLIUSdnqH4MbKTjye2N4BgsJ+LkUqqZou2ka0pruCRugFUPvUUkk8IdQslwr8OhyNUFS2icmOXFDYqmzS7+tRV46wqRoELptNw9jydhAAzZJlmTAab1lOPYH6cbCuYIhdCgxTXWGDNnGqltPApkIE02rFE5y/sEF86ApKeZM+onU5AevoVRQfwFowiKnRGtreRiIDGYu6Q2jTMYHuiBgu6SFWa5oMs8Gl3ZpepQw/DsB+eYDvR3aIg1SZqtUSHHLTJC4tmHqDs+vAwQ0S92iSYGtsDW1kN92aR8atEWfsbLHtHWPMKSfHgWHhMZJammZ4WlnmmgPSarO12AgxaBKRWxBwn5MMO/5ZqJM2I3rMiTGEfGBBMbDrfgHl9NeNx7prlhsghrHO5g8JoCeIP5fxnY9roxRA1W8RX3A7FjQfMURxBU5K7rZjYgxZJiADxzYBbpzYjz5rnM3pnDIGaucZrIpFqdVgJiBvWjQuVC1DxRWYbcKy+Rp24zsGrhBjJ3il7O3B5+SVGlHqRE0k0L8ZkTomhlp2HomClCGNYSPDxu5T/HDweWuknXwQuD0r40rFIbdcjrl5+5DdlLEo9gAUq9GAY5VbNWKWyZ0NgkLU0M7T2RXzr96uZrNRIU4fgJjblDLZHoDLLKLWv8K6lJEyXQCilhlZegC+3R4277fYiadSFcNS6t4QyFfFclTieFSW7DvkWoaujoP0WP0U8AMSamCKHcCsXnZIAwS+XLNu4aCDSA+jadUNpRbfTP+LsT2dQZKY81ZsYbcMOmAZBkynllDVHZeWudGbdNVcWpDYumIOSetZYWPkwpx/Y7dLDG1IHWx2ZG9wcyS5iGCXgKCmrCYYCe66W1yMB64xrgZE6hHnD0iPkjyAVnXXNnC74+QHAdEO4pKbz1cI+I8+sfmg8K/RSuQ5+pTEPL0fEIDmdPfSTa6ZXAbG7MklYHhnFTt1l2ANzJY5PDskDeziwKaOntSBD2DII5Y8WvmvnKkoK7NELzjpUSSzb4Ak12TYuOm4jIG2BXEbcUbsq7vhbctVgW+U4v7HfUzGw9m1dzxK7ujwLoLulj2TYJmeFRhWrXGqJMgZpk0jWYVejL7H8UEU2aka2NHA2HhocIV+eOFuYAvtdqUJfsEcaYB6l0cJbQzFBqCAkJC+jAb+L5HSamwg+1k5wSAVOjZQqd2oWIaLzpqUnVdFu95MeLfboBhgdSt1yGT4dLcBsU0NnCvkGSaF6ToYYrWb/3wgIvveGhZzbzZPUEQhx4KQ4Ck9/RhxitHmrjeT+xwFchcgbHc+rtJAgNCx0+P2HJgT3LKf9L73VjHFKWwCY3kInOgfZpuwuL7Pw41ya9MdpYsBMEYn6l9BTPiW6C+9YVsOxebQ2hXHqkOQxkZ6xuhp6vZN66Nnh80PQk2plXniXGba0ReEesoiCp7G9sE53If3AB0vNO1CstAUjqqWFcjaVIeY/uGDeTFgGQQMLersKqPvmgPKr2BDiUPyDpkjRHNeKORSzOZ38X01TPxw0sNEhaASxITFlH3ssB1u58stB9uwwnBh40G4aWLDhHStDJ+r+h1ABXRzk+sm5KaYhWot7JjApHLHm3QEoFrFirQ+AtDW7WHecpPp09EfSvn87gV+eZ6qYCelOVjV4RBxaT2jEi2JLFAjjSARsMsqtaSnVjZsC0aKDyGfEUOoDFnz0HgTkIpUV3gHZeEx2R2E68bGHo9B+4Mgby7dopBWaolJcH0bcffyJo7VyOwpkPvycwBPjBr6N4pLcJz+Kf66LkCRBKtW+DToTU1NPrezbyfH4zO7S3ZGU/7wG1Kzl6VyCqaYUjVd/4ASacDpHj/YiBhr6gjnKRH/J5BIe/xl1myCRHo8MNNCp6nQst1mZZ0yptTpWjlWfIHki0LkovTCFlGU5UyVTQVkXqUm05OPl5RleJ0FkDawDWHX06nr9Fx7fAcvYfWS//5yzyMwYeAxagv/oB5Ar6A4ihTBop4QrBSiMSsMHtUM1C5HA06y2aPrhFiuZxVU9FfBcXBbqDpWI65aSpMV6QSmAK5wi40mceOJhOBaDRLnasFqr+xd8LIDVnedMD+IraAESnQr3W6NEMrK4aSFdkulEjtNiY2x4ja/KDgEjqyQUttU4v/7j5+TKKSjoNPnJ/16bbLyvrHVXy3KozSrWLqOkkdNx4izYDnPrq+1rGpV3qpAOJ5NJ1Uxd3iiFYoF/nV8XihY/LfiRQt+Hh0UCvuFcV/FRqGg1a3P6vF+cbf1s1C4/Ln7qXByXNwtHGh3x0dfatQtnuhEWz/Y+yF/Oc7+vC3ZTf3rSeZS+vTj+OL7ye3VyT392j442F290uqXenFPrOl7581P++rhH/Gosla9PVbtm8/Z2s2Vrp83T8zD2lH1Gy18yxZPnXTh4Nis72eVb82muXqRuVHceuu2emCs3dxp+9amVvnUOtyUjgprZuEi88VxPkkXq9q9eKGKhU9VSTvd2G0d/pE10Wo3LzY2GvtStnX0I3emaTa5rLfT5Lhyn1EqztkhxQXt/Pi0tYfdtnvePD7+cbV/0Cp8PbePf6rf1tZWtY3LjR/rVKx+/npTuM3Aml8KpxuFk1ahod1flFabv0pk/8edXM0q96fpi6N2plksfL4v/rEP7HX96Hx3X/zV/JoubZjV4pf9o4OTRkFf3bzdl2umVNtYrXxv/fjTOnJu9w6/7Zp/qvv7Gl09U34ZxkYmt/upVdys5dInJ4el9cNfBa1xnPlTPM/Ry0NylNsvFo8P1/e09MXaT6VdKRwCT79/XiucH+ICOdk1Ckf3+2faL6pli1+1s7PjvWJdP8+Qg+KP3eKBoot2zbFsE2TD/rW/J91L9VJ1t0pr7c/mkYoP3KOqeNo43D/NFtXCzffvNqZu6VdDVbGek6v3ufQ3/c9N1m442TPr525Jdw4bt58O10tXpfWDfVkpnlcvV48Myz5MH7itDNZuspv6L1I6Newrs3h0TNQThzSvbg53G9LVgVMvle4ycvbqym0VAKME4q0tGl/hYr3C/OD/4EdX+7Fq2ZAw9FSSN+QEQRgDkfR09hrWGt/4qPEOEc8SvQQW1gbxMBUU9/LIYP8OVPDSYuoLYH6eycZcMA9sCZY4s2wTt7BOkYlvdQ1TyxFgZbtiYUcVWg7kNZfkjsZ7a7EwwVur1yQC5xuP9WXVrD0Eu1zqDQLpd7zTPxyax8rvt2Ro6kMSyaIo8vAIjC+EonFeHxq9b1/qHOshxypjHQvGOmox9AEdYN0Aw0YtxID/4pYNQkgTMjWwxjrQjGCVZf6r/bTzW11PNLlYFaHT5erPDmPBS8Hq82DaBMCe8/6om3bTd0Ix7q4r1l1s5CK+Z4eLnlcH/Pjk4L69lgeFkJnQGD9hqk7aoD617dgAmkGfPXBxILON7djEvMc6yJRDBJcYRAEpcgUgGEza8d9KfBz8aLw77h+1f+mhokRs3PWBi8PhaGzHQ4dFw+0yO6m/+fbjTJkdD4RBZF/EFBZcEr8xHWTFGQvyibqnKzT+zxhurPTqUyvIMneZgm6vTGmheFs2sYK6xbPtWNzAjYqKebM5z38OnTwRQzzU2I71ld0gWplkKqulDlYNYSrXZQYAv/u02wnSJTxJfD0tn1Cydl5Py2Z/thcoxR98xzOIcpPqxoBaMH34TNqhUg50e3ua0/T31WM7f3+4kze2FO9tjKwGkrjYTnIA1HtL+O/J4andPDS2gyZWiWURixK7B8dUSNiioat3zxAN756M2I4YiUNkJfqtBK83hGspnj8zP5lQheaTRrO3G0H01S3z6INa2Uxn8Naoiiy7dWTeBHl8oB6418cvqqJgszCM0L6b8fDE0caQKZWrkDWxttKAgpxaEBr6q9vs0PFBURmhMUP9nGAROzYGegjUcnRNN7FRdojtbE8XgQfmTqB1vP4X/43EJEISvGR4rcMrDa8MvLLw2oDXJrxySSQBnCRdJ5HKBUU36bqcGKW0yekVaEBBZxTIBwg4RRQfnPf8EP5x0zeh0Ojqc0VGV8d6bEmUcuvr6U1ZzolSOr1o/NbV53AbZs2Q11wJn8ltNnecqwjfM4y5FTg2VjQ+jJSfkVGPD8jN2jh7PW73F3nyFzGg/25qsNAG3eIXkGdh2fn4wbyPf2t0ikhp1urFTvscBePzwlKxSdXvsVgxou/UpAzEd71nGdDAfV6xXtA+GXcCLdIn1airOi8NdYZ07t06vsGy4+94JzNk2dyKspJIov7SAUv3RRgLQPGkbSWRuH5E9P6+aVp06/V39/Z5BUf8dNbWx0j2nJBPBf+ODdG7YcO7rZ+nZmsAFNL2UZE2Kr9ERdqoSPt6RVopEofISkRF2qhIGxVp56BIKwpJNPrVzVKqhoWjkuzSlWQ3NzZzmc2oJBuVZKOSbFSSjUqyEX3fVUl2msBmuQuw0kwLsFJUgI0KsFFpJSrARgXYNyrAypE4RFYiKsA+9/mjSYIa+dGgZqxmri9ErhIuwd4iBpWXIwb13h4Si5bkzOa5uGeydtTzmA5pYDbJed0HMZ/5AGYXu9jOnDwY2cVoCs735szBo5DPcNJ4lIPOo2ey8vcKXrmepk3/bo1F8MjTepOB2bPxBs+QlsoE0hJe61naetsOQ9Rpfo+d5iS7Q1ZOsvtj00l2d2w2ye6N3UyiXPTwzzJ3mjdyOXlDjDrNUac56jRHneao0xzR9311mqcIbBan09yXGVVelFdV3lNepUyQV83LH87qo7HCkv3fc1a84Wi9QHCUlwvO4nS2xzP/t3g9f8W7DmYvEwG2wLxIQZi9t3dhVID4v/1myfXb/bHEI6u/YDJfwtwlx4ulurfSDMWbc30+uxFDdBK8vw4595IhjOlZPUM8vOUiR/g8eeGecXb3e8yPQIbhiIdXnKFYPn1nzPSiwv4x6KvedjfXed4YooQvOnzVUPPCZ9289h4ZMn96/F7vBJzWQkjXs76XdI4EUQpdEKWZOpSn77qdXlwEWDT0P2n7/myWR4jwxYWvGjmRxdDdZXEicpSRdAgRthDKC5aRyJNmJC+7xf/92S/5VbIS+dWzkoVlx/xp8vKxYc5qjkvFgPlpB4x8JmTh4tmZNxUXNFqV5raR/OKURYoaybNrJEtRI/kRcrxYqqNG8pQCONeNZCncoE6KGsnhyMvSNpKl0BtQ0oI1kqWokTwRk0Mo2UhRI3mh9Xhhs6qokTyOGGEL4jtvJEvPaCRLS+FEQmkkS1EjeaF1d1mciBxlJCG1n6QFayRLUSN5Yka/RlYSNZIXSJOXjw1zVnNcKgbMTztgGRrJc9BUXNBoVZ7bRvKLfYwcNZJn10iWo0byI+R4sVRHjeQpBXCuG8lyuEGdHDWSw5GXpW0ky6E3oOQFayTLUSN5IiaHULKRo0byQuvxwmZVUSN5HDHCFsR33kiWn9FIlpfCiYTSSJajRvJC6+6yOBE5ykhCaj/JC9ZIlqNG8sSMfo2sJGokL5AmLx8b5qzmuFQMmJ92wLhG8qKQfeYtxVFv14tE5Nn+JfFFluE3/i97Y61w5439s8v/A6429fY=</script> <treescope-run-here><script type=\"application/octet-stream\"> const root = ( Array.from(document.getElementsByClassName( \"treescope_out_e546db649f2c47b48029995f3f9ac73f\")) .filter((elt) => !elt.dataset['step0']) )[0]; root.dataset['step0'] = 1; root.defns.insertContent( this.parentNode.querySelector('script[type=\"application/octet-stream\"]'), true ); this.parentNode.remove(); </script></treescope-run-here> </div>"
      ],
      "text/plain": [
       "TreescopeRenderingFigure(child=PreventWordWrap(child=Siblings(children=(FoldableTreeNodeImpl(contents=Siblings(children=(IndentedChildren(children=[Siblings(children=(PyTreeNodeFieldName(child=Text(text='selected_by_path')), Text(text='='), WithDynamicSharedPip(child=FoldableTreeNodeImpl(contents=Siblings(children=(StringCopyButton(copy_string='(lambda root: root.selected_by_path)', annotation='Copy path: '), IndentedChildren(children=[Siblings(children=(FoldableTreeNodeImpl(contents=Siblings(children=(IndentedChildren(children=[Siblings(children=(FoldableTreeNodeImpl(contents=Siblings(children=(IndentedChildren(children=[Siblings(children=(Text(text='key'), Text(text='='), HyperlinkTarget(child=StringLiteralColor(child=Text(text=\"'c'\")), keypath=None), FoldCondition(collapsed=EmptyPart(), expanded=Text(text=','))))]), Text(text=')'))), label=HyperlinkTarget(child=Siblings(children=(RoundtripCondition(roundtrip=QualifiedTypeNameSpanGroup(child=Text(text='jax.tree_util.')), not_roundtrip=EmptyPart()), Text(text='DictKey'), Text(text='('))), keypath=None), expand_state=<ExpandState.COLLAPSED: 'collapsed'>), Text(text=','), FoldCondition(collapsed=Text(text=' '), expanded=EmptyPart()))), Siblings(children=(FoldableTreeNodeImpl(contents=Siblings(children=(IndentedChildren(children=[Siblings(children=(Text(text='idx'), Text(text='='), HyperlinkTarget(child=NumberColor(child=Text(text='0')), keypath=None), FoldCondition(collapsed=EmptyPart(), expanded=Text(text=','))))]), Text(text=')'))), label=HyperlinkTarget(child=Siblings(children=(RoundtripCondition(roundtrip=QualifiedTypeNameSpanGroup(child=Text(text='jax.tree_util.')), not_roundtrip=EmptyPart()), Text(text='SequenceKey'), Text(text='('))), keypath=None), expand_state=<ExpandState.COLLAPSED: 'collapsed'>), Text(text=','), FoldCondition(collapsed=Text(text=' '), expanded=EmptyPart()))), Siblings(children=(FoldableTreeNodeImpl(contents=Siblings(children=(IndentedChildren(children=[Siblings(children=(Text(text='key'), Text(text='='), HyperlinkTarget(child=StringLiteralColor(child=Text(text=\"'value'\")), keypath=None), FoldCondition(collapsed=EmptyPart(), expanded=Text(text=','))))]), Text(text=')'))), label=HyperlinkTarget(child=Siblings(children=(RoundtripCondition(roundtrip=QualifiedTypeNameSpanGroup(child=Text(text='jax.tree_util.')), not_roundtrip=EmptyPart()), Text(text='DictKey'), Text(text='('))), keypath=None), expand_state=<ExpandState.COLLAPSED: 'collapsed'>), FoldCondition(collapsed=EmptyPart(), expanded=Text(text=','))))]), Text(text=')'))), label=HyperlinkTarget(child=Text(text='('), keypath=None), expand_state=<ExpandState.COLLAPSED: 'collapsed'>), Text(text=':'), FoldCondition(collapsed=Text(text=' '), expanded=EmptyPart()), IndentedChildren(children=[Siblings(children=(RoundtripCondition(roundtrip=WithBlockColor(child=FoldableTreeNodeImpl(contents=Siblings(children=(ColoredBorderIndentedChildren(children=[Siblings(children=(Text(text='original_repr'), Text(text='='), HyperlinkTarget(child=StringLiteralColor(child=Text(text=\"'Array([ 0,  1,  2,  3,  4,  5,  6,  7,  8,  9, 10, 11], dtype=int32)'\")), keypath=(GetAttrKey(name='original_repr'),)), Text(text=','), FoldCondition(collapsed=Text(text=' '), expanded=EmptyPart()), FoldCondition(collapsed=EmptyPart(), expanded=Siblings(children=(StringCopyButton(copy_string='(lambda root: root.original_repr)', annotation='Copy path: '),))))), Siblings(children=(Text(text='original_id'), Text(text='='), HyperlinkTarget(child=NumberColor(child=Text(text='101933482290144')), keypath=(GetAttrKey(name='original_id'),)), Text(text=','), FoldCondition(collapsed=Text(text=' '), expanded=EmptyPart()), FoldCondition(collapsed=EmptyPart(), expanded=Siblings(children=(StringCopyButton(copy_string='(lambda root: root.original_id)', annotation='Copy path: '),))))), Siblings(children=(Text(text='original_type'), Text(text='='), HyperlinkTarget(child=FoldableTreeNodeImpl(contents=FoldCondition(collapsed=EmptyPart(), expanded=IndentedChildren(children=[Siblings(children=(HyperlinkTarget(child=AbbreviationColor(child=Text(text=\"<class 'jax.Array'>\")), keypath=(GetAttrKey(name='original_type'),)), FoldCondition(collapsed=EmptyPart(), expanded=Siblings(children=(StringCopyButton(copy_string='(lambda root: root.original_type)', annotation='Copy path: '),)))))])), label=CommentColorWhenExpanded(child=Siblings(children=(FoldCondition(collapsed=EmptyPart(), expanded=Text(text='# ')), QualifiedTypeNameSpanGroup(child=Text(text='jax.')), Text(text='Array')))), expand_state=<ExpandState.COLLAPSED: 'collapsed'>), keypath=(GetAttrKey(name='original_type'),)), FoldCondition(collapsed=EmptyPart(), expanded=Text(text=',')), FoldCondition(collapsed=EmptyPart(), expanded=Siblings(children=(StringCopyButton(copy_string='(lambda root: root.original_type)', annotation='Copy path: '),)))))]), ColoredBottomLineSpanGroup(child=Text(text=')')))), label=HyperlinkTarget(child=ColoredTopLineSpanGroup(child=Siblings(children=(RoundtripCondition(roundtrip=QualifiedTypeNameSpanGroup(child=Text(text='penzai.treescope.copypaste_fallback.')), not_roundtrip=EmptyPart()), Text(text='NotRoundtrippable'), Text(text='(')))), keypath=()), expand_state=<ExpandState.WEAKLY_COLLAPSED: 'weakly_collapsed'>), color='#db845a'), not_roundtrip=AbbreviationColor(child=Text(text='<jax.Array([ 0,  1,  2,  3,  4,  5,  6,  7,  8,  9, 10, 11], dtype=int32)>'))), Text(text=','), FoldCondition(collapsed=Text(text=' '), expanded=EmptyPart()), FoldCondition(collapsed=EmptyPart(), expanded=Siblings(children=(StringCopyButton(copy_string=\"(lambda root: root.selected_by_path[(DictKey(key='c'), SequenceKey(idx=0), DictKey(key='value'))])\", annotation='Copy path: '),))))), Siblings(children=(FoldCondition(collapsed=EmptyPart(), expanded=VerticalSpace(height='0.5em')),))]))), Siblings(children=(FoldableTreeNodeImpl(contents=Siblings(children=(IndentedChildren(children=[Siblings(children=(FoldableTreeNodeImpl(contents=Siblings(children=(IndentedChildren(children=[Siblings(children=(Text(text='key'), Text(text='='), HyperlinkTarget(child=StringLiteralColor(child=Text(text=\"'c'\")), keypath=None), FoldCondition(collapsed=EmptyPart(), expanded=Text(text=','))))]), Text(text=')'))), label=HyperlinkTarget(child=Siblings(children=(RoundtripCondition(roundtrip=QualifiedTypeNameSpanGroup(child=Text(text='jax.tree_util.')), not_roundtrip=EmptyPart()), Text(text='DictKey'), Text(text='('))), keypath=None), expand_state=<ExpandState.COLLAPSED: 'collapsed'>), Text(text=','), FoldCondition(collapsed=Text(text=' '), expanded=EmptyPart()))), Siblings(children=(FoldableTreeNodeImpl(contents=Siblings(children=(IndentedChildren(children=[Siblings(children=(Text(text='idx'), Text(text='='), HyperlinkTarget(child=NumberColor(child=Text(text='1')), keypath=None), FoldCondition(collapsed=EmptyPart(), expanded=Text(text=','))))]), Text(text=')'))), label=HyperlinkTarget(child=Siblings(children=(RoundtripCondition(roundtrip=QualifiedTypeNameSpanGroup(child=Text(text='jax.tree_util.')), not_roundtrip=EmptyPart()), Text(text='SequenceKey'), Text(text='('))), keypath=None), expand_state=<ExpandState.COLLAPSED: 'collapsed'>), Text(text=','), FoldCondition(collapsed=Text(text=' '), expanded=EmptyPart()))), Siblings(children=(FoldableTreeNodeImpl(contents=Siblings(children=(IndentedChildren(children=[Siblings(children=(Text(text='key'), Text(text='='), HyperlinkTarget(child=StringLiteralColor(child=Text(text=\"'value'\")), keypath=None), FoldCondition(collapsed=EmptyPart(), expanded=Text(text=','))))]), Text(text=')'))), label=HyperlinkTarget(child=Siblings(children=(RoundtripCondition(roundtrip=QualifiedTypeNameSpanGroup(child=Text(text='jax.tree_util.')), not_roundtrip=EmptyPart()), Text(text='DictKey'), Text(text='('))), keypath=None), expand_state=<ExpandState.COLLAPSED: 'collapsed'>), FoldCondition(collapsed=EmptyPart(), expanded=Text(text=','))))]), Text(text=')'))), label=HyperlinkTarget(child=Text(text='('), keypath=None), expand_state=<ExpandState.COLLAPSED: 'collapsed'>), Text(text=':'), FoldCondition(collapsed=Text(text=' '), expanded=EmptyPart()), IndentedChildren(children=[Siblings(children=(RoundtripCondition(roundtrip=WithBlockColor(child=FoldableTreeNodeImpl(contents=Siblings(children=(ColoredBorderIndentedChildren(children=[Siblings(children=(Text(text='original_repr'), Text(text='='), HyperlinkTarget(child=StringLiteralColor(child=Text(text=\"'Array([0., 0., 0., 0., 0., 0., 0.], dtype=float32)'\")), keypath=(GetAttrKey(name='original_repr'),)), Text(text=','), FoldCondition(collapsed=Text(text=' '), expanded=EmptyPart()), FoldCondition(collapsed=EmptyPart(), expanded=Siblings(children=(StringCopyButton(copy_string='(lambda root: root.original_repr)', annotation='Copy path: '),))))), Siblings(children=(Text(text='original_id'), Text(text='='), HyperlinkTarget(child=NumberColor(child=Text(text='101933488789584')), keypath=(GetAttrKey(name='original_id'),)), Text(text=','), FoldCondition(collapsed=Text(text=' '), expanded=EmptyPart()), FoldCondition(collapsed=EmptyPart(), expanded=Siblings(children=(StringCopyButton(copy_string='(lambda root: root.original_id)', annotation='Copy path: '),))))), Siblings(children=(Text(text='original_type'), Text(text='='), HyperlinkTarget(child=FoldableTreeNodeImpl(contents=FoldCondition(collapsed=EmptyPart(), expanded=IndentedChildren(children=[Siblings(children=(HyperlinkTarget(child=AbbreviationColor(child=Text(text=\"<class 'jax.Array'>\")), keypath=(GetAttrKey(name='original_type'),)), FoldCondition(collapsed=EmptyPart(), expanded=Siblings(children=(StringCopyButton(copy_string='(lambda root: root.original_type)', annotation='Copy path: '),)))))])), label=CommentColorWhenExpanded(child=Siblings(children=(FoldCondition(collapsed=EmptyPart(), expanded=Text(text='# ')), QualifiedTypeNameSpanGroup(child=Text(text='jax.')), Text(text='Array')))), expand_state=<ExpandState.COLLAPSED: 'collapsed'>), keypath=(GetAttrKey(name='original_type'),)), FoldCondition(collapsed=EmptyPart(), expanded=Text(text=',')), FoldCondition(collapsed=EmptyPart(), expanded=Siblings(children=(StringCopyButton(copy_string='(lambda root: root.original_type)', annotation='Copy path: '),)))))]), ColoredBottomLineSpanGroup(child=Text(text=')')))), label=HyperlinkTarget(child=ColoredTopLineSpanGroup(child=Siblings(children=(RoundtripCondition(roundtrip=QualifiedTypeNameSpanGroup(child=Text(text='penzai.treescope.copypaste_fallback.')), not_roundtrip=EmptyPart()), Text(text='NotRoundtrippable'), Text(text='(')))), keypath=()), expand_state=<ExpandState.WEAKLY_COLLAPSED: 'weakly_collapsed'>), color='#db845a'), not_roundtrip=AbbreviationColor(child=Text(text='<jax.Array([0., 0., 0., 0., 0., 0., 0.], dtype=float32)>'))), Text(text=','), FoldCondition(collapsed=Text(text=' '), expanded=EmptyPart()), FoldCondition(collapsed=EmptyPart(), expanded=Siblings(children=(StringCopyButton(copy_string=\"(lambda root: root.selected_by_path[(DictKey(key='c'), SequenceKey(idx=1), DictKey(key='value'))])\", annotation='Copy path: '),))))), Siblings(children=(FoldCondition(collapsed=EmptyPart(), expanded=VerticalSpace(height='0.5em')),))]))), Siblings(children=(FoldableTreeNodeImpl(contents=Siblings(children=(IndentedChildren(children=[Siblings(children=(FoldableTreeNodeImpl(contents=Siblings(children=(IndentedChildren(children=[Siblings(children=(Text(text='key'), Text(text='='), HyperlinkTarget(child=StringLiteralColor(child=Text(text=\"'c'\")), keypath=None), FoldCondition(collapsed=EmptyPart(), expanded=Text(text=','))))]), Text(text=')'))), label=HyperlinkTarget(child=Siblings(children=(RoundtripCondition(roundtrip=QualifiedTypeNameSpanGroup(child=Text(text='jax.tree_util.')), not_roundtrip=EmptyPart()), Text(text='DictKey'), Text(text='('))), keypath=None), expand_state=<ExpandState.COLLAPSED: 'collapsed'>), Text(text=','), FoldCondition(collapsed=Text(text=' '), expanded=EmptyPart()))), Siblings(children=(FoldableTreeNodeImpl(contents=Siblings(children=(IndentedChildren(children=[Siblings(children=(Text(text='idx'), Text(text='='), HyperlinkTarget(child=NumberColor(child=Text(text='2')), keypath=None), FoldCondition(collapsed=EmptyPart(), expanded=Text(text=','))))]), Text(text=')'))), label=HyperlinkTarget(child=Siblings(children=(RoundtripCondition(roundtrip=QualifiedTypeNameSpanGroup(child=Text(text='jax.tree_util.')), not_roundtrip=EmptyPart()), Text(text='SequenceKey'), Text(text='('))), keypath=None), expand_state=<ExpandState.COLLAPSED: 'collapsed'>), Text(text=','), FoldCondition(collapsed=Text(text=' '), expanded=EmptyPart()))), Siblings(children=(FoldableTreeNodeImpl(contents=Siblings(children=(IndentedChildren(children=[Siblings(children=(Text(text='key'), Text(text='='), HyperlinkTarget(child=StringLiteralColor(child=Text(text=\"'value'\")), keypath=None), FoldCondition(collapsed=EmptyPart(), expanded=Text(text=','))))]), Text(text=')'))), label=HyperlinkTarget(child=Siblings(children=(RoundtripCondition(roundtrip=QualifiedTypeNameSpanGroup(child=Text(text='jax.tree_util.')), not_roundtrip=EmptyPart()), Text(text='DictKey'), Text(text='('))), keypath=None), expand_state=<ExpandState.COLLAPSED: 'collapsed'>), FoldCondition(collapsed=EmptyPart(), expanded=Text(text=','))))]), Text(text=')'))), label=HyperlinkTarget(child=Text(text='('), keypath=None), expand_state=<ExpandState.COLLAPSED: 'collapsed'>), Text(text=':'), FoldCondition(collapsed=Text(text=' '), expanded=EmptyPart()), IndentedChildren(children=[Siblings(children=(HyperlinkTarget(child=NumberColor(child=Text(text='3')), keypath=(GetAttrKey(name='selected_by_path'), DictKey(key=(DictKey(key='c'), SequenceKey(idx=2), DictKey(key='value'))))), FoldCondition(collapsed=EmptyPart(), expanded=Text(text=',')), FoldCondition(collapsed=EmptyPart(), expanded=Siblings(children=(StringCopyButton(copy_string=\"(lambda root: root.selected_by_path[(DictKey(key='c'), SequenceKey(idx=2), DictKey(key='value'))])\", annotation='Copy path: '),))))), Siblings(children=(FoldCondition(collapsed=EmptyPart(), expanded=VerticalSpace(height='0.5em')),))])))]), Text(text='})'))), label=HyperlinkTarget(child=Siblings(children=(RoundtripCondition(roundtrip=QualifiedTypeNameSpanGroup(child=Text(text='collections.')), not_roundtrip=EmptyPart()), Text(text='OrderedDict'), Text(text='({'))), keypath=(GetAttrKey(name='selected_by_path'),)), expand_state=<ExpandState.EXPANDED: 'expanded'>), node_id=131909118544832, seen_more_than_once=set()), Text(text=','), FoldCondition(collapsed=Text(text=' '), expanded=EmptyPart()), FoldCondition(collapsed=EmptyPart(), expanded=Siblings(children=(DynamicSharedCheck(if_shared=SharedWarningLabel(child=Text(text=' # Repeated python obj at 0x77f87c274bc0')), node_id=131909118544832, seen_more_than_once=set()), StringCopyButton(copy_string='(lambda root: root.selected_by_path)', annotation='Copy path: ')))))), Siblings(children=(PyTreeNodeFieldName(child=Text(text='remainder')), Text(text='='), WithDynamicSharedPip(child=FoldableTreeNodeImpl(contents=Siblings(children=(StringCopyButton(copy_string='(lambda root: root.remainder)', annotation='Copy path: '), IndentedChildren(children=[Siblings(children=(HyperlinkTarget(child=StringLiteralColor(child=Text(text=\"'a'\")), keypath=None), Text(text=': '), HyperlinkTarget(child=NumberColor(child=Text(text='1')), keypath=(GetAttrKey(name='remainder'), DictKey(key='a'))), Text(text=','), FoldCondition(collapsed=Text(text=' '), expanded=EmptyPart()), FoldCondition(collapsed=EmptyPart(), expanded=Siblings(children=(StringCopyButton(copy_string=\"(lambda root: root.remainder['a'])\", annotation='Copy path: '),))))), Siblings(children=(HyperlinkTarget(child=StringLiteralColor(child=Text(text=\"'b'\")), keypath=None), Text(text=': '), RoundtripCondition(roundtrip=WithBlockColor(child=FoldableTreeNodeImpl(contents=Siblings(children=(ColoredBorderIndentedChildren(children=[Siblings(children=(Text(text='original_repr'), Text(text='='), HyperlinkTarget(child=StringLiteralColor(child=Text(text=\"'Array([0, 1, 2, 3, 4, 5, 6, 7, 8, 9], dtype=int32)'\")), keypath=(GetAttrKey(name='original_repr'),)), Text(text=','), FoldCondition(collapsed=Text(text=' '), expanded=EmptyPart()), FoldCondition(collapsed=EmptyPart(), expanded=Siblings(children=(StringCopyButton(copy_string='(lambda root: root.original_repr)', annotation='Copy path: '),))))), Siblings(children=(Text(text='original_id'), Text(text='='), HyperlinkTarget(child=NumberColor(child=Text(text='101933487992704')), keypath=(GetAttrKey(name='original_id'),)), Text(text=','), FoldCondition(collapsed=Text(text=' '), expanded=EmptyPart()), FoldCondition(collapsed=EmptyPart(), expanded=Siblings(children=(StringCopyButton(copy_string='(lambda root: root.original_id)', annotation='Copy path: '),))))), Siblings(children=(Text(text='original_type'), Text(text='='), HyperlinkTarget(child=FoldableTreeNodeImpl(contents=FoldCondition(collapsed=EmptyPart(), expanded=IndentedChildren(children=[Siblings(children=(HyperlinkTarget(child=AbbreviationColor(child=Text(text=\"<class 'jax.Array'>\")), keypath=(GetAttrKey(name='original_type'),)), FoldCondition(collapsed=EmptyPart(), expanded=Siblings(children=(StringCopyButton(copy_string='(lambda root: root.original_type)', annotation='Copy path: '),)))))])), label=CommentColorWhenExpanded(child=Siblings(children=(FoldCondition(collapsed=EmptyPart(), expanded=Text(text='# ')), QualifiedTypeNameSpanGroup(child=Text(text='jax.')), Text(text='Array')))), expand_state=<ExpandState.COLLAPSED: 'collapsed'>), keypath=(GetAttrKey(name='original_type'),)), FoldCondition(collapsed=EmptyPart(), expanded=Text(text=',')), FoldCondition(collapsed=EmptyPart(), expanded=Siblings(children=(StringCopyButton(copy_string='(lambda root: root.original_type)', annotation='Copy path: '),)))))]), ColoredBottomLineSpanGroup(child=Text(text=')')))), label=HyperlinkTarget(child=ColoredTopLineSpanGroup(child=Siblings(children=(RoundtripCondition(roundtrip=QualifiedTypeNameSpanGroup(child=Text(text='penzai.treescope.copypaste_fallback.')), not_roundtrip=EmptyPart()), Text(text='NotRoundtrippable'), Text(text='(')))), keypath=()), expand_state=<ExpandState.WEAKLY_COLLAPSED: 'weakly_collapsed'>), color='#db845a'), not_roundtrip=AbbreviationColor(child=Text(text='<jax.Array([0, 1, 2, 3, 4, 5, 6, 7, 8, 9], dtype=int32)>'))), Text(text=','), FoldCondition(collapsed=Text(text=' '), expanded=EmptyPart()), FoldCondition(collapsed=EmptyPart(), expanded=Siblings(children=(StringCopyButton(copy_string=\"(lambda root: root.remainder['b'])\", annotation='Copy path: '),))))), Siblings(children=(HyperlinkTarget(child=StringLiteralColor(child=Text(text=\"'c'\")), keypath=None), Text(text=': '), WithDynamicSharedPip(child=FoldableTreeNodeImpl(contents=Siblings(children=(StringCopyButton(copy_string=\"(lambda root: root.remainder['c'])\", annotation='Copy path: '), IndentedChildren(children=[Siblings(children=(WithDynamicSharedPip(child=FoldableTreeNodeImpl(contents=Siblings(children=(StringCopyButton(copy_string=\"(lambda root: root.remainder['c'][0])\", annotation='Copy path: '), IndentedChildren(children=[Siblings(children=(HyperlinkTarget(child=StringLiteralColor(child=Text(text=\"'value'\")), keypath=None), Text(text=': '), FoldableTreeNodeImpl(contents=Siblings(children=(StringCopyButton(copy_string=\"(lambda root: root.remainder['c'][0]['value'])\", annotation='Copy path: '), IndentedChildren(children=[Siblings(children=(Text(text='path'), Text(text='='), FoldableTreeNodeImpl(contents=Siblings(children=(StringCopyButton(copy_string=\"(lambda root: root.remainder['c'][0]['value'].path)\", annotation='Copy path: '), IndentedChildren(children=[Siblings(children=(FoldableTreeNodeImpl(contents=Siblings(children=(StringCopyButton(copy_string=\"(lambda root: root.remainder['c'][0]['value'].path[0])\", annotation='Copy path: '), IndentedChildren(children=[Siblings(children=(Text(text='key'), Text(text='='), HyperlinkTarget(child=StringLiteralColor(child=Text(text=\"'c'\")), keypath=(GetAttrKey(name='remainder'), DictKey(key='c'), SequenceKey(idx=0), DictKey(key='value'), GetAttrKey(name='path'), SequenceKey(idx=0), GetAttrKey(name='key'))), FoldCondition(collapsed=EmptyPart(), expanded=Text(text=',')), FoldCondition(collapsed=EmptyPart(), expanded=Siblings(children=(StringCopyButton(copy_string=\"(lambda root: root.remainder['c'][0]['value'].path[0].key)\", annotation='Copy path: '),)))))]), Text(text=')'))), label=HyperlinkTarget(child=Siblings(children=(RoundtripCondition(roundtrip=QualifiedTypeNameSpanGroup(child=Text(text='jax.tree_util.')), not_roundtrip=EmptyPart()), Text(text='DictKey'), Text(text='('))), keypath=(GetAttrKey(name='remainder'), DictKey(key='c'), SequenceKey(idx=0), DictKey(key='value'), GetAttrKey(name='path'), SequenceKey(idx=0))), expand_state=<ExpandState.COLLAPSED: 'collapsed'>), Text(text=','), FoldCondition(collapsed=Text(text=' '), expanded=EmptyPart()), FoldCondition(collapsed=EmptyPart(), expanded=Siblings(children=(StringCopyButton(copy_string=\"(lambda root: root.remainder['c'][0]['value'].path[0])\", annotation='Copy path: '),))))), Siblings(children=(FoldableTreeNodeImpl(contents=Siblings(children=(StringCopyButton(copy_string=\"(lambda root: root.remainder['c'][0]['value'].path[1])\", annotation='Copy path: '), IndentedChildren(children=[Siblings(children=(Text(text='idx'), Text(text='='), HyperlinkTarget(child=NumberColor(child=Text(text='0')), keypath=(GetAttrKey(name='remainder'), DictKey(key='c'), SequenceKey(idx=0), DictKey(key='value'), GetAttrKey(name='path'), SequenceKey(idx=1), GetAttrKey(name='idx'))), FoldCondition(collapsed=EmptyPart(), expanded=Text(text=',')), FoldCondition(collapsed=EmptyPart(), expanded=Siblings(children=(StringCopyButton(copy_string=\"(lambda root: root.remainder['c'][0]['value'].path[1].idx)\", annotation='Copy path: '),)))))]), Text(text=')'))), label=HyperlinkTarget(child=Siblings(children=(RoundtripCondition(roundtrip=QualifiedTypeNameSpanGroup(child=Text(text='jax.tree_util.')), not_roundtrip=EmptyPart()), Text(text='SequenceKey'), Text(text='('))), keypath=(GetAttrKey(name='remainder'), DictKey(key='c'), SequenceKey(idx=0), DictKey(key='value'), GetAttrKey(name='path'), SequenceKey(idx=1))), expand_state=<ExpandState.COLLAPSED: 'collapsed'>), Text(text=','), FoldCondition(collapsed=Text(text=' '), expanded=EmptyPart()), FoldCondition(collapsed=EmptyPart(), expanded=Siblings(children=(StringCopyButton(copy_string=\"(lambda root: root.remainder['c'][0]['value'].path[1])\", annotation='Copy path: '),))))), Siblings(children=(FoldableTreeNodeImpl(contents=Siblings(children=(StringCopyButton(copy_string=\"(lambda root: root.remainder['c'][0]['value'].path[2])\", annotation='Copy path: '), IndentedChildren(children=[Siblings(children=(Text(text='key'), Text(text='='), HyperlinkTarget(child=StringLiteralColor(child=Text(text=\"'value'\")), keypath=(GetAttrKey(name='remainder'), DictKey(key='c'), SequenceKey(idx=0), DictKey(key='value'), GetAttrKey(name='path'), SequenceKey(idx=2), GetAttrKey(name='key'))), FoldCondition(collapsed=EmptyPart(), expanded=Text(text=',')), FoldCondition(collapsed=EmptyPart(), expanded=Siblings(children=(StringCopyButton(copy_string=\"(lambda root: root.remainder['c'][0]['value'].path[2].key)\", annotation='Copy path: '),)))))]), Text(text=')'))), label=HyperlinkTarget(child=Siblings(children=(RoundtripCondition(roundtrip=QualifiedTypeNameSpanGroup(child=Text(text='jax.tree_util.')), not_roundtrip=EmptyPart()), Text(text='DictKey'), Text(text='('))), keypath=(GetAttrKey(name='remainder'), DictKey(key='c'), SequenceKey(idx=0), DictKey(key='value'), GetAttrKey(name='path'), SequenceKey(idx=2))), expand_state=<ExpandState.COLLAPSED: 'collapsed'>), FoldCondition(collapsed=EmptyPart(), expanded=Text(text=',')), FoldCondition(collapsed=EmptyPart(), expanded=Siblings(children=(StringCopyButton(copy_string=\"(lambda root: root.remainder['c'][0]['value'].path[2])\", annotation='Copy path: '),)))))]), Text(text=')'))), label=HyperlinkTarget(child=Text(text='('), keypath=(GetAttrKey(name='remainder'), DictKey(key='c'), SequenceKey(idx=0), DictKey(key='value'), GetAttrKey(name='path'))), expand_state=<ExpandState.COLLAPSED: 'collapsed'>), FoldCondition(collapsed=EmptyPart(), expanded=Text(text=',')), FoldCondition(collapsed=EmptyPart(), expanded=Siblings(children=(StringCopyButton(copy_string=\"(lambda root: root.remainder['c'][0]['value'].path)\", annotation='Copy path: '),)))))]), Text(text=')'))), label=HyperlinkTarget(child=Siblings(children=(RoundtripCondition(roundtrip=QualifiedTypeNameSpanGroup(child=Text(text='penzai.core.selectors.')), not_roundtrip=EmptyPart()), Text(text='SelectionHole'), Text(text='('))), keypath=(GetAttrKey(name='remainder'), DictKey(key='c'), SequenceKey(idx=0), DictKey(key='value'))), expand_state=<ExpandState.EXPANDED: 'expanded'>), FoldCondition(collapsed=EmptyPart(), expanded=Text(text=',')), FoldCondition(collapsed=EmptyPart(), expanded=Siblings(children=(StringCopyButton(copy_string=\"(lambda root: root.remainder['c'][0]['value'])\", annotation='Copy path: '),)))))]), Text(text='}'))), label=HyperlinkTarget(child=Text(text='{'), keypath=(GetAttrKey(name='remainder'), DictKey(key='c'), SequenceKey(idx=0))), expand_state=<ExpandState.COLLAPSED: 'collapsed'>), node_id=131909119055872, seen_more_than_once=set()), Text(text=','), FoldCondition(collapsed=Text(text=' '), expanded=EmptyPart()), FoldCondition(collapsed=EmptyPart(), expanded=Siblings(children=(DynamicSharedCheck(if_shared=SharedWarningLabel(child=Text(text=' # Repeated python obj at 0x77f87c2f1800')), node_id=131909119055872, seen_more_than_once=set()), StringCopyButton(copy_string=\"(lambda root: root.remainder['c'][0])\", annotation='Copy path: ')))))), Siblings(children=(WithDynamicSharedPip(child=FoldableTreeNodeImpl(contents=Siblings(children=(StringCopyButton(copy_string=\"(lambda root: root.remainder['c'][1])\", annotation='Copy path: '), IndentedChildren(children=[Siblings(children=(HyperlinkTarget(child=StringLiteralColor(child=Text(text=\"'value'\")), keypath=None), Text(text=': '), FoldableTreeNodeImpl(contents=Siblings(children=(StringCopyButton(copy_string=\"(lambda root: root.remainder['c'][1]['value'])\", annotation='Copy path: '), IndentedChildren(children=[Siblings(children=(Text(text='path'), Text(text='='), FoldableTreeNodeImpl(contents=Siblings(children=(StringCopyButton(copy_string=\"(lambda root: root.remainder['c'][1]['value'].path)\", annotation='Copy path: '), IndentedChildren(children=[Siblings(children=(FoldableTreeNodeImpl(contents=Siblings(children=(StringCopyButton(copy_string=\"(lambda root: root.remainder['c'][1]['value'].path[0])\", annotation='Copy path: '), IndentedChildren(children=[Siblings(children=(Text(text='key'), Text(text='='), HyperlinkTarget(child=StringLiteralColor(child=Text(text=\"'c'\")), keypath=(GetAttrKey(name='remainder'), DictKey(key='c'), SequenceKey(idx=1), DictKey(key='value'), GetAttrKey(name='path'), SequenceKey(idx=0), GetAttrKey(name='key'))), FoldCondition(collapsed=EmptyPart(), expanded=Text(text=',')), FoldCondition(collapsed=EmptyPart(), expanded=Siblings(children=(StringCopyButton(copy_string=\"(lambda root: root.remainder['c'][1]['value'].path[0].key)\", annotation='Copy path: '),)))))]), Text(text=')'))), label=HyperlinkTarget(child=Siblings(children=(RoundtripCondition(roundtrip=QualifiedTypeNameSpanGroup(child=Text(text='jax.tree_util.')), not_roundtrip=EmptyPart()), Text(text='DictKey'), Text(text='('))), keypath=(GetAttrKey(name='remainder'), DictKey(key='c'), SequenceKey(idx=1), DictKey(key='value'), GetAttrKey(name='path'), SequenceKey(idx=0))), expand_state=<ExpandState.COLLAPSED: 'collapsed'>), Text(text=','), FoldCondition(collapsed=Text(text=' '), expanded=EmptyPart()), FoldCondition(collapsed=EmptyPart(), expanded=Siblings(children=(StringCopyButton(copy_string=\"(lambda root: root.remainder['c'][1]['value'].path[0])\", annotation='Copy path: '),))))), Siblings(children=(FoldableTreeNodeImpl(contents=Siblings(children=(StringCopyButton(copy_string=\"(lambda root: root.remainder['c'][1]['value'].path[1])\", annotation='Copy path: '), IndentedChildren(children=[Siblings(children=(Text(text='idx'), Text(text='='), HyperlinkTarget(child=NumberColor(child=Text(text='1')), keypath=(GetAttrKey(name='remainder'), DictKey(key='c'), SequenceKey(idx=1), DictKey(key='value'), GetAttrKey(name='path'), SequenceKey(idx=1), GetAttrKey(name='idx'))), FoldCondition(collapsed=EmptyPart(), expanded=Text(text=',')), FoldCondition(collapsed=EmptyPart(), expanded=Siblings(children=(StringCopyButton(copy_string=\"(lambda root: root.remainder['c'][1]['value'].path[1].idx)\", annotation='Copy path: '),)))))]), Text(text=')'))), label=HyperlinkTarget(child=Siblings(children=(RoundtripCondition(roundtrip=QualifiedTypeNameSpanGroup(child=Text(text='jax.tree_util.')), not_roundtrip=EmptyPart()), Text(text='SequenceKey'), Text(text='('))), keypath=(GetAttrKey(name='remainder'), DictKey(key='c'), SequenceKey(idx=1), DictKey(key='value'), GetAttrKey(name='path'), SequenceKey(idx=1))), expand_state=<ExpandState.COLLAPSED: 'collapsed'>), Text(text=','), FoldCondition(collapsed=Text(text=' '), expanded=EmptyPart()), FoldCondition(collapsed=EmptyPart(), expanded=Siblings(children=(StringCopyButton(copy_string=\"(lambda root: root.remainder['c'][1]['value'].path[1])\", annotation='Copy path: '),))))), Siblings(children=(FoldableTreeNodeImpl(contents=Siblings(children=(StringCopyButton(copy_string=\"(lambda root: root.remainder['c'][1]['value'].path[2])\", annotation='Copy path: '), IndentedChildren(children=[Siblings(children=(Text(text='key'), Text(text='='), HyperlinkTarget(child=StringLiteralColor(child=Text(text=\"'value'\")), keypath=(GetAttrKey(name='remainder'), DictKey(key='c'), SequenceKey(idx=1), DictKey(key='value'), GetAttrKey(name='path'), SequenceKey(idx=2), GetAttrKey(name='key'))), FoldCondition(collapsed=EmptyPart(), expanded=Text(text=',')), FoldCondition(collapsed=EmptyPart(), expanded=Siblings(children=(StringCopyButton(copy_string=\"(lambda root: root.remainder['c'][1]['value'].path[2].key)\", annotation='Copy path: '),)))))]), Text(text=')'))), label=HyperlinkTarget(child=Siblings(children=(RoundtripCondition(roundtrip=QualifiedTypeNameSpanGroup(child=Text(text='jax.tree_util.')), not_roundtrip=EmptyPart()), Text(text='DictKey'), Text(text='('))), keypath=(GetAttrKey(name='remainder'), DictKey(key='c'), SequenceKey(idx=1), DictKey(key='value'), GetAttrKey(name='path'), SequenceKey(idx=2))), expand_state=<ExpandState.COLLAPSED: 'collapsed'>), FoldCondition(collapsed=EmptyPart(), expanded=Text(text=',')), FoldCondition(collapsed=EmptyPart(), expanded=Siblings(children=(StringCopyButton(copy_string=\"(lambda root: root.remainder['c'][1]['value'].path[2])\", annotation='Copy path: '),)))))]), Text(text=')'))), label=HyperlinkTarget(child=Text(text='('), keypath=(GetAttrKey(name='remainder'), DictKey(key='c'), SequenceKey(idx=1), DictKey(key='value'), GetAttrKey(name='path'))), expand_state=<ExpandState.COLLAPSED: 'collapsed'>), FoldCondition(collapsed=EmptyPart(), expanded=Text(text=',')), FoldCondition(collapsed=EmptyPart(), expanded=Siblings(children=(StringCopyButton(copy_string=\"(lambda root: root.remainder['c'][1]['value'].path)\", annotation='Copy path: '),)))))]), Text(text=')'))), label=HyperlinkTarget(child=Siblings(children=(RoundtripCondition(roundtrip=QualifiedTypeNameSpanGroup(child=Text(text='penzai.core.selectors.')), not_roundtrip=EmptyPart()), Text(text='SelectionHole'), Text(text='('))), keypath=(GetAttrKey(name='remainder'), DictKey(key='c'), SequenceKey(idx=1), DictKey(key='value'))), expand_state=<ExpandState.EXPANDED: 'expanded'>), FoldCondition(collapsed=EmptyPart(), expanded=Text(text=',')), FoldCondition(collapsed=EmptyPart(), expanded=Siblings(children=(StringCopyButton(copy_string=\"(lambda root: root.remainder['c'][1]['value'])\", annotation='Copy path: '),)))))]), Text(text='}'))), label=HyperlinkTarget(child=Text(text='{'), keypath=(GetAttrKey(name='remainder'), DictKey(key='c'), SequenceKey(idx=1))), expand_state=<ExpandState.COLLAPSED: 'collapsed'>), node_id=131909118056320, seen_more_than_once=set()), Text(text=','), FoldCondition(collapsed=Text(text=' '), expanded=EmptyPart()), FoldCondition(collapsed=EmptyPart(), expanded=Siblings(children=(DynamicSharedCheck(if_shared=SharedWarningLabel(child=Text(text=' # Repeated python obj at 0x77f87c1fd780')), node_id=131909118056320, seen_more_than_once=set()), StringCopyButton(copy_string=\"(lambda root: root.remainder['c'][1])\", annotation='Copy path: ')))))), Siblings(children=(WithDynamicSharedPip(child=FoldableTreeNodeImpl(contents=Siblings(children=(StringCopyButton(copy_string=\"(lambda root: root.remainder['c'][2])\", annotation='Copy path: '), IndentedChildren(children=[Siblings(children=(HyperlinkTarget(child=StringLiteralColor(child=Text(text=\"'value'\")), keypath=None), Text(text=': '), FoldableTreeNodeImpl(contents=Siblings(children=(StringCopyButton(copy_string=\"(lambda root: root.remainder['c'][2]['value'])\", annotation='Copy path: '), IndentedChildren(children=[Siblings(children=(Text(text='path'), Text(text='='), FoldableTreeNodeImpl(contents=Siblings(children=(StringCopyButton(copy_string=\"(lambda root: root.remainder['c'][2]['value'].path)\", annotation='Copy path: '), IndentedChildren(children=[Siblings(children=(FoldableTreeNodeImpl(contents=Siblings(children=(StringCopyButton(copy_string=\"(lambda root: root.remainder['c'][2]['value'].path[0])\", annotation='Copy path: '), IndentedChildren(children=[Siblings(children=(Text(text='key'), Text(text='='), HyperlinkTarget(child=StringLiteralColor(child=Text(text=\"'c'\")), keypath=(GetAttrKey(name='remainder'), DictKey(key='c'), SequenceKey(idx=2), DictKey(key='value'), GetAttrKey(name='path'), SequenceKey(idx=0), GetAttrKey(name='key'))), FoldCondition(collapsed=EmptyPart(), expanded=Text(text=',')), FoldCondition(collapsed=EmptyPart(), expanded=Siblings(children=(StringCopyButton(copy_string=\"(lambda root: root.remainder['c'][2]['value'].path[0].key)\", annotation='Copy path: '),)))))]), Text(text=')'))), label=HyperlinkTarget(child=Siblings(children=(RoundtripCondition(roundtrip=QualifiedTypeNameSpanGroup(child=Text(text='jax.tree_util.')), not_roundtrip=EmptyPart()), Text(text='DictKey'), Text(text='('))), keypath=(GetAttrKey(name='remainder'), DictKey(key='c'), SequenceKey(idx=2), DictKey(key='value'), GetAttrKey(name='path'), SequenceKey(idx=0))), expand_state=<ExpandState.COLLAPSED: 'collapsed'>), Text(text=','), FoldCondition(collapsed=Text(text=' '), expanded=EmptyPart()), FoldCondition(collapsed=EmptyPart(), expanded=Siblings(children=(StringCopyButton(copy_string=\"(lambda root: root.remainder['c'][2]['value'].path[0])\", annotation='Copy path: '),))))), Siblings(children=(FoldableTreeNodeImpl(contents=Siblings(children=(StringCopyButton(copy_string=\"(lambda root: root.remainder['c'][2]['value'].path[1])\", annotation='Copy path: '), IndentedChildren(children=[Siblings(children=(Text(text='idx'), Text(text='='), HyperlinkTarget(child=NumberColor(child=Text(text='2')), keypath=(GetAttrKey(name='remainder'), DictKey(key='c'), SequenceKey(idx=2), DictKey(key='value'), GetAttrKey(name='path'), SequenceKey(idx=1), GetAttrKey(name='idx'))), FoldCondition(collapsed=EmptyPart(), expanded=Text(text=',')), FoldCondition(collapsed=EmptyPart(), expanded=Siblings(children=(StringCopyButton(copy_string=\"(lambda root: root.remainder['c'][2]['value'].path[1].idx)\", annotation='Copy path: '),)))))]), Text(text=')'))), label=HyperlinkTarget(child=Siblings(children=(RoundtripCondition(roundtrip=QualifiedTypeNameSpanGroup(child=Text(text='jax.tree_util.')), not_roundtrip=EmptyPart()), Text(text='SequenceKey'), Text(text='('))), keypath=(GetAttrKey(name='remainder'), DictKey(key='c'), SequenceKey(idx=2), DictKey(key='value'), GetAttrKey(name='path'), SequenceKey(idx=1))), expand_state=<ExpandState.COLLAPSED: 'collapsed'>), Text(text=','), FoldCondition(collapsed=Text(text=' '), expanded=EmptyPart()), FoldCondition(collapsed=EmptyPart(), expanded=Siblings(children=(StringCopyButton(copy_string=\"(lambda root: root.remainder['c'][2]['value'].path[1])\", annotation='Copy path: '),))))), Siblings(children=(FoldableTreeNodeImpl(contents=Siblings(children=(StringCopyButton(copy_string=\"(lambda root: root.remainder['c'][2]['value'].path[2])\", annotation='Copy path: '), IndentedChildren(children=[Siblings(children=(Text(text='key'), Text(text='='), HyperlinkTarget(child=StringLiteralColor(child=Text(text=\"'value'\")), keypath=(GetAttrKey(name='remainder'), DictKey(key='c'), SequenceKey(idx=2), DictKey(key='value'), GetAttrKey(name='path'), SequenceKey(idx=2), GetAttrKey(name='key'))), FoldCondition(collapsed=EmptyPart(), expanded=Text(text=',')), FoldCondition(collapsed=EmptyPart(), expanded=Siblings(children=(StringCopyButton(copy_string=\"(lambda root: root.remainder['c'][2]['value'].path[2].key)\", annotation='Copy path: '),)))))]), Text(text=')'))), label=HyperlinkTarget(child=Siblings(children=(RoundtripCondition(roundtrip=QualifiedTypeNameSpanGroup(child=Text(text='jax.tree_util.')), not_roundtrip=EmptyPart()), Text(text='DictKey'), Text(text='('))), keypath=(GetAttrKey(name='remainder'), DictKey(key='c'), SequenceKey(idx=2), DictKey(key='value'), GetAttrKey(name='path'), SequenceKey(idx=2))), expand_state=<ExpandState.COLLAPSED: 'collapsed'>), FoldCondition(collapsed=EmptyPart(), expanded=Text(text=',')), FoldCondition(collapsed=EmptyPart(), expanded=Siblings(children=(StringCopyButton(copy_string=\"(lambda root: root.remainder['c'][2]['value'].path[2])\", annotation='Copy path: '),)))))]), Text(text=')'))), label=HyperlinkTarget(child=Text(text='('), keypath=(GetAttrKey(name='remainder'), DictKey(key='c'), SequenceKey(idx=2), DictKey(key='value'), GetAttrKey(name='path'))), expand_state=<ExpandState.COLLAPSED: 'collapsed'>), FoldCondition(collapsed=EmptyPart(), expanded=Text(text=',')), FoldCondition(collapsed=EmptyPart(), expanded=Siblings(children=(StringCopyButton(copy_string=\"(lambda root: root.remainder['c'][2]['value'].path)\", annotation='Copy path: '),)))))]), Text(text=')'))), label=HyperlinkTarget(child=Siblings(children=(RoundtripCondition(roundtrip=QualifiedTypeNameSpanGroup(child=Text(text='penzai.core.selectors.')), not_roundtrip=EmptyPart()), Text(text='SelectionHole'), Text(text='('))), keypath=(GetAttrKey(name='remainder'), DictKey(key='c'), SequenceKey(idx=2), DictKey(key='value'))), expand_state=<ExpandState.EXPANDED: 'expanded'>), FoldCondition(collapsed=EmptyPart(), expanded=Text(text=',')), FoldCondition(collapsed=EmptyPart(), expanded=Siblings(children=(StringCopyButton(copy_string=\"(lambda root: root.remainder['c'][2]['value'])\", annotation='Copy path: '),)))))]), Text(text='}'))), label=HyperlinkTarget(child=Text(text='{'), keypath=(GetAttrKey(name='remainder'), DictKey(key='c'), SequenceKey(idx=2))), expand_state=<ExpandState.COLLAPSED: 'collapsed'>), node_id=131909118588288, seen_more_than_once=set()), FoldCondition(collapsed=EmptyPart(), expanded=Text(text=',')), FoldCondition(collapsed=EmptyPart(), expanded=Siblings(children=(DynamicSharedCheck(if_shared=SharedWarningLabel(child=Text(text=' # Repeated python obj at 0x77f87c27f580')), node_id=131909118588288, seen_more_than_once=set()), StringCopyButton(copy_string=\"(lambda root: root.remainder['c'][2])\", annotation='Copy path: '))))))]), Text(text=']'))), label=HyperlinkTarget(child=Text(text='['), keypath=(GetAttrKey(name='remainder'), DictKey(key='c'))), expand_state=<ExpandState.EXPANDED: 'expanded'>), node_id=131909655228672, seen_more_than_once=set()), FoldCondition(collapsed=EmptyPart(), expanded=Text(text=',')), FoldCondition(collapsed=EmptyPart(), expanded=Siblings(children=(DynamicSharedCheck(if_shared=SharedWarningLabel(child=Text(text=' # Repeated python obj at 0x77f89c247100')), node_id=131909655228672, seen_more_than_once=set()), StringCopyButton(copy_string=\"(lambda root: root.remainder['c'])\", annotation='Copy path: '))))))]), Text(text='}'))), label=HyperlinkTarget(child=Text(text='{'), keypath=(GetAttrKey(name='remainder'),)), expand_state=<ExpandState.COLLAPSED: 'collapsed'>), node_id=131909118103296, seen_more_than_once=set()), FoldCondition(collapsed=EmptyPart(), expanded=Text(text=',')), FoldCondition(collapsed=EmptyPart(), expanded=Siblings(children=(DynamicSharedCheck(if_shared=SharedWarningLabel(child=Text(text=' # Repeated python obj at 0x77f87c208f00')), node_id=131909118103296, seen_more_than_once=set()), StringCopyButton(copy_string='(lambda root: root.remainder)', annotation='Copy path: '))))))]), Text(text=')'))), label=HyperlinkTarget(child=Siblings(children=(RoundtripCondition(roundtrip=QualifiedTypeNameSpanGroup(child=Text(text='penzai.core.selectors.')), not_roundtrip=EmptyPart()), Text(text='Selection'), Text(text='('))), keypath=()), expand_state=<ExpandState.EXPANDED: 'expanded'>),))))"
      ]
     },
     "metadata": {},
     "output_type": "display_data"
    }
   ],
   "source": [
    "my_selection = (\n",
    "    pz.select(my_nested_object)\n",
    "      .at(lambda root: root[\"c\"])\n",
    "      .at_instances_of(jax.typing.ArrayLike)\n",
    ")\n",
    "\n",
    "pz.show(my_selection)"
   ]
  },
  {
   "cell_type": "markdown",
   "metadata": {
    "id": "FJ3OuNUD_lO4"
   },
   "source": [
    "By default, though, selections are rendered in a way that emphasizes what you've selected, so you can tell at a glance that you're making the changes you expect to:"
   ]
  },
  {
   "cell_type": "code",
   "execution_count": 12,
   "metadata": {
    "execution": {
     "iopub.execute_input": "2024-07-07T03:15:25.877672Z",
     "iopub.status.busy": "2024-07-07T03:15:25.877380Z",
     "iopub.status.idle": "2024-07-07T03:15:25.894910Z",
     "shell.execute_reply": "2024-07-07T03:15:25.894710Z"
    },
    "id": "EUD6zd_L-iNr"
   },
   "outputs": [
    {
     "data": {
      "text/html": [
       "<script> (()=>{ if (customElements.get('treescope-container') === undefined) { class TreescopeContainer extends HTMLElement { constructor() { super(); this.attachShadow({mode: \"open\"}); this.defns = {}; this.state = {}; } } customElements.define(\"treescope-container\", TreescopeContainer); } if (customElements.get('treescope-run-here') === undefined) { class RunHere extends HTMLElement { constructor() { super() } connectedCallback() { const src = this.querySelector(\"script\").textContent; const fn = new Function(src); fn.call(this); this.remove(); } } customElements.define(\"treescope-run-here\", RunHere); } })(); </script> <treescope-container class=\"treescope_out_651abc0676544f7fa02e8ce041e15f1d\" ></treescope-container> <treescope-run-here><script type=\"application/octet-stream\"> const root = ( Array.from(document.getElementsByClassName( \"treescope_out_651abc0676544f7fa02e8ce041e15f1d\")) .filter((elt) => !elt.dataset.setup) )[0]; root.dataset.setup = 1; const msg = document.createElement(\"span\"); msg.style = \"color: #aaaaaa; font-family: monospace; transition: opacity 0.2s; opacity: 0.0;\"; msg.textContent = \"(Loading...)\"; root.state.loadingMsg = msg; root.shadowRoot.appendChild(msg); root.state.chain = new Promise((resolve, reject) => { const observer = new IntersectionObserver((entries) => { for (const entry of entries) { if (entry.isIntersecting) { resolve(); observer.disconnect(); return; } } }, {rootMargin: \"1000px\"}); window.setTimeout(() => { if (root.loadingMsg) { root.loadingMsg.style.opacity = \"1.0\"; } observer.observe(root); }, 0); }); root.state.deferring = false; const _insertNode = (node) => { for (let oldScript of node.querySelectorAll(\"script\")) { let newScript = document.createElement(\"script\"); newScript.type = oldScript.type; newScript.textContent = oldScript.textContent; oldScript.parentNode.replaceChild(newScript, oldScript); } if (root.state.loadingMsg) { root.state.loadingMsg.remove(); root.state.loadingMsg = null; } root.shadowRoot.appendChild(node); }; root.defns.insertContent = ((contentNode, compressed) => { if (compressed) { root.state.deferring = true; } if (root.state.deferring) { root.state.chain = (async () => { await root.state.chain; if (compressed) { const encoded = contentNode.textContent; const blob = new Blob([ Uint8Array.from(atob(encoded), (m) => m.codePointAt(0)) ]); const reader = blob.stream().pipeThrough( new DecompressionStream(\"deflate\") ).pipeThrough( new TextDecoderStream(\"utf-8\") ).getReader(); const parts = []; while (true) { const step = await reader.read(); if (step.done) { break; } parts.push(step.value); } const tpl = document.createElement('template'); tpl.innerHTML = parts.join(\"\"); _insertNode(tpl.content); } else { _insertNode(contentNode.content); } })(); } else { _insertNode(contentNode.content); } }); </script></treescope-run-here><div style=\"display:none\"> <script type=\"application/octet-stream\" >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</script> <treescope-run-here><script type=\"application/octet-stream\"> const root = ( Array.from(document.getElementsByClassName( \"treescope_out_651abc0676544f7fa02e8ce041e15f1d\")) .filter((elt) => !elt.dataset['step0']) )[0]; root.dataset['step0'] = 1; root.defns.insertContent( this.parentNode.querySelector('script[type=\"application/octet-stream\"]'), true ); this.parentNode.remove(); </script></treescope-run-here> </div>"
      ],
      "text/plain": [
       "<IPython.core.display.HTML object>"
      ]
     },
     "metadata": {},
     "output_type": "display_data"
    },
    {
     "data": {
      "text/html": [
       "<div style=\"display:none\"> <script type=\"application/octet-stream\" >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</script> <treescope-run-here><script type=\"application/octet-stream\"> const root = ( Array.from(document.getElementsByClassName( \"treescope_out_651abc0676544f7fa02e8ce041e15f1d\")) .filter((elt) => !elt.dataset['step1']) )[0]; root.dataset['step1'] = 1; root.defns.insertContent( this.parentNode.querySelector('script[type=\"application/octet-stream\"]'), true ); this.parentNode.remove(); </script></treescope-run-here> </div>"
      ],
      "text/plain": [
       "<IPython.core.display.HTML object>"
      ]
     },
     "metadata": {},
     "output_type": "display_data"
    },
    {
     "data": {
      "text/html": [
       "<treescope-run-here><script type=\"application/octet-stream\"> const root = ( Array.from(document.getElementsByClassName( \"treescope_out_651abc0676544f7fa02e8ce041e15f1d\")) .filter((elt) => !elt.dataset.stolen) )[0]; root.dataset.stolen = 1; this.parentNode.replaceChild(root, this); </script></treescope-run-here>"
      ],
      "text/plain": [
       "Selection(\n",
       "  selected_by_path=OrderedDict({\n",
       "    (DictKey(key='c'), SequenceKey(idx=0), DictKey(key='value')):\n",
       "      <jax.Array([ 0,  1,  2,  3,  4,  5,  6,  7,  8,  9, 10, 11], dtype=int32)>,\n",
       "    (DictKey(key='c'), SequenceKey(idx=1), DictKey(key='value')):\n",
       "      <jax.Array([0., 0., 0., 0., 0., 0., 0.], dtype=float32)>,\n",
       "    (DictKey(key='c'), SequenceKey(idx=2), DictKey(key='value')):\n",
       "      3,\n",
       "  }),\n",
       "  remainder={'a': 1, 'b': <jax.Array([0, 1, 2, 3, 4, 5, 6, 7, 8, 9], dtype=int32)>, 'c': [{'value': SelectionHole(path=(DictKey(key='c'), SequenceKey(idx=0), DictKey(key='value')))}, {'value': SelectionHole(path=(DictKey(key='c'), SequenceKey(idx=1), DictKey(key='value')))}, {'value': SelectionHole(path=(DictKey(key='c'), SequenceKey(idx=2), DictKey(key='value')))}]},\n",
       ")"
      ]
     },
     "execution_count": 12,
     "metadata": {},
     "output_type": "execute_result"
    }
   ],
   "source": [
    "my_selection"
   ]
  },
  {
   "cell_type": "markdown",
   "metadata": {
    "id": "Alps_lEFBFq3"
   },
   "source": [
    "(This fancy rendering mode is triggered when you display a single selection after enabling `pz.ts.register_as_default()`, or when you call `.show_selection()` on a selection object.)"
   ]
  },
  {
   "cell_type": "markdown",
   "metadata": {
    "id": "7UpYotjP-ZIC"
   },
   "source": [
    "## Building selections"
   ]
  },
  {
   "cell_type": "markdown",
   "metadata": {
    "id": "WEBkR8V7EiRr"
   },
   "source": [
    "The penzai selector API is designed around *method chaining*. You generally start by creating a trivial selection containing only a single object, the root object, using `pz.select`:"
   ]
  },
  {
   "cell_type": "code",
   "execution_count": 13,
   "metadata": {
    "execution": {
     "iopub.execute_input": "2024-07-07T03:15:25.902229Z",
     "iopub.status.busy": "2024-07-07T03:15:25.901904Z",
     "iopub.status.idle": "2024-07-07T03:15:25.913825Z",
     "shell.execute_reply": "2024-07-07T03:15:25.913544Z"
    },
    "id": "k3mVVp0-9rL2"
   },
   "outputs": [
    {
     "data": {
      "text/html": [
       "<script> (()=>{ if (customElements.get('treescope-container') === undefined) { class TreescopeContainer extends HTMLElement { constructor() { super(); this.attachShadow({mode: \"open\"}); this.defns = {}; this.state = {}; } } customElements.define(\"treescope-container\", TreescopeContainer); } if (customElements.get('treescope-run-here') === undefined) { class RunHere extends HTMLElement { constructor() { super() } connectedCallback() { const src = this.querySelector(\"script\").textContent; const fn = new Function(src); fn.call(this); this.remove(); } } customElements.define(\"treescope-run-here\", RunHere); } })(); </script> <treescope-container class=\"treescope_out_b7fd8e29aafd477586d78d167ce66a77\" ></treescope-container> <treescope-run-here><script type=\"application/octet-stream\"> const root = ( Array.from(document.getElementsByClassName( \"treescope_out_b7fd8e29aafd477586d78d167ce66a77\")) .filter((elt) => !elt.dataset.setup) )[0]; root.dataset.setup = 1; const msg = document.createElement(\"span\"); msg.style = \"color: #aaaaaa; font-family: monospace; transition: opacity 0.2s; opacity: 0.0;\"; msg.textContent = \"(Loading...)\"; root.state.loadingMsg = msg; root.shadowRoot.appendChild(msg); root.state.chain = new Promise((resolve, reject) => { const observer = new IntersectionObserver((entries) => { for (const entry of entries) { if (entry.isIntersecting) { resolve(); observer.disconnect(); return; } } }, {rootMargin: \"1000px\"}); window.setTimeout(() => { if (root.loadingMsg) { root.loadingMsg.style.opacity = \"1.0\"; } observer.observe(root); }, 0); }); root.state.deferring = false; const _insertNode = (node) => { for (let oldScript of node.querySelectorAll(\"script\")) { let newScript = document.createElement(\"script\"); newScript.type = oldScript.type; newScript.textContent = oldScript.textContent; oldScript.parentNode.replaceChild(newScript, oldScript); } if (root.state.loadingMsg) { root.state.loadingMsg.remove(); root.state.loadingMsg = null; } root.shadowRoot.appendChild(node); }; root.defns.insertContent = ((contentNode, compressed) => { if (compressed) { root.state.deferring = true; } if (root.state.deferring) { root.state.chain = (async () => { await root.state.chain; if (compressed) { const encoded = contentNode.textContent; const blob = new Blob([ Uint8Array.from(atob(encoded), (m) => m.codePointAt(0)) ]); const reader = blob.stream().pipeThrough( new DecompressionStream(\"deflate\") ).pipeThrough( new TextDecoderStream(\"utf-8\") ).getReader(); const parts = []; while (true) { const step = await reader.read(); if (step.done) { break; } parts.push(step.value); } const tpl = document.createElement('template'); tpl.innerHTML = parts.join(\"\"); _insertNode(tpl.content); } else { _insertNode(contentNode.content); } })(); } else { _insertNode(contentNode.content); } }); </script></treescope-run-here><div style=\"display:none\"> <script type=\"application/octet-stream\" >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</script> <treescope-run-here><script type=\"application/octet-stream\"> const root = ( Array.from(document.getElementsByClassName( \"treescope_out_b7fd8e29aafd477586d78d167ce66a77\")) .filter((elt) => !elt.dataset['step0']) )[0]; root.dataset['step0'] = 1; root.defns.insertContent( this.parentNode.querySelector('script[type=\"application/octet-stream\"]'), true ); this.parentNode.remove(); </script></treescope-run-here> </div>"
      ],
      "text/plain": [
       "<IPython.core.display.HTML object>"
      ]
     },
     "metadata": {},
     "output_type": "display_data"
    },
    {
     "data": {
      "text/html": [
       "<div style=\"display:none\"> <script type=\"application/octet-stream\" >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</script> <treescope-run-here><script type=\"application/octet-stream\"> const root = ( Array.from(document.getElementsByClassName( \"treescope_out_b7fd8e29aafd477586d78d167ce66a77\")) .filter((elt) => !elt.dataset['step1']) )[0]; root.dataset['step1'] = 1; root.defns.insertContent( this.parentNode.querySelector('script[type=\"application/octet-stream\"]'), true ); this.parentNode.remove(); </script></treescope-run-here> </div>"
      ],
      "text/plain": [
       "<IPython.core.display.HTML object>"
      ]
     },
     "metadata": {},
     "output_type": "display_data"
    },
    {
     "data": {
      "text/html": [
       "<treescope-run-here><script type=\"application/octet-stream\"> const root = ( Array.from(document.getElementsByClassName( \"treescope_out_b7fd8e29aafd477586d78d167ce66a77\")) .filter((elt) => !elt.dataset.stolen) )[0]; root.dataset.stolen = 1; this.parentNode.replaceChild(root, this); </script></treescope-run-here>"
      ],
      "text/plain": [
       "Selection(\n",
       "  selected_by_path=OrderedDict({\n",
       "    (): {\n",
       "      'a': 1,\n",
       "      'b': <jax.Array([0, 1, 2, 3, 4, 5, 6, 7, 8, 9], dtype=int32)>,\n",
       "      'c': [\n",
       "        {\n",
       "          'value': <jax.Array([ 0,  1,  2,  3,  4,  5,  6,  7,  8,  9, 10, 11], dtype=int32)>,\n",
       "        },\n",
       "        {\n",
       "          'value': <jax.Array([0., 0., 0., 0., 0., 0., 0.], dtype=float32)>,\n",
       "        },\n",
       "        {'value': 3},\n",
       "      ],\n",
       "    },\n",
       "  }),\n",
       "  remainder=SelectionHole(path=()),\n",
       ")"
      ]
     },
     "execution_count": 13,
     "metadata": {},
     "output_type": "execute_result"
    }
   ],
   "source": [
    "pz.select(my_nested_object)"
   ]
  },
  {
   "cell_type": "markdown",
   "metadata": {
    "id": "NcmUj1AF3xS1"
   },
   "source": [
    "You can also use the `.select()` attribute if you know your root object is a subclass of `pz.Struct`:"
   ]
  },
  {
   "cell_type": "code",
   "execution_count": 14,
   "metadata": {
    "execution": {
     "iopub.execute_input": "2024-07-07T03:15:25.919833Z",
     "iopub.status.busy": "2024-07-07T03:15:25.919513Z",
     "iopub.status.idle": "2024-07-07T03:15:25.925123Z",
     "shell.execute_reply": "2024-07-07T03:15:25.924921Z"
    },
    "id": "jqw3QPx9EzjR"
   },
   "outputs": [
    {
     "data": {
      "text/html": [
       "<script> (()=>{ if (customElements.get('treescope-container') === undefined) { class TreescopeContainer extends HTMLElement { constructor() { super(); this.attachShadow({mode: \"open\"}); this.defns = {}; this.state = {}; } } customElements.define(\"treescope-container\", TreescopeContainer); } if (customElements.get('treescope-run-here') === undefined) { class RunHere extends HTMLElement { constructor() { super() } connectedCallback() { const src = this.querySelector(\"script\").textContent; const fn = new Function(src); fn.call(this); this.remove(); } } customElements.define(\"treescope-run-here\", RunHere); } })(); </script> <treescope-container class=\"treescope_out_2c18d64f6ef344358123351a06eceee7\" ></treescope-container> <treescope-run-here><script type=\"application/octet-stream\"> const root = ( Array.from(document.getElementsByClassName( \"treescope_out_2c18d64f6ef344358123351a06eceee7\")) .filter((elt) => !elt.dataset.setup) )[0]; root.dataset.setup = 1; const msg = document.createElement(\"span\"); msg.style = \"color: #aaaaaa; font-family: monospace; transition: opacity 0.2s; opacity: 0.0;\"; msg.textContent = \"(Loading...)\"; root.state.loadingMsg = msg; root.shadowRoot.appendChild(msg); root.state.chain = new Promise((resolve, reject) => { const observer = new IntersectionObserver((entries) => { for (const entry of entries) { if (entry.isIntersecting) { resolve(); observer.disconnect(); return; } } }, {rootMargin: \"1000px\"}); window.setTimeout(() => { if (root.loadingMsg) { root.loadingMsg.style.opacity = \"1.0\"; } observer.observe(root); }, 0); }); root.state.deferring = false; const _insertNode = (node) => { for (let oldScript of node.querySelectorAll(\"script\")) { let newScript = document.createElement(\"script\"); newScript.type = oldScript.type; newScript.textContent = oldScript.textContent; oldScript.parentNode.replaceChild(newScript, oldScript); } if (root.state.loadingMsg) { root.state.loadingMsg.remove(); root.state.loadingMsg = null; } root.shadowRoot.appendChild(node); }; root.defns.insertContent = ((contentNode, compressed) => { if (compressed) { root.state.deferring = true; } if (root.state.deferring) { root.state.chain = (async () => { await root.state.chain; if (compressed) { const encoded = contentNode.textContent; const blob = new Blob([ Uint8Array.from(atob(encoded), (m) => m.codePointAt(0)) ]); const reader = blob.stream().pipeThrough( new DecompressionStream(\"deflate\") ).pipeThrough( new TextDecoderStream(\"utf-8\") ).getReader(); const parts = []; while (true) { const step = await reader.read(); if (step.done) { break; } parts.push(step.value); } const tpl = document.createElement('template'); tpl.innerHTML = parts.join(\"\"); _insertNode(tpl.content); } else { _insertNode(contentNode.content); } })(); } else { _insertNode(contentNode.content); } }); </script></treescope-run-here><div style=\"display:none\"> <script type=\"application/octet-stream\" >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</script> <treescope-run-here><script type=\"application/octet-stream\"> const root = ( Array.from(document.getElementsByClassName( \"treescope_out_2c18d64f6ef344358123351a06eceee7\")) .filter((elt) => !elt.dataset['step0']) )[0]; root.dataset['step0'] = 1; root.defns.insertContent( this.parentNode.querySelector('script[type=\"application/octet-stream\"]'), true ); this.parentNode.remove(); </script></treescope-run-here> </div>"
      ],
      "text/plain": [
       "<IPython.core.display.HTML object>"
      ]
     },
     "metadata": {},
     "output_type": "display_data"
    },
    {
     "data": {
      "text/html": [
       "<treescope-run-here><script type=\"application/octet-stream\"> const root = ( Array.from(document.getElementsByClassName( \"treescope_out_2c18d64f6ef344358123351a06eceee7\")) .filter((elt) => !elt.dataset.stolen) )[0]; root.dataset.stolen = 1; this.parentNode.replaceChild(root, this); </script></treescope-run-here>"
      ],
      "text/plain": [
       "Selection(\n",
       "  selected_by_path=OrderedDict({(): MyStruct(foo=4)}),\n",
       "  remainder=SelectionHole(path=()),\n",
       ")"
      ]
     },
     "execution_count": 14,
     "metadata": {},
     "output_type": "execute_result"
    }
   ],
   "source": [
    "@pz.pytree_dataclass\n",
    "class MyStruct(pz.Struct):\n",
    "  foo: typing.Any\n",
    "\n",
    "MyStruct(4).select()"
   ]
  },
  {
   "cell_type": "markdown",
   "metadata": {
    "id": "tTKPVIUrFbeT"
   },
   "source": [
    "You then call methods on the selection to *refine* it to a subset of the currently selected values. These methods all operate relative to the currently selected object, so if you chain them, each method's output is restricted to the values selected by the previous method."
   ]
  },
  {
   "cell_type": "markdown",
   "metadata": {
    "id": "cFdUT5KaFju9"
   },
   "source": [
    "### Selecting with a function\n",
    "If you want to select a specific part of a tree, you can use `selection.at(...)`. The `.at` method takes as input a *function* that extracts the part you want to select, and returns a new selection that selects the extracted part:"
   ]
  },
  {
   "cell_type": "code",
   "execution_count": 15,
   "metadata": {
    "execution": {
     "iopub.execute_input": "2024-07-07T03:15:25.932884Z",
     "iopub.status.busy": "2024-07-07T03:15:25.932645Z",
     "iopub.status.idle": "2024-07-07T03:15:25.944635Z",
     "shell.execute_reply": "2024-07-07T03:15:25.944430Z"
    },
    "id": "8ZgPZeKeGDzQ"
   },
   "outputs": [
    {
     "data": {
      "text/html": [
       "<script> (()=>{ if (customElements.get('treescope-container') === undefined) { class TreescopeContainer extends HTMLElement { constructor() { super(); this.attachShadow({mode: \"open\"}); this.defns = {}; this.state = {}; } } customElements.define(\"treescope-container\", TreescopeContainer); } if (customElements.get('treescope-run-here') === undefined) { class RunHere extends HTMLElement { constructor() { super() } connectedCallback() { const src = this.querySelector(\"script\").textContent; const fn = new Function(src); fn.call(this); this.remove(); } } customElements.define(\"treescope-run-here\", RunHere); } })(); </script> <treescope-container class=\"treescope_out_159973e6a7dc460387a439ee38225421\" ></treescope-container> <treescope-run-here><script type=\"application/octet-stream\"> const root = ( Array.from(document.getElementsByClassName( \"treescope_out_159973e6a7dc460387a439ee38225421\")) .filter((elt) => !elt.dataset.setup) )[0]; root.dataset.setup = 1; const msg = document.createElement(\"span\"); msg.style = \"color: #aaaaaa; font-family: monospace; transition: opacity 0.2s; opacity: 0.0;\"; msg.textContent = \"(Loading...)\"; root.state.loadingMsg = msg; root.shadowRoot.appendChild(msg); root.state.chain = new Promise((resolve, reject) => { const observer = new IntersectionObserver((entries) => { for (const entry of entries) { if (entry.isIntersecting) { resolve(); observer.disconnect(); return; } } }, {rootMargin: \"1000px\"}); window.setTimeout(() => { if (root.loadingMsg) { root.loadingMsg.style.opacity = \"1.0\"; } observer.observe(root); }, 0); }); root.state.deferring = false; const _insertNode = (node) => { for (let oldScript of node.querySelectorAll(\"script\")) { let newScript = document.createElement(\"script\"); newScript.type = oldScript.type; newScript.textContent = oldScript.textContent; oldScript.parentNode.replaceChild(newScript, oldScript); } if (root.state.loadingMsg) { root.state.loadingMsg.remove(); root.state.loadingMsg = null; } root.shadowRoot.appendChild(node); }; root.defns.insertContent = ((contentNode, compressed) => { if (compressed) { root.state.deferring = true; } if (root.state.deferring) { root.state.chain = (async () => { await root.state.chain; if (compressed) { const encoded = contentNode.textContent; const blob = new Blob([ Uint8Array.from(atob(encoded), (m) => m.codePointAt(0)) ]); const reader = blob.stream().pipeThrough( new DecompressionStream(\"deflate\") ).pipeThrough( new TextDecoderStream(\"utf-8\") ).getReader(); const parts = []; while (true) { const step = await reader.read(); if (step.done) { break; } parts.push(step.value); } const tpl = document.createElement('template'); tpl.innerHTML = parts.join(\"\"); _insertNode(tpl.content); } else { _insertNode(contentNode.content); } })(); } else { _insertNode(contentNode.content); } }); </script></treescope-run-here><div style=\"display:none\"> <script type=\"application/octet-stream\" >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</script> <treescope-run-here><script type=\"application/octet-stream\"> const root = ( Array.from(document.getElementsByClassName( \"treescope_out_159973e6a7dc460387a439ee38225421\")) .filter((elt) => !elt.dataset['step0']) )[0]; root.dataset['step0'] = 1; root.defns.insertContent( this.parentNode.querySelector('script[type=\"application/octet-stream\"]'), true ); this.parentNode.remove(); </script></treescope-run-here> </div>"
      ],
      "text/plain": [
       "<IPython.core.display.HTML object>"
      ]
     },
     "metadata": {},
     "output_type": "display_data"
    },
    {
     "data": {
      "text/html": [
       "<div style=\"display:none\"> <script type=\"application/octet-stream\" >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</script> <treescope-run-here><script type=\"application/octet-stream\"> const root = ( Array.from(document.getElementsByClassName( \"treescope_out_159973e6a7dc460387a439ee38225421\")) .filter((elt) => !elt.dataset['step1']) )[0]; root.dataset['step1'] = 1; root.defns.insertContent( this.parentNode.querySelector('script[type=\"application/octet-stream\"]'), true ); this.parentNode.remove(); </script></treescope-run-here> </div>"
      ],
      "text/plain": [
       "<IPython.core.display.HTML object>"
      ]
     },
     "metadata": {},
     "output_type": "display_data"
    },
    {
     "data": {
      "text/html": [
       "<treescope-run-here><script type=\"application/octet-stream\"> const root = ( Array.from(document.getElementsByClassName( \"treescope_out_159973e6a7dc460387a439ee38225421\")) .filter((elt) => !elt.dataset.stolen) )[0]; root.dataset.stolen = 1; this.parentNode.replaceChild(root, this); </script></treescope-run-here>"
      ],
      "text/plain": [
       "Selection(\n",
       "  selected_by_path=OrderedDict({\n",
       "    (DictKey(key='c'),):\n",
       "      [\n",
       "        {\n",
       "          'value': <jax.Array([ 0,  1,  2,  3,  4,  5,  6,  7,  8,  9, 10, 11], dtype=int32)>,\n",
       "        },\n",
       "        {'value': <jax.Array([0., 0., 0., 0., 0., 0., 0.], dtype=float32)>},\n",
       "        {'value': 3},\n",
       "      ],\n",
       "  }),\n",
       "  remainder={\n",
       "    'a': 1,\n",
       "    'b': <jax.Array([0, 1, 2, 3, 4, 5, 6, 7, 8, 9], dtype=int32)>,\n",
       "    'c': SelectionHole(path=(DictKey(key='c'),)),\n",
       "  },\n",
       ")"
      ]
     },
     "execution_count": 15,
     "metadata": {},
     "output_type": "execute_result"
    }
   ],
   "source": [
    "pz.select(my_nested_object).at(lambda root: root[\"c\"])"
   ]
  },
  {
   "cell_type": "code",
   "execution_count": 16,
   "metadata": {
    "execution": {
     "iopub.execute_input": "2024-07-07T03:15:25.951998Z",
     "iopub.status.busy": "2024-07-07T03:15:25.951612Z",
     "iopub.status.idle": "2024-07-07T03:15:25.964853Z",
     "shell.execute_reply": "2024-07-07T03:15:25.964993Z"
    },
    "id": "dAO2KhdyGFZ5"
   },
   "outputs": [
    {
     "data": {
      "text/html": [
       "<script> (()=>{ if (customElements.get('treescope-container') === undefined) { class TreescopeContainer extends HTMLElement { constructor() { super(); this.attachShadow({mode: \"open\"}); this.defns = {}; this.state = {}; } } customElements.define(\"treescope-container\", TreescopeContainer); } if (customElements.get('treescope-run-here') === undefined) { class RunHere extends HTMLElement { constructor() { super() } connectedCallback() { const src = this.querySelector(\"script\").textContent; const fn = new Function(src); fn.call(this); this.remove(); } } customElements.define(\"treescope-run-here\", RunHere); } })(); </script> <treescope-container class=\"treescope_out_72f6910add754202be237645486a00c5\" ></treescope-container> <treescope-run-here><script type=\"application/octet-stream\"> const root = ( Array.from(document.getElementsByClassName( \"treescope_out_72f6910add754202be237645486a00c5\")) .filter((elt) => !elt.dataset.setup) )[0]; root.dataset.setup = 1; const msg = document.createElement(\"span\"); msg.style = \"color: #aaaaaa; font-family: monospace; transition: opacity 0.2s; opacity: 0.0;\"; msg.textContent = \"(Loading...)\"; root.state.loadingMsg = msg; root.shadowRoot.appendChild(msg); root.state.chain = new Promise((resolve, reject) => { const observer = new IntersectionObserver((entries) => { for (const entry of entries) { if (entry.isIntersecting) { resolve(); observer.disconnect(); return; } } }, {rootMargin: \"1000px\"}); window.setTimeout(() => { if (root.loadingMsg) { root.loadingMsg.style.opacity = \"1.0\"; } observer.observe(root); }, 0); }); root.state.deferring = false; const _insertNode = (node) => { for (let oldScript of node.querySelectorAll(\"script\")) { let newScript = document.createElement(\"script\"); newScript.type = oldScript.type; newScript.textContent = oldScript.textContent; oldScript.parentNode.replaceChild(newScript, oldScript); } if (root.state.loadingMsg) { root.state.loadingMsg.remove(); root.state.loadingMsg = null; } root.shadowRoot.appendChild(node); }; root.defns.insertContent = ((contentNode, compressed) => { if (compressed) { root.state.deferring = true; } if (root.state.deferring) { root.state.chain = (async () => { await root.state.chain; if (compressed) { const encoded = contentNode.textContent; const blob = new Blob([ Uint8Array.from(atob(encoded), (m) => m.codePointAt(0)) ]); const reader = blob.stream().pipeThrough( new DecompressionStream(\"deflate\") ).pipeThrough( new TextDecoderStream(\"utf-8\") ).getReader(); const parts = []; while (true) { const step = await reader.read(); if (step.done) { break; } parts.push(step.value); } const tpl = document.createElement('template'); tpl.innerHTML = parts.join(\"\"); _insertNode(tpl.content); } else { _insertNode(contentNode.content); } })(); } else { _insertNode(contentNode.content); } }); </script></treescope-run-here><div style=\"display:none\"> <script type=\"application/octet-stream\" >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</script> <treescope-run-here><script type=\"application/octet-stream\"> const root = ( Array.from(document.getElementsByClassName( \"treescope_out_72f6910add754202be237645486a00c5\")) .filter((elt) => !elt.dataset['step0']) )[0]; root.dataset['step0'] = 1; root.defns.insertContent( this.parentNode.querySelector('script[type=\"application/octet-stream\"]'), true ); this.parentNode.remove(); </script></treescope-run-here> </div>"
      ],
      "text/plain": [
       "<IPython.core.display.HTML object>"
      ]
     },
     "metadata": {},
     "output_type": "display_data"
    },
    {
     "data": {
      "text/html": [
       "<div style=\"display:none\"> <script type=\"application/octet-stream\" >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</script> <treescope-run-here><script type=\"application/octet-stream\"> const root = ( Array.from(document.getElementsByClassName( \"treescope_out_72f6910add754202be237645486a00c5\")) .filter((elt) => !elt.dataset['step1']) )[0]; root.dataset['step1'] = 1; root.defns.insertContent( this.parentNode.querySelector('script[type=\"application/octet-stream\"]'), true ); this.parentNode.remove(); </script></treescope-run-here> </div>"
      ],
      "text/plain": [
       "<IPython.core.display.HTML object>"
      ]
     },
     "metadata": {},
     "output_type": "display_data"
    },
    {
     "data": {
      "text/html": [
       "<treescope-run-here><script type=\"application/octet-stream\"> const root = ( Array.from(document.getElementsByClassName( \"treescope_out_72f6910add754202be237645486a00c5\")) .filter((elt) => !elt.dataset.stolen) )[0]; root.dataset.stolen = 1; this.parentNode.replaceChild(root, this); </script></treescope-run-here>"
      ],
      "text/plain": [
       "Selection(\n",
       "  selected_by_path=OrderedDict({\n",
       "    (DictKey(key='c'), SequenceKey(idx=1), DictKey(key='value')):\n",
       "      <jax.Array([0., 0., 0., 0., 0., 0., 0.], dtype=float32)>,\n",
       "  }),\n",
       "  remainder={\n",
       "    'a': 1,\n",
       "    'b': <jax.Array([0, 1, 2, 3, 4, 5, 6, 7, 8, 9], dtype=int32)>,\n",
       "    'c': [\n",
       "      {\n",
       "        'value': <jax.Array([ 0,  1,  2,  3,  4,  5,  6,  7,  8,  9, 10, 11], dtype=int32)>,\n",
       "      },\n",
       "      {'value': SelectionHole(path=(DictKey(key='c'), SequenceKey(idx=1), DictKey(key='value')))},\n",
       "      {'value': 3},\n",
       "    ],\n",
       "  },\n",
       ")"
      ]
     },
     "execution_count": 16,
     "metadata": {},
     "output_type": "execute_result"
    }
   ],
   "source": [
    "pz.select(my_nested_object).at(lambda root: root[\"c\"][1][\"value\"])"
   ]
  },
  {
   "cell_type": "code",
   "execution_count": 17,
   "metadata": {
    "execution": {
     "iopub.execute_input": "2024-07-07T03:15:25.971918Z",
     "iopub.status.busy": "2024-07-07T03:15:25.971615Z",
     "iopub.status.idle": "2024-07-07T03:15:25.984267Z",
     "shell.execute_reply": "2024-07-07T03:15:25.984047Z"
    },
    "id": "go9pWFfoGHHz"
   },
   "outputs": [
    {
     "data": {
      "text/html": [
       "<script> (()=>{ if (customElements.get('treescope-container') === undefined) { class TreescopeContainer extends HTMLElement { constructor() { super(); this.attachShadow({mode: \"open\"}); this.defns = {}; this.state = {}; } } customElements.define(\"treescope-container\", TreescopeContainer); } if (customElements.get('treescope-run-here') === undefined) { class RunHere extends HTMLElement { constructor() { super() } connectedCallback() { const src = this.querySelector(\"script\").textContent; const fn = new Function(src); fn.call(this); this.remove(); } } customElements.define(\"treescope-run-here\", RunHere); } })(); </script> <treescope-container class=\"treescope_out_16acfdfd6e194372a7abf6ccc3705d1e\" ></treescope-container> <treescope-run-here><script type=\"application/octet-stream\"> const root = ( Array.from(document.getElementsByClassName( \"treescope_out_16acfdfd6e194372a7abf6ccc3705d1e\")) .filter((elt) => !elt.dataset.setup) )[0]; root.dataset.setup = 1; const msg = document.createElement(\"span\"); msg.style = \"color: #aaaaaa; font-family: monospace; transition: opacity 0.2s; opacity: 0.0;\"; msg.textContent = \"(Loading...)\"; root.state.loadingMsg = msg; root.shadowRoot.appendChild(msg); root.state.chain = new Promise((resolve, reject) => { const observer = new IntersectionObserver((entries) => { for (const entry of entries) { if (entry.isIntersecting) { resolve(); observer.disconnect(); return; } } }, {rootMargin: \"1000px\"}); window.setTimeout(() => { if (root.loadingMsg) { root.loadingMsg.style.opacity = \"1.0\"; } observer.observe(root); }, 0); }); root.state.deferring = false; const _insertNode = (node) => { for (let oldScript of node.querySelectorAll(\"script\")) { let newScript = document.createElement(\"script\"); newScript.type = oldScript.type; newScript.textContent = oldScript.textContent; oldScript.parentNode.replaceChild(newScript, oldScript); } if (root.state.loadingMsg) { root.state.loadingMsg.remove(); root.state.loadingMsg = null; } root.shadowRoot.appendChild(node); }; root.defns.insertContent = ((contentNode, compressed) => { if (compressed) { root.state.deferring = true; } if (root.state.deferring) { root.state.chain = (async () => { await root.state.chain; if (compressed) { const encoded = contentNode.textContent; const blob = new Blob([ Uint8Array.from(atob(encoded), (m) => m.codePointAt(0)) ]); const reader = blob.stream().pipeThrough( new DecompressionStream(\"deflate\") ).pipeThrough( new TextDecoderStream(\"utf-8\") ).getReader(); const parts = []; while (true) { const step = await reader.read(); if (step.done) { break; } parts.push(step.value); } const tpl = document.createElement('template'); tpl.innerHTML = parts.join(\"\"); _insertNode(tpl.content); } else { _insertNode(contentNode.content); } })(); } else { _insertNode(contentNode.content); } }); </script></treescope-run-here><div style=\"display:none\"> <script type=\"application/octet-stream\" >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</script> <treescope-run-here><script type=\"application/octet-stream\"> const root = ( Array.from(document.getElementsByClassName( \"treescope_out_16acfdfd6e194372a7abf6ccc3705d1e\")) .filter((elt) => !elt.dataset['step0']) )[0]; root.dataset['step0'] = 1; root.defns.insertContent( this.parentNode.querySelector('script[type=\"application/octet-stream\"]'), true ); this.parentNode.remove(); </script></treescope-run-here> </div>"
      ],
      "text/plain": [
       "<IPython.core.display.HTML object>"
      ]
     },
     "metadata": {},
     "output_type": "display_data"
    },
    {
     "data": {
      "text/html": [
       "<div style=\"display:none\"> <script type=\"application/octet-stream\" >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</script> <treescope-run-here><script type=\"application/octet-stream\"> const root = ( Array.from(document.getElementsByClassName( \"treescope_out_16acfdfd6e194372a7abf6ccc3705d1e\")) .filter((elt) => !elt.dataset['step1']) )[0]; root.dataset['step1'] = 1; root.defns.insertContent( this.parentNode.querySelector('script[type=\"application/octet-stream\"]'), true ); this.parentNode.remove(); </script></treescope-run-here> </div>"
      ],
      "text/plain": [
       "<IPython.core.display.HTML object>"
      ]
     },
     "metadata": {},
     "output_type": "display_data"
    },
    {
     "data": {
      "text/html": [
       "<treescope-run-here><script type=\"application/octet-stream\"> const root = ( Array.from(document.getElementsByClassName( \"treescope_out_16acfdfd6e194372a7abf6ccc3705d1e\")) .filter((elt) => !elt.dataset.stolen) )[0]; root.dataset.stolen = 1; this.parentNode.replaceChild(root, this); </script></treescope-run-here>"
      ],
      "text/plain": [
       "Selection(\n",
       "  selected_by_path=OrderedDict({\n",
       "    (DictKey(key='b'),):\n",
       "      <jax.Array([0, 1, 2, 3, 4, 5, 6, 7, 8, 9], dtype=int32)>,\n",
       "  }),\n",
       "  remainder={\n",
       "    'a': 1,\n",
       "    'b': SelectionHole(path=(DictKey(key='b'),)),\n",
       "    'c': [\n",
       "      {\n",
       "        'value': <jax.Array([ 0,  1,  2,  3,  4,  5,  6,  7,  8,  9, 10, 11], dtype=int32)>,\n",
       "      },\n",
       "      {'value': <jax.Array([0., 0., 0., 0., 0., 0., 0.], dtype=float32)>},\n",
       "      {'value': 3},\n",
       "    ],\n",
       "  },\n",
       ")"
      ]
     },
     "execution_count": 17,
     "metadata": {},
     "output_type": "execute_result"
    }
   ],
   "source": [
    "pz.select(my_nested_object).at(lambda root: root[\"b\"])"
   ]
  },
  {
   "cell_type": "markdown",
   "metadata": {
    "id": "jBtV4TmU3_Az"
   },
   "source": [
    "Later `at` calls in a chain are relative to the currently selected part:"
   ]
  },
  {
   "cell_type": "code",
   "execution_count": 18,
   "metadata": {
    "execution": {
     "iopub.execute_input": "2024-07-07T03:15:25.993505Z",
     "iopub.status.busy": "2024-07-07T03:15:25.993167Z",
     "iopub.status.idle": "2024-07-07T03:15:26.009284Z",
     "shell.execute_reply": "2024-07-07T03:15:26.008952Z"
    },
    "id": "Z8xrYRKXMVbX"
   },
   "outputs": [
    {
     "data": {
      "text/html": [
       "<script> (()=>{ if (customElements.get('treescope-container') === undefined) { class TreescopeContainer extends HTMLElement { constructor() { super(); this.attachShadow({mode: \"open\"}); this.defns = {}; this.state = {}; } } customElements.define(\"treescope-container\", TreescopeContainer); } if (customElements.get('treescope-run-here') === undefined) { class RunHere extends HTMLElement { constructor() { super() } connectedCallback() { const src = this.querySelector(\"script\").textContent; const fn = new Function(src); fn.call(this); this.remove(); } } customElements.define(\"treescope-run-here\", RunHere); } })(); </script> <treescope-container class=\"treescope_out_bdc0b68cb1c4471f83065a94dba3949f\" ></treescope-container> <treescope-run-here><script type=\"application/octet-stream\"> const root = ( Array.from(document.getElementsByClassName( \"treescope_out_bdc0b68cb1c4471f83065a94dba3949f\")) .filter((elt) => !elt.dataset.setup) )[0]; root.dataset.setup = 1; const msg = document.createElement(\"span\"); msg.style = \"color: #aaaaaa; font-family: monospace; transition: opacity 0.2s; opacity: 0.0;\"; msg.textContent = \"(Loading...)\"; root.state.loadingMsg = msg; root.shadowRoot.appendChild(msg); root.state.chain = new Promise((resolve, reject) => { const observer = new IntersectionObserver((entries) => { for (const entry of entries) { if (entry.isIntersecting) { resolve(); observer.disconnect(); return; } } }, {rootMargin: \"1000px\"}); window.setTimeout(() => { if (root.loadingMsg) { root.loadingMsg.style.opacity = \"1.0\"; } observer.observe(root); }, 0); }); root.state.deferring = false; const _insertNode = (node) => { for (let oldScript of node.querySelectorAll(\"script\")) { let newScript = document.createElement(\"script\"); newScript.type = oldScript.type; newScript.textContent = oldScript.textContent; oldScript.parentNode.replaceChild(newScript, oldScript); } if (root.state.loadingMsg) { root.state.loadingMsg.remove(); root.state.loadingMsg = null; } root.shadowRoot.appendChild(node); }; root.defns.insertContent = ((contentNode, compressed) => { if (compressed) { root.state.deferring = true; } if (root.state.deferring) { root.state.chain = (async () => { await root.state.chain; if (compressed) { const encoded = contentNode.textContent; const blob = new Blob([ Uint8Array.from(atob(encoded), (m) => m.codePointAt(0)) ]); const reader = blob.stream().pipeThrough( new DecompressionStream(\"deflate\") ).pipeThrough( new TextDecoderStream(\"utf-8\") ).getReader(); const parts = []; while (true) { const step = await reader.read(); if (step.done) { break; } parts.push(step.value); } const tpl = document.createElement('template'); tpl.innerHTML = parts.join(\"\"); _insertNode(tpl.content); } else { _insertNode(contentNode.content); } })(); } else { _insertNode(contentNode.content); } }); </script></treescope-run-here><div style=\"display:none\"> <script type=\"application/octet-stream\" >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</script> <treescope-run-here><script type=\"application/octet-stream\"> const root = ( Array.from(document.getElementsByClassName( \"treescope_out_bdc0b68cb1c4471f83065a94dba3949f\")) .filter((elt) => !elt.dataset['step0']) )[0]; root.dataset['step0'] = 1; root.defns.insertContent( this.parentNode.querySelector('script[type=\"application/octet-stream\"]'), true ); this.parentNode.remove(); </script></treescope-run-here> </div>"
      ],
      "text/plain": [
       "<IPython.core.display.HTML object>"
      ]
     },
     "metadata": {},
     "output_type": "display_data"
    },
    {
     "data": {
      "text/html": [
       "<div style=\"display:none\"> <script type=\"application/octet-stream\" >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</script> <treescope-run-here><script type=\"application/octet-stream\"> const root = ( Array.from(document.getElementsByClassName( \"treescope_out_bdc0b68cb1c4471f83065a94dba3949f\")) .filter((elt) => !elt.dataset['step1']) )[0]; root.dataset['step1'] = 1; root.defns.insertContent( this.parentNode.querySelector('script[type=\"application/octet-stream\"]'), true ); this.parentNode.remove(); </script></treescope-run-here> </div>"
      ],
      "text/plain": [
       "<IPython.core.display.HTML object>"
      ]
     },
     "metadata": {},
     "output_type": "display_data"
    },
    {
     "data": {
      "text/html": [
       "<treescope-run-here><script type=\"application/octet-stream\"> const root = ( Array.from(document.getElementsByClassName( \"treescope_out_bdc0b68cb1c4471f83065a94dba3949f\")) .filter((elt) => !elt.dataset.stolen) )[0]; root.dataset.stolen = 1; this.parentNode.replaceChild(root, this); </script></treescope-run-here>"
      ],
      "text/plain": [
       "Selection(\n",
       "  selected_by_path=OrderedDict({\n",
       "    (DictKey(key='c'), SequenceKey(idx=0), DictKey(key='value')):\n",
       "      <jax.Array([ 0,  1,  2,  3,  4,  5,  6,  7,  8,  9, 10, 11], dtype=int32)>,\n",
       "    (DictKey(key='c'), SequenceKey(idx=1), DictKey(key='value')):\n",
       "      <jax.Array([0., 0., 0., 0., 0., 0., 0.], dtype=float32)>,\n",
       "  }),\n",
       "  remainder={\n",
       "    'a': 1,\n",
       "    'b': <jax.Array([0, 1, 2, 3, 4, 5, 6, 7, 8, 9], dtype=int32)>,\n",
       "    'c': [{'value': SelectionHole(path=(DictKey(key='c'), SequenceKey(idx=0), DictKey(key='value')))}, {'value': SelectionHole(path=(DictKey(key='c'), SequenceKey(idx=1), DictKey(key='value')))}, {'value': 3}],\n",
       "  },\n",
       ")"
      ]
     },
     "execution_count": 18,
     "metadata": {},
     "output_type": "execute_result"
    }
   ],
   "source": [
    "(\n",
    "    pz.select(my_nested_object)\n",
    "    .at(lambda root: (root[\"c\"][0], root[\"c\"][1]))\n",
    "    .at(lambda subtree: subtree[\"value\"])\n",
    ")"
   ]
  },
  {
   "cell_type": "markdown",
   "metadata": {
    "id": "Dy30CsovGJz5"
   },
   "source": [
    "There are a few restrictions on the function that is used to select a subtree. In particular:\n",
    "- your function can't depend on the actual value passed in, only on its PyTree structure,\n",
    "- your function should return a single node or tuple of nodes from the PyTree.\n",
    "\n",
    "Internally, `Selection.at` is implemented using [`equinox.tree_at`](https://docs.kidger.site/equinox/api/manipulation/#equinox.tree_at), which takes care of most of the heavy lifting."
   ]
  },
  {
   "cell_type": "markdown",
   "metadata": {
    "id": "KAmBjvkVHSMg"
   },
   "source": [
    "### Selecting by type\n",
    "\n",
    "If you want to select all subtrees with a particular type, you can use `Selection.at_instances_of`:"
   ]
  },
  {
   "cell_type": "code",
   "execution_count": 19,
   "metadata": {
    "execution": {
     "iopub.execute_input": "2024-07-07T03:15:26.017549Z",
     "iopub.status.busy": "2024-07-07T03:15:26.017276Z",
     "iopub.status.idle": "2024-07-07T03:15:26.031687Z",
     "shell.execute_reply": "2024-07-07T03:15:26.031404Z"
    },
    "id": "y438yc3_HgEg"
   },
   "outputs": [
    {
     "data": {
      "text/html": [
       "<script> (()=>{ if (customElements.get('treescope-container') === undefined) { class TreescopeContainer extends HTMLElement { constructor() { super(); this.attachShadow({mode: \"open\"}); this.defns = {}; this.state = {}; } } customElements.define(\"treescope-container\", TreescopeContainer); } if (customElements.get('treescope-run-here') === undefined) { class RunHere extends HTMLElement { constructor() { super() } connectedCallback() { const src = this.querySelector(\"script\").textContent; const fn = new Function(src); fn.call(this); this.remove(); } } customElements.define(\"treescope-run-here\", RunHere); } })(); </script> <treescope-container class=\"treescope_out_3a9092fa63e244c8995315cd9a32eb24\" ></treescope-container> <treescope-run-here><script type=\"application/octet-stream\"> const root = ( Array.from(document.getElementsByClassName( \"treescope_out_3a9092fa63e244c8995315cd9a32eb24\")) .filter((elt) => !elt.dataset.setup) )[0]; root.dataset.setup = 1; const msg = document.createElement(\"span\"); msg.style = \"color: #aaaaaa; font-family: monospace; transition: opacity 0.2s; opacity: 0.0;\"; msg.textContent = \"(Loading...)\"; root.state.loadingMsg = msg; root.shadowRoot.appendChild(msg); root.state.chain = new Promise((resolve, reject) => { const observer = new IntersectionObserver((entries) => { for (const entry of entries) { if (entry.isIntersecting) { resolve(); observer.disconnect(); return; } } }, {rootMargin: \"1000px\"}); window.setTimeout(() => { if (root.loadingMsg) { root.loadingMsg.style.opacity = \"1.0\"; } observer.observe(root); }, 0); }); root.state.deferring = false; const _insertNode = (node) => { for (let oldScript of node.querySelectorAll(\"script\")) { let newScript = document.createElement(\"script\"); newScript.type = oldScript.type; newScript.textContent = oldScript.textContent; oldScript.parentNode.replaceChild(newScript, oldScript); } if (root.state.loadingMsg) { root.state.loadingMsg.remove(); root.state.loadingMsg = null; } root.shadowRoot.appendChild(node); }; root.defns.insertContent = ((contentNode, compressed) => { if (compressed) { root.state.deferring = true; } if (root.state.deferring) { root.state.chain = (async () => { await root.state.chain; if (compressed) { const encoded = contentNode.textContent; const blob = new Blob([ Uint8Array.from(atob(encoded), (m) => m.codePointAt(0)) ]); const reader = blob.stream().pipeThrough( new DecompressionStream(\"deflate\") ).pipeThrough( new TextDecoderStream(\"utf-8\") ).getReader(); const parts = []; while (true) { const step = await reader.read(); if (step.done) { break; } parts.push(step.value); } const tpl = document.createElement('template'); tpl.innerHTML = parts.join(\"\"); _insertNode(tpl.content); } else { _insertNode(contentNode.content); } })(); } else { _insertNode(contentNode.content); } }); </script></treescope-run-here><div style=\"display:none\"> <script type=\"application/octet-stream\" >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</script> <treescope-run-here><script type=\"application/octet-stream\"> const root = ( Array.from(document.getElementsByClassName( \"treescope_out_3a9092fa63e244c8995315cd9a32eb24\")) .filter((elt) => !elt.dataset['step0']) )[0]; root.dataset['step0'] = 1; root.defns.insertContent( this.parentNode.querySelector('script[type=\"application/octet-stream\"]'), true ); this.parentNode.remove(); </script></treescope-run-here> </div>"
      ],
      "text/plain": [
       "<IPython.core.display.HTML object>"
      ]
     },
     "metadata": {},
     "output_type": "display_data"
    },
    {
     "data": {
      "text/html": [
       "<div style=\"display:none\"> <script type=\"application/octet-stream\" >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</script> <treescope-run-here><script type=\"application/octet-stream\"> const root = ( Array.from(document.getElementsByClassName( \"treescope_out_3a9092fa63e244c8995315cd9a32eb24\")) .filter((elt) => !elt.dataset['step1']) )[0]; root.dataset['step1'] = 1; root.defns.insertContent( this.parentNode.querySelector('script[type=\"application/octet-stream\"]'), true ); this.parentNode.remove(); </script></treescope-run-here> </div>"
      ],
      "text/plain": [
       "<IPython.core.display.HTML object>"
      ]
     },
     "metadata": {},
     "output_type": "display_data"
    },
    {
     "data": {
      "text/html": [
       "<treescope-run-here><script type=\"application/octet-stream\"> const root = ( Array.from(document.getElementsByClassName( \"treescope_out_3a9092fa63e244c8995315cd9a32eb24\")) .filter((elt) => !elt.dataset.stolen) )[0]; root.dataset.stolen = 1; this.parentNode.replaceChild(root, this); </script></treescope-run-here>"
      ],
      "text/plain": [
       "Selection(\n",
       "  selected_by_path=OrderedDict({\n",
       "    (DictKey(key='a'),):\n",
       "      1,\n",
       "    (DictKey(key='c'), SequenceKey(idx=2), DictKey(key='value')):\n",
       "      3,\n",
       "  }),\n",
       "  remainder={\n",
       "    'a': SelectionHole(path=(DictKey(key='a'),)),\n",
       "    'b': <jax.Array([0, 1, 2, 3, 4, 5, 6, 7, 8, 9], dtype=int32)>,\n",
       "    'c': [{'value': <jax.Array([ 0,  1,  2,  3,  4,  5,  6,  7,  8,  9, 10, 11], dtype=int32)>}, {'value': <jax.Array([0., 0., 0., 0., 0., 0., 0.], dtype=float32)>}, {'value': SelectionHole(path=(DictKey(key='c'), SequenceKey(idx=2), DictKey(key='value')))}],\n",
       "  },\n",
       ")"
      ]
     },
     "execution_count": 19,
     "metadata": {},
     "output_type": "execute_result"
    }
   ],
   "source": [
    "pz.select(my_nested_object).at_instances_of(int)"
   ]
  },
  {
   "cell_type": "markdown",
   "metadata": {
    "id": "wIjWns9HHiXj"
   },
   "source": [
    "This selects any subtree for which `isinstance(subtree, requested_type)` evaluates to True.\n",
    "\n",
    "Note that selections cannot be nested, so this only selects the *outermost* value with the given type:"
   ]
  },
  {
   "cell_type": "code",
   "execution_count": 20,
   "metadata": {
    "execution": {
     "iopub.execute_input": "2024-07-07T03:15:26.038534Z",
     "iopub.status.busy": "2024-07-07T03:15:26.038290Z",
     "iopub.status.idle": "2024-07-07T03:15:26.050287Z",
     "shell.execute_reply": "2024-07-07T03:15:26.049977Z"
    },
    "id": "sopg1pzrH2ZX"
   },
   "outputs": [
    {
     "data": {
      "text/html": [
       "<script> (()=>{ if (customElements.get('treescope-container') === undefined) { class TreescopeContainer extends HTMLElement { constructor() { super(); this.attachShadow({mode: \"open\"}); this.defns = {}; this.state = {}; } } customElements.define(\"treescope-container\", TreescopeContainer); } if (customElements.get('treescope-run-here') === undefined) { class RunHere extends HTMLElement { constructor() { super() } connectedCallback() { const src = this.querySelector(\"script\").textContent; const fn = new Function(src); fn.call(this); this.remove(); } } customElements.define(\"treescope-run-here\", RunHere); } })(); </script> <treescope-container class=\"treescope_out_70fd90b00ca1408180ee59e59f3ef9fc\" ></treescope-container> <treescope-run-here><script type=\"application/octet-stream\"> const root = ( Array.from(document.getElementsByClassName( \"treescope_out_70fd90b00ca1408180ee59e59f3ef9fc\")) .filter((elt) => !elt.dataset.setup) )[0]; root.dataset.setup = 1; const msg = document.createElement(\"span\"); msg.style = \"color: #aaaaaa; font-family: monospace; transition: opacity 0.2s; opacity: 0.0;\"; msg.textContent = \"(Loading...)\"; root.state.loadingMsg = msg; root.shadowRoot.appendChild(msg); root.state.chain = new Promise((resolve, reject) => { const observer = new IntersectionObserver((entries) => { for (const entry of entries) { if (entry.isIntersecting) { resolve(); observer.disconnect(); return; } } }, {rootMargin: \"1000px\"}); window.setTimeout(() => { if (root.loadingMsg) { root.loadingMsg.style.opacity = \"1.0\"; } observer.observe(root); }, 0); }); root.state.deferring = false; const _insertNode = (node) => { for (let oldScript of node.querySelectorAll(\"script\")) { let newScript = document.createElement(\"script\"); newScript.type = oldScript.type; newScript.textContent = oldScript.textContent; oldScript.parentNode.replaceChild(newScript, oldScript); } if (root.state.loadingMsg) { root.state.loadingMsg.remove(); root.state.loadingMsg = null; } root.shadowRoot.appendChild(node); }; root.defns.insertContent = ((contentNode, compressed) => { if (compressed) { root.state.deferring = true; } if (root.state.deferring) { root.state.chain = (async () => { await root.state.chain; if (compressed) { const encoded = contentNode.textContent; const blob = new Blob([ Uint8Array.from(atob(encoded), (m) => m.codePointAt(0)) ]); const reader = blob.stream().pipeThrough( new DecompressionStream(\"deflate\") ).pipeThrough( new TextDecoderStream(\"utf-8\") ).getReader(); const parts = []; while (true) { const step = await reader.read(); if (step.done) { break; } parts.push(step.value); } const tpl = document.createElement('template'); tpl.innerHTML = parts.join(\"\"); _insertNode(tpl.content); } else { _insertNode(contentNode.content); } })(); } else { _insertNode(contentNode.content); } }); </script></treescope-run-here><div style=\"display:none\"> <script type=\"application/octet-stream\" >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</script> <treescope-run-here><script type=\"application/octet-stream\"> const root = ( Array.from(document.getElementsByClassName( \"treescope_out_70fd90b00ca1408180ee59e59f3ef9fc\")) .filter((elt) => !elt.dataset['step0']) )[0]; root.dataset['step0'] = 1; root.defns.insertContent( this.parentNode.querySelector('script[type=\"application/octet-stream\"]'), true ); this.parentNode.remove(); </script></treescope-run-here> </div>"
      ],
      "text/plain": [
       "<IPython.core.display.HTML object>"
      ]
     },
     "metadata": {},
     "output_type": "display_data"
    },
    {
     "data": {
      "text/html": [
       "<div style=\"display:none\"> <script type=\"application/octet-stream\" >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</script> <treescope-run-here><script type=\"application/octet-stream\"> const root = ( Array.from(document.getElementsByClassName( \"treescope_out_70fd90b00ca1408180ee59e59f3ef9fc\")) .filter((elt) => !elt.dataset['step1']) )[0]; root.dataset['step1'] = 1; root.defns.insertContent( this.parentNode.querySelector('script[type=\"application/octet-stream\"]'), true ); this.parentNode.remove(); </script></treescope-run-here> </div>"
      ],
      "text/plain": [
       "<IPython.core.display.HTML object>"
      ]
     },
     "metadata": {},
     "output_type": "display_data"
    },
    {
     "data": {
      "text/html": [
       "<treescope-run-here><script type=\"application/octet-stream\"> const root = ( Array.from(document.getElementsByClassName( \"treescope_out_70fd90b00ca1408180ee59e59f3ef9fc\")) .filter((elt) => !elt.dataset.stolen) )[0]; root.dataset.stolen = 1; this.parentNode.replaceChild(root, this); </script></treescope-run-here>"
      ],
      "text/plain": [
       "Selection(\n",
       "  selected_by_path=OrderedDict({\n",
       "    (): {\n",
       "      'a': 1,\n",
       "      'b': <jax.Array([0, 1, 2, 3, 4, 5, 6, 7, 8, 9], dtype=int32)>,\n",
       "      'c': [\n",
       "        {\n",
       "          'value': <jax.Array([ 0,  1,  2,  3,  4,  5,  6,  7,  8,  9, 10, 11], dtype=int32)>,\n",
       "        },\n",
       "        {\n",
       "          'value': <jax.Array([0., 0., 0., 0., 0., 0., 0.], dtype=float32)>,\n",
       "        },\n",
       "        {'value': 3},\n",
       "      ],\n",
       "    },\n",
       "  }),\n",
       "  remainder=SelectionHole(path=()),\n",
       ")"
      ]
     },
     "execution_count": 20,
     "metadata": {},
     "output_type": "execute_result"
    }
   ],
   "source": [
    "pz.select(my_nested_object).at_instances_of(dict)"
   ]
  },
  {
   "cell_type": "markdown",
   "metadata": {
    "id": "R-Qm4rBaHkNW"
   },
   "source": [
    "### Selecting by condition\n",
    "More generally, you can select all subtrees for which a function evaluates to true:"
   ]
  },
  {
   "cell_type": "code",
   "execution_count": 21,
   "metadata": {
    "execution": {
     "iopub.execute_input": "2024-07-07T03:15:26.058498Z",
     "iopub.status.busy": "2024-07-07T03:15:26.058251Z",
     "iopub.status.idle": "2024-07-07T03:15:26.072457Z",
     "shell.execute_reply": "2024-07-07T03:15:26.072242Z"
    },
    "id": "yK6nvVfWH-Jh"
   },
   "outputs": [
    {
     "data": {
      "text/html": [
       "<script> (()=>{ if (customElements.get('treescope-container') === undefined) { class TreescopeContainer extends HTMLElement { constructor() { super(); this.attachShadow({mode: \"open\"}); this.defns = {}; this.state = {}; } } customElements.define(\"treescope-container\", TreescopeContainer); } if (customElements.get('treescope-run-here') === undefined) { class RunHere extends HTMLElement { constructor() { super() } connectedCallback() { const src = this.querySelector(\"script\").textContent; const fn = new Function(src); fn.call(this); this.remove(); } } customElements.define(\"treescope-run-here\", RunHere); } })(); </script> <treescope-container class=\"treescope_out_ec943b0985ee491a9d8c82561ea4a998\" ></treescope-container> <treescope-run-here><script type=\"application/octet-stream\"> const root = ( Array.from(document.getElementsByClassName( \"treescope_out_ec943b0985ee491a9d8c82561ea4a998\")) .filter((elt) => !elt.dataset.setup) )[0]; root.dataset.setup = 1; const msg = document.createElement(\"span\"); msg.style = \"color: #aaaaaa; font-family: monospace; transition: opacity 0.2s; opacity: 0.0;\"; msg.textContent = \"(Loading...)\"; root.state.loadingMsg = msg; root.shadowRoot.appendChild(msg); root.state.chain = new Promise((resolve, reject) => { const observer = new IntersectionObserver((entries) => { for (const entry of entries) { if (entry.isIntersecting) { resolve(); observer.disconnect(); return; } } }, {rootMargin: \"1000px\"}); window.setTimeout(() => { if (root.loadingMsg) { root.loadingMsg.style.opacity = \"1.0\"; } observer.observe(root); }, 0); }); root.state.deferring = false; const _insertNode = (node) => { for (let oldScript of node.querySelectorAll(\"script\")) { let newScript = document.createElement(\"script\"); newScript.type = oldScript.type; newScript.textContent = oldScript.textContent; oldScript.parentNode.replaceChild(newScript, oldScript); } if (root.state.loadingMsg) { root.state.loadingMsg.remove(); root.state.loadingMsg = null; } root.shadowRoot.appendChild(node); }; root.defns.insertContent = ((contentNode, compressed) => { if (compressed) { root.state.deferring = true; } if (root.state.deferring) { root.state.chain = (async () => { await root.state.chain; if (compressed) { const encoded = contentNode.textContent; const blob = new Blob([ Uint8Array.from(atob(encoded), (m) => m.codePointAt(0)) ]); const reader = blob.stream().pipeThrough( new DecompressionStream(\"deflate\") ).pipeThrough( new TextDecoderStream(\"utf-8\") ).getReader(); const parts = []; while (true) { const step = await reader.read(); if (step.done) { break; } parts.push(step.value); } const tpl = document.createElement('template'); tpl.innerHTML = parts.join(\"\"); _insertNode(tpl.content); } else { _insertNode(contentNode.content); } })(); } else { _insertNode(contentNode.content); } }); </script></treescope-run-here><div style=\"display:none\"> <script type=\"application/octet-stream\" >eNrtGwtT2sr6r2zTmSNcJRJeClbmBuRlq1ax1drT4W6STbISkpgsIJ7xv99vN8gzUmu1rT3FGYObb7/Xfu/ENyEbOaQss4CQUPd80gk8j6F/kO+FlFHPLaGAOJjRAdlBpueylIl71BmVUM9zvdDHOqwPbcpISvxRQn4AKw4NWUqgTrGRD6uu58KyhvWuFXh910jpnuMFpWjrDhr/pTkAAPiowewSMikDMJcRl+0gHxsGda2UQ0xWQhnd5kRckrIJtWxYUeQ8R+MyTIHnybbxl9SAhlSjDmXAOe4zbwKboi4LqBtSPRXSGxLdHbN7+2YzUs+biXpSQd8FmgGshXpAfYa4fLtr2PcdqmOusU1PZ4RLHxDcWysnEsndMigU6IUMGcR0Q7SLmE1D2SLsBLR96BkkkZRtL2SyuA+iEYY6PnG5yKrOsfJNn7/E3Wli13AI3Hb7jrMTUZCBzbbnubCaGHpBN4lmefDOYInfmltmVOeLPglML+hhVyey6w0TSXG+QCCxdAelok1vUDaTBDzURIkFrmWHuBaz0e4uSnOQlawHhPUDF/SOiBOSKWN23+WcLaIObWoyzp8A4F9u4eceCgmwKtfwhnJArvokZKpLe+K46gHukUSkkyTHsbNEyO+HdqTGnRgZ70jsRmKskPLhPHAuooNknmU5kVd2hOeAtfocF18hDttAZAAGPj5Jzp34W+6SEVe6FEicoTGwrDs4DN+Bc47xJqQJzk4PzFC6I36bBH2C+QsbL7/ZjHMAgw6QQLgrzYcPCTGsgaTkeldKS8hzgRkQ2wW4VWYfL2uC77mTUgK3iwKWiBgd3ev1YF2Yioggr7H4cCkWQHDJ9ViiZHsDEiRj4Mfgbr+nkWAGYbq4reQLU4CQhwtrlmJWySt5DgBSkCAgRseHOEZszzHmMOEt/jMOo0KMEqIMQ9zgm00AxxqI74Je7gnAINQcWCfSGEAbNASio7tAuwiIysjBGnFKJY2AD5MZrnTx2YmlFwXblMKj7Tgop3emtKgrQrDmeDxq30tTqHyZsoGDbkiwBabjLu8Wp7WwZOMwURY4y7F6iE5Yt4neJUYyif6TnPLAt8ZvuoOf41BkjRJa+zuT1/S1n8ne/KZ7mSz8ACb5OXLC/SDkB+h7kDtJEEOXhk9HVriCIJQSMSC8z8afhupUPEau2TIVmYYdkwYh63huh5t/jGutciU5k+feFHtU6LvZj058kUUuVQ8HFlQ7ERvCoW+/kxrEQ3+k9RmDMiMuAE1vxxmthKQFKFAklJDxwH8TJWdICxXo2gEGq6DYQe1RT/OcEB31GZfXQNVoJ1z9EThGaki0LlSTUeTtQX6xIYZDrecy2E5xSIxJDfqapPnPzrKZR7tFkZiWi6S3KGXkHzFSxIe76U55iMOODnkAFDvZj002lz3u4vQqmgt75knOqh4NcJBIpQzMcAq7cLCiDEnOLnMivLYKsHtnzQItUkJEQGNQOKe8Pvs2USYcwMFQYrya50SQRK9oz/cCht0l3FrgdYnb4SvTYPR17c5sm9Hn3THfyrxSAcaMjg51rhEQd8zqfCcBOOcBnyi6zrjOOJHOuaqOHT0B7Q7U2op/LcozOWSY75/w+2ycaF4AJcyYE8NjIDvnYlZ5YAIk0LzrDlh7x4v8bxbTfI0w7uK4A2Xy3INgJ3cpsTamBktCSo50SJn9vFifRncbKFYRz3Yw42Ksh6+nHfKtfNXHjgudRAd6cJNew765kLUtQpYcEoeIvqSj8RobB9wrIi1BYw2nG3oONZA+wu6CBXAznL05i+suV8/4YwQkWBiOu3SI0ka0z8cBRG+RnsJn9ifuMTH0ntNxQEIb805giAMXzHBRPa9NE+tKNgbQh+7un8m0IxgPN3i+HoeF8VIqLYtCYjpSKYmBCA5SVoANCiaRULJ5g1gbyIMYbhGUBhso6PZGFNNBITxDiiU0jitLrCyVEk+msbkgdyfMrTy0RaR2HOxDUv56Y/PtVcv9FKKgImgIIHIN2cu4F+Yp+IgjMRY0Api2/HGqmG+75fleHq3AsCiqOzddiAd8CLF78TzhQI3PONArNQjwSDYDr5cwPL3PW3yZh5pQHmCnT8JEMimHXo8kRADi0xF+laPakU9GHlg9SmsoiZKTWVRoE8L4wIoMUbXdbnNp2nyNj5/ETTkgov1vj1w98b//jitWndxF42+vXmfnBS4fwDkLUTWXhlQcBnoJ9QMnwUupEr+/OfRMM7OjQbFWyG0Y6WLjwFIrqvi0jlXVE98qJ0P43ayrak1d9an0VNXqem+NVq1SHX5S1dNP1X31oFWpqnXrutV8Z7OwckCJla3vnWfetQqfBm2/T98f5E+V/fPWyceDwdnBDXs/qter62dW95RW9tI23Tvu79eMxmW6qW2ag5bhX70t2FdnlB73D9yG3TQ/MPVDoXIY5NR6y+3WCvqHft9dP8lf6WF3ODDrzubVtVXzti1tf9jYVprqpque5N8Fwb5ysm7dpE+MtLpvKtbhVnXYuMxYaW/UP9na6tWUwrB5XjyyLJ+cdkc50tJu8roWHDUYVq3j1uFwD4ej8Ljfap2f1epD9f2x3/pkfNjcXLe2TrfOsyxtvn1/pQ7ygPOderilHgzVnnVz0l7vX7RJ7fw6Yxb0m8PcSXOU71fUtzeVS7/uZ2nzuFpLX/Tf59pbrll5V2vWD3oqXd8e1DK2q9hb69rH4fnlsBkM9hofqu6lWatZbP1Iv3CcrXyxuj+sbNvF3MFBo51tXKhWr5W/rBwX2WmDNIu1SqXVyO5ZuZPNT/pIUxtwph/fbqrHDaySg6qjNm9qR9YFswqV99bRUWuv0qXHeVKvnFcrdZ2mfTvwfBdsw7+o7Sk3SrdtVk1mj966TQPXw6aZPuw1aoeFiqFeffzoYxa2L3qGgWkxY94Ucx/o5VXB7wWFI+9TtU2DRm+w38i2z9rZei2jV47N0/Wm4/mNXD0c5rF1VdimF6R96PhnbqXZIsZBQPpnV41qTzmrB912+zqfKZydhUMVOEoiMXxmiTVh1ms8Zf0Pfk28HxueDwXq1CXFyFyW5RUQG5HPfgFcq0eTtpjhih4iam8AN5iHq6NE1GXMT9jBBU897r4ANu5C+FoI4YGj4G0Vr7rwEFOGXDygFmZeIANmX/NwYMjDgDJySq5ZYooLhB3jmo5xoU5ISDM9Fx/gApVT2iNQgybuJvxL+wLSgwZqaevtBsqk02lRDkDwhcogIaYH8XRnGitpyhyfm9xFMD7zltBrVMfUgcDGPMSBX4nIBiWACwUrRGMKOiPY4H3h+qzuxsPor4yheY95N4eeG/lKZf9mXKEmAAeAzQMv9X3SqvsLN+dHnYtlEgBHtcAb6vr9cU6TRPaHFkGKRTIuFOBmVCSAuGLzPF0bMAVAotthUEERJgmFpbpkBN5o70pS+Z87WTfHLDyZzEu045Qfzcel8l+vrzNbOzi6TFgSlxL6JpE+r+G1L7G0omG9VFbm8W/Mgc4XfFIZxdnCXDU2T2ttOkpYQ55b5d6yu/aN4UI8xUiuocmcY1dKOLinGVg8mymJ30LQpIRErt+VZqYiJfTXVd9jO/ftie7uoKWRDtQZwpW4JuH7WLLyvL4WLs9pD9pj7GGF5z2to8V5TFxfv8DR0qRiucVe2HFPP/oAKOnBdistNOdS+TVqiyVilL5+8quIU2NXmjzsKpDM1raim1o2o+cI3i7mFA3ntopFJVNUFE37YYFz9TnGPZwDq3TYziW+lkU7AYmIZTMJJb0B/Zkso78strPSU75+ebmhSHtEKNJeUijSHxCKnjHWfFsG1HkG/Lwis/9I09AfYRr695vGC6jdvuN4P6e/rK7dfvAJAz+POWS+7Vc550cEBTE8WhUY5lIf3k4bRZJXzPx2Npcxt7SimdULuXx+K6spynb6uSqXJ8t0ma9muhWZaeMXzl6RJX5eE+e59lhLnu5/0qwWXW5ffInwU6PEIwuFX7Vvj9Si/GI5QHnc6Sq/dw7406e+xD4V2lKzoOdymXxmO5dJY62oQPYubG9nMnkjpxVfUJ9qOh7m+Xvr6RrVl5zole9M9MqfRP8Lp4JfLtF/T4LP/GIJPvO4U838OxP8PUc6iR4rH1Jkf5+Am/nOgJv5MQH3Zav4Jzlm3OXLy1fozxhYPtY2v575Fp5zJ2XMOuOwFMY+6/5RvUp8blxgd2UdxCvdDAr7mnjWv4FsatkOf8+JGAhr3oDMFrsrlPgarcSyqOOYSnxVz/J7vDtQTjzbuwI/vfz6rWVbttPJW5cLNxfeCZfKvIvkTtHpM+rI826wR3X2loyeVHMQlnaf5a2BByWjuUty0ojds/yg/uzFNSJ/POH38QT9qT3hNzX5ZzKLNv/HfVcnT20a1Lh+hGnc8/rbH3P4t0eJewccjzeNn7LzG8fWi13RBNSgg/L/AQf6Ei8=</script> <treescope-run-here><script type=\"application/octet-stream\"> const root = ( Array.from(document.getElementsByClassName( \"treescope_out_ec943b0985ee491a9d8c82561ea4a998\")) .filter((elt) => !elt.dataset['step0']) )[0]; root.dataset['step0'] = 1; root.defns.insertContent( this.parentNode.querySelector('script[type=\"application/octet-stream\"]'), true ); this.parentNode.remove(); </script></treescope-run-here> </div>"
      ],
      "text/plain": [
       "<IPython.core.display.HTML object>"
      ]
     },
     "metadata": {},
     "output_type": "display_data"
    },
    {
     "data": {
      "text/html": [
       "<div style=\"display:none\"> <script type=\"application/octet-stream\" >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</script> <treescope-run-here><script type=\"application/octet-stream\"> const root = ( Array.from(document.getElementsByClassName( \"treescope_out_ec943b0985ee491a9d8c82561ea4a998\")) .filter((elt) => !elt.dataset['step1']) )[0]; root.dataset['step1'] = 1; root.defns.insertContent( this.parentNode.querySelector('script[type=\"application/octet-stream\"]'), true ); this.parentNode.remove(); </script></treescope-run-here> </div>"
      ],
      "text/plain": [
       "<IPython.core.display.HTML object>"
      ]
     },
     "metadata": {},
     "output_type": "display_data"
    },
    {
     "data": {
      "text/html": [
       "<treescope-run-here><script type=\"application/octet-stream\"> const root = ( Array.from(document.getElementsByClassName( \"treescope_out_ec943b0985ee491a9d8c82561ea4a998\")) .filter((elt) => !elt.dataset.stolen) )[0]; root.dataset.stolen = 1; this.parentNode.replaceChild(root, this); </script></treescope-run-here>"
      ],
      "text/plain": [
       "Selection(\n",
       "  selected_by_path=OrderedDict({\n",
       "    (DictKey(key='b'),):\n",
       "      <jax.Array([0, 1, 2, 3, 4, 5, 6, 7, 8, 9], dtype=int32)>,\n",
       "    (DictKey(key='c'), SequenceKey(idx=1), DictKey(key='value')):\n",
       "      <jax.Array([0., 0., 0., 0., 0., 0., 0.], dtype=float32)>,\n",
       "  }),\n",
       "  remainder={\n",
       "    'a': 1,\n",
       "    'b': SelectionHole(path=(DictKey(key='b'),)),\n",
       "    'c': [{'value': <jax.Array([ 0,  1,  2,  3,  4,  5,  6,  7,  8,  9, 10, 11], dtype=int32)>}, {'value': SelectionHole(path=(DictKey(key='c'), SequenceKey(idx=1), DictKey(key='value')))}, {'value': 3}],\n",
       "  },\n",
       ")"
      ]
     },
     "execution_count": 21,
     "metadata": {},
     "output_type": "execute_result"
    }
   ],
   "source": [
    "(\n",
    "    pz.select(my_nested_object)\n",
    "    .at_subtrees_where(\n",
    "        lambda subtree: isinstance(subtree, jax.Array) and subtree.size <= 10)\n",
    ")"
   ]
  },
  {
   "cell_type": "markdown",
   "metadata": {
    "id": "Hz97YScaHmyC"
   },
   "source": [
    "In fact, `at_instances_of` is a thin wrapper around `at_subtrees_where`. There's another convenience method for finding values equal to a sentinel value:"
   ]
  },
  {
   "cell_type": "code",
   "execution_count": 22,
   "metadata": {
    "execution": {
     "iopub.execute_input": "2024-07-07T03:15:26.080176Z",
     "iopub.status.busy": "2024-07-07T03:15:26.079866Z",
     "iopub.status.idle": "2024-07-07T03:15:26.092328Z",
     "shell.execute_reply": "2024-07-07T03:15:26.092050Z"
    },
    "id": "LKwjwL8CJjur"
   },
   "outputs": [
    {
     "data": {
      "text/html": [
       "<script> (()=>{ if (customElements.get('treescope-container') === undefined) { class TreescopeContainer extends HTMLElement { constructor() { super(); this.attachShadow({mode: \"open\"}); this.defns = {}; this.state = {}; } } customElements.define(\"treescope-container\", TreescopeContainer); } if (customElements.get('treescope-run-here') === undefined) { class RunHere extends HTMLElement { constructor() { super() } connectedCallback() { const src = this.querySelector(\"script\").textContent; const fn = new Function(src); fn.call(this); this.remove(); } } customElements.define(\"treescope-run-here\", RunHere); } })(); </script> <treescope-container class=\"treescope_out_697c6203cbcd4663a861deeaff3a3e51\" ></treescope-container> <treescope-run-here><script type=\"application/octet-stream\"> const root = ( Array.from(document.getElementsByClassName( \"treescope_out_697c6203cbcd4663a861deeaff3a3e51\")) .filter((elt) => !elt.dataset.setup) )[0]; root.dataset.setup = 1; const msg = document.createElement(\"span\"); msg.style = \"color: #aaaaaa; font-family: monospace; transition: opacity 0.2s; opacity: 0.0;\"; msg.textContent = \"(Loading...)\"; root.state.loadingMsg = msg; root.shadowRoot.appendChild(msg); root.state.chain = new Promise((resolve, reject) => { const observer = new IntersectionObserver((entries) => { for (const entry of entries) { if (entry.isIntersecting) { resolve(); observer.disconnect(); return; } } }, {rootMargin: \"1000px\"}); window.setTimeout(() => { if (root.loadingMsg) { root.loadingMsg.style.opacity = \"1.0\"; } observer.observe(root); }, 0); }); root.state.deferring = false; const _insertNode = (node) => { for (let oldScript of node.querySelectorAll(\"script\")) { let newScript = document.createElement(\"script\"); newScript.type = oldScript.type; newScript.textContent = oldScript.textContent; oldScript.parentNode.replaceChild(newScript, oldScript); } if (root.state.loadingMsg) { root.state.loadingMsg.remove(); root.state.loadingMsg = null; } root.shadowRoot.appendChild(node); }; root.defns.insertContent = ((contentNode, compressed) => { if (compressed) { root.state.deferring = true; } if (root.state.deferring) { root.state.chain = (async () => { await root.state.chain; if (compressed) { const encoded = contentNode.textContent; const blob = new Blob([ Uint8Array.from(atob(encoded), (m) => m.codePointAt(0)) ]); const reader = blob.stream().pipeThrough( new DecompressionStream(\"deflate\") ).pipeThrough( new TextDecoderStream(\"utf-8\") ).getReader(); const parts = []; while (true) { const step = await reader.read(); if (step.done) { break; } parts.push(step.value); } const tpl = document.createElement('template'); tpl.innerHTML = parts.join(\"\"); _insertNode(tpl.content); } else { _insertNode(contentNode.content); } })(); } else { _insertNode(contentNode.content); } }); </script></treescope-run-here><div style=\"display:none\"> <script type=\"application/octet-stream\" >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</script> <treescope-run-here><script type=\"application/octet-stream\"> const root = ( Array.from(document.getElementsByClassName( \"treescope_out_697c6203cbcd4663a861deeaff3a3e51\")) .filter((elt) => !elt.dataset['step0']) )[0]; root.dataset['step0'] = 1; root.defns.insertContent( this.parentNode.querySelector('script[type=\"application/octet-stream\"]'), true ); this.parentNode.remove(); </script></treescope-run-here> </div>"
      ],
      "text/plain": [
       "<IPython.core.display.HTML object>"
      ]
     },
     "metadata": {},
     "output_type": "display_data"
    },
    {
     "data": {
      "text/html": [
       "<div style=\"display:none\"> <script type=\"application/octet-stream\" >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</script> <treescope-run-here><script type=\"application/octet-stream\"> const root = ( Array.from(document.getElementsByClassName( \"treescope_out_697c6203cbcd4663a861deeaff3a3e51\")) .filter((elt) => !elt.dataset['step1']) )[0]; root.dataset['step1'] = 1; root.defns.insertContent( this.parentNode.querySelector('script[type=\"application/octet-stream\"]'), true ); this.parentNode.remove(); </script></treescope-run-here> </div>"
      ],
      "text/plain": [
       "<IPython.core.display.HTML object>"
      ]
     },
     "metadata": {},
     "output_type": "display_data"
    },
    {
     "data": {
      "text/html": [
       "<treescope-run-here><script type=\"application/octet-stream\"> const root = ( Array.from(document.getElementsByClassName( \"treescope_out_697c6203cbcd4663a861deeaff3a3e51\")) .filter((elt) => !elt.dataset.stolen) )[0]; root.dataset.stolen = 1; this.parentNode.replaceChild(root, this); </script></treescope-run-here>"
      ],
      "text/plain": [
       "Selection(\n",
       "  selected_by_path=OrderedDict({(DictKey(key='a'),): 1}),\n",
       "  remainder={\n",
       "    'a': SelectionHole(path=(DictKey(key='a'),)),\n",
       "    'b': <jax.Array([0, 1, 2, 3, 4, 5, 6, 7, 8, 9], dtype=int32)>,\n",
       "    'c': [\n",
       "      {\n",
       "        'value': <jax.Array([ 0,  1,  2,  3,  4,  5,  6,  7,  8,  9, 10, 11], dtype=int32)>,\n",
       "      },\n",
       "      {\n",
       "        'value': <jax.Array([0., 0., 0., 0., 0., 0., 0.], dtype=float32)>,\n",
       "      },\n",
       "      {'value': 3},\n",
       "    ],\n",
       "  },\n",
       ")"
      ]
     },
     "execution_count": 22,
     "metadata": {},
     "output_type": "execute_result"
    }
   ],
   "source": [
    "(\n",
    "    pz.select(my_nested_object)\n",
    "    .at_equal_to(1)\n",
    ")"
   ]
  },
  {
   "cell_type": "code",
   "execution_count": 23,
   "metadata": {
    "execution": {
     "iopub.execute_input": "2024-07-07T03:15:26.098082Z",
     "iopub.status.busy": "2024-07-07T03:15:26.097675Z",
     "iopub.status.idle": "2024-07-07T03:15:26.103683Z",
     "shell.execute_reply": "2024-07-07T03:15:26.103802Z"
    },
    "id": "lNlmgOXZIW8O"
   },
   "outputs": [
    {
     "data": {
      "text/html": [
       "<script> (()=>{ if (customElements.get('treescope-container') === undefined) { class TreescopeContainer extends HTMLElement { constructor() { super(); this.attachShadow({mode: \"open\"}); this.defns = {}; this.state = {}; } } customElements.define(\"treescope-container\", TreescopeContainer); } if (customElements.get('treescope-run-here') === undefined) { class RunHere extends HTMLElement { constructor() { super() } connectedCallback() { const src = this.querySelector(\"script\").textContent; const fn = new Function(src); fn.call(this); this.remove(); } } customElements.define(\"treescope-run-here\", RunHere); } })(); </script> <treescope-container class=\"treescope_out_983adfb09c034d8397a7f4672717b642\" ></treescope-container> <treescope-run-here><script type=\"application/octet-stream\"> const root = ( Array.from(document.getElementsByClassName( \"treescope_out_983adfb09c034d8397a7f4672717b642\")) .filter((elt) => !elt.dataset.setup) )[0]; root.dataset.setup = 1; const msg = document.createElement(\"span\"); msg.style = \"color: #aaaaaa; font-family: monospace; transition: opacity 0.2s; opacity: 0.0;\"; msg.textContent = \"(Loading...)\"; root.state.loadingMsg = msg; root.shadowRoot.appendChild(msg); root.state.chain = new Promise((resolve, reject) => { const observer = new IntersectionObserver((entries) => { for (const entry of entries) { if (entry.isIntersecting) { resolve(); observer.disconnect(); return; } } }, {rootMargin: \"1000px\"}); window.setTimeout(() => { if (root.loadingMsg) { root.loadingMsg.style.opacity = \"1.0\"; } observer.observe(root); }, 0); }); root.state.deferring = false; const _insertNode = (node) => { for (let oldScript of node.querySelectorAll(\"script\")) { let newScript = document.createElement(\"script\"); newScript.type = oldScript.type; newScript.textContent = oldScript.textContent; oldScript.parentNode.replaceChild(newScript, oldScript); } if (root.state.loadingMsg) { root.state.loadingMsg.remove(); root.state.loadingMsg = null; } root.shadowRoot.appendChild(node); }; root.defns.insertContent = ((contentNode, compressed) => { if (compressed) { root.state.deferring = true; } if (root.state.deferring) { root.state.chain = (async () => { await root.state.chain; if (compressed) { const encoded = contentNode.textContent; const blob = new Blob([ Uint8Array.from(atob(encoded), (m) => m.codePointAt(0)) ]); const reader = blob.stream().pipeThrough( new DecompressionStream(\"deflate\") ).pipeThrough( new TextDecoderStream(\"utf-8\") ).getReader(); const parts = []; while (true) { const step = await reader.read(); if (step.done) { break; } parts.push(step.value); } const tpl = document.createElement('template'); tpl.innerHTML = parts.join(\"\"); _insertNode(tpl.content); } else { _insertNode(contentNode.content); } })(); } else { _insertNode(contentNode.content); } }); </script></treescope-run-here><div style=\"display:none\"> <script type=\"application/octet-stream\" >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</script> <treescope-run-here><script type=\"application/octet-stream\"> const root = ( Array.from(document.getElementsByClassName( \"treescope_out_983adfb09c034d8397a7f4672717b642\")) .filter((elt) => !elt.dataset['step0']) )[0]; root.dataset['step0'] = 1; root.defns.insertContent( this.parentNode.querySelector('script[type=\"application/octet-stream\"]'), true ); this.parentNode.remove(); </script></treescope-run-here> </div>"
      ],
      "text/plain": [
       "<IPython.core.display.HTML object>"
      ]
     },
     "metadata": {},
     "output_type": "display_data"
    },
    {
     "data": {
      "text/html": [
       "<treescope-run-here><script type=\"application/octet-stream\"> const root = ( Array.from(document.getElementsByClassName( \"treescope_out_983adfb09c034d8397a7f4672717b642\")) .filter((elt) => !elt.dataset.stolen) )[0]; root.dataset.stolen = 1; this.parentNode.replaceChild(root, this); </script></treescope-run-here>"
      ],
      "text/plain": [
       "Selection(\n",
       "  selected_by_path=OrderedDict({(DictKey(key='bar'),): [1, 2, 3]}),\n",
       "  remainder={\n",
       "    'bar': SelectionHole(path=(DictKey(key='bar'),)),\n",
       "    'foo': 'foo',\n",
       "  },\n",
       ")"
      ]
     },
     "execution_count": 23,
     "metadata": {},
     "output_type": "execute_result"
    }
   ],
   "source": [
    "(\n",
    "    pz.select({\"foo\": \"foo\", \"bar\": [1, 2, 3]}).at_equal_to([1, 2, 3])\n",
    ")"
   ]
  },
  {
   "cell_type": "markdown",
   "metadata": {
    "id": "1GZV7CkULrZ_"
   },
   "source": [
    "### Selecting by JAX keypath"
   ]
  },
  {
   "cell_type": "markdown",
   "metadata": {
    "id": "nJSlyPdGLvNE"
   },
   "source": [
    "PyTree nodes in JAX are associated with key paths identifying their location in the tree:"
   ]
  },
  {
   "cell_type": "code",
   "execution_count": 24,
   "metadata": {
    "execution": {
     "iopub.execute_input": "2024-07-07T03:15:26.113320Z",
     "iopub.status.busy": "2024-07-07T03:15:26.112980Z",
     "iopub.status.idle": "2024-07-07T03:15:26.118042Z",
     "shell.execute_reply": "2024-07-07T03:15:26.117857Z"
    },
    "id": "9nX57pMUL72X"
   },
   "outputs": [
    {
     "data": {
      "text/html": [
       "<script> (()=>{ if (customElements.get('treescope-container') === undefined) { class TreescopeContainer extends HTMLElement { constructor() { super(); this.attachShadow({mode: \"open\"}); this.defns = {}; this.state = {}; } } customElements.define(\"treescope-container\", TreescopeContainer); } if (customElements.get('treescope-run-here') === undefined) { class RunHere extends HTMLElement { constructor() { super() } connectedCallback() { const src = this.querySelector(\"script\").textContent; const fn = new Function(src); fn.call(this); this.remove(); } } customElements.define(\"treescope-run-here\", RunHere); } })(); </script> <treescope-container class=\"treescope_out_c3e346d671114bca927aca1085a17519\" ></treescope-container> <treescope-run-here><script type=\"application/octet-stream\"> const root = ( Array.from(document.getElementsByClassName( \"treescope_out_c3e346d671114bca927aca1085a17519\")) .filter((elt) => !elt.dataset.setup) )[0]; root.dataset.setup = 1; const msg = document.createElement(\"span\"); msg.style = \"color: #aaaaaa; font-family: monospace; transition: opacity 0.2s; opacity: 0.0;\"; msg.textContent = \"(Loading...)\"; root.state.loadingMsg = msg; root.shadowRoot.appendChild(msg); root.state.chain = new Promise((resolve, reject) => { const observer = new IntersectionObserver((entries) => { for (const entry of entries) { if (entry.isIntersecting) { resolve(); observer.disconnect(); return; } } }, {rootMargin: \"1000px\"}); window.setTimeout(() => { if (root.loadingMsg) { root.loadingMsg.style.opacity = \"1.0\"; } observer.observe(root); }, 0); }); root.state.deferring = false; const _insertNode = (node) => { for (let oldScript of node.querySelectorAll(\"script\")) { let newScript = document.createElement(\"script\"); newScript.type = oldScript.type; newScript.textContent = oldScript.textContent; oldScript.parentNode.replaceChild(newScript, oldScript); } if (root.state.loadingMsg) { root.state.loadingMsg.remove(); root.state.loadingMsg = null; } root.shadowRoot.appendChild(node); }; root.defns.insertContent = ((contentNode, compressed) => { if (compressed) { root.state.deferring = true; } if (root.state.deferring) { root.state.chain = (async () => { await root.state.chain; if (compressed) { const encoded = contentNode.textContent; const blob = new Blob([ Uint8Array.from(atob(encoded), (m) => m.codePointAt(0)) ]); const reader = blob.stream().pipeThrough( new DecompressionStream(\"deflate\") ).pipeThrough( new TextDecoderStream(\"utf-8\") ).getReader(); const parts = []; while (true) { const step = await reader.read(); if (step.done) { break; } parts.push(step.value); } const tpl = document.createElement('template'); tpl.innerHTML = parts.join(\"\"); _insertNode(tpl.content); } else { _insertNode(contentNode.content); } })(); } else { _insertNode(contentNode.content); } }); </script></treescope-run-here><div style=\"display:none\"> <script type=\"application/octet-stream\" >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</script> <treescope-run-here><script type=\"application/octet-stream\"> const root = ( Array.from(document.getElementsByClassName( \"treescope_out_c3e346d671114bca927aca1085a17519\")) .filter((elt) => !elt.dataset['step0']) )[0]; root.dataset['step0'] = 1; root.defns.insertContent( this.parentNode.querySelector('script[type=\"application/octet-stream\"]'), true ); this.parentNode.remove(); </script></treescope-run-here> </div>"
      ],
      "text/plain": [
       "<IPython.core.display.HTML object>"
      ]
     },
     "metadata": {},
     "output_type": "display_data"
    },
    {
     "data": {
      "text/html": [
       "<treescope-run-here><script type=\"application/octet-stream\"> const root = ( Array.from(document.getElementsByClassName( \"treescope_out_c3e346d671114bca927aca1085a17519\")) .filter((elt) => !elt.dataset.stolen) )[0]; root.dataset.stolen = 1; this.parentNode.replaceChild(root, this); </script></treescope-run-here>"
      ],
      "text/plain": [
       "{'a': (DictKey(key='a'),),\n",
       " 'b': (DictKey(key='b'),),\n",
       " 'c': [{'value': (DictKey(key='c'), SequenceKey(idx=0), DictKey(key='value'))},\n",
       "  {'value': (DictKey(key='c'), SequenceKey(idx=1), DictKey(key='value'))},\n",
       "  {'value': (DictKey(key='c'), SequenceKey(idx=2), DictKey(key='value'))}]}"
      ]
     },
     "execution_count": 24,
     "metadata": {},
     "output_type": "execute_result"
    }
   ],
   "source": [
    "jax.tree_util.tree_map_with_path(lambda key, node: key, my_nested_object)"
   ]
  },
  {
   "cell_type": "markdown",
   "metadata": {
    "id": "BzUbLkQ5MFTG"
   },
   "source": [
    "You can directly select nodes based on their JAX keypath:"
   ]
  },
  {
   "cell_type": "code",
   "execution_count": 25,
   "metadata": {
    "execution": {
     "iopub.execute_input": "2024-07-07T03:15:26.127084Z",
     "iopub.status.busy": "2024-07-07T03:15:26.126803Z",
     "iopub.status.idle": "2024-07-07T03:15:26.142227Z",
     "shell.execute_reply": "2024-07-07T03:15:26.141967Z"
    },
    "id": "YQZQ9MVwMw0h"
   },
   "outputs": [
    {
     "data": {
      "text/html": [
       "<script> (()=>{ if (customElements.get('treescope-container') === undefined) { class TreescopeContainer extends HTMLElement { constructor() { super(); this.attachShadow({mode: \"open\"}); this.defns = {}; this.state = {}; } } customElements.define(\"treescope-container\", TreescopeContainer); } if (customElements.get('treescope-run-here') === undefined) { class RunHere extends HTMLElement { constructor() { super() } connectedCallback() { const src = this.querySelector(\"script\").textContent; const fn = new Function(src); fn.call(this); this.remove(); } } customElements.define(\"treescope-run-here\", RunHere); } })(); </script> <treescope-container class=\"treescope_out_aed5ae948e2d4b349de79614d7819a03\" ></treescope-container> <treescope-run-here><script type=\"application/octet-stream\"> const root = ( Array.from(document.getElementsByClassName( \"treescope_out_aed5ae948e2d4b349de79614d7819a03\")) .filter((elt) => !elt.dataset.setup) )[0]; root.dataset.setup = 1; const msg = document.createElement(\"span\"); msg.style = \"color: #aaaaaa; font-family: monospace; transition: opacity 0.2s; opacity: 0.0;\"; msg.textContent = \"(Loading...)\"; root.state.loadingMsg = msg; root.shadowRoot.appendChild(msg); root.state.chain = new Promise((resolve, reject) => { const observer = new IntersectionObserver((entries) => { for (const entry of entries) { if (entry.isIntersecting) { resolve(); observer.disconnect(); return; } } }, {rootMargin: \"1000px\"}); window.setTimeout(() => { if (root.loadingMsg) { root.loadingMsg.style.opacity = \"1.0\"; } observer.observe(root); }, 0); }); root.state.deferring = false; const _insertNode = (node) => { for (let oldScript of node.querySelectorAll(\"script\")) { let newScript = document.createElement(\"script\"); newScript.type = oldScript.type; newScript.textContent = oldScript.textContent; oldScript.parentNode.replaceChild(newScript, oldScript); } if (root.state.loadingMsg) { root.state.loadingMsg.remove(); root.state.loadingMsg = null; } root.shadowRoot.appendChild(node); }; root.defns.insertContent = ((contentNode, compressed) => { if (compressed) { root.state.deferring = true; } if (root.state.deferring) { root.state.chain = (async () => { await root.state.chain; if (compressed) { const encoded = contentNode.textContent; const blob = new Blob([ Uint8Array.from(atob(encoded), (m) => m.codePointAt(0)) ]); const reader = blob.stream().pipeThrough( new DecompressionStream(\"deflate\") ).pipeThrough( new TextDecoderStream(\"utf-8\") ).getReader(); const parts = []; while (true) { const step = await reader.read(); if (step.done) { break; } parts.push(step.value); } const tpl = document.createElement('template'); tpl.innerHTML = parts.join(\"\"); _insertNode(tpl.content); } else { _insertNode(contentNode.content); } })(); } else { _insertNode(contentNode.content); } }); </script></treescope-run-here><div style=\"display:none\"> <script type=\"application/octet-stream\" >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</script> <treescope-run-here><script type=\"application/octet-stream\"> const root = ( Array.from(document.getElementsByClassName( \"treescope_out_aed5ae948e2d4b349de79614d7819a03\")) .filter((elt) => !elt.dataset['step0']) )[0]; root.dataset['step0'] = 1; root.defns.insertContent( this.parentNode.querySelector('script[type=\"application/octet-stream\"]'), true ); this.parentNode.remove(); </script></treescope-run-here> </div>"
      ],
      "text/plain": [
       "<IPython.core.display.HTML object>"
      ]
     },
     "metadata": {},
     "output_type": "display_data"
    },
    {
     "data": {
      "text/html": [
       "<div style=\"display:none\"> <script type=\"application/octet-stream\" >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</script> <treescope-run-here><script type=\"application/octet-stream\"> const root = ( Array.from(document.getElementsByClassName( \"treescope_out_aed5ae948e2d4b349de79614d7819a03\")) .filter((elt) => !elt.dataset['step1']) )[0]; root.dataset['step1'] = 1; root.defns.insertContent( this.parentNode.querySelector('script[type=\"application/octet-stream\"]'), true ); this.parentNode.remove(); </script></treescope-run-here> </div>"
      ],
      "text/plain": [
       "<IPython.core.display.HTML object>"
      ]
     },
     "metadata": {},
     "output_type": "display_data"
    },
    {
     "data": {
      "text/html": [
       "<treescope-run-here><script type=\"application/octet-stream\"> const root = ( Array.from(document.getElementsByClassName( \"treescope_out_aed5ae948e2d4b349de79614d7819a03\")) .filter((elt) => !elt.dataset.stolen) )[0]; root.dataset.stolen = 1; this.parentNode.replaceChild(root, this); </script></treescope-run-here>"
      ],
      "text/plain": [
       "Selection(\n",
       "  selected_by_path=OrderedDict({\n",
       "    (DictKey(key='c'), SequenceKey(idx=0)):\n",
       "      {\n",
       "        'value': <jax.Array([ 0,  1,  2,  3,  4,  5,  6,  7,  8,  9, 10, 11], dtype=int32)>,\n",
       "      },\n",
       "    (DictKey(key='c'), SequenceKey(idx=2), DictKey(key='value')):\n",
       "      3,\n",
       "  }),\n",
       "  remainder={\n",
       "    'a': 1,\n",
       "    'b': <jax.Array([0, 1, 2, 3, 4, 5, 6, 7, 8, 9], dtype=int32)>,\n",
       "    'c': [SelectionHole(path=(DictKey(key='c'), SequenceKey(idx=0))), {'value': <jax.Array([0., 0., 0., 0., 0., 0., 0.], dtype=float32)>}, {'value': SelectionHole(path=(DictKey(key='c'), SequenceKey(idx=2), DictKey(key='value')))}],\n",
       "  },\n",
       ")"
      ]
     },
     "execution_count": 25,
     "metadata": {},
     "output_type": "execute_result"
    }
   ],
   "source": [
    "pz.select(my_nested_object).at_keypaths([\n",
    "    (jax.tree_util.DictKey(key='c'), jax.tree_util.SequenceKey(idx=2), jax.tree_util.DictKey(key='value')),\n",
    "    (jax.tree_util.DictKey(key='c'), jax.tree_util.SequenceKey(idx=0)),\n",
    "])"
   ]
  },
  {
   "cell_type": "markdown",
   "metadata": {
    "id": "vyDFHhwNNI2y"
   },
   "source": [
    "(You might have noticed that the fancy rendering for Selection objects is actually written in terms of `at_keypaths`, and exposes the keypaths for the currently selected nodes if you expand the last line!)"
   ]
  },
  {
   "cell_type": "markdown",
   "metadata": {
    "id": "j8rujhAbOOKR"
   },
   "source": [
    "### Selecting based on PyTree structure\n",
    "\n",
    "You can also build selections based on PyTree children or PyTree leaves:"
   ]
  },
  {
   "cell_type": "code",
   "execution_count": 26,
   "metadata": {
    "execution": {
     "iopub.execute_input": "2024-07-07T03:15:26.150105Z",
     "iopub.status.busy": "2024-07-07T03:15:26.149680Z",
     "iopub.status.idle": "2024-07-07T03:15:26.164197Z",
     "shell.execute_reply": "2024-07-07T03:15:26.163888Z"
    },
    "id": "ZBZnh09wOdJz"
   },
   "outputs": [
    {
     "data": {
      "text/html": [
       "<script> (()=>{ if (customElements.get('treescope-container') === undefined) { class TreescopeContainer extends HTMLElement { constructor() { super(); this.attachShadow({mode: \"open\"}); this.defns = {}; this.state = {}; } } customElements.define(\"treescope-container\", TreescopeContainer); } if (customElements.get('treescope-run-here') === undefined) { class RunHere extends HTMLElement { constructor() { super() } connectedCallback() { const src = this.querySelector(\"script\").textContent; const fn = new Function(src); fn.call(this); this.remove(); } } customElements.define(\"treescope-run-here\", RunHere); } })(); </script> <treescope-container class=\"treescope_out_972aee3ce8d04be7a4566e8cfdab5f74\" ></treescope-container> <treescope-run-here><script type=\"application/octet-stream\"> const root = ( Array.from(document.getElementsByClassName( \"treescope_out_972aee3ce8d04be7a4566e8cfdab5f74\")) .filter((elt) => !elt.dataset.setup) )[0]; root.dataset.setup = 1; const msg = document.createElement(\"span\"); msg.style = \"color: #aaaaaa; font-family: monospace; transition: opacity 0.2s; opacity: 0.0;\"; msg.textContent = \"(Loading...)\"; root.state.loadingMsg = msg; root.shadowRoot.appendChild(msg); root.state.chain = new Promise((resolve, reject) => { const observer = new IntersectionObserver((entries) => { for (const entry of entries) { if (entry.isIntersecting) { resolve(); observer.disconnect(); return; } } }, {rootMargin: \"1000px\"}); window.setTimeout(() => { if (root.loadingMsg) { root.loadingMsg.style.opacity = \"1.0\"; } observer.observe(root); }, 0); }); root.state.deferring = false; const _insertNode = (node) => { for (let oldScript of node.querySelectorAll(\"script\")) { let newScript = document.createElement(\"script\"); newScript.type = oldScript.type; newScript.textContent = oldScript.textContent; oldScript.parentNode.replaceChild(newScript, oldScript); } if (root.state.loadingMsg) { root.state.loadingMsg.remove(); root.state.loadingMsg = null; } root.shadowRoot.appendChild(node); }; root.defns.insertContent = ((contentNode, compressed) => { if (compressed) { root.state.deferring = true; } if (root.state.deferring) { root.state.chain = (async () => { await root.state.chain; if (compressed) { const encoded = contentNode.textContent; const blob = new Blob([ Uint8Array.from(atob(encoded), (m) => m.codePointAt(0)) ]); const reader = blob.stream().pipeThrough( new DecompressionStream(\"deflate\") ).pipeThrough( new TextDecoderStream(\"utf-8\") ).getReader(); const parts = []; while (true) { const step = await reader.read(); if (step.done) { break; } parts.push(step.value); } const tpl = document.createElement('template'); tpl.innerHTML = parts.join(\"\"); _insertNode(tpl.content); } else { _insertNode(contentNode.content); } })(); } else { _insertNode(contentNode.content); } }); </script></treescope-run-here><div style=\"display:none\"> <script type=\"application/octet-stream\" >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</script> <treescope-run-here><script type=\"application/octet-stream\"> const root = ( Array.from(document.getElementsByClassName( \"treescope_out_972aee3ce8d04be7a4566e8cfdab5f74\")) .filter((elt) => !elt.dataset['step0']) )[0]; root.dataset['step0'] = 1; root.defns.insertContent( this.parentNode.querySelector('script[type=\"application/octet-stream\"]'), true ); this.parentNode.remove(); </script></treescope-run-here> </div>"
      ],
      "text/plain": [
       "<IPython.core.display.HTML object>"
      ]
     },
     "metadata": {},
     "output_type": "display_data"
    },
    {
     "data": {
      "text/html": [
       "<div style=\"display:none\"> <script type=\"application/octet-stream\" >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</script> <treescope-run-here><script type=\"application/octet-stream\"> const root = ( Array.from(document.getElementsByClassName( \"treescope_out_972aee3ce8d04be7a4566e8cfdab5f74\")) .filter((elt) => !elt.dataset['step1']) )[0]; root.dataset['step1'] = 1; root.defns.insertContent( this.parentNode.querySelector('script[type=\"application/octet-stream\"]'), true ); this.parentNode.remove(); </script></treescope-run-here> </div>"
      ],
      "text/plain": [
       "<IPython.core.display.HTML object>"
      ]
     },
     "metadata": {},
     "output_type": "display_data"
    },
    {
     "data": {
      "text/html": [
       "<treescope-run-here><script type=\"application/octet-stream\"> const root = ( Array.from(document.getElementsByClassName( \"treescope_out_972aee3ce8d04be7a4566e8cfdab5f74\")) .filter((elt) => !elt.dataset.stolen) )[0]; root.dataset.stolen = 1; this.parentNode.replaceChild(root, this); </script></treescope-run-here>"
      ],
      "text/plain": [
       "Selection(\n",
       "  selected_by_path=OrderedDict({\n",
       "    (DictKey(key='a'),):\n",
       "      1,\n",
       "    (DictKey(key='b'),):\n",
       "      <jax.Array([0, 1, 2, 3, 4, 5, 6, 7, 8, 9], dtype=int32)>,\n",
       "    (DictKey(key='c'),):\n",
       "      [{'value': <jax.Array([ 0,  1,  2,  3,  4,  5,  6,  7,  8,  9, 10, 11], dtype=int32)>}, {'value': <jax.Array([0., 0., 0., 0., 0., 0., 0.], dtype=float32)>}, {'value': 3}],\n",
       "  }),\n",
       "  remainder={'a': SelectionHole(path=(DictKey(key='a'),)), 'b': SelectionHole(path=(DictKey(key='b'),)), 'c': SelectionHole(path=(DictKey(key='c'),))},\n",
       ")"
      ]
     },
     "execution_count": 26,
     "metadata": {},
     "output_type": "execute_result"
    }
   ],
   "source": [
    "pz.select(my_nested_object).at_children()"
   ]
  },
  {
   "cell_type": "code",
   "execution_count": 27,
   "metadata": {
    "execution": {
     "iopub.execute_input": "2024-07-07T03:15:26.173693Z",
     "iopub.status.busy": "2024-07-07T03:15:26.173424Z",
     "iopub.status.idle": "2024-07-07T03:15:26.191751Z",
     "shell.execute_reply": "2024-07-07T03:15:26.191468Z"
    },
    "id": "cGcp4EK2OfW1"
   },
   "outputs": [
    {
     "data": {
      "text/html": [
       "<script> (()=>{ if (customElements.get('treescope-container') === undefined) { class TreescopeContainer extends HTMLElement { constructor() { super(); this.attachShadow({mode: \"open\"}); this.defns = {}; this.state = {}; } } customElements.define(\"treescope-container\", TreescopeContainer); } if (customElements.get('treescope-run-here') === undefined) { class RunHere extends HTMLElement { constructor() { super() } connectedCallback() { const src = this.querySelector(\"script\").textContent; const fn = new Function(src); fn.call(this); this.remove(); } } customElements.define(\"treescope-run-here\", RunHere); } })(); </script> <treescope-container class=\"treescope_out_ebe8e9187a23463c8c4b71c1990c1a39\" ></treescope-container> <treescope-run-here><script type=\"application/octet-stream\"> const root = ( Array.from(document.getElementsByClassName( \"treescope_out_ebe8e9187a23463c8c4b71c1990c1a39\")) .filter((elt) => !elt.dataset.setup) )[0]; root.dataset.setup = 1; const msg = document.createElement(\"span\"); msg.style = \"color: #aaaaaa; font-family: monospace; transition: opacity 0.2s; opacity: 0.0;\"; msg.textContent = \"(Loading...)\"; root.state.loadingMsg = msg; root.shadowRoot.appendChild(msg); root.state.chain = new Promise((resolve, reject) => { const observer = new IntersectionObserver((entries) => { for (const entry of entries) { if (entry.isIntersecting) { resolve(); observer.disconnect(); return; } } }, {rootMargin: \"1000px\"}); window.setTimeout(() => { if (root.loadingMsg) { root.loadingMsg.style.opacity = \"1.0\"; } observer.observe(root); }, 0); }); root.state.deferring = false; const _insertNode = (node) => { for (let oldScript of node.querySelectorAll(\"script\")) { let newScript = document.createElement(\"script\"); newScript.type = oldScript.type; newScript.textContent = oldScript.textContent; oldScript.parentNode.replaceChild(newScript, oldScript); } if (root.state.loadingMsg) { root.state.loadingMsg.remove(); root.state.loadingMsg = null; } root.shadowRoot.appendChild(node); }; root.defns.insertContent = ((contentNode, compressed) => { if (compressed) { root.state.deferring = true; } if (root.state.deferring) { root.state.chain = (async () => { await root.state.chain; if (compressed) { const encoded = contentNode.textContent; const blob = new Blob([ Uint8Array.from(atob(encoded), (m) => m.codePointAt(0)) ]); const reader = blob.stream().pipeThrough( new DecompressionStream(\"deflate\") ).pipeThrough( new TextDecoderStream(\"utf-8\") ).getReader(); const parts = []; while (true) { const step = await reader.read(); if (step.done) { break; } parts.push(step.value); } const tpl = document.createElement('template'); tpl.innerHTML = parts.join(\"\"); _insertNode(tpl.content); } else { _insertNode(contentNode.content); } })(); } else { _insertNode(contentNode.content); } }); </script></treescope-run-here><div style=\"display:none\"> <script type=\"application/octet-stream\" >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</script> <treescope-run-here><script type=\"application/octet-stream\"> const root = ( Array.from(document.getElementsByClassName( \"treescope_out_ebe8e9187a23463c8c4b71c1990c1a39\")) .filter((elt) => !elt.dataset['step0']) )[0]; root.dataset['step0'] = 1; root.defns.insertContent( this.parentNode.querySelector('script[type=\"application/octet-stream\"]'), true ); this.parentNode.remove(); </script></treescope-run-here> </div>"
      ],
      "text/plain": [
       "<IPython.core.display.HTML object>"
      ]
     },
     "metadata": {},
     "output_type": "display_data"
    },
    {
     "data": {
      "text/html": [
       "<div style=\"display:none\"> <script type=\"application/octet-stream\" >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</script> <treescope-run-here><script type=\"application/octet-stream\"> const root = ( Array.from(document.getElementsByClassName( \"treescope_out_ebe8e9187a23463c8c4b71c1990c1a39\")) .filter((elt) => !elt.dataset['step1']) )[0]; root.dataset['step1'] = 1; root.defns.insertContent( this.parentNode.querySelector('script[type=\"application/octet-stream\"]'), true ); this.parentNode.remove(); </script></treescope-run-here> </div>"
      ],
      "text/plain": [
       "<IPython.core.display.HTML object>"
      ]
     },
     "metadata": {},
     "output_type": "display_data"
    },
    {
     "data": {
      "text/html": [
       "<treescope-run-here><script type=\"application/octet-stream\"> const root = ( Array.from(document.getElementsByClassName( \"treescope_out_ebe8e9187a23463c8c4b71c1990c1a39\")) .filter((elt) => !elt.dataset.stolen) )[0]; root.dataset.stolen = 1; this.parentNode.replaceChild(root, this); </script></treescope-run-here>"
      ],
      "text/plain": [
       "Selection(\n",
       "  selected_by_path=OrderedDict({(DictKey(key='a'),): 1, (DictKey(key='b'),): <jax.Array([0, 1, 2, 3, 4, 5, 6, 7, 8, 9], dtype=int32)>, (DictKey(key='c'), SequenceKey(idx=0), DictKey(key='value')): <jax.Array([ 0,  1,  2,  3,  4,  5,  6,  7,  8,  9, 10, 11], dtype=int32)>, (DictKey(key='c'), SequenceKey(idx=1), DictKey(key='value')): <jax.Array([0., 0., 0., 0., 0., 0., 0.], dtype=float32)>, (DictKey(key='c'), SequenceKey(idx=2), DictKey(key='value')): 3}),\n",
       "  remainder={\n",
       "    'a': SelectionHole(path=(DictKey(key='a'),)),\n",
       "    'b': SelectionHole(path=(DictKey(key='b'),)),\n",
       "    'c': [\n",
       "      {\n",
       "        'value': SelectionHole(\n",
       "          path=(DictKey(key='c'), SequenceKey(idx=0), DictKey(key='value')),\n",
       "        ),\n",
       "      },\n",
       "      {\n",
       "        'value': SelectionHole(path=(DictKey(key='c'), SequenceKey(idx=1), DictKey(key='value'))),\n",
       "      },\n",
       "      {\n",
       "        'value': SelectionHole(path=(DictKey(key='c'), SequenceKey(idx=2), DictKey(key='value'))),\n",
       "      },\n",
       "    ],\n",
       "  },\n",
       ")"
      ]
     },
     "execution_count": 27,
     "metadata": {},
     "output_type": "execute_result"
    }
   ],
   "source": [
    "pz.select(my_nested_object).at_pytree_leaves()"
   ]
  },
  {
   "cell_type": "markdown",
   "metadata": {
    "id": "L88O37NHOyrP"
   },
   "source": [
    "Note that some PyTree nodes, like `None` or the empty tuple `()`, don't have any children and are ignored by `jax.tree_util.tree_map`, so they won't be selected by `.at_pytree_leaves`:"
   ]
  },
  {
   "cell_type": "code",
   "execution_count": 28,
   "metadata": {
    "execution": {
     "iopub.execute_input": "2024-07-07T03:15:26.199159Z",
     "iopub.status.busy": "2024-07-07T03:15:26.198639Z",
     "iopub.status.idle": "2024-07-07T03:15:26.206895Z",
     "shell.execute_reply": "2024-07-07T03:15:26.206689Z"
    },
    "id": "-wD3VJajO6TR"
   },
   "outputs": [
    {
     "data": {
      "text/html": [
       "<script> (()=>{ if (customElements.get('treescope-container') === undefined) { class TreescopeContainer extends HTMLElement { constructor() { super(); this.attachShadow({mode: \"open\"}); this.defns = {}; this.state = {}; } } customElements.define(\"treescope-container\", TreescopeContainer); } if (customElements.get('treescope-run-here') === undefined) { class RunHere extends HTMLElement { constructor() { super() } connectedCallback() { const src = this.querySelector(\"script\").textContent; const fn = new Function(src); fn.call(this); this.remove(); } } customElements.define(\"treescope-run-here\", RunHere); } })(); </script> <treescope-container class=\"treescope_out_67f1a1aa75384c2a8a793143b45559bb\" ></treescope-container> <treescope-run-here><script type=\"application/octet-stream\"> const root = ( Array.from(document.getElementsByClassName( \"treescope_out_67f1a1aa75384c2a8a793143b45559bb\")) .filter((elt) => !elt.dataset.setup) )[0]; root.dataset.setup = 1; const msg = document.createElement(\"span\"); msg.style = \"color: #aaaaaa; font-family: monospace; transition: opacity 0.2s; opacity: 0.0;\"; msg.textContent = \"(Loading...)\"; root.state.loadingMsg = msg; root.shadowRoot.appendChild(msg); root.state.chain = new Promise((resolve, reject) => { const observer = new IntersectionObserver((entries) => { for (const entry of entries) { if (entry.isIntersecting) { resolve(); observer.disconnect(); return; } } }, {rootMargin: \"1000px\"}); window.setTimeout(() => { if (root.loadingMsg) { root.loadingMsg.style.opacity = \"1.0\"; } observer.observe(root); }, 0); }); root.state.deferring = false; const _insertNode = (node) => { for (let oldScript of node.querySelectorAll(\"script\")) { let newScript = document.createElement(\"script\"); newScript.type = oldScript.type; newScript.textContent = oldScript.textContent; oldScript.parentNode.replaceChild(newScript, oldScript); } if (root.state.loadingMsg) { root.state.loadingMsg.remove(); root.state.loadingMsg = null; } root.shadowRoot.appendChild(node); }; root.defns.insertContent = ((contentNode, compressed) => { if (compressed) { root.state.deferring = true; } if (root.state.deferring) { root.state.chain = (async () => { await root.state.chain; if (compressed) { const encoded = contentNode.textContent; const blob = new Blob([ Uint8Array.from(atob(encoded), (m) => m.codePointAt(0)) ]); const reader = blob.stream().pipeThrough( new DecompressionStream(\"deflate\") ).pipeThrough( new TextDecoderStream(\"utf-8\") ).getReader(); const parts = []; while (true) { const step = await reader.read(); if (step.done) { break; } parts.push(step.value); } const tpl = document.createElement('template'); tpl.innerHTML = parts.join(\"\"); _insertNode(tpl.content); } else { _insertNode(contentNode.content); } })(); } else { _insertNode(contentNode.content); } }); </script></treescope-run-here><div style=\"display:none\"> <script type=\"application/octet-stream\" >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</script> <treescope-run-here><script type=\"application/octet-stream\"> const root = ( Array.from(document.getElementsByClassName( \"treescope_out_67f1a1aa75384c2a8a793143b45559bb\")) .filter((elt) => !elt.dataset['step0']) )[0]; root.dataset['step0'] = 1; root.defns.insertContent( this.parentNode.querySelector('script[type=\"application/octet-stream\"]'), true ); this.parentNode.remove(); </script></treescope-run-here> </div>"
      ],
      "text/plain": [
       "<IPython.core.display.HTML object>"
      ]
     },
     "metadata": {},
     "output_type": "display_data"
    },
    {
     "data": {
      "text/html": [
       "<treescope-run-here><script type=\"application/octet-stream\"> const root = ( Array.from(document.getElementsByClassName( \"treescope_out_67f1a1aa75384c2a8a793143b45559bb\")) .filter((elt) => !elt.dataset.stolen) )[0]; root.dataset.stolen = 1; this.parentNode.replaceChild(root, this); </script></treescope-run-here>"
      ],
      "text/plain": [
       "Selection(\n",
       "  selected_by_path=OrderedDict({(SequenceKey(idx=0),): 1, (SequenceKey(idx=1),): 2, (SequenceKey(idx=3),): 3, (SequenceKey(idx=5),): 4}),\n",
       "  remainder=[\n",
       "    SelectionHole(path=(SequenceKey(idx=0),)),\n",
       "    SelectionHole(path=(SequenceKey(idx=1),)),\n",
       "    (),\n",
       "    SelectionHole(path=(SequenceKey(idx=3),)),\n",
       "    None,\n",
       "    SelectionHole(path=(SequenceKey(idx=5),)),\n",
       "  ],\n",
       ")"
      ]
     },
     "execution_count": 28,
     "metadata": {},
     "output_type": "execute_result"
    }
   ],
   "source": [
    "pz.select([1, 2, (), 3, None, 4]).at_pytree_leaves()"
   ]
  },
  {
   "cell_type": "markdown",
   "metadata": {
    "id": "_afpL4O8O_VZ"
   },
   "source": [
    "If you want to select these too, you can use `.at_childless`:"
   ]
  },
  {
   "cell_type": "code",
   "execution_count": 29,
   "metadata": {
    "execution": {
     "iopub.execute_input": "2024-07-07T03:15:26.215005Z",
     "iopub.status.busy": "2024-07-07T03:15:26.214748Z",
     "iopub.status.idle": "2024-07-07T03:15:26.224222Z",
     "shell.execute_reply": "2024-07-07T03:15:26.224352Z"
    },
    "id": "byvIxqOZPDD6"
   },
   "outputs": [
    {
     "data": {
      "text/html": [
       "<script> (()=>{ if (customElements.get('treescope-container') === undefined) { class TreescopeContainer extends HTMLElement { constructor() { super(); this.attachShadow({mode: \"open\"}); this.defns = {}; this.state = {}; } } customElements.define(\"treescope-container\", TreescopeContainer); } if (customElements.get('treescope-run-here') === undefined) { class RunHere extends HTMLElement { constructor() { super() } connectedCallback() { const src = this.querySelector(\"script\").textContent; const fn = new Function(src); fn.call(this); this.remove(); } } customElements.define(\"treescope-run-here\", RunHere); } })(); </script> <treescope-container class=\"treescope_out_6e82ff4f8bc84fb0a6e1b2dd416495d5\" ></treescope-container> <treescope-run-here><script type=\"application/octet-stream\"> const root = ( Array.from(document.getElementsByClassName( \"treescope_out_6e82ff4f8bc84fb0a6e1b2dd416495d5\")) .filter((elt) => !elt.dataset.setup) )[0]; root.dataset.setup = 1; const msg = document.createElement(\"span\"); msg.style = \"color: #aaaaaa; font-family: monospace; transition: opacity 0.2s; opacity: 0.0;\"; msg.textContent = \"(Loading...)\"; root.state.loadingMsg = msg; root.shadowRoot.appendChild(msg); root.state.chain = new Promise((resolve, reject) => { const observer = new IntersectionObserver((entries) => { for (const entry of entries) { if (entry.isIntersecting) { resolve(); observer.disconnect(); return; } } }, {rootMargin: \"1000px\"}); window.setTimeout(() => { if (root.loadingMsg) { root.loadingMsg.style.opacity = \"1.0\"; } observer.observe(root); }, 0); }); root.state.deferring = false; const _insertNode = (node) => { for (let oldScript of node.querySelectorAll(\"script\")) { let newScript = document.createElement(\"script\"); newScript.type = oldScript.type; newScript.textContent = oldScript.textContent; oldScript.parentNode.replaceChild(newScript, oldScript); } if (root.state.loadingMsg) { root.state.loadingMsg.remove(); root.state.loadingMsg = null; } root.shadowRoot.appendChild(node); }; root.defns.insertContent = ((contentNode, compressed) => { if (compressed) { root.state.deferring = true; } if (root.state.deferring) { root.state.chain = (async () => { await root.state.chain; if (compressed) { const encoded = contentNode.textContent; const blob = new Blob([ Uint8Array.from(atob(encoded), (m) => m.codePointAt(0)) ]); const reader = blob.stream().pipeThrough( new DecompressionStream(\"deflate\") ).pipeThrough( new TextDecoderStream(\"utf-8\") ).getReader(); const parts = []; while (true) { const step = await reader.read(); if (step.done) { break; } parts.push(step.value); } const tpl = document.createElement('template'); tpl.innerHTML = parts.join(\"\"); _insertNode(tpl.content); } else { _insertNode(contentNode.content); } })(); } else { _insertNode(contentNode.content); } }); </script></treescope-run-here><div style=\"display:none\"> <script type=\"application/octet-stream\" >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</script> <treescope-run-here><script type=\"application/octet-stream\"> const root = ( Array.from(document.getElementsByClassName( \"treescope_out_6e82ff4f8bc84fb0a6e1b2dd416495d5\")) .filter((elt) => !elt.dataset['step0']) )[0]; root.dataset['step0'] = 1; root.defns.insertContent( this.parentNode.querySelector('script[type=\"application/octet-stream\"]'), true ); this.parentNode.remove(); </script></treescope-run-here> </div>"
      ],
      "text/plain": [
       "<IPython.core.display.HTML object>"
      ]
     },
     "metadata": {},
     "output_type": "display_data"
    },
    {
     "data": {
      "text/html": [
       "<treescope-run-here><script type=\"application/octet-stream\"> const root = ( Array.from(document.getElementsByClassName( \"treescope_out_6e82ff4f8bc84fb0a6e1b2dd416495d5\")) .filter((elt) => !elt.dataset.stolen) )[0]; root.dataset.stolen = 1; this.parentNode.replaceChild(root, this); </script></treescope-run-here>"
      ],
      "text/plain": [
       "Selection(\n",
       "  selected_by_path=OrderedDict({(SequenceKey(idx=0),): 1, (SequenceKey(idx=1),): 2, (SequenceKey(idx=2),): (), (SequenceKey(idx=3),): 3, (SequenceKey(idx=4),): None, (SequenceKey(idx=5),): 4}),\n",
       "  remainder=[\n",
       "    SelectionHole(path=(SequenceKey(idx=0),)),\n",
       "    SelectionHole(path=(SequenceKey(idx=1),)),\n",
       "    SelectionHole(path=(SequenceKey(idx=2),)),\n",
       "    SelectionHole(path=(SequenceKey(idx=3),)),\n",
       "    SelectionHole(path=(SequenceKey(idx=4),)),\n",
       "    SelectionHole(path=(SequenceKey(idx=5),)),\n",
       "  ],\n",
       ")"
      ]
     },
     "execution_count": 29,
     "metadata": {},
     "output_type": "execute_result"
    }
   ],
   "source": [
    "pz.select([1, 2, (), 3, None, 4]).at_childless()"
   ]
  },
  {
   "cell_type": "markdown",
   "metadata": {
    "id": "3y9uooSkPKoU"
   },
   "source": [
    "### Filtering selections\n",
    "Given an existing set of selected nodes, you can choose to filter down to only a subset that match a criterion:"
   ]
  },
  {
   "cell_type": "code",
   "execution_count": 30,
   "metadata": {
    "execution": {
     "iopub.execute_input": "2024-07-07T03:15:26.235555Z",
     "iopub.status.busy": "2024-07-07T03:15:26.232060Z",
     "iopub.status.idle": "2024-07-07T03:15:26.249082Z",
     "shell.execute_reply": "2024-07-07T03:15:26.248824Z"
    },
    "id": "Uk1-HVvKPOq6"
   },
   "outputs": [
    {
     "data": {
      "text/html": [
       "<script> (()=>{ if (customElements.get('treescope-container') === undefined) { class TreescopeContainer extends HTMLElement { constructor() { super(); this.attachShadow({mode: \"open\"}); this.defns = {}; this.state = {}; } } customElements.define(\"treescope-container\", TreescopeContainer); } if (customElements.get('treescope-run-here') === undefined) { class RunHere extends HTMLElement { constructor() { super() } connectedCallback() { const src = this.querySelector(\"script\").textContent; const fn = new Function(src); fn.call(this); this.remove(); } } customElements.define(\"treescope-run-here\", RunHere); } })(); </script> <treescope-container class=\"treescope_out_1b91c00470784ccf8c30f05c52bf22b2\" ></treescope-container> <treescope-run-here><script type=\"application/octet-stream\"> const root = ( Array.from(document.getElementsByClassName( \"treescope_out_1b91c00470784ccf8c30f05c52bf22b2\")) .filter((elt) => !elt.dataset.setup) )[0]; root.dataset.setup = 1; const msg = document.createElement(\"span\"); msg.style = \"color: #aaaaaa; font-family: monospace; transition: opacity 0.2s; opacity: 0.0;\"; msg.textContent = \"(Loading...)\"; root.state.loadingMsg = msg; root.shadowRoot.appendChild(msg); root.state.chain = new Promise((resolve, reject) => { const observer = new IntersectionObserver((entries) => { for (const entry of entries) { if (entry.isIntersecting) { resolve(); observer.disconnect(); return; } } }, {rootMargin: \"1000px\"}); window.setTimeout(() => { if (root.loadingMsg) { root.loadingMsg.style.opacity = \"1.0\"; } observer.observe(root); }, 0); }); root.state.deferring = false; const _insertNode = (node) => { for (let oldScript of node.querySelectorAll(\"script\")) { let newScript = document.createElement(\"script\"); newScript.type = oldScript.type; newScript.textContent = oldScript.textContent; oldScript.parentNode.replaceChild(newScript, oldScript); } if (root.state.loadingMsg) { root.state.loadingMsg.remove(); root.state.loadingMsg = null; } root.shadowRoot.appendChild(node); }; root.defns.insertContent = ((contentNode, compressed) => { if (compressed) { root.state.deferring = true; } if (root.state.deferring) { root.state.chain = (async () => { await root.state.chain; if (compressed) { const encoded = contentNode.textContent; const blob = new Blob([ Uint8Array.from(atob(encoded), (m) => m.codePointAt(0)) ]); const reader = blob.stream().pipeThrough( new DecompressionStream(\"deflate\") ).pipeThrough( new TextDecoderStream(\"utf-8\") ).getReader(); const parts = []; while (true) { const step = await reader.read(); if (step.done) { break; } parts.push(step.value); } const tpl = document.createElement('template'); tpl.innerHTML = parts.join(\"\"); _insertNode(tpl.content); } else { _insertNode(contentNode.content); } })(); } else { _insertNode(contentNode.content); } }); </script></treescope-run-here><div style=\"display:none\"> <script type=\"application/octet-stream\" >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</script> <treescope-run-here><script type=\"application/octet-stream\"> const root = ( Array.from(document.getElementsByClassName( \"treescope_out_1b91c00470784ccf8c30f05c52bf22b2\")) .filter((elt) => !elt.dataset['step0']) )[0]; root.dataset['step0'] = 1; root.defns.insertContent( this.parentNode.querySelector('script[type=\"application/octet-stream\"]'), true ); this.parentNode.remove(); </script></treescope-run-here> </div>"
      ],
      "text/plain": [
       "<IPython.core.display.HTML object>"
      ]
     },
     "metadata": {},
     "output_type": "display_data"
    },
    {
     "data": {
      "text/html": [
       "<treescope-run-here><script type=\"application/octet-stream\"> const root = ( Array.from(document.getElementsByClassName( \"treescope_out_1b91c00470784ccf8c30f05c52bf22b2\")) .filter((elt) => !elt.dataset.stolen) )[0]; root.dataset.stolen = 1; this.parentNode.replaceChild(root, this); </script></treescope-run-here>"
      ],
      "text/plain": [
       "Selection(\n",
       "  selected_by_path=OrderedDict({(SequenceKey(idx=0),): 0, (SequenceKey(idx=2),): 2, (SequenceKey(idx=4),): 4, (SequenceKey(idx=6),): 6, (SequenceKey(idx=8),): 8, (SequenceKey(idx=10),): 10, (SequenceKey(idx=12),): 12, (SequenceKey(idx=14),): 14, (SequenceKey(idx=16),): 16, (SequenceKey(idx=18),): 18}),\n",
       "  remainder=[SelectionHole(path=(SequenceKey(idx=0),)), 1, SelectionHole(path=(SequenceKey(idx=2),)), 3, SelectionHole(path=(SequenceKey(idx=4),)), 5, SelectionHole(path=(SequenceKey(idx=6),)), 7, SelectionHole(path=(SequenceKey(idx=8),)), 9, SelectionHole(path=(SequenceKey(idx=10),)), 11, SelectionHole(path=(SequenceKey(idx=12),)), 13, SelectionHole(path=(SequenceKey(idx=14),)), 15, SelectionHole(path=(SequenceKey(idx=16),)), 17, SelectionHole(path=(SequenceKey(idx=18),)), 19],\n",
       ")"
      ]
     },
     "execution_count": 30,
     "metadata": {},
     "output_type": "execute_result"
    }
   ],
   "source": [
    "pz.select(list(range(20))).at_instances_of(int).where(lambda x: x % 2 == 0)"
   ]
  },
  {
   "cell_type": "markdown",
   "metadata": {
    "id": "2Ae_LP3BdpGG"
   },
   "source": [
    "You can also choose to keep only the `n`th node that you've selected (e.g. the third integer in the collection), zero-indexed:"
   ]
  },
  {
   "cell_type": "code",
   "execution_count": 31,
   "metadata": {
    "execution": {
     "iopub.execute_input": "2024-07-07T03:15:26.254868Z",
     "iopub.status.busy": "2024-07-07T03:15:26.254633Z",
     "iopub.status.idle": "2024-07-07T03:15:26.261133Z",
     "shell.execute_reply": "2024-07-07T03:15:26.260922Z"
    },
    "id": "zkisw9V-eNaa"
   },
   "outputs": [
    {
     "data": {
      "text/html": [
       "<script> (()=>{ if (customElements.get('treescope-container') === undefined) { class TreescopeContainer extends HTMLElement { constructor() { super(); this.attachShadow({mode: \"open\"}); this.defns = {}; this.state = {}; } } customElements.define(\"treescope-container\", TreescopeContainer); } if (customElements.get('treescope-run-here') === undefined) { class RunHere extends HTMLElement { constructor() { super() } connectedCallback() { const src = this.querySelector(\"script\").textContent; const fn = new Function(src); fn.call(this); this.remove(); } } customElements.define(\"treescope-run-here\", RunHere); } })(); </script> <treescope-container class=\"treescope_out_c0cc57adb2c344ebbad8e4ff74a8b303\" ></treescope-container> <treescope-run-here><script type=\"application/octet-stream\"> const root = ( Array.from(document.getElementsByClassName( \"treescope_out_c0cc57adb2c344ebbad8e4ff74a8b303\")) .filter((elt) => !elt.dataset.setup) )[0]; root.dataset.setup = 1; const msg = document.createElement(\"span\"); msg.style = \"color: #aaaaaa; font-family: monospace; transition: opacity 0.2s; opacity: 0.0;\"; msg.textContent = \"(Loading...)\"; root.state.loadingMsg = msg; root.shadowRoot.appendChild(msg); root.state.chain = new Promise((resolve, reject) => { const observer = new IntersectionObserver((entries) => { for (const entry of entries) { if (entry.isIntersecting) { resolve(); observer.disconnect(); return; } } }, {rootMargin: \"1000px\"}); window.setTimeout(() => { if (root.loadingMsg) { root.loadingMsg.style.opacity = \"1.0\"; } observer.observe(root); }, 0); }); root.state.deferring = false; const _insertNode = (node) => { for (let oldScript of node.querySelectorAll(\"script\")) { let newScript = document.createElement(\"script\"); newScript.type = oldScript.type; newScript.textContent = oldScript.textContent; oldScript.parentNode.replaceChild(newScript, oldScript); } if (root.state.loadingMsg) { root.state.loadingMsg.remove(); root.state.loadingMsg = null; } root.shadowRoot.appendChild(node); }; root.defns.insertContent = ((contentNode, compressed) => { if (compressed) { root.state.deferring = true; } if (root.state.deferring) { root.state.chain = (async () => { await root.state.chain; if (compressed) { const encoded = contentNode.textContent; const blob = new Blob([ Uint8Array.from(atob(encoded), (m) => m.codePointAt(0)) ]); const reader = blob.stream().pipeThrough( new DecompressionStream(\"deflate\") ).pipeThrough( new TextDecoderStream(\"utf-8\") ).getReader(); const parts = []; while (true) { const step = await reader.read(); if (step.done) { break; } parts.push(step.value); } const tpl = document.createElement('template'); tpl.innerHTML = parts.join(\"\"); _insertNode(tpl.content); } else { _insertNode(contentNode.content); } })(); } else { _insertNode(contentNode.content); } }); </script></treescope-run-here><div style=\"display:none\"> <script type=\"application/octet-stream\" >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</script> <treescope-run-here><script type=\"application/octet-stream\"> const root = ( Array.from(document.getElementsByClassName( \"treescope_out_c0cc57adb2c344ebbad8e4ff74a8b303\")) .filter((elt) => !elt.dataset['step0']) )[0]; root.dataset['step0'] = 1; root.defns.insertContent( this.parentNode.querySelector('script[type=\"application/octet-stream\"]'), true ); this.parentNode.remove(); </script></treescope-run-here> </div>"
      ],
      "text/plain": [
       "<IPython.core.display.HTML object>"
      ]
     },
     "metadata": {},
     "output_type": "display_data"
    },
    {
     "data": {
      "text/html": [
       "<treescope-run-here><script type=\"application/octet-stream\"> const root = ( Array.from(document.getElementsByClassName( \"treescope_out_c0cc57adb2c344ebbad8e4ff74a8b303\")) .filter((elt) => !elt.dataset.stolen) )[0]; root.dataset.stolen = 1; this.parentNode.replaceChild(root, this); </script></treescope-run-here>"
      ],
      "text/plain": [
       "Selection(\n",
       "  selected_by_path=OrderedDict({(SequenceKey(idx=4),): 3}),\n",
       "  remainder=[\n",
       "    1,\n",
       "    'a',\n",
       "    2,\n",
       "    'b',\n",
       "    SelectionHole(path=(SequenceKey(idx=4),)),\n",
       "    'c',\n",
       "    4,\n",
       "    'd',\n",
       "  ],\n",
       ")"
      ]
     },
     "execution_count": 31,
     "metadata": {},
     "output_type": "execute_result"
    }
   ],
   "source": [
    "pz.select([1, \"a\", 2, \"b\", 3, \"c\", 4, \"d\"]).at_instances_of(int).pick_nth_selected(2)"
   ]
  },
  {
   "cell_type": "markdown",
   "metadata": {
    "id": "VK7GeXc6ka0s"
   },
   "source": [
    "### Inverting selections\n",
    "Selections can be inverted, which produces a new Selection which selects every PyTree node that did NOT contain any of the selected nodes:"
   ]
  },
  {
   "cell_type": "code",
   "execution_count": 32,
   "metadata": {
    "execution": {
     "iopub.execute_input": "2024-07-07T03:15:26.267880Z",
     "iopub.status.busy": "2024-07-07T03:15:26.267611Z",
     "iopub.status.idle": "2024-07-07T03:15:26.277652Z",
     "shell.execute_reply": "2024-07-07T03:15:26.277440Z"
    },
    "id": "CF1rqre8klTc"
   },
   "outputs": [
    {
     "name": "stdout",
     "output_type": "stream",
     "text": [
      "Original:\n"
     ]
    },
    {
     "data": {
      "text/html": [
       "<script> (()=>{ if (customElements.get('treescope-container') === undefined) { class TreescopeContainer extends HTMLElement { constructor() { super(); this.attachShadow({mode: \"open\"}); this.defns = {}; this.state = {}; } } customElements.define(\"treescope-container\", TreescopeContainer); } if (customElements.get('treescope-run-here') === undefined) { class RunHere extends HTMLElement { constructor() { super() } connectedCallback() { const src = this.querySelector(\"script\").textContent; const fn = new Function(src); fn.call(this); this.remove(); } } customElements.define(\"treescope-run-here\", RunHere); } })(); </script> <treescope-container class=\"treescope_out_d43a7d2726dc4926aa33f58f3a90ea97\" ></treescope-container> <treescope-run-here><script type=\"application/octet-stream\"> const root = ( Array.from(document.getElementsByClassName( \"treescope_out_d43a7d2726dc4926aa33f58f3a90ea97\")) .filter((elt) => !elt.dataset.setup) )[0]; root.dataset.setup = 1; const msg = document.createElement(\"span\"); msg.style = \"color: #aaaaaa; font-family: monospace; transition: opacity 0.2s; opacity: 0.0;\"; msg.textContent = \"(Loading...)\"; root.state.loadingMsg = msg; root.shadowRoot.appendChild(msg); root.state.chain = new Promise((resolve, reject) => { const observer = new IntersectionObserver((entries) => { for (const entry of entries) { if (entry.isIntersecting) { resolve(); observer.disconnect(); return; } } }, {rootMargin: \"1000px\"}); window.setTimeout(() => { if (root.loadingMsg) { root.loadingMsg.style.opacity = \"1.0\"; } observer.observe(root); }, 0); }); root.state.deferring = false; const _insertNode = (node) => { for (let oldScript of node.querySelectorAll(\"script\")) { let newScript = document.createElement(\"script\"); newScript.type = oldScript.type; newScript.textContent = oldScript.textContent; oldScript.parentNode.replaceChild(newScript, oldScript); } if (root.state.loadingMsg) { root.state.loadingMsg.remove(); root.state.loadingMsg = null; } root.shadowRoot.appendChild(node); }; root.defns.insertContent = ((contentNode, compressed) => { if (compressed) { root.state.deferring = true; } if (root.state.deferring) { root.state.chain = (async () => { await root.state.chain; if (compressed) { const encoded = contentNode.textContent; const blob = new Blob([ Uint8Array.from(atob(encoded), (m) => m.codePointAt(0)) ]); const reader = blob.stream().pipeThrough( new DecompressionStream(\"deflate\") ).pipeThrough( new TextDecoderStream(\"utf-8\") ).getReader(); const parts = []; while (true) { const step = await reader.read(); if (step.done) { break; } parts.push(step.value); } const tpl = document.createElement('template'); tpl.innerHTML = parts.join(\"\"); _insertNode(tpl.content); } else { _insertNode(contentNode.content); } })(); } else { _insertNode(contentNode.content); } }); </script></treescope-run-here><div style=\"display:none\"> <script type=\"application/octet-stream\" >eNrtGg1T4sjyr8zGqhOeEvkQXHGlXkC+3FVXcVfXuy1uSIZkJJnEyQTEK//765kgX0ZW69x3vq2HVQRmevq7e7obP4Ri7JKKLjghoekHpMt9X6C/UOCHVFCflREnLhZ0SPZQ32ci08cedcdl5PnMDwNswvrIoYJk1JcyCjisuDQUGYU6I8YBrDKfwXIPmwOb+xGzMqbv+rwcH91Dk289FwAAH7WEU0Z9KgCMCcLEHgqwZVFmZ1zSF2WUNx1JhJGMQ6jtwEpOL0o0TGAKPE+PTT5khjSkPepSAZzjSPhT2AxlglMWUjMT0jsS707Yvf+wFavnw1Q9GR4xoMlhLTQ5DQSS8u2v4yBwqYmlxrZ8UxApPSfYW6+kUun9CigU6IUCWaTPQrSPhEND3SbiDLR97FskldYdPxS62gfRiEDdgDApsmFKrPLQ79+TdlqYWS6BbRa57l5MQQc2O77PYDU18vkgjeZ58C9gSW4tLAtqysWA8L7PPcxMojN/lEor+wKB1KMdlIkPfUCFfBrw0D5KLXGtu4TZwkH7+ygrQVayzomIOAO9I+KGZMaYEzHJ2TLq0KF9IflTAPLDPfw9QSEFXsUsf6RzchORUBiMespcDY49kop1kpY49h4RCqLQidW4lyDjA4n9WIwVUj6fB8lFbEjh27YbR2VXRQ54ayBxyRXiik1EhuDgE0tK7tR3fUDGUuka1yRDE2DddHEYfoLgnOBNaVOcXQ/cUHsgfp8GfYL7Kx+vfNhKCgCLDpFCuK8tpg8NCdwDScntvpbVkM+AGRCbAdwqt0+WNSXPPEipQdjFCUtljK7pex6sK1dRGWQNq5eUYgkEl5kvUmXHHxKeToCfgLPI6xE+hzC7+z5XLM0AQpku7HmKhVwxV5QAfd+1cA8kYCDaEzkU+FoA68ZCA7RFw8DF44dcuQyIKsjFPeKWyz0CYUjmODDVay+RXpwvMzmZMCd5Nbs3o0WZyqI915eJ90maSmuPKVuYD0KCbbA+e3xaKXxpycFhqqJwVhL1EBvJdIg5IFY6jf6VnvEgjyYfeoBf4FAl/jJa/yNf7Jnr/yR7i4eeZLL0X2BS2lESjngoDRj4cP0RnkCXhq9HVoWCIpRRYRw+5eOvQ3UmniC34jEVnYbdPuWh6PqsK90/IbRWhZKeL8poSjQV+tvsxxZfZlFK5WFuQ8ESs6EC+v5vUoOUFox7kRBQKSQloNl2ktNqSFuCAkVCFZgM/AfJbVvaUhG5foTBKyh2UWfs9Xw3RCeRkPJaqBafhGcwhsDIjEhvAAWhOh56cEU4kIahXGMCjlMcEmtaRq6RrPzbe+zm8WlV52X1XeItSxnHR4IUyeludlIf4bBrQgkIip2ex32xcJU85OlVNJfOLJKcVz0aYp7KZCwscAYzMKyqJNLzy5KILI84Zg/erNCiXIgIaAxq34wfiZeJMuUADEOJ9W6RE0USvaNe4HOB2SPcPe4PCOvKlVky+rF2547N6fPBzPe6LDaAMatrQqlqccImrC42A4BzEfCVsutc6Ewu0oVQNbFrpqBjgXI5F9yqCksPBZbnp/z+NE56Prcg78acWL4A2SUX88oDFyC85992wdu7fhx/85gWa4RJIyYDKF+UEQQnZUiptQk1WFJSSqQjKpyfi/V1dLeJEhXx0wwzKcY8fDtrcu/1mwi7DJqBLrTRfXoL5xZS1nuVsvSQuES1Ft2eLJMxl1ERawl6Y7Bu6LvUQuYYsyUPkG44vzmP6+GunovHGEixMJo02pClrfhcgDlkb3U9hT85nmTEJND7mYEDEjqYQ4iOMGfghsvqWev3sZkrJAAG0KD9NR1Y8Ml8Qt7Xk7QwWcpkdVVIzKYiZTXTwDxjc2xRcIlUrlC0iL2JfMjhNkFZ8IGS6WzGOR0UIm9ItYQmeeURK49KiVfT2EKSexDmXh85KlO7Lg7gUv5xY/PyquVpCnFSUTQUELmF28t6EuY1+EgiMRE0Bph17UmqWOyc9cV2HK3AsCwqWxgQJAM+h9iTeF5xJibHFOidwTke633ueynLNyPZpesy1YT6ELsRCVPptB76HkmpBCQHHPKpx7WjHG48s3rU1lEapafjpNAhRMiZExmhWqfTkdJ05JqcIKlNnRMQ2SSdMTNTf/57UrGa5CEbv7x6jZO4pCT1yD3sLmXV7SxcxSE3yyjibkqWUmW5vzXy+/38Xg+KtdL2ppXdbR7ZRtVQr/apYfjqU/VsBO+thmHUjVWvqmcY9sD/aLXr1drom2Gcf6sdGkftas1o2Lft1idHhNUjSuxC4+Ay/6ld+jbsBBH9fFQ8zx1ets++Hg0vju7E53GjUdu4sAfntHqQdejBaXRYt5rX2VZvqz9sW8HNx5Jzc0HpaXTEmk6r/0UYX0rVY75tNNpsUC+ZX6KIbZwVb8xwMBr2G+7Wza1d99/bvcNR832uZWwx46z4ifPD3NmGfZc9s7LGYT9nH+/URs3rvJ31x9HZzo5Xz5VGrcvdE9sOyPlgvE3avbui2eMnTYEN+7R9PDrA4Tg8jdrty4t6Y2R8Pg3a36wvW1sb9s75zmVBZPsfP98YwyLg/GQc7xhHI8Oz7846G9FVh9Qvb/P9knl3vH3WGhejqvHxrnodNIICbZ3W6tmr6PN2Z4f1q5/qrcaRZ9CN98N63mE5Z2ej93V0eT1q8eFB80uNXffrdVtsnJhXrrtT3K0djqrvnd3to6Nmp9C8MmyvXbyunu6K8yZp7dar1XazcGBvn219M8c9owk2/fpxyzhtYoMc1VyjdVc/sa+EXap+tk9O2gfVAT0tkkb1slZtmDQbONwPGPhGcFU/yN3lBp1+rS+c8UfWsnAjbPWzx16zflyqWsbN168BFmHnyrMsTHfz/bvd7S/0+qYUeLx04n+rdShvesPDZqFz0Sk06nmzeto/32i5ftDcboSjIrZvSu/pFekcu8EFq7baxDriJLq4ada83EWDDzqd22K+dHERjgzgKI3U/Fik1pVbr8sr6094m0Y/tvwACtRZSKqpt67rKyA245j9DrhWTxcdNYZVPUTc3gBucA9molTcZSwOySEEz30ZvgA26ULkWgjpQaKQbZWsuvAIU4EYHlIbC5/rgDno+Zhb+ohTQc7JrUjNcIGwE1yzSSzUCSltrueSM1igck49AjVo6mFI/+gcJx40UI+O3m+ifDabVeUAJF+oDFJqepBMd66x0mbMybnJQwaTY2sNraEGpi4kNuEjCfxOZTYoARgUrJCNKeiMYEv2hRvzupvMk38wSZY95sMoeWFqq1WCu0mFmgIcALYI/Kjv01btL20ujjqXyyQAjmuBD5QF0eRO09TtDy2ClohkUijAZlwkgLjq8CJdBzBxIDHoCqigiNCUwjIDMoZodPY1rfL7g6xbExZeTeYf0f49+11Lskc8FtcquSln6rG5ALpYl2kVlGSyhaJpkdb6rONfRz6rSafeX39hVKvfC9LraDqO2NdSLvZ6Fla/gpTVO4iZ1pC6kPe1udEF3OnJwHICtTxrAWDl41Jz8HkiS2VRQ0uP1zNULtlQ8c8TWuW3tdv8zh6OH7+I0XIvMVruLRotvzq68r+IofIvMVT+LRqq8Jzo6v1S0VV4idEKb8Fo/9x1nnQvJ00Pl1h8NA99PMhbOvHE1OsZUNqzfUxbGgFqlTXUUUvEKv/YZs8g/sNw216dFwsrHWjF4382GLdfEozbbzGDFp+TQc1fKoMWX2K04ls0Wml1HG7/IoYqvcRQpbdoqJ3nRJeVFF2rzLH5dk228xKT7byeyeLH9+co5ocmXxptpHUsuhOThonjjZdUPH+nwEmeUyyxuzLYf3PFXg6FUU+NdzaRQ23HlaNtYiHc84fkN1vsPUOJa2gllmUdJ5RhqwqdNzoueuaYqJL6aWOh/8v2M2V77J/TH9iWNpd+/tcq1/hW/WrXjQR19UX378j/ImYm+UjGr6o9at3uv0SilTXCs66bhUd6Wl28ZPk5j1W5eApq0WHlP6KVV+w=</script> <treescope-run-here><script type=\"application/octet-stream\"> const root = ( Array.from(document.getElementsByClassName( \"treescope_out_d43a7d2726dc4926aa33f58f3a90ea97\")) .filter((elt) => !elt.dataset['step0']) )[0]; root.dataset['step0'] = 1; root.defns.insertContent( this.parentNode.querySelector('script[type=\"application/octet-stream\"]'), true ); this.parentNode.remove(); </script></treescope-run-here> </div>"
      ],
      "text/plain": [
       "<IPython.core.display.HTML object>"
      ]
     },
     "metadata": {},
     "output_type": "display_data"
    },
    {
     "name": "stdout",
     "output_type": "stream",
     "text": [
      "Inverted:\n"
     ]
    },
    {
     "data": {
      "text/html": [
       "<script> (()=>{ if (customElements.get('treescope-container') === undefined) { class TreescopeContainer extends HTMLElement { constructor() { super(); this.attachShadow({mode: \"open\"}); this.defns = {}; this.state = {}; } } customElements.define(\"treescope-container\", TreescopeContainer); } if (customElements.get('treescope-run-here') === undefined) { class RunHere extends HTMLElement { constructor() { super() } connectedCallback() { const src = this.querySelector(\"script\").textContent; const fn = new Function(src); fn.call(this); this.remove(); } } customElements.define(\"treescope-run-here\", RunHere); } })(); </script> <treescope-container class=\"treescope_out_35adb1df83ff44748767f77c26f78ec8\" ></treescope-container> <treescope-run-here><script type=\"application/octet-stream\"> const root = ( Array.from(document.getElementsByClassName( \"treescope_out_35adb1df83ff44748767f77c26f78ec8\")) .filter((elt) => !elt.dataset.setup) )[0]; root.dataset.setup = 1; const msg = document.createElement(\"span\"); msg.style = \"color: #aaaaaa; font-family: monospace; transition: opacity 0.2s; opacity: 0.0;\"; msg.textContent = \"(Loading...)\"; root.state.loadingMsg = msg; root.shadowRoot.appendChild(msg); root.state.chain = new Promise((resolve, reject) => { const observer = new IntersectionObserver((entries) => { for (const entry of entries) { if (entry.isIntersecting) { resolve(); observer.disconnect(); return; } } }, {rootMargin: \"1000px\"}); window.setTimeout(() => { if (root.loadingMsg) { root.loadingMsg.style.opacity = \"1.0\"; } observer.observe(root); }, 0); }); root.state.deferring = false; const _insertNode = (node) => { for (let oldScript of node.querySelectorAll(\"script\")) { let newScript = document.createElement(\"script\"); newScript.type = oldScript.type; newScript.textContent = oldScript.textContent; oldScript.parentNode.replaceChild(newScript, oldScript); } if (root.state.loadingMsg) { root.state.loadingMsg.remove(); root.state.loadingMsg = null; } root.shadowRoot.appendChild(node); }; root.defns.insertContent = ((contentNode, compressed) => { if (compressed) { root.state.deferring = true; } if (root.state.deferring) { root.state.chain = (async () => { await root.state.chain; if (compressed) { const encoded = contentNode.textContent; const blob = new Blob([ Uint8Array.from(atob(encoded), (m) => m.codePointAt(0)) ]); const reader = blob.stream().pipeThrough( new DecompressionStream(\"deflate\") ).pipeThrough( new TextDecoderStream(\"utf-8\") ).getReader(); const parts = []; while (true) { const step = await reader.read(); if (step.done) { break; } parts.push(step.value); } const tpl = document.createElement('template'); tpl.innerHTML = parts.join(\"\"); _insertNode(tpl.content); } else { _insertNode(contentNode.content); } })(); } else { _insertNode(contentNode.content); } }); </script></treescope-run-here><div style=\"display:none\"> <script type=\"application/octet-stream\" >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</script> <treescope-run-here><script type=\"application/octet-stream\"> const root = ( Array.from(document.getElementsByClassName( \"treescope_out_35adb1df83ff44748767f77c26f78ec8\")) .filter((elt) => !elt.dataset['step0']) )[0]; root.dataset['step0'] = 1; root.defns.insertContent( this.parentNode.querySelector('script[type=\"application/octet-stream\"]'), true ); this.parentNode.remove(); </script></treescope-run-here> </div>"
      ],
      "text/plain": [
       "<IPython.core.display.HTML object>"
      ]
     },
     "metadata": {},
     "output_type": "display_data"
    }
   ],
   "source": [
    "selection = pz.select([1, \"a\", 2, \"b\", 3, \"c\", 4, \"d\"]).at_instances_of(int).pick_nth_selected(2)\n",
    "\n",
    "print(\"Original:\")\n",
    "selection.show_selection()\n",
    "print(\"Inverted:\")\n",
    "selection.invert().show_selection()"
   ]
  },
  {
   "cell_type": "code",
   "execution_count": 33,
   "metadata": {
    "execution": {
     "iopub.execute_input": "2024-07-07T03:15:26.287012Z",
     "iopub.status.busy": "2024-07-07T03:15:26.286475Z",
     "iopub.status.idle": "2024-07-07T03:15:26.306030Z",
     "shell.execute_reply": "2024-07-07T03:15:26.305845Z"
    },
    "id": "HaLCG89dknQg"
   },
   "outputs": [
    {
     "name": "stdout",
     "output_type": "stream",
     "text": [
      "Original:\n"
     ]
    },
    {
     "data": {
      "text/html": [
       "<script> (()=>{ if (customElements.get('treescope-container') === undefined) { class TreescopeContainer extends HTMLElement { constructor() { super(); this.attachShadow({mode: \"open\"}); this.defns = {}; this.state = {}; } } customElements.define(\"treescope-container\", TreescopeContainer); } if (customElements.get('treescope-run-here') === undefined) { class RunHere extends HTMLElement { constructor() { super() } connectedCallback() { const src = this.querySelector(\"script\").textContent; const fn = new Function(src); fn.call(this); this.remove(); } } customElements.define(\"treescope-run-here\", RunHere); } })(); </script> <treescope-container class=\"treescope_out_08b59d9f11a847c3b5a3552d31688d0a\" ></treescope-container> <treescope-run-here><script type=\"application/octet-stream\"> const root = ( Array.from(document.getElementsByClassName( \"treescope_out_08b59d9f11a847c3b5a3552d31688d0a\")) .filter((elt) => !elt.dataset.setup) )[0]; root.dataset.setup = 1; const msg = document.createElement(\"span\"); msg.style = \"color: #aaaaaa; font-family: monospace; transition: opacity 0.2s; opacity: 0.0;\"; msg.textContent = \"(Loading...)\"; root.state.loadingMsg = msg; root.shadowRoot.appendChild(msg); root.state.chain = new Promise((resolve, reject) => { const observer = new IntersectionObserver((entries) => { for (const entry of entries) { if (entry.isIntersecting) { resolve(); observer.disconnect(); return; } } }, {rootMargin: \"1000px\"}); window.setTimeout(() => { if (root.loadingMsg) { root.loadingMsg.style.opacity = \"1.0\"; } observer.observe(root); }, 0); }); root.state.deferring = false; const _insertNode = (node) => { for (let oldScript of node.querySelectorAll(\"script\")) { let newScript = document.createElement(\"script\"); newScript.type = oldScript.type; newScript.textContent = oldScript.textContent; oldScript.parentNode.replaceChild(newScript, oldScript); } if (root.state.loadingMsg) { root.state.loadingMsg.remove(); root.state.loadingMsg = null; } root.shadowRoot.appendChild(node); }; root.defns.insertContent = ((contentNode, compressed) => { if (compressed) { root.state.deferring = true; } if (root.state.deferring) { root.state.chain = (async () => { await root.state.chain; if (compressed) { const encoded = contentNode.textContent; const blob = new Blob([ Uint8Array.from(atob(encoded), (m) => m.codePointAt(0)) ]); const reader = blob.stream().pipeThrough( new DecompressionStream(\"deflate\") ).pipeThrough( new TextDecoderStream(\"utf-8\") ).getReader(); const parts = []; while (true) { const step = await reader.read(); if (step.done) { break; } parts.push(step.value); } const tpl = document.createElement('template'); tpl.innerHTML = parts.join(\"\"); _insertNode(tpl.content); } else { _insertNode(contentNode.content); } })(); } else { _insertNode(contentNode.content); } }); </script></treescope-run-here><div style=\"display:none\"> <script type=\"application/octet-stream\" >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</script> <treescope-run-here><script type=\"application/octet-stream\"> const root = ( Array.from(document.getElementsByClassName( \"treescope_out_08b59d9f11a847c3b5a3552d31688d0a\")) .filter((elt) => !elt.dataset['step0']) )[0]; root.dataset['step0'] = 1; root.defns.insertContent( this.parentNode.querySelector('script[type=\"application/octet-stream\"]'), true ); this.parentNode.remove(); </script></treescope-run-here> </div>"
      ],
      "text/plain": [
       "<IPython.core.display.HTML object>"
      ]
     },
     "metadata": {},
     "output_type": "display_data"
    },
    {
     "data": {
      "text/html": [
       "<div style=\"display:none\"> <script type=\"application/octet-stream\" >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</script> <treescope-run-here><script type=\"application/octet-stream\"> const root = ( Array.from(document.getElementsByClassName( \"treescope_out_08b59d9f11a847c3b5a3552d31688d0a\")) .filter((elt) => !elt.dataset['step1']) )[0]; root.dataset['step1'] = 1; root.defns.insertContent( this.parentNode.querySelector('script[type=\"application/octet-stream\"]'), true ); this.parentNode.remove(); </script></treescope-run-here> </div>"
      ],
      "text/plain": [
       "<IPython.core.display.HTML object>"
      ]
     },
     "metadata": {},
     "output_type": "display_data"
    },
    {
     "name": "stdout",
     "output_type": "stream",
     "text": [
      "Inverted:\n"
     ]
    },
    {
     "data": {
      "text/html": [
       "<script> (()=>{ if (customElements.get('treescope-container') === undefined) { class TreescopeContainer extends HTMLElement { constructor() { super(); this.attachShadow({mode: \"open\"}); this.defns = {}; this.state = {}; } } customElements.define(\"treescope-container\", TreescopeContainer); } if (customElements.get('treescope-run-here') === undefined) { class RunHere extends HTMLElement { constructor() { super() } connectedCallback() { const src = this.querySelector(\"script\").textContent; const fn = new Function(src); fn.call(this); this.remove(); } } customElements.define(\"treescope-run-here\", RunHere); } })(); </script> <treescope-container class=\"treescope_out_f2ce4b210e5f40e098c1fe039092eb0f\" ></treescope-container> <treescope-run-here><script type=\"application/octet-stream\"> const root = ( Array.from(document.getElementsByClassName( \"treescope_out_f2ce4b210e5f40e098c1fe039092eb0f\")) .filter((elt) => !elt.dataset.setup) )[0]; root.dataset.setup = 1; const msg = document.createElement(\"span\"); msg.style = \"color: #aaaaaa; font-family: monospace; transition: opacity 0.2s; opacity: 0.0;\"; msg.textContent = \"(Loading...)\"; root.state.loadingMsg = msg; root.shadowRoot.appendChild(msg); root.state.chain = new Promise((resolve, reject) => { const observer = new IntersectionObserver((entries) => { for (const entry of entries) { if (entry.isIntersecting) { resolve(); observer.disconnect(); return; } } }, {rootMargin: \"1000px\"}); window.setTimeout(() => { if (root.loadingMsg) { root.loadingMsg.style.opacity = \"1.0\"; } observer.observe(root); }, 0); }); root.state.deferring = false; const _insertNode = (node) => { for (let oldScript of node.querySelectorAll(\"script\")) { let newScript = document.createElement(\"script\"); newScript.type = oldScript.type; newScript.textContent = oldScript.textContent; oldScript.parentNode.replaceChild(newScript, oldScript); } if (root.state.loadingMsg) { root.state.loadingMsg.remove(); root.state.loadingMsg = null; } root.shadowRoot.appendChild(node); }; root.defns.insertContent = ((contentNode, compressed) => { if (compressed) { root.state.deferring = true; } if (root.state.deferring) { root.state.chain = (async () => { await root.state.chain; if (compressed) { const encoded = contentNode.textContent; const blob = new Blob([ Uint8Array.from(atob(encoded), (m) => m.codePointAt(0)) ]); const reader = blob.stream().pipeThrough( new DecompressionStream(\"deflate\") ).pipeThrough( new TextDecoderStream(\"utf-8\") ).getReader(); const parts = []; while (true) { const step = await reader.read(); if (step.done) { break; } parts.push(step.value); } const tpl = document.createElement('template'); tpl.innerHTML = parts.join(\"\"); _insertNode(tpl.content); } else { _insertNode(contentNode.content); } })(); } else { _insertNode(contentNode.content); } }); </script></treescope-run-here><div style=\"display:none\"> <script type=\"application/octet-stream\" >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</script> <treescope-run-here><script type=\"application/octet-stream\"> const root = ( Array.from(document.getElementsByClassName( \"treescope_out_f2ce4b210e5f40e098c1fe039092eb0f\")) .filter((elt) => !elt.dataset['step0']) )[0]; root.dataset['step0'] = 1; root.defns.insertContent( this.parentNode.querySelector('script[type=\"application/octet-stream\"]'), true ); this.parentNode.remove(); </script></treescope-run-here> </div>"
      ],
      "text/plain": [
       "<IPython.core.display.HTML object>"
      ]
     },
     "metadata": {},
     "output_type": "display_data"
    },
    {
     "data": {
      "text/html": [
       "<div style=\"display:none\"> <script type=\"application/octet-stream\" >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</script> <treescope-run-here><script type=\"application/octet-stream\"> const root = ( Array.from(document.getElementsByClassName( \"treescope_out_f2ce4b210e5f40e098c1fe039092eb0f\")) .filter((elt) => !elt.dataset['step1']) )[0]; root.dataset['step1'] = 1; root.defns.insertContent( this.parentNode.querySelector('script[type=\"application/octet-stream\"]'), true ); this.parentNode.remove(); </script></treescope-run-here> </div>"
      ],
      "text/plain": [
       "<IPython.core.display.HTML object>"
      ]
     },
     "metadata": {},
     "output_type": "display_data"
    }
   ],
   "source": [
    "selection = pz.select(my_nested_object).at_keypaths([\n",
    "    (jax.tree_util.DictKey(key='c'), jax.tree_util.SequenceKey(idx=2), jax.tree_util.DictKey(key='value')),\n",
    "    (jax.tree_util.DictKey(key='c'), jax.tree_util.SequenceKey(idx=0)),\n",
    "])\n",
    "\n",
    "print(\"Original:\")\n",
    "selection.show_selection()\n",
    "print(\"Inverted:\")\n",
    "selection.invert().show_selection()"
   ]
  },
  {
   "cell_type": "markdown",
   "metadata": {
    "id": "-6RVyMq6NY6r"
   },
   "source": [
    "### Building more complex selections\n",
    "For highly dynamic selections, you can drop down to lower-level manipulation.\n",
    "\n",
    "Selections provide a `.refine` method, which runs a function on each of the currently selected values, takes the `Selection` returned by that function, and then takes the disjoint union of them. This can be useful for dynamic input-dependent branching:"
   ]
  },
  {
   "cell_type": "code",
   "execution_count": 34,
   "metadata": {
    "execution": {
     "iopub.execute_input": "2024-07-07T03:15:26.311640Z",
     "iopub.status.busy": "2024-07-07T03:15:26.311352Z",
     "iopub.status.idle": "2024-07-07T03:15:26.313732Z",
     "shell.execute_reply": "2024-07-07T03:15:26.313537Z"
    },
    "id": "pMKL39k7Rdty"
   },
   "outputs": [],
   "source": [
    "# Select field \"a\" of Foo and field \"b\" of Bar\n",
    "\n",
    "@pz.pytree_dataclass\n",
    "class Foo(pz.Struct):\n",
    "  a: typing.Any\n",
    "  b: typing.Any\n",
    "\n",
    "@pz.pytree_dataclass\n",
    "class Bar(pz.Struct):\n",
    "  a: typing.Any\n",
    "  b: typing.Any\n",
    "\n",
    "def refine_fn(value):\n",
    "  if isinstance(value, Foo):\n",
    "    return value.select().at(lambda x: x.a)\n",
    "  else:\n",
    "    return value.select().at(lambda x: x.b)"
   ]
  },
  {
   "cell_type": "code",
   "execution_count": 35,
   "metadata": {
    "execution": {
     "iopub.execute_input": "2024-07-07T03:15:26.324831Z",
     "iopub.status.busy": "2024-07-07T03:15:26.320993Z",
     "iopub.status.idle": "2024-07-07T03:15:26.335456Z",
     "shell.execute_reply": "2024-07-07T03:15:26.335142Z"
    },
    "id": "Hvj4K7tVeag7"
   },
   "outputs": [
    {
     "data": {
      "text/html": [
       "<script> (()=>{ if (customElements.get('treescope-container') === undefined) { class TreescopeContainer extends HTMLElement { constructor() { super(); this.attachShadow({mode: \"open\"}); this.defns = {}; this.state = {}; } } customElements.define(\"treescope-container\", TreescopeContainer); } if (customElements.get('treescope-run-here') === undefined) { class RunHere extends HTMLElement { constructor() { super() } connectedCallback() { const src = this.querySelector(\"script\").textContent; const fn = new Function(src); fn.call(this); this.remove(); } } customElements.define(\"treescope-run-here\", RunHere); } })(); </script> <treescope-container class=\"treescope_out_9f64cf3601404a8d8e28539b2e05a9e6\" ></treescope-container> <treescope-run-here><script type=\"application/octet-stream\"> const root = ( Array.from(document.getElementsByClassName( \"treescope_out_9f64cf3601404a8d8e28539b2e05a9e6\")) .filter((elt) => !elt.dataset.setup) )[0]; root.dataset.setup = 1; const msg = document.createElement(\"span\"); msg.style = \"color: #aaaaaa; font-family: monospace; transition: opacity 0.2s; opacity: 0.0;\"; msg.textContent = \"(Loading...)\"; root.state.loadingMsg = msg; root.shadowRoot.appendChild(msg); root.state.chain = new Promise((resolve, reject) => { const observer = new IntersectionObserver((entries) => { for (const entry of entries) { if (entry.isIntersecting) { resolve(); observer.disconnect(); return; } } }, {rootMargin: \"1000px\"}); window.setTimeout(() => { if (root.loadingMsg) { root.loadingMsg.style.opacity = \"1.0\"; } observer.observe(root); }, 0); }); root.state.deferring = false; const _insertNode = (node) => { for (let oldScript of node.querySelectorAll(\"script\")) { let newScript = document.createElement(\"script\"); newScript.type = oldScript.type; newScript.textContent = oldScript.textContent; oldScript.parentNode.replaceChild(newScript, oldScript); } if (root.state.loadingMsg) { root.state.loadingMsg.remove(); root.state.loadingMsg = null; } root.shadowRoot.appendChild(node); }; root.defns.insertContent = ((contentNode, compressed) => { if (compressed) { root.state.deferring = true; } if (root.state.deferring) { root.state.chain = (async () => { await root.state.chain; if (compressed) { const encoded = contentNode.textContent; const blob = new Blob([ Uint8Array.from(atob(encoded), (m) => m.codePointAt(0)) ]); const reader = blob.stream().pipeThrough( new DecompressionStream(\"deflate\") ).pipeThrough( new TextDecoderStream(\"utf-8\") ).getReader(); const parts = []; while (true) { const step = await reader.read(); if (step.done) { break; } parts.push(step.value); } const tpl = document.createElement('template'); tpl.innerHTML = parts.join(\"\"); _insertNode(tpl.content); } else { _insertNode(contentNode.content); } })(); } else { _insertNode(contentNode.content); } }); </script></treescope-run-here><div style=\"display:none\"> <script type=\"application/octet-stream\" >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</script> <treescope-run-here><script type=\"application/octet-stream\"> const root = ( Array.from(document.getElementsByClassName( \"treescope_out_9f64cf3601404a8d8e28539b2e05a9e6\")) .filter((elt) => !elt.dataset['step0']) )[0]; root.dataset['step0'] = 1; root.defns.insertContent( this.parentNode.querySelector('script[type=\"application/octet-stream\"]'), true ); this.parentNode.remove(); </script></treescope-run-here> </div>"
      ],
      "text/plain": [
       "<IPython.core.display.HTML object>"
      ]
     },
     "metadata": {},
     "output_type": "display_data"
    },
    {
     "data": {
      "text/html": [
       "<treescope-run-here><script type=\"application/octet-stream\"> const root = ( Array.from(document.getElementsByClassName( \"treescope_out_9f64cf3601404a8d8e28539b2e05a9e6\")) .filter((elt) => !elt.dataset.stolen) )[0]; root.dataset.stolen = 1; this.parentNode.replaceChild(root, this); </script></treescope-run-here>"
      ],
      "text/plain": [
       "Selection(\n",
       "  selected_by_path=OrderedDict({(SequenceKey(idx=0), GetAttrKey(name='a')): 1, (SequenceKey(idx=1), GetAttrKey(name='b')): 4, (SequenceKey(idx=2), GetAttrKey(name='a')): 5, (SequenceKey(idx=3), GetAttrKey(name='b')): 8}),\n",
       "  remainder=[\n",
       "    Foo(\n",
       "      a=SelectionHole(path=(SequenceKey(idx=0), GetAttrKey(name='a'))),\n",
       "      b=2,\n",
       "    ),\n",
       "    Bar(\n",
       "      a=3,\n",
       "      b=SelectionHole(path=(SequenceKey(idx=1), GetAttrKey(name='b'))),\n",
       "    ),\n",
       "    Foo(\n",
       "      a=SelectionHole(path=(SequenceKey(idx=2), GetAttrKey(name='a'))),\n",
       "      b=6,\n",
       "    ),\n",
       "    Bar(a=7, b=SelectionHole(path=(SequenceKey(idx=3), GetAttrKey(name='b')))),\n",
       "    None,\n",
       "  ],\n",
       ")"
      ]
     },
     "execution_count": 35,
     "metadata": {},
     "output_type": "execute_result"
    }
   ],
   "source": [
    "pz.select([\n",
    "    Foo(1, 2),\n",
    "    Bar(3, 4),\n",
    "    Foo(5, 6),\n",
    "    Bar(7, 8),\n",
    "    None,\n",
    "]).at_instances_of((Foo, Bar)).refine(refine_fn)"
   ]
  },
  {
   "cell_type": "markdown",
   "metadata": {
    "id": "dUGwFROiBdhV"
   },
   "source": [
    "## Inspecting selections and retrieving values\n",
    "\n",
    "Once you have a selection, there are various ways to inspect them and their contents."
   ]
  },
  {
   "cell_type": "markdown",
   "metadata": {
    "id": "UV1JQsx7nF6f"
   },
   "source": [
    "### Looking at selections\n",
    "You can view a pretty-printed version of the selection using `.show_selection()` (the same pretty-printing we've been using throughout this notebook):"
   ]
  },
  {
   "cell_type": "code",
   "execution_count": 36,
   "metadata": {
    "execution": {
     "iopub.execute_input": "2024-07-07T03:15:26.343820Z",
     "iopub.status.busy": "2024-07-07T03:15:26.343401Z",
     "iopub.status.idle": "2024-07-07T03:15:26.351118Z",
     "shell.execute_reply": "2024-07-07T03:15:26.350938Z"
    },
    "id": "-W2_LNVonip5"
   },
   "outputs": [
    {
     "data": {
      "text/html": [
       "<script> (()=>{ if (customElements.get('treescope-container') === undefined) { class TreescopeContainer extends HTMLElement { constructor() { super(); this.attachShadow({mode: \"open\"}); this.defns = {}; this.state = {}; } } customElements.define(\"treescope-container\", TreescopeContainer); } if (customElements.get('treescope-run-here') === undefined) { class RunHere extends HTMLElement { constructor() { super() } connectedCallback() { const src = this.querySelector(\"script\").textContent; const fn = new Function(src); fn.call(this); this.remove(); } } customElements.define(\"treescope-run-here\", RunHere); } })(); </script> <treescope-container class=\"treescope_out_33f958dbd62c459ebb8a7b1f8f7b7cb2\" ></treescope-container> <treescope-run-here><script type=\"application/octet-stream\"> const root = ( Array.from(document.getElementsByClassName( \"treescope_out_33f958dbd62c459ebb8a7b1f8f7b7cb2\")) .filter((elt) => !elt.dataset.setup) )[0]; root.dataset.setup = 1; const msg = document.createElement(\"span\"); msg.style = \"color: #aaaaaa; font-family: monospace; transition: opacity 0.2s; opacity: 0.0;\"; msg.textContent = \"(Loading...)\"; root.state.loadingMsg = msg; root.shadowRoot.appendChild(msg); root.state.chain = new Promise((resolve, reject) => { const observer = new IntersectionObserver((entries) => { for (const entry of entries) { if (entry.isIntersecting) { resolve(); observer.disconnect(); return; } } }, {rootMargin: \"1000px\"}); window.setTimeout(() => { if (root.loadingMsg) { root.loadingMsg.style.opacity = \"1.0\"; } observer.observe(root); }, 0); }); root.state.deferring = false; const _insertNode = (node) => { for (let oldScript of node.querySelectorAll(\"script\")) { let newScript = document.createElement(\"script\"); newScript.type = oldScript.type; newScript.textContent = oldScript.textContent; oldScript.parentNode.replaceChild(newScript, oldScript); } if (root.state.loadingMsg) { root.state.loadingMsg.remove(); root.state.loadingMsg = null; } root.shadowRoot.appendChild(node); }; root.defns.insertContent = ((contentNode, compressed) => { if (compressed) { root.state.deferring = true; } if (root.state.deferring) { root.state.chain = (async () => { await root.state.chain; if (compressed) { const encoded = contentNode.textContent; const blob = new Blob([ Uint8Array.from(atob(encoded), (m) => m.codePointAt(0)) ]); const reader = blob.stream().pipeThrough( new DecompressionStream(\"deflate\") ).pipeThrough( new TextDecoderStream(\"utf-8\") ).getReader(); const parts = []; while (true) { const step = await reader.read(); if (step.done) { break; } parts.push(step.value); } const tpl = document.createElement('template'); tpl.innerHTML = parts.join(\"\"); _insertNode(tpl.content); } else { _insertNode(contentNode.content); } })(); } else { _insertNode(contentNode.content); } }); </script></treescope-run-here><div style=\"display:none\"> <script type=\"application/octet-stream\" >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</script> <treescope-run-here><script type=\"application/octet-stream\"> const root = ( Array.from(document.getElementsByClassName( \"treescope_out_33f958dbd62c459ebb8a7b1f8f7b7cb2\")) .filter((elt) => !elt.dataset['step0']) )[0]; root.dataset['step0'] = 1; root.defns.insertContent( this.parentNode.querySelector('script[type=\"application/octet-stream\"]'), true ); this.parentNode.remove(); </script></treescope-run-here> </div>"
      ],
      "text/plain": [
       "<IPython.core.display.HTML object>"
      ]
     },
     "metadata": {},
     "output_type": "display_data"
    },
    {
     "data": {
      "text/html": [
       "<div style=\"display:none\"> <script type=\"application/octet-stream\" >eNrtGm1v2kb4r5wcrYEWOxgM2BCQtnST+qUfug/7UFXW+e6MvRw+73ykSav89z13NhADISRN23V1pAD2Pe/vD/icpleoUDecTS2aFjnHN2OUiYxZKKVTKxYypCxmUjIaeoxiEvRGzKddz8UE9yLqjiLXiwM37lLfmp0XOc7gVdObOZFQSix4mrFxJlTLiQWnOOIszARl4wQXrRnHEeOz+kmoxHzOS5wxSRi5ZLTdRi/b6DPKMaVpNreVyMeo67gDtpggzcFOWDpP1Bi5jrn3yU4zyq7heoJyUaQqFdkYScaxSq/YBN06RHBQDkeRZFdA2VyO0cnQ7+FudwNAxGLBMhV+TFgWsmvQjzL6bPqsuGLzt+YKxtZKbQAijsnlBEXwOpdimVG7OrjCsmXbERfksrzVBighKZOljdz8GhWCp/QQZOmoh4BvkZPc5EyCZJehZAuhWJiIKybRttC7YopLTpKW7/2ineYNkNsNSoofcREWRArOAV0JJ05loUKVksujqQae42q63QC5/aEz2kvYWP8gu/YOQyVxtoqcbebILRDDBYMws8VSdVAsMmV/NEG4daa9mpAkhNwgLOQsVncCWV/qSB6QpA4nDaUNoCzDew1ZKKwDKSRJyqlkmYmVTOEUhNUfIGaNHbbh1kqWvkezLZBnC+11NTFRNEELLOdgkFJhgjlp9UiCbNDII0n7GFm/mmhVGpSilQlgpNqbBrUSZPQAn/AEvUQtF9S5i1LRLQCKtdvttQ02qPbxuCu+q2Q1mGuSq7t2dfsbWnNTbowFbYlpuiwqBV22AO3uV8xI+mVCPBjin2sVsfSvLnVHVMTDwLcOUPwq/W3j5C9ocednZSM2XRkRjotiapk+ZgqZkmletezVBFBTENoSjXxvgCf7XAeyTaw66ZqWKC3CsrqKzBRUAC6tcZ5m+VIhBb1kahn9I3Ft7SVSmQpQzwxSnd+mGylIAqYsRLHC9iW7ybFKptaWeLXqXjkO1QuzdYytqsN/lphneMHCXLI4vbZmOcs+4dRRkrGCiJxBGOYgSQFtMsac6w7igEvMhFS+vRXq3Yp6rpVu1c/PzyqL3eW7U/jr0W4dgN4BFdBV0gxzaOe5nD7KuE4Nd5+pwwL0yubW7MXJdW80+VVKfNN63+0gt4N6HdTvIK+DBh007KBRB/kdFHzoIGrCIs1Uv9cu8eom6ew6CJhxnBeMWjO0At4BWk1udUFPtYuiJeRadopEdsFhEJieqiQtHFD5nRDqLURhq+0kolAODMJZ4SRAB8JTY4ZEI7Q0fPu0tI++PbVaHC8iipEECmPzWjdX29pk3BptjE4fxDudoAoDZ1A/cJnzpxeAjrRf4PN6Cj878PaEEIF14IkBktK94ZEtF5Hm4HbdoN/3/FEAu0XX+7/5O6VP8TZgfUdfmyR8orc17qHG8Px94MCiZh0MjZO98bNT2P/G16vCbYrYoep8iLtu1zCYb0r3wXNr9nwOuLvrQj3mamIOUFlhtX5GsfLyxVxNDoTQfyy9tLZPSTCD91wpdmz6bdmu09j3Ufa9d5rbfNOEtjZoa9Z+nHdAzHtHvt00WqfO4wab3QxbvdH0anb+iO/kokHPHw1HAz/Crhf4QxwHfpcNgj5xsdvvuZvv5L7KDuBOvm2pb0b+H3DkR5AaOjd0cujs0Omh80MniM4QnSIogPTRKeQ2S8DPvAT0ekHX9ZoloFkCmiWgWQKaJaCx7w+1BHzZqPN8a8FwFLs91u0P/QH1WBwE3sAf9pgXex6NaDRq1oJmLfjuvwQ4HbT/f50XMRe4WQJ+uiXAH/nBwG+WgGYJaJaAZgloloDGvj/WLwGPGGweGPnXI6Qtl5mdMKmf5iEgz6pa4hymV2LMeSaIYsqGWYvhhTUjIisAypSIN7RAU/TeOv5R3g6yjv+N4S7wg5vHh0kpGRVExwnItRu2E1RJD+pXQBW488+SyZs/GWdECdmyNkN2qI+tNWos8Vx3gRJ1qT86BCyj2Ovq8o8KYpfdBYetChBXNBywMsvohS7GrRWQQzSUkVfJpXmUDVYw1OJMoRSQuxN4O984wOEsm6sE7r56pR/10nDl4V1OcPk7Z/rjbzdvgNkK+336ARhonEIsJWGvYRe81ygnehe00Cu0hV5eOjA/ckiLv1KVtNbUykdhK95GU0DYnOrnfa+MZ27XZqoRqtmurYPahCkE8p4Y/hdyHFZq</script> <treescope-run-here><script type=\"application/octet-stream\"> const root = ( Array.from(document.getElementsByClassName( \"treescope_out_33f958dbd62c459ebb8a7b1f8f7b7cb2\")) .filter((elt) => !elt.dataset['step1']) )[0]; root.dataset['step1'] = 1; root.defns.insertContent( this.parentNode.querySelector('script[type=\"application/octet-stream\"]'), true ); this.parentNode.remove(); </script></treescope-run-here> </div>"
      ],
      "text/plain": [
       "<IPython.core.display.HTML object>"
      ]
     },
     "metadata": {},
     "output_type": "display_data"
    }
   ],
   "source": [
    "pz.select(my_nested_object).at_children().show_selection()"
   ]
  },
  {
   "cell_type": "markdown",
   "metadata": {
    "id": "chGlzxpEnQGr"
   },
   "source": [
    "You can also view the selected values without the selection annotations using `.show_value()`. This is similar to just rendering the root object with treescope, but it automatically expands so that the nodes you selected are visible, and collapses all other nodes."
   ]
  },
  {
   "cell_type": "code",
   "execution_count": 37,
   "metadata": {
    "execution": {
     "iopub.execute_input": "2024-07-07T03:15:26.369003Z",
     "iopub.status.busy": "2024-07-07T03:15:26.358512Z",
     "iopub.status.idle": "2024-07-07T03:15:26.496288Z",
     "shell.execute_reply": "2024-07-07T03:15:26.495895Z"
    },
    "id": "Ei6MgFeAoQ0Z"
   },
   "outputs": [
    {
     "data": {
      "text/html": [
       "<script> (()=>{ if (customElements.get('treescope-container') === undefined) { class TreescopeContainer extends HTMLElement { constructor() { super(); this.attachShadow({mode: \"open\"}); this.defns = {}; this.state = {}; } } customElements.define(\"treescope-container\", TreescopeContainer); } if (customElements.get('treescope-run-here') === undefined) { class RunHere extends HTMLElement { constructor() { super() } connectedCallback() { const src = this.querySelector(\"script\").textContent; const fn = new Function(src); fn.call(this); this.remove(); } } customElements.define(\"treescope-run-here\", RunHere); } })(); </script> <treescope-container class=\"treescope_out_2c477c8c35b64c03843591ef1085a997\" ></treescope-container> <treescope-run-here><script type=\"application/octet-stream\"> const root = ( Array.from(document.getElementsByClassName( \"treescope_out_2c477c8c35b64c03843591ef1085a997\")) .filter((elt) => !elt.dataset.setup) )[0]; root.dataset.setup = 1; const msg = document.createElement(\"span\"); msg.style = \"color: #aaaaaa; font-family: monospace; transition: opacity 0.2s; opacity: 0.0;\"; msg.textContent = \"(Loading...)\"; root.state.loadingMsg = msg; root.shadowRoot.appendChild(msg); root.state.chain = new Promise((resolve, reject) => { const observer = new IntersectionObserver((entries) => { for (const entry of entries) { if (entry.isIntersecting) { resolve(); observer.disconnect(); return; } } }, {rootMargin: \"1000px\"}); window.setTimeout(() => { if (root.loadingMsg) { root.loadingMsg.style.opacity = \"1.0\"; } observer.observe(root); }, 0); }); root.state.deferring = false; const _insertNode = (node) => { for (let oldScript of node.querySelectorAll(\"script\")) { let newScript = document.createElement(\"script\"); newScript.type = oldScript.type; newScript.textContent = oldScript.textContent; oldScript.parentNode.replaceChild(newScript, oldScript); } if (root.state.loadingMsg) { root.state.loadingMsg.remove(); root.state.loadingMsg = null; } root.shadowRoot.appendChild(node); }; root.defns.insertContent = ((contentNode, compressed) => { if (compressed) { root.state.deferring = true; } if (root.state.deferring) { root.state.chain = (async () => { await root.state.chain; if (compressed) { const encoded = contentNode.textContent; const blob = new Blob([ Uint8Array.from(atob(encoded), (m) => m.codePointAt(0)) ]); const reader = blob.stream().pipeThrough( new DecompressionStream(\"deflate\") ).pipeThrough( new TextDecoderStream(\"utf-8\") ).getReader(); const parts = []; while (true) { const step = await reader.read(); if (step.done) { break; } parts.push(step.value); } const tpl = document.createElement('template'); tpl.innerHTML = parts.join(\"\"); _insertNode(tpl.content); } else { _insertNode(contentNode.content); } })(); } else { _insertNode(contentNode.content); } }); </script></treescope-run-here><div style=\"display:none\"> <script type=\"application/octet-stream\" >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</script> <treescope-run-here><script type=\"application/octet-stream\"> const root = ( Array.from(document.getElementsByClassName( \"treescope_out_2c477c8c35b64c03843591ef1085a997\")) .filter((elt) => !elt.dataset['step0']) )[0]; root.dataset['step0'] = 1; root.defns.insertContent( this.parentNode.querySelector('script[type=\"application/octet-stream\"]'), true ); this.parentNode.remove(); </script></treescope-run-here> </div>"
      ],
      "text/plain": [
       "<IPython.core.display.HTML object>"
      ]
     },
     "metadata": {},
     "output_type": "display_data"
    }
   ],
   "source": [
    "stuff = (\n",
    "    [[[\"haystack\"] * 5] * 5] * 5\n",
    "    + [[[\"haystack\"] * 5] * 5 + [[\"haystack\", \"needle\", \"haystack\", \"haystack\", \"haystack\"]]]\n",
    "    + [[[\"haystack\"] * 5] * 5] * 5\n",
    ")\n",
    "\n",
    "pz.select(stuff).at_equal_to(\"needle\").show_value()"
   ]
  },
  {
   "cell_type": "markdown",
   "metadata": {
    "id": "nPZUOuqilcoc"
   },
   "source": [
    "### Counting selected objects\n",
    "Selections have `count` and `is_empty` methods for inspecting their size:"
   ]
  },
  {
   "cell_type": "code",
   "execution_count": 38,
   "metadata": {
    "execution": {
     "iopub.execute_input": "2024-07-07T03:15:26.501403Z",
     "iopub.status.busy": "2024-07-07T03:15:26.501124Z",
     "iopub.status.idle": "2024-07-07T03:15:26.505110Z",
     "shell.execute_reply": "2024-07-07T03:15:26.505266Z"
    },
    "id": "TGu1D-n_lumY"
   },
   "outputs": [
    {
     "data": {
      "text/html": [
       "<script> (()=>{ if (customElements.get('treescope-container') === undefined) { class TreescopeContainer extends HTMLElement { constructor() { super(); this.attachShadow({mode: \"open\"}); this.defns = {}; this.state = {}; } } customElements.define(\"treescope-container\", TreescopeContainer); } if (customElements.get('treescope-run-here') === undefined) { class RunHere extends HTMLElement { constructor() { super() } connectedCallback() { const src = this.querySelector(\"script\").textContent; const fn = new Function(src); fn.call(this); this.remove(); } } customElements.define(\"treescope-run-here\", RunHere); } })(); </script> <treescope-container class=\"treescope_out_cb1bcb0291b54b9ba510f2b7625b4d19\" ></treescope-container> <treescope-run-here><script type=\"application/octet-stream\"> const root = ( Array.from(document.getElementsByClassName( \"treescope_out_cb1bcb0291b54b9ba510f2b7625b4d19\")) .filter((elt) => !elt.dataset.setup) )[0]; root.dataset.setup = 1; const msg = document.createElement(\"span\"); msg.style = \"color: #aaaaaa; font-family: monospace; transition: opacity 0.2s; opacity: 0.0;\"; msg.textContent = \"(Loading...)\"; root.state.loadingMsg = msg; root.shadowRoot.appendChild(msg); root.state.chain = new Promise((resolve, reject) => { const observer = new IntersectionObserver((entries) => { for (const entry of entries) { if (entry.isIntersecting) { resolve(); observer.disconnect(); return; } } }, {rootMargin: \"1000px\"}); window.setTimeout(() => { if (root.loadingMsg) { root.loadingMsg.style.opacity = \"1.0\"; } observer.observe(root); }, 0); }); root.state.deferring = false; const _insertNode = (node) => { for (let oldScript of node.querySelectorAll(\"script\")) { let newScript = document.createElement(\"script\"); newScript.type = oldScript.type; newScript.textContent = oldScript.textContent; oldScript.parentNode.replaceChild(newScript, oldScript); } if (root.state.loadingMsg) { root.state.loadingMsg.remove(); root.state.loadingMsg = null; } root.shadowRoot.appendChild(node); }; root.defns.insertContent = ((contentNode, compressed) => { if (compressed) { root.state.deferring = true; } if (root.state.deferring) { root.state.chain = (async () => { await root.state.chain; if (compressed) { const encoded = contentNode.textContent; const blob = new Blob([ Uint8Array.from(atob(encoded), (m) => m.codePointAt(0)) ]); const reader = blob.stream().pipeThrough( new DecompressionStream(\"deflate\") ).pipeThrough( new TextDecoderStream(\"utf-8\") ).getReader(); const parts = []; while (true) { const step = await reader.read(); if (step.done) { break; } parts.push(step.value); } const tpl = document.createElement('template'); tpl.innerHTML = parts.join(\"\"); _insertNode(tpl.content); } else { _insertNode(contentNode.content); } })(); } else { _insertNode(contentNode.content); } }); </script></treescope-run-here><div style=\"display:none\"> <script type=\"application/octet-stream\" >eNqNVE1v2zAM/SuCdqgNzG7aocOWxAZ6GXYYdtgOOxRDoNi0LUSmNIlOlg3976PsJOtHVgw5xCKpx/cokstAewNlTh4gVNbByltL4rdwNmjSFufCg1Gkt7AQjUXKGtVrs5+L3qINTlVs33WaIBsPc+E8W4wOlI3QGe0dW9Eim9eq2rTeDlhnlTXWz6erC3E4rQ0HMJ6uqZuLRhOHIQHSQjhV1xrbzEBDc3FddTEJQtaBbju2XOU3EQZJaeZ8unb4yLY66LU2mpi5GsieYjON5DUGXWVB/4LJe6B7v7ycyrM8lSfzA3JOz7ZQee1IRH3FhXLO6ErFil3aiiCq96D6izJJ0qLkgnK+QKKGBoMoBHU65C3QF672Z1tDkuadDZSPfpYGJFYOMEq+rSJqvHT3/Zzno8LaALtxMGYxZciZ5ldrka3JzvpNKh5ysN/YFF2PzKSraHTgG+t7hRXkaHdJOr4vJ0ieeUQ2XVqKN9cp4+hGJE9Y5wawpU4UhZjFkBepe6DBI9ddgAnwl1g3YGT2FDp0uqHIbwyIH/f8+0eGhLsKa7vLPfwYINAt6n58rg9e9ZBMNUkjxuJZIjeEbirj4ozGY4pikvGCyv/nEFlMD0m2bc00latxcrhbXcSKFjD0WsCWG/zwkpHdeM43sI9Fl15GQofgvDIqhE88nAfcRJ4wVz23oTwmv0+5ntz+Y4+Xy8tzA1DrrRgBC/l4fUhBas1K4WchZ1JYZDIsGznupbY/rzWJd44qJY/dtLDGjbHCoV+DHztlXCCvZu/fXd28fTi6vJbwSLPjWfW8NjYrUp5pSFErUhnTc4q6QsrH4Q9zyHLGkOwsT3+sv/wD8y3bWQ==</script> <treescope-run-here><script type=\"application/octet-stream\"> const root = ( Array.from(document.getElementsByClassName( \"treescope_out_cb1bcb0291b54b9ba510f2b7625b4d19\")) .filter((elt) => !elt.dataset['step0']) )[0]; root.dataset['step0'] = 1; root.defns.insertContent( this.parentNode.querySelector('script[type=\"application/octet-stream\"]'), true ); this.parentNode.remove(); </script></treescope-run-here> </div>"
      ],
      "text/plain": [
       "<IPython.core.display.HTML object>"
      ]
     },
     "metadata": {},
     "output_type": "display_data"
    },
    {
     "data": {
      "text/html": [
       "<treescope-run-here><script type=\"application/octet-stream\"> const root = ( Array.from(document.getElementsByClassName( \"treescope_out_cb1bcb0291b54b9ba510f2b7625b4d19\")) .filter((elt) => !elt.dataset.stolen) )[0]; root.dataset.stolen = 1; this.parentNode.replaceChild(root, this); </script></treescope-run-here>"
      ],
      "text/plain": [
       "0"
      ]
     },
     "execution_count": 38,
     "metadata": {},
     "output_type": "execute_result"
    }
   ],
   "source": [
    "pz.select([1, 2]).at_instances_of(str).count()"
   ]
  },
  {
   "cell_type": "code",
   "execution_count": 39,
   "metadata": {
    "execution": {
     "iopub.execute_input": "2024-07-07T03:15:26.509723Z",
     "iopub.status.busy": "2024-07-07T03:15:26.509436Z",
     "iopub.status.idle": "2024-07-07T03:15:26.512975Z",
     "shell.execute_reply": "2024-07-07T03:15:26.513099Z"
    },
    "id": "omvIWqsflyWj"
   },
   "outputs": [
    {
     "data": {
      "text/html": [
       "<script> (()=>{ if (customElements.get('treescope-container') === undefined) { class TreescopeContainer extends HTMLElement { constructor() { super(); this.attachShadow({mode: \"open\"}); this.defns = {}; this.state = {}; } } customElements.define(\"treescope-container\", TreescopeContainer); } if (customElements.get('treescope-run-here') === undefined) { class RunHere extends HTMLElement { constructor() { super() } connectedCallback() { const src = this.querySelector(\"script\").textContent; const fn = new Function(src); fn.call(this); this.remove(); } } customElements.define(\"treescope-run-here\", RunHere); } })(); </script> <treescope-container class=\"treescope_out_ab32d99803fd41b8aaf565d4c023e591\" ></treescope-container> <treescope-run-here><script type=\"application/octet-stream\"> const root = ( Array.from(document.getElementsByClassName( \"treescope_out_ab32d99803fd41b8aaf565d4c023e591\")) .filter((elt) => !elt.dataset.setup) )[0]; root.dataset.setup = 1; const msg = document.createElement(\"span\"); msg.style = \"color: #aaaaaa; font-family: monospace; transition: opacity 0.2s; opacity: 0.0;\"; msg.textContent = \"(Loading...)\"; root.state.loadingMsg = msg; root.shadowRoot.appendChild(msg); root.state.chain = new Promise((resolve, reject) => { const observer = new IntersectionObserver((entries) => { for (const entry of entries) { if (entry.isIntersecting) { resolve(); observer.disconnect(); return; } } }, {rootMargin: \"1000px\"}); window.setTimeout(() => { if (root.loadingMsg) { root.loadingMsg.style.opacity = \"1.0\"; } observer.observe(root); }, 0); }); root.state.deferring = false; const _insertNode = (node) => { for (let oldScript of node.querySelectorAll(\"script\")) { let newScript = document.createElement(\"script\"); newScript.type = oldScript.type; newScript.textContent = oldScript.textContent; oldScript.parentNode.replaceChild(newScript, oldScript); } if (root.state.loadingMsg) { root.state.loadingMsg.remove(); root.state.loadingMsg = null; } root.shadowRoot.appendChild(node); }; root.defns.insertContent = ((contentNode, compressed) => { if (compressed) { root.state.deferring = true; } if (root.state.deferring) { root.state.chain = (async () => { await root.state.chain; if (compressed) { const encoded = contentNode.textContent; const blob = new Blob([ Uint8Array.from(atob(encoded), (m) => m.codePointAt(0)) ]); const reader = blob.stream().pipeThrough( new DecompressionStream(\"deflate\") ).pipeThrough( new TextDecoderStream(\"utf-8\") ).getReader(); const parts = []; while (true) { const step = await reader.read(); if (step.done) { break; } parts.push(step.value); } const tpl = document.createElement('template'); tpl.innerHTML = parts.join(\"\"); _insertNode(tpl.content); } else { _insertNode(contentNode.content); } })(); } else { _insertNode(contentNode.content); } }); </script></treescope-run-here><div style=\"display:none\"> <script type=\"application/octet-stream\" >eNqNVE2P0zAQ/StWOGwi4ewHWgRtE2kviAPiAEgcEKrcZJJYdcbGnrQUtP+dcdKW7W5ZoR4az4zfvDeemUWgnYEyJw8QKutg6a0l8Vs4GzRpizPhwSjSG5iLxiLJRvXa7Gait2iDUxXbt50mkONhJpxni9GB5AgtaefYihbZvFLVuvV2wFpW1lg/m67Oxf60MhzAeLqmbiYaTRyGBEhz4VRda2ylgYZm4qbqYhIE2YFuO7Zc57cRBklp5ny8tv+QGx30ShtNzFwNZI+xUiN5jUFXMuhfMHn3dO8Xl1N5FsfySD8g5/RsC5XXjkTUV1wo54yuVKzYpa0IonoPqr8o0zQrSi4o5wskamgwiEJQp0PeAn3ian+0NaRZ3tlA+ehnaUBi6QCj5LsqosZL376f87xXWBtgNw7GzKcMOdP8bC2yNd1av87EQw72K5ui68RMuopGB76xvldYQY52m2bj+3KC9IlHyOnSQry6yRhHNyJ9xDo3gC11oijEVQx5lroHGjxy3QWYAH+JdQNGZo+hQ6cbivzGgPhxz79/ZEi5q7C229zDjwEC3aHux+d651UP6VSTLGLMnyRyQ+imMs7PaDykKCYZz6j8fw6RxfSQZNvWTFO5HCeHu9VFrGgBQy8FbLjB9y8Z2Y3nfA27WPTEJ5HQPjivjArhAw/nHjdNjpjLntswOSS/z7ie3P5jj5eLy3MDUOuNGAGL5HR9JILUipXCzyK5SoRFJsOykeOea/vzWtN456Ay4bGbFta4MZY49CvwY6eMC+TF1ds317evH44uryU80Ox4Vj2vjfWSlGcaiagVKcn0nKKuSJLT8Ic5kvKLH4BR2V8e/7gE5R+RdNzJ</script> <treescope-run-here><script type=\"application/octet-stream\"> const root = ( Array.from(document.getElementsByClassName( \"treescope_out_ab32d99803fd41b8aaf565d4c023e591\")) .filter((elt) => !elt.dataset['step0']) )[0]; root.dataset['step0'] = 1; root.defns.insertContent( this.parentNode.querySelector('script[type=\"application/octet-stream\"]'), true ); this.parentNode.remove(); </script></treescope-run-here> </div>"
      ],
      "text/plain": [
       "<IPython.core.display.HTML object>"
      ]
     },
     "metadata": {},
     "output_type": "display_data"
    },
    {
     "data": {
      "text/html": [
       "<treescope-run-here><script type=\"application/octet-stream\"> const root = ( Array.from(document.getElementsByClassName( \"treescope_out_ab32d99803fd41b8aaf565d4c023e591\")) .filter((elt) => !elt.dataset.stolen) )[0]; root.dataset.stolen = 1; this.parentNode.replaceChild(root, this); </script></treescope-run-here>"
      ],
      "text/plain": [
       "True"
      ]
     },
     "execution_count": 39,
     "metadata": {},
     "output_type": "execute_result"
    }
   ],
   "source": [
    "pz.select([1, 2]).at_instances_of(str).is_empty()"
   ]
  },
  {
   "cell_type": "code",
   "execution_count": 40,
   "metadata": {
    "execution": {
     "iopub.execute_input": "2024-07-07T03:15:26.517150Z",
     "iopub.status.busy": "2024-07-07T03:15:26.516876Z",
     "iopub.status.idle": "2024-07-07T03:15:26.520605Z",
     "shell.execute_reply": "2024-07-07T03:15:26.520379Z"
    },
    "id": "f7aWTHZql0DV"
   },
   "outputs": [
    {
     "data": {
      "text/html": [
       "<script> (()=>{ if (customElements.get('treescope-container') === undefined) { class TreescopeContainer extends HTMLElement { constructor() { super(); this.attachShadow({mode: \"open\"}); this.defns = {}; this.state = {}; } } customElements.define(\"treescope-container\", TreescopeContainer); } if (customElements.get('treescope-run-here') === undefined) { class RunHere extends HTMLElement { constructor() { super() } connectedCallback() { const src = this.querySelector(\"script\").textContent; const fn = new Function(src); fn.call(this); this.remove(); } } customElements.define(\"treescope-run-here\", RunHere); } })(); </script> <treescope-container class=\"treescope_out_1f91d9cd519e4c0995451ec7a8be5583\" ></treescope-container> <treescope-run-here><script type=\"application/octet-stream\"> const root = ( Array.from(document.getElementsByClassName( \"treescope_out_1f91d9cd519e4c0995451ec7a8be5583\")) .filter((elt) => !elt.dataset.setup) )[0]; root.dataset.setup = 1; const msg = document.createElement(\"span\"); msg.style = \"color: #aaaaaa; font-family: monospace; transition: opacity 0.2s; opacity: 0.0;\"; msg.textContent = \"(Loading...)\"; root.state.loadingMsg = msg; root.shadowRoot.appendChild(msg); root.state.chain = new Promise((resolve, reject) => { const observer = new IntersectionObserver((entries) => { for (const entry of entries) { if (entry.isIntersecting) { resolve(); observer.disconnect(); return; } } }, {rootMargin: \"1000px\"}); window.setTimeout(() => { if (root.loadingMsg) { root.loadingMsg.style.opacity = \"1.0\"; } observer.observe(root); }, 0); }); root.state.deferring = false; const _insertNode = (node) => { for (let oldScript of node.querySelectorAll(\"script\")) { let newScript = document.createElement(\"script\"); newScript.type = oldScript.type; newScript.textContent = oldScript.textContent; oldScript.parentNode.replaceChild(newScript, oldScript); } if (root.state.loadingMsg) { root.state.loadingMsg.remove(); root.state.loadingMsg = null; } root.shadowRoot.appendChild(node); }; root.defns.insertContent = ((contentNode, compressed) => { if (compressed) { root.state.deferring = true; } if (root.state.deferring) { root.state.chain = (async () => { await root.state.chain; if (compressed) { const encoded = contentNode.textContent; const blob = new Blob([ Uint8Array.from(atob(encoded), (m) => m.codePointAt(0)) ]); const reader = blob.stream().pipeThrough( new DecompressionStream(\"deflate\") ).pipeThrough( new TextDecoderStream(\"utf-8\") ).getReader(); const parts = []; while (true) { const step = await reader.read(); if (step.done) { break; } parts.push(step.value); } const tpl = document.createElement('template'); tpl.innerHTML = parts.join(\"\"); _insertNode(tpl.content); } else { _insertNode(contentNode.content); } })(); } else { _insertNode(contentNode.content); } }); </script></treescope-run-here><div style=\"display:none\"> <script type=\"application/octet-stream\" >eNqNVE2P00AM/SujcNhUItkPBIK2ibQXxAFxgAMHhKpp4iRWJ55hxmkpaP87nqQt+1FWqIdmbM/zex7by8B7A2XOHiBU1sHKW8vqt3I2IKOlufJgNOMWFqqxxFmjezT7ueot2eB0JfZdhwzZeJgr58ViMHA2Qme8d2IlS2Je62rTejtQnVXWWD+fri7U4bQ2EiB4WHM3Vw2yhBED8UI5XddIbWag4bm6qbqYhCDrANtOLNf56whDrFE4n64dPrItBlyjQRbmemB7is2Q2CMFrLKAv2DyHujeLS+n8ixP5cn8QJLTiy1UHh2rqK+40M4ZrHSs2KWtGKJ6D7q/KNN0VpRSUMkXWNXQUFCF4g5D3gJ/lmp/sjWks7yzgfPRL9KA1coBRcm3VUSNl759P+f5oKk2IG4ajFlMGXKh+cVaEmu6s34zU/c52K9iiq4HZsYqGh34xvpeUwU52V06G99XEqRPPCqbLi3Vq5uZ4GCj0kescwPUcqeKQl3FkGepe+DBk9RdgQnwl1g3UGT2GDp02HDkNwbEjzv5/SNDKl1Ftd3lHn4MEPiWsB+f673XPaRTTWYRY/EkkRtCN5VxcUbjMUUxyXhG5f9ziCymh2TbtmaaytU4OdKtLmJFCxh+qWArDX54ychuPOcb2MeiJz6JhA7BeWV0CB9lOA+4aXLCXPXShskx+d1M6intP/Z4ubw8NwA1btUIWCQP10eiWK9FKfwskqtEWRIyIpsk7rm2P681jXeOKhMZu2lhjRtjRUO/Bj92yrhAXly9e3v9+s390ZW1REeancyql7WxWbH2QiNRtWadCT2nuSuS5GH4/RxJeSOQ4ixPf6K//APzV9tb</script> <treescope-run-here><script type=\"application/octet-stream\"> const root = ( Array.from(document.getElementsByClassName( \"treescope_out_1f91d9cd519e4c0995451ec7a8be5583\")) .filter((elt) => !elt.dataset['step0']) )[0]; root.dataset['step0'] = 1; root.defns.insertContent( this.parentNode.querySelector('script[type=\"application/octet-stream\"]'), true ); this.parentNode.remove(); </script></treescope-run-here> </div>"
      ],
      "text/plain": [
       "<IPython.core.display.HTML object>"
      ]
     },
     "metadata": {},
     "output_type": "display_data"
    },
    {
     "data": {
      "text/html": [
       "<treescope-run-here><script type=\"application/octet-stream\"> const root = ( Array.from(document.getElementsByClassName( \"treescope_out_1f91d9cd519e4c0995451ec7a8be5583\")) .filter((elt) => !elt.dataset.stolen) )[0]; root.dataset.stolen = 1; this.parentNode.replaceChild(root, this); </script></treescope-run-here>"
      ],
      "text/plain": [
       "2"
      ]
     },
     "execution_count": 40,
     "metadata": {},
     "output_type": "execute_result"
    }
   ],
   "source": [
    "pz.select([1, 2]).at_instances_of(int).count()"
   ]
  },
  {
   "cell_type": "code",
   "execution_count": 41,
   "metadata": {
    "execution": {
     "iopub.execute_input": "2024-07-07T03:15:26.524631Z",
     "iopub.status.busy": "2024-07-07T03:15:26.524361Z",
     "iopub.status.idle": "2024-07-07T03:15:26.527812Z",
     "shell.execute_reply": "2024-07-07T03:15:26.527935Z"
    },
    "id": "u9uMT3qll1UI"
   },
   "outputs": [
    {
     "data": {
      "text/html": [
       "<script> (()=>{ if (customElements.get('treescope-container') === undefined) { class TreescopeContainer extends HTMLElement { constructor() { super(); this.attachShadow({mode: \"open\"}); this.defns = {}; this.state = {}; } } customElements.define(\"treescope-container\", TreescopeContainer); } if (customElements.get('treescope-run-here') === undefined) { class RunHere extends HTMLElement { constructor() { super() } connectedCallback() { const src = this.querySelector(\"script\").textContent; const fn = new Function(src); fn.call(this); this.remove(); } } customElements.define(\"treescope-run-here\", RunHere); } })(); </script> <treescope-container class=\"treescope_out_6e9aed876ec94962a503ebdd25c2e2be\" ></treescope-container> <treescope-run-here><script type=\"application/octet-stream\"> const root = ( Array.from(document.getElementsByClassName( \"treescope_out_6e9aed876ec94962a503ebdd25c2e2be\")) .filter((elt) => !elt.dataset.setup) )[0]; root.dataset.setup = 1; const msg = document.createElement(\"span\"); msg.style = \"color: #aaaaaa; font-family: monospace; transition: opacity 0.2s; opacity: 0.0;\"; msg.textContent = \"(Loading...)\"; root.state.loadingMsg = msg; root.shadowRoot.appendChild(msg); root.state.chain = new Promise((resolve, reject) => { const observer = new IntersectionObserver((entries) => { for (const entry of entries) { if (entry.isIntersecting) { resolve(); observer.disconnect(); return; } } }, {rootMargin: \"1000px\"}); window.setTimeout(() => { if (root.loadingMsg) { root.loadingMsg.style.opacity = \"1.0\"; } observer.observe(root); }, 0); }); root.state.deferring = false; const _insertNode = (node) => { for (let oldScript of node.querySelectorAll(\"script\")) { let newScript = document.createElement(\"script\"); newScript.type = oldScript.type; newScript.textContent = oldScript.textContent; oldScript.parentNode.replaceChild(newScript, oldScript); } if (root.state.loadingMsg) { root.state.loadingMsg.remove(); root.state.loadingMsg = null; } root.shadowRoot.appendChild(node); }; root.defns.insertContent = ((contentNode, compressed) => { if (compressed) { root.state.deferring = true; } if (root.state.deferring) { root.state.chain = (async () => { await root.state.chain; if (compressed) { const encoded = contentNode.textContent; const blob = new Blob([ Uint8Array.from(atob(encoded), (m) => m.codePointAt(0)) ]); const reader = blob.stream().pipeThrough( new DecompressionStream(\"deflate\") ).pipeThrough( new TextDecoderStream(\"utf-8\") ).getReader(); const parts = []; while (true) { const step = await reader.read(); if (step.done) { break; } parts.push(step.value); } const tpl = document.createElement('template'); tpl.innerHTML = parts.join(\"\"); _insertNode(tpl.content); } else { _insertNode(contentNode.content); } })(); } else { _insertNode(contentNode.content); } }); </script></treescope-run-here><div style=\"display:none\"> <script type=\"application/octet-stream\" >eNqNVE1v2zAM/SuCd6gNzO7H0GFLYgO9FDsMO2yHHYYhUGzaFiJTmkQny4b+91FykqVtVgw5xCKpx8cnkgtPOw1VQQ7A18bC0hlD4rewxitSBmfCgZakNjAXrUHKWzkovZuJwaDxVtZs3/aKII+HmbCOLVp5yiN0TjvLVjTI5pWs150zIzZ5bbRxs+nqXOxPK80BjKca6meiVcRhSIA0F1Y2jcIu19DSTNzUfUiCkPegup4t18VtgEGSijkfr+0/8o3yaqW0ImYuRzLH2FwhOYVe1blXv2Dy7uk+LC4neRZHeXI3Iud0bPO1U5ZEqK+8kNZqVcug2KWpCUL1DuRwUaVpVlYsKOfzJBpo0YtSUK980QF9ZrU/mQbSrOiNpyL6uTQgsbSAoeS7OqCGS9++n/N8kNhoYDeOWs+nDAXT/GIMsjXdGrfOxCkH85VNwfXITKoORguuNW6QWEOBZptm8X05QfrMI/Lp0kK8uckYR7UifcK60IAd9aIsxVUIeZG6Axodsu4CtIe/xPoRA7On0L5XLQV+MSB8PPDvHxlS7ipszLZw8GMET3eohvhc904OkE6aZAFj/iyRHX0/yTg/U+MhRTmV8UKV/88hsJgekkzX6Wkql3FyuFttwAoW0PRawIYbfP+SgV08F2vYBdETlwRC++Ci1tL7jzyce9w0OWIuB27D5JD8IWM9uf1jj1eLy3MD0KiNiIBl8nh9JILkiiuFn2VylQiDTIbLRo57qe3P15qGO4cqEx67aWHFjbHEcViBi50SF8irq/fvrm/fno4uryU80Ox5Vh2vjfWSpGMaiWgkyZzpWUl9mSSPw09zJNW95KZkWA6ojn+sQfUHbWLdFA==</script> <treescope-run-here><script type=\"application/octet-stream\"> const root = ( Array.from(document.getElementsByClassName( \"treescope_out_6e9aed876ec94962a503ebdd25c2e2be\")) .filter((elt) => !elt.dataset['step0']) )[0]; root.dataset['step0'] = 1; root.defns.insertContent( this.parentNode.querySelector('script[type=\"application/octet-stream\"]'), true ); this.parentNode.remove(); </script></treescope-run-here> </div>"
      ],
      "text/plain": [
       "<IPython.core.display.HTML object>"
      ]
     },
     "metadata": {},
     "output_type": "display_data"
    },
    {
     "data": {
      "text/html": [
       "<treescope-run-here><script type=\"application/octet-stream\"> const root = ( Array.from(document.getElementsByClassName( \"treescope_out_6e9aed876ec94962a503ebdd25c2e2be\")) .filter((elt) => !elt.dataset.stolen) )[0]; root.dataset.stolen = 1; this.parentNode.replaceChild(root, this); </script></treescope-run-here>"
      ],
      "text/plain": [
       "False"
      ]
     },
     "execution_count": 41,
     "metadata": {},
     "output_type": "execute_result"
    }
   ],
   "source": [
    "pz.select([1, 2]).at_instances_of(int).is_empty()"
   ]
  },
  {
   "cell_type": "markdown",
   "metadata": {
    "id": "TG5VaFeZl2qd"
   },
   "source": [
    "If you already know how many objects should be selected, you can also add an assertion in the middle of a chain:"
   ]
  },
  {
   "cell_type": "code",
   "execution_count": 42,
   "metadata": {
    "execution": {
     "iopub.execute_input": "2024-07-07T03:15:26.532146Z",
     "iopub.status.busy": "2024-07-07T03:15:26.531820Z",
     "iopub.status.idle": "2024-07-07T03:15:26.536038Z",
     "shell.execute_reply": "2024-07-07T03:15:26.535752Z"
    },
    "id": "bNBzV-pQl53a"
   },
   "outputs": [
    {
     "data": {
      "text/html": [
       "<script> (()=>{ if (customElements.get('treescope-container') === undefined) { class TreescopeContainer extends HTMLElement { constructor() { super(); this.attachShadow({mode: \"open\"}); this.defns = {}; this.state = {}; } } customElements.define(\"treescope-container\", TreescopeContainer); } if (customElements.get('treescope-run-here') === undefined) { class RunHere extends HTMLElement { constructor() { super() } connectedCallback() { const src = this.querySelector(\"script\").textContent; const fn = new Function(src); fn.call(this); this.remove(); } } customElements.define(\"treescope-run-here\", RunHere); } })(); </script> <treescope-container class=\"treescope_out_377384ea46d946aea59035b62bd493d2\" ></treescope-container> <treescope-run-here><script type=\"application/octet-stream\"> const root = ( Array.from(document.getElementsByClassName( \"treescope_out_377384ea46d946aea59035b62bd493d2\")) .filter((elt) => !elt.dataset.setup) )[0]; root.dataset.setup = 1; const msg = document.createElement(\"span\"); msg.style = \"color: #aaaaaa; font-family: monospace; transition: opacity 0.2s; opacity: 0.0;\"; msg.textContent = \"(Loading...)\"; root.state.loadingMsg = msg; root.shadowRoot.appendChild(msg); root.state.chain = new Promise((resolve, reject) => { const observer = new IntersectionObserver((entries) => { for (const entry of entries) { if (entry.isIntersecting) { resolve(); observer.disconnect(); return; } } }, {rootMargin: \"1000px\"}); window.setTimeout(() => { if (root.loadingMsg) { root.loadingMsg.style.opacity = \"1.0\"; } observer.observe(root); }, 0); }); root.state.deferring = false; const _insertNode = (node) => { for (let oldScript of node.querySelectorAll(\"script\")) { let newScript = document.createElement(\"script\"); newScript.type = oldScript.type; newScript.textContent = oldScript.textContent; oldScript.parentNode.replaceChild(newScript, oldScript); } if (root.state.loadingMsg) { root.state.loadingMsg.remove(); root.state.loadingMsg = null; } root.shadowRoot.appendChild(node); }; root.defns.insertContent = ((contentNode, compressed) => { if (compressed) { root.state.deferring = true; } if (root.state.deferring) { root.state.chain = (async () => { await root.state.chain; if (compressed) { const encoded = contentNode.textContent; const blob = new Blob([ Uint8Array.from(atob(encoded), (m) => m.codePointAt(0)) ]); const reader = blob.stream().pipeThrough( new DecompressionStream(\"deflate\") ).pipeThrough( new TextDecoderStream(\"utf-8\") ).getReader(); const parts = []; while (true) { const step = await reader.read(); if (step.done) { break; } parts.push(step.value); } const tpl = document.createElement('template'); tpl.innerHTML = parts.join(\"\"); _insertNode(tpl.content); } else { _insertNode(contentNode.content); } })(); } else { _insertNode(contentNode.content); } }); </script></treescope-run-here><div style=\"display:none\"> <script type=\"application/octet-stream\" >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</script> <treescope-run-here><script type=\"application/octet-stream\"> const root = ( Array.from(document.getElementsByClassName( \"treescope_out_377384ea46d946aea59035b62bd493d2\")) .filter((elt) => !elt.dataset['step0']) )[0]; root.dataset['step0'] = 1; root.defns.insertContent( this.parentNode.querySelector('script[type=\"application/octet-stream\"]'), true ); this.parentNode.remove(); </script></treescope-run-here> </div>"
      ],
      "text/plain": [
       "<IPython.core.display.HTML object>"
      ]
     },
     "metadata": {},
     "output_type": "display_data"
    },
    {
     "data": {
      "text/html": [
       "<treescope-run-here><script type=\"application/octet-stream\"> const root = ( Array.from(document.getElementsByClassName( \"treescope_out_377384ea46d946aea59035b62bd493d2\")) .filter((elt) => !elt.dataset.stolen) )[0]; root.dataset.stolen = 1; this.parentNode.replaceChild(root, this); </script></treescope-run-here>"
      ],
      "text/plain": [
       "[2, 3]"
      ]
     },
     "execution_count": 42,
     "metadata": {},
     "output_type": "execute_result"
    }
   ],
   "source": [
    "pz.select([1, 2]).at_instances_of(int).assert_count_is(2).apply(lambda x: x + 1)"
   ]
  },
  {
   "cell_type": "markdown",
   "metadata": {
    "id": "fd6gwn3JlaSr"
   },
   "source": [
    "### Retrieving values\n",
    "\n",
    "You can extract all of the selected values using `.get_sequence()`:"
   ]
  },
  {
   "cell_type": "code",
   "execution_count": 43,
   "metadata": {
    "execution": {
     "iopub.execute_input": "2024-07-07T03:15:26.541031Z",
     "iopub.status.busy": "2024-07-07T03:15:26.540778Z",
     "iopub.status.idle": "2024-07-07T03:15:26.550357Z",
     "shell.execute_reply": "2024-07-07T03:15:26.550155Z"
    },
    "id": "SkCQmesoBf3o"
   },
   "outputs": [
    {
     "data": {
      "text/html": [
       "<script> (()=>{ if (customElements.get('treescope-container') === undefined) { class TreescopeContainer extends HTMLElement { constructor() { super(); this.attachShadow({mode: \"open\"}); this.defns = {}; this.state = {}; } } customElements.define(\"treescope-container\", TreescopeContainer); } if (customElements.get('treescope-run-here') === undefined) { class RunHere extends HTMLElement { constructor() { super() } connectedCallback() { const src = this.querySelector(\"script\").textContent; const fn = new Function(src); fn.call(this); this.remove(); } } customElements.define(\"treescope-run-here\", RunHere); } })(); </script> <treescope-container class=\"treescope_out_b866a61214424a52bfe029d3f8cb7caf\" ></treescope-container> <treescope-run-here><script type=\"application/octet-stream\"> const root = ( Array.from(document.getElementsByClassName( \"treescope_out_b866a61214424a52bfe029d3f8cb7caf\")) .filter((elt) => !elt.dataset.setup) )[0]; root.dataset.setup = 1; const msg = document.createElement(\"span\"); msg.style = \"color: #aaaaaa; font-family: monospace; transition: opacity 0.2s; opacity: 0.0;\"; msg.textContent = \"(Loading...)\"; root.state.loadingMsg = msg; root.shadowRoot.appendChild(msg); root.state.chain = new Promise((resolve, reject) => { const observer = new IntersectionObserver((entries) => { for (const entry of entries) { if (entry.isIntersecting) { resolve(); observer.disconnect(); return; } } }, {rootMargin: \"1000px\"}); window.setTimeout(() => { if (root.loadingMsg) { root.loadingMsg.style.opacity = \"1.0\"; } observer.observe(root); }, 0); }); root.state.deferring = false; const _insertNode = (node) => { for (let oldScript of node.querySelectorAll(\"script\")) { let newScript = document.createElement(\"script\"); newScript.type = oldScript.type; newScript.textContent = oldScript.textContent; oldScript.parentNode.replaceChild(newScript, oldScript); } if (root.state.loadingMsg) { root.state.loadingMsg.remove(); root.state.loadingMsg = null; } root.shadowRoot.appendChild(node); }; root.defns.insertContent = ((contentNode, compressed) => { if (compressed) { root.state.deferring = true; } if (root.state.deferring) { root.state.chain = (async () => { await root.state.chain; if (compressed) { const encoded = contentNode.textContent; const blob = new Blob([ Uint8Array.from(atob(encoded), (m) => m.codePointAt(0)) ]); const reader = blob.stream().pipeThrough( new DecompressionStream(\"deflate\") ).pipeThrough( new TextDecoderStream(\"utf-8\") ).getReader(); const parts = []; while (true) { const step = await reader.read(); if (step.done) { break; } parts.push(step.value); } const tpl = document.createElement('template'); tpl.innerHTML = parts.join(\"\"); _insertNode(tpl.content); } else { _insertNode(contentNode.content); } })(); } else { _insertNode(contentNode.content); } }); </script></treescope-run-here><div style=\"display:none\"> <script type=\"application/octet-stream\" >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</script> <treescope-run-here><script type=\"application/octet-stream\"> const root = ( Array.from(document.getElementsByClassName( \"treescope_out_b866a61214424a52bfe029d3f8cb7caf\")) .filter((elt) => !elt.dataset['step0']) )[0]; root.dataset['step0'] = 1; root.defns.insertContent( this.parentNode.querySelector('script[type=\"application/octet-stream\"]'), true ); this.parentNode.remove(); </script></treescope-run-here> </div>"
      ],
      "text/plain": [
       "<IPython.core.display.HTML object>"
      ]
     },
     "metadata": {},
     "output_type": "display_data"
    },
    {
     "data": {
      "text/html": [
       "<div style=\"display:none\"> <script type=\"application/octet-stream\" >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</script> <treescope-run-here><script type=\"application/octet-stream\"> const root = ( Array.from(document.getElementsByClassName( \"treescope_out_b866a61214424a52bfe029d3f8cb7caf\")) .filter((elt) => !elt.dataset['step1']) )[0]; root.dataset['step1'] = 1; root.defns.insertContent( this.parentNode.querySelector('script[type=\"application/octet-stream\"]'), true ); this.parentNode.remove(); </script></treescope-run-here> </div>"
      ],
      "text/plain": [
       "<IPython.core.display.HTML object>"
      ]
     },
     "metadata": {},
     "output_type": "display_data"
    },
    {
     "data": {
      "text/html": [
       "<treescope-run-here><script type=\"application/octet-stream\"> const root = ( Array.from(document.getElementsByClassName( \"treescope_out_b866a61214424a52bfe029d3f8cb7caf\")) .filter((elt) => !elt.dataset.stolen) )[0]; root.dataset.stolen = 1; this.parentNode.replaceChild(root, this); </script></treescope-run-here>"
      ],
      "text/plain": [
       "(<jax.Array([0, 1, 2, 3, 4, 5, 6, 7, 8, 9], dtype=int32)>,\n",
       " <jax.Array([0., 0., 0., 0., 0., 0., 0.], dtype=float32)>)"
      ]
     },
     "execution_count": 43,
     "metadata": {},
     "output_type": "execute_result"
    }
   ],
   "source": [
    "selection = (\n",
    "    pz.select(my_nested_object)\n",
    "    .at_subtrees_where(\n",
    "        lambda subtree: isinstance(subtree, jax.Array) and subtree.size <= 10)\n",
    ")\n",
    "\n",
    "selection.get_sequence()"
   ]
  },
  {
   "cell_type": "markdown",
   "metadata": {
    "id": "Dp_fK7Mkd38c"
   },
   "source": [
    "Or get them in a dictionary form with `get_by_path()` (equivalent to just accessing the `.selected_by_path` attribute):"
   ]
  },
  {
   "cell_type": "code",
   "execution_count": 44,
   "metadata": {
    "execution": {
     "iopub.execute_input": "2024-07-07T03:15:26.555987Z",
     "iopub.status.busy": "2024-07-07T03:15:26.555703Z",
     "iopub.status.idle": "2024-07-07T03:15:26.565285Z",
     "shell.execute_reply": "2024-07-07T03:15:26.565088Z"
    },
    "id": "vx86PfFId_OQ"
   },
   "outputs": [
    {
     "data": {
      "text/html": [
       "<script> (()=>{ if (customElements.get('treescope-container') === undefined) { class TreescopeContainer extends HTMLElement { constructor() { super(); this.attachShadow({mode: \"open\"}); this.defns = {}; this.state = {}; } } customElements.define(\"treescope-container\", TreescopeContainer); } if (customElements.get('treescope-run-here') === undefined) { class RunHere extends HTMLElement { constructor() { super() } connectedCallback() { const src = this.querySelector(\"script\").textContent; const fn = new Function(src); fn.call(this); this.remove(); } } customElements.define(\"treescope-run-here\", RunHere); } })(); </script> <treescope-container class=\"treescope_out_18cdbc0735a24dcb82d708606965ab33\" ></treescope-container> <treescope-run-here><script type=\"application/octet-stream\"> const root = ( Array.from(document.getElementsByClassName( \"treescope_out_18cdbc0735a24dcb82d708606965ab33\")) .filter((elt) => !elt.dataset.setup) )[0]; root.dataset.setup = 1; const msg = document.createElement(\"span\"); msg.style = \"color: #aaaaaa; font-family: monospace; transition: opacity 0.2s; opacity: 0.0;\"; msg.textContent = \"(Loading...)\"; root.state.loadingMsg = msg; root.shadowRoot.appendChild(msg); root.state.chain = new Promise((resolve, reject) => { const observer = new IntersectionObserver((entries) => { for (const entry of entries) { if (entry.isIntersecting) { resolve(); observer.disconnect(); return; } } }, {rootMargin: \"1000px\"}); window.setTimeout(() => { if (root.loadingMsg) { root.loadingMsg.style.opacity = \"1.0\"; } observer.observe(root); }, 0); }); root.state.deferring = false; const _insertNode = (node) => { for (let oldScript of node.querySelectorAll(\"script\")) { let newScript = document.createElement(\"script\"); newScript.type = oldScript.type; newScript.textContent = oldScript.textContent; oldScript.parentNode.replaceChild(newScript, oldScript); } if (root.state.loadingMsg) { root.state.loadingMsg.remove(); root.state.loadingMsg = null; } root.shadowRoot.appendChild(node); }; root.defns.insertContent = ((contentNode, compressed) => { if (compressed) { root.state.deferring = true; } if (root.state.deferring) { root.state.chain = (async () => { await root.state.chain; if (compressed) { const encoded = contentNode.textContent; const blob = new Blob([ Uint8Array.from(atob(encoded), (m) => m.codePointAt(0)) ]); const reader = blob.stream().pipeThrough( new DecompressionStream(\"deflate\") ).pipeThrough( new TextDecoderStream(\"utf-8\") ).getReader(); const parts = []; while (true) { const step = await reader.read(); if (step.done) { break; } parts.push(step.value); } const tpl = document.createElement('template'); tpl.innerHTML = parts.join(\"\"); _insertNode(tpl.content); } else { _insertNode(contentNode.content); } })(); } else { _insertNode(contentNode.content); } }); </script></treescope-run-here><div style=\"display:none\"> <script type=\"application/octet-stream\" >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</script> <treescope-run-here><script type=\"application/octet-stream\"> const root = ( Array.from(document.getElementsByClassName( \"treescope_out_18cdbc0735a24dcb82d708606965ab33\")) .filter((elt) => !elt.dataset['step0']) )[0]; root.dataset['step0'] = 1; root.defns.insertContent( this.parentNode.querySelector('script[type=\"application/octet-stream\"]'), true ); this.parentNode.remove(); </script></treescope-run-here> </div>"
      ],
      "text/plain": [
       "<IPython.core.display.HTML object>"
      ]
     },
     "metadata": {},
     "output_type": "display_data"
    },
    {
     "data": {
      "text/html": [
       "<div style=\"display:none\"> <script type=\"application/octet-stream\" >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</script> <treescope-run-here><script type=\"application/octet-stream\"> const root = ( Array.from(document.getElementsByClassName( \"treescope_out_18cdbc0735a24dcb82d708606965ab33\")) .filter((elt) => !elt.dataset['step1']) )[0]; root.dataset['step1'] = 1; root.defns.insertContent( this.parentNode.querySelector('script[type=\"application/octet-stream\"]'), true ); this.parentNode.remove(); </script></treescope-run-here> </div>"
      ],
      "text/plain": [
       "<IPython.core.display.HTML object>"
      ]
     },
     "metadata": {},
     "output_type": "display_data"
    },
    {
     "data": {
      "text/html": [
       "<treescope-run-here><script type=\"application/octet-stream\"> const root = ( Array.from(document.getElementsByClassName( \"treescope_out_18cdbc0735a24dcb82d708606965ab33\")) .filter((elt) => !elt.dataset.stolen) )[0]; root.dataset.stolen = 1; this.parentNode.replaceChild(root, this); </script></treescope-run-here>"
      ],
      "text/plain": [
       "OrderedDict([((DictKey(key='b'),),\n",
       "              <jax.Array([0, 1, 2, 3, 4, 5, 6, 7, 8, 9], dtype=int32)>),\n",
       "             ((DictKey(key='c'), SequenceKey(idx=1), DictKey(key='value')),\n",
       "              <jax.Array([0., 0., 0., 0., 0., 0., 0.], dtype=float32)>)])"
      ]
     },
     "execution_count": 44,
     "metadata": {},
     "output_type": "execute_result"
    }
   ],
   "source": [
    "selection.get_by_path()"
   ]
  },
  {
   "cell_type": "markdown",
   "metadata": {
    "id": "fFsp4DQ5pmMu"
   },
   "source": [
    "If you know there's exactly one value, you can just call `.get()`"
   ]
  },
  {
   "cell_type": "code",
   "execution_count": 45,
   "metadata": {
    "execution": {
     "iopub.execute_input": "2024-07-07T03:15:26.569838Z",
     "iopub.status.busy": "2024-07-07T03:15:26.569604Z",
     "iopub.status.idle": "2024-07-07T03:15:26.576491Z",
     "shell.execute_reply": "2024-07-07T03:15:26.576166Z"
    },
    "id": "hYFSKPPinEdk"
   },
   "outputs": [
    {
     "data": {
      "text/html": [
       "<script> (()=>{ if (customElements.get('treescope-container') === undefined) { class TreescopeContainer extends HTMLElement { constructor() { super(); this.attachShadow({mode: \"open\"}); this.defns = {}; this.state = {}; } } customElements.define(\"treescope-container\", TreescopeContainer); } if (customElements.get('treescope-run-here') === undefined) { class RunHere extends HTMLElement { constructor() { super() } connectedCallback() { const src = this.querySelector(\"script\").textContent; const fn = new Function(src); fn.call(this); this.remove(); } } customElements.define(\"treescope-run-here\", RunHere); } })(); </script> <treescope-container class=\"treescope_out_5b333859dc8945318d14081409608ca1\" ></treescope-container> <treescope-run-here><script type=\"application/octet-stream\"> const root = ( Array.from(document.getElementsByClassName( \"treescope_out_5b333859dc8945318d14081409608ca1\")) .filter((elt) => !elt.dataset.setup) )[0]; root.dataset.setup = 1; const msg = document.createElement(\"span\"); msg.style = \"color: #aaaaaa; font-family: monospace; transition: opacity 0.2s; opacity: 0.0;\"; msg.textContent = \"(Loading...)\"; root.state.loadingMsg = msg; root.shadowRoot.appendChild(msg); root.state.chain = new Promise((resolve, reject) => { const observer = new IntersectionObserver((entries) => { for (const entry of entries) { if (entry.isIntersecting) { resolve(); observer.disconnect(); return; } } }, {rootMargin: \"1000px\"}); window.setTimeout(() => { if (root.loadingMsg) { root.loadingMsg.style.opacity = \"1.0\"; } observer.observe(root); }, 0); }); root.state.deferring = false; const _insertNode = (node) => { for (let oldScript of node.querySelectorAll(\"script\")) { let newScript = document.createElement(\"script\"); newScript.type = oldScript.type; newScript.textContent = oldScript.textContent; oldScript.parentNode.replaceChild(newScript, oldScript); } if (root.state.loadingMsg) { root.state.loadingMsg.remove(); root.state.loadingMsg = null; } root.shadowRoot.appendChild(node); }; root.defns.insertContent = ((contentNode, compressed) => { if (compressed) { root.state.deferring = true; } if (root.state.deferring) { root.state.chain = (async () => { await root.state.chain; if (compressed) { const encoded = contentNode.textContent; const blob = new Blob([ Uint8Array.from(atob(encoded), (m) => m.codePointAt(0)) ]); const reader = blob.stream().pipeThrough( new DecompressionStream(\"deflate\") ).pipeThrough( new TextDecoderStream(\"utf-8\") ).getReader(); const parts = []; while (true) { const step = await reader.read(); if (step.done) { break; } parts.push(step.value); } const tpl = document.createElement('template'); tpl.innerHTML = parts.join(\"\"); _insertNode(tpl.content); } else { _insertNode(contentNode.content); } })(); } else { _insertNode(contentNode.content); } }); </script></treescope-run-here><div style=\"display:none\"> <script type=\"application/octet-stream\" >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</script> <treescope-run-here><script type=\"application/octet-stream\"> const root = ( Array.from(document.getElementsByClassName( \"treescope_out_5b333859dc8945318d14081409608ca1\")) .filter((elt) => !elt.dataset['step0']) )[0]; root.dataset['step0'] = 1; root.defns.insertContent( this.parentNode.querySelector('script[type=\"application/octet-stream\"]'), true ); this.parentNode.remove(); </script></treescope-run-here> </div>"
      ],
      "text/plain": [
       "<IPython.core.display.HTML object>"
      ]
     },
     "metadata": {},
     "output_type": "display_data"
    },
    {
     "data": {
      "text/html": [
       "<div style=\"display:none\"> <script type=\"application/octet-stream\" >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</script> <treescope-run-here><script type=\"application/octet-stream\"> const root = ( Array.from(document.getElementsByClassName( \"treescope_out_5b333859dc8945318d14081409608ca1\")) .filter((elt) => !elt.dataset['step1']) )[0]; root.dataset['step1'] = 1; root.defns.insertContent( this.parentNode.querySelector('script[type=\"application/octet-stream\"]'), true ); this.parentNode.remove(); </script></treescope-run-here> </div>"
      ],
      "text/plain": [
       "<IPython.core.display.HTML object>"
      ]
     },
     "metadata": {},
     "output_type": "display_data"
    },
    {
     "data": {
      "text/html": [
       "<treescope-run-here><script type=\"application/octet-stream\"> const root = ( Array.from(document.getElementsByClassName( \"treescope_out_5b333859dc8945318d14081409608ca1\")) .filter((elt) => !elt.dataset.stolen) )[0]; root.dataset.stolen = 1; this.parentNode.replaceChild(root, this); </script></treescope-run-here>"
      ],
      "text/plain": [
       "{'value': <jax.Array([ 0,  1,  2,  3,  4,  5,  6,  7,  8,  9, 10, 11], dtype=int32)>}"
      ]
     },
     "execution_count": 45,
     "metadata": {},
     "output_type": "execute_result"
    }
   ],
   "source": [
    "pz.select(my_nested_object).at(lambda root: root[\"c\"][0]).get()"
   ]
  },
  {
   "cell_type": "markdown",
   "metadata": {
    "id": "MkI4lVkKxvSX"
   },
   "source": [
    "You can also get the selected objects in a dictionary form by accessing the `selected_by_path` attribute, which is how selections store their selected nodes internally:"
   ]
  },
  {
   "cell_type": "code",
   "execution_count": 46,
   "metadata": {
    "execution": {
     "iopub.execute_input": "2024-07-07T03:15:26.582588Z",
     "iopub.status.busy": "2024-07-07T03:15:26.582283Z",
     "iopub.status.idle": "2024-07-07T03:15:26.591703Z",
     "shell.execute_reply": "2024-07-07T03:15:26.591457Z"
    },
    "id": "UNJ6Zq-7x1px"
   },
   "outputs": [
    {
     "data": {
      "text/html": [
       "<script> (()=>{ if (customElements.get('treescope-container') === undefined) { class TreescopeContainer extends HTMLElement { constructor() { super(); this.attachShadow({mode: \"open\"}); this.defns = {}; this.state = {}; } } customElements.define(\"treescope-container\", TreescopeContainer); } if (customElements.get('treescope-run-here') === undefined) { class RunHere extends HTMLElement { constructor() { super() } connectedCallback() { const src = this.querySelector(\"script\").textContent; const fn = new Function(src); fn.call(this); this.remove(); } } customElements.define(\"treescope-run-here\", RunHere); } })(); </script> <treescope-container class=\"treescope_out_003433f2765d48ea9ca60dca448ad5e5\" ></treescope-container> <treescope-run-here><script type=\"application/octet-stream\"> const root = ( Array.from(document.getElementsByClassName( \"treescope_out_003433f2765d48ea9ca60dca448ad5e5\")) .filter((elt) => !elt.dataset.setup) )[0]; root.dataset.setup = 1; const msg = document.createElement(\"span\"); msg.style = \"color: #aaaaaa; font-family: monospace; transition: opacity 0.2s; opacity: 0.0;\"; msg.textContent = \"(Loading...)\"; root.state.loadingMsg = msg; root.shadowRoot.appendChild(msg); root.state.chain = new Promise((resolve, reject) => { const observer = new IntersectionObserver((entries) => { for (const entry of entries) { if (entry.isIntersecting) { resolve(); observer.disconnect(); return; } } }, {rootMargin: \"1000px\"}); window.setTimeout(() => { if (root.loadingMsg) { root.loadingMsg.style.opacity = \"1.0\"; } observer.observe(root); }, 0); }); root.state.deferring = false; const _insertNode = (node) => { for (let oldScript of node.querySelectorAll(\"script\")) { let newScript = document.createElement(\"script\"); newScript.type = oldScript.type; newScript.textContent = oldScript.textContent; oldScript.parentNode.replaceChild(newScript, oldScript); } if (root.state.loadingMsg) { root.state.loadingMsg.remove(); root.state.loadingMsg = null; } root.shadowRoot.appendChild(node); }; root.defns.insertContent = ((contentNode, compressed) => { if (compressed) { root.state.deferring = true; } if (root.state.deferring) { root.state.chain = (async () => { await root.state.chain; if (compressed) { const encoded = contentNode.textContent; const blob = new Blob([ Uint8Array.from(atob(encoded), (m) => m.codePointAt(0)) ]); const reader = blob.stream().pipeThrough( new DecompressionStream(\"deflate\") ).pipeThrough( new TextDecoderStream(\"utf-8\") ).getReader(); const parts = []; while (true) { const step = await reader.read(); if (step.done) { break; } parts.push(step.value); } const tpl = document.createElement('template'); tpl.innerHTML = parts.join(\"\"); _insertNode(tpl.content); } else { _insertNode(contentNode.content); } })(); } else { _insertNode(contentNode.content); } }); </script></treescope-run-here><div style=\"display:none\"> <script type=\"application/octet-stream\" >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</script> <treescope-run-here><script type=\"application/octet-stream\"> const root = ( Array.from(document.getElementsByClassName( \"treescope_out_003433f2765d48ea9ca60dca448ad5e5\")) .filter((elt) => !elt.dataset['step0']) )[0]; root.dataset['step0'] = 1; root.defns.insertContent( this.parentNode.querySelector('script[type=\"application/octet-stream\"]'), true ); this.parentNode.remove(); </script></treescope-run-here> </div>"
      ],
      "text/plain": [
       "<IPython.core.display.HTML object>"
      ]
     },
     "metadata": {},
     "output_type": "display_data"
    },
    {
     "data": {
      "text/html": [
       "<div style=\"display:none\"> <script type=\"application/octet-stream\" >eNrtGdtu2zb0VwgFa6RWUixbTnyJDWzpBvSlD93DHopCoEja0kKTKkXn0iL/vkNKtiPbcZw03brNAWJZ4rnfj3VO8ytU6lvORg7Ny4Lj2wESUjAH5XTkTKRKKJswpRhN2q2ofXoW4yjFUdxpd3CrO4lJF3ejKDolk1NnfF4WWMCnoTcOU6m1nPFcsIGQ2g0nklOccpYISdkgw6U75jhlfNw8SbScTnmFMyAZI5eMeh567aGvqMCU5mIaaFkMUCuMumw2RIZDkLF8mukBikL77EuQC8pu4H6IClnmOpdigBTjWOdXbIjuQiI5KIfTVLEroGxvB+jotNfGrdYKgMjZjAmdXGdMJOwG9KOMvpg+C67Y/i25grGNUiuAlGNyOUQpfE6VnAsa1AdXWLlBkHJJLqtHHkBJRZmqbBQVN6iUPKe7ICtHPQZ8h8LstmAKJLtMFJtJzZJMXjGF1oXeFFNecpK5vfgn47S4i6JWv6J4jcukJEpyDuhahpNclTrRObncm2o/DiNDt9VHUec0PNtK2Fp/Jztvg6FWWCwiZ505ikrEcMkgzAI51z6aSKGDaxuEa2fGqxnJEsgNwhLOJvpeIJtbE8ldkjXhlKW0AlRVeC8hS41NICUkyzlVTNhYERrnIKz5AjFr7bAOt1Sy8j0ar4G8WGgvq4mNoiGaYTUFg1QKE8yJ2yYZCkCjmGTePrJ+N9HqNKhEqxLASrU1DRolyOoBPuEZeo3cCNS5j1LTLQGKeZ63tMEKNdgfd8F3kawWc0ly8TSoH/+N1lyVG2vBQGGaz8tawYjNQLuHFbOSfpsQj4b410ZFrPxrSt0eFXE38F0IFL9Lf1s5+Rta3PlJ1YhtV0aE47IcObaP2UKmVV7ULXsxATQUhLZE017cxcNtrgPZhk6TdENLlJdJVV2lsAUVgCtrnOeimGukoZeMHKt/Km+crURqUwHqiUVq8lt1Iw1JwLSDKNY4uGS3BdbZyFkTr1Hda8ehZmF29rFVffh5jrnAM5YUik3yG2dcMPEF56FWjJVEFgzCsABJSmiTE8y56SAhuMROSNXlvdQfFtQLo7TbPD8/qS12n+9G4W9Gu7MDegNUQlfJBebQzgs1epJxwwbuNlMnJeglps741dFN+2z4s1L41v3Y8lHko7aPOj6KfdT10amPznzU81H/k4+oDYtc6E7bq/CaJvE3HQTMOC5KRp0xWgBvAC0mt6agx8ZF6RxyTRwjKS44DAKjY53lZQgqf5BSv4codL0wk6UOYRAWZZgBHQhPg5kQg+AaeO+4so95PHJcjmcpxUgBhYH9bJrLc1YZt0QboONH8Y6HqMbAAuoHrnL++ALQkfELfF9O4Sc7Ls8IEVgHnhkgOd0aHmI+Sw2HqBX1O524d9bvt89a8X/N3zl9jrcB6x/0tU3CZ3rb4O5qDC/fB3Ysas7O0DjaGj8bhf1PfLMo3LaI7arOu7ibdg2D+ap07zx3xi/ngPu7LtRjrof2AFUV1uhnFatuX031cEcI/WDpZbR9ToJZvJdKsX3Tb812/sG+T7Lvg9Pc6pcmtLZBO2Pvad4BMR8c+TbTaJk6TxtsNjNscaH51fj8Cb/Jpe24x0h30um0+3HMUhwx2o277W7Uitt0Mln9JnfYAQ47wI+yA4Q+2v6/TJQJl/iwA/zvdoDeWa/f7R12gMMOcNgBDjvAYQc42PfftQM8YbB5ZAdYjpCBmosgY8r8jk9AnkW1xAVMr8Sa80QSzXQAsxbDM2dMpCgBypaId7REI/TR2f8lvo+c/beLT8OKGZXEuB5YbUbiENUCgUY1UA0efp4zdfs744xoqVxnNTcn5thZok4UnprCXqHOzdeQgLKava1vf6shNtldcNicAHFBIwTDMUEvTH11F0AhMVBWXq3m9r0UrFnI5UyjHJBbQ7icr2waciamOoOnb96Y9zYGrjq8zwluf+XMfP3l9h0wW2B/zD8BA4NTyrki7C3sew8a5cjsew56g9bQq9sQRkIOkf5HrjN3Sa16r13ztpoCwurUvLy/sp65W5qpQahhO8/EqY08iM0tYfkXXfoSag==</script> <treescope-run-here><script type=\"application/octet-stream\"> const root = ( Array.from(document.getElementsByClassName( \"treescope_out_003433f2765d48ea9ca60dca448ad5e5\")) .filter((elt) => !elt.dataset['step1']) )[0]; root.dataset['step1'] = 1; root.defns.insertContent( this.parentNode.querySelector('script[type=\"application/octet-stream\"]'), true ); this.parentNode.remove(); </script></treescope-run-here> </div>"
      ],
      "text/plain": [
       "<IPython.core.display.HTML object>"
      ]
     },
     "metadata": {},
     "output_type": "display_data"
    },
    {
     "data": {
      "text/html": [
       "<treescope-run-here><script type=\"application/octet-stream\"> const root = ( Array.from(document.getElementsByClassName( \"treescope_out_003433f2765d48ea9ca60dca448ad5e5\")) .filter((elt) => !elt.dataset.stolen) )[0]; root.dataset.stolen = 1; this.parentNode.replaceChild(root, this); </script></treescope-run-here>"
      ],
      "text/plain": [
       "OrderedDict([((DictKey(key='b'),),\n",
       "              <jax.Array([0, 1, 2, 3, 4, 5, 6, 7, 8, 9], dtype=int32)>),\n",
       "             ((DictKey(key='c'), SequenceKey(idx=1), DictKey(key='value')),\n",
       "              <jax.Array([0., 0., 0., 0., 0., 0., 0.], dtype=float32)>)])"
      ]
     },
     "execution_count": 46,
     "metadata": {},
     "output_type": "execute_result"
    }
   ],
   "source": [
    "(\n",
    "    pz.select(my_nested_object)\n",
    "    .at_subtrees_where(\n",
    "        lambda subtree: isinstance(subtree, jax.Array) and subtree.size <= 10\n",
    "    )\n",
    ").selected_by_path"
   ]
  },
  {
   "cell_type": "markdown",
   "metadata": {
    "id": "ebPObknTmCAo"
   },
   "source": [
    "### Partitioning PyTrees\n",
    "\n",
    "You can use `.partition()` to split a selected object into two parts, one containing only the selected subtrees, and one containing everything else:"
   ]
  },
  {
   "cell_type": "code",
   "execution_count": 47,
   "metadata": {
    "execution": {
     "iopub.execute_input": "2024-07-07T03:15:26.595659Z",
     "iopub.status.busy": "2024-07-07T03:15:26.595402Z",
     "iopub.status.idle": "2024-07-07T03:15:26.597675Z",
     "shell.execute_reply": "2024-07-07T03:15:26.597499Z"
    },
    "id": "H-CcdaMyqq3M"
   },
   "outputs": [],
   "source": [
    "selected, rest = (\n",
    "    pz.select(my_nested_object)\n",
    "    .at_subtrees_where(\n",
    "        lambda subtree: isinstance(subtree, jax.Array) and subtree.size <= 10)\n",
    ").partition()"
   ]
  },
  {
   "cell_type": "code",
   "execution_count": 48,
   "metadata": {
    "execution": {
     "iopub.execute_input": "2024-07-07T03:15:26.603501Z",
     "iopub.status.busy": "2024-07-07T03:15:26.603202Z",
     "iopub.status.idle": "2024-07-07T03:15:26.612541Z",
     "shell.execute_reply": "2024-07-07T03:15:26.612100Z"
    },
    "id": "DaUwe2Iyq6ko"
   },
   "outputs": [
    {
     "data": {
      "text/html": [
       "<script> (()=>{ if (customElements.get('treescope-container') === undefined) { class TreescopeContainer extends HTMLElement { constructor() { super(); this.attachShadow({mode: \"open\"}); this.defns = {}; this.state = {}; } } customElements.define(\"treescope-container\", TreescopeContainer); } if (customElements.get('treescope-run-here') === undefined) { class RunHere extends HTMLElement { constructor() { super() } connectedCallback() { const src = this.querySelector(\"script\").textContent; const fn = new Function(src); fn.call(this); this.remove(); } } customElements.define(\"treescope-run-here\", RunHere); } })(); </script> <treescope-container class=\"treescope_out_37c69b67a13e415ca5f540312acf1d92\" ></treescope-container> <treescope-run-here><script type=\"application/octet-stream\"> const root = ( Array.from(document.getElementsByClassName( \"treescope_out_37c69b67a13e415ca5f540312acf1d92\")) .filter((elt) => !elt.dataset.setup) )[0]; root.dataset.setup = 1; const msg = document.createElement(\"span\"); msg.style = \"color: #aaaaaa; font-family: monospace; transition: opacity 0.2s; opacity: 0.0;\"; msg.textContent = \"(Loading...)\"; root.state.loadingMsg = msg; root.shadowRoot.appendChild(msg); root.state.chain = new Promise((resolve, reject) => { const observer = new IntersectionObserver((entries) => { for (const entry of entries) { if (entry.isIntersecting) { resolve(); observer.disconnect(); return; } } }, {rootMargin: \"1000px\"}); window.setTimeout(() => { if (root.loadingMsg) { root.loadingMsg.style.opacity = \"1.0\"; } observer.observe(root); }, 0); }); root.state.deferring = false; const _insertNode = (node) => { for (let oldScript of node.querySelectorAll(\"script\")) { let newScript = document.createElement(\"script\"); newScript.type = oldScript.type; newScript.textContent = oldScript.textContent; oldScript.parentNode.replaceChild(newScript, oldScript); } if (root.state.loadingMsg) { root.state.loadingMsg.remove(); root.state.loadingMsg = null; } root.shadowRoot.appendChild(node); }; root.defns.insertContent = ((contentNode, compressed) => { if (compressed) { root.state.deferring = true; } if (root.state.deferring) { root.state.chain = (async () => { await root.state.chain; if (compressed) { const encoded = contentNode.textContent; const blob = new Blob([ Uint8Array.from(atob(encoded), (m) => m.codePointAt(0)) ]); const reader = blob.stream().pipeThrough( new DecompressionStream(\"deflate\") ).pipeThrough( new TextDecoderStream(\"utf-8\") ).getReader(); const parts = []; while (true) { const step = await reader.read(); if (step.done) { break; } parts.push(step.value); } const tpl = document.createElement('template'); tpl.innerHTML = parts.join(\"\"); _insertNode(tpl.content); } else { _insertNode(contentNode.content); } })(); } else { _insertNode(contentNode.content); } }); </script></treescope-run-here><div style=\"display:none\"> <script type=\"application/octet-stream\" >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</script> <treescope-run-here><script type=\"application/octet-stream\"> const root = ( Array.from(document.getElementsByClassName( \"treescope_out_37c69b67a13e415ca5f540312acf1d92\")) .filter((elt) => !elt.dataset['step0']) )[0]; root.dataset['step0'] = 1; root.defns.insertContent( this.parentNode.querySelector('script[type=\"application/octet-stream\"]'), true ); this.parentNode.remove(); </script></treescope-run-here> </div>"
      ],
      "text/plain": [
       "<IPython.core.display.HTML object>"
      ]
     },
     "metadata": {},
     "output_type": "display_data"
    },
    {
     "data": {
      "text/html": [
       "<div style=\"display:none\"> <script type=\"application/octet-stream\" >eNrtWVtv2zYU/iuEAtRyKynyLfElNrClG9CXPnQPeygKgSIpiwtNqhSd2R3633eoi23FjpukabuLA8SyxPOdO48+yVeU36LcrAWbOpTnmcDrMZJKMgdxOnUSpSPKEqY1o9EgHoYjetHph524n9AEky7t0RFjuEvi3jBxZld5hiV8Wn2zIFbGqIXgko2lMm6QKEFxLFgkFWXjFOfuTOCYiVlzJTJqPhclZkxSRm4YbbfRyzb6C2WYUi7nvlHZGIVBZ8AWE2Qt+Cnj89SMUScorn3yuaRsBecTlKmcG67kGGkmsOG3bII+B0QJCA7HsWa3oLk4HaOzi2EXh+FWgKjFgkkT/ZkyGbEVxEcZfbZ4aqu4+NtalctFzPSOQDgadgYXViA32GqISMoF1UwWQtJgDvHZL+AsiKE9uVIzXIiVpqB7dkfk2WLatFEsFLmZoAXWcy59wRIoD8GCuF2SIh/K1ydp+yG+fjPXSvWVa7kSnJZeoVusXd8vpPzCF/Cz0XtFHGEwECl6idwOhLMLqfTmIMXa7fYmB1uo/3BsbbfcTrbtAblRWV/1q8vfMZuVpxBUkUFfY8qXeRVghy0guvsDKzz9Oie+2OK7Ltb17WSrg9WtJOt0Hhf+HIDGbzLYtkX+itl2dV5O4GIcIyJwnk+dYoBptZTUaJ5Vs7oe/Y0AYdzQeNgf4Mmh0lmzTlN1I0pYK4O/4jJbGmTWGRgowo3VyjmIqTID0PMC1FSfggYNibiJDPQ8Mw6i2GD/hq0zbNKpc8ebugls6lBVJ5SSNAIhwiLbqs5DUlMtflxiIfGCRZlmCV85s4zJT5gHRjOWE5Ux6LoMPMkNixIsRAw9GUAFijtheXirzLtae2aDdpvrV+dVxnbt7s35ZnM7R6T3RJXmMCuwiDTL9PRRyQ0a2EOpjnKIS86d2YuzVfdy8pPWeO2+Dz3U8VDXQz0P9T008NCFhy49NPTQ6IOHaNEWXJpet13iminx9gsExgTOckadGaqF94TqO3TT0ZYtUbyErSVbSMlrwcnNtGVSngcQ8julzFvoQrcdpCo3ARAemQcp6IH2tMiIWIBr5dutMj/28tRxBV7EFCMNGsbFZzNdbWe7wTawMWp9EdeaoAqBJYwLXG7x1jXAka0LfN+wrfMjhye0CNC+JzYIpwfbo+QyzqwTdka9Xn94ORp1L8P+f63enD6l2oD6gbUuNuETq22x3/c+cISQO0db4+xg/+wN9j/wqh7cxRA7Np2PWbd3Z+Dh29F9dN2ZPV8Bdp9pYB4LMykWUDlhbXxFYOXpi7mZHGmhf9j2stE+ZYMVuOfaYg/dfndy553y+6j83svmtm8UdgidtuTYmbUfVx1w817Kt7+NNlvnccRmf4fVB8pvZ1ePePeSENyn3X4v7OBBv0/DYUwHcBNNwgHtsKR/uX33cqL8J8r/gyh/4KHD/5t9kQiFT5T/f0f5h5fD0WB4ovwnyn+i/CfKf6L8p/z+uyj/I4jNFyj/hkL6ein9lGn7lp6AP/W0xBmwV1Kk81wRw4wPXIvhhTMjSuYgVYyINzRHU/Teefhvsx5yHv4w8WFSGqOK2NKDqf1OnKDKIYioEqrEg49Lpte/McGIUdp1trw5ssvOBppoPLeDvYQu7deAQLCGva5Of60k9s1dC3hQAmCtI4DEMUmv7Xx1a6GAWKnCX6OXxa9O8FSFXMEM4gAOJ3C42uY0EEzOTQpXX72yv8pYuXJx1xKc/iKY/frz+g0Yq9Hv+QcwYDG5WmrCXsPj3b1JObOPdw56he7Ay9MAKKGATv+dm9TdaAsSrvPadhEpALarmi3UbVGZz5s0NRQ1cte2fVp0HvTmgbb8G29xUQE=</script> <treescope-run-here><script type=\"application/octet-stream\"> const root = ( Array.from(document.getElementsByClassName( \"treescope_out_37c69b67a13e415ca5f540312acf1d92\")) .filter((elt) => !elt.dataset['step1']) )[0]; root.dataset['step1'] = 1; root.defns.insertContent( this.parentNode.querySelector('script[type=\"application/octet-stream\"]'), true ); this.parentNode.remove(); </script></treescope-run-here> </div>"
      ],
      "text/plain": [
       "<IPython.core.display.HTML object>"
      ]
     },
     "metadata": {},
     "output_type": "display_data"
    },
    {
     "data": {
      "text/html": [
       "<treescope-run-here><script type=\"application/octet-stream\"> const root = ( Array.from(document.getElementsByClassName( \"treescope_out_37c69b67a13e415ca5f540312acf1d92\")) .filter((elt) => !elt.dataset.stolen) )[0]; root.dataset.stolen = 1; this.parentNode.replaceChild(root, this); </script></treescope-run-here>"
      ],
      "text/plain": [
       "{'a': NotInThisPartition(),\n",
       " 'b': <jax.Array([0, 1, 2, 3, 4, 5, 6, 7, 8, 9], dtype=int32)>,\n",
       " 'c': [NotInThisPartition(),\n",
       "  {'value': <jax.Array([0., 0., 0., 0., 0., 0., 0.], dtype=float32)>},\n",
       "  NotInThisPartition()]}"
      ]
     },
     "execution_count": 48,
     "metadata": {},
     "output_type": "execute_result"
    }
   ],
   "source": [
    "selected"
   ]
  },
  {
   "cell_type": "code",
   "execution_count": 49,
   "metadata": {
    "execution": {
     "iopub.execute_input": "2024-07-07T03:15:26.618124Z",
     "iopub.status.busy": "2024-07-07T03:15:26.617548Z",
     "iopub.status.idle": "2024-07-07T03:15:26.626366Z",
     "shell.execute_reply": "2024-07-07T03:15:26.626179Z"
    },
    "id": "n-y-RvcSq7V-"
   },
   "outputs": [
    {
     "data": {
      "text/html": [
       "<script> (()=>{ if (customElements.get('treescope-container') === undefined) { class TreescopeContainer extends HTMLElement { constructor() { super(); this.attachShadow({mode: \"open\"}); this.defns = {}; this.state = {}; } } customElements.define(\"treescope-container\", TreescopeContainer); } if (customElements.get('treescope-run-here') === undefined) { class RunHere extends HTMLElement { constructor() { super() } connectedCallback() { const src = this.querySelector(\"script\").textContent; const fn = new Function(src); fn.call(this); this.remove(); } } customElements.define(\"treescope-run-here\", RunHere); } })(); </script> <treescope-container class=\"treescope_out_2460ed0a372049209fe30568c0084a0d\" ></treescope-container> <treescope-run-here><script type=\"application/octet-stream\"> const root = ( Array.from(document.getElementsByClassName( \"treescope_out_2460ed0a372049209fe30568c0084a0d\")) .filter((elt) => !elt.dataset.setup) )[0]; root.dataset.setup = 1; const msg = document.createElement(\"span\"); msg.style = \"color: #aaaaaa; font-family: monospace; transition: opacity 0.2s; opacity: 0.0;\"; msg.textContent = \"(Loading...)\"; root.state.loadingMsg = msg; root.shadowRoot.appendChild(msg); root.state.chain = new Promise((resolve, reject) => { const observer = new IntersectionObserver((entries) => { for (const entry of entries) { if (entry.isIntersecting) { resolve(); observer.disconnect(); return; } } }, {rootMargin: \"1000px\"}); window.setTimeout(() => { if (root.loadingMsg) { root.loadingMsg.style.opacity = \"1.0\"; } observer.observe(root); }, 0); }); root.state.deferring = false; const _insertNode = (node) => { for (let oldScript of node.querySelectorAll(\"script\")) { let newScript = document.createElement(\"script\"); newScript.type = oldScript.type; newScript.textContent = oldScript.textContent; oldScript.parentNode.replaceChild(newScript, oldScript); } if (root.state.loadingMsg) { root.state.loadingMsg.remove(); root.state.loadingMsg = null; } root.shadowRoot.appendChild(node); }; root.defns.insertContent = ((contentNode, compressed) => { if (compressed) { root.state.deferring = true; } if (root.state.deferring) { root.state.chain = (async () => { await root.state.chain; if (compressed) { const encoded = contentNode.textContent; const blob = new Blob([ Uint8Array.from(atob(encoded), (m) => m.codePointAt(0)) ]); const reader = blob.stream().pipeThrough( new DecompressionStream(\"deflate\") ).pipeThrough( new TextDecoderStream(\"utf-8\") ).getReader(); const parts = []; while (true) { const step = await reader.read(); if (step.done) { break; } parts.push(step.value); } const tpl = document.createElement('template'); tpl.innerHTML = parts.join(\"\"); _insertNode(tpl.content); } else { _insertNode(contentNode.content); } })(); } else { _insertNode(contentNode.content); } }); </script></treescope-run-here><div style=\"display:none\"> <script type=\"application/octet-stream\" >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</script> <treescope-run-here><script type=\"application/octet-stream\"> const root = ( Array.from(document.getElementsByClassName( \"treescope_out_2460ed0a372049209fe30568c0084a0d\")) .filter((elt) => !elt.dataset['step0']) )[0]; root.dataset['step0'] = 1; root.defns.insertContent( this.parentNode.querySelector('script[type=\"application/octet-stream\"]'), true ); this.parentNode.remove(); </script></treescope-run-here> </div>"
      ],
      "text/plain": [
       "<IPython.core.display.HTML object>"
      ]
     },
     "metadata": {},
     "output_type": "display_data"
    },
    {
     "data": {
      "text/html": [
       "<div style=\"display:none\"> <script type=\"application/octet-stream\" >eNrtWFtv2zYU/iuEAtRSGymW49x8A7Z0A/rSh+5hD0EgUOKxxYUmVYr27A797zukJDuKHTdN024YZoDWhec793N0pBHjS1KatYCxx3hZCLoeEKkkeISzsTdVOmEwBa2BJef9HmXT8zQ+m170s8ve1dVpCnGPXcTTLjuPL7zJqCyoxH/LbxKlyhg1F1zCQCrjR1MlGE0FJFIxGOS09CeCpiAm7Z3EqNlMVJhBlkN2BywIyOuA/EUKyhiXs9CoYkC6UXwG8yGxEsIc+Cw3AxJH7t6nkEsGK7wekkKV3HAlB0SDoIYvYUg+R5kSaBxNUw1L5OwuB+To/LJHu90tQabmc5Am+TMHmcAK7WPAXsyeRip1Pyu1NNQSJFnOBdMgHZE0lKP69gR1QTKyQ1epizdSpRloMnlA8mIqb7IkFSq7G5I51TMuQwFT9H5GReb3spyEGJ1+lgdP0fW7qVaxr1UrleCs0oosqfbD0FGFThfUs5Vazo5udCZy8pr4MZpzH1LzLZEKgiDY+GALDZ+ObeRW1WKzGpEbls3dsL79A71Za4pGOQ+GmjK+KGsDY5ijdY8b5jT9NiW+mOL3VWziGxervdGtKRt3Hib+HCHH79K3tkH+htY1OqkarOu2JBO0LMee609aLSQzmhd1K246e8tAbDcsveyf0eG+0FmxXpt1y0rcq4wfcVksDDHrAgU4c1O18vZias8g9MSB2uxz5KDREXeJwZwH4xFGDQ3vYF1Qk4+9B9o0SWBdR+o4kTzLEyTKILGp6j3FNfXmxwUVks4hKTRM+cqbFCA/UR4ZDVBmqgDMugI1KQ0kUypEijkZYQTcg646vFfmQ8O9sEb77f3RSe2x+3J3+nw7ub0D1DukSnPsFVQkGgo9/irnRi3sPlcnJdolZ97k1dGqdzH8SWu69m9I95iQGFcP1ymuPq4zXOe4LnBd4ro6JjHSxfHtMWEuUbg0p72g4tR20vFuyFC8oEUJzJuQhniHqHkkt1Xv2KClCyw22SFKXgue3Y07JudlhE74oJR5j3npB1GuShPhhCPLKEc+mLAWmWQW4Fv6oFN5zN4ee76g85RRopHDwP23HRh425LbwAak80VcZ0hqBJXYQGhV9J1rhBMbKTzfjFcnBw7PSBqc856ZMpztTRi5mKdWQtyNr05P+5e93lU37vf/a/Hm7DnRRtQ/GGtXhM+MtsX+2CfDgQncO5gaR3vzZ6fV/0FXTSt3be1Qvz4k3T6vcTLfNvOD+97k5QJw/yUGO7QwQ7dBqg5r7XOGVZevZmZ4IIX+ZeVlrX1OgTncS5XYU8vvge+O//fvV/n30flu+wnh3oin7bjsTYKviw6q+egQuFtGm9L51lFnt+aaA+PLyWgzZoZ6IfFNQNuxPkMNm/5JC5xwM+fgE5UZMCHOY0Dn3iRTskQq1zTesZKMyY339G81t8MKz1Rm44vo3XQbkloGKlkT1eTRxwXo9W8gIDNK+952XE7streBTjWd2e5dQRf2NMpQfwNv68tfa4pdcddCYdzHGx4R+gIku7ZN1G+IosxSOX2NXrg3z6nSxBdgCEdwd4iH0dZNkQA5M/gmzd+8sW9mlq7avC8JL38RYE9/Xr9DYQ36ht+iAIsp1UJn8JYvH3fKkf165pE35AG8uoxw7hOYzr9zk/sbbtGU67KR7SxFwHZXw1wtXWQ+b9zUYtTyXWBTzyUTptueTPsbFhIEPA==</script> <treescope-run-here><script type=\"application/octet-stream\"> const root = ( Array.from(document.getElementsByClassName( \"treescope_out_2460ed0a372049209fe30568c0084a0d\")) .filter((elt) => !elt.dataset['step1']) )[0]; root.dataset['step1'] = 1; root.defns.insertContent( this.parentNode.querySelector('script[type=\"application/octet-stream\"]'), true ); this.parentNode.remove(); </script></treescope-run-here> </div>"
      ],
      "text/plain": [
       "<IPython.core.display.HTML object>"
      ]
     },
     "metadata": {},
     "output_type": "display_data"
    },
    {
     "data": {
      "text/html": [
       "<treescope-run-here><script type=\"application/octet-stream\"> const root = ( Array.from(document.getElementsByClassName( \"treescope_out_2460ed0a372049209fe30568c0084a0d\")) .filter((elt) => !elt.dataset.stolen) )[0]; root.dataset.stolen = 1; this.parentNode.replaceChild(root, this); </script></treescope-run-here>"
      ],
      "text/plain": [
       "{'a': 1,\n",
       " 'b': NotInThisPartition(),\n",
       " 'c': [{'value': <jax.Array([ 0,  1,  2,  3,  4,  5,  6,  7,  8,  9, 10, 11], dtype=int32)>},\n",
       "  {'value': NotInThisPartition()},\n",
       "  {'value': 3}]}"
      ]
     },
     "execution_count": 49,
     "metadata": {},
     "output_type": "execute_result"
    }
   ],
   "source": [
    "rest"
   ]
  },
  {
   "cell_type": "markdown",
   "metadata": {
    "id": "lIj7wg-oqv1t"
   },
   "source": [
    "You can then process the two parts independently, and then recombine them into a single object using `pz.combine`:"
   ]
  },
  {
   "cell_type": "code",
   "execution_count": 50,
   "metadata": {
    "execution": {
     "iopub.execute_input": "2024-07-07T03:15:26.636404Z",
     "iopub.status.busy": "2024-07-07T03:15:26.636059Z",
     "iopub.status.idle": "2024-07-07T03:15:26.678940Z",
     "shell.execute_reply": "2024-07-07T03:15:26.678742Z"
    },
    "id": "8SoBMXJmrBgY"
   },
   "outputs": [
    {
     "data": {
      "text/html": [
       "<script> (()=>{ if (customElements.get('treescope-container') === undefined) { class TreescopeContainer extends HTMLElement { constructor() { super(); this.attachShadow({mode: \"open\"}); this.defns = {}; this.state = {}; } } customElements.define(\"treescope-container\", TreescopeContainer); } if (customElements.get('treescope-run-here') === undefined) { class RunHere extends HTMLElement { constructor() { super() } connectedCallback() { const src = this.querySelector(\"script\").textContent; const fn = new Function(src); fn.call(this); this.remove(); } } customElements.define(\"treescope-run-here\", RunHere); } })(); </script> <treescope-container class=\"treescope_out_89d911fa51fd4396a9da116682cca6e7\" ></treescope-container> <treescope-run-here><script type=\"application/octet-stream\"> const root = ( Array.from(document.getElementsByClassName( \"treescope_out_89d911fa51fd4396a9da116682cca6e7\")) .filter((elt) => !elt.dataset.setup) )[0]; root.dataset.setup = 1; const msg = document.createElement(\"span\"); msg.style = \"color: #aaaaaa; font-family: monospace; transition: opacity 0.2s; opacity: 0.0;\"; msg.textContent = \"(Loading...)\"; root.state.loadingMsg = msg; root.shadowRoot.appendChild(msg); root.state.chain = new Promise((resolve, reject) => { const observer = new IntersectionObserver((entries) => { for (const entry of entries) { if (entry.isIntersecting) { resolve(); observer.disconnect(); return; } } }, {rootMargin: \"1000px\"}); window.setTimeout(() => { if (root.loadingMsg) { root.loadingMsg.style.opacity = \"1.0\"; } observer.observe(root); }, 0); }); root.state.deferring = false; const _insertNode = (node) => { for (let oldScript of node.querySelectorAll(\"script\")) { let newScript = document.createElement(\"script\"); newScript.type = oldScript.type; newScript.textContent = oldScript.textContent; oldScript.parentNode.replaceChild(newScript, oldScript); } if (root.state.loadingMsg) { root.state.loadingMsg.remove(); root.state.loadingMsg = null; } root.shadowRoot.appendChild(node); }; root.defns.insertContent = ((contentNode, compressed) => { if (compressed) { root.state.deferring = true; } if (root.state.deferring) { root.state.chain = (async () => { await root.state.chain; if (compressed) { const encoded = contentNode.textContent; const blob = new Blob([ Uint8Array.from(atob(encoded), (m) => m.codePointAt(0)) ]); const reader = blob.stream().pipeThrough( new DecompressionStream(\"deflate\") ).pipeThrough( new TextDecoderStream(\"utf-8\") ).getReader(); const parts = []; while (true) { const step = await reader.read(); if (step.done) { break; } parts.push(step.value); } const tpl = document.createElement('template'); tpl.innerHTML = parts.join(\"\"); _insertNode(tpl.content); } else { _insertNode(contentNode.content); } })(); } else { _insertNode(contentNode.content); } }); </script></treescope-run-here><div style=\"display:none\"> <script type=\"application/octet-stream\" >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</script> <treescope-run-here><script type=\"application/octet-stream\"> const root = ( Array.from(document.getElementsByClassName( \"treescope_out_89d911fa51fd4396a9da116682cca6e7\")) .filter((elt) => !elt.dataset['step0']) )[0]; root.dataset['step0'] = 1; root.defns.insertContent( this.parentNode.querySelector('script[type=\"application/octet-stream\"]'), true ); this.parentNode.remove(); </script></treescope-run-here> </div>"
      ],
      "text/plain": [
       "<IPython.core.display.HTML object>"
      ]
     },
     "metadata": {},
     "output_type": "display_data"
    },
    {
     "data": {
      "text/html": [
       "<div style=\"display:none\"> <script type=\"application/octet-stream\" >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</script> <treescope-run-here><script type=\"application/octet-stream\"> const root = ( Array.from(document.getElementsByClassName( \"treescope_out_89d911fa51fd4396a9da116682cca6e7\")) .filter((elt) => !elt.dataset['step1']) )[0]; root.dataset['step1'] = 1; root.defns.insertContent( this.parentNode.querySelector('script[type=\"application/octet-stream\"]'), true ); this.parentNode.remove(); </script></treescope-run-here> </div>"
      ],
      "text/plain": [
       "<IPython.core.display.HTML object>"
      ]
     },
     "metadata": {},
     "output_type": "display_data"
    },
    {
     "data": {
      "text/html": [
       "<treescope-run-here><script type=\"application/octet-stream\"> const root = ( Array.from(document.getElementsByClassName( \"treescope_out_89d911fa51fd4396a9da116682cca6e7\")) .filter((elt) => !elt.dataset.stolen) )[0]; root.dataset.stolen = 1; this.parentNode.replaceChild(root, this); </script></treescope-run-here>"
      ],
      "text/plain": [
       "{'a': 1,\n",
       " 'b': <jax.Array([100, 101, 102, 103, 104, 105, 106, 107, 108, 109], dtype=int32)>,\n",
       " 'c': [{'value': <jax.Array([ 0,  1,  2,  3,  4,  5,  6,  7,  8,  9, 10, 11], dtype=int32)>},\n",
       "  {'value': <jax.Array([100., 100., 100., 100., 100., 100., 100.], dtype=float32)>},\n",
       "  {'value': 3}]}"
      ]
     },
     "execution_count": 50,
     "metadata": {},
     "output_type": "execute_result"
    }
   ],
   "source": [
    "pz.combine(\n",
    "    jax.tree_util.tree_map(lambda x: x + 100, selected),\n",
    "    rest,\n",
    ")"
   ]
  },
  {
   "cell_type": "markdown",
   "metadata": {
    "id": "69K7pItirIuA"
   },
   "source": [
    "Partitioning and combining are inspired by `equinox.partition` and `equinox.combine`. If you're already familiar with those, the main differences are:\n",
    "- You generally don't need to use `partition` and `combine` when running JAX transformations like `jax.jit`. By convention, Penzai models store all of their static metadata in `dataclasses.field(metadata={\"pytree_node\": False})` fields which are not part of the PyTree traversal, which means partitioning isn't as strictly necessary as it is in equinox workflows. Instead, partitioning is primarily useful if you want to apply different logic to two sets of leaves, e.g. taking a gradient only with respect to a specific subset of parameters, or defining different shardings for different array subsets.\n",
    "- Penzai uses a specific sentinel `NotInThisPartition()` to identify removed nodes, rather than `None`.\n",
    "- Penzai partitions are built to support manipulation at the subtree level, rather than at the leaf level. It's OK to build and combine partitions even when neither partition is a strict PyTree prefix of the other, as long as the overlapping parts don't conflict.\n",
    "- Penzai partitions are always created with selectors, rather than being built by a standalone function.\n"
   ]
  },
  {
   "cell_type": "markdown",
   "metadata": {
    "id": "bfYZoC-ANf1Z"
   },
   "source": [
    "## Modifying selected values\n",
    "\n",
    "An important feature of selections is that they allow you to perform detailed modifications to (copies of) large trees. Selections expose a number of methods for this purpose."
   ]
  },
  {
   "cell_type": "markdown",
   "metadata": {
    "id": "Y7lQebLlwpRJ"
   },
   "source": [
    "### Replacing selected values\n",
    "The simplest modification you can make is to replace each selected subtree with another subtree or value:"
   ]
  },
  {
   "cell_type": "code",
   "execution_count": 51,
   "metadata": {
    "execution": {
     "iopub.execute_input": "2024-07-07T03:15:26.686339Z",
     "iopub.status.busy": "2024-07-07T03:15:26.685848Z",
     "iopub.status.idle": "2024-07-07T03:15:26.690775Z",
     "shell.execute_reply": "2024-07-07T03:15:26.690568Z"
    },
    "id": "Ew7gWKgMNg0h"
   },
   "outputs": [
    {
     "data": {
      "text/html": [
       "<script> (()=>{ if (customElements.get('treescope-container') === undefined) { class TreescopeContainer extends HTMLElement { constructor() { super(); this.attachShadow({mode: \"open\"}); this.defns = {}; this.state = {}; } } customElements.define(\"treescope-container\", TreescopeContainer); } if (customElements.get('treescope-run-here') === undefined) { class RunHere extends HTMLElement { constructor() { super() } connectedCallback() { const src = this.querySelector(\"script\").textContent; const fn = new Function(src); fn.call(this); this.remove(); } } customElements.define(\"treescope-run-here\", RunHere); } })(); </script> <treescope-container class=\"treescope_out_ccc53a021e67497b9b6a0bbfb07c7b34\" ></treescope-container> <treescope-run-here><script type=\"application/octet-stream\"> const root = ( Array.from(document.getElementsByClassName( \"treescope_out_ccc53a021e67497b9b6a0bbfb07c7b34\")) .filter((elt) => !elt.dataset.setup) )[0]; root.dataset.setup = 1; const msg = document.createElement(\"span\"); msg.style = \"color: #aaaaaa; font-family: monospace; transition: opacity 0.2s; opacity: 0.0;\"; msg.textContent = \"(Loading...)\"; root.state.loadingMsg = msg; root.shadowRoot.appendChild(msg); root.state.chain = new Promise((resolve, reject) => { const observer = new IntersectionObserver((entries) => { for (const entry of entries) { if (entry.isIntersecting) { resolve(); observer.disconnect(); return; } } }, {rootMargin: \"1000px\"}); window.setTimeout(() => { if (root.loadingMsg) { root.loadingMsg.style.opacity = \"1.0\"; } observer.observe(root); }, 0); }); root.state.deferring = false; const _insertNode = (node) => { for (let oldScript of node.querySelectorAll(\"script\")) { let newScript = document.createElement(\"script\"); newScript.type = oldScript.type; newScript.textContent = oldScript.textContent; oldScript.parentNode.replaceChild(newScript, oldScript); } if (root.state.loadingMsg) { root.state.loadingMsg.remove(); root.state.loadingMsg = null; } root.shadowRoot.appendChild(node); }; root.defns.insertContent = ((contentNode, compressed) => { if (compressed) { root.state.deferring = true; } if (root.state.deferring) { root.state.chain = (async () => { await root.state.chain; if (compressed) { const encoded = contentNode.textContent; const blob = new Blob([ Uint8Array.from(atob(encoded), (m) => m.codePointAt(0)) ]); const reader = blob.stream().pipeThrough( new DecompressionStream(\"deflate\") ).pipeThrough( new TextDecoderStream(\"utf-8\") ).getReader(); const parts = []; while (true) { const step = await reader.read(); if (step.done) { break; } parts.push(step.value); } const tpl = document.createElement('template'); tpl.innerHTML = parts.join(\"\"); _insertNode(tpl.content); } else { _insertNode(contentNode.content); } })(); } else { _insertNode(contentNode.content); } }); </script></treescope-run-here><div style=\"display:none\"> <script type=\"application/octet-stream\" >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</script> <treescope-run-here><script type=\"application/octet-stream\"> const root = ( Array.from(document.getElementsByClassName( \"treescope_out_ccc53a021e67497b9b6a0bbfb07c7b34\")) .filter((elt) => !elt.dataset['step0']) )[0]; root.dataset['step0'] = 1; root.defns.insertContent( this.parentNode.querySelector('script[type=\"application/octet-stream\"]'), true ); this.parentNode.remove(); </script></treescope-run-here> </div>"
      ],
      "text/plain": [
       "<IPython.core.display.HTML object>"
      ]
     },
     "metadata": {},
     "output_type": "display_data"
    },
    {
     "data": {
      "text/html": [
       "<treescope-run-here><script type=\"application/octet-stream\"> const root = ( Array.from(document.getElementsByClassName( \"treescope_out_ccc53a021e67497b9b6a0bbfb07c7b34\")) .filter((elt) => !elt.dataset.stolen) )[0]; root.dataset.stolen = 1; this.parentNode.replaceChild(root, this); </script></treescope-run-here>"
      ],
      "text/plain": [
       "{'a': 1,\n",
       " 'b': 'hello world!',\n",
       " 'c': [{'value': 'hello world!'}, {'value': 'hello world!'}, {'value': 3}]}"
      ]
     },
     "execution_count": 51,
     "metadata": {},
     "output_type": "execute_result"
    }
   ],
   "source": [
    "pz.select(my_nested_object).at_instances_of(jax.Array).set(\"hello world!\")"
   ]
  },
  {
   "cell_type": "markdown",
   "metadata": {
    "id": "HduHi3ifw8qn"
   },
   "source": [
    "You can optionally provide different values for each selected node:"
   ]
  },
  {
   "cell_type": "code",
   "execution_count": 52,
   "metadata": {
    "execution": {
     "iopub.execute_input": "2024-07-07T03:15:26.696759Z",
     "iopub.status.busy": "2024-07-07T03:15:26.696519Z",
     "iopub.status.idle": "2024-07-07T03:15:26.701519Z",
     "shell.execute_reply": "2024-07-07T03:15:26.701222Z"
    },
    "id": "rDlkeqI3w1-C"
   },
   "outputs": [
    {
     "data": {
      "text/html": [
       "<script> (()=>{ if (customElements.get('treescope-container') === undefined) { class TreescopeContainer extends HTMLElement { constructor() { super(); this.attachShadow({mode: \"open\"}); this.defns = {}; this.state = {}; } } customElements.define(\"treescope-container\", TreescopeContainer); } if (customElements.get('treescope-run-here') === undefined) { class RunHere extends HTMLElement { constructor() { super() } connectedCallback() { const src = this.querySelector(\"script\").textContent; const fn = new Function(src); fn.call(this); this.remove(); } } customElements.define(\"treescope-run-here\", RunHere); } })(); </script> <treescope-container class=\"treescope_out_25d491924d784219a708d6a909c01eb6\" ></treescope-container> <treescope-run-here><script type=\"application/octet-stream\"> const root = ( Array.from(document.getElementsByClassName( \"treescope_out_25d491924d784219a708d6a909c01eb6\")) .filter((elt) => !elt.dataset.setup) )[0]; root.dataset.setup = 1; const msg = document.createElement(\"span\"); msg.style = \"color: #aaaaaa; font-family: monospace; transition: opacity 0.2s; opacity: 0.0;\"; msg.textContent = \"(Loading...)\"; root.state.loadingMsg = msg; root.shadowRoot.appendChild(msg); root.state.chain = new Promise((resolve, reject) => { const observer = new IntersectionObserver((entries) => { for (const entry of entries) { if (entry.isIntersecting) { resolve(); observer.disconnect(); return; } } }, {rootMargin: \"1000px\"}); window.setTimeout(() => { if (root.loadingMsg) { root.loadingMsg.style.opacity = \"1.0\"; } observer.observe(root); }, 0); }); root.state.deferring = false; const _insertNode = (node) => { for (let oldScript of node.querySelectorAll(\"script\")) { let newScript = document.createElement(\"script\"); newScript.type = oldScript.type; newScript.textContent = oldScript.textContent; oldScript.parentNode.replaceChild(newScript, oldScript); } if (root.state.loadingMsg) { root.state.loadingMsg.remove(); root.state.loadingMsg = null; } root.shadowRoot.appendChild(node); }; root.defns.insertContent = ((contentNode, compressed) => { if (compressed) { root.state.deferring = true; } if (root.state.deferring) { root.state.chain = (async () => { await root.state.chain; if (compressed) { const encoded = contentNode.textContent; const blob = new Blob([ Uint8Array.from(atob(encoded), (m) => m.codePointAt(0)) ]); const reader = blob.stream().pipeThrough( new DecompressionStream(\"deflate\") ).pipeThrough( new TextDecoderStream(\"utf-8\") ).getReader(); const parts = []; while (true) { const step = await reader.read(); if (step.done) { break; } parts.push(step.value); } const tpl = document.createElement('template'); tpl.innerHTML = parts.join(\"\"); _insertNode(tpl.content); } else { _insertNode(contentNode.content); } })(); } else { _insertNode(contentNode.content); } }); </script></treescope-run-here><div style=\"display:none\"> <script type=\"application/octet-stream\" >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</script> <treescope-run-here><script type=\"application/octet-stream\"> const root = ( Array.from(document.getElementsByClassName( \"treescope_out_25d491924d784219a708d6a909c01eb6\")) .filter((elt) => !elt.dataset['step0']) )[0]; root.dataset['step0'] = 1; root.defns.insertContent( this.parentNode.querySelector('script[type=\"application/octet-stream\"]'), true ); this.parentNode.remove(); </script></treescope-run-here> </div>"
      ],
      "text/plain": [
       "<IPython.core.display.HTML object>"
      ]
     },
     "metadata": {},
     "output_type": "display_data"
    },
    {
     "data": {
      "text/html": [
       "<treescope-run-here><script type=\"application/octet-stream\"> const root = ( Array.from(document.getElementsByClassName( \"treescope_out_25d491924d784219a708d6a909c01eb6\")) .filter((elt) => !elt.dataset.stolen) )[0]; root.dataset.stolen = 1; this.parentNode.replaceChild(root, this); </script></treescope-run-here>"
      ],
      "text/plain": [
       "{'a': 1,\n",
       " 'b': 'replacement 0',\n",
       " 'c': [{'value': 'replacement 1'}, {'value': 'replacement 2'}, {'value': 3}]}"
      ]
     },
     "execution_count": 52,
     "metadata": {},
     "output_type": "execute_result"
    }
   ],
   "source": [
    "pz.select(my_nested_object).at_instances_of(jax.Array).set_sequence([f\"replacement {i}\" for i in range(3)])"
   ]
  },
  {
   "cell_type": "markdown",
   "metadata": {
    "id": "81cktrxfxGcm"
   },
   "source": [
    "Or provide a mapping based on the selected keypaths:"
   ]
  },
  {
   "cell_type": "code",
   "execution_count": 53,
   "metadata": {
    "execution": {
     "iopub.execute_input": "2024-07-07T03:15:26.709199Z",
     "iopub.status.busy": "2024-07-07T03:15:26.708926Z",
     "iopub.status.idle": "2024-07-07T03:15:26.712756Z",
     "shell.execute_reply": "2024-07-07T03:15:26.712564Z"
    },
    "id": "3u5yEQ1RxCsF"
   },
   "outputs": [
    {
     "data": {
      "text/html": [
       "<script> (()=>{ if (customElements.get('treescope-container') === undefined) { class TreescopeContainer extends HTMLElement { constructor() { super(); this.attachShadow({mode: \"open\"}); this.defns = {}; this.state = {}; } } customElements.define(\"treescope-container\", TreescopeContainer); } if (customElements.get('treescope-run-here') === undefined) { class RunHere extends HTMLElement { constructor() { super() } connectedCallback() { const src = this.querySelector(\"script\").textContent; const fn = new Function(src); fn.call(this); this.remove(); } } customElements.define(\"treescope-run-here\", RunHere); } })(); </script> <treescope-container class=\"treescope_out_2681121dc5bc4cd685272cfee300307d\" ></treescope-container> <treescope-run-here><script type=\"application/octet-stream\"> const root = ( Array.from(document.getElementsByClassName( \"treescope_out_2681121dc5bc4cd685272cfee300307d\")) .filter((elt) => !elt.dataset.setup) )[0]; root.dataset.setup = 1; const msg = document.createElement(\"span\"); msg.style = \"color: #aaaaaa; font-family: monospace; transition: opacity 0.2s; opacity: 0.0;\"; msg.textContent = \"(Loading...)\"; root.state.loadingMsg = msg; root.shadowRoot.appendChild(msg); root.state.chain = new Promise((resolve, reject) => { const observer = new IntersectionObserver((entries) => { for (const entry of entries) { if (entry.isIntersecting) { resolve(); observer.disconnect(); return; } } }, {rootMargin: \"1000px\"}); window.setTimeout(() => { if (root.loadingMsg) { root.loadingMsg.style.opacity = \"1.0\"; } observer.observe(root); }, 0); }); root.state.deferring = false; const _insertNode = (node) => { for (let oldScript of node.querySelectorAll(\"script\")) { let newScript = document.createElement(\"script\"); newScript.type = oldScript.type; newScript.textContent = oldScript.textContent; oldScript.parentNode.replaceChild(newScript, oldScript); } if (root.state.loadingMsg) { root.state.loadingMsg.remove(); root.state.loadingMsg = null; } root.shadowRoot.appendChild(node); }; root.defns.insertContent = ((contentNode, compressed) => { if (compressed) { root.state.deferring = true; } if (root.state.deferring) { root.state.chain = (async () => { await root.state.chain; if (compressed) { const encoded = contentNode.textContent; const blob = new Blob([ Uint8Array.from(atob(encoded), (m) => m.codePointAt(0)) ]); const reader = blob.stream().pipeThrough( new DecompressionStream(\"deflate\") ).pipeThrough( new TextDecoderStream(\"utf-8\") ).getReader(); const parts = []; while (true) { const step = await reader.read(); if (step.done) { break; } parts.push(step.value); } const tpl = document.createElement('template'); tpl.innerHTML = parts.join(\"\"); _insertNode(tpl.content); } else { _insertNode(contentNode.content); } })(); } else { _insertNode(contentNode.content); } }); </script></treescope-run-here><div style=\"display:none\"> <script type=\"application/octet-stream\" >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</script> <treescope-run-here><script type=\"application/octet-stream\"> const root = ( Array.from(document.getElementsByClassName( \"treescope_out_2681121dc5bc4cd685272cfee300307d\")) .filter((elt) => !elt.dataset['step0']) )[0]; root.dataset['step0'] = 1; root.defns.insertContent( this.parentNode.querySelector('script[type=\"application/octet-stream\"]'), true ); this.parentNode.remove(); </script></treescope-run-here> </div>"
      ],
      "text/plain": [
       "<IPython.core.display.HTML object>"
      ]
     },
     "metadata": {},
     "output_type": "display_data"
    },
    {
     "data": {
      "text/html": [
       "<treescope-run-here><script type=\"application/octet-stream\"> const root = ( Array.from(document.getElementsByClassName( \"treescope_out_2681121dc5bc4cd685272cfee300307d\")) .filter((elt) => !elt.dataset.stolen) )[0]; root.dataset.stolen = 1; this.parentNode.replaceChild(root, this); </script></treescope-run-here>"
      ],
      "text/plain": [
       "{'a': 1, 'b': 'A', 'c': [{'value': 'B'}, {'value': 'C'}, {'value': 3}]}"
      ]
     },
     "execution_count": 53,
     "metadata": {},
     "output_type": "execute_result"
    }
   ],
   "source": [
    "pz.select(my_nested_object).at_instances_of(jax.Array).set_by_path({\n",
    "    (jax.tree_util.DictKey(key='b'),): \"A\",\n",
    "    (jax.tree_util.DictKey(key='c'), jax.tree_util.SequenceKey(idx=0), jax.tree_util.DictKey(key='value')): \"B\",\n",
    "    (jax.tree_util.DictKey(key='c'), jax.tree_util.SequenceKey(idx=1), jax.tree_util.DictKey(key='value')): \"C\",\n",
    "})"
   ]
  },
  {
   "cell_type": "markdown",
   "metadata": {
    "id": "wIWQ8ChOeMQe"
   },
   "source": [
    "`set_by_path` accepts the same input as is produced by `get_by_path`, which can be convenient for modifying some values and then putting them back, or for taking gradients with respect to only a subset of values:"
   ]
  },
  {
   "cell_type": "code",
   "execution_count": 54,
   "metadata": {
    "execution": {
     "iopub.execute_input": "2024-07-07T03:15:26.719576Z",
     "iopub.status.busy": "2024-07-07T03:15:26.719273Z",
     "iopub.status.idle": "2024-07-07T03:15:26.723522Z",
     "shell.execute_reply": "2024-07-07T03:15:26.723662Z"
    },
    "id": "A4FdZZuHeWYO"
   },
   "outputs": [
    {
     "data": {
      "text/html": [
       "<script> (()=>{ if (customElements.get('treescope-container') === undefined) { class TreescopeContainer extends HTMLElement { constructor() { super(); this.attachShadow({mode: \"open\"}); this.defns = {}; this.state = {}; } } customElements.define(\"treescope-container\", TreescopeContainer); } if (customElements.get('treescope-run-here') === undefined) { class RunHere extends HTMLElement { constructor() { super() } connectedCallback() { const src = this.querySelector(\"script\").textContent; const fn = new Function(src); fn.call(this); this.remove(); } } customElements.define(\"treescope-run-here\", RunHere); } })(); </script> <treescope-container class=\"treescope_out_cf234cd9489248e6a4eceac443df40f0\" ></treescope-container> <treescope-run-here><script type=\"application/octet-stream\"> const root = ( Array.from(document.getElementsByClassName( \"treescope_out_cf234cd9489248e6a4eceac443df40f0\")) .filter((elt) => !elt.dataset.setup) )[0]; root.dataset.setup = 1; const msg = document.createElement(\"span\"); msg.style = \"color: #aaaaaa; font-family: monospace; transition: opacity 0.2s; opacity: 0.0;\"; msg.textContent = \"(Loading...)\"; root.state.loadingMsg = msg; root.shadowRoot.appendChild(msg); root.state.chain = new Promise((resolve, reject) => { const observer = new IntersectionObserver((entries) => { for (const entry of entries) { if (entry.isIntersecting) { resolve(); observer.disconnect(); return; } } }, {rootMargin: \"1000px\"}); window.setTimeout(() => { if (root.loadingMsg) { root.loadingMsg.style.opacity = \"1.0\"; } observer.observe(root); }, 0); }); root.state.deferring = false; const _insertNode = (node) => { for (let oldScript of node.querySelectorAll(\"script\")) { let newScript = document.createElement(\"script\"); newScript.type = oldScript.type; newScript.textContent = oldScript.textContent; oldScript.parentNode.replaceChild(newScript, oldScript); } if (root.state.loadingMsg) { root.state.loadingMsg.remove(); root.state.loadingMsg = null; } root.shadowRoot.appendChild(node); }; root.defns.insertContent = ((contentNode, compressed) => { if (compressed) { root.state.deferring = true; } if (root.state.deferring) { root.state.chain = (async () => { await root.state.chain; if (compressed) { const encoded = contentNode.textContent; const blob = new Blob([ Uint8Array.from(atob(encoded), (m) => m.codePointAt(0)) ]); const reader = blob.stream().pipeThrough( new DecompressionStream(\"deflate\") ).pipeThrough( new TextDecoderStream(\"utf-8\") ).getReader(); const parts = []; while (true) { const step = await reader.read(); if (step.done) { break; } parts.push(step.value); } const tpl = document.createElement('template'); tpl.innerHTML = parts.join(\"\"); _insertNode(tpl.content); } else { _insertNode(contentNode.content); } })(); } else { _insertNode(contentNode.content); } }); </script></treescope-run-here><div style=\"display:none\"> <script type=\"application/octet-stream\" >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</script> <treescope-run-here><script type=\"application/octet-stream\"> const root = ( Array.from(document.getElementsByClassName( \"treescope_out_cf234cd9489248e6a4eceac443df40f0\")) .filter((elt) => !elt.dataset['step0']) )[0]; root.dataset['step0'] = 1; root.defns.insertContent( this.parentNode.querySelector('script[type=\"application/octet-stream\"]'), true ); this.parentNode.remove(); </script></treescope-run-here> </div>"
      ],
      "text/plain": [
       "<IPython.core.display.HTML object>"
      ]
     },
     "metadata": {},
     "output_type": "display_data"
    },
    {
     "data": {
      "text/html": [
       "<treescope-run-here><script type=\"application/octet-stream\"> const root = ( Array.from(document.getElementsByClassName( \"treescope_out_cf234cd9489248e6a4eceac443df40f0\")) .filter((elt) => !elt.dataset.stolen) )[0]; root.dataset.stolen = 1; this.parentNode.replaceChild(root, this); </script></treescope-run-here>"
      ],
      "text/plain": [
       "{'a': 1,\n",
       " 'b': 'A JAX array: [0 1 2 3 4 5 6 7 8 9]',\n",
       " 'c': [{'value': 'A JAX array: [ 0  1  2  3  4  5  6  7  8  9 10 11]'},\n",
       "  {'value': 'A JAX array: [0. 0. 0. 0. 0. 0. 0.]'},\n",
       "  {'value': 3}]}"
      ]
     },
     "execution_count": 54,
     "metadata": {},
     "output_type": "execute_result"
    }
   ],
   "source": [
    "selection = pz.select(my_nested_object).at_instances_of(jax.Array)\n",
    "selection.set_by_path(\n",
    "    {key: f\"A JAX array: {value}\" for key, value in selection.get_by_path().items()}\n",
    ")"
   ]
  },
  {
   "cell_type": "code",
   "execution_count": 55,
   "metadata": {
    "execution": {
     "iopub.execute_input": "2024-07-07T03:15:26.733322Z",
     "iopub.status.busy": "2024-07-07T03:15:26.727592Z",
     "iopub.status.idle": "2024-07-07T03:15:27.258791Z",
     "shell.execute_reply": "2024-07-07T03:15:27.258571Z"
    },
    "id": "YEpc6lCxel42"
   },
   "outputs": [
    {
     "data": {
      "text/html": [
       "<script> (()=>{ if (customElements.get('treescope-container') === undefined) { class TreescopeContainer extends HTMLElement { constructor() { super(); this.attachShadow({mode: \"open\"}); this.defns = {}; this.state = {}; } } customElements.define(\"treescope-container\", TreescopeContainer); } if (customElements.get('treescope-run-here') === undefined) { class RunHere extends HTMLElement { constructor() { super() } connectedCallback() { const src = this.querySelector(\"script\").textContent; const fn = new Function(src); fn.call(this); this.remove(); } } customElements.define(\"treescope-run-here\", RunHere); } })(); </script> <treescope-container class=\"treescope_out_57ae3ad0000448b4af32ee3af11844c1\" ></treescope-container> <treescope-run-here><script type=\"application/octet-stream\"> const root = ( Array.from(document.getElementsByClassName( \"treescope_out_57ae3ad0000448b4af32ee3af11844c1\")) .filter((elt) => !elt.dataset.setup) )[0]; root.dataset.setup = 1; const msg = document.createElement(\"span\"); msg.style = \"color: #aaaaaa; font-family: monospace; transition: opacity 0.2s; opacity: 0.0;\"; msg.textContent = \"(Loading...)\"; root.state.loadingMsg = msg; root.shadowRoot.appendChild(msg); root.state.chain = new Promise((resolve, reject) => { const observer = new IntersectionObserver((entries) => { for (const entry of entries) { if (entry.isIntersecting) { resolve(); observer.disconnect(); return; } } }, {rootMargin: \"1000px\"}); window.setTimeout(() => { if (root.loadingMsg) { root.loadingMsg.style.opacity = \"1.0\"; } observer.observe(root); }, 0); }); root.state.deferring = false; const _insertNode = (node) => { for (let oldScript of node.querySelectorAll(\"script\")) { let newScript = document.createElement(\"script\"); newScript.type = oldScript.type; newScript.textContent = oldScript.textContent; oldScript.parentNode.replaceChild(newScript, oldScript); } if (root.state.loadingMsg) { root.state.loadingMsg.remove(); root.state.loadingMsg = null; } root.shadowRoot.appendChild(node); }; root.defns.insertContent = ((contentNode, compressed) => { if (compressed) { root.state.deferring = true; } if (root.state.deferring) { root.state.chain = (async () => { await root.state.chain; if (compressed) { const encoded = contentNode.textContent; const blob = new Blob([ Uint8Array.from(atob(encoded), (m) => m.codePointAt(0)) ]); const reader = blob.stream().pipeThrough( new DecompressionStream(\"deflate\") ).pipeThrough( new TextDecoderStream(\"utf-8\") ).getReader(); const parts = []; while (true) { const step = await reader.read(); if (step.done) { break; } parts.push(step.value); } const tpl = document.createElement('template'); tpl.innerHTML = parts.join(\"\"); _insertNode(tpl.content); } else { _insertNode(contentNode.content); } })(); } else { _insertNode(contentNode.content); } }); </script></treescope-run-here><div style=\"display:none\"> <script type=\"application/octet-stream\" >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</script> <treescope-run-here><script type=\"application/octet-stream\"> const root = ( Array.from(document.getElementsByClassName( \"treescope_out_57ae3ad0000448b4af32ee3af11844c1\")) .filter((elt) => !elt.dataset['step0']) )[0]; root.dataset['step0'] = 1; root.defns.insertContent( this.parentNode.querySelector('script[type=\"application/octet-stream\"]'), true ); this.parentNode.remove(); </script></treescope-run-here> </div>"
      ],
      "text/plain": [
       "<IPython.core.display.HTML object>"
      ]
     },
     "metadata": {},
     "output_type": "display_data"
    },
    {
     "data": {
      "text/html": [
       "<div style=\"display:none\"> <script type=\"application/octet-stream\" >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</script> <treescope-run-here><script type=\"application/octet-stream\"> const root = ( Array.from(document.getElementsByClassName( \"treescope_out_57ae3ad0000448b4af32ee3af11844c1\")) .filter((elt) => !elt.dataset['step1']) )[0]; root.dataset['step1'] = 1; root.defns.insertContent( this.parentNode.querySelector('script[type=\"application/octet-stream\"]'), true ); this.parentNode.remove(); </script></treescope-run-here> </div>"
      ],
      "text/plain": [
       "<IPython.core.display.HTML object>"
      ]
     },
     "metadata": {},
     "output_type": "display_data"
    },
    {
     "data": {
      "text/html": [
       "<treescope-run-here><script type=\"application/octet-stream\"> const root = ( Array.from(document.getElementsByClassName( \"treescope_out_57ae3ad0000448b4af32ee3af11844c1\")) .filter((elt) => !elt.dataset.stolen) )[0]; root.dataset.stolen = 1; this.parentNode.replaceChild(root, this); </script></treescope-run-here>"
      ],
      "text/plain": [
       "OrderedDict([((DictKey(key='b'),),\n",
       "              <jax.Array([ 0.,  2.,  4.,  6.,  8., 10., 12., 14., 16., 18.], dtype=float32)>),\n",
       "             ((DictKey(key='c'), SequenceKey(idx=0), DictKey(key='value')),\n",
       "              <jax.Array([1., 1., 1., 1., 1., 1., 1., 1., 1., 1., 1., 1.], dtype=float32)>),\n",
       "             ((DictKey(key='c'), SequenceKey(idx=1), DictKey(key='value')),\n",
       "              <jax.Array([0., 0., 0., 0., 0., 0., 0.], dtype=float32)>)])"
      ]
     },
     "execution_count": 55,
     "metadata": {},
     "output_type": "execute_result"
    }
   ],
   "source": [
    "def my_loss(obj):\n",
    "  return obj[\"a\"] + jnp.sum(obj[\"b\"]**2) + jnp.sum(obj[\"c\"][0][\"value\"])\n",
    "\n",
    "my_float_object = jax.tree_util.tree_map(lambda leaf: jnp.array(leaf, dtype=jnp.float32), my_nested_object)\n",
    "\n",
    "# Take gradients w.r.t. non-scalars only, ignoring my_float_object[\"a\"] and my_float_object[\"c\"][2][\"value\"]\n",
    "gradient_selection = pz.select(my_float_object).at_instances_of(jax.Array).where(lambda arr: arr.size > 1)\n",
    "\n",
    "jax.grad(\n",
    "    # Swap in the version of the values that JAX is taking gradients for:\n",
    "    lambda vectors_by_path: my_loss(gradient_selection.set_by_path(vectors_by_path))\n",
    ")(gradient_selection.get_by_path())"
   ]
  },
  {
   "cell_type": "markdown",
   "metadata": {
    "id": "bkZAwu42ftwC"
   },
   "source": [
    "You can also use `select_and_set_by_path` to infer the selection from the input paths instead:"
   ]
  },
  {
   "cell_type": "code",
   "execution_count": 56,
   "metadata": {
    "execution": {
     "iopub.execute_input": "2024-07-07T03:15:27.263802Z",
     "iopub.status.busy": "2024-07-07T03:15:27.263533Z",
     "iopub.status.idle": "2024-07-07T03:15:27.288880Z",
     "shell.execute_reply": "2024-07-07T03:15:27.288689Z"
    },
    "id": "73vXA1ZvfxFK"
   },
   "outputs": [
    {
     "data": {
      "text/html": [
       "<script> (()=>{ if (customElements.get('treescope-container') === undefined) { class TreescopeContainer extends HTMLElement { constructor() { super(); this.attachShadow({mode: \"open\"}); this.defns = {}; this.state = {}; } } customElements.define(\"treescope-container\", TreescopeContainer); } if (customElements.get('treescope-run-here') === undefined) { class RunHere extends HTMLElement { constructor() { super() } connectedCallback() { const src = this.querySelector(\"script\").textContent; const fn = new Function(src); fn.call(this); this.remove(); } } customElements.define(\"treescope-run-here\", RunHere); } })(); </script> <treescope-container class=\"treescope_out_29e19d1a85e44840a50adc916cc4a831\" ></treescope-container> <treescope-run-here><script type=\"application/octet-stream\"> const root = ( Array.from(document.getElementsByClassName( \"treescope_out_29e19d1a85e44840a50adc916cc4a831\")) .filter((elt) => !elt.dataset.setup) )[0]; root.dataset.setup = 1; const msg = document.createElement(\"span\"); msg.style = \"color: #aaaaaa; font-family: monospace; transition: opacity 0.2s; opacity: 0.0;\"; msg.textContent = \"(Loading...)\"; root.state.loadingMsg = msg; root.shadowRoot.appendChild(msg); root.state.chain = new Promise((resolve, reject) => { const observer = new IntersectionObserver((entries) => { for (const entry of entries) { if (entry.isIntersecting) { resolve(); observer.disconnect(); return; } } }, {rootMargin: \"1000px\"}); window.setTimeout(() => { if (root.loadingMsg) { root.loadingMsg.style.opacity = \"1.0\"; } observer.observe(root); }, 0); }); root.state.deferring = false; const _insertNode = (node) => { for (let oldScript of node.querySelectorAll(\"script\")) { let newScript = document.createElement(\"script\"); newScript.type = oldScript.type; newScript.textContent = oldScript.textContent; oldScript.parentNode.replaceChild(newScript, oldScript); } if (root.state.loadingMsg) { root.state.loadingMsg.remove(); root.state.loadingMsg = null; } root.shadowRoot.appendChild(node); }; root.defns.insertContent = ((contentNode, compressed) => { if (compressed) { root.state.deferring = true; } if (root.state.deferring) { root.state.chain = (async () => { await root.state.chain; if (compressed) { const encoded = contentNode.textContent; const blob = new Blob([ Uint8Array.from(atob(encoded), (m) => m.codePointAt(0)) ]); const reader = blob.stream().pipeThrough( new DecompressionStream(\"deflate\") ).pipeThrough( new TextDecoderStream(\"utf-8\") ).getReader(); const parts = []; while (true) { const step = await reader.read(); if (step.done) { break; } parts.push(step.value); } const tpl = document.createElement('template'); tpl.innerHTML = parts.join(\"\"); _insertNode(tpl.content); } else { _insertNode(contentNode.content); } })(); } else { _insertNode(contentNode.content); } }); </script></treescope-run-here><div style=\"display:none\"> <script type=\"application/octet-stream\" >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</script> <treescope-run-here><script type=\"application/octet-stream\"> const root = ( Array.from(document.getElementsByClassName( \"treescope_out_29e19d1a85e44840a50adc916cc4a831\")) .filter((elt) => !elt.dataset['step0']) )[0]; root.dataset['step0'] = 1; root.defns.insertContent( this.parentNode.querySelector('script[type=\"application/octet-stream\"]'), true ); this.parentNode.remove(); </script></treescope-run-here> </div>"
      ],
      "text/plain": [
       "<IPython.core.display.HTML object>"
      ]
     },
     "metadata": {},
     "output_type": "display_data"
    },
    {
     "data": {
      "text/html": [
       "<div style=\"display:none\"> <script type=\"application/octet-stream\" >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</script> <treescope-run-here><script type=\"application/octet-stream\"> const root = ( Array.from(document.getElementsByClassName( \"treescope_out_29e19d1a85e44840a50adc916cc4a831\")) .filter((elt) => !elt.dataset['step1']) )[0]; root.dataset['step1'] = 1; root.defns.insertContent( this.parentNode.querySelector('script[type=\"application/octet-stream\"]'), true ); this.parentNode.remove(); </script></treescope-run-here> </div>"
      ],
      "text/plain": [
       "<IPython.core.display.HTML object>"
      ]
     },
     "metadata": {},
     "output_type": "display_data"
    },
    {
     "data": {
      "text/html": [
       "<treescope-run-here><script type=\"application/octet-stream\"> const root = ( Array.from(document.getElementsByClassName( \"treescope_out_29e19d1a85e44840a50adc916cc4a831\")) .filter((elt) => !elt.dataset.stolen) )[0]; root.dataset.stolen = 1; this.parentNode.replaceChild(root, this); </script></treescope-run-here>"
      ],
      "text/plain": [
       "OrderedDict([((DictKey(key='b'),),\n",
       "              <jax.Array([ 0.,  2.,  4.,  6.,  8., 10., 12., 14., 16., 18.], dtype=float32)>),\n",
       "             ((DictKey(key='c'), SequenceKey(idx=0), DictKey(key='value')),\n",
       "              <jax.Array([1., 1., 1., 1., 1., 1., 1., 1., 1., 1., 1., 1.], dtype=float32)>),\n",
       "             ((DictKey(key='c'), SequenceKey(idx=1), DictKey(key='value')),\n",
       "              <jax.Array([0., 0., 0., 0., 0., 0., 0.], dtype=float32)>)])"
      ]
     },
     "execution_count": 56,
     "metadata": {},
     "output_type": "execute_result"
    }
   ],
   "source": [
    "def my_loss(obj):\n",
    "  return obj[\"a\"] + jnp.sum(obj[\"b\"]**2) + jnp.sum(obj[\"c\"][0][\"value\"])\n",
    "\n",
    "my_float_object = jax.tree_util.tree_map(lambda leaf: jnp.array(leaf, dtype=jnp.float32), my_nested_object)\n",
    "\n",
    "# Take gradients w.r.t. non-scalars only, ignoring my_float_object[\"a\"] and my_float_object[\"c\"][2][\"value\"]\n",
    "# No need to store the gradient selection itself, since it can be inferred from vectors_by_path.\n",
    "vectors_by_path = pz.select(my_float_object).at_instances_of(jax.Array).where(lambda arr: arr.size > 1).get_by_path()\n",
    "\n",
    "jax.grad(\n",
    "    lambda vectors_by_path: my_loss(pz.select(my_float_object).select_and_set_by_path(vectors_by_path))\n",
    ")(vectors_by_path)"
   ]
  },
  {
   "cell_type": "markdown",
   "metadata": {
    "id": "p91fKstrxqoe"
   },
   "source": [
    "### Applying functions to selected values\n",
    "\n",
    "You can use `.apply` to apply a function to every selected object, similar to `jax.tree_util.tree_map` except that it applies to the selected subtrees rather than to the leaves:"
   ]
  },
  {
   "cell_type": "code",
   "execution_count": 57,
   "metadata": {
    "execution": {
     "iopub.execute_input": "2024-07-07T03:15:27.298072Z",
     "iopub.status.busy": "2024-07-07T03:15:27.297827Z",
     "iopub.status.idle": "2024-07-07T03:15:27.391468Z",
     "shell.execute_reply": "2024-07-07T03:15:27.391237Z"
    },
    "id": "PrRQyM58xbOE"
   },
   "outputs": [
    {
     "data": {
      "text/html": [
       "<script> (()=>{ if (customElements.get('treescope-container') === undefined) { class TreescopeContainer extends HTMLElement { constructor() { super(); this.attachShadow({mode: \"open\"}); this.defns = {}; this.state = {}; } } customElements.define(\"treescope-container\", TreescopeContainer); } if (customElements.get('treescope-run-here') === undefined) { class RunHere extends HTMLElement { constructor() { super() } connectedCallback() { const src = this.querySelector(\"script\").textContent; const fn = new Function(src); fn.call(this); this.remove(); } } customElements.define(\"treescope-run-here\", RunHere); } })(); </script> <treescope-container class=\"treescope_out_d7e065f4b27a4fe89ae6abe139cde687\" ></treescope-container> <treescope-run-here><script type=\"application/octet-stream\"> const root = ( Array.from(document.getElementsByClassName( \"treescope_out_d7e065f4b27a4fe89ae6abe139cde687\")) .filter((elt) => !elt.dataset.setup) )[0]; root.dataset.setup = 1; const msg = document.createElement(\"span\"); msg.style = \"color: #aaaaaa; font-family: monospace; transition: opacity 0.2s; opacity: 0.0;\"; msg.textContent = \"(Loading...)\"; root.state.loadingMsg = msg; root.shadowRoot.appendChild(msg); root.state.chain = new Promise((resolve, reject) => { const observer = new IntersectionObserver((entries) => { for (const entry of entries) { if (entry.isIntersecting) { resolve(); observer.disconnect(); return; } } }, {rootMargin: \"1000px\"}); window.setTimeout(() => { if (root.loadingMsg) { root.loadingMsg.style.opacity = \"1.0\"; } observer.observe(root); }, 0); }); root.state.deferring = false; const _insertNode = (node) => { for (let oldScript of node.querySelectorAll(\"script\")) { let newScript = document.createElement(\"script\"); newScript.type = oldScript.type; newScript.textContent = oldScript.textContent; oldScript.parentNode.replaceChild(newScript, oldScript); } if (root.state.loadingMsg) { root.state.loadingMsg.remove(); root.state.loadingMsg = null; } root.shadowRoot.appendChild(node); }; root.defns.insertContent = ((contentNode, compressed) => { if (compressed) { root.state.deferring = true; } if (root.state.deferring) { root.state.chain = (async () => { await root.state.chain; if (compressed) { const encoded = contentNode.textContent; const blob = new Blob([ Uint8Array.from(atob(encoded), (m) => m.codePointAt(0)) ]); const reader = blob.stream().pipeThrough( new DecompressionStream(\"deflate\") ).pipeThrough( new TextDecoderStream(\"utf-8\") ).getReader(); const parts = []; while (true) { const step = await reader.read(); if (step.done) { break; } parts.push(step.value); } const tpl = document.createElement('template'); tpl.innerHTML = parts.join(\"\"); _insertNode(tpl.content); } else { _insertNode(contentNode.content); } })(); } else { _insertNode(contentNode.content); } }); </script></treescope-run-here><div style=\"display:none\"> <script type=\"application/octet-stream\" >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</script> <treescope-run-here><script type=\"application/octet-stream\"> const root = ( Array.from(document.getElementsByClassName( \"treescope_out_d7e065f4b27a4fe89ae6abe139cde687\")) .filter((elt) => !elt.dataset['step0']) )[0]; root.dataset['step0'] = 1; root.defns.insertContent( this.parentNode.querySelector('script[type=\"application/octet-stream\"]'), true ); this.parentNode.remove(); </script></treescope-run-here> </div>"
      ],
      "text/plain": [
       "<IPython.core.display.HTML object>"
      ]
     },
     "metadata": {},
     "output_type": "display_data"
    },
    {
     "data": {
      "text/html": [
       "<div style=\"display:none\"> <script type=\"application/octet-stream\" >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</script> <treescope-run-here><script type=\"application/octet-stream\"> const root = ( Array.from(document.getElementsByClassName( \"treescope_out_d7e065f4b27a4fe89ae6abe139cde687\")) .filter((elt) => !elt.dataset['step1']) )[0]; root.dataset['step1'] = 1; root.defns.insertContent( this.parentNode.querySelector('script[type=\"application/octet-stream\"]'), true ); this.parentNode.remove(); </script></treescope-run-here> </div>"
      ],
      "text/plain": [
       "<IPython.core.display.HTML object>"
      ]
     },
     "metadata": {},
     "output_type": "display_data"
    },
    {
     "data": {
      "text/html": [
       "<treescope-run-here><script type=\"application/octet-stream\"> const root = ( Array.from(document.getElementsByClassName( \"treescope_out_d7e065f4b27a4fe89ae6abe139cde687\")) .filter((elt) => !elt.dataset.stolen) )[0]; root.dataset.stolen = 1; this.parentNode.replaceChild(root, this); </script></treescope-run-here>"
      ],
      "text/plain": [
       "{'a': 1,\n",
       " 'b': <jax.Array([100, 101, 104, 109, 116, 125, 136, 149, 164, 181], dtype=int32)>,\n",
       " 'c': [{'value': <jax.Array([100, 101, 104, 109, 116, 125, 136, 149, 164, 181, 200, 221], dtype=int32)>},\n",
       "  {'value': <jax.Array([100., 100., 100., 100., 100., 100., 100.], dtype=float32)>},\n",
       "  {'value': 3}]}"
      ]
     },
     "execution_count": 57,
     "metadata": {},
     "output_type": "execute_result"
    }
   ],
   "source": [
    "pz.select(my_nested_object).at_instances_of(jax.Array).apply(lambda x: x**2 + 100)"
   ]
  },
  {
   "cell_type": "markdown",
   "metadata": {
    "id": "CNBv2zCFysUP"
   },
   "source": [
    "You can also do `apply(fn, with_keypath=True)` to get access to the key paths as well:"
   ]
  },
  {
   "cell_type": "code",
   "execution_count": 58,
   "metadata": {
    "execution": {
     "iopub.execute_input": "2024-07-07T03:15:27.398464Z",
     "iopub.status.busy": "2024-07-07T03:15:27.398179Z",
     "iopub.status.idle": "2024-07-07T03:15:27.402834Z",
     "shell.execute_reply": "2024-07-07T03:15:27.402639Z"
    },
    "id": "8sT0FJ2yypAd"
   },
   "outputs": [
    {
     "data": {
      "text/html": [
       "<script> (()=>{ if (customElements.get('treescope-container') === undefined) { class TreescopeContainer extends HTMLElement { constructor() { super(); this.attachShadow({mode: \"open\"}); this.defns = {}; this.state = {}; } } customElements.define(\"treescope-container\", TreescopeContainer); } if (customElements.get('treescope-run-here') === undefined) { class RunHere extends HTMLElement { constructor() { super() } connectedCallback() { const src = this.querySelector(\"script\").textContent; const fn = new Function(src); fn.call(this); this.remove(); } } customElements.define(\"treescope-run-here\", RunHere); } })(); </script> <treescope-container class=\"treescope_out_99aa751ba2dc470287b43b0b2c287d9a\" ></treescope-container> <treescope-run-here><script type=\"application/octet-stream\"> const root = ( Array.from(document.getElementsByClassName( \"treescope_out_99aa751ba2dc470287b43b0b2c287d9a\")) .filter((elt) => !elt.dataset.setup) )[0]; root.dataset.setup = 1; const msg = document.createElement(\"span\"); msg.style = \"color: #aaaaaa; font-family: monospace; transition: opacity 0.2s; opacity: 0.0;\"; msg.textContent = \"(Loading...)\"; root.state.loadingMsg = msg; root.shadowRoot.appendChild(msg); root.state.chain = new Promise((resolve, reject) => { const observer = new IntersectionObserver((entries) => { for (const entry of entries) { if (entry.isIntersecting) { resolve(); observer.disconnect(); return; } } }, {rootMargin: \"1000px\"}); window.setTimeout(() => { if (root.loadingMsg) { root.loadingMsg.style.opacity = \"1.0\"; } observer.observe(root); }, 0); }); root.state.deferring = false; const _insertNode = (node) => { for (let oldScript of node.querySelectorAll(\"script\")) { let newScript = document.createElement(\"script\"); newScript.type = oldScript.type; newScript.textContent = oldScript.textContent; oldScript.parentNode.replaceChild(newScript, oldScript); } if (root.state.loadingMsg) { root.state.loadingMsg.remove(); root.state.loadingMsg = null; } root.shadowRoot.appendChild(node); }; root.defns.insertContent = ((contentNode, compressed) => { if (compressed) { root.state.deferring = true; } if (root.state.deferring) { root.state.chain = (async () => { await root.state.chain; if (compressed) { const encoded = contentNode.textContent; const blob = new Blob([ Uint8Array.from(atob(encoded), (m) => m.codePointAt(0)) ]); const reader = blob.stream().pipeThrough( new DecompressionStream(\"deflate\") ).pipeThrough( new TextDecoderStream(\"utf-8\") ).getReader(); const parts = []; while (true) { const step = await reader.read(); if (step.done) { break; } parts.push(step.value); } const tpl = document.createElement('template'); tpl.innerHTML = parts.join(\"\"); _insertNode(tpl.content); } else { _insertNode(contentNode.content); } })(); } else { _insertNode(contentNode.content); } }); </script></treescope-run-here><div style=\"display:none\"> <script type=\"application/octet-stream\" >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</script> <treescope-run-here><script type=\"application/octet-stream\"> const root = ( Array.from(document.getElementsByClassName( \"treescope_out_99aa751ba2dc470287b43b0b2c287d9a\")) .filter((elt) => !elt.dataset['step0']) )[0]; root.dataset['step0'] = 1; root.defns.insertContent( this.parentNode.querySelector('script[type=\"application/octet-stream\"]'), true ); this.parentNode.remove(); </script></treescope-run-here> </div>"
      ],
      "text/plain": [
       "<IPython.core.display.HTML object>"
      ]
     },
     "metadata": {},
     "output_type": "display_data"
    },
    {
     "data": {
      "text/html": [
       "<treescope-run-here><script type=\"application/octet-stream\"> const root = ( Array.from(document.getElementsByClassName( \"treescope_out_99aa751ba2dc470287b43b0b2c287d9a\")) .filter((elt) => !elt.dataset.stolen) )[0]; root.dataset.stolen = 1; this.parentNode.replaceChild(root, this); </script></treescope-run-here>"
      ],
      "text/plain": [
       "{'a': 1,\n",
       " 'b': \"key=(DictKey(key='b'),), value=[0 1 2 3 4 5 6 7 8 9]\",\n",
       " 'c': [{'value': \"key=(DictKey(key='c'), SequenceKey(idx=0), DictKey(key='value')), value=[ 0  1  2  3  4  5  6  7  8  9 10 11]\"},\n",
       "  {'value': \"key=(DictKey(key='c'), SequenceKey(idx=1), DictKey(key='value')), value=[0. 0. 0. 0. 0. 0. 0.]\"},\n",
       "  {'value': 3}]}"
      ]
     },
     "execution_count": 58,
     "metadata": {},
     "output_type": "execute_result"
    }
   ],
   "source": [
    "(\n",
    "    pz.select(my_nested_object)\n",
    "    .at_instances_of(jax.Array)\n",
    "    .apply(lambda key, value: f\"key={key}, value={value}\", with_keypath=True)\n",
    ")"
   ]
  },
  {
   "cell_type": "markdown",
   "metadata": {
    "id": "-RZGXU2ey_B7"
   },
   "source": [
    "By default, applying a function also removes the selection. If you want to do further processing, you can pass `keep_selected=True` to replace the values but keep them selected:"
   ]
  },
  {
   "cell_type": "code",
   "execution_count": 59,
   "metadata": {
    "execution": {
     "iopub.execute_input": "2024-07-07T03:15:27.412412Z",
     "iopub.status.busy": "2024-07-07T03:15:27.412060Z",
     "iopub.status.idle": "2024-07-07T03:15:27.422105Z",
     "shell.execute_reply": "2024-07-07T03:15:27.421902Z"
    },
    "id": "CtTI_jwXy9il"
   },
   "outputs": [
    {
     "data": {
      "text/html": [
       "<script> (()=>{ if (customElements.get('treescope-container') === undefined) { class TreescopeContainer extends HTMLElement { constructor() { super(); this.attachShadow({mode: \"open\"}); this.defns = {}; this.state = {}; } } customElements.define(\"treescope-container\", TreescopeContainer); } if (customElements.get('treescope-run-here') === undefined) { class RunHere extends HTMLElement { constructor() { super() } connectedCallback() { const src = this.querySelector(\"script\").textContent; const fn = new Function(src); fn.call(this); this.remove(); } } customElements.define(\"treescope-run-here\", RunHere); } })(); </script> <treescope-container class=\"treescope_out_d95cc68403934a8c8ca97b05c9349ccb\" ></treescope-container> <treescope-run-here><script type=\"application/octet-stream\"> const root = ( Array.from(document.getElementsByClassName( \"treescope_out_d95cc68403934a8c8ca97b05c9349ccb\")) .filter((elt) => !elt.dataset.setup) )[0]; root.dataset.setup = 1; const msg = document.createElement(\"span\"); msg.style = \"color: #aaaaaa; font-family: monospace; transition: opacity 0.2s; opacity: 0.0;\"; msg.textContent = \"(Loading...)\"; root.state.loadingMsg = msg; root.shadowRoot.appendChild(msg); root.state.chain = new Promise((resolve, reject) => { const observer = new IntersectionObserver((entries) => { for (const entry of entries) { if (entry.isIntersecting) { resolve(); observer.disconnect(); return; } } }, {rootMargin: \"1000px\"}); window.setTimeout(() => { if (root.loadingMsg) { root.loadingMsg.style.opacity = \"1.0\"; } observer.observe(root); }, 0); }); root.state.deferring = false; const _insertNode = (node) => { for (let oldScript of node.querySelectorAll(\"script\")) { let newScript = document.createElement(\"script\"); newScript.type = oldScript.type; newScript.textContent = oldScript.textContent; oldScript.parentNode.replaceChild(newScript, oldScript); } if (root.state.loadingMsg) { root.state.loadingMsg.remove(); root.state.loadingMsg = null; } root.shadowRoot.appendChild(node); }; root.defns.insertContent = ((contentNode, compressed) => { if (compressed) { root.state.deferring = true; } if (root.state.deferring) { root.state.chain = (async () => { await root.state.chain; if (compressed) { const encoded = contentNode.textContent; const blob = new Blob([ Uint8Array.from(atob(encoded), (m) => m.codePointAt(0)) ]); const reader = blob.stream().pipeThrough( new DecompressionStream(\"deflate\") ).pipeThrough( new TextDecoderStream(\"utf-8\") ).getReader(); const parts = []; while (true) { const step = await reader.read(); if (step.done) { break; } parts.push(step.value); } const tpl = document.createElement('template'); tpl.innerHTML = parts.join(\"\"); _insertNode(tpl.content); } else { _insertNode(contentNode.content); } })(); } else { _insertNode(contentNode.content); } }); </script></treescope-run-here><div style=\"display:none\"> <script type=\"application/octet-stream\" >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</script> <treescope-run-here><script type=\"application/octet-stream\"> const root = ( Array.from(document.getElementsByClassName( \"treescope_out_d95cc68403934a8c8ca97b05c9349ccb\")) .filter((elt) => !elt.dataset['step0']) )[0]; root.dataset['step0'] = 1; root.defns.insertContent( this.parentNode.querySelector('script[type=\"application/octet-stream\"]'), true ); this.parentNode.remove(); </script></treescope-run-here> </div>"
      ],
      "text/plain": [
       "<IPython.core.display.HTML object>"
      ]
     },
     "metadata": {},
     "output_type": "display_data"
    },
    {
     "data": {
      "text/html": [
       "<treescope-run-here><script type=\"application/octet-stream\"> const root = ( Array.from(document.getElementsByClassName( \"treescope_out_d95cc68403934a8c8ca97b05c9349ccb\")) .filter((elt) => !elt.dataset.stolen) )[0]; root.dataset.stolen = 1; this.parentNode.replaceChild(root, this); </script></treescope-run-here>"
      ],
      "text/plain": [
       "Selection(\n",
       "  selected_by_path=OrderedDict({\n",
       "    (DictKey(key='b'),):\n",
       "      \"key=(DictKey(key='b'),), value=[0 1 2 3 4 5 6 7 8 9]\",\n",
       "    (DictKey(key='c'), SequenceKey(idx=0), DictKey(key='value')):\n",
       "      \"key=(DictKey(key='c'), SequenceKey(idx=0), DictKey(key='value')), value=[ 0  1  2  3  4  5  6  7  8  9 10 11]\",\n",
       "    (DictKey(key='c'), SequenceKey(idx=1), DictKey(key='value')):\n",
       "      \"key=(DictKey(key='c'), SequenceKey(idx=1), DictKey(key='value')), value=[0. 0. 0. 0. 0. 0. 0.]\",\n",
       "  }),\n",
       "  remainder={'a': 1, 'b': SelectionHole(path=(DictKey(key='b'),)), 'c': [{'value': SelectionHole(path=(DictKey(key='c'), SequenceKey(idx=0), DictKey(key='value')))}, {'value': SelectionHole(path=(DictKey(key='c'), SequenceKey(idx=1), DictKey(key='value')))}, {'value': 3}]},\n",
       ")"
      ]
     },
     "execution_count": 59,
     "metadata": {},
     "output_type": "execute_result"
    }
   ],
   "source": [
    "(\n",
    "    pz.select(my_nested_object)\n",
    "    .at_instances_of(jax.Array)\n",
    "    .apply(lambda key, value: f\"key={key}, value={value}\", with_keypath=True, keep_selected=True)\n",
    ")"
   ]
  },
  {
   "cell_type": "markdown",
   "metadata": {
    "id": "YJujHVUOzmtm"
   },
   "source": [
    "Sometimes, it's also useful to pass the index of the selected node relative to the *selection* (e.g. \"this is the third selected node\") instead of the absolute keypath. For this, theres `.apply_with_selected_index`:"
   ]
  },
  {
   "cell_type": "code",
   "execution_count": 60,
   "metadata": {
    "execution": {
     "iopub.execute_input": "2024-07-07T03:15:27.431536Z",
     "iopub.status.busy": "2024-07-07T03:15:27.431270Z",
     "iopub.status.idle": "2024-07-07T03:15:27.441662Z",
     "shell.execute_reply": "2024-07-07T03:15:27.441473Z"
    },
    "id": "xLrWVjiazLVS"
   },
   "outputs": [
    {
     "data": {
      "text/html": [
       "<script> (()=>{ if (customElements.get('treescope-container') === undefined) { class TreescopeContainer extends HTMLElement { constructor() { super(); this.attachShadow({mode: \"open\"}); this.defns = {}; this.state = {}; } } customElements.define(\"treescope-container\", TreescopeContainer); } if (customElements.get('treescope-run-here') === undefined) { class RunHere extends HTMLElement { constructor() { super() } connectedCallback() { const src = this.querySelector(\"script\").textContent; const fn = new Function(src); fn.call(this); this.remove(); } } customElements.define(\"treescope-run-here\", RunHere); } })(); </script> <treescope-container class=\"treescope_out_dc30baff772744bdaf2def6b7b7b57bb\" ></treescope-container> <treescope-run-here><script type=\"application/octet-stream\"> const root = ( Array.from(document.getElementsByClassName( \"treescope_out_dc30baff772744bdaf2def6b7b7b57bb\")) .filter((elt) => !elt.dataset.setup) )[0]; root.dataset.setup = 1; const msg = document.createElement(\"span\"); msg.style = \"color: #aaaaaa; font-family: monospace; transition: opacity 0.2s; opacity: 0.0;\"; msg.textContent = \"(Loading...)\"; root.state.loadingMsg = msg; root.shadowRoot.appendChild(msg); root.state.chain = new Promise((resolve, reject) => { const observer = new IntersectionObserver((entries) => { for (const entry of entries) { if (entry.isIntersecting) { resolve(); observer.disconnect(); return; } } }, {rootMargin: \"1000px\"}); window.setTimeout(() => { if (root.loadingMsg) { root.loadingMsg.style.opacity = \"1.0\"; } observer.observe(root); }, 0); }); root.state.deferring = false; const _insertNode = (node) => { for (let oldScript of node.querySelectorAll(\"script\")) { let newScript = document.createElement(\"script\"); newScript.type = oldScript.type; newScript.textContent = oldScript.textContent; oldScript.parentNode.replaceChild(newScript, oldScript); } if (root.state.loadingMsg) { root.state.loadingMsg.remove(); root.state.loadingMsg = null; } root.shadowRoot.appendChild(node); }; root.defns.insertContent = ((contentNode, compressed) => { if (compressed) { root.state.deferring = true; } if (root.state.deferring) { root.state.chain = (async () => { await root.state.chain; if (compressed) { const encoded = contentNode.textContent; const blob = new Blob([ Uint8Array.from(atob(encoded), (m) => m.codePointAt(0)) ]); const reader = blob.stream().pipeThrough( new DecompressionStream(\"deflate\") ).pipeThrough( new TextDecoderStream(\"utf-8\") ).getReader(); const parts = []; while (true) { const step = await reader.read(); if (step.done) { break; } parts.push(step.value); } const tpl = document.createElement('template'); tpl.innerHTML = parts.join(\"\"); _insertNode(tpl.content); } else { _insertNode(contentNode.content); } })(); } else { _insertNode(contentNode.content); } }); </script></treescope-run-here><div style=\"display:none\"> <script type=\"application/octet-stream\" >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</script> <treescope-run-here><script type=\"application/octet-stream\"> const root = ( Array.from(document.getElementsByClassName( \"treescope_out_dc30baff772744bdaf2def6b7b7b57bb\")) .filter((elt) => !elt.dataset['step0']) )[0]; root.dataset['step0'] = 1; root.defns.insertContent( this.parentNode.querySelector('script[type=\"application/octet-stream\"]'), true ); this.parentNode.remove(); </script></treescope-run-here> </div>"
      ],
      "text/plain": [
       "<IPython.core.display.HTML object>"
      ]
     },
     "metadata": {},
     "output_type": "display_data"
    },
    {
     "data": {
      "text/html": [
       "<treescope-run-here><script type=\"application/octet-stream\"> const root = ( Array.from(document.getElementsByClassName( \"treescope_out_dc30baff772744bdaf2def6b7b7b57bb\")) .filter((elt) => !elt.dataset.stolen) )[0]; root.dataset.stolen = 1; this.parentNode.replaceChild(root, this); </script></treescope-run-here>"
      ],
      "text/plain": [
       "Selection(\n",
       "  selected_by_path=OrderedDict({\n",
       "    (DictKey(key='b'),):\n",
       "      'index=0, value=[0 1 2 3 4 5 6 7 8 9]',\n",
       "    (DictKey(key='c'), SequenceKey(idx=0), DictKey(key='value')):\n",
       "      'index=1, value=[ 0  1  2  3  4  5  6  7  8  9 10 11]',\n",
       "    (DictKey(key='c'), SequenceKey(idx=1), DictKey(key='value')):\n",
       "      'index=2, value=[0. 0. 0. 0. 0. 0. 0.]',\n",
       "  }),\n",
       "  remainder={'a': 1, 'b': SelectionHole(path=(DictKey(key='b'),)), 'c': [{'value': SelectionHole(path=(DictKey(key='c'), SequenceKey(idx=0), DictKey(key='value')))}, {'value': SelectionHole(path=(DictKey(key='c'), SequenceKey(idx=1), DictKey(key='value')))}, {'value': 3}]},\n",
       ")"
      ]
     },
     "execution_count": 60,
     "metadata": {},
     "output_type": "execute_result"
    }
   ],
   "source": [
    "(\n",
    "    pz.select(my_nested_object)\n",
    "    .at_instances_of(jax.Array)\n",
    "    .apply_with_selected_index(lambda index, value: f\"index={index}, value={value}\", keep_selected=True)\n",
    ")"
   ]
  },
  {
   "cell_type": "markdown",
   "metadata": {
    "id": "zpbos5v2z9BI"
   },
   "source": [
    "### Manipulating selected elements of lists and tuples"
   ]
  },
  {
   "cell_type": "markdown",
   "metadata": {
    "id": "iqvDVZkn0GSq"
   },
   "source": [
    "When the selected nodes are elements of a list or tuple, there are a few other options for selector manipulation. For instance, you can insert values before or after the selected nodes:"
   ]
  },
  {
   "cell_type": "code",
   "execution_count": 61,
   "metadata": {
    "execution": {
     "iopub.execute_input": "2024-07-07T03:15:27.449651Z",
     "iopub.status.busy": "2024-07-07T03:15:27.449410Z",
     "iopub.status.idle": "2024-07-07T03:15:27.454129Z",
     "shell.execute_reply": "2024-07-07T03:15:27.453864Z"
    },
    "id": "Ptualckcz45d"
   },
   "outputs": [
    {
     "data": {
      "text/html": [
       "<script> (()=>{ if (customElements.get('treescope-container') === undefined) { class TreescopeContainer extends HTMLElement { constructor() { super(); this.attachShadow({mode: \"open\"}); this.defns = {}; this.state = {}; } } customElements.define(\"treescope-container\", TreescopeContainer); } if (customElements.get('treescope-run-here') === undefined) { class RunHere extends HTMLElement { constructor() { super() } connectedCallback() { const src = this.querySelector(\"script\").textContent; const fn = new Function(src); fn.call(this); this.remove(); } } customElements.define(\"treescope-run-here\", RunHere); } })(); </script> <treescope-container class=\"treescope_out_c95c5ed5766b4758ad5b2110eef3bb1b\" ></treescope-container> <treescope-run-here><script type=\"application/octet-stream\"> const root = ( Array.from(document.getElementsByClassName( \"treescope_out_c95c5ed5766b4758ad5b2110eef3bb1b\")) .filter((elt) => !elt.dataset.setup) )[0]; root.dataset.setup = 1; const msg = document.createElement(\"span\"); msg.style = \"color: #aaaaaa; font-family: monospace; transition: opacity 0.2s; opacity: 0.0;\"; msg.textContent = \"(Loading...)\"; root.state.loadingMsg = msg; root.shadowRoot.appendChild(msg); root.state.chain = new Promise((resolve, reject) => { const observer = new IntersectionObserver((entries) => { for (const entry of entries) { if (entry.isIntersecting) { resolve(); observer.disconnect(); return; } } }, {rootMargin: \"1000px\"}); window.setTimeout(() => { if (root.loadingMsg) { root.loadingMsg.style.opacity = \"1.0\"; } observer.observe(root); }, 0); }); root.state.deferring = false; const _insertNode = (node) => { for (let oldScript of node.querySelectorAll(\"script\")) { let newScript = document.createElement(\"script\"); newScript.type = oldScript.type; newScript.textContent = oldScript.textContent; oldScript.parentNode.replaceChild(newScript, oldScript); } if (root.state.loadingMsg) { root.state.loadingMsg.remove(); root.state.loadingMsg = null; } root.shadowRoot.appendChild(node); }; root.defns.insertContent = ((contentNode, compressed) => { if (compressed) { root.state.deferring = true; } if (root.state.deferring) { root.state.chain = (async () => { await root.state.chain; if (compressed) { const encoded = contentNode.textContent; const blob = new Blob([ Uint8Array.from(atob(encoded), (m) => m.codePointAt(0)) ]); const reader = blob.stream().pipeThrough( new DecompressionStream(\"deflate\") ).pipeThrough( new TextDecoderStream(\"utf-8\") ).getReader(); const parts = []; while (true) { const step = await reader.read(); if (step.done) { break; } parts.push(step.value); } const tpl = document.createElement('template'); tpl.innerHTML = parts.join(\"\"); _insertNode(tpl.content); } else { _insertNode(contentNode.content); } })(); } else { _insertNode(contentNode.content); } }); </script></treescope-run-here><div style=\"display:none\"> <script type=\"application/octet-stream\" >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</script> <treescope-run-here><script type=\"application/octet-stream\"> const root = ( Array.from(document.getElementsByClassName( \"treescope_out_c95c5ed5766b4758ad5b2110eef3bb1b\")) .filter((elt) => !elt.dataset['step0']) )[0]; root.dataset['step0'] = 1; root.defns.insertContent( this.parentNode.querySelector('script[type=\"application/octet-stream\"]'), true ); this.parentNode.remove(); </script></treescope-run-here> </div>"
      ],
      "text/plain": [
       "<IPython.core.display.HTML object>"
      ]
     },
     "metadata": {},
     "output_type": "display_data"
    },
    {
     "data": {
      "text/html": [
       "<treescope-run-here><script type=\"application/octet-stream\"> const root = ( Array.from(document.getElementsByClassName( \"treescope_out_c95c5ed5766b4758ad5b2110eef3bb1b\")) .filter((elt) => !elt.dataset.stolen) )[0]; root.dataset.stolen = 1; this.parentNode.replaceChild(root, this); </script></treescope-run-here>"
      ],
      "text/plain": [
       "{'a': ['before a multiple of 4',\n",
       "  0,\n",
       "  1,\n",
       "  2,\n",
       "  3,\n",
       "  'before a multiple of 4',\n",
       "  4,\n",
       "  5,\n",
       "  6,\n",
       "  7,\n",
       "  'before a multiple of 4',\n",
       "  8,\n",
       "  9],\n",
       " 'b': [10,\n",
       "  11,\n",
       "  'before a multiple of 4',\n",
       "  12,\n",
       "  13,\n",
       "  14,\n",
       "  15,\n",
       "  'before a multiple of 4',\n",
       "  16,\n",
       "  17,\n",
       "  18,\n",
       "  19]}"
      ]
     },
     "execution_count": 61,
     "metadata": {},
     "output_type": "execute_result"
    }
   ],
   "source": [
    "(\n",
    "    pz.select({\"a\": list(range(10)), \"b\": list(range(10, 20))})\n",
    "      .at_instances_of(int)\n",
    "      .where(lambda x: x % 4 == 0)\n",
    "      .insert_before(\"before a multiple of 4\")\n",
    ")"
   ]
  },
  {
   "cell_type": "code",
   "execution_count": 62,
   "metadata": {
    "execution": {
     "iopub.execute_input": "2024-07-07T03:15:27.461882Z",
     "iopub.status.busy": "2024-07-07T03:15:27.461593Z",
     "iopub.status.idle": "2024-07-07T03:15:27.466551Z",
     "shell.execute_reply": "2024-07-07T03:15:27.466689Z"
    },
    "id": "tIf27Qx40hP3"
   },
   "outputs": [
    {
     "data": {
      "text/html": [
       "<script> (()=>{ if (customElements.get('treescope-container') === undefined) { class TreescopeContainer extends HTMLElement { constructor() { super(); this.attachShadow({mode: \"open\"}); this.defns = {}; this.state = {}; } } customElements.define(\"treescope-container\", TreescopeContainer); } if (customElements.get('treescope-run-here') === undefined) { class RunHere extends HTMLElement { constructor() { super() } connectedCallback() { const src = this.querySelector(\"script\").textContent; const fn = new Function(src); fn.call(this); this.remove(); } } customElements.define(\"treescope-run-here\", RunHere); } })(); </script> <treescope-container class=\"treescope_out_e15de531466c4589afc1429fea2a6405\" ></treescope-container> <treescope-run-here><script type=\"application/octet-stream\"> const root = ( Array.from(document.getElementsByClassName( \"treescope_out_e15de531466c4589afc1429fea2a6405\")) .filter((elt) => !elt.dataset.setup) )[0]; root.dataset.setup = 1; const msg = document.createElement(\"span\"); msg.style = \"color: #aaaaaa; font-family: monospace; transition: opacity 0.2s; opacity: 0.0;\"; msg.textContent = \"(Loading...)\"; root.state.loadingMsg = msg; root.shadowRoot.appendChild(msg); root.state.chain = new Promise((resolve, reject) => { const observer = new IntersectionObserver((entries) => { for (const entry of entries) { if (entry.isIntersecting) { resolve(); observer.disconnect(); return; } } }, {rootMargin: \"1000px\"}); window.setTimeout(() => { if (root.loadingMsg) { root.loadingMsg.style.opacity = \"1.0\"; } observer.observe(root); }, 0); }); root.state.deferring = false; const _insertNode = (node) => { for (let oldScript of node.querySelectorAll(\"script\")) { let newScript = document.createElement(\"script\"); newScript.type = oldScript.type; newScript.textContent = oldScript.textContent; oldScript.parentNode.replaceChild(newScript, oldScript); } if (root.state.loadingMsg) { root.state.loadingMsg.remove(); root.state.loadingMsg = null; } root.shadowRoot.appendChild(node); }; root.defns.insertContent = ((contentNode, compressed) => { if (compressed) { root.state.deferring = true; } if (root.state.deferring) { root.state.chain = (async () => { await root.state.chain; if (compressed) { const encoded = contentNode.textContent; const blob = new Blob([ Uint8Array.from(atob(encoded), (m) => m.codePointAt(0)) ]); const reader = blob.stream().pipeThrough( new DecompressionStream(\"deflate\") ).pipeThrough( new TextDecoderStream(\"utf-8\") ).getReader(); const parts = []; while (true) { const step = await reader.read(); if (step.done) { break; } parts.push(step.value); } const tpl = document.createElement('template'); tpl.innerHTML = parts.join(\"\"); _insertNode(tpl.content); } else { _insertNode(contentNode.content); } })(); } else { _insertNode(contentNode.content); } }); </script></treescope-run-here><div style=\"display:none\"> <script type=\"application/octet-stream\" >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</script> <treescope-run-here><script type=\"application/octet-stream\"> const root = ( Array.from(document.getElementsByClassName( \"treescope_out_e15de531466c4589afc1429fea2a6405\")) .filter((elt) => !elt.dataset['step0']) )[0]; root.dataset['step0'] = 1; root.defns.insertContent( this.parentNode.querySelector('script[type=\"application/octet-stream\"]'), true ); this.parentNode.remove(); </script></treescope-run-here> </div>"
      ],
      "text/plain": [
       "<IPython.core.display.HTML object>"
      ]
     },
     "metadata": {},
     "output_type": "display_data"
    },
    {
     "data": {
      "text/html": [
       "<treescope-run-here><script type=\"application/octet-stream\"> const root = ( Array.from(document.getElementsByClassName( \"treescope_out_e15de531466c4589afc1429fea2a6405\")) .filter((elt) => !elt.dataset.stolen) )[0]; root.dataset.stolen = 1; this.parentNode.replaceChild(root, this); </script></treescope-run-here>"
      ],
      "text/plain": [
       "{'a': [0,\n",
       "  'after a multiple of 4',\n",
       "  1,\n",
       "  2,\n",
       "  3,\n",
       "  4,\n",
       "  'after a multiple of 4',\n",
       "  5,\n",
       "  6,\n",
       "  7,\n",
       "  8,\n",
       "  'after a multiple of 4',\n",
       "  9],\n",
       " 'b': [10,\n",
       "  11,\n",
       "  12,\n",
       "  'after a multiple of 4',\n",
       "  13,\n",
       "  14,\n",
       "  15,\n",
       "  16,\n",
       "  'after a multiple of 4',\n",
       "  17,\n",
       "  18,\n",
       "  19]}"
      ]
     },
     "execution_count": 62,
     "metadata": {},
     "output_type": "execute_result"
    }
   ],
   "source": [
    "(\n",
    "    pz.select({\"a\": list(range(10)), \"b\": list(range(10, 20))})\n",
    "      .at_instances_of(int)\n",
    "      .where(lambda x: x % 4 == 0)\n",
    "      .insert_after(\"after a multiple of 4\")\n",
    ")"
   ]
  },
  {
   "cell_type": "markdown",
   "metadata": {
    "id": "BFg6JxQq0tMW"
   },
   "source": [
    "You can also just remove the selected nodes:"
   ]
  },
  {
   "cell_type": "code",
   "execution_count": 63,
   "metadata": {
    "execution": {
     "iopub.execute_input": "2024-07-07T03:15:27.473412Z",
     "iopub.status.busy": "2024-07-07T03:15:27.473067Z",
     "iopub.status.idle": "2024-07-07T03:15:27.477768Z",
     "shell.execute_reply": "2024-07-07T03:15:27.477592Z"
    },
    "id": "PzLdrjdq0raZ"
   },
   "outputs": [
    {
     "data": {
      "text/html": [
       "<script> (()=>{ if (customElements.get('treescope-container') === undefined) { class TreescopeContainer extends HTMLElement { constructor() { super(); this.attachShadow({mode: \"open\"}); this.defns = {}; this.state = {}; } } customElements.define(\"treescope-container\", TreescopeContainer); } if (customElements.get('treescope-run-here') === undefined) { class RunHere extends HTMLElement { constructor() { super() } connectedCallback() { const src = this.querySelector(\"script\").textContent; const fn = new Function(src); fn.call(this); this.remove(); } } customElements.define(\"treescope-run-here\", RunHere); } })(); </script> <treescope-container class=\"treescope_out_97a69fc658814ba6a2deef7ef483130f\" ></treescope-container> <treescope-run-here><script type=\"application/octet-stream\"> const root = ( Array.from(document.getElementsByClassName( \"treescope_out_97a69fc658814ba6a2deef7ef483130f\")) .filter((elt) => !elt.dataset.setup) )[0]; root.dataset.setup = 1; const msg = document.createElement(\"span\"); msg.style = \"color: #aaaaaa; font-family: monospace; transition: opacity 0.2s; opacity: 0.0;\"; msg.textContent = \"(Loading...)\"; root.state.loadingMsg = msg; root.shadowRoot.appendChild(msg); root.state.chain = new Promise((resolve, reject) => { const observer = new IntersectionObserver((entries) => { for (const entry of entries) { if (entry.isIntersecting) { resolve(); observer.disconnect(); return; } } }, {rootMargin: \"1000px\"}); window.setTimeout(() => { if (root.loadingMsg) { root.loadingMsg.style.opacity = \"1.0\"; } observer.observe(root); }, 0); }); root.state.deferring = false; const _insertNode = (node) => { for (let oldScript of node.querySelectorAll(\"script\")) { let newScript = document.createElement(\"script\"); newScript.type = oldScript.type; newScript.textContent = oldScript.textContent; oldScript.parentNode.replaceChild(newScript, oldScript); } if (root.state.loadingMsg) { root.state.loadingMsg.remove(); root.state.loadingMsg = null; } root.shadowRoot.appendChild(node); }; root.defns.insertContent = ((contentNode, compressed) => { if (compressed) { root.state.deferring = true; } if (root.state.deferring) { root.state.chain = (async () => { await root.state.chain; if (compressed) { const encoded = contentNode.textContent; const blob = new Blob([ Uint8Array.from(atob(encoded), (m) => m.codePointAt(0)) ]); const reader = blob.stream().pipeThrough( new DecompressionStream(\"deflate\") ).pipeThrough( new TextDecoderStream(\"utf-8\") ).getReader(); const parts = []; while (true) { const step = await reader.read(); if (step.done) { break; } parts.push(step.value); } const tpl = document.createElement('template'); tpl.innerHTML = parts.join(\"\"); _insertNode(tpl.content); } else { _insertNode(contentNode.content); } })(); } else { _insertNode(contentNode.content); } }); </script></treescope-run-here><div style=\"display:none\"> <script type=\"application/octet-stream\" >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</script> <treescope-run-here><script type=\"application/octet-stream\"> const root = ( Array.from(document.getElementsByClassName( \"treescope_out_97a69fc658814ba6a2deef7ef483130f\")) .filter((elt) => !elt.dataset['step0']) )[0]; root.dataset['step0'] = 1; root.defns.insertContent( this.parentNode.querySelector('script[type=\"application/octet-stream\"]'), true ); this.parentNode.remove(); </script></treescope-run-here> </div>"
      ],
      "text/plain": [
       "<IPython.core.display.HTML object>"
      ]
     },
     "metadata": {},
     "output_type": "display_data"
    },
    {
     "data": {
      "text/html": [
       "<treescope-run-here><script type=\"application/octet-stream\"> const root = ( Array.from(document.getElementsByClassName( \"treescope_out_97a69fc658814ba6a2deef7ef483130f\")) .filter((elt) => !elt.dataset.stolen) )[0]; root.dataset.stolen = 1; this.parentNode.replaceChild(root, this); </script></treescope-run-here>"
      ],
      "text/plain": [
       "{'a': [1, 2, 3, 5, 6, 7, 9], 'b': [10, 11, 13, 14, 15, 17, 18, 19]}"
      ]
     },
     "execution_count": 63,
     "metadata": {},
     "output_type": "execute_result"
    }
   ],
   "source": [
    "(\n",
    "    pz.select({\"a\": list(range(10)), \"b\": list(range(10, 20))})\n",
    "      .at_instances_of(int)\n",
    "      .where(lambda x: x % 4 == 0)\n",
    "      .remove_from_parent()\n",
    ")"
   ]
  },
  {
   "cell_type": "markdown",
   "metadata": {
    "id": "ELI6wOnC0yMI"
   },
   "source": [
    "If you want more control, or if you want to use the selected value to determine what to insert, you can use the method `.apply_and_inline`. This works like `.apply`, except that your function should return a *sequence* of values, and those values will be spliced into the original list or tuple in the same position as the original selected nodes."
   ]
  },
  {
   "cell_type": "code",
   "execution_count": 64,
   "metadata": {
    "execution": {
     "iopub.execute_input": "2024-07-07T03:15:27.486209Z",
     "iopub.status.busy": "2024-07-07T03:15:27.485745Z",
     "iopub.status.idle": "2024-07-07T03:15:27.490775Z",
     "shell.execute_reply": "2024-07-07T03:15:27.490569Z"
    },
    "id": "l7M2_YQF0vzy"
   },
   "outputs": [
    {
     "data": {
      "text/html": [
       "<script> (()=>{ if (customElements.get('treescope-container') === undefined) { class TreescopeContainer extends HTMLElement { constructor() { super(); this.attachShadow({mode: \"open\"}); this.defns = {}; this.state = {}; } } customElements.define(\"treescope-container\", TreescopeContainer); } if (customElements.get('treescope-run-here') === undefined) { class RunHere extends HTMLElement { constructor() { super() } connectedCallback() { const src = this.querySelector(\"script\").textContent; const fn = new Function(src); fn.call(this); this.remove(); } } customElements.define(\"treescope-run-here\", RunHere); } })(); </script> <treescope-container class=\"treescope_out_458112963ea740cd9cba5877b14350d1\" ></treescope-container> <treescope-run-here><script type=\"application/octet-stream\"> const root = ( Array.from(document.getElementsByClassName( \"treescope_out_458112963ea740cd9cba5877b14350d1\")) .filter((elt) => !elt.dataset.setup) )[0]; root.dataset.setup = 1; const msg = document.createElement(\"span\"); msg.style = \"color: #aaaaaa; font-family: monospace; transition: opacity 0.2s; opacity: 0.0;\"; msg.textContent = \"(Loading...)\"; root.state.loadingMsg = msg; root.shadowRoot.appendChild(msg); root.state.chain = new Promise((resolve, reject) => { const observer = new IntersectionObserver((entries) => { for (const entry of entries) { if (entry.isIntersecting) { resolve(); observer.disconnect(); return; } } }, {rootMargin: \"1000px\"}); window.setTimeout(() => { if (root.loadingMsg) { root.loadingMsg.style.opacity = \"1.0\"; } observer.observe(root); }, 0); }); root.state.deferring = false; const _insertNode = (node) => { for (let oldScript of node.querySelectorAll(\"script\")) { let newScript = document.createElement(\"script\"); newScript.type = oldScript.type; newScript.textContent = oldScript.textContent; oldScript.parentNode.replaceChild(newScript, oldScript); } if (root.state.loadingMsg) { root.state.loadingMsg.remove(); root.state.loadingMsg = null; } root.shadowRoot.appendChild(node); }; root.defns.insertContent = ((contentNode, compressed) => { if (compressed) { root.state.deferring = true; } if (root.state.deferring) { root.state.chain = (async () => { await root.state.chain; if (compressed) { const encoded = contentNode.textContent; const blob = new Blob([ Uint8Array.from(atob(encoded), (m) => m.codePointAt(0)) ]); const reader = blob.stream().pipeThrough( new DecompressionStream(\"deflate\") ).pipeThrough( new TextDecoderStream(\"utf-8\") ).getReader(); const parts = []; while (true) { const step = await reader.read(); if (step.done) { break; } parts.push(step.value); } const tpl = document.createElement('template'); tpl.innerHTML = parts.join(\"\"); _insertNode(tpl.content); } else { _insertNode(contentNode.content); } })(); } else { _insertNode(contentNode.content); } }); </script></treescope-run-here><div style=\"display:none\"> <script type=\"application/octet-stream\" >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</script> <treescope-run-here><script type=\"application/octet-stream\"> const root = ( Array.from(document.getElementsByClassName( \"treescope_out_458112963ea740cd9cba5877b14350d1\")) .filter((elt) => !elt.dataset['step0']) )[0]; root.dataset['step0'] = 1; root.defns.insertContent( this.parentNode.querySelector('script[type=\"application/octet-stream\"]'), true ); this.parentNode.remove(); </script></treescope-run-here> </div>"
      ],
      "text/plain": [
       "<IPython.core.display.HTML object>"
      ]
     },
     "metadata": {},
     "output_type": "display_data"
    },
    {
     "data": {
      "text/html": [
       "<treescope-run-here><script type=\"application/octet-stream\"> const root = ( Array.from(document.getElementsByClassName( \"treescope_out_458112963ea740cd9cba5877b14350d1\")) .filter((elt) => !elt.dataset.stolen) )[0]; root.dataset.stolen = 1; this.parentNode.replaceChild(root, this); </script></treescope-run-here>"
      ],
      "text/plain": [
       "{'a': ['before',\n",
       "  'the value was 0',\n",
       "  'after',\n",
       "  1,\n",
       "  2,\n",
       "  3,\n",
       "  'before',\n",
       "  'the value was 4',\n",
       "  'after',\n",
       "  5,\n",
       "  6,\n",
       "  7,\n",
       "  'before',\n",
       "  'the value was 8',\n",
       "  'after',\n",
       "  9],\n",
       " 'b': [10,\n",
       "  11,\n",
       "  'before',\n",
       "  'the value was 12',\n",
       "  'after',\n",
       "  13,\n",
       "  14,\n",
       "  15,\n",
       "  'before',\n",
       "  'the value was 16',\n",
       "  'after',\n",
       "  17,\n",
       "  18,\n",
       "  19]}"
      ]
     },
     "execution_count": 64,
     "metadata": {},
     "output_type": "execute_result"
    }
   ],
   "source": [
    "(\n",
    "    pz.select({\"a\": list(range(10)), \"b\": list(range(10, 20))})\n",
    "      .at_instances_of(int)\n",
    "      .where(lambda x: x % 4 == 0)\n",
    "      .apply_and_inline(lambda x: [\"before\", f\"the value was {x}\", \"after\"])\n",
    ")"
   ]
  },
  {
   "cell_type": "markdown",
   "metadata": {
    "id": "DaIykx2UVgaM"
   },
   "source": [
    "## Taking advantage of key paths"
   ]
  },
  {
   "cell_type": "markdown",
   "metadata": {
    "id": "hoF1YE4VVF6M"
   },
   "source": [
    "Many of the selector functions allow you to use the PyTree path to each selected in addition to its value:"
   ]
  },
  {
   "cell_type": "code",
   "execution_count": 65,
   "metadata": {
    "execution": {
     "iopub.execute_input": "2024-07-07T03:15:27.500220Z",
     "iopub.status.busy": "2024-07-07T03:15:27.499910Z",
     "iopub.status.idle": "2024-07-07T03:15:27.515356Z",
     "shell.execute_reply": "2024-07-07T03:15:27.515110Z"
    },
    "id": "YCK_xieQVi8r"
   },
   "outputs": [
    {
     "data": {
      "text/html": [
       "<script> (()=>{ if (customElements.get('treescope-container') === undefined) { class TreescopeContainer extends HTMLElement { constructor() { super(); this.attachShadow({mode: \"open\"}); this.defns = {}; this.state = {}; } } customElements.define(\"treescope-container\", TreescopeContainer); } if (customElements.get('treescope-run-here') === undefined) { class RunHere extends HTMLElement { constructor() { super() } connectedCallback() { const src = this.querySelector(\"script\").textContent; const fn = new Function(src); fn.call(this); this.remove(); } } customElements.define(\"treescope-run-here\", RunHere); } })(); </script> <treescope-container class=\"treescope_out_4480839e03a04e8a904176f7bcd9dfd1\" ></treescope-container> <treescope-run-here><script type=\"application/octet-stream\"> const root = ( Array.from(document.getElementsByClassName( \"treescope_out_4480839e03a04e8a904176f7bcd9dfd1\")) .filter((elt) => !elt.dataset.setup) )[0]; root.dataset.setup = 1; const msg = document.createElement(\"span\"); msg.style = \"color: #aaaaaa; font-family: monospace; transition: opacity 0.2s; opacity: 0.0;\"; msg.textContent = \"(Loading...)\"; root.state.loadingMsg = msg; root.shadowRoot.appendChild(msg); root.state.chain = new Promise((resolve, reject) => { const observer = new IntersectionObserver((entries) => { for (const entry of entries) { if (entry.isIntersecting) { resolve(); observer.disconnect(); return; } } }, {rootMargin: \"1000px\"}); window.setTimeout(() => { if (root.loadingMsg) { root.loadingMsg.style.opacity = \"1.0\"; } observer.observe(root); }, 0); }); root.state.deferring = false; const _insertNode = (node) => { for (let oldScript of node.querySelectorAll(\"script\")) { let newScript = document.createElement(\"script\"); newScript.type = oldScript.type; newScript.textContent = oldScript.textContent; oldScript.parentNode.replaceChild(newScript, oldScript); } if (root.state.loadingMsg) { root.state.loadingMsg.remove(); root.state.loadingMsg = null; } root.shadowRoot.appendChild(node); }; root.defns.insertContent = ((contentNode, compressed) => { if (compressed) { root.state.deferring = true; } if (root.state.deferring) { root.state.chain = (async () => { await root.state.chain; if (compressed) { const encoded = contentNode.textContent; const blob = new Blob([ Uint8Array.from(atob(encoded), (m) => m.codePointAt(0)) ]); const reader = blob.stream().pipeThrough( new DecompressionStream(\"deflate\") ).pipeThrough( new TextDecoderStream(\"utf-8\") ).getReader(); const parts = []; while (true) { const step = await reader.read(); if (step.done) { break; } parts.push(step.value); } const tpl = document.createElement('template'); tpl.innerHTML = parts.join(\"\"); _insertNode(tpl.content); } else { _insertNode(contentNode.content); } })(); } else { _insertNode(contentNode.content); } }); </script></treescope-run-here><div style=\"display:none\"> <script type=\"application/octet-stream\" >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</script> <treescope-run-here><script type=\"application/octet-stream\"> const root = ( Array.from(document.getElementsByClassName( \"treescope_out_4480839e03a04e8a904176f7bcd9dfd1\")) .filter((elt) => !elt.dataset['step0']) )[0]; root.dataset['step0'] = 1; root.defns.insertContent( this.parentNode.querySelector('script[type=\"application/octet-stream\"]'), true ); this.parentNode.remove(); </script></treescope-run-here> </div>"
      ],
      "text/plain": [
       "<IPython.core.display.HTML object>"
      ]
     },
     "metadata": {},
     "output_type": "display_data"
    },
    {
     "data": {
      "text/html": [
       "<div style=\"display:none\"> <script type=\"application/octet-stream\" >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</script> <treescope-run-here><script type=\"application/octet-stream\"> const root = ( Array.from(document.getElementsByClassName( \"treescope_out_4480839e03a04e8a904176f7bcd9dfd1\")) .filter((elt) => !elt.dataset['step1']) )[0]; root.dataset['step1'] = 1; root.defns.insertContent( this.parentNode.querySelector('script[type=\"application/octet-stream\"]'), true ); this.parentNode.remove(); </script></treescope-run-here> </div>"
      ],
      "text/plain": [
       "<IPython.core.display.HTML object>"
      ]
     },
     "metadata": {},
     "output_type": "display_data"
    },
    {
     "data": {
      "text/html": [
       "<treescope-run-here><script type=\"application/octet-stream\"> const root = ( Array.from(document.getElementsByClassName( \"treescope_out_4480839e03a04e8a904176f7bcd9dfd1\")) .filter((elt) => !elt.dataset.stolen) )[0]; root.dataset.stolen = 1; this.parentNode.replaceChild(root, this); </script></treescope-run-here>"
      ],
      "text/plain": [
       "Selection(\n",
       "  selected_by_path=OrderedDict({\n",
       "    (DictKey(key='c'), SequenceKey(idx=0)):\n",
       "      {\n",
       "        'value': <jax.Array([ 0,  1,  2,  3,  4,  5,  6,  7,  8,  9, 10, 11], dtype=int32)>,\n",
       "      },\n",
       "    (DictKey(key='c'), SequenceKey(idx=2), DictKey(key='value')):\n",
       "      3,\n",
       "  }),\n",
       "  remainder={\n",
       "    'a': 1,\n",
       "    'b': <jax.Array([0, 1, 2, 3, 4, 5, 6, 7, 8, 9], dtype=int32)>,\n",
       "    'c': [SelectionHole(path=(DictKey(key='c'), SequenceKey(idx=0))), {'value': <jax.Array([0., 0., 0., 0., 0., 0., 0.], dtype=float32)>}, {'value': SelectionHole(path=(DictKey(key='c'), SequenceKey(idx=2), DictKey(key='value')))}],\n",
       "  },\n",
       ")"
      ]
     },
     "execution_count": 65,
     "metadata": {},
     "output_type": "execute_result"
    }
   ],
   "source": [
    "# Selecting by keypath directly\n",
    "pz.select(my_nested_object).at_keypaths([\n",
    "    (jax.tree_util.DictKey(key='c'), jax.tree_util.SequenceKey(idx=2), jax.tree_util.DictKey(key='value')),\n",
    "    (jax.tree_util.DictKey(key='c'), jax.tree_util.SequenceKey(idx=0)),\n",
    "])"
   ]
  },
  {
   "cell_type": "code",
   "execution_count": 66,
   "metadata": {
    "execution": {
     "iopub.execute_input": "2024-07-07T03:15:27.523835Z",
     "iopub.status.busy": "2024-07-07T03:15:27.523579Z",
     "iopub.status.idle": "2024-07-07T03:15:27.538527Z",
     "shell.execute_reply": "2024-07-07T03:15:27.538236Z"
    },
    "id": "FEf1mpRX1T17"
   },
   "outputs": [
    {
     "data": {
      "text/html": [
       "<script> (()=>{ if (customElements.get('treescope-container') === undefined) { class TreescopeContainer extends HTMLElement { constructor() { super(); this.attachShadow({mode: \"open\"}); this.defns = {}; this.state = {}; } } customElements.define(\"treescope-container\", TreescopeContainer); } if (customElements.get('treescope-run-here') === undefined) { class RunHere extends HTMLElement { constructor() { super() } connectedCallback() { const src = this.querySelector(\"script\").textContent; const fn = new Function(src); fn.call(this); this.remove(); } } customElements.define(\"treescope-run-here\", RunHere); } })(); </script> <treescope-container class=\"treescope_out_e439054e82e4498f97c9cd7200f436dd\" ></treescope-container> <treescope-run-here><script type=\"application/octet-stream\"> const root = ( Array.from(document.getElementsByClassName( \"treescope_out_e439054e82e4498f97c9cd7200f436dd\")) .filter((elt) => !elt.dataset.setup) )[0]; root.dataset.setup = 1; const msg = document.createElement(\"span\"); msg.style = \"color: #aaaaaa; font-family: monospace; transition: opacity 0.2s; opacity: 0.0;\"; msg.textContent = \"(Loading...)\"; root.state.loadingMsg = msg; root.shadowRoot.appendChild(msg); root.state.chain = new Promise((resolve, reject) => { const observer = new IntersectionObserver((entries) => { for (const entry of entries) { if (entry.isIntersecting) { resolve(); observer.disconnect(); return; } } }, {rootMargin: \"1000px\"}); window.setTimeout(() => { if (root.loadingMsg) { root.loadingMsg.style.opacity = \"1.0\"; } observer.observe(root); }, 0); }); root.state.deferring = false; const _insertNode = (node) => { for (let oldScript of node.querySelectorAll(\"script\")) { let newScript = document.createElement(\"script\"); newScript.type = oldScript.type; newScript.textContent = oldScript.textContent; oldScript.parentNode.replaceChild(newScript, oldScript); } if (root.state.loadingMsg) { root.state.loadingMsg.remove(); root.state.loadingMsg = null; } root.shadowRoot.appendChild(node); }; root.defns.insertContent = ((contentNode, compressed) => { if (compressed) { root.state.deferring = true; } if (root.state.deferring) { root.state.chain = (async () => { await root.state.chain; if (compressed) { const encoded = contentNode.textContent; const blob = new Blob([ Uint8Array.from(atob(encoded), (m) => m.codePointAt(0)) ]); const reader = blob.stream().pipeThrough( new DecompressionStream(\"deflate\") ).pipeThrough( new TextDecoderStream(\"utf-8\") ).getReader(); const parts = []; while (true) { const step = await reader.read(); if (step.done) { break; } parts.push(step.value); } const tpl = document.createElement('template'); tpl.innerHTML = parts.join(\"\"); _insertNode(tpl.content); } else { _insertNode(contentNode.content); } })(); } else { _insertNode(contentNode.content); } }); </script></treescope-run-here><div style=\"display:none\"> <script type=\"application/octet-stream\" >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</script> <treescope-run-here><script type=\"application/octet-stream\"> const root = ( Array.from(document.getElementsByClassName( \"treescope_out_e439054e82e4498f97c9cd7200f436dd\")) .filter((elt) => !elt.dataset['step0']) )[0]; root.dataset['step0'] = 1; root.defns.insertContent( this.parentNode.querySelector('script[type=\"application/octet-stream\"]'), true ); this.parentNode.remove(); </script></treescope-run-here> </div>"
      ],
      "text/plain": [
       "<IPython.core.display.HTML object>"
      ]
     },
     "metadata": {},
     "output_type": "display_data"
    },
    {
     "data": {
      "text/html": [
       "<div style=\"display:none\"> <script type=\"application/octet-stream\" >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</script> <treescope-run-here><script type=\"application/octet-stream\"> const root = ( Array.from(document.getElementsByClassName( \"treescope_out_e439054e82e4498f97c9cd7200f436dd\")) .filter((elt) => !elt.dataset['step1']) )[0]; root.dataset['step1'] = 1; root.defns.insertContent( this.parentNode.querySelector('script[type=\"application/octet-stream\"]'), true ); this.parentNode.remove(); </script></treescope-run-here> </div>"
      ],
      "text/plain": [
       "<IPython.core.display.HTML object>"
      ]
     },
     "metadata": {},
     "output_type": "display_data"
    },
    {
     "data": {
      "text/html": [
       "<treescope-run-here><script type=\"application/octet-stream\"> const root = ( Array.from(document.getElementsByClassName( \"treescope_out_e439054e82e4498f97c9cd7200f436dd\")) .filter((elt) => !elt.dataset.stolen) )[0]; root.dataset.stolen = 1; this.parentNode.replaceChild(root, this); </script></treescope-run-here>"
      ],
      "text/plain": [
       "Selection(\n",
       "  selected_by_path=OrderedDict({\n",
       "    (DictKey(key='c'), SequenceKey(idx=0), DictKey(key='value')):\n",
       "      <jax.Array([ 0,  1,  2,  3,  4,  5,  6,  7,  8,  9, 10, 11], dtype=int32)>,\n",
       "    (DictKey(key='c'), SequenceKey(idx=1), DictKey(key='value')):\n",
       "      <jax.Array([0., 0., 0., 0., 0., 0., 0.], dtype=float32)>,\n",
       "  }),\n",
       "  remainder={\n",
       "    'a': 1,\n",
       "    'b': <jax.Array([0, 1, 2, 3, 4, 5, 6, 7, 8, 9], dtype=int32)>,\n",
       "    'c': [{'value': SelectionHole(path=(DictKey(key='c'), SequenceKey(idx=0), DictKey(key='value')))}, {'value': SelectionHole(path=(DictKey(key='c'), SequenceKey(idx=1), DictKey(key='value')))}, {'value': 3}],\n",
       "  },\n",
       ")"
      ]
     },
     "execution_count": 66,
     "metadata": {},
     "output_type": "execute_result"
    }
   ],
   "source": [
    "# Selecting by keypath and value\n",
    "(\n",
    "    pz.select(my_nested_object)\n",
    "    .at_subtrees_where(\n",
    "        lambda path, subtree: len(path) == 3 and isinstance(subtree, jax.Array),\n",
    "        with_keypath=True)\n",
    ")"
   ]
  },
  {
   "cell_type": "code",
   "execution_count": 67,
   "metadata": {
    "execution": {
     "iopub.execute_input": "2024-07-07T03:15:27.544441Z",
     "iopub.status.busy": "2024-07-07T03:15:27.544111Z",
     "iopub.status.idle": "2024-07-07T03:15:27.548719Z",
     "shell.execute_reply": "2024-07-07T03:15:27.548523Z"
    },
    "id": "W-jfNUWTVaw3"
   },
   "outputs": [
    {
     "data": {
      "text/html": [
       "<script> (()=>{ if (customElements.get('treescope-container') === undefined) { class TreescopeContainer extends HTMLElement { constructor() { super(); this.attachShadow({mode: \"open\"}); this.defns = {}; this.state = {}; } } customElements.define(\"treescope-container\", TreescopeContainer); } if (customElements.get('treescope-run-here') === undefined) { class RunHere extends HTMLElement { constructor() { super() } connectedCallback() { const src = this.querySelector(\"script\").textContent; const fn = new Function(src); fn.call(this); this.remove(); } } customElements.define(\"treescope-run-here\", RunHere); } })(); </script> <treescope-container class=\"treescope_out_87401cd3bf3a4362b5e7da061e1766cf\" ></treescope-container> <treescope-run-here><script type=\"application/octet-stream\"> const root = ( Array.from(document.getElementsByClassName( \"treescope_out_87401cd3bf3a4362b5e7da061e1766cf\")) .filter((elt) => !elt.dataset.setup) )[0]; root.dataset.setup = 1; const msg = document.createElement(\"span\"); msg.style = \"color: #aaaaaa; font-family: monospace; transition: opacity 0.2s; opacity: 0.0;\"; msg.textContent = \"(Loading...)\"; root.state.loadingMsg = msg; root.shadowRoot.appendChild(msg); root.state.chain = new Promise((resolve, reject) => { const observer = new IntersectionObserver((entries) => { for (const entry of entries) { if (entry.isIntersecting) { resolve(); observer.disconnect(); return; } } }, {rootMargin: \"1000px\"}); window.setTimeout(() => { if (root.loadingMsg) { root.loadingMsg.style.opacity = \"1.0\"; } observer.observe(root); }, 0); }); root.state.deferring = false; const _insertNode = (node) => { for (let oldScript of node.querySelectorAll(\"script\")) { let newScript = document.createElement(\"script\"); newScript.type = oldScript.type; newScript.textContent = oldScript.textContent; oldScript.parentNode.replaceChild(newScript, oldScript); } if (root.state.loadingMsg) { root.state.loadingMsg.remove(); root.state.loadingMsg = null; } root.shadowRoot.appendChild(node); }; root.defns.insertContent = ((contentNode, compressed) => { if (compressed) { root.state.deferring = true; } if (root.state.deferring) { root.state.chain = (async () => { await root.state.chain; if (compressed) { const encoded = contentNode.textContent; const blob = new Blob([ Uint8Array.from(atob(encoded), (m) => m.codePointAt(0)) ]); const reader = blob.stream().pipeThrough( new DecompressionStream(\"deflate\") ).pipeThrough( new TextDecoderStream(\"utf-8\") ).getReader(); const parts = []; while (true) { const step = await reader.read(); if (step.done) { break; } parts.push(step.value); } const tpl = document.createElement('template'); tpl.innerHTML = parts.join(\"\"); _insertNode(tpl.content); } else { _insertNode(contentNode.content); } })(); } else { _insertNode(contentNode.content); } }); </script></treescope-run-here><div style=\"display:none\"> <script type=\"application/octet-stream\" >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</script> <treescope-run-here><script type=\"application/octet-stream\"> const root = ( Array.from(document.getElementsByClassName( \"treescope_out_87401cd3bf3a4362b5e7da061e1766cf\")) .filter((elt) => !elt.dataset['step0']) )[0]; root.dataset['step0'] = 1; root.defns.insertContent( this.parentNode.querySelector('script[type=\"application/octet-stream\"]'), true ); this.parentNode.remove(); </script></treescope-run-here> </div>"
      ],
      "text/plain": [
       "<IPython.core.display.HTML object>"
      ]
     },
     "metadata": {},
     "output_type": "display_data"
    },
    {
     "data": {
      "text/html": [
       "<treescope-run-here><script type=\"application/octet-stream\"> const root = ( Array.from(document.getElementsByClassName( \"treescope_out_87401cd3bf3a4362b5e7da061e1766cf\")) .filter((elt) => !elt.dataset.stolen) )[0]; root.dataset.stolen = 1; this.parentNode.replaceChild(root, this); </script></treescope-run-here>"
      ],
      "text/plain": [
       "{'a': 1,\n",
       " 'b': \"(DictKey(key='b'),)\",\n",
       " 'c': [{'value': \"(DictKey(key='c'), SequenceKey(idx=0), DictKey(key='value'))\"},\n",
       "  {'value': \"(DictKey(key='c'), SequenceKey(idx=1), DictKey(key='value'))\"},\n",
       "  {'value': 3}]}"
      ]
     },
     "execution_count": 67,
     "metadata": {},
     "output_type": "execute_result"
    }
   ],
   "source": [
    "# Setting values by keypath\n",
    "pz.select(my_nested_object).at_instances_of(jax.Array).set_by_path(lambda path: str(path))"
   ]
  },
  {
   "cell_type": "code",
   "execution_count": 68,
   "metadata": {
    "execution": {
     "iopub.execute_input": "2024-07-07T03:15:27.555220Z",
     "iopub.status.busy": "2024-07-07T03:15:27.554909Z",
     "iopub.status.idle": "2024-07-07T03:15:27.559677Z",
     "shell.execute_reply": "2024-07-07T03:15:27.559469Z"
    },
    "id": "vedT4F3FV1Hq"
   },
   "outputs": [
    {
     "data": {
      "text/html": [
       "<script> (()=>{ if (customElements.get('treescope-container') === undefined) { class TreescopeContainer extends HTMLElement { constructor() { super(); this.attachShadow({mode: \"open\"}); this.defns = {}; this.state = {}; } } customElements.define(\"treescope-container\", TreescopeContainer); } if (customElements.get('treescope-run-here') === undefined) { class RunHere extends HTMLElement { constructor() { super() } connectedCallback() { const src = this.querySelector(\"script\").textContent; const fn = new Function(src); fn.call(this); this.remove(); } } customElements.define(\"treescope-run-here\", RunHere); } })(); </script> <treescope-container class=\"treescope_out_f063c615262c4c72820f7106e7dd4d95\" ></treescope-container> <treescope-run-here><script type=\"application/octet-stream\"> const root = ( Array.from(document.getElementsByClassName( \"treescope_out_f063c615262c4c72820f7106e7dd4d95\")) .filter((elt) => !elt.dataset.setup) )[0]; root.dataset.setup = 1; const msg = document.createElement(\"span\"); msg.style = \"color: #aaaaaa; font-family: monospace; transition: opacity 0.2s; opacity: 0.0;\"; msg.textContent = \"(Loading...)\"; root.state.loadingMsg = msg; root.shadowRoot.appendChild(msg); root.state.chain = new Promise((resolve, reject) => { const observer = new IntersectionObserver((entries) => { for (const entry of entries) { if (entry.isIntersecting) { resolve(); observer.disconnect(); return; } } }, {rootMargin: \"1000px\"}); window.setTimeout(() => { if (root.loadingMsg) { root.loadingMsg.style.opacity = \"1.0\"; } observer.observe(root); }, 0); }); root.state.deferring = false; const _insertNode = (node) => { for (let oldScript of node.querySelectorAll(\"script\")) { let newScript = document.createElement(\"script\"); newScript.type = oldScript.type; newScript.textContent = oldScript.textContent; oldScript.parentNode.replaceChild(newScript, oldScript); } if (root.state.loadingMsg) { root.state.loadingMsg.remove(); root.state.loadingMsg = null; } root.shadowRoot.appendChild(node); }; root.defns.insertContent = ((contentNode, compressed) => { if (compressed) { root.state.deferring = true; } if (root.state.deferring) { root.state.chain = (async () => { await root.state.chain; if (compressed) { const encoded = contentNode.textContent; const blob = new Blob([ Uint8Array.from(atob(encoded), (m) => m.codePointAt(0)) ]); const reader = blob.stream().pipeThrough( new DecompressionStream(\"deflate\") ).pipeThrough( new TextDecoderStream(\"utf-8\") ).getReader(); const parts = []; while (true) { const step = await reader.read(); if (step.done) { break; } parts.push(step.value); } const tpl = document.createElement('template'); tpl.innerHTML = parts.join(\"\"); _insertNode(tpl.content); } else { _insertNode(contentNode.content); } })(); } else { _insertNode(contentNode.content); } }); </script></treescope-run-here><div style=\"display:none\"> <script type=\"application/octet-stream\" >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</script> <treescope-run-here><script type=\"application/octet-stream\"> const root = ( Array.from(document.getElementsByClassName( \"treescope_out_f063c615262c4c72820f7106e7dd4d95\")) .filter((elt) => !elt.dataset['step0']) )[0]; root.dataset['step0'] = 1; root.defns.insertContent( this.parentNode.querySelector('script[type=\"application/octet-stream\"]'), true ); this.parentNode.remove(); </script></treescope-run-here> </div>"
      ],
      "text/plain": [
       "<IPython.core.display.HTML object>"
      ]
     },
     "metadata": {},
     "output_type": "display_data"
    },
    {
     "data": {
      "text/html": [
       "<treescope-run-here><script type=\"application/octet-stream\"> const root = ( Array.from(document.getElementsByClassName( \"treescope_out_f063c615262c4c72820f7106e7dd4d95\")) .filter((elt) => !elt.dataset.stolen) )[0]; root.dataset.stolen = 1; this.parentNode.replaceChild(root, this); </script></treescope-run-here>"
      ],
      "text/plain": [
       "{'a': 1,\n",
       " 'b': \"((DictKey(key='b'),), Array([0, 1, 2, 3, 4, 5, 6, 7, 8, 9], dtype=int32))\",\n",
       " 'c': [{'value': \"((DictKey(key='c'), SequenceKey(idx=0), DictKey(key='value')), Array([ 0,  1,  2,  3,  4,  5,  6,  7,  8,  9, 10, 11], dtype=int32))\"},\n",
       "  {'value': \"((DictKey(key='c'), SequenceKey(idx=1), DictKey(key='value')), Array([0., 0., 0., 0., 0., 0., 0.], dtype=float32))\"},\n",
       "  {'value': 3}]}"
      ]
     },
     "execution_count": 68,
     "metadata": {},
     "output_type": "execute_result"
    }
   ],
   "source": [
    "# Setting values by keypath and original value\n",
    "pz.select(my_nested_object).at_instances_of(jax.Array).apply(\n",
    "    lambda path, value: str((path, value)), with_keypath=True\n",
    ")"
   ]
  },
  {
   "cell_type": "markdown",
   "metadata": {
    "id": "orWpcwiJt6q0"
   },
   "source": [
    "You can use `jax.tree_util.keystr` or `pz.pretty_keystr` to turn keypaths into readable strings (sometimes useful for referring to parts of a tree by name):"
   ]
  },
  {
   "cell_type": "code",
   "execution_count": 69,
   "metadata": {
    "execution": {
     "iopub.execute_input": "2024-07-07T03:15:27.563627Z",
     "iopub.status.busy": "2024-07-07T03:15:27.563339Z",
     "iopub.status.idle": "2024-07-07T03:15:30.887325Z",
     "shell.execute_reply": "2024-07-07T03:15:30.887073Z"
    },
    "id": "YF3IntIvNjw7"
   },
   "outputs": [
    {
     "data": {
      "text/html": [
       "<script> (()=>{ if (customElements.get('treescope-container') === undefined) { class TreescopeContainer extends HTMLElement { constructor() { super(); this.attachShadow({mode: \"open\"}); this.defns = {}; this.state = {}; } } customElements.define(\"treescope-container\", TreescopeContainer); } if (customElements.get('treescope-run-here') === undefined) { class RunHere extends HTMLElement { constructor() { super() } connectedCallback() { const src = this.querySelector(\"script\").textContent; const fn = new Function(src); fn.call(this); this.remove(); } } customElements.define(\"treescope-run-here\", RunHere); } })(); </script> <treescope-container class=\"treescope_out_afb363cb68e845cc9374c015f7f7eea3\" ></treescope-container> <treescope-run-here><script type=\"application/octet-stream\"> const root = ( Array.from(document.getElementsByClassName( \"treescope_out_afb363cb68e845cc9374c015f7f7eea3\")) .filter((elt) => !elt.dataset.setup) )[0]; root.dataset.setup = 1; const msg = document.createElement(\"span\"); msg.style = \"color: #aaaaaa; font-family: monospace; transition: opacity 0.2s; opacity: 0.0;\"; msg.textContent = \"(Loading...)\"; root.state.loadingMsg = msg; root.shadowRoot.appendChild(msg); root.state.chain = new Promise((resolve, reject) => { const observer = new IntersectionObserver((entries) => { for (const entry of entries) { if (entry.isIntersecting) { resolve(); observer.disconnect(); return; } } }, {rootMargin: \"1000px\"}); window.setTimeout(() => { if (root.loadingMsg) { root.loadingMsg.style.opacity = \"1.0\"; } observer.observe(root); }, 0); }); root.state.deferring = false; const _insertNode = (node) => { for (let oldScript of node.querySelectorAll(\"script\")) { let newScript = document.createElement(\"script\"); newScript.type = oldScript.type; newScript.textContent = oldScript.textContent; oldScript.parentNode.replaceChild(newScript, oldScript); } if (root.state.loadingMsg) { root.state.loadingMsg.remove(); root.state.loadingMsg = null; } root.shadowRoot.appendChild(node); }; root.defns.insertContent = ((contentNode, compressed) => { if (compressed) { root.state.deferring = true; } if (root.state.deferring) { root.state.chain = (async () => { await root.state.chain; if (compressed) { const encoded = contentNode.textContent; const blob = new Blob([ Uint8Array.from(atob(encoded), (m) => m.codePointAt(0)) ]); const reader = blob.stream().pipeThrough( new DecompressionStream(\"deflate\") ).pipeThrough( new TextDecoderStream(\"utf-8\") ).getReader(); const parts = []; while (true) { const step = await reader.read(); if (step.done) { break; } parts.push(step.value); } const tpl = document.createElement('template'); tpl.innerHTML = parts.join(\"\"); _insertNode(tpl.content); } else { _insertNode(contentNode.content); } })(); } else { _insertNode(contentNode.content); } }); </script></treescope-run-here><div style=\"display:none\"> <script type=\"application/octet-stream\" >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</script> <treescope-run-here><script type=\"application/octet-stream\"> const root = ( Array.from(document.getElementsByClassName( \"treescope_out_afb363cb68e845cc9374c015f7f7eea3\")) .filter((elt) => !elt.dataset['step0']) )[0]; root.dataset['step0'] = 1; root.defns.insertContent( this.parentNode.querySelector('script[type=\"application/octet-stream\"]'), true ); this.parentNode.remove(); </script></treescope-run-here> </div>"
      ],
      "text/plain": [
       "<IPython.core.display.HTML object>"
      ]
     },
     "metadata": {},
     "output_type": "display_data"
    },
    {
     "data": {
      "text/html": [
       "<div style=\"display:none\"> <script type=\"application/octet-stream\" >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</script> <treescope-run-here><script type=\"application/octet-stream\"> const root = ( Array.from(document.getElementsByClassName( \"treescope_out_afb363cb68e845cc9374c015f7f7eea3\")) .filter((elt) => !elt.dataset['step1']) )[0]; root.dataset['step1'] = 1; root.defns.insertContent( this.parentNode.querySelector('script[type=\"application/octet-stream\"]'), true ); this.parentNode.remove(); </script></treescope-run-here> </div>"
      ],
      "text/plain": [
       "<IPython.core.display.HTML object>"
      ]
     },
     "metadata": {},
     "output_type": "display_data"
    },
    {
     "data": {
      "text/html": [
       "<treescope-run-here><script type=\"application/octet-stream\"> const root = ( Array.from(document.getElementsByClassName( \"treescope_out_afb363cb68e845cc9374c015f7f7eea3\")) .filter((elt) => !elt.dataset.stolen) )[0]; root.dataset.stolen = 1; this.parentNode.replaceChild(root, this); </script></treescope-run-here>"
      ],
      "text/plain": [
       "MLP( # Sequential\n",
       "  sublayers=[\n",
       "    Affine( # Sequential\n",
       "      sublayers=[\n",
       "        Linear(weights=Parameter(value=<NamedArray float32(| features:32, features_out:64) ≈-0.0026 ±0.15 [≥-0.25, ≤0.25] nonzero:2_048 (wrapping jax.Array)>, name='Affine_0.Linear.weights'), in_axis_names=('features',), out_axis_names=('features_out',)),\n",
       "        RenameAxes(old=('features_out',), new=('features',)),\n",
       "        AddBias(bias=Parameter(value=<NamedArray float32(| features:64) ≈0.0 ±0.0 [≥0.0, ≤0.0] zero:64 (wrapping jax.Array)>, name='Affine_0.AddBias.bias'), new_axis_names=()),\n",
       "      ],\n",
       "    ),\n",
       "    Elementwise(fn=jax.nn.relu),\n",
       "    Affine( # Sequential\n",
       "      sublayers=[Linear(weights=Parameter(value=<NamedArray float32(| features:64, features_out:64) ≈-0.0014 ±0.13 [≥-0.22, ≤0.22] nonzero:4_096 (wrapping jax.Array)>, name='Affine_1.Linear.weights'), in_axis_names=('features',), out_axis_names=('features_out',)), RenameAxes(old=('features_out',), new=('features',)), AddBias(bias=Parameter(value=<NamedArray float32(| features:64) ≈0.0 ±0.0 [≥0.0, ≤0.0] zero:64 (wrapping jax.Array)>, name='Affine_1.AddBias.bias'), new_axis_names=())],\n",
       "    ),\n",
       "    Elementwise(fn=jax.nn.relu),\n",
       "    Affine( # Sequential\n",
       "      sublayers=[Linear(weights=Parameter(value=<NamedArray float32(| features:64, features_out:16) ≈-0.004 ±0.16 [≥-0.27, ≤0.27] nonzero:1_024 (wrapping jax.Array)>, name='Affine_2.Linear.weights'), in_axis_names=('features',), out_axis_names=('features_out',)), RenameAxes(old=('features_out',), new=('features',)), AddBias(bias=Parameter(value=<NamedArray float32(| features:16) ≈0.0 ±0.0 [≥0.0, ≤0.0] zero:16 (wrapping jax.Array)>, name='Affine_2.AddBias.bias'), new_axis_names=())],\n",
       "    ),\n",
       "  ],\n",
       ")"
      ]
     },
     "execution_count": 69,
     "metadata": {},
     "output_type": "execute_result"
    }
   ],
   "source": [
    "mlp = pz.nn.initialize_parameters(\n",
    "    simple_mlp.MLP.from_config(feature_sizes=[32, 64, 64, 16]),\n",
    "    jax.random.PRNGKey(0),\n",
    ")\n",
    "mlp"
   ]
  },
  {
   "cell_type": "code",
   "execution_count": 70,
   "metadata": {
    "execution": {
     "iopub.execute_input": "2024-07-07T03:15:30.905727Z",
     "iopub.status.busy": "2024-07-07T03:15:30.905484Z",
     "iopub.status.idle": "2024-07-07T03:15:30.911517Z",
     "shell.execute_reply": "2024-07-07T03:15:30.911302Z"
    },
    "id": "nFT8THeWW2in"
   },
   "outputs": [
    {
     "data": {
      "text/html": [
       "<script> (()=>{ if (customElements.get('treescope-container') === undefined) { class TreescopeContainer extends HTMLElement { constructor() { super(); this.attachShadow({mode: \"open\"}); this.defns = {}; this.state = {}; } } customElements.define(\"treescope-container\", TreescopeContainer); } if (customElements.get('treescope-run-here') === undefined) { class RunHere extends HTMLElement { constructor() { super() } connectedCallback() { const src = this.querySelector(\"script\").textContent; const fn = new Function(src); fn.call(this); this.remove(); } } customElements.define(\"treescope-run-here\", RunHere); } })(); </script> <treescope-container class=\"treescope_out_2b1d69033366419b967ec9551959b1c9\" ></treescope-container> <treescope-run-here><script type=\"application/octet-stream\"> const root = ( Array.from(document.getElementsByClassName( \"treescope_out_2b1d69033366419b967ec9551959b1c9\")) .filter((elt) => !elt.dataset.setup) )[0]; root.dataset.setup = 1; const msg = document.createElement(\"span\"); msg.style = \"color: #aaaaaa; font-family: monospace; transition: opacity 0.2s; opacity: 0.0;\"; msg.textContent = \"(Loading...)\"; root.state.loadingMsg = msg; root.shadowRoot.appendChild(msg); root.state.chain = new Promise((resolve, reject) => { const observer = new IntersectionObserver((entries) => { for (const entry of entries) { if (entry.isIntersecting) { resolve(); observer.disconnect(); return; } } }, {rootMargin: \"1000px\"}); window.setTimeout(() => { if (root.loadingMsg) { root.loadingMsg.style.opacity = \"1.0\"; } observer.observe(root); }, 0); }); root.state.deferring = false; const _insertNode = (node) => { for (let oldScript of node.querySelectorAll(\"script\")) { let newScript = document.createElement(\"script\"); newScript.type = oldScript.type; newScript.textContent = oldScript.textContent; oldScript.parentNode.replaceChild(newScript, oldScript); } if (root.state.loadingMsg) { root.state.loadingMsg.remove(); root.state.loadingMsg = null; } root.shadowRoot.appendChild(node); }; root.defns.insertContent = ((contentNode, compressed) => { if (compressed) { root.state.deferring = true; } if (root.state.deferring) { root.state.chain = (async () => { await root.state.chain; if (compressed) { const encoded = contentNode.textContent; const blob = new Blob([ Uint8Array.from(atob(encoded), (m) => m.codePointAt(0)) ]); const reader = blob.stream().pipeThrough( new DecompressionStream(\"deflate\") ).pipeThrough( new TextDecoderStream(\"utf-8\") ).getReader(); const parts = []; while (true) { const step = await reader.read(); if (step.done) { break; } parts.push(step.value); } const tpl = document.createElement('template'); tpl.innerHTML = parts.join(\"\"); _insertNode(tpl.content); } else { _insertNode(contentNode.content); } })(); } else { _insertNode(contentNode.content); } }); </script></treescope-run-here><div style=\"display:none\"> <script type=\"application/octet-stream\" >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</script> <treescope-run-here><script type=\"application/octet-stream\"> const root = ( Array.from(document.getElementsByClassName( \"treescope_out_2b1d69033366419b967ec9551959b1c9\")) .filter((elt) => !elt.dataset['step0']) )[0]; root.dataset['step0'] = 1; root.defns.insertContent( this.parentNode.querySelector('script[type=\"application/octet-stream\"]'), true ); this.parentNode.remove(); </script></treescope-run-here> </div>"
      ],
      "text/plain": [
       "<IPython.core.display.HTML object>"
      ]
     },
     "metadata": {},
     "output_type": "display_data"
    },
    {
     "data": {
      "text/html": [
       "<treescope-run-here><script type=\"application/octet-stream\"> const root = ( Array.from(document.getElementsByClassName( \"treescope_out_2b1d69033366419b967ec9551959b1c9\")) .filter((elt) => !elt.dataset.stolen) )[0]; root.dataset.stolen = 1; this.parentNode.replaceChild(root, this); </script></treescope-run-here>"
      ],
      "text/plain": [
       "[(GetAttrKey(name='sublayers'),\n",
       "  SequenceKey(idx=0),\n",
       "  GetAttrKey(name='sublayers'),\n",
       "  SequenceKey(idx=0),\n",
       "  GetAttrKey(name='weights'),\n",
       "  GetAttrKey(name='value'),\n",
       "  GetAttrKey(name='data_array')),\n",
       " (GetAttrKey(name='sublayers'),\n",
       "  SequenceKey(idx=0),\n",
       "  GetAttrKey(name='sublayers'),\n",
       "  SequenceKey(idx=2),\n",
       "  GetAttrKey(name='bias'),\n",
       "  GetAttrKey(name='value'),\n",
       "  GetAttrKey(name='data_array')),\n",
       " (GetAttrKey(name='sublayers'),\n",
       "  SequenceKey(idx=2),\n",
       "  GetAttrKey(name='sublayers'),\n",
       "  SequenceKey(idx=0),\n",
       "  GetAttrKey(name='weights'),\n",
       "  GetAttrKey(name='value'),\n",
       "  GetAttrKey(name='data_array')),\n",
       " (GetAttrKey(name='sublayers'),\n",
       "  SequenceKey(idx=2),\n",
       "  GetAttrKey(name='sublayers'),\n",
       "  SequenceKey(idx=2),\n",
       "  GetAttrKey(name='bias'),\n",
       "  GetAttrKey(name='value'),\n",
       "  GetAttrKey(name='data_array')),\n",
       " (GetAttrKey(name='sublayers'),\n",
       "  SequenceKey(idx=4),\n",
       "  GetAttrKey(name='sublayers'),\n",
       "  SequenceKey(idx=0),\n",
       "  GetAttrKey(name='weights'),\n",
       "  GetAttrKey(name='value'),\n",
       "  GetAttrKey(name='data_array')),\n",
       " (GetAttrKey(name='sublayers'),\n",
       "  SequenceKey(idx=4),\n",
       "  GetAttrKey(name='sublayers'),\n",
       "  SequenceKey(idx=2),\n",
       "  GetAttrKey(name='bias'),\n",
       "  GetAttrKey(name='value'),\n",
       "  GetAttrKey(name='data_array'))]"
      ]
     },
     "execution_count": 70,
     "metadata": {},
     "output_type": "execute_result"
    }
   ],
   "source": [
    "[\n",
    "  key for key in\n",
    "  pz.select(mlp).at_instances_of(jax.Array).selected_by_path.keys()\n",
    "]"
   ]
  },
  {
   "cell_type": "code",
   "execution_count": 71,
   "metadata": {
    "execution": {
     "iopub.execute_input": "2024-07-07T03:15:30.916859Z",
     "iopub.status.busy": "2024-07-07T03:15:30.916428Z",
     "iopub.status.idle": "2024-07-07T03:15:30.920532Z",
     "shell.execute_reply": "2024-07-07T03:15:30.920651Z"
    },
    "id": "qzrhXuqcuYjA"
   },
   "outputs": [
    {
     "data": {
      "text/html": [
       "<script> (()=>{ if (customElements.get('treescope-container') === undefined) { class TreescopeContainer extends HTMLElement { constructor() { super(); this.attachShadow({mode: \"open\"}); this.defns = {}; this.state = {}; } } customElements.define(\"treescope-container\", TreescopeContainer); } if (customElements.get('treescope-run-here') === undefined) { class RunHere extends HTMLElement { constructor() { super() } connectedCallback() { const src = this.querySelector(\"script\").textContent; const fn = new Function(src); fn.call(this); this.remove(); } } customElements.define(\"treescope-run-here\", RunHere); } })(); </script> <treescope-container class=\"treescope_out_651ae117ed274e02b77bf7dcc72e3b08\" ></treescope-container> <treescope-run-here><script type=\"application/octet-stream\"> const root = ( Array.from(document.getElementsByClassName( \"treescope_out_651ae117ed274e02b77bf7dcc72e3b08\")) .filter((elt) => !elt.dataset.setup) )[0]; root.dataset.setup = 1; const msg = document.createElement(\"span\"); msg.style = \"color: #aaaaaa; font-family: monospace; transition: opacity 0.2s; opacity: 0.0;\"; msg.textContent = \"(Loading...)\"; root.state.loadingMsg = msg; root.shadowRoot.appendChild(msg); root.state.chain = new Promise((resolve, reject) => { const observer = new IntersectionObserver((entries) => { for (const entry of entries) { if (entry.isIntersecting) { resolve(); observer.disconnect(); return; } } }, {rootMargin: \"1000px\"}); window.setTimeout(() => { if (root.loadingMsg) { root.loadingMsg.style.opacity = \"1.0\"; } observer.observe(root); }, 0); }); root.state.deferring = false; const _insertNode = (node) => { for (let oldScript of node.querySelectorAll(\"script\")) { let newScript = document.createElement(\"script\"); newScript.type = oldScript.type; newScript.textContent = oldScript.textContent; oldScript.parentNode.replaceChild(newScript, oldScript); } if (root.state.loadingMsg) { root.state.loadingMsg.remove(); root.state.loadingMsg = null; } root.shadowRoot.appendChild(node); }; root.defns.insertContent = ((contentNode, compressed) => { if (compressed) { root.state.deferring = true; } if (root.state.deferring) { root.state.chain = (async () => { await root.state.chain; if (compressed) { const encoded = contentNode.textContent; const blob = new Blob([ Uint8Array.from(atob(encoded), (m) => m.codePointAt(0)) ]); const reader = blob.stream().pipeThrough( new DecompressionStream(\"deflate\") ).pipeThrough( new TextDecoderStream(\"utf-8\") ).getReader(); const parts = []; while (true) { const step = await reader.read(); if (step.done) { break; } parts.push(step.value); } const tpl = document.createElement('template'); tpl.innerHTML = parts.join(\"\"); _insertNode(tpl.content); } else { _insertNode(contentNode.content); } })(); } else { _insertNode(contentNode.content); } }); </script></treescope-run-here><div style=\"display:none\"> <script type=\"application/octet-stream\" >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</script> <treescope-run-here><script type=\"application/octet-stream\"> const root = ( Array.from(document.getElementsByClassName( \"treescope_out_651ae117ed274e02b77bf7dcc72e3b08\")) .filter((elt) => !elt.dataset['step0']) )[0]; root.dataset['step0'] = 1; root.defns.insertContent( this.parentNode.querySelector('script[type=\"application/octet-stream\"]'), true ); this.parentNode.remove(); </script></treescope-run-here> </div>"
      ],
      "text/plain": [
       "<IPython.core.display.HTML object>"
      ]
     },
     "metadata": {},
     "output_type": "display_data"
    },
    {
     "data": {
      "text/html": [
       "<treescope-run-here><script type=\"application/octet-stream\"> const root = ( Array.from(document.getElementsByClassName( \"treescope_out_651ae117ed274e02b77bf7dcc72e3b08\")) .filter((elt) => !elt.dataset.stolen) )[0]; root.dataset.stolen = 1; this.parentNode.replaceChild(root, this); </script></treescope-run-here>"
      ],
      "text/plain": [
       "['.sublayers[0].sublayers[0].weights.value.data_array',\n",
       " '.sublayers[0].sublayers[2].bias.value.data_array',\n",
       " '.sublayers[2].sublayers[0].weights.value.data_array',\n",
       " '.sublayers[2].sublayers[2].bias.value.data_array',\n",
       " '.sublayers[4].sublayers[0].weights.value.data_array',\n",
       " '.sublayers[4].sublayers[2].bias.value.data_array']"
      ]
     },
     "execution_count": 71,
     "metadata": {},
     "output_type": "execute_result"
    }
   ],
   "source": [
    "[\n",
    "  jax.tree_util.keystr(key) for key in\n",
    "  pz.select(mlp).at_instances_of(jax.Array).selected_by_path.keys()\n",
    "]"
   ]
  },
  {
   "cell_type": "code",
   "execution_count": 72,
   "metadata": {
    "execution": {
     "iopub.execute_input": "2024-07-07T03:15:30.926955Z",
     "iopub.status.busy": "2024-07-07T03:15:30.926718Z",
     "iopub.status.idle": "2024-07-07T03:15:30.930188Z",
     "shell.execute_reply": "2024-07-07T03:15:30.930317Z"
    },
    "id": "Ots2ZBckNwJo"
   },
   "outputs": [
    {
     "data": {
      "text/html": [
       "<script> (()=>{ if (customElements.get('treescope-container') === undefined) { class TreescopeContainer extends HTMLElement { constructor() { super(); this.attachShadow({mode: \"open\"}); this.defns = {}; this.state = {}; } } customElements.define(\"treescope-container\", TreescopeContainer); } if (customElements.get('treescope-run-here') === undefined) { class RunHere extends HTMLElement { constructor() { super() } connectedCallback() { const src = this.querySelector(\"script\").textContent; const fn = new Function(src); fn.call(this); this.remove(); } } customElements.define(\"treescope-run-here\", RunHere); } })(); </script> <treescope-container class=\"treescope_out_0486ce8ef402440e8dd7e77013438ab2\" ></treescope-container> <treescope-run-here><script type=\"application/octet-stream\"> const root = ( Array.from(document.getElementsByClassName( \"treescope_out_0486ce8ef402440e8dd7e77013438ab2\")) .filter((elt) => !elt.dataset.setup) )[0]; root.dataset.setup = 1; const msg = document.createElement(\"span\"); msg.style = \"color: #aaaaaa; font-family: monospace; transition: opacity 0.2s; opacity: 0.0;\"; msg.textContent = \"(Loading...)\"; root.state.loadingMsg = msg; root.shadowRoot.appendChild(msg); root.state.chain = new Promise((resolve, reject) => { const observer = new IntersectionObserver((entries) => { for (const entry of entries) { if (entry.isIntersecting) { resolve(); observer.disconnect(); return; } } }, {rootMargin: \"1000px\"}); window.setTimeout(() => { if (root.loadingMsg) { root.loadingMsg.style.opacity = \"1.0\"; } observer.observe(root); }, 0); }); root.state.deferring = false; const _insertNode = (node) => { for (let oldScript of node.querySelectorAll(\"script\")) { let newScript = document.createElement(\"script\"); newScript.type = oldScript.type; newScript.textContent = oldScript.textContent; oldScript.parentNode.replaceChild(newScript, oldScript); } if (root.state.loadingMsg) { root.state.loadingMsg.remove(); root.state.loadingMsg = null; } root.shadowRoot.appendChild(node); }; root.defns.insertContent = ((contentNode, compressed) => { if (compressed) { root.state.deferring = true; } if (root.state.deferring) { root.state.chain = (async () => { await root.state.chain; if (compressed) { const encoded = contentNode.textContent; const blob = new Blob([ Uint8Array.from(atob(encoded), (m) => m.codePointAt(0)) ]); const reader = blob.stream().pipeThrough( new DecompressionStream(\"deflate\") ).pipeThrough( new TextDecoderStream(\"utf-8\") ).getReader(); const parts = []; while (true) { const step = await reader.read(); if (step.done) { break; } parts.push(step.value); } const tpl = document.createElement('template'); tpl.innerHTML = parts.join(\"\"); _insertNode(tpl.content); } else { _insertNode(contentNode.content); } })(); } else { _insertNode(contentNode.content); } }); </script></treescope-run-here><div style=\"display:none\"> <script type=\"application/octet-stream\" >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</script> <treescope-run-here><script type=\"application/octet-stream\"> const root = ( Array.from(document.getElementsByClassName( \"treescope_out_0486ce8ef402440e8dd7e77013438ab2\")) .filter((elt) => !elt.dataset['step0']) )[0]; root.dataset['step0'] = 1; root.defns.insertContent( this.parentNode.querySelector('script[type=\"application/octet-stream\"]'), true ); this.parentNode.remove(); </script></treescope-run-here> </div>"
      ],
      "text/plain": [
       "<IPython.core.display.HTML object>"
      ]
     },
     "metadata": {},
     "output_type": "display_data"
    },
    {
     "data": {
      "text/html": [
       "<treescope-run-here><script type=\"application/octet-stream\"> const root = ( Array.from(document.getElementsByClassName( \"treescope_out_0486ce8ef402440e8dd7e77013438ab2\")) .filter((elt) => !elt.dataset.stolen) )[0]; root.dataset.stolen = 1; this.parentNode.replaceChild(root, this); </script></treescope-run-here>"
      ],
      "text/plain": [
       "['MLP.sublayers[0]/Affine.sublayers[0]/Linear.weights/Parameter.value/NamedArray.data_array',\n",
       " 'MLP.sublayers[0]/Affine.sublayers[2]/AddBias.bias/Parameter.value/NamedArray.data_array',\n",
       " 'MLP.sublayers[2]/Affine.sublayers[0]/Linear.weights/Parameter.value/NamedArray.data_array',\n",
       " 'MLP.sublayers[2]/Affine.sublayers[2]/AddBias.bias/Parameter.value/NamedArray.data_array',\n",
       " 'MLP.sublayers[4]/Affine.sublayers[0]/Linear.weights/Parameter.value/NamedArray.data_array',\n",
       " 'MLP.sublayers[4]/Affine.sublayers[2]/AddBias.bias/Parameter.value/NamedArray.data_array']"
      ]
     },
     "execution_count": 72,
     "metadata": {},
     "output_type": "execute_result"
    }
   ],
   "source": [
    "[\n",
    "  pz.pretty_keystr(key, mlp) for key in\n",
    "  pz.select(mlp).at_instances_of(jax.Array).selected_by_path.keys()\n",
    "]"
   ]
  },
  {
   "cell_type": "code",
   "execution_count": null,
   "metadata": {
    "id": "2FQPmfO2Nyof"
   },
   "outputs": [],
   "source": []
  }
 ],
 "metadata": {
  "colab": {
   "name": "Selectors and selections",
   "toc_visible": true
  },
  "kernelspec": {
   "display_name": "Python 3",
   "name": "python3"
  },
  "language_info": {
   "codemirror_mode": {
    "name": "ipython",
    "version": 3
   },
   "file_extension": ".py",
   "mimetype": "text/x-python",
   "name": "python",
   "nbconvert_exporter": "python",
   "pygments_lexer": "ipython3",
   "version": "3.10.12"
  }
 },
 "nbformat": 4,
 "nbformat_minor": 0
}
