{
 "cells": [
  {
   "cell_type": "markdown",
   "metadata": {
    "id": "DfejMHs4lr8V"
   },
   "source": [
    "*Copyright 2024 The Penzai Authors.*\n",
    "\n",
    "*Licensed under the Apache License, Version 2.0 (the \"License\"); you may not use this file except in compliance with the License.\n",
    "You may obtain a copy of the License at*\n",
    "\n",
    "> http://www.apache.org/licenses/LICENSE-2.0\n",
    "\n",
    "*Unless required by applicable law or agreed to in writing, software\n",
    "distributed under the License is distributed on an \"AS IS\" BASIS,\n",
    "WITHOUT WARRANTIES OR CONDITIONS OF ANY KIND, either express or  implied.\n",
    "See the License for the specific language governing permissions and\n",
    "limitations under the License.*\n",
    "\n",
    "---"
   ]
  },
  {
   "cell_type": "markdown",
   "metadata": {
    "id": "USGIPdLYDzSo"
   },
   "source": [
    "[![Open in Colab](https://colab.research.google.com/assets/colab-badge.svg)](https://colab.research.google.com/github/google-deepmind/penzai/blob/main/notebooks/selectors.ipynb) [![Open in Kaggle](https://kaggle.com/static/images/open-in-kaggle.svg)](https://kaggle.com/kernels/welcome?src=https://github.com/google-deepmind/penzai/blob/main/notebooks/selectors.ipynb)"
   ]
  },
  {
   "cell_type": "markdown",
   "metadata": {
    "id": "RbZ02bVnH7LL"
   },
   "source": [
    "# Selectors and Selections"
   ]
  },
  {
   "cell_type": "markdown",
   "metadata": {
    "id": "FG4w_VU1H_WN"
   },
   "source": [
    "Penzai is designed to make it easy to make targeted modifications to models and parameter trees. For this purpose, Penzai provides a powerful \"selection\" system to allow you to identify, visualize, and modify arbitrary JAX PyTrees. In short, `pz.select` enables `.at[...].set(...)`-style modification for arbitrary PyTree types.\n",
    "\n",
    "This notebook describes the basics of Penzai's selection object and shows how you can use it to make a variety of modifications.\n"
   ]
  },
  {
   "cell_type": "markdown",
   "metadata": {
    "id": "SHr2rnIL8DzM"
   },
   "source": [
    "## Setup"
   ]
  },
  {
   "cell_type": "markdown",
   "metadata": {
    "id": "VkW4lYKAu-oR"
   },
   "source": [
    "We'll start by setting up the environment."
   ]
  },
  {
   "cell_type": "markdown",
   "metadata": {
    "id": "ozG8ERNavDos"
   },
   "source": [
    "### Imports"
   ]
  },
  {
   "cell_type": "markdown",
   "metadata": {
    "id": "xmxgAcFQmZkB"
   },
   "source": [
    "To run this notebook, you need a Python environment with `penzai` and its dependencies installed.\n",
    "\n",
    "In Colab or Kaggle, you can install it using the following command:"
   ]
  },
  {
   "cell_type": "code",
   "execution_count": 1,
   "metadata": {
    "execution": {
     "iopub.execute_input": "2024-08-07T01:46:13.314377Z",
     "iopub.status.busy": "2024-08-07T01:46:13.314106Z",
     "iopub.status.idle": "2024-08-07T01:46:13.316426Z",
     "shell.execute_reply": "2024-08-07T01:46:13.316136Z"
    },
    "id": "XGZH58j8mPkj"
   },
   "outputs": [],
   "source": [
    "try:\n",
    "  import penzai\n",
    "except ImportError:\n",
    "  !pip install penzai[notebook]"
   ]
  },
  {
   "cell_type": "code",
   "execution_count": 2,
   "metadata": {
    "execution": {
     "iopub.execute_input": "2024-08-07T01:46:13.319769Z",
     "iopub.status.busy": "2024-08-07T01:46:13.319499Z",
     "iopub.status.idle": "2024-08-07T01:46:13.727900Z",
     "shell.execute_reply": "2024-08-07T01:46:13.728082Z"
    },
    "id": "iog3oMAMGCMG"
   },
   "outputs": [],
   "source": [
    "from __future__ import annotations\n",
    "import typing\n",
    "import traceback\n",
    "\n",
    "import jax\n",
    "import jax.numpy as jnp"
   ]
  },
  {
   "cell_type": "code",
   "execution_count": 3,
   "metadata": {
    "execution": {
     "iopub.execute_input": "2024-08-07T01:46:13.732840Z",
     "iopub.status.busy": "2024-08-07T01:46:13.732420Z",
     "iopub.status.idle": "2024-08-07T01:46:13.825258Z",
     "shell.execute_reply": "2024-08-07T01:46:13.824840Z"
    },
    "id": "5Mh2mAuiQ4aa"
   },
   "outputs": [],
   "source": [
    "import treescope\n",
    "import penzai\n",
    "from penzai import pz"
   ]
  },
  {
   "cell_type": "code",
   "execution_count": 4,
   "metadata": {
    "execution": {
     "iopub.execute_input": "2024-08-07T01:46:13.829301Z",
     "iopub.status.busy": "2024-08-07T01:46:13.828958Z",
     "iopub.status.idle": "2024-08-07T01:46:13.833301Z",
     "shell.execute_reply": "2024-08-07T01:46:13.833108Z"
    },
    "id": "QMSmQSSzOOnj"
   },
   "outputs": [],
   "source": [
    "from penzai.models import simple_mlp"
   ]
  },
  {
   "cell_type": "markdown",
   "metadata": {
    "id": "OGzhV5uWvkvB"
   },
   "source": [
    "### Setting up Penzai"
   ]
  },
  {
   "cell_type": "markdown",
   "metadata": {
    "id": "TjGkV8F8vmpi"
   },
   "source": [
    "For this tutorial, we'll enable [Treescope](https://treescope.readthedocs.io/en/stable/) (Penzai's companion pretty-printer) as the default IPython pretty-printer. This is recommended when using Penzai in an interactive environment."
   ]
  },
  {
   "cell_type": "code",
   "execution_count": 5,
   "metadata": {
    "execution": {
     "iopub.execute_input": "2024-08-07T01:46:13.838518Z",
     "iopub.status.busy": "2024-08-07T01:46:13.838121Z",
     "iopub.status.idle": "2024-08-07T01:46:13.839914Z",
     "shell.execute_reply": "2024-08-07T01:46:13.839683Z"
    },
    "id": "YodWk_jmva_7"
   },
   "outputs": [],
   "source": [
    "treescope.basic_interactive_setup(autovisualize_arrays=False)"
   ]
  },
  {
   "cell_type": "markdown",
   "metadata": {
    "id": "3egey4t42OTo"
   },
   "source": [
    "## What are selectors?"
   ]
  },
  {
   "cell_type": "markdown",
   "metadata": {
    "id": "SmFOag2y2UjQ"
   },
   "source": [
    "If you're familiar with JAX, you probably know that JAX arrays are immutable. This maens that it's not possible to directly assign to elements of a JAX array:"
   ]
  },
  {
   "cell_type": "code",
   "execution_count": 6,
   "metadata": {
    "execution": {
     "iopub.execute_input": "2024-08-07T01:46:13.845269Z",
     "iopub.status.busy": "2024-08-07T01:46:13.845017Z",
     "iopub.status.idle": "2024-08-07T01:46:29.451188Z",
     "shell.execute_reply": "2024-08-07T01:46:29.450797Z"
    },
    "id": "V4fKIMM4807s"
   },
   "outputs": [
    {
     "data": {
      "text/html": [
       "<script> (()=>{ if (customElements.get('treescope-container') === undefined) { class TreescopeContainer extends HTMLElement { constructor() { super(); this.attachShadow({mode: \"open\"}); this.defns = {}; this.state = {}; } } customElements.define(\"treescope-container\", TreescopeContainer); } if (customElements.get('treescope-run-here') === undefined) { class RunHere extends HTMLElement { constructor() { super() } connectedCallback() { const run = child => { const fn = new Function(child.textContent); child.textContent = \"\"; fn.call(this); this.remove(); }; const child = this.querySelector(\"script\"); if (child) { run(child); } else { new MutationObserver(()=>{ run(this.querySelector(\"script\")); }).observe(this, {childList: true}); } } } customElements.define(\"treescope-run-here\", RunHere); } })(); </script> <treescope-container class=\"treescope_out_f26b35b5f46e47ff949b476a1a5bc775\" ></treescope-container> <treescope-run-here><script type=\"application/octet-stream\"> const root = ( Array.from(document.getElementsByClassName( \"treescope_out_f26b35b5f46e47ff949b476a1a5bc775\")) .filter((elt) => !elt.dataset.setup) )[0]; root.dataset.setup = 1; const msg = document.createElement(\"span\"); msg.style = \"color: #cccccc; font-family: monospace;\"; msg.textContent = \"(Loading...)\"; root.state.loadingMsg = msg; root.shadowRoot.appendChild(msg); root.state.chain = new Promise((resolve, reject) => { const observer = new IntersectionObserver((entries) => { for (const entry of entries) { if (entry.isIntersecting) { resolve(); observer.disconnect(); return; } } }, {rootMargin: \"1000px\"}); window.setTimeout(() => { observer.observe(root); }, 0); }); root.state.deferring = false; const _insertNode = (node) => { for (let oldScript of node.querySelectorAll(\"script\")) { let newScript = document.createElement(\"script\"); newScript.type = oldScript.type; newScript.textContent = oldScript.textContent; oldScript.parentNode.replaceChild(newScript, oldScript); } if (root.state.loadingMsg) { root.state.loadingMsg.remove(); root.state.loadingMsg = null; } root.shadowRoot.appendChild(node); }; root.defns.insertContent = ((contentNode, compressed) => { if (compressed) { root.state.deferring = true; } if (root.state.deferring) { root.state.chain = (async () => { await root.state.chain; if (compressed) { const encoded = contentNode.textContent; const blob = new Blob([ Uint8Array.from(atob(encoded), (m) => m.codePointAt(0)) ]); const reader = blob.stream().pipeThrough( new DecompressionStream(\"deflate\") ).pipeThrough( new TextDecoderStream(\"utf-8\") ).getReader(); const parts = []; while (true) { const step = await reader.read(); if (step.done) { break; } parts.push(step.value); } const tpl = document.createElement('template'); tpl.innerHTML = parts.join(\"\"); _insertNode(tpl.content); } else { _insertNode(contentNode.content); } })(); } else { _insertNode(contentNode.content); } }); </script></treescope-run-here><div style=\"display:none\"> <script type=\"application/octet-stream\" >eNqNVE1v2zAM/SuEd6gN1G4Sr19JHKCXYYdhh+2wwzAEikzHWhXJk+ik2dD/Xsp2s35kxeCDbYp8fI8iOfe017jIyCF6aRtcOmsJ/kBjvSJlzRQcakFqizOorKG0Ehul91PYWGN9IyTbd7UiTLufKTSOLVp5SjvolPYNW401bF4Jebt2tjVlKq22btqHzmD4W2l2YDxVUj2FShG7GUJDM2hEWSqzTjVWNIWJrEMSg2mNal2zZZydBxhDQjHnQ9jwkW6VVyulFTFz0ZI9+KbKkFPGK5l69Rv704Hu/fysL8/8UJ7UtYZzOrZ56VRDEPQVJ6JptJIiVOzMSsKg3qHYnCziOCkWXFDO5wlKrIyHAqhWPlsjfeFqf7YlxklWW09Zd87SkGDZoAmSb2RADUHffxw7+ShMqZGPTav1rM+QMc2v1hq2xjvrbhN4ysF+Y1M4emYmJYOxQVdZtxFGYmbsLk66++UE8asTSPugOeSThHFUBfEL1plGs6YaigJGweVN6g6pdYbrDqg9/iVWtyYwewnta1VR4Nc5hI97fv6RIeauMqXdZQ5/tejpxqhNd10fnNhg3NckCRizV4ma1td9GWdHND6mKHoZb6j8fw6BRX+RZNdr3U/lspsc7tYmYAULajoF3HKDDzcZ2HX/2S3uQ9EjFwVCg3MmtfD+Ew/ngBtHB8zlhtswekx+n3A9uf27Hl/Mz44NQKm20AEW0fP1EQGJFSvFuyIaRWANk2HZhv3eavvjWuMQ86gy4rHrFxZHoHNYLhveGVhbXaLrOqZbJO/EZXiGldWFTEGR4Bl9Ota8sgyosogOaKNVfn1dXle5QPE+L6W4urgYC5mP8nMxubzCaAgadB9jES1+irvsxjmxh0pbQfkkHo9OYTxKODEHLw4vruDiASE978E=</script> <treescope-run-here><script type=\"application/octet-stream\"> const root = ( Array.from(document.getElementsByClassName( \"treescope_out_f26b35b5f46e47ff949b476a1a5bc775\")) .filter((elt) => !elt.dataset['step0']) )[0]; root.dataset['step0'] = 1; root.defns.insertContent( this.parentNode.querySelector('script[type=\"application/octet-stream\"]'), true ); this.parentNode.remove(); </script></treescope-run-here> </div>"
      ],
      "text/plain": [
       "<IPython.core.display.HTML object>"
      ]
     },
     "metadata": {},
     "output_type": "display_data"
    },
    {
     "data": {
      "text/html": [
       "<div style=\"display:none\"> <script type=\"application/octet-stream\" >eNrtV9GO4zQUfecrrIzEpkybSVtmmEk7lWAXpH3ZB3jgYRhFjn3bmHHjYLvdFrTv7H+wH8Av8Cn7JVw7mU7Tpl0QBYREqiZ1fY/P8fX1vc6YiyUxdi3hNuDClJKuE1KoAgIi+G0wVTrlMAWtgadxNry54TfTIQX66ZAzen111adsGA8v6eCzawgmY1PSAu9uvEnElEQ4zTINS/IT8c2EnF1dD2gcj8ib2oCp+RwKm77OoUhhhSNw4EmhbBhNleQ0k5AWikOSUxNOJM1ATpo9qVWzmQSPSVgO7AF4p0M+6WyxUn851gYULUplhBWqSIgGSa1YAlqRVga0bjhp35BMiFeYJBmg82BLAfPXqJVPwtQmpNdn+Yi8FtzmCUEPbbhEIUUBvUwq9nCEM1dL0PvMnOoHA3SmAYp99Ik8vdHgoO2gR/uGwsLi2ifk2XeDy4w9+zflNUEHRV79AyLdOjrihTZuAUslUIFu4RXmdLR+K3iiHixxvuZQjJ+G9Wl6FlZ2nyUSJp0KbWyqitSFf8vWOraVosGl202tS0X+svxqxXclulnNqZ6JolfJ8Bv6TSQwpaFjecpyIbmGoo4qKlB6HV5eatPwZElwk0jqDNLQyKhk4YDlpEf65arjdRhLHX6j929TkinNMeAqJVxZnLtTQc4gdh/nPF8XMJVJWhrs/WAK/tPCjjBUiddzNMrTAZtT6GijqCc6vqgqqy+zhElqjCvR26VgNyKxJlcKxqIoF5bYdYmV3nNmahW0DlLLw85K2mR84cFN3u3qHrR1tdb1Hcum54PJx9KOcJbVKWLX7mmMM1IbfU9X0eda0zWZSkXtcBD24y7pxx3y/u3PcRST335197v3b9/hs4v//oLPe/IjaJX04/i4mNmTmJ1H7dMjEht9e/v/aH8w8VMK7+7iqEs+/L3vfkSq63/Afwtw3yXc78g6ejsHwq35wCP7ZGzxNGeYKqGnF0UvB+3SAtOifNzjtCylYNSVxwvFLNieQQydBxMsOAatsAaAfckNuSV3wR8/5N+PKjxXTCtlEW1zYSIc62tsvsL8EWINqTlQZG1Um0c/LECvvwEJzCodBtFmHqnrDjbQqaYzlz4q6ML9jBjqt/Cibn5VW+zTPZeYLxH4OEaEvoCCP3ebK3w0ipiz8nqtXkAHR8FTBQklWCIQjLVHkPGTmyIJxcxiORfn566SObuqc5sJm19KcD+/WL9Eskf0nbjvjDzGqIVm8AJfuw465cy9dgXknOzAq2akAasCg2+FzcPNaJFP+zW3nykCnno1zPFQGfrqvvHA9kAN33Vc3vPBhOHWEmm/AzZpsuE=</script> <treescope-run-here><script type=\"application/octet-stream\"> const root = ( Array.from(document.getElementsByClassName( \"treescope_out_f26b35b5f46e47ff949b476a1a5bc775\")) .filter((elt) => !elt.dataset['step1']) )[0]; root.dataset['step1'] = 1; root.defns.insertContent( this.parentNode.querySelector('script[type=\"application/octet-stream\"]'), true ); this.parentNode.remove(); </script></treescope-run-here> </div>"
      ],
      "text/plain": [
       "<IPython.core.display.HTML object>"
      ]
     },
     "metadata": {},
     "output_type": "display_data"
    },
    {
     "data": {
      "text/html": [
       "<treescope-run-here><script type=\"application/octet-stream\"> const root = ( Array.from(document.getElementsByClassName( \"treescope_out_f26b35b5f46e47ff949b476a1a5bc775\")) .filter((elt) => !elt.dataset.stolen) )[0]; root.dataset.stolen = 1; this.parentNode.replaceChild(root, this); </script></treescope-run-here>"
      ],
      "text/plain": [
       "# jax.Array float32(10, 10) ≈0.0 ±0.0 [≥0.0, ≤0.0] zero:100\n",
       "  Array([[0., 0., 0., 0., 0., 0., 0., 0., 0., 0.],\n",
       "         [0., 0., 0., 0., 0., 0., 0., 0., 0., 0.],\n",
       "         [0., 0., 0., 0., 0., 0., 0., 0., 0., 0.],\n",
       "         [0., 0., 0., 0., 0., 0., 0., 0., 0., 0.],\n",
       "         [0., 0., 0., 0., 0., 0., 0., 0., 0., 0.],\n",
       "         [0., 0., 0., 0., 0., 0., 0., 0., 0., 0.],\n",
       "         [0., 0., 0., 0., 0., 0., 0., 0., 0., 0.],\n",
       "         [0., 0., 0., 0., 0., 0., 0., 0., 0., 0.],\n",
       "         [0., 0., 0., 0., 0., 0., 0., 0., 0., 0.],\n",
       "         [0., 0., 0., 0., 0., 0., 0., 0., 0., 0.]], dtype=float32)"
      ]
     },
     "execution_count": 6,
     "metadata": {},
     "output_type": "execute_result"
    }
   ],
   "source": [
    "array = jnp.zeros((10, 10))\n",
    "array"
   ]
  },
  {
   "cell_type": "code",
   "execution_count": 7,
   "metadata": {
    "execution": {
     "iopub.execute_input": "2024-08-07T01:46:29.454969Z",
     "iopub.status.busy": "2024-08-07T01:46:29.454738Z",
     "iopub.status.idle": "2024-08-07T01:46:29.458069Z",
     "shell.execute_reply": "2024-08-07T01:46:29.457896Z"
    },
    "id": "HYD71Mqo89Bf"
   },
   "outputs": [
    {
     "name": "stderr",
     "output_type": "stream",
     "text": [
      "Traceback (most recent call last):\n",
      "  File \"<ipython-input-7-5c112bb0ee90>\", line 2, in <cell line: 1>\n",
      "    array[1, 2] = 42\n",
      "  File \"/usr/local/lib/python3.10/dist-packages/jax/_src/numpy/array_methods.py\", line 278, in _unimplemented_setitem\n",
      "    raise TypeError(msg.format(type(self)))\n",
      "TypeError: '<class 'jaxlib.xla_extension.ArrayImpl'>' object does not support item assignment. JAX arrays are immutable. Instead of ``x[idx] = y``, use ``x = x.at[idx].set(y)`` or another .at[] method: https://jax.readthedocs.io/en/latest/_autosummary/jax.numpy.ndarray.at.html\n"
     ]
    }
   ],
   "source": [
    "try:\n",
    "  array[1, 2] = 42\n",
    "except TypeError:\n",
    "  import traceback\n",
    "  traceback.print_exc()"
   ]
  },
  {
   "cell_type": "markdown",
   "metadata": {
    "id": "GyEJo0EV9Kld"
   },
   "source": [
    "Instead, to modify a JAX array you can use the special `.at` property, which returns a modified copy of the original array with changes at the location you specified:"
   ]
  },
  {
   "cell_type": "code",
   "execution_count": 8,
   "metadata": {
    "execution": {
     "iopub.execute_input": "2024-08-07T01:46:29.466787Z",
     "iopub.status.busy": "2024-08-07T01:46:29.466529Z",
     "iopub.status.idle": "2024-08-07T01:46:29.680727Z",
     "shell.execute_reply": "2024-08-07T01:46:29.680480Z"
    },
    "id": "o6Ydo5jt8_Oo"
   },
   "outputs": [
    {
     "data": {
      "text/html": [
       "<script> (()=>{ if (customElements.get('treescope-container') === undefined) { class TreescopeContainer extends HTMLElement { constructor() { super(); this.attachShadow({mode: \"open\"}); this.defns = {}; this.state = {}; } } customElements.define(\"treescope-container\", TreescopeContainer); } if (customElements.get('treescope-run-here') === undefined) { class RunHere extends HTMLElement { constructor() { super() } connectedCallback() { const run = child => { const fn = new Function(child.textContent); child.textContent = \"\"; fn.call(this); this.remove(); }; const child = this.querySelector(\"script\"); if (child) { run(child); } else { new MutationObserver(()=>{ run(this.querySelector(\"script\")); }).observe(this, {childList: true}); } } } customElements.define(\"treescope-run-here\", RunHere); } })(); </script> <treescope-container class=\"treescope_out_2a79789872ac4d1c9d03edd38491a735\" ></treescope-container> <treescope-run-here><script type=\"application/octet-stream\"> const root = ( Array.from(document.getElementsByClassName( \"treescope_out_2a79789872ac4d1c9d03edd38491a735\")) .filter((elt) => !elt.dataset.setup) )[0]; root.dataset.setup = 1; const msg = document.createElement(\"span\"); msg.style = \"color: #cccccc; font-family: monospace;\"; msg.textContent = \"(Loading...)\"; root.state.loadingMsg = msg; root.shadowRoot.appendChild(msg); root.state.chain = new Promise((resolve, reject) => { const observer = new IntersectionObserver((entries) => { for (const entry of entries) { if (entry.isIntersecting) { resolve(); observer.disconnect(); return; } } }, {rootMargin: \"1000px\"}); window.setTimeout(() => { observer.observe(root); }, 0); }); root.state.deferring = false; const _insertNode = (node) => { for (let oldScript of node.querySelectorAll(\"script\")) { let newScript = document.createElement(\"script\"); newScript.type = oldScript.type; newScript.textContent = oldScript.textContent; oldScript.parentNode.replaceChild(newScript, oldScript); } if (root.state.loadingMsg) { root.state.loadingMsg.remove(); root.state.loadingMsg = null; } root.shadowRoot.appendChild(node); }; root.defns.insertContent = ((contentNode, compressed) => { if (compressed) { root.state.deferring = true; } if (root.state.deferring) { root.state.chain = (async () => { await root.state.chain; if (compressed) { const encoded = contentNode.textContent; const blob = new Blob([ Uint8Array.from(atob(encoded), (m) => m.codePointAt(0)) ]); const reader = blob.stream().pipeThrough( new DecompressionStream(\"deflate\") ).pipeThrough( new TextDecoderStream(\"utf-8\") ).getReader(); const parts = []; while (true) { const step = await reader.read(); if (step.done) { break; } parts.push(step.value); } const tpl = document.createElement('template'); tpl.innerHTML = parts.join(\"\"); _insertNode(tpl.content); } else { _insertNode(contentNode.content); } })(); } else { _insertNode(contentNode.content); } }); </script></treescope-run-here><div style=\"display:none\"> <script type=\"application/octet-stream\" >eNqNVE2Pm0AM/SsWPSxIhSVhPyoSIu2l6qHqoT30UFXRBAxMdzJDZ0yyabX/vR5g0/1IVxUHwGM/v+exvXR0ULhKyCK60nS4tsYQ/IbOOEnS6BwsKkFyhwuojaa4FlupDjlsjTauEyXb960kjIefHDrLFiUdxQN0TIeOrdpoNm9EedtY0+sqLo0yNh9DFzD9bRQ7MJ6sqM2hlsRumlDTAjpRVVI3scKacpiXrU+iMW5RNi1bZsmlh9EkJHM+hk0f8U46uZFKEjMXPZmjbyw1WamdLGMnf+F4OtG9X56P5VkeyxPbXnNOyzZXWtkReH3Fmeg6JUvhK3ZuSkKv3qLYnq3CMCpWXFDO5wgqrLWDAqiVLmmQPnO1P5kKwyhpjaNkOGdpSLDuUHvJN6VH9UHfvp86+SB0pZCPda/UYsyQMM0vxmi2hntjbyN4zMF8ZZM/emImWXpjh7Y2dit0iYk2+zAa7pcThC9OIB6DlpDNI8aRNYTPWCcKdUMtFAWk3uVV6hapt5rrDqgc/iXW9tozew7tWlmT5zc4+I97fv6RIeSu0pXZJxZ/9ujoRsvtcF3vrdhiONYk8hiLF4m63rVjGRcnND6kKEYZr6j8fw6exXiRZJpGjVO5HiaHu7XzWN6Cit4C7rjBp5v07Ib/5BYPvuiBDTyhyTkplXDuIw/nhBsGR8z1ltsweEh+H3E9uf2HHl8tz08NQCV3MAAWwdP1EQCJDSvFuyJIAzCaybBszX6vtf1praGPeVAZ8NiNC4sj0Fqs1h3vDGyNqtAOHTMskjfi2j/TyhpCcpAkeEYfjzWvLA2yKoIj2vXFPCtn8/QKZ1cXmyoVeJ2lKaZZdokz8S4LpqBJ9ykWweqHuEturBUHqJURlM3DWfoWZmnEiTl4dXxxBVd/AMim7uc=</script> <treescope-run-here><script type=\"application/octet-stream\"> const root = ( Array.from(document.getElementsByClassName( \"treescope_out_2a79789872ac4d1c9d03edd38491a735\")) .filter((elt) => !elt.dataset['step0']) )[0]; root.dataset['step0'] = 1; root.defns.insertContent( this.parentNode.querySelector('script[type=\"application/octet-stream\"]'), true ); this.parentNode.remove(); </script></treescope-run-here> </div>"
      ],
      "text/plain": [
       "<IPython.core.display.HTML object>"
      ]
     },
     "metadata": {},
     "output_type": "display_data"
    },
    {
     "data": {
      "text/html": [
       "<div style=\"display:none\"> <script type=\"application/octet-stream\" >eNrtV81u4zYQvvcpCAXoyk2syD/J7sqOgXa3BfbSQ3vowTUEihxbbBhRJWmv3WLvzXu0D9BX6KPkSTqkFMeyFbfbTX8OlQFLxMzH7+NoOEONuVgRYzcSrgIuTCnpJiGFKiAggl8Fc6VTDnPQGnj6fNgfsF4/voTe5TDjMYXngziGeDC4gB59MQgmY1PSAv/dfJOIKYlwmmUaVuRH4ocJObl80adxPCLvagembm6gsOnbHIoU1jgDB54UyobRXElOMwlpoTgkOTXhRNIM5KRpSa1aLCR4TMJyYNfAOx3ySWeHlfrLsTag6FEqI6xQRUI0SGrFCtCLtDKgdyNIh45kQrzCJMkAgwc7Cpi/Rq18EuY2Id0ey0fkreA2TwhGaMslCikK6GZSsesjnLlagT5k5lRfG6ALDVAcop8o0lsNDtoOuvdvKCwsvvuEPPu2f5GxZ/+mvCboUZGX/4BI9x4d8VIb9wJLJVCBbuEV5ulo/VbwRF1Y4XrNYzn+NKwPy7OwtocskTDpXGhjU1WkLv1bttaxrRT1L9xuan1V5IPlV298X6Jb1Q3VC1F0Kxl+Q7+LBJY0DCxPWS4k11DUWUUFSq/Ty0ttOj5ZEdwWkrqCNDQyKlnYZznpkl657ngdxlKH3+r925RkSnNMuEoJVxbX7lSQE4jdzwXP9wUsZZKWBq1/WILfW9gRhqrweo5Ge3rE5yl0tFHUCx2fV53Vt1nCJDXGtejdVrCfkdiTKwVjUZRLS+ymxE7vOTO1DlonqeWhsZI2GZ97cJN3t7sHbabWvr7n2Yx8MPlY2hGusjpF7Ps9zHFCaqfv6Dr6VGu6IXOpqB30w158Rnpxh9zd/hRHwz757ddh1CfTu9tf4ghNd7c/4xhO496M/ABaJS9fuuj6x95xaYsHaXu3OsJHBDdsB9XgqD2Y+AWG0ymJozPyHn+zs49Ide1Ah/2/DP0A1v+h/xHo7IxwXwPq/dJ5JKWbN/xImIwtnh8NUyV09bLo5qBdIWJalPdVhZalFIy6hnyumAXbNYihN8EEW5xBL+w6YN9wQ67INPjznxWzUYXnimmlLKJtLkyEc32Fwy+xYoXYtWoOFFk71e7R90vQm69BArNKh0G0XUfqzMEWOtd04QpWBV26x4ihfguv6+EXtcch3SuJFRqB93NEGAso+Cu3gcN7p4g5L6/X6iV0cBY8x5BQgiUCwdjtBBk/hCmSUCwsHiDE6anrnc6vMu4y4fBzCe7xs80bJLtHT8WsM/IYo5aawWv80Hs0KCfuQy8gp2QPXg0jDdiHGHwjbB5uZ4t8o6m5/UoR8GDVcIPH2NCfJ7YR2J2oEbuOq60+mTDdWjLtd/xDwm0=</script> <treescope-run-here><script type=\"application/octet-stream\"> const root = ( Array.from(document.getElementsByClassName( \"treescope_out_2a79789872ac4d1c9d03edd38491a735\")) .filter((elt) => !elt.dataset['step1']) )[0]; root.dataset['step1'] = 1; root.defns.insertContent( this.parentNode.querySelector('script[type=\"application/octet-stream\"]'), true ); this.parentNode.remove(); </script></treescope-run-here> </div>"
      ],
      "text/plain": [
       "<IPython.core.display.HTML object>"
      ]
     },
     "metadata": {},
     "output_type": "display_data"
    },
    {
     "data": {
      "text/html": [
       "<treescope-run-here><script type=\"application/octet-stream\"> const root = ( Array.from(document.getElementsByClassName( \"treescope_out_2a79789872ac4d1c9d03edd38491a735\")) .filter((elt) => !elt.dataset.stolen) )[0]; root.dataset.stolen = 1; this.parentNode.replaceChild(root, this); </script></treescope-run-here>"
      ],
      "text/plain": [
       "# jax.Array float32(10, 10) ≈0.42 ±4.2 [≥0.0, ≤4.2e+01] zero:99 nonzero:1\n",
       "  Array([[ 0.,  0.,  0.,  0.,  0.,  0.,  0.,  0.,  0.,  0.],\n",
       "         [ 0.,  0., 42.,  0.,  0.,  0.,  0.,  0.,  0.,  0.],\n",
       "         [ 0.,  0.,  0.,  0.,  0.,  0.,  0.,  0.,  0.,  0.],\n",
       "         [ 0.,  0.,  0.,  0.,  0.,  0.,  0.,  0.,  0.,  0.],\n",
       "         [ 0.,  0.,  0.,  0.,  0.,  0.,  0.,  0.,  0.,  0.],\n",
       "         [ 0.,  0.,  0.,  0.,  0.,  0.,  0.,  0.,  0.,  0.],\n",
       "         [ 0.,  0.,  0.,  0.,  0.,  0.,  0.,  0.,  0.,  0.],\n",
       "         [ 0.,  0.,  0.,  0.,  0.,  0.,  0.,  0.,  0.,  0.],\n",
       "         [ 0.,  0.,  0.,  0.,  0.,  0.,  0.,  0.,  0.,  0.],\n",
       "         [ 0.,  0.,  0.,  0.,  0.,  0.,  0.,  0.,  0.,  0.]], dtype=float32)"
      ]
     },
     "execution_count": 8,
     "metadata": {},
     "output_type": "execute_result"
    }
   ],
   "source": [
    "modified_array = array.at[1, 2].set(42)\n",
    "modified_array"
   ]
  },
  {
   "cell_type": "markdown",
   "metadata": {
    "id": "AfD7GKrc-KFP"
   },
   "source": [
    "JAX also introduces the concept of [PyTrees](https://jax.readthedocs.io/en/latest/pytrees.html): nested containers of data that JAX knows how to traverse. Most JAX transformations are designed to work with functions that take PyTrees as input and return PyTrees as output.\n",
    "\n",
    "Although JAX does treat dictionaries and lists as PyTrees, JAX usually assumes that those trees will not be mutated, and expects the user to write code in a functional style, avoiding mutating its arguments directly.\n",
    "\n",
    "**`pz.select` enables `.at[...].set(...)`-style modification for arbitrary PyTrees**, making it possible to perform complex path-based and type-driven modifications to the objects you're already using:"
   ]
  },
  {
   "cell_type": "code",
   "execution_count": 9,
   "metadata": {
    "execution": {
     "iopub.execute_input": "2024-08-07T01:46:29.689749Z",
     "iopub.status.busy": "2024-08-07T01:46:29.689428Z",
     "iopub.status.idle": "2024-08-07T01:46:29.762797Z",
     "shell.execute_reply": "2024-08-07T01:46:29.762952Z"
    },
    "id": "qMN5Bzdq-A7q"
   },
   "outputs": [],
   "source": [
    "my_nested_object = {\n",
    "    \"a\": 1,\n",
    "    \"b\": jnp.arange(10),\n",
    "    \"c\": [\n",
    "        {\"value\": jnp.arange(12)},\n",
    "        {\"value\": jnp.zeros([7])},\n",
    "        {\"value\": 3},\n",
    "    ]\n",
    "}"
   ]
  },
  {
   "cell_type": "code",
   "execution_count": 10,
   "metadata": {
    "execution": {
     "iopub.execute_input": "2024-08-07T01:46:29.772938Z",
     "iopub.status.busy": "2024-08-07T01:46:29.772534Z",
     "iopub.status.idle": "2024-08-07T01:46:29.834694Z",
     "shell.execute_reply": "2024-08-07T01:46:29.834820Z"
    },
    "id": "yPqRBFmD9N4V"
   },
   "outputs": [
    {
     "data": {
      "text/html": [
       "<script> (()=>{ if (customElements.get('treescope-container') === undefined) { class TreescopeContainer extends HTMLElement { constructor() { super(); this.attachShadow({mode: \"open\"}); this.defns = {}; this.state = {}; } } customElements.define(\"treescope-container\", TreescopeContainer); } if (customElements.get('treescope-run-here') === undefined) { class RunHere extends HTMLElement { constructor() { super() } connectedCallback() { const run = child => { const fn = new Function(child.textContent); child.textContent = \"\"; fn.call(this); this.remove(); }; const child = this.querySelector(\"script\"); if (child) { run(child); } else { new MutationObserver(()=>{ run(this.querySelector(\"script\")); }).observe(this, {childList: true}); } } } customElements.define(\"treescope-run-here\", RunHere); } })(); </script> <treescope-container class=\"treescope_out_ee511ed67b034c6f81caf0ff095f0348\" ></treescope-container> <treescope-run-here><script type=\"application/octet-stream\"> const root = ( Array.from(document.getElementsByClassName( \"treescope_out_ee511ed67b034c6f81caf0ff095f0348\")) .filter((elt) => !elt.dataset.setup) )[0]; root.dataset.setup = 1; const msg = document.createElement(\"span\"); msg.style = \"color: #cccccc; font-family: monospace;\"; msg.textContent = \"(Loading...)\"; root.state.loadingMsg = msg; root.shadowRoot.appendChild(msg); root.state.chain = new Promise((resolve, reject) => { const observer = new IntersectionObserver((entries) => { for (const entry of entries) { if (entry.isIntersecting) { resolve(); observer.disconnect(); return; } } }, {rootMargin: \"1000px\"}); window.setTimeout(() => { observer.observe(root); }, 0); }); root.state.deferring = false; const _insertNode = (node) => { for (let oldScript of node.querySelectorAll(\"script\")) { let newScript = document.createElement(\"script\"); newScript.type = oldScript.type; newScript.textContent = oldScript.textContent; oldScript.parentNode.replaceChild(newScript, oldScript); } if (root.state.loadingMsg) { root.state.loadingMsg.remove(); root.state.loadingMsg = null; } root.shadowRoot.appendChild(node); }; root.defns.insertContent = ((contentNode, compressed) => { if (compressed) { root.state.deferring = true; } if (root.state.deferring) { root.state.chain = (async () => { await root.state.chain; if (compressed) { const encoded = contentNode.textContent; const blob = new Blob([ Uint8Array.from(atob(encoded), (m) => m.codePointAt(0)) ]); const reader = blob.stream().pipeThrough( new DecompressionStream(\"deflate\") ).pipeThrough( new TextDecoderStream(\"utf-8\") ).getReader(); const parts = []; while (true) { const step = await reader.read(); if (step.done) { break; } parts.push(step.value); } const tpl = document.createElement('template'); tpl.innerHTML = parts.join(\"\"); _insertNode(tpl.content); } else { _insertNode(contentNode.content); } })(); } else { _insertNode(contentNode.content); } }); </script></treescope-run-here><div style=\"display:none\"> <script type=\"application/octet-stream\" >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</script> <treescope-run-here><script type=\"application/octet-stream\"> const root = ( Array.from(document.getElementsByClassName( \"treescope_out_ee511ed67b034c6f81caf0ff095f0348\")) .filter((elt) => !elt.dataset['step0']) )[0]; root.dataset['step0'] = 1; root.defns.insertContent( this.parentNode.querySelector('script[type=\"application/octet-stream\"]'), true ); this.parentNode.remove(); </script></treescope-run-here> </div>"
      ],
      "text/plain": [
       "<IPython.core.display.HTML object>"
      ]
     },
     "metadata": {},
     "output_type": "display_data"
    },
    {
     "data": {
      "text/html": [
       "<div style=\"display:none\"> <script type=\"application/octet-stream\" >eNq1VMlu2zAQ/ZUBAwQ2oijUYsmKF6BNWiCXHtpDD4ERUOTIZqGIKkUHNYL8e4fykqRb0gK9PGnEeTPzRk+aKn0HndvUOGNKd20tNufQmAYZaDVjlbE3Ciu0FtVNnOdJkmYy4SOV5mVeFkIkmeBiJJELnrD5tGtFQ+jrzUNpaqKLsrR4B/fQh+dwlI1jwfkEHqZn28SeBbIWXTdjT0lsfly7yRfxLXxjrdgMrnkAUQBxAEkAaQCjALIA8gDGARSLAJTbtDjTjUvi4fHSTahBP8/+Qlrn078QHEnSOR5VRa5GKRfpOC9EmWWJjAqeZFH6KPi1AiLuJfDIQ+wh8ZB6GHnIPOQexh4Kgsgzoug/yEsLrrKkwKIQRZqgKngeVyjHJZaoUoz/SV7o534JD2Kq2og/ynEWsZOmxVO7bk5XaL1dpNWtg74AE21baymcNs2ZkQ7daUccccvm0jQdZQm7RHelOpjBNXu9lwNgr/fB0+QXt7qYbCdTRlpjHM3lVroLacqPFH4wCgfDCeymJ/m7pF16+HWNdvMJa5TO2AELDxu68cfsQK2sWN5is6Ou/W0oaTMOL3fh+13Gz+0uanIMEfc1QtoyNupipWs12CeF0mf18zq7xiFVIXvBoEYHmsj0iWuYPr6AsMZm6Vb09ORkSP8Dn7c9fNqJwnc1+tu3mytqtmdf6wU18JzOrK3ES/L5b5dy5H3O4AR+oG/D0CJ9FxI/a7caHKqFlbbdvnevlAiPpxZvzV3/Zh4Oa3pW6Nnuht7NvU3JyL/w8Hc35Mk4</script> <treescope-run-here><script type=\"application/octet-stream\"> const root = ( Array.from(document.getElementsByClassName( \"treescope_out_ee511ed67b034c6f81caf0ff095f0348\")) .filter((elt) => !elt.dataset['step1']) )[0]; root.dataset['step1'] = 1; root.defns.insertContent( this.parentNode.querySelector('script[type=\"application/octet-stream\"]'), true ); this.parentNode.remove(); </script></treescope-run-here> </div>"
      ],
      "text/plain": [
       "<IPython.core.display.HTML object>"
      ]
     },
     "metadata": {},
     "output_type": "display_data"
    },
    {
     "data": {
      "text/html": [
       "<treescope-run-here><script type=\"application/octet-stream\"> const root = ( Array.from(document.getElementsByClassName( \"treescope_out_ee511ed67b034c6f81caf0ff095f0348\")) .filter((elt) => !elt.dataset.stolen) )[0]; root.dataset.stolen = 1; this.parentNode.replaceChild(root, this); </script></treescope-run-here>"
      ],
      "text/plain": [
       "{'a': 1,\n",
       " 'b': <jax.Array([0, 1, 2, 3, 4, 5, 6, 7, 8, 9], dtype=int32)>,\n",
       " 'c': [{'value': <jax.Array([100, 101, 102, 103, 104, 105, 106, 107, 108, 109, 110, 111], dtype=int32)>},\n",
       "  {'value': <jax.Array([100., 100., 100., 100., 100., 100., 100.], dtype=float32)>},\n",
       "  {'value': 103}]}"
      ]
     },
     "execution_count": 10,
     "metadata": {},
     "output_type": "execute_result"
    }
   ],
   "source": [
    "(\n",
    "    pz.select(my_nested_object)\n",
    "      .at(lambda root: root[\"c\"])\n",
    "      .at_instances_of(jax.typing.ArrayLike)\n",
    "      .apply(lambda value: value + 100)\n",
    ")"
   ]
  },
  {
   "cell_type": "markdown",
   "metadata": {
    "id": "4vKkkNk5-cmj"
   },
   "source": [
    "Selectors are first-class objects, defined in `penzai.core.selectors` but aliased to `pz.select` and `pz.Selection`. Internally, they are ordinary PyTrees:\n"
   ]
  },
  {
   "cell_type": "code",
   "execution_count": 11,
   "metadata": {
    "execution": {
     "iopub.execute_input": "2024-08-07T01:46:29.839165Z",
     "iopub.status.busy": "2024-08-07T01:46:29.838889Z",
     "iopub.status.idle": "2024-08-07T01:46:29.854719Z",
     "shell.execute_reply": "2024-08-07T01:46:29.854839Z"
    },
    "id": "Y58Ll7sO_qjo"
   },
   "outputs": [
    {
     "data": {
      "text/html": [
       "<script> (()=>{ if (customElements.get('treescope-container') === undefined) { class TreescopeContainer extends HTMLElement { constructor() { super(); this.attachShadow({mode: \"open\"}); this.defns = {}; this.state = {}; } } customElements.define(\"treescope-container\", TreescopeContainer); } if (customElements.get('treescope-run-here') === undefined) { class RunHere extends HTMLElement { constructor() { super() } connectedCallback() { const run = child => { const fn = new Function(child.textContent); child.textContent = \"\"; fn.call(this); this.remove(); }; const child = this.querySelector(\"script\"); if (child) { run(child); } else { new MutationObserver(()=>{ run(this.querySelector(\"script\")); }).observe(this, {childList: true}); } } } customElements.define(\"treescope-run-here\", RunHere); } })(); </script> <treescope-container class=\"treescope_out_1a4c83dc627247dfa62e0a70f5bf80bd\" ></treescope-container> <treescope-run-here><script type=\"application/octet-stream\"> const root = ( Array.from(document.getElementsByClassName( \"treescope_out_1a4c83dc627247dfa62e0a70f5bf80bd\")) .filter((elt) => !elt.dataset.setup) )[0]; root.dataset.setup = 1; const msg = document.createElement(\"span\"); msg.style = \"color: #cccccc; font-family: monospace;\"; msg.textContent = \"(Loading...)\"; root.state.loadingMsg = msg; root.shadowRoot.appendChild(msg); root.state.chain = new Promise((resolve, reject) => { const observer = new IntersectionObserver((entries) => { for (const entry of entries) { if (entry.isIntersecting) { resolve(); observer.disconnect(); return; } } }, {rootMargin: \"1000px\"}); window.setTimeout(() => { observer.observe(root); }, 0); }); root.state.deferring = false; const _insertNode = (node) => { for (let oldScript of node.querySelectorAll(\"script\")) { let newScript = document.createElement(\"script\"); newScript.type = oldScript.type; newScript.textContent = oldScript.textContent; oldScript.parentNode.replaceChild(newScript, oldScript); } if (root.state.loadingMsg) { root.state.loadingMsg.remove(); root.state.loadingMsg = null; } root.shadowRoot.appendChild(node); }; root.defns.insertContent = ((contentNode, compressed) => { if (compressed) { root.state.deferring = true; } if (root.state.deferring) { root.state.chain = (async () => { await root.state.chain; if (compressed) { const encoded = contentNode.textContent; const blob = new Blob([ Uint8Array.from(atob(encoded), (m) => m.codePointAt(0)) ]); const reader = blob.stream().pipeThrough( new DecompressionStream(\"deflate\") ).pipeThrough( new TextDecoderStream(\"utf-8\") ).getReader(); const parts = []; while (true) { const step = await reader.read(); if (step.done) { break; } parts.push(step.value); } const tpl = document.createElement('template'); tpl.innerHTML = parts.join(\"\"); _insertNode(tpl.content); } else { _insertNode(contentNode.content); } })(); } else { _insertNode(contentNode.content); } }); </script></treescope-run-here><div style=\"display:none\"> <script type=\"application/octet-stream\" >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</script> <treescope-run-here><script type=\"application/octet-stream\"> const root = ( Array.from(document.getElementsByClassName( \"treescope_out_1a4c83dc627247dfa62e0a70f5bf80bd\")) .filter((elt) => !elt.dataset['step0']) )[0]; root.dataset['step0'] = 1; root.defns.insertContent( this.parentNode.querySelector('script[type=\"application/octet-stream\"]'), true ); this.parentNode.remove(); </script></treescope-run-here> </div>"
      ],
      "text/plain": [
       "Selection(\n",
       "  selected_by_path=OrderedDict({\n",
       "    (DictKey(key='c'), SequenceKey(idx=0), DictKey(key='value')):\n",
       "      <jax.Array([ 0,  1,  2,  3,  4,  5,  6,  7,  8,  9, 10, 11], dtype=int32)>,\n",
       "    (DictKey(key='c'), SequenceKey(idx=1), DictKey(key='value')):\n",
       "      <jax.Array([0., 0., 0., 0., 0., 0., 0.], dtype=float32)>,\n",
       "    (DictKey(key='c'), SequenceKey(idx=2), DictKey(key='value')):\n",
       "      3,\n",
       "  }),\n",
       "  remainder={'a': 1, 'b': <jax.Array([0, 1, 2, 3, 4, 5, 6, 7, 8, 9], dtype=int32)>, 'c': [{'value': SelectionHole(path=(DictKey(key='c'), SequenceKey(idx=0), DictKey(key='value')))}, {'value': SelectionHole(path=(DictKey(key='c'), SequenceKey(idx=1), DictKey(key='value')))}, {'value': SelectionHole(path=(DictKey(key='c'), SequenceKey(idx=2), DictKey(key='value')))}]},\n",
       ")"
      ]
     },
     "metadata": {},
     "output_type": "display_data"
    }
   ],
   "source": [
    "my_selection = (\n",
    "    pz.select(my_nested_object)\n",
    "      .at(lambda root: root[\"c\"])\n",
    "      .at_instances_of(jax.typing.ArrayLike)\n",
    ")\n",
    "\n",
    "pz.show(my_selection)"
   ]
  },
  {
   "cell_type": "markdown",
   "metadata": {
    "id": "FJ3OuNUD_lO4"
   },
   "source": [
    "By default, though, selections are rendered in a way that emphasizes what you've selected, so you can tell at a glance that you're making the changes you expect to:"
   ]
  },
  {
   "cell_type": "code",
   "execution_count": 12,
   "metadata": {
    "execution": {
     "iopub.execute_input": "2024-08-07T01:46:29.858471Z",
     "iopub.status.busy": "2024-08-07T01:46:29.858192Z",
     "iopub.status.idle": "2024-08-07T01:46:29.876525Z",
     "shell.execute_reply": "2024-08-07T01:46:29.876336Z"
    },
    "id": "EUD6zd_L-iNr"
   },
   "outputs": [
    {
     "data": {
      "text/html": [
       "<script> (()=>{ if (customElements.get('treescope-container') === undefined) { class TreescopeContainer extends HTMLElement { constructor() { super(); this.attachShadow({mode: \"open\"}); this.defns = {}; this.state = {}; } } customElements.define(\"treescope-container\", TreescopeContainer); } if (customElements.get('treescope-run-here') === undefined) { class RunHere extends HTMLElement { constructor() { super() } connectedCallback() { const run = child => { const fn = new Function(child.textContent); child.textContent = \"\"; fn.call(this); this.remove(); }; const child = this.querySelector(\"script\"); if (child) { run(child); } else { new MutationObserver(()=>{ run(this.querySelector(\"script\")); }).observe(this, {childList: true}); } } } customElements.define(\"treescope-run-here\", RunHere); } })(); </script> <treescope-container class=\"treescope_out_7625f6c254004b5db1ff24b6ecbf5e8b\" ></treescope-container> <treescope-run-here><script type=\"application/octet-stream\"> const root = ( Array.from(document.getElementsByClassName( \"treescope_out_7625f6c254004b5db1ff24b6ecbf5e8b\")) .filter((elt) => !elt.dataset.setup) )[0]; root.dataset.setup = 1; const msg = document.createElement(\"span\"); msg.style = \"color: #cccccc; font-family: monospace;\"; msg.textContent = \"(Loading...)\"; root.state.loadingMsg = msg; root.shadowRoot.appendChild(msg); root.state.chain = new Promise((resolve, reject) => { const observer = new IntersectionObserver((entries) => { for (const entry of entries) { if (entry.isIntersecting) { resolve(); observer.disconnect(); return; } } }, {rootMargin: \"1000px\"}); window.setTimeout(() => { observer.observe(root); }, 0); }); root.state.deferring = false; const _insertNode = (node) => { for (let oldScript of node.querySelectorAll(\"script\")) { let newScript = document.createElement(\"script\"); newScript.type = oldScript.type; newScript.textContent = oldScript.textContent; oldScript.parentNode.replaceChild(newScript, oldScript); } if (root.state.loadingMsg) { root.state.loadingMsg.remove(); root.state.loadingMsg = null; } root.shadowRoot.appendChild(node); }; root.defns.insertContent = ((contentNode, compressed) => { if (compressed) { root.state.deferring = true; } if (root.state.deferring) { root.state.chain = (async () => { await root.state.chain; if (compressed) { const encoded = contentNode.textContent; const blob = new Blob([ Uint8Array.from(atob(encoded), (m) => m.codePointAt(0)) ]); const reader = blob.stream().pipeThrough( new DecompressionStream(\"deflate\") ).pipeThrough( new TextDecoderStream(\"utf-8\") ).getReader(); const parts = []; while (true) { const step = await reader.read(); if (step.done) { break; } parts.push(step.value); } const tpl = document.createElement('template'); tpl.innerHTML = parts.join(\"\"); _insertNode(tpl.content); } else { _insertNode(contentNode.content); } })(); } else { _insertNode(contentNode.content); } }); </script></treescope-run-here><div style=\"display:none\"> <script type=\"application/octet-stream\" >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</script> <treescope-run-here><script type=\"application/octet-stream\"> const root = ( Array.from(document.getElementsByClassName( \"treescope_out_7625f6c254004b5db1ff24b6ecbf5e8b\")) .filter((elt) => !elt.dataset['step0']) )[0]; root.dataset['step0'] = 1; root.defns.insertContent( this.parentNode.querySelector('script[type=\"application/octet-stream\"]'), true ); this.parentNode.remove(); </script></treescope-run-here> </div>"
      ],
      "text/plain": [
       "<IPython.core.display.HTML object>"
      ]
     },
     "metadata": {},
     "output_type": "display_data"
    },
    {
     "data": {
      "text/html": [
       "<div style=\"display:none\"> <script type=\"application/octet-stream\" >eNq1k8tu2zAQRX9lwACBjSiKXrak+AG0SQtk00W76CIIAooc2SwYUaXooEaQf+9QfsRp0zZZdGFZFOfOzBleTqW6h86tNc6YVF2r+focGtMgAyVnrDb2VmKN1qK8LTAflUWVJSKNs3GcltWYF2UV5UUW13lRs/m0a3lDT59vHgqjSc6ryuI9PEC/PIejcZHwKJrA4/RsE9irQGjedTN2KGLzY+0m3/iP8J21fD24jgKIA0gCSAPIAhgFMA4gD6AIoLwJQLp1izPVuDQZHi/chAr0/ez+iHU+fQOwrEYiz5BLWadZEuVVEo3jpByVecQLKeIn4NcCABF4BM/gITyFx/AcHsSTQEmUnjT+D0g8lWVWVKO6FlHGS1FUZZRJOcKaZ2mdj9+OFIUBvPzbt19rw/8K4CxiJ0yLp3bVnC7RelMIq1oHfQLG21YrwZ0yzZkRDt1pRxp+x+bCNB1FcbtAdyU7mME1e71jA2CvP+3D4H/O8Way6UwaYY1x1Jdbqi6kLj/T8pOROBhOYNs94W+DtuHh9xXa9RfUKJyxAxbuJ3Trt9leWlu+uMNmK13511DQZBxebpcftxG/l7vQ5BES7nKENGVs5MVSaTnYBYXCR/X9OrvCIWUhQ8FAowNFYrrICqZPBxBqbBZuSV9PToZ0633cZvOwEi0/aPSv79dXVGynvlY3VMBrOrOyAi/J2X8cypF3NoMT+EW+WYYW6SYI/KrccrDPFtbKdrvaPSkJnnYt3pn7/mQe92N6lujZ7Ibezb1NycgvePgnVnPEhQ==</script> <treescope-run-here><script type=\"application/octet-stream\"> const root = ( Array.from(document.getElementsByClassName( \"treescope_out_7625f6c254004b5db1ff24b6ecbf5e8b\")) .filter((elt) => !elt.dataset['step1']) )[0]; root.dataset['step1'] = 1; root.defns.insertContent( this.parentNode.querySelector('script[type=\"application/octet-stream\"]'), true ); this.parentNode.remove(); </script></treescope-run-here> </div>"
      ],
      "text/plain": [
       "<IPython.core.display.HTML object>"
      ]
     },
     "metadata": {},
     "output_type": "display_data"
    },
    {
     "data": {
      "text/html": [
       "<treescope-run-here><script type=\"application/octet-stream\"> const root = ( Array.from(document.getElementsByClassName( \"treescope_out_7625f6c254004b5db1ff24b6ecbf5e8b\")) .filter((elt) => !elt.dataset.stolen) )[0]; root.dataset.stolen = 1; this.parentNode.replaceChild(root, this); </script></treescope-run-here>"
      ],
      "text/plain": [
       "Selection(\n",
       "  selected_by_path=OrderedDict({\n",
       "    (DictKey(key='c'), SequenceKey(idx=0), DictKey(key='value')):\n",
       "      <jax.Array([ 0,  1,  2,  3,  4,  5,  6,  7,  8,  9, 10, 11], dtype=int32)>,\n",
       "    (DictKey(key='c'), SequenceKey(idx=1), DictKey(key='value')):\n",
       "      <jax.Array([0., 0., 0., 0., 0., 0., 0.], dtype=float32)>,\n",
       "    (DictKey(key='c'), SequenceKey(idx=2), DictKey(key='value')):\n",
       "      3,\n",
       "  }),\n",
       "  remainder={'a': 1, 'b': <jax.Array([0, 1, 2, 3, 4, 5, 6, 7, 8, 9], dtype=int32)>, 'c': [{'value': SelectionHole(path=(DictKey(key='c'), SequenceKey(idx=0), DictKey(key='value')))}, {'value': SelectionHole(path=(DictKey(key='c'), SequenceKey(idx=1), DictKey(key='value')))}, {'value': SelectionHole(path=(DictKey(key='c'), SequenceKey(idx=2), DictKey(key='value')))}]},\n",
       ")"
      ]
     },
     "execution_count": 12,
     "metadata": {},
     "output_type": "execute_result"
    }
   ],
   "source": [
    "my_selection"
   ]
  },
  {
   "cell_type": "markdown",
   "metadata": {
    "id": "Alps_lEFBFq3"
   },
   "source": [
    "(This fancy rendering mode is triggered when you display a single selection after enabling `treescope.register_as_default()`, or when you call `.show_selection()` on a selection object.)"
   ]
  },
  {
   "cell_type": "markdown",
   "metadata": {
    "id": "7UpYotjP-ZIC"
   },
   "source": [
    "## Building selections"
   ]
  },
  {
   "cell_type": "markdown",
   "metadata": {
    "id": "WEBkR8V7EiRr"
   },
   "source": [
    "The penzai selector API is designed around *method chaining*. You generally start by creating a trivial selection containing only a single object, the root object, using `pz.select`:"
   ]
  },
  {
   "cell_type": "code",
   "execution_count": 13,
   "metadata": {
    "execution": {
     "iopub.execute_input": "2024-08-07T01:46:29.883571Z",
     "iopub.status.busy": "2024-08-07T01:46:29.883307Z",
     "iopub.status.idle": "2024-08-07T01:46:29.890661Z",
     "shell.execute_reply": "2024-08-07T01:46:29.890431Z"
    },
    "id": "k3mVVp0-9rL2"
   },
   "outputs": [
    {
     "data": {
      "text/html": [
       "<script> (()=>{ if (customElements.get('treescope-container') === undefined) { class TreescopeContainer extends HTMLElement { constructor() { super(); this.attachShadow({mode: \"open\"}); this.defns = {}; this.state = {}; } } customElements.define(\"treescope-container\", TreescopeContainer); } if (customElements.get('treescope-run-here') === undefined) { class RunHere extends HTMLElement { constructor() { super() } connectedCallback() { const run = child => { const fn = new Function(child.textContent); child.textContent = \"\"; fn.call(this); this.remove(); }; const child = this.querySelector(\"script\"); if (child) { run(child); } else { new MutationObserver(()=>{ run(this.querySelector(\"script\")); }).observe(this, {childList: true}); } } } customElements.define(\"treescope-run-here\", RunHere); } })(); </script> <treescope-container class=\"treescope_out_431bd3086a4049cfb1aa8e7f99e04d6a\" ></treescope-container> <treescope-run-here><script type=\"application/octet-stream\"> const root = ( Array.from(document.getElementsByClassName( \"treescope_out_431bd3086a4049cfb1aa8e7f99e04d6a\")) .filter((elt) => !elt.dataset.setup) )[0]; root.dataset.setup = 1; const msg = document.createElement(\"span\"); msg.style = \"color: #cccccc; font-family: monospace;\"; msg.textContent = \"(Loading...)\"; root.state.loadingMsg = msg; root.shadowRoot.appendChild(msg); root.state.chain = new Promise((resolve, reject) => { const observer = new IntersectionObserver((entries) => { for (const entry of entries) { if (entry.isIntersecting) { resolve(); observer.disconnect(); return; } } }, {rootMargin: \"1000px\"}); window.setTimeout(() => { observer.observe(root); }, 0); }); root.state.deferring = false; const _insertNode = (node) => { for (let oldScript of node.querySelectorAll(\"script\")) { let newScript = document.createElement(\"script\"); newScript.type = oldScript.type; newScript.textContent = oldScript.textContent; oldScript.parentNode.replaceChild(newScript, oldScript); } if (root.state.loadingMsg) { root.state.loadingMsg.remove(); root.state.loadingMsg = null; } root.shadowRoot.appendChild(node); }; root.defns.insertContent = ((contentNode, compressed) => { if (compressed) { root.state.deferring = true; } if (root.state.deferring) { root.state.chain = (async () => { await root.state.chain; if (compressed) { const encoded = contentNode.textContent; const blob = new Blob([ Uint8Array.from(atob(encoded), (m) => m.codePointAt(0)) ]); const reader = blob.stream().pipeThrough( new DecompressionStream(\"deflate\") ).pipeThrough( new TextDecoderStream(\"utf-8\") ).getReader(); const parts = []; while (true) { const step = await reader.read(); if (step.done) { break; } parts.push(step.value); } const tpl = document.createElement('template'); tpl.innerHTML = parts.join(\"\"); _insertNode(tpl.content); } else { _insertNode(contentNode.content); } })(); } else { _insertNode(contentNode.content); } }); </script></treescope-run-here><div style=\"display:none\"> <script type=\"application/octet-stream\" >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</script> <treescope-run-here><script type=\"application/octet-stream\"> const root = ( Array.from(document.getElementsByClassName( \"treescope_out_431bd3086a4049cfb1aa8e7f99e04d6a\")) .filter((elt) => !elt.dataset['step0']) )[0]; root.dataset['step0'] = 1; root.defns.insertContent( this.parentNode.querySelector('script[type=\"application/octet-stream\"]'), true ); this.parentNode.remove(); </script></treescope-run-here> </div>"
      ],
      "text/plain": [
       "<IPython.core.display.HTML object>"
      ]
     },
     "metadata": {},
     "output_type": "display_data"
    },
    {
     "data": {
      "text/html": [
       "<div style=\"display:none\"> <script type=\"application/octet-stream\" >eNq1k01v2zAMhv8KoQJFgjqu7TiJ03wAW7sBveywHXYoikKWqESDanmyEiwo+t9HOR9Nt25rDzvEsSy+JB/q1VTqNTR+Y3DGpG5qwzcXUNkKGWg5Y8q6O4kKnUN5h2KYpFwpMRyM8iwblUqkOBiPxQDzYjDibD5tal7RM+Sbx8IakvOydLiGB2iXF3AyLDKeJBN4nJ5vA1sVCMObZsaORWx+avzkG/8Rv3OObzo3SQRpBFkE/QjyCAYRDCMYRVBEML6NQPpNjTNd+X7WPV34CRVo+9n/Eet8+gbgkg9lMVKqT3B5P8Ui5ypNcpFgxtMywyfg1wIAEQSEwBAgAkXACBwBJJDAmCgDafofkEQpUp7nMkNV5H1eFoXiRab4OB+qUZHlb0dK4ghe/h3aV8byvwJ4h9gIW2PPrareEl0whXC69tAmYLyujRbca1udW+HR9xrS8Hs2F7ZqKIq7Bfpr2cAMbtjrHRsBe/1pHwf/c463k21n0gpnrae+/FI3MXX5mZafrMROdwK77gl/F7QLj7+v0G2+oEHhreuw+DChu7DNDlLl+OIeq510FV5jQZPxeLVbftxF/F7u0pBHSLjPEdOUsZKXS21kZx8UixDV9uvdCruUhQwFHYMeNInpImuYPh1AbLBa+CV9PTvr0q0PcdvN40q0/GAwvL7fXFOxvfpG31KBoGnsygm8Imf/cSgnwdkMzuAX+XYZO6SbIPCr9svOIVustGv2tVtSEjztOry36/ZkHg9jepbo2ey6wc2tTcnIL3j4J0Bvxpc=</script> <treescope-run-here><script type=\"application/octet-stream\"> const root = ( Array.from(document.getElementsByClassName( \"treescope_out_431bd3086a4049cfb1aa8e7f99e04d6a\")) .filter((elt) => !elt.dataset['step1']) )[0]; root.dataset['step1'] = 1; root.defns.insertContent( this.parentNode.querySelector('script[type=\"application/octet-stream\"]'), true ); this.parentNode.remove(); </script></treescope-run-here> </div>"
      ],
      "text/plain": [
       "<IPython.core.display.HTML object>"
      ]
     },
     "metadata": {},
     "output_type": "display_data"
    },
    {
     "data": {
      "text/html": [
       "<treescope-run-here><script type=\"application/octet-stream\"> const root = ( Array.from(document.getElementsByClassName( \"treescope_out_431bd3086a4049cfb1aa8e7f99e04d6a\")) .filter((elt) => !elt.dataset.stolen) )[0]; root.dataset.stolen = 1; this.parentNode.replaceChild(root, this); </script></treescope-run-here>"
      ],
      "text/plain": [
       "Selection(\n",
       "  selected_by_path=OrderedDict({\n",
       "    (): {\n",
       "      'a': 1,\n",
       "      'b': <jax.Array([0, 1, 2, 3, 4, 5, 6, 7, 8, 9], dtype=int32)>,\n",
       "      'c': [\n",
       "        {\n",
       "          'value': <jax.Array([ 0,  1,  2,  3,  4,  5,  6,  7,  8,  9, 10, 11], dtype=int32)>,\n",
       "        },\n",
       "        {\n",
       "          'value': <jax.Array([0., 0., 0., 0., 0., 0., 0.], dtype=float32)>,\n",
       "        },\n",
       "        {'value': 3},\n",
       "      ],\n",
       "    },\n",
       "  }),\n",
       "  remainder=SelectionHole(path=()),\n",
       ")"
      ]
     },
     "execution_count": 13,
     "metadata": {},
     "output_type": "execute_result"
    }
   ],
   "source": [
    "pz.select(my_nested_object)"
   ]
  },
  {
   "cell_type": "markdown",
   "metadata": {
    "id": "NcmUj1AF3xS1"
   },
   "source": [
    "You can also use the `.select()` attribute if you know your root object is a subclass of `pz.Struct`:"
   ]
  },
  {
   "cell_type": "code",
   "execution_count": 14,
   "metadata": {
    "execution": {
     "iopub.execute_input": "2024-08-07T01:46:29.895825Z",
     "iopub.status.busy": "2024-08-07T01:46:29.895584Z",
     "iopub.status.idle": "2024-08-07T01:46:29.900146Z",
     "shell.execute_reply": "2024-08-07T01:46:29.900270Z"
    },
    "id": "jqw3QPx9EzjR"
   },
   "outputs": [
    {
     "data": {
      "text/html": [
       "<script> (()=>{ if (customElements.get('treescope-container') === undefined) { class TreescopeContainer extends HTMLElement { constructor() { super(); this.attachShadow({mode: \"open\"}); this.defns = {}; this.state = {}; } } customElements.define(\"treescope-container\", TreescopeContainer); } if (customElements.get('treescope-run-here') === undefined) { class RunHere extends HTMLElement { constructor() { super() } connectedCallback() { const run = child => { const fn = new Function(child.textContent); child.textContent = \"\"; fn.call(this); this.remove(); }; const child = this.querySelector(\"script\"); if (child) { run(child); } else { new MutationObserver(()=>{ run(this.querySelector(\"script\")); }).observe(this, {childList: true}); } } } customElements.define(\"treescope-run-here\", RunHere); } })(); </script> <treescope-container class=\"treescope_out_196c7ccf442a4fd091cda90eb907ac50\" ></treescope-container> <treescope-run-here><script type=\"application/octet-stream\"> const root = ( Array.from(document.getElementsByClassName( \"treescope_out_196c7ccf442a4fd091cda90eb907ac50\")) .filter((elt) => !elt.dataset.setup) )[0]; root.dataset.setup = 1; const msg = document.createElement(\"span\"); msg.style = \"color: #cccccc; font-family: monospace;\"; msg.textContent = \"(Loading...)\"; root.state.loadingMsg = msg; root.shadowRoot.appendChild(msg); root.state.chain = new Promise((resolve, reject) => { const observer = new IntersectionObserver((entries) => { for (const entry of entries) { if (entry.isIntersecting) { resolve(); observer.disconnect(); return; } } }, {rootMargin: \"1000px\"}); window.setTimeout(() => { observer.observe(root); }, 0); }); root.state.deferring = false; const _insertNode = (node) => { for (let oldScript of node.querySelectorAll(\"script\")) { let newScript = document.createElement(\"script\"); newScript.type = oldScript.type; newScript.textContent = oldScript.textContent; oldScript.parentNode.replaceChild(newScript, oldScript); } if (root.state.loadingMsg) { root.state.loadingMsg.remove(); root.state.loadingMsg = null; } root.shadowRoot.appendChild(node); }; root.defns.insertContent = ((contentNode, compressed) => { if (compressed) { root.state.deferring = true; } if (root.state.deferring) { root.state.chain = (async () => { await root.state.chain; if (compressed) { const encoded = contentNode.textContent; const blob = new Blob([ Uint8Array.from(atob(encoded), (m) => m.codePointAt(0)) ]); const reader = blob.stream().pipeThrough( new DecompressionStream(\"deflate\") ).pipeThrough( new TextDecoderStream(\"utf-8\") ).getReader(); const parts = []; while (true) { const step = await reader.read(); if (step.done) { break; } parts.push(step.value); } const tpl = document.createElement('template'); tpl.innerHTML = parts.join(\"\"); _insertNode(tpl.content); } else { _insertNode(contentNode.content); } })(); } else { _insertNode(contentNode.content); } }); </script></treescope-run-here><div style=\"display:none\"> <script type=\"application/octet-stream\" >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</script> <treescope-run-here><script type=\"application/octet-stream\"> const root = ( Array.from(document.getElementsByClassName( \"treescope_out_196c7ccf442a4fd091cda90eb907ac50\")) .filter((elt) => !elt.dataset['step0']) )[0]; root.dataset['step0'] = 1; root.defns.insertContent( this.parentNode.querySelector('script[type=\"application/octet-stream\"]'), true ); this.parentNode.remove(); </script></treescope-run-here> </div>"
      ],
      "text/plain": [
       "<IPython.core.display.HTML object>"
      ]
     },
     "metadata": {},
     "output_type": "display_data"
    },
    {
     "data": {
      "text/html": [
       "<treescope-run-here><script type=\"application/octet-stream\"> const root = ( Array.from(document.getElementsByClassName( \"treescope_out_196c7ccf442a4fd091cda90eb907ac50\")) .filter((elt) => !elt.dataset.stolen) )[0]; root.dataset.stolen = 1; this.parentNode.replaceChild(root, this); </script></treescope-run-here>"
      ],
      "text/plain": [
       "Selection(\n",
       "  selected_by_path=OrderedDict({(): MyStruct(foo=4)}),\n",
       "  remainder=SelectionHole(path=()),\n",
       ")"
      ]
     },
     "execution_count": 14,
     "metadata": {},
     "output_type": "execute_result"
    }
   ],
   "source": [
    "@pz.pytree_dataclass\n",
    "class MyStruct(pz.Struct):\n",
    "  foo: typing.Any\n",
    "\n",
    "MyStruct(4).select()"
   ]
  },
  {
   "cell_type": "markdown",
   "metadata": {
    "id": "tTKPVIUrFbeT"
   },
   "source": [
    "You then call methods on the selection to *refine* it to a subset of the currently selected values. These methods all operate relative to the currently selected object, so if you chain them, each method's output is restricted to the values selected by the previous method."
   ]
  },
  {
   "cell_type": "markdown",
   "metadata": {
    "id": "cFdUT5KaFju9"
   },
   "source": [
    "### Selecting with a function\n",
    "If you want to select a specific part of a tree, you can use `selection.at(...)`. The `.at` method takes as input a *function* that extracts the part you want to select, and returns a new selection that selects the extracted part:"
   ]
  },
  {
   "cell_type": "code",
   "execution_count": 15,
   "metadata": {
    "execution": {
     "iopub.execute_input": "2024-08-07T01:46:29.906763Z",
     "iopub.status.busy": "2024-08-07T01:46:29.906522Z",
     "iopub.status.idle": "2024-08-07T01:46:29.914601Z",
     "shell.execute_reply": "2024-08-07T01:46:29.914424Z"
    },
    "id": "8ZgPZeKeGDzQ"
   },
   "outputs": [
    {
     "data": {
      "text/html": [
       "<script> (()=>{ if (customElements.get('treescope-container') === undefined) { class TreescopeContainer extends HTMLElement { constructor() { super(); this.attachShadow({mode: \"open\"}); this.defns = {}; this.state = {}; } } customElements.define(\"treescope-container\", TreescopeContainer); } if (customElements.get('treescope-run-here') === undefined) { class RunHere extends HTMLElement { constructor() { super() } connectedCallback() { const run = child => { const fn = new Function(child.textContent); child.textContent = \"\"; fn.call(this); this.remove(); }; const child = this.querySelector(\"script\"); if (child) { run(child); } else { new MutationObserver(()=>{ run(this.querySelector(\"script\")); }).observe(this, {childList: true}); } } } customElements.define(\"treescope-run-here\", RunHere); } })(); </script> <treescope-container class=\"treescope_out_a7c51514834c4a0e97fb77e9f6077b9f\" ></treescope-container> <treescope-run-here><script type=\"application/octet-stream\"> const root = ( Array.from(document.getElementsByClassName( \"treescope_out_a7c51514834c4a0e97fb77e9f6077b9f\")) .filter((elt) => !elt.dataset.setup) )[0]; root.dataset.setup = 1; const msg = document.createElement(\"span\"); msg.style = \"color: #cccccc; font-family: monospace;\"; msg.textContent = \"(Loading...)\"; root.state.loadingMsg = msg; root.shadowRoot.appendChild(msg); root.state.chain = new Promise((resolve, reject) => { const observer = new IntersectionObserver((entries) => { for (const entry of entries) { if (entry.isIntersecting) { resolve(); observer.disconnect(); return; } } }, {rootMargin: \"1000px\"}); window.setTimeout(() => { observer.observe(root); }, 0); }); root.state.deferring = false; const _insertNode = (node) => { for (let oldScript of node.querySelectorAll(\"script\")) { let newScript = document.createElement(\"script\"); newScript.type = oldScript.type; newScript.textContent = oldScript.textContent; oldScript.parentNode.replaceChild(newScript, oldScript); } if (root.state.loadingMsg) { root.state.loadingMsg.remove(); root.state.loadingMsg = null; } root.shadowRoot.appendChild(node); }; root.defns.insertContent = ((contentNode, compressed) => { if (compressed) { root.state.deferring = true; } if (root.state.deferring) { root.state.chain = (async () => { await root.state.chain; if (compressed) { const encoded = contentNode.textContent; const blob = new Blob([ Uint8Array.from(atob(encoded), (m) => m.codePointAt(0)) ]); const reader = blob.stream().pipeThrough( new DecompressionStream(\"deflate\") ).pipeThrough( new TextDecoderStream(\"utf-8\") ).getReader(); const parts = []; while (true) { const step = await reader.read(); if (step.done) { break; } parts.push(step.value); } const tpl = document.createElement('template'); tpl.innerHTML = parts.join(\"\"); _insertNode(tpl.content); } else { _insertNode(contentNode.content); } })(); } else { _insertNode(contentNode.content); } }); </script></treescope-run-here><div style=\"display:none\"> <script type=\"application/octet-stream\" >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</script> <treescope-run-here><script type=\"application/octet-stream\"> const root = ( Array.from(document.getElementsByClassName( \"treescope_out_a7c51514834c4a0e97fb77e9f6077b9f\")) .filter((elt) => !elt.dataset['step0']) )[0]; root.dataset['step0'] = 1; root.defns.insertContent( this.parentNode.querySelector('script[type=\"application/octet-stream\"]'), true ); this.parentNode.remove(); </script></treescope-run-here> </div>"
      ],
      "text/plain": [
       "<IPython.core.display.HTML object>"
      ]
     },
     "metadata": {},
     "output_type": "display_data"
    },
    {
     "data": {
      "text/html": [
       "<div style=\"display:none\"> <script type=\"application/octet-stream\" >eNq1k01v2zAMhv8KoQFFgrqu49ix3XwAW7sBveywHXYoikKWqESDanmyUiwY+t9HOR9tt25rDzvEsSy+JB/q1UzqO+j8xuCcSd21hm/OoLENMtByzpR1NxIVOofypsyyosqzRORFkmWjEU/yciSVKopKlllesMWsa3lDz5BvEQtrSM7r2uEd/IB+eQZvJmXKk2QK97PTbWCvAmF4183ZYxFbHBk//cq/x2+d45vBVRLBKII0gnEEWQR5BJMIigjKCKrrCKTftDjXjR+nw6Oln1KBvp/9H7EuZq8AzhIl00zIapLxbFKIWqTjRKlaVaJQss4fgF8KAEQQEAJDgAgUASNwBJBAAhVRBtLRf0BCzFMhkprnozRLKiyFKnlWT1SRpxM1Fq9HSuIInv8d2lfG8r8CeIfYCdviiVs3Jyt0wRTC6dZDn4DxtjVacK9tc2qFR3/SkYbfsoWwTUdR3C3RX8oO5nDFXu7YCNjLT/tx8D/neD3ddiatcNZ66suvdBdTl59o+dFKHAynsOue8HdBu/D42xrd5jMaFN66AYsPE7oJ2+wgVY4vb7HZSdfhNRY0GY8Xu+WHXcTv5c4NeYSE+xwxTRkbeb7SRg72QbEIUX2/3q1xSFnIUDAw6EGTmC6yhtnDAcQGm6Vf0dfj4yHd+hC33XxciZbvDYbXd5tLKrZXX+lrKhA0nV07gRfk7D8O5U1wNoNj+EW+XcYO6SYI/KL9anDIFivtun3tnpQED7sOb+1dfzL3hzE9SfRkdsPg5t6mZORnPPwT/cnE0w==</script> <treescope-run-here><script type=\"application/octet-stream\"> const root = ( Array.from(document.getElementsByClassName( \"treescope_out_a7c51514834c4a0e97fb77e9f6077b9f\")) .filter((elt) => !elt.dataset['step1']) )[0]; root.dataset['step1'] = 1; root.defns.insertContent( this.parentNode.querySelector('script[type=\"application/octet-stream\"]'), true ); this.parentNode.remove(); </script></treescope-run-here> </div>"
      ],
      "text/plain": [
       "<IPython.core.display.HTML object>"
      ]
     },
     "metadata": {},
     "output_type": "display_data"
    },
    {
     "data": {
      "text/html": [
       "<treescope-run-here><script type=\"application/octet-stream\"> const root = ( Array.from(document.getElementsByClassName( \"treescope_out_a7c51514834c4a0e97fb77e9f6077b9f\")) .filter((elt) => !elt.dataset.stolen) )[0]; root.dataset.stolen = 1; this.parentNode.replaceChild(root, this); </script></treescope-run-here>"
      ],
      "text/plain": [
       "Selection(\n",
       "  selected_by_path=OrderedDict({\n",
       "    (DictKey(key='c'),):\n",
       "      [\n",
       "        {\n",
       "          'value': <jax.Array([ 0,  1,  2,  3,  4,  5,  6,  7,  8,  9, 10, 11], dtype=int32)>,\n",
       "        },\n",
       "        {'value': <jax.Array([0., 0., 0., 0., 0., 0., 0.], dtype=float32)>},\n",
       "        {'value': 3},\n",
       "      ],\n",
       "  }),\n",
       "  remainder={\n",
       "    'a': 1,\n",
       "    'b': <jax.Array([0, 1, 2, 3, 4, 5, 6, 7, 8, 9], dtype=int32)>,\n",
       "    'c': SelectionHole(path=(DictKey(key='c'),)),\n",
       "  },\n",
       ")"
      ]
     },
     "execution_count": 15,
     "metadata": {},
     "output_type": "execute_result"
    }
   ],
   "source": [
    "pz.select(my_nested_object).at(lambda root: root[\"c\"])"
   ]
  },
  {
   "cell_type": "code",
   "execution_count": 16,
   "metadata": {
    "execution": {
     "iopub.execute_input": "2024-08-07T01:46:29.921338Z",
     "iopub.status.busy": "2024-08-07T01:46:29.921069Z",
     "iopub.status.idle": "2024-08-07T01:46:29.929794Z",
     "shell.execute_reply": "2024-08-07T01:46:29.929601Z"
    },
    "id": "dAO2KhdyGFZ5"
   },
   "outputs": [
    {
     "data": {
      "text/html": [
       "<script> (()=>{ if (customElements.get('treescope-container') === undefined) { class TreescopeContainer extends HTMLElement { constructor() { super(); this.attachShadow({mode: \"open\"}); this.defns = {}; this.state = {}; } } customElements.define(\"treescope-container\", TreescopeContainer); } if (customElements.get('treescope-run-here') === undefined) { class RunHere extends HTMLElement { constructor() { super() } connectedCallback() { const run = child => { const fn = new Function(child.textContent); child.textContent = \"\"; fn.call(this); this.remove(); }; const child = this.querySelector(\"script\"); if (child) { run(child); } else { new MutationObserver(()=>{ run(this.querySelector(\"script\")); }).observe(this, {childList: true}); } } } customElements.define(\"treescope-run-here\", RunHere); } })(); </script> <treescope-container class=\"treescope_out_8eb408a5663741aba73e1cefd361284e\" ></treescope-container> <treescope-run-here><script type=\"application/octet-stream\"> const root = ( Array.from(document.getElementsByClassName( \"treescope_out_8eb408a5663741aba73e1cefd361284e\")) .filter((elt) => !elt.dataset.setup) )[0]; root.dataset.setup = 1; const msg = document.createElement(\"span\"); msg.style = \"color: #cccccc; font-family: monospace;\"; msg.textContent = \"(Loading...)\"; root.state.loadingMsg = msg; root.shadowRoot.appendChild(msg); root.state.chain = new Promise((resolve, reject) => { const observer = new IntersectionObserver((entries) => { for (const entry of entries) { if (entry.isIntersecting) { resolve(); observer.disconnect(); return; } } }, {rootMargin: \"1000px\"}); window.setTimeout(() => { observer.observe(root); }, 0); }); root.state.deferring = false; const _insertNode = (node) => { for (let oldScript of node.querySelectorAll(\"script\")) { let newScript = document.createElement(\"script\"); newScript.type = oldScript.type; newScript.textContent = oldScript.textContent; oldScript.parentNode.replaceChild(newScript, oldScript); } if (root.state.loadingMsg) { root.state.loadingMsg.remove(); root.state.loadingMsg = null; } root.shadowRoot.appendChild(node); }; root.defns.insertContent = ((contentNode, compressed) => { if (compressed) { root.state.deferring = true; } if (root.state.deferring) { root.state.chain = (async () => { await root.state.chain; if (compressed) { const encoded = contentNode.textContent; const blob = new Blob([ Uint8Array.from(atob(encoded), (m) => m.codePointAt(0)) ]); const reader = blob.stream().pipeThrough( new DecompressionStream(\"deflate\") ).pipeThrough( new TextDecoderStream(\"utf-8\") ).getReader(); const parts = []; while (true) { const step = await reader.read(); if (step.done) { break; } parts.push(step.value); } const tpl = document.createElement('template'); tpl.innerHTML = parts.join(\"\"); _insertNode(tpl.content); } else { _insertNode(contentNode.content); } })(); } else { _insertNode(contentNode.content); } }); </script></treescope-run-here><div style=\"display:none\"> <script type=\"application/octet-stream\" >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</script> <treescope-run-here><script type=\"application/octet-stream\"> const root = ( Array.from(document.getElementsByClassName( \"treescope_out_8eb408a5663741aba73e1cefd361284e\")) .filter((elt) => !elt.dataset['step0']) )[0]; root.dataset['step0'] = 1; root.defns.insertContent( this.parentNode.querySelector('script[type=\"application/octet-stream\"]'), true ); this.parentNode.remove(); </script></treescope-run-here> </div>"
      ],
      "text/plain": [
       "<IPython.core.display.HTML object>"
      ]
     },
     "metadata": {},
     "output_type": "display_data"
    },
    {
     "data": {
      "text/html": [
       "<div style=\"display:none\"> <script type=\"application/octet-stream\" >eNq1k8tu2zAQRX9loACBjSiKXpbM+AG0SQtk00W76CIIAooc2SwYUaXooEaQf+9QfsRp0zZZdGFZFOfOzBleTqW6h86tNc4CqbpW8/U5NKbBAJScBbWxtxJrtBblbc2ShFVJWYwqkWcZZ+mozItUZgnLWTWugvm0a3lDT59vHgmjSc6ryuI9PEC/PIejYpzyOJ7A4/RsE9irQGjedbPgUBTMj7WbfOM/onfW8vXgOg4hCSENIQshD2EUQhFCGcI4BHYTgnTrFmeqcVk6PF64CRXo+9n9Eet8+gZgHldZysu0qlmRJwkyXrBa1LwseFHlI/YE/FoAIAKP4Bk8hKfwGJ7Dg3gSYETpSZP/gJSWY5mXjJ5xnJd5xYpM4JiXTCQyl5V4O1IchfDyb99+rQ3/K4CziJ0wLZ7aVXO6ROtNIaxqHfQJAt62WgnulGnOjHDoTjvS8LtgLkzTURS3C3RXsoMZXAevd2wIwetP+zD4n3O8mWw6k0ZYYxz15Zaqi6jLz7T8ZCQOhhPYdk/426BtePR9hXb9BTUKZ+wgiPYTuvXbwV5aW764w2YrXfnXSNBkHF5ulx+3Eb+Xu9DkERLuckQ0ZWzkxVJpOdgFRcJH9f06u8IhZSFDwUCjA0ViusgKpk8HEGlsFm5JX09OhnTrfdxm87ASLT9o9K/v11dUbKe+VjdUwGs6s7ICL8nZfxzKkXd2ACfwi3yzjCzSTRD4VbnlYJ8tqpXtdrV7UhI87Vq8M/f9yTzux/Qs0bPZDb2be5uSkV/w8E9VNsNt</script> <treescope-run-here><script type=\"application/octet-stream\"> const root = ( Array.from(document.getElementsByClassName( \"treescope_out_8eb408a5663741aba73e1cefd361284e\")) .filter((elt) => !elt.dataset['step1']) )[0]; root.dataset['step1'] = 1; root.defns.insertContent( this.parentNode.querySelector('script[type=\"application/octet-stream\"]'), true ); this.parentNode.remove(); </script></treescope-run-here> </div>"
      ],
      "text/plain": [
       "<IPython.core.display.HTML object>"
      ]
     },
     "metadata": {},
     "output_type": "display_data"
    },
    {
     "data": {
      "text/html": [
       "<treescope-run-here><script type=\"application/octet-stream\"> const root = ( Array.from(document.getElementsByClassName( \"treescope_out_8eb408a5663741aba73e1cefd361284e\")) .filter((elt) => !elt.dataset.stolen) )[0]; root.dataset.stolen = 1; this.parentNode.replaceChild(root, this); </script></treescope-run-here>"
      ],
      "text/plain": [
       "Selection(\n",
       "  selected_by_path=OrderedDict({\n",
       "    (DictKey(key='c'), SequenceKey(idx=1), DictKey(key='value')):\n",
       "      <jax.Array([0., 0., 0., 0., 0., 0., 0.], dtype=float32)>,\n",
       "  }),\n",
       "  remainder={\n",
       "    'a': 1,\n",
       "    'b': <jax.Array([0, 1, 2, 3, 4, 5, 6, 7, 8, 9], dtype=int32)>,\n",
       "    'c': [\n",
       "      {\n",
       "        'value': <jax.Array([ 0,  1,  2,  3,  4,  5,  6,  7,  8,  9, 10, 11], dtype=int32)>,\n",
       "      },\n",
       "      {'value': SelectionHole(path=(DictKey(key='c'), SequenceKey(idx=1), DictKey(key='value')))},\n",
       "      {'value': 3},\n",
       "    ],\n",
       "  },\n",
       ")"
      ]
     },
     "execution_count": 16,
     "metadata": {},
     "output_type": "execute_result"
    }
   ],
   "source": [
    "pz.select(my_nested_object).at(lambda root: root[\"c\"][1][\"value\"])"
   ]
  },
  {
   "cell_type": "code",
   "execution_count": 17,
   "metadata": {
    "execution": {
     "iopub.execute_input": "2024-08-07T01:46:29.935907Z",
     "iopub.status.busy": "2024-08-07T01:46:29.935674Z",
     "iopub.status.idle": "2024-08-07T01:46:29.944192Z",
     "shell.execute_reply": "2024-08-07T01:46:29.944019Z"
    },
    "id": "go9pWFfoGHHz"
   },
   "outputs": [
    {
     "data": {
      "text/html": [
       "<script> (()=>{ if (customElements.get('treescope-container') === undefined) { class TreescopeContainer extends HTMLElement { constructor() { super(); this.attachShadow({mode: \"open\"}); this.defns = {}; this.state = {}; } } customElements.define(\"treescope-container\", TreescopeContainer); } if (customElements.get('treescope-run-here') === undefined) { class RunHere extends HTMLElement { constructor() { super() } connectedCallback() { const run = child => { const fn = new Function(child.textContent); child.textContent = \"\"; fn.call(this); this.remove(); }; const child = this.querySelector(\"script\"); if (child) { run(child); } else { new MutationObserver(()=>{ run(this.querySelector(\"script\")); }).observe(this, {childList: true}); } } } customElements.define(\"treescope-run-here\", RunHere); } })(); </script> <treescope-container class=\"treescope_out_5fd4519418a642419cbacf46cea9d762\" ></treescope-container> <treescope-run-here><script type=\"application/octet-stream\"> const root = ( Array.from(document.getElementsByClassName( \"treescope_out_5fd4519418a642419cbacf46cea9d762\")) .filter((elt) => !elt.dataset.setup) )[0]; root.dataset.setup = 1; const msg = document.createElement(\"span\"); msg.style = \"color: #cccccc; font-family: monospace;\"; msg.textContent = \"(Loading...)\"; root.state.loadingMsg = msg; root.shadowRoot.appendChild(msg); root.state.chain = new Promise((resolve, reject) => { const observer = new IntersectionObserver((entries) => { for (const entry of entries) { if (entry.isIntersecting) { resolve(); observer.disconnect(); return; } } }, {rootMargin: \"1000px\"}); window.setTimeout(() => { observer.observe(root); }, 0); }); root.state.deferring = false; const _insertNode = (node) => { for (let oldScript of node.querySelectorAll(\"script\")) { let newScript = document.createElement(\"script\"); newScript.type = oldScript.type; newScript.textContent = oldScript.textContent; oldScript.parentNode.replaceChild(newScript, oldScript); } if (root.state.loadingMsg) { root.state.loadingMsg.remove(); root.state.loadingMsg = null; } root.shadowRoot.appendChild(node); }; root.defns.insertContent = ((contentNode, compressed) => { if (compressed) { root.state.deferring = true; } if (root.state.deferring) { root.state.chain = (async () => { await root.state.chain; if (compressed) { const encoded = contentNode.textContent; const blob = new Blob([ Uint8Array.from(atob(encoded), (m) => m.codePointAt(0)) ]); const reader = blob.stream().pipeThrough( new DecompressionStream(\"deflate\") ).pipeThrough( new TextDecoderStream(\"utf-8\") ).getReader(); const parts = []; while (true) { const step = await reader.read(); if (step.done) { break; } parts.push(step.value); } const tpl = document.createElement('template'); tpl.innerHTML = parts.join(\"\"); _insertNode(tpl.content); } else { _insertNode(contentNode.content); } })(); } else { _insertNode(contentNode.content); } }); </script></treescope-run-here><div style=\"display:none\"> <script type=\"application/octet-stream\" >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</script> <treescope-run-here><script type=\"application/octet-stream\"> const root = ( Array.from(document.getElementsByClassName( \"treescope_out_5fd4519418a642419cbacf46cea9d762\")) .filter((elt) => !elt.dataset['step0']) )[0]; root.dataset['step0'] = 1; root.defns.insertContent( this.parentNode.querySelector('script[type=\"application/octet-stream\"]'), true ); this.parentNode.remove(); </script></treescope-run-here> </div>"
      ],
      "text/plain": [
       "<IPython.core.display.HTML object>"
      ]
     },
     "metadata": {},
     "output_type": "display_data"
    },
    {
     "data": {
      "text/html": [
       "<div style=\"display:none\"> <script type=\"application/octet-stream\" >eNq1k01v2zAMhv8KoQFFgrpubMtJ3HwAW7sBveywHXYoikKRqESDanmyUiwY+t9HOR9tt25rDzvEsSy+JB/q1VSZO2jDxuKMKdM2VmzOoHY1MjBqxrTzNwo1eo/qpqp0PlSiwmqMXHFeZRqHWiPPucp5odl82jaipmfMN0+lsyQXi4XHO/gB3fIM3gzHuRgMJnA/Pd0GdiqQVrTtjD0WsfmRDZOv4nv61nux6V0NEsgSyBMoEuAJlAkMExglME6guk5AhU2DM1OHIu8fLcOECnT97P+IdT59BfBoxAvOs1G+EJrzQTUuK4VlxguZ5cWAlw/ALwUAIogIkSFCRIqIETkiSCSBiigjafYfkLKFEJUalRzLIc/UuCqExlGpVaH1WOrh65EGaQLP/w7ta+vEXwGCR2yla/DEr+uTFfpoCulNE6BLwETTWCNFMK4+dTJgOGlJI27ZXLq6pSjhlxguVQszuGIvd2wC7OWn/Tj4n3O8nmw7U0565wL1FVamTanLT7T86BT2+hPYdU/4u6BdePptjX7zGS3K4HyPpYcJ3cRtdpBqL5a3WO+k6/iaSppMwIvd8sMu4vdy55Y8QsJ9jpSmjLU6XxmrevugVMaort/g19inLGQo6FkMYEhMF9nA9OEAUov1Mqzo6/Fxn259jNtuPq5Ey/cW4+u7zSUV26uvzDUViJrWrb3EC3L2H4fyJjqbwTH8It8uU490EyR+MWHVO2RLtfHtvnZHSoKHXY+37q47mfvDmJ4kejK7fnRzZ1My8jMe/gmlRcRR</script> <treescope-run-here><script type=\"application/octet-stream\"> const root = ( Array.from(document.getElementsByClassName( \"treescope_out_5fd4519418a642419cbacf46cea9d762\")) .filter((elt) => !elt.dataset['step1']) )[0]; root.dataset['step1'] = 1; root.defns.insertContent( this.parentNode.querySelector('script[type=\"application/octet-stream\"]'), true ); this.parentNode.remove(); </script></treescope-run-here> </div>"
      ],
      "text/plain": [
       "<IPython.core.display.HTML object>"
      ]
     },
     "metadata": {},
     "output_type": "display_data"
    },
    {
     "data": {
      "text/html": [
       "<treescope-run-here><script type=\"application/octet-stream\"> const root = ( Array.from(document.getElementsByClassName( \"treescope_out_5fd4519418a642419cbacf46cea9d762\")) .filter((elt) => !elt.dataset.stolen) )[0]; root.dataset.stolen = 1; this.parentNode.replaceChild(root, this); </script></treescope-run-here>"
      ],
      "text/plain": [
       "Selection(\n",
       "  selected_by_path=OrderedDict({\n",
       "    (DictKey(key='b'),):\n",
       "      <jax.Array([0, 1, 2, 3, 4, 5, 6, 7, 8, 9], dtype=int32)>,\n",
       "  }),\n",
       "  remainder={\n",
       "    'a': 1,\n",
       "    'b': SelectionHole(path=(DictKey(key='b'),)),\n",
       "    'c': [\n",
       "      {\n",
       "        'value': <jax.Array([ 0,  1,  2,  3,  4,  5,  6,  7,  8,  9, 10, 11], dtype=int32)>,\n",
       "      },\n",
       "      {'value': <jax.Array([0., 0., 0., 0., 0., 0., 0.], dtype=float32)>},\n",
       "      {'value': 3},\n",
       "    ],\n",
       "  },\n",
       ")"
      ]
     },
     "execution_count": 17,
     "metadata": {},
     "output_type": "execute_result"
    }
   ],
   "source": [
    "pz.select(my_nested_object).at(lambda root: root[\"b\"])"
   ]
  },
  {
   "cell_type": "markdown",
   "metadata": {
    "id": "Oq9Cy6ZGGedV"
   },
   "source": [
    "You can pass `multiple=True` to select multiple nodes:"
   ]
  },
  {
   "cell_type": "code",
   "execution_count": 18,
   "metadata": {
    "execution": {
     "iopub.execute_input": "2024-08-07T01:46:29.951215Z",
     "iopub.status.busy": "2024-08-07T01:46:29.950983Z",
     "iopub.status.idle": "2024-08-07T01:46:29.959202Z",
     "shell.execute_reply": "2024-08-07T01:46:29.959378Z"
    },
    "id": "SzWsocp4Gh7o"
   },
   "outputs": [
    {
     "data": {
      "text/html": [
       "<script> (()=>{ if (customElements.get('treescope-container') === undefined) { class TreescopeContainer extends HTMLElement { constructor() { super(); this.attachShadow({mode: \"open\"}); this.defns = {}; this.state = {}; } } customElements.define(\"treescope-container\", TreescopeContainer); } if (customElements.get('treescope-run-here') === undefined) { class RunHere extends HTMLElement { constructor() { super() } connectedCallback() { const run = child => { const fn = new Function(child.textContent); child.textContent = \"\"; fn.call(this); this.remove(); }; const child = this.querySelector(\"script\"); if (child) { run(child); } else { new MutationObserver(()=>{ run(this.querySelector(\"script\")); }).observe(this, {childList: true}); } } } customElements.define(\"treescope-run-here\", RunHere); } })(); </script> <treescope-container class=\"treescope_out_5c791ef0d53d4f02814452f1b068da56\" ></treescope-container> <treescope-run-here><script type=\"application/octet-stream\"> const root = ( Array.from(document.getElementsByClassName( \"treescope_out_5c791ef0d53d4f02814452f1b068da56\")) .filter((elt) => !elt.dataset.setup) )[0]; root.dataset.setup = 1; const msg = document.createElement(\"span\"); msg.style = \"color: #cccccc; font-family: monospace;\"; msg.textContent = \"(Loading...)\"; root.state.loadingMsg = msg; root.shadowRoot.appendChild(msg); root.state.chain = new Promise((resolve, reject) => { const observer = new IntersectionObserver((entries) => { for (const entry of entries) { if (entry.isIntersecting) { resolve(); observer.disconnect(); return; } } }, {rootMargin: \"1000px\"}); window.setTimeout(() => { observer.observe(root); }, 0); }); root.state.deferring = false; const _insertNode = (node) => { for (let oldScript of node.querySelectorAll(\"script\")) { let newScript = document.createElement(\"script\"); newScript.type = oldScript.type; newScript.textContent = oldScript.textContent; oldScript.parentNode.replaceChild(newScript, oldScript); } if (root.state.loadingMsg) { root.state.loadingMsg.remove(); root.state.loadingMsg = null; } root.shadowRoot.appendChild(node); }; root.defns.insertContent = ((contentNode, compressed) => { if (compressed) { root.state.deferring = true; } if (root.state.deferring) { root.state.chain = (async () => { await root.state.chain; if (compressed) { const encoded = contentNode.textContent; const blob = new Blob([ Uint8Array.from(atob(encoded), (m) => m.codePointAt(0)) ]); const reader = blob.stream().pipeThrough( new DecompressionStream(\"deflate\") ).pipeThrough( new TextDecoderStream(\"utf-8\") ).getReader(); const parts = []; while (true) { const step = await reader.read(); if (step.done) { break; } parts.push(step.value); } const tpl = document.createElement('template'); tpl.innerHTML = parts.join(\"\"); _insertNode(tpl.content); } else { _insertNode(contentNode.content); } })(); } else { _insertNode(contentNode.content); } }); </script></treescope-run-here><div style=\"display:none\"> <script type=\"application/octet-stream\" >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</script> <treescope-run-here><script type=\"application/octet-stream\"> const root = ( Array.from(document.getElementsByClassName( \"treescope_out_5c791ef0d53d4f02814452f1b068da56\")) .filter((elt) => !elt.dataset['step0']) )[0]; root.dataset['step0'] = 1; root.defns.insertContent( this.parentNode.querySelector('script[type=\"application/octet-stream\"]'), true ); this.parentNode.remove(); </script></treescope-run-here> </div>"
      ],
      "text/plain": [
       "<IPython.core.display.HTML object>"
      ]
     },
     "metadata": {},
     "output_type": "display_data"
    },
    {
     "data": {
      "text/html": [
       "<div style=\"display:none\"> <script type=\"application/octet-stream\" >eNq1k8tu2zAQRX9lwACBjSiKXpbt+AG0SQtk00W76MIwDIoc2SwYUaXooEaQf+9QfsRp09ZZdGFZFOfOzBlejqV6gMZtNE6YVE2t+eYaKlMhAyUnrDR2IbFEa1Eu4qw/7CMOhr2ozFJMCuwVIsmifilkVKaSTcdNzSt6+nzTUBhNcl4UFh/gEdrlNZzlg4RH0QiexlfbwFYFQvOmmbBjEZueazf6xn+E76zlm84sCiAOIAkgDSALoBdAHkA/gEEAw3kA0m1qnKjKpUn3fOlGVKDtZ/9HrNPxG4B53u+lSZ9jnIkMo0GRccziPE0yLNIs7z0DnwoAROARPIOH8BQew3N4EE8CQ6L0pPF/QMIyk3RivEhlmQ3ymJdxWiRDHBBZkfD87UhRGMDrv0P7pTb8rwDOIjbC1Hhp19XlCq03hbCqdtAmYLyutRLcKVNdGeHQXTak4fdsKkzVUBS3S3R3soEJzNjpjg2AnX7ax8H/nON8tO1MGmGNcdSXW6kmpC4/0/KTkdjpjmDXPeHvgnbh4fc12s0X1CicsR0WHia08NvsIC0tX95jtZOu/WsoaDIOb3fLj7uI38vdaPIICfc5QpoyVvJmpbTs7INC4aPafp1dY5eykKGgo9GBIjFdZAXj5wMINVZLt6KvFxdduvU+brt5XImWHzT61/ebOyq2V8/UnAp4TWPWVuAtOfuPQznzzmZwAb/It8vQIt0EgV+VW3UO2cJS2WZfuyUlwfOuxXvz0J7M02FMLxK9mF3Xu7m1KRn5FQ//BOoUxVU=</script> <treescope-run-here><script type=\"application/octet-stream\"> const root = ( Array.from(document.getElementsByClassName( \"treescope_out_5c791ef0d53d4f02814452f1b068da56\")) .filter((elt) => !elt.dataset['step1']) )[0]; root.dataset['step1'] = 1; root.defns.insertContent( this.parentNode.querySelector('script[type=\"application/octet-stream\"]'), true ); this.parentNode.remove(); </script></treescope-run-here> </div>"
      ],
      "text/plain": [
       "<IPython.core.display.HTML object>"
      ]
     },
     "metadata": {},
     "output_type": "display_data"
    },
    {
     "data": {
      "text/html": [
       "<treescope-run-here><script type=\"application/octet-stream\"> const root = ( Array.from(document.getElementsByClassName( \"treescope_out_5c791ef0d53d4f02814452f1b068da56\")) .filter((elt) => !elt.dataset.stolen) )[0]; root.dataset.stolen = 1; this.parentNode.replaceChild(root, this); </script></treescope-run-here>"
      ],
      "text/plain": [
       "Selection(\n",
       "  selected_by_path=OrderedDict({\n",
       "    (DictKey(key='b'),):\n",
       "      <jax.Array([0, 1, 2, 3, 4, 5, 6, 7, 8, 9], dtype=int32)>,\n",
       "    (DictKey(key='c'),):\n",
       "      [{'value': <jax.Array([ 0,  1,  2,  3,  4,  5,  6,  7,  8,  9, 10, 11], dtype=int32)>}, {'value': <jax.Array([0., 0., 0., 0., 0., 0., 0.], dtype=float32)>}, {'value': 3}],\n",
       "  }),\n",
       "  remainder={\n",
       "    'a': 1,\n",
       "    'b': SelectionHole(path=(DictKey(key='b'),)),\n",
       "    'c': SelectionHole(path=(DictKey(key='c'),)),\n",
       "  },\n",
       ")"
      ]
     },
     "execution_count": 18,
     "metadata": {},
     "output_type": "execute_result"
    }
   ],
   "source": [
    "pz.select(my_nested_object).at(\n",
    "    lambda root: (root[\"b\"], root[\"c\"]), multiple=True\n",
    ")"
   ]
  },
  {
   "cell_type": "markdown",
   "metadata": {
    "id": "jBtV4TmU3_Az"
   },
   "source": [
    "Later `at` calls in a chain are relative to the currently selected part:"
   ]
  },
  {
   "cell_type": "code",
   "execution_count": 19,
   "metadata": {
    "execution": {
     "iopub.execute_input": "2024-08-07T01:46:29.967583Z",
     "iopub.status.busy": "2024-08-07T01:46:29.967335Z",
     "iopub.status.idle": "2024-08-07T01:46:29.977116Z",
     "shell.execute_reply": "2024-08-07T01:46:29.976927Z"
    },
    "id": "Z8xrYRKXMVbX"
   },
   "outputs": [
    {
     "data": {
      "text/html": [
       "<script> (()=>{ if (customElements.get('treescope-container') === undefined) { class TreescopeContainer extends HTMLElement { constructor() { super(); this.attachShadow({mode: \"open\"}); this.defns = {}; this.state = {}; } } customElements.define(\"treescope-container\", TreescopeContainer); } if (customElements.get('treescope-run-here') === undefined) { class RunHere extends HTMLElement { constructor() { super() } connectedCallback() { const run = child => { const fn = new Function(child.textContent); child.textContent = \"\"; fn.call(this); this.remove(); }; const child = this.querySelector(\"script\"); if (child) { run(child); } else { new MutationObserver(()=>{ run(this.querySelector(\"script\")); }).observe(this, {childList: true}); } } } customElements.define(\"treescope-run-here\", RunHere); } })(); </script> <treescope-container class=\"treescope_out_a664d16e8ef448c48823c0ad3603c4e1\" ></treescope-container> <treescope-run-here><script type=\"application/octet-stream\"> const root = ( Array.from(document.getElementsByClassName( \"treescope_out_a664d16e8ef448c48823c0ad3603c4e1\")) .filter((elt) => !elt.dataset.setup) )[0]; root.dataset.setup = 1; const msg = document.createElement(\"span\"); msg.style = \"color: #cccccc; font-family: monospace;\"; msg.textContent = \"(Loading...)\"; root.state.loadingMsg = msg; root.shadowRoot.appendChild(msg); root.state.chain = new Promise((resolve, reject) => { const observer = new IntersectionObserver((entries) => { for (const entry of entries) { if (entry.isIntersecting) { resolve(); observer.disconnect(); return; } } }, {rootMargin: \"1000px\"}); window.setTimeout(() => { observer.observe(root); }, 0); }); root.state.deferring = false; const _insertNode = (node) => { for (let oldScript of node.querySelectorAll(\"script\")) { let newScript = document.createElement(\"script\"); newScript.type = oldScript.type; newScript.textContent = oldScript.textContent; oldScript.parentNode.replaceChild(newScript, oldScript); } if (root.state.loadingMsg) { root.state.loadingMsg.remove(); root.state.loadingMsg = null; } root.shadowRoot.appendChild(node); }; root.defns.insertContent = ((contentNode, compressed) => { if (compressed) { root.state.deferring = true; } if (root.state.deferring) { root.state.chain = (async () => { await root.state.chain; if (compressed) { const encoded = contentNode.textContent; const blob = new Blob([ Uint8Array.from(atob(encoded), (m) => m.codePointAt(0)) ]); const reader = blob.stream().pipeThrough( new DecompressionStream(\"deflate\") ).pipeThrough( new TextDecoderStream(\"utf-8\") ).getReader(); const parts = []; while (true) { const step = await reader.read(); if (step.done) { break; } parts.push(step.value); } const tpl = document.createElement('template'); tpl.innerHTML = parts.join(\"\"); _insertNode(tpl.content); } else { _insertNode(contentNode.content); } })(); } else { _insertNode(contentNode.content); } }); </script></treescope-run-here><div style=\"display:none\"> <script type=\"application/octet-stream\" >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</script> <treescope-run-here><script type=\"application/octet-stream\"> const root = ( Array.from(document.getElementsByClassName( \"treescope_out_a664d16e8ef448c48823c0ad3603c4e1\")) .filter((elt) => !elt.dataset['step0']) )[0]; root.dataset['step0'] = 1; root.defns.insertContent( this.parentNode.querySelector('script[type=\"application/octet-stream\"]'), true ); this.parentNode.remove(); </script></treescope-run-here> </div>"
      ],
      "text/plain": [
       "<IPython.core.display.HTML object>"
      ]
     },
     "metadata": {},
     "output_type": "display_data"
    },
    {
     "data": {
      "text/html": [
       "<div style=\"display:none\"> <script type=\"application/octet-stream\" >eNq1k8lu2zAQhl9lwAKBjSiK9iVegDZpgVx6aA89BEFAkyObBSOqFB3UKPLuHcpLkjZtk0MPlkVx/pn5hj+nUt1B7zYaZ0yqvtN8cwataZGBkjPWGHsjsUFrUd7wUuQiy+sEozxr8ojzOEljUaWiKnKxiNl82ne8pafPNw+F0STni4XFO/gBw/IM3hRVwqNoAvfT023goAKhed/P2GMRmx9pN/nKv4dvreWb0VUUQBxAEkAaQBZAHkARQBlAFUB9HYB0mw5nqnVpMj5augkVGPrZ/xHrfPoaYF43i6SQFWKVxVFTZ0US19R/Wcs4LcUD8EsBgAg8gmfwEJ7CY3gOD+JJoCZKTxr/B6RMRnXTFGUq8jzDolmkMi/rWIoiq+osK1+PFIUBPP87tN9ow/8K4CxiL0yHJ3bdnqzQelMIqzoHQwLGu04rwZ0y7akRDt1JTxp+y+bCtD1FcbtEdyl7mMEVe7ljA2AvP+3Hwf+c4/Vk25k0whrjqC+3Un1IXX6i5UcjcTSewK57wt8F7cLDb2u0m8+oUThjRyw8TOjGb7ODtLF8eYvtTrr2r6GgyTi82C0/7CJ+L3euySMk3OcIacrYyvOV0nK0DwqFjxr6dXaNY8pChoKRRgeKxHSRFUwfDiDU2C7dir4eH4/p1vu47ebjSrR8r9G/vttcUrG9+kpdUwGv6c3aCrwgZ/9xKG+8sxkcwy/y7TK0SDdB4BflVqNDtrBRtt/XHkhJ8LBr8dbcDSdzfxjTk0RPZjf2bh5sSkZ+xsM/AQL2ww8=</script> <treescope-run-here><script type=\"application/octet-stream\"> const root = ( Array.from(document.getElementsByClassName( \"treescope_out_a664d16e8ef448c48823c0ad3603c4e1\")) .filter((elt) => !elt.dataset['step1']) )[0]; root.dataset['step1'] = 1; root.defns.insertContent( this.parentNode.querySelector('script[type=\"application/octet-stream\"]'), true ); this.parentNode.remove(); </script></treescope-run-here> </div>"
      ],
      "text/plain": [
       "<IPython.core.display.HTML object>"
      ]
     },
     "metadata": {},
     "output_type": "display_data"
    },
    {
     "data": {
      "text/html": [
       "<treescope-run-here><script type=\"application/octet-stream\"> const root = ( Array.from(document.getElementsByClassName( \"treescope_out_a664d16e8ef448c48823c0ad3603c4e1\")) .filter((elt) => !elt.dataset.stolen) )[0]; root.dataset.stolen = 1; this.parentNode.replaceChild(root, this); </script></treescope-run-here>"
      ],
      "text/plain": [
       "Selection(\n",
       "  selected_by_path=OrderedDict({\n",
       "    (DictKey(key='c'), SequenceKey(idx=0), DictKey(key='value')):\n",
       "      <jax.Array([ 0,  1,  2,  3,  4,  5,  6,  7,  8,  9, 10, 11], dtype=int32)>,\n",
       "    (DictKey(key='c'), SequenceKey(idx=1), DictKey(key='value')):\n",
       "      <jax.Array([0., 0., 0., 0., 0., 0., 0.], dtype=float32)>,\n",
       "  }),\n",
       "  remainder={\n",
       "    'a': 1,\n",
       "    'b': <jax.Array([0, 1, 2, 3, 4, 5, 6, 7, 8, 9], dtype=int32)>,\n",
       "    'c': [{'value': SelectionHole(path=(DictKey(key='c'), SequenceKey(idx=0), DictKey(key='value')))}, {'value': SelectionHole(path=(DictKey(key='c'), SequenceKey(idx=1), DictKey(key='value')))}, {'value': 3}],\n",
       "  },\n",
       ")"
      ]
     },
     "execution_count": 19,
     "metadata": {},
     "output_type": "execute_result"
    }
   ],
   "source": [
    "(\n",
    "    pz.select(my_nested_object)\n",
    "    .at(lambda root: (root[\"c\"][0], root[\"c\"][1]), multiple=True)\n",
    "    .at(lambda subtree: subtree[\"value\"])\n",
    ")"
   ]
  },
  {
   "cell_type": "markdown",
   "metadata": {
    "id": "Dy30CsovGJz5"
   },
   "source": [
    "Note: Your function will be called with an input whose PyTree structure matches the selected object, but it won't be the exact same object. For that reason, the function should generally depend only on the input's PyTree structure, not its exact contents."
   ]
  },
  {
   "cell_type": "markdown",
   "metadata": {
    "id": "KAmBjvkVHSMg"
   },
   "source": [
    "### Selecting by type\n",
    "\n",
    "If you want to select all subtrees with a particular type, you can use `Selection.at_instances_of`:"
   ]
  },
  {
   "cell_type": "code",
   "execution_count": 20,
   "metadata": {
    "execution": {
     "iopub.execute_input": "2024-08-07T01:46:29.984482Z",
     "iopub.status.busy": "2024-08-07T01:46:29.984205Z",
     "iopub.status.idle": "2024-08-07T01:46:29.993724Z",
     "shell.execute_reply": "2024-08-07T01:46:29.993552Z"
    },
    "id": "y438yc3_HgEg"
   },
   "outputs": [
    {
     "data": {
      "text/html": [
       "<script> (()=>{ if (customElements.get('treescope-container') === undefined) { class TreescopeContainer extends HTMLElement { constructor() { super(); this.attachShadow({mode: \"open\"}); this.defns = {}; this.state = {}; } } customElements.define(\"treescope-container\", TreescopeContainer); } if (customElements.get('treescope-run-here') === undefined) { class RunHere extends HTMLElement { constructor() { super() } connectedCallback() { const run = child => { const fn = new Function(child.textContent); child.textContent = \"\"; fn.call(this); this.remove(); }; const child = this.querySelector(\"script\"); if (child) { run(child); } else { new MutationObserver(()=>{ run(this.querySelector(\"script\")); }).observe(this, {childList: true}); } } } customElements.define(\"treescope-run-here\", RunHere); } })(); </script> <treescope-container class=\"treescope_out_5e32d069a7a24187bd3d0733467ed058\" ></treescope-container> <treescope-run-here><script type=\"application/octet-stream\"> const root = ( Array.from(document.getElementsByClassName( \"treescope_out_5e32d069a7a24187bd3d0733467ed058\")) .filter((elt) => !elt.dataset.setup) )[0]; root.dataset.setup = 1; const msg = document.createElement(\"span\"); msg.style = \"color: #cccccc; font-family: monospace;\"; msg.textContent = \"(Loading...)\"; root.state.loadingMsg = msg; root.shadowRoot.appendChild(msg); root.state.chain = new Promise((resolve, reject) => { const observer = new IntersectionObserver((entries) => { for (const entry of entries) { if (entry.isIntersecting) { resolve(); observer.disconnect(); return; } } }, {rootMargin: \"1000px\"}); window.setTimeout(() => { observer.observe(root); }, 0); }); root.state.deferring = false; const _insertNode = (node) => { for (let oldScript of node.querySelectorAll(\"script\")) { let newScript = document.createElement(\"script\"); newScript.type = oldScript.type; newScript.textContent = oldScript.textContent; oldScript.parentNode.replaceChild(newScript, oldScript); } if (root.state.loadingMsg) { root.state.loadingMsg.remove(); root.state.loadingMsg = null; } root.shadowRoot.appendChild(node); }; root.defns.insertContent = ((contentNode, compressed) => { if (compressed) { root.state.deferring = true; } if (root.state.deferring) { root.state.chain = (async () => { await root.state.chain; if (compressed) { const encoded = contentNode.textContent; const blob = new Blob([ Uint8Array.from(atob(encoded), (m) => m.codePointAt(0)) ]); const reader = blob.stream().pipeThrough( new DecompressionStream(\"deflate\") ).pipeThrough( new TextDecoderStream(\"utf-8\") ).getReader(); const parts = []; while (true) { const step = await reader.read(); if (step.done) { break; } parts.push(step.value); } const tpl = document.createElement('template'); tpl.innerHTML = parts.join(\"\"); _insertNode(tpl.content); } else { _insertNode(contentNode.content); } })(); } else { _insertNode(contentNode.content); } }); </script></treescope-run-here><div style=\"display:none\"> <script type=\"application/octet-stream\" >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</script> <treescope-run-here><script type=\"application/octet-stream\"> const root = ( Array.from(document.getElementsByClassName( \"treescope_out_5e32d069a7a24187bd3d0733467ed058\")) .filter((elt) => !elt.dataset['step0']) )[0]; root.dataset['step0'] = 1; root.defns.insertContent( this.parentNode.querySelector('script[type=\"application/octet-stream\"]'), true ); this.parentNode.remove(); </script></treescope-run-here> </div>"
      ],
      "text/plain": [
       "<IPython.core.display.HTML object>"
      ]
     },
     "metadata": {},
     "output_type": "display_data"
    },
    {
     "data": {
      "text/html": [
       "<div style=\"display:none\"> <script type=\"application/octet-stream\" >eNq1k8lu2zAQhl9lwAKBjSiKNmuJF6BNWiCXHtpDD0EQUOTIZsGIKkUHNYq8e4fykqRN2+TQg2VRnH9mvuHPmVR30LuNxjmTqu8035xBa1pkoOScNcbeSGzQWpQ3Is5LURdpNsmiTOR1WQkRp7xGjlJiNWGLWd/xlp4+3yIURpOc17XFO/gBw/IM3uRlwqNoCvez023goAKhed/P2WMRWxxpN/3Kv4dvreWb0VUUQBxAEkAaQBbAJIA8gCKAMoDqOgDpNh3OVevSZHy0dFMqMPSz/yPWxewVwJO8jjiWUVVVeVYkSYlNkaWyqSdJHNcZfwB+KQAQgUfwDB7CU3gMz+FBPAlUROlJ4/+AlKPIo6RIkyIrsiivK14WmDe8iSVPI5G8HikKA3j+d2i/0Yb/FcBZxF6YDk/suj1ZofWmEFZ1DoYEjHedVoI7ZdpTIxy6k540/JYthGl7iuJ2ie5S9jCHK/ZyxwbAXn7aj4P/Ocfr6bYzaYQ1xlFfbqX6kLr8RMuPRuJoPIVd94S/C9qFh9/WaDefUaNwxo5YeJjQjd9mB2lj+fIW25107V9DQZNxeLFbfthF/F7uXJNHSLjPEdKUsZXnK6XlaB8UCh819OvsGseUhQwFI40OFInpIiuYPRxAqLFduhV9PT4e0633cdvNx5Vo+V6jf323uaRie/WVuqYCXtObtRV4Qc7+41DeeGczOIZf5NtlaJFugsAvyq1Gh2xho2y/rz2QkuBh1+KtuRtO5v4wpieJnsxu7N082JSM/IyHfwLcx8Sx</script> <treescope-run-here><script type=\"application/octet-stream\"> const root = ( Array.from(document.getElementsByClassName( \"treescope_out_5e32d069a7a24187bd3d0733467ed058\")) .filter((elt) => !elt.dataset['step1']) )[0]; root.dataset['step1'] = 1; root.defns.insertContent( this.parentNode.querySelector('script[type=\"application/octet-stream\"]'), true ); this.parentNode.remove(); </script></treescope-run-here> </div>"
      ],
      "text/plain": [
       "<IPython.core.display.HTML object>"
      ]
     },
     "metadata": {},
     "output_type": "display_data"
    },
    {
     "data": {
      "text/html": [
       "<treescope-run-here><script type=\"application/octet-stream\"> const root = ( Array.from(document.getElementsByClassName( \"treescope_out_5e32d069a7a24187bd3d0733467ed058\")) .filter((elt) => !elt.dataset.stolen) )[0]; root.dataset.stolen = 1; this.parentNode.replaceChild(root, this); </script></treescope-run-here>"
      ],
      "text/plain": [
       "Selection(\n",
       "  selected_by_path=OrderedDict({\n",
       "    (DictKey(key='a'),):\n",
       "      1,\n",
       "    (DictKey(key='c'), SequenceKey(idx=2), DictKey(key='value')):\n",
       "      3,\n",
       "  }),\n",
       "  remainder={\n",
       "    'a': SelectionHole(path=(DictKey(key='a'),)),\n",
       "    'b': <jax.Array([0, 1, 2, 3, 4, 5, 6, 7, 8, 9], dtype=int32)>,\n",
       "    'c': [{'value': <jax.Array([ 0,  1,  2,  3,  4,  5,  6,  7,  8,  9, 10, 11], dtype=int32)>}, {'value': <jax.Array([0., 0., 0., 0., 0., 0., 0.], dtype=float32)>}, {'value': SelectionHole(path=(DictKey(key='c'), SequenceKey(idx=2), DictKey(key='value')))}],\n",
       "  },\n",
       ")"
      ]
     },
     "execution_count": 20,
     "metadata": {},
     "output_type": "execute_result"
    }
   ],
   "source": [
    "pz.select(my_nested_object).at_instances_of(int)"
   ]
  },
  {
   "cell_type": "markdown",
   "metadata": {
    "id": "wIjWns9HHiXj"
   },
   "source": [
    "This selects any subtree for which `isinstance(subtree, requested_type)` evaluates to True.\n",
    "\n",
    "Note that selections cannot be nested, so this only selects the *outermost* value with the given type:"
   ]
  },
  {
   "cell_type": "code",
   "execution_count": 21,
   "metadata": {
    "execution": {
     "iopub.execute_input": "2024-08-07T01:46:29.999821Z",
     "iopub.status.busy": "2024-08-07T01:46:29.999548Z",
     "iopub.status.idle": "2024-08-07T01:46:30.007280Z",
     "shell.execute_reply": "2024-08-07T01:46:30.007106Z"
    },
    "id": "sopg1pzrH2ZX"
   },
   "outputs": [
    {
     "data": {
      "text/html": [
       "<script> (()=>{ if (customElements.get('treescope-container') === undefined) { class TreescopeContainer extends HTMLElement { constructor() { super(); this.attachShadow({mode: \"open\"}); this.defns = {}; this.state = {}; } } customElements.define(\"treescope-container\", TreescopeContainer); } if (customElements.get('treescope-run-here') === undefined) { class RunHere extends HTMLElement { constructor() { super() } connectedCallback() { const run = child => { const fn = new Function(child.textContent); child.textContent = \"\"; fn.call(this); this.remove(); }; const child = this.querySelector(\"script\"); if (child) { run(child); } else { new MutationObserver(()=>{ run(this.querySelector(\"script\")); }).observe(this, {childList: true}); } } } customElements.define(\"treescope-run-here\", RunHere); } })(); </script> <treescope-container class=\"treescope_out_af85dcfa150d432697873d476c80799f\" ></treescope-container> <treescope-run-here><script type=\"application/octet-stream\"> const root = ( Array.from(document.getElementsByClassName( \"treescope_out_af85dcfa150d432697873d476c80799f\")) .filter((elt) => !elt.dataset.setup) )[0]; root.dataset.setup = 1; const msg = document.createElement(\"span\"); msg.style = \"color: #cccccc; font-family: monospace;\"; msg.textContent = \"(Loading...)\"; root.state.loadingMsg = msg; root.shadowRoot.appendChild(msg); root.state.chain = new Promise((resolve, reject) => { const observer = new IntersectionObserver((entries) => { for (const entry of entries) { if (entry.isIntersecting) { resolve(); observer.disconnect(); return; } } }, {rootMargin: \"1000px\"}); window.setTimeout(() => { observer.observe(root); }, 0); }); root.state.deferring = false; const _insertNode = (node) => { for (let oldScript of node.querySelectorAll(\"script\")) { let newScript = document.createElement(\"script\"); newScript.type = oldScript.type; newScript.textContent = oldScript.textContent; oldScript.parentNode.replaceChild(newScript, oldScript); } if (root.state.loadingMsg) { root.state.loadingMsg.remove(); root.state.loadingMsg = null; } root.shadowRoot.appendChild(node); }; root.defns.insertContent = ((contentNode, compressed) => { if (compressed) { root.state.deferring = true; } if (root.state.deferring) { root.state.chain = (async () => { await root.state.chain; if (compressed) { const encoded = contentNode.textContent; const blob = new Blob([ Uint8Array.from(atob(encoded), (m) => m.codePointAt(0)) ]); const reader = blob.stream().pipeThrough( new DecompressionStream(\"deflate\") ).pipeThrough( new TextDecoderStream(\"utf-8\") ).getReader(); const parts = []; while (true) { const step = await reader.read(); if (step.done) { break; } parts.push(step.value); } const tpl = document.createElement('template'); tpl.innerHTML = parts.join(\"\"); _insertNode(tpl.content); } else { _insertNode(contentNode.content); } })(); } else { _insertNode(contentNode.content); } }); </script></treescope-run-here><div style=\"display:none\"> <script type=\"application/octet-stream\" >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</script> <treescope-run-here><script type=\"application/octet-stream\"> const root = ( Array.from(document.getElementsByClassName( \"treescope_out_af85dcfa150d432697873d476c80799f\")) .filter((elt) => !elt.dataset['step0']) )[0]; root.dataset['step0'] = 1; root.defns.insertContent( this.parentNode.querySelector('script[type=\"application/octet-stream\"]'), true ); this.parentNode.remove(); </script></treescope-run-here> </div>"
      ],
      "text/plain": [
       "<IPython.core.display.HTML object>"
      ]
     },
     "metadata": {},
     "output_type": "display_data"
    },
    {
     "data": {
      "text/html": [
       "<div style=\"display:none\"> <script type=\"application/octet-stream\" >eNq1k8tu2zAQRX9lwACBjSiKXrak+AG0SQtk00W76CIIDJoc2SwYUaXooEaQf+9QfsRp09ZZdGFZFOfOzBlejqV6gNatNU6YVG2j+foSalMjAyUnrDJ2JrFCa1HOMJKZjHkp0wKznCOXWRlnmM3TBItBmrPpuG14TU+fbxoKo0nO53OLD/AI3fISToZFwqNoBE/ji01gpwKhedtO2KGITU+1G33jP8J31vJ17zYKIA4gCSANIAtgEMAwgDyAIoDyLgDp1g1OVO3SpH+6cCMq0PWz+yPW6fgtwCKvimiIIivKLM/KeTWMxLwQmKRVkQ/jZ+BjAYAIPIJn8BCewmN4Dg/iSaAkSk8a/wekOcd4UOFwkKQ8q5K4TOJBWfBEZtkgL2X+dqQoDOD13779Shv+VwBnEVthGjy3q/p8idabQljVOOgSMN40WgnulKkvjHDozlvS8Hs2FaZuKYrbBbob2cIEbtnxjg2AHX/ah8H/nOPdaNOZNMIa46gvt1RtSF1+puUnI7HXH8G2e8LfBm3Dw+8rtOsvqFE4Y3ss3E9o5rfZXlpZvrjHeitd+ddQ0GQcXm+XH7cRv5e70uQREu5yhDRlrOXVUmnZ2wWFwkd1/Tq7wj5lIUNBT6MDRWK6yArGzwcQaqwXbklfz876dOt93GbzsBItP2j0r+/XN1Rsp75Vd1TAa1qzsgKvydl/HMqJdzaDM/hFvlmGFukmCPyq3LK3zxZWyra72h0pCZ53Ld6bh+5knvZjepHoxez63s2dTcnIr3j4J3pLxJE=</script> <treescope-run-here><script type=\"application/octet-stream\"> const root = ( Array.from(document.getElementsByClassName( \"treescope_out_af85dcfa150d432697873d476c80799f\")) .filter((elt) => !elt.dataset['step1']) )[0]; root.dataset['step1'] = 1; root.defns.insertContent( this.parentNode.querySelector('script[type=\"application/octet-stream\"]'), true ); this.parentNode.remove(); </script></treescope-run-here> </div>"
      ],
      "text/plain": [
       "<IPython.core.display.HTML object>"
      ]
     },
     "metadata": {},
     "output_type": "display_data"
    },
    {
     "data": {
      "text/html": [
       "<treescope-run-here><script type=\"application/octet-stream\"> const root = ( Array.from(document.getElementsByClassName( \"treescope_out_af85dcfa150d432697873d476c80799f\")) .filter((elt) => !elt.dataset.stolen) )[0]; root.dataset.stolen = 1; this.parentNode.replaceChild(root, this); </script></treescope-run-here>"
      ],
      "text/plain": [
       "Selection(\n",
       "  selected_by_path=OrderedDict({\n",
       "    (): {\n",
       "      'a': 1,\n",
       "      'b': <jax.Array([0, 1, 2, 3, 4, 5, 6, 7, 8, 9], dtype=int32)>,\n",
       "      'c': [\n",
       "        {\n",
       "          'value': <jax.Array([ 0,  1,  2,  3,  4,  5,  6,  7,  8,  9, 10, 11], dtype=int32)>,\n",
       "        },\n",
       "        {\n",
       "          'value': <jax.Array([0., 0., 0., 0., 0., 0., 0.], dtype=float32)>,\n",
       "        },\n",
       "        {'value': 3},\n",
       "      ],\n",
       "    },\n",
       "  }),\n",
       "  remainder=SelectionHole(path=()),\n",
       ")"
      ]
     },
     "execution_count": 21,
     "metadata": {},
     "output_type": "execute_result"
    }
   ],
   "source": [
    "pz.select(my_nested_object).at_instances_of(dict)"
   ]
  },
  {
   "cell_type": "markdown",
   "metadata": {
    "id": "R-Qm4rBaHkNW"
   },
   "source": [
    "### Selecting by condition\n",
    "More generally, you can select all subtrees for which a function evaluates to true:"
   ]
  },
  {
   "cell_type": "code",
   "execution_count": 22,
   "metadata": {
    "execution": {
     "iopub.execute_input": "2024-08-07T01:46:30.014763Z",
     "iopub.status.busy": "2024-08-07T01:46:30.014347Z",
     "iopub.status.idle": "2024-08-07T01:46:30.023688Z",
     "shell.execute_reply": "2024-08-07T01:46:30.023516Z"
    },
    "id": "yK6nvVfWH-Jh"
   },
   "outputs": [
    {
     "data": {
      "text/html": [
       "<script> (()=>{ if (customElements.get('treescope-container') === undefined) { class TreescopeContainer extends HTMLElement { constructor() { super(); this.attachShadow({mode: \"open\"}); this.defns = {}; this.state = {}; } } customElements.define(\"treescope-container\", TreescopeContainer); } if (customElements.get('treescope-run-here') === undefined) { class RunHere extends HTMLElement { constructor() { super() } connectedCallback() { const run = child => { const fn = new Function(child.textContent); child.textContent = \"\"; fn.call(this); this.remove(); }; const child = this.querySelector(\"script\"); if (child) { run(child); } else { new MutationObserver(()=>{ run(this.querySelector(\"script\")); }).observe(this, {childList: true}); } } } customElements.define(\"treescope-run-here\", RunHere); } })(); </script> <treescope-container class=\"treescope_out_b3143dc0d8814b8b817721a941b46331\" ></treescope-container> <treescope-run-here><script type=\"application/octet-stream\"> const root = ( Array.from(document.getElementsByClassName( \"treescope_out_b3143dc0d8814b8b817721a941b46331\")) .filter((elt) => !elt.dataset.setup) )[0]; root.dataset.setup = 1; const msg = document.createElement(\"span\"); msg.style = \"color: #cccccc; font-family: monospace;\"; msg.textContent = \"(Loading...)\"; root.state.loadingMsg = msg; root.shadowRoot.appendChild(msg); root.state.chain = new Promise((resolve, reject) => { const observer = new IntersectionObserver((entries) => { for (const entry of entries) { if (entry.isIntersecting) { resolve(); observer.disconnect(); return; } } }, {rootMargin: \"1000px\"}); window.setTimeout(() => { observer.observe(root); }, 0); }); root.state.deferring = false; const _insertNode = (node) => { for (let oldScript of node.querySelectorAll(\"script\")) { let newScript = document.createElement(\"script\"); newScript.type = oldScript.type; newScript.textContent = oldScript.textContent; oldScript.parentNode.replaceChild(newScript, oldScript); } if (root.state.loadingMsg) { root.state.loadingMsg.remove(); root.state.loadingMsg = null; } root.shadowRoot.appendChild(node); }; root.defns.insertContent = ((contentNode, compressed) => { if (compressed) { root.state.deferring = true; } if (root.state.deferring) { root.state.chain = (async () => { await root.state.chain; if (compressed) { const encoded = contentNode.textContent; const blob = new Blob([ Uint8Array.from(atob(encoded), (m) => m.codePointAt(0)) ]); const reader = blob.stream().pipeThrough( new DecompressionStream(\"deflate\") ).pipeThrough( new TextDecoderStream(\"utf-8\") ).getReader(); const parts = []; while (true) { const step = await reader.read(); if (step.done) { break; } parts.push(step.value); } const tpl = document.createElement('template'); tpl.innerHTML = parts.join(\"\"); _insertNode(tpl.content); } else { _insertNode(contentNode.content); } })(); } else { _insertNode(contentNode.content); } }); </script></treescope-run-here><div style=\"display:none\"> <script type=\"application/octet-stream\" >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</script> <treescope-run-here><script type=\"application/octet-stream\"> const root = ( Array.from(document.getElementsByClassName( \"treescope_out_b3143dc0d8814b8b817721a941b46331\")) .filter((elt) => !elt.dataset['step0']) )[0]; root.dataset['step0'] = 1; root.defns.insertContent( this.parentNode.querySelector('script[type=\"application/octet-stream\"]'), true ); this.parentNode.remove(); </script></treescope-run-here> </div>"
      ],
      "text/plain": [
       "<IPython.core.display.HTML object>"
      ]
     },
     "metadata": {},
     "output_type": "display_data"
    },
    {
     "data": {
      "text/html": [
       "<div style=\"display:none\"> <script type=\"application/octet-stream\" >eNq1k01v2zAMhv8KoQJFgrquE9ux03wAW7sBveywHXYoikCW6ESDYnmyUiwo+t9HOZ/dui0bsENsK+JL8qFejaV6hMatNU6YVE2t+foaKlMhAyUnrDR2JrFEa1HOMONc5lnJB70yibI8z8sSM4FDOUyjPIvZdNzUvKKnzzcNhdEk50Vh8RGeoF1ew9kg7/MoGsHz+GoT2KpAaN40E3YsYtNz7UZf+LfwjbV83bmPAugF0A8gDiAJIA1gEEAWQB7A8CEA6dY1TlTl4n73fO5GVKDtZ/ci1un4L4CTKC7TPO2JPh8mnIu8iHjWT0WRFVlSivQAfCoAEIFH8AwewlN4DM/hQTwJDInSk/b+AxK9Bz1eDmSRpUkmE57FvTiOeVzEBabDf0CKwgBe/+3bL7XhvwVwFrERpsZLu6ouF2i9KYRVtYM2AeN1rZXgTpnqygiH7rIhDV+yqTBVQ1HcztHdyQYmcM9Od2wA7PTTPg7+4xwfRpvOpBHWGEd9uYVqQuryIy0/GImd7gi23RP+NmgbHn5doV1/Qo3CGdth4X5CM7/N9tLS8vkSq6105T9DQZNxeLtdvt9G/FzuRpNHSLjLEdKUsZI3C6VlZxcUCh/V9uvsCruUhQwFHY0OFInpIisYHw4g1FjN3YL+vbjo0q33cZvN40q0fKfRf75d31GxnfpePVABr2nMygq8JWf/cihn3tkMLuAH+WYZWqSbIPCzcovOPltYKtvsarekJDjsWlyax/ZknvdjepHoxey63s2tTcnIr3j4O5sjxf0=</script> <treescope-run-here><script type=\"application/octet-stream\"> const root = ( Array.from(document.getElementsByClassName( \"treescope_out_b3143dc0d8814b8b817721a941b46331\")) .filter((elt) => !elt.dataset['step1']) )[0]; root.dataset['step1'] = 1; root.defns.insertContent( this.parentNode.querySelector('script[type=\"application/octet-stream\"]'), true ); this.parentNode.remove(); </script></treescope-run-here> </div>"
      ],
      "text/plain": [
       "<IPython.core.display.HTML object>"
      ]
     },
     "metadata": {},
     "output_type": "display_data"
    },
    {
     "data": {
      "text/html": [
       "<treescope-run-here><script type=\"application/octet-stream\"> const root = ( Array.from(document.getElementsByClassName( \"treescope_out_b3143dc0d8814b8b817721a941b46331\")) .filter((elt) => !elt.dataset.stolen) )[0]; root.dataset.stolen = 1; this.parentNode.replaceChild(root, this); </script></treescope-run-here>"
      ],
      "text/plain": [
       "Selection(\n",
       "  selected_by_path=OrderedDict({\n",
       "    (DictKey(key='b'),):\n",
       "      <jax.Array([0, 1, 2, 3, 4, 5, 6, 7, 8, 9], dtype=int32)>,\n",
       "    (DictKey(key='c'), SequenceKey(idx=1), DictKey(key='value')):\n",
       "      <jax.Array([0., 0., 0., 0., 0., 0., 0.], dtype=float32)>,\n",
       "  }),\n",
       "  remainder={\n",
       "    'a': 1,\n",
       "    'b': SelectionHole(path=(DictKey(key='b'),)),\n",
       "    'c': [{'value': <jax.Array([ 0,  1,  2,  3,  4,  5,  6,  7,  8,  9, 10, 11], dtype=int32)>}, {'value': SelectionHole(path=(DictKey(key='c'), SequenceKey(idx=1), DictKey(key='value')))}, {'value': 3}],\n",
       "  },\n",
       ")"
      ]
     },
     "execution_count": 22,
     "metadata": {},
     "output_type": "execute_result"
    }
   ],
   "source": [
    "(\n",
    "    pz.select(my_nested_object)\n",
    "    .at_subtrees_where(\n",
    "        lambda subtree: isinstance(subtree, jax.Array) and subtree.size <= 10)\n",
    ")"
   ]
  },
  {
   "cell_type": "markdown",
   "metadata": {
    "id": "Hz97YScaHmyC"
   },
   "source": [
    "In fact, `at_instances_of` is a thin wrapper around `at_subtrees_where`. There's another convenience method for finding values equal to a sentinel value:"
   ]
  },
  {
   "cell_type": "code",
   "execution_count": 23,
   "metadata": {
    "execution": {
     "iopub.execute_input": "2024-08-07T01:46:30.029858Z",
     "iopub.status.busy": "2024-08-07T01:46:30.029610Z",
     "iopub.status.idle": "2024-08-07T01:46:30.037943Z",
     "shell.execute_reply": "2024-08-07T01:46:30.037700Z"
    },
    "id": "LKwjwL8CJjur"
   },
   "outputs": [
    {
     "data": {
      "text/html": [
       "<script> (()=>{ if (customElements.get('treescope-container') === undefined) { class TreescopeContainer extends HTMLElement { constructor() { super(); this.attachShadow({mode: \"open\"}); this.defns = {}; this.state = {}; } } customElements.define(\"treescope-container\", TreescopeContainer); } if (customElements.get('treescope-run-here') === undefined) { class RunHere extends HTMLElement { constructor() { super() } connectedCallback() { const run = child => { const fn = new Function(child.textContent); child.textContent = \"\"; fn.call(this); this.remove(); }; const child = this.querySelector(\"script\"); if (child) { run(child); } else { new MutationObserver(()=>{ run(this.querySelector(\"script\")); }).observe(this, {childList: true}); } } } customElements.define(\"treescope-run-here\", RunHere); } })(); </script> <treescope-container class=\"treescope_out_15b080a835ea42d6bd8918a2230c63ae\" ></treescope-container> <treescope-run-here><script type=\"application/octet-stream\"> const root = ( Array.from(document.getElementsByClassName( \"treescope_out_15b080a835ea42d6bd8918a2230c63ae\")) .filter((elt) => !elt.dataset.setup) )[0]; root.dataset.setup = 1; const msg = document.createElement(\"span\"); msg.style = \"color: #cccccc; font-family: monospace;\"; msg.textContent = \"(Loading...)\"; root.state.loadingMsg = msg; root.shadowRoot.appendChild(msg); root.state.chain = new Promise((resolve, reject) => { const observer = new IntersectionObserver((entries) => { for (const entry of entries) { if (entry.isIntersecting) { resolve(); observer.disconnect(); return; } } }, {rootMargin: \"1000px\"}); window.setTimeout(() => { observer.observe(root); }, 0); }); root.state.deferring = false; const _insertNode = (node) => { for (let oldScript of node.querySelectorAll(\"script\")) { let newScript = document.createElement(\"script\"); newScript.type = oldScript.type; newScript.textContent = oldScript.textContent; oldScript.parentNode.replaceChild(newScript, oldScript); } if (root.state.loadingMsg) { root.state.loadingMsg.remove(); root.state.loadingMsg = null; } root.shadowRoot.appendChild(node); }; root.defns.insertContent = ((contentNode, compressed) => { if (compressed) { root.state.deferring = true; } if (root.state.deferring) { root.state.chain = (async () => { await root.state.chain; if (compressed) { const encoded = contentNode.textContent; const blob = new Blob([ Uint8Array.from(atob(encoded), (m) => m.codePointAt(0)) ]); const reader = blob.stream().pipeThrough( new DecompressionStream(\"deflate\") ).pipeThrough( new TextDecoderStream(\"utf-8\") ).getReader(); const parts = []; while (true) { const step = await reader.read(); if (step.done) { break; } parts.push(step.value); } const tpl = document.createElement('template'); tpl.innerHTML = parts.join(\"\"); _insertNode(tpl.content); } else { _insertNode(contentNode.content); } })(); } else { _insertNode(contentNode.content); } }); </script></treescope-run-here><div style=\"display:none\"> <script type=\"application/octet-stream\" >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</script> <treescope-run-here><script type=\"application/octet-stream\"> const root = ( Array.from(document.getElementsByClassName( \"treescope_out_15b080a835ea42d6bd8918a2230c63ae\")) .filter((elt) => !elt.dataset['step0']) )[0]; root.dataset['step0'] = 1; root.defns.insertContent( this.parentNode.querySelector('script[type=\"application/octet-stream\"]'), true ); this.parentNode.remove(); </script></treescope-run-here> </div>"
      ],
      "text/plain": [
       "<IPython.core.display.HTML object>"
      ]
     },
     "metadata": {},
     "output_type": "display_data"
    },
    {
     "data": {
      "text/html": [
       "<div style=\"display:none\"> <script type=\"application/octet-stream\" >eNq1k01v2zAMhv8KoQJFgrqu4zix3XwAW7sBveywHXYIgkKW6ESDYnmyUiwo+t9HOZ/duq097BDHsviSfKhXY6keoHEbjRMmVVNrvrmGylTIQMkJK429l1iitSjveZ6nadmTeZolSZRlXPAky5NekmXlIOn32XTc1Lyip883DYXRJOdFYfEBHqFdXsPZMIt5FI3gaXy1DWxVIDRvmgk7FbHpuXajb/xH+M5avunMogB6AcQB9ANIAhgEMAwgDSALIJ8HIN2mxomqXD/uni/ciAq0/ez/iHU6fgMw4eYl9guJvTQRZZz3eDLEGCMUWVEU6RH4tQBABB7BM3gIT+ExPIcH8SSQE6Un7f0HJGIZFhiXQymKRA7SIsKiGNI2HWse58nbkaIwgJd/h/ZLbfhfAZxFbISp8dKuq8slWm8KYVXtoE3AeF1rJbhTproywqG7bEjDV2wqTNVQFLcLdHeygQnM2OsdGwB7/WmfBv9zjvPRtjNphDXGUV9uqZqQuvxMy09GYqc7gl33hL8L2oWH39doN19Qo3DGdlh4mNC932YHaWn5YoXVTrr2r6GgyTi83S0/7iJ+L3ejySMk3OcIacpYyZul0rKzDwqFj2r7dXaNXcpChoKORgeKxHSRFYyPBxBqrBZuSV8vLrp0633cdvO0Ei0/aPSv7zd3VGyvnqk5FfCaxqytwFty9h+HcuadzeACfpFvl6FFugkCvyq37ByyhaWyzb52S0qC467FlXloT+bpMKZniZ7Nruvd3NqUjPyCh38CUP3Glw==</script> <treescope-run-here><script type=\"application/octet-stream\"> const root = ( Array.from(document.getElementsByClassName( \"treescope_out_15b080a835ea42d6bd8918a2230c63ae\")) .filter((elt) => !elt.dataset['step1']) )[0]; root.dataset['step1'] = 1; root.defns.insertContent( this.parentNode.querySelector('script[type=\"application/octet-stream\"]'), true ); this.parentNode.remove(); </script></treescope-run-here> </div>"
      ],
      "text/plain": [
       "<IPython.core.display.HTML object>"
      ]
     },
     "metadata": {},
     "output_type": "display_data"
    },
    {
     "data": {
      "text/html": [
       "<treescope-run-here><script type=\"application/octet-stream\"> const root = ( Array.from(document.getElementsByClassName( \"treescope_out_15b080a835ea42d6bd8918a2230c63ae\")) .filter((elt) => !elt.dataset.stolen) )[0]; root.dataset.stolen = 1; this.parentNode.replaceChild(root, this); </script></treescope-run-here>"
      ],
      "text/plain": [
       "Selection(\n",
       "  selected_by_path=OrderedDict({(DictKey(key='a'),): 1}),\n",
       "  remainder={\n",
       "    'a': SelectionHole(path=(DictKey(key='a'),)),\n",
       "    'b': <jax.Array([0, 1, 2, 3, 4, 5, 6, 7, 8, 9], dtype=int32)>,\n",
       "    'c': [\n",
       "      {\n",
       "        'value': <jax.Array([ 0,  1,  2,  3,  4,  5,  6,  7,  8,  9, 10, 11], dtype=int32)>,\n",
       "      },\n",
       "      {\n",
       "        'value': <jax.Array([0., 0., 0., 0., 0., 0., 0.], dtype=float32)>,\n",
       "      },\n",
       "      {'value': 3},\n",
       "    ],\n",
       "  },\n",
       ")"
      ]
     },
     "execution_count": 23,
     "metadata": {},
     "output_type": "execute_result"
    }
   ],
   "source": [
    "(\n",
    "    pz.select(my_nested_object)\n",
    "    .at_equal_to(1)\n",
    ")"
   ]
  },
  {
   "cell_type": "code",
   "execution_count": 24,
   "metadata": {
    "execution": {
     "iopub.execute_input": "2024-08-07T01:46:30.043987Z",
     "iopub.status.busy": "2024-08-07T01:46:30.043755Z",
     "iopub.status.idle": "2024-08-07T01:46:30.048817Z",
     "shell.execute_reply": "2024-08-07T01:46:30.048613Z"
    },
    "id": "lNlmgOXZIW8O"
   },
   "outputs": [
    {
     "data": {
      "text/html": [
       "<script> (()=>{ if (customElements.get('treescope-container') === undefined) { class TreescopeContainer extends HTMLElement { constructor() { super(); this.attachShadow({mode: \"open\"}); this.defns = {}; this.state = {}; } } customElements.define(\"treescope-container\", TreescopeContainer); } if (customElements.get('treescope-run-here') === undefined) { class RunHere extends HTMLElement { constructor() { super() } connectedCallback() { const run = child => { const fn = new Function(child.textContent); child.textContent = \"\"; fn.call(this); this.remove(); }; const child = this.querySelector(\"script\"); if (child) { run(child); } else { new MutationObserver(()=>{ run(this.querySelector(\"script\")); }).observe(this, {childList: true}); } } } customElements.define(\"treescope-run-here\", RunHere); } })(); </script> <treescope-container class=\"treescope_out_cf2a8edf17e14c2f8447e26d3b255117\" ></treescope-container> <treescope-run-here><script type=\"application/octet-stream\"> const root = ( Array.from(document.getElementsByClassName( \"treescope_out_cf2a8edf17e14c2f8447e26d3b255117\")) .filter((elt) => !elt.dataset.setup) )[0]; root.dataset.setup = 1; const msg = document.createElement(\"span\"); msg.style = \"color: #cccccc; font-family: monospace;\"; msg.textContent = \"(Loading...)\"; root.state.loadingMsg = msg; root.shadowRoot.appendChild(msg); root.state.chain = new Promise((resolve, reject) => { const observer = new IntersectionObserver((entries) => { for (const entry of entries) { if (entry.isIntersecting) { resolve(); observer.disconnect(); return; } } }, {rootMargin: \"1000px\"}); window.setTimeout(() => { observer.observe(root); }, 0); }); root.state.deferring = false; const _insertNode = (node) => { for (let oldScript of node.querySelectorAll(\"script\")) { let newScript = document.createElement(\"script\"); newScript.type = oldScript.type; newScript.textContent = oldScript.textContent; oldScript.parentNode.replaceChild(newScript, oldScript); } if (root.state.loadingMsg) { root.state.loadingMsg.remove(); root.state.loadingMsg = null; } root.shadowRoot.appendChild(node); }; root.defns.insertContent = ((contentNode, compressed) => { if (compressed) { root.state.deferring = true; } if (root.state.deferring) { root.state.chain = (async () => { await root.state.chain; if (compressed) { const encoded = contentNode.textContent; const blob = new Blob([ Uint8Array.from(atob(encoded), (m) => m.codePointAt(0)) ]); const reader = blob.stream().pipeThrough( new DecompressionStream(\"deflate\") ).pipeThrough( new TextDecoderStream(\"utf-8\") ).getReader(); const parts = []; while (true) { const step = await reader.read(); if (step.done) { break; } parts.push(step.value); } const tpl = document.createElement('template'); tpl.innerHTML = parts.join(\"\"); _insertNode(tpl.content); } else { _insertNode(contentNode.content); } })(); } else { _insertNode(contentNode.content); } }); </script></treescope-run-here><div style=\"display:none\"> <script type=\"application/octet-stream\" >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</script> <treescope-run-here><script type=\"application/octet-stream\"> const root = ( Array.from(document.getElementsByClassName( \"treescope_out_cf2a8edf17e14c2f8447e26d3b255117\")) .filter((elt) => !elt.dataset['step0']) )[0]; root.dataset['step0'] = 1; root.defns.insertContent( this.parentNode.querySelector('script[type=\"application/octet-stream\"]'), true ); this.parentNode.remove(); </script></treescope-run-here> </div>"
      ],
      "text/plain": [
       "<IPython.core.display.HTML object>"
      ]
     },
     "metadata": {},
     "output_type": "display_data"
    },
    {
     "data": {
      "text/html": [
       "<treescope-run-here><script type=\"application/octet-stream\"> const root = ( Array.from(document.getElementsByClassName( \"treescope_out_cf2a8edf17e14c2f8447e26d3b255117\")) .filter((elt) => !elt.dataset.stolen) )[0]; root.dataset.stolen = 1; this.parentNode.replaceChild(root, this); </script></treescope-run-here>"
      ],
      "text/plain": [
       "Selection(\n",
       "  selected_by_path=OrderedDict({(DictKey(key='bar'),): [1, 2, 3]}),\n",
       "  remainder={\n",
       "    'bar': SelectionHole(path=(DictKey(key='bar'),)),\n",
       "    'foo': 'foo',\n",
       "  },\n",
       ")"
      ]
     },
     "execution_count": 24,
     "metadata": {},
     "output_type": "execute_result"
    }
   ],
   "source": [
    "(\n",
    "    pz.select({\"foo\": \"foo\", \"bar\": [1, 2, 3]}).at_equal_to([1, 2, 3])\n",
    ")"
   ]
  },
  {
   "cell_type": "markdown",
   "metadata": {
    "id": "1GZV7CkULrZ_"
   },
   "source": [
    "### Selecting by JAX keypath"
   ]
  },
  {
   "cell_type": "markdown",
   "metadata": {
    "id": "nJSlyPdGLvNE"
   },
   "source": [
    "PyTree nodes in JAX are associated with key paths identifying their location in the tree:"
   ]
  },
  {
   "cell_type": "code",
   "execution_count": 25,
   "metadata": {
    "execution": {
     "iopub.execute_input": "2024-08-07T01:46:30.057598Z",
     "iopub.status.busy": "2024-08-07T01:46:30.057352Z",
     "iopub.status.idle": "2024-08-07T01:46:30.061595Z",
     "shell.execute_reply": "2024-08-07T01:46:30.061713Z"
    },
    "id": "9nX57pMUL72X"
   },
   "outputs": [
    {
     "data": {
      "text/html": [
       "<script> (()=>{ if (customElements.get('treescope-container') === undefined) { class TreescopeContainer extends HTMLElement { constructor() { super(); this.attachShadow({mode: \"open\"}); this.defns = {}; this.state = {}; } } customElements.define(\"treescope-container\", TreescopeContainer); } if (customElements.get('treescope-run-here') === undefined) { class RunHere extends HTMLElement { constructor() { super() } connectedCallback() { const run = child => { const fn = new Function(child.textContent); child.textContent = \"\"; fn.call(this); this.remove(); }; const child = this.querySelector(\"script\"); if (child) { run(child); } else { new MutationObserver(()=>{ run(this.querySelector(\"script\")); }).observe(this, {childList: true}); } } } customElements.define(\"treescope-run-here\", RunHere); } })(); </script> <treescope-container class=\"treescope_out_681f27986bfa43cba1e033b6f111764a\" ></treescope-container> <treescope-run-here><script type=\"application/octet-stream\"> const root = ( Array.from(document.getElementsByClassName( \"treescope_out_681f27986bfa43cba1e033b6f111764a\")) .filter((elt) => !elt.dataset.setup) )[0]; root.dataset.setup = 1; const msg = document.createElement(\"span\"); msg.style = \"color: #cccccc; font-family: monospace;\"; msg.textContent = \"(Loading...)\"; root.state.loadingMsg = msg; root.shadowRoot.appendChild(msg); root.state.chain = new Promise((resolve, reject) => { const observer = new IntersectionObserver((entries) => { for (const entry of entries) { if (entry.isIntersecting) { resolve(); observer.disconnect(); return; } } }, {rootMargin: \"1000px\"}); window.setTimeout(() => { observer.observe(root); }, 0); }); root.state.deferring = false; const _insertNode = (node) => { for (let oldScript of node.querySelectorAll(\"script\")) { let newScript = document.createElement(\"script\"); newScript.type = oldScript.type; newScript.textContent = oldScript.textContent; oldScript.parentNode.replaceChild(newScript, oldScript); } if (root.state.loadingMsg) { root.state.loadingMsg.remove(); root.state.loadingMsg = null; } root.shadowRoot.appendChild(node); }; root.defns.insertContent = ((contentNode, compressed) => { if (compressed) { root.state.deferring = true; } if (root.state.deferring) { root.state.chain = (async () => { await root.state.chain; if (compressed) { const encoded = contentNode.textContent; const blob = new Blob([ Uint8Array.from(atob(encoded), (m) => m.codePointAt(0)) ]); const reader = blob.stream().pipeThrough( new DecompressionStream(\"deflate\") ).pipeThrough( new TextDecoderStream(\"utf-8\") ).getReader(); const parts = []; while (true) { const step = await reader.read(); if (step.done) { break; } parts.push(step.value); } const tpl = document.createElement('template'); tpl.innerHTML = parts.join(\"\"); _insertNode(tpl.content); } else { _insertNode(contentNode.content); } })(); } else { _insertNode(contentNode.content); } }); </script></treescope-run-here><div style=\"display:none\"> <script type=\"application/octet-stream\" >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</script> <treescope-run-here><script type=\"application/octet-stream\"> const root = ( Array.from(document.getElementsByClassName( \"treescope_out_681f27986bfa43cba1e033b6f111764a\")) .filter((elt) => !elt.dataset['step0']) )[0]; root.dataset['step0'] = 1; root.defns.insertContent( this.parentNode.querySelector('script[type=\"application/octet-stream\"]'), true ); this.parentNode.remove(); </script></treescope-run-here> </div>"
      ],
      "text/plain": [
       "<IPython.core.display.HTML object>"
      ]
     },
     "metadata": {},
     "output_type": "display_data"
    },
    {
     "data": {
      "text/html": [
       "<treescope-run-here><script type=\"application/octet-stream\"> const root = ( Array.from(document.getElementsByClassName( \"treescope_out_681f27986bfa43cba1e033b6f111764a\")) .filter((elt) => !elt.dataset.stolen) )[0]; root.dataset.stolen = 1; this.parentNode.replaceChild(root, this); </script></treescope-run-here>"
      ],
      "text/plain": [
       "{'a': (DictKey(key='a'),),\n",
       " 'b': (DictKey(key='b'),),\n",
       " 'c': [{'value': (DictKey(key='c'), SequenceKey(idx=0), DictKey(key='value'))},\n",
       "  {'value': (DictKey(key='c'), SequenceKey(idx=1), DictKey(key='value'))},\n",
       "  {'value': (DictKey(key='c'), SequenceKey(idx=2), DictKey(key='value'))}]}"
      ]
     },
     "execution_count": 25,
     "metadata": {},
     "output_type": "execute_result"
    }
   ],
   "source": [
    "jax.tree_util.tree_map_with_path(lambda key, node: key, my_nested_object)"
   ]
  },
  {
   "cell_type": "markdown",
   "metadata": {
    "id": "BzUbLkQ5MFTG"
   },
   "source": [
    "You can directly select nodes based on their JAX keypath:"
   ]
  },
  {
   "cell_type": "code",
   "execution_count": 26,
   "metadata": {
    "execution": {
     "iopub.execute_input": "2024-08-07T01:46:30.069650Z",
     "iopub.status.busy": "2024-08-07T01:46:30.069354Z",
     "iopub.status.idle": "2024-08-07T01:46:30.079525Z",
     "shell.execute_reply": "2024-08-07T01:46:30.079682Z"
    },
    "id": "YQZQ9MVwMw0h"
   },
   "outputs": [
    {
     "data": {
      "text/html": [
       "<script> (()=>{ if (customElements.get('treescope-container') === undefined) { class TreescopeContainer extends HTMLElement { constructor() { super(); this.attachShadow({mode: \"open\"}); this.defns = {}; this.state = {}; } } customElements.define(\"treescope-container\", TreescopeContainer); } if (customElements.get('treescope-run-here') === undefined) { class RunHere extends HTMLElement { constructor() { super() } connectedCallback() { const run = child => { const fn = new Function(child.textContent); child.textContent = \"\"; fn.call(this); this.remove(); }; const child = this.querySelector(\"script\"); if (child) { run(child); } else { new MutationObserver(()=>{ run(this.querySelector(\"script\")); }).observe(this, {childList: true}); } } } customElements.define(\"treescope-run-here\", RunHere); } })(); </script> <treescope-container class=\"treescope_out_4cdc393319334ddc80bd3a552efdc522\" ></treescope-container> <treescope-run-here><script type=\"application/octet-stream\"> const root = ( Array.from(document.getElementsByClassName( \"treescope_out_4cdc393319334ddc80bd3a552efdc522\")) .filter((elt) => !elt.dataset.setup) )[0]; root.dataset.setup = 1; const msg = document.createElement(\"span\"); msg.style = \"color: #cccccc; font-family: monospace;\"; msg.textContent = \"(Loading...)\"; root.state.loadingMsg = msg; root.shadowRoot.appendChild(msg); root.state.chain = new Promise((resolve, reject) => { const observer = new IntersectionObserver((entries) => { for (const entry of entries) { if (entry.isIntersecting) { resolve(); observer.disconnect(); return; } } }, {rootMargin: \"1000px\"}); window.setTimeout(() => { observer.observe(root); }, 0); }); root.state.deferring = false; const _insertNode = (node) => { for (let oldScript of node.querySelectorAll(\"script\")) { let newScript = document.createElement(\"script\"); newScript.type = oldScript.type; newScript.textContent = oldScript.textContent; oldScript.parentNode.replaceChild(newScript, oldScript); } if (root.state.loadingMsg) { root.state.loadingMsg.remove(); root.state.loadingMsg = null; } root.shadowRoot.appendChild(node); }; root.defns.insertContent = ((contentNode, compressed) => { if (compressed) { root.state.deferring = true; } if (root.state.deferring) { root.state.chain = (async () => { await root.state.chain; if (compressed) { const encoded = contentNode.textContent; const blob = new Blob([ Uint8Array.from(atob(encoded), (m) => m.codePointAt(0)) ]); const reader = blob.stream().pipeThrough( new DecompressionStream(\"deflate\") ).pipeThrough( new TextDecoderStream(\"utf-8\") ).getReader(); const parts = []; while (true) { const step = await reader.read(); if (step.done) { break; } parts.push(step.value); } const tpl = document.createElement('template'); tpl.innerHTML = parts.join(\"\"); _insertNode(tpl.content); } else { _insertNode(contentNode.content); } })(); } else { _insertNode(contentNode.content); } }); </script></treescope-run-here><div style=\"display:none\"> <script type=\"application/octet-stream\" >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</script> <treescope-run-here><script type=\"application/octet-stream\"> const root = ( Array.from(document.getElementsByClassName( \"treescope_out_4cdc393319334ddc80bd3a552efdc522\")) .filter((elt) => !elt.dataset['step0']) )[0]; root.dataset['step0'] = 1; root.defns.insertContent( this.parentNode.querySelector('script[type=\"application/octet-stream\"]'), true ); this.parentNode.remove(); </script></treescope-run-here> </div>"
      ],
      "text/plain": [
       "<IPython.core.display.HTML object>"
      ]
     },
     "metadata": {},
     "output_type": "display_data"
    },
    {
     "data": {
      "text/html": [
       "<div style=\"display:none\"> <script type=\"application/octet-stream\" >eNq1k8tu2zAQRX9lwAKBjSiKLMmSHD+ANmmBbLpoF10EQcDHyGbBiCpFBzWK/HuH8iNJm7bJogvLojh3Zs7wcqb0HXR+Y3DOlO5awzdn0NgGGWg1Z7V1NwprdA7VTSKSMqs4Jnk5yvNqIoTgxSgTKDBJJSJbzLqWN/QM+RaxtIbkXAiHd/AD+uUZvCmqlCfJFO5np9vAXgXS8K6bs8citjgyfvqVf4/fOsc3g6skglEEaQRZBHkE4wiKCMoIqggm1xEov2lxrhufpcOjpZ9Sgb6f/R+xLmavAB4XSqRpUeRCTPIqKauirOokq8tyPFJlmj4AvxQAiCAgBIYAESgCRuAIIIEEJkQZSEf/AalKxwKlyMoxZnmWKYF5pTjngssyE2r8eqQkjuD536H92lj+VwDvEDtpWzxx6+ZkhS6YQjrdeugTMN62RkvutW1OrfToTzrS8Fu2kLbpKIq7JfpL1cEcrtjLHRsBe/lpPw7+5xyvp9vOlJXOWk99+ZXuYuryEy0/WoWD4RR23RP+LmgXHn9bo9t8RoPSWzdg8WFCN2GbHaS148tbbHbSdXiNJU3G48Vu+WEX8Xu5c0MeIeE+R0xTxkadr7RRg31QLENU3693axxSFjIUDAx60CSmi6xh9nAAscFm6Vf09fh4SLc+xG03H1ei5XuD4fXd5pKK7dVX+poKBE1n107iBTn7j0N5E5zN4Bh+kW+XsUO6CRK/aL8aHLLFtXbdvnZPSoKHXYe39q4/mfvDmJ4kejK7YXBzb1My8jMe/gl6osVN</script> <treescope-run-here><script type=\"application/octet-stream\"> const root = ( Array.from(document.getElementsByClassName( \"treescope_out_4cdc393319334ddc80bd3a552efdc522\")) .filter((elt) => !elt.dataset['step1']) )[0]; root.dataset['step1'] = 1; root.defns.insertContent( this.parentNode.querySelector('script[type=\"application/octet-stream\"]'), true ); this.parentNode.remove(); </script></treescope-run-here> </div>"
      ],
      "text/plain": [
       "<IPython.core.display.HTML object>"
      ]
     },
     "metadata": {},
     "output_type": "display_data"
    },
    {
     "data": {
      "text/html": [
       "<treescope-run-here><script type=\"application/octet-stream\"> const root = ( Array.from(document.getElementsByClassName( \"treescope_out_4cdc393319334ddc80bd3a552efdc522\")) .filter((elt) => !elt.dataset.stolen) )[0]; root.dataset.stolen = 1; this.parentNode.replaceChild(root, this); </script></treescope-run-here>"
      ],
      "text/plain": [
       "Selection(\n",
       "  selected_by_path=OrderedDict({\n",
       "    (DictKey(key='c'), SequenceKey(idx=0)):\n",
       "      {\n",
       "        'value': <jax.Array([ 0,  1,  2,  3,  4,  5,  6,  7,  8,  9, 10, 11], dtype=int32)>,\n",
       "      },\n",
       "    (DictKey(key='c'), SequenceKey(idx=2), DictKey(key='value')):\n",
       "      3,\n",
       "  }),\n",
       "  remainder={\n",
       "    'a': 1,\n",
       "    'b': <jax.Array([0, 1, 2, 3, 4, 5, 6, 7, 8, 9], dtype=int32)>,\n",
       "    'c': [SelectionHole(path=(DictKey(key='c'), SequenceKey(idx=0))), {'value': <jax.Array([0., 0., 0., 0., 0., 0., 0.], dtype=float32)>}, {'value': SelectionHole(path=(DictKey(key='c'), SequenceKey(idx=2), DictKey(key='value')))}],\n",
       "  },\n",
       ")"
      ]
     },
     "execution_count": 26,
     "metadata": {},
     "output_type": "execute_result"
    }
   ],
   "source": [
    "pz.select(my_nested_object).at_keypaths([\n",
    "    (jax.tree_util.DictKey(key='c'), jax.tree_util.SequenceKey(idx=2), jax.tree_util.DictKey(key='value')),\n",
    "    (jax.tree_util.DictKey(key='c'), jax.tree_util.SequenceKey(idx=0)),\n",
    "])"
   ]
  },
  {
   "cell_type": "markdown",
   "metadata": {
    "id": "vyDFHhwNNI2y"
   },
   "source": [
    "(You might have noticed that the fancy rendering for Selection objects is actually written in terms of `at_keypaths`, and exposes the keypaths for the currently selected nodes if you expand the last line!)"
   ]
  },
  {
   "cell_type": "markdown",
   "metadata": {
    "id": "j8rujhAbOOKR"
   },
   "source": [
    "### Selecting based on PyTree structure\n",
    "\n",
    "You can also build selections based on PyTree children or PyTree leaves:"
   ]
  },
  {
   "cell_type": "code",
   "execution_count": 27,
   "metadata": {
    "execution": {
     "iopub.execute_input": "2024-08-07T01:46:30.087007Z",
     "iopub.status.busy": "2024-08-07T01:46:30.086726Z",
     "iopub.status.idle": "2024-08-07T01:46:30.096139Z",
     "shell.execute_reply": "2024-08-07T01:46:30.095960Z"
    },
    "id": "ZBZnh09wOdJz"
   },
   "outputs": [
    {
     "data": {
      "text/html": [
       "<script> (()=>{ if (customElements.get('treescope-container') === undefined) { class TreescopeContainer extends HTMLElement { constructor() { super(); this.attachShadow({mode: \"open\"}); this.defns = {}; this.state = {}; } } customElements.define(\"treescope-container\", TreescopeContainer); } if (customElements.get('treescope-run-here') === undefined) { class RunHere extends HTMLElement { constructor() { super() } connectedCallback() { const run = child => { const fn = new Function(child.textContent); child.textContent = \"\"; fn.call(this); this.remove(); }; const child = this.querySelector(\"script\"); if (child) { run(child); } else { new MutationObserver(()=>{ run(this.querySelector(\"script\")); }).observe(this, {childList: true}); } } } customElements.define(\"treescope-run-here\", RunHere); } })(); </script> <treescope-container class=\"treescope_out_742527f8e7c5483babed0276fb235796\" ></treescope-container> <treescope-run-here><script type=\"application/octet-stream\"> const root = ( Array.from(document.getElementsByClassName( \"treescope_out_742527f8e7c5483babed0276fb235796\")) .filter((elt) => !elt.dataset.setup) )[0]; root.dataset.setup = 1; const msg = document.createElement(\"span\"); msg.style = \"color: #cccccc; font-family: monospace;\"; msg.textContent = \"(Loading...)\"; root.state.loadingMsg = msg; root.shadowRoot.appendChild(msg); root.state.chain = new Promise((resolve, reject) => { const observer = new IntersectionObserver((entries) => { for (const entry of entries) { if (entry.isIntersecting) { resolve(); observer.disconnect(); return; } } }, {rootMargin: \"1000px\"}); window.setTimeout(() => { observer.observe(root); }, 0); }); root.state.deferring = false; const _insertNode = (node) => { for (let oldScript of node.querySelectorAll(\"script\")) { let newScript = document.createElement(\"script\"); newScript.type = oldScript.type; newScript.textContent = oldScript.textContent; oldScript.parentNode.replaceChild(newScript, oldScript); } if (root.state.loadingMsg) { root.state.loadingMsg.remove(); root.state.loadingMsg = null; } root.shadowRoot.appendChild(node); }; root.defns.insertContent = ((contentNode, compressed) => { if (compressed) { root.state.deferring = true; } if (root.state.deferring) { root.state.chain = (async () => { await root.state.chain; if (compressed) { const encoded = contentNode.textContent; const blob = new Blob([ Uint8Array.from(atob(encoded), (m) => m.codePointAt(0)) ]); const reader = blob.stream().pipeThrough( new DecompressionStream(\"deflate\") ).pipeThrough( new TextDecoderStream(\"utf-8\") ).getReader(); const parts = []; while (true) { const step = await reader.read(); if (step.done) { break; } parts.push(step.value); } const tpl = document.createElement('template'); tpl.innerHTML = parts.join(\"\"); _insertNode(tpl.content); } else { _insertNode(contentNode.content); } })(); } else { _insertNode(contentNode.content); } }); </script></treescope-run-here><div style=\"display:none\"> <script type=\"application/octet-stream\" >eNrtGgtTm8r6r2zTmSa5GoQ8TazOJTEvW7UaW217zuQusMAaAghLYjzjf7/fAnmKqbbaUzuNMxJ3v/1e+73xrc8mFtkTmEeIrzou6XuOw9A/yHV8yqhj15BHLMzoiOwg3bFZTsdDak1qaOjYju9iFdbHJmUkF/5RQ64HKxb1WS5EnWMTF1Ztx4ZlBasDw3MCW8upjuV4tejoDor/UiwAAHxUY2YN6ZQBmM2IzXaQizWN2kbOIjqrobxqciI2yZmEGiasSEKJo7EZpsDz7Fj8JTeiPlWoRRlwjgPmzGBz1GYetX2q5nx6Q6LdmN3bt1uRet7O1JPzAhtoerDmqx51GeLy7aax61pUxVxjW47KCJfeI3iY3stksrt7oFCg5zOkEd320S5iJvUFg7BT0PaRo5FMVjAdnwnhPohGGOq7xOYiyyrHyg99/Ttpp4NtzSKwbQeWtRNREIDNnuPYsJoZO94gixZ5cM5hiW8tLTOq8kWXeLrjDbGtEsF2xplseL9AIHNnB+WiQ29RIZ8FPFRHmRWuBYvYBjPR7i4SOcha1j3CAs8GvSNi+WTOmBnYnLNV1L5Jdcb5CwH4l1v4uYdCBqzK1pyx4JGrgPhMtukwvK6Wh4ckE+kky3Hs3CHkBr4ZqXEnQcYpid1IjDVSPpwHzkV0kcwxDCvyyn7oOWCtLsfFV4jFNhEZgYHHN8m5C/8WBmTClZ7yUpyhGFhQLez778E5Y7yZ1AxnfwhmmJoSv82CPsH8Qxvfe7uV5AAaHaEQ4W5qOXykEMMKSEqud1NiCjk2MANi2wC3zuyTZc3wM1MpU+B2UcAKI0ZfdYZDWA9NJYwgr3H44VKsgOCa7bBMzXRGxMsmwMfgdjBUiLeAUKxuS6XyHMDn4cJYpFiQSlKJA4AUxPOI1nchjhHTsbQlTLjCf+IwGopRQ5RhiBv8sA7gWAHxbdDLPQEYhFoC60caA2iN+kB0Mg20q4BoD1lYIVatphDwYbLAlRp+dhLpRcE2J/FoGwdlcWdOi9phCFYsh0fte2mGKr9LWcPewCfYANOx754Ob2tlycR+Zi/EuZeoh+iGVZOoA6Jls+g/2TkP/GjyoSn8Eodh1qih9F/5kqKm/032lg/dy2T5JzDJ75ETDjyfX6DrQO4kXgJd6j8d2dAVQkK5MAb499n401Cdi8fINbtLRaB+X6eez/qO3efmn+Ba61xJyJe4NyVeFfph9qMbX2WRSzXEngHVTsRG6NC3P0gN4qE7UQLGoMxICkDz7SSjTaHUChQoEkrIZOC/iFTUUisVaPoQg1VQbKHeZKg4lo+OA8bl1VAjOglPdwKOkRsTZQDVZBR5h5BfTIjhUOvZDI5T7BNtVoO+JiL/2blr5tHpsEgUhSoZrkoZ+UeCFMnhbn5SGGO/r0IeAMXOzmOdLWWPaZxeR3PlzDLJRdWjEfYyuZyGGc5hGy42LEOyi8ucCK+tPGxPrTlEiyQfEdAYFM45J2CPE2XGAVwMJdqrZU5CkugVHbqOx7B9B7fiOQNi9/nKPBh9W7sLxxb0Ob3mW4FXKsCY1lehztU8YsesLncSgHMZ8Imi64LrxIl0yVVVbKkZaHeg1pbc67A8E3yG+fkZv8/GieJ4UMLEnGgOA9k5F4vKAxMgnuJc98Ha+07kf4uYlmuEuIvjDpQvcQ+Ck9ylwrWYGiyFUnKkY8rM58X6NLrbRImKeLaLiYuxIb6ed8i3wlWALRs6iT704Dq9hnNLIWs7DFmCT1zsQeQMU4P/zLbMrTWB3nMaLUhoYl6Fj7Fngwn0p2XE1PN1HatSIQHQhc7qn9mkwYsHCzxXxi4ZL+VEIUzi83FGLRxGYC9neFijcB0ZqVDSiLGJHIifBkEi6L+smptRPAWF8OwULqHYp++wcieNP5nGlgLMVJhbYWyGUdKysAsJ8dtNxeMrhvspRA4d0giByDVkDu1emKfgI4lELGgEMG+3k1Sx3PIKy300WoNhVVR7qbNPBnwIsXvxPOEwi88X0CvZ8/BE0D1nmNEcNeDttcAjjS+MsBUQP5PNCr4zJJkw/vDJBH8KUd3GpxIPrNxSaZRF2dkcyDcJYXxYRMao0ev1uDQ9vsZHP+Gm4JGw9e5NbDXzv//G1aJKppHw8ZXjYq9u8+GXFa+N47ljUYQ06HtqDQWeleFlTI3vb40dXc/vKFAolYubmlhtHxpyXQ4/3RNZdsJv9dMx/O60ZLkpr/vUh7JsDJx3WrdZb4w/y/LZ58aBfNitN+SWcd3tvDeZXz+kxCi09i/y77vlz6OeG9APh6Uz6eCie/rpcHR+eMM+TFqtxsa5MTij9X3RpPsnwUFTa1+KHWVLH3U19+pd2bw6p/QkOLTbZkf/yOSP5fqRV5RbXXvQLKsfg8DeOC1dqf5gPNJb1tbVtdF0tg3lYNzeljryli2flt573oF0umHciKeaKB/oknFUaYzbl3lDdCbBaaUybErlceeiemwYLjkbTIqkq9yUVMU7bjMsGyfdo/E+9if+SdDtXpw3W2P5w4nb/ax93NraMCpnlYsCE/V3H67kUQlwvpePKvLhWB4aN6e9jeBLjzQvrvN6Wb05Kp52JqWgLr+7qV+6LbdAOyeNpvgl+FDsVWy9/r7ZaR0OZbqxPWrmTVsyKxvKp/HF5bjjjfbbHxv2pd5sGmzjWP1iWZVStXEwrm+b1eLhYbtXaH+RjWG3dFk/qbKzNulUm/V6t13YN4qnW5/ViSK34U4/vduST9pYJocNS+7cNI+NL8wo1z8Yx8fd/fqAnpRIq37RqLdUKrqm57g22Ib7pbkv3UiDnt7QmTl5Z3c03PI7ung0bDePynVNvvr0ycXM730Zahqm1bx+Uy1+pJdXZXfolY+dz40e9drD0UG70DvvFVrNvFo/0c82Opbjtostf1zCxlV5m34hvSPLPbfrnS7RDj0SnF+1G0PpvOUNer3rUr58fu6PZeAoi8LBL8ukQ7NO85T1P/g1836sOS4Uh3OXDMfVgiCsgdiMfPZvwLV+LGiG89Owfo9aC8AN5mGrKBNV+MvTbXDBM4e7L4DFHQBf8yE8cBS8peF9AB5jypCNR9TAzPEEwOwqDvY0YexRRs6g+8/McYGwMa75CBXqhExqod/hw1OgckaHBOq/zHS6fuecR4bQvNw5eruJ8qIohuUABF+oDDJh555Md6GpSc2Z4zOLaQTj8+YUeo1amFoQ2JiDOPCrMLJBCWBDsQjRmILOCNZ4T7axqLt4EPyNETDv76Yz4KVxa2rPvYHKzyIqywAOAFsGvtNzpdbtr2wujxlXyyQAjmqBt9R2gzinpcLsD+V5KhFJXCjAZlQkgLjh4b1/3m7FyJ6M+8UxcmrvzevrfGUHR49YUzV0v7hPKl2icEmNzIoIq01UCoUpkm/wZquG8tAk+o5FNaROsL3SSPJudmFzBfc97cIDoFZAloq86V7M58LUIGJwKadDRaABW69RLzRgotWmJrz8eCRDiy8YUntSMs6kx+ZduWZFdGoPJbGTKHy0l56PRtLIsRs8Au2mHxmCw7cy2TSazW12U1/TOP33zBIWRjo19OYqcNhOCBB93UF3hk9QlYWBBxIbdLbpmOf16vkhn1P++Nxv7HNU203N3seVtrdxRc/nq1jBxep2tVouVMWSmJdUsUx0aVXVSe/xUnuX+FoIOx/ImayQz0jiZvbhPvzCXFn5lisrv5Irq39c+fdPn89X9c0u9GvSjT6fk6nfcjL1h53sBdTc62vtZ9X+V/HbFwAwv8odJIW+cOKWGP6WM2BFwqVqWS9tEwIZsFItKmKpWFSqUl4XS4Xq92XA/J0MuCaCbP4yyS261a/pUHfpB5nADPhJk170uH1htcFPc5zvrBB+z1AlPUDj0u8QqqRKuaLgEpFErBcrFU0Rt/MlkYhqXsVqVVIfGap0y8E8WFVebqySHhOrpD+x6t/wnD+xakHj+QdoPP9CY1XiMK/w4mJK/jExJf9TYspLUt5PsO+kx9+PGDi9FG0+dwv8vSb3ba2uvPHKCpj1B2TC2fET33o92ShqPoJaw8/aFP3GYjsF5AdK+FpvE5nUMC0+vyEawoozIm8MtvMALb1Ga7GsKjFhYLbG7l7Ma8LM078m/AmVwcvk+q7xzP7raYWZlf+HjLoCbqn9gFFLWLbNfaqyd2TyNDqBKLD7yJe+D4rXS4/srBa/Z/lBJfovWLH+sct/1S6VP3b5xy5/QbtUn9cuvx/hg8vw1YJxBqrR0d7/AdH1aqc=</script> <treescope-run-here><script type=\"application/octet-stream\"> const root = ( Array.from(document.getElementsByClassName( \"treescope_out_742527f8e7c5483babed0276fb235796\")) .filter((elt) => !elt.dataset['step0']) )[0]; root.dataset['step0'] = 1; root.defns.insertContent( this.parentNode.querySelector('script[type=\"application/octet-stream\"]'), true ); this.parentNode.remove(); </script></treescope-run-here> </div>"
      ],
      "text/plain": [
       "<IPython.core.display.HTML object>"
      ]
     },
     "metadata": {},
     "output_type": "display_data"
    },
    {
     "data": {
      "text/html": [
       "<div style=\"display:none\"> <script type=\"application/octet-stream\" >eNq1k01v2zAMhv8KoQJFgrqu7MSx3XwAW7sBveywHXYoikCW6USDanmyUiwo+t9HOR9Nt25LDzvEsSy+JB/q1aRUD9C6tcYpK1XbaLG+hNrUyECVU1YZOy+xQmuxnCdZJtIqjnNRiGGe5flokPOEx5HkI6wiZLNJ24ianj7fLJRGk1wUhcUHeIRueQknoywWnI/haXKxCexUILVo2yk7FLHZqXbjb+JH+M5ase7d8gCiAOIABgEMA0gCGAWQBpAFkN8FULp1g1NVu0HcP124MRXo+tn9Eets8hbgNBJJPqqSDJGA03xY8GQ4LPIorngyyJ+BjwUAIvAInsFDeAqP4Tk8iCeBnCg9afQfkKJ0lBYiwYiLapimZcGzOOHIZSyFzCP5diQeBvD6b99+pY34K4CziK00DZ7bVX2+ROtNIa1qHHQJmGgaraRwytQXRjp05y1pxD2bSVO3FCXsAt1N2cIUbtnxjg2AHX/ah8H/nOPdeNNZaaQ1xlFfbqnakLr8TMtPpsRefwzb7gl/G7QND7+v0K6/oEbpjO2xcD+hud9me2llxeIe66105V9DSZNxeL1dftxG/F7uSpNHSLjLEdKUsS6vlkqXvV1QKH1U16+zK+xTFjIU9DQ6UCSmi6xg8nwAocZ64Zb09eysT7fex202DyvR8oNG//p+fUPFdupbdUcFvKY1Kyvxmpz9x6GceGczOINf5JtlaJFugsSvyi17+2xhpWy7q92RkuB51+K9eehO5mk/pheJXsyu793c2ZSM/IqHfwJ0kMI1</script> <treescope-run-here><script type=\"application/octet-stream\"> const root = ( Array.from(document.getElementsByClassName( \"treescope_out_742527f8e7c5483babed0276fb235796\")) .filter((elt) => !elt.dataset['step1']) )[0]; root.dataset['step1'] = 1; root.defns.insertContent( this.parentNode.querySelector('script[type=\"application/octet-stream\"]'), true ); this.parentNode.remove(); </script></treescope-run-here> </div>"
      ],
      "text/plain": [
       "<IPython.core.display.HTML object>"
      ]
     },
     "metadata": {},
     "output_type": "display_data"
    },
    {
     "data": {
      "text/html": [
       "<treescope-run-here><script type=\"application/octet-stream\"> const root = ( Array.from(document.getElementsByClassName( \"treescope_out_742527f8e7c5483babed0276fb235796\")) .filter((elt) => !elt.dataset.stolen) )[0]; root.dataset.stolen = 1; this.parentNode.replaceChild(root, this); </script></treescope-run-here>"
      ],
      "text/plain": [
       "Selection(\n",
       "  selected_by_path=OrderedDict({\n",
       "    (DictKey(key='a'),):\n",
       "      1,\n",
       "    (DictKey(key='b'),):\n",
       "      <jax.Array([0, 1, 2, 3, 4, 5, 6, 7, 8, 9], dtype=int32)>,\n",
       "    (DictKey(key='c'),):\n",
       "      [{'value': <jax.Array([ 0,  1,  2,  3,  4,  5,  6,  7,  8,  9, 10, 11], dtype=int32)>}, {'value': <jax.Array([0., 0., 0., 0., 0., 0., 0.], dtype=float32)>}, {'value': 3}],\n",
       "  }),\n",
       "  remainder={'a': SelectionHole(path=(DictKey(key='a'),)), 'b': SelectionHole(path=(DictKey(key='b'),)), 'c': SelectionHole(path=(DictKey(key='c'),))},\n",
       ")"
      ]
     },
     "execution_count": 27,
     "metadata": {},
     "output_type": "execute_result"
    }
   ],
   "source": [
    "pz.select(my_nested_object).at_children()"
   ]
  },
  {
   "cell_type": "code",
   "execution_count": 28,
   "metadata": {
    "execution": {
     "iopub.execute_input": "2024-08-07T01:46:30.105065Z",
     "iopub.status.busy": "2024-08-07T01:46:30.104830Z",
     "iopub.status.idle": "2024-08-07T01:46:30.117691Z",
     "shell.execute_reply": "2024-08-07T01:46:30.117520Z"
    },
    "id": "cGcp4EK2OfW1"
   },
   "outputs": [
    {
     "data": {
      "text/html": [
       "<script> (()=>{ if (customElements.get('treescope-container') === undefined) { class TreescopeContainer extends HTMLElement { constructor() { super(); this.attachShadow({mode: \"open\"}); this.defns = {}; this.state = {}; } } customElements.define(\"treescope-container\", TreescopeContainer); } if (customElements.get('treescope-run-here') === undefined) { class RunHere extends HTMLElement { constructor() { super() } connectedCallback() { const run = child => { const fn = new Function(child.textContent); child.textContent = \"\"; fn.call(this); this.remove(); }; const child = this.querySelector(\"script\"); if (child) { run(child); } else { new MutationObserver(()=>{ run(this.querySelector(\"script\")); }).observe(this, {childList: true}); } } } customElements.define(\"treescope-run-here\", RunHere); } })(); </script> <treescope-container class=\"treescope_out_f4cda8e5a87149e5b540d160b4f5ab60\" ></treescope-container> <treescope-run-here><script type=\"application/octet-stream\"> const root = ( Array.from(document.getElementsByClassName( \"treescope_out_f4cda8e5a87149e5b540d160b4f5ab60\")) .filter((elt) => !elt.dataset.setup) )[0]; root.dataset.setup = 1; const msg = document.createElement(\"span\"); msg.style = \"color: #cccccc; font-family: monospace;\"; msg.textContent = \"(Loading...)\"; root.state.loadingMsg = msg; root.shadowRoot.appendChild(msg); root.state.chain = new Promise((resolve, reject) => { const observer = new IntersectionObserver((entries) => { for (const entry of entries) { if (entry.isIntersecting) { resolve(); observer.disconnect(); return; } } }, {rootMargin: \"1000px\"}); window.setTimeout(() => { observer.observe(root); }, 0); }); root.state.deferring = false; const _insertNode = (node) => { for (let oldScript of node.querySelectorAll(\"script\")) { let newScript = document.createElement(\"script\"); newScript.type = oldScript.type; newScript.textContent = oldScript.textContent; oldScript.parentNode.replaceChild(newScript, oldScript); } if (root.state.loadingMsg) { root.state.loadingMsg.remove(); root.state.loadingMsg = null; } root.shadowRoot.appendChild(node); }; root.defns.insertContent = ((contentNode, compressed) => { if (compressed) { root.state.deferring = true; } if (root.state.deferring) { root.state.chain = (async () => { await root.state.chain; if (compressed) { const encoded = contentNode.textContent; const blob = new Blob([ Uint8Array.from(atob(encoded), (m) => m.codePointAt(0)) ]); const reader = blob.stream().pipeThrough( new DecompressionStream(\"deflate\") ).pipeThrough( new TextDecoderStream(\"utf-8\") ).getReader(); const parts = []; while (true) { const step = await reader.read(); if (step.done) { break; } parts.push(step.value); } const tpl = document.createElement('template'); tpl.innerHTML = parts.join(\"\"); _insertNode(tpl.content); } else { _insertNode(contentNode.content); } })(); } else { _insertNode(contentNode.content); } }); </script></treescope-run-here><div style=\"display:none\"> <script type=\"application/octet-stream\" >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</script> <treescope-run-here><script type=\"application/octet-stream\"> const root = ( Array.from(document.getElementsByClassName( \"treescope_out_f4cda8e5a87149e5b540d160b4f5ab60\")) .filter((elt) => !elt.dataset['step0']) )[0]; root.dataset['step0'] = 1; root.defns.insertContent( this.parentNode.querySelector('script[type=\"application/octet-stream\"]'), true ); this.parentNode.remove(); </script></treescope-run-here> </div>"
      ],
      "text/plain": [
       "<IPython.core.display.HTML object>"
      ]
     },
     "metadata": {},
     "output_type": "display_data"
    },
    {
     "data": {
      "text/html": [
       "<div style=\"display:none\"> <script type=\"application/octet-stream\" >eNq1k8tu2zAQRX9lwAKBjSiKZOtBxQ+gTVogmy7aRRdBEFDk2GbBiCpFBzWK/HuH8iNJm7bJogvLojh3Zs7wcqr0HXR+Y3DGlO5aIzZn0NgGGWg1YwvrbhQu0DlUNzwtijzL87rCPKtFKsalwDGOSlGUIkkUm0+7VjT0DPnmsbSG5KKuHd7BD+iXZ/Cm4COKnsD99HQb2KtAGtF1M/ZYxOZHxk++iu/xW+fEZnCVRJBGMIpgHEEWQR5BEUEZAY+guo5A+U2LM9348Wh4tPQTKtD3s/8j1vn0FcCFGCdlmlcqrXlWcMFFUo4WNa9oDCgFfwB+KQAQQUAIDAEiUASMwBFAAglURBlI0/+AVMuRLFWWYMrzrOJpVRS1VCnPOJZcVvh6pCSO4Pnfof2FseKvAN4hdtK2eOLWzckKXTCFdLr10Cdgom2NlsJr25xa6dGfdKQRt2wubdNRlHBL9JeqgxlcsZc7NgL28tN+HPzPOV5Ptp0pK521nvryK93F1OUnWn60CgfDCey6J/xd0C48/rZGt/mMBqW3bsDiw4RuwjY7SBdOLG+x2UnX4TWWNBmPF7vlh13E7+XODXmEhPscMU0ZG3W+0kYN9kGxDFF9v96tcUhZyFAwMOhBk5gusobpwwHEBpulX9HX4+Mh3foQt918XImW7w2G13ebSyq2V1/payoQNJ1dO4kX5Ow/DuVNcDaDY/hFvl3GDukmSPyi/WpwyBYvtOv2tXtSEjzsOry1d/3J3B/G9CTRk9kNg5t7m5KRn/HwT7xmw2M=</script> <treescope-run-here><script type=\"application/octet-stream\"> const root = ( Array.from(document.getElementsByClassName( \"treescope_out_f4cda8e5a87149e5b540d160b4f5ab60\")) .filter((elt) => !elt.dataset['step1']) )[0]; root.dataset['step1'] = 1; root.defns.insertContent( this.parentNode.querySelector('script[type=\"application/octet-stream\"]'), true ); this.parentNode.remove(); </script></treescope-run-here> </div>"
      ],
      "text/plain": [
       "<IPython.core.display.HTML object>"
      ]
     },
     "metadata": {},
     "output_type": "display_data"
    },
    {
     "data": {
      "text/html": [
       "<treescope-run-here><script type=\"application/octet-stream\"> const root = ( Array.from(document.getElementsByClassName( \"treescope_out_f4cda8e5a87149e5b540d160b4f5ab60\")) .filter((elt) => !elt.dataset.stolen) )[0]; root.dataset.stolen = 1; this.parentNode.replaceChild(root, this); </script></treescope-run-here>"
      ],
      "text/plain": [
       "Selection(\n",
       "  selected_by_path=OrderedDict({(DictKey(key='a'),): 1, (DictKey(key='b'),): <jax.Array([0, 1, 2, 3, 4, 5, 6, 7, 8, 9], dtype=int32)>, (DictKey(key='c'), SequenceKey(idx=0), DictKey(key='value')): <jax.Array([ 0,  1,  2,  3,  4,  5,  6,  7,  8,  9, 10, 11], dtype=int32)>, (DictKey(key='c'), SequenceKey(idx=1), DictKey(key='value')): <jax.Array([0., 0., 0., 0., 0., 0., 0.], dtype=float32)>, (DictKey(key='c'), SequenceKey(idx=2), DictKey(key='value')): 3}),\n",
       "  remainder={\n",
       "    'a': SelectionHole(path=(DictKey(key='a'),)),\n",
       "    'b': SelectionHole(path=(DictKey(key='b'),)),\n",
       "    'c': [\n",
       "      {\n",
       "        'value': SelectionHole(\n",
       "          path=(DictKey(key='c'), SequenceKey(idx=0), DictKey(key='value')),\n",
       "        ),\n",
       "      },\n",
       "      {\n",
       "        'value': SelectionHole(path=(DictKey(key='c'), SequenceKey(idx=1), DictKey(key='value'))),\n",
       "      },\n",
       "      {\n",
       "        'value': SelectionHole(path=(DictKey(key='c'), SequenceKey(idx=2), DictKey(key='value'))),\n",
       "      },\n",
       "    ],\n",
       "  },\n",
       ")"
      ]
     },
     "execution_count": 28,
     "metadata": {},
     "output_type": "execute_result"
    }
   ],
   "source": [
    "pz.select(my_nested_object).at_pytree_leaves()"
   ]
  },
  {
   "cell_type": "markdown",
   "metadata": {
    "id": "L88O37NHOyrP"
   },
   "source": [
    "Note that some PyTree nodes, like `None` or the empty tuple `()`, don't have any children and are ignored by `jax.tree_util.tree_map`, so they won't be selected by `.at_pytree_leaves`:"
   ]
  },
  {
   "cell_type": "code",
   "execution_count": 29,
   "metadata": {
    "execution": {
     "iopub.execute_input": "2024-08-07T01:46:30.125055Z",
     "iopub.status.busy": "2024-08-07T01:46:30.124822Z",
     "iopub.status.idle": "2024-08-07T01:46:30.131598Z",
     "shell.execute_reply": "2024-08-07T01:46:30.131716Z"
    },
    "id": "-wD3VJajO6TR"
   },
   "outputs": [
    {
     "data": {
      "text/html": [
       "<script> (()=>{ if (customElements.get('treescope-container') === undefined) { class TreescopeContainer extends HTMLElement { constructor() { super(); this.attachShadow({mode: \"open\"}); this.defns = {}; this.state = {}; } } customElements.define(\"treescope-container\", TreescopeContainer); } if (customElements.get('treescope-run-here') === undefined) { class RunHere extends HTMLElement { constructor() { super() } connectedCallback() { const run = child => { const fn = new Function(child.textContent); child.textContent = \"\"; fn.call(this); this.remove(); }; const child = this.querySelector(\"script\"); if (child) { run(child); } else { new MutationObserver(()=>{ run(this.querySelector(\"script\")); }).observe(this, {childList: true}); } } } customElements.define(\"treescope-run-here\", RunHere); } })(); </script> <treescope-container class=\"treescope_out_e4e1cb37a08e4483b432f4eccd84bc71\" ></treescope-container> <treescope-run-here><script type=\"application/octet-stream\"> const root = ( Array.from(document.getElementsByClassName( \"treescope_out_e4e1cb37a08e4483b432f4eccd84bc71\")) .filter((elt) => !elt.dataset.setup) )[0]; root.dataset.setup = 1; const msg = document.createElement(\"span\"); msg.style = \"color: #cccccc; font-family: monospace;\"; msg.textContent = \"(Loading...)\"; root.state.loadingMsg = msg; root.shadowRoot.appendChild(msg); root.state.chain = new Promise((resolve, reject) => { const observer = new IntersectionObserver((entries) => { for (const entry of entries) { if (entry.isIntersecting) { resolve(); observer.disconnect(); return; } } }, {rootMargin: \"1000px\"}); window.setTimeout(() => { observer.observe(root); }, 0); }); root.state.deferring = false; const _insertNode = (node) => { for (let oldScript of node.querySelectorAll(\"script\")) { let newScript = document.createElement(\"script\"); newScript.type = oldScript.type; newScript.textContent = oldScript.textContent; oldScript.parentNode.replaceChild(newScript, oldScript); } if (root.state.loadingMsg) { root.state.loadingMsg.remove(); root.state.loadingMsg = null; } root.shadowRoot.appendChild(node); }; root.defns.insertContent = ((contentNode, compressed) => { if (compressed) { root.state.deferring = true; } if (root.state.deferring) { root.state.chain = (async () => { await root.state.chain; if (compressed) { const encoded = contentNode.textContent; const blob = new Blob([ Uint8Array.from(atob(encoded), (m) => m.codePointAt(0)) ]); const reader = blob.stream().pipeThrough( new DecompressionStream(\"deflate\") ).pipeThrough( new TextDecoderStream(\"utf-8\") ).getReader(); const parts = []; while (true) { const step = await reader.read(); if (step.done) { break; } parts.push(step.value); } const tpl = document.createElement('template'); tpl.innerHTML = parts.join(\"\"); _insertNode(tpl.content); } else { _insertNode(contentNode.content); } })(); } else { _insertNode(contentNode.content); } }); </script></treescope-run-here><div style=\"display:none\"> <script type=\"application/octet-stream\" >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</script> <treescope-run-here><script type=\"application/octet-stream\"> const root = ( Array.from(document.getElementsByClassName( \"treescope_out_e4e1cb37a08e4483b432f4eccd84bc71\")) .filter((elt) => !elt.dataset['step0']) )[0]; root.dataset['step0'] = 1; root.defns.insertContent( this.parentNode.querySelector('script[type=\"application/octet-stream\"]'), true ); this.parentNode.remove(); </script></treescope-run-here> </div>"
      ],
      "text/plain": [
       "<IPython.core.display.HTML object>"
      ]
     },
     "metadata": {},
     "output_type": "display_data"
    },
    {
     "data": {
      "text/html": [
       "<treescope-run-here><script type=\"application/octet-stream\"> const root = ( Array.from(document.getElementsByClassName( \"treescope_out_e4e1cb37a08e4483b432f4eccd84bc71\")) .filter((elt) => !elt.dataset.stolen) )[0]; root.dataset.stolen = 1; this.parentNode.replaceChild(root, this); </script></treescope-run-here>"
      ],
      "text/plain": [
       "Selection(\n",
       "  selected_by_path=OrderedDict({(SequenceKey(idx=0),): 1, (SequenceKey(idx=1),): 2, (SequenceKey(idx=3),): 3, (SequenceKey(idx=5),): 4}),\n",
       "  remainder=[\n",
       "    SelectionHole(path=(SequenceKey(idx=0),)),\n",
       "    SelectionHole(path=(SequenceKey(idx=1),)),\n",
       "    (),\n",
       "    SelectionHole(path=(SequenceKey(idx=3),)),\n",
       "    None,\n",
       "    SelectionHole(path=(SequenceKey(idx=5),)),\n",
       "  ],\n",
       ")"
      ]
     },
     "execution_count": 29,
     "metadata": {},
     "output_type": "execute_result"
    }
   ],
   "source": [
    "pz.select([1, 2, (), 3, None, 4]).at_pytree_leaves()"
   ]
  },
  {
   "cell_type": "markdown",
   "metadata": {
    "id": "_afpL4O8O_VZ"
   },
   "source": [
    "If you want to select these too, you can use `.at_childless`:"
   ]
  },
  {
   "cell_type": "code",
   "execution_count": 30,
   "metadata": {
    "execution": {
     "iopub.execute_input": "2024-08-07T01:46:30.138986Z",
     "iopub.status.busy": "2024-08-07T01:46:30.134167Z",
     "iopub.status.idle": "2024-08-07T01:46:30.147464Z",
     "shell.execute_reply": "2024-08-07T01:46:30.147234Z"
    },
    "id": "byvIxqOZPDD6"
   },
   "outputs": [
    {
     "data": {
      "text/html": [
       "<script> (()=>{ if (customElements.get('treescope-container') === undefined) { class TreescopeContainer extends HTMLElement { constructor() { super(); this.attachShadow({mode: \"open\"}); this.defns = {}; this.state = {}; } } customElements.define(\"treescope-container\", TreescopeContainer); } if (customElements.get('treescope-run-here') === undefined) { class RunHere extends HTMLElement { constructor() { super() } connectedCallback() { const run = child => { const fn = new Function(child.textContent); child.textContent = \"\"; fn.call(this); this.remove(); }; const child = this.querySelector(\"script\"); if (child) { run(child); } else { new MutationObserver(()=>{ run(this.querySelector(\"script\")); }).observe(this, {childList: true}); } } } customElements.define(\"treescope-run-here\", RunHere); } })(); </script> <treescope-container class=\"treescope_out_c8567e78941e45faa65e5e15023442fb\" ></treescope-container> <treescope-run-here><script type=\"application/octet-stream\"> const root = ( Array.from(document.getElementsByClassName( \"treescope_out_c8567e78941e45faa65e5e15023442fb\")) .filter((elt) => !elt.dataset.setup) )[0]; root.dataset.setup = 1; const msg = document.createElement(\"span\"); msg.style = \"color: #cccccc; font-family: monospace;\"; msg.textContent = \"(Loading...)\"; root.state.loadingMsg = msg; root.shadowRoot.appendChild(msg); root.state.chain = new Promise((resolve, reject) => { const observer = new IntersectionObserver((entries) => { for (const entry of entries) { if (entry.isIntersecting) { resolve(); observer.disconnect(); return; } } }, {rootMargin: \"1000px\"}); window.setTimeout(() => { observer.observe(root); }, 0); }); root.state.deferring = false; const _insertNode = (node) => { for (let oldScript of node.querySelectorAll(\"script\")) { let newScript = document.createElement(\"script\"); newScript.type = oldScript.type; newScript.textContent = oldScript.textContent; oldScript.parentNode.replaceChild(newScript, oldScript); } if (root.state.loadingMsg) { root.state.loadingMsg.remove(); root.state.loadingMsg = null; } root.shadowRoot.appendChild(node); }; root.defns.insertContent = ((contentNode, compressed) => { if (compressed) { root.state.deferring = true; } if (root.state.deferring) { root.state.chain = (async () => { await root.state.chain; if (compressed) { const encoded = contentNode.textContent; const blob = new Blob([ Uint8Array.from(atob(encoded), (m) => m.codePointAt(0)) ]); const reader = blob.stream().pipeThrough( new DecompressionStream(\"deflate\") ).pipeThrough( new TextDecoderStream(\"utf-8\") ).getReader(); const parts = []; while (true) { const step = await reader.read(); if (step.done) { break; } parts.push(step.value); } const tpl = document.createElement('template'); tpl.innerHTML = parts.join(\"\"); _insertNode(tpl.content); } else { _insertNode(contentNode.content); } })(); } else { _insertNode(contentNode.content); } }); </script></treescope-run-here><div style=\"display:none\"> <script type=\"application/octet-stream\" >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</script> <treescope-run-here><script type=\"application/octet-stream\"> const root = ( Array.from(document.getElementsByClassName( \"treescope_out_c8567e78941e45faa65e5e15023442fb\")) .filter((elt) => !elt.dataset['step0']) )[0]; root.dataset['step0'] = 1; root.defns.insertContent( this.parentNode.querySelector('script[type=\"application/octet-stream\"]'), true ); this.parentNode.remove(); </script></treescope-run-here> </div>"
      ],
      "text/plain": [
       "<IPython.core.display.HTML object>"
      ]
     },
     "metadata": {},
     "output_type": "display_data"
    },
    {
     "data": {
      "text/html": [
       "<treescope-run-here><script type=\"application/octet-stream\"> const root = ( Array.from(document.getElementsByClassName( \"treescope_out_c8567e78941e45faa65e5e15023442fb\")) .filter((elt) => !elt.dataset.stolen) )[0]; root.dataset.stolen = 1; this.parentNode.replaceChild(root, this); </script></treescope-run-here>"
      ],
      "text/plain": [
       "Selection(\n",
       "  selected_by_path=OrderedDict({(SequenceKey(idx=0),): 1, (SequenceKey(idx=1),): 2, (SequenceKey(idx=2),): (), (SequenceKey(idx=3),): 3, (SequenceKey(idx=4),): None, (SequenceKey(idx=5),): 4}),\n",
       "  remainder=[\n",
       "    SelectionHole(path=(SequenceKey(idx=0),)),\n",
       "    SelectionHole(path=(SequenceKey(idx=1),)),\n",
       "    SelectionHole(path=(SequenceKey(idx=2),)),\n",
       "    SelectionHole(path=(SequenceKey(idx=3),)),\n",
       "    SelectionHole(path=(SequenceKey(idx=4),)),\n",
       "    SelectionHole(path=(SequenceKey(idx=5),)),\n",
       "  ],\n",
       ")"
      ]
     },
     "execution_count": 30,
     "metadata": {},
     "output_type": "execute_result"
    }
   ],
   "source": [
    "pz.select([1, 2, (), 3, None, 4]).at_childless()"
   ]
  },
  {
   "cell_type": "markdown",
   "metadata": {
    "id": "3y9uooSkPKoU"
   },
   "source": [
    "### Filtering selections\n",
    "Given an existing set of selected nodes, you can choose to filter down to only a subset that match a criterion:"
   ]
  },
  {
   "cell_type": "code",
   "execution_count": 31,
   "metadata": {
    "execution": {
     "iopub.execute_input": "2024-08-07T01:46:30.157912Z",
     "iopub.status.busy": "2024-08-07T01:46:30.157681Z",
     "iopub.status.idle": "2024-08-07T01:46:30.168965Z",
     "shell.execute_reply": "2024-08-07T01:46:30.169080Z"
    },
    "id": "Uk1-HVvKPOq6"
   },
   "outputs": [
    {
     "data": {
      "text/html": [
       "<script> (()=>{ if (customElements.get('treescope-container') === undefined) { class TreescopeContainer extends HTMLElement { constructor() { super(); this.attachShadow({mode: \"open\"}); this.defns = {}; this.state = {}; } } customElements.define(\"treescope-container\", TreescopeContainer); } if (customElements.get('treescope-run-here') === undefined) { class RunHere extends HTMLElement { constructor() { super() } connectedCallback() { const run = child => { const fn = new Function(child.textContent); child.textContent = \"\"; fn.call(this); this.remove(); }; const child = this.querySelector(\"script\"); if (child) { run(child); } else { new MutationObserver(()=>{ run(this.querySelector(\"script\")); }).observe(this, {childList: true}); } } } customElements.define(\"treescope-run-here\", RunHere); } })(); </script> <treescope-container class=\"treescope_out_f372ba84d85348dbbfbae5b3f8cb0a11\" ></treescope-container> <treescope-run-here><script type=\"application/octet-stream\"> const root = ( Array.from(document.getElementsByClassName( \"treescope_out_f372ba84d85348dbbfbae5b3f8cb0a11\")) .filter((elt) => !elt.dataset.setup) )[0]; root.dataset.setup = 1; const msg = document.createElement(\"span\"); msg.style = \"color: #cccccc; font-family: monospace;\"; msg.textContent = \"(Loading...)\"; root.state.loadingMsg = msg; root.shadowRoot.appendChild(msg); root.state.chain = new Promise((resolve, reject) => { const observer = new IntersectionObserver((entries) => { for (const entry of entries) { if (entry.isIntersecting) { resolve(); observer.disconnect(); return; } } }, {rootMargin: \"1000px\"}); window.setTimeout(() => { observer.observe(root); }, 0); }); root.state.deferring = false; const _insertNode = (node) => { for (let oldScript of node.querySelectorAll(\"script\")) { let newScript = document.createElement(\"script\"); newScript.type = oldScript.type; newScript.textContent = oldScript.textContent; oldScript.parentNode.replaceChild(newScript, oldScript); } if (root.state.loadingMsg) { root.state.loadingMsg.remove(); root.state.loadingMsg = null; } root.shadowRoot.appendChild(node); }; root.defns.insertContent = ((contentNode, compressed) => { if (compressed) { root.state.deferring = true; } if (root.state.deferring) { root.state.chain = (async () => { await root.state.chain; if (compressed) { const encoded = contentNode.textContent; const blob = new Blob([ Uint8Array.from(atob(encoded), (m) => m.codePointAt(0)) ]); const reader = blob.stream().pipeThrough( new DecompressionStream(\"deflate\") ).pipeThrough( new TextDecoderStream(\"utf-8\") ).getReader(); const parts = []; while (true) { const step = await reader.read(); if (step.done) { break; } parts.push(step.value); } const tpl = document.createElement('template'); tpl.innerHTML = parts.join(\"\"); _insertNode(tpl.content); } else { _insertNode(contentNode.content); } })(); } else { _insertNode(contentNode.content); } }); </script></treescope-run-here><div style=\"display:none\"> <script type=\"application/octet-stream\" >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</script> <treescope-run-here><script type=\"application/octet-stream\"> const root = ( Array.from(document.getElementsByClassName( \"treescope_out_f372ba84d85348dbbfbae5b3f8cb0a11\")) .filter((elt) => !elt.dataset['step0']) )[0]; root.dataset['step0'] = 1; root.defns.insertContent( this.parentNode.querySelector('script[type=\"application/octet-stream\"]'), true ); this.parentNode.remove(); </script></treescope-run-here> </div>"
      ],
      "text/plain": [
       "<IPython.core.display.HTML object>"
      ]
     },
     "metadata": {},
     "output_type": "display_data"
    },
    {
     "data": {
      "text/html": [
       "<treescope-run-here><script type=\"application/octet-stream\"> const root = ( Array.from(document.getElementsByClassName( \"treescope_out_f372ba84d85348dbbfbae5b3f8cb0a11\")) .filter((elt) => !elt.dataset.stolen) )[0]; root.dataset.stolen = 1; this.parentNode.replaceChild(root, this); </script></treescope-run-here>"
      ],
      "text/plain": [
       "Selection(\n",
       "  selected_by_path=OrderedDict({(SequenceKey(idx=0),): 0, (SequenceKey(idx=2),): 2, (SequenceKey(idx=4),): 4, (SequenceKey(idx=6),): 6, (SequenceKey(idx=8),): 8, (SequenceKey(idx=10),): 10, (SequenceKey(idx=12),): 12, (SequenceKey(idx=14),): 14, (SequenceKey(idx=16),): 16, (SequenceKey(idx=18),): 18}),\n",
       "  remainder=[SelectionHole(path=(SequenceKey(idx=0),)), 1, SelectionHole(path=(SequenceKey(idx=2),)), 3, SelectionHole(path=(SequenceKey(idx=4),)), 5, SelectionHole(path=(SequenceKey(idx=6),)), 7, SelectionHole(path=(SequenceKey(idx=8),)), 9, SelectionHole(path=(SequenceKey(idx=10),)), 11, SelectionHole(path=(SequenceKey(idx=12),)), 13, SelectionHole(path=(SequenceKey(idx=14),)), 15, SelectionHole(path=(SequenceKey(idx=16),)), 17, SelectionHole(path=(SequenceKey(idx=18),)), 19],\n",
       ")"
      ]
     },
     "execution_count": 31,
     "metadata": {},
     "output_type": "execute_result"
    }
   ],
   "source": [
    "pz.select(list(range(20))).at_instances_of(int).where(lambda x: x % 2 == 0)"
   ]
  },
  {
   "cell_type": "markdown",
   "metadata": {
    "id": "2Ae_LP3BdpGG"
   },
   "source": [
    "You can also choose to keep only the `n`th node that you've selected (e.g. the third integer in the collection), zero-indexed:"
   ]
  },
  {
   "cell_type": "code",
   "execution_count": 32,
   "metadata": {
    "execution": {
     "iopub.execute_input": "2024-08-07T01:46:30.174978Z",
     "iopub.status.busy": "2024-08-07T01:46:30.174545Z",
     "iopub.status.idle": "2024-08-07T01:46:30.179894Z",
     "shell.execute_reply": "2024-08-07T01:46:30.179640Z"
    },
    "id": "zkisw9V-eNaa"
   },
   "outputs": [
    {
     "data": {
      "text/html": [
       "<script> (()=>{ if (customElements.get('treescope-container') === undefined) { class TreescopeContainer extends HTMLElement { constructor() { super(); this.attachShadow({mode: \"open\"}); this.defns = {}; this.state = {}; } } customElements.define(\"treescope-container\", TreescopeContainer); } if (customElements.get('treescope-run-here') === undefined) { class RunHere extends HTMLElement { constructor() { super() } connectedCallback() { const run = child => { const fn = new Function(child.textContent); child.textContent = \"\"; fn.call(this); this.remove(); }; const child = this.querySelector(\"script\"); if (child) { run(child); } else { new MutationObserver(()=>{ run(this.querySelector(\"script\")); }).observe(this, {childList: true}); } } } customElements.define(\"treescope-run-here\", RunHere); } })(); </script> <treescope-container class=\"treescope_out_b476ab4ab523483abf5401030427e432\" ></treescope-container> <treescope-run-here><script type=\"application/octet-stream\"> const root = ( Array.from(document.getElementsByClassName( \"treescope_out_b476ab4ab523483abf5401030427e432\")) .filter((elt) => !elt.dataset.setup) )[0]; root.dataset.setup = 1; const msg = document.createElement(\"span\"); msg.style = \"color: #cccccc; font-family: monospace;\"; msg.textContent = \"(Loading...)\"; root.state.loadingMsg = msg; root.shadowRoot.appendChild(msg); root.state.chain = new Promise((resolve, reject) => { const observer = new IntersectionObserver((entries) => { for (const entry of entries) { if (entry.isIntersecting) { resolve(); observer.disconnect(); return; } } }, {rootMargin: \"1000px\"}); window.setTimeout(() => { observer.observe(root); }, 0); }); root.state.deferring = false; const _insertNode = (node) => { for (let oldScript of node.querySelectorAll(\"script\")) { let newScript = document.createElement(\"script\"); newScript.type = oldScript.type; newScript.textContent = oldScript.textContent; oldScript.parentNode.replaceChild(newScript, oldScript); } if (root.state.loadingMsg) { root.state.loadingMsg.remove(); root.state.loadingMsg = null; } root.shadowRoot.appendChild(node); }; root.defns.insertContent = ((contentNode, compressed) => { if (compressed) { root.state.deferring = true; } if (root.state.deferring) { root.state.chain = (async () => { await root.state.chain; if (compressed) { const encoded = contentNode.textContent; const blob = new Blob([ Uint8Array.from(atob(encoded), (m) => m.codePointAt(0)) ]); const reader = blob.stream().pipeThrough( new DecompressionStream(\"deflate\") ).pipeThrough( new TextDecoderStream(\"utf-8\") ).getReader(); const parts = []; while (true) { const step = await reader.read(); if (step.done) { break; } parts.push(step.value); } const tpl = document.createElement('template'); tpl.innerHTML = parts.join(\"\"); _insertNode(tpl.content); } else { _insertNode(contentNode.content); } })(); } else { _insertNode(contentNode.content); } }); </script></treescope-run-here><div style=\"display:none\"> <script type=\"application/octet-stream\" >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</script> <treescope-run-here><script type=\"application/octet-stream\"> const root = ( Array.from(document.getElementsByClassName( \"treescope_out_b476ab4ab523483abf5401030427e432\")) .filter((elt) => !elt.dataset['step0']) )[0]; root.dataset['step0'] = 1; root.defns.insertContent( this.parentNode.querySelector('script[type=\"application/octet-stream\"]'), true ); this.parentNode.remove(); </script></treescope-run-here> </div>"
      ],
      "text/plain": [
       "<IPython.core.display.HTML object>"
      ]
     },
     "metadata": {},
     "output_type": "display_data"
    },
    {
     "data": {
      "text/html": [
       "<treescope-run-here><script type=\"application/octet-stream\"> const root = ( Array.from(document.getElementsByClassName( \"treescope_out_b476ab4ab523483abf5401030427e432\")) .filter((elt) => !elt.dataset.stolen) )[0]; root.dataset.stolen = 1; this.parentNode.replaceChild(root, this); </script></treescope-run-here>"
      ],
      "text/plain": [
       "Selection(\n",
       "  selected_by_path=OrderedDict({(SequenceKey(idx=4),): 3}),\n",
       "  remainder=[\n",
       "    1,\n",
       "    'a',\n",
       "    2,\n",
       "    'b',\n",
       "    SelectionHole(path=(SequenceKey(idx=4),)),\n",
       "    'c',\n",
       "    4,\n",
       "    'd',\n",
       "  ],\n",
       ")"
      ]
     },
     "execution_count": 32,
     "metadata": {},
     "output_type": "execute_result"
    }
   ],
   "source": [
    "pz.select([1, \"a\", 2, \"b\", 3, \"c\", 4, \"d\"]).at_instances_of(int).pick_nth_selected(2)"
   ]
  },
  {
   "cell_type": "markdown",
   "metadata": {
    "id": "VK7GeXc6ka0s"
   },
   "source": [
    "### Inverting selections\n",
    "Selections can be inverted, which produces a new Selection which selects every PyTree node that did NOT contain any of the selected nodes:"
   ]
  },
  {
   "cell_type": "code",
   "execution_count": 33,
   "metadata": {
    "execution": {
     "iopub.execute_input": "2024-08-07T01:46:30.186255Z",
     "iopub.status.busy": "2024-08-07T01:46:30.186020Z",
     "iopub.status.idle": "2024-08-07T01:46:30.195486Z",
     "shell.execute_reply": "2024-08-07T01:46:30.195266Z"
    },
    "id": "CF1rqre8klTc"
   },
   "outputs": [
    {
     "name": "stdout",
     "output_type": "stream",
     "text": [
      "Original:\n"
     ]
    },
    {
     "data": {
      "text/html": [
       "<script> (()=>{ if (customElements.get('treescope-container') === undefined) { class TreescopeContainer extends HTMLElement { constructor() { super(); this.attachShadow({mode: \"open\"}); this.defns = {}; this.state = {}; } } customElements.define(\"treescope-container\", TreescopeContainer); } if (customElements.get('treescope-run-here') === undefined) { class RunHere extends HTMLElement { constructor() { super() } connectedCallback() { const run = child => { const fn = new Function(child.textContent); child.textContent = \"\"; fn.call(this); this.remove(); }; const child = this.querySelector(\"script\"); if (child) { run(child); } else { new MutationObserver(()=>{ run(this.querySelector(\"script\")); }).observe(this, {childList: true}); } } } customElements.define(\"treescope-run-here\", RunHere); } })(); </script> <treescope-container class=\"treescope_out_c6fc6aa2e9674d5eaa1db5750cd76be1\" ></treescope-container> <treescope-run-here><script type=\"application/octet-stream\"> const root = ( Array.from(document.getElementsByClassName( \"treescope_out_c6fc6aa2e9674d5eaa1db5750cd76be1\")) .filter((elt) => !elt.dataset.setup) )[0]; root.dataset.setup = 1; const msg = document.createElement(\"span\"); msg.style = \"color: #cccccc; font-family: monospace;\"; msg.textContent = \"(Loading...)\"; root.state.loadingMsg = msg; root.shadowRoot.appendChild(msg); root.state.chain = new Promise((resolve, reject) => { const observer = new IntersectionObserver((entries) => { for (const entry of entries) { if (entry.isIntersecting) { resolve(); observer.disconnect(); return; } } }, {rootMargin: \"1000px\"}); window.setTimeout(() => { observer.observe(root); }, 0); }); root.state.deferring = false; const _insertNode = (node) => { for (let oldScript of node.querySelectorAll(\"script\")) { let newScript = document.createElement(\"script\"); newScript.type = oldScript.type; newScript.textContent = oldScript.textContent; oldScript.parentNode.replaceChild(newScript, oldScript); } if (root.state.loadingMsg) { root.state.loadingMsg.remove(); root.state.loadingMsg = null; } root.shadowRoot.appendChild(node); }; root.defns.insertContent = ((contentNode, compressed) => { if (compressed) { root.state.deferring = true; } if (root.state.deferring) { root.state.chain = (async () => { await root.state.chain; if (compressed) { const encoded = contentNode.textContent; const blob = new Blob([ Uint8Array.from(atob(encoded), (m) => m.codePointAt(0)) ]); const reader = blob.stream().pipeThrough( new DecompressionStream(\"deflate\") ).pipeThrough( new TextDecoderStream(\"utf-8\") ).getReader(); const parts = []; while (true) { const step = await reader.read(); if (step.done) { break; } parts.push(step.value); } const tpl = document.createElement('template'); tpl.innerHTML = parts.join(\"\"); _insertNode(tpl.content); } else { _insertNode(contentNode.content); } })(); } else { _insertNode(contentNode.content); } }); </script></treescope-run-here><div style=\"display:none\"> <script type=\"application/octet-stream\" >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</script> <treescope-run-here><script type=\"application/octet-stream\"> const root = ( Array.from(document.getElementsByClassName( \"treescope_out_c6fc6aa2e9674d5eaa1db5750cd76be1\")) .filter((elt) => !elt.dataset['step0']) )[0]; root.dataset['step0'] = 1; root.defns.insertContent( this.parentNode.querySelector('script[type=\"application/octet-stream\"]'), true ); this.parentNode.remove(); </script></treescope-run-here> </div>"
      ],
      "text/plain": [
       "<IPython.core.display.HTML object>"
      ]
     },
     "metadata": {},
     "output_type": "display_data"
    },
    {
     "name": "stdout",
     "output_type": "stream",
     "text": [
      "Inverted:\n"
     ]
    },
    {
     "data": {
      "text/html": [
       "<script> (()=>{ if (customElements.get('treescope-container') === undefined) { class TreescopeContainer extends HTMLElement { constructor() { super(); this.attachShadow({mode: \"open\"}); this.defns = {}; this.state = {}; } } customElements.define(\"treescope-container\", TreescopeContainer); } if (customElements.get('treescope-run-here') === undefined) { class RunHere extends HTMLElement { constructor() { super() } connectedCallback() { const run = child => { const fn = new Function(child.textContent); child.textContent = \"\"; fn.call(this); this.remove(); }; const child = this.querySelector(\"script\"); if (child) { run(child); } else { new MutationObserver(()=>{ run(this.querySelector(\"script\")); }).observe(this, {childList: true}); } } } customElements.define(\"treescope-run-here\", RunHere); } })(); </script> <treescope-container class=\"treescope_out_427b125e51c84683b5ef43550e491b7f\" ></treescope-container> <treescope-run-here><script type=\"application/octet-stream\"> const root = ( Array.from(document.getElementsByClassName( \"treescope_out_427b125e51c84683b5ef43550e491b7f\")) .filter((elt) => !elt.dataset.setup) )[0]; root.dataset.setup = 1; const msg = document.createElement(\"span\"); msg.style = \"color: #cccccc; font-family: monospace;\"; msg.textContent = \"(Loading...)\"; root.state.loadingMsg = msg; root.shadowRoot.appendChild(msg); root.state.chain = new Promise((resolve, reject) => { const observer = new IntersectionObserver((entries) => { for (const entry of entries) { if (entry.isIntersecting) { resolve(); observer.disconnect(); return; } } }, {rootMargin: \"1000px\"}); window.setTimeout(() => { observer.observe(root); }, 0); }); root.state.deferring = false; const _insertNode = (node) => { for (let oldScript of node.querySelectorAll(\"script\")) { let newScript = document.createElement(\"script\"); newScript.type = oldScript.type; newScript.textContent = oldScript.textContent; oldScript.parentNode.replaceChild(newScript, oldScript); } if (root.state.loadingMsg) { root.state.loadingMsg.remove(); root.state.loadingMsg = null; } root.shadowRoot.appendChild(node); }; root.defns.insertContent = ((contentNode, compressed) => { if (compressed) { root.state.deferring = true; } if (root.state.deferring) { root.state.chain = (async () => { await root.state.chain; if (compressed) { const encoded = contentNode.textContent; const blob = new Blob([ Uint8Array.from(atob(encoded), (m) => m.codePointAt(0)) ]); const reader = blob.stream().pipeThrough( new DecompressionStream(\"deflate\") ).pipeThrough( new TextDecoderStream(\"utf-8\") ).getReader(); const parts = []; while (true) { const step = await reader.read(); if (step.done) { break; } parts.push(step.value); } const tpl = document.createElement('template'); tpl.innerHTML = parts.join(\"\"); _insertNode(tpl.content); } else { _insertNode(contentNode.content); } })(); } else { _insertNode(contentNode.content); } }); </script></treescope-run-here><div style=\"display:none\"> <script type=\"application/octet-stream\" >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</script> <treescope-run-here><script type=\"application/octet-stream\"> const root = ( Array.from(document.getElementsByClassName( \"treescope_out_427b125e51c84683b5ef43550e491b7f\")) .filter((elt) => !elt.dataset['step0']) )[0]; root.dataset['step0'] = 1; root.defns.insertContent( this.parentNode.querySelector('script[type=\"application/octet-stream\"]'), true ); this.parentNode.remove(); </script></treescope-run-here> </div>"
      ],
      "text/plain": [
       "<IPython.core.display.HTML object>"
      ]
     },
     "metadata": {},
     "output_type": "display_data"
    }
   ],
   "source": [
    "selection = pz.select([1, \"a\", 2, \"b\", 3, \"c\", 4, \"d\"]).at_instances_of(int).pick_nth_selected(2)\n",
    "\n",
    "print(\"Original:\")\n",
    "selection.show_selection()\n",
    "print(\"Inverted:\")\n",
    "selection.invert().show_selection()"
   ]
  },
  {
   "cell_type": "code",
   "execution_count": 34,
   "metadata": {
    "execution": {
     "iopub.execute_input": "2024-08-07T01:46:30.203574Z",
     "iopub.status.busy": "2024-08-07T01:46:30.203300Z",
     "iopub.status.idle": "2024-08-07T01:46:30.216483Z",
     "shell.execute_reply": "2024-08-07T01:46:30.216267Z"
    },
    "id": "HaLCG89dknQg"
   },
   "outputs": [
    {
     "name": "stdout",
     "output_type": "stream",
     "text": [
      "Original:\n"
     ]
    },
    {
     "data": {
      "text/html": [
       "<script> (()=>{ if (customElements.get('treescope-container') === undefined) { class TreescopeContainer extends HTMLElement { constructor() { super(); this.attachShadow({mode: \"open\"}); this.defns = {}; this.state = {}; } } customElements.define(\"treescope-container\", TreescopeContainer); } if (customElements.get('treescope-run-here') === undefined) { class RunHere extends HTMLElement { constructor() { super() } connectedCallback() { const run = child => { const fn = new Function(child.textContent); child.textContent = \"\"; fn.call(this); this.remove(); }; const child = this.querySelector(\"script\"); if (child) { run(child); } else { new MutationObserver(()=>{ run(this.querySelector(\"script\")); }).observe(this, {childList: true}); } } } customElements.define(\"treescope-run-here\", RunHere); } })(); </script> <treescope-container class=\"treescope_out_b1c50f7e5bbf49c58f7e6b731a7ed7ac\" ></treescope-container> <treescope-run-here><script type=\"application/octet-stream\"> const root = ( Array.from(document.getElementsByClassName( \"treescope_out_b1c50f7e5bbf49c58f7e6b731a7ed7ac\")) .filter((elt) => !elt.dataset.setup) )[0]; root.dataset.setup = 1; const msg = document.createElement(\"span\"); msg.style = \"color: #cccccc; font-family: monospace;\"; msg.textContent = \"(Loading...)\"; root.state.loadingMsg = msg; root.shadowRoot.appendChild(msg); root.state.chain = new Promise((resolve, reject) => { const observer = new IntersectionObserver((entries) => { for (const entry of entries) { if (entry.isIntersecting) { resolve(); observer.disconnect(); return; } } }, {rootMargin: \"1000px\"}); window.setTimeout(() => { observer.observe(root); }, 0); }); root.state.deferring = false; const _insertNode = (node) => { for (let oldScript of node.querySelectorAll(\"script\")) { let newScript = document.createElement(\"script\"); newScript.type = oldScript.type; newScript.textContent = oldScript.textContent; oldScript.parentNode.replaceChild(newScript, oldScript); } if (root.state.loadingMsg) { root.state.loadingMsg.remove(); root.state.loadingMsg = null; } root.shadowRoot.appendChild(node); }; root.defns.insertContent = ((contentNode, compressed) => { if (compressed) { root.state.deferring = true; } if (root.state.deferring) { root.state.chain = (async () => { await root.state.chain; if (compressed) { const encoded = contentNode.textContent; const blob = new Blob([ Uint8Array.from(atob(encoded), (m) => m.codePointAt(0)) ]); const reader = blob.stream().pipeThrough( new DecompressionStream(\"deflate\") ).pipeThrough( new TextDecoderStream(\"utf-8\") ).getReader(); const parts = []; while (true) { const step = await reader.read(); if (step.done) { break; } parts.push(step.value); } const tpl = document.createElement('template'); tpl.innerHTML = parts.join(\"\"); _insertNode(tpl.content); } else { _insertNode(contentNode.content); } })(); } else { _insertNode(contentNode.content); } }); </script></treescope-run-here><div style=\"display:none\"> <script type=\"application/octet-stream\" >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</script> <treescope-run-here><script type=\"application/octet-stream\"> const root = ( Array.from(document.getElementsByClassName( \"treescope_out_b1c50f7e5bbf49c58f7e6b731a7ed7ac\")) .filter((elt) => !elt.dataset['step0']) )[0]; root.dataset['step0'] = 1; root.defns.insertContent( this.parentNode.querySelector('script[type=\"application/octet-stream\"]'), true ); this.parentNode.remove(); </script></treescope-run-here> </div>"
      ],
      "text/plain": [
       "<IPython.core.display.HTML object>"
      ]
     },
     "metadata": {},
     "output_type": "display_data"
    },
    {
     "data": {
      "text/html": [
       "<div style=\"display:none\"> <script type=\"application/octet-stream\" >eNq1k8tu2zAQRX9lwACBjciKLMl6xA+gTVogmy7aRRdBEFDkyGbBiCpFBzWC/HuH8iNJm7bJogvLojh3Zs7wcibVHXRuo3HOpOpazTdn0JgGGSg5Z7WxNxJrtBbljUzSvMqiSZZnaYq84HFZ5XVRyKyeiKRO2WLWtbyhp8+3CIXRJOdVZfEO7qFfnsFRVsQ8iqbwMDvdBvYqEJp33Zw9FbHFsXbTb/xH+M5avhlcRQGMA4gDSAJIA5gEkAWQB1AEUF4HIN2mxblqXBIPj5duSgX6fvZ/xLqYvQG4ruKkHsdc5FilIuFVXmQlfZFlNBmnJT4CvxYAiMAjeAYP4Sk8hufwIJ4ESqL0pOP/glQmIo6iqPRniESSZxUSVp3kBaG+HSkKA3j5d2i/1ob/FcBZxE6YFkd23YxWaL0phFWtgz4B422rleBOmebUCIdu1JGG37KFME1HUdwu0V3KDuZwxV7v2ADY60/7efA/5ng93XYmjbDGOOrLrVQXUpefafnJSBwMp7DrnvB3Qbvw8Psa7eYLahTO2AELDxO68dvsIK0tX95is5Ou/WsoaDIOL3bLj7uI38uda/IICfc5QpoyNvJ8pbQc7INC4aP6fp1d45CykKFgoNGBIjFdZAWzxwMINTZLt6KvJydDuvU+brv5tBItP2j0r+83l1Rsr75S11TAazqztgIvyNl/HMqRdzaDE/hFvl2GFukmCPyq3GpwyBbWynb72j0pCR53Ld6au/5kHg5jepbo2eyG3s29TcnIL3j4J867xDE=</script> <treescope-run-here><script type=\"application/octet-stream\"> const root = ( Array.from(document.getElementsByClassName( \"treescope_out_b1c50f7e5bbf49c58f7e6b731a7ed7ac\")) .filter((elt) => !elt.dataset['step1']) )[0]; root.dataset['step1'] = 1; root.defns.insertContent( this.parentNode.querySelector('script[type=\"application/octet-stream\"]'), true ); this.parentNode.remove(); </script></treescope-run-here> </div>"
      ],
      "text/plain": [
       "<IPython.core.display.HTML object>"
      ]
     },
     "metadata": {},
     "output_type": "display_data"
    },
    {
     "name": "stdout",
     "output_type": "stream",
     "text": [
      "Inverted:\n"
     ]
    },
    {
     "data": {
      "text/html": [
       "<script> (()=>{ if (customElements.get('treescope-container') === undefined) { class TreescopeContainer extends HTMLElement { constructor() { super(); this.attachShadow({mode: \"open\"}); this.defns = {}; this.state = {}; } } customElements.define(\"treescope-container\", TreescopeContainer); } if (customElements.get('treescope-run-here') === undefined) { class RunHere extends HTMLElement { constructor() { super() } connectedCallback() { const run = child => { const fn = new Function(child.textContent); child.textContent = \"\"; fn.call(this); this.remove(); }; const child = this.querySelector(\"script\"); if (child) { run(child); } else { new MutationObserver(()=>{ run(this.querySelector(\"script\")); }).observe(this, {childList: true}); } } } customElements.define(\"treescope-run-here\", RunHere); } })(); </script> <treescope-container class=\"treescope_out_34fad07d18634ee2bc046caa2634d19e\" ></treescope-container> <treescope-run-here><script type=\"application/octet-stream\"> const root = ( Array.from(document.getElementsByClassName( \"treescope_out_34fad07d18634ee2bc046caa2634d19e\")) .filter((elt) => !elt.dataset.setup) )[0]; root.dataset.setup = 1; const msg = document.createElement(\"span\"); msg.style = \"color: #cccccc; font-family: monospace;\"; msg.textContent = \"(Loading...)\"; root.state.loadingMsg = msg; root.shadowRoot.appendChild(msg); root.state.chain = new Promise((resolve, reject) => { const observer = new IntersectionObserver((entries) => { for (const entry of entries) { if (entry.isIntersecting) { resolve(); observer.disconnect(); return; } } }, {rootMargin: \"1000px\"}); window.setTimeout(() => { observer.observe(root); }, 0); }); root.state.deferring = false; const _insertNode = (node) => { for (let oldScript of node.querySelectorAll(\"script\")) { let newScript = document.createElement(\"script\"); newScript.type = oldScript.type; newScript.textContent = oldScript.textContent; oldScript.parentNode.replaceChild(newScript, oldScript); } if (root.state.loadingMsg) { root.state.loadingMsg.remove(); root.state.loadingMsg = null; } root.shadowRoot.appendChild(node); }; root.defns.insertContent = ((contentNode, compressed) => { if (compressed) { root.state.deferring = true; } if (root.state.deferring) { root.state.chain = (async () => { await root.state.chain; if (compressed) { const encoded = contentNode.textContent; const blob = new Blob([ Uint8Array.from(atob(encoded), (m) => m.codePointAt(0)) ]); const reader = blob.stream().pipeThrough( new DecompressionStream(\"deflate\") ).pipeThrough( new TextDecoderStream(\"utf-8\") ).getReader(); const parts = []; while (true) { const step = await reader.read(); if (step.done) { break; } parts.push(step.value); } const tpl = document.createElement('template'); tpl.innerHTML = parts.join(\"\"); _insertNode(tpl.content); } else { _insertNode(contentNode.content); } })(); } else { _insertNode(contentNode.content); } }); </script></treescope-run-here><div style=\"display:none\"> <script type=\"application/octet-stream\" >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</script> <treescope-run-here><script type=\"application/octet-stream\"> const root = ( Array.from(document.getElementsByClassName( \"treescope_out_34fad07d18634ee2bc046caa2634d19e\")) .filter((elt) => !elt.dataset['step0']) )[0]; root.dataset['step0'] = 1; root.defns.insertContent( this.parentNode.querySelector('script[type=\"application/octet-stream\"]'), true ); this.parentNode.remove(); </script></treescope-run-here> </div>"
      ],
      "text/plain": [
       "<IPython.core.display.HTML object>"
      ]
     },
     "metadata": {},
     "output_type": "display_data"
    },
    {
     "data": {
      "text/html": [
       "<div style=\"display:none\"> <script type=\"application/octet-stream\" >eNq1k01v2zAMhv8KoQJFgrqundiO3XwAW7sBveywHXYIgkCR6ESDanmyEiwo+t9HOR9Nt25rDzvEsSy+JB/q1UiqDTRuq3HMpGpqzbfXUJkKGSg5ZqWxc4klWotyLlKOaR5LUUSLJOVZkaVlP40wjgeDuOQ9Nhk1Na/o6fNNQmE0yfliYXEDD9Aur+Esy3s8iobwOLraBbYqEJo3zZiditjkXLvhN/4jfGct33amUQBxAL0A+gEkAaQBZAEMAsgDKGYBSLetcawq1+91z5duSAXafg5/xDoZvQG4QJ5jlos8jXiSZlmR5gmPcxGXsRwgpk/ArwUAIvAInsFDeAqP4Tk8iCeBgig9afwfkPJBmcWYFAvkIhEEM5C8jDFPC74ok3jxdqQoDODl37H9Uhv+VwBnERthary06+pyhdabQlhVO2gTMF7XWgnulKmujHDoLhvS8Hs2EaZqKIrbJbo72cAYpuz1jg2Avf60T4P/OcfZcNeZNMIa46gvt1JNSF1+puUnI7HTHcK+e8LfB+3Dw+9rtNsvqFE4YzssPE5o7rfZUVpavrzHai9d+9dQ0GQc3u6XH/cRv5e70eQREh5yhDRlrOTNSmnZOQSFwke1/Tq7xi5lIUNBR6MDRWK6yApGTwcQaqyWbkVfLy66dOt93G7ztBItP2j0r++3d1TsoJ6qGRXwmsasrcBbcvYfh3Lmnc3gAn6R75ahRboJAr8qt+ocs4Wlss2hdktKgqddi/dm057M43FMzxI9m13Xu7m1KRn5BQ//BDgHxaE=</script> <treescope-run-here><script type=\"application/octet-stream\"> const root = ( Array.from(document.getElementsByClassName( \"treescope_out_34fad07d18634ee2bc046caa2634d19e\")) .filter((elt) => !elt.dataset['step1']) )[0]; root.dataset['step1'] = 1; root.defns.insertContent( this.parentNode.querySelector('script[type=\"application/octet-stream\"]'), true ); this.parentNode.remove(); </script></treescope-run-here> </div>"
      ],
      "text/plain": [
       "<IPython.core.display.HTML object>"
      ]
     },
     "metadata": {},
     "output_type": "display_data"
    }
   ],
   "source": [
    "selection = pz.select(my_nested_object).at_keypaths([\n",
    "    (jax.tree_util.DictKey(key='c'), jax.tree_util.SequenceKey(idx=2), jax.tree_util.DictKey(key='value')),\n",
    "    (jax.tree_util.DictKey(key='c'), jax.tree_util.SequenceKey(idx=0)),\n",
    "])\n",
    "\n",
    "print(\"Original:\")\n",
    "selection.show_selection()\n",
    "print(\"Inverted:\")\n",
    "selection.invert().show_selection()"
   ]
  },
  {
   "cell_type": "markdown",
   "metadata": {
    "id": "-6RVyMq6NY6r"
   },
   "source": [
    "### Building more complex selections\n",
    "For highly dynamic selections, you can drop down to lower-level manipulation.\n",
    "\n",
    "Selections provide a `.refine` method, which runs a function on each of the currently selected values, takes the `Selection` returned by that function, and then takes the disjoint union of them. This can be useful for dynamic input-dependent branching:"
   ]
  },
  {
   "cell_type": "code",
   "execution_count": 35,
   "metadata": {
    "execution": {
     "iopub.execute_input": "2024-08-07T01:46:30.222178Z",
     "iopub.status.busy": "2024-08-07T01:46:30.221939Z",
     "iopub.status.idle": "2024-08-07T01:46:30.224069Z",
     "shell.execute_reply": "2024-08-07T01:46:30.223899Z"
    },
    "id": "pMKL39k7Rdty"
   },
   "outputs": [],
   "source": [
    "# Select field \"a\" of Foo and field \"b\" of Bar\n",
    "\n",
    "@pz.pytree_dataclass\n",
    "class Foo(pz.Struct):\n",
    "  a: typing.Any\n",
    "  b: typing.Any\n",
    "\n",
    "@pz.pytree_dataclass\n",
    "class Bar(pz.Struct):\n",
    "  a: typing.Any\n",
    "  b: typing.Any\n",
    "\n",
    "def refine_fn(value):\n",
    "  if isinstance(value, Foo):\n",
    "    return value.select().at(lambda x: x.a)\n",
    "  else:\n",
    "    return value.select().at(lambda x: x.b)"
   ]
  },
  {
   "cell_type": "code",
   "execution_count": 36,
   "metadata": {
    "execution": {
     "iopub.execute_input": "2024-08-07T01:46:30.233703Z",
     "iopub.status.busy": "2024-08-07T01:46:30.233461Z",
     "iopub.status.idle": "2024-08-07T01:46:30.242968Z",
     "shell.execute_reply": "2024-08-07T01:46:30.242779Z"
    },
    "id": "Hvj4K7tVeag7"
   },
   "outputs": [
    {
     "data": {
      "text/html": [
       "<script> (()=>{ if (customElements.get('treescope-container') === undefined) { class TreescopeContainer extends HTMLElement { constructor() { super(); this.attachShadow({mode: \"open\"}); this.defns = {}; this.state = {}; } } customElements.define(\"treescope-container\", TreescopeContainer); } if (customElements.get('treescope-run-here') === undefined) { class RunHere extends HTMLElement { constructor() { super() } connectedCallback() { const run = child => { const fn = new Function(child.textContent); child.textContent = \"\"; fn.call(this); this.remove(); }; const child = this.querySelector(\"script\"); if (child) { run(child); } else { new MutationObserver(()=>{ run(this.querySelector(\"script\")); }).observe(this, {childList: true}); } } } customElements.define(\"treescope-run-here\", RunHere); } })(); </script> <treescope-container class=\"treescope_out_69478753c5f24347b7de79645f0478b6\" ></treescope-container> <treescope-run-here><script type=\"application/octet-stream\"> const root = ( Array.from(document.getElementsByClassName( \"treescope_out_69478753c5f24347b7de79645f0478b6\")) .filter((elt) => !elt.dataset.setup) )[0]; root.dataset.setup = 1; const msg = document.createElement(\"span\"); msg.style = \"color: #cccccc; font-family: monospace;\"; msg.textContent = \"(Loading...)\"; root.state.loadingMsg = msg; root.shadowRoot.appendChild(msg); root.state.chain = new Promise((resolve, reject) => { const observer = new IntersectionObserver((entries) => { for (const entry of entries) { if (entry.isIntersecting) { resolve(); observer.disconnect(); return; } } }, {rootMargin: \"1000px\"}); window.setTimeout(() => { observer.observe(root); }, 0); }); root.state.deferring = false; const _insertNode = (node) => { for (let oldScript of node.querySelectorAll(\"script\")) { let newScript = document.createElement(\"script\"); newScript.type = oldScript.type; newScript.textContent = oldScript.textContent; oldScript.parentNode.replaceChild(newScript, oldScript); } if (root.state.loadingMsg) { root.state.loadingMsg.remove(); root.state.loadingMsg = null; } root.shadowRoot.appendChild(node); }; root.defns.insertContent = ((contentNode, compressed) => { if (compressed) { root.state.deferring = true; } if (root.state.deferring) { root.state.chain = (async () => { await root.state.chain; if (compressed) { const encoded = contentNode.textContent; const blob = new Blob([ Uint8Array.from(atob(encoded), (m) => m.codePointAt(0)) ]); const reader = blob.stream().pipeThrough( new DecompressionStream(\"deflate\") ).pipeThrough( new TextDecoderStream(\"utf-8\") ).getReader(); const parts = []; while (true) { const step = await reader.read(); if (step.done) { break; } parts.push(step.value); } const tpl = document.createElement('template'); tpl.innerHTML = parts.join(\"\"); _insertNode(tpl.content); } else { _insertNode(contentNode.content); } })(); } else { _insertNode(contentNode.content); } }); </script></treescope-run-here><div style=\"display:none\"> <script type=\"application/octet-stream\" >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</script> <treescope-run-here><script type=\"application/octet-stream\"> const root = ( Array.from(document.getElementsByClassName( \"treescope_out_69478753c5f24347b7de79645f0478b6\")) .filter((elt) => !elt.dataset['step0']) )[0]; root.dataset['step0'] = 1; root.defns.insertContent( this.parentNode.querySelector('script[type=\"application/octet-stream\"]'), true ); this.parentNode.remove(); </script></treescope-run-here> </div>"
      ],
      "text/plain": [
       "<IPython.core.display.HTML object>"
      ]
     },
     "metadata": {},
     "output_type": "display_data"
    },
    {
     "data": {
      "text/html": [
       "<treescope-run-here><script type=\"application/octet-stream\"> const root = ( Array.from(document.getElementsByClassName( \"treescope_out_69478753c5f24347b7de79645f0478b6\")) .filter((elt) => !elt.dataset.stolen) )[0]; root.dataset.stolen = 1; this.parentNode.replaceChild(root, this); </script></treescope-run-here>"
      ],
      "text/plain": [
       "Selection(\n",
       "  selected_by_path=OrderedDict({(SequenceKey(idx=0), GetAttrKey(name='a')): 1, (SequenceKey(idx=1), GetAttrKey(name='b')): 4, (SequenceKey(idx=2), GetAttrKey(name='a')): 5, (SequenceKey(idx=3), GetAttrKey(name='b')): 8}),\n",
       "  remainder=[\n",
       "    Foo(\n",
       "      a=SelectionHole(path=(SequenceKey(idx=0), GetAttrKey(name='a'))),\n",
       "      b=2,\n",
       "    ),\n",
       "    Bar(\n",
       "      a=3,\n",
       "      b=SelectionHole(path=(SequenceKey(idx=1), GetAttrKey(name='b'))),\n",
       "    ),\n",
       "    Foo(\n",
       "      a=SelectionHole(path=(SequenceKey(idx=2), GetAttrKey(name='a'))),\n",
       "      b=6,\n",
       "    ),\n",
       "    Bar(a=7, b=SelectionHole(path=(SequenceKey(idx=3), GetAttrKey(name='b')))),\n",
       "    None,\n",
       "  ],\n",
       ")"
      ]
     },
     "execution_count": 36,
     "metadata": {},
     "output_type": "execute_result"
    }
   ],
   "source": [
    "pz.select([\n",
    "    Foo(1, 2),\n",
    "    Bar(3, 4),\n",
    "    Foo(5, 6),\n",
    "    Bar(7, 8),\n",
    "    None,\n",
    "]).at_instances_of((Foo, Bar)).refine(refine_fn)"
   ]
  },
  {
   "cell_type": "markdown",
   "metadata": {
    "id": "dUGwFROiBdhV"
   },
   "source": [
    "## Inspecting selections and retrieving values\n",
    "\n",
    "Once you have a selection, there are various ways to inspect them and their contents."
   ]
  },
  {
   "cell_type": "markdown",
   "metadata": {
    "id": "UV1JQsx7nF6f"
   },
   "source": [
    "### Looking at selections\n",
    "You can view a pretty-printed version of the selection using `.show_selection()` (the same pretty-printing we've been using throughout this notebook):"
   ]
  },
  {
   "cell_type": "code",
   "execution_count": 37,
   "metadata": {
    "execution": {
     "iopub.execute_input": "2024-08-07T01:46:30.250090Z",
     "iopub.status.busy": "2024-08-07T01:46:30.249859Z",
     "iopub.status.idle": "2024-08-07T01:46:30.254861Z",
     "shell.execute_reply": "2024-08-07T01:46:30.254687Z"
    },
    "id": "-W2_LNVonip5"
   },
   "outputs": [
    {
     "data": {
      "text/html": [
       "<script> (()=>{ if (customElements.get('treescope-container') === undefined) { class TreescopeContainer extends HTMLElement { constructor() { super(); this.attachShadow({mode: \"open\"}); this.defns = {}; this.state = {}; } } customElements.define(\"treescope-container\", TreescopeContainer); } if (customElements.get('treescope-run-here') === undefined) { class RunHere extends HTMLElement { constructor() { super() } connectedCallback() { const run = child => { const fn = new Function(child.textContent); child.textContent = \"\"; fn.call(this); this.remove(); }; const child = this.querySelector(\"script\"); if (child) { run(child); } else { new MutationObserver(()=>{ run(this.querySelector(\"script\")); }).observe(this, {childList: true}); } } } customElements.define(\"treescope-run-here\", RunHere); } })(); </script> <treescope-container class=\"treescope_out_53e06fb4b87746158f44eafa0f5492f3\" ></treescope-container> <treescope-run-here><script type=\"application/octet-stream\"> const root = ( Array.from(document.getElementsByClassName( \"treescope_out_53e06fb4b87746158f44eafa0f5492f3\")) .filter((elt) => !elt.dataset.setup) )[0]; root.dataset.setup = 1; const msg = document.createElement(\"span\"); msg.style = \"color: #cccccc; font-family: monospace;\"; msg.textContent = \"(Loading...)\"; root.state.loadingMsg = msg; root.shadowRoot.appendChild(msg); root.state.chain = new Promise((resolve, reject) => { const observer = new IntersectionObserver((entries) => { for (const entry of entries) { if (entry.isIntersecting) { resolve(); observer.disconnect(); return; } } }, {rootMargin: \"1000px\"}); window.setTimeout(() => { observer.observe(root); }, 0); }); root.state.deferring = false; const _insertNode = (node) => { for (let oldScript of node.querySelectorAll(\"script\")) { let newScript = document.createElement(\"script\"); newScript.type = oldScript.type; newScript.textContent = oldScript.textContent; oldScript.parentNode.replaceChild(newScript, oldScript); } if (root.state.loadingMsg) { root.state.loadingMsg.remove(); root.state.loadingMsg = null; } root.shadowRoot.appendChild(node); }; root.defns.insertContent = ((contentNode, compressed) => { if (compressed) { root.state.deferring = true; } if (root.state.deferring) { root.state.chain = (async () => { await root.state.chain; if (compressed) { const encoded = contentNode.textContent; const blob = new Blob([ Uint8Array.from(atob(encoded), (m) => m.codePointAt(0)) ]); const reader = blob.stream().pipeThrough( new DecompressionStream(\"deflate\") ).pipeThrough( new TextDecoderStream(\"utf-8\") ).getReader(); const parts = []; while (true) { const step = await reader.read(); if (step.done) { break; } parts.push(step.value); } const tpl = document.createElement('template'); tpl.innerHTML = parts.join(\"\"); _insertNode(tpl.content); } else { _insertNode(contentNode.content); } })(); } else { _insertNode(contentNode.content); } }); </script></treescope-run-here><div style=\"display:none\"> <script type=\"application/octet-stream\" >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</script> <treescope-run-here><script type=\"application/octet-stream\"> const root = ( Array.from(document.getElementsByClassName( \"treescope_out_53e06fb4b87746158f44eafa0f5492f3\")) .filter((elt) => !elt.dataset['step0']) )[0]; root.dataset['step0'] = 1; root.defns.insertContent( this.parentNode.querySelector('script[type=\"application/octet-stream\"]'), true ); this.parentNode.remove(); </script></treescope-run-here> </div>"
      ],
      "text/plain": [
       "<IPython.core.display.HTML object>"
      ]
     },
     "metadata": {},
     "output_type": "display_data"
    },
    {
     "data": {
      "text/html": [
       "<div style=\"display:none\"> <script type=\"application/octet-stream\" >eNq1k01v2zAMhv8KoQJFgrpubKt23HwAW7sBveywHXYIgkKR6ESDanmyUiwo+t9HOR9tt25rDzvEsSy+JB/q1VjpO2j9xuCEKd02RmwuoLY1MtBqwirrbhRW6ByqGyFR8GGZc1nlvCrTYaVSWZRZulBlkuUlm47bRtT0DPmmsbSG5GKxcHgH99AtL+AoH6ZiMBjBw/hsG9ipQBrRthP2VMSmx8aPvokf8TvnxKY3G0SQRJBGkEXAIziPII+giGAYQTmPQPlNgxNd+yztHy/9iAp0/ez/iHU6fgPwuSqLshCiTBacFzwvK54JlVdFLjI1SNQj8GsBgAgCQmAIEIEiYASOABJIoCTKQJr8ByS1kKgwOVcVR54UCzHgmGWykJxjKvLi7UiDOIKXf4f2K2PFXwG8Q2ylbfDUrevTFbpgCul046FLwETTGC2F17Y+s9KjP21JI27ZVNq6pSjhluivVQsTmLHXOzYC9vrTfhr8zznOR9vOlJXOWk99+ZVuY+ryMy0/WYW9/gh23RP+LmgXHn9fo9t8QYPSW9dj8WFCN2GbHaSVE8tbrHfSdXiNJU3G49Vu+XEX8Xu5S0MeIeE+R0xTxlpdrrRRvX1QLENU1693a+xTFjIU9Ax60CSmi6xh/HgAscF66Vf09eSkT7c+xG03n1ai5QeD4fX95pqK7dUzPacCQdPatZN4Rc7+41COgrMZnMAv8u0ydkg3QeJX7Ve9Q7a40q7d1+5ISfC46/DW3nUn83AY07NEz2bXD27ubEpGfsHDPwEGu8YJ</script> <treescope-run-here><script type=\"application/octet-stream\"> const root = ( Array.from(document.getElementsByClassName( \"treescope_out_53e06fb4b87746158f44eafa0f5492f3\")) .filter((elt) => !elt.dataset['step1']) )[0]; root.dataset['step1'] = 1; root.defns.insertContent( this.parentNode.querySelector('script[type=\"application/octet-stream\"]'), true ); this.parentNode.remove(); </script></treescope-run-here> </div>"
      ],
      "text/plain": [
       "<IPython.core.display.HTML object>"
      ]
     },
     "metadata": {},
     "output_type": "display_data"
    }
   ],
   "source": [
    "pz.select(my_nested_object).at_children().show_selection()"
   ]
  },
  {
   "cell_type": "markdown",
   "metadata": {
    "id": "chGlzxpEnQGr"
   },
   "source": [
    "You can also view the selected values without the selection annotations using `.show_value()`. This is similar to just rendering the root object with treescope, but it automatically expands so that the nodes you selected are visible, and collapses all other nodes."
   ]
  },
  {
   "cell_type": "code",
   "execution_count": 38,
   "metadata": {
    "execution": {
     "iopub.execute_input": "2024-08-07T01:46:30.278019Z",
     "iopub.status.busy": "2024-08-07T01:46:30.272774Z",
     "iopub.status.idle": "2024-08-07T01:46:30.304777Z",
     "shell.execute_reply": "2024-08-07T01:46:30.304593Z"
    },
    "id": "Ei6MgFeAoQ0Z"
   },
   "outputs": [
    {
     "data": {
      "text/html": [
       "<script> (()=>{ if (customElements.get('treescope-container') === undefined) { class TreescopeContainer extends HTMLElement { constructor() { super(); this.attachShadow({mode: \"open\"}); this.defns = {}; this.state = {}; } } customElements.define(\"treescope-container\", TreescopeContainer); } if (customElements.get('treescope-run-here') === undefined) { class RunHere extends HTMLElement { constructor() { super() } connectedCallback() { const run = child => { const fn = new Function(child.textContent); child.textContent = \"\"; fn.call(this); this.remove(); }; const child = this.querySelector(\"script\"); if (child) { run(child); } else { new MutationObserver(()=>{ run(this.querySelector(\"script\")); }).observe(this, {childList: true}); } } } customElements.define(\"treescope-run-here\", RunHere); } })(); </script> <treescope-container class=\"treescope_out_5bd017bae19040a4b8799b1549dd6450\" ></treescope-container> <treescope-run-here><script type=\"application/octet-stream\"> const root = ( Array.from(document.getElementsByClassName( \"treescope_out_5bd017bae19040a4b8799b1549dd6450\")) .filter((elt) => !elt.dataset.setup) )[0]; root.dataset.setup = 1; const msg = document.createElement(\"span\"); msg.style = \"color: #cccccc; font-family: monospace;\"; msg.textContent = \"(Loading...)\"; root.state.loadingMsg = msg; root.shadowRoot.appendChild(msg); root.state.chain = new Promise((resolve, reject) => { const observer = new IntersectionObserver((entries) => { for (const entry of entries) { if (entry.isIntersecting) { resolve(); observer.disconnect(); return; } } }, {rootMargin: \"1000px\"}); window.setTimeout(() => { observer.observe(root); }, 0); }); root.state.deferring = false; const _insertNode = (node) => { for (let oldScript of node.querySelectorAll(\"script\")) { let newScript = document.createElement(\"script\"); newScript.type = oldScript.type; newScript.textContent = oldScript.textContent; oldScript.parentNode.replaceChild(newScript, oldScript); } if (root.state.loadingMsg) { root.state.loadingMsg.remove(); root.state.loadingMsg = null; } root.shadowRoot.appendChild(node); }; root.defns.insertContent = ((contentNode, compressed) => { if (compressed) { root.state.deferring = true; } if (root.state.deferring) { root.state.chain = (async () => { await root.state.chain; if (compressed) { const encoded = contentNode.textContent; const blob = new Blob([ Uint8Array.from(atob(encoded), (m) => m.codePointAt(0)) ]); const reader = blob.stream().pipeThrough( new DecompressionStream(\"deflate\") ).pipeThrough( new TextDecoderStream(\"utf-8\") ).getReader(); const parts = []; while (true) { const step = await reader.read(); if (step.done) { break; } parts.push(step.value); } const tpl = document.createElement('template'); tpl.innerHTML = parts.join(\"\"); _insertNode(tpl.content); } else { _insertNode(contentNode.content); } })(); } else { _insertNode(contentNode.content); } }); </script></treescope-run-here><div style=\"display:none\"> <script type=\"application/octet-stream\" >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</script> <treescope-run-here><script type=\"application/octet-stream\"> const root = ( Array.from(document.getElementsByClassName( \"treescope_out_5bd017bae19040a4b8799b1549dd6450\")) .filter((elt) => !elt.dataset['step0']) )[0]; root.dataset['step0'] = 1; root.defns.insertContent( this.parentNode.querySelector('script[type=\"application/octet-stream\"]'), true ); this.parentNode.remove(); </script></treescope-run-here> </div>"
      ],
      "text/plain": [
       "<IPython.core.display.HTML object>"
      ]
     },
     "metadata": {},
     "output_type": "display_data"
    }
   ],
   "source": [
    "stuff = (\n",
    "    [[[\"haystack\"] * 5] * 5] * 5\n",
    "    + [[[\"haystack\"] * 5] * 5 + [[\"haystack\", \"needle\", \"haystack\", \"haystack\", \"haystack\"]]]\n",
    "    + [[[\"haystack\"] * 5] * 5] * 5\n",
    ")\n",
    "\n",
    "pz.select(stuff).at_equal_to(\"needle\").show_value()"
   ]
  },
  {
   "cell_type": "markdown",
   "metadata": {
    "id": "nPZUOuqilcoc"
   },
   "source": [
    "### Counting selected objects\n",
    "Selections have `count` and `is_empty` methods for inspecting their size:"
   ]
  },
  {
   "cell_type": "code",
   "execution_count": 39,
   "metadata": {
    "execution": {
     "iopub.execute_input": "2024-08-07T01:46:30.309075Z",
     "iopub.status.busy": "2024-08-07T01:46:30.308803Z",
     "iopub.status.idle": "2024-08-07T01:46:30.312831Z",
     "shell.execute_reply": "2024-08-07T01:46:30.312657Z"
    },
    "id": "TGu1D-n_lumY"
   },
   "outputs": [
    {
     "data": {
      "text/html": [
       "<script> (()=>{ if (customElements.get('treescope-container') === undefined) { class TreescopeContainer extends HTMLElement { constructor() { super(); this.attachShadow({mode: \"open\"}); this.defns = {}; this.state = {}; } } customElements.define(\"treescope-container\", TreescopeContainer); } if (customElements.get('treescope-run-here') === undefined) { class RunHere extends HTMLElement { constructor() { super() } connectedCallback() { const run = child => { const fn = new Function(child.textContent); child.textContent = \"\"; fn.call(this); this.remove(); }; const child = this.querySelector(\"script\"); if (child) { run(child); } else { new MutationObserver(()=>{ run(this.querySelector(\"script\")); }).observe(this, {childList: true}); } } } customElements.define(\"treescope-run-here\", RunHere); } })(); </script> <treescope-container class=\"treescope_out_d0168f72988641b094d509fde3705d91\" ></treescope-container> <treescope-run-here><script type=\"application/octet-stream\"> const root = ( Array.from(document.getElementsByClassName( \"treescope_out_d0168f72988641b094d509fde3705d91\")) .filter((elt) => !elt.dataset.setup) )[0]; root.dataset.setup = 1; const msg = document.createElement(\"span\"); msg.style = \"color: #cccccc; font-family: monospace;\"; msg.textContent = \"(Loading...)\"; root.state.loadingMsg = msg; root.shadowRoot.appendChild(msg); root.state.chain = new Promise((resolve, reject) => { const observer = new IntersectionObserver((entries) => { for (const entry of entries) { if (entry.isIntersecting) { resolve(); observer.disconnect(); return; } } }, {rootMargin: \"1000px\"}); window.setTimeout(() => { observer.observe(root); }, 0); }); root.state.deferring = false; const _insertNode = (node) => { for (let oldScript of node.querySelectorAll(\"script\")) { let newScript = document.createElement(\"script\"); newScript.type = oldScript.type; newScript.textContent = oldScript.textContent; oldScript.parentNode.replaceChild(newScript, oldScript); } if (root.state.loadingMsg) { root.state.loadingMsg.remove(); root.state.loadingMsg = null; } root.shadowRoot.appendChild(node); }; root.defns.insertContent = ((contentNode, compressed) => { if (compressed) { root.state.deferring = true; } if (root.state.deferring) { root.state.chain = (async () => { await root.state.chain; if (compressed) { const encoded = contentNode.textContent; const blob = new Blob([ Uint8Array.from(atob(encoded), (m) => m.codePointAt(0)) ]); const reader = blob.stream().pipeThrough( new DecompressionStream(\"deflate\") ).pipeThrough( new TextDecoderStream(\"utf-8\") ).getReader(); const parts = []; while (true) { const step = await reader.read(); if (step.done) { break; } parts.push(step.value); } const tpl = document.createElement('template'); tpl.innerHTML = parts.join(\"\"); _insertNode(tpl.content); } else { _insertNode(contentNode.content); } })(); } else { _insertNode(contentNode.content); } }); </script></treescope-run-here><div style=\"display:none\"> <script type=\"application/octet-stream\" >eNqNVE2P0zAQ/StWOGwikWx3EQjaptJeEAfEAQ4cEKpcZ5KM1hkHe9JS0P53xklb9qOsUC7xm6/3xjNeBt5bWBXsAYJxPay9c6x+q94FZHQ0Vx6sZtzCQtWOOK91h3Y/V50jF3ptBN+1yJCPh7nqvSAWA+dj6pz3vaDkSOCNNreNdwNVuXHW+fkUulCH08aKg+TDitu5qpHFjRiIF6rXVYXU5BZqnqtr08YiBHkL2LSCXBWvYxpijcL5FHb4ybcYcIMWWZjrgd3JN0dijxTQ5AF/wWQ90L1bXk7tWZ7ak/uBpKYXLBiPPauor7zQfW/R6NixS2cYonoPurtYpWlWrqShUi+wqqCmoErFLYaiAf4s3f7kKkizonWBi9Eu0oDVugeKkm9MzBqDvn0/Z/mgqbIgZhqsXUwVCqH5xTkSNN05f5up+xzcV4Gi6QHMaCLYg6+d7zQZKMjt0my8XymQPrGofApaqlfXmeTBWqWPWBcWqOFWlaWaRZdnqXvgwZP0XYEN8JdYO1Bk9jh1aLHmyG90iD938v2jQipTRZXbFR5+DBD4hrAbr+u91x2kU0+ymGPxpFA/hHZq4+KMxmOJcpLxjMr/5xBZTBfJrmnstJXrcXNkWvuYKyJg+aWCrQz44SYju/Fc3MI+Nj3xSSR0cC6M1SF8lOU85E2TU851J2OYHIvfZdJPGf9xxlfLy3MLUOFWjQnL5OHzkSjWG1EKP8tklihHQkZkk/g9N/bntaYx5qgykbWbHqzxxVjT0G3Aj5MyPiAvZu/eXr1+c3915VmiI837QclqJj5iFHWiZPUHhrnIAQ==</script> <treescope-run-here><script type=\"application/octet-stream\"> const root = ( Array.from(document.getElementsByClassName( \"treescope_out_d0168f72988641b094d509fde3705d91\")) .filter((elt) => !elt.dataset['step0']) )[0]; root.dataset['step0'] = 1; root.defns.insertContent( this.parentNode.querySelector('script[type=\"application/octet-stream\"]'), true ); this.parentNode.remove(); </script></treescope-run-here> </div>"
      ],
      "text/plain": [
       "<IPython.core.display.HTML object>"
      ]
     },
     "metadata": {},
     "output_type": "display_data"
    },
    {
     "data": {
      "text/html": [
       "<treescope-run-here><script type=\"application/octet-stream\"> const root = ( Array.from(document.getElementsByClassName( \"treescope_out_d0168f72988641b094d509fde3705d91\")) .filter((elt) => !elt.dataset.stolen) )[0]; root.dataset.stolen = 1; this.parentNode.replaceChild(root, this); </script></treescope-run-here>"
      ],
      "text/plain": [
       "0"
      ]
     },
     "execution_count": 39,
     "metadata": {},
     "output_type": "execute_result"
    }
   ],
   "source": [
    "pz.select([1, 2]).at_instances_of(str).count()"
   ]
  },
  {
   "cell_type": "code",
   "execution_count": 40,
   "metadata": {
    "execution": {
     "iopub.execute_input": "2024-08-07T01:46:30.316438Z",
     "iopub.status.busy": "2024-08-07T01:46:30.316124Z",
     "iopub.status.idle": "2024-08-07T01:46:30.319612Z",
     "shell.execute_reply": "2024-08-07T01:46:30.319742Z"
    },
    "id": "omvIWqsflyWj"
   },
   "outputs": [
    {
     "data": {
      "text/html": [
       "<script> (()=>{ if (customElements.get('treescope-container') === undefined) { class TreescopeContainer extends HTMLElement { constructor() { super(); this.attachShadow({mode: \"open\"}); this.defns = {}; this.state = {}; } } customElements.define(\"treescope-container\", TreescopeContainer); } if (customElements.get('treescope-run-here') === undefined) { class RunHere extends HTMLElement { constructor() { super() } connectedCallback() { const run = child => { const fn = new Function(child.textContent); child.textContent = \"\"; fn.call(this); this.remove(); }; const child = this.querySelector(\"script\"); if (child) { run(child); } else { new MutationObserver(()=>{ run(this.querySelector(\"script\")); }).observe(this, {childList: true}); } } } customElements.define(\"treescope-run-here\", RunHere); } })(); </script> <treescope-container class=\"treescope_out_e9f3b55463674c42adad7f9757cbfb44\" ></treescope-container> <treescope-run-here><script type=\"application/octet-stream\"> const root = ( Array.from(document.getElementsByClassName( \"treescope_out_e9f3b55463674c42adad7f9757cbfb44\")) .filter((elt) => !elt.dataset.setup) )[0]; root.dataset.setup = 1; const msg = document.createElement(\"span\"); msg.style = \"color: #cccccc; font-family: monospace;\"; msg.textContent = \"(Loading...)\"; root.state.loadingMsg = msg; root.shadowRoot.appendChild(msg); root.state.chain = new Promise((resolve, reject) => { const observer = new IntersectionObserver((entries) => { for (const entry of entries) { if (entry.isIntersecting) { resolve(); observer.disconnect(); return; } } }, {rootMargin: \"1000px\"}); window.setTimeout(() => { observer.observe(root); }, 0); }); root.state.deferring = false; const _insertNode = (node) => { for (let oldScript of node.querySelectorAll(\"script\")) { let newScript = document.createElement(\"script\"); newScript.type = oldScript.type; newScript.textContent = oldScript.textContent; oldScript.parentNode.replaceChild(newScript, oldScript); } if (root.state.loadingMsg) { root.state.loadingMsg.remove(); root.state.loadingMsg = null; } root.shadowRoot.appendChild(node); }; root.defns.insertContent = ((contentNode, compressed) => { if (compressed) { root.state.deferring = true; } if (root.state.deferring) { root.state.chain = (async () => { await root.state.chain; if (compressed) { const encoded = contentNode.textContent; const blob = new Blob([ Uint8Array.from(atob(encoded), (m) => m.codePointAt(0)) ]); const reader = blob.stream().pipeThrough( new DecompressionStream(\"deflate\") ).pipeThrough( new TextDecoderStream(\"utf-8\") ).getReader(); const parts = []; while (true) { const step = await reader.read(); if (step.done) { break; } parts.push(step.value); } const tpl = document.createElement('template'); tpl.innerHTML = parts.join(\"\"); _insertNode(tpl.content); } else { _insertNode(contentNode.content); } })(); } else { _insertNode(contentNode.content); } }); </script></treescope-run-here><div style=\"display:none\"> <script type=\"application/octet-stream\" >eNqNVE2P0zAQ/StWOGwikeyyiEvbVNoL4oA4ABIHhCrXmSSjdcbBnrQUtP+dcdJ2t7ulor3E8/HmvfGMF4F3FpYFe4BgXA8r7xyrP6p3ARkdzZQHqxk3MFe1I85r3aHdzVTnyIVeG7FvW2TIx8NM9V4sFgPnI3TOu16s5EjMa23uG+8GqnLjrPOzKXWu9qe1lQDBw4rbmaqRJYwYiOeq11WF1OQWap6pW9PGIgR5C9i0YnlTvIswxBqF8zFt/5FvMOAaLbIw1wO7Y2yOxB4poMkD/obJu6f7sLie2rM4tif3A0lNL7ZgPPasor7ySve9RaNjx66dYYjqPejuapmmWbmUhkq9wKqCmoIqFbcYigb4s3T7k6sgzYrWBS5Gv0gDVqseKEq+MxE1Jn3/cc7zQVNlQdw0WDufKhRC84tzJNZ06/x9pp5ycN/EFF0nZkYTjT342vlOk4GC3DbNxvuVAukLj8qnpIV6e5sJDtYqfca6sEANt6os1U0MuUjdAw+epO8KbIBHYu1Akdlz6NBizZHfGBA/HuT/jwqpTBVVblt4+DlA4DvCbryu9153kE49ySLG/EWhfgjt1Mb5GY2HEuUk44LK/+cQWUwXya5p7LSVq3FzZFr7iBUtYPm1go0M+P4mI7vxXNzDLjY98UkktA8ujNUhfJTl3OOmyRFz1ckYJofiD5n0U8Z/nPHl4vrcAlS4USNgmZw+H4livRal8KtMbhLlSMiIbJK4S2N/Xmsacw4qE1m76cEaX4yVAMu9VOOojC/Iqxv51fXT3ZV3iQ48T7KS5Vc/gMRJgEgUOcu/m+DKuA==</script> <treescope-run-here><script type=\"application/octet-stream\"> const root = ( Array.from(document.getElementsByClassName( \"treescope_out_e9f3b55463674c42adad7f9757cbfb44\")) .filter((elt) => !elt.dataset['step0']) )[0]; root.dataset['step0'] = 1; root.defns.insertContent( this.parentNode.querySelector('script[type=\"application/octet-stream\"]'), true ); this.parentNode.remove(); </script></treescope-run-here> </div>"
      ],
      "text/plain": [
       "<IPython.core.display.HTML object>"
      ]
     },
     "metadata": {},
     "output_type": "display_data"
    },
    {
     "data": {
      "text/html": [
       "<treescope-run-here><script type=\"application/octet-stream\"> const root = ( Array.from(document.getElementsByClassName( \"treescope_out_e9f3b55463674c42adad7f9757cbfb44\")) .filter((elt) => !elt.dataset.stolen) )[0]; root.dataset.stolen = 1; this.parentNode.replaceChild(root, this); </script></treescope-run-here>"
      ],
      "text/plain": [
       "True"
      ]
     },
     "execution_count": 40,
     "metadata": {},
     "output_type": "execute_result"
    }
   ],
   "source": [
    "pz.select([1, 2]).at_instances_of(str).is_empty()"
   ]
  },
  {
   "cell_type": "code",
   "execution_count": 41,
   "metadata": {
    "execution": {
     "iopub.execute_input": "2024-08-07T01:46:30.323267Z",
     "iopub.status.busy": "2024-08-07T01:46:30.322991Z",
     "iopub.status.idle": "2024-08-07T01:46:30.326813Z",
     "shell.execute_reply": "2024-08-07T01:46:30.326642Z"
    },
    "id": "f7aWTHZql0DV"
   },
   "outputs": [
    {
     "data": {
      "text/html": [
       "<script> (()=>{ if (customElements.get('treescope-container') === undefined) { class TreescopeContainer extends HTMLElement { constructor() { super(); this.attachShadow({mode: \"open\"}); this.defns = {}; this.state = {}; } } customElements.define(\"treescope-container\", TreescopeContainer); } if (customElements.get('treescope-run-here') === undefined) { class RunHere extends HTMLElement { constructor() { super() } connectedCallback() { const run = child => { const fn = new Function(child.textContent); child.textContent = \"\"; fn.call(this); this.remove(); }; const child = this.querySelector(\"script\"); if (child) { run(child); } else { new MutationObserver(()=>{ run(this.querySelector(\"script\")); }).observe(this, {childList: true}); } } } customElements.define(\"treescope-run-here\", RunHere); } })(); </script> <treescope-container class=\"treescope_out_43d39292aa2248dfbd47cda604c17f63\" ></treescope-container> <treescope-run-here><script type=\"application/octet-stream\"> const root = ( Array.from(document.getElementsByClassName( \"treescope_out_43d39292aa2248dfbd47cda604c17f63\")) .filter((elt) => !elt.dataset.setup) )[0]; root.dataset.setup = 1; const msg = document.createElement(\"span\"); msg.style = \"color: #cccccc; font-family: monospace;\"; msg.textContent = \"(Loading...)\"; root.state.loadingMsg = msg; root.shadowRoot.appendChild(msg); root.state.chain = new Promise((resolve, reject) => { const observer = new IntersectionObserver((entries) => { for (const entry of entries) { if (entry.isIntersecting) { resolve(); observer.disconnect(); return; } } }, {rootMargin: \"1000px\"}); window.setTimeout(() => { observer.observe(root); }, 0); }); root.state.deferring = false; const _insertNode = (node) => { for (let oldScript of node.querySelectorAll(\"script\")) { let newScript = document.createElement(\"script\"); newScript.type = oldScript.type; newScript.textContent = oldScript.textContent; oldScript.parentNode.replaceChild(newScript, oldScript); } if (root.state.loadingMsg) { root.state.loadingMsg.remove(); root.state.loadingMsg = null; } root.shadowRoot.appendChild(node); }; root.defns.insertContent = ((contentNode, compressed) => { if (compressed) { root.state.deferring = true; } if (root.state.deferring) { root.state.chain = (async () => { await root.state.chain; if (compressed) { const encoded = contentNode.textContent; const blob = new Blob([ Uint8Array.from(atob(encoded), (m) => m.codePointAt(0)) ]); const reader = blob.stream().pipeThrough( new DecompressionStream(\"deflate\") ).pipeThrough( new TextDecoderStream(\"utf-8\") ).getReader(); const parts = []; while (true) { const step = await reader.read(); if (step.done) { break; } parts.push(step.value); } const tpl = document.createElement('template'); tpl.innerHTML = parts.join(\"\"); _insertNode(tpl.content); } else { _insertNode(contentNode.content); } })(); } else { _insertNode(contentNode.content); } }); </script></treescope-run-here><div style=\"display:none\"> <script type=\"application/octet-stream\" >eNqNVEuP0zAQ/itWOGwikewDLYK2qbQXxAFxgAOHFarcZJKM1hkbe9JS0P53xklb9lFWKJf4m9f3jWe8CLwzsCzYA4TKOlh5a1n9Vs4GZLQ0Ux6MZtzAXDWWOG90j2Y3U70lG5yuBN92yJCPh5lyXhCDgfMxdc47JyhZEnitq7vW24HqvLLG+tkUOlf709qIg+TDmruZapDFjRiI58rpukZqcwMNz9RV1cUiBHkH2HaCXBbXMQ2xRuF8DNv/5BsMuEaDLMz1wPbomyOxRwpY5QF/wWTd071fnE/tWRzbk/uBpKYXLFQeHauorzzTzhmsdOzYua0YonoPuj9bpmlWLqWhUi+wqqGhoErFHYaiBf4i3f5sa0izorOBi9Eu0oDVygFFyTdVzBqDbr+fsnzUVBsQMw3GzKcKhdD8ai0Jmm6tv8vUQw72m0DR9AhmrCLowDfW95oqKMhu02y8XymQPrOofApaqDdXmeTBRqVPWBcGqOVOlaW6iC4vUvfAgyfpuwIT4C+xbqDI7Gnq0GHDkd/oEH/u5ftHhVSmimq7LTz8GCDwDWE/XtcHr3tIp55kMcf8WSE3hG5q4/yExkOJcpLxgsr/5xBZTBfJtm3NtJWrcXNkWl3MFREw/FrBRgZ8f5OR3Xgu7mAXm574JBLaOxeV0SF8kuXc502TY85VL2OYHIrfZ9JPGf9xxpeL81MLUONGjQnL5PHzkSjWa1EKP8vkIlGWhIzIJvF7aexPa01jzEFlIms3PVjji7GioV+DHydlfEBeXbx/d3n99uHqyrNEB5oPg5LllfiIUdSJkuUfhtXIAw==</script> <treescope-run-here><script type=\"application/octet-stream\"> const root = ( Array.from(document.getElementsByClassName( \"treescope_out_43d39292aa2248dfbd47cda604c17f63\")) .filter((elt) => !elt.dataset['step0']) )[0]; root.dataset['step0'] = 1; root.defns.insertContent( this.parentNode.querySelector('script[type=\"application/octet-stream\"]'), true ); this.parentNode.remove(); </script></treescope-run-here> </div>"
      ],
      "text/plain": [
       "<IPython.core.display.HTML object>"
      ]
     },
     "metadata": {},
     "output_type": "display_data"
    },
    {
     "data": {
      "text/html": [
       "<treescope-run-here><script type=\"application/octet-stream\"> const root = ( Array.from(document.getElementsByClassName( \"treescope_out_43d39292aa2248dfbd47cda604c17f63\")) .filter((elt) => !elt.dataset.stolen) )[0]; root.dataset.stolen = 1; this.parentNode.replaceChild(root, this); </script></treescope-run-here>"
      ],
      "text/plain": [
       "2"
      ]
     },
     "execution_count": 41,
     "metadata": {},
     "output_type": "execute_result"
    }
   ],
   "source": [
    "pz.select([1, 2]).at_instances_of(int).count()"
   ]
  },
  {
   "cell_type": "code",
   "execution_count": 42,
   "metadata": {
    "execution": {
     "iopub.execute_input": "2024-08-07T01:46:30.330726Z",
     "iopub.status.busy": "2024-08-07T01:46:30.330449Z",
     "iopub.status.idle": "2024-08-07T01:46:30.333983Z",
     "shell.execute_reply": "2024-08-07T01:46:30.333807Z"
    },
    "id": "u9uMT3qll1UI"
   },
   "outputs": [
    {
     "data": {
      "text/html": [
       "<script> (()=>{ if (customElements.get('treescope-container') === undefined) { class TreescopeContainer extends HTMLElement { constructor() { super(); this.attachShadow({mode: \"open\"}); this.defns = {}; this.state = {}; } } customElements.define(\"treescope-container\", TreescopeContainer); } if (customElements.get('treescope-run-here') === undefined) { class RunHere extends HTMLElement { constructor() { super() } connectedCallback() { const run = child => { const fn = new Function(child.textContent); child.textContent = \"\"; fn.call(this); this.remove(); }; const child = this.querySelector(\"script\"); if (child) { run(child); } else { new MutationObserver(()=>{ run(this.querySelector(\"script\")); }).observe(this, {childList: true}); } } } customElements.define(\"treescope-run-here\", RunHere); } })(); </script> <treescope-container class=\"treescope_out_9217c7b847a24df19398cbe7b933c784\" ></treescope-container> <treescope-run-here><script type=\"application/octet-stream\"> const root = ( Array.from(document.getElementsByClassName( \"treescope_out_9217c7b847a24df19398cbe7b933c784\")) .filter((elt) => !elt.dataset.setup) )[0]; root.dataset.setup = 1; const msg = document.createElement(\"span\"); msg.style = \"color: #cccccc; font-family: monospace;\"; msg.textContent = \"(Loading...)\"; root.state.loadingMsg = msg; root.shadowRoot.appendChild(msg); root.state.chain = new Promise((resolve, reject) => { const observer = new IntersectionObserver((entries) => { for (const entry of entries) { if (entry.isIntersecting) { resolve(); observer.disconnect(); return; } } }, {rootMargin: \"1000px\"}); window.setTimeout(() => { observer.observe(root); }, 0); }); root.state.deferring = false; const _insertNode = (node) => { for (let oldScript of node.querySelectorAll(\"script\")) { let newScript = document.createElement(\"script\"); newScript.type = oldScript.type; newScript.textContent = oldScript.textContent; oldScript.parentNode.replaceChild(newScript, oldScript); } if (root.state.loadingMsg) { root.state.loadingMsg.remove(); root.state.loadingMsg = null; } root.shadowRoot.appendChild(node); }; root.defns.insertContent = ((contentNode, compressed) => { if (compressed) { root.state.deferring = true; } if (root.state.deferring) { root.state.chain = (async () => { await root.state.chain; if (compressed) { const encoded = contentNode.textContent; const blob = new Blob([ Uint8Array.from(atob(encoded), (m) => m.codePointAt(0)) ]); const reader = blob.stream().pipeThrough( new DecompressionStream(\"deflate\") ).pipeThrough( new TextDecoderStream(\"utf-8\") ).getReader(); const parts = []; while (true) { const step = await reader.read(); if (step.done) { break; } parts.push(step.value); } const tpl = document.createElement('template'); tpl.innerHTML = parts.join(\"\"); _insertNode(tpl.content); } else { _insertNode(contentNode.content); } })(); } else { _insertNode(contentNode.content); } }); </script></treescope-run-here><div style=\"display:none\"> <script type=\"application/octet-stream\" >eNqNVE2P0zAQ/StWOGwikeyyiEvbVNrLigPiAAcOCFVuMklGdcbGnrQUtP+dcdJ2v0pFe4nn48174xkvAu8NLAv2AKGyDlbeWlZ/lLMBGS3NlAejGbcwV40lzhvdo9nPVG/JBqcrse86ZMjHw0w5LxaDgfMROue9EytZEvNaV5vW24HqvLLG+tmUOleH09pIgOBhzd1MNcgSRgzEc+V0XSO1uYGGZ+q26mIRgrwDbDuxvCs+RBhijcL5lHb4yLcYcI0GWZjrge0pNkdijxSwygP+hsl7oPuwuJ7aszi1J/cDSU0vtlB5dKyivvJKO2ew0rFj17ZiiOo96P5qmaZZuZSGSr3AqoaGgioVdxiKFviLdPuzrSHNis4GLka/SANWKwcUJd9VETUmff9xzvNRU21A3DQYM58qFELzq7Uk1nRn/SZTTznYb2KKrmdmxioaHfjG+l5TBQXZXZqN9ysF0lcelU9JC/X+NhMcbFT6gnVhgFruVFmqmxhykboHHjxJ3xWYAI/EuoEis5fQocOGI78xIH48yP8fFVKZKqrtrvDwc4DAd4T9eF33XveQTj3JIsb8VSE3hG5q4/yMxmOJcpJxQeX/c4gspotk27Zm2srVuDkyrS5iRQsYfqtgKwN+uMnIbjwXG9jHpic+iYQOwUVldAifZDkPuGlywlz1MobJsfhDJv2U8R9nfLm4PrcANW7VCFgmz5+PRLFei1L4VSY3ibIkZEQ2SdylsT+vNY05R5WJrN30YI0vxkqA5V7qcVTGF+TNjfya5unuyrtER57PspLlvZY5k0CJEI2iZ/kXZgvLAw==</script> <treescope-run-here><script type=\"application/octet-stream\"> const root = ( Array.from(document.getElementsByClassName( \"treescope_out_9217c7b847a24df19398cbe7b933c784\")) .filter((elt) => !elt.dataset['step0']) )[0]; root.dataset['step0'] = 1; root.defns.insertContent( this.parentNode.querySelector('script[type=\"application/octet-stream\"]'), true ); this.parentNode.remove(); </script></treescope-run-here> </div>"
      ],
      "text/plain": [
       "<IPython.core.display.HTML object>"
      ]
     },
     "metadata": {},
     "output_type": "display_data"
    },
    {
     "data": {
      "text/html": [
       "<treescope-run-here><script type=\"application/octet-stream\"> const root = ( Array.from(document.getElementsByClassName( \"treescope_out_9217c7b847a24df19398cbe7b933c784\")) .filter((elt) => !elt.dataset.stolen) )[0]; root.dataset.stolen = 1; this.parentNode.replaceChild(root, this); </script></treescope-run-here>"
      ],
      "text/plain": [
       "False"
      ]
     },
     "execution_count": 42,
     "metadata": {},
     "output_type": "execute_result"
    }
   ],
   "source": [
    "pz.select([1, 2]).at_instances_of(int).is_empty()"
   ]
  },
  {
   "cell_type": "markdown",
   "metadata": {
    "id": "TG5VaFeZl2qd"
   },
   "source": [
    "If you already know how many objects should be selected, you can also add an assertion in the middle of a chain:"
   ]
  },
  {
   "cell_type": "code",
   "execution_count": 43,
   "metadata": {
    "execution": {
     "iopub.execute_input": "2024-08-07T01:46:30.338058Z",
     "iopub.status.busy": "2024-08-07T01:46:30.337825Z",
     "iopub.status.idle": "2024-08-07T01:46:30.341850Z",
     "shell.execute_reply": "2024-08-07T01:46:30.341968Z"
    },
    "id": "bNBzV-pQl53a"
   },
   "outputs": [
    {
     "data": {
      "text/html": [
       "<script> (()=>{ if (customElements.get('treescope-container') === undefined) { class TreescopeContainer extends HTMLElement { constructor() { super(); this.attachShadow({mode: \"open\"}); this.defns = {}; this.state = {}; } } customElements.define(\"treescope-container\", TreescopeContainer); } if (customElements.get('treescope-run-here') === undefined) { class RunHere extends HTMLElement { constructor() { super() } connectedCallback() { const run = child => { const fn = new Function(child.textContent); child.textContent = \"\"; fn.call(this); this.remove(); }; const child = this.querySelector(\"script\"); if (child) { run(child); } else { new MutationObserver(()=>{ run(this.querySelector(\"script\")); }).observe(this, {childList: true}); } } } customElements.define(\"treescope-run-here\", RunHere); } })(); </script> <treescope-container class=\"treescope_out_175825f63e504f5285dfc3e8848a8755\" ></treescope-container> <treescope-run-here><script type=\"application/octet-stream\"> const root = ( Array.from(document.getElementsByClassName( \"treescope_out_175825f63e504f5285dfc3e8848a8755\")) .filter((elt) => !elt.dataset.setup) )[0]; root.dataset.setup = 1; const msg = document.createElement(\"span\"); msg.style = \"color: #cccccc; font-family: monospace;\"; msg.textContent = \"(Loading...)\"; root.state.loadingMsg = msg; root.shadowRoot.appendChild(msg); root.state.chain = new Promise((resolve, reject) => { const observer = new IntersectionObserver((entries) => { for (const entry of entries) { if (entry.isIntersecting) { resolve(); observer.disconnect(); return; } } }, {rootMargin: \"1000px\"}); window.setTimeout(() => { observer.observe(root); }, 0); }); root.state.deferring = false; const _insertNode = (node) => { for (let oldScript of node.querySelectorAll(\"script\")) { let newScript = document.createElement(\"script\"); newScript.type = oldScript.type; newScript.textContent = oldScript.textContent; oldScript.parentNode.replaceChild(newScript, oldScript); } if (root.state.loadingMsg) { root.state.loadingMsg.remove(); root.state.loadingMsg = null; } root.shadowRoot.appendChild(node); }; root.defns.insertContent = ((contentNode, compressed) => { if (compressed) { root.state.deferring = true; } if (root.state.deferring) { root.state.chain = (async () => { await root.state.chain; if (compressed) { const encoded = contentNode.textContent; const blob = new Blob([ Uint8Array.from(atob(encoded), (m) => m.codePointAt(0)) ]); const reader = blob.stream().pipeThrough( new DecompressionStream(\"deflate\") ).pipeThrough( new TextDecoderStream(\"utf-8\") ).getReader(); const parts = []; while (true) { const step = await reader.read(); if (step.done) { break; } parts.push(step.value); } const tpl = document.createElement('template'); tpl.innerHTML = parts.join(\"\"); _insertNode(tpl.content); } else { _insertNode(contentNode.content); } })(); } else { _insertNode(contentNode.content); } }); </script></treescope-run-here><div style=\"display:none\"> <script type=\"application/octet-stream\" >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</script> <treescope-run-here><script type=\"application/octet-stream\"> const root = ( Array.from(document.getElementsByClassName( \"treescope_out_175825f63e504f5285dfc3e8848a8755\")) .filter((elt) => !elt.dataset['step0']) )[0]; root.dataset['step0'] = 1; root.defns.insertContent( this.parentNode.querySelector('script[type=\"application/octet-stream\"]'), true ); this.parentNode.remove(); </script></treescope-run-here> </div>"
      ],
      "text/plain": [
       "<IPython.core.display.HTML object>"
      ]
     },
     "metadata": {},
     "output_type": "display_data"
    },
    {
     "data": {
      "text/html": [
       "<treescope-run-here><script type=\"application/octet-stream\"> const root = ( Array.from(document.getElementsByClassName( \"treescope_out_175825f63e504f5285dfc3e8848a8755\")) .filter((elt) => !elt.dataset.stolen) )[0]; root.dataset.stolen = 1; this.parentNode.replaceChild(root, this); </script></treescope-run-here>"
      ],
      "text/plain": [
       "[2, 3]"
      ]
     },
     "execution_count": 43,
     "metadata": {},
     "output_type": "execute_result"
    }
   ],
   "source": [
    "pz.select([1, 2]).at_instances_of(int).assert_count_is(2).apply(lambda x: x + 1)"
   ]
  },
  {
   "cell_type": "markdown",
   "metadata": {
    "id": "fd6gwn3JlaSr"
   },
   "source": [
    "### Retrieving values\n",
    "\n",
    "You can extract all of the selected values using `.get_sequence()`:"
   ]
  },
  {
   "cell_type": "code",
   "execution_count": 44,
   "metadata": {
    "execution": {
     "iopub.execute_input": "2024-08-07T01:46:30.346487Z",
     "iopub.status.busy": "2024-08-07T01:46:30.346212Z",
     "iopub.status.idle": "2024-08-07T01:46:30.352712Z",
     "shell.execute_reply": "2024-08-07T01:46:30.352831Z"
    },
    "id": "SkCQmesoBf3o"
   },
   "outputs": [
    {
     "data": {
      "text/html": [
       "<script> (()=>{ if (customElements.get('treescope-container') === undefined) { class TreescopeContainer extends HTMLElement { constructor() { super(); this.attachShadow({mode: \"open\"}); this.defns = {}; this.state = {}; } } customElements.define(\"treescope-container\", TreescopeContainer); } if (customElements.get('treescope-run-here') === undefined) { class RunHere extends HTMLElement { constructor() { super() } connectedCallback() { const run = child => { const fn = new Function(child.textContent); child.textContent = \"\"; fn.call(this); this.remove(); }; const child = this.querySelector(\"script\"); if (child) { run(child); } else { new MutationObserver(()=>{ run(this.querySelector(\"script\")); }).observe(this, {childList: true}); } } } customElements.define(\"treescope-run-here\", RunHere); } })(); </script> <treescope-container class=\"treescope_out_6c5e749288964f52876d2c0772f4de48\" ></treescope-container> <treescope-run-here><script type=\"application/octet-stream\"> const root = ( Array.from(document.getElementsByClassName( \"treescope_out_6c5e749288964f52876d2c0772f4de48\")) .filter((elt) => !elt.dataset.setup) )[0]; root.dataset.setup = 1; const msg = document.createElement(\"span\"); msg.style = \"color: #cccccc; font-family: monospace;\"; msg.textContent = \"(Loading...)\"; root.state.loadingMsg = msg; root.shadowRoot.appendChild(msg); root.state.chain = new Promise((resolve, reject) => { const observer = new IntersectionObserver((entries) => { for (const entry of entries) { if (entry.isIntersecting) { resolve(); observer.disconnect(); return; } } }, {rootMargin: \"1000px\"}); window.setTimeout(() => { observer.observe(root); }, 0); }); root.state.deferring = false; const _insertNode = (node) => { for (let oldScript of node.querySelectorAll(\"script\")) { let newScript = document.createElement(\"script\"); newScript.type = oldScript.type; newScript.textContent = oldScript.textContent; oldScript.parentNode.replaceChild(newScript, oldScript); } if (root.state.loadingMsg) { root.state.loadingMsg.remove(); root.state.loadingMsg = null; } root.shadowRoot.appendChild(node); }; root.defns.insertContent = ((contentNode, compressed) => { if (compressed) { root.state.deferring = true; } if (root.state.deferring) { root.state.chain = (async () => { await root.state.chain; if (compressed) { const encoded = contentNode.textContent; const blob = new Blob([ Uint8Array.from(atob(encoded), (m) => m.codePointAt(0)) ]); const reader = blob.stream().pipeThrough( new DecompressionStream(\"deflate\") ).pipeThrough( new TextDecoderStream(\"utf-8\") ).getReader(); const parts = []; while (true) { const step = await reader.read(); if (step.done) { break; } parts.push(step.value); } const tpl = document.createElement('template'); tpl.innerHTML = parts.join(\"\"); _insertNode(tpl.content); } else { _insertNode(contentNode.content); } })(); } else { _insertNode(contentNode.content); } }); </script></treescope-run-here><div style=\"display:none\"> <script type=\"application/octet-stream\" >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</script> <treescope-run-here><script type=\"application/octet-stream\"> const root = ( Array.from(document.getElementsByClassName( \"treescope_out_6c5e749288964f52876d2c0772f4de48\")) .filter((elt) => !elt.dataset['step0']) )[0]; root.dataset['step0'] = 1; root.defns.insertContent( this.parentNode.querySelector('script[type=\"application/octet-stream\"]'), true ); this.parentNode.remove(); </script></treescope-run-here> </div>"
      ],
      "text/plain": [
       "<IPython.core.display.HTML object>"
      ]
     },
     "metadata": {},
     "output_type": "display_data"
    },
    {
     "data": {
      "text/html": [
       "<div style=\"display:none\"> <script type=\"application/octet-stream\" >eNqVUstu2zAQ/JUFAwQ2TCu2bD0cP4A2aYFcemgPPRiGQZMrmwUtqhRtVCjy713Jr6RNC/cgiSvO7HCWM1F6D6WvDE6Z0mVhRHUPuc2RgVZTllm3VJihc6iWcSrSfoKp6ItkOFQDsUoEjiK5wiSJVvGAzSZlIXJ61/1mgbSG6GK1criHn9CU93ATp6Ho9cbwPLk7ABsWSCPKcspektjs1vjxN/EjeOecqFrzHoc+h5DDgMOQQ8Qh5pBwSDmMFhyUrwqc6twPwvbt2o9JoDnP6UNeZ5P/MNxXMgwxVmk8jIbhKFupfh9FJFBkGMUjdTF8tYGAw9vP+fiZseKfBrxDLKUtsOt2eXeDrp6gdLrw0DRgoiiMlsJrm99Z6dF3S+KILZtJm5eEEm6N/kmVMIU5u/56ObDrR7MYH8SUlc5aT1J+o8uAhD9T+ckqbLXHcDwQOTqCjvDg+w5d9QUNSm9diwVn08t6m52pmRPrLeZH6q5eBpLMenw8lh+PiD/lHgxdOxFPPQIaHObqYaONap1AgaxRzXm922GbulBGoGXQgyYyBVnD5DLTwGC+9hv62+m0KfU17rD5UonKDwbr5fvqicRO7LlekEDNKe3OSXyksP51KDd1WBl04Df6oQwcUrglftV+0zp3CzLtypN245QIl12HW7tvbub5PKZXjV7Nrl0HtEkeZfONWP4CiQx7Ag==</script> <treescope-run-here><script type=\"application/octet-stream\"> const root = ( Array.from(document.getElementsByClassName( \"treescope_out_6c5e749288964f52876d2c0772f4de48\")) .filter((elt) => !elt.dataset['step1']) )[0]; root.dataset['step1'] = 1; root.defns.insertContent( this.parentNode.querySelector('script[type=\"application/octet-stream\"]'), true ); this.parentNode.remove(); </script></treescope-run-here> </div>"
      ],
      "text/plain": [
       "<IPython.core.display.HTML object>"
      ]
     },
     "metadata": {},
     "output_type": "display_data"
    },
    {
     "data": {
      "text/html": [
       "<treescope-run-here><script type=\"application/octet-stream\"> const root = ( Array.from(document.getElementsByClassName( \"treescope_out_6c5e749288964f52876d2c0772f4de48\")) .filter((elt) => !elt.dataset.stolen) )[0]; root.dataset.stolen = 1; this.parentNode.replaceChild(root, this); </script></treescope-run-here>"
      ],
      "text/plain": [
       "(<jax.Array([0, 1, 2, 3, 4, 5, 6, 7, 8, 9], dtype=int32)>,\n",
       " <jax.Array([0., 0., 0., 0., 0., 0., 0.], dtype=float32)>)"
      ]
     },
     "execution_count": 44,
     "metadata": {},
     "output_type": "execute_result"
    }
   ],
   "source": [
    "selection = (\n",
    "    pz.select(my_nested_object)\n",
    "    .at_subtrees_where(\n",
    "        lambda subtree: isinstance(subtree, jax.Array) and subtree.size <= 10)\n",
    ")\n",
    "\n",
    "selection.get_sequence()"
   ]
  },
  {
   "cell_type": "markdown",
   "metadata": {
    "id": "Dp_fK7Mkd38c"
   },
   "source": [
    "Or get them in a dictionary form with `get_by_path()` (equivalent to just accessing the `.selected_by_path` attribute):"
   ]
  },
  {
   "cell_type": "code",
   "execution_count": 45,
   "metadata": {
    "execution": {
     "iopub.execute_input": "2024-08-07T01:46:30.358522Z",
     "iopub.status.busy": "2024-08-07T01:46:30.358235Z",
     "iopub.status.idle": "2024-08-07T01:46:30.365053Z",
     "shell.execute_reply": "2024-08-07T01:46:30.364881Z"
    },
    "id": "vx86PfFId_OQ"
   },
   "outputs": [
    {
     "data": {
      "text/html": [
       "<script> (()=>{ if (customElements.get('treescope-container') === undefined) { class TreescopeContainer extends HTMLElement { constructor() { super(); this.attachShadow({mode: \"open\"}); this.defns = {}; this.state = {}; } } customElements.define(\"treescope-container\", TreescopeContainer); } if (customElements.get('treescope-run-here') === undefined) { class RunHere extends HTMLElement { constructor() { super() } connectedCallback() { const run = child => { const fn = new Function(child.textContent); child.textContent = \"\"; fn.call(this); this.remove(); }; const child = this.querySelector(\"script\"); if (child) { run(child); } else { new MutationObserver(()=>{ run(this.querySelector(\"script\")); }).observe(this, {childList: true}); } } } customElements.define(\"treescope-run-here\", RunHere); } })(); </script> <treescope-container class=\"treescope_out_a2a2ada3e989447092d67d074d47fa38\" ></treescope-container> <treescope-run-here><script type=\"application/octet-stream\"> const root = ( Array.from(document.getElementsByClassName( \"treescope_out_a2a2ada3e989447092d67d074d47fa38\")) .filter((elt) => !elt.dataset.setup) )[0]; root.dataset.setup = 1; const msg = document.createElement(\"span\"); msg.style = \"color: #cccccc; font-family: monospace;\"; msg.textContent = \"(Loading...)\"; root.state.loadingMsg = msg; root.shadowRoot.appendChild(msg); root.state.chain = new Promise((resolve, reject) => { const observer = new IntersectionObserver((entries) => { for (const entry of entries) { if (entry.isIntersecting) { resolve(); observer.disconnect(); return; } } }, {rootMargin: \"1000px\"}); window.setTimeout(() => { observer.observe(root); }, 0); }); root.state.deferring = false; const _insertNode = (node) => { for (let oldScript of node.querySelectorAll(\"script\")) { let newScript = document.createElement(\"script\"); newScript.type = oldScript.type; newScript.textContent = oldScript.textContent; oldScript.parentNode.replaceChild(newScript, oldScript); } if (root.state.loadingMsg) { root.state.loadingMsg.remove(); root.state.loadingMsg = null; } root.shadowRoot.appendChild(node); }; root.defns.insertContent = ((contentNode, compressed) => { if (compressed) { root.state.deferring = true; } if (root.state.deferring) { root.state.chain = (async () => { await root.state.chain; if (compressed) { const encoded = contentNode.textContent; const blob = new Blob([ Uint8Array.from(atob(encoded), (m) => m.codePointAt(0)) ]); const reader = blob.stream().pipeThrough( new DecompressionStream(\"deflate\") ).pipeThrough( new TextDecoderStream(\"utf-8\") ).getReader(); const parts = []; while (true) { const step = await reader.read(); if (step.done) { break; } parts.push(step.value); } const tpl = document.createElement('template'); tpl.innerHTML = parts.join(\"\"); _insertNode(tpl.content); } else { _insertNode(contentNode.content); } })(); } else { _insertNode(contentNode.content); } }); </script></treescope-run-here><div style=\"display:none\"> <script type=\"application/octet-stream\" >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</script> <treescope-run-here><script type=\"application/octet-stream\"> const root = ( Array.from(document.getElementsByClassName( \"treescope_out_a2a2ada3e989447092d67d074d47fa38\")) .filter((elt) => !elt.dataset['step0']) )[0]; root.dataset['step0'] = 1; root.defns.insertContent( this.parentNode.querySelector('script[type=\"application/octet-stream\"]'), true ); this.parentNode.remove(); </script></treescope-run-here> </div>"
      ],
      "text/plain": [
       "<IPython.core.display.HTML object>"
      ]
     },
     "metadata": {},
     "output_type": "display_data"
    },
    {
     "data": {
      "text/html": [
       "<div style=\"display:none\"> <script type=\"application/octet-stream\" >eNqVUl2P2jAQ/Csrn3QKwuQSCAkcH1J710r30of2oQ8IIWMv4MrEqWNQUXX/vZsQ4K69VvQhiTee2fGsZ6z0Hkp/MDhhSpeFEYd7yG2ODLSasJV1C4UrdA7VYpDFQkRZqqJunMhBtoxUv6eW8bKvhioaxmw6LguR07vqNw2lNUQXy6XDPfyEuryHm3TQFVE0gufx3RFYs0AaUZYT9pLEprfGj76JH+E758QhmEUcYg5dDj0OCYc+h5RDxmHAYTjnoPyhwInOfa/bul37EQnU5zl9yOt0/B+G0yxdJoOspwZZkmQqFipKkjhKU7nCvojwYvhqAyGHt5/z8VfGin8a8A6xlLbAjtvlnQ26aoLS6cJD3YCJojBaCq9tfmelR98piSO2bCptXhJKuDX6J1XCBGbs+uvlwK4fzXx0FFNWOms9SfmNLkMS/kzlJ6swaI2gORA5akANPPy+Q3f4ggalty5g4dn0otpmZ+rKifUW84a6q5ahJLMeH5vyY4P4U+7B0LUT8dQjpMFhrh422qjgBAplharP690OW9SFMgKBQQ+ayBRkDePLTEOD+dpv6G+73aLUV7jj5kslKj8YrJbvD08kdmLP9JwEKk5pd07iI4X1r0O5qcLKoA2/0Y9l6JDCLfGr9pvg3C1caVeetGunRLjsOtzafX0zz+cxvWr0anatKqB18iibb8TyF5pteDQ=</script> <treescope-run-here><script type=\"application/octet-stream\"> const root = ( Array.from(document.getElementsByClassName( \"treescope_out_a2a2ada3e989447092d67d074d47fa38\")) .filter((elt) => !elt.dataset['step1']) )[0]; root.dataset['step1'] = 1; root.defns.insertContent( this.parentNode.querySelector('script[type=\"application/octet-stream\"]'), true ); this.parentNode.remove(); </script></treescope-run-here> </div>"
      ],
      "text/plain": [
       "<IPython.core.display.HTML object>"
      ]
     },
     "metadata": {},
     "output_type": "display_data"
    },
    {
     "data": {
      "text/html": [
       "<treescope-run-here><script type=\"application/octet-stream\"> const root = ( Array.from(document.getElementsByClassName( \"treescope_out_a2a2ada3e989447092d67d074d47fa38\")) .filter((elt) => !elt.dataset.stolen) )[0]; root.dataset.stolen = 1; this.parentNode.replaceChild(root, this); </script></treescope-run-here>"
      ],
      "text/plain": [
       "OrderedDict([((DictKey(key='b'),),\n",
       "              <jax.Array([0, 1, 2, 3, 4, 5, 6, 7, 8, 9], dtype=int32)>),\n",
       "             ((DictKey(key='c'), SequenceKey(idx=1), DictKey(key='value')),\n",
       "              <jax.Array([0., 0., 0., 0., 0., 0., 0.], dtype=float32)>)])"
      ]
     },
     "execution_count": 45,
     "metadata": {},
     "output_type": "execute_result"
    }
   ],
   "source": [
    "selection.get_by_path()"
   ]
  },
  {
   "cell_type": "markdown",
   "metadata": {
    "id": "fFsp4DQ5pmMu"
   },
   "source": [
    "If you know there's exactly one value, you can just call `.get()`"
   ]
  },
  {
   "cell_type": "code",
   "execution_count": 46,
   "metadata": {
    "execution": {
     "iopub.execute_input": "2024-08-07T01:46:30.370009Z",
     "iopub.status.busy": "2024-08-07T01:46:30.369508Z",
     "iopub.status.idle": "2024-08-07T01:46:30.375701Z",
     "shell.execute_reply": "2024-08-07T01:46:30.375833Z"
    },
    "id": "hYFSKPPinEdk"
   },
   "outputs": [
    {
     "data": {
      "text/html": [
       "<script> (()=>{ if (customElements.get('treescope-container') === undefined) { class TreescopeContainer extends HTMLElement { constructor() { super(); this.attachShadow({mode: \"open\"}); this.defns = {}; this.state = {}; } } customElements.define(\"treescope-container\", TreescopeContainer); } if (customElements.get('treescope-run-here') === undefined) { class RunHere extends HTMLElement { constructor() { super() } connectedCallback() { const run = child => { const fn = new Function(child.textContent); child.textContent = \"\"; fn.call(this); this.remove(); }; const child = this.querySelector(\"script\"); if (child) { run(child); } else { new MutationObserver(()=>{ run(this.querySelector(\"script\")); }).observe(this, {childList: true}); } } } customElements.define(\"treescope-run-here\", RunHere); } })(); </script> <treescope-container class=\"treescope_out_602018e6107145888c24c1bfae65f2be\" ></treescope-container> <treescope-run-here><script type=\"application/octet-stream\"> const root = ( Array.from(document.getElementsByClassName( \"treescope_out_602018e6107145888c24c1bfae65f2be\")) .filter((elt) => !elt.dataset.setup) )[0]; root.dataset.setup = 1; const msg = document.createElement(\"span\"); msg.style = \"color: #cccccc; font-family: monospace;\"; msg.textContent = \"(Loading...)\"; root.state.loadingMsg = msg; root.shadowRoot.appendChild(msg); root.state.chain = new Promise((resolve, reject) => { const observer = new IntersectionObserver((entries) => { for (const entry of entries) { if (entry.isIntersecting) { resolve(); observer.disconnect(); return; } } }, {rootMargin: \"1000px\"}); window.setTimeout(() => { observer.observe(root); }, 0); }); root.state.deferring = false; const _insertNode = (node) => { for (let oldScript of node.querySelectorAll(\"script\")) { let newScript = document.createElement(\"script\"); newScript.type = oldScript.type; newScript.textContent = oldScript.textContent; oldScript.parentNode.replaceChild(newScript, oldScript); } if (root.state.loadingMsg) { root.state.loadingMsg.remove(); root.state.loadingMsg = null; } root.shadowRoot.appendChild(node); }; root.defns.insertContent = ((contentNode, compressed) => { if (compressed) { root.state.deferring = true; } if (root.state.deferring) { root.state.chain = (async () => { await root.state.chain; if (compressed) { const encoded = contentNode.textContent; const blob = new Blob([ Uint8Array.from(atob(encoded), (m) => m.codePointAt(0)) ]); const reader = blob.stream().pipeThrough( new DecompressionStream(\"deflate\") ).pipeThrough( new TextDecoderStream(\"utf-8\") ).getReader(); const parts = []; while (true) { const step = await reader.read(); if (step.done) { break; } parts.push(step.value); } const tpl = document.createElement('template'); tpl.innerHTML = parts.join(\"\"); _insertNode(tpl.content); } else { _insertNode(contentNode.content); } })(); } else { _insertNode(contentNode.content); } }); </script></treescope-run-here><div style=\"display:none\"> <script type=\"application/octet-stream\" >eNrFGAtz2jj6r6h0ZoFLcHinkIQ5Q3ilJWlC2qTZ3eGELdsKRnJkGYfs5L/fJxkIEJrt3vbuYAYb6Xvre+o4lHOfNAwpCAktHpCR4FyiP1DAQyopZ3UkiI8lnZEj5HAmcw6eUn9eR1POeBhgC9Zjj0qS03/qKBCw4tNQ5jTpnJwHsMo4g+Uxtiau4BGzcxb3uagnqEdo8W/sAwDQo7b06sihEsCYJEweoQDbNmVuzieOrKOi5SkmjOQ8Ql0PVgpGRZFhElOQeYW2eMnNaEjH1KcSJMeR5CvYHGVSUBZSKxfSJ5LsLsR9Pj5IzHO8Mk9ORAx4ClgLLUEDiZR+J2kcBD61sLLYAbckUdoLgqfpRiaTPWmAQYFfKJFNHBaiEyQ9GhoukVdg7XNuk0zW8HgoDb0PqhGJRgFhSmXTUlQV0q+/79rpYWb7BLZZ5PtHCQcDxBxyzmA1E3MxyaJ1GfgNLKmtjWVJLbUYEOFwMcXMIgbjcSarzxcYZF7toFyCdIxKxSzQoQ7KbElt+IS50kMnJyivQN4UXRAZCQZ2R8QPyYtgXsSUZNukQ486UsmnAdTLM3y/wyEDXsVsHhuCPEQklCajU31cHYGnJJPYJKtoHL1iFEShl5jxaIeOSxYniRpvaPnjMigpkoOU3HX9JCpHOnLAWwNFS60QX+4jMgMHX5ykkk7/NyZkroyeEikl0ALYsHwchp8gOBd0M6kVzdEU3DC1ZP6cBXuC+2sfbxwf7AoAm86QJniS2kwfKSTxGDQljyepfApxBsKA2gzg3nL73bpmFM5SyxSEXZKwdMYYhSp2Xe0pOoG8x6VCpQCZ4FmRJEIQexRAUiEe920i1gEP1XeR0zTNOqISQxArZAfA8RhkYSDkd7LhM9oEGyXiA7RNQ2A6X2a9bUDUQD4eE79eHxMIKLImlaU/Rzv5JZkvV1Cpb5Eh80cvvCjT+XDsc5VCv8vT4zMiXnO2sZiEBLtwjuw1dp1xmdla8nCYaWiajZ120Dh1yyPWhNjZLPpH9kUGhbobaQm/IaFO4XWU/q1YGVvp/6d4m0jfFbL6PxBSnaNiHIlQHWDAoZARsYMvDX8eWx0KmlFOB2T4PR//OVxf1JPkUb7mYtBw5FARyhFnI+X+O0LrrVAyihUVTTuPCv1t8ZMT3xZRaTXFwoXWIxFDB/Tz3+QG+TCYjyMpoebvSkAv27ucNoVSW1BgSOjndgP/RgplO7XVDqYHGLyCYh8N59Mx90N0EUmlr41aCSY8gzkERi4m4wm0dknmnUKy9yCHQ+PFJKBTHBJ71RC+J3n1PXrt5gm27tjyRo1Mt7VM4mOHFrvT3QumEeNwZEEdAMOu8LEjN6rHMk+/xXMLZ5PluunRDItMLmdjiXOYwcHqniC7vqyYqEZHYLb0Zk0WFUJEwGLQxeZ4JP+aKisJ4GAosd9tSqJZond0GnAhMXtFeyz4hLCRWnlJRn9u3TW0NXsuj/nZUG0DCGaPLGg6bUHYQtTNth5obgL+pOy6FjqLQroRqhb2rQzMHtD4FoJH3SsZocQKfyXvf02SMRfQwiwksbkE3ZUU68YLPaw6nhgLBiE1WqbspZUdB1uF0g7AAFrKP1YjllhMVCovLdRfLOXyhk6YL3NcXU9hWORcgW0KB5IplCo2cfcRB191CcpDeFYtbz/x3QDYQibQS2hhv1eivEqZP82kG4e5VObZiD3tkb6PA0g+f97A/fXs/H0OSdumeWgg8ghRan8X5mfIsYvFTxx41QyC3plC4LnhCD6FucaKpmomUTk7NGbYh+Enk80aIYepR2dyNb2op5GUEzW5/GBBSaVRFmVXs2LoERiQYRIjMWoNh0OlzVCtqfFQb8LwpSeC4ZxZmX/9c1HELFUc/sOCtj5CMDUg+4u1eHE3Uc5DdIbCqqNI+BmVXetq/yDmjlM8GkP+rpb37XytO3DNpqk//UvT5PqteRXDb69jmm3zrU9zapruhH+0++1mK/5mmtffWmfmoN9smR33sd/75MmwOaDELXVOb4uf+tVvs2EQ0c+DynXh7LZ/9XUwuxk8yc/zTqe1d+NOrmnzNO/R08vorG137/O98YEz69vBw8eq93BD6WU0YF2v53yR5pdq81yUzU6fTdpV60sUsb2ryoMVTuKZ0/EPHh7dNv/gjs/i7odCzzxg5lXlkxBnhas99yl/ZefNM6fgnh+24u590c3zeXR1eDhtF6px77Z24boBuZ7My6Q/fqpYY3HRldh0L/vn8SkO5+Fl1O/f3rQ7sfn5Muh/s78cHOy5h9eHtyWZdz5+fjBnFaD5yTw/NAexOXWfroZ70d2QtG8fi07VejovX/Xmlahpfnxq3gedoER7l612/i76XB4eMqf5qd3rDKYm3fswaxc9VvAO98Zf49v7uCdmp90vLXbvtNuu3Luw7nz/sFJrncXND16tPBh0h6XunelO+5X75mVNXndJr9ZuNvvd0qlbvjr4Zs3HZhfO9OvHA/Oyi00yaPlm76l94d5Jt9r87F5c9E+bE3pZIZ3mbavZsWg+8AQPGPhGcNc+LTwVJkOn5Uhv/pH1bNwJe07+fNptn1ebtvnw9WuAZTi8m9o2prWi81Qrf6H3D9VgKqoX/FtrSEV3OjvrloY3w1KnXbSal871Xs/nQbfcCeMKdh+qH+gdGZ77wQ1r9vrEHggS3Tx0W9PCTUdMhsPHSrF6cxPGJkiURfpySGbS2q3TKrv/C35W0Y9tHkDNeglJfaVlGMYbEPtJzP4OtN6+OvD0HYtuK5KOB2iDezALZZLGY/MGDELwmqvwBbBFY6LWQkgPioTqtFR7gmNMJWJ4Rl0suTCAcjDmWNhGLKgk1zCUZF5ogbILWi/XLFBSM6m1NkxdsACXazol0K9lljdwr/AEmUJP9Qr1eR8V8/m8rpyQfKGIZvRAsZvvWq+VehFOjVLLDKbupFLoPepg6kNikxwp4Hc6s0G1ZBH2IRtTsBnBtmoV99Ztt7gs+pNrItV2Lu+JNu8ktut8qnGcFLNjyoJoUWlSunyN+WNqJ5FFpQPUA43U+OP4YEFknfGrtjL11v7W5vpdU6rxy/vH4uGRrmLJK+gPwI06SpCofZJaXT7VKoeHhQ+kXK3WqmWnZNdq5WqtWLNLhWrVrlnWFqddl1apxj1+NHQ9hZOQpWKmUNzPLpguH+tENop8qrH/AzDre+mXbj2NOGsp7ztJ/8Xw07d22TRajRInqV/T2mbp31NIF8uT1NqkUUe/PERcHq2Akr8wLW7PRVCZtfNBcvPgfSF7Y8seux7PP2KIJYZNZ41/AyUFyBg=</script> <treescope-run-here><script type=\"application/octet-stream\"> const root = ( Array.from(document.getElementsByClassName( \"treescope_out_602018e6107145888c24c1bfae65f2be\")) .filter((elt) => !elt.dataset['step0']) )[0]; root.dataset['step0'] = 1; root.defns.insertContent( this.parentNode.querySelector('script[type=\"application/octet-stream\"]'), true ); this.parentNode.remove(); </script></treescope-run-here> </div>"
      ],
      "text/plain": [
       "<IPython.core.display.HTML object>"
      ]
     },
     "metadata": {},
     "output_type": "display_data"
    },
    {
     "data": {
      "text/html": [
       "<div style=\"display:none\"> <script type=\"application/octet-stream\" >eNqNUt9v2jAQ/ldOrlQFAS4BGkgJSFu7SX3Zw/awB4SQax/Ek4kz26BFU//3XUJC2/2Q9vA5vvj77s7nL1P6BD5UBpdMaV8aUd1BYQtkoNWS7azbKtyhc6i26e1sFs9xmiRpMt1NVJpOk3ScqkmcJCqVkq0yX4qC1jrfiktrSC6enhye4Cc04R1cJfOxGI0W8JzdnImNCqQR3i/ZaxFbXZuw+CZ+8HfOiSpaw2gAEBPGhAlhSrglJIQZYU5IBxATL443A1ChKnGpizAZ9673YUElmw67D91+lQWH6KUtceiOxTBHV7cknS4DNHImytJoKYK2xY2VAcPQk0Yc2ErawhNLuD2GR+VhCWv2//PaLM56ZaWzNpA65NpzyvWZwk9WYdRbQFuDmmxJLZ1/P6KrvqBBGayLGL/cY1sfs4t058T+gEUrPdZbLqn/gA9t+LFl/Fnu3pAXSNjl4DQLLNR9ro2KOhKXNavpN7gj9igLGQcigwE0iemxNWQvY+IGi33I6W+/3yNn1Lzz4etKFH4wWG/fV49UrFOv9YYK1Bpvj07iAzn4n0O5qh3MoA+/yc8hd0iOl/hVhzy6ZOM77XxXu7kpCV5OHR7sqXmZ58uY3iR6M7te7bnGTGS3vzjtFyfCMXM=</script> <treescope-run-here><script type=\"application/octet-stream\"> const root = ( Array.from(document.getElementsByClassName( \"treescope_out_602018e6107145888c24c1bfae65f2be\")) .filter((elt) => !elt.dataset['step1']) )[0]; root.dataset['step1'] = 1; root.defns.insertContent( this.parentNode.querySelector('script[type=\"application/octet-stream\"]'), true ); this.parentNode.remove(); </script></treescope-run-here> </div>"
      ],
      "text/plain": [
       "<IPython.core.display.HTML object>"
      ]
     },
     "metadata": {},
     "output_type": "display_data"
    },
    {
     "data": {
      "text/html": [
       "<treescope-run-here><script type=\"application/octet-stream\"> const root = ( Array.from(document.getElementsByClassName( \"treescope_out_602018e6107145888c24c1bfae65f2be\")) .filter((elt) => !elt.dataset.stolen) )[0]; root.dataset.stolen = 1; this.parentNode.replaceChild(root, this); </script></treescope-run-here>"
      ],
      "text/plain": [
       "{'value': <jax.Array([ 0,  1,  2,  3,  4,  5,  6,  7,  8,  9, 10, 11], dtype=int32)>}"
      ]
     },
     "execution_count": 46,
     "metadata": {},
     "output_type": "execute_result"
    }
   ],
   "source": [
    "pz.select(my_nested_object).at(lambda root: root[\"c\"][0]).get()"
   ]
  },
  {
   "cell_type": "markdown",
   "metadata": {
    "id": "MkI4lVkKxvSX"
   },
   "source": [
    "You can also get the selected objects in a dictionary form by accessing the `selected_by_path` attribute, which is how selections store their selected nodes internally:"
   ]
  },
  {
   "cell_type": "code",
   "execution_count": 47,
   "metadata": {
    "execution": {
     "iopub.execute_input": "2024-08-07T01:46:30.381965Z",
     "iopub.status.busy": "2024-08-07T01:46:30.381630Z",
     "iopub.status.idle": "2024-08-07T01:46:30.387935Z",
     "shell.execute_reply": "2024-08-07T01:46:30.387756Z"
    },
    "id": "UNJ6Zq-7x1px"
   },
   "outputs": [
    {
     "data": {
      "text/html": [
       "<script> (()=>{ if (customElements.get('treescope-container') === undefined) { class TreescopeContainer extends HTMLElement { constructor() { super(); this.attachShadow({mode: \"open\"}); this.defns = {}; this.state = {}; } } customElements.define(\"treescope-container\", TreescopeContainer); } if (customElements.get('treescope-run-here') === undefined) { class RunHere extends HTMLElement { constructor() { super() } connectedCallback() { const run = child => { const fn = new Function(child.textContent); child.textContent = \"\"; fn.call(this); this.remove(); }; const child = this.querySelector(\"script\"); if (child) { run(child); } else { new MutationObserver(()=>{ run(this.querySelector(\"script\")); }).observe(this, {childList: true}); } } } customElements.define(\"treescope-run-here\", RunHere); } })(); </script> <treescope-container class=\"treescope_out_c9d331cd928b47a9a97ae5626091874a\" ></treescope-container> <treescope-run-here><script type=\"application/octet-stream\"> const root = ( Array.from(document.getElementsByClassName( \"treescope_out_c9d331cd928b47a9a97ae5626091874a\")) .filter((elt) => !elt.dataset.setup) )[0]; root.dataset.setup = 1; const msg = document.createElement(\"span\"); msg.style = \"color: #cccccc; font-family: monospace;\"; msg.textContent = \"(Loading...)\"; root.state.loadingMsg = msg; root.shadowRoot.appendChild(msg); root.state.chain = new Promise((resolve, reject) => { const observer = new IntersectionObserver((entries) => { for (const entry of entries) { if (entry.isIntersecting) { resolve(); observer.disconnect(); return; } } }, {rootMargin: \"1000px\"}); window.setTimeout(() => { observer.observe(root); }, 0); }); root.state.deferring = false; const _insertNode = (node) => { for (let oldScript of node.querySelectorAll(\"script\")) { let newScript = document.createElement(\"script\"); newScript.type = oldScript.type; newScript.textContent = oldScript.textContent; oldScript.parentNode.replaceChild(newScript, oldScript); } if (root.state.loadingMsg) { root.state.loadingMsg.remove(); root.state.loadingMsg = null; } root.shadowRoot.appendChild(node); }; root.defns.insertContent = ((contentNode, compressed) => { if (compressed) { root.state.deferring = true; } if (root.state.deferring) { root.state.chain = (async () => { await root.state.chain; if (compressed) { const encoded = contentNode.textContent; const blob = new Blob([ Uint8Array.from(atob(encoded), (m) => m.codePointAt(0)) ]); const reader = blob.stream().pipeThrough( new DecompressionStream(\"deflate\") ).pipeThrough( new TextDecoderStream(\"utf-8\") ).getReader(); const parts = []; while (true) { const step = await reader.read(); if (step.done) { break; } parts.push(step.value); } const tpl = document.createElement('template'); tpl.innerHTML = parts.join(\"\"); _insertNode(tpl.content); } else { _insertNode(contentNode.content); } })(); } else { _insertNode(contentNode.content); } }); </script></treescope-run-here><div style=\"display:none\"> <script type=\"application/octet-stream\" >eNrtWQtT4sgW/is9maolXCWGt6BSNyAvZ9BRnNFxd4vbJJ2kJXRi0gFxy/9+TycBeemMu+6zVqsMdk6fZ5/T3zkcBnzmkJrCfUIC3fXIwHddjn5BnhtQTl1WRT5xMKcTcoBMl/GMicfUmVXR2GVu4GEd1qc25SQT/VNFng8rDg14JmKd4TMPVpnLYHmI9ZHluyEzMrrruH413nqAkv+GDhAAP2pwu4pMyoGMccL4AfKwYVBmZRxi8irK6bYQwkjGJtSyYSWrFAUbxjEFnRfbkg+ZCQ3okDqUg+Y45O6CNkMZ9ykLqJ4J6AOJ3ybqPh7uxe45XLgn44cMZPqwFug+9TgS9h2lsOc5VMfCY3uuzomw3id4nKrJcvqoBg4FeQFHBjFZgI4Qt2mgWIRfgLdPXYPIacV2A65E78E0wtHAI0yYrOmCq9j048/b3nQwMxwCr1noOAexBAXU7Lsug1V56vqjNFrWwb2CJfFqZZlTXSx6xDddf4yZThTmTuV0FF8QIG+8QZl40yHK59LAh5pIXtNacQizuI2OjpAqSF5U3Sc89Bn4HREnIE+K2SETmq2zDmxqcqFfRCA+PMLvMxJkOFXMcKeKT+5CEnCN0XEUrpaPx0SOfZIWPA42BHlhYMduPNhi41zEUWzGC1Z+vw5CiziQ3LUsJ87KQZQ5cFo9wUusEIfvIjKBA55EUmgX/a+MyEw4XfIloVBCrOgODoKPkJwJX1la8ByM4RhKc+GPafAnHP/ojNcO97YlgEEnKGJ4JK2WDwlxPARLyf2RpErIZaAMmM2A7qVjv91WWeyZWylB2sUFK6oYAxaOh8SPTkpUQN6rlf1ssQT6JwSBSG5riQDns8VsURCATOL7xBh4UHWI7TrGCidcFr9J0YuEVhHlGLJcbDaBHA9BWQZWPFMuH9Eq2SC2D6gNGoDQ2bwsrhOiGnLwkDjV6pBAxpElrfTo52CrvLg0ZrKiNiYlVD14kkVZVDCHjitq7LMybXdC/E3JBvZHAcEWBJpt7q4yl8trSzYO5FrEs7bVD9Geqm4TfUSMdBr9J/2kg9i6fdOcfkXDqMZXUeqnXHGop/5M9VY3Patk6Q9QUsRRCA79QATQc+GmI/4WuTR4O7FRKkSCMlHGBs+d8beR+mQeJ/d8U4pCg4FJ/YAPXDYQx39Lar2USkquKLJpa6jQb1Y/jvi6isKqMfYtwCaxGlFCP/5GaVAPvdkw5BxAwbYC9PR626GVkLRGBY4EwLed+CeSLRjSGl5M9TCcCood1J+Nh64ToLOQC3sN1Ih3wtObQWJkpmQ4AuwXV94x3AY21HBAZozDdooDYiwQ43uiit+DzWMe744gnapUyHjdyjg/tlixvdw97VSmOBjocA+AYxf7sclXbo95nX5J5tqeVZHLrkcT7MuZjIE5zmAGgY1AQ3p5WQgRSMjHbH6aI7YoGyACHgOYm3FD/jpTFhpAYCgx3q1qEolE7+jYc32O2Qbvoe+OCBuIladi9G3vLm1b8uc8zI+KwBWgmDHQAZUaPmGJqqu4H3iuEr5RdV1KneQiXUlVHTu6DM0JIOOsdx+BKSXgWOxf6Pu7aTJ0fYAwiSaGy8F2ocWy8+5C7DDAmgPo0kx6D0xW0mQ/ShMA1ljgoin2GSTeYF7Y57EwTaxn81sIPUCmvyw6NT9pzET1SpyULGVUJSqrT+1gNWrmsJ+xfGxQCJuczRcNYu0iF060RZAK2pV0ezc+4R6IhXoRLaHEyxuqbBTWN3P8SsjnxjwqUzs6t46DPShR34Z5r6/hz0uIwV0kIyIi95DLxrM0b6HHNhGJoTHBU7uyzRWrLYOy2oegFzism8pWOqPthN8j7Fk+bzgMEP0Zeqf5Pp4ppu+OoefTw7Ho10QeBsoEO9AYyum0ErjQEUbZKTo78VTim1R0dd95l0oplEbpRR8d2IRw0WyTKWr0+31hTV+sidY5egmNadQM9WdMl//33+T+1sm8Trz+Ll/unpgYHjjJ2jSZ2xRUKEyBr1dR6DuyuFiq4v3e1DXN3MEQrq5SYddQK+2epdW16Kd7rmlu9Kl+MYW/nZamNbWXfupjTbNG7gej26w3pl817fJr40TrdesNrWXddzsfbR7Ue5RY+dbxde5jt/R10vdC+qlXvMyeXHcvvvQmV70H/mnWajV2rqzRJa0fqzY9Pg9Pmkb7Vu0M98xJ1/DuPpTsuytKz8Mea9sd8zPXPpfqp35Ba3XZqFnSP4ch27ko3unBaDoxW87e3b3VdPet4cm0vZ/taHtMuyh+9P2T7MWO9aBeGKp2Ymat03Jj2r7NWao7Cy/K5XEzW5p2ritnluWRy9GsQLrDh6I+9M/aHGvWefd0eoyDWXAedrvXV83WVPt07nW/Gp/39nas8mX5Os9V88OnO21SBJ4ftdOy1ptqY+vhor8T3vRJ8/o+Z5b0h9PCRWdWDOvah4f6rdfy8rRz3miqN+GnQr/MzPrHZqfVG2t0Z3/SzNksa5d3hl+m17fTjj85bn9usFuz2bT4zpl+4zjlYqVxMq3v25VCr9fu59s3mjXuFm/r5xV+2SadSrNe77bzx1bhYu+rPhtqbYjplw972nkba6TXcLTOQ/PMuuFWqf7JOjvrHtdH9LxIWvXrRr2lU9WzfddjcDa8m+Zx9iE76psNk9uzD6xj4FbQMdXTcbt5Wqob2t2XLx7mQf9mbBiYVnLmQ6Xwmd7elbyxXzpzvzb61G+PJyftfP+qn281c3r93Lzc6Tiu1y60gmkRW3elfXpD+qeOd8XqnS4xej4Jr+7ajXH2quWP+v37Yq50dRVMNdAojaLBGZdT0bFOiSvrf/Bnkf3YcD24rp9SMhr3KYryAsVunLM/A6+Xxyp2NH+KEFUM9oA3HA+mIznGXKvTQUjBS1ekL5AlmEysBVAeBAsBMgUyw1NMOWJ4Qi3MXV8Bzt7Qxb6hTH3KySX0Y/ITLzA24fU0ggKcIEtLCFQMn0DKJR0TgKryfDq5sc8nY4CTG1sfd1FOVdUIDkDxBWQgR73UdrlLMFN6Uk50kfMKJuZ1EnqPWpg6UNi4iwTxu6iyAQRgAKWgGlPwGcGGQMk7y75LBmnfGKEJxD2foa2OY9bBi1Q7jG/oQ8q8MLlppOhOHrr30lYmyfUNL+OrG5SINq/KXb1ppdWXa4BRqgn0QZK5KBgHpLXkcSbQJzGOqc7lXw73Em2XmW1Ad+ml99If5Z6FW+S/pda/IZi3+D6CRoOQU2ctnCKOH8jsbXwyIrOjFYLl6axU++H9fa58MIwfczU2zJoDTqm2u6pq8kgnz93ty9VNjgsoLdXQNrG/LvTUOJIWw+WiWdnf1/fLRK+ohXwW75uGaZQqRjaLVRUX99c4bhtKx3GKQCOUG57PyVl1N71q5O7rjVvz6fK71FM/nkIua4gie5R65S0TDe7TKbQYFhxJP8rzUyUORGqYSu+mf5ZQhA+PpKW5QhX9cBe6/GDrhvjVAdqYiAAwjWov3O02fE5sqm09LN8Ot/Syu8S3H4niyXeQ0AiK/jkevasHIkOB6I3E/1v+/unlT3+z8vddpeAveAB/p1D2xbetTCdvFk5q3G8LZ/xlpFTL/hvCv382RpOYN8rIX7/zz8EsuECwqldy+XKZFPaHaoUUTGIWc2opXyJGvvRKzGI6LhaopbwOWr7LL38tyKIDAkHLBUXUgiysrVBFhyeVfhW2eSXnfxIIih+P35Muiy2C6f8BC96mew==</script> <treescope-run-here><script type=\"application/octet-stream\"> const root = ( Array.from(document.getElementsByClassName( \"treescope_out_c9d331cd928b47a9a97ae5626091874a\")) .filter((elt) => !elt.dataset['step0']) )[0]; root.dataset['step0'] = 1; root.defns.insertContent( this.parentNode.querySelector('script[type=\"application/octet-stream\"]'), true ); this.parentNode.remove(); </script></treescope-run-here> </div>"
      ],
      "text/plain": [
       "<IPython.core.display.HTML object>"
      ]
     },
     "metadata": {},
     "output_type": "display_data"
    },
    {
     "data": {
      "text/html": [
       "<div style=\"display:none\"> <script type=\"application/octet-stream\" >eNqVUl2P2jAQ/Csrn3QKIuQCgZAcH1J710r30of2oQ8IIWNvwJWJU8egRtX9925CgLv2WtGHJN54ZseznqlUByhdpXHGpCoLzat7yE2ODJScsczYlcQMrUW5GmVpkohkjCINh1GfJ5nMZJzKfp+HIR8lbD4tC57Tu+43D4TRROfrtcUD/ISmvIebOBkQfgLP07sjsGGB0LwsZ+wlic1vtZt84z+Cd9byyluEPvR9GPgQ+TD0YeRD7MPYh8SHdOmDdFWBM5W7aNC53bgJCTTnOX3I63z6H4b5EHko0kE0HuMwWYcpDjPMRoMwjmKUUXwxfLWBwIe3n/PxM234Pw04i1gKU2DP7vPeFm09QWFV4aBpwHhRaCW4Uya/M8Kh65XE4Ts2FyYvCcXtBt2TLGEGC3b99frArh/NcnIUk0ZYYxxJua0qAxL+TOUnI9HrTKA9EDlqQS08+L5HW31BjcIZ67HgbHpVb7MzNbN8s8O8pe7rZSDIrMPHtvzYIv6Ue9B07UQ89QhocJjLh63S0juBAlGjmvM6u8cOdaGMgKfRgSIyBVnB9DLTQGO+cVv62+12KPU17rj5UonKDxrr5fvqicRO7IVakkDNKc3eCnyksP51KDd1WBl04Tf6sQwsUrgFflVu6527BZmy5Um7cUqEy67FnTk0N/N8HtOrRq9m16kD2iSPsvlGLH8Bqel5lA==</script> <treescope-run-here><script type=\"application/octet-stream\"> const root = ( Array.from(document.getElementsByClassName( \"treescope_out_c9d331cd928b47a9a97ae5626091874a\")) .filter((elt) => !elt.dataset['step1']) )[0]; root.dataset['step1'] = 1; root.defns.insertContent( this.parentNode.querySelector('script[type=\"application/octet-stream\"]'), true ); this.parentNode.remove(); </script></treescope-run-here> </div>"
      ],
      "text/plain": [
       "<IPython.core.display.HTML object>"
      ]
     },
     "metadata": {},
     "output_type": "display_data"
    },
    {
     "data": {
      "text/html": [
       "<treescope-run-here><script type=\"application/octet-stream\"> const root = ( Array.from(document.getElementsByClassName( \"treescope_out_c9d331cd928b47a9a97ae5626091874a\")) .filter((elt) => !elt.dataset.stolen) )[0]; root.dataset.stolen = 1; this.parentNode.replaceChild(root, this); </script></treescope-run-here>"
      ],
      "text/plain": [
       "OrderedDict([((DictKey(key='b'),),\n",
       "              <jax.Array([0, 1, 2, 3, 4, 5, 6, 7, 8, 9], dtype=int32)>),\n",
       "             ((DictKey(key='c'), SequenceKey(idx=1), DictKey(key='value')),\n",
       "              <jax.Array([0., 0., 0., 0., 0., 0., 0.], dtype=float32)>)])"
      ]
     },
     "execution_count": 47,
     "metadata": {},
     "output_type": "execute_result"
    }
   ],
   "source": [
    "(\n",
    "    pz.select(my_nested_object)\n",
    "    .at_subtrees_where(\n",
    "        lambda subtree: isinstance(subtree, jax.Array) and subtree.size <= 10\n",
    "    )\n",
    ").selected_by_path"
   ]
  },
  {
   "cell_type": "markdown",
   "metadata": {
    "id": "ebPObknTmCAo"
   },
   "source": [
    "### Partitioning PyTrees\n",
    "\n",
    "You can use `.partition()` to split a selected object into two parts, one containing only the selected subtrees, and one containing everything else:"
   ]
  },
  {
   "cell_type": "code",
   "execution_count": 48,
   "metadata": {
    "execution": {
     "iopub.execute_input": "2024-08-07T01:46:30.392428Z",
     "iopub.status.busy": "2024-08-07T01:46:30.392155Z",
     "iopub.status.idle": "2024-08-07T01:46:30.394122Z",
     "shell.execute_reply": "2024-08-07T01:46:30.393937Z"
    },
    "id": "H-CcdaMyqq3M"
   },
   "outputs": [],
   "source": [
    "selected, rest = (\n",
    "    pz.select(my_nested_object)\n",
    "    .at_subtrees_where(\n",
    "        lambda subtree: isinstance(subtree, jax.Array) and subtree.size <= 10)\n",
    ").partition()"
   ]
  },
  {
   "cell_type": "code",
   "execution_count": 49,
   "metadata": {
    "execution": {
     "iopub.execute_input": "2024-08-07T01:46:30.398937Z",
     "iopub.status.busy": "2024-08-07T01:46:30.398675Z",
     "iopub.status.idle": "2024-08-07T01:46:30.405818Z",
     "shell.execute_reply": "2024-08-07T01:46:30.405647Z"
    },
    "id": "DaUwe2Iyq6ko"
   },
   "outputs": [
    {
     "data": {
      "text/html": [
       "<script> (()=>{ if (customElements.get('treescope-container') === undefined) { class TreescopeContainer extends HTMLElement { constructor() { super(); this.attachShadow({mode: \"open\"}); this.defns = {}; this.state = {}; } } customElements.define(\"treescope-container\", TreescopeContainer); } if (customElements.get('treescope-run-here') === undefined) { class RunHere extends HTMLElement { constructor() { super() } connectedCallback() { const run = child => { const fn = new Function(child.textContent); child.textContent = \"\"; fn.call(this); this.remove(); }; const child = this.querySelector(\"script\"); if (child) { run(child); } else { new MutationObserver(()=>{ run(this.querySelector(\"script\")); }).observe(this, {childList: true}); } } } customElements.define(\"treescope-run-here\", RunHere); } })(); </script> <treescope-container class=\"treescope_out_40aab1e2d5244a14a5f258e54856e491\" ></treescope-container> <treescope-run-here><script type=\"application/octet-stream\"> const root = ( Array.from(document.getElementsByClassName( \"treescope_out_40aab1e2d5244a14a5f258e54856e491\")) .filter((elt) => !elt.dataset.setup) )[0]; root.dataset.setup = 1; const msg = document.createElement(\"span\"); msg.style = \"color: #cccccc; font-family: monospace;\"; msg.textContent = \"(Loading...)\"; root.state.loadingMsg = msg; root.shadowRoot.appendChild(msg); root.state.chain = new Promise((resolve, reject) => { const observer = new IntersectionObserver((entries) => { for (const entry of entries) { if (entry.isIntersecting) { resolve(); observer.disconnect(); return; } } }, {rootMargin: \"1000px\"}); window.setTimeout(() => { observer.observe(root); }, 0); }); root.state.deferring = false; const _insertNode = (node) => { for (let oldScript of node.querySelectorAll(\"script\")) { let newScript = document.createElement(\"script\"); newScript.type = oldScript.type; newScript.textContent = oldScript.textContent; oldScript.parentNode.replaceChild(newScript, oldScript); } if (root.state.loadingMsg) { root.state.loadingMsg.remove(); root.state.loadingMsg = null; } root.shadowRoot.appendChild(node); }; root.defns.insertContent = ((contentNode, compressed) => { if (compressed) { root.state.deferring = true; } if (root.state.deferring) { root.state.chain = (async () => { await root.state.chain; if (compressed) { const encoded = contentNode.textContent; const blob = new Blob([ Uint8Array.from(atob(encoded), (m) => m.codePointAt(0)) ]); const reader = blob.stream().pipeThrough( new DecompressionStream(\"deflate\") ).pipeThrough( new TextDecoderStream(\"utf-8\") ).getReader(); const parts = []; while (true) { const step = await reader.read(); if (step.done) { break; } parts.push(step.value); } const tpl = document.createElement('template'); tpl.innerHTML = parts.join(\"\"); _insertNode(tpl.content); } else { _insertNode(contentNode.content); } })(); } else { _insertNode(contentNode.content); } }); </script></treescope-run-here><div style=\"display:none\"> <script type=\"application/octet-stream\" >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</script> <treescope-run-here><script type=\"application/octet-stream\"> const root = ( Array.from(document.getElementsByClassName( \"treescope_out_40aab1e2d5244a14a5f258e54856e491\")) .filter((elt) => !elt.dataset['step0']) )[0]; root.dataset['step0'] = 1; root.defns.insertContent( this.parentNode.querySelector('script[type=\"application/octet-stream\"]'), true ); this.parentNode.remove(); </script></treescope-run-here> </div>"
      ],
      "text/plain": [
       "<IPython.core.display.HTML object>"
      ]
     },
     "metadata": {},
     "output_type": "display_data"
    },
    {
     "data": {
      "text/html": [
       "<div style=\"display:none\"> <script type=\"application/octet-stream\" >eNqVUstu2zAQ/JUFAwQyQivyI5YUP4A2aYFcemgPPRiGQZMrmwUtqhRtVCjy713Jsp20aeEeJHHFmR3OciZK76H0lcEpU7osjKjuIbc5MtBqyjLrlgozdA7VMo5FlA6zTGYqHQ5WYpWOIhEnKQFijOKIzSZlIXJ61/1mobSG6GK1criHn9CU93A1SvoiisbwPLk9ABsWSCPKcspektjs2vjxN/EjfOecqIJ5xKHHoc9hwGHI4Y7DiEPMIeGQLjgoXxU41bkf9DvXaz8mgeY8xw95nU3+w7AciKSXqeSuj9lQqr5IRa83GCWrKKGqPzobvthAyOHt53T8zFjxTwPeIZbSFth1u7y7QVdPUDpdeGgaMFEURkvhtc1vrfTouyVxxJbNpM1LQgm3Rv+kSpjCnF1+vRzY5aNZjA9iykpnrScpv9FlSMKfqfxkFQadMbQHIkctqIWH33foqi9oUHrrAhaeTC/rbXaiZk6st5i31F29DCWZ9fjYlh9bxJ9yD4aunYjHHiENDnP1sNFGBUdQKGtUc17vdtihLpQRCAx60ESmIGuYnGcaGszXfkN/b246lPoad9h8qUTlB4P18n31RGJH9lwvSKDmlHbnJD5SWP86lKs6rAxu4Df6oQwdUrglftV+E5y6hZl25VG7cUqE867Drd03N/N8GtOrRq9m16kD2iSPsvlGLH8B4z56oA==</script> <treescope-run-here><script type=\"application/octet-stream\"> const root = ( Array.from(document.getElementsByClassName( \"treescope_out_40aab1e2d5244a14a5f258e54856e491\")) .filter((elt) => !elt.dataset['step1']) )[0]; root.dataset['step1'] = 1; root.defns.insertContent( this.parentNode.querySelector('script[type=\"application/octet-stream\"]'), true ); this.parentNode.remove(); </script></treescope-run-here> </div>"
      ],
      "text/plain": [
       "<IPython.core.display.HTML object>"
      ]
     },
     "metadata": {},
     "output_type": "display_data"
    },
    {
     "data": {
      "text/html": [
       "<treescope-run-here><script type=\"application/octet-stream\"> const root = ( Array.from(document.getElementsByClassName( \"treescope_out_40aab1e2d5244a14a5f258e54856e491\")) .filter((elt) => !elt.dataset.stolen) )[0]; root.dataset.stolen = 1; this.parentNode.replaceChild(root, this); </script></treescope-run-here>"
      ],
      "text/plain": [
       "{'a': NotInThisPartition(),\n",
       " 'b': <jax.Array([0, 1, 2, 3, 4, 5, 6, 7, 8, 9], dtype=int32)>,\n",
       " 'c': [NotInThisPartition(),\n",
       "  {'value': <jax.Array([0., 0., 0., 0., 0., 0., 0.], dtype=float32)>},\n",
       "  NotInThisPartition()]}"
      ]
     },
     "execution_count": 49,
     "metadata": {},
     "output_type": "execute_result"
    }
   ],
   "source": [
    "selected"
   ]
  },
  {
   "cell_type": "code",
   "execution_count": 50,
   "metadata": {
    "execution": {
     "iopub.execute_input": "2024-08-07T01:46:30.411597Z",
     "iopub.status.busy": "2024-08-07T01:46:30.411356Z",
     "iopub.status.idle": "2024-08-07T01:46:30.417416Z",
     "shell.execute_reply": "2024-08-07T01:46:30.417182Z"
    },
    "id": "n-y-RvcSq7V-"
   },
   "outputs": [
    {
     "data": {
      "text/html": [
       "<script> (()=>{ if (customElements.get('treescope-container') === undefined) { class TreescopeContainer extends HTMLElement { constructor() { super(); this.attachShadow({mode: \"open\"}); this.defns = {}; this.state = {}; } } customElements.define(\"treescope-container\", TreescopeContainer); } if (customElements.get('treescope-run-here') === undefined) { class RunHere extends HTMLElement { constructor() { super() } connectedCallback() { const run = child => { const fn = new Function(child.textContent); child.textContent = \"\"; fn.call(this); this.remove(); }; const child = this.querySelector(\"script\"); if (child) { run(child); } else { new MutationObserver(()=>{ run(this.querySelector(\"script\")); }).observe(this, {childList: true}); } } } customElements.define(\"treescope-run-here\", RunHere); } })(); </script> <treescope-container class=\"treescope_out_5c466c7e6e4742b7ac46820bffa720c2\" ></treescope-container> <treescope-run-here><script type=\"application/octet-stream\"> const root = ( Array.from(document.getElementsByClassName( \"treescope_out_5c466c7e6e4742b7ac46820bffa720c2\")) .filter((elt) => !elt.dataset.setup) )[0]; root.dataset.setup = 1; const msg = document.createElement(\"span\"); msg.style = \"color: #cccccc; font-family: monospace;\"; msg.textContent = \"(Loading...)\"; root.state.loadingMsg = msg; root.shadowRoot.appendChild(msg); root.state.chain = new Promise((resolve, reject) => { const observer = new IntersectionObserver((entries) => { for (const entry of entries) { if (entry.isIntersecting) { resolve(); observer.disconnect(); return; } } }, {rootMargin: \"1000px\"}); window.setTimeout(() => { observer.observe(root); }, 0); }); root.state.deferring = false; const _insertNode = (node) => { for (let oldScript of node.querySelectorAll(\"script\")) { let newScript = document.createElement(\"script\"); newScript.type = oldScript.type; newScript.textContent = oldScript.textContent; oldScript.parentNode.replaceChild(newScript, oldScript); } if (root.state.loadingMsg) { root.state.loadingMsg.remove(); root.state.loadingMsg = null; } root.shadowRoot.appendChild(node); }; root.defns.insertContent = ((contentNode, compressed) => { if (compressed) { root.state.deferring = true; } if (root.state.deferring) { root.state.chain = (async () => { await root.state.chain; if (compressed) { const encoded = contentNode.textContent; const blob = new Blob([ Uint8Array.from(atob(encoded), (m) => m.codePointAt(0)) ]); const reader = blob.stream().pipeThrough( new DecompressionStream(\"deflate\") ).pipeThrough( new TextDecoderStream(\"utf-8\") ).getReader(); const parts = []; while (true) { const step = await reader.read(); if (step.done) { break; } parts.push(step.value); } const tpl = document.createElement('template'); tpl.innerHTML = parts.join(\"\"); _insertNode(tpl.content); } else { _insertNode(contentNode.content); } })(); } else { _insertNode(contentNode.content); } }); </script></treescope-run-here><div style=\"display:none\"> <script type=\"application/octet-stream\" >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</script> <treescope-run-here><script type=\"application/octet-stream\"> const root = ( Array.from(document.getElementsByClassName( \"treescope_out_5c466c7e6e4742b7ac46820bffa720c2\")) .filter((elt) => !elt.dataset['step0']) )[0]; root.dataset['step0'] = 1; root.defns.insertContent( this.parentNode.querySelector('script[type=\"application/octet-stream\"]'), true ); this.parentNode.remove(); </script></treescope-run-here> </div>"
      ],
      "text/plain": [
       "<IPython.core.display.HTML object>"
      ]
     },
     "metadata": {},
     "output_type": "display_data"
    },
    {
     "data": {
      "text/html": [
       "<div style=\"display:none\"> <script type=\"application/octet-stream\" >eNqNUstu2zAQ/JUFAwQybDPWw4/EkoE2aYFcemgPPRiGwZBrmwUtqiRtVCjy713JspP0AfQwFFec2V0uJ1f6CD7UBgumtK+MqO+gtCUy0KpgG+vWCjfoHKp1gmkqEXE6TkWWzZLZeHObxSKZpGkaT5OMLXJfiZLWJt+CS2tILp6eHB7hJ7ThHVxNZokYjebwnN+ciK0KpBHeF+y1iC2uTZh/Ez/4O+dEHS1hNACICQkhJWSEMWFCmBJmhNsBxMSL49UAVKgrLHQZ0qR3vQ1zKtl2eP7Q7Rd5cIhe2gqH7lAOd+ialqTTVYBWzkRVGS1F0La8sTJgGHrSiD1bSFt6Ygm3xfCoPBSwZP8/r9X8pFdWOmsDqcNOe065PlP4ySqMenPoalCTHamj8+8HdPUXNCiDdRHjl3usm2N2kW6c2O6x7KSHZssl9R/woQs/dow/y90b8gIJzzk4zQJLdb/TRkVnEpcNq+03uAP2KAsZByKDATSJ6bE15C9j4gbLbdjR336/R85oeKfD15Uo/GCw2b6vH6nYWb3UKyrQaLw9OIkP5OB/DuWqcTCDPvwmP4XcITle4lcddtElG99o58+125uS4OXU4d4e25d5vozpTaI3s+s1nmvNRHb7i9N+AU0wMXU=</script> <treescope-run-here><script type=\"application/octet-stream\"> const root = ( Array.from(document.getElementsByClassName( \"treescope_out_5c466c7e6e4742b7ac46820bffa720c2\")) .filter((elt) => !elt.dataset['step1']) )[0]; root.dataset['step1'] = 1; root.defns.insertContent( this.parentNode.querySelector('script[type=\"application/octet-stream\"]'), true ); this.parentNode.remove(); </script></treescope-run-here> </div>"
      ],
      "text/plain": [
       "<IPython.core.display.HTML object>"
      ]
     },
     "metadata": {},
     "output_type": "display_data"
    },
    {
     "data": {
      "text/html": [
       "<treescope-run-here><script type=\"application/octet-stream\"> const root = ( Array.from(document.getElementsByClassName( \"treescope_out_5c466c7e6e4742b7ac46820bffa720c2\")) .filter((elt) => !elt.dataset.stolen) )[0]; root.dataset.stolen = 1; this.parentNode.replaceChild(root, this); </script></treescope-run-here>"
      ],
      "text/plain": [
       "{'a': 1,\n",
       " 'b': NotInThisPartition(),\n",
       " 'c': [{'value': <jax.Array([ 0,  1,  2,  3,  4,  5,  6,  7,  8,  9, 10, 11], dtype=int32)>},\n",
       "  {'value': NotInThisPartition()},\n",
       "  {'value': 3}]}"
      ]
     },
     "execution_count": 50,
     "metadata": {},
     "output_type": "execute_result"
    }
   ],
   "source": [
    "rest"
   ]
  },
  {
   "cell_type": "markdown",
   "metadata": {
    "id": "lIj7wg-oqv1t"
   },
   "source": [
    "You can then process the two parts independently, and then recombine them into a single object using `pz.combine`:"
   ]
  },
  {
   "cell_type": "code",
   "execution_count": 51,
   "metadata": {
    "execution": {
     "iopub.execute_input": "2024-08-07T01:46:30.427084Z",
     "iopub.status.busy": "2024-08-07T01:46:30.426816Z",
     "iopub.status.idle": "2024-08-07T01:46:30.462841Z",
     "shell.execute_reply": "2024-08-07T01:46:30.462647Z"
    },
    "id": "8SoBMXJmrBgY"
   },
   "outputs": [
    {
     "data": {
      "text/html": [
       "<script> (()=>{ if (customElements.get('treescope-container') === undefined) { class TreescopeContainer extends HTMLElement { constructor() { super(); this.attachShadow({mode: \"open\"}); this.defns = {}; this.state = {}; } } customElements.define(\"treescope-container\", TreescopeContainer); } if (customElements.get('treescope-run-here') === undefined) { class RunHere extends HTMLElement { constructor() { super() } connectedCallback() { const run = child => { const fn = new Function(child.textContent); child.textContent = \"\"; fn.call(this); this.remove(); }; const child = this.querySelector(\"script\"); if (child) { run(child); } else { new MutationObserver(()=>{ run(this.querySelector(\"script\")); }).observe(this, {childList: true}); } } } customElements.define(\"treescope-run-here\", RunHere); } })(); </script> <treescope-container class=\"treescope_out_9ad9d1e4267f4bcd98fb486e07b65f86\" ></treescope-container> <treescope-run-here><script type=\"application/octet-stream\"> const root = ( Array.from(document.getElementsByClassName( \"treescope_out_9ad9d1e4267f4bcd98fb486e07b65f86\")) .filter((elt) => !elt.dataset.setup) )[0]; root.dataset.setup = 1; const msg = document.createElement(\"span\"); msg.style = \"color: #cccccc; font-family: monospace;\"; msg.textContent = \"(Loading...)\"; root.state.loadingMsg = msg; root.shadowRoot.appendChild(msg); root.state.chain = new Promise((resolve, reject) => { const observer = new IntersectionObserver((entries) => { for (const entry of entries) { if (entry.isIntersecting) { resolve(); observer.disconnect(); return; } } }, {rootMargin: \"1000px\"}); window.setTimeout(() => { observer.observe(root); }, 0); }); root.state.deferring = false; const _insertNode = (node) => { for (let oldScript of node.querySelectorAll(\"script\")) { let newScript = document.createElement(\"script\"); newScript.type = oldScript.type; newScript.textContent = oldScript.textContent; oldScript.parentNode.replaceChild(newScript, oldScript); } if (root.state.loadingMsg) { root.state.loadingMsg.remove(); root.state.loadingMsg = null; } root.shadowRoot.appendChild(node); }; root.defns.insertContent = ((contentNode, compressed) => { if (compressed) { root.state.deferring = true; } if (root.state.deferring) { root.state.chain = (async () => { await root.state.chain; if (compressed) { const encoded = contentNode.textContent; const blob = new Blob([ Uint8Array.from(atob(encoded), (m) => m.codePointAt(0)) ]); const reader = blob.stream().pipeThrough( new DecompressionStream(\"deflate\") ).pipeThrough( new TextDecoderStream(\"utf-8\") ).getReader(); const parts = []; while (true) { const step = await reader.read(); if (step.done) { break; } parts.push(step.value); } const tpl = document.createElement('template'); tpl.innerHTML = parts.join(\"\"); _insertNode(tpl.content); } else { _insertNode(contentNode.content); } })(); } else { _insertNode(contentNode.content); } }); </script></treescope-run-here><div style=\"display:none\"> <script type=\"application/octet-stream\" >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</script> <treescope-run-here><script type=\"application/octet-stream\"> const root = ( Array.from(document.getElementsByClassName( \"treescope_out_9ad9d1e4267f4bcd98fb486e07b65f86\")) .filter((elt) => !elt.dataset['step0']) )[0]; root.dataset['step0'] = 1; root.defns.insertContent( this.parentNode.querySelector('script[type=\"application/octet-stream\"]'), true ); this.parentNode.remove(); </script></treescope-run-here> </div>"
      ],
      "text/plain": [
       "<IPython.core.display.HTML object>"
      ]
     },
     "metadata": {},
     "output_type": "display_data"
    },
    {
     "data": {
      "text/html": [
       "<div style=\"display:none\"> <script type=\"application/octet-stream\" >eNq1VNtOGzEQ/ZWRK6FEwOLsheySi9RCK/HSh/ahDwghrz1OXJn11uugRhX/3vHmAvQGrdSHnOzEc2bmjM9mqswddGFtccaU6Vor1mfQuAYZGDVj2vkbhRq9R3WTp3nN07oo61Tko6ouNVaVRs2lyHKlx2w+7VrREMZ680Q6S3RR1x7v4Bv04Rm8Oi1TwfkE7qcnm8SeBdKKrpuxxyQ2P7Bh8ll8TV57L9aDqxHnRzDiowhphCxCHqGIcBphHKGMUF0fgQrrFmemCVk6PFiECTXtZ9x9kf759C+WcJrVlZKFKgvNcz7GUuYilwVWUnJd5uphCS8VBaQJSBKQIiBBQHqA5ACpARIDpAWqqIc+o/8gaayrihcaeZaXeSG4yNJxnikpy2osNf6DJLqnJA78HO7FaOvEH+UEj9hJ1+KxXzXHS/TRNtKbNkBfgIm2tUaKYFxz4mTAcNwRR9yyuXRNR1nCLzBcqg5mcMVe7ukjYC+/+8fJz271erKZTDnpnQs0V1iaLqEpP1D43ikcDCewnZ7kb5O26cmXFfr1R7Qog/MDluw3dBOP2Z6qvVjcYrOlruJjImkzAS+24bttxs/tzi05hoi7GgltGRt1vjRWDXZJiYxZ/bzBr3BIVcheMLAYwBCZXnUD04cLSCw2i7CkXw8Ph/S/EPM2h487UfjWYnx8s76kZjv2lbmmBpHTuZWXeEE+/+1SXkWfMziEH+ibMPFI74XETyYsB/tqiTa+2/XulRLh4dTjrbvrb+Z+v6YnhZ7sbhjd3NuUjPwLD38HxUnM1A==</script> <treescope-run-here><script type=\"application/octet-stream\"> const root = ( Array.from(document.getElementsByClassName( \"treescope_out_9ad9d1e4267f4bcd98fb486e07b65f86\")) .filter((elt) => !elt.dataset['step1']) )[0]; root.dataset['step1'] = 1; root.defns.insertContent( this.parentNode.querySelector('script[type=\"application/octet-stream\"]'), true ); this.parentNode.remove(); </script></treescope-run-here> </div>"
      ],
      "text/plain": [
       "<IPython.core.display.HTML object>"
      ]
     },
     "metadata": {},
     "output_type": "display_data"
    },
    {
     "data": {
      "text/html": [
       "<treescope-run-here><script type=\"application/octet-stream\"> const root = ( Array.from(document.getElementsByClassName( \"treescope_out_9ad9d1e4267f4bcd98fb486e07b65f86\")) .filter((elt) => !elt.dataset.stolen) )[0]; root.dataset.stolen = 1; this.parentNode.replaceChild(root, this); </script></treescope-run-here>"
      ],
      "text/plain": [
       "{'a': 1,\n",
       " 'b': <jax.Array([100, 101, 102, 103, 104, 105, 106, 107, 108, 109], dtype=int32)>,\n",
       " 'c': [{'value': <jax.Array([ 0,  1,  2,  3,  4,  5,  6,  7,  8,  9, 10, 11], dtype=int32)>},\n",
       "  {'value': <jax.Array([100., 100., 100., 100., 100., 100., 100.], dtype=float32)>},\n",
       "  {'value': 3}]}"
      ]
     },
     "execution_count": 51,
     "metadata": {},
     "output_type": "execute_result"
    }
   ],
   "source": [
    "pz.combine(\n",
    "    jax.tree_util.tree_map(lambda x: x + 100, selected),\n",
    "    rest,\n",
    ")"
   ]
  },
  {
   "cell_type": "markdown",
   "metadata": {
    "id": "69K7pItirIuA"
   },
   "source": [
    "Partitioning and combining are inspired by `equinox.partition` and `equinox.combine`. If you're already familiar with those, the main differences are:\n",
    "- You generally don't need to use `partition` and `combine` when running JAX transformations like `jax.jit`. By convention, Penzai models store all of their static metadata in `dataclasses.field(metadata={\"pytree_node\": False})` fields which are not part of the PyTree traversal, which means partitioning isn't as strictly necessary as it is in equinox workflows. Instead, partitioning is primarily useful if you want to apply different logic to two sets of leaves, e.g. taking a gradient only with respect to a specific subset of parameters, or defining different shardings for different array subsets.\n",
    "- Penzai uses a specific sentinel `NotInThisPartition()` to identify removed nodes, rather than `None`.\n",
    "- Penzai partitions are built to support manipulation at the subtree level, rather than at the leaf level. It's OK to build and combine partitions even when neither partition is a strict PyTree prefix of the other, as long as the overlapping parts don't conflict.\n",
    "- Penzai partitions are always created with selectors, rather than being built by a standalone function.\n"
   ]
  },
  {
   "cell_type": "markdown",
   "metadata": {
    "id": "bfYZoC-ANf1Z"
   },
   "source": [
    "## Modifying selected values\n",
    "\n",
    "An important feature of selections is that they allow you to perform detailed modifications to (copies of) large trees. Selections expose a number of methods for this purpose."
   ]
  },
  {
   "cell_type": "markdown",
   "metadata": {
    "id": "Y7lQebLlwpRJ"
   },
   "source": [
    "### Replacing selected values\n",
    "The simplest modification you can make is to replace each selected subtree with another subtree or value:"
   ]
  },
  {
   "cell_type": "code",
   "execution_count": 52,
   "metadata": {
    "execution": {
     "iopub.execute_input": "2024-08-07T01:46:30.469019Z",
     "iopub.status.busy": "2024-08-07T01:46:30.468787Z",
     "iopub.status.idle": "2024-08-07T01:46:30.473073Z",
     "shell.execute_reply": "2024-08-07T01:46:30.472888Z"
    },
    "id": "Ew7gWKgMNg0h"
   },
   "outputs": [
    {
     "data": {
      "text/html": [
       "<script> (()=>{ if (customElements.get('treescope-container') === undefined) { class TreescopeContainer extends HTMLElement { constructor() { super(); this.attachShadow({mode: \"open\"}); this.defns = {}; this.state = {}; } } customElements.define(\"treescope-container\", TreescopeContainer); } if (customElements.get('treescope-run-here') === undefined) { class RunHere extends HTMLElement { constructor() { super() } connectedCallback() { const run = child => { const fn = new Function(child.textContent); child.textContent = \"\"; fn.call(this); this.remove(); }; const child = this.querySelector(\"script\"); if (child) { run(child); } else { new MutationObserver(()=>{ run(this.querySelector(\"script\")); }).observe(this, {childList: true}); } } } customElements.define(\"treescope-run-here\", RunHere); } })(); </script> <treescope-container class=\"treescope_out_b952363b355640aaa61a81c59f47e993\" ></treescope-container> <treescope-run-here><script type=\"application/octet-stream\"> const root = ( Array.from(document.getElementsByClassName( \"treescope_out_b952363b355640aaa61a81c59f47e993\")) .filter((elt) => !elt.dataset.setup) )[0]; root.dataset.setup = 1; const msg = document.createElement(\"span\"); msg.style = \"color: #cccccc; font-family: monospace;\"; msg.textContent = \"(Loading...)\"; root.state.loadingMsg = msg; root.shadowRoot.appendChild(msg); root.state.chain = new Promise((resolve, reject) => { const observer = new IntersectionObserver((entries) => { for (const entry of entries) { if (entry.isIntersecting) { resolve(); observer.disconnect(); return; } } }, {rootMargin: \"1000px\"}); window.setTimeout(() => { observer.observe(root); }, 0); }); root.state.deferring = false; const _insertNode = (node) => { for (let oldScript of node.querySelectorAll(\"script\")) { let newScript = document.createElement(\"script\"); newScript.type = oldScript.type; newScript.textContent = oldScript.textContent; oldScript.parentNode.replaceChild(newScript, oldScript); } if (root.state.loadingMsg) { root.state.loadingMsg.remove(); root.state.loadingMsg = null; } root.shadowRoot.appendChild(node); }; root.defns.insertContent = ((contentNode, compressed) => { if (compressed) { root.state.deferring = true; } if (root.state.deferring) { root.state.chain = (async () => { await root.state.chain; if (compressed) { const encoded = contentNode.textContent; const blob = new Blob([ Uint8Array.from(atob(encoded), (m) => m.codePointAt(0)) ]); const reader = blob.stream().pipeThrough( new DecompressionStream(\"deflate\") ).pipeThrough( new TextDecoderStream(\"utf-8\") ).getReader(); const parts = []; while (true) { const step = await reader.read(); if (step.done) { break; } parts.push(step.value); } const tpl = document.createElement('template'); tpl.innerHTML = parts.join(\"\"); _insertNode(tpl.content); } else { _insertNode(contentNode.content); } })(); } else { _insertNode(contentNode.content); } }); </script></treescope-run-here><div style=\"display:none\"> <script type=\"application/octet-stream\" >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</script> <treescope-run-here><script type=\"application/octet-stream\"> const root = ( Array.from(document.getElementsByClassName( \"treescope_out_b952363b355640aaa61a81c59f47e993\")) .filter((elt) => !elt.dataset['step0']) )[0]; root.dataset['step0'] = 1; root.defns.insertContent( this.parentNode.querySelector('script[type=\"application/octet-stream\"]'), true ); this.parentNode.remove(); </script></treescope-run-here> </div>"
      ],
      "text/plain": [
       "<IPython.core.display.HTML object>"
      ]
     },
     "metadata": {},
     "output_type": "display_data"
    },
    {
     "data": {
      "text/html": [
       "<treescope-run-here><script type=\"application/octet-stream\"> const root = ( Array.from(document.getElementsByClassName( \"treescope_out_b952363b355640aaa61a81c59f47e993\")) .filter((elt) => !elt.dataset.stolen) )[0]; root.dataset.stolen = 1; this.parentNode.replaceChild(root, this); </script></treescope-run-here>"
      ],
      "text/plain": [
       "{'a': 1,\n",
       " 'b': 'hello world!',\n",
       " 'c': [{'value': 'hello world!'}, {'value': 'hello world!'}, {'value': 3}]}"
      ]
     },
     "execution_count": 52,
     "metadata": {},
     "output_type": "execute_result"
    }
   ],
   "source": [
    "pz.select(my_nested_object).at_instances_of(jax.Array).set(\"hello world!\")"
   ]
  },
  {
   "cell_type": "markdown",
   "metadata": {
    "id": "HduHi3ifw8qn"
   },
   "source": [
    "You can optionally provide different values for each selected node:"
   ]
  },
  {
   "cell_type": "code",
   "execution_count": 53,
   "metadata": {
    "execution": {
     "iopub.execute_input": "2024-08-07T01:46:30.479013Z",
     "iopub.status.busy": "2024-08-07T01:46:30.478708Z",
     "iopub.status.idle": "2024-08-07T01:46:30.483141Z",
     "shell.execute_reply": "2024-08-07T01:46:30.483258Z"
    },
    "id": "rDlkeqI3w1-C"
   },
   "outputs": [
    {
     "data": {
      "text/html": [
       "<script> (()=>{ if (customElements.get('treescope-container') === undefined) { class TreescopeContainer extends HTMLElement { constructor() { super(); this.attachShadow({mode: \"open\"}); this.defns = {}; this.state = {}; } } customElements.define(\"treescope-container\", TreescopeContainer); } if (customElements.get('treescope-run-here') === undefined) { class RunHere extends HTMLElement { constructor() { super() } connectedCallback() { const run = child => { const fn = new Function(child.textContent); child.textContent = \"\"; fn.call(this); this.remove(); }; const child = this.querySelector(\"script\"); if (child) { run(child); } else { new MutationObserver(()=>{ run(this.querySelector(\"script\")); }).observe(this, {childList: true}); } } } customElements.define(\"treescope-run-here\", RunHere); } })(); </script> <treescope-container class=\"treescope_out_eb3a374deaad479d81e9dcdb5b39363c\" ></treescope-container> <treescope-run-here><script type=\"application/octet-stream\"> const root = ( Array.from(document.getElementsByClassName( \"treescope_out_eb3a374deaad479d81e9dcdb5b39363c\")) .filter((elt) => !elt.dataset.setup) )[0]; root.dataset.setup = 1; const msg = document.createElement(\"span\"); msg.style = \"color: #cccccc; font-family: monospace;\"; msg.textContent = \"(Loading...)\"; root.state.loadingMsg = msg; root.shadowRoot.appendChild(msg); root.state.chain = new Promise((resolve, reject) => { const observer = new IntersectionObserver((entries) => { for (const entry of entries) { if (entry.isIntersecting) { resolve(); observer.disconnect(); return; } } }, {rootMargin: \"1000px\"}); window.setTimeout(() => { observer.observe(root); }, 0); }); root.state.deferring = false; const _insertNode = (node) => { for (let oldScript of node.querySelectorAll(\"script\")) { let newScript = document.createElement(\"script\"); newScript.type = oldScript.type; newScript.textContent = oldScript.textContent; oldScript.parentNode.replaceChild(newScript, oldScript); } if (root.state.loadingMsg) { root.state.loadingMsg.remove(); root.state.loadingMsg = null; } root.shadowRoot.appendChild(node); }; root.defns.insertContent = ((contentNode, compressed) => { if (compressed) { root.state.deferring = true; } if (root.state.deferring) { root.state.chain = (async () => { await root.state.chain; if (compressed) { const encoded = contentNode.textContent; const blob = new Blob([ Uint8Array.from(atob(encoded), (m) => m.codePointAt(0)) ]); const reader = blob.stream().pipeThrough( new DecompressionStream(\"deflate\") ).pipeThrough( new TextDecoderStream(\"utf-8\") ).getReader(); const parts = []; while (true) { const step = await reader.read(); if (step.done) { break; } parts.push(step.value); } const tpl = document.createElement('template'); tpl.innerHTML = parts.join(\"\"); _insertNode(tpl.content); } else { _insertNode(contentNode.content); } })(); } else { _insertNode(contentNode.content); } }); </script></treescope-run-here><div style=\"display:none\"> <script type=\"application/octet-stream\" >eNrtWI1TGskS/1cmpOqAp6yAghGVegvyZYJGMdGYS/mG3dndkd2ZdXYWxCv/99czCwiKmlxM7nJ1WOXCbPd0T3/8unt2Ijn2SdWQgpDI4iG5EJxL9AcKeUQl5ayCBPGxpEOyjRzOZM7BAfXHFRRwxqMQW7A+8qgkOf2jgkIBKz6NZE5vnZPjEFYZZ7Dcx9bAFTxmds7iPheVhHUbTX71fSCA/agtvQpyqAQyJgmT2yjEtk2Zm/OJIyuoaHlKCCM5j1DXg5WCUVLbMIkp6Dxjm3zJDWlE+9SnEjTHseQz2hxlUlAWUSsX0RuSvJ2oe7uzlphnZ2aenIgZyBSwFlmChhKp8+2mcRj61MLKYmvckkSdXhAcpKuZTHa3CgYFeZFENnFYhHaR9GhkuEQeg7UPuE0yWcPjkTT0ezgakegiJEwd2bTUrorp85dlb9qY2T6B1yz2/e1EggFq9jhnsJoZcTHIonkd+CksqVcLy5JaajEkwuEiwMwiBuOjTFb7FwRkHrxBuYRpB60Xs7APdVDmntaGT5grPbS7i/KK5EnVBZGxYGB3RPyI3CnmxUxpdn/ryKOOVPppAvXlFv4ekZCBqGI2HxmCXMUkkiajgXZXU+CAZBKbZNUe2w8EhXHkJWbcXnLGqYjd5BhPnPLrdVBaJI6U3HX9JCsvdOZAtIZqL7VCfLmKyBACfOJJpZ3+bQzIWBk9JVJKoQmxYfk4it5Bck72zaRme14EEIapqfDbLNgTwl/HeHVnbVkC2HSI9Ia7qUX4SCGJ+3BScr2byqcQZ6AMHJsB3VNhv/ysGcUzPWUK0i4BLI0YFywO+kToSNEA8jq/9aZQKoP+E4JIJbc7R4DXC6VCSRE43LdxH+QxUOQRxLtFi2QXiYpAbdMo9PF4imz3CVEV+bhP/EqlTyBpyJwGlv5sL5WXoFuuoOBtgoL57TtZlGnM6/tcweSjMj0+JOKhZBuLQUSwC75iD7krjMvMvSUPR5mq3rO61A6ap2J5xBoQO5tF/8ne6aBYlzNN6Rc01DBdQenfi6W+lf4r1VtkelTJ8k9QUvlRCY5FpBwYcihWRCyRS6OXE6tTQQvK6aSLHovxl5F6dzxJruVDKQaNLhwqInnB2YUK/yWp9VQqGcWSyqalrkLfrX7i8fsqqlMFWLjQXiRq6IS+/U5pAGnhuB9LCXV9GQDdvV4WtCmUukcFhoSebTnx76SwYafutXzpLoaooNhHvXHQ536EDmOpzmujesIJz3AMiZEbkf4A2jfNHgUA6B7AMDRXTAI7xRGxZ03fa5JXf9sPwzzh1l1Z3tgiwf1TJvmx5BTL4e6O0xjh6MKChg0MO+PHjlwoJVOcfkrmPZ5FkfOmR0MsMrmcjSXOYQaO1XU/O7+shKhmRmA2jWa9LSpEiIDFoFPN8Vh+21FmGoBjKLFfLWqiRaJXNAi5kJg92Lsv+ICwC7VyB0bPW3eObc6eUzffGqo1AMXsCwsaS1sQNlF1sXWHPRcJXwhd51JnUkgXUtXCvpWB+QKa20J4rfshI5JY8c/0/WGa9LmwAXcTTWwu4exKi3njRR4WoMoICwYpdTGF7KmVHQdbhfUlhCG0jX/MxigxmZoULk2OP1nK5Q0NmHezWkVPWljkXIFtCg7JFNZLNnFXEYdYdQnKQ3qWLW81id0QxAIS6CU0sd8DVR5A5ouZdMGZ08PcGiNPR6Tv4xDA5/kG7tvR+XEJSdumZWgicg1Zaj9K8xJ6LBPxgkOtmjPQK1MIPDYcwQOYXaw4UHOHwuzIGGIfBpxMNmtEHCYbjeRqQlFPIyknajr5yoKSSqMsys7mwcgjMATDtEVGqN7r9dRpempNjYD6JQxYcGSL9MbMyvzvv5MiZqni8CcLWlKKlCRlRxiC/cnaaHL/sJGH7IyEVUGx8DMKXSvq/dqIO05xuw/4Xd5YtfNbra5r1kz96RyZJtffascj+N9ummbDfOpTC0zTHfC3dqdRq48+mebJp/q+2e3U6mbTve6033kyqnUpcdebe2fFd53yp2EvjOn7bumksH/WOf7YHZ52b+T7cbNZXzl1Bye0tpf36N5RvN+wW5f5dn/NGXbs8Opt2bs6pfQo7rKW13Y+SPNDuXYgNsxmhw0aZetDHLOV49KVFQ1GQ6fpr11duw3+xu3vj1pvCm1zjZnHpXdC7BeOV9yb/LGdN/edgnuwWR+1Lotuno/j483NoFEoj9pnW4euG5KTwXiDdPo3JasvDlsSm+5R52C0h6NxdBR3OmenjebIfH8Udj7ZH9bWVtzNk82zdZl33r6/Mocl2POdebBpdkdm4N4c91bi8x5pnF0XnbJ1c7Bx3B6X4pr59qZ2GTbDddo+qjfy5/H7jd4mc2rvGu1mNzDpyptho+ixgre50v84OrsctcVwr/Whzi6dRsOVK4fWue9vlrbq+6PaG29ro9tt9dZb56YbdEqXtaMtedIi7a1GrdZpre+5G8drn6xx32yBTz++XTOPWtgk3bpvtm8ah+65dMu19+7hYWevNqBHJdKsndVrTYvmQ0/wkEFshOeNvcJNYdBz6o70xm9Z28bNqO3kD4JW46Bcs82rjx9DLKPeeWDbmG4VnZutjQ/08qocBqJ8yD/Ve1S0guF+a7132ltvNopW7cg5WWn7PGxtNKNRCbtX5Tf0nPQO/PCU1dodYncFiU+vWvWgcNoUg17vulQsn55GIxM0yiJ9ASQzaR3WaYXu/4N/s+zHNg+hZt2lpL62MgzjCYrVJGe/wF5PXw94+h5FtxVJxwN7Q3gwC2WSxmPxlgtS8ISr9AWySWOi1iKAB7WF6rRUe4JHmErE8JC6WHJhwM5hn2NhGyNBJTmBoSRztxccdrLX3VUKlNRMaq4NU5coIOWEBgT6tcz0lu0BnyAB9FQPWG9XUTGfz+vKCeALRTSjB4rlcud6rdSdcmqUmiKYundKodeoiakPwCY5UsSvNLJBtWQx9gGNKdiMYFu1iivztptcCD1zFaTazuld0OKdxP06n6ruJMVsh7IwnlSalC5ffX6dWrrJpNLBy6TKgRKaufrHztpks3kFHrSXqafe33s5f22Uqv72+rq4uY2TB9gACKsVtIQhuYhKVQsTotUFmsXWIFVFE6qHRNO6vahV+q65TiPO6ipYdtPfmC36Ii2bRrPOfzf1OY3TX1JI17Xd1NxQUEG/XcVcbmuC5CsMdffHFyigOkYAgzz4PtG5Oj3c0sd3OaL/vCMWGSZ9QKAb0gXmX8VB/ecc1P87Och6ykELOf2iOPB5GQ78OJ9Yz/nE+m6fvBie/Tg0fhqFf6j1P+efdwDQ/F18sCxT9IT0PXBWWGB+CqhW/zZglrjlc1ofPv1VPpwRvyjIJY/bX6wW/LTI/5MV4Z+JNYWvsHjhn401xV8UawrfgjWFf7Hmr4j8f7FmzuLFr7B48Z+ANdN5ef2Xw5Tit2BK8adgyq9kvJ8Q38seX341U/3oAfPPxtOMw6bD6v8BE5zCsQ==</script> <treescope-run-here><script type=\"application/octet-stream\"> const root = ( Array.from(document.getElementsByClassName( \"treescope_out_eb3a374deaad479d81e9dcdb5b39363c\")) .filter((elt) => !elt.dataset['step0']) )[0]; root.dataset['step0'] = 1; root.defns.insertContent( this.parentNode.querySelector('script[type=\"application/octet-stream\"]'), true ); this.parentNode.remove(); </script></treescope-run-here> </div>"
      ],
      "text/plain": [
       "<IPython.core.display.HTML object>"
      ]
     },
     "metadata": {},
     "output_type": "display_data"
    },
    {
     "data": {
      "text/html": [
       "<treescope-run-here><script type=\"application/octet-stream\"> const root = ( Array.from(document.getElementsByClassName( \"treescope_out_eb3a374deaad479d81e9dcdb5b39363c\")) .filter((elt) => !elt.dataset.stolen) )[0]; root.dataset.stolen = 1; this.parentNode.replaceChild(root, this); </script></treescope-run-here>"
      ],
      "text/plain": [
       "{'a': 1,\n",
       " 'b': 'replacement 0',\n",
       " 'c': [{'value': 'replacement 1'}, {'value': 'replacement 2'}, {'value': 3}]}"
      ]
     },
     "execution_count": 53,
     "metadata": {},
     "output_type": "execute_result"
    }
   ],
   "source": [
    "pz.select(my_nested_object).at_instances_of(jax.Array).set_sequence([f\"replacement {i}\" for i in range(3)])"
   ]
  },
  {
   "cell_type": "markdown",
   "metadata": {
    "id": "81cktrxfxGcm"
   },
   "source": [
    "Or provide a mapping based on the selected keypaths:"
   ]
  },
  {
   "cell_type": "code",
   "execution_count": 54,
   "metadata": {
    "execution": {
     "iopub.execute_input": "2024-08-07T01:46:30.489395Z",
     "iopub.status.busy": "2024-08-07T01:46:30.489103Z",
     "iopub.status.idle": "2024-08-07T01:46:30.493485Z",
     "shell.execute_reply": "2024-08-07T01:46:30.493273Z"
    },
    "id": "3u5yEQ1RxCsF"
   },
   "outputs": [
    {
     "data": {
      "text/html": [
       "<script> (()=>{ if (customElements.get('treescope-container') === undefined) { class TreescopeContainer extends HTMLElement { constructor() { super(); this.attachShadow({mode: \"open\"}); this.defns = {}; this.state = {}; } } customElements.define(\"treescope-container\", TreescopeContainer); } if (customElements.get('treescope-run-here') === undefined) { class RunHere extends HTMLElement { constructor() { super() } connectedCallback() { const run = child => { const fn = new Function(child.textContent); child.textContent = \"\"; fn.call(this); this.remove(); }; const child = this.querySelector(\"script\"); if (child) { run(child); } else { new MutationObserver(()=>{ run(this.querySelector(\"script\")); }).observe(this, {childList: true}); } } } customElements.define(\"treescope-run-here\", RunHere); } })(); </script> <treescope-container class=\"treescope_out_a846e1e3d7e540e5af893eb0fd21ea27\" ></treescope-container> <treescope-run-here><script type=\"application/octet-stream\"> const root = ( Array.from(document.getElementsByClassName( \"treescope_out_a846e1e3d7e540e5af893eb0fd21ea27\")) .filter((elt) => !elt.dataset.setup) )[0]; root.dataset.setup = 1; const msg = document.createElement(\"span\"); msg.style = \"color: #cccccc; font-family: monospace;\"; msg.textContent = \"(Loading...)\"; root.state.loadingMsg = msg; root.shadowRoot.appendChild(msg); root.state.chain = new Promise((resolve, reject) => { const observer = new IntersectionObserver((entries) => { for (const entry of entries) { if (entry.isIntersecting) { resolve(); observer.disconnect(); return; } } }, {rootMargin: \"1000px\"}); window.setTimeout(() => { observer.observe(root); }, 0); }); root.state.deferring = false; const _insertNode = (node) => { for (let oldScript of node.querySelectorAll(\"script\")) { let newScript = document.createElement(\"script\"); newScript.type = oldScript.type; newScript.textContent = oldScript.textContent; oldScript.parentNode.replaceChild(newScript, oldScript); } if (root.state.loadingMsg) { root.state.loadingMsg.remove(); root.state.loadingMsg = null; } root.shadowRoot.appendChild(node); }; root.defns.insertContent = ((contentNode, compressed) => { if (compressed) { root.state.deferring = true; } if (root.state.deferring) { root.state.chain = (async () => { await root.state.chain; if (compressed) { const encoded = contentNode.textContent; const blob = new Blob([ Uint8Array.from(atob(encoded), (m) => m.codePointAt(0)) ]); const reader = blob.stream().pipeThrough( new DecompressionStream(\"deflate\") ).pipeThrough( new TextDecoderStream(\"utf-8\") ).getReader(); const parts = []; while (true) { const step = await reader.read(); if (step.done) { break; } parts.push(step.value); } const tpl = document.createElement('template'); tpl.innerHTML = parts.join(\"\"); _insertNode(tpl.content); } else { _insertNode(contentNode.content); } })(); } else { _insertNode(contentNode.content); } }); </script></treescope-run-here><div style=\"display:none\"> <script type=\"application/octet-stream\" >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</script> <treescope-run-here><script type=\"application/octet-stream\"> const root = ( Array.from(document.getElementsByClassName( \"treescope_out_a846e1e3d7e540e5af893eb0fd21ea27\")) .filter((elt) => !elt.dataset['step0']) )[0]; root.dataset['step0'] = 1; root.defns.insertContent( this.parentNode.querySelector('script[type=\"application/octet-stream\"]'), true ); this.parentNode.remove(); </script></treescope-run-here> </div>"
      ],
      "text/plain": [
       "<IPython.core.display.HTML object>"
      ]
     },
     "metadata": {},
     "output_type": "display_data"
    },
    {
     "data": {
      "text/html": [
       "<treescope-run-here><script type=\"application/octet-stream\"> const root = ( Array.from(document.getElementsByClassName( \"treescope_out_a846e1e3d7e540e5af893eb0fd21ea27\")) .filter((elt) => !elt.dataset.stolen) )[0]; root.dataset.stolen = 1; this.parentNode.replaceChild(root, this); </script></treescope-run-here>"
      ],
      "text/plain": [
       "{'a': 1, 'b': 'A', 'c': [{'value': 'B'}, {'value': 'C'}, {'value': 3}]}"
      ]
     },
     "execution_count": 54,
     "metadata": {},
     "output_type": "execute_result"
    }
   ],
   "source": [
    "pz.select(my_nested_object).at_instances_of(jax.Array).set_by_path({\n",
    "    (jax.tree_util.DictKey(key='b'),): \"A\",\n",
    "    (jax.tree_util.DictKey(key='c'), jax.tree_util.SequenceKey(idx=0), jax.tree_util.DictKey(key='value')): \"B\",\n",
    "    (jax.tree_util.DictKey(key='c'), jax.tree_util.SequenceKey(idx=1), jax.tree_util.DictKey(key='value')): \"C\",\n",
    "})"
   ]
  },
  {
   "cell_type": "markdown",
   "metadata": {
    "id": "wIWQ8ChOeMQe"
   },
   "source": [
    "`set_by_path` accepts the same input as is produced by `get_by_path`, which can be convenient for modifying some values and then putting them back, or for taking gradients with respect to only a subset of values:"
   ]
  },
  {
   "cell_type": "code",
   "execution_count": 55,
   "metadata": {
    "execution": {
     "iopub.execute_input": "2024-08-07T01:46:30.499504Z",
     "iopub.status.busy": "2024-08-07T01:46:30.499179Z",
     "iopub.status.idle": "2024-08-07T01:46:30.503668Z",
     "shell.execute_reply": "2024-08-07T01:46:30.503496Z"
    },
    "id": "A4FdZZuHeWYO"
   },
   "outputs": [
    {
     "data": {
      "text/html": [
       "<script> (()=>{ if (customElements.get('treescope-container') === undefined) { class TreescopeContainer extends HTMLElement { constructor() { super(); this.attachShadow({mode: \"open\"}); this.defns = {}; this.state = {}; } } customElements.define(\"treescope-container\", TreescopeContainer); } if (customElements.get('treescope-run-here') === undefined) { class RunHere extends HTMLElement { constructor() { super() } connectedCallback() { const run = child => { const fn = new Function(child.textContent); child.textContent = \"\"; fn.call(this); this.remove(); }; const child = this.querySelector(\"script\"); if (child) { run(child); } else { new MutationObserver(()=>{ run(this.querySelector(\"script\")); }).observe(this, {childList: true}); } } } customElements.define(\"treescope-run-here\", RunHere); } })(); </script> <treescope-container class=\"treescope_out_98c8aee0eaec4cd9a0bb0cfb0a36577a\" ></treescope-container> <treescope-run-here><script type=\"application/octet-stream\"> const root = ( Array.from(document.getElementsByClassName( \"treescope_out_98c8aee0eaec4cd9a0bb0cfb0a36577a\")) .filter((elt) => !elt.dataset.setup) )[0]; root.dataset.setup = 1; const msg = document.createElement(\"span\"); msg.style = \"color: #cccccc; font-family: monospace;\"; msg.textContent = \"(Loading...)\"; root.state.loadingMsg = msg; root.shadowRoot.appendChild(msg); root.state.chain = new Promise((resolve, reject) => { const observer = new IntersectionObserver((entries) => { for (const entry of entries) { if (entry.isIntersecting) { resolve(); observer.disconnect(); return; } } }, {rootMargin: \"1000px\"}); window.setTimeout(() => { observer.observe(root); }, 0); }); root.state.deferring = false; const _insertNode = (node) => { for (let oldScript of node.querySelectorAll(\"script\")) { let newScript = document.createElement(\"script\"); newScript.type = oldScript.type; newScript.textContent = oldScript.textContent; oldScript.parentNode.replaceChild(newScript, oldScript); } if (root.state.loadingMsg) { root.state.loadingMsg.remove(); root.state.loadingMsg = null; } root.shadowRoot.appendChild(node); }; root.defns.insertContent = ((contentNode, compressed) => { if (compressed) { root.state.deferring = true; } if (root.state.deferring) { root.state.chain = (async () => { await root.state.chain; if (compressed) { const encoded = contentNode.textContent; const blob = new Blob([ Uint8Array.from(atob(encoded), (m) => m.codePointAt(0)) ]); const reader = blob.stream().pipeThrough( new DecompressionStream(\"deflate\") ).pipeThrough( new TextDecoderStream(\"utf-8\") ).getReader(); const parts = []; while (true) { const step = await reader.read(); if (step.done) { break; } parts.push(step.value); } const tpl = document.createElement('template'); tpl.innerHTML = parts.join(\"\"); _insertNode(tpl.content); } else { _insertNode(contentNode.content); } })(); } else { _insertNode(contentNode.content); } }); </script></treescope-run-here><div style=\"display:none\"> <script type=\"application/octet-stream\" >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</script> <treescope-run-here><script type=\"application/octet-stream\"> const root = ( Array.from(document.getElementsByClassName( \"treescope_out_98c8aee0eaec4cd9a0bb0cfb0a36577a\")) .filter((elt) => !elt.dataset['step0']) )[0]; root.dataset['step0'] = 1; root.defns.insertContent( this.parentNode.querySelector('script[type=\"application/octet-stream\"]'), true ); this.parentNode.remove(); </script></treescope-run-here> </div>"
      ],
      "text/plain": [
       "<IPython.core.display.HTML object>"
      ]
     },
     "metadata": {},
     "output_type": "display_data"
    },
    {
     "data": {
      "text/html": [
       "<treescope-run-here><script type=\"application/octet-stream\"> const root = ( Array.from(document.getElementsByClassName( \"treescope_out_98c8aee0eaec4cd9a0bb0cfb0a36577a\")) .filter((elt) => !elt.dataset.stolen) )[0]; root.dataset.stolen = 1; this.parentNode.replaceChild(root, this); </script></treescope-run-here>"
      ],
      "text/plain": [
       "{'a': 1,\n",
       " 'b': 'A JAX array: [0 1 2 3 4 5 6 7 8 9]',\n",
       " 'c': [{'value': 'A JAX array: [ 0  1  2  3  4  5  6  7  8  9 10 11]'},\n",
       "  {'value': 'A JAX array: [0. 0. 0. 0. 0. 0. 0.]'},\n",
       "  {'value': 3}]}"
      ]
     },
     "execution_count": 55,
     "metadata": {},
     "output_type": "execute_result"
    }
   ],
   "source": [
    "selection = pz.select(my_nested_object).at_instances_of(jax.Array)\n",
    "selection.set_by_path(\n",
    "    {key: f\"A JAX array: {value}\" for key, value in selection.get_by_path().items()}\n",
    ")"
   ]
  },
  {
   "cell_type": "code",
   "execution_count": 56,
   "metadata": {
    "execution": {
     "iopub.execute_input": "2024-08-07T01:46:30.513735Z",
     "iopub.status.busy": "2024-08-07T01:46:30.513475Z",
     "iopub.status.idle": "2024-08-07T01:46:30.994679Z",
     "shell.execute_reply": "2024-08-07T01:46:30.994808Z"
    },
    "id": "YEpc6lCxel42"
   },
   "outputs": [
    {
     "data": {
      "text/html": [
       "<script> (()=>{ if (customElements.get('treescope-container') === undefined) { class TreescopeContainer extends HTMLElement { constructor() { super(); this.attachShadow({mode: \"open\"}); this.defns = {}; this.state = {}; } } customElements.define(\"treescope-container\", TreescopeContainer); } if (customElements.get('treescope-run-here') === undefined) { class RunHere extends HTMLElement { constructor() { super() } connectedCallback() { const run = child => { const fn = new Function(child.textContent); child.textContent = \"\"; fn.call(this); this.remove(); }; const child = this.querySelector(\"script\"); if (child) { run(child); } else { new MutationObserver(()=>{ run(this.querySelector(\"script\")); }).observe(this, {childList: true}); } } } customElements.define(\"treescope-run-here\", RunHere); } })(); </script> <treescope-container class=\"treescope_out_ffff0e29bf4040a3965125ec5d69c26a\" ></treescope-container> <treescope-run-here><script type=\"application/octet-stream\"> const root = ( Array.from(document.getElementsByClassName( \"treescope_out_ffff0e29bf4040a3965125ec5d69c26a\")) .filter((elt) => !elt.dataset.setup) )[0]; root.dataset.setup = 1; const msg = document.createElement(\"span\"); msg.style = \"color: #cccccc; font-family: monospace;\"; msg.textContent = \"(Loading...)\"; root.state.loadingMsg = msg; root.shadowRoot.appendChild(msg); root.state.chain = new Promise((resolve, reject) => { const observer = new IntersectionObserver((entries) => { for (const entry of entries) { if (entry.isIntersecting) { resolve(); observer.disconnect(); return; } } }, {rootMargin: \"1000px\"}); window.setTimeout(() => { observer.observe(root); }, 0); }); root.state.deferring = false; const _insertNode = (node) => { for (let oldScript of node.querySelectorAll(\"script\")) { let newScript = document.createElement(\"script\"); newScript.type = oldScript.type; newScript.textContent = oldScript.textContent; oldScript.parentNode.replaceChild(newScript, oldScript); } if (root.state.loadingMsg) { root.state.loadingMsg.remove(); root.state.loadingMsg = null; } root.shadowRoot.appendChild(node); }; root.defns.insertContent = ((contentNode, compressed) => { if (compressed) { root.state.deferring = true; } if (root.state.deferring) { root.state.chain = (async () => { await root.state.chain; if (compressed) { const encoded = contentNode.textContent; const blob = new Blob([ Uint8Array.from(atob(encoded), (m) => m.codePointAt(0)) ]); const reader = blob.stream().pipeThrough( new DecompressionStream(\"deflate\") ).pipeThrough( new TextDecoderStream(\"utf-8\") ).getReader(); const parts = []; while (true) { const step = await reader.read(); if (step.done) { break; } parts.push(step.value); } const tpl = document.createElement('template'); tpl.innerHTML = parts.join(\"\"); _insertNode(tpl.content); } else { _insertNode(contentNode.content); } })(); } else { _insertNode(contentNode.content); } }); </script></treescope-run-here><div style=\"display:none\"> <script type=\"application/octet-stream\" >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</script> <treescope-run-here><script type=\"application/octet-stream\"> const root = ( Array.from(document.getElementsByClassName( \"treescope_out_ffff0e29bf4040a3965125ec5d69c26a\")) .filter((elt) => !elt.dataset['step0']) )[0]; root.dataset['step0'] = 1; root.defns.insertContent( this.parentNode.querySelector('script[type=\"application/octet-stream\"]'), true ); this.parentNode.remove(); </script></treescope-run-here> </div>"
      ],
      "text/plain": [
       "<IPython.core.display.HTML object>"
      ]
     },
     "metadata": {},
     "output_type": "display_data"
    },
    {
     "data": {
      "text/html": [
       "<div style=\"display:none\"> <script type=\"application/octet-stream\" >eNq1VMtu2zAQ/BWCAQIZSRhRlm0pfgBt0gK59NAeejAMgyJXNgtGVCk6qFHk37uUZTtpU9Q59KCVVruzj+FIE6UfSeO3BqZU6aY2YntDKlsBJVpNaWndUkEJzoFaJjDIsjzjg7gcppksMy4SBZzH8TBJ4ozT2aSpRYU21JsxaQ3CRVE4eCQ/SevekLNhlog4HpOnyfUusUURaUTTTOlzEJ2dGz/+Jn6wd86JbTQnMbskJAkmDWYYTIaGhwAPAR4CPAR4xhaXRPltDdPSWOH7Se985cfYtp1yf0MGZpO30FCksSxHwwLifjqQuVAxQCpUkRayD4PySMOpa/Ew7cnXf1kqL0eqD3JUSCHTkcjzkstBkfezMkv5KE/evlQ4kdev0xfwDqCRtoYrt6mu1uCCWKTTtSdtASrq2mgpvLbVtZUe/FWDGPFAZ9JWDWYJtwJ/rxoyJXN6upIvCT39vJ8n/5PHxXg3mbLSWetxLr/WDcMpP6P7ySqIemPSTY/rd0ldOvu+Abf9Agakty6i7MDQMoTpAVo6sXqAqoNuwiOTyIyHu8792GX82e7WoEYQuK/BkGWo1O1aGxXtk5gMWe283m2gh1VQUCQy4IlGMH7gmkyOB8AMVCu/xrcXFz38G4S8XfB5J3Q/GAiP77f32GyPnusFNgiYxm6chDtU9l9JOQvKpuSC/AbfucwBfgkSvmq/jg7VWKlds+/dboqAY9TBg31sT+bpQNOLQi+46wU1tzJFIb+i4V87oMpz</script> <treescope-run-here><script type=\"application/octet-stream\"> const root = ( Array.from(document.getElementsByClassName( \"treescope_out_ffff0e29bf4040a3965125ec5d69c26a\")) .filter((elt) => !elt.dataset['step1']) )[0]; root.dataset['step1'] = 1; root.defns.insertContent( this.parentNode.querySelector('script[type=\"application/octet-stream\"]'), true ); this.parentNode.remove(); </script></treescope-run-here> </div>"
      ],
      "text/plain": [
       "<IPython.core.display.HTML object>"
      ]
     },
     "metadata": {},
     "output_type": "display_data"
    },
    {
     "data": {
      "text/html": [
       "<treescope-run-here><script type=\"application/octet-stream\"> const root = ( Array.from(document.getElementsByClassName( \"treescope_out_ffff0e29bf4040a3965125ec5d69c26a\")) .filter((elt) => !elt.dataset.stolen) )[0]; root.dataset.stolen = 1; this.parentNode.replaceChild(root, this); </script></treescope-run-here>"
      ],
      "text/plain": [
       "OrderedDict([((DictKey(key='b'),),\n",
       "              <jax.Array([ 0.,  2.,  4.,  6.,  8., 10., 12., 14., 16., 18.], dtype=float32)>),\n",
       "             ((DictKey(key='c'), SequenceKey(idx=0), DictKey(key='value')),\n",
       "              <jax.Array([1., 1., 1., 1., 1., 1., 1., 1., 1., 1., 1., 1.], dtype=float32)>),\n",
       "             ((DictKey(key='c'), SequenceKey(idx=1), DictKey(key='value')),\n",
       "              <jax.Array([0., 0., 0., 0., 0., 0., 0.], dtype=float32)>)])"
      ]
     },
     "execution_count": 56,
     "metadata": {},
     "output_type": "execute_result"
    }
   ],
   "source": [
    "def my_loss(obj):\n",
    "  return obj[\"a\"] + jnp.sum(obj[\"b\"]**2) + jnp.sum(obj[\"c\"][0][\"value\"])\n",
    "\n",
    "my_float_object = jax.tree_util.tree_map(lambda leaf: jnp.array(leaf, dtype=jnp.float32), my_nested_object)\n",
    "\n",
    "# Take gradients w.r.t. non-scalars only, ignoring my_float_object[\"a\"] and my_float_object[\"c\"][2][\"value\"]\n",
    "gradient_selection = pz.select(my_float_object).at_instances_of(jax.Array).where(lambda arr: arr.size > 1)\n",
    "\n",
    "jax.grad(\n",
    "    # Swap in the version of the values that JAX is taking gradients for:\n",
    "    lambda vectors_by_path: my_loss(gradient_selection.set_by_path(vectors_by_path))\n",
    ")(gradient_selection.get_by_path())"
   ]
  },
  {
   "cell_type": "markdown",
   "metadata": {
    "id": "bkZAwu42ftwC"
   },
   "source": [
    "You can also use `select_and_set_by_path` to infer the selection from the input paths instead:"
   ]
  },
  {
   "cell_type": "code",
   "execution_count": 57,
   "metadata": {
    "execution": {
     "iopub.execute_input": "2024-08-07T01:46:31.000175Z",
     "iopub.status.busy": "2024-08-07T01:46:30.999930Z",
     "iopub.status.idle": "2024-08-07T01:46:31.019375Z",
     "shell.execute_reply": "2024-08-07T01:46:31.019544Z"
    },
    "id": "73vXA1ZvfxFK"
   },
   "outputs": [
    {
     "data": {
      "text/html": [
       "<script> (()=>{ if (customElements.get('treescope-container') === undefined) { class TreescopeContainer extends HTMLElement { constructor() { super(); this.attachShadow({mode: \"open\"}); this.defns = {}; this.state = {}; } } customElements.define(\"treescope-container\", TreescopeContainer); } if (customElements.get('treescope-run-here') === undefined) { class RunHere extends HTMLElement { constructor() { super() } connectedCallback() { const run = child => { const fn = new Function(child.textContent); child.textContent = \"\"; fn.call(this); this.remove(); }; const child = this.querySelector(\"script\"); if (child) { run(child); } else { new MutationObserver(()=>{ run(this.querySelector(\"script\")); }).observe(this, {childList: true}); } } } customElements.define(\"treescope-run-here\", RunHere); } })(); </script> <treescope-container class=\"treescope_out_14b50166ab584ac38aff58428c3e2fdb\" ></treescope-container> <treescope-run-here><script type=\"application/octet-stream\"> const root = ( Array.from(document.getElementsByClassName( \"treescope_out_14b50166ab584ac38aff58428c3e2fdb\")) .filter((elt) => !elt.dataset.setup) )[0]; root.dataset.setup = 1; const msg = document.createElement(\"span\"); msg.style = \"color: #cccccc; font-family: monospace;\"; msg.textContent = \"(Loading...)\"; root.state.loadingMsg = msg; root.shadowRoot.appendChild(msg); root.state.chain = new Promise((resolve, reject) => { const observer = new IntersectionObserver((entries) => { for (const entry of entries) { if (entry.isIntersecting) { resolve(); observer.disconnect(); return; } } }, {rootMargin: \"1000px\"}); window.setTimeout(() => { observer.observe(root); }, 0); }); root.state.deferring = false; const _insertNode = (node) => { for (let oldScript of node.querySelectorAll(\"script\")) { let newScript = document.createElement(\"script\"); newScript.type = oldScript.type; newScript.textContent = oldScript.textContent; oldScript.parentNode.replaceChild(newScript, oldScript); } if (root.state.loadingMsg) { root.state.loadingMsg.remove(); root.state.loadingMsg = null; } root.shadowRoot.appendChild(node); }; root.defns.insertContent = ((contentNode, compressed) => { if (compressed) { root.state.deferring = true; } if (root.state.deferring) { root.state.chain = (async () => { await root.state.chain; if (compressed) { const encoded = contentNode.textContent; const blob = new Blob([ Uint8Array.from(atob(encoded), (m) => m.codePointAt(0)) ]); const reader = blob.stream().pipeThrough( new DecompressionStream(\"deflate\") ).pipeThrough( new TextDecoderStream(\"utf-8\") ).getReader(); const parts = []; while (true) { const step = await reader.read(); if (step.done) { break; } parts.push(step.value); } const tpl = document.createElement('template'); tpl.innerHTML = parts.join(\"\"); _insertNode(tpl.content); } else { _insertNode(contentNode.content); } })(); } else { _insertNode(contentNode.content); } }); </script></treescope-run-here><div style=\"display:none\"> <script type=\"application/octet-stream\" >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</script> <treescope-run-here><script type=\"application/octet-stream\"> const root = ( Array.from(document.getElementsByClassName( \"treescope_out_14b50166ab584ac38aff58428c3e2fdb\")) .filter((elt) => !elt.dataset['step0']) )[0]; root.dataset['step0'] = 1; root.defns.insertContent( this.parentNode.querySelector('script[type=\"application/octet-stream\"]'), true ); this.parentNode.remove(); </script></treescope-run-here> </div>"
      ],
      "text/plain": [
       "<IPython.core.display.HTML object>"
      ]
     },
     "metadata": {},
     "output_type": "display_data"
    },
    {
     "data": {
      "text/html": [
       "<div style=\"display:none\"> <script type=\"application/octet-stream\" >eNq1VE2P2jAQ/SuWV1oFLXgTCCFZPqR2t5X20kN76AEhZOwJuDJx6hjUqNr/3nEILNtuVfbQQyaZzLz5eH7JRKo9qVytYUqlqkrN6ztSmAIoUXJKc2OXEnKwFuQS0hEPRQ6DKEviPMvSUMJQRBBDlIoRhHQ2qUpeoPX1ZkwYjXC+WlnYk5+kce/IVZL2eRiOydPk9pDYoIjQvKqm9BxEZ9fajb/xH+ydtbwO5iRkXUL63sTeJN6kaCIfiHwg8oHIB6KULbpEurqEaa4Nd4N+53rtxti2mfJ4QwZmkzfQwFOI+tmQx3k4ioXIVzLKRkm+GkkBAzE8o+HStSI/7cXXf1lqEA4SyHgYpzyNRZ6l/QiSMBvF8YqHaZy8fSl/Iq9fly/gLEAlTAk9uyt6G7BeLMKq0pGmAOVlqZXgTpni1ggHrlchhm/pTJiiwixu1+AeZUWmZE4vV3KX0MvP+zz5nzwuxofJpBHWGIdzuY2qGE75Gd1PRkLQGZN2ely/TWrT2fcd2PoLaBDO2ICyE0NLH6YnaG75egtFC935RyaQGQcPrfuxzfiz3b1GjSDwWIMhy1DI+43SMjgmMeGzmnmd3UEHq6CgSKDBEYVg/MAVmTwfANNQrN0G397cdPBv4PMOwfNO6H7Q4B/f14/Y7IieqwU28JjK7KyAB1T2X0m58sqm5Ib8Bj+4zAJ+CQK+KrcJTtVYrmx17N1sioDnqIWt2Tcn83Si6UWhF9x1vJobmaKQX9HwL91tyjU=</script> <treescope-run-here><script type=\"application/octet-stream\"> const root = ( Array.from(document.getElementsByClassName( \"treescope_out_14b50166ab584ac38aff58428c3e2fdb\")) .filter((elt) => !elt.dataset['step1']) )[0]; root.dataset['step1'] = 1; root.defns.insertContent( this.parentNode.querySelector('script[type=\"application/octet-stream\"]'), true ); this.parentNode.remove(); </script></treescope-run-here> </div>"
      ],
      "text/plain": [
       "<IPython.core.display.HTML object>"
      ]
     },
     "metadata": {},
     "output_type": "display_data"
    },
    {
     "data": {
      "text/html": [
       "<treescope-run-here><script type=\"application/octet-stream\"> const root = ( Array.from(document.getElementsByClassName( \"treescope_out_14b50166ab584ac38aff58428c3e2fdb\")) .filter((elt) => !elt.dataset.stolen) )[0]; root.dataset.stolen = 1; this.parentNode.replaceChild(root, this); </script></treescope-run-here>"
      ],
      "text/plain": [
       "OrderedDict([((DictKey(key='b'),),\n",
       "              <jax.Array([ 0.,  2.,  4.,  6.,  8., 10., 12., 14., 16., 18.], dtype=float32)>),\n",
       "             ((DictKey(key='c'), SequenceKey(idx=0), DictKey(key='value')),\n",
       "              <jax.Array([1., 1., 1., 1., 1., 1., 1., 1., 1., 1., 1., 1.], dtype=float32)>),\n",
       "             ((DictKey(key='c'), SequenceKey(idx=1), DictKey(key='value')),\n",
       "              <jax.Array([0., 0., 0., 0., 0., 0., 0.], dtype=float32)>)])"
      ]
     },
     "execution_count": 57,
     "metadata": {},
     "output_type": "execute_result"
    }
   ],
   "source": [
    "def my_loss(obj):\n",
    "  return obj[\"a\"] + jnp.sum(obj[\"b\"]**2) + jnp.sum(obj[\"c\"][0][\"value\"])\n",
    "\n",
    "my_float_object = jax.tree_util.tree_map(lambda leaf: jnp.array(leaf, dtype=jnp.float32), my_nested_object)\n",
    "\n",
    "# Take gradients w.r.t. non-scalars only, ignoring my_float_object[\"a\"] and my_float_object[\"c\"][2][\"value\"]\n",
    "# No need to store the gradient selection itself, since it can be inferred from vectors_by_path.\n",
    "vectors_by_path = pz.select(my_float_object).at_instances_of(jax.Array).where(lambda arr: arr.size > 1).get_by_path()\n",
    "\n",
    "jax.grad(\n",
    "    lambda vectors_by_path: my_loss(pz.select(my_float_object).select_and_set_by_path(vectors_by_path))\n",
    ")(vectors_by_path)"
   ]
  },
  {
   "cell_type": "markdown",
   "metadata": {
    "id": "p91fKstrxqoe"
   },
   "source": [
    "### Applying functions to selected values\n",
    "\n",
    "You can use `.apply` to apply a function to every selected object, similar to `jax.tree_util.tree_map` except that it applies to the selected subtrees rather than to the leaves:"
   ]
  },
  {
   "cell_type": "code",
   "execution_count": 58,
   "metadata": {
    "execution": {
     "iopub.execute_input": "2024-08-07T01:46:31.027892Z",
     "iopub.status.busy": "2024-08-07T01:46:31.027657Z",
     "iopub.status.idle": "2024-08-07T01:46:31.110885Z",
     "shell.execute_reply": "2024-08-07T01:46:31.110654Z"
    },
    "id": "PrRQyM58xbOE"
   },
   "outputs": [
    {
     "data": {
      "text/html": [
       "<script> (()=>{ if (customElements.get('treescope-container') === undefined) { class TreescopeContainer extends HTMLElement { constructor() { super(); this.attachShadow({mode: \"open\"}); this.defns = {}; this.state = {}; } } customElements.define(\"treescope-container\", TreescopeContainer); } if (customElements.get('treescope-run-here') === undefined) { class RunHere extends HTMLElement { constructor() { super() } connectedCallback() { const run = child => { const fn = new Function(child.textContent); child.textContent = \"\"; fn.call(this); this.remove(); }; const child = this.querySelector(\"script\"); if (child) { run(child); } else { new MutationObserver(()=>{ run(this.querySelector(\"script\")); }).observe(this, {childList: true}); } } } customElements.define(\"treescope-run-here\", RunHere); } })(); </script> <treescope-container class=\"treescope_out_eedc37126a8540b4b50ead4459816c90\" ></treescope-container> <treescope-run-here><script type=\"application/octet-stream\"> const root = ( Array.from(document.getElementsByClassName( \"treescope_out_eedc37126a8540b4b50ead4459816c90\")) .filter((elt) => !elt.dataset.setup) )[0]; root.dataset.setup = 1; const msg = document.createElement(\"span\"); msg.style = \"color: #cccccc; font-family: monospace;\"; msg.textContent = \"(Loading...)\"; root.state.loadingMsg = msg; root.shadowRoot.appendChild(msg); root.state.chain = new Promise((resolve, reject) => { const observer = new IntersectionObserver((entries) => { for (const entry of entries) { if (entry.isIntersecting) { resolve(); observer.disconnect(); return; } } }, {rootMargin: \"1000px\"}); window.setTimeout(() => { observer.observe(root); }, 0); }); root.state.deferring = false; const _insertNode = (node) => { for (let oldScript of node.querySelectorAll(\"script\")) { let newScript = document.createElement(\"script\"); newScript.type = oldScript.type; newScript.textContent = oldScript.textContent; oldScript.parentNode.replaceChild(newScript, oldScript); } if (root.state.loadingMsg) { root.state.loadingMsg.remove(); root.state.loadingMsg = null; } root.shadowRoot.appendChild(node); }; root.defns.insertContent = ((contentNode, compressed) => { if (compressed) { root.state.deferring = true; } if (root.state.deferring) { root.state.chain = (async () => { await root.state.chain; if (compressed) { const encoded = contentNode.textContent; const blob = new Blob([ Uint8Array.from(atob(encoded), (m) => m.codePointAt(0)) ]); const reader = blob.stream().pipeThrough( new DecompressionStream(\"deflate\") ).pipeThrough( new TextDecoderStream(\"utf-8\") ).getReader(); const parts = []; while (true) { const step = await reader.read(); if (step.done) { break; } parts.push(step.value); } const tpl = document.createElement('template'); tpl.innerHTML = parts.join(\"\"); _insertNode(tpl.content); } else { _insertNode(contentNode.content); } })(); } else { _insertNode(contentNode.content); } }); </script></treescope-run-here><div style=\"display:none\"> <script type=\"application/octet-stream\" >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</script> <treescope-run-here><script type=\"application/octet-stream\"> const root = ( Array.from(document.getElementsByClassName( \"treescope_out_eedc37126a8540b4b50ead4459816c90\")) .filter((elt) => !elt.dataset['step0']) )[0]; root.dataset['step0'] = 1; root.defns.insertContent( this.parentNode.querySelector('script[type=\"application/octet-stream\"]'), true ); this.parentNode.remove(); </script></treescope-run-here> </div>"
      ],
      "text/plain": [
       "<IPython.core.display.HTML object>"
      ]
     },
     "metadata": {},
     "output_type": "display_data"
    },
    {
     "data": {
      "text/html": [
       "<div style=\"display:none\"> <script type=\"application/octet-stream\" >eNq1VMtu2zAQ/BWCAQIbdhRRkmUpfgBt0gK59NAeejAMgyJXNgtGVCk6qFDk37uUH4n7SloglzVX3NndGY08leqeNK7VMKNSNbXm7RWpTAWUKDmjpbErCSVYC3JVZlEhcjYSozJMknFWsCROucjFOMmjMM3ofNrUvMLo+80DYTTCeVFYuCffSZdekbM0i3gYTsjD9HJX2KGI0LxpZvQpiM7PtZt84d+CN9bytrdgYTgkLGQ+JD7kGFiKIRphiP0p8c9Sf5ux5ZBI19YwU5WLo/752k1waLfj4Qf5z6f/IEIchyORRzHPU5lAWeTARMbKfDSOBTAoH0V4LVJDEnlEFL0KvYKPZchEkkZZIrMy48BTVsZQJExykP9FL/CsnotHMqU2/K90nAVohKnhwm6riw1YbyFhVe1I14DyutZKcKdMdWmEA3fRIIbf0bkwVYNV3K7B3cqGzMiCvtzfQ0Jf7oOT4udUXU52m0kjrDEO93Ib1QS45UdMPxgJvf6E7LdH+vuifXnwdQu2/QQahDO2R4OjQit/TY/Q0vL1HVR76NYfA4HKOLjZp+/3Fb+Ou9boGAQeegSoMlTyeqO07B2KAuGrun2d3UIfu6C9SE+DIwrB+NkrMn18AYGGau02+HQw6ON/hK/bXT6dhOk7Df74tr3FYQf0Qi1xgMc0ZmsF3KDP/yjKmfc5JQPyE3yXBhbwuxDwWblN79gtKJVtDrM7pgh4vLVwZ+67N/NwlOmk0Yl2fe/mzqZo5N94+AeBws8W</script> <treescope-run-here><script type=\"application/octet-stream\"> const root = ( Array.from(document.getElementsByClassName( \"treescope_out_eedc37126a8540b4b50ead4459816c90\")) .filter((elt) => !elt.dataset['step1']) )[0]; root.dataset['step1'] = 1; root.defns.insertContent( this.parentNode.querySelector('script[type=\"application/octet-stream\"]'), true ); this.parentNode.remove(); </script></treescope-run-here> </div>"
      ],
      "text/plain": [
       "<IPython.core.display.HTML object>"
      ]
     },
     "metadata": {},
     "output_type": "display_data"
    },
    {
     "data": {
      "text/html": [
       "<treescope-run-here><script type=\"application/octet-stream\"> const root = ( Array.from(document.getElementsByClassName( \"treescope_out_eedc37126a8540b4b50ead4459816c90\")) .filter((elt) => !elt.dataset.stolen) )[0]; root.dataset.stolen = 1; this.parentNode.replaceChild(root, this); </script></treescope-run-here>"
      ],
      "text/plain": [
       "{'a': 1,\n",
       " 'b': <jax.Array([100, 101, 104, 109, 116, 125, 136, 149, 164, 181], dtype=int32)>,\n",
       " 'c': [{'value': <jax.Array([100, 101, 104, 109, 116, 125, 136, 149, 164, 181, 200, 221], dtype=int32)>},\n",
       "  {'value': <jax.Array([100., 100., 100., 100., 100., 100., 100.], dtype=float32)>},\n",
       "  {'value': 3}]}"
      ]
     },
     "execution_count": 58,
     "metadata": {},
     "output_type": "execute_result"
    }
   ],
   "source": [
    "pz.select(my_nested_object).at_instances_of(jax.Array).apply(lambda x: x**2 + 100)"
   ]
  },
  {
   "cell_type": "markdown",
   "metadata": {
    "id": "CNBv2zCFysUP"
   },
   "source": [
    "You can also do `apply(fn, with_keypath=True)` to get access to the key paths as well:"
   ]
  },
  {
   "cell_type": "code",
   "execution_count": 59,
   "metadata": {
    "execution": {
     "iopub.execute_input": "2024-08-07T01:46:31.117368Z",
     "iopub.status.busy": "2024-08-07T01:46:31.117097Z",
     "iopub.status.idle": "2024-08-07T01:46:31.121013Z",
     "shell.execute_reply": "2024-08-07T01:46:31.120840Z"
    },
    "id": "8sT0FJ2yypAd"
   },
   "outputs": [
    {
     "data": {
      "text/html": [
       "<script> (()=>{ if (customElements.get('treescope-container') === undefined) { class TreescopeContainer extends HTMLElement { constructor() { super(); this.attachShadow({mode: \"open\"}); this.defns = {}; this.state = {}; } } customElements.define(\"treescope-container\", TreescopeContainer); } if (customElements.get('treescope-run-here') === undefined) { class RunHere extends HTMLElement { constructor() { super() } connectedCallback() { const run = child => { const fn = new Function(child.textContent); child.textContent = \"\"; fn.call(this); this.remove(); }; const child = this.querySelector(\"script\"); if (child) { run(child); } else { new MutationObserver(()=>{ run(this.querySelector(\"script\")); }).observe(this, {childList: true}); } } } customElements.define(\"treescope-run-here\", RunHere); } })(); </script> <treescope-container class=\"treescope_out_fa53e90fbc3d4802ab1e923f80a73230\" ></treescope-container> <treescope-run-here><script type=\"application/octet-stream\"> const root = ( Array.from(document.getElementsByClassName( \"treescope_out_fa53e90fbc3d4802ab1e923f80a73230\")) .filter((elt) => !elt.dataset.setup) )[0]; root.dataset.setup = 1; const msg = document.createElement(\"span\"); msg.style = \"color: #cccccc; font-family: monospace;\"; msg.textContent = \"(Loading...)\"; root.state.loadingMsg = msg; root.shadowRoot.appendChild(msg); root.state.chain = new Promise((resolve, reject) => { const observer = new IntersectionObserver((entries) => { for (const entry of entries) { if (entry.isIntersecting) { resolve(); observer.disconnect(); return; } } }, {rootMargin: \"1000px\"}); window.setTimeout(() => { observer.observe(root); }, 0); }); root.state.deferring = false; const _insertNode = (node) => { for (let oldScript of node.querySelectorAll(\"script\")) { let newScript = document.createElement(\"script\"); newScript.type = oldScript.type; newScript.textContent = oldScript.textContent; oldScript.parentNode.replaceChild(newScript, oldScript); } if (root.state.loadingMsg) { root.state.loadingMsg.remove(); root.state.loadingMsg = null; } root.shadowRoot.appendChild(node); }; root.defns.insertContent = ((contentNode, compressed) => { if (compressed) { root.state.deferring = true; } if (root.state.deferring) { root.state.chain = (async () => { await root.state.chain; if (compressed) { const encoded = contentNode.textContent; const blob = new Blob([ Uint8Array.from(atob(encoded), (m) => m.codePointAt(0)) ]); const reader = blob.stream().pipeThrough( new DecompressionStream(\"deflate\") ).pipeThrough( new TextDecoderStream(\"utf-8\") ).getReader(); const parts = []; while (true) { const step = await reader.read(); if (step.done) { break; } parts.push(step.value); } const tpl = document.createElement('template'); tpl.innerHTML = parts.join(\"\"); _insertNode(tpl.content); } else { _insertNode(contentNode.content); } })(); } else { _insertNode(contentNode.content); } }); </script></treescope-run-here><div style=\"display:none\"> <script type=\"application/octet-stream\" >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</script> <treescope-run-here><script type=\"application/octet-stream\"> const root = ( Array.from(document.getElementsByClassName( \"treescope_out_fa53e90fbc3d4802ab1e923f80a73230\")) .filter((elt) => !elt.dataset['step0']) )[0]; root.dataset['step0'] = 1; root.defns.insertContent( this.parentNode.querySelector('script[type=\"application/octet-stream\"]'), true ); this.parentNode.remove(); </script></treescope-run-here> </div>"
      ],
      "text/plain": [
       "<IPython.core.display.HTML object>"
      ]
     },
     "metadata": {},
     "output_type": "display_data"
    },
    {
     "data": {
      "text/html": [
       "<treescope-run-here><script type=\"application/octet-stream\"> const root = ( Array.from(document.getElementsByClassName( \"treescope_out_fa53e90fbc3d4802ab1e923f80a73230\")) .filter((elt) => !elt.dataset.stolen) )[0]; root.dataset.stolen = 1; this.parentNode.replaceChild(root, this); </script></treescope-run-here>"
      ],
      "text/plain": [
       "{'a': 1,\n",
       " 'b': \"key=(DictKey(key='b'),), value=[0 1 2 3 4 5 6 7 8 9]\",\n",
       " 'c': [{'value': \"key=(DictKey(key='c'), SequenceKey(idx=0), DictKey(key='value')), value=[ 0  1  2  3  4  5  6  7  8  9 10 11]\"},\n",
       "  {'value': \"key=(DictKey(key='c'), SequenceKey(idx=1), DictKey(key='value')), value=[0. 0. 0. 0. 0. 0. 0.]\"},\n",
       "  {'value': 3}]}"
      ]
     },
     "execution_count": 59,
     "metadata": {},
     "output_type": "execute_result"
    }
   ],
   "source": [
    "(\n",
    "    pz.select(my_nested_object)\n",
    "    .at_instances_of(jax.Array)\n",
    "    .apply(lambda key, value: f\"key={key}, value={value}\", with_keypath=True)\n",
    ")"
   ]
  },
  {
   "cell_type": "markdown",
   "metadata": {
    "id": "-RZGXU2ey_B7"
   },
   "source": [
    "By default, applying a function also removes the selection. If you want to do further processing, you can pass `keep_selected=True` to replace the values but keep them selected:"
   ]
  },
  {
   "cell_type": "code",
   "execution_count": 60,
   "metadata": {
    "execution": {
     "iopub.execute_input": "2024-08-07T01:46:31.129280Z",
     "iopub.status.busy": "2024-08-07T01:46:31.129045Z",
     "iopub.status.idle": "2024-08-07T01:46:31.137729Z",
     "shell.execute_reply": "2024-08-07T01:46:31.137556Z"
    },
    "id": "CtTI_jwXy9il"
   },
   "outputs": [
    {
     "data": {
      "text/html": [
       "<script> (()=>{ if (customElements.get('treescope-container') === undefined) { class TreescopeContainer extends HTMLElement { constructor() { super(); this.attachShadow({mode: \"open\"}); this.defns = {}; this.state = {}; } } customElements.define(\"treescope-container\", TreescopeContainer); } if (customElements.get('treescope-run-here') === undefined) { class RunHere extends HTMLElement { constructor() { super() } connectedCallback() { const run = child => { const fn = new Function(child.textContent); child.textContent = \"\"; fn.call(this); this.remove(); }; const child = this.querySelector(\"script\"); if (child) { run(child); } else { new MutationObserver(()=>{ run(this.querySelector(\"script\")); }).observe(this, {childList: true}); } } } customElements.define(\"treescope-run-here\", RunHere); } })(); </script> <treescope-container class=\"treescope_out_5932f5f208d1449bab74a3b803f5fe4e\" ></treescope-container> <treescope-run-here><script type=\"application/octet-stream\"> const root = ( Array.from(document.getElementsByClassName( \"treescope_out_5932f5f208d1449bab74a3b803f5fe4e\")) .filter((elt) => !elt.dataset.setup) )[0]; root.dataset.setup = 1; const msg = document.createElement(\"span\"); msg.style = \"color: #cccccc; font-family: monospace;\"; msg.textContent = \"(Loading...)\"; root.state.loadingMsg = msg; root.shadowRoot.appendChild(msg); root.state.chain = new Promise((resolve, reject) => { const observer = new IntersectionObserver((entries) => { for (const entry of entries) { if (entry.isIntersecting) { resolve(); observer.disconnect(); return; } } }, {rootMargin: \"1000px\"}); window.setTimeout(() => { observer.observe(root); }, 0); }); root.state.deferring = false; const _insertNode = (node) => { for (let oldScript of node.querySelectorAll(\"script\")) { let newScript = document.createElement(\"script\"); newScript.type = oldScript.type; newScript.textContent = oldScript.textContent; oldScript.parentNode.replaceChild(newScript, oldScript); } if (root.state.loadingMsg) { root.state.loadingMsg.remove(); root.state.loadingMsg = null; } root.shadowRoot.appendChild(node); }; root.defns.insertContent = ((contentNode, compressed) => { if (compressed) { root.state.deferring = true; } if (root.state.deferring) { root.state.chain = (async () => { await root.state.chain; if (compressed) { const encoded = contentNode.textContent; const blob = new Blob([ Uint8Array.from(atob(encoded), (m) => m.codePointAt(0)) ]); const reader = blob.stream().pipeThrough( new DecompressionStream(\"deflate\") ).pipeThrough( new TextDecoderStream(\"utf-8\") ).getReader(); const parts = []; while (true) { const step = await reader.read(); if (step.done) { break; } parts.push(step.value); } const tpl = document.createElement('template'); tpl.innerHTML = parts.join(\"\"); _insertNode(tpl.content); } else { _insertNode(contentNode.content); } })(); } else { _insertNode(contentNode.content); } }); </script></treescope-run-here><div style=\"display:none\"> <script type=\"application/octet-stream\" >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</script> <treescope-run-here><script type=\"application/octet-stream\"> const root = ( Array.from(document.getElementsByClassName( \"treescope_out_5932f5f208d1449bab74a3b803f5fe4e\")) .filter((elt) => !elt.dataset['step0']) )[0]; root.dataset['step0'] = 1; root.defns.insertContent( this.parentNode.querySelector('script[type=\"application/octet-stream\"]'), true ); this.parentNode.remove(); </script></treescope-run-here> </div>"
      ],
      "text/plain": [
       "<IPython.core.display.HTML object>"
      ]
     },
     "metadata": {},
     "output_type": "display_data"
    },
    {
     "data": {
      "text/html": [
       "<treescope-run-here><script type=\"application/octet-stream\"> const root = ( Array.from(document.getElementsByClassName( \"treescope_out_5932f5f208d1449bab74a3b803f5fe4e\")) .filter((elt) => !elt.dataset.stolen) )[0]; root.dataset.stolen = 1; this.parentNode.replaceChild(root, this); </script></treescope-run-here>"
      ],
      "text/plain": [
       "Selection(\n",
       "  selected_by_path=OrderedDict({\n",
       "    (DictKey(key='b'),):\n",
       "      \"key=(DictKey(key='b'),), value=[0 1 2 3 4 5 6 7 8 9]\",\n",
       "    (DictKey(key='c'), SequenceKey(idx=0), DictKey(key='value')):\n",
       "      \"key=(DictKey(key='c'), SequenceKey(idx=0), DictKey(key='value')), value=[ 0  1  2  3  4  5  6  7  8  9 10 11]\",\n",
       "    (DictKey(key='c'), SequenceKey(idx=1), DictKey(key='value')):\n",
       "      \"key=(DictKey(key='c'), SequenceKey(idx=1), DictKey(key='value')), value=[0. 0. 0. 0. 0. 0. 0.]\",\n",
       "  }),\n",
       "  remainder={'a': 1, 'b': SelectionHole(path=(DictKey(key='b'),)), 'c': [{'value': SelectionHole(path=(DictKey(key='c'), SequenceKey(idx=0), DictKey(key='value')))}, {'value': SelectionHole(path=(DictKey(key='c'), SequenceKey(idx=1), DictKey(key='value')))}, {'value': 3}]},\n",
       ")"
      ]
     },
     "execution_count": 60,
     "metadata": {},
     "output_type": "execute_result"
    }
   ],
   "source": [
    "(\n",
    "    pz.select(my_nested_object)\n",
    "    .at_instances_of(jax.Array)\n",
    "    .apply(lambda key, value: f\"key={key}, value={value}\", with_keypath=True, keep_selected=True)\n",
    ")"
   ]
  },
  {
   "cell_type": "markdown",
   "metadata": {
    "id": "YJujHVUOzmtm"
   },
   "source": [
    "Sometimes, it's also useful to pass the index of the selected node relative to the *selection* (e.g. \"this is the third selected node\") instead of the absolute keypath. For this, theres `.apply_with_selected_index`:"
   ]
  },
  {
   "cell_type": "code",
   "execution_count": 61,
   "metadata": {
    "execution": {
     "iopub.execute_input": "2024-08-07T01:46:31.146016Z",
     "iopub.status.busy": "2024-08-07T01:46:31.145777Z",
     "iopub.status.idle": "2024-08-07T01:46:31.154391Z",
     "shell.execute_reply": "2024-08-07T01:46:31.154181Z"
    },
    "id": "xLrWVjiazLVS"
   },
   "outputs": [
    {
     "data": {
      "text/html": [
       "<script> (()=>{ if (customElements.get('treescope-container') === undefined) { class TreescopeContainer extends HTMLElement { constructor() { super(); this.attachShadow({mode: \"open\"}); this.defns = {}; this.state = {}; } } customElements.define(\"treescope-container\", TreescopeContainer); } if (customElements.get('treescope-run-here') === undefined) { class RunHere extends HTMLElement { constructor() { super() } connectedCallback() { const run = child => { const fn = new Function(child.textContent); child.textContent = \"\"; fn.call(this); this.remove(); }; const child = this.querySelector(\"script\"); if (child) { run(child); } else { new MutationObserver(()=>{ run(this.querySelector(\"script\")); }).observe(this, {childList: true}); } } } customElements.define(\"treescope-run-here\", RunHere); } })(); </script> <treescope-container class=\"treescope_out_154e2c080fb646b4abf3403ae5b8670d\" ></treescope-container> <treescope-run-here><script type=\"application/octet-stream\"> const root = ( Array.from(document.getElementsByClassName( \"treescope_out_154e2c080fb646b4abf3403ae5b8670d\")) .filter((elt) => !elt.dataset.setup) )[0]; root.dataset.setup = 1; const msg = document.createElement(\"span\"); msg.style = \"color: #cccccc; font-family: monospace;\"; msg.textContent = \"(Loading...)\"; root.state.loadingMsg = msg; root.shadowRoot.appendChild(msg); root.state.chain = new Promise((resolve, reject) => { const observer = new IntersectionObserver((entries) => { for (const entry of entries) { if (entry.isIntersecting) { resolve(); observer.disconnect(); return; } } }, {rootMargin: \"1000px\"}); window.setTimeout(() => { observer.observe(root); }, 0); }); root.state.deferring = false; const _insertNode = (node) => { for (let oldScript of node.querySelectorAll(\"script\")) { let newScript = document.createElement(\"script\"); newScript.type = oldScript.type; newScript.textContent = oldScript.textContent; oldScript.parentNode.replaceChild(newScript, oldScript); } if (root.state.loadingMsg) { root.state.loadingMsg.remove(); root.state.loadingMsg = null; } root.shadowRoot.appendChild(node); }; root.defns.insertContent = ((contentNode, compressed) => { if (compressed) { root.state.deferring = true; } if (root.state.deferring) { root.state.chain = (async () => { await root.state.chain; if (compressed) { const encoded = contentNode.textContent; const blob = new Blob([ Uint8Array.from(atob(encoded), (m) => m.codePointAt(0)) ]); const reader = blob.stream().pipeThrough( new DecompressionStream(\"deflate\") ).pipeThrough( new TextDecoderStream(\"utf-8\") ).getReader(); const parts = []; while (true) { const step = await reader.read(); if (step.done) { break; } parts.push(step.value); } const tpl = document.createElement('template'); tpl.innerHTML = parts.join(\"\"); _insertNode(tpl.content); } else { _insertNode(contentNode.content); } })(); } else { _insertNode(contentNode.content); } }); </script></treescope-run-here><div style=\"display:none\"> <script type=\"application/octet-stream\" >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</script> <treescope-run-here><script type=\"application/octet-stream\"> const root = ( Array.from(document.getElementsByClassName( \"treescope_out_154e2c080fb646b4abf3403ae5b8670d\")) .filter((elt) => !elt.dataset['step0']) )[0]; root.dataset['step0'] = 1; root.defns.insertContent( this.parentNode.querySelector('script[type=\"application/octet-stream\"]'), true ); this.parentNode.remove(); </script></treescope-run-here> </div>"
      ],
      "text/plain": [
       "<IPython.core.display.HTML object>"
      ]
     },
     "metadata": {},
     "output_type": "display_data"
    },
    {
     "data": {
      "text/html": [
       "<treescope-run-here><script type=\"application/octet-stream\"> const root = ( Array.from(document.getElementsByClassName( \"treescope_out_154e2c080fb646b4abf3403ae5b8670d\")) .filter((elt) => !elt.dataset.stolen) )[0]; root.dataset.stolen = 1; this.parentNode.replaceChild(root, this); </script></treescope-run-here>"
      ],
      "text/plain": [
       "Selection(\n",
       "  selected_by_path=OrderedDict({\n",
       "    (DictKey(key='b'),):\n",
       "      'index=0, value=[0 1 2 3 4 5 6 7 8 9]',\n",
       "    (DictKey(key='c'), SequenceKey(idx=0), DictKey(key='value')):\n",
       "      'index=1, value=[ 0  1  2  3  4  5  6  7  8  9 10 11]',\n",
       "    (DictKey(key='c'), SequenceKey(idx=1), DictKey(key='value')):\n",
       "      'index=2, value=[0. 0. 0. 0. 0. 0. 0.]',\n",
       "  }),\n",
       "  remainder={'a': 1, 'b': SelectionHole(path=(DictKey(key='b'),)), 'c': [{'value': SelectionHole(path=(DictKey(key='c'), SequenceKey(idx=0), DictKey(key='value')))}, {'value': SelectionHole(path=(DictKey(key='c'), SequenceKey(idx=1), DictKey(key='value')))}, {'value': 3}]},\n",
       ")"
      ]
     },
     "execution_count": 61,
     "metadata": {},
     "output_type": "execute_result"
    }
   ],
   "source": [
    "(\n",
    "    pz.select(my_nested_object)\n",
    "    .at_instances_of(jax.Array)\n",
    "    .apply_with_selected_index(lambda index, value: f\"index={index}, value={value}\", keep_selected=True)\n",
    ")"
   ]
  },
  {
   "cell_type": "markdown",
   "metadata": {
    "id": "zpbos5v2z9BI"
   },
   "source": [
    "### Manipulating selected elements of lists and tuples"
   ]
  },
  {
   "cell_type": "markdown",
   "metadata": {
    "id": "iqvDVZkn0GSq"
   },
   "source": [
    "When the selected nodes are elements of a list or tuple, there are a few other options for selector manipulation. For instance, you can insert values before or after the selected nodes:"
   ]
  },
  {
   "cell_type": "code",
   "execution_count": 62,
   "metadata": {
    "execution": {
     "iopub.execute_input": "2024-08-07T01:46:31.162157Z",
     "iopub.status.busy": "2024-08-07T01:46:31.161746Z",
     "iopub.status.idle": "2024-08-07T01:46:31.166406Z",
     "shell.execute_reply": "2024-08-07T01:46:31.166199Z"
    },
    "id": "Ptualckcz45d"
   },
   "outputs": [
    {
     "data": {
      "text/html": [
       "<script> (()=>{ if (customElements.get('treescope-container') === undefined) { class TreescopeContainer extends HTMLElement { constructor() { super(); this.attachShadow({mode: \"open\"}); this.defns = {}; this.state = {}; } } customElements.define(\"treescope-container\", TreescopeContainer); } if (customElements.get('treescope-run-here') === undefined) { class RunHere extends HTMLElement { constructor() { super() } connectedCallback() { const run = child => { const fn = new Function(child.textContent); child.textContent = \"\"; fn.call(this); this.remove(); }; const child = this.querySelector(\"script\"); if (child) { run(child); } else { new MutationObserver(()=>{ run(this.querySelector(\"script\")); }).observe(this, {childList: true}); } } } customElements.define(\"treescope-run-here\", RunHere); } })(); </script> <treescope-container class=\"treescope_out_9c276bb2ed3d4b5b9785adbb39df8113\" ></treescope-container> <treescope-run-here><script type=\"application/octet-stream\"> const root = ( Array.from(document.getElementsByClassName( \"treescope_out_9c276bb2ed3d4b5b9785adbb39df8113\")) .filter((elt) => !elt.dataset.setup) )[0]; root.dataset.setup = 1; const msg = document.createElement(\"span\"); msg.style = \"color: #cccccc; font-family: monospace;\"; msg.textContent = \"(Loading...)\"; root.state.loadingMsg = msg; root.shadowRoot.appendChild(msg); root.state.chain = new Promise((resolve, reject) => { const observer = new IntersectionObserver((entries) => { for (const entry of entries) { if (entry.isIntersecting) { resolve(); observer.disconnect(); return; } } }, {rootMargin: \"1000px\"}); window.setTimeout(() => { observer.observe(root); }, 0); }); root.state.deferring = false; const _insertNode = (node) => { for (let oldScript of node.querySelectorAll(\"script\")) { let newScript = document.createElement(\"script\"); newScript.type = oldScript.type; newScript.textContent = oldScript.textContent; oldScript.parentNode.replaceChild(newScript, oldScript); } if (root.state.loadingMsg) { root.state.loadingMsg.remove(); root.state.loadingMsg = null; } root.shadowRoot.appendChild(node); }; root.defns.insertContent = ((contentNode, compressed) => { if (compressed) { root.state.deferring = true; } if (root.state.deferring) { root.state.chain = (async () => { await root.state.chain; if (compressed) { const encoded = contentNode.textContent; const blob = new Blob([ Uint8Array.from(atob(encoded), (m) => m.codePointAt(0)) ]); const reader = blob.stream().pipeThrough( new DecompressionStream(\"deflate\") ).pipeThrough( new TextDecoderStream(\"utf-8\") ).getReader(); const parts = []; while (true) { const step = await reader.read(); if (step.done) { break; } parts.push(step.value); } const tpl = document.createElement('template'); tpl.innerHTML = parts.join(\"\"); _insertNode(tpl.content); } else { _insertNode(contentNode.content); } })(); } else { _insertNode(contentNode.content); } }); </script></treescope-run-here><div style=\"display:none\"> <script type=\"application/octet-stream\" >eNrtWAtT4sgW/is9TNUCqyDhKajUDcjLGXUUZ3ScnXI7SSfpIXTHpAPilv/9nk5AQdHJ3tVduLVYZaBz+jy+7vPc9cXEIfWs8Ajxde6SK49zgf5ALvepoJzVkEccLOiI7CCTM5Ex8ZA6kxoacsZ9F+uwPrapIJnwRw25Hqw41BeZkHVGTFxYZZzBsob1geXxgBkZnTvcq0Vbd9D0l+YAAfCjhrBryKQCyJggTOwgFxsGZVbGIaaoobxuSyGMZGxCLRtWlGxJsmECU9D5ftv0S2ZEfapRhwrQHAeC39NmKBMeZT7VMz69JdHbqbp3u1sRPLv38GS8gIFMD9Z83aOuQNK+vSR2XYfqWCK2xXVBpPUewcNkPZVK79UBUJDnC2QQk/loDwmb+lmLiFNA+4gbJJXO2twX2fA9mEYEunIJkyaruuQqN337vuxNFzPDIfCaBY6zE0nIgpp9zhmspsbcG6TRvA78HJbkq4VlQXW56BLP5N4QM51kGR+n0uH5goDUkzcoE23aRYV8GvhQE6UeaZ11CLOEjfb2UE6SvKi6R0TgMcAdEccnD4rZAZOaPWbt29QUUr+QQH65g79nJKTgVjGDj7MeuQ6IL1RGh+FxtT08JKkIk7TksfNEkBv4dgTjzhIbZyL2IjNesDK+DlKL6CAFtywn8sqr0HPgtrqSl1whjthEZAQXfHqSUrvwd3ZAJhL0hJeQCk2Js7qDff8jOOeUbypxz/NqCNcwMRN+lwY84fqHd7y+u7XMAQw6QiHDvcRi+EgggTWwlNzsJXIJxBkoA2YzoHvp2i+3NSX3zKxMgNtFASuMGFcsGGrEC29KGEDe56rbSqkM+k8JfOnc1hwBLiglpSQJTO4YWAN5DBR5JuLdoUWyq0hFoDao7zp4MotsjwlRHTlYI06tphFwGjKngR5+dpbKi6JbRpHhbRoFczsPsigLY57mcBkmn5Vp8xHxnko2sDfwCbbgrNjT3TXGRerRko39VD3kWV+KQ7inpttEHxAjnUa/ph90kFuXb5rRL2gYhukaSv6WL2l68p9Ub3HTs0qW/wYl5TlKwYHnywN0OSQr4i2RS/3XExu6QigoEzqd/9wdfx2pD+YJciOeSslS/8qkni+uOLuS13+Ja73kStl8SXrT0qNCf1n96MQfqyitGmLPgvIiUiN06Lu/KA1CmjvRAiEgry8LQA+vl13aBEo8ogIgoWZbTvwbUYpG4lHJlzzEcCsodlB/MtS446PjQEh7DdSMdsLTnYBjZMZEG0D5Fm73hxDQbQjDUFwxAdsp9olxX/S9Jzn5t/P0mke7w6osl62S4WMrI/9YYsXycPewMzvG/pUOBRsAe78fm2Ihlczi9EsyH+1ZFDkPPRphL5XJGFjgDGZwsGHeT88vSyGymPEwm93mkC1SfEQAMahUMzwQf86Uew3gYCgx3i1qEopE7+jQ5Z7A7AlvzeMDwq7kykMw+jm6c9vm8Jwd811WlgagmHGlQ2FpeIRNVV0s3YHnIuErRdc515km0gVX1bGjp6C/gOJWcW/CeijrCyz33+v7Zppo3DMg7kaaGFyA7VKLefB8G3ugyhh7DFzqahayZyibJtaVwhJCF8rGP+7bKG/aNcm4NDV/upTJZcOA+dCr1cJOC3sZy8MGhQNJKYWSQaxNxOGuWgTlwD3Lur0Z3V0XxEIkCJfQFL8nqjwJma8G6cJhzoy5y47t8EY6DnYh+Py8gPvz0fl5CVHZFsoIicgNeKnxLM1r6LFMxCs2tbLPQO9Uz8OTrOnxIfQuejCUfYeM2X52hB1ocFLpdNbn0NmEkVx2KPKZjdKJ7E5iJpREEqVR+r4f9G0CTTB0W2SMmv1+X1rTl2uyBQxfQoMFJuukP2F66vf/TJOYLpPD/5jQolQkJUkcoQl2pmvj6fyhmAPv9D29hgLPScnoWpPvt8bcNPM7GsTvcnHTyFU7h5baUMNP70RVefitcTqG/922qrbUlz6NoapaA/7B6LUazfFXVT372jxQD3uNptq2bnrdj7bwG4eUWIX2/kX+Y6/8ddR3A/rpsHSmHFz0Tr8cjs4Pb8WnSbvd3Di3Bme0sZ+z6f5JcNAyOj9yXW3LHPUM9/pD2b4+p/QkOGQdu2t+FurncuPIK6rtHhu0yvrnIGAbp6Vr3R+MR2bb2bq+sVp829IOxp1tpatuMfW09NHzDpTTDes2d2rk1ANTsY4qzXHnR97K8UlwWqkMW0p53L2oHluWS84GkyLpabclXfOOOwKr1knvaLyP/Yl/EvR6F+et9lj9dOL2vhqft7Y2rMpZ5aIgcuaHT9fqqAQ8P6pHFfVwrA6t29P+RnDZJ62Lm7xZ1m+PiqfdSSloqB9uGz/ctlug3ZNmK3cZfCr2K8xsfGx124dDlW5sj1p5myl2ZUP7Mr74Me56o/3O5yb7YbZaltg41i8dp1KqNg/GjW27Wjw87PQLnUvVGvZKPxonVXHWId1qq9HodQr7VvF066s+0dQOnOmXD1vqSQer5LDpqN3b1rF1Kaxy45N1fNzbbwzoSYm0GxfNRlunOdf2uMvgbriXrX3lVhn0zaYp7MkH1jVw2++auaNhp3VUbhjq9ZcvLhZ+/3JoGJhW8+ZttfiZ/rguu0OvfMy/NvvU6wxHB51C/7xfaLfyeuPEPNvoOtztFNv+uISt6/I2vST9I8c9Z41ujxiHHgnOrzvNoXLe9gb9/k0pXz4/98cqaJRG4QBIpJLhtU7K6P47/Lv3fmxwF3LWg0uGY6tsNvsCxWbks9+B18vjATuco4RlRVTxAG+4HkxHqajwWJxygQuecem+QDYtTOSaD+FBspCVlixP8BhTgRgeUQsL7mWBs6tx7BnZsUcFOYOmJPXAC4yd8noYpUBKTSXmyjA5RAEpZ3RIoF5LzaZsT/Z5ZAg11ZOtd5son8vlwswJwReSaCpsKJbLnau1Eg/KyVZqFsHk3CmB3qM2pg4ENsGRJH4XRjbIlizADkRjCpgRbMhScWMeu+lA6CejIFl2zmZBizOJx3k+Ud+NktkuZW4wzTSJMH1p/CaxlMk008HLKMuBEuHm+h+7W1Nm8wo8KS8TL71/9HJ+bJSo//L+Jl/ZwdEDMADCeg09b+6rWvdtmXXJhzo7iThrynuzl/yTjhPO1NJJdN8E7CW+JXHyewKFKW4vMdcf1NAv1wEXOyFB9BX6u8edDOTS8LpAOLLh+xTU+hSy2eNNT2na/2E0DBxBXYcgbqLiwtFtLjBZLNgSdbRMzYVqKvH3HcW33M9PA2j+4oHEPZ6l8EfD10Q9t4boKjHQVVYCXWUN0c3HQDe/Eujm1xDdQgx0CyuBbmEN0S3GQLf4j6L7f532SjHgL63E5S6uIbrlGOiWVwLd0hqiW4mBbmUl0C2vIbrbMdDdXgl0K2uIbjUGutV/096b9SNx2j1lNfq97XXEN1bDtxodXzUGcpurhW6chk955Y4venxfv8v41lO214yyf8vk85+aeGo/Owtt1Sae90OhdZu5aTEmmtrKTDQVZQ3hVWLAq/xbwb0V/PkY8K/GzFPJryG8hRjwrsbQUymsIbzFGPAWVwPe4hrCW4oB72pMNZXSGsJbjgFv+d/U91bwV2LAvxpzT6W8hvBux4B3NQafSmUN4a3GgLe6GvBur2NbEqftW5HJprJeozctzmBTe4PB5uLobW3Aeuthz7LHXRwAZjsMOqr/F5ktLTE=</script> <treescope-run-here><script type=\"application/octet-stream\"> const root = ( Array.from(document.getElementsByClassName( \"treescope_out_9c276bb2ed3d4b5b9785adbb39df8113\")) .filter((elt) => !elt.dataset['step0']) )[0]; root.dataset['step0'] = 1; root.defns.insertContent( this.parentNode.querySelector('script[type=\"application/octet-stream\"]'), true ); this.parentNode.remove(); </script></treescope-run-here> </div>"
      ],
      "text/plain": [
       "<IPython.core.display.HTML object>"
      ]
     },
     "metadata": {},
     "output_type": "display_data"
    },
    {
     "data": {
      "text/html": [
       "<treescope-run-here><script type=\"application/octet-stream\"> const root = ( Array.from(document.getElementsByClassName( \"treescope_out_9c276bb2ed3d4b5b9785adbb39df8113\")) .filter((elt) => !elt.dataset.stolen) )[0]; root.dataset.stolen = 1; this.parentNode.replaceChild(root, this); </script></treescope-run-here>"
      ],
      "text/plain": [
       "{'a': ['before a multiple of 4',\n",
       "  0,\n",
       "  1,\n",
       "  2,\n",
       "  3,\n",
       "  'before a multiple of 4',\n",
       "  4,\n",
       "  5,\n",
       "  6,\n",
       "  7,\n",
       "  'before a multiple of 4',\n",
       "  8,\n",
       "  9],\n",
       " 'b': [10,\n",
       "  11,\n",
       "  'before a multiple of 4',\n",
       "  12,\n",
       "  13,\n",
       "  14,\n",
       "  15,\n",
       "  'before a multiple of 4',\n",
       "  16,\n",
       "  17,\n",
       "  18,\n",
       "  19]}"
      ]
     },
     "execution_count": 62,
     "metadata": {},
     "output_type": "execute_result"
    }
   ],
   "source": [
    "(\n",
    "    pz.select({\"a\": list(range(10)), \"b\": list(range(10, 20))})\n",
    "      .at_instances_of(int)\n",
    "      .where(lambda x: x % 4 == 0)\n",
    "      .insert_before(\"before a multiple of 4\")\n",
    ")"
   ]
  },
  {
   "cell_type": "code",
   "execution_count": 63,
   "metadata": {
    "execution": {
     "iopub.execute_input": "2024-08-07T01:46:31.173561Z",
     "iopub.status.busy": "2024-08-07T01:46:31.173084Z",
     "iopub.status.idle": "2024-08-07T01:46:31.177609Z",
     "shell.execute_reply": "2024-08-07T01:46:31.177433Z"
    },
    "id": "tIf27Qx40hP3"
   },
   "outputs": [
    {
     "data": {
      "text/html": [
       "<script> (()=>{ if (customElements.get('treescope-container') === undefined) { class TreescopeContainer extends HTMLElement { constructor() { super(); this.attachShadow({mode: \"open\"}); this.defns = {}; this.state = {}; } } customElements.define(\"treescope-container\", TreescopeContainer); } if (customElements.get('treescope-run-here') === undefined) { class RunHere extends HTMLElement { constructor() { super() } connectedCallback() { const run = child => { const fn = new Function(child.textContent); child.textContent = \"\"; fn.call(this); this.remove(); }; const child = this.querySelector(\"script\"); if (child) { run(child); } else { new MutationObserver(()=>{ run(this.querySelector(\"script\")); }).observe(this, {childList: true}); } } } customElements.define(\"treescope-run-here\", RunHere); } })(); </script> <treescope-container class=\"treescope_out_57cfe0953bff4c778406b1c1686f8aae\" ></treescope-container> <treescope-run-here><script type=\"application/octet-stream\"> const root = ( Array.from(document.getElementsByClassName( \"treescope_out_57cfe0953bff4c778406b1c1686f8aae\")) .filter((elt) => !elt.dataset.setup) )[0]; root.dataset.setup = 1; const msg = document.createElement(\"span\"); msg.style = \"color: #cccccc; font-family: monospace;\"; msg.textContent = \"(Loading...)\"; root.state.loadingMsg = msg; root.shadowRoot.appendChild(msg); root.state.chain = new Promise((resolve, reject) => { const observer = new IntersectionObserver((entries) => { for (const entry of entries) { if (entry.isIntersecting) { resolve(); observer.disconnect(); return; } } }, {rootMargin: \"1000px\"}); window.setTimeout(() => { observer.observe(root); }, 0); }); root.state.deferring = false; const _insertNode = (node) => { for (let oldScript of node.querySelectorAll(\"script\")) { let newScript = document.createElement(\"script\"); newScript.type = oldScript.type; newScript.textContent = oldScript.textContent; oldScript.parentNode.replaceChild(newScript, oldScript); } if (root.state.loadingMsg) { root.state.loadingMsg.remove(); root.state.loadingMsg = null; } root.shadowRoot.appendChild(node); }; root.defns.insertContent = ((contentNode, compressed) => { if (compressed) { root.state.deferring = true; } if (root.state.deferring) { root.state.chain = (async () => { await root.state.chain; if (compressed) { const encoded = contentNode.textContent; const blob = new Blob([ Uint8Array.from(atob(encoded), (m) => m.codePointAt(0)) ]); const reader = blob.stream().pipeThrough( new DecompressionStream(\"deflate\") ).pipeThrough( new TextDecoderStream(\"utf-8\") ).getReader(); const parts = []; while (true) { const step = await reader.read(); if (step.done) { break; } parts.push(step.value); } const tpl = document.createElement('template'); tpl.innerHTML = parts.join(\"\"); _insertNode(tpl.content); } else { _insertNode(contentNode.content); } })(); } else { _insertNode(contentNode.content); } }); </script></treescope-run-here><div style=\"display:none\"> <script type=\"application/octet-stream\" >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</script> <treescope-run-here><script type=\"application/octet-stream\"> const root = ( Array.from(document.getElementsByClassName( \"treescope_out_57cfe0953bff4c778406b1c1686f8aae\")) .filter((elt) => !elt.dataset['step0']) )[0]; root.dataset['step0'] = 1; root.defns.insertContent( this.parentNode.querySelector('script[type=\"application/octet-stream\"]'), true ); this.parentNode.remove(); </script></treescope-run-here> </div>"
      ],
      "text/plain": [
       "<IPython.core.display.HTML object>"
      ]
     },
     "metadata": {},
     "output_type": "display_data"
    },
    {
     "data": {
      "text/html": [
       "<treescope-run-here><script type=\"application/octet-stream\"> const root = ( Array.from(document.getElementsByClassName( \"treescope_out_57cfe0953bff4c778406b1c1686f8aae\")) .filter((elt) => !elt.dataset.stolen) )[0]; root.dataset.stolen = 1; this.parentNode.replaceChild(root, this); </script></treescope-run-here>"
      ],
      "text/plain": [
       "{'a': [0,\n",
       "  'after a multiple of 4',\n",
       "  1,\n",
       "  2,\n",
       "  3,\n",
       "  4,\n",
       "  'after a multiple of 4',\n",
       "  5,\n",
       "  6,\n",
       "  7,\n",
       "  8,\n",
       "  'after a multiple of 4',\n",
       "  9],\n",
       " 'b': [10,\n",
       "  11,\n",
       "  12,\n",
       "  'after a multiple of 4',\n",
       "  13,\n",
       "  14,\n",
       "  15,\n",
       "  16,\n",
       "  'after a multiple of 4',\n",
       "  17,\n",
       "  18,\n",
       "  19]}"
      ]
     },
     "execution_count": 63,
     "metadata": {},
     "output_type": "execute_result"
    }
   ],
   "source": [
    "(\n",
    "    pz.select({\"a\": list(range(10)), \"b\": list(range(10, 20))})\n",
    "      .at_instances_of(int)\n",
    "      .where(lambda x: x % 4 == 0)\n",
    "      .insert_after(\"after a multiple of 4\")\n",
    ")"
   ]
  },
  {
   "cell_type": "markdown",
   "metadata": {
    "id": "BFg6JxQq0tMW"
   },
   "source": [
    "You can also just remove the selected nodes:"
   ]
  },
  {
   "cell_type": "code",
   "execution_count": 64,
   "metadata": {
    "execution": {
     "iopub.execute_input": "2024-08-07T01:46:31.184222Z",
     "iopub.status.busy": "2024-08-07T01:46:31.183778Z",
     "iopub.status.idle": "2024-08-07T01:46:31.188088Z",
     "shell.execute_reply": "2024-08-07T01:46:31.188204Z"
    },
    "id": "PzLdrjdq0raZ"
   },
   "outputs": [
    {
     "data": {
      "text/html": [
       "<script> (()=>{ if (customElements.get('treescope-container') === undefined) { class TreescopeContainer extends HTMLElement { constructor() { super(); this.attachShadow({mode: \"open\"}); this.defns = {}; this.state = {}; } } customElements.define(\"treescope-container\", TreescopeContainer); } if (customElements.get('treescope-run-here') === undefined) { class RunHere extends HTMLElement { constructor() { super() } connectedCallback() { const run = child => { const fn = new Function(child.textContent); child.textContent = \"\"; fn.call(this); this.remove(); }; const child = this.querySelector(\"script\"); if (child) { run(child); } else { new MutationObserver(()=>{ run(this.querySelector(\"script\")); }).observe(this, {childList: true}); } } } customElements.define(\"treescope-run-here\", RunHere); } })(); </script> <treescope-container class=\"treescope_out_9206710fc90a4b639f2303c00136f23b\" ></treescope-container> <treescope-run-here><script type=\"application/octet-stream\"> const root = ( Array.from(document.getElementsByClassName( \"treescope_out_9206710fc90a4b639f2303c00136f23b\")) .filter((elt) => !elt.dataset.setup) )[0]; root.dataset.setup = 1; const msg = document.createElement(\"span\"); msg.style = \"color: #cccccc; font-family: monospace;\"; msg.textContent = \"(Loading...)\"; root.state.loadingMsg = msg; root.shadowRoot.appendChild(msg); root.state.chain = new Promise((resolve, reject) => { const observer = new IntersectionObserver((entries) => { for (const entry of entries) { if (entry.isIntersecting) { resolve(); observer.disconnect(); return; } } }, {rootMargin: \"1000px\"}); window.setTimeout(() => { observer.observe(root); }, 0); }); root.state.deferring = false; const _insertNode = (node) => { for (let oldScript of node.querySelectorAll(\"script\")) { let newScript = document.createElement(\"script\"); newScript.type = oldScript.type; newScript.textContent = oldScript.textContent; oldScript.parentNode.replaceChild(newScript, oldScript); } if (root.state.loadingMsg) { root.state.loadingMsg.remove(); root.state.loadingMsg = null; } root.shadowRoot.appendChild(node); }; root.defns.insertContent = ((contentNode, compressed) => { if (compressed) { root.state.deferring = true; } if (root.state.deferring) { root.state.chain = (async () => { await root.state.chain; if (compressed) { const encoded = contentNode.textContent; const blob = new Blob([ Uint8Array.from(atob(encoded), (m) => m.codePointAt(0)) ]); const reader = blob.stream().pipeThrough( new DecompressionStream(\"deflate\") ).pipeThrough( new TextDecoderStream(\"utf-8\") ).getReader(); const parts = []; while (true) { const step = await reader.read(); if (step.done) { break; } parts.push(step.value); } const tpl = document.createElement('template'); tpl.innerHTML = parts.join(\"\"); _insertNode(tpl.content); } else { _insertNode(contentNode.content); } })(); } else { _insertNode(contentNode.content); } }); </script></treescope-run-here><div style=\"display:none\"> <script type=\"application/octet-stream\" >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</script> <treescope-run-here><script type=\"application/octet-stream\"> const root = ( Array.from(document.getElementsByClassName( \"treescope_out_9206710fc90a4b639f2303c00136f23b\")) .filter((elt) => !elt.dataset['step0']) )[0]; root.dataset['step0'] = 1; root.defns.insertContent( this.parentNode.querySelector('script[type=\"application/octet-stream\"]'), true ); this.parentNode.remove(); </script></treescope-run-here> </div>"
      ],
      "text/plain": [
       "<IPython.core.display.HTML object>"
      ]
     },
     "metadata": {},
     "output_type": "display_data"
    },
    {
     "data": {
      "text/html": [
       "<treescope-run-here><script type=\"application/octet-stream\"> const root = ( Array.from(document.getElementsByClassName( \"treescope_out_9206710fc90a4b639f2303c00136f23b\")) .filter((elt) => !elt.dataset.stolen) )[0]; root.dataset.stolen = 1; this.parentNode.replaceChild(root, this); </script></treescope-run-here>"
      ],
      "text/plain": [
       "{'a': [1, 2, 3, 5, 6, 7, 9], 'b': [10, 11, 13, 14, 15, 17, 18, 19]}"
      ]
     },
     "execution_count": 64,
     "metadata": {},
     "output_type": "execute_result"
    }
   ],
   "source": [
    "(\n",
    "    pz.select({\"a\": list(range(10)), \"b\": list(range(10, 20))})\n",
    "      .at_instances_of(int)\n",
    "      .where(lambda x: x % 4 == 0)\n",
    "      .remove_from_parent()\n",
    ")"
   ]
  },
  {
   "cell_type": "markdown",
   "metadata": {
    "id": "ELI6wOnC0yMI"
   },
   "source": [
    "If you want more control, or if you want to use the selected value to determine what to insert, you can use the method `.apply_and_inline`. This works like `.apply`, except that your function should return a *sequence* of values, and those values will be spliced into the original list or tuple in the same position as the original selected nodes."
   ]
  },
  {
   "cell_type": "code",
   "execution_count": 65,
   "metadata": {
    "execution": {
     "iopub.execute_input": "2024-08-07T01:46:31.196542Z",
     "iopub.status.busy": "2024-08-07T01:46:31.196255Z",
     "iopub.status.idle": "2024-08-07T01:46:31.200069Z",
     "shell.execute_reply": "2024-08-07T01:46:31.200194Z"
    },
    "id": "l7M2_YQF0vzy"
   },
   "outputs": [
    {
     "data": {
      "text/html": [
       "<script> (()=>{ if (customElements.get('treescope-container') === undefined) { class TreescopeContainer extends HTMLElement { constructor() { super(); this.attachShadow({mode: \"open\"}); this.defns = {}; this.state = {}; } } customElements.define(\"treescope-container\", TreescopeContainer); } if (customElements.get('treescope-run-here') === undefined) { class RunHere extends HTMLElement { constructor() { super() } connectedCallback() { const run = child => { const fn = new Function(child.textContent); child.textContent = \"\"; fn.call(this); this.remove(); }; const child = this.querySelector(\"script\"); if (child) { run(child); } else { new MutationObserver(()=>{ run(this.querySelector(\"script\")); }).observe(this, {childList: true}); } } } customElements.define(\"treescope-run-here\", RunHere); } })(); </script> <treescope-container class=\"treescope_out_5513525610034134b5e30df9e46f659e\" ></treescope-container> <treescope-run-here><script type=\"application/octet-stream\"> const root = ( Array.from(document.getElementsByClassName( \"treescope_out_5513525610034134b5e30df9e46f659e\")) .filter((elt) => !elt.dataset.setup) )[0]; root.dataset.setup = 1; const msg = document.createElement(\"span\"); msg.style = \"color: #cccccc; font-family: monospace;\"; msg.textContent = \"(Loading...)\"; root.state.loadingMsg = msg; root.shadowRoot.appendChild(msg); root.state.chain = new Promise((resolve, reject) => { const observer = new IntersectionObserver((entries) => { for (const entry of entries) { if (entry.isIntersecting) { resolve(); observer.disconnect(); return; } } }, {rootMargin: \"1000px\"}); window.setTimeout(() => { observer.observe(root); }, 0); }); root.state.deferring = false; const _insertNode = (node) => { for (let oldScript of node.querySelectorAll(\"script\")) { let newScript = document.createElement(\"script\"); newScript.type = oldScript.type; newScript.textContent = oldScript.textContent; oldScript.parentNode.replaceChild(newScript, oldScript); } if (root.state.loadingMsg) { root.state.loadingMsg.remove(); root.state.loadingMsg = null; } root.shadowRoot.appendChild(node); }; root.defns.insertContent = ((contentNode, compressed) => { if (compressed) { root.state.deferring = true; } if (root.state.deferring) { root.state.chain = (async () => { await root.state.chain; if (compressed) { const encoded = contentNode.textContent; const blob = new Blob([ Uint8Array.from(atob(encoded), (m) => m.codePointAt(0)) ]); const reader = blob.stream().pipeThrough( new DecompressionStream(\"deflate\") ).pipeThrough( new TextDecoderStream(\"utf-8\") ).getReader(); const parts = []; while (true) { const step = await reader.read(); if (step.done) { break; } parts.push(step.value); } const tpl = document.createElement('template'); tpl.innerHTML = parts.join(\"\"); _insertNode(tpl.content); } else { _insertNode(contentNode.content); } })(); } else { _insertNode(contentNode.content); } }); </script></treescope-run-here><div style=\"display:none\"> <script type=\"application/octet-stream\" >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</script> <treescope-run-here><script type=\"application/octet-stream\"> const root = ( Array.from(document.getElementsByClassName( \"treescope_out_5513525610034134b5e30df9e46f659e\")) .filter((elt) => !elt.dataset['step0']) )[0]; root.dataset['step0'] = 1; root.defns.insertContent( this.parentNode.querySelector('script[type=\"application/octet-stream\"]'), true ); this.parentNode.remove(); </script></treescope-run-here> </div>"
      ],
      "text/plain": [
       "<IPython.core.display.HTML object>"
      ]
     },
     "metadata": {},
     "output_type": "display_data"
    },
    {
     "data": {
      "text/html": [
       "<treescope-run-here><script type=\"application/octet-stream\"> const root = ( Array.from(document.getElementsByClassName( \"treescope_out_5513525610034134b5e30df9e46f659e\")) .filter((elt) => !elt.dataset.stolen) )[0]; root.dataset.stolen = 1; this.parentNode.replaceChild(root, this); </script></treescope-run-here>"
      ],
      "text/plain": [
       "{'a': ['before',\n",
       "  'the value was 0',\n",
       "  'after',\n",
       "  1,\n",
       "  2,\n",
       "  3,\n",
       "  'before',\n",
       "  'the value was 4',\n",
       "  'after',\n",
       "  5,\n",
       "  6,\n",
       "  7,\n",
       "  'before',\n",
       "  'the value was 8',\n",
       "  'after',\n",
       "  9],\n",
       " 'b': [10,\n",
       "  11,\n",
       "  'before',\n",
       "  'the value was 12',\n",
       "  'after',\n",
       "  13,\n",
       "  14,\n",
       "  15,\n",
       "  'before',\n",
       "  'the value was 16',\n",
       "  'after',\n",
       "  17,\n",
       "  18,\n",
       "  19]}"
      ]
     },
     "execution_count": 65,
     "metadata": {},
     "output_type": "execute_result"
    }
   ],
   "source": [
    "(\n",
    "    pz.select({\"a\": list(range(10)), \"b\": list(range(10, 20))})\n",
    "      .at_instances_of(int)\n",
    "      .where(lambda x: x % 4 == 0)\n",
    "      .apply_and_inline(lambda x: [\"before\", f\"the value was {x}\", \"after\"])\n",
    ")"
   ]
  },
  {
   "cell_type": "markdown",
   "metadata": {
    "id": "DaIykx2UVgaM"
   },
   "source": [
    "## Taking advantage of key paths"
   ]
  },
  {
   "cell_type": "markdown",
   "metadata": {
    "id": "hoF1YE4VVF6M"
   },
   "source": [
    "Many of the selector functions allow you to use the PyTree path to each selected in addition to its value:"
   ]
  },
  {
   "cell_type": "code",
   "execution_count": 66,
   "metadata": {
    "execution": {
     "iopub.execute_input": "2024-08-07T01:46:31.208361Z",
     "iopub.status.busy": "2024-08-07T01:46:31.208096Z",
     "iopub.status.idle": "2024-08-07T01:46:31.217715Z",
     "shell.execute_reply": "2024-08-07T01:46:31.217540Z"
    },
    "id": "YCK_xieQVi8r"
   },
   "outputs": [
    {
     "data": {
      "text/html": [
       "<script> (()=>{ if (customElements.get('treescope-container') === undefined) { class TreescopeContainer extends HTMLElement { constructor() { super(); this.attachShadow({mode: \"open\"}); this.defns = {}; this.state = {}; } } customElements.define(\"treescope-container\", TreescopeContainer); } if (customElements.get('treescope-run-here') === undefined) { class RunHere extends HTMLElement { constructor() { super() } connectedCallback() { const run = child => { const fn = new Function(child.textContent); child.textContent = \"\"; fn.call(this); this.remove(); }; const child = this.querySelector(\"script\"); if (child) { run(child); } else { new MutationObserver(()=>{ run(this.querySelector(\"script\")); }).observe(this, {childList: true}); } } } customElements.define(\"treescope-run-here\", RunHere); } })(); </script> <treescope-container class=\"treescope_out_2ab6803108b2483da78911ea34d0fac9\" ></treescope-container> <treescope-run-here><script type=\"application/octet-stream\"> const root = ( Array.from(document.getElementsByClassName( \"treescope_out_2ab6803108b2483da78911ea34d0fac9\")) .filter((elt) => !elt.dataset.setup) )[0]; root.dataset.setup = 1; const msg = document.createElement(\"span\"); msg.style = \"color: #cccccc; font-family: monospace;\"; msg.textContent = \"(Loading...)\"; root.state.loadingMsg = msg; root.shadowRoot.appendChild(msg); root.state.chain = new Promise((resolve, reject) => { const observer = new IntersectionObserver((entries) => { for (const entry of entries) { if (entry.isIntersecting) { resolve(); observer.disconnect(); return; } } }, {rootMargin: \"1000px\"}); window.setTimeout(() => { observer.observe(root); }, 0); }); root.state.deferring = false; const _insertNode = (node) => { for (let oldScript of node.querySelectorAll(\"script\")) { let newScript = document.createElement(\"script\"); newScript.type = oldScript.type; newScript.textContent = oldScript.textContent; oldScript.parentNode.replaceChild(newScript, oldScript); } if (root.state.loadingMsg) { root.state.loadingMsg.remove(); root.state.loadingMsg = null; } root.shadowRoot.appendChild(node); }; root.defns.insertContent = ((contentNode, compressed) => { if (compressed) { root.state.deferring = true; } if (root.state.deferring) { root.state.chain = (async () => { await root.state.chain; if (compressed) { const encoded = contentNode.textContent; const blob = new Blob([ Uint8Array.from(atob(encoded), (m) => m.codePointAt(0)) ]); const reader = blob.stream().pipeThrough( new DecompressionStream(\"deflate\") ).pipeThrough( new TextDecoderStream(\"utf-8\") ).getReader(); const parts = []; while (true) { const step = await reader.read(); if (step.done) { break; } parts.push(step.value); } const tpl = document.createElement('template'); tpl.innerHTML = parts.join(\"\"); _insertNode(tpl.content); } else { _insertNode(contentNode.content); } })(); } else { _insertNode(contentNode.content); } }); </script></treescope-run-here><div style=\"display:none\"> <script type=\"application/octet-stream\" >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</script> <treescope-run-here><script type=\"application/octet-stream\"> const root = ( Array.from(document.getElementsByClassName( \"treescope_out_2ab6803108b2483da78911ea34d0fac9\")) .filter((elt) => !elt.dataset['step0']) )[0]; root.dataset['step0'] = 1; root.defns.insertContent( this.parentNode.querySelector('script[type=\"application/octet-stream\"]'), true ); this.parentNode.remove(); </script></treescope-run-here> </div>"
      ],
      "text/plain": [
       "<IPython.core.display.HTML object>"
      ]
     },
     "metadata": {},
     "output_type": "display_data"
    },
    {
     "data": {
      "text/html": [
       "<div style=\"display:none\"> <script type=\"application/octet-stream\" >eNq1k01v2zAMhv8KoQJFgrquI9tx0nwAW7sBveywHXYoikKW6ESDanmyUiwo+t9HOR9Nt25rDzvEsSy+JB/q1VTpe2j92uCMKd02RqzPobY1MtBqxirrbhVW6Byq2zQteClHaVEkaYZFJnKhxmme5wVPimwk2XzaNqKmZ8g3j6U1JBdl6fAeHqBbnsPRcMRFkkzgcXq2CexUII1o2xk7FLH5sfGTb+JH/M45se5dJxEMIuARpBFkEeQRDCMoIhhFML6JQPl1gzNd+5T3jxd+QgW6fnZ/xDqfvgF4nHBVJeOKDwYiUwpLrniejIqhGPIc1eAJ+LUAQAQBITAEiEARMAJHAAkkMCbKQDr4D0gyGaaC82SUVGU25LzMcixLldPRYirS8duRkjiCl3/79itjxV8BvENspW3w1K3q0yW6YArpdOOhS8BE0xgthde2PrPSoz9tSSPu2FzauqUo4Rbor1QLM7hmr3dsBOz1p30Y/M853kw2nSkrnbWe+vJL3cbU5WdafrIKe/0JbLsn/G3QNjz+vkK3/oIGpbeux+L9hG7DNttLKycWd1hvpavwGkuajMfL7fLjNuL3cheGPELCXY6Ypoy1ulhqo3q7oFiGqK5f71bYpyxkKOgZ9KBJTBdZw/TpAGKD9cIv6evJSZ9ufYjbbB5WouUHg+H1/fqKiu3U1/qGCgRNa1dO4iU5+49DOQrOZnACv8g3y9gh3QSJX7Vf9vbZ4kq7dle7IyXB067DO3vfnczjfkzPEj2bXT+4ubMpGfkFD/8EdDbCOQ==</script> <treescope-run-here><script type=\"application/octet-stream\"> const root = ( Array.from(document.getElementsByClassName( \"treescope_out_2ab6803108b2483da78911ea34d0fac9\")) .filter((elt) => !elt.dataset['step1']) )[0]; root.dataset['step1'] = 1; root.defns.insertContent( this.parentNode.querySelector('script[type=\"application/octet-stream\"]'), true ); this.parentNode.remove(); </script></treescope-run-here> </div>"
      ],
      "text/plain": [
       "<IPython.core.display.HTML object>"
      ]
     },
     "metadata": {},
     "output_type": "display_data"
    },
    {
     "data": {
      "text/html": [
       "<treescope-run-here><script type=\"application/octet-stream\"> const root = ( Array.from(document.getElementsByClassName( \"treescope_out_2ab6803108b2483da78911ea34d0fac9\")) .filter((elt) => !elt.dataset.stolen) )[0]; root.dataset.stolen = 1; this.parentNode.replaceChild(root, this); </script></treescope-run-here>"
      ],
      "text/plain": [
       "Selection(\n",
       "  selected_by_path=OrderedDict({\n",
       "    (DictKey(key='c'), SequenceKey(idx=0)):\n",
       "      {\n",
       "        'value': <jax.Array([ 0,  1,  2,  3,  4,  5,  6,  7,  8,  9, 10, 11], dtype=int32)>,\n",
       "      },\n",
       "    (DictKey(key='c'), SequenceKey(idx=2), DictKey(key='value')):\n",
       "      3,\n",
       "  }),\n",
       "  remainder={\n",
       "    'a': 1,\n",
       "    'b': <jax.Array([0, 1, 2, 3, 4, 5, 6, 7, 8, 9], dtype=int32)>,\n",
       "    'c': [SelectionHole(path=(DictKey(key='c'), SequenceKey(idx=0))), {'value': <jax.Array([0., 0., 0., 0., 0., 0., 0.], dtype=float32)>}, {'value': SelectionHole(path=(DictKey(key='c'), SequenceKey(idx=2), DictKey(key='value')))}],\n",
       "  },\n",
       ")"
      ]
     },
     "execution_count": 66,
     "metadata": {},
     "output_type": "execute_result"
    }
   ],
   "source": [
    "# Selecting by keypath directly\n",
    "pz.select(my_nested_object).at_keypaths([\n",
    "    (jax.tree_util.DictKey(key='c'), jax.tree_util.SequenceKey(idx=2), jax.tree_util.DictKey(key='value')),\n",
    "    (jax.tree_util.DictKey(key='c'), jax.tree_util.SequenceKey(idx=0)),\n",
    "])"
   ]
  },
  {
   "cell_type": "code",
   "execution_count": 67,
   "metadata": {
    "execution": {
     "iopub.execute_input": "2024-08-07T01:46:31.225679Z",
     "iopub.status.busy": "2024-08-07T01:46:31.225257Z",
     "iopub.status.idle": "2024-08-07T01:46:31.235191Z",
     "shell.execute_reply": "2024-08-07T01:46:31.235017Z"
    },
    "id": "FEf1mpRX1T17"
   },
   "outputs": [
    {
     "data": {
      "text/html": [
       "<script> (()=>{ if (customElements.get('treescope-container') === undefined) { class TreescopeContainer extends HTMLElement { constructor() { super(); this.attachShadow({mode: \"open\"}); this.defns = {}; this.state = {}; } } customElements.define(\"treescope-container\", TreescopeContainer); } if (customElements.get('treescope-run-here') === undefined) { class RunHere extends HTMLElement { constructor() { super() } connectedCallback() { const run = child => { const fn = new Function(child.textContent); child.textContent = \"\"; fn.call(this); this.remove(); }; const child = this.querySelector(\"script\"); if (child) { run(child); } else { new MutationObserver(()=>{ run(this.querySelector(\"script\")); }).observe(this, {childList: true}); } } } customElements.define(\"treescope-run-here\", RunHere); } })(); </script> <treescope-container class=\"treescope_out_791ea15abed94a5eac542290cbd14387\" ></treescope-container> <treescope-run-here><script type=\"application/octet-stream\"> const root = ( Array.from(document.getElementsByClassName( \"treescope_out_791ea15abed94a5eac542290cbd14387\")) .filter((elt) => !elt.dataset.setup) )[0]; root.dataset.setup = 1; const msg = document.createElement(\"span\"); msg.style = \"color: #cccccc; font-family: monospace;\"; msg.textContent = \"(Loading...)\"; root.state.loadingMsg = msg; root.shadowRoot.appendChild(msg); root.state.chain = new Promise((resolve, reject) => { const observer = new IntersectionObserver((entries) => { for (const entry of entries) { if (entry.isIntersecting) { resolve(); observer.disconnect(); return; } } }, {rootMargin: \"1000px\"}); window.setTimeout(() => { observer.observe(root); }, 0); }); root.state.deferring = false; const _insertNode = (node) => { for (let oldScript of node.querySelectorAll(\"script\")) { let newScript = document.createElement(\"script\"); newScript.type = oldScript.type; newScript.textContent = oldScript.textContent; oldScript.parentNode.replaceChild(newScript, oldScript); } if (root.state.loadingMsg) { root.state.loadingMsg.remove(); root.state.loadingMsg = null; } root.shadowRoot.appendChild(node); }; root.defns.insertContent = ((contentNode, compressed) => { if (compressed) { root.state.deferring = true; } if (root.state.deferring) { root.state.chain = (async () => { await root.state.chain; if (compressed) { const encoded = contentNode.textContent; const blob = new Blob([ Uint8Array.from(atob(encoded), (m) => m.codePointAt(0)) ]); const reader = blob.stream().pipeThrough( new DecompressionStream(\"deflate\") ).pipeThrough( new TextDecoderStream(\"utf-8\") ).getReader(); const parts = []; while (true) { const step = await reader.read(); if (step.done) { break; } parts.push(step.value); } const tpl = document.createElement('template'); tpl.innerHTML = parts.join(\"\"); _insertNode(tpl.content); } else { _insertNode(contentNode.content); } })(); } else { _insertNode(contentNode.content); } }); </script></treescope-run-here><div style=\"display:none\"> <script type=\"application/octet-stream\" >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</script> <treescope-run-here><script type=\"application/octet-stream\"> const root = ( Array.from(document.getElementsByClassName( \"treescope_out_791ea15abed94a5eac542290cbd14387\")) .filter((elt) => !elt.dataset['step0']) )[0]; root.dataset['step0'] = 1; root.defns.insertContent( this.parentNode.querySelector('script[type=\"application/octet-stream\"]'), true ); this.parentNode.remove(); </script></treescope-run-here> </div>"
      ],
      "text/plain": [
       "<IPython.core.display.HTML object>"
      ]
     },
     "metadata": {},
     "output_type": "display_data"
    },
    {
     "data": {
      "text/html": [
       "<div style=\"display:none\"> <script type=\"application/octet-stream\" >eNq1k8tu2zAQRX9lwAKBjSiKJOvl+AG0SQtk00W76CIIApoc2iwYUaXooEaRf+9QfiRp0zZZdGFZFOfOzBleTqW+g85vDM6Y1F1r+OYMGtsgAy1nTFl3I1GhcyhvyipTRaWwVLzIueKLosyqsk5SLtIiq0ZsPu1a3tAz5JvHwhqS88XC4R38gH55Bm/KOuNJMoH76ek2sFeBMLzrZuyxiM2PjJ985d/jt87xzeAqiSCNIItgFEEeQRFBGUEVQR3B+DoC6TctznTjR9nwaOknVKDvZ/9HrPPpa4BFxqUsMVFpmpd1NebpWKWySrKqGlUlPgC/FACIICAEhgARKAJG4AgggQTGRBlI0/+AVOe1KHNeS57keV2PF3KUY1kUSokiS8fF65GSOILnf4f2lbH8rwDeIXbCtnji1s3JCl0whXC69dAnYLxtjRbca9ucWuHRn3Sk4bdsLmzTURR3S/SXsoMZXLGXOzYC9vLTfhz8zzleT7adSSuctZ768ivdxdTlJ1p+tBIHwwnsuif8XdAuPP62Rrf5jAaFt27A4sOEbsI2O0iV48tbbHbSdXiNBU3G48Vu+WEX8Xu5c0MeIeE+R0xTxkaer7SRg31QLEJU3693axxSFjIUDAx60CSmi6xh+nAAscFm6Vf09fh4SLc+xG03H1ei5XuD4fXd5pKK7dVX+poKBE1n107gBTn7j0N5E5zN4Bh+kW+XsUO6CQK/aL8aHLLFSrtuX7snJcHDrsNbe9efzP1hTE8SPZndMLi5tykZ+RkP/wQa2MMP</script> <treescope-run-here><script type=\"application/octet-stream\"> const root = ( Array.from(document.getElementsByClassName( \"treescope_out_791ea15abed94a5eac542290cbd14387\")) .filter((elt) => !elt.dataset['step1']) )[0]; root.dataset['step1'] = 1; root.defns.insertContent( this.parentNode.querySelector('script[type=\"application/octet-stream\"]'), true ); this.parentNode.remove(); </script></treescope-run-here> </div>"
      ],
      "text/plain": [
       "<IPython.core.display.HTML object>"
      ]
     },
     "metadata": {},
     "output_type": "display_data"
    },
    {
     "data": {
      "text/html": [
       "<treescope-run-here><script type=\"application/octet-stream\"> const root = ( Array.from(document.getElementsByClassName( \"treescope_out_791ea15abed94a5eac542290cbd14387\")) .filter((elt) => !elt.dataset.stolen) )[0]; root.dataset.stolen = 1; this.parentNode.replaceChild(root, this); </script></treescope-run-here>"
      ],
      "text/plain": [
       "Selection(\n",
       "  selected_by_path=OrderedDict({\n",
       "    (DictKey(key='c'), SequenceKey(idx=0), DictKey(key='value')):\n",
       "      <jax.Array([ 0,  1,  2,  3,  4,  5,  6,  7,  8,  9, 10, 11], dtype=int32)>,\n",
       "    (DictKey(key='c'), SequenceKey(idx=1), DictKey(key='value')):\n",
       "      <jax.Array([0., 0., 0., 0., 0., 0., 0.], dtype=float32)>,\n",
       "  }),\n",
       "  remainder={\n",
       "    'a': 1,\n",
       "    'b': <jax.Array([0, 1, 2, 3, 4, 5, 6, 7, 8, 9], dtype=int32)>,\n",
       "    'c': [{'value': SelectionHole(path=(DictKey(key='c'), SequenceKey(idx=0), DictKey(key='value')))}, {'value': SelectionHole(path=(DictKey(key='c'), SequenceKey(idx=1), DictKey(key='value')))}, {'value': 3}],\n",
       "  },\n",
       ")"
      ]
     },
     "execution_count": 67,
     "metadata": {},
     "output_type": "execute_result"
    }
   ],
   "source": [
    "# Selecting by keypath and value\n",
    "(\n",
    "    pz.select(my_nested_object)\n",
    "    .at_subtrees_where(\n",
    "        lambda path, subtree: len(path) == 3 and isinstance(subtree, jax.Array),\n",
    "        with_keypath=True)\n",
    ")"
   ]
  },
  {
   "cell_type": "code",
   "execution_count": 68,
   "metadata": {
    "execution": {
     "iopub.execute_input": "2024-08-07T01:46:31.240180Z",
     "iopub.status.busy": "2024-08-07T01:46:31.239945Z",
     "iopub.status.idle": "2024-08-07T01:46:31.244564Z",
     "shell.execute_reply": "2024-08-07T01:46:31.244383Z"
    },
    "id": "W-jfNUWTVaw3"
   },
   "outputs": [
    {
     "data": {
      "text/html": [
       "<script> (()=>{ if (customElements.get('treescope-container') === undefined) { class TreescopeContainer extends HTMLElement { constructor() { super(); this.attachShadow({mode: \"open\"}); this.defns = {}; this.state = {}; } } customElements.define(\"treescope-container\", TreescopeContainer); } if (customElements.get('treescope-run-here') === undefined) { class RunHere extends HTMLElement { constructor() { super() } connectedCallback() { const run = child => { const fn = new Function(child.textContent); child.textContent = \"\"; fn.call(this); this.remove(); }; const child = this.querySelector(\"script\"); if (child) { run(child); } else { new MutationObserver(()=>{ run(this.querySelector(\"script\")); }).observe(this, {childList: true}); } } } customElements.define(\"treescope-run-here\", RunHere); } })(); </script> <treescope-container class=\"treescope_out_46931433c64b45969a5a4ba3085e8a72\" ></treescope-container> <treescope-run-here><script type=\"application/octet-stream\"> const root = ( Array.from(document.getElementsByClassName( \"treescope_out_46931433c64b45969a5a4ba3085e8a72\")) .filter((elt) => !elt.dataset.setup) )[0]; root.dataset.setup = 1; const msg = document.createElement(\"span\"); msg.style = \"color: #cccccc; font-family: monospace;\"; msg.textContent = \"(Loading...)\"; root.state.loadingMsg = msg; root.shadowRoot.appendChild(msg); root.state.chain = new Promise((resolve, reject) => { const observer = new IntersectionObserver((entries) => { for (const entry of entries) { if (entry.isIntersecting) { resolve(); observer.disconnect(); return; } } }, {rootMargin: \"1000px\"}); window.setTimeout(() => { observer.observe(root); }, 0); }); root.state.deferring = false; const _insertNode = (node) => { for (let oldScript of node.querySelectorAll(\"script\")) { let newScript = document.createElement(\"script\"); newScript.type = oldScript.type; newScript.textContent = oldScript.textContent; oldScript.parentNode.replaceChild(newScript, oldScript); } if (root.state.loadingMsg) { root.state.loadingMsg.remove(); root.state.loadingMsg = null; } root.shadowRoot.appendChild(node); }; root.defns.insertContent = ((contentNode, compressed) => { if (compressed) { root.state.deferring = true; } if (root.state.deferring) { root.state.chain = (async () => { await root.state.chain; if (compressed) { const encoded = contentNode.textContent; const blob = new Blob([ Uint8Array.from(atob(encoded), (m) => m.codePointAt(0)) ]); const reader = blob.stream().pipeThrough( new DecompressionStream(\"deflate\") ).pipeThrough( new TextDecoderStream(\"utf-8\") ).getReader(); const parts = []; while (true) { const step = await reader.read(); if (step.done) { break; } parts.push(step.value); } const tpl = document.createElement('template'); tpl.innerHTML = parts.join(\"\"); _insertNode(tpl.content); } else { _insertNode(contentNode.content); } })(); } else { _insertNode(contentNode.content); } }); </script></treescope-run-here><div style=\"display:none\"> <script type=\"application/octet-stream\" >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</script> <treescope-run-here><script type=\"application/octet-stream\"> const root = ( Array.from(document.getElementsByClassName( \"treescope_out_46931433c64b45969a5a4ba3085e8a72\")) .filter((elt) => !elt.dataset['step0']) )[0]; root.dataset['step0'] = 1; root.defns.insertContent( this.parentNode.querySelector('script[type=\"application/octet-stream\"]'), true ); this.parentNode.remove(); </script></treescope-run-here> </div>"
      ],
      "text/plain": [
       "<IPython.core.display.HTML object>"
      ]
     },
     "metadata": {},
     "output_type": "display_data"
    },
    {
     "data": {
      "text/html": [
       "<treescope-run-here><script type=\"application/octet-stream\"> const root = ( Array.from(document.getElementsByClassName( \"treescope_out_46931433c64b45969a5a4ba3085e8a72\")) .filter((elt) => !elt.dataset.stolen) )[0]; root.dataset.stolen = 1; this.parentNode.replaceChild(root, this); </script></treescope-run-here>"
      ],
      "text/plain": [
       "{'a': 1,\n",
       " 'b': \"(DictKey(key='b'),)\",\n",
       " 'c': [{'value': \"(DictKey(key='c'), SequenceKey(idx=0), DictKey(key='value'))\"},\n",
       "  {'value': \"(DictKey(key='c'), SequenceKey(idx=1), DictKey(key='value'))\"},\n",
       "  {'value': 3}]}"
      ]
     },
     "execution_count": 68,
     "metadata": {},
     "output_type": "execute_result"
    }
   ],
   "source": [
    "# Setting values by keypath\n",
    "pz.select(my_nested_object).at_instances_of(jax.Array).set_by_path(lambda path: str(path))"
   ]
  },
  {
   "cell_type": "code",
   "execution_count": 69,
   "metadata": {
    "execution": {
     "iopub.execute_input": "2024-08-07T01:46:31.250262Z",
     "iopub.status.busy": "2024-08-07T01:46:31.250029Z",
     "iopub.status.idle": "2024-08-07T01:46:31.254745Z",
     "shell.execute_reply": "2024-08-07T01:46:31.254571Z"
    },
    "id": "vedT4F3FV1Hq"
   },
   "outputs": [
    {
     "data": {
      "text/html": [
       "<script> (()=>{ if (customElements.get('treescope-container') === undefined) { class TreescopeContainer extends HTMLElement { constructor() { super(); this.attachShadow({mode: \"open\"}); this.defns = {}; this.state = {}; } } customElements.define(\"treescope-container\", TreescopeContainer); } if (customElements.get('treescope-run-here') === undefined) { class RunHere extends HTMLElement { constructor() { super() } connectedCallback() { const run = child => { const fn = new Function(child.textContent); child.textContent = \"\"; fn.call(this); this.remove(); }; const child = this.querySelector(\"script\"); if (child) { run(child); } else { new MutationObserver(()=>{ run(this.querySelector(\"script\")); }).observe(this, {childList: true}); } } } customElements.define(\"treescope-run-here\", RunHere); } })(); </script> <treescope-container class=\"treescope_out_175c00689f6e4e49b77db2d22bde33ec\" ></treescope-container> <treescope-run-here><script type=\"application/octet-stream\"> const root = ( Array.from(document.getElementsByClassName( \"treescope_out_175c00689f6e4e49b77db2d22bde33ec\")) .filter((elt) => !elt.dataset.setup) )[0]; root.dataset.setup = 1; const msg = document.createElement(\"span\"); msg.style = \"color: #cccccc; font-family: monospace;\"; msg.textContent = \"(Loading...)\"; root.state.loadingMsg = msg; root.shadowRoot.appendChild(msg); root.state.chain = new Promise((resolve, reject) => { const observer = new IntersectionObserver((entries) => { for (const entry of entries) { if (entry.isIntersecting) { resolve(); observer.disconnect(); return; } } }, {rootMargin: \"1000px\"}); window.setTimeout(() => { observer.observe(root); }, 0); }); root.state.deferring = false; const _insertNode = (node) => { for (let oldScript of node.querySelectorAll(\"script\")) { let newScript = document.createElement(\"script\"); newScript.type = oldScript.type; newScript.textContent = oldScript.textContent; oldScript.parentNode.replaceChild(newScript, oldScript); } if (root.state.loadingMsg) { root.state.loadingMsg.remove(); root.state.loadingMsg = null; } root.shadowRoot.appendChild(node); }; root.defns.insertContent = ((contentNode, compressed) => { if (compressed) { root.state.deferring = true; } if (root.state.deferring) { root.state.chain = (async () => { await root.state.chain; if (compressed) { const encoded = contentNode.textContent; const blob = new Blob([ Uint8Array.from(atob(encoded), (m) => m.codePointAt(0)) ]); const reader = blob.stream().pipeThrough( new DecompressionStream(\"deflate\") ).pipeThrough( new TextDecoderStream(\"utf-8\") ).getReader(); const parts = []; while (true) { const step = await reader.read(); if (step.done) { break; } parts.push(step.value); } const tpl = document.createElement('template'); tpl.innerHTML = parts.join(\"\"); _insertNode(tpl.content); } else { _insertNode(contentNode.content); } })(); } else { _insertNode(contentNode.content); } }); </script></treescope-run-here><div style=\"display:none\"> <script type=\"application/octet-stream\" >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</script> <treescope-run-here><script type=\"application/octet-stream\"> const root = ( Array.from(document.getElementsByClassName( \"treescope_out_175c00689f6e4e49b77db2d22bde33ec\")) .filter((elt) => !elt.dataset['step0']) )[0]; root.dataset['step0'] = 1; root.defns.insertContent( this.parentNode.querySelector('script[type=\"application/octet-stream\"]'), true ); this.parentNode.remove(); </script></treescope-run-here> </div>"
      ],
      "text/plain": [
       "<IPython.core.display.HTML object>"
      ]
     },
     "metadata": {},
     "output_type": "display_data"
    },
    {
     "data": {
      "text/html": [
       "<treescope-run-here><script type=\"application/octet-stream\"> const root = ( Array.from(document.getElementsByClassName( \"treescope_out_175c00689f6e4e49b77db2d22bde33ec\")) .filter((elt) => !elt.dataset.stolen) )[0]; root.dataset.stolen = 1; this.parentNode.replaceChild(root, this); </script></treescope-run-here>"
      ],
      "text/plain": [
       "{'a': 1,\n",
       " 'b': \"((DictKey(key='b'),), Array([0, 1, 2, 3, 4, 5, 6, 7, 8, 9], dtype=int32))\",\n",
       " 'c': [{'value': \"((DictKey(key='c'), SequenceKey(idx=0), DictKey(key='value')), Array([ 0,  1,  2,  3,  4,  5,  6,  7,  8,  9, 10, 11], dtype=int32))\"},\n",
       "  {'value': \"((DictKey(key='c'), SequenceKey(idx=1), DictKey(key='value')), Array([0., 0., 0., 0., 0., 0., 0.], dtype=float32))\"},\n",
       "  {'value': 3}]}"
      ]
     },
     "execution_count": 69,
     "metadata": {},
     "output_type": "execute_result"
    }
   ],
   "source": [
    "# Setting values by keypath and original value\n",
    "pz.select(my_nested_object).at_instances_of(jax.Array).apply(\n",
    "    lambda path, value: str((path, value)), with_keypath=True\n",
    ")"
   ]
  },
  {
   "cell_type": "markdown",
   "metadata": {
    "id": "orWpcwiJt6q0"
   },
   "source": [
    "You can use `jax.tree_util.keystr` or `pz.pretty_keystr` to turn keypaths into readable strings (sometimes useful for referring to parts of a tree by name):"
   ]
  },
  {
   "cell_type": "code",
   "execution_count": 70,
   "metadata": {
    "execution": {
     "iopub.execute_input": "2024-08-07T01:46:31.258350Z",
     "iopub.status.busy": "2024-08-07T01:46:31.258071Z",
     "iopub.status.idle": "2024-08-07T01:46:34.238162Z",
     "shell.execute_reply": "2024-08-07T01:46:34.237950Z"
    },
    "id": "YF3IntIvNjw7"
   },
   "outputs": [
    {
     "data": {
      "text/html": [
       "<script> (()=>{ if (customElements.get('treescope-container') === undefined) { class TreescopeContainer extends HTMLElement { constructor() { super(); this.attachShadow({mode: \"open\"}); this.defns = {}; this.state = {}; } } customElements.define(\"treescope-container\", TreescopeContainer); } if (customElements.get('treescope-run-here') === undefined) { class RunHere extends HTMLElement { constructor() { super() } connectedCallback() { const run = child => { const fn = new Function(child.textContent); child.textContent = \"\"; fn.call(this); this.remove(); }; const child = this.querySelector(\"script\"); if (child) { run(child); } else { new MutationObserver(()=>{ run(this.querySelector(\"script\")); }).observe(this, {childList: true}); } } } customElements.define(\"treescope-run-here\", RunHere); } })(); </script> <treescope-container class=\"treescope_out_e5237be32c32425bbd478a64b5c5ecb4\" ></treescope-container> <treescope-run-here><script type=\"application/octet-stream\"> const root = ( Array.from(document.getElementsByClassName( \"treescope_out_e5237be32c32425bbd478a64b5c5ecb4\")) .filter((elt) => !elt.dataset.setup) )[0]; root.dataset.setup = 1; const msg = document.createElement(\"span\"); msg.style = \"color: #cccccc; font-family: monospace;\"; msg.textContent = \"(Loading...)\"; root.state.loadingMsg = msg; root.shadowRoot.appendChild(msg); root.state.chain = new Promise((resolve, reject) => { const observer = new IntersectionObserver((entries) => { for (const entry of entries) { if (entry.isIntersecting) { resolve(); observer.disconnect(); return; } } }, {rootMargin: \"1000px\"}); window.setTimeout(() => { observer.observe(root); }, 0); }); root.state.deferring = false; const _insertNode = (node) => { for (let oldScript of node.querySelectorAll(\"script\")) { let newScript = document.createElement(\"script\"); newScript.type = oldScript.type; newScript.textContent = oldScript.textContent; oldScript.parentNode.replaceChild(newScript, oldScript); } if (root.state.loadingMsg) { root.state.loadingMsg.remove(); root.state.loadingMsg = null; } root.shadowRoot.appendChild(node); }; root.defns.insertContent = ((contentNode, compressed) => { if (compressed) { root.state.deferring = true; } if (root.state.deferring) { root.state.chain = (async () => { await root.state.chain; if (compressed) { const encoded = contentNode.textContent; const blob = new Blob([ Uint8Array.from(atob(encoded), (m) => m.codePointAt(0)) ]); const reader = blob.stream().pipeThrough( new DecompressionStream(\"deflate\") ).pipeThrough( new TextDecoderStream(\"utf-8\") ).getReader(); const parts = []; while (true) { const step = await reader.read(); if (step.done) { break; } parts.push(step.value); } const tpl = document.createElement('template'); tpl.innerHTML = parts.join(\"\"); _insertNode(tpl.content); } else { _insertNode(contentNode.content); } })(); } else { _insertNode(contentNode.content); } }); </script></treescope-run-here><div style=\"display:none\"> <script type=\"application/octet-stream\" >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</script> <treescope-run-here><script type=\"application/octet-stream\"> const root = ( Array.from(document.getElementsByClassName( \"treescope_out_e5237be32c32425bbd478a64b5c5ecb4\")) .filter((elt) => !elt.dataset['step0']) )[0]; root.dataset['step0'] = 1; root.defns.insertContent( this.parentNode.querySelector('script[type=\"application/octet-stream\"]'), true ); this.parentNode.remove(); </script></treescope-run-here> </div>"
      ],
      "text/plain": [
       "<IPython.core.display.HTML object>"
      ]
     },
     "metadata": {},
     "output_type": "display_data"
    },
    {
     "data": {
      "text/html": [
       "<div style=\"display:none\"> <script type=\"application/octet-stream\" >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</script> <treescope-run-here><script type=\"application/octet-stream\"> const root = ( Array.from(document.getElementsByClassName( \"treescope_out_e5237be32c32425bbd478a64b5c5ecb4\")) .filter((elt) => !elt.dataset['step1']) )[0]; root.dataset['step1'] = 1; root.defns.insertContent( this.parentNode.querySelector('script[type=\"application/octet-stream\"]'), true ); this.parentNode.remove(); </script></treescope-run-here> </div>"
      ],
      "text/plain": [
       "<IPython.core.display.HTML object>"
      ]
     },
     "metadata": {},
     "output_type": "display_data"
    },
    {
     "data": {
      "text/html": [
       "<treescope-run-here><script type=\"application/octet-stream\"> const root = ( Array.from(document.getElementsByClassName( \"treescope_out_e5237be32c32425bbd478a64b5c5ecb4\")) .filter((elt) => !elt.dataset.stolen) )[0]; root.dataset.stolen = 1; this.parentNode.replaceChild(root, this); </script></treescope-run-here>"
      ],
      "text/plain": [
       "MLP( # Sequential\n",
       "  sublayers=[\n",
       "    Affine( # Sequential\n",
       "      sublayers=[\n",
       "        Linear(weights=Parameter(label='mlp/Affine_0/Linear.weights', value=<NamedArray float32(| features:8, features_out:32) ≈-0.0039 ±0.22 [≥-0.38, ≤0.38] nonzero:256 (wrapping jax.Array)>, metadata={}), in_axis_names=('features',), out_axis_names=('features_out',)),\n",
       "        RenameAxes(old=('features_out',), new=('features',)),\n",
       "        AddBias(bias=Parameter(label='mlp/Affine_0/AddBias.bias', value=<NamedArray float32(| features:32) ≈0.0 ±0.0 [≥0.0, ≤0.0] zero:32 (wrapping jax.Array)>, metadata={}), new_axis_names=()),\n",
       "      ],\n",
       "    ),\n",
       "    Elementwise(fn=jax.nn.relu),\n",
       "    Affine( # Sequential\n",
       "      sublayers=[Linear(weights=Parameter(label='mlp/Affine_1/Linear.weights', value=<NamedArray float32(| features:32, features_out:32) ≈0.00044 ±0.18 [≥-0.31, ≤0.31] nonzero:1_024 (wrapping jax.Array)>, metadata={}), in_axis_names=('features',), out_axis_names=('features_out',)), RenameAxes(old=('features_out',), new=('features',)), AddBias(bias=Parameter(label='mlp/Affine_1/AddBias.bias', value=<NamedArray float32(| features:32) ≈0.0 ±0.0 [≥0.0, ≤0.0] zero:32 (wrapping jax.Array)>, metadata={}), new_axis_names=())],\n",
       "    ),\n",
       "    Elementwise(fn=jax.nn.relu),\n",
       "    Affine( # Sequential\n",
       "      sublayers=[Linear(weights=Parameter(label='mlp/Affine_2/Linear.weights', value=<NamedArray float32(| features:32, features_out:8) ≈-0.006 ±0.22 [≥-0.38, ≤0.38] nonzero:256 (wrapping jax.Array)>, metadata={}), in_axis_names=('features',), out_axis_names=('features_out',)), RenameAxes(old=('features_out',), new=('features',)), AddBias(bias=Parameter(label='mlp/Affine_2/AddBias.bias', value=<NamedArray float32(| features:8) ≈0.0 ±0.0 [≥0.0, ≤0.0] zero:8 (wrapping jax.Array)>, metadata={}), new_axis_names=())],\n",
       "    ),\n",
       "  ],\n",
       ")"
      ]
     },
     "execution_count": 70,
     "metadata": {},
     "output_type": "execute_result"
    }
   ],
   "source": [
    "mlp = simple_mlp.MLP.from_config(\n",
    "    name=\"mlp\",\n",
    "    init_base_rng=jax.random.key(0),\n",
    "    feature_sizes=[8, 32, 32, 8]\n",
    ")\n",
    "mlp"
   ]
  },
  {
   "cell_type": "code",
   "execution_count": 71,
   "metadata": {
    "execution": {
     "iopub.execute_input": "2024-08-07T01:46:34.252363Z",
     "iopub.status.busy": "2024-08-07T01:46:34.252105Z",
     "iopub.status.idle": "2024-08-07T01:46:34.257271Z",
     "shell.execute_reply": "2024-08-07T01:46:34.257098Z"
    },
    "id": "nFT8THeWW2in"
   },
   "outputs": [
    {
     "data": {
      "text/html": [
       "<script> (()=>{ if (customElements.get('treescope-container') === undefined) { class TreescopeContainer extends HTMLElement { constructor() { super(); this.attachShadow({mode: \"open\"}); this.defns = {}; this.state = {}; } } customElements.define(\"treescope-container\", TreescopeContainer); } if (customElements.get('treescope-run-here') === undefined) { class RunHere extends HTMLElement { constructor() { super() } connectedCallback() { const run = child => { const fn = new Function(child.textContent); child.textContent = \"\"; fn.call(this); this.remove(); }; const child = this.querySelector(\"script\"); if (child) { run(child); } else { new MutationObserver(()=>{ run(this.querySelector(\"script\")); }).observe(this, {childList: true}); } } } customElements.define(\"treescope-run-here\", RunHere); } })(); </script> <treescope-container class=\"treescope_out_24387c64770e44bdb1df313baf4e434c\" ></treescope-container> <treescope-run-here><script type=\"application/octet-stream\"> const root = ( Array.from(document.getElementsByClassName( \"treescope_out_24387c64770e44bdb1df313baf4e434c\")) .filter((elt) => !elt.dataset.setup) )[0]; root.dataset.setup = 1; const msg = document.createElement(\"span\"); msg.style = \"color: #cccccc; font-family: monospace;\"; msg.textContent = \"(Loading...)\"; root.state.loadingMsg = msg; root.shadowRoot.appendChild(msg); root.state.chain = new Promise((resolve, reject) => { const observer = new IntersectionObserver((entries) => { for (const entry of entries) { if (entry.isIntersecting) { resolve(); observer.disconnect(); return; } } }, {rootMargin: \"1000px\"}); window.setTimeout(() => { observer.observe(root); }, 0); }); root.state.deferring = false; const _insertNode = (node) => { for (let oldScript of node.querySelectorAll(\"script\")) { let newScript = document.createElement(\"script\"); newScript.type = oldScript.type; newScript.textContent = oldScript.textContent; oldScript.parentNode.replaceChild(newScript, oldScript); } if (root.state.loadingMsg) { root.state.loadingMsg.remove(); root.state.loadingMsg = null; } root.shadowRoot.appendChild(node); }; root.defns.insertContent = ((contentNode, compressed) => { if (compressed) { root.state.deferring = true; } if (root.state.deferring) { root.state.chain = (async () => { await root.state.chain; if (compressed) { const encoded = contentNode.textContent; const blob = new Blob([ Uint8Array.from(atob(encoded), (m) => m.codePointAt(0)) ]); const reader = blob.stream().pipeThrough( new DecompressionStream(\"deflate\") ).pipeThrough( new TextDecoderStream(\"utf-8\") ).getReader(); const parts = []; while (true) { const step = await reader.read(); if (step.done) { break; } parts.push(step.value); } const tpl = document.createElement('template'); tpl.innerHTML = parts.join(\"\"); _insertNode(tpl.content); } else { _insertNode(contentNode.content); } })(); } else { _insertNode(contentNode.content); } }); </script></treescope-run-here><div style=\"display:none\"> <script type=\"application/octet-stream\" >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</script> <treescope-run-here><script type=\"application/octet-stream\"> const root = ( Array.from(document.getElementsByClassName( \"treescope_out_24387c64770e44bdb1df313baf4e434c\")) .filter((elt) => !elt.dataset['step0']) )[0]; root.dataset['step0'] = 1; root.defns.insertContent( this.parentNode.querySelector('script[type=\"application/octet-stream\"]'), true ); this.parentNode.remove(); </script></treescope-run-here> </div>"
      ],
      "text/plain": [
       "<IPython.core.display.HTML object>"
      ]
     },
     "metadata": {},
     "output_type": "display_data"
    },
    {
     "data": {
      "text/html": [
       "<treescope-run-here><script type=\"application/octet-stream\"> const root = ( Array.from(document.getElementsByClassName( \"treescope_out_24387c64770e44bdb1df313baf4e434c\")) .filter((elt) => !elt.dataset.stolen) )[0]; root.dataset.stolen = 1; this.parentNode.replaceChild(root, this); </script></treescope-run-here>"
      ],
      "text/plain": [
       "[(GetAttrKey(name='sublayers'),\n",
       "  SequenceKey(idx=0),\n",
       "  GetAttrKey(name='sublayers'),\n",
       "  SequenceKey(idx=0),\n",
       "  GetAttrKey(name='weights')),\n",
       " (GetAttrKey(name='sublayers'),\n",
       "  SequenceKey(idx=0),\n",
       "  GetAttrKey(name='sublayers'),\n",
       "  SequenceKey(idx=2),\n",
       "  GetAttrKey(name='bias')),\n",
       " (GetAttrKey(name='sublayers'),\n",
       "  SequenceKey(idx=2),\n",
       "  GetAttrKey(name='sublayers'),\n",
       "  SequenceKey(idx=0),\n",
       "  GetAttrKey(name='weights')),\n",
       " (GetAttrKey(name='sublayers'),\n",
       "  SequenceKey(idx=2),\n",
       "  GetAttrKey(name='sublayers'),\n",
       "  SequenceKey(idx=2),\n",
       "  GetAttrKey(name='bias')),\n",
       " (GetAttrKey(name='sublayers'),\n",
       "  SequenceKey(idx=4),\n",
       "  GetAttrKey(name='sublayers'),\n",
       "  SequenceKey(idx=0),\n",
       "  GetAttrKey(name='weights')),\n",
       " (GetAttrKey(name='sublayers'),\n",
       "  SequenceKey(idx=4),\n",
       "  GetAttrKey(name='sublayers'),\n",
       "  SequenceKey(idx=2),\n",
       "  GetAttrKey(name='bias'))]"
      ]
     },
     "execution_count": 71,
     "metadata": {},
     "output_type": "execute_result"
    }
   ],
   "source": [
    "[\n",
    "  key for key in\n",
    "  pz.select(mlp).at_instances_of(pz.Parameter).selected_by_path.keys()\n",
    "]"
   ]
  },
  {
   "cell_type": "code",
   "execution_count": 72,
   "metadata": {
    "execution": {
     "iopub.execute_input": "2024-08-07T01:46:34.263250Z",
     "iopub.status.busy": "2024-08-07T01:46:34.263015Z",
     "iopub.status.idle": "2024-08-07T01:46:34.266757Z",
     "shell.execute_reply": "2024-08-07T01:46:34.266583Z"
    },
    "id": "qzrhXuqcuYjA"
   },
   "outputs": [
    {
     "data": {
      "text/html": [
       "<script> (()=>{ if (customElements.get('treescope-container') === undefined) { class TreescopeContainer extends HTMLElement { constructor() { super(); this.attachShadow({mode: \"open\"}); this.defns = {}; this.state = {}; } } customElements.define(\"treescope-container\", TreescopeContainer); } if (customElements.get('treescope-run-here') === undefined) { class RunHere extends HTMLElement { constructor() { super() } connectedCallback() { const run = child => { const fn = new Function(child.textContent); child.textContent = \"\"; fn.call(this); this.remove(); }; const child = this.querySelector(\"script\"); if (child) { run(child); } else { new MutationObserver(()=>{ run(this.querySelector(\"script\")); }).observe(this, {childList: true}); } } } customElements.define(\"treescope-run-here\", RunHere); } })(); </script> <treescope-container class=\"treescope_out_81a1d7dc5b0843399948e18125acfbcb\" ></treescope-container> <treescope-run-here><script type=\"application/octet-stream\"> const root = ( Array.from(document.getElementsByClassName( \"treescope_out_81a1d7dc5b0843399948e18125acfbcb\")) .filter((elt) => !elt.dataset.setup) )[0]; root.dataset.setup = 1; const msg = document.createElement(\"span\"); msg.style = \"color: #cccccc; font-family: monospace;\"; msg.textContent = \"(Loading...)\"; root.state.loadingMsg = msg; root.shadowRoot.appendChild(msg); root.state.chain = new Promise((resolve, reject) => { const observer = new IntersectionObserver((entries) => { for (const entry of entries) { if (entry.isIntersecting) { resolve(); observer.disconnect(); return; } } }, {rootMargin: \"1000px\"}); window.setTimeout(() => { observer.observe(root); }, 0); }); root.state.deferring = false; const _insertNode = (node) => { for (let oldScript of node.querySelectorAll(\"script\")) { let newScript = document.createElement(\"script\"); newScript.type = oldScript.type; newScript.textContent = oldScript.textContent; oldScript.parentNode.replaceChild(newScript, oldScript); } if (root.state.loadingMsg) { root.state.loadingMsg.remove(); root.state.loadingMsg = null; } root.shadowRoot.appendChild(node); }; root.defns.insertContent = ((contentNode, compressed) => { if (compressed) { root.state.deferring = true; } if (root.state.deferring) { root.state.chain = (async () => { await root.state.chain; if (compressed) { const encoded = contentNode.textContent; const blob = new Blob([ Uint8Array.from(atob(encoded), (m) => m.codePointAt(0)) ]); const reader = blob.stream().pipeThrough( new DecompressionStream(\"deflate\") ).pipeThrough( new TextDecoderStream(\"utf-8\") ).getReader(); const parts = []; while (true) { const step = await reader.read(); if (step.done) { break; } parts.push(step.value); } const tpl = document.createElement('template'); tpl.innerHTML = parts.join(\"\"); _insertNode(tpl.content); } else { _insertNode(contentNode.content); } })(); } else { _insertNode(contentNode.content); } }); </script></treescope-run-here><div style=\"display:none\"> <script type=\"application/octet-stream\" >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</script> <treescope-run-here><script type=\"application/octet-stream\"> const root = ( Array.from(document.getElementsByClassName( \"treescope_out_81a1d7dc5b0843399948e18125acfbcb\")) .filter((elt) => !elt.dataset['step0']) )[0]; root.dataset['step0'] = 1; root.defns.insertContent( this.parentNode.querySelector('script[type=\"application/octet-stream\"]'), true ); this.parentNode.remove(); </script></treescope-run-here> </div>"
      ],
      "text/plain": [
       "<IPython.core.display.HTML object>"
      ]
     },
     "metadata": {},
     "output_type": "display_data"
    },
    {
     "data": {
      "text/html": [
       "<treescope-run-here><script type=\"application/octet-stream\"> const root = ( Array.from(document.getElementsByClassName( \"treescope_out_81a1d7dc5b0843399948e18125acfbcb\")) .filter((elt) => !elt.dataset.stolen) )[0]; root.dataset.stolen = 1; this.parentNode.replaceChild(root, this); </script></treescope-run-here>"
      ],
      "text/plain": [
       "['.sublayers[0].sublayers[0].weights',\n",
       " '.sublayers[0].sublayers[2].bias',\n",
       " '.sublayers[2].sublayers[0].weights',\n",
       " '.sublayers[2].sublayers[2].bias',\n",
       " '.sublayers[4].sublayers[0].weights',\n",
       " '.sublayers[4].sublayers[2].bias']"
      ]
     },
     "execution_count": 72,
     "metadata": {},
     "output_type": "execute_result"
    }
   ],
   "source": [
    "[\n",
    "  jax.tree_util.keystr(key) for key in\n",
    "  pz.select(mlp).at_instances_of(pz.Parameter).selected_by_path.keys()\n",
    "]"
   ]
  },
  {
   "cell_type": "code",
   "execution_count": 73,
   "metadata": {
    "execution": {
     "iopub.execute_input": "2024-08-07T01:46:34.271994Z",
     "iopub.status.busy": "2024-08-07T01:46:34.271759Z",
     "iopub.status.idle": "2024-08-07T01:46:34.276214Z",
     "shell.execute_reply": "2024-08-07T01:46:34.276042Z"
    },
    "id": "Ots2ZBckNwJo"
   },
   "outputs": [
    {
     "data": {
      "text/html": [
       "<script> (()=>{ if (customElements.get('treescope-container') === undefined) { class TreescopeContainer extends HTMLElement { constructor() { super(); this.attachShadow({mode: \"open\"}); this.defns = {}; this.state = {}; } } customElements.define(\"treescope-container\", TreescopeContainer); } if (customElements.get('treescope-run-here') === undefined) { class RunHere extends HTMLElement { constructor() { super() } connectedCallback() { const run = child => { const fn = new Function(child.textContent); child.textContent = \"\"; fn.call(this); this.remove(); }; const child = this.querySelector(\"script\"); if (child) { run(child); } else { new MutationObserver(()=>{ run(this.querySelector(\"script\")); }).observe(this, {childList: true}); } } } customElements.define(\"treescope-run-here\", RunHere); } })(); </script> <treescope-container class=\"treescope_out_f152e421b6a74c898a3d8596e9204ee4\" ></treescope-container> <treescope-run-here><script type=\"application/octet-stream\"> const root = ( Array.from(document.getElementsByClassName( \"treescope_out_f152e421b6a74c898a3d8596e9204ee4\")) .filter((elt) => !elt.dataset.setup) )[0]; root.dataset.setup = 1; const msg = document.createElement(\"span\"); msg.style = \"color: #cccccc; font-family: monospace;\"; msg.textContent = \"(Loading...)\"; root.state.loadingMsg = msg; root.shadowRoot.appendChild(msg); root.state.chain = new Promise((resolve, reject) => { const observer = new IntersectionObserver((entries) => { for (const entry of entries) { if (entry.isIntersecting) { resolve(); observer.disconnect(); return; } } }, {rootMargin: \"1000px\"}); window.setTimeout(() => { observer.observe(root); }, 0); }); root.state.deferring = false; const _insertNode = (node) => { for (let oldScript of node.querySelectorAll(\"script\")) { let newScript = document.createElement(\"script\"); newScript.type = oldScript.type; newScript.textContent = oldScript.textContent; oldScript.parentNode.replaceChild(newScript, oldScript); } if (root.state.loadingMsg) { root.state.loadingMsg.remove(); root.state.loadingMsg = null; } root.shadowRoot.appendChild(node); }; root.defns.insertContent = ((contentNode, compressed) => { if (compressed) { root.state.deferring = true; } if (root.state.deferring) { root.state.chain = (async () => { await root.state.chain; if (compressed) { const encoded = contentNode.textContent; const blob = new Blob([ Uint8Array.from(atob(encoded), (m) => m.codePointAt(0)) ]); const reader = blob.stream().pipeThrough( new DecompressionStream(\"deflate\") ).pipeThrough( new TextDecoderStream(\"utf-8\") ).getReader(); const parts = []; while (true) { const step = await reader.read(); if (step.done) { break; } parts.push(step.value); } const tpl = document.createElement('template'); tpl.innerHTML = parts.join(\"\"); _insertNode(tpl.content); } else { _insertNode(contentNode.content); } })(); } else { _insertNode(contentNode.content); } }); </script></treescope-run-here><div style=\"display:none\"> <script type=\"application/octet-stream\" >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</script> <treescope-run-here><script type=\"application/octet-stream\"> const root = ( Array.from(document.getElementsByClassName( \"treescope_out_f152e421b6a74c898a3d8596e9204ee4\")) .filter((elt) => !elt.dataset['step0']) )[0]; root.dataset['step0'] = 1; root.defns.insertContent( this.parentNode.querySelector('script[type=\"application/octet-stream\"]'), true ); this.parentNode.remove(); </script></treescope-run-here> </div>"
      ],
      "text/plain": [
       "<IPython.core.display.HTML object>"
      ]
     },
     "metadata": {},
     "output_type": "display_data"
    },
    {
     "data": {
      "text/html": [
       "<treescope-run-here><script type=\"application/octet-stream\"> const root = ( Array.from(document.getElementsByClassName( \"treescope_out_f152e421b6a74c898a3d8596e9204ee4\")) .filter((elt) => !elt.dataset.stolen) )[0]; root.dataset.stolen = 1; this.parentNode.replaceChild(root, this); </script></treescope-run-here>"
      ],
      "text/plain": [
       "['MLP.sublayers[0]/Affine.sublayers[0]/Linear.weights',\n",
       " 'MLP.sublayers[0]/Affine.sublayers[2]/AddBias.bias',\n",
       " 'MLP.sublayers[2]/Affine.sublayers[0]/Linear.weights',\n",
       " 'MLP.sublayers[2]/Affine.sublayers[2]/AddBias.bias',\n",
       " 'MLP.sublayers[4]/Affine.sublayers[0]/Linear.weights',\n",
       " 'MLP.sublayers[4]/Affine.sublayers[2]/AddBias.bias']"
      ]
     },
     "execution_count": 73,
     "metadata": {},
     "output_type": "execute_result"
    }
   ],
   "source": [
    "[\n",
    "  pz.pretty_keystr(key, mlp) for key in\n",
    "  pz.select(mlp).at_instances_of(pz.Parameter).selected_by_path.keys()\n",
    "]"
   ]
  },
  {
   "cell_type": "code",
   "execution_count": null,
   "metadata": {
    "id": "2FQPmfO2Nyof"
   },
   "outputs": [],
   "source": []
  }
 ],
 "metadata": {
  "colab": {
   "name": "Selectors and selections",
   "toc_visible": true
  },
  "kernelspec": {
   "display_name": "Python 3",
   "name": "python3"
  },
  "language_info": {
   "codemirror_mode": {
    "name": "ipython",
    "version": 3
   },
   "file_extension": ".py",
   "mimetype": "text/x-python",
   "name": "python",
   "nbconvert_exporter": "python",
   "pygments_lexer": "ipython3",
   "version": "3.10.12"
  }
 },
 "nbformat": 4,
 "nbformat_minor": 0
}
